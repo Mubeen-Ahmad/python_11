{
 "cells": [
  {
   "cell_type": "code",
   "execution_count": 34,
   "id": "700afbed-0715-483e-bae2-bcaf1f975f81",
   "metadata": {},
   "outputs": [],
   "source": [
    "import numpy as np\n",
    "# import cv2\n",
    "from matplotlib import pyplot as plt\n",
    "\n"
   ]
  },
  {
   "cell_type": "code",
   "execution_count": null,
   "id": "4a70f741-19fa-42a1-b959-6fdb1b2aef92",
   "metadata": {},
   "outputs": [],
   "source": [
    "img = cv2.imread('tiles5.jpg')\n",
    "rows, cols, ch = img.shape  # Use shape instead of width and height\n",
    "\n",
    "# Define the size for smaller sections\n",
    "section_size = (cols // 4, rows // 4)  # Use cols and rows to get width and height\n",
    "\n",
    "# floor_points = np.float32([[1, 75], [480, 670], [300, 280], [477, 290]])\n",
    "# floor_points = np.float32([[1, 78], [480, 670], [300, 280], [500, 290]])\n",
    "floor_points = np.float32([[10, 50], [330, 450], [300, 280], [350, 291]])\n",
    "\n",
    "tile_points = np.float32([[0, 0], [section_size[0], 0], [section_size[0], section_size[1]], [0, section_size[1]]])\n",
    "\n",
    "matrix = cv2.getPerspectiveTransform(floor_points, tile_points)  # Correct the second argument\n",
    "new_img = cv2.warpPerspective(img, matrix, (cols, rows))\n",
    "\n",
    "plt.subplot(121), plt.imshow(img), plt.title('Input')\n",
    "plt.subplot(122), plt.imshow(new_img), plt.title('Output')  # Correct the subplot index\n",
    "plt.show()"
   ]
  }
 ],
 "metadata": {
  "kernelspec": {
   "display_name": "Python 3 (ipykernel)",
   "language": "python",
   "name": "python3"
  },
  "language_info": {
   "codemirror_mode": {
    "name": "ipython",
    "version": 3
   },
   "file_extension": ".py",
   "mimetype": "text/x-python",
   "name": "python",
   "nbconvert_exporter": "python",
   "pygments_lexer": "ipython3",
   "version": "3.10.12"
  }
 },
 "nbformat": 4,
 "nbformat_minor": 5
}

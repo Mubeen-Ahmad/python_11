{
 "cells": [
  {
   "cell_type": "markdown",
   "id": "2914a9ae-ccf3-4350-974c-273d2da6b3cd",
   "metadata": {},
   "source": [
    "<h1 style=\"text-align:center; color:#005bbd; font-size:50px; font-family:Sans-serif; font-style: oblique; text-shadow: 0 0 3px white, 0 0 1px Black;\">Sql</h1>\n"
   ]
  },
  {
   "cell_type": "markdown",
   "id": "7fa6d7af-50f3-4c67-9fe3-270049df1fbb",
   "metadata": {},
   "source": [
    "<div style=\"text-align:justify; color:black; font-size:30px; font-family:Sans-serif; font-style: oblique; text-shadow: 0 0 3px white, 0 0 1px black;\">\n",
    "<br>\n",
    "<p style=\"text-align:justify; font-size:25px\">Sql (Structured Query Language) is a programming language used for manage and manipulating data in relational databases<br>It allows you to insert, update, retrieve, and delete data in a database<br>It is widely used for data management in many applications, websites, and businesses.<br>In simple terms, SQL is used to communicate eith with and control databases</p>\n",
    "<br><br>\n",
    "Types of Sql Commands<br>\n",
    "<br><img style=\"display: block;margin-left: auto;margin-right: auto;width: 60%; \" src=\"./sql_images/commands_type.jpg\">\n",
    "</div>"
   ]
  },
  {
   "cell_type": "markdown",
   "id": "89bfcc69-5df9-4ae8-a454-99da922aca1d",
   "metadata": {},
   "source": [
    "<h1 style=\"text-align:left; color:#005bbd; font-size:30px; font-family:Sans-serif; font-style: oblique; text-shadow: 0 0 3px white, 0 0 1px Black;\">Data Definition Commands (DDL)</h1>\n"
   ]
  },
  {
   "cell_type": "markdown",
   "id": "7d883c6a-3083-40d1-91be-82df1a25495a",
   "metadata": {},
   "source": [
    "<br>\n",
    "<p style=\"text-align:justify; font-size:25px; font-family:Sans-serif; font-style: oblique; text-shadow: 0 0 3px white, 0 0 1px Black;\">DDL stands for Data Definition Language.<br>It is a subset of SQL (Structured Query Language) that is used to define and manage the structure of a database. DDL commands are responsible for creating, modifying, and deleting database objects</p>\n"
   ]
  },
  {
   "cell_type": "code",
   "execution_count": 58,
   "id": "bcf83d14-f979-403f-a714-833ef0ca0ff0",
   "metadata": {},
   "outputs": [],
   "source": [
    "import mysql.connector\n",
    "\n",
    "db = mysql.connector.connect(\n",
    "    \n",
    "    host=\"localhost\",\n",
    "    port=3307,\n",
    "    user=\"root\",\n",
    "    password=\"\",\n",
    "\n",
    ")"
   ]
  },
  {
   "cell_type": "code",
   "execution_count": 59,
   "id": "9dbf24f2-af50-456d-8c54-000105a049ae",
   "metadata": {},
   "outputs": [],
   "source": [
    "db.connect() # conneted"
   ]
  },
  {
   "cell_type": "code",
   "execution_count": 60,
   "id": "078c03fd-a6f9-4abb-ba65-c3231461f662",
   "metadata": {},
   "outputs": [],
   "source": [
    "cursor = db.cursor() # pointer"
   ]
  },
  {
   "cell_type": "markdown",
   "id": "ce5b6c14-2a67-475b-b84b-358edddd9a7b",
   "metadata": {},
   "source": [
    "<div style=\"text-align:justify; color:black; font-size:30px; font-family:Sans-serif; font-style: oblique; text-shadow: 0 0 3px white, 0 0 1px black;\">\n",
    "<br>\n",
    "<h3 style=\"color:#005bbd; font-size:25px;\">Show DataBase\n",
    "</h3><br>\n",
    "<h3 style=\"color:red; font-size:35px;\">SHOW DATABASES</h3>\n"
   ]
  },
  {
   "cell_type": "code",
   "execution_count": 125,
   "id": "0ab84b85-2d3f-4c22-a041-ae7fbb0de4f2",
   "metadata": {},
   "outputs": [
    {
     "name": "stdout",
     "output_type": "stream",
     "text": [
      "('DDL',)\n",
      "('campusx',)\n",
      "('csv_data',)\n",
      "('information_schema',)\n",
      "('login',)\n",
      "('mydatabase',)\n",
      "('mydb',)\n",
      "('mysql',)\n",
      "('newdb',)\n",
      "('performance_schema',)\n",
      "('phpmyadmin',)\n",
      "('tempdata',)\n",
      "('test',)\n",
      "('testing',)\n"
     ]
    }
   ],
   "source": [
    "cursor.execute(\"SHOW DATABASES\")\n",
    "\n",
    "for i in cursor.fetchall():\n",
    "    print(i)"
   ]
  },
  {
   "cell_type": "markdown",
   "id": "e9953394-8867-41e7-b57e-282a07470830",
   "metadata": {},
   "source": [
    "<div style=\"text-align:justify; color:black; font-size:30px; font-family:Sans-serif; font-style: oblique; text-shadow: 0 0 3px white, 0 0 1px black;\">\n",
    "<br>\n",
    "<h3 style=\"color:#005bbd; font-size:25px;\">Create Database\n",
    "</h3><br>\n",
    "<h3 style=\"color:red; font-size:35px;\">CREATE DATABASE name IF NOT EXISTS</h3>"
   ]
  },
  {
   "cell_type": "code",
   "execution_count": 11,
   "id": "59df2d60-94c4-4b88-8f4a-3a41f2e3a19b",
   "metadata": {},
   "outputs": [],
   "source": [
    "cursor.execute(\"CREATE DATABASE IF NOT EXISTS testdb\")"
   ]
  },
  {
   "cell_type": "code",
   "execution_count": 19,
   "id": "c2cd00f8-b5d6-40a3-ace0-76261f111e54",
   "metadata": {},
   "outputs": [
    {
     "name": "stdout",
     "output_type": "stream",
     "text": [
      "('DDL',)\n",
      "('campusx',)\n",
      "('csv_data',)\n",
      "('information_schema',)\n",
      "('login',)\n",
      "('mydatabase',)\n",
      "('mydb',)\n",
      "('mysql',)\n",
      "('newdb',)\n",
      "('performance_schema',)\n",
      "('phpmyadmin',)\n",
      "('tempdata',)\n",
      "('test',)\n",
      "('testdb',)\n",
      "('testing',)\n"
     ]
    }
   ],
   "source": [
    "cursor.execute(\"SHOW DATABASES\")\n",
    "\n",
    "for i in cursor.fetchall():\n",
    "    print(i)"
   ]
  },
  {
   "cell_type": "markdown",
   "id": "a84f12a5-7b55-49ec-8e25-4df7b3583897",
   "metadata": {},
   "source": [
    "<div style=\"text-align:justify; color:black; font-size:30px; font-family:Sans-serif; font-style: oblique; text-shadow: 0 0 3px white, 0 0 1px black;\">\n",
    "<br>\n",
    "<h3 style=\"color:#005bbd; font-size:25px;\">Delete Database\n",
    "</h3><br>\n",
    "<h3 style=\"color:red; font-size:35px;\">DROP DATABASE name</h3>"
   ]
  },
  {
   "cell_type": "code",
   "execution_count": 23,
   "id": "76d85c3c-4236-48a2-bba1-5a8505394b6b",
   "metadata": {},
   "outputs": [],
   "source": [
    "cursor.execute(\"DROP DATABASE testdb\")"
   ]
  },
  {
   "cell_type": "code",
   "execution_count": 24,
   "id": "6d703715-8977-4188-9640-fac37f736165",
   "metadata": {},
   "outputs": [
    {
     "name": "stdout",
     "output_type": "stream",
     "text": [
      "('DDL',)\n",
      "('campusx',)\n",
      "('csv_data',)\n",
      "('information_schema',)\n",
      "('login',)\n",
      "('mydatabase',)\n",
      "('mydb',)\n",
      "('mysql',)\n",
      "('newdb',)\n",
      "('performance_schema',)\n",
      "('phpmyadmin',)\n",
      "('tempdata',)\n",
      "('test',)\n",
      "('testing',)\n"
     ]
    }
   ],
   "source": [
    "cursor.execute(\"SHOW DATABASES\")\n",
    "\n",
    "for i in cursor.fetchall():\n",
    "    print(i)"
   ]
  },
  {
   "cell_type": "markdown",
   "id": "85326c5c-5478-4218-bc58-5c3f504bfdea",
   "metadata": {},
   "source": [
    "<div style=\"text-align:justify; color:black; font-size:30px; font-family:Sans-serif; font-style: oblique; text-shadow: 0 0 3px white, 0 0 1px black;\">\n",
    "<br>\n",
    "<h3 style=\"color:#005bbd; font-size:25px;\">Clear Table Values in Database\n",
    "</h3><br>\n",
    "<h3 style=\"color:red; font-size:35px;\">TRUNCATE TABLE name</h3>"
   ]
  },
  {
   "cell_type": "code",
   "execution_count": 40,
   "id": "ae43ac7d-71ca-40c7-b857-194e55c28ed8",
   "metadata": {},
   "outputs": [
    {
     "name": "stdout",
     "output_type": "stream",
     "text": [
      "('users',)\n",
      "('users_info',)\n"
     ]
    }
   ],
   "source": [
    "# first show the tables\n",
    "\n",
    "cursor.execute(\"SHOW TABLES FROM DDL\")\n",
    "\n",
    "for i in cursor.fetchall():\n",
    "    print(i)"
   ]
  },
  {
   "cell_type": "code",
   "execution_count": 41,
   "id": "bea869a5-21f3-4208-91a9-e99cfbb1fcce",
   "metadata": {},
   "outputs": [
    {
     "name": "stdout",
     "output_type": "stream",
     "text": [
      "('Mubeen@123', 56875)\n"
     ]
    }
   ],
   "source": [
    "# show table values\n",
    "\n",
    "cursor.execute(\"SELECT * FROM DDL.users_info\")\n",
    "for i in cursor.fetchall():\n",
    "    print(i)"
   ]
  },
  {
   "cell_type": "code",
   "execution_count": 43,
   "id": "25cf3b9d-dfa1-4752-9197-60484238a0e3",
   "metadata": {},
   "outputs": [],
   "source": [
    "cursor.execute(\"TRUNCATE TABLE DDL.users_info\")\n"
   ]
  },
  {
   "cell_type": "code",
   "execution_count": 44,
   "id": "8e9ad075-d34c-486c-b0fc-de52b327f46e",
   "metadata": {},
   "outputs": [
    {
     "name": "stdout",
     "output_type": "stream",
     "text": [
      "('users',)\n",
      "('users_info',)\n"
     ]
    }
   ],
   "source": [
    "# check table are exist ?\n",
    "\n",
    "cursor.execute(\"SHOW TABLES FROM DDL\")\n",
    "\n",
    "for i in cursor.fetchall():\n",
    "    print(i)"
   ]
  },
  {
   "cell_type": "code",
   "execution_count": 45,
   "id": "85b39fb4-b1c0-40c8-ab22-89b8a2b9d340",
   "metadata": {},
   "outputs": [],
   "source": [
    "# show table values again\n",
    "\n",
    "cursor.execute(\"SELECT * FROM DDL.users_info\")\n",
    "for i in cursor.fetchall():\n",
    "    print(i) # values are removed in the table"
   ]
  },
  {
   "cell_type": "markdown",
   "id": "b1034c3e-22ae-402e-b516-90b1359db55d",
   "metadata": {},
   "source": [
    "<div style=\"text-align:justify; color:black; font-size:30px; font-family:Sans-serif; font-style: oblique; text-shadow: 0 0 3px white, 0 0 1px black;\">\n",
    "<br>\n",
    "<h3 style=\"color:black; font-size:25px;\">So Truncate only clear the table they cant delete the table\n",
    "</h3><br>\n",
    "</div>"
   ]
  },
  {
   "cell_type": "markdown",
   "id": "066ecac3-809e-4e6d-aa71-5e91c6d1abea",
   "metadata": {},
   "source": [
    "<div style=\"text-align:justify; color:black; font-size:30px; font-family:Sans-serif; font-style: oblique; text-shadow: 0 0 3px white, 0 0 1px black;\">\n",
    "<br>\n",
    "<h3 style=\"color:#005bbd; font-size:25px;\">Delete the table\n",
    "</h3><br>\n",
    "<h3 style=\"color:red; font-size:35px;\">DROP TABLE name</h3>"
   ]
  },
  {
   "cell_type": "code",
   "execution_count": 49,
   "id": "9142ee99-ff8a-4c0f-a884-b97fcb006c6d",
   "metadata": {},
   "outputs": [],
   "source": [
    "cursor.execute(\"DROP TABLE DDL.users_info\")"
   ]
  },
  {
   "cell_type": "code",
   "execution_count": 50,
   "id": "68cc63b7-9893-4c00-85d6-dc8e51d4aca6",
   "metadata": {},
   "outputs": [
    {
     "name": "stdout",
     "output_type": "stream",
     "text": [
      "('users',)\n"
     ]
    }
   ],
   "source": [
    "# now again check tables user_info are exists\n",
    "\n",
    "cursor.execute(\"SHOW TABLES FROM DDL\")\n",
    "\n",
    "for i in cursor.fetchall():\n",
    "    print(i) # so user_info table are delected"
   ]
  },
  {
   "cell_type": "markdown",
   "id": "e4a7c3d0-2b18-46ee-9e5b-a4bbb16a0b39",
   "metadata": {},
   "source": [
    "<h1 style=\"text-align:center; color:#005bbd; font-size:50px; font-family:Sans-serif; font-style: oblique; text-shadow: 0 0 3px white, 0 0 1px Black;\">Data Integrity</h1>\n"
   ]
  },
  {
   "cell_type": "markdown",
   "id": "22b6b66d-dcb6-4f65-bb56-fdfc6c8c6443",
   "metadata": {},
   "source": [
    "<div style=\"text-align:justify; color:black; font-size:30px; font-family:Sans-serif; font-style: oblique; text-shadow: 0 0 3px white, 0 0 1px black;\">\n",
    "<br>\n",
    "<p style=\"text-align:justify; font-size:25px\">Data integrity in databases refers to the accuracy , compleness and consists of the data stored in a database.<br> it is measures of the reliability and trustworthiness of the data and ensure that the data in a database is protected from errors, corruption, or unauthorized<br><br>There are  various methods used to ensure data integrity\n",
    "    <ul ><p style=\"color:Green;\">Constrains</p>\n",
    "        <ol><br>Constraints in databases are rules or conditions that must be met for data to inserted, updated, or deleted in a database table<br><br>They are used to enforce the integrity of the data stored in a database and to prevent data from becoming inconsistent or corrupted </ol></ul>\n",
    "<ul><p style=\"color:Green;\">Transcations</p><ol><br>\n",
    "    A Transcations is Sequence of database operations that are treated as a single unit of work\n",
    "</ol></ul>\n",
    "    <ul><p style=\"color:Green;\">Normalization</p><ol><br>Normalization is a design technique that minimizes data redundancy and ensures data consistency organizing data into separate tables</ol></ul>\n",
    "</p>\n",
    "<br><br>\n",
    "</div>"
   ]
  },
  {
   "cell_type": "markdown",
   "id": "1629d0b0-8547-4ed0-9d08-e60d766c5339",
   "metadata": {},
   "source": [
    "<div style=\"text-align:justify; color:black; font-size:20px; font-family:Sans-serif; font-style: oblique; text-shadow: 0 0 3px white, 0 0 1px black;\">\n",
    "First Learn How to Create a Table and Insert Value in the table\n",
    "</div>\n"
   ]
  },
  {
   "cell_type": "markdown",
   "id": "55e52cdd-4936-40b0-9c2e-13a49ea0a977",
   "metadata": {},
   "source": [
    "<div style=\"text-align:justify; color:black; font-size:30px; font-family:Sans-serif; font-style: oblique; text-shadow: 0 0 3px white, 0 0 1px black;\">\n",
    "<br>\n",
    "<h3 style=\"color:#005bbd; font-size:25px;\">Create a Table DataBase\n",
    "</h3><br>\n",
    "<h3 style=\"color:red; font-size:35px;\">CREATE TABLE name(col_name Type) </h3>\n"
   ]
  },
  {
   "cell_type": "code",
   "execution_count": 65,
   "id": "e2ce6fc6-a6c7-472d-b4a8-66913215693d",
   "metadata": {},
   "outputs": [
    {
     "name": "stdout",
     "output_type": "stream",
     "text": [
      "[]\n"
     ]
    }
   ],
   "source": [
    "cursor.execute(\"SHOW TABLES FROM test\")\n",
    "print(cursor.fetchall())\n",
    "# test database are empty"
   ]
  },
  {
   "cell_type": "code",
   "execution_count": 66,
   "id": "7db022b6-17ca-4e39-8017-d64ded27d53e",
   "metadata": {},
   "outputs": [],
   "source": [
    "# now create a Table\n",
    "cursor.execute(\"CREATE TABLE test.users(NAME VARCHAR(255))\") # VARCHAR(255) is a Str datatype and 255 is a max length "
   ]
  },
  {
   "cell_type": "code",
   "execution_count": 67,
   "id": "3ae61b2c-f112-4d24-b818-c126ff55fed9",
   "metadata": {},
   "outputs": [
    {
     "name": "stdout",
     "output_type": "stream",
     "text": [
      "[('users',)]\n"
     ]
    }
   ],
   "source": [
    "cursor.execute(\"SHOW TABLES FROM test\")\n",
    "print(cursor.fetchall())\n",
    "# check again table"
   ]
  },
  {
   "cell_type": "markdown",
   "id": "fae58757-71a5-434f-8a78-1bb9ade9cee6",
   "metadata": {},
   "source": [
    "<div style=\"text-align:justify; color:black; font-size:30px; font-family:Sans-serif; font-style: oblique; text-shadow: 0 0 3px white, 0 0 1px black;\">\n",
    "<br>\n",
    "<h3 style=\"color:#005bbd; font-size:25px;\">Insert Value in a Table\n",
    "</h3><br>\n",
    "<h3 style=\"color:red; font-size:35px;\">INSERT INTO name(col_name) VALUES (value) </h3>\n"
   ]
  },
  {
   "cell_type": "code",
   "execution_count": 77,
   "id": "4b1b75ea-76bd-4091-aa77-a0625a69b543",
   "metadata": {},
   "outputs": [],
   "source": [
    "cursor.execute(\"INSERT INTO test.users(NAME) VALUES ('Mubeen')\")"
   ]
  },
  {
   "cell_type": "markdown",
   "id": "cbabf6ad-b384-4864-9c8a-a2ef212156a5",
   "metadata": {},
   "source": [
    "<div style=\"text-align:justify; color:black; font-size:30px; font-family:Sans-serif; font-style: oblique; text-shadow: 0 0 3px white, 0 0 1px black;\">\n",
    "<br>\n",
    "<h3 style=\"color:#005bbd; font-size:25px;\">Show Table data\n",
    "</h3><br>\n",
    "<h3 style=\"color:red; font-size:35px;\">SELECT * FROM name </h3>\n"
   ]
  },
  {
   "cell_type": "code",
   "execution_count": 78,
   "id": "5e0b2882-eca7-47d7-a47e-c32858c5cd37",
   "metadata": {},
   "outputs": [
    {
     "name": "stdout",
     "output_type": "stream",
     "text": [
      "('Mubeen',)\n"
     ]
    }
   ],
   "source": [
    "cursor.execute(\"SELECT * FROM test.users\")\n",
    "\n",
    "for i in cursor.fetchall():\n",
    "    print(i)"
   ]
  },
  {
   "cell_type": "code",
   "execution_count": 79,
   "id": "ad7b4b88-a266-4e34-948f-d1ab665ccf5e",
   "metadata": {},
   "outputs": [],
   "source": [
    "# insert multiple values\n",
    "\n",
    "query = \"\"\"\n",
    "INSERT INTO test.users(NAME) VALUES \n",
    "('ALI'),\n",
    "('Imran'),\n",
    "('Faizan') \n",
    "\"\"\"\n",
    "\n",
    "cursor.execute(query)"
   ]
  },
  {
   "cell_type": "code",
   "execution_count": 80,
   "id": "d7e11a9b-3bc3-4d40-83b9-99dcb6312f2a",
   "metadata": {},
   "outputs": [
    {
     "name": "stdout",
     "output_type": "stream",
     "text": [
      "('Mubeen',)\n",
      "('ALI',)\n",
      "('Imran',)\n",
      "('Faizan',)\n"
     ]
    }
   ],
   "source": [
    "# check values\n",
    "cursor.execute(\"SELECT * FROM test.users\")\n",
    "\n",
    "for i in cursor.fetchall():\n",
    "    print(i)"
   ]
  },
  {
   "cell_type": "markdown",
   "id": "53273241-ffe2-4821-b8de-fe1346bc2de2",
   "metadata": {},
   "source": [
    "<h1 style=\"text-align:left; color:#005bbd; font-size:50px; font-family:Sans-serif; font-style: oblique; text-shadow: 0 0 3px white, 0 0 1px Black;\">NOT NULL</h1>\n"
   ]
  },
  {
   "cell_type": "markdown",
   "id": "f002026e-3649-422c-bbcc-57418eaa7064",
   "metadata": {},
   "source": [
    "<div style=\"text-align:justify; color:black; font-size:25px; font-family:Sans-serif; font-style: oblique; text-shadow: 0 0 3px white, 0 0 1px black;\"> Not NULL means user cant skip the data</div>\n"
   ]
  },
  {
   "cell_type": "code",
   "execution_count": 83,
   "id": "34f601a5-37ab-4080-8f3a-affe444ce9e8",
   "metadata": {},
   "outputs": [],
   "source": [
    "# create a new table\n",
    "\n",
    "query = \"\"\"\n",
    "CREATE TABLE test.users2(\n",
    "\n",
    "        user_name VARCHAR(255),\n",
    "        user_id INTEGER NOT NULL\n",
    ")\n",
    "\n",
    "\"\"\"\n",
    "cursor.execute(query)"
   ]
  },
  {
   "cell_type": "code",
   "execution_count": 84,
   "id": "300e02f3-f4c1-40ef-b555-ab58b60f9065",
   "metadata": {},
   "outputs": [],
   "source": [
    "# now fill value\n",
    "query = \"\"\"\n",
    "INSERT INTO test.users2 (user_name,user_id) VALUES\n",
    "\n",
    "        ('Mubeen',1),\n",
    "        ('ALi',2)\n",
    "\n",
    "\"\"\"\n",
    "cursor.execute(query)"
   ]
  },
  {
   "cell_type": "code",
   "execution_count": 85,
   "id": "3da661f7-c206-409e-b200-a06014522a65",
   "metadata": {},
   "outputs": [
    {
     "name": "stdout",
     "output_type": "stream",
     "text": [
      "('Mubeen', 1)\n",
      "('ALi', 2)\n"
     ]
    }
   ],
   "source": [
    "# show value\n",
    "cursor.execute(\"SELECT * FROM test.users2\")\n",
    "\n",
    "for i in cursor.fetchall():\n",
    "    print(i)"
   ]
  },
  {
   "cell_type": "markdown",
   "id": "bf8a5330-a95e-457d-aff1-cf509636c076",
   "metadata": {},
   "source": [
    "<div style=\"text-align:justify; color:black; font-size:25px; font-family:Sans-serif; font-style: oblique; text-shadow: 0 0 3px white, 0 0 1px black;\"> Now try to skip user_id</div>\n"
   ]
  },
  {
   "cell_type": "code",
   "execution_count": 91,
   "id": "2675c643-2609-4887-866d-1ce7b5feade8",
   "metadata": {},
   "outputs": [
    {
     "name": "stdout",
     "output_type": "stream",
     "text": [
      "1364 (HY000): Field 'user_id' doesn't have a default value\n"
     ]
    }
   ],
   "source": [
    "# now fill value\n",
    "query = \"\"\"\n",
    "INSERT INTO test.users2 (user_name) VALUES\n",
    "\n",
    "        ('rizwan')\n",
    "\n",
    "\"\"\"\n",
    "try:\n",
    "    cursor.execute(query)\n",
    "except Exception as e:\n",
    "    print(e)"
   ]
  },
  {
   "cell_type": "markdown",
   "id": "fe651b8f-9790-4182-a07d-9fd07ae789ef",
   "metadata": {},
   "source": [
    "<div style=\"text-align:justify; color:black; font-size:25px; font-family:Sans-serif; font-style: oblique; text-shadow: 0 0 3px white, 0 0 1px black;\"> Now try to skip user_name bcz i cant set NOT NULL on user_name</div>\n"
   ]
  },
  {
   "cell_type": "code",
   "execution_count": 93,
   "id": "00c04979-8df3-4e17-b77a-cd52f7f3d634",
   "metadata": {},
   "outputs": [],
   "source": [
    "# now fill value\n",
    "query = \"\"\"\n",
    "INSERT INTO test.users2 (user_id) VALUES\n",
    "\n",
    "        (3),\n",
    "        (4)\n",
    "\n",
    "\"\"\"\n",
    "cursor.execute(query)"
   ]
  },
  {
   "cell_type": "code",
   "execution_count": 94,
   "id": "e343d320-aa40-45cc-b36f-072fa00a7d6f",
   "metadata": {},
   "outputs": [
    {
     "name": "stdout",
     "output_type": "stream",
     "text": [
      "('Mubeen', 1)\n",
      "('ALi', 2)\n",
      "(None, 3)\n",
      "(None, 4)\n"
     ]
    }
   ],
   "source": [
    "# check values\n",
    "\n",
    "cursor.execute(\"SELECT * FROM test.users2\")\n",
    "\n",
    "for i in cursor.fetchall():\n",
    "    print(i) "
   ]
  },
  {
   "cell_type": "markdown",
   "id": "13223512-7bf7-48fa-9579-9da337b99329",
   "metadata": {},
   "source": [
    "<div style=\"text-align:justify; color:black; font-size:25px; font-family:Sans-serif; font-style: oblique; text-shadow: 0 0 3px white, 0 0 1px black;\">in python NULL values are represent with None</div>\n"
   ]
  },
  {
   "cell_type": "markdown",
   "id": "16f5426e-701f-4486-b23d-76e6bf198972",
   "metadata": {},
   "source": [
    "<h1 style=\"text-align:left; color:#005bbd; font-size:50px; font-family:Sans-serif; font-style: oblique; text-shadow: 0 0 3px white, 0 0 1px Black;\">UNIQUE</h1>\n"
   ]
  },
  {
   "cell_type": "markdown",
   "id": "ba7cc4be-13b4-47b2-a1d8-605b7116a4b9",
   "metadata": {},
   "source": [
    "<div style=\"text-align:justify; color:black; font-size:25px; font-family:Sans-serif; font-style: oblique; text-shadow: 0 0 3px white, 0 0 1px black;\">unique checks the value are cant match with previous data</div>\n"
   ]
  },
  {
   "cell_type": "code",
   "execution_count": 95,
   "id": "b2cd4a51-4749-4ed3-b80b-2809f3ee3ccd",
   "metadata": {},
   "outputs": [],
   "source": [
    "# create a new table\n",
    "\n",
    "query = \"\"\"\n",
    "CREATE TABLE test.users3(\n",
    "\n",
    "        user_name VARCHAR(255) UNIQUE,\n",
    "        user_id INTEGER NOT NULL\n",
    ")\n",
    "\n",
    "\"\"\"\n",
    "cursor.execute(query)"
   ]
  },
  {
   "cell_type": "code",
   "execution_count": 99,
   "id": "9c20b6da-c73e-42f5-86a9-e9e31a00f224",
   "metadata": {},
   "outputs": [],
   "source": [
    "# now fill value\n",
    "query = \"\"\"\n",
    "INSERT INTO test.users3 (user_name,user_id) VALUES\n",
    "\n",
    "        ('mubeen@xyz',1)\n",
    "\"\"\"\n",
    "cursor.execute(query)"
   ]
  },
  {
   "cell_type": "code",
   "execution_count": 100,
   "id": "f644e659-ce8d-4f2c-998b-2fb1f1ddd1b6",
   "metadata": {},
   "outputs": [
    {
     "name": "stdout",
     "output_type": "stream",
     "text": [
      "('mubeen@xyz', 1)\n"
     ]
    }
   ],
   "source": [
    "# check values\n",
    "\n",
    "cursor.execute(\"SELECT * FROM test.users3\")\n",
    "\n",
    "for i in cursor.fetchall():\n",
    "    print(i) "
   ]
  },
  {
   "cell_type": "markdown",
   "id": "78a76b31-a6fc-4dd9-bfbf-f81bb860c5d4",
   "metadata": {},
   "source": [
    "<div style=\"text-align:justify; color:black; font-size:25px; font-family:Sans-serif; font-style: oblique; text-shadow: 0 0 3px white, 0 0 1px black;\">Now try to add same user_name</div>\n"
   ]
  },
  {
   "cell_type": "code",
   "execution_count": 101,
   "id": "d3401e13-9f50-48e3-b2d0-7c928e758dea",
   "metadata": {},
   "outputs": [
    {
     "name": "stdout",
     "output_type": "stream",
     "text": [
      "1062 (23000): Duplicate entry 'mubeen@xyz' for key 'user_name'\n"
     ]
    }
   ],
   "source": [
    "# now fill value\n",
    "query = \"\"\"\n",
    "INSERT INTO test.users3 (user_name,user_id) VALUES\n",
    "\n",
    "        ('mubeen@xyz',2)\n",
    "\n",
    "\"\"\"\n",
    "try:\n",
    "    cursor.execute(query)\n",
    "except Exception as e:\n",
    "    print(e)"
   ]
  },
  {
   "cell_type": "code",
   "execution_count": 102,
   "id": "c2a5ae4a-0d00-4572-bd0f-25f4e11e6333",
   "metadata": {},
   "outputs": [],
   "source": [
    "# now insert unique user_name\n",
    "query = \"\"\"\n",
    "INSERT INTO test.users3 (user_name,user_id) VALUES\n",
    "\n",
    "        ('mubeen123@xyz',1)\n",
    "\"\"\"\n",
    "cursor.execute(query)"
   ]
  },
  {
   "cell_type": "code",
   "execution_count": 103,
   "id": "2df8181f-4e4d-4256-9dad-97fc96622a6c",
   "metadata": {},
   "outputs": [
    {
     "name": "stdout",
     "output_type": "stream",
     "text": [
      "('mubeen@xyz', 1)\n",
      "('mubeen123@xyz', 1)\n"
     ]
    }
   ],
   "source": [
    "# check values\n",
    "\n",
    "cursor.execute(\"SELECT * FROM test.users3\")\n",
    "\n",
    "for i in cursor.fetchall():\n",
    "    print(i) "
   ]
  },
  {
   "cell_type": "markdown",
   "id": "c0746243-6940-44b4-ac67-641059d1ba51",
   "metadata": {},
   "source": [
    "<h1 style=\"text-align:left; color:#005bbd; font-size:50px; font-family:Sans-serif; font-style: oblique; text-shadow: 0 0 3px white, 0 0 1px Black;\">PRIMARY KEY AUTO_INCREMENT</h1>\n"
   ]
  },
  {
   "cell_type": "markdown",
   "id": "e001e723-5cfb-44cd-a77c-ef3757535777",
   "metadata": {},
   "source": [
    "<div style=\"text-align:justify; color:black; font-size:25px; font-family:Sans-serif; font-style: oblique; text-shadow: 0 0 3px white, 0 0 1px black;\">Auto increment auto change the value  of integer data<br>Auto increment working with primary key<br><br>We Dont Need to use UNIQUE with AUTO INCREMENT</div>\n"
   ]
  },
  {
   "cell_type": "code",
   "execution_count": 104,
   "id": "3cecf5d9-2a42-47c0-89b2-68247736a59f",
   "metadata": {},
   "outputs": [],
   "source": [
    "# create a new table\n",
    "\n",
    "query = \"\"\"\n",
    "CREATE TABLE test.users4(\n",
    "\n",
    "        user_name VARCHAR(255) UNIQUE, \n",
    "        user_id INTEGER PRIMARY KEY AUTO_INCREMENT\n",
    ")\n",
    "\n",
    "\"\"\"\n",
    "cursor.execute(query)"
   ]
  },
  {
   "cell_type": "code",
   "execution_count": 106,
   "id": "e4df2f88-3824-47cf-a086-1c0fcce3536f",
   "metadata": {},
   "outputs": [],
   "source": [
    "# now fill value\n",
    "query = \"\"\"\n",
    "INSERT INTO test.users4 (user_name) VALUES\n",
    "    ('Mubeen'),('Ali'),('Fahad')\n",
    "\n",
    "\"\"\"\n",
    "cursor.execute(query)"
   ]
  },
  {
   "cell_type": "code",
   "execution_count": 108,
   "id": "837d2c32-47d2-4cdb-ae00-0774f7315efd",
   "metadata": {},
   "outputs": [
    {
     "name": "stdout",
     "output_type": "stream",
     "text": [
      "('Ali', 2)\n",
      "('Fahad', 3)\n",
      "('Mubeen', 1)\n"
     ]
    }
   ],
   "source": [
    "# check values\n",
    "\n",
    "cursor.execute(\"SELECT * FROM test.users4\")\n",
    "\n",
    "for i in cursor.fetchall():\n",
    "    print(i)  # user_id are auto updated"
   ]
  },
  {
   "cell_type": "markdown",
   "id": "e591da29-ebbb-4135-beb7-d5f64c28f661",
   "metadata": {},
   "source": [
    "<h1 style=\"text-align:left; color:#005bbd; font-size:50px; font-family:Sans-serif; font-style: oblique; text-shadow: 0 0 3px white, 0 0 1px Black;\">DEFAULT</h1>\n"
   ]
  },
  {
   "cell_type": "markdown",
   "id": "05cabbbc-5215-4ac2-a595-a662ed46cde9",
   "metadata": {},
   "source": [
    "<div style=\"text-align:justify; color:black; font-size:25px; font-family:Sans-serif; font-style: oblique; text-shadow: 0 0 3px white, 0 0 1px black;\">Default are used for set a Default value if the user can't add a value</div>\n"
   ]
  },
  {
   "cell_type": "code",
   "execution_count": 113,
   "id": "8c86c70b-55ef-47ab-a401-852acb5a5df8",
   "metadata": {},
   "outputs": [],
   "source": [
    "# create a new table\n",
    "\n",
    "query = \"\"\"\n",
    "CREATE TABLE test.users6(\n",
    "\n",
    "        user_name VARCHAR(255) UNIQUE, \n",
    "        user_id INTEGER PRIMARY KEY AUTO_INCREMENT,       \n",
    "        status VARCHAR(255) DEFAULT 'Not provied',\n",
    "        created_time TIMESTAMP DEFAULT CURRENT_TIMESTAMP \n",
    ")\n",
    "\n",
    "\"\"\"\n",
    "cursor.execute(query)"
   ]
  },
  {
   "cell_type": "markdown",
   "id": "39f31559-03e5-429a-97c8-64b251c6ac90",
   "metadata": {},
   "source": [
    "<div style=\"text-align:justify; color:black; font-size:25px; font-family:Sans-serif; font-style: oblique; text-shadow: 0 0 3px white, 0 0 1px black;\">here TIMESTAMP is the data type </div>\n"
   ]
  },
  {
   "cell_type": "code",
   "execution_count": 115,
   "id": "ce898bde-5e19-4471-ab96-771c87d7a6c8",
   "metadata": {},
   "outputs": [],
   "source": [
    "# now fill value\n",
    "query = \"\"\"\n",
    "INSERT INTO test.users6 (user_name) VALUES\n",
    "    ('Mubeen'),('Ali')\n",
    "\"\"\"\n",
    "cursor.execute(query)"
   ]
  },
  {
   "cell_type": "code",
   "execution_count": 116,
   "id": "8787e733-062f-4d68-808b-9a338fad77ae",
   "metadata": {},
   "outputs": [
    {
     "name": "stdout",
     "output_type": "stream",
     "text": [
      "('Mubeen', 1, 'Not provied', datetime.datetime(2023, 12, 18, 1, 22, 9))\n",
      "('Ali', 2, 'Not provied', datetime.datetime(2023, 12, 18, 1, 22, 9))\n"
     ]
    }
   ],
   "source": [
    "# check values\n",
    "\n",
    "cursor.execute(\"SELECT * FROM test.users6\")\n",
    "\n",
    "for i in cursor.fetchall():\n",
    "    print(i)  # user_id are auto updated"
   ]
  },
  {
   "cell_type": "code",
   "execution_count": 117,
   "id": "f2fffbbc-8282-41d0-b0c2-82f2fb77c318",
   "metadata": {},
   "outputs": [],
   "source": [
    "# now fill status\n",
    "query = \"\"\"\n",
    "INSERT INTO test.users6 (user_name,status) VALUES\n",
    "    ('Zain','OK')\n",
    "\"\"\"\n",
    "cursor.execute(query)"
   ]
  },
  {
   "cell_type": "code",
   "execution_count": 118,
   "id": "f0d05231-a20c-4877-8267-47fd07d2ff81",
   "metadata": {},
   "outputs": [
    {
     "name": "stdout",
     "output_type": "stream",
     "text": [
      "('Mubeen', 1, 'Not provied', datetime.datetime(2023, 12, 18, 1, 22, 9))\n",
      "('Ali', 2, 'Not provied', datetime.datetime(2023, 12, 18, 1, 22, 9))\n",
      "('Zain', 3, 'OK', datetime.datetime(2023, 12, 18, 1, 23, 6))\n"
     ]
    }
   ],
   "source": [
    "# check values\n",
    "\n",
    "cursor.execute(\"SELECT * FROM test.users6\")\n",
    "\n",
    "for i in cursor.fetchall():\n",
    "    print(i)  # user_id are auto updated"
   ]
  },
  {
   "cell_type": "markdown",
   "id": "efb1db1d-ef25-40f2-9518-8345fd1744a8",
   "metadata": {},
   "source": [
    "<h1 style=\"text-align:left; color:#005bbd; font-size:50px; font-family:Sans-serif; font-style: oblique; text-shadow: 0 0 3px white, 0 0 1px Black;\">CHECK</h1>\n"
   ]
  },
  {
   "cell_type": "markdown",
   "id": "0b9a2a5d-c8e0-4400-8e8c-658fe1222352",
   "metadata": {},
   "source": [
    "<div style=\"text-align:justify; color:black; font-size:25px; font-family:Sans-serif; font-style: oblique; text-shadow: 0 0 3px white, 0 0 1px black;\">Check used to apply a specfic Condition</div>\n"
   ]
  },
  {
   "cell_type": "code",
   "execution_count": 119,
   "id": "ed82af0e-1114-40be-9b47-facb78a286a6",
   "metadata": {},
   "outputs": [],
   "source": [
    "# create a new table\n",
    "\n",
    "query = \"\"\"\n",
    "CREATE TABLE test.users7(\n",
    "\n",
    "        user_name VARCHAR(255) UNIQUE,\n",
    "        age INTEGER CHECK(age > 12)\n",
    ")\n",
    "\n",
    "\"\"\"\n",
    "cursor.execute(query)"
   ]
  },
  {
   "cell_type": "markdown",
   "id": "897103d5-eb18-4ee7-be5d-7fe1d78cd4be",
   "metadata": {},
   "source": [
    "<div style=\"text-align:justify; color:black; font-size:25px; font-family:Sans-serif; font-style: oblique; text-shadow: 0 0 3px white, 0 0 1px black;\">Now age must be greater than 12</div>\n"
   ]
  },
  {
   "cell_type": "code",
   "execution_count": 121,
   "id": "287e3e6a-a65e-4180-95fd-daef6dd96193",
   "metadata": {},
   "outputs": [
    {
     "name": "stdout",
     "output_type": "stream",
     "text": [
      "4025 (23000): CONSTRAINT `users7.age` failed for `test`.`users7`\n"
     ]
    }
   ],
   "source": [
    "query = \"\"\"\n",
    "INSERT INTO test.users7 (user_name,age) VALUES\n",
    "\n",
    "        ('usr1@xyz',12)\n",
    "\"\"\"\n",
    "try:\n",
    "    cursor.execute(query)\n",
    "except Exception as e:\n",
    "    print(e)"
   ]
  },
  {
   "cell_type": "markdown",
   "id": "071017e7-03fe-453b-aae5-082e58376c37",
   "metadata": {},
   "source": [
    "<div style=\"text-align:justify; color:black; font-size:25px; font-family:Sans-serif; font-style: oblique; text-shadow: 0 0 3px white, 0 0 1px black;\">Now try to add age greater than 12</div>\n"
   ]
  },
  {
   "cell_type": "code",
   "execution_count": 122,
   "id": "a0952489-bf67-4553-aadc-95e15a45068b",
   "metadata": {},
   "outputs": [],
   "source": [
    "query = \"\"\"\n",
    "INSERT INTO test.users7 (user_name,age) VALUES\n",
    "\n",
    "        ('usr1@xyz',13)\n",
    "\"\"\"\n",
    "cursor.execute(query)"
   ]
  },
  {
   "cell_type": "code",
   "execution_count": 123,
   "id": "66600473-2a7c-4187-ac1a-6bd6034970f1",
   "metadata": {},
   "outputs": [
    {
     "name": "stdout",
     "output_type": "stream",
     "text": [
      "('usr1@xyz', 13)\n"
     ]
    }
   ],
   "source": [
    "# check values\n",
    "\n",
    "cursor.execute(\"SELECT * FROM test.users7\")\n",
    "\n",
    "for i in cursor.fetchall():\n",
    "    print(i) "
   ]
  },
  {
   "cell_type": "markdown",
   "id": "2385c5cf-5355-4d8d-8824-232cc01fa5c9",
   "metadata": {},
   "source": [
    "<hr>\n",
    "<div style=\"text-align:justify; color:black; font-size:25px; font-family:Sans-serif; font-style: oblique; text-shadow: 0 0 3px white, 0 0 1px black;\">Commands\n",
    "\n",
    "<ul>SHOW DATABASES</ul>\n",
    "<ul>SHOW TABLE FROM name</ul>\n",
    "<ul>CREATE DATABASE IF NOT EXISTS name</ul>\n",
    "<ul>CREATE DATABASE name</ul>\n",
    "<ul>DROP DATABASE name</ul>\n",
    "<ul>DROP TABLE name</ul>\n",
    "<ul>TRUNCATE TABLE name</ul>\n",
    "<ul>NOT NULL</ul>\n",
    "<ul>UNIQUE</ul>\n",
    "<ul>DEFAULT</ul>\n",
    "<ul>PRIMARY KEY AUTO_INCREMENT</ul>\n",
    "<ul>CHECK</ul>\n",
    "</div>"
   ]
  }
 ],
 "metadata": {
  "kernelspec": {
   "display_name": "Python 3 (ipykernel)",
   "language": "python",
   "name": "python3"
  },
  "language_info": {
   "codemirror_mode": {
    "name": "ipython",
    "version": 3
   },
   "file_extension": ".py",
   "mimetype": "text/x-python",
   "name": "python",
   "nbconvert_exporter": "python",
   "pygments_lexer": "ipython3",
   "version": "3.10.12"
  }
 },
 "nbformat": 4,
 "nbformat_minor": 5
}

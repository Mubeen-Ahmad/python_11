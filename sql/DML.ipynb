{
 "cells": [
  {
   "cell_type": "markdown",
   "id": "3bf74576-fff8-4d50-a201-e212023ccb18",
   "metadata": {},
   "source": [
    "<h1 style=\"text-align:center; color:#005bbd; font-size:50px; font-family:Sans-serif; font-style: oblique; text-shadow: 0 0 3px white, 0 0 1px Black;\">DML</h1>\n"
   ]
  },
  {
   "cell_type": "markdown",
   "id": "7e52bb23-1795-4d45-9dcb-9fc36e5815b7",
   "metadata": {},
   "source": [
    "<div style=\"text-align:justify; color:black; font-size:30px; font-family:Sans-serif; font-style: oblique; text-shadow: 0 0 3px white, 0 0 1px black;\">\n",
    "<br>\n",
    "<p style=\"text-align:justify; font-size:25px\">DML stands for \"Data Manipulation Language\" and it is a subset of SQL (Structured Query Language) that is used for manipulating data stored in a relational database. <br>DML is responsible for performing operations on the data itself, such as inserting, updating, and deleting records. </p>\n",
    "<br><br>\n",
    "Types of Sql Commands<br>\n",
    "<br><img style=\"display: block;margin-left: auto;margin-right: auto;width: 60%; \" src=\"./sql_images/commands_type.jpg\">\n",
    "</div>"
   ]
  },
  {
   "cell_type": "code",
   "execution_count": 1,
   "id": "2978cecd-5fc3-46e9-8eb3-1b4164ee8a72",
   "metadata": {},
   "outputs": [],
   "source": [
    "import mysql.connector\n",
    "\n",
    "db = mysql.connector.connect(\n",
    "    \n",
    "    host=\"localhost\",\n",
    "    port=3307,\n",
    "    user=\"root\",\n",
    "    password=\"\",\n",
    "\n",
    ")"
   ]
  },
  {
   "cell_type": "code",
   "execution_count": 74,
   "id": "710379cb-c97c-4eb5-95bc-75e48139f32a",
   "metadata": {},
   "outputs": [],
   "source": [
    "db.connect()"
   ]
  },
  {
   "cell_type": "code",
   "execution_count": 75,
   "id": "c131c512-1c02-4af5-b979-b44b7ffe5fb7",
   "metadata": {},
   "outputs": [],
   "source": [
    "cursor = db.cursor()"
   ]
  },
  {
   "cell_type": "code",
   "execution_count": 4,
   "id": "71d009ba-07ab-40bc-b0ad-a7745638821d",
   "metadata": {},
   "outputs": [],
   "source": [
    "# create a new database\n",
    "cursor.execute(\"CREATE DATABASE mydb\")"
   ]
  },
  {
   "cell_type": "code",
   "execution_count": 6,
   "id": "3244d625-0899-40e9-b83e-877c20e17e3a",
   "metadata": {},
   "outputs": [],
   "source": [
    "# create a table\n",
    "query = \"\"\"\n",
    "CREATE TABLE mydb.users(\n",
    "    username VARCHAR(255) UNIQUE,\n",
    "    user_id INTEGER PRIMARY KEY AUTO_INCREMENT,\n",
    "    age INTEGER,\n",
    "\n",
    "    study VARCHAR(255) DEFAULT NULL,\n",
    "    semister INTEGER DEFAULT NULL,\n",
    "\n",
    "    CONSTRAINT uage CHECK (age >= 16 AND age <= 30)\n",
    ")\n",
    "\n",
    "\"\"\"\n",
    "cursor.execute(query)"
   ]
  },
  {
   "cell_type": "code",
   "execution_count": 7,
   "id": "6a414ba4-0f55-4501-ac4e-83506defa49f",
   "metadata": {},
   "outputs": [],
   "source": [
    "# create a function for show column and values\n",
    "def show_data():\n",
    "    \n",
    "    cursor.execute(\"SHOW COLUMNS FROM mydb.users\")\n",
    "    col = [i[0] for i in cursor.fetchall()]\n",
    "    \n",
    "    cursor.execute(\"SELECT * FROM mydb.users\")\n",
    "    row = [i for i in cursor.fetchall()]\n",
    "    \n",
    "    for i in row:\n",
    "        for k,v in list(zip(col,i)):\n",
    "            print(k,\":\",v)\n",
    "        print()\n",
    "    \n",
    "\n",
    "# truncate function\n",
    "\n",
    "def clear_data():\n",
    "    cursor.execute(\"TRUNCATE TABLE mydb.users\")\n"
   ]
  },
  {
   "cell_type": "markdown",
   "id": "53950982-5444-46d4-a2aa-fb0d155c41da",
   "metadata": {},
   "source": [
    "<h1 style=\"text-align:center; color:#005bbd; font-size:50px; font-family:Sans-serif; font-style: oblique; text-shadow: 0 0 3px white, 0 0 1px Black;\">INSERT</h1>\n"
   ]
  },
  {
   "cell_type": "markdown",
   "id": "06b03705-c534-405e-af40-1815d18b772a",
   "metadata": {},
   "source": [
    "<div style=\"text-align:left; color:black; font-size:30px; font-family:Sans-serif; font-style: oblique; text-shadow: 0 0 3px white, 0 0 1px black;\">\n",
    "<br>\n",
    "<h3 style=\"color:#005bbd; font-size:25px;\">Insert Values\n",
    "</h3><br>\n",
    "<h3 style=\"color:red; font-size:25px;\">INSERT INTO name (columns..) VALUES (values..)</h3>"
   ]
  },
  {
   "cell_type": "code",
   "execution_count": 17,
   "id": "218ecdf4-614b-4c09-91f2-4e60d6a8034f",
   "metadata": {},
   "outputs": [],
   "source": [
    "query = \"\"\"\n",
    "    INSERT INTO mydb.users (username,age,study,semister)\n",
    "    VALUES ('usr1@xyz',16,'CS',3)\n",
    "\"\"\"\n",
    "cursor.execute(query)"
   ]
  },
  {
   "cell_type": "code",
   "execution_count": 18,
   "id": "b0566434-1641-4186-9006-a6632bead313",
   "metadata": {},
   "outputs": [
    {
     "name": "stdout",
     "output_type": "stream",
     "text": [
      "username : usr1@xyz\n",
      "user_id : 1\n",
      "age : 16\n",
      "study : CS\n",
      "semister : 3\n",
      "\n"
     ]
    }
   ],
   "source": [
    "show_data()"
   ]
  },
  {
   "cell_type": "markdown",
   "id": "efd0bb17-8d31-44e8-a903-144b83d30937",
   "metadata": {},
   "source": [
    "<div style=\"text-align:left; color:black; font-size:30px; font-family:Sans-serif; font-style: oblique; text-shadow: 0 0 3px white, 0 0 1px black;\">\n",
    "<br>\n",
    "<h3 style=\"color:#005bbd; font-size:25px;\">Insert Specfic Values\n",
    "</h3><br>\n",
    "<h3 style=\"color:red; font-size:25px;\">INSERT INTO name (col_1_nam) VALUES (col_1_value)</h3>"
   ]
  },
  {
   "cell_type": "code",
   "execution_count": 21,
   "id": "041a89bb-e565-45c4-8d80-9bc602a8fa6a",
   "metadata": {},
   "outputs": [],
   "source": [
    "query = \"\"\"\n",
    "    INSERT INTO mydb.users (username,study)\n",
    "    VALUES ('usr2@xyz','SE')\n",
    "\"\"\"\n",
    "cursor.execute(query)"
   ]
  },
  {
   "cell_type": "markdown",
   "id": "1eebf1ef-7d18-42ec-9ad3-e9fd9ace798e",
   "metadata": {},
   "source": [
    "<div style=\"text-align:justify; color:black; font-size:25px; font-family:Sans-serif; font-style: oblique; text-shadow: 0 0 3px white, 0 0 1px black;\">Fill only username and study</div>\n"
   ]
  },
  {
   "cell_type": "code",
   "execution_count": 22,
   "id": "714b0e49-c39f-497b-81d7-00b0a802c341",
   "metadata": {},
   "outputs": [
    {
     "name": "stdout",
     "output_type": "stream",
     "text": [
      "username : usr1@xyz\n",
      "user_id : 1\n",
      "age : 16\n",
      "study : CS\n",
      "semister : 3\n",
      "\n",
      "username : usr2@xyz\n",
      "user_id : 2\n",
      "age : None\n",
      "study : SE\n",
      "semister : None\n",
      "\n"
     ]
    }
   ],
   "source": [
    "show_data()"
   ]
  },
  {
   "cell_type": "markdown",
   "id": "d8c5dfa4-bb17-47cb-a072-2a84be9570a4",
   "metadata": {},
   "source": [
    "<div style=\"text-align:left; color:black; font-size:30px; font-family:Sans-serif; font-style: oblique; text-shadow: 0 0 3px white, 0 0 1px black;\">\n",
    "<br>\n",
    "<h3 style=\"color:#005bbd; font-size:25px;\">Insert  Values with change order\n",
    "</h3><br>\n",
    "<h3 style=\"color:red; font-size:25px;\">INSERT INTO name (col_2,col_1) VALUES (col_2_value,col_1_value)</h3>"
   ]
  },
  {
   "cell_type": "code",
   "execution_count": 23,
   "id": "996950df-ab76-4d2b-98d5-bcee5fec0a3b",
   "metadata": {},
   "outputs": [],
   "source": [
    "query = \"\"\"\n",
    "    INSERT INTO mydb.users (semister,username)\n",
    "    VALUES (4,'ali12@xyz')\n",
    "\"\"\"\n",
    "cursor.execute(query)"
   ]
  },
  {
   "cell_type": "markdown",
   "id": "0b74399b-e58f-4605-b22b-eb7c22051e96",
   "metadata": {},
   "source": [
    "<div style=\"text-align:justify; color:black; font-size:25px; font-family:Sans-serif; font-style: oblique; text-shadow: 0 0 3px white, 0 0 1px black;\">Fill only semister and username</div>\n"
   ]
  },
  {
   "cell_type": "code",
   "execution_count": 24,
   "id": "2fd4c2cc-31a0-48ea-85ba-0acc52cb505a",
   "metadata": {},
   "outputs": [
    {
     "name": "stdout",
     "output_type": "stream",
     "text": [
      "username : usr1@xyz\n",
      "user_id : 1\n",
      "age : 16\n",
      "study : CS\n",
      "semister : 3\n",
      "\n",
      "username : usr2@xyz\n",
      "user_id : 2\n",
      "age : None\n",
      "study : SE\n",
      "semister : None\n",
      "\n",
      "username : ali12@xyz\n",
      "user_id : 3\n",
      "age : None\n",
      "study : None\n",
      "semister : 4\n",
      "\n"
     ]
    }
   ],
   "source": [
    "show_data()"
   ]
  },
  {
   "cell_type": "markdown",
   "id": "f93e06f9-d23e-4abc-b9ea-8c52b53202c0",
   "metadata": {},
   "source": [
    "<div style=\"text-align:left; color:black; font-size:30px; font-family:Sans-serif; font-style: oblique; text-shadow: 0 0 3px white, 0 0 1px black;\">\n",
    "<br>\n",
    "<h3 style=\"color:#005bbd; font-size:25px;\">Insert  Values without Define columns\n",
    "</h3><br>\n",
    "<h3 style=\"color:red; font-size:25px;\">INSERT INTO name VALUES (col_1_value,col_2_value,col_2_value...)</h3>"
   ]
  },
  {
   "cell_type": "code",
   "execution_count": 27,
   "id": "5aa9d2c4-9e0e-4114-8c68-e4abee7657f1",
   "metadata": {},
   "outputs": [],
   "source": [
    "query = \"\"\"\n",
    "    INSERT INTO mydb.users\n",
    "    VALUES ('Rizwan223@xyz',99,18,'BSC',5)\n",
    "\"\"\"\n",
    "cursor.execute(query)"
   ]
  },
  {
   "cell_type": "markdown",
   "id": "9634007e-88b7-48a8-a5e0-27720229138a",
   "metadata": {},
   "source": [
    "<div style=\"text-align:justify; color:black; font-size:25px; font-family:Sans-serif; font-style: oblique; text-shadow: 0 0 3px white, 0 0 1px black;\">here 4 values username,user_id,age,study,semister<br>if we not define the columns than values filled with Default Order</div>\n"
   ]
  },
  {
   "cell_type": "code",
   "execution_count": 28,
   "id": "8cfd4ef3-5b3d-4d59-a079-bcac1a93db80",
   "metadata": {},
   "outputs": [
    {
     "name": "stdout",
     "output_type": "stream",
     "text": [
      "username : usr1@xyz\n",
      "user_id : 1\n",
      "age : 16\n",
      "study : CS\n",
      "semister : 3\n",
      "\n",
      "username : usr2@xyz\n",
      "user_id : 2\n",
      "age : None\n",
      "study : SE\n",
      "semister : None\n",
      "\n",
      "username : ali12@xyz\n",
      "user_id : 3\n",
      "age : None\n",
      "study : None\n",
      "semister : 4\n",
      "\n",
      "username : Rizwan223@xyz\n",
      "user_id : 99\n",
      "age : 18\n",
      "study : BSC\n",
      "semister : 5\n",
      "\n"
     ]
    }
   ],
   "source": [
    "show_data()"
   ]
  },
  {
   "cell_type": "code",
   "execution_count": 29,
   "id": "e4d52663-883c-4621-aba3-decdd65dc966",
   "metadata": {},
   "outputs": [],
   "source": [
    "clear_data()"
   ]
  },
  {
   "cell_type": "markdown",
   "id": "817851e9-d383-4ceb-b3f2-548e34d84527",
   "metadata": {},
   "source": [
    "<div style=\"text-align:left; color:black; font-size:30px; font-family:Sans-serif; font-style: oblique; text-shadow: 0 0 3px white, 0 0 1px black;\">\n",
    "<br>\n",
    "<h3 style=\"color:#005bbd; font-size:25px;\">Insert  Multiples Values\n",
    "</h3><br>\n",
    "<h3 style=\"color:red; font-size:25px; line-height:200%;\">INSERT INTO name(columns)<br>VALUES<br>(values),(values)...</h3>"
   ]
  },
  {
   "cell_type": "code",
   "execution_count": 60,
   "id": "14973665-55de-46e6-ac52-6ad1b284931b",
   "metadata": {},
   "outputs": [],
   "source": [
    "query = \"\"\"\n",
    "    INSERT INTO mydb.users (username,age,study,semister)\n",
    "    VALUES \n",
    "    ('Rizwan223@xyz',18,'BSC',5) ,\n",
    "    ('ali2@xyz',20,'MSC',3),\n",
    "    ('ahsan@xyz',25,'CS',2)\n",
    "\"\"\"\n",
    "cursor.execute(query)"
   ]
  },
  {
   "cell_type": "code",
   "execution_count": 61,
   "id": "18efb082-c5d4-4832-a099-311688bf0b2d",
   "metadata": {},
   "outputs": [
    {
     "name": "stdout",
     "output_type": "stream",
     "text": [
      "username : Rizwan223@xyz\n",
      "user_id : 4\n",
      "age : 18\n",
      "study : BSC\n",
      "semister : 5\n",
      "\n",
      "username : ali2@xyz\n",
      "user_id : 5\n",
      "age : 20\n",
      "study : MSC\n",
      "semister : 3\n",
      "\n",
      "username : ahsan@xyz\n",
      "user_id : 6\n",
      "age : 25\n",
      "study : CS\n",
      "semister : 2\n",
      "\n"
     ]
    }
   ],
   "source": [
    "show_data()"
   ]
  },
  {
   "cell_type": "markdown",
   "id": "a2a7c0ae-5a48-4a30-be9a-b4d04d8e0a62",
   "metadata": {},
   "source": [
    "<h1 style=\"text-align:center; color:#005bbd; font-size:50px; font-family:Sans-serif; font-style: oblique; text-shadow: 0 0 3px white, 0 0 1px Black;\">UPDATE</h1>\n"
   ]
  },
  {
   "cell_type": "markdown",
   "id": "f15d5296-27c0-4f61-994c-cd0f24ea2c0a",
   "metadata": {},
   "source": [
    "<div style=\"text-align:left; color:black; font-size:30px; font-family:Sans-serif; font-style: oblique; text-shadow: 0 0 3px white, 0 0 1px black;\">\n",
    "<br>\n",
    "<h3 style=\"color:#005bbd; font-size:25px;\">Update All Values\n",
    "</h3><br>\n",
    "<h3 style=\"color:red; font-size:25px;\">UPDATE tablename SET col_1='new_value'</h3>"
   ]
  },
  {
   "cell_type": "code",
   "execution_count": 62,
   "id": "9939f1a8-0c83-4e9d-9d4f-c33f2d59ed6a",
   "metadata": {},
   "outputs": [],
   "source": [
    "query = \"\"\"\n",
    "    UPDATE mydb.users\n",
    "    SET semister=4\n",
    "\"\"\"\n",
    "cursor.execute(query)"
   ]
  },
  {
   "cell_type": "markdown",
   "id": "fa81c2eb-4551-4f1a-b70a-7b6a2a07c526",
   "metadata": {},
   "source": [
    "<div style=\"text-align:justify; color:black; font-size:25px; font-family:Sans-serif; font-style: oblique; text-shadow: 0 0 3px white, 0 0 1px black;\">All semisters values are updated</div>\n"
   ]
  },
  {
   "cell_type": "code",
   "execution_count": 63,
   "id": "3138a356-6d49-4847-91a1-a9a70a7b3da2",
   "metadata": {},
   "outputs": [
    {
     "name": "stdout",
     "output_type": "stream",
     "text": [
      "username : Rizwan223@xyz\n",
      "user_id : 4\n",
      "age : 18\n",
      "study : BSC\n",
      "semister : 4\n",
      "\n",
      "username : ali2@xyz\n",
      "user_id : 5\n",
      "age : 20\n",
      "study : MSC\n",
      "semister : 4\n",
      "\n",
      "username : ahsan@xyz\n",
      "user_id : 6\n",
      "age : 25\n",
      "study : CS\n",
      "semister : 4\n",
      "\n"
     ]
    }
   ],
   "source": [
    "show_data()"
   ]
  },
  {
   "cell_type": "markdown",
   "id": "8c0890b7-139f-468e-83ee-76cb71ed830d",
   "metadata": {},
   "source": [
    "<div style=\"text-align:left; color:black; font-size:30px; font-family:Sans-serif; font-style: oblique; text-shadow: 0 0 3px white, 0 0 1px black;\">\n",
    "<br>\n",
    "<h3 style=\"color:#005bbd; font-size:25px;\">Update specfic Values With condition\n",
    "</h3><br>\n",
    "<h3 style=\"color:red; font-size:25px;\">UPDATE tablename SET col_1='new_value' WHERE col condition</h3>"
   ]
  },
  {
   "cell_type": "code",
   "execution_count": 64,
   "id": "e23e946e-dbc7-4ab3-a285-99822d84e2f0",
   "metadata": {},
   "outputs": [],
   "source": [
    "query = \"\"\"\n",
    "    UPDATE mydb.users\n",
    "    SET age=30\n",
    "    WHERE study = 'MSC'\n",
    "    \n",
    "\"\"\"\n",
    "cursor.execute(query)"
   ]
  },
  {
   "cell_type": "markdown",
   "id": "a4e9171c-d152-4b2c-b3a1-fa771bf65f61",
   "metadata": {},
   "source": [
    "<div style=\"text-align:justify; color:black; font-size:25px; font-family:Sans-serif; font-style: oblique; text-shadow: 0 0 3px white, 0 0 1px black;\">only update age wheres semister is MSC</div>\n"
   ]
  },
  {
   "cell_type": "code",
   "execution_count": 65,
   "id": "4ea06069-083e-42cc-b25d-d314173c8e37",
   "metadata": {},
   "outputs": [
    {
     "name": "stdout",
     "output_type": "stream",
     "text": [
      "username : Rizwan223@xyz\n",
      "user_id : 4\n",
      "age : 18\n",
      "study : BSC\n",
      "semister : 4\n",
      "\n",
      "username : ali2@xyz\n",
      "user_id : 5\n",
      "age : 30\n",
      "study : MSC\n",
      "semister : 4\n",
      "\n",
      "username : ahsan@xyz\n",
      "user_id : 6\n",
      "age : 25\n",
      "study : CS\n",
      "semister : 4\n",
      "\n"
     ]
    }
   ],
   "source": [
    "show_data()"
   ]
  },
  {
   "cell_type": "markdown",
   "id": "7ce9683b-e0c5-40e9-ac21-6fec23d3c25f",
   "metadata": {},
   "source": [
    "<div style=\"text-align:left; color:black; font-size:30px; font-family:Sans-serif; font-style: oblique; text-shadow: 0 0 3px white, 0 0 1px black;\">\n",
    "<br>\n",
    "<h3 style=\"color:#005bbd; font-size:25px;\">Update specfic Values With Multiples condition\n",
    "</h3><br>\n",
    "<h3 style=\"color:red; font-size:25px;\">UPDATE tablename SET col_1='new_value' WHERE col condition AND col condition</h3>"
   ]
  },
  {
   "cell_type": "code",
   "execution_count": 66,
   "id": "2c6ff445-69e7-4caa-893a-c3cc5a901350",
   "metadata": {},
   "outputs": [],
   "source": [
    "query = \"\"\"\n",
    "    UPDATE mydb.users\n",
    "    SET semister = 6\n",
    "    WHERE (semister = 4) AND (age >= 18) AND (age < 30)\n",
    "\"\"\"\n",
    "cursor.execute(query)"
   ]
  },
  {
   "cell_type": "markdown",
   "id": "dbff3e2e-d1cf-49b6-a1b4-5acbce34f53a",
   "metadata": {},
   "source": [
    "<div style=\"text-align:justify; color:black; font-size:25px; font-family:Sans-serif; font-style: oblique; text-shadow: 0 0 3px white, 0 0 1px black;\">only change values who's semister is 4 , age >= 18 and age < 20</div>\n"
   ]
  },
  {
   "cell_type": "code",
   "execution_count": 67,
   "id": "a1bb93ea-f15f-4841-9dc5-1e5788c6f28f",
   "metadata": {},
   "outputs": [
    {
     "name": "stdout",
     "output_type": "stream",
     "text": [
      "username : Rizwan223@xyz\n",
      "user_id : 4\n",
      "age : 18\n",
      "study : BSC\n",
      "semister : 6\n",
      "\n",
      "username : ali2@xyz\n",
      "user_id : 5\n",
      "age : 30\n",
      "study : MSC\n",
      "semister : 4\n",
      "\n",
      "username : ahsan@xyz\n",
      "user_id : 6\n",
      "age : 25\n",
      "study : CS\n",
      "semister : 6\n",
      "\n"
     ]
    }
   ],
   "source": [
    "show_data()"
   ]
  },
  {
   "cell_type": "markdown",
   "id": "442076e4-fd0f-4fba-87bc-2fb15bdf529d",
   "metadata": {},
   "source": [
    "<div style=\"text-align:left; color:black; font-size:30px; font-family:Sans-serif; font-style: oblique; text-shadow: 0 0 3px white, 0 0 1px black;\">\n",
    "<br>\n",
    "<h3 style=\"color:#005bbd; font-size:25px;\">Update Multiple columns Values\n",
    "</h3><br>\n",
    "<h3 style=\"color:red; font-size:25px;\">UPDATE tablename SET col1='value',col2='value' ..</h3>"
   ]
  },
  {
   "cell_type": "code",
   "execution_count": 68,
   "id": "d47b9af3-8188-4998-ad31-e91a422e20a3",
   "metadata": {},
   "outputs": [],
   "source": [
    "query = \"\"\"\n",
    "    UPDATE mydb.users\n",
    "    SET \n",
    "    age = 16,\n",
    "    study = 'CS',\n",
    "    semister = 0\n",
    "    \n",
    "\"\"\"\n",
    "cursor.execute(query)"
   ]
  },
  {
   "cell_type": "markdown",
   "id": "067705b3-3f8a-4fcd-8f22-d74db6784cc3",
   "metadata": {},
   "source": [
    "<div style=\"text-align:justify; color:black; font-size:25px; font-family:Sans-serif; font-style: oblique; text-shadow: 0 0 3px white, 0 0 1px black;\">here update age,study,semister only bcz user_id and username are unqiues</div>\n"
   ]
  },
  {
   "cell_type": "code",
   "execution_count": 76,
   "id": "32624a37-8de8-4548-b67a-2b4e7885cf65",
   "metadata": {},
   "outputs": [
    {
     "name": "stdout",
     "output_type": "stream",
     "text": [
      "username : Rizwan223@xyz\n",
      "user_id : 4\n",
      "age : 16\n",
      "study : CS\n",
      "semister : 0\n",
      "\n",
      "username : ali2@xyz\n",
      "user_id : 5\n",
      "age : 16\n",
      "study : CS\n",
      "semister : 0\n",
      "\n",
      "username : ahsan@xyz\n",
      "user_id : 6\n",
      "age : 16\n",
      "study : CS\n",
      "semister : 0\n",
      "\n"
     ]
    }
   ],
   "source": [
    "show_data()"
   ]
  },
  {
   "cell_type": "markdown",
   "id": "9aafd207-3506-4910-90f0-f04ca6f644a6",
   "metadata": {},
   "source": [
    "<h1 style=\"text-align:center; color:#005bbd; font-size:50px; font-family:Sans-serif; font-style: oblique; text-shadow: 0 0 3px white, 0 0 1px Black;\">DELETE</h1>\n"
   ]
  },
  {
   "cell_type": "markdown",
   "id": "da2b1979-64b3-43c0-bd79-7f34f630dae5",
   "metadata": {},
   "source": [
    "<div style=\"text-align:left; color:black; font-size:30px; font-family:Sans-serif; font-style: oblique; text-shadow: 0 0 3px white, 0 0 1px black;\">\n",
    "<br>\n",
    "<h3 style=\"color:#005bbd; font-size:25px;\">DELETE specfic Values With condition\n",
    "</h3><br>\n",
    "<h3 style=\"color:red; font-size:25px;\">DELETE FROM tablename col_1 WHERE col condition</h3>"
   ]
  },
  {
   "cell_type": "code",
   "execution_count": 79,
   "id": "ce1a9cb5-e38d-4866-a8e0-f705e6f0cb4a",
   "metadata": {},
   "outputs": [],
   "source": [
    "query = \"\"\"\n",
    "    DELETE FROM mydb.users\n",
    "    WHERE username='Rizwan223@xyz'\n",
    "\"\"\"\n",
    "cursor.execute(query)"
   ]
  },
  {
   "cell_type": "markdown",
   "id": "6a420b92-e30e-42ab-afcb-ec32e55919a8",
   "metadata": {},
   "source": [
    "<div style=\"text-align:justify; color:black; font-size:25px; font-family:Sans-serif; font-style: oblique; text-shadow: 0 0 3px white, 0 0 1px black;\">Delete data where username is Rizwan223@xyz</div>\n"
   ]
  },
  {
   "cell_type": "code",
   "execution_count": 80,
   "id": "5148b903-ba58-4e30-9948-afc2f2e7f810",
   "metadata": {},
   "outputs": [
    {
     "name": "stdout",
     "output_type": "stream",
     "text": [
      "username : ali2@xyz\n",
      "user_id : 5\n",
      "age : 16\n",
      "study : CS\n",
      "semister : 0\n",
      "\n",
      "username : ahsan@xyz\n",
      "user_id : 6\n",
      "age : 16\n",
      "study : CS\n",
      "semister : 0\n",
      "\n"
     ]
    }
   ],
   "source": [
    "show_data()"
   ]
  },
  {
   "cell_type": "markdown",
   "id": "3ce16132-3381-4a5c-b413-a1d628dd928c",
   "metadata": {},
   "source": [
    "<div style=\"text-align:left; color:black; font-size:30px; font-family:Sans-serif; font-style: oblique; text-shadow: 0 0 3px white, 0 0 1px black;\">\n",
    "<br>\n",
    "<h3 style=\"color:#005bbd; font-size:25px;\">DELETE specfic Values With multiple condition\n",
    "</h3><br>\n",
    "<h3 style=\"color:red; font-size:25px;\">DELETE FROM tablename col_1 WHERE col = condition AND col = condition</h3>"
   ]
  },
  {
   "cell_type": "code",
   "execution_count": 81,
   "id": "44887648-7963-40f4-ad4d-4158e8c969d2",
   "metadata": {},
   "outputs": [],
   "source": [
    "query = \"\"\"\n",
    "    DELETE FROM mydb.users\n",
    "    WHERE age = 16 AND user_id = 6\n",
    "\"\"\"\n",
    "cursor.execute(query)"
   ]
  },
  {
   "cell_type": "markdown",
   "id": "a89ab633-6714-4e79-9544-0b28c19bfe74",
   "metadata": {},
   "source": [
    "<div style=\"text-align:justify; color:black; font-size:25px; font-family:Sans-serif; font-style: oblique; text-shadow: 0 0 3px white, 0 0 1px black;\">Delete data where age is 16 and user_id is 6</div>\n"
   ]
  },
  {
   "cell_type": "code",
   "execution_count": 82,
   "id": "cce144ff-7ac1-49c2-ae3e-1432dfa6ce8e",
   "metadata": {},
   "outputs": [
    {
     "name": "stdout",
     "output_type": "stream",
     "text": [
      "username : ali2@xyz\n",
      "user_id : 5\n",
      "age : 16\n",
      "study : CS\n",
      "semister : 0\n",
      "\n"
     ]
    }
   ],
   "source": [
    "show_data()"
   ]
  },
  {
   "cell_type": "markdown",
   "id": "c3880211-7375-4465-9b35-9d0568e5c0e2",
   "metadata": {},
   "source": [
    "<hr>\n",
    "<div style=\"text-align:justify; color:black; font-size:25px; font-family:Sans-serif; font-style: oblique; text-shadow: 0 0 3px white, 0 0 1px black;\">Commands\n",
    "\n",
    "<ul>INSERT INTO name (columns..) VALUES (values..)</ul>\n",
    "<ul>INSERT INTO name (col_1_nam) VALUES (col_1_value)</ul>\n",
    "<ul>INSERT INTO name (col_2,col_1) VALUES (col_2_value,col_1_value)</ul>\n",
    "<ul>INSERT INTO name VALUES (col_1_value,col_2_value,col_2_value...)</ul>\n",
    "<ul>INSERT INTO name(columns)<br>VALUES<br>(values),(values)...</ul>\n",
    "<br><br>\n",
    "<ul>UPDATE tablename SET col_1='new_value'</ul>\n",
    "<ul>UPDATE tablename SET col_1='new_value' WHERE col condition</ul>\n",
    "<ul>UPDATE tablename SET col_1='new_value' WHERE col condition AND col condition</ul>\n",
    "<ul>UPDATE tablename SET col1='value',col2='value' ..</ul>\n",
    "<br><br>\n",
    "<ul>DELETE FROM tablename col_1 WHERE col condition</ul>\n",
    "<ul>DELETE FROM tablename col_1 WHERE col = condition AND col = condition</ul>\n",
    "</div>"
   ]
  }
 ],
 "metadata": {
  "kernelspec": {
   "display_name": "Python 3 (ipykernel)",
   "language": "python",
   "name": "python3"
  },
  "language_info": {
   "codemirror_mode": {
    "name": "ipython",
    "version": 3
   },
   "file_extension": ".py",
   "mimetype": "text/x-python",
   "name": "python",
   "nbconvert_exporter": "python",
   "pygments_lexer": "ipython3",
   "version": "3.10.12"
  }
 },
 "nbformat": 4,
 "nbformat_minor": 5
}

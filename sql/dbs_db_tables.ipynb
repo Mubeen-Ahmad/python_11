{
 "cells": [
  {
   "cell_type": "markdown",
   "id": "685505a1-8888-441a-adbf-be45227f572e",
   "metadata": {},
   "source": [
    "<h1 style=\"text-align:center; color:#005bbd; font-size:50px; font-family:Sans-serif; font-style: oblique; text-shadow: 0 0 3px white, 0 0 1px Black;\">DataBases Vs DataBase Vs Tables</h1>\n"
   ]
  },
  {
   "cell_type": "markdown",
   "id": "28dd21ad-b573-4553-9839-eebd2ebceed6",
   "metadata": {},
   "source": [
    "<div style=\"text-align:justify; color:black; font-size:30px; font-family:Sans-serif; font-style: oblique; text-shadow: 0 0 3px white, 0 0 1px black;\">\n",
    "<br>\n",
    "<h3 style=\"color:#005bbd;\"> Databases</h3><br>\n",
    "\n",
    "<p style=\"text-align:justify; font-size:25px\">A database is a collection of organized data that is structured and stored for easy retrieval and manipulation.<br><br>In the context of XAMPP, MySQL is often the relational database management system (RDBMS) included.<br><br>MySQL allows you to create and manage multiple databases on a single server<br>\n",
    "<br>Databases are used to store and organize related information in a structured manner</p>\n",
    "<br><br>\n",
    " All database are know as DataBases\n",
    "<br><img style=\"display: block;margin-left: auto;margin-right: auto;width: 80%; \" src=\"./sql_images/databasess.png\">\n",
    "</div>"
   ]
  },
  {
   "cell_type": "markdown",
   "id": "bac3f0bf-cd66-4761-a09f-60bba93467e8",
   "metadata": {},
   "source": [
    "<div style=\"text-align:justify; color:black; font-size:30px; font-family:Sans-serif; font-style: oblique; text-shadow: 0 0 3px white, 0 0 1px black;\">\n",
    "<br>\n",
    "<h3 style=\"color:#005bbd; font-size:25;\">Database</h3><br>\n",
    "    \n",
    "<p>In the context of a database management system like MySQL within XAMPP, a \"database\" is a specific instance or container that holds a set of related tables and other database objects<br><br>You can think of a database as a logical grouping of data, where you might have different databases for different applications or purposes.</p>\n",
    "<br><br>\n",
    "Here login is a database (single)\n",
    "<br><img style=\"display: block;margin-left: auto;margin-right: auto;width: 80%; \" src=\"./sql_images/singlesdb.png\">"
   ]
  },
  {
   "cell_type": "markdown",
   "id": "21813351-8bde-4901-bccc-69eb582d8d71",
   "metadata": {},
   "source": [
    "<div style=\"text-align:justify; color:black; font-size:30px; font-family:Sans-serif; font-style: oblique; text-shadow: 0 0 3px white, 0 0 1px black;\">\n",
    "<br>\n",
    "<h3 style=\"color:#005bbd; font-size:25;\">Table</h3><br>\n",
    "<p>Tables are the fundamental structure within a database. They are used to organize and store data in a tabular form.<br><br>Each table consists of rows and columns, where each row represents a record, and each column represents a field or attribute.<br><br>In practical terms, when you create a database for a web application using XAMPP, you would define tables within that database to store specific types of information, such as user data, product information, etc.</p>\n",
    "<br><br>\n",
    "Here two tables form_data,users both are the table of login database\n",
    "<br><img style=\"display: block;margin-left: auto;margin-right: auto;width: 100%; \" src=\"./sql_images/tb.png\">\n",
    "\n",
    "<br><br>\n",
    "<p>To summarize, within XAMPP's MySQL database management system<br><br><br>\n",
    "Databases are collections of organized data.<br>Database is a specific instance or container holding a set of related tables.<br>Tables are structures within a database used to organize and store data.</p>\n",
    "\n",
    "<hr><br> Create a DataBase\n",
    "\n",
    "</div>\n",
    "\n"
   ]
  },
  {
   "cell_type": "code",
   "execution_count": 5,
   "id": "db415fd6-27da-4f78-bdae-794a5461c239",
   "metadata": {},
   "outputs": [],
   "source": [
    "import mysql.connector\n",
    "\n",
    "db = mysql.connector.connect(\n",
    "    \n",
    "    host=\"localhost\",\n",
    "    port = 3307,\n",
    "    user=\"root\",\n",
    "    password=\"\",\n",
    "\n",
    ")"
   ]
  },
  {
   "cell_type": "code",
   "execution_count": 6,
   "id": "49b167f7-1c39-4a4b-aaae-a8a1a926325f",
   "metadata": {},
   "outputs": [],
   "source": [
    "def execute_query(cmd):\n",
    "    global cursor # change cursor\n",
    "    db.connect()\n",
    "    cursor = db.cursor()\n",
    "    cursor.execute(cmd)\n",
    "    return cursor"
   ]
  },
  {
   "cell_type": "code",
   "execution_count": 7,
   "id": "8854f526-f13c-4926-aa3d-3b0af39ae078",
   "metadata": {},
   "outputs": [
    {
     "name": "stdout",
     "output_type": "stream",
     "text": [
      "('DDL',)\n",
      "('campusx',)\n",
      "('csv_data',)\n",
      "('information_schema',)\n",
      "('login',)\n",
      "('mydatabase',)\n",
      "('mydb',)\n",
      "('mysql',)\n",
      "('performance_schema',)\n",
      "('phpmyadmin',)\n",
      "('tempdata',)\n",
      "('test',)\n",
      "('testing',)\n"
     ]
    }
   ],
   "source": [
    "# first show previous dataBases\n",
    "\n",
    "for i in execute_query(\"SHOW DATABASES\"):\n",
    "    print(i)"
   ]
  },
  {
   "cell_type": "markdown",
   "id": "ff82dd23-9fa2-4b06-b6e1-6a952dd424ff",
   "metadata": {},
   "source": [
    "<div style=\"text-align:justify; color:black; font-size:30px; font-family:Sans-serif; font-style: oblique; text-shadow: 0 0 3px white, 0 0 1px black;\">\n",
    "<br>\n",
    "<h3 style=\"color:#005bbd; font-size:25px;\">Create DataBase Command</h3><br>\n",
    "<h3 style=\"color:red; font-size:35px;\">CREATE DATABASE name</h3>"
   ]
  },
  {
   "cell_type": "code",
   "execution_count": 12,
   "id": "955e855b-ac62-4fe6-83a1-012eabce70f4",
   "metadata": {},
   "outputs": [
    {
     "data": {
      "text/plain": [
       "<mysql.connector.cursor_cext.CMySQLCursor at 0x7f1fa0049270>"
      ]
     },
     "execution_count": 12,
     "metadata": {},
     "output_type": "execute_result"
    }
   ],
   "source": [
    "execute_query(\"CREATE DATABASE newdb\")"
   ]
  },
  {
   "cell_type": "code",
   "execution_count": 13,
   "id": "c589af73-bbad-4474-b73b-b7ab60855c77",
   "metadata": {},
   "outputs": [
    {
     "name": "stdout",
     "output_type": "stream",
     "text": [
      "('DDL',)\n",
      "('campusx',)\n",
      "('csv_data',)\n",
      "('information_schema',)\n",
      "('login',)\n",
      "('mydatabase',)\n",
      "('mydb',)\n",
      "('mysql',)\n",
      "('newdb',)\n",
      "('performance_schema',)\n",
      "('phpmyadmin',)\n",
      "('tempdata',)\n",
      "('test',)\n",
      "('testing',)\n"
     ]
    }
   ],
   "source": [
    "# now again show all dbs\n",
    "for i in execute_query(\"SHOW DATABASES\"):\n",
    "    print(i)"
   ]
  },
  {
   "cell_type": "markdown",
   "id": "90e68b2b-fd37-4287-b572-9bcc3faa293e",
   "metadata": {},
   "source": [
    "<div style=\"text-align:justify; color:black; font-size:30px; font-family:Sans-serif; font-style: oblique; text-shadow: 0 0 3px white, 0 0 1px black;\">\n",
    "<br>\n",
    "Here newdb are created\n",
    "<br><img style=\"display: block;margin-left: auto;margin-right: auto;width: 100%; \" src=\"./sql_images/newdb.png\">\n",
    "</div>\n"
   ]
  },
  {
   "cell_type": "markdown",
   "id": "57a62c84-f3e3-48d8-bafe-bd34900642a9",
   "metadata": {},
   "source": [
    "<div style=\"text-align:justify; color:black; font-size:30px; font-family:Sans-serif; font-style: oblique; text-shadow: 0 0 3px white, 0 0 1px black;\">\n",
    "<br>\n",
    "<h3 style=\"color:#005bbd; font-size:25px;\">Create Table Command</h3><br>\n",
    "<h3 style=\"color:red; font-size:35px;\">CREATE TABLE database_name.name(col_name TYPE)</h3>"
   ]
  },
  {
   "cell_type": "code",
   "execution_count": 14,
   "id": "29883f98-56f3-4780-bada-524e409cce21",
   "metadata": {},
   "outputs": [
    {
     "data": {
      "text/plain": [
       "<mysql.connector.cursor_cext.CMySQLCursor at 0x7f1fa004a230>"
      ]
     },
     "execution_count": 14,
     "metadata": {},
     "output_type": "execute_result"
    }
   ],
   "source": [
    "execute_query(\"CREATE TABLE newdb.users( Name VARCHAR(255) )\")"
   ]
  },
  {
   "cell_type": "markdown",
   "id": "a9548318-5672-4efa-a805-3bea52acc910",
   "metadata": {},
   "source": [
    "<div style=\"text-align:justify; color:black; font-size:30px; font-family:Sans-serif; font-style: oblique; text-shadow: 0 0 3px white, 0 0 1px black;\">\n",
    "<br>\n",
    "Here users is the table of newdb database\n",
    "<br><img style=\"display: block;margin-left: auto;margin-right: auto;width: 100%; \" src=\"./sql_images/newtb.png\">\n",
    "</div>\n"
   ]
  },
  {
   "cell_type": "markdown",
   "id": "3a3a95e6-d48d-45da-8d0a-b585ef66b509",
   "metadata": {},
   "source": [
    "<div style=\"text-align:justify; color:black; font-size:30px; font-family:Sans-serif; font-style: oblique; text-shadow: 0 0 3px white, 0 0 1px black;\">\n",
    "Now insert the value\n",
    "<h3 style=\"color:#005bbd; font-size:25px;\">Insert Value Command</h3>\n",
    "<h3 style=\"color:red; font-size:35px;\">INSERT INTO database_name.name(col_name) VALUES(\"value\")</h3>"
   ]
  },
  {
   "cell_type": "code",
   "execution_count": 16,
   "id": "d249218e-de11-4d79-b364-9b8d3ec6c0fc",
   "metadata": {},
   "outputs": [
    {
     "data": {
      "text/plain": [
       "<mysql.connector.cursor_cext.CMySQLCursor at 0x7f1f8a7ada80>"
      ]
     },
     "execution_count": 16,
     "metadata": {},
     "output_type": "execute_result"
    }
   ],
   "source": [
    "execute_query(\"INSERT INTO newdb.users(Name) VALUES ('Mubeen')\")"
   ]
  },
  {
   "cell_type": "markdown",
   "id": "d1224b70-2d9f-47e6-9a6a-d309f96c8365",
   "metadata": {},
   "source": [
    "<div style=\"text-align:justify; color:black; font-size:30px; font-family:Sans-serif; font-style: oblique; text-shadow: 0 0 3px white, 0 0 1px black;\">\n",
    "Now you need to commit the values (that means accept the changes)<br>\n",
    "db.commit() is the mysql.connector command for python\n",
    "</div>"
   ]
  },
  {
   "cell_type": "code",
   "execution_count": 18,
   "id": "07ad84ce-4705-4931-b4a4-55503ff52fe0",
   "metadata": {},
   "outputs": [],
   "source": [
    "db.commit()"
   ]
  },
  {
   "cell_type": "markdown",
   "id": "924fef91-6933-4de7-bc1a-e57c1f171c91",
   "metadata": {},
   "source": [
    "<div style=\"text-align:justify; color:black; font-size:30px; font-family:Sans-serif; font-style: oblique; text-shadow: 0 0 3px white, 0 0 1px black;\">\n",
    "<br>\n",
    "Here Name is the column name and Mubeen is the value\n",
    "<br><img style=\"display: block;margin-left: auto;margin-right: auto;width: 100%; \" src=\"./sql_images/value.png\">\n",
    "</div>\n"
   ]
  },
  {
   "cell_type": "markdown",
   "id": "1c2874ae-1ca7-4d79-84d9-64b6226ec963",
   "metadata": {},
   "source": [
    "<div style=\"text-align:justify; color:black; font-size:30px; font-family:Sans-serif; font-style: oblique; text-shadow: 0 0 3px white, 0 0 1px black;\">\n",
    "SHOW TABLE Data with python\n",
    "<h3 style=\"color:#005bbd; font-size:25px;\">Show Value Command</h3>\n",
    "<h3 style=\"color:red; font-size:35px;\">SELECT * FROM database.table</h3>"
   ]
  },
  {
   "cell_type": "code",
   "execution_count": 21,
   "id": "2a287ce7-edb4-4901-bae8-a299173f755d",
   "metadata": {},
   "outputs": [
    {
     "name": "stdout",
     "output_type": "stream",
     "text": [
      "('Mubeen',)\n"
     ]
    }
   ],
   "source": [
    "r = execute_query(\"SELECT * FROM newdb.users\")\n",
    "for i in r:\n",
    "    print(i)"
   ]
  },
  {
   "cell_type": "markdown",
   "id": "dd234805-dff0-41a4-aaa4-e555b5b41f1f",
   "metadata": {},
   "source": [
    "<div style=\"text-align:justify; color:black; font-size:30px; font-family:Sans-serif; font-style: oblique; text-shadow: 0 0 3px white, 0 0 1px black;\">\n",
    "Example 2 Insert Multiples Values\n",
    "</div>"
   ]
  },
  {
   "cell_type": "markdown",
   "id": "b80b7acf-c195-4227-807b-2f025e44bcc7",
   "metadata": {},
   "source": [
    "<div style=\"text-align:justify; color:black; font-size:30px; font-family:Sans-serif; font-style: oblique; text-shadow: 0 0 3px white, 0 0 1px black;\">\n",
    "<h3 style=\"color:#005bbd; font-size:25px;\">Insert Value Command</h3>\n",
    "<h3 style=\"color:red; font-size:35px;\">INSERT INTO database.table(column_name) VALUES  (v1),(v2),(v3) </h3>"
   ]
  },
  {
   "cell_type": "code",
   "execution_count": 28,
   "id": "5e36b392-fab4-4aaf-a30a-24fab2eae4c2",
   "metadata": {},
   "outputs": [
    {
     "data": {
      "text/plain": [
       "<mysql.connector.cursor_cext.CMySQLCursor at 0x7f1f88fe9360>"
      ]
     },
     "execution_count": 28,
     "metadata": {},
     "output_type": "execute_result"
    }
   ],
   "source": [
    "query = \"\"\"\n",
    "\n",
    "INSERT INTO newdb.users(NAME)\n",
    "VALUES\n",
    "(\"ALI\"),\n",
    "(\"Rizwan\"),\n",
    "(\"Faizan\")\n",
    "\n",
    "\"\"\"\n",
    "execute_query(query)"
   ]
  },
  {
   "cell_type": "code",
   "execution_count": 29,
   "id": "68fbfdff-1593-4f50-8251-59543c66c323",
   "metadata": {},
   "outputs": [],
   "source": [
    "# commit\n",
    "db.commit()"
   ]
  },
  {
   "cell_type": "code",
   "execution_count": 30,
   "id": "dd6df7eb-e120-446f-a5a2-ed2f7d7284f2",
   "metadata": {},
   "outputs": [
    {
     "name": "stdout",
     "output_type": "stream",
     "text": [
      "('Mubeen',)\n",
      "('ALI',)\n",
      "('Rizwan',)\n",
      "('Faizan',)\n"
     ]
    }
   ],
   "source": [
    "## show values\n",
    "r = execute_query(\"SELECT * FROM newdb.users\")\n",
    "for i in r:\n",
    "    print(i)"
   ]
  },
  {
   "cell_type": "markdown",
   "id": "d79a6b61-2372-4227-a7d7-9b8055ded440",
   "metadata": {},
   "source": [
    "<div style=\"text-align:justify; color:black; font-size:30px; font-family:Sans-serif; font-style: oblique; text-shadow: 0 0 3px white, 0 0 1px black;\">\n",
    "Example 3 Insert Multiples Values With loop\n",
    "</div>"
   ]
  },
  {
   "cell_type": "code",
   "execution_count": 36,
   "id": "a7db5811-9fb5-4976-9266-2704a5804083",
   "metadata": {},
   "outputs": [],
   "source": [
    "data = [\"a\",\"b\",\"c\"]\n",
    "\n",
    "for i in data:\n",
    "    query = f'INSERT INTO newdb.users(Name) VALUES (\"{i}\")'\n",
    "    execute_query(query)\n",
    "    db.commit()"
   ]
  },
  {
   "cell_type": "code",
   "execution_count": 37,
   "id": "a60d06fa-d15c-4926-b166-c04298244301",
   "metadata": {},
   "outputs": [],
   "source": [
    "# now commit\n",
    "db.commit()"
   ]
  },
  {
   "cell_type": "code",
   "execution_count": 38,
   "id": "245484e5-c95a-4612-8c22-5beb58b94620",
   "metadata": {},
   "outputs": [
    {
     "name": "stdout",
     "output_type": "stream",
     "text": [
      "('Mubeen',)\n",
      "('ALI',)\n",
      "('Rizwan',)\n",
      "('Faizan',)\n",
      "('c',)\n"
     ]
    }
   ],
   "source": [
    "# show values\n",
    "r = execute_query(\"SELECT * FROM newdb.users\")\n",
    "for i in r:\n",
    "    print(i)"
   ]
  }
 ],
 "metadata": {
  "kernelspec": {
   "display_name": "Python 3 (ipykernel)",
   "language": "python",
   "name": "python3"
  },
  "language_info": {
   "codemirror_mode": {
    "name": "ipython",
    "version": 3
   },
   "file_extension": ".py",
   "mimetype": "text/x-python",
   "name": "python",
   "nbconvert_exporter": "python",
   "pygments_lexer": "ipython3",
   "version": "3.10.12"
  }
 },
 "nbformat": 4,
 "nbformat_minor": 5
}

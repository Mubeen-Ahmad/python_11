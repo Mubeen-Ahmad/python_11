{
 "cells": [
  {
   "cell_type": "markdown",
   "id": "db1069a3-6344-464f-8467-6b978bd00780",
   "metadata": {},
   "source": [
    "<h1 style=\"text-align:center; color:#005bbd; font-size:50px; font-family:Sans-serif; font-style: oblique; text-shadow: 0 0 3px white, 0 0 1px Black;\">XAMPP</h1>\n"
   ]
  },
  {
   "cell_type": "markdown",
   "id": "05795aa0-2c99-4f22-bdb3-0af112a94966",
   "metadata": {},
   "source": [
    "<div style=\"text-align:justify; color:black; font-size:20px; font-family:Sans-serif; font-style: oblique; text-shadow: 0 0 3px white, 0 0 1px black;\">\n",
    "    \n",
    "<h3 style=\"color:#005bbd;\"> XAMPP Overview</h3>\n",
    "\n",
    "*XAMPP* (Cross-Platform Apache, MySQL, PHP, and Perl) is a free and open-source web server solution stack that facilitates the development and testing of web applications on a local machine. It includes:\n",
    "\n",
    "- Apache HTTP Server\n",
    "- MySQL database\n",
    "- PHP\n",
    "- Perl interpreters\n",
    "\n",
    "XAMPP is designed to be easy to install and use, providing a convenient environment for developers to work on web projects without the need for a dedicated server. It's commonly used for PHP development and testing before deploying applications to a live server.\n",
    "\n",
    "</div>"
   ]
  },
  {
   "cell_type": "markdown",
   "id": "aa191490-973c-4f13-881e-f7e5e74a371c",
   "metadata": {},
   "source": [
    "<br><h1 style=\"color:#005bbd; text-align:center;\"> Open Xampp and Select Manage Servers</h1><br>"
   ]
  },
  {
   "cell_type": "markdown",
   "id": "171b59c8-8531-4b3a-88de-ffd157c60bda",
   "metadata": {},
   "source": [
    "<img style=\"display: block;margin-left: auto;margin-right: auto;width: 40%; \" src=\"./sql_images/xamp1.png\">"
   ]
  },
  {
   "cell_type": "markdown",
   "id": "dd9a1fcf-a675-4a82-b427-142c8930fd4f",
   "metadata": {},
   "source": [
    "<br><h1 style=\"color:#005bbd; text-align:center;\"> Start Mysql Database and Apache Web Server</h1><br>"
   ]
  },
  {
   "cell_type": "markdown",
   "id": "193d727a-0c4e-4621-ae16-cc5bd462e03c",
   "metadata": {},
   "source": [
    "<img style=\"display: block;margin-left: auto;margin-right: auto;width: 40%;\" src=\"./sql_images/xamp3.png\">"
   ]
  },
  {
   "cell_type": "markdown",
   "id": "6783f853-cee2-40fd-aabe-6b20300386e0",
   "metadata": {},
   "source": [
    "<br><h1 style=\"color:#005bbd; text-align:center;\"> Click on Configure</h1><br>"
   ]
  },
  {
   "cell_type": "markdown",
   "id": "d672e463-13ed-4917-8a9b-0e62c7fed242",
   "metadata": {},
   "source": [
    "<img style=\"display: block;margin-left: auto;margin-right: auto;width: 40%;\" src=\"./sql_images/xamp3.png\">"
   ]
  },
  {
   "cell_type": "markdown",
   "id": "4929dfb7-a7ad-40ea-ba32-6d7f25778fd9",
   "metadata": {},
   "source": [
    "<br><h1 style=\"color:#005bbd; text-align:center;\"> Now Check port Number</h1><br>"
   ]
  },
  {
   "cell_type": "markdown",
   "id": "2a04e812-e318-4706-92de-beaa32164efd",
   "metadata": {},
   "source": [
    "<img style=\"display: block;margin-left: auto;margin-right: auto;width: 40%;\" src=\"./sql_images/xamp4.png\">"
   ]
  },
  {
   "cell_type": "markdown",
   "id": "9d225d60-9806-4551-b624-8a058ab240fa",
   "metadata": {},
   "source": [
    "<br><h1 style=\"color:#005bbd; text-align:center;\"> Now Type in Browser 127.0.0.1:80</h1><br>"
   ]
  },
  {
   "cell_type": "markdown",
   "id": "228e8cf5-c8fe-425b-a375-8a40e82a5086",
   "metadata": {},
   "source": [
    "<img style=\"display: block;margin-left: auto;margin-right: auto;width: 80%;\" src=\"./sql_images/localhost.png\">"
   ]
  },
  {
   "cell_type": "markdown",
   "id": "8bc50c91-bb35-4357-b360-1b4c252fd061",
   "metadata": {},
   "source": [
    "<br><h1 style=\"color:#005bbd; text-align:center;\">Clip on phpMyAdmin</h1><br>"
   ]
  },
  {
   "cell_type": "markdown",
   "id": "fcf6ceed-3975-4f75-8f74-2f67736ff3e7",
   "metadata": {},
   "source": [
    "<img style=\"display: block;margin-left: auto;margin-right: auto;width: 80%;\" src=\"./sql_images/databases.png\">"
   ]
  },
  {
   "cell_type": "markdown",
   "id": "0075a3f7-8853-4883-90ba-01ca5b99aafc",
   "metadata": {},
   "source": [
    "<br><h1 style=\"color:#005bbd; text-align:center;\">All Databases</h1><br>"
   ]
  },
  {
   "cell_type": "markdown",
   "id": "2ebc1b77-71c0-4071-9eb0-68bd6c956f2d",
   "metadata": {},
   "source": [
    "<img style=\"display: block;margin-left: auto;margin-right: auto;width: 80%;\" src=\"./sql_images/dbs.png\">"
   ]
  },
  {
   "cell_type": "markdown",
   "id": "63195979-1d95-455c-860b-7572ca03f54f",
   "metadata": {},
   "source": [
    "<br><h1 style=\"color:#005bbd; text-align:left;\">How to Connect and Use DataBase in Python</h1><br>"
   ]
  },
  {
   "cell_type": "markdown",
   "id": "8b476566-3c19-4724-b43c-172aebb07ac5",
   "metadata": {},
   "source": [
    "<div style=\"text-align:justify; color:black; font-size:20px; font-family:Sans-serif; font-style: oblique; text-shadow: 0 0 3px white, 0 0 1px black;\">\n",
    "   \n",
    "##  Install mysql\n",
    "</div>"
   ]
  },
  {
   "cell_type": "code",
   "execution_count": 10,
   "id": "e5e6dfb4-ba81-44f4-9783-42dbc6157a69",
   "metadata": {},
   "outputs": [
    {
     "name": "stdout",
     "output_type": "stream",
     "text": [
      "Collecting mysql\n",
      "  Using cached mysql-0.0.3-py3-none-any.whl (1.2 kB)\n",
      "Collecting mysqlclient (from mysql)\n",
      "  Downloading mysqlclient-2.2.1.tar.gz (89 kB)\n",
      "\u001b[2K     \u001b[38;2;114;156;31m━━━━━━━━━━━━━━━━━━━━━━━━━━━━━━━━━━━━━━━\u001b[0m \u001b[32m90.0/90.0 kB\u001b[0m \u001b[31m308.0 kB/s\u001b[0m eta \u001b[36m0:00:00\u001b[0m1m309.7 kB/s\u001b[0m eta \u001b[36m0:00:01\u001b[0m\n",
      "\u001b[?25h  Installing build dependencies ... \u001b[?25ldone\n",
      "\u001b[?25h  Getting requirements to build wheel ... \u001b[?25ldone\n",
      "\u001b[?25h  Installing backend dependencies ... \u001b[?25ldone\n",
      "\u001b[?25h  Preparing metadata (pyproject.toml) ... \u001b[?25ldone\n",
      "\u001b[?25hBuilding wheels for collected packages: mysqlclient\n",
      "  Building wheel for mysqlclient (pyproject.toml) ... \u001b[?25ldone\n",
      "\u001b[?25h  Created wheel for mysqlclient: filename=mysqlclient-2.2.1-cp310-cp310-linux_x86_64.whl size=123920 sha256=d760feae05b2a3b655c511c0a873f99fb58ebae5f3429cedc925fef037c319ac\n",
      "  Stored in directory: /home/mubeen/.cache/pip/wheels/93/84/49/615c5604001ebe3bb11c45628f22102cf563d6766a43a0e7a1\n",
      "Successfully built mysqlclient\n",
      "Installing collected packages: mysqlclient, mysql\n",
      "Successfully installed mysql-0.0.3 mysqlclient-2.2.1\n"
     ]
    }
   ],
   "source": [
    "!pip install mysql"
   ]
  },
  {
   "cell_type": "markdown",
   "id": "8f55ae7c-3175-4b50-87ab-06fbb2b9d87f",
   "metadata": {},
   "source": [
    "<div style=\"text-align:justify; color:black; font-size:20px; font-family:Sans-serif; font-style: oblique; text-shadow: 0 0 3px white, 0 0 1px black;\">\n",
    "   \n",
    "###  import Module\n",
    "</div>"
   ]
  },
  {
   "cell_type": "code",
   "execution_count": 1,
   "id": "491f7db7-aaab-4a93-8734-1f3c198d9360",
   "metadata": {},
   "outputs": [],
   "source": [
    "import mysql.connector"
   ]
  },
  {
   "cell_type": "markdown",
   "id": "348426d8-1f5b-46cb-8a76-b779fb3e6484",
   "metadata": {},
   "source": [
    "<div style=\"text-align:justify; color:black; font-size:20px; font-family:Sans-serif; font-style: oblique; text-shadow: 0 0 3px white, 0 0 1px black;\">\n",
    "   \n",
    "###  Create a Conenction\n",
    "\n",
    "<br>\n",
    "\n",
    "### Host is your localhost ip\n",
    "### port Select mysql database port\n",
    "- ### Note ! 80 port is your apache Server (Apache and Mysql DataBase are two Different thing)\n",
    "- ### First click Mysql Database and click on Configure\n",
    "<img style=\"display: block;margin-left: auto;margin-right: auto;width: 50%;\" src=\"./sql_images/sel.png\">\n",
    "\n",
    "- ### Now check your Database port\n",
    "<img style=\"display: block;margin-left: auto;margin-right: auto;width: 50%;\" src=\"./sql_images/port.png\">\n",
    "\n",
    "\n",
    "### user is root\n",
    "### Default password are blank on Xampp\n",
    "<br>\n",
    "\n",
    "# Authentication\n",
    "</div>"
   ]
  },
  {
   "cell_type": "code",
   "execution_count": 37,
   "id": "1b3d469e-9fbf-4071-ad40-d99ab88bc89d",
   "metadata": {},
   "outputs": [],
   "source": [
    "db = mysql.connector.connect(host=\"127.0.0.1\",port=\"3307\",user=\"root\", password=\"\")"
   ]
  },
  {
   "cell_type": "markdown",
   "id": "030d1253-d8ae-4909-8a96-1942ffc7bd7a",
   "metadata": {},
   "source": [
    "<div style=\"text-align:justify; color:black; font-size:20px; font-family:Sans-serif; font-style: oblique; text-shadow: 0 0 3px white, 0 0 1px black;\">\n",
    "    \n",
    "## Now Connect the DataBase\n",
    "</div>"
   ]
  },
  {
   "cell_type": "code",
   "execution_count": 38,
   "id": "c152b5d3-b31e-4968-a2b3-14cabe7b60f1",
   "metadata": {},
   "outputs": [],
   "source": [
    "db.connect()"
   ]
  },
  {
   "cell_type": "markdown",
   "id": "facf4c21-a9de-4c79-96de-44dc71f8799d",
   "metadata": {},
   "source": [
    "<div style=\"text-align:justify; color:black; font-size:20px; font-family:Sans-serif; font-style: oblique; text-shadow: 0 0 3px white, 0 0 1px black;\">\n",
    "    \n",
    "## Pointer\n",
    "\n",
    "### In Python, when working with databases using modules like mysql.connector, \n",
    "\n",
    "- ### A cursor is an object that allows you to interact with the database by sending SQL queries and fetching results.\n",
    "<br>\n",
    "\n",
    "- ### The cursor acts as a pointer to a specific location within your result set.\n",
    "</div>\n"
   ]
  },
  {
   "cell_type": "code",
   "execution_count": 39,
   "id": "be7a32fa-9d9e-4031-beb4-51a460efce98",
   "metadata": {},
   "outputs": [],
   "source": [
    "cursor = db.cursor()"
   ]
  },
  {
   "cell_type": "markdown",
   "id": "c7d921e8-b27d-48cf-98c7-59febe4dc68d",
   "metadata": {},
   "source": [
    "<div style=\"text-align:justify; color:black; font-size:20px; font-family:Sans-serif; font-style: oblique; text-shadow: 0 0 3px white, 0 0 1px black;\">\n",
    "    \n",
    "# Now execuete query\n",
    "\n",
    "<img style=\"display: block;margin-left: auto;margin-right: auto;width: 80%;\" src=\"./sql_images/sql_q.png\">\n",
    "<br>\n",
    "\n",
    "# Result\n",
    "\n",
    "<img style=\"display: block;margin-left: auto;margin-right: auto;width: 80%;\" src=\"./sql_images/res.png\">\n",
    "\n",
    "<br>\n",
    "\n",
    "## Same Query Execute with python \n",
    "- ## .execute() Method"
   ]
  },
  {
   "cell_type": "code",
   "execution_count": 40,
   "id": "e769f55b-3a33-46dc-8eb0-84072babbf96",
   "metadata": {},
   "outputs": [],
   "source": [
    "cursor.execute(\"SHOW DATABASES\")"
   ]
  },
  {
   "cell_type": "markdown",
   "id": "0a826cff-094e-4668-84e6-40e2cc744d58",
   "metadata": {},
   "source": [
    "<div style=\"text-align:justify; color:black; font-size:20px; font-family:Sans-serif; font-style: oblique; text-shadow: 0 0 3px white, 0 0 1px black;\">\n",
    "\n",
    "## Query output are store in cursor\n",
    "\n",
    "loop on the cursor"
   ]
  },
  {
   "cell_type": "code",
   "execution_count": 41,
   "id": "35ca7dff-8d72-49a6-8640-6e602996255b",
   "metadata": {},
   "outputs": [
    {
     "name": "stdout",
     "output_type": "stream",
     "text": [
      "('DDL',)\n",
      "('campusx',)\n",
      "('csv_data',)\n",
      "('information_schema',)\n",
      "('login',)\n",
      "('mydatabase',)\n",
      "('mydb',)\n",
      "('mysql',)\n",
      "('performance_schema',)\n",
      "('phpmyadmin',)\n",
      "('tempdata',)\n",
      "('test',)\n",
      "('testing',)\n"
     ]
    }
   ],
   "source": [
    "for i in cursor:\n",
    "    print(i)"
   ]
  },
  {
   "cell_type": "markdown",
   "id": "fb5b95f5-65ca-4a48-9b8d-dc3a2a3b785b",
   "metadata": {},
   "source": [
    "<div style=\"text-align:justify; color:black; font-size:20px; font-family:Sans-serif; font-style: oblique; text-shadow: 0 0 3px white, 0 0 1px black;\">\n",
    "\n",
    "## Once the command executed than cursor are close\n",
    "\n",
    "#### again loop on cursor"
   ]
  },
  {
   "cell_type": "code",
   "execution_count": 42,
   "id": "48bfcc90-86f1-43b5-82be-27bb28b4bad8",
   "metadata": {},
   "outputs": [],
   "source": [
    "for i in cursor:\n",
    "    print(i)\n",
    "    \n",
    "# no result bcz cursor (pointer) are close"
   ]
  },
  {
   "cell_type": "markdown",
   "id": "a3b05d9e-7c98-4c7e-a5ef-cd0b6adae950",
   "metadata": {},
   "source": [
    "<div style=\"text-align:justify; color:black; font-size:20px; font-family:Sans-serif; font-style: oblique; text-shadow: 0 0 3px white, 0 0 1px black;\">\n",
    "\n",
    "## check cursor are close ?"
   ]
  },
  {
   "cell_type": "code",
   "execution_count": 43,
   "id": "be71e1dc-27c8-4a83-87e0-aafadf8b5a41",
   "metadata": {},
   "outputs": [
    {
     "data": {
      "text/plain": [
       "True"
      ]
     },
     "execution_count": 43,
     "metadata": {},
     "output_type": "execute_result"
    }
   ],
   "source": [
    "cursor.close()"
   ]
  },
  {
   "cell_type": "markdown",
   "id": "f1f56a08-4dfc-4360-8dcb-a69f245164f2",
   "metadata": {},
   "source": [
    "<div style=\"text-align:justify; color:black; font-size:20px; font-family:Sans-serif; font-style: oblique; text-shadow: 0 0 3px white, 0 0 1px black;\">\n",
    "\n",
    "## Now close the database connection\n",
    "- ### its a good pratice to close database once you complete the work"
   ]
  },
  {
   "cell_type": "code",
   "execution_count": 44,
   "id": "6ab01081-c8c9-40ca-a7f7-026f158d3db7",
   "metadata": {},
   "outputs": [],
   "source": [
    "db.close()"
   ]
  },
  {
   "cell_type": "markdown",
   "id": "24ab1f8b-2e47-4097-8785-8ff0d78e73c2",
   "metadata": {},
   "source": [
    "<div style=\"text-align:justify; color:black; font-size:20px; font-family:Sans-serif; font-style: oblique; text-shadow: 0 0 3px white, 0 0 1px black;\">\n",
    "\n",
    "## Example 2\n"
   ]
  },
  {
   "cell_type": "code",
   "execution_count": 102,
   "id": "e3c44059-cdbd-4a72-b9ab-85515c81e284",
   "metadata": {},
   "outputs": [],
   "source": [
    "# now again connect the database\n",
    "\n",
    "db.connect()"
   ]
  },
  {
   "cell_type": "code",
   "execution_count": 118,
   "id": "a7866d1b-5d9b-448f-b73d-6a4d5a739f34",
   "metadata": {},
   "outputs": [
    {
     "name": "stdout",
     "output_type": "stream",
     "text": [
      "('DDL',)\n",
      "('campusx',)\n",
      "('csv_data',)\n",
      "('information_schema',)\n",
      "('login',)\n",
      "('mydatabase',)\n",
      "('mydb',)\n",
      "('mysql',)\n",
      "('performance_schema',)\n",
      "('phpmyadmin',)\n",
      "('tempdata',)\n",
      "('test',)\n",
      "('testing',)\n"
     ]
    }
   ],
   "source": [
    "cursor = db.cursor() # create a cursor (pointer)\n",
    "cursor.execute(\"SHOW DATABASES\")     # execute a query\n",
    "\n",
    "for i in cursor:\n",
    "    print(i)                     # print result"
   ]
  },
  {
   "cell_type": "markdown",
   "id": "b53d1e14-4ad4-4945-85ef-954dae36cbc9",
   "metadata": {},
   "source": [
    "<div style=\"text-align:justify; color:black; font-size:20px; font-family:Sans-serif; font-style: oblique; text-shadow: 0 0 3px white, 0 0 1px black;\">\n",
    "\n",
    "## create a function \n"
   ]
  },
  {
   "cell_type": "code",
   "execution_count": 111,
   "id": "bfb425cd-e824-485a-9634-c649405a4f17",
   "metadata": {},
   "outputs": [],
   "source": [
    "def execute_query(cmd):\n",
    "    global cursor # change cursor\n",
    "    db.connect()\n",
    "    cursor = db.cursor()\n",
    "    cursor.execute(cmd)\n",
    "    return cursor"
   ]
  },
  {
   "cell_type": "code",
   "execution_count": 113,
   "id": "1daa6330-2460-4f5d-af46-99543cccc790",
   "metadata": {},
   "outputs": [
    {
     "name": "stdout",
     "output_type": "stream",
     "text": [
      "('DDL',)\n",
      "('campusx',)\n",
      "('csv_data',)\n",
      "('information_schema',)\n",
      "('login',)\n",
      "('mydatabase',)\n",
      "('mydb',)\n",
      "('mysql',)\n",
      "('performance_schema',)\n",
      "('phpmyadmin',)\n",
      "('tempdata',)\n",
      "('test',)\n",
      "('testing',)\n"
     ]
    }
   ],
   "source": [
    "result = execute_query(\"SHOW DATABASES\")\n",
    "\n",
    "for i in result:\n",
    "    print(i)"
   ]
  },
  {
   "cell_type": "code",
   "execution_count": 114,
   "id": "4355a531-bf58-4c4c-acce-a0e5e404d877",
   "metadata": {},
   "outputs": [
    {
     "name": "stdout",
     "output_type": "stream",
     "text": [
      "('DDL',)\n",
      "('campusx',)\n",
      "('csv_data',)\n",
      "('information_schema',)\n",
      "('login',)\n",
      "('mydatabase',)\n",
      "('mydb',)\n",
      "('mysql',)\n",
      "('performance_schema',)\n",
      "('phpmyadmin',)\n",
      "('tempdata',)\n",
      "('test',)\n",
      "('testing',)\n"
     ]
    }
   ],
   "source": [
    "for r in execute_query(\"SHOW DATABASES\"):\n",
    "    print(r)"
   ]
  },
  {
   "cell_type": "markdown",
   "id": "7e88a25a-e137-4648-ba90-73cfbba760f4",
   "metadata": {},
   "source": [
    "<h1 style=\"text-align:center; color:#005bbd; font-size:50px; font-family:Sans-serif; font-style: oblique; text-shadow: 0 0 3px white, 0 0 1px Black;\">Connect Mysql Workbench</h1>\n"
   ]
  },
  {
   "cell_type": "markdown",
   "id": "87886c38-e5ee-4061-beee-32064b16e006",
   "metadata": {},
   "source": [
    "<br><h1 style=\"color:#005bbd; text-align:center;\"> Open Mysql Workbench</h1><br>"
   ]
  },
  {
   "cell_type": "markdown",
   "id": "cd93fbec-9120-4893-9002-692a58e5cdfa",
   "metadata": {},
   "source": [
    "<img style=\"display: block;margin-left: auto;margin-right: auto;width: 100%; \" src=\"./sql_images/wrk_bench.png\">"
   ]
  },
  {
   "cell_type": "markdown",
   "id": "4c068655-3cfc-4730-b0ed-eb27280955f6",
   "metadata": {},
   "source": [
    "<br><h1 style=\"color:#005bbd; text-align:center;\"> Authentication</h1><br>"
   ]
  },
  {
   "cell_type": "code",
   "execution_count": 2,
   "id": "bc918982-45c2-4e07-988f-6c3659a7d00a",
   "metadata": {},
   "outputs": [],
   "source": [
    "db = mysql.connector.connect(host=\"127.0.0.1\",port=\"3306\",user=\"sweeterror404\", password=\"Mubeen@12345\")"
   ]
  },
  {
   "cell_type": "markdown",
   "id": "bdab8dc2-5832-452f-9157-d888cbdb7769",
   "metadata": {},
   "source": [
    "<br><h1 style=\"color:#005bbd; text-align:center;\"> Connect DataBase</h1><br>"
   ]
  },
  {
   "cell_type": "code",
   "execution_count": 3,
   "id": "efce8d8c-02c9-416e-a70a-c5de8857547c",
   "metadata": {},
   "outputs": [],
   "source": [
    "db.connect()"
   ]
  },
  {
   "cell_type": "markdown",
   "id": "96978afe-0fa4-46b8-a917-f4114ac892ac",
   "metadata": {},
   "source": [
    "<br><h1 style=\"color:#005bbd; text-align:center;\"> Create Cursor</h1><br>"
   ]
  },
  {
   "cell_type": "code",
   "execution_count": 4,
   "id": "7794b46b-3ed9-41d7-be99-c2e9bc15302d",
   "metadata": {},
   "outputs": [],
   "source": [
    "cursor = db.cursor()"
   ]
  },
  {
   "cell_type": "markdown",
   "id": "a1c35783-c622-4141-a3d4-5e9d78b37627",
   "metadata": {},
   "source": [
    "<img style=\"display: block;margin-left: auto;margin-right: auto;width: 60%; border:4px solid black;\" src=\"./sql_images/wrkb.png\">"
   ]
  },
  {
   "cell_type": "code",
   "execution_count": 5,
   "id": "634c21e4-fe94-4b60-b274-4ae129a18ff8",
   "metadata": {},
   "outputs": [
    {
     "name": "stdout",
     "output_type": "stream",
     "text": [
      "('information_schema',)\n",
      "('mubeen',)\n",
      "('mysql',)\n",
      "('performance_schema',)\n",
      "('sys',)\n"
     ]
    }
   ],
   "source": [
    "cursor = db.cursor() # create a cursor (pointer)\n",
    "cursor.execute(\"SHOW DATABASES\")     # execute a query\n",
    "\n",
    "for i in cursor:\n",
    "    print(i)     "
   ]
  },
  {
   "cell_type": "code",
   "execution_count": 6,
   "id": "eaae1e75-5430-4eff-a2a6-d79e4802c083",
   "metadata": {},
   "outputs": [],
   "source": [
    "db.close() # close connection"
   ]
  }
 ],
 "metadata": {
  "kernelspec": {
   "display_name": "Python 3 (ipykernel)",
   "language": "python",
   "name": "python3"
  },
  "language_info": {
   "codemirror_mode": {
    "name": "ipython",
    "version": 3
   },
   "file_extension": ".py",
   "mimetype": "text/x-python",
   "name": "python",
   "nbconvert_exporter": "python",
   "pygments_lexer": "ipython3",
   "version": "3.10.12"
  }
 },
 "nbformat": 4,
 "nbformat_minor": 5
}

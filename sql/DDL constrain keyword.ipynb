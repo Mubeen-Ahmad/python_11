{
 "cells": [
  {
   "cell_type": "markdown",
   "id": "42e7248a-10d3-42d3-b8aa-3e00db3da032",
   "metadata": {},
   "source": [
    "<h1 style=\"text-align:center; color:#005bbd; font-size:50px; font-family:Sans-serif; font-style: oblique; text-shadow: 0 0 3px white, 0 0 1px Black;\">Constrains Keyword</h1>\n"
   ]
  },
  {
   "cell_type": "markdown",
   "id": "9e7b394a-6ce8-4259-92b9-a4da5c96442a",
   "metadata": {},
   "source": [
    "<div style=\"text-align:justify; color:black; font-size:30px; font-family:Sans-serif; font-style: oblique; text-shadow: 0 0 3px white, 0 0 1px black;\">\n",
    "<br>\n",
    "<p style=\"text-align:justify; font-size:25px\">The CONSTRAINT keyword in SQL is used to give a name to a constraint.<br><br>It is often used in conjunction with other keywords like PRIMARY KEY, FOREIGN KEY, UNIQUE, and CHECK.<br>When you define a constraint, you can optionally provide a name for that constraint.<br><br>The CONSTRAINT keyword is often used in combination with other keywords to define specific constraints.</p>\n",
    "</div>\n",
    "\n",
    "\n"
   ]
  },
  {
   "cell_type": "code",
   "execution_count": 9,
   "id": "d2f336df-1c73-43d4-8148-29798f255535",
   "metadata": {},
   "outputs": [],
   "source": [
    "import mysql.connector\n",
    "\n",
    "db = mysql.connector.connect(\n",
    "    \n",
    "    host=\"localhost\",\n",
    "    port=3307,\n",
    "    user=\"root\",\n",
    "    password=\"\",\n",
    "\n",
    ")"
   ]
  },
  {
   "cell_type": "code",
   "execution_count": 10,
   "id": "afdc6b3a-0ab3-49a6-89ee-ce69174d61b9",
   "metadata": {},
   "outputs": [],
   "source": [
    "db.connect()"
   ]
  },
  {
   "cell_type": "code",
   "execution_count": 11,
   "id": "70b1486f-5d95-40ae-8dde-72f847c3b87a",
   "metadata": {},
   "outputs": [],
   "source": [
    "cursor = db.cursor()"
   ]
  },
  {
   "cell_type": "markdown",
   "id": "1329ad68-b276-4250-a98d-0b909dc6753e",
   "metadata": {},
   "source": [
    "<div style=\"text-align:justify; color:black; font-size:30px; font-family:Sans-serif; font-style: oblique; text-shadow: 0 0 3px white, 0 0 1px black;\">\n",
    "<br>\n",
    "<h3 style=\"color:#005bbd; font-size:25px;\">Add Constraint with Keyword\n",
    "</h3><br>\n",
    "<h3 style=\"color:red; font-size:35px;\">CONSTRAINT alias type (name)</h3>"
   ]
  },
  {
   "cell_type": "code",
   "execution_count": 29,
   "id": "5dae6025-1293-48f1-ab05-f55583b5e458",
   "metadata": {},
   "outputs": [],
   "source": [
    "# create a new table\n",
    "query = \"\"\"\n",
    "    CREATE TABLE test.users8(\n",
    "    \n",
    "        username VARCHAR(255),\n",
    "        user_id INTEGER NOT NULL,\n",
    "        \n",
    "        CONSTRAINT alias UNIQUE (username)\n",
    "    )\n",
    "\"\"\"\n",
    "\n",
    "cursor.execute(query)"
   ]
  },
  {
   "cell_type": "code",
   "execution_count": 7,
   "id": "8022f1f5-996f-46b7-a53e-9bdfb59f7a86",
   "metadata": {},
   "outputs": [],
   "source": [
    "# insert values\n",
    "\n",
    "query = \"\"\"\n",
    "INSERT INTO test.users8(username,user_id) VALUES \n",
    "    ('mubeen@xyz',1)\n",
    "\"\"\"\n",
    "cursor.execute(query)"
   ]
  },
  {
   "cell_type": "code",
   "execution_count": 9,
   "id": "d25e0c24-3524-4e04-992b-b418c4ca0ff0",
   "metadata": {},
   "outputs": [
    {
     "name": "stdout",
     "output_type": "stream",
     "text": [
      "('mubeen@xyz', 1)\n"
     ]
    }
   ],
   "source": [
    "# check values\n",
    "cursor.execute(\"SELECT * FROM test.users8\")\n",
    "\n",
    "for i in cursor.fetchall():\n",
    "    print(i)"
   ]
  },
  {
   "cell_type": "markdown",
   "id": "c26927cd-c30d-4213-9320-494a4854cdd9",
   "metadata": {},
   "source": [
    "<div style=\"text-align:justify; color:black; font-size:25px; font-family:Sans-serif; font-style: oblique; text-shadow: 0 0 3px white, 0 0 1px black;\"> Now to add same username for make sure constaint are work?</div>\n"
   ]
  },
  {
   "cell_type": "code",
   "execution_count": 10,
   "id": "ec8fbe31-2fe2-4829-a33a-d637d7c3b020",
   "metadata": {},
   "outputs": [
    {
     "name": "stdout",
     "output_type": "stream",
     "text": [
      "1062 (23000): Duplicate entry 'mubeen@xyz' for key 'alias'\n"
     ]
    }
   ],
   "source": [
    "# insert values\n",
    "\n",
    "query = \"\"\"\n",
    "INSERT INTO test.users8(username,user_id) VALUES \n",
    "    ('mubeen@xyz',2)\n",
    "\"\"\"\n",
    "try:\n",
    "    cursor.execute(query)\n",
    "except Exception as e:\n",
    "    print(e) # yes its working"
   ]
  },
  {
   "cell_type": "markdown",
   "id": "d9e02c97-8bef-417c-bfcd-cf56b9fe7af0",
   "metadata": {},
   "source": [
    "<div style=\"text-align:justify; color:black; font-size:25px; font-family:Sans-serif; font-style: oblique; text-shadow: 0 0 3px white, 0 0 1px black;\"> The CONSTRAINT keyword is often used in combination with other keywords to define specific constraints.</div>\n"
   ]
  },
  {
   "cell_type": "code",
   "execution_count": 11,
   "id": "d8e9d3ae-fb52-4dcf-a6a2-91169588c61b",
   "metadata": {},
   "outputs": [],
   "source": [
    "# create a new table\n",
    "query = \"\"\"\n",
    "    CREATE TABLE test.users9(\n",
    "    \n",
    "        username VARCHAR(255),\n",
    "        user_id INTEGER NOT NULL,\n",
    "        \n",
    "        CONSTRAINT alias UNIQUE (username,user_id)\n",
    "    )\n",
    "\"\"\"\n",
    "\n",
    "cursor.execute(query)"
   ]
  },
  {
   "cell_type": "code",
   "execution_count": 12,
   "id": "ae608520-8dcc-473e-a6ae-eb090f4823d7",
   "metadata": {},
   "outputs": [],
   "source": [
    "# insert values\n",
    "\n",
    "query = \"\"\"\n",
    "INSERT INTO test.users9(username,user_id) VALUES \n",
    "    ('mubeen@xyz',1),\n",
    "    ('mubeen@xyz',2)\n",
    "    \n",
    "\"\"\"\n",
    "cursor.execute(query) # "
   ]
  },
  {
   "cell_type": "code",
   "execution_count": 14,
   "id": "3d128ea4-7698-4274-a8df-6604cffd776c",
   "metadata": {},
   "outputs": [
    {
     "name": "stdout",
     "output_type": "stream",
     "text": [
      "('mubeen@xyz', 1)\n",
      "('mubeen@xyz', 2)\n"
     ]
    }
   ],
   "source": [
    "# check values\n",
    "cursor.execute(\"SELECT * FROM test.users9\")\n",
    "\n",
    "for i in cursor.fetchall():\n",
    "    print(i)"
   ]
  },
  {
   "cell_type": "markdown",
   "id": "78068be1-3d02-4b25-9e9f-63574ef1bdcf",
   "metadata": {},
   "source": [
    "<div style=\"text-align:justify; color:black; font-size:25px; font-family:Sans-serif; font-style: oblique; text-shadow: 0 0 3px white, 0 0 1px black;\"> Here Constraint Unique are working on the basis of both values<br><br>Now try to add same username and user id</div>\n"
   ]
  },
  {
   "cell_type": "code",
   "execution_count": 16,
   "id": "824a39ce-7f5f-4b12-b4bf-cf2235f7a57a",
   "metadata": {},
   "outputs": [
    {
     "name": "stdout",
     "output_type": "stream",
     "text": [
      "1062 (23000): Duplicate entry 'mubeen@xyz-1' for key 'alias'\n"
     ]
    }
   ],
   "source": [
    "# insert values\n",
    "\n",
    "query = \"\"\"\n",
    "INSERT INTO test.users9(username,user_id) VALUES \n",
    "    ('mubeen@xyz',1)\n",
    "\n",
    "\"\"\"\n",
    "try:\n",
    "    cursor.execute(query)\n",
    "except Exception as e:\n",
    "    print(e) "
   ]
  },
  {
   "cell_type": "markdown",
   "id": "99885354-16a9-4dbc-8259-c4ba6d1eac7d",
   "metadata": {},
   "source": [
    "<div style=\"text-align:justify; color:black; font-size:25px; font-family:Sans-serif; font-style: oblique; text-shadow: 0 0 3px white, 0 0 1px black;\">Now change the the userid</div>\n"
   ]
  },
  {
   "cell_type": "code",
   "execution_count": 18,
   "id": "7f8e37d9-a60c-4560-94a2-22c9dc46ef1a",
   "metadata": {},
   "outputs": [],
   "source": [
    "# insert values\n",
    "\n",
    "query = \"\"\"\n",
    "INSERT INTO test.users9(username,user_id) VALUES \n",
    "    ('mubeen@xyz',3)\n",
    "\"\"\"\n",
    "cursor.execute(query) # "
   ]
  },
  {
   "cell_type": "code",
   "execution_count": 19,
   "id": "e28d9787-99cc-444f-ac46-13c8342a5043",
   "metadata": {},
   "outputs": [
    {
     "name": "stdout",
     "output_type": "stream",
     "text": [
      "('mubeen@xyz', 1)\n",
      "('mubeen@xyz', 2)\n",
      "('mubeen@xyz', 3)\n"
     ]
    }
   ],
   "source": [
    "# check values\n",
    "cursor.execute(\"SELECT * FROM test.users9\")\n",
    "\n",
    "for i in cursor.fetchall():\n",
    "    print(i)"
   ]
  },
  {
   "cell_type": "markdown",
   "id": "5522dbbd-8edb-48d8-b40b-3c4134d2f69d",
   "metadata": {},
   "source": [
    "<div style=\"text-align:justify; color:black; font-size:25px; font-family:Sans-serif; font-style: oblique; text-shadow: 0 0 3px white, 0 0 1px black;\">Example 2</div>\n"
   ]
  },
  {
   "cell_type": "code",
   "execution_count": 20,
   "id": "2a8b267f-aca3-4b57-85a5-efcc1f4e16b0",
   "metadata": {},
   "outputs": [],
   "source": [
    "\n",
    "query = \"\"\"\n",
    "INSERT INTO test.users9(username,user_id) VALUES \n",
    "    ('ab',1),\n",
    "    ('ba',1)\n",
    "\"\"\"\n",
    "cursor.execute(query) # here both combination are unique"
   ]
  },
  {
   "cell_type": "code",
   "execution_count": 21,
   "id": "1d6dd53a-bad0-40ad-b497-df4368acd6e0",
   "metadata": {},
   "outputs": [
    {
     "name": "stdout",
     "output_type": "stream",
     "text": [
      "('ab', 1)\n",
      "('ba', 1)\n",
      "('mubeen@xyz', 1)\n",
      "('mubeen@xyz', 2)\n",
      "('mubeen@xyz', 3)\n"
     ]
    }
   ],
   "source": [
    "# check values\n",
    "cursor.execute(\"SELECT * FROM test.users9\")\n",
    "\n",
    "for i in cursor.fetchall():\n",
    "    print(i)"
   ]
  },
  {
   "cell_type": "markdown",
   "id": "432d3f9c-6e3a-4018-83ab-c503942d451d",
   "metadata": {},
   "source": [
    "<div style=\"text-align:justify; color:black; font-size:25px; font-family:Sans-serif; font-style: oblique; text-shadow: 0 0 3px white, 0 0 1px black;\"> Constraint keyword Example 3 with check</div>\n"
   ]
  },
  {
   "cell_type": "code",
   "execution_count": 22,
   "id": "2f05c4b3-b417-4234-9b19-3747bd21029a",
   "metadata": {},
   "outputs": [],
   "source": [
    "# create a new table\n",
    "query = \"\"\"\n",
    "    CREATE TABLE test.users10(\n",
    "    \n",
    "        username VARCHAR(255),\n",
    "        age INTEGER,\n",
    "        \n",
    "        CONSTRAINT uage CHECK(age >= 13 AND age <= 19) \n",
    "    )\n",
    "\"\"\"\n",
    "\n",
    "cursor.execute(query)"
   ]
  },
  {
   "cell_type": "code",
   "execution_count": 24,
   "id": "1cf679c1-2ea0-4b74-8392-69c9090b67d5",
   "metadata": {},
   "outputs": [],
   "source": [
    "query = \"\"\"\n",
    "INSERT INTO test.users10(username,age) VALUES \n",
    "        ('ali',13),\n",
    "        ('rizwan',19)\n",
    "\"\"\"\n",
    "cursor.execute(query) "
   ]
  },
  {
   "cell_type": "code",
   "execution_count": 25,
   "id": "7560f931-1ab9-4bf2-918e-2f8a0abc288e",
   "metadata": {},
   "outputs": [
    {
     "name": "stdout",
     "output_type": "stream",
     "text": [
      "('ali', 13)\n",
      "('rizwan', 19)\n"
     ]
    }
   ],
   "source": [
    "# check values\n",
    "cursor.execute(\"SELECT * FROM test.users10\")\n",
    "\n",
    "for i in cursor.fetchall():\n",
    "    print(i)"
   ]
  },
  {
   "cell_type": "markdown",
   "id": "0bb55882-d0e4-48bc-9cc2-de05f0ca5d2d",
   "metadata": {},
   "source": [
    "<div style=\"text-align:justify; color:black; font-size:25px; font-family:Sans-serif; font-style: oblique; text-shadow: 0 0 3px white, 0 0 1px black;\">Now trying to add age 12</div>\n"
   ]
  },
  {
   "cell_type": "code",
   "execution_count": 27,
   "id": "5c716d42-dce0-4878-8356-3a905885635f",
   "metadata": {},
   "outputs": [
    {
     "name": "stdout",
     "output_type": "stream",
     "text": [
      "4025 (23000): CONSTRAINT `uage` failed for `test`.`users10`\n"
     ]
    }
   ],
   "source": [
    "query = \"\"\"\n",
    "INSERT INTO test.users10(username,age) VALUES \n",
    "        ('ali',12)\n",
    "\"\"\"\n",
    "try:\n",
    "    cursor.execute(query) \n",
    "except Exception as e:\n",
    "    print(e)"
   ]
  },
  {
   "cell_type": "markdown",
   "id": "6d688201-6746-46a9-9f84-8b34fb92e16e",
   "metadata": {},
   "source": [
    "<h1 style=\"text-align:center; color:#005bbd; font-size:50px; font-family:Sans-serif; font-style: oblique; text-shadow: 0 0 3px white, 0 0 1px Black;\">Relation Ship</h1>\n"
   ]
  },
  {
   "cell_type": "markdown",
   "id": "ea94e7d9-767a-4e8e-8738-77ad807c4810",
   "metadata": {},
   "source": [
    "<div style=\"text-align:justify; color:black; font-size:30px; font-family:Sans-serif; font-style: oblique; text-shadow: 0 0 3px white, 0 0 1px black;\">\n",
    "<br>\n",
    "<p style=\"text-align:justify; font-size:25px\">The terms \"PRIMARY KEY,\" \"FOREIGN KEY,\" and \"REFERENCES\" are closely related to the establishment of relationships between tables.</div>\n",
    "\n",
    "\n",
    "\n"
   ]
  },
  {
   "cell_type": "code",
   "execution_count": 43,
   "id": "a256fd33-530c-481b-899a-ae17e953005e",
   "metadata": {},
   "outputs": [],
   "source": [
    "# create first table\n",
    "\n",
    "query = \"\"\"\n",
    "    CREATE TABLE test.users_data(\n",
    "    \n",
    "        name VARCHAR(255) NOT NULL,\n",
    "        user_id INTEGER PRIMARY KEY AUTO_INCREMENT\n",
    "    )\n",
    "\"\"\"\n",
    "\n",
    "cursor.execute(query)"
   ]
  },
  {
   "cell_type": "markdown",
   "id": "7d796eff-149c-49cc-ac27-531ff26c6c77",
   "metadata": {},
   "source": [
    "<div style=\"text-align:justify; color:black; font-size:30px; font-family:Sans-serif; font-style: oblique; text-shadow: 0 0 3px white, 0 0 1px black;\">\n",
    "<br>\n",
    "<h3 style=\"color:#005bbd; font-size:25px;\">Create a Refference\n",
    "</h3><br>\n",
    "<h3 style=\"color:red; font-size:30px;\">CONSTRAINT alias FOREIGN KEY (cur_name) REFERENCES ref_table(col_name) </h3>\n",
    "\n",
    "<div style=\"text-align:justify; color:black; font-size:25px; font-family:Sans-serif; font-style: oblique; text-shadow: 0 0 3px white, 0 0 1px black;\"> Foreign key must be a Primary key<br> and Refferences also a Primary key of the table</div>\n"
   ]
  },
  {
   "cell_type": "code",
   "execution_count": 44,
   "id": "28a7dc38-5a49-4096-9ae2-3b69d0c22d16",
   "metadata": {},
   "outputs": [],
   "source": [
    "# create 2nd table\n",
    "\n",
    "query = \"\"\"\n",
    "    CREATE TABLE test.users_code(\n",
    "\n",
    "        code INTEGER NOT NULL,\n",
    "        user_id INTEGER PRIMARY KEY AUTO_INCREMENT,\n",
    "        \n",
    "        CONSTRAINT reff FOREIGN KEY (user_id) REFERENCES test.users_data(user_id) \n",
    "    )\n",
    "\"\"\"\n",
    "\n",
    "cursor.execute(query)"
   ]
  },
  {
   "cell_type": "code",
   "execution_count": 45,
   "id": "e37b39a1-5204-438e-908f-6c6b7a32d32f",
   "metadata": {},
   "outputs": [],
   "source": [
    "# now fill first table users_data\n",
    "query = \"\"\"\n",
    "INSERT INTO test.users_data(name) VALUES \n",
    "    ('Mubeen')\n",
    "\n",
    "\"\"\"\n",
    "cursor.execute(query) "
   ]
  },
  {
   "cell_type": "code",
   "execution_count": 50,
   "id": "5839731b-c161-4d7f-8de6-526cd45fd3d0",
   "metadata": {},
   "outputs": [],
   "source": [
    "# now fill users_code\n",
    "query = \"\"\"\n",
    "INSERT INTO test.users_code(code) VALUES \n",
    "    (8956)\n",
    "\n",
    "\"\"\"\n",
    "cursor.execute(query) "
   ]
  },
  {
   "cell_type": "markdown",
   "id": "13fec879-fd01-4afd-8c70-53ffe31d8bbd",
   "metadata": {},
   "source": [
    "<div style=\"text-align:justify; color:black; font-size:25px; font-family:Sans-serif; font-style: oblique; text-shadow: 0 0 3px white, 0 0 1px black;\">check user_data</div>\n"
   ]
  },
  {
   "cell_type": "code",
   "execution_count": 53,
   "id": "97972b91-abd6-41b1-b883-dbeca3185580",
   "metadata": {},
   "outputs": [
    {
     "name": "stdout",
     "output_type": "stream",
     "text": [
      "('Mubeen', 1)\n"
     ]
    }
   ],
   "source": [
    "# check values\n",
    "cursor.execute(\"SELECT * FROM test.users_data\")\n",
    "\n",
    "for i in cursor.fetchall():\n",
    "    print(i)"
   ]
  },
  {
   "cell_type": "markdown",
   "id": "f9417d86-cdb9-47f7-836f-ef1dcc8002a7",
   "metadata": {},
   "source": [
    "<div style=\"text-align:justify; color:black; font-size:25px; font-family:Sans-serif; font-style: oblique; text-shadow: 0 0 3px white, 0 0 1px black;\">check user_code</div>\n"
   ]
  },
  {
   "cell_type": "code",
   "execution_count": 55,
   "id": "3f1f48dc-b4fc-4800-aea2-5211f588e720",
   "metadata": {},
   "outputs": [
    {
     "name": "stdout",
     "output_type": "stream",
     "text": [
      "(8956, 1)\n"
     ]
    }
   ],
   "source": [
    "# check values\n",
    "cursor.execute(\"SELECT * FROM test.users_code\")\n",
    "\n",
    "for i in cursor.fetchall():\n",
    "    print(i)"
   ]
  },
  {
   "cell_type": "markdown",
   "id": "4724545e-91b3-4ec3-a38f-bbaf0d33f9e7",
   "metadata": {},
   "source": [
    "<div style=\"text-align:justify; color:black; font-size:25px; font-family:Sans-serif; font-style: oblique; text-shadow: 0 0 3px white, 0 0 1px black;\">Here user_id 1 are relate the both table </div>\n"
   ]
  },
  {
   "cell_type": "markdown",
   "id": "1ef858fe-607f-4ca5-ac8a-147bc46e62a3",
   "metadata": {},
   "source": [
    "<div style=\"text-align:justify; color:black; font-size:30px; font-family:Sans-serif; font-style: oblique; text-shadow: 0 0 3px white, 0 0 1px black;\">\n",
    "<h3 style=\"color:#005bbd; font-size:25px;\">Check Refference\n",
    "</h3><br>\n",
    "<h3 style=\"color:red; font-size:20px;\"><ul style=\" line-height:20px;\">SELECT<br><br>\n",
    "    <ul>TABLE_NAME,</ul><br>\n",
    "    <ul>COLUMN_NAME,</ul><br>\n",
    "    <ul>CONSTRAINT_NAME,</ul><br>\n",
    "    <ul>REFERENCED_TABLE_NAME,</ul><br>\n",
    "    <ul>REFERENCED_COLUMN_NAME</ul><br>\n",
    "FROM<br><br>\n",
    "    <ul>INFORMATION_SCHEMA.KEY_COLUMN_USAGE</ul><br>\n",
    "WHERE<br><br>\n",
    "    <ul>TABLE_NAME = 'name_of_your_table' AND CONSTRAINT_NAME LIKE '%your constrain alias %';</ul></ul></h3>\n"
   ]
  },
  {
   "cell_type": "code",
   "execution_count": 77,
   "id": "fa4d47a6-102d-411d-9de8-59c1db3f4ac9",
   "metadata": {},
   "outputs": [
    {
     "name": "stdout",
     "output_type": "stream",
     "text": [
      "('users_code', 'user_id', 'reff', 'users_data', 'user_id')\n"
     ]
    }
   ],
   "source": [
    "query = \"\"\"\n",
    "SELECT\n",
    "    TABLE_NAME,\n",
    "    COLUMN_NAME,\n",
    "    CONSTRAINT_NAME,\n",
    "    REFERENCED_TABLE_NAME,\n",
    "    REFERENCED_COLUMN_NAME\n",
    "    \n",
    "FROM\n",
    "    INFORMATION_SCHEMA.KEY_COLUMN_USAGE\n",
    "WHERE\n",
    "    TABLE_NAME = 'users_code' AND CONSTRAINT_NAME LIKE '%reff%';\n",
    "\n",
    "\"\"\"\n",
    "cursor.execute(query)\n",
    "for i in cursor.fetchall():\n",
    "    print(i)"
   ]
  },
  {
   "cell_type": "markdown",
   "id": "94ee34d4-97ce-4429-87fb-4ba8858a256b",
   "metadata": {},
   "source": [
    "<div style=\"text-align:justify; color:black; font-size:25px; font-family:Sans-serif; font-style: oblique; text-shadow: 0 0 3px white, 0 0 1px black;\">Here i use user_code show the relational of users_data </div>\n"
   ]
  },
  {
   "cell_type": "markdown",
   "id": "53cedffd-d90a-4013-a216-adbf7e1407aa",
   "metadata": {},
   "source": [
    "<div style=\"text-align:justify; color:black; font-size:25px; font-family:Sans-serif; font-style: oblique; text-shadow: 0 0 3px white, 0 0 1px black;\">Now we also Join Both table</div>\n"
   ]
  },
  {
   "cell_type": "markdown",
   "id": "fd7753ec-84b8-4f41-ab13-4ddcdf774248",
   "metadata": {},
   "source": [
    "<div style=\"text-align:justify; color:black; font-size:30px; font-family:Sans-serif; font-style: oblique; text-shadow: 0 0 3px white, 0 0 1px black;\">\n",
    "<br>\n",
    "<h3 style=\"color:#005bbd; font-size:25px;\">Join both table\n",
    "</h3><br>\n",
    "<h3 style=\"color:red; font-size:30px;\">SELECT columns FROM table1 JOIN table2 ON table1_col = table2_col</h3>\n"
   ]
  },
  {
   "cell_type": "code",
   "execution_count": 99,
   "id": "8e2f44e0-54dc-4eda-9343-5f970de31208",
   "metadata": {},
   "outputs": [
    {
     "name": "stdout",
     "output_type": "stream",
     "text": [
      "('Mubeen', 8956)\n"
     ]
    }
   ],
   "source": [
    "query = \"\"\"\n",
    "SELECT name,test.users_code.code FROM test.users_data\n",
    "JOIN test.users_code\n",
    "ON test.users_data.user_id = test.users_code.user_id\n",
    "\"\"\"\n",
    "\n",
    "cursor.execute(query)\n",
    "\n",
    "for i in cursor.fetchall():\n",
    "    print(i)"
   ]
  },
  {
   "cell_type": "markdown",
   "id": "12b2d8b8-b137-47f0-bb5e-86b788a020ad",
   "metadata": {},
   "source": [
    "<div style=\"text-align:justify; color:black; font-size:25px; font-family:Sans-serif; font-style: oblique; text-shadow: 0 0 3px white, 0 0 1px black;\">Example 2</div>\n"
   ]
  },
  {
   "cell_type": "code",
   "execution_count": 85,
   "id": "fa393b9e-f5a9-4860-b4da-872018d55868",
   "metadata": {},
   "outputs": [],
   "source": [
    "query = \"\"\"\n",
    "    \n",
    "    CREATE TABLE test.usr (\n",
    "    \n",
    "    username VARCHAR(255) PRIMARY KEY NOT NULL,\n",
    "    name VARCHAR(255) NOT NULL\n",
    ");\n",
    "\"\"\"\n",
    "cursor.execute(query)"
   ]
  },
  {
   "cell_type": "code",
   "execution_count": 87,
   "id": "1fc7a443-7c86-4cc2-beaa-8c48798d24ed",
   "metadata": {},
   "outputs": [],
   "source": [
    "query = \"\"\"\n",
    "    \n",
    "    CREATE TABLE test.usr_code (\n",
    "    \n",
    "    username VARCHAR(255) PRIMARY KEY NOT NULL,\n",
    "    code INTEGER NOT NULL,\n",
    "    \n",
    "    CONSTRAINT ref FOREIGN KEY (username) REFERENCES test.usr(username)\n",
    "    \n",
    " \n",
    ");\n",
    "\"\"\"\n",
    "cursor.execute(query)"
   ]
  },
  {
   "cell_type": "markdown",
   "id": "79e92042-a47c-4593-858f-df0dd0ee3b3f",
   "metadata": {},
   "source": [
    "<div style=\"text-align:justify; color:black; font-size:25px; font-family:Sans-serif; font-style: oblique; text-shadow: 0 0 3px white, 0 0 1px black;\">Now fill usr table</div>\n"
   ]
  },
  {
   "cell_type": "code",
   "execution_count": 88,
   "id": "73e8d070-9952-4436-ba0e-c419bc0b002d",
   "metadata": {},
   "outputs": [],
   "source": [
    "query = \"\"\"\n",
    "    \n",
    "    INSERT INTO test.usr (username,name)\n",
    "    VALUES ('Mubeenxyz@123','Mubeen'), ('Alixyz@11','Ali')\n",
    "\"\"\"\n",
    "cursor.execute(query)"
   ]
  },
  {
   "cell_type": "markdown",
   "id": "0022d684-1564-4cd6-9758-27da90ea0190",
   "metadata": {},
   "source": [
    "<div style=\"text-align:justify; color:black; font-size:25px; font-family:Sans-serif; font-style: oblique; text-shadow: 0 0 3px white, 0 0 1px black;\">Now fill usr_code table</div>\n"
   ]
  },
  {
   "cell_type": "code",
   "execution_count": 90,
   "id": "f07603be-ddc7-4df6-85a6-c68fc299f8c9",
   "metadata": {},
   "outputs": [],
   "source": [
    "query = \"\"\"\n",
    "    \n",
    "    INSERT INTO test.usr_code (username,code)\n",
    "    VALUES ('Alixyz@11',555)\n",
    "\"\"\"\n",
    "cursor.execute(query)"
   ]
  },
  {
   "cell_type": "code",
   "execution_count": 91,
   "id": "688011fc-4ec6-421b-bedb-096608411194",
   "metadata": {},
   "outputs": [
    {
     "name": "stdout",
     "output_type": "stream",
     "text": [
      "('Alixyz@11', 'Ali')\n",
      "('Mubeenxyz@123', 'Mubeen')\n"
     ]
    }
   ],
   "source": [
    "# show both table data\n",
    "\n",
    "query = \"\"\"\n",
    "SELECT * FROM test.usr\n",
    "\"\"\"\n",
    "\n",
    "cursor.execute(query)\n",
    "\n",
    "for i in cursor.fetchall():\n",
    "    print(i)"
   ]
  },
  {
   "cell_type": "code",
   "execution_count": 92,
   "id": "51a16a41-a30f-4edd-8e61-c7b109ff68a6",
   "metadata": {},
   "outputs": [
    {
     "name": "stdout",
     "output_type": "stream",
     "text": [
      "('Alixyz@11', 555)\n"
     ]
    }
   ],
   "source": [
    "# show both table data\n",
    "\n",
    "query = \"\"\"\n",
    "SELECT * FROM test.usr_code\n",
    "\"\"\"\n",
    "\n",
    "cursor.execute(query)\n",
    "\n",
    "for i in cursor.fetchall():\n",
    "    print(i)"
   ]
  },
  {
   "cell_type": "markdown",
   "id": "8842f671-a8a7-401e-88f1-c1a86217643b",
   "metadata": {},
   "source": [
    "<div style=\"text-align:justify; color:black; font-size:25px; font-family:Sans-serif; font-style: oblique; text-shadow: 0 0 3px white, 0 0 1px black;\">Now the relations in table</div>\n"
   ]
  },
  {
   "cell_type": "code",
   "execution_count": 96,
   "id": "660ca3d8-5552-4e75-81a3-857acc048d43",
   "metadata": {},
   "outputs": [
    {
     "name": "stdout",
     "output_type": "stream",
     "text": [
      "('usr_code', 'username', 'ref', 'usr', 'username')\n"
     ]
    }
   ],
   "source": [
    "query = \"\"\"\n",
    "SELECT \n",
    "    TABLE_NAME,\n",
    "    COLUMN_NAME,\n",
    "    CONSTRAINT_NAME,\n",
    "\n",
    "    REFERENCED_TABLE_NAME,\n",
    "    REFERENCED_COLUMN_NAME\n",
    "\n",
    "\n",
    "FROM INFORMATION_SCHEMA.KEY_COLUMN_USAGE\n",
    "\n",
    "WHERE\n",
    "    \n",
    "    TABLE_NAME = 'usr_code' AND CONSTRAINT_NAME LIKE '%ref%';\n",
    "\n",
    "\"\"\"\n",
    "\n",
    "cursor.execute(query)\n",
    "\n",
    "for i in cursor.fetchall():\n",
    "    print(i)"
   ]
  },
  {
   "cell_type": "markdown",
   "id": "408b9530-8884-40d2-8555-f3909ea1d646",
   "metadata": {},
   "source": [
    "<div style=\"text-align:justify; color:black; font-size:25px; font-family:Sans-serif; font-style: oblique; text-shadow: 0 0 3px white, 0 0 1px black;\">Join Table</div>\n"
   ]
  },
  {
   "cell_type": "code",
   "execution_count": 102,
   "id": "e641def4-3187-4d3e-a1a0-302509c25cfb",
   "metadata": {},
   "outputs": [
    {
     "name": "stdout",
     "output_type": "stream",
     "text": [
      "('Ali', 'Alixyz@11', 555)\n"
     ]
    }
   ],
   "source": [
    "query = \"\"\"\n",
    "SELECT \n",
    "    test.usr.name, \n",
    "    test.usr_code.username, \n",
    "    test.usr_code.code \n",
    "\n",
    "FROM test.usr\n",
    "JOIN test.usr_code\n",
    "ON test.usr.username = test.usr_code.username\n",
    "\"\"\"\n",
    "\n",
    "cursor.execute(query)\n",
    "\n",
    "for i in cursor.fetchall():\n",
    "    print(i)"
   ]
  },
  {
   "cell_type": "markdown",
   "id": "b0a760cb-3b14-4ef8-9ce7-74ad1581458b",
   "metadata": {},
   "source": [
    "<div style=\"text-align:justify; color:black; font-size:25px; font-family:Sans-serif; font-style: oblique; text-shadow: 0 0 3px white, 0 0 1px black;\">Note Once we add a Refference than we cant Delete And Update the Table1 </div>\n"
   ]
  },
  {
   "cell_type": "markdown",
   "id": "cb466a49-4111-41dc-8cad-1ff3d6851b47",
   "metadata": {},
   "source": [
    "<h1 style=\"text-align:center; color:#005bbd; font-size:50px; font-family:Sans-serif; font-style: oblique; text-shadow: 0 0 3px white, 0 0 1px Black;\">Referential Actions</h1>\n",
    "\n",
    "<div style=\"text-align:justify; color:black; font-size:30px; font-family:Sans-serif; font-style: oblique; text-shadow: 0 0 3px white, 0 0 1px black;\">\n",
    "<br>\n",
    "<p style=\"text-align:justify; font-size:25px\">Referential actions, also known as referential integrity actions or cascade actions, are actions that can be automatically performed by a database management system (DBMS) when a foreign key relationship is involved.<br><br>These actions define how changes to the parent (referenced) table are reflected in the child (referencing) table.</p>\n",
    "</div>\n",
    "\n",
    "<br><br><br>\n",
    "<div style=\"text-align:justify; color:black; font-size:25px; font-family:Sans-serif; font-style: oblique; text-shadow: 0 0 3px white, 0 0 1px black;\">RESTRICT TYPE<br><br>\n",
    "\n",
    "<ul>here we have two tables test.usr , and test.usr_code</ul>\n",
    "<ul>test.usr_code are relate the test.usr table</ul>\n",
    "<ul>So if i remove the test.usr table than test.usr_code table info are lost</ul>\n",
    "<ul>So we cant test.usr user table event we are not remove first test.usr_code table</ul>\n",
    "<ul>This type ot Referential Action called RESTRICT </ul>\n",
    "\n",
    "</div>\n"
   ]
  },
  {
   "cell_type": "code",
   "execution_count": 103,
   "id": "8ffa3e4b-a643-403d-b924-a4b967c30bc9",
   "metadata": {},
   "outputs": [
    {
     "name": "stdout",
     "output_type": "stream",
     "text": [
      "1451 (23000): Cannot delete or update a parent row: a foreign key constraint fails\n"
     ]
    }
   ],
   "source": [
    "# test.usr_code are the refference of test.usr\n",
    "# so we cant delete test.usr table\n",
    "query = \"\"\"\n",
    "    DROP TABLE test.usr\n",
    "\"\"\"\n",
    "try:\n",
    "    cursor.execute(query) \n",
    "except Exception as e:\n",
    "    print(e)\n"
   ]
  },
  {
   "cell_type": "code",
   "execution_count": 104,
   "id": "caebc4e1-dc0f-49c9-a939-65643a5bd730",
   "metadata": {},
   "outputs": [
    {
     "name": "stdout",
     "output_type": "stream",
     "text": [
      "1701 (42000): Cannot truncate a table referenced in a foreign key constraint (`test`.`usr_code`, CONSTRAINT `ref` FOREIGN KEY (`username`) REFERENCES `test`.`usr` (`username`))\n"
     ]
    }
   ],
   "source": [
    "# try to clear values\n",
    "query = \"\"\"\n",
    "    TRUNCATE TABLE test.usr\n",
    "\"\"\"\n",
    "try:\n",
    "    cursor.execute(query) \n",
    "except Exception as e:\n",
    "    print(e)\n"
   ]
  },
  {
   "cell_type": "markdown",
   "id": "dafae6f7-141f-4cd5-bd7c-f0dab8adc830",
   "metadata": {},
   "source": [
    "<div style=\"text-align:justify; color:black; font-size:25px; font-family:Sans-serif; font-style: oblique; text-shadow: 0 0 3px white, 0 0 1px black;\">SO first Remove Refference Table than we delete the table </div>\n"
   ]
  },
  {
   "cell_type": "code",
   "execution_count": 105,
   "id": "48fee732-a2bd-489b-a18b-37eb3d9e5218",
   "metadata": {},
   "outputs": [],
   "source": [
    "query = \"\"\"\n",
    "    DROP TABLE test.usr_code\n",
    "\"\"\"\n",
    "cursor.execute(query) "
   ]
  },
  {
   "cell_type": "markdown",
   "id": "d54e7842-910c-40ea-8ee5-1da77216c0f6",
   "metadata": {},
   "source": [
    "<div style=\"text-align:justify; color:black; font-size:25px; font-family:Sans-serif; font-style: oblique; text-shadow: 0 0 3px white, 0 0 1px black;\">Now Delete the table</div>\n"
   ]
  },
  {
   "cell_type": "code",
   "execution_count": 106,
   "id": "d59aeeb1-3add-42c7-9b63-a2db501bff71",
   "metadata": {},
   "outputs": [],
   "source": [
    "query = \"\"\"\n",
    "    DROP TABLE test.usr\n",
    "\"\"\"\n",
    "cursor.execute(query) # table are removed without any error"
   ]
  },
  {
   "cell_type": "markdown",
   "id": "09ba9946-93f7-44f7-817b-b1a0ec152a0a",
   "metadata": {},
   "source": [
    "<div style=\"text-align:justify; color:black; font-size:25px; font-family:Sans-serif; font-style: oblique; text-shadow: 0 0 3px white, 0 0 1px black;\">Also we cant Update value</div>\n"
   ]
  },
  {
   "cell_type": "markdown",
   "id": "465d87db-bd00-4773-8556-4089972f5a19",
   "metadata": {},
   "source": [
    "<br>\n",
    "\n",
    "<div style=\"text-align:justify; color:black; font-size:25px; font-family:Sans-serif; font-style: oblique; text-shadow: 0 0 3px white, 0 0 1px black;\">CASCADE TYPE<br><br>\n",
    "<ul>When a referenced row in the parent table is updated or deleted, the corresponding rows in the child table are also updated or deleted automatically.</ul>"
   ]
  },
  {
   "cell_type": "code",
   "execution_count": 107,
   "id": "32f03180-9f5e-4f53-beaf-a5d24627d6ba",
   "metadata": {},
   "outputs": [],
   "source": [
    "query = \"\"\"\n",
    "    \n",
    "    CREATE TABLE \n",
    "    test.usr (\n",
    "    username VARCHAR(255) PRIMARY KEY,\n",
    "    name VARCHAR(255) NOT NULL\n",
    "    )    \n",
    "\"\"\"\n",
    "cursor.execute(query)\n"
   ]
  },
  {
   "cell_type": "markdown",
   "id": "6334e5dd-c84b-456b-8142-fe7534705150",
   "metadata": {},
   "source": [
    "<div style=\"text-align:justify; color:black; font-size:30px; font-family:Sans-serif; font-style: oblique; text-shadow: 0 0 3px white, 0 0 1px black;\">\n",
    "<br>\n",
    "<h3 style=\"color:#005bbd; font-size:25px;\">Set Cascade\n",
    "</h3><br>\n",
    "<h3 style=\"color:red; font-size:25px; line-height:200%;\">CONSTRAINT alias FOREIGN KEY (cur_name) REFERENCES ref_table(col_name) <br> ON DELETE CASCASE<br>ON UPDATE CASCASE</h3>\n"
   ]
  },
  {
   "cell_type": "code",
   "execution_count": 109,
   "id": "d33e832a-ffc7-474d-89f4-e835a1726e47",
   "metadata": {},
   "outputs": [],
   "source": [
    "query = \"\"\"\n",
    "    \n",
    "    CREATE TABLE \n",
    "    \n",
    "    test.usr_code (\n",
    "    username VARCHAR(255) PRIMARY KEY NOT NULL,\n",
    "    code INTEGER NOT NULL,\n",
    "    \n",
    "    CONSTRAINT ref FOREIGN KEY (username) REFERENCES test.usr(username)\n",
    "    \n",
    "    ON DELETE CASCADE\n",
    "    ON UPDATE CASCADE\n",
    ")\n",
    "    \n",
    "\"\"\"\n",
    "cursor.execute(query)"
   ]
  },
  {
   "cell_type": "code",
   "execution_count": 112,
   "id": "c71b957a-9b56-46d3-b7fd-10c5236a9ba6",
   "metadata": {},
   "outputs": [],
   "source": [
    "# fill table 1 value\n",
    "\n",
    "query = \"\"\"\n",
    "    INSERT INTO test.usr (username,name)\n",
    "    VALUES ('Alixyz@11','ALI')\n",
    "\"\"\"\n",
    "cursor.execute(query)"
   ]
  },
  {
   "cell_type": "code",
   "execution_count": 115,
   "id": "fd7bd9fa-41f5-42a8-aca6-95cf685470b2",
   "metadata": {},
   "outputs": [],
   "source": [
    "# fill table 2 value\n",
    "\n",
    "query = \"\"\"\n",
    "    INSERT INTO test.usr_code (username,code)\n",
    "    VALUES ('Alixyz@11',998)\n",
    "\"\"\"\n",
    "cursor.execute(query)"
   ]
  },
  {
   "cell_type": "code",
   "execution_count": 116,
   "id": "c0006dde-85a1-44fe-9067-91ef27316342",
   "metadata": {},
   "outputs": [
    {
     "name": "stdout",
     "output_type": "stream",
     "text": [
      "('Alixyz@11', 'ALI')\n"
     ]
    }
   ],
   "source": [
    "# check values\n",
    "query = \"\"\"\n",
    "SELECT * FROM test.usr\n",
    "\"\"\"\n",
    "\n",
    "cursor.execute(query)\n",
    "\n",
    "for i in cursor.fetchall():\n",
    "    print(i)"
   ]
  },
  {
   "cell_type": "code",
   "execution_count": 117,
   "id": "b9c48d50-205f-4089-bd0e-6c1e08fa8829",
   "metadata": {},
   "outputs": [
    {
     "name": "stdout",
     "output_type": "stream",
     "text": [
      "('Alixyz@11', 998)\n"
     ]
    }
   ],
   "source": [
    "query = \"\"\"\n",
    "SELECT * FROM test.usr_code\n",
    "\"\"\"\n",
    "\n",
    "cursor.execute(query)\n",
    "\n",
    "for i in cursor.fetchall():\n",
    "    print(i)"
   ]
  },
  {
   "cell_type": "markdown",
   "id": "dbfb8540-2839-497a-a0bb-cc43ac8ce79c",
   "metadata": {},
   "source": [
    "<div style=\"text-align:justify; color:black; font-size:25px; font-family:Sans-serif; font-style: oblique; text-shadow: 0 0 3px white, 0 0 1px black;\">now try to change parent (user) username Value</div>"
   ]
  },
  {
   "cell_type": "markdown",
   "id": "fda972d1-a20f-4b5f-9ba6-88c6a111b8b7",
   "metadata": {},
   "source": [
    "<div style=\"text-align:justify; color:black; font-size:25px; font-family:Sans-serif; font-style: oblique; text-shadow: 0 0 3px white, 0 0 1px black;\">UPDATE attribute for modify the values</div>"
   ]
  },
  {
   "cell_type": "markdown",
   "id": "4e119240-7edb-40ab-a77f-f784d8bee602",
   "metadata": {},
   "source": [
    "<div style=\"text-align:justify; color:black; font-size:30px; font-family:Sans-serif; font-style: oblique; text-shadow: 0 0 3px white, 0 0 1px black;\">\n",
    "<br>\n",
    "<h3 style=\"color:#005bbd; font-size:25px;\">Update table value\n",
    "</h3><br>\n",
    "<h3 style=\"color:red; font-size:25px;\">UPDATE table SET col1='new_value' WHERE col2 = 'value'</h3>"
   ]
  },
  {
   "cell_type": "code",
   "execution_count": 118,
   "id": "a9bcf83f-1fbe-4eea-929e-7c9b64770f57",
   "metadata": {},
   "outputs": [],
   "source": [
    "cursor.execute(\"UPDATE test.usr SET username='Mubeenxyz@111' WHERE name='ALI'\")"
   ]
  },
  {
   "cell_type": "code",
   "execution_count": 119,
   "id": "dacc374b-0735-4da8-b4e0-c9cf24d01648",
   "metadata": {},
   "outputs": [
    {
     "name": "stdout",
     "output_type": "stream",
     "text": [
      "('Mubeenxyz@111', 'ALI')\n"
     ]
    }
   ],
   "source": [
    "# now check value\n",
    "\n",
    "query = \"\"\"\n",
    "SELECT * FROM test.usr\n",
    "\"\"\"\n",
    "\n",
    "cursor.execute(query)\n",
    "\n",
    "for i in cursor.fetchall():\n",
    "    print(i) #username are changed "
   ]
  },
  {
   "cell_type": "markdown",
   "id": "4d4e5a44-d00c-4df7-ae16-097b7e13e3b4",
   "metadata": {},
   "source": [
    "<div style=\"text-align:justify; color:black; font-size:25px; font-family:Sans-serif; font-style: oblique; text-shadow: 0 0 3px white, 0 0 1px black;\">Here username are changed without any error bcz we set Cascade type</div>"
   ]
  },
  {
   "cell_type": "markdown",
   "id": "c592f4b8-0125-40c8-903e-b32198498421",
   "metadata": {},
   "source": [
    "<div style=\"text-align:justify; color:black; font-size:25px; font-family:Sans-serif; font-style: oblique; text-shadow: 0 0 3px white, 0 0 1px black;\">if i change the first table primary key value than Refference table primary key value are automatic changed</div>"
   ]
  },
  {
   "cell_type": "code",
   "execution_count": 121,
   "id": "8f29c084-cef3-462a-9d0b-6af068c8a0dc",
   "metadata": {},
   "outputs": [
    {
     "name": "stdout",
     "output_type": "stream",
     "text": [
      "('Mubeenxyz@111', 998)\n"
     ]
    }
   ],
   "source": [
    "# check value for test.usr_code\n",
    "\n",
    "query = \"\"\"\n",
    "SELECT * FROM test.usr_code\n",
    "\"\"\"\n",
    "\n",
    "cursor.execute(query)\n",
    "\n",
    "for i in cursor.fetchall():\n",
    "    print(i) # here username are automatic changed "
   ]
  },
  {
   "cell_type": "markdown",
   "id": "ffca09f6-63b5-40d0-96b6-812106a4ed74",
   "metadata": {},
   "source": [
    "<div style=\"text-align:justify; color:black; font-size:25px; font-family:Sans-serif; font-style: oblique; text-shadow: 0 0 3px white, 0 0 1px black;\">Note also in Cascade type we cant Delete and truncate Table but we update the values</div>"
   ]
  },
  {
   "cell_type": "code",
   "execution_count": 125,
   "id": "2ead559e-eee4-436e-9f4f-f0717b139fbf",
   "metadata": {},
   "outputs": [
    {
     "name": "stdout",
     "output_type": "stream",
     "text": [
      "1701 (42000): Cannot truncate a table referenced in a foreign key constraint (`test`.`usr_code`, CONSTRAINT `ref` FOREIGN KEY (`username`) REFERENCES `test`.`usr` (`username`))\n"
     ]
    }
   ],
   "source": [
    "try:\n",
    "    cursor.execute(\"TRUNCATE TABLE test.usr\")\n",
    "except Exception as e:\n",
    "    print(e)"
   ]
  },
  {
   "cell_type": "code",
   "execution_count": 127,
   "id": "61285426-8191-4c28-8d7c-32490a9882d7",
   "metadata": {},
   "outputs": [],
   "source": [
    "# first delete refference table than delete parent table\n",
    "cursor.execute(\"DROP TABLE test.usr_code\")"
   ]
  },
  {
   "cell_type": "code",
   "execution_count": 128,
   "id": "ca551bd0-becf-4f75-88e2-8b9f835acc39",
   "metadata": {},
   "outputs": [],
   "source": [
    "cursor.execute(\"DROP TABLE test.usr\")"
   ]
  },
  {
   "cell_type": "markdown",
   "id": "83dc3023-8b6c-4e5e-8dda-cb33ef24cae4",
   "metadata": {},
   "source": [
    "<br>\n",
    "<div style=\"text-align:justify; color:black; font-size:25px; font-family:Sans-serif; font-style: oblique; text-shadow: 0 0 3px white, 0 0 1px black;\">SET TYPE<br><br>\n",
    "<ul>When a referenced row in the parent table is updated or deleted, the foreign key columns in the corresponding rows in the child table are set to NULL.</ul>"
   ]
  },
  {
   "cell_type": "code",
   "execution_count": 17,
   "id": "07e21f02-01f6-445e-b5ae-04e97bbf03ed",
   "metadata": {},
   "outputs": [],
   "source": [
    "query = \"\"\"\n",
    "    \n",
    "    CREATE TABLE test.usr (\n",
    "    \n",
    "    username VARCHAR(255) PRIMARY KEY NOT NULL,\n",
    "    name VARCHAR(255) NOT NULL\n",
    ");\n",
    "\"\"\"\n",
    "cursor.execute(query)"
   ]
  },
  {
   "cell_type": "markdown",
   "id": "4979c927-c49d-46bc-a5c4-27da49fe086f",
   "metadata": {},
   "source": [
    "<div style=\"text-align:justify; color:black; font-size:30px; font-family:Sans-serif; font-style: oblique; text-shadow: 0 0 3px white, 0 0 1px black;\">\n",
    "<br>\n",
    "<h3 style=\"color:#005bbd; font-size:25px;\">Cascade Set NULL\n",
    "</h3><br>\n",
    "<h3 style=\"color:red; font-size:25px; line-height:200%;\">CONSTRAINT alias FOREIGN KEY (cur_name) REFERENCES ref_table(col_name) <br> ON DELETE CASCASE<br>ON UPDATE CASCASE</h3>\n"
   ]
  },
  {
   "cell_type": "code",
   "execution_count": 18,
   "id": "edee5b51-6a5c-4d6c-8c78-f2f656a06c58",
   "metadata": {},
   "outputs": [],
   "source": [
    "query = \"\"\"\n",
    "    \n",
    "    CREATE TABLE test.usr_code (\n",
    "    username VARCHAR(255) , # PRIMARY KEY COMMENTED\n",
    "    code INTEGER NOT NULL,\n",
    "    \n",
    "    CONSTRAINT ref FOREIGN KEY (username) REFERENCES test.usr(username)\n",
    "    ON DELETE SET NULL\n",
    "    ON UPDATE SET NULL\n",
    ");\n",
    "\"\"\"\n",
    "cursor.execute(query)"
   ]
  },
  {
   "cell_type": "markdown",
   "id": "6e6551f8-7785-4b13-8400-222de895ab60",
   "metadata": {},
   "source": [
    "<br>\n",
    "<div style=\"text-align:justify; color:black; font-size:25px; font-family:Sans-serif; font-style: oblique; text-shadow: 0 0 3px white, 0 0 1px black;\">Note ! Here test.usr_code Primary key of username not to be null<br><br>\n",
    "<ul>because if i remove parent value then child table value set to be Null</ul>\n",
    "<ul>but PRIMARY KEY must be unqiue and NOT NULL So aviod to use PRIMARY KEY and NOT NULL</ul>"
   ]
  },
  {
   "cell_type": "code",
   "execution_count": 21,
   "id": "93e359f2-c904-4240-8b4e-73986c209fe7",
   "metadata": {},
   "outputs": [],
   "source": [
    "# fill value\n",
    "query = \"\"\"\n",
    "\n",
    "    INSERT INTO test.usr (username,name)\n",
    "    VALUES ('Mubeen@123','MUBEEN')\n",
    "\"\"\"\n",
    "cursor.execute(query)"
   ]
  },
  {
   "cell_type": "code",
   "execution_count": 22,
   "id": "a894ef33-38db-4024-ad37-5e0e48706961",
   "metadata": {},
   "outputs": [],
   "source": [
    "query = \"\"\"\n",
    "\n",
    "    INSERT INTO test.usr_code (username,code)\n",
    "    VALUES ('Mubeen@123',56875)\n",
    "\"\"\"\n",
    "cursor.execute(query)"
   ]
  },
  {
   "cell_type": "markdown",
   "id": "55da57a8-8812-4bdc-8832-a34ad9cd3ddc",
   "metadata": {},
   "source": [
    "<div style=\"text-align:justify; color:black; font-size:25px; font-family:Sans-serif; font-style: oblique; text-shadow: 0 0 3px white, 0 0 1px black;\">now try to update user username value</div>"
   ]
  },
  {
   "cell_type": "code",
   "execution_count": 25,
   "id": "dfa641e8-691b-45a1-b129-08c5538380aa",
   "metadata": {},
   "outputs": [],
   "source": [
    "cursor.execute(\"UPDATE test.usr SET username='ali@111' WHERE name='MUBEEN'\")"
   ]
  },
  {
   "cell_type": "markdown",
   "id": "aa200eea-c8ef-4541-97b9-f81cd70061a4",
   "metadata": {},
   "source": [
    "<div style=\"text-align:justify; color:black; font-size:25px; font-family:Sans-serif; font-style: oblique; text-shadow: 0 0 3px white, 0 0 1px black;\">now check both values</div>"
   ]
  },
  {
   "cell_type": "code",
   "execution_count": 26,
   "id": "1e547708-e76e-4b7b-8080-e2c33166de9b",
   "metadata": {},
   "outputs": [
    {
     "name": "stdout",
     "output_type": "stream",
     "text": [
      "('ali@111', 'MUBEEN')\n"
     ]
    }
   ],
   "source": [
    "query = \"\"\"\n",
    "SELECT * FROM test.usr\n",
    "\"\"\"\n",
    "\n",
    "cursor.execute(query)\n",
    "\n",
    "for i in cursor.fetchall():\n",
    "    print(i) "
   ]
  },
  {
   "cell_type": "code",
   "execution_count": 27,
   "id": "9e0e9feb-23b6-46d6-a89f-fe2587f5531d",
   "metadata": {},
   "outputs": [
    {
     "name": "stdout",
     "output_type": "stream",
     "text": [
      "(None, 56875)\n"
     ]
    }
   ],
   "source": [
    "query = \"\"\"\n",
    "SELECT * FROM test.usr_code\n",
    "\"\"\"\n",
    "\n",
    "cursor.execute(query)\n",
    "\n",
    "for i in cursor.fetchall():\n",
    "    print(i)  # username is NULL "
   ]
  },
  {
   "cell_type": "markdown",
   "id": "45639c1b-1bae-4719-90dd-1e964cf7688c",
   "metadata": {},
   "source": [
    "<hr>\n",
    "<div style=\"text-align:justify; color:black; font-size:25px; font-family:Sans-serif; font-style: oblique; text-shadow: 0 0 3px white, 0 0 1px black;\">Commands\n",
    "\n",
    "<ul>CONSTRAINT alias type (name)</ul>\n",
    "<ul>CONSTRAINT alias FOREIGN KEY (cur_name) REFERENCES ref_table(col_name)</ul>\n",
    "\n",
    "<h3 style=\"color:black; font-size:20px;\"><ul style=\" line-height:20px; border:1px Solid black; padding:50px;\">SELECT<br><br>\n",
    "    <ul>TABLE_NAME,</ul><br>\n",
    "    <ul>COLUMN_NAME,</ul><br>\n",
    "    <ul>CONSTRAINT_NAME,</ul><br>\n",
    "    <ul>REFERENCED_TABLE_NAME,</ul><br>\n",
    "    <ul>REFERENCED_COLUMN_NAME</ul><br>\n",
    "FROM<br><br>\n",
    "    <ul>INFORMATION_SCHEMA.KEY_COLUMN_USAGE</ul><br>\n",
    "WHERE<br><br>\n",
    "    <ul>TABLE_NAME = 'name_of_your_table' AND CONSTRAINT_NAME LIKE '%your constrain alias %';</ul></ul></h3>\n",
    "<ul>SELECT columns FROM table1 JOIN table2 ON table1_col = table2_col</ul>\n",
    "<ul>CONSTRAINT alias FOREIGN KEY (cur_name) REFERENCES ref_table(col_name) <br> ON DELETE CASCASE<br>ON UPDATE CASCASE</ul>\n",
    "<ul>UPDATE table SET col1='new_value' WHERE col2 = 'value'\n",
    "</ul>\n",
    "<ul>CONSTRAINT alias FOREIGN KEY (cur_name) REFERENCES ref_table(col_name) <br> ON DELETE CASCASE<br>ON UPDATE CASCASE</ul>\n",
    "\n",
    "\n",
    "</div>"
   ]
  }
 ],
 "metadata": {
  "kernelspec": {
   "display_name": "Python 3 (ipykernel)",
   "language": "python",
   "name": "python3"
  },
  "language_info": {
   "codemirror_mode": {
    "name": "ipython",
    "version": 3
   },
   "file_extension": ".py",
   "mimetype": "text/x-python",
   "name": "python",
   "nbconvert_exporter": "python",
   "pygments_lexer": "ipython3",
   "version": "3.10.12"
  }
 },
 "nbformat": 4,
 "nbformat_minor": 5
}

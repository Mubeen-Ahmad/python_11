{
 "cells": [
  {
   "cell_type": "code",
   "execution_count": 1,
   "id": "b0130168-49fd-42a0-a17d-d0a5a75952a1",
   "metadata": {
    "canvas": {
     "comments": [],
     "componentType": "CodeCell",
     "copiedOriginId": null,
     "diskcache": false,
     "headerColor": "transparent",
     "id": "0b90de94-4c17-4487-a39f-3ad54eaacbc4",
     "isComponent": false,
     "name": "",
     "parents": []
    },
    "tags": []
   },
   "outputs": [],
   "source": [
    "import mysql.connector"
   ]
  },
  {
   "cell_type": "code",
   "execution_count": 2,
   "id": "12f1fe2e-1671-45f0-9315-e7db0271d50e",
   "metadata": {
    "canvas": {
     "comments": [],
     "componentType": "CodeCell",
     "copiedOriginId": null,
     "diskcache": false,
     "headerColor": "transparent",
     "id": "6f2bca18-72a3-4096-8a8b-b11d7f4f7e15",
     "isComponent": false,
     "name": "",
     "parents": []
    }
   },
   "outputs": [],
   "source": [
    "db = mysql.connector.connect(host=\"localhost\",user=\"root\",password=\"\")"
   ]
  },
  {
   "cell_type": "code",
   "execution_count": 3,
   "id": "58e5cf24-3ddb-4b97-a909-82e3cfff487d",
   "metadata": {
    "canvas": {
     "comments": [],
     "componentType": "CodeCell",
     "copiedOriginId": null,
     "diskcache": false,
     "headerColor": "transparent",
     "id": "688f78fd-0990-483e-9ea3-25d3d215576c",
     "isComponent": false,
     "name": "",
     "parents": []
    }
   },
   "outputs": [],
   "source": [
    "db.connect()\n",
    "cursor = db.cursor()"
   ]
  },
  {
   "cell_type": "markdown",
   "id": "aea53421-1518-4226-94e5-738c920467e5",
   "metadata": {
    "canvas": {
     "comments": [],
     "componentType": "CodeCell",
     "copiedOriginId": null,
     "diskcache": false,
     "headerColor": "transparent",
     "id": "59f2491c-1912-4f3f-9116-78b311a30075",
     "isComponent": false,
     "name": "",
     "parents": []
    }
   },
   "source": [
    "<br><br>\n",
    "\n",
    "### ALTER command is used to modify the structure of a database schema. \n",
    "- ### This command allows you to make changes to existing tables, such as \n",
    "- ### adding a new column\n",
    "- ### changing the data type of a column\n",
    "- ### applying other modifications.\n",
    "\n",
    "<hr>\n",
    "<br><br>\n",
    "\n",
    "## ADD\n",
    "- ### ALTER TABLE tablename ADD COLUMN\n",
    "- ### ALTER TABLE tablename ADD COLUMN AFTER columnname\n",
    "\n",
    "<br>\n",
    "\n",
    "## DROP\n",
    "- ### ALTER TABLE tablename DROP COLUMN\n",
    "<br>\n",
    "\n",
    "## MODIFY\n",
    "- ### MODIFY COLUMN column_name new_data_type\n",
    "<br>\n",
    "\n",
    "## CHANGE\n",
    "- ### MODIFY COLUMN old_column new_column datatype\n",
    "<br>\n",
    "<hr>\n",
    "\n",
    "# CONSTRAINT\n",
    "<br>\n",
    "\n",
    "## ADD CONSTRAINT\n",
    "- ### ALTER TABLE tablename ADD CONSTRAINT alias constraint\n",
    "\n",
    "<br>\n",
    "\n",
    "## MODIFY CONSTRAINT\n",
    "- ### ALTER TABLE tablename DROP CONSTRAINT alias ADD CONSTRAINT  alias constraint\n",
    "        \n",
    "## DROP CONSTRAINT\n",
    "- ### ALTER TABLE tablename DROP CONSTRAINT alias\n"
   ]
  },
  {
   "cell_type": "markdown",
   "id": "31d958b9-44d3-4163-97f0-6d7a19e06167",
   "metadata": {
    "canvas": {
     "comments": [],
     "componentType": "CodeCell",
     "copiedOriginId": null,
     "diskcache": false,
     "headerColor": "transparent",
     "id": "60b8bb75-3f8b-4cec-8f25-fd1279b854da",
     "isComponent": false,
     "name": "",
     "parents": []
    }
   },
   "source": [
    "<br><br>\n",
    "\n",
    "### Create DataBase"
   ]
  },
  {
   "cell_type": "code",
   "execution_count": 4,
   "id": "99e571a2-b2de-4f81-ba7b-2c1e06d305d0",
   "metadata": {
    "canvas": {
     "comments": [],
     "componentType": "CodeCell",
     "copiedOriginId": null,
     "diskcache": false,
     "headerColor": "transparent",
     "id": "20d220de-a7d1-470f-8f81-e3902bb24ceb",
     "isComponent": false,
     "name": "",
     "parents": []
    }
   },
   "outputs": [
    {
     "name": "stdout",
     "output_type": "stream",
     "text": [
      "('DDL',)\n",
      "('campusx',)\n",
      "('information_schema',)\n",
      "('login',)\n",
      "('mydatabase',)\n",
      "('mydb',)\n",
      "('mysql',)\n",
      "('performance_schema',)\n",
      "('phpmyadmin',)\n",
      "('test',)\n",
      "('testing',)\n",
      "('wasa',)\n"
     ]
    }
   ],
   "source": [
    "cursor.execute(\"SHOW DATABASES\")\n",
    "\n",
    "for i in cursor:\n",
    "    print(i)"
   ]
  },
  {
   "cell_type": "code",
   "execution_count": 5,
   "id": "87b1c6b4-46f2-4b96-915a-846b8095e0b3",
   "metadata": {
    "canvas": {
     "comments": [],
     "componentType": "CodeCell",
     "copiedOriginId": null,
     "diskcache": false,
     "headerColor": "transparent",
     "id": "668c37b9-3190-4a7d-9a5a-6179d2aff025",
     "isComponent": false,
     "name": "",
     "parents": []
    }
   },
   "outputs": [
    {
     "name": "stdout",
     "output_type": "stream",
     "text": [
      "Database : DDL\n",
      "Database : campusx\n",
      "Database : information_schema\n",
      "Database : login\n",
      "Database : mydatabase\n",
      "Database : mydb\n",
      "Database : mysql\n",
      "Database : performance_schema\n",
      "Database : phpmyadmin\n",
      "Database : test\n",
      "Database : testing\n",
      "Database : wasa\n"
     ]
    }
   ],
   "source": [
    "cursor.execute(\"CREATE DATABASE IF NOT EXISTS login\")\n",
    "cursor.execute(\"SHOW DATABASES\")\n",
    "\n",
    "for i in cursor:\n",
    "    print(\"Database :\",i[0])"
   ]
  },
  {
   "cell_type": "markdown",
   "id": "f5886c82-beb6-4517-b028-d4a6f07e0406",
   "metadata": {
    "canvas": {
     "comments": [],
     "componentType": "CodeCell",
     "copiedOriginId": null,
     "diskcache": false,
     "headerColor": "transparent",
     "id": "88b94e15-8793-4464-a2d5-4d3d2852829d",
     "isComponent": false,
     "name": "",
     "parents": []
    }
   },
   "source": [
    "<br><br>\n",
    "\n",
    "## Create Table"
   ]
  },
  {
   "cell_type": "code",
   "execution_count": 6,
   "id": "2176fc1c-095d-4ab1-a5bb-d8a3e00594de",
   "metadata": {
    "canvas": {
     "comments": [],
     "componentType": "CodeCell",
     "copiedOriginId": null,
     "diskcache": false,
     "headerColor": "transparent",
     "id": "29e60de3-ea1f-4daa-8b61-52508de8cdd1",
     "isComponent": false,
     "name": "",
     "parents": []
    }
   },
   "outputs": [],
   "source": [
    "cursor.execute(\"USE login\")"
   ]
  },
  {
   "cell_type": "code",
   "execution_count": 7,
   "id": "3beaaf0e-f0a1-454c-88ba-ed7dad54b9d0",
   "metadata": {
    "canvas": {
     "comments": [],
     "componentType": "CodeCell",
     "copiedOriginId": null,
     "diskcache": false,
     "headerColor": "transparent",
     "id": "c5b451a6-3e53-487b-bc85-a4ceb95b3d5f",
     "isComponent": false,
     "name": "",
     "parents": []
    }
   },
   "outputs": [],
   "source": [
    "query = \"\"\"\n",
    "    CREATE TABLE users(\n",
    "        \n",
    "        username VARCHAR(255) NOT NULL\n",
    ")\n",
    "\"\"\"\n",
    "\n",
    "cursor.execute(query)"
   ]
  },
  {
   "cell_type": "markdown",
   "id": "f050b28a-6191-4332-9184-885b6fbdf89b",
   "metadata": {
    "canvas": {
     "comments": [],
     "componentType": "CodeCell",
     "copiedOriginId": null,
     "diskcache": false,
     "headerColor": "transparent",
     "id": "8aa7b8a8-db52-4fb6-8419-03a26277fbba",
     "isComponent": false,
     "name": "",
     "parents": []
    }
   },
   "source": [
    "<br>\n",
    "\n",
    "## Show Columns"
   ]
  },
  {
   "cell_type": "code",
   "execution_count": 8,
   "id": "9ed96708-63f6-4e11-96f7-c741587650f9",
   "metadata": {
    "canvas": {
     "comments": [],
     "componentType": "CodeCell",
     "copiedOriginId": null,
     "diskcache": false,
     "headerColor": "transparent",
     "id": "6e6e5429-b64c-4539-9043-28efc524337d",
     "isComponent": false,
     "name": "",
     "parents": []
    }
   },
   "outputs": [
    {
     "name": "stdout",
     "output_type": "stream",
     "text": [
      "username varchar(255)\n"
     ]
    }
   ],
   "source": [
    "cursor.execute(\"SHOW COLUMNS FROM users\")\n",
    "columns = cursor.fetchall()\n",
    "\n",
    "for col in columns:\n",
    "    print(col[0],col[1])"
   ]
  },
  {
   "cell_type": "markdown",
   "id": "5e9a24cc-6f79-4ffa-a038-1d2fda9e8bc9",
   "metadata": {
    "canvas": {
     "comments": [],
     "componentType": "CodeCell",
     "copiedOriginId": null,
     "diskcache": false,
     "headerColor": "transparent",
     "id": "3ebb4728-5efb-4f54-9c19-c6d7b0a743b4",
     "isComponent": false,
     "name": "",
     "parents": []
    }
   },
   "source": [
    "<br>\n",
    "\n",
    "# Now Add More column"
   ]
  },
  {
   "cell_type": "code",
   "execution_count": 9,
   "id": "5531278f-9e2d-4a25-9c96-edba98bd011f",
   "metadata": {
    "canvas": {
     "comments": [],
     "componentType": "CodeCell",
     "copiedOriginId": null,
     "diskcache": false,
     "headerColor": "transparent",
     "id": "d2fd5d86-4d7f-4d01-908d-1291b6f827d8",
     "isComponent": false,
     "name": "",
     "parents": []
    }
   },
   "outputs": [],
   "source": [
    "query = \"\"\"\n",
    "        ALTER TABLE users ADD COLUMN name VARCHAR(255) NOT NULL\n",
    "\"\"\"\n",
    "cursor.execute(query)"
   ]
  },
  {
   "cell_type": "code",
   "execution_count": 10,
   "id": "d66edc6e-3e45-4058-9038-e94e9aa39370",
   "metadata": {
    "canvas": {
     "comments": [],
     "componentType": "CodeCell",
     "copiedOriginId": null,
     "diskcache": false,
     "headerColor": "transparent",
     "id": "9d446e15-db00-4b54-9b30-c4a3c94506db",
     "isComponent": false,
     "name": "",
     "parents": []
    }
   },
   "outputs": [
    {
     "name": "stdout",
     "output_type": "stream",
     "text": [
      "username varchar(255)\n",
      "name varchar(255)\n"
     ]
    }
   ],
   "source": [
    "cursor.execute(\"SHOW COLUMNS FROM users\")\n",
    "columns = cursor.fetchall()\n",
    "\n",
    "for col in columns:\n",
    "    print(col[0],col[1])"
   ]
  },
  {
   "cell_type": "markdown",
   "id": "cca0c05e-66c9-46dc-83a9-0f56033937f5",
   "metadata": {
    "canvas": {
     "comments": [],
     "componentType": "CodeCell",
     "copiedOriginId": null,
     "diskcache": false,
     "headerColor": "transparent",
     "id": "2748c9d3-1282-4bc9-afc0-1f8e864c10ad",
     "isComponent": false,
     "name": "",
     "parents": []
    }
   },
   "source": [
    "### ADD Multiple Columns"
   ]
  },
  {
   "cell_type": "code",
   "execution_count": 11,
   "id": "38873090-48f3-49ed-9082-d1888047e5d6",
   "metadata": {
    "canvas": {
     "comments": [],
     "componentType": "CodeCell",
     "copiedOriginId": null,
     "diskcache": false,
     "headerColor": "transparent",
     "id": "d672915a-4f01-44bd-8cc1-8a78e2f0d2ee",
     "isComponent": false,
     "name": "",
     "parents": []
    }
   },
   "outputs": [],
   "source": [
    "query = \"\"\"\n",
    "        ALTER TABLE users \n",
    "        \n",
    "        ADD COLUMN age INTEGER NOT NULL,\n",
    "        ADD COLUMN type VARCHAR(255) NOT NULL\n",
    "\"\"\"\n",
    "cursor.execute(query)"
   ]
  },
  {
   "cell_type": "code",
   "execution_count": 13,
   "id": "d7846fd4-0277-4179-8f35-38b4c6257b35",
   "metadata": {
    "canvas": {
     "comments": [],
     "componentType": "CodeCell",
     "copiedOriginId": null,
     "diskcache": false,
     "headerColor": "transparent",
     "id": "c92faecf-7da5-4883-a6f4-af9ef8b34ff1",
     "isComponent": false,
     "name": "",
     "parents": []
    }
   },
   "outputs": [
    {
     "name": "stdout",
     "output_type": "stream",
     "text": [
      "username varchar(255)\n",
      "test1 int(11)\n",
      "name varchar(255)\n",
      "age int(11)\n",
      "test2 int(11)\n",
      "type varchar(255)\n"
     ]
    }
   ],
   "source": [
    "cursor.execute(\"SHOW COLUMNS FROM users\")\n",
    "columns = cursor.fetchall()\n",
    "\n",
    "for col in columns:\n",
    "    print(col[0],col[1])"
   ]
  },
  {
   "cell_type": "markdown",
   "id": "b0f9cc5d-acbb-4db5-a7d0-5d5fc0d4eedc",
   "metadata": {
    "canvas": {
     "comments": [],
     "componentType": "CodeCell",
     "copiedOriginId": null,
     "diskcache": false,
     "headerColor": "transparent",
     "id": "0cf1e586-1468-47bc-a798-f11e98d4ebfb",
     "isComponent": false,
     "name": "",
     "parents": []
    }
   },
   "source": [
    "<br>\n",
    "\n",
    "# ADD COLUMN AFTER in specfic position"
   ]
  },
  {
   "cell_type": "code",
   "execution_count": 12,
   "id": "d807af8b-f7a0-4975-91a1-226a7c2cdd28",
   "metadata": {
    "canvas": {
     "comments": [],
     "componentType": "CodeCell",
     "copiedOriginId": null,
     "diskcache": false,
     "headerColor": "transparent",
     "id": "133b5d39-39f8-41fa-8dac-8a201567b393",
     "isComponent": false,
     "name": "",
     "parents": []
    }
   },
   "outputs": [],
   "source": [
    "query = \"\"\"\n",
    "        ALTER TABLE users \n",
    "        \n",
    "        ADD COLUMN test1 INTEGER NOT NULL AFTER username,\n",
    "        ADD COLUMN test2 INTEGER NOT NULL AFTER age\n",
    "\"\"\"\n",
    "cursor.execute(query)"
   ]
  },
  {
   "cell_type": "code",
   "execution_count": 14,
   "id": "4a3d7241-c073-4899-98a5-b4658f97db31",
   "metadata": {
    "canvas": {
     "comments": [],
     "componentType": "CodeCell",
     "copiedOriginId": null,
     "diskcache": false,
     "headerColor": "transparent",
     "id": "acb15402-538e-4e38-af0e-3d18589f93e4",
     "isComponent": false,
     "name": "",
     "parents": []
    }
   },
   "outputs": [
    {
     "name": "stdout",
     "output_type": "stream",
     "text": [
      "username varchar(255)\n",
      "test1 int(11)\n",
      "name varchar(255)\n",
      "age int(11)\n",
      "test2 int(11)\n",
      "type varchar(255)\n"
     ]
    }
   ],
   "source": [
    "cursor.execute(\"SHOW COLUMNS FROM users\")\n",
    "columns = cursor.fetchall()\n",
    "\n",
    "for col in columns:\n",
    "    print(col[0],col[1])"
   ]
  },
  {
   "cell_type": "markdown",
   "id": "91a370eb-d180-4561-b143-d519ade57c89",
   "metadata": {
    "canvas": {
     "comments": [],
     "componentType": "CodeCell",
     "copiedOriginId": null,
     "diskcache": false,
     "headerColor": "transparent",
     "id": "6008eb23-734e-4222-a306-f42cf8687874",
     "isComponent": false,
     "name": "",
     "parents": []
    }
   },
   "source": [
    "<br>\n",
    "\n",
    "# DROP columns"
   ]
  },
  {
   "cell_type": "code",
   "execution_count": 15,
   "id": "24ff6a27-f1b0-47d1-9ba3-a3694c785cdd",
   "metadata": {
    "canvas": {
     "comments": [],
     "componentType": "CodeCell",
     "copiedOriginId": null,
     "diskcache": false,
     "headerColor": "transparent",
     "id": "faae837f-819b-4738-82ab-a5be5f7bdc5f",
     "isComponent": false,
     "name": "",
     "parents": []
    }
   },
   "outputs": [],
   "source": [
    "query = \"\"\"\n",
    "        ALTER TABLE users \n",
    "        \n",
    "        DROP COLUMN test1,\n",
    "        DROP COLUMN test2\n",
    "\"\"\"\n",
    "cursor.execute(query)"
   ]
  },
  {
   "cell_type": "code",
   "execution_count": 16,
   "id": "0f37197b-ed30-4451-a5a9-e95623381425",
   "metadata": {
    "canvas": {
     "comments": [],
     "componentType": "CodeCell",
     "copiedOriginId": null,
     "diskcache": false,
     "headerColor": "transparent",
     "id": "307725f2-c9e4-4ef5-a141-3162d5cf067e",
     "isComponent": false,
     "name": "",
     "parents": []
    }
   },
   "outputs": [
    {
     "name": "stdout",
     "output_type": "stream",
     "text": [
      "username varchar(255)\n",
      "name varchar(255)\n",
      "age int(11)\n",
      "type varchar(255)\n"
     ]
    }
   ],
   "source": [
    "cursor.execute(\"SHOW COLUMNS FROM users\")\n",
    "columns = cursor.fetchall()\n",
    "\n",
    "for col in columns:\n",
    "    print(col[0],col[1])"
   ]
  },
  {
   "cell_type": "markdown",
   "id": "e7850e6f-ccf0-4461-a57f-375c3a078932",
   "metadata": {
    "canvas": {
     "comments": [],
     "componentType": "CodeCell",
     "copiedOriginId": null,
     "diskcache": false,
     "headerColor": "transparent",
     "id": "d2f0c3d7-0e59-45ae-926e-c101ae21aa26",
     "isComponent": false,
     "name": "",
     "parents": []
    }
   },
   "source": [
    "<br>\n",
    "\n",
    "## MODIFY COLUMNS DataType"
   ]
  },
  {
   "cell_type": "code",
   "execution_count": 17,
   "id": "b92227f0-f288-48eb-8014-891548eb728f",
   "metadata": {
    "canvas": {
     "comments": [],
     "componentType": "CodeCell",
     "copiedOriginId": null,
     "diskcache": false,
     "headerColor": "transparent",
     "id": "79042df4-5f9a-42cb-8179-778705806c39",
     "isComponent": false,
     "name": "",
     "parents": []
    }
   },
   "outputs": [],
   "source": [
    "query = \"\"\"\n",
    "        ALTER TABLE users \n",
    "        \n",
    "        MODIFY COLUMN age VARCHAR(255)\n",
    "\"\"\"\n",
    "cursor.execute(query)"
   ]
  },
  {
   "cell_type": "code",
   "execution_count": 18,
   "id": "775626fd-23a2-4436-a8e2-f80ae2ebf2d6",
   "metadata": {
    "canvas": {
     "comments": [],
     "componentType": "CodeCell",
     "copiedOriginId": null,
     "diskcache": false,
     "headerColor": "transparent",
     "id": "583e5ace-3fe7-41e5-b483-6de0eb0bfb29",
     "isComponent": false,
     "name": "",
     "parents": []
    }
   },
   "outputs": [
    {
     "name": "stdout",
     "output_type": "stream",
     "text": [
      "username varchar(255)\n",
      "name varchar(255)\n",
      "age varchar(255)\n",
      "type varchar(255)\n"
     ]
    }
   ],
   "source": [
    "cursor.execute(\"SHOW COLUMNS FROM users\")\n",
    "columns = cursor.fetchall()\n",
    "\n",
    "for col in columns:\n",
    "    print(col[0],col[1])"
   ]
  },
  {
   "cell_type": "markdown",
   "id": "2ca03682-b6b0-4751-8d1c-85d0c727590f",
   "metadata": {
    "canvas": {
     "comments": [],
     "componentType": "CodeCell",
     "copiedOriginId": null,
     "diskcache": false,
     "headerColor": "transparent",
     "id": "b4877d63-b854-46e6-a0c8-bbecca906ee3",
     "isComponent": false,
     "name": "",
     "parents": []
    }
   },
   "source": [
    "<br>\n",
    "\n",
    "# Change column Name"
   ]
  },
  {
   "cell_type": "code",
   "execution_count": 19,
   "id": "bc92165f-2209-464e-bef0-fec07b472388",
   "metadata": {
    "canvas": {
     "comments": [],
     "componentType": "CodeCell",
     "copiedOriginId": null,
     "diskcache": false,
     "headerColor": "transparent",
     "id": "829acf6d-e4d4-4cbe-bea9-e1b0bbd13a45",
     "isComponent": false,
     "name": "",
     "parents": []
    }
   },
   "outputs": [],
   "source": [
    "query = \"\"\"\n",
    "        ALTER TABLE users \n",
    "        \n",
    "        CHANGE COLUMN age AGE INTEGER\n",
    "\"\"\"\n",
    "cursor.execute(query)"
   ]
  },
  {
   "cell_type": "code",
   "execution_count": 20,
   "id": "4149d15a-3ddb-4c51-a613-0149828aab2c",
   "metadata": {
    "canvas": {
     "comments": [],
     "componentType": "CodeCell",
     "copiedOriginId": null,
     "diskcache": false,
     "headerColor": "transparent",
     "id": "aadc158a-8806-40da-b276-a39c247cf9a5",
     "isComponent": false,
     "name": "",
     "parents": []
    }
   },
   "outputs": [
    {
     "name": "stdout",
     "output_type": "stream",
     "text": [
      "username varchar(255)\n",
      "name varchar(255)\n",
      "AGE int(11)\n",
      "type varchar(255)\n"
     ]
    }
   ],
   "source": [
    "cursor.execute(\"SHOW COLUMNS FROM users\")\n",
    "columns = cursor.fetchall()\n",
    "\n",
    "for col in columns:\n",
    "    print(col[0],col[1])"
   ]
  },
  {
   "cell_type": "markdown",
   "id": "fd89d89c-18f8-4bbc-b40d-06e976503a1c",
   "metadata": {
    "canvas": {
     "comments": [],
     "componentType": "CodeCell",
     "copiedOriginId": null,
     "diskcache": false,
     "headerColor": "transparent",
     "id": "27a12f35-5bef-4e22-8fd7-308ff9f3848d",
     "isComponent": false,
     "name": "",
     "parents": []
    }
   },
   "source": [
    "<br>\n",
    "\n",
    "# Constraints"
   ]
  },
  {
   "cell_type": "markdown",
   "id": "c6a789cc-6b5e-4b87-a491-850453003e26",
   "metadata": {
    "canvas": {
     "comments": [],
     "componentType": "CodeCell",
     "copiedOriginId": null,
     "diskcache": false,
     "headerColor": "transparent",
     "id": "33801a90-aa59-4018-8e20-dd9381b84911",
     "isComponent": false,
     "name": "",
     "parents": []
    }
   },
   "source": [
    "<br>\n",
    "\n",
    "### Add a Constraints"
   ]
  },
  {
   "cell_type": "code",
   "execution_count": 21,
   "id": "677be35c-978f-4e5d-8c90-acfdb1ad4cc3",
   "metadata": {
    "canvas": {
     "comments": [],
     "componentType": "CodeCell",
     "copiedOriginId": null,
     "diskcache": false,
     "headerColor": "transparent",
     "id": "348f1f5f-9db3-4ef2-9fb3-1e8ec7aa6ad1",
     "isComponent": false,
     "name": "",
     "parents": []
    }
   },
   "outputs": [],
   "source": [
    "query = \"\"\"\n",
    "        ALTER TABLE users \n",
    "        \n",
    "        ADD CONSTRAINT user_age CHECK(AGE > 16)\n",
    "\"\"\"\n",
    "cursor.execute(query)"
   ]
  },
  {
   "cell_type": "markdown",
   "id": "5d3edeae-3f02-417e-a8aa-5f22be362794",
   "metadata": {
    "canvas": {
     "comments": [],
     "componentType": "CodeCell",
     "copiedOriginId": null,
     "diskcache": false,
     "headerColor": "transparent",
     "id": "10b67709-e844-46e1-bac3-1920eed26ea9",
     "isComponent": false,
     "name": "",
     "parents": []
    }
   },
   "source": [
    "<br>\n",
    "\n",
    "### Now Insert Value for check constraint add or not"
   ]
  },
  {
   "cell_type": "code",
   "execution_count": 22,
   "id": "f6587577-ea77-48c0-b411-540fe8a51d82",
   "metadata": {
    "canvas": {
     "comments": [],
     "componentType": "CodeCell",
     "copiedOriginId": null,
     "diskcache": false,
     "headerColor": "transparent",
     "id": "621ea909-a338-4517-9fcf-4a19ca019397",
     "isComponent": false,
     "name": "",
     "parents": []
    }
   },
   "outputs": [],
   "source": [
    "query = \"\"\"\n",
    "        INSERT INTO login.users (username,name,AGE,type)\n",
    "        \n",
    "        VALUES ('mubeenahmad000','Mubeen',17,'normal')\n",
    "\"\"\"\n",
    "cursor.execute(query)"
   ]
  },
  {
   "cell_type": "markdown",
   "id": "c6bad7e1-7f43-4440-bf21-6e1cf1464085",
   "metadata": {
    "canvas": {
     "comments": [],
     "componentType": "CodeCell",
     "copiedOriginId": null,
     "diskcache": false,
     "headerColor": "transparent",
     "id": "65d107ed-fbc2-4516-8b72-b373648fa4b8",
     "isComponent": false,
     "name": "",
     "parents": []
    }
   },
   "source": [
    "### Show Values"
   ]
  },
  {
   "cell_type": "code",
   "execution_count": 23,
   "id": "ed72f1aa-1e95-42a0-880f-8fc42330409c",
   "metadata": {
    "canvas": {
     "comments": [],
     "componentType": "CodeCell",
     "copiedOriginId": null,
     "diskcache": false,
     "headerColor": "transparent",
     "id": "301c534e-2296-4667-9926-9fb1aa68f714",
     "isComponent": false,
     "name": "",
     "parents": []
    }
   },
   "outputs": [
    {
     "name": "stdout",
     "output_type": "stream",
     "text": [
      "('mubeenahmad000', 'Mubeen', 17, 'normal')\n"
     ]
    }
   ],
   "source": [
    "query = \"\"\"\n",
    "        SELECT * FROM users\n",
    "\"\"\"\n",
    "cursor.execute(query)\n",
    "\n",
    "values = cursor.fetchall()\n",
    "\n",
    "for val in values:\n",
    "    print(val)"
   ]
  },
  {
   "cell_type": "markdown",
   "id": "c77c0c08-9673-4466-9711-ae7eee2b416a",
   "metadata": {
    "canvas": {
     "comments": [],
     "componentType": "CodeCell",
     "copiedOriginId": null,
     "diskcache": false,
     "headerColor": "transparent",
     "id": "69054522-0a8d-4e13-b281-5af5d0a9b8e7",
     "isComponent": false,
     "name": "",
     "parents": []
    }
   },
   "source": [
    "## trying to add age 16 to make sure constraint are add or not"
   ]
  },
  {
   "cell_type": "code",
   "execution_count": 24,
   "id": "0e59acdd-3cc8-462f-856e-f78411d8f0ef",
   "metadata": {
    "canvas": {
     "comments": [],
     "componentType": "CodeCell",
     "copiedOriginId": null,
     "diskcache": false,
     "headerColor": "transparent",
     "id": "807b7689-4589-47b3-aac3-7e3f2ca7c514",
     "isComponent": false,
     "name": "",
     "parents": []
    }
   },
   "outputs": [
    {
     "name": "stdout",
     "output_type": "stream",
     "text": [
      "4025 (23000): CONSTRAINT `user_age` failed for `login`.`users`\n"
     ]
    }
   ],
   "source": [
    "query = \"\"\"\n",
    "        INSERT INTO login.users (username,name,AGE,type)\n",
    "        \n",
    "        VALUES ('mubeenahmad000','Mubeen',16,'normal')\n",
    "\"\"\"\n",
    "try:\n",
    "    cursor.execute(query)\n",
    "except Exception as e:\n",
    "    print(e)"
   ]
  },
  {
   "cell_type": "markdown",
   "id": "4ec51fda-6203-4d17-908d-481db4bf8838",
   "metadata": {
    "canvas": {
     "comments": [],
     "componentType": "CodeCell",
     "copiedOriginId": null,
     "diskcache": false,
     "headerColor": "transparent",
     "id": "5266b51b-9481-4e98-9dc2-d28ec6ea809f",
     "isComponent": false,
     "name": "",
     "parents": []
    }
   },
   "source": [
    "<br>\n",
    "\n",
    "# Change Constraint\n",
    "- ## In Mysql we cant change constraints directly So first remove than add new constraint"
   ]
  },
  {
   "cell_type": "code",
   "execution_count": 25,
   "id": "6aaae301-26d2-4b42-8c17-99b5128642a1",
   "metadata": {
    "canvas": {
     "comments": [],
     "componentType": "CodeCell",
     "copiedOriginId": null,
     "diskcache": false,
     "headerColor": "transparent",
     "id": "9a3d978a-d4b3-449c-978b-819ba046d49c",
     "isComponent": false,
     "name": "",
     "parents": []
    }
   },
   "outputs": [],
   "source": [
    "query = \"\"\"\n",
    "        ALTER TABLE users \n",
    "        \n",
    "        DROP CONSTRAINT user_age,\n",
    "        ADD CONSTRAINT user_age CHECK(AGE > 16)\n",
    "\"\"\"\n",
    "cursor.execute(query)"
   ]
  },
  {
   "cell_type": "markdown",
   "id": "f2eddff6-2386-4f56-8e20-7a7717a3c938",
   "metadata": {
    "canvas": {
     "comments": [],
     "componentType": "CodeCell",
     "copiedOriginId": null,
     "diskcache": false,
     "headerColor": "transparent",
     "id": "6f591d43-bcad-4db6-92f0-1d4bcbaf2592",
     "isComponent": false,
     "name": "",
     "parents": []
    }
   },
   "source": [
    "### Now trying to add 16 Age"
   ]
  },
  {
   "cell_type": "code",
   "execution_count": 27,
   "id": "4d3c8e31-e434-4322-b15d-99246d6ce375",
   "metadata": {
    "canvas": {
     "comments": [],
     "componentType": "CodeCell",
     "copiedOriginId": null,
     "diskcache": false,
     "headerColor": "transparent",
     "id": "024949f9-efd7-467d-8232-ce84463c0cc8",
     "isComponent": false,
     "name": "",
     "parents": []
    }
   },
   "outputs": [
    {
     "name": "stdout",
     "output_type": "stream",
     "text": [
      "4025 (23000): CONSTRAINT `user_age` failed for `login`.`users`\n"
     ]
    }
   ],
   "source": [
    "query = \"\"\"\n",
    "        INSERT INTO login.users (username,name,AGE,type)\n",
    "        \n",
    "        VALUES ('alixyz','Ali',16,'normal')\n",
    "\"\"\"\n",
    "\n",
    "try:\n",
    "    cursor.execute(query)\n",
    "except Exception as e:\n",
    "    print(e)"
   ]
  },
  {
   "cell_type": "markdown",
   "id": "973415f5-7ee3-4aa2-b217-b1deac8e152b",
   "metadata": {
    "canvas": {
     "comments": [],
     "componentType": "CodeCell",
     "copiedOriginId": null,
     "diskcache": false,
     "headerColor": "transparent",
     "id": "6f936593-d766-4694-90f5-d79d7456f450",
     "isComponent": false,
     "name": "",
     "parents": []
    }
   },
   "source": [
    "## Why 16 are not adding ?"
   ]
  },
  {
   "cell_type": "code",
   "execution_count": 26,
   "id": "82c9e4e2-9b69-4387-8170-59bc586e2304",
   "metadata": {
    "canvas": {
     "comments": [],
     "componentType": "CodeCell",
     "copiedOriginId": null,
     "diskcache": false,
     "headerColor": "transparent",
     "id": "f19f753a-ee5e-4bee-ab2c-8c5fdfeaf40e",
     "isComponent": false,
     "name": "",
     "parents": []
    }
   },
   "outputs": [],
   "source": [
    "query = \"\"\"\n",
    "        INSERT INTO login.users (username,name,AGE,type)\n",
    "        \n",
    "        VALUES ('riz','Rizwan',18,'normal')\n",
    "\"\"\"\n",
    "cursor.execute(query)"
   ]
  },
  {
   "cell_type": "markdown",
   "id": "e0062619-225c-4196-9043-43e7863addad",
   "metadata": {
    "canvas": {
     "comments": [],
     "componentType": "CodeCell",
     "copiedOriginId": null,
     "diskcache": false,
     "headerColor": "transparent",
     "id": "3ab206a2-ecf1-4810-bff1-e4c210f36a0e",
     "isComponent": false,
     "name": "",
     "parents": []
    }
   },
   "source": [
    "### Because Previous Values are smaller than 16 thats why Constraints not apply"
   ]
  },
  {
   "cell_type": "code",
   "execution_count": 28,
   "id": "fc494ead-accc-4472-b9b3-2a589fe46c05",
   "metadata": {
    "canvas": {
     "comments": [],
     "componentType": "CodeCell",
     "copiedOriginId": null,
     "diskcache": false,
     "headerColor": "transparent",
     "id": "057cac75-9b6f-499b-8115-b67eafc2329f",
     "isComponent": false,
     "name": "",
     "parents": []
    }
   },
   "outputs": [
    {
     "name": "stdout",
     "output_type": "stream",
     "text": [
      "('mubeenahmad000', 'Mubeen', 17, 'normal')\n",
      "('riz', 'Rizwan', 18, 'normal')\n"
     ]
    }
   ],
   "source": [
    "query = \"\"\"\n",
    "        SELECT * FROM users\n",
    "\"\"\"\n",
    "cursor.execute(query)\n",
    "\n",
    "values = cursor.fetchall()\n",
    "\n",
    "for val in values:\n",
    "    print(val)"
   ]
  },
  {
   "cell_type": "markdown",
   "id": "b4a4922c-6543-4e22-92f7-5572cb37e632",
   "metadata": {
    "canvas": {
     "comments": [],
     "componentType": "CodeCell",
     "copiedOriginId": null,
     "diskcache": false,
     "headerColor": "transparent",
     "id": "c13190b5-56dc-4221-b899-4b237bb93293",
     "isComponent": false,
     "name": "",
     "parents": []
    }
   },
   "source": [
    "## Now try to apply constaint on age < 20 and check 20 are add or Not"
   ]
  },
  {
   "cell_type": "code",
   "execution_count": 30,
   "id": "5223fd77-7c67-497e-994e-e82fe7a21312",
   "metadata": {
    "canvas": {
     "comments": [],
     "componentType": "CodeCell",
     "copiedOriginId": null,
     "diskcache": false,
     "headerColor": "transparent",
     "id": "cee2f42d-e666-4663-ae1f-aef011e1c49b",
     "isComponent": false,
     "name": "",
     "parents": []
    }
   },
   "outputs": [],
   "source": [
    "query = \"\"\"\n",
    "        ALTER TABLE users \n",
    "        \n",
    "        DROP CONSTRAINT user_age,\n",
    "        ADD CONSTRAINT user_age CHECK(AGE > 16 and AGE < 20)\n",
    "\"\"\"\n",
    "cursor.execute(query)"
   ]
  },
  {
   "cell_type": "code",
   "execution_count": 32,
   "id": "33da9870-ffe9-4aa1-9934-0b0b4e3b66c3",
   "metadata": {
    "canvas": {
     "comments": [],
     "componentType": "CodeCell",
     "copiedOriginId": null,
     "diskcache": false,
     "headerColor": "transparent",
     "id": "e4ecd395-e16f-48c5-bb23-913071143d15",
     "isComponent": false,
     "name": "",
     "parents": []
    }
   },
   "outputs": [],
   "source": [
    "query = \"\"\"\n",
    "        INSERT INTO login.users (username,name,AGE,type)\n",
    "        \n",
    "        VALUES ('riz','Rizwan',19,'normal')\n",
    "\"\"\"\n",
    "cursor.execute(query)"
   ]
  },
  {
   "cell_type": "markdown",
   "id": "23eab3d6-00e0-483c-9f51-8a81a3bd097d",
   "metadata": {
    "canvas": {
     "comments": [],
     "componentType": "CodeCell",
     "copiedOriginId": null,
     "diskcache": false,
     "headerColor": "transparent",
     "id": "7349842f-b51c-4583-846b-28f71cadb29b",
     "isComponent": false,
     "name": "",
     "parents": []
    }
   },
   "source": [
    "### Check Values"
   ]
  },
  {
   "cell_type": "code",
   "execution_count": 33,
   "id": "903f930b-e1b0-4eed-835f-a2f71bf26c95",
   "metadata": {
    "canvas": {
     "comments": [],
     "componentType": "CodeCell",
     "copiedOriginId": null,
     "diskcache": false,
     "headerColor": "transparent",
     "id": "542511b8-9654-408b-9560-815788251ace",
     "isComponent": false,
     "name": "",
     "parents": []
    }
   },
   "outputs": [
    {
     "name": "stdout",
     "output_type": "stream",
     "text": [
      "('mubeenahmad000', 'Mubeen', 17, 'normal')\n",
      "('riz', 'Rizwan', 18, 'normal')\n",
      "('riz', 'Rizwan', 19, 'normal')\n"
     ]
    }
   ],
   "source": [
    "query = \"\"\"\n",
    "        SELECT * FROM users\n",
    "\"\"\"\n",
    "cursor.execute(query)\n",
    "\n",
    "values = cursor.fetchall()\n",
    "\n",
    "for val in values:\n",
    "    print(val)"
   ]
  },
  {
   "cell_type": "markdown",
   "id": "76032c12-3f8b-4661-a986-f639b1a87ba1",
   "metadata": {
    "canvas": {
     "comments": [],
     "componentType": "CodeCell",
     "copiedOriginId": null,
     "diskcache": false,
     "headerColor": "transparent",
     "id": "479ae6f0-95a7-42e1-b747-9f076d9a1149",
     "isComponent": false,
     "name": "",
     "parents": []
    }
   },
   "source": [
    "# NOw add 20 Age "
   ]
  },
  {
   "cell_type": "code",
   "execution_count": 34,
   "id": "50387c22-0a7b-42aa-95f0-a246b228bb46",
   "metadata": {
    "canvas": {
     "comments": [],
     "componentType": "CodeCell",
     "copiedOriginId": null,
     "diskcache": false,
     "headerColor": "transparent",
     "id": "9c370097-3713-4fa9-91d4-e092c10e113f",
     "isComponent": false,
     "name": "",
     "parents": []
    }
   },
   "outputs": [
    {
     "name": "stdout",
     "output_type": "stream",
     "text": [
      "4025 (23000): CONSTRAINT `user_age` failed for `login`.`users`\n"
     ]
    }
   ],
   "source": [
    "query = \"\"\"\n",
    "        INSERT INTO login.users (username,name,AGE,type)\n",
    "        \n",
    "        VALUES ('riz','Rizwan',20,'normal')\n",
    "\"\"\"\n",
    "try:\n",
    "    cursor.execute(query)\n",
    "except Exception as e:\n",
    "    print(e)"
   ]
  },
  {
   "cell_type": "markdown",
   "id": "18377bf3-70c3-4a64-b446-8b51962c0268",
   "metadata": {
    "canvas": {
     "comments": [],
     "componentType": "CodeCell",
     "copiedOriginId": null,
     "diskcache": false,
     "headerColor": "transparent",
     "id": "de790e55-7060-4a11-bc81-15147507dce2",
     "isComponent": false,
     "name": "",
     "parents": []
    }
   },
   "source": [
    "### So its Means Constraint are Updated"
   ]
  },
  {
   "cell_type": "markdown",
   "id": "785b4acb-104f-40af-b751-02f8bb258b23",
   "metadata": {
    "canvas": {
     "comments": [],
     "componentType": "CodeCell",
     "copiedOriginId": null,
     "diskcache": false,
     "headerColor": "transparent",
     "id": "b24fb09b-1a9f-4b2e-8773-dcf67dee96a3",
     "isComponent": false,
     "name": "",
     "parents": []
    }
   },
   "source": [
    "<br><br>\n",
    "\n",
    "# DROP CONSTRAINT"
   ]
  },
  {
   "cell_type": "code",
   "execution_count": 36,
   "id": "58ac60c3-d9cb-4dbc-a580-458c921482c4",
   "metadata": {
    "canvas": {
     "comments": [],
     "componentType": "CodeCell",
     "copiedOriginId": null,
     "diskcache": false,
     "headerColor": "transparent",
     "id": "c6ecf91f-87b8-493c-bf65-947ceaab167e",
     "isComponent": false,
     "name": "",
     "parents": []
    }
   },
   "outputs": [],
   "source": [
    "query = \"\"\"\n",
    "        ALTER TABLE users DROP CONSTRAINT user_age\n",
    "\"\"\"\n",
    "cursor.execute(query)"
   ]
  },
  {
   "cell_type": "markdown",
   "id": "01c68e8a-77bc-4ef9-b92d-891b906f352b",
   "metadata": {
    "canvas": {
     "comments": [],
     "componentType": "CodeCell",
     "copiedOriginId": null,
     "diskcache": false,
     "headerColor": "transparent",
     "id": "e73c8ba2-b600-4242-9f33-7b9eeaaff5c8",
     "isComponent": false,
     "name": "",
     "parents": []
    }
   },
   "source": [
    "# NOW again try add 20 Age Bcz Constraint are Deleted"
   ]
  },
  {
   "cell_type": "code",
   "execution_count": 37,
   "id": "e9d16bb4-c625-4511-aed5-3bc30359628f",
   "metadata": {
    "canvas": {
     "comments": [],
     "componentType": "CodeCell",
     "copiedOriginId": null,
     "diskcache": false,
     "headerColor": "transparent",
     "id": "1ee4c83f-d540-41de-8f82-a76524427105",
     "isComponent": false,
     "name": "",
     "parents": []
    }
   },
   "outputs": [],
   "source": [
    "query = \"\"\"\n",
    "        INSERT INTO login.users (username,name,AGE,type)\n",
    "        \n",
    "        VALUES ('riz','Rizwan',20,'normal')\n",
    "\"\"\"\n",
    "cursor.execute(query)"
   ]
  },
  {
   "cell_type": "code",
   "execution_count": 40,
   "id": "2194cd9d-1458-42d9-80a2-8ce73ad9460e",
   "metadata": {
    "canvas": {
     "comments": [],
     "componentType": "CodeCell",
     "copiedOriginId": null,
     "diskcache": false,
     "headerColor": "transparent",
     "id": "7d1c5516-3717-4a4e-88a3-9bccced1bafc",
     "isComponent": false,
     "name": "",
     "parents": []
    }
   },
   "outputs": [
    {
     "name": "stdout",
     "output_type": "stream",
     "text": [
      "('mubeenahmad000', 'Mubeen', 17, 'normal')\n",
      "('riz', 'Rizwan', 18, 'normal')\n",
      "('riz', 'Rizwan', 19, 'normal')\n",
      "('riz', 'Rizwan', 20, 'normal')\n"
     ]
    }
   ],
   "source": [
    "query = \"\"\"\n",
    "        SELECT * FROM users\n",
    "\"\"\"\n",
    "cursor.execute(query)\n",
    "\n",
    "values = cursor.fetchall()\n",
    "\n",
    "for val in values:\n",
    "    print(val)"
   ]
  }
 ],
 "metadata": {
  "canvas": {
   "colorPalette": [
    "inherit",
    "inherit",
    "inherit",
    "inherit",
    "inherit",
    "inherit",
    "inherit",
    "inherit",
    "inherit",
    "inherit"
   ],
   "parameters": [],
   "version": "1.0"
  },
  "kernelspec": {
   "display_name": "Python 3 (ipykernel)",
   "language": "python",
   "name": "python3"
  },
  "language_info": {
   "codemirror_mode": {
    "name": "ipython",
    "version": 3
   },
   "file_extension": ".py",
   "mimetype": "text/x-python",
   "name": "python",
   "nbconvert_exporter": "python",
   "pygments_lexer": "ipython3",
   "version": "3.10.12"
  }
 },
 "nbformat": 4,
 "nbformat_minor": 5
}

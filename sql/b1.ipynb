{
 "cells": [
  {
   "cell_type": "markdown",
   "id": "ba6a4107-ee1d-4b95-b201-7af11cecd9de",
   "metadata": {},
   "source": [
    "# What are DataBases"
   ]
  },
  {
   "cell_type": "markdown",
   "id": "03e6eb39-6056-48e2-9a62-96d054441f64",
   "metadata": {},
   "source": [
    "# A Database is a shared collection of logically related data and description of these data, designed to meet the information needs of an organization"
   ]
  },
  {
   "cell_type": "markdown",
   "id": "8c784010-0ccc-484b-b218-efc835b9e701",
   "metadata": {},
   "source": [
    "<br>\n",
    "\n",
    "# Use of DataBases\n",
    "<br>\n",
    "\n",
    "- ## Data Storage:\n",
    "    - ### A database is used to store large amounts of structured data, making it easily accessible, searchable, and retrievable.\n",
    "<br>\n",
    "\n",
    "- ## Data Analysis:\n",
    "    - ### A database can be used to perform complex data analysis, generate reports, and provide insights into the data.\n",
    "<br>\n",
    "\n",
    "- ## Record Keeping:\n",
    "    - ### A database is often used to keep track of important records, such as financial transactions, customer information, and inventory levels.\n",
    "<br>\n",
    "\n",
    "- ## Web Applications:\n",
    "    - ### Databases are an essential component of many web applications, providing dynamic content and user management."
   ]
  },
  {
   "cell_type": "markdown",
   "id": "1e616f1b-9fbb-4f2a-817b-ccd2ec8d2890",
   "metadata": {},
   "source": [
    "---\n",
    "# Database Properties\n",
    "---\n",
    "\n",
    "- ## Integrity\n",
    "  - **Referential Integrity:**\n",
    "    - The `AuthorID` column in the `Books` table is a foreign key that references the `AuthorID` column in the `Authors` table, ensuring that each author referenced in the `Books` table must exist in the `Authors` table.\n",
    "\n",
    "  - **Entity Integrity:**\n",
    "    - The `BookID` column in the `Books` table is the primary key, ensuring that each book has a unique identifier within the `Books` table.\n",
    "\n",
    "  - **Domain Integrity:**\n",
    "    - The `AvailableCopies` column in the `Books` table only accepts numerical values, adhering to the specified domain or data type.\n",
    "\n",
    "- ## Availability\n",
    "  - Ensuring the database is consistently available for users and applications, minimizing downtime.\n",
    "\n",
    "- ## Security\n",
    "  - Protecting the database from unauthorized access, ensuring confidentiality, integrity, and availability of data.\n",
    "\n",
    "- ## Independent of Application\n",
    "  - The database operates independently of specific applications, allowing multiple applications to interact with the same data.\n",
    "\n",
    "- ## Concurrency\n",
    "  - Supporting multiple users or transactions concurrently without compromising data integrity.\n",
    "\n",
    "---\n"
   ]
  },
  {
   "cell_type": "markdown",
   "id": "e0daf7c6-4b0e-4167-bd06-54f6e1465525",
   "metadata": {},
   "source": [
    "<h2 style=\"font-size: 24px;\">Relational Database Management System (RDBMS)</h2>\n",
    "<ul style=\"list-style-type: square; margin-bottom: 10px;\">\n",
    "    <li>Examples: MySQL, PostgreSQL, Oracle, SQL Server.</li>\n",
    "    <li>Organizes data into tables with rows and columns, and supports SQL for querying.</li>\n",
    "</ul>\n",
    "\n",
    "<h2 style=\"font-size: 24px;\">NoSQL Databases</h2>\n",
    "<ul style=\"list-style-type: square; margin-bottom: 10px;\">\n",
    "    <li>Examples: MongoDB, Cassandra, CouchDB.</li>\n",
    "    <li>Suitable for unstructured or semi-structured data, and often used for big data and real-time applications.</li>\n",
    "</ul>\n",
    "\n",
    "<h2 style=\"font-size: 24px;\">Graph Databases</h2>\n",
    "<ul style=\"list-style-type: square; margin-bottom: 10px;\">\n",
    "    <li>Examples: Neo4j, Amazon Neptune.</li>\n",
    "    <li>Designed for data with complex relationships, using graph structures with nodes, edges, and properties.</li>\n",
    "</ul>\n",
    "\n",
    "<h2 style=\"font-size: 24px;\">In-Memory Databases</h2>\n",
    "<ul style=\"list-style-type: square; margin-bottom: 10px;\">\n",
    "    <li>Examples: Redis, Memcached.</li>\n",
    "    <li>Stores data in RAM for faster retrieval, suitable for high-performance applications.</li>\n",
    "</ul>\n",
    "\n",
    "<h2 style=\"font-size: 24px;\">Document-Oriented Databases</h2>\n",
    "<ul style=\"list-style-type: square; margin-bottom: 10px;\">\n",
    "    <li>Examples: MongoDB, CouchDB.</li>\n",
    "    <li>Stores data in flexible, JSON-like documents, allowing for dynamic schemas.</li>\n",
    "</ul>\n",
    "\n",
    "<h2 style=\"font-size: 24px;\">Time-Series Databases</h2>\n",
    "<ul style=\"list-style-type: square; margin-bottom: 10px;\">\n",
    "    <li>Examples: InfluxDB, Prometheus.</li>\n",
    "    <li>Optimized for handling time-series data, commonly used for monitoring and analytics.</li>\n",
    "</ul>\n",
    "\n",
    "<h2 style=\"font-size: 24px;\">Object-Oriented Databases</h2>\n",
    "<ul style=\"list-style-type: square; margin-bottom: 10px;\">\n",
    "    <li>Examples: db4o, ObjectDB.</li>\n",
    "    <li>Stores data as objects, making it suitable for object-oriented programming.</li>\n",
    "</ul>\n",
    "\n",
    "<h2 style=\"font-size: 24px;\">Wide-Column Stores</h2>\n",
    "<ul style=\"list-style-type: square; margin-bottom: 10px;\">\n",
    "    <li>Examples: Apache Cassandra, HBase.</li>\n",
    "    <li>Organizes data in columns rather than rows, suitable for large-scale distributed systems.</li>\n",
    "</ul>\n",
    "\n",
    "<h2 style=\"font-size: 24px;\">NewSQL Databases</h2>\n",
    "<ul style=\"list-style-type: square; margin-bottom: 10px;\">\n",
    "    <li>Examples: Google Spanner, CockroachDB.</li>\n",
    "    <li>Combines the benefits of traditional SQL databases with the scalability of NoSQL databases.</li>\n",
    "</ul>\n",
    "\n",
    "<h2 style=\"font-size: 24px;\">Spatial Databases</h2>\n",
    "<ul style=\"list-style-type: square; margin-bottom: 10px;\">\n",
    "    <li>Examples: PostGIS (extension for PostgreSQL), Oracle Spatial.</li>\n",
    "    <li>Designed for storing and querying spatial data, often used in GIS applications.</li>\n",
    "</ul>"
   ]
  }
 ],
 "metadata": {
  "kernelspec": {
   "display_name": "Python 3 (ipykernel)",
   "language": "python",
   "name": "python3"
  },
  "language_info": {
   "codemirror_mode": {
    "name": "ipython",
    "version": 3
   },
   "file_extension": ".py",
   "mimetype": "text/x-python",
   "name": "python",
   "nbconvert_exporter": "python",
   "pygments_lexer": "ipython3",
   "version": "3.10.12"
  }
 },
 "nbformat": 4,
 "nbformat_minor": 5
}

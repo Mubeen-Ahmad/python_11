{
 "cells": [
  {
   "cell_type": "markdown",
   "id": "ba6a4107-ee1d-4b95-b201-7af11cecd9de",
   "metadata": {},
   "source": [
    "<h1 style=\"text-align:center; color:#005bbd; font-size:50px; font-family:Cursive; font-style: oblique; text-shadow: 0 0 3px white, 0 0 1px Black;\">What are DataBases</h1>"
   ]
  },
  {
   "cell_type": "markdown",
   "id": "03e6eb39-6056-48e2-9a62-96d054441f64",
   "metadata": {},
   "source": [
    "<h2 style=\"text-align:justify; color:black; font-size:20px; font-family:Cursive; font-style: oblique; text-shadow: 0 0 3px white, 0 0 1px black;\">A Database is a shared collection of logically related data and description of these data, designed to meet the information needs of an organization</h2>"
   ]
  },
  {
   "cell_type": "markdown",
   "id": "8c784010-0ccc-484b-b218-efc835b9e701",
   "metadata": {},
   "source": [
    "<br>\n",
    "\n",
    "# Use of DataBases\n",
    "<br>\n",
    "\n",
    "- ## Data Storage:\n",
    "    - ### A database is used to store large amounts of structured data, making it easily accessible, searchable, and retrievable.\n",
    "<br>\n",
    "\n",
    "- ## Data Analysis:\n",
    "    - ### A database can be used to perform complex data analysis, generate reports, and provide insights into the data.\n",
    "<br>\n",
    "\n",
    "- ## Record Keeping:\n",
    "    - ### A database is often used to keep track of important records, such as financial transactions, customer information, and inventory levels.\n",
    "<br>\n",
    "\n",
    "- ## Web Applications:\n",
    "    - ### Databases are an essential component of many web applications, providing dynamic content and user management."
   ]
  },
  {
   "cell_type": "markdown",
   "id": "1e616f1b-9fbb-4f2a-817b-ccd2ec8d2890",
   "metadata": {},
   "source": [
    "---\n",
    "# Database Properties\n",
    "---\n",
    "\n",
    "- ## Integrity\n",
    "  - **Referential Integrity:**\n",
    "    - The `AuthorID` column in the `Books` table is a foreign key that references the `AuthorID` column in the `Authors` table, ensuring that each author referenced in the `Books` table must exist in the `Authors` table.\n",
    "\n",
    "  - **Entity Integrity:**\n",
    "    - The `BookID` column in the `Books` table is the primary key, ensuring that each book has a unique identifier within the `Books` table.\n",
    "\n",
    "  - **Domain Integrity:**\n",
    "    - The `AvailableCopies` column in the `Books` table only accepts numerical values, adhering to the specified domain or data type.\n",
    "\n",
    "- ## Availability\n",
    "  - Ensuring the database is consistently available for users and applications, minimizing downtime.\n",
    "\n",
    "- ## Security\n",
    "  - Protecting the database from unauthorized access, ensuring confidentiality, integrity, and availability of data.\n",
    "\n",
    "- ## Independent of Application\n",
    "  - The database operates independently of specific applications, allowing multiple applications to interact with the same data.\n",
    "\n",
    "- ## Concurrency\n",
    "  - Supporting multiple users or transactions concurrently without compromising data integrity.\n",
    "\n",
    "---\n"
   ]
  },
  {
   "cell_type": "markdown",
   "id": "73853f88-397f-4193-ae6c-17d828c86e43",
   "metadata": {},
   "source": [
    "<br>\n",
    "\n",
    "# Types of DataBases\n",
    "\n",
    "<br>\n"
   ]
  },
  {
   "cell_type": "markdown",
   "id": "e0daf7c6-4b0e-4167-bd06-54f6e1465525",
   "metadata": {},
   "source": [
    "## Relational Databases\n",
    "- ### Also known as SQL databases, these databases use a relational model to organize data into tables with rows and columns.\n",
    "<br>\n",
    "\n",
    "## NoSQL Databases\n",
    "- ### These databases are designed to handle large amounts of unstructured or\n",
    "semi-structured data, such as documents, images, or videos. (MongoDB)\n",
    "<br>\n",
    "\n",
    "## Column Databases\n",
    "- ### These databases store data in columns rather than rows, making them well-\n",
    "suited for data warehousing and analytical applications. (Amazon Redshift,\n",
    "Google BigQuery)\n",
    "<br>\n",
    "\n",
    "## Graph Databases\n",
    "- ### These databases are used to store and query graph-structured data, such as\n",
    "social network connections or recommendation systems. (Neo4j, Amazon\n",
    "Neptune)\n",
    "<br>\n",
    "\n",
    "## Key-value databases -\n",
    "- ### These databases store data as a collection of keys and values, making them well-suited for caching and simple data storage needs (Redis and Amazon DynamoDB)"
   ]
  },
  {
   "cell_type": "markdown",
   "id": "737deb5a-e39b-4871-94f8-b58f0c85321e",
   "metadata": {},
   "source": [
    "<hr><br>\n",
    "\n",
    "# Relational DataBases \n",
    "- ## Also Know as Sql databases, these databases use a relational model to organize data into tables with rows and columns"
   ]
  },
  {
   "cell_type": "markdown",
   "id": "66dbfff4-255b-4a68-a083-05afafde3489",
   "metadata": {},
   "source": [
    "<img style=\"display: block;margin-left: auto;margin-right: auto;width: 100%; \" src=\"./sql_images/rdms.png\">"
   ]
  },
  {
   "cell_type": "markdown",
   "id": "c479b345-31f6-482f-baf1-570d5295a00a",
   "metadata": {},
   "source": [
    "<hr><br>\n",
    "\n",
    "# What is DBMS "
   ]
  },
  {
   "cell_type": "markdown",
   "id": "8ee0e705-ec5d-4443-9b3f-f32d6e25e52f",
   "metadata": {},
   "source": [
    "<h2 style=\"color: #333;\">DBMS, or Database Management System</h2>\n",
    "<p>A database management system (DBMS) is a software system that provides the\n",
    "interfaces and tools needed to store, organize, and manage data in a database. A\n",
    "DBMS acts as an intermediary between the database and the applications or users\n",
    "that access the data stored in the database.</p>"
   ]
  },
  {
   "cell_type": "markdown",
   "id": "dcd0eaae-afc8-4dd9-a99e-b8a85ec5f3ea",
   "metadata": {},
   "source": [
    "<img style=\"display: block;margin-left: auto;margin-right: auto;width: 50%; \" src=\"./sql_images/dbms.png\">"
   ]
  },
  {
   "cell_type": "markdown",
   "id": "e0f624dd-ff74-4db8-83d9-8b8bee63b995",
   "metadata": {},
   "source": [
    "<body style=\"font-family: Arial, sans-serif; line-height: 1.6; margin: 20px;\">\n",
    "\n",
    "\n",
    "<h2>Breakdown of Concepts:</h2>\n",
    "\n",
    "<h3>DBMS:</h3>\n",
    "    <ul style=\"list-style-type: none; padding: 0;\">\n",
    "        <li style=\"margin-bottom: 10px;\">Manages databases by handling tasks such as data organization, storage, retrieval, security, and integrity.</li>\n",
    "        <li style=\"margin-bottom: 10px;\">Provides an interface for users and applications to interact with the database.</li>\n",
    "        <li style=\"margin-bottom: 10px;\">Ensures efficient and secure storage and retrieval of data.</li>\n",
    "    </ul>\n",
    "\n",
    "<h3>Operating System (OS):</h3>\n",
    "    <ul style=\"list-style-type: none; padding: 0;\">\n",
    "        <li style=\"margin-bottom: 10px;\">Manages computer hardware and provides services for computer programs.</li>\n",
    "        <li style=\"margin-bottom: 10px;\">Handles tasks such as memory management, file systems, device control, and user interface.</li>\n",
    "        <li style=\"margin-bottom: 10px;\">Provides an environment for applications and software to run.</li>\n",
    "    </ul>\n",
    "\n",
    "<p>In a typical computing environment, a DBMS runs on top of an operating system. The operating system manages the underlying hardware resources, provides services to applications (including the DBMS), and ensures that multiple applications can run concurrently without interfering with each other.</p>\n",
    "\n",
    "<p>So, while a DBMS is crucial for managing databases, it relies on the underlying operating system for foundational services and hardware interaction. They work together to provide a comprehensive environment for managing and utilizing data efficiently.</p>\n",
    "\n",
    "</body>"
   ]
  },
  {
   "cell_type": "markdown",
   "id": "6357e3c4-c2ea-47a9-b3f9-c562f0c5817f",
   "metadata": {},
   "source": [
    "<br><hr><br>\n",
    "\n",
    "# Functionality of DBMS\n",
    "<br>\n",
    "\n",
    "- ## Data Management\n",
    "    - ### Store, Retrieve, and Modify data\n",
    "<br>\n",
    "\n",
    "- ## Integrity\n",
    "    - ### Maintain accuaracy of data\n",
    "<br>\n",
    "\n",
    "- ## Concurrency\n",
    "    - ### Simultaneous data access for multiple users\n",
    "<br>\n",
    "\n",
    "- ## Transcations\n",
    "    - ### Modification to database must either be sucessfull or Not sucessfull or must not happend at all\n",
    "<br>\n",
    "\n",
    "- ## Security\n",
    "    - ### Access to authorized user only\n",
    "<br>\n",
    "\n",
    "- ## Utilities\n",
    "    - ### Data import/export ,user management backup, logging"
   ]
  }
 ],
 "metadata": {
  "kernelspec": {
   "display_name": "Python 3 (ipykernel)",
   "language": "python",
   "name": "python3"
  },
  "language_info": {
   "codemirror_mode": {
    "name": "ipython",
    "version": 3
   },
   "file_extension": ".py",
   "mimetype": "text/x-python",
   "name": "python",
   "nbconvert_exporter": "python",
   "pygments_lexer": "ipython3",
   "version": "3.10.12"
  }
 },
 "nbformat": 4,
 "nbformat_minor": 5
}

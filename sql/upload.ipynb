{
 "cells": [
  {
   "cell_type": "code",
   "execution_count": null,
   "id": "177c3acb-3856-4d16-8786-660899d87dbe",
   "metadata": {},
   "outputs": [],
   "source": [
    "import random\n"
   ]
  },
  {
   "cell_type": "code",
   "execution_count": 1,
   "id": "3192dca7-1f1d-4a8c-8af5-86da7f1f8ef0",
   "metadata": {},
   "outputs": [],
   "source": [
    "import pandas as pd\n",
    "import mysql.connector\n",
    "from sqlalchemy import create_engine"
   ]
  },
  {
   "cell_type": "code",
   "execution_count": 7,
   "id": "03ee8cb0-83f1-4af4-9387-b44f1e6b2116",
   "metadata": {},
   "outputs": [],
   "source": [
    "df = pd.read_csv('/home/mubeen/Documents/data.csv')"
   ]
  },
  {
   "cell_type": "code",
   "execution_count": 8,
   "id": "1397b03a-388a-4bf3-a995-02ea1c34bb11",
   "metadata": {},
   "outputs": [
    {
     "data": {
      "text/html": [
       "<div>\n",
       "<style scoped>\n",
       "    .dataframe tbody tr th:only-of-type {\n",
       "        vertical-align: middle;\n",
       "    }\n",
       "\n",
       "    .dataframe tbody tr th {\n",
       "        vertical-align: top;\n",
       "    }\n",
       "\n",
       "    .dataframe thead th {\n",
       "        text-align: right;\n",
       "    }\n",
       "</style>\n",
       "<table border=\"1\" class=\"dataframe\">\n",
       "  <thead>\n",
       "    <tr style=\"text-align: right;\">\n",
       "      <th></th>\n",
       "      <th>Students</th>\n",
       "      <th>Marks</th>\n",
       "    </tr>\n",
       "  </thead>\n",
       "  <tbody>\n",
       "    <tr>\n",
       "      <th>0</th>\n",
       "      <td>Student-1</td>\n",
       "      <td>1</td>\n",
       "    </tr>\n",
       "    <tr>\n",
       "      <th>1</th>\n",
       "      <td>Student-2</td>\n",
       "      <td>93</td>\n",
       "    </tr>\n",
       "    <tr>\n",
       "      <th>2</th>\n",
       "      <td>Student-3</td>\n",
       "      <td>57</td>\n",
       "    </tr>\n",
       "    <tr>\n",
       "      <th>3</th>\n",
       "      <td>Student-4</td>\n",
       "      <td>26</td>\n",
       "    </tr>\n",
       "    <tr>\n",
       "      <th>4</th>\n",
       "      <td>Student-5</td>\n",
       "      <td>7</td>\n",
       "    </tr>\n",
       "  </tbody>\n",
       "</table>\n",
       "</div>"
      ],
      "text/plain": [
       "    Students  Marks\n",
       "0  Student-1      1\n",
       "1  Student-2     93\n",
       "2  Student-3     57\n",
       "3  Student-4     26\n",
       "4  Student-5      7"
      ]
     },
     "execution_count": 8,
     "metadata": {},
     "output_type": "execute_result"
    }
   ],
   "source": [
    "df.head()"
   ]
  },
  {
   "cell_type": "code",
   "execution_count": 32,
   "id": "36d3e54d-d0d2-4115-aa81-8126d4400fe5",
   "metadata": {},
   "outputs": [],
   "source": [
    "def marks_to_cgpa(marks):\n",
    "    marks = marks['Marks']\n",
    "    if marks >= 90:\n",
    "        return 4.0\n",
    "    elif marks >= 80:\n",
    "        return 3.7\n",
    "    elif marks >= 70:\n",
    "        return 3.3\n",
    "    elif marks >= 60:\n",
    "        return 3.0\n",
    "    elif marks >= 50:\n",
    "        return 2.7\n",
    "    elif marks >= 40:\n",
    "        return 2.3\n",
    "    elif marks >= 30:\n",
    "        return 2.2\n",
    "\n",
    "    elif marks >= 20:\n",
    "        return 2.1\n",
    "    elif marks >= 10:\n",
    "        return 1.1\n",
    "    else:\n",
    "        return 0.0"
   ]
  },
  {
   "cell_type": "code",
   "execution_count": 39,
   "id": "be6c8390-22d9-43e9-96ce-a36735a1837a",
   "metadata": {},
   "outputs": [],
   "source": [
    "df['cgpa'] = df.apply(marks_to_cgpa,axis=1)"
   ]
  },
  {
   "cell_type": "code",
   "execution_count": 40,
   "id": "c3a42286-9183-43a1-b405-8baff6a07830",
   "metadata": {},
   "outputs": [
    {
     "data": {
      "text/html": [
       "<div>\n",
       "<style scoped>\n",
       "    .dataframe tbody tr th:only-of-type {\n",
       "        vertical-align: middle;\n",
       "    }\n",
       "\n",
       "    .dataframe tbody tr th {\n",
       "        vertical-align: top;\n",
       "    }\n",
       "\n",
       "    .dataframe thead th {\n",
       "        text-align: right;\n",
       "    }\n",
       "</style>\n",
       "<table border=\"1\" class=\"dataframe\">\n",
       "  <thead>\n",
       "    <tr style=\"text-align: right;\">\n",
       "      <th></th>\n",
       "      <th>Students</th>\n",
       "      <th>Marks</th>\n",
       "      <th>cgpa</th>\n",
       "    </tr>\n",
       "  </thead>\n",
       "  <tbody>\n",
       "    <tr>\n",
       "      <th>0</th>\n",
       "      <td>Student-1</td>\n",
       "      <td>1</td>\n",
       "      <td>0.0</td>\n",
       "    </tr>\n",
       "    <tr>\n",
       "      <th>1</th>\n",
       "      <td>Student-2</td>\n",
       "      <td>93</td>\n",
       "      <td>4.0</td>\n",
       "    </tr>\n",
       "    <tr>\n",
       "      <th>2</th>\n",
       "      <td>Student-3</td>\n",
       "      <td>57</td>\n",
       "      <td>2.7</td>\n",
       "    </tr>\n",
       "    <tr>\n",
       "      <th>3</th>\n",
       "      <td>Student-4</td>\n",
       "      <td>26</td>\n",
       "      <td>2.1</td>\n",
       "    </tr>\n",
       "    <tr>\n",
       "      <th>4</th>\n",
       "      <td>Student-5</td>\n",
       "      <td>7</td>\n",
       "      <td>0.0</td>\n",
       "    </tr>\n",
       "    <tr>\n",
       "      <th>...</th>\n",
       "      <td>...</td>\n",
       "      <td>...</td>\n",
       "      <td>...</td>\n",
       "    </tr>\n",
       "    <tr>\n",
       "      <th>295</th>\n",
       "      <td>Student-296</td>\n",
       "      <td>24</td>\n",
       "      <td>2.1</td>\n",
       "    </tr>\n",
       "    <tr>\n",
       "      <th>296</th>\n",
       "      <td>Student-297</td>\n",
       "      <td>15</td>\n",
       "      <td>1.1</td>\n",
       "    </tr>\n",
       "    <tr>\n",
       "      <th>297</th>\n",
       "      <td>Student-298</td>\n",
       "      <td>2</td>\n",
       "      <td>0.0</td>\n",
       "    </tr>\n",
       "    <tr>\n",
       "      <th>298</th>\n",
       "      <td>Student-299</td>\n",
       "      <td>12</td>\n",
       "      <td>1.1</td>\n",
       "    </tr>\n",
       "    <tr>\n",
       "      <th>299</th>\n",
       "      <td>Student-300</td>\n",
       "      <td>40</td>\n",
       "      <td>2.3</td>\n",
       "    </tr>\n",
       "  </tbody>\n",
       "</table>\n",
       "<p>300 rows × 3 columns</p>\n",
       "</div>"
      ],
      "text/plain": [
       "        Students  Marks  cgpa\n",
       "0      Student-1      1   0.0\n",
       "1      Student-2     93   4.0\n",
       "2      Student-3     57   2.7\n",
       "3      Student-4     26   2.1\n",
       "4      Student-5      7   0.0\n",
       "..           ...    ...   ...\n",
       "295  Student-296     24   2.1\n",
       "296  Student-297     15   1.1\n",
       "297  Student-298      2   0.0\n",
       "298  Student-299     12   1.1\n",
       "299  Student-300     40   2.3\n",
       "\n",
       "[300 rows x 3 columns]"
      ]
     },
     "execution_count": 40,
     "metadata": {},
     "output_type": "execute_result"
    }
   ],
   "source": [
    "df"
   ]
  },
  {
   "cell_type": "code",
   "execution_count": 41,
   "id": "cfd331c6-3b0e-4a0b-b506-c122af232e5b",
   "metadata": {},
   "outputs": [],
   "source": [
    "mysql_config = {\n",
    "    'host': 'localhost',\n",
    "    'port': '3307',  \n",
    "    'user': 'root',\n",
    "    'password': '',\n",
    "    'database': 'win'\n",
    "}"
   ]
  },
  {
   "cell_type": "code",
   "execution_count": 5,
   "id": "04c8c4a1-6dc0-4029-af59-634f5c0d5504",
   "metadata": {},
   "outputs": [],
   "source": [
    "def dataframe_to_mysql(df, table_name, mysql_config):\n",
    "    conn = mysql.connector.connect(**mysql_config)\n",
    "    engine = create_engine(f\"mysql+mysqlconnector://{mysql_config['user']}:{mysql_config['password']}@{mysql_config['host']}:{mysql_config['port']}/{mysql_config['database']}\")\n",
    "\n",
    "    conn.connect()\n",
    "    cursor = conn.cursor()\n",
    "    cursor.execute('SET GLOBAL max_allowed_packet = 1024 * 1024 * 80;')\n",
    "    cursor.execute('SET GLOBAL max_heap_table_size = 1024 * 1024 * 80;')\n",
    "\n",
    "\n",
    "    \n",
    "    df.to_sql(name=table_name, con=engine, index=False, if_exists='replace')\n",
    "    # query = f'SELECT * FROM {table_name};'\n",
    "    # result_df = pd.read_sql(query, con=engine)\n",
    "    "
   ]
  },
  {
   "cell_type": "code",
   "execution_count": 9,
   "id": "7bd9f134-31d9-43ef-ba7b-b81079dd2028",
   "metadata": {},
   "outputs": [
    {
     "ename": "NameError",
     "evalue": "name 'path' is not defined",
     "output_type": "error",
     "traceback": [
      "\u001b[0;31m---------------------------------------------------------------------------\u001b[0m",
      "\u001b[0;31mNameError\u001b[0m                                 Traceback (most recent call last)",
      "Cell \u001b[0;32mIn[9], line 2\u001b[0m\n\u001b[1;32m      1\u001b[0m \u001b[38;5;28;01mimport\u001b[39;00m \u001b[38;5;21;01mos\u001b[39;00m\n\u001b[0;32m----> 2\u001b[0m \u001b[38;5;28;01mfor\u001b[39;00m i \u001b[38;5;129;01min\u001b[39;00m os\u001b[38;5;241m.\u001b[39mlistdir(\u001b[43mpath\u001b[49m):   \n\u001b[1;32m      3\u001b[0m     f_p \u001b[38;5;241m=\u001b[39m os\u001b[38;5;241m.\u001b[39mpath\u001b[38;5;241m.\u001b[39mjoin(path,i)\n\u001b[1;32m      4\u001b[0m     df \u001b[38;5;241m=\u001b[39m pd\u001b[38;5;241m.\u001b[39mread_csv(f_p)\n",
      "\u001b[0;31mNameError\u001b[0m: name 'path' is not defined"
     ]
    }
   ],
   "source": [
    "import os\n",
    "for i in os.listdir(path):   \n",
    "    f_p = os.path.join(path,i)\n",
    "    df = pd.read_csv(f_p)\n",
    "    dataframe_to_mysql(df, i.split('.')[0], mysql_config)"
   ]
  },
  {
   "cell_type": "code",
   "execution_count": 42,
   "id": "28179435-a23f-4c3f-9500-b1dc46716d4c",
   "metadata": {},
   "outputs": [],
   "source": [
    "dataframe_to_mysql(df, 'std', mysql_config)"
   ]
  }
 ],
 "metadata": {
  "kernelspec": {
   "display_name": "Python 3 (ipykernel)",
   "language": "python",
   "name": "python3"
  },
  "language_info": {
   "codemirror_mode": {
    "name": "ipython",
    "version": 3
   },
   "file_extension": ".py",
   "mimetype": "text/x-python",
   "name": "python",
   "nbconvert_exporter": "python",
   "pygments_lexer": "ipython3",
   "version": "3.10.12"
  }
 },
 "nbformat": 4,
 "nbformat_minor": 5
}

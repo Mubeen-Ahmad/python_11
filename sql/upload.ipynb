{
 "cells": [
  {
   "cell_type": "code",
   "execution_count": 1,
   "id": "3192dca7-1f1d-4a8c-8af5-86da7f1f8ef0",
   "metadata": {},
   "outputs": [],
   "source": [
    "import pandas as pd\n",
    "import mysql.connector\n",
    "from sqlalchemy import create_engine"
   ]
  },
  {
   "cell_type": "code",
   "execution_count": 3,
   "id": "03ee8cb0-83f1-4af4-9387-b44f1e6b2116",
   "metadata": {},
   "outputs": [],
   "source": [
    "df = pd.read_csv('/home/mubeen/Downloads/nw_employees.csv')"
   ]
  },
  {
   "cell_type": "code",
   "execution_count": 9,
   "id": "cfd331c6-3b0e-4a0b-b506-c122af232e5b",
   "metadata": {},
   "outputs": [],
   "source": [
    "mysql_config = {\n",
    "    'host': 'localhost',\n",
    "    'port': '3307',  \n",
    "    'user': 'root',\n",
    "    'password': '',\n",
    "    'database': 'north'\n",
    "}"
   ]
  },
  {
   "cell_type": "code",
   "execution_count": 10,
   "id": "04c8c4a1-6dc0-4029-af59-634f5c0d5504",
   "metadata": {},
   "outputs": [],
   "source": [
    "def dataframe_to_mysql(df, table_name, mysql_config):\n",
    "    conn = mysql.connector.connect(**mysql_config)\n",
    "    engine = create_engine(f\"mysql+mysqlconnector://{mysql_config['user']}:{mysql_config['password']}@{mysql_config['host']}:{mysql_config['port']}/{mysql_config['database']}\")\n",
    "\n",
    "    conn.connect()\n",
    "    cursor = conn.cursor()\n",
    "    cursor.execute('SET GLOBAL max_allowed_packet = 1024 * 1024 * 80;')\n",
    "    cursor.execute('SET GLOBAL max_heap_table_size = 1024 * 1024 * 80;')\n",
    "\n",
    "\n",
    "    \n",
    "    df.to_sql(name=table_name, con=engine, index=False, if_exists='replace')\n",
    "    # query = f'SELECT * FROM {table_name};'\n",
    "    # result_df = pd.read_sql(query, con=engine)\n",
    "    "
   ]
  },
  {
   "cell_type": "code",
   "execution_count": 13,
   "id": "7bd9f134-31d9-43ef-ba7b-b81079dd2028",
   "metadata": {},
   "outputs": [],
   "source": [
    "import os\n",
    "path = \"/home/mubeen/Downloads/\"\n",
    "for i in os.listdir(path):   \n",
    "    f_p = os.path.join(path,i)\n",
    "    df = pd.read_csv(f_p)\n",
    "    dataframe_to_mysql(df, i.split('.')[0], mysql_config)"
   ]
  },
  {
   "cell_type": "code",
   "execution_count": 42,
   "id": "28179435-a23f-4c3f-9500-b1dc46716d4c",
   "metadata": {},
   "outputs": [],
   "source": [
    "dataframe_to_mysql(df, 'std', mysql_config)"
   ]
  }
 ],
 "metadata": {
  "kernelspec": {
   "display_name": "Python 3 (ipykernel)",
   "language": "python",
   "name": "python3"
  },
  "language_info": {
   "codemirror_mode": {
    "name": "ipython",
    "version": 3
   },
   "file_extension": ".py",
   "mimetype": "text/x-python",
   "name": "python",
   "nbconvert_exporter": "python",
   "pygments_lexer": "ipython3",
   "version": "3.10.12"
  }
 },
 "nbformat": 4,
 "nbformat_minor": 5
}

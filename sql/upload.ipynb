{
 "cells": [
  {
   "cell_type": "code",
   "execution_count": 20,
   "id": "3192dca7-1f1d-4a8c-8af5-86da7f1f8ef0",
   "metadata": {},
   "outputs": [],
   "source": [
    "import pandas as pd\n",
    "import mysql.connector\n",
    "from sqlalchemy import create_engine"
   ]
  },
  {
   "cell_type": "code",
   "execution_count": 3,
   "id": "dd56db5f-574a-4dea-9b2d-9c5dcb099e3a",
   "metadata": {},
   "outputs": [],
   "source": [
    "path = \"/media/mubeen/Lectures { Disk 0 }/CampusX/Mentor_Ship_Program/ML Part 3/18 Week 16 Advanced SQL/1 Session 36 - Window Functions in SQL/datasets-session-35/\""
   ]
  },
  {
   "cell_type": "code",
   "execution_count": 21,
   "id": "03ee8cb0-83f1-4af4-9387-b44f1e6b2116",
   "metadata": {},
   "outputs": [],
   "source": [
    "df = pd.read_csv('/home/mubeen/Downloads/insurance_data.csv')"
   ]
  },
  {
   "cell_type": "code",
   "execution_count": 22,
   "id": "2afe019a-3567-4f35-a7f9-e5b9084cfd27",
   "metadata": {},
   "outputs": [
    {
     "data": {
      "text/html": [
       "<div>\n",
       "<style scoped>\n",
       "    .dataframe tbody tr th:only-of-type {\n",
       "        vertical-align: middle;\n",
       "    }\n",
       "\n",
       "    .dataframe tbody tr th {\n",
       "        vertical-align: top;\n",
       "    }\n",
       "\n",
       "    .dataframe thead th {\n",
       "        text-align: right;\n",
       "    }\n",
       "</style>\n",
       "<table border=\"1\" class=\"dataframe\">\n",
       "  <thead>\n",
       "    <tr style=\"text-align: right;\">\n",
       "      <th></th>\n",
       "      <th>index</th>\n",
       "      <th>PatientID</th>\n",
       "      <th>age</th>\n",
       "      <th>gender</th>\n",
       "      <th>bmi</th>\n",
       "      <th>bloodpressure</th>\n",
       "      <th>diabetic</th>\n",
       "      <th>children</th>\n",
       "      <th>smoker</th>\n",
       "      <th>region</th>\n",
       "      <th>claim</th>\n",
       "    </tr>\n",
       "  </thead>\n",
       "  <tbody>\n",
       "    <tr>\n",
       "      <th>749</th>\n",
       "      <td>749</td>\n",
       "      <td>750</td>\n",
       "      <td>40.0</td>\n",
       "      <td>male</td>\n",
       "      <td>31.0</td>\n",
       "      <td>100</td>\n",
       "      <td>No</td>\n",
       "      <td>3</td>\n",
       "      <td>No</td>\n",
       "      <td>northwest</td>\n",
       "      <td>10600.55</td>\n",
       "    </tr>\n",
       "    <tr>\n",
       "      <th>434</th>\n",
       "      <td>434</td>\n",
       "      <td>435</td>\n",
       "      <td>42.0</td>\n",
       "      <td>male</td>\n",
       "      <td>34.7</td>\n",
       "      <td>97</td>\n",
       "      <td>Yes</td>\n",
       "      <td>2</td>\n",
       "      <td>No</td>\n",
       "      <td>southwest</td>\n",
       "      <td>6082.41</td>\n",
       "    </tr>\n",
       "    <tr>\n",
       "      <th>1164</th>\n",
       "      <td>1164</td>\n",
       "      <td>1165</td>\n",
       "      <td>53.0</td>\n",
       "      <td>female</td>\n",
       "      <td>26.3</td>\n",
       "      <td>119</td>\n",
       "      <td>No</td>\n",
       "      <td>0</td>\n",
       "      <td>Yes</td>\n",
       "      <td>southeast</td>\n",
       "      <td>27808.73</td>\n",
       "    </tr>\n",
       "  </tbody>\n",
       "</table>\n",
       "</div>"
      ],
      "text/plain": [
       "      index  PatientID   age  gender   bmi  bloodpressure diabetic  children  \\\n",
       "749     749        750  40.0    male  31.0            100       No         3   \n",
       "434     434        435  42.0    male  34.7             97      Yes         2   \n",
       "1164   1164       1165  53.0  female  26.3            119       No         0   \n",
       "\n",
       "     smoker     region     claim  \n",
       "749      No  northwest  10600.55  \n",
       "434      No  southwest   6082.41  \n",
       "1164    Yes  southeast  27808.73  "
      ]
     },
     "execution_count": 22,
     "metadata": {},
     "output_type": "execute_result"
    }
   ],
   "source": [
    "df.sample(3)"
   ]
  },
  {
   "cell_type": "code",
   "execution_count": 23,
   "id": "cfd331c6-3b0e-4a0b-b506-c122af232e5b",
   "metadata": {},
   "outputs": [],
   "source": [
    "mysql_config = {\n",
    "    'host': 'localhost',\n",
    "    'port': '3307',  \n",
    "    'user': 'root',\n",
    "    'password': '',\n",
    "    'database': 'zomato'\n",
    "}"
   ]
  },
  {
   "cell_type": "code",
   "execution_count": 24,
   "id": "04c8c4a1-6dc0-4029-af59-634f5c0d5504",
   "metadata": {},
   "outputs": [],
   "source": [
    "def dataframe_to_mysql(df, table_name, mysql_config):\n",
    "    conn = mysql.connector.connect(**mysql_config)\n",
    "    engine = create_engine(f\"mysql+mysqlconnector://{mysql_config['user']}:{mysql_config['password']}@{mysql_config['host']}:{mysql_config['port']}/{mysql_config['database']}\")\n",
    "\n",
    "    conn.connect()\n",
    "    cursor = conn.cursor()\n",
    "    cursor.execute('SET GLOBAL max_allowed_packet = 1024 * 1024 * 80;')\n",
    "    cursor.execute('SET GLOBAL max_heap_table_size = 1024 * 1024 * 80;')\n",
    "\n",
    "\n",
    "    \n",
    "    df.to_sql(name=table_name, con=engine, index=False, if_exists='replace')\n",
    "    # query = f'SELECT * FROM {table_name};'\n",
    "    # result_df = pd.read_sql(query, con=engine)\n",
    "    "
   ]
  },
  {
   "cell_type": "code",
   "execution_count": 19,
   "id": "7bd9f134-31d9-43ef-ba7b-b81079dd2028",
   "metadata": {},
   "outputs": [],
   "source": [
    "import os\n",
    "for i in os.listdir(path):   \n",
    "    f_p = os.path.join(path,i)\n",
    "    df = pd.read_csv(f_p)\n",
    "    dataframe_to_mysql(df, i.split('.')[0], mysql_config)"
   ]
  },
  {
   "cell_type": "code",
   "execution_count": 25,
   "id": "28179435-a23f-4c3f-9500-b1dc46716d4c",
   "metadata": {},
   "outputs": [],
   "source": [
    "dataframe_to_mysql(df, 'insurance', mysql_config)"
   ]
  }
 ],
 "metadata": {
  "kernelspec": {
   "display_name": "Python 3 (ipykernel)",
   "language": "python",
   "name": "python3"
  },
  "language_info": {
   "codemirror_mode": {
    "name": "ipython",
    "version": 3
   },
   "file_extension": ".py",
   "mimetype": "text/x-python",
   "name": "python",
   "nbconvert_exporter": "python",
   "pygments_lexer": "ipython3",
   "version": "3.10.12"
  }
 },
 "nbformat": 4,
 "nbformat_minor": 5
}

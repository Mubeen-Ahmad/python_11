{
 "cells": [
  {
   "cell_type": "code",
   "execution_count": 1,
   "id": "3192dca7-1f1d-4a8c-8af5-86da7f1f8ef0",
   "metadata": {},
   "outputs": [],
   "source": [
    "import pandas as pd\n",
    "import mysql.connector\n",
    "from sqlalchemy import create_engine"
   ]
  },
  {
   "cell_type": "code",
   "execution_count": 2,
   "id": "03ee8cb0-83f1-4af4-9387-b44f1e6b2116",
   "metadata": {},
   "outputs": [],
   "source": [
    "df = pd.read_csv('/home/mubeen/Downloads/insurance_data.csv')"
   ]
  },
  {
   "cell_type": "code",
   "execution_count": 3,
   "id": "2afe019a-3567-4f35-a7f9-e5b9084cfd27",
   "metadata": {},
   "outputs": [
    {
     "data": {
      "text/html": [
       "<div>\n",
       "<style scoped>\n",
       "    .dataframe tbody tr th:only-of-type {\n",
       "        vertical-align: middle;\n",
       "    }\n",
       "\n",
       "    .dataframe tbody tr th {\n",
       "        vertical-align: top;\n",
       "    }\n",
       "\n",
       "    .dataframe thead th {\n",
       "        text-align: right;\n",
       "    }\n",
       "</style>\n",
       "<table border=\"1\" class=\"dataframe\">\n",
       "  <thead>\n",
       "    <tr style=\"text-align: right;\">\n",
       "      <th></th>\n",
       "      <th>index</th>\n",
       "      <th>PatientID</th>\n",
       "      <th>age</th>\n",
       "      <th>gender</th>\n",
       "      <th>bmi</th>\n",
       "      <th>bloodpressure</th>\n",
       "      <th>diabetic</th>\n",
       "      <th>children</th>\n",
       "      <th>smoker</th>\n",
       "      <th>region</th>\n",
       "      <th>claim</th>\n",
       "    </tr>\n",
       "  </thead>\n",
       "  <tbody>\n",
       "    <tr>\n",
       "      <th>1110</th>\n",
       "      <td>1110</td>\n",
       "      <td>1111</td>\n",
       "      <td>57.0</td>\n",
       "      <td>female</td>\n",
       "      <td>30.9</td>\n",
       "      <td>83</td>\n",
       "      <td>No</td>\n",
       "      <td>0</td>\n",
       "      <td>No</td>\n",
       "      <td>northeast</td>\n",
       "      <td>23045.57</td>\n",
       "    </tr>\n",
       "    <tr>\n",
       "      <th>1333</th>\n",
       "      <td>1333</td>\n",
       "      <td>1334</td>\n",
       "      <td>44.0</td>\n",
       "      <td>male</td>\n",
       "      <td>36.4</td>\n",
       "      <td>127</td>\n",
       "      <td>No</td>\n",
       "      <td>1</td>\n",
       "      <td>Yes</td>\n",
       "      <td>southwest</td>\n",
       "      <td>51194.56</td>\n",
       "    </tr>\n",
       "    <tr>\n",
       "      <th>1101</th>\n",
       "      <td>1101</td>\n",
       "      <td>1102</td>\n",
       "      <td>40.0</td>\n",
       "      <td>male</td>\n",
       "      <td>30.0</td>\n",
       "      <td>106</td>\n",
       "      <td>No</td>\n",
       "      <td>0</td>\n",
       "      <td>Yes</td>\n",
       "      <td>southwest</td>\n",
       "      <td>22144.03</td>\n",
       "    </tr>\n",
       "  </tbody>\n",
       "</table>\n",
       "</div>"
      ],
      "text/plain": [
       "      index  PatientID   age  gender   bmi  bloodpressure diabetic  children  \\\n",
       "1110   1110       1111  57.0  female  30.9             83       No         0   \n",
       "1333   1333       1334  44.0    male  36.4            127       No         1   \n",
       "1101   1101       1102  40.0    male  30.0            106       No         0   \n",
       "\n",
       "     smoker     region     claim  \n",
       "1110     No  northeast  23045.57  \n",
       "1333    Yes  southwest  51194.56  \n",
       "1101    Yes  southwest  22144.03  "
      ]
     },
     "execution_count": 3,
     "metadata": {},
     "output_type": "execute_result"
    }
   ],
   "source": [
    "df.sample(3)"
   ]
  },
  {
   "cell_type": "code",
   "execution_count": 4,
   "id": "cfd331c6-3b0e-4a0b-b506-c122af232e5b",
   "metadata": {},
   "outputs": [],
   "source": [
    "mysql_config = {\n",
    "    'host': 'localhost',\n",
    "    'port': '3307',  \n",
    "    'user': 'root',\n",
    "    'password': '',\n",
    "    'database': 'mydb'\n",
    "}"
   ]
  },
  {
   "cell_type": "code",
   "execution_count": 5,
   "id": "04c8c4a1-6dc0-4029-af59-634f5c0d5504",
   "metadata": {},
   "outputs": [],
   "source": [
    "def dataframe_to_mysql(df, table_name, mysql_config):\n",
    "    conn = mysql.connector.connect(**mysql_config)\n",
    "    engine = create_engine(f\"mysql+mysqlconnector://{mysql_config['user']}:{mysql_config['password']}@{mysql_config['host']}:{mysql_config['port']}/{mysql_config['database']}\")\n",
    "    df.to_sql(name=table_name, con=engine, index=False, if_exists='replace')\n",
    "    # query = f'SELECT * FROM {table_name};'\n",
    "    # result_df = pd.read_sql(query, con=engine)\n",
    "    "
   ]
  },
  {
   "cell_type": "code",
   "execution_count": 6,
   "id": "28179435-a23f-4c3f-9500-b1dc46716d4c",
   "metadata": {},
   "outputs": [],
   "source": [
    "dataframe_to_mysql(df, 'health_ins', mysql_config)"
   ]
  }
 ],
 "metadata": {
  "kernelspec": {
   "display_name": "Python 3 (ipykernel)",
   "language": "python",
   "name": "python3"
  },
  "language_info": {
   "codemirror_mode": {
    "name": "ipython",
    "version": 3
   },
   "file_extension": ".py",
   "mimetype": "text/x-python",
   "name": "python",
   "nbconvert_exporter": "python",
   "pygments_lexer": "ipython3",
   "version": "3.10.12"
  }
 },
 "nbformat": 4,
 "nbformat_minor": 5
}

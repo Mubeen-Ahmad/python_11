{
 "cells": [
  {
   "cell_type": "code",
   "execution_count": 1,
   "id": "3192dca7-1f1d-4a8c-8af5-86da7f1f8ef0",
   "metadata": {},
   "outputs": [],
   "source": [
    "import pandas as pd\n",
    "import mysql.connector\n",
    "from sqlalchemy import create_engine"
   ]
  },
  {
   "cell_type": "code",
   "execution_count": 3,
   "id": "03ee8cb0-83f1-4af4-9387-b44f1e6b2116",
   "metadata": {},
   "outputs": [],
   "source": [
    "df = pd.read_csv('/home/mubeen/Downloads/movies.csv')"
   ]
  },
  {
   "cell_type": "code",
   "execution_count": 4,
   "id": "2afe019a-3567-4f35-a7f9-e5b9084cfd27",
   "metadata": {},
   "outputs": [
    {
     "data": {
      "text/html": [
       "<div>\n",
       "<style scoped>\n",
       "    .dataframe tbody tr th:only-of-type {\n",
       "        vertical-align: middle;\n",
       "    }\n",
       "\n",
       "    .dataframe tbody tr th {\n",
       "        vertical-align: top;\n",
       "    }\n",
       "\n",
       "    .dataframe thead th {\n",
       "        text-align: right;\n",
       "    }\n",
       "</style>\n",
       "<table border=\"1\" class=\"dataframe\">\n",
       "  <thead>\n",
       "    <tr style=\"text-align: right;\">\n",
       "      <th></th>\n",
       "      <th>name</th>\n",
       "      <th>rating</th>\n",
       "      <th>genre</th>\n",
       "      <th>year</th>\n",
       "      <th>released</th>\n",
       "      <th>score</th>\n",
       "      <th>votes</th>\n",
       "      <th>director</th>\n",
       "      <th>writer</th>\n",
       "      <th>star</th>\n",
       "      <th>country</th>\n",
       "      <th>budget</th>\n",
       "      <th>gross</th>\n",
       "      <th>company</th>\n",
       "      <th>runtime</th>\n",
       "    </tr>\n",
       "  </thead>\n",
       "  <tbody>\n",
       "    <tr>\n",
       "      <th>1481</th>\n",
       "      <td>My Left Foot</td>\n",
       "      <td>R</td>\n",
       "      <td>Biography</td>\n",
       "      <td>1989</td>\n",
       "      <td>March 30, 1990 (United States)</td>\n",
       "      <td>7.9</td>\n",
       "      <td>70000</td>\n",
       "      <td>Jim Sheridan</td>\n",
       "      <td>Shane Connaughton</td>\n",
       "      <td>Daniel Day-Lewis</td>\n",
       "      <td>Ireland</td>\n",
       "      <td>0</td>\n",
       "      <td>14743391.0</td>\n",
       "      <td>Ferndale Films</td>\n",
       "      <td>103</td>\n",
       "    </tr>\n",
       "    <tr>\n",
       "      <th>2277</th>\n",
       "      <td>In the Line of Fire</td>\n",
       "      <td>R</td>\n",
       "      <td>Action</td>\n",
       "      <td>1993</td>\n",
       "      <td>July 9, 1993 (United States)</td>\n",
       "      <td>7.2</td>\n",
       "      <td>96000</td>\n",
       "      <td>Wolfgang Petersen</td>\n",
       "      <td>Jeff Maguire</td>\n",
       "      <td>Clint Eastwood</td>\n",
       "      <td>United States</td>\n",
       "      <td>40000000</td>\n",
       "      <td>176997168.0</td>\n",
       "      <td>Columbia Pictures</td>\n",
       "      <td>128</td>\n",
       "    </tr>\n",
       "    <tr>\n",
       "      <th>3584</th>\n",
       "      <td>Dudley Do-Right</td>\n",
       "      <td>PG</td>\n",
       "      <td>Comedy</td>\n",
       "      <td>1999</td>\n",
       "      <td>August 27, 1999 (United States)</td>\n",
       "      <td>3.9</td>\n",
       "      <td>10000</td>\n",
       "      <td>Hugh Wilson</td>\n",
       "      <td>Jay Ward</td>\n",
       "      <td>Brendan Fraser</td>\n",
       "      <td>United States</td>\n",
       "      <td>70000000</td>\n",
       "      <td>9974410.0</td>\n",
       "      <td>Universal Pictures</td>\n",
       "      <td>77</td>\n",
       "    </tr>\n",
       "  </tbody>\n",
       "</table>\n",
       "</div>"
      ],
      "text/plain": [
       "                     name rating      genre  year  \\\n",
       "1481         My Left Foot      R  Biography  1989   \n",
       "2277  In the Line of Fire      R     Action  1993   \n",
       "3584      Dudley Do-Right     PG     Comedy  1999   \n",
       "\n",
       "                             released  score  votes           director  \\\n",
       "1481   March 30, 1990 (United States)    7.9  70000       Jim Sheridan   \n",
       "2277     July 9, 1993 (United States)    7.2  96000  Wolfgang Petersen   \n",
       "3584  August 27, 1999 (United States)    3.9  10000        Hugh Wilson   \n",
       "\n",
       "                 writer              star        country    budget  \\\n",
       "1481  Shane Connaughton  Daniel Day-Lewis        Ireland         0   \n",
       "2277       Jeff Maguire    Clint Eastwood  United States  40000000   \n",
       "3584           Jay Ward    Brendan Fraser  United States  70000000   \n",
       "\n",
       "            gross             company  runtime  \n",
       "1481   14743391.0      Ferndale Films      103  \n",
       "2277  176997168.0   Columbia Pictures      128  \n",
       "3584    9974410.0  Universal Pictures       77  "
      ]
     },
     "execution_count": 4,
     "metadata": {},
     "output_type": "execute_result"
    }
   ],
   "source": [
    "df.sample(3)"
   ]
  },
  {
   "cell_type": "code",
   "execution_count": 5,
   "id": "cfd331c6-3b0e-4a0b-b506-c122af232e5b",
   "metadata": {},
   "outputs": [],
   "source": [
    "mysql_config = {\n",
    "    'host': 'localhost',\n",
    "    'port': '3307',  \n",
    "    'user': 'root',\n",
    "    'password': '',\n",
    "    'database': 'mydb'\n",
    "}"
   ]
  },
  {
   "cell_type": "code",
   "execution_count": 6,
   "id": "04c8c4a1-6dc0-4029-af59-634f5c0d5504",
   "metadata": {},
   "outputs": [],
   "source": [
    "def dataframe_to_mysql(df, table_name, mysql_config):\n",
    "    conn = mysql.connector.connect(**mysql_config)\n",
    "    engine = create_engine(f\"mysql+mysqlconnector://{mysql_config['user']}:{mysql_config['password']}@{mysql_config['host']}:{mysql_config['port']}/{mysql_config['database']}\")\n",
    "    df.to_sql(name=table_name, con=engine, index=False, if_exists='replace')\n",
    "    # query = f'SELECT * FROM {table_name};'\n",
    "    # result_df = pd.read_sql(query, con=engine)\n",
    "    "
   ]
  },
  {
   "cell_type": "code",
   "execution_count": 7,
   "id": "28179435-a23f-4c3f-9500-b1dc46716d4c",
   "metadata": {},
   "outputs": [],
   "source": [
    "dataframe_to_mysql(df, 'movies', mysql_config)"
   ]
  }
 ],
 "metadata": {
  "kernelspec": {
   "display_name": "Python 3 (ipykernel)",
   "language": "python",
   "name": "python3"
  },
  "language_info": {
   "codemirror_mode": {
    "name": "ipython",
    "version": 3
   },
   "file_extension": ".py",
   "mimetype": "text/x-python",
   "name": "python",
   "nbconvert_exporter": "python",
   "pygments_lexer": "ipython3",
   "version": "3.10.12"
  }
 },
 "nbformat": 4,
 "nbformat_minor": 5
}

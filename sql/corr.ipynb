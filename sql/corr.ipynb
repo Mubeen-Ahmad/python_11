{
 "cells": [
  {
   "cell_type": "markdown",
   "id": "f45c4c9d-fc7f-49e4-b840-6293c46bb817",
   "metadata": {},
   "source": [
    "<div style=\"text-align:justify; color:green; font-size:30px; font-family:Sans-serif; font-style: oblique; text-shadow: 0 0 3px white, 0 0 1px black;\">\n",
    "Find correlation between delivery_time and total rating<br>\n",
    "</div>\n",
    "\n"
   ]
  },
  {
   "cell_type": "markdown",
   "id": "cb179eef-9178-4d94-bce0-699c7a264308",
   "metadata": {},
   "source": [
    "<div style=\"text-align:justify; color:blue; font-size:22px; font-family:Sans-serif; font-style: oblique; text-shadow: 0 0 3px white, 0 0 1px black;\">\n",
    "<p>Correlation refers to a statistical measure that describes the extent to which two variables change together. <br><br>In other words, it quantifies the degree to which a change in one variable corresponds to a change in another variable. Correlation is often used to analyze the linear relationship between two continuous variables.</p><br><br>The correlation between two variables is expressed as a correlation coefficient. The coefficient can range from -1 to 1.<ul>A correlation coefficient of 1 indicates a perfect positive correlation.</ul>\n",
    "<ul>A correlation coefficient of -1 indicates a perfect negative correlation.</ul>\n",
    "<ul>A correlation coefficient of 0 indicates no correlati</ul><br><br>\n",
    "<ul>Positive Correlation 1:<ol>When one variable increases, the other variable also tends to increase.<br>The correlation coefficient is positive.</ol></ul> \n",
    "<ul>Negative Correlation -1:<ol> When one variable increases, the other variable tends to decrease.<br> The correlation coefficient is negative.</ol></ul>\n",
    "<ul>Zero Correlation 0:<ol> When there is no apparent relationship between the two variables, the correlation coefficient is close to 0.</ol></ul>\n",
    "</div>"
   ]
  }
 ],
 "metadata": {
  "kernelspec": {
   "display_name": "Python 3 (ipykernel)",
   "language": "python",
   "name": "python3"
  },
  "language_info": {
   "codemirror_mode": {
    "name": "ipython",
    "version": 3
   },
   "file_extension": ".py",
   "mimetype": "text/x-python",
   "name": "python",
   "nbconvert_exporter": "python",
   "pygments_lexer": "ipython3",
   "version": "3.10.12"
  }
 },
 "nbformat": 4,
 "nbformat_minor": 5
}

{
 "cells": [
  {
   "cell_type": "markdown",
   "id": "f8f55373-f5bc-4e36-ada4-8c5273db356e",
   "metadata": {},
   "source": [
    "# In SQL, the logical query processing order defines the sequence in which the different clauses of a SQL query are evaluated. \n",
    "\n",
    "<br>\n",
    "\n",
    "- ## The general logical query processing order is as follows:\n",
    "    - ### FROM: Specifies the tables or views from which the data will be retrieved.\n",
    "    - ### WHERE: Filters the rows based on a specified condition.\n",
    "    - ### GROUP BY: Groups the result set by one or more columns.\n",
    "    - ### HAVING: Filters the groups based on a specified condition.\n",
    "    - ### SELECT: Specifies the columns to be included in the result set.\n",
    "    - ### DISTINCT: Removes duplicate rows from the result set.\n",
    "    - ### ORDER BY: Sorts the result set based on specified columns.\n",
    "    - ### LIMIT/OFFSET or FETCH/FIRST: Limits the number of rows returned or skips a specified number of rows.\n",
    "\n",
    "<br><b>"
   ]
  },
  {
   "cell_type": "markdown",
   "id": "e04f7259-1666-4c89-a4b5-062f2162dbdc",
   "metadata": {},
   "source": [
    "<img style=\"display: block;margin-left: auto;margin-right: auto;width: 50%; \" src=\"./sql_images/order.png\">"
   ]
  }
 ],
 "metadata": {
  "kernelspec": {
   "display_name": "Python 3 (ipykernel)",
   "language": "python",
   "name": "python3"
  },
  "language_info": {
   "codemirror_mode": {
    "name": "ipython",
    "version": 3
   },
   "file_extension": ".py",
   "mimetype": "text/x-python",
   "name": "python",
   "nbconvert_exporter": "python",
   "pygments_lexer": "ipython3",
   "version": "3.10.12"
  }
 },
 "nbformat": 4,
 "nbformat_minor": 5
}

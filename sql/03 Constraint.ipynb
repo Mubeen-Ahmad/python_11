{
 "cells": [
  {
   "cell_type": "code",
   "execution_count": 1,
   "id": "babaa321-ce65-4a6e-8036-1627c25fd967",
   "metadata": {
    "canvas": {
     "comments": [],
     "componentType": "CodeCell",
     "copiedOriginId": null,
     "diskcache": false,
     "headerColor": "transparent",
     "id": "641e1861-d396-4a11-b720-a84f6c3581d3",
     "isComponent": false,
     "name": "",
     "parents": []
    },
    "tags": []
   },
   "outputs": [],
   "source": [
    "import mysql.connector"
   ]
  },
  {
   "cell_type": "code",
   "execution_count": 2,
   "id": "d8712071-23d6-420d-b339-795a21c01875",
   "metadata": {
    "canvas": {
     "comments": [],
     "componentType": "CodeCell",
     "copiedOriginId": null,
     "diskcache": false,
     "headerColor": "transparent",
     "id": "6b4e0aa8-abe9-4173-a09d-0b1bb2542561",
     "isComponent": false,
     "name": "",
     "parents": []
    }
   },
   "outputs": [],
   "source": [
    "db = mysql.connector.connect(host=\"localhost\",user=\"root\",password=\"\")"
   ]
  },
  {
   "cell_type": "code",
   "execution_count": 3,
   "id": "5941877e-ba31-4ad3-a709-5ac5fb149c38",
   "metadata": {
    "canvas": {
     "comments": [],
     "componentType": "CodeCell",
     "copiedOriginId": null,
     "diskcache": false,
     "headerColor": "transparent",
     "id": "ff1e88fc-0679-4e17-ba66-612ce8d7bd92",
     "isComponent": false,
     "name": "",
     "parents": []
    }
   },
   "outputs": [],
   "source": [
    "db.connect()\n",
    "cursor = db.connect()"
   ]
  },
  {
   "cell_type": "markdown",
   "id": "b791e5eb-7e26-42bc-83db-6565f282c0ad",
   "metadata": {
    "canvas": {
     "comments": [],
     "componentType": "CodeCell",
     "copiedOriginId": null,
     "diskcache": false,
     "headerColor": "transparent",
     "id": "67ed4ab5-f76b-43a7-a317-1fa43b9731f5",
     "isComponent": false,
     "name": "",
     "parents": []
    },
    "tags": []
   },
   "source": [
    "# CONSTRAINTS\n",
    "\n",
    "<h3><p style=\" word-wrap: warp; text-align:left;\"> Constraints are rules that you can apply to columns in a table to control the type of data that can be inserted or updated.<br><br>They help maintain the integrity and reliability of the data within the database</p></h3>\n",
    "\n",
    "- ## NOT NULL \n",
    "<br>\n",
    "\n",
    "- ## UNIQUE\n",
    "<br>\n",
    "\n",
    "- ## AUTO_INCREMENT\n",
    "    - ### with PRIMARY KEY\n",
    "<br>\n",
    "\n",
    "- ## CHECK\n",
    "<br>\n",
    "\n",
    "- ## DEFAULT\n",
    "<hr>\n",
    "<br>\n",
    "\n",
    "- ## CONSTRAINT KEYWORD\n",
    "<br>\n",
    "\n",
    "- ## Create a Relation with two Tables\n",
    "    - ## PRIMARY KEY \n",
    "    - ## FORIGEN KEY\n",
    "    - ## REFFERENCE\n",
    "   \n",
    "    \n",
    "<hr>\n",
    "<br>\n",
    "\n",
    "- ## Referential Actions\n",
    "    - ## Restrict\n",
    "    - ## CASCADE\n",
    "    - ## SET NULL\n",
    "    - ## SET DEFAULT"
   ]
  },
  {
   "cell_type": "markdown",
   "id": "de284610-99d2-43dd-b3d0-6c07ec1b0fd5",
   "metadata": {
    "canvas": {
     "comments": [],
     "componentType": "CodeCell",
     "copiedOriginId": null,
     "diskcache": false,
     "headerColor": "transparent",
     "id": "fb406468-9104-446d-bcfa-8b1deb7a9c4f",
     "isComponent": false,
     "name": "",
     "parents": []
    }
   },
   "source": [
    "<br><br>\n",
    "\n",
    "# NOT NULL \n",
    "\n",
    "### value not be NULL"
   ]
  },
  {
   "cell_type": "code",
   "execution_count": 4,
   "id": "3bc99ab8-7316-45e0-8a46-3c83a5b6c9db",
   "metadata": {
    "canvas": {
     "comments": [],
     "componentType": "CodeCell",
     "copiedOriginId": null,
     "diskcache": false,
     "headerColor": "transparent",
     "id": "a5daf284-576c-46a6-8d3e-f6d8c67f10b3",
     "isComponent": false,
     "name": "",
     "parents": []
    }
   },
   "outputs": [],
   "source": [
    "cursor = db.cursor()\n",
    "cursor.execute(\"CREATE DATABASE IF NOT EXISTS mydb\")"
   ]
  },
  {
   "cell_type": "code",
   "execution_count": 5,
   "id": "15cd2dfa-bb1f-4536-b56b-5f7ce7cb9082",
   "metadata": {
    "canvas": {
     "comments": [],
     "componentType": "CodeCell",
     "copiedOriginId": null,
     "diskcache": false,
     "headerColor": "transparent",
     "id": "3e5f3e8b-c318-4ca3-8a18-0e323815ae46",
     "isComponent": false,
     "name": "",
     "parents": []
    }
   },
   "outputs": [],
   "source": [
    "# create Tables\n",
    "\n",
    "cursor.execute(\"USE mydb\")\n",
    "\n",
    "\n",
    "query = \"\"\"\n",
    "    CREATE TABLE users(\n",
    "        \n",
    "        name VARCHAR(255),\n",
    "        user_id INTEGER \n",
    "    )\n",
    "\"\"\"\n",
    "cursor.execute(query)\n",
    "\n",
    "db.commit()"
   ]
  },
  {
   "cell_type": "markdown",
   "id": "03b426a3-9499-403a-bae5-6203821c4805",
   "metadata": {
    "canvas": {
     "comments": [],
     "componentType": "CodeCell",
     "copiedOriginId": null,
     "diskcache": false,
     "headerColor": "transparent",
     "id": "6ab43f13-4caa-4400-a1c4-00e609305e07",
     "isComponent": false,
     "name": "",
     "parents": []
    }
   },
   "source": [
    "# now insert value"
   ]
  },
  {
   "cell_type": "code",
   "execution_count": 6,
   "id": "4ba2da2a-c73a-4bb5-8f14-8723bed750dc",
   "metadata": {
    "canvas": {
     "comments": [],
     "componentType": "CodeCell",
     "copiedOriginId": null,
     "diskcache": false,
     "headerColor": "transparent",
     "id": "45ed562a-e461-40da-bf03-bc4fdf160a0a",
     "isComponent": false,
     "name": "",
     "parents": []
    }
   },
   "outputs": [],
   "source": [
    "query = \"\"\"\n",
    "    INSERT INTO mydb.users (name,user_id)\n",
    "    VALUES (NULL,123)\n",
    "\"\"\"\n",
    "cursor.execute(query)\n",
    "\n",
    "db.commit()"
   ]
  },
  {
   "cell_type": "code",
   "execution_count": 7,
   "id": "20006f5e-3fb7-41aa-91a6-3df42657a5af",
   "metadata": {
    "canvas": {
     "comments": [],
     "componentType": "CodeCell",
     "copiedOriginId": null,
     "diskcache": false,
     "headerColor": "transparent",
     "id": "be307eb1-e587-452a-abc1-d5f4e3bab8c0",
     "isComponent": false,
     "name": "",
     "parents": []
    }
   },
   "outputs": [],
   "source": [
    "query = \"\"\"\n",
    "    INSERT INTO mydb.users (name,user_id)\n",
    "    VALUES ('',123)\n",
    "\"\"\"\n",
    "cursor.execute(query)\n",
    "\n",
    "db.commit()"
   ]
  },
  {
   "cell_type": "code",
   "execution_count": 8,
   "id": "5770747b-e418-4a1d-ac7b-a0abf81ab2a4",
   "metadata": {
    "canvas": {
     "comments": [],
     "componentType": "CodeCell",
     "copiedOriginId": null,
     "diskcache": false,
     "headerColor": "transparent",
     "id": "97543d58-ea2b-4117-b408-9061040ca55c",
     "isComponent": false,
     "name": "",
     "parents": []
    }
   },
   "outputs": [
    {
     "name": "stdout",
     "output_type": "stream",
     "text": [
      "[(None, 123), ('', 123)]\n"
     ]
    }
   ],
   "source": [
    "query = \"\"\"\n",
    "    SELECT * FROM users\n",
    "\"\"\"\n",
    "cursor.execute(query)\n",
    "\n",
    "print(cursor.fetchall())"
   ]
  },
  {
   "cell_type": "markdown",
   "id": "a7811ba4-1252-4dba-86a3-66b513ab5256",
   "metadata": {
    "canvas": {
     "comments": [],
     "componentType": "CodeCell",
     "copiedOriginId": null,
     "diskcache": false,
     "headerColor": "transparent",
     "id": "d7438d6d-5f7a-4ef3-84cb-257ff38634f9",
     "isComponent": false,
     "name": "",
     "parents": []
    }
   },
   "source": [
    "## now apply NOT NULL "
   ]
  },
  {
   "cell_type": "code",
   "execution_count": 9,
   "id": "00f6d250-770c-416c-a4c2-5cb978020ac6",
   "metadata": {
    "canvas": {
     "comments": [],
     "componentType": "CodeCell",
     "copiedOriginId": null,
     "diskcache": false,
     "headerColor": "transparent",
     "id": "8b276807-ce1a-48b0-b36a-e5f960908d44",
     "isComponent": false,
     "name": "",
     "parents": []
    }
   },
   "outputs": [],
   "source": [
    "query = \"\"\"DROP TABLE users\"\"\"\n",
    "cursor.execute(query)\n",
    "db.commit()\n",
    "\n",
    "# delete table values"
   ]
  },
  {
   "cell_type": "code",
   "execution_count": 10,
   "id": "b5ab9120-3d92-4374-8c75-5d7f8c565864",
   "metadata": {
    "canvas": {
     "comments": [],
     "componentType": "CodeCell",
     "copiedOriginId": null,
     "diskcache": false,
     "headerColor": "transparent",
     "id": "d88bf0ca-cdfb-4d03-a6e2-f1605104f38a",
     "isComponent": false,
     "name": "",
     "parents": []
    }
   },
   "outputs": [],
   "source": [
    "query = \"\"\"\n",
    "    CREATE TABLE users(\n",
    "        \n",
    "        name VARCHAR(255) NOT NULL, \n",
    "        user_id INTEGER \n",
    "    )\n",
    "\"\"\"\n",
    "cursor.execute(query)\n",
    "\n",
    "db.commit()"
   ]
  },
  {
   "cell_type": "code",
   "execution_count": 11,
   "id": "a181ed4e-78a4-485e-b515-c6ac361545ad",
   "metadata": {
    "canvas": {
     "comments": [],
     "componentType": "CodeCell",
     "copiedOriginId": null,
     "diskcache": false,
     "headerColor": "transparent",
     "id": "d4342527-a5a7-41ea-9ea8-feac13504cc0",
     "isComponent": false,
     "name": "",
     "parents": []
    }
   },
   "outputs": [],
   "source": [
    "query = \"\"\"\n",
    "    INSERT INTO mydb.users (name,user_id)\n",
    "    VALUES ('',123)\n",
    "\"\"\"\n",
    "cursor.execute(query)\n",
    "\n",
    "db.commit()"
   ]
  },
  {
   "cell_type": "markdown",
   "id": "a6065289-9633-454c-8403-db29919b7d04",
   "metadata": {
    "canvas": {
     "comments": [],
     "componentType": "CodeCell",
     "copiedOriginId": null,
     "diskcache": false,
     "headerColor": "transparent",
     "id": "74f62690-28bc-4d2d-b544-d88a9c99eb6a",
     "isComponent": false,
     "name": "",
     "parents": []
    }
   },
   "source": [
    "## now add NULL "
   ]
  },
  {
   "cell_type": "code",
   "execution_count": 12,
   "id": "b3d87b08-162c-41a9-8394-4222e900faaf",
   "metadata": {
    "canvas": {
     "comments": [],
     "componentType": "CodeCell",
     "copiedOriginId": null,
     "diskcache": false,
     "headerColor": "transparent",
     "id": "a2d291ba-f3f4-4eb3-a283-640c1158b789",
     "isComponent": false,
     "name": "",
     "parents": []
    }
   },
   "outputs": [
    {
     "name": "stdout",
     "output_type": "stream",
     "text": [
      "1048 (23000): Column 'name' cannot be null\n"
     ]
    }
   ],
   "source": [
    "query = \"\"\"\n",
    "    INSERT INTO mydb.users (name,user_id)\n",
    "    VALUES (NULL,123)\n",
    "\"\"\"\n",
    "try:\n",
    "    \n",
    "    cursor.execute(query)\n",
    "\n",
    "except Exception as e:\n",
    "    print(e)\n",
    "\n",
    "db.commit()"
   ]
  },
  {
   "cell_type": "code",
   "execution_count": 13,
   "id": "bb88c5b9-a70a-4b7c-8fc8-de62db4eed06",
   "metadata": {
    "canvas": {
     "comments": [],
     "componentType": "CodeCell",
     "copiedOriginId": null,
     "diskcache": false,
     "headerColor": "transparent",
     "id": "5278d550-6a75-4b58-8cb6-1b32e1ae5970",
     "isComponent": false,
     "name": "",
     "parents": []
    }
   },
   "outputs": [
    {
     "name": "stdout",
     "output_type": "stream",
     "text": [
      "[('', 123)]\n"
     ]
    }
   ],
   "source": [
    "#  show values\n",
    "\n",
    "query = \"\"\"\n",
    "    SELECT * FROM users\n",
    "\"\"\"\n",
    "cursor.execute(query)\n",
    "\n",
    "print(cursor.fetchall())"
   ]
  },
  {
   "cell_type": "markdown",
   "id": "fbd8e41a-9bf8-4656-8f3d-57c5c667c49a",
   "metadata": {
    "canvas": {
     "comments": [],
     "componentType": "CodeCell",
     "copiedOriginId": null,
     "diskcache": false,
     "headerColor": "transparent",
     "id": "3464f255-4f82-4d8f-be55-6a6bb94244a7",
     "isComponent": false,
     "name": "",
     "parents": []
    }
   },
   "source": [
    "### Why store '' empty ?\n",
    "- ### Becaues NOT NULL only check the Null values"
   ]
  },
  {
   "cell_type": "markdown",
   "id": "1c2011ab-4edc-4a8a-8005-d81f0f3a9244",
   "metadata": {
    "canvas": {
     "comments": [],
     "componentType": "CodeCell",
     "copiedOriginId": null,
     "diskcache": false,
     "headerColor": "transparent",
     "id": "9ab2d097-3909-4b85-b7a1-1fcec423d0f0",
     "isComponent": false,
     "name": "",
     "parents": []
    }
   },
   "source": [
    "<br>\n",
    "\n",
    "# UNIQUE \n",
    "\n",
    "### value must be unique"
   ]
  },
  {
   "cell_type": "code",
   "execution_count": 14,
   "id": "a41453e4-a707-4573-a320-e5b7d63310be",
   "metadata": {
    "canvas": {
     "comments": [],
     "componentType": "CodeCell",
     "copiedOriginId": null,
     "diskcache": false,
     "headerColor": "transparent",
     "id": "261befed-c911-4c52-99b1-0e69d5765f62",
     "isComponent": false,
     "name": "",
     "parents": []
    }
   },
   "outputs": [],
   "source": [
    "# drop table\n",
    "\n",
    "query = \"\"\"\n",
    "    DROP TABLE users\n",
    "\"\"\"\n",
    "cursor.execute(query)\n",
    "db.commit()"
   ]
  },
  {
   "cell_type": "code",
   "execution_count": 15,
   "id": "d2497794-802d-4c7c-bf73-2ddd70d8b287",
   "metadata": {
    "canvas": {
     "comments": [],
     "componentType": "CodeCell",
     "copiedOriginId": null,
     "diskcache": false,
     "headerColor": "transparent",
     "id": "5f840b4f-cb08-47ee-a2f5-9d6fcd226306",
     "isComponent": false,
     "name": "",
     "parents": []
    }
   },
   "outputs": [],
   "source": [
    "query = \"\"\"\n",
    "    CREATE TABLE users(\n",
    "        \n",
    "        name VARCHAR(255) NOT NULL,\n",
    "        user_id INTEGER UNIQUE\n",
    "    )\n",
    "\"\"\"\n",
    "cursor.execute(query)\n",
    "\n",
    "db.commit()"
   ]
  },
  {
   "cell_type": "code",
   "execution_count": 16,
   "id": "740d2d1b-887e-4ac6-b1b6-42c48ead0cd5",
   "metadata": {
    "canvas": {
     "comments": [],
     "componentType": "CodeCell",
     "copiedOriginId": null,
     "diskcache": false,
     "headerColor": "transparent",
     "id": "4c8d614c-91b9-45d3-a8dc-57f24de0b359",
     "isComponent": false,
     "name": "",
     "parents": []
    }
   },
   "outputs": [],
   "source": [
    "\n",
    "query = \"\"\"\n",
    "    \n",
    "    INSERT INTO mydb.users (name,user_id)\n",
    "    \n",
    "    VALUES ('Mubeen',1)\n",
    "\n",
    "\"\"\"\n",
    "\n",
    "cursor.execute(query)\n",
    "db.commit()"
   ]
  },
  {
   "cell_type": "code",
   "execution_count": 17,
   "id": "7653fed0-dedd-4ba0-b25a-2d5cea0e5aa7",
   "metadata": {
    "canvas": {
     "comments": [],
     "componentType": "CodeCell",
     "copiedOriginId": null,
     "diskcache": false,
     "headerColor": "transparent",
     "id": "781960b4-3a7d-4bf4-9d89-817bccd45f5a",
     "isComponent": false,
     "name": "",
     "parents": []
    }
   },
   "outputs": [
    {
     "name": "stdout",
     "output_type": "stream",
     "text": [
      "[('Mubeen', 1)]\n"
     ]
    }
   ],
   "source": [
    "query = \"\"\"\n",
    "    \n",
    "    SELECT * FROM users\n",
    "    \n",
    "\"\"\"\n",
    "\n",
    "\n",
    "cursor.execute(query)\n",
    "\n",
    "print(cursor.fetchall())"
   ]
  },
  {
   "cell_type": "markdown",
   "id": "38f5963c-a6f2-469f-ba52-b6c15f017078",
   "metadata": {
    "canvas": {
     "comments": [],
     "componentType": "CodeCell",
     "copiedOriginId": null,
     "diskcache": false,
     "headerColor": "transparent",
     "id": "cd21464a-fd51-421e-b7c0-2cd0a80e5e11",
     "isComponent": false,
     "name": "",
     "parents": []
    }
   },
   "source": [
    "## now try to Same 1 user_id in 2nd time"
   ]
  },
  {
   "cell_type": "code",
   "execution_count": 18,
   "id": "6876484c-6b29-4996-acfa-1c3684d44736",
   "metadata": {
    "canvas": {
     "comments": [],
     "componentType": "CodeCell",
     "copiedOriginId": null,
     "diskcache": false,
     "headerColor": "transparent",
     "id": "628481d3-a2b1-43ea-9413-fc918c6062b7",
     "isComponent": false,
     "name": "",
     "parents": []
    }
   },
   "outputs": [
    {
     "name": "stdout",
     "output_type": "stream",
     "text": [
      "1062 (23000): Duplicate entry '1' for key 'user_id'\n"
     ]
    }
   ],
   "source": [
    "\n",
    "query = \"\"\"\n",
    "    \n",
    "    INSERT INTO mydb.users (name,user_id)\n",
    "    \n",
    "    VALUES ('ALi',1)\n",
    "\n",
    "\"\"\"\n",
    "\n",
    "try:\n",
    "    cursor.execute(query)\n",
    "\n",
    "except Exception as e:\n",
    "    print(e)"
   ]
  },
  {
   "cell_type": "markdown",
   "id": "174377ef-bcad-49fc-8b41-f922f91dbbda",
   "metadata": {
    "canvas": {
     "comments": [],
     "componentType": "CodeCell",
     "copiedOriginId": null,
     "diskcache": false,
     "headerColor": "transparent",
     "id": "ce939277-3f56-4683-8df4-ac0a88637400",
     "isComponent": false,
     "name": "",
     "parents": []
    }
   },
   "source": [
    "# now try different user_id"
   ]
  },
  {
   "cell_type": "code",
   "execution_count": 19,
   "id": "48d89437-deea-4788-84ae-324caf901588",
   "metadata": {
    "canvas": {
     "comments": [],
     "componentType": "CodeCell",
     "copiedOriginId": null,
     "diskcache": false,
     "headerColor": "transparent",
     "id": "44a45e2a-c3a6-4d55-9f52-e54ae84ea70c",
     "isComponent": false,
     "name": "",
     "parents": []
    }
   },
   "outputs": [],
   "source": [
    "query = \"\"\"\n",
    "    \n",
    "    INSERT INTO mydb.users (name,user_id)\n",
    "    \n",
    "    VALUES ('ALi',8)\n",
    "\n",
    "\"\"\"\n",
    "\n",
    "cursor.execute(query)\n",
    "db.commit()"
   ]
  },
  {
   "cell_type": "code",
   "execution_count": 20,
   "id": "01c4414e-203e-4c45-8314-b8ddbe6d7030",
   "metadata": {
    "canvas": {
     "comments": [],
     "componentType": "CodeCell",
     "copiedOriginId": null,
     "diskcache": false,
     "headerColor": "transparent",
     "id": "df29a3f4-fd00-41e9-8475-10aaf54e2f12",
     "isComponent": false,
     "name": "",
     "parents": []
    }
   },
   "outputs": [
    {
     "name": "stdout",
     "output_type": "stream",
     "text": [
      "[('Mubeen', 1), ('ALi', 8)]\n"
     ]
    }
   ],
   "source": [
    "# SHOW VALUES\n",
    "\n",
    "query = \"\"\"\n",
    "    \n",
    "    SELECT * FROM users\n",
    "    \n",
    "\"\"\"\n",
    "\n",
    "\n",
    "cursor.execute(query)\n",
    "\n",
    "print(cursor.fetchall())"
   ]
  },
  {
   "cell_type": "markdown",
   "id": "c7b405dc-7593-4bcc-8dc6-a3c6d139b5a0",
   "metadata": {
    "canvas": {
     "comments": [],
     "componentType": "CodeCell",
     "copiedOriginId": null,
     "diskcache": false,
     "headerColor": "transparent",
     "id": "0f924396-b7fb-4f2c-b735-06b8d5bf1306",
     "isComponent": false,
     "name": "",
     "parents": []
    }
   },
   "source": [
    "<br>\n",
    "\n",
    "## AUTO_INCREMENT\n",
    "- ### Automatic Increment the value\n",
    "- ### Working only on INTEGER DATATYPE\n",
    "- ### We Dont Need to use UNIQUE with AUTO INCREMENT\n",
    "- ### NOTE ! AUTO_INCREMENT use with PRIMIARY KEY"
   ]
  },
  {
   "cell_type": "code",
   "execution_count": 21,
   "id": "11e336b5-489b-41c4-aff6-73f8c8dcb0fb",
   "metadata": {
    "canvas": {
     "comments": [],
     "componentType": "CodeCell",
     "copiedOriginId": null,
     "diskcache": false,
     "headerColor": "transparent",
     "id": "e6b4cd92-398d-45dd-b82e-1cd17d9ac21c",
     "isComponent": false,
     "name": "",
     "parents": []
    }
   },
   "outputs": [],
   "source": [
    "# drop table\n",
    "\n",
    "query = \"\"\"\n",
    "    DROP TABLE users\n",
    "\"\"\"\n",
    "cursor.execute(query)\n",
    "db.commit()"
   ]
  },
  {
   "cell_type": "code",
   "execution_count": 22,
   "id": "f9876ac8-53d4-471a-b017-812bd795b3fd",
   "metadata": {
    "canvas": {
     "comments": [],
     "componentType": "CodeCell",
     "copiedOriginId": null,
     "diskcache": false,
     "headerColor": "transparent",
     "id": "5380c0d5-ded3-40c2-a227-0b531d317db2",
     "isComponent": false,
     "name": "",
     "parents": []
    }
   },
   "outputs": [
    {
     "name": "stdout",
     "output_type": "stream",
     "text": [
      "1075 (42000): Incorrect table definition; there can be only one auto column and it must be defined as a key\n"
     ]
    }
   ],
   "source": [
    "\n",
    "query = \"\"\"\n",
    "    CREATE TABLE users(\n",
    "        user_id INTEGER AUTO_INCREMENT,\n",
    "        name VARCHAR(255) NOT NULL\n",
    ")\n",
    "\"\"\"\n",
    "\n",
    "try:\n",
    "    cursor.execute(query)\n",
    "    \n",
    "except Exception as e:\n",
    "    print(e)\n",
    "# db.commit()"
   ]
  },
  {
   "cell_type": "markdown",
   "id": "a478b5ad-46b2-4ba8-a50a-6fec289fb493",
   "metadata": {
    "canvas": {
     "comments": [],
     "componentType": "CodeCell",
     "copiedOriginId": null,
     "diskcache": false,
     "headerColor": "transparent",
     "id": "eb8c4d18-242b-47a7-b2e3-52ff56e94f19",
     "isComponent": false,
     "name": "",
     "parents": []
    }
   },
   "source": [
    "## note we cant use with out PRIMARY KEY"
   ]
  },
  {
   "cell_type": "code",
   "execution_count": 23,
   "id": "654abd59-b579-4e83-885a-75aa6bbd0ea6",
   "metadata": {
    "canvas": {
     "comments": [],
     "componentType": "CodeCell",
     "copiedOriginId": null,
     "diskcache": false,
     "headerColor": "transparent",
     "id": "c47d7116-a9d1-4323-a1cc-8d2c6d499e87",
     "isComponent": false,
     "name": "",
     "parents": []
    }
   },
   "outputs": [],
   "source": [
    "\n",
    "query = \"\"\"\n",
    "    CREATE TABLE users(\n",
    "        user_id INTEGER AUTO_INCREMENT PRIMARY KEY,\n",
    "        name VARCHAR(255) NOT NULL\n",
    ")\n",
    "\"\"\"\n",
    "\n",
    "cursor.execute(query)\n",
    "db.commit()"
   ]
  },
  {
   "cell_type": "code",
   "execution_count": 24,
   "id": "973e45cc-91b4-462b-bbd4-374e8f9a5fb7",
   "metadata": {
    "canvas": {
     "comments": [],
     "componentType": "CodeCell",
     "copiedOriginId": null,
     "diskcache": false,
     "headerColor": "transparent",
     "id": "fb3a20df-b8a6-4864-b776-820cb1a23e39",
     "isComponent": false,
     "name": "",
     "parents": []
    }
   },
   "outputs": [],
   "source": [
    "\n",
    "query = \"\"\"\n",
    "    \n",
    "    INSERT INTO mydb.users (name)\n",
    "    VALUES \n",
    "    \n",
    "    ('Mubeen'),\n",
    "    ('Ali'),\n",
    "    ('Rizwan')\n",
    "\n",
    "\"\"\"\n",
    "\n",
    "cursor.execute(query)\n",
    "db.commit()"
   ]
  },
  {
   "cell_type": "code",
   "execution_count": 25,
   "id": "06fdd8a7-20dd-43e3-a948-91b246292365",
   "metadata": {
    "canvas": {
     "comments": [],
     "componentType": "CodeCell",
     "copiedOriginId": null,
     "diskcache": false,
     "headerColor": "transparent",
     "id": "52e76078-9621-4983-be93-d541407565fd",
     "isComponent": false,
     "name": "",
     "parents": []
    }
   },
   "outputs": [
    {
     "name": "stdout",
     "output_type": "stream",
     "text": [
      "[(1, 'Mubeen'), (2, 'Ali'), (3, 'Rizwan')]\n"
     ]
    }
   ],
   "source": [
    "# SHOW VALUES\n",
    "\n",
    "query = \"\"\"\n",
    "    \n",
    "    SELECT * FROM users\n",
    "    \n",
    "\"\"\"\n",
    "\n",
    "\n",
    "cursor.execute(query)\n",
    "\n",
    "print(cursor.fetchall())\n",
    "\n",
    "# user_id Automatice increment"
   ]
  },
  {
   "cell_type": "markdown",
   "id": "348d84e2-b35e-4b0c-af14-d1175169ac42",
   "metadata": {
    "canvas": {
     "comments": [],
     "componentType": "CodeCell",
     "copiedOriginId": null,
     "diskcache": false,
     "headerColor": "transparent",
     "id": "5e35e4ed-c89d-42ea-9173-3b73865fb7f7",
     "isComponent": false,
     "name": "",
     "parents": []
    }
   },
   "source": [
    "<br>\n",
    "\n",
    "## CHECK\n",
    "- ### CHECK use for apply the condtions"
   ]
  },
  {
   "cell_type": "code",
   "execution_count": 26,
   "id": "6b91bac3-29f4-4cf2-82de-a8bd2c178428",
   "metadata": {
    "canvas": {
     "comments": [],
     "componentType": "CodeCell",
     "copiedOriginId": null,
     "diskcache": false,
     "headerColor": "transparent",
     "id": "ea90444f-995d-4b6d-9b71-da358e36389d",
     "isComponent": false,
     "name": "",
     "parents": []
    }
   },
   "outputs": [],
   "source": [
    "def remove_table():\n",
    "    cursor.execute(\"USE mydb\")\n",
    "    cursor.execute(\"DROP TABLE users\")\n",
    "\n",
    "def show_tables_values():\n",
    "    cursor.execute(\"USE mydb\")\n",
    "    cursor.execute(\"SELECT * FROM users\")\n",
    "    for i in cursor:\n",
    "        print(i)\n"
   ]
  },
  {
   "cell_type": "code",
   "execution_count": 27,
   "id": "d79bbfb7-48a3-4a3c-bf12-272ba73e2ff1",
   "metadata": {
    "canvas": {
     "comments": [],
     "componentType": "CodeCell",
     "copiedOriginId": null,
     "diskcache": false,
     "headerColor": "transparent",
     "id": "78a2c6ff-654b-4114-b2fa-f9db5264c6fb",
     "isComponent": false,
     "name": "",
     "parents": []
    }
   },
   "outputs": [],
   "source": [
    "remove_table() # remove "
   ]
  },
  {
   "cell_type": "code",
   "execution_count": 28,
   "id": "619ee012-dffd-42db-a37d-3d5b9c27afe2",
   "metadata": {
    "canvas": {
     "comments": [],
     "componentType": "CodeCell",
     "copiedOriginId": null,
     "diskcache": false,
     "headerColor": "transparent",
     "id": "6c77d75a-b8e1-4501-8550-bc5e4ecbc6be",
     "isComponent": false,
     "name": "",
     "parents": []
    }
   },
   "outputs": [],
   "source": [
    "query = \"\"\"\n",
    "    CREATE TABLE users(\n",
    "        name VARCHAR(255) NOT NULL,\n",
    "        age INTEGER CHECK (age > 6 AND age < 12) \n",
    "    )\n",
    "\"\"\"\n",
    "\n",
    "cursor.execute(query)\n",
    "db.commit()\n",
    "\n",
    "# apply condition age must be in the range 6 to 12"
   ]
  },
  {
   "cell_type": "code",
   "execution_count": 29,
   "id": "74650622-6195-4c1d-8208-438f610564d5",
   "metadata": {
    "canvas": {
     "comments": [],
     "componentType": "CodeCell",
     "copiedOriginId": null,
     "diskcache": false,
     "headerColor": "transparent",
     "id": "91e6ccda-15f8-4129-a478-8d4f4315e7f7",
     "isComponent": false,
     "name": "",
     "parents": []
    }
   },
   "outputs": [
    {
     "name": "stdout",
     "output_type": "stream",
     "text": [
      "4025 (23000): CONSTRAINT `users.age` failed for `mydb`.`users`\n"
     ]
    }
   ],
   "source": [
    "# fill values\n",
    "\n",
    "query = \"\"\"\n",
    "    \n",
    "    INSERT INTO mydb.users (name,age)\n",
    "    VALUES ('Rizwan',5)\n",
    "\"\"\"\n",
    "\n",
    "try:\n",
    "    cursor.execute(query)\n",
    "except Exception as e:\n",
    "    print(e)\n",
    "db.commit()"
   ]
  },
  {
   "cell_type": "code",
   "execution_count": 30,
   "id": "fa39cba9-773b-444b-98e4-c1a23d3944b4",
   "metadata": {
    "canvas": {
     "comments": [],
     "componentType": "CodeCell",
     "copiedOriginId": null,
     "diskcache": false,
     "headerColor": "transparent",
     "id": "41685a50-16bc-4b2d-b6d4-b94ecb6465c3",
     "isComponent": false,
     "name": "",
     "parents": []
    }
   },
   "outputs": [
    {
     "name": "stdout",
     "output_type": "stream",
     "text": [
      "4025 (23000): CONSTRAINT `users.age` failed for `mydb`.`users`\n"
     ]
    }
   ],
   "source": [
    "# another try age 12\n",
    "\n",
    "query = \"\"\"\n",
    "    \n",
    "    INSERT INTO mydb.users (name,age)\n",
    "    VALUES ('Rizwan',12)\n",
    "\"\"\"\n",
    "\n",
    "try:\n",
    "    cursor.execute(query)\n",
    "except Exception as e:\n",
    "    print(e)\n",
    "db.commit()"
   ]
  },
  {
   "cell_type": "code",
   "execution_count": 31,
   "id": "c7c3fc67-3c97-4355-a5a7-d9b5ceaca433",
   "metadata": {
    "canvas": {
     "comments": [],
     "componentType": "CodeCell",
     "copiedOriginId": null,
     "diskcache": false,
     "headerColor": "transparent",
     "id": "6b6a3717-7cf8-401a-a605-d4a2783520e6",
     "isComponent": false,
     "name": "",
     "parents": []
    }
   },
   "outputs": [],
   "source": [
    "# now try age under the range\n",
    "\n",
    "\n",
    "query = \"\"\"\n",
    "    \n",
    "    INSERT INTO mydb.users (name,age)\n",
    "    VALUES ('Rizwan',11)\n",
    "\"\"\"\n",
    "\n",
    "cursor.execute(query)\n",
    "db.commit()"
   ]
  },
  {
   "cell_type": "code",
   "execution_count": 32,
   "id": "c1229120-e625-4eee-bc20-ce9fd3eee49f",
   "metadata": {
    "canvas": {
     "comments": [],
     "componentType": "CodeCell",
     "copiedOriginId": null,
     "diskcache": false,
     "headerColor": "transparent",
     "id": "9c994544-e1b5-4226-8e4e-7b0c65630d08",
     "isComponent": false,
     "name": "",
     "parents": []
    }
   },
   "outputs": [
    {
     "name": "stdout",
     "output_type": "stream",
     "text": [
      "('Rizwan', 11)\n"
     ]
    }
   ],
   "source": [
    "show_tables_values() # now value are add"
   ]
  },
  {
   "cell_type": "markdown",
   "id": "f4fb012d-a22b-4b5c-aa32-5225e2c11e66",
   "metadata": {
    "canvas": {
     "comments": [],
     "componentType": "CodeCell",
     "copiedOriginId": null,
     "diskcache": false,
     "headerColor": "transparent",
     "id": "1976075f-7266-49a7-b834-54d770d56c82",
     "isComponent": false,
     "name": "",
     "parents": []
    }
   },
   "source": [
    "<br>\n",
    "\n",
    "# DEFAULT\n",
    "### DEFAULT fill the default value if the user cant fill the field"
   ]
  },
  {
   "cell_type": "code",
   "execution_count": 33,
   "id": "ef0a8f26-3c89-496d-b53f-626587ecd395",
   "metadata": {
    "canvas": {
     "comments": [],
     "componentType": "CodeCell",
     "copiedOriginId": null,
     "diskcache": false,
     "headerColor": "transparent",
     "id": "4778b2a7-ee79-4d9a-a62d-8d1022cc65b9",
     "isComponent": false,
     "name": "",
     "parents": []
    }
   },
   "outputs": [],
   "source": [
    "remove_table()"
   ]
  },
  {
   "cell_type": "code",
   "execution_count": 34,
   "id": "2da557c7-0d16-4114-b6d5-decd43aaac95",
   "metadata": {
    "canvas": {
     "comments": [],
     "componentType": "CodeCell",
     "copiedOriginId": null,
     "diskcache": false,
     "headerColor": "transparent",
     "id": "1adef545-3226-49fb-b3b5-ed5bd74f0320",
     "isComponent": false,
     "name": "",
     "parents": []
    }
   },
   "outputs": [],
   "source": [
    "query = \"\"\"\n",
    "    CREATE TABLE users(\n",
    "        name VARCHAR(255) NOT NULL,\n",
    "        age INTEGER DEFAULT 16\n",
    "    )\n",
    "\"\"\"\n",
    "\n",
    "cursor.execute(query)\n",
    "db.commit()\n",
    "\n",
    "# if user not enter the age than automatic fill 16"
   ]
  },
  {
   "cell_type": "code",
   "execution_count": 35,
   "id": "12fe272b-dac9-4d02-9506-d75f89d23341",
   "metadata": {
    "canvas": {
     "comments": [],
     "componentType": "CodeCell",
     "copiedOriginId": null,
     "diskcache": false,
     "headerColor": "transparent",
     "id": "4183bb63-fdc2-43e1-b0f1-94a9fae89de3",
     "isComponent": false,
     "name": "",
     "parents": []
    }
   },
   "outputs": [],
   "source": [
    "query = \"\"\"\n",
    "    \n",
    "    INSERT INTO mydb.users (name)\n",
    "    VALUES \n",
    "    \n",
    "    ('Rizwan'),('ALi')\n",
    "    \n",
    "\"\"\"\n",
    "\n",
    "cursor.execute(query)\n",
    "db.commit()"
   ]
  },
  {
   "cell_type": "code",
   "execution_count": 36,
   "id": "f2911d25-cc2d-4275-b682-949fb96e3fb1",
   "metadata": {
    "canvas": {
     "comments": [],
     "componentType": "CodeCell",
     "copiedOriginId": null,
     "diskcache": false,
     "headerColor": "transparent",
     "id": "e693e1c7-e035-4e05-ada7-2f6569bfdb42",
     "isComponent": false,
     "name": "",
     "parents": []
    }
   },
   "outputs": [
    {
     "name": "stdout",
     "output_type": "stream",
     "text": [
      "('Rizwan', 16)\n",
      "('ALi', 16)\n"
     ]
    }
   ],
   "source": [
    "# show value\n",
    "\n",
    "show_tables_values()"
   ]
  },
  {
   "cell_type": "code",
   "execution_count": 37,
   "id": "463dc189-a4d8-4874-872d-0f55ba39bb48",
   "metadata": {
    "canvas": {
     "comments": [],
     "componentType": "CodeCell",
     "copiedOriginId": null,
     "diskcache": false,
     "headerColor": "transparent",
     "id": "eba032b7-875a-4ebf-9990-a1b76c2fefba",
     "isComponent": false,
     "name": "",
     "parents": []
    }
   },
   "outputs": [],
   "source": [
    "query = \"\"\"\n",
    "    \n",
    "    INSERT INTO mydb.users (name,age)\n",
    "    VALUES ('Zen',80)    \n",
    "\"\"\"\n",
    "\n",
    "cursor.execute(query)\n",
    "db.commit()"
   ]
  },
  {
   "cell_type": "code",
   "execution_count": 38,
   "id": "7b37d957-a423-4e59-a9ec-b6b447941933",
   "metadata": {
    "canvas": {
     "comments": [],
     "componentType": "CodeCell",
     "copiedOriginId": null,
     "diskcache": false,
     "headerColor": "transparent",
     "id": "6148ade6-df2b-4bd4-aaae-475824fe779b",
     "isComponent": false,
     "name": "",
     "parents": []
    }
   },
   "outputs": [
    {
     "name": "stdout",
     "output_type": "stream",
     "text": [
      "('Rizwan', 16)\n",
      "('ALi', 16)\n",
      "('Zen', 80)\n"
     ]
    }
   ],
   "source": [
    "show_tables_values()"
   ]
  },
  {
   "cell_type": "code",
   "execution_count": 39,
   "id": "ddb66edb-889f-4901-8044-5256d4d45088",
   "metadata": {
    "canvas": {
     "comments": [],
     "componentType": "CodeCell",
     "copiedOriginId": null,
     "diskcache": false,
     "headerColor": "transparent",
     "id": "519cb86a-0e7e-46e2-a120-c697c332956d",
     "isComponent": false,
     "name": "",
     "parents": []
    }
   },
   "outputs": [],
   "source": [
    "remove_table()"
   ]
  },
  {
   "cell_type": "code",
   "execution_count": 40,
   "id": "102acdda-bdd7-44db-873b-902793b69ef1",
   "metadata": {
    "canvas": {
     "comments": [],
     "componentType": "CodeCell",
     "copiedOriginId": null,
     "diskcache": false,
     "headerColor": "transparent",
     "id": "17f89acc-dc5b-4d4d-b3f1-21f760360774",
     "isComponent": false,
     "name": "",
     "parents": []
    }
   },
   "outputs": [],
   "source": [
    "query = \"\"\"\n",
    "    CREATE TABLE users(\n",
    "        name VARCHAR(255) NOT NULL,\n",
    "        created_time TIMESTAMP DEFAULT CURRENT_TIMESTAMP \n",
    "\n",
    "    )\n",
    "\"\"\"\n",
    "\n",
    "cursor.execute(query)\n",
    "db.commit()\n",
    "\n"
   ]
  },
  {
   "cell_type": "markdown",
   "id": "19156f83-66e8-4abb-b755-b921a81b5a47",
   "metadata": {
    "canvas": {
     "comments": [],
     "componentType": "CodeCell",
     "copiedOriginId": null,
     "diskcache": false,
     "headerColor": "transparent",
     "id": "053a348e-2837-4512-b52a-349febd56cbb",
     "isComponent": false,
     "name": "",
     "parents": []
    }
   },
   "source": [
    "###  here TIMESTAMP is the data type like VARCHAR, INTEGER and CURRENT_TIMESTAMP is the parameter"
   ]
  },
  {
   "cell_type": "code",
   "execution_count": 41,
   "id": "bca9e16d-a731-4aca-8bc1-6ab5ae76cbaa",
   "metadata": {
    "canvas": {
     "comments": [],
     "componentType": "CodeCell",
     "copiedOriginId": null,
     "diskcache": false,
     "headerColor": "transparent",
     "id": "2878b8c1-4354-46d2-9d24-32307437faf1",
     "isComponent": false,
     "name": "",
     "parents": []
    }
   },
   "outputs": [],
   "source": [
    "query = \"\"\"\n",
    "    \n",
    "    INSERT INTO mydb.users (name)\n",
    "    VALUES ('HELLO WORLD')    \n",
    "\"\"\"\n",
    "\n",
    "cursor.execute(query)\n",
    "db.commit()"
   ]
  },
  {
   "cell_type": "code",
   "execution_count": 42,
   "id": "743aa932-aaf5-4714-a677-bcd4aa827313",
   "metadata": {
    "canvas": {
     "comments": [],
     "componentType": "CodeCell",
     "copiedOriginId": null,
     "diskcache": false,
     "headerColor": "transparent",
     "id": "c2fe0198-8ec0-4da7-9aa5-b91312eeb6ab",
     "isComponent": false,
     "name": "",
     "parents": []
    }
   },
   "outputs": [
    {
     "name": "stdout",
     "output_type": "stream",
     "text": [
      "('HELLO WORLD', datetime.datetime(2023, 12, 4, 5, 6, 14))\n"
     ]
    }
   ],
   "source": [
    "show_tables_values()"
   ]
  },
  {
   "cell_type": "code",
   "execution_count": 43,
   "id": "2ad43d91-de43-46bc-a50a-a6bfae917ebc",
   "metadata": {
    "canvas": {
     "comments": [],
     "componentType": "CodeCell",
     "copiedOriginId": null,
     "diskcache": false,
     "headerColor": "transparent",
     "id": "8e2832b9-8f73-4084-8741-71e3f18338d7",
     "isComponent": false,
     "name": "",
     "parents": []
    }
   },
   "outputs": [],
   "source": [
    "# try again\n",
    "query = \"\"\"\n",
    "    \n",
    "    INSERT INTO mydb.users (name)\n",
    "    VALUES ('HELLO WORLD')    \n",
    "\"\"\"\n",
    "\n",
    "cursor.execute(query)\n",
    "db.commit()"
   ]
  },
  {
   "cell_type": "code",
   "execution_count": 44,
   "id": "118c43a8-eef8-48ac-99c2-c8bb96a706e2",
   "metadata": {
    "canvas": {
     "comments": [],
     "componentType": "CodeCell",
     "copiedOriginId": null,
     "diskcache": false,
     "headerColor": "transparent",
     "id": "c6984a6e-cc1c-4c64-af2c-0d1929cad7c6",
     "isComponent": false,
     "name": "",
     "parents": []
    }
   },
   "outputs": [
    {
     "name": "stdout",
     "output_type": "stream",
     "text": [
      "('HELLO WORLD', datetime.datetime(2023, 12, 4, 5, 6, 14))\n",
      "('HELLO WORLD', datetime.datetime(2023, 12, 4, 5, 6, 14))\n"
     ]
    }
   ],
   "source": [
    "show_tables_values()"
   ]
  }
 ],
 "metadata": {
  "canvas": {
   "colorPalette": [
    "inherit",
    "inherit",
    "inherit",
    "inherit",
    "inherit",
    "inherit",
    "inherit",
    "inherit",
    "inherit",
    "inherit"
   ],
   "parameters": [],
   "version": "1.0"
  },
  "kernelspec": {
   "display_name": "Python 3 (ipykernel)",
   "language": "python",
   "name": "python3"
  },
  "language_info": {
   "codemirror_mode": {
    "name": "ipython",
    "version": 3
   },
   "file_extension": ".py",
   "mimetype": "text/x-python",
   "name": "python",
   "nbconvert_exporter": "python",
   "pygments_lexer": "ipython3",
   "version": "3.10.12"
  }
 },
 "nbformat": 4,
 "nbformat_minor": 5
}

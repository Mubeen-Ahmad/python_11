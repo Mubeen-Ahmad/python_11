{
 "cells": [
  {
   "cell_type": "markdown",
   "id": "0ccd036c-7f1e-49d6-9f5a-7fdcd685b878",
   "metadata": {},
   "source": [
    "<h1 style=\"text-align:center; color:#005bbd; font-size:50px; font-family:Sans-serif; font-style: oblique; text-shadow: 0 0 3px white, 0 0 1px Black;\">ALTER</h1>\n"
   ]
  },
  {
   "cell_type": "markdown",
   "id": "71024ad0-0ef2-4c86-97ed-f787cf7379c9",
   "metadata": {},
   "source": [
    "<div style=\"text-align:left; color:black; font-size:30px; font-family:Sans-serif; font-style: oblique; text-shadow: 0 0 3px white, 0 0 1px black;\">\n",
    "<br>\n",
    "<p style=\"text-align:left; font-size:25px\">ALTER command is used to modify the structure of a database schema.<br>This command allows you to make changes to existing tables, such as \n",
    "<ul>adding a new column</ul>\n",
    "<ul>changing the data type of a column</ul>\n",
    "<ul>applying other modifications.</ul></p>\n",
    "</div>\n",
    "\n",
    "\n"
   ]
  },
  {
   "cell_type": "code",
   "execution_count": 1,
   "id": "c64e98e3-b968-4481-bcce-3adabec60640",
   "metadata": {},
   "outputs": [],
   "source": [
    "import mysql.connector\n",
    "\n",
    "db = mysql.connector.connect(\n",
    "    \n",
    "    host=\"localhost\",\n",
    "    port=3307,\n",
    "    user=\"root\",\n",
    "    password=\"\",\n",
    "\n",
    ")"
   ]
  },
  {
   "cell_type": "code",
   "execution_count": 2,
   "id": "deb7ac7d-65de-4969-862f-bf4c6185c1f6",
   "metadata": {},
   "outputs": [],
   "source": [
    "db.connect()"
   ]
  },
  {
   "cell_type": "code",
   "execution_count": 6,
   "id": "05c8db17-c8ec-4f27-945b-d29bdba7d25c",
   "metadata": {},
   "outputs": [],
   "source": [
    "cursor = db.cursor()"
   ]
  },
  {
   "cell_type": "markdown",
   "id": "1210d0cb-ee30-4782-8ed6-7e8f3f979a43",
   "metadata": {},
   "source": [
    "<div style=\"text-align:justify; color:black; font-size:25px; font-family:Sans-serif; font-style: oblique; text-shadow: 0 0 3px white, 0 0 1px black;\">Create a new Database and Table</div>\n"
   ]
  },
  {
   "cell_type": "code",
   "execution_count": 9,
   "id": "198257fc-b18e-4be4-8534-27aa7f554086",
   "metadata": {},
   "outputs": [],
   "source": [
    "cursor.execute(\"CREATE DATABASE IF NOT EXISTS login\")"
   ]
  },
  {
   "cell_type": "code",
   "execution_count": 11,
   "id": "50cda643-125e-44aa-9c68-e6525a83cd4a",
   "metadata": {},
   "outputs": [],
   "source": [
    "query = \"\"\"\n",
    "    CREATE TABLE login.users(\n",
    "        \n",
    "        username VARCHAR(255) NOT NULL\n",
    ")\n",
    "\"\"\"\n",
    "\n",
    "cursor.execute(query)"
   ]
  },
  {
   "cell_type": "markdown",
   "id": "373a8347-857c-49c1-8843-db3050b04931",
   "metadata": {},
   "source": [
    "<div style=\"text-align:left; color:black; font-size:30px; font-family:Sans-serif; font-style: oblique; text-shadow: 0 0 3px white, 0 0 1px black;\">\n",
    "<br>\n",
    "<h3 style=\"color:#005bbd; font-size:25px;\">Show Column\n",
    "</h3><br>\n",
    "<h3 style=\"color:red; font-size:35px;\">SHOW COLUMNS FROM name</h3>"
   ]
  },
  {
   "cell_type": "code",
   "execution_count": 12,
   "id": "dffdc272-0a71-4445-8556-b4e60c4af1a3",
   "metadata": {},
   "outputs": [
    {
     "name": "stdout",
     "output_type": "stream",
     "text": [
      "username varchar(255)\n"
     ]
    }
   ],
   "source": [
    "cursor.execute(\"SHOW COLUMNS FROM login.users\")\n",
    "columns = cursor.fetchall()\n",
    "\n",
    "for col in columns:\n",
    "    print(col[0],col[1])"
   ]
  },
  {
   "cell_type": "markdown",
   "id": "97266a54-e521-4861-a2d4-53470ac3cc56",
   "metadata": {},
   "source": [
    "<div style=\"text-align:justify; color:black; font-size:25px; font-family:Sans-serif; font-style: oblique; text-shadow: 0 0 3px white, 0 0 1px black;\">Now add More columns with Alter</div>\n"
   ]
  },
  {
   "cell_type": "markdown",
   "id": "8817a9cf-dcf1-4a6a-8493-52394b6044b3",
   "metadata": {},
   "source": [
    "<div style=\"text-align:left; color:black; font-size:30px; font-family:Sans-serif; font-style: oblique; text-shadow: 0 0 3px white, 0 0 1px black;\">\n",
    "<br>\n",
    "<h3 style=\"color:#005bbd; font-size:25px;\">Add Column\n",
    "</h3><br>\n",
    "<h3 style=\"color:red; font-size:25px;\">ALTER TABLE table_name ADD COLUMN col_name type</h3>"
   ]
  },
  {
   "cell_type": "code",
   "execution_count": 13,
   "id": "09b1553e-48b1-43c2-84be-e95598896ee8",
   "metadata": {},
   "outputs": [],
   "source": [
    "query = \"\"\"\n",
    "        ALTER TABLE login.users ADD COLUMN name VARCHAR(255) NOT NULL\n",
    "\"\"\"\n",
    "cursor.execute(query)"
   ]
  },
  {
   "cell_type": "markdown",
   "id": "ed3382ee-d7cd-40c2-9e83-27d04a14fe2a",
   "metadata": {},
   "source": [
    "<div style=\"text-align:justify; color:black; font-size:25px; font-family:Sans-serif; font-style: oblique; text-shadow: 0 0 3px white, 0 0 1px black;\">check again columns</div>\n"
   ]
  },
  {
   "cell_type": "code",
   "execution_count": 14,
   "id": "45055fb4-fa5d-49ef-844d-9947fcc79511",
   "metadata": {},
   "outputs": [
    {
     "name": "stdout",
     "output_type": "stream",
     "text": [
      "username varchar(255)\n",
      "name varchar(255)\n"
     ]
    }
   ],
   "source": [
    "cursor.execute(\"SHOW COLUMNS FROM login.users\")\n",
    "columns = cursor.fetchall()\n",
    "\n",
    "for col in columns:\n",
    "    print(col[0],col[1])"
   ]
  },
  {
   "cell_type": "markdown",
   "id": "bec8faf5-f0ad-4c7a-a4a7-3c53f7ec949b",
   "metadata": {},
   "source": [
    "<div style=\"text-align:justify; color:black; font-size:25px; font-family:Sans-serif; font-style: oblique; text-shadow: 0 0 3px white, 0 0 1px black;\">Add Multiple Columns</div>\n"
   ]
  },
  {
   "cell_type": "code",
   "execution_count": 16,
   "id": "d7d6774a-f3e0-46df-ab5f-355d2d1f52c5",
   "metadata": {},
   "outputs": [],
   "source": [
    "query = \"\"\"\n",
    "        ALTER TABLE login.users \n",
    "        \n",
    "        ADD COLUMN age INTEGER NOT NULL,\n",
    "        ADD COLUMN type VARCHAR(255) NOT NULL\n",
    "\"\"\"\n",
    "cursor.execute(query)"
   ]
  },
  {
   "cell_type": "code",
   "execution_count": 17,
   "id": "a68a5b42-4413-4e3c-b85e-5fd91bf0075a",
   "metadata": {},
   "outputs": [
    {
     "name": "stdout",
     "output_type": "stream",
     "text": [
      "username varchar(255)\n",
      "name varchar(255)\n",
      "age int(11)\n",
      "type varchar(255)\n"
     ]
    }
   ],
   "source": [
    "# check columns\n",
    "cursor.execute(\"SHOW COLUMNS FROM login.users\")\n",
    "columns = cursor.fetchall()\n",
    "\n",
    "for col in columns:\n",
    "    print(col[0],col[1])"
   ]
  },
  {
   "cell_type": "markdown",
   "id": "6120dcac-d99b-4cc4-bade-ed987c254b3a",
   "metadata": {},
   "source": [
    "<div style=\"text-align:left; color:black; font-size:30px; font-family:Sans-serif; font-style: oblique; text-shadow: 0 0 3px white, 0 0 1px black;\">\n",
    "<br>\n",
    "<h3 style=\"color:#005bbd; font-size:25px;\">ADD COLUMN AFTER in specfic position\n",
    "</h3><br>\n",
    "<h3 style=\"color:red; font-size:25px;\">ADD COLUMN col_name INTEGER NOT NULL AFTER col_name,</h3>"
   ]
  },
  {
   "cell_type": "code",
   "execution_count": 19,
   "id": "2c99b03d-9ecf-4176-960d-b8446d0c0c28",
   "metadata": {},
   "outputs": [],
   "source": [
    "query = \"\"\"\n",
    "        ALTER TABLE login.users \n",
    "        \n",
    "        ADD COLUMN test1 INTEGER NOT NULL AFTER username,\n",
    "        ADD COLUMN test2 INTEGER NOT NULL AFTER age\n",
    "\"\"\"\n",
    "cursor.execute(query)"
   ]
  },
  {
   "cell_type": "markdown",
   "id": "43c8d1dc-ad30-4fce-a32a-943ff426b64c",
   "metadata": {},
   "source": [
    "<div style=\"text-align:justify; color:black; font-size:25px; font-family:Sans-serif; font-style: oblique; text-shadow: 0 0 3px white, 0 0 1px black;\">Add test1 after username and test2 after age</div>\n"
   ]
  },
  {
   "cell_type": "code",
   "execution_count": 20,
   "id": "2566de6b-319a-4ce0-9a28-f0aa831ea34e",
   "metadata": {},
   "outputs": [
    {
     "name": "stdout",
     "output_type": "stream",
     "text": [
      "username varchar(255)\n",
      "test1 int(11)\n",
      "name varchar(255)\n",
      "age int(11)\n",
      "test2 int(11)\n",
      "type varchar(255)\n"
     ]
    }
   ],
   "source": [
    "# check columns\n",
    "cursor.execute(\"SHOW COLUMNS FROM login.users\")\n",
    "columns = cursor.fetchall()\n",
    "\n",
    "for col in columns:\n",
    "    print(col[0],col[1])"
   ]
  },
  {
   "cell_type": "markdown",
   "id": "7c5afa9f-0672-41f3-9603-f8a74ea298ac",
   "metadata": {},
   "source": [
    "<div style=\"text-align:left; color:black; font-size:30px; font-family:Sans-serif; font-style: oblique; text-shadow: 0 0 3px white, 0 0 1px black;\">\n",
    "<br>\n",
    "<h3 style=\"color:#005bbd; font-size:25px;\">Drop Column\n",
    "</h3><br>\n",
    "<h3 style=\"color:red; font-size:25px;\"> ALTER TABLE tablename DROP COLUMN col_name</h3>"
   ]
  },
  {
   "cell_type": "code",
   "execution_count": 22,
   "id": "c20d327e-1369-476b-b374-986ffd9dd7be",
   "metadata": {},
   "outputs": [],
   "source": [
    "query = \"\"\"\n",
    "        ALTER TABLE login.users \n",
    "        DROP COLUMN test1,\n",
    "        DROP COLUMN test2\n",
    "\"\"\"\n",
    "cursor.execute(query)"
   ]
  },
  {
   "cell_type": "code",
   "execution_count": 23,
   "id": "96a31194-ee81-4213-9e34-bf45e2a66df1",
   "metadata": {},
   "outputs": [
    {
     "name": "stdout",
     "output_type": "stream",
     "text": [
      "username varchar(255)\n",
      "name varchar(255)\n",
      "age int(11)\n",
      "type varchar(255)\n"
     ]
    }
   ],
   "source": [
    "# check columns\n",
    "cursor.execute(\"SHOW COLUMNS FROM login.users\")\n",
    "columns = cursor.fetchall()\n",
    "\n",
    "for col in columns:\n",
    "    print(col[0],col[1])"
   ]
  },
  {
   "cell_type": "markdown",
   "id": "128639a3-9954-48a6-8730-98fcd673007c",
   "metadata": {},
   "source": [
    "<div style=\"text-align:left; color:black; font-size:30px; font-family:Sans-serif; font-style: oblique; text-shadow: 0 0 3px white, 0 0 1px black;\">\n",
    "<br>\n",
    "<h3 style=\"color:#005bbd; font-size:25px;\">MODIFY Column\n",
    "</h3><br>\n",
    "<h3 style=\"color:red; font-size:25px;\">MODIFY COLUMNS DataType</h3>\n"
   ]
  },
  {
   "cell_type": "code",
   "execution_count": 24,
   "id": "5d05b498-20fc-4aa3-992f-397cb3c8ccda",
   "metadata": {},
   "outputs": [],
   "source": [
    "query = \"\"\"\n",
    "        ALTER TABLE login.users \n",
    "        MODIFY COLUMN age VARCHAR(255)\n",
    "\"\"\"\n",
    "cursor.execute(query)"
   ]
  },
  {
   "cell_type": "markdown",
   "id": "b4999698-ec98-4287-816c-f620049b2faf",
   "metadata": {},
   "source": [
    "<div style=\"text-align:justify; color:black; font-size:25px; font-family:Sans-serif; font-style: oblique; text-shadow: 0 0 3px white, 0 0 1px black;\">Change datatype integer to varchar</div>\n"
   ]
  },
  {
   "cell_type": "code",
   "execution_count": 25,
   "id": "b4e0dca0-01f0-4289-ba03-0ded065ac9f1",
   "metadata": {},
   "outputs": [
    {
     "name": "stdout",
     "output_type": "stream",
     "text": [
      "username varchar(255)\n",
      "name varchar(255)\n",
      "age varchar(255)\n",
      "type varchar(255)\n"
     ]
    }
   ],
   "source": [
    "# check columns\n",
    "cursor.execute(\"SHOW COLUMNS FROM login.users\")\n",
    "columns = cursor.fetchall()\n",
    "\n",
    "for col in columns:\n",
    "    print(col[0],col[1])"
   ]
  },
  {
   "cell_type": "markdown",
   "id": "774c4a7e-68d4-4947-b3e1-572b9b1ff261",
   "metadata": {},
   "source": [
    "<div style=\"text-align:left; color:black; font-size:30px; font-family:Sans-serif; font-style: oblique; text-shadow: 0 0 3px white, 0 0 1px black;\">\n",
    "<br>\n",
    "<h3 style=\"color:#005bbd; font-size:25px;\">Change Column name\n",
    "</h3><br>\n",
    "<h3 style=\"color:red; font-size:25px;\">CHANGE COLUMN old_name new_name type</h3>\n"
   ]
  },
  {
   "cell_type": "code",
   "execution_count": 26,
   "id": "79fe20ed-29f3-4b90-8675-f17357de547b",
   "metadata": {},
   "outputs": [],
   "source": [
    "query = \"\"\"\n",
    "        ALTER TABLE login.users \n",
    "        \n",
    "        CHANGE COLUMN age AGE INTEGER\n",
    "\"\"\"\n",
    "cursor.execute(query)"
   ]
  },
  {
   "cell_type": "code",
   "execution_count": 27,
   "id": "f60e2004-6d26-4925-869d-de62c21fa005",
   "metadata": {},
   "outputs": [
    {
     "name": "stdout",
     "output_type": "stream",
     "text": [
      "username varchar(255)\n",
      "name varchar(255)\n",
      "AGE int(11)\n",
      "type varchar(255)\n"
     ]
    }
   ],
   "source": [
    "# check columns\n",
    "cursor.execute(\"SHOW COLUMNS FROM login.users\")\n",
    "columns = cursor.fetchall()\n",
    "\n",
    "for col in columns:\n",
    "    print(col[0],col[1])"
   ]
  },
  {
   "cell_type": "markdown",
   "id": "4bed3595-7489-44e9-8a55-b618ea277668",
   "metadata": {},
   "source": [
    "<div style=\"text-align:left; color:black; font-size:30px; font-family:Sans-serif; font-style: oblique; text-shadow: 0 0 3px white, 0 0 1px black;\">\n",
    "<br>\n",
    "<h3 style=\"color:#005bbd; font-size:25px;\">Add Constraint with Alter\n",
    "</h3><br>\n",
    "<h3 style=\"color:red; font-size:25px;\">ADD CONSTRAINT alias condition</h3>\n"
   ]
  },
  {
   "cell_type": "code",
   "execution_count": 29,
   "id": "53e340fd-30b4-4df0-8429-9bc417d13890",
   "metadata": {},
   "outputs": [],
   "source": [
    "query = \"\"\"\n",
    "        ALTER TABLE login.users \n",
    "        \n",
    "        ADD CONSTRAINT user_age CHECK(AGE > 16)\n",
    "\"\"\"\n",
    "cursor.execute(query)"
   ]
  },
  {
   "cell_type": "markdown",
   "id": "bf07d851-a251-45eb-8f1b-b39634e552aa",
   "metadata": {},
   "source": [
    "<div style=\"text-align:justify; color:black; font-size:25px; font-family:Sans-serif; font-style: oblique; text-shadow: 0 0 3px white, 0 0 1px black;\">Now Insert Value for check constraint add or not</div>\n"
   ]
  },
  {
   "cell_type": "code",
   "execution_count": 31,
   "id": "9d43d9bd-b2e1-4de2-a950-448d338aef55",
   "metadata": {},
   "outputs": [],
   "source": [
    "query = \"\"\"\n",
    "        INSERT INTO login.users (username,name,AGE,type)\n",
    "        VALUES ('mubeenahmad778','Mubeen',17,'normal')\n",
    "\"\"\"\n",
    "cursor.execute(query)"
   ]
  },
  {
   "cell_type": "code",
   "execution_count": 33,
   "id": "1756e27e-66dd-4329-a7a2-c4b8ffbea251",
   "metadata": {},
   "outputs": [
    {
     "name": "stdout",
     "output_type": "stream",
     "text": [
      "('mubeenahmad778', 'Mubeen', 17, 'normal')\n"
     ]
    }
   ],
   "source": [
    "#check values\n",
    "\n",
    "query = \"\"\"\n",
    "        SELECT * FROM login.users\n",
    "\"\"\"\n",
    "cursor.execute(query)\n",
    "values = cursor.fetchall()\n",
    "\n",
    "for val in values:\n",
    "    print(val)"
   ]
  },
  {
   "cell_type": "markdown",
   "id": "3a55fe58-80d9-4012-9af6-6a7fb77db706",
   "metadata": {},
   "source": [
    "<div style=\"text-align:justify; color:black; font-size:25px; font-family:Sans-serif; font-style: oblique; text-shadow: 0 0 3px white, 0 0 1px black;\">trying to add age 16 to make sure constraint are add or not</div>\n",
    "\n"
   ]
  },
  {
   "cell_type": "code",
   "execution_count": 34,
   "id": "ead3e8e8-daff-45ef-88a8-ad29afad3819",
   "metadata": {},
   "outputs": [
    {
     "name": "stdout",
     "output_type": "stream",
     "text": [
      "4025 (23000): CONSTRAINT `user_age` failed for `login`.`users`\n"
     ]
    }
   ],
   "source": [
    "query = \"\"\"\n",
    "        INSERT INTO login.users (username,name,AGE,type)\n",
    "        \n",
    "        VALUES ('mubeenahmad889','Mubeen',16,'normal')\n",
    "\"\"\"\n",
    "try:\n",
    "    cursor.execute(query)\n",
    "except Exception as e:\n",
    "    print(e)"
   ]
  },
  {
   "cell_type": "markdown",
   "id": "86ad07f5-a761-4194-92a9-4d992fd28676",
   "metadata": {},
   "source": [
    "<div style=\"text-align:left; color:black; font-size:30px; font-family:Sans-serif; font-style: oblique; text-shadow: 0 0 3px white, 0 0 1px black;\">\n",
    "<br>\n",
    "<h3 style=\"color:#005bbd; font-size:25px;\">Change Constraint<br><br>In Mysql we cant change constraints directly So first remove than add new constraint\n",
    "</h3><br>\n",
    "<h3 style=\"color:red; font-size:25px; line-height:200%;\"> ALTER TABLE table_name <br>DROP CONSTRAINT alias,<br>\n",
    "        ADD CONSTRAINT alias condition</h3>\n"
   ]
  },
  {
   "cell_type": "code",
   "execution_count": 35,
   "id": "7f3b3b2a-1e2e-4ede-987e-878e94dfc4c4",
   "metadata": {},
   "outputs": [],
   "source": [
    "query = \"\"\"\n",
    "        ALTER TABLE login.users \n",
    "        DROP CONSTRAINT user_age,\n",
    "        ADD CONSTRAINT user_age CHECK(AGE > 16)\n",
    "\"\"\"\n",
    "cursor.execute(query)"
   ]
  },
  {
   "cell_type": "markdown",
   "id": "ac70ca04-63be-4c13-a525-f49f1ab322d5",
   "metadata": {},
   "source": [
    "<div style=\"text-align:justify; color:black; font-size:25px; font-family:Sans-serif; font-style: oblique; text-shadow: 0 0 3px white, 0 0 1px black;\">Now trying to add 16 Age</div>\n",
    "\n"
   ]
  },
  {
   "cell_type": "code",
   "execution_count": 36,
   "id": "8a54ed56-ed1f-4102-a62f-e170f2787cc3",
   "metadata": {},
   "outputs": [
    {
     "name": "stdout",
     "output_type": "stream",
     "text": [
      "4025 (23000): CONSTRAINT `user_age` failed for `login`.`users`\n"
     ]
    }
   ],
   "source": [
    "query = \"\"\"\n",
    "        INSERT INTO login.users (username,name,AGE,type)\n",
    "        \n",
    "        VALUES ('alixyz','Ali',16,'normal')\n",
    "\"\"\"\n",
    "\n",
    "try:\n",
    "    cursor.execute(query)\n",
    "except Exception as e:\n",
    "    print(e)"
   ]
  },
  {
   "cell_type": "markdown",
   "id": "ad7ae6d7-370e-494b-b76c-48a50073b0d4",
   "metadata": {},
   "source": [
    "<div style=\"text-align:justify; color:black; font-size:25px; font-family:Sans-serif; font-style: oblique; text-shadow: 0 0 3px white, 0 0 1px black;\">Why 16 are not adding ?<br><br>Because Previous Values are smaller than 16 thats why Constraints not apply</div>\n",
    "\n"
   ]
  },
  {
   "cell_type": "code",
   "execution_count": 38,
   "id": "1cc74b6e-5fe4-45b5-a0d7-65a2f91ca3ed",
   "metadata": {},
   "outputs": [
    {
     "name": "stdout",
     "output_type": "stream",
     "text": [
      "('mubeenahmad778', 'Mubeen', 17, 'normal')\n"
     ]
    }
   ],
   "source": [
    "query = \"\"\"\n",
    "        SELECT * FROM login.users\n",
    "\"\"\"\n",
    "cursor.execute(query)\n",
    "\n",
    "values = cursor.fetchall()\n",
    "\n",
    "for val in values:\n",
    "    print(val)"
   ]
  },
  {
   "cell_type": "markdown",
   "id": "f35b5f4a-a559-4ca3-8054-6a9b8b550563",
   "metadata": {},
   "source": [
    "<div style=\"text-align:justify; color:black; font-size:25px; font-family:Sans-serif; font-style: oblique; text-shadow: 0 0 3px white, 0 0 1px black;\">Now try to apply constaint on age < 20 and check 20 are add or Not</div>\n",
    "\n"
   ]
  },
  {
   "cell_type": "code",
   "execution_count": 39,
   "id": "eb48a15b-cc90-40b3-aea1-e040d9570904",
   "metadata": {},
   "outputs": [],
   "source": [
    "query = \"\"\"\n",
    "        ALTER TABLE login.users \n",
    "        \n",
    "        DROP CONSTRAINT user_age,\n",
    "        ADD CONSTRAINT user_age CHECK(AGE > 16 and AGE < 20)\n",
    "\"\"\"\n",
    "cursor.execute(query)"
   ]
  },
  {
   "cell_type": "code",
   "execution_count": 40,
   "id": "28b0d9c7-ad21-49d2-a9f2-ce816708e09a",
   "metadata": {},
   "outputs": [],
   "source": [
    "query = \"\"\"\n",
    "        INSERT INTO login.users (username,name,AGE,type)\n",
    "        \n",
    "        VALUES ('riz','Rizwan',19,'normal')\n",
    "\"\"\"\n",
    "cursor.execute(query)"
   ]
  },
  {
   "cell_type": "code",
   "execution_count": 41,
   "id": "13b11977-c54f-414e-a98b-f3a45f23d143",
   "metadata": {},
   "outputs": [
    {
     "name": "stdout",
     "output_type": "stream",
     "text": [
      "('mubeenahmad778', 'Mubeen', 17, 'normal')\n",
      "('riz', 'Rizwan', 19, 'normal')\n"
     ]
    }
   ],
   "source": [
    "query = \"\"\"\n",
    "        SELECT * FROM login.users\n",
    "\"\"\"\n",
    "cursor.execute(query)\n",
    "\n",
    "values = cursor.fetchall()\n",
    "\n",
    "for val in values:\n",
    "    print(val)"
   ]
  },
  {
   "cell_type": "markdown",
   "id": "38baa7b7-be9a-46fe-aab2-f65ea94b9263",
   "metadata": {},
   "source": [
    "<div style=\"text-align:justify; color:black; font-size:25px; font-family:Sans-serif; font-style: oblique; text-shadow: 0 0 3px white, 0 0 1px black;\">Now add the age 20</div>\n",
    "\n"
   ]
  },
  {
   "cell_type": "code",
   "execution_count": 42,
   "id": "e39cff7d-9ac4-4d04-a50e-7a49ba5fad59",
   "metadata": {},
   "outputs": [
    {
     "name": "stdout",
     "output_type": "stream",
     "text": [
      "4025 (23000): CONSTRAINT `user_age` failed for `login`.`users`\n"
     ]
    }
   ],
   "source": [
    "query = \"\"\"\n",
    "        INSERT INTO login.users (username,name,AGE,type)\n",
    "        \n",
    "        VALUES ('riz','Rizwan',20,'normal')\n",
    "\"\"\"\n",
    "try:\n",
    "    cursor.execute(query)\n",
    "except Exception as e:\n",
    "    print(e)"
   ]
  },
  {
   "cell_type": "markdown",
   "id": "9f9b1c53-0118-45c5-8ab1-20d8409e181a",
   "metadata": {},
   "source": [
    "<div style=\"text-align:justify; color:black; font-size:25px; font-family:Sans-serif; font-style: oblique; text-shadow: 0 0 3px white, 0 0 1px black;\">So its Means Constraint are Updated</div>\n",
    "\n"
   ]
  },
  {
   "cell_type": "markdown",
   "id": "2ee46af8-cdf9-4311-a795-af20a631edd4",
   "metadata": {},
   "source": [
    "<div style=\"text-align:left; color:black; font-size:30px; font-family:Sans-serif; font-style: oblique; text-shadow: 0 0 3px white, 0 0 1px black;\">\n",
    "<br>\n",
    "<h3 style=\"color:#005bbd; font-size:25px;\">Drop Constraint\n",
    "</h3><br>\n",
    "<h3 style=\"color:red; font-size:25px;\">ALTER TABLE table_name DROP CONSTRAINT alias</h3>\n"
   ]
  },
  {
   "cell_type": "code",
   "execution_count": 43,
   "id": "91c19229-1616-4ab4-9245-52e9d3a5a730",
   "metadata": {},
   "outputs": [],
   "source": [
    "query = \"\"\"\n",
    "        ALTER TABLE login.users DROP CONSTRAINT user_age\n",
    "\"\"\"\n",
    "cursor.execute(query)"
   ]
  },
  {
   "cell_type": "markdown",
   "id": "50e31f44-0cf7-4fc4-9ee2-341dd0f06181",
   "metadata": {},
   "source": [
    "<div style=\"text-align:justify; color:black; font-size:25px; font-family:Sans-serif; font-style: oblique; text-shadow: 0 0 3px white, 0 0 1px black;\">NOW again try add 20 Age Bcz Constraint are Deleted</div>\n",
    "\n"
   ]
  },
  {
   "cell_type": "code",
   "execution_count": 44,
   "id": "5acb738d-de17-4759-896d-94d619ed8d0a",
   "metadata": {},
   "outputs": [],
   "source": [
    "query = \"\"\"\n",
    "        INSERT INTO login.users (username,name,AGE,type)\n",
    "        \n",
    "        VALUES ('riz','Rizwan',20,'normal')\n",
    "\"\"\"\n",
    "cursor.execute(query)"
   ]
  },
  {
   "cell_type": "code",
   "execution_count": 46,
   "id": "2763696c-6ced-455f-8247-f0f647291009",
   "metadata": {},
   "outputs": [
    {
     "name": "stdout",
     "output_type": "stream",
     "text": [
      "('mubeenahmad778', 'Mubeen', 17, 'normal')\n",
      "('riz', 'Rizwan', 19, 'normal')\n",
      "('riz', 'Rizwan', 20, 'normal')\n"
     ]
    }
   ],
   "source": [
    "query = \"\"\"\n",
    "        SELECT * FROM login.users\n",
    "\"\"\"\n",
    "cursor.execute(query)\n",
    "\n",
    "values = cursor.fetchall()\n",
    "\n",
    "for val in values:\n",
    "    print(val)"
   ]
  },
  {
   "cell_type": "markdown",
   "id": "02405c39-fe87-4428-8b2a-675b7eb183ea",
   "metadata": {},
   "source": [
    "<hr>\n",
    "<div style=\"text-align:left; color:black; font-size:20px; font-family:Sans-serif; font-style: oblique; text-shadow: 0 0 3px white, 0 0 1px black;\">Commands\n",
    "\n",
    "<ul>SHOW COLUMNS FROM name</ul>\n",
    "<ul>ALTER TABLE table_name ADD COLUMN col_name type</ul>\n",
    "<ul>ADD COLUMN col_name INTEGER NOT NULL AFTER col_name</ul>\n",
    "<ul>ALTER TABLE tablename DROP COLUMN col_name</ul>\n",
    "<ul>MODIFY COLUMNS DataType</ul>\n",
    "<ul>CHANGE COLUMN old_name new_name type</ul>\n",
    "<ul>ADD CONSTRAINT alias condition</ul>\n",
    "<ul>ALTER TABLE table_name <br>DROP CONSTRAINT alias,<br>\n",
    "        ADD CONSTRAINT alias condition</ul>\n",
    "<ul>ALTER TABLE table_name DROP CONSTRAINT alias</ul>\n",
    "\n",
    "</div>"
   ]
  }
 ],
 "metadata": {
  "kernelspec": {
   "display_name": "Python 3 (ipykernel)",
   "language": "python",
   "name": "python3"
  },
  "language_info": {
   "codemirror_mode": {
    "name": "ipython",
    "version": 3
   },
   "file_extension": ".py",
   "mimetype": "text/x-python",
   "name": "python",
   "nbconvert_exporter": "python",
   "pygments_lexer": "ipython3",
   "version": "3.10.12"
  }
 },
 "nbformat": 4,
 "nbformat_minor": 5
}

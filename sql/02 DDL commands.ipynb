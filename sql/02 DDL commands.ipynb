{
 "cells": [
  {
   "cell_type": "code",
   "execution_count": 174,
   "id": "3e4f21d3-098d-4814-8612-708adf556a21",
   "metadata": {
    "canvas": {
     "comments": [],
     "componentType": "CodeCell",
     "copiedOriginId": null,
     "diskcache": false,
     "headerColor": "transparent",
     "id": "df2e01f2-91b8-4f96-995d-1cd272f1aba7",
     "isComponent": false,
     "name": "",
     "parents": []
    }
   },
   "outputs": [],
   "source": [
    "import mysql.connector"
   ]
  },
  {
   "cell_type": "code",
   "execution_count": 175,
   "id": "79f7b82b-48ce-457c-891f-e597399d79a7",
   "metadata": {
    "canvas": {
     "comments": [],
     "componentType": "CodeCell",
     "copiedOriginId": null,
     "diskcache": false,
     "headerColor": "transparent",
     "id": "43d7f02c-8165-433e-8433-6eac17a7afac",
     "isComponent": false,
     "name": "",
     "parents": []
    }
   },
   "outputs": [],
   "source": [
    "db = mysql.connector.connect(\n",
    "    \n",
    "    host=\"localhost\",\n",
    "    user=\"root\",\n",
    "    password=\"\")"
   ]
  },
  {
   "cell_type": "markdown",
   "id": "78fd07a2-75cf-485b-9912-8d5509f1eaf7",
   "metadata": {
    "canvas": {
     "comments": [],
     "componentType": "CodeCell",
     "copiedOriginId": null,
     "diskcache": false,
     "headerColor": "transparent",
     "id": "e20f8010-fba2-4625-a515-c09feca6fb1c",
     "isComponent": false,
     "name": "",
     "parents": []
    },
    "tags": []
   },
   "source": [
    "# DDL COMMANDS\n",
    "<br>\n",
    "\n",
    "\n",
    "- ## CREATE DATEBASE IF NOT EXISTS\n",
    "<br>\n",
    "\n",
    "- ## SHOW DATABASES\n",
    "<br>\n",
    "\n",
    "- ## USE database_name\n",
    "<br>\n",
    "\n",
    "- ## CREATE TABLE tablename\n",
    "<br>\n",
    "\n",
    "- ## SHOW TABLES  \n",
    "<br>\n",
    "\n",
    "- ## SHOW COLUMNS FROM tablename\n",
    "<br>\n",
    "\n",
    "- ## INSERT INTO database.table (n1,n2,n3)\n",
    "    - ### VALUES (v1,v2,v3)\n",
    "<br>\n",
    "\n",
    "- ## SELECT \\* FROM tablename\n",
    "<br>\n",
    "\n",
    "- ## TRUNCATE TABLE tablename\n",
    "<br>\n",
    "\n",
    "- ## INSERT INTO database.table (2nd Method)\n",
    "    - ### VALUES (v1,v2,v3)\n",
    "    - ### In this Method Value Order are same as Column Name\n",
    "<br>\n",
    "\n",
    "- ## DROP TABLE table\n",
    "<br>\n",
    "\n",
    "- ## DROP DATABASE name\n",
    "\n",
    "<br>\n",
    "\n"
   ]
  },
  {
   "cell_type": "markdown",
   "id": "e2c405a1-3b28-4393-a771-f2e80e46ff84",
   "metadata": {
    "canvas": {
     "comments": [],
     "componentType": "CodeCell",
     "copiedOriginId": null,
     "diskcache": false,
     "headerColor": "transparent",
     "id": "efd5cdc2-9148-4eb6-921b-d7b6b122a8fc",
     "isComponent": false,
     "name": "",
     "parents": []
    }
   },
   "source": [
    "<br><br>\n",
    "\n",
    "### CREATE DATEBASE IF NOT EXISTS"
   ]
  },
  {
   "cell_type": "code",
   "execution_count": 176,
   "id": "079b898b-7f2e-4bf8-a98d-5941b82643fb",
   "metadata": {
    "canvas": {
     "comments": [],
     "componentType": "CodeCell",
     "copiedOriginId": null,
     "diskcache": false,
     "headerColor": "transparent",
     "id": "fb6f0d2e-f4dc-49a8-b57a-29e897516640",
     "isComponent": false,
     "name": "",
     "parents": []
    }
   },
   "outputs": [],
   "source": [
    "db.connect()\n",
    "cursor = db.cursor()\n",
    "\n",
    "cursor.execute(\"CREATE DATABASE IF NOT EXISTS mydb\")"
   ]
  },
  {
   "cell_type": "markdown",
   "id": "89c23d02-7ef1-48ea-9dfe-1d58d8b6aec0",
   "metadata": {
    "canvas": {
     "comments": [],
     "componentType": "CodeCell",
     "copiedOriginId": null,
     "diskcache": false,
     "headerColor": "transparent",
     "id": "e6e378c3-1b0f-483a-a27f-961da45bf02c",
     "isComponent": false,
     "name": "",
     "parents": []
    }
   },
   "source": [
    "<br><br>\n",
    "\n",
    "### SHOW DATABASES"
   ]
  },
  {
   "cell_type": "code",
   "execution_count": 177,
   "id": "8ed2dc59-d8c9-4431-8234-731799d989d6",
   "metadata": {
    "canvas": {
     "comments": [],
     "componentType": "CodeCell",
     "copiedOriginId": null,
     "diskcache": false,
     "headerColor": "transparent",
     "id": "e086fe42-a7ca-4dfb-a5c3-aac67f249a19",
     "isComponent": false,
     "name": "",
     "parents": []
    }
   },
   "outputs": [
    {
     "name": "stdout",
     "output_type": "stream",
     "text": [
      "[('campusx',), ('information_schema',), ('mydatabase',), ('mydb',), ('mysql',), ('performance_schema',), ('phpmyadmin',), ('test',), ('testing',), ('wasa',)]\n"
     ]
    }
   ],
   "source": [
    "cursor.execute(\"SHOW DATABASES\")\n",
    "print([db for db in cursor])"
   ]
  },
  {
   "cell_type": "markdown",
   "id": "1cc4ef15-00ee-402d-a19b-d65c10a85b8d",
   "metadata": {
    "canvas": {
     "comments": [],
     "componentType": "CodeCell",
     "copiedOriginId": null,
     "diskcache": false,
     "headerColor": "transparent",
     "id": "c687a127-32b1-48d2-87a7-9c06dd93fbf0",
     "isComponent": false,
     "name": "",
     "parents": []
    }
   },
   "source": [
    "<br>\n",
    "\n",
    "### USE mydb for select database"
   ]
  },
  {
   "cell_type": "code",
   "execution_count": 178,
   "id": "90acbd56-8e50-4364-bcfd-a908e2a7fda9",
   "metadata": {
    "canvas": {
     "comments": [],
     "componentType": "CodeCell",
     "copiedOriginId": null,
     "diskcache": false,
     "headerColor": "transparent",
     "id": "288d50dc-b911-4b71-a855-c1dc8ba2382f",
     "isComponent": false,
     "name": "",
     "parents": []
    }
   },
   "outputs": [],
   "source": [
    "db.connect()\n",
    "cursor = db.cursor()\n",
    "cursor.execute(\"USE mydb\")"
   ]
  },
  {
   "cell_type": "markdown",
   "id": "503d47c0-daa2-45f3-83ce-5fb75c90146a",
   "metadata": {
    "canvas": {
     "comments": [],
     "componentType": "CodeCell",
     "copiedOriginId": null,
     "diskcache": false,
     "headerColor": "transparent",
     "id": "f9e99782-e61b-4a77-8b3d-7f26a5cdae57",
     "isComponent": false,
     "name": "",
     "parents": []
    }
   },
   "source": [
    "<br>\n",
    "\n",
    "### CREATE TABLE\n",
    "<br>\n",
    "\n",
    "- ### INTEGER is the int datatype\n",
    "- ### VARCHAR(255) string datatype and 255 is the max range\n",
    "- ### NOT NULL apply condition means value not be empty"
   ]
  },
  {
   "cell_type": "code",
   "execution_count": 184,
   "id": "b056e856-6577-4b78-8d73-eb35edb52784",
   "metadata": {
    "canvas": {
     "comments": [],
     "componentType": "CodeCell",
     "copiedOriginId": null,
     "diskcache": false,
     "headerColor": "transparent",
     "id": "93b6dd9a-8873-4187-933a-80adb1c1fab7",
     "isComponent": false,
     "name": "",
     "parents": []
    }
   },
   "outputs": [],
   "source": [
    "query = \"\"\"\n",
    "\n",
    "CREATE TABLE users(\n",
    "    \n",
    "    uid INTEGER,\n",
    "    username VARCHAR(255),\n",
    "    name VARCHAR(255) NOT NULL\n",
    ")\n",
    "    \n",
    "\"\"\"\n",
    "cursor.execute(query)\n",
    "\n",
    "# changes to apply commit\n",
    "\n",
    "db.commit()"
   ]
  },
  {
   "cell_type": "markdown",
   "id": "c77c5afc-57eb-466f-bb03-0e259c9b85cf",
   "metadata": {
    "canvas": {
     "comments": [],
     "componentType": "CodeCell",
     "copiedOriginId": null,
     "diskcache": false,
     "headerColor": "transparent",
     "id": "7df6485b-9e78-4dbc-9fce-ff200b4087d7",
     "isComponent": false,
     "name": "",
     "parents": []
    }
   },
   "source": [
    "<br>\n",
    "\n",
    "### SHOW TABLES\n",
    "\n",
    "- ## cursor.fetchall() for show tables in python"
   ]
  },
  {
   "cell_type": "code",
   "execution_count": 185,
   "id": "1a75f550-c076-4985-8aee-43d88b83cc19",
   "metadata": {
    "canvas": {
     "comments": [],
     "componentType": "CodeCell",
     "copiedOriginId": null,
     "diskcache": false,
     "headerColor": "transparent",
     "id": "819d8f76-d8d0-4cb2-8846-fe0c94e63b9b",
     "isComponent": false,
     "name": "",
     "parents": []
    }
   },
   "outputs": [
    {
     "name": "stdout",
     "output_type": "stream",
     "text": [
      "[('users',)]\n"
     ]
    }
   ],
   "source": [
    "query = \"\"\"\n",
    "    SHOW TABLES\n",
    "\"\"\"\n",
    "cursor.execute(query)\n",
    "\n",
    "print(cursor.fetchall())"
   ]
  },
  {
   "cell_type": "markdown",
   "id": "cd22618c-3eea-476e-aa2a-39c148a2e93b",
   "metadata": {
    "canvas": {
     "comments": [],
     "componentType": "CodeCell",
     "copiedOriginId": null,
     "diskcache": false,
     "headerColor": "transparent",
     "id": "63374ccf-ae26-452f-a01a-eb71427a7169",
     "isComponent": false,
     "name": "",
     "parents": []
    }
   },
   "source": [
    "<br>\n",
    "\n",
    "### SHOW COLUMNS FROM"
   ]
  },
  {
   "cell_type": "code",
   "execution_count": 186,
   "id": "0f45b79e-d1aa-4878-9e18-5abc7fa2300f",
   "metadata": {
    "canvas": {
     "comments": [],
     "componentType": "CodeCell",
     "copiedOriginId": null,
     "diskcache": false,
     "headerColor": "transparent",
     "id": "840fcd3f-0405-4b60-b3ae-26d92d3192b8",
     "isComponent": false,
     "name": "",
     "parents": []
    }
   },
   "outputs": [
    {
     "data": {
      "text/plain": [
       "[('uid', 'int(11)', 'YES', '', None, ''),\n",
       " ('username', 'varchar(255)', 'YES', '', None, ''),\n",
       " ('name', 'varchar(255)', 'NO', '', None, '')]"
      ]
     },
     "execution_count": 186,
     "metadata": {},
     "output_type": "execute_result"
    }
   ],
   "source": [
    "query = \"\"\"\n",
    "    SHOW COLUMNS FROM users\n",
    "\"\"\"\n",
    "cursor.execute(query)\n",
    "\n",
    "columns = cursor.fetchall()\n",
    "\n",
    "columns"
   ]
  },
  {
   "cell_type": "markdown",
   "id": "fe44b2a1-408a-48ab-97ac-d9a29897dbd6",
   "metadata": {
    "canvas": {
     "comments": [],
     "componentType": "CodeCell",
     "copiedOriginId": null,
     "diskcache": false,
     "headerColor": "transparent",
     "id": "b594f60c-59c3-4356-ae01-e353416bbfea",
     "isComponent": false,
     "name": "",
     "parents": []
    }
   },
   "source": [
    "<br>\n",
    "\n",
    "### name and Type columns"
   ]
  },
  {
   "cell_type": "code",
   "execution_count": 187,
   "id": "0865bde2-8675-4c89-a1be-797c10adeaa1",
   "metadata": {
    "canvas": {
     "comments": [],
     "componentType": "CodeCell",
     "copiedOriginId": null,
     "diskcache": false,
     "headerColor": "transparent",
     "id": "9aa6b7aa-a0d6-4940-aba5-75803beebe32",
     "isComponent": false,
     "name": "",
     "parents": []
    }
   },
   "outputs": [
    {
     "name": "stdout",
     "output_type": "stream",
     "text": [
      "Name: uid, Type: int(11)\n",
      "Name: username, Type: varchar(255)\n",
      "Name: name, Type: varchar(255)\n"
     ]
    }
   ],
   "source": [
    "for col in columns:\n",
    "    print(f\"Name: {col[0]}, Type: {col[1]}\")"
   ]
  },
  {
   "cell_type": "markdown",
   "id": "a446757b-9277-47cb-a23a-cd01295c6eed",
   "metadata": {
    "canvas": {
     "comments": [],
     "componentType": "CodeCell",
     "copiedOriginId": null,
     "diskcache": false,
     "headerColor": "transparent",
     "id": "073a286f-82c8-4324-bb45-0c2c64164c88",
     "isComponent": false,
     "name": "",
     "parents": []
    }
   },
   "source": [
    "<br>\n",
    "\n",
    "### INSERT INTO mydb.users (uid,username,name)\n",
    "- #### VALUES (1,'mubeenahmad123','Mubeen')"
   ]
  },
  {
   "cell_type": "code",
   "execution_count": 188,
   "id": "837bdbff-eff4-49bc-9667-3f451605b804",
   "metadata": {
    "canvas": {
     "comments": [],
     "componentType": "CodeCell",
     "copiedOriginId": null,
     "diskcache": false,
     "headerColor": "transparent",
     "id": "06e125f9-e533-4516-b879-d99721cd9eab",
     "isComponent": false,
     "name": "",
     "parents": []
    }
   },
   "outputs": [],
   "source": [
    "query = \"\"\"\n",
    "    INSERT INTO mydb.users (uid,username,name)\n",
    "    VALUES (1,'mubeenahmad1223','Mubeen')\n",
    "\"\"\"\n",
    "cursor.execute(query)\n",
    "\n",
    "db.commit()"
   ]
  },
  {
   "cell_type": "markdown",
   "id": "8d77d179-d67d-49d8-8714-bcc799d8e6d5",
   "metadata": {
    "canvas": {
     "comments": [],
     "componentType": "CodeCell",
     "copiedOriginId": null,
     "diskcache": false,
     "headerColor": "transparent",
     "id": "ee6d92ef-dc83-42d6-b5ee-589610d60c13",
     "isComponent": false,
     "name": "",
     "parents": []
    }
   },
   "source": [
    "<br>\n",
    "\n",
    "### SELECT \\* FROM tablename"
   ]
  },
  {
   "cell_type": "code",
   "execution_count": 189,
   "id": "48b39ffb-8372-40e1-b484-e92a3aae4e0f",
   "metadata": {
    "canvas": {
     "comments": [],
     "componentType": "CodeCell",
     "copiedOriginId": null,
     "diskcache": false,
     "headerColor": "transparent",
     "id": "772f0366-fa82-40df-9cc4-a5c7c4609e03",
     "isComponent": false,
     "name": "",
     "parents": []
    }
   },
   "outputs": [
    {
     "name": "stdout",
     "output_type": "stream",
     "text": [
      "[(1, 'mubeenahmad1223', 'Mubeen')]\n"
     ]
    }
   ],
   "source": [
    "query = \"\"\"\n",
    "    SELECT * FROM users\n",
    "\"\"\"\n",
    "cursor.execute(query)\n",
    "\n",
    "print(cursor.fetchall())"
   ]
  },
  {
   "cell_type": "markdown",
   "id": "470d12f4-e205-47cf-b075-628ffb8f3729",
   "metadata": {
    "canvas": {
     "comments": [],
     "componentType": "CodeCell",
     "copiedOriginId": null,
     "diskcache": false,
     "headerColor": "transparent",
     "id": "9d7cafb4-5be2-41fa-80bc-e5b31a50516d",
     "isComponent": false,
     "name": "",
     "parents": []
    }
   },
   "source": [
    "<br>\n",
    "\n",
    "## TRUNCATE TABLE tablename"
   ]
  },
  {
   "cell_type": "code",
   "execution_count": 190,
   "id": "4cc9d42f-5e58-4e3a-a4e5-d3c55e61d144",
   "metadata": {
    "canvas": {
     "comments": [],
     "componentType": "CodeCell",
     "copiedOriginId": null,
     "diskcache": false,
     "headerColor": "transparent",
     "id": "3c189c35-94a3-4d6f-8832-6247852aa694",
     "isComponent": false,
     "name": "",
     "parents": []
    }
   },
   "outputs": [],
   "source": [
    "query = \"\"\"\n",
    "    TRUNCATE TABLE users\n",
    "\"\"\"\n",
    "cursor.execute(query)\n",
    "\n",
    "db.commit()"
   ]
  },
  {
   "cell_type": "markdown",
   "id": "52e4e9ae-b57f-4a8a-be34-8d49d76b17c4",
   "metadata": {
    "canvas": {
     "comments": [],
     "componentType": "CodeCell",
     "copiedOriginId": null,
     "diskcache": false,
     "headerColor": "transparent",
     "id": "c47e0e23-8cc7-4f33-a463-045dd5c589a7",
     "isComponent": false,
     "name": "",
     "parents": []
    }
   },
   "source": [
    "## now check again Tables"
   ]
  },
  {
   "cell_type": "code",
   "execution_count": 191,
   "id": "c2dd6336-c1fa-4e02-a775-73656a3c34ce",
   "metadata": {
    "canvas": {
     "comments": [],
     "componentType": "CodeCell",
     "copiedOriginId": null,
     "diskcache": false,
     "headerColor": "transparent",
     "id": "a54cb095-3b16-4f0e-b99e-608823c73e08",
     "isComponent": false,
     "name": "",
     "parents": []
    }
   },
   "outputs": [
    {
     "name": "stdout",
     "output_type": "stream",
     "text": [
      "[]\n"
     ]
    }
   ],
   "source": [
    "query = \"\"\"\n",
    "    SELECT * FROM users\n",
    "\"\"\"\n",
    "cursor.execute(query)\n",
    "\n",
    "print(cursor.fetchall()) # Truncate Remove all COLUMNS VALUES"
   ]
  },
  {
   "cell_type": "markdown",
   "id": "bfacf2a0-394a-406a-84d9-34eed93cb7bb",
   "metadata": {
    "canvas": {
     "comments": [],
     "componentType": "CodeCell",
     "copiedOriginId": null,
     "diskcache": false,
     "headerColor": "transparent",
     "id": "7437b803-754b-4557-af39-775191d20938",
     "isComponent": false,
     "name": "",
     "parents": []
    }
   },
   "source": [
    "# METHOD 2 for INSERT VALUES"
   ]
  },
  {
   "cell_type": "code",
   "execution_count": 192,
   "id": "fd8b5032-fa28-4b5d-87f3-d321ce307bd9",
   "metadata": {
    "canvas": {
     "comments": [],
     "componentType": "CodeCell",
     "copiedOriginId": null,
     "diskcache": false,
     "headerColor": "transparent",
     "id": "6229d2e0-a9e7-4f7f-8490-c388c5c98860",
     "isComponent": false,
     "name": "",
     "parents": []
    }
   },
   "outputs": [],
   "source": [
    "# here we are not define columns names (uid,username,name)\n",
    "\n",
    "query = \"\"\"\n",
    "    INSERT INTO mydb.users \n",
    "    VALUES (1,'mubeenahmad1223','Mubeen')\n",
    "\"\"\"\n",
    "cursor.execute(query)\n",
    "\n",
    "db.commit()"
   ]
  },
  {
   "cell_type": "markdown",
   "id": "bdba4c01-a682-4643-8ae2-58f15cb4e8bc",
   "metadata": {
    "canvas": {
     "comments": [],
     "componentType": "CodeCell",
     "copiedOriginId": null,
     "diskcache": false,
     "headerColor": "transparent",
     "id": "49902236-68b5-4a85-8616-56fd7f7395f0",
     "isComponent": false,
     "name": "",
     "parents": []
    }
   },
   "source": [
    "#### check again values"
   ]
  },
  {
   "cell_type": "code",
   "execution_count": 193,
   "id": "836bb91a-35db-4f4b-b574-ae4af273025e",
   "metadata": {
    "canvas": {
     "comments": [],
     "componentType": "CodeCell",
     "copiedOriginId": null,
     "diskcache": false,
     "headerColor": "transparent",
     "id": "b6968f6f-b700-41fc-afa6-9ab16d19521d",
     "isComponent": false,
     "name": "",
     "parents": []
    }
   },
   "outputs": [
    {
     "name": "stdout",
     "output_type": "stream",
     "text": [
      "[(1, 'mubeenahmad1223', 'Mubeen')]\n"
     ]
    }
   ],
   "source": [
    "\n",
    "query = \"\"\"\n",
    "    SELECT * FROM users\n",
    "\"\"\"\n",
    "cursor.execute(query)\n",
    "\n",
    "print(cursor.fetchall())"
   ]
  },
  {
   "cell_type": "markdown",
   "id": "0e12baaa-fb20-4d50-9140-03a5c3eb3c1f",
   "metadata": {
    "canvas": {
     "comments": [],
     "componentType": "CodeCell",
     "copiedOriginId": null,
     "diskcache": false,
     "headerColor": "transparent",
     "id": "3dd8c71a-63e5-4a06-b0ac-efb8087cfd87",
     "isComponent": false,
     "name": "",
     "parents": []
    }
   },
   "source": [
    "<br><br>\n",
    "\n",
    "# DROP Table"
   ]
  },
  {
   "cell_type": "code",
   "execution_count": 194,
   "id": "6ba8e07b-39f8-4f5b-ab01-b127bef0f24f",
   "metadata": {
    "canvas": {
     "comments": [],
     "componentType": "CodeCell",
     "copiedOriginId": null,
     "diskcache": false,
     "headerColor": "transparent",
     "id": "7a4ac19f-9bdd-4c31-a252-2dc535591c78",
     "isComponent": false,
     "name": "",
     "parents": []
    }
   },
   "outputs": [],
   "source": [
    "# DROP command delete tha table\n",
    "\n",
    "query = \"\"\"\n",
    "    DROP TABLE users\n",
    "\"\"\"\n",
    "cursor.execute(query)\n",
    "db.commit()"
   ]
  },
  {
   "cell_type": "code",
   "execution_count": 195,
   "id": "c56cfe1e-d951-41c4-9ace-77cb4fec1304",
   "metadata": {
    "canvas": {
     "comments": [],
     "componentType": "CodeCell",
     "copiedOriginId": null,
     "diskcache": false,
     "headerColor": "transparent",
     "id": "a2fbe258-4ee4-4262-bf7b-a26dcfeec29e",
     "isComponent": false,
     "name": "",
     "parents": []
    }
   },
   "outputs": [
    {
     "name": "stdout",
     "output_type": "stream",
     "text": [
      "[]\n"
     ]
    }
   ],
   "source": [
    "## now check tables\n",
    "\n",
    "\n",
    "query = \"\"\"\n",
    "    SHOW TABLES\n",
    "\"\"\"\n",
    "cursor.execute(query)\n",
    "\n",
    "print(cursor.fetchall())"
   ]
  },
  {
   "cell_type": "markdown",
   "id": "b373dac4-1f24-45c5-8125-727da89b1479",
   "metadata": {
    "canvas": {
     "comments": [],
     "componentType": "CodeCell",
     "copiedOriginId": null,
     "diskcache": false,
     "headerColor": "transparent",
     "id": "365d037d-80bf-4a49-88ce-54d0529a12af",
     "isComponent": false,
     "name": "",
     "parents": []
    }
   },
   "source": [
    "## DROP Delete the table while TRUNCATE Remove all the values of table"
   ]
  },
  {
   "cell_type": "markdown",
   "id": "56be9ae0-ee0c-4268-bda8-7ea3ed7830f6",
   "metadata": {
    "canvas": {
     "comments": [],
     "componentType": "CodeCell",
     "copiedOriginId": null,
     "diskcache": false,
     "headerColor": "transparent",
     "id": "87dab9f2-edb1-407f-a048-a0820784294c",
     "isComponent": false,
     "name": "",
     "parents": []
    }
   },
   "source": [
    "- ## We also use DROP for Delete the DataBase"
   ]
  },
  {
   "cell_type": "code",
   "execution_count": 196,
   "id": "3357dd3d-6cbe-4373-90f1-d579f776e6ef",
   "metadata": {
    "canvas": {
     "comments": [],
     "componentType": "CodeCell",
     "copiedOriginId": null,
     "diskcache": false,
     "headerColor": "transparent",
     "id": "f3f1b01b-0074-4464-9fe4-132df2550dc4",
     "isComponent": false,
     "name": "",
     "parents": []
    }
   },
   "outputs": [
    {
     "name": "stdout",
     "output_type": "stream",
     "text": [
      "('campusx',)\n",
      "('information_schema',)\n",
      "('mydatabase',)\n",
      "('mydb',)\n",
      "('mysql',)\n",
      "('performance_schema',)\n",
      "('phpmyadmin',)\n",
      "('test',)\n",
      "('testing',)\n",
      "('wasa',)\n"
     ]
    }
   ],
   "source": [
    "## list of all db\n",
    "\n",
    "query = \"\"\"\n",
    "    SHOW DATABASES\n",
    "\"\"\"\n",
    "cursor.execute(query)\n",
    "\n",
    "for i in cursor:\n",
    "    print(i)"
   ]
  },
  {
   "cell_type": "code",
   "execution_count": 197,
   "id": "7c2b82f0-54a6-467b-abc5-b513296f8ba9",
   "metadata": {
    "canvas": {
     "comments": [],
     "componentType": "CodeCell",
     "copiedOriginId": null,
     "diskcache": false,
     "headerColor": "transparent",
     "id": "5bf1d9b0-734f-40f4-9d19-edb3e7645abf",
     "isComponent": false,
     "name": "",
     "parents": []
    }
   },
   "outputs": [],
   "source": [
    "## now i remove database mydb\n",
    "\n",
    "query = \"\"\"\n",
    "    DROP DATABASE mydb\n",
    "\"\"\"\n",
    "cursor.execute(query)\n",
    "db.commit()"
   ]
  },
  {
   "cell_type": "code",
   "execution_count": 198,
   "id": "c83d319e-eebe-4b4f-a3b5-0d738af2b4d2",
   "metadata": {
    "canvas": {
     "comments": [],
     "componentType": "CodeCell",
     "copiedOriginId": null,
     "diskcache": false,
     "headerColor": "transparent",
     "id": "6bb0dacf-0aba-472b-a9bc-5b7d9b603f1d",
     "isComponent": false,
     "name": "",
     "parents": []
    }
   },
   "outputs": [
    {
     "name": "stdout",
     "output_type": "stream",
     "text": [
      "('campusx',)\n",
      "('information_schema',)\n",
      "('mydatabase',)\n",
      "('mysql',)\n",
      "('performance_schema',)\n",
      "('phpmyadmin',)\n",
      "('test',)\n",
      "('testing',)\n",
      "('wasa',)\n"
     ]
    }
   ],
   "source": [
    "# now list all the data base\n",
    "\n",
    "query = \"\"\"\n",
    "    SHOW DATABASES\n",
    "\"\"\"\n",
    "cursor.execute(query)\n",
    "\n",
    "for i in cursor:\n",
    "    print(i)"
   ]
  }
 ],
 "metadata": {
  "canvas": {
   "colorPalette": [
    "inherit",
    "inherit",
    "inherit",
    "inherit",
    "inherit",
    "inherit",
    "inherit",
    "inherit",
    "inherit",
    "inherit"
   ],
   "parameters": [],
   "version": "1.0"
  },
  "kernelspec": {
   "display_name": "Python 3 (ipykernel)",
   "language": "python",
   "name": "python3"
  },
  "language_info": {
   "codemirror_mode": {
    "name": "ipython",
    "version": 3
   },
   "file_extension": ".py",
   "mimetype": "text/x-python",
   "name": "python",
   "nbconvert_exporter": "python",
   "pygments_lexer": "ipython3",
   "version": "3.10.12"
  }
 },
 "nbformat": 4,
 "nbformat_minor": 5
}

{
 "cells": [
  {
   "cell_type": "code",
   "execution_count": null,
   "id": "51e52fa6",
   "metadata": {},
   "outputs": [],
   "source": [
    "# The async EcoSystem\n",
    "# The Main Loop\n",
    "# Coroutines\n",
    "# Coroutines Under Hood\n",
    "# Batteries Included\n",
    "# Web project\n",
    "# Blocking\n",
    "# Error Handling"
   ]
  },
  {
   "cell_type": "code",
   "execution_count": 1,
   "id": "d84913f6",
   "metadata": {},
   "outputs": [],
   "source": [
    "import asyncio"
   ]
  }
 ],
 "metadata": {
  "kernelspec": {
   "display_name": "Python 3 (ipykernel)",
   "language": "python",
   "name": "python3"
  },
  "language_info": {
   "codemirror_mode": {
    "name": "ipython",
    "version": 3
   },
   "file_extension": ".py",
   "mimetype": "text/x-python",
   "name": "python",
   "nbconvert_exporter": "python",
   "pygments_lexer": "ipython3",
   "version": "3.10.6"
  }
 },
 "nbformat": 4,
 "nbformat_minor": 5
}

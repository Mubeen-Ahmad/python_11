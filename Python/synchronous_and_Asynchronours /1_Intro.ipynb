{
 "cells": [
  {
   "cell_type": "markdown",
   "id": "b28810d2",
   "metadata": {},
   "source": [
    "<h2 style=\"text-align:center;\">\n",
    "In synchronous programming, the program's execution occurs line by line, and after one line of code finishes executing, the next line begins. <br><br>This approach is simple and straightforward, but because it waits for I/O operations, it can negatively impact the program's performance.</h2>"
   ]
  },
  {
   "cell_type": "markdown",
   "id": "a62dc2b2",
   "metadata": {},
   "source": [
    "# Example"
   ]
  },
  {
   "cell_type": "code",
   "execution_count": 7,
   "id": "c654963c",
   "metadata": {},
   "outputs": [],
   "source": [
    "import time\n",
    "import datetime"
   ]
  },
  {
   "cell_type": "code",
   "execution_count": 8,
   "id": "27e5a3b3",
   "metadata": {},
   "outputs": [],
   "source": [
    "def func1():\n",
    "    print(\"Function 1 are Running ...\")\n",
    "    time.sleep(2)\n",
    "    \n",
    "def func2():\n",
    "    print(\"Function 2 are Running ...\")\n",
    "    time.sleep(2)\n",
    "    \n",
    "def func3():\n",
    "    print(\"Function 3 are Running ...\")\n",
    "    time.sleep(2)\n",
    "    "
   ]
  },
  {
   "cell_type": "markdown",
   "id": "9b9b2b02",
   "metadata": {},
   "source": [
    "## call the function"
   ]
  },
  {
   "cell_type": "code",
   "execution_count": 39,
   "id": "c7a29441",
   "metadata": {},
   "outputs": [
    {
     "name": "stdout",
     "output_type": "stream",
     "text": [
      "Function 1 are Running ...\n",
      "Function 2 are Running ...\n",
      "Function 3 are Running ...\n"
     ]
    }
   ],
   "source": [
    "func1()\n",
    "func2()\n",
    "func3()"
   ]
  },
  {
   "cell_type": "markdown",
   "id": "b2290cca",
   "metadata": {},
   "source": [
    "## in this example all Function are not executed at the same time they are running one by one"
   ]
  },
  {
   "cell_type": "markdown",
   "id": "cf0b11ab",
   "metadata": {},
   "source": [
    "<h2 style=\"text-align:center;\"> In asynchronous programming, we don't wait for the execution of one line of code before moving on to the next one. Instead, the program can execute multiple tasks in parallel. As a result, we don't have to wait for I/O operations, and the program's performance can be improved. To perform asynchronous programming in Python, we use the asyncio module.<br><br>In asyncio, we use coroutines, which are a type of function that can be suspended and resumed multiple times. When one coroutine is suspended, another coroutine can be executed. This way, the program can execute multiple tasks simultaneously without having to wait for I/O operations.\n",
    "<br><br>\n",
    "This approach allows us to solve complex tasks in a simple manner.</h2>"
   ]
  },
  {
   "cell_type": "markdown",
   "id": "da4fa226",
   "metadata": {},
   "source": [
    "<h2 style=\"text-align:left;\"> The main components of asyncio are:<br><br><br>\n",
    "Event loop: <br><br>&nbsp;&nbsp;&nbsp;&nbsp;&nbsp;&nbsp;&nbsp;&nbsp;This is the core component of asyncio that schedules and executes coroutines and callbacks in a <br>non-blocking manner.\n",
    "<br><br><br>\n",
    "Coroutines: <br><br>&nbsp;&nbsp;&nbsp;&nbsp;&nbsp;&nbsp;&nbsp;&nbsp;These are functions that can be suspended and resumed at certain points, allowing other coroutines to execute in the meantime. Coroutines are defined using the async def syntax.\n",
    "<br><br><br>\n",
    "Futures: <br><br>&nbsp;&nbsp;&nbsp;&nbsp;&nbsp;&nbsp;&nbsp;&nbsp;These are objects that represent a value that may not yet be available, but will be available in the future. Futures are used to manage the result of an asynchronous operation.\n",
    "<br><br><br>\n",
    "Tasks: <br>&nbsp;&nbsp;&nbsp;&nbsp;&nbsp;&nbsp;&nbsp;&nbsp;These are objects that wrap a coroutine and schedule it for execution in the event loop.\n",
    "</h2>"
   ]
  },
  {
   "cell_type": "code",
   "execution_count": 14,
   "id": "f609e043",
   "metadata": {},
   "outputs": [],
   "source": [
    "import asyncio"
   ]
  },
  {
   "cell_type": "code",
   "execution_count": 34,
   "id": "90454f9d",
   "metadata": {},
   "outputs": [],
   "source": [
    "# coroutines\n",
    "\n",
    "async def coroutine1():\n",
    "    print(\"Function 1 are running ...\")\n",
    "    await asyncio.sleep(2) # Future\n",
    "    \n",
    "\n",
    "async def coroutine2():\n",
    "    print(\"Function 2 are running ...\")\n",
    "    await asyncio.sleep(2) # Future\n",
    "\n",
    "\n",
    "    \n",
    "async def coroutine3():\n",
    "    print(\"Function 3 are running ...\")\n",
    "    await asyncio.sleep(2) # Future\n",
    "    \n",
    "    \n",
    "    # we need a main function for task\n",
    "\n",
    "async def main():\n",
    "    task1 = asyncio.create_task(coroutine1()) # TASK\n",
    "    task2 = asyncio.create_task(coroutine2()) # TASK\n",
    "    task3 = asyncio.create_task(coroutine3()) # TASK\n",
    "    \n",
    "    await task1\n",
    "    await task2\n",
    "    await task3\n",
    "    \n"
   ]
  },
  {
   "cell_type": "code",
   "execution_count": 35,
   "id": "55422e10",
   "metadata": {},
   "outputs": [
    {
     "ename": "RuntimeError",
     "evalue": "asyncio.run() cannot be called from a running event loop",
     "output_type": "error",
     "traceback": [
      "\u001b[0;31m---------------------------------------------------------------------------\u001b[0m",
      "\u001b[0;31mRuntimeError\u001b[0m                              Traceback (most recent call last)",
      "Cell \u001b[0;32mIn [35], line 2\u001b[0m\n\u001b[1;32m      1\u001b[0m \u001b[38;5;66;03m# Event loop\u001b[39;00m\n\u001b[0;32m----> 2\u001b[0m \u001b[43masyncio\u001b[49m\u001b[38;5;241;43m.\u001b[39;49m\u001b[43mrun\u001b[49m\u001b[43m(\u001b[49m\u001b[43mmain\u001b[49m\u001b[43m(\u001b[49m\u001b[43m)\u001b[49m\u001b[43m)\u001b[49m\n",
      "File \u001b[0;32m/usr/lib/python3.10/asyncio/runners.py:33\u001b[0m, in \u001b[0;36mrun\u001b[0;34m(main, debug)\u001b[0m\n\u001b[1;32m      9\u001b[0m \u001b[38;5;124;03m\"\"\"Execute the coroutine and return the result.\u001b[39;00m\n\u001b[1;32m     10\u001b[0m \n\u001b[1;32m     11\u001b[0m \u001b[38;5;124;03mThis function runs the passed coroutine, taking care of\u001b[39;00m\n\u001b[0;32m   (...)\u001b[0m\n\u001b[1;32m     30\u001b[0m \u001b[38;5;124;03m    asyncio.run(main())\u001b[39;00m\n\u001b[1;32m     31\u001b[0m \u001b[38;5;124;03m\"\"\"\u001b[39;00m\n\u001b[1;32m     32\u001b[0m \u001b[38;5;28;01mif\u001b[39;00m events\u001b[38;5;241m.\u001b[39m_get_running_loop() \u001b[38;5;129;01mis\u001b[39;00m \u001b[38;5;129;01mnot\u001b[39;00m \u001b[38;5;28;01mNone\u001b[39;00m:\n\u001b[0;32m---> 33\u001b[0m     \u001b[38;5;28;01mraise\u001b[39;00m \u001b[38;5;167;01mRuntimeError\u001b[39;00m(\n\u001b[1;32m     34\u001b[0m         \u001b[38;5;124m\"\u001b[39m\u001b[38;5;124masyncio.run() cannot be called from a running event loop\u001b[39m\u001b[38;5;124m\"\u001b[39m)\n\u001b[1;32m     36\u001b[0m \u001b[38;5;28;01mif\u001b[39;00m \u001b[38;5;129;01mnot\u001b[39;00m coroutines\u001b[38;5;241m.\u001b[39miscoroutine(main):\n\u001b[1;32m     37\u001b[0m     \u001b[38;5;28;01mraise\u001b[39;00m \u001b[38;5;167;01mValueError\u001b[39;00m(\u001b[38;5;124m\"\u001b[39m\u001b[38;5;124ma coroutine was expected, got \u001b[39m\u001b[38;5;132;01m{!r}\u001b[39;00m\u001b[38;5;124m\"\u001b[39m\u001b[38;5;241m.\u001b[39mformat(main))\n",
      "\u001b[0;31mRuntimeError\u001b[0m: asyncio.run() cannot be called from a running event loop"
     ]
    }
   ],
   "source": [
    "# Event loop\n",
    "asyncio.run(main())"
   ]
  },
  {
   "cell_type": "markdown",
   "id": "d64234f3",
   "metadata": {},
   "source": [
    "## In Jupyter lab asyncio are not Working \n",
    "<br><br>\n",
    "\n",
    "## But  we can import and activate the nest_asyncio module in your notebook.\n",
    "<br><br>\n",
    "\n",
    "## This will allow you to run asyncio.run() from within a running event loop in your notebook."
   ]
  },
  {
   "cell_type": "code",
   "execution_count": 36,
   "id": "c003596d",
   "metadata": {},
   "outputs": [],
   "source": [
    "import nest_asyncio"
   ]
  },
  {
   "cell_type": "code",
   "execution_count": 37,
   "id": "d32d4121",
   "metadata": {},
   "outputs": [],
   "source": [
    "nest_asyncio.apply()"
   ]
  },
  {
   "cell_type": "markdown",
   "id": "921f32ef",
   "metadata": {},
   "source": [
    "# Now use asyncio.run()"
   ]
  },
  {
   "cell_type": "code",
   "execution_count": 38,
   "id": "69ec17e0",
   "metadata": {},
   "outputs": [
    {
     "name": "stdout",
     "output_type": "stream",
     "text": [
      "Function 1 are running ...\n",
      "Function 2 are running ...\n",
      "Function 3 are running ...\n"
     ]
    }
   ],
   "source": [
    "asyncio.run(main())"
   ]
  }
 ],
 "metadata": {
  "kernelspec": {
   "display_name": "Python 3 (ipykernel)",
   "language": "python",
   "name": "python3"
  },
  "language_info": {
   "codemirror_mode": {
    "name": "ipython",
    "version": 3
   },
   "file_extension": ".py",
   "mimetype": "text/x-python",
   "name": "python",
   "nbconvert_exporter": "python",
   "pygments_lexer": "ipython3",
   "version": "3.10.6"
  }
 },
 "nbformat": 4,
 "nbformat_minor": 5
}

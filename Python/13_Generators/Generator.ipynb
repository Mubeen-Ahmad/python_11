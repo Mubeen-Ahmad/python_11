{
 "cells": [
  {
   "cell_type": "markdown",
   "id": "978d470f",
   "metadata": {},
   "source": [
    "# Generators\n",
    "\n",
    "<h3 style=\"color:#4e2abd;\">A generator is defined like a normal function, but whenever it needs to generate a value, it does so with the yield keyword rather than return. <br><br>If the body of a def contains yield, the function automatically becomes a generator function. </h3>"
   ]
  },
  {
   "cell_type": "markdown",
   "id": "188519db",
   "metadata": {},
   "source": [
    "## Background working of Generator"
   ]
  },
  {
   "cell_type": "markdown",
   "id": "cedbe388",
   "metadata": {},
   "source": [
    "<h3 style=\"color:#4e2abd;\">Generators are iterators like we are used iter() function for making the iterator. and next() are used for next iteration</h3>"
   ]
  },
  {
   "cell_type": "code",
   "execution_count": 102,
   "id": "90d845f8",
   "metadata": {},
   "outputs": [
    {
     "name": "stdout",
     "output_type": "stream",
     "text": [
      "<generator object func at 0x7f8a061d9540>\n"
     ]
    }
   ],
   "source": [
    "def func():\n",
    "    \n",
    "    print(1)\n",
    "    yield \"yield 1\"\n",
    "    \n",
    "    print(2)\n",
    "    yield \"yield 2\"\n",
    "    \n",
    "    print(3)\n",
    "    yield \"yield 3\"\n",
    "    \n",
    "    print(\"---> Complete <---\")\n",
    "\n",
    "\n",
    "g = func()\n",
    "print(g)"
   ]
  },
  {
   "cell_type": "markdown",
   "id": "e9026103",
   "metadata": {},
   "source": [
    "## call next "
   ]
  },
  {
   "cell_type": "code",
   "execution_count": 6,
   "id": "8ec253de",
   "metadata": {},
   "outputs": [
    {
     "name": "stdout",
     "output_type": "stream",
     "text": [
      "1\n",
      "yield 1\n"
     ]
    }
   ],
   "source": [
    "print(next(g))"
   ]
  },
  {
   "cell_type": "code",
   "execution_count": 7,
   "id": "200c703e",
   "metadata": {},
   "outputs": [
    {
     "name": "stdout",
     "output_type": "stream",
     "text": [
      "2\n",
      "yield 2\n"
     ]
    }
   ],
   "source": [
    "print(next(g))"
   ]
  },
  {
   "cell_type": "code",
   "execution_count": 8,
   "id": "93f941a9",
   "metadata": {},
   "outputs": [
    {
     "name": "stdout",
     "output_type": "stream",
     "text": [
      "3\n",
      "yield 3\n"
     ]
    }
   ],
   "source": [
    "print(next(g))"
   ]
  },
  {
   "cell_type": "code",
   "execution_count": 9,
   "id": "54db8ec9",
   "metadata": {},
   "outputs": [
    {
     "name": "stdout",
     "output_type": "stream",
     "text": [
      "---> Complete <---\n"
     ]
    },
    {
     "ename": "StopIteration",
     "evalue": "",
     "output_type": "error",
     "traceback": [
      "\u001b[0;31m---------------------------------------------------------------------------\u001b[0m",
      "\u001b[0;31mStopIteration\u001b[0m                             Traceback (most recent call last)",
      "Cell \u001b[0;32mIn [9], line 1\u001b[0m\n\u001b[0;32m----> 1\u001b[0m \u001b[38;5;28mprint\u001b[39m(\u001b[38;5;28;43mnext\u001b[39;49m\u001b[43m(\u001b[49m\u001b[43mg\u001b[49m\u001b[43m)\u001b[49m)\n",
      "\u001b[0;31mStopIteration\u001b[0m: "
     ]
    }
   ],
   "source": [
    "# iteration are completed now generator raise the error\n",
    "\n",
    "print(next(g))"
   ]
  },
  {
   "cell_type": "markdown",
   "id": "9dd18859",
   "metadata": {},
   "source": [
    "# we also used for loop instead of next function"
   ]
  },
  {
   "cell_type": "code",
   "execution_count": 11,
   "id": "1da59fa4",
   "metadata": {},
   "outputs": [
    {
     "name": "stdout",
     "output_type": "stream",
     "text": [
      "<generator object func at 0x7f8a068b8890>\n"
     ]
    }
   ],
   "source": [
    "g = func()\n",
    "print(g)"
   ]
  },
  {
   "cell_type": "code",
   "execution_count": 12,
   "id": "bce8b758",
   "metadata": {},
   "outputs": [
    {
     "name": "stdout",
     "output_type": "stream",
     "text": [
      "1\n",
      "yield 1\n",
      "2\n",
      "yield 2\n",
      "3\n",
      "yield 3\n",
      "---> Complete <---\n"
     ]
    }
   ],
   "source": [
    "for i in g:\n",
    "    print(i)"
   ]
  },
  {
   "cell_type": "markdown",
   "id": "dc511acf",
   "metadata": {},
   "source": [
    "# Example 2\n",
    "## access yields with unpacking"
   ]
  },
  {
   "cell_type": "code",
   "execution_count": 43,
   "id": "a9029cf1",
   "metadata": {},
   "outputs": [],
   "source": [
    "def func():\n",
    "    yield \"line 1\"\n",
    "    yield \"line 2\""
   ]
  },
  {
   "cell_type": "code",
   "execution_count": 44,
   "id": "73f7ea47",
   "metadata": {},
   "outputs": [
    {
     "data": {
      "text/plain": [
       "<generator object func at 0x7f8a068b86d0>"
      ]
     },
     "execution_count": 44,
     "metadata": {},
     "output_type": "execute_result"
    }
   ],
   "source": [
    "r = func()\n",
    "r\n",
    "# return generator"
   ]
  },
  {
   "cell_type": "markdown",
   "id": "d11e412a",
   "metadata": {},
   "source": [
    "## use unpacking for access yield line 1"
   ]
  },
  {
   "cell_type": "code",
   "execution_count": 45,
   "id": "8d20b612",
   "metadata": {},
   "outputs": [],
   "source": [
    "temp,_ = r"
   ]
  },
  {
   "cell_type": "code",
   "execution_count": 36,
   "id": "83b52221",
   "metadata": {},
   "outputs": [
    {
     "data": {
      "text/plain": [
       "'line 1'"
      ]
     },
     "execution_count": 36,
     "metadata": {},
     "output_type": "execute_result"
    }
   ],
   "source": [
    "temp"
   ]
  },
  {
   "cell_type": "code",
   "execution_count": 54,
   "id": "f242bb29",
   "metadata": {},
   "outputs": [
    {
     "data": {
      "text/plain": [
       "'line 2'"
      ]
     },
     "execution_count": 54,
     "metadata": {},
     "output_type": "execute_result"
    }
   ],
   "source": [
    "_"
   ]
  },
  {
   "cell_type": "markdown",
   "id": "c7b1822e",
   "metadata": {},
   "source": [
    "# Example 3\n",
    "\n",
    "## multi unpacking"
   ]
  },
  {
   "cell_type": "code",
   "execution_count": 55,
   "id": "0ae913fa",
   "metadata": {},
   "outputs": [],
   "source": [
    "def func():\n",
    "    yield \"line 1\"\n",
    "    yield \"line 2\"\n",
    "    yield \"line 3\"\n",
    "    yield \"line 4\""
   ]
  },
  {
   "cell_type": "code",
   "execution_count": 58,
   "id": "d5cb13db",
   "metadata": {},
   "outputs": [
    {
     "data": {
      "text/plain": [
       "<generator object func at 0x7f8a068b97e0>"
      ]
     },
     "execution_count": 58,
     "metadata": {},
     "output_type": "execute_result"
    }
   ],
   "source": [
    "r = func()\n",
    "r"
   ]
  },
  {
   "cell_type": "code",
   "execution_count": 59,
   "id": "d692a6ba",
   "metadata": {},
   "outputs": [],
   "source": [
    "temp ,*_ = r"
   ]
  },
  {
   "cell_type": "code",
   "execution_count": 60,
   "id": "5eb62ae9",
   "metadata": {},
   "outputs": [
    {
     "data": {
      "text/plain": [
       "'line 1'"
      ]
     },
     "execution_count": 60,
     "metadata": {},
     "output_type": "execute_result"
    }
   ],
   "source": [
    "temp"
   ]
  },
  {
   "cell_type": "code",
   "execution_count": 61,
   "id": "77370c5b",
   "metadata": {},
   "outputs": [
    {
     "data": {
      "text/plain": [
       "['line 2', 'line 3', 'line 4']"
      ]
     },
     "execution_count": 61,
     "metadata": {},
     "output_type": "execute_result"
    }
   ],
   "source": [
    "_"
   ]
  },
  {
   "cell_type": "markdown",
   "id": "b2fb2fce",
   "metadata": {},
   "source": [
    "# For Better Understand read iterator Topic <a href=\"https://github.com/Mubeen-Ahmad/python_11/blob/main/Python/11_Loops/iterators.ipynb\">click here</a>"
   ]
  },
  {
   "cell_type": "markdown",
   "id": "9d1ba6fa",
   "metadata": {},
   "source": [
    "## Create Generator"
   ]
  },
  {
   "cell_type": "code",
   "execution_count": 11,
   "id": "940a725b",
   "metadata": {},
   "outputs": [],
   "source": [
    "def iteration(n):\n",
    "    for i in n:\n",
    "        yield i"
   ]
  },
  {
   "cell_type": "code",
   "execution_count": 12,
   "id": "6fce1f5b",
   "metadata": {},
   "outputs": [],
   "source": [
    "l = [1,2,3]"
   ]
  },
  {
   "cell_type": "code",
   "execution_count": 21,
   "id": "48c13f9d",
   "metadata": {},
   "outputs": [
    {
     "name": "stdout",
     "output_type": "stream",
     "text": [
      "1\n",
      "2\n",
      "3\n"
     ]
    }
   ],
   "source": [
    "for i in iteration(l):\n",
    "    print(i)"
   ]
  },
  {
   "cell_type": "markdown",
   "id": "7bd7c6d7",
   "metadata": {},
   "source": [
    "# Example 2"
   ]
  },
  {
   "cell_type": "code",
   "execution_count": 22,
   "id": "1d2a881e",
   "metadata": {},
   "outputs": [],
   "source": [
    "def sample():\n",
    "    \n",
    "    yield 1\n",
    "    yield 2\n",
    "    yield 3"
   ]
  },
  {
   "cell_type": "code",
   "execution_count": 30,
   "id": "c4b83d78",
   "metadata": {},
   "outputs": [
    {
     "name": "stdout",
     "output_type": "stream",
     "text": [
      "<generator object sample at 0x7fe05c940f90>\n"
     ]
    }
   ],
   "source": [
    "print(sample())"
   ]
  },
  {
   "cell_type": "code",
   "execution_count": 42,
   "id": "8df6c6e9",
   "metadata": {},
   "outputs": [
    {
     "name": "stdout",
     "output_type": "stream",
     "text": [
      "1\n",
      "2\n",
      "3\n"
     ]
    }
   ],
   "source": [
    "gen = sample()\n",
    "\n",
    "\n",
    "for i in gen:\n",
    "    print(i)"
   ]
  },
  {
   "cell_type": "markdown",
   "id": "7c9d1e7d",
   "metadata": {},
   "source": [
    "# Note now gen variable remove values now if i again use loop than loop are not working"
   ]
  },
  {
   "cell_type": "code",
   "execution_count": 44,
   "id": "22dda248",
   "metadata": {},
   "outputs": [],
   "source": [
    "for i in gen:\n",
    "    print(i)"
   ]
  },
  {
   "cell_type": "markdown",
   "id": "da77201e",
   "metadata": {},
   "source": [
    "# But if use generator function with direct use in loop than function generate value and remove value at the last"
   ]
  },
  {
   "cell_type": "code",
   "execution_count": 47,
   "id": "b8fb307d",
   "metadata": {},
   "outputs": [
    {
     "name": "stdout",
     "output_type": "stream",
     "text": [
      "1\n",
      "2\n",
      "3\n",
      "values are removed\n"
     ]
    }
   ],
   "source": [
    "for i in sample():\n",
    "    print(i)\n",
    "else:\n",
    "    print(\"values are removed\")"
   ]
  },
  {
   "cell_type": "markdown",
   "id": "0c81e16a",
   "metadata": {},
   "source": [
    "### Now if i use again loop than function again generate value and removed again previous values"
   ]
  },
  {
   "cell_type": "code",
   "execution_count": 48,
   "id": "5735830c",
   "metadata": {},
   "outputs": [
    {
     "name": "stdout",
     "output_type": "stream",
     "text": [
      "1\n",
      "2\n",
      "3\n",
      "values are removed\n"
     ]
    }
   ],
   "source": [
    "for i in sample():\n",
    "    print(i)\n",
    "else:\n",
    "    print(\"values are removed\")"
   ]
  },
  {
   "cell_type": "markdown",
   "id": "de4dac1c",
   "metadata": {},
   "source": [
    "# Example 2\n",
    "\n",
    "## generator calling"
   ]
  },
  {
   "cell_type": "code",
   "execution_count": 51,
   "id": "9d81a3f8",
   "metadata": {},
   "outputs": [
    {
     "data": {
      "text/plain": [
       "<generator object sample at 0x7fe05c941cb0>"
      ]
     },
     "execution_count": 51,
     "metadata": {},
     "output_type": "execute_result"
    }
   ],
   "source": [
    "gen = sample()\n",
    "\n",
    "# here sample are calling but if use generator in iteration or next() than generator will call\n",
    "gen"
   ]
  },
  {
   "cell_type": "code",
   "execution_count": 53,
   "id": "b98b2ea3",
   "metadata": {},
   "outputs": [
    {
     "name": "stdout",
     "output_type": "stream",
     "text": [
      "1\n",
      "2\n",
      "3\n"
     ]
    }
   ],
   "source": [
    "# use iteration\n",
    "\n",
    "for i in sample():\n",
    "    print(i)"
   ]
  },
  {
   "cell_type": "markdown",
   "id": "a845b8ec",
   "metadata": {},
   "source": [
    "# <a href=\"https://pythontutor.com/visualize.html#code=def%20sample%28%29%3A%0A%20%20%20%20%0A%20%20%20%20yield%201%0A%20%20%20%20yield%202%0A%20%20%20%20yield%203%0A%20%20%20%20%0Agen%20%3D%20sample%28%29%0A%0Afor%20i%20in%20gen%3A%0A%20%20%20%20print%28i%29&cumulative=false&curInstr=0&heapPrimitives=nevernest&mode=display&origin=opt-frontend.js&py=3&rawInputLstJSON=%5B%5D&textReferences=false\"> click here debug the code </a>"
   ]
  },
  {
   "cell_type": "markdown",
   "id": "9a62a16f",
   "metadata": {},
   "source": [
    "# Yield and Return in the Same Function"
   ]
  },
  {
   "cell_type": "code",
   "execution_count": 119,
   "id": "abc1e461",
   "metadata": {},
   "outputs": [],
   "source": [
    "def multiple_yield():\n",
    "    \n",
    "    yield [1, 2, 3]\n",
    "    yield (4, 5, 6)\n",
    "    \n",
    "    return 'done'\n",
    "\n",
    "    yield \"Hello\"\n",
    "\n"
   ]
  },
  {
   "cell_type": "code",
   "execution_count": 120,
   "id": "f30fb1fd",
   "metadata": {},
   "outputs": [],
   "source": [
    "gen = multiple_yield() "
   ]
  },
  {
   "cell_type": "code",
   "execution_count": 114,
   "id": "abb3bc42",
   "metadata": {},
   "outputs": [
    {
     "data": {
      "text/plain": [
       "[1, 2, 3]"
      ]
     },
     "execution_count": 114,
     "metadata": {},
     "output_type": "execute_result"
    }
   ],
   "source": [
    "next(gen)"
   ]
  },
  {
   "cell_type": "code",
   "execution_count": 115,
   "id": "4c8ede6c",
   "metadata": {},
   "outputs": [
    {
     "data": {
      "text/plain": [
       "(4, 5, 6)"
      ]
     },
     "execution_count": 115,
     "metadata": {},
     "output_type": "execute_result"
    }
   ],
   "source": [
    "next(gen)"
   ]
  },
  {
   "cell_type": "code",
   "execution_count": 107,
   "id": "b7674c59",
   "metadata": {},
   "outputs": [
    {
     "ename": "StopIteration",
     "evalue": "done",
     "output_type": "error",
     "traceback": [
      "\u001b[0;31m---------------------------------------------------------------------------\u001b[0m",
      "\u001b[0;31mStopIteration\u001b[0m                             Traceback (most recent call last)",
      "Cell \u001b[0;32mIn [107], line 1\u001b[0m\n\u001b[0;32m----> 1\u001b[0m \u001b[38;5;28;43mnext\u001b[39;49m\u001b[43m(\u001b[49m\u001b[43mgen\u001b[49m\u001b[43m)\u001b[49m\n",
      "\u001b[0;31mStopIteration\u001b[0m: done"
     ]
    }
   ],
   "source": [
    "next(gen)"
   ]
  },
  {
   "cell_type": "code",
   "execution_count": 116,
   "id": "1e4f2398",
   "metadata": {},
   "outputs": [
    {
     "name": "stdout",
     "output_type": "stream",
     "text": [
      "[1, 2, 3]\n",
      "(4, 5, 6)\n"
     ]
    }
   ],
   "source": [
    "# using for loop\n",
    "\n",
    "for i in multiple_yield():\n",
    "    print(i)\n",
    "    \n",
    "    \n",
    "## once if i use return than function can't iterate next yield or any statement"
   ]
  },
  {
   "cell_type": "markdown",
   "id": "727bc40d",
   "metadata": {},
   "source": [
    "# Advantage: Memory Efficiency in Generators\n"
   ]
  },
  {
   "cell_type": "code",
   "execution_count": 134,
   "id": "af956450",
   "metadata": {},
   "outputs": [
    {
     "name": "stdout",
     "output_type": "stream",
     "text": [
      "800984\n"
     ]
    }
   ],
   "source": [
    "import sys\n",
    "\n",
    "\n",
    "def func1():\n",
    "    return [i for i in range(100000)]\n",
    "\n",
    "print(sys.getsizeof(func1()))"
   ]
  },
  {
   "cell_type": "markdown",
   "id": "19d8cd42",
   "metadata": {},
   "source": [
    "## using generator"
   ]
  },
  {
   "cell_type": "code",
   "execution_count": 138,
   "id": "7c538a27",
   "metadata": {},
   "outputs": [
    {
     "name": "stdout",
     "output_type": "stream",
     "text": [
      "104\n"
     ]
    }
   ],
   "source": [
    "def func1():\n",
    "    yield [i for i in range(100000)]\n",
    "\n",
    "print(sys.getsizeof(func1()))"
   ]
  },
  {
   "cell_type": "markdown",
   "id": "28d25ee0",
   "metadata": {},
   "source": [
    "# Time-efficient"
   ]
  },
  {
   "cell_type": "code",
   "execution_count": 142,
   "id": "7bbc8eda",
   "metadata": {},
   "outputs": [
    {
     "name": "stdout",
     "output_type": "stream",
     "text": [
      "0.4012575149536133\n"
     ]
    }
   ],
   "source": [
    "import time\n",
    "\n",
    "# using list comprehension\n",
    "\n",
    "t1 = time.time()\n",
    "[ i for i in range(10000000)]\n",
    "t2 = time.time()\n",
    "\n",
    "print(t2-t1)"
   ]
  },
  {
   "cell_type": "code",
   "execution_count": 143,
   "id": "a2b47e17",
   "metadata": {},
   "outputs": [
    {
     "name": "stdout",
     "output_type": "stream",
     "text": [
      "0.00014519691467285156\n"
     ]
    }
   ],
   "source": [
    "# using generator comprehension\n",
    "\n",
    "t1 = time.time()\n",
    "\n",
    "( i for i in range(10000000))\n",
    "\n",
    "t2 = time.time()\n",
    "\n",
    "print(t2-t1)"
   ]
  },
  {
   "cell_type": "markdown",
   "id": "26cb7184",
   "metadata": {},
   "source": [
    "# Generators Methods"
   ]
  },
  {
   "cell_type": "markdown",
   "id": "60916d1c",
   "metadata": {},
   "source": [
    "## .send \n",
    "\n",
    "\n",
    "<h3 style=\"color:#4e2abd;\">\n",
    "    send(arg) -> send 'arg' into generator,\n",
    "return next yielded value or raise StopIteration.\n",
    "\n",
    "</h3>"
   ]
  },
  {
   "cell_type": "code",
   "execution_count": 129,
   "id": "7900d20b",
   "metadata": {},
   "outputs": [],
   "source": [
    "def func():\n",
    "    \n",
    "    i = \"hello\"\n",
    "    \n",
    "    #  yield 1\n",
    "    yield i\n",
    "    \n",
    "    #  yield 2\n",
    "    yield i"
   ]
  },
  {
   "cell_type": "code",
   "execution_count": 130,
   "id": "d3776598",
   "metadata": {},
   "outputs": [],
   "source": [
    "gen = func()"
   ]
  },
  {
   "cell_type": "code",
   "execution_count": 92,
   "id": "f70efb22",
   "metadata": {},
   "outputs": [
    {
     "data": {
      "text/plain": [
       "'hello'"
      ]
     },
     "execution_count": 92,
     "metadata": {},
     "output_type": "execute_result"
    }
   ],
   "source": [
    "#  yield 1 executed\n",
    "\n",
    "next(gen)"
   ]
  },
  {
   "cell_type": "code",
   "execution_count": 93,
   "id": "2d0eb5c6",
   "metadata": {},
   "outputs": [
    {
     "name": "stdout",
     "output_type": "stream",
     "text": [
      "hello\n"
     ]
    }
   ],
   "source": [
    "#  yield 2 executed (next yield)\n",
    "\n",
    "print(gen.send(2))\n"
   ]
  },
  {
   "cell_type": "code",
   "execution_count": 94,
   "id": "6805b7a3",
   "metadata": {},
   "outputs": [
    {
     "ename": "StopIteration",
     "evalue": "",
     "output_type": "error",
     "traceback": [
      "\u001b[0;31m---------------------------------------------------------------------------\u001b[0m",
      "\u001b[0;31mStopIteration\u001b[0m                             Traceback (most recent call last)",
      "Cell \u001b[0;32mIn [94], line 3\u001b[0m\n\u001b[1;32m      1\u001b[0m \u001b[38;5;66;03m#  yield 3 are not in generator\u001b[39;00m\n\u001b[0;32m----> 3\u001b[0m \u001b[38;5;28mprint\u001b[39m(\u001b[43mgen\u001b[49m\u001b[38;5;241;43m.\u001b[39;49m\u001b[43msend\u001b[49m\u001b[43m(\u001b[49m\u001b[38;5;241;43m2\u001b[39;49m\u001b[43m)\u001b[49m)\n",
      "\u001b[0;31mStopIteration\u001b[0m: "
     ]
    }
   ],
   "source": [
    "#  yield 3 are not in generator\n",
    "\n",
    "print(gen.send(2))\n",
    "\n",
    "# raise Error "
   ]
  },
  {
   "cell_type": "markdown",
   "id": "9fb0e50d",
   "metadata": {},
   "source": [
    "## Example 2"
   ]
  },
  {
   "cell_type": "code",
   "execution_count": 99,
   "id": "2ad0b8f6",
   "metadata": {},
   "outputs": [],
   "source": [
    "def func():\n",
    "    \n",
    "    i = \"yield 1\"\n",
    "    \n",
    "    yield i\n",
    "    \n",
    "    # yield 2 \n",
    "    i = \"yield 2\"\n",
    "    i = yield i"
   ]
  },
  {
   "cell_type": "code",
   "execution_count": 100,
   "id": "f66c2dea",
   "metadata": {},
   "outputs": [],
   "source": [
    "gen = func()"
   ]
  },
  {
   "cell_type": "code",
   "execution_count": 101,
   "id": "35ff10d5",
   "metadata": {},
   "outputs": [
    {
     "data": {
      "text/plain": [
       "'yield 1'"
      ]
     },
     "execution_count": 101,
     "metadata": {},
     "output_type": "execute_result"
    }
   ],
   "source": [
    "next(gen)"
   ]
  },
  {
   "cell_type": "code",
   "execution_count": 102,
   "id": "a9e13dec",
   "metadata": {},
   "outputs": [
    {
     "data": {
      "text/plain": [
       "'yield 2'"
      ]
     },
     "execution_count": 102,
     "metadata": {},
     "output_type": "execute_result"
    }
   ],
   "source": [
    "gen.send(12345)"
   ]
  },
  {
   "cell_type": "code",
   "execution_count": 104,
   "id": "a9c5c189",
   "metadata": {},
   "outputs": [
    {
     "ename": "StopIteration",
     "evalue": "",
     "output_type": "error",
     "traceback": [
      "\u001b[0;31m---------------------------------------------------------------------------\u001b[0m",
      "\u001b[0;31mStopIteration\u001b[0m                             Traceback (most recent call last)",
      "Cell \u001b[0;32mIn [104], line 2\u001b[0m\n\u001b[1;32m      1\u001b[0m \u001b[38;5;66;03m# yield 3 are not exist thats why raise error\u001b[39;00m\n\u001b[0;32m----> 2\u001b[0m \u001b[43mgen\u001b[49m\u001b[38;5;241;43m.\u001b[39;49m\u001b[43msend\u001b[49m\u001b[43m(\u001b[49m\u001b[38;5;241;43m12345\u001b[39;49m\u001b[43m)\u001b[49m\n",
      "\u001b[0;31mStopIteration\u001b[0m: "
     ]
    }
   ],
   "source": [
    "# yield 3 are not exist thats why raise error\n",
    "gen.send(12345)"
   ]
  },
  {
   "cell_type": "markdown",
   "id": "5ad4b70a",
   "metadata": {},
   "source": [
    "## Example 3\n",
    "\n",
    "### Infinite loop "
   ]
  },
  {
   "cell_type": "code",
   "execution_count": 131,
   "id": "a757e095",
   "metadata": {},
   "outputs": [],
   "source": [
    "def func():\n",
    "    \n",
    "    while True:\n",
    "        i = None\n",
    "\n",
    "        i = yield i\n",
    "        print(i)\n",
    "    "
   ]
  },
  {
   "cell_type": "code",
   "execution_count": 132,
   "id": "82913109",
   "metadata": {},
   "outputs": [],
   "source": [
    "gen = func()"
   ]
  },
  {
   "cell_type": "code",
   "execution_count": 133,
   "id": "50bcd30b",
   "metadata": {},
   "outputs": [],
   "source": [
    "next(gen)"
   ]
  },
  {
   "cell_type": "code",
   "execution_count": 134,
   "id": "40a5dbc1",
   "metadata": {},
   "outputs": [
    {
     "name": "stdout",
     "output_type": "stream",
     "text": [
      "12345\n"
     ]
    }
   ],
   "source": [
    "gen.send(12345)"
   ]
  },
  {
   "cell_type": "code",
   "execution_count": 135,
   "id": "7f37e299",
   "metadata": {},
   "outputs": [
    {
     "name": "stdout",
     "output_type": "stream",
     "text": [
      "hello\n"
     ]
    }
   ],
   "source": [
    "gen.send(\"hello\")"
   ]
  },
  {
   "cell_type": "code",
   "execution_count": 136,
   "id": "c129e728",
   "metadata": {},
   "outputs": [
    {
     "name": "stdout",
     "output_type": "stream",
     "text": [
      "Mubeen Ahmad\n"
     ]
    }
   ],
   "source": [
    "gen.send(\"Mubeen Ahmad\")"
   ]
  },
  {
   "cell_type": "markdown",
   "id": "59ab7d5b",
   "metadata": {},
   "source": [
    "# Example 4"
   ]
  },
  {
   "cell_type": "code",
   "execution_count": 28,
   "id": "001254f9",
   "metadata": {},
   "outputs": [],
   "source": [
    "def test(n):\n",
    "    \n",
    "    while 1:\n",
    "        i = yield n\n",
    "        \n",
    "        print(\"i is \",i)"
   ]
  },
  {
   "cell_type": "code",
   "execution_count": 29,
   "id": "955109f1",
   "metadata": {},
   "outputs": [
    {
     "data": {
      "text/plain": [
       "<generator object test at 0x7fbcaee7f6f0>"
      ]
     },
     "execution_count": 29,
     "metadata": {},
     "output_type": "execute_result"
    }
   ],
   "source": [
    "g = test(100)\n",
    "g"
   ]
  },
  {
   "cell_type": "code",
   "execution_count": 30,
   "id": "9510a020",
   "metadata": {},
   "outputs": [
    {
     "data": {
      "text/plain": [
       "100"
      ]
     },
     "execution_count": 30,
     "metadata": {},
     "output_type": "execute_result"
    }
   ],
   "source": [
    "# first yield take n and store to test\n",
    "\n",
    "next(g)"
   ]
  },
  {
   "cell_type": "code",
   "execution_count": 34,
   "id": "94176c60",
   "metadata": {},
   "outputs": [
    {
     "name": "stdout",
     "output_type": "stream",
     "text": [
      "i is  None\n"
     ]
    },
    {
     "data": {
      "text/plain": [
       "100"
      ]
     },
     "execution_count": 34,
     "metadata": {},
     "output_type": "execute_result"
    }
   ],
   "source": [
    "# now i use again next(). here yield is None \n",
    "\n",
    "next(g)"
   ]
  },
  {
   "cell_type": "code",
   "execution_count": 35,
   "id": "ac82a805",
   "metadata": {},
   "outputs": [
    {
     "name": "stdout",
     "output_type": "stream",
     "text": [
      "i is  16\n"
     ]
    },
    {
     "data": {
      "text/plain": [
       "100"
      ]
     },
     "execution_count": 35,
     "metadata": {},
     "output_type": "execute_result"
    }
   ],
   "source": [
    "#  now send value to yield\n",
    "\n",
    "g.send(16)"
   ]
  },
  {
   "cell_type": "markdown",
   "id": "2769fccd",
   "metadata": {},
   "source": [
    "## why next() 2nd time print None\n"
   ]
  },
  {
   "cell_type": "code",
   "execution_count": 70,
   "id": "714b11a5",
   "metadata": {},
   "outputs": [],
   "source": [
    "def test():\n",
    "   r = yield \"s\"\n",
    "\n",
    "   print(\"Value of r is\",r)\n"
   ]
  },
  {
   "cell_type": "code",
   "execution_count": 74,
   "id": "1ec08a8a",
   "metadata": {},
   "outputs": [
    {
     "data": {
      "text/plain": [
       "<generator object test at 0x7fbcaec69af0>"
      ]
     },
     "execution_count": 74,
     "metadata": {},
     "output_type": "execute_result"
    }
   ],
   "source": [
    "g = test()\n",
    "g"
   ]
  },
  {
   "cell_type": "code",
   "execution_count": 75,
   "id": "d13b1c3f",
   "metadata": {},
   "outputs": [
    {
     "data": {
      "text/plain": [
       "'s'"
      ]
     },
     "execution_count": 75,
     "metadata": {},
     "output_type": "execute_result"
    }
   ],
   "source": [
    "next(g)"
   ]
  },
  {
   "cell_type": "code",
   "execution_count": 76,
   "id": "41b84cc9",
   "metadata": {},
   "outputs": [
    {
     "name": "stdout",
     "output_type": "stream",
     "text": [
      "Value of r is None\n"
     ]
    },
    {
     "ename": "StopIteration",
     "evalue": "",
     "output_type": "error",
     "traceback": [
      "\u001b[0;31m---------------------------------------------------------------------------\u001b[0m",
      "\u001b[0;31mStopIteration\u001b[0m                             Traceback (most recent call last)",
      "Cell \u001b[0;32mIn [76], line 9\u001b[0m\n\u001b[1;32m      1\u001b[0m \u001b[38;5;66;03m# not if i call next() second time than next find the second yield \u001b[39;00m\n\u001b[1;32m      2\u001b[0m \n\u001b[1;32m      3\u001b[0m \u001b[38;5;66;03m# if another yield are exist than next take the yield value \u001b[39;00m\n\u001b[0;32m   (...)\u001b[0m\n\u001b[1;32m      6\u001b[0m \n\u001b[1;32m      7\u001b[0m \u001b[38;5;66;03m# than yield return None and None are store in the r\u001b[39;00m\n\u001b[0;32m----> 9\u001b[0m \u001b[38;5;28;43mnext\u001b[39;49m\u001b[43m(\u001b[49m\u001b[43mg\u001b[49m\u001b[43m)\u001b[49m\n",
      "\u001b[0;31mStopIteration\u001b[0m: "
     ]
    }
   ],
   "source": [
    "# not if i call next() second time than next find the second yield \n",
    "\n",
    "# if another yield are exist than next take the yield value \n",
    "\n",
    "# but if another yield are not exist\n",
    "\n",
    "# than yield return None and None are store in the r\n",
    "\n",
    "next(g)"
   ]
  },
  {
   "cell_type": "markdown",
   "id": "153cc769",
   "metadata": {},
   "source": [
    "# <a href=\"https://pythontutor.com/visualize.html#code=def%20test%28n%29%3A%0A%20%20%20%20%0A%20%20%20%20while%201%3A%0A%20%20%20%20%20%20%20%20i%20%3D%20yield%20f%22Value%20of%20n%20%7Bn%7D%22%0A%20%20%20%20%20%20%20%20print%28%22Value%20of%20i%22,i%29%0A%20%20%20%20%20%20%20%20%0Ag%20%3D%20test%28100%29%0A%0Aprint%28next%28g%29%29%0Aprint%28next%28g%29%29%0A%0Aprint%28g.send%2816%29%29%0Aprint%28g.send%2832%29%29&cumulative=false&curInstr=16&heapPrimitives=nevernest&mode=display&origin=opt-frontend.js&py=3&rawInputLstJSON=%5B%5D&textReferences=false\" >Click Here for UnderStand This Code</a>"
   ]
  },
  {
   "cell_type": "markdown",
   "id": "b4e302c1",
   "metadata": {},
   "source": [
    "## .throw\n",
    "\n",
    "<h3 style=\"color:#4e2abd;\">\n",
    "throw() allows you to throw exceptions with the generator.\n",
    "</h3>"
   ]
  },
  {
   "cell_type": "code",
   "execution_count": 521,
   "id": "d0af5dcc",
   "metadata": {},
   "outputs": [],
   "source": [
    "def func(n):\n",
    "        \n",
    "    while True:\n",
    "        n = yield n\n",
    "        "
   ]
  },
  {
   "cell_type": "code",
   "execution_count": 522,
   "id": "ecd1b4a9",
   "metadata": {},
   "outputs": [
    {
     "data": {
      "text/plain": [
       "<generator object func at 0x7f28376ded50>"
      ]
     },
     "execution_count": 522,
     "metadata": {},
     "output_type": "execute_result"
    }
   ],
   "source": [
    "g = func(100)\n",
    "g"
   ]
  },
  {
   "cell_type": "code",
   "execution_count": 523,
   "id": "a0c72832",
   "metadata": {},
   "outputs": [
    {
     "data": {
      "text/plain": [
       "100"
      ]
     },
     "execution_count": 523,
     "metadata": {},
     "output_type": "execute_result"
    }
   ],
   "source": [
    "next(g)"
   ]
  },
  {
   "cell_type": "code",
   "execution_count": 524,
   "id": "6fc85fbd",
   "metadata": {},
   "outputs": [
    {
     "data": {
      "text/plain": [
       "11"
      ]
     },
     "execution_count": 524,
     "metadata": {},
     "output_type": "execute_result"
    }
   ],
   "source": [
    "g.send(11)"
   ]
  },
  {
   "cell_type": "code",
   "execution_count": 525,
   "id": "b2896ee7",
   "metadata": {},
   "outputs": [
    {
     "data": {
      "text/plain": [
       "14"
      ]
     },
     "execution_count": 525,
     "metadata": {},
     "output_type": "execute_result"
    }
   ],
   "source": [
    "g.send(14)"
   ]
  },
  {
   "cell_type": "markdown",
   "id": "b83dc938",
   "metadata": {},
   "source": [
    "### Use Throw"
   ]
  },
  {
   "cell_type": "code",
   "execution_count": 418,
   "id": "9ed45210",
   "metadata": {},
   "outputs": [
    {
     "ename": "StopIteration",
     "evalue": "",
     "output_type": "error",
     "traceback": [
      "\u001b[0;31m---------------------------------------------------------------------------\u001b[0m",
      "\u001b[0;31mStopIteration\u001b[0m                             Traceback (most recent call last)",
      "Cell \u001b[0;32mIn [418], line 1\u001b[0m\n\u001b[0;32m----> 1\u001b[0m \u001b[43mnew\u001b[49m\u001b[38;5;241;43m.\u001b[39;49m\u001b[43msend\u001b[49m\u001b[43m(\u001b[49m\u001b[38;5;241;43m1100\u001b[39;49m\u001b[43m)\u001b[49m\n",
      "\u001b[0;31mStopIteration\u001b[0m: "
     ]
    }
   ],
   "source": [
    "new.send(1100)"
   ]
  },
  {
   "cell_type": "code",
   "execution_count": 526,
   "id": "5705d067",
   "metadata": {},
   "outputs": [],
   "source": [
    "limits = 15"
   ]
  },
  {
   "cell_type": "code",
   "execution_count": 527,
   "id": "69880110",
   "metadata": {},
   "outputs": [],
   "source": [
    "value = 14"
   ]
  },
  {
   "cell_type": "code",
   "execution_count": 532,
   "id": "bde2a874",
   "metadata": {},
   "outputs": [
    {
     "name": "stdout",
     "output_type": "stream",
     "text": [
      "14\n"
     ]
    }
   ],
   "source": [
    "if value > limits:\n",
    "    \n",
    "    g.throw(ValueError(\"Value are greater than 15\"))\n",
    "    \n",
    "else:\n",
    "    \n",
    "    print(g.send(value))"
   ]
  },
  {
   "cell_type": "markdown",
   "id": "08edb4f4",
   "metadata": {},
   "source": [
    "## set value 16"
   ]
  },
  {
   "cell_type": "code",
   "execution_count": 534,
   "id": "cf79a3cc",
   "metadata": {},
   "outputs": [
    {
     "ename": "ValueError",
     "evalue": "Value are greater than 15",
     "output_type": "error",
     "traceback": [
      "\u001b[0;31m---------------------------------------------------------------------------\u001b[0m",
      "\u001b[0;31mValueError\u001b[0m                                Traceback (most recent call last)",
      "Cell \u001b[0;32mIn [534], line 7\u001b[0m\n\u001b[1;32m      3\u001b[0m value \u001b[38;5;241m=\u001b[39m \u001b[38;5;241m16\u001b[39m\n\u001b[1;32m      5\u001b[0m \u001b[38;5;28;01mif\u001b[39;00m value \u001b[38;5;241m>\u001b[39m limits:\n\u001b[0;32m----> 7\u001b[0m     \u001b[43mg\u001b[49m\u001b[38;5;241;43m.\u001b[39;49m\u001b[43mthrow\u001b[49m\u001b[43m(\u001b[49m\u001b[38;5;167;43;01mValueError\u001b[39;49;00m\u001b[43m(\u001b[49m\u001b[38;5;124;43m\"\u001b[39;49m\u001b[38;5;124;43mValue are greater than 15\u001b[39;49m\u001b[38;5;124;43m\"\u001b[39;49m\u001b[43m)\u001b[49m\u001b[43m)\u001b[49m\n\u001b[1;32m      9\u001b[0m \u001b[38;5;28;01melse\u001b[39;00m:\n\u001b[1;32m     11\u001b[0m     \u001b[38;5;28mprint\u001b[39m(g\u001b[38;5;241m.\u001b[39msend(value))\n",
      "Cell \u001b[0;32mIn [521], line 4\u001b[0m, in \u001b[0;36mfunc\u001b[0;34m(n)\u001b[0m\n\u001b[1;32m      1\u001b[0m \u001b[38;5;28;01mdef\u001b[39;00m \u001b[38;5;21mfunc\u001b[39m(n):\n\u001b[1;32m      3\u001b[0m     \u001b[38;5;28;01mwhile\u001b[39;00m \u001b[38;5;28;01mTrue\u001b[39;00m:\n\u001b[0;32m----> 4\u001b[0m         n \u001b[38;5;241m=\u001b[39m \u001b[38;5;28;01myield\u001b[39;00m n\n",
      "\u001b[0;31mValueError\u001b[0m: Value are greater than 15"
     ]
    }
   ],
   "source": [
    "limits = 15\n",
    "\n",
    "value = 16\n",
    "\n",
    "if value > limits:\n",
    "    \n",
    "    g.throw(ValueError(\"Value are greater than 15\"))\n",
    "    \n",
    "else:\n",
    "    \n",
    "    print(g.send(value))"
   ]
  },
  {
   "cell_type": "markdown",
   "id": "ae4c7498",
   "metadata": {},
   "source": [
    "## Once used the throw than next iteration are raise Error"
   ]
  },
  {
   "cell_type": "code",
   "execution_count": 535,
   "id": "35b656a4",
   "metadata": {},
   "outputs": [
    {
     "ename": "StopIteration",
     "evalue": "",
     "output_type": "error",
     "traceback": [
      "\u001b[0;31m---------------------------------------------------------------------------\u001b[0m",
      "\u001b[0;31mStopIteration\u001b[0m                             Traceback (most recent call last)",
      "Cell \u001b[0;32mIn [535], line 1\u001b[0m\n\u001b[0;32m----> 1\u001b[0m \u001b[43mg\u001b[49m\u001b[38;5;241;43m.\u001b[39;49m\u001b[43msend\u001b[49m\u001b[43m(\u001b[49m\u001b[38;5;241;43m12\u001b[39;49m\u001b[43m)\u001b[49m\n",
      "\u001b[0;31mStopIteration\u001b[0m: "
     ]
    }
   ],
   "source": [
    "g.send(12)"
   ]
  },
  {
   "cell_type": "markdown",
   "id": "21d7da3d",
   "metadata": {},
   "source": [
    "# .close() \n",
    "\n",
    "<h3 style=\"color:#4e2abd;\">\n",
    ".clode allows you to stop a generator. This can be especially handy when controlling an infinite sequence generator.\n",
    " </h3>"
   ]
  },
  {
   "cell_type": "code",
   "execution_count": 540,
   "id": "8974792a",
   "metadata": {},
   "outputs": [],
   "source": [
    "stp = func(55)"
   ]
  },
  {
   "cell_type": "code",
   "execution_count": 541,
   "id": "37fae06d",
   "metadata": {},
   "outputs": [
    {
     "data": {
      "text/plain": [
       "55"
      ]
     },
     "execution_count": 541,
     "metadata": {},
     "output_type": "execute_result"
    }
   ],
   "source": [
    "next(stp)"
   ]
  },
  {
   "cell_type": "code",
   "execution_count": 542,
   "id": "2e6a5cf5",
   "metadata": {},
   "outputs": [
    {
     "data": {
      "text/plain": [
       "1"
      ]
     },
     "execution_count": 542,
     "metadata": {},
     "output_type": "execute_result"
    }
   ],
   "source": [
    "stp.send(1)"
   ]
  },
  {
   "cell_type": "code",
   "execution_count": 543,
   "id": "20387c08",
   "metadata": {},
   "outputs": [
    {
     "data": {
      "text/plain": [
       "2"
      ]
     },
     "execution_count": 543,
     "metadata": {},
     "output_type": "execute_result"
    }
   ],
   "source": [
    "stp.send(2)"
   ]
  },
  {
   "cell_type": "code",
   "execution_count": 544,
   "id": "54841d51",
   "metadata": {},
   "outputs": [
    {
     "data": {
      "text/plain": [
       "3"
      ]
     },
     "execution_count": 544,
     "metadata": {},
     "output_type": "execute_result"
    }
   ],
   "source": [
    "stp.send(3)"
   ]
  },
  {
   "cell_type": "markdown",
   "id": "99e71c53",
   "metadata": {},
   "source": [
    "### use close"
   ]
  },
  {
   "cell_type": "code",
   "execution_count": 545,
   "id": "c473d8b6",
   "metadata": {},
   "outputs": [],
   "source": [
    "stp.close()"
   ]
  },
  {
   "cell_type": "code",
   "execution_count": 546,
   "id": "7acb437b",
   "metadata": {},
   "outputs": [
    {
     "ename": "StopIteration",
     "evalue": "",
     "output_type": "error",
     "traceback": [
      "\u001b[0;31m---------------------------------------------------------------------------\u001b[0m",
      "\u001b[0;31mStopIteration\u001b[0m                             Traceback (most recent call last)",
      "Cell \u001b[0;32mIn [546], line 1\u001b[0m\n\u001b[0;32m----> 1\u001b[0m \u001b[43mstp\u001b[49m\u001b[38;5;241;43m.\u001b[39;49m\u001b[43msend\u001b[49m\u001b[43m(\u001b[49m\u001b[38;5;241;43m4\u001b[39;49m\u001b[43m)\u001b[49m\n",
      "\u001b[0;31mStopIteration\u001b[0m: "
     ]
    }
   ],
   "source": [
    "stp.send(4)"
   ]
  }
 ],
 "metadata": {
  "kernelspec": {
   "display_name": "Python 3 (ipykernel)",
   "language": "python",
   "name": "python3"
  },
  "language_info": {
   "codemirror_mode": {
    "name": "ipython",
    "version": 3
   },
   "file_extension": ".py",
   "mimetype": "text/x-python",
   "name": "python",
   "nbconvert_exporter": "python",
   "pygments_lexer": "ipython3",
   "version": "3.10.6"
  }
 },
 "nbformat": 4,
 "nbformat_minor": 5
}

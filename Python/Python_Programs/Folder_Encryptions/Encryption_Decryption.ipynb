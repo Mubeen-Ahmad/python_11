{
 "cells": [
  {
   "cell_type": "code",
   "execution_count": 1,
   "id": "5c656803-8ab6-4b0c-a3dc-61fb58474529",
   "metadata": {
    "tags": []
   },
   "outputs": [],
   "source": [
    "import os\n",
    "\n",
    "from cryptography.hazmat.backends import default_backend\n",
    "from cryptography.hazmat.primitives import hashes\n",
    "from cryptography.hazmat.primitives.ciphers import Cipher, algorithms, modes\n",
    "from cryptography.hazmat.primitives.kdf.pbkdf2 import PBKDF2HMAC"
   ]
  },
  {
   "cell_type": "markdown",
   "id": "338231a2-ab39-4653-a622-0e73da21ff21",
   "metadata": {
    "tags": []
   },
   "source": [
    "# PBKDF2HMAC\n",
    "- #### The PBKDF2HMAC is a key derivation function (KDF) used to derive a cryptographic key from a password (or passphrase) using HMAC (Hash-based Message Authentication Code) and the PBKDF2 algorithm. \n",
    "\n",
    "- #### It is commonly used for securely generating keys from user passwords.<br>\n",
    "\n",
    "- #### SHA256 (Secure Hash Algorithm 256)<br>\n",
    "\n",
    "- #### 32, which means the derived key will be 32 bytes long.<br>\n",
    "\n",
    "- #### salt is a random string added to the password before hashing to ensure that even ,\n",
    "\n",
    "    - #### if two users have the same password they will get different keys.\n",
    "    \n",
    "    - #### This prevents attackers from using precomputed \"rainbow tables\" (which store hash values for common passwords).<br>\n",
    "    \n",
    "- #### iterations=100000 is is the number of iterations the PBKDF2 function will apply the hashing algorithm. \n",
    "\n",
    "    - #### The more iterations, the more computationally expensive it becomes to derive the key, which helps defend against brute-force attacks.<br>\n",
    "\n",
    "- #### backend used for cryptographic operations.\n",
    "\n",
    "    - #### default_backend() uses the default cryptographic backend provided by the cryptography package, which is typically OpenSSL or another secure library depending on your platform."
   ]
  },
  {
   "cell_type": "code",
   "execution_count": 2,
   "id": "5ecdb016-30aa-4fcb-8e94-0f6c2a39a25d",
   "metadata": {
    "tags": []
   },
   "outputs": [
    {
     "data": {
      "text/plain": [
       "<cryptography.hazmat.primitives.kdf.pbkdf2.PBKDF2HMAC at 0x7111f415fee0>"
      ]
     },
     "execution_count": 2,
     "metadata": {},
     "output_type": "execute_result"
    }
   ],
   "source": [
    "salt = os.urandom(16)\n",
    "\n",
    "kdf = PBKDF2HMAC(\n",
    "    algorithm=hashes.SHA256(),\n",
    "    length=32,  # AES-256 requires a 32-byte key\n",
    "    salt=salt,\n",
    "    iterations=100000,\n",
    "    backend=default_backend(),\n",
    ")\n",
    "kdf"
   ]
  },
  {
   "cell_type": "markdown",
   "id": "41e29734-5972-4a04-acf3-11e08b344e93",
   "metadata": {},
   "source": [
    "- #### kdf.derive(password.encode()) returns the key as bytes. \n",
    "    - #### The key.hex() method is used to print the key as a hexadecimal string, so it’s easier to read.\n"
   ]
  },
  {
   "cell_type": "code",
   "execution_count": 3,
   "id": "e3f839f4-ac20-4e2f-a1fb-4de63039ff78",
   "metadata": {
    "tags": []
   },
   "outputs": [
    {
     "data": {
      "text/plain": [
       "b\"Jv\\x17h\\x06\\xf3\\x81\\x9aV\\x1a\\xfcq\\xbd\\nSj8\\xea'\\xa4d\\xa4l\\xd7\\x98\\xd7\\xc9B=\\xa6v\\xd7\""
      ]
     },
     "execution_count": 3,
     "metadata": {},
     "output_type": "execute_result"
    }
   ],
   "source": [
    "password = \"mubeen\"\n",
    "kdf.derive(password.encode())"
   ]
  },
  {
   "cell_type": "markdown",
   "id": "5d75c47a-de46-46d5-b83e-2b09c511b9f6",
   "metadata": {},
   "source": [
    "- #### os.urandom(16) generates 16 random bytes, which is used as the salt. \n",
    "    - #### This 16-byte salt is passed to the PBKDF2HMAC function to derive the cryptographic key.\n",
    "    - #### Let’s say the password is \"mubeen\". If you use the same password but different salts each time, the derived keys will be different:\n",
    "        - #### First salt: abc123 → Derived key: key1\n",
    "        - #### Second salt: xyz456 → Derived key: key2"
   ]
  },
  {
   "cell_type": "code",
   "execution_count": 4,
   "id": "4dcf7dff-b287-465e-a8d5-36f679c10c36",
   "metadata": {
    "tags": []
   },
   "outputs": [
    {
     "data": {
      "text/plain": [
       "b'/3+\\x13\\xfa\\xe5\\xa8\\xf8:\\xf2\\xf82G\\xf7&\\xdf'"
      ]
     },
     "execution_count": 4,
     "metadata": {},
     "output_type": "execute_result"
    }
   ],
   "source": [
    "os.urandom(16)"
   ]
  },
  {
   "cell_type": "code",
   "execution_count": 5,
   "id": "ba7cf15f-6743-4f5b-aad8-881e0ea365ff",
   "metadata": {
    "tags": []
   },
   "outputs": [],
   "source": [
    "def generate_key(password: str, salt: bytes):\n",
    "\n",
    "    kdf = PBKDF2HMAC(\n",
    "        algorithm=hashes.SHA256(),\n",
    "        length=32,  # AES-256 requires a 32-byte key\n",
    "        salt=salt,\n",
    "        iterations=100000,\n",
    "        backend=default_backend(),\n",
    "    )\n",
    "\n",
    "    return kdf.derive(password.encode())"
   ]
  },
  {
   "cell_type": "code",
   "execution_count": 6,
   "id": "8fc5be22-3886-4d49-9dc5-a011b8011a2e",
   "metadata": {
    "tags": []
   },
   "outputs": [
    {
     "data": {
      "text/plain": [
       "b'<C\\xa0HUgq\\x99\\xccd\\x9d\\xcc\\x07\\x1c\\x9c\\xc5\\xf9\\xd7y\\x86\\x19&\\xfe\\x13\\xa7\\x10T\\xe3\\xd9\\xc2aE'"
      ]
     },
     "execution_count": 6,
     "metadata": {},
     "output_type": "execute_result"
    }
   ],
   "source": [
    "generate_key(password=\"mubeen\", salt=os.urandom(16))"
   ]
  },
  {
   "cell_type": "code",
   "execution_count": 7,
   "id": "e5414e91-e4e4-436a-a5be-21ca8ae16c46",
   "metadata": {
    "tags": []
   },
   "outputs": [
    {
     "data": {
      "text/plain": [
       "b'\\xcc\\xd5}\\x9eY\\xf4U\\xbc\\xc8\\x14\\x9ft0\\x1d0i\\x9a\\x90\\x1cA(\\xe9\\x0c\\xaa8D-i\\x92\\xc8?Z'"
      ]
     },
     "execution_count": 7,
     "metadata": {},
     "output_type": "execute_result"
    }
   ],
   "source": [
    "generate_key(password=\"mubeen\", salt=os.urandom(16))"
   ]
  },
  {
   "cell_type": "markdown",
   "id": "5b691be5-2b12-427e-9e02-211bffccdac5",
   "metadata": {},
   "source": [
    "# Encryption"
   ]
  },
  {
   "cell_type": "markdown",
   "id": "71cf63ad-c6f0-4dd9-8553-ec44e3988292",
   "metadata": {},
   "source": [
    "- ## Salt and Nonce Generation\n",
    "    - ### Salt: This is a 16-byte random value that will be used with the password to ensure that the derived key is unique. \n",
    "        - ### Even if the password is the same, the result will be different each time due to the salt.<br>\n",
    "        \n",
    "    - ### Nonce: This is a 12-byte random value used in AES-GCM encryption. \n",
    "        - ### It ensures that even if the same data is encrypted multiple times, the ciphertext will be different due to the nonce."
   ]
  },
  {
   "cell_type": "markdown",
   "id": "7a1de194-728d-43cb-bd27-be4e4f28f88d",
   "metadata": {
    "tags": []
   },
   "source": [
    "- ### Deriving the AES Key from Password and Salt\n",
    "    - #### `key = generate_key(password, salt)`<br>\n",
    "\n",
    "- ### Deriving AES Key: This line uses a derive_key function (presumably defined elsewhere) to generate an AES encryption key \n",
    "    - ### from the provided password and salt. The key is used for AES encryption."
   ]
  },
  {
   "cell_type": "markdown",
   "id": "dfdb2ceb-061a-4b3a-82c0-009d457a58e8",
   "metadata": {},
   "source": [
    "## Creating the AES-GCM Cipher\n",
    "- ### Cipher: Here, an AES cipher is created using the derived key and AES-GCM mode. \n",
    "    - ### GCM (Galois/Counter Mode) is a mode of operation for AES that provides both confidentiality and data integrity (authentication). \n",
    "    - ### The nonce is also passed to ensure uniqueness during encryption."
   ]
  },
  {
   "cell_type": "code",
   "execution_count": 8,
   "id": "3afd1675-7036-4900-ac64-cf51ff0d02e7",
   "metadata": {
    "tags": []
   },
   "outputs": [
    {
     "data": {
      "text/plain": [
       "<cryptography.hazmat.primitives.ciphers.base.Cipher at 0x7111eff09750>"
      ]
     },
     "execution_count": 8,
     "metadata": {},
     "output_type": "execute_result"
    }
   ],
   "source": [
    "salt = os.urandom(16)\n",
    "nonce = os.urandom(12)\n",
    "password = \"mubeen\"\n",
    "key = generate_key(password, salt)\n",
    "\n",
    "cipher = Cipher(algorithms.AES(key), modes.GCM(nonce), backend=default_backend())\n",
    "cipher"
   ]
  },
  {
   "cell_type": "markdown",
   "id": "6beda476-11c1-4d12-9f1a-d4b9ff387bf0",
   "metadata": {},
   "source": [
    "- ## Encrypting the Data\n",
    "    - ### encryptor.update(file_data) encrypts the file data in chunks.\n",
    "    - ### encryptor.finalize() completes the encryption process and provides any remaining data that needs to be encrypted."
   ]
  },
  {
   "cell_type": "code",
   "execution_count": 9,
   "id": "c2113776-7578-4447-9432-a6346a5a6191",
   "metadata": {
    "tags": []
   },
   "outputs": [
    {
     "data": {
      "text/plain": [
       "b'\\x87`\\x03_\\xd3'"
      ]
     },
     "execution_count": 9,
     "metadata": {},
     "output_type": "execute_result"
    }
   ],
   "source": [
    "data = \"hello\"\n",
    "\n",
    "encryptor = cipher.encryptor()\n",
    "encrypted_data = encryptor.update(data.encode()) + encryptor.finalize()\n",
    "encrypted_data"
   ]
  },
  {
   "cell_type": "markdown",
   "id": "058a6cc1-1997-4281-a367-eab7972b8326",
   "metadata": {},
   "source": [
    "- ## Writing the Encrypted Data to File\n",
    "    - ### Salt: Random data added to make sure even the same password gives different encryption results.\n",
    "    - ### Nonce (IV): Random data that ensures each encryption operation is unique.\n",
    "    - ### Encrypted Data: The file data that’s now in an unreadable form.\n",
    "    - ### Authentication Tag: A security tag to check if the data is tampered with."
   ]
  },
  {
   "cell_type": "code",
   "execution_count": 10,
   "id": "00d6df3d-4b96-452f-9b9f-0cd234eda194",
   "metadata": {
    "tags": []
   },
   "outputs": [],
   "source": [
    "with open(\"test\", \"wb\") as f:\n",
    "\n",
    "    f.write(salt)  # Write the salt first\n",
    "    f.write(nonce)  # Write the nonce (IV)\n",
    "    f.write(encrypted_data)  # Write the encrypted data\n",
    "    f.write(encryptor.tag)  # Write the authentication tag for integrity"
   ]
  },
  {
   "cell_type": "code",
   "execution_count": 14,
   "id": "f14be5b9-d7cd-4e71-9370-b9293839c99e",
   "metadata": {
    "tags": []
   },
   "outputs": [
    {
     "name": "stdout",
     "output_type": "stream",
     "text": [
      " \u001d",
      "6\u0007��O��\u0016�0�v�\u001a�\u000eP�&]֤���\u0006�A1آyǐ̯�:��\u000e~�s��"
     ]
    }
   ],
   "source": [
    "!cat ./test"
   ]
  },
  {
   "cell_type": "markdown",
   "id": "a9b62f9a-08e8-41a4-8b64-6c6de826a449",
   "metadata": {},
   "source": [
    "- # Example"
   ]
  },
  {
   "cell_type": "code",
   "execution_count": 11,
   "id": "ecd24332-8022-44b1-ad18-155b4d282c5f",
   "metadata": {
    "tags": []
   },
   "outputs": [
    {
     "name": "stdout",
     "output_type": "stream",
     "text": [
      "123\n",
      "321\n",
      "123"
     ]
    }
   ],
   "source": [
    "!cat ./code.txt"
   ]
  },
  {
   "cell_type": "code",
   "execution_count": 12,
   "id": "d8d655fa-e13b-45f5-9bfe-c1f2942b7243",
   "metadata": {
    "tags": []
   },
   "outputs": [
    {
     "name": "stdout",
     "output_type": "stream",
     "text": [
      "b'123\\n321\\n123'\n"
     ]
    }
   ],
   "source": [
    "with open(\"code.txt\", \"rb\") as f:\n",
    "    file_data = f.read()\n",
    "    print(file_data)\n",
    "\n",
    "salt = os.urandom(16)\n",
    "nonce = os.urandom(12)\n",
    "password = \"mubeen\"\n",
    "key = generate_key(password, salt)\n",
    "\n",
    "cipher = Cipher(algorithms.AES(key), modes.GCM(nonce), backend=default_backend())\n",
    "encryptor = cipher.encryptor()\n",
    "encrypted_data = encryptor.update(file_data) + encryptor.finalize()\n",
    "\n",
    "with open(\"./code.txt\", \"wb\") as f:\n",
    "\n",
    "    f.write(salt)  # Write the salt first\n",
    "\n",
    "    f.write(nonce)  # Write the nonce (IV)\n",
    "\n",
    "    f.write(encrypted_data)  # Write the encrypted data\n",
    "\n",
    "    f.write(encryptor.tag)  # Write the authentication tag for integrity"
   ]
  },
  {
   "cell_type": "code",
   "execution_count": 13,
   "id": "bdc9d91b-d326-4021-892e-312045838cab",
   "metadata": {
    "tags": []
   },
   "outputs": [
    {
     "name": "stdout",
     "output_type": "stream",
     "text": [
      "�B��h\u0014jX\u0015{Ӻs�dy�k9�1�b�ks��( �6q�*�ɉ6�P\"֢���y&\u0003�\u0011��\u0012"
     ]
    }
   ],
   "source": [
    "# again read text\n",
    "!cat ./code.txt"
   ]
  },
  {
   "cell_type": "code",
   "execution_count": 14,
   "id": "ebe6e00a-0e3c-40cd-bad3-afe1c3d0fa79",
   "metadata": {
    "tags": []
   },
   "outputs": [
    {
     "data": {
      "text/plain": [
       "b'( \\xea6q\\xd5*\\x8c\\xc9\\x896'"
      ]
     },
     "execution_count": 14,
     "metadata": {},
     "output_type": "execute_result"
    }
   ],
   "source": [
    "encrypted_data"
   ]
  },
  {
   "cell_type": "markdown",
   "id": "b01c2ca6-5263-4b01-b763-a32112b6979e",
   "metadata": {},
   "source": [
    "# Decryption"
   ]
  },
  {
   "cell_type": "code",
   "execution_count": 15,
   "id": "53b4fe91-b61e-4787-a141-0e905205347f",
   "metadata": {
    "tags": []
   },
   "outputs": [
    {
     "name": "stdout",
     "output_type": "stream",
     "text": [
      "b'\\xf8B\\xaf\\xb1h\\x14jX\\x15{\\xd3\\xbas\\xb4dy\\x91k9\\xd61\\xc3b\\xbaks\\x8e\\xed( \\xea6q\\xd5*\\x8c\\xc9\\x896\\xacP\"\\xd6\\xa2\\x90\\x9d\\xc1y&\\x03\\xbb\\x11\\x8e\\xc9\\x12'\n"
     ]
    }
   ],
   "source": [
    "with open(\"./code.txt\", \"rb\") as f:\n",
    "    file_data = f.read()\n",
    "    print(file_data)"
   ]
  },
  {
   "cell_type": "code",
   "execution_count": 16,
   "id": "bece8996-985a-461a-b5f9-8c1bb3bcfc41",
   "metadata": {
    "tags": []
   },
   "outputs": [
    {
     "data": {
      "text/plain": [
       "55"
      ]
     },
     "execution_count": 16,
     "metadata": {},
     "output_type": "execute_result"
    }
   ],
   "source": [
    "file_size = os.path.getsize(\"./code.txt\")\n",
    "file_size"
   ]
  },
  {
   "cell_type": "markdown",
   "id": "0364b59a-1a06-4541-867b-e7b188060155",
   "metadata": {},
   "source": [
    "- ## lets decrypt"
   ]
  },
  {
   "cell_type": "code",
   "execution_count": 17,
   "id": "a1ba6952-8587-4d35-9c84-47cd65d0b7b6",
   "metadata": {
    "tags": []
   },
   "outputs": [
    {
     "data": {
      "text/plain": [
       "b'#\\x84?\\x88\\x0e\\x86\\x1f\\x93I\\x12/)\\x9f\\x06\\x96\\x15M\\xaa\\x07)\\xa8\\r\\x96\\xd7\\xec\\x12\\xdc<\\x8dJz\\x8e'"
      ]
     },
     "execution_count": 17,
     "metadata": {},
     "output_type": "execute_result"
    }
   ],
   "source": [
    "key"
   ]
  },
  {
   "cell_type": "code",
   "execution_count": 18,
   "id": "3001c98a-d9ff-40a4-b811-1eeb49f41499",
   "metadata": {
    "tags": []
   },
   "outputs": [
    {
     "data": {
      "text/plain": [
       "b'\\x91k9\\xd61\\xc3b\\xbaks\\x8e\\xed'"
      ]
     },
     "execution_count": 18,
     "metadata": {},
     "output_type": "execute_result"
    }
   ],
   "source": [
    "nonce"
   ]
  },
  {
   "cell_type": "code",
   "execution_count": 19,
   "id": "55b58f3a-c3eb-4a00-8190-9160c4a69cb7",
   "metadata": {
    "tags": []
   },
   "outputs": [
    {
     "data": {
      "text/plain": [
       "b'\\xacP\"\\xd6\\xa2\\x90\\x9d\\xc1y&\\x03\\xbb\\x11\\x8e\\xc9\\x12'"
      ]
     },
     "execution_count": 19,
     "metadata": {},
     "output_type": "execute_result"
    }
   ],
   "source": [
    "encryptor.tag"
   ]
  },
  {
   "cell_type": "code",
   "execution_count": 20,
   "id": "94f37266-8cda-4ee9-a7e3-49578bd27924",
   "metadata": {
    "tags": []
   },
   "outputs": [],
   "source": [
    "salt = os.urandom(16)\n",
    "nonce = os.urandom(12)\n",
    "password = \"mubeen\"\n",
    "key = generate_key(password, salt)\n",
    "\n",
    "cipher = Cipher(algorithms.AES(key), modes.GCM(nonce, encryptor.tag), backend=default_backend())"
   ]
  },
  {
   "cell_type": "markdown",
   "id": "83012964-fd1d-4126-bb69-eb8abf084fc4",
   "metadata": {},
   "source": [
    "- ## Now this time we use cipher.decryptor()"
   ]
  },
  {
   "cell_type": "code",
   "execution_count": 21,
   "id": "572f84d2-92ef-47a3-b8e2-83bb6a2f5e2a",
   "metadata": {
    "tags": []
   },
   "outputs": [
    {
     "data": {
      "text/plain": [
       "<cryptography.hazmat.primitives.ciphers.base._AEADDecryptionContext at 0x7111f415ff40>"
      ]
     },
     "execution_count": 21,
     "metadata": {},
     "output_type": "execute_result"
    }
   ],
   "source": [
    "decryptor = cipher.decryptor()\n",
    "decryptor"
   ]
  },
  {
   "cell_type": "code",
   "execution_count": 22,
   "id": "1d02b1a5-f167-4bb1-bd53-6cca82badc79",
   "metadata": {
    "tags": []
   },
   "outputs": [
    {
     "name": "stdout",
     "output_type": "stream",
     "text": [
      "file_size 55\n",
      "salt b'\\xf8B\\xaf\\xb1h\\x14jX\\x15{\\xd3\\xbas\\xb4dy'\n",
      "nonce b'\\x91k9\\xd61\\xc3b\\xbaks\\x8e\\xed'\n",
      "encrypted_data b'( \\xea6q\\xd5*\\x8c\\xc9\\x896'\n",
      "tag b'\\xacP\"\\xd6\\xa2\\x90\\x9d\\xc1y&\\x03\\xbb\\x11\\x8e\\xc9\\x12'\n"
     ]
    }
   ],
   "source": [
    "with open(\"./code.txt\", \"rb\") as f:\n",
    "\n",
    "    file_size = os.path.getsize(\"./code.txt\")\n",
    "    salt = f.read(16)\n",
    "    nonce = f.read(12)\n",
    "    encrypted_data = f.read(file_size - 16 - 12 - 16)\n",
    "    tag = f.read(16)\n",
    "\n",
    "    print(\"file_size\", file_size)\n",
    "    print(\"salt\", salt)\n",
    "    print(\"nonce\", nonce)\n",
    "    print(\"encrypted_data\", encrypted_data)\n",
    "    print(\"tag\", tag)"
   ]
  },
  {
   "cell_type": "code",
   "execution_count": 23,
   "id": "7eaac747-740d-4e82-8f25-2ae35d78f090",
   "metadata": {
    "tags": []
   },
   "outputs": [
    {
     "data": {
      "text/plain": [
       "b'#\\x84?\\x88\\x0e\\x86\\x1f\\x93I\\x12/)\\x9f\\x06\\x96\\x15M\\xaa\\x07)\\xa8\\r\\x96\\xd7\\xec\\x12\\xdc<\\x8dJz\\x8e'"
      ]
     },
     "execution_count": 23,
     "metadata": {},
     "output_type": "execute_result"
    }
   ],
   "source": [
    "key = generate_key(password, salt)\n",
    "key"
   ]
  },
  {
   "cell_type": "code",
   "execution_count": 24,
   "id": "c8b995cf-d0aa-4f7f-abb0-8ca8d232c6c9",
   "metadata": {
    "tags": []
   },
   "outputs": [
    {
     "data": {
      "text/plain": [
       "b'123\\n321\\n123'"
      ]
     },
     "execution_count": 24,
     "metadata": {},
     "output_type": "execute_result"
    }
   ],
   "source": [
    "cipher = Cipher(algorithms.AES(key), modes.GCM(nonce, tag), backend=default_backend())\n",
    "decryptor = cipher.decryptor()\n",
    "decrypted_data = decryptor.update(encrypted_data) + decryptor.finalize()\n",
    "decrypted_data"
   ]
  },
  {
   "cell_type": "code",
   "execution_count": 25,
   "id": "d22935a6-c1fd-42e6-8e29-ad810954734a",
   "metadata": {
    "tags": []
   },
   "outputs": [],
   "source": [
    "with open(\"./code.txt\", \"wb\") as f:\n",
    "    f.write(decrypted_data)"
   ]
  },
  {
   "cell_type": "markdown",
   "id": "43eefdb1-282e-400b-b829-7459832e1629",
   "metadata": {},
   "source": [
    "- ## now check the file"
   ]
  },
  {
   "cell_type": "code",
   "execution_count": 26,
   "id": "d09deb37-9446-4553-8601-5a9a418c3b9c",
   "metadata": {
    "tags": []
   },
   "outputs": [
    {
     "name": "stdout",
     "output_type": "stream",
     "text": [
      "123\n",
      "321\n",
      "123"
     ]
    }
   ],
   "source": [
    "!cat ./code.txt"
   ]
  },
  {
   "cell_type": "markdown",
   "id": "209a7374-d631-49dc-a7b1-cf9ad72532e7",
   "metadata": {},
   "source": [
    "# Complete Code"
   ]
  },
  {
   "cell_type": "code",
   "execution_count": 27,
   "id": "04017741-c052-43ec-9bc1-a10e4946cab0",
   "metadata": {
    "tags": []
   },
   "outputs": [],
   "source": [
    "def generate_key(password: str, salt: bytes):\n",
    "    \n",
    "    kdf = PBKDF2HMAC(\n",
    "        algorithm=hashes.SHA256(),\n",
    "        length=32,  # AES-256 requires a 32-byte key\n",
    "        salt=salt,\n",
    "        iterations=100000,\n",
    "        backend=default_backend(),\n",
    "    )\n",
    "    return kdf.derive(password.encode())"
   ]
  },
  {
   "cell_type": "code",
   "execution_count": 28,
   "id": "a85cb1ca-1223-4f21-a507-8ddc4097bfc9",
   "metadata": {
    "tags": []
   },
   "outputs": [],
   "source": [
    "def encrypt(file,password):\n",
    "    \n",
    "    try:\n",
    "        salt = os.urandom(16)\n",
    "        nonce = os.urandom(12)\n",
    "        \n",
    "        with open(file, \"rb\") as f:\n",
    "            file_data = f.read()\n",
    "            \n",
    "        key = generate_key(password, salt)\n",
    "        \n",
    "        cipher = Cipher(\n",
    "            algorithms.AES(key), modes.GCM(nonce), backend=default_backend()\n",
    "        )\n",
    "        \n",
    "        encryptor = cipher.encryptor()\n",
    "        encrypted_data = encryptor.update(file_data) + encryptor.finalize()\n",
    "        \n",
    "        with open(file, \"wb\") as f:\n",
    "            \n",
    "            f.write(salt)  # salt\n",
    "            f.write(nonce)  # nonce\n",
    "            f.write(encrypted_data)  # encrypted data\n",
    "            f.write(encryptor.tag)  # authentication tag for integrity\n",
    "            print(f\"File {file} encrypted successfully\")\n",
    "            \n",
    "    except Exception as e:\n",
    "        print(f\"Error during encryption of {file}: {e}\")"
   ]
  },
  {
   "cell_type": "code",
   "execution_count": 29,
   "id": "1e8cf795-98fb-42db-828c-4172a707fcc9",
   "metadata": {
    "tags": []
   },
   "outputs": [],
   "source": [
    "def decrypt(file, password):\n",
    "    \n",
    "    try:\n",
    "        with open(file, \"rb\") as f:\n",
    "            \n",
    "            file_size = os.path.getsize(file)\n",
    "            \n",
    "            if file_size < 44:  # 16 bytes salt + 12 bytes nonce + 16 bytes tag\n",
    "                raise ValueError(\n",
    "                    f\"File {file} is too small to be a valid encrypted file.\"\n",
    "                )\n",
    "\n",
    "            salt = f.read(16)\n",
    "            nonce = f.read(12)\n",
    "\n",
    "            # Now, read the encrypted data (all remaining data before the last 16 bytes which is the tag)\n",
    "            encrypted_data = f.read(\n",
    "                file_size - 16 - 12 - 16\n",
    "            )  # Subtract salt, nonce, and tag lengths\n",
    "\n",
    "            # Read the tag (last 16 bytes of the file)\n",
    "            tag = f.read(16)\n",
    "\n",
    "        # Check if the encrypted data or tag are empty\n",
    "        if len(encrypted_data) <= 0 or len(tag) != 16:\n",
    "            raise ValueError(\n",
    "                f\"Encrypted data or authentication tag in {file} is missing or corrupted.\"\n",
    "            )\n",
    "\n",
    "        key = generate_key(password, salt)\n",
    "\n",
    "        cipher = Cipher(\n",
    "            algorithms.AES(key), modes.GCM(nonce, tag), backend=default_backend()\n",
    "        )\n",
    "        decryptor = cipher.decryptor()\n",
    "\n",
    "        decrypted_data = decryptor.update(encrypted_data) + decryptor.finalize()\n",
    "\n",
    "        with open(file, \"wb\") as f:\n",
    "            f.write(decrypted_data)  # Overwrite the file with decrypted data\n",
    "\n",
    "        print(f\"File {file} decrypted successfully\")\n",
    "\n",
    "    except Exception as e:\n",
    "        print(f\"Error during decryption of {file}: {e}\")"
   ]
  },
  {
   "cell_type": "code",
   "execution_count": 30,
   "id": "e001acc8-2eb4-4f00-9d1f-69f70ded2d4b",
   "metadata": {
    "tags": []
   },
   "outputs": [],
   "source": [
    "def encrypt_folder(folder_path, password):\n",
    "    for root, dirs, files in os.walk(folder_path):\n",
    "        for file in files:\n",
    "            file_path = os.path.join(root, file)\n",
    "            encrypt(file_path, password)\n",
    "\n",
    "\n",
    "def decrypt_folder(folder_path, password):\n",
    "    for root, dirs, files in os.walk(folder_path):\n",
    "        for file in files:\n",
    "            file_path = os.path.join(root, file)\n",
    "            decrypt(file_path, password)"
   ]
  },
  {
   "cell_type": "markdown",
   "id": "0e2a22ca-a738-461f-9af2-d32bb9edae90",
   "metadata": {},
   "source": [
    "# Generate random folders and files"
   ]
  },
  {
   "cell_type": "code",
   "execution_count": 31,
   "id": "6b2470e5-9f6e-40c6-b346-a57cca28e5d1",
   "metadata": {
    "tags": []
   },
   "outputs": [],
   "source": [
    "os.mkdir('data')"
   ]
  },
  {
   "cell_type": "code",
   "execution_count": 32,
   "id": "51117880-030f-47eb-a48a-ea8337ede314",
   "metadata": {
    "tags": []
   },
   "outputs": [],
   "source": [
    "import random"
   ]
  },
  {
   "cell_type": "code",
   "execution_count": 33,
   "id": "a7c06c4f-8e13-4126-98da-96d13dc78557",
   "metadata": {
    "tags": []
   },
   "outputs": [],
   "source": [
    "def gen(n):\n",
    "    letters = [chr(i) for i in range(97,123)]\n",
    "    word = \"\"\n",
    "    for i in range(n) :\n",
    "        word += random.choice(letters)\n",
    "    return word.capitalize()"
   ]
  },
  {
   "cell_type": "code",
   "execution_count": 34,
   "id": "e0fca24e-9d05-41cb-9584-a3e1f5397fdb",
   "metadata": {
    "tags": []
   },
   "outputs": [],
   "source": [
    "for directory in range(3):\n",
    "    x = f\"data/{gen(8)}\"\n",
    "    os.makedirs(x)\n",
    "    for inner in range(2):\n",
    "        os.makedirs(os.path.join(x,gen(3)))"
   ]
  },
  {
   "cell_type": "code",
   "execution_count": 35,
   "id": "63c7f7ab-d233-484a-a8bb-1ee963ff3fc7",
   "metadata": {
    "tags": []
   },
   "outputs": [],
   "source": [
    "for d,_,f in os.walk(\"./data\"):\n",
    "    for i in range(2):        \n",
    "        with open(d+\"/\"+gen(3)+\".txt\",\"w+\") as file:\n",
    "            file.write(gen(4))"
   ]
  },
  {
   "cell_type": "code",
   "execution_count": 36,
   "id": "75ada931-7b09-470d-a2a9-a7b0b4cafc66",
   "metadata": {
    "tags": []
   },
   "outputs": [
    {
     "name": "stdout",
     "output_type": "stream",
     "text": [
      "\u001b[01;34m./data\u001b[0m\n",
      "├── Cmh.txt\n",
      "├── Exm.txt\n",
      "├── \u001b[01;34mIaslzzmq\u001b[0m\n",
      "│   ├── \u001b[01;34mCzh\u001b[0m\n",
      "│   │   ├── Raj.txt\n",
      "│   │   └── Siq.txt\n",
      "│   ├── Kri.txt\n",
      "│   ├── Nyt.txt\n",
      "│   └── \u001b[01;34mWfk\u001b[0m\n",
      "│       ├── Iiu.txt\n",
      "│       └── Owl.txt\n",
      "├── \u001b[01;34mKlutuaus\u001b[0m\n",
      "│   ├── \u001b[01;34mBbc\u001b[0m\n",
      "│   │   ├── Eag.txt\n",
      "│   │   └── Ipa.txt\n",
      "│   ├── Ezm.txt\n",
      "│   ├── \u001b[01;34mJof\u001b[0m\n",
      "│   │   ├── Hlf.txt\n",
      "│   │   └── Iuz.txt\n",
      "│   └── Ljp.txt\n",
      "└── \u001b[01;34mMvbgktli\u001b[0m\n",
      "    ├── \u001b[01;34mHtp\u001b[0m\n",
      "    │   ├── Ggc.txt\n",
      "    │   └── Qmh.txt\n",
      "    ├── Mdk.txt\n",
      "    ├── \u001b[01;34mQbt\u001b[0m\n",
      "    │   ├── Beo.txt\n",
      "    │   └── Ceu.txt\n",
      "    └── Sxs.txt\n",
      "\n",
      "9 directories, 20 files\n"
     ]
    }
   ],
   "source": [
    "!tree ./data"
   ]
  },
  {
   "cell_type": "code",
   "execution_count": 38,
   "id": "b115199d-685e-4bfd-9d25-4e8e1ac82482",
   "metadata": {
    "tags": []
   },
   "outputs": [
    {
     "name": "stdout",
     "output_type": "stream",
     "text": [
      "Rwnt"
     ]
    }
   ],
   "source": [
    "# check 1 file\n",
    "!cat ./data/Mvbgktli/Htp/Ggc.txt"
   ]
  },
  {
   "cell_type": "code",
   "execution_count": 39,
   "id": "4ef53080-684d-4e96-b13d-007f01f74f4b",
   "metadata": {
    "tags": []
   },
   "outputs": [
    {
     "name": "stdout",
     "output_type": "stream",
     "text": [
      "File ./data/Cmh.txt encrypted successfully\n",
      "File ./data/Exm.txt encrypted successfully\n",
      "File ./data/Iaslzzmq/Nyt.txt encrypted successfully\n",
      "File ./data/Iaslzzmq/Kri.txt encrypted successfully\n",
      "File ./data/Iaslzzmq/Czh/Siq.txt encrypted successfully\n",
      "File ./data/Iaslzzmq/Czh/Raj.txt encrypted successfully\n",
      "File ./data/Iaslzzmq/Wfk/Owl.txt encrypted successfully\n",
      "File ./data/Iaslzzmq/Wfk/Iiu.txt encrypted successfully\n",
      "File ./data/Mvbgktli/Sxs.txt encrypted successfully\n",
      "File ./data/Mvbgktli/Mdk.txt encrypted successfully\n",
      "File ./data/Mvbgktli/Qbt/Ceu.txt encrypted successfully\n",
      "File ./data/Mvbgktli/Qbt/Beo.txt encrypted successfully\n",
      "File ./data/Mvbgktli/Htp/Qmh.txt encrypted successfully\n",
      "File ./data/Mvbgktli/Htp/Ggc.txt encrypted successfully\n",
      "File ./data/Klutuaus/Ezm.txt encrypted successfully\n",
      "File ./data/Klutuaus/Ljp.txt encrypted successfully\n",
      "File ./data/Klutuaus/Bbc/Eag.txt encrypted successfully\n",
      "File ./data/Klutuaus/Bbc/Ipa.txt encrypted successfully\n",
      "File ./data/Klutuaus/Jof/Iuz.txt encrypted successfully\n",
      "File ./data/Klutuaus/Jof/Hlf.txt encrypted successfully\n"
     ]
    }
   ],
   "source": [
    "# now encrypt it\n",
    "encrypt_folder(folder_path=\"./data\",password=\"mubeen\")"
   ]
  },
  {
   "cell_type": "code",
   "execution_count": 41,
   "id": "bb63aa3a-c910-44a0-9152-4b89bc6bb307",
   "metadata": {
    "tags": []
   },
   "outputs": [
    {
     "name": "stdout",
     "output_type": "stream",
     "text": [
      "���v\n",
      "s\u00036�'�T�iy_\u000f�Vw���\u000f؀\u001b\u000b",
      "H?�zg���Mw�`.�3��W&�"
     ]
    }
   ],
   "source": [
    "# check file again\n",
    "!cat ./data/Klutuaus/Jof/Hlf.txt"
   ]
  },
  {
   "cell_type": "code",
   "execution_count": 42,
   "id": "9cc17a20-763f-40c3-a149-f1fd0a2cb329",
   "metadata": {
    "tags": []
   },
   "outputs": [
    {
     "name": "stdout",
     "output_type": "stream",
     "text": [
      "File ./data/Cmh.txt decrypted successfully\n",
      "File ./data/Exm.txt decrypted successfully\n",
      "File ./data/Iaslzzmq/Nyt.txt decrypted successfully\n",
      "File ./data/Iaslzzmq/Kri.txt decrypted successfully\n",
      "File ./data/Iaslzzmq/Czh/Siq.txt decrypted successfully\n",
      "File ./data/Iaslzzmq/Czh/Raj.txt decrypted successfully\n",
      "File ./data/Iaslzzmq/Wfk/Owl.txt decrypted successfully\n",
      "File ./data/Iaslzzmq/Wfk/Iiu.txt decrypted successfully\n",
      "File ./data/Mvbgktli/Sxs.txt decrypted successfully\n",
      "File ./data/Mvbgktli/Mdk.txt decrypted successfully\n",
      "File ./data/Mvbgktli/Qbt/Ceu.txt decrypted successfully\n",
      "File ./data/Mvbgktli/Qbt/Beo.txt decrypted successfully\n",
      "File ./data/Mvbgktli/Htp/Qmh.txt decrypted successfully\n",
      "File ./data/Mvbgktli/Htp/Ggc.txt decrypted successfully\n",
      "File ./data/Klutuaus/Ezm.txt decrypted successfully\n",
      "File ./data/Klutuaus/Ljp.txt decrypted successfully\n",
      "File ./data/Klutuaus/Bbc/Eag.txt decrypted successfully\n",
      "File ./data/Klutuaus/Bbc/Ipa.txt decrypted successfully\n",
      "File ./data/Klutuaus/Jof/Iuz.txt decrypted successfully\n",
      "File ./data/Klutuaus/Jof/Hlf.txt decrypted successfully\n"
     ]
    }
   ],
   "source": [
    "# lets decrypt with password\n",
    "decrypt_folder(folder_path='./data',password=\"mubeen\")"
   ]
  },
  {
   "cell_type": "code",
   "execution_count": 43,
   "id": "bf436f85-1d43-4ee6-beb0-c35e320acb9d",
   "metadata": {
    "tags": []
   },
   "outputs": [
    {
     "name": "stdout",
     "output_type": "stream",
     "text": [
      "Jvfv"
     ]
    }
   ],
   "source": [
    "# check file again\n",
    "!cat ./data/Klutuaus/Jof/Hlf.txt"
   ]
  },
  {
   "cell_type": "markdown",
   "id": "afd085ea-e615-4030-9e8c-6d71db952629",
   "metadata": {},
   "source": [
    "# Try on Large Data"
   ]
  },
  {
   "cell_type": "code",
   "execution_count": 44,
   "id": "eb12171a-4b6b-48f7-8f41-4918712de143",
   "metadata": {
    "tags": []
   },
   "outputs": [
    {
     "name": "stdout",
     "output_type": "stream",
     "text": [
      "File /home/mubeen/Videos/test/passwords.txt encrypted successfully\n",
      "File /home/mubeen/Videos/test/fastapi.mp4 encrypted successfully\n"
     ]
    }
   ],
   "source": [
    "encrypt_folder(\"/home/mubeen/Videos/test\",\"mubeen\")"
   ]
  },
  {
   "cell_type": "code",
   "execution_count": 45,
   "id": "81fc6546-4351-4d47-88f0-5cced2da6cb3",
   "metadata": {
    "tags": []
   },
   "outputs": [
    {
     "name": "stdout",
     "output_type": "stream",
     "text": [
      "File /home/mubeen/Videos/test/passwords.txt decrypted successfully\n",
      "File /home/mubeen/Videos/test/fastapi.mp4 decrypted successfully\n"
     ]
    }
   ],
   "source": [
    "decrypt_folder(\"/home/mubeen/Videos/test\",\"mubeen\")"
   ]
  }
 ],
 "metadata": {
  "kernelspec": {
   "display_name": "Python 3 (ipykernel)",
   "language": "python",
   "name": "python3"
  },
  "language_info": {
   "codemirror_mode": {
    "name": "ipython",
    "version": 3
   },
   "file_extension": ".py",
   "mimetype": "text/x-python",
   "name": "python",
   "nbconvert_exporter": "python",
   "pygments_lexer": "ipython3",
   "version": "3.10.12"
  },
  "toc-showtags": false
 },
 "nbformat": 4,
 "nbformat_minor": 5
}

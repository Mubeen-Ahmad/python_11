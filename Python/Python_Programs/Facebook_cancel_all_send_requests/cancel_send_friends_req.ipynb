{
 "cells": [
  {
   "cell_type": "code",
   "execution_count": 175,
   "id": "ce871061-1877-4a1b-b8ff-d98020b499c1",
   "metadata": {},
   "outputs": [],
   "source": [
    "import http.cookiejar\n",
    "import json\n",
    "import re\n",
    "from http.cookiejar import MozillaCookieJar\n",
    "\n",
    "import requests\n",
    "from bs4 import BeautifulSoup"
   ]
  },
  {
   "cell_type": "code",
   "execution_count": 2,
   "id": "b9bb2a59-a05e-4b7a-b81b-2f04089ad987",
   "metadata": {},
   "outputs": [],
   "source": [
    "path = \"../cookie.json\""
   ]
  },
  {
   "cell_type": "code",
   "execution_count": 3,
   "id": "d6071767-f037-4019-be08-2a45af8a404b",
   "metadata": {},
   "outputs": [],
   "source": [
    "def load_cookies_json(path):\n",
    "    cookie_jar = MozillaCookieJar()\n",
    "\n",
    "    with open(path) as f:\n",
    "        file = json.loads(f.read())\n",
    "\n",
    "    for cookie in file:\n",
    "\n",
    "        if cookie.get(\"expirationDate\") != None:\n",
    "            exp = str(cookie.get(\"expirationDate\", \"\"))\n",
    "\n",
    "        elif cookie.get(\"expiry\") != None:\n",
    "            exp = str(cookie.get(\"expiry\", \"\"))\n",
    "\n",
    "        c = http.cookiejar.Cookie(\n",
    "            version=0,\n",
    "            name=cookie.get(\"name\", \"\"),\n",
    "            value=cookie.get(\"value\", \"\"),\n",
    "            port=None,\n",
    "            port_specified=False,\n",
    "            domain=cookie.get(\"domain\", \"\"),\n",
    "            domain_specified=True,\n",
    "            domain_initial_dot=False,\n",
    "            path=cookie.get(\"path\", \"\"),\n",
    "            path_specified=True,\n",
    "            secure=False,\n",
    "            expires=exp,\n",
    "            discard=False,\n",
    "            comment=None,\n",
    "            comment_url=None,\n",
    "            rest=\"\",\n",
    "        )\n",
    "\n",
    "        cookie_jar.set_cookie(c)\n",
    "\n",
    "    return cookie_jar"
   ]
  },
  {
   "cell_type": "code",
   "execution_count": 32,
   "id": "af34a4a2-fc23-4570-b3c5-5dc82912e400",
   "metadata": {},
   "outputs": [],
   "source": [
    "def searcher(link):\n",
    "    header = {\n",
    "        \"Accept-Language\": \"en-US,en;q=0.5\",\n",
    "        \"User-Agent\": \"Mozilla/5.0 (Windows NT 10.0; rv:78.0) Gecko/20100101 Firefox/78.0\",\n",
    "    }\n",
    "    session.headers = header\n",
    "    data = session.get(link)\n",
    "    soup = BeautifulSoup(data.content, \"html.parser\")\n",
    "    return soup"
   ]
  },
  {
   "cell_type": "markdown",
   "id": "923e3e39-8c38-442b-8e05-d7a955e74ea7",
   "metadata": {},
   "source": [
    "# login Facebook"
   ]
  },
  {
   "cell_type": "code",
   "execution_count": 5,
   "id": "8457e7d9-be34-46bc-b6ea-ab52cfb969ba",
   "metadata": {},
   "outputs": [],
   "source": [
    "session = requests.Session()\n",
    "session.cookies = load_cookies_json(path)"
   ]
  },
  {
   "cell_type": "markdown",
   "id": "90c5dc23-0676-4e1d-8882-3fe0c7a8a14a",
   "metadata": {},
   "source": [
    "# user_id , Name"
   ]
  },
  {
   "cell_type": "code",
   "execution_count": 12,
   "id": "22dca00b-664e-4070-9321-5014cec5e2db",
   "metadata": {},
   "outputs": [
    {
     "name": "stdout",
     "output_type": "stream",
     "text": [
      "{'username': 'SWEETERROR404', 'uid': '100004486669038', 'name': 'Mubeen Ahmad'}\n"
     ]
    }
   ],
   "source": [
    "response = searcher(\"https://www.facebook.com/profile.php\")\n",
    "data = {}\n",
    "\n",
    "t = re.compile(r\"USER_ID.+?SHORT_NAME\").search(str(response)).group(0)\n",
    "USER_ID, NAME = t.replace('\"', \"\").replace(\",SHORT_NAME\", \"\").split(\",\")\n",
    "USER_ID = USER_ID.split(\":\")[-1]\n",
    "NAME = NAME.split(\":\")[-1]\n",
    "\n",
    "data[\"username\"] = (\n",
    "    re.search(\"userVanity.+?,\", str(response))\n",
    "    .group(0)\n",
    "    .replace('\"', \"\")\n",
    "    .replace(\",\", \"\")\n",
    "    .split(\":\")[-1]\n",
    ")\n",
    "data[\"uid\"] = USER_ID\n",
    "data[\"name\"] = NAME\n",
    "print(data)"
   ]
  },
  {
   "cell_type": "markdown",
   "id": "8cbe6fa0-3a95-43f6-88f1-713eacfb8e5e",
   "metadata": {},
   "source": [
    "# Extract accounts"
   ]
  },
  {
   "cell_type": "code",
   "execution_count": 227,
   "id": "eb9c6551-fb68-4367-b306-3181b49c1f8d",
   "metadata": {
    "tags": []
   },
   "outputs": [],
   "source": [
    "link = [\"https://mbasic.facebook.com/friends/center/requests/outgoing/\"]\n",
    "uids = []\n",
    "for i in link:\n",
    "    try:\n",
    "        res = searcher(i)\n",
    "        see_more = 'https://mbasic.facebook.com'+re.search('href=\"/friends/center/requests/outgoing/.+?\"',str(res)).group(0).replace('\"','').replace('&amp;','').replace('href=','')\n",
    "        uid = re.findall('uid=(.+?)&amp;',str(res))\n",
    "        if len(uid) == 0:\n",
    "            break\n",
    "        uids.extend(uid)\n",
    "        link.append(see_more)\n",
    "        \n",
    "    except:\n",
    "        print(\"Link Complete\")\n"
   ]
  },
  {
   "cell_type": "code",
   "execution_count": 228,
   "id": "c3f94900-6615-406c-b47c-67e02eed1824",
   "metadata": {
    "tags": []
   },
   "outputs": [
    {
     "name": "stdout",
     "output_type": "stream",
     "text": [
      "total accounts 345\n"
     ]
    }
   ],
   "source": [
    "print('total accounts',len(uids))"
   ]
  },
  {
   "cell_type": "markdown",
   "id": "b93cae1c-225c-42a4-a7ad-5a99747c72a7",
   "metadata": {},
   "source": [
    "# create params"
   ]
  },
  {
   "cell_type": "code",
   "execution_count": 229,
   "id": "7c06f984-c994-4e99-96ee-c567fe89bc51",
   "metadata": {
    "tags": []
   },
   "outputs": [],
   "source": [
    "import concurrent.futures\n",
    "\n",
    "params = {}\n",
    "\n",
    "def uids_params(uid):\n",
    "    res = searcher(\"https://mbasic.facebook.com/\"+uid)\n",
    "    pr = dict(i.split('=') for i in re.search('subject_id.+?\"',str(res)).group(0).replace('\"','').replace('cancel/?','').split('&amp;'))\n",
    "    params[pr['subject_id']] = pr\n",
    "\n",
    "def process_links(links):\n",
    "    with concurrent.futures.ThreadPoolExecutor() as executor:\n",
    "        executor.map(uids_params, links)\n",
    "\n",
    "process_links(uids)"
   ]
  },
  {
   "cell_type": "code",
   "execution_count": 230,
   "id": "5527f591-4de4-485d-a73a-e0283919babe",
   "metadata": {
    "tags": []
   },
   "outputs": [
    {
     "data": {
      "text/plain": [
       "344"
      ]
     },
     "execution_count": 230,
     "metadata": {},
     "output_type": "execute_result"
    }
   ],
   "source": [
    "len(params)"
   ]
  },
  {
   "cell_type": "markdown",
   "id": "d413835b-8f9b-4dd9-86d2-ac5f0727e8e1",
   "metadata": {},
   "source": [
    "# cancel all send requests"
   ]
  },
  {
   "cell_type": "code",
   "execution_count": 234,
   "id": "d8809e1d-d23f-45cd-babd-771369770163",
   "metadata": {
    "tags": []
   },
   "outputs": [],
   "source": [
    "def cancel_request(p):\n",
    "    session.get('https://mbasic.facebook.com/a/friendrequest/cancel/', \n",
    "                params=p)\n",
    "    \n",
    "def process_links(links):\n",
    "    with concurrent.futures.ThreadPoolExecutor() as executor:\n",
    "        executor.map(cancel_request, links)\n",
    "\n",
    "process_links(list(params.values()))"
   ]
  }
 ],
 "metadata": {
  "kernelspec": {
   "display_name": "Python 3 (ipykernel)",
   "language": "python",
   "name": "python3"
  },
  "language_info": {
   "codemirror_mode": {
    "name": "ipython",
    "version": 3
   },
   "file_extension": ".py",
   "mimetype": "text/x-python",
   "name": "python",
   "nbconvert_exporter": "python",
   "pygments_lexer": "ipython3",
   "version": "3.10.12"
  }
 },
 "nbformat": 4,
 "nbformat_minor": 5
}

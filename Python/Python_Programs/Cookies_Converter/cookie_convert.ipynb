{
 "cells": [
  {
   "cell_type": "code",
   "execution_count": 2,
   "id": "265ea9e9",
   "metadata": {},
   "outputs": [],
   "source": [
    "import json\n",
    "import os\n",
    "import pickle\n",
    "import http.cookiejar\n",
    "from http.cookiejar import MozillaCookieJar"
   ]
  },
  {
   "cell_type": "markdown",
   "id": "9904356a",
   "metadata": {},
   "source": [
    "# Json to Netscape"
   ]
  },
  {
   "cell_type": "code",
   "execution_count": 5,
   "id": "9237c477",
   "metadata": {},
   "outputs": [],
   "source": [
    "class Json_to_Netscape:\n",
    "\n",
    "    def __init__(self,path):\n",
    "        self.path = path\n",
    "\n",
    "\n",
    "        if os.path.exists(self.path):\n",
    "            self.verify()\n",
    "        else:\n",
    "            print(\"Path Error\")\n",
    "\n",
    "    def load(self,file):\n",
    "\n",
    "        save_jar = MozillaCookieJar()\n",
    "\n",
    "        for cookie in file:\n",
    "\n",
    "            if cookie.get(\"expirationDate\") != None:\n",
    "                exp = str(cookie.get(\"expirationDate\",\"\"))\n",
    "\n",
    "            elif cookie.get(\"expiry\") != None:\n",
    "                exp = str(cookie.get(\"expiry\",\"\"))\n",
    "\n",
    "\n",
    "            c = http.cookiejar.Cookie(\n",
    "                version=0, name=cookie.get('name', ''), value=cookie.get('value', ''),\n",
    "                port=None, port_specified=False, domain=cookie.get('domain', ''),\n",
    "                domain_specified=True, domain_initial_dot=False, path=cookie.get('path', ''),\n",
    "                path_specified=True, secure=False, expires=exp, discard=False, comment=None,\n",
    "                comment_url=None, rest=\"\"\n",
    "            )\n",
    "            save_jar.set_cookie(c)\n",
    "\n",
    "        save_jar.save(\"netscape_cookie.txt\",ignore_discard=True,ignore_expires=True)\n",
    "\n",
    "    def verify(self):\n",
    "\n",
    "        try:\n",
    "            with open(self.path, 'rb') as f:\n",
    "                file = pickle.load(f)\n",
    "                self.load(file)\n",
    "\n",
    "        except pickle.UnpicklingError:\n",
    "\n",
    "            with open(self.path, 'r') as file:\n",
    "                try:\n",
    "                    json_data = json.load(file)\n",
    "                    self.load(json_data)\n",
    "\n",
    "                except json.JSONDecodeError as e:\n",
    "                    print(\"File is not a valid JSON / PICKLE file. Error:\", e)\n"
   ]
  },
  {
   "cell_type": "markdown",
   "id": "245b6653",
   "metadata": {},
   "source": [
    "# Netscape to Json / Pickle"
   ]
  },
  {
   "cell_type": "code",
   "execution_count": 6,
   "id": "986d1b86",
   "metadata": {},
   "outputs": [],
   "source": [
    "class Netscape_to_Json:\n",
    "\n",
    "    def __init__(self, path):\n",
    "        self.path = path\n",
    "\n",
    "        if os.path.exists(self.path):\n",
    "            self.cj()\n",
    "\n",
    "        else:\n",
    "            print(\"Path Error\")\n",
    "\n",
    "    def pickle(self,cookie):\n",
    "        with open(\"pickle_cookie.pkl\",\"wb\") as f:\n",
    "            pickle.dump(cookie,f)\n",
    "\n",
    "    def JSon(self,cookie):\n",
    "        with open(\"Json_cookie.json\",\"w\") as f:\n",
    "            json.dump(cookie,f)\n",
    "\n",
    "    def cj(self):\n",
    "\n",
    "        cookie_jar = http.cookiejar.MozillaCookieJar()\n",
    "        cookie_jar.load(self.path, ignore_discard=True)\n",
    "\n",
    "        js = []\n",
    "\n",
    "        for cookie in cookie_jar:\n",
    "            cookie_dict = cookie.__dict__\n",
    "            cookie_dict.pop('_rest', None)\n",
    "            js.append(cookie_dict)\n",
    "\n",
    "        while True:\n",
    "            print(\"Save in Json or Pickle ?\")\n",
    "            user = input(\"Press J / P \\t\").lower()\n",
    "            if user == \"j\" or user == \"p\":\n",
    "                if user == \"p\":\n",
    "                    self.pickle(js)\n",
    "                    break\n",
    "\n",
    "                elif user == \"j\":\n",
    "                    self.JSon(js)\n",
    "                    break\n",
    "            else:\n",
    "                print(\"Invalid Input\")\n"
   ]
  },
  {
   "cell_type": "markdown",
   "id": "5c796954",
   "metadata": {},
   "source": [
    "# NetScape ---> JSON"
   ]
  },
  {
   "cell_type": "code",
   "execution_count": 4,
   "id": "4ebc27cb",
   "metadata": {},
   "outputs": [
    {
     "name": "stdout",
     "output_type": "stream",
     "text": [
      "Save in Json or Pickle ?\n",
      "Press J / P \tJ\n"
     ]
    },
    {
     "data": {
      "text/plain": [
       "<__main__.Netscape_to_Json at 0x7f7a10dd1750>"
      ]
     },
     "execution_count": 4,
     "metadata": {},
     "output_type": "execute_result"
    }
   ],
   "source": [
    "Netscape_to_Json(\"../../../../cookies_in_netscape.txt\")"
   ]
  },
  {
   "cell_type": "code",
   "execution_count": 5,
   "id": "5a3066a2",
   "metadata": {},
   "outputs": [
    {
     "name": "stdout",
     "output_type": "stream",
     "text": [
      "cookie_convert.ipynb  Json_cookie.json\r\n"
     ]
    }
   ],
   "source": [
    "!ls"
   ]
  },
  {
   "cell_type": "markdown",
   "id": "55c5ee86",
   "metadata": {},
   "source": [
    "# NetScape ---> Pickle"
   ]
  },
  {
   "cell_type": "code",
   "execution_count": 6,
   "id": "41805514",
   "metadata": {},
   "outputs": [
    {
     "name": "stdout",
     "output_type": "stream",
     "text": [
      "Save in Json or Pickle ?\n",
      "Press J / P \tp\n"
     ]
    },
    {
     "data": {
      "text/plain": [
       "<__main__.Netscape_to_Json at 0x7f7a10dd1000>"
      ]
     },
     "execution_count": 6,
     "metadata": {},
     "output_type": "execute_result"
    }
   ],
   "source": [
    "Netscape_to_Json(\"../../../../cookies_in_netscape.txt\")"
   ]
  },
  {
   "cell_type": "code",
   "execution_count": 7,
   "id": "3532820a",
   "metadata": {},
   "outputs": [
    {
     "name": "stdout",
     "output_type": "stream",
     "text": [
      "cookie_convert.ipynb  Json_cookie.json\tpickle_cookie.pkl\r\n"
     ]
    }
   ],
   "source": [
    "!ls"
   ]
  },
  {
   "cell_type": "markdown",
   "id": "11b6adde",
   "metadata": {},
   "source": [
    "# JSON ---> Netscape"
   ]
  },
  {
   "cell_type": "markdown",
   "id": "6e6d9651",
   "metadata": {},
   "source": [
    "### file should be json or packle format "
   ]
  },
  {
   "cell_type": "code",
   "execution_count": 8,
   "id": "b9018bf3",
   "metadata": {},
   "outputs": [
    {
     "data": {
      "text/plain": [
       "<__main__.Json_to_Netscape at 0x7f7a1027b250>"
      ]
     },
     "execution_count": 8,
     "metadata": {},
     "output_type": "execute_result"
    }
   ],
   "source": [
    "# json file\n",
    "Json_to_Netscape(\"./Json_cookie.json\")"
   ]
  },
  {
   "cell_type": "code",
   "execution_count": 9,
   "id": "2d019d31",
   "metadata": {},
   "outputs": [
    {
     "name": "stdout",
     "output_type": "stream",
     "text": [
      "cookie_convert.ipynb  Json_cookie.json\tnetscape_cookie.txt  pickle_cookie.pkl\r\n"
     ]
    }
   ],
   "source": [
    "!ls"
   ]
  },
  {
   "cell_type": "code",
   "execution_count": 10,
   "id": "a49e3364",
   "metadata": {},
   "outputs": [
    {
     "name": "stdout",
     "output_type": "stream",
     "text": [
      "cookie_convert.ipynb  Json_cookie.json\tpickle_cookie.pkl\r\n"
     ]
    }
   ],
   "source": [
    "# remove netscape_cookie.txt\n",
    "!rm netscape_cookie.txt\n",
    "!ls"
   ]
  },
  {
   "cell_type": "code",
   "execution_count": 11,
   "id": "ea2b3bb0",
   "metadata": {},
   "outputs": [
    {
     "data": {
      "text/plain": [
       "<__main__.Json_to_Netscape at 0x7f7a1020d540>"
      ]
     },
     "execution_count": 11,
     "metadata": {},
     "output_type": "execute_result"
    }
   ],
   "source": [
    "# pickle (json format) file\n",
    "Json_to_Netscape(\"./pickle_cookie.pkl\")"
   ]
  },
  {
   "cell_type": "code",
   "execution_count": 12,
   "id": "25105ae1",
   "metadata": {},
   "outputs": [
    {
     "name": "stdout",
     "output_type": "stream",
     "text": [
      "cookie_convert.ipynb  Json_cookie.json\tnetscape_cookie.txt  pickle_cookie.pkl\r\n"
     ]
    }
   ],
   "source": [
    "!ls"
   ]
  },
  {
   "cell_type": "code",
   "execution_count": 13,
   "id": "38fe72ca",
   "metadata": {},
   "outputs": [],
   "source": [
    "!rm Json_cookie.json netscape_cookie.txt pickle_cookie.pkl"
   ]
  }
 ],
 "metadata": {
  "kernelspec": {
   "display_name": "Python 3 (ipykernel)",
   "language": "python",
   "name": "python3"
  },
  "language_info": {
   "codemirror_mode": {
    "name": "ipython",
    "version": 3
   },
   "file_extension": ".py",
   "mimetype": "text/x-python",
   "name": "python",
   "nbconvert_exporter": "python",
   "pygments_lexer": "ipython3",
   "version": "3.10.12"
  }
 },
 "nbformat": 4,
 "nbformat_minor": 5
}

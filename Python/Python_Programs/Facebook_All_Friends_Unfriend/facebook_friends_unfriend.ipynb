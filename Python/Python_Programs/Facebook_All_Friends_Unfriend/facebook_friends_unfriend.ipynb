{
 "cells": [
  {
   "cell_type": "code",
   "execution_count": 1,
   "id": "cf77bbe0-5d9d-4245-a483-1ad72eaf3e45",
   "metadata": {
    "tags": []
   },
   "outputs": [],
   "source": [
    "import http.cookiejar\n",
    "import json\n",
    "import os\n",
    "import re\n",
    "\n",
    "import requests\n",
    "from bs4 import BeautifulSoup"
   ]
  },
  {
   "cell_type": "code",
   "execution_count": 2,
   "id": "8fbb81cc-df6d-47fc-bc46-a50a2f7277d3",
   "metadata": {
    "tags": []
   },
   "outputs": [],
   "source": [
    "def load_cookies_json(path):\n",
    "\n",
    "    cookie_jar = http.cookiejar.MozillaCookieJar()\n",
    "    with open(path) as f:\n",
    "        file = json.loads(f.read())\n",
    "\n",
    "    for cookie in file:\n",
    "\n",
    "        if cookie.get(\"expirationDate\") != None:\n",
    "            exp = str(cookie.get(\"expirationDate\", \"\"))\n",
    "\n",
    "        elif cookie.get(\"expiry\") != None:\n",
    "            exp = str(cookie.get(\"expiry\", \"\"))\n",
    "\n",
    "        c = http.cookiejar.Cookie(\n",
    "            version=0,\n",
    "            name=cookie.get(\"name\", \"\"),\n",
    "            value=cookie.get(\"value\", \"\"),\n",
    "            port=None,\n",
    "            port_specified=False,\n",
    "            domain=cookie.get(\"domain\", \"\"),\n",
    "            domain_specified=True,\n",
    "            domain_initial_dot=False,\n",
    "            path=cookie.get(\"path\", \"\"),\n",
    "            path_specified=True,\n",
    "            secure=False,\n",
    "            expires=exp,\n",
    "            discard=False,\n",
    "            comment=None,\n",
    "            comment_url=None,\n",
    "            rest=\"\",\n",
    "        )\n",
    "\n",
    "        cookie_jar.set_cookie(c)\n",
    "\n",
    "    return cookie_jar"
   ]
  },
  {
   "cell_type": "code",
   "execution_count": 3,
   "id": "2beb52d6-4d5b-4612-b4c9-d4788157d4fc",
   "metadata": {
    "tags": []
   },
   "outputs": [],
   "source": [
    "def searcher(link):\n",
    "    header = {\n",
    "        \"Accept-Language\": \"en-US,en;q=0.5\",\n",
    "        \"User-Agent\": \"Mozilla/5.0 (Windows NT 10.0; rv:78.0) Gecko/20100101 Firefox/78.0\",\n",
    "    }\n",
    "    session.headers = header\n",
    "    data = session.get(link)\n",
    "    soup = BeautifulSoup(data.content, \"html.parser\")\n",
    "    return soup"
   ]
  },
  {
   "cell_type": "markdown",
   "id": "7bade916-a65c-4170-97c8-e5d47148cca5",
   "metadata": {},
   "source": [
    "# Load my FB cookie"
   ]
  },
  {
   "cell_type": "code",
   "execution_count": 4,
   "id": "b19ac83e-eeb8-40e8-a787-a472a606838d",
   "metadata": {
    "tags": []
   },
   "outputs": [],
   "source": [
    "session = requests.Session()\n",
    "session.cookies = load_cookies_json(\"../cookie.json\")"
   ]
  },
  {
   "cell_type": "markdown",
   "id": "56b12784-5312-4d73-9358-093c513e90e3",
   "metadata": {},
   "source": [
    "# Extract Username, Userid, Name"
   ]
  },
  {
   "cell_type": "code",
   "execution_count": 5,
   "id": "ed5158bd-a2f4-4b1a-b55d-0003922af0b7",
   "metadata": {
    "tags": []
   },
   "outputs": [
    {
     "name": "stdout",
     "output_type": "stream",
     "text": [
      "{'username': 'SWEETERROR404', 'uid': '100004486669038', 'name': 'Mubeen Ahmad'}\n"
     ]
    }
   ],
   "source": [
    "response = searcher(\"https://www.facebook.com/profile.php\")\n",
    "data = {}\n",
    "\n",
    "t = re.compile(r\"USER_ID.+?SHORT_NAME\").search(str(response)).group(0)\n",
    "USER_ID, NAME = t.replace('\"', \"\").replace(\",SHORT_NAME\", \"\").split(\",\")\n",
    "USER_ID = USER_ID.split(\":\")[-1]\n",
    "NAME = NAME.split(\":\")[-1]\n",
    "\n",
    "data[\"username\"] = (\n",
    "    re.search(\"userVanity.+?,\", str(response))\n",
    "    .group(0)\n",
    "    .replace('\"', \"\")\n",
    "    .replace(\",\", \"\")\n",
    "    .split(\":\")[-1]\n",
    ")\n",
    "data[\"uid\"] = USER_ID\n",
    "data[\"name\"] = NAME\n",
    "print(data)"
   ]
  },
  {
   "cell_type": "markdown",
   "id": "a2ec7b4c-ce11-4b64-9af3-628322a6c5e7",
   "metadata": {},
   "source": [
    "# see more links"
   ]
  },
  {
   "cell_type": "code",
   "execution_count": 6,
   "id": "1eab62d6-f7b5-4bd4-8785-30c3263e79ea",
   "metadata": {
    "tags": []
   },
   "outputs": [
    {
     "name": "stdout",
     "output_type": "stream",
     "text": [
      "Link Complete\n"
     ]
    }
   ],
   "source": [
    "link = [f\"https://mbasic.facebook.com/{data['username']}/friends\"]\n",
    "for i in link:\n",
    "    response = searcher(i)\n",
    "    try:\n",
    "        res = response.find(\"div\", id=\"m_more_friends\").find(\"a\").get(\"href\")\n",
    "        link.append(f\"https://mbasic.facebook.com{res}\")\n",
    "    except:\n",
    "        print(\"Link Complete\")"
   ]
  },
  {
   "cell_type": "markdown",
   "id": "c054575f-229a-407f-8898-2c6ead6beba6",
   "metadata": {
    "tags": []
   },
   "source": [
    "# profile links"
   ]
  },
  {
   "cell_type": "code",
   "execution_count": 7,
   "id": "2c94819f-4c84-4409-b025-83d929f8a060",
   "metadata": {
    "tags": []
   },
   "outputs": [],
   "source": [
    "import concurrent.futures\n",
    "profile_links = set()\n",
    "\n",
    "def profile(link):\n",
    "    response = searcher(link)\n",
    "    href = [\"https://mbasic.facebook.com\" + i.get(\"href\") for i in response.find_all(\"a\", class_=\"_5pxc\")]\n",
    "    profile_links.update(href)\n",
    "\n",
    "def process_links(links):\n",
    "    with concurrent.futures.ThreadPoolExecutor() as executor:\n",
    "        executor.map(profile, links)\n",
    "\n",
    "process_links(link)"
   ]
  },
  {
   "cell_type": "code",
   "execution_count": 9,
   "id": "2393c868-5195-4992-a2a6-833040c61365",
   "metadata": {
    "tags": []
   },
   "outputs": [
    {
     "name": "stdout",
     "output_type": "stream",
     "text": [
      "total friends 1497\n"
     ]
    }
   ],
   "source": [
    "print('total friends',len(profile_links))"
   ]
  },
  {
   "cell_type": "markdown",
   "id": "06772d14-95db-4e02-a71e-99ca9f89f7fa",
   "metadata": {},
   "source": [
    "# deactivate accounts"
   ]
  },
  {
   "cell_type": "code",
   "execution_count": 10,
   "id": "c910e83d-5cfc-431e-b581-dc7e11fca0c7",
   "metadata": {
    "tags": []
   },
   "outputs": [
    {
     "name": "stdout",
     "output_type": "stream",
     "text": [
      "total deactivate friends 20\n"
     ]
    }
   ],
   "source": [
    "deactivate_accounts = [i for i in profile_links if i.find('friends/hovercard') != -1]\n",
    "print('total deactivate friends',len(deactivate_accounts))"
   ]
  },
  {
   "cell_type": "markdown",
   "id": "e396dbb3-8a0c-4da9-a500-4a22e1c09fa6",
   "metadata": {},
   "source": [
    "# unfriend create post requests"
   ]
  },
  {
   "cell_type": "code",
   "execution_count": 12,
   "id": "bb7b3e18-2700-4344-90c4-59783f0cf7bc",
   "metadata": {
    "tags": []
   },
   "outputs": [],
   "source": [
    "final = {}\n",
    "\n",
    "count = 1 # just for counter\n",
    "def unfriend(pl):\n",
    "    global count\n",
    "    \n",
    "    params = {}\n",
    "    dta = {}\n",
    "    \n",
    "    res = searcher(pl)\n",
    "\n",
    "    # Extract removefriend link\n",
    "    l1 = \"https://mbasic.facebook.com\" + re.search('/removefriend.php.+?\"', str(res)).group(0).replace('\"', \"\").replace(\"amp;\", \"\")\n",
    "    res = searcher(l1)  # Searcher 2\n",
    "\n",
    "    # Regular expression patterns\n",
    "    fb_dtsg_pattern = re.compile('fb_dtsg.+?\"/><div')\n",
    "    name_pattern = re.compile(\"Are you.+?</a>\")\n",
    "    par_pattern = re.compile('/a/friends/remove/.+?\"')\n",
    "\n",
    "    # Extract fb_dtsg, jazoest, confirm\n",
    "    raw = fb_dtsg_pattern.search(str(res)).group(0)\n",
    "    dta[\"fb_dtsg\"], dta[\"jazoest\"] = re.findall('value=\"([^\"]+)\"', raw)[:2]\n",
    "    dta[\"confirm\"] = \"Confirm\"\n",
    "\n",
    "    # Extract name\n",
    "    n = name_pattern.search(str(res)).group(0).replace(\"</a>\", \"\")[::-1]\n",
    "    name = n.split(\">\", 1)[0][::-1]\n",
    "\n",
    "    # Extract params\n",
    "    par = (par_pattern.search(str(res))\n",
    "            .group(0)\n",
    "            .replace(\"amp;\", \"\")\n",
    "            .replace(\"/a/friends/remove/?\", \"\")\n",
    "            .replace('\"', \"\")\n",
    "            .split(\"&\")\n",
    "        )\n",
    "    params = dict(kv.split(\"=\") for kv in par)\n",
    "\n",
    "    print(f\"{name} : {params.get('subject_id')} --> {len(profile_links) - count} are left\")\n",
    "    final[params.get('subject_id')] = {'params':params,'data':dta}\n",
    "    count += 1\n",
    "    \n",
    "\n",
    "def process_profiles(profile_links):\n",
    "    with concurrent.futures.ThreadPoolExecutor() as executor:\n",
    "        executor.map(unfriend, profile_links)\n",
    "\n",
    "process_profiles(profile_links)"
   ]
  },
  {
   "cell_type": "markdown",
   "id": "2fa6b0a4-33dd-4a97-9b48-050305d90def",
   "metadata": {},
   "source": [
    "# here is all post request ready"
   ]
  },
  {
   "cell_type": "code",
   "execution_count": 13,
   "id": "97a3453b-9f61-4302-a71f-1c7ea2fb0cfc",
   "metadata": {
    "tags": []
   },
   "outputs": [
    {
     "data": {
      "text/plain": [
       "1497"
      ]
     },
     "execution_count": 13,
     "metadata": {},
     "output_type": "execute_result"
    }
   ],
   "source": [
    "len(final)"
   ]
  },
  {
   "cell_type": "markdown",
   "id": "20289929-2ab1-420c-8e96-134a772621a0",
   "metadata": {},
   "source": [
    "# for example"
   ]
  },
  {
   "cell_type": "code",
   "execution_count": 32,
   "id": "2cb8ddff-aca0-48a4-b959-9a4e649872cf",
   "metadata": {
    "tags": []
   },
   "outputs": [
    {
     "name": "stdout",
     "output_type": "stream",
     "text": [
      "{'subject_id': '61552822920724', 'unfriend_ref': 'inactive_friend_dialog', 'eav': 'AfbyeGmOaKMZzxcEOJ3d4iiSa2pOMyTThhDheha5DcOhO6IfIpl58t4aDJ2SK5SrzW0', 'paipv': '0', 'ext': '1718048577', 'hash': 'AeQRS3RVNW7N1Xf1hUI'}\n",
      "{'fb_dtsg': 'NAcOjplku1g9GIXc2n4zFyvPPSYlbgJ7Kdbk9GDEGJRJMj7EsOuFoOA:3:1707929477', 'jazoest': '25413', 'confirm': 'Confirm'}\n"
     ]
    }
   ],
   "source": [
    "par = final['61552822920724']['params']\n",
    "dt = final['61552822920724']['data']\n",
    "# session.post('https://mbasic.facebook.com/a/friends/remove/', params=par,  data=dt)"
   ]
  },
  {
   "cell_type": "markdown",
   "id": "7bd8d510-9954-4574-8371-80b8d17f07f5",
   "metadata": {},
   "source": [
    "# but i unfriend only deactive friends"
   ]
  },
  {
   "cell_type": "code",
   "execution_count": 41,
   "id": "df6a1432-aa60-4844-b564-de183bbab1eb",
   "metadata": {
    "tags": []
   },
   "outputs": [
    {
     "name": "stdout",
     "output_type": "stream",
     "text": [
      "Cancel : 61552822920724 --> 19 are left\n",
      "Cancel : 61554321390852 --> 18 are left\n",
      "Cancel : 61558665627295 --> 17 are left\n",
      "Cancel : 100095717671684 --> 16 are left\n",
      "Cancel : 100007030839105 --> 15 are left\n",
      "Cancel : 100014269334769 --> 14 are left\n",
      "Cancel : 61558800553567 --> 13 are left\n",
      "Cancel : 100069232009285 --> 12 are left\n",
      "Cancel : 100009718570609 --> 11 are left\n",
      "Cancel : 61558462177402 --> 10 are left\n",
      "Cancel : 100070632870315 --> 9 are left\n",
      "Cancel : 61558869819941 --> 8 are left\n",
      "Cancel : 100002759137104 --> 7 are left\n",
      "Cancel : 61557316062619 --> 6 are left\n",
      "Cancel : 61556766450515 --> 5 are left\n",
      "Cancel : 100077528901487 --> 4 are left\n",
      "Cancel : 61559172384092 --> 3 are left\n",
      "Cancel : 61550051677803 --> 2 are left\n",
      "Cancel : 61551468543393 --> 1 are left\n",
      "Cancel : 61554193546536 --> 0 are left\n"
     ]
    }
   ],
   "source": [
    "final = {}\n",
    "count = 1 # just for counter\n",
    "def unfriend(pl):\n",
    "    global count\n",
    "    \n",
    "    params = {}\n",
    "    dta = {}\n",
    "    \n",
    "    res = searcher(pl)\n",
    "\n",
    "    # Extract removefriend link\n",
    "    l1 = \"https://mbasic.facebook.com\" + re.search('/removefriend.php.+?\"', str(res)).group(0).replace('\"', \"\").replace(\"amp;\", \"\")\n",
    "    res = searcher(l1)  # Searcher 2\n",
    "\n",
    "    # Regular expression patterns\n",
    "    fb_dtsg_pattern = re.compile('fb_dtsg.+?\"/><div')\n",
    "    name_pattern = re.compile(\"Are you.+?</a>\")\n",
    "    par_pattern = re.compile('/a/friends/remove/.+?\"')\n",
    "\n",
    "    # Extract fb_dtsg, jazoest, confirm\n",
    "    raw = fb_dtsg_pattern.search(str(res)).group(0)\n",
    "    dta[\"fb_dtsg\"], dta[\"jazoest\"] = re.findall('value=\"([^\"]+)\"', raw)[:2]\n",
    "    dta[\"confirm\"] = \"Confirm\"\n",
    "\n",
    "    # Extract name\n",
    "    n = name_pattern.search(str(res)).group(0).replace(\"</a>\", \"\")[::-1]\n",
    "    name = n.split(\">\", 1)[0][::-1]\n",
    "\n",
    "    # Extract params\n",
    "    par = (par_pattern.search(str(res))\n",
    "            .group(0)\n",
    "            .replace(\"amp;\", \"\")\n",
    "            .replace(\"/a/friends/remove/?\", \"\")\n",
    "            .replace('\"', \"\")\n",
    "            .split(\"&\")\n",
    "        )\n",
    "    params = dict(kv.split(\"=\") for kv in par)\n",
    "\n",
    "    print(f\"{name} : {params.get('subject_id')} --> {len(deactivate_accounts) - count} are left\")\n",
    "    final[params.get('subject_id')] = {'params':params,'data':dta}\n",
    "    count += 1\n",
    "    \n",
    "\n",
    "def process_profiles(profile_links):\n",
    "    with concurrent.futures.ThreadPoolExecutor() as executor:\n",
    "        executor.map(unfriend, profile_links)\n",
    "\n",
    "process_profiles(deactivate_accounts)"
   ]
  },
  {
   "cell_type": "code",
   "execution_count": 43,
   "id": "f3f62f42-bce8-43dc-884c-f10b769472c5",
   "metadata": {
    "tags": []
   },
   "outputs": [
    {
     "data": {
      "text/plain": [
       "20"
      ]
     },
     "execution_count": 43,
     "metadata": {},
     "output_type": "execute_result"
    }
   ],
   "source": [
    "len(final)"
   ]
  },
  {
   "cell_type": "markdown",
   "id": "ff634484-e04d-425b-8756-584cf24e93ef",
   "metadata": {},
   "source": [
    "# unfriends deactivate friends"
   ]
  },
  {
   "cell_type": "code",
   "execution_count": 60,
   "id": "e4ef8ab6-ec65-4998-9c75-8a36c23047a1",
   "metadata": {
    "tags": []
   },
   "outputs": [
    {
     "name": "stdout",
     "output_type": "stream",
     "text": [
      "{'subject_id': '61552822920724', 'unfriend_ref': 'inactive_friend_dialog', 'eav': 'AfYtxtcUlPdOlMch_0ivmS0CE-YW-JH-sNeWko83Xg_uODB0rKVr2xmxs_YcEazMyOg', 'paipv': '0', 'ext': '1718049350', 'hash': 'AeTff3aIJh6m7iVYnmQ'}\n",
      "{'fb_dtsg': 'NAcMiaxII_7bJfLBjMYHwmKWqOx1tXjKk6ngfr0cJH_y9U7OMdrLCPQ:3:1707929477', 'jazoest': '25503', 'confirm': 'Confirm'}\n",
      "<Response [200]>\n",
      "{'subject_id': '61554321390852', 'unfriend_ref': 'inactive_friend_dialog', 'eav': 'AfZX8OTp7DPZ7c64AQZxxCfJYHkZod4wbtm-mPmUYPSCOuIUYD1hJ_AaKikyOiVCVFo', 'paipv': '0', 'ext': '1718049350', 'hash': 'AeSjH_0EH2o6UIV1YB8'}\n",
      "{'fb_dtsg': 'NAcNZRfS_oJ_yP-4AqNSxuyIg331TFfY1DqL0YCwhSsHjPYxCEttSIw:3:1707929477', 'jazoest': '25460', 'confirm': 'Confirm'}\n",
      "<Response [200]>\n",
      "{'subject_id': '61558665627295', 'unfriend_ref': 'inactive_friend_dialog', 'eav': 'AfaYsllVyLDg2OpzG1p7rblxm7hPmmm_jlWE29Z-9Oaj3v8jiikd9cBfbWzpys3mohQ', 'paipv': '0', 'ext': '1718049350', 'hash': 'AeSP4oWI0DRD6WBRLHI'}\n",
      "{'fb_dtsg': 'NAcO8y89hj_L3iTJvzjLgw2SgKKION7WCdYCrCCXZ32WJ1HlieSQ-0w:3:1707929477', 'jazoest': '25230', 'confirm': 'Confirm'}\n",
      "<Response [200]>\n",
      "{'subject_id': '100095717671684', 'unfriend_ref': 'inactive_friend_dialog', 'eav': 'AfZ8POgdHHwy2-pyeH9LeMDdH8YiK_tvVTB4eUJUOKwXeATc3nRuqt_N-F0eQXFKtio', 'paipv': '0', 'ext': '1718049350', 'hash': 'AeTkzpVdzxkUKOHCUPk'}\n",
      "{'fb_dtsg': 'NAcOaQirXPRnquckxwr9DBqBS47Obihs9NKakUijhIm1oc_bfk0kPLg:3:1707929477', 'jazoest': '25699', 'confirm': 'Confirm'}\n",
      "<Response [200]>\n",
      "{'subject_id': '100007030839105', 'unfriend_ref': 'inactive_friend_dialog', 'eav': 'Afa0VWGi-qfgqymXbuNtAvBPU3wh1c2FCz74FP3IqSEkGE0W_Z4HrzbvQm57Pc3PYb8', 'paipv': '0', 'ext': '1718049350', 'hash': 'AeTvDat5naANTUHwbZM'}\n",
      "{'fb_dtsg': 'NAcN6gBCmuYZvG5u4-WoP6UKmeG9pBXgp6isJkHcb0Uo3vfC75nnczw:3:1707929477', 'jazoest': '25456', 'confirm': 'Confirm'}\n",
      "<Response [200]>\n",
      "{'subject_id': '100014269334769', 'unfriend_ref': 'inactive_friend_dialog', 'eav': 'AfaLlWVZjJ4y_Ix3rJ6Yy5s9K99V7Gmhm84P8mnrKmwhKDMyiagoq4aDhAJOwduFFfc', 'paipv': '0', 'ext': '1718049350', 'hash': 'AeQ27te4d9rprrH_6PA'}\n",
      "{'fb_dtsg': 'NAcP4iQKdB8R6zT3Y5VH1KlEHW9cXLgOLKJVPSxTp90aDyz4Xrra69Q:3:1707929477', 'jazoest': '25172', 'confirm': 'Confirm'}\n",
      "<Response [200]>\n",
      "{'subject_id': '61558800553567', 'unfriend_ref': 'inactive_friend_dialog', 'eav': 'AfZSlWpGLOJm2uqNKzt9drwkYEV_6paB1BEKHPeNIBXVoB0k7BjDZ7rKBxwd15XZiKk', 'paipv': '0', 'ext': '1718049350', 'hash': 'AeSPXVM3xdgIVTDmYR8'}\n",
      "{'fb_dtsg': 'NAcOluseAV17MUBxXWj2VTTJTFhIlx0gaEThYShVY4dDjnFqyqzh20Q:3:1707929477', 'jazoest': '25497', 'confirm': 'Confirm'}\n",
      "<Response [200]>\n",
      "{'subject_id': '100069232009285', 'unfriend_ref': 'inactive_friend_dialog', 'eav': 'AfZVQw-MmzUY1EgDnAqZXZDV4km0uhFm2Uee6X3XWosAuF1gr4YiXLPVtAYHZ_7T3Hk', 'paipv': '0', 'ext': '1718049350', 'hash': 'AeRXMyjm7zI6Yi8eZsQ'}\n",
      "{'fb_dtsg': 'NAcOSJIrvIwm1nV5uEbDkLfrLj0czFtsjcURgO0HJUOFaE25oCEy5Ew:3:1707929477', 'jazoest': '25445', 'confirm': 'Confirm'}\n",
      "<Response [200]>\n",
      "{'subject_id': '100009718570609', 'unfriend_ref': 'inactive_friend_dialog', 'eav': 'Afah57YuxNOeLia5BmGIcxXzY5BYUVbA8HNpP22UJtl2BfHakPJsWJGezc2JVBZvMz4', 'paipv': '0', 'ext': '1718049350', 'hash': 'AeSiQtgUL0VgUVBqzOc'}\n",
      "{'fb_dtsg': 'NAcMU6jnwADdzI6BkE_uEyTftkVEYjeXkZhuEld7xy9SaTjWvRxyXGA:3:1707929477', 'jazoest': '25737', 'confirm': 'Confirm'}\n",
      "<Response [200]>\n",
      "{'subject_id': '61558462177402', 'unfriend_ref': 'inactive_friend_dialog', 'eav': 'AfaF9t-dXdh0Rh6v3TGQsWML39JtrvRzqykBffPsmP0rZ94SnYOqLRWRdifXz1k4p4Q', 'paipv': '0', 'ext': '1718049350', 'hash': 'AeSPatb4uT4r6clVUI4'}\n",
      "{'fb_dtsg': 'NAcMIEeOkk18boKwMkZ02deZy3l1WOmqMgRp8DENhe3sCWDaq5gh6Ag:3:1707929477', 'jazoest': '25373', 'confirm': 'Confirm'}\n",
      "<Response [200]>\n",
      "{'subject_id': '100070632870315', 'unfriend_ref': 'inactive_friend_dialog', 'eav': 'AfYcCcvh04Dpok0zaSJLaA_ZhD1hMC_kDnIadLRWJs0Y2MF1iOWKuraLAp2AilvZ1_8', 'paipv': '0', 'ext': '1718049350', 'hash': 'AeRYkjgFD3Vet1NPzNg'}\n",
      "{'fb_dtsg': 'NAcPz1IpGPOnMmOmu63wwi3psCzbqsGdu0Tsfy5v4Fnw5uAgXX_Ne-Q:3:1707929477', 'jazoest': '25644', 'confirm': 'Confirm'}\n",
      "<Response [200]>\n",
      "{'subject_id': '61558869819941', 'unfriend_ref': 'inactive_friend_dialog', 'eav': 'AfZKPmg2Ae0YyTNyk9mFMW7q9WaY0zOilNgxJLQFrr9FjA17B1s-mpSCLALzn5Lwvdo', 'paipv': '0', 'ext': '1718049350', 'hash': 'AeT96a8hzGK9C6HApMo'}\n",
      "{'fb_dtsg': 'NAcMk2pFEJBK7fjeDVHSRePyWJJotI9__-SZkjXldN1vM2pa9xB8omQ:3:1707929477', 'jazoest': '25389', 'confirm': 'Confirm'}\n",
      "<Response [200]>\n",
      "{'subject_id': '100002759137104', 'unfriend_ref': 'inactive_friend_dialog', 'eav': 'AfY0HNNvthbnJ1Ni5_gcajTQlbZT1RV9pw056Rmmns6OVvHZCVzayAS_fEQsGhYCy2s', 'paipv': '0', 'ext': '1718049350', 'hash': 'AeTSkGN66vCfKoeMFtg'}\n",
      "{'fb_dtsg': 'NAcMzHgo7NbBPvnIaihPnzm0O_3tWt-J0gOHpWstnuy-hpvQpRw3U6Q:3:1707929477', 'jazoest': '25667', 'confirm': 'Confirm'}\n",
      "<Response [200]>\n",
      "{'subject_id': '61557316062619', 'unfriend_ref': 'inactive_friend_dialog', 'eav': 'AfZq8LJVj3vRoDnHPf5BFwYctDtFE55XVZIS-NxO5OH1WWcNOL1EjLvRwgQeG7-XCV0', 'paipv': '0', 'ext': '1718049350', 'hash': 'AeRkKNVYT9vf_nh2QPM'}\n",
      "{'fb_dtsg': 'NAcMmE8QhSe1umZOpIezMuodE4dJn1TPWu92oO50nSnwOgpp41LG0TQ:3:1707929477', 'jazoest': '25388', 'confirm': 'Confirm'}\n",
      "<Response [200]>\n",
      "{'subject_id': '61556766450515', 'unfriend_ref': 'inactive_friend_dialog', 'eav': 'AfbraHohmSedJPTsMxN2PHImYUpwVFk9eQPmrZZtMKpzSnzR0OhSzzbq66DhIkISY04', 'paipv': '0', 'ext': '1718049350', 'hash': 'AeScFDvVKmV0ZziSH80'}\n",
      "{'fb_dtsg': 'NAcNsmRubFgZVCF3iHvYzbH9TBXO71VHJ8ba41B_CDD9kGWUN0YbHBQ:3:1707929477', 'jazoest': '25119', 'confirm': 'Confirm'}\n",
      "<Response [200]>\n",
      "{'subject_id': '100077528901487', 'unfriend_ref': 'inactive_friend_dialog', 'eav': 'AfYEFD4y2ulIV9_7aT9dE8MqGs7BFrF_eAdmzcEWInl1SB6SVG_wFESyivBzGYmRt60', 'paipv': '0', 'ext': '1718049350', 'hash': 'AeTwThJcSsGJRlHNFT4'}\n",
      "{'fb_dtsg': 'NAcOCuzfPsIyipdy61GhhonPERlx3UrY3p5C-yp98wQAc3T9wsmJXHw:3:1707929477', 'jazoest': '25583', 'confirm': 'Confirm'}\n",
      "<Response [200]>\n",
      "{'subject_id': '61559172384092', 'unfriend_ref': 'inactive_friend_dialog', 'eav': 'AfZAcExU5rmnTBOcI8bHtzcEonMROSxMEeKyV3-KHENDmUqRZP0IBWxIm0kVYDs_AYU', 'paipv': '0', 'ext': '1718049351', 'hash': 'AeTj0yt3_YfvBLOixXw'}\n",
      "{'fb_dtsg': 'NAcPQSoIaUBrAlzOCWKmHmjW4QkzqnIskwWotJqXBTMvif00qWM-B3Q:3:1707929477', 'jazoest': '25574', 'confirm': 'Confirm'}\n",
      "<Response [200]>\n",
      "{'subject_id': '61550051677803', 'unfriend_ref': 'inactive_friend_dialog', 'eav': 'AfY_3up8N36TOBf1WcuC8j6NQvYVToU076wlDPKBW_5Lq9n1zmrqoclY30qmXmA8NEo', 'paipv': '0', 'ext': '1718049351', 'hash': 'AeR8yPA-tz3V8qB0S5s'}\n",
      "{'fb_dtsg': 'NAcPFTCtUu-eUisza4EkZrUyC1-SEOH5rcufH--e_FY31Wv8a4q7ZwQ:3:1707929477', 'jazoest': '25303', 'confirm': 'Confirm'}\n",
      "<Response [200]>\n",
      "{'subject_id': '61551468543393', 'unfriend_ref': 'inactive_friend_dialog', 'eav': 'Afb8wxrBWKqH9glwn_L3fHTYhrNJEnUWTPARF2OO2aCEX38CZLtAGtz1wSP7HwPm7jw', 'paipv': '0', 'ext': '1718049351', 'hash': 'AeQx1edJvIXsWAHpdUU'}\n",
      "{'fb_dtsg': 'NAcNlV_mdwzflURgUehSFeQ8GVk9O5cqyqpfJPprndwJ8Ji_ZqwVOkg:3:1707929477', 'jazoest': '25843', 'confirm': 'Confirm'}\n",
      "<Response [200]>\n",
      "{'subject_id': '61554193546536', 'unfriend_ref': 'inactive_friend_dialog', 'eav': 'AfaQGRt8jyoUqGGtSimROQb-AJMYeYRxJESExgWq-Aoj3CfeA_6WGYxKAFeAMV0YAaE', 'paipv': '0', 'ext': '1718049351', 'hash': 'AeQSRq6UOtIjXMcX6CA'}\n",
      "{'fb_dtsg': 'NAcMklaL6zeNP69tkX9DFg1zpU89YpCr_1BZu_dt9bBv2viYIhlT1gg:3:1707929477', 'jazoest': '25478', 'confirm': 'Confirm'}\n",
      "<Response [200]>\n"
     ]
    }
   ],
   "source": [
    "for i in list(final.values()):\n",
    "    print(i['params'])\n",
    "    print(i['data'])\n",
    "    resp = session.post('https://mbasic.facebook.com/a/friends/remove/', params=i['params'],  data=i['data'])\n",
    "    print(resp)"
   ]
  },
  {
   "cell_type": "markdown",
   "id": "cbd236df-8865-4143-b398-8f59f57489b5",
   "metadata": {
    "tags": []
   },
   "source": [
    "# all deactivate profiles are un friended"
   ]
  }
 ],
 "metadata": {
  "kernelspec": {
   "display_name": "Python 3 (ipykernel)",
   "language": "python",
   "name": "python3"
  },
  "language_info": {
   "codemirror_mode": {
    "name": "ipython",
    "version": 3
   },
   "file_extension": ".py",
   "mimetype": "text/x-python",
   "name": "python",
   "nbconvert_exporter": "python",
   "pygments_lexer": "ipython3",
   "version": "3.10.12"
  }
 },
 "nbformat": 4,
 "nbformat_minor": 5
}

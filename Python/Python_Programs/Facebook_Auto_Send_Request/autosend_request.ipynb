{
 "cells": [
  {
   "cell_type": "code",
   "execution_count": 1,
   "id": "3bb10629-1030-4d4e-87ab-a92b78242fd8",
   "metadata": {
    "tags": []
   },
   "outputs": [],
   "source": [
    "import http.cookiejar\n",
    "import json\n",
    "import re\n",
    "from http.cookiejar import MozillaCookieJar\n",
    "\n",
    "import requests\n",
    "from bs4 import BeautifulSoup"
   ]
  },
  {
   "cell_type": "code",
   "execution_count": 2,
   "id": "c1719c7e-2c69-4abd-836a-d53354e54025",
   "metadata": {
    "tags": []
   },
   "outputs": [],
   "source": [
    "def load_cookies_json(path):\n",
    "\n",
    "    cookie_jar = http.cookiejar.MozillaCookieJar()\n",
    "    with open(path) as f:\n",
    "        file = json.loads(f.read())\n",
    "\n",
    "    for cookie in file:\n",
    "\n",
    "        if cookie.get(\"expirationDate\") != None:\n",
    "            exp = str(cookie.get(\"expirationDate\", \"\"))\n",
    "\n",
    "        elif cookie.get(\"expiry\") != None:\n",
    "            exp = str(cookie.get(\"expiry\", \"\"))\n",
    "\n",
    "        c = http.cookiejar.Cookie(\n",
    "            version=0,\n",
    "            name=cookie.get(\"name\", \"\"),\n",
    "            value=cookie.get(\"value\", \"\"),\n",
    "            port=None,\n",
    "            port_specified=False,\n",
    "            domain=cookie.get(\"domain\", \"\"),\n",
    "            domain_specified=True,\n",
    "            domain_initial_dot=False,\n",
    "            path=cookie.get(\"path\", \"\"),\n",
    "            path_specified=True,\n",
    "            secure=False,\n",
    "            expires=exp,\n",
    "            discard=False,\n",
    "            comment=None,\n",
    "            comment_url=None,\n",
    "            rest=\"\",\n",
    "        )\n",
    "\n",
    "        cookie_jar.set_cookie(c)\n",
    "\n",
    "    return cookie_jar"
   ]
  },
  {
   "cell_type": "code",
   "execution_count": 3,
   "id": "447be859-bca9-4c13-9ad8-9090ee324914",
   "metadata": {
    "tags": []
   },
   "outputs": [],
   "source": [
    "def searcher(link):\n",
    "    header = {\n",
    "        \"Accept-Language\": \"en-US,en;q=0.5\",\n",
    "        \"User-Agent\": \"Mozilla/5.0 (Windows NT 10.0; rv:78.0) Gecko/20100101 Firefox/78.0\",\n",
    "    }\n",
    "    session.headers = header\n",
    "    data = session.get(link)\n",
    "    soup = BeautifulSoup(data.content, \"html.parser\")\n",
    "    return soup"
   ]
  },
  {
   "cell_type": "code",
   "execution_count": 4,
   "id": "3a1c6dcb-614f-4c0b-8bb2-6e2102d5a9ed",
   "metadata": {
    "tags": []
   },
   "outputs": [],
   "source": [
    "session = requests.Session()\n",
    "session.cookies = load_cookies_json(\"../cookie.json\")"
   ]
  },
  {
   "cell_type": "code",
   "execution_count": 288,
   "id": "749ec7a2-6106-4908-b5c7-3e474bd95990",
   "metadata": {},
   "outputs": [],
   "source": [
    "import concurrent.futures\n",
    "\n",
    "\n",
    "def get_links():\n",
    "    links = []\n",
    "    \n",
    "    data = {}\n",
    "    res = searcher(\"https://mbasic.facebook.com/friends/center/\")\n",
    "    pattern = re.compile(r'data-method=\"get\" href=\"/a/friends/add/.+?\"')\n",
    "    for match in pattern.finditer(str(res)):\n",
    "        tmp = match.group(0)\n",
    "        link = 'https://mbasic.facebook.com/a/friends/add/' + tmp[tmp.find('?encrypted_id'):].replace('amp;', '').replace('\"', '')\n",
    "        links.append(link)\n",
    "    return links"
   ]
  },
  {
   "cell_type": "code",
   "execution_count": 290,
   "id": "c4842afe-7f81-4cda-b5fa-44a91ffcb3b8",
   "metadata": {
    "tags": []
   },
   "outputs": [],
   "source": [
    "def send_request(link):\n",
    "    start = link.find('subject_id=')\n",
    "    start = len('subject_id=') + start\n",
    "    end = link.find('&how_found')\n",
    "    print('---> ',link[start:end],'<--- Send Request')\n",
    "    session.get(link)\n",
    "    \n",
    "\n",
    "def process_links(links):\n",
    "    with concurrent.futures.ThreadPoolExecutor() as executor:\n",
    "        executor.map(send_request, links)"
   ]
  },
  {
   "cell_type": "code",
   "execution_count": 292,
   "id": "3546ff72-54ef-4f88-821b-778765b33983",
   "metadata": {
    "tags": []
   },
   "outputs": [
    {
     "name": "stdout",
     "output_type": "stream",
     "text": [
      "--->  61552123348958 <--- Send Request\n",
      "--->  100003156372567 <--- Send Request\n",
      "\n",
      "------------------------\n",
      "--->  61553778122715 <--- Send Request\n",
      "\n",
      "------------------------\n",
      "\n",
      "------------------------\n",
      "---> --->  61553380582285 <--- Send Request\n",
      "--->  100011703091977 <--- Send Request\n",
      "--->  100087408229269 <--- Send Request\n",
      "--->  100058708299779 <--- Send Request\n",
      " 100079760067925 <--- Send Request\n",
      "--->  61558663602267 <--- Send Request\n",
      "--->  61550331414822 <--- Send Request\n",
      "--->  100093559806467 <--- Send Request\n",
      "--->  100093060306971 <--- Send Request\n",
      "--->  100087523631143 <--- Send Request\n",
      "--->  61557573026479 <--- Send Request\n",
      "--->  100054451604516 <--- Send Request\n",
      "--->  100094431190690 <--- Send Request\n",
      "--->  100074352680670 <--- Send Request\n",
      "--->  61559210631900 <--- Send Request\n",
      "--->  61556430424104 <--- Send Request\n",
      "--->  100080116025560 <--- Send Request\n",
      "--->  100008306348986 <--- Send Request\n",
      "--->  100022528236991 <--- Send Request\n",
      "--->  61557875006250 <--- Send Request\n",
      "--->  100057493397952 <--- Send Request\n",
      "\n",
      "------------------------\n",
      "--->  61551258128436 <--- Send Request\n",
      "--->  100093490380716 <--- Send Request\n",
      "--->  100051530445335 <--- Send Request\n",
      "--->  61551035671596 <--- Send Request\n",
      "--->  61551091021000 <--- Send Request\n",
      "--->  61554846903496 <--- Send Request\n",
      "--->  61551682589449 <--- Send Request\n",
      "--->  100093666407703 <--- Send Request\n",
      "--->  100076776528735 <--- Send Request\n",
      "--->  100066857025866 <--- Send Request\n",
      "--->  100081038010269 <--- Send Request\n",
      "--->  61552866322950 <--- Send Request\n",
      "\n",
      "------------------------\n",
      "---> --->  61558586975522 <--- Send Request\n",
      " 100093831856429 <--- Send Request\n",
      "--->  100081119456620 <--- Send Request\n",
      "--->  100013713783993 <--- Send Request\n",
      "--->  100013352384356 <--- Send Request\n",
      "\n",
      "------------------------\n",
      "---> --->  61554037995402 <--- Send Request\n",
      "--->  61555746755691 <--- Send Request\n",
      "--->  100076236081529 <--- Send Request\n",
      " 61554755211757 <--- Send Request\n",
      "--->  100014229638232 <--- Send Request\n",
      "\n",
      "------------------------\n",
      "---> --->  100041390202574 <--- Send Request\n",
      " 61553804708968 <--- Send Request\n",
      "--->  100080112976072 <--- Send Request\n",
      "\n",
      "------------------------\n"
     ]
    }
   ],
   "source": [
    "set_range = 8 # no of batches\n",
    "for i in range(set_range):\n",
    "    lst_links = get_links()\n",
    "    process_links(lst_links)\n",
    "    print('\\n------------------------')"
   ]
  }
 ],
 "metadata": {
  "kernelspec": {
   "display_name": "Python 3 (ipykernel)",
   "language": "python",
   "name": "python3"
  },
  "language_info": {
   "codemirror_mode": {
    "name": "ipython",
    "version": 3
   },
   "file_extension": ".py",
   "mimetype": "text/x-python",
   "name": "python",
   "nbconvert_exporter": "python",
   "pygments_lexer": "ipython3",
   "version": "3.10.12"
  }
 },
 "nbformat": 4,
 "nbformat_minor": 5
}

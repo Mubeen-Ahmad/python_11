{
 "cells": [
  {
   "cell_type": "markdown",
   "id": "642f9e35-70ab-40cb-b9a6-6b885577d3a6",
   "metadata": {},
   "source": [
    "<h1 style=\"text-align:center; color:#005bbd; font-size:30px; font-family:Sans-serif; font-style: oblique; text-shadow: 0 0 3px white, 0 0 1px Black;\">\n",
    "    Basic Overview of Data Recovery \n",
    "</h1>"
   ]
  },
  {
   "cell_type": "markdown",
   "id": "54ede1c6-f11e-4d06-8d3a-c4a65e3e14c4",
   "metadata": {},
   "source": [
    "<body style=\"font-family: Sans-serif;\">\n",
    "    <div style=\"color: black; font-size: 18px; font-style: oblique; text-shadow: 0 0 3px white, 0 0 1px black; padding: 20px;\">\n",
    "        <h3>Data Store in Storage</h3>\n",
    "    Har device jese hard drives, SSDs, ya flash memory, data ko binary bits (0s aur 1s) mein store karti hain. Jab aap kuch save kartay hain, wo data specific memory cells mein record hota hai. Har file ka aik unique address hota hai jo system ko batata hai ke wo kahan store hai.\n",
    "    </div>\n",
    "</body>"
   ]
  },
  {
   "cell_type": "markdown",
   "id": "42821f99-498a-40e9-9c98-b57b6bbf717a",
   "metadata": {},
   "source": [
    "<body style=\"font-family: Sans-serif;\">\n",
    "    <div style=\"color: black; font-size: 18px; font-style: oblique; text-shadow: 0 0 3px white, 0 0 1px black; padding: 20px;\">\n",
    "        <h3>Data Deletion Basics</h3>\n",
    "        <ul>\n",
    "        Jab aap koi file delete kartay hain, system sirf file ka pointer ya reference delete karta hai, mtlb file ka location metadata ko hataya jata hai taake system ko lage ke wo space free hai aur overwrite ho sakta hai.<br>Original data physical memory mein still wahan hota hai, bas system usay \"free space\" samajhta hai.<br><br>Permanently delete ya format karne ke doran bhi kai martaba asli data completely erase nahi hota; bas uska pointer delete hota hai.<br>Recycle Bin sy empty hone ka mtlb sirf itna hai ke pointer delete hua, asal data ab bhi wahan hai jab tak wo overwrite na ho\n",
    "        </ul>\n",
    "    </div>\n",
    "</body>"
   ]
  },
  {
   "cell_type": "markdown",
   "id": "2c7fb97f-759a-478b-8fe9-48b092907e8d",
   "metadata": {},
   "source": [
    "<body style=\"font-family: Sans-serif;\">\n",
    "    <div style=\"color: black; font-size: 18px; font-style: oblique; text-shadow: 0 0 3px white, 0 0 1px black; padding: 20px;\">\n",
    "        <h3>Magnetic Storage (HDD) VS. Solid-State Storage (SSD)</h3>\n",
    "        <ul>\n",
    "Hard Disk Drives (HDDs) mein data magnetic fields k zariye platters par likha jata hai.<br>Delete hone k bawajood, kai advanced techniques istamal kar ke isay wapas la sakte hain, kyunke ye data magnetic patterns mein hota hai aur isay analyze kar ke purana data recover kiya ja sakta hai.<br><br>\n",
    "    Solid-State Drives (SSDs) mein data flash memory cells mein store hota hai. Jab SSDs pe se kuch delete hota hai, TRIM command usay waqayi free kar deti hai jo data ko overwrite hone mein madad karta hai, isliye SSDs se data recover karna mushkil hota hai magar naamumkin nahi hai.\n",
    "        </ul>\n",
    "    </div>\n",
    "</body>"
   ]
  },
  {
   "cell_type": "markdown",
   "id": "60bd1067-9c03-4fae-9aaa-bbb7a0310b93",
   "metadata": {},
   "source": [
    "<body style=\"font-family: Sans-serif;\">\n",
    "    <div style=\"color: black; font-size: 18px; font-style: oblique; text-shadow: 0 0 3px white, 0 0 1px black; padding: 20px;\">\n",
    "        <h3>Forensic Techniques</h3>\n",
    "        <ul>\n",
    "<li>Magnetic residue analysis:<ul><li>Kuch high-end tools magnetization residue se analyze kartay hain Ky HDDs mein kaise data likha aur Erase  Kia gaya tha.</li></ul><br>\n",
    "    <li>Electron microscope usage:<ul><li> Data ko kisi specific platter se dubara wapas lana ke liye microscopic level tak analyze kiya jata hai.</li></ul><br>\n",
    "    <li>Error-correction codes (ECC):<ul><li>Kaafi hard drives data ko error-correction codes ke sath store karti hain jo kuch deleted data ko wapas retrieve kar sakti hain.</li></ul><br>\n",
    "            <li>NAND Recovery (SSDs):<ul><li>SSDs par kai specialized tools use hotay hain jo TRIM command ke bawajood cells ko bypass kar k wahan se possible data ko wapas lane mein madad karte hain.</li>\n",
    "        </ul>\n",
    "    </div>\n",
    "</body>"
   ]
  },
  {
   "cell_type": "markdown",
   "id": "11eefef5-48a8-4264-b600-bfb2e232b348",
   "metadata": {},
   "source": [
    "<body style=\"font-family: Sans-serif;\">\n",
    "    <div style=\"color: black; font-size: 18px; font-style: oblique; text-shadow: 0 0 3px white, 0 0 1px black; padding: 20px;\">\n",
    "        <h3>Data Recovery Software</h3>\n",
    "        <ul>\n",
    "<li>Aam tor par, Data recovery software algorithms ko use karke data ko deep scan karta hai aur memory sectors ko analyze karta hai.Yeh software us data ko wapas retrieve kartay hain jo overwrite nahi hua hota:<br><br>\n",
    "    <ul>\n",
    "        <li>File carving techniques use hoti hain jo specific file patterns ko search kar k missing files ko wapas lane ki koshish karti hain.</li>\n",
    "        <li>Metadata reconstruction: Yeh software deleted file pointers ko reconstruct karte hain jo phir data ko accessible banata hai.</li>    \n",
    "    </ul>\n",
    "        </ul>\n",
    "    </div>\n",
    "</body>"
   ]
  },
  {
   "cell_type": "markdown",
   "id": "493beeb3-a1f8-4d8f-8b1e-39910ed17857",
   "metadata": {},
   "source": [
    "<body style=\"font-family: Sans-serif;\">\n",
    "    <div style=\"color: black; font-size: 18px; font-style: oblique; text-shadow: 0 0 3px white, 0 0 1px black; padding: 20px;\">\n",
    "        <h3>Techniques for Secure Delete</h3>\n",
    "        <ul>\n",
    "<li>Hardware level par data storage devices kuch advanced techniques use karti hain jo deleted data ko wapas trace karna mushkil banati hain:<br><br>\n",
    "    <ul>\n",
    "        <li>Wear-leveling in SSDs data ko multiple cells mein shift karta hai taake cells equally utilize hon aur over time data recoverability kam ho jaaye.</li><br>\n",
    "        <li>Overwriting Cycles: Kuch advanced tools kai bar overwrite karke data ko dobara overwrite karte hain jo forensic analysis ke liye mushkil banata hai.</li>    \n",
    "    </ul>\n",
    "        </ul>\n",
    "    </div>\n",
    "</body>"
   ]
  },
  {
   "cell_type": "markdown",
   "id": "57f1ed51-bf1c-4fbd-b999-cad8dab0a2c3",
   "metadata": {},
   "source": [
    "<body style=\"font-family: Sans-serif;\">\n",
    "    <div style=\"color: black; font-size: 18px; font-style: oblique; text-shadow: 0 0 3px white, 0 0 1px black; padding: 20px;\">\n",
    "        <h3>Data Recovery Challenges and Limitations</h3>\n",
    "        <ul>\n",
    "<li>Jab data overwrite ho jaye, usay recover karna almost impossible hota hai.<br><br>\n",
    "    <ul>\n",
    "        <li>SSDs mein TRIM ke hotay huay, data jaldi se permanently delete ho jata hai.</li><br>\n",
    "        <li>Kuch extreme forensic techniques expensive aur time-consuming hoti hain jo sirf high-priority cases mein use hoti hain, jese national security ya criminal investigation mein.</li>    \n",
    "    </ul>\n",
    "        </ul>\n",
    "        \n",
    "<br>In sab ke bawajood, data 100% permanently delete karna mushkil hota hai, magar multiple overwrites aur encryption ka use karne se data ko recover karna extremely difficult ho jata hai.\n",
    "    </div>\n",
    "</body>"
   ]
  },
  {
   "cell_type": "markdown",
   "id": "114be1e7-1084-4080-9cfe-3711387dc116",
   "metadata": {},
   "source": [
    "<body style=\"font-family: Sans-serif;\">\n",
    "    <div style=\"color: black; font-size: 18px; font-style: oblique; text-shadow: 0 0 3px white, 0 0 1px black; padding: 20px;\">\n",
    "        <h3>System-Level Wipe</h3>\n",
    "        <ul>\n",
    "<li>Specialized tools jese DBAN, Blancco Drive Eraser, Parted Magic, ya Linux ke built-in shred aur dd commands best options hain.<br>In tools ko low-level access hai jo kisi bhi language se achieve nahi kiya ja sakta.<br><br>.Yeh tools aapke system ke boot level par kaam karte hain aur sector-by-sector overwrite karte hain, jo data ko permanently erase karne mein madadgar hai.<br><br>\n",
    "    <ul>\n",
    "       Linux mein aap command prompt par shred ya dd se drive wipe kar sakte hain:<br><br>\n",
    "        <pre>\n",
    "        sudo shred -n 3 -vz /dev/sdX  # 3 overwrites with zero filling\n",
    "        sudo dd if=/dev/zero of=/dev/sdX bs=1M  # Fill drive with zeros\n",
    "        </pre>\n",
    "    </ul>\n",
    "        </ul>\n",
    "    </div>\n",
    "</body>"
   ]
  },
  {
   "cell_type": "markdown",
   "id": "17b739f2-a76a-4e1d-8eaa-bc29bf438849",
   "metadata": {},
   "source": [
    "<body style=\"font-family: Sans-serif;\">\n",
    "    <div style=\"color: black; font-size: 18px; font-style: oblique; text-shadow: 0 0 3px white, 0 0 1px black; padding: 20px;\">\n",
    "        <h3>Encryption aur Data Masking</h3>\n",
    "        <ul>\n",
    "<li>Aaj kal bohot se companies aur agencies sensitive data ko encryption ke zariye protect karti hain taake agar data recover bhi ho jaye to wo readable na ho.<ul><br>\n",
    "    <li>Aap encrypted volumes create kar sakte hain jo mount aur unmount kiye ja sakte hain.</li><br>\n",
    "    <li>Sensitive files ko AES encryption se encrypt karke store kar sakte hain aur jab wo kaam na aayein to simply encryption keys ko delete kar dein. Iss se data unreadable ho jata hai.</li>\n",
    "    </ul>\n",
    "</li>\n",
    "</div>\n",
    "</body>"
   ]
  },
  {
   "cell_type": "code",
   "execution_count": 2,
   "id": "6da867b3-9fd7-44af-8339-da17ae34e2cc",
   "metadata": {
    "tags": []
   },
   "outputs": [],
   "source": [
    "import os\n",
    "from cryptography.hazmat.backends import default_backend\n",
    "from cryptography.hazmat.primitives import hashes\n",
    "from cryptography.hazmat.primitives.kdf.pbkdf2 import PBKDF2HMAC\n",
    "from cryptography.hazmat.primitives.ciphers import Cipher, algorithms, modes\n",
    "from cryptography.hazmat.primitives import hashes  # Correct import for hash functions"
   ]
  },
  {
   "cell_type": "code",
   "execution_count": 3,
   "id": "06865785-0276-4cb0-888b-8237292cc155",
   "metadata": {
    "tags": []
   },
   "outputs": [],
   "source": [
    "def generate_key(password: str, salt: bytes):\n",
    "    \n",
    "    kdf = PBKDF2HMAC(\n",
    "        algorithm=hashes.SHA256(),\n",
    "        length=32,  # AES-256 requires a 32-byte key\n",
    "        salt=salt,\n",
    "        iterations=100000,\n",
    "        backend=default_backend(),\n",
    "    )\n",
    "    return kdf.derive(password.encode())"
   ]
  },
  {
   "cell_type": "code",
   "execution_count": 4,
   "id": "719dee4d-cc1e-43f6-b7e1-0f8175e72042",
   "metadata": {
    "tags": []
   },
   "outputs": [],
   "source": [
    "def encrypt_file(file, password):\n",
    "    try:\n",
    "        salt = os.urandom(16)  \n",
    "        nonce = os.urandom(12)  \n",
    "        \n",
    "        with open(file, 'rb') as f:\n",
    "            file_data = f.read()\n",
    "\n",
    "        key = generate_key(password, salt)\n",
    "\n",
    "        cipher = Cipher(algorithms.AES(key), modes.GCM(nonce), backend=default_backend())\n",
    "        encryptor = cipher.encryptor()\n",
    "        encrypted_data = encryptor.update(file_data) + encryptor.finalize()\n",
    "\n",
    "        with open(file, 'wb') as f:\n",
    "            f.write(salt)  \n",
    "            f.write(nonce)  \n",
    "            f.write(encrypted_data)  \n",
    "            f.write(encryptor.tag) \n",
    "\n",
    "        print(f\"File {file} encrypted successfully.\")\n",
    "\n",
    "    except Exception as e:\n",
    "        print(f\"Error during encryption: {e}\")"
   ]
  },
  {
   "cell_type": "code",
   "execution_count": 5,
   "id": "650ca378-acac-4861-a2c7-41c311a27f0a",
   "metadata": {
    "tags": []
   },
   "outputs": [],
   "source": [
    "def decrypt_file(file, password):\n",
    "    try:\n",
    "        with open(file, 'rb') as f:\n",
    "            file_size = os.path.getsize(file)\n",
    "\n",
    "            if file_size < 44: \n",
    "                raise ValueError(f\"File {file} is too small to be a valid encrypted file.\")\n",
    "\n",
    "            salt = f.read(16)  \n",
    "            nonce = f.read(12)  \n",
    "            encrypted_data = f.read(file_size - 44)  \n",
    "            tag = f.read(16) \n",
    "        \n",
    "      \n",
    "        key = generate_key(password, salt)\n",
    "\n",
    "        cipher = Cipher(algorithms.AES(key), modes.GCM(nonce, tag), backend=default_backend())\n",
    "        decryptor = cipher.decryptor()\n",
    "\n",
    "        decrypted_data = decryptor.update(encrypted_data) + decryptor.finalize()\n",
    "\n",
    "        with open(file, 'wb') as f:\n",
    "            f.write(decrypted_data) \n",
    "\n",
    "        print(f\"File {file} decrypted successfully.\")\n",
    "\n",
    "    except Exception as e:\n",
    "        print(f\"Error during decryption: {e}\")"
   ]
  },
  {
   "cell_type": "code",
   "execution_count": 6,
   "id": "12c29a5f-2af6-4743-9d3c-0885eeecb2a1",
   "metadata": {
    "tags": []
   },
   "outputs": [],
   "source": [
    "def encrypt_folder(folder_path, password):\n",
    "    for root, dirs, files in os.walk(folder_path):\n",
    "        for file in files:\n",
    "            file_path = os.path.join(root, file)\n",
    "            encrypt_file(file_path, password)\n",
    "\n",
    "\n",
    "def decrypt_folder(folder_path, password):\n",
    "    for root, dirs, files in os.walk(folder_path):\n",
    "        for file in files:\n",
    "            file_path = os.path.join(root, file)\n",
    "            decrypt_file(file_path, password)"
   ]
  },
  {
   "cell_type": "markdown",
   "id": "f57f226b-4db2-445f-8531-1a7eb22dbe45",
   "metadata": {},
   "source": [
    "# run code"
   ]
  },
  {
   "cell_type": "code",
   "execution_count": 19,
   "id": "1d84efb6-f009-4130-9226-d8ea842d854b",
   "metadata": {
    "tags": []
   },
   "outputs": [
    {
     "name": "stdout",
     "output_type": "stream",
     "text": [
      "here is my fb password : Mub@een778985"
     ]
    }
   ],
   "source": [
    "!cat ./data/passwords.txt"
   ]
  },
  {
   "cell_type": "markdown",
   "id": "83da0976-899c-4be0-9ffb-36c70afc67f0",
   "metadata": {},
   "source": [
    "# Level 1 Encryption"
   ]
  },
  {
   "cell_type": "code",
   "execution_count": 20,
   "id": "ca70f665-0e07-4dbb-8170-92ba05279827",
   "metadata": {
    "tags": []
   },
   "outputs": [
    {
     "name": "stdout",
     "output_type": "stream",
     "text": [
      "File ./data/passwords.txt encrypted successfully.\n"
     ]
    }
   ],
   "source": [
    "encrypt_folder(\"./data/\",\"mubeen\")"
   ]
  },
  {
   "cell_type": "code",
   "execution_count": 13,
   "id": "eccc9181-2ce7-4280-8fd6-bac2afd008be",
   "metadata": {
    "tags": []
   },
   "outputs": [
    {
     "name": "stdout",
     "output_type": "stream",
     "text": [
      "Վ̘���n\u0012es&�ī��\u0000h��\u001d",
      "��p�����r����S�C܏�\f",
      "���\u0015�"
     ]
    }
   ],
   "source": [
    "!cat ./data/passwords.txt"
   ]
  },
  {
   "cell_type": "markdown",
   "id": "3e2a1734-d4d2-4974-80f3-d8eac357d5cc",
   "metadata": {},
   "source": [
    "# Level 2 Encryption"
   ]
  },
  {
   "cell_type": "code",
   "execution_count": 22,
   "id": "07cf9198-c82e-4a15-9ba8-84506fe4c25a",
   "metadata": {
    "tags": []
   },
   "outputs": [
    {
     "name": "stdout",
     "output_type": "stream",
     "text": [
      "File ./data/passwords.txt encrypted successfully.\n"
     ]
    }
   ],
   "source": [
    "encrypt_folder(\"./data/\",\"mubeen1\") # change password"
   ]
  },
  {
   "cell_type": "code",
   "execution_count": 24,
   "id": "d5fac98c-d40e-4bbb-b7f0-4efb057f9ad8",
   "metadata": {
    "tags": []
   },
   "outputs": [
    {
     "name": "stdout",
     "output_type": "stream",
     "text": [
      "9\u0001F�\u0001��/�E���׃�W���3�DhmѲ�7��H�C�a!_��iL�\u0011f�/2Hv�0�5�\u0019\n",
      "q�Y�8�ѳ\u0006\u0015�ĝ�\u001f�;�\u0015\u0007J\u0000�A:=\u0011\f",
      "�.'�U�]�͌\u001c",
      "^^�)wʽgA3�V�Y\u0013�x�7\u001a��Aqk�"
     ]
    }
   ],
   "source": [
    "!cat ./data/passwords.txt"
   ]
  },
  {
   "cell_type": "markdown",
   "id": "9b1fffae-90ac-44f9-9ba6-743dab27737d",
   "metadata": {},
   "source": [
    "# Level 3 Encryption"
   ]
  },
  {
   "cell_type": "code",
   "execution_count": 25,
   "id": "8e3d9722-0eed-4593-bde8-4db4d813bf7e",
   "metadata": {
    "tags": []
   },
   "outputs": [
    {
     "name": "stdout",
     "output_type": "stream",
     "text": [
      "File ./data/passwords.txt encrypted successfully.\n"
     ]
    }
   ],
   "source": [
    "encrypt_folder(\"./data/\",\"mubeen2\") # again change password"
   ]
  },
  {
   "cell_type": "code",
   "execution_count": 26,
   "id": "37d4058d-f426-485e-a42d-3da30a1ca0cc",
   "metadata": {
    "tags": []
   },
   "outputs": [
    {
     "name": "stdout",
     "output_type": "stream",
     "text": [
      "W_�]�H���Q��k;\f",
      "\u0010\u0017;�b䲌�l�PN�\u0004=j7�5\u001c",
      "\u0019:j�ЩeF:���\u000b",
      "7���'���m�^j\u0015��}i\u0019�ie~��\t?����\u0012q|e�\u0006wA5�X2U\u0018Xo\u0013����\u000b",
      "$�ZU���xi��\u001e",
      "��\u0007��mK��\"�\u0012d\u000f"
     ]
    }
   ],
   "source": [
    "!cat ./data/passwords.txt"
   ]
  },
  {
   "cell_type": "markdown",
   "id": "ec129589-4a07-44e4-84f4-41daad731369",
   "metadata": {},
   "source": [
    "# Level 3 Decryption"
   ]
  },
  {
   "cell_type": "code",
   "execution_count": 27,
   "id": "6ae5a800-4a29-4e0d-ae5e-3500a175f67f",
   "metadata": {
    "tags": []
   },
   "outputs": [
    {
     "name": "stdout",
     "output_type": "stream",
     "text": [
      "File ./data/passwords.txt decrypted successfully.\n"
     ]
    }
   ],
   "source": [
    "decrypt_folder(\"./data/\",\"mubeen2\")"
   ]
  },
  {
   "cell_type": "markdown",
   "id": "befe5e88-9e08-468d-871b-8d7441c8f803",
   "metadata": {},
   "source": [
    "# Level 2 Decryption"
   ]
  },
  {
   "cell_type": "code",
   "execution_count": 28,
   "id": "cd8528cd-c571-4cfa-8129-f36cfef7ad39",
   "metadata": {
    "tags": []
   },
   "outputs": [
    {
     "name": "stdout",
     "output_type": "stream",
     "text": [
      "File ./data/passwords.txt decrypted successfully.\n"
     ]
    }
   ],
   "source": [
    "decrypt_folder(\"./data/\",\"mubeen1\")"
   ]
  },
  {
   "cell_type": "markdown",
   "id": "5046d872-59fd-4a3d-929a-2bc660587399",
   "metadata": {},
   "source": [
    "# Level 1 Decryption"
   ]
  },
  {
   "cell_type": "code",
   "execution_count": 29,
   "id": "41336418-5918-41fc-b996-3230c84022e9",
   "metadata": {
    "tags": []
   },
   "outputs": [
    {
     "name": "stdout",
     "output_type": "stream",
     "text": [
      "File ./data/passwords.txt decrypted successfully.\n"
     ]
    }
   ],
   "source": [
    "decrypt_folder(\"./data/\",\"mubeen\")"
   ]
  },
  {
   "cell_type": "code",
   "execution_count": 30,
   "id": "d44b88f8-1f06-4d55-a853-fda09b6f9a10",
   "metadata": {
    "tags": []
   },
   "outputs": [
    {
     "name": "stdout",
     "output_type": "stream",
     "text": [
      "here is my fb password : Mub@een778985"
     ]
    }
   ],
   "source": [
    "!cat ./data/passwords.txt"
   ]
  }
 ],
 "metadata": {
  "kernelspec": {
   "display_name": "Python 3 (ipykernel)",
   "language": "python",
   "name": "python3"
  },
  "language_info": {
   "codemirror_mode": {
    "name": "ipython",
    "version": 3
   },
   "file_extension": ".py",
   "mimetype": "text/x-python",
   "name": "python",
   "nbconvert_exporter": "python",
   "pygments_lexer": "ipython3",
   "version": "3.10.12"
  }
 },
 "nbformat": 4,
 "nbformat_minor": 5
}

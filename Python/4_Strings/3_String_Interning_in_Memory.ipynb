{
 "cells": [
  {
   "cell_type": "markdown",
   "id": "8a16c79e",
   "metadata": {},
   "source": [
    "# How strings are stored in Memory\n",
    "\n",
    "<h3>\n",
    "• Strings in python stored internally as a Unicode sequence with a know codec.<br><br>That means that they are a sequence of bytes where each character might be one, two, three or four bytes depending on which Unicode page this characters are from.<br><br>\n",
    "\n",
    "<!-- • The standard Python version (Normallly called CPython) will identify the longest Unicode character in the string, and then store every character padded to that length; \n",
    "<br><br>so a string with lots of ASCII (1 byte characters) with a single 4 byte character will be stored as a sequence of 4 bytes where each character is padded to fit into those 4 bytes (in this example).\n",
    "<br><br>\n",
    "The reason for this is that it makes comparisons and indexing very simple; strings are stored internally in contiguous memory so character N in a string will always be at address P+N*K where\n",
    "\n",
    "    P is the pointer to the first character in the string\n",
    "    K is the ‘kind’ of string - ie the padded length of the characters in the string\n",
    "\n",
    "Edited : Added last two paragraphs to clarify the padding, and the storage in contiguous memory\n",
    " -->\n",
    "\n",
    "</h3>"
   ]
  },
  {
   "cell_type": "markdown",
   "id": "f502a0a4",
   "metadata": {},
   "source": [
    "# String Interning"
   ]
  },
  {
   "cell_type": "markdown",
   "id": "d82ef6e0",
   "metadata": {},
   "source": [
    "\n",
    "<h3 style=\"color:#4e2abd;\">1)  If two variables of the strings are same than python does not create the new string they tag the first variable</h3>"
   ]
  },
  {
   "cell_type": "code",
   "execution_count": 1,
   "id": "0ce9fbb1",
   "metadata": {},
   "outputs": [
    {
     "name": "stdout",
     "output_type": "stream",
     "text": [
      "Mubeen Mubeen\n",
      "140080243309296 140080243309296\n"
     ]
    }
   ],
   "source": [
    "s1 = \"Mubeen\"\n",
    "s2 = \"Mubeen\"\n",
    "\n",
    "print(s1,s2)\n",
    "print(id(s1),id(s2))"
   ]
  },
  {
   "cell_type": "code",
   "execution_count": 2,
   "id": "b7d62680",
   "metadata": {},
   "outputs": [
    {
     "data": {
      "text/plain": [
       "True"
      ]
     },
     "execution_count": 2,
     "metadata": {},
     "output_type": "execute_result"
    }
   ],
   "source": [
    "s1 is s2"
   ]
  },
  {
   "cell_type": "code",
   "execution_count": 3,
   "id": "c86b806b",
   "metadata": {},
   "outputs": [
    {
     "data": {
      "text/plain": [
       "140080243309296"
      ]
     },
     "execution_count": 3,
     "metadata": {},
     "output_type": "execute_result"
    }
   ],
   "source": [
    "# check id\n",
    "id(\"Mubeen\")"
   ]
  },
  {
   "cell_type": "markdown",
   "id": "435f3cfe",
   "metadata": {},
   "source": [
    "<h3 style=\"color:#4e2abd;\"> 2) If the Strings are different than python consider that both variables are different</h3>"
   ]
  },
  {
   "cell_type": "code",
   "execution_count": 4,
   "id": "2c5980aa",
   "metadata": {},
   "outputs": [
    {
     "name": "stdout",
     "output_type": "stream",
     "text": [
      "Mubeen mubeen\n",
      "140080243309296 140080243396784\n"
     ]
    }
   ],
   "source": [
    "s1 = \"Mubeen\"\n",
    "s2 = \"mubeen\"\n",
    "print(s1,s2)\n",
    "print(id(s1),id(s2))"
   ]
  },
  {
   "cell_type": "code",
   "execution_count": 5,
   "id": "bcc82d48",
   "metadata": {},
   "outputs": [
    {
     "data": {
      "text/plain": [
       "False"
      ]
     },
     "execution_count": 5,
     "metadata": {},
     "output_type": "execute_result"
    }
   ],
   "source": [
    "s1 is s2"
   ]
  },
  {
   "cell_type": "markdown",
   "id": "d0453406",
   "metadata": {},
   "source": [
    "<h3 style=\"color:#4e2abd;\">3) What Happend if i assign the string variable to other variable ? can python generate the new memory ? </h3>"
   ]
  },
  {
   "cell_type": "code",
   "execution_count": 6,
   "id": "9bf1bc6d",
   "metadata": {},
   "outputs": [
    {
     "data": {
      "text/plain": [
       "140080295653168"
      ]
     },
     "execution_count": 6,
     "metadata": {},
     "output_type": "execute_result"
    }
   ],
   "source": [
    "s = \"Python\"\n",
    "id(s)"
   ]
  },
  {
   "cell_type": "code",
   "execution_count": 7,
   "id": "00cdef3e",
   "metadata": {},
   "outputs": [],
   "source": [
    "s2 = s"
   ]
  },
  {
   "cell_type": "code",
   "execution_count": 8,
   "id": "a4066bb7",
   "metadata": {},
   "outputs": [
    {
     "data": {
      "text/plain": [
       "140080295653168"
      ]
     },
     "execution_count": 8,
     "metadata": {},
     "output_type": "execute_result"
    }
   ],
   "source": [
    "id(s2)"
   ]
  },
  {
   "cell_type": "markdown",
   "id": "97538766",
   "metadata": {},
   "source": [
    "<h3>Python are not generate the new memory block they tag the previous variable</h3>"
   ]
  },
  {
   "cell_type": "code",
   "execution_count": 9,
   "id": "6e473863",
   "metadata": {},
   "outputs": [
    {
     "data": {
      "text/plain": [
       "True"
      ]
     },
     "execution_count": 9,
     "metadata": {},
     "output_type": "execute_result"
    }
   ],
   "source": [
    "s is s2"
   ]
  },
  {
   "cell_type": "markdown",
   "id": "79fdb898",
   "metadata": {},
   "source": [
    "<h3 style=\"color:#4e2abd;\">4) What Happend if i reassign a string </h3>"
   ]
  },
  {
   "cell_type": "code",
   "execution_count": 85,
   "id": "d7591f46",
   "metadata": {},
   "outputs": [
    {
     "name": "stdout",
     "output_type": "stream",
     "text": [
      "140486100095536 Mubeen\n",
      "140486100100976 Ahmad\n",
      "\n",
      "Now Access Previous value with previous address\n",
      "\n",
      "Previous String Mubeen\n",
      "New String      Ahmad\n",
      "\n",
      "Thats means Previous address are inside the Memory \n",
      "\n",
      "id of Mubeen id(Mubeen) 140486100095536\n",
      "id of Ahnad  id(Ahmad)  140486100100976\n"
     ]
    }
   ],
   "source": [
    "s1 = \"Mubeen\"\n",
    "print(id(s1),s1)\n",
    "\n",
    "id_1 = id(s1)\n",
    "\n",
    "# here reassign the variable\n",
    "s1 = \"Ahmad\"\n",
    "print(id(s1),s1)\n",
    "\n",
    "id_2 = id(s1)\n",
    "\n",
    "print(\"\\nNow Access Previous value with previous address\\n\")\n",
    "\n",
    "print(\"Previous String\",ctypes.cast(id_1, ctypes.py_object).value)\n",
    "print(\"New String     \",ctypes.cast(id_2, ctypes.py_object).value)\n",
    "\n",
    "print(\"\\nThats means Previous address are inside the Memory \")\n",
    "print(\"\\nid of Mubeen id(Mubeen)\",id(\"Mubeen\"))\n",
    "print(\"id of Ahnad  id(Ahmad) \",id(\"Ahmad\"))"
   ]
  },
  {
   "cell_type": "markdown",
   "id": "127564bd",
   "metadata": {},
   "source": [
    "# So the point is if both strings are same than python can not create a new Variable ?"
   ]
  },
  {
   "cell_type": "code",
   "execution_count": 95,
   "id": "d1d49df9",
   "metadata": {},
   "outputs": [
    {
     "name": "stdout",
     "output_type": "stream",
     "text": [
      "id of x is 140486178076784\n",
      "id of y is 140486178076784\n"
     ]
    }
   ],
   "source": [
    "x = \"M\"\n",
    "y = \"M\"\n",
    "\n",
    "print(\"id of x is\",id(x))\n",
    "print(\"id of y is\",id(y))\n"
   ]
  },
  {
   "cell_type": "markdown",
   "id": "f5430173",
   "metadata": {},
   "source": [
    "<h3 style=\"color:#4e2abd;\">5) NOte if the string are not alpha numeric than python create a new object. Even the string are same </h3>"
   ]
  },
  {
   "cell_type": "code",
   "execution_count": 119,
   "id": "33d65b3d",
   "metadata": {},
   "outputs": [
    {
     "name": "stdout",
     "output_type": "stream",
     "text": [
      "id of x is 140485552425904\n",
      "id of y is 140485965457328\n",
      "\n",
      "x is alpha-numeric False\n",
      "y is alpha-numeric False\n",
      "\n",
      "Here Both Strings are same but variable is not a Alpha-Numeric\n",
      "\n",
      "Thats Why python consider the both variables are different\n"
     ]
    }
   ],
   "source": [
    "x = \"M \"\n",
    "y = \"M \"\n",
    "\n",
    "print(\"id of x is\",id(x))\n",
    "print(\"id of y is\",id(y))\n",
    "\n",
    "print(\"\\nx is alpha-numeric\",x.isalpha())\n",
    "print(\"y is alpha-numeric\",x.isalpha())\n",
    "print(\"\\nHere Both Strings are same but variable is not a Alpha-Numeric\")\n",
    "print(\"\\nThats Why python consider the both variables are different\")"
   ]
  },
  {
   "cell_type": "markdown",
   "id": "c66d1fdc",
   "metadata": {},
   "source": [
    "<h3 style=\"color:#4e2abd;\">6) The string must be a compile-time constant.<br><br> If the string are not compile  time constant than python create a new object.</h3>"
   ]
  },
  {
   "cell_type": "code",
   "execution_count": 211,
   "id": "b1abd0c5",
   "metadata": {},
   "outputs": [
    {
     "name": "stdout",
     "output_type": "stream",
     "text": [
      "Mubeen Mubeen\n",
      "140485524517040\n",
      "140485524517040\n"
     ]
    }
   ],
   "source": [
    "# E.g compile time string is\n",
    "\n",
    "x = \"Mubeen\"\n",
    "y = \"M\"+\"u\"+\"b\"+\"e\"+\"e\"+\"n\"\n",
    "\n",
    "print(x,y)\n",
    "print(id(x))\n",
    "print(id(y))"
   ]
  },
  {
   "cell_type": "code",
   "execution_count": 217,
   "id": "5583bfed",
   "metadata": {},
   "outputs": [
    {
     "name": "stdout",
     "output_type": "stream",
     "text": [
      "Mubeen Mubeen\n",
      "\n",
      "140485524517040\n",
      "140485524735792\n",
      "\n",
      "SO both python assign different address of both variables. Event both are alpha-numeric\n",
      "True\n",
      "True\n"
     ]
    }
   ],
   "source": [
    "# if  string are not compile time constant\n",
    "\n",
    "x = \"Mubeen\"\n",
    "y = \"\".join([\"M\",\"u\",\"b\",\"e\",\"e\",\"n\"])\n",
    "\n",
    "print(x,y)\n",
    "print()\n",
    "print(id(x))\n",
    "print(id(y))\n",
    "\n",
    "print(\"\\nSO both python assign different address of both variables. Event both are alpha-numeric\")\n",
    "print(x.isalpha())\n",
    "print(y.isalpha())"
   ]
  },
  {
   "cell_type": "markdown",
   "id": "5494dc62",
   "metadata": {},
   "source": [
    "<h3 style=\"color:#4e2abd;\">7 ) if the character greater than 255 than python create a new object </h3>"
   ]
  },
  {
   "cell_type": "code",
   "execution_count": 20,
   "id": "f5b01891",
   "metadata": {},
   "outputs": [
    {
     "name": "stdout",
     "output_type": "stream",
     "text": [
      "139845908337392\n",
      "139845908337392\n"
     ]
    }
   ],
   "source": [
    "x = chr(255)\n",
    "y = chr(255)\n",
    "\n",
    "print(id(x))\n",
    "print(id(y))"
   ]
  },
  {
   "cell_type": "code",
   "execution_count": 21,
   "id": "38630664",
   "metadata": {},
   "outputs": [
    {
     "name": "stdout",
     "output_type": "stream",
     "text": [
      "139845199715648\n",
      "139845199714768\n"
     ]
    }
   ],
   "source": [
    "x = chr(256)\n",
    "y = chr(256)\n",
    "\n",
    "print(id(x))\n",
    "print(id(y))"
   ]
  }
 ],
 "metadata": {
  "kernelspec": {
   "display_name": "Python 3 (ipykernel)",
   "language": "python",
   "name": "python3"
  },
  "language_info": {
   "codemirror_mode": {
    "name": "ipython",
    "version": 3
   },
   "file_extension": ".py",
   "mimetype": "text/x-python",
   "name": "python",
   "nbconvert_exporter": "python",
   "pygments_lexer": "ipython3",
   "version": "3.10.6"
  }
 },
 "nbformat": 4,
 "nbformat_minor": 5
}

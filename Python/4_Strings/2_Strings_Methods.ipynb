{
 "cells": [
  {
   "cell_type": "markdown",
   "id": "97fb2489",
   "metadata": {},
   "source": [
    "# Python has a set of built-in methods that you can use on strings. "
   ]
  },
  {
   "cell_type": "markdown",
   "id": "97a0bf6d",
   "metadata": {},
   "source": [
    "<h3>\n",
    "\n",
    "Note: All string methods returns new values. They do not change the original string.\n",
    "</h3>"
   ]
  },
  {
   "cell_type": "markdown",
   "id": "133d6760",
   "metadata": {},
   "source": [
    "# 1  capitalize\n",
    "\n",
    "<h3>capitalize method convert string to Capitalize</h3>"
   ]
  },
  {
   "cell_type": "code",
   "execution_count": 4,
   "id": "e7cf78af",
   "metadata": {},
   "outputs": [
    {
     "name": "stdout",
     "output_type": "stream",
     "text": [
      "mubeen\n"
     ]
    }
   ],
   "source": [
    "x = \"mubeen\"\n",
    "print(x)"
   ]
  },
  {
   "cell_type": "code",
   "execution_count": 7,
   "id": "fe029707",
   "metadata": {},
   "outputs": [
    {
     "data": {
      "text/plain": [
       "'Mubeen'"
      ]
     },
     "execution_count": 7,
     "metadata": {},
     "output_type": "execute_result"
    }
   ],
   "source": [
    "x.capitalize()"
   ]
  },
  {
   "cell_type": "markdown",
   "id": "270877e5",
   "metadata": {},
   "source": [
    "# 2  casefold\n",
    "\n",
    "<h3>casefold convert string to lowercase<br><br>\n",
    "The casefold() method is similar to the lower() method but it is more aggressive.<br><br>This means the casefold() method converts more characters into lower case compared to lower() . <br><br>\n",
    "    \n",
    "For example, the German letter ß is already lowercase so, the lower() method doesn't make the conversion.\n",
    "<br><br>\n",
    "But the casefold() method will convert ß to its equivalent character ss.\n",
    "</h3>"
   ]
  },
  {
   "cell_type": "code",
   "execution_count": 228,
   "id": "a9b3e336",
   "metadata": {},
   "outputs": [
    {
     "data": {
      "text/plain": [
       "'cross'"
      ]
     },
     "execution_count": 228,
     "metadata": {},
     "output_type": "execute_result"
    }
   ],
   "source": [
    "x = \"CROß\"\n",
    "x.casefold()"
   ]
  },
  {
   "cell_type": "markdown",
   "id": "35aa7e93",
   "metadata": {},
   "source": [
    "# 3  lower\n",
    "\n",
    "<h3>converted to lowercase</h3>"
   ]
  },
  {
   "cell_type": "code",
   "execution_count": 25,
   "id": "31458cf2",
   "metadata": {},
   "outputs": [],
   "source": [
    "x = \"CROß\""
   ]
  },
  {
   "cell_type": "code",
   "execution_count": 22,
   "id": "0659142a",
   "metadata": {},
   "outputs": [
    {
     "data": {
      "text/plain": [
       "'croß'"
      ]
     },
     "execution_count": 22,
     "metadata": {},
     "output_type": "execute_result"
    }
   ],
   "source": [
    "x.lower()\n",
    "# lower not convert non english character"
   ]
  },
  {
   "cell_type": "markdown",
   "id": "14faeed8",
   "metadata": {},
   "source": [
    "# 4  upper\n",
    "\n",
    "<h3>converted to uppercase</h3>"
   ]
  },
  {
   "cell_type": "code",
   "execution_count": 26,
   "id": "b0a6c1ea",
   "metadata": {},
   "outputs": [
    {
     "data": {
      "text/plain": [
       "'MUBEEN'"
      ]
     },
     "execution_count": 26,
     "metadata": {},
     "output_type": "execute_result"
    }
   ],
   "source": [
    "x = \"mubeen\"\n",
    "x.upper()"
   ]
  },
  {
   "cell_type": "markdown",
   "id": "41c353a9",
   "metadata": {},
   "source": [
    "# 5  title\n",
    "\n",
    "<h3>Return String in titlecased</h3>"
   ]
  },
  {
   "cell_type": "code",
   "execution_count": 40,
   "id": "f60f10a9",
   "metadata": {},
   "outputs": [
    {
     "data": {
      "text/plain": [
       "'Mubeen'"
      ]
     },
     "execution_count": 40,
     "metadata": {},
     "output_type": "execute_result"
    }
   ],
   "source": [
    "x = \"MUBEEN\"\n",
    "x.title()"
   ]
  },
  {
   "cell_type": "markdown",
   "id": "fdefb1eb",
   "metadata": {},
   "source": [
    "<h4>If the first character are number or symbole they skip the first english character</h4>"
   ]
  },
  {
   "cell_type": "code",
   "execution_count": 76,
   "id": "1e39c611",
   "metadata": {},
   "outputs": [],
   "source": [
    "x=\"12SS\""
   ]
  },
  {
   "cell_type": "code",
   "execution_count": 77,
   "id": "c60526ec",
   "metadata": {},
   "outputs": [
    {
     "data": {
      "text/plain": [
       "'12Ss'"
      ]
     },
     "execution_count": 77,
     "metadata": {},
     "output_type": "execute_result"
    }
   ],
   "source": [
    "# 2nd S are not converted\n",
    "x.title()"
   ]
  },
  {
   "cell_type": "code",
   "execution_count": 78,
   "id": "2e452864",
   "metadata": {},
   "outputs": [
    {
     "data": {
      "text/plain": [
       "'1S1S1Sss'"
      ]
     },
     "execution_count": 78,
     "metadata": {},
     "output_type": "execute_result"
    }
   ],
   "source": [
    "\"1s1s1sss\".title()"
   ]
  },
  {
   "cell_type": "code",
   "execution_count": 79,
   "id": "f4c10725",
   "metadata": {},
   "outputs": [
    {
     "data": {
      "text/plain": [
       "'1S1S'"
      ]
     },
     "execution_count": 79,
     "metadata": {},
     "output_type": "execute_result"
    }
   ],
   "source": [
    "\"1s1s\".title()"
   ]
  },
  {
   "cell_type": "code",
   "execution_count": 80,
   "id": "81beb80c",
   "metadata": {},
   "outputs": [
    {
     "data": {
      "text/plain": [
       "'__Welcome__'"
      ]
     },
     "execution_count": 80,
     "metadata": {},
     "output_type": "execute_result"
    }
   ],
   "source": [
    "\"__welcome__\".title()"
   ]
  },
  {
   "cell_type": "code",
   "execution_count": 81,
   "id": "b827a31f",
   "metadata": {},
   "outputs": [
    {
     "data": {
      "text/plain": [
       "'22Nd'"
      ]
     },
     "execution_count": 81,
     "metadata": {},
     "output_type": "execute_result"
    }
   ],
   "source": [
    "\"22nd\".title()"
   ]
  },
  {
   "cell_type": "code",
   "execution_count": 82,
   "id": "963bcd4e",
   "metadata": {},
   "outputs": [
    {
     "data": {
      "text/plain": [
       "'1St'"
      ]
     },
     "execution_count": 82,
     "metadata": {},
     "output_type": "execute_result"
    }
   ],
   "source": [
    "\"1st\".title()"
   ]
  },
  {
   "cell_type": "code",
   "execution_count": 83,
   "id": "91de57dc",
   "metadata": {},
   "outputs": [
    {
     "data": {
      "text/plain": [
       "'Welcome'"
      ]
     },
     "execution_count": 83,
     "metadata": {},
     "output_type": "execute_result"
    }
   ],
   "source": [
    "\"WELCOME\".title()"
   ]
  },
  {
   "cell_type": "markdown",
   "id": "47c68795",
   "metadata": {},
   "source": [
    "# 6  swapcase\n",
    "\n",
    "<h3>change upper to lower and lower to upper\n",
    "</h3>"
   ]
  },
  {
   "cell_type": "code",
   "execution_count": 231,
   "id": "005d024a",
   "metadata": {},
   "outputs": [
    {
     "data": {
      "text/plain": [
       "'mUBEEN'"
      ]
     },
     "execution_count": 231,
     "metadata": {},
     "output_type": "execute_result"
    }
   ],
   "source": [
    "x = 'Mubeen'\n",
    "x.swapcase()"
   ]
  },
  {
   "cell_type": "markdown",
   "id": "10395f5e",
   "metadata": {},
   "source": [
    "# 7 center\n",
    "\n",
    "<h3>Return a centered string of length width<br><br> default=' '</h3>"
   ]
  },
  {
   "cell_type": "code",
   "execution_count": 28,
   "id": "ea8bade7",
   "metadata": {},
   "outputs": [
    {
     "data": {
      "text/plain": [
       "'  mubeen  '"
      ]
     },
     "execution_count": 28,
     "metadata": {},
     "output_type": "execute_result"
    }
   ],
   "source": [
    "x.center(10)"
   ]
  },
  {
   "cell_type": "code",
   "execution_count": 30,
   "id": "a66fdee8",
   "metadata": {},
   "outputs": [
    {
     "data": {
      "text/plain": [
       "'**mubeen**'"
      ]
     },
     "execution_count": 30,
     "metadata": {},
     "output_type": "execute_result"
    }
   ],
   "source": [
    "x.center(10,'*')"
   ]
  },
  {
   "cell_type": "markdown",
   "id": "8b7af984",
   "metadata": {},
   "source": [
    "<h3>Note Make sure width is greater than string length</h3> "
   ]
  },
  {
   "cell_type": "code",
   "execution_count": 31,
   "id": "6ca32b7f",
   "metadata": {},
   "outputs": [
    {
     "data": {
      "text/plain": [
       "'mubeen'"
      ]
     },
     "execution_count": 31,
     "metadata": {},
     "output_type": "execute_result"
    }
   ],
   "source": [
    "x.center(5,'*')"
   ]
  },
  {
   "cell_type": "code",
   "execution_count": 36,
   "id": "d42469ab",
   "metadata": {},
   "outputs": [
    {
     "data": {
      "text/plain": [
       "'**mubeen**'"
      ]
     },
     "execution_count": 36,
     "metadata": {},
     "output_type": "execute_result"
    }
   ],
   "source": [
    "l = len(x) # 6\n",
    "width = 4\n",
    "x.center(l+width,'*')"
   ]
  },
  {
   "cell_type": "code",
   "execution_count": 39,
   "id": "2d8d0a18",
   "metadata": {},
   "outputs": [
    {
     "data": {
      "text/plain": [
       "'--mubeen--'"
      ]
     },
     "execution_count": 39,
     "metadata": {},
     "output_type": "execute_result"
    }
   ],
   "source": [
    "x.center(l+width,'-')"
   ]
  },
  {
   "cell_type": "markdown",
   "id": "f5bab771",
   "metadata": {},
   "source": [
    "# 8  replace\n",
    "\n",
    "<h3>replace the specfic characters<br><br>\n",
    "parameters : \n",
    "    old, new, count=-1,<br><br> count is optional\n",
    "</h3>"
   ]
  },
  {
   "cell_type": "code",
   "execution_count": 84,
   "id": "4c72a661",
   "metadata": {},
   "outputs": [],
   "source": [
    "x = \"Mubeen is Bad Boy\""
   ]
  },
  {
   "cell_type": "code",
   "execution_count": 87,
   "id": "19429e25",
   "metadata": {},
   "outputs": [
    {
     "data": {
      "text/plain": [
       "'Mubeen is Good Boy'"
      ]
     },
     "execution_count": 87,
     "metadata": {},
     "output_type": "execute_result"
    }
   ],
   "source": [
    "x.replace(\"Bad\",\"Good\")"
   ]
  },
  {
   "cell_type": "code",
   "execution_count": 95,
   "id": "a5d1e3f0",
   "metadata": {},
   "outputs": [],
   "source": [
    "x = \"Mubeen is not good Boy and not good in Cheating\""
   ]
  },
  {
   "cell_type": "code",
   "execution_count": 96,
   "id": "0f3c4d2d",
   "metadata": {},
   "outputs": [
    {
     "data": {
      "text/plain": [
       "'Mubeen is  good Boy and  good in Cheating'"
      ]
     },
     "execution_count": 96,
     "metadata": {},
     "output_type": "execute_result"
    }
   ],
   "source": [
    "# \n",
    "x.replace(\"not\",\"\")"
   ]
  },
  {
   "cell_type": "code",
   "execution_count": 100,
   "id": "58abc459",
   "metadata": {},
   "outputs": [
    {
     "data": {
      "text/plain": [
       "'Mubeen is  good Boy and not good in Cheating'"
      ]
     },
     "execution_count": 100,
     "metadata": {},
     "output_type": "execute_result"
    }
   ],
   "source": [
    "# replace only 1st not\n",
    "x.replace(\"not\",\"\",1)"
   ]
  },
  {
   "cell_type": "code",
   "execution_count": 104,
   "id": "dec828ae",
   "metadata": {},
   "outputs": [
    {
     "data": {
      "text/plain": [
       "'   remove'"
      ]
     },
     "execution_count": 104,
     "metadata": {},
     "output_type": "execute_result"
    }
   ],
   "source": [
    "x = \"remove remove remove remove\"\n",
    "\n",
    "# replace first 2 \n",
    "x.replace(\"remove\",\"\",3)"
   ]
  },
  {
   "cell_type": "markdown",
   "id": "1ad3bdb3",
   "metadata": {},
   "source": [
    "# 9  join\n",
    "<h3>Add Characters to string</h3>"
   ]
  },
  {
   "cell_type": "code",
   "execution_count": 115,
   "id": "db0b05ca",
   "metadata": {},
   "outputs": [],
   "source": [
    "name = \"mubeen\""
   ]
  },
  {
   "cell_type": "code",
   "execution_count": 123,
   "id": "ae096acd",
   "metadata": {},
   "outputs": [
    {
     "data": {
      "text/plain": [
       "'m u b e e n'"
      ]
     },
     "execution_count": 123,
     "metadata": {},
     "output_type": "execute_result"
    }
   ],
   "source": [
    "\" \".join(name)"
   ]
  },
  {
   "cell_type": "code",
   "execution_count": 124,
   "id": "6b2124e1",
   "metadata": {},
   "outputs": [
    {
     "data": {
      "text/plain": [
       "'m-u-b-e-e-n'"
      ]
     },
     "execution_count": 124,
     "metadata": {},
     "output_type": "execute_result"
    }
   ],
   "source": [
    "char = \"-\"\n",
    "\n",
    "char.join(name)"
   ]
  },
  {
   "cell_type": "code",
   "execution_count": 131,
   "id": "531c4a60",
   "metadata": {},
   "outputs": [
    {
     "data": {
      "text/plain": [
       "'Mubeen Ahmad Anon'"
      ]
     },
     "execution_count": 131,
     "metadata": {},
     "output_type": "execute_result"
    }
   ],
   "source": [
    "# convert list to string \n",
    "\n",
    "l = [\"Mubeen\",\"Ahmad\",\"Anon\"]\n",
    "\n",
    "\" \".join(l)"
   ]
  },
  {
   "cell_type": "markdown",
   "id": "434ccefe",
   "metadata": {},
   "source": [
    "# 10  lstrip\n",
    "\n",
    "<h3>whitespace removed at left.</h3>"
   ]
  },
  {
   "cell_type": "code",
   "execution_count": 138,
   "id": "8206b231",
   "metadata": {},
   "outputs": [
    {
     "data": {
      "text/plain": [
       "'Mubeen                    '"
      ]
     },
     "execution_count": 138,
     "metadata": {},
     "output_type": "execute_result"
    }
   ],
   "source": [
    "x = \"                 Mubeen                    \"\n",
    "x.lstrip()"
   ]
  },
  {
   "cell_type": "code",
   "execution_count": 139,
   "id": "e0b63d1b",
   "metadata": {},
   "outputs": [
    {
     "data": {
      "text/plain": [
       "'Mubeen___________________'"
      ]
     },
     "execution_count": 139,
     "metadata": {},
     "output_type": "execute_result"
    }
   ],
   "source": [
    "# change character\n",
    "x = \"____________________Mubeen___________________\"\n",
    "x.lstrip(\"_\")"
   ]
  },
  {
   "cell_type": "markdown",
   "id": "0bd1323f",
   "metadata": {},
   "source": [
    "# 11  rstrip\n",
    "\n",
    "<h3>whitespace removed at right.</h3>"
   ]
  },
  {
   "cell_type": "code",
   "execution_count": 140,
   "id": "acd27505",
   "metadata": {},
   "outputs": [
    {
     "data": {
      "text/plain": [
       "'                 Mubeen'"
      ]
     },
     "execution_count": 140,
     "metadata": {},
     "output_type": "execute_result"
    }
   ],
   "source": [
    "x = \"                 Mubeen                    \"\n",
    "x.rstrip()"
   ]
  },
  {
   "cell_type": "code",
   "execution_count": 141,
   "id": "842ffac3",
   "metadata": {},
   "outputs": [
    {
     "data": {
      "text/plain": [
       "'____________________Mubeen'"
      ]
     },
     "execution_count": 141,
     "metadata": {},
     "output_type": "execute_result"
    }
   ],
   "source": [
    "# change character\n",
    "x = \"____________________Mubeen___________________\"\n",
    "x.rstrip(\"_\")"
   ]
  },
  {
   "cell_type": "markdown",
   "id": "2dae1a94",
   "metadata": {},
   "source": [
    "# 12 strip\n",
    "\n",
    "<h3>whitespace removed at left and right</h3>"
   ]
  },
  {
   "cell_type": "code",
   "execution_count": 144,
   "id": "fc617cdf",
   "metadata": {},
   "outputs": [
    {
     "data": {
      "text/plain": [
       "'Mubeen'"
      ]
     },
     "execution_count": 144,
     "metadata": {},
     "output_type": "execute_result"
    }
   ],
   "source": [
    "x = \"                 Mubeen                    \"\n",
    "x.strip()"
   ]
  },
  {
   "cell_type": "code",
   "execution_count": 145,
   "id": "bd805bc2",
   "metadata": {},
   "outputs": [
    {
     "data": {
      "text/plain": [
       "'Mubeen'"
      ]
     },
     "execution_count": 145,
     "metadata": {},
     "output_type": "execute_result"
    }
   ],
   "source": [
    "# change character\n",
    "x = \"____________________Mubeen___________________\"\n",
    "x.strip(\"_\")"
   ]
  },
  {
   "cell_type": "markdown",
   "id": "fc998d2b",
   "metadata": {},
   "source": [
    "# 13 splitlines\n",
    "\n",
    "<h3>Return a list of the lines in the string, breaking at line boundaries.<br><br>keepends=False at default\n",
    "</h3>"
   ]
  },
  {
   "cell_type": "code",
   "execution_count": 157,
   "id": "ff13a029",
   "metadata": {},
   "outputs": [
    {
     "name": "stdout",
     "output_type": "stream",
     "text": [
      "Mubeen\n",
      "Ahmad\n"
     ]
    }
   ],
   "source": [
    "x=\"Mubeen\\nAhmad\"\n",
    "print(x)"
   ]
  },
  {
   "cell_type": "code",
   "execution_count": 156,
   "id": "0efd9a19",
   "metadata": {},
   "outputs": [
    {
     "data": {
      "text/plain": [
       "['Mubeen', 'Ahmad']"
      ]
     },
     "execution_count": 156,
     "metadata": {},
     "output_type": "execute_result"
    }
   ],
   "source": [
    "x.splitlines()"
   ]
  },
  {
   "cell_type": "code",
   "execution_count": 159,
   "id": "5f3c4d7f",
   "metadata": {},
   "outputs": [
    {
     "data": {
      "text/plain": [
       "['Mubeen\\n', 'Ahmad']"
      ]
     },
     "execution_count": 159,
     "metadata": {},
     "output_type": "execute_result"
    }
   ],
   "source": [
    "# keep \\n symbole\n",
    "\n",
    "x.splitlines(keepends=True)"
   ]
  },
  {
   "cell_type": "markdown",
   "id": "ddd87595",
   "metadata": {},
   "source": [
    "# 14  split\n",
    "\n",
    "<h3>Return a list of the substrings in the string, using sep as the separator string.<br><br>sep=None, maxsplit=-1\n",
    "</h3>"
   ]
  },
  {
   "cell_type": "code",
   "execution_count": 175,
   "id": "f05bc128",
   "metadata": {},
   "outputs": [],
   "source": [
    "x = \"Mubeen\\nAHmad\""
   ]
  },
  {
   "cell_type": "code",
   "execution_count": 178,
   "id": "2d503d90",
   "metadata": {},
   "outputs": [
    {
     "data": {
      "text/plain": [
       "['Mubeen', 'AHmad']"
      ]
     },
     "execution_count": 178,
     "metadata": {},
     "output_type": "execute_result"
    }
   ],
   "source": [
    "x.split()"
   ]
  },
  {
   "cell_type": "markdown",
   "id": "09b44af4",
   "metadata": {},
   "source": [
    "<h4>change seprator</h4>"
   ]
  },
  {
   "cell_type": "code",
   "execution_count": 182,
   "id": "c853c0f2",
   "metadata": {},
   "outputs": [],
   "source": [
    "x = \"Mubeen,AHmad\""
   ]
  },
  {
   "cell_type": "code",
   "execution_count": 183,
   "id": "0d560e80",
   "metadata": {},
   "outputs": [
    {
     "data": {
      "text/plain": [
       "['Mubeen,AHmad']"
      ]
     },
     "execution_count": 183,
     "metadata": {},
     "output_type": "execute_result"
    }
   ],
   "source": [
    "x.split()"
   ]
  },
  {
   "cell_type": "code",
   "execution_count": 185,
   "id": "03e2d21c",
   "metadata": {},
   "outputs": [
    {
     "data": {
      "text/plain": [
       "['Mubeen', 'AHmad']"
      ]
     },
     "execution_count": 185,
     "metadata": {},
     "output_type": "execute_result"
    }
   ],
   "source": [
    "# change seprator \n",
    "x.split(',')"
   ]
  },
  {
   "cell_type": "markdown",
   "id": "418a64b0",
   "metadata": {},
   "source": [
    "<h4>change maxsplit</h4>"
   ]
  },
  {
   "cell_type": "code",
   "execution_count": 196,
   "id": "6333f411",
   "metadata": {},
   "outputs": [],
   "source": [
    "x = \"Mubeen*Ahmad*404*\""
   ]
  },
  {
   "cell_type": "code",
   "execution_count": 200,
   "id": "828562d9",
   "metadata": {},
   "outputs": [
    {
     "data": {
      "text/plain": [
       "['Mubeen', 'Ahmad', '404', '']"
      ]
     },
     "execution_count": 200,
     "metadata": {},
     "output_type": "execute_result"
    }
   ],
   "source": [
    "x.split(\"*\")"
   ]
  },
  {
   "cell_type": "code",
   "execution_count": 203,
   "id": "549251f9",
   "metadata": {},
   "outputs": [
    {
     "data": {
      "text/plain": [
       "['Mubeen', 'Ahmad', '404*']"
      ]
     },
     "execution_count": 203,
     "metadata": {},
     "output_type": "execute_result"
    }
   ],
   "source": [
    "# change maxsplit\n",
    "x.split(\"*\",maxsplit=2)"
   ]
  },
  {
   "cell_type": "markdown",
   "id": "87d995dd",
   "metadata": {},
   "source": [
    "# 15  rsplit\n",
    "\n",
    "<h3>Return a list of the substrings in the string, using sep as the separator string only at right.<br><br>sep=None, maxsplit=-1\n",
    "</h3>"
   ]
  },
  {
   "cell_type": "code",
   "execution_count": 224,
   "id": "e6504bfe",
   "metadata": {},
   "outputs": [
    {
     "data": {
      "text/plain": [
       "['', 'mubeen', 'ahmad', '']"
      ]
     },
     "execution_count": 224,
     "metadata": {},
     "output_type": "execute_result"
    }
   ],
   "source": [
    "x = \"*mubeen*ahmad*\"\n",
    "x.rsplit('*')"
   ]
  },
  {
   "cell_type": "code",
   "execution_count": 228,
   "id": "41a04d7c",
   "metadata": {},
   "outputs": [
    {
     "data": {
      "text/plain": [
       "['*mubeen*ahmad', '']"
      ]
     },
     "execution_count": 228,
     "metadata": {},
     "output_type": "execute_result"
    }
   ],
   "source": [
    "x = \"*mubeen*ahmad*\"\n",
    "x.rsplit('*',maxsplit=1)"
   ]
  },
  {
   "cell_type": "code",
   "execution_count": 229,
   "id": "46560478",
   "metadata": {},
   "outputs": [
    {
     "data": {
      "text/plain": [
       "['*mubeen', 'ahmad', '']"
      ]
     },
     "execution_count": 229,
     "metadata": {},
     "output_type": "execute_result"
    }
   ],
   "source": [
    "x.rsplit('*',maxsplit=2)"
   ]
  },
  {
   "cell_type": "markdown",
   "id": "a7847e97",
   "metadata": {},
   "source": [
    "# 16  ljust\n",
    "\n",
    "<h3>Return a left-justified string of length width.\n",
    "<br><br>width, fillchar=' '\n",
    "</h3>"
   ]
  },
  {
   "cell_type": "code",
   "execution_count": 233,
   "id": "761029a2",
   "metadata": {},
   "outputs": [
    {
     "data": {
      "text/plain": [
       "'Mubeen    '"
      ]
     },
     "execution_count": 233,
     "metadata": {},
     "output_type": "execute_result"
    }
   ],
   "source": [
    "x = \"Mubeen\"\n",
    "x.ljust(10)"
   ]
  },
  {
   "cell_type": "code",
   "execution_count": 235,
   "id": "6b428d6f",
   "metadata": {},
   "outputs": [
    {
     "data": {
      "text/plain": [
       "'Mubeen'"
      ]
     },
     "execution_count": 235,
     "metadata": {},
     "output_type": "execute_result"
    }
   ],
   "source": [
    "# make sure width are greater than length of string\n",
    "\n",
    "x = \"Mubeen\"\n",
    "x.ljust(3)"
   ]
  },
  {
   "cell_type": "code",
   "execution_count": 237,
   "id": "66971775",
   "metadata": {},
   "outputs": [
    {
     "data": {
      "text/plain": [
       "'Mubeen   '"
      ]
     },
     "execution_count": 237,
     "metadata": {},
     "output_type": "execute_result"
    }
   ],
   "source": [
    "x = \"Mubeen\"\n",
    "\n",
    "x.ljust(len(x)+3)"
   ]
  },
  {
   "cell_type": "markdown",
   "id": "d5a95614",
   "metadata": {},
   "source": [
    "<h4>Change character</h4>"
   ]
  },
  {
   "cell_type": "code",
   "execution_count": 238,
   "id": "5428d795",
   "metadata": {},
   "outputs": [
    {
     "data": {
      "text/plain": [
       "'Mubeen___'"
      ]
     },
     "execution_count": 238,
     "metadata": {},
     "output_type": "execute_result"
    }
   ],
   "source": [
    "x = \"Mubeen\"\n",
    "width = len(x)+3\n",
    "x.ljust(width,\"_\")"
   ]
  },
  {
   "cell_type": "markdown",
   "id": "b4f2bfce",
   "metadata": {},
   "source": [
    "# 17  rjust\n",
    "\n",
    "<h3>Return a right-justified string of length width.\n",
    "<br><br>width, fillchar=' '\n",
    "</h3>"
   ]
  },
  {
   "cell_type": "code",
   "execution_count": 239,
   "id": "6be43ba8",
   "metadata": {},
   "outputs": [
    {
     "data": {
      "text/plain": [
       "'   Mubeen'"
      ]
     },
     "execution_count": 239,
     "metadata": {},
     "output_type": "execute_result"
    }
   ],
   "source": [
    "x = \"Mubeen\"\n",
    "\n",
    "x.rjust(len(x)+3)"
   ]
  },
  {
   "cell_type": "code",
   "execution_count": 1,
   "id": "d963d116",
   "metadata": {},
   "outputs": [
    {
     "data": {
      "text/plain": [
       "'___Mubeen'"
      ]
     },
     "execution_count": 1,
     "metadata": {},
     "output_type": "execute_result"
    }
   ],
   "source": [
    "x = \"Mubeen\"\n",
    "width = len(x)+3\n",
    "\n",
    "x.rjust(width,\"_\")"
   ]
  },
  {
   "cell_type": "markdown",
   "id": "34d90714",
   "metadata": {},
   "source": [
    "# 18  index\n",
    "\n",
    "<h3>Return the lowest index where substring sub is found, return error if string not found\n",
    "<br><br>sub[, start[, end]])\n",
    "</h3>"
   ]
  },
  {
   "cell_type": "code",
   "execution_count": 243,
   "id": "29b9e90c",
   "metadata": {},
   "outputs": [],
   "source": [
    "x = \"Mubeen\""
   ]
  },
  {
   "cell_type": "code",
   "execution_count": 246,
   "id": "eca770e2",
   "metadata": {},
   "outputs": [
    {
     "data": {
      "text/plain": [
       "1"
      ]
     },
     "execution_count": 246,
     "metadata": {},
     "output_type": "execute_result"
    }
   ],
   "source": [
    "x.index('u')"
   ]
  },
  {
   "cell_type": "code",
   "execution_count": 247,
   "id": "526872a5",
   "metadata": {},
   "outputs": [
    {
     "data": {
      "text/plain": [
       "0"
      ]
     },
     "execution_count": 247,
     "metadata": {},
     "output_type": "execute_result"
    }
   ],
   "source": [
    "x.index('M')"
   ]
  },
  {
   "cell_type": "code",
   "execution_count": 248,
   "id": "e71db6cb",
   "metadata": {},
   "outputs": [
    {
     "data": {
      "text/plain": [
       "3"
      ]
     },
     "execution_count": 248,
     "metadata": {},
     "output_type": "execute_result"
    }
   ],
   "source": [
    "x.index('e')"
   ]
  },
  {
   "cell_type": "code",
   "execution_count": 249,
   "id": "8ac3c22a",
   "metadata": {},
   "outputs": [
    {
     "ename": "ValueError",
     "evalue": "substring not found",
     "output_type": "error",
     "traceback": [
      "\u001b[0;31m---------------------------------------------------------------------------\u001b[0m",
      "\u001b[0;31mValueError\u001b[0m                                Traceback (most recent call last)",
      "Cell \u001b[0;32mIn [249], line 1\u001b[0m\n\u001b[0;32m----> 1\u001b[0m \u001b[43mx\u001b[49m\u001b[38;5;241;43m.\u001b[39;49m\u001b[43mindex\u001b[49m\u001b[43m(\u001b[49m\u001b[38;5;124;43m'\u001b[39;49m\u001b[38;5;124;43ms\u001b[39;49m\u001b[38;5;124;43m'\u001b[39;49m\u001b[43m)\u001b[49m\n",
      "\u001b[0;31mValueError\u001b[0m: substring not found"
     ]
    }
   ],
   "source": [
    "x.index('s')"
   ]
  },
  {
   "cell_type": "code",
   "execution_count": 289,
   "id": "79aa28e5",
   "metadata": {},
   "outputs": [],
   "source": [
    "x = \"we are anonmyous we are legions we are never forget\""
   ]
  },
  {
   "cell_type": "code",
   "execution_count": 257,
   "id": "409a54a8",
   "metadata": {},
   "outputs": [
    {
     "data": {
      "text/plain": [
       "3"
      ]
     },
     "execution_count": 257,
     "metadata": {},
     "output_type": "execute_result"
    }
   ],
   "source": [
    "x.index(\"are\")"
   ]
  },
  {
   "cell_type": "code",
   "execution_count": 336,
   "id": "04660096",
   "metadata": {},
   "outputs": [
    {
     "data": {
      "text/plain": [
       "20"
      ]
     },
     "execution_count": 336,
     "metadata": {},
     "output_type": "execute_result"
    }
   ],
   "source": [
    "# find 2nd are\n",
    "\n",
    "start = 3+1\n",
    "x.index(\"are\",start)"
   ]
  },
  {
   "cell_type": "code",
   "execution_count": 260,
   "id": "45723bb4",
   "metadata": {},
   "outputs": [
    {
     "data": {
      "text/plain": [
       "35"
      ]
     },
     "execution_count": 260,
     "metadata": {},
     "output_type": "execute_result"
    }
   ],
   "source": [
    "# find 3rd we\n",
    "\n",
    "x.index(\"are\",20+1)"
   ]
  },
  {
   "cell_type": "code",
   "execution_count": 337,
   "id": "d69038e5",
   "metadata": {},
   "outputs": [
    {
     "data": {
      "text/plain": [
       "17"
      ]
     },
     "execution_count": 337,
     "metadata": {},
     "output_type": "execute_result"
    }
   ],
   "source": [
    "# find we reverse -1 \n",
    "\n",
    "# last we at 17\n",
    "start = 1\n",
    "end = -1\n",
    "x.index(\"we\",start,end)\n"
   ]
  },
  {
   "cell_type": "code",
   "execution_count": 314,
   "id": "351bcfe5",
   "metadata": {},
   "outputs": [
    {
     "data": {
      "text/plain": [
       "32"
      ]
     },
     "execution_count": 314,
     "metadata": {},
     "output_type": "execute_result"
    }
   ],
   "source": [
    "x.index(\"we\",18,-1)"
   ]
  },
  {
   "cell_type": "markdown",
   "id": "05fdfed3",
   "metadata": {},
   "source": [
    "# 19  rindex\n",
    "\n",
    "<h3>Return the lowest index where substring sub is found only at right, return error if string not found\n",
    "<br><br>sub[, start[, end]])\n",
    "</h3>"
   ]
  },
  {
   "cell_type": "code",
   "execution_count": 315,
   "id": "b585126e",
   "metadata": {},
   "outputs": [
    {
     "data": {
      "text/plain": [
       "'we are anonmyous we are legions we are never forget'"
      ]
     },
     "execution_count": 315,
     "metadata": {},
     "output_type": "execute_result"
    }
   ],
   "source": [
    "x"
   ]
  },
  {
   "cell_type": "code",
   "execution_count": 346,
   "id": "b27e3de4",
   "metadata": {},
   "outputs": [
    {
     "data": {
      "text/plain": [
       "0"
      ]
     },
     "execution_count": 346,
     "metadata": {},
     "output_type": "execute_result"
    }
   ],
   "source": [
    "x.rindex(\"we\",0,10)"
   ]
  },
  {
   "cell_type": "code",
   "execution_count": 348,
   "id": "664f49fe",
   "metadata": {},
   "outputs": [
    {
     "data": {
      "text/plain": [
       "17"
      ]
     },
     "execution_count": 348,
     "metadata": {},
     "output_type": "execute_result"
    }
   ],
   "source": [
    "x.rindex(\"we\",0,20)"
   ]
  },
  {
   "cell_type": "code",
   "execution_count": 351,
   "id": "a6d1b5e6",
   "metadata": {},
   "outputs": [
    {
     "data": {
      "text/plain": [
       "32"
      ]
     },
     "execution_count": 351,
     "metadata": {},
     "output_type": "execute_result"
    }
   ],
   "source": [
    "x.rindex(\"we\",0,40)"
   ]
  },
  {
   "cell_type": "markdown",
   "id": "71d6c2c9",
   "metadata": {},
   "source": [
    "# 20  find\n",
    "\n",
    "<h3>Return the lowest index where substring sub is found, return -1 if string not found\n",
    "<br><br>sub[, start[, end]])<br><br> it is better than index\n",
    "</h3>"
   ]
  },
  {
   "cell_type": "code",
   "execution_count": 352,
   "id": "531cd814",
   "metadata": {},
   "outputs": [
    {
     "data": {
      "text/plain": [
       "'we are anonmyous we are legions we are never forget'"
      ]
     },
     "execution_count": 352,
     "metadata": {},
     "output_type": "execute_result"
    }
   ],
   "source": [
    "x"
   ]
  },
  {
   "cell_type": "code",
   "execution_count": 353,
   "id": "cd0fc2c3",
   "metadata": {},
   "outputs": [
    {
     "data": {
      "text/plain": [
       "0"
      ]
     },
     "execution_count": 353,
     "metadata": {},
     "output_type": "execute_result"
    }
   ],
   "source": [
    "x.find(\"we\")"
   ]
  },
  {
   "cell_type": "code",
   "execution_count": 355,
   "id": "3e86fd45",
   "metadata": {},
   "outputs": [
    {
     "data": {
      "text/plain": [
       "17"
      ]
     },
     "execution_count": 355,
     "metadata": {},
     "output_type": "execute_result"
    }
   ],
   "source": [
    "x.find(\"we\",1)"
   ]
  },
  {
   "cell_type": "code",
   "execution_count": 357,
   "id": "38c1387f",
   "metadata": {},
   "outputs": [
    {
     "data": {
      "text/plain": [
       "32"
      ]
     },
     "execution_count": 357,
     "metadata": {},
     "output_type": "execute_result"
    }
   ],
   "source": [
    "x.find(\"we\",18)"
   ]
  },
  {
   "cell_type": "code",
   "execution_count": 365,
   "id": "9423aeaa",
   "metadata": {},
   "outputs": [
    {
     "data": {
      "text/plain": [
       "17"
      ]
     },
     "execution_count": 365,
     "metadata": {},
     "output_type": "execute_result"
    }
   ],
   "source": [
    "# find mid we\n",
    "\n",
    "start = 1\n",
    "end=-1\n",
    "\n",
    "x.find(\"we\",start,end)"
   ]
  },
  {
   "cell_type": "markdown",
   "id": "a7536822",
   "metadata": {},
   "source": [
    "# Trick to find all specfic characters"
   ]
  },
  {
   "cell_type": "code",
   "execution_count": 384,
   "id": "2581f5be",
   "metadata": {},
   "outputs": [
    {
     "name": "stdout",
     "output_type": "stream",
     "text": [
      "0 17 32\n"
     ]
    }
   ],
   "source": [
    "# without loop\n",
    "\n",
    "_1st = x.find(\"we\")\n",
    "_2nd = x.find(\"we\",_1st+1)\n",
    "_3rd = x.find(\"we\",_2nd+1)\n",
    "\n",
    "print(_1st,_2nd,_3rd)"
   ]
  },
  {
   "cell_type": "code",
   "execution_count": 385,
   "id": "bcc824a9",
   "metadata": {},
   "outputs": [
    {
     "data": {
      "text/plain": [
       "[0, 17, 32]"
      ]
     },
     "execution_count": 385,
     "metadata": {},
     "output_type": "execute_result"
    }
   ],
   "source": [
    "# With loop\n",
    "\n",
    "ind = []\n",
    "\n",
    "for i in range(len(x)+1):\n",
    "    s = x.find(\"we\",i)\n",
    "    if s == -1:\n",
    "        break\n",
    "    ind.append(s)\n",
    "\n",
    "\n",
    "ind = list(set(ind))\n",
    "ind"
   ]
  },
  {
   "cell_type": "markdown",
   "id": "0a04320c",
   "metadata": {},
   "source": [
    "# 21  rfind\n",
    "\n",
    "<h3>Return the lowest index where substring sub is found onlly for right, return -1 if string not found\n",
    "<br><br>sub[, start[, end]])\n",
    "</h3>"
   ]
  },
  {
   "cell_type": "code",
   "execution_count": 386,
   "id": "6b7dd53f",
   "metadata": {},
   "outputs": [
    {
     "data": {
      "text/plain": [
       "32"
      ]
     },
     "execution_count": 386,
     "metadata": {},
     "output_type": "execute_result"
    }
   ],
   "source": [
    "x.rfind(\"we\")"
   ]
  },
  {
   "cell_type": "code",
   "execution_count": 391,
   "id": "00004547",
   "metadata": {},
   "outputs": [
    {
     "data": {
      "text/plain": [
       "17"
      ]
     },
     "execution_count": 391,
     "metadata": {},
     "output_type": "execute_result"
    }
   ],
   "source": [
    "start = 0\n",
    "end = 32\n",
    "x.rfind(\"we\",start,end)"
   ]
  },
  {
   "cell_type": "code",
   "execution_count": 394,
   "id": "416bbc17",
   "metadata": {},
   "outputs": [
    {
     "data": {
      "text/plain": [
       "0"
      ]
     },
     "execution_count": 394,
     "metadata": {},
     "output_type": "execute_result"
    }
   ],
   "source": [
    "start = 0\n",
    "end = 17\n",
    "x.rfind(\"we\",start,end)"
   ]
  },
  {
   "cell_type": "markdown",
   "id": "1df6b6fe",
   "metadata": {},
   "source": [
    "# 22  count\n",
    "\n",
    "<h3>Return the number of non-overlapping occurrences of substring sub in\n",
    "string <br><br>\n",
    "S[start:end] Optional arguments start and end are\n",
    "interpreted as in slice notation.\n",
    "<br><br>prefix[, start[, end]]\n",
    "</h3>"
   ]
  },
  {
   "cell_type": "code",
   "execution_count": 128,
   "id": "4efac03c",
   "metadata": {},
   "outputs": [
    {
     "data": {
      "text/plain": [
       "2"
      ]
     },
     "execution_count": 128,
     "metadata": {},
     "output_type": "execute_result"
    }
   ],
   "source": [
    "x = \"Mubeen\"\n",
    "x.count('e')"
   ]
  },
  {
   "cell_type": "code",
   "execution_count": 130,
   "id": "b54a6e32",
   "metadata": {},
   "outputs": [
    {
     "data": {
      "text/plain": [
       "2"
      ]
     },
     "execution_count": 130,
     "metadata": {},
     "output_type": "execute_result"
    }
   ],
   "source": [
    "x = \"dont me count,count me\"\n",
    "x.count('me')"
   ]
  },
  {
   "cell_type": "code",
   "execution_count": 133,
   "id": "0b880dff",
   "metadata": {},
   "outputs": [
    {
     "data": {
      "text/plain": [
       "1"
      ]
     },
     "execution_count": 133,
     "metadata": {},
     "output_type": "execute_result"
    }
   ],
   "source": [
    "# change start\n",
    "x.count('me',6)"
   ]
  },
  {
   "cell_type": "code",
   "execution_count": 134,
   "id": "09a53bb8",
   "metadata": {},
   "outputs": [],
   "source": [
    "x = \"dont count me,count me, dont count me\""
   ]
  },
  {
   "cell_type": "code",
   "execution_count": 137,
   "id": "76658e90",
   "metadata": {},
   "outputs": [
    {
     "data": {
      "text/plain": [
       "2"
      ]
     },
     "execution_count": 137,
     "metadata": {},
     "output_type": "execute_result"
    }
   ],
   "source": [
    "x.count('me',12)"
   ]
  },
  {
   "cell_type": "code",
   "execution_count": 139,
   "id": "59562270",
   "metadata": {},
   "outputs": [
    {
     "data": {
      "text/plain": [
       "1"
      ]
     },
     "execution_count": 139,
     "metadata": {},
     "output_type": "execute_result"
    }
   ],
   "source": [
    "# change end\n",
    "\n",
    "x.count('me',12,22)"
   ]
  },
  {
   "cell_type": "markdown",
   "id": "7e0c5dca",
   "metadata": {},
   "source": [
    "# 23  startswith\n",
    "<h3>Return True if S starts with the specified prefix, False otherwise.\n",
    "<br><br>prefix[, start[, end]]\n",
    "</h3>"
   ]
  },
  {
   "cell_type": "code",
   "execution_count": 9,
   "id": "67c318fe",
   "metadata": {},
   "outputs": [
    {
     "data": {
      "text/plain": [
       "True"
      ]
     },
     "execution_count": 9,
     "metadata": {},
     "output_type": "execute_result"
    }
   ],
   "source": [
    "x = \"Hello World\"\n",
    "\n",
    "x.startswith('H')"
   ]
  },
  {
   "cell_type": "code",
   "execution_count": 10,
   "id": "0ccd9fdc",
   "metadata": {},
   "outputs": [
    {
     "name": "stdout",
     "output_type": "stream",
     "text": [
      "True\n",
      "True\n",
      "True\n"
     ]
    }
   ],
   "source": [
    "print(x.startswith('He'))\n",
    "print(x.startswith('Hell'))\n",
    "print(x.startswith('Hello'))"
   ]
  },
  {
   "cell_type": "code",
   "execution_count": 11,
   "id": "1123644c",
   "metadata": {},
   "outputs": [
    {
     "data": {
      "text/plain": [
       "False"
      ]
     },
     "execution_count": 11,
     "metadata": {},
     "output_type": "execute_result"
    }
   ],
   "source": [
    "x.startswith(\"ello\")"
   ]
  },
  {
   "cell_type": "code",
   "execution_count": 14,
   "id": "14fa4037",
   "metadata": {},
   "outputs": [
    {
     "data": {
      "text/plain": [
       "False"
      ]
     },
     "execution_count": 14,
     "metadata": {},
     "output_type": "execute_result"
    }
   ],
   "source": [
    "x = \"we are anonmyous we are legions we are never forget\"\n",
    "x.startswith(\"are\")"
   ]
  },
  {
   "cell_type": "code",
   "execution_count": 22,
   "id": "c11d3da6",
   "metadata": {},
   "outputs": [
    {
     "data": {
      "text/plain": [
       "True"
      ]
     },
     "execution_count": 22,
     "metadata": {},
     "output_type": "execute_result"
    }
   ],
   "source": [
    "# start with 3\n",
    "x.startswith(\"are\",3)"
   ]
  },
  {
   "cell_type": "code",
   "execution_count": 39,
   "id": "17f0e3a8",
   "metadata": {},
   "outputs": [
    {
     "name": "stdout",
     "output_type": "stream",
     "text": [
      "7\n"
     ]
    },
    {
     "data": {
      "text/plain": [
       "True"
      ]
     },
     "execution_count": 39,
     "metadata": {},
     "output_type": "execute_result"
    }
   ],
   "source": [
    "f = x.find(\"anonmyous\")\n",
    "print(f)\n",
    "\n",
    "x.startswith(\"anonmyous\",f)"
   ]
  },
  {
   "cell_type": "code",
   "execution_count": 40,
   "id": "092c57a1",
   "metadata": {},
   "outputs": [
    {
     "data": {
      "text/plain": [
       "False"
      ]
     },
     "execution_count": 40,
     "metadata": {},
     "output_type": "execute_result"
    }
   ],
   "source": [
    "# change end\n",
    "x.startswith(\"anonmyous\",f,0)"
   ]
  },
  {
   "cell_type": "markdown",
   "id": "cc7e2274",
   "metadata": {},
   "source": [
    "# 24  endswith\n",
    "<h3>Return True if S starts with the specified prefix, False otherwise.\n",
    "<br><br>prefix[, start[, end]]\n",
    "</h3>"
   ]
  },
  {
   "cell_type": "code",
   "execution_count": 108,
   "id": "0ca4d2df",
   "metadata": {},
   "outputs": [
    {
     "data": {
      "text/plain": [
       "True"
      ]
     },
     "execution_count": 108,
     "metadata": {},
     "output_type": "execute_result"
    }
   ],
   "source": [
    "x = \"Hello World\"\n",
    "\n",
    "x.endswith('d')"
   ]
  },
  {
   "cell_type": "code",
   "execution_count": 109,
   "id": "31d33d83",
   "metadata": {},
   "outputs": [
    {
     "data": {
      "text/plain": [
       "True"
      ]
     },
     "execution_count": 109,
     "metadata": {},
     "output_type": "execute_result"
    }
   ],
   "source": [
    "x.endswith('ld')\n",
    "x.endswith('World')"
   ]
  },
  {
   "cell_type": "code",
   "execution_count": 111,
   "id": "55ffbd34",
   "metadata": {},
   "outputs": [
    {
     "data": {
      "text/plain": [
       "False"
      ]
     },
     "execution_count": 111,
     "metadata": {},
     "output_type": "execute_result"
    }
   ],
   "source": [
    "x = \"we are anonmyous we are legions we are never forget\"\n",
    "x.endswith(\"never\")"
   ]
  },
  {
   "cell_type": "code",
   "execution_count": 115,
   "id": "f6aae3c2",
   "metadata": {},
   "outputs": [
    {
     "name": "stdout",
     "output_type": "stream",
     "text": [
      "39\n"
     ]
    },
    {
     "data": {
      "text/plain": [
       "True"
      ]
     },
     "execution_count": 115,
     "metadata": {},
     "output_type": "execute_result"
    }
   ],
   "source": [
    "# change start and end\n",
    "print(x.find('never'))\n",
    "x.endswith(\"never\",39,44)"
   ]
  },
  {
   "cell_type": "code",
   "execution_count": 116,
   "id": "29d7ffcf",
   "metadata": {},
   "outputs": [
    {
     "name": "stdout",
     "output_type": "stream",
     "text": [
      "never \n"
     ]
    }
   ],
   "source": [
    "print(x[39:45])"
   ]
  },
  {
   "cell_type": "markdown",
   "id": "31d07936",
   "metadata": {},
   "source": [
    "# 25 maketrans\n",
    "\n",
    "<h3>returns a mapping table that can be used with the translate() method to replace specified characters.\n",
    "    \n",
    "<br><br>If there is only one argument, it must be a dictionary mapping Unicode\n",
    "ordinals (integers) or characters to Unicode ordinals, strings or None.\n",
    "Character keys will be then converted to ordinals.\n",
    "</h3>"
   ]
  },
  {
   "cell_type": "markdown",
   "id": "d6fbae75",
   "metadata": {},
   "source": [
    "<h4>If you give only one argument to maketrans it must be a dict\n",
    "\n",
    "</h4>"
   ]
  },
  {
   "cell_type": "code",
   "execution_count": 55,
   "id": "1a0a5360",
   "metadata": {},
   "outputs": [
    {
     "name": "stdout",
     "output_type": "stream",
     "text": [
      "{97: '123', 98: '456', 99: '789'}\n"
     ]
    }
   ],
   "source": [
    "data = {\"a\": \"123\", \"b\": \"456\", \"c\": \"789\"}\n",
    "\n",
    "string = \"abc\"\n",
    "print(string.maketrans(dict))\n",
    "\n",
    "# a change to 97\n",
    "# b change to 98\n",
    "# c change to 99"
   ]
  },
  {
   "cell_type": "code",
   "execution_count": 58,
   "id": "756658da",
   "metadata": {},
   "outputs": [
    {
     "name": "stdout",
     "output_type": "stream",
     "text": [
      "97 98 99\n"
     ]
    }
   ],
   "source": [
    "# ord function convert ascci letters to number\n",
    "print(ord('a'),ord('b'),ord('c'))"
   ]
  },
  {
   "cell_type": "markdown",
   "id": "020bf8a7",
   "metadata": {},
   "source": [
    "<h4>If there are two arguments, they must be strings of equal length, and\n",
    "in the resulting dictionary, each character in x will be mapped to the\n",
    "character at the same position in y.</h4>"
   ]
  },
  {
   "cell_type": "code",
   "execution_count": 64,
   "id": "15b5f9e2",
   "metadata": {},
   "outputs": [
    {
     "data": {
      "text/plain": [
       "{101: 95, 110: 62}"
      ]
     },
     "execution_count": 64,
     "metadata": {},
     "output_type": "execute_result"
    }
   ],
   "source": [
    "my_str = \"Mubeen\"\n",
    "\n",
    "old = \"en\"\n",
    "new = '_>'\n",
    "\n",
    "my_str.maketrans(old,new)"
   ]
  },
  {
   "cell_type": "code",
   "execution_count": 70,
   "id": "5b3c6ea7",
   "metadata": {},
   "outputs": [
    {
     "name": "stdout",
     "output_type": "stream",
     "text": [
      "e : _\n"
     ]
    }
   ],
   "source": [
    "print(f\"{chr(101)} : {chr(95)}\")"
   ]
  },
  {
   "cell_type": "code",
   "execution_count": 71,
   "id": "b97df03c",
   "metadata": {},
   "outputs": [
    {
     "name": "stdout",
     "output_type": "stream",
     "text": [
      "n : >\n"
     ]
    }
   ],
   "source": [
    "print(f\"{chr(110)} : {chr(62)}\")"
   ]
  },
  {
   "cell_type": "markdown",
   "id": "2666c64f",
   "metadata": {},
   "source": [
    "<h4>If there is a third argument, it\n",
    "must be a string, whose characters will be mapped to None in the result</h4>"
   ]
  },
  {
   "cell_type": "code",
   "execution_count": 73,
   "id": "ba1c383e",
   "metadata": {},
   "outputs": [],
   "source": [
    "firstString = \"abc\"\n",
    "secondString = \"def\"\n",
    "thirdString = \"abd\"\n",
    "\n",
    "string = \"abc\""
   ]
  },
  {
   "cell_type": "code",
   "execution_count": 76,
   "id": "859bb7f4",
   "metadata": {},
   "outputs": [
    {
     "data": {
      "text/plain": [
       "{97: None, 98: None, 99: 102, 100: None}"
      ]
     },
     "execution_count": 76,
     "metadata": {},
     "output_type": "execute_result"
    }
   ],
   "source": [
    "string.maketrans(firstString,secondString,thirdString)"
   ]
  },
  {
   "cell_type": "code",
   "execution_count": 88,
   "id": "5a15002c",
   "metadata": {},
   "outputs": [
    {
     "name": "stdout",
     "output_type": "stream",
     "text": [
      "{a: None, b: None, c: f, d: None}\n"
     ]
    }
   ],
   "source": [
    "print('{'+f\"{chr(97)}: None, {chr(98)}: None, {chr(99)}: {chr(102)}, {chr(100)}: None\"+'}')"
   ]
  },
  {
   "cell_type": "markdown",
   "id": "3c86ec37",
   "metadata": {},
   "source": [
    "# 26  maketrans\n",
    "\n",
    "<h3>Replace each character in the string using the given translation table.\n",
    "    \n",
    "</h3>"
   ]
  },
  {
   "cell_type": "code",
   "execution_count": 91,
   "id": "1b00a520",
   "metadata": {},
   "outputs": [
    {
     "data": {
      "text/plain": [
       "{101: 95, 110: 62}"
      ]
     },
     "execution_count": 91,
     "metadata": {},
     "output_type": "execute_result"
    }
   ],
   "source": [
    "my_str = \"Mubeen\"\n",
    "\n",
    "old = \"en\"\n",
    "new = '_>'\n",
    "\n",
    "txt = my_str.maketrans(old,new)\n",
    "txt"
   ]
  },
  {
   "cell_type": "code",
   "execution_count": 94,
   "id": "aae70219",
   "metadata": {},
   "outputs": [
    {
     "data": {
      "text/plain": [
       "'Mub__>'"
      ]
     },
     "execution_count": 94,
     "metadata": {},
     "output_type": "execute_result"
    }
   ],
   "source": [
    "# use translate to convert in to characters\n",
    "\n",
    "my_str.translate(txt)\n",
    "# en replace to _>"
   ]
  },
  {
   "cell_type": "markdown",
   "id": "dd8fb779",
   "metadata": {},
   "source": [
    "# 27  partition\n",
    "\n",
    "<h3>Partition the string into three parts using the given separator.\n",
    "\n",
    "This will search for the separator in the string.  \n",
    "<br><br>    \n",
    "If the separator is found,\n",
    "returns a 3-tuple containing the part before the separator, the separator\n",
    "itself, and the part after it.\n",
    "<br><br>    \n",
    "\n",
    "If the separator is not found, returns a 3-tuple containing the original string\n",
    "and two empty strings.\n",
    "    \n",
    "\n",
    "</h3>"
   ]
  },
  {
   "cell_type": "code",
   "execution_count": 99,
   "id": "e83af1e0",
   "metadata": {},
   "outputs": [
    {
     "data": {
      "text/plain": [
       "('Mubeen', '-', 'Ahmad')"
      ]
     },
     "execution_count": 99,
     "metadata": {},
     "output_type": "execute_result"
    }
   ],
   "source": [
    "my_str = \"Mubeen-Ahmad\"\n",
    "\n",
    "my_str.partition('-')"
   ]
  },
  {
   "cell_type": "code",
   "execution_count": 102,
   "id": "258c9767",
   "metadata": {},
   "outputs": [
    {
     "data": {
      "text/plain": [
       "('Mubeen-Ahmad', '', '')"
      ]
     },
     "execution_count": 102,
     "metadata": {},
     "output_type": "execute_result"
    }
   ],
   "source": [
    "my_str.partition(',')"
   ]
  },
  {
   "cell_type": "markdown",
   "id": "97b10ccc",
   "metadata": {},
   "source": [
    "<h4>\n",
    "\n",
    "Note: This method searches for the first occurrence of the specified string.\n",
    "</h4>"
   ]
  },
  {
   "cell_type": "code",
   "execution_count": 103,
   "id": "c59cc507",
   "metadata": {},
   "outputs": [
    {
     "data": {
      "text/plain": [
       "('Mub', 'e', 'en-Ahmad')"
      ]
     },
     "execution_count": 103,
     "metadata": {},
     "output_type": "execute_result"
    }
   ],
   "source": [
    "my_str.partition('e')"
   ]
  },
  {
   "cell_type": "markdown",
   "id": "ebd665b5",
   "metadata": {},
   "source": [
    "# 28  rpartition\n",
    "\n",
    "<h3>rpartition the string into three parts using the given separator .<br><br>\n",
    "This method searches for the last occurrence (right-side) of the specified string.\n",
    "<br><br>    \n",
    "This will search for the separator in the string.  \n",
    "<br><br>    \n",
    "If the separator is found,\n",
    "returns a 3-tuple containing the part before the separator, the separator\n",
    "itself, and the part after it.\n",
    "<br><br>    \n",
    "\n",
    "If the separator is not found, returns a 3-tuple containing the original string\n",
    "and two empty strings.\n",
    "    \n",
    "\n",
    "</h3>"
   ]
  },
  {
   "cell_type": "code",
   "execution_count": 106,
   "id": "340cc881",
   "metadata": {},
   "outputs": [
    {
     "data": {
      "text/plain": [
       "('Mub', 'e', 'en-Ahmad')"
      ]
     },
     "execution_count": 106,
     "metadata": {},
     "output_type": "execute_result"
    }
   ],
   "source": [
    "# with partition\n",
    "\n",
    "my_str.partition('e')"
   ]
  },
  {
   "cell_type": "code",
   "execution_count": 107,
   "id": "d8eb6a73",
   "metadata": {},
   "outputs": [
    {
     "data": {
      "text/plain": [
       "('Mube', 'e', 'n-Ahmad')"
      ]
     },
     "execution_count": 107,
     "metadata": {},
     "output_type": "execute_result"
    }
   ],
   "source": [
    "# with rpartition\n",
    "\n",
    "my_str.rpartition('e')"
   ]
  },
  {
   "cell_type": "markdown",
   "id": "66862e53",
   "metadata": {},
   "source": [
    "# 29  zfill\n",
    "\n",
    "<h3>Fills the string with a specified number of 0 values at the beginning \n",
    "\n",
    "</h3>"
   ]
  },
  {
   "cell_type": "code",
   "execution_count": 122,
   "id": "a354d528",
   "metadata": {},
   "outputs": [
    {
     "data": {
      "text/plain": [
       "'0000Mubeen'"
      ]
     },
     "execution_count": 122,
     "metadata": {},
     "output_type": "execute_result"
    }
   ],
   "source": [
    "x = \"Mubeen\"\n",
    "\n",
    "# len of string 6 + 4 = 10\n",
    "x.zfill(10)"
   ]
  },
  {
   "cell_type": "code",
   "execution_count": 126,
   "id": "8f87dc4f",
   "metadata": {
    "scrolled": true
   },
   "outputs": [
    {
     "data": {
      "text/plain": [
       "'0000000000Mubeen'"
      ]
     },
     "execution_count": 126,
     "metadata": {},
     "output_type": "execute_result"
    }
   ],
   "source": [
    "x.zfill(len(x)+10)"
   ]
  },
  {
   "cell_type": "markdown",
   "id": "df9874bc",
   "metadata": {},
   "source": [
    "# 30  expandtab\n",
    "\n",
    "<h3>Return a copy where all tab characters are expanded using spaces.\n",
    "</h3>"
   ]
  },
  {
   "cell_type": "code",
   "execution_count": 145,
   "id": "04d3c3c3",
   "metadata": {},
   "outputs": [
    {
     "data": {
      "text/plain": [
       "'mubeen  ahmad'"
      ]
     },
     "execution_count": 145,
     "metadata": {},
     "output_type": "execute_result"
    }
   ],
   "source": [
    "x = \"mubeen\\tahmad\"\n",
    "\n",
    "x.expandtabs()"
   ]
  },
  {
   "cell_type": "code",
   "execution_count": 146,
   "id": "7c13ec36",
   "metadata": {},
   "outputs": [
    {
     "data": {
      "text/plain": [
       "'mubeenahmad'"
      ]
     },
     "execution_count": 146,
     "metadata": {},
     "output_type": "execute_result"
    }
   ],
   "source": [
    "x.expandtabs(0)"
   ]
  },
  {
   "cell_type": "code",
   "execution_count": 147,
   "id": "7de5d5cb",
   "metadata": {},
   "outputs": [
    {
     "data": {
      "text/plain": [
       "'mubeen ahmad'"
      ]
     },
     "execution_count": 147,
     "metadata": {},
     "output_type": "execute_result"
    }
   ],
   "source": [
    "x.expandtabs(1)"
   ]
  },
  {
   "cell_type": "code",
   "execution_count": 148,
   "id": "c274b16c",
   "metadata": {},
   "outputs": [
    {
     "data": {
      "text/plain": [
       "'mubeen    ahmad'"
      ]
     },
     "execution_count": 148,
     "metadata": {},
     "output_type": "execute_result"
    }
   ],
   "source": [
    "x.expandtabs(10)"
   ]
  },
  {
   "cell_type": "code",
   "execution_count": 152,
   "id": "1474b05f",
   "metadata": {},
   "outputs": [
    {
     "data": {
      "text/plain": [
       "'mubeen                   ahmad'"
      ]
     },
     "execution_count": 152,
     "metadata": {},
     "output_type": "execute_result"
    }
   ],
   "source": [
    "x.expandtabs(25)"
   ]
  },
  {
   "cell_type": "markdown",
   "id": "d42bf348",
   "metadata": {},
   "source": [
    "# 31  encode\n",
    "\n",
    "<h3>Encode the string using the codec registered for encoding.<br><br>\n",
    "default encoding='utf-8', errors='strict'\n",
    "\n",
    "</h3>"
   ]
  },
  {
   "cell_type": "code",
   "execution_count": 154,
   "id": "6672d447",
   "metadata": {},
   "outputs": [
    {
     "data": {
      "text/plain": [
       "b'Mubeen'"
      ]
     },
     "execution_count": 154,
     "metadata": {},
     "output_type": "execute_result"
    }
   ],
   "source": [
    "x = \"Mubeen\"\n",
    "x.encode()"
   ]
  },
  {
   "cell_type": "code",
   "execution_count": 155,
   "id": "119d54b7",
   "metadata": {},
   "outputs": [
    {
     "data": {
      "text/plain": [
       "b'CRO\\xc3\\x9f'"
      ]
     },
     "execution_count": 155,
     "metadata": {},
     "output_type": "execute_result"
    }
   ],
   "source": [
    "# german ss\n",
    "\n",
    "x = \"CROß\"\n",
    "x.encode()"
   ]
  },
  {
   "cell_type": "markdown",
   "id": "966c7520",
   "metadata": {},
   "source": [
    "# 32  format\n",
    "\n",
    "<h3>Return a formatted version of S, using substitutions from args and kwargs.\n",
    "The substitutions are identified by braces ('{' and '}').\n",
    "\n",
    "</h3>"
   ]
  },
  {
   "cell_type": "code",
   "execution_count": 156,
   "id": "d695c618",
   "metadata": {},
   "outputs": [],
   "source": [
    "name = \"Mubeen\""
   ]
  },
  {
   "cell_type": "code",
   "execution_count": 159,
   "id": "3a7c1c27",
   "metadata": {},
   "outputs": [
    {
     "data": {
      "text/plain": [
       "'Welcome Mubeen'"
      ]
     },
     "execution_count": 159,
     "metadata": {},
     "output_type": "execute_result"
    }
   ],
   "source": [
    "\"Welcome {var}\".format(var=name)"
   ]
  },
  {
   "cell_type": "code",
   "execution_count": 164,
   "id": "55eedd65",
   "metadata": {},
   "outputs": [
    {
     "data": {
      "text/plain": [
       "'Welcome Mubeen Ahmad'"
      ]
     },
     "execution_count": 164,
     "metadata": {},
     "output_type": "execute_result"
    }
   ],
   "source": [
    "n = \"Ahmad\"\n",
    "\n",
    "\"Welcome {0} {1}\".format(name,n)"
   ]
  },
  {
   "cell_type": "code",
   "execution_count": 165,
   "id": "603ac525",
   "metadata": {},
   "outputs": [
    {
     "data": {
      "text/plain": [
       "'welcome Mubeen Ahmad'"
      ]
     },
     "execution_count": 165,
     "metadata": {},
     "output_type": "execute_result"
    }
   ],
   "source": [
    "\"welcome {} {}\".format(name,n)"
   ]
  },
  {
   "cell_type": "markdown",
   "id": "e4b90949",
   "metadata": {},
   "source": [
    "# 33  format_map\n",
    "\n",
    "<h3>Return a formatted version of S, using substitutions from mapping.<br><br>\n",
    "The substitutions are identified by braces ('{' and '}').\n",
    "\n",
    "</h3>"
   ]
  },
  {
   "cell_type": "code",
   "execution_count": 167,
   "id": "27f7c42b",
   "metadata": {},
   "outputs": [
    {
     "name": "stdout",
     "output_type": "stream",
     "text": [
      "Mubeen's last name is Ahmad\n"
     ]
    }
   ],
   "source": [
    "data = {\"x\":\"Mubeen\",\"y\":\"Ahmad\"}\n",
    "\n",
    "print(\"{x}'s last name is {y}\".format_map(data))"
   ]
  },
  {
   "cell_type": "code",
   "execution_count": 174,
   "id": "0f2c7446",
   "metadata": {},
   "outputs": [
    {
     "data": {
      "text/plain": [
       "'Barry is an Engineer and he is 30 years old.'"
      ]
     },
     "execution_count": 174,
     "metadata": {},
     "output_type": "execute_result"
    }
   ],
   "source": [
    "# Input dictionary\n",
    "profession = { \n",
    "              'name':      ['Barry', 'Bruce'],\n",
    "              'profession':['Engineer', 'Doctor'],\n",
    "              'age':       [30, 31] \n",
    "             }\n",
    "\n",
    "\n",
    "\n",
    "'{name[0]} is an {profession[0]} and he is {age[0]} years old.'.format_map(profession)"
   ]
  },
  {
   "cell_type": "code",
   "execution_count": 173,
   "id": "f6c7dd66",
   "metadata": {},
   "outputs": [
    {
     "data": {
      "text/plain": [
       "'Bruce is an Doctor and he is 31 years old.'"
      ]
     },
     "execution_count": 173,
     "metadata": {},
     "output_type": "execute_result"
    }
   ],
   "source": [
    "'{name[1]} is an {profession[1]} and he is {age[1]} years old.'.format_map(profession)"
   ]
  },
  {
   "cell_type": "markdown",
   "id": "f95b65eb",
   "metadata": {},
   "source": [
    "# 34  removeprefix\n",
    "\n",
    "<h3>Return a str with the given prefix string removed if present.<br><br>\n",
    "\n",
    "If the string starts with the prefix string, return string[len(prefix):].\n",
    "Otherwise, return a copy of the original string.\n",
    "\n",
    "</h3>"
   ]
  },
  {
   "cell_type": "code",
   "execution_count": 190,
   "id": "68b441cf",
   "metadata": {},
   "outputs": [
    {
     "data": {
      "text/plain": [
       "' Ahmad'"
      ]
     },
     "execution_count": 190,
     "metadata": {},
     "output_type": "execute_result"
    }
   ],
   "source": [
    "x = \"Mubeen Ahmad\"\n",
    "\n",
    "x.removeprefix('Mubeen')"
   ]
  },
  {
   "cell_type": "code",
   "execution_count": 191,
   "id": "4e99c69b",
   "metadata": {},
   "outputs": [
    {
     "data": {
      "text/plain": [
       "'Mubeen Ahmad'"
      ]
     },
     "execution_count": 191,
     "metadata": {},
     "output_type": "execute_result"
    }
   ],
   "source": [
    "x.removeprefix('Ahmad')"
   ]
  },
  {
   "cell_type": "code",
   "execution_count": 192,
   "id": "7c689e55",
   "metadata": {},
   "outputs": [],
   "source": [
    "x = \"world4world\""
   ]
  },
  {
   "cell_type": "code",
   "execution_count": 193,
   "id": "ae8716bf",
   "metadata": {},
   "outputs": [
    {
     "data": {
      "text/plain": [
       "'4world'"
      ]
     },
     "execution_count": 193,
     "metadata": {},
     "output_type": "execute_result"
    }
   ],
   "source": [
    "x.removeprefix('world')"
   ]
  },
  {
   "cell_type": "markdown",
   "id": "dfa4d90c",
   "metadata": {},
   "source": [
    "# 35  removesuffix\n",
    "\n",
    "<h3>Return a str with the given suffix string removed if present.<br><br>\n",
    "\n",
    "If the string ends with the suffix string and that suffix is not empty,\n",
    "return string[:-len(suffix)]. Otherwise, return a copy of the original\n",
    "string.\n",
    "\n",
    "</h3>"
   ]
  },
  {
   "cell_type": "code",
   "execution_count": 198,
   "id": "76287a7a",
   "metadata": {},
   "outputs": [
    {
     "name": "stdout",
     "output_type": "stream",
     "text": [
      "world4world\n"
     ]
    },
    {
     "data": {
      "text/plain": [
       "'world4'"
      ]
     },
     "execution_count": 198,
     "metadata": {},
     "output_type": "execute_result"
    }
   ],
   "source": [
    "print(x)\n",
    "x.removesuffix(\"world\")"
   ]
  },
  {
   "cell_type": "code",
   "execution_count": 199,
   "id": "cdd8f1ec",
   "metadata": {},
   "outputs": [
    {
     "data": {
      "text/plain": [
       "'world4'"
      ]
     },
     "execution_count": 199,
     "metadata": {},
     "output_type": "execute_result"
    }
   ],
   "source": [
    "x.removesuffix(\"world\")"
   ]
  },
  {
   "cell_type": "markdown",
   "id": "d86709ab",
   "metadata": {},
   "source": [
    "# Checking Methods"
   ]
  },
  {
   "cell_type": "markdown",
   "id": "3cbf00cd",
   "metadata": {},
   "source": [
    "# 36  isalnum\n",
    "\n",
    "<h3>Return True if the string is an alpha-numeric string, False otherwise.<br><br>\n",
    "</h3>"
   ]
  },
  {
   "cell_type": "code",
   "execution_count": 208,
   "id": "c04a9985",
   "metadata": {},
   "outputs": [
    {
     "data": {
      "text/plain": [
       "True"
      ]
     },
     "execution_count": 208,
     "metadata": {},
     "output_type": "execute_result"
    }
   ],
   "source": [
    "x = \"Mub33n\"\n",
    "\n",
    "x.isalnum()"
   ]
  },
  {
   "cell_type": "code",
   "execution_count": 209,
   "id": "ea9e035d",
   "metadata": {},
   "outputs": [
    {
     "data": {
      "text/plain": [
       "False"
      ]
     },
     "execution_count": 209,
     "metadata": {},
     "output_type": "execute_result"
    }
   ],
   "source": [
    "x = \"mub**n\"\n",
    "x.isalnum()"
   ]
  },
  {
   "cell_type": "markdown",
   "id": "9a7cc2dc",
   "metadata": {},
   "source": [
    "# 37  isalpha\n",
    "\n",
    "<h3>Return True if the string is an alphabetic string, False otherwise.<br><br>\n",
    "</h3>"
   ]
  },
  {
   "cell_type": "code",
   "execution_count": 215,
   "id": "87aca8d6",
   "metadata": {},
   "outputs": [
    {
     "data": {
      "text/plain": [
       "True"
      ]
     },
     "execution_count": 215,
     "metadata": {},
     "output_type": "execute_result"
    }
   ],
   "source": [
    "x = \"Mubeen\"\n",
    "\n",
    "x.isalpha()"
   ]
  },
  {
   "cell_type": "code",
   "execution_count": 219,
   "id": "4b88de2d",
   "metadata": {},
   "outputs": [
    {
     "data": {
      "text/plain": [
       "False"
      ]
     },
     "execution_count": 219,
     "metadata": {},
     "output_type": "execute_result"
    }
   ],
   "source": [
    "x = \"Mube3n\"\n",
    "\n",
    "x.isalpha()"
   ]
  },
  {
   "cell_type": "markdown",
   "id": "4b2b6a31",
   "metadata": {},
   "source": [
    "# 38  isascii\n",
    "\n",
    "<h3>Return True if all characters in the string are ASCII, False otherwise.<br><br>\n",
    "</h3>"
   ]
  },
  {
   "cell_type": "code",
   "execution_count": 227,
   "id": "e8658e6c",
   "metadata": {},
   "outputs": [
    {
     "data": {
      "text/plain": [
       "True"
      ]
     },
     "execution_count": 227,
     "metadata": {},
     "output_type": "execute_result"
    }
   ],
   "source": [
    "x = \"123abc**\"\n",
    "\n",
    "x.isascii()"
   ]
  },
  {
   "cell_type": "code",
   "execution_count": 229,
   "id": "a434cabc",
   "metadata": {},
   "outputs": [
    {
     "data": {
      "text/plain": [
       "False"
      ]
     },
     "execution_count": 229,
     "metadata": {},
     "output_type": "execute_result"
    }
   ],
   "source": [
    "x = \"ß\"\n",
    "x.isascii()"
   ]
  },
  {
   "cell_type": "markdown",
   "id": "fb8511b2",
   "metadata": {},
   "source": [
    "# 39  isdecimal\n",
    "\n",
    "<h3>Return True if the string is a decimal string, False otherwise.<br><br>\n",
    "</h3>"
   ]
  },
  {
   "cell_type": "code",
   "execution_count": 234,
   "id": "4b73f27f",
   "metadata": {},
   "outputs": [
    {
     "data": {
      "text/plain": [
       "True"
      ]
     },
     "execution_count": 234,
     "metadata": {},
     "output_type": "execute_result"
    }
   ],
   "source": [
    "x = \"123\"\n",
    "\n",
    "x.isdecimal()"
   ]
  },
  {
   "cell_type": "code",
   "execution_count": 235,
   "id": "6a802b1a",
   "metadata": {},
   "outputs": [
    {
     "data": {
      "text/plain": [
       "False"
      ]
     },
     "execution_count": 235,
     "metadata": {},
     "output_type": "execute_result"
    }
   ],
   "source": [
    "x = \"12.3\"\n",
    "\n",
    "x.isdecimal()"
   ]
  },
  {
   "cell_type": "markdown",
   "id": "31a6aad1",
   "metadata": {},
   "source": [
    "# 40  isdigit\n",
    "\n",
    "<h3>Return True if the string is a digit string, False otherwise.<br><br>\n",
    "</h3>"
   ]
  },
  {
   "cell_type": "code",
   "execution_count": 236,
   "id": "13682ed2",
   "metadata": {},
   "outputs": [
    {
     "data": {
      "text/plain": [
       "True"
      ]
     },
     "execution_count": 236,
     "metadata": {},
     "output_type": "execute_result"
    }
   ],
   "source": [
    "x = \"123\"\n",
    "x.isdigit()"
   ]
  },
  {
   "cell_type": "code",
   "execution_count": 246,
   "id": "56a9ec88",
   "metadata": {},
   "outputs": [
    {
     "data": {
      "text/plain": [
       "False"
      ]
     },
     "execution_count": 246,
     "metadata": {},
     "output_type": "execute_result"
    }
   ],
   "source": [
    "x = \"12A\"\n",
    "x.isdigit()"
   ]
  },
  {
   "cell_type": "markdown",
   "id": "277676f5",
   "metadata": {},
   "source": [
    "# 41  isnumeric\n",
    "\n",
    "<h3>Return True if the string is a numeric string, False otherwise.<br><br>\n",
    "</h3>"
   ]
  },
  {
   "cell_type": "code",
   "execution_count": 249,
   "id": "20a5b039",
   "metadata": {},
   "outputs": [
    {
     "data": {
      "text/plain": [
       "True"
      ]
     },
     "execution_count": 249,
     "metadata": {},
     "output_type": "execute_result"
    }
   ],
   "source": [
    "x = \"123\"\n",
    "x.isnumeric()"
   ]
  },
  {
   "cell_type": "code",
   "execution_count": 250,
   "id": "ed2af32b",
   "metadata": {},
   "outputs": [
    {
     "data": {
      "text/plain": [
       "False"
      ]
     },
     "execution_count": 250,
     "metadata": {},
     "output_type": "execute_result"
    }
   ],
   "source": [
    "x = \"123.3\"\n",
    "x.isnumeric()"
   ]
  },
  {
   "cell_type": "markdown",
   "id": "51284c8d",
   "metadata": {},
   "source": [
    "# 42  islower\n",
    "\n",
    "<h3>Return True if the string is a lower string, False otherwise.<br><br>\n",
    "</h3>"
   ]
  },
  {
   "cell_type": "code",
   "execution_count": 251,
   "id": "595da150",
   "metadata": {},
   "outputs": [
    {
     "data": {
      "text/plain": [
       "True"
      ]
     },
     "execution_count": 251,
     "metadata": {},
     "output_type": "execute_result"
    }
   ],
   "source": [
    "x = \"mubeen\"\n",
    "x.islower()"
   ]
  },
  {
   "cell_type": "code",
   "execution_count": 252,
   "id": "95cd5984",
   "metadata": {},
   "outputs": [
    {
     "data": {
      "text/plain": [
       "False"
      ]
     },
     "execution_count": 252,
     "metadata": {},
     "output_type": "execute_result"
    }
   ],
   "source": [
    "x = \"Mubeen\"\n",
    "x.islower()"
   ]
  },
  {
   "cell_type": "markdown",
   "id": "d68d8df5",
   "metadata": {},
   "source": [
    "# 43  isupper\n",
    "\n",
    "<h3>Return True if the string is a upper string, False otherwise.<br><br>\n",
    "</h3>"
   ]
  },
  {
   "cell_type": "code",
   "execution_count": 254,
   "id": "dd0df324",
   "metadata": {},
   "outputs": [
    {
     "data": {
      "text/plain": [
       "True"
      ]
     },
     "execution_count": 254,
     "metadata": {},
     "output_type": "execute_result"
    }
   ],
   "source": [
    "x = \"MUBEEN\"\n",
    "x.isupper()"
   ]
  },
  {
   "cell_type": "code",
   "execution_count": 255,
   "id": "b6568e4d",
   "metadata": {},
   "outputs": [
    {
     "data": {
      "text/plain": [
       "False"
      ]
     },
     "execution_count": 255,
     "metadata": {},
     "output_type": "execute_result"
    }
   ],
   "source": [
    "x = \"Mubeen\"\n",
    "x.isupper()"
   ]
  },
  {
   "cell_type": "markdown",
   "id": "13491e33",
   "metadata": {},
   "source": [
    "# 44  istitle\n",
    "\n",
    "<h3>Return True if the string is a title-case string, False otherwise.<br><br>\n",
    "</h3>"
   ]
  },
  {
   "cell_type": "code",
   "execution_count": 260,
   "id": "a4f35352",
   "metadata": {},
   "outputs": [
    {
     "data": {
      "text/plain": [
       "True"
      ]
     },
     "execution_count": 260,
     "metadata": {},
     "output_type": "execute_result"
    }
   ],
   "source": [
    "x = \"Mubeen\"\n",
    "x.istitle()"
   ]
  },
  {
   "cell_type": "code",
   "execution_count": 261,
   "id": "a726f124",
   "metadata": {},
   "outputs": [
    {
     "data": {
      "text/plain": [
       "False"
      ]
     },
     "execution_count": 261,
     "metadata": {},
     "output_type": "execute_result"
    }
   ],
   "source": [
    "x = \"mubeen\"\n",
    "x.istitle()"
   ]
  },
  {
   "cell_type": "markdown",
   "id": "44cf5db2",
   "metadata": {},
   "source": [
    "# 45  isspace\n",
    "\n",
    "<h3>Return True if the string is in whitespace, False otherwise.<br><br>\n",
    "</h3>"
   ]
  },
  {
   "cell_type": "code",
   "execution_count": 266,
   "id": "81b9b65c",
   "metadata": {},
   "outputs": [
    {
     "data": {
      "text/plain": [
       "True"
      ]
     },
     "execution_count": 266,
     "metadata": {},
     "output_type": "execute_result"
    }
   ],
   "source": [
    "x = \" \"\n",
    "x.isspace()"
   ]
  },
  {
   "cell_type": "code",
   "execution_count": 268,
   "id": "3cb611d0",
   "metadata": {},
   "outputs": [
    {
     "data": {
      "text/plain": [
       "False"
      ]
     },
     "execution_count": 268,
     "metadata": {},
     "output_type": "execute_result"
    }
   ],
   "source": [
    "x = \"Mubeen Ahmad\"\n",
    "x.isspace()"
   ]
  },
  {
   "cell_type": "markdown",
   "id": "1c9f1db7",
   "metadata": {},
   "source": [
    "# 46  isprintable\n",
    "\n",
    "<h3>Return True if the string is printable, False otherwise.<br><br>\n",
    "</h3>"
   ]
  },
  {
   "cell_type": "code",
   "execution_count": 270,
   "id": "aa4345a1",
   "metadata": {},
   "outputs": [
    {
     "data": {
      "text/plain": [
       "True"
      ]
     },
     "execution_count": 270,
     "metadata": {},
     "output_type": "execute_result"
    }
   ],
   "source": [
    "x = \"Mubeen\"\n",
    "x.isprintable()"
   ]
  },
  {
   "cell_type": "code",
   "execution_count": 274,
   "id": "c7e57f3b",
   "metadata": {},
   "outputs": [
    {
     "data": {
      "text/plain": [
       "False"
      ]
     },
     "execution_count": 274,
     "metadata": {},
     "output_type": "execute_result"
    }
   ],
   "source": [
    "x = \"Mubeen\\n\"\n",
    "x.isprintable()"
   ]
  },
  {
   "cell_type": "markdown",
   "id": "4977748b",
   "metadata": {},
   "source": [
    "# 47  isidentifier\n",
    "\n",
    "<h3>Return True if the string is a identifier, False otherwise.<br><br>\n",
    "    A string is considered a valid identifier if it only contains alphanumeric letters (a-z) and (0-9), or underscores (_). A valid identifier cannot start with a number, or contain any spaces.\n",
    "\n",
    "</h3>"
   ]
  },
  {
   "cell_type": "code",
   "execution_count": 279,
   "id": "fd00320a",
   "metadata": {},
   "outputs": [
    {
     "data": {
      "text/plain": [
       "True"
      ]
     },
     "execution_count": 279,
     "metadata": {},
     "output_type": "execute_result"
    }
   ],
   "source": [
    "x = \"Mubeen_Ahmad\"\n",
    "x.isidentifier()"
   ]
  },
  {
   "cell_type": "code",
   "execution_count": 280,
   "id": "9caabca0",
   "metadata": {},
   "outputs": [
    {
     "data": {
      "text/plain": [
       "False"
      ]
     },
     "execution_count": 280,
     "metadata": {},
     "output_type": "execute_result"
    }
   ],
   "source": [
    "x = \"Mubeen Ahmad\"\n",
    "x.isidentifier()"
   ]
  }
 ],
 "metadata": {
  "kernelspec": {
   "display_name": "Python 3 (ipykernel)",
   "language": "python",
   "name": "python3"
  },
  "language_info": {
   "codemirror_mode": {
    "name": "ipython",
    "version": 3
   },
   "file_extension": ".py",
   "mimetype": "text/x-python",
   "name": "python",
   "nbconvert_exporter": "python",
   "pygments_lexer": "ipython3",
   "version": "3.10.6"
  }
 },
 "nbformat": 4,
 "nbformat_minor": 5
}

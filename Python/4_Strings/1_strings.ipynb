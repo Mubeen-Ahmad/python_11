{
 "cells": [
  {
   "cell_type": "markdown",
   "id": "1a9e0484",
   "metadata": {},
   "source": [
    "# A string is a sequence of characters.\n",
    "\n",
    "<h3>\n",
    "\n",
    "• String are written in single qoutes, double qoutes, triple single qoutes ,triple double qoutes<br><br>\n",
    "• Strings are a immutable data types which means that its value cannot be updated.<br><br>\n",
    "• Indexing are allowed<br><br>\n",
    "• Assignment with Indexing are not allowed<br><br>\n",
    "• Duplicates Values are allowed<br><br>\n",
    "• Strings in python stored internally as a Unicode sequence with a know codec.<br><br>That means that they are a sequence of bytes where each character might be one, two, three or four bytes depending on which Unicode page this characters are from.\n",
    "    \n",
    "</h3>"
   ]
  },
  {
   "cell_type": "markdown",
   "id": "65ca3a79",
   "metadata": {},
   "source": [
    "# Ascii V/S Unicode\n",
    "\n",
    "<h3>\n",
    "<p>Unicode and ASCII are the most popular character encoding standards that are currently being used all over the world.<br><br>Unicode is the universal character encoding used to process, store and facilitate the interchange of text data in any language.<br><br>ASCII is used for the representation of text such as symbols, letters, digits, etc. in computers.\n",
    "\n",
    "</h3>"
   ]
  },
  {
   "cell_type": "markdown",
   "id": "1c01d189",
   "metadata": {},
   "source": [
    "# Ascii \n",
    "<h3>\n",
    "• It is a character encoding standard for electronic communication. <br><br>\n",
    "• American Standard Code for Information Interchange(ASCII) and was first launched in 1963. <br><br>\n",
    "• ASCII codes are used to represent text in computers and telecom devices. <br><br>\n",
    "• ASCII is used for representing 128 English characters in the form of numbers, with each letter being assigned to a specific number in the range 0 to 127. \n",
    "<br><br>For e.g., the ASCII code for uppercase A is 65, uppercase B is 66, and so on. Check out the following table for some more examples.<br><br>\n",
    "• Most computers are using ASCII encoding for text representation, which makes transferring data from one device to another a lot easier.\n",
    "</h3>\n",
    "\n",
    "<table style=\"font-size:20px; color:#0a0b4f;\"><thead><tr><th><strong>Description</strong></th><th><strong>Character</strong></th><th><strong>Hexadecimal Code</strong></th><th><strong>ASCII Value</strong></th></tr></thead><tbody><tr><td>space</td><td>&nbsp;</td><td>20</td><td>32</td></tr><tr><td>exclamation</td><td>!</td><td>21</td><td>33</td></tr><tr><td>Addition sign</td><td>+</td><td>2B</td><td>43</td></tr><tr><td>comma</td><td>,</td><td>2C</td><td>44</td></tr><tr><td>Hyphen (subtraction)</td><td>—</td><td>2D</td><td>45</td></tr></tbody></table>"
   ]
  },
  {
   "cell_type": "markdown",
   "id": "a979b02c",
   "metadata": {},
   "source": [
    "# Unicode\n",
    "\n",
    "<h3>\n",
    "• Unicode provides a unique way to define every character in every spoken language of the world by assigning it a unique number. <br><br>\n",
    "• The Unicode standard is maintained by the Unicode Consortium and defines more than 1,40,000 characters from more than 150 modern and historic scripts along with emoji.<br><br>\n",
    "• Unicode can be defined with different character encoding like UTF-8, UTF-16, UTF-32, etc. <br><br>\n",
    "• Among these UTF-8 is the most popular as it used in over 90% of websites on the World Wide Web as well as on most modern Operating systems like Windows.\n",
    "</h3>"
   ]
  },
  {
   "cell_type": "markdown",
   "id": "6f3214a6",
   "metadata": {},
   "source": [
    "# Unicode are better than Ascii\n",
    " \n",
    "# Key factor-1 :\n",
    "\n",
    "## Size –\n",
    "\n",
    "<h3>• It is obvious by now that Unicode represents far more characters than ASCII.<br><br> \n",
    "    • ASCII uses a 7-bit range to encode just 128 distinct characters.<br><br> \n",
    "    • Unicode on the other hand encodes 154 written scripts. And did I mention emoji? Those too. <br><br>\n",
    "    So, we can say that, while Unicode supports a larger range of characters it also takes up a lot more space than ASCII. </h3>"
   ]
  },
  {
   "cell_type": "markdown",
   "id": "ea3ce552",
   "metadata": {},
   "source": [
    "# Key factor-2 :\n",
    "## ASCII == UNICODE?\n",
    "\n",
    "\n",
    "<h3>\n",
    "\n",
    "• For backward compatibility, the first 128 Unicode characters point to ASCII characters.<br><br>\n",
    "• And since UTF-8 encodes each of those characters using 1-byte.<br><br> \n",
    "• ASCII is essentially just UTF-8, or we can say that ASCII is a subset of Unicode. Vice versa isn’t true.\n",
    "</h3>\n",
    "\n"
   ]
  },
  {
   "cell_type": "code",
   "execution_count": 1,
   "id": "60561a34",
   "metadata": {},
   "outputs": [
    {
     "name": "stdout",
     "output_type": "stream",
     "text": [
      "Mubeen\n"
     ]
    }
   ],
   "source": [
    "x = \"Mubeen\"\n",
    "print(x)"
   ]
  },
  {
   "cell_type": "code",
   "execution_count": 2,
   "id": "d4eb8c7d",
   "metadata": {},
   "outputs": [
    {
     "name": "stdout",
     "output_type": "stream",
     "text": [
      "Mubeen\n"
     ]
    }
   ],
   "source": [
    "x = 'Mubeen'\n",
    "print(x)"
   ]
  },
  {
   "cell_type": "code",
   "execution_count": 3,
   "id": "df62a230",
   "metadata": {},
   "outputs": [
    {
     "name": "stdout",
     "output_type": "stream",
     "text": [
      "\n",
      "hy my name is Mubeen\n",
      "\n"
     ]
    }
   ],
   "source": [
    "x = '''\n",
    "hy my name is Mubeen\n",
    "'''\n",
    "print(x)"
   ]
  },
  {
   "cell_type": "code",
   "execution_count": 4,
   "id": "ae7c1e03",
   "metadata": {},
   "outputs": [
    {
     "name": "stdout",
     "output_type": "stream",
     "text": [
      "\n",
      "hy my name is Mubeen\n",
      "\n"
     ]
    }
   ],
   "source": [
    "x = \"\"\"\n",
    "hy my name is Mubeen\n",
    "\"\"\"\n",
    "print(x)"
   ]
  },
  {
   "cell_type": "markdown",
   "id": "8d062c23",
   "metadata": {},
   "source": [
    "# Concatenate String"
   ]
  },
  {
   "cell_type": "code",
   "execution_count": 5,
   "id": "07b5c27c",
   "metadata": {},
   "outputs": [
    {
     "name": "stdout",
     "output_type": "stream",
     "text": [
      "MubeenAhmad\n",
      "Mubeen Ahmad\n"
     ]
    }
   ],
   "source": [
    "fname = \"Mubeen\"\n",
    "lname = \"Ahmad\"\n",
    "\n",
    "print(fname+lname)\n",
    "print(fname+\" \"+lname)"
   ]
  },
  {
   "cell_type": "code",
   "execution_count": 6,
   "id": "36e9d352",
   "metadata": {},
   "outputs": [
    {
     "name": "stdout",
     "output_type": "stream",
     "text": [
      "Mubeen Ahmad\n"
     ]
    }
   ],
   "source": [
    "print(fname,lname)"
   ]
  },
  {
   "cell_type": "markdown",
   "id": "f726af8a",
   "metadata": {},
   "source": [
    "# Strings are a immutable data types which means that its value cannot be updated."
   ]
  },
  {
   "cell_type": "code",
   "execution_count": 7,
   "id": "8fa11513",
   "metadata": {},
   "outputs": [],
   "source": [
    "x = \"Mubeen\"\n",
    "x = \"ali\""
   ]
  },
  {
   "cell_type": "code",
   "execution_count": 8,
   "id": "b1494f70",
   "metadata": {},
   "outputs": [
    {
     "name": "stdout",
     "output_type": "stream",
     "text": [
      "ali\n"
     ]
    }
   ],
   "source": [
    "print(x)"
   ]
  },
  {
   "cell_type": "markdown",
   "id": "f91ef39d",
   "metadata": {},
   "source": [
    "<h3> Here actual String are not Update they create a new variable of x and assign ali<br><br>\n",
    "id() is the built-in function return the memory location\n",
    "\n",
    "</h3>"
   ]
  },
  {
   "cell_type": "code",
   "execution_count": 9,
   "id": "45d227ed",
   "metadata": {},
   "outputs": [
    {
     "name": "stdout",
     "output_type": "stream",
     "text": [
      "140668746642416\n",
      "140668746755184\n"
     ]
    }
   ],
   "source": [
    "x = \"Mubeen\"\n",
    "print(id(x))\n",
    "x = \"ali\"\n",
    "print(id(x))\n"
   ]
  },
  {
   "cell_type": "markdown",
   "id": "63526db9",
   "metadata": {},
   "source": [
    "<h3>Both memory location are different thats means String are Immutable</h3>"
   ]
  },
  {
   "cell_type": "markdown",
   "id": "e6f1b9e5",
   "metadata": {},
   "source": [
    "# try to change value with indexing"
   ]
  },
  {
   "cell_type": "code",
   "execution_count": 10,
   "id": "4e076c48",
   "metadata": {},
   "outputs": [],
   "source": [
    "x = \"Mubeen\""
   ]
  },
  {
   "cell_type": "code",
   "execution_count": 11,
   "id": "1bad7289",
   "metadata": {},
   "outputs": [
    {
     "ename": "TypeError",
     "evalue": "'str' object does not support item assignment",
     "output_type": "error",
     "traceback": [
      "\u001b[0;31m---------------------------------------------------------------------------\u001b[0m",
      "\u001b[0;31mTypeError\u001b[0m                                 Traceback (most recent call last)",
      "Cell \u001b[0;32mIn [11], line 1\u001b[0m\n\u001b[0;32m----> 1\u001b[0m \u001b[43mx\u001b[49m\u001b[43m[\u001b[49m\u001b[38;5;241;43m0\u001b[39;49m\u001b[43m]\u001b[49m\u001b[38;5;241m=\u001b[39m\u001b[38;5;124m'\u001b[39m\u001b[38;5;124ma\u001b[39m\u001b[38;5;124m'\u001b[39m\n",
      "\u001b[0;31mTypeError\u001b[0m: 'str' object does not support item assignment"
     ]
    }
   ],
   "source": [
    "x[0]='a'"
   ]
  },
  {
   "cell_type": "markdown",
   "id": "2539f94c",
   "metadata": {},
   "source": [
    "# In string assignment with index are not allowed"
   ]
  },
  {
   "cell_type": "markdown",
   "id": "c345aa66",
   "metadata": {},
   "source": [
    "# Positive Indexing\n",
    "\n",
    "<h3> strings are ordered sequences of character data, and thus can be indexed in this way. <br><br>Individual characters in a string can be accessed by specifying the string name followed by a number in square brackets ([]).\n",
    "<br><br>\n",
    "positive Indexing are start with 0\n",
    "</h3>"
   ]
  },
  {
   "cell_type": "code",
   "execution_count": 12,
   "id": "50aa2cd6",
   "metadata": {},
   "outputs": [],
   "source": [
    "x = \"foobar\""
   ]
  },
  {
   "cell_type": "markdown",
   "id": "c394a12f",
   "metadata": {},
   "source": [
    "<img src=\"_pix/t.png\" width=\"500\">"
   ]
  },
  {
   "cell_type": "code",
   "execution_count": 13,
   "id": "fa0ffb47",
   "metadata": {},
   "outputs": [
    {
     "name": "stdout",
     "output_type": "stream",
     "text": [
      "f\n",
      "o\n",
      "o\n",
      "b\n",
      "a\n",
      "r\n"
     ]
    }
   ],
   "source": [
    "# let access\n",
    "print(x[0])\n",
    "print(x[1])\n",
    "print(x[2])\n",
    "print(x[3])\n",
    "print(x[4])\n",
    "print(x[5])"
   ]
  },
  {
   "cell_type": "markdown",
   "id": "8ef69800",
   "metadata": {},
   "source": [
    "# what happend try to access out of range"
   ]
  },
  {
   "cell_type": "code",
   "execution_count": 14,
   "id": "d2990e04",
   "metadata": {},
   "outputs": [
    {
     "ename": "IndexError",
     "evalue": "string index out of range",
     "output_type": "error",
     "traceback": [
      "\u001b[0;31m---------------------------------------------------------------------------\u001b[0m",
      "\u001b[0;31mIndexError\u001b[0m                                Traceback (most recent call last)",
      "Cell \u001b[0;32mIn [14], line 1\u001b[0m\n\u001b[0;32m----> 1\u001b[0m \u001b[38;5;28mprint\u001b[39m(\u001b[43mx\u001b[49m\u001b[43m[\u001b[49m\u001b[38;5;241;43m6\u001b[39;49m\u001b[43m]\u001b[49m)\n",
      "\u001b[0;31mIndexError\u001b[0m: string index out of range"
     ]
    }
   ],
   "source": [
    "print(x[6])"
   ]
  },
  {
   "cell_type": "markdown",
   "id": "6f7ff990",
   "metadata": {},
   "source": [
    "# Negative Indexing"
   ]
  },
  {
   "cell_type": "markdown",
   "id": "3407bed9",
   "metadata": {},
   "source": [
    "<h2>\n",
    "Negative indices can be used with slicing as well. -1 refers to the last character, \n",
    "</h2>"
   ]
  },
  {
   "cell_type": "code",
   "execution_count": 15,
   "id": "08c86c99",
   "metadata": {},
   "outputs": [],
   "source": [
    "x = \"foobar\""
   ]
  },
  {
   "cell_type": "markdown",
   "id": "6a99f906",
   "metadata": {},
   "source": [
    "<img src=\"_pix/n.png\" width=\"500\">"
   ]
  },
  {
   "cell_type": "code",
   "execution_count": 16,
   "id": "6a3a9714",
   "metadata": {},
   "outputs": [
    {
     "name": "stdout",
     "output_type": "stream",
     "text": [
      "r\n",
      "a\n",
      "b\n",
      "o\n",
      "o\n",
      "f\n"
     ]
    }
   ],
   "source": [
    "print(x[-1])\n",
    "print(x[-2])\n",
    "print(x[-3])\n",
    "print(x[-4])\n",
    "print(x[-5])\n",
    "print(x[-6])"
   ]
  },
  {
   "cell_type": "code",
   "execution_count": 17,
   "id": "e51fe8c1",
   "metadata": {},
   "outputs": [
    {
     "name": "stdout",
     "output_type": "stream",
     "text": [
      "f\n",
      "o\n",
      "o\n",
      "b\n",
      "a\n",
      "r\n"
     ]
    }
   ],
   "source": [
    "print(x[-6])\n",
    "print(x[-5])\n",
    "print(x[-4])\n",
    "print(x[-3])\n",
    "print(x[-2])\n",
    "print(x[-1])"
   ]
  },
  {
   "cell_type": "markdown",
   "id": "919b7f81",
   "metadata": {},
   "source": [
    "# -6 last negative index"
   ]
  },
  {
   "cell_type": "code",
   "execution_count": 18,
   "id": "d0627aa0",
   "metadata": {},
   "outputs": [
    {
     "ename": "IndexError",
     "evalue": "string index out of range",
     "output_type": "error",
     "traceback": [
      "\u001b[0;31m---------------------------------------------------------------------------\u001b[0m",
      "\u001b[0;31mIndexError\u001b[0m                                Traceback (most recent call last)",
      "Cell \u001b[0;32mIn [18], line 1\u001b[0m\n\u001b[0;32m----> 1\u001b[0m \u001b[38;5;28mprint\u001b[39m(\u001b[43mx\u001b[49m\u001b[43m[\u001b[49m\u001b[38;5;241;43m-\u001b[39;49m\u001b[38;5;241;43m7\u001b[39;49m\u001b[43m]\u001b[49m)\n",
      "\u001b[0;31mIndexError\u001b[0m: string index out of range"
     ]
    }
   ],
   "source": [
    "print(x[-7])"
   ]
  },
  {
   "cell_type": "markdown",
   "id": "8186fc70",
   "metadata": {},
   "source": [
    "# Step Argument or Slicing\n",
    "<h3>\n",
    "\n",
    "    basically Indexing have 3 Arguments variable[start:end(step):skip]\n",
    "   \n",
    "\n",
    "</h3>"
   ]
  },
  {
   "cell_type": "code",
   "execution_count": 19,
   "id": "f573b845",
   "metadata": {},
   "outputs": [],
   "source": [
    "x = \"foobar\""
   ]
  },
  {
   "cell_type": "code",
   "execution_count": 20,
   "id": "6307851b",
   "metadata": {},
   "outputs": [
    {
     "name": "stdout",
     "output_type": "stream",
     "text": [
      "f\n"
     ]
    }
   ],
   "source": [
    "start = 0\n",
    "end = 1\n",
    "\n",
    "print(x[start:end])"
   ]
  },
  {
   "cell_type": "markdown",
   "id": "96d1e459",
   "metadata": {},
   "source": [
    "<h3>Why not print fo ?<br><br> Because step argument must be +1 means </h3>"
   ]
  },
  {
   "cell_type": "code",
   "execution_count": 21,
   "id": "8f028c5f",
   "metadata": {},
   "outputs": [
    {
     "name": "stdout",
     "output_type": "stream",
     "text": [
      "fo\n"
     ]
    }
   ],
   "source": [
    "x = \"foobar\"\n",
    "start = 0\n",
    "end = 1\n",
    "\n",
    "print(x[start:end+1])"
   ]
  },
  {
   "cell_type": "code",
   "execution_count": 22,
   "id": "3818cc37",
   "metadata": {},
   "outputs": [
    {
     "name": "stdout",
     "output_type": "stream",
     "text": [
      "foo\n"
     ]
    }
   ],
   "source": [
    "start = 0\n",
    "end = 2\n",
    "print(x[start:end+1])"
   ]
  },
  {
   "cell_type": "code",
   "execution_count": 23,
   "id": "c22eb874",
   "metadata": {},
   "outputs": [
    {
     "name": "stdout",
     "output_type": "stream",
     "text": [
      "foob\n"
     ]
    }
   ],
   "source": [
    "start = 0\n",
    "end = 3\n",
    "print(x[start:end+1])"
   ]
  },
  {
   "cell_type": "code",
   "execution_count": 24,
   "id": "29d97c84",
   "metadata": {},
   "outputs": [
    {
     "name": "stdout",
     "output_type": "stream",
     "text": [
      "fooba\n"
     ]
    }
   ],
   "source": [
    "print(x[0:4 +1])"
   ]
  },
  {
   "cell_type": "code",
   "execution_count": 25,
   "id": "bfefdff2",
   "metadata": {},
   "outputs": [
    {
     "name": "stdout",
     "output_type": "stream",
     "text": [
      "foobar\n"
     ]
    }
   ],
   "source": [
    "print(x[0:5 +1])"
   ]
  },
  {
   "cell_type": "code",
   "execution_count": null,
   "id": "b0297cd6",
   "metadata": {},
   "outputs": [],
   "source": [
    "# step argument \n",
    "\n",
    "# f o o b a r \n",
    "# 1 2 3 4 5 6"
   ]
  },
  {
   "cell_type": "code",
   "execution_count": 26,
   "id": "db3f570c",
   "metadata": {},
   "outputs": [
    {
     "name": "stdout",
     "output_type": "stream",
     "text": [
      "foobar\n"
     ]
    }
   ],
   "source": [
    "print(x[0:6])"
   ]
  },
  {
   "cell_type": "markdown",
   "id": "3f9ae6ec",
   "metadata": {},
   "source": [
    "# So in step argument 6 is the last number"
   ]
  },
  {
   "cell_type": "code",
   "execution_count": 27,
   "id": "f8ab881a",
   "metadata": {},
   "outputs": [
    {
     "name": "stdout",
     "output_type": "stream",
     "text": [
      "foobar\n"
     ]
    }
   ],
   "source": [
    "print(x[0:7])"
   ]
  },
  {
   "cell_type": "markdown",
   "id": "5c1225fa",
   "metadata": {},
   "source": [
    "# can't generate the Error out of range in step argument"
   ]
  },
  {
   "cell_type": "markdown",
   "id": "383ec4bd",
   "metadata": {},
   "source": [
    "# Negative Step Argument\n",
    "\n",
    "<h3>\n",
    "Negative argument should be blank as a last character<br><br>\n",
    "    \n",
    "f = -5,<br><br>\n",
    "o = -4,<br><br>\n",
    "o = -3,<br><br>\n",
    "b = -2,<br><br>\n",
    "a = -1,<br><br>\n",
    "r = blank,\n",
    "    \n",
    "\n",
    "</h3>"
   ]
  },
  {
   "cell_type": "code",
   "execution_count": 28,
   "id": "542b4f45",
   "metadata": {},
   "outputs": [
    {
     "name": "stdout",
     "output_type": "stream",
     "text": [
      "f\n",
      "fo\n",
      "foo\n",
      "foob\n",
      "fooba\n",
      "foobar\n"
     ]
    }
   ],
   "source": [
    "print(x[0:-5])\n",
    "print(x[0:-4])\n",
    "print(x[0:-3])\n",
    "print(x[0:-2])\n",
    "print(x[0:-1])\n",
    "print(x[0:])"
   ]
  },
  {
   "cell_type": "markdown",
   "id": "7a9ad6d6",
   "metadata": {},
   "source": [
    "# Negative indexing and Negative step Argument"
   ]
  },
  {
   "cell_type": "markdown",
   "id": "d76395c7",
   "metadata": {},
   "source": [
    "<h3>\n",
    "Indexing<br><br>\n",
    "f = -6,<br><br>\n",
    "o = -5,<br><br>\n",
    "o = -4,<br><br>\n",
    "b = -3,<br><br>\n",
    "a = -2,<br><br>\n",
    "r = -1,\n",
    "</h3>\n",
    "\n",
    "<h3>\n",
    "Step Argument<br><br>    \n",
    "f = -5,<br><br>\n",
    "o = -4,<br><br>\n",
    "o = -3,<br><br>\n",
    "b = -2,<br><br>\n",
    "a = -1,<br><br>\n",
    "r = blank,\n",
    "    \n",
    "\n",
    "</h3>"
   ]
  },
  {
   "cell_type": "code",
   "execution_count": 29,
   "id": "8fb47158",
   "metadata": {},
   "outputs": [
    {
     "name": "stdout",
     "output_type": "stream",
     "text": [
      "f\n",
      "fo\n",
      "foo\n",
      "foob\n",
      "fooba\n",
      "foobar\n"
     ]
    }
   ],
   "source": [
    "print(x[-6:-5])\n",
    "print(x[-6:-4])\n",
    "print(x[-6:-3])\n",
    "print(x[-6:-2])\n",
    "print(x[-6:-1])\n",
    "print(x[-6:])"
   ]
  },
  {
   "cell_type": "code",
   "execution_count": 30,
   "id": "3ef1f14e",
   "metadata": {},
   "outputs": [
    {
     "name": "stdout",
     "output_type": "stream",
     "text": [
      "fo\n",
      "oo\n",
      "ob\n",
      "ba\n",
      "ar\n"
     ]
    }
   ],
   "source": [
    "print(x[-6:-4])\n",
    "print(x[-5:-3])\n",
    "print(x[-4:-2])\n",
    "print(x[-3:-1])\n",
    "print(x[-2:])"
   ]
  },
  {
   "cell_type": "code",
   "execution_count": 31,
   "id": "351acc9e",
   "metadata": {},
   "outputs": [
    {
     "name": "stdout",
     "output_type": "stream",
     "text": [
      "foob\n",
      "bar\n"
     ]
    }
   ],
   "source": [
    "print(x[-6:-2])\n",
    "print(x[-3:])"
   ]
  },
  {
   "cell_type": "markdown",
   "id": "52912cd9",
   "metadata": {},
   "source": [
    "# Skip Argument\n",
    "\n",
    "<h3>\n",
    "\n",
    "Skip Argument are skip the specfic range of characters <br><br>\n",
    "Skip Argument same as Step argument means current value not include means (n-1)\n",
    "</h3>"
   ]
  },
  {
   "cell_type": "code",
   "execution_count": 32,
   "id": "50635398",
   "metadata": {},
   "outputs": [],
   "source": [
    "x = \"Mubeen\""
   ]
  },
  {
   "cell_type": "code",
   "execution_count": 33,
   "id": "10d6e107",
   "metadata": {},
   "outputs": [
    {
     "name": "stdout",
     "output_type": "stream",
     "text": [
      "Mubeen\n"
     ]
    }
   ],
   "source": [
    "print(x[0::1])"
   ]
  },
  {
   "cell_type": "code",
   "execution_count": 34,
   "id": "0af45a4c",
   "metadata": {},
   "outputs": [
    {
     "name": "stdout",
     "output_type": "stream",
     "text": [
      "Mbe\n"
     ]
    }
   ],
   "source": [
    "print(x[0::2])"
   ]
  },
  {
   "cell_type": "markdown",
   "id": "395ed4cd",
   "metadata": {},
   "source": [
    "<h3>\n",
    "\n",
    "M [skip u], b [skip e], e [skip n]<br><br> Every 2nd Element are skip means 1 (n-1)\n",
    "</h3>"
   ]
  },
  {
   "cell_type": "code",
   "execution_count": 35,
   "id": "1a14b46c",
   "metadata": {},
   "outputs": [],
   "source": [
    "x = \"Mubeen_Ahmad\""
   ]
  },
  {
   "cell_type": "code",
   "execution_count": 36,
   "id": "d58525b6",
   "metadata": {},
   "outputs": [
    {
     "name": "stdout",
     "output_type": "stream",
     "text": [
      "Me_m\n"
     ]
    }
   ],
   "source": [
    "print(x[0::3])"
   ]
  },
  {
   "cell_type": "markdown",
   "id": "43a6d4f1",
   "metadata": {},
   "source": [
    "<h3>\n",
    "\n",
    "M[ub skip], e [en skip], _ [Ah skip], m[ad skip ]<br><br> Every 3nd Element are skip means 2 (n-1)\n",
    "</h3>"
   ]
  },
  {
   "cell_type": "markdown",
   "id": "f9c19d2c",
   "metadata": {},
   "source": [
    "# Negative Skip Argument\n",
    "\n",
    "\n",
    "<h3>\n",
    "\n",
    "Negative Skip Argument are most used for reverse the string\n",
    "</h3>"
   ]
  },
  {
   "cell_type": "code",
   "execution_count": 37,
   "id": "4c7e0fde",
   "metadata": {},
   "outputs": [],
   "source": [
    "x = \"Mubeen\""
   ]
  },
  {
   "cell_type": "code",
   "execution_count": 38,
   "id": "ba3e93e4",
   "metadata": {},
   "outputs": [
    {
     "name": "stdout",
     "output_type": "stream",
     "text": [
      "neebuM\n"
     ]
    }
   ],
   "source": [
    "print(x[::-1])"
   ]
  },
  {
   "cell_type": "code",
   "execution_count": 39,
   "id": "50d7af31",
   "metadata": {},
   "outputs": [
    {
     "name": "stdout",
     "output_type": "stream",
     "text": [
      "neebuM\n"
     ]
    }
   ],
   "source": [
    "# also work with blank index\n",
    "print(x[::-1])"
   ]
  },
  {
   "cell_type": "code",
   "execution_count": 40,
   "id": "5bbbef96",
   "metadata": {},
   "outputs": [
    {
     "name": "stdout",
     "output_type": "stream",
     "text": [
      "neu\n"
     ]
    }
   ],
   "source": [
    "#  n[e skip] e[b skip]u[M skip]\n",
    "\n",
    "print(x[5::-2])"
   ]
  },
  {
   "cell_type": "code",
   "execution_count": 41,
   "id": "2b1f10ca",
   "metadata": {},
   "outputs": [
    {
     "name": "stdout",
     "output_type": "stream",
     "text": [
      "neu\n"
     ]
    }
   ],
   "source": [
    "# also work \n",
    "print(x[::-2])"
   ]
  },
  {
   "cell_type": "code",
   "execution_count": 42,
   "id": "14750710",
   "metadata": {},
   "outputs": [
    {
     "name": "stdout",
     "output_type": "stream",
     "text": [
      "neebuM\n",
      "uM\n",
      "buM\n",
      "ebuM\n",
      "eebuM\n",
      "neebuM\n"
     ]
    }
   ],
   "source": [
    "print(x[::-1])\n",
    "print(x[1::-1])\n",
    "print(x[2::-1])\n",
    "print(x[3::-1])\n",
    "print(x[4::-1])\n",
    "print(x[5::-1])"
   ]
  },
  {
   "cell_type": "code",
   "execution_count": 43,
   "id": "d8aa1116",
   "metadata": {},
   "outputs": [
    {
     "name": "stdout",
     "output_type": "stream",
     "text": [
      "neebuM\n",
      "eebuM\n",
      "ebuM\n",
      "buM\n",
      "uM\n",
      "M\n"
     ]
    }
   ],
   "source": [
    "print(x[-1::-1])\n",
    "print(x[-2::-1])\n",
    "print(x[-3::-1])\n",
    "print(x[-4::-1])\n",
    "print(x[-5::-1])\n",
    "print(x[-6::-1])"
   ]
  },
  {
   "cell_type": "markdown",
   "id": "02028bcc",
   "metadata": {},
   "source": [
    "# String Unpacking"
   ]
  },
  {
   "cell_type": "code",
   "execution_count": 44,
   "id": "7068f86b",
   "metadata": {},
   "outputs": [],
   "source": [
    "x = \"abc\""
   ]
  },
  {
   "cell_type": "markdown",
   "id": "52861afe",
   "metadata": {},
   "source": [
    "<h3>unpacking</h3>"
   ]
  },
  {
   "cell_type": "code",
   "execution_count": 45,
   "id": "4106d300",
   "metadata": {},
   "outputs": [],
   "source": [
    "a,b,c = x"
   ]
  },
  {
   "cell_type": "code",
   "execution_count": 46,
   "id": "fbad593e",
   "metadata": {},
   "outputs": [
    {
     "name": "stdout",
     "output_type": "stream",
     "text": [
      "a b c\n"
     ]
    }
   ],
   "source": [
    "print(a,b,c)"
   ]
  },
  {
   "cell_type": "markdown",
   "id": "a12a5816",
   "metadata": {},
   "source": [
    "# Multiple Unpacking"
   ]
  },
  {
   "cell_type": "code",
   "execution_count": 47,
   "id": "a1436870",
   "metadata": {},
   "outputs": [],
   "source": [
    "x = \"abc\""
   ]
  },
  {
   "cell_type": "code",
   "execution_count": 48,
   "id": "6357820e",
   "metadata": {},
   "outputs": [
    {
     "ename": "ValueError",
     "evalue": "too many values to unpack (expected 2)",
     "output_type": "error",
     "traceback": [
      "\u001b[0;31m---------------------------------------------------------------------------\u001b[0m",
      "\u001b[0;31mValueError\u001b[0m                                Traceback (most recent call last)",
      "Cell \u001b[0;32mIn [48], line 1\u001b[0m\n\u001b[0;32m----> 1\u001b[0m a,b \u001b[38;5;241m=\u001b[39m x\n",
      "\u001b[0;31mValueError\u001b[0m: too many values to unpack (expected 2)"
     ]
    }
   ],
   "source": [
    "a,b = x"
   ]
  },
  {
   "cell_type": "markdown",
   "id": "b233e1b8",
   "metadata": {},
   "source": [
    "<h3>\n",
    "Because string length is 3 but variable is 2<br><br> use * to solve this error\n",
    "</h3>"
   ]
  },
  {
   "cell_type": "code",
   "execution_count": 49,
   "id": "b7c7756d",
   "metadata": {},
   "outputs": [
    {
     "data": {
      "text/plain": [
       "'abc'"
      ]
     },
     "execution_count": 49,
     "metadata": {},
     "output_type": "execute_result"
    }
   ],
   "source": [
    "x"
   ]
  },
  {
   "cell_type": "code",
   "execution_count": 50,
   "id": "cbbe8c27",
   "metadata": {},
   "outputs": [],
   "source": [
    "a,*b = x"
   ]
  },
  {
   "cell_type": "code",
   "execution_count": 51,
   "id": "77a70303",
   "metadata": {},
   "outputs": [
    {
     "data": {
      "text/plain": [
       "'a'"
      ]
     },
     "execution_count": 51,
     "metadata": {},
     "output_type": "execute_result"
    }
   ],
   "source": [
    "a"
   ]
  },
  {
   "cell_type": "code",
   "execution_count": 52,
   "id": "c2ec82a2",
   "metadata": {},
   "outputs": [
    {
     "data": {
      "text/plain": [
       "['b', 'c']"
      ]
     },
     "execution_count": 52,
     "metadata": {},
     "output_type": "execute_result"
    }
   ],
   "source": [
    "# b return the list \n",
    "b"
   ]
  },
  {
   "cell_type": "markdown",
   "id": "7c553192",
   "metadata": {},
   "source": [
    "# String Conservation"
   ]
  },
  {
   "cell_type": "code",
   "execution_count": 53,
   "id": "fcc07b8f",
   "metadata": {},
   "outputs": [
    {
     "name": "stdout",
     "output_type": "stream",
     "text": [
      "30\n"
     ]
    }
   ],
   "source": [
    "a = 10\n",
    "b = 20\n",
    "print(a+b)"
   ]
  },
  {
   "cell_type": "code",
   "execution_count": 54,
   "id": "35a7a15c",
   "metadata": {},
   "outputs": [
    {
     "name": "stdout",
     "output_type": "stream",
     "text": [
      "1020\n"
     ]
    }
   ],
   "source": [
    "a = str(10)\n",
    "b = str(20)\n",
    "print(a+b)"
   ]
  },
  {
   "cell_type": "code",
   "execution_count": 55,
   "id": "c3f24d8e",
   "metadata": {},
   "outputs": [
    {
     "name": "stdout",
     "output_type": "stream",
     "text": [
      "1020\n"
     ]
    }
   ],
   "source": [
    "a = '10'\n",
    "b = '20'\n",
    "print(a+b)"
   ]
  },
  {
   "cell_type": "markdown",
   "id": "ba0613db",
   "metadata": {},
   "source": [
    "# string Constructor"
   ]
  },
  {
   "cell_type": "code",
   "execution_count": 56,
   "id": "3c7d67e5",
   "metadata": {},
   "outputs": [],
   "source": [
    "x = str()"
   ]
  },
  {
   "cell_type": "code",
   "execution_count": 57,
   "id": "10ec8695",
   "metadata": {},
   "outputs": [
    {
     "data": {
      "text/plain": [
       "''"
      ]
     },
     "execution_count": 57,
     "metadata": {},
     "output_type": "execute_result"
    }
   ],
   "source": [
    "x"
   ]
  },
  {
   "cell_type": "code",
   "execution_count": 58,
   "id": "3c2fc7f6",
   "metadata": {},
   "outputs": [
    {
     "name": "stdout",
     "output_type": "stream",
     "text": [
      " <class 'str'>\n"
     ]
    }
   ],
   "source": [
    "print(x,type(x))"
   ]
  },
  {
   "cell_type": "markdown",
   "id": "824f3471",
   "metadata": {},
   "source": [
    "<h3 style=\"color:#4e2abd;\">Operaters for String</h3>"
   ]
  },
  {
   "cell_type": "markdown",
   "id": "e1eedbce",
   "metadata": {},
   "source": [
    "<h3 style=\"color:#f21852;\">• Assignment = </h3>"
   ]
  },
  {
   "cell_type": "code",
   "execution_count": 12,
   "id": "a2984e7e",
   "metadata": {},
   "outputs": [
    {
     "name": "stdout",
     "output_type": "stream",
     "text": [
      "Hello\n"
     ]
    }
   ],
   "source": [
    "n = \"Hello\"\n",
    "print(n)"
   ]
  },
  {
   "cell_type": "markdown",
   "id": "ead1a7c4",
   "metadata": {},
   "source": [
    "<h3 style=\"color:#f21852;\">• Concatenate + </h3>"
   ]
  },
  {
   "cell_type": "code",
   "execution_count": 1,
   "id": "631c520b",
   "metadata": {},
   "outputs": [
    {
     "name": "stdout",
     "output_type": "stream",
     "text": [
      "Mubeen Ahmad\n"
     ]
    }
   ],
   "source": [
    "fname = \"Mubeen\"\n",
    "lname = \"Ahmad\"\n",
    "\n",
    "fullname = fname+\" \"+lname\n",
    "print(fullname)"
   ]
  },
  {
   "cell_type": "markdown",
   "id": "d586b404",
   "metadata": {},
   "source": [
    "<h3 style=\"color:#f21852;\">• repetition operator * </h3>"
   ]
  },
  {
   "cell_type": "code",
   "execution_count": 2,
   "id": "a1acd416",
   "metadata": {},
   "outputs": [
    {
     "data": {
      "text/plain": [
       "'Mubeen Mubeen Mubeen Mubeen Mubeen '"
      ]
     },
     "execution_count": 2,
     "metadata": {},
     "output_type": "execute_result"
    }
   ],
   "source": [
    "\"Mubeen \" * 5"
   ]
  },
  {
   "cell_type": "markdown",
   "id": "60329e51",
   "metadata": {},
   "source": [
    "<h3 style=\"color:#f21852;\">• Membership operator in / not in </h3>"
   ]
  },
  {
   "cell_type": "code",
   "execution_count": 11,
   "id": "9fb15d22",
   "metadata": {},
   "outputs": [
    {
     "name": "stdout",
     "output_type": "stream",
     "text": [
      "True\n",
      "False\n"
     ]
    }
   ],
   "source": [
    "x = \"Mubeen\"\n",
    "\n",
    "print(\"n\" in x)\n",
    "print(\"n\" not in x)"
   ]
  },
  {
   "cell_type": "markdown",
   "id": "17c57ca5",
   "metadata": {},
   "source": [
    "<h3 style=\"color:#f21852;\">• comparison operator: “==” / “!=” </h3>"
   ]
  },
  {
   "cell_type": "code",
   "execution_count": 13,
   "id": "4ad3e93f",
   "metadata": {},
   "outputs": [
    {
     "data": {
      "text/plain": [
       "True"
      ]
     },
     "execution_count": 13,
     "metadata": {},
     "output_type": "execute_result"
    }
   ],
   "source": [
    "x = \"Mubeen\"\n",
    "\n",
    "# equal\n",
    "x[0] == \"M\""
   ]
  },
  {
   "cell_type": "code",
   "execution_count": 14,
   "id": "74df30a4",
   "metadata": {},
   "outputs": [
    {
     "data": {
      "text/plain": [
       "True"
      ]
     },
     "execution_count": 14,
     "metadata": {},
     "output_type": "execute_result"
    }
   ],
   "source": [
    "# not equal\n",
    "x[0] != \"m\""
   ]
  },
  {
   "cell_type": "code",
   "execution_count": 15,
   "id": "c9a9205a",
   "metadata": {},
   "outputs": [
    {
     "data": {
      "text/plain": [
       "False"
      ]
     },
     "execution_count": 15,
     "metadata": {},
     "output_type": "execute_result"
    }
   ],
   "source": [
    "x[0] != 'M'"
   ]
  }
 ],
 "metadata": {
  "kernelspec": {
   "display_name": "Python 3 (ipykernel)",
   "language": "python",
   "name": "python3"
  },
  "language_info": {
   "codemirror_mode": {
    "name": "ipython",
    "version": 3
   },
   "file_extension": ".py",
   "mimetype": "text/x-python",
   "name": "python",
   "nbconvert_exporter": "python",
   "pygments_lexer": "ipython3",
   "version": "3.10.6"
  }
 },
 "nbformat": 4,
 "nbformat_minor": 5
}

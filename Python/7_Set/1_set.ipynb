{
 "cells": [
  {
   "cell_type": "markdown",
   "id": "65e1615b",
   "metadata": {},
   "source": [
    "# A set is an unordered collection of items. <br><br>Every set element is unique (no duplicates) and must be immutable (cannot be changed).\n",
    "\n",
    "<h3>\n",
    "• Sets are Unorderd<br><br>\n",
    "• Duplicates are not Allowed <br><br>\n",
    "• Sets are Immutable<br><br>\n",
    "• Indexing are not Allowed<br><br>\n",
    "• UnHashable data Type not Allowed inside Sets<br><br>\n",
    "\n",
    "    \n",
    "\n",
    "</h3>"
   ]
  },
  {
   "cell_type": "markdown",
   "id": "884cb4c0",
   "metadata": {},
   "source": [
    "<h3 style=\"color:#4e2abd;\">Create a set</h3>"
   ]
  },
  {
   "cell_type": "code",
   "execution_count": 36,
   "id": "0057fd1f",
   "metadata": {},
   "outputs": [
    {
     "data": {
      "text/plain": [
       "{1, 2, 3, 4, 5}"
      ]
     },
     "execution_count": 36,
     "metadata": {},
     "output_type": "execute_result"
    }
   ],
   "source": [
    "s = {1,2,3,4,5}\n",
    "s"
   ]
  },
  {
   "cell_type": "markdown",
   "id": "b35aeed6",
   "metadata": {},
   "source": [
    "<h3 style=\"color:#4e2abd;\">Empty Set</h3>"
   ]
  },
  {
   "cell_type": "code",
   "execution_count": 37,
   "id": "115a8a5a",
   "metadata": {},
   "outputs": [
    {
     "data": {
      "text/plain": [
       "dict"
      ]
     },
     "execution_count": 37,
     "metadata": {},
     "output_type": "execute_result"
    }
   ],
   "source": [
    "s = {}\n",
    "type(s)\n",
    "\n",
    "# use ( ) for create a set otherwise python treat as a dictionary"
   ]
  },
  {
   "cell_type": "code",
   "execution_count": 43,
   "id": "608a0461",
   "metadata": {},
   "outputs": [
    {
     "data": {
      "text/plain": [
       "set"
      ]
     },
     "execution_count": 43,
     "metadata": {},
     "output_type": "execute_result"
    }
   ],
   "source": [
    "s = {()}\n",
    "\n",
    "type(s)"
   ]
  },
  {
   "cell_type": "markdown",
   "id": "a8b066b8",
   "metadata": {},
   "source": [
    "<h3 style=\"color:#4e2abd;\">Empty set with type Conservation</h3>"
   ]
  },
  {
   "cell_type": "code",
   "execution_count": 45,
   "id": "eff0dce8",
   "metadata": {},
   "outputs": [
    {
     "data": {
      "text/plain": [
       "set"
      ]
     },
     "execution_count": 45,
     "metadata": {},
     "output_type": "execute_result"
    }
   ],
   "source": [
    "s = set()\n",
    "\n",
    "type(s)"
   ]
  },
  {
   "cell_type": "markdown",
   "id": "bd581643",
   "metadata": {},
   "source": [
    "<h3 style=\"color:#4e2abd;\">Duplicates values are skipped</h3>"
   ]
  },
  {
   "cell_type": "code",
   "execution_count": 47,
   "id": "005e645b",
   "metadata": {},
   "outputs": [
    {
     "name": "stdout",
     "output_type": "stream",
     "text": [
      "{1, 2, 3, 4}\n",
      "4\n"
     ]
    }
   ],
   "source": [
    "s = {1,2,3,3,4}\n",
    "\n",
    "print(s)\n",
    "print(len(s))"
   ]
  },
  {
   "cell_type": "markdown",
   "id": "3d8190e4",
   "metadata": {},
   "source": [
    "<h3 style=\"color:#4e2abd;\">Inside the Sets only Immutable Data Types/Hashable Data Type are Allowed</h3>"
   ]
  },
  {
   "cell_type": "code",
   "execution_count": 54,
   "id": "a37f9c8a",
   "metadata": {},
   "outputs": [
    {
     "data": {
      "text/plain": [
       "{(3, 4), 1, 2, 3}"
      ]
     },
     "execution_count": 54,
     "metadata": {},
     "output_type": "execute_result"
    }
   ],
   "source": [
    "s = {1,2,3,(3,4)}\n",
    "s"
   ]
  },
  {
   "cell_type": "code",
   "execution_count": 58,
   "id": "86374018",
   "metadata": {},
   "outputs": [
    {
     "ename": "TypeError",
     "evalue": "unhashable type: 'list'",
     "output_type": "error",
     "traceback": [
      "\u001b[0;31m---------------------------------------------------------------------------\u001b[0m",
      "\u001b[0;31mTypeError\u001b[0m                                 Traceback (most recent call last)",
      "Cell \u001b[0;32mIn [58], line 1\u001b[0m\n\u001b[0;32m----> 1\u001b[0m s \u001b[38;5;241m=\u001b[39m {\u001b[38;5;241m1\u001b[39m,\u001b[38;5;241m2\u001b[39m,\u001b[38;5;241m3\u001b[39m,\u001b[38;5;241m4\u001b[39m,[\u001b[38;5;241m1\u001b[39m,\u001b[38;5;241m2\u001b[39m,\u001b[38;5;241m3\u001b[39m]}\n",
      "\u001b[0;31mTypeError\u001b[0m: unhashable type: 'list'"
     ]
    }
   ],
   "source": [
    "s = {1,2,3,4,[1,2,3]}"
   ]
  },
  {
   "cell_type": "code",
   "execution_count": 62,
   "id": "2a1e6faf",
   "metadata": {},
   "outputs": [
    {
     "ename": "TypeError",
     "evalue": "unhashable type: 'list'",
     "output_type": "error",
     "traceback": [
      "\u001b[0;31m---------------------------------------------------------------------------\u001b[0m",
      "\u001b[0;31mTypeError\u001b[0m                                 Traceback (most recent call last)",
      "Cell \u001b[0;32mIn [62], line 4\u001b[0m\n\u001b[1;32m      1\u001b[0m \u001b[38;5;66;03m# list is unhashable so they are not allow\u001b[39;00m\n\u001b[1;32m      2\u001b[0m \u001b[38;5;66;03m# use hash() bulit in function for check hashing\u001b[39;00m\n\u001b[0;32m----> 4\u001b[0m \u001b[38;5;28;43mhash\u001b[39;49m\u001b[43m(\u001b[49m\u001b[43m[\u001b[49m\u001b[38;5;241;43m1\u001b[39;49m\u001b[43m,\u001b[49m\u001b[38;5;241;43m2\u001b[39;49m\u001b[43m,\u001b[49m\u001b[38;5;241;43m3\u001b[39;49m\u001b[43m]\u001b[49m\u001b[43m)\u001b[49m\n",
      "\u001b[0;31mTypeError\u001b[0m: unhashable type: 'list'"
     ]
    }
   ],
   "source": [
    "# list is unhashable so they are not allow\n",
    "# use hash() bulit in function for check hashing\n",
    "\n",
    "hash([1,2,3])"
   ]
  },
  {
   "cell_type": "code",
   "execution_count": 61,
   "id": "05f9240f",
   "metadata": {},
   "outputs": [
    {
     "data": {
      "text/plain": [
       "529344067295497451"
      ]
     },
     "execution_count": 61,
     "metadata": {},
     "output_type": "execute_result"
    }
   ],
   "source": [
    "hash((1,2,3))"
   ]
  },
  {
   "cell_type": "code",
   "execution_count": 69,
   "id": "1422f54e",
   "metadata": {},
   "outputs": [
    {
     "data": {
      "text/plain": [
       "-8332291445116145190"
      ]
     },
     "execution_count": 69,
     "metadata": {},
     "output_type": "execute_result"
    }
   ],
   "source": [
    "hash(\"hello\")"
   ]
  },
  {
   "cell_type": "markdown",
   "id": "8f68e765",
   "metadata": {},
   "source": [
    "<h3 style=\"color:#4e2abd;\">Indexing are not allowed and they are Immutable </h3>"
   ]
  },
  {
   "cell_type": "code",
   "execution_count": 73,
   "id": "05b9f157",
   "metadata": {},
   "outputs": [
    {
     "ename": "TypeError",
     "evalue": "unsupported operand type(s) for +=: 'set' and 'int'",
     "output_type": "error",
     "traceback": [
      "\u001b[0;31m---------------------------------------------------------------------------\u001b[0m",
      "\u001b[0;31mTypeError\u001b[0m                                 Traceback (most recent call last)",
      "Cell \u001b[0;32mIn [73], line 2\u001b[0m\n\u001b[1;32m      1\u001b[0m s \u001b[38;5;241m=\u001b[39m {\u001b[38;5;241m1\u001b[39m,\u001b[38;5;241m2\u001b[39m,\u001b[38;5;241m3\u001b[39m}\n\u001b[0;32m----> 2\u001b[0m s \u001b[38;5;241m+\u001b[39m\u001b[38;5;241m=\u001b[39m \u001b[38;5;241m2\u001b[39m\n",
      "\u001b[0;31mTypeError\u001b[0m: unsupported operand type(s) for +=: 'set' and 'int'"
     ]
    }
   ],
   "source": [
    "s = {1,2,3}\n",
    "s += 2"
   ]
  },
  {
   "cell_type": "code",
   "execution_count": 74,
   "id": "10ad8dd7",
   "metadata": {},
   "outputs": [
    {
     "ename": "TypeError",
     "evalue": "'set' object is not subscriptable",
     "output_type": "error",
     "traceback": [
      "\u001b[0;31m---------------------------------------------------------------------------\u001b[0m",
      "\u001b[0;31mTypeError\u001b[0m                                 Traceback (most recent call last)",
      "Cell \u001b[0;32mIn [74], line 2\u001b[0m\n\u001b[1;32m      1\u001b[0m s \u001b[38;5;241m=\u001b[39m {\u001b[38;5;241m1\u001b[39m,\u001b[38;5;241m2\u001b[39m,\u001b[38;5;241m3\u001b[39m}\n\u001b[0;32m----> 2\u001b[0m \u001b[43ms\u001b[49m\u001b[43m[\u001b[49m\u001b[38;5;241;43m0\u001b[39;49m\u001b[43m]\u001b[49m\n",
      "\u001b[0;31mTypeError\u001b[0m: 'set' object is not subscriptable"
     ]
    }
   ],
   "source": [
    "s = {1,2,3}\n",
    "s[0]"
   ]
  }
 ],
 "metadata": {
  "kernelspec": {
   "display_name": "Python 3 (ipykernel)",
   "language": "python",
   "name": "python3"
  },
  "language_info": {
   "codemirror_mode": {
    "name": "ipython",
    "version": 3
   },
   "file_extension": ".py",
   "mimetype": "text/x-python",
   "name": "python",
   "nbconvert_exporter": "python",
   "pygments_lexer": "ipython3",
   "version": "3.10.6"
  }
 },
 "nbformat": 4,
 "nbformat_minor": 5
}

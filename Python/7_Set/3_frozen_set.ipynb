{
 "cells": [
  {
   "cell_type": "markdown",
   "id": "2c09b6f0",
   "metadata": {},
   "source": [
    "# The frozenset() function returns an immutable frozenset object initialized with elements from the given iterable.\n",
    "\n",
    "<h3 style=\"color:black;\">Frozenset is similar to set in Python, except that frozensets are immutable, which implies that once generated, elements from the frozenset cannot be added or removed. <br><br>This function accepts any iterable object as input and transforms it into an immutable object. <br><br>It is not assured that the order of the elements will be retained.</h3>"
   ]
  },
  {
   "cell_type": "markdown",
   "id": "877b4f1d",
   "metadata": {},
   "source": [
    "<h3 style=\"color:#4e2abd;\">Create a frozenset</h3>"
   ]
  },
  {
   "cell_type": "code",
   "execution_count": 4,
   "id": "aa4252be",
   "metadata": {},
   "outputs": [
    {
     "data": {
      "text/plain": [
       "frozenset"
      ]
     },
     "execution_count": 4,
     "metadata": {},
     "output_type": "execute_result"
    }
   ],
   "source": [
    "# frozenset\n",
    "\n",
    "s = {1,2,3,4}\n",
    "s = frozenset(s)\n",
    "type(s)"
   ]
  },
  {
   "cell_type": "code",
   "execution_count": 5,
   "id": "0ce4e156",
   "metadata": {},
   "outputs": [
    {
     "data": {
      "text/plain": [
       "set"
      ]
     },
     "execution_count": 5,
     "metadata": {},
     "output_type": "execute_result"
    }
   ],
   "source": [
    "# set\n",
    "\n",
    "s = {1,2,3,4}\n",
    "type(s)"
   ]
  },
  {
   "cell_type": "markdown",
   "id": "228fdcfc",
   "metadata": {},
   "source": [
    "<h3 style=\"color:#4e2abd;\">Empty frozenset</h3>"
   ]
  },
  {
   "cell_type": "code",
   "execution_count": 16,
   "id": "003c33b3",
   "metadata": {},
   "outputs": [
    {
     "name": "stdout",
     "output_type": "stream",
     "text": [
      "<class 'set'>\n",
      "<class 'frozenset'>\n"
     ]
    }
   ],
   "source": [
    "# set\n",
    "s = {()}\n",
    "print(type(s))\n",
    "\n",
    "s = frozenset()\n",
    "print(type(s))"
   ]
  },
  {
   "cell_type": "markdown",
   "id": "6a05b7c7",
   "metadata": {},
   "source": [
    "<h3 style=\"color:#4e2abd;\">Duplicates are skiped in frozenset</h3>"
   ]
  },
  {
   "cell_type": "code",
   "execution_count": 22,
   "id": "9682a99c",
   "metadata": {},
   "outputs": [
    {
     "name": "stdout",
     "output_type": "stream",
     "text": [
      "{1, 2, 3}\n",
      "frozenset({1, 2, 3})\n"
     ]
    }
   ],
   "source": [
    "# set \n",
    "print({1,2,3,1})\n",
    "\n",
    "# frozenset\n",
    "print(frozenset( (1,2,3,1) ))\n"
   ]
  },
  {
   "cell_type": "markdown",
   "id": "05aff6c2",
   "metadata": {},
   "source": [
    "<h3 style=\"color:#4e2abd;\">Inside the Sets only Immutable Data Types/Hashable But frozenset are convert data in frozenset</h3>"
   ]
  },
  {
   "cell_type": "code",
   "execution_count": 23,
   "id": "8e7536bb",
   "metadata": {},
   "outputs": [
    {
     "ename": "TypeError",
     "evalue": "unhashable type: 'list'",
     "output_type": "error",
     "traceback": [
      "\u001b[0;31m---------------------------------------------------------------------------\u001b[0m",
      "\u001b[0;31mTypeError\u001b[0m                                 Traceback (most recent call last)",
      "Cell \u001b[0;32mIn [23], line 1\u001b[0m\n\u001b[0;32m----> 1\u001b[0m x \u001b[38;5;241m=\u001b[39m {[\u001b[38;5;241m1\u001b[39m,\u001b[38;5;241m2\u001b[39m,\u001b[38;5;241m3\u001b[39m]}\n",
      "\u001b[0;31mTypeError\u001b[0m: unhashable type: 'list'"
     ]
    }
   ],
   "source": [
    "# set\n",
    "x = {[1,2,3]}"
   ]
  },
  {
   "cell_type": "code",
   "execution_count": 24,
   "id": "17fbca25",
   "metadata": {},
   "outputs": [
    {
     "data": {
      "text/plain": [
       "frozenset({1, 2, 3})"
      ]
     },
     "execution_count": 24,
     "metadata": {},
     "output_type": "execute_result"
    }
   ],
   "source": [
    "# frozenset\n",
    "\n",
    "x = frozenset([1,2,3])\n",
    "x"
   ]
  },
  {
   "cell_type": "markdown",
   "id": "d015571b",
   "metadata": {},
   "source": [
    "<h3 style=\"color:#4e2abd;\">frozenset skip the dictionary value </h3>"
   ]
  },
  {
   "cell_type": "code",
   "execution_count": 28,
   "id": "3535ff95",
   "metadata": {},
   "outputs": [
    {
     "data": {
      "text/plain": [
       "frozenset({'class', 'name'})"
      ]
     },
     "execution_count": 28,
     "metadata": {},
     "output_type": "execute_result"
    }
   ],
   "source": [
    "x = frozenset({\"name\":\"Mubeen\",\"class\":\"Ai\"})\n",
    "x"
   ]
  },
  {
   "cell_type": "markdown",
   "id": "a60b95aa",
   "metadata": {},
   "source": [
    "<h3 style=\"color:#4e2abd;\">What is the purpose of frozenset <br><br>Sets are Immutable and Frozenset is also Immutable but set are update with some update Methods while frozenset are not have any update methods</h3>"
   ]
  },
  {
   "cell_type": "code",
   "execution_count": 35,
   "id": "a1c294b3",
   "metadata": {},
   "outputs": [
    {
     "name": "stdout",
     "output_type": "stream",
     "text": [
      "{1, 2, 3}\n"
     ]
    },
    {
     "ename": "AttributeError",
     "evalue": "'frozenset' object has no attribute 'add'",
     "output_type": "error",
     "traceback": [
      "\u001b[0;31m---------------------------------------------------------------------------\u001b[0m",
      "\u001b[0;31mAttributeError\u001b[0m                            Traceback (most recent call last)",
      "Cell \u001b[0;32mIn [35], line 9\u001b[0m\n\u001b[1;32m      7\u001b[0m \u001b[38;5;66;03m# and frozenset have not any add method\u001b[39;00m\n\u001b[1;32m      8\u001b[0m s \u001b[38;5;241m=\u001b[39m \u001b[38;5;28mfrozenset\u001b[39m({\u001b[38;5;241m1\u001b[39m,\u001b[38;5;241m2\u001b[39m})\n\u001b[0;32m----> 9\u001b[0m \u001b[43ms\u001b[49m\u001b[38;5;241;43m.\u001b[39;49m\u001b[43madd\u001b[49m(\u001b[38;5;241m3\u001b[39m)\n\u001b[1;32m     10\u001b[0m \u001b[38;5;28mprint\u001b[39m(s)\n",
      "\u001b[0;31mAttributeError\u001b[0m: 'frozenset' object has no attribute 'add'"
     ]
    }
   ],
   "source": [
    "# e.g set have add method\n",
    "\n",
    "s = {1,2}\n",
    "s.add(3)\n",
    "print(s)\n",
    "\n",
    "# and frozenset have not any add method\n",
    "s = frozenset({1,2})\n",
    "s.add(3)\n",
    "print(s)\n"
   ]
  },
  {
   "cell_type": "markdown",
   "id": "96351c39",
   "metadata": {},
   "source": [
    "# Methods of frozensets\n",
    "\n",
    "<h3 style=\"color:#4e2abd;\">There are all same methods of sets available in frozensets but frozenset are not update-able thats why frozenset have not any updates methods. <br><br> Frozenset Methods :<br><br>\n",
    "\n",
    "'copy',<br><br>'difference',<br><br>'intersection',<br><br> 'isdisjoint', <br><br>'issubset', <br><br>'issuperset',  <br><br>'symmetric_difference',<br><br> 'union'</h3>"
   ]
  },
  {
   "cell_type": "code",
   "execution_count": 42,
   "id": "b5b1b1ae",
   "metadata": {},
   "outputs": [
    {
     "name": "stdout",
     "output_type": "stream",
     "text": [
      "frozenset({1, 2, 3})\n"
     ]
    }
   ],
   "source": [
    "s = frozenset([1,2,3])\n",
    "print(s)"
   ]
  },
  {
   "cell_type": "code",
   "execution_count": 43,
   "id": "417af709",
   "metadata": {},
   "outputs": [
    {
     "data": {
      "text/plain": [
       "frozenset({1, 2, 3, 4})"
      ]
     },
     "execution_count": 43,
     "metadata": {},
     "output_type": "execute_result"
    }
   ],
   "source": [
    "# union\n",
    "s.union((1,2,4))"
   ]
  },
  {
   "cell_type": "code",
   "execution_count": 44,
   "id": "af53c11a",
   "metadata": {},
   "outputs": [
    {
     "data": {
      "text/plain": [
       "frozenset({1, 2})"
      ]
     },
     "execution_count": 44,
     "metadata": {},
     "output_type": "execute_result"
    }
   ],
   "source": [
    "# intersection\n",
    "s.intersection((1,2,4))"
   ]
  },
  {
   "cell_type": "code",
   "execution_count": 45,
   "id": "b82b7c4c",
   "metadata": {},
   "outputs": [
    {
     "data": {
      "text/plain": [
       "frozenset({3})"
      ]
     },
     "execution_count": 45,
     "metadata": {},
     "output_type": "execute_result"
    }
   ],
   "source": [
    "# difference\n",
    "s.difference((1,2,4))"
   ]
  },
  {
   "cell_type": "code",
   "execution_count": 47,
   "id": "1815d444",
   "metadata": {},
   "outputs": [
    {
     "data": {
      "text/plain": [
       "frozenset({3, 4})"
      ]
     },
     "execution_count": 47,
     "metadata": {},
     "output_type": "execute_result"
    }
   ],
   "source": [
    "# symmetric_difference\n",
    "s.symmetric_difference((1,2,4))"
   ]
  },
  {
   "cell_type": "code",
   "execution_count": 48,
   "id": "fc8f98fd",
   "metadata": {},
   "outputs": [
    {
     "data": {
      "text/plain": [
       "False"
      ]
     },
     "execution_count": 48,
     "metadata": {},
     "output_type": "execute_result"
    }
   ],
   "source": [
    "# isdisjoint\n",
    "s.isdisjoint((1,2,3))"
   ]
  },
  {
   "cell_type": "code",
   "execution_count": 49,
   "id": "8edf5e0f",
   "metadata": {},
   "outputs": [
    {
     "data": {
      "text/plain": [
       "True"
      ]
     },
     "execution_count": 49,
     "metadata": {},
     "output_type": "execute_result"
    }
   ],
   "source": [
    "# issubset\n",
    "s.issubset((1,2,3))"
   ]
  },
  {
   "cell_type": "code",
   "execution_count": 50,
   "id": "d41d0281",
   "metadata": {},
   "outputs": [
    {
     "data": {
      "text/plain": [
       "True"
      ]
     },
     "execution_count": 50,
     "metadata": {},
     "output_type": "execute_result"
    }
   ],
   "source": [
    "# issuperset\n",
    "s.issuperset((1,2,3))"
   ]
  }
 ],
 "metadata": {
  "kernelspec": {
   "display_name": "Python 3 (ipykernel)",
   "language": "python",
   "name": "python3"
  },
  "language_info": {
   "codemirror_mode": {
    "name": "ipython",
    "version": 3
   },
   "file_extension": ".py",
   "mimetype": "text/x-python",
   "name": "python",
   "nbconvert_exporter": "python",
   "pygments_lexer": "ipython3",
   "version": "3.10.6"
  }
 },
 "nbformat": 4,
 "nbformat_minor": 5
}

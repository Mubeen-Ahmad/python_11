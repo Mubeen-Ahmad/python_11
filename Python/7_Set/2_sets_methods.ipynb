{
 "cells": [
  {
   "cell_type": "markdown",
   "id": "486b343b",
   "metadata": {},
   "source": [
    "<h3 style=\"color:#4e2abd;\">1) add<br><br>Add an element to a set.\n",
    "\n",
    "This has no effect if the element is already present.</h3>"
   ]
  },
  {
   "cell_type": "code",
   "execution_count": 32,
   "id": "cc6fdde5",
   "metadata": {},
   "outputs": [
    {
     "data": {
      "text/plain": [
       "{1, 2}"
      ]
     },
     "execution_count": 32,
     "metadata": {},
     "output_type": "execute_result"
    }
   ],
   "source": [
    "s = {1,2}\n",
    "s"
   ]
  },
  {
   "cell_type": "code",
   "execution_count": 33,
   "id": "7ba3e7c7",
   "metadata": {},
   "outputs": [
    {
     "data": {
      "text/plain": [
       "{1, 2, 3}"
      ]
     },
     "execution_count": 33,
     "metadata": {},
     "output_type": "execute_result"
    }
   ],
   "source": [
    "s.add(3)\n",
    "s"
   ]
  },
  {
   "cell_type": "code",
   "execution_count": 34,
   "id": "1b2563a5",
   "metadata": {},
   "outputs": [
    {
     "data": {
      "text/plain": [
       "{1, 2, 3}"
      ]
     },
     "execution_count": 34,
     "metadata": {},
     "output_type": "execute_result"
    }
   ],
   "source": [
    "# skip duplicate values\n",
    "\n",
    "s.add(1)\n",
    "s"
   ]
  },
  {
   "cell_type": "code",
   "execution_count": 35,
   "id": "70f88b29",
   "metadata": {},
   "outputs": [
    {
     "data": {
      "text/plain": [
       "{1, 2, 3, 'hello'}"
      ]
     },
     "execution_count": 35,
     "metadata": {},
     "output_type": "execute_result"
    }
   ],
   "source": [
    "# add only hashable datatype\n",
    "\n",
    "s.add(\"hello\")\n",
    "s"
   ]
  },
  {
   "cell_type": "code",
   "execution_count": 37,
   "id": "3a7072ab",
   "metadata": {},
   "outputs": [
    {
     "data": {
      "text/plain": [
       "{(1, 2, 3), 1, 2, 3, 'hello'}"
      ]
     },
     "execution_count": 37,
     "metadata": {},
     "output_type": "execute_result"
    }
   ],
   "source": [
    "# add set\n",
    "\n",
    "s.add((1,2,3))\n",
    "s"
   ]
  },
  {
   "cell_type": "code",
   "execution_count": 39,
   "id": "1aa14802",
   "metadata": {},
   "outputs": [
    {
     "data": {
      "text/plain": [
       "{(1, 2, 3), (3, 2, 1), 1, 2, 3, 'hello'}"
      ]
     },
     "execution_count": 39,
     "metadata": {},
     "output_type": "execute_result"
    }
   ],
   "source": [
    "# (1, 2, 3) are already add but what happend if i add (3,2,1) is (3,2,1) are treat as order ?\n",
    "\n",
    "s.add((3,2,1))\n",
    "s\n",
    "# So (1,2,3) and (3,2,1) are different"
   ]
  },
  {
   "cell_type": "code",
   "execution_count": 40,
   "id": "059063c6",
   "metadata": {},
   "outputs": [
    {
     "ename": "TypeError",
     "evalue": "unhashable type: 'set'",
     "output_type": "error",
     "traceback": [
      "\u001b[0;31m---------------------------------------------------------------------------\u001b[0m",
      "\u001b[0;31mTypeError\u001b[0m                                 Traceback (most recent call last)",
      "Cell \u001b[0;32mIn [40], line 2\u001b[0m\n\u001b[1;32m      1\u001b[0m \u001b[38;5;66;03m# Unhasable data type not allowd\u001b[39;00m\n\u001b[0;32m----> 2\u001b[0m \u001b[43ms\u001b[49m\u001b[38;5;241;43m.\u001b[39;49m\u001b[43madd\u001b[49m\u001b[43m(\u001b[49m\u001b[43m{\u001b[49m\u001b[38;5;241;43m2\u001b[39;49m\u001b[43m,\u001b[49m\u001b[38;5;241;43m3\u001b[39;49m\u001b[43m,\u001b[49m\u001b[38;5;241;43m4\u001b[39;49m\u001b[43m}\u001b[49m\u001b[43m)\u001b[49m\n",
      "\u001b[0;31mTypeError\u001b[0m: unhashable type: 'set'"
     ]
    }
   ],
   "source": [
    "# Unhasable data type not allowd\n",
    "s.add({2,3,4})\n",
    "\n",
    "# set is unhasable"
   ]
  },
  {
   "cell_type": "markdown",
   "id": "e21520d2",
   "metadata": {},
   "source": [
    "<h3 style=\"color:#4e2abd;\">2) update<br><br> Update a set with the union of itself and others. <br><br>update method treat as like treat a union<br><br> update return a iterable</h3>"
   ]
  },
  {
   "cell_type": "code",
   "execution_count": 52,
   "id": "d7b4d1de",
   "metadata": {},
   "outputs": [],
   "source": [
    "s1 = {1,2,3}\n",
    "s2 = {1,2,3,4}\n",
    "\n",
    "s1.update(s2)"
   ]
  },
  {
   "cell_type": "code",
   "execution_count": 51,
   "id": "a3c250f7",
   "metadata": {},
   "outputs": [
    {
     "data": {
      "text/plain": [
       "{1, 2, 3, 4}"
      ]
     },
     "execution_count": 51,
     "metadata": {},
     "output_type": "execute_result"
    }
   ],
   "source": [
    "# only 4 are add\n",
    "s1"
   ]
  },
  {
   "cell_type": "markdown",
   "id": "707b7a03",
   "metadata": {},
   "source": [
    "# Difference Between add and update"
   ]
  },
  {
   "cell_type": "code",
   "execution_count": 53,
   "id": "012fd317",
   "metadata": {},
   "outputs": [
    {
     "ename": "TypeError",
     "evalue": "unhashable type: 'set'",
     "output_type": "error",
     "traceback": [
      "\u001b[0;31m---------------------------------------------------------------------------\u001b[0m",
      "\u001b[0;31mTypeError\u001b[0m                                 Traceback (most recent call last)",
      "Cell \u001b[0;32mIn [53], line 4\u001b[0m\n\u001b[1;32m      1\u001b[0m s1 \u001b[38;5;241m=\u001b[39m {\u001b[38;5;241m1\u001b[39m,\u001b[38;5;241m2\u001b[39m,\u001b[38;5;241m3\u001b[39m}\n\u001b[1;32m      2\u001b[0m s2 \u001b[38;5;241m=\u001b[39m {\u001b[38;5;241m1\u001b[39m,\u001b[38;5;241m2\u001b[39m,\u001b[38;5;241m3\u001b[39m,\u001b[38;5;241m4\u001b[39m}\n\u001b[0;32m----> 4\u001b[0m \u001b[43ms1\u001b[49m\u001b[38;5;241;43m.\u001b[39;49m\u001b[43madd\u001b[49m\u001b[43m(\u001b[49m\u001b[43ms2\u001b[49m\u001b[43m)\u001b[49m\n",
      "\u001b[0;31mTypeError\u001b[0m: unhashable type: 'set'"
     ]
    }
   ],
   "source": [
    "s1 = {1,2,3}\n",
    "s2 = {1,2,3,4}\n",
    "\n",
    "s1.add(s2)\n",
    "\n",
    "# add take a hashable datatype and single value\n",
    "# but update take a iterable even value are hashable or not"
   ]
  },
  {
   "cell_type": "code",
   "execution_count": 54,
   "id": "695bf419",
   "metadata": {},
   "outputs": [
    {
     "data": {
      "text/plain": [
       "{1, 2, 3, 4}"
      ]
     },
     "execution_count": 54,
     "metadata": {},
     "output_type": "execute_result"
    }
   ],
   "source": [
    "s1 = {1,2,3}\n",
    "s2 = [1,2,3,4]\n",
    "\n",
    "s1.update(s2)\n",
    "s1"
   ]
  },
  {
   "cell_type": "code",
   "execution_count": 56,
   "id": "210894f3",
   "metadata": {},
   "outputs": [
    {
     "data": {
      "text/plain": [
       "{(1, 2, 3, 4), 1, 2, 3}"
      ]
     },
     "execution_count": 56,
     "metadata": {},
     "output_type": "execute_result"
    }
   ],
   "source": [
    "s1 = {1,2,3}\n",
    "s2 = (1,2,3,4)\n",
    "\n",
    "s1.add(s2)\n",
    "s1\n",
    "\n",
    "# This is a difference between add and update"
   ]
  },
  {
   "cell_type": "markdown",
   "id": "00334059",
   "metadata": {},
   "source": [
    "<h3 style=\"color:#4e2abd;\">3) discard<br><br>Remove an element from a set if it is a member.\n",
    "\n",
    "If the element is not a member, do nothing.</h3>"
   ]
  },
  {
   "cell_type": "code",
   "execution_count": 58,
   "id": "58ce0a0b",
   "metadata": {},
   "outputs": [
    {
     "data": {
      "text/plain": [
       "{1, 2}"
      ]
     },
     "execution_count": 58,
     "metadata": {},
     "output_type": "execute_result"
    }
   ],
   "source": [
    "s = {1,2,3}\n",
    "s.discard(3)\n",
    "s"
   ]
  },
  {
   "cell_type": "code",
   "execution_count": 62,
   "id": "da1fcbfa",
   "metadata": {},
   "outputs": [
    {
     "data": {
      "text/plain": [
       "{1, 2}"
      ]
     },
     "execution_count": 62,
     "metadata": {},
     "output_type": "execute_result"
    }
   ],
   "source": [
    "# 0 are not in the set but they are not return a Error\n",
    "s.discard(0)\n",
    "s"
   ]
  },
  {
   "cell_type": "code",
   "execution_count": 67,
   "id": "e47bcd1e",
   "metadata": {},
   "outputs": [
    {
     "data": {
      "text/plain": [
       "{1, 2, 'a'}"
      ]
     },
     "execution_count": 67,
     "metadata": {},
     "output_type": "execute_result"
    }
   ],
   "source": [
    "# also remove the string\n",
    "\n",
    "s = {1,2,\"a\"}\n",
    "s"
   ]
  },
  {
   "cell_type": "code",
   "execution_count": 68,
   "id": "bc066a1e",
   "metadata": {},
   "outputs": [],
   "source": [
    "s.discard(\"a\")"
   ]
  },
  {
   "cell_type": "code",
   "execution_count": 69,
   "id": "8301dcbe",
   "metadata": {},
   "outputs": [
    {
     "data": {
      "text/plain": [
       "{1, 2}"
      ]
     },
     "execution_count": 69,
     "metadata": {},
     "output_type": "execute_result"
    }
   ],
   "source": [
    "s"
   ]
  },
  {
   "cell_type": "code",
   "execution_count": 71,
   "id": "dd53538d",
   "metadata": {},
   "outputs": [
    {
     "data": {
      "text/plain": [
       "{(1, 2, 3), 1, 2, 3}"
      ]
     },
     "execution_count": 71,
     "metadata": {},
     "output_type": "execute_result"
    }
   ],
   "source": [
    "# remove set\n",
    "\n",
    "s = {1,2,3,(1,2,3)}\n",
    "s"
   ]
  },
  {
   "cell_type": "code",
   "execution_count": 73,
   "id": "e6185120",
   "metadata": {},
   "outputs": [
    {
     "data": {
      "text/plain": [
       "{1, 2, 3}"
      ]
     },
     "execution_count": 73,
     "metadata": {},
     "output_type": "execute_result"
    }
   ],
   "source": [
    "s.discard((1,2,3))\n",
    "s"
   ]
  },
  {
   "cell_type": "markdown",
   "id": "122049ac",
   "metadata": {},
   "source": [
    "<h3 style=\"color:#4e2abd;\">4) remove<br><br>Remove an element from a set; it must be a member.\n",
    "\n",
    "If the element is not a member, raise a KeyError.</h3>"
   ]
  },
  {
   "cell_type": "code",
   "execution_count": 78,
   "id": "5cdf4a49",
   "metadata": {},
   "outputs": [],
   "source": [
    "s = {1,2,3}\n",
    "s.remove(2)"
   ]
  },
  {
   "cell_type": "code",
   "execution_count": 75,
   "id": "f581c008",
   "metadata": {},
   "outputs": [
    {
     "data": {
      "text/plain": [
       "{1, 3}"
      ]
     },
     "execution_count": 75,
     "metadata": {},
     "output_type": "execute_result"
    }
   ],
   "source": [
    "s"
   ]
  },
  {
   "cell_type": "code",
   "execution_count": 79,
   "id": "491367c0",
   "metadata": {},
   "outputs": [
    {
     "ename": "KeyError",
     "evalue": "2",
     "output_type": "error",
     "traceback": [
      "\u001b[0;31m---------------------------------------------------------------------------\u001b[0m",
      "\u001b[0;31mKeyError\u001b[0m                                  Traceback (most recent call last)",
      "Cell \u001b[0;32mIn [79], line 1\u001b[0m\n\u001b[0;32m----> 1\u001b[0m \u001b[43ms\u001b[49m\u001b[38;5;241;43m.\u001b[39;49m\u001b[43mremove\u001b[49m\u001b[43m(\u001b[49m\u001b[38;5;241;43m2\u001b[39;49m\u001b[43m)\u001b[49m\n",
      "\u001b[0;31mKeyError\u001b[0m: 2"
     ]
    }
   ],
   "source": [
    "s.remove(2)"
   ]
  },
  {
   "cell_type": "markdown",
   "id": "0d7fec76",
   "metadata": {},
   "source": [
    "# Difference in remove and discard"
   ]
  },
  {
   "cell_type": "code",
   "execution_count": 83,
   "id": "68b92788",
   "metadata": {},
   "outputs": [
    {
     "data": {
      "text/plain": [
       "{1, 3}"
      ]
     },
     "execution_count": 83,
     "metadata": {},
     "output_type": "execute_result"
    }
   ],
   "source": [
    "# discard can't return a Error if the given value are not found\n",
    "# remove return a Error if the given value are not found\n",
    "\n",
    "s.discard(2)\n",
    "s"
   ]
  },
  {
   "cell_type": "code",
   "execution_count": 89,
   "id": "734d4316",
   "metadata": {},
   "outputs": [
    {
     "data": {
      "text/plain": [
       "{(2, 3), 1, 2, 3}"
      ]
     },
     "execution_count": 89,
     "metadata": {},
     "output_type": "execute_result"
    }
   ],
   "source": [
    "# remove tuple\n",
    "\n",
    "s = {1,2,3,(2,3)}\n",
    "s"
   ]
  },
  {
   "cell_type": "code",
   "execution_count": 90,
   "id": "706e6d5b",
   "metadata": {},
   "outputs": [
    {
     "data": {
      "text/plain": [
       "{1, 2, 3}"
      ]
     },
     "execution_count": 90,
     "metadata": {},
     "output_type": "execute_result"
    }
   ],
   "source": [
    "s.remove((2,3))\n",
    "s"
   ]
  },
  {
   "cell_type": "markdown",
   "id": "78ba1b45",
   "metadata": {},
   "source": [
    "<h3 style=\"color:#4e2abd;\">5) pop<br><br>Remove and return an arbitrary set element.\n",
    "Raises KeyError if the set is empty.<br><br>In list and dictionary pop take a optional argument but in set pop are not take a Argument\n",
    "\n",
    "</h3>"
   ]
  },
  {
   "cell_type": "code",
   "execution_count": 102,
   "id": "66f110ab",
   "metadata": {},
   "outputs": [
    {
     "data": {
      "text/plain": [
       "{3}"
      ]
     },
     "execution_count": 102,
     "metadata": {},
     "output_type": "execute_result"
    }
   ],
   "source": [
    "s = {2,3}\n",
    "s.pop()\n",
    "s"
   ]
  },
  {
   "cell_type": "code",
   "execution_count": 103,
   "id": "9e172b5f",
   "metadata": {},
   "outputs": [
    {
     "data": {
      "text/plain": [
       "set()"
      ]
     },
     "execution_count": 103,
     "metadata": {},
     "output_type": "execute_result"
    }
   ],
   "source": [
    "s.pop()\n",
    "s"
   ]
  },
  {
   "cell_type": "code",
   "execution_count": 104,
   "id": "d99e93dc",
   "metadata": {},
   "outputs": [
    {
     "ename": "KeyError",
     "evalue": "'pop from an empty set'",
     "output_type": "error",
     "traceback": [
      "\u001b[0;31m---------------------------------------------------------------------------\u001b[0m",
      "\u001b[0;31mKeyError\u001b[0m                                  Traceback (most recent call last)",
      "Cell \u001b[0;32mIn [104], line 1\u001b[0m\n\u001b[0;32m----> 1\u001b[0m \u001b[43ms\u001b[49m\u001b[38;5;241;43m.\u001b[39;49m\u001b[43mpop\u001b[49m\u001b[43m(\u001b[49m\u001b[43m)\u001b[49m\n",
      "\u001b[0;31mKeyError\u001b[0m: 'pop from an empty set'"
     ]
    }
   ],
   "source": [
    "# Raise a Error it the set are empty\n",
    "\n",
    "s.pop()"
   ]
  },
  {
   "cell_type": "code",
   "execution_count": 110,
   "id": "77ed302a",
   "metadata": {},
   "outputs": [
    {
     "data": {
      "text/plain": [
       "{(3, 4), 1, 2}"
      ]
     },
     "execution_count": 110,
     "metadata": {},
     "output_type": "execute_result"
    }
   ],
   "source": [
    "# remove value depend on hashes ''\n",
    "\n",
    "s = {1,2,(3,4)}\n",
    "s"
   ]
  },
  {
   "cell_type": "code",
   "execution_count": 111,
   "id": "7f1212f8",
   "metadata": {},
   "outputs": [
    {
     "data": {
      "text/plain": [
       "{(3, 4), 2}"
      ]
     },
     "execution_count": 111,
     "metadata": {},
     "output_type": "execute_result"
    }
   ],
   "source": [
    "s.pop()\n",
    "s"
   ]
  },
  {
   "cell_type": "code",
   "execution_count": 112,
   "id": "4e4aa1f6",
   "metadata": {},
   "outputs": [
    {
     "data": {
      "text/plain": [
       "{(3, 4)}"
      ]
     },
     "execution_count": 112,
     "metadata": {},
     "output_type": "execute_result"
    }
   ],
   "source": [
    "s.pop()\n",
    "s"
   ]
  },
  {
   "cell_type": "code",
   "execution_count": 113,
   "id": "01b99145",
   "metadata": {},
   "outputs": [
    {
     "data": {
      "text/plain": [
       "set()"
      ]
     },
     "execution_count": 113,
     "metadata": {},
     "output_type": "execute_result"
    }
   ],
   "source": [
    "s.pop()\n",
    "s"
   ]
  },
  {
   "cell_type": "markdown",
   "id": "ce119b76",
   "metadata": {},
   "source": [
    "<h3 style=\"color:#4e2abd;\">6) clear<br><br>Remove all elements from this set.\n",
    "\n",
    "</h3>"
   ]
  },
  {
   "cell_type": "code",
   "execution_count": 118,
   "id": "d9492de4",
   "metadata": {},
   "outputs": [
    {
     "data": {
      "text/plain": [
       "set()"
      ]
     },
     "execution_count": 118,
     "metadata": {},
     "output_type": "execute_result"
    }
   ],
   "source": [
    "s = {1,2,3}\n",
    "\n",
    "s.clear()\n",
    "s"
   ]
  },
  {
   "cell_type": "markdown",
   "id": "3e8d7c84",
   "metadata": {},
   "source": [
    "<h3 style=\"color:#4e2abd;\">7) copy<br><br>Return a shallow copy of a set.\n",
    "\n",
    "</h3>"
   ]
  },
  {
   "cell_type": "code",
   "execution_count": 131,
   "id": "2494cd0a",
   "metadata": {},
   "outputs": [
    {
     "data": {
      "text/plain": [
       "set()"
      ]
     },
     "execution_count": 131,
     "metadata": {},
     "output_type": "execute_result"
    }
   ],
   "source": [
    "s1 = {1,2,3,4}\n",
    "s2 = s1\n",
    "s2.clear()\n",
    "\n",
    "\n",
    "s1"
   ]
  },
  {
   "cell_type": "code",
   "execution_count": 132,
   "id": "9b8a2558",
   "metadata": {},
   "outputs": [
    {
     "data": {
      "text/plain": [
       "set()"
      ]
     },
     "execution_count": 132,
     "metadata": {},
     "output_type": "execute_result"
    }
   ],
   "source": [
    "s2"
   ]
  },
  {
   "cell_type": "code",
   "execution_count": 133,
   "id": "9dc03eed",
   "metadata": {},
   "outputs": [
    {
     "data": {
      "text/plain": [
       "{1, 2, 3, 4}"
      ]
     },
     "execution_count": 133,
     "metadata": {},
     "output_type": "execute_result"
    }
   ],
   "source": [
    "# use copy method \n",
    "s1 = {1,2,3,4}\n",
    "s2 = s1.copy()\n",
    "s2.clear()\n",
    "s1"
   ]
  },
  {
   "cell_type": "code",
   "execution_count": 134,
   "id": "1ae56295",
   "metadata": {},
   "outputs": [
    {
     "data": {
      "text/plain": [
       "set()"
      ]
     },
     "execution_count": 134,
     "metadata": {},
     "output_type": "execute_result"
    }
   ],
   "source": [
    "s2"
   ]
  },
  {
   "cell_type": "markdown",
   "id": "ee688da3",
   "metadata": {},
   "source": [
    "<h3 style=\"color:#4e2abd;\">8) union<br><br>Return the union of sets as a new set.\n",
    "\n",
    "(i.e. all elements that are in either set.)\n",
    "\n",
    "</h3>"
   ]
  },
  {
   "cell_type": "code",
   "execution_count": 136,
   "id": "20640cab",
   "metadata": {},
   "outputs": [],
   "source": [
    "s1 = {1,2,3}\n",
    "s2 = {1,2,3,4}"
   ]
  },
  {
   "cell_type": "code",
   "execution_count": 144,
   "id": "346c4df0",
   "metadata": {},
   "outputs": [
    {
     "data": {
      "text/plain": [
       "{1, 2, 3, 4}"
      ]
     },
     "execution_count": 144,
     "metadata": {},
     "output_type": "execute_result"
    }
   ],
   "source": [
    "s1.union(s2)"
   ]
  },
  {
   "cell_type": "code",
   "execution_count": 143,
   "id": "b3a0896e",
   "metadata": {},
   "outputs": [
    {
     "data": {
      "text/plain": [
       "{1, 2, 3, 4}"
      ]
     },
     "execution_count": 143,
     "metadata": {},
     "output_type": "execute_result"
    }
   ],
   "source": [
    "s1"
   ]
  },
  {
   "cell_type": "markdown",
   "id": "3e4fbbd6",
   "metadata": {},
   "source": [
    "# Difference Between update and union"
   ]
  },
  {
   "cell_type": "code",
   "execution_count": 145,
   "id": "033a4644",
   "metadata": {},
   "outputs": [],
   "source": [
    "# update update the set but union can't change the set \n",
    "\n",
    "s1 = {1,2,3}\n",
    "s2 = {1,2,3,4}\n",
    "s1.update(s2)"
   ]
  },
  {
   "cell_type": "code",
   "execution_count": 146,
   "id": "6abdd046",
   "metadata": {},
   "outputs": [
    {
     "data": {
      "text/plain": [
       "{1, 2, 3, 4}"
      ]
     },
     "execution_count": 146,
     "metadata": {},
     "output_type": "execute_result"
    }
   ],
   "source": [
    "s1"
   ]
  },
  {
   "cell_type": "code",
   "execution_count": 178,
   "id": "a6aa879f",
   "metadata": {},
   "outputs": [],
   "source": [
    "# union \n",
    "s1 = {1,2,3}\n",
    "s2 = {1,2,3,4}"
   ]
  },
  {
   "cell_type": "code",
   "execution_count": 179,
   "id": "f7006419",
   "metadata": {},
   "outputs": [
    {
     "data": {
      "text/plain": [
       "{1, 2, 3, 4}"
      ]
     },
     "execution_count": 179,
     "metadata": {},
     "output_type": "execute_result"
    }
   ],
   "source": [
    "s1.union(s2)"
   ]
  },
  {
   "cell_type": "code",
   "execution_count": 180,
   "id": "baae6780",
   "metadata": {},
   "outputs": [
    {
     "data": {
      "text/plain": [
       "{1, 2, 3}"
      ]
     },
     "execution_count": 180,
     "metadata": {},
     "output_type": "execute_result"
    }
   ],
   "source": [
    "# union only return a value but update not return a value \n",
    "s1"
   ]
  },
  {
   "cell_type": "code",
   "execution_count": 181,
   "id": "4646d55e",
   "metadata": {},
   "outputs": [
    {
     "data": {
      "text/plain": [
       "{1, 2, 3, 4}"
      ]
     },
     "execution_count": 181,
     "metadata": {},
     "output_type": "execute_result"
    }
   ],
   "source": [
    "# also use | operator for uinion\n",
    "\n",
    "s1 | s2"
   ]
  },
  {
   "cell_type": "markdown",
   "id": "acca211b",
   "metadata": {},
   "source": [
    "<h3 style=\"color:#4e2abd;\">9) intersection \n",
    "<br><br>The intersection() method returns a set that contains the similarity between two or more sets\n",
    "</h3>"
   ]
  },
  {
   "cell_type": "code",
   "execution_count": 171,
   "id": "b755624a",
   "metadata": {},
   "outputs": [],
   "source": [
    "s1 = {1,2,3}\n",
    "s2 = {1,2,4}"
   ]
  },
  {
   "cell_type": "code",
   "execution_count": 172,
   "id": "c2463e59",
   "metadata": {},
   "outputs": [
    {
     "data": {
      "text/plain": [
       "{1, 2}"
      ]
     },
     "execution_count": 172,
     "metadata": {},
     "output_type": "execute_result"
    }
   ],
   "source": [
    "s1.intersection(s2)"
   ]
  },
  {
   "cell_type": "code",
   "execution_count": 173,
   "id": "31de4e22",
   "metadata": {},
   "outputs": [
    {
     "data": {
      "text/plain": [
       "{1, 2}"
      ]
     },
     "execution_count": 173,
     "metadata": {},
     "output_type": "execute_result"
    }
   ],
   "source": [
    "# also use & operator for intersection\n",
    "s1 & s2"
   ]
  },
  {
   "cell_type": "markdown",
   "id": "c4ae6d7a",
   "metadata": {},
   "source": [
    "<h3 style=\"color:#4e2abd;\">10) intersection_update \n",
    "<br><br>The intersection_update method `update` a set that contains the similarity between two or more sets\n",
    "</h3>"
   ]
  },
  {
   "cell_type": "code",
   "execution_count": 162,
   "id": "139b1295",
   "metadata": {},
   "outputs": [
    {
     "data": {
      "text/plain": [
       "{1, 2, 3}"
      ]
     },
     "execution_count": 162,
     "metadata": {},
     "output_type": "execute_result"
    }
   ],
   "source": [
    "# e.g \n",
    "\n",
    "s1 = {1,2,3}\n",
    "s2 = {1,2,4}\n",
    "s1.intersection(s2)\n",
    "\n",
    "# s1 can not update\n",
    "s1"
   ]
  },
  {
   "cell_type": "code",
   "execution_count": 166,
   "id": "0a72f260",
   "metadata": {},
   "outputs": [
    {
     "data": {
      "text/plain": [
       "{1, 2}"
      ]
     },
     "execution_count": 166,
     "metadata": {},
     "output_type": "execute_result"
    }
   ],
   "source": [
    "s1 = {1,2,3}\n",
    "s2 = {1,2,4}\n",
    "s1.intersection_update(s2)\n",
    "\n",
    "# s1 are update\n",
    "\n",
    "s1"
   ]
  },
  {
   "cell_type": "markdown",
   "id": "aa2d78c5",
   "metadata": {},
   "source": [
    "<h3 style=\"color:#4e2abd;\">11) difference\n",
    " \n",
    "<br><br>The difference() method returns a set that contains the difference between two sets.\n",
    "\n",
    "Meaning: The returned set contains items that exist only in the first set, and not in both sets.\n",
    "</h3>"
   ]
  },
  {
   "cell_type": "code",
   "execution_count": 183,
   "id": "731f0767",
   "metadata": {},
   "outputs": [
    {
     "data": {
      "text/plain": [
       "{3}"
      ]
     },
     "execution_count": 183,
     "metadata": {},
     "output_type": "execute_result"
    }
   ],
   "source": [
    "s1 = {1,2,3}\n",
    "s2 = {1,2,4}\n",
    "\n",
    "s1.difference(s2)"
   ]
  },
  {
   "cell_type": "code",
   "execution_count": 184,
   "id": "77e6ce96",
   "metadata": {},
   "outputs": [
    {
     "data": {
      "text/plain": [
       "{3}"
      ]
     },
     "execution_count": 184,
     "metadata": {},
     "output_type": "execute_result"
    }
   ],
   "source": [
    "# also use check difference - operator\n",
    "s1 - s2"
   ]
  },
  {
   "cell_type": "markdown",
   "id": "513662fa",
   "metadata": {},
   "source": [
    "<h3 style=\"color:#4e2abd;\">12) difference_update\n",
    " \n",
    "<br><br>The difference_update() method update a set that contains the difference between two sets.\n",
    "\n",
    "Meaning: The returned set contains items that exist only in the first set, and not in both sets.\n",
    "</h3>"
   ]
  },
  {
   "cell_type": "code",
   "execution_count": 185,
   "id": "ce053167",
   "metadata": {},
   "outputs": [
    {
     "data": {
      "text/plain": [
       "{3}"
      ]
     },
     "execution_count": 185,
     "metadata": {},
     "output_type": "execute_result"
    }
   ],
   "source": [
    "s1 = {1,2,3}\n",
    "s2 = {1,2,4}\n",
    "\n",
    "s1.difference_update(s2)\n",
    "s1\n",
    "# s1 are updated"
   ]
  },
  {
   "cell_type": "markdown",
   "id": "c3003b47",
   "metadata": {},
   "source": [
    "<h3 style=\"color:#4e2abd;\">13) symmetric_difference\n",
    " \n",
    "<br><br>The symmetric_difference() method returns a set that contains all items from both set, but not the items that are present in both sets.\n",
    "\n",
    "Meaning: The returned set contains a mix of items that are not present in both sets.\n",
    "</h3>"
   ]
  },
  {
   "cell_type": "code",
   "execution_count": 213,
   "id": "3b256975",
   "metadata": {},
   "outputs": [
    {
     "data": {
      "text/plain": [
       "{3, 4}"
      ]
     },
     "execution_count": 213,
     "metadata": {},
     "output_type": "execute_result"
    }
   ],
   "source": [
    "s1 = {1,2,3}\n",
    "s2 = {1,2,4}\n",
    "\n",
    "s1.symmetric_difference(s2)"
   ]
  },
  {
   "cell_type": "code",
   "execution_count": 214,
   "id": "b11918e6",
   "metadata": {},
   "outputs": [
    {
     "data": {
      "text/plain": [
       "{1, 2, 3}"
      ]
     },
     "execution_count": 214,
     "metadata": {},
     "output_type": "execute_result"
    }
   ],
   "source": [
    "s1"
   ]
  },
  {
   "cell_type": "code",
   "execution_count": 215,
   "id": "efd64b9e",
   "metadata": {},
   "outputs": [
    {
     "data": {
      "text/plain": [
       "{3, 4}"
      ]
     },
     "execution_count": 215,
     "metadata": {},
     "output_type": "execute_result"
    }
   ],
   "source": [
    "# also use ^ operater for symmetric difference\n",
    "\n",
    "s1 ^ s2"
   ]
  },
  {
   "cell_type": "markdown",
   "id": "ae2d8868",
   "metadata": {},
   "source": [
    "<h3 style=\"color:#4e2abd;\">14) symmetric_difference_update\n",
    " \n",
    "<br><br>The symmetric_difference_update() method update a set that contains the difference between two sets.\n",
    "\n",
    "Meaning: The returned set contains items that exist only in the first set, and not in both sets.\n",
    "</h3>"
   ]
  },
  {
   "cell_type": "code",
   "execution_count": 189,
   "id": "1fc01e5e",
   "metadata": {},
   "outputs": [],
   "source": [
    "s1 = {1,2,3}\n",
    "s2 = {1,2,4}\n",
    "\n",
    "s1.symmetric_difference_update(s2)"
   ]
  },
  {
   "cell_type": "code",
   "execution_count": 191,
   "id": "19b6f0a1",
   "metadata": {},
   "outputs": [
    {
     "data": {
      "text/plain": [
       "{3, 4}"
      ]
     },
     "execution_count": 191,
     "metadata": {},
     "output_type": "execute_result"
    }
   ],
   "source": [
    "s1\n",
    "# s1 are updated"
   ]
  },
  {
   "cell_type": "markdown",
   "id": "ce142587",
   "metadata": {},
   "source": [
    "<h3 style=\"color:#4e2abd;\">15) isdisjoint <br><br>The isdisjoint() method returns True if none of the items are present in both sets, otherwise it returns False.</h3>"
   ]
  },
  {
   "cell_type": "code",
   "execution_count": 196,
   "id": "f42f0b16",
   "metadata": {},
   "outputs": [
    {
     "data": {
      "text/plain": [
       "True"
      ]
     },
     "execution_count": 196,
     "metadata": {},
     "output_type": "execute_result"
    }
   ],
   "source": [
    "s1 = {1,2}\n",
    "s2 = {4,5}\n",
    "\n",
    "s1.isdisjoint(s2)"
   ]
  },
  {
   "cell_type": "code",
   "execution_count": 197,
   "id": "f3c9c0ad",
   "metadata": {},
   "outputs": [
    {
     "data": {
      "text/plain": [
       "False"
      ]
     },
     "execution_count": 197,
     "metadata": {},
     "output_type": "execute_result"
    }
   ],
   "source": [
    "s1 = {1,2}\n",
    "s2 = {1,5}\n",
    "\n",
    "s1.isdisjoint(s2)"
   ]
  },
  {
   "cell_type": "code",
   "execution_count": 199,
   "id": "afb72c1c",
   "metadata": {},
   "outputs": [
    {
     "data": {
      "text/plain": [
       "True"
      ]
     },
     "execution_count": 199,
     "metadata": {},
     "output_type": "execute_result"
    }
   ],
   "source": [
    "s1 = {1,2}\n",
    "s2 = {8,5}\n",
    "\n",
    "s1.isdisjoint(s2)"
   ]
  },
  {
   "cell_type": "markdown",
   "id": "caad065d",
   "metadata": {},
   "source": [
    "<h3 style=\"color:#4e2abd;\">16) issubset <br><br>The issubset() method returns True if all items in the set exists in the specified set, otherwise it retuns False.</h3>"
   ]
  },
  {
   "cell_type": "code",
   "execution_count": 205,
   "id": "4344c0e5",
   "metadata": {},
   "outputs": [
    {
     "data": {
      "text/plain": [
       "False"
      ]
     },
     "execution_count": 205,
     "metadata": {},
     "output_type": "execute_result"
    }
   ],
   "source": [
    "s1 = {'a','b','c'}\n",
    "s2 = {'a','d','e'}\n",
    "\n",
    "s1.issubset(s2)"
   ]
  },
  {
   "cell_type": "code",
   "execution_count": 207,
   "id": "eb6da134",
   "metadata": {},
   "outputs": [
    {
     "data": {
      "text/plain": [
       "True"
      ]
     },
     "execution_count": 207,
     "metadata": {},
     "output_type": "execute_result"
    }
   ],
   "source": [
    "s1 = {'a','b','c'}\n",
    "s2 = {'a','d','e','b','c'}\n",
    "\n",
    "s1.issubset(s2)"
   ]
  },
  {
   "cell_type": "markdown",
   "id": "3b711c12",
   "metadata": {},
   "source": [
    "<h3 style=\"color:#4e2abd;\">17) issuperset <br><br>The issuperset() method returns True if all items in the specified set exists in the original set, otherwise it retuns False.</h3>"
   ]
  },
  {
   "cell_type": "code",
   "execution_count": 211,
   "id": "713ffaec",
   "metadata": {},
   "outputs": [
    {
     "data": {
      "text/plain": [
       "False"
      ]
     },
     "execution_count": 211,
     "metadata": {},
     "output_type": "execute_result"
    }
   ],
   "source": [
    "s1 = {'a','b','c'}\n",
    "s2 = {'a','d','e','b','c'}\n",
    "\n",
    "s1.issuperset(s2)"
   ]
  },
  {
   "cell_type": "code",
   "execution_count": 212,
   "id": "d81caaeb",
   "metadata": {},
   "outputs": [
    {
     "data": {
      "text/plain": [
       "True"
      ]
     },
     "execution_count": 212,
     "metadata": {},
     "output_type": "execute_result"
    }
   ],
   "source": [
    "s1 = {'a','b','c'}\n",
    "s2 = {'a','b','c','b','c'}\n",
    "\n",
    "s1.issuperset(s2)"
   ]
  }
 ],
 "metadata": {
  "kernelspec": {
   "display_name": "Python 3 (ipykernel)",
   "language": "python",
   "name": "python3"
  },
  "language_info": {
   "codemirror_mode": {
    "name": "ipython",
    "version": 3
   },
   "file_extension": ".py",
   "mimetype": "text/x-python",
   "name": "python",
   "nbconvert_exporter": "python",
   "pygments_lexer": "ipython3",
   "version": "3.10.6"
  }
 },
 "nbformat": 4,
 "nbformat_minor": 5
}

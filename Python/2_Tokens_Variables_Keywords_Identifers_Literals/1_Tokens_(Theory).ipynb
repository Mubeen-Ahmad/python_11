{
 "cells": [
  {
   "cell_type": "markdown",
   "id": "16919ce2",
   "metadata": {},
   "source": [
    "# Lexical Structure\n",
    "\n",
    "<h2>\n",
    "    The lexical structure of a programming language is the set of basic rules that govern how you write programs in that language.\n",
    "</h2>"
   ]
  },
  {
   "cell_type": "markdown",
   "id": "70c96736",
   "metadata": {},
   "source": [
    "# Tokens\n",
    "\n",
    "<h2>\n",
    "Python breaks each logical line into a sequence of elementary lexical components known as tokens. Each token corresponds to a substring of the logical line.\n",
    "<br><br>\n",
    "<p>\n",
    "Tokens or lexical units are the smallest fractions in the python programme.<br><br>\n",
    "A token is a set of one or more characters having a meaning together. \n",
    "<br><br>There are 5 types of tokens in python which are listed below:<p>\n",
    "<ol>\n",
    "<li>Keywords</li>                \n",
    "<li>Identifiers</li>                 \n",
    "<li>Literals</li>                        \n",
    "<li>Operators</li>                  \n",
    "<li>Punctuators</li>\n",
    "</ol>\n",
    "</h2>"
   ]
  },
  {
   "cell_type": "markdown",
   "id": "504caa07",
   "metadata": {},
   "source": [
    "<h2>Keywords</h2>\n",
    "\n",
    "<h3><p>\n",
    "A keyword is a reserved word in a computer language that has a specific meaning.<br><br>Python keywords form the vocabulary of the python language. Keywords aren’t allowed to be used as identifiers. They are used to define the Python language’s “Syntax” or “Structure.”</p>\n",
    "</h3>"
   ]
  },
  {
   "cell_type": "markdown",
   "id": "9c613b56",
   "metadata": {},
   "source": [
    "<h2>Identifers</h2>\n",
    "\n",
    "<h3><p>\n",
    "Just as identity refers to a characteristic that distinguishes a person, the same principle is a python identifier, a token in python. In Python, an identifier is a name given to a Class, Function, or Variable. It aids in distinguishing one entity from others.`</p>\n",
    "</h3>"
   ]
  },
  {
   "cell_type": "markdown",
   "id": "8c71e1ac",
   "metadata": {},
   "source": [
    "<h2>Operators</h2>\n",
    "\n",
    "<h3><p>\n",
    "Operators are tokens that, when applied to variables and other objects in an expression, cause a computation or action to occur. Operands are the variables and objects to which the computation is applied. <br><br>\n",
    "There are 7 different operators.</p>\n",
    "<ol>\n",
    "<li>Arithmetic </li>                \n",
    "<li>Relational </li>                 \n",
    "<li>Assignment </li>                        \n",
    "<li>Logical </li>                  \n",
    "<li>Bitwise </li>             \n",
    "<li>Membership </li>               \n",
    "<li>Identity </li>\n",
    "\n",
    "</ol>\n",
    "</h3>"
   ]
  },
  {
   "cell_type": "markdown",
   "id": "cecb5cab",
   "metadata": {},
   "source": [
    "<h2>Literals</h2>\n",
    "\n",
    "<h3><p>\n",
    "Literals,  tokens in Python, are data elements with a fixed value. Literals return a value for an object of the specified type. Python supports a variety of literals:</p>\n",
    "<br>    \n",
    "String Literals<br><br>\n",
    "Numeric Literals. These are further types, integer, float, binary , hexadeciaml octal and complex literals.\n",
    "Boolean Literals.<br><br>\n",
    "Literal Collection Lists, tuples, dictionaries, and sets are all examples of literal collections in Python.\n",
    "\n",
    "\n",
    "</h3>"
   ]
  },
  {
   "cell_type": "markdown",
   "id": "892d415f",
   "metadata": {},
   "source": [
    "<h2>Punctuators</h2>\n",
    "\n",
    "<h3><p>\n",
    "Punctuators are tokens in python employed to put the grammar and structure of syntax into practice.<br><br>Punctuators are symbols that are used to structure programming sentences in a computer language.<br><br>Some commonly used punctuators are: ‘, ‘ ,#, \\ ,( ) ,{ },[ ] ,@ ,: , =</p>\n",
    "</h3>"
   ]
  }
 ],
 "metadata": {
  "kernelspec": {
   "display_name": "Python 3 (ipykernel)",
   "language": "python",
   "name": "python3"
  },
  "language_info": {
   "codemirror_mode": {
    "name": "ipython",
    "version": 3
   },
   "file_extension": ".py",
   "mimetype": "text/x-python",
   "name": "python",
   "nbconvert_exporter": "python",
   "pygments_lexer": "ipython3",
   "version": "3.10.6"
  }
 },
 "nbformat": 4,
 "nbformat_minor": 5
}

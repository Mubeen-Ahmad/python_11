{
 "cells": [
  {
   "cell_type": "markdown",
   "id": "0bdc364e",
   "metadata": {},
   "source": [
    "<h1>Variables</h1>\n",
    "<h2>Python Variable is containers which store values.<br><br>A Python variable is a name given to a memory location. It is the basic unit of storage in a program.</h2>"
   ]
  },
  {
   "cell_type": "markdown",
   "id": "354ac956",
   "metadata": {},
   "source": [
    "# Example"
   ]
  },
  {
   "cell_type": "code",
   "execution_count": 3,
   "id": "289c0e2c",
   "metadata": {},
   "outputs": [
    {
     "name": "stdout",
     "output_type": "stream",
     "text": [
      "Mubeen\n"
     ]
    }
   ],
   "source": [
    "name = \"Mubeen\"\n",
    "print(name)\n",
    "\n",
    "# name is a variable and we can also say that variable (name) is a Identifer\n",
    "# and print is the built-in Function and we also say that print (built-in Function ) is a identifer\n"
   ]
  },
  {
   "cell_type": "markdown",
   "id": "3cb3d8ba",
   "metadata": {},
   "source": [
    "<h2 style=\"color:blue;\"><span style=\"color:red;\">NOTE !</span><br><br> We can say that Variables are Identifers<br><br>But Identifers are not Variables </h2>\n",
    "\n",
    "<h3>Variables are include in Identifers</h3><br>"
   ]
  },
  {
   "cell_type": "markdown",
   "id": "985ae03e",
   "metadata": {},
   "source": [
    "<h1>Statically typed language</h1>\n",
    "\n",
    "<h2>\n",
    "<p>\n",
    "In statically typed languages the type of the variables checked at the compile time of the variable declaration.<br><br>Statically programming languages check the type of the variable or object while the code enters the compiler.</p><br>\n",
    "Some statically typed languages are Java ,C , C++.\n",
    " <br><br>\n",
    "<ins>In Statically typed languages once if a variable is initialized to a data-type it cannot be assigned to the variable of a different type.<br><br>\n",
    "Statically typed languages are faster than dynamically typed languages.</ins>\n",
    "</h3>\n",
    "\n",
    "\n",
    "</h2>    \n",
    "<br>\n",
    "<h3>\n"
   ]
  },
  {
   "cell_type": "markdown",
   "id": "7cebe1e3",
   "metadata": {},
   "source": [
    "# Example In c Language"
   ]
  },
  {
   "cell_type": "markdown",
   "id": "95d93624",
   "metadata": {},
   "source": [
    "`#include <stdio.h>`<br>\n",
    "`void main(){`<br>\n",
    "    `int x;`<br>\n",
    "    `x = 3;`<br>\n",
    "    `printf(\"%d\",x);`<br>\n",
    "`}`<br>\n",
    "\n",
    "output is 3;\n",
    "\n",
    "\n"
   ]
  },
  {
   "cell_type": "markdown",
   "id": "768aaf25",
   "metadata": {},
   "source": [
    "# Static Binding\n",
    "\n",
    "# Once we declare the variable than we cant not change the data Type  and value of same variable\n"
   ]
  },
  {
   "cell_type": "markdown",
   "id": "0ef8f783",
   "metadata": {},
   "source": [
    "# Example\n",
    "\n",
    "`#include <stdio.h>`<br>\n",
    "`void main(){`<br>\n",
    "    `int x = 3;`<br>\n",
    "    `int x = 3;`<br>\n",
    "    `char x = 'c';`<br>\n",
    "    `printf(\"%d\",x);`<br>\n",
    "`}`<br>\n",
    "\n",
    "output is Error\n"
   ]
  },
  {
   "cell_type": "markdown",
   "id": "2cc761cc",
   "metadata": {},
   "source": [
    "# But python are not allow to Static Binding\n",
    "<h4>Python is a Dynamically Typed language</h4><br><br>"
   ]
  },
  {
   "cell_type": "markdown",
   "id": "7f1fc3a5",
   "metadata": {},
   "source": [
    "# Dynamically Typed language\n",
    "\n",
    "<h2><p>\n",
    "A language is considered as Dynamically typed language if the variable type of the language is checked at the runtime of the code compilation or code interpretation. <br><br>In such type of programming languages, we don’t need to initialize a variable with its type.<br><br>We can declare a variable by writing the name at left and the value at the left of the variable name, Ex Var = 90.\n",
    "    <br><br>Some dynamically typed languages are: python, Java Script, Php</h2>\n",
    "\n"
   ]
  },
  {
   "cell_type": "markdown",
   "id": "74b2955b",
   "metadata": {},
   "source": [
    "# Example"
   ]
  },
  {
   "cell_type": "code",
   "execution_count": 20,
   "id": "eb9b9542",
   "metadata": {},
   "outputs": [
    {
     "name": "stdout",
     "output_type": "stream",
     "text": [
      "4\n"
     ]
    }
   ],
   "source": [
    "x = 4\n",
    "print(x)"
   ]
  },
  {
   "cell_type": "markdown",
   "id": "861b7c89",
   "metadata": {},
   "source": [
    "# Dynamic Binding\n",
    "<h2> In Static Languages we can't changes the variable once we are created<br>But In Dynamic Languages we are change the variable data type and its value </h2>\n"
   ]
  },
  {
   "cell_type": "markdown",
   "id": "e1f7dd62",
   "metadata": {},
   "source": [
    "# Example"
   ]
  },
  {
   "cell_type": "code",
   "execution_count": 25,
   "id": "77c1f1db",
   "metadata": {},
   "outputs": [
    {
     "name": "stdout",
     "output_type": "stream",
     "text": [
      "4\n",
      "5\n",
      "Hello\n"
     ]
    }
   ],
   "source": [
    "x = 4\n",
    "print(x)\n",
    "\n",
    "# now change the value\n",
    "x = 5\n",
    "print(x)\n",
    "\n",
    "# Now change its Data type\n",
    "x = 'Hello'\n",
    "print(x)"
   ]
  },
  {
   "cell_type": "markdown",
   "id": "fbd7a488",
   "metadata": {},
   "source": [
    "<h1>Rules of Naming Variables </h1>"
   ]
  },
  {
   "cell_type": "markdown",
   "id": "f360fb50",
   "metadata": {},
   "source": [
    "<br>\n",
    "<h2> • A variable name must start with a letter or the underscore character.</h2>"
   ]
  },
  {
   "cell_type": "code",
   "execution_count": 28,
   "id": "6c1e2b92",
   "metadata": {},
   "outputs": [
    {
     "name": "stdout",
     "output_type": "stream",
     "text": [
      "Mubeen Ahmad\n"
     ]
    }
   ],
   "source": [
    "fname = \"Mubeen\"\n",
    "_lname = \"Ahmad\"\n",
    "\n",
    "print(fname,_lname)"
   ]
  },
  {
   "cell_type": "code",
   "execution_count": 30,
   "id": "3bcc8baf",
   "metadata": {},
   "outputs": [],
   "source": [
    "# underscore also used at start ,between , End\n",
    "nam_e = \"Mubeen\"\n",
    "fullname_ = \"Mubeen Ahmad\""
   ]
  },
  {
   "cell_type": "markdown",
   "id": "068cf285",
   "metadata": {},
   "source": [
    "<br>\n",
    "<h2> • A variable name cannot start with a number.</h2>"
   ]
  },
  {
   "cell_type": "code",
   "execution_count": 32,
   "id": "147b4114",
   "metadata": {},
   "outputs": [
    {
     "ename": "SyntaxError",
     "evalue": "invalid decimal literal (1431270441.py, line 1)",
     "output_type": "error",
     "traceback": [
      "\u001b[0;36m  Cell \u001b[0;32mIn [32], line 1\u001b[0;36m\u001b[0m\n\u001b[0;31m    1number = 2\u001b[0m\n\u001b[0m    ^\u001b[0m\n\u001b[0;31mSyntaxError\u001b[0m\u001b[0;31m:\u001b[0m invalid decimal literal\n"
     ]
    }
   ],
   "source": [
    "1number = 2\n",
    "2number = 4"
   ]
  },
  {
   "cell_type": "code",
   "execution_count": 33,
   "id": "cf346194",
   "metadata": {},
   "outputs": [],
   "source": [
    "# We used numbers at the End and Between\n",
    "number_1 = 3\n",
    "numbe2r = 2"
   ]
  },
  {
   "cell_type": "markdown",
   "id": "cbe2e9d4",
   "metadata": {},
   "source": [
    "<br>\n",
    "<h2> • The reserved words(keywords) cannot be used naming the variable.</h2>"
   ]
  },
  {
   "cell_type": "code",
   "execution_count": 34,
   "id": "c407e345",
   "metadata": {},
   "outputs": [
    {
     "ename": "SyntaxError",
     "evalue": "invalid syntax (3386727072.py, line 1)",
     "output_type": "error",
     "traceback": [
      "\u001b[0;36m  Cell \u001b[0;32mIn [34], line 1\u001b[0;36m\u001b[0m\n\u001b[0;31m    if = 4\u001b[0m\n\u001b[0m       ^\u001b[0m\n\u001b[0;31mSyntaxError\u001b[0m\u001b[0;31m:\u001b[0m invalid syntax\n"
     ]
    }
   ],
   "source": [
    "if = 4\n",
    "def = 8"
   ]
  },
  {
   "cell_type": "markdown",
   "id": "5ca6c038",
   "metadata": {},
   "source": [
    "<br>\n",
    "<h2> • Variable names are case-sensitive.</h2>"
   ]
  },
  {
   "cell_type": "code",
   "execution_count": 36,
   "id": "c3c7ea63",
   "metadata": {},
   "outputs": [
    {
     "name": "stdout",
     "output_type": "stream",
     "text": [
      "1 2\n"
     ]
    }
   ],
   "source": [
    "X = 1\n",
    "x = 2\n",
    "\n",
    "print(X,x)\n",
    "\n",
    "# means Captial X and small x are consider two different Variables"
   ]
  },
  {
   "cell_type": "markdown",
   "id": "2a2093d8",
   "metadata": {},
   "source": [
    "<br>\n",
    "<h2> • Symboles and White Space are not allowed Except underscore.</h2>"
   ]
  },
  {
   "cell_type": "code",
   "execution_count": 37,
   "id": "a6468f64",
   "metadata": {},
   "outputs": [
    {
     "ename": "SyntaxError",
     "evalue": "invalid syntax (2447298499.py, line 1)",
     "output_type": "error",
     "traceback": [
      "\u001b[0;36m  Cell \u001b[0;32mIn [37], line 1\u001b[0;36m\u001b[0m\n\u001b[0;31m    my name = \"Mubeen\"\u001b[0m\n\u001b[0m       ^\u001b[0m\n\u001b[0;31mSyntaxError\u001b[0m\u001b[0;31m:\u001b[0m invalid syntax\n"
     ]
    }
   ],
   "source": [
    "my name = \"Mubeen\""
   ]
  },
  {
   "cell_type": "code",
   "execution_count": 41,
   "id": "442e864c",
   "metadata": {},
   "outputs": [
    {
     "ename": "SyntaxError",
     "evalue": "cannot assign to expression here. Maybe you meant '==' instead of '='? (1878275150.py, line 1)",
     "output_type": "error",
     "traceback": [
      "\u001b[0;36m  Cell \u001b[0;32mIn [41], line 1\u001b[0;36m\u001b[0m\n\u001b[0;31m    na@me = \"Mubeen\"\u001b[0m\n\u001b[0m    ^\u001b[0m\n\u001b[0;31mSyntaxError\u001b[0m\u001b[0;31m:\u001b[0m cannot assign to expression here. Maybe you meant '==' instead of '='?\n"
     ]
    }
   ],
   "source": [
    "na@me = \"Mubeen\""
   ]
  },
  {
   "cell_type": "code",
   "execution_count": 43,
   "id": "614bd601",
   "metadata": {},
   "outputs": [
    {
     "name": "stdout",
     "output_type": "stream",
     "text": [
      "Mubeen\n"
     ]
    }
   ],
   "source": [
    "n_a_m_e = \"Mubeen\"\n",
    "print(n_a_m_e)"
   ]
  },
  {
   "cell_type": "markdown",
   "id": "f3de9d47",
   "metadata": {},
   "source": [
    "<h2>We are also used only _ to create a variable </h2>"
   ]
  },
  {
   "cell_type": "code",
   "execution_count": 44,
   "id": "9dedd601",
   "metadata": {},
   "outputs": [
    {
     "name": "stdout",
     "output_type": "stream",
     "text": [
      "Mubeen\n"
     ]
    }
   ],
   "source": [
    "_ = \"Mubeen\"\n",
    "print(_)"
   ]
  },
  {
   "cell_type": "markdown",
   "id": "4fe8d9bd",
   "metadata": {},
   "source": [
    "# Create Multiple Variable in one line"
   ]
  },
  {
   "cell_type": "code",
   "execution_count": 45,
   "id": "abb0e146",
   "metadata": {},
   "outputs": [
    {
     "name": "stdout",
     "output_type": "stream",
     "text": [
      "1 2 3 4\n"
     ]
    }
   ],
   "source": [
    "a,b,c,d = 1,2,3,4\n",
    "\n",
    "print(a,b,c,d)"
   ]
  },
  {
   "cell_type": "markdown",
   "id": "346aaf1d",
   "metadata": {},
   "source": [
    "# Create a multiple variable and Assign same value"
   ]
  },
  {
   "cell_type": "code",
   "execution_count": 63,
   "id": "3ebee660",
   "metadata": {},
   "outputs": [
    {
     "name": "stdout",
     "output_type": "stream",
     "text": [
      "9 9 9\n"
     ]
    }
   ],
   "source": [
    "a=b=c = 9\n",
    "print(a,b,c)"
   ]
  },
  {
   "cell_type": "markdown",
   "id": "c4c60e7a",
   "metadata": {},
   "source": [
    "# Swap Variables"
   ]
  },
  {
   "cell_type": "code",
   "execution_count": 67,
   "id": "408c3c2d",
   "metadata": {},
   "outputs": [
    {
     "name": "stdout",
     "output_type": "stream",
     "text": [
      "4 3\n"
     ]
    }
   ],
   "source": [
    "x = 3\n",
    "y = 4\n",
    "\n",
    "temp = y\n",
    "y = x\n",
    "x = temp\n",
    "\n",
    "print(x,y)"
   ]
  },
  {
   "cell_type": "markdown",
   "id": "22897472",
   "metadata": {},
   "source": [
    "# Swap Variable in Pythonic Way "
   ]
  },
  {
   "cell_type": "code",
   "execution_count": 68,
   "id": "3b64e46b",
   "metadata": {},
   "outputs": [
    {
     "name": "stdout",
     "output_type": "stream",
     "text": [
      "23 10\n"
     ]
    }
   ],
   "source": [
    "x = 10\n",
    "y = 23\n",
    "\n",
    "x,y=y,x\n",
    "\n",
    "print(x,y)"
   ]
  }
 ],
 "metadata": {
  "kernelspec": {
   "display_name": "Python 3 (ipykernel)",
   "language": "python",
   "name": "python3"
  },
  "language_info": {
   "codemirror_mode": {
    "name": "ipython",
    "version": 3
   },
   "file_extension": ".py",
   "mimetype": "text/x-python",
   "name": "python",
   "nbconvert_exporter": "python",
   "pygments_lexer": "ipython3",
   "version": "3.10.6"
  }
 },
 "nbformat": 4,
 "nbformat_minor": 5
}

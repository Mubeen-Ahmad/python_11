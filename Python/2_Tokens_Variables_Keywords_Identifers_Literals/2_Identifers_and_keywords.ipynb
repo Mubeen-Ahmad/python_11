{
 "cells": [
  {
   "cell_type": "markdown",
   "id": "28226623",
   "metadata": {},
   "source": [
    "<h1>Identifers</h1>\n",
    "<h3>\n",
    "A Python identifier is a name used to identify a variable, function, class, module or other object.</h3>"
   ]
  },
  {
   "cell_type": "markdown",
   "id": "6e904f29",
   "metadata": {},
   "source": [
    "# Example 1"
   ]
  },
  {
   "cell_type": "code",
   "execution_count": 11,
   "id": "bc50efda",
   "metadata": {},
   "outputs": [
    {
     "name": "stdout",
     "output_type": "stream",
     "text": [
      "hello\n"
     ]
    }
   ],
   "source": [
    "\n",
    "x = \"hello\"\n",
    "print(x)\n",
    "\n",
    "# x is Variable but they are include in Identifers\n",
    "# print  is the built in function but they are include in Identifers"
   ]
  },
  {
   "cell_type": "markdown",
   "id": "48cc4af5",
   "metadata": {},
   "source": [
    "# Example 2"
   ]
  },
  {
   "cell_type": "code",
   "execution_count": 14,
   "id": "227f6c28",
   "metadata": {},
   "outputs": [
    {
     "name": "stdout",
     "output_type": "stream",
     "text": [
      "Mubeen\n"
     ]
    }
   ],
   "source": [
    "def name():\n",
    "    return \"Mubeen\"\n",
    "print(name())\n",
    "\n",
    "# Here name is the user-Define Function but they are Include in Identifers\n",
    "# and print is the bulit in function but they Include in Identifers"
   ]
  },
  {
   "cell_type": "markdown",
   "id": "fc059225",
   "metadata": {},
   "source": [
    "<h2 style=\"color:blue;\">def is the keyword but they are <span style=\"color:red;\">NOT !</span> Include in Identifers </h2>"
   ]
  },
  {
   "cell_type": "markdown",
   "id": "046a83fd",
   "metadata": {},
   "source": [
    "# Keywords"
   ]
  },
  {
   "cell_type": "markdown",
   "id": "16866b60",
   "metadata": {},
   "source": [
    "<h3>Keywords in python are these unique sets of predefined words reserved to perform a specific function or purpose.</h3>"
   ]
  },
  {
   "cell_type": "markdown",
   "id": "17ece0b9",
   "metadata": {},
   "source": [
    "<h2 style=\"color:blue;\">Note ! Keywords are note Include in Identifers </h2>"
   ]
  },
  {
   "cell_type": "markdown",
   "id": "28584a10",
   "metadata": {},
   "source": [
    "<h3>According to Python 3.11 There are 35 Keywords</h3>\n",
    "\n",
    "<div style=\"color:green; font-size:25px; display: block;\n",
    "  margin-left: auto;\n",
    "  margin-right: auto;\n",
    "  width: 40%;\">\n",
    "    \n",
    "<h4>False None True and as <br><br>assert async await break class<br><br>continue def del elif else<br><br>except finally for from global<br><br>if import in is lambda<br><br>nonlocal not or pass raise<br><br>return try while with yield </h4>\n",
    "</div>"
   ]
  },
  {
   "cell_type": "markdown",
   "id": "772e5ffc",
   "metadata": {},
   "source": [
    "# print all keywords"
   ]
  },
  {
   "cell_type": "code",
   "execution_count": 56,
   "id": "45ccc170",
   "metadata": {},
   "outputs": [
    {
     "name": "stdout",
     "output_type": "stream",
     "text": [
      "['False', 'None', 'True', 'and', 'as', 'assert', 'async', 'await', 'break', 'class', 'continue', 'def', 'del', 'elif', 'else', 'except', 'finally', 'for', 'from', 'global', 'if', 'import', 'in', 'is', 'lambda', 'nonlocal', 'not', 'or', 'pass', 'raise', 'return', 'try', 'while', 'with', 'yield']\n"
     ]
    }
   ],
   "source": [
    "import keyword\n",
    "x = keyword.kwlist\n",
    "print(x)"
   ]
  },
  {
   "cell_type": "markdown",
   "id": "66963389",
   "metadata": {},
   "source": [
    "# Check Keyword or not"
   ]
  },
  {
   "cell_type": "code",
   "execution_count": 57,
   "id": "57b6fc9b",
   "metadata": {},
   "outputs": [
    {
     "data": {
      "text/plain": [
       "True"
      ]
     },
     "execution_count": 57,
     "metadata": {},
     "output_type": "execute_result"
    }
   ],
   "source": [
    "import keyword\n",
    "\n",
    "keyword.iskeyword(\"False\")"
   ]
  },
  {
   "cell_type": "code",
   "execution_count": 58,
   "id": "d06dc035",
   "metadata": {},
   "outputs": [
    {
     "data": {
      "text/plain": [
       "True"
      ]
     },
     "execution_count": 58,
     "metadata": {},
     "output_type": "execute_result"
    }
   ],
   "source": [
    "keyword.iskeyword(\"def\")"
   ]
  },
  {
   "cell_type": "markdown",
   "id": "06d584a1",
   "metadata": {},
   "source": [
    "# Lets Check Difference in Keywords and Identifers"
   ]
  },
  {
   "cell_type": "code",
   "execution_count": 77,
   "id": "54fc76aa",
   "metadata": {},
   "outputs": [
    {
     "name": "stdout",
     "output_type": "stream",
     "text": [
      "Mubeen\n"
     ]
    }
   ],
   "source": [
    "def name():\n",
    "    return \"Mubeen\"\n",
    "\n",
    "print(name())\n",
    "\n",
    "# here def is a keyword they are note include in keyword\n",
    "# name is the identifer\n",
    "# return is a keyword\n",
    "# print is the built in function"
   ]
  },
  {
   "cell_type": "code",
   "execution_count": 71,
   "id": "af8a64cf",
   "metadata": {},
   "outputs": [
    {
     "data": {
      "text/plain": [
       "True"
      ]
     },
     "execution_count": 71,
     "metadata": {},
     "output_type": "execute_result"
    }
   ],
   "source": [
    "keyword.iskeyword(\"def\")"
   ]
  },
  {
   "cell_type": "code",
   "execution_count": 73,
   "id": "50610a02",
   "metadata": {},
   "outputs": [
    {
     "data": {
      "text/plain": [
       "False"
      ]
     },
     "execution_count": 73,
     "metadata": {},
     "output_type": "execute_result"
    }
   ],
   "source": [
    "keyword.iskeyword(name)"
   ]
  },
  {
   "cell_type": "code",
   "execution_count": 74,
   "id": "592996fb",
   "metadata": {},
   "outputs": [
    {
     "data": {
      "text/plain": [
       "True"
      ]
     },
     "execution_count": 74,
     "metadata": {},
     "output_type": "execute_result"
    }
   ],
   "source": [
    "keyword.iskeyword(\"return\")"
   ]
  },
  {
   "cell_type": "code",
   "execution_count": 76,
   "id": "0fd89987",
   "metadata": {},
   "outputs": [
    {
     "data": {
      "text/plain": [
       "False"
      ]
     },
     "execution_count": 76,
     "metadata": {},
     "output_type": "execute_result"
    }
   ],
   "source": [
    "keyword.iskeyword(print)"
   ]
  },
  {
   "cell_type": "markdown",
   "id": "7a9f06d0",
   "metadata": {},
   "source": [
    "<h1>Difference Between in Keyword and Identifers</h1>"
   ]
  },
  {
   "cell_type": "markdown",
   "id": "2833368b",
   "metadata": {},
   "source": [
    "<table>\n",
    "    \n",
    "<td style=\"color:#5d2ade; font-size:30px;   text-align: center;\">KeyWords</td>\n",
    "      \n",
    "<td style=\"color:#d96518; font-size:30px;   text-align: center;\">Identifiers</td>\n",
    "  \n",
    "</tr>\n",
    " <tr>\n",
    "\n",
    "<td style=\"color:#5d2ade; font-size:20px;\"><p>Keywords are predefined word that gets reserved for working program that have special meaning and cannot get used anywhere else.</p></td>\n",
    "      \n",
    "<td style=\"color:#d96518; font-size:20px;\"><p>Identifiers are the values used to define different programming items such as variables, integers,  Lists, Dictionaries, Tuples, Sets etc.</p></td>\n",
    "  \n",
    "</tr>\n",
    " <tr>\n",
    "\n",
    "<td style=\"color:#5d2ade; font-size:20px;\"><p>Specify the type/kind of entity.<p>\n",
    "</td>\n",
    "      \n",
    "<td style=\"color:#d96518; font-size:20px;\"><p>Identify the name of a particular entity.</p></td>\n",
    "</tr>\n",
    "\n",
    "<tr>\n",
    "\n",
    "<td style=\"color:#5d2ade; font-size:20px;\"><p>It always starts with a lowercase letter.<p>\n",
    "</td>\n",
    "      \n",
    "<td style=\"color:#d96518; font-size:20px;\"><p>First character can be a uppercase, lowercase letter or underscore.</p>\n",
    "    \n",
    "</td></tr>\n",
    "<tr>\n",
    "<td style=\"color:#5d2ade; font-size:20px;\"><p>A keyword should be in lower case.<p>\n",
    "</td>\n",
    "      \n",
    "<td style=\"color:#d96518; font-size:20px;\"><p>An identifier can be in upper case or lower case.</p></td>\n",
    "\n",
    "</tr>\n",
    "\n",
    "<tr>\n",
    "<td style=\"color:#5d2ade; font-size:20px;\"><p>A keyword contains only alphabetical characters<p>\n",
    "</td>\n",
    "      \n",
    "<td style=\"color:#d96518; font-size:20px;\"><p>An identifier can consist of alphabetical characters, digits and underscores.</p></td>\n",
    "\n",
    "</tr>\n",
    "\n",
    " <tr>\n",
    "<td style=\"color:#5d2ade; font-size:20px;\"><p>They help to identify a specific property that exists within a computer language.<p>\n",
    "</td>\n",
    "      \n",
    "<td style=\"color:#d96518; font-size:20px;\"><p>They help to locate the name of the entity that gets defined along with a keyword.</p></td>\n",
    "\n",
    "</tr>\n",
    "\n",
    " <tr>\n",
    "<td style=\"color:#5d2ade; font-size:20px;\"><p>No special symbol, punctuation is used.<p>\n",
    "</td>\n",
    "      \n",
    "<td style=\"color:#d96518; font-size:20px;\"><p>No punctuation or special symbol except underscore ' _ '  is used.</p></td>\n",
    "\n",
    "</tr>\n",
    "\n",
    "</table>\n"
   ]
  }
 ],
 "metadata": {
  "kernelspec": {
   "display_name": "Python 3 (ipykernel)",
   "language": "python",
   "name": "python3"
  },
  "language_info": {
   "codemirror_mode": {
    "name": "ipython",
    "version": 3
   },
   "file_extension": ".py",
   "mimetype": "text/x-python",
   "name": "python",
   "nbconvert_exporter": "python",
   "pygments_lexer": "ipython3",
   "version": "3.10.6"
  }
 },
 "nbformat": 4,
 "nbformat_minor": 5
}

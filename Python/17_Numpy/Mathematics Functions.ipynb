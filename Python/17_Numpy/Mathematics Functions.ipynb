{
 "cells": [
  {
   "cell_type": "markdown",
   "id": "76c83fb5",
   "metadata": {},
   "source": [
    "- ## *np.add()*\n",
    "- ## *np.subtract()*\n",
    "- ## *np.multiply()*\n",
    "- ## *np.divide()*\n",
    "- ## *np.floor_divide()*\n",
    "- ## *np.mod()*\n",
    "- ## *np.modf()*\n",
    "- ## *np.power()*\n",
    "- ## *np.square()*\n",
    "- ## *np.sqrt()*\n",
    "- ## *np.exp()*\n",
    "- ## *np.abs()*\n",
    "- ## *np.fabs()*\n",
    "- ## *np.sign()*\n",
    "- ## *np.ceil()*\n",
    "- ## *np.floor()*\n",
    "- ## *np.rint()*\n",
    "- ## *np.round()*"
   ]
  },
  {
   "cell_type": "markdown",
   "id": "b8bd813b",
   "metadata": {},
   "source": [
    "# *np.add*\n",
    "<br>\n",
    "\n",
    "- ### np.add is a function in the NumPy library of Python that is used to add two arrays. This function adds the corresponding elements of both arrays and returns a new array that is formed by element-wise sum of the two arrays."
   ]
  },
  {
   "cell_type": "code",
   "execution_count": 1,
   "id": "98e3eec1",
   "metadata": {},
   "outputs": [],
   "source": [
    "import numpy as np"
   ]
  },
  {
   "cell_type": "code",
   "execution_count": 2,
   "id": "4784680e",
   "metadata": {},
   "outputs": [
    {
     "name": "stdout",
     "output_type": "stream",
     "text": [
      "[1 2 3] \n",
      "\n",
      "[4 5 6] \n",
      "\n"
     ]
    }
   ],
   "source": [
    "a = np.array([1, 2, 3])\n",
    "b = np.array([4, 5, 6])\n",
    "\n",
    "print(a,\"\\n\")\n",
    "print(b,\"\\n\")"
   ]
  },
  {
   "cell_type": "code",
   "execution_count": 3,
   "id": "e48a9ce8",
   "metadata": {},
   "outputs": [
    {
     "data": {
      "text/plain": [
       "array([5, 7, 9])"
      ]
     },
     "execution_count": 3,
     "metadata": {},
     "output_type": "execute_result"
    }
   ],
   "source": [
    "np.add(a,b) # same like as  a+b"
   ]
  },
  {
   "cell_type": "code",
   "execution_count": 4,
   "id": "03aae503",
   "metadata": {},
   "outputs": [
    {
     "data": {
      "text/plain": [
       "array([5, 7, 9])"
      ]
     },
     "execution_count": 4,
     "metadata": {},
     "output_type": "execute_result"
    }
   ],
   "source": [
    "a + b"
   ]
  },
  {
   "cell_type": "markdown",
   "id": "7df8e9e1",
   "metadata": {},
   "source": [
    "# *np.sum()*"
   ]
  },
  {
   "cell_type": "markdown",
   "id": "200e7d6e",
   "metadata": {},
   "source": [
    "# *np.subtract()*\n",
    "<br>\n",
    "\n",
    "- ### np.subtract is a function in the NumPy library of Python that is used to find the difference (or subtraction) between two arrays. This function subtracts the corresponding elements of both arrays and returns a new array that is formed by element-wise difference of the two arrays."
   ]
  },
  {
   "cell_type": "code",
   "execution_count": 5,
   "id": "f09127e5",
   "metadata": {},
   "outputs": [
    {
     "name": "stdout",
     "output_type": "stream",
     "text": [
      "[1 2 3] \n",
      "\n",
      "[4 5 6] \n",
      "\n"
     ]
    }
   ],
   "source": [
    "print(a,\"\\n\")\n",
    "print(b,\"\\n\")"
   ]
  },
  {
   "cell_type": "code",
   "execution_count": 6,
   "id": "def3c1ae",
   "metadata": {},
   "outputs": [
    {
     "data": {
      "text/plain": [
       "array([-3, -3, -3])"
      ]
     },
     "execution_count": 6,
     "metadata": {},
     "output_type": "execute_result"
    }
   ],
   "source": [
    "np.subtract(a,b)"
   ]
  },
  {
   "cell_type": "code",
   "execution_count": 7,
   "id": "7dbc20ff",
   "metadata": {},
   "outputs": [
    {
     "data": {
      "text/plain": [
       "array([3, 3, 3])"
      ]
     },
     "execution_count": 7,
     "metadata": {},
     "output_type": "execute_result"
    }
   ],
   "source": [
    "np.subtract(b,a)"
   ]
  },
  {
   "cell_type": "markdown",
   "id": "1f9e3e19",
   "metadata": {},
   "source": [
    "# *np.multiply*\n",
    "<br>\n",
    "    \n",
    "- ### np.multiply is a function in the NumPy library of Python that is used to multiply two arrays. This function multiplies the corresponding elements of both arrays and returns a new array that is formed by element-wise product of the two arrays.\""
   ]
  },
  {
   "cell_type": "code",
   "execution_count": 8,
   "id": "11a564ff",
   "metadata": {},
   "outputs": [
    {
     "name": "stdout",
     "output_type": "stream",
     "text": [
      "[1 2 3] \n",
      "\n",
      "[4 5 6] \n",
      "\n"
     ]
    }
   ],
   "source": [
    "print(a,\"\\n\")\n",
    "print(b,\"\\n\")"
   ]
  },
  {
   "cell_type": "code",
   "execution_count": 9,
   "id": "98519359",
   "metadata": {},
   "outputs": [
    {
     "data": {
      "text/plain": [
       "array([ 4, 10, 18])"
      ]
     },
     "execution_count": 9,
     "metadata": {},
     "output_type": "execute_result"
    }
   ],
   "source": [
    "np.multiply(a,b)"
   ]
  },
  {
   "cell_type": "markdown",
   "id": "14981748",
   "metadata": {},
   "source": [
    "# *np.divide()*\n",
    "<br>\n",
    "\n",
    "- ### np.divide is a function in the NumPy library of Python that is used to divide two arrays. This function divides the corresponding elements of both arrays and returns a new array that is formed by element-wise division of the two arrays"
   ]
  },
  {
   "cell_type": "code",
   "execution_count": 10,
   "id": "bd3359be",
   "metadata": {},
   "outputs": [
    {
     "data": {
      "text/plain": [
       "array([0.25, 0.4 , 0.5 ])"
      ]
     },
     "execution_count": 10,
     "metadata": {},
     "output_type": "execute_result"
    }
   ],
   "source": [
    "np.divide(a,b)"
   ]
  },
  {
   "cell_type": "markdown",
   "id": "28b612f1",
   "metadata": {},
   "source": [
    "# *np.floor_divide()*\n",
    "<br>\n",
    "\n",
    "- ### np.floor_divide is a NumPy library function that performs floor division between two arrays. Floor division is an operation in which the result of the division is rounded down to the nearest integer, meaning that the digits after the decimal point are discarded."
   ]
  },
  {
   "cell_type": "code",
   "execution_count": 11,
   "id": "ad59012c",
   "metadata": {},
   "outputs": [
    {
     "data": {
      "text/plain": [
       "array([0, 0, 0])"
      ]
     },
     "execution_count": 11,
     "metadata": {},
     "output_type": "execute_result"
    }
   ],
   "source": [
    "np.floor_divide(a,b)"
   ]
  },
  {
   "cell_type": "code",
   "execution_count": 12,
   "id": "5d7e1129",
   "metadata": {},
   "outputs": [
    {
     "data": {
      "text/plain": [
       "array([4, 2, 2])"
      ]
     },
     "execution_count": 12,
     "metadata": {},
     "output_type": "execute_result"
    }
   ],
   "source": [
    "np.floor_divide(b,a)"
   ]
  },
  {
   "cell_type": "markdown",
   "id": "2feeac2f",
   "metadata": {},
   "source": [
    "# *np.power()*\n",
    "<br>\n",
    "\n",
    "- ### np.power is a function in the NumPy library of Python, which raises all the elements of a given array to the power of a specified exponent. The function takes two arguments, where the first argument is the base and the second argument is the exponent. It returns a new array where each element of the original array has been raised to the power of the specified exponent."
   ]
  },
  {
   "cell_type": "code",
   "execution_count": 13,
   "id": "f86c0eb8",
   "metadata": {},
   "outputs": [
    {
     "data": {
      "text/plain": [
       "array([1, 2, 3])"
      ]
     },
     "execution_count": 13,
     "metadata": {},
     "output_type": "execute_result"
    }
   ],
   "source": [
    "np.power(a,1)"
   ]
  },
  {
   "cell_type": "code",
   "execution_count": 14,
   "id": "709ff2ee",
   "metadata": {},
   "outputs": [
    {
     "data": {
      "text/plain": [
       "array([1, 4, 9])"
      ]
     },
     "execution_count": 14,
     "metadata": {},
     "output_type": "execute_result"
    }
   ],
   "source": [
    "np.power(a,2)"
   ]
  },
  {
   "cell_type": "code",
   "execution_count": 15,
   "id": "6de98bcb",
   "metadata": {},
   "outputs": [
    {
     "data": {
      "text/plain": [
       "array([  1,  32, 729])"
      ]
     },
     "execution_count": 15,
     "metadata": {},
     "output_type": "execute_result"
    }
   ],
   "source": [
    "np.power(a,b)"
   ]
  },
  {
   "cell_type": "markdown",
   "id": "c9aedd5e",
   "metadata": {},
   "source": [
    "# *np.square()*\n",
    "<br>\n",
    "\n",
    "- ### np.square is a NumPy library function that computes the square (i.e., raises to the power of 2) of all the elements in a given array. This function is commonly used in numerical calculations where we need to calculate the square of a variable. It returns a new array in which all the elements of the original array have been squared."
   ]
  },
  {
   "cell_type": "code",
   "execution_count": 16,
   "id": "5c3a601e",
   "metadata": {},
   "outputs": [
    {
     "data": {
      "text/plain": [
       "array([1, 4, 9])"
      ]
     },
     "execution_count": 16,
     "metadata": {},
     "output_type": "execute_result"
    }
   ],
   "source": [
    "np.square(a)"
   ]
  },
  {
   "cell_type": "markdown",
   "id": "5336af03",
   "metadata": {},
   "source": [
    "# *np.sqrt()*\n",
    "<br>\n",
    "\n",
    "- ### \"np.sqrt\" is a Python NumPy library function used to calculate the square root (i.e., raised to the power of 1/2) of all the elements in an array. This function is generally used in numerical calculations where we need to calculate the square root of a variable. \n",
    "<br>\n",
    "\n",
    "- ### It returns a new array where all the elements of the original array are the square roots of their corresponding elements.\n",
    "<br>\n",
    "\n",
    "- ### Only float dtype required"
   ]
  },
  {
   "cell_type": "code",
   "execution_count": 17,
   "id": "092dec21",
   "metadata": {},
   "outputs": [
    {
     "data": {
      "text/plain": [
       "array([1.       , 1.4142135, 1.7320508], dtype=float32)"
      ]
     },
     "execution_count": 17,
     "metadata": {},
     "output_type": "execute_result"
    }
   ],
   "source": [
    "np.sqrt(np.float32(a)) # first convert into float"
   ]
  },
  {
   "cell_type": "markdown",
   "id": "8643e2b4",
   "metadata": {},
   "source": [
    "# *np.mod()*\n",
    "<br>\n",
    "\n",
    "- ### np.mod is a Python NumPy library function that is used to calculate element-wise modulus (or remainder) between two arrays. The first argument in the function is the dividend and the second argument is the divisor.\n",
    "<br>\n",
    "\n",
    "- ### The function calculates the remainder or modulus by dividing the corresponding elements of both arrays. The function returns a new array which contains the remainders of the corresponding elements of the given arrays. This function is commonly used for mathematical calculations in various applications."
   ]
  },
  {
   "cell_type": "code",
   "execution_count": 18,
   "id": "373a36ea",
   "metadata": {},
   "outputs": [
    {
     "data": {
      "text/plain": [
       "array([1, 2, 3])"
      ]
     },
     "execution_count": 18,
     "metadata": {},
     "output_type": "execute_result"
    }
   ],
   "source": [
    "np.mod(a,b)"
   ]
  },
  {
   "cell_type": "markdown",
   "id": "76e5d0bb",
   "metadata": {},
   "source": [
    "# *np.modf()*\n",
    "<br>\n",
    "\n",
    "- ### \"modf\" is a NumPy library function that separates a given number into its integer part (whole number) and fractional part (decimal). This means that if we want to store the integer and fractional parts of a number in separate variables, we can use the \"modf\" function.\n",
    "<br>\n",
    "\n",
    "- ### This function is generally used in numerical calculations where we need to use the integer part and fractional part of a number separately. The function returns a tuple, with the first element being the fractional part and the second element being the integer part."
   ]
  },
  {
   "cell_type": "code",
   "execution_count": 19,
   "id": "ad2ce51e",
   "metadata": {},
   "outputs": [
    {
     "data": {
      "text/plain": [
       "3.14159"
      ]
     },
     "execution_count": 19,
     "metadata": {},
     "output_type": "execute_result"
    }
   ],
   "source": [
    "x = 3.14159\n",
    "x"
   ]
  },
  {
   "cell_type": "code",
   "execution_count": 20,
   "id": "95421cbe",
   "metadata": {},
   "outputs": [],
   "source": [
    "fractional, integral = np.modf(x)"
   ]
  },
  {
   "cell_type": "code",
   "execution_count": 21,
   "id": "f4f00e14",
   "metadata": {},
   "outputs": [
    {
     "data": {
      "text/plain": [
       "0.14158999999999988"
      ]
     },
     "execution_count": 21,
     "metadata": {},
     "output_type": "execute_result"
    }
   ],
   "source": [
    "fractional"
   ]
  },
  {
   "cell_type": "code",
   "execution_count": 22,
   "id": "2c10e07e",
   "metadata": {},
   "outputs": [
    {
     "data": {
      "text/plain": [
       "3.0"
      ]
     },
     "execution_count": 22,
     "metadata": {},
     "output_type": "execute_result"
    }
   ],
   "source": [
    "integral"
   ]
  },
  {
   "cell_type": "code",
   "execution_count": 23,
   "id": "0d20e5b4",
   "metadata": {},
   "outputs": [
    {
     "data": {
      "text/plain": [
       "array([1, 2, 3])"
      ]
     },
     "execution_count": 23,
     "metadata": {},
     "output_type": "execute_result"
    }
   ],
   "source": [
    "a"
   ]
  },
  {
   "cell_type": "markdown",
   "id": "019685ea",
   "metadata": {},
   "source": [
    "# *np.exp()*\n",
    "<br>\n",
    "\n",
    "- ### np.exp is a Python NumPy library function that is used to calculate the exponential (i.e., e raised to the power) of all elements of an array. This function is generally used in mathematical calculations where we need to calculate the exponential of a variable. The function returns a new array in which all elements of the original array have been exponentiated.\n",
    "<br>\n",
    "\n",
    "- ## Only float dtype required"
   ]
  },
  {
   "cell_type": "code",
   "execution_count": 24,
   "id": "09d7b3f1",
   "metadata": {},
   "outputs": [
    {
     "data": {
      "text/plain": [
       "array([1, 2, 3])"
      ]
     },
     "execution_count": 24,
     "metadata": {},
     "output_type": "execute_result"
    }
   ],
   "source": [
    "a"
   ]
  },
  {
   "cell_type": "code",
   "execution_count": 25,
   "id": "ce451658",
   "metadata": {},
   "outputs": [
    {
     "data": {
      "text/plain": [
       "array([ 2.718282 ,  7.3890557, 20.085537 ], dtype=float32)"
      ]
     },
     "execution_count": 25,
     "metadata": {},
     "output_type": "execute_result"
    }
   ],
   "source": [
    "np.exp(np.float32(a))"
   ]
  },
  {
   "cell_type": "markdown",
   "id": "dca306be",
   "metadata": {},
   "source": [
    "# *np.abs()*\n",
    "<br>\n",
    "\n",
    "- ### \"np.abs\" is a NumPy library function that is used to calculate the absolute value (i.e., the magnitude or distance from zero) of all elements in an array. This function is generally used in numerical calculations where we need to determine the magnitude of a variable. The function returns a new array in which all elements of the original array are their absolute value."
   ]
  },
  {
   "cell_type": "code",
   "execution_count": 26,
   "id": "5f2e97c3",
   "metadata": {},
   "outputs": [
    {
     "data": {
      "text/plain": [
       "array([ 1,  2, 10, 30])"
      ]
     },
     "execution_count": 26,
     "metadata": {},
     "output_type": "execute_result"
    }
   ],
   "source": [
    "np.abs([1,2,-10,-30])"
   ]
  },
  {
   "cell_type": "markdown",
   "id": "d4365e1c",
   "metadata": {},
   "source": [
    "# *np.fabs()*\n",
    "<br>\n",
    "\n",
    "- ### \"np.fabs\" is also a NumPy library function like \"np.abs\" that is used to calculate the absolute value of all elements in an array. This means that the function calculates the magnitude or distance from zero of all elements in the array. The only difference between \"np.fabs\" and \"np.abs\" is that \"np.fabs\" can only be used for float data type, while \"np.abs\" can be used for any data type."
   ]
  },
  {
   "cell_type": "code",
   "execution_count": 27,
   "id": "bae4ac7e",
   "metadata": {},
   "outputs": [
    {
     "data": {
      "text/plain": [
       "array([ 1.,  2., 10., 30.])"
      ]
     },
     "execution_count": 27,
     "metadata": {},
     "output_type": "execute_result"
    }
   ],
   "source": [
    "np.fabs([1,2,-10,-30])"
   ]
  },
  {
   "cell_type": "markdown",
   "id": "995ed69d",
   "metadata": {},
   "source": [
    "# *np.sign()*\n",
    "<br>\n",
    "\n",
    "- ### np.sign is a NumPy library function that is used to calculate the sign (positive, negative, or zero) of all elements in an array. This function is generally used in numerical calculations where we need to determine the sign of a variable. The function returns a new array containing the sign (+1, -1, or 0) of each element in the original array."
   ]
  },
  {
   "cell_type": "code",
   "execution_count": 28,
   "id": "e1cbd677",
   "metadata": {},
   "outputs": [
    {
     "data": {
      "text/plain": [
       "array([-3. ,  0. ,  2.5, -7. ,  9. ])"
      ]
     },
     "execution_count": 28,
     "metadata": {},
     "output_type": "execute_result"
    }
   ],
   "source": [
    "arr = np.array([-3, 0, 2.5, -7, 9])\n",
    "arr"
   ]
  },
  {
   "cell_type": "code",
   "execution_count": 29,
   "id": "15e4b7e8",
   "metadata": {},
   "outputs": [
    {
     "data": {
      "text/plain": [
       "array([-1.,  0.,  1., -1.,  1.])"
      ]
     },
     "execution_count": 29,
     "metadata": {},
     "output_type": "execute_result"
    }
   ],
   "source": [
    "np.sign(arr)"
   ]
  },
  {
   "cell_type": "markdown",
   "id": "2f5023fb",
   "metadata": {},
   "source": [
    "# *np.ceil()*\n",
    "<br>\n",
    "\n",
    "- ### np.ceil is a NumPy library function used to replace any number with its next integer that is greater than the number. Its use is generally in numerical calculations where we need to replace a variable with its next integer value. The function returns a new integer value."
   ]
  },
  {
   "cell_type": "code",
   "execution_count": 30,
   "id": "76deaf57",
   "metadata": {},
   "outputs": [
    {
     "data": {
      "text/plain": [
       "array([-3. ,  0. ,  2.5, -7. ,  9. ])"
      ]
     },
     "execution_count": 30,
     "metadata": {},
     "output_type": "execute_result"
    }
   ],
   "source": [
    "arr"
   ]
  },
  {
   "cell_type": "code",
   "execution_count": 31,
   "id": "c063d9b8",
   "metadata": {},
   "outputs": [
    {
     "data": {
      "text/plain": [
       "array([-3.,  0.,  3., -7.,  9.])"
      ]
     },
     "execution_count": 31,
     "metadata": {},
     "output_type": "execute_result"
    }
   ],
   "source": [
    "np.ceil(arr)"
   ]
  },
  {
   "cell_type": "markdown",
   "id": "1af91f9f",
   "metadata": {},
   "source": [
    "# *np.floor()*\n",
    "<br>\n",
    "\n",
    "- ### \"np.floor\" is a NumPy library function that is used to replace any number with its previous integer, which is smaller than that number. Its use is generally seen in numerical calculations where we need to replace a variable with its previous integer value. The function returns a new integer value.\n",
    "<br>\n",
    "\n",
    "- ### This function can be used to convert any number into a lower integer value. For example, if we need to remove the decimal places of a number, we can use the np.floor function."
   ]
  },
  {
   "cell_type": "code",
   "execution_count": 32,
   "id": "d17a8df5",
   "metadata": {},
   "outputs": [
    {
     "data": {
      "text/plain": [
       "array([2.5, 3.8, 1.2, 4.9, 6.7])"
      ]
     },
     "execution_count": 32,
     "metadata": {},
     "output_type": "execute_result"
    }
   ],
   "source": [
    "arr = np.array([2.5, 3.8, 1.2, 4.9, 6.7])\n",
    "arr"
   ]
  },
  {
   "cell_type": "markdown",
   "id": "baf74a40",
   "metadata": {},
   "source": [
    "# *np.rint()*\n",
    "<br>\n",
    "\n",
    "- ### \"np.rint\" is a NumPy library function that is used to round any number to its nearest integer value. This function is generally used in numerical calculations where we need to replace a variable with its nearest integer value. The function returns a new integer value.\n",
    "<br>\n",
    "\n",
    "- ### This function can be used to round any number. For example, if we need to round a number to the nearest value of 0.5, we can use the np.rint function."
   ]
  },
  {
   "cell_type": "code",
   "execution_count": 33,
   "id": "9374669f",
   "metadata": {},
   "outputs": [
    {
     "data": {
      "text/plain": [
       "array([2.5, 3.8, 1.2, 4.9, 6.7])"
      ]
     },
     "execution_count": 33,
     "metadata": {},
     "output_type": "execute_result"
    }
   ],
   "source": [
    "arr"
   ]
  },
  {
   "cell_type": "code",
   "execution_count": 34,
   "id": "6d3ead6e",
   "metadata": {},
   "outputs": [
    {
     "data": {
      "text/plain": [
       "array([2., 4., 1., 5., 7.])"
      ]
     },
     "execution_count": 34,
     "metadata": {},
     "output_type": "execute_result"
    }
   ],
   "source": [
    "np.rint(arr)"
   ]
  },
  {
   "cell_type": "markdown",
   "id": "7ff0eff1",
   "metadata": {},
   "source": [
    "## *np.round()*\n",
    "<br>\n",
    "\n",
    "- ### np.round is a NumPy library function that is used to round off any number to its nearest integer value. This function is generally used in numerical calculations where we need to replace a variable with its nearest integer value. The function returns a new integer value.\n",
    "<br>\n",
    "\n",
    "# Parameters\n",
    "<br>\n",
    "\n",
    "- ## a\n",
    "- ## decimal Optional\n"
   ]
  },
  {
   "cell_type": "code",
   "execution_count": 35,
   "id": "4a0df5a1",
   "metadata": {},
   "outputs": [
    {
     "data": {
      "text/plain": [
       "array([2., 4., 1., 5., 7.])"
      ]
     },
     "execution_count": 35,
     "metadata": {},
     "output_type": "execute_result"
    }
   ],
   "source": [
    "np.round(a=arr)"
   ]
  },
  {
   "cell_type": "code",
   "execution_count": 36,
   "id": "88470553",
   "metadata": {},
   "outputs": [
    {
     "data": {
      "text/plain": [
       "array([2., 4., 1., 5., 7.])"
      ]
     },
     "execution_count": 36,
     "metadata": {},
     "output_type": "execute_result"
    }
   ],
   "source": [
    "np.round(a=arr,decimals=0)"
   ]
  },
  {
   "cell_type": "code",
   "execution_count": 37,
   "id": "0f170da8",
   "metadata": {},
   "outputs": [
    {
     "data": {
      "text/plain": [
       "array([2.5, 3.8, 1.2, 4.9, 6.7])"
      ]
     },
     "execution_count": 37,
     "metadata": {},
     "output_type": "execute_result"
    }
   ],
   "source": [
    "np.round(a=arr,decimals=1) # change decimals"
   ]
  }
 ],
 "metadata": {
  "kernelspec": {
   "display_name": "Python 3 (ipykernel)",
   "language": "python",
   "name": "python3"
  },
  "language_info": {
   "codemirror_mode": {
    "name": "ipython",
    "version": 3
   },
   "file_extension": ".py",
   "mimetype": "text/x-python",
   "name": "python",
   "nbconvert_exporter": "python",
   "pygments_lexer": "ipython3",
   "version": "3.10.6"
  }
 },
 "nbformat": 4,
 "nbformat_minor": 5
}

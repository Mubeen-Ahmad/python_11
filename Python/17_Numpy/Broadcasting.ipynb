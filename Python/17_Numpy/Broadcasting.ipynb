{
 "cells": [
  {
   "cell_type": "markdown",
   "id": "a88629f9",
   "metadata": {},
   "source": [
    "# Broadcasting     "
   ]
  },
  {
   "cell_type": "markdown",
   "id": "91ba91b0",
   "metadata": {},
   "source": [
    "# The term broadcasting describe how numpy treats array with different shapes Durning Arithmetic Operations"
   ]
  },
  {
   "cell_type": "markdown",
   "id": "8d1170b7",
   "metadata": {},
   "source": [
    "# The Smaller array is broadcast across  the larger array so that they have compatible shapes"
   ]
  },
  {
   "cell_type": "code",
   "execution_count": 5,
   "id": "95fdf006",
   "metadata": {},
   "outputs": [],
   "source": [
    "import numpy as np"
   ]
  },
  {
   "cell_type": "code",
   "execution_count": 2,
   "id": "cb62f488",
   "metadata": {},
   "outputs": [],
   "source": [
    "a = np.arange(6).reshape(2,3)\n",
    "b = np.arange(6).reshape(2,3)"
   ]
  },
  {
   "cell_type": "code",
   "execution_count": 3,
   "id": "9f3ffac7",
   "metadata": {},
   "outputs": [
    {
     "name": "stdout",
     "output_type": "stream",
     "text": [
      "[[0 1 2]\n",
      " [3 4 5]]\n"
     ]
    }
   ],
   "source": [
    "print(a)"
   ]
  },
  {
   "cell_type": "code",
   "execution_count": 4,
   "id": "e7e32766",
   "metadata": {},
   "outputs": [
    {
     "name": "stdout",
     "output_type": "stream",
     "text": [
      "[[0 1 2]\n",
      " [3 4 5]]\n"
     ]
    }
   ],
   "source": [
    "print(b)"
   ]
  },
  {
   "cell_type": "code",
   "execution_count": 5,
   "id": "4688bcda",
   "metadata": {},
   "outputs": [
    {
     "name": "stdout",
     "output_type": "stream",
     "text": [
      "(2, 3)\n",
      "(2, 3)\n"
     ]
    }
   ],
   "source": [
    "# check shape\n",
    "print(a.shape)\n",
    "print(b.shape)"
   ]
  },
  {
   "cell_type": "markdown",
   "id": "5e8a3262",
   "metadata": {},
   "source": [
    "## Now we Easily Perform Operations like add divide etc"
   ]
  },
  {
   "cell_type": "code",
   "execution_count": 8,
   "id": "0e94b9c3",
   "metadata": {},
   "outputs": [
    {
     "data": {
      "text/plain": [
       "array([[0, 1, 2],\n",
       "       [3, 4, 5]])"
      ]
     },
     "execution_count": 8,
     "metadata": {},
     "output_type": "execute_result"
    }
   ],
   "source": [
    "a"
   ]
  },
  {
   "cell_type": "code",
   "execution_count": 9,
   "id": "d8d4c3db",
   "metadata": {},
   "outputs": [
    {
     "data": {
      "text/plain": [
       "array([[0, 1, 2],\n",
       "       [3, 4, 5]])"
      ]
     },
     "execution_count": 9,
     "metadata": {},
     "output_type": "execute_result"
    }
   ],
   "source": [
    "b"
   ]
  },
  {
   "cell_type": "markdown",
   "id": "326b1081",
   "metadata": {},
   "source": [
    "# Now Check with different shape of to array"
   ]
  },
  {
   "cell_type": "code",
   "execution_count": 11,
   "id": "d6915c0b",
   "metadata": {},
   "outputs": [
    {
     "data": {
      "text/plain": [
       "array([[0, 1, 2],\n",
       "       [3, 4, 5]])"
      ]
     },
     "execution_count": 11,
     "metadata": {},
     "output_type": "execute_result"
    }
   ],
   "source": [
    "a1 = np.arange(6).reshape(2,3)\n",
    "b1 = np.arange(3).reshape(1,3)\n",
    "\n",
    "a1"
   ]
  },
  {
   "cell_type": "code",
   "execution_count": 12,
   "id": "05dc6885",
   "metadata": {},
   "outputs": [
    {
     "data": {
      "text/plain": [
       "array([[0, 1, 2]])"
      ]
     },
     "execution_count": 12,
     "metadata": {},
     "output_type": "execute_result"
    }
   ],
   "source": [
    "b1"
   ]
  },
  {
   "cell_type": "markdown",
   "id": "3843c214",
   "metadata": {},
   "source": [
    "## Now it is possible to perfom operations ?\n"
   ]
  },
  {
   "cell_type": "code",
   "execution_count": 14,
   "id": "896acbf5",
   "metadata": {},
   "outputs": [
    {
     "name": "stdout",
     "output_type": "stream",
     "text": [
      "[[0 2 4]\n",
      " [3 5 7]]\n"
     ]
    }
   ],
   "source": [
    "print(a1 + b1)"
   ]
  },
  {
   "cell_type": "markdown",
   "id": "ba3e380b",
   "metadata": {},
   "source": [
    "## So How it is Possible ?"
   ]
  },
  {
   "cell_type": "markdown",
   "id": "f014feab",
   "metadata": {},
   "source": [
    "# This is the term of Broadcsting"
   ]
  },
  {
   "cell_type": "markdown",
   "id": "bcbb8c43",
   "metadata": {},
   "source": [
    "# The term broadcasting describe how numpy treats array with **different** shapes Durning Arithmetic Operations"
   ]
  },
  {
   "cell_type": "markdown",
   "id": "4e549d80",
   "metadata": {},
   "source": [
    "# The Smaller array is broadcast across  the larger array so that they have compatible shapes"
   ]
  },
  {
   "cell_type": "markdown",
   "id": "50b879fb",
   "metadata": {},
   "source": [
    "# How its Work ?"
   ]
  },
  {
   "cell_type": "markdown",
   "id": "a6e12685",
   "metadata": {},
   "source": [
    "<img src=\"../../images/broad.jpg\" style=\"display: block;margin-left: auto;margin-right: auto;\n",
    "  width: 80%; border-radius:0px 10px 10px 10px; height:80%;\">\n"
   ]
  },
  {
   "cell_type": "markdown",
   "id": "dd8f6c1d",
   "metadata": {},
   "source": [
    "# Example 1"
   ]
  },
  {
   "cell_type": "code",
   "execution_count": 216,
   "id": "71f45d62",
   "metadata": {},
   "outputs": [
    {
     "name": "stdout",
     "output_type": "stream",
     "text": [
      "[0 1 2]\n",
      "[5]\n"
     ]
    }
   ],
   "source": [
    "e1 = np.array([0,1,2])\n",
    "e2 = np.array([5])\n",
    "\n",
    "\n",
    "print(e1)\n",
    "print(e2)"
   ]
  },
  {
   "cell_type": "markdown",
   "id": "f2c5c8cf",
   "metadata": {},
   "source": [
    "### Now when we try to perform the operations than small Demension array fill the the existing columns values"
   ]
  },
  {
   "cell_type": "code",
   "execution_count": 20,
   "id": "0958336d",
   "metadata": {},
   "outputs": [],
   "source": [
    "# means [5,5,5] when perform operations\n",
    "# [0,1,2] + [5,5,5] = [5,6,7]"
   ]
  },
  {
   "cell_type": "code",
   "execution_count": 21,
   "id": "ad8bcb03",
   "metadata": {},
   "outputs": [
    {
     "data": {
      "text/plain": [
       "array([5, 6, 7])"
      ]
     },
     "execution_count": 21,
     "metadata": {},
     "output_type": "execute_result"
    }
   ],
   "source": [
    "e1 + e2"
   ]
  },
  {
   "cell_type": "markdown",
   "id": "0150f0a7",
   "metadata": {},
   "source": [
    "# Example 2"
   ]
  },
  {
   "cell_type": "code",
   "execution_count": 22,
   "id": "6a880454",
   "metadata": {},
   "outputs": [],
   "source": [
    "ex1 = np.ones((3,3))\n",
    "ex2 = np.arange(3)"
   ]
  },
  {
   "cell_type": "code",
   "execution_count": 23,
   "id": "f67da0ea",
   "metadata": {},
   "outputs": [
    {
     "name": "stdout",
     "output_type": "stream",
     "text": [
      "[[1. 1. 1.]\n",
      " [1. 1. 1.]\n",
      " [1. 1. 1.]]\n"
     ]
    }
   ],
   "source": [
    "print(ex1)"
   ]
  },
  {
   "cell_type": "code",
   "execution_count": 24,
   "id": "586d7867",
   "metadata": {},
   "outputs": [
    {
     "name": "stdout",
     "output_type": "stream",
     "text": [
      "[0 1 2]\n"
     ]
    }
   ],
   "source": [
    "print(ex2)"
   ]
  },
  {
   "cell_type": "markdown",
   "id": "0277fbf1",
   "metadata": {},
   "source": [
    "## now ex2 array fill its values"
   ]
  },
  {
   "cell_type": "code",
   "execution_count": 28,
   "id": "13e44add",
   "metadata": {},
   "outputs": [],
   "source": [
    "# [ [0,1,2 ]\n",
    "# [ 0,1,2 ]\n",
    "# [ 0,1,2] ]"
   ]
  },
  {
   "cell_type": "code",
   "execution_count": 29,
   "id": "a03d34cb",
   "metadata": {},
   "outputs": [
    {
     "data": {
      "text/plain": [
       "array([[1., 2., 3.],\n",
       "       [1., 2., 3.],\n",
       "       [1., 2., 3.]])"
      ]
     },
     "execution_count": 29,
     "metadata": {},
     "output_type": "execute_result"
    }
   ],
   "source": [
    "ex1 + ex2"
   ]
  },
  {
   "cell_type": "markdown",
   "id": "a34f44dd",
   "metadata": {},
   "source": [
    "# Example 3 Intresting"
   ]
  },
  {
   "cell_type": "code",
   "execution_count": 32,
   "id": "7985d8c7",
   "metadata": {},
   "outputs": [
    {
     "data": {
      "text/plain": [
       "array([[0],\n",
       "       [1],\n",
       "       [2]])"
      ]
     },
     "execution_count": 32,
     "metadata": {},
     "output_type": "execute_result"
    }
   ],
   "source": [
    "exp1  = np.arange(3).reshape(3,1)\n",
    "exp1"
   ]
  },
  {
   "cell_type": "code",
   "execution_count": 34,
   "id": "89003352",
   "metadata": {},
   "outputs": [
    {
     "data": {
      "text/plain": [
       "array([0, 1, 2])"
      ]
     },
     "execution_count": 34,
     "metadata": {},
     "output_type": "execute_result"
    }
   ],
   "source": [
    "exp2 = np.arange(3)\n",
    "exp2"
   ]
  },
  {
   "cell_type": "code",
   "execution_count": 35,
   "id": "9c46d558",
   "metadata": {},
   "outputs": [
    {
     "name": "stdout",
     "output_type": "stream",
     "text": [
      "(3, 1)\n"
     ]
    }
   ],
   "source": [
    "print(exp1.shape)"
   ]
  },
  {
   "cell_type": "code",
   "execution_count": 36,
   "id": "1c5bbcdc",
   "metadata": {},
   "outputs": [
    {
     "name": "stdout",
     "output_type": "stream",
     "text": [
      "(3,)\n"
     ]
    }
   ],
   "source": [
    "print(exp2.shape)"
   ]
  },
  {
   "cell_type": "markdown",
   "id": "1daba7df",
   "metadata": {},
   "source": [
    "## Now here is the best Sequence"
   ]
  },
  {
   "cell_type": "code",
   "execution_count": 39,
   "id": "03a8d773",
   "metadata": {},
   "outputs": [],
   "source": [
    "# [0 1 2]\n",
    "# --------------\n",
    "# [0 1 2]\n",
    "# [0 1 2]\n",
    "# [0 1 2]"
   ]
  },
  {
   "cell_type": "code",
   "execution_count": 42,
   "id": "f60d20cc",
   "metadata": {},
   "outputs": [],
   "source": [
    "# [0,]\n",
    "# [0,]\n",
    "# [0,]\n",
    "# -------------\n",
    "# [0 1 2]\n",
    "# [0 1 2]\n",
    "# [0 1 2]\n"
   ]
  },
  {
   "cell_type": "markdown",
   "id": "5bbb7181",
   "metadata": {},
   "source": [
    "# now perform operations"
   ]
  },
  {
   "cell_type": "code",
   "execution_count": 45,
   "id": "92feaf0e",
   "metadata": {},
   "outputs": [
    {
     "data": {
      "text/plain": [
       "array([[0, 1, 2],\n",
       "       [1, 2, 3],\n",
       "       [2, 3, 4]])"
      ]
     },
     "execution_count": 45,
     "metadata": {},
     "output_type": "execute_result"
    }
   ],
   "source": [
    "exp1 + exp2"
   ]
  },
  {
   "cell_type": "markdown",
   "id": "40e5f55a",
   "metadata": {},
   "source": [
    "# How to work Broadcasting\n",
    "\n"
   ]
  },
  {
   "cell_type": "markdown",
   "id": "90ebac7e",
   "metadata": {},
   "source": [
    "# Rules\n",
    "\n",
    "## NumPy broadcasting is the ability of NumPy to perform arithmetic operations between arrays with different shapes. When performing operations between arrays with different shapes, NumPy follows a set of broadcasting rules to determine how the operation should be carried out. Here are the rules:\n",
    "<br>\n",
    "\n",
    "- ## Two arrays are compatible for broadcasting if they have the same number of dimensions, and the size of each dimension in one array matches the size of the corresponding dimension in the other array, or if one of the arrays has a size of 1 in that dimension.\n",
    "<br>\n",
    "    \n",
    "- ## If one array has fewer dimensions than the other, the missing dimensions are considered to have a size of 1. This is done by adding new dimensions with a size of 1 to the left of the smaller array's shape until it matches the number of dimensions in the larger array."
   ]
  },
  {
   "cell_type": "markdown",
   "id": "d8910934",
   "metadata": {},
   "source": [
    "# Example"
   ]
  },
  {
   "cell_type": "code",
   "execution_count": 269,
   "id": "11e5c5f9",
   "metadata": {},
   "outputs": [
    {
     "data": {
      "text/plain": [
       "array([[ 0,  1,  2],\n",
       "       [ 3,  4,  5],\n",
       "       [ 6,  7,  8],\n",
       "       [ 9, 10, 11]])"
      ]
     },
     "execution_count": 269,
     "metadata": {},
     "output_type": "execute_result"
    }
   ],
   "source": [
    "a = np.arange(12).reshape(4,3)\n",
    "a"
   ]
  },
  {
   "cell_type": "code",
   "execution_count": 270,
   "id": "323dc76b",
   "metadata": {},
   "outputs": [
    {
     "data": {
      "text/plain": [
       "array([0, 1, 2])"
      ]
     },
     "execution_count": 270,
     "metadata": {},
     "output_type": "execute_result"
    }
   ],
   "source": [
    "b = np.arange(3)\n",
    "b"
   ]
  },
  {
   "cell_type": "markdown",
   "id": "5edc2981",
   "metadata": {},
   "source": [
    "# Step 1 Check Both Demension same ?\n",
    "# if Demenstion are not same than increase Demension in smaller array"
   ]
  },
  {
   "cell_type": "code",
   "execution_count": 234,
   "id": "b972bf97",
   "metadata": {},
   "outputs": [
    {
     "data": {
      "text/plain": [
       "2"
      ]
     },
     "execution_count": 234,
     "metadata": {},
     "output_type": "execute_result"
    }
   ],
   "source": [
    "a.ndim"
   ]
  },
  {
   "cell_type": "code",
   "execution_count": 235,
   "id": "1f2c2908",
   "metadata": {},
   "outputs": [
    {
     "data": {
      "text/plain": [
       "1"
      ]
     },
     "execution_count": 235,
     "metadata": {},
     "output_type": "execute_result"
    }
   ],
   "source": [
    "b.ndim"
   ]
  },
  {
   "cell_type": "code",
   "execution_count": 236,
   "id": "28b9f9b6",
   "metadata": {},
   "outputs": [
    {
     "data": {
      "text/plain": [
       "array([0, 1, 2])"
      ]
     },
     "execution_count": 236,
     "metadata": {},
     "output_type": "execute_result"
    }
   ],
   "source": [
    "b"
   ]
  },
  {
   "cell_type": "code",
   "execution_count": 240,
   "id": "7fd67eb0",
   "metadata": {},
   "outputs": [
    {
     "data": {
      "text/plain": [
       "array([[0, 1, 2]])"
      ]
     },
     "execution_count": 240,
     "metadata": {},
     "output_type": "execute_result"
    }
   ],
   "source": [
    "temp_b = np.array([[0,1,2]])\n",
    "temp_b"
   ]
  },
  {
   "cell_type": "code",
   "execution_count": 241,
   "id": "e7412b17",
   "metadata": {},
   "outputs": [
    {
     "data": {
      "text/plain": [
       "2"
      ]
     },
     "execution_count": 241,
     "metadata": {},
     "output_type": "execute_result"
    }
   ],
   "source": [
    "temp_b.ndim"
   ]
  },
  {
   "cell_type": "markdown",
   "id": "9dabe133",
   "metadata": {},
   "source": [
    "# Step 2 Check both shapes make sure in which right side of the shape are same or in which 1 array of the shape right side are 1 ?"
   ]
  },
  {
   "cell_type": "code",
   "execution_count": 242,
   "id": "05616185",
   "metadata": {},
   "outputs": [
    {
     "data": {
      "text/plain": [
       "(4, 3)"
      ]
     },
     "execution_count": 242,
     "metadata": {},
     "output_type": "execute_result"
    }
   ],
   "source": [
    "a.shape"
   ]
  },
  {
   "cell_type": "code",
   "execution_count": 243,
   "id": "deee018b",
   "metadata": {},
   "outputs": [
    {
     "data": {
      "text/plain": [
       "(1, 3)"
      ]
     },
     "execution_count": 243,
     "metadata": {},
     "output_type": "execute_result"
    }
   ],
   "source": [
    "temp_b.shape"
   ]
  },
  {
   "cell_type": "code",
   "execution_count": 271,
   "id": "1430c43f",
   "metadata": {},
   "outputs": [
    {
     "data": {
      "text/plain": [
       "array([[ 0,  2,  4],\n",
       "       [ 3,  5,  7],\n",
       "       [ 6,  8, 10],\n",
       "       [ 9, 11, 13]])"
      ]
     },
     "execution_count": 271,
     "metadata": {},
     "output_type": "execute_result"
    }
   ],
   "source": [
    "## (4,3) , (1,3) yes 3,3 are exist in both side\n",
    "a + b"
   ]
  },
  {
   "cell_type": "code",
   "execution_count": 57,
   "id": "a3d32ec5",
   "metadata": {},
   "outputs": [
    {
     "data": {
      "text/plain": [
       "array([[ 0,  2,  4],\n",
       "       [ 3,  5,  7],\n",
       "       [ 6,  8, 10],\n",
       "       [ 9, 11, 13]])"
      ]
     },
     "execution_count": 57,
     "metadata": {},
     "output_type": "execute_result"
    }
   ],
   "source": [
    "a + b"
   ]
  },
  {
   "cell_type": "code",
   "execution_count": 245,
   "id": "f6585659",
   "metadata": {},
   "outputs": [
    {
     "data": {
      "text/plain": [
       "array([[ 0,  2,  4],\n",
       "       [ 3,  5,  7],\n",
       "       [ 6,  8, 10],\n",
       "       [ 9, 11, 13]])"
      ]
     },
     "execution_count": 245,
     "metadata": {},
     "output_type": "execute_result"
    }
   ],
   "source": [
    "a + temp_b "
   ]
  },
  {
   "cell_type": "markdown",
   "id": "085e2949",
   "metadata": {},
   "source": [
    "# Both result are same"
   ]
  },
  {
   "cell_type": "markdown",
   "id": "de5b70b9",
   "metadata": {},
   "source": [
    "# Example 2"
   ]
  },
  {
   "cell_type": "code",
   "execution_count": 296,
   "id": "1537cce6",
   "metadata": {},
   "outputs": [
    {
     "data": {
      "text/plain": [
       "array([[ 0,  1,  2,  3],\n",
       "       [ 4,  5,  6,  7],\n",
       "       [ 8,  9, 10, 11]])"
      ]
     },
     "execution_count": 296,
     "metadata": {},
     "output_type": "execute_result"
    }
   ],
   "source": [
    "a = np.arange(12).reshape(3,4)\n",
    "a"
   ]
  },
  {
   "cell_type": "code",
   "execution_count": 297,
   "id": "1e6acb36",
   "metadata": {},
   "outputs": [
    {
     "data": {
      "text/plain": [
       "array([0, 1, 2])"
      ]
     },
     "execution_count": 297,
     "metadata": {},
     "output_type": "execute_result"
    }
   ],
   "source": [
    "b = np.arange(3)\n",
    "b"
   ]
  },
  {
   "cell_type": "markdown",
   "id": "b4991761",
   "metadata": {},
   "source": [
    "# Step 1 Check Both Demension same ?\n",
    "# if Demenstion are not same than increase Demension in smaller array"
   ]
  },
  {
   "cell_type": "code",
   "execution_count": 275,
   "id": "2fb90bee",
   "metadata": {},
   "outputs": [
    {
     "data": {
      "text/plain": [
       "2"
      ]
     },
     "execution_count": 275,
     "metadata": {},
     "output_type": "execute_result"
    }
   ],
   "source": [
    "a.ndim"
   ]
  },
  {
   "cell_type": "code",
   "execution_count": 276,
   "id": "70326641",
   "metadata": {},
   "outputs": [
    {
     "data": {
      "text/plain": [
       "1"
      ]
     },
     "execution_count": 276,
     "metadata": {},
     "output_type": "execute_result"
    }
   ],
   "source": [
    "b.ndim"
   ]
  },
  {
   "cell_type": "code",
   "execution_count": 277,
   "id": "bdf543ec",
   "metadata": {},
   "outputs": [
    {
     "data": {
      "text/plain": [
       "array([0, 1, 2])"
      ]
     },
     "execution_count": 277,
     "metadata": {},
     "output_type": "execute_result"
    }
   ],
   "source": [
    "# increase smaller array demension equal to target demension\n",
    "b"
   ]
  },
  {
   "cell_type": "code",
   "execution_count": 278,
   "id": "9f10ebfe",
   "metadata": {},
   "outputs": [
    {
     "data": {
      "text/plain": [
       "array([[0, 1, 2]])"
      ]
     },
     "execution_count": 278,
     "metadata": {},
     "output_type": "execute_result"
    }
   ],
   "source": [
    "temp_b = np.array([[0,1,2]])\n",
    "temp_b"
   ]
  },
  {
   "cell_type": "code",
   "execution_count": 279,
   "id": "1aec7199",
   "metadata": {},
   "outputs": [
    {
     "data": {
      "text/plain": [
       "2"
      ]
     },
     "execution_count": 279,
     "metadata": {},
     "output_type": "execute_result"
    }
   ],
   "source": [
    "temp_b.ndim"
   ]
  },
  {
   "cell_type": "markdown",
   "id": "463e0c1c",
   "metadata": {},
   "source": [
    "# Step 2 Check both shapes make sure in which right side of the shape are same or in which 1 array of the shape right side are 1 ?"
   ]
  },
  {
   "cell_type": "code",
   "execution_count": 280,
   "id": "ca5b865c",
   "metadata": {},
   "outputs": [
    {
     "data": {
      "text/plain": [
       "(3, 4)"
      ]
     },
     "execution_count": 280,
     "metadata": {},
     "output_type": "execute_result"
    }
   ],
   "source": [
    "a.shape"
   ]
  },
  {
   "cell_type": "code",
   "execution_count": 281,
   "id": "e045f5cd",
   "metadata": {},
   "outputs": [
    {
     "data": {
      "text/plain": [
       "(1, 3)"
      ]
     },
     "execution_count": 281,
     "metadata": {},
     "output_type": "execute_result"
    }
   ],
   "source": [
    "temp_b.shape"
   ]
  },
  {
   "cell_type": "code",
   "execution_count": 298,
   "id": "08e670aa",
   "metadata": {},
   "outputs": [
    {
     "ename": "ValueError",
     "evalue": "operands could not be broadcast together with shapes (3,4) (3,) ",
     "output_type": "error",
     "traceback": [
      "\u001b[0;31m---------------------------------------------------------------------------\u001b[0m",
      "\u001b[0;31mValueError\u001b[0m                                Traceback (most recent call last)",
      "Cell \u001b[0;32mIn [298], line 2\u001b[0m\n\u001b[1;32m      1\u001b[0m \u001b[38;5;66;03m# (3,4) , (1,3)  --> 4,3 both are not same so broadcasting not possible \u001b[39;00m\n\u001b[0;32m----> 2\u001b[0m \u001b[43ma\u001b[49m\u001b[43m \u001b[49m\u001b[38;5;241;43m+\u001b[39;49m\u001b[43m \u001b[49m\u001b[43mb\u001b[49m\n",
      "\u001b[0;31mValueError\u001b[0m: operands could not be broadcast together with shapes (3,4) (3,) "
     ]
    }
   ],
   "source": [
    "# (3,4) , (1,3)  --> 4,3 both are not same so broadcasting not possible \n",
    "a + b"
   ]
  },
  {
   "cell_type": "markdown",
   "id": "fe52ccf5",
   "metadata": {},
   "source": [
    "# Example 3"
   ]
  },
  {
   "cell_type": "code",
   "execution_count": 299,
   "id": "1de4cd9d",
   "metadata": {},
   "outputs": [
    {
     "data": {
      "text/plain": [
       "array([[0, 1, 2]])"
      ]
     },
     "execution_count": 299,
     "metadata": {},
     "output_type": "execute_result"
    }
   ],
   "source": [
    "a = np.arange(3).reshape(1,3)\n",
    "a "
   ]
  },
  {
   "cell_type": "code",
   "execution_count": 300,
   "id": "724837b7",
   "metadata": {},
   "outputs": [
    {
     "data": {
      "text/plain": [
       "array([[0],\n",
       "       [1],\n",
       "       [2]])"
      ]
     },
     "execution_count": 300,
     "metadata": {},
     "output_type": "execute_result"
    }
   ],
   "source": [
    "b = np.arange(3).reshape(3,1)\n",
    "b"
   ]
  },
  {
   "cell_type": "markdown",
   "id": "05e05ae7",
   "metadata": {},
   "source": [
    "# Step 1 Check Both Demension same ?\n",
    "# if Demenstion are not same than increase Demension in smaller array"
   ]
  },
  {
   "cell_type": "code",
   "execution_count": 291,
   "id": "1426a501",
   "metadata": {},
   "outputs": [
    {
     "data": {
      "text/plain": [
       "2"
      ]
     },
     "execution_count": 291,
     "metadata": {},
     "output_type": "execute_result"
    }
   ],
   "source": [
    "a.ndim"
   ]
  },
  {
   "cell_type": "code",
   "execution_count": 292,
   "id": "48671dc0",
   "metadata": {},
   "outputs": [
    {
     "data": {
      "text/plain": [
       "2"
      ]
     },
     "execution_count": 292,
     "metadata": {},
     "output_type": "execute_result"
    }
   ],
   "source": [
    "b.ndim"
   ]
  },
  {
   "cell_type": "markdown",
   "id": "bbc2f1a9",
   "metadata": {},
   "source": [
    "# Step 2 Check both shapes make sure in which right side of the shape are same or in which 1 array of the shape right side are 1 ?"
   ]
  },
  {
   "cell_type": "code",
   "execution_count": 301,
   "id": "8d7bf4d0",
   "metadata": {},
   "outputs": [
    {
     "data": {
      "text/plain": [
       "(1, 3)"
      ]
     },
     "execution_count": 301,
     "metadata": {},
     "output_type": "execute_result"
    }
   ],
   "source": [
    "a.shape"
   ]
  },
  {
   "cell_type": "code",
   "execution_count": 302,
   "id": "f4d359a2",
   "metadata": {},
   "outputs": [
    {
     "data": {
      "text/plain": [
       "(3, 1)"
      ]
     },
     "execution_count": 302,
     "metadata": {},
     "output_type": "execute_result"
    }
   ],
   "source": [
    "b.shape"
   ]
  },
  {
   "cell_type": "code",
   "execution_count": 303,
   "id": "69858e64",
   "metadata": {},
   "outputs": [
    {
     "data": {
      "text/plain": [
       "array([[0, 1, 2],\n",
       "       [1, 2, 3],\n",
       "       [2, 3, 4]])"
      ]
     },
     "execution_count": 303,
     "metadata": {},
     "output_type": "execute_result"
    }
   ],
   "source": [
    "# (1,3) (3,1) here 3,1 not same but 1 are include that means broadcasting are possible\n",
    "a + b"
   ]
  },
  {
   "cell_type": "markdown",
   "id": "89820701",
   "metadata": {},
   "source": [
    "## Example 4"
   ]
  },
  {
   "cell_type": "code",
   "execution_count": 308,
   "id": "a4682b5e",
   "metadata": {},
   "outputs": [
    {
     "data": {
      "text/plain": [
       "array([[0, 1, 2]])"
      ]
     },
     "execution_count": 308,
     "metadata": {},
     "output_type": "execute_result"
    }
   ],
   "source": [
    "a = np.arange(3).reshape(1,3)\n",
    "a"
   ]
  },
  {
   "cell_type": "code",
   "execution_count": 309,
   "id": "e897e42e",
   "metadata": {},
   "outputs": [
    {
     "data": {
      "text/plain": [
       "array([[0],\n",
       "       [1],\n",
       "       [2],\n",
       "       [3]])"
      ]
     },
     "execution_count": 309,
     "metadata": {},
     "output_type": "execute_result"
    }
   ],
   "source": [
    "b = np.arange(4).reshape(4,1)\n",
    "b"
   ]
  },
  {
   "cell_type": "markdown",
   "id": "b27e555d",
   "metadata": {},
   "source": [
    "# Step 1 Check Both Demension same ?\n",
    "# if Demenstion are not same than increase Demension in smaller array"
   ]
  },
  {
   "cell_type": "code",
   "execution_count": 310,
   "id": "8a03e886",
   "metadata": {},
   "outputs": [
    {
     "data": {
      "text/plain": [
       "2"
      ]
     },
     "execution_count": 310,
     "metadata": {},
     "output_type": "execute_result"
    }
   ],
   "source": [
    "a.ndim"
   ]
  },
  {
   "cell_type": "code",
   "execution_count": 311,
   "id": "b5d85847",
   "metadata": {},
   "outputs": [
    {
     "data": {
      "text/plain": [
       "2"
      ]
     },
     "execution_count": 311,
     "metadata": {},
     "output_type": "execute_result"
    }
   ],
   "source": [
    "b.ndim"
   ]
  },
  {
   "cell_type": "markdown",
   "id": "481ccd49",
   "metadata": {},
   "source": [
    "# Step 2 Check both shapes make sure in which right side of the shape are same or in which 1 array of the shape right side are 1 ?"
   ]
  },
  {
   "cell_type": "code",
   "execution_count": 312,
   "id": "be9a2b37",
   "metadata": {},
   "outputs": [
    {
     "data": {
      "text/plain": [
       "(1, 3)"
      ]
     },
     "execution_count": 312,
     "metadata": {},
     "output_type": "execute_result"
    }
   ],
   "source": [
    "a.shape"
   ]
  },
  {
   "cell_type": "code",
   "execution_count": 313,
   "id": "76b06151",
   "metadata": {},
   "outputs": [
    {
     "data": {
      "text/plain": [
       "(4, 1)"
      ]
     },
     "execution_count": 313,
     "metadata": {},
     "output_type": "execute_result"
    }
   ],
   "source": [
    "b.shape"
   ]
  },
  {
   "cell_type": "code",
   "execution_count": 314,
   "id": "625261ea",
   "metadata": {},
   "outputs": [
    {
     "data": {
      "text/plain": [
       "array([[0, 1, 2],\n",
       "       [1, 2, 3],\n",
       "       [2, 3, 4],\n",
       "       [3, 4, 5]])"
      ]
     },
     "execution_count": 314,
     "metadata": {},
     "output_type": "execute_result"
    }
   ],
   "source": [
    "# (1,3) (4,1) 3,1 both not same but 1 are include thats means broadcasting possible\n",
    "a + b"
   ]
  },
  {
   "cell_type": "markdown",
   "id": "47643527",
   "metadata": {},
   "source": [
    "# Example 5"
   ]
  },
  {
   "cell_type": "code",
   "execution_count": 317,
   "id": "d2b05e13",
   "metadata": {},
   "outputs": [
    {
     "data": {
      "text/plain": [
       "array([1])"
      ]
     },
     "execution_count": 317,
     "metadata": {},
     "output_type": "execute_result"
    }
   ],
   "source": [
    "a = np.array([1])\n",
    "a"
   ]
  },
  {
   "cell_type": "code",
   "execution_count": 318,
   "id": "bb964555",
   "metadata": {},
   "outputs": [
    {
     "data": {
      "text/plain": [
       "array([[0, 1],\n",
       "       [2, 3]])"
      ]
     },
     "execution_count": 318,
     "metadata": {},
     "output_type": "execute_result"
    }
   ],
   "source": [
    "b = np.arange(4).reshape(2,2)\n",
    "b"
   ]
  },
  {
   "cell_type": "markdown",
   "id": "579e3aa1",
   "metadata": {},
   "source": [
    "# Step 1 Check Both Demension same ?\n",
    "# if Demenstion are not same than increase Demension in smaller array"
   ]
  },
  {
   "cell_type": "code",
   "execution_count": 319,
   "id": "69d12097",
   "metadata": {},
   "outputs": [
    {
     "data": {
      "text/plain": [
       "1"
      ]
     },
     "execution_count": 319,
     "metadata": {},
     "output_type": "execute_result"
    }
   ],
   "source": [
    "a.ndim"
   ]
  },
  {
   "cell_type": "code",
   "execution_count": 320,
   "id": "7a64b403",
   "metadata": {},
   "outputs": [
    {
     "data": {
      "text/plain": [
       "2"
      ]
     },
     "execution_count": 320,
     "metadata": {},
     "output_type": "execute_result"
    }
   ],
   "source": [
    "b.ndim"
   ]
  },
  {
   "cell_type": "code",
   "execution_count": 321,
   "id": "a9fe9918",
   "metadata": {},
   "outputs": [
    {
     "data": {
      "text/plain": [
       "array([1])"
      ]
     },
     "execution_count": 321,
     "metadata": {},
     "output_type": "execute_result"
    }
   ],
   "source": [
    "a"
   ]
  },
  {
   "cell_type": "code",
   "execution_count": 322,
   "id": "b45db710",
   "metadata": {},
   "outputs": [
    {
     "data": {
      "text/plain": [
       "array([[1]])"
      ]
     },
     "execution_count": 322,
     "metadata": {},
     "output_type": "execute_result"
    }
   ],
   "source": [
    "# increase demension of smaller array\n",
    "temp_a = np.array([[1]])\n",
    "temp_a"
   ]
  },
  {
   "cell_type": "code",
   "execution_count": 324,
   "id": "75b9430a",
   "metadata": {},
   "outputs": [
    {
     "data": {
      "text/plain": [
       "2"
      ]
     },
     "execution_count": 324,
     "metadata": {},
     "output_type": "execute_result"
    }
   ],
   "source": [
    "temp_a.ndim"
   ]
  },
  {
   "cell_type": "markdown",
   "id": "6b867efb",
   "metadata": {},
   "source": [
    "# Step 2 Check both shapes make sure in which right side of the shape are same or in which 1 array of the shape right side are 1 ?"
   ]
  },
  {
   "cell_type": "code",
   "execution_count": 325,
   "id": "d4018b12",
   "metadata": {},
   "outputs": [
    {
     "data": {
      "text/plain": [
       "(1, 1)"
      ]
     },
     "execution_count": 325,
     "metadata": {},
     "output_type": "execute_result"
    }
   ],
   "source": [
    "temp_a.shape"
   ]
  },
  {
   "cell_type": "code",
   "execution_count": 326,
   "id": "2aabfd03",
   "metadata": {},
   "outputs": [
    {
     "data": {
      "text/plain": [
       "(2, 2)"
      ]
     },
     "execution_count": 326,
     "metadata": {},
     "output_type": "execute_result"
    }
   ],
   "source": [
    "b.shape"
   ]
  },
  {
   "cell_type": "code",
   "execution_count": 327,
   "id": "9572ab33",
   "metadata": {},
   "outputs": [
    {
     "data": {
      "text/plain": [
       "array([[1, 2],\n",
       "       [3, 4]])"
      ]
     },
     "execution_count": 327,
     "metadata": {},
     "output_type": "execute_result"
    }
   ],
   "source": [
    "# (1,1) (2,2) 1,2 not same but 1 are include\n",
    "temp_a + b"
   ]
  },
  {
   "cell_type": "code",
   "execution_count": 329,
   "id": "011ef559",
   "metadata": {},
   "outputs": [
    {
     "data": {
      "text/plain": [
       "array([[1, 2],\n",
       "       [3, 4]])"
      ]
     },
     "execution_count": 329,
     "metadata": {},
     "output_type": "execute_result"
    }
   ],
   "source": [
    "a + b # both result are same"
   ]
  },
  {
   "cell_type": "markdown",
   "id": "ac8a97ba",
   "metadata": {},
   "source": [
    "# Example 6"
   ]
  },
  {
   "cell_type": "code",
   "execution_count": 330,
   "id": "22bcd4fa",
   "metadata": {},
   "outputs": [
    {
     "data": {
      "text/plain": [
       "array([[ 0,  1,  2,  3],\n",
       "       [ 4,  5,  6,  7],\n",
       "       [ 8,  9, 10, 11],\n",
       "       [12, 13, 14, 15]])"
      ]
     },
     "execution_count": 330,
     "metadata": {},
     "output_type": "execute_result"
    }
   ],
   "source": [
    "a = np.arange(16).reshape(4,4)\n",
    "a"
   ]
  },
  {
   "cell_type": "code",
   "execution_count": 331,
   "id": "1fc70dfc",
   "metadata": {},
   "outputs": [
    {
     "data": {
      "text/plain": [
       "array([[0, 1],\n",
       "       [2, 3]])"
      ]
     },
     "execution_count": 331,
     "metadata": {},
     "output_type": "execute_result"
    }
   ],
   "source": [
    "b = np.arange(4).reshape(2,2)\n",
    "b"
   ]
  },
  {
   "cell_type": "markdown",
   "id": "be11e157",
   "metadata": {},
   "source": [
    "# Step 1 Check Both Demension same ?\n",
    "# if Demenstion are not same than increase Demension in smaller array"
   ]
  },
  {
   "cell_type": "code",
   "execution_count": 332,
   "id": "34fe0c73",
   "metadata": {},
   "outputs": [
    {
     "data": {
      "text/plain": [
       "2"
      ]
     },
     "execution_count": 332,
     "metadata": {},
     "output_type": "execute_result"
    }
   ],
   "source": [
    "a.ndim"
   ]
  },
  {
   "cell_type": "code",
   "execution_count": 333,
   "id": "f439c1c1",
   "metadata": {},
   "outputs": [
    {
     "data": {
      "text/plain": [
       "2"
      ]
     },
     "execution_count": 333,
     "metadata": {},
     "output_type": "execute_result"
    }
   ],
   "source": [
    "b.ndim"
   ]
  },
  {
   "cell_type": "markdown",
   "id": "d5e7fa8a",
   "metadata": {},
   "source": [
    "# Step 2 Check both shapes make sure in which right side of the shape are same or in which 1 array of the shape right side are 1 ?"
   ]
  },
  {
   "cell_type": "code",
   "execution_count": 334,
   "id": "fa8c877b",
   "metadata": {},
   "outputs": [
    {
     "data": {
      "text/plain": [
       "(4, 4)"
      ]
     },
     "execution_count": 334,
     "metadata": {},
     "output_type": "execute_result"
    }
   ],
   "source": [
    "a.shape"
   ]
  },
  {
   "cell_type": "code",
   "execution_count": 335,
   "id": "b6894951",
   "metadata": {},
   "outputs": [
    {
     "data": {
      "text/plain": [
       "(2, 2)"
      ]
     },
     "execution_count": 335,
     "metadata": {},
     "output_type": "execute_result"
    }
   ],
   "source": [
    "b.shape"
   ]
  },
  {
   "cell_type": "code",
   "execution_count": 336,
   "id": "34b539a3",
   "metadata": {},
   "outputs": [
    {
     "ename": "ValueError",
     "evalue": "operands could not be broadcast together with shapes (4,4) (2,2) ",
     "output_type": "error",
     "traceback": [
      "\u001b[0;31m---------------------------------------------------------------------------\u001b[0m",
      "\u001b[0;31mValueError\u001b[0m                                Traceback (most recent call last)",
      "Cell \u001b[0;32mIn [336], line 2\u001b[0m\n\u001b[1;32m      1\u001b[0m \u001b[38;5;66;03m# (4,4) , (2,2) 4,2 not same and also 1 are not include thats means broadcasting are not possible\u001b[39;00m\n\u001b[0;32m----> 2\u001b[0m \u001b[43ma\u001b[49m\u001b[43m \u001b[49m\u001b[38;5;241;43m+\u001b[39;49m\u001b[43m \u001b[49m\u001b[43mb\u001b[49m\n",
      "\u001b[0;31mValueError\u001b[0m: operands could not be broadcast together with shapes (4,4) (2,2) "
     ]
    }
   ],
   "source": [
    "# (4,4) , (2,2) 4,2 not same and also 1 are not include thats means broadcasting are not possible\n",
    "a + b"
   ]
  }
 ],
 "metadata": {
  "kernelspec": {
   "display_name": "Python 3 (ipykernel)",
   "language": "python",
   "name": "python3"
  },
  "language_info": {
   "codemirror_mode": {
    "name": "ipython",
    "version": 3
   },
   "file_extension": ".py",
   "mimetype": "text/x-python",
   "name": "python",
   "nbconvert_exporter": "python",
   "pygments_lexer": "ipython3",
   "version": "3.10.6"
  }
 },
 "nbformat": 4,
 "nbformat_minor": 5
}

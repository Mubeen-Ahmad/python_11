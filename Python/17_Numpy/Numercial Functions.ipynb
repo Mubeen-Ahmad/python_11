{
 "cells": [
  {
   "cell_type": "markdown",
   "id": "dcd3011c",
   "metadata": {},
   "source": [
    "# Numpy's numerical ranges functions are used to analyze and manipulate data in arrays. These functions are very useful for scientific computing."
   ]
  },
  {
   "cell_type": "markdown",
   "id": "9efb63e1",
   "metadata": {},
   "source": [
    "- ## *np.arange()*\n",
    "- ## *np.linespace()*\n",
    "- ## *np.logspace()*\n",
    "- ## *np.geomspace()*\n",
    "- ## *np.meshgrid()*\n",
    "- ## *np.mgrid()*\n",
    "- ## *np.ogrid()*"
   ]
  },
  {
   "cell_type": "markdown",
   "id": "a35ee1de",
   "metadata": {},
   "source": [
    "# *np.arange()*\n",
    "<br>\n",
    "\n",
    "- ### The numpy arange() function is used to generate a numpy array (sequence). Through this function, we can specify the range of the array elements, the step size between consecutive elements, and whether the range is inclusive or exclusive.\n",
    "<br>\n",
    "\n",
    "- ### This function typically has three arguments: start, stop, and step. We use the start argument to specify the first element of the array, the stop argument to specify the last element of the array, and the step argument to specify the difference between consecutive elements.\n",
    "<br>\n",
    "\n",
    "- ### For example, if we use arange(0, 10, 2), it will generate the [0, 2, 4, 6, 8] array where the start value is 0, the stop value is 10 (exclusive), and the step size is 2.\n",
    "<br>\n",
    "\n",
    "# Parameters\n",
    "<br>\n",
    "\n",
    "- ## start Optional\n",
    "- ## end Required\n",
    "- ## skip Optional\n",
    "- ## dtype Optional"
   ]
  },
  {
   "cell_type": "code",
   "execution_count": 1,
   "id": "e788a5be",
   "metadata": {},
   "outputs": [],
   "source": [
    "import numpy as np"
   ]
  },
  {
   "cell_type": "code",
   "execution_count": 2,
   "id": "09bd579a",
   "metadata": {},
   "outputs": [
    {
     "data": {
      "text/plain": [
       "array([0, 1, 2])"
      ]
     },
     "execution_count": 2,
     "metadata": {},
     "output_type": "execute_result"
    }
   ],
   "source": [
    "np.arange(3)"
   ]
  },
  {
   "cell_type": "code",
   "execution_count": 3,
   "id": "831514fa",
   "metadata": {},
   "outputs": [
    {
     "data": {
      "text/plain": [
       "array([1, 2, 3])"
      ]
     },
     "execution_count": 3,
     "metadata": {},
     "output_type": "execute_result"
    }
   ],
   "source": [
    "# start 1 ,\n",
    "# end 4 (n-1)\n",
    "np.arange(1,4)"
   ]
  },
  {
   "cell_type": "code",
   "execution_count": 4,
   "id": "9bdbe292",
   "metadata": {},
   "outputs": [
    {
     "data": {
      "text/plain": [
       "array([1, 3, 5, 7, 9])"
      ]
     },
     "execution_count": 4,
     "metadata": {},
     "output_type": "execute_result"
    }
   ],
   "source": [
    "# skip argument\n",
    "np.arange(1,11,2)"
   ]
  },
  {
   "cell_type": "code",
   "execution_count": 5,
   "id": "85548197",
   "metadata": {},
   "outputs": [
    {
     "data": {
      "text/plain": [
       "array([-3, -2, -1,  0,  1,  2,  3])"
      ]
     },
     "execution_count": 5,
     "metadata": {},
     "output_type": "execute_result"
    }
   ],
   "source": [
    "# also use reverse parameters\n",
    "np.arange(-3,4)"
   ]
  },
  {
   "cell_type": "markdown",
   "id": "0b099b17",
   "metadata": {},
   "source": [
    "# *np.linespace()*\n",
    "<br>\n",
    "\n",
    "- ### The np.linspace() function of numpy is used to generate elements of a numpy array. This function generates a specific number of evenly spaced elements between the start value and the stop value of the array.\n",
    "<br>\n",
    "\n",
    "- ### The linspace() function is also used for creating graphs and plots where we need evenly spaced values for the x-axis. Apart from this, there are many other numerical range functions in numpy that are used for analyzing and manipulating data in arrays.\n",
    "<br>\n",
    "\n",
    "# Parameters\n",
    "<br>\n",
    "\n",
    "- ## start\n",
    "- ## stop\n",
    "- ## num\n",
    "- ## endpoint\n",
    "- ## retstep\n",
    "- ## dtype"
   ]
  },
  {
   "cell_type": "code",
   "execution_count": 6,
   "id": "f951e63e",
   "metadata": {},
   "outputs": [
    {
     "data": {
      "text/plain": [
       "array([1., 2., 3., 4., 5., 6.])"
      ]
     },
     "execution_count": 6,
     "metadata": {},
     "output_type": "execute_result"
    }
   ],
   "source": [
    "start = 1\n",
    "end = 6\n",
    "num = 6\n",
    "np.linspace(start,end,num)"
   ]
  },
  {
   "cell_type": "code",
   "execution_count": 7,
   "id": "d52b7466",
   "metadata": {},
   "outputs": [
    {
     "data": {
      "text/plain": [
       "array([1. , 3.5, 6. ])"
      ]
     },
     "execution_count": 7,
     "metadata": {},
     "output_type": "execute_result"
    }
   ],
   "source": [
    "start = 1\n",
    "end = 6\n",
    "num = 3\n",
    "np.linspace(start,end,num)"
   ]
  },
  {
   "cell_type": "code",
   "execution_count": 8,
   "id": "59692ce3",
   "metadata": {},
   "outputs": [
    {
     "data": {
      "text/plain": [
       "array([1.        , 1.55555556, 2.11111111, 2.66666667, 3.22222222,\n",
       "       3.77777778, 4.33333333, 4.88888889, 5.44444444, 6.        ])"
      ]
     },
     "execution_count": 8,
     "metadata": {},
     "output_type": "execute_result"
    }
   ],
   "source": [
    "start = 1\n",
    "end = 6\n",
    "num = 10\n",
    "np.linspace(start,end,num,retstep=False)"
   ]
  },
  {
   "cell_type": "code",
   "execution_count": 9,
   "id": "78caf185",
   "metadata": {},
   "outputs": [
    {
     "data": {
      "text/plain": [
       "(array([1.        , 1.55555556, 2.11111111, 2.66666667, 3.22222222,\n",
       "        3.77777778, 4.33333333, 4.88888889, 5.44444444, 6.        ]),\n",
       " 0.5555555555555556)"
      ]
     },
     "execution_count": 9,
     "metadata": {},
     "output_type": "execute_result"
    }
   ],
   "source": [
    "np.linspace(start,end,num,retstep=True)"
   ]
  },
  {
   "cell_type": "code",
   "execution_count": 10,
   "id": "e9f17e31",
   "metadata": {},
   "outputs": [
    {
     "data": {
      "text/plain": [
       "(array([1. , 1.5, 2. , 2.5, 3. , 3.5, 4. , 4.5, 5. , 5.5]), 0.5)"
      ]
     },
     "execution_count": 10,
     "metadata": {},
     "output_type": "execute_result"
    }
   ],
   "source": [
    "np.linspace(start,end,num,retstep=True,endpoint=False)"
   ]
  },
  {
   "cell_type": "code",
   "execution_count": 11,
   "id": "f510adf3",
   "metadata": {},
   "outputs": [
    {
     "data": {
      "text/plain": [
       "(array([1, 1, 2, 2, 3, 3, 4, 4, 5, 5]), 0.5)"
      ]
     },
     "execution_count": 11,
     "metadata": {},
     "output_type": "execute_result"
    }
   ],
   "source": [
    "np.linspace(start,end,num,retstep=True,endpoint=False,dtype=int)"
   ]
  },
  {
   "cell_type": "markdown",
   "id": "062b4a0a",
   "metadata": {},
   "source": [
    "# *np.logspace()*\n",
    "<br>\n",
    "\n",
    "- ### The numpy.logspace() function in NumPy helps us generate numbers on a logarithmic scale, i.e., logarithmically spaced numbers.\n",
    "<br>\n",
    "\n",
    "- ### The numbers generated by the logspace() function are evenly spaced on a logarithmic scale, which is quite useful for scientific and engineering calculations.\n",
    "<br>\n",
    "\n",
    "- ### This function is very useful in data analysis where we need to analyze data on a logarithmic scale.\n",
    "<br>\n",
    "\n",
    "# Parameters\n",
    "<br>\n",
    "\n",
    "- ## start\n",
    "- ## stop\n",
    "- ## num\n",
    "- ## endpoint\n",
    "- ## base\n",
    "- ## dtype\n",
    "- ## axis"
   ]
  },
  {
   "cell_type": "code",
   "execution_count": 16,
   "id": "c4ffaa90",
   "metadata": {},
   "outputs": [
    {
     "data": {
      "text/plain": [
       "array([1.00000000e+01, 3.16227766e+06, 1.00000000e+12])"
      ]
     },
     "execution_count": 16,
     "metadata": {},
     "output_type": "execute_result"
    }
   ],
   "source": [
    "start = 1\n",
    "stop = 12\n",
    "np.logspace(start=start,stop=stop,num=3)"
   ]
  },
  {
   "cell_type": "code",
   "execution_count": 26,
   "id": "b7e1ff42",
   "metadata": {},
   "outputs": [
    {
     "data": {
      "text/plain": [
       "array([1.e+01, 1.e+02, 1.e+03, 1.e+04, 1.e+05, 1.e+06])"
      ]
     },
     "execution_count": 26,
     "metadata": {},
     "output_type": "execute_result"
    }
   ],
   "source": [
    "start = 1\n",
    "stop = 6\n",
    "np.logspace(start=start,stop=stop,num=6)"
   ]
  },
  {
   "cell_type": "code",
   "execution_count": 27,
   "id": "15cc5104",
   "metadata": {},
   "outputs": [
    {
     "data": {
      "text/plain": [
       "array([     10,     100,    1000,   10000,  100000, 1000000])"
      ]
     },
     "execution_count": 27,
     "metadata": {},
     "output_type": "execute_result"
    }
   ],
   "source": [
    "start = 1\n",
    "stop = 6\n",
    "np.logspace(start=start,stop=stop,num=6,dtype=int)"
   ]
  },
  {
   "cell_type": "code",
   "execution_count": 30,
   "id": "cfb5f3ec",
   "metadata": {},
   "outputs": [
    {
     "data": {
      "text/plain": [
       "array([1.00000000e+01, 6.81292069e+01, 4.64158883e+02, 3.16227766e+03,\n",
       "       2.15443469e+04, 1.46779927e+05])"
      ]
     },
     "execution_count": 30,
     "metadata": {},
     "output_type": "execute_result"
    }
   ],
   "source": [
    "np.logspace(start=start,stop=stop,num=6,dtype=float,endpoint=False)"
   ]
  },
  {
   "cell_type": "code",
   "execution_count": 36,
   "id": "abb02e37",
   "metadata": {},
   "outputs": [
    {
     "data": {
      "text/plain": [
       "array([ 2.        ,  3.56359487,  6.34960421, 11.3137085 , 20.1587368 ,\n",
       "       35.91878555])"
      ]
     },
     "execution_count": 36,
     "metadata": {},
     "output_type": "execute_result"
    }
   ],
   "source": [
    "np.logspace(start=start,stop=stop,num=6,dtype=float,endpoint=False,base=2)"
   ]
  },
  {
   "cell_type": "markdown",
   "id": "d2e8546d",
   "metadata": {},
   "source": [
    "# *np.geomspace()*\n",
    "<br>\n",
    "\n",
    "- ### The geomspace() function in NumPy helps us generate geometrically spaced numbers. With this function, we can generate numbers in a geometric progression.\n",
    "<br>\n",
    "\n",
    "- ### The numbers generated by the geomspace() function are evenly spaced in a geometric progression. This means that the numbers are generated by multiplying a fixed multiplier.\n",
    "<br>\n",
    "\n",
    "- ### This function is useful in scientific and engineering calculations where data analysis needs to be performed in a geometric progression.\n",
    "<br>\n",
    "\n",
    "# Parameters\n",
    "<br>\n",
    "\n",
    "- ## start\n",
    "- ## stop\n",
    "- ## num\n",
    "- ## endpoint\n",
    "- ## dtype\n",
    "- ## axis"
   ]
  },
  {
   "cell_type": "code",
   "execution_count": 39,
   "id": "98f85891",
   "metadata": {},
   "outputs": [
    {
     "data": {
      "text/plain": [
       "array([ 1.        ,  3.46410162, 12.        ])"
      ]
     },
     "execution_count": 39,
     "metadata": {},
     "output_type": "execute_result"
    }
   ],
   "source": [
    "start = 1\n",
    "stop = 12\n",
    "np.geomspace(start=start,stop=stop,num=3)"
   ]
  },
  {
   "cell_type": "code",
   "execution_count": 40,
   "id": "128054d2",
   "metadata": {},
   "outputs": [
    {
     "data": {
      "text/plain": [
       "array([1.        , 1.43096908, 2.04767251, 2.93015605, 4.19296271,\n",
       "       6.        ])"
      ]
     },
     "execution_count": 40,
     "metadata": {},
     "output_type": "execute_result"
    }
   ],
   "source": [
    "start = 1\n",
    "stop = 6\n",
    "np.geomspace(start=start,stop=stop,num=6)"
   ]
  },
  {
   "cell_type": "code",
   "execution_count": 41,
   "id": "2c874bcb",
   "metadata": {},
   "outputs": [
    {
     "data": {
      "text/plain": [
       "array([1, 1, 2, 2, 4, 6])"
      ]
     },
     "execution_count": 41,
     "metadata": {},
     "output_type": "execute_result"
    }
   ],
   "source": [
    "start = 1\n",
    "stop = 6\n",
    "np.geomspace(start=start,stop=stop,num=6,dtype=int)"
   ]
  },
  {
   "cell_type": "code",
   "execution_count": 42,
   "id": "f1cd1d21",
   "metadata": {},
   "outputs": [
    {
     "data": {
      "text/plain": [
       "array([1.        , 1.34800615, 1.81712059, 2.44948974, 3.30192725,\n",
       "       4.45101825])"
      ]
     },
     "execution_count": 42,
     "metadata": {},
     "output_type": "execute_result"
    }
   ],
   "source": [
    "np.geomspace(start=start,stop=stop,num=6,dtype=float,endpoint=False)"
   ]
  },
  {
   "cell_type": "markdown",
   "id": "cd300f8b",
   "metadata": {},
   "source": [
    "# np.meshgrid()\n",
    "<br>\n",
    "\n",
    "- ### The NumPy meshgrid() function helps us generate a mesh grid. A mesh grid means defining a plane or a grid in which our data points are located.\n",
    "<br>\n",
    "\n",
    "- ### The meshgrid() function returns a 2D numpy array with coordinates for both axes. It is commonly used in data visualization and plotting.\n",
    "<br>\n",
    "\n",
    "# Parameters\n",
    "<br>\n",
    "\n",
    "- ## *xi\n",
    "- ## copy\n",
    "- ## sparse\n",
    "- ## indexing"
   ]
  },
  {
   "cell_type": "code",
   "execution_count": 44,
   "id": "b70d80e2",
   "metadata": {},
   "outputs": [],
   "source": [
    "x = np.array([1, 2, 3, 4])\n",
    "y = np.array([5, 6, 7])"
   ]
  },
  {
   "cell_type": "code",
   "execution_count": 45,
   "id": "79c4cc45",
   "metadata": {},
   "outputs": [
    {
     "data": {
      "text/plain": [
       "array([1, 2, 3, 4])"
      ]
     },
     "execution_count": 45,
     "metadata": {},
     "output_type": "execute_result"
    }
   ],
   "source": [
    "x"
   ]
  },
  {
   "cell_type": "code",
   "execution_count": 46,
   "id": "9532edc1",
   "metadata": {},
   "outputs": [
    {
     "data": {
      "text/plain": [
       "array([5, 6, 7])"
      ]
     },
     "execution_count": 46,
     "metadata": {},
     "output_type": "execute_result"
    }
   ],
   "source": [
    "y"
   ]
  },
  {
   "cell_type": "code",
   "execution_count": 47,
   "id": "a1c4e42b",
   "metadata": {},
   "outputs": [
    {
     "data": {
      "text/plain": [
       "[array([[1, 2, 3, 4],\n",
       "        [1, 2, 3, 4],\n",
       "        [1, 2, 3, 4]]),\n",
       " array([[5, 5, 5, 5],\n",
       "        [6, 6, 6, 6],\n",
       "        [7, 7, 7, 7]])]"
      ]
     },
     "execution_count": 47,
     "metadata": {},
     "output_type": "execute_result"
    }
   ],
   "source": [
    "np.meshgrid(x,y)"
   ]
  },
  {
   "cell_type": "code",
   "execution_count": 48,
   "id": "c1852e1f",
   "metadata": {},
   "outputs": [],
   "source": [
    "xx,yy = np.meshgrid(x,y)"
   ]
  },
  {
   "cell_type": "code",
   "execution_count": 49,
   "id": "bcbc9cb5",
   "metadata": {},
   "outputs": [
    {
     "data": {
      "text/plain": [
       "array([[1, 2, 3, 4],\n",
       "       [1, 2, 3, 4],\n",
       "       [1, 2, 3, 4]])"
      ]
     },
     "execution_count": 49,
     "metadata": {},
     "output_type": "execute_result"
    }
   ],
   "source": [
    "xx"
   ]
  },
  {
   "cell_type": "code",
   "execution_count": 50,
   "id": "0d3b9207",
   "metadata": {},
   "outputs": [
    {
     "data": {
      "text/plain": [
       "array([[5, 5, 5, 5],\n",
       "       [6, 6, 6, 6],\n",
       "       [7, 7, 7, 7]])"
      ]
     },
     "execution_count": 50,
     "metadata": {},
     "output_type": "execute_result"
    }
   ],
   "source": [
    "yy"
   ]
  },
  {
   "cell_type": "code",
   "execution_count": 52,
   "id": "fb901f10",
   "metadata": {},
   "outputs": [
    {
     "data": {
      "text/plain": [
       "[array([[1, 2, 3, 4]]),\n",
       " array([[5],\n",
       "        [6],\n",
       "        [7]])]"
      ]
     },
     "execution_count": 52,
     "metadata": {},
     "output_type": "execute_result"
    }
   ],
   "source": [
    "np.meshgrid(x,y,sparse=True)"
   ]
  },
  {
   "cell_type": "code",
   "execution_count": 54,
   "id": "757d49e8",
   "metadata": {},
   "outputs": [
    {
     "data": {
      "text/plain": [
       "[array([[1, 2, 3, 4],\n",
       "        [1, 2, 3, 4],\n",
       "        [1, 2, 3, 4]]),\n",
       " array([[5, 5, 5, 5],\n",
       "        [6, 6, 6, 6],\n",
       "        [7, 7, 7, 7]])]"
      ]
     },
     "execution_count": 54,
     "metadata": {},
     "output_type": "execute_result"
    }
   ],
   "source": [
    "np.meshgrid(x,y,indexing=\"xy\")"
   ]
  },
  {
   "cell_type": "code",
   "execution_count": 55,
   "id": "1db606bc",
   "metadata": {},
   "outputs": [
    {
     "data": {
      "text/plain": [
       "[array([[1, 1, 1],\n",
       "        [2, 2, 2],\n",
       "        [3, 3, 3],\n",
       "        [4, 4, 4]]),\n",
       " array([[5, 6, 7],\n",
       "        [5, 6, 7],\n",
       "        [5, 6, 7],\n",
       "        [5, 6, 7]])]"
      ]
     },
     "execution_count": 55,
     "metadata": {},
     "output_type": "execute_result"
    }
   ],
   "source": [
    "np.meshgrid(x,y,indexing=\"ij\")"
   ]
  },
  {
   "cell_type": "markdown",
   "id": "68438810",
   "metadata": {},
   "source": [
    "# *np.mgrid()*\n",
    "<br>\n",
    "\n",
    "- ### NumPy has another function called mgrid() that helps us to generate mesh grids. In this function, we have to use slice objects to define the values of the mesh grid's axes.\n",
    "<br>\n",
    "\n",
    "- ### Similar to meshgrid() function, the mgrid() function also returns a 2D numpy array containing the coordinates of both axes. However, the major difference is that the mgrid() function returns the coordinates in the form of a numpy array, while the meshgrid() function returns the coordinates in the form of numpy arrays.\n"
   ]
  },
  {
   "cell_type": "code",
   "execution_count": 58,
   "id": "bafe2b8d",
   "metadata": {},
   "outputs": [],
   "source": [
    "x = np.array([1, 2, 3, 4])\n",
    "y = np.array([5, 6, 7])"
   ]
  },
  {
   "cell_type": "code",
   "execution_count": 59,
   "id": "3d7f8c17",
   "metadata": {},
   "outputs": [
    {
     "data": {
      "text/plain": [
       "array([1, 2, 3, 4])"
      ]
     },
     "execution_count": 59,
     "metadata": {},
     "output_type": "execute_result"
    }
   ],
   "source": [
    "x"
   ]
  },
  {
   "cell_type": "code",
   "execution_count": 60,
   "id": "109466bf",
   "metadata": {},
   "outputs": [
    {
     "data": {
      "text/plain": [
       "array([5, 6, 7])"
      ]
     },
     "execution_count": 60,
     "metadata": {},
     "output_type": "execute_result"
    }
   ],
   "source": [
    "y"
   ]
  },
  {
   "cell_type": "code",
   "execution_count": 63,
   "id": "27901318",
   "metadata": {},
   "outputs": [
    {
     "data": {
      "text/plain": [
       "[array([[1, 2, 3, 4],\n",
       "        [1, 2, 3, 4],\n",
       "        [1, 2, 3, 4]]),\n",
       " array([[5, 5, 5, 5],\n",
       "        [6, 6, 6, 6],\n",
       "        [7, 7, 7, 7]])]"
      ]
     },
     "execution_count": 63,
     "metadata": {},
     "output_type": "execute_result"
    }
   ],
   "source": [
    "np.meshgrid(x,y)"
   ]
  },
  {
   "cell_type": "code",
   "execution_count": 69,
   "id": "577e94a0",
   "metadata": {},
   "outputs": [
    {
     "data": {
      "text/plain": [
       "array([[[1, 1, 1],\n",
       "        [2, 2, 2],\n",
       "        [3, 3, 3],\n",
       "        [4, 4, 4]],\n",
       "\n",
       "       [[5, 6, 7],\n",
       "        [5, 6, 7],\n",
       "        [5, 6, 7],\n",
       "        [5, 6, 7]]])"
      ]
     },
     "execution_count": 69,
     "metadata": {},
     "output_type": "execute_result"
    }
   ],
   "source": [
    "# use mgrid()\n",
    "np.mgrid[1:5,5:8]"
   ]
  },
  {
   "cell_type": "markdown",
   "id": "97436106",
   "metadata": {},
   "source": [
    "# *np.ogrid()*\n",
    "<br>\n",
    "\n",
    "- ### In NumPy, ogrid() is a function that helps us to generate a mesh grid. We need to use slice objects to define the axis values in this function.\n",
    "\n",
    "<br>\n",
    "\n",
    "- ### The ogrid() function returns a numpy array that contains the coordinates of both axes. The major difference between ogrid() and meshgrid() function is that ogrid() function returns numpy arrays in the form of coordinates, whereas meshgrid() function returns numpy arrays in the form of a 2D grid.\n",
    "<br>\n",
    "\n",
    "- ### ogrid() is similar to mgrid(), but it creates a multidimensional \"open\" grid instead of a \"closed\" grid. In other words, it returns arrays that have the same shape as the broadcasted arrays but with singleton dimensions expanded to size 1. \n",
    "<br>\n",
    "\n",
    "- ### This can be useful when you need to perform element-wise operations on two arrays with different shapes."
   ]
  },
  {
   "cell_type": "code",
   "execution_count": 70,
   "id": "90ed69b0",
   "metadata": {},
   "outputs": [],
   "source": [
    "x, y = np.mgrid[0:3, 0:3]"
   ]
  },
  {
   "cell_type": "code",
   "execution_count": 71,
   "id": "b239a4ee",
   "metadata": {},
   "outputs": [
    {
     "data": {
      "text/plain": [
       "array([[0, 0, 0],\n",
       "       [1, 1, 1],\n",
       "       [2, 2, 2]])"
      ]
     },
     "execution_count": 71,
     "metadata": {},
     "output_type": "execute_result"
    }
   ],
   "source": [
    "x"
   ]
  },
  {
   "cell_type": "code",
   "execution_count": 72,
   "id": "3f9c06f6",
   "metadata": {},
   "outputs": [
    {
     "data": {
      "text/plain": [
       "array([[0, 1, 2],\n",
       "       [0, 1, 2],\n",
       "       [0, 1, 2]])"
      ]
     },
     "execution_count": 72,
     "metadata": {},
     "output_type": "execute_result"
    }
   ],
   "source": [
    "y"
   ]
  },
  {
   "cell_type": "code",
   "execution_count": 73,
   "id": "f4dae278",
   "metadata": {},
   "outputs": [],
   "source": [
    "# using ogrid\n",
    "\n",
    "x, y = np.ogrid[0:3, 0:3]"
   ]
  },
  {
   "cell_type": "code",
   "execution_count": 74,
   "id": "2666f08c",
   "metadata": {},
   "outputs": [
    {
     "data": {
      "text/plain": [
       "array([[0],\n",
       "       [1],\n",
       "       [2]])"
      ]
     },
     "execution_count": 74,
     "metadata": {},
     "output_type": "execute_result"
    }
   ],
   "source": [
    "x"
   ]
  },
  {
   "cell_type": "code",
   "execution_count": 75,
   "id": "e87982d5",
   "metadata": {},
   "outputs": [
    {
     "data": {
      "text/plain": [
       "array([[0, 1, 2]])"
      ]
     },
     "execution_count": 75,
     "metadata": {},
     "output_type": "execute_result"
    }
   ],
   "source": [
    "y"
   ]
  }
 ],
 "metadata": {
  "kernelspec": {
   "display_name": "Python 3 (ipykernel)",
   "language": "python",
   "name": "python3"
  },
  "language_info": {
   "codemirror_mode": {
    "name": "ipython",
    "version": 3
   },
   "file_extension": ".py",
   "mimetype": "text/x-python",
   "name": "python",
   "nbconvert_exporter": "python",
   "pygments_lexer": "ipython3",
   "version": "3.10.6"
  }
 },
 "nbformat": 4,
 "nbformat_minor": 5
}

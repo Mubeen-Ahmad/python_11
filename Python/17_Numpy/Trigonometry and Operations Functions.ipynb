{
 "cells": [
  {
   "cell_type": "markdown",
   "id": "a8352864",
   "metadata": {},
   "source": [
    "# Useful Operations Functions"
   ]
  },
  {
   "cell_type": "markdown",
   "id": "553be2fc",
   "metadata": {},
   "source": [
    "- ## *np.sum()*\n",
    "- ## *np.product()*\n",
    "- ## *np.prod()*\n",
    "- ## *np.maximum()*\n",
    "- ## *np.minimum()*\n",
    "- ## *np.copysign()*"
   ]
  },
  {
   "cell_type": "markdown",
   "id": "79d459fe",
   "metadata": {},
   "source": [
    "# Trigonometry Functions"
   ]
  },
  {
   "cell_type": "markdown",
   "id": "93443e31",
   "metadata": {},
   "source": [
    "- ## *np.sin()*\n",
    "- ## *np.sinh()*\n",
    "- ## *np.arcsin()*\n",
    "- ## *np.arcsinh()*\n",
    "- ## *np.cos()*\n",
    "- ## *np.cosh()*\n",
    "- ## *np.arccos()*\n",
    "- ## *np.arccosh()*\n",
    "- ## *np.tan()*\n",
    "- ## *np.tanh()*\n",
    "- ## *np.arctan()*\n",
    "- ## *np.arctanh()*"
   ]
  },
  {
   "cell_type": "code",
   "execution_count": 1,
   "id": "55141906",
   "metadata": {},
   "outputs": [],
   "source": [
    "import numpy as np"
   ]
  },
  {
   "cell_type": "markdown",
   "id": "a565b68e",
   "metadata": {},
   "source": [
    "# *np.sum()*\n",
    "<br>\n",
    "\n",
    "- ### np.sum() is a function in the NumPy library of Python that is used to compute the sum of elements along a given axis of an array. It takes an array as an argument and returns the sum of all the elements in the array.\n",
    "<br>\n",
    "\n",
    "# Parameters\n",
    "<br>\n",
    "\n",
    "- ## a\n",
    "- ## axis\n",
    "- ## dtype\n",
    "- ## out\n",
    "- ## keepdims\n",
    "- ## initial\n",
    "- ## where"
   ]
  },
  {
   "cell_type": "code",
   "execution_count": 2,
   "id": "fade076e",
   "metadata": {},
   "outputs": [
    {
     "data": {
      "text/plain": [
       "array([[1, 2, 3],\n",
       "       [4, 5, 6],\n",
       "       [7, 8, 9]])"
      ]
     },
     "execution_count": 2,
     "metadata": {},
     "output_type": "execute_result"
    }
   ],
   "source": [
    "arr = np.array([[1, 2, 3], [4, 5, 6], [7, 8, 9]])\n",
    "arr"
   ]
  },
  {
   "cell_type": "code",
   "execution_count": 3,
   "id": "924eed0d",
   "metadata": {},
   "outputs": [
    {
     "data": {
      "text/plain": [
       "45"
      ]
     },
     "execution_count": 3,
     "metadata": {},
     "output_type": "execute_result"
    }
   ],
   "source": [
    "# a parameter\n",
    "np.sum(a=arr)"
   ]
  },
  {
   "cell_type": "code",
   "execution_count": 9,
   "id": "d8ecebed",
   "metadata": {},
   "outputs": [
    {
     "data": {
      "text/plain": [
       "array([12, 15, 18])"
      ]
     },
     "execution_count": 9,
     "metadata": {},
     "output_type": "execute_result"
    }
   ],
   "source": [
    "# axis parameter\n",
    "np.sum(a=arr,axis=0)\n",
    "# 1+4+7 = 12 \n",
    "# 2+5+8 = 15\n",
    "# 3+6+9 = 18"
   ]
  },
  {
   "cell_type": "code",
   "execution_count": 10,
   "id": "ceccb494",
   "metadata": {},
   "outputs": [
    {
     "data": {
      "text/plain": [
       "45.0"
      ]
     },
     "execution_count": 10,
     "metadata": {},
     "output_type": "execute_result"
    }
   ],
   "source": [
    "# dtype parameter\n",
    "np.sum(a=arr,dtype=np.float32)"
   ]
  },
  {
   "cell_type": "code",
   "execution_count": 17,
   "id": "d6381bcb",
   "metadata": {},
   "outputs": [
    {
     "data": {
      "text/plain": [
       "array([4.6856002e-310, 0.0000000e+000, 7.9050503e-322])"
      ]
     },
     "execution_count": 17,
     "metadata": {},
     "output_type": "execute_result"
    }
   ],
   "source": [
    "# out parameter\n",
    "temp = np.empty(3)\n",
    "temp"
   ]
  },
  {
   "cell_type": "code",
   "execution_count": 18,
   "id": "588a586a",
   "metadata": {},
   "outputs": [
    {
     "data": {
      "text/plain": [
       "array([12., 15., 18.])"
      ]
     },
     "execution_count": 18,
     "metadata": {},
     "output_type": "execute_result"
    }
   ],
   "source": [
    "np.sum(a=arr,axis=0,out=temp)"
   ]
  },
  {
   "cell_type": "code",
   "execution_count": 19,
   "id": "4cfe6f0c",
   "metadata": {},
   "outputs": [
    {
     "data": {
      "text/plain": [
       "array([12., 15., 18.])"
      ]
     },
     "execution_count": 19,
     "metadata": {},
     "output_type": "execute_result"
    }
   ],
   "source": [
    "temp # out parameter save data in temp variable"
   ]
  },
  {
   "cell_type": "code",
   "execution_count": 24,
   "id": "2c2caddb",
   "metadata": {},
   "outputs": [
    {
     "name": "stdout",
     "output_type": "stream",
     "text": [
      "ARRAY Dim 2\n"
     ]
    },
    {
     "data": {
      "text/plain": [
       "array([[45]])"
      ]
     },
     "execution_count": 24,
     "metadata": {},
     "output_type": "execute_result"
    }
   ],
   "source": [
    "# keepdims parameter\n",
    "print(\"ARRAY Dim\",arr.ndim)\n",
    "np.sum(a=arr,keepdims=True)  "
   ]
  },
  {
   "cell_type": "code",
   "execution_count": 25,
   "id": "86d1b2dc",
   "metadata": {},
   "outputs": [
    {
     "data": {
      "text/plain": [
       "array([1, 2, 3])"
      ]
     },
     "execution_count": 25,
     "metadata": {},
     "output_type": "execute_result"
    }
   ],
   "source": [
    "# use initial parameter\n",
    "\n",
    "arr = np.array([1,2,3])\n",
    "arr"
   ]
  },
  {
   "cell_type": "code",
   "execution_count": 31,
   "id": "babfa385",
   "metadata": {},
   "outputs": [
    {
     "data": {
      "text/plain": [
       "6"
      ]
     },
     "execution_count": 31,
     "metadata": {},
     "output_type": "execute_result"
    }
   ],
   "source": [
    "np.sum(a=arr)"
   ]
  },
  {
   "cell_type": "code",
   "execution_count": 30,
   "id": "bbc315ab",
   "metadata": {},
   "outputs": [
    {
     "data": {
      "text/plain": [
       "8"
      ]
     },
     "execution_count": 30,
     "metadata": {},
     "output_type": "execute_result"
    }
   ],
   "source": [
    "# now change starting value \n",
    "np.sum(a=arr,initial=2) # 2 -> + 1 + 2 + 3 = 8 "
   ]
  },
  {
   "cell_type": "code",
   "execution_count": 34,
   "id": "3f0153bf",
   "metadata": {},
   "outputs": [
    {
     "data": {
      "text/plain": [
       "array([1, 2, 3, 4, 5, 6])"
      ]
     },
     "execution_count": 34,
     "metadata": {},
     "output_type": "execute_result"
    }
   ],
   "source": [
    "# where parameter\n",
    "arr = np.arange(1,7)\n",
    "arr"
   ]
  },
  {
   "cell_type": "code",
   "execution_count": 50,
   "id": "21f8c503",
   "metadata": {},
   "outputs": [
    {
     "data": {
      "text/plain": [
       "array([ True, False,  True, False,  True, False])"
      ]
     },
     "execution_count": 50,
     "metadata": {},
     "output_type": "execute_result"
    }
   ],
   "source": [
    "# now sum only odd numbers\n",
    "condition = np.where(arr,arr%2 != 0,False)\n",
    "condition"
   ]
  },
  {
   "cell_type": "code",
   "execution_count": 51,
   "id": "a105c073",
   "metadata": {},
   "outputs": [
    {
     "data": {
      "text/plain": [
       "9"
      ]
     },
     "execution_count": 51,
     "metadata": {},
     "output_type": "execute_result"
    }
   ],
   "source": [
    "np.sum(a=arr,where=condition)"
   ]
  },
  {
   "cell_type": "markdown",
   "id": "3025c452",
   "metadata": {},
   "source": [
    "# *np.product()*\n",
    "<br>\n",
    "\n",
    "- ### \"np.product() is a Python function that is available in the NumPy library. This function is used to calculate the product (multiplication) of all the elements inside a NumPy array."
   ]
  },
  {
   "cell_type": "code",
   "execution_count": 53,
   "id": "ee7aca85",
   "metadata": {},
   "outputs": [
    {
     "data": {
      "text/plain": [
       "array([1, 2, 3])"
      ]
     },
     "execution_count": 53,
     "metadata": {},
     "output_type": "execute_result"
    }
   ],
   "source": [
    "arr = np.array([1,2,3]) # 1 * 2 * 3 = 6\n",
    "arr"
   ]
  },
  {
   "cell_type": "code",
   "execution_count": 54,
   "id": "f35c9ca5",
   "metadata": {},
   "outputs": [
    {
     "data": {
      "text/plain": [
       "6"
      ]
     },
     "execution_count": 54,
     "metadata": {},
     "output_type": "execute_result"
    }
   ],
   "source": [
    "np.product(arr)"
   ]
  },
  {
   "cell_type": "markdown",
   "id": "64960d2f",
   "metadata": {},
   "source": [
    "# *np.prod()*\n",
    "<br>\n",
    "\n",
    "- ### np.prod() is a Python function that is available in the NumPy library. This function is used to calculate the product (multiplication) of all the elements inside a NumPy array. It is commonly used in data analysis, scientific computing, and numerical operations.\n",
    "<br>\n",
    "\n",
    "# Parameter\n",
    "<br>\n",
    "\n",
    "- ## a\n",
    "- ## axis\n",
    "- ## dtype\n",
    "- ## out\n",
    "- ## keepdims\n",
    "- ## initial\n",
    "- ## where"
   ]
  },
  {
   "cell_type": "code",
   "execution_count": 58,
   "id": "1a2611e2",
   "metadata": {},
   "outputs": [
    {
     "data": {
      "text/plain": [
       "array([[1, 2, 3],\n",
       "       [4, 5, 6],\n",
       "       [7, 8, 9]])"
      ]
     },
     "execution_count": 58,
     "metadata": {},
     "output_type": "execute_result"
    }
   ],
   "source": [
    "arr = np.array([[1, 2, 3], [4, 5, 6], [7, 8, 9]])\n",
    "arr"
   ]
  },
  {
   "cell_type": "code",
   "execution_count": 59,
   "id": "8439dd69",
   "metadata": {},
   "outputs": [
    {
     "data": {
      "text/plain": [
       "362880"
      ]
     },
     "execution_count": 59,
     "metadata": {},
     "output_type": "execute_result"
    }
   ],
   "source": [
    "np.prod(a=arr)"
   ]
  },
  {
   "cell_type": "code",
   "execution_count": 60,
   "id": "2a44ea19",
   "metadata": {},
   "outputs": [
    {
     "data": {
      "text/plain": [
       "array([ 28,  80, 162])"
      ]
     },
     "execution_count": 60,
     "metadata": {},
     "output_type": "execute_result"
    }
   ],
   "source": [
    "# axis\n",
    "np.prod(a=arr,axis=0)"
   ]
  },
  {
   "cell_type": "markdown",
   "id": "7df9aad8",
   "metadata": {},
   "source": [
    "### all parameters same as np.sum() "
   ]
  },
  {
   "cell_type": "markdown",
   "id": "1b3fbff0",
   "metadata": {},
   "source": [
    "# *np.max()*\n",
    "<br>\n",
    "\n",
    "- ### The np.max() function in NumPy is used to find the maximum value in an array. It takes an array as input and returns a scalar value, which is the maximum value in the array.\n",
    "\n",
    "<br>\n",
    "\n",
    "# Parameter\n",
    "<br>\n",
    "\n",
    "- ## a\n",
    "- ## axis\n",
    "- ## out\n",
    "- ## keepdims\n",
    "- ## initial\n",
    "- ## where"
   ]
  },
  {
   "cell_type": "code",
   "execution_count": 63,
   "id": "82c6482c",
   "metadata": {},
   "outputs": [
    {
     "data": {
      "text/plain": [
       "9"
      ]
     },
     "execution_count": 63,
     "metadata": {},
     "output_type": "execute_result"
    }
   ],
   "source": [
    "np.max(a=arr)"
   ]
  },
  {
   "cell_type": "code",
   "execution_count": 62,
   "id": "83b42a8e",
   "metadata": {},
   "outputs": [
    {
     "data": {
      "text/plain": [
       "array([7, 8, 9])"
      ]
     },
     "execution_count": 62,
     "metadata": {},
     "output_type": "execute_result"
    }
   ],
   "source": [
    "# axis parameter\n",
    "np.max(arr,axis=0)"
   ]
  },
  {
   "cell_type": "markdown",
   "id": "39ba1b81",
   "metadata": {},
   "source": [
    "# *np.min()*\n",
    "<br>\n",
    "\n",
    "- ### The np.min() function in NumPy is used to find the maximum value in an array. It takes an array as input and returns a scalar value, which is the minimum value in the array.\n",
    "\n",
    "<br>\n",
    "\n",
    "# Parameter\n",
    "<br>\n",
    "\n",
    "- ## a\n",
    "- ## axis\n",
    "- ## out\n",
    "- ## keepdims\n",
    "- ## initial\n",
    "- ## where"
   ]
  },
  {
   "cell_type": "code",
   "execution_count": 64,
   "id": "c3d6441c",
   "metadata": {},
   "outputs": [
    {
     "data": {
      "text/plain": [
       "1"
      ]
     },
     "execution_count": 64,
     "metadata": {},
     "output_type": "execute_result"
    }
   ],
   "source": [
    "np.min(a=arr)"
   ]
  },
  {
   "cell_type": "code",
   "execution_count": 65,
   "id": "c8fbdcf5",
   "metadata": {},
   "outputs": [
    {
     "data": {
      "text/plain": [
       "array([1, 2, 3])"
      ]
     },
     "execution_count": 65,
     "metadata": {},
     "output_type": "execute_result"
    }
   ],
   "source": [
    "# axis parameter\n",
    "np.min(arr,axis=0)"
   ]
  },
  {
   "cell_type": "code",
   "execution_count": 67,
   "id": "aa8ace87",
   "metadata": {},
   "outputs": [
    {
     "data": {
      "text/plain": [
       "array([[1, 2, 3],\n",
       "       [4, 5, 6],\n",
       "       [7, 8, 9]])"
      ]
     },
     "execution_count": 67,
     "metadata": {},
     "output_type": "execute_result"
    }
   ],
   "source": [
    "arr"
   ]
  },
  {
   "cell_type": "markdown",
   "id": "5b2cefda",
   "metadata": {},
   "source": [
    "# *np.maximum()*\n",
    "<br>\n",
    "\n",
    "- ### np.maximum() is a NumPy function that returns the element-wise maximum of two arrays. It takes two arrays as input and returns an array containing the maximum value of corresponding elements in the input arrays.\n",
    "<br>\n",
    "\n",
    "# Parameters\n",
    "<br>\n",
    "\n",
    "- ## x1,x2\n",
    "- ## where\n",
    "- ## out"
   ]
  },
  {
   "cell_type": "code",
   "execution_count": 75,
   "id": "f0ffbede",
   "metadata": {},
   "outputs": [],
   "source": [
    "a = np.array([1, 2, 3, 4])\n",
    "b = np.array([1, 2, 3, 5])"
   ]
  },
  {
   "cell_type": "code",
   "execution_count": 76,
   "id": "f1a10728",
   "metadata": {},
   "outputs": [
    {
     "data": {
      "text/plain": [
       "array([1, 2, 3, 5])"
      ]
     },
     "execution_count": 76,
     "metadata": {},
     "output_type": "execute_result"
    }
   ],
   "source": [
    "np.maximum(a,b)"
   ]
  },
  {
   "cell_type": "markdown",
   "id": "84a0a1ba",
   "metadata": {},
   "source": [
    "# *np.minimum()*\n",
    "<br>\n",
    "\n",
    "- ### np.minimum() is a NumPy function that returns the element-wise minimum of two arrays. It takes two arrays as input and returns an array containing the minimum value of corresponding elements in the input arrays.\n",
    "<br>\n",
    "\n",
    "# Parameters\n",
    "<br>\n",
    "\n",
    "- ## x1,x2\n",
    "- ## where\n",
    "- ## out"
   ]
  },
  {
   "cell_type": "code",
   "execution_count": 82,
   "id": "34a23837",
   "metadata": {},
   "outputs": [
    {
     "data": {
      "text/plain": [
       "array([1, 2, 3, 4])"
      ]
     },
     "execution_count": 82,
     "metadata": {},
     "output_type": "execute_result"
    }
   ],
   "source": [
    "np.minimum(a,b)"
   ]
  },
  {
   "cell_type": "markdown",
   "id": "47cb5ac3",
   "metadata": {},
   "source": [
    "# *np.copysign()*\n",
    "<br>\n",
    "\n",
    "- ### The np.copysign function is available in the NumPy library. Its meaning is also \"always the same sign\". This function is used to match the magnitude and sign.\n",
    "<br>\n",
    "    \n",
    "- ### The np.copysign function takes two parameters, where the first parameter is the magnitude (i.e., quantity) and the second parameter is the sign (i.e., whether the quantity is positive or negative). The purpose of this function is to make the value of the magnitude positive or negative according to the sign.\n",
    "<br>\n",
    "\n",
    "- ### This function is used to maintain the sign in any mathematical calculation in the correct way"
   ]
  },
  {
   "cell_type": "code",
   "execution_count": 138,
   "id": "85b355df",
   "metadata": {},
   "outputs": [
    {
     "data": {
      "text/plain": [
       "-2"
      ]
     },
     "execution_count": 138,
     "metadata": {},
     "output_type": "execute_result"
    }
   ],
   "source": [
    "x = -2\n",
    "x"
   ]
  },
  {
   "cell_type": "code",
   "execution_count": 152,
   "id": "0af7d17b",
   "metadata": {},
   "outputs": [
    {
     "data": {
      "text/plain": [
       "1.4142135623730951"
      ]
     },
     "execution_count": 152,
     "metadata": {},
     "output_type": "execute_result"
    }
   ],
   "source": [
    "sqr = np.sqrt(abs(x)) # so - sign skip\n",
    "sqr"
   ]
  },
  {
   "cell_type": "code",
   "execution_count": 155,
   "id": "a3ac021b",
   "metadata": {},
   "outputs": [
    {
     "data": {
      "text/plain": [
       "-1.4142135623730951"
      ]
     },
     "execution_count": 155,
     "metadata": {},
     "output_type": "execute_result"
    }
   ],
   "source": [
    "np.copysign(sqr, x) # use copysign"
   ]
  },
  {
   "cell_type": "code",
   "execution_count": 156,
   "id": "3f4a9f2b",
   "metadata": {},
   "outputs": [
    {
     "data": {
      "text/plain": [
       "10.0"
      ]
     },
     "execution_count": 156,
     "metadata": {},
     "output_type": "execute_result"
    }
   ],
   "source": [
    "np.copysign(-10,10)"
   ]
  },
  {
   "cell_type": "code",
   "execution_count": 158,
   "id": "2fd8eb5c",
   "metadata": {},
   "outputs": [
    {
     "data": {
      "text/plain": [
       "-10.0"
      ]
     },
     "execution_count": 158,
     "metadata": {},
     "output_type": "execute_result"
    }
   ],
   "source": [
    "np.copysign(10,-10)"
   ]
  },
  {
   "cell_type": "markdown",
   "id": "8f019cc7",
   "metadata": {},
   "source": [
    "# Trigonmetric Function"
   ]
  },
  {
   "cell_type": "markdown",
   "id": "a22e41c8",
   "metadata": {},
   "source": [
    "# *np.sin()*"
   ]
  },
  {
   "cell_type": "code",
   "execution_count": 88,
   "id": "75a2736f",
   "metadata": {},
   "outputs": [
    {
     "data": {
      "text/plain": [
       "array([ 0.84147098,  0.90929743,  0.14112001, -0.7568025 ])"
      ]
     },
     "execution_count": 88,
     "metadata": {},
     "output_type": "execute_result"
    }
   ],
   "source": [
    "np.sin(a)"
   ]
  },
  {
   "cell_type": "markdown",
   "id": "89909d92",
   "metadata": {},
   "source": [
    "# *np.sinh()*"
   ]
  },
  {
   "cell_type": "code",
   "execution_count": 90,
   "id": "274439fa",
   "metadata": {},
   "outputs": [
    {
     "data": {
      "text/plain": [
       "array([ 1.17520119,  3.62686041, 10.01787493, 27.2899172 ])"
      ]
     },
     "execution_count": 90,
     "metadata": {},
     "output_type": "execute_result"
    }
   ],
   "source": [
    "np.sinh(a)"
   ]
  },
  {
   "cell_type": "markdown",
   "id": "39837ad7",
   "metadata": {},
   "source": [
    "# *np.arcsin()*"
   ]
  },
  {
   "cell_type": "code",
   "execution_count": 94,
   "id": "fa04ce9f",
   "metadata": {},
   "outputs": [
    {
     "data": {
      "text/plain": [
       "array([0.    , 0.5   , 0.7071, 0.866 , 1.    ])"
      ]
     },
     "execution_count": 94,
     "metadata": {},
     "output_type": "execute_result"
    }
   ],
   "source": [
    "arr = np.array([0, 0.5, 0.7071, 0.866, 1])\n",
    "arr"
   ]
  },
  {
   "cell_type": "code",
   "execution_count": 96,
   "id": "1c04e398",
   "metadata": {},
   "outputs": [
    {
     "data": {
      "text/plain": [
       "array([0.        , 0.52359878, 0.78538857, 1.04714675, 1.57079633])"
      ]
     },
     "execution_count": 96,
     "metadata": {},
     "output_type": "execute_result"
    }
   ],
   "source": [
    "np.arcsin(arr)"
   ]
  },
  {
   "cell_type": "markdown",
   "id": "957d5eee",
   "metadata": {},
   "source": [
    "# *np.arcsinh()*"
   ]
  },
  {
   "cell_type": "code",
   "execution_count": 97,
   "id": "595eafc0",
   "metadata": {},
   "outputs": [
    {
     "data": {
      "text/plain": [
       "array([0.        , 0.48121183, 0.65847341, 0.78338041, 0.88137359])"
      ]
     },
     "execution_count": 97,
     "metadata": {},
     "output_type": "execute_result"
    }
   ],
   "source": [
    "np.arcsinh(arr)"
   ]
  },
  {
   "cell_type": "markdown",
   "id": "6d13e374",
   "metadata": {},
   "source": [
    "# *np.cos()*"
   ]
  },
  {
   "cell_type": "code",
   "execution_count": 98,
   "id": "a6472677",
   "metadata": {},
   "outputs": [
    {
     "data": {
      "text/plain": [
       "array([ 0.54030231, -0.41614684, -0.9899925 , -0.65364362])"
      ]
     },
     "execution_count": 98,
     "metadata": {},
     "output_type": "execute_result"
    }
   ],
   "source": [
    "np.cos(a)"
   ]
  },
  {
   "cell_type": "markdown",
   "id": "a2fc677b",
   "metadata": {},
   "source": [
    "# *np.cosh()*"
   ]
  },
  {
   "cell_type": "code",
   "execution_count": 99,
   "id": "c8c10209",
   "metadata": {},
   "outputs": [
    {
     "data": {
      "text/plain": [
       "array([ 1.54308063,  3.76219569, 10.067662  , 27.30823284])"
      ]
     },
     "execution_count": 99,
     "metadata": {},
     "output_type": "execute_result"
    }
   ],
   "source": [
    "np.cosh(a)"
   ]
  },
  {
   "cell_type": "markdown",
   "id": "f029511c",
   "metadata": {},
   "source": [
    "# *np.arccos()*"
   ]
  },
  {
   "cell_type": "code",
   "execution_count": 101,
   "id": "1a762941",
   "metadata": {},
   "outputs": [
    {
     "data": {
      "text/plain": [
       "array([1.57079633, 1.04719755, 0.78540775, 0.52364958, 0.        ])"
      ]
     },
     "execution_count": 101,
     "metadata": {},
     "output_type": "execute_result"
    }
   ],
   "source": [
    "np.arccos(arr)"
   ]
  },
  {
   "cell_type": "markdown",
   "id": "d788a9b0",
   "metadata": {},
   "source": [
    "# *np.arccosh()*"
   ]
  },
  {
   "cell_type": "code",
   "execution_count": 103,
   "id": "dbb74355",
   "metadata": {},
   "outputs": [
    {
     "data": {
      "text/plain": [
       "array([0.        , 1.3169579 , 1.76274717, 2.06343707])"
      ]
     },
     "execution_count": 103,
     "metadata": {},
     "output_type": "execute_result"
    }
   ],
   "source": [
    "np.arccosh(a)"
   ]
  },
  {
   "cell_type": "markdown",
   "id": "9af1a05b",
   "metadata": {},
   "source": [
    "# *np.tan()*"
   ]
  },
  {
   "cell_type": "code",
   "execution_count": 104,
   "id": "541f80d2",
   "metadata": {},
   "outputs": [
    {
     "data": {
      "text/plain": [
       "array([0.        , 0.54630249, 0.8544987 , 1.17575023, 1.55740772])"
      ]
     },
     "execution_count": 104,
     "metadata": {},
     "output_type": "execute_result"
    }
   ],
   "source": [
    "np.tan(arr)"
   ]
  },
  {
   "cell_type": "markdown",
   "id": "eb4ab14a",
   "metadata": {},
   "source": [
    "# *np.tanh()*"
   ]
  },
  {
   "cell_type": "code",
   "execution_count": 105,
   "id": "ac09c049",
   "metadata": {},
   "outputs": [
    {
     "data": {
      "text/plain": [
       "array([0.        , 0.46211716, 0.6088551 , 0.69933613, 0.76159416])"
      ]
     },
     "execution_count": 105,
     "metadata": {},
     "output_type": "execute_result"
    }
   ],
   "source": [
    "np.tanh(arr)"
   ]
  },
  {
   "cell_type": "markdown",
   "id": "733994cb",
   "metadata": {},
   "source": [
    "# *np.arctan()*"
   ]
  },
  {
   "cell_type": "code",
   "execution_count": 106,
   "id": "a8d9f64c",
   "metadata": {},
   "outputs": [
    {
     "data": {
      "text/plain": [
       "array([0.        , 0.46364761, 0.61547519, 0.71370986, 0.78539816])"
      ]
     },
     "execution_count": 106,
     "metadata": {},
     "output_type": "execute_result"
    }
   ],
   "source": [
    "np.arctan(arr)"
   ]
  },
  {
   "cell_type": "markdown",
   "id": "a7d3b82f",
   "metadata": {},
   "source": [
    "# *np.arctanh()*"
   ]
  },
  {
   "cell_type": "code",
   "execution_count": 115,
   "id": "8c05ce26",
   "metadata": {},
   "outputs": [
    {
     "name": "stderr",
     "output_type": "stream",
     "text": [
      "/tmp/ipykernel_79891/2021640537.py:1: RuntimeWarning: divide by zero encountered in arctanh\n",
      "  np.arctanh(arr)\n"
     ]
    },
    {
     "data": {
      "text/plain": [
       "array([0.        , 0.54930614, 0.88136002, 1.31685629,        inf])"
      ]
     },
     "execution_count": 115,
     "metadata": {},
     "output_type": "execute_result"
    }
   ],
   "source": [
    "np.arctanh(arr)"
   ]
  }
 ],
 "metadata": {
  "kernelspec": {
   "display_name": "Python 3 (ipykernel)",
   "language": "python",
   "name": "python3"
  },
  "language_info": {
   "codemirror_mode": {
    "name": "ipython",
    "version": 3
   },
   "file_extension": ".py",
   "mimetype": "text/x-python",
   "name": "python",
   "nbconvert_exporter": "python",
   "pygments_lexer": "ipython3",
   "version": "3.10.6"
  }
 },
 "nbformat": 4,
 "nbformat_minor": 5
}

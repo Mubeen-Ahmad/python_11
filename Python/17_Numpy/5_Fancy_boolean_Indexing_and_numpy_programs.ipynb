{
 "cells": [
  {
   "cell_type": "markdown",
   "id": "ac230363",
   "metadata": {},
   "source": [
    "<img src=\"../../images/spin.jpg\" style=\"display: block;margin-left: auto;margin-right: auto;\n",
    "  width: 80%; border-radius:0px 10px 10px 10px; height:80%;\">\n"
   ]
  },
  {
   "cell_type": "markdown",
   "id": "35ae930c",
   "metadata": {},
   "source": [
    "## Spin With Normal Indexing"
   ]
  },
  {
   "cell_type": "code",
   "execution_count": 1,
   "id": "8cd87aa2",
   "metadata": {},
   "outputs": [],
   "source": [
    "import numpy as np"
   ]
  },
  {
   "cell_type": "code",
   "execution_count": 2,
   "id": "75a77eb4",
   "metadata": {},
   "outputs": [],
   "source": [
    "arr = np.array([\n",
    "    [1,2,3],\n",
    "    [4,5,6],\n",
    "    [7,8,9]\n",
    "])"
   ]
  },
  {
   "cell_type": "code",
   "execution_count": 3,
   "id": "45b99f2d",
   "metadata": {},
   "outputs": [
    {
     "name": "stdout",
     "output_type": "stream",
     "text": [
      "[[1 2 3]\n",
      " [4 5 6]\n",
      " [7 8 9]]\n"
     ]
    }
   ],
   "source": [
    "print(arr)"
   ]
  },
  {
   "cell_type": "code",
   "execution_count": 4,
   "id": "122e731f",
   "metadata": {},
   "outputs": [
    {
     "data": {
      "text/plain": [
       "2"
      ]
     },
     "execution_count": 4,
     "metadata": {},
     "output_type": "execute_result"
    }
   ],
   "source": [
    "arr.ndim"
   ]
  },
  {
   "cell_type": "code",
   "execution_count": 5,
   "id": "e38b2b0e",
   "metadata": {},
   "outputs": [
    {
     "data": {
      "text/plain": [
       "(3, 3)"
      ]
     },
     "execution_count": 5,
     "metadata": {},
     "output_type": "execute_result"
    }
   ],
   "source": [
    "arr.shape"
   ]
  },
  {
   "cell_type": "code",
   "execution_count": 6,
   "id": "345336c5",
   "metadata": {},
   "outputs": [],
   "source": [
    "def right_2d_spin(array):\n",
    "   \n",
    "    t1 = array[0,0]\n",
    "    array[0,0] = array[2,0]\n",
    "    \n",
    "    t2 = array[0,2]\n",
    "    array[0,2] = t1\n",
    "    \n",
    "    t1 = array[2,2]\n",
    "    array[2,2] = t2\n",
    "    array[2,0] = t1\n",
    "    \n",
    "    t2 = array[0,1]\n",
    "    array[0,1] = array[1,0]\n",
    "    \n",
    "    t1 = array[1,2]\n",
    "    array[1,2] = t2\n",
    "    \n",
    "    t2 = array[2,1]\n",
    "    array[2,1] = t1\n",
    "    array[1,0] = t2\n",
    "\n"
   ]
  },
  {
   "cell_type": "code",
   "execution_count": 7,
   "id": "d5742cd6",
   "metadata": {},
   "outputs": [],
   "source": [
    "# copy array\n",
    "temp = arr.copy()"
   ]
  },
  {
   "cell_type": "code",
   "execution_count": 8,
   "id": "d300df74",
   "metadata": {},
   "outputs": [
    {
     "data": {
      "text/plain": [
       "array([[1, 2, 3],\n",
       "       [4, 5, 6],\n",
       "       [7, 8, 9]])"
      ]
     },
     "execution_count": 8,
     "metadata": {},
     "output_type": "execute_result"
    }
   ],
   "source": [
    "temp"
   ]
  },
  {
   "cell_type": "code",
   "execution_count": 9,
   "id": "a9799f89",
   "metadata": {},
   "outputs": [
    {
     "data": {
      "text/plain": [
       "array([[7, 4, 1],\n",
       "       [8, 5, 2],\n",
       "       [9, 6, 3]])"
      ]
     },
     "execution_count": 9,
     "metadata": {},
     "output_type": "execute_result"
    }
   ],
   "source": [
    "right_2d_spin(temp)\n",
    "temp"
   ]
  },
  {
   "cell_type": "markdown",
   "id": "2c15ae6c",
   "metadata": {},
   "source": [
    "# again spin"
   ]
  },
  {
   "cell_type": "code",
   "execution_count": 10,
   "id": "ad3ddf92",
   "metadata": {},
   "outputs": [
    {
     "data": {
      "text/plain": [
       "array([[9, 8, 7],\n",
       "       [6, 5, 4],\n",
       "       [3, 2, 1]])"
      ]
     },
     "execution_count": 10,
     "metadata": {},
     "output_type": "execute_result"
    }
   ],
   "source": [
    "right_2d_spin(temp)\n",
    "temp"
   ]
  },
  {
   "cell_type": "markdown",
   "id": "ecac4cf2",
   "metadata": {},
   "source": [
    "# spin"
   ]
  },
  {
   "cell_type": "code",
   "execution_count": 11,
   "id": "64f81169",
   "metadata": {},
   "outputs": [
    {
     "data": {
      "text/plain": [
       "array([[3, 6, 9],\n",
       "       [2, 5, 8],\n",
       "       [1, 4, 7]])"
      ]
     },
     "execution_count": 11,
     "metadata": {},
     "output_type": "execute_result"
    }
   ],
   "source": [
    "right_2d_spin(temp)\n",
    "temp"
   ]
  },
  {
   "cell_type": "markdown",
   "id": "7cf2dcf0",
   "metadata": {},
   "source": [
    "# again spin"
   ]
  },
  {
   "cell_type": "code",
   "execution_count": 12,
   "id": "6f748de9",
   "metadata": {},
   "outputs": [
    {
     "data": {
      "text/plain": [
       "array([[1, 2, 3],\n",
       "       [4, 5, 6],\n",
       "       [7, 8, 9]])"
      ]
     },
     "execution_count": 12,
     "metadata": {},
     "output_type": "execute_result"
    }
   ],
   "source": [
    "right_2d_spin(temp)\n",
    "temp"
   ]
  },
  {
   "cell_type": "markdown",
   "id": "ed1d8b5d",
   "metadata": {},
   "source": [
    "# Fancy Indexing"
   ]
  },
  {
   "cell_type": "code",
   "execution_count": 13,
   "id": "78456f83",
   "metadata": {},
   "outputs": [],
   "source": [
    "arr = np.arange(12).reshape(4,3)"
   ]
  },
  {
   "cell_type": "code",
   "execution_count": 14,
   "id": "6cfe3e50",
   "metadata": {},
   "outputs": [
    {
     "name": "stdout",
     "output_type": "stream",
     "text": [
      "[[ 0  1  2]\n",
      " [ 3  4  5]\n",
      " [ 6  7  8]\n",
      " [ 9 10 11]]\n"
     ]
    }
   ],
   "source": [
    "print(arr)"
   ]
  },
  {
   "cell_type": "markdown",
   "id": "55671732",
   "metadata": {},
   "source": [
    "## Now access 1st and third row"
   ]
  },
  {
   "cell_type": "code",
   "execution_count": 15,
   "id": "bef4733f",
   "metadata": {},
   "outputs": [
    {
     "data": {
      "text/plain": [
       "array([[0, 1, 2],\n",
       "       [6, 7, 8]])"
      ]
     },
     "execution_count": 15,
     "metadata": {},
     "output_type": "execute_result"
    }
   ],
   "source": [
    "arr[::2]"
   ]
  },
  {
   "cell_type": "markdown",
   "id": "3b3b4915",
   "metadata": {},
   "source": [
    "# Now access 1st, thrid and forth"
   ]
  },
  {
   "cell_type": "code",
   "execution_count": 16,
   "id": "80801490",
   "metadata": {},
   "outputs": [
    {
     "name": "stdout",
     "output_type": "stream",
     "text": [
      "[0 1 2]\n",
      "[6 7 8]\n",
      "[ 9 10 11]\n"
     ]
    }
   ],
   "source": [
    "print(arr[::][0])\n",
    "print(arr[::][2])\n",
    "print(arr[::][3])"
   ]
  },
  {
   "cell_type": "markdown",
   "id": "c64056e2",
   "metadata": {},
   "source": [
    "## So it is not possible to access in this pattern"
   ]
  },
  {
   "cell_type": "markdown",
   "id": "d96acd61",
   "metadata": {},
   "source": [
    "# Try with Fancy Indexing\n",
    "<br>\n",
    "\n",
    "# array[ [rows],[columns] ]\n"
   ]
  },
  {
   "cell_type": "code",
   "execution_count": 17,
   "id": "c17058e8",
   "metadata": {},
   "outputs": [
    {
     "data": {
      "text/plain": [
       "array([[ 0,  1,  2],\n",
       "       [ 3,  4,  5],\n",
       "       [ 6,  7,  8],\n",
       "       [ 9, 10, 11]])"
      ]
     },
     "execution_count": 17,
     "metadata": {},
     "output_type": "execute_result"
    }
   ],
   "source": [
    "arr"
   ]
  },
  {
   "cell_type": "code",
   "execution_count": 18,
   "id": "affe0fbe",
   "metadata": {},
   "outputs": [
    {
     "data": {
      "text/plain": [
       "array([[ 0,  1,  2],\n",
       "       [ 6,  7,  8],\n",
       "       [ 9, 10, 11]])"
      ]
     },
     "execution_count": 18,
     "metadata": {},
     "output_type": "execute_result"
    }
   ],
   "source": [
    "arr[[0,2,3]] # access 1st , third and fourth row"
   ]
  },
  {
   "cell_type": "markdown",
   "id": "9e890d0b",
   "metadata": {},
   "source": [
    "## access specfic columns"
   ]
  },
  {
   "cell_type": "code",
   "execution_count": 19,
   "id": "4d9f006c",
   "metadata": {},
   "outputs": [
    {
     "data": {
      "text/plain": [
       "array([[0],\n",
       "       [3],\n",
       "       [6],\n",
       "       [9]])"
      ]
     },
     "execution_count": 19,
     "metadata": {},
     "output_type": "execute_result"
    }
   ],
   "source": [
    "arr[::,[0]] # all rows and 0 columns"
   ]
  },
  {
   "cell_type": "code",
   "execution_count": 20,
   "id": "dfcc1ca6",
   "metadata": {},
   "outputs": [
    {
     "data": {
      "text/plain": [
       "array([[ 0,  1,  2],\n",
       "       [ 3,  4,  5],\n",
       "       [ 6,  7,  8],\n",
       "       [ 9, 10, 11]])"
      ]
     },
     "execution_count": 20,
     "metadata": {},
     "output_type": "execute_result"
    }
   ],
   "source": [
    "arr"
   ]
  },
  {
   "cell_type": "markdown",
   "id": "0e63e9e6",
   "metadata": {},
   "source": [
    "## access\n",
    "## [ 3,  4,  5],\n",
    "## [ 6,  7,  8],\n",
    "<br>\n",
    "\n",
    "## and select mid column 4,7"
   ]
  },
  {
   "cell_type": "code",
   "execution_count": 21,
   "id": "964d2c86",
   "metadata": {},
   "outputs": [
    {
     "data": {
      "text/plain": [
       "array([[3, 4, 5],\n",
       "       [6, 7, 8]])"
      ]
     },
     "execution_count": 21,
     "metadata": {},
     "output_type": "execute_result"
    }
   ],
   "source": [
    "arr[[1,2]] "
   ]
  },
  {
   "cell_type": "code",
   "execution_count": 22,
   "id": "a6fc9b06",
   "metadata": {},
   "outputs": [
    {
     "data": {
      "text/plain": [
       "array([4, 7])"
      ]
     },
     "execution_count": 22,
     "metadata": {},
     "output_type": "execute_result"
    }
   ],
   "source": [
    "arr[[1,2],[1]] "
   ]
  },
  {
   "cell_type": "code",
   "execution_count": 23,
   "id": "c998d573",
   "metadata": {},
   "outputs": [
    {
     "data": {
      "text/plain": [
       "array([[ 1],\n",
       "       [ 4],\n",
       "       [ 7],\n",
       "       [10]])"
      ]
     },
     "execution_count": 23,
     "metadata": {},
     "output_type": "execute_result"
    }
   ],
   "source": [
    "arr[::,[1]] "
   ]
  },
  {
   "cell_type": "markdown",
   "id": "79d991d8",
   "metadata": {},
   "source": [
    "# Now Spin Array with Fancy Indexing"
   ]
  },
  {
   "cell_type": "code",
   "execution_count": 24,
   "id": "69f71ec1",
   "metadata": {},
   "outputs": [],
   "source": [
    "arr = np.array([\n",
    "    [1,2,3],\n",
    "    [4,5,6],\n",
    "    [7,8,9]\n",
    "])"
   ]
  },
  {
   "cell_type": "code",
   "execution_count": 25,
   "id": "f2b71989",
   "metadata": {},
   "outputs": [
    {
     "data": {
      "text/plain": [
       "array([[1, 2, 3],\n",
       "       [4, 5, 6],\n",
       "       [7, 8, 9]])"
      ]
     },
     "execution_count": 25,
     "metadata": {},
     "output_type": "execute_result"
    }
   ],
   "source": [
    "arr"
   ]
  },
  {
   "cell_type": "code",
   "execution_count": 26,
   "id": "cff4f131",
   "metadata": {},
   "outputs": [],
   "source": [
    "def spin(arr):\n",
    "    t = arr[[0],[0,2]]     \n",
    "    arr[[0],[2]] = t[0]\n",
    "    \n",
    "    t[0] = arr[[2],[2]]\n",
    "    arr[[2],[2]] = t[1]\n",
    "    \n",
    "    t[1] = arr[[2],[0]]\n",
    "    arr[[2],[0]] = t[0]\n",
    "    \n",
    "    arr[[0],[0]] = t[1]\n",
    "    \n",
    "    t[0] = arr[[0],[1]]\n",
    "    t[1] = arr[[1],[2]]\n",
    "    \n",
    "    arr[[1],[2]] = t[0]\n",
    "    t[0] = arr[[2],[1]]\n",
    "    \n",
    "    arr[[2],[1]]= t[1]\n",
    "    t[1] = arr[[1],[0]]\n",
    "    \n",
    "    arr[[0],[1]] = t[1]\n",
    "    arr[[1],[0]] = t[0]\n",
    "    return arr\n"
   ]
  },
  {
   "cell_type": "code",
   "execution_count": 27,
   "id": "8227afb3",
   "metadata": {},
   "outputs": [
    {
     "name": "stdout",
     "output_type": "stream",
     "text": [
      "[[7 4 1]\n",
      " [8 5 2]\n",
      " [9 6 3]]\n",
      "\n",
      "[[9 8 7]\n",
      " [6 5 4]\n",
      " [3 2 1]]\n",
      "\n",
      "[[3 6 9]\n",
      " [2 5 8]\n",
      " [1 4 7]]\n",
      "\n",
      "[[1 2 3]\n",
      " [4 5 6]\n",
      " [7 8 9]]\n",
      "\n"
     ]
    }
   ],
   "source": [
    "for i in range(4):\n",
    "    print(spin(arr),end=\"\\n\\n\")\n"
   ]
  },
  {
   "cell_type": "markdown",
   "id": "99b93fb6",
   "metadata": {},
   "source": [
    "# Boolean Indexing"
   ]
  },
  {
   "cell_type": "markdown",
   "id": "2807bb46",
   "metadata": {},
   "source": [
    "# we also apply a condition with Boolean Indexing"
   ]
  },
  {
   "cell_type": "code",
   "execution_count": 28,
   "id": "52a5a215",
   "metadata": {},
   "outputs": [
    {
     "name": "stdout",
     "output_type": "stream",
     "text": [
      "[[30 51  5 33]\n",
      " [ 2 96 32  7]\n",
      " [85 57 31 64]\n",
      " [76 71 31 98]\n",
      " [ 6 77 34 34]\n",
      " [92 93 15 83]]\n"
     ]
    }
   ],
   "source": [
    "arr = np.random.randint(1,100,24).reshape(6,4)\n",
    "print(arr)"
   ]
  },
  {
   "cell_type": "markdown",
   "id": "32a13488",
   "metadata": {},
   "source": [
    "## Now find all Numbers greater than 50"
   ]
  },
  {
   "cell_type": "markdown",
   "id": "78643453",
   "metadata": {},
   "source": [
    "# using boolean indexing"
   ]
  },
  {
   "cell_type": "code",
   "execution_count": 29,
   "id": "c8d30338",
   "metadata": {},
   "outputs": [
    {
     "data": {
      "text/plain": [
       "array([[False,  True, False, False],\n",
       "       [False,  True, False, False],\n",
       "       [ True,  True, False,  True],\n",
       "       [ True,  True, False,  True],\n",
       "       [False,  True, False, False],\n",
       "       [ True,  True, False,  True]])"
      ]
     },
     "execution_count": 29,
     "metadata": {},
     "output_type": "execute_result"
    }
   ],
   "source": [
    "# arr[conditions]\n",
    "arr > 50"
   ]
  },
  {
   "cell_type": "code",
   "execution_count": 30,
   "id": "bdd84003",
   "metadata": {},
   "outputs": [
    {
     "data": {
      "text/plain": [
       "array([51, 96, 85, 57, 64, 76, 71, 98, 77, 92, 93, 83])"
      ]
     },
     "execution_count": 30,
     "metadata": {},
     "output_type": "execute_result"
    }
   ],
   "source": [
    "# now add in arr[] brackets\n",
    "arr[arr > 50]"
   ]
  },
  {
   "cell_type": "markdown",
   "id": "c7ecfc97",
   "metadata": {},
   "source": [
    "# Find even numbers"
   ]
  },
  {
   "cell_type": "code",
   "execution_count": 31,
   "id": "4be462d9",
   "metadata": {},
   "outputs": [
    {
     "data": {
      "text/plain": [
       "array([30,  2, 96, 32, 64, 76, 98,  6, 34, 34, 92])"
      ]
     },
     "execution_count": 31,
     "metadata": {},
     "output_type": "execute_result"
    }
   ],
   "source": [
    "arr[arr %2 == 0]"
   ]
  },
  {
   "cell_type": "markdown",
   "id": "6dd0d235",
   "metadata": {},
   "source": [
    "# find all even numbers only greater than 50"
   ]
  },
  {
   "cell_type": "code",
   "execution_count": 32,
   "id": "903bd84e",
   "metadata": {},
   "outputs": [
    {
     "data": {
      "text/plain": [
       "array([96, 64, 76, 98, 92])"
      ]
     },
     "execution_count": 32,
     "metadata": {},
     "output_type": "execute_result"
    }
   ],
   "source": [
    "arr[ (arr %2 == 0) & (arr > 50) ]"
   ]
  },
  {
   "cell_type": "markdown",
   "id": "2766b071",
   "metadata": {},
   "source": [
    "# find all numbers that not divisible by 7"
   ]
  },
  {
   "cell_type": "code",
   "execution_count": 33,
   "id": "de81528c",
   "metadata": {},
   "outputs": [
    {
     "data": {
      "text/plain": [
       "array([30, 51,  5, 33,  2, 96, 32, 85, 57, 31, 64, 76, 71, 31,  6, 34, 34,\n",
       "       92, 93, 15, 83])"
      ]
     },
     "execution_count": 33,
     "metadata": {},
     "output_type": "execute_result"
    }
   ],
   "source": [
    "arr[arr % 7 != 0]"
   ]
  },
  {
   "cell_type": "code",
   "execution_count": 34,
   "id": "281f3eb3",
   "metadata": {},
   "outputs": [
    {
     "data": {
      "text/plain": [
       "array([30, 51,  5, 33,  2, 96, 32, 85, 57, 31, 64, 76, 71, 31,  6, 34, 34,\n",
       "       92, 93, 15, 83])"
      ]
     },
     "execution_count": 34,
     "metadata": {},
     "output_type": "execute_result"
    }
   ],
   "source": [
    "arr[~(arr % 7 == 0)]\n",
    "# ~ is the logical not "
   ]
  }
 ],
 "metadata": {
  "kernelspec": {
   "display_name": "Python 3 (ipykernel)",
   "language": "python",
   "name": "python3"
  },
  "language_info": {
   "codemirror_mode": {
    "name": "ipython",
    "version": 3
   },
   "file_extension": ".py",
   "mimetype": "text/x-python",
   "name": "python",
   "nbconvert_exporter": "python",
   "pygments_lexer": "ipython3",
   "version": "3.10.6"
  }
 },
 "nbformat": 4,
 "nbformat_minor": 5
}

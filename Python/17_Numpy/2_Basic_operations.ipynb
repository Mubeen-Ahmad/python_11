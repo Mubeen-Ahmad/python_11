{
 "cells": [
  {
   "cell_type": "code",
   "execution_count": 1,
   "id": "8f6fe593",
   "metadata": {},
   "outputs": [],
   "source": [
    "import numpy as np"
   ]
  },
  {
   "cell_type": "code",
   "execution_count": 4,
   "id": "56a25937",
   "metadata": {},
   "outputs": [],
   "source": [
    "ar1 = np.array([[1,2,3],[4,5,6],[7,8,9]])\n",
    "ar2 = np.array([[1,2,3],[4,5,6],[7,8,9]])"
   ]
  },
  {
   "cell_type": "code",
   "execution_count": 5,
   "id": "da681760",
   "metadata": {},
   "outputs": [
    {
     "data": {
      "text/plain": [
       "array([[1, 2, 3],\n",
       "       [4, 5, 6],\n",
       "       [7, 8, 9]])"
      ]
     },
     "execution_count": 5,
     "metadata": {},
     "output_type": "execute_result"
    }
   ],
   "source": [
    "ar1"
   ]
  },
  {
   "cell_type": "code",
   "execution_count": 6,
   "id": "57b9a81b",
   "metadata": {},
   "outputs": [
    {
     "data": {
      "text/plain": [
       "array([[1, 2, 3],\n",
       "       [4, 5, 6],\n",
       "       [7, 8, 9]])"
      ]
     },
     "execution_count": 6,
     "metadata": {},
     "output_type": "execute_result"
    }
   ],
   "source": [
    "ar2"
   ]
  },
  {
   "cell_type": "markdown",
   "id": "f546ff0a",
   "metadata": {},
   "source": [
    "# Scaler Operation\n",
    "## we are working on a array with Single value"
   ]
  },
  {
   "cell_type": "code",
   "execution_count": 7,
   "id": "86968916",
   "metadata": {},
   "outputs": [
    {
     "data": {
      "text/plain": [
       "array([[1, 2, 3],\n",
       "       [4, 5, 6],\n",
       "       [7, 8, 9]])"
      ]
     },
     "execution_count": 7,
     "metadata": {},
     "output_type": "execute_result"
    }
   ],
   "source": [
    "ar1"
   ]
  },
  {
   "cell_type": "code",
   "execution_count": 9,
   "id": "6588784c",
   "metadata": {},
   "outputs": [
    {
     "data": {
      "text/plain": [
       "array([[ 2,  3,  4],\n",
       "       [ 5,  6,  7],\n",
       "       [ 8,  9, 10]])"
      ]
     },
     "execution_count": 9,
     "metadata": {},
     "output_type": "execute_result"
    }
   ],
   "source": [
    "ar1 + 1 # add"
   ]
  },
  {
   "cell_type": "code",
   "execution_count": 11,
   "id": "458c1d7c",
   "metadata": {},
   "outputs": [
    {
     "data": {
      "text/plain": [
       "array([[0, 1, 2],\n",
       "       [3, 4, 5],\n",
       "       [6, 7, 8]])"
      ]
     },
     "execution_count": 11,
     "metadata": {},
     "output_type": "execute_result"
    }
   ],
   "source": [
    "ar1 - 1 # sub"
   ]
  },
  {
   "cell_type": "code",
   "execution_count": 12,
   "id": "244a731f",
   "metadata": {},
   "outputs": [
    {
     "data": {
      "text/plain": [
       "array([[ 2,  4,  6],\n",
       "       [ 8, 10, 12],\n",
       "       [14, 16, 18]])"
      ]
     },
     "execution_count": 12,
     "metadata": {},
     "output_type": "execute_result"
    }
   ],
   "source": [
    "ar1 * 2 # multiply"
   ]
  },
  {
   "cell_type": "code",
   "execution_count": 13,
   "id": "42d00f5e",
   "metadata": {},
   "outputs": [
    {
     "data": {
      "text/plain": [
       "array([[0, 0, 0],\n",
       "       [0, 0, 0],\n",
       "       [0, 0, 0]])"
      ]
     },
     "execution_count": 13,
     "metadata": {},
     "output_type": "execute_result"
    }
   ],
   "source": [
    "ar1 * 0"
   ]
  },
  {
   "cell_type": "code",
   "execution_count": 16,
   "id": "f5930c83",
   "metadata": {},
   "outputs": [
    {
     "data": {
      "text/plain": [
       "array([[0.5, 1. , 1.5],\n",
       "       [2. , 2.5, 3. ],\n",
       "       [3.5, 4. , 4.5]])"
      ]
     },
     "execution_count": 16,
     "metadata": {},
     "output_type": "execute_result"
    }
   ],
   "source": [
    "ar1 / 2"
   ]
  },
  {
   "cell_type": "markdown",
   "id": "88798cdb",
   "metadata": {},
   "source": [
    "## We are used all operators"
   ]
  },
  {
   "cell_type": "markdown",
   "id": "5aff39aa",
   "metadata": {},
   "source": [
    "<br>\n",
    "\n",
    "# relational operations"
   ]
  },
  {
   "cell_type": "code",
   "execution_count": 19,
   "id": "402f9f6b",
   "metadata": {},
   "outputs": [
    {
     "name": "stdout",
     "output_type": "stream",
     "text": [
      "[[1 2 3]\n",
      " [4 5 6]\n",
      " [7 8 9]]\n"
     ]
    },
    {
     "data": {
      "text/plain": [
       "array([[False, False,  True],\n",
       "       [ True,  True,  True],\n",
       "       [ True,  True,  True]])"
      ]
     },
     "execution_count": 19,
     "metadata": {},
     "output_type": "execute_result"
    }
   ],
   "source": [
    "print(ar1)\n",
    "ar1 > 2"
   ]
  },
  {
   "cell_type": "code",
   "execution_count": 20,
   "id": "0942d493",
   "metadata": {},
   "outputs": [
    {
     "name": "stdout",
     "output_type": "stream",
     "text": [
      "[[1 2 3]\n",
      " [4 5 6]\n",
      " [7 8 9]]\n"
     ]
    },
    {
     "data": {
      "text/plain": [
       "array([[False,  True, False],\n",
       "       [False, False, False],\n",
       "       [False, False, False]])"
      ]
     },
     "execution_count": 20,
     "metadata": {},
     "output_type": "execute_result"
    }
   ],
   "source": [
    "print(ar1)\n",
    "ar1 == 2"
   ]
  },
  {
   "cell_type": "code",
   "execution_count": 21,
   "id": "827b9bc4",
   "metadata": {},
   "outputs": [
    {
     "name": "stdout",
     "output_type": "stream",
     "text": [
      "[[1 2 3]\n",
      " [4 5 6]\n",
      " [7 8 9]]\n"
     ]
    },
    {
     "data": {
      "text/plain": [
       "array([[ True,  True, False],\n",
       "       [False, False, False],\n",
       "       [False, False, False]])"
      ]
     },
     "execution_count": 21,
     "metadata": {},
     "output_type": "execute_result"
    }
   ],
   "source": [
    "print(ar1)\n",
    "ar1 <= 2"
   ]
  },
  {
   "cell_type": "markdown",
   "id": "730dd0b3",
   "metadata": {},
   "source": [
    "# we are used all relational operators\n",
    "<br>"
   ]
  },
  {
   "cell_type": "markdown",
   "id": "5dcffb7c",
   "metadata": {},
   "source": [
    "# Vector Operations\n",
    "## Operations on two or more arrays"
   ]
  },
  {
   "cell_type": "code",
   "execution_count": 26,
   "id": "d18b7c8f",
   "metadata": {},
   "outputs": [
    {
     "name": "stdout",
     "output_type": "stream",
     "text": [
      "[[1 2 3]\n",
      " [4 5 6]\n",
      " [7 8 9]] \n",
      "\n",
      " [[1 2 3]\n",
      " [4 5 6]\n",
      " [7 8 9]]\n"
     ]
    },
    {
     "data": {
      "text/plain": [
       "array([[ 2,  4,  6],\n",
       "       [ 8, 10, 12],\n",
       "       [14, 16, 18]])"
      ]
     },
     "execution_count": 26,
     "metadata": {},
     "output_type": "execute_result"
    }
   ],
   "source": [
    "print(ar1,\"\\n\\n\",ar2)\n",
    "ar1 + ar2"
   ]
  },
  {
   "cell_type": "code",
   "execution_count": 27,
   "id": "0d94cfc1",
   "metadata": {},
   "outputs": [
    {
     "name": "stdout",
     "output_type": "stream",
     "text": [
      "[[1 2 3]\n",
      " [4 5 6]\n",
      " [7 8 9]] \n",
      "\n",
      " [[1 2 3]\n",
      " [4 5 6]\n",
      " [7 8 9]]\n"
     ]
    },
    {
     "data": {
      "text/plain": [
       "array([[0, 0, 0],\n",
       "       [0, 0, 0],\n",
       "       [0, 0, 0]])"
      ]
     },
     "execution_count": 27,
     "metadata": {},
     "output_type": "execute_result"
    }
   ],
   "source": [
    "print(ar1,\"\\n\\n\",ar2)\n",
    "ar1 - ar2"
   ]
  },
  {
   "cell_type": "code",
   "execution_count": 28,
   "id": "c358b393",
   "metadata": {},
   "outputs": [
    {
     "name": "stdout",
     "output_type": "stream",
     "text": [
      "[[1 2 3]\n",
      " [4 5 6]\n",
      " [7 8 9]] \n",
      "\n",
      " [[1 2 3]\n",
      " [4 5 6]\n",
      " [7 8 9]]\n"
     ]
    },
    {
     "data": {
      "text/plain": [
       "array([[        1,         4,        27],\n",
       "       [      256,      3125,     46656],\n",
       "       [   823543,  16777216, 387420489]])"
      ]
     },
     "execution_count": 28,
     "metadata": {},
     "output_type": "execute_result"
    }
   ],
   "source": [
    "print(ar1,\"\\n\\n\",ar2)\n",
    "ar1 ** ar2"
   ]
  },
  {
   "cell_type": "markdown",
   "id": "def21a3c",
   "metadata": {},
   "source": [
    "## We are used all operatons"
   ]
  },
  {
   "cell_type": "markdown",
   "id": "c2bf4c74",
   "metadata": {},
   "source": [
    "<br><br>\n",
    "## Some more Useful Function"
   ]
  },
  {
   "cell_type": "markdown",
   "id": "a5cdcad5",
   "metadata": {},
   "source": [
    "# np.max()\n",
    "## return maximum number"
   ]
  },
  {
   "cell_type": "code",
   "execution_count": 52,
   "id": "8816257a",
   "metadata": {},
   "outputs": [
    {
     "name": "stdout",
     "output_type": "stream",
     "text": [
      "[[1 2 3]\n",
      " [4 5 6]\n",
      " [7 8 9]]\n"
     ]
    },
    {
     "data": {
      "text/plain": [
       "9"
      ]
     },
     "execution_count": 52,
     "metadata": {},
     "output_type": "execute_result"
    }
   ],
   "source": [
    "print(ar1)\n",
    "np.max(ar1)"
   ]
  },
  {
   "cell_type": "code",
   "execution_count": 53,
   "id": "3aba7a14",
   "metadata": {},
   "outputs": [
    {
     "data": {
      "text/plain": [
       "array([7, 8, 9])"
      ]
     },
     "execution_count": 53,
     "metadata": {},
     "output_type": "execute_result"
    }
   ],
   "source": [
    "# we also use axis means column wise and row wise\n",
    "np.max(ar1,axis=0)"
   ]
  },
  {
   "cell_type": "code",
   "execution_count": 54,
   "id": "5e756b84",
   "metadata": {},
   "outputs": [
    {
     "data": {
      "text/plain": [
       "array([3, 6, 9])"
      ]
     },
     "execution_count": 54,
     "metadata": {},
     "output_type": "execute_result"
    }
   ],
   "source": [
    "np.max(ar1,axis=1)"
   ]
  },
  {
   "cell_type": "markdown",
   "id": "034c830b",
   "metadata": {},
   "source": [
    "# np.min()\n",
    "## return minimum number"
   ]
  },
  {
   "cell_type": "code",
   "execution_count": 31,
   "id": "5ce9abbe",
   "metadata": {},
   "outputs": [
    {
     "name": "stdout",
     "output_type": "stream",
     "text": [
      "[[1 2 3]\n",
      " [4 5 6]\n",
      " [7 8 9]]\n"
     ]
    },
    {
     "data": {
      "text/plain": [
       "1"
      ]
     },
     "execution_count": 31,
     "metadata": {},
     "output_type": "execute_result"
    }
   ],
   "source": [
    "print(ar1)\n",
    "ar1"
   ]
  },
  {
   "cell_type": "code",
   "execution_count": 55,
   "id": "b3330d7c",
   "metadata": {},
   "outputs": [
    {
     "name": "stdout",
     "output_type": "stream",
     "text": [
      "[1 2 3]\n",
      "[1 4 7]\n"
     ]
    }
   ],
   "source": [
    "print(np.min(ar1,axis=0))\n",
    "print(np.min(ar1,axis=1))"
   ]
  },
  {
   "cell_type": "markdown",
   "id": "859efb66",
   "metadata": {},
   "source": [
    "# np.sum()\n",
    "## return sum of all array "
   ]
  },
  {
   "cell_type": "code",
   "execution_count": 56,
   "id": "4c279c2b",
   "metadata": {},
   "outputs": [
    {
     "name": "stdout",
     "output_type": "stream",
     "text": [
      "[[1 2 3]\n",
      " [4 5 6]\n",
      " [7 8 9]]\n"
     ]
    },
    {
     "data": {
      "text/plain": [
       "45"
      ]
     },
     "execution_count": 56,
     "metadata": {},
     "output_type": "execute_result"
    }
   ],
   "source": [
    "print(ar1)\n",
    "np.sum(ar1)"
   ]
  },
  {
   "cell_type": "code",
   "execution_count": 57,
   "id": "f14c4683",
   "metadata": {},
   "outputs": [
    {
     "name": "stdout",
     "output_type": "stream",
     "text": [
      "[12 15 18]\n",
      "[ 6 15 24]\n"
     ]
    }
   ],
   "source": [
    "print(np.sum(ar1,axis=0))\n",
    "print(np.sum(ar1,axis=1))"
   ]
  },
  {
   "cell_type": "markdown",
   "id": "72ec293f",
   "metadata": {},
   "source": [
    "# np.prod()\n",
    "## return product of all array "
   ]
  },
  {
   "cell_type": "code",
   "execution_count": 58,
   "id": "3d7bc845",
   "metadata": {},
   "outputs": [
    {
     "name": "stdout",
     "output_type": "stream",
     "text": [
      "[[1 2 3]\n",
      " [4 5 6]\n",
      " [7 8 9]]\n"
     ]
    },
    {
     "data": {
      "text/plain": [
       "362880"
      ]
     },
     "execution_count": 58,
     "metadata": {},
     "output_type": "execute_result"
    }
   ],
   "source": [
    "print(ar1)\n",
    "np.prod(ar1)"
   ]
  },
  {
   "cell_type": "code",
   "execution_count": 59,
   "id": "a63bb6d2",
   "metadata": {},
   "outputs": [
    {
     "name": "stdout",
     "output_type": "stream",
     "text": [
      "[ 28  80 162]\n",
      "[  6 120 504]\n"
     ]
    }
   ],
   "source": [
    "print(np.prod(ar1,axis=0))\n",
    "print(np.prod(ar1,axis=1))"
   ]
  },
  {
   "cell_type": "markdown",
   "id": "27249584",
   "metadata": {},
   "source": [
    "# np.mean()\n",
    "## return mean of all array "
   ]
  },
  {
   "cell_type": "code",
   "execution_count": 60,
   "id": "606909b4",
   "metadata": {},
   "outputs": [
    {
     "name": "stdout",
     "output_type": "stream",
     "text": [
      "[[1 2 3]\n",
      " [4 5 6]\n",
      " [7 8 9]]\n"
     ]
    },
    {
     "data": {
      "text/plain": [
       "5.0"
      ]
     },
     "execution_count": 60,
     "metadata": {},
     "output_type": "execute_result"
    }
   ],
   "source": [
    "print(ar1)\n",
    "np.mean(ar1)"
   ]
  },
  {
   "cell_type": "code",
   "execution_count": 50,
   "id": "08db4953",
   "metadata": {},
   "outputs": [
    {
     "name": "stdout",
     "output_type": "stream",
     "text": [
      "[4. 5. 6.]\n",
      "[2. 5. 8.]\n"
     ]
    }
   ],
   "source": [
    "print(ar1.mean(axis=0))\n",
    "print(ar1.mean(axis=1))"
   ]
  },
  {
   "cell_type": "markdown",
   "id": "1b50bfa3",
   "metadata": {},
   "source": [
    "# np.median()\n",
    "## return median of all array "
   ]
  },
  {
   "cell_type": "code",
   "execution_count": 61,
   "id": "6c6c3a8d",
   "metadata": {},
   "outputs": [
    {
     "name": "stdout",
     "output_type": "stream",
     "text": [
      "[[1 2 3]\n",
      " [4 5 6]\n",
      " [7 8 9]]\n"
     ]
    },
    {
     "data": {
      "text/plain": [
       "5.0"
      ]
     },
     "execution_count": 61,
     "metadata": {},
     "output_type": "execute_result"
    }
   ],
   "source": [
    "print(ar1)\n",
    "np.median(ar1)"
   ]
  },
  {
   "cell_type": "code",
   "execution_count": 63,
   "id": "ef57e71c",
   "metadata": {},
   "outputs": [
    {
     "name": "stdout",
     "output_type": "stream",
     "text": [
      "[4. 5. 6.]\n",
      "[2. 5. 8.]\n"
     ]
    }
   ],
   "source": [
    "print(np.median(ar1,axis=0))\n",
    "print(np.median(ar1,axis=1))"
   ]
  },
  {
   "cell_type": "markdown",
   "id": "b5761bbf",
   "metadata": {},
   "source": [
    "# np.std()\n",
    "## return standard Deviation"
   ]
  },
  {
   "cell_type": "code",
   "execution_count": 64,
   "id": "ba1775c0",
   "metadata": {},
   "outputs": [
    {
     "name": "stdout",
     "output_type": "stream",
     "text": [
      "[[1 2 3]\n",
      " [4 5 6]\n",
      " [7 8 9]]\n"
     ]
    },
    {
     "data": {
      "text/plain": [
       "2.581988897471611"
      ]
     },
     "execution_count": 64,
     "metadata": {},
     "output_type": "execute_result"
    }
   ],
   "source": [
    "print(ar1)\n",
    "np.std(ar1)"
   ]
  },
  {
   "cell_type": "code",
   "execution_count": 66,
   "id": "babbe612",
   "metadata": {},
   "outputs": [
    {
     "name": "stdout",
     "output_type": "stream",
     "text": [
      "[2.44948974 2.44948974 2.44948974]\n",
      "[0.81649658 0.81649658 0.81649658]\n"
     ]
    }
   ],
   "source": [
    "print(np.std(ar1,axis=0))\n",
    "print(np.std(ar1,axis=1))"
   ]
  },
  {
   "cell_type": "markdown",
   "id": "0dbd3d28",
   "metadata": {},
   "source": [
    "# np.var()\n",
    "## return Variance"
   ]
  },
  {
   "cell_type": "code",
   "execution_count": 69,
   "id": "a2bb0d96",
   "metadata": {},
   "outputs": [
    {
     "name": "stdout",
     "output_type": "stream",
     "text": [
      "[[1 2 3]\n",
      " [4 5 6]\n",
      " [7 8 9]]\n",
      "6.666666666666667\n"
     ]
    }
   ],
   "source": [
    "print(ar1)\n",
    "print()\n",
    "print(np.var(ar1))"
   ]
  },
  {
   "cell_type": "code",
   "execution_count": 70,
   "id": "3284b65e",
   "metadata": {},
   "outputs": [
    {
     "name": "stdout",
     "output_type": "stream",
     "text": [
      "[6. 6. 6.]\n",
      "[0.66666667 0.66666667 0.66666667]\n"
     ]
    }
   ],
   "source": [
    "print(np.var(ar1,axis=0))\n",
    "print(np.var(ar1,axis=1))"
   ]
  },
  {
   "cell_type": "markdown",
   "id": "1b77ef77",
   "metadata": {},
   "source": [
    "# Trigonometry Funtions"
   ]
  },
  {
   "cell_type": "markdown",
   "id": "0e39aa81",
   "metadata": {},
   "source": [
    "# np.sin()"
   ]
  },
  {
   "cell_type": "code",
   "execution_count": 71,
   "id": "00565586",
   "metadata": {},
   "outputs": [
    {
     "data": {
      "text/plain": [
       "array([[ 0.84147098,  0.90929743,  0.14112001],\n",
       "       [-0.7568025 , -0.95892427, -0.2794155 ],\n",
       "       [ 0.6569866 ,  0.98935825,  0.41211849]])"
      ]
     },
     "execution_count": 71,
     "metadata": {},
     "output_type": "execute_result"
    }
   ],
   "source": [
    "np.sin(ar1)"
   ]
  },
  {
   "cell_type": "markdown",
   "id": "5c0c8aaa",
   "metadata": {},
   "source": [
    "# np.cos"
   ]
  },
  {
   "cell_type": "code",
   "execution_count": 74,
   "id": "6a30b261",
   "metadata": {},
   "outputs": [
    {
     "data": {
      "text/plain": [
       "array([[ 0.54030231, -0.41614684, -0.9899925 ],\n",
       "       [-0.65364362,  0.28366219,  0.96017029],\n",
       "       [ 0.75390225, -0.14550003, -0.91113026]])"
      ]
     },
     "execution_count": 74,
     "metadata": {},
     "output_type": "execute_result"
    }
   ],
   "source": [
    "np.cos(ar1)"
   ]
  },
  {
   "cell_type": "markdown",
   "id": "2010e7fb",
   "metadata": {},
   "source": [
    "# np.tan()"
   ]
  },
  {
   "cell_type": "code",
   "execution_count": 75,
   "id": "16f8dae7",
   "metadata": {},
   "outputs": [
    {
     "data": {
      "text/plain": [
       "array([[ 1.55740772, -2.18503986, -0.14254654],\n",
       "       [ 1.15782128, -3.38051501, -0.29100619],\n",
       "       [ 0.87144798, -6.79971146, -0.45231566]])"
      ]
     },
     "execution_count": 75,
     "metadata": {},
     "output_type": "execute_result"
    }
   ],
   "source": [
    "np.tan(ar1)"
   ]
  },
  {
   "cell_type": "markdown",
   "id": "d784387f",
   "metadata": {},
   "source": [
    "# np.sinh()"
   ]
  },
  {
   "cell_type": "code",
   "execution_count": 76,
   "id": "8293b7fc",
   "metadata": {},
   "outputs": [
    {
     "data": {
      "text/plain": [
       "array([[1.17520119e+00, 3.62686041e+00, 1.00178749e+01],\n",
       "       [2.72899172e+01, 7.42032106e+01, 2.01713157e+02],\n",
       "       [5.48316123e+02, 1.49047883e+03, 4.05154190e+03]])"
      ]
     },
     "execution_count": 76,
     "metadata": {},
     "output_type": "execute_result"
    }
   ],
   "source": [
    "np.sinh(ar1)"
   ]
  },
  {
   "cell_type": "markdown",
   "id": "ed017ad7",
   "metadata": {},
   "source": [
    "# np.cosh()"
   ]
  },
  {
   "cell_type": "code",
   "execution_count": 79,
   "id": "7ccf8fff",
   "metadata": {},
   "outputs": [
    {
     "data": {
      "text/plain": [
       "array([[1.54308063e+00, 3.76219569e+00, 1.00676620e+01],\n",
       "       [2.73082328e+01, 7.42099485e+01, 2.01715636e+02],\n",
       "       [5.48317035e+02, 1.49047916e+03, 4.05154203e+03]])"
      ]
     },
     "execution_count": 79,
     "metadata": {},
     "output_type": "execute_result"
    }
   ],
   "source": [
    "np.cosh(ar1)"
   ]
  },
  {
   "cell_type": "markdown",
   "id": "f4fec91d",
   "metadata": {},
   "source": [
    "# np.tanh()"
   ]
  },
  {
   "cell_type": "code",
   "execution_count": 83,
   "id": "32c38386",
   "metadata": {},
   "outputs": [
    {
     "data": {
      "text/plain": [
       "array([[0.76159416, 0.96402758, 0.99505475],\n",
       "       [0.9993293 , 0.9999092 , 0.99998771],\n",
       "       [0.99999834, 0.99999977, 0.99999997]])"
      ]
     },
     "execution_count": 83,
     "metadata": {},
     "output_type": "execute_result"
    }
   ],
   "source": [
    "np.tanh(ar1)"
   ]
  },
  {
   "cell_type": "markdown",
   "id": "bc9bd722",
   "metadata": {},
   "source": [
    "# np.dot()\n",
    "## return dot product"
   ]
  },
  {
   "cell_type": "code",
   "execution_count": 94,
   "id": "9cc154c2",
   "metadata": {},
   "outputs": [
    {
     "data": {
      "text/plain": [
       "array([[ 30,  36,  42],\n",
       "       [ 66,  81,  96],\n",
       "       [102, 126, 150]])"
      ]
     },
     "execution_count": 94,
     "metadata": {},
     "output_type": "execute_result"
    }
   ],
   "source": [
    "np.dot(ar1,ar2)"
   ]
  },
  {
   "cell_type": "markdown",
   "id": "103e39e7",
   "metadata": {},
   "source": [
    "# np.exp()\n",
    "## return Exponent "
   ]
  },
  {
   "cell_type": "code",
   "execution_count": 98,
   "id": "1f03561b",
   "metadata": {},
   "outputs": [
    {
     "data": {
      "text/plain": [
       "array([[2.71828183e+00, 7.38905610e+00, 2.00855369e+01],\n",
       "       [5.45981500e+01, 1.48413159e+02, 4.03428793e+02],\n",
       "       [1.09663316e+03, 2.98095799e+03, 8.10308393e+03]])"
      ]
     },
     "execution_count": 98,
     "metadata": {},
     "output_type": "execute_result"
    }
   ],
   "source": [
    "np.exp(ar1)"
   ]
  },
  {
   "cell_type": "markdown",
   "id": "f205547b",
   "metadata": {},
   "source": [
    "# np.log()\n",
    "## return log"
   ]
  },
  {
   "cell_type": "code",
   "execution_count": 103,
   "id": "547720d3",
   "metadata": {},
   "outputs": [
    {
     "data": {
      "text/plain": [
       "array([[0.        , 0.69314718, 1.09861229],\n",
       "       [1.38629436, 1.60943791, 1.79175947],\n",
       "       [1.94591015, 2.07944154, 2.19722458]])"
      ]
     },
     "execution_count": 103,
     "metadata": {},
     "output_type": "execute_result"
    }
   ],
   "source": [
    "np.log(ar1)"
   ]
  },
  {
   "cell_type": "markdown",
   "id": "ea48ac69",
   "metadata": {},
   "source": [
    "# np.round()\n",
    "## round the nearest value of before point"
   ]
  },
  {
   "cell_type": "code",
   "execution_count": 128,
   "id": "e9f9ad23",
   "metadata": {},
   "outputs": [
    {
     "data": {
      "text/plain": [
       "array([[20.04013569, 20.52509211, 11.35635698],\n",
       "       [62.79092511,  1.69624541, 24.45879096],\n",
       "       [40.308244  ,  4.76066451, 90.0927468 ]])"
      ]
     },
     "execution_count": 128,
     "metadata": {},
     "output_type": "execute_result"
    }
   ],
   "source": [
    "new = np.array([\n",
    "       [20.04013569, 20.52509211, 11.35635698],\n",
    "       [62.79092511,  1.69624541, 24.45879096],\n",
    "       [40.308244  ,  4.76066451, 90.0927468 ]])\n",
    "\n",
    "new"
   ]
  },
  {
   "cell_type": "code",
   "execution_count": 129,
   "id": "6490b9a0",
   "metadata": {},
   "outputs": [
    {
     "data": {
      "text/plain": [
       "array([[20., 21., 11.],\n",
       "       [63.,  2., 24.],\n",
       "       [40.,  5., 90.]])"
      ]
     },
     "execution_count": 129,
     "metadata": {},
     "output_type": "execute_result"
    }
   ],
   "source": [
    "np.round(new)"
   ]
  },
  {
   "cell_type": "markdown",
   "id": "15b24d9d",
   "metadata": {},
   "source": [
    "# np.floor()\n",
    "## round the previous value of before point\n",
    "## 6.9 -> 6"
   ]
  },
  {
   "cell_type": "code",
   "execution_count": 127,
   "id": "1defbe48",
   "metadata": {},
   "outputs": [
    {
     "name": "stdout",
     "output_type": "stream",
     "text": [
      "[[20.04013569 20.52509211 11.35635698]\n",
      " [62.79092511  1.69624541 24.45879096]\n",
      " [40.308244    4.76066451 90.0927468 ]]\n"
     ]
    },
    {
     "data": {
      "text/plain": [
       "array([[20., 20., 11.],\n",
       "       [62.,  1., 24.],\n",
       "       [40.,  4., 90.]])"
      ]
     },
     "execution_count": 127,
     "metadata": {},
     "output_type": "execute_result"
    }
   ],
   "source": [
    "print(new)\n",
    "np.floor(new)"
   ]
  },
  {
   "cell_type": "markdown",
   "id": "2838270e",
   "metadata": {},
   "source": [
    "# np.ceil()\n",
    "## round the next value of before point\n",
    "## 6.9 -> 7"
   ]
  },
  {
   "cell_type": "code",
   "execution_count": 131,
   "id": "55638e53",
   "metadata": {},
   "outputs": [
    {
     "data": {
      "text/plain": [
       "array([[21., 21., 12.],\n",
       "       [63.,  2., 25.],\n",
       "       [41.,  5., 91.]])"
      ]
     },
     "execution_count": 131,
     "metadata": {},
     "output_type": "execute_result"
    }
   ],
   "source": [
    "np.ceil(new)"
   ]
  }
 ],
 "metadata": {
  "kernelspec": {
   "display_name": "Python 3 (ipykernel)",
   "language": "python",
   "name": "python3"
  },
  "language_info": {
   "codemirror_mode": {
    "name": "ipython",
    "version": 3
   },
   "file_extension": ".py",
   "mimetype": "text/x-python",
   "name": "python",
   "nbconvert_exporter": "python",
   "pygments_lexer": "ipython3",
   "version": "3.10.6"
  }
 },
 "nbformat": 4,
 "nbformat_minor": 5
}

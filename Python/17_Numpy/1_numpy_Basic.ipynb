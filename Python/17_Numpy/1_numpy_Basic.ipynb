{
 "cells": [
  {
   "cell_type": "markdown",
   "id": "9a65c4fb",
   "metadata": {},
   "source": [
    "<br>\n",
    "\n",
    "# Basic Important Functions and Attributes"
   ]
  },
  {
   "cell_type": "markdown",
   "id": "b123c6b1",
   "metadata": {},
   "source": [
    "- ## np.array()\n",
    "- ## dtype\n",
    "- ## ndim\n",
    "- ## shape\n",
    "- ## size\n",
    "- ## itemsize\n",
    "- ## np.arange()\n",
    "    - ## np.arrange(1,10)\n",
    "    - ## np.arrange(1,10,2)\n",
    "- ## np.reshape()\n",
    "    - ## np.reshape(row,-1)\n",
    "    - ## np.reshape(-1,row)\n",
    "- ## astype()\n",
    "- ## ones()\n",
    "- ## zeros()\n",
    "- ## random.random()\n",
    "- ## linespace()\n",
    "- ## np.identity()"
   ]
  },
  {
   "cell_type": "markdown",
   "id": "65c714e9",
   "metadata": {},
   "source": [
    "- ## np.transpose() or .T\n",
    "- ## np.reval()\n",
    "- ## np.stack()\n",
    "- ## np.hstack()\n",
    "- ## np.vstack()\n",
    "- ## np.split()\n",
    "- ## np.vsplit()\n",
    "- ## np.hsplit()"
   ]
  },
  {
   "cell_type": "markdown",
   "id": "45e4d676",
   "metadata": {},
   "source": [
    "<br>\n",
    "\n",
    "### install numpy"
   ]
  },
  {
   "cell_type": "code",
   "execution_count": 1,
   "id": "0567e957",
   "metadata": {},
   "outputs": [
    {
     "name": "stdout",
     "output_type": "stream",
     "text": [
      "Defaulting to user installation because normal site-packages is not writeable\n",
      "Requirement already satisfied: numpy in /home/sweeterror404/.local/lib/python3.10/site-packages (1.24.1)\n"
     ]
    }
   ],
   "source": [
    "!pip install numpy\n",
    "# already installed"
   ]
  },
  {
   "cell_type": "code",
   "execution_count": 2,
   "id": "0294cc30",
   "metadata": {},
   "outputs": [],
   "source": [
    "import numpy as np"
   ]
  },
  {
   "cell_type": "markdown",
   "id": "1c0df912",
   "metadata": {},
   "source": [
    "## np.array()"
   ]
  },
  {
   "cell_type": "code",
   "execution_count": 20,
   "id": "1eac107c",
   "metadata": {},
   "outputs": [
    {
     "name": "stdout",
     "output_type": "stream",
     "text": [
      "[1 2 3]\n"
     ]
    }
   ],
   "source": [
    "a = np.array([1,2,3]) # 1-D array\n",
    "print(a)"
   ]
  },
  {
   "cell_type": "markdown",
   "id": "90c63b61",
   "metadata": {},
   "source": [
    "## use ndim method for check Dimension"
   ]
  },
  {
   "cell_type": "code",
   "execution_count": 21,
   "id": "99a4b2e0",
   "metadata": {},
   "outputs": [
    {
     "data": {
      "text/plain": [
       "1"
      ]
     },
     "execution_count": 21,
     "metadata": {},
     "output_type": "execute_result"
    }
   ],
   "source": [
    "a.ndim"
   ]
  },
  {
   "cell_type": "code",
   "execution_count": 24,
   "id": "badee05d",
   "metadata": {},
   "outputs": [
    {
     "data": {
      "text/plain": [
       "array([[1, 2, 3]])"
      ]
     },
     "execution_count": 24,
     "metadata": {},
     "output_type": "execute_result"
    }
   ],
   "source": [
    "b = np.array([ [1,2,3] ]) # 2-D array\n",
    "b"
   ]
  },
  {
   "cell_type": "code",
   "execution_count": 23,
   "id": "2e694e03",
   "metadata": {},
   "outputs": [
    {
     "data": {
      "text/plain": [
       "2"
      ]
     },
     "execution_count": 23,
     "metadata": {},
     "output_type": "execute_result"
    }
   ],
   "source": [
    "b.ndim"
   ]
  },
  {
   "cell_type": "code",
   "execution_count": 26,
   "id": "1fa879fd",
   "metadata": {},
   "outputs": [
    {
     "data": {
      "text/plain": [
       "array([[[1, 2, 3]]])"
      ]
     },
     "execution_count": 26,
     "metadata": {},
     "output_type": "execute_result"
    }
   ],
   "source": [
    "c = np.array([ [ [1,2,3] ] ]) # 3-D array\n",
    "c"
   ]
  },
  {
   "cell_type": "code",
   "execution_count": 27,
   "id": "a6eb1ece",
   "metadata": {},
   "outputs": [
    {
     "data": {
      "text/plain": [
       "3"
      ]
     },
     "execution_count": 27,
     "metadata": {},
     "output_type": "execute_result"
    }
   ],
   "source": [
    "c.ndim"
   ]
  },
  {
   "cell_type": "markdown",
   "id": "4f74e39d",
   "metadata": {},
   "source": [
    "# dtype change data type"
   ]
  },
  {
   "cell_type": "code",
   "execution_count": 29,
   "id": "fad59c1c",
   "metadata": {},
   "outputs": [
    {
     "data": {
      "text/plain": [
       "array([1., 2., 3.])"
      ]
     },
     "execution_count": 29,
     "metadata": {},
     "output_type": "execute_result"
    }
   ],
   "source": [
    "np.array([1,2,3],dtype=float) # float"
   ]
  },
  {
   "cell_type": "code",
   "execution_count": 31,
   "id": "da2fffc2",
   "metadata": {},
   "outputs": [
    {
     "data": {
      "text/plain": [
       "array(['1', '2', '3'], dtype='<U1')"
      ]
     },
     "execution_count": 31,
     "metadata": {},
     "output_type": "execute_result"
    }
   ],
   "source": [
    "np.array([1,2,3],dtype=str) # string"
   ]
  },
  {
   "cell_type": "code",
   "execution_count": 11,
   "id": "fa284cee",
   "metadata": {},
   "outputs": [
    {
     "data": {
      "text/plain": [
       "array([False,  True,  True])"
      ]
     },
     "execution_count": 11,
     "metadata": {},
     "output_type": "execute_result"
    }
   ],
   "source": [
    "np.array([0,1,2],dtype=bool) # bool"
   ]
  },
  {
   "cell_type": "markdown",
   "id": "9c132e45",
   "metadata": {},
   "source": [
    "# arange()\n",
    "## arange is same as range() function"
   ]
  },
  {
   "cell_type": "code",
   "execution_count": 35,
   "id": "3f0062e3",
   "metadata": {},
   "outputs": [
    {
     "data": {
      "text/plain": [
       "array([1, 2, 3, 4, 5, 6, 7, 8, 9])"
      ]
     },
     "execution_count": 35,
     "metadata": {},
     "output_type": "execute_result"
    }
   ],
   "source": [
    "np.arange(1,10)"
   ]
  },
  {
   "cell_type": "code",
   "execution_count": 36,
   "id": "2a59d85d",
   "metadata": {},
   "outputs": [
    {
     "data": {
      "text/plain": [
       "array([1, 3, 5, 7, 9])"
      ]
     },
     "execution_count": 36,
     "metadata": {},
     "output_type": "execute_result"
    }
   ],
   "source": [
    "# also we provide step argument\n",
    "np.arange(1,10,2)"
   ]
  },
  {
   "cell_type": "markdown",
   "id": "14e3922e",
   "metadata": {},
   "source": [
    "## shape \n",
    "## return the tuple (no of Inner Box ,no of elements)"
   ]
  },
  {
   "cell_type": "code",
   "execution_count": 4,
   "id": "e10c1a12",
   "metadata": {},
   "outputs": [
    {
     "data": {
      "text/plain": [
       "array([[1, 3, 4],\n",
       "       [4, 5, 6]])"
      ]
     },
     "execution_count": 4,
     "metadata": {},
     "output_type": "execute_result"
    }
   ],
   "source": [
    "ar = np.array([\n",
    "    [1,3,4],\n",
    "    [4,5,6]\n",
    "])\n",
    "ar"
   ]
  },
  {
   "cell_type": "code",
   "execution_count": 5,
   "id": "9088ff36",
   "metadata": {},
   "outputs": [
    {
     "data": {
      "text/plain": [
       "2"
      ]
     },
     "execution_count": 5,
     "metadata": {},
     "output_type": "execute_result"
    }
   ],
   "source": [
    "ar.ndim"
   ]
  },
  {
   "cell_type": "code",
   "execution_count": 70,
   "id": "382ba54f",
   "metadata": {},
   "outputs": [
    {
     "data": {
      "text/plain": [
       "(2, 3)"
      ]
     },
     "execution_count": 70,
     "metadata": {},
     "output_type": "execute_result"
    }
   ],
   "source": [
    "ar.shape"
   ]
  },
  {
   "cell_type": "markdown",
   "id": "8119497c",
   "metadata": {},
   "source": [
    "## 2 by 3 means (2 row , 3 column)"
   ]
  },
  {
   "cell_type": "code",
   "execution_count": 7,
   "id": "f3ffaaee",
   "metadata": {},
   "outputs": [
    {
     "name": "stdout",
     "output_type": "stream",
     "text": [
      "Inner Box   ->  2\n",
      "Now of values each box ->  3\n"
     ]
    }
   ],
   "source": [
    "print(\"Inner Box   -> \",ar.shape[0])\n",
    "print(\"Now of values each box -> \",ar.shape[1])"
   ]
  },
  {
   "cell_type": "markdown",
   "id": "34e5d2c2",
   "metadata": {},
   "source": [
    "## try with 3D "
   ]
  },
  {
   "cell_type": "code",
   "execution_count": 72,
   "id": "c87a2aa7",
   "metadata": {},
   "outputs": [
    {
     "name": "stdout",
     "output_type": "stream",
     "text": [
      "[[[1 2 3]\n",
      "  [4 5 6]\n",
      "  [7 8 9]]]\n"
     ]
    }
   ],
   "source": [
    "ar = np.array([\n",
    "    [\n",
    "        [1,2,3],\n",
    "        [4,5,6],\n",
    "        [7,8,9]\n",
    "    ]\n",
    "])\n",
    "print(ar)"
   ]
  },
  {
   "cell_type": "code",
   "execution_count": 73,
   "id": "4e0fb9ef",
   "metadata": {},
   "outputs": [
    {
     "data": {
      "text/plain": [
       "(1, 3, 3)"
      ]
     },
     "execution_count": 73,
     "metadata": {},
     "output_type": "execute_result"
    }
   ],
   "source": [
    "ar.shape"
   ]
  },
  {
   "cell_type": "markdown",
   "id": "5f513ae6",
   "metadata": {},
   "source": [
    "# what is 1 ?"
   ]
  },
  {
   "cell_type": "code",
   "execution_count": null,
   "id": "32a099e9",
   "metadata": {},
   "outputs": [],
   "source": [
    "\"\"\"\n",
    "[  \n",
    "    [ ---------------------> open bracket\n",
    "        [1,2,3],\n",
    "        [4,5,6],\n",
    "        [7,8,9]\n",
    "    ] ---------------------> close bracket    only 1 bracker\n",
    "]\n",
    "\"\"\""
   ]
  },
  {
   "cell_type": "code",
   "execution_count": 90,
   "id": "ac79bb9f",
   "metadata": {},
   "outputs": [
    {
     "name": "stdout",
     "output_type": "stream",
     "text": [
      "[[[1 2 3]\n",
      "  [4 5 6]]\n",
      "\n",
      " [[1 2 3]\n",
      "  [4 5 6]]]\n"
     ]
    }
   ],
   "source": [
    "ar = np.array([\n",
    "    [ #---------------------> open bracket   \n",
    "        [1,2,3],\n",
    "        [4,5,6],\n",
    "    ]# ---------------------> close bracket\n",
    "    ,\n",
    "    [ #---------------------> open bracket   \n",
    "        [1,2,3],\n",
    "        [4,5,6],\n",
    "    ],# ---------------------> close bracket\n",
    "   \n",
    "]) # TOTAL 2 BRACKETS\n",
    "print(ar)\n",
    "# it means  2 ,2(row), 3(col) --> shape"
   ]
  },
  {
   "cell_type": "code",
   "execution_count": 78,
   "id": "a9eec7f2",
   "metadata": {},
   "outputs": [
    {
     "data": {
      "text/plain": [
       "(2, 2, 3)"
      ]
     },
     "execution_count": 78,
     "metadata": {},
     "output_type": "execute_result"
    }
   ],
   "source": [
    "ar.shape"
   ]
  },
  {
   "cell_type": "code",
   "execution_count": 83,
   "id": "36266f4c",
   "metadata": {},
   "outputs": [
    {
     "data": {
      "text/plain": [
       "(2, 2, 3)"
      ]
     },
     "execution_count": 83,
     "metadata": {},
     "output_type": "execute_result"
    }
   ],
   "source": [
    "ar.shape"
   ]
  },
  {
   "cell_type": "markdown",
   "id": "0ae47e4f",
   "metadata": {},
   "source": [
    "# np.reshape()\n",
    "## change shape of array"
   ]
  },
  {
   "cell_type": "code",
   "execution_count": 21,
   "id": "acb2d6a2",
   "metadata": {},
   "outputs": [
    {
     "name": "stdout",
     "output_type": "stream",
     "text": [
      "[[1 2 3]]\n",
      "\n",
      "(1, 3)\n"
     ]
    }
   ],
   "source": [
    "ar = np.array([[1,2,3]])\n",
    "print(ar)\n",
    "print()\n",
    "print(ar.shape)"
   ]
  },
  {
   "cell_type": "code",
   "execution_count": 25,
   "id": "fdd5d2ef",
   "metadata": {},
   "outputs": [
    {
     "data": {
      "text/plain": [
       "array([[1],\n",
       "       [2],\n",
       "       [3]])"
      ]
     },
     "execution_count": 25,
     "metadata": {},
     "output_type": "execute_result"
    }
   ],
   "source": [
    "ar.reshape(3,1) # change rows with column"
   ]
  },
  {
   "cell_type": "markdown",
   "id": "ce3361e4",
   "metadata": {},
   "source": [
    "## Note reshpe are depend on array means e.g if actuall array shape is 2 rows and 2 column than it is not possible to reshape with 4 by 4 etc.\n"
   ]
  },
  {
   "cell_type": "code",
   "execution_count": 44,
   "id": "06a742e1",
   "metadata": {},
   "outputs": [
    {
     "name": "stdout",
     "output_type": "stream",
     "text": [
      "(2, 3)\n",
      "\n",
      "[[1 2 3]\n",
      " [4 5 6]]\n"
     ]
    }
   ],
   "source": [
    "ar = np.array([[1,2,3],[4,5,6]])\n",
    "print(ar.shape)\n",
    "print()\n",
    "print(ar)"
   ]
  },
  {
   "cell_type": "code",
   "execution_count": 47,
   "id": "e5a2a730",
   "metadata": {},
   "outputs": [
    {
     "ename": "ValueError",
     "evalue": "cannot reshape array of size 6 into shape (4,4)",
     "output_type": "error",
     "traceback": [
      "\u001b[0;31m---------------------------------------------------------------------------\u001b[0m",
      "\u001b[0;31mValueError\u001b[0m                                Traceback (most recent call last)",
      "Cell \u001b[0;32mIn [47], line 1\u001b[0m\n\u001b[0;32m----> 1\u001b[0m \u001b[43mar\u001b[49m\u001b[38;5;241;43m.\u001b[39;49m\u001b[43mreshape\u001b[49m\u001b[43m(\u001b[49m\u001b[38;5;241;43m4\u001b[39;49m\u001b[43m,\u001b[49m\u001b[38;5;241;43m4\u001b[39;49m\u001b[43m)\u001b[49m\n",
      "\u001b[0;31mValueError\u001b[0m: cannot reshape array of size 6 into shape (4,4)"
     ]
    }
   ],
   "source": [
    "ar.reshape(4,4)"
   ]
  },
  {
   "cell_type": "markdown",
   "id": "5346ecf1",
   "metadata": {},
   "source": [
    "## because actual shape is 2 x 3 = 6 and reshape only possible if the value is multiply is 6 "
   ]
  },
  {
   "cell_type": "markdown",
   "id": "004606f7",
   "metadata": {},
   "source": [
    "## posible Sequence"
   ]
  },
  {
   "cell_type": "code",
   "execution_count": 54,
   "id": "eb02ec5b",
   "metadata": {},
   "outputs": [
    {
     "name": "stdout",
     "output_type": "stream",
     "text": [
      "[[1 2]\n",
      " [3 4]\n",
      " [5 6]]\n",
      "\n",
      "[[1 2 3]\n",
      " [4 5 6]]\n",
      "\n",
      "[[1 2 3 4 5 6]]\n",
      "\n",
      "[[1]\n",
      " [2]\n",
      " [3]\n",
      " [4]\n",
      " [5]\n",
      " [6]]\n",
      "\n"
     ]
    }
   ],
   "source": [
    "# 3 * 2\n",
    "# 2 * 3\n",
    "# 1 * 6\n",
    "# 6 * 1\n",
    "\n",
    "print(ar.reshape(3,2))\n",
    "print()\n",
    "print(ar.reshape(2,3))\n",
    "print()\n",
    "print(ar.reshape(1,6))\n",
    "print()\n",
    "print(ar.reshape(6,1))\n",
    "print()\n",
    "\n"
   ]
  },
  {
   "cell_type": "markdown",
   "id": "54695b63",
   "metadata": {},
   "source": [
    "## we also use -1\n",
    "### -1 are auto adjust the rows or col"
   ]
  },
  {
   "cell_type": "code",
   "execution_count": 55,
   "id": "633c5b3e",
   "metadata": {},
   "outputs": [
    {
     "data": {
      "text/plain": [
       "array([[1, 2],\n",
       "       [3, 4],\n",
       "       [5, 6]])"
      ]
     },
     "execution_count": 55,
     "metadata": {},
     "output_type": "execute_result"
    }
   ],
   "source": [
    "x = -1\n",
    "ar.reshape(3,x) # 3 , x(2) = 6"
   ]
  },
  {
   "cell_type": "code",
   "execution_count": 56,
   "id": "8f5e99d7",
   "metadata": {},
   "outputs": [
    {
     "data": {
      "text/plain": [
       "array([[1, 2, 3],\n",
       "       [4, 5, 6]])"
      ]
     },
     "execution_count": 56,
     "metadata": {},
     "output_type": "execute_result"
    }
   ],
   "source": [
    "ar.reshape(x,3) # x(2) , 3 = 6"
   ]
  },
  {
   "cell_type": "code",
   "execution_count": 58,
   "id": "8dd4fe02",
   "metadata": {},
   "outputs": [
    {
     "data": {
      "text/plain": [
       "array([[1, 2, 3, 4, 5, 6]])"
      ]
     },
     "execution_count": 58,
     "metadata": {},
     "output_type": "execute_result"
    }
   ],
   "source": [
    "ar.reshape(1,x) # 1 , x(6) = 6"
   ]
  },
  {
   "cell_type": "code",
   "execution_count": 59,
   "id": "5b5cf55a",
   "metadata": {},
   "outputs": [
    {
     "data": {
      "text/plain": [
       "array([[1],\n",
       "       [2],\n",
       "       [3],\n",
       "       [4],\n",
       "       [5],\n",
       "       [6]])"
      ]
     },
     "execution_count": 59,
     "metadata": {},
     "output_type": "execute_result"
    }
   ],
   "source": [
    "ar.reshape(6,x) # 6 , x(1) = 6"
   ]
  },
  {
   "cell_type": "markdown",
   "id": "29a64928",
   "metadata": {},
   "source": [
    "## we can't use -1 in both (row,col)"
   ]
  },
  {
   "cell_type": "code",
   "execution_count": 60,
   "id": "a62e6b62",
   "metadata": {},
   "outputs": [
    {
     "ename": "ValueError",
     "evalue": "can only specify one unknown dimension",
     "output_type": "error",
     "traceback": [
      "\u001b[0;31m---------------------------------------------------------------------------\u001b[0m",
      "\u001b[0;31mValueError\u001b[0m                                Traceback (most recent call last)",
      "Cell \u001b[0;32mIn [60], line 1\u001b[0m\n\u001b[0;32m----> 1\u001b[0m \u001b[43mar\u001b[49m\u001b[38;5;241;43m.\u001b[39;49m\u001b[43mreshape\u001b[49m\u001b[43m(\u001b[49m\u001b[38;5;241;43m-\u001b[39;49m\u001b[38;5;241;43m1\u001b[39;49m\u001b[43m,\u001b[49m\u001b[38;5;241;43m-\u001b[39;49m\u001b[38;5;241;43m1\u001b[39;49m\u001b[43m)\u001b[49m\n",
      "\u001b[0;31mValueError\u001b[0m: can only specify one unknown dimension"
     ]
    }
   ],
   "source": [
    "ar.reshape(-1,-1)"
   ]
  },
  {
   "cell_type": "markdown",
   "id": "f6e05050",
   "metadata": {},
   "source": [
    "# size\n",
    "## return all no of Element in arru"
   ]
  },
  {
   "cell_type": "code",
   "execution_count": 91,
   "id": "5b382f44",
   "metadata": {},
   "outputs": [
    {
     "data": {
      "text/plain": [
       "array([[[1, 2, 3],\n",
       "        [4, 5, 6]],\n",
       "\n",
       "       [[1, 2, 3],\n",
       "        [4, 5, 6]]])"
      ]
     },
     "execution_count": 91,
     "metadata": {},
     "output_type": "execute_result"
    }
   ],
   "source": [
    "ar"
   ]
  },
  {
   "cell_type": "code",
   "execution_count": 92,
   "id": "33711c9a",
   "metadata": {},
   "outputs": [
    {
     "name": "stdout",
     "output_type": "stream",
     "text": [
      "12\n"
     ]
    }
   ],
   "source": [
    "# 12 item in array\n",
    "print(ar.size)"
   ]
  },
  {
   "cell_type": "markdown",
   "id": "8a61a456",
   "metadata": {},
   "source": [
    "# itemsize\n",
    "## return size(in bytes) of array that are store in memory"
   ]
  },
  {
   "cell_type": "code",
   "execution_count": 93,
   "id": "5e54d26b",
   "metadata": {},
   "outputs": [
    {
     "name": "stdout",
     "output_type": "stream",
     "text": [
      "8\n"
     ]
    }
   ],
   "source": [
    "print(ar.itemsize)"
   ]
  },
  {
   "cell_type": "markdown",
   "id": "0634b1d2",
   "metadata": {},
   "source": [
    "# astype()\n",
    "## change datatype \n"
   ]
  },
  {
   "cell_type": "code",
   "execution_count": 97,
   "id": "51ef8b51",
   "metadata": {},
   "outputs": [
    {
     "name": "stdout",
     "output_type": "stream",
     "text": [
      "[[1 2 3]\n",
      " [4 5 6]]\n"
     ]
    }
   ],
   "source": [
    "ar = np.array([[1,2,3],[4,5,6]])\n",
    "print(ar)"
   ]
  },
  {
   "cell_type": "code",
   "execution_count": 100,
   "id": "5669f96b",
   "metadata": {},
   "outputs": [
    {
     "data": {
      "text/plain": [
       "array([['1', '2', '3'],\n",
       "       ['4', '5', '6']], dtype='<U21')"
      ]
     },
     "execution_count": 100,
     "metadata": {},
     "output_type": "execute_result"
    }
   ],
   "source": [
    "# now change type\n",
    "ar.astype(str)"
   ]
  },
  {
   "cell_type": "markdown",
   "id": "21564d70",
   "metadata": {},
   "source": [
    "### but actual data are not changed"
   ]
  },
  {
   "cell_type": "code",
   "execution_count": 101,
   "id": "aee9ebb7",
   "metadata": {},
   "outputs": [
    {
     "data": {
      "text/plain": [
       "array([[1, 2, 3],\n",
       "       [4, 5, 6]])"
      ]
     },
     "execution_count": 101,
     "metadata": {},
     "output_type": "execute_result"
    }
   ],
   "source": [
    "ar"
   ]
  },
  {
   "cell_type": "code",
   "execution_count": 102,
   "id": "79034414",
   "metadata": {},
   "outputs": [
    {
     "data": {
      "text/plain": [
       "array([[1., 2., 3.],\n",
       "       [4., 5., 6.]])"
      ]
     },
     "execution_count": 102,
     "metadata": {},
     "output_type": "execute_result"
    }
   ],
   "source": [
    "# change in float\n",
    "ar.astype(float)"
   ]
  },
  {
   "cell_type": "markdown",
   "id": "01489b75",
   "metadata": {},
   "source": [
    "# ones()\n",
    "## create 1 Elemets array"
   ]
  },
  {
   "cell_type": "code",
   "execution_count": 119,
   "id": "11dc7b09",
   "metadata": {},
   "outputs": [
    {
     "data": {
      "text/plain": [
       "array([[1., 1., 1.],\n",
       "       [1., 1., 1.],\n",
       "       [1., 1., 1.]])"
      ]
     },
     "execution_count": 119,
     "metadata": {},
     "output_type": "execute_result"
    }
   ],
   "source": [
    "np.ones((3,3)) # (row,col) "
   ]
  },
  {
   "cell_type": "code",
   "execution_count": 118,
   "id": "c1791ee2",
   "metadata": {},
   "outputs": [
    {
     "data": {
      "text/plain": [
       "array([[[1., 1., 1.],\n",
       "        [1., 1., 1.],\n",
       "        [1., 1., 1.]],\n",
       "\n",
       "       [[1., 1., 1.],\n",
       "        [1., 1., 1.],\n",
       "        [1., 1., 1.]]])"
      ]
     },
     "execution_count": 118,
     "metadata": {},
     "output_type": "execute_result"
    }
   ],
   "source": [
    "np.ones((2,3,3)) # (row,col) # ed array"
   ]
  },
  {
   "cell_type": "markdown",
   "id": "fa4e8995",
   "metadata": {},
   "source": [
    "# zeros()\n",
    "## create 0 Elemets array"
   ]
  },
  {
   "cell_type": "code",
   "execution_count": 120,
   "id": "0f318e1c",
   "metadata": {},
   "outputs": [
    {
     "data": {
      "text/plain": [
       "array([[0., 0., 0.],\n",
       "       [0., 0., 0.],\n",
       "       [0., 0., 0.]])"
      ]
     },
     "execution_count": 120,
     "metadata": {},
     "output_type": "execute_result"
    }
   ],
   "source": [
    "np.zeros((3,3)) # (row,col)"
   ]
  },
  {
   "cell_type": "markdown",
   "id": "ac30c98c",
   "metadata": {},
   "source": [
    "# random.random()\n",
    "## return random no of array"
   ]
  },
  {
   "cell_type": "code",
   "execution_count": 124,
   "id": "5b4319ff",
   "metadata": {},
   "outputs": [
    {
     "data": {
      "text/plain": [
       "array([[0.38588594, 0.18167721, 0.21157822],\n",
       "       [0.62204147, 0.7327931 , 0.20507913]])"
      ]
     },
     "execution_count": 124,
     "metadata": {},
     "output_type": "execute_result"
    }
   ],
   "source": [
    "np.random.random((2,3)) # 2 by 3"
   ]
  },
  {
   "cell_type": "code",
   "execution_count": 126,
   "id": "fcb1d123",
   "metadata": {},
   "outputs": [
    {
     "data": {
      "text/plain": [
       "array([[[0.97639172, 0.49759868],\n",
       "        [0.47695797, 0.62066082]],\n",
       "\n",
       "       [[0.97487262, 0.51999988],\n",
       "        [0.7824305 , 0.22655737]],\n",
       "\n",
       "       [[0.26543512, 0.97902777],\n",
       "        [0.13623622, 0.02901384]]])"
      ]
     },
     "execution_count": 126,
     "metadata": {},
     "output_type": "execute_result"
    }
   ],
   "source": [
    "np.random.random((3,2,2)) "
   ]
  },
  {
   "cell_type": "markdown",
   "id": "f88021a5",
   "metadata": {},
   "source": [
    "# linspace()\n",
    "## return the array in which all points are equal Distances"
   ]
  },
  {
   "cell_type": "code",
   "execution_count": 136,
   "id": "4ac5a45d",
   "metadata": {},
   "outputs": [
    {
     "data": {
      "text/plain": [
       "array([1., 2., 3., 4., 5., 6.])"
      ]
     },
     "execution_count": 136,
     "metadata": {},
     "output_type": "execute_result"
    }
   ],
   "source": [
    "np.linspace(1,6,6) #(start,max,stop)"
   ]
  },
  {
   "cell_type": "code",
   "execution_count": 146,
   "id": "86fdf330",
   "metadata": {},
   "outputs": [
    {
     "data": {
      "text/plain": [
       "array([1.        , 1.83333333, 2.66666667, 3.5       , 4.33333333,\n",
       "       5.16666667, 6.        ])"
      ]
     },
     "execution_count": 146,
     "metadata": {},
     "output_type": "execute_result"
    }
   ],
   "source": [
    "np.linspace(1,6,7) #(start,max,stop)"
   ]
  },
  {
   "cell_type": "markdown",
   "id": "664b590b",
   "metadata": {},
   "source": [
    "# identity()\n",
    "## return the dignal of 1 array"
   ]
  },
  {
   "cell_type": "code",
   "execution_count": 158,
   "id": "06b0e591",
   "metadata": {},
   "outputs": [
    {
     "data": {
      "text/plain": [
       "array([[1., 0., 0.],\n",
       "       [0., 1., 0.],\n",
       "       [0., 0., 1.]])"
      ]
     },
     "execution_count": 158,
     "metadata": {},
     "output_type": "execute_result"
    }
   ],
   "source": [
    "np.identity(3) # 3 x 3"
   ]
  },
  {
   "cell_type": "code",
   "execution_count": 161,
   "id": "4151ee75",
   "metadata": {},
   "outputs": [
    {
     "data": {
      "text/plain": [
       "array([[1., 0.],\n",
       "       [0., 1.]])"
      ]
     },
     "execution_count": 161,
     "metadata": {},
     "output_type": "execute_result"
    }
   ],
   "source": [
    "np.identity(2) # 2 x 2"
   ]
  },
  {
   "cell_type": "markdown",
   "id": "7457b110",
   "metadata": {},
   "source": [
    "# np.transpose() or .T\n",
    "# convert row to col and col to row"
   ]
  },
  {
   "cell_type": "code",
   "execution_count": 176,
   "id": "5f0e1011",
   "metadata": {},
   "outputs": [
    {
     "name": "stdout",
     "output_type": "stream",
     "text": [
      "[[[1 2 3]\n",
      "  [4 5 6]\n",
      "  [7 8 9]]]\n"
     ]
    }
   ],
   "source": [
    "ar = np.arange(1,10).reshape(1,3,3)\n",
    "print(ar)"
   ]
  },
  {
   "cell_type": "code",
   "execution_count": 177,
   "id": "f6cdc404",
   "metadata": {},
   "outputs": [
    {
     "data": {
      "text/plain": [
       "array([[[1],\n",
       "        [4],\n",
       "        [7]],\n",
       "\n",
       "       [[2],\n",
       "        [5],\n",
       "        [8]],\n",
       "\n",
       "       [[3],\n",
       "        [6],\n",
       "        [9]]])"
      ]
     },
     "execution_count": 177,
     "metadata": {},
     "output_type": "execute_result"
    }
   ],
   "source": [
    "np.transpose(ar)"
   ]
  },
  {
   "cell_type": "code",
   "execution_count": 179,
   "id": "9db3564f",
   "metadata": {},
   "outputs": [
    {
     "data": {
      "text/plain": [
       "array([[[1],\n",
       "        [4],\n",
       "        [7]],\n",
       "\n",
       "       [[2],\n",
       "        [5],\n",
       "        [8]],\n",
       "\n",
       "       [[3],\n",
       "        [6],\n",
       "        [9]]])"
      ]
     },
     "execution_count": 179,
     "metadata": {},
     "output_type": "execute_result"
    }
   ],
   "source": [
    "# also use T\n",
    "ar.T"
   ]
  },
  {
   "cell_type": "markdown",
   "id": "c707461f",
   "metadata": {},
   "source": [
    "# np.reval()\n",
    "## Convert any array to 1-D"
   ]
  },
  {
   "cell_type": "code",
   "execution_count": 181,
   "id": "c7062ae4",
   "metadata": {},
   "outputs": [
    {
     "data": {
      "text/plain": [
       "array([1, 2, 3, 4, 5, 6, 7, 8, 9])"
      ]
     },
     "execution_count": 181,
     "metadata": {},
     "output_type": "execute_result"
    }
   ],
   "source": [
    "np.ravel(ar)"
   ]
  },
  {
   "cell_type": "markdown",
   "id": "707a4232",
   "metadata": {},
   "source": [
    "# Merge (Stacking)"
   ]
  },
  {
   "cell_type": "code",
   "execution_count": 190,
   "id": "b9d6a423",
   "metadata": {},
   "outputs": [],
   "source": [
    "ar1 = np.arange(1,7).reshape(2,3)\n",
    "ar2 = np.arange(7,10).reshape(1,3)"
   ]
  },
  {
   "cell_type": "code",
   "execution_count": 191,
   "id": "724f9771",
   "metadata": {},
   "outputs": [
    {
     "name": "stdout",
     "output_type": "stream",
     "text": [
      "[[1 2 3]\n",
      " [4 5 6]]\n"
     ]
    }
   ],
   "source": [
    "print(ar1)"
   ]
  },
  {
   "cell_type": "code",
   "execution_count": 192,
   "id": "1feff2e7",
   "metadata": {},
   "outputs": [
    {
     "name": "stdout",
     "output_type": "stream",
     "text": [
      "[[7 8 9]]\n"
     ]
    }
   ],
   "source": [
    "print(ar2)"
   ]
  },
  {
   "cell_type": "code",
   "execution_count": 193,
   "id": "f2f196f9",
   "metadata": {},
   "outputs": [
    {
     "name": "stdout",
     "output_type": "stream",
     "text": [
      "(2, 3)\n",
      "(1, 3)\n"
     ]
    }
   ],
   "source": [
    "print(ar1.shape)\n",
    "print(ar2.shape)"
   ]
  },
  {
   "cell_type": "markdown",
   "id": "25ee1639",
   "metadata": {},
   "source": [
    "# verticle Stack Posible"
   ]
  },
  {
   "cell_type": "code",
   "execution_count": 200,
   "id": "59c76718",
   "metadata": {},
   "outputs": [
    {
     "data": {
      "text/plain": [
       "array([[1, 2, 3],\n",
       "       [4, 5, 6],\n",
       "       [7, 8, 9]])"
      ]
     },
     "execution_count": 200,
     "metadata": {},
     "output_type": "execute_result"
    }
   ],
   "source": [
    "np.vstack((ar1,ar2))"
   ]
  },
  {
   "cell_type": "markdown",
   "id": "02988c15",
   "metadata": {},
   "source": [
    "# but Horizontal Stack not posible because 2nd array have only 1 column and other array have 2 Column"
   ]
  },
  {
   "cell_type": "markdown",
   "id": "dea10470",
   "metadata": {},
   "source": [
    "<br>\n",
    "\n",
    "## add 1 more column in ar2"
   ]
  },
  {
   "cell_type": "markdown",
   "id": "0d2cb523",
   "metadata": {},
   "source": [
    "# Horizontal Stack"
   ]
  },
  {
   "cell_type": "code",
   "execution_count": 205,
   "id": "9cedea9f",
   "metadata": {},
   "outputs": [
    {
     "data": {
      "text/plain": [
       "array([[7, 8, 9],\n",
       "       [7, 8, 9]])"
      ]
     },
     "execution_count": 205,
     "metadata": {},
     "output_type": "execute_result"
    }
   ],
   "source": [
    "new = np.vstack((ar2,ar2))\n",
    "new"
   ]
  },
  {
   "cell_type": "markdown",
   "id": "598a5de6",
   "metadata": {},
   "source": [
    "## Now check arr1 and new have same column"
   ]
  },
  {
   "cell_type": "code",
   "execution_count": 207,
   "id": "bacec2bc",
   "metadata": {},
   "outputs": [
    {
     "name": "stdout",
     "output_type": "stream",
     "text": [
      "(2, 3)\n",
      "(2, 3)\n"
     ]
    }
   ],
   "source": [
    "print(ar1.shape)\n",
    "print(new.shape)"
   ]
  },
  {
   "cell_type": "markdown",
   "id": "110ab8e7",
   "metadata": {},
   "source": [
    "# Now apply verticle Stack"
   ]
  },
  {
   "cell_type": "code",
   "execution_count": 245,
   "id": "4210ccb4",
   "metadata": {},
   "outputs": [
    {
     "data": {
      "text/plain": [
       "array([[1, 2, 3],\n",
       "       [4, 5, 6],\n",
       "       [7, 8, 9],\n",
       "       [7, 8, 9]])"
      ]
     },
     "execution_count": 245,
     "metadata": {},
     "output_type": "execute_result"
    }
   ],
   "source": [
    "merge =  np.vstack((ar1,new))\n",
    "merge"
   ]
  },
  {
   "cell_type": "code",
   "execution_count": 211,
   "id": "a2c15457",
   "metadata": {},
   "outputs": [
    {
     "name": "stdout",
     "output_type": "stream",
     "text": [
      "(4, 3)\n"
     ]
    }
   ],
   "source": [
    "print(merge.shape)"
   ]
  },
  {
   "cell_type": "markdown",
   "id": "de3421b6",
   "metadata": {},
   "source": [
    "# np.stack()\n",
    "## np.stack also merge the array but in stack we also define axis"
   ]
  },
  {
   "cell_type": "markdown",
   "id": "10d46d07",
   "metadata": {},
   "source": [
    "# Note In np.stack we can only merge with the same shape"
   ]
  },
  {
   "cell_type": "code",
   "execution_count": 256,
   "id": "1a35ad24",
   "metadata": {},
   "outputs": [],
   "source": [
    "x = np.array([[\n",
    "    [1,2,3],\n",
    "    [4,5,6]\n",
    "]])\n",
    "\n",
    "y = np.array([[\n",
    "    [7,8,9],\n",
    "    [10,11,12]\n",
    "]])"
   ]
  },
  {
   "cell_type": "code",
   "execution_count": 257,
   "id": "02fa5427",
   "metadata": {},
   "outputs": [
    {
     "name": "stdout",
     "output_type": "stream",
     "text": [
      "[[[1 2 3]\n",
      "  [4 5 6]]]\n"
     ]
    }
   ],
   "source": [
    "print(x)"
   ]
  },
  {
   "cell_type": "code",
   "execution_count": 258,
   "id": "a6541efd",
   "metadata": {},
   "outputs": [
    {
     "name": "stdout",
     "output_type": "stream",
     "text": [
      "[[[ 7  8  9]\n",
      "  [10 11 12]]]\n"
     ]
    }
   ],
   "source": [
    "print(y)"
   ]
  },
  {
   "cell_type": "markdown",
   "id": "48ddc866",
   "metadata": {},
   "source": [
    "## simple np.stack"
   ]
  },
  {
   "cell_type": "code",
   "execution_count": 266,
   "id": "33db7e13",
   "metadata": {},
   "outputs": [
    {
     "data": {
      "text/plain": [
       "array([[[[ 1,  2,  3],\n",
       "         [ 4,  5,  6]]],\n",
       "\n",
       "\n",
       "       [[[ 7,  8,  9],\n",
       "         [10, 11, 12]]]])"
      ]
     },
     "execution_count": 266,
     "metadata": {},
     "output_type": "execute_result"
    }
   ],
   "source": [
    "np.stack((x,y),axis=0)"
   ]
  },
  {
   "cell_type": "markdown",
   "id": "5cbf5c34",
   "metadata": {},
   "source": [
    "## verticle stack"
   ]
  },
  {
   "cell_type": "code",
   "execution_count": 263,
   "id": "a873e6b4",
   "metadata": {},
   "outputs": [
    {
     "data": {
      "text/plain": [
       "array([[[ 1,  2,  3],\n",
       "        [ 4,  5,  6]],\n",
       "\n",
       "       [[ 7,  8,  9],\n",
       "        [10, 11, 12]]])"
      ]
     },
     "execution_count": 263,
     "metadata": {},
     "output_type": "execute_result"
    }
   ],
   "source": [
    "np.vstack((x,y))"
   ]
  },
  {
   "cell_type": "markdown",
   "id": "3382f59c",
   "metadata": {},
   "source": [
    "# now change axis in stack"
   ]
  },
  {
   "cell_type": "code",
   "execution_count": 270,
   "id": "6418b902",
   "metadata": {},
   "outputs": [
    {
     "name": "stdout",
     "output_type": "stream",
     "text": [
      "[[[[ 1  2  3]\n",
      "   [ 4  5  6]]\n",
      "\n",
      "  [[ 7  8  9]\n",
      "   [10 11 12]]]]\n"
     ]
    }
   ],
   "source": [
    "print(np.stack((x,y),axis=1)) # axis 1 change to order"
   ]
  },
  {
   "cell_type": "markdown",
   "id": "f4b1e0d2",
   "metadata": {},
   "source": [
    "# Spliting "
   ]
  },
  {
   "cell_type": "markdown",
   "id": "a5797117",
   "metadata": {},
   "source": [
    "# verticle split"
   ]
  },
  {
   "cell_type": "code",
   "execution_count": 281,
   "id": "2d01e8cf",
   "metadata": {},
   "outputs": [
    {
     "data": {
      "text/plain": [
       "[array([[1, 2, 3],\n",
       "        [4, 5, 6]]),\n",
       " array([[7, 8, 9],\n",
       "        [7, 8, 9]])]"
      ]
     },
     "execution_count": 281,
     "metadata": {},
     "output_type": "execute_result"
    }
   ],
   "source": [
    "np.vsplit(merge,2)"
   ]
  },
  {
   "cell_type": "code",
   "execution_count": 293,
   "id": "8915d2c8",
   "metadata": {},
   "outputs": [],
   "source": [
    "sp1,sp2 = np.vsplit(merge,2)"
   ]
  },
  {
   "cell_type": "code",
   "execution_count": 294,
   "id": "1c881e85",
   "metadata": {},
   "outputs": [
    {
     "name": "stdout",
     "output_type": "stream",
     "text": [
      "[[1 2 3]\n",
      " [4 5 6]]\n"
     ]
    }
   ],
   "source": [
    "print(sp1)"
   ]
  },
  {
   "cell_type": "code",
   "execution_count": 295,
   "id": "6182d9b4",
   "metadata": {},
   "outputs": [
    {
     "name": "stdout",
     "output_type": "stream",
     "text": [
      "[[7 8 9]\n",
      " [7 8 9]]\n"
     ]
    }
   ],
   "source": [
    "print(sp2)"
   ]
  },
  {
   "cell_type": "markdown",
   "id": "0b4fb74b",
   "metadata": {},
   "source": [
    "# Horizontal Split"
   ]
  },
  {
   "cell_type": "code",
   "execution_count": 296,
   "id": "7df6666a",
   "metadata": {},
   "outputs": [],
   "source": [
    "x = np.array([\n",
    "    [1,2,3,4],\n",
    "    [5,6,7,8],\n",
    "])"
   ]
  },
  {
   "cell_type": "code",
   "execution_count": 297,
   "id": "99c54102",
   "metadata": {},
   "outputs": [
    {
     "data": {
      "text/plain": [
       "array([[1, 2, 3, 4],\n",
       "       [5, 6, 7, 8]])"
      ]
     },
     "execution_count": 297,
     "metadata": {},
     "output_type": "execute_result"
    }
   ],
   "source": [
    "x"
   ]
  },
  {
   "cell_type": "code",
   "execution_count": 335,
   "id": "968f1907",
   "metadata": {},
   "outputs": [
    {
     "data": {
      "text/plain": [
       "[array([[1, 2],\n",
       "        [5, 6]]),\n",
       " array([[3, 4],\n",
       "        [7, 8]])]"
      ]
     },
     "execution_count": 335,
     "metadata": {},
     "output_type": "execute_result"
    }
   ],
   "source": [
    "np.hsplit(x,2)"
   ]
  },
  {
   "cell_type": "code",
   "execution_count": 308,
   "id": "357dd240",
   "metadata": {},
   "outputs": [],
   "source": [
    "sp1,sp2 = np.hsplit(x,2)"
   ]
  },
  {
   "cell_type": "code",
   "execution_count": 309,
   "id": "d3af0a7e",
   "metadata": {},
   "outputs": [
    {
     "name": "stdout",
     "output_type": "stream",
     "text": [
      "[[1 2]\n",
      " [5 6]]\n"
     ]
    }
   ],
   "source": [
    "print(sp1)"
   ]
  },
  {
   "cell_type": "code",
   "execution_count": 310,
   "id": "07e62c70",
   "metadata": {},
   "outputs": [
    {
     "name": "stdout",
     "output_type": "stream",
     "text": [
      "[[3 4]\n",
      " [7 8]]\n"
     ]
    }
   ],
   "source": [
    "print(sp2)"
   ]
  },
  {
   "cell_type": "markdown",
   "id": "caf9b618",
   "metadata": {},
   "source": [
    "# np.split()\n",
    "## also split on horizontal and vertical\n",
    "## axis 0 = verticle\n",
    "## axis 1 = horizontal\n"
   ]
  },
  {
   "cell_type": "code",
   "execution_count": 336,
   "id": "c65052b4",
   "metadata": {},
   "outputs": [
    {
     "data": {
      "text/plain": [
       "array([[1, 2, 3, 4],\n",
       "       [5, 6, 7, 8]])"
      ]
     },
     "execution_count": 336,
     "metadata": {},
     "output_type": "execute_result"
    }
   ],
   "source": [
    "x"
   ]
  },
  {
   "cell_type": "code",
   "execution_count": 345,
   "id": "c91e0609",
   "metadata": {},
   "outputs": [
    {
     "data": {
      "text/plain": [
       "[array([[1, 2, 3, 4]]), array([[5, 6, 7, 8]])]"
      ]
     },
     "execution_count": 345,
     "metadata": {},
     "output_type": "execute_result"
    }
   ],
   "source": [
    "np.split(x,2,axis=0) # verticle"
   ]
  },
  {
   "cell_type": "code",
   "execution_count": 346,
   "id": "f89b9d2b",
   "metadata": {},
   "outputs": [
    {
     "data": {
      "text/plain": [
       "[array([[1, 2, 3, 4]]), array([[5, 6, 7, 8]])]"
      ]
     },
     "execution_count": 346,
     "metadata": {},
     "output_type": "execute_result"
    }
   ],
   "source": [
    "# vsplit\n",
    "np.vsplit(x,2) # verticle"
   ]
  },
  {
   "cell_type": "code",
   "execution_count": 348,
   "id": "8e4f422e",
   "metadata": {},
   "outputs": [
    {
     "data": {
      "text/plain": [
       "[array([[1, 2],\n",
       "        [5, 6]]),\n",
       " array([[3, 4],\n",
       "        [7, 8]])]"
      ]
     },
     "execution_count": 348,
     "metadata": {},
     "output_type": "execute_result"
    }
   ],
   "source": [
    "np.split(x,2,axis=1) # horizontal"
   ]
  },
  {
   "cell_type": "code",
   "execution_count": 347,
   "id": "07709e08",
   "metadata": {},
   "outputs": [
    {
     "data": {
      "text/plain": [
       "[array([[1, 2],\n",
       "        [5, 6]]),\n",
       " array([[3, 4],\n",
       "        [7, 8]])]"
      ]
     },
     "execution_count": 347,
     "metadata": {},
     "output_type": "execute_result"
    }
   ],
   "source": [
    "np.hsplit(x,2) # horizontal"
   ]
  }
 ],
 "metadata": {
  "kernelspec": {
   "display_name": "Python 3 (ipykernel)",
   "language": "python",
   "name": "python3"
  },
  "language_info": {
   "codemirror_mode": {
    "name": "ipython",
    "version": 3
   },
   "file_extension": ".py",
   "mimetype": "text/x-python",
   "name": "python",
   "nbconvert_exporter": "python",
   "pygments_lexer": "ipython3",
   "version": "3.10.6"
  }
 },
 "nbformat": 4,
 "nbformat_minor": 5
}

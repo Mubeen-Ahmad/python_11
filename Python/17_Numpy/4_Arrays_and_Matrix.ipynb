{
 "cells": [
  {
   "cell_type": "markdown",
   "id": "a1abcaef",
   "metadata": {},
   "source": [
    "## What is numpy?\n",
    "<br>\n",
    "\n",
    "- ## NumPy is the fundamental package for scientific computing in Python.\n",
    "<br>\n",
    "\n",
    "- ## It is a Python library that provides a multidimensional array object, various derived objects (such as masked arrays and matrices), and an assortment of routines for fast operations on arrays, including mathematical, logical, shape manipulation, sorting, selecting, I/O, discrete Fourier transforms, basic linear algebra, basic statistical operations, random simulation and much more.\n",
    "<br>\n",
    "\n",
    "- ## At the core of the NumPy package, is the ndarray object. This encapsulates n-dimensional arrays of homogeneous data types"
   ]
  },
  {
   "cell_type": "markdown",
   "id": "f551197e",
   "metadata": {},
   "source": [
    "<br>\n",
    "\n",
    "## Numpy Arrays Vs Python Sequences\n",
    "<br><br>\n",
    "\n",
    "- ## NumPy arrays have a fixed size at creation, unlike Python lists (which can grow dynamically). Changing the size of an ndarray will create a new array and delete the original.\n",
    "<br>\n",
    "\n",
    "- ## The elements in a NumPy array are all required to be of the same data type, and thus will be the same size in memory.\n",
    "<br>\n",
    "\n",
    "- ##  NumPy arrays facilitate advanced mathematical and other types of operations on large numbers of data. Typically, such operations are executed more efficiently and with less code than is possible using Python’s built-in sequences.\n",
    "<br>\n",
    "\n",
    "- ##  A growing plethora of scientific and mathematical Python-based packages are using NumPy arrays; though these typically support Python-sequence input, they convert such input to NumPy arrays prior to processing, and they often output NumPy arrays."
   ]
  },
  {
   "cell_type": "code",
   "execution_count": 7,
   "id": "39025dcf",
   "metadata": {},
   "outputs": [],
   "source": [
    "import numpy as np"
   ]
  },
  {
   "cell_type": "markdown",
   "id": "c42f0b39",
   "metadata": {},
   "source": [
    "# 1 - D Array / scalar"
   ]
  },
  {
   "cell_type": "markdown",
   "id": "3be4fba3",
   "metadata": {},
   "source": [
    "## An Array has 1 row called 1-D Array\n",
    "## 1-D array also know as Scalar"
   ]
  },
  {
   "cell_type": "markdown",
   "id": "627082ee",
   "metadata": {},
   "source": [
    "<img src=\"../../images/1d.jpg\" style=\"display: block;margin-left: auto;margin-right: auto;\n",
    "  width: 50%; border-radius:0px 10px 10px 10px; height:50%;\">\n"
   ]
  },
  {
   "cell_type": "code",
   "execution_count": 64,
   "id": "918c1b98",
   "metadata": {},
   "outputs": [],
   "source": [
    "arr = np.array( [1,2,3] )"
   ]
  },
  {
   "cell_type": "code",
   "execution_count": 65,
   "id": "0184a971",
   "metadata": {},
   "outputs": [
    {
     "data": {
      "text/plain": [
       "array([1, 2, 3])"
      ]
     },
     "execution_count": 65,
     "metadata": {},
     "output_type": "execute_result"
    }
   ],
   "source": [
    "arr"
   ]
  },
  {
   "cell_type": "markdown",
   "id": "0869e2b9",
   "metadata": {},
   "source": [
    "## check shape or ndim"
   ]
  },
  {
   "cell_type": "code",
   "execution_count": 66,
   "id": "9c5a3b67",
   "metadata": {},
   "outputs": [
    {
     "name": "stdout",
     "output_type": "stream",
     "text": [
      "Dim -->  1\n"
     ]
    }
   ],
   "source": [
    "print(\"Dim --> \",arr.ndim) # check dimension"
   ]
  },
  {
   "cell_type": "markdown",
   "id": "899b1447",
   "metadata": {},
   "source": [
    "# Traverse\n",
    "\n",
    "<img src=\"../../images/1d.jpg\" style=\"display: block;margin-left: auto;margin-right: auto;\n",
    "  width: 50%; border-radius:0px 10px 10px 10px; height:50%;\">\n"
   ]
  },
  {
   "cell_type": "code",
   "execution_count": 67,
   "id": "4d7d838d",
   "metadata": {},
   "outputs": [
    {
     "data": {
      "text/plain": [
       "array([1, 2, 3])"
      ]
     },
     "execution_count": 67,
     "metadata": {},
     "output_type": "execute_result"
    }
   ],
   "source": [
    "arr"
   ]
  },
  {
   "cell_type": "code",
   "execution_count": 68,
   "id": "91f2300b",
   "metadata": {},
   "outputs": [
    {
     "data": {
      "text/plain": [
       "1"
      ]
     },
     "execution_count": 68,
     "metadata": {},
     "output_type": "execute_result"
    }
   ],
   "source": [
    "pos = 0\n",
    "arr[pos]"
   ]
  },
  {
   "cell_type": "code",
   "execution_count": 69,
   "id": "975d476b",
   "metadata": {},
   "outputs": [
    {
     "name": "stdout",
     "output_type": "stream",
     "text": [
      "3\n"
     ]
    }
   ],
   "source": [
    "length = len(arr)\n",
    "print(length)"
   ]
  },
  {
   "cell_type": "code",
   "execution_count": 70,
   "id": "c6c3d0f0",
   "metadata": {},
   "outputs": [
    {
     "name": "stdout",
     "output_type": "stream",
     "text": [
      "1 2 3 "
     ]
    }
   ],
   "source": [
    "position = 0\n",
    "\n",
    "while position < length:\n",
    "    print(arr[position],end=\" \")\n",
    "    position+=1"
   ]
  },
  {
   "cell_type": "markdown",
   "id": "d426c111",
   "metadata": {},
   "source": [
    "# Array vs Matrix"
   ]
  },
  {
   "cell_type": "markdown",
   "id": "1cccc326",
   "metadata": {},
   "source": [
    "# Array are stored Multiple data types"
   ]
  },
  {
   "cell_type": "code",
   "execution_count": 71,
   "id": "62c71822",
   "metadata": {},
   "outputs": [],
   "source": [
    "# here we can say that it is array\n",
    "x = [\n",
    "    [1,2,3,[\"hello\",\"Mubeen\"]]\n",
    "]"
   ]
  },
  {
   "cell_type": "code",
   "execution_count": 5,
   "id": "258a1ade",
   "metadata": {},
   "outputs": [
    {
     "data": {
      "text/plain": [
       "[[1, 2, 3, ['hello', 'Mubeen']]]"
      ]
     },
     "execution_count": 5,
     "metadata": {},
     "output_type": "execute_result"
    }
   ],
   "source": [
    "x"
   ]
  },
  {
   "cell_type": "markdown",
   "id": "c5e58824",
   "metadata": {},
   "source": [
    "# Matrix"
   ]
  },
  {
   "cell_type": "markdown",
   "id": "ffa9d2f7",
   "metadata": {},
   "source": [
    "# Matrix are stored Only Single Data Type\n",
    "<br>\n",
    "\n",
    "# Matrix have fix length\n",
    "* ## Means e.g if i have 2-D array and the size of (rows ,column) are same and Single Data type are stored in it than we can say that it is Matrix"
   ]
  },
  {
   "cell_type": "code",
   "execution_count": 72,
   "id": "0b1fc1fd",
   "metadata": {},
   "outputs": [
    {
     "data": {
      "text/plain": [
       "array([[1, 2, 3],\n",
       "       [4, 5, 6]])"
      ]
     },
     "execution_count": 72,
     "metadata": {},
     "output_type": "execute_result"
    }
   ],
   "source": [
    "np.array([\n",
    "    [1,2,3],\n",
    "    [4,5,6]\n",
    "])"
   ]
  },
  {
   "cell_type": "markdown",
   "id": "045624d2",
   "metadata": {},
   "source": [
    "# 2 - D"
   ]
  },
  {
   "cell_type": "markdown",
   "id": "91fc418a",
   "metadata": {},
   "source": [
    "## Two (1-D) Array Called 2-D\n",
    "<br>\n",
    "\n",
    "## which means [(rows,Column)] "
   ]
  },
  {
   "cell_type": "markdown",
   "id": "9094c03d",
   "metadata": {},
   "source": [
    "<img src=\"../../images/2d.jpg\" style=\"display: block;margin-left: auto;margin-right: auto;\n",
    "  width: 80%; border-radius:0px 10px 10px 10px; height:80%;\">\n"
   ]
  },
  {
   "cell_type": "code",
   "execution_count": 363,
   "id": "8e20a07f",
   "metadata": {},
   "outputs": [],
   "source": [
    "arr = np.array(\n",
    "    [ # ----------------------> Consider as Box\n",
    "    [1,2,3]\n",
    "    ]\n",
    ")"
   ]
  },
  {
   "cell_type": "code",
   "execution_count": 364,
   "id": "ba7b35fe",
   "metadata": {},
   "outputs": [
    {
     "data": {
      "text/plain": [
       "array([[1, 2, 3]])"
      ]
     },
     "execution_count": 364,
     "metadata": {},
     "output_type": "execute_result"
    }
   ],
   "source": [
    "arr"
   ]
  },
  {
   "cell_type": "code",
   "execution_count": 81,
   "id": "1a7eabe2",
   "metadata": {},
   "outputs": [
    {
     "data": {
      "text/plain": [
       "2"
      ]
     },
     "execution_count": 81,
     "metadata": {},
     "output_type": "execute_result"
    }
   ],
   "source": [
    "# check dimension\n",
    "arr.ndim"
   ]
  },
  {
   "cell_type": "code",
   "execution_count": 79,
   "id": "104a33d1",
   "metadata": {},
   "outputs": [
    {
     "data": {
      "text/plain": [
       "(1, 3)"
      ]
     },
     "execution_count": 79,
     "metadata": {},
     "output_type": "execute_result"
    }
   ],
   "source": [
    "# check shape dimension \n",
    "arr.shape"
   ]
  },
  {
   "cell_type": "markdown",
   "id": "932c63de",
   "metadata": {},
   "source": [
    "## shape represent that\n",
    "* ### (1,3) 1 represt the box\n",
    "* ### (1,3) 3 represt that no of elements or values"
   ]
  },
  {
   "cell_type": "markdown",
   "id": "398df263",
   "metadata": {},
   "source": [
    "# add more row"
   ]
  },
  {
   "cell_type": "markdown",
   "id": "813f6c7e",
   "metadata": {},
   "source": [
    "<img src=\"../../images/2_1d.jpg\" style=\"display: block;margin-left: auto;margin-right: auto;\n",
    "  width: 80%; border-radius:0px 10px 10px 10px; height:80%;\">\n"
   ]
  },
  {
   "cell_type": "code",
   "execution_count": 82,
   "id": "d2d4f502",
   "metadata": {},
   "outputs": [],
   "source": [
    "arr = np.array(\n",
    "    [ # ----------------------> Consider as Box\n",
    "    [1,2,3], #---------> row 0 3 elements\n",
    "    [4,5,6]  #---------> row 1 3 elements\n",
    "    ]\n",
    ")"
   ]
  },
  {
   "cell_type": "code",
   "execution_count": 83,
   "id": "f41996e0",
   "metadata": {},
   "outputs": [
    {
     "data": {
      "text/plain": [
       "(2, 3)"
      ]
     },
     "execution_count": 83,
     "metadata": {},
     "output_type": "execute_result"
    }
   ],
   "source": [
    "arr.shape"
   ]
  },
  {
   "cell_type": "markdown",
   "id": "ca59ffa5",
   "metadata": {},
   "source": [
    "## Traverse"
   ]
  },
  {
   "cell_type": "code",
   "execution_count": 85,
   "id": "4047206c",
   "metadata": {},
   "outputs": [
    {
     "data": {
      "text/plain": [
       "array([1, 2, 3])"
      ]
     },
     "execution_count": 85,
     "metadata": {},
     "output_type": "execute_result"
    }
   ],
   "source": [
    "# select 0 row\n",
    "arr[0]"
   ]
  },
  {
   "cell_type": "markdown",
   "id": "bcd7d5ad",
   "metadata": {},
   "source": [
    "# access elements in 0 row"
   ]
  },
  {
   "cell_type": "code",
   "execution_count": 89,
   "id": "b38325d7",
   "metadata": {},
   "outputs": [
    {
     "name": "stdout",
     "output_type": "stream",
     "text": [
      "1\n",
      "2\n",
      "3\n"
     ]
    }
   ],
   "source": [
    "print(arr[0][0])\n",
    "print(arr[0][1])\n",
    "print(arr[0][2])"
   ]
  },
  {
   "cell_type": "code",
   "execution_count": 90,
   "id": "589eb3b5",
   "metadata": {},
   "outputs": [
    {
     "data": {
      "text/plain": [
       "array([4, 5, 6])"
      ]
     },
     "execution_count": 90,
     "metadata": {},
     "output_type": "execute_result"
    }
   ],
   "source": [
    "# select 1 row\n",
    "arr[1]"
   ]
  },
  {
   "cell_type": "markdown",
   "id": "936b75e9",
   "metadata": {},
   "source": [
    "# access elements in 1 row"
   ]
  },
  {
   "cell_type": "code",
   "execution_count": 94,
   "id": "69bd9851",
   "metadata": {},
   "outputs": [
    {
     "name": "stdout",
     "output_type": "stream",
     "text": [
      "4\n",
      "5\n",
      "6\n"
     ]
    }
   ],
   "source": [
    "print(arr[1][0])\n",
    "print(arr[1][1])\n",
    "print(arr[1][2])"
   ]
  },
  {
   "cell_type": "code",
   "execution_count": 115,
   "id": "75c1bbbb",
   "metadata": {},
   "outputs": [
    {
     "name": "stdout",
     "output_type": "stream",
     "text": [
      "1 2 3\n",
      "4 5 6\n"
     ]
    }
   ],
   "source": [
    "print(arr[0][0],arr[0][1],arr[0][2])\n",
    "print(arr[1][0],arr[1][1],arr[1][2])"
   ]
  },
  {
   "cell_type": "markdown",
   "id": "dd452701",
   "metadata": {},
   "source": [
    "# Travers with loop"
   ]
  },
  {
   "cell_type": "code",
   "execution_count": 129,
   "id": "96ffd390",
   "metadata": {},
   "outputs": [],
   "source": [
    "row = 0\n",
    "col = 0"
   ]
  },
  {
   "cell_type": "code",
   "execution_count": 130,
   "id": "62ef7096",
   "metadata": {},
   "outputs": [
    {
     "data": {
      "text/plain": [
       "(2, 3)"
      ]
     },
     "execution_count": 130,
     "metadata": {},
     "output_type": "execute_result"
    }
   ],
   "source": [
    "arr.shape"
   ]
  },
  {
   "cell_type": "code",
   "execution_count": 131,
   "id": "55ec46b8",
   "metadata": {},
   "outputs": [
    {
     "name": "stdout",
     "output_type": "stream",
     "text": [
      "0\n",
      "1\n"
     ]
    }
   ],
   "source": [
    "while row < 2:\n",
    "    print(row)\n",
    "    row += 1"
   ]
  },
  {
   "cell_type": "code",
   "execution_count": 132,
   "id": "2cdd5789",
   "metadata": {},
   "outputs": [
    {
     "name": "stdout",
     "output_type": "stream",
     "text": [
      "0\n",
      "1\n",
      "2\n"
     ]
    }
   ],
   "source": [
    "while col < 3:\n",
    "    print(col)\n",
    "    col += 1"
   ]
  },
  {
   "cell_type": "markdown",
   "id": "8328736a",
   "metadata": {},
   "source": [
    "## Now merge the loop"
   ]
  },
  {
   "cell_type": "code",
   "execution_count": 124,
   "id": "a09e08cf",
   "metadata": {},
   "outputs": [
    {
     "data": {
      "text/plain": [
       "array([[1, 2, 3],\n",
       "       [4, 5, 6]])"
      ]
     },
     "execution_count": 124,
     "metadata": {},
     "output_type": "execute_result"
    }
   ],
   "source": [
    "arr"
   ]
  },
  {
   "cell_type": "code",
   "execution_count": 125,
   "id": "cb5a432c",
   "metadata": {},
   "outputs": [
    {
     "data": {
      "text/plain": [
       "(2, 3)"
      ]
     },
     "execution_count": 125,
     "metadata": {},
     "output_type": "execute_result"
    }
   ],
   "source": [
    "arr.shape"
   ]
  },
  {
   "cell_type": "code",
   "execution_count": 140,
   "id": "3e1c5f0c",
   "metadata": {},
   "outputs": [],
   "source": [
    "row = 0\n",
    "col = 0"
   ]
  },
  {
   "cell_type": "code",
   "execution_count": 141,
   "id": "c9c56b2b",
   "metadata": {},
   "outputs": [
    {
     "name": "stdout",
     "output_type": "stream",
     "text": [
      "1\n",
      "2\n",
      "3\n",
      "4\n",
      "5\n",
      "6\n"
     ]
    }
   ],
   "source": [
    "while row < 2:\n",
    "    col = 0 # for next row\n",
    "    while col < 3:\n",
    "        print(arr[row][col])\n",
    "        col += 1\n",
    "    row += 1"
   ]
  },
  {
   "cell_type": "markdown",
   "id": "0a1aca78",
   "metadata": {},
   "source": [
    "## use .shape method"
   ]
  },
  {
   "cell_type": "code",
   "execution_count": 143,
   "id": "547ec24b",
   "metadata": {},
   "outputs": [],
   "source": [
    "row = 0\n",
    "col = 0"
   ]
  },
  {
   "cell_type": "code",
   "execution_count": 144,
   "id": "49c0ae8d",
   "metadata": {},
   "outputs": [
    {
     "data": {
      "text/plain": [
       "(2, 3)"
      ]
     },
     "execution_count": 144,
     "metadata": {},
     "output_type": "execute_result"
    }
   ],
   "source": [
    "arr.shape"
   ]
  },
  {
   "cell_type": "code",
   "execution_count": 145,
   "id": "806e98fc",
   "metadata": {},
   "outputs": [
    {
     "name": "stdout",
     "output_type": "stream",
     "text": [
      "1\n",
      "2\n",
      "3\n",
      "4\n",
      "5\n",
      "6\n"
     ]
    }
   ],
   "source": [
    "while row < arr.shape[0]:\n",
    "    col = 0 # for next row\n",
    "    while col < arr.shape[1]:\n",
    "        print(arr[row][col])\n",
    "        col += 1\n",
    "    row += 1"
   ]
  },
  {
   "cell_type": "markdown",
   "id": "e53951b0",
   "metadata": {},
   "source": [
    "# Easy way to use for loop"
   ]
  },
  {
   "cell_type": "code",
   "execution_count": 148,
   "id": "0afd334f",
   "metadata": {},
   "outputs": [
    {
     "name": "stdout",
     "output_type": "stream",
     "text": [
      "[1 2 3]\n",
      "[4 5 6]\n"
     ]
    }
   ],
   "source": [
    "for row in arr:\n",
    "    print(row)"
   ]
  },
  {
   "cell_type": "code",
   "execution_count": 164,
   "id": "c90c9001",
   "metadata": {},
   "outputs": [
    {
     "name": "stdout",
     "output_type": "stream",
     "text": [
      "1\n",
      "2\n",
      "3\n",
      "4\n",
      "5\n",
      "6\n"
     ]
    }
   ],
   "source": [
    "for row in arr:\n",
    "    for col in row:\n",
    "        print(col)"
   ]
  },
  {
   "cell_type": "code",
   "execution_count": 165,
   "id": "3004923e",
   "metadata": {},
   "outputs": [
    {
     "name": "stdout",
     "output_type": "stream",
     "text": [
      "1 2 3 4 5 6 "
     ]
    }
   ],
   "source": [
    "for row in arr:\n",
    "    for col in row:\n",
    "        print(col,end=\" \")"
   ]
  },
  {
   "cell_type": "code",
   "execution_count": 167,
   "id": "c273aee1",
   "metadata": {},
   "outputs": [
    {
     "name": "stdout",
     "output_type": "stream",
     "text": [
      "1 2 3  \n",
      "4 5 6  \n"
     ]
    }
   ],
   "source": [
    "for row in arr:\n",
    "    for col in row:\n",
    "        print(col,end=\" \")\n",
    "    print(\" \")"
   ]
  },
  {
   "cell_type": "code",
   "execution_count": 169,
   "id": "9a84b581",
   "metadata": {},
   "outputs": [
    {
     "name": "stdout",
     "output_type": "stream",
     "text": [
      "[1 2 3]\n",
      "[4 5 6]\n"
     ]
    }
   ],
   "source": [
    "print(arr[0])\n",
    "print(arr[1])"
   ]
  },
  {
   "cell_type": "code",
   "execution_count": 170,
   "id": "30686377",
   "metadata": {},
   "outputs": [
    {
     "data": {
      "text/plain": [
       "(2, 3)"
      ]
     },
     "execution_count": 170,
     "metadata": {},
     "output_type": "execute_result"
    }
   ],
   "source": [
    "arr.shape"
   ]
  },
  {
   "cell_type": "markdown",
   "id": "cb28a34c",
   "metadata": {},
   "source": [
    "## add more row"
   ]
  },
  {
   "cell_type": "markdown",
   "id": "329e28ac",
   "metadata": {},
   "source": [
    "<img src=\"../../images/2_2d.jpg\" style=\"display: block;margin-left: auto;margin-right: auto;\n",
    "  width: 80%; border-radius:0px 10px 10px 10px; height:80%;\">\n"
   ]
  },
  {
   "cell_type": "code",
   "execution_count": 237,
   "id": "e6b6584b",
   "metadata": {},
   "outputs": [],
   "source": [
    "arr = np.array(\n",
    "    [ # ----------------------> Consider as Box\n",
    "    [1,2,3], #---------> row 0 3 elements\n",
    "    [4,5,6], #---------> row 1 3 elements\n",
    "    [7,8,9]  #---------> row 2 3 elements\n",
    "    ]\n",
    ")"
   ]
  },
  {
   "cell_type": "code",
   "execution_count": 174,
   "id": "c7061e27",
   "metadata": {},
   "outputs": [
    {
     "data": {
      "text/plain": [
       "array([[1, 2, 3],\n",
       "       [4, 5, 6],\n",
       "       [7, 8, 9]])"
      ]
     },
     "execution_count": 174,
     "metadata": {},
     "output_type": "execute_result"
    }
   ],
   "source": [
    "arr"
   ]
  },
  {
   "cell_type": "code",
   "execution_count": 172,
   "id": "2f2f0b35",
   "metadata": {},
   "outputs": [
    {
     "data": {
      "text/plain": [
       "(3, 3)"
      ]
     },
     "execution_count": 172,
     "metadata": {},
     "output_type": "execute_result"
    }
   ],
   "source": [
    "arr.shape"
   ]
  },
  {
   "cell_type": "code",
   "execution_count": 184,
   "id": "16237876",
   "metadata": {},
   "outputs": [
    {
     "name": "stdout",
     "output_type": "stream",
     "text": [
      "[1 2 3]\n",
      "[4 5 6]\n",
      "[7 8 9]\n"
     ]
    }
   ],
   "source": [
    "row = 0\n",
    "while row < arr.shape[0]:\n",
    "    print(arr[row])\n",
    "    row += 1"
   ]
  },
  {
   "cell_type": "code",
   "execution_count": 188,
   "id": "d3e41094",
   "metadata": {},
   "outputs": [
    {
     "name": "stdout",
     "output_type": "stream",
     "text": [
      "1\n",
      "2\n",
      "3\n",
      "4\n",
      "5\n",
      "6\n",
      "7\n",
      "8\n",
      "9\n"
     ]
    }
   ],
   "source": [
    "row = 0\n",
    "col = 0\n",
    "while row < arr.shape[0]:\n",
    "    col = 0 # for next row\n",
    "    while col < arr.shape[1]:\n",
    "        print(arr[row][col])\n",
    "        col += 1\n",
    "    \n",
    "    row += 1"
   ]
  },
  {
   "cell_type": "code",
   "execution_count": 267,
   "id": "3d63fce0",
   "metadata": {},
   "outputs": [
    {
     "name": "stdout",
     "output_type": "stream",
     "text": [
      "1 2 3 \n",
      "4 5 6 \n",
      "7 8 9 \n"
     ]
    }
   ],
   "source": [
    "row = 0\n",
    "col = 0\n",
    "while row < arr.shape[0]:\n",
    "    col = 0 # for next row\n",
    "    while col < arr.shape[1]:\n",
    "        print(arr[row][col],end=\" \")\n",
    "        col += 1\n",
    "    print()\n",
    "    row += 1"
   ]
  },
  {
   "cell_type": "markdown",
   "id": "ab6e29d5",
   "metadata": {},
   "source": [
    "# 3-D"
   ]
  },
  {
   "cell_type": "markdown",
   "id": "5f023612",
   "metadata": {},
   "source": [
    "## 1 (2-D Matrix) that are Store in One more Box called 3-D "
   ]
  },
  {
   "cell_type": "markdown",
   "id": "62c05bfd",
   "metadata": {},
   "source": [
    "<img src=\"../../images/3d.jpg\" style=\"display: block;margin-left: auto;margin-right: auto;\n",
    "  width: 80%; border-radius:0px 10px 10px 10px; height:80%;\">\n"
   ]
  },
  {
   "cell_type": "code",
   "execution_count": 308,
   "id": "62d223f0",
   "metadata": {},
   "outputs": [],
   "source": [
    "arr = np.array(\n",
    "    [#----------------------------------------------- 3-D box   \n",
    "    \n",
    "    [ #----------------------------------------------- 2-D box   \n",
    "    [1,2,3], #---------> row 0 3 elements\n",
    "    [4,5,6], #---------> row 1 3 elements\n",
    "    [7,8,9]  #---------> row 2 3 elements\n",
    "    ] #----------------------------------------------- 2-D box   \n",
    "\n",
    "    ] #----------------------------------------------- 3-D box   \n",
    "\n",
    ")"
   ]
  },
  {
   "cell_type": "code",
   "execution_count": 309,
   "id": "7186ad3e",
   "metadata": {},
   "outputs": [
    {
     "name": "stdout",
     "output_type": "stream",
     "text": [
      "[[[1 2 3]\n",
      "  [4 5 6]\n",
      "  [7 8 9]]]\n"
     ]
    }
   ],
   "source": [
    "print(arr)"
   ]
  },
  {
   "cell_type": "code",
   "execution_count": 298,
   "id": "aeac3968",
   "metadata": {},
   "outputs": [
    {
     "data": {
      "text/plain": [
       "3"
      ]
     },
     "execution_count": 298,
     "metadata": {},
     "output_type": "execute_result"
    }
   ],
   "source": [
    "arr.ndim"
   ]
  },
  {
   "cell_type": "code",
   "execution_count": 310,
   "id": "7bc0df6b",
   "metadata": {},
   "outputs": [
    {
     "data": {
      "text/plain": [
       "(1, 3, 3)"
      ]
     },
     "execution_count": 310,
     "metadata": {},
     "output_type": "execute_result"
    }
   ],
   "source": [
    "arr.shape"
   ]
  },
  {
   "cell_type": "markdown",
   "id": "16d62977",
   "metadata": {},
   "source": [
    "- ## (1, 3, 3) ,1st 1 represent outer box of 3-D\n",
    "- ## (1, 3, 3) ,2nd 3 represrnt the  rows means 3 row\n",
    "- ## (1, 3, 3) ,3rd 3 represrnt that Each rows have 3 values\n"
   ]
  },
  {
   "cell_type": "code",
   "execution_count": 313,
   "id": "997f1462",
   "metadata": {},
   "outputs": [],
   "source": [
    "select_2D = 0\n",
    "row = 0\n",
    "col = 0"
   ]
  },
  {
   "cell_type": "code",
   "execution_count": 315,
   "id": "63a6d039",
   "metadata": {},
   "outputs": [
    {
     "data": {
      "text/plain": [
       "array([[[1, 2, 3],\n",
       "        [4, 5, 6],\n",
       "        [7, 8, 9]]])"
      ]
     },
     "execution_count": 315,
     "metadata": {},
     "output_type": "execute_result"
    }
   ],
   "source": [
    "arr"
   ]
  },
  {
   "cell_type": "code",
   "execution_count": 314,
   "id": "410c31d5",
   "metadata": {},
   "outputs": [
    {
     "data": {
      "text/plain": [
       "1"
      ]
     },
     "execution_count": 314,
     "metadata": {},
     "output_type": "execute_result"
    }
   ],
   "source": [
    "arr[select_2D][row][col]"
   ]
  },
  {
   "cell_type": "markdown",
   "id": "871ccc4c",
   "metadata": {},
   "source": [
    "## select_2d means no of 2D arrays that are exist in outer Box"
   ]
  },
  {
   "cell_type": "code",
   "execution_count": 316,
   "id": "cdce614f",
   "metadata": {},
   "outputs": [
    {
     "data": {
      "text/plain": [
       "array([[1, 2, 3],\n",
       "       [4, 5, 6],\n",
       "       [7, 8, 9]])"
      ]
     },
     "execution_count": 316,
     "metadata": {},
     "output_type": "execute_result"
    }
   ],
   "source": [
    "arr[select_2D]"
   ]
  },
  {
   "cell_type": "markdown",
   "id": "45471205",
   "metadata": {},
   "source": [
    "# select rows"
   ]
  },
  {
   "cell_type": "code",
   "execution_count": 317,
   "id": "67ef93b0",
   "metadata": {},
   "outputs": [
    {
     "data": {
      "text/plain": [
       "array([1, 2, 3])"
      ]
     },
     "execution_count": 317,
     "metadata": {},
     "output_type": "execute_result"
    }
   ],
   "source": [
    "arr[select_2D][0]"
   ]
  },
  {
   "cell_type": "code",
   "execution_count": 318,
   "id": "bb8be985",
   "metadata": {},
   "outputs": [
    {
     "data": {
      "text/plain": [
       "array([4, 5, 6])"
      ]
     },
     "execution_count": 318,
     "metadata": {},
     "output_type": "execute_result"
    }
   ],
   "source": [
    "arr[select_2D][1]"
   ]
  },
  {
   "cell_type": "code",
   "execution_count": 319,
   "id": "118d1c18",
   "metadata": {},
   "outputs": [
    {
     "data": {
      "text/plain": [
       "array([7, 8, 9])"
      ]
     },
     "execution_count": 319,
     "metadata": {},
     "output_type": "execute_result"
    }
   ],
   "source": [
    "arr[select_2D][2]"
   ]
  },
  {
   "cell_type": "code",
   "execution_count": 321,
   "id": "e2495d56",
   "metadata": {},
   "outputs": [
    {
     "name": "stdout",
     "output_type": "stream",
     "text": [
      "[[1 2 3]\n",
      " [4 5 6]\n",
      " [7 8 9]]\n"
     ]
    }
   ],
   "source": [
    "# itereation\n",
    "for i in arr:\n",
    "    print(i)"
   ]
  },
  {
   "cell_type": "code",
   "execution_count": 323,
   "id": "d41b1c25",
   "metadata": {},
   "outputs": [
    {
     "name": "stdout",
     "output_type": "stream",
     "text": [
      "1\n",
      "2\n",
      "3\n",
      "4\n",
      "5\n",
      "6\n",
      "7\n",
      "8\n",
      "9\n"
     ]
    }
   ],
   "source": [
    "# access elements\n",
    "for i in arr:\n",
    "    for j in i:\n",
    "        for k in j:\n",
    "            print(k)"
   ]
  },
  {
   "cell_type": "code",
   "execution_count": 324,
   "id": "0995c721",
   "metadata": {},
   "outputs": [
    {
     "data": {
      "text/plain": [
       "(1, 3, 3)"
      ]
     },
     "execution_count": 324,
     "metadata": {},
     "output_type": "execute_result"
    }
   ],
   "source": [
    "arr.shape"
   ]
  },
  {
   "cell_type": "markdown",
   "id": "15bf0fa1",
   "metadata": {},
   "source": [
    "# add more 2D"
   ]
  },
  {
   "cell_type": "markdown",
   "id": "9b02c042",
   "metadata": {},
   "source": [
    "<img src=\"../../images/3d_2.jpg\" style=\"display: block;margin-left: auto;margin-right: auto;\n",
    "  width: 80%; border-radius:0px 10px 10px 10px; height:80%;\">\n"
   ]
  },
  {
   "cell_type": "code",
   "execution_count": 325,
   "id": "ff8c00d4",
   "metadata": {},
   "outputs": [],
   "source": [
    "arr = np.array(\n",
    "    [#----------------------------------------------- 3-D box   \n",
    "    \n",
    "    [ #----------------------------------------------- 2-D box 1   \n",
    "    [1,2,3], #---------> row 0 3 elements\n",
    "    [4,5,6], #---------> row 1 3 elements\n",
    "    [7,8,9]  #---------> row 2 3 elements\n",
    "    ] #----------------------------------------------- 2-D box 1\n",
    "    ,\n",
    "    \n",
    "    [ #----------------------------------------------- 2-D box 2  \n",
    "    [11,12,13], #---------> row 0 3 elements\n",
    "    [14,15,16], #---------> row 1 3 elements\n",
    "    [17,18,19]  #---------> row 2 3 elements\n",
    "    ] #----------------------------------------------- 2-D box 2\n",
    "\n",
    "        \n",
    "        \n",
    "        \n",
    "    ] #----------------------------------------------- 3-D box   \n",
    "\n",
    ")"
   ]
  },
  {
   "cell_type": "code",
   "execution_count": 326,
   "id": "dc27a32b",
   "metadata": {},
   "outputs": [
    {
     "data": {
      "text/plain": [
       "(2, 3, 3)"
      ]
     },
     "execution_count": 326,
     "metadata": {},
     "output_type": "execute_result"
    }
   ],
   "source": [
    "arr.shape"
   ]
  },
  {
   "cell_type": "code",
   "execution_count": 327,
   "id": "412b7002",
   "metadata": {},
   "outputs": [
    {
     "data": {
      "text/plain": [
       "3"
      ]
     },
     "execution_count": 327,
     "metadata": {},
     "output_type": "execute_result"
    }
   ],
   "source": [
    "arr.ndim"
   ]
  },
  {
   "cell_type": "markdown",
   "id": "ce429c6f",
   "metadata": {},
   "source": [
    "# two 2-D Metrix are exist"
   ]
  },
  {
   "cell_type": "code",
   "execution_count": 328,
   "id": "e3822cdf",
   "metadata": {},
   "outputs": [
    {
     "data": {
      "text/plain": [
       "array([[1, 2, 3],\n",
       "       [4, 5, 6],\n",
       "       [7, 8, 9]])"
      ]
     },
     "execution_count": 328,
     "metadata": {},
     "output_type": "execute_result"
    }
   ],
   "source": [
    "arr[0]"
   ]
  },
  {
   "cell_type": "code",
   "execution_count": 330,
   "id": "6a322dca",
   "metadata": {},
   "outputs": [
    {
     "data": {
      "text/plain": [
       "array([[11, 12, 13],\n",
       "       [14, 15, 16],\n",
       "       [17, 18, 19]])"
      ]
     },
     "execution_count": 330,
     "metadata": {},
     "output_type": "execute_result"
    }
   ],
   "source": [
    "arr[1]"
   ]
  },
  {
   "cell_type": "code",
   "execution_count": 331,
   "id": "d35d0e0f",
   "metadata": {},
   "outputs": [
    {
     "data": {
      "text/plain": [
       "(2, 3, 3)"
      ]
     },
     "execution_count": 331,
     "metadata": {},
     "output_type": "execute_result"
    }
   ],
   "source": [
    "arr.shape"
   ]
  },
  {
   "cell_type": "code",
   "execution_count": 333,
   "id": "c339b169",
   "metadata": {},
   "outputs": [
    {
     "data": {
      "text/plain": [
       "array([[11, 12, 13],\n",
       "       [14, 15, 16],\n",
       "       [17, 18, 19]])"
      ]
     },
     "execution_count": 333,
     "metadata": {},
     "output_type": "execute_result"
    }
   ],
   "source": [
    "# select 2nd metrix\n",
    "arr[1]"
   ]
  },
  {
   "cell_type": "markdown",
   "id": "31fdf56b",
   "metadata": {},
   "source": [
    "# select rows"
   ]
  },
  {
   "cell_type": "code",
   "execution_count": 334,
   "id": "d20e4e80",
   "metadata": {},
   "outputs": [
    {
     "data": {
      "text/plain": [
       "array([14, 15, 16])"
      ]
     },
     "execution_count": 334,
     "metadata": {},
     "output_type": "execute_result"
    }
   ],
   "source": [
    "arr[1][1]"
   ]
  },
  {
   "cell_type": "markdown",
   "id": "f4c663ac",
   "metadata": {},
   "source": [
    "# select values"
   ]
  },
  {
   "cell_type": "code",
   "execution_count": 335,
   "id": "a994801b",
   "metadata": {},
   "outputs": [
    {
     "data": {
      "text/plain": [
       "16"
      ]
     },
     "execution_count": 335,
     "metadata": {},
     "output_type": "execute_result"
    }
   ],
   "source": [
    "arr[1][1][2]"
   ]
  },
  {
   "cell_type": "markdown",
   "id": "f8983003",
   "metadata": {},
   "source": [
    "## iteration 3-D"
   ]
  },
  {
   "cell_type": "code",
   "execution_count": 336,
   "id": "26781a60",
   "metadata": {},
   "outputs": [
    {
     "data": {
      "text/plain": [
       "(2, 3, 3)"
      ]
     },
     "execution_count": 336,
     "metadata": {},
     "output_type": "execute_result"
    }
   ],
   "source": [
    "arr.shape"
   ]
  },
  {
   "cell_type": "code",
   "execution_count": 337,
   "id": "d6c22c90",
   "metadata": {},
   "outputs": [],
   "source": [
    "arr_2d = arr.shape[0]\n",
    "rows = arr.shape[1]\n",
    "col = arr.shape[2]"
   ]
  },
  {
   "cell_type": "code",
   "execution_count": 349,
   "id": "4e9c25bf",
   "metadata": {},
   "outputs": [],
   "source": [
    "i = 0\n",
    "j = 0\n",
    "k = 0"
   ]
  },
  {
   "cell_type": "code",
   "execution_count": 340,
   "id": "d3e457cc",
   "metadata": {},
   "outputs": [
    {
     "name": "stdout",
     "output_type": "stream",
     "text": [
      "0\n",
      "1\n"
     ]
    }
   ],
   "source": [
    "\n",
    "# iterate 2-D\n",
    "while i < arr_2d:\n",
    "    print(i)\n",
    "    i+=1"
   ]
  },
  {
   "cell_type": "code",
   "execution_count": 348,
   "id": "d4e5dc91",
   "metadata": {},
   "outputs": [
    {
     "name": "stdout",
     "output_type": "stream",
     "text": [
      "[[1 2 3]\n",
      " [4 5 6]\n",
      " [7 8 9]]\n",
      "\n",
      "[[11 12 13]\n",
      " [14 15 16]\n",
      " [17 18 19]]\n",
      "\n"
     ]
    }
   ],
   "source": [
    "while i < arr_2d:\n",
    "    print(arr[i])\n",
    "    i+=1\n",
    "    print()"
   ]
  },
  {
   "cell_type": "code",
   "execution_count": 362,
   "id": "81934ef8",
   "metadata": {},
   "outputs": [
    {
     "name": "stdout",
     "output_type": "stream",
     "text": [
      "1 2 3 \n",
      "4 5 6 \n",
      "7 8 9 \n",
      "\n",
      "11 12 13 \n",
      "14 15 16 \n",
      "17 18 19 \n",
      "\n"
     ]
    }
   ],
   "source": [
    "i = 0\n",
    "j = 0\n",
    "k = 0\n",
    "\n",
    "# no od 2D\n",
    "while i < arr_2d:\n",
    "    j = 0 # reset\n",
    "    \n",
    "    # select rows\n",
    "    while j < rows:\n",
    "       \n",
    "        k = 0 # reset 0\n",
    "        \n",
    "        # select values\n",
    "        while k < col:\n",
    "            print(arr[i][j][k],end=\" \")\n",
    "            k+=1\n",
    "        print()\n",
    "        j+=1\n",
    "    \n",
    "    print()\n",
    "    i+=1\n",
    "    "
   ]
  }
 ],
 "metadata": {
  "kernelspec": {
   "display_name": "Python 3 (ipykernel)",
   "language": "python",
   "name": "python3"
  },
  "language_info": {
   "codemirror_mode": {
    "name": "ipython",
    "version": 3
   },
   "file_extension": ".py",
   "mimetype": "text/x-python",
   "name": "python",
   "nbconvert_exporter": "python",
   "pygments_lexer": "ipython3",
   "version": "3.10.6"
  }
 },
 "nbformat": 4,
 "nbformat_minor": 5
}

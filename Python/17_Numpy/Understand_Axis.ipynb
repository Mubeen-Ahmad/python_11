{
 "cells": [
  {
   "cell_type": "markdown",
   "id": "ed470cc2",
   "metadata": {},
   "source": [
    "# AXIS\n",
    "<br><br>\n",
    "\n",
    "- ## Numpy Axis is a type of direction through which the iteration starts. \n",
    "<br>\n",
    "\n",
    "- ## Every operation in numpy has a specific iteration process through which the operation proceeds.\n",
    "<br>\n",
    "\n",
    "- ## Moreover, there are two types of the iteration process\n",
    "    - ## Column order and Fortran order. \n",
    "<br>\n",
    "\n",
    "- ## Column order helps through the column axis\n",
    "<br>\n",
    "\n",
    "- ## Fortran order helps through the row axis."
   ]
  },
  {
   "cell_type": "markdown",
   "id": "d85e3c99",
   "metadata": {},
   "source": [
    "<img src=\"../../images/axis_intro.jpg\" style=\"display: block;margin-left: auto;margin-right: auto;\n",
    "  width: 100%; border-radius:0px 10px 10px 10px; height:50%;\">\n",
    "<br>\n",
    "<a href=\"https://www.programsbuzz.com/sites/default/files/inline-images/3D-Banner.jpg\">Refference image</a>"
   ]
  },
  {
   "cell_type": "markdown",
   "id": "fb7dc32c",
   "metadata": {},
   "source": [
    "<h3><p>In general, the axis parameter is used in NumPy functions that perform mathematical operations along a specific axis of an array, <br><br>such as np.sum(), np.mean(), np.max(), np.min(), np.std(), np.var(), np.argmax(), and np.argmin().</p></h3>"
   ]
  },
  {
   "cell_type": "markdown",
   "id": "f4f1c8d6",
   "metadata": {},
   "source": [
    "# 1-D \n",
    "<br>\n",
    "\n",
    "## Axis 0: This refers to the first dimension of an array, which is often used to represent the rows of a matrix."
   ]
  },
  {
   "cell_type": "code",
   "execution_count": 108,
   "id": "f692b019",
   "metadata": {},
   "outputs": [],
   "source": [
    "import numpy as np"
   ]
  },
  {
   "cell_type": "code",
   "execution_count": 109,
   "id": "81938dff",
   "metadata": {},
   "outputs": [],
   "source": [
    "arr = np.array([1,2])"
   ]
  },
  {
   "cell_type": "code",
   "execution_count": 110,
   "id": "9f9b17c4",
   "metadata": {},
   "outputs": [
    {
     "data": {
      "text/plain": [
       "array([1, 2])"
      ]
     },
     "execution_count": 110,
     "metadata": {},
     "output_type": "execute_result"
    }
   ],
   "source": [
    "arr"
   ]
  },
  {
   "cell_type": "markdown",
   "id": "465f06d9",
   "metadata": {},
   "source": [
    "<img src=\"../../images/axis_1d.png\" style=\"display: block;margin-left: auto;margin-right: auto;\n",
    "  width:50%; border-radius:0px 10px 10px 10px; height:50%;\">"
   ]
  },
  {
   "cell_type": "code",
   "execution_count": 112,
   "id": "9a45400f",
   "metadata": {},
   "outputs": [
    {
     "data": {
      "text/plain": [
       "(2,)"
      ]
     },
     "execution_count": 112,
     "metadata": {},
     "output_type": "execute_result"
    }
   ],
   "source": [
    "arr.shape\n",
    "# 2,0 here 0 is axis"
   ]
  },
  {
   "cell_type": "markdown",
   "id": "3b53eb32",
   "metadata": {},
   "source": [
    "# sum operation"
   ]
  },
  {
   "cell_type": "markdown",
   "id": "fbb3a118",
   "metadata": {},
   "source": [
    "<img src=\"../../images/axis_2.png\" style=\"display: block;margin-left: auto;margin-right: auto;\n",
    "  width:50%; border-radius:0px 10px 10px 10px; height:50%;\">"
   ]
  },
  {
   "cell_type": "code",
   "execution_count": 114,
   "id": "b3e0a49a",
   "metadata": {},
   "outputs": [
    {
     "data": {
      "text/plain": [
       "3"
      ]
     },
     "execution_count": 114,
     "metadata": {},
     "output_type": "execute_result"
    }
   ],
   "source": [
    "np.sum(arr,axis=0)"
   ]
  },
  {
   "cell_type": "markdown",
   "id": "a1f432fb",
   "metadata": {},
   "source": [
    "# Axis 1: \n",
    "<br>\n",
    "\n",
    "## This refers to the second dimension of an array, which is often used to represent the columns of a matrix."
   ]
  },
  {
   "cell_type": "markdown",
   "id": "ce65afaa",
   "metadata": {},
   "source": [
    "# 2-D"
   ]
  },
  {
   "cell_type": "code",
   "execution_count": 118,
   "id": "5772489f",
   "metadata": {},
   "outputs": [],
   "source": [
    "arr = np.array([\n",
    "    [1,2],\n",
    "    [3,4]\n",
    "])"
   ]
  },
  {
   "cell_type": "code",
   "execution_count": 119,
   "id": "21267f24",
   "metadata": {},
   "outputs": [
    {
     "data": {
      "text/plain": [
       "array([[1, 2],\n",
       "       [3, 4]])"
      ]
     },
     "execution_count": 119,
     "metadata": {},
     "output_type": "execute_result"
    }
   ],
   "source": [
    "arr"
   ]
  },
  {
   "cell_type": "markdown",
   "id": "a20608b9",
   "metadata": {},
   "source": [
    "<img src=\"../../images/2d_ax.png\" style=\"display: block;margin-left: auto;margin-right: auto;\n",
    "  width:50%; border-radius:0px 10px 10px 10px; height:50%;\">"
   ]
  },
  {
   "cell_type": "code",
   "execution_count": 122,
   "id": "887d9ebf",
   "metadata": {},
   "outputs": [
    {
     "name": "stdout",
     "output_type": "stream",
     "text": [
      "(2, 2)\n"
     ]
    }
   ],
   "source": [
    "print(arr.shape)"
   ]
  },
  {
   "cell_type": "code",
   "execution_count": 123,
   "id": "e669d162",
   "metadata": {},
   "outputs": [
    {
     "name": "stdout",
     "output_type": "stream",
     "text": [
      "2\n"
     ]
    }
   ],
   "source": [
    "print(arr.ndim)"
   ]
  },
  {
   "cell_type": "markdown",
   "id": "509d830f",
   "metadata": {},
   "source": [
    "# Sum column Wise"
   ]
  },
  {
   "cell_type": "code",
   "execution_count": 128,
   "id": "36202a82",
   "metadata": {},
   "outputs": [
    {
     "data": {
      "text/plain": [
       "array([4, 6])"
      ]
     },
     "execution_count": 128,
     "metadata": {},
     "output_type": "execute_result"
    }
   ],
   "source": [
    "np.sum(arr,axis=0)"
   ]
  },
  {
   "cell_type": "markdown",
   "id": "b19c3f4a",
   "metadata": {},
   "source": [
    "<img src=\"../../images/2ax.png\" style=\"display: block;margin-left: auto;margin-right: auto;\n",
    "  width:50%; border-radius:0px 10px 10px 10px; height:50%;\">"
   ]
  },
  {
   "cell_type": "markdown",
   "id": "debf872a",
   "metadata": {},
   "source": [
    "# sum Row Wise"
   ]
  },
  {
   "cell_type": "code",
   "execution_count": 130,
   "id": "59322ee2",
   "metadata": {},
   "outputs": [
    {
     "data": {
      "text/plain": [
       "array([3, 7])"
      ]
     },
     "execution_count": 130,
     "metadata": {},
     "output_type": "execute_result"
    }
   ],
   "source": [
    "np.sum(arr,axis=1)"
   ]
  },
  {
   "cell_type": "markdown",
   "id": "e0ab0921",
   "metadata": {},
   "source": [
    "<img src=\"../../images/ax2_.png\" style=\"display: block;margin-left: auto;margin-right: auto;\n",
    "  width:50%; border-radius:0px 10px 10px 10px; height:50%;\">"
   ]
  },
  {
   "cell_type": "markdown",
   "id": "7fdf1290",
   "metadata": {},
   "source": [
    "# Axis 2: \n",
    "<br>\n",
    "\n",
    "## This refers to the third dimension of an array, which is often used to represent different layers or slices of a three-dimensional array."
   ]
  },
  {
   "cell_type": "markdown",
   "id": "51f6da99",
   "metadata": {},
   "source": [
    "# 3-D "
   ]
  },
  {
   "cell_type": "code",
   "execution_count": 136,
   "id": "b6cde5c7",
   "metadata": {},
   "outputs": [],
   "source": [
    "data= np.array([\n",
    "    [\n",
    "        [1,2],\n",
    "        [3,4],\n",
    "    ],\n",
    "    [\n",
    "        [5,6],\n",
    "        [7,8],\n",
    "    ]\n",
    "])\n"
   ]
  },
  {
   "cell_type": "code",
   "execution_count": 137,
   "id": "de2cb8bf",
   "metadata": {},
   "outputs": [
    {
     "data": {
      "text/plain": [
       "array([[[1, 2],\n",
       "        [3, 4]],\n",
       "\n",
       "       [[5, 6],\n",
       "        [7, 8]]])"
      ]
     },
     "execution_count": 137,
     "metadata": {},
     "output_type": "execute_result"
    }
   ],
   "source": [
    "data"
   ]
  },
  {
   "cell_type": "markdown",
   "id": "601748a1",
   "metadata": {},
   "source": [
    "<img src=\"../../images/3d.png\" style=\"display: block;margin-left: auto;margin-right: auto;\n",
    "  width:50%; border-radius:0px 10px 10px 10px; height:50%;\">"
   ]
  },
  {
   "cell_type": "markdown",
   "id": "de618864",
   "metadata": {},
   "source": [
    "# axis 0 is the 3d values\n",
    "- ##  [1,5] [2,6]\n",
    "- ##  [3,7] [4,8]"
   ]
  },
  {
   "cell_type": "code",
   "execution_count": 139,
   "id": "d3d5c367",
   "metadata": {},
   "outputs": [
    {
     "data": {
      "text/plain": [
       "array([[ 6,  8],\n",
       "       [10, 12]])"
      ]
     },
     "execution_count": 139,
     "metadata": {},
     "output_type": "execute_result"
    }
   ],
   "source": [
    "np.sum(data,axis=0)"
   ]
  },
  {
   "cell_type": "markdown",
   "id": "9351c5a5",
   "metadata": {},
   "source": [
    "<img src=\"../../images/ax3_0.png\" style=\"display: block;margin-left: auto;margin-right: auto;\n",
    "  width:50%; border-radius:0px 10px 10px 10px; height:50%;\">"
   ]
  },
  {
   "cell_type": "markdown",
   "id": "422aa344",
   "metadata": {},
   "source": [
    "# axis 1"
   ]
  },
  {
   "cell_type": "code",
   "execution_count": 141,
   "id": "3f92674a",
   "metadata": {},
   "outputs": [
    {
     "data": {
      "text/plain": [
       "array([[ 4,  6],\n",
       "       [12, 14]])"
      ]
     },
     "execution_count": 141,
     "metadata": {},
     "output_type": "execute_result"
    }
   ],
   "source": [
    "np.sum(data,axis=1)"
   ]
  },
  {
   "cell_type": "markdown",
   "id": "f00ba7fa",
   "metadata": {},
   "source": [
    "<img src=\"../../images/3dax_1.png\" style=\"display: block;margin-left: auto;margin-right: auto;\n",
    "  width:70%; border-radius:0px 10px 10px 10px; height:250px;\">"
   ]
  },
  {
   "cell_type": "markdown",
   "id": "5b67dfd7",
   "metadata": {},
   "source": [
    "# axis 2"
   ]
  },
  {
   "cell_type": "code",
   "execution_count": 142,
   "id": "c62a2315",
   "metadata": {},
   "outputs": [
    {
     "data": {
      "text/plain": [
       "array([[ 3,  7],\n",
       "       [11, 15]])"
      ]
     },
     "execution_count": 142,
     "metadata": {},
     "output_type": "execute_result"
    }
   ],
   "source": [
    "np.sum(data,axis=2)"
   ]
  },
  {
   "cell_type": "markdown",
   "id": "97e7c5e4",
   "metadata": {},
   "source": [
    "<img src=\"../../images/3dax_2.png\" style=\"display: block;margin-left: auto;margin-right: auto;\n",
    "  width:70%; border-radius:0px 10px 10px 10px; height:250%;\">"
   ]
  }
 ],
 "metadata": {
  "kernelspec": {
   "display_name": "Python 3 (ipykernel)",
   "language": "python",
   "name": "python3"
  },
  "language_info": {
   "codemirror_mode": {
    "name": "ipython",
    "version": 3
   },
   "file_extension": ".py",
   "mimetype": "text/x-python",
   "name": "python",
   "nbconvert_exporter": "python",
   "pygments_lexer": "ipython3",
   "version": "3.10.6"
  }
 },
 "nbformat": 4,
 "nbformat_minor": 5
}

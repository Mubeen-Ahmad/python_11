{
 "cells": [
  {
   "cell_type": "markdown",
   "id": "d8c46ede",
   "metadata": {},
   "source": [
    "- ## *np.savetxt()*\n",
    "- ## *np.loadtxt()*\n",
    "- ## *ndarray.tolist()*\n",
    "- ## *np.save()*\n",
    "- ## *np.load()*"
   ]
  },
  {
   "cell_type": "markdown",
   "id": "d75b0373",
   "metadata": {},
   "source": [
    "# *np.savetxt()*\n",
    "<br>\n",
    "\n",
    "- ### The numpy.savetxt() function is used to save a numpy array to a text file. This function takes three main arguments: the file name to save the array to, the array to be saved, and an optional delimiter string that separates the values in the file."
   ]
  },
  {
   "cell_type": "code",
   "execution_count": 1,
   "id": "a2758152",
   "metadata": {},
   "outputs": [],
   "source": [
    "import numpy as np"
   ]
  },
  {
   "cell_type": "code",
   "execution_count": 2,
   "id": "327ba060",
   "metadata": {},
   "outputs": [
    {
     "data": {
      "text/plain": [
       "array([[1, 2, 3],\n",
       "       [4, 5, 6],\n",
       "       [7, 8, 9]])"
      ]
     },
     "execution_count": 2,
     "metadata": {},
     "output_type": "execute_result"
    }
   ],
   "source": [
    "data = np.array([[1, 2, 3], [4, 5, 6], [7, 8, 9]])\n",
    "data"
   ]
  },
  {
   "cell_type": "code",
   "execution_count": 3,
   "id": "b2f981bb",
   "metadata": {},
   "outputs": [],
   "source": [
    "np.savetxt(\"data.txt\",data)"
   ]
  },
  {
   "cell_type": "code",
   "execution_count": 4,
   "id": "97965bee",
   "metadata": {},
   "outputs": [
    {
     "name": "stdout",
     "output_type": "stream",
     "text": [
      "1.000000000000000000e+00 2.000000000000000000e+00 3.000000000000000000e+00\r\n",
      "4.000000000000000000e+00 5.000000000000000000e+00 6.000000000000000000e+00\r\n",
      "7.000000000000000000e+00 8.000000000000000000e+00 9.000000000000000000e+00\r\n"
     ]
    }
   ],
   "source": [
    "cat data.txt"
   ]
  },
  {
   "cell_type": "code",
   "execution_count": 5,
   "id": "612941cf",
   "metadata": {},
   "outputs": [],
   "source": [
    "# change delimiter\n",
    "np.savetxt(\"data.txt\",data,delimiter=\";\")"
   ]
  },
  {
   "cell_type": "code",
   "execution_count": 9,
   "id": "c689b45f",
   "metadata": {},
   "outputs": [
    {
     "name": "stdout",
     "output_type": "stream",
     "text": [
      "1.000000000000000000e+00;2.000000000000000000e+00;3.000000000000000000e+00\r\n",
      "4.000000000000000000e+00;5.000000000000000000e+00;6.000000000000000000e+00\r\n",
      "7.000000000000000000e+00;8.000000000000000000e+00;9.000000000000000000e+00\r\n"
     ]
    }
   ],
   "source": [
    "cat data.txt"
   ]
  },
  {
   "cell_type": "markdown",
   "id": "a8eaec8e",
   "metadata": {},
   "source": [
    "# *np.loadtxt()*\n",
    "<br>\n",
    "\n",
    "- ### The numpy.loadtxt() function is used to load data from a text file into a NumPy array. The function reads a text file containing numeric data and returns a NumPy array that can be used for further numerical analysis or manipulation."
   ]
  },
  {
   "cell_type": "code",
   "execution_count": 11,
   "id": "7297421e",
   "metadata": {},
   "outputs": [
    {
     "data": {
      "text/plain": [
       "array([[1., 2., 3.],\n",
       "       [4., 5., 6.],\n",
       "       [7., 8., 9.]])"
      ]
     },
     "execution_count": 11,
     "metadata": {},
     "output_type": "execute_result"
    }
   ],
   "source": [
    "np.loadtxt(\"data.txt\",delimiter=\";\")"
   ]
  },
  {
   "cell_type": "code",
   "execution_count": 12,
   "id": "c24929a8",
   "metadata": {},
   "outputs": [
    {
     "data": {
      "text/plain": [
       "array([[1, 2, 3],\n",
       "       [4, 5, 6],\n",
       "       [7, 8, 9]])"
      ]
     },
     "execution_count": 12,
     "metadata": {},
     "output_type": "execute_result"
    }
   ],
   "source": [
    "data"
   ]
  },
  {
   "cell_type": "code",
   "execution_count": 34,
   "id": "6da40beb",
   "metadata": {},
   "outputs": [],
   "source": [
    "# change delimiter \n",
    "np.savetxt(\"data.txt\",data,delimiter=\",\") # save array"
   ]
  },
  {
   "cell_type": "code",
   "execution_count": 35,
   "id": "21a61f0d",
   "metadata": {},
   "outputs": [
    {
     "data": {
      "text/plain": [
       "array([[1., 2., 3.],\n",
       "       [4., 5., 6.],\n",
       "       [7., 8., 9.]])"
      ]
     },
     "execution_count": 35,
     "metadata": {},
     "output_type": "execute_result"
    }
   ],
   "source": [
    "np.loadtxt(\"data.txt\",delimiter=\",\")"
   ]
  },
  {
   "cell_type": "code",
   "execution_count": 36,
   "id": "1c111ca5",
   "metadata": {},
   "outputs": [
    {
     "name": "stderr",
     "output_type": "stream",
     "text": [
      "/tmp/ipykernel_81663/287599630.py:2: DeprecationWarning: loadtxt(): Parsing an integer via a float is deprecated.  To avoid this warning, you can:\n",
      "    * make sure the original data is stored as integers.\n",
      "    * use the `converters=` keyword argument.  If you only use\n",
      "      NumPy 1.23 or later, `converters=float` will normally work.\n",
      "    * Use `np.loadtxt(...).astype(np.int64)` parsing the file as\n",
      "      floating point and then convert it.  (On all NumPy versions.)\n",
      "  (Deprecated NumPy 1.23)\n",
      "  np.loadtxt(\"data.txt\",delimiter=\",\",dtype=int)\n"
     ]
    },
    {
     "data": {
      "text/plain": [
       "array([[1, 2, 3],\n",
       "       [4, 5, 6],\n",
       "       [7, 8, 9]])"
      ]
     },
     "execution_count": 36,
     "metadata": {},
     "output_type": "execute_result"
    }
   ],
   "source": [
    "# change dtype\n",
    "np.loadtxt(\"data.txt\",delimiter=\",\",dtype=int)"
   ]
  },
  {
   "cell_type": "code",
   "execution_count": 39,
   "id": "0b96e857",
   "metadata": {},
   "outputs": [
    {
     "data": {
      "text/plain": [
       "array([[1., 2., 3.],\n",
       "       [4., 5., 6.],\n",
       "       [7., 8., 9.]])"
      ]
     },
     "execution_count": 39,
     "metadata": {},
     "output_type": "execute_result"
    }
   ],
   "source": [
    "# use astype() function for convert data type \n",
    "ds = np.loadtxt(\"data.txt\",delimiter=\",\")\n",
    "ds"
   ]
  },
  {
   "cell_type": "code",
   "execution_count": 42,
   "id": "96edab16",
   "metadata": {},
   "outputs": [
    {
     "data": {
      "text/plain": [
       "array([[1, 2, 3],\n",
       "       [4, 5, 6],\n",
       "       [7, 8, 9]])"
      ]
     },
     "execution_count": 42,
     "metadata": {},
     "output_type": "execute_result"
    }
   ],
   "source": [
    "ds.astype(int)"
   ]
  },
  {
   "cell_type": "code",
   "execution_count": 44,
   "id": "5f0526cd",
   "metadata": {},
   "outputs": [
    {
     "data": {
      "text/plain": [
       "array([1., 4., 7.])"
      ]
     },
     "execution_count": 44,
     "metadata": {},
     "output_type": "execute_result"
    }
   ],
   "source": [
    "# usecols parameter\n",
    "np.loadtxt(\"data.txt\",delimiter=\",\",usecols=0)"
   ]
  },
  {
   "cell_type": "code",
   "execution_count": 45,
   "id": "e64e15d5",
   "metadata": {},
   "outputs": [
    {
     "data": {
      "text/plain": [
       "array([2., 5., 8.])"
      ]
     },
     "execution_count": 45,
     "metadata": {},
     "output_type": "execute_result"
    }
   ],
   "source": [
    "np.loadtxt(\"data.txt\",delimiter=\",\",usecols=1)"
   ]
  },
  {
   "cell_type": "code",
   "execution_count": 49,
   "id": "c5c7c544",
   "metadata": {},
   "outputs": [
    {
     "data": {
      "text/plain": [
       "array([[4., 5., 6.],\n",
       "       [7., 8., 9.]])"
      ]
     },
     "execution_count": 49,
     "metadata": {},
     "output_type": "execute_result"
    }
   ],
   "source": [
    "# skiprows parameter\n",
    "np.loadtxt(\"data.txt\",delimiter=\",\",skiprows=1)"
   ]
  },
  {
   "cell_type": "markdown",
   "id": "daa9de9f",
   "metadata": {},
   "source": [
    "# *ndarray.tolist()*\n",
    "<br>\n",
    "\n",
    "- ### The numpy.ndarray.tolist() function is used to convert a NumPy array to a Python list. This can be useful in cases where you need to pass the array to a function or library that expects a list as input."
   ]
  },
  {
   "cell_type": "code",
   "execution_count": 59,
   "id": "08a47e31",
   "metadata": {},
   "outputs": [
    {
     "data": {
      "text/plain": [
       "array([[1, 2, 3],\n",
       "       [4, 5, 6],\n",
       "       [7, 8, 9]])"
      ]
     },
     "execution_count": 59,
     "metadata": {},
     "output_type": "execute_result"
    }
   ],
   "source": [
    "data"
   ]
  },
  {
   "cell_type": "code",
   "execution_count": 60,
   "id": "423c5e33",
   "metadata": {},
   "outputs": [
    {
     "data": {
      "text/plain": [
       "[[1, 2, 3], [4, 5, 6], [7, 8, 9]]"
      ]
     },
     "execution_count": 60,
     "metadata": {},
     "output_type": "execute_result"
    }
   ],
   "source": [
    "data.tolist()"
   ]
  },
  {
   "cell_type": "markdown",
   "id": "8b9d78a8",
   "metadata": {},
   "source": [
    "# *np.save()*\n",
    "<br>\n",
    "\n",
    "- ### The numpy.save() function is used to save a NumPy array to a binary file in NumPy's own \".npy\" format. This function is similar to the numpy.ndarray.tofile() function, but it adds some header information to the file that makes it easier to load the array back into memory later."
   ]
  },
  {
   "cell_type": "code",
   "execution_count": 81,
   "id": "6b5a1fde",
   "metadata": {},
   "outputs": [
    {
     "data": {
      "text/plain": [
       "array([[1, 2, 3],\n",
       "       [4, 5, 6],\n",
       "       [7, 8, 9]])"
      ]
     },
     "execution_count": 81,
     "metadata": {},
     "output_type": "execute_result"
    }
   ],
   "source": [
    "data"
   ]
  },
  {
   "cell_type": "code",
   "execution_count": 82,
   "id": "fd25988a",
   "metadata": {},
   "outputs": [],
   "source": [
    "np.save(\"data.npy\", data)"
   ]
  },
  {
   "cell_type": "code",
   "execution_count": 83,
   "id": "9c6a8ced",
   "metadata": {},
   "outputs": [
    {
     "name": "stdout",
     "output_type": "stream",
     "text": [
      "�NUMPY\u0001\u0000v\u0000{'descr': '<i8', 'fortran_order': False, 'shape': (3, 3), }                                                          \r\n",
      "\u0001\u0000\u0000\u0000\u0000\u0000\u0000\u0000\u0002\u0000\u0000\u0000\u0000\u0000\u0000\u0000\u0003\u0000\u0000\u0000\u0000\u0000\u0000\u0000\u0004\u0000\u0000\u0000\u0000\u0000\u0000\u0000\u0005\u0000\u0000\u0000\u0000\u0000\u0000\u0000\u0006\u0000\u0000\u0000\u0000\u0000\u0000\u0000\u0007\u0000\u0000\u0000\u0000\u0000\u0000\u0000\b\u0000\u0000\u0000\u0000\u0000\u0000\u0000\t\u0000\u0000\u0000\u0000\u0000\u0000\u0000"
     ]
    }
   ],
   "source": [
    "!cat data.npy"
   ]
  },
  {
   "cell_type": "markdown",
   "id": "374f9f8f",
   "metadata": {},
   "source": [
    "# *np.load()*\n",
    "<br>\n",
    "\n",
    "- ### The numpy.load() function is used to load a binary file that was saved using NumPy's .npy format. This function reads the binary data from the file and returns a NumPy array with the same shape, data type, and values as the original array that was saved."
   ]
  },
  {
   "cell_type": "code",
   "execution_count": 84,
   "id": "35e47ae4",
   "metadata": {},
   "outputs": [
    {
     "data": {
      "text/plain": [
       "array([[1, 2, 3],\n",
       "       [4, 5, 6],\n",
       "       [7, 8, 9]])"
      ]
     },
     "execution_count": 84,
     "metadata": {},
     "output_type": "execute_result"
    }
   ],
   "source": [
    "np.load(\"data.npy\")"
   ]
  },
  {
   "cell_type": "markdown",
   "id": "259ff7e4",
   "metadata": {},
   "source": [
    "# *np.savez()*\n",
    "<br>\n",
    "\n",
    "- ### The numpy.savez() function is used to save multiple NumPy arrays into a single compressed .npz archive file. This function is similar to numpy.save(), but it allows you to save and organize multiple arrays in a single file, which can be more convenient and efficient for large datasets."
   ]
  },
  {
   "cell_type": "code",
   "execution_count": 85,
   "id": "e2a2eec7",
   "metadata": {},
   "outputs": [],
   "source": [
    "a = np.array([1, 2, 3])\n",
    "b = np.array([4, 5, 6])\n",
    "c = np.array([7, 8, 9])"
   ]
  },
  {
   "cell_type": "code",
   "execution_count": 86,
   "id": "dfa976dc",
   "metadata": {},
   "outputs": [],
   "source": [
    "np.savez(\"data.npz\", array1=a, array2=b, array3=c) # save arrays"
   ]
  },
  {
   "cell_type": "code",
   "execution_count": 87,
   "id": "e17c24db",
   "metadata": {},
   "outputs": [
    {
     "data": {
      "text/plain": [
       "<numpy.lib.npyio.NpzFile at 0x7fef782e6110>"
      ]
     },
     "execution_count": 87,
     "metadata": {},
     "output_type": "execute_result"
    }
   ],
   "source": [
    "data = np.load(\"data.npz\") # load data\n",
    "data"
   ]
  },
  {
   "cell_type": "code",
   "execution_count": 90,
   "id": "7d3f3481",
   "metadata": {},
   "outputs": [
    {
     "name": "stdout",
     "output_type": "stream",
     "text": [
      "array1 [1 2 3]\n",
      "array2 [4 5 6]\n",
      "array3 [7 8 9]\n"
     ]
    }
   ],
   "source": [
    "# access array\n",
    "for i in data:\n",
    "    print(i,data[i])"
   ]
  }
 ],
 "metadata": {
  "kernelspec": {
   "display_name": "Python 3 (ipykernel)",
   "language": "python",
   "name": "python3"
  },
  "language_info": {
   "codemirror_mode": {
    "name": "ipython",
    "version": 3
   },
   "file_extension": ".py",
   "mimetype": "text/x-python",
   "name": "python",
   "nbconvert_exporter": "python",
   "pygments_lexer": "ipython3",
   "version": "3.10.6"
  }
 },
 "nbformat": 4,
 "nbformat_minor": 5
}

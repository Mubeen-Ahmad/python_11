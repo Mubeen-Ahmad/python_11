{
 "cells": [
  {
   "cell_type": "markdown",
   "id": "bfc781f8",
   "metadata": {},
   "source": [
    "- ## *np.mean()*\n",
    "- ## *np.median()*\n",
    "- ## *np.std()*\n",
    "- ## *np.var()*\n",
    "- ## *np.min()*\n",
    "- ## *np.max()*\n",
    "- ## *np.argmin()*\n",
    "- ## *np.argmax()*\n",
    "- ## *np.cumsum()*\n",
    "- ## *np.cumprod()*\n",
    "- ## *np.cumproduct()*\n",
    "- ## *np.quantile()*\n",
    "- ## *np.percentile()*\n",
    "- ##  *np.corrcoef()*\n",
    "- ## *np.histogram()*"
   ]
  },
  {
   "cell_type": "markdown",
   "id": "1aa65d7c",
   "metadata": {},
   "source": [
    "# *np.mean()*\n",
    "<br>\n",
    "\n",
    "- ### The NumPy library provides the mean() function, which is used to calculate the average or mean of any array in the NumPy library. This function can be used for any n-dimensional array. The mean() function calculates the average of the input array and returns a scalar value as output.\n",
    "<br>\n",
    "\n",
    "- ### The mean() function is commonly used to calculate the average of a dataset. It allows us to calculate the mean or average of a dataset as a scalar value using NumPy's mean() function. This function is very useful in various fields such as machine learning, data analysis, and scientific computing.\n",
    "<br>\n",
    "\n",
    "- ### This function can be used with both one-dimensional and n-dimensional arrays. It also automatically ignores missing values (NaN) in the input array."
   ]
  },
  {
   "cell_type": "code",
   "execution_count": 2,
   "id": "86a5566c",
   "metadata": {},
   "outputs": [],
   "source": [
    "import numpy as np"
   ]
  },
  {
   "cell_type": "code",
   "execution_count": 87,
   "id": "e2070539",
   "metadata": {},
   "outputs": [
    {
     "data": {
      "text/plain": [
       "array([[1, 2, 3],\n",
       "       [4, 5, 6],\n",
       "       [7, 8, 9]])"
      ]
     },
     "execution_count": 87,
     "metadata": {},
     "output_type": "execute_result"
    }
   ],
   "source": [
    "arr = np.arange(1,10).reshape(3,3)\n",
    "arr"
   ]
  },
  {
   "cell_type": "code",
   "execution_count": 9,
   "id": "d08a2d42",
   "metadata": {},
   "outputs": [
    {
     "data": {
      "text/plain": [
       "5.0"
      ]
     },
     "execution_count": 9,
     "metadata": {},
     "output_type": "execute_result"
    }
   ],
   "source": [
    "np.mean(arr)"
   ]
  },
  {
   "cell_type": "code",
   "execution_count": 10,
   "id": "d114b978",
   "metadata": {},
   "outputs": [
    {
     "data": {
      "text/plain": [
       "array([4., 5., 6.])"
      ]
     },
     "execution_count": 10,
     "metadata": {},
     "output_type": "execute_result"
    }
   ],
   "source": [
    "# axis parameter\n",
    "np.mean(arr,axis=0)"
   ]
  },
  {
   "cell_type": "code",
   "execution_count": 18,
   "id": "a16717fe",
   "metadata": {},
   "outputs": [
    {
     "data": {
      "text/plain": [
       "5"
      ]
     },
     "execution_count": 18,
     "metadata": {},
     "output_type": "execute_result"
    }
   ],
   "source": [
    "# dtype\n",
    "np.mean(arr,dtype=int)"
   ]
  },
  {
   "cell_type": "markdown",
   "id": "55923e8c",
   "metadata": {},
   "source": [
    "# *np.median()*\n",
    "<br>\n",
    "\n",
    "- ### np.median() is a NumPy function that is used to compute the median value of an array along a specified axis.\n",
    "<br>\n",
    "\n",
    "- ### The median is the middle value of a sorted array. If the array has an odd number of elements, the median is the value in the middle. If the array has an even number of elements, the median is the average of the two middle values.\n",
    "<br>\n",
    "\n",
    "- ### The primary use of np.median() is to calculate the central tendency of a dataset. Unlike the mean, which can be affected by outliers, the median is a more robust measure of central tendency that is less sensitive to extreme values."
   ]
  },
  {
   "cell_type": "code",
   "execution_count": 90,
   "id": "f6a17bc8",
   "metadata": {},
   "outputs": [
    {
     "data": {
      "text/plain": [
       "array([[1, 2, 3],\n",
       "       [4, 5, 6],\n",
       "       [7, 8, 9]])"
      ]
     },
     "execution_count": 90,
     "metadata": {},
     "output_type": "execute_result"
    }
   ],
   "source": [
    "arr"
   ]
  },
  {
   "cell_type": "code",
   "execution_count": 88,
   "id": "e7273596",
   "metadata": {},
   "outputs": [
    {
     "data": {
      "text/plain": [
       "5.0"
      ]
     },
     "execution_count": 88,
     "metadata": {},
     "output_type": "execute_result"
    }
   ],
   "source": [
    "np.median(arr)"
   ]
  },
  {
   "cell_type": "code",
   "execution_count": 89,
   "id": "52ae716e",
   "metadata": {},
   "outputs": [
    {
     "data": {
      "text/plain": [
       "array([4., 5., 6.])"
      ]
     },
     "execution_count": 89,
     "metadata": {},
     "output_type": "execute_result"
    }
   ],
   "source": [
    "np.median(arr,axis=0)"
   ]
  },
  {
   "cell_type": "markdown",
   "id": "576d1715",
   "metadata": {},
   "source": [
    "# *np.std()*\n",
    "<br>\n",
    "\n",
    "- ### In NumPy, the np.std() function is used to calculate the standard deviation of a dataset. Standard deviation is a statistical concept that represents the variance of the dataset. Variance measures the variability or deviation of the values in a dataset. If the variance of a dataset is high, it means that the values are highly scattered or spread.\n",
    "<br>\n",
    "\n",
    "- ### The np.std() function can be used for any n-dimensional array. It allows us to calculate the standard deviation of a dataset as a scalar value using NumPy's np.std() function. The value of the standard deviation represents how far the values in the dataset deviate from the mean value.\n",
    "<br>\n",
    "\n",
    "- ### The output of the np.std() function is a scalar value representing the standard deviation of the dataset. This function helps in understanding the variability or consistency of the dataset. It is very useful in fields such as machine learning, data analysis, and scientific computing."
   ]
  },
  {
   "cell_type": "code",
   "execution_count": 19,
   "id": "859e11bb",
   "metadata": {},
   "outputs": [
    {
     "data": {
      "text/plain": [
       "2.581988897471611"
      ]
     },
     "execution_count": 19,
     "metadata": {},
     "output_type": "execute_result"
    }
   ],
   "source": [
    "np.std(arr)"
   ]
  },
  {
   "cell_type": "code",
   "execution_count": 20,
   "id": "a5d87554",
   "metadata": {},
   "outputs": [
    {
     "data": {
      "text/plain": [
       "array([2.44948974, 2.44948974, 2.44948974])"
      ]
     },
     "execution_count": 20,
     "metadata": {},
     "output_type": "execute_result"
    }
   ],
   "source": [
    "# axis\n",
    "np.std(arr,axis=0)"
   ]
  },
  {
   "cell_type": "code",
   "execution_count": 27,
   "id": "e33c20d8",
   "metadata": {},
   "outputs": [
    {
     "data": {
      "text/plain": [
       "2"
      ]
     },
     "execution_count": 27,
     "metadata": {},
     "output_type": "execute_result"
    }
   ],
   "source": [
    "# dtype\n",
    "np.std(arr,dtype=np.int32)"
   ]
  },
  {
   "cell_type": "code",
   "execution_count": 37,
   "id": "432d4cc5",
   "metadata": {},
   "outputs": [
    {
     "data": {
      "text/plain": [
       "2.581988897471611"
      ]
     },
     "execution_count": 37,
     "metadata": {},
     "output_type": "execute_result"
    }
   ],
   "source": [
    "# ddof \n",
    "np.std(arr,ddof=0)"
   ]
  },
  {
   "cell_type": "code",
   "execution_count": 39,
   "id": "7c8b7cf6",
   "metadata": {},
   "outputs": [
    {
     "data": {
      "text/plain": [
       "2.9277002188455996"
      ]
     },
     "execution_count": 39,
     "metadata": {},
     "output_type": "execute_result"
    }
   ],
   "source": [
    "# ddof \n",
    "np.std(arr,ddof=2)"
   ]
  },
  {
   "cell_type": "markdown",
   "id": "6310fa6d",
   "metadata": {},
   "source": [
    "# *np.var()*\n",
    "<br>\n",
    "\n",
    "- ### The np.var() function in NumPy is utilized to compute the variance of a dataset. Variance is a statistical concept that measures the amount of variation or deviation of values in a dataset from their mean value. It is calculated as the average of the squared differences between each value and the mean value.\n",
    "<br>\n",
    "\n",
    "- ### The np.var() function can be applied to any n-dimensional array. It enables us to determine the variance of a dataset as a scalar value utilizing NumPy's np.var() function. The variance value represents how much the values in the dataset deviate from the mean value.\n",
    "<br>\n",
    "\n",
    "- ### The output of the np.var() function is a scalar value that specifies the variance of the dataset. This function is beneficial in comprehending the variability or consistency of the dataset. It has broad applications in various fields such as machine learning, data analysis, and scientific computing."
   ]
  },
  {
   "cell_type": "code",
   "execution_count": 28,
   "id": "5db2081d",
   "metadata": {},
   "outputs": [
    {
     "data": {
      "text/plain": [
       "6.666666666666667"
      ]
     },
     "execution_count": 28,
     "metadata": {},
     "output_type": "execute_result"
    }
   ],
   "source": [
    "np.var(arr)"
   ]
  },
  {
   "cell_type": "code",
   "execution_count": 30,
   "id": "22a699e3",
   "metadata": {},
   "outputs": [
    {
     "data": {
      "text/plain": [
       "array([0.66666667, 0.66666667, 0.66666667])"
      ]
     },
     "execution_count": 30,
     "metadata": {},
     "output_type": "execute_result"
    }
   ],
   "source": [
    "# axis\n",
    "np.var(arr,axis=1)"
   ]
  },
  {
   "cell_type": "code",
   "execution_count": 42,
   "id": "c083725d",
   "metadata": {},
   "outputs": [
    {
     "data": {
      "text/plain": [
       "6"
      ]
     },
     "execution_count": 42,
     "metadata": {},
     "output_type": "execute_result"
    }
   ],
   "source": [
    "# dtype\n",
    "np.var(arr,dtype=int)"
   ]
  },
  {
   "cell_type": "code",
   "execution_count": 41,
   "id": "76be9646",
   "metadata": {},
   "outputs": [
    {
     "data": {
      "text/plain": [
       "7.5"
      ]
     },
     "execution_count": 41,
     "metadata": {},
     "output_type": "execute_result"
    }
   ],
   "source": [
    "# ddof\n",
    "np.var(arr,ddof=1)"
   ]
  },
  {
   "cell_type": "code",
   "execution_count": 43,
   "id": "05196a84",
   "metadata": {},
   "outputs": [
    {
     "data": {
      "text/plain": [
       "8.571428571428571"
      ]
     },
     "execution_count": 43,
     "metadata": {},
     "output_type": "execute_result"
    }
   ],
   "source": [
    "# ddof\n",
    "np.var(arr,ddof=2)"
   ]
  },
  {
   "cell_type": "markdown",
   "id": "1e9efdf4",
   "metadata": {},
   "source": [
    "# *np.min()*\n",
    "<br>\n",
    "\n",
    "- ### The np.min() function in NumPy is used to calculate the minimum value of an array. By using this function, we can calculate the minimum value of any n-dimensional array.\n",
    "<br>\n",
    "\n",
    "# Differences\n",
    "<br>\n",
    "\n",
    "- ### The np.min() function in NumPy is used to calculate the minimum value of an array or a specific axis of an array. On the other hand, np.minimum() is a NumPy function that compares two arrays and returns a new array with the element-wise minimum values between the two arrays.\n",
    "<br>\n",
    "\n",
    "- ### So, the main difference between np.min() and np.minimum() is that np.min() calculates the minimum value of an array or an axis of an array, while np.minimum() returns a new array with element-wise minimum values between two arrays."
   ]
  },
  {
   "cell_type": "code",
   "execution_count": 46,
   "id": "7b30d976",
   "metadata": {},
   "outputs": [],
   "source": [
    "arr1 = np.array([5, 3, 7, 1, 9])"
   ]
  },
  {
   "cell_type": "code",
   "execution_count": 47,
   "id": "eb399c48",
   "metadata": {},
   "outputs": [
    {
     "data": {
      "text/plain": [
       "1"
      ]
     },
     "execution_count": 47,
     "metadata": {},
     "output_type": "execute_result"
    }
   ],
   "source": [
    "np.min(arr1)"
   ]
  },
  {
   "cell_type": "code",
   "execution_count": 48,
   "id": "9dd52867",
   "metadata": {},
   "outputs": [],
   "source": [
    "# differences \n",
    "arr2 = np.array([4, 8, 2, 6, 1])\n",
    "arr3 = np.array([9, 5, 3, 7, 2])"
   ]
  },
  {
   "cell_type": "code",
   "execution_count": 49,
   "id": "db024c25",
   "metadata": {},
   "outputs": [
    {
     "data": {
      "text/plain": [
       "array([4, 5, 2, 6, 1])"
      ]
     },
     "execution_count": 49,
     "metadata": {},
     "output_type": "execute_result"
    }
   ],
   "source": [
    "np.minimum(arr2,arr3)"
   ]
  },
  {
   "cell_type": "code",
   "execution_count": 50,
   "id": "85cc7e29",
   "metadata": {},
   "outputs": [
    {
     "data": {
      "text/plain": [
       "array([[1, 2, 3],\n",
       "       [4, 5, 6],\n",
       "       [7, 8, 9]])"
      ]
     },
     "execution_count": 50,
     "metadata": {},
     "output_type": "execute_result"
    }
   ],
   "source": [
    "arr"
   ]
  },
  {
   "cell_type": "code",
   "execution_count": 51,
   "id": "16f3e11e",
   "metadata": {},
   "outputs": [
    {
     "data": {
      "text/plain": [
       "array([1, 2, 3])"
      ]
     },
     "execution_count": 51,
     "metadata": {},
     "output_type": "execute_result"
    }
   ],
   "source": [
    "# axis \n",
    "np.min(arr,axis=0)"
   ]
  },
  {
   "cell_type": "markdown",
   "id": "89bab1ba",
   "metadata": {},
   "source": [
    "# *np.max()*\n",
    "<br>\n",
    "\n",
    "- ### In NumPy, the np.max() function is used to find the maximum value of a given array along a specified axis. The function returns the maximum element from an array or maximum along an axis.\n",
    "<br>\n",
    "\n",
    "# Differences\n",
    "<br>\n",
    "\n",
    "- ### np.max is a function that returns the maximum value of an array or along a specified axis. It can take multiple arrays as input, and it returns a scalar value representing the maximum value of the array. It can also be used to find the maximum element-wise between two arrays.\n",
    "<br>\n",
    "\n",
    "- ### np.maximum is a function that compares two arrays element-wise and returns a new array that contains the maximum value for each element. It takes two arrays as input and returns an array of the same shape as the input arrays. If any of the input values is a NaN, the output will also be a NaN."
   ]
  },
  {
   "cell_type": "code",
   "execution_count": 55,
   "id": "c0e45573",
   "metadata": {},
   "outputs": [
    {
     "data": {
      "text/plain": [
       "array([5, 3, 7, 1, 9])"
      ]
     },
     "execution_count": 55,
     "metadata": {},
     "output_type": "execute_result"
    }
   ],
   "source": [
    "arr1"
   ]
  },
  {
   "cell_type": "code",
   "execution_count": 53,
   "id": "ff0057ec",
   "metadata": {},
   "outputs": [
    {
     "data": {
      "text/plain": [
       "9"
      ]
     },
     "execution_count": 53,
     "metadata": {},
     "output_type": "execute_result"
    }
   ],
   "source": [
    "np.max(arr1)"
   ]
  },
  {
   "cell_type": "code",
   "execution_count": 56,
   "id": "c7d48da3",
   "metadata": {},
   "outputs": [
    {
     "data": {
      "text/plain": [
       "array([4, 8, 2, 6, 1])"
      ]
     },
     "execution_count": 56,
     "metadata": {},
     "output_type": "execute_result"
    }
   ],
   "source": [
    "arr2"
   ]
  },
  {
   "cell_type": "code",
   "execution_count": 57,
   "id": "2ed1f9fc",
   "metadata": {},
   "outputs": [
    {
     "data": {
      "text/plain": [
       "array([9, 5, 3, 7, 2])"
      ]
     },
     "execution_count": 57,
     "metadata": {},
     "output_type": "execute_result"
    }
   ],
   "source": [
    "arr3"
   ]
  },
  {
   "cell_type": "code",
   "execution_count": 54,
   "id": "885f0e08",
   "metadata": {},
   "outputs": [
    {
     "data": {
      "text/plain": [
       "array([9, 8, 3, 7, 2])"
      ]
     },
     "execution_count": 54,
     "metadata": {},
     "output_type": "execute_result"
    }
   ],
   "source": [
    "np.maximum(arr2,arr3) # differences"
   ]
  },
  {
   "cell_type": "code",
   "execution_count": 58,
   "id": "359853a6",
   "metadata": {},
   "outputs": [
    {
     "data": {
      "text/plain": [
       "array([7, 8, 9])"
      ]
     },
     "execution_count": 58,
     "metadata": {},
     "output_type": "execute_result"
    }
   ],
   "source": [
    "# np.max  AXIS \n",
    "np.max(arr,axis=0)"
   ]
  },
  {
   "cell_type": "markdown",
   "id": "39f1a455",
   "metadata": {},
   "source": [
    "# *np.argmin()*\n",
    "<br>\n",
    "\n",
    "- ### The np.argmin() function in NumPy is used to calculate the index of the minimum value in an array. This function can be used for any n-dimensional array, and it helps in finding the index of the minimum value in the array."
   ]
  },
  {
   "cell_type": "code",
   "execution_count": 78,
   "id": "a30c3606",
   "metadata": {},
   "outputs": [
    {
     "data": {
      "text/plain": [
       "0"
      ]
     },
     "execution_count": 78,
     "metadata": {},
     "output_type": "execute_result"
    }
   ],
   "source": [
    "np.argmin(arr)"
   ]
  },
  {
   "cell_type": "code",
   "execution_count": 79,
   "id": "6ce500ad",
   "metadata": {},
   "outputs": [
    {
     "data": {
      "text/plain": [
       "array([[1, 2, 3],\n",
       "       [4, 5, 6],\n",
       "       [7, 8, 9]])"
      ]
     },
     "execution_count": 79,
     "metadata": {},
     "output_type": "execute_result"
    }
   ],
   "source": [
    "arr # 1 element is minimum"
   ]
  },
  {
   "cell_type": "markdown",
   "id": "a5eb68a8",
   "metadata": {},
   "source": [
    "# *np.argmax()*\n",
    "<br>\n",
    "\n",
    "- ### The np.argmax() function in NumPy is used to calculate the index of the maximum value in an array. This function can be used for any n-dimensional array, and it helps in finding the index of the maximum value in the array."
   ]
  },
  {
   "cell_type": "code",
   "execution_count": 80,
   "id": "1a7619cb",
   "metadata": {},
   "outputs": [
    {
     "data": {
      "text/plain": [
       "8"
      ]
     },
     "execution_count": 80,
     "metadata": {},
     "output_type": "execute_result"
    }
   ],
   "source": [
    "np.argmax(arr)"
   ]
  },
  {
   "cell_type": "code",
   "execution_count": 81,
   "id": "dedc697c",
   "metadata": {},
   "outputs": [
    {
     "data": {
      "text/plain": [
       "array([[1, 2, 3],\n",
       "       [4, 5, 6],\n",
       "       [7, 8, 9]])"
      ]
     },
     "execution_count": 81,
     "metadata": {},
     "output_type": "execute_result"
    }
   ],
   "source": [
    "arr # 9 element are maximum"
   ]
  },
  {
   "cell_type": "markdown",
   "id": "894663f5",
   "metadata": {},
   "source": [
    "# *np.cumsum()*\n",
    "\n",
    "<br>\n",
    "\n",
    "- ### In NumPy, the np.cumsum() function is used to calculate the cumulative sum of an array. Cumulative sum is the sum of all the previous elements along with the current element in a sequence.\n",
    "<br>\n",
    "\n",
    "- ### This function can be used for any n-dimensional array. The np.cumsum() function returns a new array that includes the cumulative sum of all the elements in the input array. This function is very useful in fields such as machine learning, data analysis, and scientific computing."
   ]
  },
  {
   "cell_type": "code",
   "execution_count": 82,
   "id": "9293465e",
   "metadata": {},
   "outputs": [
    {
     "data": {
      "text/plain": [
       "array([1, 2, 3, 4, 5])"
      ]
     },
     "execution_count": 82,
     "metadata": {},
     "output_type": "execute_result"
    }
   ],
   "source": [
    "arr = np.array([1, 2, 3, 4, 5])\n",
    "arr"
   ]
  },
  {
   "cell_type": "code",
   "execution_count": 83,
   "id": "c94fe2a4",
   "metadata": {},
   "outputs": [
    {
     "data": {
      "text/plain": [
       "array([ 1,  3,  6, 10, 15])"
      ]
     },
     "execution_count": 83,
     "metadata": {},
     "output_type": "execute_result"
    }
   ],
   "source": [
    "np.cumsum(arr)"
   ]
  },
  {
   "cell_type": "markdown",
   "id": "f5d19ca2",
   "metadata": {},
   "source": [
    "# *np.cumprod()*\n",
    "<br>\n",
    "\n",
    "- ### In NumPy, the cumprod() function is used to calculate the cumulative product of the elements in an array. The cumulative product is a sequence in which the current element is the product of all the previous elements in the array up to that point.\n"
   ]
  },
  {
   "cell_type": "code",
   "execution_count": 84,
   "id": "6841152c",
   "metadata": {},
   "outputs": [
    {
     "data": {
      "text/plain": [
       "array([  1,   2,   6,  24, 120])"
      ]
     },
     "execution_count": 84,
     "metadata": {},
     "output_type": "execute_result"
    }
   ],
   "source": [
    "np.cumprod(arr)"
   ]
  },
  {
   "cell_type": "markdown",
   "id": "6fbfc9df",
   "metadata": {},
   "source": [
    "# *np.cumproduct()*\n",
    "<br>\n",
    "\n",
    "- ### In NumPy, the np.cumproduct() function is used to calculate the cumulative product of the elements in an array. The cumulative product is a sequence in which the product of the current element and all the previous elements is calculated."
   ]
  },
  {
   "cell_type": "code",
   "execution_count": 86,
   "id": "32bc5e77",
   "metadata": {},
   "outputs": [
    {
     "data": {
      "text/plain": [
       "array([  1,   2,   6,  24, 120])"
      ]
     },
     "execution_count": 86,
     "metadata": {},
     "output_type": "execute_result"
    }
   ],
   "source": [
    "np.cumproduct(arr)"
   ]
  },
  {
   "cell_type": "markdown",
   "id": "d9d47e5c",
   "metadata": {},
   "source": [
    "# *np.percentile()*\n",
    "<br>\n",
    "\n",
    "- ### np.percentile() is a NumPy function that is used to compute the value of a given percentile in an array. A percentile is a measure used in statistics to indicate the value below which a given percentage of observations in a group of observations fall.\n",
    "<br>\n",
    "\n",
    "- ### The np.percentile() function takes three arguments: the input array, the percentile to compute, and the axis along which to compute the percentile. The percentile argument should be a value between 0 and 100."
   ]
  },
  {
   "cell_type": "code",
   "execution_count": 99,
   "id": "0e7a3b7e",
   "metadata": {},
   "outputs": [
    {
     "data": {
      "text/plain": [
       "array([[0, 1, 2],\n",
       "       [3, 4, 5],\n",
       "       [6, 7, 8]])"
      ]
     },
     "execution_count": 99,
     "metadata": {},
     "output_type": "execute_result"
    }
   ],
   "source": [
    "arr = np.arange(9).reshape(3,3)\n",
    "arr"
   ]
  },
  {
   "cell_type": "code",
   "execution_count": 101,
   "id": "267277e7",
   "metadata": {},
   "outputs": [
    {
     "data": {
      "text/plain": [
       "4.0"
      ]
     },
     "execution_count": 101,
     "metadata": {},
     "output_type": "execute_result"
    }
   ],
   "source": [
    "np.percentile(arr,50)"
   ]
  },
  {
   "cell_type": "code",
   "execution_count": 102,
   "id": "f12f9851",
   "metadata": {},
   "outputs": [
    {
     "data": {
      "text/plain": [
       "array([3., 4., 5.])"
      ]
     },
     "execution_count": 102,
     "metadata": {},
     "output_type": "execute_result"
    }
   ],
   "source": [
    "# axis\n",
    "np.percentile(arr,50,axis=0)"
   ]
  },
  {
   "cell_type": "markdown",
   "id": "bad30f85",
   "metadata": {},
   "source": [
    "# *np.quantile()*\n",
    "<br>\n",
    "\n",
    "- ### np.quantile() is a NumPy function that is used to compute the value of a given quantile in a NumPy array. A quantile is a measure used in statistics to indicate the value below which a given percentage of observations in a group of observations fall.\n",
    "<br>\n",
    "\n",
    "- ### The np.quantile() function takes three arguments: the input array, the quantile to compute, and the axis along which to compute the quantile. The quantile argument should be a value between 0 and 1."
   ]
  },
  {
   "cell_type": "code",
   "execution_count": 104,
   "id": "55823089",
   "metadata": {},
   "outputs": [
    {
     "data": {
      "text/plain": [
       "4.0"
      ]
     },
     "execution_count": 104,
     "metadata": {},
     "output_type": "execute_result"
    }
   ],
   "source": [
    "np.quantile(arr,0.5)"
   ]
  },
  {
   "cell_type": "code",
   "execution_count": 105,
   "id": "d8664858",
   "metadata": {},
   "outputs": [
    {
     "data": {
      "text/plain": [
       "array([3., 4., 5.])"
      ]
     },
     "execution_count": 105,
     "metadata": {},
     "output_type": "execute_result"
    }
   ],
   "source": [
    "# axis\n",
    "np.quantile(arr,0.5,axis=0)"
   ]
  },
  {
   "cell_type": "markdown",
   "id": "65247626",
   "metadata": {},
   "source": [
    "#  *np.corrcoef()*\n",
    "<br>\n",
    "\n",
    "- ### np.corrcoef is a NumPy function that is used to compute the Pearson correlation coefficient between two arrays. The Pearson correlation coefficient is a measure of the linear relationship between two sets of data. It has a value between -1 and 1, where -1 indicates a perfectly negative correlation, 0 indicates no correlation, and 1 indicates a perfectly positive correlation.\n",
    "<br>\n",
    "\n",
    "- ### The np.corrcoef function takes two arrays as input and returns a matrix of shape (N, N), where N is the length of the input arrays. The matrix contains the correlation coefficients between each pair of elements in the input arrays."
   ]
  },
  {
   "cell_type": "code",
   "execution_count": 107,
   "id": "59d7a984",
   "metadata": {},
   "outputs": [],
   "source": [
    "x = np.array([1, 2, 3, 4, 5])\n",
    "y = np.array([5, 4, 3, 2, 1])"
   ]
  },
  {
   "cell_type": "code",
   "execution_count": 108,
   "id": "a851bec5",
   "metadata": {},
   "outputs": [
    {
     "data": {
      "text/plain": [
       "array([[ 1., -1.],\n",
       "       [-1.,  1.]])"
      ]
     },
     "execution_count": 108,
     "metadata": {},
     "output_type": "execute_result"
    }
   ],
   "source": [
    "np.corrcoef(x, y)"
   ]
  },
  {
   "cell_type": "markdown",
   "id": "18e95a4c",
   "metadata": {},
   "source": [
    "# *np.histogram()*\n",
    "<br>\n",
    "\n",
    "- ### np.histogram() is a NumPy function that is used to compute the histogram of a given array.\n",
    "<br>\n",
    "\n",
    "- ### A histogram is a graphical representation of the distribution of data, and it shows how frequently each value in a given range appears in a dataset. \n",
    "<br>\n",
    "\n",
    "- ### The np.histogram() function takes an input array and a set of bins as arguments and returns two arrays: the histogram and the bin edges."
   ]
  },
  {
   "cell_type": "code",
   "execution_count": 113,
   "id": "c7ebfb25",
   "metadata": {},
   "outputs": [],
   "source": [
    "data = np.random.normal(size=100)"
   ]
  },
  {
   "cell_type": "code",
   "execution_count": 114,
   "id": "6d8e30ce",
   "metadata": {},
   "outputs": [],
   "source": [
    "hist, bins = np.histogram(data, bins=30)"
   ]
  },
  {
   "cell_type": "code",
   "execution_count": 115,
   "id": "5e8c02c5",
   "metadata": {},
   "outputs": [
    {
     "data": {
      "text/plain": [
       "array([2, 0, 1, 3, 8, 9, 4, 2, 5, 8, 5, 6, 7, 1, 7, 7, 3, 2, 5, 3, 3, 1,\n",
       "       2, 1, 3, 0, 0, 0, 0, 2])"
      ]
     },
     "execution_count": 115,
     "metadata": {},
     "output_type": "execute_result"
    }
   ],
   "source": [
    "hist"
   ]
  },
  {
   "cell_type": "code",
   "execution_count": 116,
   "id": "3a4e70fe",
   "metadata": {},
   "outputs": [
    {
     "data": {
      "text/plain": [
       "array([-1.77437058, -1.62930722, -1.48424385, -1.33918048, -1.19411711,\n",
       "       -1.04905374, -0.90399037, -0.75892701, -0.61386364, -0.46880027,\n",
       "       -0.3237369 , -0.17867353, -0.03361016,  0.11145321,  0.25651657,\n",
       "        0.40157994,  0.54664331,  0.69170668,  0.83677005,  0.98183342,\n",
       "        1.12689678,  1.27196015,  1.41702352,  1.56208689,  1.70715026,\n",
       "        1.85221363,  1.99727699,  2.14234036,  2.28740373,  2.4324671 ,\n",
       "        2.57753047])"
      ]
     },
     "execution_count": 116,
     "metadata": {},
     "output_type": "execute_result"
    }
   ],
   "source": [
    "bins"
   ]
  },
  {
   "cell_type": "code",
   "execution_count": 120,
   "id": "4c75745a",
   "metadata": {},
   "outputs": [
    {
     "data": {
      "image/png": "[encoded data removed]",
      "text/plain": [
       "<Figure size 640x480 with 1 Axes>"
      ]
     },
     "metadata": {},
     "output_type": "display_data"
    }
   ],
   "source": [
    "import matplotlib.pyplot as plt\n",
    "plt.hist(data, bins=30, alpha=0.5, color='blue')\n",
    "\n",
    "plt.title('Histogram of Data')\n",
    "plt.xlabel('Value')\n",
    "plt.ylabel('Frequency')\n",
    "plt.show()"
   ]
  }
 ],
 "metadata": {
  "kernelspec": {
   "display_name": "Python 3 (ipykernel)",
   "language": "python",
   "name": "python3"
  },
  "language_info": {
   "codemirror_mode": {
    "name": "ipython",
    "version": 3
   },
   "file_extension": ".py",
   "mimetype": "text/x-python",
   "name": "python",
   "nbconvert_exporter": "python",
   "pygments_lexer": "ipython3",
   "version": "3.10.6"
  }
 },
 "nbformat": 4,
 "nbformat_minor": 5
}

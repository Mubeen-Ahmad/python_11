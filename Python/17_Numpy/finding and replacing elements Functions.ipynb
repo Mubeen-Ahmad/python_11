{
 "cells": [
  {
   "cell_type": "markdown",
   "id": "2b5741ad",
   "metadata": {},
   "source": [
    "- ## *np.where()*\n",
    "- ## *np.extract()*\n",
    "- ## *np.compress()*\n",
    "- ## *np.take()*\n",
    "- ## *np.put()*\n",
    "- ## *np.clip()*\n",
    "- ## *np.putmask()*\n",
    "- ## *np.unique()*\n",
    "- ## *np.nonzero()*"
   ]
  },
  {
   "cell_type": "markdown",
   "id": "25136234",
   "metadata": {},
   "source": [
    "# *np.where*\n",
    "\n",
    "<br>\n",
    "\n",
    "- ### The numpy.where() function is a part of the NumPy library in Python, which is used for condition-based filtering of elements in an array.\n",
    "<br>\n",
    "\n",
    "- ### With the help of this function, we can filter out the elements from an array based on a given condition. The numpy.where() function accepts three arguments:\n",
    "<br>\n",
    "\n",
    "- ### condition: This argument is the condition based on which we want to filter the elements of the array.\n",
    "<br>\n",
    "    \n",
    "- ### x: This argument is the array from which we want to filter the elements based on the condition.\n",
    "<br>\n",
    "\n",
    "- ### y: This argument is the array from which we want to filter the elements against the condition.\n",
    "<br>\n",
    "\n",
    "- ### As the name suggests, in the numpy.where() function, we specify two values against the condition, and the function selects either one of them based on the condition.\n",
    "<br>\n",
    "\n",
    "- ### The output of this function is an array that contains the filtered elements.\n",
    "<br>\n",
    "\n",
    "- ### The numpy.where() function is widely used in various data analysis tasks, such as data filtering, data cleaning, and data manipulation, as it allows us to easily filter the elements of an array and modify them according to our needs."
   ]
  },
  {
   "cell_type": "code",
   "execution_count": 1,
   "id": "765d3c72",
   "metadata": {},
   "outputs": [],
   "source": [
    "import numpy as np"
   ]
  },
  {
   "cell_type": "code",
   "execution_count": 2,
   "id": "dfd015b5",
   "metadata": {},
   "outputs": [
    {
     "data": {
      "text/plain": [
       "array([0, 1, 0, 0, 2, 3, 4])"
      ]
     },
     "execution_count": 2,
     "metadata": {},
     "output_type": "execute_result"
    }
   ],
   "source": [
    "data = np.array([0,1,0,0,2,3,4])\n",
    "data"
   ]
  },
  {
   "cell_type": "code",
   "execution_count": 3,
   "id": "dcdc60df",
   "metadata": {},
   "outputs": [
    {
     "data": {
      "text/plain": [
       "array([1, 1, 1, 1, 2, 3, 4])"
      ]
     },
     "execution_count": 3,
     "metadata": {},
     "output_type": "execute_result"
    }
   ],
   "source": [
    "np.where(data==0,1,data) # replace 0 to 1 if data is 0"
   ]
  },
  {
   "cell_type": "code",
   "execution_count": 4,
   "id": "2bdea453",
   "metadata": {},
   "outputs": [
    {
     "data": {
      "text/plain": [
       "array([0, 1, 1, 2, 0, 3, 4])"
      ]
     },
     "execution_count": 4,
     "metadata": {},
     "output_type": "execute_result"
    }
   ],
   "source": [
    "data = np.array([0,1,1,2,0,3,4])\n",
    "data"
   ]
  },
  {
   "cell_type": "code",
   "execution_count": 5,
   "id": "ea408d90",
   "metadata": {},
   "outputs": [
    {
     "data": {
      "text/plain": [
       "array([8, 9, 9, 2, 8, 3, 4])"
      ]
     },
     "execution_count": 5,
     "metadata": {},
     "output_type": "execute_result"
    }
   ],
   "source": [
    "np.where(data==0,8, np.where(data==1,9,data)  ) # replace 0 with 8 and 1 replace with 9"
   ]
  },
  {
   "cell_type": "code",
   "execution_count": 6,
   "id": "aa542fbe",
   "metadata": {},
   "outputs": [
    {
     "data": {
      "text/plain": [
       "array([888, 888, 888,   2, 888,   3,   4])"
      ]
     },
     "execution_count": 6,
     "metadata": {},
     "output_type": "execute_result"
    }
   ],
   "source": [
    "condition = (data==0) | (data == 1) \n",
    "np.where(condition,888,data)  # apply multiple condition  replace 0 and 1 with 888"
   ]
  },
  {
   "cell_type": "markdown",
   "id": "37f7a4c5",
   "metadata": {},
   "source": [
    "# *np.extract()*\n",
    "<br>\n",
    "\n",
    "- ### The numpy.extract() function is used to directly filter the elements of an array, without any condition.\n",
    "<br>\n",
    "\n",
    "- ### In this function, we pass only one argument which gives us the array from which we want to filter the elements. Then, we provide a condition inside the numpy.extract() function which tells us how we want to filter the elements.\n",
    "<br>\n",
    "\n",
    "- ### The output of numpy.extract() function is the same elements that we want to filter, whereas in numpy.where() function, the output is an array containing only those elements that satisfy the given condition.\n",
    "<br>\n",
    "\n",
    "- ### The numpy.extract() function is widely used in various data analysis tasks such as data filtering, data cleaning, and data manipulation, because it allows us to easily filter the elements of any array.\n",
    "<br>\n",
    "\n",
    "# Parameter\n",
    "<br>\n",
    "\n",
    "- ## condition Required\n",
    "- ## arr Required\n"
   ]
  },
  {
   "cell_type": "code",
   "execution_count": 7,
   "id": "df9ed668",
   "metadata": {},
   "outputs": [
    {
     "data": {
      "text/plain": [
       "array([1, 2, 3, 4, 5, 6, 7, 8, 9])"
      ]
     },
     "execution_count": 7,
     "metadata": {},
     "output_type": "execute_result"
    }
   ],
   "source": [
    "arr = np.array([1, 2, 3, 4, 5, 6, 7, 8, 9])\n",
    "arr"
   ]
  },
  {
   "cell_type": "code",
   "execution_count": 8,
   "id": "f37c69f4",
   "metadata": {},
   "outputs": [
    {
     "data": {
      "text/plain": [
       "array([1, 4, 5, 8, 9])"
      ]
     },
     "execution_count": 8,
     "metadata": {},
     "output_type": "execute_result"
    }
   ],
   "source": [
    "np.extract(condition=arr&2==0, arr=arr)"
   ]
  },
  {
   "cell_type": "markdown",
   "id": "ae14aed0",
   "metadata": {},
   "source": [
    "# *np.compress()*\n",
    "<br>\n",
    "\n",
    "- ### The \"np.compress()\" function in NumPy is used for data filtering. This function is used to extract specific parts of data. With this function, we can obtain only those parts of the data that we want.\n",
    "<br>\n",
    "\n",
    "- ### Syntax: np.compress(condition, arr, axis=None)\n",
    "<br>\n",
    "\n",
    "- ### Here, the 'condition' parameter is a boolean array, which helps us identify the specific parts of the data. The 'arr' parameter is the input array from which we want to extract the data. The 'axis' parameter is optional, which helps us specify the axis on which to apply the compress operation.\n",
    "<br>\n",
    "\n",
    "- ### By using this function, we can filter specific parts of the data. If the condition array is True, the corresponding value is extracted, and if it is False, the value is ignored. This way, we only get the values that we need.\n",
    "<br>\n",
    "\n",
    "- ### Before using this function, we need to set the condition array correctly. Setting the right values in the condition array allows us to filter specific parts of the data.\n",
    "<br>\n",
    "\n",
    "- ### This function can be used to filter any data where we want to extract specific parts."
   ]
  },
  {
   "cell_type": "code",
   "execution_count": 9,
   "id": "4501384f",
   "metadata": {},
   "outputs": [
    {
     "data": {
      "text/plain": [
       "array([1, 2, 3, 4, 5])"
      ]
     },
     "execution_count": 9,
     "metadata": {},
     "output_type": "execute_result"
    }
   ],
   "source": [
    "arr = np.array([1, 2, 3, 4, 5])\n",
    "arr"
   ]
  },
  {
   "cell_type": "code",
   "execution_count": 10,
   "id": "66b1cdac",
   "metadata": {},
   "outputs": [],
   "source": [
    "condition = np.array([False, True, False, True, False])"
   ]
  },
  {
   "cell_type": "code",
   "execution_count": 11,
   "id": "c4f6f370",
   "metadata": {},
   "outputs": [
    {
     "data": {
      "text/plain": [
       "array([2, 4])"
      ]
     },
     "execution_count": 11,
     "metadata": {},
     "output_type": "execute_result"
    }
   ],
   "source": [
    "np.compress(condition, arr,axis=0)"
   ]
  },
  {
   "cell_type": "code",
   "execution_count": 12,
   "id": "fc968c8a",
   "metadata": {},
   "outputs": [
    {
     "data": {
      "text/plain": [
       "array([[1, 2, 3],\n",
       "       [4, 5, 6],\n",
       "       [7, 8, 9]])"
      ]
     },
     "execution_count": 12,
     "metadata": {},
     "output_type": "execute_result"
    }
   ],
   "source": [
    "arr = np.array([[1, 2, 3], [4, 5, 6], [7, 8, 9]])\n",
    "arr"
   ]
  },
  {
   "cell_type": "code",
   "execution_count": 13,
   "id": "8949880d",
   "metadata": {},
   "outputs": [
    {
     "data": {
      "text/plain": [
       "array([[2],\n",
       "       [5],\n",
       "       [8]])"
      ]
     },
     "execution_count": 13,
     "metadata": {},
     "output_type": "execute_result"
    }
   ],
   "source": [
    "# axis parameters\n",
    "np.compress([False, True, False], arr, axis=1)"
   ]
  },
  {
   "cell_type": "code",
   "execution_count": 14,
   "id": "d093c523",
   "metadata": {},
   "outputs": [
    {
     "data": {
      "text/plain": [
       "array([1, 2, 3, 4, 5], dtype=int32)"
      ]
     },
     "execution_count": 14,
     "metadata": {},
     "output_type": "execute_result"
    }
   ],
   "source": [
    "arr = np.array([1, 2, 3, 4, 5],np.int32)\n",
    "arr"
   ]
  },
  {
   "cell_type": "code",
   "execution_count": 15,
   "id": "f39023cb",
   "metadata": {},
   "outputs": [
    {
     "data": {
      "text/plain": [
       "array([-1647657219,       21906,           0], dtype=int32)"
      ]
     },
     "execution_count": 15,
     "metadata": {},
     "output_type": "execute_result"
    }
   ],
   "source": [
    "out_arr = np.empty(3,np.int32) # temp array\n",
    "out_arr"
   ]
  },
  {
   "cell_type": "markdown",
   "id": "036e6430",
   "metadata": {},
   "source": [
    "- ### The out parameter in the np.compress() function is an optional parameter that allows us to specify the output array where the result of the compression will be stored.\n",
    "<br>\n",
    "\n",
    "- ### If the out parameter is not provided, the function will create a new array to store the compressed data. However, if we pass an array as the out parameter, the function will use that array to store the compressed data instead of creating a new array.\n",
    "<br>\n",
    "\n",
    "- ### This can be useful in situations where we have an existing array that we want to use to store the compressed data, rather than creating a new array. It can help to save memory and improve performance."
   ]
  },
  {
   "cell_type": "code",
   "execution_count": 16,
   "id": "d8e4eded",
   "metadata": {},
   "outputs": [],
   "source": [
    "condition = np.array([True, False, True, False, True])"
   ]
  },
  {
   "cell_type": "code",
   "execution_count": 17,
   "id": "0ac79913",
   "metadata": {},
   "outputs": [
    {
     "data": {
      "text/plain": [
       "array([1, 3, 5], dtype=int32)"
      ]
     },
     "execution_count": 17,
     "metadata": {},
     "output_type": "execute_result"
    }
   ],
   "source": [
    "np.compress(condition, arr, out=out_arr)\n",
    "# according to condition output is 1 3 5 and that also store in out_arr array"
   ]
  },
  {
   "cell_type": "code",
   "execution_count": 18,
   "id": "bdf1b55a",
   "metadata": {},
   "outputs": [
    {
     "data": {
      "text/plain": [
       "array([1, 3, 5], dtype=int32)"
      ]
     },
     "execution_count": 18,
     "metadata": {},
     "output_type": "execute_result"
    }
   ],
   "source": [
    "out_arr"
   ]
  },
  {
   "cell_type": "markdown",
   "id": "57cdcda3",
   "metadata": {},
   "source": [
    "# *np.take()*\n",
    "<br>\n",
    "\n",
    "- ### In NumPy, the take() function is used to select elements from an array based on their index numbers. The syntax of this function is numpy.take(arr, indices, axis=None, out=None, mode='raise'), where arr is the input array, indices is a list of index numbers of the selected elements, and axis and out are optional arguments.\n",
    "<br>\n",
    "\n",
    "- ### By using this function, we can select the corresponding elements at the specified index numbers in the array. If the same index number is repeated in the indices list, the corresponding element will also be repeated.\n",
    "<br>\n",
    "\n",
    "- ### The take() function can be used to select elements corresponding to any axis. If the axis argument is not given, the function will select the corresponding elements of the flat array.\n",
    "<br>\n",
    "\n",
    "- ### Similarly, by using the out argument, we can store the selected elements in another array. The mode argument is used for error handling.\n",
    "<br>\n",
    "\n",
    "# Parameter\n",
    "<br>\n",
    "\n",
    "- ## a Required\n",
    "- ## indices Required\n",
    "- ## axis optional\n",
    "- ## out optional\n",
    "- ## mode optional"
   ]
  },
  {
   "cell_type": "code",
   "execution_count": 19,
   "id": "25681405",
   "metadata": {},
   "outputs": [
    {
     "data": {
      "text/plain": [
       "array([1, 2, 3, 4, 5], dtype=int32)"
      ]
     },
     "execution_count": 19,
     "metadata": {},
     "output_type": "execute_result"
    }
   ],
   "source": [
    "arr"
   ]
  },
  {
   "cell_type": "code",
   "execution_count": 20,
   "id": "b8ffb209",
   "metadata": {},
   "outputs": [
    {
     "data": {
      "text/plain": [
       "array([1, 3, 5], dtype=int32)"
      ]
     },
     "execution_count": 20,
     "metadata": {},
     "output_type": "execute_result"
    }
   ],
   "source": [
    "indices = [0,2,4]\n",
    "np.take(a=arr,indices=indices)"
   ]
  },
  {
   "cell_type": "code",
   "execution_count": 21,
   "id": "409ca180",
   "metadata": {},
   "outputs": [
    {
     "data": {
      "text/plain": [
       "array([-1647657326,       21906,           0], dtype=int32)"
      ]
     },
     "execution_count": 21,
     "metadata": {},
     "output_type": "execute_result"
    }
   ],
   "source": [
    "# use out parameter\n",
    "temp = np.empty(3,np.int32)\n",
    "temp"
   ]
  },
  {
   "cell_type": "code",
   "execution_count": 22,
   "id": "9084cf76",
   "metadata": {},
   "outputs": [
    {
     "data": {
      "text/plain": [
       "array([1, 3, 5], dtype=int32)"
      ]
     },
     "execution_count": 22,
     "metadata": {},
     "output_type": "execute_result"
    }
   ],
   "source": [
    "np.take(a=arr,indices=indices,out=temp) # 1 3 5 also store in temp"
   ]
  },
  {
   "cell_type": "code",
   "execution_count": 23,
   "id": "f35408cf",
   "metadata": {},
   "outputs": [
    {
     "data": {
      "text/plain": [
       "array([1, 3, 5], dtype=int32)"
      ]
     },
     "execution_count": 23,
     "metadata": {},
     "output_type": "execute_result"
    }
   ],
   "source": [
    "temp"
   ]
  },
  {
   "cell_type": "code",
   "execution_count": 24,
   "id": "e79f61be",
   "metadata": {},
   "outputs": [
    {
     "data": {
      "text/plain": [
       "array([[1, 2, 3],\n",
       "       [4, 5, 6],\n",
       "       [7, 8, 9]])"
      ]
     },
     "execution_count": 24,
     "metadata": {},
     "output_type": "execute_result"
    }
   ],
   "source": [
    "# use axis parameter\n",
    "arr = np.array([[1, 2, 3], [4, 5, 6], [7, 8, 9]])\n",
    "arr"
   ]
  },
  {
   "cell_type": "code",
   "execution_count": 25,
   "id": "c46f8a2b",
   "metadata": {},
   "outputs": [
    {
     "data": {
      "text/plain": [
       "array([[1, 2, 3],\n",
       "       [7, 8, 9]])"
      ]
     },
     "execution_count": 25,
     "metadata": {},
     "output_type": "execute_result"
    }
   ],
   "source": [
    "indices = [0,2] \n",
    "np.take(a=arr,indices=indices,axis=0) # axis 0 for select only 0 and 2 rows"
   ]
  },
  {
   "cell_type": "markdown",
   "id": "b508bbf5",
   "metadata": {},
   "source": [
    "- ### The main difference between np.compress() and np.extract() is in their output.\n",
    "<br>\n",
    "\n",
    "- ### np.compress() returns a flattened array containing only the elements that correspond to True values in the condition array.\n",
    "<br>\n",
    "\n",
    "- ### On the other hand, np.extract() returns a 1D array containing only the elements that satisfy the condition, without flattening the array.\n",
    "<br>\n",
    "\n",
    "- ### In other words, np.compress() returns a subset of the input array that passes a certain condition, while np.extract() returns the elements themselves that pass the condition.\n",
    "<br>\n",
    "\n",
    "- ### Another difference is that np.compress() takes an optional axis parameter to apply the condition along a certain axis, while np.extract() does not have this option"
   ]
  },
  {
   "cell_type": "code",
   "execution_count": 26,
   "id": "5bcf3900",
   "metadata": {},
   "outputs": [
    {
     "data": {
      "text/plain": [
       "array([[1, 2, 3],\n",
       "       [4, 5, 6],\n",
       "       [7, 8, 9]])"
      ]
     },
     "execution_count": 26,
     "metadata": {},
     "output_type": "execute_result"
    }
   ],
   "source": [
    "arr = np.array([[1, 2, 3], [4, 5, 6], [7, 8, 9]])\n",
    "arr"
   ]
  },
  {
   "cell_type": "code",
   "execution_count": 27,
   "id": "4becb5c8",
   "metadata": {},
   "outputs": [
    {
     "data": {
      "text/plain": [
       "array([[1, 2, 3],\n",
       "       [7, 8, 9]])"
      ]
     },
     "execution_count": 27,
     "metadata": {},
     "output_type": "execute_result"
    }
   ],
   "source": [
    "# use take function\n",
    "indices = [0, 2]\n",
    "result = np.take(arr, indices,axis=0)\n",
    "result"
   ]
  },
  {
   "cell_type": "code",
   "execution_count": 28,
   "id": "b5a0705a",
   "metadata": {},
   "outputs": [
    {
     "data": {
      "text/plain": [
       "array([[1, 2, 3],\n",
       "       [7, 8, 9]])"
      ]
     },
     "execution_count": 28,
     "metadata": {},
     "output_type": "execute_result"
    }
   ],
   "source": [
    "# use compress function\n",
    "condition = [True, False, True]\n",
    "result = np.compress(condition, arr,axis=0)\n",
    "result"
   ]
  },
  {
   "cell_type": "markdown",
   "id": "906c414d",
   "metadata": {},
   "source": [
    "# *np.put()*\n",
    "<br>\n",
    "    \n",
    "- ### In NumPy, the put() function is used to set the value of elements in an array. The syntax of this function is numpy.put(arr, ind, v, mode='raise'), where arr is the input array, ind is a list containing the index numbers of the elements we want to change, v is a list containing the updated values, and mode is an optional argument.\n",
    "<br>\n",
    "\n",
    "- ### Using this function, we can set the value of elements in the array corresponding to the specified index numbers. If the same index number is repeated in ind, the value of the corresponding element is also repeated.\n",
    "<br>\n",
    "\n",
    "- ### By using the put() function, we can set the value of elements corresponding to any axis of the array. If the axis argument is not provided, the value of elements corresponding to the flat array is set.\n",
    "<br>\n",
    "\n",
    "- ### Similarly, the mode argument is used for error handling. If mode='raise', a ValueError is raised for out-of-bounds index elements. If mode='wrap', the indices are wrapped according to the length of the array.\n",
    "<br>\n",
    "\n",
    "- ### The put() function is used in array manipulation where we want to change the value of elements corresponding to specific index numbers.\n",
    "<br>\n",
    "\n",
    "# Parameters\n",
    "<br>\n",
    "\n",
    "- ## arr Required\n",
    "- ## ind Required\n",
    "- ## v Required\n",
    "- ## mode Optional"
   ]
  },
  {
   "cell_type": "code",
   "execution_count": 29,
   "id": "bebec4e6",
   "metadata": {},
   "outputs": [
    {
     "data": {
      "text/plain": [
       "array([1, 2, 3, 4, 5, 6])"
      ]
     },
     "execution_count": 29,
     "metadata": {},
     "output_type": "execute_result"
    }
   ],
   "source": [
    "arr = np.array([1, 2, 3, 4, 5, 6])\n",
    "arr"
   ]
  },
  {
   "cell_type": "code",
   "execution_count": 30,
   "id": "63310e4c",
   "metadata": {},
   "outputs": [],
   "source": [
    "idx = [0, 2, 4]\n",
    "vals = [-1, -2, -3]"
   ]
  },
  {
   "cell_type": "code",
   "execution_count": 31,
   "id": "eff31284",
   "metadata": {},
   "outputs": [],
   "source": [
    "np.put(arr, idx, vals, mode='clip')"
   ]
  },
  {
   "cell_type": "code",
   "execution_count": 32,
   "id": "5fcb3fdb",
   "metadata": {},
   "outputs": [
    {
     "data": {
      "text/plain": [
       "array([-1,  2, -2,  4, -3,  6])"
      ]
     },
     "execution_count": 32,
     "metadata": {},
     "output_type": "execute_result"
    }
   ],
   "source": [
    "arr"
   ]
  },
  {
   "cell_type": "code",
   "execution_count": 33,
   "id": "9f3ce02f",
   "metadata": {},
   "outputs": [
    {
     "data": {
      "text/plain": [
       "array([-1,  2, -2,  4, -3, -3])"
      ]
     },
     "execution_count": 33,
     "metadata": {},
     "output_type": "execute_result"
    }
   ],
   "source": [
    "idx = [0, 2, 6] # outof range\n",
    "np.put(arr, idx, vals, mode='clip') # dont raise the error clip\n",
    "arr"
   ]
  },
  {
   "cell_type": "code",
   "execution_count": 34,
   "id": "c16cf25c",
   "metadata": {},
   "outputs": [
    {
     "ename": "IndexError",
     "evalue": "index 6 is out of bounds for axis 0 with size 6",
     "output_type": "error",
     "traceback": [
      "\u001b[0;31m---------------------------------------------------------------------------\u001b[0m",
      "\u001b[0;31mIndexError\u001b[0m                                Traceback (most recent call last)",
      "Cell \u001b[0;32mIn [34], line 1\u001b[0m\n\u001b[0;32m----> 1\u001b[0m \u001b[43mnp\u001b[49m\u001b[38;5;241;43m.\u001b[39;49m\u001b[43mput\u001b[49m\u001b[43m(\u001b[49m\u001b[43marr\u001b[49m\u001b[43m,\u001b[49m\u001b[43m \u001b[49m\u001b[43midx\u001b[49m\u001b[43m,\u001b[49m\u001b[43m \u001b[49m\u001b[43mvals\u001b[49m\u001b[43m,\u001b[49m\u001b[43m \u001b[49m\u001b[43mmode\u001b[49m\u001b[38;5;241;43m=\u001b[39;49m\u001b[38;5;124;43m'\u001b[39;49m\u001b[38;5;124;43mraise\u001b[39;49m\u001b[38;5;124;43m'\u001b[39;49m\u001b[43m)\u001b[49m\n",
      "File \u001b[0;32m<__array_function__ internals>:200\u001b[0m, in \u001b[0;36mput\u001b[0;34m(*args, **kwargs)\u001b[0m\n",
      "File \u001b[0;32m~/.local/lib/python3.10/site-packages/numpy/core/fromnumeric.py:543\u001b[0m, in \u001b[0;36mput\u001b[0;34m(a, ind, v, mode)\u001b[0m\n\u001b[1;32m    539\u001b[0m \u001b[38;5;28;01mexcept\u001b[39;00m \u001b[38;5;167;01mAttributeError\u001b[39;00m \u001b[38;5;28;01mas\u001b[39;00m e:\n\u001b[1;32m    540\u001b[0m     \u001b[38;5;28;01mraise\u001b[39;00m \u001b[38;5;167;01mTypeError\u001b[39;00m(\u001b[38;5;124m\"\u001b[39m\u001b[38;5;124margument 1 must be numpy.ndarray, \u001b[39m\u001b[38;5;124m\"\u001b[39m\n\u001b[1;32m    541\u001b[0m                     \u001b[38;5;124m\"\u001b[39m\u001b[38;5;124mnot \u001b[39m\u001b[38;5;132;01m{name}\u001b[39;00m\u001b[38;5;124m\"\u001b[39m\u001b[38;5;241m.\u001b[39mformat(name\u001b[38;5;241m=\u001b[39m\u001b[38;5;28mtype\u001b[39m(a)\u001b[38;5;241m.\u001b[39m\u001b[38;5;18m__name__\u001b[39m)) \u001b[38;5;28;01mfrom\u001b[39;00m \u001b[38;5;21;01me\u001b[39;00m\n\u001b[0;32m--> 543\u001b[0m \u001b[38;5;28;01mreturn\u001b[39;00m \u001b[43mput\u001b[49m\u001b[43m(\u001b[49m\u001b[43mind\u001b[49m\u001b[43m,\u001b[49m\u001b[43m \u001b[49m\u001b[43mv\u001b[49m\u001b[43m,\u001b[49m\u001b[43m \u001b[49m\u001b[43mmode\u001b[49m\u001b[38;5;241;43m=\u001b[39;49m\u001b[43mmode\u001b[49m\u001b[43m)\u001b[49m\n",
      "\u001b[0;31mIndexError\u001b[0m: index 6 is out of bounds for axis 0 with size 6"
     ]
    }
   ],
   "source": [
    "np.put(arr, idx, vals, mode='raise') # now use raise"
   ]
  },
  {
   "cell_type": "code",
   "execution_count": 35,
   "id": "2e82ad4a",
   "metadata": {},
   "outputs": [],
   "source": [
    "np.put(arr, idx, vals, mode='wrap') # mode wrap"
   ]
  },
  {
   "cell_type": "code",
   "execution_count": 36,
   "id": "2b58b2af",
   "metadata": {},
   "outputs": [
    {
     "data": {
      "text/plain": [
       "array([-3,  2, -2,  4, -3, -3])"
      ]
     },
     "execution_count": 36,
     "metadata": {},
     "output_type": "execute_result"
    }
   ],
   "source": [
    "arr"
   ]
  },
  {
   "cell_type": "markdown",
   "id": "7a8dae5c",
   "metadata": {},
   "source": [
    "# *np.clip()*\n",
    "\n",
    "<br>\n",
    "\n",
    "- ### The np.clip() function is used in numpy to limit the values of each element in a numpy array to be within a specified minimum and maximum range. \n",
    "<br>\n",
    "\n",
    "- ### If an element is smaller than the minimum limit, its value is set to the minimum limit, and if an element is larger than the maximum limit, its value is set to the maximum limit.\n",
    "<br>\n",
    "\n",
    "- ### By using this function, we can clip values outside a specified range to the minimum and maximum limits, and map such values to the minimum and maximum limits. \n",
    "<br>\n",
    "\n",
    "- ### This can be useful when visualizing data or training an algorithm where we need to normalize the minimum and maximum values of data within a specified range.\n",
    "<br>\n",
    "\n",
    "# Parameters\n",
    "<br>\n",
    "\n",
    "- ## a Required\n",
    "- ## a_min Required\n",
    "- ## a_max Required"
   ]
  },
  {
   "cell_type": "code",
   "execution_count": 49,
   "id": "d2cdf486",
   "metadata": {},
   "outputs": [
    {
     "data": {
      "text/plain": [
       "array([-5,  0, 10, 15, 20])"
      ]
     },
     "execution_count": 49,
     "metadata": {},
     "output_type": "execute_result"
    }
   ],
   "source": [
    "arr = np.array([-5, 0, 10, 15, 20])\n",
    "arr"
   ]
  },
  {
   "cell_type": "code",
   "execution_count": 50,
   "id": "292befb4",
   "metadata": {},
   "outputs": [
    {
     "data": {
      "text/plain": [
       "array([ 0,  0, 10, 10, 10])"
      ]
     },
     "execution_count": 50,
     "metadata": {},
     "output_type": "execute_result"
    }
   ],
   "source": [
    "np.clip(a=arr, a_min=0, a_max=10)"
   ]
  },
  {
   "cell_type": "markdown",
   "id": "4f0ae675",
   "metadata": {},
   "source": [
    "# *np.putmask()*\n",
    "<br>\n",
    "\n",
    "- ### In NumPy, the putmask() function is used to set the values of elements in an array based on a specified condition. The syntax of this function is numpy.putmask(arr, mask, values), where arr is the input array, mask is a boolean array that defines the condition, and values is a list of updated values.\n",
    "<br>\n",
    "\n",
    "- ### By using this function, we can set the values of elements in an array based on a specified condition. If any element in the mask array has a value of True, the corresponding element in the arr array is updated with the corresponding value in the values list.\n",
    "<br>\n",
    "\n",
    "- ### The putmask() function can be used to set the values of elements in an array for any axis. If the axis argument is not specified, then the corresponding elements in the flat array are set.\n",
    "<br>\n",
    "\n",
    "- ### The putmask() function is commonly used in array manipulation when we want to change the values of specific elements based on a specific condition.\n",
    "<br>\n",
    "\n",
    "# Parameters\n",
    "<br>\n",
    "\n",
    "- ## a Required\n",
    "- ## mask Required\n",
    "- ## values Required"
   ]
  },
  {
   "cell_type": "code",
   "execution_count": 39,
   "id": "f347ce8c",
   "metadata": {},
   "outputs": [
    {
     "data": {
      "text/plain": [
       "array([-1,  2, -3,  4, -5])"
      ]
     },
     "execution_count": 39,
     "metadata": {},
     "output_type": "execute_result"
    }
   ],
   "source": [
    "arr = np.array([-1, 2, -3, 4, -5])\n",
    "arr"
   ]
  },
  {
   "cell_type": "code",
   "execution_count": 40,
   "id": "4fe25f68",
   "metadata": {},
   "outputs": [
    {
     "data": {
      "text/plain": [
       "array([ True, False,  True, False,  True])"
      ]
     },
     "execution_count": 40,
     "metadata": {},
     "output_type": "execute_result"
    }
   ],
   "source": [
    "mask = arr < 0\n",
    "mask"
   ]
  },
  {
   "cell_type": "code",
   "execution_count": 41,
   "id": "f2b6e1ec",
   "metadata": {},
   "outputs": [],
   "source": [
    "values = 0"
   ]
  },
  {
   "cell_type": "code",
   "execution_count": 42,
   "id": "3ab0fa83",
   "metadata": {},
   "outputs": [],
   "source": [
    "np.putmask(arr, mask=mask, values=values)"
   ]
  },
  {
   "cell_type": "code",
   "execution_count": 43,
   "id": "ae6ce5f6",
   "metadata": {},
   "outputs": [
    {
     "data": {
      "text/plain": [
       "array([0, 2, 0, 4, 0])"
      ]
     },
     "execution_count": 43,
     "metadata": {},
     "output_type": "execute_result"
    }
   ],
   "source": [
    "arr"
   ]
  },
  {
   "cell_type": "markdown",
   "id": "4f36e9b6",
   "metadata": {},
   "source": [
    "# *np.unique()*\n",
    "<br>\n",
    "\n",
    "- ### In NumPy, the unique() function is used to find unique values in an array. The syntax of this function is numpy.unique(ar, return_index=False, return_inverse=False, return_counts=False, axis=None), where ar is the input array and return_index, return_inverse, return_counts, and axis are optional arguments.\n",
    "<br>\n",
    "\n",
    "- ### By using the unique() function, we can find the unique values in an array. If the return_index argument is True, then an array of index positions corresponding to unique values is returned. If the return_inverse argument is True, then an array of the inverse index positions corresponding to unique values is returned. If the return_counts argument is True, then an array of the occurrence count of unique values is returned.\n",
    "<br>\n",
    "\n",
    "- ### The unique() function is used to find unique values corresponding to the flat list of an array. Similarly, if the axis argument is 0, then unique values corresponding to the rows are found, and if the axis argument is 1, then unique values corresponding to the columns are found."
   ]
  },
  {
   "cell_type": "code",
   "execution_count": 44,
   "id": "b8b550b9",
   "metadata": {},
   "outputs": [
    {
     "data": {
      "text/plain": [
       "array([1, 2, 1, 2, 2, 1, 5, 6, 5])"
      ]
     },
     "execution_count": 44,
     "metadata": {},
     "output_type": "execute_result"
    }
   ],
   "source": [
    "arr = np.array([1, 2, 1, 2, 2, 1, 5, 6, 5])\n",
    "arr"
   ]
  },
  {
   "cell_type": "code",
   "execution_count": 45,
   "id": "edf767ee",
   "metadata": {},
   "outputs": [
    {
     "data": {
      "text/plain": [
       "array([1, 2, 5, 6])"
      ]
     },
     "execution_count": 45,
     "metadata": {},
     "output_type": "execute_result"
    }
   ],
   "source": [
    "unique_values = np.unique(arr)\n",
    "unique_values"
   ]
  },
  {
   "cell_type": "markdown",
   "id": "b2821548",
   "metadata": {},
   "source": [
    "# *np.nonzero()*\n",
    "<br>\n",
    "\n",
    "- ### The numpy.nonzero() function is a function available in the NumPy library of Python, which helps us to find the indices or locations of non-zero elements in an array.\n",
    "<br>\n",
    "\n",
    "- ### If we want to find the indices or locations of non-zero elements in an array, we can use the numpy.nonzero() function. With this function, we can return a tuple that contains the indices or locations of non-zero elements in an array.\n",
    "<br>\n",
    "\n",
    "- ### In the numpy.nonzero() function, we pass only one argument which is the array for which we want to find the indices of non-zero elements.\n",
    "<br>\n",
    "\n",
    "- ### The output of this function is a tuple that contains arrays. Each array contains the indices of non-zero elements in one dimension of the input array.\n",
    "<br>\n",
    "\n",
    "- ### The numpy.nonzero() function is widely used in various data analysis tasks such as data filtering, data cleaning, and data manipulation because it allows us to easily extract the indices or locations of non-zero elements in an array."
   ]
  },
  {
   "cell_type": "code",
   "execution_count": 46,
   "id": "fc274599",
   "metadata": {},
   "outputs": [
    {
     "data": {
      "text/plain": [
       "array([0, 2, 0, 0, 5, 9, 0, 7, 0])"
      ]
     },
     "execution_count": 46,
     "metadata": {},
     "output_type": "execute_result"
    }
   ],
   "source": [
    "arr = np.array([0, 2, 0, 0, 5, 9, 0, 7, 0])\n",
    "arr"
   ]
  },
  {
   "cell_type": "code",
   "execution_count": 47,
   "id": "1907263b",
   "metadata": {},
   "outputs": [
    {
     "data": {
      "text/plain": [
       "(array([1, 4, 5, 7]),)"
      ]
     },
     "execution_count": 47,
     "metadata": {},
     "output_type": "execute_result"
    }
   ],
   "source": [
    "positions = np.nonzero(arr)\n",
    "positions"
   ]
  },
  {
   "cell_type": "code",
   "execution_count": 48,
   "id": "773e1b14",
   "metadata": {},
   "outputs": [
    {
     "data": {
      "text/plain": [
       "array([2, 5, 9, 7])"
      ]
     },
     "execution_count": 48,
     "metadata": {},
     "output_type": "execute_result"
    }
   ],
   "source": [
    "# now we use the positions to pass inside indexing for access only nonzeros elements\n",
    "arr[positions]"
   ]
  }
 ],
 "metadata": {
  "kernelspec": {
   "display_name": "Python 3 (ipykernel)",
   "language": "python",
   "name": "python3"
  },
  "language_info": {
   "codemirror_mode": {
    "name": "ipython",
    "version": 3
   },
   "file_extension": ".py",
   "mimetype": "text/x-python",
   "name": "python",
   "nbconvert_exporter": "python",
   "pygments_lexer": "ipython3",
   "version": "3.10.6"
  }
 },
 "nbformat": 4,
 "nbformat_minor": 5
}

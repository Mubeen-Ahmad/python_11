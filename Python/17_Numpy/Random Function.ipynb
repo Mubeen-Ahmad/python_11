{
 "cells": [
  {
   "cell_type": "markdown",
   "id": "244dd94f",
   "metadata": {},
   "source": [
    "- ## *np.random.rand()*\n",
    "- ## *np.random.randn()*\n",
    "- ## *np.random.randint()*\n",
    "- ## *np.random.random_sample()*\n",
    "- ## *np.random.choice()*\n",
    "- ## *np.random.permutation()*\n",
    "- ## *np.random.shuffle()*\n",
    "- ## *np.random.uniform()*\n",
    "- ## *np.random.standard_normal()*\n",
    "- ## *np.random.binomial()*\n",
    "- ## *np.random.normal()*\n",
    "- ##  *np.random.beta()*\n",
    "- ## *np.random.chisquare()*\n",
    "- ## *np.random.gamma()*\n",
    "- ## *np.random.seed()*"
   ]
  },
  {
   "cell_type": "markdown",
   "id": "5e68bf64",
   "metadata": {},
   "source": [
    "# *np.random.rand()*\n",
    "<br>\n",
    "\n",
    "- ### The numpy.random.rand function is a NumPy function that generates an array of random numbers between 0 and 1 with a uniform distribution. It takes a tuple or integer argument that specifies the shape of the output array."
   ]
  },
  {
   "cell_type": "code",
   "execution_count": 1,
   "id": "2f9cc51d",
   "metadata": {},
   "outputs": [],
   "source": [
    "import numpy as np"
   ]
  },
  {
   "cell_type": "code",
   "execution_count": 2,
   "id": "d09d37fc",
   "metadata": {},
   "outputs": [
    {
     "data": {
      "text/plain": [
       "array([[0.55509083, 0.11725422, 0.33782664],\n",
       "       [0.05828477, 0.23315314, 0.53758077]])"
      ]
     },
     "execution_count": 2,
     "metadata": {},
     "output_type": "execute_result"
    }
   ],
   "source": [
    "np.random.rand(2, 3)"
   ]
  },
  {
   "cell_type": "code",
   "execution_count": 3,
   "id": "b96394e4",
   "metadata": {},
   "outputs": [
    {
     "data": {
      "text/plain": [
       "array([[0.0414362 , 0.87999503]])"
      ]
     },
     "execution_count": 3,
     "metadata": {},
     "output_type": "execute_result"
    }
   ],
   "source": [
    "np.random.rand(1, 2)"
   ]
  },
  {
   "cell_type": "code",
   "execution_count": 4,
   "id": "8ee7e0ce",
   "metadata": {},
   "outputs": [
    {
     "data": {
      "text/plain": [
       "array([[0.13137451, 0.30119713, 0.98249314, 0.8255037 , 0.37763702,\n",
       "        0.85101078, 0.08974434, 0.01029739, 0.21430458, 0.49552536]])"
      ]
     },
     "execution_count": 4,
     "metadata": {},
     "output_type": "execute_result"
    }
   ],
   "source": [
    "np.random.rand(1,10)"
   ]
  },
  {
   "cell_type": "markdown",
   "id": "4c9ddbd8",
   "metadata": {},
   "source": [
    "# *np.random.randn()*\n",
    "<br>\n",
    "\n",
    "- ### The numpy.random.randn function is a NumPy function that generates an array of random numbers from a standard normal distribution with mean 0 and variance 1. It takes one or more integer arguments that specify the shape of the output array."
   ]
  },
  {
   "cell_type": "code",
   "execution_count": 5,
   "id": "f40e9f44",
   "metadata": {},
   "outputs": [
    {
     "data": {
      "text/plain": [
       "array([[-1.05099741,  0.72349876]])"
      ]
     },
     "execution_count": 5,
     "metadata": {},
     "output_type": "execute_result"
    }
   ],
   "source": [
    "np.random.randn(1, 2)"
   ]
  },
  {
   "cell_type": "code",
   "execution_count": 6,
   "id": "ab148442",
   "metadata": {},
   "outputs": [
    {
     "data": {
      "text/plain": [
       "array([[0.12394433, 0.77437321, 0.13253636, 0.06083959, 0.01778172,\n",
       "        0.45170382, 0.94070873, 0.83581163, 0.37807419, 0.47333676]])"
      ]
     },
     "execution_count": 6,
     "metadata": {},
     "output_type": "execute_result"
    }
   ],
   "source": [
    "np.random.rand(1,10)"
   ]
  },
  {
   "cell_type": "markdown",
   "id": "5aa51033",
   "metadata": {},
   "source": [
    "# *np.random.randint()*\n",
    "<br>\n",
    "\n",
    "- ### The numpy.random.randint function is a NumPy function that generates an array of random integers between a specified range. It takes the following arguments:\n",
    "<br>\n",
    "\n",
    "- ### low: The lowest (inclusive) integer to be drawn from the distribution.\n",
    "<br>\n",
    "\n",
    "- ### high: The highest (exclusive) integer to be drawn from the distribution.\n",
    "<br>\n",
    "\n",
    "- ### size: The shape of the output array."
   ]
  },
  {
   "cell_type": "code",
   "execution_count": 7,
   "id": "2ecc454e",
   "metadata": {},
   "outputs": [
    {
     "data": {
      "text/plain": [
       "array([1, 8, 1, 7, 9])"
      ]
     },
     "execution_count": 7,
     "metadata": {},
     "output_type": "execute_result"
    }
   ],
   "source": [
    "np.random.randint(low=0, high=10, size=5)"
   ]
  },
  {
   "cell_type": "code",
   "execution_count": 8,
   "id": "0e2f0fc5",
   "metadata": {},
   "outputs": [
    {
     "data": {
      "text/plain": [
       "array([3, 7, 1, 6, 7])"
      ]
     },
     "execution_count": 8,
     "metadata": {},
     "output_type": "execute_result"
    }
   ],
   "source": [
    "np.random.randint(low=0, high=10, size=5)"
   ]
  },
  {
   "cell_type": "code",
   "execution_count": 9,
   "id": "3ee5d2a6",
   "metadata": {},
   "outputs": [
    {
     "data": {
      "text/plain": [
       "array([1, 8, 6, 5, 2])"
      ]
     },
     "execution_count": 9,
     "metadata": {},
     "output_type": "execute_result"
    }
   ],
   "source": [
    "np.random.randint(low=0, high=10, size=5)"
   ]
  },
  {
   "cell_type": "markdown",
   "id": "3f4d51a8",
   "metadata": {},
   "source": [
    "# *np.random.random_sample()*\n",
    "<br>\n",
    "\n",
    "- ### The numpy.random.random_sample function is a NumPy function that generates an array of random numbers between 0 and 1 with a uniform distribution. It takes one or more integer arguments that specify the shape of the output array."
   ]
  },
  {
   "cell_type": "code",
   "execution_count": 10,
   "id": "eea52b6c",
   "metadata": {},
   "outputs": [
    {
     "data": {
      "text/plain": [
       "array([[0.17360678, 0.83021076, 0.48563864],\n",
       "       [0.37102622, 0.66158768, 0.90826207]])"
      ]
     },
     "execution_count": 10,
     "metadata": {},
     "output_type": "execute_result"
    }
   ],
   "source": [
    "np.random.random_sample((2, 3))"
   ]
  },
  {
   "cell_type": "code",
   "execution_count": 11,
   "id": "fb0212ce",
   "metadata": {},
   "outputs": [
    {
     "data": {
      "text/plain": [
       "0.45285697240937883"
      ]
     },
     "execution_count": 11,
     "metadata": {},
     "output_type": "execute_result"
    }
   ],
   "source": [
    "np.random.random_sample()"
   ]
  },
  {
   "cell_type": "code",
   "execution_count": 12,
   "id": "93d31917",
   "metadata": {},
   "outputs": [
    {
     "data": {
      "text/plain": [
       "array([0.58815739, 0.93249559, 0.49062771])"
      ]
     },
     "execution_count": 12,
     "metadata": {},
     "output_type": "execute_result"
    }
   ],
   "source": [
    "np.random.random_sample(3)"
   ]
  },
  {
   "cell_type": "code",
   "execution_count": 13,
   "id": "668a2c15",
   "metadata": {},
   "outputs": [
    {
     "data": {
      "text/plain": [
       "array([[0.91203881, 0.23114202, 0.82418515]])"
      ]
     },
     "execution_count": 13,
     "metadata": {},
     "output_type": "execute_result"
    }
   ],
   "source": [
    "np.random.random_sample((1,3))"
   ]
  },
  {
   "cell_type": "markdown",
   "id": "4856c3e6",
   "metadata": {},
   "source": [
    "# *np.random.choice()*\n",
    "<br>\n",
    "\n",
    "- ### The numpy.random.choice function is a NumPy function that randomly chooses elements from a given array. It takes the following arguments:\n",
    "<br>\n",
    "\n",
    "- ### a: The input array to choose elements from.\n",
    "<br>\n",
    "\n",
    "- ### size: The shape of the output array.\n",
    "<br>  \n",
    "\n",
    "- ### replace: Whether to sample with or without replacement. Default is True.\n",
    "<br>\n"
   ]
  },
  {
   "cell_type": "code",
   "execution_count": 61,
   "id": "a93cd910",
   "metadata": {},
   "outputs": [
    {
     "data": {
      "text/plain": [
       "array([0, 1, 2, 3, 4, 5, 6, 7, 8, 9])"
      ]
     },
     "execution_count": 61,
     "metadata": {},
     "output_type": "execute_result"
    }
   ],
   "source": [
    "array = np.arange(10)\n",
    "array"
   ]
  },
  {
   "cell_type": "code",
   "execution_count": 80,
   "id": "d4ba2107",
   "metadata": {},
   "outputs": [
    {
     "data": {
      "text/plain": [
       "array([7, 7, 2])"
      ]
     },
     "execution_count": 80,
     "metadata": {},
     "output_type": "execute_result"
    }
   ],
   "source": [
    "np.random.choice(array, size=3)"
   ]
  },
  {
   "cell_type": "code",
   "execution_count": 83,
   "id": "c2b07c98",
   "metadata": {},
   "outputs": [
    {
     "data": {
      "text/plain": [
       "array([7, 0, 1])"
      ]
     },
     "execution_count": 83,
     "metadata": {},
     "output_type": "execute_result"
    }
   ],
   "source": [
    "np.random.choice(array, size=3,replace=False) # replce False parameter skip duplication"
   ]
  },
  {
   "cell_type": "code",
   "execution_count": 17,
   "id": "dd124e3d",
   "metadata": {},
   "outputs": [
    {
     "data": {
      "text/plain": [
       "array([5, 4, 8, 2, 1, 0, 6, 3, 7, 9])"
      ]
     },
     "execution_count": 17,
     "metadata": {},
     "output_type": "execute_result"
    }
   ],
   "source": [
    "np.random.permutation(array)"
   ]
  },
  {
   "cell_type": "markdown",
   "id": "17c85490",
   "metadata": {},
   "source": [
    "# *np.random.permutation()*\n",
    "<br>\n",
    "\n",
    "- ### The np.random.permutation() function in NumPy is used to randomly permute (shuffle) an array or sequence along its first axis. This means that it randomly shuffles the elements of an array along its rows, keeping the columns intact.\n",
    "<br>\n",
    "\n",
    "- ### The function takes an array or an integer as an input and returns a new array with the same shape and type as the input array, but with the rows randomly shuffled. If the input is an integer, it returns a shuffled range from 0 to that integer."
   ]
  },
  {
   "cell_type": "code",
   "execution_count": 18,
   "id": "4d56d4c1",
   "metadata": {},
   "outputs": [
    {
     "data": {
      "text/plain": [
       "array([[1, 2, 3],\n",
       "       [4, 5, 6],\n",
       "       [7, 8, 9]])"
      ]
     },
     "execution_count": 18,
     "metadata": {},
     "output_type": "execute_result"
    }
   ],
   "source": [
    "a = np.array([[1, 2, 3],\n",
    "              [4, 5, 6],\n",
    "              [7, 8, 9]])\n",
    "a"
   ]
  },
  {
   "cell_type": "code",
   "execution_count": 19,
   "id": "6568e3be",
   "metadata": {},
   "outputs": [
    {
     "data": {
      "text/plain": [
       "array([[1, 2, 3],\n",
       "       [4, 5, 6],\n",
       "       [7, 8, 9]])"
      ]
     },
     "execution_count": 19,
     "metadata": {},
     "output_type": "execute_result"
    }
   ],
   "source": [
    "np.random.permutation(a)"
   ]
  },
  {
   "cell_type": "code",
   "execution_count": 20,
   "id": "ede068e2",
   "metadata": {},
   "outputs": [
    {
     "data": {
      "text/plain": [
       "array([[4, 5, 6],\n",
       "       [1, 2, 3],\n",
       "       [7, 8, 9]])"
      ]
     },
     "execution_count": 20,
     "metadata": {},
     "output_type": "execute_result"
    }
   ],
   "source": [
    "np.random.permutation(a)"
   ]
  },
  {
   "cell_type": "code",
   "execution_count": 21,
   "id": "220313a9",
   "metadata": {},
   "outputs": [
    {
     "data": {
      "text/plain": [
       "array([[1, 2, 3],\n",
       "       [4, 5, 6],\n",
       "       [7, 8, 9]])"
      ]
     },
     "execution_count": 21,
     "metadata": {},
     "output_type": "execute_result"
    }
   ],
   "source": [
    "np.random.permutation(a)"
   ]
  },
  {
   "cell_type": "markdown",
   "id": "6c90002b",
   "metadata": {},
   "source": [
    "# *np.random.shuffle()*\n",
    "<br>\n",
    "\n",
    "- ### The np.random.shuffle() function in NumPy is used to randomly shuffle (permute) the elements of an array in place. This means that it shuffles the elements of an array randomly along its first axis, without creating a new array.\n",
    "<br>\n",
    "\n",
    "- ### The function takes an array as an input and shuffles its elements randomly along its first axis. The function operates in-place, which means that it modifies the original array directly."
   ]
  },
  {
   "cell_type": "code",
   "execution_count": 52,
   "id": "68641a39",
   "metadata": {},
   "outputs": [
    {
     "data": {
      "text/plain": [
       "array([1, 2, 3, 4, 5])"
      ]
     },
     "execution_count": 52,
     "metadata": {},
     "output_type": "execute_result"
    }
   ],
   "source": [
    "a = np.array([1, 2, 3, 4, 5])\n",
    "a"
   ]
  },
  {
   "cell_type": "code",
   "execution_count": 53,
   "id": "399cd282",
   "metadata": {},
   "outputs": [
    {
     "name": "stdout",
     "output_type": "stream",
     "text": [
      "[1 2 4 3 5]\n"
     ]
    }
   ],
   "source": [
    "np.random.shuffle(a)\n",
    "print(a)"
   ]
  },
  {
   "cell_type": "code",
   "execution_count": 57,
   "id": "ddba03ed",
   "metadata": {},
   "outputs": [
    {
     "name": "stdout",
     "output_type": "stream",
     "text": [
      "[2 1 5 3 4]\n"
     ]
    }
   ],
   "source": [
    "np.random.shuffle(a)\n",
    "print(a)"
   ]
  },
  {
   "cell_type": "code",
   "execution_count": 60,
   "id": "4e3b5485",
   "metadata": {},
   "outputs": [
    {
     "name": "stdout",
     "output_type": "stream",
     "text": [
      "[2 4 1 5 3]\n"
     ]
    }
   ],
   "source": [
    "np.random.shuffle(a)\n",
    "print(a)"
   ]
  },
  {
   "cell_type": "markdown",
   "id": "a6a36b16",
   "metadata": {},
   "source": [
    "# *np.random.uniform()*\n",
    "<br>\n",
    "\n",
    "- ### The np.random.uniform() function in NumPy is used to generate random numbers from a uniform distribution. A uniform distribution is a continuous probability distribution where all values within a specified range are equally likely to occur.\n",
    "<br>\n",
    "\n",
    "- ### The function takes the following parameters:\n",
    "<br>\n",
    "\n",
    "- ### low: the lower bound of the distribution (inclusive)\n",
    "<br>\n",
    "\n",
    "- ### high: the upper bound of the distribution (exclusive)\n",
    "<br>\n",
    "\n",
    "- ### size: the size of the output array or the shape of the output"
   ]
  },
  {
   "cell_type": "code",
   "execution_count": 26,
   "id": "9a81223d",
   "metadata": {},
   "outputs": [
    {
     "data": {
      "text/plain": [
       "array([0.10189666, 0.07409808, 0.87671222, 0.07071324, 0.36387705])"
      ]
     },
     "execution_count": 26,
     "metadata": {},
     "output_type": "execute_result"
    }
   ],
   "source": [
    "np.random.uniform(low=0.0, high=1.0, size=5)"
   ]
  },
  {
   "cell_type": "code",
   "execution_count": 27,
   "id": "8964aa9c",
   "metadata": {},
   "outputs": [
    {
     "data": {
      "text/plain": [
       "array([0.58911899, 0.18412479, 0.43996133])"
      ]
     },
     "execution_count": 27,
     "metadata": {},
     "output_type": "execute_result"
    }
   ],
   "source": [
    "np.random.uniform(low=0.0, high=1.0, size=3)"
   ]
  },
  {
   "cell_type": "code",
   "execution_count": 28,
   "id": "90f5b387",
   "metadata": {},
   "outputs": [
    {
     "data": {
      "text/plain": [
       "array([6.86400143, 1.12786236, 4.89348121])"
      ]
     },
     "execution_count": 28,
     "metadata": {},
     "output_type": "execute_result"
    }
   ],
   "source": [
    "np.random.uniform(low=1, high=12, size=3)"
   ]
  },
  {
   "cell_type": "markdown",
   "id": "8453f6ee",
   "metadata": {},
   "source": [
    "# *np.random.standard_normal()*\n",
    "<br>\n",
    "\n",
    "- ### The np.random.standard_normal() function in NumPy is used to generate an array of random numbers that are normally (Gaussian) distributed with a mean of 0 and a standard deviation of 1."
   ]
  },
  {
   "cell_type": "code",
   "execution_count": 29,
   "id": "33e3ef3b",
   "metadata": {},
   "outputs": [
    {
     "data": {
      "text/plain": [
       "array([ 2.23571971, -0.38049651,  1.29248833, -0.9986806 ,  1.11400228])"
      ]
     },
     "execution_count": 29,
     "metadata": {},
     "output_type": "execute_result"
    }
   ],
   "source": [
    "np.random.standard_normal(size=5)"
   ]
  },
  {
   "cell_type": "code",
   "execution_count": 30,
   "id": "9cba8c11",
   "metadata": {},
   "outputs": [
    {
     "data": {
      "text/plain": [
       "array([-0.25846962,  0.71865074,  0.90826664])"
      ]
     },
     "execution_count": 30,
     "metadata": {},
     "output_type": "execute_result"
    }
   ],
   "source": [
    "np.random.standard_normal(size=3)"
   ]
  },
  {
   "cell_type": "code",
   "execution_count": 31,
   "id": "d1172daa",
   "metadata": {},
   "outputs": [
    {
     "data": {
      "text/plain": [
       "array([ 0.87994989, -0.8370385 ,  0.66825734])"
      ]
     },
     "execution_count": 31,
     "metadata": {},
     "output_type": "execute_result"
    }
   ],
   "source": [
    "np.random.standard_normal(size=3)"
   ]
  },
  {
   "cell_type": "markdown",
   "id": "54a63e9c",
   "metadata": {},
   "source": [
    "# *np.random.binomial()*\n",
    "<br>\n",
    "\n",
    "- ### The np.random.binomial() function in NumPy is used to generate an array of random numbers that follow a binomial distribution. A binomial distribution is a discrete probability distribution that represents the number of successes in a fixed number of independent Bernoulli trials (trials that have two possible outcomes: success or failure) with a given probability of success for each trial.\n",
    "<br>\n",
    "\n",
    "- ### The function takes the following parameters:\n",
    "<br>\n",
    "\n",
    "- ### n: the number of trials\n",
    "<br>\n",
    "\n",
    "- ### p: the probability of success for each trial\n",
    "<br>\n",
    "\n",
    "- ### size: the size of the output array or the shape of the output\n",
    "\n"
   ]
  },
  {
   "cell_type": "code",
   "execution_count": 32,
   "id": "90c451c6",
   "metadata": {},
   "outputs": [
    {
     "data": {
      "text/plain": [
       "array([5, 4, 9])"
      ]
     },
     "execution_count": 32,
     "metadata": {},
     "output_type": "execute_result"
    }
   ],
   "source": [
    "np.random.binomial(n=10, p=0.5, size=3)"
   ]
  },
  {
   "cell_type": "code",
   "execution_count": 33,
   "id": "78ccaf11",
   "metadata": {},
   "outputs": [
    {
     "data": {
      "text/plain": [
       "array([5, 4, 4])"
      ]
     },
     "execution_count": 33,
     "metadata": {},
     "output_type": "execute_result"
    }
   ],
   "source": [
    "np.random.binomial(n=10, p=0.5, size=3)"
   ]
  },
  {
   "cell_type": "code",
   "execution_count": 34,
   "id": "2dddc04b",
   "metadata": {},
   "outputs": [
    {
     "data": {
      "text/plain": [
       "array([6, 4, 3])"
      ]
     },
     "execution_count": 34,
     "metadata": {},
     "output_type": "execute_result"
    }
   ],
   "source": [
    "np.random.binomial(n=10, p=0.5, size=3)"
   ]
  },
  {
   "cell_type": "markdown",
   "id": "4eaa24b3",
   "metadata": {},
   "source": [
    "# *np.random.normal()*\n",
    "<br>\n",
    "\n",
    "- ### The np.random.normal() function in NumPy is used to generate an array of random numbers that follow a normal (Gaussian) distribution. A normal distribution is a continuous probability distribution that is symmetric around the mean and characterized by its mean (μ) and standard deviation (σ).\n",
    "<br>\n",
    "\n",
    "- ### The function takes the following parameters:\n",
    "<br>\n",
    "\n",
    "- ### loc (optional): the mean (μ) of the normal distribution (default is 0)\n",
    "<br>\n",
    "\n",
    "- ### scale (optional): the standard deviation (σ) of the normal distribution (default is 1)\n",
    "<br>\n",
    "\n",
    "- ### size (optional): the size of the output array or the shape of the output (default is None, which returns a single random number)"
   ]
  },
  {
   "cell_type": "code",
   "execution_count": 35,
   "id": "521f4cae",
   "metadata": {},
   "outputs": [
    {
     "data": {
      "text/plain": [
       "array([-1.38335187,  0.1531374 , -0.86569207])"
      ]
     },
     "execution_count": 35,
     "metadata": {},
     "output_type": "execute_result"
    }
   ],
   "source": [
    "np.random.normal(loc=0, scale=1, size=3)"
   ]
  },
  {
   "cell_type": "code",
   "execution_count": 36,
   "id": "daa129c4",
   "metadata": {},
   "outputs": [
    {
     "data": {
      "text/plain": [
       "array([-0.37669732, -0.48938003,  0.92528512])"
      ]
     },
     "execution_count": 36,
     "metadata": {},
     "output_type": "execute_result"
    }
   ],
   "source": [
    "np.random.normal(loc=0, scale=1, size=3)"
   ]
  },
  {
   "cell_type": "markdown",
   "id": "d85d00cc",
   "metadata": {},
   "source": [
    "#  *np.random.beta()*\n",
    "<br>\n",
    "\n",
    "- ### The np.random.beta() function in NumPy is used to generate an array of random numbers that follow a beta distribution. The beta distribution is a continuous probability distribution that is defined on the interval [0, 1]. It is a commonly used distribution in statistics, particularly in Bayesian analysis.\n",
    "<br>\n",
    "\n",
    "- ### The function takes the following parameters:\n",
    "<br>\n",
    "\n",
    "- ### a (required): the shape parameter a > 0\n",
    "<br>\n",
    "\n",
    "- ### b (required): the shape parameter b > 0\n",
    "<br>\n",
    "\n",
    "- ### size (optional): the size of the output array or the shape of the output (default is None, which returns a single random number)"
   ]
  },
  {
   "cell_type": "code",
   "execution_count": 37,
   "id": "520d45a8",
   "metadata": {},
   "outputs": [
    {
     "data": {
      "text/plain": [
       "array([0.50995852, 0.11544717, 0.32530564])"
      ]
     },
     "execution_count": 37,
     "metadata": {},
     "output_type": "execute_result"
    }
   ],
   "source": [
    "np.random.beta(a=2, b=5, size=3)"
   ]
  },
  {
   "cell_type": "code",
   "execution_count": 38,
   "id": "2df862ab",
   "metadata": {},
   "outputs": [
    {
     "data": {
      "text/plain": [
       "array([0.08010676, 0.49088323, 0.02543645])"
      ]
     },
     "execution_count": 38,
     "metadata": {},
     "output_type": "execute_result"
    }
   ],
   "source": [
    "np.random.beta(a=2, b=5, size=3)"
   ]
  },
  {
   "cell_type": "code",
   "execution_count": 39,
   "id": "41b0c63c",
   "metadata": {},
   "outputs": [
    {
     "data": {
      "text/plain": [
       "array([0.28664388, 0.34499435, 0.77786831])"
      ]
     },
     "execution_count": 39,
     "metadata": {},
     "output_type": "execute_result"
    }
   ],
   "source": [
    "np.random.beta(a=2, b=5, size=3)"
   ]
  },
  {
   "cell_type": "markdown",
   "id": "1b8adafc",
   "metadata": {},
   "source": [
    "# *np.random.chisquare()*\n",
    "<br>\n",
    "\n",
    "- ### The np.random.chisquare() function in NumPy is used to generate an array of random numbers that follow a chi-square distribution. The chi-square distribution is a continuous probability distribution that arises in statistical inference when analyzing the variance of a normally distributed population.\n",
    "<br>\n",
    "\n",
    "- ### The function takes the following parameters:\n",
    "<br>\n",
    "\n",
    "- ### df (required): the degrees of freedom parameter\n",
    "<br>\n",
    "\n",
    "- ### size (optional): the size of the output array or the shape of the output (default is None, which returns a single random number)"
   ]
  },
  {
   "cell_type": "code",
   "execution_count": 40,
   "id": "1f3ad381",
   "metadata": {},
   "outputs": [
    {
     "data": {
      "text/plain": [
       "array([0.95105891, 0.01052943, 3.66861748])"
      ]
     },
     "execution_count": 40,
     "metadata": {},
     "output_type": "execute_result"
    }
   ],
   "source": [
    "np.random.chisquare(df=2, size=3)"
   ]
  },
  {
   "cell_type": "code",
   "execution_count": 41,
   "id": "79bbebe9",
   "metadata": {},
   "outputs": [
    {
     "data": {
      "text/plain": [
       "array([0.92370514, 7.37931287, 3.48797395])"
      ]
     },
     "execution_count": 41,
     "metadata": {},
     "output_type": "execute_result"
    }
   ],
   "source": [
    "np.random.chisquare(df=2, size=3)"
   ]
  },
  {
   "cell_type": "code",
   "execution_count": 42,
   "id": "60f12ed4",
   "metadata": {},
   "outputs": [
    {
     "data": {
      "text/plain": [
       "array([2.01058167, 8.8383355 , 0.20740462])"
      ]
     },
     "execution_count": 42,
     "metadata": {},
     "output_type": "execute_result"
    }
   ],
   "source": [
    "np.random.chisquare(df=2, size=3)"
   ]
  },
  {
   "cell_type": "markdown",
   "id": "acbd2579",
   "metadata": {},
   "source": [
    "# *np.random.gamma()*\n",
    "<br>\n",
    "\n",
    "- ### The numpy.random.gamma function is used to generate random numbers from the gamma distribution. The gamma distribution is a continuous probability distribution that is commonly used in statistics to model waiting times, shape parameters, and other positive continuous variables.\n",
    "<br>\n",
    "\n",
    "- ### The function takes the following parameters:\n",
    "<br>\n",
    "\n",
    "- ### shape: (also known as alpha) the shape parameter of the gamma distribution\n",
    "<br>\n",
    "\n",
    "- ### scale: (also known as theta) the scale parameter of the gamma distribution\n",
    "<br>\n",
    "\n",
    "- ### size: the size of the output array or the shape of the output (default is None, which returns a single random number)"
   ]
  },
  {
   "cell_type": "code",
   "execution_count": 43,
   "id": "9ba90155",
   "metadata": {},
   "outputs": [
    {
     "data": {
      "text/plain": [
       "array([3.82456803, 1.84445491, 0.66032718])"
      ]
     },
     "execution_count": 43,
     "metadata": {},
     "output_type": "execute_result"
    }
   ],
   "source": [
    "np.random.gamma(shape=2, scale=2, size=3)"
   ]
  },
  {
   "cell_type": "code",
   "execution_count": 44,
   "id": "0f77d8b1",
   "metadata": {},
   "outputs": [
    {
     "data": {
      "text/plain": [
       "array([5.01517843, 3.31073229, 3.73672492])"
      ]
     },
     "execution_count": 44,
     "metadata": {},
     "output_type": "execute_result"
    }
   ],
   "source": [
    "np.random.gamma(shape=2, scale=2, size=3)"
   ]
  },
  {
   "cell_type": "code",
   "execution_count": 45,
   "id": "7a8bb8bd",
   "metadata": {},
   "outputs": [
    {
     "data": {
      "text/plain": [
       "array([2.44857568, 5.62041473, 3.50096316])"
      ]
     },
     "execution_count": 45,
     "metadata": {},
     "output_type": "execute_result"
    }
   ],
   "source": [
    "np.random.gamma(shape=2, scale=2, size=3)"
   ]
  },
  {
   "cell_type": "markdown",
   "id": "081980d1",
   "metadata": {},
   "source": [
    "# *np.random.seed()*\n",
    "<br>\n",
    "\n",
    "- ### The numpy.random.seed function is used to set the random seed for the NumPy random number generator. The random seed is an integer that is used to initialize the random number generator, which means that setting the random seed to the same value will produce the same sequence of random numbers every time."
   ]
  },
  {
   "cell_type": "code",
   "execution_count": 46,
   "id": "e49bc887",
   "metadata": {},
   "outputs": [
    {
     "data": {
      "text/plain": [
       "8"
      ]
     },
     "execution_count": 46,
     "metadata": {},
     "output_type": "execute_result"
    }
   ],
   "source": [
    "np.random.randint(1,10)"
   ]
  },
  {
   "cell_type": "code",
   "execution_count": 47,
   "id": "c70248f4",
   "metadata": {},
   "outputs": [
    {
     "data": {
      "text/plain": [
       "4"
      ]
     },
     "execution_count": 47,
     "metadata": {},
     "output_type": "execute_result"
    }
   ],
   "source": [
    "np.random.randint(1,10)"
   ]
  },
  {
   "cell_type": "code",
   "execution_count": 48,
   "id": "29678794",
   "metadata": {},
   "outputs": [
    {
     "data": {
      "text/plain": [
       "7"
      ]
     },
     "execution_count": 48,
     "metadata": {},
     "output_type": "execute_result"
    }
   ],
   "source": [
    "np.random.randint(1,10)"
   ]
  },
  {
   "cell_type": "code",
   "execution_count": 49,
   "id": "2bef1150",
   "metadata": {},
   "outputs": [
    {
     "data": {
      "text/plain": [
       "6"
      ]
     },
     "execution_count": 49,
     "metadata": {},
     "output_type": "execute_result"
    }
   ],
   "source": [
    "np.random.seed(1)\n",
    "np.random.randint(1,10)"
   ]
  },
  {
   "cell_type": "code",
   "execution_count": 50,
   "id": "fdd56827",
   "metadata": {},
   "outputs": [
    {
     "name": "stdout",
     "output_type": "stream",
     "text": [
      "a: 0.9971848109388686\n",
      "b: 0.3745401188473625\n",
      "c: 0.3745401188473625\n"
     ]
    }
   ],
   "source": [
    "a = np.random.rand()\n",
    "np.random.seed(42)\n",
    "\n",
    "b = np.random.rand()\n",
    "\n",
    "np.random.seed(42)\n",
    "\n",
    "c = np.random.rand()\n",
    "\n",
    "print(\"a:\", a)\n",
    "print(\"b:\", b)\n",
    "print(\"c:\", c)\n"
   ]
  }
 ],
 "metadata": {
  "kernelspec": {
   "display_name": "Python 3 (ipykernel)",
   "language": "python",
   "name": "python3"
  },
  "language_info": {
   "codemirror_mode": {
    "name": "ipython",
    "version": 3
   },
   "file_extension": ".py",
   "mimetype": "text/x-python",
   "name": "python",
   "nbconvert_exporter": "python",
   "pygments_lexer": "ipython3",
   "version": "3.10.6"
  }
 },
 "nbformat": 4,
 "nbformat_minor": 5
}

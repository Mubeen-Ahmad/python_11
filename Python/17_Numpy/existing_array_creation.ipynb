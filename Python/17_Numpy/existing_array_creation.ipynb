{
 "cells": [
  {
   "cell_type": "markdown",
   "id": "5e4b71dd",
   "metadata": {},
   "source": [
    "# Existing array creation functions create a new array based on an existing array\n",
    "<br>\n",
    "\n",
    "- ## existing array creation functions are used when you want to manipulate an existing array in some way to create a new array.\n",
    "    "
   ]
  },
  {
   "cell_type": "markdown",
   "id": "c401176c",
   "metadata": {},
   "source": [
    "## Difference Array Creation Function VS Existing Array Function"
   ]
  },
  {
   "cell_type": "markdown",
   "id": "af62f419",
   "metadata": {},
   "source": [
    "<br>\n",
    "\n",
    "- ## The main difference between these two categories is that array creation functions create a new array from scratch, while existing array creation functions create a new array based on an existing array. \n",
    "<br>\n",
    "\n",
    "- ## For example, if you want to change a value in an array or combine some values to create a new array, you can use existing array creation function. \n",
    "<br>\n",
    "\n",
    "- ## However, if you want to create a new array with specific dimensions and values, you can use array creation function."
   ]
  },
  {
   "cell_type": "markdown",
   "id": "e9017e54",
   "metadata": {},
   "source": [
    "- ## *np.array()*\n",
    "- ## *np.asarray()*\n",
    "- ## *np.asanyarray()* \n",
    "- ## *np.ascontiguousarray*\n",
    "- ## *np.asmatrix()*\n",
    "- ## *np.copy()*\n",
    "- ## *np.fromfunction()*\n",
    "- ## *np.fromiter()*"
   ]
  },
  {
   "cell_type": "markdown",
   "id": "23cb5973",
   "metadata": {},
   "source": [
    "# *np.array()*\n",
    "<br>\n",
    "\n",
    "- ## The numpy.array() function is used to create an array. This function takes an iterable object as input and returns a new NumPy array with a specified data type (if provided) and shape.\n",
    "<br>\n",
    "\n",
    "- ## The array() function is useful when working with data that can be converted into an array, such as a list of numbers. It is often used to create a NumPy array from an existing Python list or tuple.\n",
    "<br>\n",
    "\n",
    "# Parameters\n",
    "<br>\n",
    "\n",
    "- ## object required\n",
    "- ## dtype optional\n",
    "- ## copy  optional\n",
    " - ### If true (default), then the object is copied. Otherwise, a copy will only be made\n",
    "- ## order optional (K,A,C,F)\n",
    "- ## ndmin optional\n"
   ]
  },
  {
   "cell_type": "code",
   "execution_count": 1,
   "id": "15626908",
   "metadata": {},
   "outputs": [
    {
     "data": {
      "text/plain": [
       "[1, 2, 3, 4, 5, 6, 7, 8, 9]"
      ]
     },
     "execution_count": 1,
     "metadata": {},
     "output_type": "execute_result"
    }
   ],
   "source": [
    "lst = [1,2,3,4,5,6,7,8,9]\n",
    "lst"
   ]
  },
  {
   "cell_type": "code",
   "execution_count": 1,
   "id": "58f8272b",
   "metadata": {},
   "outputs": [
    {
     "ename": "NameError",
     "evalue": "name 'lst' is not defined",
     "output_type": "error",
     "traceback": [
      "\u001b[0;31m---------------------------------------------------------------------------\u001b[0m",
      "\u001b[0;31mNameError\u001b[0m                                 Traceback (most recent call last)",
      "Cell \u001b[0;32mIn [1], line 3\u001b[0m\n\u001b[1;32m      1\u001b[0m \u001b[38;5;28;01mimport\u001b[39;00m \u001b[38;5;21;01mnumpy\u001b[39;00m \u001b[38;5;28;01mas\u001b[39;00m \u001b[38;5;21;01mnp\u001b[39;00m\n\u001b[0;32m----> 3\u001b[0m np\u001b[38;5;241m.\u001b[39marray(\u001b[43mlst\u001b[49m)\n",
      "\u001b[0;31mNameError\u001b[0m: name 'lst' is not defined"
     ]
    }
   ],
   "source": [
    "import numpy as np\n",
    "\n",
    "np.array(lst)"
   ]
  },
  {
   "cell_type": "code",
   "execution_count": 3,
   "id": "630268c6",
   "metadata": {},
   "outputs": [
    {
     "data": {
      "text/plain": [
       "array([1, 2, 3])"
      ]
     },
     "execution_count": 3,
     "metadata": {},
     "output_type": "execute_result"
    }
   ],
   "source": [
    "np.array([1,2,3])"
   ]
  },
  {
   "cell_type": "code",
   "execution_count": 4,
   "id": "b5aea328",
   "metadata": {},
   "outputs": [
    {
     "data": {
      "text/plain": [
       "array([1.+0.j, 2.+0.j, 3.+0.j])"
      ]
     },
     "execution_count": 4,
     "metadata": {},
     "output_type": "execute_result"
    }
   ],
   "source": [
    "np.array([1,2,3],dtype=complex)"
   ]
  },
  {
   "cell_type": "code",
   "execution_count": 5,
   "id": "d848d677",
   "metadata": {},
   "outputs": [
    {
     "data": {
      "text/plain": [
       "array([[1, 2, 3]])"
      ]
     },
     "execution_count": 5,
     "metadata": {},
     "output_type": "execute_result"
    }
   ],
   "source": [
    "np.array([1,2,3],ndmin=2)"
   ]
  },
  {
   "cell_type": "code",
   "execution_count": 7,
   "id": "b8bdc6b3",
   "metadata": {},
   "outputs": [
    {
     "data": {
      "text/plain": [
       "array([[[[[[[[[[[[[[[[[[[[1, 2, 3]]]]]]]]]]]]]]]]]]]])"
      ]
     },
     "execution_count": 7,
     "metadata": {},
     "output_type": "execute_result"
    }
   ],
   "source": [
    "np.array([1,2,3],ndmin=20)"
   ]
  },
  {
   "cell_type": "code",
   "execution_count": 8,
   "id": "98638e1c",
   "metadata": {},
   "outputs": [
    {
     "data": {
      "text/plain": [
       "array([1, 2, 3])"
      ]
     },
     "execution_count": 8,
     "metadata": {},
     "output_type": "execute_result"
    }
   ],
   "source": [
    "arr = np.array([1,2,3])\n",
    "arr"
   ]
  },
  {
   "cell_type": "markdown",
   "id": "ed0c460b",
   "metadata": {},
   "source": [
    "# *np.asarray()*\n",
    "<br>\n",
    "\n",
    "- ## The numpy.asarray() function is used to convert a given input to an array.\n",
    "<br>\n",
    "\n",
    "- ## This is useful when the input may be a list or a tuple, which cannot be used in array-specific operations\n",
    "<br>\n",
    "\n",
    "- ## asarray() function, we need to specify an existing array\n",
    "\n",
    "# Parameters\n",
    "<br>\n",
    "\n",
    "- ## a Required\n",
    "- ## dtype optional\n",
    "- ## order optional "
   ]
  },
  {
   "cell_type": "code",
   "execution_count": 15,
   "id": "b6b5d2cd",
   "metadata": {},
   "outputs": [
    {
     "data": {
      "text/plain": [
       "array([1, 2, 3])"
      ]
     },
     "execution_count": 15,
     "metadata": {},
     "output_type": "execute_result"
    }
   ],
   "source": [
    "arr"
   ]
  },
  {
   "cell_type": "code",
   "execution_count": 16,
   "id": "93e4b940",
   "metadata": {},
   "outputs": [
    {
     "data": {
      "text/plain": [
       "array([2, 4, 6])"
      ]
     },
     "execution_count": 16,
     "metadata": {},
     "output_type": "execute_result"
    }
   ],
   "source": [
    "x = np.asarray(arr)*2\n",
    "x"
   ]
  },
  {
   "cell_type": "code",
   "execution_count": 17,
   "id": "48337dd9",
   "metadata": {},
   "outputs": [
    {
     "data": {
      "text/plain": [
       "array([2, 4, 6])"
      ]
     },
     "execution_count": 17,
     "metadata": {},
     "output_type": "execute_result"
    }
   ],
   "source": [
    "y = arr * 2\n",
    "y"
   ]
  },
  {
   "cell_type": "markdown",
   "id": "a01e0593",
   "metadata": {},
   "source": [
    "## whats is the difference in x and y means array() vs asarray() both are same ?"
   ]
  },
  {
   "cell_type": "markdown",
   "id": "d746be20",
   "metadata": {},
   "source": [
    "- ## np.asarray() function is used to convert the input to an array, and if the input is already an array, it returns the same array without creating a new one."
   ]
  },
  {
   "cell_type": "markdown",
   "id": "80ffaad9",
   "metadata": {},
   "source": [
    "<br>\n",
    "\n",
    "# *np.asanyarray()*\n",
    "<br>\n",
    "\n",
    "- ## The asanyarray() function in NumPy is similar to the asarray() function, but with some additional functionality. \n",
    "<br>\n",
    "\n",
    "- ## The asanyarray() function also converts input to an ndarray, but it leaves subclasses of ndarray unchanged. If the input is already an ndarray or a subclass of ndarray, then asanyarray() simply returns the input. \n",
    "<br>\n",
    "\n",
    "- ## However, if the input is a Python sequence or a subclass of Python sequence, it will be converted to an ndarray.\n",
    "<br>\n",
    "\n",
    "# Parameters\n",
    "<br>\n",
    "\n",
    "- ## a Required\n",
    "- ## dtype\n",
    "- ## order"
   ]
  },
  {
   "cell_type": "code",
   "execution_count": 18,
   "id": "d1a4de2c",
   "metadata": {},
   "outputs": [],
   "source": [
    "def my_func(arr):\n",
    "    arr = np.asanyarray(arr)\n",
    "    # Perform some operations on the input array\n",
    "    return arr"
   ]
  },
  {
   "cell_type": "code",
   "execution_count": 21,
   "id": "8b631b10",
   "metadata": {},
   "outputs": [
    {
     "name": "stdout",
     "output_type": "stream",
     "text": [
      "[1 2 3]\n",
      "[4 5 6]\n"
     ]
    }
   ],
   "source": [
    "# Input can be a NumPy array or any array-like object\n",
    "a = [1, 2, 3]\n",
    "b = np.array([4, 5, 6])\n",
    "\n",
    "# Call the function with different inputs\n",
    "print(my_func(a))  # Output: [1 2 3]\n",
    "print(my_func(b))  # Output: [4 5 6]\n"
   ]
  },
  {
   "cell_type": "markdown",
   "id": "39d41d13",
   "metadata": {},
   "source": [
    "## Example 2"
   ]
  },
  {
   "cell_type": "code",
   "execution_count": 26,
   "id": "85bc0e96",
   "metadata": {},
   "outputs": [],
   "source": [
    "def increment(arr):\n",
    "    return np.asanyarray(arr) + 1 "
   ]
  },
  {
   "cell_type": "code",
   "execution_count": 27,
   "id": "21c336ba",
   "metadata": {},
   "outputs": [
    {
     "data": {
      "text/plain": [
       "array([1, 2, 3])"
      ]
     },
     "execution_count": 27,
     "metadata": {},
     "output_type": "execute_result"
    }
   ],
   "source": [
    "ar = np.array([1,2,3])\n",
    "ar"
   ]
  },
  {
   "cell_type": "code",
   "execution_count": 28,
   "id": "8db63352",
   "metadata": {},
   "outputs": [
    {
     "data": {
      "text/plain": [
       "array([2, 3, 4])"
      ]
     },
     "execution_count": 28,
     "metadata": {},
     "output_type": "execute_result"
    }
   ],
   "source": [
    "increment(ar)"
   ]
  },
  {
   "cell_type": "markdown",
   "id": "21ee5112",
   "metadata": {},
   "source": [
    "# *np.ascontiguousarray()*\n",
    "<br>\n",
    "\n",
    "- ### The \"numpy.ascontiguousarray() function\" is used to convert the memory layout of an array into a contiguous layout. This function allows us to organize any array into a contiguous memory layout, which can improve its access speed.\n",
    "<br>\n",
    "\n",
    "- ### When an array's values are stored together in memory, it is called a contiguous layout. However, if the values are stored in different memory locations, it is called a non-contiguous layout, which can result in slower access speeds. Therefore, the ascontiguousarray() function is used to improve the performance of an array.\n",
    "<br>\n",
    "\n",
    "- ### This function is used without copying the data, and if the array is already in a contiguous layout, it will be returned as it is. It is often used when working with large datasets and when we need to improve the performance of an array.\n",
    "<br>\n",
    "\n",
    "# Parameters\n",
    "<br>\n",
    "\n",
    "- ## a Required\n",
    "- ## dtype optional"
   ]
  },
  {
   "cell_type": "code",
   "execution_count": 50,
   "id": "24603d5f",
   "metadata": {},
   "outputs": [
    {
     "data": {
      "text/plain": [
       "array([[1, 2, 3],\n",
       "       [4, 5, 6]], dtype=int32)"
      ]
     },
     "execution_count": 50,
     "metadata": {},
     "output_type": "execute_result"
    }
   ],
   "source": [
    "# create a non-contiguous 2D array\n",
    "arr = np.array([[1, 2, 3], [4, 5, 6]], dtype=np.int32)\n",
    "arr"
   ]
  },
  {
   "cell_type": "code",
   "execution_count": 40,
   "id": "2abcd354",
   "metadata": {},
   "outputs": [
    {
     "name": "stdout",
     "output_type": "stream",
     "text": [
      "Original array:\n",
      "[[1 2 3]\n",
      " [4 5 6]]\n",
      "\n",
      "Stride of the original array:\n",
      "(12, 4)\n"
     ]
    }
   ],
   "source": [
    "print(\"Original array:\")\n",
    "print(arr)\n",
    "print(\"\\nStride of the original array:\")\n",
    "print(arr.strides)"
   ]
  },
  {
   "cell_type": "code",
   "execution_count": 49,
   "id": "f4ff1e02",
   "metadata": {},
   "outputs": [
    {
     "data": {
      "text/plain": [
       "array([[1, 2, 3],\n",
       "       [4, 5, 6]], dtype=int32)"
      ]
     },
     "execution_count": 49,
     "metadata": {},
     "output_type": "execute_result"
    }
   ],
   "source": [
    "# contiguousarray\n",
    "cont_arr = np.ascontiguousarray(arr, dtype=np.int32)\n",
    "cont_arr"
   ]
  },
  {
   "cell_type": "code",
   "execution_count": 48,
   "id": "f0bc97b0",
   "metadata": {},
   "outputs": [
    {
     "name": "stdout",
     "output_type": "stream",
     "text": [
      "Contiguous array:\n",
      "[[1 2 3]\n",
      " [4 5 6]]\n",
      "\n",
      "Stride of the contiguous array:\n",
      "(12, 4)\n"
     ]
    }
   ],
   "source": [
    "print(\"Contiguous array:\")\n",
    "print(cont_arr)\n",
    "print(\"\\nStride of the contiguous array:\")\n",
    "print(cont_arr.strides)"
   ]
  },
  {
   "cell_type": "markdown",
   "id": "bc1993d2",
   "metadata": {},
   "source": [
    "# *np.asmarix()*\n",
    "<br>\n",
    "\n",
    "- ### The \"asmatrix()\" function in NumPy is used to treat 2D arrays like matrices. This function treats a 2D array as a matrix and provides matrix operations and functionality.\n",
    "<br>\n",
    "\n",
    "- ### When we need to perform matrix operations such as matrix multiplication, transpose, inverse, determinant, etc., we use the asmatrix() function. This function converts a 2D array into a matrix and allows us to perform all operations with matrices.\n",
    "<br>\n",
    "\n",
    "- ### When using this function, we can also index the rows and columns of the 2D array. Using this function, we can optimize our code and use built-in functions and operations to perform all operations with matrices.\n",
    "<br>\n",
    "\n",
    "# Parameters\n",
    "<br>\n",
    "\n",
    "- ## data Required\n",
    "- ## dtype optional"
   ]
  },
  {
   "cell_type": "code",
   "execution_count": 51,
   "id": "d1a4ef4f",
   "metadata": {},
   "outputs": [
    {
     "data": {
      "text/plain": [
       "array([[1, 2],\n",
       "       [3, 4]])"
      ]
     },
     "execution_count": 51,
     "metadata": {},
     "output_type": "execute_result"
    }
   ],
   "source": [
    "# creating a 2D array\n",
    "arr = np.array([[1, 2], [3, 4]])\n",
    "arr"
   ]
  },
  {
   "cell_type": "code",
   "execution_count": 52,
   "id": "f03e5611",
   "metadata": {},
   "outputs": [
    {
     "data": {
      "text/plain": [
       "matrix([[1, 2],\n",
       "        [3, 4]])"
      ]
     },
     "execution_count": 52,
     "metadata": {},
     "output_type": "execute_result"
    }
   ],
   "source": [
    "# converting the 2D array to matrix\n",
    "mat = np.asmatrix(arr)\n",
    "mat"
   ]
  },
  {
   "cell_type": "code",
   "execution_count": 53,
   "id": "3e9680ec",
   "metadata": {},
   "outputs": [
    {
     "data": {
      "text/plain": [
       "matrix([[ 7, 10],\n",
       "        [15, 22]])"
      ]
     },
     "execution_count": 53,
     "metadata": {},
     "output_type": "execute_result"
    }
   ],
   "source": [
    "# performing matrix multiplication\n",
    "mul = mat * mat\n",
    "mul"
   ]
  },
  {
   "cell_type": "code",
   "execution_count": 55,
   "id": "4c529e9f",
   "metadata": {},
   "outputs": [
    {
     "data": {
      "text/plain": [
       "array([[ 1,  4],\n",
       "       [ 9, 16]])"
      ]
     },
     "execution_count": 55,
     "metadata": {},
     "output_type": "execute_result"
    }
   ],
   "source": [
    "# now same operation with array\n",
    "arr * arr"
   ]
  },
  {
   "cell_type": "markdown",
   "id": "6e9fee8f",
   "metadata": {},
   "source": [
    "# np.copy()\n",
    "<br>\n",
    "\n",
    "- ## The numpy.copy() function is used to get an array copy of an given object.\n",
    "<br>\n",
    "\n",
    "- ### The copy() function can be useful when you want to make changes to an array without modifying the original array. \n",
    "<br>\n",
    "\n",
    "- ### For example, if you want to perform a series of operations on an array and keep the original array intact, you can create a copy of the original array using the copy() function and perform the operations on the copy. \n",
    "<br>\n",
    "\n",
    "- ### This can also be useful when you want to pass a copy of an array to a function without modifying the original array.\n",
    "<br>\n",
    "\n",
    "# Parameters\n",
    "<br>\n",
    "\n",
    "- ## a Required\n",
    "- ## order optional"
   ]
  },
  {
   "cell_type": "code",
   "execution_count": 56,
   "id": "fc51a5b6",
   "metadata": {},
   "outputs": [
    {
     "data": {
      "text/plain": [
       "array([1, 2, 3])"
      ]
     },
     "execution_count": 56,
     "metadata": {},
     "output_type": "execute_result"
    }
   ],
   "source": [
    "arr = np.array([1,2,3])\n",
    "arr"
   ]
  },
  {
   "cell_type": "code",
   "execution_count": 57,
   "id": "00ad5ab2",
   "metadata": {},
   "outputs": [
    {
     "data": {
      "text/plain": [
       "array([1, 2, 3])"
      ]
     },
     "execution_count": 57,
     "metadata": {},
     "output_type": "execute_result"
    }
   ],
   "source": [
    "temp = arr\n",
    "temp"
   ]
  },
  {
   "cell_type": "code",
   "execution_count": 58,
   "id": "276bf579",
   "metadata": {},
   "outputs": [
    {
     "data": {
      "text/plain": [
       "array([2, 3, 4])"
      ]
     },
     "execution_count": 58,
     "metadata": {},
     "output_type": "execute_result"
    }
   ],
   "source": [
    "## now change in temp\n",
    "temp += 1\n",
    "temp"
   ]
  },
  {
   "cell_type": "code",
   "execution_count": 59,
   "id": "7264fdc8",
   "metadata": {},
   "outputs": [
    {
     "data": {
      "text/plain": [
       "array([2, 3, 4])"
      ]
     },
     "execution_count": 59,
     "metadata": {},
     "output_type": "execute_result"
    }
   ],
   "source": [
    "## now check orignal array\n",
    "arr"
   ]
  },
  {
   "cell_type": "code",
   "execution_count": 60,
   "id": "5f228a1a",
   "metadata": {},
   "outputs": [],
   "source": [
    "# use copy\n",
    "tmp = arr.copy()"
   ]
  },
  {
   "cell_type": "code",
   "execution_count": 61,
   "id": "a2546fb9",
   "metadata": {},
   "outputs": [
    {
     "name": "stdout",
     "output_type": "stream",
     "text": [
      "[2 3 4]\n",
      "[2 3 4]\n"
     ]
    }
   ],
   "source": [
    "print(arr)\n",
    "print(tmp)"
   ]
  },
  {
   "cell_type": "code",
   "execution_count": 62,
   "id": "2198ed53",
   "metadata": {},
   "outputs": [
    {
     "data": {
      "text/plain": [
       "array([3, 4, 5])"
      ]
     },
     "execution_count": 62,
     "metadata": {},
     "output_type": "execute_result"
    }
   ],
   "source": [
    "# now changes in tmp \n",
    "tmp += 1\n",
    "tmp"
   ]
  },
  {
   "cell_type": "code",
   "execution_count": 63,
   "id": "29dfbf7f",
   "metadata": {},
   "outputs": [
    {
     "data": {
      "text/plain": [
       "array([2, 3, 4])"
      ]
     },
     "execution_count": 63,
     "metadata": {},
     "output_type": "execute_result"
    }
   ],
   "source": [
    "## check orignal array\n",
    "arr"
   ]
  },
  {
   "cell_type": "markdown",
   "id": "876c2428",
   "metadata": {},
   "source": [
    "# *np.fromfunction()*\n",
    "<br>\n",
    "\n",
    "- ### The \"numpy.fromfunction()\" function is used to create a new ndarray from the output of a user-defined function. This function takes a user-defined function as input, which calculates an output value using the input shape and index. Then this function creates a new ndarray from these output values.\n",
    "<br>\n",
    "\n",
    "- ### This function is generally used for large datasets, where it is not possible to manually generate data. With the help of this function, we can generate data using a user-defined function that satisfies our data requirements.\n",
    "<br>\n",
    "\n",
    "- ### By using this function, we do not need to manually generate data, and we can obtain data generated using a user-defined function. This function is very useful, especially in fields such as scientific computing and machine learning, where data generation is required.\n",
    "<br>\n",
    "\n",
    "# Parameters\n",
    "<br>\n",
    "\n",
    "- ## function Required\n",
    "- ## shape Required\n",
    "- ## dtype optional\n"
   ]
  },
  {
   "cell_type": "code",
   "execution_count": 66,
   "id": "837d4bf6",
   "metadata": {},
   "outputs": [],
   "source": [
    "def generate(i, j):\n",
    "    return (i+1)*(j+1)"
   ]
  },
  {
   "cell_type": "code",
   "execution_count": 68,
   "id": "08464bad",
   "metadata": {},
   "outputs": [
    {
     "data": {
      "text/plain": [
       "18"
      ]
     },
     "execution_count": 68,
     "metadata": {},
     "output_type": "execute_result"
    }
   ],
   "source": [
    "generate(5,2) # 6 * 2 = 12"
   ]
  },
  {
   "cell_type": "code",
   "execution_count": 70,
   "id": "564b89ac",
   "metadata": {},
   "outputs": [
    {
     "data": {
      "text/plain": [
       "array([[ 1.,  2.],\n",
       "       [ 2.,  4.],\n",
       "       [ 3.,  6.],\n",
       "       [ 4.,  8.],\n",
       "       [ 5., 10.]])"
      ]
     },
     "execution_count": 70,
     "metadata": {},
     "output_type": "execute_result"
    }
   ],
   "source": [
    "# now use in numpy\n",
    "np.fromfunction(generate,shape=(5,2))"
   ]
  },
  {
   "cell_type": "markdown",
   "id": "c1a9a2e8",
   "metadata": {},
   "source": [
    "# *np.fromiter()*\n",
    "<br>\n",
    "\n",
    "- ### The \"numpy.fromiter()\" function is used to create a new ndarray from an iterator. In this function, we take an iterator as input and create a new ndarray from its elements.\n",
    "<br>\n",
    "\n",
    "- ### This function is generally used to read data from an existing sequence or data source. Using an iterator to read data has the advantage of improving memory consumption and the overall performance of the program.\n",
    "<br>\n",
    "\n",
    "- ### With the help of this function, we can read data from any iterable object, such as a file, list, tuple, generator, etc. This function is an efficient way to read data, especially when working with large datasets.\n",
    "<br>\n",
    "\n",
    "- ### When using this function, we need to specify the data type of the iterator's elements so that the function knows which type of values to read.\n",
    "<br>\n",
    "\n",
    "# Parameters\n",
    "<br>\n",
    "\n",
    "- ## iterable Required\n",
    "- ## dtype Required\n",
    "- ## count optional\n",
    "\n"
   ]
  },
  {
   "cell_type": "code",
   "execution_count": 71,
   "id": "23dbca04",
   "metadata": {},
   "outputs": [
    {
     "data": {
      "text/plain": [
       "[1, 2, 3, 4, 5, 6, 7, 8]"
      ]
     },
     "execution_count": 71,
     "metadata": {},
     "output_type": "execute_result"
    }
   ],
   "source": [
    "lst = [1,2,3,4,5,6,7,8]\n",
    "lst"
   ]
  },
  {
   "cell_type": "code",
   "execution_count": 74,
   "id": "b6003e24",
   "metadata": {},
   "outputs": [
    {
     "data": {
      "text/plain": [
       "array([1, 2, 3, 4, 5, 6, 7, 8])"
      ]
     },
     "execution_count": 74,
     "metadata": {},
     "output_type": "execute_result"
    }
   ],
   "source": [
    "np.fromiter(iter=lst,dtype=int)"
   ]
  },
  {
   "cell_type": "code",
   "execution_count": 79,
   "id": "be14be63",
   "metadata": {},
   "outputs": [
    {
     "data": {
      "text/plain": [
       "array([1, 2, 3, 4, 5])"
      ]
     },
     "execution_count": 79,
     "metadata": {},
     "output_type": "execute_result"
    }
   ],
   "source": [
    "np.fromiter(iter=lst,dtype=int,count=5)"
   ]
  },
  {
   "cell_type": "markdown",
   "id": "8792dec4",
   "metadata": {},
   "source": [
    "- ### We use np.fromiter() function to create a new NumPy array from an iterable object like a file, list, tuple, or generator. This function provides an efficient way to read data from the iterable object and create a NumPy array without reading the entire object into memory at once.\n",
    "<br>\n",
    "\n",
    "- ### By using np.fromiter(), we can process data in a stream-like fashion, one element at a time, which helps to reduce memory consumption and improve overall program performance, especially when dealing with large datasets.\n",
    "<br>\n",
    "\n",
    "- ### Additionally, we can specify the data type of the elements in the iterable object, which allows NumPy to create a new array with the desired data type. This function is particularly useful when working with data from an external source where we need to read the data in chunks and process it on the fly\n",
    "<br>\n",
    "\n",
    "# Parameters\n",
    "<br>\n",
    "\n",
    "- ## string Required\n",
    "- ## dtype optional\n",
    "- ## count optional\n",
    "- ## sep optional"
   ]
  },
  {
   "cell_type": "markdown",
   "id": "0b975275",
   "metadata": {},
   "source": [
    "# *np.fromstring()*\n",
    "<br>\n",
    "\n",
    "- ### The \"np.fromstring()\" function is a NumPy library function used to create a NumPy array from a string. In this function, we provide a string as input, whose format is in a specified data type format, such as integer, float, etc.\n",
    "<br>\n",
    "\n",
    "- ### This function is very useful when we have data available in a string format and we want to convert that data into a NumPy array format. When using this function, we need to specify the format and data type of the string, so that the function knows how to convert the data.\n",
    "<br>\n",
    "\n",
    "- ### We also need to specify the encoding of the string in this function, such as ASCII, Unicode, etc. By using this function, we can convert data available in any string format into a NumPy array format, allowing us to easily manipulate the data, such as slicing, indexing, mathematical operations, etc."
   ]
  },
  {
   "cell_type": "code",
   "execution_count": 80,
   "id": "0a68e767",
   "metadata": {},
   "outputs": [
    {
     "data": {
      "text/plain": [
       "'1,2,3,4,5'"
      ]
     },
     "execution_count": 80,
     "metadata": {},
     "output_type": "execute_result"
    }
   ],
   "source": [
    "st = \"1,2,3,4,5\"\n",
    "st"
   ]
  },
  {
   "cell_type": "code",
   "execution_count": 85,
   "id": "3c7718b3",
   "metadata": {},
   "outputs": [
    {
     "data": {
      "text/plain": [
       "array([1, 2, 3, 4, 5])"
      ]
     },
     "execution_count": 85,
     "metadata": {},
     "output_type": "execute_result"
    }
   ],
   "source": [
    "np.fromstring(st,dtype=int,sep=\",\")"
   ]
  },
  {
   "cell_type": "code",
   "execution_count": 86,
   "id": "96acab73",
   "metadata": {},
   "outputs": [
    {
     "data": {
      "text/plain": [
       "array([1, 2, 3])"
      ]
     },
     "execution_count": 86,
     "metadata": {},
     "output_type": "execute_result"
    }
   ],
   "source": [
    "np.fromstring(st,dtype=int,sep=\",\",count=3)"
   ]
  }
 ],
 "metadata": {
  "kernelspec": {
   "display_name": "Python 3 (ipykernel)",
   "language": "python",
   "name": "python3"
  },
  "language_info": {
   "codemirror_mode": {
    "name": "ipython",
    "version": 3
   },
   "file_extension": ".py",
   "mimetype": "text/x-python",
   "name": "python",
   "nbconvert_exporter": "python",
   "pygments_lexer": "ipython3",
   "version": "3.10.6"
  }
 },
 "nbformat": 4,
 "nbformat_minor": 5
}

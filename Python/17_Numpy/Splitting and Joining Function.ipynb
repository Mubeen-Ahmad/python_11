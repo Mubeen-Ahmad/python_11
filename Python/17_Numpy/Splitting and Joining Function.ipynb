{
 "cells": [
  {
   "cell_type": "markdown",
   "id": "e39f59f7",
   "metadata": {},
   "source": [
    "# Splitting Functions"
   ]
  },
  {
   "cell_type": "markdown",
   "id": "b40a22b2",
   "metadata": {},
   "source": [
    "- ## *np.hsplit()*\n",
    "- ## *np.vsplit()*\n",
    "- ## *np.dsplit()*\n",
    "- ## *np.array_split()*\n",
    "- ## *np.split()*"
   ]
  },
  {
   "cell_type": "markdown",
   "id": "40851301",
   "metadata": {},
   "source": [
    "# Joinning Functions"
   ]
  },
  {
   "cell_type": "markdown",
   "id": "5c3e8229",
   "metadata": {},
   "source": [
    "- ## *np.hstack()*\n",
    "- ## *np.vstack()*\n",
    "- ## *np.block()*\n",
    "- ## *np.column_stack()*\n",
    "- ## *np.dstack()*\n",
    "- ## *np.stack()*\n",
    "- ## *np.concatenate()*\n"
   ]
  },
  {
   "cell_type": "markdown",
   "id": "3096f260",
   "metadata": {},
   "source": [
    "# *np.hsplit()*\n",
    "<br>\n",
    "\n",
    "- ### In NumPy, the np.hsplit() function is used to split an array into multiple sub-arrays along the horizontal axis. \n",
    "<br>\n",
    "\n",
    "- ### By using the hsplit() function, we can split an array into multiple sub-arrays along the horizontal axis. \n",
    "<br>\n",
    "\n",
    "- ### The value of the indices_or_sections argument defines how many parts the array should be split into. If indices_or_sections is an integer value, then the array will be split into equal parts. \n",
    "<br>\n",
    "\n",
    "- ### If indices_or_sections is a 1D array, then the array will be split at the points defined along the horizontal axis.\n",
    "<br>\n",
    "\n",
    "- ### The hsplit() function is used in array manipulation, where we want to split a specific section of the array or divide it into sub-arrays.\n",
    "<br>\n",
    "\n",
    "## hsplit() function splits an array horizontally along its 1st axis.\n",
    "<br>\n",
    "\n",
    "# Parameters\n",
    "<br>\n",
    "\n",
    "- ## ary Required\n",
    "- ## indices_or_sections Required"
   ]
  },
  {
   "cell_type": "code",
   "execution_count": 1,
   "id": "9dd7098b",
   "metadata": {},
   "outputs": [],
   "source": [
    "import numpy as np"
   ]
  },
  {
   "cell_type": "code",
   "execution_count": 2,
   "id": "2f6864fc",
   "metadata": {},
   "outputs": [
    {
     "data": {
      "text/plain": [
       "array([[ 1,  2,  3,  4],\n",
       "       [ 5,  6,  7,  8],\n",
       "       [ 9, 10, 11, 12]])"
      ]
     },
     "execution_count": 2,
     "metadata": {},
     "output_type": "execute_result"
    }
   ],
   "source": [
    "arr = np.array([[1,2,3,4],[5,6,7,8],[9,10,11,12]])\n",
    "arr"
   ]
  },
  {
   "cell_type": "code",
   "execution_count": 3,
   "id": "a5fb5227",
   "metadata": {},
   "outputs": [
    {
     "data": {
      "text/plain": [
       "(3, 4)"
      ]
     },
     "execution_count": 3,
     "metadata": {},
     "output_type": "execute_result"
    }
   ],
   "source": [
    "arr.shape"
   ]
  },
  {
   "cell_type": "code",
   "execution_count": 4,
   "id": "e1ee7fe5",
   "metadata": {},
   "outputs": [
    {
     "data": {
      "text/plain": [
       "[array([[ 1,  2],\n",
       "        [ 5,  6],\n",
       "        [ 9, 10]]),\n",
       " array([[ 3,  4],\n",
       "        [ 7,  8],\n",
       "        [11, 12]])]"
      ]
     },
     "execution_count": 4,
     "metadata": {},
     "output_type": "execute_result"
    }
   ],
   "source": [
    "np.hsplit(ary=arr,indices_or_sections=2)"
   ]
  },
  {
   "cell_type": "code",
   "execution_count": 5,
   "id": "f5b32379",
   "metadata": {},
   "outputs": [],
   "source": [
    "arr1 , arr2 = np.hsplit(ary=arr,indices_or_sections=2)"
   ]
  },
  {
   "cell_type": "code",
   "execution_count": 6,
   "id": "025907ac",
   "metadata": {},
   "outputs": [
    {
     "name": "stdout",
     "output_type": "stream",
     "text": [
      "[[ 1  2]\n",
      " [ 5  6]\n",
      " [ 9 10]]\n",
      "\n",
      "[[ 3  4]\n",
      " [ 7  8]\n",
      " [11 12]]\n"
     ]
    }
   ],
   "source": [
    "print(arr1)\n",
    "print()\n",
    "print(arr2)"
   ]
  },
  {
   "cell_type": "markdown",
   "id": "ba3a72d3",
   "metadata": {},
   "source": [
    "# *np.vsplit()*\n",
    "<br>\n",
    "\n",
    "- ### In NumPy, the vsplit() function is used to split an array into multiple sub-arrays along the vertical axis. When we split an array with the horizontal axis, we use the hsplit() function. But if we want to split an array along the vertical axis, we use the vsplit() function.\n",
    "<br>\n",
    "\n",
    "- ### By using the vsplit() function, we can split an array into multiple sub-arrays along the vertical axis. The value of the indices_or_sections argument defines how many parts we want to split the array into. \n",
    "<br>\n",
    "\n",
    "- ### If the indices_or_sections value is an integer, the array will be split into equal parts. If the indices_or_sections value is a 1D array, the array will be split at the points defined along the vertical axis.\n",
    "<br>\n",
    "\n",
    "- ### We use the vsplit() function in array manipulation, where we want to split a specific section of the array into sub-arrays.\n",
    "<br>\n",
    "\n",
    "## vsplit() function splits an array vertically along its 2nd axis.\n",
    "\n",
    "<br>\n",
    "\n",
    "# Parameters\n",
    "<br>\n",
    "\n",
    "- ## ary Required\n",
    "- ## indices_or_sections Required"
   ]
  },
  {
   "cell_type": "code",
   "execution_count": 7,
   "id": "c8233613",
   "metadata": {},
   "outputs": [
    {
     "data": {
      "text/plain": [
       "array([[ 1,  2,  3,  4],\n",
       "       [ 5,  6,  7,  8],\n",
       "       [ 9, 10, 11, 12]])"
      ]
     },
     "execution_count": 7,
     "metadata": {},
     "output_type": "execute_result"
    }
   ],
   "source": [
    "arr"
   ]
  },
  {
   "cell_type": "code",
   "execution_count": 8,
   "id": "8c621c14",
   "metadata": {},
   "outputs": [
    {
     "data": {
      "text/plain": [
       "[array([[1, 2, 3, 4]]), array([[5, 6, 7, 8]]), array([[ 9, 10, 11, 12]])]"
      ]
     },
     "execution_count": 8,
     "metadata": {},
     "output_type": "execute_result"
    }
   ],
   "source": [
    "np.vsplit(ary=arr,indices_or_sections=3) # divide into 3 parts"
   ]
  },
  {
   "cell_type": "code",
   "execution_count": 9,
   "id": "0533fed5",
   "metadata": {},
   "outputs": [
    {
     "name": "stdout",
     "output_type": "stream",
     "text": [
      "[[1 2 3 4]] \n",
      "\n",
      "[[5 6 7 8]] \n",
      "\n",
      "[[ 9 10 11 12]]\n"
     ]
    }
   ],
   "source": [
    "arr1, arr2, arr3 = np.vsplit(ary=arr,indices_or_sections=3)\n",
    "print(arr1,\"\\n\")\n",
    "print(arr2,\"\\n\")\n",
    "print(arr3)"
   ]
  },
  {
   "cell_type": "markdown",
   "id": "65c4b51b",
   "metadata": {},
   "source": [
    "# *np.dsplit()*\n",
    "<br>\n",
    "\n",
    "- ### In NumPy, the np.dsplit() function is used to split an array into multiple sub-arrays along the depth (3rd axis). While hsplit() function is used to split an array along the horizontal axis and vsplit() function is used to split an array along the vertical axis.\n",
    "<br>\n",
    "\n",
    "- ### By using the dsplit() function, we can split an array into multiple sub-arrays along the depth (3rd axis). The value of the indices_or_sections argument defines how many parts we want to split the array into. \n",
    "<br>\n",
    "\n",
    "- ### If indices_or_sections is an integer value, the array is split into equal parts. If it is a 1D array, the array is split at the points defined along the depth (3rd axis).\n",
    "<br>\n",
    "\n",
    "- ### The dsplit() function is used in array manipulation where we want to split a specific section of an array or divide it into sub-arrays.\n",
    "\n",
    "# Parameters\n",
    "<br>\n",
    "\n",
    "- ## ary Required\n",
    "- ## indices_or_sections Required"
   ]
  },
  {
   "cell_type": "code",
   "execution_count": 10,
   "id": "d9c2ce7c",
   "metadata": {},
   "outputs": [
    {
     "data": {
      "text/plain": [
       "array([[[ 0,  1,  2,  3],\n",
       "        [ 4,  5,  6,  7],\n",
       "        [ 8,  9, 10, 11]]])"
      ]
     },
     "execution_count": 10,
     "metadata": {},
     "output_type": "execute_result"
    }
   ],
   "source": [
    "# need 3d ARRAY\n",
    "arr = np.arange(12).reshape((1,3, 4))\n",
    "arr"
   ]
  },
  {
   "cell_type": "code",
   "execution_count": 11,
   "id": "0e3b1c45",
   "metadata": {},
   "outputs": [
    {
     "data": {
      "text/plain": [
       "(1, 3, 4)"
      ]
     },
     "execution_count": 11,
     "metadata": {},
     "output_type": "execute_result"
    }
   ],
   "source": [
    "arr.shape # "
   ]
  },
  {
   "cell_type": "code",
   "execution_count": 12,
   "id": "c461cdd4",
   "metadata": {},
   "outputs": [
    {
     "data": {
      "text/plain": [
       "[array([[[0, 1],\n",
       "         [4, 5],\n",
       "         [8, 9]]]),\n",
       " array([[[ 2,  3],\n",
       "         [ 6,  7],\n",
       "         [10, 11]]])]"
      ]
     },
     "execution_count": 12,
     "metadata": {},
     "output_type": "execute_result"
    }
   ],
   "source": [
    "# array have 4 columns do divide by 2\n",
    "np.dsplit(ary=arr,indices_or_sections=2)"
   ]
  },
  {
   "cell_type": "code",
   "execution_count": 13,
   "id": "75f6799e",
   "metadata": {},
   "outputs": [
    {
     "name": "stdout",
     "output_type": "stream",
     "text": [
      "[[[0 1]\n",
      "  [4 5]\n",
      "  [8 9]]] \n",
      "\n",
      "[[[ 2  3]\n",
      "  [ 6  7]\n",
      "  [10 11]]]\n"
     ]
    }
   ],
   "source": [
    "arr1 , arr2 = np.dsplit(ary=arr,indices_or_sections=2)\n",
    "print(arr1,\"\\n\")\n",
    "print(arr2)"
   ]
  },
  {
   "cell_type": "markdown",
   "id": "bf0fabc6",
   "metadata": {},
   "source": [
    "# *np.array_split()*\n",
    "<br>\n",
    "\n",
    "- ### In NumPy, the np.array_split() function is used to split an array into multiple sub-arrays. However, the difference is that no specific axis of the array is specified in this function. When using this function, we are not splitting the array along any particular axis.\n",
    "<br>\n",
    "\n",
    "- ### Using the array_split() function, we can split an array into multiple sub-arrays. The value of the indices_or_sections argument determines how many parts the array is split into. \n",
    "<br>\n",
    "\n",
    "- ### If indices_or_sections is an integer value, the array will be split into approximately equal parts. If indices_or_sections is a 1D array, the array will be split at the points specified along the axis of the array.\n",
    "<br>\n",
    "\n",
    "- ### When using this function, we are not splitting the array along any particular axis. If we use the hsplit(), vsplit(), or dsplit() functions, we explicitly specify the horizontal, vertical, or depth axis, respectively. However, the axis argument is optional in the array_split() function, and if we do not specify it, the default value of axis=0 is assumed.\n",
    "<br>\n",
    "\n",
    "# Parameters\n",
    "<br>\n",
    "\n",
    "- ## ary Required\n",
    "- ## indices_or_sections Required\n",
    "- ## axis Optional"
   ]
  },
  {
   "cell_type": "code",
   "execution_count": 14,
   "id": "90537dcd",
   "metadata": {},
   "outputs": [
    {
     "data": {
      "text/plain": [
       "array([[[ 0,  1,  2,  3],\n",
       "        [ 4,  5,  6,  7],\n",
       "        [ 8,  9, 10, 11]]])"
      ]
     },
     "execution_count": 14,
     "metadata": {},
     "output_type": "execute_result"
    }
   ],
   "source": [
    "arr"
   ]
  },
  {
   "cell_type": "code",
   "execution_count": 15,
   "id": "f7a5dff4",
   "metadata": {},
   "outputs": [
    {
     "data": {
      "text/plain": [
       "[array([[[0, 1, 2, 3],\n",
       "         [4, 5, 6, 7]]]),\n",
       " array([[[ 8,  9, 10, 11]]])]"
      ]
     },
     "execution_count": 15,
     "metadata": {},
     "output_type": "execute_result"
    }
   ],
   "source": [
    "np.array_split(ary=arr,indices_or_sections=2,axis=1)"
   ]
  },
  {
   "cell_type": "code",
   "execution_count": 16,
   "id": "b693465f",
   "metadata": {},
   "outputs": [],
   "source": [
    "arr1,arr2 = np.array_split(ary=arr,indices_or_sections=2,axis=1)"
   ]
  },
  {
   "cell_type": "code",
   "execution_count": 17,
   "id": "f435cdfc",
   "metadata": {},
   "outputs": [
    {
     "name": "stdout",
     "output_type": "stream",
     "text": [
      "[[[0 1 2 3]\n",
      "  [4 5 6 7]]] \n",
      "\n",
      "[[[ 8  9 10 11]]]\n"
     ]
    }
   ],
   "source": [
    "print(arr1,\"\\n\")\n",
    "print(arr2)"
   ]
  },
  {
   "cell_type": "code",
   "execution_count": 18,
   "id": "419816f7",
   "metadata": {},
   "outputs": [
    {
     "data": {
      "text/plain": [
       "array([1, 2, 3, 4, 5, 6, 7, 8, 9])"
      ]
     },
     "execution_count": 18,
     "metadata": {},
     "output_type": "execute_result"
    }
   ],
   "source": [
    "arr = np.array([1, 2, 3, 4, 5, 6, 7, 8, 9])\n",
    "arr"
   ]
  },
  {
   "cell_type": "code",
   "execution_count": 19,
   "id": "5c34d9f9",
   "metadata": {},
   "outputs": [
    {
     "data": {
      "text/plain": [
       "[array([1, 2, 3]), array([4, 5, 6]), array([7, 8, 9])]"
      ]
     },
     "execution_count": 19,
     "metadata": {},
     "output_type": "execute_result"
    }
   ],
   "source": [
    "np.array_split(ary=arr,indices_or_sections=3,axis=0)"
   ]
  },
  {
   "cell_type": "code",
   "execution_count": 20,
   "id": "3359152c",
   "metadata": {},
   "outputs": [],
   "source": [
    "arr1 , arr2, arr3 = np.array_split(ary=arr,indices_or_sections=3,axis=0)"
   ]
  },
  {
   "cell_type": "code",
   "execution_count": 21,
   "id": "bf7ef07f",
   "metadata": {},
   "outputs": [
    {
     "name": "stdout",
     "output_type": "stream",
     "text": [
      "[1 2 3] \n",
      "\n",
      "[4 5 6] \n",
      "\n",
      "[7 8 9]\n"
     ]
    }
   ],
   "source": [
    "print(arr1,\"\\n\")\n",
    "print(arr2,\"\\n\")\n",
    "print(arr3)"
   ]
  },
  {
   "cell_type": "markdown",
   "id": "de2a984d",
   "metadata": {},
   "source": [
    "# *np.split()*\n",
    "<br>\n",
    "\n",
    "- ### In NumPy, the split() function is used to split an array into multiple sub-arrays. In this function, we can explicitly specify which axis we want to use to split the array.\n",
    "<br>\n",
    "\n",
    "- ### Using the split() function, we can split an array into multiple sub-arrays. The value of the indices_or_sections argument defines how many parts we want to split the array into. \n",
    "<br>\n",
    "\n",
    "- ### If the indices_or_sections value is an integer, the array will be split into approximately equal parts. If the indices_or_sections value is a 1D array, the array will be split at the points defined on the specified axis.\n",
    "<br>\n",
    "\n",
    "- ### In this function, we can explicitly specify which axis we want to use to split the array. If we use the hsplit(), vsplit(), or dsplit() functions, we explicitly specify the horizontal, vertical, or depth axis. However, in the split() function, the axis argument is optional, and if we do not specify it, the default value of axis=0 will be assumed.\n",
    "<br>\n",
    "\n",
    "\n",
    "# Parameters\n",
    "<br>\n",
    "\n",
    "- ## ary Required\n",
    "- ## indices_or_sections Required\n",
    "- ## axis Optional"
   ]
  },
  {
   "cell_type": "code",
   "execution_count": 22,
   "id": "2bd434e3",
   "metadata": {},
   "outputs": [
    {
     "data": {
      "text/plain": [
       "array([[ 0,  1,  2,  3],\n",
       "       [ 4,  5,  6,  7],\n",
       "       [ 8,  9, 10, 11],\n",
       "       [12, 13, 14, 15]])"
      ]
     },
     "execution_count": 22,
     "metadata": {},
     "output_type": "execute_result"
    }
   ],
   "source": [
    "arr = np.arange(16).reshape(4,4)\n",
    "arr"
   ]
  },
  {
   "cell_type": "code",
   "execution_count": 23,
   "id": "78dd6f6f",
   "metadata": {},
   "outputs": [
    {
     "data": {
      "text/plain": [
       "[array([[0, 1, 2, 3],\n",
       "        [4, 5, 6, 7]]),\n",
       " array([[ 8,  9, 10, 11],\n",
       "        [12, 13, 14, 15]])]"
      ]
     },
     "execution_count": 23,
     "metadata": {},
     "output_type": "execute_result"
    }
   ],
   "source": [
    "np.split(ary=arr,indices_or_sections=2) # default axis is 0\n",
    "# axis 0 means split vertical wise"
   ]
  },
  {
   "cell_type": "code",
   "execution_count": 24,
   "id": "705c83da",
   "metadata": {},
   "outputs": [
    {
     "data": {
      "text/plain": [
       "[array([[0, 1, 2, 3],\n",
       "        [4, 5, 6, 7]]),\n",
       " array([[ 8,  9, 10, 11],\n",
       "        [12, 13, 14, 15]])]"
      ]
     },
     "execution_count": 24,
     "metadata": {},
     "output_type": "execute_result"
    }
   ],
   "source": [
    "np.split(ary=arr,indices_or_sections=2,axis=0) # use axis 0"
   ]
  },
  {
   "cell_type": "code",
   "execution_count": 25,
   "id": "8d79fedd",
   "metadata": {},
   "outputs": [
    {
     "data": {
      "text/plain": [
       "[array([[ 0,  1],\n",
       "        [ 4,  5],\n",
       "        [ 8,  9],\n",
       "        [12, 13]]),\n",
       " array([[ 2,  3],\n",
       "        [ 6,  7],\n",
       "        [10, 11],\n",
       "        [14, 15]])]"
      ]
     },
     "execution_count": 25,
     "metadata": {},
     "output_type": "execute_result"
    }
   ],
   "source": [
    "np.split(ary=arr,indices_or_sections=2,axis=1) # use axis 1 dor split horinzontal wise"
   ]
  },
  {
   "cell_type": "markdown",
   "id": "84201b29",
   "metadata": {},
   "source": [
    "# *np.hstack()*\n",
    "<br>\n",
    "\n",
    "- ### In NumPy, the hstack() function is used to concatenate two or more arrays along the horizontal axis. It is important to note that before using this function, the number of rows in the arrays should be the same, but the number of columns can be different.\n",
    "<br>\n",
    "\n",
    "- ### The syntax for hstack() function is numpy.hstack(tup), where tup is a tuple of ndarrays.\n",
    "<br>\n",
    "\n",
    "- ### By using hstack() function, we can concatenate two or more arrays along the horizontal axis. However, before concatenating the arrays, the number of rows in them should be the same, but the number of columns can be different. \n",
    "<br>\n",
    "\n",
    "- ### After concatenating the arrays, the output array will have the same dimensions as the input arrays.\n",
    "<br>\n",
    "\n",
    "- ### To use this function, we first pass the arrays that we want to concatenate in the tuple argument, and then use the hstack() function to concatenate these arrays along the horizontal axis."
   ]
  },
  {
   "cell_type": "code",
   "execution_count": 26,
   "id": "48d9d69a",
   "metadata": {},
   "outputs": [
    {
     "name": "stdout",
     "output_type": "stream",
     "text": [
      "[[1 2 3]]\n",
      "[[1 2 3]]\n"
     ]
    }
   ],
   "source": [
    "arr1 = np.arange(1,4).reshape(1,3)\n",
    "arr2 = np.arange(4,7).reshape(1,3)\n",
    "\n",
    "print(arr1)\n",
    "print(arr1)"
   ]
  },
  {
   "cell_type": "code",
   "execution_count": 27,
   "id": "80247fa4",
   "metadata": {},
   "outputs": [
    {
     "data": {
      "text/plain": [
       "array([[1, 2, 3, 4, 5, 6]])"
      ]
     },
     "execution_count": 27,
     "metadata": {},
     "output_type": "execute_result"
    }
   ],
   "source": [
    "np.hstack((arr1,arr2)) # ? why horizontal stack not work ?\n",
    "# this arrays are verticle form"
   ]
  },
  {
   "cell_type": "markdown",
   "id": "4c122514",
   "metadata": {},
   "source": [
    "## Again read this line \n",
    "<br>\n",
    "\n",
    "- ### It is important to note that before using this function, the number of rows in the arrays should be the same, but the number of columns can be different."
   ]
  },
  {
   "cell_type": "code",
   "execution_count": 28,
   "id": "cf9b00d6",
   "metadata": {},
   "outputs": [
    {
     "name": "stdout",
     "output_type": "stream",
     "text": [
      "[[1]\n",
      " [2]\n",
      " [3]]\n",
      "[[4]\n",
      " [5]\n",
      " [6]]\n"
     ]
    }
   ],
   "source": [
    "# so change the column of 1 array\n",
    "\n",
    "arr1 = np.arange(1,4).reshape(3,1)\n",
    "arr2 = np.arange(4,7).reshape(3,1)\n",
    "\n",
    "print(arr1)\n",
    "print(arr2)"
   ]
  },
  {
   "cell_type": "code",
   "execution_count": 29,
   "id": "08d3f4a5",
   "metadata": {},
   "outputs": [
    {
     "data": {
      "text/plain": [
       "array([[1, 4],\n",
       "       [2, 5],\n",
       "       [3, 6]])"
      ]
     },
     "execution_count": 29,
     "metadata": {},
     "output_type": "execute_result"
    }
   ],
   "source": [
    "np.hstack((arr1,arr2)) "
   ]
  },
  {
   "cell_type": "code",
   "execution_count": 30,
   "id": "d5d232c6",
   "metadata": {},
   "outputs": [
    {
     "data": {
      "text/plain": [
       "array([[1., 4.],\n",
       "       [2., 5.],\n",
       "       [3., 6.]])"
      ]
     },
     "execution_count": 30,
     "metadata": {},
     "output_type": "execute_result"
    }
   ],
   "source": [
    "np.hstack((arr1,arr2),dtype=float)  # use dtype"
   ]
  },
  {
   "cell_type": "markdown",
   "id": "ba38b337",
   "metadata": {},
   "source": [
    "# *np.vstack()*\n",
    "<br>\n",
    "\n",
    "- ### In NumPy, the vstack() function is used to concatenate two or more arrays along the vertical axis. Before using this function, \n",
    "<br> \n",
    "\n",
    "## we need to make sure that the number of columns in the arrays is the same, *but the number of rows can be different.*\n",
    "\n",
    "<br>\n",
    "\n",
    "- ### The syntax for the vstack() function is numpy.vstack(tup), where tup is a tuple of ndarrays.\n",
    "<br>\n",
    "\n",
    "- ### By using the vstack() function, we can concatenate two or more arrays along the vertical axis. Before concatenating, we need to make sure that the number of columns in the arrays is the same, but the number of rows can be different. After concatenating, the output array will have the same dimensions as the input arrays.\n",
    "<br>\n",
    "\n",
    "- ### To use this function, we first pass the arrays we want to concatenate in the tuple argument tuple and then use the vstack() function to concatenate these arrays along the vertical axis."
   ]
  },
  {
   "cell_type": "code",
   "execution_count": 33,
   "id": "c263d6fe",
   "metadata": {},
   "outputs": [
    {
     "data": {
      "text/plain": [
       "array([[1],\n",
       "       [2],\n",
       "       [3]])"
      ]
     },
     "execution_count": 33,
     "metadata": {},
     "output_type": "execute_result"
    }
   ],
   "source": [
    "arr1"
   ]
  },
  {
   "cell_type": "code",
   "execution_count": 34,
   "id": "ecbb9068",
   "metadata": {},
   "outputs": [
    {
     "data": {
      "text/plain": [
       "array([[4],\n",
       "       [5],\n",
       "       [6]])"
      ]
     },
     "execution_count": 34,
     "metadata": {},
     "output_type": "execute_result"
    }
   ],
   "source": [
    "arr2"
   ]
  },
  {
   "cell_type": "code",
   "execution_count": 40,
   "id": "b7c35f4a",
   "metadata": {},
   "outputs": [],
   "source": [
    "arr1 = arr1.T # transpose arr1\n",
    "arr2 = arr2.T  # transpose arr2"
   ]
  },
  {
   "cell_type": "code",
   "execution_count": 41,
   "id": "d6c15348",
   "metadata": {},
   "outputs": [
    {
     "data": {
      "text/plain": [
       "array([[1, 2, 3]])"
      ]
     },
     "execution_count": 41,
     "metadata": {},
     "output_type": "execute_result"
    }
   ],
   "source": [
    "arr1"
   ]
  },
  {
   "cell_type": "code",
   "execution_count": 42,
   "id": "ba466d93",
   "metadata": {},
   "outputs": [
    {
     "data": {
      "text/plain": [
       "array([[4, 5, 6]])"
      ]
     },
     "execution_count": 42,
     "metadata": {},
     "output_type": "execute_result"
    }
   ],
   "source": [
    "arr2"
   ]
  },
  {
   "cell_type": "code",
   "execution_count": 43,
   "id": "de18da35",
   "metadata": {},
   "outputs": [
    {
     "data": {
      "text/plain": [
       "array([[1, 2, 3],\n",
       "       [4, 5, 6]])"
      ]
     },
     "execution_count": 43,
     "metadata": {},
     "output_type": "execute_result"
    }
   ],
   "source": [
    "np.vstack((arr1,arr2))"
   ]
  },
  {
   "cell_type": "markdown",
   "id": "23e61b8f",
   "metadata": {},
   "source": [
    "# *np.block()*\n",
    "<br>\n",
    "\n",
    "- ### In NumPy, the block() function is used to divide arrays into sub-blocks. This function concatenates multiple arrays in a similar way to hstack() and vstack() functions, but in this function, we divide arrays into sub-blocks before concatenating them.\n",
    "<br>\n",
    "\n",
    "- ### The syntax of the block() function is numpy.block(arrays), where arrays is a tuple of ndarrays.\n",
    "<br>\n",
    "\n",
    "- ### By using the block() function, we can divide multiple arrays into sub-blocks. We pass multiple arrays in a tuple and then create sub-blocks and concatenate them. In this function, we can also concatenate sub-blocks by slicing them.\n",
    "<br>\n",
    "\n",
    "- ### The block() function is different from hstack() and vstack() functions because we can divide multiple arrays into sub-blocks with different shapes. Before using this function, we need to consider the shapes of sub-blocks, while in hstack() and vstack() functions, we only need the numbers of rows or columns to be equal.\n",
    "<br>\n",
    "\n",
    "- # np.block() concatenates in verticle wise"
   ]
  },
  {
   "cell_type": "code",
   "execution_count": 77,
   "id": "a47272c1",
   "metadata": {},
   "outputs": [
    {
     "data": {
      "text/plain": [
       "array([[1],\n",
       "       [2]])"
      ]
     },
     "execution_count": 77,
     "metadata": {},
     "output_type": "execute_result"
    }
   ],
   "source": [
    "# EXAMPLE 1\n",
    "np.block([[1],[2]])"
   ]
  },
  {
   "cell_type": "code",
   "execution_count": 61,
   "id": "60e323f2",
   "metadata": {},
   "outputs": [
    {
     "data": {
      "text/plain": [
       "array([[1, 2],\n",
       "       [3, 4]])"
      ]
     },
     "execution_count": 61,
     "metadata": {},
     "output_type": "execute_result"
    }
   ],
   "source": [
    "# EXAMPLE 2\n",
    "np.block([[1,2],[3,4]]) "
   ]
  },
  {
   "cell_type": "code",
   "execution_count": 65,
   "id": "a9161faf",
   "metadata": {},
   "outputs": [
    {
     "data": {
      "text/plain": [
       "array([[1, 2, 3],\n",
       "       [4, 5, 6]])"
      ]
     },
     "execution_count": 65,
     "metadata": {},
     "output_type": "execute_result"
    }
   ],
   "source": [
    "# EXAMPLE 3\n",
    "np.block([[1,2,3],[4,5,6]]) "
   ]
  },
  {
   "cell_type": "code",
   "execution_count": 69,
   "id": "accc8f34",
   "metadata": {},
   "outputs": [],
   "source": [
    "arr1 = np.array([[1, 2], [3, 4]])\n",
    "arr2 = np.array([[5, 6], [7, 8]])"
   ]
  },
  {
   "cell_type": "code",
   "execution_count": 71,
   "id": "caadbdf9",
   "metadata": {},
   "outputs": [
    {
     "name": "stdout",
     "output_type": "stream",
     "text": [
      "[[1 2]\n",
      " [3 4]]\n",
      "\n",
      "[[5 6]\n",
      " [7 8]]\n"
     ]
    }
   ],
   "source": [
    "print(arr1)\n",
    "print()\n",
    "print(arr2)"
   ]
  },
  {
   "cell_type": "code",
   "execution_count": 98,
   "id": "6790c1a8",
   "metadata": {},
   "outputs": [],
   "source": [
    "block1 = [[arr1, arr2], [arr2, arr1]]"
   ]
  },
  {
   "cell_type": "code",
   "execution_count": 93,
   "id": "3850456c",
   "metadata": {},
   "outputs": [
    {
     "data": {
      "text/plain": [
       "array([[1, 2, 5, 6],\n",
       "       [3, 4, 7, 8],\n",
       "       [5, 6, 1, 2],\n",
       "       [7, 8, 3, 4]])"
      ]
     },
     "execution_count": 93,
     "metadata": {},
     "output_type": "execute_result"
    }
   ],
   "source": [
    "np.block(block1)"
   ]
  },
  {
   "cell_type": "markdown",
   "id": "335d9c80",
   "metadata": {},
   "source": [
    "# *np.column_stack()*\n",
    "<br>\n",
    "\n",
    "- ### In NumPy, the column_stack() function is used to concatenate multiple 1-D or 2-D arrays column-wise. Before using this function, it is important to note that the number of rows in the arrays should be the same, but the number of columns can be different.\n",
    "<br>\n",
    "\n",
    "- ### The syntax of the column_stack() function is numpy.column_stack(tup), where tup is a tuple of ndarrays.\n",
    "<br>\n",
    "\n",
    "- ### By using the column_stack() function, we can concatenate two or more 1-D or 2-D arrays column-wise. Before concatenating, the number of rows in the arrays should be the same, but the number of columns can be different. After concatenating, the output array will have the same dimensions as the input arrays.\n",
    "<br>\n",
    "\n",
    "- ### To use this function, we first pass the arrays that we want to concatenate in a tuple as an argument to tup, and then we use the column_stack() function to concatenate these arrays column-wise.\n",
    "<br>\n",
    "\n",
    "- ### The difference between the hstack() and column_stack() functions is that the hstack() function concatenates multiple arrays along the horizontal axis, whereas the column_stack() function converts 1-D arrays into column vectors and then concatenates them. If there are 1-D arrays in the hstack() function, they need to be converted to column vectors before concatenating."
   ]
  },
  {
   "cell_type": "code",
   "execution_count": 94,
   "id": "18d5c545",
   "metadata": {},
   "outputs": [
    {
     "data": {
      "text/plain": [
       "array([[1, 2]])"
      ]
     },
     "execution_count": 94,
     "metadata": {},
     "output_type": "execute_result"
    }
   ],
   "source": [
    "# Example 1\n",
    "np.column_stack([[1],[2]])"
   ]
  },
  {
   "cell_type": "code",
   "execution_count": 95,
   "id": "960e3c4d",
   "metadata": {},
   "outputs": [
    {
     "data": {
      "text/plain": [
       "array([[1, 3],\n",
       "       [2, 4]])"
      ]
     },
     "execution_count": 95,
     "metadata": {},
     "output_type": "execute_result"
    }
   ],
   "source": [
    "# EXAMPLE 2\n",
    "np.column_stack([[1,2],[3,4]]) "
   ]
  },
  {
   "cell_type": "code",
   "execution_count": 96,
   "id": "c6843d01",
   "metadata": {},
   "outputs": [
    {
     "data": {
      "text/plain": [
       "array([[1, 4],\n",
       "       [2, 5],\n",
       "       [3, 6]])"
      ]
     },
     "execution_count": 96,
     "metadata": {},
     "output_type": "execute_result"
    }
   ],
   "source": [
    "# EXAMPLE 3\n",
    "np.column_stack([[1,2,3],[4,5,6]]) "
   ]
  },
  {
   "cell_type": "code",
   "execution_count": 112,
   "id": "43c1329e",
   "metadata": {},
   "outputs": [
    {
     "data": {
      "text/plain": [
       "array([[1, 3],\n",
       "       [2, 4],\n",
       "       [3, 3]])"
      ]
     },
     "execution_count": 112,
     "metadata": {},
     "output_type": "execute_result"
    }
   ],
   "source": [
    "np.column_stack([[1,2,3],[3,4,3]]) "
   ]
  },
  {
   "cell_type": "markdown",
   "id": "2b66d3b5",
   "metadata": {},
   "source": [
    "# *np.dstack()*\n",
    "<br>\n",
    "\n",
    "- ### In NumPy, the dstack() function is used to concatenate multiple arrays along their depth dimension. If we want to concatenate the depth (3rd dimension) of any array, we can use the dstack() function.\n",
    "<br>\n",
    "\n",
    "- ### The syntax of the dstack() function is numpy.dstack(tup), where tup is a tuple of multiple ndarrays to be concatenated. The shape of the output array depends on the shapes of the input arrays.\n",
    "<br>\n",
    "\n",
    "- ### To use this function, we pass multiple ndarrays in tuples and then concatenate them using the dstack() function. For the output array's shape, it is necessary that the size of all dimensions of input arrays are the same.\n",
    "<br>\n",
    "\n",
    "- ### Before using the dstack() function, we need to ensure that the shapes of the input arrays are the same, and the dstack() function is only used to concatenate in the 3rd dimension. If we want to concatenate 2D arrays, we need to use the hstack() function."
   ]
  },
  {
   "cell_type": "code",
   "execution_count": 128,
   "id": "6c37a2cb",
   "metadata": {},
   "outputs": [],
   "source": [
    "arr1 = np.array([[1, 2], [3, 4]])\n",
    "arr2 = np.array([[5, 6], [7, 8]])"
   ]
  },
  {
   "cell_type": "code",
   "execution_count": 129,
   "id": "e018da2c",
   "metadata": {},
   "outputs": [
    {
     "data": {
      "text/plain": [
       "array([[1, 2],\n",
       "       [3, 4]])"
      ]
     },
     "execution_count": 129,
     "metadata": {},
     "output_type": "execute_result"
    }
   ],
   "source": [
    "arr1"
   ]
  },
  {
   "cell_type": "code",
   "execution_count": 130,
   "id": "b8094ef5",
   "metadata": {},
   "outputs": [
    {
     "data": {
      "text/plain": [
       "array([[5, 6],\n",
       "       [7, 8]])"
      ]
     },
     "execution_count": 130,
     "metadata": {},
     "output_type": "execute_result"
    }
   ],
   "source": [
    "arr2"
   ]
  },
  {
   "cell_type": "code",
   "execution_count": 131,
   "id": "0b715ffb",
   "metadata": {},
   "outputs": [
    {
     "data": {
      "text/plain": [
       "array([[[1, 5],\n",
       "        [2, 6]],\n",
       "\n",
       "       [[3, 7],\n",
       "        [4, 8]]])"
      ]
     },
     "execution_count": 131,
     "metadata": {},
     "output_type": "execute_result"
    }
   ],
   "source": [
    "np.dstack((arr1, arr2))"
   ]
  },
  {
   "cell_type": "markdown",
   "id": "6c1daf7c",
   "metadata": {},
   "source": [
    "# *np.stack()*\n",
    "<br>\n",
    "\n",
    "- ### In NumPy, the stack() function is used to concatenate multiple arrays into a single dimension. Before using this function, we need to ensure that the size and shape of the arrays are the same.\n",
    "<br>\n",
    "\n",
    "- ### The syntax for the stack() function in NumPy is numpy.stack(arrays, axis=0), where arrays are the multiple ndarrays in a tuple that need to be concatenated, and axis defines the dimension to concatenate.\n",
    "<br>\n",
    "\n",
    "- ### By using the stack() function, we can concatenate multiple arrays into a single dimension. \n",
    "<br>\n",
    "\n",
    "- ### It is necessary for the size and shape of the arrays to be the same before concatenating. We can define the dimension in which to concatenate the arrays using the axis parameter, which has a default value of 0.\n",
    "<br>\n",
    "\n",
    "- ### To use this function, we pass multiple ndarrays in a tuple, and then concatenate them using the stack() function. The shape of the output array depends on the shapes of the input arrays.\n",
    "<br>\n",
    "\n",
    "- ### Before using the stack() function, it is important to ensure that the size and shape of the input arrays are the same, along with the dimension to concatenate."
   ]
  },
  {
   "cell_type": "code",
   "execution_count": 116,
   "id": "b6c2ec72",
   "metadata": {},
   "outputs": [],
   "source": [
    "arr1 = np.array([1, 2, 3])\n",
    "arr2 = np.array([4, 5, 6])"
   ]
  },
  {
   "cell_type": "code",
   "execution_count": 117,
   "id": "1c418e62",
   "metadata": {},
   "outputs": [
    {
     "name": "stdout",
     "output_type": "stream",
     "text": [
      "[1 2 3]\n",
      "\n",
      "[4 5 6]\n"
     ]
    }
   ],
   "source": [
    "print(arr1)\n",
    "print()\n",
    "print(arr2)"
   ]
  },
  {
   "cell_type": "code",
   "execution_count": 118,
   "id": "abcc7c55",
   "metadata": {},
   "outputs": [
    {
     "data": {
      "text/plain": [
       "array([[1, 2, 3],\n",
       "       [4, 5, 6]])"
      ]
     },
     "execution_count": 118,
     "metadata": {},
     "output_type": "execute_result"
    }
   ],
   "source": [
    "np.stack((arr1,arr2)) # default axis 0 means column wise"
   ]
  },
  {
   "cell_type": "code",
   "execution_count": 119,
   "id": "fdcdb812",
   "metadata": {},
   "outputs": [
    {
     "data": {
      "text/plain": [
       "array([[1, 2, 3],\n",
       "       [4, 5, 6]])"
      ]
     },
     "execution_count": 119,
     "metadata": {},
     "output_type": "execute_result"
    }
   ],
   "source": [
    "np.stack((arr1,arr2),axis=0) # for axis 0"
   ]
  },
  {
   "cell_type": "code",
   "execution_count": 120,
   "id": "ee64ba3d",
   "metadata": {},
   "outputs": [
    {
     "data": {
      "text/plain": [
       "array([[1, 4],\n",
       "       [2, 5],\n",
       "       [3, 6]])"
      ]
     },
     "execution_count": 120,
     "metadata": {},
     "output_type": "execute_result"
    }
   ],
   "source": [
    "np.stack((arr1,arr2),axis=1) # for axis 1"
   ]
  },
  {
   "cell_type": "markdown",
   "id": "21cfd6a8",
   "metadata": {},
   "source": [
    "# *np.concatenate()*\n",
    "<br>\n",
    "\n",
    "- ### In NumPy, the concatenate() function is used to concatenate multiple arrays. Before using this function, it is important to note that the shapes of input arrays should be the same except for the dimension along which we want to concatenate.\n",
    "<br>\n",
    "    \n",
    "- ### Using the concatenate() function, we can concatenate two or more arrays. Before concatenating, the shapes of the input arrays should be the same, but the dimension along which we want to concatenate can be different. We can define the dimension along which we want to concatenate using the axis parameter. The default value of the axis parameter is 0.\n",
    "<br>\n",
    "\n",
    "- ### To use this function, we pass the input arrays as a tuple and then use the concatenate() function to concatenate them. The shape of the output array depends on the shapes of the input arrays.\n",
    "<br>\n",
    "\n",
    "- ### Before using the concatenate() function, it is important to note that the shapes of the input arrays should be the same except for the dimension along which we want to concatenate.\n",
    "<br>\n",
    "\n",
    "- ### The main difference between the concatenate() function and the append() function is that the append() function concatenates one array to another, while the concatenate() function concatenates multiple arrays. The append() function does not allow us to specify the dimension along which we want to concatenate, while the concatenate() function allows us to do so using the axis parameter."
   ]
  },
  {
   "cell_type": "code",
   "execution_count": 121,
   "id": "b5137f77",
   "metadata": {},
   "outputs": [],
   "source": [
    "a = np.array([[1, 2], [3, 4]])\n",
    "b = np.array([[5, 6], [7, 8]])"
   ]
  },
  {
   "cell_type": "code",
   "execution_count": 122,
   "id": "19e3f230",
   "metadata": {},
   "outputs": [
    {
     "data": {
      "text/plain": [
       "array([[1, 2],\n",
       "       [3, 4]])"
      ]
     },
     "execution_count": 122,
     "metadata": {},
     "output_type": "execute_result"
    }
   ],
   "source": [
    "a"
   ]
  },
  {
   "cell_type": "code",
   "execution_count": 123,
   "id": "3432f8fe",
   "metadata": {},
   "outputs": [
    {
     "data": {
      "text/plain": [
       "array([[5, 6],\n",
       "       [7, 8]])"
      ]
     },
     "execution_count": 123,
     "metadata": {},
     "output_type": "execute_result"
    }
   ],
   "source": [
    "b"
   ]
  },
  {
   "cell_type": "code",
   "execution_count": 124,
   "id": "32857d51",
   "metadata": {},
   "outputs": [
    {
     "data": {
      "text/plain": [
       "array([[1, 2],\n",
       "       [3, 4],\n",
       "       [5, 6],\n",
       "       [7, 8]])"
      ]
     },
     "execution_count": 124,
     "metadata": {},
     "output_type": "execute_result"
    }
   ],
   "source": [
    "np.concatenate((a, b)) # axis 0 default means column wise"
   ]
  },
  {
   "cell_type": "code",
   "execution_count": 125,
   "id": "718604ca",
   "metadata": {},
   "outputs": [
    {
     "data": {
      "text/plain": [
       "array([[1, 2],\n",
       "       [3, 4],\n",
       "       [5, 6],\n",
       "       [7, 8]])"
      ]
     },
     "execution_count": 125,
     "metadata": {},
     "output_type": "execute_result"
    }
   ],
   "source": [
    "# use axis 0\n",
    "np.concatenate((a, b),axis=0)"
   ]
  },
  {
   "cell_type": "code",
   "execution_count": 126,
   "id": "d69d5fdc",
   "metadata": {},
   "outputs": [
    {
     "data": {
      "text/plain": [
       "array([[1, 2, 5, 6],\n",
       "       [3, 4, 7, 8]])"
      ]
     },
     "execution_count": 126,
     "metadata": {},
     "output_type": "execute_result"
    }
   ],
   "source": [
    "# use axis 1\n",
    "np.concatenate((a, b),axis=1) "
   ]
  }
 ],
 "metadata": {
  "kernelspec": {
   "display_name": "Python 3 (ipykernel)",
   "language": "python",
   "name": "python3"
  },
  "language_info": {
   "codemirror_mode": {
    "name": "ipython",
    "version": 3
   },
   "file_extension": ".py",
   "mimetype": "text/x-python",
   "name": "python",
   "nbconvert_exporter": "python",
   "pygments_lexer": "ipython3",
   "version": "3.10.6"
  }
 },
 "nbformat": 4,
 "nbformat_minor": 5
}

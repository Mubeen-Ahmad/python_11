{
 "cells": [
  {
   "cell_type": "markdown",
   "id": "20dc5945",
   "metadata": {},
   "source": [
    "# Indexing and slicing"
   ]
  },
  {
   "cell_type": "code",
   "execution_count": 8,
   "id": "cf53baf1",
   "metadata": {},
   "outputs": [],
   "source": [
    "import numpy as np"
   ]
  },
  {
   "cell_type": "code",
   "execution_count": 9,
   "id": "7abff51d",
   "metadata": {},
   "outputs": [],
   "source": [
    "a1 = np.arange(10)\n",
    "a2 = np.arange(12).reshape((3,4))\n",
    "a3 = np.arange(8).reshape((2,2,2))"
   ]
  },
  {
   "cell_type": "code",
   "execution_count": 10,
   "id": "e00d8032",
   "metadata": {},
   "outputs": [
    {
     "data": {
      "text/plain": [
       "array([0, 1, 2, 3, 4, 5, 6, 7, 8, 9])"
      ]
     },
     "execution_count": 10,
     "metadata": {},
     "output_type": "execute_result"
    }
   ],
   "source": [
    "a1"
   ]
  },
  {
   "cell_type": "markdown",
   "id": "7f671b6d",
   "metadata": {},
   "source": [
    "# indexing and Slicing are same as normal indexing like string list etc "
   ]
  },
  {
   "cell_type": "code",
   "execution_count": 11,
   "id": "4bdda75f",
   "metadata": {},
   "outputs": [
    {
     "data": {
      "text/plain": [
       "0"
      ]
     },
     "execution_count": 11,
     "metadata": {},
     "output_type": "execute_result"
    }
   ],
   "source": [
    "a1[0] # first element"
   ]
  },
  {
   "cell_type": "code",
   "execution_count": 12,
   "id": "2765b472",
   "metadata": {},
   "outputs": [
    {
     "data": {
      "text/plain": [
       "1"
      ]
     },
     "execution_count": 12,
     "metadata": {},
     "output_type": "execute_result"
    }
   ],
   "source": [
    "a1[1] # 2nd element"
   ]
  },
  {
   "cell_type": "code",
   "execution_count": 13,
   "id": "2ffb0419",
   "metadata": {},
   "outputs": [
    {
     "data": {
      "text/plain": [
       "9"
      ]
     },
     "execution_count": 13,
     "metadata": {},
     "output_type": "execute_result"
    }
   ],
   "source": [
    "a1[-1] # reverse indexing"
   ]
  },
  {
   "cell_type": "markdown",
   "id": "a6dc7b04",
   "metadata": {},
   "source": [
    "## 2d array"
   ]
  },
  {
   "cell_type": "code",
   "execution_count": 15,
   "id": "77164c31",
   "metadata": {},
   "outputs": [
    {
     "data": {
      "text/plain": [
       "array([[ 0,  1,  2,  3],\n",
       "       [ 4,  5,  6,  7],\n",
       "       [ 8,  9, 10, 11]])"
      ]
     },
     "execution_count": 15,
     "metadata": {},
     "output_type": "execute_result"
    }
   ],
   "source": [
    "a2"
   ]
  },
  {
   "cell_type": "markdown",
   "id": "59a298c8",
   "metadata": {},
   "source": [
    "# frist select column"
   ]
  },
  {
   "cell_type": "code",
   "execution_count": 16,
   "id": "26014dda",
   "metadata": {},
   "outputs": [
    {
     "data": {
      "text/plain": [
       "array([0, 1, 2, 3])"
      ]
     },
     "execution_count": 16,
     "metadata": {},
     "output_type": "execute_result"
    }
   ],
   "source": [
    "a2[0] # ----> [ 0,  1,  2,  3]"
   ]
  },
  {
   "cell_type": "markdown",
   "id": "520189c0",
   "metadata": {},
   "source": [
    "## now select element "
   ]
  },
  {
   "cell_type": "code",
   "execution_count": 17,
   "id": "9e755cf7",
   "metadata": {},
   "outputs": [
    {
     "data": {
      "text/plain": [
       "0"
      ]
     },
     "execution_count": 17,
     "metadata": {},
     "output_type": "execute_result"
    }
   ],
   "source": [
    "a2[0][0] # [ (0) , 1,  2,  3]"
   ]
  },
  {
   "cell_type": "code",
   "execution_count": 18,
   "id": "255ceddb",
   "metadata": {},
   "outputs": [
    {
     "data": {
      "text/plain": [
       "1"
      ]
     },
     "execution_count": 18,
     "metadata": {},
     "output_type": "execute_result"
    }
   ],
   "source": [
    "a2[0][1]"
   ]
  },
  {
   "cell_type": "code",
   "execution_count": 20,
   "id": "93754edf",
   "metadata": {},
   "outputs": [
    {
     "data": {
      "text/plain": [
       "3"
      ]
     },
     "execution_count": 20,
     "metadata": {},
     "output_type": "execute_result"
    }
   ],
   "source": [
    "a2[0][-1] # last"
   ]
  },
  {
   "cell_type": "markdown",
   "id": "2c1d5124",
   "metadata": {},
   "source": [
    "# now change column"
   ]
  },
  {
   "cell_type": "code",
   "execution_count": 21,
   "id": "3d2f06ff",
   "metadata": {},
   "outputs": [
    {
     "data": {
      "text/plain": [
       "7"
      ]
     },
     "execution_count": 21,
     "metadata": {},
     "output_type": "execute_result"
    }
   ],
   "source": [
    "a2[1][-1] # last"
   ]
  },
  {
   "cell_type": "code",
   "execution_count": 18,
   "id": "1bb0cd76",
   "metadata": {},
   "outputs": [
    {
     "data": {
      "text/plain": [
       "11"
      ]
     },
     "execution_count": 18,
     "metadata": {},
     "output_type": "execute_result"
    }
   ],
   "source": [
    "a2[2][-1] # last"
   ]
  },
  {
   "cell_type": "markdown",
   "id": "69782e00",
   "metadata": {},
   "source": [
    "# also used a2[2,-1]"
   ]
  },
  {
   "cell_type": "code",
   "execution_count": 19,
   "id": "80c0d068",
   "metadata": {},
   "outputs": [
    {
     "name": "stdout",
     "output_type": "stream",
     "text": [
      "11\n",
      "11\n"
     ]
    }
   ],
   "source": [
    "print(a2[2][-1])\n",
    "print(a2[2,-1])"
   ]
  },
  {
   "cell_type": "markdown",
   "id": "fd62f8c3",
   "metadata": {},
   "source": [
    "# 3d array"
   ]
  },
  {
   "cell_type": "code",
   "execution_count": 21,
   "id": "b4cdf2a2",
   "metadata": {},
   "outputs": [
    {
     "data": {
      "text/plain": [
       "array([[[0, 1],\n",
       "        [2, 3]],\n",
       "\n",
       "       [[4, 5],\n",
       "        [6, 7]]])"
      ]
     },
     "execution_count": 21,
     "metadata": {},
     "output_type": "execute_result"
    }
   ],
   "source": [
    "a3"
   ]
  },
  {
   "cell_type": "markdown",
   "id": "feec9fa2",
   "metadata": {},
   "source": [
    "## 3D = two 2D Arrays"
   ]
  },
  {
   "cell_type": "markdown",
   "id": "3ebd1594",
   "metadata": {},
   "source": [
    "# Now Extract 5"
   ]
  },
  {
   "cell_type": "code",
   "execution_count": 22,
   "id": "1dd0142c",
   "metadata": {},
   "outputs": [
    {
     "data": {
      "text/plain": [
       "array([[0, 1],\n",
       "       [2, 3]])"
      ]
     },
     "execution_count": 22,
     "metadata": {},
     "output_type": "execute_result"
    }
   ],
   "source": [
    "# this is 1st 2D array\n",
    "a3[0]"
   ]
  },
  {
   "cell_type": "code",
   "execution_count": 23,
   "id": "454dddcc",
   "metadata": {},
   "outputs": [
    {
     "data": {
      "text/plain": [
       "array([[4, 5],\n",
       "       [6, 7]])"
      ]
     },
     "execution_count": 23,
     "metadata": {},
     "output_type": "execute_result"
    }
   ],
   "source": [
    "a3[1] # this is 2nd 2D array"
   ]
  },
  {
   "cell_type": "code",
   "execution_count": 24,
   "id": "2b64492b",
   "metadata": {},
   "outputs": [
    {
     "data": {
      "text/plain": [
       "array([[0, 1],\n",
       "       [2, 3]])"
      ]
     },
     "execution_count": 24,
     "metadata": {},
     "output_type": "execute_result"
    }
   ],
   "source": [
    "# select 1st 2d array\n",
    "a3[0]"
   ]
  },
  {
   "cell_type": "markdown",
   "id": "9fb02e36",
   "metadata": {},
   "source": [
    "# Now select rows"
   ]
  },
  {
   "cell_type": "code",
   "execution_count": 25,
   "id": "99a32e19",
   "metadata": {},
   "outputs": [
    {
     "data": {
      "text/plain": [
       "array([4, 5])"
      ]
     },
     "execution_count": 25,
     "metadata": {},
     "output_type": "execute_result"
    }
   ],
   "source": [
    "a3[1][0]"
   ]
  },
  {
   "cell_type": "markdown",
   "id": "c559f822",
   "metadata": {},
   "source": [
    "# Now select column"
   ]
  },
  {
   "cell_type": "code",
   "execution_count": 26,
   "id": "c7afd36f",
   "metadata": {},
   "outputs": [
    {
     "data": {
      "text/plain": [
       "5"
      ]
     },
     "execution_count": 26,
     "metadata": {},
     "output_type": "execute_result"
    }
   ],
   "source": [
    "a3[1][0][1]"
   ]
  },
  {
   "cell_type": "code",
   "execution_count": 31,
   "id": "c2b5cc09",
   "metadata": {},
   "outputs": [
    {
     "data": {
      "text/plain": [
       "5"
      ]
     },
     "execution_count": 31,
     "metadata": {},
     "output_type": "execute_result"
    }
   ],
   "source": [
    "# also used\n",
    "a3[1,0,1]"
   ]
  },
  {
   "cell_type": "markdown",
   "id": "6b5bde7b",
   "metadata": {},
   "source": [
    "# Slicing"
   ]
  },
  {
   "cell_type": "code",
   "execution_count": 27,
   "id": "36054839",
   "metadata": {},
   "outputs": [
    {
     "name": "stdout",
     "output_type": "stream",
     "text": [
      "[0 1 2 3 4 5 6 7 8 9]\n"
     ]
    },
    {
     "data": {
      "text/plain": [
       "array([0, 1, 2])"
      ]
     },
     "execution_count": 27,
     "metadata": {},
     "output_type": "execute_result"
    }
   ],
   "source": [
    "print(a1)\n",
    "\n",
    "a1[0:3]"
   ]
  },
  {
   "cell_type": "code",
   "execution_count": 33,
   "id": "29b3d51c",
   "metadata": {},
   "outputs": [
    {
     "data": {
      "text/plain": [
       "array([0, 1, 2, 3, 4, 5, 6, 7])"
      ]
     },
     "execution_count": 33,
     "metadata": {},
     "output_type": "execute_result"
    }
   ],
   "source": [
    "a1[0:8]"
   ]
  },
  {
   "cell_type": "code",
   "execution_count": 34,
   "id": "f06a6878",
   "metadata": {},
   "outputs": [
    {
     "data": {
      "text/plain": [
       "array([4, 5])"
      ]
     },
     "execution_count": 34,
     "metadata": {},
     "output_type": "execute_result"
    }
   ],
   "source": [
    "a1[4:6]"
   ]
  },
  {
   "cell_type": "markdown",
   "id": "43160266",
   "metadata": {},
   "source": [
    "# 2D array"
   ]
  },
  {
   "cell_type": "code",
   "execution_count": 28,
   "id": "9c91341b",
   "metadata": {},
   "outputs": [
    {
     "name": "stdout",
     "output_type": "stream",
     "text": [
      "[[ 0  1  2  3]\n",
      " [ 4  5  6  7]\n",
      " [ 8  9 10 11]]\n"
     ]
    }
   ],
   "source": [
    "print(a2)"
   ]
  },
  {
   "cell_type": "markdown",
   "id": "d726f25b",
   "metadata": {},
   "source": [
    "# select first row"
   ]
  },
  {
   "cell_type": "code",
   "execution_count": 29,
   "id": "0e5802c5",
   "metadata": {},
   "outputs": [
    {
     "data": {
      "text/plain": [
       "array([0, 1, 2, 3])"
      ]
     },
     "execution_count": 29,
     "metadata": {},
     "output_type": "execute_result"
    }
   ],
   "source": [
    "a2[0]"
   ]
  },
  {
   "cell_type": "markdown",
   "id": "9e4671ff",
   "metadata": {},
   "source": [
    "# now slice it"
   ]
  },
  {
   "cell_type": "code",
   "execution_count": 30,
   "id": "0649bf90",
   "metadata": {},
   "outputs": [
    {
     "data": {
      "text/plain": [
       "array([0, 1])"
      ]
     },
     "execution_count": 30,
     "metadata": {},
     "output_type": "execute_result"
    }
   ],
   "source": [
    "a2[0][0:2]"
   ]
  },
  {
   "cell_type": "code",
   "execution_count": 31,
   "id": "d5fa060d",
   "metadata": {},
   "outputs": [
    {
     "data": {
      "text/plain": [
       "array([0, 1])"
      ]
     },
     "execution_count": 31,
     "metadata": {},
     "output_type": "execute_result"
    }
   ],
   "source": [
    "# also use \n",
    "a2[0,0:2]"
   ]
  },
  {
   "cell_type": "code",
   "execution_count": 32,
   "id": "cda920d9",
   "metadata": {},
   "outputs": [
    {
     "data": {
      "text/plain": [
       "array([2, 3])"
      ]
     },
     "execution_count": 32,
     "metadata": {},
     "output_type": "execute_result"
    }
   ],
   "source": [
    "a2[0,2:4]"
   ]
  },
  {
   "cell_type": "markdown",
   "id": "aba7ded8",
   "metadata": {},
   "source": [
    "# 3D array"
   ]
  },
  {
   "cell_type": "code",
   "execution_count": 33,
   "id": "7348bcf0",
   "metadata": {},
   "outputs": [
    {
     "data": {
      "text/plain": [
       "array([[[0, 1],\n",
       "        [2, 3]],\n",
       "\n",
       "       [[4, 5],\n",
       "        [6, 7]]])"
      ]
     },
     "execution_count": 33,
     "metadata": {},
     "output_type": "execute_result"
    }
   ],
   "source": [
    "a3"
   ]
  },
  {
   "cell_type": "markdown",
   "id": "d2c4a90d",
   "metadata": {},
   "source": [
    "# now select array\n",
    "## means 3D array = two 2D array"
   ]
  },
  {
   "cell_type": "code",
   "execution_count": 34,
   "id": "9db8beba",
   "metadata": {},
   "outputs": [
    {
     "data": {
      "text/plain": [
       "array([[0, 1],\n",
       "       [2, 3]])"
      ]
     },
     "execution_count": 34,
     "metadata": {},
     "output_type": "execute_result"
    }
   ],
   "source": [
    "a3[0] # select fist 2 D ARRAY"
   ]
  },
  {
   "cell_type": "markdown",
   "id": "0078e473",
   "metadata": {},
   "source": [
    "# now select rows"
   ]
  },
  {
   "cell_type": "code",
   "execution_count": 35,
   "id": "879112a9",
   "metadata": {},
   "outputs": [
    {
     "data": {
      "text/plain": [
       "array([0, 1])"
      ]
     },
     "execution_count": 35,
     "metadata": {},
     "output_type": "execute_result"
    }
   ],
   "source": [
    "a3[0][0]"
   ]
  },
  {
   "cell_type": "markdown",
   "id": "61eb5357",
   "metadata": {},
   "source": [
    "# now Slice it"
   ]
  },
  {
   "cell_type": "code",
   "execution_count": 46,
   "id": "721f5bf0",
   "metadata": {},
   "outputs": [
    {
     "data": {
      "text/plain": [
       "array([0, 1])"
      ]
     },
     "execution_count": 46,
     "metadata": {},
     "output_type": "execute_result"
    }
   ],
   "source": [
    "a3[0][0][0:2]"
   ]
  },
  {
   "cell_type": "code",
   "execution_count": 47,
   "id": "314e5811",
   "metadata": {},
   "outputs": [
    {
     "data": {
      "text/plain": [
       "array([0, 1])"
      ]
     },
     "execution_count": 47,
     "metadata": {},
     "output_type": "execute_result"
    }
   ],
   "source": [
    "# or\n",
    "a3[0,0,0:2]"
   ]
  },
  {
   "cell_type": "markdown",
   "id": "9be597ff",
   "metadata": {},
   "source": [
    "# Skip Argument"
   ]
  },
  {
   "cell_type": "code",
   "execution_count": 48,
   "id": "f126d236",
   "metadata": {},
   "outputs": [
    {
     "data": {
      "text/plain": [
       "array([[[ 1,  2,  3,  4],\n",
       "        [ 5,  6,  7,  8],\n",
       "        [ 9, 10, 11, 12],\n",
       "        [13, 14, 15, 16]],\n",
       "\n",
       "       [[17, 18, 19, 20],\n",
       "        [21, 22, 23, 24],\n",
       "        [25, 26, 27, 28],\n",
       "        [29, 30, 31, 32]]])"
      ]
     },
     "execution_count": 48,
     "metadata": {},
     "output_type": "execute_result"
    }
   ],
   "source": [
    "                #start 1 to 9\n",
    "a3_D = np.arange(1,33).reshape((2,4,4))\n",
    "a3_D"
   ]
  },
  {
   "cell_type": "markdown",
   "id": "e4286807",
   "metadata": {},
   "source": [
    "# select 0 to end"
   ]
  },
  {
   "cell_type": "code",
   "execution_count": 50,
   "id": "25f6eb24",
   "metadata": {},
   "outputs": [
    {
     "data": {
      "text/plain": [
       "array([[[ 1,  2,  3,  4],\n",
       "        [ 5,  6,  7,  8],\n",
       "        [ 9, 10, 11, 12],\n",
       "        [13, 14, 15, 16]],\n",
       "\n",
       "       [[17, 18, 19, 20],\n",
       "        [21, 22, 23, 24],\n",
       "        [25, 26, 27, 28],\n",
       "        [29, 30, 31, 32]]])"
      ]
     },
     "execution_count": 50,
     "metadata": {},
     "output_type": "execute_result"
    }
   ],
   "source": [
    "a3_D[0:]"
   ]
  },
  {
   "cell_type": "markdown",
   "id": "90cbd18b",
   "metadata": {},
   "source": [
    "# select 2D"
   ]
  },
  {
   "cell_type": "code",
   "execution_count": 51,
   "id": "c6ee9fb2",
   "metadata": {},
   "outputs": [
    {
     "data": {
      "text/plain": [
       "array([[[ 1,  2,  3,  4],\n",
       "        [ 5,  6,  7,  8],\n",
       "        [ 9, 10, 11, 12],\n",
       "        [13, 14, 15, 16]]])"
      ]
     },
     "execution_count": 51,
     "metadata": {},
     "output_type": "execute_result"
    }
   ],
   "source": [
    "a3_D[0:1]"
   ]
  },
  {
   "cell_type": "markdown",
   "id": "fb5e68e5",
   "metadata": {},
   "source": [
    "# NOW use slice and skip argument"
   ]
  },
  {
   "cell_type": "code",
   "execution_count": 53,
   "id": "db2819db",
   "metadata": {},
   "outputs": [
    {
     "data": {
      "text/plain": [
       "array([[ 1,  2,  3,  4],\n",
       "       [ 5,  6,  7,  8],\n",
       "       [ 9, 10, 11, 12],\n",
       "       [13, 14, 15, 16]])"
      ]
     },
     "execution_count": 53,
     "metadata": {},
     "output_type": "execute_result"
    }
   ],
   "source": [
    "a3_D[0:][0]"
   ]
  },
  {
   "cell_type": "code",
   "execution_count": 54,
   "id": "ea04c545",
   "metadata": {},
   "outputs": [
    {
     "data": {
      "text/plain": [
       "array([[ 1,  2,  3,  4],\n",
       "       [ 5,  6,  7,  8],\n",
       "       [ 9, 10, 11, 12],\n",
       "       [13, 14, 15, 16]])"
      ]
     },
     "execution_count": 54,
     "metadata": {},
     "output_type": "execute_result"
    }
   ],
   "source": [
    "a3_D[0:][0][0:4]"
   ]
  },
  {
   "cell_type": "code",
   "execution_count": 55,
   "id": "8e28209a",
   "metadata": {},
   "outputs": [
    {
     "data": {
      "text/plain": [
       "array([[ 1,  2,  3,  4],\n",
       "       [ 5,  6,  7,  8],\n",
       "       [ 9, 10, 11, 12],\n",
       "       [13, 14, 15, 16]])"
      ]
     },
     "execution_count": 55,
     "metadata": {},
     "output_type": "execute_result"
    }
   ],
   "source": [
    "a3_D[0:][0][0:4:1] # 1 is the skip argument"
   ]
  },
  {
   "cell_type": "code",
   "execution_count": 79,
   "id": "0495b853",
   "metadata": {},
   "outputs": [
    {
     "data": {
      "text/plain": [
       "array([[ 1,  2,  3,  4],\n",
       "       [ 9, 10, 11, 12]])"
      ]
     },
     "execution_count": 79,
     "metadata": {},
     "output_type": "execute_result"
    }
   ],
   "source": [
    "a3_D[0:][0][0:4:2] # 2 is the skip argument"
   ]
  },
  {
   "cell_type": "markdown",
   "id": "af8bf0e5",
   "metadata": {},
   "source": [
    "# Extract 1,3,9,11"
   ]
  },
  {
   "cell_type": "code",
   "execution_count": 80,
   "id": "635cecc3",
   "metadata": {},
   "outputs": [
    {
     "data": {
      "text/plain": [
       "array([[ 0,  1,  2,  3],\n",
       "       [ 4,  5,  6,  7],\n",
       "       [ 8,  9, 10, 11]])"
      ]
     },
     "execution_count": 80,
     "metadata": {},
     "output_type": "execute_result"
    }
   ],
   "source": [
    "a2"
   ]
  },
  {
   "cell_type": "code",
   "execution_count": 81,
   "id": "3b726ba0",
   "metadata": {},
   "outputs": [
    {
     "data": {
      "text/plain": [
       "array([[ 0,  1,  2,  3],\n",
       "       [ 8,  9, 10, 11]])"
      ]
     },
     "execution_count": 81,
     "metadata": {},
     "output_type": "execute_result"
    }
   ],
   "source": [
    "a2[::2] # skip row"
   ]
  },
  {
   "cell_type": "code",
   "execution_count": 82,
   "id": "d2bb03c2",
   "metadata": {},
   "outputs": [
    {
     "data": {
      "text/plain": [
       "array([[ 1,  2,  3],\n",
       "       [ 9, 10, 11]])"
      ]
     },
     "execution_count": 82,
     "metadata": {},
     "output_type": "execute_result"
    }
   ],
   "source": [
    "a2[::2,1:] # skip 0 8"
   ]
  },
  {
   "cell_type": "code",
   "execution_count": 83,
   "id": "5b33c9d8",
   "metadata": {},
   "outputs": [
    {
     "data": {
      "text/plain": [
       "array([[ 1,  3],\n",
       "       [ 9, 11]])"
      ]
     },
     "execution_count": 83,
     "metadata": {},
     "output_type": "execute_result"
    }
   ],
   "source": [
    "a2[::2,1::2] # skip 2,10"
   ]
  },
  {
   "cell_type": "markdown",
   "id": "5d9f0563",
   "metadata": {},
   "source": [
    "# Example 2"
   ]
  },
  {
   "cell_type": "code",
   "execution_count": 84,
   "id": "212f916d",
   "metadata": {},
   "outputs": [
    {
     "data": {
      "text/plain": [
       "array([[ 0,  1,  2,  3],\n",
       "       [ 4,  5,  6,  7],\n",
       "       [ 8,  9, 10, 11]])"
      ]
     },
     "execution_count": 84,
     "metadata": {},
     "output_type": "execute_result"
    }
   ],
   "source": [
    "a2 "
   ]
  },
  {
   "cell_type": "markdown",
   "id": "27bd445c",
   "metadata": {},
   "source": [
    "## Extract  \n",
    "\n",
    "# 6 7 10 11 "
   ]
  },
  {
   "cell_type": "markdown",
   "id": "ad3f1d05",
   "metadata": {},
   "source": [
    "## skip 1st row"
   ]
  },
  {
   "cell_type": "code",
   "execution_count": 87,
   "id": "c907d873",
   "metadata": {},
   "outputs": [
    {
     "data": {
      "text/plain": [
       "array([[ 4,  5,  6,  7],\n",
       "       [ 8,  9, 10, 11]])"
      ]
     },
     "execution_count": 87,
     "metadata": {},
     "output_type": "execute_result"
    }
   ],
   "source": [
    "a2[1::]"
   ]
  },
  {
   "cell_type": "markdown",
   "id": "e935e882",
   "metadata": {},
   "source": [
    "# skip 1st 2 column"
   ]
  },
  {
   "cell_type": "code",
   "execution_count": 89,
   "id": "58fd2313",
   "metadata": {},
   "outputs": [
    {
     "data": {
      "text/plain": [
       "array([[ 4,  5,  6,  7],\n",
       "       [ 8,  9, 10, 11]])"
      ]
     },
     "execution_count": 89,
     "metadata": {},
     "output_type": "execute_result"
    }
   ],
   "source": [
    "a2[1::,::]"
   ]
  },
  {
   "cell_type": "markdown",
   "id": "c06b1175",
   "metadata": {},
   "source": [
    "# Now just start with 2"
   ]
  },
  {
   "cell_type": "code",
   "execution_count": 90,
   "id": "216574db",
   "metadata": {},
   "outputs": [
    {
     "data": {
      "text/plain": [
       "array([[ 6,  7],\n",
       "       [10, 11]])"
      ]
     },
     "execution_count": 90,
     "metadata": {},
     "output_type": "execute_result"
    }
   ],
   "source": [
    "a2[1::,2::]"
   ]
  },
  {
   "cell_type": "markdown",
   "id": "8c9f1521",
   "metadata": {},
   "source": [
    "# ITERATION"
   ]
  },
  {
   "cell_type": "markdown",
   "id": "7cf4dcc8",
   "metadata": {},
   "source": [
    "# 1-D Array"
   ]
  },
  {
   "cell_type": "code",
   "execution_count": 91,
   "id": "852581c5",
   "metadata": {},
   "outputs": [
    {
     "data": {
      "text/plain": [
       "array([0, 1, 2, 3, 4, 5, 6, 7, 8, 9])"
      ]
     },
     "execution_count": 91,
     "metadata": {},
     "output_type": "execute_result"
    }
   ],
   "source": [
    "a1"
   ]
  },
  {
   "cell_type": "code",
   "execution_count": 92,
   "id": "54fc2c80",
   "metadata": {},
   "outputs": [
    {
     "name": "stdout",
     "output_type": "stream",
     "text": [
      "0\n",
      "1\n",
      "2\n",
      "3\n",
      "4\n",
      "5\n",
      "6\n",
      "7\n",
      "8\n",
      "9\n"
     ]
    }
   ],
   "source": [
    "for i in a1:\n",
    "    print(i)"
   ]
  },
  {
   "cell_type": "markdown",
   "id": "4f9023f3",
   "metadata": {},
   "source": [
    "# 2-D"
   ]
  },
  {
   "cell_type": "code",
   "execution_count": 93,
   "id": "0084fe54",
   "metadata": {},
   "outputs": [
    {
     "data": {
      "text/plain": [
       "array([[ 0,  1,  2,  3],\n",
       "       [ 4,  5,  6,  7],\n",
       "       [ 8,  9, 10, 11]])"
      ]
     },
     "execution_count": 93,
     "metadata": {},
     "output_type": "execute_result"
    }
   ],
   "source": [
    "a2"
   ]
  },
  {
   "cell_type": "code",
   "execution_count": 94,
   "id": "51d15b02",
   "metadata": {},
   "outputs": [
    {
     "name": "stdout",
     "output_type": "stream",
     "text": [
      "[0 1 2 3]\n",
      "[4 5 6 7]\n",
      "[ 8  9 10 11]\n"
     ]
    }
   ],
   "source": [
    "for i in a2:\n",
    "    print(i)"
   ]
  },
  {
   "cell_type": "markdown",
   "id": "00f3e3b6",
   "metadata": {},
   "source": [
    "# iterate all element"
   ]
  },
  {
   "cell_type": "code",
   "execution_count": 269,
   "id": "a5454df2",
   "metadata": {},
   "outputs": [
    {
     "name": "stdout",
     "output_type": "stream",
     "text": [
      "0\n",
      "1\n",
      "2\n",
      "3\n",
      "4\n",
      "5\n",
      "6\n",
      "7\n",
      "8\n",
      "9\n",
      "10\n",
      "11\n"
     ]
    }
   ],
   "source": [
    "for i in a2:\n",
    "    for j in i:\n",
    "        print(j)"
   ]
  },
  {
   "cell_type": "markdown",
   "id": "2819a834",
   "metadata": {},
   "source": [
    "# Select 1st Column"
   ]
  },
  {
   "cell_type": "code",
   "execution_count": 96,
   "id": "f968303f",
   "metadata": {},
   "outputs": [
    {
     "name": "stdout",
     "output_type": "stream",
     "text": [
      "0\n",
      "4\n",
      "8\n"
     ]
    }
   ],
   "source": [
    "for i in a2:\n",
    "    row = 0\n",
    "    print(i[row])"
   ]
  },
  {
   "cell_type": "markdown",
   "id": "6f55274f",
   "metadata": {},
   "source": [
    "# Select 2nd Column"
   ]
  },
  {
   "cell_type": "code",
   "execution_count": 97,
   "id": "a9a33bb0",
   "metadata": {},
   "outputs": [
    {
     "name": "stdout",
     "output_type": "stream",
     "text": [
      "1\n",
      "5\n",
      "9\n"
     ]
    }
   ],
   "source": [
    "for i in a2:\n",
    "    row = 1\n",
    "    print(i[row])"
   ]
  },
  {
   "cell_type": "markdown",
   "id": "689ee635",
   "metadata": {},
   "source": [
    "# Select 1st and last Column"
   ]
  },
  {
   "cell_type": "code",
   "execution_count": 109,
   "id": "e671bd42",
   "metadata": {},
   "outputs": [
    {
     "name": "stdout",
     "output_type": "stream",
     "text": [
      "0 3\n",
      "4 7\n",
      "8 11\n"
     ]
    }
   ],
   "source": [
    "for i in a2:\n",
    "    print(i[0],i[-1])"
   ]
  },
  {
   "cell_type": "markdown",
   "id": "634cf956",
   "metadata": {},
   "source": [
    "# 3-D "
   ]
  },
  {
   "cell_type": "code",
   "execution_count": 118,
   "id": "5f9aa22a",
   "metadata": {},
   "outputs": [
    {
     "name": "stdout",
     "output_type": "stream",
     "text": [
      "[[0 1]\n",
      " [2 3]]\n",
      "[[4 5]\n",
      " [6 7]]\n"
     ]
    }
   ],
   "source": [
    "for i in a3:\n",
    "    print(i)"
   ]
  },
  {
   "cell_type": "markdown",
   "id": "e8cb901d",
   "metadata": {},
   "source": [
    "# iteration all Element"
   ]
  },
  {
   "cell_type": "code",
   "execution_count": 283,
   "id": "d48db725",
   "metadata": {},
   "outputs": [
    {
     "name": "stdout",
     "output_type": "stream",
     "text": [
      "0\n",
      "1\n",
      "2\n",
      "3\n",
      "4\n",
      "5\n",
      "6\n",
      "7\n"
     ]
    }
   ],
   "source": [
    "for i in a3:\n",
    "    for j in i:\n",
    "        for k in j:\n",
    "            print(k)"
   ]
  },
  {
   "cell_type": "markdown",
   "id": "6512579c",
   "metadata": {},
   "source": [
    "# select 0,1  4,5"
   ]
  },
  {
   "cell_type": "code",
   "execution_count": 126,
   "id": "2614d269",
   "metadata": {},
   "outputs": [
    {
     "name": "stdout",
     "output_type": "stream",
     "text": [
      "[0 1]\n",
      "[4 5]\n"
     ]
    }
   ],
   "source": [
    "for i in a3:\n",
    "    print(i[0])"
   ]
  },
  {
   "cell_type": "markdown",
   "id": "6c2954c4",
   "metadata": {},
   "source": [
    "# select 2,3  6,7"
   ]
  },
  {
   "cell_type": "code",
   "execution_count": 131,
   "id": "4b7fb7d9",
   "metadata": {},
   "outputs": [
    {
     "name": "stdout",
     "output_type": "stream",
     "text": [
      "[2 3]\n",
      "[6 7]\n"
     ]
    }
   ],
   "source": [
    "for i in a3:\n",
    "    print(i[1])"
   ]
  },
  {
   "cell_type": "code",
   "execution_count": 7,
   "id": "933039e5",
   "metadata": {},
   "outputs": [
    {
     "data": {
      "text/plain": [
       "array([[ 0,  1,  2,  3],\n",
       "       [ 4,  5,  6,  7],\n",
       "       [ 8,  9, 10, 11]])"
      ]
     },
     "execution_count": 7,
     "metadata": {},
     "output_type": "execute_result"
    }
   ],
   "source": [
    "a2"
   ]
  },
  {
   "cell_type": "markdown",
   "id": "86a86844",
   "metadata": {},
   "source": [
    "|0 1| |2 3|<br>\n",
    "|4 5| |6 7|<br><br> \n",
    "|4 5| |8 9|"
   ]
  },
  {
   "cell_type": "markdown",
   "id": "3b8b4966",
   "metadata": {},
   "source": [
    "## Working on 2d array"
   ]
  },
  {
   "cell_type": "code",
   "execution_count": 158,
   "id": "4be77443",
   "metadata": {},
   "outputs": [
    {
     "name": "stdout",
     "output_type": "stream",
     "text": [
      "[0 1 2 3] 0\n",
      "[4 5 6 7] 1\n",
      "[ 8  9 10 11] 2\n"
     ]
    }
   ],
   "source": [
    "for pos,i in enumerate(a2):\n",
    "    print(i,pos)"
   ]
  },
  {
   "cell_type": "markdown",
   "id": "85c979c9",
   "metadata": {},
   "source": [
    "# So Sequence is row 1, row 2 row 3"
   ]
  },
  {
   "cell_type": "markdown",
   "id": "db8c9ae2",
   "metadata": {},
   "source": [
    "# extract \n",
    "# 0 1  2 3\n",
    "# 4 5  6 7 "
   ]
  },
  {
   "cell_type": "code",
   "execution_count": 182,
   "id": "856ee64c",
   "metadata": {},
   "outputs": [
    {
     "name": "stdout",
     "output_type": "stream",
     "text": [
      "[0 1 2 3] 0\n",
      "[4 5 6 7] 1\n"
     ]
    }
   ],
   "source": [
    "for pos,i in enumerate(a2):\n",
    "    if pos != 2:\n",
    "        print(i[0::],pos)"
   ]
  },
  {
   "cell_type": "code",
   "execution_count": 189,
   "id": "0aa4654e",
   "metadata": {},
   "outputs": [
    {
     "name": "stdout",
     "output_type": "stream",
     "text": [
      "[0 1 2 3]\n",
      "[4 5 6 7]\n"
     ]
    }
   ],
   "source": [
    "for pos,i in enumerate(a2):\n",
    "    if pos != 2:\n",
    "        print(i[0::])"
   ]
  },
  {
   "cell_type": "markdown",
   "id": "57a6f14f",
   "metadata": {},
   "source": [
    "# np.nditer()\n",
    "## this function iterate the elements we dont need to nested loop"
   ]
  },
  {
   "cell_type": "code",
   "execution_count": 284,
   "id": "9677d4ae",
   "metadata": {},
   "outputs": [
    {
     "name": "stdout",
     "output_type": "stream",
     "text": [
      "0\n",
      "1\n",
      "2\n",
      "3\n",
      "4\n",
      "5\n",
      "6\n",
      "7\n",
      "8\n",
      "9\n",
      "10\n",
      "11\n"
     ]
    }
   ],
   "source": [
    "for i in np.nditer(a2):\n",
    "    print(i)"
   ]
  },
  {
   "cell_type": "markdown",
   "id": "a32f079e",
   "metadata": {},
   "source": [
    "## 3D array"
   ]
  },
  {
   "cell_type": "code",
   "execution_count": 287,
   "id": "153b70eb",
   "metadata": {},
   "outputs": [
    {
     "name": "stdout",
     "output_type": "stream",
     "text": [
      "0\n",
      "1\n",
      "2\n",
      "3\n",
      "4\n",
      "5\n",
      "6\n",
      "7\n"
     ]
    }
   ],
   "source": [
    "for i in np.nditer(a3):\n",
    "    print(i)"
   ]
  }
 ],
 "metadata": {
  "kernelspec": {
   "display_name": "Python 3 (ipykernel)",
   "language": "python",
   "name": "python3"
  },
  "language_info": {
   "codemirror_mode": {
    "name": "ipython",
    "version": 3
   },
   "file_extension": ".py",
   "mimetype": "text/x-python",
   "name": "python",
   "nbconvert_exporter": "python",
   "pygments_lexer": "ipython3",
   "version": "3.10.6"
  }
 },
 "nbformat": 4,
 "nbformat_minor": 5
}

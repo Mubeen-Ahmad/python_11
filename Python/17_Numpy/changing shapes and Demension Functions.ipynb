{
 "cells": [
  {
   "cell_type": "markdown",
   "id": "b82dcbe3",
   "metadata": {},
   "source": [
    "# Changing Shapes"
   ]
  },
  {
   "cell_type": "markdown",
   "id": "4934adda",
   "metadata": {},
   "source": [
    "- ## *np.resize()*\n",
    "- ## *np.reshape()*\n",
    "- ## *np.ravel()*\n",
    "- ## *.flat*\n",
    "- ## .flaten()"
   ]
  },
  {
   "cell_type": "markdown",
   "id": "25909b2a",
   "metadata": {},
   "source": [
    "# Changing number of Dimensions"
   ]
  },
  {
   "cell_type": "markdown",
   "id": "25a4dd57",
   "metadata": {},
   "source": [
    "- ## *np.atleast_1d()*\n",
    "- ## *np.atleast_2d()*\n",
    "- ## *np.atleast_3d()*\n",
    "- ## *np.expand_dims()*\n",
    "- ## *np.squeeze()*\n",
    "- ## *np.broadcast_array()*\n",
    "- ## *np.broadcast()*\n",
    "- ## *np.broadcast_to()*"
   ]
  },
  {
   "cell_type": "markdown",
   "id": "0bbe2f39",
   "metadata": {},
   "source": [
    "# *np.resize()*\n",
    "\n",
    "<br>\n",
    "\n",
    "- ### In NumPy, the resize() function is used to change the size of an array. The syntax of this function is numpy.resize(arr, shape), where arr is the input array and shape is a tuple that specifies the desired size.\n",
    "<br>\n",
    "\n",
    "- ### By using the resize() function, we can modify the size of an array. If the desired size is smaller than the existing size, then the extra elements are cut off. And if the desired size is larger than the existing size, then the elements of the array are repeated.\n",
    "<br>\n",
    "\n",
    "- ### While the reshape() function is also used to modify the size of an array, it changes the dimensions of the array. By using the reshape() function, we can convert a 1D array into a 2D or 3D array. However, with the resize() function, we cannot change the dimensions of the array, only its size.\n",
    "<br>\n",
    "\n",
    "- ### Similarly, when modifying the size of an array using the reshape() function, if the product of the desired size and the existing size is not the same, then the reshape() function generates an error. But with the resize() function, we can set the size to any value without any error."
   ]
  },
  {
   "cell_type": "code",
   "execution_count": 2,
   "id": "cd813109",
   "metadata": {},
   "outputs": [],
   "source": [
    "import numpy as np"
   ]
  },
  {
   "cell_type": "code",
   "execution_count": 3,
   "id": "f62eb62b",
   "metadata": {},
   "outputs": [
    {
     "data": {
      "text/plain": [
       "array([[1, 2],\n",
       "       [3, 4],\n",
       "       [5, 6]])"
      ]
     },
     "execution_count": 3,
     "metadata": {},
     "output_type": "execute_result"
    }
   ],
   "source": [
    "arr = np.array([[1, 2], [3, 4], [5, 6]])\n",
    "arr"
   ]
  },
  {
   "cell_type": "code",
   "execution_count": 5,
   "id": "3c7a0611",
   "metadata": {},
   "outputs": [
    {
     "data": {
      "text/plain": [
       "(3, 2)"
      ]
     },
     "execution_count": 5,
     "metadata": {},
     "output_type": "execute_result"
    }
   ],
   "source": [
    "arr.shape"
   ]
  },
  {
   "cell_type": "code",
   "execution_count": 6,
   "id": "936c7741",
   "metadata": {},
   "outputs": [
    {
     "data": {
      "text/plain": [
       "array([[1, 2, 3],\n",
       "       [4, 5, 6]])"
      ]
     },
     "execution_count": 6,
     "metadata": {},
     "output_type": "execute_result"
    }
   ],
   "source": [
    "np.resize(a=arr, new_shape=(2,3))  # change shape"
   ]
  },
  {
   "cell_type": "code",
   "execution_count": 7,
   "id": "5a2ebad2",
   "metadata": {},
   "outputs": [
    {
     "data": {
      "text/plain": [
       "array([[1, 2],\n",
       "       [3, 4]])"
      ]
     },
     "execution_count": 7,
     "metadata": {},
     "output_type": "execute_result"
    }
   ],
   "source": [
    "np.resize(a=arr, new_shape=(2,2))  # change shape now ignore elements"
   ]
  },
  {
   "cell_type": "code",
   "execution_count": 8,
   "id": "e538fbe3",
   "metadata": {},
   "outputs": [
    {
     "data": {
      "text/plain": [
       "array([[1, 2, 3, 4, 5, 6, 1, 2, 3]])"
      ]
     },
     "execution_count": 8,
     "metadata": {},
     "output_type": "execute_result"
    }
   ],
   "source": [
    "np.resize(a=arr, new_shape=(1,9))  # change shape repeating elements"
   ]
  },
  {
   "cell_type": "code",
   "execution_count": 9,
   "id": "d938fb0d",
   "metadata": {},
   "outputs": [
    {
     "data": {
      "text/plain": [
       "array([[1, 2, 3, 4, 5, 6]])"
      ]
     },
     "execution_count": 9,
     "metadata": {},
     "output_type": "execute_result"
    }
   ],
   "source": [
    " np.resize(a=arr, new_shape=(1,6))  # change shape now ignore elements"
   ]
  },
  {
   "cell_type": "code",
   "execution_count": 11,
   "id": "f9190732",
   "metadata": {},
   "outputs": [],
   "source": [
    "## so we can't remove the Dimensions thats why we use reshape function"
   ]
  },
  {
   "cell_type": "markdown",
   "id": "efc4f05f",
   "metadata": {},
   "source": [
    "# *np.reshape()*\n",
    "<br>\n",
    "\n",
    "- ### Numpy's reshape() function is used to modify the shape of an existing array. This means that we can change the shape of an existing array.\n",
    "<br>\n",
    "\n",
    "- ### In this function, we need to provide the original array and the desired shape as arguments. We need to change the shape of the original array and define the dimensions of the new shape in the desired shape argument.\n",
    "<br>\n",
    "\n",
    "- ### The reshape() function is used for array manipulation. With this function, we can change the dimensions of an array, which allows us to work with data analysis and manipulation.\n",
    "<br>\n",
    "\n",
    "# Parameters\n",
    "<br>\n",
    "\n",
    "- ## a Required\n",
    "- ## newshape Required\n",
    "- ## order Optional"
   ]
  },
  {
   "cell_type": "code",
   "execution_count": 2,
   "id": "d2ada1b0",
   "metadata": {},
   "outputs": [
    {
     "data": {
      "text/plain": [
       "array([1, 2, 3, 4, 5, 6])"
      ]
     },
     "execution_count": 2,
     "metadata": {},
     "output_type": "execute_result"
    }
   ],
   "source": [
    "array = np.array([1,2,3,4,5,6])\n",
    "array"
   ]
  },
  {
   "cell_type": "code",
   "execution_count": 3,
   "id": "8c45596f",
   "metadata": {},
   "outputs": [
    {
     "data": {
      "text/plain": [
       "(6,)"
      ]
     },
     "execution_count": 3,
     "metadata": {},
     "output_type": "execute_result"
    }
   ],
   "source": [
    "# checking shape\n",
    "array.shape"
   ]
  },
  {
   "cell_type": "code",
   "execution_count": 4,
   "id": "a5cd4a72",
   "metadata": {},
   "outputs": [
    {
     "data": {
      "text/plain": [
       "array([[1, 2],\n",
       "       [3, 4],\n",
       "       [5, 6]])"
      ]
     },
     "execution_count": 4,
     "metadata": {},
     "output_type": "execute_result"
    }
   ],
   "source": [
    "new = np.reshape(a=array,newshape=(3,2)) # 3 * 2 = 6\n",
    "new"
   ]
  },
  {
   "cell_type": "code",
   "execution_count": 5,
   "id": "210eb85a",
   "metadata": {},
   "outputs": [
    {
     "data": {
      "text/plain": [
       "(3, 2)"
      ]
     },
     "execution_count": 5,
     "metadata": {},
     "output_type": "execute_result"
    }
   ],
   "source": [
    "# check new shape\n",
    "new.shape"
   ]
  },
  {
   "cell_type": "code",
   "execution_count": 6,
   "id": "6cc414be",
   "metadata": {},
   "outputs": [
    {
     "data": {
      "text/plain": [
       "array([[1, 2],\n",
       "       [3, 4],\n",
       "       [5, 6]])"
      ]
     },
     "execution_count": 6,
     "metadata": {},
     "output_type": "execute_result"
    }
   ],
   "source": [
    "np.reshape(a=array,newshape=(3,-1)) # -1 AUTO adjust array shape"
   ]
  },
  {
   "cell_type": "code",
   "execution_count": 7,
   "id": "ace45144",
   "metadata": {},
   "outputs": [
    {
     "data": {
      "text/plain": [
       "array([[1, 4],\n",
       "       [2, 5],\n",
       "       [3, 6]])"
      ]
     },
     "execution_count": 7,
     "metadata": {},
     "output_type": "execute_result"
    }
   ],
   "source": [
    "np.reshape(a=array,newshape=(3,2),order=\"F\")"
   ]
  },
  {
   "cell_type": "code",
   "execution_count": 8,
   "id": "92114a4c",
   "metadata": {},
   "outputs": [
    {
     "data": {
      "text/plain": [
       "array([[1, 2],\n",
       "       [3, 4],\n",
       "       [5, 6]])"
      ]
     },
     "execution_count": 8,
     "metadata": {},
     "output_type": "execute_result"
    }
   ],
   "source": [
    "np.reshape(a=array,newshape=(3,2),order=\"A\") # C,F,A,K VALID ORDERS"
   ]
  },
  {
   "cell_type": "markdown",
   "id": "0e09f3d8",
   "metadata": {},
   "source": [
    "# *np.ravel()*\n",
    "<br>\n",
    "\n",
    "- ### In NumPy, ravel() is a function that helps us to flatten the elements of an existing array into a one-dimensional array. This means that we can arrange the elements of an existing array into a single line.\n",
    "<br>\n",
    "\n",
    "- ### Both the reshape() and ravel() functions are used in array manipulation. However, their main difference is that the reshape() function helps us to modify the shape of the array, while the ravel() function helps us to flatten the elements of the array. The ravel() function does not create a copy of the array but directly flattens the elements of the array.\n",
    "<br>\n",
    "\n",
    "- ### The ravel() function is used in data analysis where we need a one-dimensional array.\n",
    "<br>\n",
    "\n",
    "# Parameters\n",
    "<br>\n",
    "\n",
    "- ## a Requird\n",
    "- ## order Optional\n"
   ]
  },
  {
   "cell_type": "code",
   "execution_count": 9,
   "id": "6020e73f",
   "metadata": {},
   "outputs": [
    {
     "data": {
      "text/plain": [
       "array([[[1, 2, 3]]])"
      ]
     },
     "execution_count": 9,
     "metadata": {},
     "output_type": "execute_result"
    }
   ],
   "source": [
    "# 3D array\n",
    "arr = np.array([[[1,2,3]]])\n",
    "arr"
   ]
  },
  {
   "cell_type": "code",
   "execution_count": 10,
   "id": "3ddc2dd5",
   "metadata": {},
   "outputs": [
    {
     "data": {
      "text/plain": [
       "3"
      ]
     },
     "execution_count": 10,
     "metadata": {},
     "output_type": "execute_result"
    }
   ],
   "source": [
    "# check dim\n",
    "arr.ndim"
   ]
  },
  {
   "cell_type": "code",
   "execution_count": 11,
   "id": "73924d78",
   "metadata": {},
   "outputs": [
    {
     "data": {
      "text/plain": [
       "array([1, 2, 3])"
      ]
     },
     "execution_count": 11,
     "metadata": {},
     "output_type": "execute_result"
    }
   ],
   "source": [
    "# use raval\n",
    "reduce = np.ravel(arr)\n",
    "reduce"
   ]
  },
  {
   "cell_type": "code",
   "execution_count": 12,
   "id": "40bc6b09",
   "metadata": {},
   "outputs": [
    {
     "data": {
      "text/plain": [
       "1"
      ]
     },
     "execution_count": 12,
     "metadata": {},
     "output_type": "execute_result"
    }
   ],
   "source": [
    "reduce.ndim # check dim"
   ]
  },
  {
   "cell_type": "code",
   "execution_count": 13,
   "id": "ebf5da89",
   "metadata": {},
   "outputs": [
    {
     "data": {
      "text/plain": [
       "array([1, 2, 3, 4, 5, 6])"
      ]
     },
     "execution_count": 13,
     "metadata": {},
     "output_type": "execute_result"
    }
   ],
   "source": [
    "np.ravel(np.array([ [1,2,3], [4,5,6] ]))"
   ]
  },
  {
   "cell_type": "code",
   "execution_count": 14,
   "id": "c8f2ea0d",
   "metadata": {},
   "outputs": [
    {
     "data": {
      "text/plain": [
       "array([1, 4, 2, 5, 3, 6])"
      ]
     },
     "execution_count": 14,
     "metadata": {},
     "output_type": "execute_result"
    }
   ],
   "source": [
    "np.ravel(np.array([ [1,2,3], [4,5,6] ]),order=\"F\")"
   ]
  },
  {
   "cell_type": "code",
   "execution_count": 15,
   "id": "39581938",
   "metadata": {},
   "outputs": [
    {
     "data": {
      "text/plain": [
       "array([-1])"
      ]
     },
     "execution_count": 15,
     "metadata": {},
     "output_type": "execute_result"
    }
   ],
   "source": [
    "np.ravel(-1)"
   ]
  },
  {
   "cell_type": "markdown",
   "id": "783cb1aa",
   "metadata": {},
   "source": [
    "- ### The NumPy ndarray.flat() function is similar to the ravel() function in that it helps us flatten an existing array's elements into a one-dimensional array. This means we can arrange all the elements of an array in a single line.\n",
    "<br>\n",
    "\n",
    "- ### However, the major difference between ndarray.flat() and ravel() is that the former returns the array's elements as an iterator object that we can reshape later. This means we can perform any operation with this iterator object and then reshape it.\n",
    "<br>\n",
    "\n",
    "- ### Both ravel() and ndarray.flat() functions are useful for flattening the elements of an array. However, ravel() function directly flattens the elements of an array without making a copy. In contrast, the ndarray.flat() function returns an iterator object that can be reshaped later.\n",
    "<br>\n",
    "\n",
    "- ### This function is also useful in data analysis where we require a one-dimensional array and need to reshape the elements of an array."
   ]
  },
  {
   "cell_type": "code",
   "execution_count": 16,
   "id": "10cca624",
   "metadata": {},
   "outputs": [
    {
     "data": {
      "text/plain": [
       "array([[1, 2, 3],\n",
       "       [4, 5, 6],\n",
       "       [7, 8, 9]])"
      ]
     },
     "execution_count": 16,
     "metadata": {},
     "output_type": "execute_result"
    }
   ],
   "source": [
    "arr = np.array([[1, 2, 3], [4, 5, 6], [7 ,8, 9]])\n",
    "arr"
   ]
  },
  {
   "cell_type": "code",
   "execution_count": 17,
   "id": "88f57d87",
   "metadata": {},
   "outputs": [
    {
     "data": {
      "text/plain": [
       "<numpy.flatiter at 0x5583d55e23c0>"
      ]
     },
     "execution_count": 17,
     "metadata": {},
     "output_type": "execute_result"
    }
   ],
   "source": [
    "iterable = arr.flat\n",
    "iterable # now array are iterable"
   ]
  },
  {
   "cell_type": "code",
   "execution_count": 18,
   "id": "76c7a899",
   "metadata": {},
   "outputs": [
    {
     "data": {
      "text/plain": [
       "9"
      ]
     },
     "execution_count": 18,
     "metadata": {},
     "output_type": "execute_result"
    }
   ],
   "source": [
    "len(iterable)"
   ]
  },
  {
   "cell_type": "code",
   "execution_count": 19,
   "id": "89a521b2",
   "metadata": {},
   "outputs": [
    {
     "name": "stdout",
     "output_type": "stream",
     "text": [
      "1\n",
      "2\n",
      "3\n",
      "4\n",
      "5\n",
      "6\n",
      "7\n",
      "8\n",
      "9\n"
     ]
    }
   ],
   "source": [
    "for i in iterable:\n",
    "    print(i)"
   ]
  },
  {
   "cell_type": "code",
   "execution_count": 20,
   "id": "f5e3a640",
   "metadata": {},
   "outputs": [
    {
     "name": "stdout",
     "output_type": "stream",
     "text": [
      "[1 2 3]\n",
      "[4 5 6]\n",
      "[7 8 9]\n"
     ]
    }
   ],
   "source": [
    "# traversing without using .flat\n",
    "for i in arr:\n",
    "    print(i)"
   ]
  },
  {
   "cell_type": "markdown",
   "id": "3544a128",
   "metadata": {},
   "source": [
    "# *.flatten()*\n",
    "<br>\n",
    "\n",
    "- ### The NumPy function ndarray.flatten() helps us to flatten the elements of an existing array into a one-dimensional array, just like the ravel() and ndarray.flat functions. This means that we can arrange all the elements of an existing array together in a line.\n",
    "<br>\n",
    "\n",
    "- ### However, the major difference with ndarray.flatten() is that it returns a new array in flattened form, while ndarray.flat returns an iterator object.\n",
    "<br>\n",
    "\n",
    "- ### ndarray.flatten() creates a copy of the original array and flattens its elements into a new array. This means that there are no changes to the original array. On the other hand, ndarray.flat() flattens the elements of the original array, so if we make any changes to the iterator object, those changes will be reflected in the original array as well.\n",
    "<br>\n",
    "\n",
    "- ### Both functions are used for flattening array elements, but they return different objects. If we need a one-dimensional array, then ndarray.flatten() function is very useful.\n",
    "<br>\n",
    "\n",
    "# Parameter\n",
    "<br>\n",
    "\n",
    "- ## order optional"
   ]
  },
  {
   "cell_type": "code",
   "execution_count": 21,
   "id": "47d02b21",
   "metadata": {},
   "outputs": [
    {
     "data": {
      "text/plain": [
       "array([[1, 2, 3],\n",
       "       [4, 5, 6],\n",
       "       [7, 8, 9]])"
      ]
     },
     "execution_count": 21,
     "metadata": {},
     "output_type": "execute_result"
    }
   ],
   "source": [
    "arr = np.array([[1, 2, 3], [4, 5, 6], [7 ,8, 9]])\n",
    "arr"
   ]
  },
  {
   "cell_type": "code",
   "execution_count": 22,
   "id": "6aa5d57d",
   "metadata": {},
   "outputs": [
    {
     "data": {
      "text/plain": [
       "array([1, 2, 3, 4, 5, 6, 7, 8, 9])"
      ]
     },
     "execution_count": 22,
     "metadata": {},
     "output_type": "execute_result"
    }
   ],
   "source": [
    "arr.flatten()"
   ]
  },
  {
   "cell_type": "code",
   "execution_count": 23,
   "id": "7abb722d",
   "metadata": {},
   "outputs": [
    {
     "data": {
      "text/plain": [
       "array([1, 4, 7, 2, 5, 8, 3, 6, 9])"
      ]
     },
     "execution_count": 23,
     "metadata": {},
     "output_type": "execute_result"
    }
   ],
   "source": [
    "arr.flatten(order=\"F\")"
   ]
  },
  {
   "cell_type": "code",
   "execution_count": 24,
   "id": "2cc0ef48",
   "metadata": {},
   "outputs": [
    {
     "name": "stdout",
     "output_type": "stream",
     "text": [
      "1\n",
      "2\n",
      "3\n",
      "4\n",
      "5\n",
      "6\n",
      "7\n",
      "8\n",
      "9\n"
     ]
    }
   ],
   "source": [
    "for i in arr.flatten():\n",
    "    print(i)"
   ]
  },
  {
   "cell_type": "markdown",
   "id": "fdb269bb",
   "metadata": {},
   "source": [
    "# *np.atleast_1d()*\n",
    "<br>\n",
    "\n",
    "- ### NumPy's atleast_1d() function is used to convert the input into at least a one-dimensional array. If the input is already a one-dimensional array, the function does not modify it and returns it as is. However, if the input is a scalar or a sequence, the function converts it into a one-dimensional array.\n",
    "<br>\n",
    "\n",
    "- ### This means that we do not need to worry about the shape of the input and can always use atleast_1d() function to convert it into a one-dimensional array.\n",
    "<br>\n",
    "\n",
    "# Parmeters\n",
    "<br>\n",
    "\n",
    "- ## *args"
   ]
  },
  {
   "cell_type": "code",
   "execution_count": 25,
   "id": "75ec5a14",
   "metadata": {},
   "outputs": [
    {
     "data": {
      "text/plain": [
       "array(100)"
      ]
     },
     "execution_count": 25,
     "metadata": {},
     "output_type": "execute_result"
    }
   ],
   "source": [
    "arr = np.array(100)\n",
    "arr"
   ]
  },
  {
   "cell_type": "code",
   "execution_count": 26,
   "id": "89565699",
   "metadata": {},
   "outputs": [
    {
     "data": {
      "text/plain": [
       "0"
      ]
     },
     "execution_count": 26,
     "metadata": {},
     "output_type": "execute_result"
    }
   ],
   "source": [
    "# check dim\n",
    "arr.ndim"
   ]
  },
  {
   "cell_type": "code",
   "execution_count": 27,
   "id": "af86baca",
   "metadata": {},
   "outputs": [
    {
     "data": {
      "text/plain": [
       "array([100])"
      ]
     },
     "execution_count": 27,
     "metadata": {},
     "output_type": "execute_result"
    }
   ],
   "source": [
    "np.atleast_1d(arr)"
   ]
  },
  {
   "cell_type": "code",
   "execution_count": 28,
   "id": "304b57d1",
   "metadata": {},
   "outputs": [
    {
     "data": {
      "text/plain": [
       "[array([1]), array([2]), array([3])]"
      ]
     },
     "execution_count": 28,
     "metadata": {},
     "output_type": "execute_result"
    }
   ],
   "source": [
    "np.atleast_1d(1,2,3) # now return list in which arr elements are 1 d array"
   ]
  },
  {
   "cell_type": "markdown",
   "id": "07662375",
   "metadata": {},
   "source": [
    "# *np.atleast_2d()*\n",
    "<br>\n",
    "\n",
    "- ### In NumPy, atleast_2d() is a function that helps us to convert the input into at least a two-dimensional array. If the input is already a two-dimensional array, this function does not modify it and returns it as it is. However, if the input is a scalar or a one-dimensional array, then this function converts it into a two-dimensional array.\n",
    "<br>\n",
    "\n",
    "- ### This means that we do not need to worry about the shape of the input and can always use atleast_2d() function to convert the input into a two-dimensional array.\n",
    "<br>\n",
    "\n",
    "# Parameters\n",
    "<br>\n",
    "\n",
    "  - ## *args"
   ]
  },
  {
   "cell_type": "code",
   "execution_count": 29,
   "id": "d5184736",
   "metadata": {},
   "outputs": [
    {
     "data": {
      "text/plain": [
       "array([[1, 2, 3]])"
      ]
     },
     "execution_count": 29,
     "metadata": {},
     "output_type": "execute_result"
    }
   ],
   "source": [
    "arr = np.atleast_2d([1,2,3])\n",
    "arr"
   ]
  },
  {
   "cell_type": "code",
   "execution_count": 30,
   "id": "62936b8e",
   "metadata": {},
   "outputs": [
    {
     "data": {
      "text/plain": [
       "2"
      ]
     },
     "execution_count": 30,
     "metadata": {},
     "output_type": "execute_result"
    }
   ],
   "source": [
    "arr.ndim"
   ]
  },
  {
   "cell_type": "code",
   "execution_count": 31,
   "id": "6151e8b4",
   "metadata": {},
   "outputs": [
    {
     "data": {
      "text/plain": [
       "[array([[1]]), array([[2]]), array([[3]])]"
      ]
     },
     "execution_count": 31,
     "metadata": {},
     "output_type": "execute_result"
    }
   ],
   "source": [
    "np.atleast_2d(1,2,3) # now return list in which all elements are 2 d array"
   ]
  },
  {
   "cell_type": "markdown",
   "id": "a33f78a2",
   "metadata": {},
   "source": [
    "# *np.atleast_3d()*\n",
    "<br>\n",
    "\n",
    "- ### The numpy.atleast_3d() function is used to convert the input into a 3-dimensional array, even if it has fewer dimensions. If the input is already a 3-dimensional array, then it is returned as it is, without any modifications. However, if the input is a scalar or a 1-dimensional or 2-dimensional array, then it is converted into a 3-dimensional array.\n",
    "<br>\n",
    "\n",
    "- ### This is useful when we want to perform operations on a 3-dimensional array but we are not sure if the input is already in that format or not. We can use numpy.atleast_3d() function to ensure that the input is in the required format.\n",
    "<br>\n",
    "\n",
    "# Parameters\n",
    "<br>\n",
    "\n",
    "- ## *args"
   ]
  },
  {
   "cell_type": "code",
   "execution_count": 32,
   "id": "8ba4639c",
   "metadata": {},
   "outputs": [
    {
     "data": {
      "text/plain": [
       "array(100)"
      ]
     },
     "execution_count": 32,
     "metadata": {},
     "output_type": "execute_result"
    }
   ],
   "source": [
    "arr = np.array(100)\n",
    "arr"
   ]
  },
  {
   "cell_type": "code",
   "execution_count": 33,
   "id": "e5ea8cc2",
   "metadata": {},
   "outputs": [
    {
     "data": {
      "text/plain": [
       "array([[[100]]])"
      ]
     },
     "execution_count": 33,
     "metadata": {},
     "output_type": "execute_result"
    }
   ],
   "source": [
    "np.atleast_3d(arr)"
   ]
  },
  {
   "cell_type": "code",
   "execution_count": 34,
   "id": "adb1f412",
   "metadata": {},
   "outputs": [
    {
     "data": {
      "text/plain": [
       "[array([[[1]]]), array([[[2]]]), array([[[3]]])]"
      ]
     },
     "execution_count": 34,
     "metadata": {},
     "output_type": "execute_result"
    }
   ],
   "source": [
    "np.atleast_3d(1,2,3) # now return list in which all elements are 3 d array"
   ]
  },
  {
   "cell_type": "markdown",
   "id": "af43595c",
   "metadata": {},
   "source": [
    "# *np.expand_dims()*\n",
    "<br>\n",
    "\n",
    "- ### The numpy.expand_dims() function is used to add an extra dimension to an array. It takes the array and the axis as arguments and returns a new array with the specified dimension added. This function can be useful in situations where an operation requires arrays with matching dimensions.\n",
    "<br>\n",
    "\n",
    "# Parameters\n",
    "<br>\n",
    "\n",
    "- ## a  Required\n",
    "- ## axis Required"
   ]
  },
  {
   "cell_type": "code",
   "execution_count": 35,
   "id": "9621cc52",
   "metadata": {},
   "outputs": [
    {
     "data": {
      "text/plain": [
       "array([1, 2, 3])"
      ]
     },
     "execution_count": 35,
     "metadata": {},
     "output_type": "execute_result"
    }
   ],
   "source": [
    "a = np.array([1, 2, 3])\n",
    "a"
   ]
  },
  {
   "cell_type": "code",
   "execution_count": 36,
   "id": "1c0e6287",
   "metadata": {},
   "outputs": [
    {
     "data": {
      "text/plain": [
       "1"
      ]
     },
     "execution_count": 36,
     "metadata": {},
     "output_type": "execute_result"
    }
   ],
   "source": [
    "# check dim\n",
    "a.ndim"
   ]
  },
  {
   "cell_type": "code",
   "execution_count": 37,
   "id": "e0f88aa4",
   "metadata": {},
   "outputs": [
    {
     "data": {
      "text/plain": [
       "array([[1, 2, 3]])"
      ]
     },
     "execution_count": 37,
     "metadata": {},
     "output_type": "execute_result"
    }
   ],
   "source": [
    "np.expand_dims(a=a,axis=0)"
   ]
  },
  {
   "cell_type": "code",
   "execution_count": 38,
   "id": "3eb21d85",
   "metadata": {},
   "outputs": [
    {
     "data": {
      "text/plain": [
       "array([[1],\n",
       "       [2],\n",
       "       [3]])"
      ]
     },
     "execution_count": 38,
     "metadata": {},
     "output_type": "execute_result"
    }
   ],
   "source": [
    "np.expand_dims(a=a,axis=1)"
   ]
  },
  {
   "cell_type": "markdown",
   "id": "25966a0e",
   "metadata": {},
   "source": [
    "# *np.squeeze()*\n",
    "<br>\n",
    "\n",
    "- ### The numpy.squeeze() function is used to reduce or remove dimensions from any array. If any dimension of an array has a size of 1, it means that the values in that dimension are the same across all elements, and removing that dimension will not affect the values of the array.\n",
    "<br>\n",
    "\n",
    "- ### The use of the numpy.squeeze() function is when we need to provide an input array for a function or operation but do not require any dimensions.\n",
    "<br>\n",
    "\n",
    "# Parameter\n",
    "<br>\n",
    "\n",
    "- ## a Required\n",
    "- ## axis optional"
   ]
  },
  {
   "cell_type": "code",
   "execution_count": 39,
   "id": "51bc3ff9",
   "metadata": {},
   "outputs": [],
   "source": [
    "arr = np.array([[[1], [2], [3]], [[4], [5], [6]]])"
   ]
  },
  {
   "cell_type": "code",
   "execution_count": 40,
   "id": "47867224",
   "metadata": {},
   "outputs": [
    {
     "data": {
      "text/plain": [
       "array([[[1],\n",
       "        [2],\n",
       "        [3]],\n",
       "\n",
       "       [[4],\n",
       "        [5],\n",
       "        [6]]])"
      ]
     },
     "execution_count": 40,
     "metadata": {},
     "output_type": "execute_result"
    }
   ],
   "source": [
    "arr"
   ]
  },
  {
   "cell_type": "code",
   "execution_count": 41,
   "id": "5d630e5e",
   "metadata": {},
   "outputs": [
    {
     "data": {
      "text/plain": [
       "3"
      ]
     },
     "execution_count": 41,
     "metadata": {},
     "output_type": "execute_result"
    }
   ],
   "source": [
    "# check ndim \n",
    "arr.ndim"
   ]
  },
  {
   "cell_type": "code",
   "execution_count": 42,
   "id": "07f45fdc",
   "metadata": {},
   "outputs": [
    {
     "data": {
      "text/plain": [
       "array([[1, 2, 3],\n",
       "       [4, 5, 6]])"
      ]
     },
     "execution_count": 42,
     "metadata": {},
     "output_type": "execute_result"
    }
   ],
   "source": [
    "# reduce 1 dim\n",
    "\n",
    "new = np.squeeze(arr)\n",
    "new"
   ]
  },
  {
   "cell_type": "code",
   "execution_count": 43,
   "id": "264a2e01",
   "metadata": {},
   "outputs": [
    {
     "data": {
      "text/plain": [
       "2"
      ]
     },
     "execution_count": 43,
     "metadata": {},
     "output_type": "execute_result"
    }
   ],
   "source": [
    "# now check dim\n",
    "\n",
    "new.ndim"
   ]
  },
  {
   "cell_type": "markdown",
   "id": "249de3ce",
   "metadata": {},
   "source": [
    "# np.bradcast_arrays()\n",
    "<br>\n",
    "\n",
    "- ### np.broadcast_arrays() is a NumPy function that broadcasts any number of input arrays against each other, in a way that they all have the same shape. This can be useful when we want to perform arithmetic or other operations on arrays with different shapes.\n",
    "<br>\n",
    "\n",
    "- ### The np.broadcast_arrays() function returns a tuple of the broadcasted arrays, which can be used for further calculations. It is important to note that this function does not create new arrays, but rather creates a view of the input arrays with broadcasted shapes.\n",
    "<br>\n",
    "\n",
    "- ### The broadcasting rules in NumPy can be a bit complex, especially when dealing with arrays with different numbers of dimensions. The np.broadcast_arrays() function simplifies this process by automatically broadcasting the arrays to have the same shape, regardless of their initial shape.\n",
    "<br>\n",
    "\n",
    "- ### Overall, the np.broadcast_arrays() function can be very useful for performing operations on arrays with different shapes, without having to manually reshape or broadcast them."
   ]
  },
  {
   "cell_type": "code",
   "execution_count": 44,
   "id": "a8f5fc45",
   "metadata": {},
   "outputs": [],
   "source": [
    "a = np.array([1, 2, 3])\n",
    "b = np.array([[1], [2], [3]])"
   ]
  },
  {
   "cell_type": "code",
   "execution_count": 45,
   "id": "b1453246",
   "metadata": {},
   "outputs": [
    {
     "data": {
      "text/plain": [
       "array([1, 2, 3])"
      ]
     },
     "execution_count": 45,
     "metadata": {},
     "output_type": "execute_result"
    }
   ],
   "source": [
    "a"
   ]
  },
  {
   "cell_type": "code",
   "execution_count": 46,
   "id": "8bd2c11e",
   "metadata": {},
   "outputs": [
    {
     "data": {
      "text/plain": [
       "array([[1],\n",
       "       [2],\n",
       "       [3]])"
      ]
     },
     "execution_count": 46,
     "metadata": {},
     "output_type": "execute_result"
    }
   ],
   "source": [
    "b"
   ]
  },
  {
   "cell_type": "code",
   "execution_count": 47,
   "id": "efd2f877",
   "metadata": {},
   "outputs": [
    {
     "data": {
      "text/plain": [
       "[array([[1, 2, 3],\n",
       "        [1, 2, 3],\n",
       "        [1, 2, 3]]),\n",
       " array([[1, 1, 1],\n",
       "        [2, 2, 2],\n",
       "        [3, 3, 3]])]"
      ]
     },
     "execution_count": 47,
     "metadata": {},
     "output_type": "execute_result"
    }
   ],
   "source": [
    "np.broadcast_arrays(a,b) # now we easily perform the opertions"
   ]
  },
  {
   "cell_type": "code",
   "execution_count": 48,
   "id": "8c4eb5ee",
   "metadata": {},
   "outputs": [],
   "source": [
    "x,y = np.broadcast_arrays(a,b) # split both arrays"
   ]
  },
  {
   "cell_type": "code",
   "execution_count": 49,
   "id": "a4c14eba",
   "metadata": {},
   "outputs": [
    {
     "data": {
      "text/plain": [
       "array([[1, 2, 3],\n",
       "       [1, 2, 3],\n",
       "       [1, 2, 3]])"
      ]
     },
     "execution_count": 49,
     "metadata": {},
     "output_type": "execute_result"
    }
   ],
   "source": [
    "x"
   ]
  },
  {
   "cell_type": "code",
   "execution_count": 50,
   "id": "0fe80f5e",
   "metadata": {},
   "outputs": [
    {
     "data": {
      "text/plain": [
       "array([[1, 1, 1],\n",
       "       [2, 2, 2],\n",
       "       [3, 3, 3]])"
      ]
     },
     "execution_count": 50,
     "metadata": {},
     "output_type": "execute_result"
    }
   ],
   "source": [
    "y"
   ]
  },
  {
   "cell_type": "code",
   "execution_count": 51,
   "id": "4083fd03",
   "metadata": {},
   "outputs": [
    {
     "data": {
      "text/plain": [
       "array([[2, 3, 4],\n",
       "       [3, 4, 5],\n",
       "       [4, 5, 6]])"
      ]
     },
     "execution_count": 51,
     "metadata": {},
     "output_type": "execute_result"
    }
   ],
   "source": [
    "x + y"
   ]
  },
  {
   "cell_type": "markdown",
   "id": "42b49e42",
   "metadata": {},
   "source": [
    "## but why we use np.broadcast_arrays() ? "
   ]
  },
  {
   "cell_type": "code",
   "execution_count": 52,
   "id": "f70c0a3f",
   "metadata": {},
   "outputs": [
    {
     "data": {
      "text/plain": [
       "array([[2, 3, 4],\n",
       "       [3, 4, 5],\n",
       "       [4, 5, 6]])"
      ]
     },
     "execution_count": 52,
     "metadata": {},
     "output_type": "execute_result"
    }
   ],
   "source": [
    "a + b # means a + b python perform the automatic broadcast the arrays"
   ]
  },
  {
   "cell_type": "markdown",
   "id": "9785e822",
   "metadata": {},
   "source": [
    "- ## NumPy automatically broadcasts arrays in many cases when you perform element-wise operations, like addition, subtraction, multiplication, etc. In such cases, you might not need to explicitly use `np.broadcast_arrays()`.\n",
    "<br>\n",
    "\n",
    "## However, there are situations where `np.broadcast_arrays()` can be helpful ?\n",
    "<br>\n",
    "\n",
    "- ### 1. Memory efficiency: When using np.broadcast_arrays()`, the returned broadcasted arrays share the same underlying data as the input arrays, which can save memory. This can be useful when working with large arrays.\n",
    "<br>\n",
    "\n",
    "- ### 2. Consistency in shape: If you want to ensure that multiple arrays have the same shape before performing an operation, using `np.broadcast_arrays() can help you achieve that. It returns arrays with the same shape as the result of broadcasting, making it easy to check that your arrays are compatible.\n",
    "<br>\n",
    "\n",
    "- ### 3. Complex operations: When you have more complex operations involving multiple arrays, or when you want to perform multiple operations on arrays with different shapes, using `np.broadcast_arrays() can simplify your code and make it easier to understand.\n",
    "<br>\n",
    "\n",
    "- ### 4. Custom functions: If you are implementing custom functions that involve element-wise operations, using `np.broadcast_arrays() can help make your code more robust by handling the broadcasting step explicitly, rather than relying on NumPy's automatic broadcasting.\n",
    "<br>\n",
    "\n",
    "- ### In summary, while NumPy does broadcast arrays automatically in many cases, using np.broadcast_arrays() can provide additional benefits, such as memory efficiency, shape consistency, simplification of complex operations, and improved robustness in custom functions."
   ]
  },
  {
   "cell_type": "code",
   "execution_count": 53,
   "id": "63981a2e",
   "metadata": {},
   "outputs": [],
   "source": [
    "# example 2\n",
    "\n",
    "x = np.array([1,2,3])\n",
    "y = np.array([[1],[2],[3],[4],[5]])"
   ]
  },
  {
   "cell_type": "code",
   "execution_count": 54,
   "id": "7bd20125",
   "metadata": {},
   "outputs": [
    {
     "data": {
      "text/plain": [
       "(3,)"
      ]
     },
     "execution_count": 54,
     "metadata": {},
     "output_type": "execute_result"
    }
   ],
   "source": [
    "x.shape"
   ]
  },
  {
   "cell_type": "code",
   "execution_count": 55,
   "id": "d9d85e15",
   "metadata": {},
   "outputs": [
    {
     "data": {
      "text/plain": [
       "(5, 1)"
      ]
     },
     "execution_count": 55,
     "metadata": {},
     "output_type": "execute_result"
    }
   ],
   "source": [
    "y.shape"
   ]
  },
  {
   "cell_type": "code",
   "execution_count": 56,
   "id": "190d7969",
   "metadata": {},
   "outputs": [
    {
     "name": "stdout",
     "output_type": "stream",
     "text": [
      "[1 2 3]\n",
      "\n",
      "[[1]\n",
      " [2]\n",
      " [3]\n",
      " [4]\n",
      " [5]]\n"
     ]
    }
   ],
   "source": [
    "print(x)\n",
    "print()\n",
    "print(y)"
   ]
  },
  {
   "cell_type": "code",
   "execution_count": 57,
   "id": "7e83af1b",
   "metadata": {},
   "outputs": [],
   "source": [
    "br_x, br_y = np.broadcast_arrays(x,y)"
   ]
  },
  {
   "cell_type": "code",
   "execution_count": 58,
   "id": "1b972205",
   "metadata": {},
   "outputs": [
    {
     "name": "stdout",
     "output_type": "stream",
     "text": [
      "[[1 2 3]\n",
      " [1 2 3]\n",
      " [1 2 3]\n",
      " [1 2 3]\n",
      " [1 2 3]]\n",
      "\n",
      "[[1 1 1]\n",
      " [2 2 2]\n",
      " [3 3 3]\n",
      " [4 4 4]\n",
      " [5 5 5]]\n"
     ]
    }
   ],
   "source": [
    "print(br_x)\n",
    "print()\n",
    "print(br_y)"
   ]
  },
  {
   "cell_type": "code",
   "execution_count": 59,
   "id": "7a361cad",
   "metadata": {},
   "outputs": [
    {
     "data": {
      "text/plain": [
       "array([[2, 3, 4],\n",
       "       [3, 4, 5],\n",
       "       [4, 5, 6],\n",
       "       [5, 6, 7],\n",
       "       [6, 7, 8]])"
      ]
     },
     "execution_count": 59,
     "metadata": {},
     "output_type": "execute_result"
    }
   ],
   "source": [
    "br_x + br_y"
   ]
  },
  {
   "cell_type": "markdown",
   "id": "99c1cb4e",
   "metadata": {},
   "source": [
    "# *np.broadcast()*\n",
    "<br>\n",
    "\n",
    "- ### The numpy.broadcast() function in NumPy is used to broadcast two arrays. This function provides information about the broadcastable arrays. Broadcasting is a process of comparing the dimensions of two arrays and if they are compatible, operations are performed.\n",
    "<br>\n",
    "\n",
    "- ### Broadcasting simplifies array operations and makes the code more efficient. The syntax of the numpy.broadcast() function is numpy.broadcast(shape_x, shape_y, …), where shape_x, shape_y, … are the shapes of input arrays. The output of this function is a broadcast object that stores information about the broadcastable arrays.\n",
    "<br>\n",
    "\n",
    "- ### We can perform operations on broadcastable arrays using the output of the numpy.broadcast() function, such as addition, multiplication, etc. In these operations, numpy broadcasting rules are applied by comparing the dimensions of the two arrays and if they are compatible, operations are performed.\n",
    "<br>\n",
    "\n",
    "- ### A numpy broadcast object is used in such operations, which is created using the numpy.broadcast() function. Broadcasting is very important in NumPy for performing vectorized operations."
   ]
  },
  {
   "cell_type": "code",
   "execution_count": 74,
   "id": "2f61d812",
   "metadata": {},
   "outputs": [
    {
     "data": {
      "text/plain": [
       "<numpy.broadcast at 0x5583d55e4890>"
      ]
     },
     "execution_count": 74,
     "metadata": {},
     "output_type": "execute_result"
    }
   ],
   "source": [
    "a = np.array([1, 2, 3])\n",
    "b = np.array([[4], [5], [6]])\n",
    "\n",
    "broadcast_obj = np.broadcast(a, b)\n",
    "\n",
    "broadcast_obj"
   ]
  },
  {
   "cell_type": "code",
   "execution_count": 75,
   "id": "7c050a1a",
   "metadata": {},
   "outputs": [
    {
     "data": {
      "text/plain": [
       "[(1, 4), (2, 4), (3, 4), (1, 5), (2, 5), (3, 5), (1, 6), (2, 6), (3, 6)]"
      ]
     },
     "execution_count": 75,
     "metadata": {},
     "output_type": "execute_result"
    }
   ],
   "source": [
    "# convert into list\n",
    "list(broadcast_obj)"
   ]
  },
  {
   "cell_type": "code",
   "execution_count": 76,
   "id": "28fc80a8",
   "metadata": {},
   "outputs": [
    {
     "data": {
      "text/plain": [
       "(3, 3)"
      ]
     },
     "execution_count": 76,
     "metadata": {},
     "output_type": "execute_result"
    }
   ],
   "source": [
    "#check shape\n",
    "broadcast_obj.shape"
   ]
  },
  {
   "cell_type": "code",
   "execution_count": 89,
   "id": "83cfac56",
   "metadata": {},
   "outputs": [
    {
     "data": {
      "text/plain": [
       "array([[0, 0, 0],\n",
       "       [0, 0, 0],\n",
       "       [0, 0, 0]])"
      ]
     },
     "execution_count": 89,
     "metadata": {},
     "output_type": "execute_result"
    }
   ],
   "source": [
    "# now use the broadcast_obj\n",
    "\n",
    "result = np.zeros(broadcast_obj.shape,dtype=int) \n",
    "result "
   ]
  },
  {
   "cell_type": "code",
   "execution_count": 90,
   "id": "43669e0e",
   "metadata": {},
   "outputs": [
    {
     "name": "stdout",
     "output_type": "stream",
     "text": [
      "0 1 [4]\n",
      "0 1 [4]\n",
      "0 1 [4]\n",
      "0 2 [5]\n",
      "0 2 [5]\n",
      "0 2 [5]\n",
      "0 3 [6]\n",
      "0 3 [6]\n",
      "0 3 [6]\n"
     ]
    }
   ],
   "source": [
    "for (i,j), _ in np.ndenumerate(result):\n",
    "#     print(i,j) # split 0.0 inside _\n",
    "    print(result[i,j],a[i],b[i]) "
   ]
  },
  {
   "cell_type": "code",
   "execution_count": 91,
   "id": "0c486222",
   "metadata": {},
   "outputs": [],
   "source": [
    "for (i, j), _ in np.ndenumerate(result):\n",
    "    result[i, j] = a[i] + b[j]  # perform add operation and save in result"
   ]
  },
  {
   "cell_type": "code",
   "execution_count": 92,
   "id": "7d94770d",
   "metadata": {},
   "outputs": [
    {
     "data": {
      "text/plain": [
       "array([[5, 6, 7],\n",
       "       [6, 7, 8],\n",
       "       [7, 8, 9]])"
      ]
     },
     "execution_count": 92,
     "metadata": {},
     "output_type": "execute_result"
    }
   ],
   "source": [
    "result"
   ]
  },
  {
   "cell_type": "code",
   "execution_count": 93,
   "id": "5c9cf560",
   "metadata": {},
   "outputs": [],
   "source": [
    "# Now use broadcast_arrays()\n",
    "x , y = np.broadcast_arrays(a,b)"
   ]
  },
  {
   "cell_type": "code",
   "execution_count": 94,
   "id": "44dce8fa",
   "metadata": {},
   "outputs": [
    {
     "data": {
      "text/plain": [
       "array([[5, 6, 7],\n",
       "       [6, 7, 8],\n",
       "       [7, 8, 9]])"
      ]
     },
     "execution_count": 94,
     "metadata": {},
     "output_type": "execute_result"
    }
   ],
   "source": [
    "x + y"
   ]
  },
  {
   "cell_type": "code",
   "execution_count": 96,
   "id": "a8a2549d",
   "metadata": {},
   "outputs": [
    {
     "name": "stdout",
     "output_type": "stream",
     "text": [
      "[[5 6 7]\n",
      " [6 7 8]\n",
      " [7 8 9]]\n",
      "\n",
      "[[5 6 7]\n",
      " [6 7 8]\n",
      " [7 8 9]]\n"
     ]
    }
   ],
   "source": [
    "a = np.array([1, 2, 3])\n",
    "b = np.array([[4], [5], [6]])\n",
    "\n",
    "broadcast_obj = np.broadcast(a, b)\n",
    "result = np.zeros(broadcast_obj.shape,dtype=int)\n",
    "\n",
    "for (i, j), _ in np.ndenumerate(result):\n",
    "    result[i, j] = a[i] + b[j] \n",
    "\n",
    "x , y = np.broadcast_arrays(a,b)\n",
    "print(x + y)\n",
    "print()\n",
    "print(result)"
   ]
  },
  {
   "cell_type": "markdown",
   "id": "67f4ded6",
   "metadata": {},
   "source": [
    "## Differences\n",
    "<br>\n",
    "\n",
    "- ### The np.broadcast() function compares the shapes of input arrays to provide information about broadcastable arrays. The output of this function is a broadcast object that is used for broadcasting. The shape of the output object created by np.broadcast() function is the **(maximum shape)** of all input arrays. This shape is used for broadcastable arrays.\n",
    "<br><br>\n",
    "\n",
    "- ### The np.broadcast_arrays() function is used to create broadcastable arrays. If the shape of an input array is not broadcastable, we can use this function to change its shape and make it broadcastable. The output of this function is broadcastable arrays, whose shape is determined by taking the **(maximum dimensions)** of the input arrays.\n",
    "<br><br>\n",
    "\n",
    "- ### When we use the np.broadcast() function, we use the broadcast object to perform operations. However, after using the np.broadcast_arrays() function, we modify the input arrays to create broadcastable arrays and then perform operations on them.\n",
    "<br>\n",
    "\n",
    "- ### In summary, the np.broadcast() function provides information about broadcastable arrays, while the np.broadcast_arrays() function is used to create broadcastable arrays.\n",
    "<br><br>"
   ]
  },
  {
   "cell_type": "markdown",
   "id": "ff5404ab",
   "metadata": {},
   "source": [
    "# *np.broadcast_to()*\n",
    "<br>\n",
    "\n",
    "- ### The NumPy broadcast_to() function is used to broadcast an array into a specified shape. The syntax for this function is numpy.broadcast_to(array, shape, subok=False), where the array is the input array to broadcast and shape is the broadcast shape. If subok=True, then this function will return any view of the input array, but if subok=False, then this function always creates a copy.\n",
    "<br><br>\n",
    "# Differences\n",
    "<br><br>\n",
    "\n",
    "- ### Broadcasting is used to perform operations between multiple arrays. The numpy.broadcast() function compares the shapes of input arrays and provides information about broadcastable arrays. This function returns a broadcast object, which is used for broadcasting. The shape of the output object of this function is the maximum shape of all input arrays, which is used for broadcastable arrays.\n",
    "<br>\n",
    "\n",
    "- ### The numpy.broadcast_to() function broadcasts a single array into a specified shape, while np.broadcast() function is used to convert multiple arrays into a broadcastable shape. Therefore, the use of both functions in broadcasting operations is different."
   ]
  },
  {
   "cell_type": "code",
   "execution_count": 148,
   "id": "dccb4638",
   "metadata": {},
   "outputs": [],
   "source": [
    "a = np.array([1, 2, 3])\n",
    "b = np.array([[1], [2], [3]])"
   ]
  },
  {
   "cell_type": "code",
   "execution_count": 126,
   "id": "230cec3d",
   "metadata": {},
   "outputs": [
    {
     "data": {
      "text/plain": [
       "array([[1, 1, 1],\n",
       "       [2, 2, 2],\n",
       "       [3, 3, 3]])"
      ]
     },
     "execution_count": 126,
     "metadata": {},
     "output_type": "execute_result"
    }
   ],
   "source": [
    "np.broadcast_to(b ,(3, 3))"
   ]
  },
  {
   "cell_type": "code",
   "execution_count": 134,
   "id": "7a2c9807",
   "metadata": {},
   "outputs": [
    {
     "data": {
      "text/plain": [
       "array([[1, 2, 3],\n",
       "       [1, 2, 3],\n",
       "       [1, 2, 3]])"
      ]
     },
     "execution_count": 134,
     "metadata": {},
     "output_type": "execute_result"
    }
   ],
   "source": [
    "np.broadcast_to(a ,(3, 3))"
   ]
  },
  {
   "cell_type": "code",
   "execution_count": 140,
   "id": "603cdec6",
   "metadata": {},
   "outputs": [
    {
     "data": {
      "text/plain": [
       "array([1, 2, 3])"
      ]
     },
     "execution_count": 140,
     "metadata": {},
     "output_type": "execute_result"
    }
   ],
   "source": [
    "a"
   ]
  },
  {
   "cell_type": "code",
   "execution_count": 143,
   "id": "2fc34b5f",
   "metadata": {},
   "outputs": [
    {
     "data": {
      "text/plain": [
       "array([[1, 2, 3]])"
      ]
     },
     "execution_count": 143,
     "metadata": {},
     "output_type": "execute_result"
    }
   ],
   "source": [
    "np.broadcast_to(a ,(1, 3))"
   ]
  },
  {
   "cell_type": "code",
   "execution_count": 144,
   "id": "c837336e",
   "metadata": {},
   "outputs": [
    {
     "data": {
      "text/plain": [
       "array([[1, 2, 3],\n",
       "       [1, 2, 3]])"
      ]
     },
     "execution_count": 144,
     "metadata": {},
     "output_type": "execute_result"
    }
   ],
   "source": [
    "np.broadcast_to(a ,(2, 3))"
   ]
  },
  {
   "cell_type": "code",
   "execution_count": 145,
   "id": "66c8cc43",
   "metadata": {},
   "outputs": [
    {
     "data": {
      "text/plain": [
       "array([[1, 2, 3],\n",
       "       [1, 2, 3],\n",
       "       [1, 2, 3]])"
      ]
     },
     "execution_count": 145,
     "metadata": {},
     "output_type": "execute_result"
    }
   ],
   "source": [
    "np.broadcast_to(a ,(3, 3))"
   ]
  },
  {
   "cell_type": "code",
   "execution_count": 147,
   "id": "e269f828",
   "metadata": {},
   "outputs": [
    {
     "data": {
      "text/plain": [
       "array([[1, 2, 3],\n",
       "       [1, 2, 3],\n",
       "       [1, 2, 3],\n",
       "       [1, 2, 3],\n",
       "       [1, 2, 3],\n",
       "       [1, 2, 3]])"
      ]
     },
     "execution_count": 147,
     "metadata": {},
     "output_type": "execute_result"
    }
   ],
   "source": [
    "np.broadcast_to(a ,(6, 3))"
   ]
  }
 ],
 "metadata": {
  "kernelspec": {
   "display_name": "Python 3 (ipykernel)",
   "language": "python",
   "name": "python3"
  },
  "language_info": {
   "codemirror_mode": {
    "name": "ipython",
    "version": 3
   },
   "file_extension": ".py",
   "mimetype": "text/x-python",
   "name": "python",
   "nbconvert_exporter": "python",
   "pygments_lexer": "ipython3",
   "version": "3.10.6"
  }
 },
 "nbformat": 4,
 "nbformat_minor": 5
}

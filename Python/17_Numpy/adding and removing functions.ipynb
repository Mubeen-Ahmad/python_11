{
 "cells": [
  {
   "cell_type": "markdown",
   "id": "93a62b46",
   "metadata": {},
   "source": [
    "- ## *np.delete()*\n",
    "- ## *np._s[::]*\n",
    "- ## *np.insert()*\n",
    "- ## *np.append()*\n",
    "- ## *np.trim_zeros()*"
   ]
  },
  {
   "cell_type": "markdown",
   "id": "397f7152",
   "metadata": {},
   "source": [
    "# *np.delete()*\n",
    "\n",
    "<br>\n",
    "\n",
    "- ### In NumPy, the delete() function is used to remove elements from an array. The syntax of this function is numpy.delete(arr, obj, axis=None), where arr is the input array, obj specifies the index or indices to remove, and axis argument is optional which specifies the dimension from which elements are to be removed.\n",
    "<br>\n",
    "\n",
    "- ### By using the delete() function, we can remove elements from an array, such as removing an element from a 1D array or removing rows and columns from a 2D array.\n",
    "<br>\n",
    "\n",
    "- ### If the axis is not specified, then the default axis 0 is considered.\n",
    "<br>\n",
    "\n",
    "- ### The delete() function can be used to modify the array, which can be helpful when we need to remove some elements from the array.\n",
    "<br>\n",
    "\n",
    "# Parameters\n",
    "<br>\n",
    "\n",
    "- ## arr Required\n",
    "- ## obj Required\n",
    "- ## axis Optional"
   ]
  },
  {
   "cell_type": "code",
   "execution_count": 1,
   "id": "b2f2d6a0",
   "metadata": {},
   "outputs": [],
   "source": [
    "import numpy as np"
   ]
  },
  {
   "cell_type": "code",
   "execution_count": 2,
   "id": "73db6079",
   "metadata": {},
   "outputs": [
    {
     "data": {
      "text/plain": [
       "array([[1, 2, 3],\n",
       "       [4, 5, 6],\n",
       "       [7, 8, 9]])"
      ]
     },
     "execution_count": 2,
     "metadata": {},
     "output_type": "execute_result"
    }
   ],
   "source": [
    "arr = np.arange(1,10).reshape(3,3)\n",
    "arr"
   ]
  },
  {
   "cell_type": "code",
   "execution_count": 3,
   "id": "b63f5662",
   "metadata": {},
   "outputs": [
    {
     "data": {
      "text/plain": [
       "array([2, 3, 4, 5, 6, 7, 8, 9])"
      ]
     },
     "execution_count": 3,
     "metadata": {},
     "output_type": "execute_result"
    }
   ],
   "source": [
    "np.delete(arr=arr,obj=0) # return 1 D"
   ]
  },
  {
   "cell_type": "code",
   "execution_count": 4,
   "id": "4ebaa069",
   "metadata": {},
   "outputs": [
    {
     "data": {
      "text/plain": [
       "array([[4, 5, 6],\n",
       "       [7, 8, 9]])"
      ]
     },
     "execution_count": 4,
     "metadata": {},
     "output_type": "execute_result"
    }
   ],
   "source": [
    "np.delete(arr=arr,obj=0,axis=0) # remove row with axis 0"
   ]
  },
  {
   "cell_type": "code",
   "execution_count": 5,
   "id": "29fdbf8e",
   "metadata": {},
   "outputs": [
    {
     "data": {
      "text/plain": [
       "array([[2, 3],\n",
       "       [5, 6],\n",
       "       [8, 9]])"
      ]
     },
     "execution_count": 5,
     "metadata": {},
     "output_type": "execute_result"
    }
   ],
   "source": [
    "np.delete(arr=arr,obj=0,axis=1) # remove column with axis 1"
   ]
  },
  {
   "cell_type": "code",
   "execution_count": 6,
   "id": "3509a2ca",
   "metadata": {},
   "outputs": [
    {
     "data": {
      "text/plain": [
       "array([[1, 2, 3],\n",
       "       [4, 5, 6],\n",
       "       [7, 8, 9]])"
      ]
     },
     "execution_count": 6,
     "metadata": {},
     "output_type": "execute_result"
    }
   ],
   "source": [
    "arr"
   ]
  },
  {
   "cell_type": "code",
   "execution_count": 7,
   "id": "ca97676b",
   "metadata": {},
   "outputs": [
    {
     "data": {
      "text/plain": [
       "array([2, 3, 4, 6, 7, 8])"
      ]
     },
     "execution_count": 7,
     "metadata": {},
     "output_type": "execute_result"
    }
   ],
   "source": [
    "np.delete(arr=arr,obj=[0,4,8]) # reomve 1 ,5 ,9"
   ]
  },
  {
   "cell_type": "code",
   "execution_count": 8,
   "id": "7b9777c5",
   "metadata": {},
   "outputs": [
    {
     "data": {
      "text/plain": [
       "array([1, 2])"
      ]
     },
     "execution_count": 8,
     "metadata": {},
     "output_type": "execute_result"
    }
   ],
   "source": [
    "np.delete(arr,np.s_[2:])"
   ]
  },
  {
   "cell_type": "markdown",
   "id": "69d58ac2",
   "metadata": {},
   "source": [
    "# we also use np._s[] for selecting specfic range"
   ]
  },
  {
   "cell_type": "code",
   "execution_count": 9,
   "id": "106922f3",
   "metadata": {},
   "outputs": [
    {
     "data": {
      "text/plain": [
       "array([1, 2])"
      ]
     },
     "execution_count": 9,
     "metadata": {},
     "output_type": "execute_result"
    }
   ],
   "source": [
    "np.delete(arr,obj=np.s_[2:])"
   ]
  },
  {
   "cell_type": "markdown",
   "id": "44753428",
   "metadata": {},
   "source": [
    "# *np.insert()*\n",
    "<br>\n",
    "\n",
    "- ### In NumPy, the insert() function is used to insert elements into an array. The syntax of this function is numpy.insert(arr, obj, values, axis=None), where arr is the input array, obj specifies the index or indices where the elements are to be inserted, values are the elements that will be inserted, and axis is an optional argument that specifies the dimension in which to insert the elements.\n",
    "<br>\n",
    "\n",
    "- ### By using the insert() function, we can insert elements into an array, such as inserting an element at a specific index in a 1D array or inserting elements into rows and columns in a 2D array.\n",
    "<br>\n",
    "\n",
    "- ### If the axis is not specified, the default axis is 0.\n",
    "<br>\n",
    "\n",
    "- ### By using the insert() function, we can modify an array, which can be very helpful when we need to insert some elements into an array.\n",
    "<br>\n",
    "\n",
    "# Parameters\n",
    "\n",
    "- ## arr Required \n",
    "- ## obj Required\n",
    "- ## values Optional\n",
    "- ## axis Optional "
   ]
  },
  {
   "cell_type": "code",
   "execution_count": 10,
   "id": "8a446f64",
   "metadata": {},
   "outputs": [
    {
     "data": {
      "text/plain": [
       "array([1, 2, 3])"
      ]
     },
     "execution_count": 10,
     "metadata": {},
     "output_type": "execute_result"
    }
   ],
   "source": [
    "arr = np.array([1,2,3])\n",
    "arr"
   ]
  },
  {
   "cell_type": "code",
   "execution_count": 11,
   "id": "7461e8d5",
   "metadata": {},
   "outputs": [
    {
     "data": {
      "text/plain": [
       "array([0, 0, 0, 1, 2, 3])"
      ]
     },
     "execution_count": 11,
     "metadata": {},
     "output_type": "execute_result"
    }
   ],
   "source": [
    "np.insert(arr=arr,obj=0,values=[0,0,0])"
   ]
  },
  {
   "cell_type": "code",
   "execution_count": 12,
   "id": "2f1e5370",
   "metadata": {},
   "outputs": [
    {
     "data": {
      "text/plain": [
       "array([1, 0, 0, 0, 2, 3])"
      ]
     },
     "execution_count": 12,
     "metadata": {},
     "output_type": "execute_result"
    }
   ],
   "source": [
    "np.insert(arr=arr,obj=1,values=[0,0,0])"
   ]
  },
  {
   "cell_type": "code",
   "execution_count": 13,
   "id": "ddf221db",
   "metadata": {},
   "outputs": [
    {
     "data": {
      "text/plain": [
       "array([[1, 2, 3],\n",
       "       [4, 5, 6],\n",
       "       [7, 8, 9]])"
      ]
     },
     "execution_count": 13,
     "metadata": {},
     "output_type": "execute_result"
    }
   ],
   "source": [
    "arr = np.arange(1,10).reshape(3,3)\n",
    "arr"
   ]
  },
  {
   "cell_type": "code",
   "execution_count": 14,
   "id": "c6660eda",
   "metadata": {},
   "outputs": [
    {
     "data": {
      "text/plain": [
       "array([0, 0, 0, 1, 2, 3, 4, 5, 6, 7, 8, 9])"
      ]
     },
     "execution_count": 14,
     "metadata": {},
     "output_type": "execute_result"
    }
   ],
   "source": [
    "np.insert(arr=arr,obj=0,values=[0,0,0])"
   ]
  },
  {
   "cell_type": "code",
   "execution_count": 15,
   "id": "f2175f6b",
   "metadata": {},
   "outputs": [
    {
     "data": {
      "text/plain": [
       "array([[0, 0, 0],\n",
       "       [1, 2, 3],\n",
       "       [4, 5, 6],\n",
       "       [7, 8, 9]])"
      ]
     },
     "execution_count": 15,
     "metadata": {},
     "output_type": "execute_result"
    }
   ],
   "source": [
    "np.insert(arr=arr,obj=0,values=[0,0,0],axis=0) # use axis 0 row"
   ]
  },
  {
   "cell_type": "code",
   "execution_count": 16,
   "id": "3d90511c",
   "metadata": {},
   "outputs": [
    {
     "data": {
      "text/plain": [
       "array([[0, 0, 0],\n",
       "       [1, 2, 3],\n",
       "       [0, 0, 0],\n",
       "       [4, 5, 6],\n",
       "       [0, 0, 0],\n",
       "       [7, 8, 9]])"
      ]
     },
     "execution_count": 16,
     "metadata": {},
     "output_type": "execute_result"
    }
   ],
   "source": [
    "# use np.s_\n",
    "np.insert(arr=arr,obj=np.s_[0,1,2],values=[0,0,0],axis=0)"
   ]
  },
  {
   "cell_type": "code",
   "execution_count": 17,
   "id": "89a34ae6",
   "metadata": {},
   "outputs": [
    {
     "data": {
      "text/plain": [
       "array([[0, 1, 0, 2, 0, 3],\n",
       "       [0, 4, 0, 5, 0, 6],\n",
       "       [0, 7, 0, 8, 0, 9]])"
      ]
     },
     "execution_count": 17,
     "metadata": {},
     "output_type": "execute_result"
    }
   ],
   "source": [
    "# use np.s_\n",
    "np.insert(arr=arr,obj=np.s_[0,1,2],values=[0,0,0],axis=1)"
   ]
  },
  {
   "cell_type": "markdown",
   "id": "5df6500d",
   "metadata": {},
   "source": [
    "# *np.append()*\n",
    "<br>\n",
    "\n",
    "- ### In NumPy, the append() function is used to add elements to an array. The syntax of this function is numpy.append(arr, values, axis=None), where arr is the input array, values are the elements that will be added, and the axis argument is optional and specifies the dimension to add the elements.\n",
    "<br>\n",
    "\n",
    "- ### By using the append() function, we can add elements to an array, such as adding a value to a 1D array, or adding elements to rows and columns in a 2D array.\n",
    "<br>\n",
    "\n",
    "- ### If the axis is not specified, the default value is None, which adds the values to the end of the array.\n",
    "<br>\n",
    "\n",
    "- ### Using the append() function, we can modify an array, which is very helpful when we need to add elements to an existing array.\n",
    "<br>\n",
    "\n",
    "# Parameter\n",
    "<br>\n",
    "\n",
    "- ## arr Required\n",
    "- ## values Required\n",
    "- ## axis Optional"
   ]
  },
  {
   "cell_type": "code",
   "execution_count": 18,
   "id": "ad39beb0",
   "metadata": {},
   "outputs": [
    {
     "data": {
      "text/plain": [
       "array([1, 2, 3])"
      ]
     },
     "execution_count": 18,
     "metadata": {},
     "output_type": "execute_result"
    }
   ],
   "source": [
    "arr = np.array([1, 2, 3])\n",
    "arr"
   ]
  },
  {
   "cell_type": "code",
   "execution_count": 19,
   "id": "e4acf259",
   "metadata": {},
   "outputs": [
    {
     "data": {
      "text/plain": [
       "array([1, 2, 3, 0, 0, 0])"
      ]
     },
     "execution_count": 19,
     "metadata": {},
     "output_type": "execute_result"
    }
   ],
   "source": [
    "np.append(arr=arr,values=[0,0,0])"
   ]
  },
  {
   "cell_type": "code",
   "execution_count": 20,
   "id": "45550047",
   "metadata": {},
   "outputs": [
    {
     "data": {
      "text/plain": [
       "array([[1, 2, 3],\n",
       "       [4, 5, 6],\n",
       "       [7, 8, 9]])"
      ]
     },
     "execution_count": 20,
     "metadata": {},
     "output_type": "execute_result"
    }
   ],
   "source": [
    "arr = np.arange(1,10).reshape(3,3)\n",
    "arr"
   ]
  },
  {
   "cell_type": "code",
   "execution_count": 21,
   "id": "8397cf7a",
   "metadata": {},
   "outputs": [
    {
     "data": {
      "text/plain": [
       "array([1, 2, 3, 4, 5, 6, 7, 8, 9, 0, 0, 0])"
      ]
     },
     "execution_count": 21,
     "metadata": {},
     "output_type": "execute_result"
    }
   ],
   "source": [
    "np.append(arr=arr,values=[0,0,0])"
   ]
  },
  {
   "cell_type": "code",
   "execution_count": 22,
   "id": "0bf3dc74",
   "metadata": {},
   "outputs": [
    {
     "data": {
      "text/plain": [
       "array([[1, 2, 3],\n",
       "       [4, 5, 6],\n",
       "       [7, 8, 9],\n",
       "       [0, 0, 0]])"
      ]
     },
     "execution_count": 22,
     "metadata": {},
     "output_type": "execute_result"
    }
   ],
   "source": [
    "np.append(arr=arr,values=[[0,0,0]],axis=0) # now use the axis 0  for add 1 []"
   ]
  },
  {
   "cell_type": "code",
   "execution_count": 23,
   "id": "b59d87a2",
   "metadata": {},
   "outputs": [
    {
     "data": {
      "text/plain": [
       "array([[1, 2, 3, 0],\n",
       "       [4, 5, 6, 0],\n",
       "       [7, 8, 9, 0]])"
      ]
     },
     "execution_count": 23,
     "metadata": {},
     "output_type": "execute_result"
    }
   ],
   "source": [
    "np.append(arr=arr,values=[[0],[0],[0]],axis=1) \n",
    "# now use the axis 1 for add [] [] []  square brackets"
   ]
  },
  {
   "cell_type": "markdown",
   "id": "127c2baa",
   "metadata": {},
   "source": [
    "# *np.trim_zeros()*\n",
    "<br>\n",
    "\n",
    "- ### In NumPy, the trim_zeros() function is used to remove zero values from an array. The syntax of this function is numpy.trim_zeros(arr, trim='fb'), where arr is the input array and trim is an optional argument that specifies whether to remove zero values from the beginning or end of the array.\n",
    "<br>\n",
    "\n",
    "- ### By using this function, we can remove zero values from an array, which reduces the size of the array and speeds up calculations.\n",
    "<br>\n",
    "\n",
    "# Parameters\n",
    "<br>\n",
    "\n",
    "- ## filt Required\n",
    "- ## trim Optonal"
   ]
  },
  {
   "cell_type": "code",
   "execution_count": 24,
   "id": "0013f090",
   "metadata": {},
   "outputs": [
    {
     "data": {
      "text/plain": [
       "array([0, 0, 0, 1, 2, 3, 0, 0, 0])"
      ]
     },
     "execution_count": 24,
     "metadata": {},
     "output_type": "execute_result"
    }
   ],
   "source": [
    "arr = np.array([0, 0, 0, 1, 2, 3, 0, 0, 0])\n",
    "arr"
   ]
  },
  {
   "cell_type": "code",
   "execution_count": 25,
   "id": "c1b226e0",
   "metadata": {},
   "outputs": [
    {
     "data": {
      "text/plain": [
       "array([1, 2, 3])"
      ]
     },
     "execution_count": 25,
     "metadata": {},
     "output_type": "execute_result"
    }
   ],
   "source": [
    "np.trim_zeros(filt=arr)"
   ]
  },
  {
   "cell_type": "code",
   "execution_count": 26,
   "id": "d757bcc3",
   "metadata": {},
   "outputs": [
    {
     "data": {
      "text/plain": [
       "array([1, 2, 3, 0, 0, 0])"
      ]
     },
     "execution_count": 26,
     "metadata": {},
     "output_type": "execute_result"
    }
   ],
   "source": [
    "# 'f': Only trim zeros from the beginning (left) of the array.\n",
    "np.trim_zeros(filt=arr,trim=\"f\") "
   ]
  },
  {
   "cell_type": "code",
   "execution_count": 27,
   "id": "90e17b8f",
   "metadata": {},
   "outputs": [
    {
     "data": {
      "text/plain": [
       "array([0, 0, 0, 1, 2, 3])"
      ]
     },
     "execution_count": 27,
     "metadata": {},
     "output_type": "execute_result"
    }
   ],
   "source": [
    "# 'b': Only trim zeros from the end (right) of the array.\n",
    "np.trim_zeros(filt=arr,trim=\"b\") "
   ]
  },
  {
   "cell_type": "code",
   "execution_count": 28,
   "id": "599c3efd",
   "metadata": {},
   "outputs": [
    {
     "data": {
      "text/plain": [
       "array([1, 2, 3])"
      ]
     },
     "execution_count": 28,
     "metadata": {},
     "output_type": "execute_result"
    }
   ],
   "source": [
    "# 'fb': Trim zeros from both the beginning and end of the array (default behavior).\n",
    "np.trim_zeros(filt=arr,trim=\"fb\") "
   ]
  }
 ],
 "metadata": {
  "kernelspec": {
   "display_name": "Python 3 (ipykernel)",
   "language": "python",
   "name": "python3"
  },
  "language_info": {
   "codemirror_mode": {
    "name": "ipython",
    "version": 3
   },
   "file_extension": ".py",
   "mimetype": "text/x-python",
   "name": "python",
   "nbconvert_exporter": "python",
   "pygments_lexer": "ipython3",
   "version": "3.10.6"
  }
 },
 "nbformat": 4,
 "nbformat_minor": 5
}

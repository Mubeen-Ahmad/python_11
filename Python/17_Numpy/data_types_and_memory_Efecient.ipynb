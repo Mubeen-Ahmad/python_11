{
 "cells": [
  {
   "cell_type": "markdown",
   "id": "18e8b4d1",
   "metadata": {},
   "source": [
    "# NumPy data types are useful in several ways\n",
    "\n",
    "<br>\n",
    "\n",
    "# Memory efficiency\n",
    "<br>\n",
    "\n",
    "- ## NumPy's array data structure allows for efficient storage of large amounts of data in memory, making it ideal for working with large datasets.\n",
    "<br>\n",
    "\n",
    "# Mathematical operations\n",
    "<br>\n",
    "\n",
    "- ## NumPy's array data structure and functions are optimized for performing mathematical operations on large arrays, making it faster and more efficient than using traditional Python lists.\n",
    "<br>\n",
    "\n",
    "# Integration with other libraries \n",
    "<br>\n",
    "\n",
    "- ## NumPy is a widely used library in the scientific Python ecosystem and is often used in conjunction with other libraries such as SciPy, Pandas, and Matplotlib.\n",
    "<br>\n",
    "\n",
    "# Machine learning\n",
    "<br>\n",
    "\n",
    "- ## Many machine learning algorithms require data to be in a specific format, such as arrays of a particular data type. NumPy provides tools for manipulating and transforming data to be used in machine learning algorithms.\n",
    "<br>\n",
    "\n",
    "# Overall, NumPy's data types are useful for anyone working with numerical data and require fast and efficient computations. It is widely used in data analysis, scientific computing, and machine learning."
   ]
  },
  {
   "cell_type": "markdown",
   "id": "807b6197",
   "metadata": {},
   "source": [
    "<br>\n",
    "\n",
    "# Data Types\n",
    "\n",
    "<br>"
   ]
  },
  {
   "cell_type": "markdown",
   "id": "1e0913de",
   "metadata": {},
   "source": [
    "- ## np.bool_\n",
    "## Type  : Boolean stored as a byte.\n",
    "## Range : True or False"
   ]
  },
  {
   "cell_type": "code",
   "execution_count": 20,
   "id": "63893eb9",
   "metadata": {},
   "outputs": [],
   "source": [
    "import numpy as np\n",
    "import sys"
   ]
  },
  {
   "cell_type": "code",
   "execution_count": 2,
   "id": "fa879f0a",
   "metadata": {},
   "outputs": [
    {
     "data": {
      "text/plain": [
       "array([1, 2])"
      ]
     },
     "execution_count": 2,
     "metadata": {},
     "output_type": "execute_result"
    }
   ],
   "source": [
    "np.array([0,1,2])"
   ]
  },
  {
   "cell_type": "code",
   "execution_count": 10,
   "id": "d5a698fb",
   "metadata": {},
   "outputs": [
    {
     "data": {
      "text/plain": [
       "array([False,  True,  True])"
      ]
     },
     "execution_count": 10,
     "metadata": {},
     "output_type": "execute_result"
    }
   ],
   "source": [
    "np.array([0,1,2],dtype=np.bool_)"
   ]
  },
  {
   "cell_type": "markdown",
   "id": "9ef07c81",
   "metadata": {},
   "source": [
    "- ## np.int_\n",
    "## Type  : Default integer type. \n",
    "## Range : Same as C long; normally either int64 or int32."
   ]
  },
  {
   "cell_type": "code",
   "execution_count": 28,
   "id": "9aa34bb9",
   "metadata": {},
   "outputs": [
    {
     "name": "stdout",
     "output_type": "stream",
     "text": [
      "[0 1 2]\n",
      "136\n"
     ]
    }
   ],
   "source": [
    "r = np.array([0,1,2],dtype=np.int_)\n",
    "print(r)\n",
    "print(sys.getsizeof(r))"
   ]
  },
  {
   "cell_type": "markdown",
   "id": "5d82f381",
   "metadata": {},
   "source": [
    "- ## np.intc\n",
    "## Type  : Identical to C int. \n",
    "## Range :  Normally int32 or int64."
   ]
  },
  {
   "cell_type": "code",
   "execution_count": 29,
   "id": "61b94b48",
   "metadata": {},
   "outputs": [
    {
     "name": "stdout",
     "output_type": "stream",
     "text": [
      "[0 1 2]\n",
      "124\n"
     ]
    }
   ],
   "source": [
    "r = np.array([0,1,2],dtype=np.intc)\n",
    "print(r)\n",
    "print(sys.getsizeof(r))"
   ]
  },
  {
   "cell_type": "markdown",
   "id": "7661ceea",
   "metadata": {},
   "source": [
    "- ## np.intp\n",
    "## Type  : Integer used for indexing. \n",
    "## Range :  Same as C ssize_t; normally either int32 or int64."
   ]
  },
  {
   "cell_type": "code",
   "execution_count": 30,
   "id": "614e0fd0",
   "metadata": {},
   "outputs": [
    {
     "name": "stdout",
     "output_type": "stream",
     "text": [
      "[0 1 2]\n",
      "136\n"
     ]
    }
   ],
   "source": [
    "r = np.array([0,1,2],dtype=np.intp)\n",
    "print(r)\n",
    "print(sys.getsizeof(r))"
   ]
  },
  {
   "cell_type": "markdown",
   "id": "bd58428a",
   "metadata": {},
   "source": [
    "- ## np.int8\n",
    "## Type  : Byte. \n",
    "## Range : -128 to 127"
   ]
  },
  {
   "cell_type": "code",
   "execution_count": 43,
   "id": "288d00ce",
   "metadata": {},
   "outputs": [
    {
     "name": "stdout",
     "output_type": "stream",
     "text": [
      "[0 1 2]\n",
      "115\n"
     ]
    }
   ],
   "source": [
    "r = np.array([0,1,2],dtype=np.int8)\n",
    "print(r)\n",
    "print(sys.getsizeof(r))"
   ]
  },
  {
   "cell_type": "markdown",
   "id": "d5f982f3",
   "metadata": {},
   "source": [
    "- ## np.int16\n",
    "## Type  : Integer. \n",
    "## Range :  -32768 to 32767"
   ]
  },
  {
   "cell_type": "code",
   "execution_count": 44,
   "id": "e40ebeb3",
   "metadata": {},
   "outputs": [
    {
     "name": "stdout",
     "output_type": "stream",
     "text": [
      "[0 1 2]\n",
      "118\n"
     ]
    }
   ],
   "source": [
    "r = np.array([0,1,2],dtype=np.int16)\n",
    "print(r)\n",
    "print(sys.getsizeof(r))"
   ]
  },
  {
   "cell_type": "markdown",
   "id": "f46e76a7",
   "metadata": {},
   "source": [
    "- ## np.int32\n",
    "\n",
    "## Type  : Integer. \n",
    "## Range : -2147483648 to 2147483647"
   ]
  },
  {
   "cell_type": "code",
   "execution_count": 45,
   "id": "726cad10",
   "metadata": {},
   "outputs": [
    {
     "name": "stdout",
     "output_type": "stream",
     "text": [
      "[0 1 2]\n",
      "124\n"
     ]
    }
   ],
   "source": [
    "r = np.array([0,1,2],dtype=np.int32)\n",
    "print(r)\n",
    "print(sys.getsizeof(r))"
   ]
  },
  {
   "cell_type": "markdown",
   "id": "4c3d26a1",
   "metadata": {},
   "source": [
    "- ## np.int64\n",
    "## Type  : Integer. \n",
    "## Range : -9223372036854775808 to 9223372036854775807 "
   ]
  },
  {
   "cell_type": "code",
   "execution_count": 46,
   "id": "005e61af",
   "metadata": {},
   "outputs": [
    {
     "name": "stdout",
     "output_type": "stream",
     "text": [
      "[0 1 2]\n",
      "136\n"
     ]
    }
   ],
   "source": [
    "r = np.array([0,1,2],dtype=np.int64)\n",
    "print(r)\n",
    "print(sys.getsizeof(r))"
   ]
  },
  {
   "cell_type": "markdown",
   "id": "5e2e7f36",
   "metadata": {},
   "source": [
    "- ## np.uint8\n",
    "## Type  : Unsigned integer. \n",
    "## Range :  0 to 255"
   ]
  },
  {
   "cell_type": "code",
   "execution_count": 47,
   "id": "47cc52fd",
   "metadata": {},
   "outputs": [
    {
     "name": "stdout",
     "output_type": "stream",
     "text": [
      "[0 1 2]\n",
      "115\n"
     ]
    }
   ],
   "source": [
    "r = np.array([0,1,2],dtype=np.uint8)\n",
    "print(r)\n",
    "print(sys.getsizeof(r))"
   ]
  },
  {
   "cell_type": "markdown",
   "id": "637db71f",
   "metadata": {},
   "source": [
    "- ## np.uint16\n",
    "## Type  : Unsigned integer. \n",
    "## Range :   0 to 65535"
   ]
  },
  {
   "cell_type": "code",
   "execution_count": 48,
   "id": "49078aab",
   "metadata": {},
   "outputs": [
    {
     "name": "stdout",
     "output_type": "stream",
     "text": [
      "[0 1 2]\n",
      "118\n"
     ]
    }
   ],
   "source": [
    "r = np.array([0,1,2],dtype=np.uint16)\n",
    "print(r)\n",
    "print(sys.getsizeof(r))"
   ]
  },
  {
   "cell_type": "markdown",
   "id": "e52db999",
   "metadata": {},
   "source": [
    "- ## np.uint32\n",
    "## Type  : Unsigned integer. \n",
    "## Range :   0 to 4294967295"
   ]
  },
  {
   "cell_type": "code",
   "execution_count": 50,
   "id": "0d257eda",
   "metadata": {},
   "outputs": [
    {
     "name": "stdout",
     "output_type": "stream",
     "text": [
      "[0 1 2]\n",
      "124\n"
     ]
    }
   ],
   "source": [
    "r = np.array([0,1,2],dtype=np.uint32)\n",
    "print(r)\n",
    "print(sys.getsizeof(r))"
   ]
  },
  {
   "cell_type": "markdown",
   "id": "66c87441",
   "metadata": {},
   "source": [
    "- ## np.uint64\n",
    "## Type  : Unsigned integer. \n",
    "## Range :  0 to 18446744073709551615"
   ]
  },
  {
   "cell_type": "code",
   "execution_count": 51,
   "id": "083290a0",
   "metadata": {},
   "outputs": [
    {
     "name": "stdout",
     "output_type": "stream",
     "text": [
      "[0 1 2]\n",
      "136\n"
     ]
    }
   ],
   "source": [
    "r = np.array([0,1,2],dtype=np.uint64)\n",
    "print(r)\n",
    "print(sys.getsizeof(r))"
   ]
  },
  {
   "cell_type": "markdown",
   "id": "0c4e3acd",
   "metadata": {},
   "source": [
    "- ## np.float16\n",
    "## Type  : Half precision float. \n",
    "## Range :  sign bit, 5 bits exponent, 10 bits mantissa "
   ]
  },
  {
   "cell_type": "code",
   "execution_count": 54,
   "id": "76fa3471",
   "metadata": {},
   "outputs": [
    {
     "name": "stdout",
     "output_type": "stream",
     "text": [
      "[0. 1. 2.]\n",
      "118\n"
     ]
    }
   ],
   "source": [
    "r = np.array([0,1,2],dtype=np.float16)\n",
    "print(r)\n",
    "print(sys.getsizeof(r))"
   ]
  },
  {
   "cell_type": "markdown",
   "id": "cad823f1",
   "metadata": {},
   "source": [
    "- ## np.float32\n",
    "## Type  : Single precision float. \n",
    "## Range :  sign bit, 8 bits exponent, 23 bits mantissa "
   ]
  },
  {
   "cell_type": "code",
   "execution_count": 56,
   "id": "7a20d299",
   "metadata": {},
   "outputs": [
    {
     "name": "stdout",
     "output_type": "stream",
     "text": [
      "[0. 1. 2.]\n",
      "124\n"
     ]
    }
   ],
   "source": [
    "r = np.array([0,1,2],dtype=np.float32)\n",
    "print(r)\n",
    "print(sys.getsizeof(r))"
   ]
  },
  {
   "cell_type": "markdown",
   "id": "dcce3618",
   "metadata": {},
   "source": [
    "- ## np.float64\n",
    "## Type  : Double precision float. \n",
    "## Range :  sign bit, 11 bits exponent, 52 bits mantissa "
   ]
  },
  {
   "cell_type": "code",
   "execution_count": 57,
   "id": "c98fd63e",
   "metadata": {},
   "outputs": [
    {
     "name": "stdout",
     "output_type": "stream",
     "text": [
      "[0. 1. 2.]\n",
      "136\n"
     ]
    }
   ],
   "source": [
    "r = np.array([0,1,2],dtype=np.float64)\n",
    "print(r)\n",
    "print(sys.getsizeof(r))"
   ]
  },
  {
   "cell_type": "markdown",
   "id": "7c277391",
   "metadata": {},
   "source": [
    "- ## np.comple64\n",
    "## Type  : Complex. \n",
    "## Range :   two 32-bit floats (real and imaginary components)"
   ]
  },
  {
   "cell_type": "code",
   "execution_count": 59,
   "id": "64900255",
   "metadata": {},
   "outputs": [
    {
     "name": "stdout",
     "output_type": "stream",
     "text": [
      "[0.+0.j 1.+0.j 2.+0.j]\n",
      "136\n"
     ]
    }
   ],
   "source": [
    "r = np.array([0,1,2],dtype=np.complex64)\n",
    "print(r)\n",
    "print(sys.getsizeof(r))"
   ]
  },
  {
   "cell_type": "markdown",
   "id": "11dfc9c2",
   "metadata": {},
   "source": [
    "- ## np.comple128\n",
    "## Type  : Complex. \n",
    "## Range :  two 64-bit floats (real and imaginary components)"
   ]
  },
  {
   "cell_type": "code",
   "execution_count": 60,
   "id": "b25f888a",
   "metadata": {},
   "outputs": [
    {
     "name": "stdout",
     "output_type": "stream",
     "text": [
      "[0.+0.j 1.+0.j 2.+0.j]\n",
      "160\n"
     ]
    }
   ],
   "source": [
    "r = np.array([0,1,2],dtype=np.complex128)\n",
    "print(r)\n",
    "print(sys.getsizeof(r))"
   ]
  },
  {
   "cell_type": "markdown",
   "id": "e607a000",
   "metadata": {},
   "source": [
    "# Memory Efficiency and Storage"
   ]
  },
  {
   "cell_type": "markdown",
   "id": "30401a6d",
   "metadata": {},
   "source": [
    "## normal list "
   ]
  },
  {
   "cell_type": "code",
   "execution_count": 73,
   "id": "72782472",
   "metadata": {},
   "outputs": [
    {
     "name": "stdout",
     "output_type": "stream",
     "text": [
      "2.9726221561431885\n"
     ]
    }
   ],
   "source": [
    "import time\n",
    "t = time.time()\n",
    "a = [i for i in range(100000000)]\n",
    "print(time.time()-t)"
   ]
  },
  {
   "cell_type": "markdown",
   "id": "6cf4602c",
   "metadata": {},
   "source": [
    "# with Numpy"
   ]
  },
  {
   "cell_type": "code",
   "execution_count": 74,
   "id": "236ba1c6",
   "metadata": {},
   "outputs": [
    {
     "name": "stdout",
     "output_type": "stream",
     "text": [
      "0.9253377914428711\n"
     ]
    }
   ],
   "source": [
    "t = time.time()\n",
    "a = np.arange(100000000)\n",
    "print(time.time()-t)"
   ]
  },
  {
   "cell_type": "markdown",
   "id": "5947ed83",
   "metadata": {},
   "source": [
    "# Compare Size"
   ]
  },
  {
   "cell_type": "code",
   "execution_count": 83,
   "id": "5d342f94",
   "metadata": {},
   "outputs": [
    {
     "name": "stdout",
     "output_type": "stream",
     "text": [
      "100000000\n",
      "835128600\n"
     ]
    }
   ],
   "source": [
    "a = [i for i in range(100000000)]\n",
    "print(len(a))\n",
    "print(sys.getsizeof(a))"
   ]
  },
  {
   "cell_type": "code",
   "execution_count": 84,
   "id": "876c70ef",
   "metadata": {},
   "outputs": [
    {
     "name": "stdout",
     "output_type": "stream",
     "text": [
      "100000000\n",
      "800000112\n"
     ]
    }
   ],
   "source": [
    "a = np.arange(100000000)\n",
    "print(len(a))\n",
    "print(sys.getsizeof(a))"
   ]
  },
  {
   "cell_type": "markdown",
   "id": "a7d141c5",
   "metadata": {},
   "source": [
    "## we also set the data dtype"
   ]
  },
  {
   "cell_type": "code",
   "execution_count": 92,
   "id": "f460f56a",
   "metadata": {},
   "outputs": [
    {
     "name": "stdout",
     "output_type": "stream",
     "text": [
      "100000000\n",
      "100000112\n"
     ]
    }
   ],
   "source": [
    "a = np.arange(100000000,dtype=np.int8)\n",
    "print(len(a))\n",
    "print(sys.getsizeof(a))"
   ]
  }
 ],
 "metadata": {
  "kernelspec": {
   "display_name": "Python 3 (ipykernel)",
   "language": "python",
   "name": "python3"
  },
  "language_info": {
   "codemirror_mode": {
    "name": "ipython",
    "version": 3
   },
   "file_extension": ".py",
   "mimetype": "text/x-python",
   "name": "python",
   "nbconvert_exporter": "python",
   "pygments_lexer": "ipython3",
   "version": "3.10.6"
  }
 },
 "nbformat": 4,
 "nbformat_minor": 5
}

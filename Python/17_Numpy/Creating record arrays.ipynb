{
 "cells": [
  {
   "cell_type": "markdown",
   "id": "d12cbdc8",
   "metadata": {},
   "source": [
    "\n",
    "- ## Creating record arrays using NumPy functions can be very useful in situations where we need to store and manipulate structured data.\n",
    "<br>\n",
    "\n",
    "- ### Record Arrays are a very useful feature in NumPy that helps us handle structured data. By using this feature, we can store any data in a structured format, similar to how it is done in tables or spreadsheets.\n",
    "<br>\n",
    "\n",
    "- ### When using Record Arrays, we have to define a data type that specifies the number of fields and the data type of each field. In this data type structure, we define the name and data type of each field.\n",
    "<br>\n",
    "\n",
    "- ### Record Arrays can be used to handle any structured data such as CSV files, databases, spreadsheets, etc. We can store data in tabular form using Record Arrays and access them using indexing and slicing.\n"
   ]
  },
  {
   "cell_type": "code",
   "execution_count": 1,
   "id": "09414979",
   "metadata": {},
   "outputs": [],
   "source": [
    "import numpy as np"
   ]
  },
  {
   "cell_type": "markdown",
   "id": "74b2cb71",
   "metadata": {},
   "source": [
    "# Example "
   ]
  },
  {
   "cell_type": "code",
   "execution_count": 6,
   "id": "1af21f2d",
   "metadata": {},
   "outputs": [],
   "source": [
    "dt =  np.dtype(\n",
    "\n",
    "        [\n",
    "            (\"name\",\"U20\"),\n",
    "            (\"iq\",np.int32),\n",
    "            (\"cgpa\",np.float32),\n",
    "            (\"placed\",\"U20\")\n",
    "        ]\n",
    ")"
   ]
  },
  {
   "cell_type": "code",
   "execution_count": 7,
   "id": "7fb3114f",
   "metadata": {},
   "outputs": [
    {
     "data": {
      "text/plain": [
       "dtype([('name', '<U20'), ('iq', '<i4'), ('cgpa', '<f4'), ('placed', '<U20')])"
      ]
     },
     "execution_count": 7,
     "metadata": {},
     "output_type": "execute_result"
    }
   ],
   "source": [
    "dt"
   ]
  },
  {
   "cell_type": "code",
   "execution_count": 14,
   "id": "212179c6",
   "metadata": {},
   "outputs": [],
   "source": [
    "students = np.array(\n",
    "    [\n",
    "        (\"ALi\",100,6.66,\"YES\")\n",
    "    ],dtype = dt\n",
    ")"
   ]
  },
  {
   "cell_type": "code",
   "execution_count": 15,
   "id": "561fe648",
   "metadata": {},
   "outputs": [
    {
     "data": {
      "text/plain": [
       "array([('ALi', 100, 6.66, 'YES')],\n",
       "      dtype=[('name', '<U20'), ('iq', '<i4'), ('cgpa', '<f4'), ('placed', '<U20')])"
      ]
     },
     "execution_count": 15,
     "metadata": {},
     "output_type": "execute_result"
    }
   ],
   "source": [
    "students"
   ]
  },
  {
   "cell_type": "markdown",
   "id": "2c16df73",
   "metadata": {},
   "source": [
    "- ## *np.core.rec.array()*\n",
    "- ## *np.core.rec.fromarrays()*\n",
    "- ## *np.core.rec.fromrecords()*\n",
    "- ## *np.core.rec.fromstring()*"
   ]
  },
  {
   "cell_type": "markdown",
   "id": "9024cde8",
   "metadata": {},
   "source": [
    "# *np.core.records.array()*\n",
    "<br>\n",
    "\n",
    "- ## The function np.core.records.array() is a NumPy function that helps us create structured arrays or record arrays.\n",
    "<br>\n",
    "\n",
    "- ## When using this function, we need to define the data type for any structured data. We must specify the name and data type for each field.\n"
   ]
  },
  {
   "cell_type": "code",
   "execution_count": 55,
   "id": "7a29550a",
   "metadata": {},
   "outputs": [
    {
     "data": {
      "text/plain": [
       "dtype([('name', 'S10'), ('age', '<i8'), ('marks', '<f8')])"
      ]
     },
     "execution_count": 55,
     "metadata": {},
     "output_type": "execute_result"
    }
   ],
   "source": [
    "# Data type definition for the record array\n",
    "dt = np.dtype([('name', 'S10'), ('age', int), ('marks', float)])\n",
    "dt # S10 means string"
   ]
  },
  {
   "cell_type": "code",
   "execution_count": 56,
   "id": "28ee1607",
   "metadata": {},
   "outputs": [
    {
     "data": {
      "text/plain": [
       "[('Ali', 15, 76.5), ('Usman', 20, 82.3)]"
      ]
     },
     "execution_count": 56,
     "metadata": {},
     "output_type": "execute_result"
    }
   ],
   "source": [
    "# Data for the record array\n",
    "data = [('Ali',15 , 76.5), ('Usman', 20, 82.3)]\n",
    "data \n",
    "# Name  -> type S10 (STRING) = Ali\n",
    "# age   -> type int = 15\n",
    "# marks -> type float = 76.5"
   ]
  },
  {
   "cell_type": "code",
   "execution_count": 59,
   "id": "a41f7b84",
   "metadata": {},
   "outputs": [
    {
     "data": {
      "text/plain": [
       "rec.array([(b'Ali', 15, 76.5), (b'Usman', 20, 82.3)],\n",
       "          dtype=[('name', 'S10'), ('age', '<i8'), ('marks', '<f8')])"
      ]
     },
     "execution_count": 59,
     "metadata": {},
     "output_type": "execute_result"
    }
   ],
   "source": [
    "# use core.records.array\n",
    "arr = np.core.rec.array(data, dtype=dt)\n",
    "arr"
   ]
  },
  {
   "cell_type": "markdown",
   "id": "a9dc6715",
   "metadata": {},
   "source": [
    "# *np.core.rec.fromarrays()*\n",
    "<br>\n",
    "\n",
    "- ### core.rec.fromarrays() is a NumPy function that allows us to create a record array from a list of arrays. This function is useful when we have data in the form of separate arrays, but we want to combine them into a single structured array.\n",
    "<br>\n",
    "\n",
    "- ### When using this function, we need to specify the list of arrays that we want to combine and the data type for each field. We can also specify the names for each field if we want.\n",
    "<br>\n",
    "\n",
    "- ### This function returns a record array that contains all the data from the input arrays. The fields in the output record array correspond to the input arrays, and each field has a name and a data type."
   ]
  },
  {
   "cell_type": "code",
   "execution_count": 6,
   "id": "03e003d2",
   "metadata": {},
   "outputs": [],
   "source": [
    "names = np.array(['Ali', 'Hamza', 'Rizwan', 'Imran'])\n",
    "ages = np.array([25, 30, 35, 40])\n",
    "scores = np.array([85.6, 92.3, 78.9, 88.4])"
   ]
  },
  {
   "cell_type": "code",
   "execution_count": 7,
   "id": "711f41ec",
   "metadata": {},
   "outputs": [],
   "source": [
    "data = np.core.rec.fromarrays([names, ages, scores], names=['name', 'age', 'score'])"
   ]
  },
  {
   "cell_type": "code",
   "execution_count": 8,
   "id": "5691cff1",
   "metadata": {},
   "outputs": [
    {
     "data": {
      "text/plain": [
       "rec.array([('Ali', 25, 85.6), ('Hamza', 30, 92.3), ('Rizwan', 35, 78.9),\n",
       "           ('Imran', 40, 88.4)],\n",
       "          dtype=[('name', '<U6'), ('age', '<i8'), ('score', '<f8')])"
      ]
     },
     "execution_count": 8,
     "metadata": {},
     "output_type": "execute_result"
    }
   ],
   "source": [
    "data"
   ]
  },
  {
   "cell_type": "markdown",
   "id": "8cad3bdb",
   "metadata": {},
   "source": [
    "# *np.core.rec.fromrecords()*\n",
    "<br>\n",
    "\n",
    "- ## np.core.rec.fromrecords() is a NumPy function that helps us create a record array or structured array. We can create a record array from a list of tuples or a list of lists using this function.\n",
    "<br>\n",
    "\n",
    "- ## This Function same as np.core.rec.fromarrays but difference is we need to provide the data in column-wise"
   ]
  },
  {
   "cell_type": "code",
   "execution_count": 11,
   "id": "353b54f8",
   "metadata": {},
   "outputs": [
    {
     "data": {
      "text/plain": [
       "rec.array([('Ali', 'Hamza', 'Rizwan', 'Imran'), ('25', '30', '35', '40'),\n",
       "           ('85.6', '92.3', '78.9', '88.4')],\n",
       "          dtype=[('name', '<U32'), ('age', '<U32'), ('score', '<U32'), ('f3', '<U32')])"
      ]
     },
     "execution_count": 11,
     "metadata": {},
     "output_type": "execute_result"
    }
   ],
   "source": [
    "# Example\n",
    "np.core.rec.fromrecords([names, ages, scores], names=['name', 'age', 'score'])"
   ]
  },
  {
   "cell_type": "code",
   "execution_count": 13,
   "id": "c4c3dfb6",
   "metadata": {},
   "outputs": [
    {
     "data": {
      "text/plain": [
       "rec.array([('Ali', '25', '85.6')],\n",
       "          dtype=[('name', '<U3'), ('age', '<U2'), ('score', '<U4')])"
      ]
     },
     "execution_count": 13,
     "metadata": {},
     "output_type": "execute_result"
    }
   ],
   "source": [
    "# Example 2\n",
    "ali = np.array([\"Ali\",\"25\",\"85.6\"])\n",
    "details = np.core.rec.fromrecords([ali], names=['name', 'age', 'score'])\n",
    "details"
   ]
  },
  {
   "cell_type": "code",
   "execution_count": 14,
   "id": "05d20dd4",
   "metadata": {},
   "outputs": [
    {
     "data": {
      "text/plain": [
       "array(['Ali'], dtype='<U3')"
      ]
     },
     "execution_count": 14,
     "metadata": {},
     "output_type": "execute_result"
    }
   ],
   "source": [
    "details.name"
   ]
  },
  {
   "cell_type": "markdown",
   "id": "891cad4e",
   "metadata": {},
   "source": [
    "# *np.core.rec.fromstring()*\n",
    "<br>\n",
    "\n",
    "- ## np.core.rec.fromstring() is a function in NumPy that helps us create a record array or structured array from a byte string. By using this function, we can store a byte string in a structured format, just like in tables or spreadsheets.\n",
    "<br>\n",
    "\n",
    "- ## The main difference we need to provide the data in byte *string* format, whereas in the other functions, we provide data in the form of a list of arrays or a list of tuples.\n",
    "<br>\n",
    "\n",
    "- ## In this function, we also need to define the data type for any structured data, where we need to specify the name and data type for each field."
   ]
  },
  {
   "cell_type": "code",
   "execution_count": 95,
   "id": "ae8efbcc",
   "metadata": {},
   "outputs": [
    {
     "data": {
      "text/plain": [
       "[('Name', (numpy.str_, 10)), ('Score', numpy.int32)]"
      ]
     },
     "execution_count": 95,
     "metadata": {},
     "output_type": "execute_result"
    }
   ],
   "source": [
    "my_type = [('Name', (np.str_, 10)), ('Score', np.int32)]\n",
    "my_type"
   ]
  },
  {
   "cell_type": "code",
   "execution_count": 96,
   "id": "c30e83cd",
   "metadata": {},
   "outputs": [
    {
     "data": {
      "text/plain": [
       "array([('Ali', 8), ('Kazim', 9)],\n",
       "      dtype=[('Name', '<U10'), ('Score', '<i4')])"
      ]
     },
     "execution_count": 96,
     "metadata": {},
     "output_type": "execute_result"
    }
   ],
   "source": [
    "arr = np.array([ ('Ali', 8), ('Kazim', 9)], dtype=my_type)\n",
    "arr"
   ]
  },
  {
   "cell_type": "code",
   "execution_count": 97,
   "id": "8fabf46e",
   "metadata": {},
   "outputs": [
    {
     "data": {
      "text/plain": [
       "rec.array([('Ali', 8), ('Kazim', 9)],\n",
       "          dtype=[('Name', '<U10'), ('Score', '<i4')])"
      ]
     },
     "execution_count": 97,
     "metadata": {},
     "output_type": "execute_result"
    }
   ],
   "source": [
    "rec = np.core.records.fromstring(arr.tobytes(), dtype=my_type)\n",
    "rec"
   ]
  },
  {
   "cell_type": "code",
   "execution_count": 98,
   "id": "426917af",
   "metadata": {},
   "outputs": [
    {
     "data": {
      "text/plain": [
       "array(['Ali', 'Kazim'], dtype='<U10')"
      ]
     },
     "execution_count": 98,
     "metadata": {},
     "output_type": "execute_result"
    }
   ],
   "source": [
    "rec.Name"
   ]
  }
 ],
 "metadata": {
  "kernelspec": {
   "display_name": "Python 3 (ipykernel)",
   "language": "python",
   "name": "python3"
  },
  "language_info": {
   "codemirror_mode": {
    "name": "ipython",
    "version": 3
   },
   "file_extension": ".py",
   "mimetype": "text/x-python",
   "name": "python",
   "nbconvert_exporter": "python",
   "pygments_lexer": "ipython3",
   "version": "3.10.6"
  }
 },
 "nbformat": 4,
 "nbformat_minor": 5
}

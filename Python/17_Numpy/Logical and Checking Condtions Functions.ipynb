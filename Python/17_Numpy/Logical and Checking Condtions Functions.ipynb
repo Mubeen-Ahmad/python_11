{
 "cells": [
  {
   "cell_type": "markdown",
   "id": "ef36157f",
   "metadata": {},
   "source": [
    "# Logical Functions"
   ]
  },
  {
   "cell_type": "markdown",
   "id": "d3b9ddcb",
   "metadata": {},
   "source": [
    "- ## *np.all()*\n",
    "- ## *np.any()*\n",
    "- ## *np.greater()*\n",
    "- ## *np.greater_equal()*\n",
    "- ## *np.less()*\n",
    "- ## *np.less_equal()*\n",
    "- ## *np.equal()*\n",
    "- ## *np.not_equal()*\n",
    "- ## *np.logical_end()*\n",
    "- ## *np.logical_or()*\n",
    "- ## *np.logical_not()*\n",
    "- ## *np.logical_xor()*"
   ]
  },
  {
   "cell_type": "markdown",
   "id": "f2235143",
   "metadata": {},
   "source": [
    "# Checking Functions"
   ]
  },
  {
   "cell_type": "markdown",
   "id": "2d733684",
   "metadata": {},
   "source": [
    "- ## *np.isin()*\n",
    "- ## *np.isinf()*\n",
    "- ## *np.nan()*\n",
    "- ##  *np.isfinite()*\n",
    "- ## *np.isscalar()*\n"
   ]
  },
  {
   "cell_type": "code",
   "execution_count": 1,
   "id": "b61901b3",
   "metadata": {},
   "outputs": [],
   "source": [
    "import numpy as np"
   ]
  },
  {
   "cell_type": "markdown",
   "id": "104fae7a",
   "metadata": {},
   "source": [
    "# *np.all()*\n",
    "<br>\n",
    "\n",
    "- ### The numpy.all() function is used to check if all elements along a specified axis of a numpy array evaluate to True. It returns True if all elements are True, otherwise it returns False."
   ]
  },
  {
   "cell_type": "code",
   "execution_count": 4,
   "id": "a9069ad6",
   "metadata": {},
   "outputs": [
    {
     "data": {
      "text/plain": [
       "array([[1, 2, 3],\n",
       "       [4, 5, 6]])"
      ]
     },
     "execution_count": 4,
     "metadata": {},
     "output_type": "execute_result"
    }
   ],
   "source": [
    "arr = np.array([[1, 2, 3], [4, 5, 6]])\n",
    "arr"
   ]
  },
  {
   "cell_type": "code",
   "execution_count": 3,
   "id": "aeddb3fb",
   "metadata": {},
   "outputs": [
    {
     "data": {
      "text/plain": [
       "True"
      ]
     },
     "execution_count": 3,
     "metadata": {},
     "output_type": "execute_result"
    }
   ],
   "source": [
    "np.all(arr > 0)"
   ]
  },
  {
   "cell_type": "code",
   "execution_count": 5,
   "id": "d9ba1be5",
   "metadata": {},
   "outputs": [
    {
     "data": {
      "text/plain": [
       "array([ True,  True,  True])"
      ]
     },
     "execution_count": 5,
     "metadata": {},
     "output_type": "execute_result"
    }
   ],
   "source": [
    "# axis\n",
    "np.all(arr > 0,axis=0)"
   ]
  },
  {
   "cell_type": "code",
   "execution_count": 6,
   "id": "2dc90d39",
   "metadata": {},
   "outputs": [
    {
     "data": {
      "text/plain": [
       "array([ True,  True])"
      ]
     },
     "execution_count": 6,
     "metadata": {},
     "output_type": "execute_result"
    }
   ],
   "source": [
    "np.all(arr > 0,axis=1)"
   ]
  },
  {
   "cell_type": "markdown",
   "id": "e756e1dd",
   "metadata": {},
   "source": [
    "# *np.any()*\n",
    "<br>\n",
    "\n",
    "- ### The numpy.any() function is used to check if any elements along a specified axis of a numpy array evaluate to True. It returns True if at least one element is True, otherwise it returns False."
   ]
  },
  {
   "cell_type": "code",
   "execution_count": 7,
   "id": "b0d3df77",
   "metadata": {},
   "outputs": [
    {
     "name": "stdout",
     "output_type": "stream",
     "text": [
      "True\n"
     ]
    }
   ],
   "source": [
    "print(np.any(arr > 5))"
   ]
  },
  {
   "cell_type": "code",
   "execution_count": 8,
   "id": "8ad6d530",
   "metadata": {},
   "outputs": [
    {
     "data": {
      "text/plain": [
       "array([False, False,  True])"
      ]
     },
     "execution_count": 8,
     "metadata": {},
     "output_type": "execute_result"
    }
   ],
   "source": [
    "np.any(arr > 5,axis=0) # axis"
   ]
  },
  {
   "cell_type": "code",
   "execution_count": 9,
   "id": "beac3179",
   "metadata": {},
   "outputs": [
    {
     "data": {
      "text/plain": [
       "array([False,  True])"
      ]
     },
     "execution_count": 9,
     "metadata": {},
     "output_type": "execute_result"
    }
   ],
   "source": [
    "np.any(arr > 5,axis=1)"
   ]
  },
  {
   "cell_type": "markdown",
   "id": "573d3e49",
   "metadata": {},
   "source": [
    "# *np.greater()*\n",
    "<br>\n",
    "\n",
    "- ### np.greater() is to compare each element of two arrays with their corresponding elements and return True if the element in the first array is greater than the corresponding element in the second array, and False if it is less than or equal to it.\n",
    "<br>\n",
    "\n",
    "- ### We use this function when we need to extract data points that satisfy a particular range or condition from any data set."
   ]
  },
  {
   "cell_type": "code",
   "execution_count": 2,
   "id": "f1820688",
   "metadata": {},
   "outputs": [],
   "source": [
    "a = np.array([2, 5, 7, 9, 3])\n",
    "b = np.array([3, 4, 6, 8, 2])"
   ]
  },
  {
   "cell_type": "code",
   "execution_count": 3,
   "id": "a9e2368c",
   "metadata": {},
   "outputs": [
    {
     "data": {
      "text/plain": [
       "array([False,  True,  True,  True,  True])"
      ]
     },
     "execution_count": 3,
     "metadata": {},
     "output_type": "execute_result"
    }
   ],
   "source": [
    "np.greater(a,b) # a > b"
   ]
  },
  {
   "cell_type": "code",
   "execution_count": 4,
   "id": "6db3c704",
   "metadata": {},
   "outputs": [
    {
     "data": {
      "text/plain": [
       "array([False,  True,  True,  True,  True])"
      ]
     },
     "execution_count": 4,
     "metadata": {},
     "output_type": "execute_result"
    }
   ],
   "source": [
    "a > b"
   ]
  },
  {
   "cell_type": "markdown",
   "id": "6ee6c6f1",
   "metadata": {},
   "source": [
    "# *np.greater_equal()*\n",
    "<br>\n",
    "\n",
    "- ### np.greater_equal is a comparison operator used in programming languages to compare two values or variables. It is denoted by \">=\" symbol and returns true if the first value is greater than or equal to the second value."
   ]
  },
  {
   "cell_type": "code",
   "execution_count": 5,
   "id": "8142d736",
   "metadata": {},
   "outputs": [
    {
     "data": {
      "text/plain": [
       "array([False,  True,  True,  True,  True])"
      ]
     },
     "execution_count": 5,
     "metadata": {},
     "output_type": "execute_result"
    }
   ],
   "source": [
    "np.greater_equal(a,b)"
   ]
  },
  {
   "cell_type": "code",
   "execution_count": 6,
   "id": "7bee85e9",
   "metadata": {},
   "outputs": [
    {
     "data": {
      "text/plain": [
       "array([False,  True,  True,  True,  True])"
      ]
     },
     "execution_count": 6,
     "metadata": {},
     "output_type": "execute_result"
    }
   ],
   "source": [
    "a >= b"
   ]
  },
  {
   "cell_type": "markdown",
   "id": "185023ff",
   "metadata": {},
   "source": [
    "# *np.less()*\n",
    "<br>\n",
    "\n",
    "- ### The np.less() function is a NumPy library function that compares two arrays element-wise and returns a boolean array where the elements are True where the corresponding elements of the first array are less than the second array's elements and False where they are not."
   ]
  },
  {
   "cell_type": "code",
   "execution_count": 7,
   "id": "32e29833",
   "metadata": {},
   "outputs": [
    {
     "data": {
      "text/plain": [
       "array([ True, False, False, False, False])"
      ]
     },
     "execution_count": 7,
     "metadata": {},
     "output_type": "execute_result"
    }
   ],
   "source": [
    "np.less(a,b)"
   ]
  },
  {
   "cell_type": "code",
   "execution_count": 8,
   "id": "7f1598c7",
   "metadata": {},
   "outputs": [
    {
     "data": {
      "text/plain": [
       "array([ True, False, False, False, False])"
      ]
     },
     "execution_count": 8,
     "metadata": {},
     "output_type": "execute_result"
    }
   ],
   "source": [
    "a < b"
   ]
  },
  {
   "cell_type": "markdown",
   "id": "eda8720e",
   "metadata": {},
   "source": [
    "# *np.less_equal()*\n",
    "<br>\n",
    "\n",
    "- ### np.less_equal() is a function provided by the NumPy library in Python, and it is used to compare two arrays element-wise to determine if the elements in the first array are less than or equal to the corresponding elements in the second array."
   ]
  },
  {
   "cell_type": "code",
   "execution_count": 9,
   "id": "6a5940b7",
   "metadata": {},
   "outputs": [
    {
     "data": {
      "text/plain": [
       "array([ True, False, False, False, False])"
      ]
     },
     "execution_count": 9,
     "metadata": {},
     "output_type": "execute_result"
    }
   ],
   "source": [
    "np.less_equal(a,b)"
   ]
  },
  {
   "cell_type": "code",
   "execution_count": 10,
   "id": "6ff4075c",
   "metadata": {},
   "outputs": [
    {
     "data": {
      "text/plain": [
       "array([ True, False, False, False, False])"
      ]
     },
     "execution_count": 10,
     "metadata": {},
     "output_type": "execute_result"
    }
   ],
   "source": [
    "a <= b"
   ]
  },
  {
   "cell_type": "markdown",
   "id": "79bc8d47",
   "metadata": {},
   "source": [
    "# *np.equal()*\n",
    "<br>\n",
    "\n",
    "- ### np.equal() is a function provided by the NumPy library in Python, and it is used to compare two arrays element-wise to determine if the elements in the first array are equal to the corresponding elements in the second array."
   ]
  },
  {
   "cell_type": "code",
   "execution_count": 11,
   "id": "d8405d58",
   "metadata": {},
   "outputs": [],
   "source": [
    "a = np.array([2, 5, 7, 9, 3])\n",
    "b = np.array([3, 5, 7, 8, 2])"
   ]
  },
  {
   "cell_type": "code",
   "execution_count": 12,
   "id": "e4b65ccc",
   "metadata": {},
   "outputs": [
    {
     "data": {
      "text/plain": [
       "array([False,  True,  True, False, False])"
      ]
     },
     "execution_count": 12,
     "metadata": {},
     "output_type": "execute_result"
    }
   ],
   "source": [
    "np.equal(a,b)"
   ]
  },
  {
   "cell_type": "code",
   "execution_count": 13,
   "id": "4604dade",
   "metadata": {},
   "outputs": [
    {
     "data": {
      "text/plain": [
       "array([False,  True,  True, False, False])"
      ]
     },
     "execution_count": 13,
     "metadata": {},
     "output_type": "execute_result"
    }
   ],
   "source": [
    "a == b"
   ]
  },
  {
   "cell_type": "markdown",
   "id": "30a78bdb",
   "metadata": {},
   "source": [
    "# *np.not_equal()*\n",
    "<br>\n",
    "\n",
    "- ### np.not_equal() is a function provided by the NumPy library in Python, and it is used to compare two arrays element-wise to determine if the elements in the first array are not equal to the corresponding elements in the second array."
   ]
  },
  {
   "cell_type": "code",
   "execution_count": 14,
   "id": "ea19d548",
   "metadata": {},
   "outputs": [
    {
     "data": {
      "text/plain": [
       "array([ True, False, False,  True,  True])"
      ]
     },
     "execution_count": 14,
     "metadata": {},
     "output_type": "execute_result"
    }
   ],
   "source": [
    "np.not_equal(a,b)"
   ]
  },
  {
   "cell_type": "code",
   "execution_count": 15,
   "id": "8c1825d9",
   "metadata": {},
   "outputs": [
    {
     "data": {
      "text/plain": [
       "array([ True, False, False,  True,  True])"
      ]
     },
     "execution_count": 15,
     "metadata": {},
     "output_type": "execute_result"
    }
   ],
   "source": [
    "a != b"
   ]
  },
  {
   "cell_type": "markdown",
   "id": "189943da",
   "metadata": {},
   "source": [
    "# *np.logical_and()*\n",
    "<br>\n",
    "\n",
    "- ### np.logical_and() is a function provided by the NumPy library in Python, and it is used to compute the element-wise logical AND of two boolean arrays."
   ]
  },
  {
   "cell_type": "code",
   "execution_count": 16,
   "id": "460bb742",
   "metadata": {},
   "outputs": [
    {
     "data": {
      "text/plain": [
       "array([ True,  True,  True,  True,  True])"
      ]
     },
     "execution_count": 16,
     "metadata": {},
     "output_type": "execute_result"
    }
   ],
   "source": [
    "np.logical_and(a,b)"
   ]
  },
  {
   "cell_type": "markdown",
   "id": "18338777",
   "metadata": {},
   "source": [
    "# *np.logical_or*\n",
    "<br>\n",
    "\n",
    "- ### np.logical_or() is a function provided by the NumPy library in Python, and it is used to compute the element-wise logical OR of two boolean arrays."
   ]
  },
  {
   "cell_type": "code",
   "execution_count": 17,
   "id": "1c7d4384",
   "metadata": {},
   "outputs": [
    {
     "data": {
      "text/plain": [
       "array([ True,  True,  True,  True,  True])"
      ]
     },
     "execution_count": 17,
     "metadata": {},
     "output_type": "execute_result"
    }
   ],
   "source": [
    "np.logical_or(a,b)"
   ]
  },
  {
   "cell_type": "markdown",
   "id": "5dfd0512",
   "metadata": {},
   "source": [
    "# *np.logical_xor()*\n",
    "<br>\n",
    "\n",
    "- ### np.logical_xor() is a function provided by the NumPy library in Python, and it is used to compute the element-wise logical XOR (exclusive OR) of two boolean arrays."
   ]
  },
  {
   "cell_type": "code",
   "execution_count": 18,
   "id": "5287d201",
   "metadata": {},
   "outputs": [
    {
     "data": {
      "text/plain": [
       "array([False, False, False, False, False])"
      ]
     },
     "execution_count": 18,
     "metadata": {},
     "output_type": "execute_result"
    }
   ],
   "source": [
    "np.logical_xor(a,b)"
   ]
  },
  {
   "cell_type": "markdown",
   "id": "af99de26",
   "metadata": {},
   "source": [
    "# *np.logical_not()*\n",
    "<br>\n",
    "\n",
    "- ### np.logical_not() is a function provided by the NumPy library in Python, and it is used to compute the element-wise logical NOT of a boolean array."
   ]
  },
  {
   "cell_type": "code",
   "execution_count": 19,
   "id": "014d9af7",
   "metadata": {},
   "outputs": [
    {
     "name": "stdout",
     "output_type": "stream",
     "text": [
      "[2 5 7 9 3]\n",
      "\n",
      "[3 5 7 8 2]\n"
     ]
    }
   ],
   "source": [
    "print(a)\n",
    "print()\n",
    "print(b)"
   ]
  },
  {
   "cell_type": "code",
   "execution_count": 20,
   "id": "de13b52e",
   "metadata": {},
   "outputs": [
    {
     "data": {
      "text/plain": [
       "array([0, 0, 0, 0, 0])"
      ]
     },
     "execution_count": 20,
     "metadata": {},
     "output_type": "execute_result"
    }
   ],
   "source": [
    "np.logical_not(a,b) # also change the value b"
   ]
  },
  {
   "cell_type": "code",
   "execution_count": 21,
   "id": "7ee4b754",
   "metadata": {},
   "outputs": [
    {
     "data": {
      "text/plain": [
       "array([2, 5, 7, 9, 3])"
      ]
     },
     "execution_count": 21,
     "metadata": {},
     "output_type": "execute_result"
    }
   ],
   "source": [
    "a"
   ]
  },
  {
   "cell_type": "code",
   "execution_count": 22,
   "id": "13975f64",
   "metadata": {},
   "outputs": [
    {
     "data": {
      "text/plain": [
       "array([0, 0, 0, 0, 0])"
      ]
     },
     "execution_count": 22,
     "metadata": {},
     "output_type": "execute_result"
    }
   ],
   "source": [
    "b"
   ]
  },
  {
   "cell_type": "markdown",
   "id": "e1cf69bc",
   "metadata": {},
   "source": [
    "# Checking Function"
   ]
  },
  {
   "cell_type": "markdown",
   "id": "9c6ba8a9",
   "metadata": {},
   "source": [
    "# *np.isin()*\n",
    "<br>\n",
    "\n",
    "- ### np.isin() is a NumPy function that is used in Python, and it returns a boolean array. This function is used to match elements in any array with each other."
   ]
  },
  {
   "cell_type": "code",
   "execution_count": 23,
   "id": "6618e895",
   "metadata": {},
   "outputs": [
    {
     "data": {
      "text/plain": [
       "array([ 2,  3,  5,  7, 11, 13])"
      ]
     },
     "execution_count": 23,
     "metadata": {},
     "output_type": "execute_result"
    }
   ],
   "source": [
    "a = np.array([2, 3, 5, 7, 11, 13])\n",
    "a"
   ]
  },
  {
   "cell_type": "code",
   "execution_count": 24,
   "id": "3f785d14",
   "metadata": {},
   "outputs": [
    {
     "data": {
      "text/plain": [
       "array([2, 3, 5])"
      ]
     },
     "execution_count": 24,
     "metadata": {},
     "output_type": "execute_result"
    }
   ],
   "source": [
    "b = np.array([2, 3, 5,])\n",
    "b"
   ]
  },
  {
   "cell_type": "code",
   "execution_count": 25,
   "id": "a9d8d8f3",
   "metadata": {},
   "outputs": [
    {
     "data": {
      "text/plain": [
       "array([ True,  True,  True, False, False, False])"
      ]
     },
     "execution_count": 25,
     "metadata": {},
     "output_type": "execute_result"
    }
   ],
   "source": [
    "np.isin(a,b)"
   ]
  },
  {
   "cell_type": "markdown",
   "id": "85e382d7",
   "metadata": {},
   "source": [
    "# *np.isinf()*\n",
    "<br>\n",
    "\n",
    "- ### np.isinf() is a function provided by the NumPy library in Python, and it is used to check whether each element of an array is positive or negative infinity."
   ]
  },
  {
   "cell_type": "code",
   "execution_count": 26,
   "id": "e96741f3",
   "metadata": {},
   "outputs": [
    {
     "data": {
      "text/plain": [
       "array([ 1.,  2.,  3., inf])"
      ]
     },
     "execution_count": 26,
     "metadata": {},
     "output_type": "execute_result"
    }
   ],
   "source": [
    "arr = np.array([1,2,3,np.inf])\n",
    "arr"
   ]
  },
  {
   "cell_type": "code",
   "execution_count": 27,
   "id": "0e7e9b77",
   "metadata": {},
   "outputs": [
    {
     "data": {
      "text/plain": [
       "<ufunc 'isnan'>"
      ]
     },
     "execution_count": 27,
     "metadata": {},
     "output_type": "execute_result"
    }
   ],
   "source": [
    "np.isnan"
   ]
  },
  {
   "cell_type": "markdown",
   "id": "26cfb839",
   "metadata": {},
   "source": [
    "# *np.nan()*\n",
    "<br>\n",
    "\n",
    "- ### np.nan is a special floating-point value that represents \"Not a Number\". It is a value that is often used to indicate missing or undefined data in a dataset.\n",
    "<br>\n",
    "\n",
    "- ### In NumPy, np.nan can be used in arrays and computations in the same way as other numeric values. However, any arithmetic operation involving np.nan will result in np.nan"
   ]
  },
  {
   "cell_type": "code",
   "execution_count": 28,
   "id": "c6f41f87",
   "metadata": {},
   "outputs": [
    {
     "data": {
      "text/plain": [
       "array([ 1.,  2., nan,  4., nan])"
      ]
     },
     "execution_count": 28,
     "metadata": {},
     "output_type": "execute_result"
    }
   ],
   "source": [
    "arr = np.array([1, 2, np.nan, 4, np.nan])\n",
    "arr"
   ]
  },
  {
   "cell_type": "code",
   "execution_count": 29,
   "id": "1a6d9b1c",
   "metadata": {},
   "outputs": [
    {
     "data": {
      "text/plain": [
       "array([False, False,  True, False,  True])"
      ]
     },
     "execution_count": 29,
     "metadata": {},
     "output_type": "execute_result"
    }
   ],
   "source": [
    "np.isnan(arr)"
   ]
  },
  {
   "cell_type": "markdown",
   "id": "bdc050b6",
   "metadata": {},
   "source": [
    "# *np.isfinite()*\n",
    "<br>\n",
    "\n",
    "- ### The np.isfinite() function is a NumPy library function that checks whether the elements of a given array are finite (i.e., not NaN or infinity) or not. It returns a boolean array where the elements are True where the corresponding elements of the input array are finite and False where they are not."
   ]
  },
  {
   "cell_type": "code",
   "execution_count": 31,
   "id": "58834fd6",
   "metadata": {},
   "outputs": [
    {
     "data": {
      "text/plain": [
       "array([  1.,   2.,  nan,   4.,  inf, -inf,   7.])"
      ]
     },
     "execution_count": 31,
     "metadata": {},
     "output_type": "execute_result"
    }
   ],
   "source": [
    "arr = np.array([1, 2, np.nan, 4, np.inf, -np.inf, 7])\n",
    "arr"
   ]
  },
  {
   "cell_type": "code",
   "execution_count": 32,
   "id": "efd2e528",
   "metadata": {},
   "outputs": [
    {
     "data": {
      "text/plain": [
       "array([ True,  True, False,  True, False, False,  True])"
      ]
     },
     "execution_count": 32,
     "metadata": {},
     "output_type": "execute_result"
    }
   ],
   "source": [
    "np.isfinite(arr)"
   ]
  },
  {
   "cell_type": "markdown",
   "id": "36dbf773",
   "metadata": {},
   "source": [
    "# *np.isscalar()*\n",
    "<br>\n",
    "\n",
    "- ### The np.isscalar() function is a NumPy library function that checks whether a given object is a scalar or not. It returns a boolean value True if the object is a scalar and False if it is not."
   ]
  },
  {
   "cell_type": "code",
   "execution_count": 33,
   "id": "64408dd2",
   "metadata": {},
   "outputs": [
    {
     "data": {
      "text/plain": [
       "True"
      ]
     },
     "execution_count": 33,
     "metadata": {},
     "output_type": "execute_result"
    }
   ],
   "source": [
    "np.isscalar(10)"
   ]
  },
  {
   "cell_type": "code",
   "execution_count": 34,
   "id": "cdcb332e",
   "metadata": {},
   "outputs": [
    {
     "data": {
      "text/plain": [
       "False"
      ]
     },
     "execution_count": 34,
     "metadata": {},
     "output_type": "execute_result"
    }
   ],
   "source": [
    "np.isscalar([1,2,3])"
   ]
  },
  {
   "cell_type": "code",
   "execution_count": 35,
   "id": "bad68824",
   "metadata": {},
   "outputs": [
    {
     "data": {
      "text/plain": [
       "False"
      ]
     },
     "execution_count": 35,
     "metadata": {},
     "output_type": "execute_result"
    }
   ],
   "source": [
    "np.isscalar(np.array([1,2,3]))"
   ]
  }
 ],
 "metadata": {
  "kernelspec": {
   "display_name": "Python 3 (ipykernel)",
   "language": "python",
   "name": "python3"
  },
  "language_info": {
   "codemirror_mode": {
    "name": "ipython",
    "version": 3
   },
   "file_extension": ".py",
   "mimetype": "text/x-python",
   "name": "python",
   "nbconvert_exporter": "python",
   "pygments_lexer": "ipython3",
   "version": "3.10.6"
  }
 },
 "nbformat": 4,
 "nbformat_minor": 5
}

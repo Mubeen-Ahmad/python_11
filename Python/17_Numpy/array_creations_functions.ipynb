{
 "cells": [
  {
   "cell_type": "markdown",
   "id": "3fcfc151",
   "metadata": {},
   "source": [
    "# NumPy is a powerful library for numerical computing in Python. It provides a variety of functions to create arrays of different shapes and sizes. Here are some of the most commonly used NumPy array creation functions"
   ]
  },
  {
   "cell_type": "markdown",
   "id": "8edfd3cc",
   "metadata": {},
   "source": [
    "# Array Creations Functions\n",
    "<br>\n",
    "\n",
    "- ## Array creation functions create a new array from scratch.\n",
    "<br>\n",
    "\n",
    "- ## Array creation functions are used when you want to create a new array with specific dimensions and values"
   ]
  },
  {
   "cell_type": "code",
   "execution_count": 2,
   "id": "92c23325",
   "metadata": {},
   "outputs": [],
   "source": [
    "import numpy as np"
   ]
  },
  {
   "cell_type": "markdown",
   "id": "ea21f6c1",
   "metadata": {},
   "source": [
    "<br>\n",
    "\n",
    "- ## **np.empty()**\n",
    "- ## **np.empty_like()**\n",
    "- ## **np.eye()**\n",
    "- ## **np.identity()**\n",
    "- ## **np.onces()**\n",
    "- ## **np.onces_like()**\n",
    "- ## **np.zeros()**\n",
    "- ## **np.zeros_like()**\n",
    "- ## **np.full()**\n",
    "- ## **np.full_like()**\n",
    "\n",
    "<br>"
   ]
  },
  {
   "cell_type": "markdown",
   "id": "f7474819",
   "metadata": {},
   "source": [
    "# **np.empty()**\n",
    "<br>\n",
    "\n",
    "- ## The empty() function in NumPy library that creates an empty NumPy array with the size and shape you specify. When you use this function, the values in the array are not initialized or set to any specific value, and the array assumes some random values that were previously stored in the memory. \n",
    "<br>\n",
    "\n",
    "- ## This function only allocates memory for the array and can be used to assign values to the array later as per your requirement.\n",
    "<br>\n",
    "\n",
    "- ## However, it's important to note that if you don't initialize the values of the array after creating it using this function, the array may contain unpredictable or random values, which may not be useful for your purpose.\n",
    "<br>\n",
    "\n",
    "## Parameters :\n",
    "\n",
    "- ## shape required \n",
    "<br>\n",
    "\n",
    "- ## dtype optional\n",
    "<br>\n",
    "\n",
    "- ## order optional (C,F)"
   ]
  },
  {
   "cell_type": "code",
   "execution_count": 14,
   "id": "9bfdb6fb",
   "metadata": {},
   "outputs": [
    {
     "data": {
      "text/plain": [
       "array([[4.64714877e-310, 0.00000000e+000],\n",
       "       [4.64775232e-310, 4.64775236e-310]])"
      ]
     },
     "execution_count": 14,
     "metadata": {},
     "output_type": "execute_result"
    }
   ],
   "source": [
    "shape = (2,2)\n",
    "np.empty(shape)"
   ]
  },
  {
   "cell_type": "code",
   "execution_count": 20,
   "id": "8f0138da",
   "metadata": {},
   "outputs": [
    {
     "data": {
      "text/plain": [
       "array([[94059335034344,              0],\n",
       "       [94071554975280, 94071554700896]])"
      ]
     },
     "execution_count": 20,
     "metadata": {},
     "output_type": "execute_result"
    }
   ],
   "source": [
    "np.empty(shape=(2,2),dtype=int)"
   ]
  },
  {
   "cell_type": "code",
   "execution_count": 66,
   "id": "cc91a4a0",
   "metadata": {},
   "outputs": [
    {
     "data": {
      "text/plain": [
       "array([[94059336737907,              0],\n",
       "       [94071554975280, 94071554700896]])"
      ]
     },
     "execution_count": 66,
     "metadata": {},
     "output_type": "execute_result"
    }
   ],
   "source": [
    "np.empty(shape=(2,2),dtype=int,order=\"C\")"
   ]
  },
  {
   "cell_type": "code",
   "execution_count": 65,
   "id": "5b62032a",
   "metadata": {},
   "outputs": [
    {
     "data": {
      "text/plain": [
       "array([[94059335574634, 94071554975280],\n",
       "       [             0, 94071554700896]])"
      ]
     },
     "execution_count": 65,
     "metadata": {},
     "output_type": "execute_result"
    }
   ],
   "source": [
    "np.empty(shape=(2,2),dtype=int,order=\"F\")"
   ]
  },
  {
   "cell_type": "markdown",
   "id": "4541a9cc",
   "metadata": {},
   "source": [
    "# **np.empty_like()**\n",
    "<br>\n",
    "\n",
    "- ## empty_like that creates a new array or data structure with the same shape and data type as a given array or data structure, but with all elements initialized to zero or empty.\n",
    "<br>\n",
    "\n",
    "# Parameters\n",
    "<br>\n",
    "\n",
    "- ## prototype, (Required)\n",
    "<br>\n",
    "\n",
    "- ## dtype=None,\n",
    "<br>\n",
    "\n",
    "- ## order='K', \n",
    "<br>\n",
    "\n",
    "- ## subok=Tru"
   ]
  },
  {
   "cell_type": "code",
   "execution_count": 70,
   "id": "86ae2f58",
   "metadata": {},
   "outputs": [
    {
     "data": {
      "text/plain": [
       "array([1, 2, 3])"
      ]
     },
     "execution_count": 70,
     "metadata": {},
     "output_type": "execute_result"
    }
   ],
   "source": [
    "arr1 = np.array([1, 2, 3])\n",
    "arr1"
   ]
  },
  {
   "cell_type": "code",
   "execution_count": 78,
   "id": "91cda80a",
   "metadata": {},
   "outputs": [
    {
     "data": {
      "text/plain": [
       "array([94059339087658,              0,             32])"
      ]
     },
     "execution_count": 78,
     "metadata": {},
     "output_type": "execute_result"
    }
   ],
   "source": [
    "arr2 = np.empty_like(arr1)\n",
    "arr2"
   ]
  },
  {
   "cell_type": "markdown",
   "id": "913f1368",
   "metadata": {},
   "source": [
    "# **np.eye()**\n",
    "<br>\n",
    "\n",
    "- ## The meaning of \"eye()\" function is an \"identity matrix\". This matrix has a value of 1 on its diagonal and all other values are 0.\n",
    "<br>\n",
    "\n",
    "- ## It is used to multiply any matrix by itself, and the output will be the original matrix. This matrix is important in matrix algebra and is often used in complex calculations.\n",
    "<br>\n",
    "\n",
    "# Parameters\n",
    "<br>\n",
    "\n",
    "- ## N required ROWS\n",
    "- ## M optional COLUMNS\n",
    "- ## K optional Dignol sequence position\n",
    "- ## dtype optional\n",
    "- ## order optional"
   ]
  },
  {
   "cell_type": "code",
   "execution_count": 3,
   "id": "957adc06",
   "metadata": {},
   "outputs": [
    {
     "data": {
      "text/plain": [
       "array([[1., 0., 0.],\n",
       "       [0., 1., 0.],\n",
       "       [0., 0., 1.]])"
      ]
     },
     "execution_count": 3,
     "metadata": {},
     "output_type": "execute_result"
    }
   ],
   "source": [
    "np.eye(N=3,M=3)"
   ]
  },
  {
   "cell_type": "code",
   "execution_count": 5,
   "id": "42dd1bb7",
   "metadata": {},
   "outputs": [
    {
     "data": {
      "text/plain": [
       "array([[0., 1., 0.],\n",
       "       [0., 0., 1.],\n",
       "       [0., 0., 0.]])"
      ]
     },
     "execution_count": 5,
     "metadata": {},
     "output_type": "execute_result"
    }
   ],
   "source": [
    "np.eye(N=3,M=3,k=1)"
   ]
  },
  {
   "cell_type": "code",
   "execution_count": 11,
   "id": "96eb2ba1",
   "metadata": {},
   "outputs": [
    {
     "data": {
      "text/plain": [
       "array([[0., 0., 0., 0.],\n",
       "       [1., 0., 0., 0.],\n",
       "       [0., 1., 0., 0.],\n",
       "       [0., 0., 1., 0.],\n",
       "       [0., 0., 0., 1.],\n",
       "       [0., 0., 0., 0.]])"
      ]
     },
     "execution_count": 11,
     "metadata": {},
     "output_type": "execute_result"
    }
   ],
   "source": [
    "np.eye(N=6,M=4,k=-1)"
   ]
  },
  {
   "cell_type": "code",
   "execution_count": 6,
   "id": "1983cbc5",
   "metadata": {},
   "outputs": [
    {
     "data": {
      "text/plain": [
       "array([[1., 0., 0., 0.],\n",
       "       [0., 1., 0., 0.]])"
      ]
     },
     "execution_count": 6,
     "metadata": {},
     "output_type": "execute_result"
    }
   ],
   "source": [
    "row = 2\n",
    "col = 4\n",
    "np.eye(N=row,M=col)"
   ]
  },
  {
   "cell_type": "markdown",
   "id": "d6b2894b",
   "metadata": {},
   "source": [
    "# **np.identity()**\n",
    "<br>\n",
    "\n",
    "- ## An identity matrix is a square matrix in which all the elements of the main diagonal are equal to 1 and all other elements are equal to 0. \n",
    "<br>\n",
    "\n",
    "- ## This function is useful in linear algebra, where the identity matrix plays an important role in representing the identity transformation in vector spaces.\n",
    "<br>\n",
    "\n",
    "- ## Identity matrices are also useful in testing matrix operations and algorithms, as they have special properties that make them easy to work with.\n",
    "<br>\n",
    "\n",
    "# Parameters\n",
    "<br>\n",
    "\n",
    "- ## n Required (rowsxcolumn)\n",
    "<br>\n",
    "\n",
    "- ## dtype optional\n",
    "    "
   ]
  },
  {
   "cell_type": "code",
   "execution_count": 12,
   "id": "fd9eff2f",
   "metadata": {},
   "outputs": [
    {
     "data": {
      "text/plain": [
       "array([[1., 0., 0.],\n",
       "       [0., 1., 0.],\n",
       "       [0., 0., 1.]])"
      ]
     },
     "execution_count": 12,
     "metadata": {},
     "output_type": "execute_result"
    }
   ],
   "source": [
    "np.identity(3)"
   ]
  },
  {
   "cell_type": "code",
   "execution_count": 24,
   "id": "4715880d",
   "metadata": {},
   "outputs": [
    {
     "data": {
      "text/plain": [
       "array([[ True, False],\n",
       "       [False,  True]])"
      ]
     },
     "execution_count": 24,
     "metadata": {},
     "output_type": "execute_result"
    }
   ],
   "source": [
    "np.identity(2,dtype=bool)"
   ]
  },
  {
   "cell_type": "markdown",
   "id": "6dfee23e",
   "metadata": {},
   "source": [
    "# **np.ones()**\n",
    "<br>\n",
    "\n",
    "- ## The ones function is used to create a new array of given shape and type, filled with ones.\n",
    "<br>\n",
    "\n",
    "- ## The ones() function is useful in situations where we need to create an array of ones with a specific shape and data type, for example in matrix operations or in initializing an array with default values.\n",
    "<br>\n",
    "\n",
    "# Parameters\n",
    "- ## shape required\n",
    "<br>\n",
    "\n",
    "- ## dtype optional\n",
    "<br>\n",
    "\n",
    "- ## order optional"
   ]
  },
  {
   "cell_type": "code",
   "execution_count": 27,
   "id": "59f403ee",
   "metadata": {},
   "outputs": [
    {
     "data": {
      "text/plain": [
       "array([[1., 1., 1., 1.],\n",
       "       [1., 1., 1., 1.],\n",
       "       [1., 1., 1., 1.]])"
      ]
     },
     "execution_count": 27,
     "metadata": {},
     "output_type": "execute_result"
    }
   ],
   "source": [
    "row = 3\n",
    "col = 4\n",
    "np.ones(shape=(row,col))"
   ]
  },
  {
   "cell_type": "code",
   "execution_count": 33,
   "id": "2397105d",
   "metadata": {},
   "outputs": [
    {
     "data": {
      "text/plain": [
       "array([[1., 1., 1.],\n",
       "       [1., 1., 1.],\n",
       "       [1., 1., 1.]])"
      ]
     },
     "execution_count": 33,
     "metadata": {},
     "output_type": "execute_result"
    }
   ],
   "source": [
    "np.ones(shape=(3,3))"
   ]
  },
  {
   "cell_type": "code",
   "execution_count": 36,
   "id": "057e623e",
   "metadata": {},
   "outputs": [
    {
     "data": {
      "text/plain": [
       "array([1., 1., 1.])"
      ]
     },
     "execution_count": 36,
     "metadata": {},
     "output_type": "execute_result"
    }
   ],
   "source": [
    "np.ones(shape=(3))"
   ]
  },
  {
   "cell_type": "markdown",
   "id": "c4e91fe6",
   "metadata": {},
   "source": [
    "# **np.ones_like()**\n",
    "<br>\n",
    "\n",
    "- ## The numpy.ones_like() function is used to create a new NumPy array filled with ones, where the shape and data type of the new array are the same as those of a given input array.\n",
    "<br>\n",
    "\n",
    "# Parameter\n",
    "<br>\n",
    "\n",
    "- ## a required\n",
    "- ## dtype order\n",
    "- ## order order\n",
    "- ## subok order"
   ]
  },
  {
   "cell_type": "code",
   "execution_count": 37,
   "id": "f31f3292",
   "metadata": {},
   "outputs": [
    {
     "data": {
      "text/plain": [
       "array([[1, 2, 3],\n",
       "       [4, 5, 6],\n",
       "       [7, 8, 9]])"
      ]
     },
     "execution_count": 37,
     "metadata": {},
     "output_type": "execute_result"
    }
   ],
   "source": [
    "arr1 = np.array([[1,2,3],[4,5,6],[7,8,9]])\n",
    "arr1"
   ]
  },
  {
   "cell_type": "code",
   "execution_count": 38,
   "id": "ca322a58",
   "metadata": {},
   "outputs": [
    {
     "data": {
      "text/plain": [
       "array([[1, 1, 1],\n",
       "       [1, 1, 1],\n",
       "       [1, 1, 1]])"
      ]
     },
     "execution_count": 38,
     "metadata": {},
     "output_type": "execute_result"
    }
   ],
   "source": [
    "np.ones_like(arr1)"
   ]
  },
  {
   "cell_type": "code",
   "execution_count": 39,
   "id": "bcc914b4",
   "metadata": {},
   "outputs": [
    {
     "data": {
      "text/plain": [
       "array([[ True,  True,  True],\n",
       "       [ True,  True,  True],\n",
       "       [ True,  True,  True]])"
      ]
     },
     "execution_count": 39,
     "metadata": {},
     "output_type": "execute_result"
    }
   ],
   "source": [
    "np.ones_like(arr1,dtype=bool)"
   ]
  },
  {
   "cell_type": "code",
   "execution_count": 41,
   "id": "e50f53f7",
   "metadata": {},
   "outputs": [
    {
     "data": {
      "text/plain": [
       "array([[1, 1, 1],\n",
       "       [1, 1, 1],\n",
       "       [1, 1, 1]])"
      ]
     },
     "execution_count": 41,
     "metadata": {},
     "output_type": "execute_result"
    }
   ],
   "source": [
    "np.ones_like(arr1,order=\"C\")"
   ]
  },
  {
   "cell_type": "code",
   "execution_count": 42,
   "id": "23f1a065",
   "metadata": {},
   "outputs": [
    {
     "data": {
      "text/plain": [
       "array([[1, 1, 1],\n",
       "       [1, 1, 1],\n",
       "       [1, 1, 1]])"
      ]
     },
     "execution_count": 42,
     "metadata": {},
     "output_type": "execute_result"
    }
   ],
   "source": [
    "np.ones_like(arr1,subok=True)"
   ]
  },
  {
   "cell_type": "code",
   "execution_count": 44,
   "id": "9c915e44",
   "metadata": {},
   "outputs": [
    {
     "data": {
      "text/plain": [
       "array([[1, 1],\n",
       "       [1, 1]])"
      ]
     },
     "execution_count": 44,
     "metadata": {},
     "output_type": "execute_result"
    }
   ],
   "source": [
    "# change shape\n",
    "np.ones_like(arr1,shape=(2,2))"
   ]
  },
  {
   "cell_type": "markdown",
   "id": "4c6a14eb",
   "metadata": {},
   "source": [
    "# **np.zeros()**\n",
    "<br>\n",
    "\n",
    "- ## The numpy.zeros() function is used to create an array of specified shape and data type, filled with zeros.\n",
    "<br>\n",
    "\n",
    "- ## The function is commonly used to initialize an array of a specific size and type, before filling it with actual values obtained from some calculations or data sources. \n",
    "<br>\n",
    "\n",
    "- ## It is also used as a placeholder to allocate memory for later use.\n",
    "<br>\n",
    "\n",
    "# Parameters\n",
    "<br>\n",
    "\n",
    "- ## shape required\n",
    "- ## dtype optional\n",
    "- ## order\n"
   ]
  },
  {
   "cell_type": "code",
   "execution_count": 3,
   "id": "efcc2327",
   "metadata": {},
   "outputs": [
    {
     "data": {
      "text/plain": [
       "array([[0., 0., 0.],\n",
       "       [0., 0., 0.],\n",
       "       [0., 0., 0.]])"
      ]
     },
     "execution_count": 3,
     "metadata": {},
     "output_type": "execute_result"
    }
   ],
   "source": [
    "np.zeros(shape=(3,3))"
   ]
  },
  {
   "cell_type": "code",
   "execution_count": 4,
   "id": "8dd4934d",
   "metadata": {},
   "outputs": [
    {
     "data": {
      "text/plain": [
       "array([[False, False, False],\n",
       "       [False, False, False],\n",
       "       [False, False, False]])"
      ]
     },
     "execution_count": 4,
     "metadata": {},
     "output_type": "execute_result"
    }
   ],
   "source": [
    "np.zeros(shape=(3,3),dtype=bool) "
   ]
  },
  {
   "cell_type": "code",
   "execution_count": 5,
   "id": "70c2f3ed",
   "metadata": {},
   "outputs": [
    {
     "data": {
      "text/plain": [
       "array([0., 0., 0.])"
      ]
     },
     "execution_count": 5,
     "metadata": {},
     "output_type": "execute_result"
    }
   ],
   "source": [
    "np.zeros(shape=(3))"
   ]
  },
  {
   "cell_type": "code",
   "execution_count": 6,
   "id": "c200e2b4",
   "metadata": {},
   "outputs": [
    {
     "data": {
      "text/plain": [
       "array([0., 0., 0.])"
      ]
     },
     "execution_count": 6,
     "metadata": {},
     "output_type": "execute_result"
    }
   ],
   "source": [
    "np.zeros(shape=(3),order=\"C\")"
   ]
  },
  {
   "cell_type": "markdown",
   "id": "a1dc9feb",
   "metadata": {},
   "source": [
    "# **np.zeros_like()**\n",
    "<br>\n",
    "\n",
    "- ## The numpy.zeros_like() function takes an array_like object as input and returns an array of the same shape, size, and dtype with all elements set to zero.\n",
    "<br>\n",
    "\n",
    "- ## This function is useful when you want to create an array of zeros with the same shape and type as another array without explicitly specifying the shape and data type.\n",
    "<br>\n",
    "\n",
    "- ## It can also be used to initialize a new array with the same shape as an existing array but with all elements set to zero\n",
    "<br>\n",
    "\n",
    "# Parameters\n",
    "<br>\n",
    "\n",
    "- ## a required\n",
    "- ## order optional\n",
    "- ## subok optional"
   ]
  },
  {
   "cell_type": "code",
   "execution_count": 8,
   "id": "4f92d72a",
   "metadata": {},
   "outputs": [
    {
     "data": {
      "text/plain": [
       "array([[ 0,  1,  2,  3,  4],\n",
       "       [ 5,  6,  7,  8,  9],\n",
       "       [10, 11, 12, 13, 14],\n",
       "       [15, 16, 17, 18, 19],\n",
       "       [20, 21, 22, 23, 24]])"
      ]
     },
     "execution_count": 8,
     "metadata": {},
     "output_type": "execute_result"
    }
   ],
   "source": [
    "arr = np.arange(25).reshape(5,5)\n",
    "arr"
   ]
  },
  {
   "cell_type": "code",
   "execution_count": 9,
   "id": "cbfe8cfb",
   "metadata": {},
   "outputs": [
    {
     "data": {
      "text/plain": [
       "array([[0, 0, 0, 0, 0],\n",
       "       [0, 0, 0, 0, 0],\n",
       "       [0, 0, 0, 0, 0],\n",
       "       [0, 0, 0, 0, 0],\n",
       "       [0, 0, 0, 0, 0]])"
      ]
     },
     "execution_count": 9,
     "metadata": {},
     "output_type": "execute_result"
    }
   ],
   "source": [
    "np.zeros_like(arr)"
   ]
  },
  {
   "cell_type": "code",
   "execution_count": 12,
   "id": "259acba4",
   "metadata": {},
   "outputs": [
    {
     "data": {
      "text/plain": [
       "array([[False, False, False, False, False],\n",
       "       [False, False, False, False, False],\n",
       "       [False, False, False, False, False],\n",
       "       [False, False, False, False, False],\n",
       "       [False, False, False, False, False]])"
      ]
     },
     "execution_count": 12,
     "metadata": {},
     "output_type": "execute_result"
    }
   ],
   "source": [
    "np.zeros_like(arr,dtype=\"bool\")"
   ]
  },
  {
   "cell_type": "code",
   "execution_count": 13,
   "id": "18d9cb46",
   "metadata": {},
   "outputs": [
    {
     "data": {
      "text/plain": [
       "array([[0, 0, 0, 0, 0],\n",
       "       [0, 0, 0, 0, 0],\n",
       "       [0, 0, 0, 0, 0],\n",
       "       [0, 0, 0, 0, 0],\n",
       "       [0, 0, 0, 0, 0]])"
      ]
     },
     "execution_count": 13,
     "metadata": {},
     "output_type": "execute_result"
    }
   ],
   "source": [
    "np.zeros_like(arr,order=\"F\")"
   ]
  },
  {
   "cell_type": "markdown",
   "id": "a43c313f",
   "metadata": {},
   "source": [
    "# **np.full()**\n",
    "<br>\n",
    "\n",
    "- ## The numpy.full() function is used to create a new array of the specified shape and type, filled with a specified value.\n",
    "<br>\n",
    "\n",
    "# Parameters\n",
    "<br>\n",
    "\n",
    "- ## shape required\n",
    "- ## fill_value required\n",
    "- ## dtype optional\n",
    "- ## order optional"
   ]
  },
  {
   "cell_type": "code",
   "execution_count": 4,
   "id": "5f4eb57b",
   "metadata": {},
   "outputs": [
    {
     "data": {
      "text/plain": [
       "array([[5, 5, 5],\n",
       "       [5, 5, 5],\n",
       "       [5, 5, 5]])"
      ]
     },
     "execution_count": 4,
     "metadata": {},
     "output_type": "execute_result"
    }
   ],
   "source": [
    "np.full(shape=(3, 3),fill_value=5)"
   ]
  },
  {
   "cell_type": "code",
   "execution_count": 13,
   "id": "3075cde7",
   "metadata": {},
   "outputs": [
    {
     "data": {
      "text/plain": [
       "array([[10],\n",
       "       [10]])"
      ]
     },
     "execution_count": 13,
     "metadata": {},
     "output_type": "execute_result"
    }
   ],
   "source": [
    "np.full(shape=(2,1),fill_value=10)"
   ]
  },
  {
   "cell_type": "code",
   "execution_count": 14,
   "id": "2156763d",
   "metadata": {},
   "outputs": [
    {
     "data": {
      "text/plain": [
       "array([[10, 10]])"
      ]
     },
     "execution_count": 14,
     "metadata": {},
     "output_type": "execute_result"
    }
   ],
   "source": [
    "np.full(shape=(1,2),fill_value=10)"
   ]
  },
  {
   "cell_type": "code",
   "execution_count": 16,
   "id": "3d6325ac",
   "metadata": {},
   "outputs": [
    {
     "data": {
      "text/plain": [
       "array([[-9, -9, -9, -9, -9, -9],\n",
       "       [-9, -9, -9, -9, -9, -9],\n",
       "       [-9, -9, -9, -9, -9, -9],\n",
       "       [-9, -9, -9, -9, -9, -9],\n",
       "       [-9, -9, -9, -9, -9, -9],\n",
       "       [-9, -9, -9, -9, -9, -9]])"
      ]
     },
     "execution_count": 16,
     "metadata": {},
     "output_type": "execute_result"
    }
   ],
   "source": [
    "np.full(shape=(6,6),fill_value=-9)"
   ]
  },
  {
   "cell_type": "code",
   "execution_count": 17,
   "id": "cc1da11c",
   "metadata": {},
   "outputs": [
    {
     "data": {
      "text/plain": [
       "array([[inf, inf, inf, inf, inf, inf],\n",
       "       [inf, inf, inf, inf, inf, inf],\n",
       "       [inf, inf, inf, inf, inf, inf],\n",
       "       [inf, inf, inf, inf, inf, inf],\n",
       "       [inf, inf, inf, inf, inf, inf],\n",
       "       [inf, inf, inf, inf, inf, inf]])"
      ]
     },
     "execution_count": 17,
     "metadata": {},
     "output_type": "execute_result"
    }
   ],
   "source": [
    "np.full(shape=(6,6),fill_value=np.inf)"
   ]
  },
  {
   "cell_type": "markdown",
   "id": "f8293220",
   "metadata": {},
   "source": [
    "# **np.full_like()**\n",
    "<br>\n",
    "\n",
    "- ## The numpy.full_like() function is used to create an array with the same shape as an existing array and fill it with a specific value.\n",
    "<br>\n",
    "\n",
    "# Parameters\n",
    "<br>\n",
    "\n",
    "- ## a    required\n",
    "- ## full_value   required\n",
    "- ## order\n",
    "- ## subok"
   ]
  },
  {
   "cell_type": "code",
   "execution_count": 19,
   "id": "38edf454",
   "metadata": {},
   "outputs": [
    {
     "data": {
      "text/plain": [
       "array([[0., 0., 0.],\n",
       "       [0., 0., 0.],\n",
       "       [0., 0., 0.]])"
      ]
     },
     "execution_count": 19,
     "metadata": {},
     "output_type": "execute_result"
    }
   ],
   "source": [
    "arr = np.zeros(shape=(3,3))\n",
    "arr"
   ]
  },
  {
   "cell_type": "code",
   "execution_count": 22,
   "id": "e037f1d0",
   "metadata": {},
   "outputs": [
    {
     "data": {
      "text/plain": [
       "array([[1., 1., 1.],\n",
       "       [1., 1., 1.],\n",
       "       [1., 1., 1.]])"
      ]
     },
     "execution_count": 22,
     "metadata": {},
     "output_type": "execute_result"
    }
   ],
   "source": [
    "np.full_like(arr,fill_value=1)"
   ]
  },
  {
   "cell_type": "code",
   "execution_count": 23,
   "id": "c3068574",
   "metadata": {},
   "outputs": [
    {
     "data": {
      "text/plain": [
       "array([[0., 0., 0.],\n",
       "       [0., 0., 0.],\n",
       "       [0., 0., 0.]])"
      ]
     },
     "execution_count": 23,
     "metadata": {},
     "output_type": "execute_result"
    }
   ],
   "source": [
    "arr"
   ]
  }
 ],
 "metadata": {
  "kernelspec": {
   "display_name": "Python 3 (ipykernel)",
   "language": "python",
   "name": "python3"
  },
  "language_info": {
   "codemirror_mode": {
    "name": "ipython",
    "version": 3
   },
   "file_extension": ".py",
   "mimetype": "text/x-python",
   "name": "python",
   "nbconvert_exporter": "python",
   "pygments_lexer": "ipython3",
   "version": "3.10.6"
  }
 },
 "nbformat": 4,
 "nbformat_minor": 5
}

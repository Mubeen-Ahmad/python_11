{
 "cells": [
  {
   "cell_type": "markdown",
   "id": "47f6adf7",
   "metadata": {},
   "source": [
    "# Transpose Functions"
   ]
  },
  {
   "cell_type": "markdown",
   "id": "78d2509a",
   "metadata": {},
   "source": [
    "- ## *np.moveaxis()*\n",
    "- ## *np.rollaxis()*\n",
    "- ## *ndrray.T*\n",
    "- ## *np.transpose()*\n",
    "- ## *np.swapaxes()*\n"
   ]
  },
  {
   "cell_type": "markdown",
   "id": "78720607",
   "metadata": {},
   "source": [
    "# Rearranging Functions"
   ]
  },
  {
   "cell_type": "markdown",
   "id": "c0d534d9",
   "metadata": {},
   "source": [
    "- ## *np.flip()*\n",
    "- ## *np.flipr()*\n",
    "- ## *np.flipud()*\n",
    "- ## *np.roll()*\n",
    "- ## *np.rot90()*"
   ]
  },
  {
   "cell_type": "markdown",
   "id": "06147574",
   "metadata": {},
   "source": [
    "# *np.moveaxis()*\n",
    "<br>\n",
    "\n",
    "- ### The NumPy moveaxis() function is used to change the dimensions of an array. The syntax of this function is numpy.moveaxis(a, source, destination), where 'a' is the input array, 'source' and 'destination' define the positions of the axes to be moved.\n",
    "<br>\n",
    "\n",
    "- ### As the name suggests, the moveaxis() function is used to move the dimensions of an array. In this function, we can specify which dimensions to move and to which position. When we use the moveaxis() function, we take some dimensions from the input array 'a' and place them in a different position.\n",
    "<br>\n",
    "\n",
    "- ### We need to specify the source argument in this function to indicate which dimensions to move, and the destination argument to indicate where to move them. These positions are 0-based index positions.\n",
    "<br>\n",
    "\n",
    "- ### The moveaxis() function is very helpful when we need to modify the dimensions of an array for a specific operation. Along with this, this function is also useful for understanding and manipulating the dimensions of an array.\n",
    "<br>\n",
    "\n",
    "# Parameters\n",
    "<br>\n",
    "\n",
    "- ## a Required\n",
    "- ## source Required\n",
    "- ## destination Required"
   ]
  },
  {
   "cell_type": "code",
   "execution_count": 1,
   "id": "f2507e80",
   "metadata": {},
   "outputs": [],
   "source": [
    "import numpy as np"
   ]
  },
  {
   "cell_type": "code",
   "execution_count": 2,
   "id": "b954e52e",
   "metadata": {},
   "outputs": [
    {
     "data": {
      "text/plain": [
       "array([[1, 2],\n",
       "       [3, 4]])"
      ]
     },
     "execution_count": 2,
     "metadata": {},
     "output_type": "execute_result"
    }
   ],
   "source": [
    "arr = np.array([\n",
    "    [1,2],\n",
    "    [3,4]\n",
    "])\n",
    "\n",
    "arr\n"
   ]
  },
  {
   "cell_type": "markdown",
   "id": "60e1ca32",
   "metadata": {},
   "source": [
    "<img src=\"../../images/2d_ax.png\" style=\"display: block;margin-left: auto;margin-right: auto;\n",
    "  width:30%; border-radius:0px 10px 10px 10px; height:30%;\">"
   ]
  },
  {
   "cell_type": "code",
   "execution_count": 3,
   "id": "15d69b4e",
   "metadata": {},
   "outputs": [
    {
     "data": {
      "text/plain": [
       "array([[1, 3],\n",
       "       [2, 4]])"
      ]
     },
     "execution_count": 3,
     "metadata": {},
     "output_type": "execute_result"
    }
   ],
   "source": [
    "\"\"\"\n",
    "\n",
    "[1]\n",
    "    -----------  > [1,3]\n",
    "[3]\n",
    "\n",
    "[2]\n",
    "    --------------> [2,4]\n",
    "[4]\n",
    "\n",
    " replace 0 axis to 1\n",
    "\"\"\"\n",
    "\n",
    "np.moveaxis(arr,source=0,destination=1)\n",
    "\n"
   ]
  },
  {
   "cell_type": "code",
   "execution_count": 4,
   "id": "a4b4d64f",
   "metadata": {},
   "outputs": [
    {
     "data": {
      "text/plain": [
       "array([[[1, 2],\n",
       "        [3, 4]],\n",
       "\n",
       "       [[5, 6],\n",
       "        [7, 8]]])"
      ]
     },
     "execution_count": 4,
     "metadata": {},
     "output_type": "execute_result"
    }
   ],
   "source": [
    "# 3d Array\n",
    "\n",
    "data= np.array([\n",
    "    [\n",
    "        [1,2],\n",
    "        [3,4],\n",
    "    ],\n",
    "    [\n",
    "        [5,6],\n",
    "        [7,8],\n",
    "    ]\n",
    "])\n",
    "\n",
    "data"
   ]
  },
  {
   "cell_type": "markdown",
   "id": "7422800d",
   "metadata": {},
   "source": [
    "<img src=\"../../images/3d.png\" style=\"display: block;margin-left: auto;margin-right: auto;\n",
    "  width:50%; border-radius:0px 10px 10px 10px; height:50%;\">"
   ]
  },
  {
   "cell_type": "code",
   "execution_count": 5,
   "id": "12b3f8ef",
   "metadata": {},
   "outputs": [],
   "source": [
    "# so here 3 axis 0,1,2\n",
    "# NOW MOVE THE AXIS 0 REPLACE TO 2"
   ]
  },
  {
   "cell_type": "markdown",
   "id": "c1e07eab",
   "metadata": {},
   "source": [
    "# axis 0  values\n",
    "- ##  [1,5] [2,6]\n",
    "- ##  [3,7] [4,8]"
   ]
  },
  {
   "cell_type": "markdown",
   "id": "409cc11a",
   "metadata": {},
   "source": [
    "# axis 1  values\n",
    "- ##  [1,2] [3,4]\n",
    "- ##  [5,6] [7,8]"
   ]
  },
  {
   "cell_type": "code",
   "execution_count": 6,
   "id": "2acae03b",
   "metadata": {},
   "outputs": [
    {
     "data": {
      "text/plain": [
       "array([[[1, 2],\n",
       "        [3, 4]],\n",
       "\n",
       "       [[5, 6],\n",
       "        [7, 8]]])"
      ]
     },
     "execution_count": 6,
     "metadata": {},
     "output_type": "execute_result"
    }
   ],
   "source": [
    "# before replaceing \n",
    "data"
   ]
  },
  {
   "cell_type": "code",
   "execution_count": 7,
   "id": "94db5cbd",
   "metadata": {},
   "outputs": [
    {
     "data": {
      "text/plain": [
       "array([[[1, 2],\n",
       "        [5, 6]],\n",
       "\n",
       "       [[3, 4],\n",
       "        [7, 8]]])"
      ]
     },
     "execution_count": 7,
     "metadata": {},
     "output_type": "execute_result"
    }
   ],
   "source": [
    "# now replace 0 with 1\n",
    "np.moveaxis(data,source=0,destination=1) # now axis 0 replace with axis 1"
   ]
  },
  {
   "cell_type": "markdown",
   "id": "4910fce2",
   "metadata": {},
   "source": [
    "## read this topic first if you can't understand the axis\n",
    "## <a href=\"https://github.com/Mubeen-Ahmad/python_11/blob/main/Python/17_Numpy/Understand_Axis.ipynb\">click here</a>"
   ]
  },
  {
   "cell_type": "markdown",
   "id": "1903ce74",
   "metadata": {},
   "source": [
    "# *np.rollaxis()*\n",
    "<br>\n",
    "\n",
    "- ### The NumPy rollaxis(a, source, destination) function is used to change the dimensions of an array. The syntax of this function is numpy.rollaxis(a, source, axis=0), where a is the input array, source defines the position of the axis to be rolled, and axis defines the positions to which the axis is to be rolled.\n",
    "<br>\n",
    "\n",
    "- ### As the name suggests, the rollaxis() function is used to roll the dimensions of an array. This function takes some dimensions from the input array a and puts them in a different position. We can specify which axis to move to which position using this function.\n",
    "<br>\n",
    "\n",
    "- ### We use the source argument to specify which axis to take, and the axis argument to specify the positions to which the axis is to be moved. These positions are 0-based index positions.\n",
    "<br>\n",
    "\n",
    "- ### The rollaxis() function is very helpful when we need to modify the dimensions of an array for a specific operation. Additionally, this function is useful for understanding and manipulating the dimensions of an array.\n",
    "<br>\n",
    "\n",
    "# Parameters\n",
    "<br>\n",
    "\n",
    "- ## a Required\n",
    "- ## axis Required\n",
    "- ## start Optional"
   ]
  },
  {
   "cell_type": "code",
   "execution_count": 8,
   "id": "6969d916",
   "metadata": {},
   "outputs": [
    {
     "data": {
      "text/plain": [
       "array([[1, 2],\n",
       "       [3, 4]])"
      ]
     },
     "execution_count": 8,
     "metadata": {},
     "output_type": "execute_result"
    }
   ],
   "source": [
    "arr = np.array([\n",
    "    [1,2],\n",
    "    [3,4]\n",
    "])\n",
    "arr\n"
   ]
  },
  {
   "cell_type": "code",
   "execution_count": 9,
   "id": "52b54f09",
   "metadata": {},
   "outputs": [
    {
     "data": {
      "text/plain": [
       "array([[1, 2],\n",
       "       [3, 4]])"
      ]
     },
     "execution_count": 9,
     "metadata": {},
     "output_type": "execute_result"
    }
   ],
   "source": [
    "# axis 0 \n",
    "# [1, 2],\n",
    "# [3, 4]\n",
    "\n",
    "# axis 1\n",
    "# [1, 3], \n",
    "# [2, 4]\n",
    "\n",
    "# DEFALUT AXIS IS 0\n",
    "arr"
   ]
  },
  {
   "cell_type": "code",
   "execution_count": 10,
   "id": "211dc78a",
   "metadata": {},
   "outputs": [
    {
     "data": {
      "text/plain": [
       "array([[1, 3],\n",
       "       [2, 4]])"
      ]
     },
     "execution_count": 10,
     "metadata": {},
     "output_type": "execute_result"
    }
   ],
   "source": [
    "# change axis 0 to 1\n",
    "np.rollaxis(arr,axis=1)"
   ]
  },
  {
   "cell_type": "code",
   "execution_count": 11,
   "id": "43b91293",
   "metadata": {},
   "outputs": [
    {
     "data": {
      "text/plain": [
       "array([[1, 2],\n",
       "       [3, 4]])"
      ]
     },
     "execution_count": 11,
     "metadata": {},
     "output_type": "execute_result"
    }
   ],
   "source": [
    "np.rollaxis(arr,axis=1,start=1) # start optional parameter for start moving 1 means skip 1"
   ]
  },
  {
   "cell_type": "markdown",
   "id": "bacfe11a",
   "metadata": {},
   "source": [
    "- ### NumPy mein swapaxes() function ka use, kisi array ke dimensions ko interchange karne ke liye kia jata hai. Is function ka syntax numpy.swapaxes(a, axis1, axis2) hai, jahan a input array hai aur axis1 aur axis2, swap kiye jane wale axis ki positions ko define karte hain.\n",
    "<br>\n",
    "\n",
    "- ### Swapaxes() function, input array a ke kisi bhi do dimensions ko interchange karne ke liye use kiya jata hai. Is function mein hum specify kar sakte hain ke konse axis ko kis position mein swap karna hai.\n",
    "<br>\n",
    "\n",
    "- ### Is function mein axis1 argument humein specify karna hota hai ke kaunse axis ko swap karna hai, aur axis2 argument mein humein specify karna hota hai ke usko kis axis ke sath swap karna hai. Ye positions, 0-based index positions hoti hain.\n",
    "<br>\n",
    "\n",
    "- ### Swapaxes() function ka use bahut hi helpful hai jab humein kisi specific operation ke liye array ke dimensions ko interchange karna ho.\n",
    "<br>\n",
    "\n",
    "- ### The main difference between moveaxis() and swapaxes() functions is that moveaxis() allows us to move the specified dimensions to any position while maintaining their order, whereas swapaxes() only swaps the specified dimensions without changing their order.\n",
    "<br>\n",
    "\n",
    "- ### For example, if we have a 3D array with dimensions (0, 1, 2), moveaxis() allows us to move any dimension to any position such as (1, 0, 2) or (2, 1, 0), while swapaxes() only allows us to swap two dimensions such as (1, 0, 2) or (0, 2, 1)."
   ]
  },
  {
   "cell_type": "code",
   "execution_count": 12,
   "id": "13b5ac73",
   "metadata": {},
   "outputs": [
    {
     "data": {
      "text/plain": [
       "array([[1, 2],\n",
       "       [3, 4]])"
      ]
     },
     "execution_count": 12,
     "metadata": {},
     "output_type": "execute_result"
    }
   ],
   "source": [
    "arr"
   ]
  },
  {
   "cell_type": "code",
   "execution_count": 13,
   "id": "afd605c1",
   "metadata": {},
   "outputs": [
    {
     "data": {
      "text/plain": [
       "array([[1, 3],\n",
       "       [2, 4]])"
      ]
     },
     "execution_count": 13,
     "metadata": {},
     "output_type": "execute_result"
    }
   ],
   "source": [
    "new = np.swapaxes(arr,axis1=0,axis2=1)\n",
    "new"
   ]
  },
  {
   "cell_type": "code",
   "execution_count": 14,
   "id": "dd4d4b6a",
   "metadata": {},
   "outputs": [
    {
     "data": {
      "text/plain": [
       "array([[1, 2],\n",
       "       [3, 4]])"
      ]
     },
     "execution_count": 14,
     "metadata": {},
     "output_type": "execute_result"
    }
   ],
   "source": [
    "np.swapaxes(new,axis1=1,axis2=0)"
   ]
  },
  {
   "cell_type": "code",
   "execution_count": 15,
   "id": "e92cdbe2",
   "metadata": {},
   "outputs": [
    {
     "data": {
      "text/plain": [
       "array([[1, 2, 3, 4, 5, 6]])"
      ]
     },
     "execution_count": 15,
     "metadata": {},
     "output_type": "execute_result"
    }
   ],
   "source": [
    "arr = np.array([[1,2,3,4,5,6]])\n",
    "arr"
   ]
  },
  {
   "cell_type": "code",
   "execution_count": 16,
   "id": "b7b0a834",
   "metadata": {},
   "outputs": [
    {
     "data": {
      "text/plain": [
       "array([[1],\n",
       "       [2],\n",
       "       [3],\n",
       "       [4],\n",
       "       [5],\n",
       "       [6]])"
      ]
     },
     "execution_count": 16,
     "metadata": {},
     "output_type": "execute_result"
    }
   ],
   "source": [
    "np.swapaxes(arr,axis1=1,axis2=0)"
   ]
  },
  {
   "cell_type": "markdown",
   "id": "65d74c60",
   "metadata": {},
   "source": [
    "# *ndrray.T  Method*\n",
    "<br>\n",
    "\n",
    "- ### In NumPy, the ndarray.T method is used to transpose a matrix. The syntax of this function is array.T, where the array is the input array.\n",
    "<br>\n",
    "\n",
    "- ### Matrix transpose means to interchange the rows and columns of a matrix. Transposing a matrix changes its shape, converting rows into columns and columns into rows.\n",
    "<br>\n",
    "\n",
    "- ### By using the ndarray.T Method, we can transpose a matrix, where we only need to provide the name of the input array. This function interchanges the order of rows and columns of the input array.\n",
    "<br>\n",
    "\n",
    "- ### This Method is very helpful when we need to transpose a matrix for matrix algebraic operations. In addition, we can also use this method to analyze the correlation between the rows and columns of the input array."
   ]
  },
  {
   "cell_type": "code",
   "execution_count": 17,
   "id": "05419476",
   "metadata": {},
   "outputs": [
    {
     "data": {
      "text/plain": [
       "array([[1, 2, 3, 4, 5, 6]])"
      ]
     },
     "execution_count": 17,
     "metadata": {},
     "output_type": "execute_result"
    }
   ],
   "source": [
    "arr"
   ]
  },
  {
   "cell_type": "code",
   "execution_count": 18,
   "id": "e429eabb",
   "metadata": {},
   "outputs": [
    {
     "data": {
      "text/plain": [
       "array([[1],\n",
       "       [2],\n",
       "       [3],\n",
       "       [4],\n",
       "       [5],\n",
       "       [6]])"
      ]
     },
     "execution_count": 18,
     "metadata": {},
     "output_type": "execute_result"
    }
   ],
   "source": [
    "arr.T"
   ]
  },
  {
   "cell_type": "markdown",
   "id": "411591ca",
   "metadata": {},
   "source": [
    "# np.transpose()\n",
    "<br>\n",
    "\n",
    "- ### In NumPy, the transpose() function is used to perform matrix transpose. The syntax of this function is numpy.transpose(arr, axes=None), where arr is the input array and axes argument is used to specify the order for transpose.\n",
    "<br>\n",
    "\n",
    "- ### Matrix transpose means to interchange the rows and columns of a matrix. Transposing a matrix changes its shape, and rows and columns are converted into each other.\n",
    "<br>\n",
    "\n",
    "- ### By using the transpose() function in NumPy, we can transpose a matrix by providing the input array. This function interchanges the order of rows and columns of the input arra\n",
    "<br>\n",
    "\n",
    "## Note in this function axis must be like a typle"
   ]
  },
  {
   "cell_type": "code",
   "execution_count": 19,
   "id": "55d2b6a3",
   "metadata": {},
   "outputs": [
    {
     "data": {
      "text/plain": [
       "array([[1, 2, 3, 4, 5, 6]])"
      ]
     },
     "execution_count": 19,
     "metadata": {},
     "output_type": "execute_result"
    }
   ],
   "source": [
    "arr"
   ]
  },
  {
   "cell_type": "code",
   "execution_count": 20,
   "id": "3dea2f57",
   "metadata": {},
   "outputs": [
    {
     "data": {
      "text/plain": [
       "array([[1],\n",
       "       [2],\n",
       "       [3],\n",
       "       [4],\n",
       "       [5],\n",
       "       [6]])"
      ]
     },
     "execution_count": 20,
     "metadata": {},
     "output_type": "execute_result"
    }
   ],
   "source": [
    "np.transpose(arr)"
   ]
  },
  {
   "cell_type": "code",
   "execution_count": 21,
   "id": "1144d238",
   "metadata": {},
   "outputs": [
    {
     "data": {
      "text/plain": [
       "array([[[1, 2],\n",
       "        [3, 4]],\n",
       "\n",
       "       [[5, 6],\n",
       "        [7, 8]]])"
      ]
     },
     "execution_count": 21,
     "metadata": {},
     "output_type": "execute_result"
    }
   ],
   "source": [
    "arr = np.array([[[1, 2], [3, 4]], [[5, 6], [7, 8]]])\n",
    "arr"
   ]
  },
  {
   "cell_type": "code",
   "execution_count": 22,
   "id": "34d2242a",
   "metadata": {},
   "outputs": [
    {
     "data": {
      "text/plain": [
       "(2, 2, 2)"
      ]
     },
     "execution_count": 22,
     "metadata": {},
     "output_type": "execute_result"
    }
   ],
   "source": [
    "arr.shape"
   ]
  },
  {
   "cell_type": "code",
   "execution_count": 23,
   "id": "e1c6a2e3",
   "metadata": {},
   "outputs": [
    {
     "data": {
      "text/plain": [
       "array([[[1, 5],\n",
       "        [3, 7]],\n",
       "\n",
       "       [[2, 6],\n",
       "        [4, 8]]])"
      ]
     },
     "execution_count": 23,
     "metadata": {},
     "output_type": "execute_result"
    }
   ],
   "source": [
    "np.transpose(arr)"
   ]
  },
  {
   "cell_type": "code",
   "execution_count": 24,
   "id": "358ce806",
   "metadata": {},
   "outputs": [
    {
     "data": {
      "text/plain": [
       "array([[[1, 2],\n",
       "        [3, 4]],\n",
       "\n",
       "       [[5, 6],\n",
       "        [7, 8]]])"
      ]
     },
     "execution_count": 24,
     "metadata": {},
     "output_type": "execute_result"
    }
   ],
   "source": [
    "np.transpose(arr,axes=(0,1,2)) # orignal form  0 , 1 ,2"
   ]
  },
  {
   "cell_type": "code",
   "execution_count": 25,
   "id": "184d53d9",
   "metadata": {},
   "outputs": [
    {
     "data": {
      "text/plain": [
       "array([[[1, 2],\n",
       "        [5, 6]],\n",
       "\n",
       "       [[3, 4],\n",
       "        [7, 8]]])"
      ]
     },
     "execution_count": 25,
     "metadata": {},
     "output_type": "execute_result"
    }
   ],
   "source": [
    "np.transpose(arr,axes=(1,0,2)) # orignal form  1 , 0 ,2"
   ]
  },
  {
   "cell_type": "code",
   "execution_count": 26,
   "id": "c0e2568f",
   "metadata": {},
   "outputs": [
    {
     "data": {
      "text/plain": [
       "array([[[1, 3],\n",
       "        [5, 7]],\n",
       "\n",
       "       [[2, 4],\n",
       "        [6, 8]]])"
      ]
     },
     "execution_count": 26,
     "metadata": {},
     "output_type": "execute_result"
    }
   ],
   "source": [
    "np.transpose(arr,axes=(2,0,1)) # orignal form  2 , 0 ,1"
   ]
  },
  {
   "cell_type": "markdown",
   "id": "2587ece2",
   "metadata": {},
   "source": [
    "# *np.swapaxes()*\n",
    "<br>\n",
    "\n",
    "- ### The numpy.swapaxes() function is used to interchange two axes of a numpy array. This function returns a new view of the input array, with the specified axes swapped."
   ]
  },
  {
   "cell_type": "code",
   "execution_count": 57,
   "id": "2a52b7b8",
   "metadata": {},
   "outputs": [
    {
     "data": {
      "text/plain": [
       "array([[1, 2, 3],\n",
       "       [4, 5, 6]])"
      ]
     },
     "execution_count": 57,
     "metadata": {},
     "output_type": "execute_result"
    }
   ],
   "source": [
    "arr = np.array([[1, 2, 3], [4, 5, 6]])\n",
    "arr"
   ]
  },
  {
   "cell_type": "code",
   "execution_count": 58,
   "id": "a6595342",
   "metadata": {},
   "outputs": [
    {
     "name": "stdout",
     "output_type": "stream",
     "text": [
      "(2, 3)\n"
     ]
    }
   ],
   "source": [
    "print(arr.shape)  # (2, 3)"
   ]
  },
  {
   "cell_type": "code",
   "execution_count": 59,
   "id": "1eade77d",
   "metadata": {},
   "outputs": [
    {
     "name": "stdout",
     "output_type": "stream",
     "text": [
      "(3, 2)\n"
     ]
    }
   ],
   "source": [
    "arr_swapped = np.swapaxes(arr, 0, 1)\n",
    "print(arr_swapped.shape)  # (3, 2)"
   ]
  },
  {
   "cell_type": "code",
   "execution_count": 60,
   "id": "6cb11e28",
   "metadata": {},
   "outputs": [
    {
     "data": {
      "text/plain": [
       "array([[1, 4],\n",
       "       [2, 5],\n",
       "       [3, 6]])"
      ]
     },
     "execution_count": 60,
     "metadata": {},
     "output_type": "execute_result"
    }
   ],
   "source": [
    "arr_swapped"
   ]
  },
  {
   "cell_type": "markdown",
   "id": "7899a4fe",
   "metadata": {},
   "source": [
    "# *np.flip()*\n",
    "<br>\n",
    "    \n",
    "- ### In NumPy, the flip() function is used to reverse the elements of an array. The syntax of this function is numpy.flip(m, axis=None), where m is the input array and the optional axis argument specifies which dimension of the array to reverse.\n",
    "<br>\n",
    "\n",
    "- ### By using the flip() function, we can reverse the elements of an array. For example, we can reverse the position of elements in a 1D array, or reverse the rows and columns of a 2D array.\n",
    "<br>\n",
    "\n",
    "- ### If the axis is not specified, the default axis -1 (last axis) is considered.\n",
    "<br>\n",
    "\n",
    "- ### By using the flip() function, we can modify the array by reversing its elements."
   ]
  },
  {
   "cell_type": "code",
   "execution_count": 27,
   "id": "c7852d68",
   "metadata": {},
   "outputs": [
    {
     "data": {
      "text/plain": [
       "array([[1, 2, 3],\n",
       "       [4, 5, 6],\n",
       "       [7, 8, 9]])"
      ]
     },
     "execution_count": 27,
     "metadata": {},
     "output_type": "execute_result"
    }
   ],
   "source": [
    "arr = np.array([[1,2,3],[4,5,6],[7,8,9]])\n",
    "arr"
   ]
  },
  {
   "cell_type": "code",
   "execution_count": 28,
   "id": "4670734a",
   "metadata": {},
   "outputs": [
    {
     "data": {
      "text/plain": [
       "array([[9, 8, 7],\n",
       "       [6, 5, 4],\n",
       "       [3, 2, 1]])"
      ]
     },
     "execution_count": 28,
     "metadata": {},
     "output_type": "execute_result"
    }
   ],
   "source": [
    "np.flip(arr)"
   ]
  },
  {
   "cell_type": "code",
   "execution_count": 29,
   "id": "12091d66",
   "metadata": {},
   "outputs": [
    {
     "data": {
      "text/plain": [
       "array([[7, 8, 9],\n",
       "       [4, 5, 6],\n",
       "       [1, 2, 3]])"
      ]
     },
     "execution_count": 29,
     "metadata": {},
     "output_type": "execute_result"
    }
   ],
   "source": [
    "np.flip(arr,axis=0) # axis 0"
   ]
  },
  {
   "cell_type": "code",
   "execution_count": 30,
   "id": "2d88069a",
   "metadata": {},
   "outputs": [
    {
     "data": {
      "text/plain": [
       "array([[3, 2, 1],\n",
       "       [6, 5, 4],\n",
       "       [9, 8, 7]])"
      ]
     },
     "execution_count": 30,
     "metadata": {},
     "output_type": "execute_result"
    }
   ],
   "source": [
    "np.flip(arr,axis=1) # axis 1"
   ]
  },
  {
   "cell_type": "code",
   "execution_count": 31,
   "id": "0e23f021",
   "metadata": {},
   "outputs": [
    {
     "data": {
      "text/plain": [
       "array([[7, 8, 9],\n",
       "       [4, 5, 6],\n",
       "       [1, 2, 3]])"
      ]
     },
     "execution_count": 31,
     "metadata": {},
     "output_type": "execute_result"
    }
   ],
   "source": [
    "np.flip(arr,axis=-2) # axis -2"
   ]
  },
  {
   "cell_type": "markdown",
   "id": "bccf56f2",
   "metadata": {},
   "source": [
    "# *np.flipr()*\n",
    "<br>\n",
    "\n",
    "- ### In NumPy, the fliplr() function is used to reverse the columns of a 2D array. The syntax of this function is numpy.fliplr(m), where m is the input 2D array.\n",
    "<br>\n",
    "\n",
    "- ### By using the fliplr() function, we can reverse the columns of a 2D array. This means that we can turn the leftmost column of the array into the rightmost column, and the rightmost column into the leftmost column while keeping the order of the rows the same.\n",
    "<br>\n",
    "\n",
    "- ### By using this function, we can modify a 2D array, which can be helpful when we need to reverse the columns of an array."
   ]
  },
  {
   "cell_type": "code",
   "execution_count": 32,
   "id": "a3d1bf89",
   "metadata": {},
   "outputs": [
    {
     "data": {
      "text/plain": [
       "array([[1, 2, 3],\n",
       "       [4, 5, 6],\n",
       "       [7, 8, 9]])"
      ]
     },
     "execution_count": 32,
     "metadata": {},
     "output_type": "execute_result"
    }
   ],
   "source": [
    "arr = np.array([[1, 2, 3], [4, 5, 6], [7, 8, 9]])\n",
    "arr"
   ]
  },
  {
   "cell_type": "code",
   "execution_count": 33,
   "id": "e72ca8db",
   "metadata": {},
   "outputs": [
    {
     "data": {
      "text/plain": [
       "array([[3, 2, 1],\n",
       "       [6, 5, 4],\n",
       "       [9, 8, 7]])"
      ]
     },
     "execution_count": 33,
     "metadata": {},
     "output_type": "execute_result"
    }
   ],
   "source": [
    "np.fliplr(arr)"
   ]
  },
  {
   "cell_type": "markdown",
   "id": "2d059bd3",
   "metadata": {},
   "source": [
    "# *np.flipud()*\n",
    "<br>\n",
    "\n",
    "- ### In NumPy, the flipud() function is used to reverse the rows of a 2D array. The syntax of this function is numpy.flipud(m), where m is the input 2D array.\n",
    "<br>\n",
    "\n",
    "- ### By using the flipud() function, we can reverse the rows of a 2D array. This means that we can make the topmost row of the array the bottommost row, and the bottommost row the topmost row. The order of the columns remains the same.\n",
    "<br>\n",
    "\n",
    "- ### Using this function, we can modify a 2D array and reverse its rows. This can be very helpful when we need to reverse the rows of an array for any purpose."
   ]
  },
  {
   "cell_type": "code",
   "execution_count": 34,
   "id": "2b93c5c9",
   "metadata": {},
   "outputs": [
    {
     "data": {
      "text/plain": [
       "array([[1, 2, 3],\n",
       "       [4, 5, 6],\n",
       "       [7, 8, 9]])"
      ]
     },
     "execution_count": 34,
     "metadata": {},
     "output_type": "execute_result"
    }
   ],
   "source": [
    "arr"
   ]
  },
  {
   "cell_type": "code",
   "execution_count": 35,
   "id": "0dd8643d",
   "metadata": {},
   "outputs": [
    {
     "data": {
      "text/plain": [
       "array([[7, 8, 9],\n",
       "       [4, 5, 6],\n",
       "       [1, 2, 3]])"
      ]
     },
     "execution_count": 35,
     "metadata": {},
     "output_type": "execute_result"
    }
   ],
   "source": [
    "np.flipud(arr)"
   ]
  },
  {
   "cell_type": "markdown",
   "id": "77205e4e",
   "metadata": {},
   "source": [
    "# *np.roll()*\n",
    "<br>\n",
    "\n",
    "- ### In NumPy, the roll() function is used to shift the elements of an array. The syntax of this function is numpy.roll(a, shift, axis=None), where \"a\" is the input array, \"shift\" specifies the number of positions to shift the elements, and \"axis\" is an optional argument that specifies the dimension along which the shift should happen.\n",
    "<br>\n",
    "\n",
    "- ### Using the roll() function, we can shift the elements of an array, such as shifting the positions of elements in a 1D array or shifting the rows and columns of a 2D array.\n",
    "<br>\n",
    "\n",
    "- ### If the \"axis\" argument is not specified, then the default value is -1, which means that the shift will happen along the last axis.\n",
    "<br>\n",
    "\n",
    "- ### By using the roll() function, we can modify the array by shifting its elements. This function can be quite useful when we need to shift the elements of an array.\n",
    "<br>\n",
    "\n",
    "# Parameters\n",
    "<br>\n",
    "\n",
    "- ## a Required\n",
    "- ## shift Required\n",
    "- ## axis Optional"
   ]
  },
  {
   "cell_type": "code",
   "execution_count": 36,
   "id": "d7840256",
   "metadata": {},
   "outputs": [
    {
     "data": {
      "text/plain": [
       "array([1, 2, 3])"
      ]
     },
     "execution_count": 36,
     "metadata": {},
     "output_type": "execute_result"
    }
   ],
   "source": [
    "arr = np.array([1,2,3])\n",
    "arr"
   ]
  },
  {
   "cell_type": "code",
   "execution_count": 37,
   "id": "ef99bf9f",
   "metadata": {},
   "outputs": [
    {
     "data": {
      "text/plain": [
       "array([3, 1, 2])"
      ]
     },
     "execution_count": 37,
     "metadata": {},
     "output_type": "execute_result"
    }
   ],
   "source": [
    "np.roll(a=arr,shift=1)"
   ]
  },
  {
   "cell_type": "code",
   "execution_count": 38,
   "id": "e2000747",
   "metadata": {},
   "outputs": [
    {
     "data": {
      "text/plain": [
       "array([2, 3, 1])"
      ]
     },
     "execution_count": 38,
     "metadata": {},
     "output_type": "execute_result"
    }
   ],
   "source": [
    "np.roll(a=arr,shift=2)"
   ]
  },
  {
   "cell_type": "code",
   "execution_count": 39,
   "id": "05f1c780",
   "metadata": {},
   "outputs": [
    {
     "data": {
      "text/plain": [
       "array([1, 2, 3])"
      ]
     },
     "execution_count": 39,
     "metadata": {},
     "output_type": "execute_result"
    }
   ],
   "source": [
    "np.roll(a=arr,shift=3)"
   ]
  },
  {
   "cell_type": "code",
   "execution_count": 40,
   "id": "f3ea6af2",
   "metadata": {},
   "outputs": [
    {
     "data": {
      "text/plain": [
       "array([[1, 2, 3],\n",
       "       [4, 5, 6],\n",
       "       [7, 8, 9]])"
      ]
     },
     "execution_count": 40,
     "metadata": {},
     "output_type": "execute_result"
    }
   ],
   "source": [
    "arr = np.array([[1, 2, 3], [4, 5, 6], [7, 8, 9]])\n",
    "arr"
   ]
  },
  {
   "cell_type": "code",
   "execution_count": 41,
   "id": "43331884",
   "metadata": {},
   "outputs": [
    {
     "data": {
      "text/plain": [
       "array([[9, 1, 2],\n",
       "       [3, 4, 5],\n",
       "       [6, 7, 8]])"
      ]
     },
     "execution_count": 41,
     "metadata": {},
     "output_type": "execute_result"
    }
   ],
   "source": [
    "np.roll(a=arr,shift=1)"
   ]
  },
  {
   "cell_type": "code",
   "execution_count": 42,
   "id": "1ba46254",
   "metadata": {},
   "outputs": [
    {
     "data": {
      "text/plain": [
       "array([[8, 9, 1],\n",
       "       [2, 3, 4],\n",
       "       [5, 6, 7]])"
      ]
     },
     "execution_count": 42,
     "metadata": {},
     "output_type": "execute_result"
    }
   ],
   "source": [
    "np.roll(a=arr,shift=2)"
   ]
  },
  {
   "cell_type": "code",
   "execution_count": 43,
   "id": "c2ed7b74",
   "metadata": {},
   "outputs": [
    {
     "data": {
      "text/plain": [
       "array([[7, 8, 9],\n",
       "       [1, 2, 3],\n",
       "       [4, 5, 6]])"
      ]
     },
     "execution_count": 43,
     "metadata": {},
     "output_type": "execute_result"
    }
   ],
   "source": [
    "np.roll(a=arr,shift=3)"
   ]
  },
  {
   "cell_type": "code",
   "execution_count": 44,
   "id": "2bfd0a96",
   "metadata": {},
   "outputs": [
    {
     "data": {
      "text/plain": [
       "array([[2, 3, 1],\n",
       "       [5, 6, 4],\n",
       "       [8, 9, 7]])"
      ]
     },
     "execution_count": 44,
     "metadata": {},
     "output_type": "execute_result"
    }
   ],
   "source": [
    "# also change axis\n",
    "np.roll(a=arr,shift=2,axis=1)"
   ]
  },
  {
   "cell_type": "code",
   "execution_count": 45,
   "id": "c960f2d1",
   "metadata": {},
   "outputs": [
    {
     "data": {
      "text/plain": [
       "array([[4, 5, 6],\n",
       "       [7, 8, 9],\n",
       "       [1, 2, 3]])"
      ]
     },
     "execution_count": 45,
     "metadata": {},
     "output_type": "execute_result"
    }
   ],
   "source": [
    "np.roll(a=arr,shift=2,axis=0)"
   ]
  },
  {
   "cell_type": "markdown",
   "id": "93fed2b4",
   "metadata": {},
   "source": [
    "# *np.rot90()*\n",
    "<br>\n",
    "\n",
    "- ### In NumPy, the rot90() function is used to rotate the elements of a 2D array by 90 degrees. The syntax of this function is numpy.rot90(m, k=1, axes=(0,1)), where m is the input 2D array, k specifies the degree of rotation (default value is 1, which means 90 degrees), and axes is a tuple that represents the rows and columns.\n",
    "<br>\n",
    "\n",
    "- ### By using the rot90() function, we can rotate the elements of a 2D array in a clockwise or anticlockwise direction by 90 degrees.\n",
    "<br>\n",
    "\n",
    "- ### Using this function, we can modify the 2D array, which is quite helpful when we need to rotate the elements of an array\n",
    "<br>\n",
    "\n",
    "# Parameters\n",
    "<br>\n",
    "\n",
    "- ## m Required\n",
    "- ## k Optional\n",
    "- ## axis Optional\n"
   ]
  },
  {
   "cell_type": "code",
   "execution_count": 46,
   "id": "2f7ba2ce",
   "metadata": {},
   "outputs": [
    {
     "data": {
      "text/plain": [
       "array([[1, 2, 3],\n",
       "       [4, 5, 6],\n",
       "       [7, 8, 9]])"
      ]
     },
     "execution_count": 46,
     "metadata": {},
     "output_type": "execute_result"
    }
   ],
   "source": [
    "arr = np.array([[1, 2, 3], [4, 5, 6], [7, 8, 9]])\n",
    "arr"
   ]
  },
  {
   "cell_type": "code",
   "execution_count": 47,
   "id": "b41c2e9a",
   "metadata": {},
   "outputs": [
    {
     "data": {
      "text/plain": [
       "array([[3, 6, 9],\n",
       "       [2, 5, 8],\n",
       "       [1, 4, 7]])"
      ]
     },
     "execution_count": 47,
     "metadata": {},
     "output_type": "execute_result"
    }
   ],
   "source": [
    "np.rot90(m=arr)"
   ]
  },
  {
   "cell_type": "code",
   "execution_count": 48,
   "id": "ba5772ba",
   "metadata": {},
   "outputs": [
    {
     "data": {
      "text/plain": [
       "array([[3, 6, 9],\n",
       "       [2, 5, 8],\n",
       "       [1, 4, 7]])"
      ]
     },
     "execution_count": 48,
     "metadata": {},
     "output_type": "execute_result"
    }
   ],
   "source": [
    "np.rot90(m=arr,k=1) # here k 1 means 90 degree"
   ]
  },
  {
   "cell_type": "code",
   "execution_count": 49,
   "id": "5cffa4ff",
   "metadata": {},
   "outputs": [
    {
     "data": {
      "text/plain": [
       "array([[3, 6, 9],\n",
       "       [2, 5, 8],\n",
       "       [1, 4, 7]])"
      ]
     },
     "execution_count": 49,
     "metadata": {},
     "output_type": "execute_result"
    }
   ],
   "source": [
    "np.rot90(m=arr,k=1) # here k 2 means 90+90 = 180 degree"
   ]
  },
  {
   "cell_type": "code",
   "execution_count": 50,
   "id": "03a30a6b",
   "metadata": {},
   "outputs": [
    {
     "data": {
      "text/plain": [
       "array([[9, 8, 7],\n",
       "       [6, 5, 4],\n",
       "       [3, 2, 1]])"
      ]
     },
     "execution_count": 50,
     "metadata": {},
     "output_type": "execute_result"
    }
   ],
   "source": [
    "np.rot90(m=arr,k=2) # here k 3 means 90+90+90 = 270 degree"
   ]
  },
  {
   "cell_type": "code",
   "execution_count": 51,
   "id": "d93e889d",
   "metadata": {},
   "outputs": [
    {
     "data": {
      "text/plain": [
       "(3, 3)"
      ]
     },
     "execution_count": 51,
     "metadata": {},
     "output_type": "execute_result"
    }
   ],
   "source": [
    "arr.shape"
   ]
  },
  {
   "cell_type": "code",
   "execution_count": 52,
   "id": "56490ddb",
   "metadata": {},
   "outputs": [
    {
     "data": {
      "text/plain": [
       "array([[9, 8, 7],\n",
       "       [6, 5, 4],\n",
       "       [3, 2, 1]])"
      ]
     },
     "execution_count": 52,
     "metadata": {},
     "output_type": "execute_result"
    }
   ],
   "source": [
    "np.rot90(m=arr,k=2,axes=(0,1)) # change axis # according to shape"
   ]
  }
 ],
 "metadata": {
  "kernelspec": {
   "display_name": "Python 3 (ipykernel)",
   "language": "python",
   "name": "python3"
  },
  "language_info": {
   "codemirror_mode": {
    "name": "ipython",
    "version": 3
   },
   "file_extension": ".py",
   "mimetype": "text/x-python",
   "name": "python",
   "nbconvert_exporter": "python",
   "pygments_lexer": "ipython3",
   "version": "3.10.6"
  }
 },
 "nbformat": 4,
 "nbformat_minor": 5
}

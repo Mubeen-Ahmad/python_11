{
 "cells": [
  {
   "cell_type": "markdown",
   "id": "ab66545e",
   "metadata": {},
   "source": [
    "# STRINGS\n"
   ]
  },
  {
   "cell_type": "markdown",
   "id": "2df4d5d5",
   "metadata": {},
   "source": [
    "<h3 style=\"color:#4e2abd;\"> Q1 Iterate String Using While Loop\n",
    "</h3>"
   ]
  },
  {
   "cell_type": "code",
   "execution_count": 121,
   "id": "074a085f",
   "metadata": {},
   "outputs": [],
   "source": [
    "st = \"Mubeen Ahmad\""
   ]
  },
  {
   "cell_type": "code",
   "execution_count": 114,
   "id": "676bd5e4",
   "metadata": {},
   "outputs": [
    {
     "name": "stdout",
     "output_type": "stream",
     "text": [
      "M\n",
      "u\n",
      "b\n",
      "e\n",
      "e\n",
      "n\n",
      " \n",
      "A\n",
      "h\n",
      "m\n",
      "a\n",
      "d\n"
     ]
    }
   ],
   "source": [
    "i = 0\n",
    "while st[i:] != \"\":\n",
    "    \n",
    "    print(st[i])\n",
    "    \n",
    "    i+=1"
   ]
  },
  {
   "cell_type": "markdown",
   "id": "05c86363",
   "metadata": {},
   "source": [
    "<h3 style=\"color:#4e2abd;\"> Q2 Iterate String Using for Loop\n",
    "</h3>"
   ]
  },
  {
   "cell_type": "code",
   "execution_count": 122,
   "id": "c6bbbf78",
   "metadata": {},
   "outputs": [
    {
     "name": "stdout",
     "output_type": "stream",
     "text": [
      "M\n",
      "u\n",
      "b\n",
      "e\n",
      "e\n",
      "n\n",
      " \n",
      "A\n",
      "h\n",
      "m\n",
      "a\n",
      "d\n"
     ]
    }
   ],
   "source": [
    "for i in st:\n",
    "    print(i)"
   ]
  },
  {
   "cell_type": "markdown",
   "id": "94809cc9",
   "metadata": {},
   "source": [
    "<h3 style=\"color:#4e2abd;\"> Q3 Count the Length of the String Using while loop without used len function ?\n",
    "</h3>"
   ]
  },
  {
   "cell_type": "code",
   "execution_count": 123,
   "id": "6d103fae",
   "metadata": {},
   "outputs": [],
   "source": [
    "my_str = \"Mubeen Ahmad\""
   ]
  },
  {
   "cell_type": "code",
   "execution_count": 124,
   "id": "782df89b",
   "metadata": {},
   "outputs": [
    {
     "name": "stdout",
     "output_type": "stream",
     "text": [
      "Length of String is 12\n"
     ]
    }
   ],
   "source": [
    "count = 0\n",
    "\n",
    "while my_str[count:] != \"\":\n",
    "    count += 1\n",
    "    \n",
    "print(\"Length of String is\",count)"
   ]
  },
  {
   "cell_type": "markdown",
   "id": "e0b4238c",
   "metadata": {},
   "source": [
    "<h3 style=\"color:#4e2abd;\"> Q4 Count the Length of the String Using for loop without used len function ?\n",
    "</h3>"
   ]
  },
  {
   "cell_type": "code",
   "execution_count": 131,
   "id": "eb445412",
   "metadata": {},
   "outputs": [
    {
     "name": "stdout",
     "output_type": "stream",
     "text": [
      "Length of String is 12\n"
     ]
    }
   ],
   "source": [
    "count = 0\n",
    "\n",
    "for i in my_str:\n",
    "    count += 1\n",
    "    \n",
    "print(\"Length of String is\",count)"
   ]
  },
  {
   "cell_type": "code",
   "execution_count": 135,
   "id": "41258469",
   "metadata": {},
   "outputs": [
    {
     "name": "stdout",
     "output_type": "stream",
     "text": [
      "Length of String is 12\n"
     ]
    }
   ],
   "source": [
    "# using enumerate function\n",
    "\n",
    "for count,i in enumerate(my_str):\n",
    "    pass\n",
    "    \n",
    "print(\"Length of String is\",count+1)"
   ]
  },
  {
   "cell_type": "markdown",
   "id": "e6ccb467",
   "metadata": {},
   "source": [
    "<h3 style=\"color:#4e2abd;\"> Q5 Remove Duplicates Characters in String Using While Loop Dont use len function? <br><br>\n",
    "    \"Hello Mubeen\" to \"Helo Mubn\"\n",
    "</h3>"
   ]
  },
  {
   "cell_type": "code",
   "execution_count": 136,
   "id": "437c3e6b",
   "metadata": {},
   "outputs": [],
   "source": [
    "my_str = \"Hello Mubeen\""
   ]
  },
  {
   "cell_type": "code",
   "execution_count": 120,
   "id": "23c579de",
   "metadata": {},
   "outputs": [
    {
     "name": "stdout",
     "output_type": "stream",
     "text": [
      "l Removed\n",
      "\n",
      "e Removed\n",
      "\n",
      "e Removed\n",
      "\n",
      "New String is --> Helo Mubn\n"
     ]
    }
   ],
   "source": [
    "i = 0\n",
    "\n",
    "clean = \"\"\n",
    "while my_str[i:] != \"\": \n",
    "    \n",
    "    \n",
    "    if my_str[i] not in clean:\n",
    "    \n",
    "        clean += my_str[i]\n",
    "    \n",
    "    else:\n",
    "        print(my_str[i],\"Removed\\n\")\n",
    "\n",
    "    \n",
    "    i += 1\n",
    "    \n",
    "print(\"New String is -->\",clean)"
   ]
  },
  {
   "cell_type": "code",
   "execution_count": 141,
   "id": "a5aad92f",
   "metadata": {},
   "outputs": [
    {
     "name": "stdout",
     "output_type": "stream",
     "text": [
      "l Removed\n",
      "\n",
      "e Removed\n",
      "\n",
      "e Removed\n",
      "\n",
      "New String is --> Helo Mubn\n"
     ]
    }
   ],
   "source": [
    "# using for loop\n",
    "\n",
    "clean = \"\"\n",
    "for i in my_str:\n",
    "    \n",
    "    if i not in clean:\n",
    "    \n",
    "        clean += i\n",
    "    \n",
    "    else:\n",
    "        print(i,\"Removed\\n\")\n",
    "\n",
    "print(\"New String is -->\",clean)"
   ]
  },
  {
   "cell_type": "markdown",
   "id": "46c3f9d0",
   "metadata": {},
   "source": [
    "<h3 style=\"color:#4e2abd;\"> Q6 Remove Duplicates Characters only in Single Word in String Using While Loop Dont use len function? <br><br>\n",
    "    \"Hello Mubeen\" to \"Helo Muben\"\n",
    "</h3>"
   ]
  },
  {
   "cell_type": "code",
   "execution_count": 108,
   "id": "576645e3",
   "metadata": {},
   "outputs": [],
   "source": [
    "my_str = \"Hello Mubeen\""
   ]
  },
  {
   "cell_type": "code",
   "execution_count": 109,
   "id": "44c04c5c",
   "metadata": {},
   "outputs": [
    {
     "name": "stdout",
     "output_type": "stream",
     "text": [
      "l Removed\n",
      "\n",
      "e Removed\n",
      "\n",
      "New String is --> Helo Muben\n"
     ]
    }
   ],
   "source": [
    "i = 0\n",
    "\n",
    "temp = \"\"\n",
    "clean = \"\"\n",
    "\n",
    "while my_str[i:] != \"\": \n",
    "    \n",
    "  \n",
    "    if my_str[i] not in temp:\n",
    "    \n",
    "        temp += my_str[i]\n",
    "        \n",
    "        if my_str[i] == \" \":\n",
    "            clean += temp\n",
    "            \n",
    "            temp = \"\"\n",
    "            \n",
    "    else:\n",
    "        print(my_str[i],\"Removed\\n\")\n",
    "    \n",
    "    \n",
    "    i += 1\n",
    "clean +=  temp\n",
    "print(\"New String is -->\",clean)"
   ]
  },
  {
   "cell_type": "code",
   "execution_count": 142,
   "id": "143ba7f8",
   "metadata": {},
   "outputs": [
    {
     "name": "stdout",
     "output_type": "stream",
     "text": [
      "l Removed\n",
      "\n",
      "e Removed\n",
      "\n",
      "New String is --> Helo Muben\n"
     ]
    }
   ],
   "source": [
    "# using for loop\n",
    "\n",
    "clean = \"\"\n",
    "temp = \"\"\n",
    "for i in my_str:\n",
    "    \n",
    "    if i not in temp:\n",
    "    \n",
    "        temp += i\n",
    "        \n",
    "        if i == \" \":\n",
    "            clean += temp\n",
    "            \n",
    "            temp = \"\"\n",
    "            \n",
    "    \n",
    "    else:\n",
    "        print(i,\"Removed\\n\")\n",
    "clean += temp\n",
    "print(\"New String is -->\",clean)\n"
   ]
  },
  {
   "cell_type": "markdown",
   "id": "d1233090",
   "metadata": {},
   "source": [
    "<h3 style=\"color:#4e2abd;\"> Q7 Count the number of Same Characters <br><br> 'Mubeen'<br><br> M = 1,u = 1, b = 1, e = 2, n = 1</h3>"
   ]
  },
  {
   "cell_type": "code",
   "execution_count": 203,
   "id": "8e23bb89",
   "metadata": {},
   "outputs": [
    {
     "name": "stdout",
     "output_type": "stream",
     "text": [
      "M = 1\n",
      "u = 1\n",
      "b = 1\n",
      "e = 2\n",
      "n = 1\n"
     ]
    }
   ],
   "source": [
    "name = \"Mubeen\"\n",
    "\n",
    "temp = \"\"\n",
    "\n",
    "count = 0\n",
    "while name[count:] != \"\":\n",
    "    \n",
    "       \n",
    "    if name[count] not in temp:        \n",
    "        temp += name[count]\n",
    "        \n",
    "        print(name[count],\"=\",name.count(name[count]))\n",
    "    \n",
    "    \n",
    "    count += 1\n",
    "    \n",
    "\n"
   ]
  },
  {
   "cell_type": "markdown",
   "id": "40c4179e",
   "metadata": {},
   "source": [
    "# LISTS"
   ]
  },
  {
   "cell_type": "markdown",
   "id": "6ae41dba",
   "metadata": {},
   "source": [
    "<h3 style=\"color:#4e2abd;\"> Q1. Write a Python program to sum all the items in a list.<br><br>[-3,23,-9,-13] = -47 </h3>"
   ]
  },
  {
   "cell_type": "code",
   "execution_count": 235,
   "id": "c45afa82",
   "metadata": {},
   "outputs": [
    {
     "name": "stdout",
     "output_type": "stream",
     "text": [
      "-47\n"
     ]
    }
   ],
   "source": [
    "data = [-3,-23,-9,-12]\n",
    "\n",
    "count = 0\n",
    "i = 0\n",
    "while data[i:] != []:\n",
    "    count += data[i]\n",
    "    i+=1\n",
    "    \n",
    "print(count)"
   ]
  },
  {
   "cell_type": "markdown",
   "id": "eaecd5aa",
   "metadata": {},
   "source": [
    "<h3 style=\"color:#4e2abd;\"> Q2. Write a Python program to get the largest number from a list. Using any loop </h3>"
   ]
  },
  {
   "cell_type": "code",
   "execution_count": 254,
   "id": "619d071a",
   "metadata": {},
   "outputs": [
    {
     "name": "stdout",
     "output_type": "stream",
     "text": [
      "18\n"
     ]
    }
   ],
   "source": [
    "data = [3,18,9,12,]\n",
    "\n",
    "large = 0\n",
    "i = 0\n",
    "while data[i:] != []:\n",
    "    \n",
    "    if large < data[i]:\n",
    "        large = data[i]\n",
    "    \n",
    "    \n",
    "    i+=1\n",
    "    \n",
    "print(large)"
   ]
  },
  {
   "cell_type": "markdown",
   "id": "c1626c88",
   "metadata": {},
   "source": [
    "<h3 style=\"color:#4e2abd;\"> Q3. Remove Duplicates in List with loop </h3>"
   ]
  },
  {
   "cell_type": "code",
   "execution_count": 259,
   "id": "bfff2503",
   "metadata": {},
   "outputs": [
    {
     "name": "stdout",
     "output_type": "stream",
     "text": [
      "[2, 3, 4, 5, 1]\n"
     ]
    }
   ],
   "source": [
    "l = [2,3,4,5,3,1,2]\n",
    "\n",
    "i = 0\n",
    "\n",
    "temp = []\n",
    "\n",
    "while l[i:] != []:\n",
    "    \n",
    "    if l[i] not in temp:\n",
    "        temp.append(l[i])\n",
    "    \n",
    "    i += 1\n",
    "    \n",
    "print(temp)"
   ]
  },
  {
   "cell_type": "markdown",
   "id": "17aa918c",
   "metadata": {},
   "source": [
    "<h3 style=\"color:#4e2abd;\"> Q4. Check How many lists inside single list </h3>"
   ]
  },
  {
   "cell_type": "code",
   "execution_count": 4,
   "id": "d0dd96e9",
   "metadata": {},
   "outputs": [
    {
     "name": "stdout",
     "output_type": "stream",
     "text": [
      "3\n"
     ]
    }
   ],
   "source": [
    "lst = [\"MUbeen\",[\"red\",\"green\"],[\"orange\"],[\"pink\",[\"lst1\",\"lst2\"]] ] \n",
    "\n",
    "\n",
    "i = 0\n",
    "count = 0\n",
    "\n",
    "while lst[i:] != []:\n",
    "        \n",
    "    if type(lst[i]) == list:        \n",
    "        count += 1\n",
    "        \n",
    "    i+=1\n",
    "    \n",
    "print(count)"
   ]
  },
  {
   "cell_type": "markdown",
   "id": "da9dd18d",
   "metadata": {},
   "source": [
    "<h3 style=\"color:#4e2abd;\"> Q5. Check How many Nested lists inside single list </h3>"
   ]
  },
  {
   "cell_type": "code",
   "execution_count": 12,
   "id": "d82174aa",
   "metadata": {},
   "outputs": [
    {
     "name": "stdout",
     "output_type": "stream",
     "text": [
      "4\n"
     ]
    }
   ],
   "source": [
    "lst = [\"MUbeen\",[\"red\",\"green\"],[\"orange\"],[\"pink\",[\"lst1\",\"lst2\"]] ] \n",
    "\n",
    "lst = str(lst)\n",
    "\n",
    "total = -1\n",
    "\n",
    "for i in lst:\n",
    "    if i == \"[\":\n",
    "        total += 1\n",
    "print(total)"
   ]
  },
  {
   "cell_type": "markdown",
   "id": "d52ddf80",
   "metadata": {},
   "source": [
    "# Tuple"
   ]
  },
  {
   "cell_type": "markdown",
   "id": "2156297e",
   "metadata": {},
   "source": [
    "<h3 style=\"color:#4e2abd;\"> Q1. Iteration for loop in Tuple </h3>"
   ]
  },
  {
   "cell_type": "code",
   "execution_count": 23,
   "id": "554f9512",
   "metadata": {},
   "outputs": [
    {
     "name": "stdout",
     "output_type": "stream",
     "text": [
      "1\n",
      "2\n",
      "3\n",
      "9\n",
      "8\n"
     ]
    }
   ],
   "source": [
    "t = (1,2,3,9,8)\n",
    "\n",
    "for i in t:\n",
    "    print(i)\n",
    "    \n"
   ]
  },
  {
   "cell_type": "markdown",
   "id": "1997b759",
   "metadata": {},
   "source": [
    "<h3 style=\"color:#4e2abd;\"> Q2. Iteration while loop in Tuple </h3>"
   ]
  },
  {
   "cell_type": "code",
   "execution_count": 25,
   "id": "a2692a82",
   "metadata": {},
   "outputs": [
    {
     "name": "stdout",
     "output_type": "stream",
     "text": [
      "1\n",
      "2\n",
      "3\n",
      "9\n",
      "8\n"
     ]
    }
   ],
   "source": [
    "t = (1,2,3,9,8)\n",
    "\n",
    "i = 0\n",
    "\n",
    "while t[i:] != ():\n",
    "    print(t[i])\n",
    "    i+=1"
   ]
  },
  {
   "cell_type": "markdown",
   "id": "596009ce",
   "metadata": {},
   "source": [
    "<h3 style=\"color:#4e2abd;\"> Q3. Iteration while loop with len function in Tuple </h3>"
   ]
  },
  {
   "cell_type": "code",
   "execution_count": 26,
   "id": "ac401df4",
   "metadata": {},
   "outputs": [
    {
     "name": "stdout",
     "output_type": "stream",
     "text": [
      "1\n",
      "2\n",
      "3\n",
      "9\n",
      "8\n"
     ]
    }
   ],
   "source": [
    "t = (1,2,3,9,8)\n",
    "\n",
    "i = 0\n",
    "\n",
    "while i < len(t):\n",
    "    print(t[i])\n",
    "    i+=1"
   ]
  },
  {
   "cell_type": "markdown",
   "id": "fdc28cea",
   "metadata": {},
   "source": [
    "# SETS"
   ]
  },
  {
   "cell_type": "markdown",
   "id": "f755df42",
   "metadata": {},
   "source": [
    "<h3 style=\"color:#4e2abd;\"> Q1. Iteration for loop in sets </h3>"
   ]
  },
  {
   "cell_type": "code",
   "execution_count": 28,
   "id": "4efe85a0",
   "metadata": {},
   "outputs": [
    {
     "name": "stdout",
     "output_type": "stream",
     "text": [
      "1\n",
      "2\n",
      "3\n",
      "4\n",
      "5\n",
      "6\n",
      "7\n",
      "8\n"
     ]
    }
   ],
   "source": [
    "s = {1,8,2,3,4,7,5,6}\n",
    "\n",
    "for i in s:\n",
    "    print(i)"
   ]
  },
  {
   "cell_type": "markdown",
   "id": "6eb8d7f4",
   "metadata": {},
   "source": [
    "<h3 style=\"color:#4e2abd;\"> Q2. Iteration while loop in sets </h3>"
   ]
  },
  {
   "cell_type": "code",
   "execution_count": 32,
   "id": "fa1f11b6",
   "metadata": {},
   "outputs": [
    {
     "ename": "TypeError",
     "evalue": "'set' object is not subscriptable",
     "output_type": "error",
     "traceback": [
      "\u001b[0;31m---------------------------------------------------------------------------\u001b[0m",
      "\u001b[0;31mTypeError\u001b[0m                                 Traceback (most recent call last)",
      "Cell \u001b[0;32mIn [32], line 5\u001b[0m\n\u001b[1;32m      1\u001b[0m s \u001b[38;5;241m=\u001b[39m {\u001b[38;5;241m1\u001b[39m,\u001b[38;5;241m8\u001b[39m,\u001b[38;5;241m2\u001b[39m,\u001b[38;5;241m3\u001b[39m,\u001b[38;5;241m4\u001b[39m,\u001b[38;5;241m7\u001b[39m,\u001b[38;5;241m5\u001b[39m,\u001b[38;5;241m6\u001b[39m}\n\u001b[1;32m      3\u001b[0m i \u001b[38;5;241m=\u001b[39m \u001b[38;5;241m0\u001b[39m\n\u001b[0;32m----> 5\u001b[0m \u001b[38;5;28;01mwhile\u001b[39;00m \u001b[43ms\u001b[49m\u001b[43m[\u001b[49m\u001b[43mi\u001b[49m\u001b[43m:\u001b[49m\u001b[43m]\u001b[49m \u001b[38;5;241m!=\u001b[39m {}:\n\u001b[1;32m      7\u001b[0m     \u001b[38;5;28mprint\u001b[39m(s[i])\n\u001b[1;32m      8\u001b[0m     i\u001b[38;5;241m+\u001b[39m\u001b[38;5;241m=\u001b[39m\u001b[38;5;241m1\u001b[39m\n",
      "\u001b[0;31mTypeError\u001b[0m: 'set' object is not subscriptable"
     ]
    }
   ],
   "source": [
    "s = {1,8,2,3,4,7,5,6}\n",
    "\n",
    "i = 0\n",
    "    \n",
    "while s[i:] != {}:\n",
    "    \n",
    "    print(s[i])\n",
    "    i+=1"
   ]
  },
  {
   "cell_type": "markdown",
   "id": "13069958",
   "metadata": {},
   "source": [
    "## Indexing not supporting in set so use try len function ?"
   ]
  },
  {
   "cell_type": "code",
   "execution_count": 40,
   "id": "3c4b36d5",
   "metadata": {},
   "outputs": [
    {
     "ename": "TypeError",
     "evalue": "'set' object is not subscriptable",
     "output_type": "error",
     "traceback": [
      "\u001b[0;31m---------------------------------------------------------------------------\u001b[0m",
      "\u001b[0;31mTypeError\u001b[0m                                 Traceback (most recent call last)",
      "Cell \u001b[0;32mIn [40], line 7\u001b[0m\n\u001b[1;32m      3\u001b[0m i \u001b[38;5;241m=\u001b[39m \u001b[38;5;241m0\u001b[39m\n\u001b[1;32m      5\u001b[0m \u001b[38;5;28;01mwhile\u001b[39;00m i \u001b[38;5;241m<\u001b[39m \u001b[38;5;28mlen\u001b[39m(s):\n\u001b[0;32m----> 7\u001b[0m     \u001b[38;5;28mprint\u001b[39m(\u001b[43ms\u001b[49m\u001b[43m[\u001b[49m\u001b[43mi\u001b[49m\u001b[43m]\u001b[49m)\n\u001b[1;32m      8\u001b[0m     i\u001b[38;5;241m+\u001b[39m\u001b[38;5;241m=\u001b[39m\u001b[38;5;241m1\u001b[39m\n",
      "\u001b[0;31mTypeError\u001b[0m: 'set' object is not subscriptable"
     ]
    }
   ],
   "source": [
    "s = {1,8,2,3,4,7,5,6}\n",
    "\n",
    "i = 0\n",
    "    \n",
    "while i < len(s):\n",
    "    \n",
    "    print(s[i])\n",
    "    i+=1"
   ]
  },
  {
   "cell_type": "markdown",
   "id": "50862de7",
   "metadata": {},
   "source": [
    "## Try with iteration"
   ]
  },
  {
   "cell_type": "code",
   "execution_count": 54,
   "id": "c45fc78f",
   "metadata": {},
   "outputs": [
    {
     "name": "stdout",
     "output_type": "stream",
     "text": [
      "{1, 2, 3, 4, 5, 6, 7, 8}\n",
      "\n",
      "1\n",
      "2\n",
      "3\n",
      "4\n",
      "5\n",
      "6\n",
      "7\n",
      "8\n"
     ]
    }
   ],
   "source": [
    "s = {1,8,2,3,4,7,5,6}\n",
    "print(s)\n",
    "print()\n",
    "\n",
    "i = 0 \n",
    "temp = iter(s)\n",
    "while i < len(s):\n",
    "    \n",
    "    print(next(temp))\n",
    "    \n",
    "    i+=1"
   ]
  },
  {
   "cell_type": "markdown",
   "id": "fb773665",
   "metadata": {},
   "source": [
    "# Dictionary"
   ]
  },
  {
   "cell_type": "markdown",
   "id": "1d089b66",
   "metadata": {},
   "source": [
    "<h3 style=\"color:#4e2abd;\"> Q1. Iteration for loop in dictionary </h3>"
   ]
  },
  {
   "cell_type": "code",
   "execution_count": 55,
   "id": "3a688cad",
   "metadata": {},
   "outputs": [
    {
     "name": "stdout",
     "output_type": "stream",
     "text": [
      "Name\n",
      "Class\n"
     ]
    }
   ],
   "source": [
    "d = {\"Name\":\"Mubeen\",\"Class\":\"Cyber\"}\n",
    "\n",
    "\n",
    "for i in d:\n",
    "    print(i)"
   ]
  },
  {
   "cell_type": "markdown",
   "id": "01a10fad",
   "metadata": {},
   "source": [
    "<h3 style=\"color:#4e2abd;\"> Q2. Iteration for loop in dictionary keys and values both </h3>"
   ]
  },
  {
   "cell_type": "code",
   "execution_count": 57,
   "id": "d65091f9",
   "metadata": {},
   "outputs": [
    {
     "name": "stdout",
     "output_type": "stream",
     "text": [
      "Name Mubeen\n",
      "Class Cyber\n"
     ]
    }
   ],
   "source": [
    "for k,v in d.items():\n",
    "    print(k,v)"
   ]
  },
  {
   "cell_type": "markdown",
   "id": "b3495b84",
   "metadata": {},
   "source": [
    "<h3 style=\"color:#4e2abd;\"> Q3. Iteration While loop in dictionary keys and values both </h3>"
   ]
  },
  {
   "cell_type": "code",
   "execution_count": 89,
   "id": "842333bb",
   "metadata": {},
   "outputs": [
    {
     "name": "stdout",
     "output_type": "stream",
     "text": [
      "Name Mubeen\n",
      "Class Cyber\n"
     ]
    }
   ],
   "source": [
    "i = 0\n",
    "while i < len(d):\n",
    "    \n",
    "    k = list(d.keys())\n",
    "    \n",
    "    print(k[i],d[k[i]])\n",
    "    \n",
    "    i+=1"
   ]
  },
  {
   "cell_type": "markdown",
   "id": "2898220f",
   "metadata": {},
   "source": [
    "<h3 style=\"color:#4e2abd;\"> Q4. Iteration While loop in dictionary keys and values both with iterator </h3>"
   ]
  },
  {
   "cell_type": "code",
   "execution_count": 96,
   "id": "761e51c2",
   "metadata": {},
   "outputs": [
    {
     "name": "stdout",
     "output_type": "stream",
     "text": [
      "Name Mubeen\n",
      "Class Cyber\n"
     ]
    }
   ],
   "source": [
    "i = 0\n",
    "\n",
    "k = iter(d)\n",
    "v = iter(d)\n",
    "\n",
    "while i < len(d):\n",
    "    \n",
    "    print(next(k),d[next(v)])\n",
    " \n",
    "    i+=1"
   ]
  }
 ],
 "metadata": {
  "kernelspec": {
   "display_name": "Python 3 (ipykernel)",
   "language": "python",
   "name": "python3"
  },
  "language_info": {
   "codemirror_mode": {
    "name": "ipython",
    "version": 3
   },
   "file_extension": ".py",
   "mimetype": "text/x-python",
   "name": "python",
   "nbconvert_exporter": "python",
   "pygments_lexer": "ipython3",
   "version": "3.10.6"
  }
 },
 "nbformat": 4,
 "nbformat_minor": 5
}

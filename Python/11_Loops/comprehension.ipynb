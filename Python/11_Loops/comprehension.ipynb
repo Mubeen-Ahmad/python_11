{
 "cells": [
  {
   "cell_type": "markdown",
   "id": "894ae4f0",
   "metadata": {},
   "source": [
    "<h3 style=\"color:#4e2abd;\">\n",
    "Comprehensions in Python provide us with a short and concise way to construct new sequences (such as lists, set, dictionary etc.) using sequences which have been already defined. <br><br>Python supports the following 4 types of comprehensions:<br><br>\n",
    "• List Comprehensions<br>\n",
    "• Dictionary Comprehensions<br>\n",
    "• Set Comprehensions<br>\n",
    "• Generator Comprehensions</h3>"
   ]
  },
  {
   "cell_type": "markdown",
   "id": "8a5ce153",
   "metadata": {},
   "source": [
    "# List Comprehensions\n",
    "\n",
    "## List Comprehensions provide an elegant way to create new lists"
   ]
  },
  {
   "cell_type": "code",
   "execution_count": 1,
   "id": "10546225",
   "metadata": {},
   "outputs": [
    {
     "data": {
      "text/plain": [
       "[0, 1, 2, 3, 4, 5, 6, 7, 8, 9]"
      ]
     },
     "execution_count": 1,
     "metadata": {},
     "output_type": "execute_result"
    }
   ],
   "source": [
    "[i for i in range(10)]"
   ]
  },
  {
   "cell_type": "markdown",
   "id": "653e5a7c",
   "metadata": {},
   "source": [
    "# Example 2"
   ]
  },
  {
   "cell_type": "code",
   "execution_count": 6,
   "id": "65e0bc8c",
   "metadata": {},
   "outputs": [
    {
     "data": {
      "text/plain": [
       "[2, 4, 4, 6]"
      ]
     },
     "execution_count": 6,
     "metadata": {},
     "output_type": "execute_result"
    }
   ],
   "source": [
    "input_list = [1, 2, 3, 4, 4, 5, 6, 7, 7]\n",
    "\n",
    "lst = [var for var in input_list if var % 2 == 0]\n",
    "lst"
   ]
  },
  {
   "cell_type": "markdown",
   "id": "6ea948ec",
   "metadata": {},
   "source": [
    "## use if else "
   ]
  },
  {
   "cell_type": "code",
   "execution_count": 144,
   "id": "fa1d11ab",
   "metadata": {},
   "outputs": [
    {
     "data": {
      "text/plain": [
       "['1 is odd',\n",
       " '2 is even',\n",
       " '3 is odd',\n",
       " '4 is even',\n",
       " '4 is even',\n",
       " '5 is odd',\n",
       " '6 is even',\n",
       " '6 is even',\n",
       " '6 is even',\n",
       " '7 is odd',\n",
       " '7 is odd']"
      ]
     },
     "execution_count": 144,
     "metadata": {},
     "output_type": "execute_result"
    }
   ],
   "source": [
    "even = []\n",
    "odd = []\n",
    "\n",
    "[str(i)+\" is even\" if (i%2==0) else str(i)+\" is odd\" for i in  input_list ]"
   ]
  },
  {
   "cell_type": "markdown",
   "id": "4c230524",
   "metadata": {},
   "source": [
    "# Dictionary Comprehensions:\n",
    "\n",
    "## Extending the idea of list comprehensions, we can also create a dictionary using dictionary comprehensions"
   ]
  },
  {
   "cell_type": "code",
   "execution_count": 24,
   "id": "81835ba2",
   "metadata": {},
   "outputs": [],
   "source": [
    "students = [\"Mubeen\",\"Ali\",\"Ahmad\",\"Rizwan\"]\n",
    "\n",
    "roll = [34,23,521,73]"
   ]
  },
  {
   "cell_type": "code",
   "execution_count": 34,
   "id": "34dab3c8",
   "metadata": {},
   "outputs": [
    {
     "data": {
      "text/plain": [
       "[('Mubeen', 34), ('Ali', 23), ('Ahmad', 521), ('Rizwan', 73)]"
      ]
     },
     "execution_count": 34,
     "metadata": {},
     "output_type": "execute_result"
    }
   ],
   "source": [
    "merge = list(zip(students,roll))\n",
    "\n",
    "merge"
   ]
  },
  {
   "cell_type": "markdown",
   "id": "ab20c434",
   "metadata": {},
   "source": [
    "## dictionary Comprehensions"
   ]
  },
  {
   "cell_type": "code",
   "execution_count": 36,
   "id": "4f31bad5",
   "metadata": {},
   "outputs": [
    {
     "data": {
      "text/plain": [
       "{'Mubeen': 34, 'Ali': 23, 'Ahmad': 521, 'Rizwan': 73}"
      ]
     },
     "execution_count": 36,
     "metadata": {},
     "output_type": "execute_result"
    }
   ],
   "source": [
    "{ roll_number : name for roll_number,name in merge}"
   ]
  },
  {
   "cell_type": "markdown",
   "id": "85326896",
   "metadata": {},
   "source": [
    "## Example 2\n",
    "\n",
    "### Count Characters"
   ]
  },
  {
   "cell_type": "code",
   "execution_count": 95,
   "id": "af948422",
   "metadata": {},
   "outputs": [
    {
     "data": {
      "text/plain": [
       "{'M': 1, 'u': 1, 'b': 1, 'e': 2, 'n': 1}"
      ]
     },
     "execution_count": 95,
     "metadata": {},
     "output_type": "execute_result"
    }
   ],
   "source": [
    "name = \"Mubeen\"\n",
    "\n",
    "{k : name.count(k) for k in name}"
   ]
  },
  {
   "cell_type": "markdown",
   "id": "572d7f75",
   "metadata": {},
   "source": [
    "# Set Comprehensions:\n",
    "\n",
    "## Set comprehensions are pretty similar to list comprehensions. The only difference between them is that set comprehensions use curly brackets { }. "
   ]
  },
  {
   "cell_type": "code",
   "execution_count": 37,
   "id": "2a38acda",
   "metadata": {},
   "outputs": [
    {
     "data": {
      "text/plain": [
       "{0, 1, 2, 3, 4, 5, 6, 7, 8, 9, 10}"
      ]
     },
     "execution_count": 37,
     "metadata": {},
     "output_type": "execute_result"
    }
   ],
   "source": [
    "{i for i in range(11)}"
   ]
  },
  {
   "cell_type": "code",
   "execution_count": 40,
   "id": "095e226c",
   "metadata": {},
   "outputs": [
    {
     "data": {
      "text/plain": [
       "{2, 4, 6}"
      ]
     },
     "execution_count": 40,
     "metadata": {},
     "output_type": "execute_result"
    }
   ],
   "source": [
    "input_list = [1, 2, 3, 4, 4, 5, 6, 6, 6, 7, 7]\n",
    "\n",
    "{var for var in input_list if var % 2 == 0}"
   ]
  },
  {
   "cell_type": "markdown",
   "id": "11e8f485",
   "metadata": {},
   "source": [
    "# Generator Comprehensions:\n",
    "\n",
    "## Generator Comprehensions are very similar to list comprehensions.<br><br>One difference between them is that generator comprehensions use circular brackets whereas list comprehensions use square brackets.<br><br>The major difference between them is that generators don’t allocate memory for the whole list.<br><br> Instead, they generate each value one by one which is why they are memory efficient."
   ]
  },
  {
   "cell_type": "code",
   "execution_count": 153,
   "id": "f37ff06b",
   "metadata": {},
   "outputs": [
    {
     "data": {
      "text/plain": [
       "<generator object <genexpr> at 0x7f018903b840>"
      ]
     },
     "execution_count": 153,
     "metadata": {},
     "output_type": "execute_result"
    }
   ],
   "source": [
    "gen = (i for i in range(11))\n",
    "gen"
   ]
  },
  {
   "cell_type": "markdown",
   "id": "9509d66b",
   "metadata": {},
   "source": [
    "## Need to use with iterator"
   ]
  },
  {
   "cell_type": "code",
   "execution_count": 47,
   "id": "2a388709",
   "metadata": {},
   "outputs": [
    {
     "name": "stdout",
     "output_type": "stream",
     "text": [
      "0\n",
      "1\n",
      "2\n",
      "3\n",
      "4\n",
      "5\n",
      "6\n",
      "7\n",
      "8\n",
      "9\n",
      "10\n"
     ]
    }
   ],
   "source": [
    "for i in gen:\n",
    "    print(i)"
   ]
  }
 ],
 "metadata": {
  "kernelspec": {
   "display_name": "Python 3 (ipykernel)",
   "language": "python",
   "name": "python3"
  },
  "language_info": {
   "codemirror_mode": {
    "name": "ipython",
    "version": 3
   },
   "file_extension": ".py",
   "mimetype": "text/x-python",
   "name": "python",
   "nbconvert_exporter": "python",
   "pygments_lexer": "ipython3",
   "version": "3.10.6"
  }
 },
 "nbformat": 4,
 "nbformat_minor": 5
}

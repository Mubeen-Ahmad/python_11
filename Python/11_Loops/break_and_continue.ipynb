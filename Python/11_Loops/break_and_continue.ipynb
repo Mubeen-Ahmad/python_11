{
 "cells": [
  {
   "cell_type": "markdown",
   "id": "8a0b886a",
   "metadata": {},
   "source": [
    "# Break\n",
    "\n",
    "# The break keyword is used to `break` out a for loop, or a while loop.\n",
    "\n"
   ]
  },
  {
   "cell_type": "markdown",
   "id": "3eb298b6",
   "metadata": {},
   "source": [
    "## for loop example"
   ]
  },
  {
   "cell_type": "code",
   "execution_count": 28,
   "id": "f0505022",
   "metadata": {},
   "outputs": [
    {
     "name": "stdout",
     "output_type": "stream",
     "text": [
      "0\n",
      "1\n",
      "2\n",
      "3\n",
      "4\n",
      "5\n"
     ]
    }
   ],
   "source": [
    "\n",
    "for i in range(10):\n",
    "    \n",
    "    print(i)\n",
    "\n",
    "    \n",
    "    if i == 5:\n",
    "        \n",
    "        break\n",
    "    \n",
    "    \n",
    "\n"
   ]
  },
  {
   "cell_type": "markdown",
   "id": "9785e32c",
   "metadata": {},
   "source": [
    "## While loop example"
   ]
  },
  {
   "cell_type": "code",
   "execution_count": 27,
   "id": "7b91bc57",
   "metadata": {},
   "outputs": [
    {
     "name": "stdout",
     "output_type": "stream",
     "text": [
      "1\n",
      "2\n",
      "3\n",
      "4\n",
      "5\n"
     ]
    }
   ],
   "source": [
    "i = 0\n",
    "\n",
    "while i < 10:\n",
    "    i+=1\n",
    "    \n",
    "    print(i)\n",
    "    if i == 5:\n",
    "        break\n"
   ]
  },
  {
   "cell_type": "markdown",
   "id": "c587a1f5",
   "metadata": {},
   "source": [
    "# Continue\n",
    "\n",
    "## The continue keyword is used to end the current iteration in a for loop (or a while loop), and continues to the next iteration."
   ]
  },
  {
   "cell_type": "markdown",
   "id": "aca390f1",
   "metadata": {},
   "source": [
    "# When we need to skip the value than used continue"
   ]
  },
  {
   "cell_type": "markdown",
   "id": "8f7e4c38",
   "metadata": {},
   "source": [
    "## for loop example"
   ]
  },
  {
   "cell_type": "code",
   "execution_count": 16,
   "id": "145bc41d",
   "metadata": {},
   "outputs": [
    {
     "name": "stdout",
     "output_type": "stream",
     "text": [
      "0\n",
      "1\n",
      "2\n",
      "3\n",
      "4\n",
      "6\n",
      "7\n",
      "8\n",
      "9\n"
     ]
    }
   ],
   "source": [
    "\n",
    "for i in range(10):\n",
    "     \n",
    "    if i == 5:\n",
    "        continue\n",
    "    \n",
    "    print(i)\n",
    "\n"
   ]
  },
  {
   "cell_type": "markdown",
   "id": "04bcce71",
   "metadata": {},
   "source": [
    "## while loop example"
   ]
  },
  {
   "cell_type": "code",
   "execution_count": 29,
   "id": "a7f74107",
   "metadata": {},
   "outputs": [
    {
     "name": "stdout",
     "output_type": "stream",
     "text": [
      "1\n",
      "2\n",
      "3\n",
      "4\n",
      "6\n",
      "7\n",
      "8\n",
      "9\n",
      "10\n"
     ]
    }
   ],
   "source": [
    "i = 0\n",
    "\n",
    "while i < 10:\n",
    "    i+=1\n",
    "    \n",
    "    if i == 5:\n",
    "        continue\n",
    "    \n",
    "    print(i)\n",
    "\n",
    "    "
   ]
  },
  {
   "cell_type": "markdown",
   "id": "628a24cc",
   "metadata": {},
   "source": [
    "# Use of else in loop\n",
    "\n",
    "# The else keyword in a for loop specifies a block of code to be executed when the loop is finished:"
   ]
  },
  {
   "cell_type": "code",
   "execution_count": 30,
   "id": "9d050c31",
   "metadata": {},
   "outputs": [
    {
     "name": "stdout",
     "output_type": "stream",
     "text": [
      "0\n",
      "1\n",
      "2\n",
      "3\n",
      "4\n",
      "5\n",
      "6\n",
      "7\n",
      "8\n",
      "9\n",
      "Loop Ended\n"
     ]
    }
   ],
   "source": [
    "for i in range(10):\n",
    "    print(i)\n",
    "else:\n",
    "    print(\"Loop Ended\")"
   ]
  },
  {
   "cell_type": "code",
   "execution_count": 32,
   "id": "d0b929e7",
   "metadata": {},
   "outputs": [
    {
     "name": "stdout",
     "output_type": "stream",
     "text": [
      "0\n",
      "1\n",
      "2\n",
      "3\n",
      "4\n",
      "5\n",
      "6\n",
      "7\n",
      "8\n",
      "9\n",
      "Loop Ended\n"
     ]
    }
   ],
   "source": [
    "for i in range(10):\n",
    "    print(i)\n",
    "    \n",
    "print(\"Loop Ended\")"
   ]
  },
  {
   "cell_type": "markdown",
   "id": "65083c2c",
   "metadata": {},
   "source": [
    "# Meaningful Example with break"
   ]
  },
  {
   "cell_type": "code",
   "execution_count": 39,
   "id": "25f30b02",
   "metadata": {},
   "outputs": [
    {
     "name": "stdout",
     "output_type": "stream",
     "text": [
      "0\n",
      "1\n",
      "2\n",
      "3\n",
      "4\n",
      "5\n"
     ]
    }
   ],
   "source": [
    "for i in range(10):\n",
    "    print(i)\n",
    "    \n",
    "    if i==5:\n",
    "        break\n",
    "\n",
    "else:\n",
    "    print(\"Loop are Run Completly\")"
   ]
  },
  {
   "cell_type": "code",
   "execution_count": 42,
   "id": "27150352",
   "metadata": {},
   "outputs": [
    {
     "name": "stdout",
     "output_type": "stream",
     "text": [
      "0\n",
      "1\n",
      "2\n",
      "3\n",
      "4\n",
      "5\n",
      "6\n",
      "7\n",
      "8\n",
      "9\n",
      "Loop are Run Completly\n"
     ]
    }
   ],
   "source": [
    "for i in range(10):\n",
    "    print(i)\n",
    "    \n",
    "    if i==5:\n",
    "        pass\n",
    "\n",
    "else:\n",
    "    print(\"Loop are Run Completly\")"
   ]
  },
  {
   "cell_type": "markdown",
   "id": "bc8fb625",
   "metadata": {},
   "source": [
    "# while loop with else"
   ]
  },
  {
   "cell_type": "code",
   "execution_count": 46,
   "id": "acd17c4c",
   "metadata": {},
   "outputs": [
    {
     "name": "stdout",
     "output_type": "stream",
     "text": [
      "1\n",
      "2\n",
      "3\n",
      "4\n",
      "5\n"
     ]
    }
   ],
   "source": [
    "i = 0\n",
    "while i < len(range(10)):\n",
    "    i += 1\n",
    "    print(i)\n",
    "    \n",
    "    if i==5:\n",
    "        break\n",
    "\n",
    "else:\n",
    "    print(\"Loop are Run Completed\")"
   ]
  },
  {
   "cell_type": "code",
   "execution_count": 47,
   "id": "acf8b881",
   "metadata": {},
   "outputs": [
    {
     "name": "stdout",
     "output_type": "stream",
     "text": [
      "1\n",
      "2\n",
      "3\n",
      "4\n",
      "5\n",
      "6\n",
      "7\n",
      "8\n",
      "9\n",
      "10\n",
      "Loop are Run Completed\n"
     ]
    }
   ],
   "source": [
    "i = 0\n",
    "while i < len(range(10)):\n",
    "    i += 1\n",
    "    print(i)\n",
    "    \n",
    "    if i==5:\n",
    "        pass\n",
    "    \n",
    "\n",
    "else:\n",
    "    print(\"Loop are Run Completed\")"
   ]
  }
 ],
 "metadata": {
  "kernelspec": {
   "display_name": "Python 3 (ipykernel)",
   "language": "python",
   "name": "python3"
  },
  "language_info": {
   "codemirror_mode": {
    "name": "ipython",
    "version": 3
   },
   "file_extension": ".py",
   "mimetype": "text/x-python",
   "name": "python",
   "nbconvert_exporter": "python",
   "pygments_lexer": "ipython3",
   "version": "3.10.6"
  }
 },
 "nbformat": 4,
 "nbformat_minor": 5
}

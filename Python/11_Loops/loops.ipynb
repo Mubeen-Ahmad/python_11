{
 "cells": [
  {
   "cell_type": "markdown",
   "id": "b34abb2b",
   "metadata": {},
   "source": [
    "# For Loop"
   ]
  },
  {
   "cell_type": "markdown",
   "id": "ef01173a",
   "metadata": {},
   "source": [
    "<h3 style=\"color:#4e2abd;\">In Python, the for loop is used when the user knows the number of iterations that are required. <br>The user knows how many times the statement that is available inside the loops needs to be terminated.<br><br>Python For loop is used for sequential traversal i.e. it is used for iterating over an iterable like String, Tuple, List, Set or Dictionary.\n",
    "</h3>"
   ]
  },
  {
   "cell_type": "markdown",
   "id": "21c6f0e5",
   "metadata": {},
   "source": [
    " <img src=\"../../images/for.png\" style=\"display: block;margin-left: auto;margin-right: auto;width: 70%;\">"
   ]
  },
  {
   "cell_type": "markdown",
   "id": "dfa0a862",
   "metadata": {},
   "source": [
    "# example"
   ]
  },
  {
   "cell_type": "code",
   "execution_count": 2,
   "id": "bc19f438",
   "metadata": {},
   "outputs": [
    {
     "name": "stdout",
     "output_type": "stream",
     "text": [
      "1\n",
      "2\n",
      "3\n",
      "4\n"
     ]
    }
   ],
   "source": [
    "l = [1,2,3,4]\n",
    "\n",
    "for i in l:\n",
    "    print(i)"
   ]
  },
  {
   "cell_type": "code",
   "execution_count": 4,
   "id": "6ac02aaa",
   "metadata": {},
   "outputs": [
    {
     "name": "stdout",
     "output_type": "stream",
     "text": [
      "M\n",
      "u\n",
      "b\n",
      "e\n",
      "e\n",
      "n\n",
      " \n",
      "A\n",
      "h\n",
      "m\n",
      "a\n",
      "d\n"
     ]
    }
   ],
   "source": [
    "name = \"Mubeen Ahmad\"\n",
    "\n",
    "for x in name:\n",
    "    print(x)"
   ]
  },
  {
   "cell_type": "markdown",
   "id": "096daa63",
   "metadata": {},
   "source": [
    "# Note For Loop convert iterable in iterator and apply next function at the backend"
   ]
  },
  {
   "cell_type": "code",
   "execution_count": 43,
   "id": "cbc6da73",
   "metadata": {},
   "outputs": [],
   "source": [
    "x = \"Mubeen\""
   ]
  },
  {
   "cell_type": "code",
   "execution_count": 44,
   "id": "46e5e850",
   "metadata": {},
   "outputs": [
    {
     "name": "stdout",
     "output_type": "stream",
     "text": [
      "True\n",
      "True\n",
      "True\n",
      "True\n",
      "True\n",
      "True\n"
     ]
    }
   ],
   "source": [
    "i = iter(x)\n",
    "\n",
    "print(\"M\" in i)\n",
    "print(\"u\" in i)\n",
    "print(\"b\" in i)\n",
    "print(\"e\" in i)\n",
    "print(\"e\" in i)\n",
    "print(\"n\" in i)"
   ]
  },
  {
   "cell_type": "code",
   "execution_count": 48,
   "id": "ed4a9e55",
   "metadata": {},
   "outputs": [
    {
     "name": "stdout",
     "output_type": "stream",
     "text": [
      "M M\n",
      "u u\n",
      "b b\n",
      "e e\n",
      "e e\n",
      "n n\n"
     ]
    }
   ],
   "source": [
    "x = \"Mubeen\"\n",
    "\n",
    "r = iter(x)\n",
    "\n",
    "for i in x:\n",
    "    print(i, next(r))"
   ]
  },
  {
   "cell_type": "markdown",
   "id": "ede42014",
   "metadata": {},
   "source": [
    "## SO i and next(r) are same"
   ]
  },
  {
   "cell_type": "code",
   "execution_count": 64,
   "id": "b23df79f",
   "metadata": {},
   "outputs": [
    {
     "name": "stdout",
     "output_type": "stream",
     "text": [
      "True\n",
      "True\n",
      "True\n",
      "True\n",
      "True\n",
      "True\n"
     ]
    }
   ],
   "source": [
    "x = \"Mubeen\"\n",
    "r = iter(x)\n",
    "\n",
    "for i in x:\n",
    "    print(i == next(r))"
   ]
  },
  {
   "cell_type": "code",
   "execution_count": 66,
   "id": "5c8dfacc",
   "metadata": {},
   "outputs": [
    {
     "name": "stdout",
     "output_type": "stream",
     "text": [
      "140337873958704 140337873958704\n",
      "140337873560560 140337873560560\n",
      "140337873651824 140337873651824\n",
      "140337873808752 140337873808752\n",
      "140337873808752 140337873808752\n",
      "140337873758960 140337873758960\n"
     ]
    }
   ],
   "source": [
    "x = \"Mubeen\"\n",
    "r = iter(x)\n",
    "\n",
    "for i in x:\n",
    "    print(id(i),id(next(r)))"
   ]
  },
  {
   "cell_type": "markdown",
   "id": "9edd93a1",
   "metadata": {},
   "source": [
    "# enumerate bulit in Function"
   ]
  },
  {
   "cell_type": "markdown",
   "id": "d915cd04",
   "metadata": {},
   "source": [
    "<h3 style=\"color:#4e2abd;\">\n",
    "Often, when dealing with iterators, we also get need to keep a count of iterations. <br><br>Python eases the programmers’ task by providing a built-in function enumerate() for this task. <br><br>enumerate() method adds a counter to an iterable and returns it in a form of enumerating object.<br><br> This enumerated object can then be used directly for loops or converted into a list of tuples using the list() method.<br><br>Syntax<br><br>enumerate( iterable, start=0)<br><br> start parameter are optional\n",
    "</h3>"
   ]
  },
  {
   "cell_type": "code",
   "execution_count": 75,
   "id": "d2ea59a1",
   "metadata": {},
   "outputs": [
    {
     "data": {
      "text/plain": [
       "<enumerate at 0x7fa2e83ed3c0>"
      ]
     },
     "execution_count": 75,
     "metadata": {},
     "output_type": "execute_result"
    }
   ],
   "source": [
    "s = \"Mubeen\"\n",
    "\n",
    "enumerate(s)"
   ]
  },
  {
   "cell_type": "markdown",
   "id": "ce828358",
   "metadata": {},
   "source": [
    "## Need to convert list or tuple"
   ]
  },
  {
   "cell_type": "code",
   "execution_count": 79,
   "id": "a7ab2281",
   "metadata": {},
   "outputs": [
    {
     "data": {
      "text/plain": [
       "[(0, 'M'), (1, 'u'), (2, 'b'), (3, 'e'), (4, 'e'), (5, 'n')]"
      ]
     },
     "execution_count": 79,
     "metadata": {},
     "output_type": "execute_result"
    }
   ],
   "source": [
    "ind = list(enumerate(s))\n",
    "ind"
   ]
  },
  {
   "cell_type": "code",
   "execution_count": 80,
   "id": "e7d1ac2e",
   "metadata": {},
   "outputs": [
    {
     "data": {
      "text/plain": [
       "(0, 'M')"
      ]
     },
     "execution_count": 80,
     "metadata": {},
     "output_type": "execute_result"
    }
   ],
   "source": [
    "ind[0]"
   ]
  },
  {
   "cell_type": "markdown",
   "id": "58ed8516",
   "metadata": {},
   "source": [
    "## Unpacking"
   ]
  },
  {
   "cell_type": "code",
   "execution_count": 81,
   "id": "2a9e215e",
   "metadata": {},
   "outputs": [],
   "source": [
    "index_,character = ind[0]"
   ]
  },
  {
   "cell_type": "code",
   "execution_count": 82,
   "id": "5e17bef9",
   "metadata": {},
   "outputs": [
    {
     "data": {
      "text/plain": [
       "0"
      ]
     },
     "execution_count": 82,
     "metadata": {},
     "output_type": "execute_result"
    }
   ],
   "source": [
    "index_"
   ]
  },
  {
   "cell_type": "code",
   "execution_count": 83,
   "id": "c3813db0",
   "metadata": {},
   "outputs": [
    {
     "data": {
      "text/plain": [
       "'M'"
      ]
     },
     "execution_count": 83,
     "metadata": {},
     "output_type": "execute_result"
    }
   ],
   "source": [
    "character"
   ]
  },
  {
   "cell_type": "markdown",
   "id": "079baa16",
   "metadata": {},
   "source": [
    "# use with for loop"
   ]
  },
  {
   "cell_type": "code",
   "execution_count": 88,
   "id": "7681ac68",
   "metadata": {},
   "outputs": [
    {
     "name": "stdout",
     "output_type": "stream",
     "text": [
      "[(0, 'M'), (1, 'u'), (2, 'b'), (3, 'e'), (4, 'e'), (5, 'n')]\n",
      "\n",
      "(0, 'M')\n",
      "(1, 'u')\n",
      "(2, 'b')\n",
      "(3, 'e')\n",
      "(4, 'e')\n",
      "(5, 'n')\n"
     ]
    }
   ],
   "source": [
    "print(ind)\n",
    "print()\n",
    "\n",
    "for i in ind:\n",
    "    print(i)"
   ]
  },
  {
   "cell_type": "code",
   "execution_count": 90,
   "id": "050551b1",
   "metadata": {},
   "outputs": [
    {
     "name": "stdout",
     "output_type": "stream",
     "text": [
      "0 M\n",
      "1 u\n",
      "2 b\n",
      "3 e\n",
      "4 e\n",
      "5 n\n"
     ]
    }
   ],
   "source": [
    "for i in ind:\n",
    "    print(i[0],i[1])"
   ]
  },
  {
   "cell_type": "markdown",
   "id": "4e5c3199",
   "metadata": {},
   "source": [
    "# Direct use enumerate with for loop"
   ]
  },
  {
   "cell_type": "code",
   "execution_count": 91,
   "id": "6d83eead",
   "metadata": {},
   "outputs": [
    {
     "name": "stdout",
     "output_type": "stream",
     "text": [
      "0 M\n",
      "1 u\n",
      "2 b\n",
      "3 e\n",
      "4 e\n",
      "5 n\n"
     ]
    }
   ],
   "source": [
    "s = \"Mubeen\"\n",
    "\n",
    "# unpacking concept\n",
    "for ind,char in enumerate(s):\n",
    "    print(ind,char)"
   ]
  },
  {
   "cell_type": "markdown",
   "id": "b766fd08",
   "metadata": {},
   "source": [
    "# range function\n",
    "## The range() function returns a sequence of numbers\n",
    "\n",
    "## Syntax :-\n",
    "### range(start, stop, step)\n",
    "\n",
    "# start and step are optional"
   ]
  },
  {
   "cell_type": "code",
   "execution_count": 344,
   "id": "ec1d2a0a",
   "metadata": {},
   "outputs": [
    {
     "data": {
      "text/plain": [
       "range(0, 10)"
      ]
     },
     "execution_count": 344,
     "metadata": {},
     "output_type": "execute_result"
    }
   ],
   "source": [
    "range(10)"
   ]
  },
  {
   "cell_type": "markdown",
   "id": "d1ae7918",
   "metadata": {},
   "source": [
    "## Need to convert list or typle"
   ]
  },
  {
   "cell_type": "code",
   "execution_count": 346,
   "id": "9b90cfa1",
   "metadata": {},
   "outputs": [
    {
     "data": {
      "text/plain": [
       "[0, 1, 2, 3, 4, 5, 6, 7, 8, 9]"
      ]
     },
     "execution_count": 346,
     "metadata": {},
     "output_type": "execute_result"
    }
   ],
   "source": [
    "list(range(10))"
   ]
  },
  {
   "cell_type": "markdown",
   "id": "9b5ef5c0",
   "metadata": {},
   "source": [
    "## Change start and end"
   ]
  },
  {
   "cell_type": "code",
   "execution_count": 350,
   "id": "d9b0a5bb",
   "metadata": {},
   "outputs": [
    {
     "data": {
      "text/plain": [
       "[1, 2, 3, 4, 5, 6, 7, 8, 9]"
      ]
     },
     "execution_count": 350,
     "metadata": {},
     "output_type": "execute_result"
    }
   ],
   "source": [
    "list(range(1,10))"
   ]
  },
  {
   "cell_type": "markdown",
   "id": "dd83d819",
   "metadata": {},
   "source": [
    "## use step argument"
   ]
  },
  {
   "cell_type": "code",
   "execution_count": 351,
   "id": "a50fbcb8",
   "metadata": {},
   "outputs": [
    {
     "data": {
      "text/plain": [
       "[1, 3, 5, 7, 9]"
      ]
     },
     "execution_count": 351,
     "metadata": {},
     "output_type": "execute_result"
    }
   ],
   "source": [
    "list(range(1,10,2))"
   ]
  },
  {
   "cell_type": "markdown",
   "id": "f0344f3c",
   "metadata": {},
   "source": [
    "## Reverse Sequence"
   ]
  },
  {
   "cell_type": "code",
   "execution_count": 354,
   "id": "86fac30b",
   "metadata": {},
   "outputs": [
    {
     "data": {
      "text/plain": [
       "[10, 9, 8, 7, 6, 5, 4, 3, 2, 1]"
      ]
     },
     "execution_count": 354,
     "metadata": {},
     "output_type": "execute_result"
    }
   ],
   "source": [
    "list(range(10,0,-1))"
   ]
  },
  {
   "cell_type": "markdown",
   "id": "c1dc9d68",
   "metadata": {},
   "source": [
    "# use with for loop"
   ]
  },
  {
   "cell_type": "code",
   "execution_count": 348,
   "id": "ffcb6f52",
   "metadata": {},
   "outputs": [
    {
     "name": "stdout",
     "output_type": "stream",
     "text": [
      "0\n",
      "1\n",
      "2\n",
      "3\n",
      "4\n",
      "5\n",
      "6\n",
      "7\n",
      "8\n",
      "9\n"
     ]
    }
   ],
   "source": [
    "for i in range(10):\n",
    "    print(i)"
   ]
  },
  {
   "cell_type": "markdown",
   "id": "6ea9fe5c",
   "metadata": {},
   "source": [
    "# Example"
   ]
  },
  {
   "cell_type": "code",
   "execution_count": 358,
   "id": "61f9eb71",
   "metadata": {},
   "outputs": [
    {
     "name": "stdout",
     "output_type": "stream",
     "text": [
      "M 0\n",
      "u 1\n",
      "b 2\n",
      "e 3\n",
      "e 4\n",
      "n 5\n"
     ]
    }
   ],
   "source": [
    "s = \"Mubeen\"\n",
    "\n",
    "for i in range(len(s)):\n",
    "    print(s[i],i)"
   ]
  },
  {
   "cell_type": "markdown",
   "id": "cc8d078e",
   "metadata": {},
   "source": [
    "## Reverse for loop"
   ]
  },
  {
   "cell_type": "code",
   "execution_count": 369,
   "id": "aaec68b7",
   "metadata": {},
   "outputs": [
    {
     "name": "stdout",
     "output_type": "stream",
     "text": [
      "n 5\n",
      "e 4\n",
      "e 3\n",
      "b 2\n",
      "u 1\n",
      "M 0\n"
     ]
    }
   ],
   "source": [
    "for i in range(len(s)-1,-1,-1):\n",
    "    print(s[i],i)"
   ]
  },
  {
   "cell_type": "markdown",
   "id": "f3cb0e15",
   "metadata": {},
   "source": [
    "# While Loop\n",
    "\n"
   ]
  },
  {
   "cell_type": "markdown",
   "id": "f6884c16",
   "metadata": {},
   "source": [
    "<h3 style=\"color:#4e2abd;\">Python While Loop is used to execute a block of statements repeatedly until a given condition is satisfied.<br><br>And when the condition becomes false, the line immediately after the loop in the program is executed.\n",
    "</h3>"
   ]
  },
  {
   "cell_type": "markdown",
   "id": "8e1800ac",
   "metadata": {},
   "source": [
    " <img src=\"../../images/while.png\" style=\"display: block;margin-left: auto;margin-right: auto;width: 70%;\">"
   ]
  },
  {
   "cell_type": "markdown",
   "id": "c49ff96f",
   "metadata": {},
   "source": [
    "## in while loop we need a counter variable like others programing languages"
   ]
  },
  {
   "cell_type": "markdown",
   "id": "0628ba24",
   "metadata": {},
   "source": [
    "# example"
   ]
  },
  {
   "cell_type": "code",
   "execution_count": 129,
   "id": "fd7737a0",
   "metadata": {},
   "outputs": [],
   "source": [
    "s = \"Mubeen\""
   ]
  },
  {
   "cell_type": "markdown",
   "id": "a007b3e2",
   "metadata": {},
   "source": [
    "## get the length"
   ]
  },
  {
   "cell_type": "code",
   "execution_count": 140,
   "id": "09bf95f6",
   "metadata": {},
   "outputs": [
    {
     "data": {
      "text/plain": [
       "6"
      ]
     },
     "execution_count": 140,
     "metadata": {},
     "output_type": "execute_result"
    }
   ],
   "source": [
    "length = len(s)\n",
    "length"
   ]
  },
  {
   "cell_type": "markdown",
   "id": "2b5dc0b8",
   "metadata": {},
   "source": [
    "## Create Counter"
   ]
  },
  {
   "cell_type": "code",
   "execution_count": 157,
   "id": "468d4f6b",
   "metadata": {},
   "outputs": [
    {
     "data": {
      "text/plain": [
       "0"
      ]
     },
     "execution_count": 157,
     "metadata": {},
     "output_type": "execute_result"
    }
   ],
   "source": [
    "counter = 0\n",
    "counter"
   ]
  },
  {
   "cell_type": "code",
   "execution_count": 158,
   "id": "bc67e779",
   "metadata": {},
   "outputs": [
    {
     "name": "stdout",
     "output_type": "stream",
     "text": [
      "0 M\n",
      "1 u\n",
      "2 b\n",
      "3 e\n",
      "4 e\n",
      "5 n\n"
     ]
    }
   ],
   "source": [
    "while counter < length:\n",
    "    print(counter,s[counter])\n",
    "    \n",
    "    # increment 1\n",
    "    counter +=1"
   ]
  },
  {
   "cell_type": "markdown",
   "id": "1ec91224",
   "metadata": {},
   "source": [
    "# example 2"
   ]
  },
  {
   "cell_type": "code",
   "execution_count": 167,
   "id": "32034173",
   "metadata": {},
   "outputs": [
    {
     "name": "stdout",
     "output_type": "stream",
     "text": [
      "0 1\n",
      "1 2\n",
      "2 Mubeen\n",
      "3 Ahmad\n",
      "4 3\n",
      "5 4\n"
     ]
    }
   ],
   "source": [
    "data = [1,2,\"Mubeen\",\"Ahmad\",3,4]\n",
    "\n",
    "i = 0\n",
    "\n",
    "while i < len(data):\n",
    "    \n",
    "    print(i,data[i])\n",
    "    \n",
    "    i += 1"
   ]
  },
  {
   "cell_type": "markdown",
   "id": "30bdcb8d",
   "metadata": {},
   "source": [
    "## Reverse while loop"
   ]
  },
  {
   "cell_type": "code",
   "execution_count": 378,
   "id": "76e3d311",
   "metadata": {},
   "outputs": [
    {
     "name": "stdout",
     "output_type": "stream",
     "text": [
      "n 5\n",
      "e 4\n",
      "e 3\n",
      "b 2\n",
      "u 1\n",
      "M 0\n"
     ]
    }
   ],
   "source": [
    "s = \"Mubeen\"\n",
    "\n",
    "i = len(s) -1\n",
    "\n",
    "while i >= 0:\n",
    "    print(s[i],i)\n",
    "    \n",
    "    i-=1"
   ]
  },
  {
   "cell_type": "markdown",
   "id": "68e8f302",
   "metadata": {},
   "source": [
    "# Difference for loop VS while loop"
   ]
  },
  {
   "cell_type": "markdown",
   "id": "674932c2",
   "metadata": {},
   "source": [
    "<table>\n",
    "    \n",
    "<td style=\"color:#5d2ade; font-size:30px;   text-align: center;\">for loop</td>\n",
    "      \n",
    "<td style=\"color:#d96518; font-size:30px;   text-align: center;\">while loop</td>\n",
    "  \n",
    "</tr>\n",
    " <tr>\n",
    "\n",
    "<td style=\"color:#5d2ade; font-size:20px;\"><p> <img src=\"../../images/for.png\" style=\"display: block;margin-left: auto;margin-right: auto;width: 100%;\"></p></td>\n",
    "      \n",
    "<td style=\"color:#d96518; font-size:20px;\"><p> <img src=\"../../images/while.png\" style=\"display: block;margin-left: auto;margin-right: auto;width: 100%;\"></p></td>\n",
    "  \n",
    "</tr>\n",
    "\n",
    "</table>\n"
   ]
  },
  {
   "cell_type": "markdown",
   "id": "e63761c2",
   "metadata": {},
   "source": [
    " <img src=\"../../images/loop_diff.png\" style=\"display: block;margin-left: auto;margin-right: auto;width: 80%; border-radius:20px 120px 20px 120px; border:5px double blue;\">"
   ]
  },
  {
   "cell_type": "markdown",
   "id": "9cfc456b",
   "metadata": {},
   "source": [
    "<table>\n",
    "    \n",
    "<td style=\"color:#5d2ade; font-size:30px;   text-align: center;\">for loop</td>\n",
    "      \n",
    "<td style=\"color:#d96518; font-size:30px;   text-align: center;\">while loop</td>\n",
    "  \n",
    "</tr>\n",
    " <tr>\n",
    "\n",
    "<td style=\"color:#5d2ade; font-size:20px;\"><p> A for loop is a control flow statement that executes code repeatedly for a particular number of iterations. In this control flow statement, the keyword used is for.<br><br> The for loop is used when the number of iterations is already known.</p></td>\n",
    "      \n",
    "<td style=\"color:#d96518; font-size:20px;\"><p>A While loop that executes a single statement or a group of statements for the given true condition. The keyword used to represent this loop is \"while\". <br><br>A \"while\" loop is used when the number of iterations is unknown. The statement repeats itself till the boolean value becomes false.</p></td>\n",
    "  \n",
    "</tr>\n",
    "\n",
    "\n",
    "</table>\n"
   ]
  },
  {
   "cell_type": "markdown",
   "id": "f1122d81",
   "metadata": {},
   "source": [
    "# Check Exection Time"
   ]
  },
  {
   "cell_type": "code",
   "execution_count": 334,
   "id": "5a382141",
   "metadata": {},
   "outputs": [
    {
     "name": "stdout",
     "output_type": "stream",
     "text": [
      "While loop are Faster than for loop\n"
     ]
    }
   ],
   "source": [
    "import time\n",
    "\n",
    "for_t1 = time.time()\n",
    "\n",
    "for i in range(1000):\n",
    "    pass\n",
    "\n",
    "for_t2 = time.time()\n",
    "\n",
    "\n",
    "while_t1 = time.time()\n",
    "i = 0\n",
    "while i<1000:\n",
    "    i+=1\n",
    "while_t2 = time.time()\n",
    "\n",
    "\n",
    "speed_for = for_t2 - for_t1\n",
    "speed_while = while_t2 - while_t1\n",
    "\n",
    "\n",
    "if speed_for > speed_while:\n",
    "    print(\"For loop are Faster than While loop\")\n",
    "    \n",
    "else:\n",
    "    print(\"While loop are Faster than for loop\")"
   ]
  }
 ],
 "metadata": {
  "kernelspec": {
   "display_name": "Python 3 (ipykernel)",
   "language": "python",
   "name": "python3"
  },
  "language_info": {
   "codemirror_mode": {
    "name": "ipython",
    "version": 3
   },
   "file_extension": ".py",
   "mimetype": "text/x-python",
   "name": "python",
   "nbconvert_exporter": "python",
   "pygments_lexer": "ipython3",
   "version": "3.10.6"
  }
 },
 "nbformat": 4,
 "nbformat_minor": 5
}

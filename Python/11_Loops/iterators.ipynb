{
 "cells": [
  {
   "cell_type": "markdown",
   "id": "3d8866eb",
   "metadata": {},
   "source": [
    "# What is Iterators"
   ]
  },
  {
   "cell_type": "markdown",
   "id": "a251638c",
   "metadata": {},
   "source": [
    "<h3 style=\"color:#4e2abd;\"> An iterator is an object that contains a countable number of values.<br><br>\n",
    "    An iterator is an object that can be iterated upon, meaning that you can traverse through all the values.<br><br>\n",
    "    In Python, an iterator is an object which implements the iterator protocol, which consist of the methods<br><br> iter() and __next__().\n",
    "</h3>"
   ]
  },
  {
   "cell_type": "markdown",
   "id": "5c52903e",
   "metadata": {},
   "source": [
    "# What is Iterable\n",
    "\n",
    "<h3 style=\"color:#4e2abd;\">\n",
    "     Iterables are objects that can be iterated in iterations.<br><br>\n",
    "    Lists, tuples, strings,dictionaries, and sets are all iterable objects.<br><br> They are iterable containers which you can get an iterator from.\n",
    "\n",
    "All these objects have a iter() method which is used to get an iterator:\n",
    " </h3>"
   ]
  },
  {
   "cell_type": "code",
   "execution_count": 46,
   "id": "14d4ba2e",
   "metadata": {},
   "outputs": [],
   "source": [
    "# Examle \n",
    "\n",
    "l = [\"Mubeen\",\"Ahmad\",\"Hamza\"]"
   ]
  },
  {
   "cell_type": "code",
   "execution_count": 47,
   "id": "61d3c1ba",
   "metadata": {},
   "outputs": [
    {
     "data": {
      "text/plain": [
       "list"
      ]
     },
     "execution_count": 47,
     "metadata": {},
     "output_type": "execute_result"
    }
   ],
   "source": [
    "type(l)"
   ]
  },
  {
   "cell_type": "markdown",
   "id": "0c78df65",
   "metadata": {},
   "source": [
    "## Here List is iterable <br><br>Now Convert iterable to Iterator with the help of iter() "
   ]
  },
  {
   "cell_type": "code",
   "execution_count": 48,
   "id": "b0658501",
   "metadata": {},
   "outputs": [],
   "source": [
    "l = iter(l)"
   ]
  },
  {
   "cell_type": "code",
   "execution_count": 49,
   "id": "7aae3abc",
   "metadata": {},
   "outputs": [
    {
     "data": {
      "text/plain": [
       "list_iterator"
      ]
     },
     "execution_count": 49,
     "metadata": {},
     "output_type": "execute_result"
    }
   ],
   "source": [
    "type(l)"
   ]
  },
  {
   "cell_type": "markdown",
   "id": "2effb24b",
   "metadata": {},
   "source": [
    "## Now l is Iterator <br><br>\n",
    "\n",
    "## Now use next() funtion use for Traversing (one by one Accessing)"
   ]
  },
  {
   "cell_type": "code",
   "execution_count": 53,
   "id": "789272cd",
   "metadata": {},
   "outputs": [
    {
     "data": {
      "text/plain": [
       "<list_iterator at 0x7f7155ddee90>"
      ]
     },
     "execution_count": 53,
     "metadata": {},
     "output_type": "execute_result"
    }
   ],
   "source": [
    "l"
   ]
  },
  {
   "cell_type": "code",
   "execution_count": 54,
   "id": "b54895b4",
   "metadata": {},
   "outputs": [
    {
     "data": {
      "text/plain": [
       "'Mubeen'"
      ]
     },
     "execution_count": 54,
     "metadata": {},
     "output_type": "execute_result"
    }
   ],
   "source": [
    "next(l)"
   ]
  },
  {
   "cell_type": "code",
   "execution_count": 55,
   "id": "f2012ffa",
   "metadata": {},
   "outputs": [
    {
     "data": {
      "text/plain": [
       "'Ahmad'"
      ]
     },
     "execution_count": 55,
     "metadata": {},
     "output_type": "execute_result"
    }
   ],
   "source": [
    "next(l)"
   ]
  },
  {
   "cell_type": "code",
   "execution_count": 56,
   "id": "d95fccd3",
   "metadata": {},
   "outputs": [
    {
     "data": {
      "text/plain": [
       "'Hamza'"
      ]
     },
     "execution_count": 56,
     "metadata": {},
     "output_type": "execute_result"
    }
   ],
   "source": [
    "next(l)"
   ]
  },
  {
   "cell_type": "markdown",
   "id": "75ec5a0b",
   "metadata": {},
   "source": [
    "## Traversing are Complete\n",
    "## Now if i try to next(l) Traverse than Raise Error "
   ]
  },
  {
   "cell_type": "code",
   "execution_count": 57,
   "id": "082e43d8",
   "metadata": {},
   "outputs": [
    {
     "ename": "StopIteration",
     "evalue": "",
     "output_type": "error",
     "traceback": [
      "\u001b[0;31m---------------------------------------------------------------------------\u001b[0m",
      "\u001b[0;31mStopIteration\u001b[0m                             Traceback (most recent call last)",
      "Cell \u001b[0;32mIn [57], line 1\u001b[0m\n\u001b[0;32m----> 1\u001b[0m \u001b[38;5;28;43mnext\u001b[39;49m\u001b[43m(\u001b[49m\u001b[43ml\u001b[49m\u001b[43m)\u001b[49m\n",
      "\u001b[0;31mStopIteration\u001b[0m: "
     ]
    }
   ],
   "source": [
    "next(l)"
   ]
  },
  {
   "cell_type": "markdown",
   "id": "53474edc",
   "metadata": {},
   "source": [
    "# So If we Need the Interation or Traversing the Iterables objects (list,Lists, tuples, dictionaries, strings and sets) than we need to first convert Iterables to iterators\n",
    "<br><br>\n",
    "# Try to Traverse Iterables without converting in iterators"
   ]
  },
  {
   "cell_type": "code",
   "execution_count": 70,
   "id": "6762d5e5",
   "metadata": {},
   "outputs": [],
   "source": [
    "l = [\"Mubeen\",\"ALi\",\"Hamza\"]"
   ]
  },
  {
   "cell_type": "code",
   "execution_count": 71,
   "id": "4d7eae87",
   "metadata": {},
   "outputs": [
    {
     "ename": "TypeError",
     "evalue": "'list' object is not an iterator",
     "output_type": "error",
     "traceback": [
      "\u001b[0;31m---------------------------------------------------------------------------\u001b[0m",
      "\u001b[0;31mTypeError\u001b[0m                                 Traceback (most recent call last)",
      "Cell \u001b[0;32mIn [71], line 1\u001b[0m\n\u001b[0;32m----> 1\u001b[0m \u001b[38;5;28;43mnext\u001b[39;49m\u001b[43m(\u001b[49m\u001b[43ml\u001b[49m\u001b[43m)\u001b[49m\n",
      "\u001b[0;31mTypeError\u001b[0m: 'list' object is not an iterator"
     ]
    }
   ],
   "source": [
    "next(l)"
   ]
  },
  {
   "cell_type": "markdown",
   "id": "5a718c6c",
   "metadata": {},
   "source": [
    "# So list are not iterator so we need to convert first in Iterator with iter() function"
   ]
  },
  {
   "cell_type": "code",
   "execution_count": 72,
   "id": "52919625",
   "metadata": {},
   "outputs": [
    {
     "data": {
      "text/plain": [
       "list_iterator"
      ]
     },
     "execution_count": 72,
     "metadata": {},
     "output_type": "execute_result"
    }
   ],
   "source": [
    "l = iter(l)\n",
    "type(l)"
   ]
  },
  {
   "cell_type": "code",
   "execution_count": 73,
   "id": "70c5d2b9",
   "metadata": {},
   "outputs": [
    {
     "data": {
      "text/plain": [
       "'Mubeen'"
      ]
     },
     "execution_count": 73,
     "metadata": {},
     "output_type": "execute_result"
    }
   ],
   "source": [
    "# now traversing\n",
    "\n",
    "next(l)"
   ]
  },
  {
   "cell_type": "code",
   "execution_count": 74,
   "id": "d85a1a11",
   "metadata": {},
   "outputs": [
    {
     "data": {
      "text/plain": [
       "'ALi'"
      ]
     },
     "execution_count": 74,
     "metadata": {},
     "output_type": "execute_result"
    }
   ],
   "source": [
    "next(l)"
   ]
  },
  {
   "cell_type": "code",
   "execution_count": 75,
   "id": "1256a079",
   "metadata": {},
   "outputs": [
    {
     "data": {
      "text/plain": [
       "'Hamza'"
      ]
     },
     "execution_count": 75,
     "metadata": {},
     "output_type": "execute_result"
    }
   ],
   "source": [
    "next(l)"
   ]
  },
  {
   "cell_type": "markdown",
   "id": "3c6d43b8",
   "metadata": {},
   "source": [
    " <img src=\"../../images/itr.png\" style=\"display: block;margin-left: auto;margin-right: auto;width: 50%;\">"
   ]
  },
  {
   "cell_type": "markdown",
   "id": "88b7b351",
   "metadata": {},
   "source": [
    "## we also use `.__iter__ ` and `.__next__` instead of next() , iter()"
   ]
  },
  {
   "cell_type": "code",
   "execution_count": 86,
   "id": "1f61c196",
   "metadata": {},
   "outputs": [],
   "source": [
    "x = (1,2,3,4)"
   ]
  },
  {
   "cell_type": "code",
   "execution_count": 90,
   "id": "4ab4833b",
   "metadata": {},
   "outputs": [
    {
     "data": {
      "text/plain": [
       "tuple_iterator"
      ]
     },
     "execution_count": 90,
     "metadata": {},
     "output_type": "execute_result"
    }
   ],
   "source": [
    "x = x.__iter__()\n",
    "type(x)"
   ]
  },
  {
   "cell_type": "code",
   "execution_count": 91,
   "id": "b33ebb22",
   "metadata": {},
   "outputs": [
    {
     "data": {
      "text/plain": [
       "1"
      ]
     },
     "execution_count": 91,
     "metadata": {},
     "output_type": "execute_result"
    }
   ],
   "source": [
    "x.__next__()"
   ]
  },
  {
   "cell_type": "code",
   "execution_count": 92,
   "id": "cc818614",
   "metadata": {},
   "outputs": [
    {
     "data": {
      "text/plain": [
       "2"
      ]
     },
     "execution_count": 92,
     "metadata": {},
     "output_type": "execute_result"
    }
   ],
   "source": [
    "x.__next__()"
   ]
  },
  {
   "cell_type": "code",
   "execution_count": 93,
   "id": "3a238245",
   "metadata": {},
   "outputs": [
    {
     "data": {
      "text/plain": [
       "3"
      ]
     },
     "execution_count": 93,
     "metadata": {},
     "output_type": "execute_result"
    }
   ],
   "source": [
    "x.__next__()"
   ]
  },
  {
   "cell_type": "code",
   "execution_count": 94,
   "id": "c529ebd3",
   "metadata": {},
   "outputs": [
    {
     "data": {
      "text/plain": [
       "4"
      ]
     },
     "execution_count": 94,
     "metadata": {},
     "output_type": "execute_result"
    }
   ],
   "source": [
    "x.__next__()"
   ]
  },
  {
   "cell_type": "markdown",
   "id": "4a4f9083",
   "metadata": {},
   "source": [
    "# Difference Between Iterators and Iterables"
   ]
  },
  {
   "cell_type": "markdown",
   "id": "ce979ae2",
   "metadata": {},
   "source": [
    "<h3 style=\"color:#4e2abd;\">\n",
    "   Iterable Can be iterated (traversing) using for loop.<br><br>\n",
    "   Iterators Can also be iterated(traversing) using for loop\n",
    "</h3>"
   ]
  },
  {
   "cell_type": "code",
   "execution_count": 95,
   "id": "31bc448f",
   "metadata": {},
   "outputs": [
    {
     "name": "stdout",
     "output_type": "stream",
     "text": [
      "1\n",
      "2\n",
      "3\n",
      "4\n"
     ]
    }
   ],
   "source": [
    "l = [1,2,3,4]\n",
    "\n",
    "for i in l:\n",
    "    print(i)"
   ]
  },
  {
   "cell_type": "code",
   "execution_count": 96,
   "id": "c082855e",
   "metadata": {},
   "outputs": [
    {
     "name": "stdout",
     "output_type": "stream",
     "text": [
      "1\n",
      "2\n",
      "3\n",
      "4\n"
     ]
    }
   ],
   "source": [
    "l = iter(l)\n",
    "\n",
    "for i in l:\n",
    "    print(i)"
   ]
  },
  {
   "cell_type": "markdown",
   "id": "138647d4",
   "metadata": {},
   "source": [
    "<h3 style=\"color:#4e2abd;\">\n",
    "Iterables support iter() function.<br><br>\n",
    "Iterators support iter() and next() function\n",
    "</h3>"
   ]
  },
  {
   "cell_type": "code",
   "execution_count": 100,
   "id": "d4035450",
   "metadata": {},
   "outputs": [
    {
     "ename": "TypeError",
     "evalue": "'list' object is not an iterator",
     "output_type": "error",
     "traceback": [
      "\u001b[0;31m---------------------------------------------------------------------------\u001b[0m",
      "\u001b[0;31mTypeError\u001b[0m                                 Traceback (most recent call last)",
      "Cell \u001b[0;32mIn [100], line 3\u001b[0m\n\u001b[1;32m      1\u001b[0m l \u001b[38;5;241m=\u001b[39m [\u001b[38;5;241m1\u001b[39m,\u001b[38;5;241m2\u001b[39m,\u001b[38;5;241m3\u001b[39m,\u001b[38;5;241m4\u001b[39m]\n\u001b[0;32m----> 3\u001b[0m \u001b[38;5;28;43mnext\u001b[39;49m\u001b[43m(\u001b[49m\u001b[43ml\u001b[49m\u001b[43m)\u001b[49m\n",
      "\u001b[0;31mTypeError\u001b[0m: 'list' object is not an iterator"
     ]
    }
   ],
   "source": [
    "l = [1,2,3,4]\n",
    "\n",
    "next(l)"
   ]
  },
  {
   "cell_type": "code",
   "execution_count": 102,
   "id": "813795e0",
   "metadata": {},
   "outputs": [],
   "source": [
    "l = iter(l)"
   ]
  },
  {
   "cell_type": "code",
   "execution_count": 103,
   "id": "200d3461",
   "metadata": {},
   "outputs": [
    {
     "data": {
      "text/plain": [
       "1"
      ]
     },
     "execution_count": 103,
     "metadata": {},
     "output_type": "execute_result"
    }
   ],
   "source": [
    "next(l)"
   ]
  },
  {
   "cell_type": "code",
   "execution_count": 104,
   "id": "0179df81",
   "metadata": {},
   "outputs": [
    {
     "data": {
      "text/plain": [
       "2"
      ]
     },
     "execution_count": 104,
     "metadata": {},
     "output_type": "execute_result"
    }
   ],
   "source": [
    "next(l)"
   ]
  },
  {
   "cell_type": "code",
   "execution_count": 105,
   "id": "500bf433",
   "metadata": {
    "scrolled": true
   },
   "outputs": [
    {
     "data": {
      "text/plain": [
       "3"
      ]
     },
     "execution_count": 105,
     "metadata": {},
     "output_type": "execute_result"
    }
   ],
   "source": [
    "next(l)"
   ]
  },
  {
   "cell_type": "markdown",
   "id": "f848f103",
   "metadata": {},
   "source": [
    "<h3 style=\"color:#4e2abd;\">\n",
    "Iterables are not Iterators (Support Traversing one by one).<br><br>\n",
    "Iterators are Iterators (Support Traversing one by one )\n",
    "</h3>"
   ]
  },
  {
   "cell_type": "code",
   "execution_count": 106,
   "id": "47db87f4",
   "metadata": {},
   "outputs": [
    {
     "ename": "TypeError",
     "evalue": "'list' object is not an iterator",
     "output_type": "error",
     "traceback": [
      "\u001b[0;31m---------------------------------------------------------------------------\u001b[0m",
      "\u001b[0;31mTypeError\u001b[0m                                 Traceback (most recent call last)",
      "Cell \u001b[0;32mIn [106], line 3\u001b[0m\n\u001b[1;32m      1\u001b[0m l \u001b[38;5;241m=\u001b[39m [\u001b[38;5;241m1\u001b[39m,\u001b[38;5;241m2\u001b[39m,\u001b[38;5;241m3\u001b[39m]\n\u001b[0;32m----> 3\u001b[0m \u001b[38;5;28;43mnext\u001b[39;49m\u001b[43m(\u001b[49m\u001b[43ml\u001b[49m\u001b[43m)\u001b[49m\n",
      "\u001b[0;31mTypeError\u001b[0m: 'list' object is not an iterator"
     ]
    }
   ],
   "source": [
    "l = [1,2,3]\n",
    "\n",
    "next(l)"
   ]
  },
  {
   "cell_type": "code",
   "execution_count": 107,
   "id": "7048289b",
   "metadata": {},
   "outputs": [
    {
     "data": {
      "text/plain": [
       "1"
      ]
     },
     "execution_count": 107,
     "metadata": {},
     "output_type": "execute_result"
    }
   ],
   "source": [
    "l = iter(l)\n",
    "next(l)"
   ]
  },
  {
   "cell_type": "markdown",
   "id": "f290b249",
   "metadata": {},
   "source": [
    "# Note iterator are stored single iteration at a time"
   ]
  },
  {
   "cell_type": "markdown",
   "id": "1369f7c5",
   "metadata": {},
   "source": [
    "## Example"
   ]
  },
  {
   "cell_type": "code",
   "execution_count": 7,
   "id": "115f1760",
   "metadata": {},
   "outputs": [
    {
     "name": "stdout",
     "output_type": "stream",
     "text": [
      "1 140613733400816\n",
      "2 140613733400848\n",
      "3 140613733400880\n"
     ]
    }
   ],
   "source": [
    "l = [1,2,3]\n",
    "\n",
    "for i in l:\n",
    "    print(i,id(i))\n",
    "    "
   ]
  },
  {
   "cell_type": "code",
   "execution_count": 8,
   "id": "c3cc6636",
   "metadata": {},
   "outputs": [
    {
     "name": "stdout",
     "output_type": "stream",
     "text": [
      "3\n"
     ]
    }
   ],
   "source": [
    "print(i)"
   ]
  },
  {
   "cell_type": "markdown",
   "id": "2d0324ef",
   "metadata": {},
   "source": [
    "## here i stored 3 values \n",
    "## its same like as reassign the values means previous value are also stored in Memory"
   ]
  },
  {
   "cell_type": "markdown",
   "id": "ef52b5e9",
   "metadata": {},
   "source": [
    "# Example"
   ]
  },
  {
   "cell_type": "code",
   "execution_count": 9,
   "id": "a76629ef",
   "metadata": {},
   "outputs": [
    {
     "name": "stdout",
     "output_type": "stream",
     "text": [
      "1 140613733400816\n",
      "2 140613733400848\n",
      "3 140613733400880\n"
     ]
    }
   ],
   "source": [
    "i = 1\n",
    "print(i,id(i))\n",
    "\n",
    "i = 2\n",
    "print(i,id(i))\n",
    "\n",
    "i = 3\n",
    "print(i,id(i))\n"
   ]
  },
  {
   "cell_type": "code",
   "execution_count": 10,
   "id": "5ccd43bc",
   "metadata": {},
   "outputs": [
    {
     "name": "stdout",
     "output_type": "stream",
     "text": [
      "3\n"
     ]
    }
   ],
   "source": [
    "print(i)"
   ]
  },
  {
   "cell_type": "markdown",
   "id": "df6d1c1d",
   "metadata": {},
   "source": [
    "## if we are used iterator then iterator remove previous value in Memory"
   ]
  },
  {
   "cell_type": "markdown",
   "id": "91c32267",
   "metadata": {},
   "source": [
    "# Example"
   ]
  },
  {
   "cell_type": "code",
   "execution_count": 23,
   "id": "23b43df0",
   "metadata": {},
   "outputs": [
    {
     "name": "stdout",
     "output_type": "stream",
     "text": [
      "<class 'list_iterator'>\n"
     ]
    }
   ],
   "source": [
    "l = [1,2,3]\n",
    "\n",
    "gen = iter(l)\n",
    "print(type(gen))"
   ]
  },
  {
   "cell_type": "code",
   "execution_count": 24,
   "id": "bc0d71a2",
   "metadata": {},
   "outputs": [
    {
     "name": "stdout",
     "output_type": "stream",
     "text": [
      "1 140613733400816\n",
      "2 140613733400848\n",
      "3 140613733400880\n"
     ]
    }
   ],
   "source": [
    "for i in gen:\n",
    "    print(i,id(i))"
   ]
  },
  {
   "cell_type": "markdown",
   "id": "5f947d0b",
   "metadata": {},
   "source": [
    "## Previous Values are removed"
   ]
  },
  {
   "cell_type": "code",
   "execution_count": 32,
   "id": "119ffa81",
   "metadata": {},
   "outputs": [],
   "source": [
    "# loop not working\n",
    "for i in gen:\n",
    "    print(i,id(i))\n"
   ]
  },
  {
   "cell_type": "markdown",
   "id": "2223c0b2",
   "metadata": {},
   "source": [
    "# Example"
   ]
  },
  {
   "cell_type": "code",
   "execution_count": 38,
   "id": "62bc7421",
   "metadata": {},
   "outputs": [],
   "source": [
    "l = [1,2,3]\n",
    "gen = iter(l)"
   ]
  },
  {
   "cell_type": "code",
   "execution_count": 39,
   "id": "32099194",
   "metadata": {},
   "outputs": [
    {
     "data": {
      "text/plain": [
       "1"
      ]
     },
     "execution_count": 39,
     "metadata": {},
     "output_type": "execute_result"
    }
   ],
   "source": [
    "next(gen)"
   ]
  },
  {
   "cell_type": "code",
   "execution_count": 40,
   "id": "69fc3219",
   "metadata": {},
   "outputs": [
    {
     "data": {
      "text/plain": [
       "2"
      ]
     },
     "execution_count": 40,
     "metadata": {},
     "output_type": "execute_result"
    }
   ],
   "source": [
    "next(gen)"
   ]
  },
  {
   "cell_type": "code",
   "execution_count": 41,
   "id": "8278a7dc",
   "metadata": {},
   "outputs": [
    {
     "data": {
      "text/plain": [
       "3"
      ]
     },
     "execution_count": 41,
     "metadata": {},
     "output_type": "execute_result"
    }
   ],
   "source": [
    "next(gen)"
   ]
  },
  {
   "cell_type": "code",
   "execution_count": 42,
   "id": "bd3c00b8",
   "metadata": {},
   "outputs": [
    {
     "ename": "StopIteration",
     "evalue": "",
     "output_type": "error",
     "traceback": [
      "\u001b[0;31m---------------------------------------------------------------------------\u001b[0m",
      "\u001b[0;31mStopIteration\u001b[0m                             Traceback (most recent call last)",
      "Cell \u001b[0;32mIn [42], line 1\u001b[0m\n\u001b[0;32m----> 1\u001b[0m \u001b[38;5;28;43mnext\u001b[39;49m\u001b[43m(\u001b[49m\u001b[43mgen\u001b[49m\u001b[43m)\u001b[49m\n",
      "\u001b[0;31mStopIteration\u001b[0m: "
     ]
    }
   ],
   "source": [
    "next(gen)"
   ]
  }
 ],
 "metadata": {
  "kernelspec": {
   "display_name": "Python 3 (ipykernel)",
   "language": "python",
   "name": "python3"
  },
  "language_info": {
   "codemirror_mode": {
    "name": "ipython",
    "version": 3
   },
   "file_extension": ".py",
   "mimetype": "text/x-python",
   "name": "python",
   "nbconvert_exporter": "python",
   "pygments_lexer": "ipython3",
   "version": "3.10.6"
  }
 },
 "nbformat": 4,
 "nbformat_minor": 5
}

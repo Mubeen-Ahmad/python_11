{
 "cells": [
  {
   "cell_type": "markdown",
   "id": "e5314e7e",
   "metadata": {},
   "source": [
    "# A list is used to store the sequence of various types of data. \n",
    "\n",
    "<h3>\n",
    "• Lists are mutable type (Change Able) its mean we can modify its element after it created\n",
    "<br><br>\n",
    "• The items in the list are separated with the comma (,) and enclosed with the square brackets [].\n",
    "<br><br>\n",
    "• Indexing are Allowed<br><br>\n",
    "• List are Orderd<br><br>\n",
    "• Duplicate Values are allowed<br><br>\n",
    "• List are Dynamic\n",
    "\n",
    "\n",
    "\n",
    "\n",
    "</h3>"
   ]
  },
  {
   "cell_type": "markdown",
   "id": "23b2c5c0",
   "metadata": {},
   "source": [
    "# Difference Between List and Array\n",
    "\n",
    "<h2>List</h2>\n",
    "<h3>\n",
    "The list is an important component used to collect multiple items in a single variable. \n",
    "<br><br>It has the ability to collect items that usually consist of elements of multiple data types.<br><br>These may include character logical values, numeric values, and more.\n",
    "</h3><br><br>\n",
    "<h2>Array</h2>\n",
    "<h3>An array is also a vital component that collects several items. Arrays are also known as data structure.<br><br>Python has several in-built data structures, such as arrays.<br><br>Most Languages arrays are static but in python arrays are Dynamic \n",
    "</h3>"
   ]
  },
  {
   "cell_type": "markdown",
   "id": "e599c3b8",
   "metadata": {},
   "source": [
    "<table>\n",
    "    \n",
    "<td style=\"color:#5d2ade; font-size:30px;   text-align: center;\">List</td>\n",
    "      \n",
    "<td style=\"color:#d96518; font-size:30px;   text-align: center;\">Arrays</td>\n",
    "  \n",
    "</tr>\n",
    " <tr>\n",
    "\n",
    "<td style=\"color:#5d2ade; font-size:20px;\"><p>List is used to collect items that usually consist of elements of multiple data types.</p></td>\n",
    "      \n",
    "<td style=\"color:#d96518; font-size:20px;\"><p>An array is also a vital component that collects several items of the same data type.</p></td>\n",
    "  \n",
    "</tr>\n",
    " <tr>\n",
    "\n",
    "<td style=\"color:#5d2ade; font-size:20px;\"><p>List cannot manage arithmetic operations.<p>\n",
    "</td>\n",
    "      \n",
    "<td style=\"color:#d96518; font-size:20px;\"><p>Array can manage arithmetic operations.</p></td>\n",
    "</tr>\n",
    "\n",
    "<tr>\n",
    "\n",
    "<td style=\"color:#5d2ade; font-size:20px;\"><p>It consists of elements that belong to the different data types.<p>\n",
    "</td>\n",
    "      \n",
    "<td style=\"color:#d96518; font-size:20px;\"><p>It consists of elements that belong to the same data type.</p>\n",
    "    \n",
    "</td></tr>\n",
    "<tr>\n",
    "<td style=\"color:#5d2ade; font-size:20px;\"><p>When it comes to flexibility, the list is perfect as it allows easy modification of data.<p>\n",
    "</td>\n",
    "      \n",
    "<td style=\"color:#d96518; font-size:20px;\"><p>When it comes to flexibility, the array is not suitable as it does not allow easy modification of data.</p></td>\n",
    "\n",
    "</tr>\n",
    "\n",
    "<tr>\n",
    "<td style=\"color:#5d2ade; font-size:20px;\"><p>It consumes a larger memory.<p>\n",
    "</td>\n",
    "      \n",
    "<td style=\"color:#d96518; font-size:20px;\"><p>It consumes less memory than a list.</p></td>\n",
    "\n",
    "</tr>\n",
    "\n",
    " <tr>\n",
    "<td style=\"color:#5d2ade; font-size:20px;\"><p>In a list, the complete list can be accessed without any specific looping.<p>\n",
    "</td>\n",
    "      \n",
    "<td style=\"color:#d96518; font-size:20px;\"><p>In an array, a loop is mandatory to access the components of the array.</p></td>\n",
    "\n",
    "</tr>\n",
    "\n",
    " <tr>\n",
    "<td style=\"color:#5d2ade; font-size:20px;\"><p>It favors a shorter sequence of data.<p>\n",
    "</td>\n",
    "      \n",
    "<td style=\"color:#d96518; font-size:20px;\"><p>It favors a longer sequence of data.</p></td>\n",
    "\n",
    "</tr>\n",
    "\n",
    "\n",
    " <tr>\n",
    "<td style=\"color:#5d2ade; font-size:20px;\"><p>Lists are Hetrogenous means Multiples data types are allowed<p>\n",
    "</td>\n",
    "      \n",
    "<td style=\"color:#d96518; font-size:20px;\"><p>Arays are Homogenous means Only Single data types are allowed</p></td>\n",
    "\n",
    "</tr>\n",
    "\n",
    "</table>\n"
   ]
  },
  {
   "cell_type": "markdown",
   "id": "115e93d3",
   "metadata": {},
   "source": [
    "# Flow of arrays in Memory\n",
    "\n",
    "<h3>\n",
    "e.g in c language <br><br> int arr[50];<br><br> lets Assume that values of array is [1,2,3,4] \n",
    " <br><br>Inside the memory block \n",
    "    <div style=\"border:5px solid red; height:99px; width:600px; position:relative; margin: auto;\n",
    "  width: 50%;\n",
    "\">\n",
    "        <div style=\"background:orange; height:90px; width:80px; position:absolute; font-size:15px; text-align:center; line-height:90px;\" >binary of 1</div>\n",
    "        <div style=\"background:yellow; height:90px; width:80px;position:absolute; margin-left:85px;font-size:15px; text-align:center; line-height:90px;\" >binary of 2</div>\n",
    "        <div style=\"background:#ff8c9f; height:90px; width:80px;position:absolute; margin-left:170px;font-size:15px; text-align:center; line-height:90px;\" >binary of 3</div>\n",
    "        <div style=\"background:#279bd9; height:90px; width:80px;position:absolute; margin-left:255px;font-size:15px; text-align:center; line-height:90px;\" >binary of 4</div>\n",
    "</div>\n",
    "<br><br>\n",
    "\n",
    "And address of array is binary of 1\n",
    "                \n",
    "\n",
    "</h3>\n",
    "\n"
   ]
  },
  {
   "cell_type": "markdown",
   "id": "02fc7400",
   "metadata": {},
   "source": [
    "# Flow of Lists in Memory\n",
    "\n",
    "<h3>\n",
    "e.g in python language <br><br> l = [1,2,3]  \n",
    " <br><br>Inside the memory block first values are stored in different memory Locations<br><br>\n",
    "     <div style=\"border:5px solid red; height:99px; width:600px; position:relative; margin: auto;\n",
    "  width: 50%;\n",
    "\">\n",
    "        <div style=\"background:orange; height:90px; width:80px; position:absolute; font-size:15px; text-align:center; line-height:30px;\" >1 <br> Address 500</div>\n",
    "        <div style=\"background:yellow; height:90px; width:80px;position:absolute; margin-left:85px;font-size:15px; text-align:center; line-height:30px;\" >2<br> Address 600</div>\n",
    "        <div style=\"background:#ff8c9f; height:90px; width:80px;position:absolute; margin-left:170px;font-size:15px; text-align:center; line-height:30px;\" >3<br> Address 700</div>\n",
    "</div>\n",
    "<br><br>\n",
    "Now generate a separate block of list and Reference Values are Stored<br><br>\n",
    "<div style=\"border:5px solid green; height:99px; width:600px; position:relative; margin: auto;\n",
    "  width: 50%;\n",
    "\">\n",
    "  <div style=\"background:orange; height:90px; width:80px; position:absolute; font-size:15px; text-align:center; line-height:90px;\" >500</div>\n",
    "        <div style=\"background:yellow; height:90px; width:80px;position:absolute; margin-left:85px;font-size:15px; text-align:center; line-height:90px;\" >600</div>\n",
    "        <div style=\"background:#ff8c9f; height:90px; width:80px;position:absolute; margin-left:170px;font-size:15px; text-align:center; line-height:90px;\" >700</div>\n",
    "</div>           \n",
    "\n",
    "</h3>\n",
    "\n"
   ]
  },
  {
   "cell_type": "markdown",
   "id": "9f6297d9",
   "metadata": {},
   "source": [
    "# Example"
   ]
  },
  {
   "cell_type": "code",
   "execution_count": 4,
   "id": "8a03d244",
   "metadata": {},
   "outputs": [],
   "source": [
    "l = [1,2,3]"
   ]
  },
  {
   "cell_type": "code",
   "execution_count": 5,
   "id": "58b23d05",
   "metadata": {},
   "outputs": [
    {
     "data": {
      "text/plain": [
       "(140310685237488, 140310685237520, 140310685237552)"
      ]
     },
     "execution_count": 5,
     "metadata": {},
     "output_type": "execute_result"
    }
   ],
   "source": [
    "# check list items address\n",
    "\n",
    "id(l[0]) , id(l[1]), id(l[2])"
   ]
  },
  {
   "cell_type": "code",
   "execution_count": 7,
   "id": "c985d23b",
   "metadata": {},
   "outputs": [
    {
     "data": {
      "text/plain": [
       "(140310685237488, 140310685237520, 140310685237552)"
      ]
     },
     "execution_count": 7,
     "metadata": {},
     "output_type": "execute_result"
    }
   ],
   "source": [
    "# now check the address of 1 , 2 ,3\n",
    "\n",
    "id(1), id(2), id(3)\n",
    "\n",
    "# Address are match"
   ]
  },
  {
   "cell_type": "code",
   "execution_count": 11,
   "id": "2f7d668b",
   "metadata": {},
   "outputs": [
    {
     "name": "stdout",
     "output_type": "stream",
     "text": [
      "1\n",
      "2\n",
      "3\n"
     ]
    }
   ],
   "source": [
    "# now print the value with address\n",
    "\n",
    "import ctypes\n",
    "\n",
    "print(ctypes.cast(140310685237488, ctypes.py_object).value)\n",
    "print(ctypes.cast(140310685237520, ctypes.py_object).value)\n",
    "print(ctypes.cast(140310685237552, ctypes.py_object).value)\n"
   ]
  },
  {
   "cell_type": "markdown",
   "id": "37f2476d",
   "metadata": {},
   "source": [
    "# Create List"
   ]
  },
  {
   "cell_type": "code",
   "execution_count": 1,
   "id": "17e84c9c",
   "metadata": {},
   "outputs": [
    {
     "name": "stdout",
     "output_type": "stream",
     "text": [
      "[1, 2, 3] <class 'list'>\n"
     ]
    }
   ],
   "source": [
    "l = [1,2,3]\n",
    "print(l,type(l))"
   ]
  },
  {
   "cell_type": "code",
   "execution_count": 2,
   "id": "d5235e56",
   "metadata": {},
   "outputs": [
    {
     "name": "stdout",
     "output_type": "stream",
     "text": [
      "[1, 'a', 1.2, True] <class 'list'>\n"
     ]
    }
   ],
   "source": [
    "# allowed multiple datatypes\n",
    "\n",
    "l = [1,'a',1.2,True]\n",
    "print(l,type(l))"
   ]
  },
  {
   "cell_type": "markdown",
   "id": "6fee54eb",
   "metadata": {},
   "source": [
    "<h1> <a href=\"https://github.com/Mubeen-Ahmad/python_11/blob/main/Python/4_Strings/1_strings.ipynb\" target=\"_blank\">Indexing , Slicing , and skip Argument</a></h1>\n",
    "\n",
    "\n",
    "<h2>\n",
    "There is a same concept of string indexing, Slicing , Skip Argument in List<br><br>\n",
    "we also used negative indexing and slicing in List\n",
    "</h2>"
   ]
  },
  {
   "cell_type": "code",
   "execution_count": 3,
   "id": "4b4600e0",
   "metadata": {},
   "outputs": [
    {
     "name": "stdout",
     "output_type": "stream",
     "text": [
      "1\n",
      "2\n",
      "3\n"
     ]
    }
   ],
   "source": [
    "# indexing\n",
    "\n",
    "l = [1,2,3]\n",
    "\n",
    "print(l[0])\n",
    "print(l[1])\n",
    "print(l[-1])"
   ]
  },
  {
   "cell_type": "code",
   "execution_count": 4,
   "id": "d966b6f4",
   "metadata": {},
   "outputs": [
    {
     "name": "stdout",
     "output_type": "stream",
     "text": [
      "[1, 2, 3, 4, 5, 6, 7, 8, 9, 10]\n",
      "[1, 2, 3]\n",
      "[1, 2, 3, 4, 5, 6, 7, 8, 9]\n",
      "[6, 7, 8]\n",
      "[10, 9, 8, 7, 6, 5, 4, 3, 2, 1]\n"
     ]
    }
   ],
   "source": [
    "# slicing\n",
    "\n",
    "l = [1,2,3,4,5,6,7,8,9,10]\n",
    "\n",
    "print(l[0:])\n",
    "print(l[0:3])\n",
    "print(l[:-1])\n",
    "print(l[-5:-2])\n",
    "\n",
    "# reverse list\n",
    "print(l[::-1])"
   ]
  },
  {
   "cell_type": "code",
   "execution_count": 5,
   "id": "bc653488",
   "metadata": {},
   "outputs": [
    {
     "name": "stdout",
     "output_type": "stream",
     "text": [
      "[1, 3, 5, 7, 9]\n",
      "[2, 4, 6, 8, 10]\n"
     ]
    }
   ],
   "source": [
    "# skip argument\n",
    "\n",
    "print(l[::2])\n",
    "print(l[1::2])"
   ]
  },
  {
   "cell_type": "code",
   "execution_count": 6,
   "id": "5062a45b",
   "metadata": {},
   "outputs": [
    {
     "name": "stdout",
     "output_type": "stream",
     "text": [
      "[1, 4, 7, 10]\n"
     ]
    }
   ],
   "source": [
    "print(l[::3])"
   ]
  },
  {
   "cell_type": "markdown",
   "id": "f0a87eae",
   "metadata": {},
   "source": [
    "# list are Ordered"
   ]
  },
  {
   "cell_type": "code",
   "execution_count": 7,
   "id": "3050f75c",
   "metadata": {},
   "outputs": [
    {
     "name": "stdout",
     "output_type": "stream",
     "text": [
      "[5, 4, 3, 2, 1]\n"
     ]
    }
   ],
   "source": [
    "l = [5,4,3,2,1]\n",
    "print(l)"
   ]
  },
  {
   "cell_type": "code",
   "execution_count": 8,
   "id": "d907bc14",
   "metadata": {},
   "outputs": [
    {
     "name": "stdout",
     "output_type": "stream",
     "text": [
      "[1, 2, 3, 4, 5]\n"
     ]
    }
   ],
   "source": [
    "l = [1,2,3,4,5]\n",
    "print(l)"
   ]
  },
  {
   "cell_type": "markdown",
   "id": "cb8810c5",
   "metadata": {},
   "source": [
    "# Immutable (Change able)"
   ]
  },
  {
   "cell_type": "code",
   "execution_count": 9,
   "id": "c40bca52",
   "metadata": {},
   "outputs": [
    {
     "name": "stdout",
     "output_type": "stream",
     "text": [
      "['Mubeen', 'Ahmad'] 140317006818944\n"
     ]
    }
   ],
   "source": [
    "l = ['Mubeen',\"Ahmad\"]\n",
    "print(l,id(l))"
   ]
  },
  {
   "cell_type": "code",
   "execution_count": 10,
   "id": "00816bc6",
   "metadata": {},
   "outputs": [
    {
     "name": "stdout",
     "output_type": "stream",
     "text": [
      "['Ali', 'Ahmad'] 140317006818944\n"
     ]
    }
   ],
   "source": [
    "l[0] = \"Ali\"\n",
    "print(l,id(l))"
   ]
  },
  {
   "cell_type": "code",
   "execution_count": 11,
   "id": "fa64de89",
   "metadata": {},
   "outputs": [
    {
     "name": "stdout",
     "output_type": "stream",
     "text": [
      "['', 'Ahmad'] 140317006818944\n"
     ]
    }
   ],
   "source": [
    "l[0] = \"\"\n",
    "print(l,id(l))"
   ]
  },
  {
   "cell_type": "code",
   "execution_count": 12,
   "id": "9bad0458",
   "metadata": {},
   "outputs": [],
   "source": [
    "l1 = [1,2,3,4,5]\n",
    "l2 = [6,7,8,9,10]"
   ]
  },
  {
   "cell_type": "code",
   "execution_count": 13,
   "id": "e8d3725b",
   "metadata": {},
   "outputs": [],
   "source": [
    "l1[1:-1] = l2[1:-1]"
   ]
  },
  {
   "cell_type": "code",
   "execution_count": 14,
   "id": "f4cfca39",
   "metadata": {},
   "outputs": [
    {
     "data": {
      "text/plain": [
       "[1, 7, 8, 9, 5]"
      ]
     },
     "execution_count": 14,
     "metadata": {},
     "output_type": "execute_result"
    }
   ],
   "source": [
    "l1"
   ]
  },
  {
   "cell_type": "markdown",
   "id": "ee6a9796",
   "metadata": {},
   "source": [
    "# Type Conversion list"
   ]
  },
  {
   "cell_type": "code",
   "execution_count": 15,
   "id": "2f02b3d2",
   "metadata": {},
   "outputs": [
    {
     "name": "stdout",
     "output_type": "stream",
     "text": [
      "hello <class 'str'>\n"
     ]
    }
   ],
   "source": [
    "x = 'hello'\n",
    "print(x,type(x))"
   ]
  },
  {
   "cell_type": "code",
   "execution_count": 16,
   "id": "4d9386df",
   "metadata": {},
   "outputs": [
    {
     "name": "stdout",
     "output_type": "stream",
     "text": [
      "['h', 'e', 'l', 'l', 'o'] <class 'list'>\n"
     ]
    }
   ],
   "source": [
    "x = list(x)\n",
    "print(x,type(x))"
   ]
  },
  {
   "cell_type": "markdown",
   "id": "ecb33030",
   "metadata": {},
   "source": [
    "# Constructor list()"
   ]
  },
  {
   "cell_type": "code",
   "execution_count": 17,
   "id": "fbfb7606",
   "metadata": {},
   "outputs": [
    {
     "data": {
      "text/plain": [
       "[1, 2, 3]"
      ]
     },
     "execution_count": 17,
     "metadata": {},
     "output_type": "execute_result"
    }
   ],
   "source": [
    "x = list((1,2,3))\n",
    "x"
   ]
  },
  {
   "cell_type": "markdown",
   "id": "1f12f7a2",
   "metadata": {},
   "source": [
    "# Create Empty List"
   ]
  },
  {
   "cell_type": "code",
   "execution_count": 18,
   "id": "7505d00d",
   "metadata": {},
   "outputs": [
    {
     "name": "stdout",
     "output_type": "stream",
     "text": [
      "[] <class 'list'>\n"
     ]
    }
   ],
   "source": [
    "x = []\n",
    "print(x,type(x))"
   ]
  },
  {
   "cell_type": "code",
   "execution_count": 19,
   "id": "2c78c0c9",
   "metadata": {},
   "outputs": [
    {
     "name": "stdout",
     "output_type": "stream",
     "text": [
      "[] <class 'list'>\n"
     ]
    }
   ],
   "source": [
    "# with constructor\n",
    "\n",
    "x = list()\n",
    "print(x,type(x))"
   ]
  },
  {
   "cell_type": "markdown",
   "id": "2b968515",
   "metadata": {},
   "source": [
    "# Note ! Square Brackets are represent the List"
   ]
  },
  {
   "cell_type": "code",
   "execution_count": 20,
   "id": "2f9cc9ff",
   "metadata": {},
   "outputs": [
    {
     "data": {
      "text/plain": [
       "list"
      ]
     },
     "execution_count": 20,
     "metadata": {},
     "output_type": "execute_result"
    }
   ],
   "source": [
    "type([])"
   ]
  },
  {
   "cell_type": "markdown",
   "id": "c7c5d200",
   "metadata": {},
   "source": [
    "# Nesteds List"
   ]
  },
  {
   "cell_type": "code",
   "execution_count": 21,
   "id": "d9cf8779",
   "metadata": {},
   "outputs": [],
   "source": [
    "x = [1,2,['a','b'],['c','d',['e','f']]]"
   ]
  },
  {
   "cell_type": "code",
   "execution_count": 22,
   "id": "4fbab1fb",
   "metadata": {},
   "outputs": [
    {
     "data": {
      "text/plain": [
       "['a', 'b']"
      ]
     },
     "execution_count": 22,
     "metadata": {},
     "output_type": "execute_result"
    }
   ],
   "source": [
    "x[2]"
   ]
  },
  {
   "cell_type": "code",
   "execution_count": 23,
   "id": "15a6928d",
   "metadata": {},
   "outputs": [
    {
     "data": {
      "text/plain": [
       "['c', 'd', ['e', 'f']]"
      ]
     },
     "execution_count": 23,
     "metadata": {},
     "output_type": "execute_result"
    }
   ],
   "source": [
    "x[3]"
   ]
  },
  {
   "cell_type": "code",
   "execution_count": 24,
   "id": "5e12735b",
   "metadata": {},
   "outputs": [
    {
     "data": {
      "text/plain": [
       "['e', 'f']"
      ]
     },
     "execution_count": 24,
     "metadata": {},
     "output_type": "execute_result"
    }
   ],
   "source": [
    "x[3][2]"
   ]
  },
  {
   "cell_type": "markdown",
   "id": "ce5efd6c",
   "metadata": {},
   "source": [
    "# Unpacking List"
   ]
  },
  {
   "cell_type": "code",
   "execution_count": 25,
   "id": "ac28217b",
   "metadata": {},
   "outputs": [],
   "source": [
    "x = [1,2,3]"
   ]
  },
  {
   "cell_type": "code",
   "execution_count": 26,
   "id": "e02195bd",
   "metadata": {},
   "outputs": [],
   "source": [
    "v1,v2,v3 = x"
   ]
  },
  {
   "cell_type": "code",
   "execution_count": 27,
   "id": "53f3ddf5",
   "metadata": {},
   "outputs": [
    {
     "name": "stdout",
     "output_type": "stream",
     "text": [
      "1 2 3\n"
     ]
    }
   ],
   "source": [
    "print(v1,v2,v3)"
   ]
  },
  {
   "cell_type": "code",
   "execution_count": 28,
   "id": "08a82bce",
   "metadata": {},
   "outputs": [
    {
     "ename": "ValueError",
     "evalue": "too many values to unpack (expected 2)",
     "output_type": "error",
     "traceback": [
      "\u001b[0;31m---------------------------------------------------------------------------\u001b[0m",
      "\u001b[0;31mValueError\u001b[0m                                Traceback (most recent call last)",
      "Cell \u001b[0;32mIn [28], line 1\u001b[0m\n\u001b[0;32m----> 1\u001b[0m v1,v2 \u001b[38;5;241m=\u001b[39m x\n",
      "\u001b[0;31mValueError\u001b[0m: too many values to unpack (expected 2)"
     ]
    }
   ],
   "source": [
    "v1,v2 = x"
   ]
  },
  {
   "cell_type": "markdown",
   "id": "59c967f5",
   "metadata": {},
   "source": [
    "# Multi Unpacking"
   ]
  },
  {
   "cell_type": "code",
   "execution_count": 29,
   "id": "5834ff8c",
   "metadata": {},
   "outputs": [],
   "source": [
    "v1,*v2 = x"
   ]
  },
  {
   "cell_type": "code",
   "execution_count": 30,
   "id": "dc6f32c5",
   "metadata": {},
   "outputs": [
    {
     "name": "stdout",
     "output_type": "stream",
     "text": [
      "1 [2, 3]\n"
     ]
    }
   ],
   "source": [
    "print(v1,v2)"
   ]
  },
  {
   "cell_type": "markdown",
   "id": "c7c33e0b",
   "metadata": {},
   "source": [
    "# List also stored methods and function or object"
   ]
  },
  {
   "cell_type": "code",
   "execution_count": 20,
   "id": "2dbd482c",
   "metadata": {},
   "outputs": [],
   "source": [
    "l = [print,len,input]"
   ]
  },
  {
   "cell_type": "code",
   "execution_count": 21,
   "id": "7d71afba",
   "metadata": {},
   "outputs": [
    {
     "name": "stdout",
     "output_type": "stream",
     "text": [
      "Enter Your Name :- Mubeen\n"
     ]
    }
   ],
   "source": [
    "n = l[2](\"Enter Your Name :- \")"
   ]
  },
  {
   "cell_type": "code",
   "execution_count": 22,
   "id": "ccecbd6e",
   "metadata": {},
   "outputs": [
    {
     "name": "stdout",
     "output_type": "stream",
     "text": [
      "Mubeen\n"
     ]
    }
   ],
   "source": [
    "l[0](n)"
   ]
  },
  {
   "cell_type": "code",
   "execution_count": 23,
   "id": "4f06dc8d",
   "metadata": {},
   "outputs": [
    {
     "data": {
      "text/plain": [
       "6"
      ]
     },
     "execution_count": 23,
     "metadata": {},
     "output_type": "execute_result"
    }
   ],
   "source": [
    "l[1](n)"
   ]
  },
  {
   "cell_type": "markdown",
   "id": "7094a61b",
   "metadata": {},
   "source": [
    "# Methods\n",
    "\n",
    "<h2>\n",
    "There are 11 bulit-In Methods in list\n",
    "\n",
    "</h2>"
   ]
  },
  {
   "cell_type": "markdown",
   "id": "f3f23a43",
   "metadata": {},
   "source": [
    "<h2>• 1 append</h2>\n",
    "<h3>Append object to the end of the list</h3>"
   ]
  },
  {
   "cell_type": "code",
   "execution_count": 31,
   "id": "a9bc5ffb",
   "metadata": {},
   "outputs": [
    {
     "name": "stdout",
     "output_type": "stream",
     "text": [
      "['', 'Ahmad']\n"
     ]
    }
   ],
   "source": [
    "l1 = [1,2,3]\n",
    "print(l)"
   ]
  },
  {
   "cell_type": "code",
   "execution_count": 32,
   "id": "110c4b3b",
   "metadata": {},
   "outputs": [],
   "source": [
    "l1.append(4)"
   ]
  },
  {
   "cell_type": "code",
   "execution_count": 33,
   "id": "614c2073",
   "metadata": {},
   "outputs": [
    {
     "data": {
      "text/plain": [
       "[1, 2, 3, 4]"
      ]
     },
     "execution_count": 33,
     "metadata": {},
     "output_type": "execute_result"
    }
   ],
   "source": [
    "l1"
   ]
  },
  {
   "cell_type": "code",
   "execution_count": 34,
   "id": "2952aaed",
   "metadata": {},
   "outputs": [],
   "source": [
    "# adding list\n",
    "l1.append([5,6,7,8,9,10])"
   ]
  },
  {
   "cell_type": "code",
   "execution_count": 35,
   "id": "40d901b5",
   "metadata": {
    "scrolled": true
   },
   "outputs": [
    {
     "data": {
      "text/plain": [
       "[1, 2, 3, 4, [5, 6, 7, 8, 9, 10]]"
      ]
     },
     "execution_count": 35,
     "metadata": {},
     "output_type": "execute_result"
    }
   ],
   "source": [
    "l1"
   ]
  },
  {
   "cell_type": "markdown",
   "id": "dc162444",
   "metadata": {},
   "source": [
    "<h2>• 2 extend</h2>\n",
    "<h3>Extend list by appending elements from the iterable</h3>"
   ]
  },
  {
   "cell_type": "code",
   "execution_count": 36,
   "id": "4010df0b",
   "metadata": {},
   "outputs": [
    {
     "data": {
      "text/plain": [
       "[1, 2, 3]"
      ]
     },
     "execution_count": 36,
     "metadata": {},
     "output_type": "execute_result"
    }
   ],
   "source": [
    "l1 = [1,2,3]\n",
    "l1"
   ]
  },
  {
   "cell_type": "code",
   "execution_count": 37,
   "id": "d19fd5cb",
   "metadata": {},
   "outputs": [],
   "source": [
    "l1.extend([4,5,6,7])"
   ]
  },
  {
   "cell_type": "code",
   "execution_count": 38,
   "id": "2c5a51e1",
   "metadata": {},
   "outputs": [
    {
     "data": {
      "text/plain": [
       "[1, 2, 3, 4, 5, 6, 7]"
      ]
     },
     "execution_count": 38,
     "metadata": {},
     "output_type": "execute_result"
    }
   ],
   "source": [
    "l1"
   ]
  },
  {
   "cell_type": "markdown",
   "id": "2c8e63c6",
   "metadata": {},
   "source": [
    "# Difference in append and extend"
   ]
  },
  {
   "cell_type": "markdown",
   "id": "8702dea2",
   "metadata": {},
   "source": [
    "<h3>append take the object while extend take the iterable</h3>"
   ]
  },
  {
   "cell_type": "code",
   "execution_count": 39,
   "id": "1c4cd604",
   "metadata": {},
   "outputs": [
    {
     "data": {
      "text/plain": [
       "[1, 2, [3, 4, 5]]"
      ]
     },
     "execution_count": 39,
     "metadata": {},
     "output_type": "execute_result"
    }
   ],
   "source": [
    "l1 = [1,2]\n",
    "l1.append([3,4,5])\n",
    "l1"
   ]
  },
  {
   "cell_type": "code",
   "execution_count": 40,
   "id": "033c1ca8",
   "metadata": {},
   "outputs": [
    {
     "data": {
      "text/plain": [
       "[1, 2, 3, 4, 5]"
      ]
     },
     "execution_count": 40,
     "metadata": {},
     "output_type": "execute_result"
    }
   ],
   "source": [
    "l2 = [1,2]\n",
    "l2.extend([3,4,5])\n",
    "l2"
   ]
  },
  {
   "cell_type": "markdown",
   "id": "c4d48f57",
   "metadata": {},
   "source": [
    "<h2>• 3 insert</h2>\n",
    "<h3>Insert the value of specfic positon by index. first parameter are position and second is Value <br><br>value and position parameter are important"
   ]
  },
  {
   "cell_type": "code",
   "execution_count": 41,
   "id": "9d9ecf5a",
   "metadata": {},
   "outputs": [],
   "source": [
    "l1 = ['a','b','c']"
   ]
  },
  {
   "cell_type": "code",
   "execution_count": 42,
   "id": "f25bae4b",
   "metadata": {},
   "outputs": [],
   "source": [
    "value = 'x'\n",
    "pos = 1\n",
    "\n",
    "l1.insert(pos,value)"
   ]
  },
  {
   "cell_type": "code",
   "execution_count": 43,
   "id": "e7fa0865",
   "metadata": {},
   "outputs": [
    {
     "data": {
      "text/plain": [
       "['a', 'x', 'b', 'c']"
      ]
     },
     "execution_count": 43,
     "metadata": {},
     "output_type": "execute_result"
    }
   ],
   "source": [
    "l1"
   ]
  },
  {
   "cell_type": "code",
   "execution_count": 44,
   "id": "6dd919b4",
   "metadata": {},
   "outputs": [
    {
     "data": {
      "text/plain": [
       "[80, 'a', 'x', 'b', 'c']"
      ]
     },
     "execution_count": 44,
     "metadata": {},
     "output_type": "execute_result"
    }
   ],
   "source": [
    "l1.insert(0,80)\n",
    "l1"
   ]
  },
  {
   "cell_type": "markdown",
   "id": "35b06c12",
   "metadata": {},
   "source": [
    "<h3>insert method are not add the value at the Last</h3>"
   ]
  },
  {
   "cell_type": "code",
   "execution_count": 45,
   "id": "d941227c",
   "metadata": {},
   "outputs": [
    {
     "data": {
      "text/plain": [
       "[80, 'a', 'x', 'b', 100, 'c']"
      ]
     },
     "execution_count": 45,
     "metadata": {},
     "output_type": "execute_result"
    }
   ],
   "source": [
    "l1.insert(-1,100)\n",
    "l1"
   ]
  },
  {
   "cell_type": "code",
   "execution_count": 46,
   "id": "4410a567",
   "metadata": {},
   "outputs": [
    {
     "data": {
      "text/plain": [
       "[80, 'a', 'x', ['hello', 'World'], 'b', 100, 'c']"
      ]
     },
     "execution_count": 46,
     "metadata": {},
     "output_type": "execute_result"
    }
   ],
   "source": [
    "# add list\n",
    "l1.insert(3,['hello',\"World\"])\n",
    "l1"
   ]
  },
  {
   "cell_type": "markdown",
   "id": "d4b5cb7f",
   "metadata": {},
   "source": [
    "<h2>• 4 index</h2>\n",
    "<h3>Return index of value.<br><br>If the value are not found than they return the Error<br><br> start and end parameter are optional"
   ]
  },
  {
   "cell_type": "code",
   "execution_count": 49,
   "id": "efd1d608",
   "metadata": {},
   "outputs": [
    {
     "data": {
      "text/plain": [
       "2"
      ]
     },
     "execution_count": 49,
     "metadata": {},
     "output_type": "execute_result"
    }
   ],
   "source": [
    "l = ['a','b','c']\n",
    "\n",
    "l.index('c')"
   ]
  },
  {
   "cell_type": "code",
   "execution_count": 53,
   "id": "08f7986d",
   "metadata": {},
   "outputs": [
    {
     "data": {
      "text/plain": [
       "0"
      ]
     },
     "execution_count": 53,
     "metadata": {},
     "output_type": "execute_result"
    }
   ],
   "source": [
    "l.index('a')"
   ]
  },
  {
   "cell_type": "code",
   "execution_count": 56,
   "id": "1dd1c54c",
   "metadata": {},
   "outputs": [
    {
     "data": {
      "text/plain": [
       "1"
      ]
     },
     "execution_count": 56,
     "metadata": {},
     "output_type": "execute_result"
    }
   ],
   "source": [
    "l = ['a','b','b','b','c']\n",
    "l.index('b')"
   ]
  },
  {
   "cell_type": "code",
   "execution_count": 58,
   "id": "45b5b69a",
   "metadata": {},
   "outputs": [
    {
     "data": {
      "text/plain": [
       "2"
      ]
     },
     "execution_count": 58,
     "metadata": {},
     "output_type": "execute_result"
    }
   ],
   "source": [
    "# change start postion for find 2nd b\n",
    "\n",
    "start = 2\n",
    "l.index('b',start)"
   ]
  },
  {
   "cell_type": "code",
   "execution_count": 83,
   "id": "bac82394",
   "metadata": {},
   "outputs": [
    {
     "data": {
      "text/plain": [
       "1"
      ]
     },
     "execution_count": 83,
     "metadata": {},
     "output_type": "execute_result"
    }
   ],
   "source": [
    "l = ['c','y','y','y']\n",
    "l.index('y',0)"
   ]
  },
  {
   "cell_type": "code",
   "execution_count": 85,
   "id": "081b773d",
   "metadata": {},
   "outputs": [
    {
     "data": {
      "text/plain": [
       "2"
      ]
     },
     "execution_count": 85,
     "metadata": {},
     "output_type": "execute_result"
    }
   ],
   "source": [
    "# change end position\n",
    "l.index('y',2,3)"
   ]
  },
  {
   "cell_type": "code",
   "execution_count": 87,
   "id": "d721503e",
   "metadata": {},
   "outputs": [
    {
     "ename": "ValueError",
     "evalue": "'y' is not in list",
     "output_type": "error",
     "traceback": [
      "\u001b[0;31m---------------------------------------------------------------------------\u001b[0m",
      "\u001b[0;31mValueError\u001b[0m                                Traceback (most recent call last)",
      "Cell \u001b[0;32mIn [87], line 1\u001b[0m\n\u001b[0;32m----> 1\u001b[0m \u001b[43ml\u001b[49m\u001b[38;5;241;43m.\u001b[39;49m\u001b[43mindex\u001b[49m\u001b[43m(\u001b[49m\u001b[38;5;124;43m'\u001b[39;49m\u001b[38;5;124;43my\u001b[39;49m\u001b[38;5;124;43m'\u001b[39;49m\u001b[43m,\u001b[49m\u001b[38;5;241;43m3\u001b[39;49m\u001b[43m,\u001b[49m\u001b[38;5;241;43m3\u001b[39;49m\u001b[43m)\u001b[49m\n",
      "\u001b[0;31mValueError\u001b[0m: 'y' is not in list"
     ]
    }
   ],
   "source": [
    "# here y also in 3rd postion but i change end position that's why return the error\n",
    "\n",
    "l.index('y',3,3)"
   ]
  },
  {
   "cell_type": "code",
   "execution_count": 88,
   "id": "8fcc4ba2",
   "metadata": {},
   "outputs": [
    {
     "data": {
      "text/plain": [
       "3"
      ]
     },
     "execution_count": 88,
     "metadata": {},
     "output_type": "execute_result"
    }
   ],
   "source": [
    "# also used negative indexing\n",
    "\n",
    "l.index('y',-1)"
   ]
  },
  {
   "cell_type": "markdown",
   "id": "5d43a28c",
   "metadata": {},
   "source": [
    "<h2>• 5 count</h2>\n",
    "<h3>Return number of occurrences of value.</h3>"
   ]
  },
  {
   "cell_type": "code",
   "execution_count": 92,
   "id": "ef870298",
   "metadata": {},
   "outputs": [
    {
     "data": {
      "text/plain": [
       "2"
      ]
     },
     "execution_count": 92,
     "metadata": {},
     "output_type": "execute_result"
    }
   ],
   "source": [
    "l = ['a','b','d','t','d']\n",
    "l.count('d')"
   ]
  },
  {
   "cell_type": "code",
   "execution_count": 93,
   "id": "a5b90fb3",
   "metadata": {},
   "outputs": [
    {
     "data": {
      "text/plain": [
       "1"
      ]
     },
     "execution_count": 93,
     "metadata": {},
     "output_type": "execute_result"
    }
   ],
   "source": [
    "l.count('a')"
   ]
  },
  {
   "cell_type": "code",
   "execution_count": 94,
   "id": "017baa17",
   "metadata": {},
   "outputs": [
    {
     "data": {
      "text/plain": [
       "0"
      ]
     },
     "execution_count": 94,
     "metadata": {},
     "output_type": "execute_result"
    }
   ],
   "source": [
    "l.count(\"x\")"
   ]
  },
  {
   "cell_type": "markdown",
   "id": "42963755",
   "metadata": {},
   "source": [
    "<h2>• 6 remove</h2>\n",
    "<h3>Return number of occurrences of value.<br><br>Return Error if the value are not in list</h3>"
   ]
  },
  {
   "cell_type": "code",
   "execution_count": 95,
   "id": "d39a9bfc",
   "metadata": {},
   "outputs": [],
   "source": [
    "l = ['a','b','c','c']"
   ]
  },
  {
   "cell_type": "code",
   "execution_count": 96,
   "id": "f307fc75",
   "metadata": {},
   "outputs": [],
   "source": [
    "l.remove('c')"
   ]
  },
  {
   "cell_type": "code",
   "execution_count": 97,
   "id": "78591b4f",
   "metadata": {},
   "outputs": [
    {
     "data": {
      "text/plain": [
       "['a', 'b', 'c']"
      ]
     },
     "execution_count": 97,
     "metadata": {},
     "output_type": "execute_result"
    }
   ],
   "source": [
    "# remove only first c\n",
    "l"
   ]
  },
  {
   "cell_type": "code",
   "execution_count": 98,
   "id": "27b3e684",
   "metadata": {},
   "outputs": [],
   "source": [
    "l.remove('c')"
   ]
  },
  {
   "cell_type": "code",
   "execution_count": 99,
   "id": "53f8c6e6",
   "metadata": {},
   "outputs": [
    {
     "data": {
      "text/plain": [
       "['a', 'b']"
      ]
     },
     "execution_count": 99,
     "metadata": {},
     "output_type": "execute_result"
    }
   ],
   "source": [
    "l"
   ]
  },
  {
   "cell_type": "code",
   "execution_count": 100,
   "id": "9ab3ca75",
   "metadata": {},
   "outputs": [
    {
     "ename": "ValueError",
     "evalue": "list.remove(x): x not in list",
     "output_type": "error",
     "traceback": [
      "\u001b[0;31m---------------------------------------------------------------------------\u001b[0m",
      "\u001b[0;31mValueError\u001b[0m                                Traceback (most recent call last)",
      "Cell \u001b[0;32mIn [100], line 1\u001b[0m\n\u001b[0;32m----> 1\u001b[0m \u001b[43ml\u001b[49m\u001b[38;5;241;43m.\u001b[39;49m\u001b[43mremove\u001b[49m\u001b[43m(\u001b[49m\u001b[38;5;124;43m'\u001b[39;49m\u001b[38;5;124;43mx\u001b[39;49m\u001b[38;5;124;43m'\u001b[39;49m\u001b[43m)\u001b[49m\n",
      "\u001b[0;31mValueError\u001b[0m: list.remove(x): x not in list"
     ]
    }
   ],
   "source": [
    "l.remove('x')"
   ]
  },
  {
   "cell_type": "markdown",
   "id": "c25489bb",
   "metadata": {},
   "source": [
    "<h2>• 7 pop</h2>\n",
    "<h3>Remove and return item at index . <br><br>if we dont take the index then they remove and return the value</h3>"
   ]
  },
  {
   "cell_type": "code",
   "execution_count": 112,
   "id": "7126ee7f",
   "metadata": {},
   "outputs": [],
   "source": [
    "l = ['a','b','c']"
   ]
  },
  {
   "cell_type": "code",
   "execution_count": 113,
   "id": "fc32ea55",
   "metadata": {},
   "outputs": [
    {
     "data": {
      "text/plain": [
       "'a'"
      ]
     },
     "execution_count": 113,
     "metadata": {},
     "output_type": "execute_result"
    }
   ],
   "source": [
    "# a  are remove and they return the removed value\n",
    "l.pop(0)"
   ]
  },
  {
   "cell_type": "code",
   "execution_count": 114,
   "id": "bea7a102",
   "metadata": {},
   "outputs": [
    {
     "data": {
      "text/plain": [
       "['b', 'c']"
      ]
     },
     "execution_count": 114,
     "metadata": {},
     "output_type": "execute_result"
    }
   ],
   "source": [
    "l"
   ]
  },
  {
   "cell_type": "code",
   "execution_count": 115,
   "id": "f048a50b",
   "metadata": {},
   "outputs": [
    {
     "data": {
      "text/plain": [
       "'c'"
      ]
     },
     "execution_count": 115,
     "metadata": {},
     "output_type": "execute_result"
    }
   ],
   "source": [
    "# last value are removed\n",
    "l.pop()"
   ]
  },
  {
   "cell_type": "code",
   "execution_count": 116,
   "id": "763655ce",
   "metadata": {},
   "outputs": [
    {
     "data": {
      "text/plain": [
       "['b']"
      ]
     },
     "execution_count": 116,
     "metadata": {},
     "output_type": "execute_result"
    }
   ],
   "source": [
    "l"
   ]
  },
  {
   "cell_type": "markdown",
   "id": "f8452522",
   "metadata": {},
   "source": [
    "<h2>• 8 copy</h2>\n",
    "<h3>Return a shallow copy of the list.</h3>"
   ]
  },
  {
   "cell_type": "code",
   "execution_count": 117,
   "id": "f1479cea",
   "metadata": {},
   "outputs": [],
   "source": [
    "l = ['x','y','z']"
   ]
  },
  {
   "cell_type": "code",
   "execution_count": 118,
   "id": "4d481411",
   "metadata": {},
   "outputs": [],
   "source": [
    "l2 = l.copy()"
   ]
  },
  {
   "cell_type": "code",
   "execution_count": 119,
   "id": "3ecbcedc",
   "metadata": {},
   "outputs": [
    {
     "data": {
      "text/plain": [
       "['x', 'y', 'z']"
      ]
     },
     "execution_count": 119,
     "metadata": {},
     "output_type": "execute_result"
    }
   ],
   "source": [
    "l2"
   ]
  },
  {
   "cell_type": "code",
   "execution_count": 120,
   "id": "4ef75407",
   "metadata": {},
   "outputs": [
    {
     "data": {
      "text/plain": [
       "(140316485631232, 140316485212992)"
      ]
     },
     "execution_count": 120,
     "metadata": {},
     "output_type": "execute_result"
    }
   ],
   "source": [
    "# both add address are different\n",
    "id(l),id(l2)"
   ]
  },
  {
   "cell_type": "markdown",
   "id": "f64935a4",
   "metadata": {},
   "source": [
    "<h3>Why we used copy method if we are using = assignment to other variable ?</h3>"
   ]
  },
  {
   "cell_type": "code",
   "execution_count": 121,
   "id": "376b563b",
   "metadata": {},
   "outputs": [],
   "source": [
    "l = ['a','b']\n",
    "l2 = l"
   ]
  },
  {
   "cell_type": "code",
   "execution_count": 122,
   "id": "02e9f42e",
   "metadata": {},
   "outputs": [
    {
     "data": {
      "text/plain": [
       "(140316485713280, 140316485713280)"
      ]
     },
     "execution_count": 122,
     "metadata": {},
     "output_type": "execute_result"
    }
   ],
   "source": [
    "id(l),id(l2)"
   ]
  },
  {
   "cell_type": "markdown",
   "id": "8b9d80e8",
   "metadata": {},
   "source": [
    "<h3>Both address are same means if i changes in l2 than l also changed</h3>"
   ]
  },
  {
   "cell_type": "code",
   "execution_count": 123,
   "id": "2268fb1a",
   "metadata": {},
   "outputs": [
    {
     "data": {
      "text/plain": [
       "'b'"
      ]
     },
     "execution_count": 123,
     "metadata": {},
     "output_type": "execute_result"
    }
   ],
   "source": [
    "# e.g remove last b \n",
    "l2.pop()"
   ]
  },
  {
   "cell_type": "code",
   "execution_count": 124,
   "id": "afcab309",
   "metadata": {},
   "outputs": [
    {
     "data": {
      "text/plain": [
       "['a']"
      ]
     },
     "execution_count": 124,
     "metadata": {},
     "output_type": "execute_result"
    }
   ],
   "source": [
    "# see l also change \n",
    "l"
   ]
  },
  {
   "cell_type": "code",
   "execution_count": 125,
   "id": "fde3b03e",
   "metadata": {},
   "outputs": [],
   "source": [
    "l = [1,2,3]\n",
    "l2 = l.copy()"
   ]
  },
  {
   "cell_type": "code",
   "execution_count": 126,
   "id": "e58dfbc6",
   "metadata": {},
   "outputs": [
    {
     "data": {
      "text/plain": [
       "3"
      ]
     },
     "execution_count": 126,
     "metadata": {},
     "output_type": "execute_result"
    }
   ],
   "source": [
    "# lets changes in l2\n",
    "l2.pop()\n",
    "# 3 are remove in l2"
   ]
  },
  {
   "cell_type": "code",
   "execution_count": 128,
   "id": "10636f35",
   "metadata": {},
   "outputs": [
    {
     "data": {
      "text/plain": [
       "[1, 2]"
      ]
     },
     "execution_count": 128,
     "metadata": {},
     "output_type": "execute_result"
    }
   ],
   "source": [
    "l2"
   ]
  },
  {
   "cell_type": "code",
   "execution_count": 130,
   "id": "9430f85b",
   "metadata": {},
   "outputs": [
    {
     "data": {
      "text/plain": [
       "[1, 2, 3]"
      ]
     },
     "execution_count": 130,
     "metadata": {},
     "output_type": "execute_result"
    }
   ],
   "source": [
    "# lets check l\n",
    "l\n",
    "\n",
    "# so thats why we are used copy method"
   ]
  },
  {
   "cell_type": "markdown",
   "id": "76eae5e8",
   "metadata": {},
   "source": [
    "<h2>• 9 reverse</h2>\n",
    "<h3>Reverse the list</h3>"
   ]
  },
  {
   "cell_type": "code",
   "execution_count": 132,
   "id": "9f5d889b",
   "metadata": {},
   "outputs": [
    {
     "data": {
      "text/plain": [
       "[1, 2, 3]"
      ]
     },
     "execution_count": 132,
     "metadata": {},
     "output_type": "execute_result"
    }
   ],
   "source": [
    "l = [1,2,3]\n",
    "l"
   ]
  },
  {
   "cell_type": "code",
   "execution_count": 137,
   "id": "c5dbcfe6",
   "metadata": {},
   "outputs": [],
   "source": [
    "l.reverse()"
   ]
  },
  {
   "cell_type": "code",
   "execution_count": 138,
   "id": "23729cac",
   "metadata": {},
   "outputs": [
    {
     "data": {
      "text/plain": [
       "[3, 2, 1]"
      ]
     },
     "execution_count": 138,
     "metadata": {},
     "output_type": "execute_result"
    }
   ],
   "source": [
    "l"
   ]
  },
  {
   "cell_type": "markdown",
   "id": "ae420781",
   "metadata": {},
   "source": [
    "<h2>• 10 clear</h2>\n",
    "<h3>Remove all items from list.</h3>"
   ]
  },
  {
   "cell_type": "code",
   "execution_count": 141,
   "id": "dbf655bc",
   "metadata": {},
   "outputs": [
    {
     "data": {
      "text/plain": [
       "[1, 2, 3, 4, 5, 6]"
      ]
     },
     "execution_count": 141,
     "metadata": {},
     "output_type": "execute_result"
    }
   ],
   "source": [
    "l = [1,2,3,4,5,6]\n",
    "l"
   ]
  },
  {
   "cell_type": "code",
   "execution_count": 143,
   "id": "683a37a4",
   "metadata": {},
   "outputs": [],
   "source": [
    "l.clear()"
   ]
  },
  {
   "cell_type": "code",
   "execution_count": 144,
   "id": "7869b9b2",
   "metadata": {},
   "outputs": [
    {
     "data": {
      "text/plain": [
       "[]"
      ]
     },
     "execution_count": 144,
     "metadata": {},
     "output_type": "execute_result"
    }
   ],
   "source": [
    "# now list are empty \n",
    "l"
   ]
  },
  {
   "cell_type": "markdown",
   "id": "8321f7f2",
   "metadata": {},
   "source": [
    "<h2>• 11 sort</h2>\n",
    "<h3>Sort the list in ascending order and return None.<br><br>key and reverse parameter are optional and in default reverse is false</h3>"
   ]
  },
  {
   "cell_type": "code",
   "execution_count": 152,
   "id": "6252671a",
   "metadata": {},
   "outputs": [
    {
     "data": {
      "text/plain": [
       "[5, 3, 1, 4, 2]"
      ]
     },
     "execution_count": 152,
     "metadata": {},
     "output_type": "execute_result"
    }
   ],
   "source": [
    "l = [5,3,1,4,2]\n",
    "l"
   ]
  },
  {
   "cell_type": "code",
   "execution_count": 153,
   "id": "a119200a",
   "metadata": {},
   "outputs": [],
   "source": [
    "l.sort()"
   ]
  },
  {
   "cell_type": "code",
   "execution_count": 155,
   "id": "7566d9c6",
   "metadata": {},
   "outputs": [
    {
     "data": {
      "text/plain": [
       "[1, 2, 3, 4, 5]"
      ]
     },
     "execution_count": 155,
     "metadata": {},
     "output_type": "execute_result"
    }
   ],
   "source": [
    "# now list are sorted\n",
    "l"
   ]
  },
  {
   "cell_type": "code",
   "execution_count": 156,
   "id": "8523f754",
   "metadata": {},
   "outputs": [
    {
     "data": {
      "text/plain": [
       "['b', 'c', 'a']"
      ]
     },
     "execution_count": 156,
     "metadata": {},
     "output_type": "execute_result"
    }
   ],
   "source": [
    "l = ['b','c','a']\n",
    "l"
   ]
  },
  {
   "cell_type": "code",
   "execution_count": 158,
   "id": "dae7c9c1",
   "metadata": {},
   "outputs": [
    {
     "data": {
      "text/plain": [
       "['a', 'b', 'c']"
      ]
     },
     "execution_count": 158,
     "metadata": {},
     "output_type": "execute_result"
    }
   ],
   "source": [
    "l.sort()\n",
    "l"
   ]
  },
  {
   "cell_type": "code",
   "execution_count": 159,
   "id": "75eb93de",
   "metadata": {},
   "outputs": [
    {
     "data": {
      "text/plain": [
       "['b', 'a', 'c']"
      ]
     },
     "execution_count": 159,
     "metadata": {},
     "output_type": "execute_result"
    }
   ],
   "source": [
    "# reverse true parameter\n",
    "\n",
    "l = ['b','a','c']\n",
    "l"
   ]
  },
  {
   "cell_type": "code",
   "execution_count": 160,
   "id": "148b946c",
   "metadata": {},
   "outputs": [
    {
     "data": {
      "text/plain": [
       "['c', 'b', 'a']"
      ]
     },
     "execution_count": 160,
     "metadata": {},
     "output_type": "execute_result"
    }
   ],
   "source": [
    "# list are sorted in reverse order\n",
    "l.sort(reverse=True)\n",
    "l"
   ]
  },
  {
   "cell_type": "code",
   "execution_count": 168,
   "id": "c3a1c680",
   "metadata": {},
   "outputs": [
    {
     "data": {
      "text/plain": [
       "['12345', '1234', '1']"
      ]
     },
     "execution_count": 168,
     "metadata": {},
     "output_type": "execute_result"
    }
   ],
   "source": [
    "# key parameter\n",
    "# we are used own function in key parameter\n",
    "\n",
    "l = [\"12345\",'1234','1']\n",
    "l"
   ]
  },
  {
   "cell_type": "code",
   "execution_count": 170,
   "id": "b4407985",
   "metadata": {},
   "outputs": [
    {
     "data": {
      "text/plain": [
       "['1', '1234', '12345']"
      ]
     },
     "execution_count": 170,
     "metadata": {},
     "output_type": "execute_result"
    }
   ],
   "source": [
    "# now sort the list length wise\n",
    "l.sort(key=len)\n",
    "l"
   ]
  },
  {
   "cell_type": "code",
   "execution_count": 171,
   "id": "8906fe4a",
   "metadata": {},
   "outputs": [
    {
     "data": {
      "text/plain": [
       "['12345', '1234', '1']"
      ]
     },
     "execution_count": 171,
     "metadata": {},
     "output_type": "execute_result"
    }
   ],
   "source": [
    "l = [\"12345\",'1234','1']\n",
    "l"
   ]
  },
  {
   "cell_type": "code",
   "execution_count": 185,
   "id": "29e21672",
   "metadata": {},
   "outputs": [],
   "source": [
    "def minimun(lst):\n",
    "    return min(lst)"
   ]
  },
  {
   "cell_type": "code",
   "execution_count": 186,
   "id": "c6914ddb",
   "metadata": {},
   "outputs": [
    {
     "data": {
      "text/plain": [
       "['1', '1234', '12345']"
      ]
     },
     "execution_count": 186,
     "metadata": {},
     "output_type": "execute_result"
    }
   ],
   "source": [
    "# sort list minimum wise\n",
    "l.sort(key=minimun)\n",
    "l"
   ]
  },
  {
   "cell_type": "markdown",
   "id": "0e0d5fc8",
   "metadata": {},
   "source": [
    "# List Interning\n",
    "\n",
    "<h3>Python are not intern the list means same objects consider as a new object</h3>"
   ]
  },
  {
   "cell_type": "code",
   "execution_count": 4,
   "id": "e23679b0",
   "metadata": {},
   "outputs": [
    {
     "name": "stdout",
     "output_type": "stream",
     "text": [
      "139982350416384\n",
      "139982350409600\n"
     ]
    }
   ],
   "source": [
    "y = [1,2]\n",
    "x = [1,2]\n",
    "\n",
    "print(id(x))\n",
    "print(id(y))"
   ]
  },
  {
   "cell_type": "markdown",
   "id": "a1e65d9c",
   "metadata": {},
   "source": [
    "<h3>But elements of lists are interned</h3>"
   ]
  },
  {
   "cell_type": "code",
   "execution_count": 7,
   "id": "8bd3abdf",
   "metadata": {},
   "outputs": [
    {
     "name": "stdout",
     "output_type": "stream",
     "text": [
      "139982403601904\n",
      "139982403601904\n",
      "139982403391856\n"
     ]
    }
   ],
   "source": [
    "l = [\"a\",\"a\",\"v\"]\n",
    "\n",
    "print(id(l[0]))\n",
    "print(id(l[1]))\n",
    "print(id(l[2]))"
   ]
  },
  {
   "cell_type": "code",
   "execution_count": 8,
   "id": "6acb5363",
   "metadata": {},
   "outputs": [
    {
     "name": "stdout",
     "output_type": "stream",
     "text": [
      "139982404681968\n",
      "139982404681968\n",
      "139982404681936\n"
     ]
    }
   ],
   "source": [
    "l = [1,1,0]\n",
    "\n",
    "print(id(l[0]))\n",
    "print(id(l[1]))\n",
    "print(id(l[2]))"
   ]
  },
  {
   "cell_type": "markdown",
   "id": "2f06e33d",
   "metadata": {},
   "source": [
    "<h3>Refference of lists are interned</h3>"
   ]
  },
  {
   "cell_type": "code",
   "execution_count": 10,
   "id": "08fd61c9",
   "metadata": {},
   "outputs": [
    {
     "name": "stdout",
     "output_type": "stream",
     "text": [
      "139982350619776\n",
      "139982350619776\n"
     ]
    }
   ],
   "source": [
    "l = [1]\n",
    "x = l\n",
    "\n",
    "print(id(l))\n",
    "print(id(x))"
   ]
  },
  {
   "cell_type": "markdown",
   "id": "7c651138",
   "metadata": {},
   "source": [
    "<h3 style=\"color:#4e2abd;\">Use of List Operators</h3>"
   ]
  },
  {
   "cell_type": "markdown",
   "id": "4e541c0f",
   "metadata": {},
   "source": [
    "<h3 style=\"color:#f21852;\">• Concatenation</h3>"
   ]
  },
  {
   "cell_type": "code",
   "execution_count": 2,
   "id": "c3f4fd8f",
   "metadata": {},
   "outputs": [
    {
     "name": "stdout",
     "output_type": "stream",
     "text": [
      "[1, 2, 3, 4, 5, 6]\n"
     ]
    }
   ],
   "source": [
    "l1 = [1,2,3]\n",
    "l2 = [4,5,6]\n",
    "\n",
    "print(l1+l2)"
   ]
  },
  {
   "cell_type": "markdown",
   "id": "95e9210a",
   "metadata": {},
   "source": [
    "<h3 style=\"color:#f21852;\">• Repetition</h3>"
   ]
  },
  {
   "cell_type": "code",
   "execution_count": 3,
   "id": "f5d55f5f",
   "metadata": {},
   "outputs": [
    {
     "data": {
      "text/plain": [
       "[1, 2, 3, 1, 2, 3, 1, 2, 3, 1, 2, 3, 1, 2, 3]"
      ]
     },
     "execution_count": 3,
     "metadata": {},
     "output_type": "execute_result"
    }
   ],
   "source": [
    "l1 = [1,2,3]\n",
    "\n",
    "l1 * 5"
   ]
  },
  {
   "cell_type": "markdown",
   "id": "b28f969b",
   "metadata": {},
   "source": [
    "<h3 style=\"color:#f21852;\">• Comparison</h3>"
   ]
  },
  {
   "cell_type": "code",
   "execution_count": 4,
   "id": "51eed7ee",
   "metadata": {},
   "outputs": [
    {
     "data": {
      "text/plain": [
       "True"
      ]
     },
     "execution_count": 4,
     "metadata": {},
     "output_type": "execute_result"
    }
   ],
   "source": [
    "# equal\n",
    "[1,2] == [1,2] "
   ]
  },
  {
   "cell_type": "code",
   "execution_count": 5,
   "id": "60480779",
   "metadata": {},
   "outputs": [
    {
     "data": {
      "text/plain": [
       "False"
      ]
     },
     "execution_count": 5,
     "metadata": {},
     "output_type": "execute_result"
    }
   ],
   "source": [
    "# not equal\n",
    "[1,2] != [1,2] "
   ]
  },
  {
   "cell_type": "code",
   "execution_count": 12,
   "id": "18183831",
   "metadata": {},
   "outputs": [
    {
     "data": {
      "text/plain": [
       "True"
      ]
     },
     "execution_count": 12,
     "metadata": {},
     "output_type": "execute_result"
    }
   ],
   "source": [
    "# greater than\n",
    "[1,2] > [1,0] "
   ]
  },
  {
   "cell_type": "code",
   "execution_count": 16,
   "id": "0505a0e5",
   "metadata": {},
   "outputs": [
    {
     "data": {
      "text/plain": [
       "True"
      ]
     },
     "execution_count": 16,
     "metadata": {},
     "output_type": "execute_result"
    }
   ],
   "source": [
    "# greater than and equal\n",
    "[1,2] >= [1,2] "
   ]
  },
  {
   "cell_type": "code",
   "execution_count": 17,
   "id": "0dea3fa0",
   "metadata": {},
   "outputs": [
    {
     "data": {
      "text/plain": [
       "True"
      ]
     },
     "execution_count": 17,
     "metadata": {},
     "output_type": "execute_result"
    }
   ],
   "source": [
    "# shorter than\n",
    "[0,0] < [1,0] "
   ]
  },
  {
   "cell_type": "code",
   "execution_count": 27,
   "id": "a6a3af29",
   "metadata": {},
   "outputs": [
    {
     "data": {
      "text/plain": [
       "True"
      ]
     },
     "execution_count": 27,
     "metadata": {},
     "output_type": "execute_result"
    }
   ],
   "source": [
    "# shorter than equal\n",
    "[0,0] <= [0,0] "
   ]
  },
  {
   "cell_type": "markdown",
   "id": "b2b3acf5",
   "metadata": {},
   "source": [
    "<h3 style=\"color:#f21852;\">• Membership</h3>"
   ]
  },
  {
   "cell_type": "code",
   "execution_count": 28,
   "id": "c2ad05ec",
   "metadata": {},
   "outputs": [
    {
     "data": {
      "text/plain": [
       "True"
      ]
     },
     "execution_count": 28,
     "metadata": {},
     "output_type": "execute_result"
    }
   ],
   "source": [
    "# in \n",
    "\n",
    "3 in [1,2,3,4]"
   ]
  },
  {
   "cell_type": "code",
   "execution_count": 31,
   "id": "30dbf8a1",
   "metadata": {},
   "outputs": [
    {
     "data": {
      "text/plain": [
       "False"
      ]
     },
     "execution_count": 31,
     "metadata": {},
     "output_type": "execute_result"
    }
   ],
   "source": [
    "# not in \n",
    "\n",
    "3 not in [1,2,3,4]"
   ]
  }
 ],
 "metadata": {
  "kernelspec": {
   "display_name": "Python 3 (ipykernel)",
   "language": "python",
   "name": "python3"
  },
  "language_info": {
   "codemirror_mode": {
    "name": "ipython",
    "version": 3
   },
   "file_extension": ".py",
   "mimetype": "text/x-python",
   "name": "python",
   "nbconvert_exporter": "python",
   "pygments_lexer": "ipython3",
   "version": "3.10.6"
  }
 },
 "nbformat": 4,
 "nbformat_minor": 5
}

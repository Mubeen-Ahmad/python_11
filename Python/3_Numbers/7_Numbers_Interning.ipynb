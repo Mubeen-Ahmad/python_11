{
 "cells": [
  {
   "cell_type": "markdown",
   "id": "343e1854",
   "metadata": {},
   "source": [
    "# Number Interning\n",
    "<h3>\n",
    "Interning is an optimization technique by making global cache of particular objects in memory as they are instantiated. It is basically reusing objects on-demand.<br><br><p>\n",
    "Standard implementation of Python (C Python) pre-loads (caches) a global list of integers in the range from -5 to 256.<br><br>Any time an integer is referenced in this range Python does not create new one but uses the cached version. This is known as integer interning.</p>\n",
    "\n",
    "</h3>"
   ]
  },
  {
   "cell_type": "markdown",
   "id": "31cecaeb",
   "metadata": {},
   "source": [
    "<h3 style=\"color:#4e2abd;\">1) If two variables values are same in range -5 to 256. than python don't create a new variable in memory </h3>"
   ]
  },
  {
   "cell_type": "code",
   "execution_count": 14,
   "id": "9d34ac62",
   "metadata": {},
   "outputs": [
    {
     "name": "stdout",
     "output_type": "stream",
     "text": [
      "140192818979024\n",
      "140192818979024\n"
     ]
    }
   ],
   "source": [
    "x = 256\n",
    "y = 256\n",
    "\n",
    "print(id(x))\n",
    "print(id(y))"
   ]
  },
  {
   "cell_type": "code",
   "execution_count": 15,
   "id": "649ae3f3",
   "metadata": {},
   "outputs": [
    {
     "name": "stdout",
     "output_type": "stream",
     "text": [
      "140192818970672\n",
      "140192818970672\n"
     ]
    }
   ],
   "source": [
    "x = -5\n",
    "y = -5\n",
    "\n",
    "print(id(x))\n",
    "print(id(y))"
   ]
  },
  {
   "cell_type": "markdown",
   "id": "de609717",
   "metadata": {},
   "source": [
    "<h3 style=\"color:#4e2abd;\">2) If both values are not in range -5 to 256 than python create a new variable </h3>"
   ]
  },
  {
   "cell_type": "code",
   "execution_count": 16,
   "id": "e9931d56",
   "metadata": {},
   "outputs": [
    {
     "name": "stdout",
     "output_type": "stream",
     "text": [
      "140192767400144\n",
      "140192767408560\n"
     ]
    }
   ],
   "source": [
    "x = 257\n",
    "y = 257\n",
    "\n",
    "print(id(x))\n",
    "print(id(y))"
   ]
  },
  {
   "cell_type": "code",
   "execution_count": 18,
   "id": "12769e9a",
   "metadata": {},
   "outputs": [
    {
     "name": "stdout",
     "output_type": "stream",
     "text": [
      "140192767408624\n",
      "140192767408592\n"
     ]
    }
   ],
   "source": [
    "x = -6\n",
    "y = -6\n",
    "\n",
    "print(id(x))\n",
    "print(id(y))"
   ]
  },
  {
   "cell_type": "markdown",
   "id": "dd0b6f3b",
   "metadata": {},
   "source": [
    "<h3 style=\"color:#4e2abd;\">3) Boolean Data types also treated with int (0,1) </h3>"
   ]
  },
  {
   "cell_type": "code",
   "execution_count": 35,
   "id": "4fe227a7",
   "metadata": {},
   "outputs": [
    {
     "name": "stdout",
     "output_type": "stream",
     "text": [
      "94272428573728\n",
      "94272428573728\n"
     ]
    }
   ],
   "source": [
    "c = True\n",
    "d = True\n",
    "\n",
    "print(id(c))\n",
    "print(id(d))"
   ]
  },
  {
   "cell_type": "code",
   "execution_count": 36,
   "id": "6b5585fb",
   "metadata": {},
   "outputs": [
    {
     "name": "stdout",
     "output_type": "stream",
     "text": [
      "94272428573696\n",
      "94272428573696\n"
     ]
    }
   ],
   "source": [
    "c = False\n",
    "d = False\n",
    "\n",
    "print(id(c))\n",
    "print(id(d))"
   ]
  },
  {
   "cell_type": "code",
   "execution_count": 37,
   "id": "de6a0f45",
   "metadata": {},
   "outputs": [
    {
     "name": "stdout",
     "output_type": "stream",
     "text": [
      "94272428573728\n",
      "94272428573696\n"
     ]
    }
   ],
   "source": [
    "c = True\n",
    "d = False\n",
    "\n",
    "print(id(c))\n",
    "print(id(d))"
   ]
  }
 ],
 "metadata": {
  "kernelspec": {
   "display_name": "Python 3 (ipykernel)",
   "language": "python",
   "name": "python3"
  },
  "language_info": {
   "codemirror_mode": {
    "name": "ipython",
    "version": 3
   },
   "file_extension": ".py",
   "mimetype": "text/x-python",
   "name": "python",
   "nbconvert_exporter": "python",
   "pygments_lexer": "ipython3",
   "version": "3.10.6"
  }
 },
 "nbformat": 4,
 "nbformat_minor": 5
}

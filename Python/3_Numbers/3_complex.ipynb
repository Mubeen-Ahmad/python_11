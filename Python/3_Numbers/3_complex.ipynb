{
 "cells": [
  {
   "cell_type": "markdown",
   "id": "bfd8d71a",
   "metadata": {},
   "source": [
    "# Complex Number\n",
    "<h3>\n",
    "Complex numbers are created from two real numbers.<br><br>It is written in the form of (x + yj) where x and y are real numbers <br><br>and j is an imaginary number which is the square root of -1.</h3>\n",
    "\n",
    "<h3>\n",
    "<i>real:</i> <br><br>It is a required input and it denotes the real part of the complex number. <br>By default, it is 0. It can also be represented as a string like this ‘1+1j’ and in that case, the second part will be omitted.\n",
    "\n",
    "imag: It is an optional part and it denotes the imaginary part of the complex number. By default, it is 0.\n",
    "\n",
    "</h3>"
   ]
  },
  {
   "cell_type": "code",
   "execution_count": 1,
   "id": "81f3fbba",
   "metadata": {},
   "outputs": [
    {
     "name": "stdout",
     "output_type": "stream",
     "text": [
      "(1+1j) <class 'complex'>\n"
     ]
    }
   ],
   "source": [
    "x = 1+1j\n",
    "print(x,type(x))"
   ]
  },
  {
   "cell_type": "code",
   "execution_count": 2,
   "id": "02abb9c0",
   "metadata": {},
   "outputs": [
    {
     "name": "stdout",
     "output_type": "stream",
     "text": [
      "(1-1j) <class 'complex'>\n"
     ]
    }
   ],
   "source": [
    "x = 1-1j\n",
    "print(x,type(x))"
   ]
  },
  {
   "cell_type": "code",
   "execution_count": 3,
   "id": "f6b63cb4",
   "metadata": {},
   "outputs": [
    {
     "name": "stdout",
     "output_type": "stream",
     "text": [
      "1j <class 'complex'>\n"
     ]
    }
   ],
   "source": [
    "x = 1j\n",
    "print(x,type(x))"
   ]
  },
  {
   "cell_type": "markdown",
   "id": "085bfdad",
   "metadata": {},
   "source": [
    "# Extract real and imaginary "
   ]
  },
  {
   "cell_type": "code",
   "execution_count": 4,
   "id": "fa59146b",
   "metadata": {},
   "outputs": [
    {
     "name": "stdout",
     "output_type": "stream",
     "text": [
      "5.0\n"
     ]
    }
   ],
   "source": [
    "x = 5+9j\n",
    "\n",
    "print(x.real)"
   ]
  },
  {
   "cell_type": "code",
   "execution_count": 5,
   "id": "06719c48",
   "metadata": {},
   "outputs": [
    {
     "name": "stdout",
     "output_type": "stream",
     "text": [
      "9.0\n"
     ]
    }
   ],
   "source": [
    "print(x.imag)"
   ]
  },
  {
   "cell_type": "markdown",
   "id": "ea74587c",
   "metadata": {},
   "source": [
    "# Complex function (complex Conservation)"
   ]
  },
  {
   "cell_type": "code",
   "execution_count": 7,
   "id": "294c8232",
   "metadata": {},
   "outputs": [
    {
     "data": {
      "text/plain": [
       "(1+0j)"
      ]
     },
     "execution_count": 7,
     "metadata": {},
     "output_type": "execute_result"
    }
   ],
   "source": [
    "complex(1)"
   ]
  },
  {
   "cell_type": "code",
   "execution_count": 8,
   "id": "881df75c",
   "metadata": {},
   "outputs": [
    {
     "data": {
      "text/plain": [
       "(2+0j)"
      ]
     },
     "execution_count": 8,
     "metadata": {},
     "output_type": "execute_result"
    }
   ],
   "source": [
    "complex(\"2\")"
   ]
  },
  {
   "cell_type": "code",
   "execution_count": 9,
   "id": "70a3715a",
   "metadata": {},
   "outputs": [
    {
     "data": {
      "text/plain": [
       "(-2+0j)"
      ]
     },
     "execution_count": 9,
     "metadata": {},
     "output_type": "execute_result"
    }
   ],
   "source": [
    "complex(\"-2\")"
   ]
  },
  {
   "cell_type": "code",
   "execution_count": 10,
   "id": "df27cb1d",
   "metadata": {},
   "outputs": [
    {
     "data": {
      "text/plain": [
       "(2+18j)"
      ]
     },
     "execution_count": 10,
     "metadata": {},
     "output_type": "execute_result"
    }
   ],
   "source": [
    "complex(\"2+18j\")"
   ]
  },
  {
   "cell_type": "code",
   "execution_count": 11,
   "id": "1578973d",
   "metadata": {},
   "outputs": [
    {
     "data": {
      "text/plain": [
       "'6519j'"
      ]
     },
     "execution_count": 11,
     "metadata": {},
     "output_type": "execute_result"
    }
   ],
   "source": [
    "r = \"65\"\n",
    "im = \"19j\"\n",
    "\n",
    "r+im"
   ]
  },
  {
   "cell_type": "code",
   "execution_count": 12,
   "id": "c1233356",
   "metadata": {},
   "outputs": [
    {
     "data": {
      "text/plain": [
       "(65+19j)"
      ]
     },
     "execution_count": 12,
     "metadata": {},
     "output_type": "execute_result"
    }
   ],
   "source": [
    "int(r)+complex(im)"
   ]
  },
  {
   "cell_type": "code",
   "execution_count": 13,
   "id": "47567e90",
   "metadata": {},
   "outputs": [
    {
     "data": {
      "text/plain": [
       "(65+19j)"
      ]
     },
     "execution_count": 13,
     "metadata": {},
     "output_type": "execute_result"
    }
   ],
   "source": [
    "float(r)+complex(im)"
   ]
  },
  {
   "cell_type": "code",
   "execution_count": 14,
   "id": "09326ffe",
   "metadata": {},
   "outputs": [
    {
     "data": {
      "text/plain": [
       "(65+19j)"
      ]
     },
     "execution_count": 14,
     "metadata": {},
     "output_type": "execute_result"
    }
   ],
   "source": [
    "complex(r)+complex(im)"
   ]
  },
  {
   "cell_type": "markdown",
   "id": "93d1be9e",
   "metadata": {},
   "source": [
    "# complex constructor"
   ]
  },
  {
   "cell_type": "code",
   "execution_count": 15,
   "id": "babec838",
   "metadata": {},
   "outputs": [],
   "source": [
    "x = complex()"
   ]
  },
  {
   "cell_type": "code",
   "execution_count": 17,
   "id": "fa0db589",
   "metadata": {},
   "outputs": [
    {
     "name": "stdout",
     "output_type": "stream",
     "text": [
      "0j <class 'complex'>\n"
     ]
    }
   ],
   "source": [
    "print(x,type(x))"
   ]
  }
 ],
 "metadata": {
  "kernelspec": {
   "display_name": "Python 3 (ipykernel)",
   "language": "python",
   "name": "python3"
  },
  "language_info": {
   "codemirror_mode": {
    "name": "ipython",
    "version": 3
   },
   "file_extension": ".py",
   "mimetype": "text/x-python",
   "name": "python",
   "nbconvert_exporter": "python",
   "pygments_lexer": "ipython3",
   "version": "3.10.6"
  }
 },
 "nbformat": 4,
 "nbformat_minor": 5
}

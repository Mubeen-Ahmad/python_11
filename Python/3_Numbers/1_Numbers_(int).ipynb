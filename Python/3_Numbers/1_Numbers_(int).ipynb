{
 "cells": [
  {
   "cell_type": "markdown",
   "id": "dee7df8d",
   "metadata": {},
   "source": [
    "# Numbers\n",
    "\n",
    "<h2>Python has three built-in numeric data types<br><br>\n",
    "Integers<br>\n",
    "Float<br>\n",
    "Complex<br>\n",
    "Boolean\n",
    "</h2>\n"
   ]
  },
  {
   "cell_type": "markdown",
   "id": "175eec5f",
   "metadata": {},
   "source": [
    "# Integers\n",
    "\n",
    "<h3>An integer is a whole number with no decimal places. For example, 1 is an integer, but 1.0 isn’t. </h3>"
   ]
  },
  {
   "cell_type": "code",
   "execution_count": 1,
   "id": "5ab3e99c",
   "metadata": {},
   "outputs": [
    {
     "name": "stdout",
     "output_type": "stream",
     "text": [
      "4\n"
     ]
    }
   ],
   "source": [
    "print(1+3)"
   ]
  },
  {
   "cell_type": "code",
   "execution_count": 2,
   "id": "51ca579a",
   "metadata": {},
   "outputs": [
    {
     "name": "stdout",
     "output_type": "stream",
     "text": [
      "90\n"
     ]
    }
   ],
   "source": [
    "print(86+4)"
   ]
  },
  {
   "cell_type": "markdown",
   "id": "ad0325a4",
   "metadata": {},
   "source": [
    "<h2>type() is the Bulit-in Function to return the data type:</h2>"
   ]
  },
  {
   "cell_type": "code",
   "execution_count": 3,
   "id": "9d041850",
   "metadata": {},
   "outputs": [
    {
     "data": {
      "text/plain": [
       "int"
      ]
     },
     "execution_count": 3,
     "metadata": {},
     "output_type": "execute_result"
    }
   ],
   "source": [
    "type(3)"
   ]
  },
  {
   "cell_type": "code",
   "execution_count": 4,
   "id": "d62a1a26",
   "metadata": {},
   "outputs": [
    {
     "data": {
      "text/plain": [
       "int"
      ]
     },
     "execution_count": 4,
     "metadata": {},
     "output_type": "execute_result"
    }
   ],
   "source": [
    "type(23)"
   ]
  },
  {
   "cell_type": "markdown",
   "id": "bb7570dd",
   "metadata": {},
   "source": [
    "# Maximum Value of integer"
   ]
  },
  {
   "cell_type": "code",
   "execution_count": 17,
   "id": "642d4a07",
   "metadata": {
    "scrolled": false
   },
   "outputs": [
    {
     "name": "stdout",
     "output_type": "stream",
     "text": [
      "inf\n"
     ]
    }
   ],
   "source": [
    "# 1 * 10^308 limit\n",
    "print(1e309)"
   ]
  },
  {
   "cell_type": "markdown",
   "id": "a979bac8",
   "metadata": {},
   "source": [
    "<h2 style=\"color:blue;\">Note in int single value of 0 are not allowed</h2>"
   ]
  },
  {
   "cell_type": "code",
   "execution_count": 34,
   "id": "cb997b43",
   "metadata": {},
   "outputs": [],
   "source": [
    "x = 0"
   ]
  },
  {
   "cell_type": "code",
   "execution_count": 43,
   "id": "277f97d3",
   "metadata": {},
   "outputs": [
    {
     "ename": "SyntaxError",
     "evalue": "leading zeros in decimal integer literals are not permitted; use an 0o prefix for octal integers (3580730495.py, line 1)",
     "output_type": "error",
     "traceback": [
      "\u001b[0;36m  Cell \u001b[0;32mIn [43], line 1\u001b[0;36m\u001b[0m\n\u001b[0;31m    x = 01\u001b[0m\n\u001b[0m        ^\u001b[0m\n\u001b[0;31mSyntaxError\u001b[0m\u001b[0;31m:\u001b[0m leading zeros in decimal integer literals are not permitted; use an 0o prefix for octal integers\n"
     ]
    }
   ],
   "source": [
    "x = 01"
   ]
  },
  {
   "cell_type": "markdown",
   "id": "89cf12e5",
   "metadata": {},
   "source": [
    "<h2>Use prefix octal hexa and binary</h2>"
   ]
  },
  {
   "cell_type": "code",
   "execution_count": 45,
   "id": "780578e7",
   "metadata": {},
   "outputs": [
    {
     "data": {
      "text/plain": [
       "0"
      ]
     },
     "execution_count": 45,
     "metadata": {},
     "output_type": "execute_result"
    }
   ],
   "source": [
    "# hexadecimal\n",
    "x = 0x0\n",
    "x"
   ]
  },
  {
   "cell_type": "code",
   "execution_count": 47,
   "id": "f668f30c",
   "metadata": {},
   "outputs": [
    {
     "data": {
      "text/plain": [
       "0"
      ]
     },
     "execution_count": 47,
     "metadata": {},
     "output_type": "execute_result"
    }
   ],
   "source": [
    "# binary\n",
    "x = 0b0\n",
    "x"
   ]
  },
  {
   "cell_type": "code",
   "execution_count": 52,
   "id": "96434eb7",
   "metadata": {},
   "outputs": [
    {
     "data": {
      "text/plain": [
       "0"
      ]
     },
     "execution_count": 52,
     "metadata": {},
     "output_type": "execute_result"
    }
   ],
   "source": [
    "# octal\n",
    "x = 0o0\n",
    "x"
   ]
  },
  {
   "cell_type": "markdown",
   "id": "e1bf97b4",
   "metadata": {},
   "source": [
    "# integer literals"
   ]
  },
  {
   "cell_type": "markdown",
   "id": "5cc75273",
   "metadata": {},
   "source": [
    "<h2>• Binary Literals</h2>"
   ]
  },
  {
   "cell_type": "code",
   "execution_count": 4,
   "id": "c56a0717",
   "metadata": {},
   "outputs": [
    {
     "name": "stdout",
     "output_type": "stream",
     "text": [
      "20 <class 'int'>\n"
     ]
    }
   ],
   "source": [
    "a = 0b10100\n",
    "print(a,type(a))"
   ]
  },
  {
   "cell_type": "markdown",
   "id": "d6a7574d",
   "metadata": {},
   "source": [
    "<h2>• Decimal Literal</h2>"
   ]
  },
  {
   "cell_type": "code",
   "execution_count": 3,
   "id": "6f0d58eb",
   "metadata": {},
   "outputs": [
    {
     "name": "stdout",
     "output_type": "stream",
     "text": [
      "30 <class 'int'>\n"
     ]
    }
   ],
   "source": [
    "x = 30\n",
    "print(x,type(x))"
   ]
  },
  {
   "cell_type": "markdown",
   "id": "dd09fd31",
   "metadata": {},
   "source": [
    "<h2>• Octal Literal</h2>"
   ]
  },
  {
   "cell_type": "code",
   "execution_count": 5,
   "id": "b285c39b",
   "metadata": {},
   "outputs": [
    {
     "name": "stdout",
     "output_type": "stream",
     "text": [
      "208 <class 'int'>\n"
     ]
    }
   ],
   "source": [
    "c = 0o320\n",
    "print(c,type(c))"
   ]
  },
  {
   "cell_type": "markdown",
   "id": "392e8eab",
   "metadata": {},
   "source": [
    "<h2>• Hexadecimal Literal</h2>"
   ]
  },
  {
   "cell_type": "code",
   "execution_count": 6,
   "id": "f89bb95f",
   "metadata": {},
   "outputs": [
    {
     "name": "stdout",
     "output_type": "stream",
     "text": [
      "299 <class 'int'>\n"
     ]
    }
   ],
   "source": [
    "d = 0x12b\n",
    "print(d,type(d))"
   ]
  },
  {
   "cell_type": "markdown",
   "id": "43c73e15",
   "metadata": {},
   "source": [
    "# Built-in Function for integers"
   ]
  },
  {
   "cell_type": "code",
   "execution_count": 56,
   "id": "6d657641",
   "metadata": {},
   "outputs": [
    {
     "name": "stdout",
     "output_type": "stream",
     "text": [
      "<class 'str'>\n",
      "<class 'int'>\n"
     ]
    }
   ],
   "source": [
    "# int --> convert in integer\n",
    "\n",
    "x = \"10\"\n",
    "print(type(x))\n",
    "\n",
    "x = int(x)\n",
    "print(type(x))"
   ]
  },
  {
   "cell_type": "code",
   "execution_count": 62,
   "id": "5c8db809",
   "metadata": {},
   "outputs": [
    {
     "name": "stdout",
     "output_type": "stream",
     "text": [
      "<class 'int'> 10\n",
      "<class 'str'> 0b1010\n"
     ]
    }
   ],
   "source": [
    "# bin --> convert in binary\n",
    "\n",
    "x = 10\n",
    "print(type(x),x)\n",
    "\n",
    "x = bin(x)\n",
    "print(type(x),x)\n",
    "# binary return str data type"
   ]
  },
  {
   "cell_type": "code",
   "execution_count": 67,
   "id": "96a1ec3f",
   "metadata": {},
   "outputs": [
    {
     "name": "stdout",
     "output_type": "stream",
     "text": [
      "<class 'int'> 10\n",
      "<class 'str'> 0xa\n"
     ]
    }
   ],
   "source": [
    "# hex --> convert in hexadecimal\n",
    "\n",
    "x = 10\n",
    "print(type(x),x)\n",
    "\n",
    "x = hex(x)\n",
    "print(type(x),x)\n",
    "# hexadecimal return str data type"
   ]
  },
  {
   "cell_type": "code",
   "execution_count": 68,
   "id": "8673a385",
   "metadata": {},
   "outputs": [
    {
     "name": "stdout",
     "output_type": "stream",
     "text": [
      "<class 'int'> 10\n",
      "<class 'str'> 0o12\n"
     ]
    }
   ],
   "source": [
    "# oct --> convert in octal\n",
    "\n",
    "x = 10\n",
    "print(type(x),x)\n",
    "\n",
    "x = oct(x)\n",
    "print(type(x),x)\n",
    "# octal return str data type"
   ]
  },
  {
   "cell_type": "markdown",
   "id": "add45672",
   "metadata": {},
   "source": [
    "# int Constructor"
   ]
  },
  {
   "cell_type": "code",
   "execution_count": 6,
   "id": "0f562aac",
   "metadata": {},
   "outputs": [],
   "source": [
    "x = int()"
   ]
  },
  {
   "cell_type": "code",
   "execution_count": 9,
   "id": "a2c54ecc",
   "metadata": {},
   "outputs": [
    {
     "name": "stdout",
     "output_type": "stream",
     "text": [
      "0 <class 'int'>\n"
     ]
    }
   ],
   "source": [
    "print(x,type(x))"
   ]
  }
 ],
 "metadata": {
  "kernelspec": {
   "display_name": "Python 3 (ipykernel)",
   "language": "python",
   "name": "python3"
  },
  "language_info": {
   "codemirror_mode": {
    "name": "ipython",
    "version": 3
   },
   "file_extension": ".py",
   "mimetype": "text/x-python",
   "name": "python",
   "nbconvert_exporter": "python",
   "pygments_lexer": "ipython3",
   "version": "3.10.6"
  }
 },
 "nbformat": 4,
 "nbformat_minor": 5
}

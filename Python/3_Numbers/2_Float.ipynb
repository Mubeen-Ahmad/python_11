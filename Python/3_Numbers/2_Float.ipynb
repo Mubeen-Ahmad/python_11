{
 "cells": [
  {
   "cell_type": "markdown",
   "id": "81968cc5",
   "metadata": {},
   "source": [
    "# Float Numbers\n",
    "\n",
    "<h2>The float type in Python represents the floating point number.\n",
    "<br><br>Float is used to represent real numbers and is written with a decimal point dividing the integer and fractional parts. <br><br>\n",
    "For example, 97.98, 32.3+e18, -32.54e100 all are floating point numbers.</h2>"
   ]
  },
  {
   "cell_type": "code",
   "execution_count": 1,
   "id": "7de2c157",
   "metadata": {},
   "outputs": [
    {
     "name": "stdout",
     "output_type": "stream",
     "text": [
      "1.7\n"
     ]
    }
   ],
   "source": [
    "print(1.7)"
   ]
  },
  {
   "cell_type": "markdown",
   "id": "62e387c6",
   "metadata": {},
   "source": [
    "<h3>Maximum Float Number</h3>"
   ]
  },
  {
   "cell_type": "code",
   "execution_count": 4,
   "id": "68f385a5",
   "metadata": {},
   "outputs": [
    {
     "name": "stdout",
     "output_type": "stream",
     "text": [
      "1.7e+308 inf\n"
     ]
    }
   ],
   "source": [
    "print(1.7e308,1.7e309)"
   ]
  },
  {
   "cell_type": "code",
   "execution_count": 5,
   "id": "a61524db",
   "metadata": {},
   "outputs": [
    {
     "name": "stdout",
     "output_type": "stream",
     "text": [
      "0.4\n"
     ]
    }
   ],
   "source": [
    "print(.4)"
   ]
  },
  {
   "cell_type": "code",
   "execution_count": 6,
   "id": "47452123",
   "metadata": {},
   "outputs": [
    {
     "name": "stdout",
     "output_type": "stream",
     "text": [
      "4.0\n"
     ]
    }
   ],
   "source": [
    "print(4.)"
   ]
  },
  {
   "cell_type": "code",
   "execution_count": 7,
   "id": "3de50513",
   "metadata": {},
   "outputs": [
    {
     "name": "stdout",
     "output_type": "stream",
     "text": [
      "4000000.0\n"
     ]
    }
   ],
   "source": [
    "print(.4e7)"
   ]
  },
  {
   "cell_type": "code",
   "execution_count": 13,
   "id": "1a7148fb",
   "metadata": {},
   "outputs": [
    {
     "name": "stdout",
     "output_type": "stream",
     "text": [
      "0.00042\n"
     ]
    }
   ],
   "source": [
    "print(4.2e-4)"
   ]
  },
  {
   "cell_type": "code",
   "execution_count": 11,
   "id": "5acd2d0e",
   "metadata": {},
   "outputs": [
    {
     "name": "stdout",
     "output_type": "stream",
     "text": [
      "42000.0\n"
     ]
    }
   ],
   "source": [
    "print(4.2e+4)"
   ]
  },
  {
   "cell_type": "markdown",
   "id": "78291013",
   "metadata": {},
   "source": [
    "# Field Width Specifiers"
   ]
  },
  {
   "cell_type": "code",
   "execution_count": 30,
   "id": "852fe4df",
   "metadata": {},
   "outputs": [],
   "source": [
    "x = 7.333"
   ]
  },
  {
   "cell_type": "code",
   "execution_count": 31,
   "id": "a60356ef",
   "metadata": {},
   "outputs": [
    {
     "name": "stdout",
     "output_type": "stream",
     "text": [
      "7.333000\n"
     ]
    }
   ],
   "source": [
    "print((\"%f\")%x)"
   ]
  },
  {
   "cell_type": "code",
   "execution_count": 32,
   "id": "9d7d88ff",
   "metadata": {},
   "outputs": [
    {
     "name": "stdout",
     "output_type": "stream",
     "text": [
      "7.3330\n"
     ]
    }
   ],
   "source": [
    "print((\"%.4f\")%x)"
   ]
  },
  {
   "cell_type": "code",
   "execution_count": 33,
   "id": "b14dc057",
   "metadata": {},
   "outputs": [
    {
     "name": "stdout",
     "output_type": "stream",
     "text": [
      "7.33\n"
     ]
    }
   ],
   "source": [
    "print((\"%.2f\")%x)"
   ]
  },
  {
   "cell_type": "code",
   "execution_count": 34,
   "id": "977ad5b8",
   "metadata": {},
   "outputs": [
    {
     "name": "stdout",
     "output_type": "stream",
     "text": [
      "7.3\n"
     ]
    }
   ],
   "source": [
    "print((\"%.1f\")%x)"
   ]
  },
  {
   "cell_type": "code",
   "execution_count": 37,
   "id": "3a50ea14",
   "metadata": {},
   "outputs": [
    {
     "name": "stdout",
     "output_type": "stream",
     "text": [
      "    7.33\n"
     ]
    }
   ],
   "source": [
    "print((\"%8.2f\")%x)"
   ]
  },
  {
   "cell_type": "code",
   "execution_count": 41,
   "id": "584d5fe5",
   "metadata": {},
   "outputs": [
    {
     "name": "stdout",
     "output_type": "stream",
     "text": [
      "spaces-->   7.3330\n"
     ]
    }
   ],
   "source": [
    "print(\"spaces-->\",(\"%8.4f\")%x)"
   ]
  },
  {
   "cell_type": "code",
   "execution_count": 47,
   "id": "845df77f",
   "metadata": {},
   "outputs": [
    {
     "name": "stdout",
     "output_type": "stream",
     "text": [
      "7.3330   <--spaces\n"
     ]
    }
   ],
   "source": [
    "print((\"%-8.4f\")%x,\"<--spaces\")"
   ]
  },
  {
   "cell_type": "code",
   "execution_count": 61,
   "id": "694ca3ff",
   "metadata": {},
   "outputs": [
    {
     "name": "stdout",
     "output_type": "stream",
     "text": [
      "%f    --->  7.33300\n",
      "%.4   --->  7.3330\n",
      "%8.4  --->  **7.3330\n",
      "%6.4  --->  7.3330\n",
      "%-8.4 --->  7.3330**\n"
     ]
    }
   ],
   "source": [
    "print(\"%f    --->  7.33300\")\n",
    "print(\"%.4   --->  7.3330\")\n",
    "print(\"%8.4  --->  **7.3330\")\n",
    "print(\"%6.4  --->  7.3330\")\n",
    "print(\"%-8.4 --->  7.3330**\")\n",
    "\n"
   ]
  },
  {
   "cell_type": "markdown",
   "id": "dd4d40d1",
   "metadata": {},
   "source": [
    "<h1>Scientific Notation Float</h1>\n",
    "\n",
    "<h2>\n",
    "Floats are always stored in numeric values. The values are never stored in the form of “scientific notation”. \n",
    "<br><br>\n",
    "if the number is greater than 1e-4 or less than 1e15, <br>it is represented in decimal form by REPL.<br>Otherwise, it’s represented in scientific form. \n",
    "\n",
    "</h2>"
   ]
  },
  {
   "cell_type": "code",
   "execution_count": 15,
   "id": "93b9e5f1",
   "metadata": {},
   "outputs": [
    {
     "name": "stdout",
     "output_type": "stream",
     "text": [
      "<class 'float'> 0.01\n"
     ]
    }
   ],
   "source": [
    "x = 0.01\n",
    "print(type(x), x)\n"
   ]
  },
  {
   "cell_type": "markdown",
   "id": "975f9e3a",
   "metadata": {},
   "source": [
    "<h2>1e-4</h2>"
   ]
  },
  {
   "cell_type": "code",
   "execution_count": 16,
   "id": "1eddeea7",
   "metadata": {},
   "outputs": [
    {
     "name": "stdout",
     "output_type": "stream",
     "text": [
      "<class 'float'> 0.0001\n"
     ]
    }
   ],
   "source": [
    "x = 1e-4\n",
    "print(type(x), x)"
   ]
  },
  {
   "cell_type": "markdown",
   "id": "6cfe6c5e",
   "metadata": {},
   "source": [
    "<h2>1e-5</h2>"
   ]
  },
  {
   "cell_type": "code",
   "execution_count": 17,
   "id": "ff922474",
   "metadata": {},
   "outputs": [
    {
     "name": "stdout",
     "output_type": "stream",
     "text": [
      "<class 'float'> 1e-05\n"
     ]
    }
   ],
   "source": [
    "x = 1e-5\n",
    "print(type(x), x)"
   ]
  },
  {
   "cell_type": "markdown",
   "id": "db748c57",
   "metadata": {},
   "source": [
    "<h2>1e15</h2>"
   ]
  },
  {
   "cell_type": "code",
   "execution_count": 18,
   "id": "e90035b7",
   "metadata": {},
   "outputs": [
    {
     "name": "stdout",
     "output_type": "stream",
     "text": [
      "<class 'float'> 1000000000000000.0\n"
     ]
    }
   ],
   "source": [
    "x = 1e15\n",
    "print(type(x), x)"
   ]
  },
  {
   "cell_type": "markdown",
   "id": "ddce7d37",
   "metadata": {},
   "source": [
    "<h2>1e16</h2>"
   ]
  },
  {
   "cell_type": "code",
   "execution_count": 19,
   "id": "448d15dc",
   "metadata": {},
   "outputs": [
    {
     "name": "stdout",
     "output_type": "stream",
     "text": [
      "<class 'float'> 1e+16\n"
     ]
    }
   ],
   "source": [
    "x = 1e16\n",
    "print(type(x), x)"
   ]
  },
  {
   "cell_type": "markdown",
   "id": "4cde5441",
   "metadata": {},
   "source": [
    "# UnderStand Syntax\n",
    "\n",
    "<h2>AE^B or Ae^B\n",
    "<br><br>\n",
    "A is a number greater than 0 and less than 10, and B is any Integer.</h2>"
   ]
  },
  {
   "cell_type": "markdown",
   "id": "14dce975",
   "metadata": {},
   "source": [
    "# Minimum to Maximum Limit"
   ]
  },
  {
   "cell_type": "code",
   "execution_count": 20,
   "id": "f85f7703",
   "metadata": {},
   "outputs": [
    {
     "name": "stdout",
     "output_type": "stream",
     "text": [
      "1e-05 1e+16\n",
      "\n",
      "0.0001 1000000000000000.0\n"
     ]
    }
   ],
   "source": [
    "print(1e-5,1e16)\n",
    "print()\n",
    "print(1e-4,1e15)"
   ]
  },
  {
   "cell_type": "markdown",
   "id": "d93533c6",
   "metadata": {},
   "source": [
    "# Convert Number into float ( float Conservation )"
   ]
  },
  {
   "cell_type": "code",
   "execution_count": 21,
   "id": "5c6bcf3d",
   "metadata": {},
   "outputs": [
    {
     "name": "stdout",
     "output_type": "stream",
     "text": [
      "<class 'int'> 10\n",
      "<class 'float'> 10.0\n"
     ]
    }
   ],
   "source": [
    "x = 10\n",
    "print(type(x),x)\n",
    "\n",
    "x = float(x)\n",
    "print(type(x),x)\n"
   ]
  },
  {
   "cell_type": "code",
   "execution_count": 22,
   "id": "8ea08e25",
   "metadata": {},
   "outputs": [
    {
     "ename": "ValueError",
     "evalue": "could not convert string to float: 'abc'",
     "output_type": "error",
     "traceback": [
      "\u001b[0;31m---------------------------------------------------------------------------\u001b[0m",
      "\u001b[0;31mValueError\u001b[0m                                Traceback (most recent call last)",
      "Cell \u001b[0;32mIn [22], line 1\u001b[0m\n\u001b[0;32m----> 1\u001b[0m \u001b[38;5;28;43mfloat\u001b[39;49m\u001b[43m(\u001b[49m\u001b[38;5;124;43m\"\u001b[39;49m\u001b[38;5;124;43mabc\u001b[39;49m\u001b[38;5;124;43m\"\u001b[39;49m\u001b[43m)\u001b[49m\n",
      "\u001b[0;31mValueError\u001b[0m: could not convert string to float: 'abc'"
     ]
    }
   ],
   "source": [
    "float(\"abc\")"
   ]
  },
  {
   "cell_type": "markdown",
   "id": "0701917d",
   "metadata": {},
   "source": [
    "# Float Nan Number\n",
    "\n",
    "<h2><p>NaN standing for not a number, is a numeric data type used to represent any value that is undefined or unpresentable.<br><br>\n",
    "\n",
    "For example, 0/0 is undefined as a real number and is, therefore, represented by NaN.<br><br>\n",
    "The square root of a negative number is an imaginary number that cannot be represented as a real number, so, it is represented by NaN.\n",
    "\n",
    "NaN is also assigned to variables, in a computation, that do not have values and have yet to be computed.<br><br>\n",
    "Note that the “NaN” passed to the float is not case sensitive. All of the 4 variables come out as nan.\n",
    "</h2>"
   ]
  },
  {
   "cell_type": "code",
   "execution_count": 23,
   "id": "a5a736bc",
   "metadata": {},
   "outputs": [
    {
     "name": "stdout",
     "output_type": "stream",
     "text": [
      "nan nan nan nan\n"
     ]
    }
   ],
   "source": [
    "n1 = float(\"nan\")\n",
    "n2 = float(\"Nan\")\n",
    "n3 = float(\"NaN\")\n",
    "n4 = float(\"NAN\")\n",
    "\n",
    "print(n1, n2, n3, n4)"
   ]
  },
  {
   "cell_type": "markdown",
   "id": "0b4e6b53",
   "metadata": {},
   "source": [
    "# infinity Number\n",
    "\n",
    "<h3>As ironic as it may seem infinity is defined as an undefined number that can either be a positive or negative value. <br><br>All arithmetic operations performed on an infinite value always lead to an infinite number, say it be sum, subtraction, multiplication, or any other operation.<br><br>\n",
    "In the world of computer science, infinity is generally used to measure performance and optimize algorithms that perform computations on a large scale application.</h3>"
   ]
  },
  {
   "cell_type": "code",
   "execution_count": 24,
   "id": "bfe02c0a",
   "metadata": {},
   "outputs": [
    {
     "name": "stdout",
     "output_type": "stream",
     "text": [
      "1.7e+308 inf\n",
      "<class 'float'>\n"
     ]
    }
   ],
   "source": [
    "# maximum value of float\n",
    "print(1.7e308,1.7e309)\n",
    "\n",
    "print(type(1.7e309))"
   ]
  },
  {
   "cell_type": "markdown",
   "id": "56030b15",
   "metadata": {},
   "source": [
    "# Comparison infinity"
   ]
  },
  {
   "cell_type": "code",
   "execution_count": 25,
   "id": "f6420b6c",
   "metadata": {},
   "outputs": [
    {
     "name": "stdout",
     "output_type": "stream",
     "text": [
      "False inf\n",
      "<class 'str'>\n"
     ]
    }
   ],
   "source": [
    "x = 1.7e309\n",
    "\n",
    "print(x==\"inf\",x)\n",
    "# False because its string\n",
    "\n",
    "print(type(\"inf\"))"
   ]
  },
  {
   "cell_type": "code",
   "execution_count": 26,
   "id": "8b7ae5a2",
   "metadata": {},
   "outputs": [
    {
     "name": "stdout",
     "output_type": "stream",
     "text": [
      "True inf\n"
     ]
    }
   ],
   "source": [
    "x = 1.7e309\n",
    "\n",
    "print(x==float(\"inf\"),x)"
   ]
  },
  {
   "cell_type": "code",
   "execution_count": 27,
   "id": "e832acbc",
   "metadata": {},
   "outputs": [
    {
     "data": {
      "text/plain": [
       "0.0001175494351"
      ]
     },
     "execution_count": 27,
     "metadata": {},
     "output_type": "execute_result"
    }
   ],
   "source": [
    "1.175494351E-4"
   ]
  },
  {
   "cell_type": "code",
   "execution_count": 29,
   "id": "69cb272c",
   "metadata": {},
   "outputs": [
    {
     "name": "stdout",
     "output_type": "stream",
     "text": [
      "-inf <class 'float'>\n"
     ]
    }
   ],
   "source": [
    "# negative inf\n",
    "\n",
    "x = float(\"-inf\")\n",
    "print(x,type(x))"
   ]
  },
  {
   "cell_type": "markdown",
   "id": "1611bfeb",
   "metadata": {},
   "source": [
    "# float constructor"
   ]
  },
  {
   "cell_type": "code",
   "execution_count": 62,
   "id": "0237476d",
   "metadata": {},
   "outputs": [],
   "source": [
    "x = float()"
   ]
  },
  {
   "cell_type": "code",
   "execution_count": 63,
   "id": "7be1f7e4",
   "metadata": {},
   "outputs": [
    {
     "name": "stdout",
     "output_type": "stream",
     "text": [
      "0.0 <class 'float'>\n"
     ]
    }
   ],
   "source": [
    "print(x,type(x))"
   ]
  }
 ],
 "metadata": {
  "kernelspec": {
   "display_name": "Python 3 (ipykernel)",
   "language": "python",
   "name": "python3"
  },
  "language_info": {
   "codemirror_mode": {
    "name": "ipython",
    "version": 3
   },
   "file_extension": ".py",
   "mimetype": "text/x-python",
   "name": "python",
   "nbconvert_exporter": "python",
   "pygments_lexer": "ipython3",
   "version": "3.10.6"
  }
 },
 "nbformat": 4,
 "nbformat_minor": 5
}

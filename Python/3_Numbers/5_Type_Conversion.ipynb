{
 "cells": [
  {
   "cell_type": "markdown",
   "id": "d6a266c6",
   "metadata": {},
   "source": [
    "# Type Conversion \n",
    "<h3>\n",
    "\n",
    "The process of converting the value of one data type (integer, string, float, etc.) to another data type is called type conversion.<br><br>Python has two types of type conversion.\n",
    "\n",
    "    Implicit Type Conversion\n",
    "    Explicit Type Conversion\n",
    "\n",
    "</h3>"
   ]
  },
  {
   "cell_type": "markdown",
   "id": "13daa322",
   "metadata": {},
   "source": [
    "# Implicit Type Conversion\n",
    "\n",
    "<h3>\n",
    "In Implicit type conversion, Python automatically converts one data type to another data type. This process doesn't need any user involvement.<br><br>Python promotes the conversion of the lower data type (integer) to the higher data type (float) to avoid data loss\n",
    "</h3>"
   ]
  },
  {
   "cell_type": "code",
   "execution_count": 1,
   "id": "cb617f61",
   "metadata": {},
   "outputs": [
    {
     "data": {
      "text/plain": [
       "20.1"
      ]
     },
     "execution_count": 1,
     "metadata": {},
     "output_type": "execute_result"
    }
   ],
   "source": [
    "# int + float = float\n",
    "\n",
    "10 + 10.1"
   ]
  },
  {
   "cell_type": "code",
   "execution_count": 2,
   "id": "eb1664e2",
   "metadata": {},
   "outputs": [],
   "source": [
    "int_ = 10\n",
    "float_ = 50.5"
   ]
  },
  {
   "cell_type": "code",
   "execution_count": 3,
   "id": "812482e9",
   "metadata": {},
   "outputs": [
    {
     "name": "stdout",
     "output_type": "stream",
     "text": [
      "60.5\n"
     ]
    }
   ],
   "source": [
    "print(int_+float_)"
   ]
  },
  {
   "cell_type": "markdown",
   "id": "7b75005b",
   "metadata": {},
   "source": [
    "# but Implicit Type Conversion are not work with other data type"
   ]
  },
  {
   "cell_type": "markdown",
   "id": "5cefaf54",
   "metadata": {},
   "source": [
    "# Explicit Type Conversion\n",
    "\n",
    "<h3>\n",
    "In Explicit Type Conversion, users convert the data type of an object to required data type. <br><br>We use the predefined functions like int(), float(), str(), etc to perform explicit type conversion.\n",
    "\n",
    "This type of conversion is also called typecasting because the user casts (changes) the data type of the objects.\n",
    "</h3>"
   ]
  },
  {
   "cell_type": "code",
   "execution_count": 4,
   "id": "9bc1c282",
   "metadata": {},
   "outputs": [
    {
     "ename": "TypeError",
     "evalue": "can only concatenate str (not \"float\") to str",
     "output_type": "error",
     "traceback": [
      "\u001b[0;31m---------------------------------------------------------------------------\u001b[0m",
      "\u001b[0;31mTypeError\u001b[0m                                 Traceback (most recent call last)",
      "Cell \u001b[0;32mIn [4], line 1\u001b[0m\n\u001b[0;32m----> 1\u001b[0m \u001b[38;5;124;43m\"\u001b[39;49m\u001b[38;5;124;43m10\u001b[39;49m\u001b[38;5;124;43m\"\u001b[39;49m\u001b[38;5;241;43m+\u001b[39;49m\u001b[38;5;241;43m10.5\u001b[39;49m\n",
      "\u001b[0;31mTypeError\u001b[0m: can only concatenate str (not \"float\") to str"
     ]
    }
   ],
   "source": [
    "\"10\"+10.5"
   ]
  },
  {
   "cell_type": "code",
   "execution_count": 5,
   "id": "1c0ef54a",
   "metadata": {},
   "outputs": [
    {
     "data": {
      "text/plain": [
       "20.5"
      ]
     },
     "execution_count": 5,
     "metadata": {},
     "output_type": "execute_result"
    }
   ],
   "source": [
    "int('10')+10.5"
   ]
  },
  {
   "cell_type": "code",
   "execution_count": 6,
   "id": "a4c90fc0",
   "metadata": {},
   "outputs": [
    {
     "name": "stdout",
     "output_type": "stream",
     "text": [
      "5010\n"
     ]
    }
   ],
   "source": [
    "x = \"50\"\n",
    "y = \"10\"\n",
    "\n",
    "print(x+y)"
   ]
  },
  {
   "cell_type": "code",
   "execution_count": 7,
   "id": "5e172af9",
   "metadata": {},
   "outputs": [
    {
     "name": "stdout",
     "output_type": "stream",
     "text": [
      "60\n"
     ]
    }
   ],
   "source": [
    "print(int(x)+int(y))"
   ]
  },
  {
   "cell_type": "code",
   "execution_count": 8,
   "id": "44462f53",
   "metadata": {},
   "outputs": [
    {
     "data": {
      "text/plain": [
       "True"
      ]
     },
     "execution_count": 8,
     "metadata": {},
     "output_type": "execute_result"
    }
   ],
   "source": [
    "# int to bool\n",
    "x = 1\n",
    "bool(x)"
   ]
  },
  {
   "cell_type": "code",
   "execution_count": 9,
   "id": "5e445bff",
   "metadata": {},
   "outputs": [
    {
     "data": {
      "text/plain": [
       "2"
      ]
     },
     "execution_count": 9,
     "metadata": {},
     "output_type": "execute_result"
    }
   ],
   "source": [
    "x = 1\n",
    "x = bool(x)\n",
    "x+x"
   ]
  },
  {
   "cell_type": "code",
   "execution_count": 10,
   "id": "125cf3c5",
   "metadata": {},
   "outputs": [
    {
     "data": {
      "text/plain": [
       "1"
      ]
     },
     "execution_count": 10,
     "metadata": {},
     "output_type": "execute_result"
    }
   ],
   "source": [
    "x = bool(10)\n",
    "int(x)\n",
    "\n",
    "# note 1 means true 0 means false only 2 digits in bool"
   ]
  },
  {
   "cell_type": "code",
   "execution_count": 11,
   "id": "6c1e9819",
   "metadata": {},
   "outputs": [
    {
     "data": {
      "text/plain": [
       "1.0"
      ]
     },
     "execution_count": 11,
     "metadata": {},
     "output_type": "execute_result"
    }
   ],
   "source": [
    "# float\n",
    "\n",
    "float(x)"
   ]
  },
  {
   "cell_type": "code",
   "execution_count": 12,
   "id": "bdc065a0",
   "metadata": {},
   "outputs": [
    {
     "name": "stdout",
     "output_type": "stream",
     "text": [
      "(1+0j) True 1 1.0 True 0x1 0o1 0b1\n"
     ]
    }
   ],
   "source": [
    "print(complex(x),x,int(x),float(x),str(x),hex(x),oct(x),bin(x))"
   ]
  },
  {
   "cell_type": "code",
   "execution_count": 13,
   "id": "85326c1b",
   "metadata": {},
   "outputs": [
    {
     "name": "stdout",
     "output_type": "stream",
     "text": [
      "0j False 0 0.0 False 0x0 0o0 0b0\n"
     ]
    }
   ],
   "source": [
    "x = False\n",
    "\n",
    "print(complex(x),x,int(x),float(x),str(x),hex(x),oct(x),bin(x))"
   ]
  }
 ],
 "metadata": {
  "kernelspec": {
   "display_name": "Python 3 (ipykernel)",
   "language": "python",
   "name": "python3"
  },
  "language_info": {
   "codemirror_mode": {
    "name": "ipython",
    "version": 3
   },
   "file_extension": ".py",
   "mimetype": "text/x-python",
   "name": "python",
   "nbconvert_exporter": "python",
   "pygments_lexer": "ipython3",
   "version": "3.10.6"
  }
 },
 "nbformat": 4,
 "nbformat_minor": 5
}

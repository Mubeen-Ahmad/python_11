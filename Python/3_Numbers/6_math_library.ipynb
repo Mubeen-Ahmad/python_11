{
 "cells": [
  {
   "cell_type": "markdown",
   "id": "53bbb8e1",
   "metadata": {},
   "source": [
    "# Python math Module\n",
    "\n",
    "<h3>Python has a built-in module that you can use for mathematical tasks.\n",
    "\n",
    "The math module has a set of methods and constants.</h3>"
   ]
  },
  {
   "cell_type": "markdown",
   "id": "00622d1c",
   "metadata": {},
   "source": [
    "# Trigonometric"
   ]
  },
  {
   "cell_type": "markdown",
   "id": "177ca9f2",
   "metadata": {},
   "source": [
    "<h3>\n",
    "sin, sinh, asin, asinh\n",
    "</h3>"
   ]
  },
  {
   "cell_type": "code",
   "execution_count": 105,
   "id": "ce9574c0",
   "metadata": {},
   "outputs": [
    {
     "data": {
      "text/plain": [
       "0.5806111842123143"
      ]
     },
     "execution_count": 105,
     "metadata": {},
     "output_type": "execute_result"
    }
   ],
   "source": [
    "math.sin(120)"
   ]
  },
  {
   "cell_type": "code",
   "execution_count": 106,
   "id": "16403838",
   "metadata": {},
   "outputs": [
    {
     "data": {
      "text/plain": [
       "6.520904391968161e+51"
      ]
     },
     "execution_count": 106,
     "metadata": {},
     "output_type": "execute_result"
    }
   ],
   "source": [
    "math.sinh(120)"
   ]
  },
  {
   "cell_type": "code",
   "execution_count": 110,
   "id": "516a9a79",
   "metadata": {},
   "outputs": [
    {
     "data": {
      "text/plain": [
       "1.1197695149986342"
      ]
     },
     "execution_count": 110,
     "metadata": {},
     "output_type": "execute_result"
    }
   ],
   "source": [
    "# range 0,1\n",
    "\n",
    "math.asin(0.9)"
   ]
  },
  {
   "cell_type": "code",
   "execution_count": 109,
   "id": "ab274437",
   "metadata": {},
   "outputs": [
    {
     "data": {
      "text/plain": [
       "5.480656284001007"
      ]
     },
     "execution_count": 109,
     "metadata": {},
     "output_type": "execute_result"
    }
   ],
   "source": [
    "math.asinh(120)"
   ]
  },
  {
   "cell_type": "markdown",
   "id": "64013f63",
   "metadata": {},
   "source": [
    "<h3>\n",
    "cos, cosh, acos, acosh\n",
    "</h3>"
   ]
  },
  {
   "cell_type": "code",
   "execution_count": 112,
   "id": "4b760f12",
   "metadata": {},
   "outputs": [
    {
     "data": {
      "text/plain": [
       "0.8141809705265618"
      ]
     },
     "execution_count": 112,
     "metadata": {},
     "output_type": "execute_result"
    }
   ],
   "source": [
    "math.cos(120)"
   ]
  },
  {
   "cell_type": "code",
   "execution_count": 113,
   "id": "803d930b",
   "metadata": {},
   "outputs": [
    {
     "data": {
      "text/plain": [
       "6.520904391968161e+51"
      ]
     },
     "execution_count": 113,
     "metadata": {},
     "output_type": "execute_result"
    }
   ],
   "source": [
    "math.cosh(120)"
   ]
  },
  {
   "cell_type": "code",
   "execution_count": 116,
   "id": "b83c1948",
   "metadata": {},
   "outputs": [
    {
     "data": {
      "text/plain": [
       "0.45102681179626236"
      ]
     },
     "execution_count": 116,
     "metadata": {},
     "output_type": "execute_result"
    }
   ],
   "source": [
    "math.acos(0.9)"
   ]
  },
  {
   "cell_type": "code",
   "execution_count": 118,
   "id": "5756a9bf",
   "metadata": {},
   "outputs": [
    {
     "data": {
      "text/plain": [
       "5.480621561778751"
      ]
     },
     "execution_count": 118,
     "metadata": {},
     "output_type": "execute_result"
    }
   ],
   "source": [
    "math.acosh(120)"
   ]
  },
  {
   "cell_type": "markdown",
   "id": "5d34acfc",
   "metadata": {},
   "source": [
    "<h3>\n",
    "tan, tanh, atan, atan2, atanh\n",
    "</h3>"
   ]
  },
  {
   "cell_type": "code",
   "execution_count": 119,
   "id": "dc515c85",
   "metadata": {},
   "outputs": [
    {
     "data": {
      "text/plain": [
       "0.7131230097859091"
      ]
     },
     "execution_count": 119,
     "metadata": {},
     "output_type": "execute_result"
    }
   ],
   "source": [
    "math.tan(120)"
   ]
  },
  {
   "cell_type": "code",
   "execution_count": 120,
   "id": "31d644f8",
   "metadata": {},
   "outputs": [
    {
     "data": {
      "text/plain": [
       "1.0"
      ]
     },
     "execution_count": 120,
     "metadata": {},
     "output_type": "execute_result"
    }
   ],
   "source": [
    "math.tanh(120)"
   ]
  },
  {
   "cell_type": "code",
   "execution_count": 121,
   "id": "a09d936b",
   "metadata": {},
   "outputs": [
    {
     "data": {
      "text/plain": [
       "1.5624631863547607"
      ]
     },
     "execution_count": 121,
     "metadata": {},
     "output_type": "execute_result"
    }
   ],
   "source": [
    "math.atan(120)"
   ]
  },
  {
   "cell_type": "code",
   "execution_count": 124,
   "id": "0040cfa6",
   "metadata": {},
   "outputs": [
    {
     "data": {
      "text/plain": [
       "0.5493061443340548"
      ]
     },
     "execution_count": 124,
     "metadata": {},
     "output_type": "execute_result"
    }
   ],
   "source": [
    "math.atanh(0.5)"
   ]
  },
  {
   "cell_type": "code",
   "execution_count": 128,
   "id": "8279d2ab",
   "metadata": {},
   "outputs": [
    {
     "data": {
      "text/plain": [
       "0.7853981633974483"
      ]
     },
     "execution_count": 128,
     "metadata": {},
     "output_type": "execute_result"
    }
   ],
   "source": [
    "math.atan2(10,10)"
   ]
  },
  {
   "cell_type": "markdown",
   "id": "fa09a89b",
   "metadata": {},
   "source": [
    "<h3>ceil()<br><br>Rounds a number up to the nearest integer</h3>"
   ]
  },
  {
   "cell_type": "code",
   "execution_count": 130,
   "id": "1671d584",
   "metadata": {},
   "outputs": [
    {
     "name": "stdout",
     "output_type": "stream",
     "text": [
      "1.4\n"
     ]
    }
   ],
   "source": [
    "print(1.4)"
   ]
  },
  {
   "cell_type": "code",
   "execution_count": 131,
   "id": "224a6c39",
   "metadata": {},
   "outputs": [
    {
     "name": "stdout",
     "output_type": "stream",
     "text": [
      "2\n"
     ]
    }
   ],
   "source": [
    "print(math.ceil(1.4))"
   ]
  },
  {
   "cell_type": "markdown",
   "id": "14595172",
   "metadata": {},
   "source": [
    "<h3>floor()<br><br>Rounds a number down to the nearest integer</h3>"
   ]
  },
  {
   "cell_type": "code",
   "execution_count": 147,
   "id": "c565d193",
   "metadata": {},
   "outputs": [
    {
     "name": "stdout",
     "output_type": "stream",
     "text": [
      "1\n"
     ]
    }
   ],
   "source": [
    "print(math.floor(1.4))"
   ]
  },
  {
   "cell_type": "markdown",
   "id": "270778f6",
   "metadata": {},
   "source": [
    "<h3>trunc()<br><br>Return the truncated integer parts of different numbers\n",
    "</h3>"
   ]
  },
  {
   "cell_type": "code",
   "execution_count": 150,
   "id": "df15e31b",
   "metadata": {},
   "outputs": [
    {
     "name": "stdout",
     "output_type": "stream",
     "text": [
      "1\n"
     ]
    }
   ],
   "source": [
    "print(math.trunc(1.4))"
   ]
  },
  {
   "cell_type": "markdown",
   "id": "64a9db1d",
   "metadata": {},
   "source": [
    "# difference between floor and trunc"
   ]
  },
  {
   "cell_type": "code",
   "execution_count": 153,
   "id": "2b9c378f",
   "metadata": {},
   "outputs": [
    {
     "name": "stdout",
     "output_type": "stream",
     "text": [
      "-9\n"
     ]
    }
   ],
   "source": [
    "# round number but reduce negative value\n",
    "print(math.floor(-8.9))"
   ]
  },
  {
   "cell_type": "code",
   "execution_count": 154,
   "id": "7c7e2620",
   "metadata": {},
   "outputs": [
    {
     "name": "stdout",
     "output_type": "stream",
     "text": [
      "-8\n"
     ]
    }
   ],
   "source": [
    "# return only integer part\n",
    "print(math.trunc(-8.9))"
   ]
  },
  {
   "cell_type": "markdown",
   "id": "586561d1",
   "metadata": {},
   "source": [
    "<h3>sqrt<br><br>Returns the square root of a number\n",
    "</h3>"
   ]
  },
  {
   "cell_type": "code",
   "execution_count": 162,
   "id": "8c369df9",
   "metadata": {},
   "outputs": [
    {
     "name": "stdout",
     "output_type": "stream",
     "text": [
      "5.0\n"
     ]
    }
   ],
   "source": [
    "print(math.sqrt(25))"
   ]
  },
  {
   "cell_type": "markdown",
   "id": "879d1f41",
   "metadata": {},
   "source": [
    "<h3>isqrt<br><br>method rounds a square root number downwards to the nearest integer.\n",
    "</h3>"
   ]
  },
  {
   "cell_type": "code",
   "execution_count": 376,
   "id": "77ef9026",
   "metadata": {},
   "outputs": [
    {
     "name": "stdout",
     "output_type": "stream",
     "text": [
      "5\n"
     ]
    }
   ],
   "source": [
    "print(math.isqrt(25))"
   ]
  },
  {
   "cell_type": "markdown",
   "id": "36f07c01",
   "metadata": {},
   "source": [
    "<h3>remainder<br><br>Returns the closest value that can make numerator completely divisible by the denominator\n",
    "</h3>"
   ]
  },
  {
   "cell_type": "code",
   "execution_count": 167,
   "id": "b7134175",
   "metadata": {},
   "outputs": [
    {
     "name": "stdout",
     "output_type": "stream",
     "text": [
      "3.0\n"
     ]
    }
   ],
   "source": [
    "print(math.remainder(3,13))"
   ]
  },
  {
   "cell_type": "markdown",
   "id": "e4d071d9",
   "metadata": {},
   "source": [
    "<h3>radians<br><br>Converts a degree value into radians\n",
    "</h3>"
   ]
  },
  {
   "cell_type": "code",
   "execution_count": 169,
   "id": "31d5d66c",
   "metadata": {},
   "outputs": [
    {
     "name": "stdout",
     "output_type": "stream",
     "text": [
      "0.05235987755982989\n"
     ]
    }
   ],
   "source": [
    "print(math.radians(3))"
   ]
  },
  {
   "cell_type": "markdown",
   "id": "be5e5c9b",
   "metadata": {},
   "source": [
    "<h3>degrees<br><br>Converts a degree value into radians\n",
    "</h3>"
   ]
  },
  {
   "cell_type": "code",
   "execution_count": 170,
   "id": "80a3d134",
   "metadata": {},
   "outputs": [
    {
     "name": "stdout",
     "output_type": "stream",
     "text": [
      "171.88733853924697\n"
     ]
    }
   ],
   "source": [
    "print(math.degrees(3))"
   ]
  },
  {
   "cell_type": "markdown",
   "id": "25140474",
   "metadata": {},
   "source": [
    "<h3>prod<br><br>Returns the product of all the elements in an iterable\n",
    "</h3>"
   ]
  },
  {
   "cell_type": "code",
   "execution_count": 179,
   "id": "587fc81d",
   "metadata": {},
   "outputs": [
    {
     "name": "stdout",
     "output_type": "stream",
     "text": [
      "2\n",
      "2\n",
      "4\n",
      "6\n"
     ]
    }
   ],
   "source": [
    "x = [1,2]\n",
    "print(math.prod(x))\n",
    "print(math.prod(x,start=1))\n",
    "print(math.prod(x,start=2))\n",
    "print(math.prod(x,start=3))"
   ]
  },
  {
   "cell_type": "markdown",
   "id": "c01be349",
   "metadata": {},
   "source": [
    "<h3>pow<br><br>Returns the value of x to the power of y\n",
    "</h3>"
   ]
  },
  {
   "cell_type": "code",
   "execution_count": 182,
   "id": "b4064737",
   "metadata": {},
   "outputs": [
    {
     "name": "stdout",
     "output_type": "stream",
     "text": [
      "9.0\n"
     ]
    }
   ],
   "source": [
    "print(math.pow(3,2))"
   ]
  },
  {
   "cell_type": "markdown",
   "id": "da6f721a",
   "metadata": {},
   "source": [
    "<h3>perm<br><br>Returns the number of ways to choose k items from n items with order and without repetition<br><br>\n",
    "\n",
    "Note: If k is greater than n, it returns 0.\n",
    "\n",
    "Note: If n or k are negative, a ValueError occurs. If n or k  are not integers, a TypeError occurs.\n",
    "\n",
    "</h3>"
   ]
  },
  {
   "cell_type": "code",
   "execution_count": 187,
   "id": "8ed349e5",
   "metadata": {},
   "outputs": [
    {
     "name": "stdout",
     "output_type": "stream",
     "text": [
      "3\n"
     ]
    }
   ],
   "source": [
    "n = 3\n",
    "k = 1\n",
    "print(math.perm(n,k))"
   ]
  },
  {
   "cell_type": "code",
   "execution_count": 188,
   "id": "e9fb881d",
   "metadata": {},
   "outputs": [
    {
     "name": "stdout",
     "output_type": "stream",
     "text": [
      "6\n"
     ]
    }
   ],
   "source": [
    "n = 3\n",
    "k = 2\n",
    "print(math.perm(n,k))"
   ]
  },
  {
   "cell_type": "code",
   "execution_count": 197,
   "id": "97793c00",
   "metadata": {},
   "outputs": [
    {
     "name": "stdout",
     "output_type": "stream",
     "text": [
      "0\n"
     ]
    }
   ],
   "source": [
    "n = 3\n",
    "k = 4\n",
    "print(math.perm(n,k))"
   ]
  },
  {
   "cell_type": "code",
   "execution_count": 198,
   "id": "863d3ca1",
   "metadata": {},
   "outputs": [
    {
     "ename": "ValueError",
     "evalue": "n must be a non-negative integer",
     "output_type": "error",
     "traceback": [
      "\u001b[0;31m---------------------------------------------------------------------------\u001b[0m",
      "\u001b[0;31mValueError\u001b[0m                                Traceback (most recent call last)",
      "Cell \u001b[0;32mIn [198], line 3\u001b[0m\n\u001b[1;32m      1\u001b[0m n \u001b[38;5;241m=\u001b[39m \u001b[38;5;241m-\u001b[39m\u001b[38;5;241m3\u001b[39m\n\u001b[1;32m      2\u001b[0m k \u001b[38;5;241m=\u001b[39m \u001b[38;5;241m4\u001b[39m\n\u001b[0;32m----> 3\u001b[0m \u001b[38;5;28mprint\u001b[39m(\u001b[43mmath\u001b[49m\u001b[38;5;241;43m.\u001b[39;49m\u001b[43mperm\u001b[49m\u001b[43m(\u001b[49m\u001b[43mn\u001b[49m\u001b[43m,\u001b[49m\u001b[43mk\u001b[49m\u001b[43m)\u001b[49m)\n",
      "\u001b[0;31mValueError\u001b[0m: n must be a non-negative integer"
     ]
    }
   ],
   "source": [
    "n = -3\n",
    "k = 4\n",
    "print(math.perm(n,k))"
   ]
  },
  {
   "cell_type": "markdown",
   "id": "b84eeff3",
   "metadata": {},
   "source": [
    "<h3>comb<br><br>Returns the number of ways picking k unordered outcomes from n possibilities, without repetition, also known as combinations.<br><br>\n",
    "\n",
    "Note: If the value of k is greater than the value of n it will return 0 as a result.\n",
    "\n",
    "Note: If the parameters are negative, a ValueError occurs. If the parameters are not integers, a TypeError occurs.\n",
    "</h3>"
   ]
  },
  {
   "cell_type": "code",
   "execution_count": 205,
   "id": "b195e5dc",
   "metadata": {},
   "outputs": [
    {
     "name": "stdout",
     "output_type": "stream",
     "text": [
      "3\n"
     ]
    }
   ],
   "source": [
    "n = 3\n",
    "k = 1\n",
    "print(math.comb(n,k))"
   ]
  },
  {
   "cell_type": "code",
   "execution_count": 206,
   "id": "b9d31cc2",
   "metadata": {},
   "outputs": [
    {
     "name": "stdout",
     "output_type": "stream",
     "text": [
      "6\n"
     ]
    }
   ],
   "source": [
    "n = 3\n",
    "k = 2\n",
    "print(math.perm(n,k))"
   ]
  },
  {
   "cell_type": "code",
   "execution_count": 207,
   "id": "dfa88150",
   "metadata": {},
   "outputs": [
    {
     "name": "stdout",
     "output_type": "stream",
     "text": [
      "0\n"
     ]
    }
   ],
   "source": [
    "n = 3\n",
    "k = 4\n",
    "print(math.perm(n,k))"
   ]
  },
  {
   "cell_type": "code",
   "execution_count": 208,
   "id": "1a4172f9",
   "metadata": {},
   "outputs": [
    {
     "ename": "ValueError",
     "evalue": "n must be a non-negative integer",
     "output_type": "error",
     "traceback": [
      "\u001b[0;31m---------------------------------------------------------------------------\u001b[0m",
      "\u001b[0;31mValueError\u001b[0m                                Traceback (most recent call last)",
      "Cell \u001b[0;32mIn [208], line 3\u001b[0m\n\u001b[1;32m      1\u001b[0m n \u001b[38;5;241m=\u001b[39m \u001b[38;5;241m-\u001b[39m\u001b[38;5;241m3\u001b[39m\n\u001b[1;32m      2\u001b[0m k \u001b[38;5;241m=\u001b[39m \u001b[38;5;241m4\u001b[39m\n\u001b[0;32m----> 3\u001b[0m \u001b[38;5;28mprint\u001b[39m(\u001b[43mmath\u001b[49m\u001b[38;5;241;43m.\u001b[39;49m\u001b[43mperm\u001b[49m\u001b[43m(\u001b[49m\u001b[43mn\u001b[49m\u001b[43m,\u001b[49m\u001b[43mk\u001b[49m\u001b[43m)\u001b[49m)\n",
      "\u001b[0;31mValueError\u001b[0m: n must be a non-negative integer"
     ]
    }
   ],
   "source": [
    "n = -3\n",
    "k = 4\n",
    "print(math.perm(n,k))"
   ]
  },
  {
   "cell_type": "markdown",
   "id": "bc631586",
   "metadata": {},
   "source": [
    "# Difference in comb / prem\n",
    "\n",
    "<h2>\n",
    "A combination is when you select items from a list and the order doesn’t matter.<br><br>\n",
    "A permutation is when you select items from a list and the order does matter.</h2>"
   ]
  },
  {
   "cell_type": "markdown",
   "id": "0de1dd7b",
   "metadata": {},
   "source": [
    "# Logarithm"
   ]
  },
  {
   "cell_type": "markdown",
   "id": "99bf425d",
   "metadata": {},
   "source": [
    "<h3>log<br><br>Returns the natural logarithm of a number, or the logarithm of number to base\n",
    "\n",
    "</h3>"
   ]
  },
  {
   "cell_type": "code",
   "execution_count": 200,
   "id": "3a5948e5",
   "metadata": {},
   "outputs": [
    {
     "name": "stdout",
     "output_type": "stream",
     "text": [
      "1.0986122886681098\n"
     ]
    }
   ],
   "source": [
    "print(math.log(3))"
   ]
  },
  {
   "cell_type": "markdown",
   "id": "79bb6c77",
   "metadata": {},
   "source": [
    "<h3>log10<br><br>Returns the base-10 logarithm of x\n",
    "\n",
    "</h3>"
   ]
  },
  {
   "cell_type": "code",
   "execution_count": 201,
   "id": "77efbaff",
   "metadata": {},
   "outputs": [
    {
     "name": "stdout",
     "output_type": "stream",
     "text": [
      "0.47712125471966244\n"
     ]
    }
   ],
   "source": [
    "print(math.log10(3))"
   ]
  },
  {
   "cell_type": "markdown",
   "id": "3040e7a1",
   "metadata": {},
   "source": [
    "<h3>log1p<br><br>Returns the natural logarithm of 1+x\n",
    "</h3>"
   ]
  },
  {
   "cell_type": "code",
   "execution_count": 202,
   "id": "27db3d7d",
   "metadata": {},
   "outputs": [
    {
     "name": "stdout",
     "output_type": "stream",
     "text": [
      "1.3862943611198906\n"
     ]
    }
   ],
   "source": [
    "print(math.log1p(3))"
   ]
  },
  {
   "cell_type": "markdown",
   "id": "09ede499",
   "metadata": {},
   "source": [
    "<h3>log2<br><br>Returns the base-2 logarithm of x\n",
    "\n",
    "</h3>"
   ]
  },
  {
   "cell_type": "code",
   "execution_count": 203,
   "id": "60c95d3d",
   "metadata": {},
   "outputs": [
    {
     "name": "stdout",
     "output_type": "stream",
     "text": [
      "1.584962500721156\n"
     ]
    }
   ],
   "source": [
    "print(math.log2(3))"
   ]
  },
  {
   "cell_type": "markdown",
   "id": "39558e51",
   "metadata": {},
   "source": [
    "<h3>lgamma<br><br>Returns the log gamma value of x\n",
    "\n",
    "</h3>"
   ]
  },
  {
   "cell_type": "code",
   "execution_count": 204,
   "id": "134cae9c",
   "metadata": {},
   "outputs": [
    {
     "name": "stdout",
     "output_type": "stream",
     "text": [
      "0.693147180559945\n"
     ]
    }
   ],
   "source": [
    "print(math.lgamma(3))"
   ]
  },
  {
   "cell_type": "markdown",
   "id": "680b7d8d",
   "metadata": {},
   "source": [
    "<h3>frexp<br><br>Returns the mantissa and the exponent, of a specified number<br><br>\n",
    "</h3>"
   ]
  },
  {
   "cell_type": "code",
   "execution_count": 219,
   "id": "aa795ec1",
   "metadata": {},
   "outputs": [
    {
     "name": "stdout",
     "output_type": "stream",
     "text": [
      "(0.64375, 4)\n"
     ]
    }
   ],
   "source": [
    "print(math.frexp(10.3))"
   ]
  },
  {
   "cell_type": "markdown",
   "id": "b7a4a2aa",
   "metadata": {},
   "source": [
    "<h3>ldexp<br><br>Returns the inverse of math.frexp() which is x * (2**i) of the given numbers x and i<br><br>\n",
    "</h3>"
   ]
  },
  {
   "cell_type": "code",
   "execution_count": 221,
   "id": "2e54ec83",
   "metadata": {},
   "outputs": [
    {
     "name": "stdout",
     "output_type": "stream",
     "text": [
      "10.3\n"
     ]
    }
   ],
   "source": [
    "print(math.ldexp(0.64375,4))"
   ]
  },
  {
   "cell_type": "markdown",
   "id": "1563f5f7",
   "metadata": {},
   "source": [
    "<h3>erf<br><br>Returns the error function of a number\n",
    "</h3>"
   ]
  },
  {
   "cell_type": "code",
   "execution_count": 257,
   "id": "509ea1c0",
   "metadata": {},
   "outputs": [
    {
     "name": "stdout",
     "output_type": "stream",
     "text": [
      "0.0\n",
      "0.8427007929497149\n",
      "0.9953222650189527\n",
      "0.9999779095030014\n",
      "0.9999999845827421\n",
      "0.9999999999984626\n",
      "1.0\n"
     ]
    }
   ],
   "source": [
    "print(math.erf(0))\n",
    "print(math.erf(1))\n",
    "print(math.erf(2))\n",
    "print(math.erf(3))\n",
    "print(math.erf(4))\n",
    "print(math.erf(5))\n",
    "print(math.erf(6))"
   ]
  },
  {
   "cell_type": "markdown",
   "id": "31c3d959",
   "metadata": {},
   "source": [
    "<h3>erfc<br><br>Returns the complementary error function of a number\n",
    "</h3>"
   ]
  },
  {
   "cell_type": "code",
   "execution_count": 259,
   "id": "97f897b6",
   "metadata": {},
   "outputs": [
    {
     "name": "stdout",
     "output_type": "stream",
     "text": [
      "1.0\n",
      "0.15729920705028513\n",
      "0.004677734981047265\n",
      "2.2090496998585438e-05\n",
      "1.541725790028002e-08\n",
      "1.5374597944280351e-12\n",
      "2.1519736712498916e-17\n"
     ]
    }
   ],
   "source": [
    "print(math.erfc(0))\n",
    "print(math.erfc(1))\n",
    "print(math.erfc(2))\n",
    "print(math.erfc(3))\n",
    "print(math.erfc(4))\n",
    "print(math.erfc(5))\n",
    "print(math.erfc(6))"
   ]
  },
  {
   "cell_type": "markdown",
   "id": "5a7f7ada",
   "metadata": {},
   "source": [
    "<h3>exp<br><br>Returns E raised to the power of x\n",
    "</h3>"
   ]
  },
  {
   "cell_type": "code",
   "execution_count": 262,
   "id": "21eefd06",
   "metadata": {
    "scrolled": true
   },
   "outputs": [
    {
     "name": "stdout",
     "output_type": "stream",
     "text": [
      "7.38905609893065\n"
     ]
    }
   ],
   "source": [
    "print(math.exp(2))"
   ]
  },
  {
   "cell_type": "markdown",
   "id": "6e23531a",
   "metadata": {},
   "source": [
    "<h3>expm1<br><br>Returns Ex - 1<br><br>\n",
    "\n",
    "'E' is the base of the natural system of logarithms (approximately 2.718282) and x is the number passed to it.\n",
    "<br><br>\n",
    "This function is more accurate than calling math.exp() and subtracting 1.\n",
    "</h3>"
   ]
  },
  {
   "cell_type": "code",
   "execution_count": 265,
   "id": "637ff7c7",
   "metadata": {},
   "outputs": [
    {
     "name": "stdout",
     "output_type": "stream",
     "text": [
      "6.38905609893065\n"
     ]
    }
   ],
   "source": [
    "print(math.expm1(2))"
   ]
  },
  {
   "cell_type": "markdown",
   "id": "648a070e",
   "metadata": {},
   "source": [
    "<h3>fabs<br><br>Returns the absolute value of a number<br><br>\n",
    "    Absolute denotes a non-negative number. This removes the negative sign of the value if it has any.\n",
    "<br><br>\n",
    "Unlike Python abs(), this method always converts the value to a float value.\n",
    "</h3>"
   ]
  },
  {
   "cell_type": "code",
   "execution_count": 270,
   "id": "45863170",
   "metadata": {},
   "outputs": [
    {
     "name": "stdout",
     "output_type": "stream",
     "text": [
      "2.0\n",
      "2\n"
     ]
    }
   ],
   "source": [
    "print(math.fabs(2))\n",
    "\n",
    "# bulit-in Function\n",
    "print(abs(2))"
   ]
  },
  {
   "cell_type": "markdown",
   "id": "3f3853a7",
   "metadata": {},
   "source": [
    "<h3>factorial<br><br>Returns the factorial of a number\n",
    "</h3>"
   ]
  },
  {
   "cell_type": "code",
   "execution_count": 274,
   "id": "850560e9",
   "metadata": {},
   "outputs": [
    {
     "name": "stdout",
     "output_type": "stream",
     "text": [
      "6\n"
     ]
    }
   ],
   "source": [
    "print(math.factorial(3))"
   ]
  },
  {
   "cell_type": "markdown",
   "id": "fff773cf",
   "metadata": {},
   "source": [
    "<h3>fmod<br><br>Returns the remainder of x/y<br><br>\n",
    "    Note: If both x and y = 0, it returns a ValueError.\n",
    "<br><br>\n",
    "Note: If y = 0, it returns a ValueError.\n",
    "<br><br>\n",
    "Note: If x or y is not a number, it returns a TypeError.\n",
    "</h3>"
   ]
  },
  {
   "cell_type": "code",
   "execution_count": 277,
   "id": "a0a97f5c",
   "metadata": {},
   "outputs": [
    {
     "name": "stdout",
     "output_type": "stream",
     "text": [
      "2.0\n",
      "0.0\n",
      "2.0\n",
      "3.0\n",
      "-1.0\n"
     ]
    },
    {
     "ename": "ValueError",
     "evalue": "math domain error",
     "output_type": "error",
     "traceback": [
      "\u001b[0;31m---------------------------------------------------------------------------\u001b[0m",
      "\u001b[0;31mValueError\u001b[0m                                Traceback (most recent call last)",
      "Cell \u001b[0;32mIn [277], line 8\u001b[0m\n\u001b[1;32m      6\u001b[0m \u001b[38;5;28mprint\u001b[39m(math\u001b[38;5;241m.\u001b[39mfmod(\u001b[38;5;241m15\u001b[39m, \u001b[38;5;241m6\u001b[39m))\n\u001b[1;32m      7\u001b[0m \u001b[38;5;28mprint\u001b[39m(math\u001b[38;5;241m.\u001b[39mfmod(\u001b[38;5;241m-\u001b[39m\u001b[38;5;241m10\u001b[39m, \u001b[38;5;241m3\u001b[39m))\n\u001b[0;32m----> 8\u001b[0m \u001b[38;5;28mprint\u001b[39m(\u001b[43mmath\u001b[49m\u001b[38;5;241;43m.\u001b[39;49m\u001b[43mfmod\u001b[49m\u001b[43m(\u001b[49m\u001b[38;5;241;43m0\u001b[39;49m\u001b[43m,\u001b[49m\u001b[43m \u001b[49m\u001b[38;5;241;43m0\u001b[39;49m\u001b[43m)\u001b[49m)\n",
      "\u001b[0;31mValueError\u001b[0m: math domain error"
     ]
    }
   ],
   "source": [
    "print(math.fmod(2,25))\n",
    "\n",
    "\n",
    "print(math.fmod(20, 4))\n",
    "print(math.fmod(20, 3))\n",
    "print(math.fmod(15, 6))\n",
    "print(math.fmod(-10, 3))\n",
    "print(math.fmod(0, 0)) "
   ]
  },
  {
   "cell_type": "markdown",
   "id": "5f70d180",
   "metadata": {},
   "source": [
    "<h3>modf<br><br>Return the fractional and integer parts of x.\n",
    "</h3>"
   ]
  },
  {
   "cell_type": "code",
   "execution_count": 310,
   "id": "c91e51a6",
   "metadata": {},
   "outputs": [
    {
     "name": "stdout",
     "output_type": "stream",
     "text": [
      "(0.0, 2.0)\n",
      "(0.0, 10.0)\n",
      "(0.10000000000000009, 1.0)\n",
      "(0.5, 5.0)\n"
     ]
    }
   ],
   "source": [
    "print(math.modf(2))\n",
    "print(math.modf(10))\n",
    "print(math.modf(1.1))\n",
    "print(math.modf(5.5))"
   ]
  },
  {
   "cell_type": "markdown",
   "id": "159a055a",
   "metadata": {},
   "source": [
    "<h3>fsum<br><br>Returns the sum of all items in any iterable (tuples, arrays, lists, etc.)\n",
    "</h3>"
   ]
  },
  {
   "cell_type": "code",
   "execution_count": 282,
   "id": "375c8c60",
   "metadata": {},
   "outputs": [
    {
     "name": "stdout",
     "output_type": "stream",
     "text": [
      "6.0\n",
      "3.0\n",
      "-6.0\n"
     ]
    }
   ],
   "source": [
    "print(math.fsum([1,2,3]))\n",
    "print(math.fsum([1,1,1]))\n",
    "print(math.fsum([-3,-2,-1]))"
   ]
  },
  {
   "cell_type": "markdown",
   "id": "5a11d518",
   "metadata": {},
   "source": [
    "<h3>gamma<br><br>Returns the gamma function at x\n",
    "</h3>"
   ]
  },
  {
   "cell_type": "code",
   "execution_count": 284,
   "id": "a77dff3d",
   "metadata": {},
   "outputs": [
    {
     "name": "stdout",
     "output_type": "stream",
     "text": [
      "362880.0\n"
     ]
    }
   ],
   "source": [
    "print(math.gamma(10))"
   ]
  },
  {
   "cell_type": "markdown",
   "id": "9961a9a5",
   "metadata": {},
   "source": [
    "<h3>gcd<br><br>Returns the greatest common divisor of two integers<br><br>\n",
    "    \n",
    "GCD is the largest common divisor that divides the numbers without a remainder.\n",
    "<br><br>\n",
    "GCD is also known as the highest common factor (HCF).\n",
    "</h3>"
   ]
  },
  {
   "cell_type": "code",
   "execution_count": 285,
   "id": "65033857",
   "metadata": {},
   "outputs": [
    {
     "name": "stdout",
     "output_type": "stream",
     "text": [
      "3\n",
      "6\n",
      "12\n",
      "12\n",
      "1\n",
      "10\n",
      "34\n",
      "0\n"
     ]
    }
   ],
   "source": [
    "print (math.gcd(3, 6))\n",
    "print (math.gcd(6, 12))\n",
    "print (math.gcd(12, 36))\n",
    "print (math.gcd(-12, -36))\n",
    "print (math.gcd(5, 12))\n",
    "print (math.gcd(10, 0))\n",
    "print (math.gcd(0, 34))\n",
    "print (math.gcd(0, 0))"
   ]
  },
  {
   "cell_type": "markdown",
   "id": "15a5d75d",
   "metadata": {},
   "source": [
    "<h3>lcm<br><br>Returns the lcm\n",
    "</h3>"
   ]
  },
  {
   "cell_type": "code",
   "execution_count": 299,
   "id": "6526bd6e",
   "metadata": {},
   "outputs": [
    {
     "name": "stdout",
     "output_type": "stream",
     "text": [
      "6\n",
      "60\n"
     ]
    }
   ],
   "source": [
    "print(math.lcm(1,2,3))\n",
    "print(math.lcm(4,5,6))"
   ]
  },
  {
   "cell_type": "markdown",
   "id": "544403b3",
   "metadata": {},
   "source": [
    "<h3>hypot<br><br>Returns the Euclidean norm\n",
    "</h3>"
   ]
  },
  {
   "cell_type": "code",
   "execution_count": 288,
   "id": "080fbec0",
   "metadata": {},
   "outputs": [
    {
     "name": "stdout",
     "output_type": "stream",
     "text": [
      "11.180339887498949\n"
     ]
    }
   ],
   "source": [
    "parendicular = 10\n",
    "base = 5\n",
    "\n",
    "print(math.hypot(parendicular, base)) "
   ]
  },
  {
   "cell_type": "code",
   "execution_count": 289,
   "id": "e7fbd82a",
   "metadata": {},
   "outputs": [
    {
     "name": "stdout",
     "output_type": "stream",
     "text": [
      "17.0\n",
      "11.357816691600547\n",
      "18.439088914585774\n"
     ]
    }
   ],
   "source": [
    "print(math.hypot(10, 2, 4, 13))\n",
    "print(math.hypot(4, 7, 8))\n",
    "print(math.hypot(12, 14)) "
   ]
  },
  {
   "cell_type": "markdown",
   "id": "2c98b71f",
   "metadata": {},
   "source": [
    "<h3>dist<br><br>Returns the Euclidean distance between two points (p and q), where p and q are the coordinates of that point\n",
    "</h3>"
   ]
  },
  {
   "cell_type": "code",
   "execution_count": 290,
   "id": "57f51d6c",
   "metadata": {},
   "outputs": [
    {
     "name": "stdout",
     "output_type": "stream",
     "text": [
      "2.0\n"
     ]
    }
   ],
   "source": [
    "p = [3]\n",
    "q = [1]\n",
    "print (math.dist(p, q))"
   ]
  },
  {
   "cell_type": "code",
   "execution_count": 292,
   "id": "9c4dda70",
   "metadata": {},
   "outputs": [
    {
     "name": "stdout",
     "output_type": "stream",
     "text": [
      "9.486832980505138\n"
     ]
    }
   ],
   "source": [
    "p = [3, 3]\n",
    "q = [6, 12]\n",
    "\n",
    "print(math.dist(p, q)) "
   ]
  },
  {
   "cell_type": "markdown",
   "id": "0f6853cd",
   "metadata": {},
   "source": [
    "<h3>copysign<br><br>Returns a float consisting of the value of the first parameter and the sign of the second parameter\n",
    "</h3>"
   ]
  },
  {
   "cell_type": "code",
   "execution_count": 313,
   "id": "1bee0859",
   "metadata": {},
   "outputs": [
    {
     "name": "stdout",
     "output_type": "stream",
     "text": [
      "-4.0\n",
      "8.0\n",
      "-43.0\n"
     ]
    }
   ],
   "source": [
    "print(math.copysign(4, -1))\n",
    "print(math.copysign(-8, 97.21))\n",
    "print(math.copysign(-43, -76)) "
   ]
  },
  {
   "cell_type": "markdown",
   "id": "6898c5d0",
   "metadata": {},
   "source": [
    "<h3>nextafter<br><br>Return the next floating-point value after x towards y.\n",
    "</h3>"
   ]
  },
  {
   "cell_type": "code",
   "execution_count": 322,
   "id": "9157e561",
   "metadata": {},
   "outputs": [
    {
     "data": {
      "text/plain": [
       "1.1000000000000003"
      ]
     },
     "execution_count": 322,
     "metadata": {},
     "output_type": "execute_result"
    }
   ],
   "source": [
    "print(math.nextafter(1.1,1.2))"
   ]
  },
  {
   "cell_type": "code",
   "execution_count": 334,
   "id": "1c45237f",
   "metadata": {},
   "outputs": [
    {
     "name": "stdout",
     "output_type": "stream",
     "text": [
      "1.4000000000000001\n"
     ]
    }
   ],
   "source": [
    "print(math.nextafter(1.4,1.5))"
   ]
  },
  {
   "cell_type": "markdown",
   "id": "4e5b8932",
   "metadata": {},
   "source": [
    "<h3>ulp<br><br>Return the value of the least significant bit of the float x\n",
    "</h3>"
   ]
  },
  {
   "cell_type": "code",
   "execution_count": 345,
   "id": "2242d273",
   "metadata": {},
   "outputs": [
    {
     "name": "stdout",
     "output_type": "stream",
     "text": [
      "2.220446049250313e-16\n",
      "4.440892098500626e-16\n"
     ]
    }
   ],
   "source": [
    "print(math.ulp(1))\n",
    "print(math.ulp(2))"
   ]
  },
  {
   "cell_type": "code",
   "execution_count": 346,
   "id": "a5da96af",
   "metadata": {},
   "outputs": [
    {
     "name": "stdout",
     "output_type": "stream",
     "text": [
      "2.220446049250313e-16\n"
     ]
    }
   ],
   "source": [
    "print(math.ulp(1.9))"
   ]
  },
  {
   "cell_type": "markdown",
   "id": "2055a3a4",
   "metadata": {},
   "source": [
    "# Math Constants"
   ]
  },
  {
   "cell_type": "markdown",
   "id": "bf7e1901",
   "metadata": {},
   "source": [
    "<h3>e<br><br>Returns Euler's number (2.7182...)\n",
    "</h3>"
   ]
  },
  {
   "cell_type": "code",
   "execution_count": 352,
   "id": "fa4fc20a",
   "metadata": {},
   "outputs": [
    {
     "name": "stdout",
     "output_type": "stream",
     "text": [
      "-2.718281828459045\n"
     ]
    }
   ],
   "source": [
    "print(math.e) "
   ]
  },
  {
   "cell_type": "markdown",
   "id": "7015f627",
   "metadata": {},
   "source": [
    "<h3>inf<br><br>Returns a floating-point positive infinity\n",
    "</h3>"
   ]
  },
  {
   "cell_type": "code",
   "execution_count": 357,
   "id": "beb120bb",
   "metadata": {},
   "outputs": [
    {
     "name": "stdout",
     "output_type": "stream",
     "text": [
      "inf\n",
      "-inf\n"
     ]
    }
   ],
   "source": [
    "print(math.inf) \n",
    "print(-math.inf) "
   ]
  },
  {
   "cell_type": "markdown",
   "id": "07d77645",
   "metadata": {},
   "source": [
    "<h3>pi<br><br>Returns PI (3.1415...)\n",
    "</h3>"
   ]
  },
  {
   "cell_type": "code",
   "execution_count": 358,
   "id": "d25175f9",
   "metadata": {},
   "outputs": [
    {
     "name": "stdout",
     "output_type": "stream",
     "text": [
      "3.141592653589793\n"
     ]
    }
   ],
   "source": [
    "print(math.pi) "
   ]
  },
  {
   "cell_type": "markdown",
   "id": "69fcbf45",
   "metadata": {},
   "source": [
    "<h3>tau<br><br>Returns tau (6.2831...)<br><br>\n",
    "It is defined as the ratio of the circumference to the radius of a circle. Tau is a circle constant and the value is equivalent to 2π.\n",
    "<br><br>\n",
    "Note: Mathematically tau is represented by τ.\n",
    "</h3>"
   ]
  },
  {
   "cell_type": "code",
   "execution_count": 359,
   "id": "c7230c10",
   "metadata": {},
   "outputs": [
    {
     "name": "stdout",
     "output_type": "stream",
     "text": [
      "3.141592653589793\n"
     ]
    }
   ],
   "source": [
    "print(math.pi) "
   ]
  },
  {
   "cell_type": "markdown",
   "id": "6cc15a4d",
   "metadata": {},
   "source": [
    "<h3>nan<br><br>Returns nan\n",
    "</h3>"
   ]
  },
  {
   "cell_type": "code",
   "execution_count": 366,
   "id": "eafa3ddc",
   "metadata": {},
   "outputs": [
    {
     "name": "stdout",
     "output_type": "stream",
     "text": [
      "nan\n"
     ]
    }
   ],
   "source": [
    "print(math.nan)"
   ]
  },
  {
   "cell_type": "markdown",
   "id": "c65ca976",
   "metadata": {},
   "source": [
    "# Checking Function"
   ]
  },
  {
   "cell_type": "markdown",
   "id": "1a6b700e",
   "metadata": {},
   "source": [
    "<h3>isclose<br><br>Checks whether two values are close to each other, or not<br><br>\n",
    "\n",
    "a \tRequired. The first value to check for closeness<br><br>\n",
    "b \tRequired. The second value to check for closeness<br><br>\n",
    "rel_tol = value \tOptional. The relative tolerance. It is the maximum allowed difference between value a and b. Default value is 1e-09<br><br>\n",
    "abs_tol = value \tOptional. The minimum absolute tolerance. It is used to compare values near 0. The value must be at least 0\n",
    "</h3>"
   ]
  },
  {
   "cell_type": "code",
   "execution_count": 367,
   "id": "eb217d01",
   "metadata": {},
   "outputs": [
    {
     "name": "stdout",
     "output_type": "stream",
     "text": [
      "False\n",
      "True\n",
      "False\n",
      "True\n"
     ]
    }
   ],
   "source": [
    "print(math.isclose(1.233, 1.4566))\n",
    "print(math.isclose(1.233, 1.233))\n",
    "print(math.isclose(1.233, 1.24))\n",
    "print(math.isclose(1.233, 1.233000001))"
   ]
  },
  {
   "cell_type": "code",
   "execution_count": 368,
   "id": "f575882e",
   "metadata": {},
   "outputs": [
    {
     "name": "stdout",
     "output_type": "stream",
     "text": [
      "False\n",
      "True\n"
     ]
    }
   ],
   "source": [
    "print(math.isclose(8.005, 8.450, abs_tol = 0.4))\n",
    "print(math.isclose(8.005, 8.450, abs_tol = 0.5)) "
   ]
  },
  {
   "cell_type": "markdown",
   "id": "cf702e07",
   "metadata": {},
   "source": [
    "<h3>isfinite<br><br>Checks whether a number is finite or not\n",
    "</h3>"
   ]
  },
  {
   "cell_type": "code",
   "execution_count": 370,
   "id": "1b782ca1",
   "metadata": {},
   "outputs": [
    {
     "name": "stdout",
     "output_type": "stream",
     "text": [
      "True\n",
      "True\n",
      "True\n",
      "False\n",
      "False\n",
      "False\n",
      "False\n",
      "False\n",
      "True\n"
     ]
    }
   ],
   "source": [
    "print(math.isfinite(2000))\n",
    "print(math.isfinite(-45.34))\n",
    "print(math.isfinite(+45.34))\n",
    "print(math.isfinite(math.inf))\n",
    "print(math.isfinite(float(\"nan\")))\n",
    "print(math.isfinite(float(\"inf\")))\n",
    "print(math.isfinite(float(\"-inf\")))\n",
    "print(math.isfinite(-math.inf))\n",
    "print(math.isfinite(0))"
   ]
  },
  {
   "cell_type": "markdown",
   "id": "4a3a5e30",
   "metadata": {},
   "source": [
    "<h3>isinf<br><br>Checks whether a number is infinite or not\n",
    "</h3>"
   ]
  },
  {
   "cell_type": "code",
   "execution_count": 371,
   "id": "36fce45a",
   "metadata": {},
   "outputs": [
    {
     "name": "stdout",
     "output_type": "stream",
     "text": [
      "False\n",
      "False\n",
      "False\n",
      "True\n",
      "False\n",
      "True\n",
      "True\n",
      "True\n"
     ]
    }
   ],
   "source": [
    "print(math.isinf(56))\n",
    "print(math.isinf(-45.34))\n",
    "print(math.isinf(+45.34))\n",
    "print(math.isinf(math.inf))\n",
    "print(math.isinf(float(\"nan\")))\n",
    "print(math.isinf(float(\"inf\")))\n",
    "print(math.isinf(float(\"-inf\")))\n",
    "print(math.isinf(-math.inf)) "
   ]
  },
  {
   "cell_type": "markdown",
   "id": "0c8df2e9",
   "metadata": {},
   "source": [
    "<h3>isnan<br><br>Checks whether a value is NaN (not a number) or not\n",
    "</h3>"
   ]
  },
  {
   "cell_type": "code",
   "execution_count": 372,
   "id": "57909935",
   "metadata": {},
   "outputs": [
    {
     "name": "stdout",
     "output_type": "stream",
     "text": [
      "False\n",
      "False\n",
      "False\n",
      "False\n",
      "True\n",
      "False\n",
      "False\n",
      "True\n"
     ]
    }
   ],
   "source": [
    "print (math.isnan (56))\n",
    "print (math.isnan (-45.34))\n",
    "print (math.isnan (+45.34))\n",
    "print (math.isnan (math.inf))\n",
    "print (math.isnan (float(\"nan\")))\n",
    "print (math.isnan (float(\"inf\")))\n",
    "print (math.isnan (float(\"-inf\")))\n",
    "print (math.isnan (math.nan)) "
   ]
  }
 ],
 "metadata": {
  "kernelspec": {
   "display_name": "Python 3 (ipykernel)",
   "language": "python",
   "name": "python3"
  },
  "language_info": {
   "codemirror_mode": {
    "name": "ipython",
    "version": 3
   },
   "file_extension": ".py",
   "mimetype": "text/x-python",
   "name": "python",
   "nbconvert_exporter": "python",
   "pygments_lexer": "ipython3",
   "version": "3.10.6"
  }
 },
 "nbformat": 4,
 "nbformat_minor": 5
}

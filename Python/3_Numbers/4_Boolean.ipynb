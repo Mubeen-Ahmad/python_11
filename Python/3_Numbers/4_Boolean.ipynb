{
 "cells": [
  {
   "cell_type": "markdown",
   "id": "0a77dcbd",
   "metadata": {},
   "source": [
    "# Boolean Number\n",
    "\n",
    "<h3>\n",
    "Python boolean type is one of the built-in data types provided by Python, which represents one of the two values i.e. True or False. <br><br>Generally, it is used to represent the truth values of the expressions.<br><br>For example, 1==1 is True whereas 2 < 1 is False. \n",
    "\n",
    "The boolean value can be of two types only i.e. either True or False. The output <class ‘bool’> indicates the variable is a boolean data type.\n",
    "</h3>\n"
   ]
  },
  {
   "cell_type": "code",
   "execution_count": 1,
   "id": "58e42802",
   "metadata": {},
   "outputs": [
    {
     "name": "stdout",
     "output_type": "stream",
     "text": [
      "False <class 'bool'>\n"
     ]
    }
   ],
   "source": [
    "x = 0\n",
    "r = x == 1\n",
    "print(r,type(r))"
   ]
  },
  {
   "cell_type": "code",
   "execution_count": 2,
   "id": "2cbf7ba7",
   "metadata": {},
   "outputs": [
    {
     "name": "stdout",
     "output_type": "stream",
     "text": [
      "True <class 'bool'>\n"
     ]
    }
   ],
   "source": [
    "x = 1\n",
    "r = x == 1\n",
    "print(r,type(r))"
   ]
  },
  {
   "cell_type": "markdown",
   "id": "68a18a3c",
   "metadata": {},
   "source": [
    "# bool Function (bool Conservation)"
   ]
  },
  {
   "cell_type": "code",
   "execution_count": 3,
   "id": "61cd1e50",
   "metadata": {},
   "outputs": [
    {
     "data": {
      "text/plain": [
       "True"
      ]
     },
     "execution_count": 3,
     "metadata": {},
     "output_type": "execute_result"
    }
   ],
   "source": [
    "bool(1)"
   ]
  },
  {
   "cell_type": "code",
   "execution_count": 4,
   "id": "39c62174",
   "metadata": {},
   "outputs": [
    {
     "data": {
      "text/plain": [
       "False"
      ]
     },
     "execution_count": 4,
     "metadata": {},
     "output_type": "execute_result"
    }
   ],
   "source": [
    "bool(0)"
   ]
  },
  {
   "cell_type": "code",
   "execution_count": 5,
   "id": "7afa5502",
   "metadata": {},
   "outputs": [
    {
     "data": {
      "text/plain": [
       "True"
      ]
     },
     "execution_count": 5,
     "metadata": {},
     "output_type": "execute_result"
    }
   ],
   "source": [
    "bool(True)"
   ]
  },
  {
   "cell_type": "code",
   "execution_count": 6,
   "id": "46ee45cf",
   "metadata": {},
   "outputs": [
    {
     "data": {
      "text/plain": [
       "False"
      ]
     },
     "execution_count": 6,
     "metadata": {},
     "output_type": "execute_result"
    }
   ],
   "source": [
    "bool(False)"
   ]
  },
  {
   "cell_type": "markdown",
   "id": "b9386328",
   "metadata": {},
   "source": [
    "# Lets UnderStand it\n",
    "\n",
    "<h2>\n",
    "<p>0 means nothing , and greater than 0 means Somthing So Noting is False and Something is True</p><br><br>\n",
    "and False(nothing) , True(Somthing)\n",
    "</h2>"
   ]
  },
  {
   "cell_type": "code",
   "execution_count": 7,
   "id": "7f3228f4",
   "metadata": {},
   "outputs": [
    {
     "data": {
      "text/plain": [
       "True"
      ]
     },
     "execution_count": 7,
     "metadata": {},
     "output_type": "execute_result"
    }
   ],
   "source": [
    "bool(True) # means is Somthing"
   ]
  },
  {
   "cell_type": "code",
   "execution_count": 8,
   "id": "1171dc39",
   "metadata": {},
   "outputs": [
    {
     "data": {
      "text/plain": [
       "False"
      ]
     },
     "execution_count": 8,
     "metadata": {},
     "output_type": "execute_result"
    }
   ],
   "source": [
    "bool(False) # means is Nothing"
   ]
  },
  {
   "cell_type": "code",
   "execution_count": 9,
   "id": "3e056d91",
   "metadata": {},
   "outputs": [
    {
     "data": {
      "text/plain": [
       "False"
      ]
     },
     "execution_count": 9,
     "metadata": {},
     "output_type": "execute_result"
    }
   ],
   "source": [
    "bool(None) # means None is Nothing "
   ]
  },
  {
   "cell_type": "code",
   "execution_count": 10,
   "id": "a988f3ee",
   "metadata": {},
   "outputs": [
    {
     "data": {
      "text/plain": [
       "True"
      ]
     },
     "execution_count": 10,
     "metadata": {},
     "output_type": "execute_result"
    }
   ],
   "source": [
    "bool(2) # 2 greater than 0 means Somthing so its true"
   ]
  },
  {
   "cell_type": "markdown",
   "id": "07ab0aaa",
   "metadata": {},
   "source": [
    "# bool Constructor"
   ]
  },
  {
   "cell_type": "code",
   "execution_count": 11,
   "id": "39f6bcf4",
   "metadata": {},
   "outputs": [],
   "source": [
    "x = bool()"
   ]
  },
  {
   "cell_type": "code",
   "execution_count": 13,
   "id": "5a96f8be",
   "metadata": {},
   "outputs": [
    {
     "name": "stdout",
     "output_type": "stream",
     "text": [
      "False <class 'bool'>\n"
     ]
    }
   ],
   "source": [
    "print(x,type(x))"
   ]
  }
 ],
 "metadata": {
  "kernelspec": {
   "display_name": "Python 3 (ipykernel)",
   "language": "python",
   "name": "python3"
  },
  "language_info": {
   "codemirror_mode": {
    "name": "ipython",
    "version": 3
   },
   "file_extension": ".py",
   "mimetype": "text/x-python",
   "name": "python",
   "nbconvert_exporter": "python",
   "pygments_lexer": "ipython3",
   "version": "3.10.6"
  }
 },
 "nbformat": 4,
 "nbformat_minor": 5
}

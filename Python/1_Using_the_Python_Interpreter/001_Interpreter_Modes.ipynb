{
 "cells": [
  {
   "cell_type": "markdown",
   "id": "bd5883ef",
   "metadata": {},
   "source": [
    "<h1>What is Interpreter</h1>\n",
    "\n",
    "<h3><pre>In computer science, an interpreter is a computer program that directly executes instructions written in a programming or scripting language, without requiring them previously to have been compiled into a machine language program</pre></h3>"
   ]
  },
  {
   "cell_type": "markdown",
   "id": "94bfcf4b",
   "metadata": {},
   "source": [
    "<h3>Python is an interpreted, object-oriented, high-level programming language with dynamic semantics developed by Guido van Rossum.<br><br>It was originally released in 1991.<br><br>Designed to be easy as well as fun, the name \"Python\" is a nod to the British comedy group Monty Python.<br><br>\n",
    "Python is written in C programming language, and it is also called CPython.<br><br>  \n",
    "Python 3.11 is between 10-60% faster than Python 3.10. On average, we measured a 1.25x speedup on the standard benchmark suite.\n",
    "    \n",
    "<h3>"
   ]
  },
  {
   "cell_type": "markdown",
   "id": "5b479e75",
   "metadata": {},
   "source": [
    "<h1>Two Types of Interpreter Modes</h1>\n",
    "<h2>\n",
    "    <ul><li>Interactive Mode</li></ul>\n",
    "    <ul><li>Script Mode</li></ul>\n",
    "\n",
    "</h2>"
   ]
  },
  {
   "cell_type": "markdown",
   "id": "88ece36e",
   "metadata": {},
   "source": [
    "<h1>Interactive Mode</h1>\n",
    "\n",
    "<h3>When a Python statement is entered, and is followed by the Return key, if appropriate, the result will be printed on the screen, immediately, in the next line. This is particularly advantageous in the debugging process. In interactive mode of operation</h3>"
   ]
  },
  {
   "cell_type": "markdown",
   "id": "6532e487",
   "metadata": {},
   "source": [
    "<img src=\"_pix/1.png\" width=\"800\">"
   ]
  },
  {
   "cell_type": "markdown",
   "id": "6f8ca1b1",
   "metadata": {},
   "source": [
    "<img src=\"_pix/2.png\" width=\"800\">"
   ]
  },
  {
   "cell_type": "markdown",
   "id": "04e22a50",
   "metadata": {},
   "source": [
    "<h1>Script Mode</h1>\n",
    "<h3>A system of writing scripts or anything is referred to as script etymologically.<br>We first write a Python program inside a file (like a script) in the script mode, and then we execute the file after saving it in our system.<br><br>So, Script mode in Python is where we first write the Python program inside a script file and execute it after that. We can execute the script of code either using the command prompt or using Python IDE installed in our system.</h3>"
   ]
  },
  {
   "cell_type": "code",
   "execution_count": 39,
   "id": "122dc226",
   "metadata": {},
   "outputs": [
    {
     "name": "stdout",
     "output_type": "stream",
     "text": [
      "1.png  2.png\r\n"
     ]
    }
   ],
   "source": [
    "!ls .pix"
   ]
  },
  {
   "cell_type": "code",
   "execution_count": 30,
   "id": "2b93f0ac",
   "metadata": {},
   "outputs": [
    {
     "name": "stdout",
     "output_type": "stream",
     "text": [
      "pix  Untitled.ipynb\r\n"
     ]
    }
   ],
   "source": [
    "!ls"
   ]
  },
  {
   "cell_type": "code",
   "execution_count": 33,
   "id": "802b8413",
   "metadata": {},
   "outputs": [],
   "source": [
    "!echo \"print('Hello')\" > code.py"
   ]
  },
  {
   "cell_type": "code",
   "execution_count": 34,
   "id": "b4434030",
   "metadata": {},
   "outputs": [
    {
     "name": "stdout",
     "output_type": "stream",
     "text": [
      "code.py  pix  Untitled.ipynb\r\n"
     ]
    }
   ],
   "source": [
    "!ls"
   ]
  },
  {
   "cell_type": "code",
   "execution_count": 35,
   "id": "ea070fc2",
   "metadata": {},
   "outputs": [
    {
     "name": "stdout",
     "output_type": "stream",
     "text": [
      "print('Hello')\r\n"
     ]
    }
   ],
   "source": [
    "cat code.py"
   ]
  },
  {
   "cell_type": "markdown",
   "id": "623174a6",
   "metadata": {},
   "source": [
    "<h2>Run Script</h2>"
   ]
  },
  {
   "cell_type": "code",
   "execution_count": 36,
   "id": "e82c3f76",
   "metadata": {},
   "outputs": [
    {
     "name": "stdout",
     "output_type": "stream",
     "text": [
      "Hello\r\n"
     ]
    }
   ],
   "source": [
    "!python3.11 code.py"
   ]
  }
 ],
 "metadata": {
  "kernelspec": {
   "display_name": "Python 3 (ipykernel)",
   "language": "python",
   "name": "python3"
  },
  "language_info": {
   "codemirror_mode": {
    "name": "ipython",
    "version": 3
   },
   "file_extension": ".py",
   "mimetype": "text/x-python",
   "name": "python",
   "nbconvert_exporter": "python",
   "pygments_lexer": "ipython3",
   "version": "3.10.6"
  }
 },
 "nbformat": 4,
 "nbformat_minor": 5
}

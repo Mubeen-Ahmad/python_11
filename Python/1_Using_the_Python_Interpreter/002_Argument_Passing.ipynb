{
 "cells": [
  {
   "cell_type": "markdown",
   "id": "43e7d9b0",
   "metadata": {},
   "source": [
    "<h2>The arguments that are given after the name of the program in the command line shell of the operating system are known as Command Line Arguments. </h2>"
   ]
  },
  {
   "cell_type": "code",
   "execution_count": 82,
   "id": "3d95c0e7",
   "metadata": {},
   "outputs": [],
   "source": [
    "import sys,os\n",
    "sys.argv[0]\n",
    "\n",
    "# output \n",
    "# filename"
   ]
  },
  {
   "cell_type": "markdown",
   "id": "17fc7bc1",
   "metadata": {},
   "source": [
    "<img src=\"_pix/3.png\" height=\"1\" width=\"500\" style=\"display: block;margin-left: auto;margin-right: auto;width: 50%;\">"
   ]
  },
  {
   "cell_type": "code",
   "execution_count": null,
   "id": "a92ac6b1",
   "metadata": {},
   "outputs": [],
   "source": [
    "import sys,os\n",
    "sys.argv[0:]\n",
    "\n",
    "# note 0 argument must be a name of script file"
   ]
  },
  {
   "cell_type": "markdown",
   "id": "088c5d8a",
   "metadata": {},
   "source": [
    "<img src=\"_pix/4.png\" height=\"1\" width=\"500\" style=\"display: block;margin-left: auto;margin-right: auto;width: 50%;\">"
   ]
  }
 ],
 "metadata": {
  "kernelspec": {
   "display_name": "Python 3 (ipykernel)",
   "language": "python",
   "name": "python3"
  },
  "language_info": {
   "codemirror_mode": {
    "name": "ipython",
    "version": 3
   },
   "file_extension": ".py",
   "mimetype": "text/x-python",
   "name": "python",
   "nbconvert_exporter": "python",
   "pygments_lexer": "ipython3",
   "version": "3.10.6"
  }
 },
 "nbformat": 4,
 "nbformat_minor": 5
}

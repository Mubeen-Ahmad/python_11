{
 "cells": [
  {
   "cell_type": "markdown",
   "id": "6d798305",
   "metadata": {},
   "source": [
    "# Conditional Statement\n",
    "\n",
    "<h2>Conditional Statement in Python perform different computations or actions depending on whether a specific Boolean constraint evaluates to true or false</h2>"
   ]
  },
  {
   "cell_type": "markdown",
   "id": "7377e414",
   "metadata": {},
   "source": [
    "<h3 style=\"color:#4e2abd;\">if <br><br><br><br>Python if Statement is used for decision-making operations. <br><br>It contains a body of code which runs only when the condition given in the if statement is true. <br><br>If the condition is false, then the optional else statement runs which contains some code for the else condition.\n",
    "<br><br><br><br>\n",
    "\n",
    "$$ if\\;\\;expression\\;:$$\n",
    "$$\\;\\;\\;\\;\\;\\;Statement$$\n",
    "</h3>\n",
    "\n"
   ]
  },
  {
   "cell_type": "markdown",
   "id": "2ce0d913",
   "metadata": {},
   "source": [
    "<img style=\"display: block;margin-left: auto;margin-right: auto;width: 40%;\" src=\"../../images/if_else.png\" >"
   ]
  },
  {
   "cell_type": "code",
   "execution_count": 6,
   "id": "ec789b90",
   "metadata": {},
   "outputs": [
    {
     "name": "stdout",
     "output_type": "stream",
     "text": [
      "3 is a positive number.\n",
      "This is always printed.\n"
     ]
    }
   ],
   "source": [
    "# If the number is positive, we print an appropriate message\n",
    "\n",
    "num = 3\n",
    "if num > 0:\n",
    "    print(num, \"is a positive number.\")\n",
    "print(\"This is always printed.\")"
   ]
  },
  {
   "cell_type": "code",
   "execution_count": 7,
   "id": "e0dce805",
   "metadata": {},
   "outputs": [
    {
     "name": "stdout",
     "output_type": "stream",
     "text": [
      "This is also always printed.\n"
     ]
    }
   ],
   "source": [
    "num = -1\n",
    "if num > 0:\n",
    "    print(num, \"is a positive number.\")\n",
    "print(\"This is also always printed.\")"
   ]
  },
  {
   "cell_type": "markdown",
   "id": "4dc39c2d",
   "metadata": {},
   "source": [
    "<h3 style=\"color:#4e2abd;\">else <br><br><br><br>if the (if) condition is false, then the optional else statement runs which contains some code for the else condition.\n",
    "<br><br><br><br>\n",
    "\n",
    "$$ if\\;\\;expression\\;:$$\n",
    "$$\\;\\;\\;\\;\\;\\;Statement$$\n",
    "$$ else:\\;\\;\\;\\;\\;\\;\\;\\;\\;\\;\\;\\;\\;\\;\\;\\;\\;\\;$$\n",
    "$$\\;\\;\\;\\;\\;\\;Statement$$\n",
    "</h3>\n",
    "\n"
   ]
  },
  {
   "cell_type": "code",
   "execution_count": 9,
   "id": "4c0554b7",
   "metadata": {},
   "outputs": [
    {
     "name": "stdout",
     "output_type": "stream",
     "text": [
      "Positive or Zero\n"
     ]
    }
   ],
   "source": [
    "num = 3\n",
    "\n",
    "\n",
    "if num >= 0:\n",
    "    print(\"Positive or Zero\")\n",
    "else:\n",
    "    print(\"Negative number\")"
   ]
  },
  {
   "cell_type": "code",
   "execution_count": 10,
   "id": "0dd0a03b",
   "metadata": {},
   "outputs": [
    {
     "name": "stdout",
     "output_type": "stream",
     "text": [
      "Negative number\n"
     ]
    }
   ],
   "source": [
    "num = -3\n",
    "\n",
    "\n",
    "if num >= 0:\n",
    "    print(\"Positive or Zero\")\n",
    "else:\n",
    "    print(\"Negative number\")"
   ]
  },
  {
   "cell_type": "markdown",
   "id": "531f4eac",
   "metadata": {},
   "source": [
    "<h3 style=\"color:#4e2abd;\">if elif and else <br><br><br><br>\n",
    "    \n",
    "The elif is short for else if. It allows us to check for multiple expressions.\n",
    "\n",
    "If the condition for if is False, it checks the condition of the next elif block and so on.\n",
    "\n",
    "If all the conditions are False, the body of else is executed.\n",
    "\n",
    "Only one block among the several if...elif...else blocks is executed according to the condition.\n",
    "\n",
    "The if block can have only one else block. But it can have multiple elif blocks.    \n",
    "    \n",
    "    \n",
    "<br><br><br><br>\n",
    "\n",
    "$$ if\\;\\;expression\\;:$$\n",
    "$$\\;\\;\\;\\;\\;\\;Statement$$<br>\n",
    "$$ elif\\;\\;expression\\;:$$\n",
    "$$\\;\\;\\;\\;\\;\\;Statement$$<br>\n",
    "$$ else:\\;\\;\\;\\;\\;\\;\\;\\;\\;\\;\\;\\;\\;\\;\\;\\;\\;\\;$$\n",
    "$$\\;\\;\\;\\;\\;\\;Statement$$\n",
    "</h3>\n",
    "\n"
   ]
  },
  {
   "cell_type": "markdown",
   "id": "214a068c",
   "metadata": {},
   "source": [
    "<img style=\"display: block;margin-left: auto;margin-right: auto;width: 40%;\" src=\"../../images/elif.png\" >"
   ]
  },
  {
   "cell_type": "code",
   "execution_count": 2,
   "id": "23c4f6b1",
   "metadata": {},
   "outputs": [
    {
     "name": "stdout",
     "output_type": "stream",
     "text": [
      "Positive number\n"
     ]
    }
   ],
   "source": [
    "num = 3.4\n",
    "\n",
    "if num > 0:\n",
    "    print(\"Positive number\")\n",
    "\n",
    "elif num == 0:\n",
    "    print(\"Zero\")\n",
    "\n",
    "else:\n",
    "    print(\"Negative number\")"
   ]
  },
  {
   "cell_type": "code",
   "execution_count": 3,
   "id": "79c81628",
   "metadata": {},
   "outputs": [
    {
     "name": "stdout",
     "output_type": "stream",
     "text": [
      "Negative number\n"
     ]
    }
   ],
   "source": [
    "num = -3.4\n",
    "\n",
    "if num > 0:\n",
    "    print(\"Positive number\")\n",
    "\n",
    "elif num == 0:\n",
    "    print(\"Zero\")\n",
    "\n",
    "else:\n",
    "    print(\"Negative number\")"
   ]
  },
  {
   "cell_type": "code",
   "execution_count": 5,
   "id": "5335c2cf",
   "metadata": {},
   "outputs": [
    {
     "name": "stdout",
     "output_type": "stream",
     "text": [
      "Zero\n"
     ]
    }
   ],
   "source": [
    "num = 0\n",
    "\n",
    "if num > 0:\n",
    "    print(\"Positive number\")\n",
    "\n",
    "elif num == 0:\n",
    "    print(\"Zero\")\n",
    "\n",
    "else:\n",
    "    print(\"Negative number\")"
   ]
  },
  {
   "cell_type": "markdown",
   "id": "dda06152",
   "metadata": {},
   "source": [
    "<h3 style=\"color:#4e2abd;\">Nested if Statements <br><br><br><br>\n",
    "    We can have a if...elif...else statement inside another if...elif...else statement. This is called nesting in computer programming.\n",
    "\n",
    "Any number of these statements can be nested inside one another. Indentation is the only way to figure out the level of nesting. They can get confusing, so they must be avoided unless necessary.\n",
    "<br><br><br><br>\n",
    "\n",
    "</h3>\n",
    "\n"
   ]
  },
  {
   "cell_type": "code",
   "execution_count": 6,
   "id": "fc43701f",
   "metadata": {},
   "outputs": [
    {
     "name": "stdout",
     "output_type": "stream",
     "text": [
      "Zero\n"
     ]
    }
   ],
   "source": [
    "num = 0\n",
    "\n",
    "if num >= 0:\n",
    "    \n",
    "    if num == 0:\n",
    "        print(\"Zero\")\n",
    "    else:\n",
    "        print(\"Positive number\")\n",
    "else:\n",
    "    print(\"Negative number\")"
   ]
  },
  {
   "cell_type": "code",
   "execution_count": 7,
   "id": "d93888df",
   "metadata": {},
   "outputs": [
    {
     "name": "stdout",
     "output_type": "stream",
     "text": [
      "Positive number\n"
     ]
    }
   ],
   "source": [
    "num = 1\n",
    "\n",
    "if num >= 0:\n",
    "    \n",
    "    if num == 0:\n",
    "        print(\"Zero\")\n",
    "    else:\n",
    "        print(\"Positive number\")\n",
    "else:\n",
    "    print(\"Negative number\")"
   ]
  },
  {
   "cell_type": "code",
   "execution_count": 8,
   "id": "2ad20ebd",
   "metadata": {},
   "outputs": [
    {
     "name": "stdout",
     "output_type": "stream",
     "text": [
      "Negative number\n"
     ]
    }
   ],
   "source": [
    "num = -1\n",
    "\n",
    "if num >= 0:\n",
    "    \n",
    "    if num == 0:\n",
    "        print(\"Zero\")\n",
    "    else:\n",
    "        print(\"Positive number\")\n",
    "else:\n",
    "    print(\"Negative number\")"
   ]
  },
  {
   "cell_type": "markdown",
   "id": "086519e5",
   "metadata": {},
   "source": [
    "<h3 style=\"color:#4e2abd;\">match case <br><br><br><br>\n",
    "    Python 3.10 is adding a new feature called Structural Pattern Matching, which is defined in PEP 634 and has a tutorial on the topic in PEP 636. <br><br>Structural Pattern Matching brings the case / switch statement to Python. The new syntax goes beyond what some languages use for their case statements.\n",
    "\n",
    "\n",
    "\n",
    "\n",
    "</h3>\n",
    "\n"
   ]
  },
  {
   "cell_type": "code",
   "execution_count": 19,
   "id": "738f1991",
   "metadata": {},
   "outputs": [
    {
     "name": "stdout",
     "output_type": "stream",
     "text": [
      "x is 1\n"
     ]
    }
   ],
   "source": [
    "x = 1\n",
    "\n",
    "match x:\n",
    "    \n",
    "    case 1:\n",
    "        print(\"x is 1\")\n",
    "    \n",
    "    case 2:\n",
    "        print(\"x is 2\")\n",
    "        \n",
    "    case _:\n",
    "        print(\"x is not 1 and 2\")"
   ]
  },
  {
   "cell_type": "code",
   "execution_count": 20,
   "id": "29b7a7a5",
   "metadata": {},
   "outputs": [
    {
     "name": "stdout",
     "output_type": "stream",
     "text": [
      "x is 2\n"
     ]
    }
   ],
   "source": [
    "x = 2\n",
    "\n",
    "match x:\n",
    "    \n",
    "    case 1:\n",
    "        print(\"x is 1\")\n",
    "    \n",
    "    case 2:\n",
    "        print(\"x is 2\")\n",
    "        \n",
    "    case _:\n",
    "        print(\"x is not 1 and 2\")"
   ]
  },
  {
   "cell_type": "code",
   "execution_count": 21,
   "id": "412d746c",
   "metadata": {},
   "outputs": [
    {
     "name": "stdout",
     "output_type": "stream",
     "text": [
      "x is not 1 and 2\n"
     ]
    }
   ],
   "source": [
    "x = 3\n",
    "\n",
    "match x:\n",
    "    \n",
    "    case 1:\n",
    "        print(\"x is 1\")\n",
    "    \n",
    "    case 2:\n",
    "        print(\"x is 2\")\n",
    "        \n",
    "    case _:\n",
    "        print(\"x is not 1 and 2\")"
   ]
  },
  {
   "cell_type": "markdown",
   "id": "db7fff80",
   "metadata": {},
   "source": [
    "# use or |"
   ]
  },
  {
   "cell_type": "code",
   "execution_count": 32,
   "id": "5d9fa3cd",
   "metadata": {},
   "outputs": [
    {
     "name": "stdout",
     "output_type": "stream",
     "text": [
      "value of x in the range in (1-5)\n"
     ]
    }
   ],
   "source": [
    "x = 1\n",
    "\n",
    "match x:\n",
    "    case 1|2|3|4|5:\n",
    "        \n",
    "        print(\"value of x in the range in (1-5)\")\n",
    "        \n",
    "    case _:\n",
    "        \n",
    "        print(\"value of x  not in the range in (1-5)\")"
   ]
  },
  {
   "cell_type": "markdown",
   "id": "a3958419",
   "metadata": {},
   "source": [
    "# Short Hand If\n",
    "\n",
    "## If you have only one statement to execute, you can put it on the same line as the if statement."
   ]
  },
  {
   "cell_type": "code",
   "execution_count": 6,
   "id": "43a7dd50",
   "metadata": {},
   "outputs": [
    {
     "name": "stdout",
     "output_type": "stream",
     "text": [
      "a is greater than b\n"
     ]
    }
   ],
   "source": [
    "a = 3\n",
    "b = 2\n",
    "if a > b: print(\"a is greater than b\") "
   ]
  },
  {
   "cell_type": "markdown",
   "id": "5a1a9eb6",
   "metadata": {},
   "source": [
    "## if else Single line"
   ]
  },
  {
   "cell_type": "code",
   "execution_count": 5,
   "id": "8131d1ae",
   "metadata": {},
   "outputs": [
    {
     "name": "stdout",
     "output_type": "stream",
     "text": [
      "a is greater than b\n"
     ]
    }
   ],
   "source": [
    "a = 2\n",
    "b = 3\n",
    "\n",
    "print(\"a is Shorter than b\") if a > b else  print(\"a is greater than b\") "
   ]
  },
  {
   "cell_type": "markdown",
   "id": "85f03722",
   "metadata": {},
   "source": [
    "# The pass Statement\n",
    "\n",
    "## if statements cannot be empty, but if you for some reason have an if statement with no content, put in the pass statement to avoid getting an error."
   ]
  },
  {
   "cell_type": "code",
   "execution_count": 7,
   "id": "35ffba83",
   "metadata": {},
   "outputs": [
    {
     "ename": "SyntaxError",
     "evalue": "incomplete input (1416786165.py, line 3)",
     "output_type": "error",
     "traceback": [
      "\u001b[0;36m  Cell \u001b[0;32mIn [7], line 3\u001b[0;36m\u001b[0m\n\u001b[0;31m    if x == 10:\u001b[0m\n\u001b[0m               ^\u001b[0m\n\u001b[0;31mSyntaxError\u001b[0m\u001b[0;31m:\u001b[0m incomplete input\n"
     ]
    }
   ],
   "source": [
    "x = 10\n",
    "\n",
    "if x == 10:"
   ]
  },
  {
   "cell_type": "code",
   "execution_count": 8,
   "id": "9f20ca0b",
   "metadata": {},
   "outputs": [],
   "source": [
    "# use pass statement\n",
    "\n",
    "x = 10\n",
    "\n",
    "if x == 10:\n",
    "    pass"
   ]
  },
  {
   "cell_type": "markdown",
   "id": "827f17ce",
   "metadata": {},
   "source": [
    "# Also use Ellipsis or ... (3 dots instead of pass)"
   ]
  },
  {
   "cell_type": "code",
   "execution_count": 16,
   "id": "c55525fc",
   "metadata": {},
   "outputs": [],
   "source": [
    "x = 10\n",
    "\n",
    "if x == 10:\n",
    "    Ellipsis"
   ]
  },
  {
   "cell_type": "code",
   "execution_count": 17,
   "id": "8171c98d",
   "metadata": {},
   "outputs": [],
   "source": [
    "x = 10\n",
    "\n",
    "if x == 10:\n",
    "    ..."
   ]
  },
  {
   "cell_type": "code",
   "execution_count": 19,
   "id": "c9552c9a",
   "metadata": {},
   "outputs": [
    {
     "data": {
      "text/plain": [
       "True"
      ]
     },
     "execution_count": 19,
     "metadata": {},
     "output_type": "execute_result"
    }
   ],
   "source": [
    "Ellipsis == ..."
   ]
  }
 ],
 "metadata": {
  "kernelspec": {
   "display_name": "Python 3 (ipykernel)",
   "language": "python",
   "name": "python3"
  },
  "language_info": {
   "codemirror_mode": {
    "name": "ipython",
    "version": 3
   },
   "file_extension": ".py",
   "mimetype": "text/x-python",
   "name": "python",
   "nbconvert_exporter": "python",
   "pygments_lexer": "ipython3",
   "version": "3.10.6"
  }
 },
 "nbformat": 4,
 "nbformat_minor": 5
}

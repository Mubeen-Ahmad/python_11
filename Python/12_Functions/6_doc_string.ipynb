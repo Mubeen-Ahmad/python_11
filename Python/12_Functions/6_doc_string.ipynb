{
 "cells": [
  {
   "cell_type": "markdown",
   "id": "c616ec9a",
   "metadata": {},
   "source": [
    "# Python documentation strings (or docstrings) provide a convenient way of associating documentation with Python modules, functions, classes, and methods.\n",
    "\n",
    "### It’s specified in source code that is used, like a comment, to document a specific segment of code.<br><br> Unlike conventional source code comments, the docstring should describe what the function does, not how."
   ]
  },
  {
   "cell_type": "markdown",
   "id": "4c964610",
   "metadata": {},
   "source": [
    "<br><br>\n",
    "# Example"
   ]
  },
  {
   "cell_type": "markdown",
   "id": "bcd7c741",
   "metadata": {},
   "source": [
    "## len function"
   ]
  },
  {
   "cell_type": "code",
   "execution_count": 2,
   "id": "525c6e54",
   "metadata": {},
   "outputs": [
    {
     "name": "stdout",
     "output_type": "stream",
     "text": [
      "Return the number of items in a container.\n"
     ]
    }
   ],
   "source": [
    "# len function \n",
    "\n",
    "# check what is the working of len function\n",
    "\n",
    "print(len.__doc__)"
   ]
  },
  {
   "cell_type": "markdown",
   "id": "ccdebfc2",
   "metadata": {},
   "source": [
    "## print function"
   ]
  },
  {
   "cell_type": "code",
   "execution_count": 3,
   "id": "eab0bdbc",
   "metadata": {},
   "outputs": [
    {
     "name": "stdout",
     "output_type": "stream",
     "text": [
      "print(value, ..., sep=' ', end='\\n', file=sys.stdout, flush=False)\n",
      "\n",
      "Prints the values to a stream, or to sys.stdout by default.\n",
      "Optional keyword arguments:\n",
      "file:  a file-like object (stream); defaults to the current sys.stdout.\n",
      "sep:   string inserted between values, default a space.\n",
      "end:   string appended after the last value, default a newline.\n",
      "flush: whether to forcibly flush the stream.\n"
     ]
    }
   ],
   "source": [
    "print(print.__doc__)"
   ]
  },
  {
   "cell_type": "markdown",
   "id": "696c805d",
   "metadata": {},
   "source": [
    "## range function\n"
   ]
  },
  {
   "cell_type": "code",
   "execution_count": 4,
   "id": "d6334b41",
   "metadata": {},
   "outputs": [
    {
     "name": "stdout",
     "output_type": "stream",
     "text": [
      "range(stop) -> range object\n",
      "range(start, stop[, step]) -> range object\n",
      "\n",
      "Return an object that produces a sequence of integers from start (inclusive)\n",
      "to stop (exclusive) by step.  range(i, j) produces i, i+1, i+2, ..., j-1.\n",
      "start defaults to 0, and stop is omitted!  range(4) produces 0, 1, 2, 3.\n",
      "These are exactly the valid indices for a list of 4 elements.\n",
      "When step is given, it specifies the increment (or decrement).\n"
     ]
    }
   ],
   "source": [
    "print(range.__doc__)"
   ]
  },
  {
   "cell_type": "markdown",
   "id": "6d299f0e",
   "metadata": {},
   "source": [
    "<br><br>\n",
    "\n",
    "# Create own Doc string"
   ]
  },
  {
   "cell_type": "code",
   "execution_count": 24,
   "id": "13e698d2",
   "metadata": {},
   "outputs": [],
   "source": [
    "def my_sum(x,y):\n",
    "    \"\"\"my_sum(x,y) --> sum of x and y\\n\\nReturn the sum of only two Numbers    \n",
    "    \"\"\"\n",
    "    \n",
    "    return x + y\n"
   ]
  },
  {
   "cell_type": "code",
   "execution_count": 25,
   "id": "94c5abaa",
   "metadata": {},
   "outputs": [
    {
     "name": "stdout",
     "output_type": "stream",
     "text": [
      "my_sum(x,y) --> sum of x and y\n",
      "\n",
      "Return the sum of only two Numbers    \n",
      "    \n"
     ]
    }
   ],
   "source": [
    "print(my_sum.__doc__)"
   ]
  },
  {
   "cell_type": "code",
   "execution_count": 26,
   "id": "94bd7db8",
   "metadata": {},
   "outputs": [
    {
     "data": {
      "text/plain": [
       "5"
      ]
     },
     "execution_count": 26,
     "metadata": {},
     "output_type": "execute_result"
    }
   ],
   "source": [
    "my_sum(2,3)"
   ]
  }
 ],
 "metadata": {
  "kernelspec": {
   "display_name": "Python 3 (ipykernel)",
   "language": "python",
   "name": "python3"
  },
  "language_info": {
   "codemirror_mode": {
    "name": "ipython",
    "version": 3
   },
   "file_extension": ".py",
   "mimetype": "text/x-python",
   "name": "python",
   "nbconvert_exporter": "python",
   "pygments_lexer": "ipython3",
   "version": "3.10.6"
  }
 },
 "nbformat": 4,
 "nbformat_minor": 5
}

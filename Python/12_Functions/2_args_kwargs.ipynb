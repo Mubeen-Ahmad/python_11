{
 "cells": [
  {
   "cell_type": "markdown",
   "id": "9564350a",
   "metadata": {},
   "source": [
    "# Args and Kwargs\n",
    "\n",
    "\n",
    "## We can pass a variable number of arguments to a function using special symbols. \n",
    "## There are two special symbols:\n",
    "\n",
    "<img src=\"../../images/non_keyword.png\" style=\"display: block;margin-left: auto;margin-right: auto;width: 50%;\">"
   ]
  },
  {
   "cell_type": "markdown",
   "id": "11a765e6",
   "metadata": {},
   "source": [
    "# Special Symbols Used for passing arguments:-\n",
    "\n",
    "## *args (Non-Keyword Arguments)\n",
    "## **kwargs (Keyword Arguments)"
   ]
  },
  {
   "cell_type": "markdown",
   "id": "8d51d61d",
   "metadata": {},
   "source": [
    "<br><br>\n",
    "\n",
    "# What is Python *args ?\n",
    "\n",
    "<h3 style=\"color:#4e2abd;\">\n",
    "The special syntax *args in function definitions in python is used to pass a variable number of arguments to a function. <br><br> \n",
    "It is used to pass a non-key worded, variable-length argument list.</h3> <br>\n",
    "    \n",
    " <h3 style=\"color:#cc4f0c;\">\n",
    "• The syntax is to use the symbol * to take in a variable number of arguments; by convention, it is often used with the word args.<br><br>\n",
    "• What *args allows you to do is take in more arguments than the number of formal arguments that you previously defined. With *args, any number of extra arguments can be tacked on to your current formal parameters (including zero extra arguments).<br><br>\n",
    "• For example, we want to make a multiply function that takes any number of arguments and is able to multiply them all together. It can be done using *args.<br><br>\n",
    "•Using the *, the variable that we associate with the * becomes an iterable meaning you can do things like iterate over it, run some higher-order functions such as map and filter, etc.\n",
    "\n",
    "</h3>\n"
   ]
  },
  {
   "cell_type": "markdown",
   "id": "83f35789",
   "metadata": {},
   "source": [
    "# Example Without Args"
   ]
  },
  {
   "cell_type": "code",
   "execution_count": 2,
   "id": "9e446333",
   "metadata": {},
   "outputs": [],
   "source": [
    "def func(args):\n",
    "    return args"
   ]
  },
  {
   "cell_type": "code",
   "execution_count": 3,
   "id": "a501ad3d",
   "metadata": {},
   "outputs": [
    {
     "ename": "TypeError",
     "evalue": "func() takes 1 positional argument but 2 were given",
     "output_type": "error",
     "traceback": [
      "\u001b[0;31m---------------------------------------------------------------------------\u001b[0m",
      "\u001b[0;31mTypeError\u001b[0m                                 Traceback (most recent call last)",
      "Cell \u001b[0;32mIn [3], line 1\u001b[0m\n\u001b[0;32m----> 1\u001b[0m \u001b[38;5;28mprint\u001b[39m(\u001b[43mfunc\u001b[49m\u001b[43m(\u001b[49m\u001b[38;5;124;43m\"\u001b[39;49m\u001b[38;5;124;43mMubeen\u001b[39;49m\u001b[38;5;124;43m\"\u001b[39;49m\u001b[43m,\u001b[49m\u001b[38;5;124;43m\"\u001b[39;49m\u001b[38;5;124;43mAhmad\u001b[39;49m\u001b[38;5;124;43m\"\u001b[39;49m\u001b[43m)\u001b[49m)\n",
      "\u001b[0;31mTypeError\u001b[0m: func() takes 1 positional argument but 2 were given"
     ]
    }
   ],
   "source": [
    "print(func(\"Mubeen\",\"Ahmad\"))"
   ]
  },
  {
   "cell_type": "markdown",
   "id": "1f03d1b9",
   "metadata": {},
   "source": [
    "# Example With *Args\n",
    "\n",
    "## *Args return Tuple its same as like a unpacking"
   ]
  },
  {
   "cell_type": "code",
   "execution_count": 4,
   "id": "840d060e",
   "metadata": {},
   "outputs": [],
   "source": [
    "def func(*args):\n",
    "    return args"
   ]
  },
  {
   "cell_type": "code",
   "execution_count": 5,
   "id": "65eef890",
   "metadata": {},
   "outputs": [
    {
     "name": "stdout",
     "output_type": "stream",
     "text": [
      "('Mubeen', 'Ahmad')\n"
     ]
    }
   ],
   "source": [
    "print(func(\"Mubeen\",\"Ahmad\"))"
   ]
  },
  {
   "cell_type": "code",
   "execution_count": 6,
   "id": "4a0ef636",
   "metadata": {},
   "outputs": [
    {
     "name": "stdout",
     "output_type": "stream",
     "text": [
      "('Mubeen', 'Ahmad', 404)\n"
     ]
    }
   ],
   "source": [
    "print(func(\"Mubeen\",\"Ahmad\",404))"
   ]
  },
  {
   "cell_type": "markdown",
   "id": "9fc7fda2",
   "metadata": {},
   "source": [
    "## word *args is just a Name Convenction we can use any word instead of args"
   ]
  },
  {
   "cell_type": "code",
   "execution_count": 7,
   "id": "169d5b77",
   "metadata": {},
   "outputs": [],
   "source": [
    "def func(*name):\n",
    "    return name"
   ]
  },
  {
   "cell_type": "code",
   "execution_count": 8,
   "id": "6d94ba7f",
   "metadata": {},
   "outputs": [
    {
     "name": "stdout",
     "output_type": "stream",
     "text": [
      "('Mubeen', 'Ahmad')\n"
     ]
    }
   ],
   "source": [
    "print(func(\"Mubeen\",\"Ahmad\"))"
   ]
  },
  {
   "cell_type": "markdown",
   "id": "f0635b42",
   "metadata": {},
   "source": [
    "## Python program to illustrate *args with a first extra argument"
   ]
  },
  {
   "cell_type": "code",
   "execution_count": 9,
   "id": "558244d0",
   "metadata": {},
   "outputs": [],
   "source": [
    "def func(ID,*args):\n",
    "    return ID,*args"
   ]
  },
  {
   "cell_type": "code",
   "execution_count": 10,
   "id": "31b8d3e0",
   "metadata": {},
   "outputs": [
    {
     "name": "stdout",
     "output_type": "stream",
     "text": [
      "(10, 'Args 1', 'Args 2', 'Args 2')\n"
     ]
    }
   ],
   "source": [
    "print(func(10,\"Args 1\",\"Args 2\",\"Args 2\"))"
   ]
  },
  {
   "cell_type": "markdown",
   "id": "301b8467",
   "metadata": {},
   "source": [
    "### First argument is 10 and others are *Args"
   ]
  },
  {
   "cell_type": "code",
   "execution_count": 11,
   "id": "8550f578",
   "metadata": {},
   "outputs": [
    {
     "name": "stdout",
     "output_type": "stream",
     "text": [
      "('Args 1', 'Args 2', 'Args 2')\n"
     ]
    }
   ],
   "source": [
    "print(func(\"Args 1\",\"Args 2\",\"Args 2\"))"
   ]
  },
  {
   "cell_type": "code",
   "execution_count": 12,
   "id": "04845257",
   "metadata": {},
   "outputs": [],
   "source": [
    "def func(ID,*args):\n",
    "    return f\"ID = {ID}\\n*args = {args}\""
   ]
  },
  {
   "cell_type": "code",
   "execution_count": 13,
   "id": "6f1cd563",
   "metadata": {},
   "outputs": [
    {
     "name": "stdout",
     "output_type": "stream",
     "text": [
      "ID = Args 1\n",
      "*args = ('Args 2', 'Args 2')\n"
     ]
    }
   ],
   "source": [
    "print(func(\"Args 1\",\"Args 2\",\"Args 2\"))"
   ]
  },
  {
   "cell_type": "markdown",
   "id": "1dae5a15",
   "metadata": {},
   "source": [
    "### First arguments is Args1  and others are *Args"
   ]
  },
  {
   "cell_type": "markdown",
   "id": "1fd336e1",
   "metadata": {},
   "source": [
    "<br><br>\n",
    "\n",
    "# What is Python **kwargs ?\n",
    "\n",
    "<h3 style=\"color:#4e2abd;\">\n",
    "The special syntax **kwargs in function definitions in python is used to pass a keyworded, variable-length argument list. <br><br>We use the name kwargs with the double star. \n",
    "<br><br>The reason is that the double star allows us to pass through keyword arguments (and any number of them).</h3> <br>\n",
    "\n",
    "<h3 style=\"color:#cc4f0c;\">\n",
    "\n",
    "\n",
    "• A keyword argument is where you provide a name to the variable as you pass it into the function.<br><br>\n",
    "• One can think of the kwargs as being a dictionary that maps each keyword to the value that we pass alongside it.<br><br>That is why when we iterate over the kwargs there doesn’t seem to be any order in which they were printed out.\n",
    "</h3>\n"
   ]
  },
  {
   "cell_type": "markdown",
   "id": "e731e2ca",
   "metadata": {},
   "source": [
    "# Example **kwargs"
   ]
  },
  {
   "cell_type": "code",
   "execution_count": 14,
   "id": "833d659b",
   "metadata": {},
   "outputs": [],
   "source": [
    "def func(*args,**kwargs):\n",
    "    print(\"Args\",args)\n",
    "    print(\"Kwargs\",kwargs)"
   ]
  },
  {
   "cell_type": "code",
   "execution_count": 15,
   "id": "6f62b5dc",
   "metadata": {},
   "outputs": [
    {
     "name": "stdout",
     "output_type": "stream",
     "text": [
      "Args ('mubeen', 'ahmad')\n",
      "Kwargs {}\n"
     ]
    }
   ],
   "source": [
    "func(\"mubeen\",\"ahmad\")"
   ]
  },
  {
   "cell_type": "markdown",
   "id": "a92cef44",
   "metadata": {},
   "source": [
    "## Why kwargs are empty ?\n",
    "\n",
    "## In kwargs take a value like a dictionary key=value form and also return a dictionary"
   ]
  },
  {
   "cell_type": "code",
   "execution_count": 17,
   "id": "fd1dd5cb",
   "metadata": {},
   "outputs": [
    {
     "name": "stdout",
     "output_type": "stream",
     "text": [
      "Args ('mubeen', 'ahmad')\n",
      "Kwargs {'key': 'value'}\n"
     ]
    }
   ],
   "source": [
    "func(\"mubeen\",\"ahmad\",key=\"value\")"
   ]
  },
  {
   "cell_type": "code",
   "execution_count": 18,
   "id": "210ea7d1",
   "metadata": {},
   "outputs": [
    {
     "name": "stdout",
     "output_type": "stream",
     "text": [
      "Args ('mubeen', 'ahmad')\n",
      "Kwargs {'key1': 'value1', 'key2': 'value2'}\n"
     ]
    }
   ],
   "source": [
    "func(\"mubeen\",\"ahmad\",key1=\"value1\",key2=\"value2\")"
   ]
  },
  {
   "cell_type": "markdown",
   "id": "2337a302",
   "metadata": {},
   "source": [
    "## Note kwargs only accept a dictionary they can't take a variable"
   ]
  },
  {
   "cell_type": "code",
   "execution_count": 19,
   "id": "28585763",
   "metadata": {},
   "outputs": [
    {
     "name": "stdout",
     "output_type": "stream",
     "text": [
      "Args ('Mubeen', 'Ahmad')\n",
      "Kwargs {}\n"
     ]
    }
   ],
   "source": [
    "args1 = \"Mubeen\"\n",
    "\n",
    "kwargs1 = \"Ahmad\"\n",
    "\n",
    "\n",
    "func(args1,kwargs1)"
   ]
  },
  {
   "cell_type": "markdown",
   "id": "31cd4620",
   "metadata": {},
   "source": [
    "## So Now kwargs  treat like args ?"
   ]
  },
  {
   "cell_type": "code",
   "execution_count": 20,
   "id": "b3ae6573",
   "metadata": {},
   "outputs": [
    {
     "name": "stdout",
     "output_type": "stream",
     "text": [
      "Args ('Mubeen', {'Value1', 'key1'})\n",
      "Kwargs {}\n"
     ]
    }
   ],
   "source": [
    "args1 = \"Mubeen\"\n",
    "\n",
    "kwargs1 = {\"key1\",\"Value1\"}\n",
    "\n",
    "func(args1,kwargs1)"
   ]
  },
  {
   "cell_type": "markdown",
   "id": "278c5167",
   "metadata": {},
   "source": [
    "## Here kwargs1 also not accept dictionary <br>\n",
    "## kwargs only accept a dictionary inside a function call func(key=value)"
   ]
  },
  {
   "cell_type": "code",
   "execution_count": 21,
   "id": "16037f0b",
   "metadata": {},
   "outputs": [
    {
     "name": "stdout",
     "output_type": "stream",
     "text": [
      "Args ('Mubeen', 'Ahmad')\n",
      "Kwargs {'Class': 'Cyber'}\n"
     ]
    }
   ],
   "source": [
    "fname = \"Mubeen\"\n",
    "lname = \"Ahmad\"\n",
    "\n",
    "func(fname,lname, Class = \"Cyber\")"
   ]
  },
  {
   "cell_type": "markdown",
   "id": "81369396",
   "metadata": {},
   "source": [
    "# Sequence of Parameters, Args,Default Value, Kwargs\n",
    "\n",
    "<br><br>\n",
    "\n",
    "## Function are Accept in this Sequence\n",
    "# `(parameter,*args,default=None,**kwargs)`"
   ]
  },
  {
   "cell_type": "markdown",
   "id": "508c8c6a",
   "metadata": {},
   "source": [
    "<br><br>\n",
    "## Parameter and Args\n",
    "\n",
    "## try to first args and second Parameter"
   ]
  },
  {
   "cell_type": "code",
   "execution_count": 22,
   "id": "15847eaf",
   "metadata": {},
   "outputs": [],
   "source": [
    "def func(*args,parameter):\n",
    "    print(\"*args =\",args)\n",
    "    print(\"parameter =\",parameter)"
   ]
  },
  {
   "cell_type": "code",
   "execution_count": 23,
   "id": "fd75924f",
   "metadata": {},
   "outputs": [
    {
     "ename": "TypeError",
     "evalue": "func() missing 1 required keyword-only argument: 'parameter'",
     "output_type": "error",
     "traceback": [
      "\u001b[0;31m---------------------------------------------------------------------------\u001b[0m",
      "\u001b[0;31mTypeError\u001b[0m                                 Traceback (most recent call last)",
      "Cell \u001b[0;32mIn [23], line 1\u001b[0m\n\u001b[0;32m----> 1\u001b[0m \u001b[43mfunc\u001b[49m\u001b[43m(\u001b[49m\u001b[38;5;124;43m\"\u001b[39;49m\u001b[38;5;124;43marg1\u001b[39;49m\u001b[38;5;124;43m\"\u001b[39;49m\u001b[43m,\u001b[49m\u001b[38;5;124;43m\"\u001b[39;49m\u001b[38;5;124;43marg2\u001b[39;49m\u001b[38;5;124;43m\"\u001b[39;49m\u001b[43m,\u001b[49m\u001b[38;5;124;43m\"\u001b[39;49m\u001b[38;5;124;43mparameter\u001b[39;49m\u001b[38;5;124;43m\"\u001b[39;49m\u001b[43m)\u001b[49m\n",
      "\u001b[0;31mTypeError\u001b[0m: func() missing 1 required keyword-only argument: 'parameter'"
     ]
    }
   ],
   "source": [
    "func(\"arg1\",\"arg2\",\"parameter\")"
   ]
  },
  {
   "cell_type": "markdown",
   "id": "89e13c5a",
   "metadata": {},
   "source": [
    "## This is Becuase args also take parameter value and parameter are empty"
   ]
  },
  {
   "cell_type": "markdown",
   "id": "990b1a73",
   "metadata": {},
   "source": [
    "<br><br>\n",
    "\n",
    "## Change order first parameter second *Args"
   ]
  },
  {
   "cell_type": "code",
   "execution_count": 24,
   "id": "b79b2f80",
   "metadata": {},
   "outputs": [],
   "source": [
    "def func(parameter,*args):\n",
    "    print(\"parameter =\",parameter)\n",
    "    print(\"*args =\",args)"
   ]
  },
  {
   "cell_type": "code",
   "execution_count": 25,
   "id": "5ea374df",
   "metadata": {},
   "outputs": [
    {
     "name": "stdout",
     "output_type": "stream",
     "text": [
      "parameter = parameter\n",
      "*args = ('arg1', 'arg2')\n"
     ]
    }
   ],
   "source": [
    "func(\"parameter\",\"arg1\",\"arg2\")"
   ]
  },
  {
   "cell_type": "markdown",
   "id": "84509996",
   "metadata": {},
   "source": [
    "## Default parameter and **kwargs\n",
    "\n",
    "## try to first **kwargs and second Default Parameter"
   ]
  },
  {
   "cell_type": "code",
   "execution_count": 26,
   "id": "469a38c9",
   "metadata": {},
   "outputs": [
    {
     "ename": "SyntaxError",
     "evalue": "invalid syntax (306919764.py, line 1)",
     "output_type": "error",
     "traceback": [
      "\u001b[0;36m  Cell \u001b[0;32mIn [26], line 1\u001b[0;36m\u001b[0m\n\u001b[0;31m    def func(**kwargs,default=None):\u001b[0m\n\u001b[0m                      ^\u001b[0m\n\u001b[0;31mSyntaxError\u001b[0m\u001b[0;31m:\u001b[0m invalid syntax\n"
     ]
    }
   ],
   "source": [
    "def func(**kwargs,default=None):\n",
    "    print(\"kwargs =\",kwargs)\n",
    "    print(\"default =\",default)"
   ]
  },
  {
   "cell_type": "markdown",
   "id": "a7c414d4",
   "metadata": {},
   "source": [
    "## try to Change kwargs to args"
   ]
  },
  {
   "cell_type": "code",
   "execution_count": 27,
   "id": "673c7742",
   "metadata": {},
   "outputs": [],
   "source": [
    "def func(*args,default=None):\n",
    "    print(\"args =\",args)\n",
    "    print(\"default =\",default)"
   ]
  },
  {
   "cell_type": "code",
   "execution_count": 28,
   "id": "ab8bd409",
   "metadata": {},
   "outputs": [
    {
     "name": "stdout",
     "output_type": "stream",
     "text": [
      "args = ('arg1', 'arg2')\n",
      "default = None\n"
     ]
    }
   ],
   "source": [
    "func(\"arg1\",\"arg2\")"
   ]
  },
  {
   "cell_type": "markdown",
   "id": "d4b4f05b",
   "metadata": {},
   "source": [
    "# So function only accept this Sequence\n",
    "\n",
    "## Parameters, Args,Default Value, Kwargs\n"
   ]
  },
  {
   "cell_type": "markdown",
   "id": "e2041207",
   "metadata": {},
   "source": [
    "# Example"
   ]
  },
  {
   "cell_type": "code",
   "execution_count": 29,
   "id": "c4c1ef88",
   "metadata": {},
   "outputs": [],
   "source": [
    "def func(parameter,*args,default=None,**kwargs):\n",
    "    \n",
    "    print(\"parameter =\",parameter)\n",
    "    print(\"*args =\",args)\n",
    "    print(\"default =\",default)\n",
    "    print(\"kwargs =\",kwargs)\n",
    "    "
   ]
  },
  {
   "cell_type": "code",
   "execution_count": 30,
   "id": "275228c3",
   "metadata": {},
   "outputs": [
    {
     "name": "stdout",
     "output_type": "stream",
     "text": [
      "parameter = Mubeen\n",
      "*args = ('args 1', 'args 2')\n",
      "default = None\n",
      "kwargs = {'key1': 'value1', 'key2': 'value2'}\n"
     ]
    }
   ],
   "source": [
    "func(\"Mubeen\",\"args 1\",\"args 2\",key1=\"value1\",key2=\"value2\")"
   ]
  },
  {
   "cell_type": "code",
   "execution_count": 31,
   "id": "a6faf79e",
   "metadata": {},
   "outputs": [
    {
     "name": "stdout",
     "output_type": "stream",
     "text": [
      "parameter = Mubeen\n",
      "*args = ('args 1', 'args 2')\n",
      "default = default parameter\n",
      "kwargs = {'key1': 'value1', 'key2': 'value2'}\n"
     ]
    }
   ],
   "source": [
    "func(\"Mubeen\",\"args 1\",\"args 2\",default=\"default parameter\",key1=\"value1\",key2=\"value2\")"
   ]
  }
 ],
 "metadata": {
  "kernelspec": {
   "display_name": "Python 3 (ipykernel)",
   "language": "python",
   "name": "python3"
  },
  "language_info": {
   "codemirror_mode": {
    "name": "ipython",
    "version": 3
   },
   "file_extension": ".py",
   "mimetype": "text/x-python",
   "name": "python",
   "nbconvert_exporter": "python",
   "pygments_lexer": "ipython3",
   "version": "3.10.6"
  }
 },
 "nbformat": 4,
 "nbformat_minor": 5
}

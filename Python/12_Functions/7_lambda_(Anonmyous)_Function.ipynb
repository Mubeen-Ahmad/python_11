{
 "cells": [
  {
   "cell_type": "markdown",
   "id": "a5836c35",
   "metadata": {},
   "source": [
    "# Lambda Function\n",
    "\n",
    "<h3 style=\"color:#4e2abd;\">\n",
    "Python Lambda Functions are anonymous function means that the function is without a name.<br>As we already know that the def keyword is used to define a normal function in Python.<br>Similarly, the lambda keyword is used to define an anonymous function in Python.<br><br>• This function can have any number of arguments but only one expression, which is evaluated and returned.<br><br>• You need to keep in your knowledge that lambda functions are syntactically restricted to a single expression<br><br>• It has various uses in particular fields of programming, besides other types of expressions in functions.\n",
    "</h3>"
   ]
  },
  {
   "cell_type": "markdown",
   "id": "40cbf1a7",
   "metadata": {},
   "source": [
    "### Syntax\n",
    "## lambda arguments: expression"
   ]
  },
  {
   "cell_type": "code",
   "execution_count": 5,
   "id": "2b60ec7b",
   "metadata": {},
   "outputs": [],
   "source": [
    "name = lambda arg1 : \"Welcome \"+arg1"
   ]
  },
  {
   "cell_type": "code",
   "execution_count": 7,
   "id": "2584f434",
   "metadata": {},
   "outputs": [
    {
     "data": {
      "text/plain": [
       "'Welcome Mubeen'"
      ]
     },
     "execution_count": 7,
     "metadata": {},
     "output_type": "execute_result"
    }
   ],
   "source": [
    "name(\"Mubeen\")"
   ]
  },
  {
   "cell_type": "markdown",
   "id": "5336ad31",
   "metadata": {},
   "source": [
    "### This function can have any number of arguments but only one expression, which is evaluated and returned."
   ]
  },
  {
   "cell_type": "markdown",
   "id": "4626a678",
   "metadata": {},
   "source": [
    "# Example"
   ]
  },
  {
   "cell_type": "code",
   "execution_count": 11,
   "id": "6992901f",
   "metadata": {},
   "outputs": [
    {
     "ename": "NameError",
     "evalue": "name 'arg2' is not defined",
     "output_type": "error",
     "traceback": [
      "\u001b[0;31m---------------------------------------------------------------------------\u001b[0m",
      "\u001b[0;31mNameError\u001b[0m                                 Traceback (most recent call last)",
      "Cell \u001b[0;32mIn [11], line 1\u001b[0m\n\u001b[0;32m----> 1\u001b[0m \u001b[38;5;28;01mlambda\u001b[39;00m arg1,arg2 : arg1,\u001b[43marg2\u001b[49m\n",
      "\u001b[0;31mNameError\u001b[0m: name 'arg2' is not defined"
     ]
    }
   ],
   "source": [
    "lambda arg1,arg2 : arg1,arg2"
   ]
  },
  {
   "cell_type": "markdown",
   "id": "115cca6e",
   "metadata": {},
   "source": [
    "# but we can use any iterable data type"
   ]
  },
  {
   "cell_type": "code",
   "execution_count": 12,
   "id": "065f1e9b",
   "metadata": {},
   "outputs": [
    {
     "data": {
      "text/plain": [
       "('Mubeen', 'Ahmad')"
      ]
     },
     "execution_count": 12,
     "metadata": {},
     "output_type": "execute_result"
    }
   ],
   "source": [
    "x = lambda arg1,arg2 : (arg1,arg2)\n",
    "\n",
    "x(\"Mubeen\",\"Ahmad\")"
   ]
  },
  {
   "cell_type": "code",
   "execution_count": 14,
   "id": "8560c5f0",
   "metadata": {},
   "outputs": [
    {
     "data": {
      "text/plain": [
       "['Mubeen', 'Ahmad']"
      ]
     },
     "execution_count": 14,
     "metadata": {},
     "output_type": "execute_result"
    }
   ],
   "source": [
    "x = lambda arg1,arg2 : [arg1,arg2]\n",
    "\n",
    "x(\"Mubeen\",\"Ahmad\")"
   ]
  },
  {
   "cell_type": "code",
   "execution_count": 16,
   "id": "0cec3f51",
   "metadata": {},
   "outputs": [
    {
     "ename": "TypeError",
     "evalue": "<lambda>() takes 0 positional arguments but 2 were given",
     "output_type": "error",
     "traceback": [
      "\u001b[0;31m---------------------------------------------------------------------------\u001b[0m",
      "\u001b[0;31mTypeError\u001b[0m                                 Traceback (most recent call last)",
      "Cell \u001b[0;32mIn [16], line 3\u001b[0m\n\u001b[1;32m      1\u001b[0m x \u001b[38;5;241m=\u001b[39m \u001b[38;5;28;01mlambda\u001b[39;00m \u001b[38;5;241m*\u001b[39m\u001b[38;5;241m*\u001b[39marg1 : arg1\n\u001b[0;32m----> 3\u001b[0m \u001b[43mx\u001b[49m\u001b[43m(\u001b[49m\u001b[38;5;124;43m\"\u001b[39;49m\u001b[38;5;124;43mMubeen\u001b[39;49m\u001b[38;5;124;43m\"\u001b[39;49m\u001b[43m,\u001b[49m\u001b[38;5;124;43m\"\u001b[39;49m\u001b[38;5;124;43mAhmad\u001b[39;49m\u001b[38;5;124;43m\"\u001b[39;49m\u001b[43m)\u001b[49m\n",
      "\u001b[0;31mTypeError\u001b[0m: <lambda>() takes 0 positional arguments but 2 were given"
     ]
    }
   ],
   "source": [
    "x = lambda arg1 : arg1\n",
    "\n",
    "x(\"Mubeen\",\"Ahmad\")"
   ]
  },
  {
   "cell_type": "markdown",
   "id": "8d34afe3",
   "metadata": {},
   "source": [
    "## You need to keep in your knowledge that lambda functions are syntactically restricted to a single expression.\n",
    "\n",
    "### Means if we have multiple expression than use simple function"
   ]
  },
  {
   "cell_type": "code",
   "execution_count": 23,
   "id": "b8a980da",
   "metadata": {},
   "outputs": [],
   "source": [
    "age = lambda age : age > 10 "
   ]
  },
  {
   "cell_type": "code",
   "execution_count": 26,
   "id": "66163a4d",
   "metadata": {},
   "outputs": [
    {
     "data": {
      "text/plain": [
       "False"
      ]
     },
     "execution_count": 26,
     "metadata": {},
     "output_type": "execute_result"
    }
   ],
   "source": [
    "age(10)"
   ]
  },
  {
   "cell_type": "code",
   "execution_count": 27,
   "id": "ae4f83e4",
   "metadata": {},
   "outputs": [
    {
     "data": {
      "text/plain": [
       "True"
      ]
     },
     "execution_count": 27,
     "metadata": {},
     "output_type": "execute_result"
    }
   ],
   "source": [
    "age(11)"
   ]
  },
  {
   "cell_type": "markdown",
   "id": "a8a10ec1",
   "metadata": {},
   "source": [
    "## use simple function if we have multiples expression"
   ]
  },
  {
   "cell_type": "code",
   "execution_count": 29,
   "id": "0c9d8699",
   "metadata": {},
   "outputs": [],
   "source": [
    "def age(age):\n",
    "    if age > 10:\n",
    "        return 0\n",
    "    return 1"
   ]
  },
  {
   "cell_type": "code",
   "execution_count": 30,
   "id": "f41a6d4f",
   "metadata": {},
   "outputs": [
    {
     "data": {
      "text/plain": [
       "1"
      ]
     },
     "execution_count": 30,
     "metadata": {},
     "output_type": "execute_result"
    }
   ],
   "source": [
    "age(10)"
   ]
  },
  {
   "cell_type": "code",
   "execution_count": 31,
   "id": "436c0fad",
   "metadata": {},
   "outputs": [
    {
     "data": {
      "text/plain": [
       "0"
      ]
     },
     "execution_count": 31,
     "metadata": {},
     "output_type": "execute_result"
    }
   ],
   "source": [
    "age(11)"
   ]
  },
  {
   "cell_type": "markdown",
   "id": "c7c9bbd5",
   "metadata": {},
   "source": [
    "# Call lambda function in one line"
   ]
  },
  {
   "cell_type": "code",
   "execution_count": 38,
   "id": "a7ed072c",
   "metadata": {},
   "outputs": [
    {
     "data": {
      "text/plain": [
       "'hello'"
      ]
     },
     "execution_count": 38,
     "metadata": {},
     "output_type": "execute_result"
    }
   ],
   "source": [
    "(lambda : \"hello\")()"
   ]
  },
  {
   "cell_type": "markdown",
   "id": "4f624fea",
   "metadata": {},
   "source": [
    "## Conditions with lambda"
   ]
  },
  {
   "cell_type": "code",
   "execution_count": 42,
   "id": "c0050557",
   "metadata": {},
   "outputs": [],
   "source": [
    "greater = lambda a, b : a if(a > b) else b"
   ]
  },
  {
   "cell_type": "code",
   "execution_count": 43,
   "id": "6e16fead",
   "metadata": {},
   "outputs": [
    {
     "data": {
      "text/plain": [
       "11"
      ]
     },
     "execution_count": 43,
     "metadata": {},
     "output_type": "execute_result"
    }
   ],
   "source": [
    "greater(10,11)"
   ]
  },
  {
   "cell_type": "code",
   "execution_count": 44,
   "id": "3c184f08",
   "metadata": {},
   "outputs": [
    {
     "data": {
      "text/plain": [
       "30"
      ]
     },
     "execution_count": 44,
     "metadata": {},
     "output_type": "execute_result"
    }
   ],
   "source": [
    "greater(30,11)"
   ]
  },
  {
   "cell_type": "markdown",
   "id": "2592f40e",
   "metadata": {},
   "source": [
    "## Find Greater Number "
   ]
  },
  {
   "cell_type": "code",
   "execution_count": 73,
   "id": "b73065ec",
   "metadata": {},
   "outputs": [],
   "source": [
    "data = [[4,3,2],[1, 4, 16, 64],[3, 6, 9, 12]]\n",
    "\n",
    "# find every greater number in 3 lists"
   ]
  },
  {
   "cell_type": "code",
   "execution_count": 129,
   "id": "06e0c395",
   "metadata": {},
   "outputs": [
    {
     "data": {
      "text/plain": [
       "[4, 64, 12]"
      ]
     },
     "execution_count": 129,
     "metadata": {},
     "output_type": "execute_result"
    }
   ],
   "source": [
    "greater =  lambda arg : list( max(sorted(i)) for i in arg )\n",
    "greater(data)"
   ]
  },
  {
   "cell_type": "code",
   "execution_count": 132,
   "id": "3639deb3",
   "metadata": {},
   "outputs": [
    {
     "data": {
      "text/plain": [
       "[3, 16, 9]"
      ]
     },
     "execution_count": 132,
     "metadata": {},
     "output_type": "execute_result"
    }
   ],
   "source": [
    "second_greater = lambda ds: ( i[len(i)-2]  for i in ds) \n",
    "\n",
    "list(second_greater(data))"
   ]
  },
  {
   "cell_type": "markdown",
   "id": "8230a353",
   "metadata": {},
   "source": [
    "# Using lambda() Function with filter()\n",
    "<h3 style=\"color:#4e2abd;\">\n",
    "    The filter() function in Python takes in a function and a list as arguments. <br>This offers an elegant way to filter out all the elements of a sequence “sequence”, for which the function returns True.\n",
    "</h3>"
   ]
  },
  {
   "cell_type": "code",
   "execution_count": 194,
   "id": "7f9917a7",
   "metadata": {},
   "outputs": [
    {
     "data": {
      "text/plain": [
       "[2, 4, 6]"
      ]
     },
     "execution_count": 194,
     "metadata": {},
     "output_type": "execute_result"
    }
   ],
   "source": [
    "number = [1,2,3,4,5,6,7]\n",
    "\n",
    "# even numbers\n",
    "list(filter(lambda n: n %2== 0 ,number))"
   ]
  },
  {
   "cell_type": "markdown",
   "id": "1e105052",
   "metadata": {},
   "source": [
    "# Using lambda() Function with map()"
   ]
  },
  {
   "cell_type": "markdown",
   "id": "601f1f56",
   "metadata": {},
   "source": [
    "<h3 style=\"color:#4e2abd;\">The map() function in Python takes in a function and a list as an argument. <br>The function is called with a lambda function and a list and a new list is returned which contains all the lambda modified items returned by that function for each item\n",
    "</h3>"
   ]
  },
  {
   "cell_type": "code",
   "execution_count": 196,
   "id": "06f5d388",
   "metadata": {},
   "outputs": [],
   "source": [
    "data = [5, 7, 22, 97, 54, 62, 77, 23, 73, 61]"
   ]
  },
  {
   "cell_type": "code",
   "execution_count": 198,
   "id": "f8a713de",
   "metadata": {},
   "outputs": [
    {
     "data": {
      "text/plain": [
       "[10, 14, 44, 194, 108, 124, 154, 46, 146, 122]"
      ]
     },
     "execution_count": 198,
     "metadata": {},
     "output_type": "execute_result"
    }
   ],
   "source": [
    "list(map(lambda i: i*2,data))"
   ]
  },
  {
   "cell_type": "markdown",
   "id": "85e4f954",
   "metadata": {},
   "source": [
    "# Using lambda() Function with reduce()"
   ]
  },
  {
   "cell_type": "markdown",
   "id": "56157448",
   "metadata": {},
   "source": [
    "<h3 style=\"color:#4e2abd;\">\n",
    "The reduce() function in Python takes in a function and a list as an argument. <br><br>The function is called with a lambda function and an iterable and a new reduced result is returned. <br><br>This performs a repetitive operation over the pairs of the iterable.<br> <br>The reduce() function belongs to the functools module.</he> "
   ]
  },
  {
   "cell_type": "code",
   "execution_count": 232,
   "id": "905d18e0",
   "metadata": {},
   "outputs": [],
   "source": [
    "from functools import reduce"
   ]
  },
  {
   "cell_type": "code",
   "execution_count": 238,
   "id": "694197e3",
   "metadata": {},
   "outputs": [
    {
     "data": {
      "text/plain": [
       "15"
      ]
     },
     "execution_count": 238,
     "metadata": {},
     "output_type": "execute_result"
    }
   ],
   "source": [
    "reduce(lambda x, y: x+y, [1, 2, 3, 4, 5])"
   ]
  },
  {
   "cell_type": "code",
   "execution_count": 246,
   "id": "083906cc",
   "metadata": {},
   "outputs": [
    {
     "data": {
      "text/plain": [
       "6"
      ]
     },
     "execution_count": 246,
     "metadata": {},
     "output_type": "execute_result"
    }
   ],
   "source": [
    "reduce(lambda a, b: a if a > b else b,[1, 3, 5, 6, 2,])"
   ]
  }
 ],
 "metadata": {
  "kernelspec": {
   "display_name": "Python 3 (ipykernel)",
   "language": "python",
   "name": "python3"
  },
  "language_info": {
   "codemirror_mode": {
    "name": "ipython",
    "version": 3
   },
   "file_extension": ".py",
   "mimetype": "text/x-python",
   "name": "python",
   "nbconvert_exporter": "python",
   "pygments_lexer": "ipython3",
   "version": "3.10.6"
  }
 },
 "nbformat": 4,
 "nbformat_minor": 5
}

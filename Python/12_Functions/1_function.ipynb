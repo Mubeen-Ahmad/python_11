{
 "cells": [
  {
   "cell_type": "markdown",
   "id": "390f684a",
   "metadata": {},
   "source": [
    "# Python Functions is a block of statements that return the specific task.\n",
    "\n",
    "<h3 style=\"color:#4e2abd;\">\n",
    "A function is a set of statements that take inputs, do some specific computation and produce output. \n",
    "<br><br>The idea is to put some commonly or repeatedly done tasks together and make a function so that instead of writing the same code again and again for different inputs, we can call the function.<br><br>\n",
    "There are 2 Types of Functions\n",
    "<br><br>\n",
    "• User Define Function\n",
    "<br>  \n",
    "• Bulit-In Function\n",
    "</h3>\n",
    "\n",
    "\n"
   ]
  },
  {
   "cell_type": "markdown",
   "id": "aff149ab",
   "metadata": {},
   "source": [
    "# User Define Function"
   ]
  },
  {
   "cell_type": "markdown",
   "id": "dcbfbf47",
   "metadata": {},
   "source": [
    "<h3 style=\"color:#4e2abd;\">\n",
    "A function that are created a User/Programmer called User Define Function<br><br>\n",
    "• In Python, def keyword is used to declare user defined functions.<br><br>\n",
    "• An indented block of statements follows the function name and arguments which contains the body of the function. \n",
    "</h3>\n"
   ]
  },
  {
   "cell_type": "markdown",
   "id": "4f94c6ab",
   "metadata": {},
   "source": [
    "## Example 1"
   ]
  },
  {
   "cell_type": "code",
   "execution_count": 3,
   "id": "6ffaad55",
   "metadata": {},
   "outputs": [],
   "source": [
    "\n",
    "# Declaring a function\n",
    "def my_function():\n",
    "    print(\"Inside function\")"
   ]
  },
  {
   "cell_type": "code",
   "execution_count": 4,
   "id": "9ba73e2b",
   "metadata": {},
   "outputs": [
    {
     "name": "stdout",
     "output_type": "stream",
     "text": [
      "Inside function\n"
     ]
    }
   ],
   "source": [
    "# Calling function\n",
    "\n",
    "my_function()"
   ]
  },
  {
   "cell_type": "markdown",
   "id": "c27d9491",
   "metadata": {},
   "source": [
    "## Example 2 \n",
    "## print None \n",
    "## print(call function)"
   ]
  },
  {
   "cell_type": "code",
   "execution_count": 5,
   "id": "080d4a15",
   "metadata": {},
   "outputs": [],
   "source": [
    "def func():\n",
    "    print(\"This is my Function\")"
   ]
  },
  {
   "cell_type": "code",
   "execution_count": 7,
   "id": "989cfa09",
   "metadata": {},
   "outputs": [
    {
     "name": "stdout",
     "output_type": "stream",
     "text": [
      "This is my Function\n",
      "None\n"
     ]
    }
   ],
   "source": [
    "print(func())\n",
    "\n",
    "# return None Because we can not return the function"
   ]
  },
  {
   "cell_type": "markdown",
   "id": "d141ffd5",
   "metadata": {},
   "source": [
    "# return statement\n",
    "\n",
    "<h3 style=\"color:#4e2abd;\">A return statement is used to end the execution of the function call and “returns” the result (value of the expression following the return keyword) to the caller.<br><br>The statements after the return statements are not executed.<br><br>If the return statement is without any expression, then the special value None is returned.<br><br>A return statement is overall used to invoke a function so that the passed statements can be executed.</h3>\n",
    "\n",
    "## Note: Return statement can not be used outside the function."
   ]
  },
  {
   "cell_type": "code",
   "execution_count": 8,
   "id": "ff169c63",
   "metadata": {},
   "outputs": [],
   "source": [
    "def func():\n",
    "    return \"This is My Function\""
   ]
  },
  {
   "cell_type": "code",
   "execution_count": 12,
   "id": "e6bc51d5",
   "metadata": {},
   "outputs": [
    {
     "name": "stdout",
     "output_type": "stream",
     "text": [
      "\n",
      "Return Value are Store inside the func() \n"
     ]
    }
   ],
   "source": [
    "# Call Function\n",
    "func()\n",
    "\n",
    "print(\"\\nReturn Value are Store inside the func() \")"
   ]
  },
  {
   "cell_type": "code",
   "execution_count": 16,
   "id": "9bed5934",
   "metadata": {},
   "outputs": [
    {
     "name": "stdout",
     "output_type": "stream",
     "text": [
      "This is My Function\n",
      "\n",
      "Calling Function\n"
     ]
    }
   ],
   "source": [
    "# print function\n",
    "\n",
    "print(func())\n",
    "print(\"\\nCalling Function\")"
   ]
  },
  {
   "cell_type": "markdown",
   "id": "6381f67a",
   "metadata": {},
   "source": [
    "## once add the return keyword than other lines of code are not executed"
   ]
  },
  {
   "cell_type": "code",
   "execution_count": 17,
   "id": "37e0049e",
   "metadata": {},
   "outputs": [],
   "source": [
    "def func():\n",
    "    \n",
    "    x = \"THIS IS X\"\n",
    "    return x\n",
    "    \n",
    "    y = \"THIS IS Y\"\n",
    "    return y"
   ]
  },
  {
   "cell_type": "code",
   "execution_count": 18,
   "id": "e9072b85",
   "metadata": {},
   "outputs": [
    {
     "name": "stdout",
     "output_type": "stream",
     "text": [
      "THIS IS X\n"
     ]
    }
   ],
   "source": [
    "print(func())"
   ]
  },
  {
   "cell_type": "markdown",
   "id": "a1c70944",
   "metadata": {},
   "source": [
    "## return Example 3 "
   ]
  },
  {
   "cell_type": "code",
   "execution_count": 19,
   "id": "95c0b723",
   "metadata": {},
   "outputs": [],
   "source": [
    "def func():\n",
    "    \n",
    "    x = 10\n",
    "    \n",
    "    if x == 9:\n",
    "        return 9\n",
    "    \n",
    "    else:\n",
    "        return 10"
   ]
  },
  {
   "cell_type": "code",
   "execution_count": 20,
   "id": "30373bc4",
   "metadata": {},
   "outputs": [
    {
     "name": "stdout",
     "output_type": "stream",
     "text": [
      "10\n"
     ]
    }
   ],
   "source": [
    "# Now the return statement Execute depend on x coundition\n",
    "\n",
    "print(func())"
   ]
  },
  {
   "cell_type": "markdown",
   "id": "802ed143",
   "metadata": {},
   "source": [
    "# Nested Function"
   ]
  },
  {
   "cell_type": "code",
   "execution_count": 18,
   "id": "7b30bf95",
   "metadata": {},
   "outputs": [
    {
     "name": "stdout",
     "output_type": "stream",
     "text": [
      "This is func1\n",
      "This is func2\n"
     ]
    }
   ],
   "source": [
    "def func1():\n",
    "    print(\"This is func1\")\n",
    "    \n",
    "    def func2():\n",
    "        print(\"This is func2\")\n",
    "    \n",
    "    func2()\n",
    "    \n",
    "func1()"
   ]
  },
  {
   "cell_type": "markdown",
   "id": "06a92ea0",
   "metadata": {},
   "source": [
    "# Function return nested function"
   ]
  },
  {
   "cell_type": "code",
   "execution_count": 19,
   "id": "baacb145",
   "metadata": {},
   "outputs": [
    {
     "name": "stdout",
     "output_type": "stream",
     "text": [
      "This is func1\n"
     ]
    },
    {
     "data": {
      "text/plain": [
       "<function __main__.func1.<locals>.func2()>"
      ]
     },
     "execution_count": 19,
     "metadata": {},
     "output_type": "execute_result"
    }
   ],
   "source": [
    "def func1():\n",
    "    print(\"This is func1\")\n",
    "    \n",
    "    def func2():\n",
    "        print(\"This is func2\")\n",
    "    \n",
    "    return func2\n",
    "    \n",
    "func1()"
   ]
  },
  {
   "cell_type": "markdown",
   "id": "458edc03",
   "metadata": {},
   "source": [
    "## Call return function"
   ]
  },
  {
   "cell_type": "code",
   "execution_count": 21,
   "id": "2c20be26",
   "metadata": {},
   "outputs": [
    {
     "name": "stdout",
     "output_type": "stream",
     "text": [
      "This is func1\n",
      "This is func2\n"
     ]
    }
   ],
   "source": [
    "x = func1()\n",
    "x()"
   ]
  },
  {
   "cell_type": "code",
   "execution_count": 22,
   "id": "bfe2f9bd",
   "metadata": {},
   "outputs": [
    {
     "name": "stdout",
     "output_type": "stream",
     "text": [
      "This is func1\n",
      "This is func2\n"
     ]
    }
   ],
   "source": [
    "func1()()"
   ]
  },
  {
   "cell_type": "markdown",
   "id": "bb7a7170",
   "metadata": {},
   "source": [
    "# Parameters\n",
    "\n",
    "<h3 style=\"color:#4e2abd;\">\n",
    "\n",
    "The function may take arguments(s) also called parameters as input within the opening and closing parentheses, just after the function name followed by a colon.<br><br>\n",
    "</h3>"
   ]
  },
  {
   "cell_type": "markdown",
   "id": "5ee3e63c",
   "metadata": {},
   "source": [
    "## `def func(argument1,argument2) :` \n",
    "## `    Lines of Codes`\n",
    "\n",
    "## ` func(argument1)`"
   ]
  },
  {
   "cell_type": "markdown",
   "id": "df7fdd79",
   "metadata": {},
   "source": [
    "## Example "
   ]
  },
  {
   "cell_type": "code",
   "execution_count": 21,
   "id": "bc7e5715",
   "metadata": {},
   "outputs": [],
   "source": [
    "def func(arg1):\n",
    "    return arg1"
   ]
  },
  {
   "cell_type": "code",
   "execution_count": 24,
   "id": "f4ee6d08",
   "metadata": {},
   "outputs": [
    {
     "name": "stdout",
     "output_type": "stream",
     "text": [
      "5\n"
     ]
    }
   ],
   "source": [
    "# call function and add value of arg1\n",
    "print(func(5))"
   ]
  },
  {
   "cell_type": "markdown",
   "id": "2a3f6d2f",
   "metadata": {},
   "source": [
    "# if i can't pass the value of Argument then raise Error"
   ]
  },
  {
   "cell_type": "code",
   "execution_count": 25,
   "id": "e10ca368",
   "metadata": {},
   "outputs": [],
   "source": [
    "def func(arg1):\n",
    "    return \"Hy \"+arg1"
   ]
  },
  {
   "cell_type": "code",
   "execution_count": 28,
   "id": "675488c3",
   "metadata": {},
   "outputs": [
    {
     "ename": "TypeError",
     "evalue": "func() missing 1 required positional argument: 'arg1'",
     "output_type": "error",
     "traceback": [
      "\u001b[0;31m---------------------------------------------------------------------------\u001b[0m",
      "\u001b[0;31mTypeError\u001b[0m                                 Traceback (most recent call last)",
      "Cell \u001b[0;32mIn [28], line 1\u001b[0m\n\u001b[0;32m----> 1\u001b[0m \u001b[38;5;28mprint\u001b[39m(\u001b[43mfunc\u001b[49m\u001b[43m(\u001b[49m\u001b[43m)\u001b[49m)\n",
      "\u001b[0;31mTypeError\u001b[0m: func() missing 1 required positional argument: 'arg1'"
     ]
    }
   ],
   "source": [
    "print(func())"
   ]
  },
  {
   "cell_type": "code",
   "execution_count": 29,
   "id": "b2382f34",
   "metadata": {},
   "outputs": [
    {
     "name": "stdout",
     "output_type": "stream",
     "text": [
      "Hy Mubeen\n"
     ]
    }
   ],
   "source": [
    "print(func(\"Mubeen\"))"
   ]
  },
  {
   "cell_type": "markdown",
   "id": "046c3520",
   "metadata": {},
   "source": [
    "# if i pass 2 argument and pass the value of only 1 Argument then raise Error"
   ]
  },
  {
   "cell_type": "code",
   "execution_count": 30,
   "id": "4e1c9bc0",
   "metadata": {},
   "outputs": [],
   "source": [
    "def func(arg1,arg2):\n",
    "    return arg1 + arg2"
   ]
  },
  {
   "cell_type": "code",
   "execution_count": 31,
   "id": "5e9572f5",
   "metadata": {},
   "outputs": [
    {
     "ename": "TypeError",
     "evalue": "func() missing 1 required positional argument: 'arg2'",
     "output_type": "error",
     "traceback": [
      "\u001b[0;31m---------------------------------------------------------------------------\u001b[0m",
      "\u001b[0;31mTypeError\u001b[0m                                 Traceback (most recent call last)",
      "Cell \u001b[0;32mIn [31], line 1\u001b[0m\n\u001b[0;32m----> 1\u001b[0m \u001b[38;5;28mprint\u001b[39m(\u001b[43mfunc\u001b[49m\u001b[43m(\u001b[49m\u001b[38;5;241;43m10\u001b[39;49m\u001b[43m)\u001b[49m)\n",
      "\u001b[0;31mTypeError\u001b[0m: func() missing 1 required positional argument: 'arg2'"
     ]
    }
   ],
   "source": [
    "print(func(10))"
   ]
  },
  {
   "cell_type": "code",
   "execution_count": 33,
   "id": "7fd9708a",
   "metadata": {},
   "outputs": [
    {
     "name": "stdout",
     "output_type": "stream",
     "text": [
      "13\n"
     ]
    }
   ],
   "source": [
    "print(func(10,3))"
   ]
  },
  {
   "cell_type": "markdown",
   "id": "eedf5962",
   "metadata": {},
   "source": [
    "# if i pass 2 argument and pass the value of 3 Argument then raise Error"
   ]
  },
  {
   "cell_type": "code",
   "execution_count": 34,
   "id": "3d34d4bc",
   "metadata": {},
   "outputs": [],
   "source": [
    "def func(arg1,arg2):\n",
    "    return arg1 + arg2"
   ]
  },
  {
   "cell_type": "code",
   "execution_count": 35,
   "id": "aade8180",
   "metadata": {},
   "outputs": [
    {
     "ename": "TypeError",
     "evalue": "func() takes 2 positional arguments but 3 were given",
     "output_type": "error",
     "traceback": [
      "\u001b[0;31m---------------------------------------------------------------------------\u001b[0m",
      "\u001b[0;31mTypeError\u001b[0m                                 Traceback (most recent call last)",
      "Cell \u001b[0;32mIn [35], line 1\u001b[0m\n\u001b[0;32m----> 1\u001b[0m \u001b[38;5;28mprint\u001b[39m(\u001b[43mfunc\u001b[49m\u001b[43m(\u001b[49m\u001b[38;5;241;43m1\u001b[39;49m\u001b[43m,\u001b[49m\u001b[38;5;241;43m2\u001b[39;49m\u001b[43m,\u001b[49m\u001b[38;5;241;43m3\u001b[39;49m\u001b[43m)\u001b[49m)\n",
      "\u001b[0;31mTypeError\u001b[0m: func() takes 2 positional arguments but 3 were given"
     ]
    }
   ],
   "source": [
    "print(func(1,2,3))"
   ]
  },
  {
   "cell_type": "code",
   "execution_count": 36,
   "id": "a34fa2d7",
   "metadata": {},
   "outputs": [
    {
     "name": "stdout",
     "output_type": "stream",
     "text": [
      "3\n"
     ]
    }
   ],
   "source": [
    "print(func(1,2))"
   ]
  },
  {
   "cell_type": "markdown",
   "id": "6d8d395c",
   "metadata": {},
   "source": [
    "# Example 4"
   ]
  },
  {
   "cell_type": "code",
   "execution_count": 37,
   "id": "0ddf007f",
   "metadata": {},
   "outputs": [],
   "source": [
    "def My_Sum(arg1,arg2):\n",
    "    return arg1 + arg2"
   ]
  },
  {
   "cell_type": "code",
   "execution_count": 38,
   "id": "223f8456",
   "metadata": {},
   "outputs": [
    {
     "name": "stdout",
     "output_type": "stream",
     "text": [
      "16\n"
     ]
    }
   ],
   "source": [
    "print(My_Sum(8,8))"
   ]
  },
  {
   "cell_type": "markdown",
   "id": "b65bcd23",
   "metadata": {},
   "source": [
    "# Example 5"
   ]
  },
  {
   "cell_type": "code",
   "execution_count": 1,
   "id": "e6bc4341",
   "metadata": {},
   "outputs": [],
   "source": [
    "def Student(fname,lname,roll_no):\n",
    "    \n",
    "    name = fname +\" \"+lname\n",
    "    data = f\"Name    : {name}\\nRoll No : {roll_no}\"\n",
    "    \n",
    "    return data"
   ]
  },
  {
   "cell_type": "code",
   "execution_count": 48,
   "id": "4c980cae",
   "metadata": {},
   "outputs": [
    {
     "name": "stdout",
     "output_type": "stream",
     "text": [
      "Name    : Mubeen Ahmad\n",
      "Roll No : 404\n"
     ]
    }
   ],
   "source": [
    "print(Student(\"Mubeen\",\"Ahmad\",404))"
   ]
  },
  {
   "cell_type": "markdown",
   "id": "6071ffd8",
   "metadata": {},
   "source": [
    "# Change keyword argument (sequence)"
   ]
  },
  {
   "cell_type": "code",
   "execution_count": 9,
   "id": "f1646209",
   "metadata": {},
   "outputs": [
    {
     "name": "stdout",
     "output_type": "stream",
     "text": [
      "Name    : Ahmad Mubeen\n",
      "Roll No : 404\n"
     ]
    }
   ],
   "source": [
    "print(Student(lname=\"Mubeen\",fname=\"Ahmad\",roll_no=404))"
   ]
  },
  {
   "cell_type": "markdown",
   "id": "28f58a4a",
   "metadata": {},
   "source": [
    "# Set Default Value of Argument"
   ]
  },
  {
   "cell_type": "markdown",
   "id": "8a9ed649",
   "metadata": {},
   "source": [
    "# Simple Example"
   ]
  },
  {
   "cell_type": "code",
   "execution_count": 55,
   "id": "d278a4cf",
   "metadata": {},
   "outputs": [],
   "source": [
    "def Student(fname,lname,roll_no):\n",
    "    return f\"Name    : {fname} {lname}\\nRoll No : {roll_no}\""
   ]
  },
  {
   "cell_type": "code",
   "execution_count": 53,
   "id": "c8b78253",
   "metadata": {},
   "outputs": [
    {
     "name": "stdout",
     "output_type": "stream",
     "text": [
      "Name    : Mubeen Ahmad\n",
      "Roll No : 445\n"
     ]
    }
   ],
   "source": [
    "print(Student(\"Mubeen\",\"Ahmad\",445))"
   ]
  },
  {
   "cell_type": "code",
   "execution_count": 56,
   "id": "5679edff",
   "metadata": {},
   "outputs": [
    {
     "ename": "TypeError",
     "evalue": "Student() missing 1 required positional argument: 'roll_no'",
     "output_type": "error",
     "traceback": [
      "\u001b[0;31m---------------------------------------------------------------------------\u001b[0m",
      "\u001b[0;31mTypeError\u001b[0m                                 Traceback (most recent call last)",
      "Cell \u001b[0;32mIn [56], line 3\u001b[0m\n\u001b[1;32m      1\u001b[0m \u001b[38;5;66;03m# skip roll no argument value\u001b[39;00m\n\u001b[0;32m----> 3\u001b[0m \u001b[38;5;28mprint\u001b[39m(\u001b[43mStudent\u001b[49m\u001b[43m(\u001b[49m\u001b[38;5;124;43m\"\u001b[39;49m\u001b[38;5;124;43mMubeen\u001b[39;49m\u001b[38;5;124;43m\"\u001b[39;49m\u001b[43m,\u001b[49m\u001b[38;5;124;43m\"\u001b[39;49m\u001b[38;5;124;43mAhmad\u001b[39;49m\u001b[38;5;124;43m\"\u001b[39;49m\u001b[43m)\u001b[49m)\n",
      "\u001b[0;31mTypeError\u001b[0m: Student() missing 1 required positional argument: 'roll_no'"
     ]
    }
   ],
   "source": [
    "# skip roll no argument value\n",
    "\n",
    "print(Student(\"Mubeen\",\"Ahmad\"))"
   ]
  },
  {
   "cell_type": "markdown",
   "id": "ca545100",
   "metadata": {},
   "source": [
    "# Default Value Example"
   ]
  },
  {
   "cell_type": "code",
   "execution_count": 10,
   "id": "1119c572",
   "metadata": {},
   "outputs": [],
   "source": [
    "# set default value None\n",
    "\n",
    "def Student(fname,lname,roll_no=None):\n",
    "    return f\"Name    : {fname} {lname}\\nRoll No : {roll_no}\""
   ]
  },
  {
   "cell_type": "code",
   "execution_count": 11,
   "id": "ded2a7d6",
   "metadata": {},
   "outputs": [
    {
     "name": "stdout",
     "output_type": "stream",
     "text": [
      "Name    : Mubeen Ahmad\n",
      "Roll No : 445\n"
     ]
    }
   ],
   "source": [
    "print(Student(\"Mubeen\",\"Ahmad\",445))"
   ]
  },
  {
   "cell_type": "code",
   "execution_count": 12,
   "id": "8d9da74f",
   "metadata": {},
   "outputs": [
    {
     "name": "stdout",
     "output_type": "stream",
     "text": [
      "Name    : Mubeen Ahmad\n",
      "Roll No : None\n"
     ]
    }
   ],
   "source": [
    "# skip roll no argument value\n",
    "\n",
    "print(Student(\"Mubeen\",\"Ahmad\"))"
   ]
  },
  {
   "cell_type": "markdown",
   "id": "ddc31dfa",
   "metadata": {},
   "source": [
    "# Pass argument as  function"
   ]
  },
  {
   "cell_type": "code",
   "execution_count": 28,
   "id": "59382ad2",
   "metadata": {},
   "outputs": [
    {
     "name": "stdout",
     "output_type": "stream",
     "text": [
      "This is func1\n"
     ]
    },
    {
     "data": {
      "text/plain": [
       "'This is func2'"
      ]
     },
     "execution_count": 28,
     "metadata": {},
     "output_type": "execute_result"
    }
   ],
   "source": [
    "def func1(x):\n",
    "    print(\"This is func1\")\n",
    "    return x()\n",
    "\n",
    "def func2():\n",
    "    return \"This is func2\"\n",
    "\n",
    "func1(func2)"
   ]
  }
 ],
 "metadata": {
  "kernelspec": {
   "display_name": "Python 3 (ipykernel)",
   "language": "python",
   "name": "python3"
  },
  "language_info": {
   "codemirror_mode": {
    "name": "ipython",
    "version": 3
   },
   "file_extension": ".py",
   "mimetype": "text/x-python",
   "name": "python",
   "nbconvert_exporter": "python",
   "pygments_lexer": "ipython3",
   "version": "3.10.6"
  }
 },
 "nbformat": 4,
 "nbformat_minor": 5
}

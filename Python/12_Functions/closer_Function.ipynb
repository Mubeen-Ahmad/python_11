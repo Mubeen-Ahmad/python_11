{
 "cells": [
  {
   "cell_type": "markdown",
   "id": "6588b37a",
   "metadata": {},
   "source": [
    "# A Closure is a function object that remembers values in enclosing scopes even if they are not present in memory.  "
   ]
  },
  {
   "cell_type": "markdown",
   "id": "fb1a5775",
   "metadata": {},
   "source": [
    "# Example "
   ]
  },
  {
   "cell_type": "code",
   "execution_count": 186,
   "id": "20421301",
   "metadata": {},
   "outputs": [],
   "source": [
    "def outer():\n",
    "    \n",
    "    a = 10\n",
    "    \n",
    "    def inner():\n",
    "        print(a)\n",
    "        \n",
    "    return inner()"
   ]
  },
  {
   "cell_type": "code",
   "execution_count": 187,
   "id": "3f5c981a",
   "metadata": {},
   "outputs": [
    {
     "name": "stdout",
     "output_type": "stream",
     "text": [
      "10\n"
     ]
    }
   ],
   "source": [
    "outer()"
   ]
  },
  {
   "cell_type": "markdown",
   "id": "604015d0",
   "metadata": {},
   "source": [
    "### here inside outer function when return outer function; variable a are not destory"
   ]
  },
  {
   "cell_type": "markdown",
   "id": "d330afd7",
   "metadata": {},
   "source": [
    "# Example 3"
   ]
  },
  {
   "cell_type": "code",
   "execution_count": 153,
   "id": "24f9c784",
   "metadata": {},
   "outputs": [],
   "source": [
    "def outer():\n",
    "    \n",
    "    def inner():\n",
    "        \n",
    "        print(\"inside inner function \")\n",
    "    \n",
    "    return inner"
   ]
  },
  {
   "cell_type": "code",
   "execution_count": 155,
   "id": "f0d25a84",
   "metadata": {},
   "outputs": [
    {
     "name": "stdout",
     "output_type": "stream",
     "text": [
      "<function outer.<locals>.inner at 0x7f53203230a0>\n"
     ]
    }
   ],
   "source": [
    "var = outer()\n",
    "print(var)"
   ]
  },
  {
   "cell_type": "markdown",
   "id": "4c13a152",
   "metadata": {},
   "source": [
    "## Now var return the object of inner"
   ]
  },
  {
   "cell_type": "markdown",
   "id": "aaeb0348",
   "metadata": {},
   "source": [
    "## Now call the var()"
   ]
  },
  {
   "cell_type": "code",
   "execution_count": 156,
   "id": "7855f637",
   "metadata": {},
   "outputs": [
    {
     "name": "stdout",
     "output_type": "stream",
     "text": [
      "inside inner function \n"
     ]
    }
   ],
   "source": [
    "var()"
   ]
  },
  {
   "cell_type": "markdown",
   "id": "96d1be59",
   "metadata": {},
   "source": [
    "# Example 4"
   ]
  },
  {
   "cell_type": "code",
   "execution_count": 157,
   "id": "79e37f14",
   "metadata": {},
   "outputs": [
    {
     "data": {
      "text/plain": [
       "<function __main__.outer.<locals>.inner()>"
      ]
     },
     "execution_count": 157,
     "metadata": {},
     "output_type": "execute_result"
    }
   ],
   "source": [
    "outer()"
   ]
  },
  {
   "cell_type": "markdown",
   "id": "e34c6dce",
   "metadata": {},
   "source": [
    "## call also inner object"
   ]
  },
  {
   "cell_type": "code",
   "execution_count": 159,
   "id": "8cbcbcf8",
   "metadata": {},
   "outputs": [
    {
     "name": "stdout",
     "output_type": "stream",
     "text": [
      "inside inner function \n"
     ]
    }
   ],
   "source": [
    "outer()()"
   ]
  },
  {
   "cell_type": "markdown",
   "id": "63a90d9b",
   "metadata": {},
   "source": [
    "# Example 5"
   ]
  },
  {
   "cell_type": "code",
   "execution_count": 173,
   "id": "f35d1425",
   "metadata": {},
   "outputs": [],
   "source": [
    "def power(x):\n",
    "    \n",
    "    def calc(y):\n",
    "        \n",
    "        return y ** x\n",
    "    \n",
    "    return calc       "
   ]
  },
  {
   "cell_type": "code",
   "execution_count": 176,
   "id": "6f0c579c",
   "metadata": {},
   "outputs": [],
   "source": [
    "cube = power(3)"
   ]
  },
  {
   "cell_type": "code",
   "execution_count": 177,
   "id": "9bf7a808",
   "metadata": {},
   "outputs": [
    {
     "data": {
      "text/plain": [
       "8"
      ]
     },
     "execution_count": 177,
     "metadata": {},
     "output_type": "execute_result"
    }
   ],
   "source": [
    "cube(2)"
   ]
  },
  {
   "cell_type": "code",
   "execution_count": 179,
   "id": "e51a7a7b",
   "metadata": {},
   "outputs": [],
   "source": [
    "square = power(2)"
   ]
  },
  {
   "cell_type": "code",
   "execution_count": 178,
   "id": "e0f3d72a",
   "metadata": {},
   "outputs": [
    {
     "data": {
      "text/plain": [
       "4"
      ]
     },
     "execution_count": 178,
     "metadata": {},
     "output_type": "execute_result"
    }
   ],
   "source": [
    "square(2)"
   ]
  },
  {
   "cell_type": "code",
   "execution_count": 182,
   "id": "78d9c7aa",
   "metadata": {},
   "outputs": [],
   "source": [
    "dozen = power(12)"
   ]
  },
  {
   "cell_type": "code",
   "execution_count": 183,
   "id": "cc8463ea",
   "metadata": {},
   "outputs": [
    {
     "data": {
      "text/plain": [
       "4096"
      ]
     },
     "execution_count": 183,
     "metadata": {},
     "output_type": "execute_result"
    }
   ],
   "source": [
    "dozen(2)"
   ]
  },
  {
   "cell_type": "code",
   "execution_count": 185,
   "id": "bc92a4ec",
   "metadata": {},
   "outputs": [
    {
     "name": "stdout",
     "output_type": "stream",
     "text": [
      "10\n"
     ]
    }
   ],
   "source": [
    "outer()"
   ]
  },
  {
   "cell_type": "markdown",
   "id": "524051a3",
   "metadata": {},
   "source": [
    "# Example 6"
   ]
  },
  {
   "cell_type": "code",
   "execution_count": 160,
   "id": "37537575",
   "metadata": {},
   "outputs": [],
   "source": [
    "def outer(func,x):\n",
    "    \n",
    "    def inner(y):\n",
    "        \n",
    "        print(f\"calling func({func.__name__}) function and pass {x} from {inner.__name__} function\\n\")\n",
    "                \n",
    "        \n",
    "        return func(y)        \n",
    "     \n",
    "    print(f\"calling inner and pass {x} from {outer.__name__} function\\n\")\n",
    "    return inner(x)"
   ]
  },
  {
   "cell_type": "code",
   "execution_count": 161,
   "id": "bc9ba0f3",
   "metadata": {},
   "outputs": [],
   "source": [
    "def hello(a):\n",
    "    print(f\"Return {a} and back to inner function\")\n",
    "    return a"
   ]
  },
  {
   "cell_type": "code",
   "execution_count": 162,
   "id": "babcf228",
   "metadata": {},
   "outputs": [
    {
     "name": "stdout",
     "output_type": "stream",
     "text": [
      "calling outer function and pass 10\n",
      "\n"
     ]
    }
   ],
   "source": [
    "print(\"calling outer function and pass 10\\n\")\n"
   ]
  },
  {
   "cell_type": "code",
   "execution_count": 163,
   "id": "822fc064",
   "metadata": {
    "scrolled": true
   },
   "outputs": [
    {
     "name": "stdout",
     "output_type": "stream",
     "text": [
      "calling inner and pass 10 from outer function\n",
      "\n",
      "calling func(hello) function and pass 10 from inner function\n",
      "\n",
      "Return 10 and back to inner function\n",
      "10\n"
     ]
    }
   ],
   "source": [
    "print(outer(hello,10))"
   ]
  },
  {
   "cell_type": "code",
   "execution_count": 164,
   "id": "4608aa2a",
   "metadata": {},
   "outputs": [
    {
     "name": "stdout",
     "output_type": "stream",
     "text": [
      "\n",
      "In inner func(hello) return 10 and back to outer function\n",
      "\n",
      "In outer return inner(x) return 10 and 10 are printed\n",
      "\n"
     ]
    }
   ],
   "source": [
    "print(\"\\nIn inner func(hello) return 10 and back to outer function\")\n",
    "print(\"\\nIn outer return inner(x) return 10 and 10 are printed\\n\")"
   ]
  }
 ],
 "metadata": {
  "kernelspec": {
   "display_name": "Python 3 (ipykernel)",
   "language": "python",
   "name": "python3"
  },
  "language_info": {
   "codemirror_mode": {
    "name": "ipython",
    "version": 3
   },
   "file_extension": ".py",
   "mimetype": "text/x-python",
   "name": "python",
   "nbconvert_exporter": "python",
   "pygments_lexer": "ipython3",
   "version": "3.10.6"
  }
 },
 "nbformat": 4,
 "nbformat_minor": 5
}

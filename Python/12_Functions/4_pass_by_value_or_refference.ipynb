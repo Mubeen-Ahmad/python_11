{
 "cells": [
  {
   "cell_type": "markdown",
   "id": "e63b7c2e",
   "metadata": {},
   "source": [
    "# Pass by Reference or pass by value ?\n",
    "\n",
    "<br><br>\n",
    "\n",
    "<h3 style=\"color:#4e2abd;\">\n",
    "    In Python every variable name is a reference. <br><br>\n",
    "    When we pass a variable to a function, a new reference to the object is created.<br> \n",
    "\n",
    "</h3>"
   ]
  },
  {
   "cell_type": "markdown",
   "id": "7d2e0d86",
   "metadata": {},
   "source": [
    "<h3 style=\"color:#c94208;\">    Python doesn't use the pass-by-value nor the pass-by-reference models;\n",
    "</h3>\n",
    "\n",
    "<h3 style=\"color:#4e2abd;\">Python create a new object in Memmory if we are changing in Immutable Object <br><br><br><br>\n",
    "    But if the Object are Mutable than python treat like Pass by Refference\n",
    "</h3>\n"
   ]
  },
  {
   "cell_type": "markdown",
   "id": "8e28103a",
   "metadata": {},
   "source": [
    "# Immutable Object Example"
   ]
  },
  {
   "cell_type": "code",
   "execution_count": 32,
   "id": "cc9cbf32",
   "metadata": {},
   "outputs": [],
   "source": [
    "x = 10\n",
    "def change(x):\n",
    "    x = 0\n",
    "    print(x)\n",
    "    return id(x)"
   ]
  },
  {
   "cell_type": "code",
   "execution_count": 33,
   "id": "bdfd603b",
   "metadata": {},
   "outputs": [
    {
     "name": "stdout",
     "output_type": "stream",
     "text": [
      "140440673239568 10\n"
     ]
    }
   ],
   "source": [
    "# print id and value\n",
    "print(id(x),x)"
   ]
  },
  {
   "cell_type": "code",
   "execution_count": 34,
   "id": "403fba13",
   "metadata": {},
   "outputs": [
    {
     "name": "stdout",
     "output_type": "stream",
     "text": [
      "0\n"
     ]
    },
    {
     "data": {
      "text/plain": [
       "140440673239248"
      ]
     },
     "execution_count": 34,
     "metadata": {},
     "output_type": "execute_result"
    }
   ],
   "source": [
    "# call function\n",
    "change(x)"
   ]
  },
  {
   "cell_type": "code",
   "execution_count": 35,
   "id": "51db5feb",
   "metadata": {},
   "outputs": [
    {
     "name": "stdout",
     "output_type": "stream",
     "text": [
      "140440673239568 10\n"
     ]
    }
   ],
   "source": [
    "# print id and value\n",
    "\n",
    "print(id(x),x)"
   ]
  },
  {
   "cell_type": "markdown",
   "id": "e5af849c",
   "metadata": {},
   "source": [
    "## Example 2"
   ]
  },
  {
   "cell_type": "code",
   "execution_count": 42,
   "id": "6b67d498",
   "metadata": {},
   "outputs": [],
   "source": [
    "def unchage(x):\n",
    "    \n",
    "    # assign same value\n",
    "    x = 10\n",
    "    return id(x),x\n"
   ]
  },
  {
   "cell_type": "code",
   "execution_count": 43,
   "id": "5d6a2695",
   "metadata": {},
   "outputs": [
    {
     "name": "stdout",
     "output_type": "stream",
     "text": [
      "140440673239568 10\n"
     ]
    }
   ],
   "source": [
    "print(id(x),x)"
   ]
  },
  {
   "cell_type": "code",
   "execution_count": 44,
   "id": "10a2ed37",
   "metadata": {},
   "outputs": [
    {
     "name": "stdout",
     "output_type": "stream",
     "text": [
      "(140440673239568, 10)\n"
     ]
    }
   ],
   "source": [
    "print(unchage(x))"
   ]
  },
  {
   "cell_type": "markdown",
   "id": "b9bbacc7",
   "metadata": {},
   "source": [
    "## Now python Dont Create a new object\n",
    "\n",
    "<br><br>"
   ]
  },
  {
   "cell_type": "markdown",
   "id": "c5118430",
   "metadata": {},
   "source": [
    "# Immutable Object Example"
   ]
  },
  {
   "cell_type": "code",
   "execution_count": 46,
   "id": "834ec175",
   "metadata": {},
   "outputs": [],
   "source": [
    "def change(data):\n",
    "    data[0] = \"\"\n",
    "    \n",
    "    return (id(data),data)"
   ]
  },
  {
   "cell_type": "code",
   "execution_count": 47,
   "id": "65029719",
   "metadata": {},
   "outputs": [
    {
     "name": "stdout",
     "output_type": "stream",
     "text": [
      "140440111917312 [3, 2, 1]\n"
     ]
    }
   ],
   "source": [
    "lst = [3,2,1]\n",
    "\n",
    "print(id(lst),lst)"
   ]
  },
  {
   "cell_type": "code",
   "execution_count": 48,
   "id": "2438fde1",
   "metadata": {},
   "outputs": [
    {
     "data": {
      "text/plain": [
       "(140440111917312, ['', 2, 1])"
      ]
     },
     "execution_count": 48,
     "metadata": {},
     "output_type": "execute_result"
    }
   ],
   "source": [
    "change(lst)"
   ]
  },
  {
   "cell_type": "markdown",
   "id": "84851049",
   "metadata": {},
   "source": [
    "## Now Python Treat Like as Pass by Refference"
   ]
  }
 ],
 "metadata": {
  "kernelspec": {
   "display_name": "Python 3 (ipykernel)",
   "language": "python",
   "name": "python3"
  },
  "language_info": {
   "codemirror_mode": {
    "name": "ipython",
    "version": 3
   },
   "file_extension": ".py",
   "mimetype": "text/x-python",
   "name": "python",
   "nbconvert_exporter": "python",
   "pygments_lexer": "ipython3",
   "version": "3.10.6"
  }
 },
 "nbformat": 4,
 "nbformat_minor": 5
}

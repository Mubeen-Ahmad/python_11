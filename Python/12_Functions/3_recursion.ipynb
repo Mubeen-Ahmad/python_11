{
 "cells": [
  {
   "cell_type": "markdown",
   "id": "04854812",
   "metadata": {},
   "source": [
    "# What is Recursion ?\n",
    "\n",
    "## The process in which a function calls itself directly or indirectly is called recursion and the corresponding function is called a recursive function."
   ]
  },
  {
   "cell_type": "markdown",
   "id": "1676d67c",
   "metadata": {},
   "source": [
    "<br>\n",
    "\n",
    "## Advantages of using recursion\n",
    "\n",
    "<h3 style=\"color:#4e2abd;\">\n",
    "• A complicated function can be split down into smaller sub-problems utilizing recursion.<br><br>\n",
    "• Sequence creation is simpler through recursion than utilizing any nested iteration.<br><br>\n",
    "• Recursive functions render the code look simple and effective.<br><br>\n",
    "</h3>"
   ]
  },
  {
   "cell_type": "markdown",
   "id": "0e96b281",
   "metadata": {},
   "source": [
    "## Disadvantages of using recursion\n",
    "\n",
    "<h3 style=\"color:#4e2abd;\">\n",
    "• A lot of memory and time is taken through recursive calls which makes it expensive for use.<br><br>\n",
    "• Recursive functions are challenging to debug.<br><br>\n",
    "• The reasoning behind recursion can sometimes be tough to think through.<br><br>\n",
    "</h3>"
   ]
  },
  {
   "cell_type": "markdown",
   "id": "4ca7eb5e",
   "metadata": {},
   "source": [
    "<h3 style=\"color:#c94208;\">Product of two Number</h3>"
   ]
  },
  {
   "cell_type": "code",
   "execution_count": 45,
   "id": "4e1738bf",
   "metadata": {},
   "outputs": [
    {
     "data": {
      "text/plain": [
       "6"
      ]
     },
     "execution_count": 45,
     "metadata": {},
     "output_type": "execute_result"
    }
   ],
   "source": [
    "def product(a,b):\n",
    "    \n",
    "    if a == 1:\n",
    "        return b\n",
    "    \n",
    "    else:\n",
    "        return b + product(a-1,b)\n",
    "    \n",
    " \n",
    "product(3,2)"
   ]
  },
  {
   "cell_type": "markdown",
   "id": "f442f919",
   "metadata": {},
   "source": [
    "# UnderStand Algorithm"
   ]
  },
  {
   "cell_type": "code",
   "execution_count": 68,
   "id": "7055cc12",
   "metadata": {},
   "outputs": [
    {
     "name": "stdout",
     "output_type": "stream",
     "text": [
      "def product(a,b):\n",
      "    if a == 1:\n",
      "\treturn b \n",
      "    else:\n",
      "\treturn b + product(a-1,b)\n",
      "\n",
      "1st  2 + product(3-1=2, 2)\n",
      "2nd  2 + product(2-1=1, 2)\n",
      "3rd  a == 1 true -> return b(1)\n",
      "4th  --> 2nd -->  2 + 1 = 3 --> 1st --> 3 + 3 = 6\n",
      "\n",
      "product(3,2)\n",
      "\n"
     ]
    }
   ],
   "source": [
    "x='''def product(a,b):\\n    if a == 1:\\n\\treturn b \\n    else:\\n\\treturn b + product(a-1,b)\\n\\n1st  2 + product(3-1=2, 2)\\n2nd  2 + product(2-1=1, 2)\\n3rd  a == 1 true -> return b(1)\\n4th  --> 2nd -->  2 + 1 = 3 --> 1st --> 3 + 3 = 6\\n\\nproduct(3,2)\n",
    "'''\n",
    "print(x)"
   ]
  },
  {
   "cell_type": "markdown",
   "id": "afcdb732",
   "metadata": {},
   "source": [
    "# <a href=\"https://pythontutor.com/render.html#code=def%20product%28a,b%29%3A%0A%20%20%20%20%0A%20%20%20%20if%20a%20%3D%3D%201%3A%0A%20%20%20%20%20%20%20%20return%20b%0A%20%20%20%20%0A%20%20%20%20else%3A%0A%20%20%20%20%20%20%20%20return%20b%20%2B%20product%28a-1,b%29%0A%20%20%20%20%0A%20%0Aproduct%283,2%29&cumulative=false&curInstr=0&heapPrimitives=nevernest&mode=display&origin=opt-frontend.js&py=3&rawInputLstJSON=%5B%5D&textReferences=false\">Click Here Debug the Code</a>"
   ]
  },
  {
   "cell_type": "markdown",
   "id": "a1a624aa",
   "metadata": {},
   "source": [
    "<br><br>\n",
    "<h3 style=\"color:#c94208;\">Write a Python program to calculate the sum of a list of numbers</h3>\n"
   ]
  },
  {
   "cell_type": "code",
   "execution_count": 147,
   "id": "cf0f6678",
   "metadata": {},
   "outputs": [
    {
     "name": "stdout",
     "output_type": "stream",
     "text": [
      "6\n"
     ]
    }
   ],
   "source": [
    "l = [1,2,3]\n",
    "\n",
    "def sum(lst):\n",
    "    \n",
    "    if len(lst) == 1:\n",
    "        return lst[0]\n",
    "    \n",
    "    else:\n",
    "        return lst[0] + sum(lst[1:])\n",
    "        \"\"\"\n",
    "        \n",
    "       1st --> return lst[0] (1) + sum(lst[1:]) ([2,3]) \n",
    "       \n",
    "       2nd --> return lst[0] (2) + sum(lst[1:]) ([3])\n",
    "       \n",
    "       3rd --> return lst[0] (3)\n",
    "       \n",
    "       NOw 3 ---> 2nd step  sum(lst[1:]) return 3\n",
    "                   \n",
    "                    return lst[0] 2 + 3 = 5\n",
    "                    \n",
    "                    \n",
    "       Now 5 ---> 1st step sum(lst[1:]) return 5\n",
    "                   \n",
    "                   return lst[0] 1  +  5 = 6\n",
    "                   \n",
    "       Now  return 6\n",
    "        \n",
    "        \n",
    "        \n",
    "      \"\"\"\n",
    " \n",
    "print(sum(l))"
   ]
  },
  {
   "cell_type": "markdown",
   "id": "a1fd6978",
   "metadata": {},
   "source": [
    "# <a href=\"https://pythontutor.com/render.html#code=l%20%3D%20%5B1,2,3%5D%0A%0Adef%20sum%28lst%29%3A%0A%20%20%20%20%0A%20%20%20%20if%20len%28lst%29%20%3D%3D%201%3A%0A%20%20%20%20%20%20%20%20return%20lst%5B0%5D%0A%20%20%20%20%0A%20%20%20%20else%3A%0A%20%20%20%20%20%20%20%20return%20lst%5B0%5D%20%2B%20sum%28lst%5B1%3A%5D%29%0A%20%20%20%20%20%20%20%20%0Asum%28l%29&cumulative=false&curInstr=0&heapPrimitives=nevernest&mode=display&origin=opt-frontend.js&py=3&rawInputLstJSON=%5B%5D&textReferences=false\">Click Here Debug the Code</a>\n",
    "\n",
    "\n"
   ]
  },
  {
   "cell_type": "markdown",
   "id": "88de9165",
   "metadata": {},
   "source": [
    "<h3 style=\"color:#c94208;\">Fibonacci series</h3>\n"
   ]
  },
  {
   "cell_type": "code",
   "execution_count": 7,
   "id": "e31efb83",
   "metadata": {
    "scrolled": false
   },
   "outputs": [
    {
     "name": "stdout",
     "output_type": "stream",
     "text": [
      "3\n"
     ]
    }
   ],
   "source": [
    "def fibonacci(n):\n",
    "    if n <= 1:\n",
    "        return n\n",
    "    else:\n",
    "        return fibonacci(n-1) + fibonacci(n-2)\n",
    "\n",
    "print(fibonacci(4))"
   ]
  },
  {
   "cell_type": "markdown",
   "id": "bdf173c2",
   "metadata": {},
   "source": [
    "# <a href=\"https://pythontutor.com/visualize.html#code=def%20fibonacci%28n%29%3A%0A%20%20%20%20if%20n%20%3C%3D%201%3A%0A%20%20%20%20%20%20%20%20return%20n%0A%20%20%20%20else%3A%0A%20%20%20%20%20%20%20%20return%20fibonacci%28n-1%29%20%2B%20fibonacci%28n-2%29%0A%0Aprint%28fibonacci%284%29%29&cumulative=false&curInstr=0&heapPrimitives=nevernest&mode=display&origin=opt-frontend.js&py=3&rawInputLstJSON=%5B%5D&textReferences=false\">Click Here Debug the Code</a>\n",
    "\n",
    "\n"
   ]
  }
 ],
 "metadata": {
  "kernelspec": {
   "display_name": "Python 3 (ipykernel)",
   "language": "python",
   "name": "python3"
  },
  "language_info": {
   "codemirror_mode": {
    "name": "ipython",
    "version": 3
   },
   "file_extension": ".py",
   "mimetype": "text/x-python",
   "name": "python",
   "nbconvert_exporter": "python",
   "pygments_lexer": "ipython3",
   "version": "3.10.6"
  }
 },
 "nbformat": 4,
 "nbformat_minor": 5
}

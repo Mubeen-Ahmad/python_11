{
 "cells": [
  {
   "cell_type": "markdown",
   "id": "ade3f888",
   "metadata": {},
   "source": [
    "# Namespaces\n",
    "\n",
    "<h3 style=\"color:#4e2abd;\">\n",
    "A namespace is a space that holds names(identifiers).<br><br>Programmatically speaking, namespaces are dictionary of identifiers(keys) and their objects(values)\n",
    "</h3>"
   ]
  },
  {
   "cell_type": "markdown",
   "id": "55cd2ab7",
   "metadata": {},
   "source": [
    "# Example"
   ]
  },
  {
   "cell_type": "code",
   "execution_count": 1,
   "id": "674c3415",
   "metadata": {},
   "outputs": [],
   "source": [
    "a = 10  # --->   { a : 10 }\n",
    "b = 32  # --->   { b : 32 }"
   ]
  },
  {
   "cell_type": "markdown",
   "id": "3565fa2c",
   "metadata": {},
   "source": [
    "<h3 style=\"color:#4e2abd;\">\n",
    "There are 4 types of namespaces:\n",
    "    \n",
    " - Builtin Namespace\n",
    " - Global Namespace\n",
    " - Enclosing Namespace\n",
    " - Local Namespace\n",
    "</h3>\n",
    "\n",
    "\n",
    "<img src=\"../../images/legb.png\" style=\"display: block;margin-left: auto;margin-right: auto; width: 50%; border-radius:80px 80px 80px 80px;\">"
   ]
  },
  {
   "cell_type": "markdown",
   "id": "aa0d8b56",
   "metadata": {},
   "source": [
    "## Scope and LEGB Rule\n",
    "\n",
    "<h3 style=\"color:#4e2abd;\">\n",
    "A scope is a textual region of a Python program where a namespace is directly accessible.<br><br>\n",
    "The interpreter searches for a name from the inside out, looking in the local, enclosing, global, and finally the built-in scope. <br><br>If the interpreter doesn’t find the name in any of these locations, then Python raises a NameError exception.\n",
    "</h3>"
   ]
  },
  {
   "cell_type": "markdown",
   "id": "4d0247af",
   "metadata": {},
   "source": [
    "## Local Scope\n",
    "\n",
    "### The local scope, which is the innermost scope contains a list of local names that are only available in the function."
   ]
  },
  {
   "cell_type": "code",
   "execution_count": 12,
   "id": "51c6cbcb",
   "metadata": {},
   "outputs": [],
   "source": [
    "def temp():\n",
    "    \n",
    "    # local scope\n",
    "    a = 10\n",
    "    return a"
   ]
  },
  {
   "cell_type": "code",
   "execution_count": 14,
   "id": "29175d3c",
   "metadata": {},
   "outputs": [
    {
     "data": {
      "text/plain": [
       "10"
      ]
     },
     "execution_count": 14,
     "metadata": {},
     "output_type": "execute_result"
    }
   ],
   "source": [
    "# call function\n",
    "temp()"
   ]
  },
  {
   "cell_type": "markdown",
   "id": "6bc67b01",
   "metadata": {},
   "source": [
    "## Global Scope\n",
    "\n",
    "### The global scope is the module-level scope. When we import modules, they get added to the global scope"
   ]
  },
  {
   "cell_type": "code",
   "execution_count": 15,
   "id": "8a7d928b",
   "metadata": {},
   "outputs": [],
   "source": [
    "# global scope\n",
    "\n",
    "a = 20 # global variable\n",
    "\n",
    "def temp():\n",
    "    \n",
    "    # local scope\n",
    "    a = 10 # local variable\n",
    "    \n",
    "    return a"
   ]
  },
  {
   "cell_type": "code",
   "execution_count": 17,
   "id": "934bc3dc",
   "metadata": {},
   "outputs": [
    {
     "name": "stdout",
     "output_type": "stream",
     "text": [
      "Global Variable 20\n",
      "Local  Variable 10\n"
     ]
    }
   ],
   "source": [
    "print(\"Global Variable\",a)\n",
    "print(\"Local  Variable\",temp())"
   ]
  },
  {
   "cell_type": "markdown",
   "id": "9a7ba42c",
   "metadata": {},
   "source": [
    "<h3 style=\"color:#4e2abd;\"> We can't Access Local Variable On Global Scope</h3>"
   ]
  },
  {
   "cell_type": "code",
   "execution_count": 22,
   "id": "2bfd88e6",
   "metadata": {},
   "outputs": [],
   "source": [
    "x = 13\n",
    "\n",
    "def func():\n",
    "    x = 10\n",
    "    return x"
   ]
  },
  {
   "cell_type": "code",
   "execution_count": 23,
   "id": "af897a94",
   "metadata": {},
   "outputs": [
    {
     "name": "stdout",
     "output_type": "stream",
     "text": [
      "Global Variable 20\n",
      "Local  Variable 10\n"
     ]
    }
   ],
   "source": [
    "print(\"Global Variable\",a)\n",
    "print(\"Local  Variable\",func())"
   ]
  },
  {
   "cell_type": "markdown",
   "id": "afa41aa0",
   "metadata": {},
   "source": [
    "<h3 style=\"color:#4e2abd;\"> We can Access Global Variable inside Local Scope</h3>"
   ]
  },
  {
   "cell_type": "code",
   "execution_count": 25,
   "id": "64264972",
   "metadata": {},
   "outputs": [
    {
     "name": "stdout",
     "output_type": "stream",
     "text": [
      "Global Variable 13\n",
      "Access Inside Local Scope 13\n"
     ]
    }
   ],
   "source": [
    "x = 13\n",
    "\n",
    "def func():\n",
    "    print(\"Access Inside Local Scope\",x)\n",
    "\n",
    "\n",
    "print(\"Global Variable\",x)\n",
    "func()"
   ]
  },
  {
   "cell_type": "markdown",
   "id": "9267b825",
   "metadata": {},
   "source": [
    "<h3 style=\"color:#4e2abd;\">If the variable are exist in local scope than python access local Scope else Access Global Scope</h3>"
   ]
  },
  {
   "cell_type": "code",
   "execution_count": 30,
   "id": "0e5c90c8",
   "metadata": {},
   "outputs": [
    {
     "name": "stdout",
     "output_type": "stream",
     "text": [
      "Global Value of x is 13\n",
      "Local  Value of x is 12\n"
     ]
    }
   ],
   "source": [
    "x = 13\n",
    "\n",
    "def func():\n",
    "    x = 12\n",
    "    print(\"Local  Value of x is\",x)\n",
    "\n",
    "\n",
    "print(\"Global Value of x is\",x)\n",
    "func()"
   ]
  },
  {
   "cell_type": "markdown",
   "id": "48fed4f3",
   "metadata": {},
   "source": [
    "<h3 style=\"color:#4e2abd;\">Can i change global Variable inside the Local Scope ?</h3>"
   ]
  },
  {
   "cell_type": "code",
   "execution_count": 31,
   "id": "46a599bb",
   "metadata": {},
   "outputs": [
    {
     "name": "stdout",
     "output_type": "stream",
     "text": [
      "Global Value of x is 13\n"
     ]
    },
    {
     "ename": "UnboundLocalError",
     "evalue": "local variable 'x' referenced before assignment",
     "output_type": "error",
     "traceback": [
      "\u001b[0;31m---------------------------------------------------------------------------\u001b[0m",
      "\u001b[0;31mUnboundLocalError\u001b[0m                         Traceback (most recent call last)",
      "Cell \u001b[0;32mIn [31], line 9\u001b[0m\n\u001b[1;32m      5\u001b[0m     \u001b[38;5;28mprint\u001b[39m(\u001b[38;5;124m\"\u001b[39m\u001b[38;5;124mLocal  Value of x is\u001b[39m\u001b[38;5;124m\"\u001b[39m,x)\n\u001b[1;32m      8\u001b[0m \u001b[38;5;28mprint\u001b[39m(\u001b[38;5;124m\"\u001b[39m\u001b[38;5;124mGlobal Value of x is\u001b[39m\u001b[38;5;124m\"\u001b[39m,x)\n\u001b[0;32m----> 9\u001b[0m \u001b[43mfunc\u001b[49m\u001b[43m(\u001b[49m\u001b[43m)\u001b[49m\n",
      "Cell \u001b[0;32mIn [31], line 4\u001b[0m, in \u001b[0;36mfunc\u001b[0;34m()\u001b[0m\n\u001b[1;32m      3\u001b[0m \u001b[38;5;28;01mdef\u001b[39;00m \u001b[38;5;21mfunc\u001b[39m():\n\u001b[0;32m----> 4\u001b[0m     x \u001b[38;5;241m+\u001b[39m\u001b[38;5;241m=\u001b[39m \u001b[38;5;241m1\u001b[39m\n\u001b[1;32m      5\u001b[0m     \u001b[38;5;28mprint\u001b[39m(\u001b[38;5;124m\"\u001b[39m\u001b[38;5;124mLocal  Value of x is\u001b[39m\u001b[38;5;124m\"\u001b[39m,x)\n",
      "\u001b[0;31mUnboundLocalError\u001b[0m: local variable 'x' referenced before assignment"
     ]
    }
   ],
   "source": [
    "x = 13\n",
    "\n",
    "def func():\n",
    "    x += 1\n",
    "    print(\"Local  Value of x is\",x)\n",
    "\n",
    "\n",
    "print(\"Global Value of x is\",x)\n",
    "func()"
   ]
  },
  {
   "cell_type": "markdown",
   "id": "23e54e04",
   "metadata": {},
   "source": [
    "<h3 style=\"color:#4e2abd;\">use global keyword for change the variable</h3>"
   ]
  },
  {
   "cell_type": "code",
   "execution_count": 33,
   "id": "834abd0b",
   "metadata": {},
   "outputs": [
    {
     "name": "stdout",
     "output_type": "stream",
     "text": [
      "Global Value of x is 13\n",
      "Local  Value of x is 14\n"
     ]
    }
   ],
   "source": [
    "x = 13\n",
    "\n",
    "def func():\n",
    "    global x\n",
    "    x += 1\n",
    "    print(\"Local  Value of x is\",x)\n",
    "\n",
    "\n",
    "print(\"Global Value of x is\",x)\n",
    "func()"
   ]
  },
  {
   "cell_type": "code",
   "execution_count": 44,
   "id": "d973621f",
   "metadata": {},
   "outputs": [
    {
     "name": "stdout",
     "output_type": "stream",
     "text": [
      "Value of x Before Function Call 13\n",
      "\n",
      "    ---- Calling Function ----\n",
      "\n",
      "Value of x After  Function Call 14\n"
     ]
    }
   ],
   "source": [
    "x = 13\n",
    "\n",
    "def func():\n",
    "    print(\"\\n    ---- Calling Function ----\")\n",
    "    global x\n",
    "    x += 1\n",
    "\n",
    "\n",
    "print(\"Value of x Before Function Call\",x)\n",
    "func()\n",
    "print(\"\\nValue of x After  Function Call\",x)"
   ]
  },
  {
   "cell_type": "markdown",
   "id": "743dd43f",
   "metadata": {},
   "source": [
    "<h3 style=\"color:#4e2abd;\">Change Local Variable on Global Scope</h3>"
   ]
  },
  {
   "cell_type": "code",
   "execution_count": 49,
   "id": "10ff7eab",
   "metadata": {},
   "outputs": [
    {
     "name": "stdout",
     "output_type": "stream",
     "text": [
      "Value of x Inside Local Scope 10\n",
      "\n",
      "Value of x Outside Global Scope 11\n"
     ]
    }
   ],
   "source": [
    "def func():\n",
    "    x = 10\n",
    "    print(\"Value of x Inside Local Scope\",x)\n",
    "    \n",
    "func()\n",
    "x = 11\n",
    "print(\"\\nValue of x Outside Global Scope\",x)"
   ]
  },
  {
   "cell_type": "markdown",
   "id": "0e0f14ec",
   "metadata": {},
   "source": [
    "<h3 style=\"color:#4e2abd;\">it is Possible to Create Global Variable inside of Local Scope</h3>"
   ]
  },
  {
   "cell_type": "code",
   "execution_count": 56,
   "id": "dd95bace",
   "metadata": {},
   "outputs": [
    {
     "ename": "NameError",
     "evalue": "name 'k' is not defined",
     "output_type": "error",
     "traceback": [
      "\u001b[0;31m---------------------------------------------------------------------------\u001b[0m",
      "\u001b[0;31mNameError\u001b[0m                                 Traceback (most recent call last)",
      "Cell \u001b[0;32mIn [56], line 8\u001b[0m\n\u001b[1;32m      5\u001b[0m     \u001b[38;5;28;01mglobal\u001b[39;00m k\n\u001b[1;32m      7\u001b[0m func()\n\u001b[0;32m----> 8\u001b[0m \u001b[38;5;28mprint\u001b[39m(\u001b[43mk\u001b[49m)\n",
      "\u001b[0;31mNameError\u001b[0m: name 'k' is not defined"
     ]
    }
   ],
   "source": [
    "# global scope\n",
    "\n",
    "def func():\n",
    "    # local scope\n",
    "    global k\n",
    "\n",
    "func()\n",
    "print(k)"
   ]
  },
  {
   "cell_type": "code",
   "execution_count": 57,
   "id": "0b5133c5",
   "metadata": {},
   "outputs": [
    {
     "name": "stdout",
     "output_type": "stream",
     "text": [
      "90\n"
     ]
    }
   ],
   "source": [
    "# global scope\n",
    "\n",
    "def func():\n",
    "    # local scope\n",
    "    global k\n",
    "    \n",
    "    # Assign value of k\n",
    "    k = 90\n",
    "\n",
    "func()\n",
    "\n",
    "print(k)"
   ]
  },
  {
   "cell_type": "markdown",
   "id": "adbbb502",
   "metadata": {},
   "source": [
    "<h3 style=\"color:#4e2abd;\">Functions Parameter are Local or Global Variable ?</h3>"
   ]
  },
  {
   "cell_type": "code",
   "execution_count": 60,
   "id": "fee41ffd",
   "metadata": {},
   "outputs": [
    {
     "name": "stdout",
     "output_type": "stream",
     "text": [
      "Local Variable 10\n"
     ]
    }
   ],
   "source": [
    "def func(z):\n",
    "    print(\"Local Variable\",z)\n",
    "    \n",
    "    \n",
    "func(10)"
   ]
  },
  {
   "cell_type": "code",
   "execution_count": 62,
   "id": "2ea69951",
   "metadata": {},
   "outputs": [
    {
     "ename": "NameError",
     "evalue": "name 'z' is not defined",
     "output_type": "error",
     "traceback": [
      "\u001b[0;31m---------------------------------------------------------------------------\u001b[0m",
      "\u001b[0;31mNameError\u001b[0m                                 Traceback (most recent call last)",
      "Cell \u001b[0;32mIn [62], line 1\u001b[0m\n\u001b[0;32m----> 1\u001b[0m \u001b[38;5;28mprint\u001b[39m(\u001b[43mz\u001b[49m)\n",
      "\u001b[0;31mNameError\u001b[0m: name 'z' is not defined"
     ]
    }
   ],
   "source": [
    "print(z)\n",
    "\n",
    "# z is not defined in global scope So Functions parameters are Local Variable"
   ]
  },
  {
   "cell_type": "markdown",
   "id": "81edc47f",
   "metadata": {},
   "source": [
    "## Bulit-in Scope\n",
    "\n",
    "### The outermost scope is of the built-in names scope. The interpreter searches names in this scope at last.<br><br>When the code is Executed than there is some variable are Automatically created e.g print, input, etc"
   ]
  },
  {
   "cell_type": "code",
   "execution_count": 64,
   "id": "abc88aae",
   "metadata": {},
   "outputs": [
    {
     "name": "stdout",
     "output_type": "stream",
     "text": [
      "Hello\n"
     ]
    }
   ],
   "source": [
    "print(\"Hello\")"
   ]
  },
  {
   "cell_type": "markdown",
   "id": "62ac8cc4",
   "metadata": {},
   "source": [
    "<h3 style=\"color:#4e2abd;\">Check Bulit-in All Variables </h3>"
   ]
  },
  {
   "cell_type": "code",
   "execution_count": 74,
   "id": "5e48e4a1",
   "metadata": {
    "scrolled": false
   },
   "outputs": [
    {
     "name": "stdout",
     "output_type": "stream",
     "text": [
      "['ArithmeticError', 'AssertionError', 'AttributeError', 'BaseException', 'BlockingIOError', 'BrokenPipeError', 'BufferError', 'BytesWarning', 'ChildProcessError', 'ConnectionAbortedError', 'ConnectionError', 'ConnectionRefusedError', 'ConnectionResetError', 'DeprecationWarning', 'EOFError', 'Ellipsis', 'EncodingWarning', 'EnvironmentError', 'Exception', 'False', 'FileExistsError', 'FileNotFoundError', 'FloatingPointError', 'FutureWarning', 'GeneratorExit', 'IOError', 'ImportError', 'ImportWarning', 'IndentationError', 'IndexError', 'InterruptedError', 'IsADirectoryError', 'KeyError', 'KeyboardInterrupt', 'LookupError', 'MemoryError', 'ModuleNotFoundError', 'NameError', 'None', 'NotADirectoryError', 'NotImplemented', 'NotImplementedError', 'OSError', 'OverflowError', 'PendingDeprecationWarning', 'PermissionError', 'ProcessLookupError', 'RecursionError', 'ReferenceError', 'ResourceWarning', 'RuntimeError', 'RuntimeWarning', 'StopAsyncIteration', 'StopIteration', 'SyntaxError', 'SyntaxWarning', 'SystemError', 'SystemExit', 'TabError', 'TimeoutError', 'True', 'TypeError', 'UnboundLocalError', 'UnicodeDecodeError', 'UnicodeEncodeError', 'UnicodeError', 'UnicodeTranslateError', 'UnicodeWarning', 'UserWarning', 'ValueError', 'Warning', 'ZeroDivisionError', '__IPYTHON__', '__build_class__', '__debug__', '__doc__', '__import__', '__loader__', '__name__', '__package__', '__spec__', 'abs', 'aiter', 'all', 'anext', 'any', 'ascii', 'bin', 'bool', 'breakpoint', 'bytearray', 'bytes', 'callable', 'chr', 'classmethod', 'compile', 'complex', 'copyright', 'credits', 'delattr', 'dict', 'dir', 'display', 'divmod', 'enumerate', 'eval', 'exec', 'execfile', 'filter', 'float', 'format', 'frozenset', 'get_ipython', 'getattr', 'globals', 'hasattr', 'hash', 'help', 'hex', 'id', 'input', 'int', 'isinstance', 'issubclass', 'iter', 'len', 'license', 'list', 'locals', 'map', 'max', 'memoryview', 'min', 'next', 'object', 'oct', 'open', 'ord', 'pow', 'print', 'property', 'range', 'repr', 'reversed', 'round', 'runfile', 'set', 'setattr', 'slice', 'sorted', 'staticmethod', 'str', 'sum', 'super', 'tuple', 'type', 'vars', 'zip']\n"
     ]
    }
   ],
   "source": [
    "import builtins\n",
    "\n",
    "print(dir(builtins))"
   ]
  },
  {
   "cell_type": "code",
   "execution_count": 76,
   "id": "c53b4280",
   "metadata": {},
   "outputs": [
    {
     "data": {
      "text/plain": [
       "8"
      ]
     },
     "execution_count": 76,
     "metadata": {},
     "output_type": "execute_result"
    }
   ],
   "source": [
    "# global scope\n",
    "l = [3,2,8]\n",
    "\n",
    "max(l) # max is bulit-in Scope"
   ]
  },
  {
   "cell_type": "markdown",
   "id": "8120070e",
   "metadata": {},
   "source": [
    "<h3 style=\"color:#4e2abd;\">What Happend if i Create Same Funtion name for bulit-in ?<br><br>Note in python Bulit-in Function treat like a variable</h3>\n"
   ]
  },
  {
   "cell_type": "code",
   "execution_count": 89,
   "id": "07ab5b34",
   "metadata": {},
   "outputs": [
    {
     "name": "stdout",
     "output_type": "stream",
     "text": [
      "[3, 2, 1]\n"
     ]
    }
   ],
   "source": [
    "l = [3,2,1]\n",
    "\n",
    "def max(l):\n",
    "    print(l)\n",
    "    \n",
    "max(l)"
   ]
  },
  {
   "cell_type": "markdown",
   "id": "9810051c",
   "metadata": {},
   "source": [
    "## Now max Bulit in not working According to legb rule\n",
    "## Because python check first global scope than check local scope\n",
    "## So python found max function in globle scope"
   ]
  },
  {
   "cell_type": "markdown",
   "id": "16833a75",
   "metadata": {},
   "source": [
    "<h3 style=\"color:#4e2abd;\">But if i call bulit-in variable (function) after calling  function than python access bulit-in Scope<br><br> Because in first python dont found function in global scope </h3>\n"
   ]
  },
  {
   "cell_type": "code",
   "execution_count": 103,
   "id": "2e1443b4",
   "metadata": {},
   "outputs": [
    {
     "name": "stdout",
     "output_type": "stream",
     "text": [
      "Bulit-in Scope max 3\n",
      "\n",
      " --- Creating max function ---\n",
      "\n",
      "Global Scope max [3, 2, 1]\n"
     ]
    }
   ],
   "source": [
    "del max # remove previous max\n",
    "\n",
    "l = [3,2,1]\n",
    "print(\"Bulit-in Scope max\",max(l))\n",
    "\n",
    "print(\"\\n --- Creating max function ---\\n\")\n",
    "def max(l):\n",
    "    return l\n",
    "\n",
    "max(l)\n",
    "print(\"Global Scope max\",max(l))"
   ]
  },
  {
   "cell_type": "markdown",
   "id": "c623f4ba",
   "metadata": {},
   "source": [
    "## Enclosing Scope / Non Local\n",
    "\n",
    "### Enclosing scopes are seen in nested functions where names are searched in the nearest outside function. <br>\n"
   ]
  },
  {
   "cell_type": "code",
   "execution_count": 112,
   "id": "841931bc",
   "metadata": {},
   "outputs": [
    {
     "name": "stdout",
     "output_type": "stream",
     "text": [
      "\n",
      "Inside Outer\n",
      "\n",
      "\n",
      "Inside Inner\n",
      "\n",
      "\n",
      "End Inner\n",
      "\n",
      "\n",
      "End Outer\n",
      "\n"
     ]
    }
   ],
   "source": [
    "def outer():\n",
    "    \n",
    "    print(\"\\nInside Outer\\n\")\n",
    "    \n",
    "    def inner():\n",
    "\n",
    "        print(\"\\nInside Inner\\n\")\n",
    "    \n",
    "        print(\"\\nEnd Inner\\n\")\n",
    "    inner()\n",
    "    \n",
    "    print(\"\\nEnd Outer\\n\")\n",
    "    \n",
    "outer()"
   ]
  },
  {
   "cell_type": "markdown",
   "id": "342c1472",
   "metadata": {},
   "source": [
    "## Example 2"
   ]
  },
  {
   "cell_type": "code",
   "execution_count": 141,
   "id": "f62afbbe",
   "metadata": {},
   "outputs": [
    {
     "name": "stdout",
     "output_type": "stream",
     "text": [
      "Local Scope\n"
     ]
    }
   ],
   "source": [
    "max = \"Global Scope\"\n",
    "\n",
    "def outer():\n",
    "    # Local Scope But Non Local / Enclosing for inner\n",
    "    \n",
    "    max = \"Local Scope But Non Local / Enclosing for inner\"\n",
    "    \n",
    "    def inner():\n",
    "        \n",
    "        max = \"Local Scope\"\n",
    "        print(max)\n",
    "    \n",
    "    \n",
    "    \n",
    "    inner()\n",
    "    \n",
    "outer()"
   ]
  },
  {
   "cell_type": "markdown",
   "id": "afaae097",
   "metadata": {},
   "source": [
    "<h3 style=\"color:#4e2abd;\">if local not found then python check Non Local Scope According to Legb Rule </h3>\n"
   ]
  },
  {
   "cell_type": "code",
   "execution_count": 142,
   "id": "598f85ee",
   "metadata": {},
   "outputs": [
    {
     "name": "stdout",
     "output_type": "stream",
     "text": [
      "Local Scope But Non Local / Enclosing for inner\n"
     ]
    }
   ],
   "source": [
    "max = \"Global Scope\"\n",
    "\n",
    "def outer():\n",
    "    # Local Scope But Non Local / Enclosing for inner\n",
    "    \n",
    "    max = \"Local Scope But Non Local / Enclosing for inner\"\n",
    "    \n",
    "    def inner():\n",
    "        print(max)\n",
    "    \n",
    "    \n",
    "    \n",
    "    inner()\n",
    "    \n",
    "outer()"
   ]
  },
  {
   "cell_type": "markdown",
   "id": "600c8ac3",
   "metadata": {},
   "source": [
    "<h3 style=\"color:#4e2abd;\">if Non local also not found then python check Global Scope According to Legb Rule </h3>\n"
   ]
  },
  {
   "cell_type": "code",
   "execution_count": 148,
   "id": "3cbf5486",
   "metadata": {},
   "outputs": [
    {
     "name": "stdout",
     "output_type": "stream",
     "text": [
      "Global Scope\n"
     ]
    }
   ],
   "source": [
    "max = \"Global Scope\"\n",
    "\n",
    "def outer():\n",
    "    def inner():\n",
    "        print(max)\n",
    "    \n",
    "    \n",
    "    \n",
    "    inner()\n",
    "    \n",
    "outer()"
   ]
  },
  {
   "cell_type": "markdown",
   "id": "bfae7c26",
   "metadata": {},
   "source": [
    "<h3 style=\"color:#4e2abd;\">if Global also not found then python check Bulit-in Scope According to Legb Rule </h3>\n"
   ]
  },
  {
   "cell_type": "code",
   "execution_count": 149,
   "id": "6dc3f051",
   "metadata": {},
   "outputs": [],
   "source": [
    "# remove global max\n",
    "del max"
   ]
  },
  {
   "cell_type": "code",
   "execution_count": 150,
   "id": "08c11b18",
   "metadata": {},
   "outputs": [
    {
     "name": "stdout",
     "output_type": "stream",
     "text": [
      "<built-in function max>\n"
     ]
    }
   ],
   "source": [
    "def outer():\n",
    "    def inner():\n",
    "        print(max)\n",
    "    \n",
    "    \n",
    "    \n",
    "    inner()\n",
    "    \n",
    "outer()"
   ]
  },
  {
   "cell_type": "markdown",
   "id": "bd9bb85a",
   "metadata": {},
   "source": [
    "<h3 style=\"color:#4e2abd;\">if Bulit-In also not found then python Raise According to Legb Rule </h3>\n"
   ]
  },
  {
   "cell_type": "code",
   "execution_count": 152,
   "id": "54568a8a",
   "metadata": {},
   "outputs": [
    {
     "ename": "NameError",
     "evalue": "name 'name' is not defined",
     "output_type": "error",
     "traceback": [
      "\u001b[0;31m---------------------------------------------------------------------------\u001b[0m",
      "\u001b[0;31mNameError\u001b[0m                                 Traceback (most recent call last)",
      "Cell \u001b[0;32mIn [152], line 8\u001b[0m\n\u001b[1;32m      4\u001b[0m         \u001b[38;5;28mprint\u001b[39m(name) \u001b[38;5;66;03m# name are not exits in bulit-in  \u001b[39;00m\n\u001b[1;32m      6\u001b[0m     inner()\n\u001b[0;32m----> 8\u001b[0m \u001b[43mouter\u001b[49m\u001b[43m(\u001b[49m\u001b[43m)\u001b[49m\n",
      "Cell \u001b[0;32mIn [152], line 6\u001b[0m, in \u001b[0;36mouter\u001b[0;34m()\u001b[0m\n\u001b[1;32m      3\u001b[0m \u001b[38;5;28;01mdef\u001b[39;00m \u001b[38;5;21minner\u001b[39m():\n\u001b[1;32m      4\u001b[0m     \u001b[38;5;28mprint\u001b[39m(name) \u001b[38;5;66;03m# name are not exits in bulit-in  \u001b[39;00m\n\u001b[0;32m----> 6\u001b[0m \u001b[43minner\u001b[49m\u001b[43m(\u001b[49m\u001b[43m)\u001b[49m\n",
      "Cell \u001b[0;32mIn [152], line 4\u001b[0m, in \u001b[0;36mouter.<locals>.inner\u001b[0;34m()\u001b[0m\n\u001b[1;32m      3\u001b[0m \u001b[38;5;28;01mdef\u001b[39;00m \u001b[38;5;21minner\u001b[39m():\n\u001b[0;32m----> 4\u001b[0m     \u001b[38;5;28mprint\u001b[39m(\u001b[43mname\u001b[49m)\n",
      "\u001b[0;31mNameError\u001b[0m: name 'name' is not defined"
     ]
    }
   ],
   "source": [
    "def outer():\n",
    "    \n",
    "    def inner():\n",
    "        print(name) # name are not exits in bulit-in  \n",
    "    \n",
    "    inner()\n",
    "    \n",
    "outer()"
   ]
  },
  {
   "cell_type": "markdown",
   "id": "0eade2c4",
   "metadata": {},
   "source": [
    "<h3 style=\"color:#4e2abd;\">Can i change nonelocal Variable inside the Local Scope ?</h3>"
   ]
  },
  {
   "cell_type": "code",
   "execution_count": 153,
   "id": "35729112",
   "metadata": {},
   "outputs": [
    {
     "ename": "UnboundLocalError",
     "evalue": "local variable 'a' referenced before assignment",
     "output_type": "error",
     "traceback": [
      "\u001b[0;31m---------------------------------------------------------------------------\u001b[0m",
      "\u001b[0;31mUnboundLocalError\u001b[0m                         Traceback (most recent call last)",
      "Cell \u001b[0;32mIn [153], line 9\u001b[0m\n\u001b[1;32m      5\u001b[0m         \u001b[38;5;28mprint\u001b[39m(a) \n\u001b[1;32m      7\u001b[0m     inner()\n\u001b[0;32m----> 9\u001b[0m \u001b[43mouter\u001b[49m\u001b[43m(\u001b[49m\u001b[43m)\u001b[49m\n",
      "Cell \u001b[0;32mIn [153], line 7\u001b[0m, in \u001b[0;36mouter\u001b[0;34m()\u001b[0m\n\u001b[1;32m      4\u001b[0m     a \u001b[38;5;241m+\u001b[39m\u001b[38;5;241m=\u001b[39m \u001b[38;5;241m1\u001b[39m\n\u001b[1;32m      5\u001b[0m     \u001b[38;5;28mprint\u001b[39m(a) \n\u001b[0;32m----> 7\u001b[0m \u001b[43minner\u001b[49m\u001b[43m(\u001b[49m\u001b[43m)\u001b[49m\n",
      "Cell \u001b[0;32mIn [153], line 4\u001b[0m, in \u001b[0;36mouter.<locals>.inner\u001b[0;34m()\u001b[0m\n\u001b[1;32m      3\u001b[0m \u001b[38;5;28;01mdef\u001b[39;00m \u001b[38;5;21minner\u001b[39m():\n\u001b[0;32m----> 4\u001b[0m     a \u001b[38;5;241m+\u001b[39m\u001b[38;5;241m=\u001b[39m \u001b[38;5;241m1\u001b[39m\n\u001b[1;32m      5\u001b[0m     \u001b[38;5;28mprint\u001b[39m(a)\n",
      "\u001b[0;31mUnboundLocalError\u001b[0m: local variable 'a' referenced before assignment"
     ]
    }
   ],
   "source": [
    "def outer():\n",
    "    a = 2\n",
    "    def inner():\n",
    "        a += 1\n",
    "        print(a) \n",
    "        \n",
    "    inner()\n",
    "    \n",
    "outer()"
   ]
  },
  {
   "cell_type": "markdown",
   "id": "4aa123ca",
   "metadata": {},
   "source": [
    "<h3 style=\"color:#4e2abd;\">Use nonelocal keyword</h3>"
   ]
  },
  {
   "cell_type": "code",
   "execution_count": 155,
   "id": "0d831484",
   "metadata": {},
   "outputs": [
    {
     "name": "stdout",
     "output_type": "stream",
     "text": [
      "3\n"
     ]
    }
   ],
   "source": [
    "def outer():\n",
    "    a = 2\n",
    "    \n",
    "    def inner():\n",
    "        nonlocal a\n",
    "        a += 1\n",
    "        print(a) \n",
    "        \n",
    "    inner()\n",
    "    \n",
    "outer()"
   ]
  },
  {
   "cell_type": "markdown",
   "id": "b012e55a",
   "metadata": {},
   "source": [
    "<h3 style=\"color:#4e2abd;\">Can i Create none local variable inside local ? </h3>"
   ]
  },
  {
   "cell_type": "code",
   "execution_count": 171,
   "id": "714e397e",
   "metadata": {},
   "outputs": [
    {
     "ename": "SyntaxError",
     "evalue": "no binding for nonlocal 'x' found (358139520.py, line 4)",
     "output_type": "error",
     "traceback": [
      "\u001b[0;36m  Cell \u001b[0;32mIn [171], line 4\u001b[0;36m\u001b[0m\n\u001b[0;31m    nonlocal x\u001b[0m\n\u001b[0m    ^\u001b[0m\n\u001b[0;31mSyntaxError\u001b[0m\u001b[0;31m:\u001b[0m no binding for nonlocal 'x' found\n"
     ]
    }
   ],
   "source": [
    "def outer():\n",
    "    \n",
    "    def inner():\n",
    "        nonlocal x\n",
    "        x = 1\n",
    "        print(a) \n",
    "        \n",
    "    inner()\n",
    "    \n",
    "outer()"
   ]
  },
  {
   "cell_type": "markdown",
   "id": "e173027b",
   "metadata": {},
   "source": [
    "<h3 style=\"color:#4e2abd;\">Note Allowed but we i Create global variable inside local ? </h3>"
   ]
  },
  {
   "cell_type": "code",
   "execution_count": 176,
   "id": "85055ba7",
   "metadata": {},
   "outputs": [
    {
     "name": "stdout",
     "output_type": "stream",
     "text": [
      "inner\n"
     ]
    }
   ],
   "source": [
    "del x\n",
    "\n",
    "def outer():\n",
    "    \n",
    "    def inner():\n",
    "        global x\n",
    "        x = \"inner\"\n",
    "        print(x) \n",
    "        \n",
    "    inner()\n",
    "    \n",
    "outer()"
   ]
  },
  {
   "cell_type": "code",
   "execution_count": 177,
   "id": "3e1dda61",
   "metadata": {},
   "outputs": [
    {
     "name": "stdout",
     "output_type": "stream",
     "text": [
      "inner\n"
     ]
    }
   ],
   "source": [
    "# now print inner before calling\n",
    "print(x)"
   ]
  },
  {
   "cell_type": "markdown",
   "id": "0972c32c",
   "metadata": {},
   "source": [
    "# globals() Function\n",
    "\n",
    "\n",
    "<h3 style=\"color:#4e2abd;\">The built-in function globals() returns a reference to the current global namespace dictionary. <br><br>You can use it to access the objects in the global namespace.<br><br><br>\n",
    "Note ! global is a keyword and globals() is a built-in Function\n",
    "\n",
    "</h3>\n"
   ]
  },
  {
   "cell_type": "code",
   "execution_count": 2,
   "id": "393feb80",
   "metadata": {},
   "outputs": [],
   "source": [
    "# global scope\n",
    "a = 2"
   ]
  },
  {
   "cell_type": "code",
   "execution_count": 5,
   "id": "aba5185a",
   "metadata": {},
   "outputs": [
    {
     "data": {
      "text/plain": [
       "{'__name__': '__main__',\n",
       " '__doc__': 'Automatically created module for IPython interactive environment',\n",
       " '__package__': None,\n",
       " '__loader__': None,\n",
       " '__spec__': None,\n",
       " '__builtin__': <module 'builtins' (built-in)>,\n",
       " '__builtins__': <module 'builtins' (built-in)>,\n",
       " '_ih': ['',\n",
       "  'globals()',\n",
       "  '# global scope\\na = 2',\n",
       "  'globals()',\n",
       "  'globals()[a]',\n",
       "  'globals()'],\n",
       " '_oh': {1: {...}, 3: {...}},\n",
       " '_dh': [PosixPath('/home/sweeterror404/python/python_11/Python/12_Functions')],\n",
       " 'In': ['',\n",
       "  'globals()',\n",
       "  '# global scope\\na = 2',\n",
       "  'globals()',\n",
       "  'globals()[a]',\n",
       "  'globals()'],\n",
       " 'Out': {1: {...}, 3: {...}},\n",
       " 'get_ipython': <bound method InteractiveShell.get_ipython of <ipykernel.zmqshell.ZMQInteractiveShell object at 0x7fb1e6b9ea10>>,\n",
       " 'exit': <IPython.core.autocall.ZMQExitAutocall at 0x7fb1e6bf64a0>,\n",
       " 'quit': <IPython.core.autocall.ZMQExitAutocall at 0x7fb1e6bf64a0>,\n",
       " '_': {...},\n",
       " '__': {...},\n",
       " '___': '',\n",
       " '_i': 'globals()[a]',\n",
       " '_ii': 'globals()',\n",
       " '_iii': '# global scope\\na = 2',\n",
       " '_i1': 'globals()',\n",
       " '_1': {...},\n",
       " '_i2': '# global scope\\na = 2',\n",
       " 'a': 2,\n",
       " '_i3': 'globals()',\n",
       " '_3': {...},\n",
       " '_i4': 'globals()[a]',\n",
       " '_i5': 'globals()'}"
      ]
     },
     "execution_count": 5,
     "metadata": {},
     "output_type": "execute_result"
    }
   ],
   "source": [
    "globals()"
   ]
  },
  {
   "cell_type": "code",
   "execution_count": 7,
   "id": "7a3a5fc7",
   "metadata": {},
   "outputs": [
    {
     "data": {
      "text/plain": [
       "2"
      ]
     },
     "execution_count": 7,
     "metadata": {},
     "output_type": "execute_result"
    }
   ],
   "source": [
    "# access key\n",
    "\n",
    "globals()[\"a\"]"
   ]
  },
  {
   "cell_type": "markdown",
   "id": "65a9a1ff",
   "metadata": {},
   "source": [
    "# Example 2"
   ]
  },
  {
   "cell_type": "code",
   "execution_count": 8,
   "id": "f5ca5fef",
   "metadata": {},
   "outputs": [],
   "source": [
    "def func():\n",
    "    pass"
   ]
  },
  {
   "cell_type": "code",
   "execution_count": 9,
   "id": "c747e1c2",
   "metadata": {},
   "outputs": [
    {
     "data": {
      "text/plain": [
       "{'__name__': '__main__',\n",
       " '__doc__': 'Automatically created module for IPython interactive environment',\n",
       " '__package__': None,\n",
       " '__loader__': None,\n",
       " '__spec__': None,\n",
       " '__builtin__': <module 'builtins' (built-in)>,\n",
       " '__builtins__': <module 'builtins' (built-in)>,\n",
       " '_ih': ['',\n",
       "  'globals()',\n",
       "  '# global scope\\na = 2',\n",
       "  'globals()',\n",
       "  'globals()[a]',\n",
       "  'globals()',\n",
       "  'globals',\n",
       "  'globals()[\"a\"]',\n",
       "  'def func():\\n    pass',\n",
       "  'globals()'],\n",
       " '_oh': {1: {...}, 3: {...}, 5: {...}, 6: <function globals()>, 7: 2},\n",
       " '_dh': [PosixPath('/home/sweeterror404/python/python_11/Python/12_Functions')],\n",
       " 'In': ['',\n",
       "  'globals()',\n",
       "  '# global scope\\na = 2',\n",
       "  'globals()',\n",
       "  'globals()[a]',\n",
       "  'globals()',\n",
       "  'globals',\n",
       "  'globals()[\"a\"]',\n",
       "  'def func():\\n    pass',\n",
       "  'globals()'],\n",
       " 'Out': {1: {...}, 3: {...}, 5: {...}, 6: <function globals()>, 7: 2},\n",
       " 'get_ipython': <bound method InteractiveShell.get_ipython of <ipykernel.zmqshell.ZMQInteractiveShell object at 0x7fb1e6b9ea10>>,\n",
       " 'exit': <IPython.core.autocall.ZMQExitAutocall at 0x7fb1e6bf64a0>,\n",
       " 'quit': <IPython.core.autocall.ZMQExitAutocall at 0x7fb1e6bf64a0>,\n",
       " '_': 2,\n",
       " '__': <function globals()>,\n",
       " '___': {...},\n",
       " '_i': 'def func():\\n    pass',\n",
       " '_ii': 'globals()[\"a\"]',\n",
       " '_iii': 'globals',\n",
       " '_i1': 'globals()',\n",
       " '_1': {...},\n",
       " '_i2': '# global scope\\na = 2',\n",
       " 'a': 2,\n",
       " '_i3': 'globals()',\n",
       " '_3': {...},\n",
       " '_i4': 'globals()[a]',\n",
       " '_i5': 'globals()',\n",
       " '_5': {...},\n",
       " '_i6': 'globals',\n",
       " '_6': <function globals()>,\n",
       " '_i7': 'globals()[\"a\"]',\n",
       " '_7': 2,\n",
       " '_i8': 'def func():\\n    pass',\n",
       " 'func': <function __main__.func()>,\n",
       " '_i9': 'globals()'}"
      ]
     },
     "execution_count": 9,
     "metadata": {},
     "output_type": "execute_result"
    }
   ],
   "source": [
    "globals()"
   ]
  },
  {
   "cell_type": "code",
   "execution_count": 12,
   "id": "0391f674",
   "metadata": {},
   "outputs": [
    {
     "data": {
      "text/plain": [
       "<function __main__.func()>"
      ]
     },
     "execution_count": 12,
     "metadata": {},
     "output_type": "execute_result"
    }
   ],
   "source": [
    "globals()[\"func\"]"
   ]
  },
  {
   "cell_type": "markdown",
   "id": "41c11e08",
   "metadata": {},
   "source": [
    "# locals() Function\n",
    "\n",
    "\n",
    "<h3 style=\"color:#4e2abd;\">Python also provides a corresponding built-in function called locals().<br><br> It’s similar to globals() but accesses objects in the local namespace instead:<br><br><br>\n",
    "Note ! nonlocal is a keyword and locals() is a built-in Function\n",
    "\n",
    "</h3>\n"
   ]
  },
  {
   "cell_type": "code",
   "execution_count": 29,
   "id": "621f68b7",
   "metadata": {},
   "outputs": [
    {
     "name": "stdout",
     "output_type": "stream",
     "text": [
      "{'name': 'Mubeen'}\n"
     ]
    }
   ],
   "source": [
    "# global scope\n",
    "def scope():\n",
    "    \n",
    "    # local scope\n",
    "    name = \"Mubeen\"\n",
    "    print(locals())\n",
    "    \n",
    "    # here name is a local scope so name are exist in locals \n",
    "\n",
    "scope()"
   ]
  },
  {
   "cell_type": "code",
   "execution_count": 30,
   "id": "ef15a64f",
   "metadata": {
    "scrolled": false
   },
   "outputs": [
    {
     "data": {
      "text/plain": [
       "{'__name__': '__main__',\n",
       " '__doc__': 'Automatically created module for IPython interactive environment',\n",
       " '__package__': None,\n",
       " '__loader__': None,\n",
       " '__spec__': None,\n",
       " '__builtin__': <module 'builtins' (built-in)>,\n",
       " '__builtins__': <module 'builtins' (built-in)>,\n",
       " '_ih': ['',\n",
       "  'globals()',\n",
       "  '# global scope\\na = 2',\n",
       "  'globals()',\n",
       "  'globals()[a]',\n",
       "  'globals()',\n",
       "  'globals',\n",
       "  'globals()[\"a\"]',\n",
       "  'def func():\\n    pass',\n",
       "  'globals()',\n",
       "  'globals()[\"func\"]',\n",
       "  'globals()[\"func\"]()',\n",
       "  'globals()[\"func\"]',\n",
       "  'globals()[\"_i3\"]',\n",
       "  'globals()[\"_i3\"]()',\n",
       "  'globals()[\"_i3\"]',\n",
       "  'globals()[\"_i5\"]',\n",
       "  'globals()[\"_5\"]',\n",
       "  '# global scope\\ndef scope():\\n    \\n    # local scope\\n    name = \"Mubeen\"\\n    \\n    # here name is a local scope so name are exist in locals ',\n",
       "  'globals()',\n",
       "  'globals().get(\"scope\")',\n",
       "  'globals().get(\"name\")',\n",
       "  'globals().get(\"name\",\"not found\")',\n",
       "  '# try with locals()\\n\\nlocals()',\n",
       "  'locals().get(\"name\")',\n",
       "  '# global scope\\ndef scope():\\n    \\n    # local scope\\n    name = \"Mubeen\"\\n    \\n    # here name is a local scope so name are exist in locals \\n\\nscope()',\n",
       "  'globals().get(\"name\",\"not found\")',\n",
       "  '# try with locals()\\n\\nlocals()',\n",
       "  'locals().get(\"name\")',\n",
       "  '# global scope\\ndef scope():\\n    \\n    # local scope\\n    name = \"Mubeen\"\\n    print(locals())\\n    \\n    # here name is a local scope so name are exist in locals \\n\\nscope()',\n",
       "  '# try locals in global scope\\n\\nlocals()'],\n",
       " '_oh': {1: {...},\n",
       "  3: {...},\n",
       "  5: {...},\n",
       "  6: <function globals()>,\n",
       "  7: 2,\n",
       "  9: {...},\n",
       "  10: <function __main__.func()>,\n",
       "  12: <function __main__.func()>,\n",
       "  13: 'globals()',\n",
       "  15: 'globals()',\n",
       "  16: 'globals()',\n",
       "  17: {...},\n",
       "  19: {...},\n",
       "  20: <function __main__.scope()>,\n",
       "  22: 'not found',\n",
       "  23: {...},\n",
       "  26: 'not found',\n",
       "  27: {...}},\n",
       " '_dh': [PosixPath('/home/sweeterror404/python/python_11/Python/12_Functions')],\n",
       " 'In': ['',\n",
       "  'globals()',\n",
       "  '# global scope\\na = 2',\n",
       "  'globals()',\n",
       "  'globals()[a]',\n",
       "  'globals()',\n",
       "  'globals',\n",
       "  'globals()[\"a\"]',\n",
       "  'def func():\\n    pass',\n",
       "  'globals()',\n",
       "  'globals()[\"func\"]',\n",
       "  'globals()[\"func\"]()',\n",
       "  'globals()[\"func\"]',\n",
       "  'globals()[\"_i3\"]',\n",
       "  'globals()[\"_i3\"]()',\n",
       "  'globals()[\"_i3\"]',\n",
       "  'globals()[\"_i5\"]',\n",
       "  'globals()[\"_5\"]',\n",
       "  '# global scope\\ndef scope():\\n    \\n    # local scope\\n    name = \"Mubeen\"\\n    \\n    # here name is a local scope so name are exist in locals ',\n",
       "  'globals()',\n",
       "  'globals().get(\"scope\")',\n",
       "  'globals().get(\"name\")',\n",
       "  'globals().get(\"name\",\"not found\")',\n",
       "  '# try with locals()\\n\\nlocals()',\n",
       "  'locals().get(\"name\")',\n",
       "  '# global scope\\ndef scope():\\n    \\n    # local scope\\n    name = \"Mubeen\"\\n    \\n    # here name is a local scope so name are exist in locals \\n\\nscope()',\n",
       "  'globals().get(\"name\",\"not found\")',\n",
       "  '# try with locals()\\n\\nlocals()',\n",
       "  'locals().get(\"name\")',\n",
       "  '# global scope\\ndef scope():\\n    \\n    # local scope\\n    name = \"Mubeen\"\\n    print(locals())\\n    \\n    # here name is a local scope so name are exist in locals \\n\\nscope()',\n",
       "  '# try locals in global scope\\n\\nlocals()'],\n",
       " 'Out': {1: {...},\n",
       "  3: {...},\n",
       "  5: {...},\n",
       "  6: <function globals()>,\n",
       "  7: 2,\n",
       "  9: {...},\n",
       "  10: <function __main__.func()>,\n",
       "  12: <function __main__.func()>,\n",
       "  13: 'globals()',\n",
       "  15: 'globals()',\n",
       "  16: 'globals()',\n",
       "  17: {...},\n",
       "  19: {...},\n",
       "  20: <function __main__.scope()>,\n",
       "  22: 'not found',\n",
       "  23: {...},\n",
       "  26: 'not found',\n",
       "  27: {...}},\n",
       " 'get_ipython': <bound method InteractiveShell.get_ipython of <ipykernel.zmqshell.ZMQInteractiveShell object at 0x7fb1e6b9ea10>>,\n",
       " 'exit': <IPython.core.autocall.ZMQExitAutocall at 0x7fb1e6bf64a0>,\n",
       " 'quit': <IPython.core.autocall.ZMQExitAutocall at 0x7fb1e6bf64a0>,\n",
       " '_': {...},\n",
       " '__': 'not found',\n",
       " '___': {...},\n",
       " '_i': '# global scope\\ndef scope():\\n    \\n    # local scope\\n    name = \"Mubeen\"\\n    print(locals())\\n    \\n    # here name is a local scope so name are exist in locals \\n\\nscope()',\n",
       " '_ii': 'locals().get(\"name\")',\n",
       " '_iii': '# try with locals()\\n\\nlocals()',\n",
       " '_i1': 'globals()',\n",
       " '_1': {...},\n",
       " '_i2': '# global scope\\na = 2',\n",
       " 'a': 2,\n",
       " '_i3': 'globals()',\n",
       " '_3': {...},\n",
       " '_i4': 'globals()[a]',\n",
       " '_i5': 'globals()',\n",
       " '_5': {...},\n",
       " '_i6': 'globals',\n",
       " '_6': <function globals()>,\n",
       " '_i7': 'globals()[\"a\"]',\n",
       " '_7': 2,\n",
       " '_i8': 'def func():\\n    pass',\n",
       " 'func': <function __main__.func()>,\n",
       " '_i9': 'globals()',\n",
       " '_9': {...},\n",
       " '_i10': 'globals()[\"func\"]',\n",
       " '_10': <function __main__.func()>,\n",
       " '_i11': 'globals()[\"func\"]()',\n",
       " '_i12': 'globals()[\"func\"]',\n",
       " '_12': <function __main__.func()>,\n",
       " '_i13': 'globals()[\"_i3\"]',\n",
       " '_13': 'globals()',\n",
       " '_i14': 'globals()[\"_i3\"]()',\n",
       " '_i15': 'globals()[\"_i3\"]',\n",
       " '_15': 'globals()',\n",
       " '_i16': 'globals()[\"_i5\"]',\n",
       " '_16': 'globals()',\n",
       " '_i17': 'globals()[\"_5\"]',\n",
       " '_17': {...},\n",
       " '_i18': '# global scope\\ndef scope():\\n    \\n    # local scope\\n    name = \"Mubeen\"\\n    \\n    # here name is a local scope so name are exist in locals ',\n",
       " 'scope': <function __main__.scope()>,\n",
       " '_i19': 'globals()',\n",
       " '_19': {...},\n",
       " '_i20': 'globals().get(\"scope\")',\n",
       " '_20': <function __main__.scope()>,\n",
       " '_i21': 'globals().get(\"name\")',\n",
       " '_i22': 'globals().get(\"name\",\"not found\")',\n",
       " '_22': 'not found',\n",
       " '_i23': '# try with locals()\\n\\nlocals()',\n",
       " '_23': {...},\n",
       " '_i24': 'locals().get(\"name\")',\n",
       " '_i25': '# global scope\\ndef scope():\\n    \\n    # local scope\\n    name = \"Mubeen\"\\n    \\n    # here name is a local scope so name are exist in locals \\n\\nscope()',\n",
       " '_i26': 'globals().get(\"name\",\"not found\")',\n",
       " '_26': 'not found',\n",
       " '_i27': '# try with locals()\\n\\nlocals()',\n",
       " '_27': {...},\n",
       " '_i28': 'locals().get(\"name\")',\n",
       " '_i29': '# global scope\\ndef scope():\\n    \\n    # local scope\\n    name = \"Mubeen\"\\n    print(locals())\\n    \\n    # here name is a local scope so name are exist in locals \\n\\nscope()',\n",
       " '_i30': '# try locals in global scope\\n\\nlocals()'}"
      ]
     },
     "execution_count": 30,
     "metadata": {},
     "output_type": "execute_result"
    }
   ],
   "source": [
    "# try locals in global scope\n",
    "\n",
    "locals()"
   ]
  },
  {
   "cell_type": "code",
   "execution_count": 31,
   "id": "c3d654fb",
   "metadata": {},
   "outputs": [
    {
     "data": {
      "text/plain": [
       "'not found'"
      ]
     },
     "execution_count": 31,
     "metadata": {},
     "output_type": "execute_result"
    }
   ],
   "source": [
    "locals().get(\"name\",\"not found\")"
   ]
  },
  {
   "cell_type": "markdown",
   "id": "ebdb2c1e",
   "metadata": {},
   "source": [
    "### locals namespace are only exits in local scope"
   ]
  },
  {
   "cell_type": "markdown",
   "id": "e64a5e49",
   "metadata": {},
   "source": [
    "## but we can return locals() scope namespaces"
   ]
  },
  {
   "cell_type": "code",
   "execution_count": 34,
   "id": "e0e9d648",
   "metadata": {},
   "outputs": [],
   "source": [
    "def check():\n",
    "    var = 12\n",
    "    var2 = 23\n",
    "    return locals()"
   ]
  },
  {
   "cell_type": "code",
   "execution_count": 35,
   "id": "438e13f1",
   "metadata": {},
   "outputs": [
    {
     "data": {
      "text/plain": [
       "{'var': 12, 'var2': 23}"
      ]
     },
     "execution_count": 35,
     "metadata": {},
     "output_type": "execute_result"
    }
   ],
   "source": [
    "check()"
   ]
  }
 ],
 "metadata": {
  "kernelspec": {
   "display_name": "Python 3 (ipykernel)",
   "language": "python",
   "name": "python3"
  },
  "language_info": {
   "codemirror_mode": {
    "name": "ipython",
    "version": 3
   },
   "file_extension": ".py",
   "mimetype": "text/x-python",
   "name": "python",
   "nbconvert_exporter": "python",
   "pygments_lexer": "ipython3",
   "version": "3.10.6"
  }
 },
 "nbformat": 4,
 "nbformat_minor": 5
}

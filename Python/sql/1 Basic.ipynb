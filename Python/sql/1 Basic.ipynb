{
 "cells": [
  {
   "cell_type": "markdown",
   "id": "f0cd12c6-a7ba-4f06-bf3e-877f3ee7593c",
   "metadata": {
    "canvas": {
     "comments": [],
     "componentType": "CodeCell",
     "copiedOriginId": null,
     "diskcache": false,
     "headerColor": "transparent",
     "id": "284f6301-2c4e-4699-b3b8-08643a9da9f0",
     "isComponent": false,
     "name": "",
     "parents": []
    }
   },
   "source": [
    "# First mysql.connector"
   ]
  },
  {
   "cell_type": "code",
   "execution_count": 22,
   "id": "071e5f4c-21b9-4ad6-a6e3-f4af2b068073",
   "metadata": {
    "canvas": {
     "comments": [],
     "componentType": "CodeCell",
     "copiedOriginId": null,
     "diskcache": false,
     "headerColor": "transparent",
     "id": "14f9e88b-05ea-4b17-a589-65d7f9f7ec05",
     "isComponent": false,
     "name": "",
     "parents": []
    },
    "tags": []
   },
   "outputs": [],
   "source": [
    "import mysql.connector"
   ]
  },
  {
   "cell_type": "markdown",
   "id": "49a82621-62a6-4401-ba63-34c4e713ad0c",
   "metadata": {
    "canvas": {
     "comments": [],
     "componentType": "CodeCell",
     "copiedOriginId": null,
     "diskcache": false,
     "headerColor": "transparent",
     "id": "d1195cfb-388b-42f4-9997-982faed85973",
     "isComponent": false,
     "name": "",
     "parents": []
    }
   },
   "source": [
    "# Authentication"
   ]
  },
  {
   "cell_type": "code",
   "execution_count": 147,
   "id": "b3ce41bf-7df5-4295-b08f-126bba1bd203",
   "metadata": {
    "canvas": {
     "comments": [],
     "componentType": "CodeCell",
     "copiedOriginId": null,
     "diskcache": false,
     "headerColor": "transparent",
     "id": "1cf9b92b-9f5c-4fca-8216-a6358bdf4bfe",
     "isComponent": false,
     "name": "",
     "parents": []
    }
   },
   "outputs": [],
   "source": [
    "db = mysql.connector.connect(\n",
    "    \n",
    "    host=\"localhost\",\n",
    "    user=\"root\",\n",
    "    password=\"\",\n",
    "\n",
    ")"
   ]
  },
  {
   "cell_type": "markdown",
   "id": "d3f98b8b-204e-46bb-86e0-baa61e173ae7",
   "metadata": {
    "canvas": {
     "comments": [],
     "componentType": "CodeCell",
     "copiedOriginId": null,
     "diskcache": false,
     "headerColor": "transparent",
     "id": "eb8f22e4-6bfb-4aa0-a96f-69351df2a116",
     "isComponent": false,
     "name": "",
     "parents": []
    }
   },
   "source": [
    "# Connect DB"
   ]
  },
  {
   "cell_type": "code",
   "execution_count": 140,
   "id": "587acd58-457f-4c60-8351-b8561bac776a",
   "metadata": {
    "canvas": {
     "comments": [],
     "componentType": "CodeCell",
     "copiedOriginId": null,
     "diskcache": false,
     "headerColor": "transparent",
     "id": "0ac1632b-e5b1-469f-8a43-31f65f6d62e5",
     "isComponent": false,
     "name": "",
     "parents": []
    }
   },
   "outputs": [],
   "source": [
    "db.connect()"
   ]
  },
  {
   "cell_type": "markdown",
   "id": "06f5e1b4-bb2d-4884-8c18-0d676d66a430",
   "metadata": {
    "canvas": {
     "comments": [],
     "componentType": "CodeCell",
     "copiedOriginId": null,
     "diskcache": false,
     "headerColor": "transparent",
     "id": "668609ba-0da6-476b-b390-19e6e50af68e",
     "isComponent": false,
     "name": "",
     "parents": []
    }
   },
   "source": [
    "# Pointer"
   ]
  },
  {
   "cell_type": "markdown",
   "id": "5652fc3f-41f4-4518-8840-57d8ade56173",
   "metadata": {
    "canvas": {
     "comments": [],
     "componentType": "CodeCell",
     "copiedOriginId": null,
     "diskcache": false,
     "headerColor": "transparent",
     "id": "658a43ed-2fd5-4cd7-9533-be918f7be6f9",
     "isComponent": false,
     "name": "",
     "parents": []
    }
   },
   "source": [
    "### In Python, when working with databases using modules like mysql.connector, \n",
    "\n",
    "- ### A cursor is an object that allows you to interact with the database by sending SQL queries and fetching results.\n",
    "<br>\n",
    "\n",
    "- ### The cursor acts as a pointer to a specific location within your result set."
   ]
  },
  {
   "cell_type": "markdown",
   "id": "d3648096-d474-4edb-a612-6ba080ced029",
   "metadata": {
    "canvas": {
     "comments": [],
     "componentType": "CodeCell",
     "copiedOriginId": null,
     "diskcache": false,
     "headerColor": "transparent",
     "id": "a9364d53-c191-4a64-8420-eaac4b128424",
     "isComponent": false,
     "name": "",
     "parents": []
    }
   },
   "source": [
    "## Create cursor"
   ]
  },
  {
   "cell_type": "code",
   "execution_count": 141,
   "id": "b09a4b7b-0918-4dce-8a93-3ef4a82fb7b4",
   "metadata": {
    "canvas": {
     "comments": [],
     "componentType": "CodeCell",
     "copiedOriginId": null,
     "diskcache": false,
     "headerColor": "transparent",
     "id": "46e4da25-7e38-4caf-b5f0-4c46068bbef0",
     "isComponent": false,
     "name": "",
     "parents": []
    }
   },
   "outputs": [],
   "source": [
    "cursor = db.cursor()"
   ]
  },
  {
   "cell_type": "markdown",
   "id": "00d20d0c-b77b-47df-8e9b-8f179f956657",
   "metadata": {
    "canvas": {
     "comments": [],
     "componentType": "CodeCell",
     "copiedOriginId": null,
     "diskcache": false,
     "headerColor": "transparent",
     "id": "571c1fef-c07d-4c38-bf37-ca14e44c7998",
     "isComponent": false,
     "name": "",
     "parents": []
    }
   },
   "source": [
    "# Now execue query"
   ]
  },
  {
   "cell_type": "markdown",
   "id": "64bf4c54-687f-4bad-b0cb-41e2044a3da6",
   "metadata": {
    "canvas": {
     "comments": [],
     "componentType": "CodeCell",
     "copiedOriginId": null,
     "diskcache": false,
     "headerColor": "transparent",
     "id": "4764cd84-b5e2-4f3a-a5cb-8b9326160702",
     "isComponent": false,
     "name": "",
     "parents": []
    },
    "tags": []
   },
   "source": [
    "### SHOW DATABASES COMMAND"
   ]
  },
  {
   "cell_type": "code",
   "execution_count": 26,
   "id": "08b8b897-f5c6-44ba-9609-56a698a98b11",
   "metadata": {
    "canvas": {
     "comments": [],
     "componentType": "CodeCell",
     "copiedOriginId": null,
     "diskcache": false,
     "headerColor": "transparent",
     "id": "3e92e682-4cfa-4c31-b326-65e01df9090d",
     "isComponent": false,
     "name": "",
     "parents": []
    }
   },
   "outputs": [
    {
     "name": "stdout",
     "output_type": "stream",
     "text": [
      "('campusx',)\n",
      "('information_schema',)\n",
      "('mydatabase',)\n",
      "('mysql',)\n",
      "('performance_schema',)\n",
      "('phpmyadmin',)\n",
      "('test',)\n",
      "('wasa',)\n"
     ]
    }
   ],
   "source": [
    "cursor.execute(\"SHOW DATABASES\")\n",
    "\n",
    "for databases in cursor:\n",
    "    print(databases)\n",
    "\n"
   ]
  },
  {
   "cell_type": "markdown",
   "id": "e929841b-1e1e-4442-8142-b63c1971add1",
   "metadata": {
    "canvas": {
     "comments": [],
     "componentType": "CodeCell",
     "copiedOriginId": null,
     "diskcache": false,
     "headerColor": "transparent",
     "id": "b7dfed41-feb6-412c-9234-f509af8e7bad",
     "isComponent": false,
     "name": "",
     "parents": []
    }
   },
   "source": [
    "## Close Pointer"
   ]
  },
  {
   "cell_type": "code",
   "execution_count": 27,
   "id": "8a806279-9e08-46f7-975a-b1cc3e9ce2e8",
   "metadata": {
    "canvas": {
     "comments": [],
     "componentType": "CodeCell",
     "copiedOriginId": null,
     "diskcache": false,
     "headerColor": "transparent",
     "id": "1a17a8ff-2942-4972-8dfa-3b9c424b2d74",
     "isComponent": false,
     "name": "",
     "parents": []
    }
   },
   "outputs": [
    {
     "data": {
      "text/plain": [
       "True"
      ]
     },
     "execution_count": 27,
     "metadata": {},
     "output_type": "execute_result"
    }
   ],
   "source": [
    "cursor.close()"
   ]
  },
  {
   "cell_type": "markdown",
   "id": "8b1d9438-e5e4-41ef-9581-7110a5bbf41f",
   "metadata": {
    "canvas": {
     "comments": [],
     "componentType": "CodeCell",
     "copiedOriginId": null,
     "diskcache": false,
     "headerColor": "transparent",
     "id": "92681cbe-115e-440e-b061-de2b26997869",
     "isComponent": false,
     "name": "",
     "parents": []
    }
   },
   "source": [
    "# Close Data Base"
   ]
  },
  {
   "cell_type": "code",
   "execution_count": 28,
   "id": "bec909b0-6d25-4cbd-abec-28a3861389a4",
   "metadata": {
    "canvas": {
     "comments": [],
     "componentType": "CodeCell",
     "copiedOriginId": null,
     "diskcache": false,
     "headerColor": "transparent",
     "id": "0704c018-caa7-45d3-bdad-cbb40d08a530",
     "isComponent": false,
     "name": "",
     "parents": []
    }
   },
   "outputs": [],
   "source": [
    "db.close()"
   ]
  },
  {
   "cell_type": "markdown",
   "id": "58746fa3-410e-4ef2-9eb8-ff5082399d5b",
   "metadata": {
    "canvas": {
     "comments": [],
     "componentType": "CodeCell",
     "copiedOriginId": null,
     "diskcache": false,
     "headerColor": "transparent",
     "id": "b6c4ade6-f97e-4d43-a23d-0a211b41a6cc",
     "isComponent": false,
     "name": "",
     "parents": []
    }
   },
   "source": [
    "# Create New DataBase"
   ]
  },
  {
   "cell_type": "code",
   "execution_count": 247,
   "id": "cd36cbae-b6e7-4eb6-bfd1-27ac93ef856a",
   "metadata": {
    "canvas": {
     "comments": [],
     "componentType": "CodeCell",
     "copiedOriginId": null,
     "diskcache": false,
     "headerColor": "transparent",
     "id": "112a4ce4-8496-4f67-9b56-582f617afbd0",
     "isComponent": false,
     "name": "",
     "parents": []
    }
   },
   "outputs": [],
   "source": [
    "db = mysql.connector.connect(host=\"localhost\",user=\"root\",password=\"\")\n",
    "db.connect()\n",
    "cursor = db.cursor()\n",
    "\n",
    "cursor.execute(\"CREATE DATABASE testing\")"
   ]
  },
  {
   "cell_type": "markdown",
   "id": "9ff7099a-dc2f-477e-835c-2e396d1f2a7a",
   "metadata": {
    "canvas": {
     "comments": [],
     "componentType": "CodeCell",
     "copiedOriginId": null,
     "diskcache": false,
     "headerColor": "transparent",
     "id": "0cd87ee2-d8e8-4674-8a22-32e28d73c3e2",
     "isComponent": false,
     "name": "",
     "parents": []
    }
   },
   "source": [
    "# Show DATABASE"
   ]
  },
  {
   "cell_type": "code",
   "execution_count": 237,
   "id": "a119c6b3-69b2-4654-b76a-828541bfa1c1",
   "metadata": {
    "canvas": {
     "comments": [],
     "componentType": "CodeCell",
     "copiedOriginId": null,
     "diskcache": false,
     "headerColor": "transparent",
     "id": "8ff86e23-dcb0-468c-b587-63a359d9a81c",
     "isComponent": false,
     "name": "",
     "parents": []
    }
   },
   "outputs": [
    {
     "name": "stdout",
     "output_type": "stream",
     "text": [
      "('campusx',)\n",
      "('information_schema',)\n",
      "('mydatabase',)\n",
      "('mysql',)\n",
      "('performance_schema',)\n",
      "('phpmyadmin',)\n",
      "('test',)\n",
      "('testing',)\n",
      "('wasa',)\n"
     ]
    }
   ],
   "source": [
    "cursor.execute(\"SHOW DATABASES\")\n",
    "\n",
    "for i in cursor:\n",
    "    print(i)"
   ]
  },
  {
   "cell_type": "markdown",
   "id": "a1293954-2232-4e41-8dbf-dd7b768b7052",
   "metadata": {
    "canvas": {
     "comments": [],
     "componentType": "CodeCell",
     "copiedOriginId": null,
     "diskcache": false,
     "headerColor": "transparent",
     "id": "32a5e229-71af-442f-9397-8142a5a7cb8b",
     "isComponent": false,
     "name": "",
     "parents": []
    }
   },
   "source": [
    "# Select Data Base"
   ]
  },
  {
   "cell_type": "code",
   "execution_count": 248,
   "id": "0faf0477-cc3a-497d-90ba-db71be1fc027",
   "metadata": {
    "canvas": {
     "comments": [],
     "componentType": "CodeCell",
     "copiedOriginId": null,
     "diskcache": false,
     "headerColor": "transparent",
     "id": "589bc20c-2399-4035-92bd-ffb87f47bae8",
     "isComponent": false,
     "name": "",
     "parents": []
    }
   },
   "outputs": [],
   "source": [
    "cursor.execute(\"USE testing\")"
   ]
  },
  {
   "cell_type": "markdown",
   "id": "c286ee7c-0d65-4208-b45a-d8ecda94f941",
   "metadata": {
    "canvas": {
     "comments": [],
     "componentType": "CodeCell",
     "copiedOriginId": null,
     "diskcache": false,
     "headerColor": "transparent",
     "id": "0018e2ea-da7a-453a-b52b-99de44565a80",
     "isComponent": false,
     "name": "",
     "parents": []
    }
   },
   "source": [
    "# Create Table"
   ]
  },
  {
   "cell_type": "code",
   "execution_count": 242,
   "id": "6c9a7e9c-5d50-43c8-bc01-4c275c934859",
   "metadata": {
    "canvas": {
     "comments": [],
     "componentType": "CodeCell",
     "copiedOriginId": null,
     "diskcache": false,
     "headerColor": "transparent",
     "id": "15024c2a-4c52-4ca2-9d3f-90de73499c84",
     "isComponent": false,
     "name": "",
     "parents": []
    }
   },
   "outputs": [],
   "source": [
    "query = \"\"\"\n",
    "CREATE TABLE users(\n",
    "email VARCHAR(255) PRIMARY KEY UNIQUE,\n",
    "name VARCHAR(255) NOT NULL)\n",
    "\"\"\"\n",
    "\n",
    "cursor.execute(query)"
   ]
  },
  {
   "cell_type": "markdown",
   "id": "cbba8216-3c04-4863-8f45-028053cccf31",
   "metadata": {
    "canvas": {
     "comments": [],
     "componentType": "CodeCell",
     "copiedOriginId": null,
     "diskcache": false,
     "headerColor": "transparent",
     "id": "1d8ee48e-c737-47b8-8f73-9604fbf8f458",
     "isComponent": false,
     "name": "",
     "parents": []
    }
   },
   "source": [
    "# NOW commit the changes"
   ]
  },
  {
   "cell_type": "code",
   "execution_count": 243,
   "id": "866dd592-c3ee-4b43-b845-a4dd21507341",
   "metadata": {
    "canvas": {
     "comments": [],
     "componentType": "CodeCell",
     "copiedOriginId": null,
     "diskcache": false,
     "headerColor": "transparent",
     "id": "516bf10c-a9bf-4612-b966-525893e16e0a",
     "isComponent": false,
     "name": "",
     "parents": []
    }
   },
   "outputs": [],
   "source": [
    "db.commit()"
   ]
  },
  {
   "cell_type": "markdown",
   "id": "48ab5826-4277-4dc6-877a-d6073b6c88dd",
   "metadata": {
    "canvas": {
     "comments": [],
     "componentType": "CodeCell",
     "copiedOriginId": null,
     "diskcache": false,
     "headerColor": "transparent",
     "id": "ac5ca7b2-c9ee-40ec-b14b-090f72328aa2",
     "isComponent": false,
     "name": "",
     "parents": []
    }
   },
   "source": [
    "# Show Tables"
   ]
  },
  {
   "cell_type": "code",
   "execution_count": 274,
   "id": "1ea23f36-06bc-4d0f-a0a9-c16519bf1751",
   "metadata": {
    "canvas": {
     "comments": [],
     "componentType": "CodeCell",
     "copiedOriginId": null,
     "diskcache": false,
     "headerColor": "transparent",
     "id": "e0964576-cc79-4461-882b-f9f7ec029fce",
     "isComponent": false,
     "name": "",
     "parents": []
    }
   },
   "outputs": [
    {
     "name": "stdout",
     "output_type": "stream",
     "text": [
      "[('users',)]\n"
     ]
    }
   ],
   "source": [
    "query = \"SHOW TABLES\"\n",
    "cursor.execute(query)\n",
    "\n",
    "print(cursor.fetchall())"
   ]
  },
  {
   "cell_type": "markdown",
   "id": "f009dce6-39bf-4712-b4a0-11586284a727",
   "metadata": {
    "canvas": {
     "comments": [],
     "componentType": "CodeCell",
     "copiedOriginId": null,
     "diskcache": false,
     "headerColor": "transparent",
     "id": "c180cbb7-f5ea-477a-bb39-afb68bb8615e",
     "isComponent": false,
     "name": "",
     "parents": []
    }
   },
   "source": [
    "# NOW fill the values "
   ]
  },
  {
   "cell_type": "code",
   "execution_count": 277,
   "id": "e78039d2-2d5d-4c53-a0df-c7a0fcffb0a1",
   "metadata": {
    "canvas": {
     "comments": [],
     "componentType": "CodeCell",
     "copiedOriginId": null,
     "diskcache": false,
     "headerColor": "transparent",
     "id": "215b61ae-c5d9-45e5-96a1-3ac03f5ff10a",
     "isComponent": false,
     "name": "",
     "parents": []
    }
   },
   "outputs": [],
   "source": [
    "query = \"\"\"\n",
    "\n",
    "INSERT testing.users (email,name)\n",
    "\n",
    "VALUES ('mubeenxyz@gmail.com','Mubeen')\n",
    "            \n",
    "\"\"\"\n",
    "\n",
    "cursor.execute(query)\n",
    "\n",
    "db.commit()"
   ]
  },
  {
   "cell_type": "markdown",
   "id": "bd73e5ea-db8f-4bf3-b787-d9913e15833b",
   "metadata": {
    "canvas": {
     "comments": [],
     "componentType": "CodeCell",
     "copiedOriginId": null,
     "diskcache": false,
     "headerColor": "transparent",
     "id": "12dab683-2d92-451b-9cce-92b60d832859",
     "isComponent": false,
     "name": "",
     "parents": []
    }
   },
   "source": [
    "# Show Columns Values"
   ]
  },
  {
   "cell_type": "markdown",
   "id": "fa3ea46a-86a0-4a10-b54f-ba2b17d464e0",
   "metadata": {
    "canvas": {
     "comments": [],
     "componentType": "CodeCell",
     "copiedOriginId": null,
     "diskcache": false,
     "headerColor": "transparent",
     "id": "f6249b42-5ff4-44ba-b834-0eee64940bce",
     "isComponent": false,
     "name": "",
     "parents": []
    }
   },
   "source": [
    "\n",
    "# fetch.all()"
   ]
  },
  {
   "cell_type": "code",
   "execution_count": 280,
   "id": "9611256e-eba6-45ff-9dd8-e8991faeb0d6",
   "metadata": {
    "canvas": {
     "comments": [],
     "componentType": "CodeCell",
     "copiedOriginId": null,
     "diskcache": false,
     "headerColor": "transparent",
     "id": "440dc9c0-519e-44f0-bb03-a8c63ae85795",
     "isComponent": false,
     "name": "",
     "parents": []
    }
   },
   "outputs": [
    {
     "data": {
      "text/plain": [
       "[('mubeenxyz@gmail.com', 'Mubeen')]"
      ]
     },
     "execution_count": 280,
     "metadata": {},
     "output_type": "execute_result"
    }
   ],
   "source": [
    "query = \"SELECT * FROM users\"\n",
    "cursor.execute(query)\n",
    "\n",
    "cursor.fetchall()"
   ]
  }
 ],
 "metadata": {
  "canvas": {
   "colorPalette": [
    "inherit",
    "inherit",
    "inherit",
    "inherit",
    "inherit",
    "inherit",
    "inherit",
    "inherit",
    "inherit",
    "inherit"
   ],
   "parameters": [],
   "version": "1.0"
  },
  "kernelspec": {
   "display_name": "Python 3 (ipykernel)",
   "language": "python",
   "name": "python3"
  },
  "language_info": {
   "codemirror_mode": {
    "name": "ipython",
    "version": 3
   },
   "file_extension": ".py",
   "mimetype": "text/x-python",
   "name": "python",
   "nbconvert_exporter": "python",
   "pygments_lexer": "ipython3",
   "version": "3.10.12"
  }
 },
 "nbformat": 4,
 "nbformat_minor": 5
}

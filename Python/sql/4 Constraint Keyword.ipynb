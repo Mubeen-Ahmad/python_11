{
 "cells": [
  {
   "cell_type": "markdown",
   "id": "98aeae7b-b024-48e0-a0a8-1af1c13cbfbd",
   "metadata": {
    "canvas": {
     "comments": [],
     "componentType": "CodeCell",
     "copiedOriginId": null,
     "diskcache": false,
     "headerColor": "transparent",
     "id": "077f3f4d-dd4b-4e16-9edd-d5a7ec5e9c13",
     "isComponent": false,
     "name": "",
     "parents": []
    },
    "tags": []
   },
   "source": [
    "<br>\n",
    "\n",
    "- ## CONSTRAINT KEYWORD\n",
    "<br>\n",
    "\n",
    "- ## Create a Relation with two Tables\n",
    "    - ## PRIMARY KEY \n",
    "    - ## FORIGEN KEY\n",
    "    - ## REFFERENCE\n",
    "   \n",
    "    \n",
    "<hr>\n",
    "<br>\n",
    "\n",
    "- ## Referential Actions\n",
    "    - ## Restrict\n",
    "    - ## CASCADE\n",
    "    - ## SET NULL"
   ]
  },
  {
   "cell_type": "markdown",
   "id": "0cfce8af-2fde-4f13-aa97-daffa463e15f",
   "metadata": {
    "canvas": {
     "comments": [],
     "componentType": "CodeCell",
     "copiedOriginId": null,
     "diskcache": false,
     "headerColor": "transparent",
     "id": "36a4824e-df91-4d35-939b-ecc65577946c",
     "isComponent": false,
     "name": "",
     "parents": []
    }
   },
   "source": [
    "<br><br>\n",
    "\n",
    "<h3><p style=\" word-wrap: warp; text-align:left;\">The CONSTRAINT keyword in SQL is used to give a name to a constraint.<br><br>It is often used in conjunction with other keywords like PRIMARY KEY, FOREIGN KEY, UNIQUE, and CHECK.<br>When you define a constraint, you can optionally provide a name for that constraint.</p></h3>\n"
   ]
  },
  {
   "cell_type": "code",
   "execution_count": 19,
   "id": "b8a95107-204b-4145-bdea-c415e3182a70",
   "metadata": {
    "canvas": {
     "comments": [],
     "componentType": "CodeCell",
     "copiedOriginId": null,
     "diskcache": false,
     "headerColor": "transparent",
     "id": "5887c971-a8cc-411e-a597-105a2e21be3c",
     "isComponent": false,
     "name": "",
     "parents": []
    }
   },
   "outputs": [],
   "source": [
    "import mysql.connector\n",
    "\n",
    "db = mysql.connector.connect(host=\"localhost\",user=\"root\",password=\"\",database=\"DDL\")\n",
    "\n"
   ]
  },
  {
   "cell_type": "code",
   "execution_count": 20,
   "id": "802dc7f1-8e0b-4719-8e40-a2b5b34e1841",
   "metadata": {
    "canvas": {
     "comments": [],
     "componentType": "CodeCell",
     "copiedOriginId": null,
     "diskcache": false,
     "headerColor": "transparent",
     "id": "0c9a06d1-d070-48b6-81a9-b31503cf687c",
     "isComponent": false,
     "name": "",
     "parents": []
    }
   },
   "outputs": [],
   "source": [
    "db.connect()"
   ]
  },
  {
   "cell_type": "code",
   "execution_count": 21,
   "id": "3d55f229-2fb3-4f91-9d96-8ad5296b1710",
   "metadata": {
    "canvas": {
     "comments": [],
     "componentType": "CodeCell",
     "copiedOriginId": null,
     "diskcache": false,
     "headerColor": "transparent",
     "id": "71ba6929-fcf7-4352-bab5-5cfcb7998268",
     "isComponent": false,
     "name": "",
     "parents": []
    }
   },
   "outputs": [],
   "source": [
    "cursor = db.cursor()\n",
    "cursor.execute(\"CREATE DATABASE IF NOT EXISTS DDL\")"
   ]
  },
  {
   "cell_type": "code",
   "execution_count": 22,
   "id": "7e9be480-9780-4743-8f02-956d2eab6cd6",
   "metadata": {
    "canvas": {
     "comments": [],
     "componentType": "CodeCell",
     "copiedOriginId": null,
     "diskcache": false,
     "headerColor": "transparent",
     "id": "7d0ae9e3-83a0-43c2-9a30-050ce2901a54",
     "isComponent": false,
     "name": "",
     "parents": []
    }
   },
   "outputs": [],
   "source": [
    "query = \"\"\"\n",
    "    CREATE TABLE users(\n",
    "    \n",
    "        username VARCHAR(255),\n",
    "        user_id INTEGER NOT NULL,\n",
    "        \n",
    "        CONSTRAINT alias UNIQUE (username)\n",
    "    )\n",
    "\"\"\"\n",
    "\n",
    "cursor.execute(query)\n",
    "db.commit()"
   ]
  },
  {
   "cell_type": "markdown",
   "id": "cdc89a82-e90b-4812-afb0-9aa2508c0f05",
   "metadata": {
    "canvas": {
     "comments": [],
     "componentType": "CodeCell",
     "copiedOriginId": null,
     "diskcache": false,
     "headerColor": "transparent",
     "id": "0e7c45fd-4686-498c-95d2-9201d3bcb304",
     "isComponent": false,
     "name": "",
     "parents": []
    }
   },
   "source": [
    "## Here i use CONSTRAINT  for alias and set alias to UNIQUE than add username"
   ]
  },
  {
   "cell_type": "code",
   "execution_count": 24,
   "id": "cc8d5040-597d-4a99-9656-961b91ade851",
   "metadata": {
    "canvas": {
     "comments": [],
     "componentType": "CodeCell",
     "copiedOriginId": null,
     "diskcache": false,
     "headerColor": "transparent",
     "id": "09230e3a-4d47-4294-97da-354633837394",
     "isComponent": false,
     "name": "",
     "parents": []
    }
   },
   "outputs": [],
   "source": [
    "# insert value\n",
    "query = \"\"\"\n",
    "    \n",
    "    INSERT INTO DDL.users (username,user_id)\n",
    "    VALUES ('Mubeen',12345)    \n",
    "\"\"\"\n",
    "\n",
    "cursor.execute(query)\n",
    "db.commit()"
   ]
  },
  {
   "cell_type": "code",
   "execution_count": 25,
   "id": "842ae632-15af-484b-8dc7-bd5e9a92061e",
   "metadata": {
    "canvas": {
     "comments": [],
     "componentType": "CodeCell",
     "copiedOriginId": null,
     "diskcache": false,
     "headerColor": "transparent",
     "id": "655536c3-82d6-4362-9d1b-81c28f32ed0c",
     "isComponent": false,
     "name": "",
     "parents": []
    }
   },
   "outputs": [],
   "source": [
    "# create function\n",
    "\n",
    "def remove_table(tablename,db):\n",
    "    cursor.execute(f\"USE {db}\")\n",
    "    cursor.execute(f\"DROP TABLE {tablename}\")\n",
    "\n",
    "def show_tables_values(tablename,db):\n",
    "    cursor.execute(f\"USE {db}\")\n",
    "    cursor.execute(f\"SELECT * FROM {tablename}\")\n",
    "    for i in cursor:\n",
    "        print(i)"
   ]
  },
  {
   "cell_type": "code",
   "execution_count": 26,
   "id": "82851be7-a9e8-4ddc-addc-8c36d9407486",
   "metadata": {
    "canvas": {
     "comments": [],
     "componentType": "CodeCell",
     "copiedOriginId": null,
     "diskcache": false,
     "headerColor": "transparent",
     "id": "03df4403-2e4a-4b5c-923f-8ab25b02a248",
     "isComponent": false,
     "name": "",
     "parents": []
    }
   },
   "outputs": [
    {
     "name": "stdout",
     "output_type": "stream",
     "text": [
      "('Mubeen', 12345)\n"
     ]
    }
   ],
   "source": [
    "show_tables_values('users','DDL')"
   ]
  },
  {
   "cell_type": "code",
   "execution_count": 28,
   "id": "d6314aed-42f8-49fa-980b-d814ae584976",
   "metadata": {
    "canvas": {
     "comments": [],
     "componentType": "CodeCell",
     "copiedOriginId": null,
     "diskcache": false,
     "headerColor": "transparent",
     "id": "727043f7-5e99-4b95-a959-373f7fb1de3b",
     "isComponent": false,
     "name": "",
     "parents": []
    }
   },
   "outputs": [
    {
     "name": "stdout",
     "output_type": "stream",
     "text": [
      "1146 (42S02): Table 'DLL.users' doesn't exist\n"
     ]
    }
   ],
   "source": [
    "# now trying to add same value\n",
    "\n",
    "query = \"\"\"\n",
    "    \n",
    "    INSERT INTO DLL.users (username,user_id)\n",
    "    VALUES ('Mubeen',555)    \n",
    "\"\"\"\n",
    "try:\n",
    "    cursor.execute(query)\n",
    "\n",
    "except Exception as e:\n",
    "    print(e)\n",
    "    \n",
    "db.commit()"
   ]
  },
  {
   "cell_type": "code",
   "execution_count": 29,
   "id": "14154573-b55e-44d3-b4ff-9fd90b93e25c",
   "metadata": {
    "canvas": {
     "comments": [],
     "componentType": "CodeCell",
     "copiedOriginId": null,
     "diskcache": false,
     "headerColor": "transparent",
     "id": "81eff975-2c87-4ab0-929e-cb026b2de30c",
     "isComponent": false,
     "name": "",
     "parents": []
    }
   },
   "outputs": [],
   "source": [
    "# now change the username \n",
    "\n",
    "query = \"\"\"\n",
    "    \n",
    "    INSERT INTO DDL.users (username,user_id)\n",
    "    VALUES ('ALi',145)    \n",
    "\"\"\"\n",
    "\n",
    "cursor.execute(query)\n",
    "db.commit()"
   ]
  },
  {
   "cell_type": "code",
   "execution_count": 30,
   "id": "bc572290-1f26-4680-81b8-936240c6cc3c",
   "metadata": {
    "canvas": {
     "comments": [],
     "componentType": "CodeCell",
     "copiedOriginId": null,
     "diskcache": false,
     "headerColor": "transparent",
     "id": "0b5282eb-3c98-4730-8f15-e99d0af947fb",
     "isComponent": false,
     "name": "",
     "parents": []
    }
   },
   "outputs": [
    {
     "name": "stdout",
     "output_type": "stream",
     "text": [
      "('Mubeen', 12345)\n",
      "('ALi', 145)\n"
     ]
    }
   ],
   "source": [
    "show_tables_values('users','DDL')"
   ]
  },
  {
   "cell_type": "code",
   "execution_count": 31,
   "id": "e0548f43-631d-4f8a-953e-821f022b47e9",
   "metadata": {
    "canvas": {
     "comments": [],
     "componentType": "CodeCell",
     "copiedOriginId": null,
     "diskcache": false,
     "headerColor": "transparent",
     "id": "f0ad69e3-5260-4aa4-b1b1-b9543e04c242",
     "isComponent": false,
     "name": "",
     "parents": []
    }
   },
   "outputs": [],
   "source": [
    "remove_table('users','DDL')"
   ]
  },
  {
   "cell_type": "markdown",
   "id": "dc2ef0c7-f42a-4fe2-ab55-f8303797e431",
   "metadata": {
    "canvas": {
     "comments": [],
     "componentType": "CodeCell",
     "copiedOriginId": null,
     "diskcache": false,
     "headerColor": "transparent",
     "id": "bf68d473-1519-43bf-a1d7-b9cd09e3ec58",
     "isComponent": false,
     "name": "",
     "parents": []
    }
   },
   "source": [
    "# With CONSTRAINT keyword we also apply unique on both names"
   ]
  },
  {
   "cell_type": "code",
   "execution_count": 32,
   "id": "82841a43-7013-499c-96f0-a42dd95d9889",
   "metadata": {
    "canvas": {
     "comments": [],
     "componentType": "CodeCell",
     "copiedOriginId": null,
     "diskcache": false,
     "headerColor": "transparent",
     "id": "1f6a1e4a-9cf2-4c33-8418-b6540f951aca",
     "isComponent": false,
     "name": "",
     "parents": []
    }
   },
   "outputs": [],
   "source": [
    "query = \"\"\"\n",
    "\n",
    "    CREATE TABLE users(\n",
    "    \n",
    "        username VARCHAR(255),\n",
    "        user_id INTEGER NOT NULL,\n",
    "        \n",
    "        CONSTRAINT user_data UNIQUE (username,user_id)\n",
    "    )\n",
    "\"\"\"\n",
    "\n",
    "cursor.execute(query)\n",
    "db.commit()"
   ]
  },
  {
   "cell_type": "code",
   "execution_count": 34,
   "id": "b6e4368e-e202-47da-9e66-fdd0f9f1f59b",
   "metadata": {
    "canvas": {
     "comments": [],
     "componentType": "CodeCell",
     "copiedOriginId": null,
     "diskcache": false,
     "headerColor": "transparent",
     "id": "506e3c89-7e81-4f91-8f73-e6825a86551d",
     "isComponent": false,
     "name": "",
     "parents": []
    }
   },
   "outputs": [],
   "source": [
    "query = \"\"\"\n",
    "    \n",
    "    INSERT INTO DDL.users (username,user_id)\n",
    "    VALUES ('A',1) , ('A',2) , ('B',1)\n",
    "\"\"\"\n",
    "\n",
    "cursor.execute(query)\n",
    "db.commit()"
   ]
  },
  {
   "cell_type": "code",
   "execution_count": 35,
   "id": "c7ece9d2-f8c5-44b3-b5fc-e2de137e0e5c",
   "metadata": {
    "canvas": {
     "comments": [],
     "componentType": "CodeCell",
     "copiedOriginId": null,
     "diskcache": false,
     "headerColor": "transparent",
     "id": "1fa28fc8-cd3e-4ebe-882f-9944ee1e4f3a",
     "isComponent": false,
     "name": "",
     "parents": []
    }
   },
   "outputs": [
    {
     "name": "stdout",
     "output_type": "stream",
     "text": [
      "('A', 1)\n",
      "('A', 2)\n",
      "('B', 1)\n"
     ]
    }
   ],
   "source": [
    "show_tables_values('users','DDL')"
   ]
  },
  {
   "cell_type": "markdown",
   "id": "6dee5d24-ab87-40d0-9663-f6732305e21e",
   "metadata": {
    "canvas": {
     "comments": [],
     "componentType": "CodeCell",
     "copiedOriginId": null,
     "diskcache": false,
     "headerColor": "transparent",
     "id": "0364be0b-5e75-41da-a8a4-890b6f0f232d",
     "isComponent": false,
     "name": "",
     "parents": []
    }
   },
   "source": [
    "## now i cant add ('A',1) because ('A',1) are already Exists"
   ]
  },
  {
   "cell_type": "code",
   "execution_count": 37,
   "id": "4be1b481-560c-4427-ae42-f25926080450",
   "metadata": {
    "canvas": {
     "comments": [],
     "componentType": "CodeCell",
     "copiedOriginId": null,
     "diskcache": false,
     "headerColor": "transparent",
     "id": "1c3aa72f-6718-448f-a09d-3ff71bac954c",
     "isComponent": false,
     "name": "",
     "parents": []
    }
   },
   "outputs": [
    {
     "name": "stdout",
     "output_type": "stream",
     "text": [
      "1062 (23000): Duplicate entry 'A-1' for key 'user_data'\n"
     ]
    }
   ],
   "source": [
    "query = \"\"\"\n",
    "    \n",
    "    INSERT INTO DDL.users (username,user_id)\n",
    "    VALUES ('A',1)\n",
    "\"\"\"\n",
    "try:\n",
    "    cursor.execute(query)\n",
    "\n",
    "except Exception as e:\n",
    "    print(e)\n",
    "    \n",
    "db.commit()"
   ]
  },
  {
   "cell_type": "markdown",
   "id": "cbecac7b-f88e-4312-a751-8963a5f6b17f",
   "metadata": {
    "canvas": {
     "comments": [],
     "componentType": "CodeCell",
     "copiedOriginId": null,
     "diskcache": false,
     "headerColor": "transparent",
     "id": "6a5d0a29-3a75-4795-8af5-d7c13a31ef90",
     "isComponent": false,
     "name": "",
     "parents": []
    }
   },
   "source": [
    "## Use CONSTRAINT with COND"
   ]
  },
  {
   "cell_type": "code",
   "execution_count": 39,
   "id": "440a711b-5999-4827-b81e-90a8162bf485",
   "metadata": {
    "canvas": {
     "comments": [],
     "componentType": "CodeCell",
     "copiedOriginId": null,
     "diskcache": false,
     "headerColor": "transparent",
     "id": "5d9c8ebd-f802-44aa-a216-de4cff00dc05",
     "isComponent": false,
     "name": "",
     "parents": []
    }
   },
   "outputs": [],
   "source": [
    "remove_table('users','DDL')"
   ]
  },
  {
   "cell_type": "code",
   "execution_count": 40,
   "id": "022020de-8ed8-4f90-8141-eaeaca8aeda0",
   "metadata": {
    "canvas": {
     "comments": [],
     "componentType": "CodeCell",
     "copiedOriginId": null,
     "diskcache": false,
     "headerColor": "transparent",
     "id": "4a92e5bb-7753-4910-acbd-ca20cff37fd7",
     "isComponent": false,
     "name": "",
     "parents": []
    }
   },
   "outputs": [],
   "source": [
    "query = \"\"\"\n",
    "\n",
    "    CREATE TABLE users(\n",
    "    \n",
    "        username VARCHAR(255),\n",
    "        age INTEGER NOT NULL,\n",
    "        \n",
    "        CONSTRAINT condtion CHECK  (age >=10)\n",
    "    )\n",
    "\"\"\"\n",
    "\n",
    "cursor.execute(query)\n",
    "db.commit()"
   ]
  },
  {
   "cell_type": "markdown",
   "id": "1b83b760-2563-40bb-8b50-11e9cf1f8779",
   "metadata": {
    "canvas": {
     "comments": [],
     "componentType": "CodeCell",
     "copiedOriginId": null,
     "diskcache": false,
     "headerColor": "transparent",
     "id": "92bc86ce-208a-4184-9697-e594c1880454",
     "isComponent": false,
     "name": "",
     "parents": []
    }
   },
   "source": [
    "### age must be greater than or equal to 10"
   ]
  },
  {
   "cell_type": "code",
   "execution_count": 41,
   "id": "f5de41f8-bad7-4aae-9c9b-f5fb7575f16b",
   "metadata": {
    "canvas": {
     "comments": [],
     "componentType": "CodeCell",
     "copiedOriginId": null,
     "diskcache": false,
     "headerColor": "transparent",
     "id": "481e64b6-d889-4015-ba5c-85aed4dfc387",
     "isComponent": false,
     "name": "",
     "parents": []
    }
   },
   "outputs": [
    {
     "name": "stdout",
     "output_type": "stream",
     "text": [
      "1054 (42S22): Unknown column 'age' in 'field list'\n"
     ]
    }
   ],
   "source": [
    "query = \"\"\"\n",
    "    \n",
    "    INSERT INTO mydb.users (username,age)\n",
    "    VALUES ('Ali',9)\n",
    "\"\"\"\n",
    "try:\n",
    "    cursor.execute(query)\n",
    "\n",
    "except Exception as e:\n",
    "    print(e)\n",
    "    \n",
    "db.commit()"
   ]
  },
  {
   "cell_type": "code",
   "execution_count": 43,
   "id": "4e368077-c0ce-44fc-af9d-289e6d28d10d",
   "metadata": {
    "canvas": {
     "comments": [],
     "componentType": "CodeCell",
     "copiedOriginId": null,
     "diskcache": false,
     "headerColor": "transparent",
     "id": "5f66d3cb-048e-4ca0-8dc6-c22f2051b23b",
     "isComponent": false,
     "name": "",
     "parents": []
    }
   },
   "outputs": [],
   "source": [
    "query = \"\"\"\n",
    "    \n",
    "    INSERT INTO DDL.users (username,age)\n",
    "    VALUES ('Ali',10)\n",
    "\"\"\"\n",
    "cursor.execute(query)\n",
    "db.commit()"
   ]
  },
  {
   "cell_type": "code",
   "execution_count": 44,
   "id": "6a9567ed-50d1-46ee-a412-900fe013957d",
   "metadata": {
    "canvas": {
     "comments": [],
     "componentType": "CodeCell",
     "copiedOriginId": null,
     "diskcache": false,
     "headerColor": "transparent",
     "id": "b9b42625-b122-441b-a286-450238edb0bb",
     "isComponent": false,
     "name": "",
     "parents": []
    }
   },
   "outputs": [
    {
     "name": "stdout",
     "output_type": "stream",
     "text": [
      "('Ali', 10)\n"
     ]
    }
   ],
   "source": [
    "show_tables_values('users','DDL')"
   ]
  },
  {
   "cell_type": "markdown",
   "id": "32b3af40-d66d-41d5-84cb-91d8fc7578fe",
   "metadata": {
    "canvas": {
     "comments": [],
     "componentType": "CodeCell",
     "copiedOriginId": null,
     "diskcache": false,
     "headerColor": "transparent",
     "id": "dc7e350d-3df4-4d5d-865e-4e22e6dc66fa",
     "isComponent": false,
     "name": "",
     "parents": []
    }
   },
   "source": [
    "## Create a Relation with two Tables"
   ]
  },
  {
   "cell_type": "code",
   "execution_count": 45,
   "id": "801f2e67-1d83-4cd9-a3c4-eb122b37ecc8",
   "metadata": {
    "canvas": {
     "comments": [],
     "componentType": "CodeCell",
     "copiedOriginId": null,
     "diskcache": false,
     "headerColor": "transparent",
     "id": "7e6511dc-c468-45fb-ae5b-847ff2727419",
     "isComponent": false,
     "name": "",
     "parents": []
    }
   },
   "outputs": [],
   "source": [
    "remove_table('users','DDL')"
   ]
  },
  {
   "cell_type": "code",
   "execution_count": 46,
   "id": "4dfc4b30-e33b-4268-9801-b96f1d70d735",
   "metadata": {
    "canvas": {
     "comments": [],
     "componentType": "CodeCell",
     "copiedOriginId": null,
     "diskcache": false,
     "headerColor": "transparent",
     "id": "b364912a-b69a-406d-ad47-3d622d8a74d8",
     "isComponent": false,
     "name": "",
     "parents": []
    }
   },
   "outputs": [],
   "source": [
    "query = \"\"\"\n",
    "    \n",
    "    CREATE TABLE users (\n",
    "    \n",
    "    username VARCHAR(255) PRIMARY KEY NOT NULL,\n",
    "    name VARCHAR(255) NOT NULL\n",
    ");\n",
    "\"\"\"\n",
    "cursor.execute(query)\n",
    "db.commit()"
   ]
  },
  {
   "cell_type": "markdown",
   "id": "bfb2f271-9e6f-405a-b1bc-4d3c708b9c12",
   "metadata": {
    "canvas": {
     "comments": [],
     "componentType": "CodeCell",
     "copiedOriginId": null,
     "diskcache": false,
     "headerColor": "transparent",
     "id": "f4b20234-b3b6-4024-9153-c9e15ffb08a1",
     "isComponent": false,
     "name": "",
     "parents": []
    }
   },
   "source": [
    "## now create an other table"
   ]
  },
  {
   "cell_type": "code",
   "execution_count": 48,
   "id": "dedc42e5-d39b-4b71-bcb9-160965484315",
   "metadata": {
    "canvas": {
     "comments": [],
     "componentType": "CodeCell",
     "copiedOriginId": null,
     "diskcache": false,
     "headerColor": "transparent",
     "id": "29ec4356-298d-4f3b-b3e8-d68722bfa4ac",
     "isComponent": false,
     "name": "",
     "parents": []
    }
   },
   "outputs": [],
   "source": [
    "query = \"\"\"\n",
    "    \n",
    "    CREATE TABLE users_info (\n",
    "    \n",
    "    username VARCHAR(255) PRIMARY KEY NOT NULL,\n",
    "    code INTEGER NOT NULL,\n",
    "    \n",
    "    CONSTRAINT ref FOREIGN KEY (username) REFERENCES users(username)\n",
    "    \n",
    " \n",
    ");\n",
    "\"\"\"\n",
    "cursor.execute(query)\n",
    "db.commit()"
   ]
  },
  {
   "cell_type": "markdown",
   "id": "2946f4f1-c8c6-4249-9ca9-3cd5d05af0d2",
   "metadata": {
    "canvas": {
     "comments": [],
     "componentType": "CodeCell",
     "copiedOriginId": null,
     "diskcache": false,
     "headerColor": "transparent",
     "id": "00616581-23d0-497f-8089-a0ad486e5d72",
     "isComponent": false,
     "name": "",
     "parents": []
    }
   },
   "source": [
    "# Now CHECK TABLES"
   ]
  },
  {
   "cell_type": "code",
   "execution_count": 49,
   "id": "2b71a436-2f31-4bfd-a9f8-41687d9ba4ee",
   "metadata": {
    "canvas": {
     "comments": [],
     "componentType": "CodeCell",
     "copiedOriginId": null,
     "diskcache": false,
     "headerColor": "transparent",
     "id": "0fb0bcfa-f899-46f6-a132-fe8e13f2b189",
     "isComponent": false,
     "name": "",
     "parents": []
    }
   },
   "outputs": [],
   "source": [
    "query = \"\"\"\n",
    "    SHOW TABLES\n",
    "\"\"\"\n",
    "cursor.execute(query)"
   ]
  },
  {
   "cell_type": "code",
   "execution_count": 50,
   "id": "ae262603-677c-4b06-b466-bfa791e9b4c8",
   "metadata": {
    "canvas": {
     "comments": [],
     "componentType": "CodeCell",
     "copiedOriginId": null,
     "diskcache": false,
     "headerColor": "transparent",
     "id": "375eee74-9412-49c7-9cca-84d7163e97a3",
     "isComponent": false,
     "name": "",
     "parents": []
    }
   },
   "outputs": [
    {
     "name": "stdout",
     "output_type": "stream",
     "text": [
      "[('users',), ('users_info',)]\n"
     ]
    }
   ],
   "source": [
    "# print tables\n",
    "print(cursor.fetchall())"
   ]
  },
  {
   "cell_type": "markdown",
   "id": "a6d9111e-b34b-4332-ab81-91680e1702e5",
   "metadata": {
    "canvas": {
     "comments": [],
     "componentType": "CodeCell",
     "copiedOriginId": null,
     "diskcache": false,
     "headerColor": "transparent",
     "id": "a3af1b60-33b3-47f4-8e32-afb70faf3fb4",
     "isComponent": false,
     "name": "",
     "parents": []
    }
   },
   "source": [
    "## now fill user table"
   ]
  },
  {
   "cell_type": "code",
   "execution_count": 53,
   "id": "efc3caaf-b326-46ab-b2ac-2cac62ab47c4",
   "metadata": {
    "canvas": {
     "comments": [],
     "componentType": "CodeCell",
     "copiedOriginId": null,
     "diskcache": false,
     "headerColor": "transparent",
     "id": "4848141c-9a19-4d69-8497-c6f17a7966c7",
     "isComponent": false,
     "name": "",
     "parents": []
    }
   },
   "outputs": [],
   "source": [
    "query = \"\"\"\n",
    "    \n",
    "    INSERT INTO DDL.users (username,name)\n",
    "    VALUES ('Mubeenxyz@123','Mubeen'), ('Alixyz@11','Ali')\n",
    "\"\"\"\n",
    "cursor.execute(query)\n",
    "db.commit()\n"
   ]
  },
  {
   "cell_type": "code",
   "execution_count": 54,
   "id": "ec83dc81-784f-4f07-a222-2a2553fe6b0e",
   "metadata": {
    "canvas": {
     "comments": [],
     "componentType": "CodeCell",
     "copiedOriginId": null,
     "diskcache": false,
     "headerColor": "transparent",
     "id": "6652336d-a614-46d8-ad97-4f603bd00783",
     "isComponent": false,
     "name": "",
     "parents": []
    }
   },
   "outputs": [
    {
     "name": "stdout",
     "output_type": "stream",
     "text": [
      "('Alixyz@11', 'Ali')\n",
      "('Mubeenxyz@123', 'Mubeen')\n"
     ]
    }
   ],
   "source": [
    "show_tables_values('users','DDL')"
   ]
  },
  {
   "cell_type": "code",
   "execution_count": 55,
   "id": "5f4818de-ef0b-47f4-859f-48f92a5f359c",
   "metadata": {
    "canvas": {
     "comments": [],
     "componentType": "CodeCell",
     "copiedOriginId": null,
     "diskcache": false,
     "headerColor": "transparent",
     "id": "2b8d0f6c-f3e3-4b3e-88d7-2b73da2597a1",
     "isComponent": false,
     "name": "",
     "parents": []
    }
   },
   "outputs": [],
   "source": [
    "query = \"\"\"\n",
    "    \n",
    "    INSERT INTO DDL.users_info (username,code)\n",
    "    VALUES ('Alixyz@11',555)\n",
    "\"\"\"\n",
    "cursor.execute(query)\n",
    "db.commit()"
   ]
  },
  {
   "cell_type": "markdown",
   "id": "0364d987-3802-4ab4-be41-382218ba6d6e",
   "metadata": {
    "canvas": {
     "comments": [],
     "componentType": "CodeCell",
     "copiedOriginId": null,
     "diskcache": false,
     "headerColor": "transparent",
     "id": "47a83171-059f-417a-a7ff-a8301aec05bd",
     "isComponent": false,
     "name": "",
     "parents": []
    }
   },
   "source": [
    "## Here user table username Alixyz@11 and user_info table username Alixyz@11 are same\n",
    "- ### SO they Make a Relations"
   ]
  },
  {
   "cell_type": "code",
   "execution_count": 56,
   "id": "516168fc-9157-41a2-92ee-8adff946d8b4",
   "metadata": {
    "canvas": {
     "comments": [],
     "componentType": "CodeCell",
     "copiedOriginId": null,
     "diskcache": false,
     "headerColor": "transparent",
     "id": "a345a328-740b-4b63-83aa-28ea3ada930f",
     "isComponent": false,
     "name": "",
     "parents": []
    }
   },
   "outputs": [
    {
     "name": "stdout",
     "output_type": "stream",
     "text": [
      "[('Alixyz@11', 555)]\n"
     ]
    }
   ],
   "source": [
    "# show users_info value\n",
    "cursor.execute(\"SELECT * FROM users_info\")\n",
    "\n",
    "print(cursor.fetchall())"
   ]
  },
  {
   "cell_type": "markdown",
   "id": "714a14d8-a141-443e-ab6c-826f412daef1",
   "metadata": {
    "canvas": {
     "comments": [],
     "componentType": "CodeCell",
     "copiedOriginId": null,
     "diskcache": false,
     "headerColor": "transparent",
     "id": "2d70c92b-cd43-4024-b6b8-bf36a18e636c",
     "isComponent": false,
     "name": "",
     "parents": []
    }
   },
   "source": [
    "<br>\n",
    "\n",
    "# Referential Actions\n",
    "\n",
    "<h3><p>Referential actions, also known as referential integrity actions or cascade actions, are actions that can be automatically performed by a database management system (DBMS) when a foreign key relationship is involved.<br><br>These actions define how changes to the parent (referenced) table are reflected in the child (referencing) table.</p></h3>"
   ]
  },
  {
   "cell_type": "markdown",
   "id": "095c8064-e922-4cda-8440-07382d704abf",
   "metadata": {
    "canvas": {
     "comments": [],
     "componentType": "CodeCell",
     "copiedOriginId": null,
     "diskcache": false,
     "headerColor": "transparent",
     "id": "492d0e59-b112-42db-b2dc-f65ccab24461",
     "isComponent": false,
     "name": "",
     "parents": []
    }
   },
   "source": [
    "- ## RESTRICT\n",
    "\n",
    "<br>\n",
    "\n",
    "- ### here we have two tables users , and users_info\n",
    "- ### user_info are relate the user table\n",
    "- ### So if i remove the user table than user_info table info are lost\n",
    "- ### So we cant remove user table event we are not remove first user_info table\n",
    "- ### This type ot Referential Action called RESTRICT "
   ]
  },
  {
   "cell_type": "markdown",
   "id": "120dcf3b-19da-4873-832f-427814a02416",
   "metadata": {
    "canvas": {
     "comments": [],
     "componentType": "CodeCell",
     "copiedOriginId": null,
     "diskcache": false,
     "headerColor": "transparent",
     "id": "b742a9da-ba56-4d9a-a849-5db2a77f9102",
     "isComponent": false,
     "name": "",
     "parents": []
    }
   },
   "source": [
    "<br>\n",
    "\n",
    "## try to Drop users table"
   ]
  },
  {
   "cell_type": "code",
   "execution_count": 57,
   "id": "0c9a4f44-b33e-463f-8254-444b3842ede2",
   "metadata": {
    "canvas": {
     "comments": [],
     "componentType": "CodeCell",
     "copiedOriginId": null,
     "diskcache": false,
     "headerColor": "transparent",
     "id": "2083be8d-6653-4e1d-81fc-c2148b5e20e2",
     "isComponent": false,
     "name": "",
     "parents": []
    }
   },
   "outputs": [
    {
     "name": "stdout",
     "output_type": "stream",
     "text": [
      "1451 (23000): Cannot delete or update a parent row: a foreign key constraint fails\n"
     ]
    }
   ],
   "source": [
    "try:\n",
    "    cursor.execute(\"DROP TABLE users\")\n",
    "except Exception as e:\n",
    "    print(e)"
   ]
  },
  {
   "cell_type": "code",
   "execution_count": 58,
   "id": "23a636ad-03af-49d3-9db5-592eac393297",
   "metadata": {
    "canvas": {
     "comments": [],
     "componentType": "CodeCell",
     "copiedOriginId": null,
     "diskcache": false,
     "headerColor": "transparent",
     "id": "e7836ea1-3f61-4182-8905-fd3d4874cfd9",
     "isComponent": false,
     "name": "",
     "parents": []
    }
   },
   "outputs": [],
   "source": [
    "## now remove first user_info table\n",
    "\n",
    "cursor.execute(\"DROP TABLE users_info\")\n",
    "db.commit()"
   ]
  },
  {
   "cell_type": "code",
   "execution_count": 60,
   "id": "309d12e3-01b8-4047-b24f-c6269db5d301",
   "metadata": {
    "canvas": {
     "comments": [],
     "componentType": "CodeCell",
     "copiedOriginId": null,
     "diskcache": false,
     "headerColor": "transparent",
     "id": "cf211dcf-c828-44fa-af6c-cebc17b139a9",
     "isComponent": false,
     "name": "",
     "parents": []
    }
   },
   "outputs": [],
   "source": [
    "# now remove users\n",
    "cursor.execute(\"DROP TABLE users\")\n",
    "db.commit()"
   ]
  },
  {
   "cell_type": "markdown",
   "id": "29ddbdba-2615-4552-a253-91a0ce4c5dbe",
   "metadata": {
    "canvas": {
     "comments": [],
     "componentType": "CodeCell",
     "copiedOriginId": null,
     "diskcache": false,
     "headerColor": "transparent",
     "id": "791fc993-8f9b-4091-820d-604f424b2b12",
     "isComponent": false,
     "name": "",
     "parents": []
    }
   },
   "source": [
    "<br>\n",
    "\n",
    "## CASCADE\n",
    "\n",
    "<h3>When a referenced row in the parent table is updated or deleted, the corresponding rows in the child table are also updated or deleted automatically.</h3>"
   ]
  },
  {
   "cell_type": "code",
   "execution_count": 61,
   "id": "bf9d289f-6b4c-4719-8c2c-c3c01bb0406e",
   "metadata": {
    "canvas": {
     "comments": [],
     "componentType": "CodeCell",
     "copiedOriginId": null,
     "diskcache": false,
     "headerColor": "transparent",
     "id": "4ea8164e-734f-4a79-b9d0-b5ca0fd83415",
     "isComponent": false,
     "name": "",
     "parents": []
    }
   },
   "outputs": [],
   "source": [
    "query = \"\"\"\n",
    "    \n",
    "    CREATE TABLE \n",
    "    users (\n",
    "    username VARCHAR(255) PRIMARY KEY,\n",
    "    name VARCHAR(255) NOT NULL\n",
    "    )    \n",
    "\"\"\"\n",
    "cursor.execute(query)\n",
    "db.commit()"
   ]
  },
  {
   "cell_type": "code",
   "execution_count": 62,
   "id": "5546bc15-9a94-4603-9ed5-91a329e779f1",
   "metadata": {
    "canvas": {
     "comments": [],
     "componentType": "CodeCell",
     "copiedOriginId": null,
     "diskcache": false,
     "headerColor": "transparent",
     "id": "a604c0ae-9363-4d29-aa0b-d5b46be4af9c",
     "isComponent": false,
     "name": "",
     "parents": []
    }
   },
   "outputs": [],
   "source": [
    "query = \"\"\"\n",
    "    \n",
    "    CREATE TABLE \n",
    "    \n",
    "    users_info (\n",
    "    username VARCHAR(255) PRIMARY KEY NOT NULL,\n",
    "    code INTEGER NOT NULL,\n",
    "    \n",
    "    CONSTRAINT ref FOREIGN KEY (username) REFERENCES users(username)\n",
    "    \n",
    "    ON DELETE CASCADE\n",
    "    ON UPDATE CASCADE\n",
    ")\n",
    "    \n",
    "\"\"\"\n",
    "cursor.execute(query)\n",
    "db.commit()"
   ]
  },
  {
   "cell_type": "code",
   "execution_count": 64,
   "id": "b46b76b9-9f39-4002-a9a0-5eab1e22c62f",
   "metadata": {
    "canvas": {
     "comments": [],
     "componentType": "CodeCell",
     "copiedOriginId": null,
     "diskcache": false,
     "headerColor": "transparent",
     "id": "9e54439a-3d6c-4707-b0dc-af9a36dd7a53",
     "isComponent": false,
     "name": "",
     "parents": []
    }
   },
   "outputs": [],
   "source": [
    "query = \"\"\"\n",
    "    INSERT INTO DDL.users (username,name)\n",
    "    VALUES ('Alixyz@11','ALI')\n",
    "\"\"\"\n",
    "cursor.execute(query)\n",
    "db.commit()"
   ]
  },
  {
   "cell_type": "code",
   "execution_count": 66,
   "id": "d6366b7b-a71d-4e1c-a716-950b3006abb1",
   "metadata": {
    "canvas": {
     "comments": [],
     "componentType": "CodeCell",
     "copiedOriginId": null,
     "diskcache": false,
     "headerColor": "transparent",
     "id": "204016af-0fa3-4270-9707-ffb2744f3e9a",
     "isComponent": false,
     "name": "",
     "parents": []
    }
   },
   "outputs": [],
   "source": [
    "query = \"\"\"\n",
    "    INSERT INTO DDL.users_info (username,code)\n",
    "    VALUES ('Alixyz@11',998)\n",
    "\"\"\"\n",
    "cursor.execute(query)\n",
    "db.commit()"
   ]
  },
  {
   "cell_type": "code",
   "execution_count": 67,
   "id": "448974c7-3899-4df7-886a-3e4bd9178cac",
   "metadata": {
    "canvas": {
     "comments": [],
     "componentType": "CodeCell",
     "copiedOriginId": null,
     "diskcache": false,
     "headerColor": "transparent",
     "id": "9c30e155-9425-4242-9ff5-a567b2da9e2f",
     "isComponent": false,
     "name": "",
     "parents": []
    }
   },
   "outputs": [
    {
     "name": "stdout",
     "output_type": "stream",
     "text": [
      "('Alixyz@11', 'ALI')\n"
     ]
    }
   ],
   "source": [
    "show_tables_values('users','DDL')"
   ]
  },
  {
   "cell_type": "code",
   "execution_count": 68,
   "id": "89f08ad1-0693-4e8c-8bb8-8d0d5207089b",
   "metadata": {
    "canvas": {
     "comments": [],
     "componentType": "CodeCell",
     "copiedOriginId": null,
     "diskcache": false,
     "headerColor": "transparent",
     "id": "2fd143b2-0190-49db-bca9-69bf8f4838a7",
     "isComponent": false,
     "name": "",
     "parents": []
    }
   },
   "outputs": [
    {
     "name": "stdout",
     "output_type": "stream",
     "text": [
      "('Alixyz@11', 998)\n"
     ]
    }
   ],
   "source": [
    "show_tables_values('users_info','DDL')"
   ]
  },
  {
   "cell_type": "markdown",
   "id": "a11c2e52-bd11-4a70-8c65-8441aa9aaa7d",
   "metadata": {
    "canvas": {
     "comments": [],
     "componentType": "CodeCell",
     "copiedOriginId": null,
     "diskcache": false,
     "headerColor": "transparent",
     "id": "6975db8c-d9b3-4f6d-80a3-992ff8abe609",
     "isComponent": false,
     "name": "",
     "parents": []
    }
   },
   "source": [
    "# now try to change parent (user) username Value"
   ]
  },
  {
   "cell_type": "markdown",
   "id": "0060040e-d948-4e9d-ad0d-728e2da4ac41",
   "metadata": {
    "canvas": {
     "comments": [],
     "componentType": "CodeCell",
     "copiedOriginId": null,
     "diskcache": false,
     "headerColor": "transparent",
     "id": "3afd1ee8-a6b9-43dd-bc5a-144f317079ba",
     "isComponent": false,
     "name": "",
     "parents": []
    }
   },
   "source": [
    "### UPDATE attribute for modify the values"
   ]
  },
  {
   "cell_type": "code",
   "execution_count": 69,
   "id": "75b81487-bd47-498e-807d-4798c370f724",
   "metadata": {
    "canvas": {
     "comments": [],
     "componentType": "CodeCell",
     "copiedOriginId": null,
     "diskcache": false,
     "headerColor": "transparent",
     "id": "bb66be97-1358-4e7d-82ea-b2414194ba08",
     "isComponent": false,
     "name": "",
     "parents": []
    }
   },
   "outputs": [],
   "source": [
    "cursor.execute(\"UPDATE users SET username='Mubeenxyz@111'\")\n",
    "db.commit()"
   ]
  },
  {
   "cell_type": "code",
   "execution_count": 70,
   "id": "3f4aa5b5-cf9d-4bfb-af56-f97ce17c1716",
   "metadata": {
    "canvas": {
     "comments": [],
     "componentType": "CodeCell",
     "copiedOriginId": null,
     "diskcache": false,
     "headerColor": "transparent",
     "id": "ecbb3fe2-e2ba-4eaf-a1b5-1427529a98db",
     "isComponent": false,
     "name": "",
     "parents": []
    }
   },
   "outputs": [
    {
     "name": "stdout",
     "output_type": "stream",
     "text": [
      "('Mubeenxyz@111', 'ALI')\n"
     ]
    }
   ],
   "source": [
    "show_tables_values('users','DDL')"
   ]
  },
  {
   "cell_type": "code",
   "execution_count": 71,
   "id": "da23a18a-9be1-47a1-8de5-61d8e8822525",
   "metadata": {
    "canvas": {
     "comments": [],
     "componentType": "CodeCell",
     "copiedOriginId": null,
     "diskcache": false,
     "headerColor": "transparent",
     "id": "ff8945bf-98c9-48a5-9742-21f702251adc",
     "isComponent": false,
     "name": "",
     "parents": []
    }
   },
   "outputs": [
    {
     "name": "stdout",
     "output_type": "stream",
     "text": [
      "('Mubeenxyz@111', 998)\n"
     ]
    }
   ],
   "source": [
    "show_tables_values('users_info','DDL')"
   ]
  },
  {
   "cell_type": "markdown",
   "id": "e32ba35e-7e53-4431-8e31-088d8bcfff77",
   "metadata": {
    "canvas": {
     "comments": [],
     "componentType": "CodeCell",
     "copiedOriginId": null,
     "diskcache": false,
     "headerColor": "transparent",
     "id": "932ef84c-d8ca-4d70-9bed-1dc11f8d97a1",
     "isComponent": false,
     "name": "",
     "parents": []
    }
   },
   "source": [
    "# here i update parent table values but user_info are also updated"
   ]
  },
  {
   "cell_type": "code",
   "execution_count": 72,
   "id": "cb70843a-1f23-4966-8d85-c48842d67c6c",
   "metadata": {
    "canvas": {
     "comments": [],
     "componentType": "CodeCell",
     "copiedOriginId": null,
     "diskcache": false,
     "headerColor": "transparent",
     "id": "c9630063-33d9-4aff-ac8d-9927d35f9868",
     "isComponent": false,
     "name": "",
     "parents": []
    }
   },
   "outputs": [],
   "source": [
    "remove_table('users_info','DDL')\n",
    "remove_table('users','DDL')"
   ]
  },
  {
   "cell_type": "markdown",
   "id": "99751704-8a6a-441e-adc4-d57e2ae717aa",
   "metadata": {
    "canvas": {
     "comments": [],
     "componentType": "CodeCell",
     "copiedOriginId": null,
     "diskcache": false,
     "headerColor": "transparent",
     "id": "f3dcfc76-0130-4cd4-9f8f-5e251462a2ef",
     "isComponent": false,
     "name": "",
     "parents": []
    }
   },
   "source": [
    "#  SET NULL\n",
    "\n",
    "- ## When a referenced row in the parent table is updated or deleted, the foreign key columns in the corresponding rows in the child table are set to NULL."
   ]
  },
  {
   "cell_type": "code",
   "execution_count": 73,
   "id": "43903c43-e99b-4047-b5d5-a5db0e89f3b6",
   "metadata": {
    "canvas": {
     "comments": [],
     "componentType": "CodeCell",
     "copiedOriginId": null,
     "diskcache": false,
     "headerColor": "transparent",
     "id": "e59d6bd6-c912-41a7-98b5-4fdd34114437",
     "isComponent": false,
     "name": "",
     "parents": []
    }
   },
   "outputs": [],
   "source": [
    "query = \"\"\"\n",
    "    \n",
    "    CREATE TABLE users (\n",
    "    \n",
    "    username VARCHAR(255) PRIMARY KEY NOT NULL,\n",
    "    name VARCHAR(255) NOT NULL\n",
    ");\n",
    "\"\"\"\n",
    "cursor.execute(query)\n",
    "db.commit()"
   ]
  },
  {
   "cell_type": "markdown",
   "id": "0e3c2d2d-87b2-4a37-b76d-a2a661415dcc",
   "metadata": {
    "canvas": {
     "comments": [],
     "componentType": "CodeCell",
     "copiedOriginId": null,
     "diskcache": false,
     "headerColor": "transparent",
     "id": "d9e2a73e-6c44-4566-81af-3b667705e59c",
     "isComponent": false,
     "name": "",
     "parents": []
    }
   },
   "source": [
    "### Note ! Here user_info Primary key of username not to be null\n",
    "- ### because if i remove parent value then child table value set to be Null\n",
    "- ### but PRIMARY KEY must be unqiue and NOT NULL So aviod to use PRIMARY KEY and NOT NULL"
   ]
  },
  {
   "cell_type": "code",
   "execution_count": 74,
   "id": "a05d7664-1e5e-4761-af34-53078595a3aa",
   "metadata": {
    "canvas": {
     "comments": [],
     "componentType": "CodeCell",
     "copiedOriginId": null,
     "diskcache": false,
     "headerColor": "transparent",
     "id": "3957e255-4838-4460-a633-d01aaf040786",
     "isComponent": false,
     "name": "",
     "parents": []
    }
   },
   "outputs": [],
   "source": [
    "query = \"\"\"\n",
    "    \n",
    "    CREATE TABLE users_info (\n",
    "    username VARCHAR(255) , # PRIMARY KEY COMMENTED\n",
    "    code INTEGER NOT NULL,\n",
    "    \n",
    "    CONSTRAINT ref FOREIGN KEY (username) REFERENCES users(username)\n",
    "    ON DELETE SET NULL\n",
    "    ON UPDATE SET NULL\n",
    ");\n",
    "\n",
    "\n",
    "\"\"\"\n",
    "cursor.execute(query)"
   ]
  },
  {
   "cell_type": "markdown",
   "id": "cd6ea5f4-8777-453a-9672-b036306dfcc2",
   "metadata": {
    "canvas": {
     "comments": [],
     "componentType": "CodeCell",
     "copiedOriginId": null,
     "diskcache": false,
     "headerColor": "transparent",
     "id": "eacbc77d-9d2e-44e4-a579-0f65d603a042",
     "isComponent": false,
     "name": "",
     "parents": []
    }
   },
   "source": [
    "### now fill value"
   ]
  },
  {
   "cell_type": "code",
   "execution_count": 76,
   "id": "242a6741-f33b-41d5-b992-b94da241d0d8",
   "metadata": {
    "canvas": {
     "comments": [],
     "componentType": "CodeCell",
     "copiedOriginId": null,
     "diskcache": false,
     "headerColor": "transparent",
     "id": "399a9df7-6d26-4337-9aaf-293f95b5bc75",
     "isComponent": false,
     "name": "",
     "parents": []
    }
   },
   "outputs": [],
   "source": [
    "query = \"\"\"\n",
    "\n",
    "    INSERT INTO DDL.users (username,name)\n",
    "    VALUES ('Mubeen@123','MUBEEN')\n",
    "\"\"\"\n",
    "cursor.execute(query)\n",
    "db.commit()"
   ]
  },
  {
   "cell_type": "code",
   "execution_count": 77,
   "id": "f306b255-f786-4f12-9ebc-454eb68fc1f3",
   "metadata": {
    "canvas": {
     "comments": [],
     "componentType": "CodeCell",
     "copiedOriginId": null,
     "diskcache": false,
     "headerColor": "transparent",
     "id": "30975e2c-f892-4f3e-94da-0b6151378439",
     "isComponent": false,
     "name": "",
     "parents": []
    }
   },
   "outputs": [],
   "source": [
    "query = \"\"\"\n",
    "\n",
    "    INSERT INTO DDL.users_info (username,code)\n",
    "    VALUES ('Mubeen@123',56875)\n",
    "\"\"\"\n",
    "cursor.execute(query)\n",
    "db.commit()"
   ]
  },
  {
   "cell_type": "code",
   "execution_count": 78,
   "id": "ea4e2338-a6c3-4bc1-a785-f30604f3ef66",
   "metadata": {
    "canvas": {
     "comments": [],
     "componentType": "CodeCell",
     "copiedOriginId": null,
     "diskcache": false,
     "headerColor": "transparent",
     "id": "39ab6f85-6f35-49bd-9718-9c3fa1fadd9d",
     "isComponent": false,
     "name": "",
     "parents": []
    }
   },
   "outputs": [
    {
     "name": "stdout",
     "output_type": "stream",
     "text": [
      "('Mubeen@123', 'MUBEEN')\n"
     ]
    }
   ],
   "source": [
    "show_tables_values('users','DDL')"
   ]
  },
  {
   "cell_type": "code",
   "execution_count": 79,
   "id": "ab7a9229-cb2c-4aff-88f5-25ad6707dfd1",
   "metadata": {
    "canvas": {
     "comments": [],
     "componentType": "CodeCell",
     "copiedOriginId": null,
     "diskcache": false,
     "headerColor": "transparent",
     "id": "cce200ec-fe94-45dd-83b9-ba3a4f2b5bf5",
     "isComponent": false,
     "name": "",
     "parents": []
    }
   },
   "outputs": [
    {
     "name": "stdout",
     "output_type": "stream",
     "text": [
      "('Mubeen@123', 56875)\n"
     ]
    }
   ],
   "source": [
    "show_tables_values('users_info','DDL')"
   ]
  },
  {
   "cell_type": "markdown",
   "id": "70441ae4-3e43-4acf-b656-8214983913cb",
   "metadata": {
    "canvas": {
     "comments": [],
     "componentType": "CodeCell",
     "copiedOriginId": null,
     "diskcache": false,
     "headerColor": "transparent",
     "id": "dbc0c655-3002-4da9-bcee-72f4d10b611a",
     "isComponent": false,
     "name": "",
     "parents": []
    }
   },
   "source": [
    "## now try to update user username value"
   ]
  },
  {
   "cell_type": "code",
   "execution_count": 80,
   "id": "570268ba-518d-4acd-96ec-87af8ae6d915",
   "metadata": {
    "canvas": {
     "comments": [],
     "componentType": "CodeCell",
     "copiedOriginId": null,
     "diskcache": false,
     "headerColor": "transparent",
     "id": "39f57896-48ea-4921-a7b7-f9ca0af61c67",
     "isComponent": false,
     "name": "",
     "parents": []
    }
   },
   "outputs": [],
   "source": [
    "cursor.execute(\"UPDATE users SET username='ali@111' WHERE name='MUBEEN'\")"
   ]
  },
  {
   "cell_type": "code",
   "execution_count": 81,
   "id": "7907f74d-8bcc-4bda-b776-e1293b5285b8",
   "metadata": {
    "canvas": {
     "comments": [],
     "componentType": "CodeCell",
     "copiedOriginId": null,
     "diskcache": false,
     "headerColor": "transparent",
     "id": "c027c0a0-581a-4811-bd23-981c3621939d",
     "isComponent": false,
     "name": "",
     "parents": []
    }
   },
   "outputs": [
    {
     "name": "stdout",
     "output_type": "stream",
     "text": [
      "('ali@111', 'MUBEEN')\n"
     ]
    }
   ],
   "source": [
    "show_tables_values('users','DDL')"
   ]
  },
  {
   "cell_type": "code",
   "execution_count": 82,
   "id": "4969135f-5815-4174-86a7-dbe411570c24",
   "metadata": {
    "canvas": {
     "comments": [],
     "componentType": "CodeCell",
     "copiedOriginId": null,
     "diskcache": false,
     "headerColor": "transparent",
     "id": "4aa42abd-10fc-4405-a7e9-99d26b9a0750",
     "isComponent": false,
     "name": "",
     "parents": []
    }
   },
   "outputs": [
    {
     "name": "stdout",
     "output_type": "stream",
     "text": [
      "(None, 56875)\n"
     ]
    }
   ],
   "source": [
    "show_tables_values('users_info','DDL')"
   ]
  }
 ],
 "metadata": {
  "canvas": {
   "colorPalette": [
    "inherit",
    "inherit",
    "inherit",
    "inherit",
    "inherit",
    "inherit",
    "inherit",
    "inherit",
    "inherit",
    "inherit"
   ],
   "parameters": [],
   "version": "1.0"
  },
  "kernelspec": {
   "display_name": "Python 3 (ipykernel)",
   "language": "python",
   "name": "python3"
  },
  "language_info": {
   "codemirror_mode": {
    "name": "ipython",
    "version": 3
   },
   "file_extension": ".py",
   "mimetype": "text/x-python",
   "name": "python",
   "nbconvert_exporter": "python",
   "pygments_lexer": "ipython3",
   "version": "3.10.12"
  }
 },
 "nbformat": 4,
 "nbformat_minor": 5
}

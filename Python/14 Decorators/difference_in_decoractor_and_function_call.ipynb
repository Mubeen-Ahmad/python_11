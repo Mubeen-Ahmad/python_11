{
 "cells": [
  {
   "cell_type": "markdown",
   "id": "db1aec04",
   "metadata": {},
   "source": [
    "# Understand Difference in @function V/S function()()"
   ]
  },
  {
   "cell_type": "markdown",
   "id": "b73c3808",
   "metadata": {},
   "source": [
    "<br><br>\n",
    "\n",
    "# Normal function()"
   ]
  },
  {
   "cell_type": "code",
   "execution_count": 24,
   "id": "57732335",
   "metadata": {},
   "outputs": [],
   "source": [
    "def function(func):\n",
    "    print(\"Inside Function\")\n",
    "    def wrapper():\n",
    "        print(\"Inside Wrapper\")\n",
    "        return func\n",
    "    return wrapper"
   ]
  },
  {
   "cell_type": "code",
   "execution_count": 25,
   "id": "94fac8c2",
   "metadata": {},
   "outputs": [],
   "source": [
    "def square(n):\n",
    "    print(\"Inside Square\")\n",
    "    return n**2"
   ]
  },
  {
   "cell_type": "code",
   "execution_count": 26,
   "id": "833ee118",
   "metadata": {},
   "outputs": [
    {
     "name": "stdout",
     "output_type": "stream",
     "text": [
      "Inside Square\n",
      "Inside Function\n",
      "Inside Wrapper\n"
     ]
    },
    {
     "data": {
      "text/plain": [
       "4"
      ]
     },
     "execution_count": 26,
     "metadata": {},
     "output_type": "execute_result"
    }
   ],
   "source": [
    "dec = function(square(2))\n",
    "dec()"
   ]
  },
  {
   "cell_type": "markdown",
   "id": "1477b348",
   "metadata": {},
   "source": [
    "# @function"
   ]
  },
  {
   "cell_type": "code",
   "execution_count": 20,
   "id": "e56efac9",
   "metadata": {},
   "outputs": [],
   "source": [
    "def function(func):\n",
    "    print(\"Inside Function\")\n",
    "    def wrapper(arg):\n",
    "        # this arg is pass from square(x)\n",
    "        # arg <---- x\n",
    "        \n",
    "        print(\"Inside Wrapper\")\n",
    "        \n",
    "        # Now here we need to call func(arg)\n",
    "        # func(arg) are same a square(2)\n",
    "    \n",
    "        return func(arg)\n",
    "    return wrapper"
   ]
  },
  {
   "cell_type": "code",
   "execution_count": 21,
   "id": "f76b57ef",
   "metadata": {},
   "outputs": [
    {
     "name": "stdout",
     "output_type": "stream",
     "text": [
      "Inside Function\n",
      "Inside Wrapper\n",
      "Inside Square\n",
      "4\n"
     ]
    }
   ],
   "source": [
    "@function\n",
    "def square(n):\n",
    "    print(\"Inside Square\")\n",
    "    return n**2\n",
    "\n",
    "print(square(2))"
   ]
  },
  {
   "cell_type": "markdown",
   "id": "df7da78a",
   "metadata": {},
   "source": [
    "# Compare it"
   ]
  },
  {
   "cell_type": "markdown",
   "id": "857f1010",
   "metadata": {},
   "source": [
    "<table>\n",
    "    \n",
    "<td style=\"color:#5d2ade; font-size:30px;   text-align: center;\">function</td>\n",
    "      \n",
    "<td style=\"color:#d96518; font-size:30px;   text-align: center;\">@function</td>\n",
    "  \n",
    "</tr>\n",
    " <tr>\n",
    "\n",
    "<td style=\"color:#5d2ade; font-size:20px;\"><p>1) function store in memory<br>\n",
    "</p></td>\n",
    "      \n",
    "<td style=\"color:#d96518; font-size:20px;\"><p>1) @function store in memory</p></td>\n",
    "  \n",
    "</tr>\n",
    " <tr>\n",
    "\n",
    "<td style=\"color:#5d2ade; font-size:20px;\"><p>2) square store in memory.<p>\n",
    "</td>\n",
    "      \n",
    "<td style=\"color:#d96518; font-size:20px;\"><p>2) print Inside Function.</p></td>\n",
    "</tr>\n",
    "\n",
    "<tr>\n",
    "\n",
    "<td style=\"color:#5d2ade; font-size:20px;\"><p>3) pass 2 in square<p>\n",
    "</td>\n",
    "      \n",
    "<td style=\"color:#d96518; font-size:20px;\"><p>3) wrapper Inside In Memory</p>\n",
    "    \n",
    "</td></tr>\n",
    "<tr>\n",
    "<td style=\"color:#5d2ade; font-size:20px;\"><p>4) print Inside Square<p>\n",
    "</td>\n",
    "      \n",
    "<td style=\"color:#d96518; font-size:20px;\"><p>4) return wrapper </p></td>\n",
    "\n",
    "</tr>\n",
    "\n",
    "<tr>\n",
    "<td style=\"color:#5d2ade; font-size:20px;\"><p>5) return n**2 = 4<p>\n",
    "</td>\n",
    "      \n",
    "<td style=\"color:#d96518; font-size:20px;\"><p>5) square store in Memory</p></td>\n",
    "\n",
    "</tr>\n",
    "\n",
    " <tr>\n",
    "<td style=\"color:#5d2ade; font-size:20px;\"><p>6) pass 4 to function<p>\n",
    "</td>\n",
    "      \n",
    "<td style=\"color:#d96518; font-size:20px;\"><p>6) call square function</p></td>\n",
    "\n",
    "</tr>\n",
    "\n",
    " <tr>\n",
    "<td style=\"color:#5d2ade; font-size:20px;\"><p>7) print Inside function<p>\n",
    "</td>\n",
    "      \n",
    "<td style=\"color:#d96518; font-size:20px;\"><p>7) call wrapper</td>\n",
    "\n",
    "</tr>\n",
    "\n",
    "\n",
    " <tr>\n",
    "<td style=\"color:#5d2ade; font-size:20px;\"><p>8) wrapper function in memory<p>\n",
    "</td>\n",
    "      \n",
    "<td style=\"color:#d96518; font-size:20px;\"><p>8) print Inside wrapper </p></td>\n",
    "\n",
    "</tr>\n",
    "\n",
    " <tr>\n",
    "<td style=\"color:#5d2ade; font-size:20px;\"><p>9) return wrapper refference and store it function<p>\n",
    "</td>\n",
    "      \n",
    "<td style=\"color:#d96518; font-size:20px;\"><p>9) return refference of func(arg) wheres func(arg) = square(2)</p></td>\n",
    "\n",
    "</tr>\n",
    "\n",
    " <tr>\n",
    "<td style=\"color:#5d2ade; font-size:20px;\"><p>10) and function store in dec<p>\n",
    "</td>\n",
    "      \n",
    "<td style=\"color:#d96518; font-size:20px;\"><p>10) pass 2 in square </p></td>\n",
    "\n",
    "</tr>\n",
    "\n",
    "\n",
    " <tr>\n",
    "<td style=\"color:#5d2ade; font-size:20px;\"><p>11) call dec<p>\n",
    "</td>\n",
    "      \n",
    "<td style=\"color:#d96518; font-size:20px;\"><p>11) print inside square </p></td>\n",
    "\n",
    "</tr>\n",
    "\n",
    " <tr>\n",
    "<td style=\"color:#5d2ade; font-size:20px;\"><p>12) Now control flow inside wrapper<p></td>\n",
    "      \n",
    "<td style=\"color:#d96518; font-size:20px;\"><p>12) return refference 4 form square </p></td>\n",
    "\n",
    "</tr>\n",
    "\n",
    " <tr>\n",
    "<td style=\"color:#5d2ade; font-size:20px;\"><p>13) print Inside wrapper<p></td>\n",
    "      \n",
    "<td style=\"color:#d96518; font-size:20px;\"><p>13) Now return func(arg) which are stored 4 from square</p></td>\n",
    "\n",
    "</tr>\n",
    "\n",
    "\n",
    " <tr>\n",
    "<td style=\"color:#5d2ade; font-size:20px;\"><p>14) return func (argument of function)</td>\n",
    "      \n",
    "<td style=\"color:#d96518; font-size:20px;\"><p>14) Now output is 4 </p></td>\n",
    "\n",
    "</tr>\n",
    "\n",
    " <tr>\n",
    "<td style=\"color:#5d2ade; font-size:20px;\"><p>15) return func refference to dec</td>\n",
    "      \n",
    "<td style=\"color:#d96518; font-size:20px;\"><p></p></td>\n",
    "\n",
    "</tr>\n",
    "\n",
    " <tr>\n",
    "<td style=\"color:#5d2ade; font-size:20px;\"><p>16) Now output is 4</td>\n",
    "      \n",
    "<td style=\"color:#d96518; font-size:20px;\"><p></p></td>\n",
    "\n",
    "</tr>\n",
    "\n",
    "\n",
    "\n",
    "</table>\n"
   ]
  },
  {
   "cell_type": "markdown",
   "id": "0edeb8e3",
   "metadata": {},
   "source": [
    "# @ used with parameter Example"
   ]
  },
  {
   "cell_type": "code",
   "execution_count": 187,
   "id": "d2ccfc74",
   "metadata": {},
   "outputs": [],
   "source": [
    "def only_data_type(data_type):\n",
    "    \n",
    "    def decoractor(function):        \n",
    "        def wrapper(*args,**kwargs):\n",
    "            \n",
    "            if all([ type(i) == data_type for i in args ]):\n",
    "                return function(*args,**kwargs)\n",
    "            \n",
    "            print(f\"Only { str(data_type).split(' ')[-1] } are Allowed\")\n",
    "    \n",
    "        return wrapper\n",
    "    \n",
    "    return decoractor"
   ]
  },
  {
   "cell_type": "markdown",
   "id": "b2c55238",
   "metadata": {},
   "source": [
    "# concatenation"
   ]
  },
  {
   "cell_type": "code",
   "execution_count": 188,
   "id": "e348d11f",
   "metadata": {},
   "outputs": [],
   "source": [
    "@only_data_type(str)\n",
    "def concat(*args):\n",
    "    strings = \"\"\n",
    "    for i in args:\n",
    "        strings += i\n",
    "    return strings"
   ]
  },
  {
   "cell_type": "code",
   "execution_count": 190,
   "id": "51a58ddf",
   "metadata": {},
   "outputs": [
    {
     "data": {
      "text/plain": [
       "'MUBEEN'"
      ]
     },
     "execution_count": 190,
     "metadata": {},
     "output_type": "execute_result"
    }
   ],
   "source": [
    "concat(\"M\",\"U\",\"B\",\"E\",\"E\",\"N\")"
   ]
  },
  {
   "cell_type": "code",
   "execution_count": 191,
   "id": "99237d5a",
   "metadata": {},
   "outputs": [
    {
     "name": "stdout",
     "output_type": "stream",
     "text": [
      "Only 'str'> are Allowed\n"
     ]
    }
   ],
   "source": [
    "concat(1,2,3)"
   ]
  }
 ],
 "metadata": {
  "kernelspec": {
   "display_name": "Python 3 (ipykernel)",
   "language": "python",
   "name": "python3"
  },
  "language_info": {
   "codemirror_mode": {
    "name": "ipython",
    "version": 3
   },
   "file_extension": ".py",
   "mimetype": "text/x-python",
   "name": "python",
   "nbconvert_exporter": "python",
   "pygments_lexer": "ipython3",
   "version": "3.10.6"
  }
 },
 "nbformat": 4,
 "nbformat_minor": 5
}

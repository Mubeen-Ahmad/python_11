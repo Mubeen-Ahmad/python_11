{
 "cells": [
  {
   "cell_type": "markdown",
   "id": "23eacc77",
   "metadata": {},
   "source": [
    "# Decorators\n",
    "\n",
    "<h3 style=\"color:#4e2abd;\">\n",
    "A decorator in python is a function that receives another function as input and adds some functionality(decoration) to and it and returns it.<br><br>This can happen only because python functions are 1st class citizens.\n",
    "<br><br>There are 2 types of decorators available in python<br><br>\n",
    "Built in decorators : like @staticmethod, @classmethod, @abstractmethod and @property etc<br><br>\n",
    "User defined decorators : that we programmers can create according to our needs\n",
    "</h3>"
   ]
  },
  {
   "cell_type": "markdown",
   "id": "b8a4de4b",
   "metadata": {},
   "source": [
    "# Note First UnderStand Closer Function topic <a href=\"https://github.com/Mubeen-Ahmad/python_11/blob/main/Python/12_Functions/closer_Function.ipynb\">Click Here</a><br><br><br>"
   ]
  },
  {
   "cell_type": "markdown",
   "id": "78db5645",
   "metadata": {},
   "source": [
    "# Example 1\n"
   ]
  },
  {
   "cell_type": "code",
   "execution_count": 25,
   "id": "30b0ff25",
   "metadata": {},
   "outputs": [],
   "source": [
    "def func1():\n",
    "    print(\"THIS IS FUNCTION 1\")"
   ]
  },
  {
   "cell_type": "code",
   "execution_count": 24,
   "id": "9e3226fa",
   "metadata": {},
   "outputs": [],
   "source": [
    "def func2():\n",
    "    print(\"THIS IS FUNCTION 2\")"
   ]
  },
  {
   "cell_type": "markdown",
   "id": "f5d361c9",
   "metadata": {},
   "source": [
    "### Here we have two function So Task is print a String \"Welcome\" Before print both function Lines\n",
    "## And I can't Permission to modify both function ?"
   ]
  },
  {
   "cell_type": "markdown",
   "id": "af3db44e",
   "metadata": {},
   "source": [
    "##  It is Possible with Decorator"
   ]
  },
  {
   "cell_type": "code",
   "execution_count": 63,
   "id": "6b3c0733",
   "metadata": {},
   "outputs": [],
   "source": [
    "def decorator(any_func):\n",
    "    \n",
    "    def wrapper():\n",
    "        \n",
    "        print(\"\\nWelcome\\n\")\n",
    "        \n",
    "        return any_func()\n",
    "    \n",
    "    return wrapper()"
   ]
  },
  {
   "cell_type": "code",
   "execution_count": 64,
   "id": "cfd5ba2f",
   "metadata": {},
   "outputs": [
    {
     "name": "stdout",
     "output_type": "stream",
     "text": [
      "\n",
      "Welcome\n",
      "\n",
      "THIS IS FUNCTION 1\n"
     ]
    }
   ],
   "source": [
    "decorator(func1)"
   ]
  },
  {
   "cell_type": "code",
   "execution_count": 65,
   "id": "93a2b18a",
   "metadata": {},
   "outputs": [
    {
     "name": "stdout",
     "output_type": "stream",
     "text": [
      "\n",
      "Welcome\n",
      "\n",
      "THIS IS FUNCTION 2\n"
     ]
    }
   ],
   "source": [
    "decorator(func2)"
   ]
  },
  {
   "cell_type": "markdown",
   "id": "9aece747",
   "metadata": {},
   "source": [
    "# Example 2\n",
    "\n",
    "## call outside the function"
   ]
  },
  {
   "cell_type": "code",
   "execution_count": 66,
   "id": "e47844ba",
   "metadata": {},
   "outputs": [],
   "source": [
    "def decorator(any_func):\n",
    "    \n",
    "    def wrapper():\n",
    "        \n",
    "        print(\"\\nWelcome\\n\")\n",
    "        \n",
    "        return any_func\n",
    "    \n",
    "    return wrapper"
   ]
  },
  {
   "cell_type": "code",
   "execution_count": 67,
   "id": "9c7d0fd7",
   "metadata": {},
   "outputs": [],
   "source": [
    "var = decorator(func1)"
   ]
  },
  {
   "cell_type": "code",
   "execution_count": 68,
   "id": "7452e813",
   "metadata": {},
   "outputs": [
    {
     "name": "stdout",
     "output_type": "stream",
     "text": [
      "\n",
      "Welcome\n",
      "\n"
     ]
    },
    {
     "data": {
      "text/plain": [
       "<function __main__.func1()>"
      ]
     },
     "execution_count": 68,
     "metadata": {},
     "output_type": "execute_result"
    }
   ],
   "source": [
    "# call var\n",
    "var()"
   ]
  },
  {
   "cell_type": "code",
   "execution_count": 73,
   "id": "2534f6c6",
   "metadata": {},
   "outputs": [
    {
     "name": "stdout",
     "output_type": "stream",
     "text": [
      "\n",
      "Welcome\n",
      "\n"
     ]
    }
   ],
   "source": [
    "# call func1\n",
    "inner = var()"
   ]
  },
  {
   "cell_type": "code",
   "execution_count": 74,
   "id": "37f74c13",
   "metadata": {},
   "outputs": [
    {
     "name": "stdout",
     "output_type": "stream",
     "text": [
      "THIS IS FUNCTION 1\n"
     ]
    }
   ],
   "source": [
    "inner()"
   ]
  },
  {
   "cell_type": "markdown",
   "id": "cea0dd3a",
   "metadata": {},
   "source": [
    "# Call both functions"
   ]
  },
  {
   "cell_type": "code",
   "execution_count": 80,
   "id": "14bfc9ea",
   "metadata": {},
   "outputs": [
    {
     "name": "stdout",
     "output_type": "stream",
     "text": [
      "\n",
      "Welcome\n",
      "\n",
      "THIS IS FUNCTION 1\n"
     ]
    }
   ],
   "source": [
    "var()()"
   ]
  },
  {
   "cell_type": "code",
   "execution_count": 92,
   "id": "08217f40",
   "metadata": {},
   "outputs": [
    {
     "name": "stdout",
     "output_type": "stream",
     "text": [
      "\n",
      "Welcome\n",
      "\n",
      "THIS IS FUNCTION 1\n"
     ]
    }
   ],
   "source": [
    "decorator(func1)()()"
   ]
  },
  {
   "cell_type": "code",
   "execution_count": 93,
   "id": "4e0718cb",
   "metadata": {},
   "outputs": [
    {
     "name": "stdout",
     "output_type": "stream",
     "text": [
      "\n",
      "Welcome\n",
      "\n",
      "THIS IS FUNCTION 2\n"
     ]
    }
   ],
   "source": [
    "decorator(func2)()()"
   ]
  },
  {
   "cell_type": "markdown",
   "id": "f9355802",
   "metadata": {},
   "source": [
    "# Example 3"
   ]
  },
  {
   "cell_type": "code",
   "execution_count": 94,
   "id": "be046172",
   "metadata": {},
   "outputs": [],
   "source": [
    "def decorator(func):\n",
    "    \n",
    "    \n",
    "    def wrapper():\n",
    "        print(\"******************** Start ********************\")\n",
    "        \n",
    "        # call func (argument of decorator function)\n",
    "        func()\n",
    "        \n",
    "        print(\"******************** End ********************\")\n",
    "        \n",
    "    # call wrapper function\n",
    "    wrapper()"
   ]
  },
  {
   "cell_type": "code",
   "execution_count": 95,
   "id": "edce84d4",
   "metadata": {},
   "outputs": [],
   "source": [
    "def hello():\n",
    "    print(\"Hello\")"
   ]
  },
  {
   "cell_type": "code",
   "execution_count": 96,
   "id": "0f794f67",
   "metadata": {},
   "outputs": [
    {
     "name": "stdout",
     "output_type": "stream",
     "text": [
      "******************** Start ********************\n",
      "Hello\n",
      "******************** End ********************\n"
     ]
    }
   ],
   "source": [
    "# hello pass in decorator hello = func \n",
    "\n",
    "# and func() call inside the wrapper function so first need to call wrapper\n",
    "\n",
    "# wrapper() ---> func() ----> print start ,hello() ,print end  \n",
    "\n",
    "\n",
    "decorator(hello)"
   ]
  },
  {
   "cell_type": "markdown",
   "id": "4f8021b1",
   "metadata": {},
   "source": [
    "## Example 4"
   ]
  },
  {
   "cell_type": "code",
   "execution_count": 181,
   "id": "5e265510",
   "metadata": {},
   "outputs": [],
   "source": [
    "def func_1():\n",
    "    print(\"I am func_1\")"
   ]
  },
  {
   "cell_type": "code",
   "execution_count": 182,
   "id": "a54fa7ec",
   "metadata": {},
   "outputs": [],
   "source": [
    "def decoractors(function):\n",
    "    \n",
    "    def wrapper():\n",
    "        print(\"\\nWelcome\\n\")\n",
    "        \n",
    "        return function\n",
    "    return wrapper"
   ]
  },
  {
   "cell_type": "code",
   "execution_count": 183,
   "id": "f2fea5d9",
   "metadata": {},
   "outputs": [],
   "source": [
    "var = decoractors(func_1)"
   ]
  },
  {
   "cell_type": "code",
   "execution_count": 184,
   "id": "88a9534e",
   "metadata": {},
   "outputs": [
    {
     "name": "stdout",
     "output_type": "stream",
     "text": [
      "\n",
      "Welcome\n",
      "\n"
     ]
    }
   ],
   "source": [
    "inner = var()"
   ]
  },
  {
   "cell_type": "code",
   "execution_count": 185,
   "id": "832e2fec",
   "metadata": {},
   "outputs": [
    {
     "name": "stdout",
     "output_type": "stream",
     "text": [
      "I am func_1\n"
     ]
    }
   ],
   "source": [
    "inner()"
   ]
  },
  {
   "cell_type": "code",
   "execution_count": 186,
   "id": "3c787052",
   "metadata": {},
   "outputs": [
    {
     "name": "stdout",
     "output_type": "stream",
     "text": [
      "\n",
      "Welcome\n",
      "\n",
      "I am func_1\n"
     ]
    }
   ],
   "source": [
    "var()()"
   ]
  },
  {
   "cell_type": "markdown",
   "id": "25466923",
   "metadata": {},
   "source": [
    "## use @ Symbole"
   ]
  },
  {
   "cell_type": "code",
   "execution_count": 23,
   "id": "d83abb3a",
   "metadata": {},
   "outputs": [],
   "source": [
    "def decoractors(function):\n",
    "    \n",
    "    def wrapper():\n",
    "        print(\"\\nWelcome\\n\")\n",
    "        \n",
    "        return function()\n",
    "    return wrapper"
   ]
  },
  {
   "cell_type": "markdown",
   "id": "7bcb1e66",
   "metadata": {},
   "source": [
    "### it is important use @function_name "
   ]
  },
  {
   "cell_type": "code",
   "execution_count": 24,
   "id": "6819903a",
   "metadata": {},
   "outputs": [],
   "source": [
    "@decoractors\n",
    "\n",
    "def func1():\n",
    "    print(\"I am func1\")"
   ]
  },
  {
   "cell_type": "code",
   "execution_count": 25,
   "id": "c7f27927",
   "metadata": {},
   "outputs": [
    {
     "name": "stdout",
     "output_type": "stream",
     "text": [
      "\n",
      "Welcome\n",
      "\n",
      "I am func1\n"
     ]
    }
   ],
   "source": [
    "func1()"
   ]
  },
  {
   "cell_type": "code",
   "execution_count": 27,
   "id": "1ac61e40",
   "metadata": {},
   "outputs": [],
   "source": [
    "@decoractors\n",
    "\n",
    "def func2():\n",
    "    print(\"I am func2\")"
   ]
  },
  {
   "cell_type": "code",
   "execution_count": 29,
   "id": "e051c8d6",
   "metadata": {},
   "outputs": [
    {
     "name": "stdout",
     "output_type": "stream",
     "text": [
      "\n",
      "Welcome\n",
      "\n",
      "I am func2\n"
     ]
    }
   ],
   "source": [
    "func2()"
   ]
  },
  {
   "cell_type": "markdown",
   "id": "b7c247a9",
   "metadata": {},
   "source": [
    "<br>\n",
    "\n",
    "# Three Important thing need for decorators\n",
    "<br>\n",
    "\n",
    "* ## 1 Need to take a function as parameter\n",
    "* ## 2 Add Functionality to the function (inner function)\n",
    "* ## 3 Function need to return another function (reference function)"
   ]
  },
  {
   "cell_type": "code",
   "execution_count": 1,
   "id": "7f30cfde",
   "metadata": {},
   "outputs": [],
   "source": [
    "def outer (func):\n",
    "    # Need to take a function as parameter (func)\n",
    "    \n",
    "    def inner():\n",
    "        \n",
    "        # ---------------------------------\n",
    "        # ADD Functionality to the function\n",
    "        str1 = func()\n",
    "        return str1.upper()\n",
    "        # ----------------------------------\n",
    "    \n",
    "    # ---------------------------\n",
    "    # Function need to return another function\n",
    "    return inner\n",
    "    #----------------------------\n",
    "    "
   ]
  },
  {
   "cell_type": "code",
   "execution_count": 2,
   "id": "fcad3adc",
   "metadata": {},
   "outputs": [
    {
     "data": {
      "text/plain": [
       "'MUBEEN'"
      ]
     },
     "execution_count": 2,
     "metadata": {},
     "output_type": "execute_result"
    }
   ],
   "source": [
    "@outer\n",
    "def st():\n",
    "    return \"Mubeen\"\n",
    "\n",
    "st()"
   ]
  },
  {
   "cell_type": "markdown",
   "id": "30180368",
   "metadata": {},
   "source": [
    "# Calling refference Function inside decorator"
   ]
  },
  {
   "cell_type": "code",
   "execution_count": 4,
   "id": "a0d8db7b",
   "metadata": {},
   "outputs": [],
   "source": [
    "def outer (func):    \n",
    "    def inner():\n",
    "        str1 = func()\n",
    "        return str1.upper()\n",
    "    #------------------\n",
    "    # call here function\n",
    "    return inner()\n",
    "    #------------------\n",
    "    "
   ]
  },
  {
   "cell_type": "code",
   "execution_count": 5,
   "id": "02b9fef4",
   "metadata": {},
   "outputs": [
    {
     "name": "stdout",
     "output_type": "stream",
     "text": [
      "ANON\n"
     ]
    }
   ],
   "source": [
    "@outer\n",
    "def st():\n",
    "    return \"anon\"\n",
    "\n",
    "# now here we don't need to call function here\n",
    "#print(st())\n",
    "\n",
    "print(st)"
   ]
  },
  {
   "cell_type": "markdown",
   "id": "a224a847",
   "metadata": {},
   "source": [
    "# Multiple Decorators"
   ]
  },
  {
   "cell_type": "code",
   "execution_count": 6,
   "id": "ea8eadc5",
   "metadata": {},
   "outputs": [],
   "source": [
    "def upper(func):\n",
    "    \n",
    "    def inner():\n",
    "        str1 = func()\n",
    "        return str1.upper()\n",
    "    \n",
    "    return inner\n",
    "    \n",
    "def space_replace(func):\n",
    "    \n",
    "    def inner2():\n",
    "        str1 = func()\n",
    "        return str1.replace(\" \",\"_\")\n",
    "    return inner2\n"
   ]
  },
  {
   "cell_type": "markdown",
   "id": "79febea6",
   "metadata": {},
   "source": [
    "## Here first call upper decorator than call space_replace decorator"
   ]
  },
  {
   "cell_type": "code",
   "execution_count": 7,
   "id": "f108a31e",
   "metadata": {},
   "outputs": [
    {
     "name": "stdout",
     "output_type": "stream",
     "text": [
      "HELLO_ANON\n"
     ]
    }
   ],
   "source": [
    "@space_replace\n",
    "@upper\n",
    "\n",
    "def string():\n",
    "    return \"Hello Anon\"\n",
    "\n",
    "print(string())"
   ]
  },
  {
   "cell_type": "markdown",
   "id": "e0fa6f2d",
   "metadata": {},
   "source": [
    "### Note Avoid Calling Refference function when are used Multiple decorators"
   ]
  },
  {
   "cell_type": "markdown",
   "id": "275bf873",
   "metadata": {},
   "source": [
    "# Multiple Parameter"
   ]
  },
  {
   "cell_type": "code",
   "execution_count": 9,
   "id": "daabc925",
   "metadata": {},
   "outputs": [],
   "source": [
    "def outer(expr1,expr2):\n",
    "     \n",
    "    def upper(func):\n",
    "        \n",
    "        def inner():\n",
    "            return func() + expr1 + expr2\n",
    "        return inner\n",
    "    \n",
    "    return upper"
   ]
  },
  {
   "cell_type": "code",
   "execution_count": 10,
   "id": "588ac0b3",
   "metadata": {},
   "outputs": [
    {
     "name": "stdout",
     "output_type": "stream",
     "text": [
      "Welcome Mubeen Ahmad\n"
     ]
    }
   ],
   "source": [
    "@outer(\"Mubeen\",\" Ahmad\")\n",
    "def string():\n",
    "    return \"Welcome \"\n",
    "\n",
    "print(string())"
   ]
  },
  {
   "cell_type": "markdown",
   "id": "4c30506e",
   "metadata": {},
   "source": [
    "## Take Arguments"
   ]
  },
  {
   "cell_type": "code",
   "execution_count": 30,
   "id": "fc08e17b",
   "metadata": {},
   "outputs": [],
   "source": [
    "@decoractors\n",
    "\n",
    "def func3(x):\n",
    "    print(x)"
   ]
  },
  {
   "cell_type": "code",
   "execution_count": 31,
   "id": "c03bb42d",
   "metadata": {},
   "outputs": [
    {
     "name": "stdout",
     "output_type": "stream",
     "text": [
      "\n",
      "Welcome\n",
      "\n"
     ]
    },
    {
     "ename": "TypeError",
     "evalue": "func3() missing 1 required positional argument: 'x'",
     "output_type": "error",
     "traceback": [
      "\u001b[0;31m---------------------------------------------------------------------------\u001b[0m",
      "\u001b[0;31mTypeError\u001b[0m                                 Traceback (most recent call last)",
      "Cell \u001b[0;32mIn [31], line 1\u001b[0m\n\u001b[0;32m----> 1\u001b[0m \u001b[43mfunc3\u001b[49m\u001b[43m(\u001b[49m\u001b[43m)\u001b[49m\n",
      "Cell \u001b[0;32mIn [23], line 6\u001b[0m, in \u001b[0;36mdecoractors.<locals>.wrapper\u001b[0;34m()\u001b[0m\n\u001b[1;32m      3\u001b[0m \u001b[38;5;28;01mdef\u001b[39;00m \u001b[38;5;21mwrapper\u001b[39m():\n\u001b[1;32m      4\u001b[0m     \u001b[38;5;28mprint\u001b[39m(\u001b[38;5;124m\"\u001b[39m\u001b[38;5;130;01m\\n\u001b[39;00m\u001b[38;5;124mWelcome\u001b[39m\u001b[38;5;130;01m\\n\u001b[39;00m\u001b[38;5;124m\"\u001b[39m)\n\u001b[0;32m----> 6\u001b[0m     \u001b[38;5;28;01mreturn\u001b[39;00m \u001b[43mfunction\u001b[49m\u001b[43m(\u001b[49m\u001b[43m)\u001b[49m\n",
      "\u001b[0;31mTypeError\u001b[0m: func3() missing 1 required positional argument: 'x'"
     ]
    }
   ],
   "source": [
    "func3()"
   ]
  },
  {
   "cell_type": "markdown",
   "id": "a125f0b2",
   "metadata": {},
   "source": [
    "# Use `*args ` and `**kwargs` in function"
   ]
  },
  {
   "cell_type": "code",
   "execution_count": 47,
   "id": "fa5f9685",
   "metadata": {},
   "outputs": [],
   "source": [
    "def dec(any_function):\n",
    "    \n",
    "    def wrapper(*args,**kwargs):\n",
    "        \n",
    "        print(\"\\nWelcome\\n\")\n",
    "        \n",
    "        return any_function(*args,**kwargs) # x \n",
    "\n",
    "        \n",
    "    return wrapper"
   ]
  },
  {
   "cell_type": "code",
   "execution_count": 53,
   "id": "14b8a616",
   "metadata": {},
   "outputs": [],
   "source": [
    "@dec\n",
    "def func4(*args,**kwargs):\n",
    "    return args,kwargs"
   ]
  },
  {
   "cell_type": "code",
   "execution_count": 54,
   "id": "b66d2e14",
   "metadata": {},
   "outputs": [
    {
     "name": "stdout",
     "output_type": "stream",
     "text": [
      "\n",
      "Welcome\n",
      "\n"
     ]
    },
    {
     "data": {
      "text/plain": [
       "((10,), {})"
      ]
     },
     "execution_count": 54,
     "metadata": {},
     "output_type": "execute_result"
    }
   ],
   "source": [
    "func4(10)"
   ]
  },
  {
   "cell_type": "code",
   "execution_count": 61,
   "id": "18c1fea2",
   "metadata": {},
   "outputs": [
    {
     "name": "stdout",
     "output_type": "stream",
     "text": [
      "\n",
      "Welcome\n",
      "\n"
     ]
    },
    {
     "data": {
      "text/plain": [
       "(('Students',), {'Name': 'Mubeen', 'roll_no': 889})"
      ]
     },
     "execution_count": 61,
     "metadata": {},
     "output_type": "execute_result"
    }
   ],
   "source": [
    "func4(\"Students\",Name=\"Mubeen\",roll_no=889)"
   ]
  },
  {
   "cell_type": "markdown",
   "id": "392341b2",
   "metadata": {},
   "source": [
    "# Doc_String in decoractors"
   ]
  },
  {
   "cell_type": "code",
   "execution_count": 80,
   "id": "944d2c7d",
   "metadata": {},
   "outputs": [],
   "source": [
    "def my_dec(function):\n",
    "    \n",
    "    def wrapper(*aargs,**kwargs):\n",
    "        \"\"\"This is wrapper function\"\"\"\n",
    "        \n",
    "        return function(*args,**kwargs)\n",
    "    \n",
    "    return wrapper\n"
   ]
  },
  {
   "cell_type": "code",
   "execution_count": 81,
   "id": "624aa4d3",
   "metadata": {},
   "outputs": [],
   "source": [
    "@my_dec\n",
    "def add(a,b):\n",
    "    \"\"\"This is add Function\"\"\"\n",
    "    return a+b"
   ]
  },
  {
   "cell_type": "markdown",
   "id": "b939069c",
   "metadata": {},
   "source": [
    "## Now print doc string of add"
   ]
  },
  {
   "cell_type": "code",
   "execution_count": 82,
   "id": "b3498cef",
   "metadata": {},
   "outputs": [
    {
     "data": {
      "text/plain": [
       "'This is wrapper function'"
      ]
     },
     "execution_count": 82,
     "metadata": {},
     "output_type": "execute_result"
    }
   ],
   "source": [
    "add.__doc__\n",
    "\n",
    "# doc String can't print for add function ?"
   ]
  },
  {
   "cell_type": "code",
   "execution_count": 83,
   "id": "a6025bb1",
   "metadata": {},
   "outputs": [
    {
     "data": {
      "text/plain": [
       "'wrapper'"
      ]
     },
     "execution_count": 83,
     "metadata": {},
     "output_type": "execute_result"
    }
   ],
   "source": [
    "add.__name__\n",
    "\n",
    "# also function name is wrapper not add ?"
   ]
  },
  {
   "cell_type": "markdown",
   "id": "a875e26e",
   "metadata": {},
   "source": [
    "## use functools ---> wraps module for Fix this problem"
   ]
  },
  {
   "cell_type": "code",
   "execution_count": 4,
   "id": "83470829",
   "metadata": {},
   "outputs": [],
   "source": [
    "from functools import wraps"
   ]
  },
  {
   "cell_type": "code",
   "execution_count": 84,
   "id": "ec494a99",
   "metadata": {},
   "outputs": [],
   "source": [
    "def decoractors(function):\n",
    "    \n",
    "    # use @wraps  ---> @wraps(function)\n",
    "    \n",
    "    @wraps(function)\n",
    "    \n",
    "    def wrapper(*args,**kwargs):\n",
    "        \n",
    "        \"\"\"This is wrapper function\"\"\"\n",
    "\n",
    "        \n",
    "        return function(*args,**kwargs)\n",
    "    \n",
    "    return wrapper"
   ]
  },
  {
   "cell_type": "code",
   "execution_count": 85,
   "id": "90593827",
   "metadata": {},
   "outputs": [],
   "source": [
    "@decoractors\n",
    "def add(a,b):\n",
    "    \"\"\"This is add Function\"\"\"\n",
    "    return a+b"
   ]
  },
  {
   "cell_type": "markdown",
   "id": "84a67f05",
   "metadata": {},
   "source": [
    "# now print doc string and function name"
   ]
  },
  {
   "cell_type": "code",
   "execution_count": 86,
   "id": "b07162cf",
   "metadata": {},
   "outputs": [
    {
     "data": {
      "text/plain": [
       "'This is add Function'"
      ]
     },
     "execution_count": 86,
     "metadata": {},
     "output_type": "execute_result"
    }
   ],
   "source": [
    "add.__doc__"
   ]
  },
  {
   "cell_type": "code",
   "execution_count": 87,
   "id": "3ed86be9",
   "metadata": {},
   "outputs": [
    {
     "data": {
      "text/plain": [
       "'add'"
      ]
     },
     "execution_count": 87,
     "metadata": {},
     "output_type": "execute_result"
    }
   ],
   "source": [
    "add.__name__"
   ]
  },
  {
   "cell_type": "markdown",
   "id": "6e1c8de1",
   "metadata": {},
   "source": [
    "# Create a decorator for calculate function Execution Time"
   ]
  },
  {
   "cell_type": "code",
   "execution_count": 52,
   "id": "d842b195",
   "metadata": {},
   "outputs": [],
   "source": [
    "\n",
    "\n",
    "def calculate_time(function):    \n",
    "    @wraps(function)\n",
    "    \n",
    "    def wrapper(*args,**kwargs):\n",
    "        \"\"\"This Function calculate the Exection Time\"\"\" \n",
    "        \n",
    "        import time\n",
    "        print(f\"Executing {function.__name__} Function\")\n",
    "        t1 = time.time()\n",
    "        returnd_values = function(*args,**kwargs)\n",
    "        t2 = time.time()\n",
    "        print(f\"This Function took {t2-t1} seconds\")\n",
    "        return returnd_values\n",
    "    \n",
    "\n",
    "    return wrapper"
   ]
  },
  {
   "cell_type": "code",
   "execution_count": 55,
   "id": "6b431baf",
   "metadata": {},
   "outputs": [],
   "source": [
    "@calculate_time\n",
    "def square(n):\n",
    "    r = [i**2 for i in range(1,n+1)]"
   ]
  },
  {
   "cell_type": "code",
   "execution_count": 56,
   "id": "140c09d2",
   "metadata": {},
   "outputs": [
    {
     "name": "stdout",
     "output_type": "stream",
     "text": [
      "Executing square Function\n",
      "This Function took 0.0008711814880371094 seconds\n"
     ]
    }
   ],
   "source": [
    "square(1000)"
   ]
  },
  {
   "cell_type": "code",
   "execution_count": 58,
   "id": "7d4b2cac",
   "metadata": {},
   "outputs": [
    {
     "name": "stdout",
     "output_type": "stream",
     "text": [
      "Executing square Function\n",
      "This Function took 0.02819204330444336 seconds\n"
     ]
    }
   ],
   "source": [
    "square(100000)"
   ]
  },
  {
   "cell_type": "markdown",
   "id": "1bb541b3",
   "metadata": {},
   "source": [
    "# checking data Type Decorator"
   ]
  },
  {
   "cell_type": "code",
   "execution_count": 59,
   "id": "6986e7a4",
   "metadata": {},
   "outputs": [],
   "source": [
    "def integers(function):\n",
    "    @wraps(function)\n",
    "    def wrapper(*args,**kwargs):\n",
    "        if all([type(i) == int for i in args ]):\n",
    "            return function(*args,**kwargs)\n",
    "        print(\"ONLY integers are allowed\")\n",
    "        \n",
    "    return wrapper\n",
    "        "
   ]
  },
  {
   "cell_type": "code",
   "execution_count": 77,
   "id": "1104d412",
   "metadata": {},
   "outputs": [],
   "source": [
    "@integers\n",
    "def sum(n):\n",
    "    total = 0\n",
    "    for i in range(1,n+1):\n",
    "        total += i\n",
    "    return total"
   ]
  },
  {
   "cell_type": "code",
   "execution_count": 83,
   "id": "1c70978c",
   "metadata": {},
   "outputs": [
    {
     "data": {
      "text/plain": [
       "6"
      ]
     },
     "execution_count": 83,
     "metadata": {},
     "output_type": "execute_result"
    }
   ],
   "source": [
    "sum(3)"
   ]
  },
  {
   "cell_type": "code",
   "execution_count": 84,
   "id": "58ef655c",
   "metadata": {},
   "outputs": [
    {
     "name": "stdout",
     "output_type": "stream",
     "text": [
      "ONLY integers are allowed\n"
     ]
    }
   ],
   "source": [
    "sum(\"3\")"
   ]
  },
  {
   "cell_type": "markdown",
   "id": "7f08a42b",
   "metadata": {},
   "source": [
    "# Decorators Arguments"
   ]
  },
  {
   "cell_type": "code",
   "execution_count": 124,
   "id": "7b510107",
   "metadata": {},
   "outputs": [],
   "source": [
    "def only_data_type(data_type):\n",
    "    \n",
    "    def decoractor(function):\n",
    "        \n",
    "        @wraps(function)\n",
    "        \n",
    "        def wrapper(*args,**kwargs):\n",
    "            \n",
    "            if all([ type(i) == data_type for i in args ]):\n",
    "                return function(*args,**kwargs)\n",
    "            \n",
    "            print(f\"Only {data_type} are Allowed\")\n",
    "    \n",
    "        return wrapper\n",
    "    \n",
    "    return decoractor"
   ]
  },
  {
   "cell_type": "code",
   "execution_count": 121,
   "id": "623286ff",
   "metadata": {},
   "outputs": [],
   "source": [
    "@only_data_type(str)\n",
    "def concat(*args):\n",
    "    strings = \"\"\n",
    "    for i in args:\n",
    "        strings += i\n",
    "    return strings"
   ]
  },
  {
   "cell_type": "code",
   "execution_count": 122,
   "id": "16b6b662",
   "metadata": {},
   "outputs": [
    {
     "data": {
      "text/plain": [
       "'Mubeen'"
      ]
     },
     "execution_count": 122,
     "metadata": {},
     "output_type": "execute_result"
    }
   ],
   "source": [
    "concat(\"M\",\"u\",\"b\",\"e\",\"e\",\"n\")"
   ]
  },
  {
   "cell_type": "code",
   "execution_count": 118,
   "id": "facd7c05",
   "metadata": {},
   "outputs": [
    {
     "data": {
      "text/plain": [
       "'ALI'"
      ]
     },
     "execution_count": 118,
     "metadata": {},
     "output_type": "execute_result"
    }
   ],
   "source": [
    "concat(\"A\",\"L\",\"I\")"
   ]
  },
  {
   "cell_type": "code",
   "execution_count": 125,
   "id": "c54fab68",
   "metadata": {},
   "outputs": [
    {
     "name": "stdout",
     "output_type": "stream",
     "text": [
      "Only <class 'str'> are Allowed\n"
     ]
    }
   ],
   "source": [
    "concat(1,2,3)"
   ]
  },
  {
   "cell_type": "code",
   "execution_count": 127,
   "id": "1f372caa",
   "metadata": {},
   "outputs": [],
   "source": [
    "@only_data_type(int)\n",
    "def sum(n):\n",
    "    total = 0\n",
    "    for i in range(1,n+1):\n",
    "        total += i\n",
    "    return total"
   ]
  },
  {
   "cell_type": "code",
   "execution_count": 130,
   "id": "82897ea9",
   "metadata": {},
   "outputs": [
    {
     "data": {
      "text/plain": [
       "55"
      ]
     },
     "execution_count": 130,
     "metadata": {},
     "output_type": "execute_result"
    }
   ],
   "source": [
    "sum(10)"
   ]
  },
  {
   "cell_type": "code",
   "execution_count": 131,
   "id": "9e05f5d6",
   "metadata": {},
   "outputs": [
    {
     "name": "stdout",
     "output_type": "stream",
     "text": [
      "Only <class 'int'> are Allowed\n"
     ]
    }
   ],
   "source": [
    "sum(\"100\")"
   ]
  },
  {
   "cell_type": "markdown",
   "id": "1d81ebee",
   "metadata": {},
   "source": [
    "# Store Functions Based on Decorator"
   ]
  },
  {
   "cell_type": "code",
   "execution_count": 163,
   "id": "f1a2bc3d",
   "metadata": {},
   "outputs": [],
   "source": [
    "functions_calls = []\n",
    "\n",
    "def total_Functions(func):\n",
    "    @wraps(func)\n",
    "    \n",
    "    def wrapper(*args,**kwargs):\n",
    "        functions_calls.append(func.__name__)\n",
    "        return func(*args,**kwargs)\n",
    "    \n",
    "    return wrapper\n",
    "        "
   ]
  },
  {
   "cell_type": "code",
   "execution_count": 164,
   "id": "489fbc0c",
   "metadata": {},
   "outputs": [],
   "source": [
    "@total_Functions\n",
    "def CNN():\n",
    "    print(\"This is CNN Model\")\n",
    "    \n",
    "\n",
    "@total_Functions\n",
    "def RNN():\n",
    "    print(\"This is RNN Model\")\n",
    "    \n"
   ]
  },
  {
   "cell_type": "code",
   "execution_count": 165,
   "id": "806e64ce",
   "metadata": {},
   "outputs": [
    {
     "data": {
      "text/plain": [
       "[]"
      ]
     },
     "execution_count": 165,
     "metadata": {},
     "output_type": "execute_result"
    }
   ],
   "source": [
    "functions_calls"
   ]
  },
  {
   "cell_type": "code",
   "execution_count": 166,
   "id": "44f1a026",
   "metadata": {},
   "outputs": [
    {
     "name": "stdout",
     "output_type": "stream",
     "text": [
      "This is CNN Model\n"
     ]
    }
   ],
   "source": [
    "CNN()"
   ]
  },
  {
   "cell_type": "code",
   "execution_count": 167,
   "id": "686fe5f0",
   "metadata": {},
   "outputs": [
    {
     "data": {
      "text/plain": [
       "['CNN']"
      ]
     },
     "execution_count": 167,
     "metadata": {},
     "output_type": "execute_result"
    }
   ],
   "source": [
    "functions_calls"
   ]
  },
  {
   "cell_type": "code",
   "execution_count": 168,
   "id": "fcf5c5b4",
   "metadata": {},
   "outputs": [
    {
     "name": "stdout",
     "output_type": "stream",
     "text": [
      "This is RNN Model\n"
     ]
    }
   ],
   "source": [
    "RNN()"
   ]
  },
  {
   "cell_type": "code",
   "execution_count": 169,
   "id": "5d9cf43d",
   "metadata": {},
   "outputs": [
    {
     "data": {
      "text/plain": [
       "['CNN', 'RNN']"
      ]
     },
     "execution_count": 169,
     "metadata": {},
     "output_type": "execute_result"
    }
   ],
   "source": [
    "functions_calls"
   ]
  },
  {
   "cell_type": "code",
   "execution_count": 170,
   "id": "95cd5a01",
   "metadata": {},
   "outputs": [
    {
     "name": "stdout",
     "output_type": "stream",
     "text": [
      "This is RNN Model\n"
     ]
    }
   ],
   "source": [
    "RNN()"
   ]
  },
  {
   "cell_type": "code",
   "execution_count": 171,
   "id": "a166614b",
   "metadata": {},
   "outputs": [
    {
     "data": {
      "text/plain": [
       "['CNN', 'RNN', 'RNN']"
      ]
     },
     "execution_count": 171,
     "metadata": {},
     "output_type": "execute_result"
    }
   ],
   "source": [
    "functions_calls"
   ]
  }
 ],
 "metadata": {
  "kernelspec": {
   "display_name": "Python 3 (ipykernel)",
   "language": "python",
   "name": "python3"
  },
  "language_info": {
   "codemirror_mode": {
    "name": "ipython",
    "version": 3
   },
   "file_extension": ".py",
   "mimetype": "text/x-python",
   "name": "python",
   "nbconvert_exporter": "python",
   "pygments_lexer": "ipython3",
   "version": "3.10.6"
  }
 },
 "nbformat": 4,
 "nbformat_minor": 5
}

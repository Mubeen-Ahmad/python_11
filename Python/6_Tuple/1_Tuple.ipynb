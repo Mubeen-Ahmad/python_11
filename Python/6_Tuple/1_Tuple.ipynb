{
 "cells": [
  {
   "cell_type": "markdown",
   "id": "b74d00a3",
   "metadata": {},
   "source": [
    "# A tuple in Python is similar to a list. <br><br>The difference between the two is that we cannot change the elements of a tuple once it is assigned whereas we can change the elements of a list.\n",
    "\n",
    "<h3>\n",
    "• Tuples are Immutable\n",
    "<br><br>\n",
    "• The items in the tuple are separated with the comma (,) and enclosed with the round brackets ().\n",
    "<br><br>\n",
    "• Indexing are Allowed<br><br>\n",
    "• Tuple are Orderd<br><br>\n",
    "• Duplicate Values are allowed<br><br>\n",
    "• Tuple are Static<br><br>\n",
    "• Multiple data Types are allowed\n",
    "\n",
    "\n",
    "\n",
    "\n",
    "</h3>"
   ]
  },
  {
   "cell_type": "markdown",
   "id": "bd7b0dc1",
   "metadata": {},
   "source": [
    "# Difference Between List and Tuple"
   ]
  },
  {
   "cell_type": "markdown",
   "id": "6d772c2f",
   "metadata": {},
   "source": [
    "<table>\n",
    "    \n",
    "<td style=\"color:#5d2ade; font-size:30px;   text-align: center;\">List</td>\n",
    "      \n",
    "<td style=\"color:#d96518; font-size:30px;   text-align: center;\">Tuple</td>\n",
    "  \n",
    "</tr>\n",
    " <tr>\n",
    "\n",
    "<td style=\"color:#5d2ade; font-size:20px;\"><p>Lists are mutable.</p></td>\n",
    "      \n",
    "<td style=\"color:#d96518; font-size:20px;\"><p>Tuple are Immutable.</p></td>\n",
    "  \n",
    "</tr>\n",
    " <tr>\n",
    "\n",
    "<td style=\"color:#5d2ade; font-size:20px;\"><p>The implication of iterations is Time-consuming<p>\n",
    "</td>\n",
    "      \n",
    "<td style=\"color:#d96518; font-size:20px;\"><p>The implication of iterations is comparatively Faster</p></td>\n",
    "</tr>\n",
    "\n",
    "<tr>\n",
    "\n",
    "<td style=\"color:#5d2ade; font-size:20px;\"><p>The list is better for performing operations, such as insertion and deletion.<p>\n",
    "</td>\n",
    "      \n",
    "<td style=\"color:#d96518; font-size:20px;\"><p>Tuple data type is appropriate for accessing the elements.</p>\n",
    "    \n",
    "</td></tr>\n",
    "<tr>\n",
    "<td style=\"color:#5d2ade; font-size:20px;\"><p>Lists consume more memory.<p>\n",
    "</td>\n",
    "      \n",
    "<td style=\"color:#d96518; font-size:20px;\"><p>Tuple consumes less memory as compared to the list</p></td>\n",
    "\n",
    "</tr>\n",
    "\n",
    "<tr>\n",
    "<td style=\"color:#5d2ade; font-size:20px;\"><p>It consumes a larger memory.<p>\n",
    "</td>\n",
    "      \n",
    "<td style=\"color:#d96518; font-size:20px;\"><p>Tuple does not have many built-in methods.</p></td>\n",
    "\n",
    "</tr>\n",
    "\n",
    " <tr>\n",
    "<td style=\"color:#5d2ade; font-size:20px;\"><p>List are Dynamic.<p>\n",
    "</td>\n",
    "      \n",
    "<td style=\"color:#d96518; font-size:20px;\"><p>Tuple are Static.</p></td>\n",
    "\n",
    "</tr>\n",
    "</table>\n"
   ]
  },
  {
   "cell_type": "markdown",
   "id": "495930c7",
   "metadata": {},
   "source": [
    "<h3 style=\"color:#4e2abd;\">Create a tuple</h3>"
   ]
  },
  {
   "cell_type": "code",
   "execution_count": 8,
   "id": "3e2cc6a3",
   "metadata": {},
   "outputs": [
    {
     "data": {
      "text/plain": [
       "(1, 'a', True, 1.2, [33, 44], (33, 22))"
      ]
     },
     "execution_count": 8,
     "metadata": {},
     "output_type": "execute_result"
    }
   ],
   "source": [
    "x = (1,'a',True,1.2,[33,44],(33,22))\n",
    "x"
   ]
  },
  {
   "cell_type": "markdown",
   "id": "ea955427",
   "metadata": {},
   "source": [
    "<h3 style=\"color:#4e2abd;\">Indexing are allowed</h3>"
   ]
  },
  {
   "cell_type": "code",
   "execution_count": 11,
   "id": "a226886a",
   "metadata": {},
   "outputs": [
    {
     "name": "stdout",
     "output_type": "stream",
     "text": [
      "1\n",
      "a\n",
      "True\n",
      "1.2\n",
      "[33, 44]\n",
      "(33, 22)\n"
     ]
    }
   ],
   "source": [
    "print(x[0])\n",
    "print(x[1])\n",
    "print(x[2])\n",
    "print(x[3])\n",
    "print(x[4])\n",
    "print(x[5])"
   ]
  },
  {
   "cell_type": "code",
   "execution_count": 29,
   "id": "c54193fa",
   "metadata": {},
   "outputs": [
    {
     "name": "stdout",
     "output_type": "stream",
     "text": [
      "(4,)\n",
      "(1, 2, 3, 4)\n",
      "(2, 3)\n",
      "(1, 3)\n"
     ]
    }
   ],
   "source": [
    "# also use negative indexing , slicing and step argument\n",
    "\n",
    "t = (1,2,3,4)\n",
    "\n",
    "print(t[3:])\n",
    "print(t[-5:])\n",
    "print(t[-3:-1])\n",
    "# skip argument\n",
    "print(t[0::2])"
   ]
  },
  {
   "cell_type": "markdown",
   "id": "66ccb93d",
   "metadata": {},
   "source": [
    "<h3 style=\"color:#4e2abd;\">Tuples are Orderd</h3>"
   ]
  },
  {
   "cell_type": "code",
   "execution_count": 12,
   "id": "7a99de8d",
   "metadata": {},
   "outputs": [
    {
     "data": {
      "text/plain": [
       "(8, 1, 9)"
      ]
     },
     "execution_count": 12,
     "metadata": {},
     "output_type": "execute_result"
    }
   ],
   "source": [
    "t = (8,1,9)\n",
    "t"
   ]
  },
  {
   "cell_type": "markdown",
   "id": "489b73cb",
   "metadata": {},
   "source": [
    "<h3 style=\"color:#4e2abd;\">Duplicates are allowed</h3>"
   ]
  },
  {
   "cell_type": "code",
   "execution_count": 14,
   "id": "d8bed71e",
   "metadata": {},
   "outputs": [
    {
     "data": {
      "text/plain": [
       "(1, 1, 1, 1)"
      ]
     },
     "execution_count": 14,
     "metadata": {},
     "output_type": "execute_result"
    }
   ],
   "source": [
    "t = (1,1,1,1)\n",
    "t"
   ]
  },
  {
   "cell_type": "markdown",
   "id": "05bf59e3",
   "metadata": {},
   "source": [
    "<h3 style=\"color:#4e2abd;\">Create Single element of tuple</h3>"
   ]
  },
  {
   "cell_type": "code",
   "execution_count": 17,
   "id": "fc1ee8a6",
   "metadata": {},
   "outputs": [
    {
     "name": "stdout",
     "output_type": "stream",
     "text": [
      "<class 'int'>\n"
     ]
    }
   ],
   "source": [
    "t = (8)\n",
    "\n",
    "print(type(t))"
   ]
  },
  {
   "cell_type": "code",
   "execution_count": 18,
   "id": "a00c1061",
   "metadata": {},
   "outputs": [
    {
     "name": "stdout",
     "output_type": "stream",
     "text": [
      "<class 'tuple'>\n"
     ]
    }
   ],
   "source": [
    "# Use , for creating a single typle\n",
    "t = (8,)\n",
    "\n",
    "print(type(t))"
   ]
  },
  {
   "cell_type": "markdown",
   "id": "a60c4b73",
   "metadata": {},
   "source": [
    "<h3 style=\"color:#4e2abd;\">Tuple are immutable means unchangeable</h3>"
   ]
  },
  {
   "cell_type": "code",
   "execution_count": 31,
   "id": "bd7aa685",
   "metadata": {
    "scrolled": true
   },
   "outputs": [
    {
     "ename": "TypeError",
     "evalue": "'tuple' object does not support item assignment",
     "output_type": "error",
     "traceback": [
      "\u001b[0;31m---------------------------------------------------------------------------\u001b[0m",
      "\u001b[0;31mTypeError\u001b[0m                                 Traceback (most recent call last)",
      "Cell \u001b[0;32mIn [31], line 2\u001b[0m\n\u001b[1;32m      1\u001b[0m t \u001b[38;5;241m=\u001b[39m (\u001b[38;5;241m1\u001b[39m,\u001b[38;5;241m2\u001b[39m,\u001b[38;5;241m3\u001b[39m)\n\u001b[0;32m----> 2\u001b[0m \u001b[43mt\u001b[49m\u001b[43m[\u001b[49m\u001b[38;5;241;43m0\u001b[39;49m\u001b[43m]\u001b[49m \u001b[38;5;241m=\u001b[39m \u001b[38;5;241m10\u001b[39m\n",
      "\u001b[0;31mTypeError\u001b[0m: 'tuple' object does not support item assignment"
     ]
    }
   ],
   "source": [
    "t = (1,2,3)\n",
    "t[0] = 10"
   ]
  },
  {
   "cell_type": "markdown",
   "id": "b32f5a57",
   "metadata": {},
   "source": [
    "<h3 style=\"color:#4e2abd;\">Nested Tuple</h3>"
   ]
  },
  {
   "cell_type": "code",
   "execution_count": 48,
   "id": "e68cb295",
   "metadata": {},
   "outputs": [],
   "source": [
    "t = ((1,2),(3,4))"
   ]
  },
  {
   "cell_type": "code",
   "execution_count": 49,
   "id": "bb117010",
   "metadata": {},
   "outputs": [
    {
     "data": {
      "text/plain": [
       "(1, 2)"
      ]
     },
     "execution_count": 49,
     "metadata": {},
     "output_type": "execute_result"
    }
   ],
   "source": [
    "t[0]"
   ]
  },
  {
   "cell_type": "code",
   "execution_count": 50,
   "id": "49ef0ade",
   "metadata": {},
   "outputs": [
    {
     "data": {
      "text/plain": [
       "(3, 4)"
      ]
     },
     "execution_count": 50,
     "metadata": {},
     "output_type": "execute_result"
    }
   ],
   "source": [
    "t[1]"
   ]
  },
  {
   "cell_type": "markdown",
   "id": "17971c8f",
   "metadata": {},
   "source": [
    "<h3 style=\"color:#4e2abd;\">Tuple Unpacking</h3>"
   ]
  },
  {
   "cell_type": "code",
   "execution_count": 53,
   "id": "9c702511",
   "metadata": {},
   "outputs": [],
   "source": [
    "t = (0,1,2)"
   ]
  },
  {
   "cell_type": "code",
   "execution_count": 54,
   "id": "e9bf1d54",
   "metadata": {},
   "outputs": [],
   "source": [
    "v1,v2,v3 = t"
   ]
  },
  {
   "cell_type": "code",
   "execution_count": 55,
   "id": "7500ff5a",
   "metadata": {},
   "outputs": [
    {
     "name": "stdout",
     "output_type": "stream",
     "text": [
      "0 1 2\n"
     ]
    }
   ],
   "source": [
    "print(v1,v2,v3)"
   ]
  },
  {
   "cell_type": "markdown",
   "id": "b1e62dc3",
   "metadata": {},
   "source": [
    "<h3 style=\"color:#4e2abd;\">Tuple Multi-Unpacking</h3>"
   ]
  },
  {
   "cell_type": "code",
   "execution_count": 56,
   "id": "eb1bbcee",
   "metadata": {},
   "outputs": [
    {
     "ename": "ValueError",
     "evalue": "too many values to unpack (expected 2)",
     "output_type": "error",
     "traceback": [
      "\u001b[0;31m---------------------------------------------------------------------------\u001b[0m",
      "\u001b[0;31mValueError\u001b[0m                                Traceback (most recent call last)",
      "Cell \u001b[0;32mIn [56], line 2\u001b[0m\n\u001b[1;32m      1\u001b[0m t \u001b[38;5;241m=\u001b[39m (\u001b[38;5;241m0\u001b[39m,\u001b[38;5;241m1\u001b[39m,\u001b[38;5;241m2\u001b[39m)\n\u001b[0;32m----> 2\u001b[0m v1,v2 \u001b[38;5;241m=\u001b[39m t\n",
      "\u001b[0;31mValueError\u001b[0m: too many values to unpack (expected 2)"
     ]
    }
   ],
   "source": [
    "t = (0,1,2)\n",
    "v1,v2 = t"
   ]
  },
  {
   "cell_type": "code",
   "execution_count": 63,
   "id": "a3c170de",
   "metadata": {},
   "outputs": [],
   "source": [
    "# use * to handle this error\n",
    "\n",
    "t = (0,1,2)\n",
    "v1,*v2 = t"
   ]
  },
  {
   "cell_type": "code",
   "execution_count": 64,
   "id": "440b8c3e",
   "metadata": {},
   "outputs": [
    {
     "name": "stdout",
     "output_type": "stream",
     "text": [
      "0 [1, 2]\n"
     ]
    }
   ],
   "source": [
    "print(v1,v2)"
   ]
  },
  {
   "cell_type": "markdown",
   "id": "f6676913",
   "metadata": {},
   "source": [
    "# Tuples Methods\n",
    "\n",
    "<h3 style=\"color:#4e2abd;\">Tuples are static and Immutable thats why there are only two Typles methods index and count</h3>"
   ]
  },
  {
   "cell_type": "markdown",
   "id": "89a00ed3",
   "metadata": {},
   "source": [
    "<h3 style=\"color:#4e2abd;\">• 1  count Return number of occurrences of value.</h3>"
   ]
  },
  {
   "cell_type": "code",
   "execution_count": 65,
   "id": "b7f7c13c",
   "metadata": {},
   "outputs": [
    {
     "data": {
      "text/plain": [
       "1"
      ]
     },
     "execution_count": 65,
     "metadata": {},
     "output_type": "execute_result"
    }
   ],
   "source": [
    "t = (1,2,3)\n",
    "t.count(2)"
   ]
  },
  {
   "cell_type": "code",
   "execution_count": 68,
   "id": "8ab41130",
   "metadata": {},
   "outputs": [
    {
     "data": {
      "text/plain": [
       "3"
      ]
     },
     "execution_count": 68,
     "metadata": {},
     "output_type": "execute_result"
    }
   ],
   "source": [
    "t = (1,2,2,3,2)\n",
    "t.count(2)"
   ]
  },
  {
   "cell_type": "markdown",
   "id": "bffc020b",
   "metadata": {},
   "source": [
    "<h3 style=\"color:#4e2abd;\">• 2 index Return first index of value.<br><br>Start and end are optional</h3>"
   ]
  },
  {
   "cell_type": "code",
   "execution_count": 69,
   "id": "43013671",
   "metadata": {},
   "outputs": [],
   "source": [
    "t = (1,2,3,3,4)"
   ]
  },
  {
   "cell_type": "code",
   "execution_count": 70,
   "id": "5367114d",
   "metadata": {},
   "outputs": [
    {
     "data": {
      "text/plain": [
       "1"
      ]
     },
     "execution_count": 70,
     "metadata": {},
     "output_type": "execute_result"
    }
   ],
   "source": [
    "t.index(2)"
   ]
  },
  {
   "cell_type": "code",
   "execution_count": 71,
   "id": "87e330e2",
   "metadata": {},
   "outputs": [
    {
     "data": {
      "text/plain": [
       "2"
      ]
     },
     "execution_count": 71,
     "metadata": {},
     "output_type": "execute_result"
    }
   ],
   "source": [
    "t.index(3)"
   ]
  },
  {
   "cell_type": "code",
   "execution_count": 74,
   "id": "771a3752",
   "metadata": {},
   "outputs": [
    {
     "name": "stdout",
     "output_type": "stream",
     "text": [
      "(1, 2, 3, 3, 4)\n"
     ]
    },
    {
     "data": {
      "text/plain": [
       "3"
      ]
     },
     "execution_count": 74,
     "metadata": {},
     "output_type": "execute_result"
    }
   ],
   "source": [
    "# use start parameter\n",
    "print(t)\n",
    "t.index(3,3)"
   ]
  },
  {
   "cell_type": "code",
   "execution_count": 76,
   "id": "ea3e50a6",
   "metadata": {},
   "outputs": [
    {
     "data": {
      "text/plain": [
       "3"
      ]
     },
     "execution_count": 76,
     "metadata": {},
     "output_type": "execute_result"
    }
   ],
   "source": [
    "# use end parameter\n",
    "\n",
    "t.index(3,3,4)"
   ]
  },
  {
   "cell_type": "code",
   "execution_count": 78,
   "id": "bac77aa3",
   "metadata": {
    "scrolled": true
   },
   "outputs": [
    {
     "ename": "ValueError",
     "evalue": "tuple.index(x): x not in tuple",
     "output_type": "error",
     "traceback": [
      "\u001b[0;31m---------------------------------------------------------------------------\u001b[0m",
      "\u001b[0;31mValueError\u001b[0m                                Traceback (most recent call last)",
      "Cell \u001b[0;32mIn [78], line 3\u001b[0m\n\u001b[1;32m      1\u001b[0m \u001b[38;5;66;03m# return error if the value are not found\u001b[39;00m\n\u001b[0;32m----> 3\u001b[0m \u001b[43mt\u001b[49m\u001b[38;5;241;43m.\u001b[39;49m\u001b[43mindex\u001b[49m\u001b[43m(\u001b[49m\u001b[38;5;241;43m3\u001b[39;49m\u001b[43m,\u001b[49m\u001b[38;5;241;43m0\u001b[39;49m\u001b[43m,\u001b[49m\u001b[38;5;241;43m1\u001b[39;49m\u001b[43m)\u001b[49m\n",
      "\u001b[0;31mValueError\u001b[0m: tuple.index(x): x not in tuple"
     ]
    }
   ],
   "source": [
    "# return error if the value are not found\n",
    "\n",
    "t.index(3,0,1)\n",
    "\n",
    "# because i change the start and end parameter thats why 3 are not found"
   ]
  }
 ],
 "metadata": {
  "kernelspec": {
   "display_name": "Python 3 (ipykernel)",
   "language": "python",
   "name": "python3"
  },
  "language_info": {
   "codemirror_mode": {
    "name": "ipython",
    "version": 3
   },
   "file_extension": ".py",
   "mimetype": "text/x-python",
   "name": "python",
   "nbconvert_exporter": "python",
   "pygments_lexer": "ipython3",
   "version": "3.10.6"
  }
 },
 "nbformat": 4,
 "nbformat_minor": 5
}

{
 "cells": [
  {
   "cell_type": "markdown",
   "id": "64f3a0d8",
   "metadata": {},
   "source": [
    "# Assignment operators are used to assign values to variables\n"
   ]
  },
  {
   "cell_type": "markdown",
   "id": "dc851c8d",
   "metadata": {},
   "source": [
    "<h3 style=\"color:#4e2abd;\">1) Add and Assign += <br><br>Add right side operand with left side operand and then assign to left operand\n",
    "</h3>"
   ]
  },
  {
   "cell_type": "code",
   "execution_count": 1,
   "id": "c2182c4d",
   "metadata": {
    "scrolled": true
   },
   "outputs": [
    {
     "name": "stdout",
     "output_type": "stream",
     "text": [
      "10\n",
      "\n",
      "11\n"
     ]
    }
   ],
   "source": [
    "x = 10\n",
    "print(x)\n",
    "print()\n",
    "x += 1\n",
    "print(x)"
   ]
  },
  {
   "cell_type": "markdown",
   "id": "6388fb67",
   "metadata": {},
   "source": [
    "<h3 style=\"color:#4e2abd;\">2) Subtract And add -= <br><br> Subtract right operand from left operand and then assign to left operand: True if both operands are equal\n",
    "</h3>"
   ]
  },
  {
   "cell_type": "code",
   "execution_count": 2,
   "id": "3970257b",
   "metadata": {},
   "outputs": [
    {
     "name": "stdout",
     "output_type": "stream",
     "text": [
      "10\n",
      "\n",
      "9\n"
     ]
    }
   ],
   "source": [
    "x = 10\n",
    "print(x)\n",
    "print()\n",
    "x -= 1\n",
    "print(x)"
   ]
  },
  {
   "cell_type": "markdown",
   "id": "152de530",
   "metadata": {},
   "source": [
    "<h3 style=\"color:#4e2abd;\">3) Multiply Add  *= <br><br>Multiply right operand with left operand and then assign to left operand\n",
    "</h3>\n",
    "\n",
    " "
   ]
  },
  {
   "cell_type": "code",
   "execution_count": 3,
   "id": "683d47e8",
   "metadata": {},
   "outputs": [
    {
     "name": "stdout",
     "output_type": "stream",
     "text": [
      "10\n",
      "\n",
      "20\n"
     ]
    }
   ],
   "source": [
    "x = 10\n",
    "print(x)\n",
    "print()\n",
    "x *= 2\n",
    "print(x)"
   ]
  },
  {
   "cell_type": "markdown",
   "id": "0acf3fe2",
   "metadata": {},
   "source": [
    "<h3 style=\"color:#4e2abd;\">4) Divide Add /= <br><br>Divide AND: Divide left operand with right operand and then assign to left operand\n",
    "</h3>"
   ]
  },
  {
   "cell_type": "code",
   "execution_count": 4,
   "id": "e691de19",
   "metadata": {},
   "outputs": [
    {
     "name": "stdout",
     "output_type": "stream",
     "text": [
      "10\n",
      "\n",
      "5.0\n"
     ]
    }
   ],
   "source": [
    "x = 10\n",
    "print(x)\n",
    "print()\n",
    "x /= 2\n",
    "print(x)"
   ]
  },
  {
   "cell_type": "markdown",
   "id": "04b91193",
   "metadata": {},
   "source": [
    "<h3 style=\"color:#4e2abd;\">5) Modulus Add %= <br><br>Takes modulus using left and right operands and assign result to left operand\n",
    "</h3>"
   ]
  },
  {
   "cell_type": "code",
   "execution_count": 5,
   "id": "6e52d0ab",
   "metadata": {},
   "outputs": [
    {
     "name": "stdout",
     "output_type": "stream",
     "text": [
      "10\n",
      "\n",
      "0\n"
     ]
    }
   ],
   "source": [
    "x = 10\n",
    "print(x)\n",
    "print()\n",
    "x %= 2\n",
    "print(x)"
   ]
  },
  {
   "cell_type": "markdown",
   "id": "6ad4e523",
   "metadata": {},
   "source": [
    "<h3 style=\"color:#4e2abd;\">6) Divide(floor) Add //= <br><br>Divide left operand with right operand and then assign the value(floor) to left operand\n",
    "</h3>"
   ]
  },
  {
   "cell_type": "code",
   "execution_count": 6,
   "id": "d2067bf5",
   "metadata": {},
   "outputs": [
    {
     "name": "stdout",
     "output_type": "stream",
     "text": [
      "10\n",
      "\n",
      "5\n"
     ]
    }
   ],
   "source": [
    "x = 10\n",
    "print(x)\n",
    "print()\n",
    "x //= 2\n",
    "print(x)"
   ]
  },
  {
   "cell_type": "markdown",
   "id": "cb1474d7",
   "metadata": {},
   "source": [
    "<h3 style=\"color:#4e2abd;\">7) Exponent Add **= <br><br>Calculate exponent(raise power) value using operands and assign value to left operand\n",
    "</h3>"
   ]
  },
  {
   "cell_type": "code",
   "execution_count": 7,
   "id": "66c9ba87",
   "metadata": {},
   "outputs": [
    {
     "name": "stdout",
     "output_type": "stream",
     "text": [
      "10\n",
      "\n",
      "100\n"
     ]
    }
   ],
   "source": [
    "x = 10\n",
    "print(x)\n",
    "print()\n",
    "x **= 2\n",
    "print(x)"
   ]
  },
  {
   "cell_type": "markdown",
   "id": "e5b17ed5",
   "metadata": {},
   "source": [
    "# Bitwise Assignment\n",
    "\n",
    "<h3><a href=\"https://github.com/Mubeen-Ahmad/python_11/blob/main/Python/9_Operators/6_Bitwise.ipynb\">Click Here First Understand Bitwise Operators</a></h3>"
   ]
  },
  {
   "cell_type": "markdown",
   "id": "88626ab9",
   "metadata": {},
   "source": [
    "<h3 style=\"color:#4e2abd;\">8) Bitwise And  &= <br><br>Performs Bitwise AND on operands and assign value to left operand\n",
    "</h3>"
   ]
  },
  {
   "cell_type": "code",
   "execution_count": 18,
   "id": "d68aa863",
   "metadata": {},
   "outputs": [
    {
     "name": "stdout",
     "output_type": "stream",
     "text": [
      "2\n"
     ]
    }
   ],
   "source": [
    "x = 10\n",
    "x &= 19\n",
    "\n",
    "print(x)"
   ]
  },
  {
   "cell_type": "markdown",
   "id": "b2285bea",
   "metadata": {},
   "source": [
    "<h3 style=\"color:#4e2abd;\">9) Bitwise OR  |= <br><br>Performs Bitwise OR on operands and assign value to left operand\n",
    "</h3>"
   ]
  },
  {
   "cell_type": "code",
   "execution_count": 19,
   "id": "96e203c6",
   "metadata": {},
   "outputs": [
    {
     "name": "stdout",
     "output_type": "stream",
     "text": [
      "27\n"
     ]
    }
   ],
   "source": [
    "x = 10\n",
    "x |= 19\n",
    "\n",
    "print(x)"
   ]
  },
  {
   "cell_type": "markdown",
   "id": "a0d0fb00",
   "metadata": {},
   "source": [
    "<h3 style=\"color:#4e2abd;\">10) Bitwise XOR  ^= <br><br>Performs Bitwise XOR on operands and assign value to left operand\n",
    "</h3>"
   ]
  },
  {
   "cell_type": "code",
   "execution_count": 20,
   "id": "9c70b289",
   "metadata": {},
   "outputs": [
    {
     "name": "stdout",
     "output_type": "stream",
     "text": [
      "25\n"
     ]
    }
   ],
   "source": [
    "x = 10\n",
    "x ^= 19\n",
    "\n",
    "print(x)"
   ]
  },
  {
   "cell_type": "markdown",
   "id": "94aa13ad",
   "metadata": {},
   "source": [
    "<h3 style=\"color:#4e2abd;\">11) Right Shift Add  >>= <br><br>Performs Bitwise right shift on operands and assign value to left operand\n",
    "</h3>"
   ]
  },
  {
   "cell_type": "code",
   "execution_count": 27,
   "id": "7b22b2ec",
   "metadata": {},
   "outputs": [
    {
     "name": "stdout",
     "output_type": "stream",
     "text": [
      "5\n"
     ]
    }
   ],
   "source": [
    "x = 22\n",
    "x >>= 2\n",
    "\n",
    "print(x)"
   ]
  },
  {
   "cell_type": "markdown",
   "id": "6c9dd16d",
   "metadata": {},
   "source": [
    "<h3 style=\"color:#4e2abd;\">11) Left Shift Add  >>= <br><br>Performs Bitwise left shift on operands and assign value to left operand\n",
    "</h3>"
   ]
  },
  {
   "cell_type": "code",
   "execution_count": 30,
   "id": "a38229c2",
   "metadata": {},
   "outputs": [
    {
     "name": "stdout",
     "output_type": "stream",
     "text": [
      "88\n"
     ]
    }
   ],
   "source": [
    "x = 22\n",
    "x <<= 2\n",
    "\n",
    "print(x)"
   ]
  }
 ],
 "metadata": {
  "kernelspec": {
   "display_name": "Python 3 (ipykernel)",
   "language": "python",
   "name": "python3"
  },
  "language_info": {
   "codemirror_mode": {
    "name": "ipython",
    "version": 3
   },
   "file_extension": ".py",
   "mimetype": "text/x-python",
   "name": "python",
   "nbconvert_exporter": "python",
   "pygments_lexer": "ipython3",
   "version": "3.10.6"
  }
 },
 "nbformat": 4,
 "nbformat_minor": 5
}

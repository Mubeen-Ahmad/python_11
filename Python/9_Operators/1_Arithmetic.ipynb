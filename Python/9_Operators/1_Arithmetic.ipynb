{
 "cells": [
  {
   "cell_type": "markdown",
   "id": "5958f327",
   "metadata": {},
   "source": [
    "# Arithmetic operators are used to perform mathematical operations like addition, subtraction, multiplication and division.\n",
    "\n",
    "<h3>\n",
    "There are 7 arithmetic operators in Python :- <br><br>\n",
    "• Addition<br><br>\n",
    "• Subtraction<br><br>\n",
    "• Multiplication<br><br>\n",
    "• Division<br><br>\n",
    "• Modulus<br><br>\n",
    "• Exponentiation<br><br>\n",
    "• Floor division<br><br>\n",
    "\n",
    "</h3>"
   ]
  },
  {
   "cell_type": "markdown",
   "id": "85418123",
   "metadata": {},
   "source": [
    "<h3 style=\"color:#4e2abd;\">1) Addition<br><br>In Python, + is the addition operator. It is used to add 2 values.</h3>"
   ]
  },
  {
   "cell_type": "code",
   "execution_count": 35,
   "id": "e998ae88",
   "metadata": {},
   "outputs": [
    {
     "data": {
      "text/plain": [
       "2"
      ]
     },
     "execution_count": 35,
     "metadata": {},
     "output_type": "execute_result"
    }
   ],
   "source": [
    "1+1"
   ]
  },
  {
   "cell_type": "code",
   "execution_count": 36,
   "id": "015e8610",
   "metadata": {},
   "outputs": [
    {
     "data": {
      "text/plain": [
       "15"
      ]
     },
     "execution_count": 36,
     "metadata": {},
     "output_type": "execute_result"
    }
   ],
   "source": [
    "12 + 3"
   ]
  },
  {
   "cell_type": "code",
   "execution_count": 37,
   "id": "860056f4",
   "metadata": {},
   "outputs": [
    {
     "data": {
      "text/plain": [
       "35.2"
      ]
     },
     "execution_count": 37,
     "metadata": {},
     "output_type": "execute_result"
    }
   ],
   "source": [
    "12.2+23"
   ]
  },
  {
   "cell_type": "markdown",
   "id": "0bb40bb8",
   "metadata": {},
   "source": [
    "<h3 style=\"color:#4e2abd;\">2) Subtraction<br><br>In Python, - is the Subtract operator.</h3>"
   ]
  },
  {
   "cell_type": "code",
   "execution_count": 38,
   "id": "4bc056b7",
   "metadata": {},
   "outputs": [
    {
     "data": {
      "text/plain": [
       "0"
      ]
     },
     "execution_count": 38,
     "metadata": {},
     "output_type": "execute_result"
    }
   ],
   "source": [
    "1-1"
   ]
  },
  {
   "cell_type": "code",
   "execution_count": 39,
   "id": "4b0cc140",
   "metadata": {},
   "outputs": [
    {
     "data": {
      "text/plain": [
       "98"
      ]
     },
     "execution_count": 39,
     "metadata": {},
     "output_type": "execute_result"
    }
   ],
   "source": [
    "99-1"
   ]
  },
  {
   "cell_type": "code",
   "execution_count": 40,
   "id": "e6a67184",
   "metadata": {
    "scrolled": true
   },
   "outputs": [
    {
     "data": {
      "text/plain": [
       "-40"
      ]
     },
     "execution_count": 40,
     "metadata": {},
     "output_type": "execute_result"
    }
   ],
   "source": [
    "60-100"
   ]
  },
  {
   "cell_type": "markdown",
   "id": "d41cbbf2",
   "metadata": {},
   "source": [
    "<h3 style=\"color:#4e2abd;\">3) Multiplication.</h3>"
   ]
  },
  {
   "cell_type": "code",
   "execution_count": 41,
   "id": "7a283fad",
   "metadata": {},
   "outputs": [
    {
     "data": {
      "text/plain": [
       "4"
      ]
     },
     "execution_count": 41,
     "metadata": {},
     "output_type": "execute_result"
    }
   ],
   "source": [
    "2*2"
   ]
  },
  {
   "cell_type": "code",
   "execution_count": 44,
   "id": "63a806dc",
   "metadata": {},
   "outputs": [
    {
     "data": {
      "text/plain": [
       "24.4"
      ]
     },
     "execution_count": 44,
     "metadata": {},
     "output_type": "execute_result"
    }
   ],
   "source": [
    "12.2 * 2"
   ]
  },
  {
   "cell_type": "markdown",
   "id": "6b80befe",
   "metadata": {},
   "source": [
    "<h3 style=\"color:#4e2abd;\">4) Division.</h3>"
   ]
  },
  {
   "cell_type": "code",
   "execution_count": 45,
   "id": "a7b2de66",
   "metadata": {},
   "outputs": [
    {
     "data": {
      "text/plain": [
       "2.0"
      ]
     },
     "execution_count": 45,
     "metadata": {},
     "output_type": "execute_result"
    }
   ],
   "source": [
    "6 / 3"
   ]
  },
  {
   "cell_type": "code",
   "execution_count": 46,
   "id": "b2a51dd0",
   "metadata": {},
   "outputs": [
    {
     "data": {
      "text/plain": [
       "5.0"
      ]
     },
     "execution_count": 46,
     "metadata": {},
     "output_type": "execute_result"
    }
   ],
   "source": [
    "10/2"
   ]
  },
  {
   "cell_type": "markdown",
   "id": "077d6d21",
   "metadata": {},
   "source": [
    "<h3 style=\"color:#4e2abd;\">5) Floor Division</h3>"
   ]
  },
  {
   "cell_type": "code",
   "execution_count": 47,
   "id": "b78cc727",
   "metadata": {},
   "outputs": [
    {
     "data": {
      "text/plain": [
       "2"
      ]
     },
     "execution_count": 47,
     "metadata": {},
     "output_type": "execute_result"
    }
   ],
   "source": [
    "6 // 3"
   ]
  },
  {
   "cell_type": "code",
   "execution_count": 48,
   "id": "7179fdb5",
   "metadata": {},
   "outputs": [
    {
     "data": {
      "text/plain": [
       "5"
      ]
     },
     "execution_count": 48,
     "metadata": {},
     "output_type": "execute_result"
    }
   ],
   "source": [
    "10 // 2"
   ]
  },
  {
   "cell_type": "markdown",
   "id": "85679a22",
   "metadata": {},
   "source": [
    "<h3 style=\"color:#4e2abd;\">6) Modulus.</h3>"
   ]
  },
  {
   "cell_type": "code",
   "execution_count": 50,
   "id": "10e111c3",
   "metadata": {},
   "outputs": [
    {
     "data": {
      "text/plain": [
       "0"
      ]
     },
     "execution_count": 50,
     "metadata": {},
     "output_type": "execute_result"
    }
   ],
   "source": [
    "# 2 // 1 remainder 0\n",
    "2 % 1\n"
   ]
  },
  {
   "cell_type": "code",
   "execution_count": 52,
   "id": "70617efc",
   "metadata": {},
   "outputs": [
    {
     "data": {
      "text/plain": [
       "2"
      ]
     },
     "execution_count": 52,
     "metadata": {},
     "output_type": "execute_result"
    }
   ],
   "source": [
    "2 % 3"
   ]
  },
  {
   "cell_type": "markdown",
   "id": "ccd504a5",
   "metadata": {},
   "source": [
    "<h3 style=\"color:#4e2abd;\">7) Exponentiation.</h3>"
   ]
  },
  {
   "cell_type": "code",
   "execution_count": 53,
   "id": "5759a133",
   "metadata": {},
   "outputs": [
    {
     "data": {
      "text/plain": [
       "4"
      ]
     },
     "execution_count": 53,
     "metadata": {},
     "output_type": "execute_result"
    }
   ],
   "source": [
    "2 ** 2"
   ]
  },
  {
   "cell_type": "code",
   "execution_count": 54,
   "id": "0ba1452f",
   "metadata": {},
   "outputs": [
    {
     "data": {
      "text/plain": [
       "9"
      ]
     },
     "execution_count": 54,
     "metadata": {},
     "output_type": "execute_result"
    }
   ],
   "source": [
    "3 ** 2"
   ]
  }
 ],
 "metadata": {
  "kernelspec": {
   "display_name": "Python 3 (ipykernel)",
   "language": "python",
   "name": "python3"
  },
  "language_info": {
   "codemirror_mode": {
    "name": "ipython",
    "version": 3
   },
   "file_extension": ".py",
   "mimetype": "text/x-python",
   "name": "python",
   "nbconvert_exporter": "python",
   "pygments_lexer": "ipython3",
   "version": "3.10.6"
  }
 },
 "nbformat": 4,
 "nbformat_minor": 5
}

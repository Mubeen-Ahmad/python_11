{
 "cells": [
  {
   "cell_type": "markdown",
   "id": "0cbd0392",
   "metadata": {},
   "source": [
    "# Membership operators are used to test if a sequence is presented in an object:"
   ]
  },
  {
   "cell_type": "markdown",
   "id": "6c70f46d",
   "metadata": {},
   "source": [
    "<h3 style=\"color:#4e2abd;\">1) in <br><br>Returns True if a sequence with the specified value is present in the object </h3>"
   ]
  },
  {
   "cell_type": "code",
   "execution_count": 2,
   "id": "8c0a8b53",
   "metadata": {},
   "outputs": [
    {
     "data": {
      "text/plain": [
       "True"
      ]
     },
     "execution_count": 2,
     "metadata": {},
     "output_type": "execute_result"
    }
   ],
   "source": [
    "l = [1,2,3,\"s\",5]\n",
    "\n",
    "\"s\" in l"
   ]
  },
  {
   "cell_type": "code",
   "execution_count": 3,
   "id": "c8917580",
   "metadata": {},
   "outputs": [
    {
     "data": {
      "text/plain": [
       "False"
      ]
     },
     "execution_count": 3,
     "metadata": {},
     "output_type": "execute_result"
    }
   ],
   "source": [
    "\"i\" in l"
   ]
  },
  {
   "cell_type": "markdown",
   "id": "950788ae",
   "metadata": {},
   "source": [
    "<h3 style=\"color:#4e2abd;\">2) not in <br><br>Returns True if a sequence with the specified value are Not present in the object </h3>"
   ]
  },
  {
   "cell_type": "code",
   "execution_count": 4,
   "id": "482d6125",
   "metadata": {},
   "outputs": [
    {
     "data": {
      "text/plain": [
       "True"
      ]
     },
     "execution_count": 4,
     "metadata": {},
     "output_type": "execute_result"
    }
   ],
   "source": [
    "\"i\" not in l"
   ]
  },
  {
   "cell_type": "code",
   "execution_count": 5,
   "id": "4a1a4f8a",
   "metadata": {},
   "outputs": [
    {
     "data": {
      "text/plain": [
       "False"
      ]
     },
     "execution_count": 5,
     "metadata": {},
     "output_type": "execute_result"
    }
   ],
   "source": [
    "\"s\" not in l"
   ]
  }
 ],
 "metadata": {
  "kernelspec": {
   "display_name": "Python 3 (ipykernel)",
   "language": "python",
   "name": "python3"
  },
  "language_info": {
   "codemirror_mode": {
    "name": "ipython",
    "version": 3
   },
   "file_extension": ".py",
   "mimetype": "text/x-python",
   "name": "python",
   "nbconvert_exporter": "python",
   "pygments_lexer": "ipython3",
   "version": "3.10.6"
  }
 },
 "nbformat": 4,
 "nbformat_minor": 5
}

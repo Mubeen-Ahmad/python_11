{
 "cells": [
  {
   "cell_type": "markdown",
   "id": "5aea9e42",
   "metadata": {},
   "source": [
    "# Identity operators are used to compare the objects,<br><br> not if they are equal, but if they are actually the same object, with the same memory location:"
   ]
  },
  {
   "cell_type": "markdown",
   "id": "d1dbbf6f",
   "metadata": {},
   "source": [
    "<h3 style=\"color:#4e2abd;\">1) is <br><br>Returns True if both variables are the same object\n",
    "</h3>"
   ]
  },
  {
   "cell_type": "code",
   "execution_count": 6,
   "id": "3da4b6e2",
   "metadata": {},
   "outputs": [
    {
     "name": "stdout",
     "output_type": "stream",
     "text": [
      "140539111227632\n",
      "140539111227632\n"
     ]
    }
   ],
   "source": [
    "x = 1\n",
    "y = x\n",
    "\n",
    "print(id(x))\n",
    "print(id(y))"
   ]
  },
  {
   "cell_type": "code",
   "execution_count": 7,
   "id": "5a923516",
   "metadata": {},
   "outputs": [
    {
     "data": {
      "text/plain": [
       "True"
      ]
     },
     "execution_count": 7,
     "metadata": {},
     "output_type": "execute_result"
    }
   ],
   "source": [
    "x is y"
   ]
  },
  {
   "cell_type": "code",
   "execution_count": 9,
   "id": "68b4e317",
   "metadata": {},
   "outputs": [
    {
     "name": "stdout",
     "output_type": "stream",
     "text": [
      "140539111227632\n",
      "140539111227920\n"
     ]
    }
   ],
   "source": [
    "x = 1\n",
    "y = 10\n",
    "\n",
    "print(id(x))\n",
    "print(id(y))"
   ]
  },
  {
   "cell_type": "code",
   "execution_count": 10,
   "id": "92f63256",
   "metadata": {},
   "outputs": [
    {
     "data": {
      "text/plain": [
       "False"
      ]
     },
     "execution_count": 10,
     "metadata": {},
     "output_type": "execute_result"
    }
   ],
   "source": [
    "x is y"
   ]
  },
  {
   "cell_type": "markdown",
   "id": "4c058f44",
   "metadata": {},
   "source": [
    "<h3 style=\"color:#4e2abd;\">2) is not <br><br>Returns True if both variables are not the same object\n",
    "</h3>"
   ]
  },
  {
   "cell_type": "code",
   "execution_count": 13,
   "id": "db501e76",
   "metadata": {},
   "outputs": [
    {
     "name": "stdout",
     "output_type": "stream",
     "text": [
      "140539111227920\n",
      "140539111230800\n"
     ]
    },
    {
     "data": {
      "text/plain": [
       "True"
      ]
     },
     "execution_count": 13,
     "metadata": {},
     "output_type": "execute_result"
    }
   ],
   "source": [
    "x = 10\n",
    "y = 100\n",
    "\n",
    "print(id(x))\n",
    "print(id(y))\n",
    "\n",
    "x is not y"
   ]
  },
  {
   "cell_type": "code",
   "execution_count": 14,
   "id": "7cf8f4bb",
   "metadata": {},
   "outputs": [
    {
     "name": "stdout",
     "output_type": "stream",
     "text": [
      "140539111227920\n",
      "140539111227920\n"
     ]
    },
    {
     "data": {
      "text/plain": [
       "False"
      ]
     },
     "execution_count": 14,
     "metadata": {},
     "output_type": "execute_result"
    }
   ],
   "source": [
    "x = 10\n",
    "y = x\n",
    "\n",
    "print(id(x))\n",
    "print(id(y))\n",
    "\n",
    "x is not y"
   ]
  }
 ],
 "metadata": {
  "kernelspec": {
   "display_name": "Python 3 (ipykernel)",
   "language": "python",
   "name": "python3"
  },
  "language_info": {
   "codemirror_mode": {
    "name": "ipython",
    "version": 3
   },
   "file_extension": ".py",
   "mimetype": "text/x-python",
   "name": "python",
   "nbconvert_exporter": "python",
   "pygments_lexer": "ipython3",
   "version": "3.10.6"
  }
 },
 "nbformat": 4,
 "nbformat_minor": 5
}

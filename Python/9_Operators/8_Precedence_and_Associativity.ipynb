{
 "cells": [
  {
   "cell_type": "markdown",
   "id": "dcaa50d4",
   "metadata": {},
   "source": [
    "# Precedence is the priority for grouping different types of operators with their operands. <br><br>An operator's precedence is meaningful only if other operators with higher or lower precedence are present</p>\n"
   ]
  },
  {
   "cell_type": "markdown",
   "id": "16f7905c",
   "metadata": {},
   "source": [
    "# The operator precedence in Python is listed in the following table. <br>It is in descending order (upper group has higher precedence than the lower ones)."
   ]
  },
  {
   "cell_type": "markdown",
   "id": "368c5b89",
   "metadata": {},
   "source": [
    "<div style=\" margin: auto; width: 100%; padding: 10px; \">\n",
    "<table border=\"0\" style=\"font-size:15px;\"> \n",
    "    <tbody><tr><th>Operators</th>\n",
    "\t\t\t\t<th>Meaning</th>\n",
    "\t\t\t</tr><tr><td><code>()</code></td>\n",
    "\t\t\t\t<td>Parentheses</td>\n",
    "\t\t\t</tr><tr><td><code>**</code></td>\n",
    "\t\t\t\t<td>Exponent</td>\n",
    "\t\t\t</tr><tr><td><code>+x</code>, <code>-x</code>, <code>~x</code></td>\n",
    "\t\t\t\t<td>Unary plus, Unary minus, Bitwise NOT</td>\n",
    "\t\t\t</tr><tr><td><code>*</code>, <code>/</code>, <code>//</code>, <code>%</code></td>\n",
    "\t\t\t\t<td>Multiplication, Division, Floor division, Modulus</td>\n",
    "\t\t\t</tr><tr><td><code>+</code>, <code>-</code></td>\n",
    "\t\t\t\t<td>Addition, Subtraction</td>\n",
    "\t\t\t</tr><tr><td><code>&lt;&lt;</code>, <code>&gt;&gt;</code></td>\n",
    "\t\t\t\t<td>Bitwise shift operators</td>\n",
    "\t\t\t</tr><tr><td><code>&amp;</code></td>\n",
    "\t\t\t\t<td>Bitwise AND</td>\n",
    "\t\t\t</tr><tr><td><code>^</code></td>\n",
    "\t\t\t\t<td>Bitwise XOR</td>\n",
    "\t\t\t</tr><tr><td><code>|</code></td>\n",
    "\t\t\t\t<td>Bitwise OR</td>\n",
    "\t\t\t</tr><tr><td><code>==</code>, <code>!=</code>, <code>&gt;</code>, <code>&gt;=</code>, <code>&lt;</code>, <code>&lt;=</code>, <code>is</code>, <code>is not</code>, <code>in</code>, <code>not in</code></td>\n",
    "\t\t\t\t<td>Comparisons, Identity, Membership operators</td>\n",
    "\t\t\t</tr><tr><td><code>not</code></td>\n",
    "\t\t\t\t<td>Logical NOT</td>\n",
    "\t\t\t</tr><tr><td><code>and</code></td>\n",
    "\t\t\t\t<td>Logical AND</td>\n",
    "\t\t\t</tr><tr><td><code>or</code></td>\n",
    "\t\t\t\t<td>Logical OR</td>\n",
    "\t\t\t</tr></tbody></table>\n",
    "    \n",
    "  </div>"
   ]
  },
  {
   "cell_type": "code",
   "execution_count": 10,
   "id": "8f1a2691",
   "metadata": {},
   "outputs": [
    {
     "data": {
      "text/plain": [
       "6"
      ]
     },
     "execution_count": 10,
     "metadata": {},
     "output_type": "execute_result"
    }
   ],
   "source": [
    "# Examples 1  \n",
    "# use () ,**, +\n",
    "\n",
    "\n",
    "3+3**(4-3)\n",
    "\n",
    "\n",
    "# 1st  (4-3)  = 1\n",
    "# 2nd  3 ** 1 = 3\n",
    "# 3rd  3 + 3"
   ]
  },
  {
   "cell_type": "code",
   "execution_count": 11,
   "id": "05722076",
   "metadata": {},
   "outputs": [
    {
     "data": {
      "text/plain": [
       "1.3333333333333333"
      ]
     },
     "execution_count": 11,
     "metadata": {},
     "output_type": "execute_result"
    }
   ],
   "source": [
    "# Example 2\n",
    "\n",
    "4/(3*(2-1)) \n",
    "\n",
    "# 1st (2-1) = 1\n",
    "# 2nd 3*1   = 3\n",
    "# 3rd 4 / 3 = 1.33\n"
   ]
  },
  {
   "cell_type": "code",
   "execution_count": 12,
   "id": "f78d2693",
   "metadata": {},
   "outputs": [
    {
     "data": {
      "text/plain": [
       "1.3333333333333333"
      ]
     },
     "execution_count": 12,
     "metadata": {},
     "output_type": "execute_result"
    }
   ],
   "source": [
    "# Example 3\n",
    "\n",
    "4/3*(2-1)\n",
    "\n",
    "# 1st 2-1 = 1\n",
    "# 2nd 3 * 1 = 3\n",
    "# 4 / 3 = 1.33"
   ]
  },
  {
   "cell_type": "code",
   "execution_count": 14,
   "id": "b04299d5",
   "metadata": {},
   "outputs": [
    {
     "data": {
      "text/plain": [
       "7"
      ]
     },
     "execution_count": 14,
     "metadata": {},
     "output_type": "execute_result"
    }
   ],
   "source": [
    "# Example 4\n",
    "\n",
    "4 + 3 % 5\n",
    "\n",
    "# 1st 3%5  = 3\n",
    "# 2nd 4 + 3 = 7"
   ]
  },
  {
   "cell_type": "code",
   "execution_count": 19,
   "id": "34b4736a",
   "metadata": {},
   "outputs": [
    {
     "data": {
      "text/plain": [
       "0"
      ]
     },
     "execution_count": 19,
     "metadata": {},
     "output_type": "execute_result"
    }
   ],
   "source": [
    "# Example 5\n",
    "\n",
    "2 % 3 // 8\n",
    "\n",
    "# 1st 2 % 3 = 2\n",
    "# 2nd 2 // 8 = 0"
   ]
  },
  {
   "cell_type": "markdown",
   "id": "693a6da5",
   "metadata": {},
   "source": [
    "# Associativity\n",
    "\n",
    "# Associativity is the left-to-right or right-to-left order for grouping operands to operators that have the same precedence."
   ]
  },
  {
   "cell_type": "code",
   "execution_count": 28,
   "id": "a8f01176",
   "metadata": {},
   "outputs": [
    {
     "data": {
      "text/plain": [
       "2"
      ]
     },
     "execution_count": 28,
     "metadata": {},
     "output_type": "execute_result"
    }
   ],
   "source": [
    "# Example \n",
    "\n",
    "# *, /, //,  have same Precedence than python folow left to right order\n",
    "\n",
    "3 // 2 * 2\n",
    "\n",
    "# 1st 3 // 2 = 1\n",
    "# 2nd 1 * 2 = 2\n"
   ]
  }
 ],
 "metadata": {
  "kernelspec": {
   "display_name": "Python 3 (ipykernel)",
   "language": "python",
   "name": "python3"
  },
  "language_info": {
   "codemirror_mode": {
    "name": "ipython",
    "version": 3
   },
   "file_extension": ".py",
   "mimetype": "text/x-python",
   "name": "python",
   "nbconvert_exporter": "python",
   "pygments_lexer": "ipython3",
   "version": "3.10.6"
  }
 },
 "nbformat": 4,
 "nbformat_minor": 5
}

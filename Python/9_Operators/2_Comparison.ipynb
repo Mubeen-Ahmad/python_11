{
 "cells": [
  {
   "cell_type": "markdown",
   "id": "fc5ac5af",
   "metadata": {},
   "source": [
    "# Comparison of Relational operators compares the values. <br><br>It either returns True or False according to the condition."
   ]
  },
  {
   "cell_type": "markdown",
   "id": "fefacae9",
   "metadata": {},
   "source": [
    "<h3 style=\"color:#4e2abd;\">1) Equal == <br><br>True if both operands are equal\n",
    "</h3>"
   ]
  },
  {
   "cell_type": "code",
   "execution_count": 1,
   "id": "d8c3cff3",
   "metadata": {},
   "outputs": [
    {
     "name": "stdout",
     "output_type": "stream",
     "text": [
      "True\n"
     ]
    }
   ],
   "source": [
    "x = 1\n",
    "y = 1\n",
    "\n",
    "print(x == y)"
   ]
  },
  {
   "cell_type": "markdown",
   "id": "f6329563",
   "metadata": {},
   "source": [
    "<h3 style=\"color:#4e2abd;\">2) Not equal != <br><br>True if operands are not equal\n",
    "</h3>"
   ]
  },
  {
   "cell_type": "code",
   "execution_count": 4,
   "id": "3930d0a6",
   "metadata": {},
   "outputs": [
    {
     "name": "stdout",
     "output_type": "stream",
     "text": [
      "True\n"
     ]
    }
   ],
   "source": [
    "x = 1\n",
    "y = 12\n",
    "\n",
    "print(x != y)"
   ]
  },
  {
   "cell_type": "markdown",
   "id": "f99a211d",
   "metadata": {},
   "source": [
    "<h3 style=\"color:#4e2abd;\">3) Greater than > <br><br>True if the left operand is greater than the right\n",
    "</h3>"
   ]
  },
  {
   "cell_type": "code",
   "execution_count": 5,
   "id": "c0c5c0ed",
   "metadata": {},
   "outputs": [
    {
     "name": "stdout",
     "output_type": "stream",
     "text": [
      "True\n"
     ]
    }
   ],
   "source": [
    "x = 2\n",
    "y = 1\n",
    "\n",
    "print(x > y)"
   ]
  },
  {
   "cell_type": "markdown",
   "id": "55a0aeb3",
   "metadata": {},
   "source": [
    "<h3 style=\"color:#4e2abd;\">4) Greater Than Equal to >= <br><br> True if the left operand is greater than or equal to the right\n",
    "</h3>"
   ]
  },
  {
   "cell_type": "code",
   "execution_count": 6,
   "id": "7cc74a0e",
   "metadata": {},
   "outputs": [
    {
     "name": "stdout",
     "output_type": "stream",
     "text": [
      "False\n"
     ]
    }
   ],
   "source": [
    "x = 2\n",
    "y = 10\n",
    "\n",
    "print(x >= y)"
   ]
  },
  {
   "cell_type": "code",
   "execution_count": 7,
   "id": "309db5c3",
   "metadata": {},
   "outputs": [
    {
     "name": "stdout",
     "output_type": "stream",
     "text": [
      "True\n"
     ]
    }
   ],
   "source": [
    "x = 10\n",
    "y = 10\n",
    "\n",
    "print(x >= y)"
   ]
  },
  {
   "cell_type": "code",
   "execution_count": 8,
   "id": "1694ca20",
   "metadata": {},
   "outputs": [
    {
     "name": "stdout",
     "output_type": "stream",
     "text": [
      "True\n"
     ]
    }
   ],
   "source": [
    "x = 11\n",
    "y = 10\n",
    "\n",
    "print(x >= y)"
   ]
  },
  {
   "cell_type": "markdown",
   "id": "6a516e54",
   "metadata": {},
   "source": [
    "<h3 style=\"color:#4e2abd;\">5) Less than <br><br>True if the left operand is less than the right\n",
    "</h3>"
   ]
  },
  {
   "cell_type": "code",
   "execution_count": 10,
   "id": "b6e60efe",
   "metadata": {},
   "outputs": [
    {
     "name": "stdout",
     "output_type": "stream",
     "text": [
      "True\n"
     ]
    }
   ],
   "source": [
    "x = 11\n",
    "y = 12\n",
    "\n",
    "print(x < y)"
   ]
  },
  {
   "cell_type": "markdown",
   "id": "5ff9d728",
   "metadata": {},
   "source": [
    "<h3 style=\"color:#4e2abd;\">6) Less than Equal <= <br><br>Less than or equal to True if the left operand is less than or equal to the right\n",
    "</h3>"
   ]
  },
  {
   "cell_type": "code",
   "execution_count": 11,
   "id": "371dae31",
   "metadata": {},
   "outputs": [
    {
     "name": "stdout",
     "output_type": "stream",
     "text": [
      "True\n"
     ]
    }
   ],
   "source": [
    "x = 11\n",
    "y = 12\n",
    "\n",
    "print(x <= y)"
   ]
  },
  {
   "cell_type": "code",
   "execution_count": 12,
   "id": "391098c7",
   "metadata": {},
   "outputs": [
    {
     "name": "stdout",
     "output_type": "stream",
     "text": [
      "True\n"
     ]
    }
   ],
   "source": [
    "x = 11\n",
    "y = 11\n",
    "\n",
    "print(x <= y)"
   ]
  },
  {
   "cell_type": "code",
   "execution_count": 13,
   "id": "6438e550",
   "metadata": {},
   "outputs": [
    {
     "name": "stdout",
     "output_type": "stream",
     "text": [
      "False\n"
     ]
    }
   ],
   "source": [
    "x = 13\n",
    "y = 12\n",
    "\n",
    "print(x <= y)"
   ]
  }
 ],
 "metadata": {
  "kernelspec": {
   "display_name": "Python 3 (ipykernel)",
   "language": "python",
   "name": "python3"
  },
  "language_info": {
   "codemirror_mode": {
    "name": "ipython",
    "version": 3
   },
   "file_extension": ".py",
   "mimetype": "text/x-python",
   "name": "python",
   "nbconvert_exporter": "python",
   "pygments_lexer": "ipython3",
   "version": "3.10.6"
  }
 },
 "nbformat": 4,
 "nbformat_minor": 5
}

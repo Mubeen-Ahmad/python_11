{
 "cells": [
  {
   "cell_type": "markdown",
   "id": "ecff1aad",
   "metadata": {},
   "source": [
    "# Bitwise operators are used to compare (binary) numbers:"
   ]
  },
  {
   "cell_type": "markdown",
   "id": "f9e018e3",
   "metadata": {},
   "source": [
    "<h3 style=\"color:#4e2abd;\">1) & (And)<br><br>return 1 if boths bits are 1 else return 0\n",
    "</h3>"
   ]
  },
  {
   "cell_type": "code",
   "execution_count": 31,
   "id": "547bd31a",
   "metadata": {},
   "outputs": [
    {
     "name": "stdout",
     "output_type": "stream",
     "text": [
      "0 & 0 = 0\n",
      "0 & 1 = 0\n",
      "1 & 0 = 0\n",
      "1 & 1 = 1\n"
     ]
    }
   ],
   "source": [
    "print(f\"{bin(0).split('b')[-1]} & {bin(0).split('b')[-1]} = {0 & 0}\")\n",
    "print(f\"{bin(0).split('b')[-1]} & {bin(1).split('b')[-1]} = {0 & 1}\")\n",
    "print(f\"{bin(1).split('b')[-1]} & {bin(0).split('b')[-1]} = {1 & 0}\")\n",
    "print(f\"{bin(1).split('b')[-1]} & {bin(1).split('b')[-1]} = {1 & 1}\")"
   ]
  },
  {
   "cell_type": "code",
   "execution_count": 54,
   "id": "adcbc5e8",
   "metadata": {},
   "outputs": [
    {
     "name": "stdout",
     "output_type": "stream",
     "text": [
      "10\n",
      "\n",
      "0b1010\n",
      "0b1111\n"
     ]
    }
   ],
   "source": [
    "# Example 2\n",
    "\n",
    "print(10 & 15)\n",
    "print()\n",
    "print(bin(10))\n",
    "print(bin(15))"
   ]
  },
  {
   "cell_type": "markdown",
   "id": "96678803",
   "metadata": {},
   "source": [
    "# $$binary \\;\\;of \\;\\;10 \\;\\;is \\;\\;1010$$\n",
    "# $$binary \\;\\;of \\;\\;15 \\;\\;is \\;\\;1111$$\n",
    "<br><br>\n",
    "<h1>\n",
    "    $$1\\;\\;0\\;\\;1\\;\\;0$$\n",
    "    $$1\\;\\;1\\;\\;1\\;\\;1$$\n",
    "    $$ \\rule{5cm}{1pt} $$\n",
    "    <p style=\"color:red;\">$$1\\;\\;0\\;\\;1\\;\\;0$$</p>\n",
    "        $$ \\rule{5cm}{1pt} $$<br>\n",
    "    $$Decimal\\;\\;of\\;\\;1010\\;\\;is\\;\\;10$$\n",
    "\n",
    "\n",
    "</h1>\n"
   ]
  },
  {
   "cell_type": "markdown",
   "id": "d3de7ae0",
   "metadata": {},
   "source": [
    "<h3 style=\"color:#4e2abd;\">2) | (or)<br><br>return 1 if any one bits are 1 else return 0\n",
    "</h3>"
   ]
  },
  {
   "cell_type": "code",
   "execution_count": 32,
   "id": "d0a52718",
   "metadata": {},
   "outputs": [
    {
     "name": "stdout",
     "output_type": "stream",
     "text": [
      "0 & 0 = 0\n",
      "0 & 1 = 1\n",
      "1 & 0 = 1\n",
      "1 & 1 = 1\n"
     ]
    }
   ],
   "source": [
    "print(f\"{bin(0).split('b')[-1]} & {bin(0).split('b')[-1]} = {0 | 0}\")\n",
    "print(f\"{bin(0).split('b')[-1]} & {bin(1).split('b')[-1]} = {0 | 1}\")\n",
    "print(f\"{bin(1).split('b')[-1]} & {bin(0).split('b')[-1]} = {1 | 0}\")\n",
    "print(f\"{bin(1).split('b')[-1]} & {bin(1).split('b')[-1]} = {1 | 1}\")"
   ]
  },
  {
   "cell_type": "code",
   "execution_count": 58,
   "id": "3ac29d49",
   "metadata": {},
   "outputs": [
    {
     "name": "stdout",
     "output_type": "stream",
     "text": [
      "15\n",
      "\n",
      "0b1010\n",
      "0b1111\n"
     ]
    }
   ],
   "source": [
    "# Example 2\n",
    "\n",
    "print(10 | 15)\n",
    "print()\n",
    "print(bin(10))\n",
    "print(bin(15))"
   ]
  },
  {
   "cell_type": "markdown",
   "id": "6c174e92",
   "metadata": {},
   "source": [
    "# $$binary \\;\\;of \\;\\;10 \\;\\;is \\;\\;1010$$\n",
    "# $$binary \\;\\;of \\;\\;15 \\;\\;is \\;\\;1111$$\n",
    "<br><br>\n",
    "<h1>\n",
    "    $$1\\;\\;0\\;\\;1\\;\\;0$$\n",
    "    $$1\\;\\;1\\;\\;1\\;\\;1$$\n",
    "    $$ \\rule{5cm}{1pt} $$\n",
    "    <p style=\"color:red;\">$$1\\;\\;1\\;\\;1\\;\\;1$$</p>\n",
    "        $$ \\rule{5cm}{1pt} $$<br>\n",
    "    $$Decimal\\;\\;of\\;\\;1111\\;\\;is\\;\\;15$$\n",
    "\n",
    "\n",
    "</h1>\n"
   ]
  },
  {
   "cell_type": "markdown",
   "id": "92f10c8a",
   "metadata": {},
   "source": [
    "<h3 style=\"color:#4e2abd;\">3) ^ (Xor)<br><br>return 1 if only (single)  one bits are 1 else return 0\n",
    "</h3>"
   ]
  },
  {
   "cell_type": "code",
   "execution_count": 33,
   "id": "56734803",
   "metadata": {},
   "outputs": [
    {
     "name": "stdout",
     "output_type": "stream",
     "text": [
      "0 & 0 = 0\n",
      "0 & 1 = 1\n",
      "1 & 0 = 1\n",
      "1 & 1 = 0\n"
     ]
    }
   ],
   "source": [
    "print(f\"{bin(0).split('b')[-1]} & {bin(0).split('b')[-1]} = {0 ^ 0}\")\n",
    "print(f\"{bin(0).split('b')[-1]} & {bin(1).split('b')[-1]} = {0 ^ 1}\")\n",
    "print(f\"{bin(1).split('b')[-1]} & {bin(0).split('b')[-1]} = {1 ^ 0}\")\n",
    "print(f\"{bin(1).split('b')[-1]} & {bin(1).split('b')[-1]} = {1 ^ 1}\")"
   ]
  },
  {
   "cell_type": "code",
   "execution_count": 61,
   "id": "974f60c3",
   "metadata": {},
   "outputs": [
    {
     "name": "stdout",
     "output_type": "stream",
     "text": [
      "5\n",
      "\n",
      "0b1010\n",
      "0b1111\n"
     ]
    }
   ],
   "source": [
    "# Example 2\n",
    "\n",
    "print(10 ^ 15)\n",
    "print()\n",
    "print(bin(10))\n",
    "print(bin(15))\n"
   ]
  },
  {
   "cell_type": "markdown",
   "id": "f2b0587f",
   "metadata": {},
   "source": [
    "# $$binary \\;\\;of \\;\\;10 \\;\\;is \\;\\;1010$$\n",
    "# $$binary \\;\\;of \\;\\;15 \\;\\;is \\;\\;1111$$\n",
    "<br><br>\n",
    "<h1>\n",
    "    $$1\\;\\;0\\;\\;1\\;\\;0$$\n",
    "    $$1\\;\\;1\\;\\;1\\;\\;1$$\n",
    "    $$ \\rule{5cm}{1pt} $$\n",
    "    <p style=\"color:red;\">$$0\\;\\;1\\;\\;0\\;\\;1$$</p>\n",
    "        $$ \\rule{5cm}{1pt} $$<br>\n",
    "    $$Decimal\\;\\;of\\;\\;0101\\;\\;is\\;\\;5$$\n",
    "\n",
    "\n",
    "</h1>\n"
   ]
  },
  {
   "cell_type": "markdown",
   "id": "52856c3c",
   "metadata": {},
   "source": [
    "<h3 style=\"color:#4e2abd;\">4) << (Left Shift)<br><br>Shifts the bits of the number to the left and fills 0 on voids right as a result. <br><br>Similar effect as of multiplying the number with some power of two.\n",
    "</h3>"
   ]
  },
  {
   "cell_type": "markdown",
   "id": "56079f3f",
   "metadata": {},
   "source": [
    "<img style=\"display: block;margin-left: auto;margin-right: auto;width: 50%;\" src=\"../../images/lshift.jpeg\" width=\"450px\" >"
   ]
  },
  {
   "cell_type": "code",
   "execution_count": 83,
   "id": "bfbf784a",
   "metadata": {},
   "outputs": [
    {
     "data": {
      "text/plain": [
       "28"
      ]
     },
     "execution_count": 83,
     "metadata": {},
     "output_type": "execute_result"
    }
   ],
   "source": [
    "# Example 1\n",
    "\n",
    "14 << 1"
   ]
  },
  {
   "cell_type": "code",
   "execution_count": 87,
   "id": "379e2831",
   "metadata": {},
   "outputs": [
    {
     "name": "stdout",
     "output_type": "stream",
     "text": [
      "14 << 1 = 28\n",
      "\n",
      "14 x  2 = 28\n"
     ]
    }
   ],
   "source": [
    "print(f\"14 << 1 = {14 << 1}\")\n",
    "print()\n",
    "print(f\"14 x  2 = {14 * 2}\")"
   ]
  },
  {
   "cell_type": "code",
   "execution_count": 86,
   "id": "d6ecd2c4",
   "metadata": {},
   "outputs": [
    {
     "data": {
      "text/plain": [
       "56"
      ]
     },
     "execution_count": 86,
     "metadata": {},
     "output_type": "execute_result"
    }
   ],
   "source": [
    "# Example 2\n",
    "\n",
    "14 << 2"
   ]
  },
  {
   "cell_type": "code",
   "execution_count": 88,
   "id": "80c208fe",
   "metadata": {},
   "outputs": [
    {
     "name": "stdout",
     "output_type": "stream",
     "text": [
      "14 << 2 = 56\n",
      "\n",
      "14 x 2 x 2 = 56\n"
     ]
    }
   ],
   "source": [
    "print(f\"14 << 2 = {14 << 2}\")\n",
    "print()\n",
    "print(f\"14 x 2 x 2 = {14 * 2 * 2}\")"
   ]
  },
  {
   "cell_type": "code",
   "execution_count": 89,
   "id": "23e7ed5a",
   "metadata": {},
   "outputs": [
    {
     "data": {
      "text/plain": [
       "112"
      ]
     },
     "execution_count": 89,
     "metadata": {},
     "output_type": "execute_result"
    }
   ],
   "source": [
    "# Example 3\n",
    "\n",
    "14 << 3"
   ]
  },
  {
   "cell_type": "code",
   "execution_count": 90,
   "id": "11626af2",
   "metadata": {},
   "outputs": [
    {
     "name": "stdout",
     "output_type": "stream",
     "text": [
      "14 << 3 = 112\n",
      "\n",
      "14 x 2 x 2 x 2 = 112\n"
     ]
    }
   ],
   "source": [
    "print(f\"14 << 3 = {14 << 3}\")\n",
    "print()\n",
    "print(f\"14 x 2 x 2 x 2 = {14 * 2 * 2 * 2}\")"
   ]
  },
  {
   "cell_type": "markdown",
   "id": "b2ee4a8b",
   "metadata": {},
   "source": [
    "<h3 style=\"color:#4e2abd;\">5) >> (Right Shift)<br><br>Shifts the bits of the number to the right and fills 0 on voids left( fills 1 in the case of a negative number) as a result.<br><br>Similar effect as of dividing the number with some power of two.\n",
    "</h3>"
   ]
  },
  {
   "cell_type": "markdown",
   "id": "3b899fe5",
   "metadata": {},
   "source": [
    "<img style=\"display: block;margin-left: auto;margin-right: auto;width: 50%;\" src=\"../../images/rshift.jpeg\" width=\"450px\" >"
   ]
  },
  {
   "cell_type": "code",
   "execution_count": 91,
   "id": "02b4f427",
   "metadata": {},
   "outputs": [
    {
     "data": {
      "text/plain": [
       "7"
      ]
     },
     "execution_count": 91,
     "metadata": {},
     "output_type": "execute_result"
    }
   ],
   "source": [
    "# Example 1\n",
    "\n",
    "14 >> 1"
   ]
  },
  {
   "cell_type": "code",
   "execution_count": 93,
   "id": "fe4052ab",
   "metadata": {},
   "outputs": [
    {
     "name": "stdout",
     "output_type": "stream",
     "text": [
      "14 >> 1 = 7\n",
      "\n",
      "14 / 2 = 7\n"
     ]
    }
   ],
   "source": [
    "print(f\"14 >> 1 = {14 >> 1}\")\n",
    "print()\n",
    "print(f\"14 / 2 = {14 // 2}\")"
   ]
  },
  {
   "cell_type": "code",
   "execution_count": 94,
   "id": "e9cb3320",
   "metadata": {},
   "outputs": [
    {
     "data": {
      "text/plain": [
       "3"
      ]
     },
     "execution_count": 94,
     "metadata": {},
     "output_type": "execute_result"
    }
   ],
   "source": [
    "# Example 2\n",
    "\n",
    "14 >> 2"
   ]
  },
  {
   "cell_type": "code",
   "execution_count": 101,
   "id": "9332a5ec",
   "metadata": {},
   "outputs": [
    {
     "name": "stdout",
     "output_type": "stream",
     "text": [
      "14 >> 2 = 3\n",
      "\n",
      "14 / 2 = 3\n"
     ]
    }
   ],
   "source": [
    "print(f\"14 >> 2 = {14 >> 2}\")\n",
    "print()\n",
    "print(f\"14 / 2 = {14 // 2 // 2}\")"
   ]
  },
  {
   "cell_type": "code",
   "execution_count": 97,
   "id": "59c7e060",
   "metadata": {},
   "outputs": [
    {
     "data": {
      "text/plain": [
       "1"
      ]
     },
     "execution_count": 97,
     "metadata": {},
     "output_type": "execute_result"
    }
   ],
   "source": [
    "# Example 3\n",
    "\n",
    "14 >> 3"
   ]
  },
  {
   "cell_type": "code",
   "execution_count": 102,
   "id": "71203da0",
   "metadata": {},
   "outputs": [
    {
     "name": "stdout",
     "output_type": "stream",
     "text": [
      "14 >> 3 = 1\n",
      "\n",
      "14 / 3 = 1\n"
     ]
    }
   ],
   "source": [
    "print(f\"14 >> 3 = {14 >> 3}\")\n",
    "print()\n",
    "print(f\"14 / 3 = {14 // 2 // 2 // 2}\")"
   ]
  },
  {
   "cell_type": "markdown",
   "id": "02a75560",
   "metadata": {},
   "source": [
    "<h3 style=\"color:#4e2abd;\">6) ~ NOT / Complement<br><br>Inverts all the bits\n",
    "</h3>"
   ]
  },
  {
   "cell_type": "markdown",
   "id": "43242996",
   "metadata": {},
   "source": [
    "<img src=\"../../images/once_cl.jpeg\" width=\"450px\" style=\"display: block;margin-left: auto;margin-right: auto;width: 50%;\">\n",
    "<img src=\"../../images/sec_cl.jpeg\" width=\"450px\" style=\"display: block;margin-left: auto;margin-right: auto;width: 50%;\">"
   ]
  },
  {
   "cell_type": "code",
   "execution_count": 104,
   "id": "3646b3e8",
   "metadata": {},
   "outputs": [
    {
     "data": {
      "text/plain": [
       "-5"
      ]
     },
     "execution_count": 104,
     "metadata": {},
     "output_type": "execute_result"
    }
   ],
   "source": [
    "# Example 1\n",
    "\n",
    "~4"
   ]
  },
  {
   "cell_type": "code",
   "execution_count": 105,
   "id": "85b7cd58",
   "metadata": {},
   "outputs": [
    {
     "data": {
      "text/plain": [
       "-5"
      ]
     },
     "execution_count": 105,
     "metadata": {},
     "output_type": "execute_result"
    }
   ],
   "source": [
    "-(4+1)"
   ]
  },
  {
   "cell_type": "code",
   "execution_count": 107,
   "id": "baa1b4e3",
   "metadata": {},
   "outputs": [
    {
     "data": {
      "text/plain": [
       "-13"
      ]
     },
     "execution_count": 107,
     "metadata": {},
     "output_type": "execute_result"
    }
   ],
   "source": [
    "# Example 2\n",
    "\n",
    "~12"
   ]
  },
  {
   "cell_type": "code",
   "execution_count": 108,
   "id": "93d6d3f0",
   "metadata": {},
   "outputs": [
    {
     "data": {
      "text/plain": [
       "-13"
      ]
     },
     "execution_count": 108,
     "metadata": {},
     "output_type": "execute_result"
    }
   ],
   "source": [
    "-(12+1)"
   ]
  },
  {
   "cell_type": "code",
   "execution_count": 112,
   "id": "43780c4d",
   "metadata": {},
   "outputs": [
    {
     "data": {
      "text/plain": [
       "-87"
      ]
     },
     "execution_count": 112,
     "metadata": {},
     "output_type": "execute_result"
    }
   ],
   "source": [
    "# Example 3\n",
    "\n",
    "~86"
   ]
  },
  {
   "cell_type": "code",
   "execution_count": 113,
   "id": "c93a0f7b",
   "metadata": {},
   "outputs": [
    {
     "data": {
      "text/plain": [
       "-87"
      ]
     },
     "execution_count": 113,
     "metadata": {},
     "output_type": "execute_result"
    }
   ],
   "source": [
    "-(86+1)"
   ]
  }
 ],
 "metadata": {
  "kernelspec": {
   "display_name": "Python 3 (ipykernel)",
   "language": "python",
   "name": "python3"
  },
  "language_info": {
   "codemirror_mode": {
    "name": "ipython",
    "version": 3
   },
   "file_extension": ".py",
   "mimetype": "text/x-python",
   "name": "python",
   "nbconvert_exporter": "python",
   "pygments_lexer": "ipython3",
   "version": "3.10.12"
  }
 },
 "nbformat": 4,
 "nbformat_minor": 5
}

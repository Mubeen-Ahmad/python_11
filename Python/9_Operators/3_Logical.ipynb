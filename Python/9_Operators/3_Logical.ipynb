{
 "cells": [
  {
   "cell_type": "markdown",
   "id": "bf328b66",
   "metadata": {},
   "source": [
    "# Logical operators perform Logical AND, Logical OR, and Logical NOT operations. It is used to combine conditional statements."
   ]
  },
  {
   "cell_type": "markdown",
   "id": "2402a791",
   "metadata": {},
   "source": [
    "<h3 style=\"color:#4e2abd;\">1) and  <br><br>Returns True if both statements are true\n",
    "</h3>"
   ]
  },
  {
   "cell_type": "code",
   "execution_count": 3,
   "id": "5ee55242",
   "metadata": {},
   "outputs": [
    {
     "data": {
      "text/plain": [
       "True"
      ]
     },
     "execution_count": 3,
     "metadata": {},
     "output_type": "execute_result"
    }
   ],
   "source": [
    "x = 1\n",
    "y = 1\n",
    "\n",
    "x==1 and y==1"
   ]
  },
  {
   "cell_type": "code",
   "execution_count": 4,
   "id": "0120e244",
   "metadata": {},
   "outputs": [
    {
     "data": {
      "text/plain": [
       "False"
      ]
     },
     "execution_count": 4,
     "metadata": {},
     "output_type": "execute_result"
    }
   ],
   "source": [
    "x = 2\n",
    "y = 1\n",
    "\n",
    "x==1 and y==1"
   ]
  },
  {
   "cell_type": "markdown",
   "id": "84b96321",
   "metadata": {},
   "source": [
    "<h3 style=\"color:#4e2abd;\">2) or  <br><br>True if either of the operands is true\n",
    "</h3>"
   ]
  },
  {
   "cell_type": "code",
   "execution_count": 6,
   "id": "90fa66d2",
   "metadata": {},
   "outputs": [
    {
     "data": {
      "text/plain": [
       "True"
      ]
     },
     "execution_count": 6,
     "metadata": {},
     "output_type": "execute_result"
    }
   ],
   "source": [
    "x = 1\n",
    "y = 1\n",
    "\n",
    "x==1 or y==1"
   ]
  },
  {
   "cell_type": "code",
   "execution_count": 7,
   "id": "ea152cee",
   "metadata": {},
   "outputs": [
    {
     "data": {
      "text/plain": [
       "True"
      ]
     },
     "execution_count": 7,
     "metadata": {},
     "output_type": "execute_result"
    }
   ],
   "source": [
    "x = 1\n",
    "y = 2\n",
    "\n",
    "x==1 or y==1"
   ]
  },
  {
   "cell_type": "code",
   "execution_count": 8,
   "id": "fa6e67ef",
   "metadata": {},
   "outputs": [
    {
     "data": {
      "text/plain": [
       "False"
      ]
     },
     "execution_count": 8,
     "metadata": {},
     "output_type": "execute_result"
    }
   ],
   "source": [
    "x = 2\n",
    "y = 2\n",
    "\n",
    "x==1 or y==1"
   ]
  },
  {
   "cell_type": "markdown",
   "id": "00ac653c",
   "metadata": {},
   "source": [
    "<h3 style=\"color:#4e2abd;\">3) not  <br><br>True if the operand is false \n",
    "</h3>"
   ]
  },
  {
   "cell_type": "code",
   "execution_count": 13,
   "id": "8d9ba5ce",
   "metadata": {},
   "outputs": [
    {
     "data": {
      "text/plain": [
       "True"
      ]
     },
     "execution_count": 13,
     "metadata": {},
     "output_type": "execute_result"
    }
   ],
   "source": [
    "x = 2\n",
    "\n",
    "not x == 1"
   ]
  },
  {
   "cell_type": "code",
   "execution_count": 14,
   "id": "7995b1da",
   "metadata": {},
   "outputs": [
    {
     "data": {
      "text/plain": [
       "False"
      ]
     },
     "execution_count": 14,
     "metadata": {},
     "output_type": "execute_result"
    }
   ],
   "source": [
    "not x != 1"
   ]
  }
 ],
 "metadata": {
  "kernelspec": {
   "display_name": "Python 3 (ipykernel)",
   "language": "python",
   "name": "python3"
  },
  "language_info": {
   "codemirror_mode": {
    "name": "ipython",
    "version": 3
   },
   "file_extension": ".py",
   "mimetype": "text/x-python",
   "name": "python",
   "nbconvert_exporter": "python",
   "pygments_lexer": "ipython3",
   "version": "3.10.6"
  }
 },
 "nbformat": 4,
 "nbformat_minor": 5
}

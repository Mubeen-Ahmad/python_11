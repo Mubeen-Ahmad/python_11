{
 "cells": [
  {
   "cell_type": "markdown",
   "metadata": {},
   "source": [
    "# Metacharacters\n",
    "<br>\n",
    "\n",
    "- ### Metacharacters in regular expressions are special characters that have a symbolic meaning and are used to define the search pattern. \n",
    "<br>\n",
    "\n",
    "- ### They provide flexibility and allow you to create more complex and powerful regular expressions. \n",
    "\n",
    "<br>\n",
    "\n",
    "- ### Here are some commonly used metacharacters:"
   ]
  },
  {
   "cell_type": "markdown",
   "metadata": {},
   "source": [
    "<br>\n",
    "\n",
    "### 1 . (Dot)     \n",
    "- ### --> Single Occurrence\n",
    "<br>\n",
    "\n",
    "### 2 ^ (Start With)  \n",
    "- ### --> Start With\n",
    "<br>\n",
    "\n",
    "### 3 (End With) $    \n",
    "- ### --> Ends With\n",
    "<br>\n",
    "\n",
    "### 4 * (Star)        \n",
    "- ### ab* --> a a ab abb abbbb\n",
    "- ### Single, Single,Multiple\n",
    "- ### Zero More\n",
    "<br>\n",
    "\n",
    "### 5 + (Plus)        \n",
    "- ### ab+  --> ab abb abbb abbbbbbb\n",
    "- ### Single,Multiple\n",
    "- ### Once More\n",
    "<br>\n",
    "\n",
    "### 6 ? (Question Mark)\n",
    "- ###  ab? --> a a ab ab ab ab\n",
    "- ### Single, Single,Single\n",
    "- ### Zero Once\n",
    "<br>\n",
    "\n",
    "### 7 \\ (Backslash)\n",
    "- ### Escapes special characters\n",
    "\n",
    "<br>\n",
    "\n",
    "### 8 | (Pipe)\n",
    "- ### a|b --> a b a b b a\n",
    "<br>\n",
    "\n",
    "### 9 {} (curly brackets):\n",
    "- ### Specifies the exact number of occurrences or a range\n",
    "<br>\n",
    "\n",
    "### 10 () (parentheses)\n",
    "- ### Groups characters together and captures the matched substring.\n",
    "<br>\n",
    "\n",
    "### 11 [] (square brackets)\n",
    " - ### Specifies a character class, matches any single character within the brackets.\n",
    "\n",
    "\n",
    "<br><br>\n"
   ]
  },
  {
   "cell_type": "markdown",
   "metadata": {},
   "source": [
    "- ### . (Dot)\n",
    "- ### Matches any character except a newline character."
   ]
  },
  {
   "cell_type": "code",
   "execution_count": 1,
   "metadata": {},
   "outputs": [],
   "source": [
    "import re"
   ]
  },
  {
   "cell_type": "code",
   "execution_count": 2,
   "metadata": {},
   "outputs": [
    {
     "data": {
      "text/plain": [
       "['Mubee', 'Mubii', 'Mubxx']"
      ]
     },
     "execution_count": 2,
     "metadata": {},
     "output_type": "execute_result"
    }
   ],
   "source": [
    "string = \"Mubeen Mubii Mubxx\"\n",
    "\n",
    "pattern = re.compile(r\"Mub..\")\n",
    "pattern.findall(string) # extract ALL Mub and 2 .. anything else"
   ]
  },
  {
   "cell_type": "code",
   "execution_count": 3,
   "metadata": {},
   "outputs": [
    {
     "data": {
      "text/plain": [
       "['gmail_pk', 'gmail_ru']"
      ]
     },
     "execution_count": 3,
     "metadata": {},
     "output_type": "execute_result"
    }
   ],
   "source": [
    "# example 2\n",
    "\n",
    "txt = \"mubeen@gmail_pk ali@gmail_ru\"\n",
    "\n",
    "pattern = re.compile(r\"gmail_..\") # find gmail_pk and gmail_ru\n",
    "\n",
    "pattern.findall(txt)"
   ]
  },
  {
   "cell_type": "markdown",
   "metadata": {},
   "source": [
    "# ^ (Start With)\n",
    "<br>\n",
    " \n",
    "- ### The caret (^) acts as an anchor in regular expressions. \n",
    "- ### When it is placed at the beginning of a pattern, it matches the start of a string. \n",
    "- ### This means that the pattern must appear at the very beginning of the string for a match to occur."
   ]
  },
  {
   "cell_type": "code",
   "execution_count": 4,
   "metadata": {},
   "outputs": [
    {
     "data": {
      "text/plain": [
       "['Ali']"
      ]
     },
     "execution_count": 4,
     "metadata": {},
     "output_type": "execute_result"
    }
   ],
   "source": [
    "string = \"Ali Ali\"\n",
    "pattern = re.compile(r\"^Ali\")\n",
    "\n",
    "pattern.findall(string)\n",
    "\n",
    "#To extract the name \"Ali\" only if it appears at the start of a string"
   ]
  },
  {
   "cell_type": "code",
   "execution_count": 5,
   "metadata": {},
   "outputs": [
    {
     "data": {
      "text/plain": [
       "['Ali']"
      ]
     },
     "execution_count": 5,
     "metadata": {},
     "output_type": "execute_result"
    }
   ],
   "source": [
    "# example 2\n",
    "\n",
    "string = \"Ali Ali\\nAli\"\n",
    "pattern = re.compile(r\"^Ali\")\n",
    "\n",
    "pattern.findall(string)\n",
    "\n",
    "# now i use \\n so why third Ali are not extract"
   ]
  },
  {
   "cell_type": "code",
   "execution_count": 6,
   "metadata": {},
   "outputs": [
    {
     "data": {
      "text/plain": [
       "['Ali', 'Ali']"
      ]
     },
     "execution_count": 6,
     "metadata": {},
     "output_type": "execute_result"
    }
   ],
   "source": [
    "# use re.MULTILINE\n",
    "\n",
    "string = \"Ali Ali\\nAli\"\n",
    "pattern = re.compile(r\"^Ali\",re.MULTILINE)\n",
    "pattern.findall(string)\n"
   ]
  },
  {
   "cell_type": "markdown",
   "metadata": {},
   "source": [
    "<br>\n",
    "\n",
    "- ### $ (Dollar)\n",
    "- ### Matches the end of a string or the end of a line."
   ]
  },
  {
   "cell_type": "code",
   "execution_count": 7,
   "metadata": {},
   "outputs": [
    {
     "data": {
      "text/plain": [
       "['Ali']"
      ]
     },
     "execution_count": 7,
     "metadata": {},
     "output_type": "execute_result"
    }
   ],
   "source": [
    "string = \"Ali Ali\\nAli\"\n",
    "pattern = re.compile(r\"Ali$\") # last Ali extract\n",
    "\n",
    "pattern.findall(string)\n"
   ]
  },
  {
   "cell_type": "code",
   "execution_count": 8,
   "metadata": {},
   "outputs": [
    {
     "data": {
      "text/plain": [
       "['Ali', 'Ali']"
      ]
     },
     "execution_count": 8,
     "metadata": {},
     "output_type": "execute_result"
    }
   ],
   "source": [
    "string = \"Ali Ali\\nAli\"\n",
    "pattern = re.compile(r\"Ali$\",re.M) # Extract 2nd Ali and end Ali\n",
    "\n",
    "pattern.findall(string)\n"
   ]
  },
  {
   "cell_type": "markdown",
   "metadata": {},
   "source": [
    "\n",
    "- ### * (Star)\n",
    "- ### Matches zero or more occurrences of the preceding character or group."
   ]
  },
  {
   "cell_type": "code",
   "execution_count": 9,
   "metadata": {},
   "outputs": [
    {
     "data": {
      "text/plain": [
       "['a', 'a', 'abbb', 'abb', 'abbbb', 'ab']"
      ]
     },
     "execution_count": 9,
     "metadata": {},
     "output_type": "execute_result"
    }
   ],
   "source": [
    "string = \"aa abbb abb abbbb abc\"\n",
    "pattern = re.compile(r\"ab*\") # Extract all Single a and all multiple b\n",
    "pattern.findall(string)\n",
    "\n"
   ]
  },
  {
   "cell_type": "markdown",
   "metadata": {},
   "source": [
    "<br>\n",
    "\n",
    "- ### + (Plus)\n",
    "- ### Matches one or more occurrences of the preceding character or group."
   ]
  },
  {
   "cell_type": "code",
   "execution_count": 10,
   "metadata": {},
   "outputs": [
    {
     "data": {
      "text/plain": [
       "['abbb', 'abb', 'abbbb', 'ab']"
      ]
     },
     "execution_count": 10,
     "metadata": {},
     "output_type": "execute_result"
    }
   ],
   "source": [
    "string = \"aa abbb abb abbbb abc\"\n",
    "pattern = re.compile(r\"ab+\") # Extract a With b\n",
    "pattern.findall(string)\n",
    "\n"
   ]
  },
  {
   "cell_type": "markdown",
   "metadata": {},
   "source": [
    "<br>\n",
    "\n",
    "- ### ? (Question Mark)\n",
    "- ### Matches zero or one occurrence of the preceding character or group."
   ]
  },
  {
   "cell_type": "code",
   "execution_count": 11,
   "metadata": {},
   "outputs": [
    {
     "data": {
      "text/plain": [
       "['a', 'a', 'ab', 'ab', 'ab', 'ab']"
      ]
     },
     "execution_count": 11,
     "metadata": {},
     "output_type": "execute_result"
    }
   ],
   "source": [
    "string = \"aa abbb abb abbbb abc\"\n",
    "pattern = re.compile(r\"ab?\") # Extract a With b\n",
    "\n",
    "pattern.findall(string)"
   ]
  },
  {
   "cell_type": "markdown",
   "metadata": {},
   "source": [
    "<br>\n",
    "\n",
    "- ### \\ (Backslash)\n",
    "- ### Escapes special characters, allowing you to match them literally."
   ]
  },
  {
   "cell_type": "code",
   "execution_count": 12,
   "metadata": {},
   "outputs": [
    {
     "data": {
      "text/plain": [
       "['0', '1', '2', '3', '4', '5', '6', '7', '8']"
      ]
     },
     "execution_count": 12,
     "metadata": {},
     "output_type": "execute_result"
    }
   ],
   "source": [
    "text = \"01234qbcd5678\"\n",
    "\n",
    "pattern = re.compile(r\"\\d\") # \\d means digits\n",
    "\n",
    "pattern.findall(text)"
   ]
  },
  {
   "cell_type": "code",
   "execution_count": 13,
   "metadata": {},
   "outputs": [
    {
     "data": {
      "text/plain": [
       "['q', 'b', 'c', 'd']"
      ]
     },
     "execution_count": 13,
     "metadata": {},
     "output_type": "execute_result"
    }
   ],
   "source": [
    "pattern = re.compile(r\"\\D\") # \\D means alphabets\n",
    "\n",
    "pattern.findall(text)"
   ]
  },
  {
   "cell_type": "markdown",
   "metadata": {},
   "source": [
    "<br>\n",
    "\n",
    "- ### | (Pipe)\n",
    "- ### Acts as an OR operator, matching either the expression before or after it."
   ]
  },
  {
   "cell_type": "code",
   "execution_count": 14,
   "metadata": {},
   "outputs": [
    {
     "data": {
      "text/plain": [
       "['Mubeen', 'Ali', 'Ali']"
      ]
     },
     "execution_count": 14,
     "metadata": {},
     "output_type": "execute_result"
    }
   ],
   "source": [
    "text = \"Mubeen Ali Ahmad Rizwan Ali\"\n",
    "\n",
    "pattern = re.compile(r\"Mubeen|Ali\") # extract all Mubeen or Ali\n",
    "pattern.findall(text)"
   ]
  },
  {
   "cell_type": "markdown",
   "metadata": {},
   "source": [
    "<br>\n",
    "\n",
    "- ### {} (Curly Braces)\n",
    "- ### Specifies the exact number of occurrences or a range of occurrences of the preceding character or group."
   ]
  },
  {
   "cell_type": "code",
   "execution_count": 15,
   "metadata": {},
   "outputs": [
    {
     "data": {
      "text/plain": [
       "['Mubee', 'Mubee']"
      ]
     },
     "execution_count": 15,
     "metadata": {},
     "output_type": "execute_result"
    }
   ],
   "source": [
    "text = \"Mubeeen Mubeen Muben\"\n",
    "\n",
    "pattern = re.compile(r\"Mube{2}\") # Extract Mube{2} means all in which include 2 ee\n",
    "pattern.findall(text)"
   ]
  },
  {
   "cell_type": "code",
   "execution_count": 16,
   "metadata": {},
   "outputs": [
    {
     "data": {
      "text/plain": [
       "['ooo']"
      ]
     },
     "execution_count": 16,
     "metadata": {},
     "output_type": "execute_result"
    }
   ],
   "source": [
    "# Example 2\n",
    "\n",
    "text = \"Hellooo\"\n",
    "pattern = re.compile(r\"o{3}\")\n",
    "\n",
    "pattern.findall(text)"
   ]
  },
  {
   "cell_type": "code",
   "execution_count": 17,
   "metadata": {},
   "outputs": [
    {
     "data": {
      "text/plain": [
       "['ooo']"
      ]
     },
     "execution_count": 17,
     "metadata": {},
     "output_type": "execute_result"
    }
   ],
   "source": [
    "# Example 3\n",
    "\n",
    "text = \"Helloooo\"\n",
    "pattern = re.compile(r\"o{3}\")\n",
    "\n",
    "pattern.findall(text)"
   ]
  },
  {
   "cell_type": "code",
   "execution_count": 18,
   "metadata": {},
   "outputs": [
    {
     "data": {
      "text/plain": [
       "['ooo']"
      ]
     },
     "execution_count": 18,
     "metadata": {},
     "output_type": "execute_result"
    }
   ],
   "source": [
    "# Example 4\n",
    "\n",
    "text = \"Hellooooo\"    # ooo oo \n",
    "pattern = re.compile(r\"o{3}\")\n",
    "\n",
    "pattern.findall(text)"
   ]
  },
  {
   "cell_type": "code",
   "execution_count": 19,
   "metadata": {},
   "outputs": [
    {
     "data": {
      "text/plain": [
       "['ooo', 'ooo']"
      ]
     },
     "execution_count": 19,
     "metadata": {},
     "output_type": "execute_result"
    }
   ],
   "source": [
    "# Example 5\n",
    "\n",
    "text = \"Helloooooo\"    # ooo ooo \n",
    "pattern = re.compile(r\"o{3}\")\n",
    "\n",
    "pattern.findall(text)"
   ]
  },
  {
   "cell_type": "markdown",
   "metadata": {},
   "source": [
    "<br>\n",
    "\n",
    "- ### () (parentheses)\n",
    "- ### Groups characters together and captures the matched substring."
   ]
  },
  {
   "cell_type": "code",
   "execution_count": 20,
   "metadata": {},
   "outputs": [
    {
     "data": {
      "text/plain": [
       "['28-02']"
      ]
     },
     "execution_count": 20,
     "metadata": {},
     "output_type": "execute_result"
    }
   ],
   "source": [
    "# example 1 \n",
    "\n",
    "text = \"Today's date is 28-02-2023\"\n",
    "\n",
    "pattern = re.compile(r\"\\d{2}-\\d{2}\")  #28-02 without group\n",
    "\n",
    "pattern.findall(text)\n"
   ]
  },
  {
   "cell_type": "code",
   "execution_count": 21,
   "metadata": {},
   "outputs": [
    {
     "data": {
      "text/plain": [
       "[('28', '02')]"
      ]
     },
     "execution_count": 21,
     "metadata": {},
     "output_type": "execute_result"
    }
   ],
   "source": [
    "# example 3 use group ()\n",
    "\n",
    "text = \"Today's date is 28-02-2023\"\n",
    "\n",
    "pattern = re.compile(r\"(\\d{2})-(\\d{2})\")  #28 , 02 with group \n",
    "\n",
    "pattern.findall(text)\n"
   ]
  },
  {
   "cell_type": "code",
   "execution_count": 22,
   "metadata": {},
   "outputs": [
    {
     "data": {
      "text/plain": [
       "[('28', '02', '2023')]"
      ]
     },
     "execution_count": 22,
     "metadata": {},
     "output_type": "execute_result"
    }
   ],
   "source": [
    "# example 4\n",
    "\n",
    "text = \"Today's date is 28-02-2023\"\n",
    "\n",
    "pattern = re.compile(r\"(\\d{2})-(\\d{2})-(\\d{4})\")  #28 , 02  2023with group \n",
    "\n",
    "pattern.findall(text)\n"
   ]
  },
  {
   "cell_type": "markdown",
   "metadata": {},
   "source": [
    "<br> \n",
    "\n",
    "- ### [] (square brackets)\n",
    "\n",
    "- ### Specifies a character class, matches any single character within the brackets."
   ]
  },
  {
   "cell_type": "code",
   "execution_count": 34,
   "metadata": {},
   "outputs": [
    {
     "data": {
      "text/plain": [
       "['e', 'o', 'o']"
      ]
     },
     "execution_count": 34,
     "metadata": {},
     "output_type": "execute_result"
    }
   ],
   "source": [
    "text = \"Hello World\"\n",
    "\n",
    "pattern = re.compile(r\"[aeiou]\")\n",
    "\n",
    "pattern.findall(text)"
   ]
  },
  {
   "cell_type": "code",
   "execution_count": 35,
   "metadata": {},
   "outputs": [
    {
     "data": {
      "text/plain": [
       "['0', '1', '2', '3']"
      ]
     },
     "execution_count": 35,
     "metadata": {},
     "output_type": "execute_result"
    }
   ],
   "source": [
    "# example 2\n",
    "\n",
    "text = \"hello0123World\"\n",
    "pattern = re.compile(r\"[0-9]\")\n",
    "pattern.findall(text)"
   ]
  }
 ],
 "metadata": {
  "kernelspec": {
   "display_name": "Python 3 (ipykernel)",
   "language": "python",
   "name": "python3"
  },
  "language_info": {
   "codemirror_mode": {
    "name": "ipython",
    "version": 3
   },
   "file_extension": ".py",
   "mimetype": "text/x-python",
   "name": "python",
   "nbconvert_exporter": "python",
   "pygments_lexer": "ipython3",
   "version": "3.10.6"
  }
 },
 "nbformat": 4,
 "nbformat_minor": 2
}

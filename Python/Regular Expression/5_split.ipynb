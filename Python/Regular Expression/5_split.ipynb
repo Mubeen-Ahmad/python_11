{
 "cells": [
  {
   "cell_type": "markdown",
   "id": "0bfb73b3",
   "metadata": {},
   "source": [
    "# split"
   ]
  },
  {
   "cell_type": "markdown",
   "id": "b78c5d2e",
   "metadata": {},
   "source": [
    "- ## The split() method in Python's re module is used to split a string into a list of substrings based on a specified pattern.\n",
    "<br>\n",
    "\n",
    "- ## It allows you to split a string wherever the pattern matches."
   ]
  },
  {
   "cell_type": "markdown",
   "id": "bf6fbcbf",
   "metadata": {},
   "source": [
    "# Syntax\n",
    "<br>\n",
    "\n",
    "- ### re.split(pattern, string, maxsplit=0, flags=0)\n",
    "\n",
    "<br>\n",
    "\n",
    "- ### *pattern* : \n",
    "    - ### The regular expression pattern to search for, based on which the string will be split.\n",
    "<br>\n",
    "\n",
    "- ### *string* : \n",
    "    - ### The input string that needs to be split.\n",
    "<br>\n",
    "\n",
    "- ### *maxsplit (optional)* : \n",
    "    - ### An integer that specifies the maximum number of splits to be performed. \n",
    "    - ### Default is 0, which means all possible splits will be performed.\n",
    "<br>\n",
    "\n",
    "- ### *flags (optional)* : \n",
    "    - ### Additional flags to modify the behavior of the pattern matching. This is an optional parameter and is rarely used with split().\n",
    "\n"
   ]
  },
  {
   "cell_type": "code",
   "execution_count": 3,
   "id": "8b45165a",
   "metadata": {},
   "outputs": [
    {
     "data": {
      "text/plain": [
       "['Hello,', 'World!', 'How', 'are', 'you', 'today?']"
      ]
     },
     "execution_count": 3,
     "metadata": {},
     "output_type": "execute_result"
    }
   ],
   "source": [
    "import re\n",
    "\n",
    "string = \"Hello, World! How are you today?\"\n",
    "pattern = re.compile(r\"\\s\")\n",
    "pattern.split(string)"
   ]
  },
  {
   "cell_type": "code",
   "execution_count": 6,
   "id": "d260bac6",
   "metadata": {},
   "outputs": [
    {
     "data": {
      "text/plain": [
       "['There are ', ' apples and ', ' oranges.']"
      ]
     },
     "execution_count": 6,
     "metadata": {},
     "output_type": "execute_result"
    }
   ],
   "source": [
    "string = 'There are 10 apples and 20 oranges.'\n",
    "\n",
    "pattern = re.compile(r\"\\d{2}\")\n",
    "pattern.split(string)"
   ]
  },
  {
   "cell_type": "markdown",
   "id": "f783bccc",
   "metadata": {},
   "source": [
    "### maxsplit parameter"
   ]
  },
  {
   "cell_type": "code",
   "execution_count": 11,
   "id": "8a3d2038",
   "metadata": {},
   "outputs": [
    {
     "data": {
      "text/plain": [
       "['There are ', ' apples and 20 oranges.']"
      ]
     },
     "execution_count": 11,
     "metadata": {},
     "output_type": "execute_result"
    }
   ],
   "source": [
    "pattern = re.compile(r\"\\d{2}\")\n",
    "pattern.split(string,maxsplit=1)"
   ]
  },
  {
   "cell_type": "code",
   "execution_count": 15,
   "id": "f097bc7c",
   "metadata": {},
   "outputs": [
    {
     "data": {
      "text/plain": [
       "['Hello', '', 'World', '', 'How', 'are', 'you', 'today', '']"
      ]
     },
     "execution_count": 15,
     "metadata": {},
     "output_type": "execute_result"
    }
   ],
   "source": [
    "string = \"Hello, World! How are you today?\"\n",
    "\n",
    "pattern = re.compile(r\"\\W\")\n",
    "pattern.split(string)"
   ]
  },
  {
   "cell_type": "code",
   "execution_count": 24,
   "id": "6663b449",
   "metadata": {},
   "outputs": [
    {
     "data": {
      "text/plain": [
       "['MUBEEN', 'AHMAD']"
      ]
     },
     "execution_count": 24,
     "metadata": {},
     "output_type": "execute_result"
    }
   ],
   "source": [
    "string = \"MUBEEN AHMAD\"\n",
    "\n",
    "pattern = re.compile(r\"\\W+\")\n",
    "pattern.split(string)"
   ]
  },
  {
   "cell_type": "markdown",
   "id": "2c0ae3cd",
   "metadata": {},
   "source": [
    "## split method return the list\n"
   ]
  },
  {
   "cell_type": "code",
   "execution_count": 18,
   "id": "b5060b4a",
   "metadata": {},
   "outputs": [
    {
     "data": {
      "text/plain": [
       "list"
      ]
     },
     "execution_count": 18,
     "metadata": {},
     "output_type": "execute_result"
    }
   ],
   "source": [
    "type(pattern.split(string))"
   ]
  }
 ],
 "metadata": {
  "kernelspec": {
   "display_name": "Python 3 (ipykernel)",
   "language": "python",
   "name": "python3"
  },
  "language_info": {
   "codemirror_mode": {
    "name": "ipython",
    "version": 3
   },
   "file_extension": ".py",
   "mimetype": "text/x-python",
   "name": "python",
   "nbconvert_exporter": "python",
   "pygments_lexer": "ipython3",
   "version": "3.10.6"
  }
 },
 "nbformat": 4,
 "nbformat_minor": 5
}

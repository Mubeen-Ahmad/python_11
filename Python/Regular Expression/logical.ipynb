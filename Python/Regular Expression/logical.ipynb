{
 "cells": [
  {
   "cell_type": "markdown",
   "id": "60c6c46c-2f17-4dba-81f6-1b36cfa6bd74",
   "metadata": {},
   "source": [
    "<table>\n",
    "  <thead>\n",
    "    <tr>\n",
    "      <th><h3>MetaCharacter</h3></th>\n",
    "      <th><h3>Legend</h3></th>\n",
    "      <th><h3>Example</h3></th>\n",
    "      <th><h3>Sample</h3></th>\n",
    "      <th><h3>Output</h3></th>\n",
    "    </tr>\n",
    "  </thead>\n",
    "  <tbody>\n",
    "    <tr>\n",
    "      <td><h4>(?: )</h4></td>\n",
    "      <td><h4>Non Capturing</h4></td>\n",
    "      <td><h4><code>t(?:i|o)p</code></h4></td>\n",
    "      <td><h4>\"tap tip top tep tup\"</h4></td>\n",
    "      <td><h4>['tip', 'top']</h4></td>\n",
    "    </tr>\n",
    "    <tr>\n",
    "      <td><h4>(?P&lt;label> pattern)</h4></td>\n",
    "      <td><h4>Assign a label</h4></td>\n",
    "      <td><h4><code>(?P&lt;email>\\w+@\\w+\\.\\w+)</code></h4></td>\n",
    "      <td><h4>\"My email is john@example.com and yours is alice@gmail.com.\"</h4></td>\n",
    "      <td><h4>.group('email')<br>,['email'],<br>groupdict()<br><br>show output john@example.com </h4></td>\n",
    "    </tr>\n",
    "    <tr>\n",
    "      <td><h4><(?P&lt;x>pattern)(?P=x)</h4></td>\n",
    "      <td><h4>backreference match and assign in label and also use this label for again match</h4></td>\n",
    "      <td><h4><code>&lt;(?P&lt;tag>\\w+)>.*&lt;/(?P=tag)></code></h4></td>\n",
    "      <td><h4>\"&lt;div>this is div tag&lt;/div>&lt;p>paragraph&lt;/p>\"</h4></td>\n",
    "      <td><h4>['div', 'p']</h4></td>\n",
    "    </tr>\n",
    "    <tr>\n",
    "    <tr>\n",
    "      <td><h4><(?#Comment)</h4></td>\n",
    "      <td><h4>Add comment in Pattern</h4></td>\n",
    "      <td><h4><code>\\w+(?#this is comment)</code></h4></td>\n",
    "      <td><h4>\"Hello World\"</h4></td>\n",
    "      <td><h4>['Hello', 'world']</h4></td>\n",
    "    </tr>\n",
    "    <tr>\n",
    "      <td><h4>(?= )</h4></td>\n",
    "      <td><h4>positive lookahead</h4></td>\n",
    "      <td><h4><code>\\S+(?=.com)</code></h4></td>\n",
    "      <td><h4>\"Emails: user1@example.com, user2@example.net\"</h4></td>\n",
    "      <td><h4>['user1@example.com']</h4></td>\n",
    "    </tr>\n",
    "    <tr>\n",
    "      <td><h4>(?&lt;= )</h4></td>\n",
    "      <td><h4>positive lookbehind</h4></td>\n",
    "      <td><h4><code>\\S+(?<=.com)</code></h4></td>\n",
    "      <td><h4>\"Emails: user1@example.com, user2@example.net\"</h4></td>\n",
    "      <td><h4>['user1@example.com']</h4></td>\n",
    "    </tr>\n",
    "    <tr>\n",
    "      <td><h4>(?! )</h4></td>\n",
    "      <td><h4>Negative lookhead</h4></td>\n",
    "      <td><h4><code>\\S+\\.(?!net)\\w+</code></h4></td>\n",
    "      <td><h4>\"Emails: user1@example.com, user2@example.net\"</h4></td>\n",
    "      <td><h4>['user1@example.com']</h4></td>\n",
    "    </tr>\n",
    "    <tr>\n",
    "      <td><h4>(?&lt;! )</h4></td>\n",
    "      <td><h4>Negative lookbehind</h4></td>\n",
    "      <td><h4><code>\\S+\\.(?&lt;!user2@example.)\\S+</code></h4></td>\n",
    "      <td><h4>\"Emails: user2@example.net user1@example.com</h4></td>\n",
    "      <td><h4>['user1@example.com']</h4></td>\n",
    "    </tr>\n",
    "\n",
    "   \n",
    "  </tbody>\n",
    "</table>"
   ]
  },
  {
   "cell_type": "markdown",
   "id": "7bf961c4-d381-4cd8-9a45-60a019e8f7dd",
   "metadata": {},
   "source": [
    "## (?:) Non Capturing Group"
   ]
  },
  {
   "cell_type": "code",
   "execution_count": 29,
   "id": "a9252c3a-b757-49a9-83c0-60bbc466b072",
   "metadata": {},
   "outputs": [],
   "source": [
    "import re"
   ]
  },
  {
   "cell_type": "code",
   "execution_count": 30,
   "id": "68888e0d-1c92-4ee1-afd3-ee42ab3c0753",
   "metadata": {},
   "outputs": [
    {
     "data": {
      "text/plain": [
       "['tip', 'top']"
      ]
     },
     "execution_count": 30,
     "metadata": {},
     "output_type": "execute_result"
    }
   ],
   "source": [
    "string = 'tap tip top tep tup'\n",
    "pattern = re.compile('t(?:i|o)p')\n",
    "pattern.findall(string)"
   ]
  },
  {
   "cell_type": "markdown",
   "id": "c6fb061e-3c28-4bfe-8f90-4dc1d02ebaaa",
   "metadata": {},
   "source": [
    "- ###  we need i or o in mid and T are first and p are last\n",
    "- ###  t(?:i|o)p matching only i or o\n",
    "- ###  output ['tip', 'top']\n"
   ]
  },
  {
   "cell_type": "markdown",
   "id": "697b1e0e-69cd-490b-a7a9-4575f0c66ce4",
   "metadata": {},
   "source": [
    "<br>\n",
    "\n",
    "## (?P&lt;label>)  Assign a name"
   ]
  },
  {
   "cell_type": "code",
   "execution_count": 3,
   "id": "5b4f7fce-5d13-415f-a344-da6328239440",
   "metadata": {},
   "outputs": [],
   "source": [
    "string = \"My email is john@example.com and yours is alice@gmail.com.\"\n",
    "pattern = re.compile('(?P<email>\\w+@\\w+\\.\\w+)')\n",
    "matchs = pattern.search(string)"
   ]
  },
  {
   "cell_type": "markdown",
   "id": "2b0d189c-7571-4774-b001-db2148e5cff9",
   "metadata": {},
   "source": [
    "## \n",
    "?P<email> only use for assign a name\n",
    "## but only work in .search and .match method"
   ]
  },
  {
   "cell_type": "markdown",
   "id": "b227048a-ad62-415a-bf47-c8d6926bcfa4",
   "metadata": {},
   "source": [
    "### Now access with email label\n"
   ]
  },
  {
   "cell_type": "code",
   "execution_count": 4,
   "id": "87a55903-86c3-47b5-b624-fef840e9bf69",
   "metadata": {},
   "outputs": [
    {
     "data": {
      "text/plain": [
       "{'email': 'john@example.com'}"
      ]
     },
     "execution_count": 4,
     "metadata": {},
     "output_type": "execute_result"
    }
   ],
   "source": [
    "# using groupdict()\n",
    "\n",
    "matchs.groupdict()"
   ]
  },
  {
   "cell_type": "code",
   "execution_count": 5,
   "id": "3d404554-c43f-499d-a212-9c25671bb9e8",
   "metadata": {},
   "outputs": [
    {
     "data": {
      "text/plain": [
       "'john@example.com'"
      ]
     },
     "execution_count": 5,
     "metadata": {},
     "output_type": "execute_result"
    }
   ],
   "source": [
    "# using group\n",
    "\n",
    "matchs.group('email')"
   ]
  },
  {
   "cell_type": "code",
   "execution_count": 6,
   "id": "ea207a39-72a7-46c0-9b73-36164b08e145",
   "metadata": {},
   "outputs": [
    {
     "data": {
      "text/plain": [
       "'john@example.com'"
      ]
     },
     "execution_count": 6,
     "metadata": {},
     "output_type": "execute_result"
    }
   ],
   "source": [
    "# using ['email']\n",
    "matchs['email']"
   ]
  },
  {
   "cell_type": "markdown",
   "id": "c4a7a770-5201-402d-a3e6-087559aab39f",
   "metadata": {},
   "source": [
    "## Example 2 \n",
    "## (?P&lt;label1>patern1)(?P&lt;label2>pattern2) Multi Assign Label"
   ]
  },
  {
   "cell_type": "code",
   "execution_count": 7,
   "id": "c498ba69-b90f-4219-8a19-1af3f0b6622a",
   "metadata": {},
   "outputs": [
    {
     "data": {
      "text/plain": [
       "<re.Match object; span=(0, 7), match='John 30'>"
      ]
     },
     "execution_count": 7,
     "metadata": {},
     "output_type": "execute_result"
    }
   ],
   "source": [
    "string = \"John 30\"\n",
    "pattern = re.compile(r\"(?P<name>\\w+) (?P<age>\\d+)\")\n",
    "pattern.search(string)"
   ]
  },
  {
   "cell_type": "code",
   "execution_count": 8,
   "id": "afddcaa8-56d7-4fb1-8704-4837cd069bbe",
   "metadata": {},
   "outputs": [
    {
     "data": {
      "text/plain": [
       "{'name': 'John', 'age': '30'}"
      ]
     },
     "execution_count": 8,
     "metadata": {},
     "output_type": "execute_result"
    }
   ],
   "source": [
    "# check groups\n",
    "pattern.search(string).groupdict()"
   ]
  },
  {
   "cell_type": "markdown",
   "id": "1f822a52-2ab5-4d0e-b75f-88bfd83fda30",
   "metadata": {},
   "source": [
    "### Example 3"
   ]
  },
  {
   "cell_type": "code",
   "execution_count": 9,
   "id": "6fb66f53-704c-4a9c-b4e5-6cc29729cde2",
   "metadata": {},
   "outputs": [
    {
     "data": {
      "text/plain": [
       "{'letters': 'abc', 'digits': '123'}"
      ]
     },
     "execution_count": 9,
     "metadata": {},
     "output_type": "execute_result"
    }
   ],
   "source": [
    "string = \"abc123\"\n",
    "\n",
    "# now seprate string and digits\n",
    "pattern = re.compile(r\"(?P<letters>\\D+)(?P<digits>\\d+)\")\n",
    "pattern.match(string).groupdict()"
   ]
  },
  {
   "cell_type": "markdown",
   "id": "2a7462b0-cbc3-4c73-aaaf-756c7e9bcf59",
   "metadata": {},
   "source": [
    "## <(?P&lt;x>pattern) (?P=x) backreference"
   ]
  },
  {
   "cell_type": "code",
   "execution_count": 10,
   "id": "d7cc383d-b7c6-470f-bd82-99dfd4ce1a9d",
   "metadata": {},
   "outputs": [
    {
     "data": {
      "text/plain": [
       "['div', 'p']"
      ]
     },
     "execution_count": 10,
     "metadata": {},
     "output_type": "execute_result"
    }
   ],
   "source": [
    "string = \"<div>this is fiv tag</div><p>paragraph</p>\"\n",
    "\n",
    "pattern = re.compile(r'<(?P<tag>\\w+)>.*</(?P=tag)>')\n",
    "pattern.findall(string)"
   ]
  },
  {
   "cell_type": "markdown",
   "id": "a098bf9f-0883-4008-91f3-25ed34ebdbc4",
   "metadata": {},
   "source": [
    "### also they assign label"
   ]
  },
  {
   "cell_type": "code",
   "execution_count": 11,
   "id": "3dba5067-3739-41a0-8216-5d50ed2c0c63",
   "metadata": {},
   "outputs": [
    {
     "data": {
      "text/plain": [
       "{'tag': 'div'}"
      ]
     },
     "execution_count": 11,
     "metadata": {},
     "output_type": "execute_result"
    }
   ],
   "source": [
    "pattern.match(string).groupdict()"
   ]
  },
  {
   "cell_type": "markdown",
   "id": "ac5c4d86-19c8-4994-92cc-f5affbb43f80",
   "metadata": {},
   "source": [
    "- ### <(?P&lt;tag>\\w+)> this pattern match the div and store or assign name tag like tag='div'\n",
    "- ### and .* match any no of occurrence\n",
    "- ### </(?P=tag)> and here tag represent to div so the match &lt;/div>"
   ]
  },
  {
   "cell_type": "markdown",
   "id": "4a2d9a3b-e0e8-4457-83e0-0bd659cd2113",
   "metadata": {},
   "source": [
    "## (?# comment )"
   ]
  },
  {
   "cell_type": "code",
   "execution_count": 12,
   "id": "5321e42d-8da3-43e9-a0ed-bf67f8f38766",
   "metadata": {},
   "outputs": [
    {
     "data": {
      "text/plain": [
       "['Hello', 'world']"
      ]
     },
     "execution_count": 12,
     "metadata": {},
     "output_type": "execute_result"
    }
   ],
   "source": [
    "string = \"Hello world\"\n",
    "\n",
    "pattern = re.compile(r'\\w+(?#this is comment)')\n",
    "pattern.findall(string)"
   ]
  },
  {
   "cell_type": "markdown",
   "id": "5fd50cc1-2406-4676-ac79-ade3eeb5839d",
   "metadata": {},
   "source": [
    "#### (?#this is comment) use for comment "
   ]
  },
  {
   "cell_type": "markdown",
   "id": "54d44979-b988-4904-9641-55b3ca8d4853",
   "metadata": {},
   "source": [
    "## positive lookahead\n",
    "<br>\n",
    "\n",
    "- ### Positive lookahead is used in regular expressions to specify a pattern that must be present immediately after the main pattern you are searching for."
   ]
  },
  {
   "cell_type": "code",
   "execution_count": 13,
   "id": "45c614d7-10c9-4cd2-977d-b77f428ac0b6",
   "metadata": {},
   "outputs": [
    {
     "data": {
      "text/plain": [
       "['user1@example.com']"
      ]
     },
     "execution_count": 13,
     "metadata": {},
     "output_type": "execute_result"
    }
   ],
   "source": [
    "# positive lookahead\n",
    "string = \"Emails: user1@example.com user2@example.net\"\n",
    "\n",
    "pattern = re.compile(r\"\\S+\\.(?=com)\\w+\")\n",
    "pattern.findall(string)\n"
   ]
  },
  {
   "cell_type": "markdown",
   "id": "24e29d1b-312c-47c6-aa77-ee51091dd3d0",
   "metadata": {},
   "source": [
    "- #### \\S+\\. matches and breaks the text at periods: user1@example. , user2@example.\n",
    "- #### (?=com) means that the next part should be \"com\" after user1@example,\n",
    "- #### but it won't include \"com\" in the output, so \\w+ is used to capture \"com\"\n",
    "- #### The output is ['user1@example.com']"
   ]
  },
  {
   "cell_type": "markdown",
   "id": "42dc50e5-f632-43a4-a8f9-ddea3fccdf82",
   "metadata": {},
   "source": [
    "### example 2"
   ]
  },
  {
   "cell_type": "code",
   "execution_count": 14,
   "id": "49553c21-2379-4cdd-8003-526de6cf2c0c",
   "metadata": {},
   "outputs": [
    {
     "data": {
      "text/plain": [
       "['like ']"
      ]
     },
     "execution_count": 14,
     "metadata": {},
     "output_type": "execute_result"
    }
   ],
   "source": [
    "string = \"I like apples, and I also like oranges.\"\n",
    "\n",
    "pattern = re.compile(r\"like (?=apples)\")\n",
    "pattern.findall(string)\n"
   ]
  },
  {
   "cell_type": "markdown",
   "id": "0b24988a-f486-4b2a-92be-b1f8e4fbf82c",
   "metadata": {},
   "source": [
    "- #### only match like with apples"
   ]
  },
  {
   "cell_type": "markdown",
   "id": "8961f487-c21b-43bd-99e4-88a00c82fa16",
   "metadata": {},
   "source": [
    "### example 3"
   ]
  },
  {
   "cell_type": "code",
   "execution_count": 15,
   "id": "17e9ada9-fdf0-4c9c-adaa-7484ec323502",
   "metadata": {},
   "outputs": [
    {
     "data": {
      "text/plain": [
       "['I like apples']"
      ]
     },
     "execution_count": 15,
     "metadata": {},
     "output_type": "execute_result"
    }
   ],
   "source": [
    "string = \"I like apples, and I also like oranges.\"\n",
    "\n",
    "pattern = re.compile(r\". like (?=apples)\\w+\")\n",
    "pattern.findall(string)\n"
   ]
  },
  {
   "cell_type": "markdown",
   "id": "baf946b5-29c4-4b00-955a-cf4868847925",
   "metadata": {},
   "source": [
    "- #### . match single previous word\n",
    "- #### like (?=apples) match only like with apples\n",
    "- #### \\w+ match remain string"
   ]
  },
  {
   "cell_type": "markdown",
   "id": "034f2106-1405-4156-a83a-8ce38a93261e",
   "metadata": {},
   "source": [
    "## positive lookbehind"
   ]
  },
  {
   "cell_type": "markdown",
   "id": "2321245a-5ce4-475e-a343-f4b18d743766",
   "metadata": {},
   "source": [
    "- #### Positive lookbehind is used in regular expressions to specify a pattern that must be present immediately before the main pattern you are searching for."
   ]
  },
  {
   "cell_type": "code",
   "execution_count": 16,
   "id": "a6147480-75c0-4662-b376-0c2d18b70fe8",
   "metadata": {},
   "outputs": [
    {
     "data": {
      "text/plain": [
       "['user1@example.com']"
      ]
     },
     "execution_count": 16,
     "metadata": {},
     "output_type": "execute_result"
    }
   ],
   "source": [
    "# positive lookbehind\n",
    "\n",
    "string = \"Emails: user1@example.com user2@example.net\"\n",
    "\n",
    "pattern = re.compile(r\"\\S+(?<=com)\")\n",
    "pattern.findall(string)\n"
   ]
  },
  {
   "cell_type": "markdown",
   "id": "10f2ff23-dfb3-4e35-a345-eba03f5045ac",
   "metadata": {},
   "source": [
    "- #### \\S+ will match until the end.\n",
    "- #### (?<=com) means that it should look behind until \"com\" is found,\n",
    "- #### but it will include \"com\" in the output.\n",
    "- #### The output is ['user1@example.com']"
   ]
  },
  {
   "cell_type": "markdown",
   "id": "843c91b3-0b66-438d-9d0e-2971e1c403ac",
   "metadata": {},
   "source": [
    "### example 2"
   ]
  },
  {
   "cell_type": "code",
   "execution_count": 17,
   "id": "9ed17a95-d59b-4ac4-b667-3f873d75bdaa",
   "metadata": {},
   "outputs": [
    {
     "data": {
      "text/plain": [
       "['apples']"
      ]
     },
     "execution_count": 17,
     "metadata": {},
     "output_type": "execute_result"
    }
   ],
   "source": [
    "string = \"I like apples, and I also like oranges.\"\n",
    "\n",
    "pattern = re.compile(r\"(?<=I like )apples\")\n",
    "pattern.findall(string)"
   ]
  },
  {
   "cell_type": "markdown",
   "id": "3f25ed53-724a-41e2-9a43-6a5288f0f7bd",
   "metadata": {},
   "source": [
    "#### only match i like after apples"
   ]
  },
  {
   "cell_type": "markdown",
   "id": "9dea5b2a-bb24-4da3-90d4-94024e2b5d0d",
   "metadata": {},
   "source": [
    "### example 3"
   ]
  },
  {
   "cell_type": "code",
   "execution_count": 18,
   "id": "3536f32f-ef04-465b-bf50-ec8161f4e2be",
   "metadata": {},
   "outputs": [
    {
     "data": {
      "text/plain": [
       "['I like apples']"
      ]
     },
     "execution_count": 18,
     "metadata": {},
     "output_type": "execute_result"
    }
   ],
   "source": [
    "string = \"I like apples, and I also like oranges.\"\n",
    "\n",
    "pattern = re.compile(r\".* (?<=I like )apples\")\n",
    "pattern.findall(string)"
   ]
  },
  {
   "cell_type": "markdown",
   "id": "9319bab9-e6d7-46c0-8e24-262472ae6123",
   "metadata": {},
   "source": [
    "- #### .* match previous string (I like )\n",
    "- #### and (?<=I like )apples only match i like after apples"
   ]
  },
  {
   "cell_type": "markdown",
   "id": "bc5b5e9e-cafe-4aa7-bc40-7ae56a7bbaec",
   "metadata": {},
   "source": [
    "## Negative lookahead\n",
    "<br>\n",
    "\n",
    "- #### Negative lookahead is used in regular expressions to specify a pattern that should not be present immediately after the main pattern you are searching for."
   ]
  },
  {
   "cell_type": "code",
   "execution_count": 19,
   "id": "90af62c1-f2ba-41a6-b400-7e005db37b82",
   "metadata": {},
   "outputs": [
    {
     "data": {
      "text/plain": [
       "['user1@example.com']"
      ]
     },
     "execution_count": 19,
     "metadata": {},
     "output_type": "execute_result"
    }
   ],
   "source": [
    "string = \"Emails: user1@example.com user2@example.net\"\n",
    "\n",
    "pattern = re.compile(r'\\S+\\.(?!net)\\w+')\n",
    "pattern.findall(string) "
   ]
  },
  {
   "cell_type": "markdown",
   "id": "5301f165-a28e-4323-a2e8-f4c663a14403",
   "metadata": {},
   "source": [
    "- #### \\S+\\. will match until the next dot: user1@example. and user2@example.\n",
    "- #### (?!net) will match if the next part doesn't contain \"net\". If it contains \"net,\" it will skip that part.\n",
    "- #### After skipping, it will output what matches, which is user1@example.\n",
    "- #### Then, \\w+ will match the remaining part and output it.\n",
    "- #### The final output is ['user1@example.com']"
   ]
  },
  {
   "cell_type": "markdown",
   "id": "b1405a2a-ac40-4b83-9ed7-81e968633cfb",
   "metadata": {},
   "source": [
    "### example 2"
   ]
  },
  {
   "cell_type": "code",
   "execution_count": 20,
   "id": "d0061826-5f4e-4455-bd40-cfe18cb9b51a",
   "metadata": {},
   "outputs": [
    {
     "data": {
      "text/plain": [
       "['like']"
      ]
     },
     "execution_count": 20,
     "metadata": {},
     "output_type": "execute_result"
    }
   ],
   "source": [
    "string = \"I like apples, but I don't like oranges.\"\n",
    "\n",
    "pattern = re.compile(r\"like(?! oranges)\")\n",
    "pattern.findall(string)"
   ]
  },
  {
   "cell_type": "markdown",
   "id": "b75fd1b9-ce40-4622-a29d-ade78aa6a065",
   "metadata": {},
   "source": [
    "- #### skip only like with oranges "
   ]
  },
  {
   "cell_type": "markdown",
   "id": "6b5e367e-f42f-4aee-ba4d-239c8c57bd04",
   "metadata": {},
   "source": [
    "### example 2"
   ]
  },
  {
   "cell_type": "code",
   "execution_count": 21,
   "id": "4c4dd184-abee-408f-aa54-81dcd4baa031",
   "metadata": {},
   "outputs": [
    {
     "data": {
      "text/plain": [
       "['I like apples']"
      ]
     },
     "execution_count": 21,
     "metadata": {},
     "output_type": "execute_result"
    }
   ],
   "source": [
    "string = \"I like apples, but I don't like oranges.\"\n",
    "\n",
    "pattern = re.compile(r\". like(?! oranges) \\w+\")\n",
    "pattern.findall(string)"
   ]
  },
  {
   "cell_type": "markdown",
   "id": "10daf0e4-e1b6-4a58-b468-386a9a6a0869",
   "metadata": {},
   "source": [
    "- #### . match the I\n",
    "- ####   like(?! oranges) skip the like with orange\n",
    "- ####   \\w+ show all remain string"
   ]
  },
  {
   "cell_type": "markdown",
   "id": "8ccac86b-cb03-42f3-85de-011cfb6808fc",
   "metadata": {},
   "source": [
    "## Negative lookbehind\n",
    "<br>\n",
    "\n",
    "#### Negative lookbehind is used in regular expressions to specify a pattern that should not be present immediately before the main pattern you are searching for."
   ]
  },
  {
   "cell_type": "code",
   "execution_count": 22,
   "id": "a3607578-8b50-46cc-8604-bd49c4e1291e",
   "metadata": {},
   "outputs": [
    {
     "data": {
      "text/plain": [
       "['user1@example.com']"
      ]
     },
     "execution_count": 22,
     "metadata": {},
     "output_type": "execute_result"
    }
   ],
   "source": [
    "string = \"Emails: user2@example.net user1@example.com\"\n",
    "\n",
    "pattern = re.compile(r\"\\S+\\.(?<!user2@example.)\\S+\")\n",
    "pattern.findall(string)\n"
   ]
  },
  {
   "cell_type": "markdown",
   "id": "e0ecb92b-fab1-4bc7-87da-36028275f550",
   "metadata": {},
   "source": [
    "- #### \\S+\\. --> This pattern will match \\S+, which represents any non-space sequence, followed by a dot (.). This means it will match the domain name of an email address.\n",
    "    - #### Example: It will match both \"user2@example.\" and \"user1@example.\"\n",
    "<br>\n",
    "\n",
    "- #### (?<!user2@example\\.) --> This pattern excludes strings that come before \"user2@example.\"\n",
    "    - #### Example: This pattern will exclude \"user2@example.com.\"\n",
    "<br>\n",
    "\n",
    "- #### \\S+\\.(?<!user2@example\\.) --> This pattern extends the first pattern (point 1) but excludes any strings that come before \"user2@example.\" This means it will only match strings like \"user1@example.\"\n",
    "<br>\n",
    "\n",
    "- #### \\w+ com --> This pattern will match any word that comes before \"com.\"\n",
    "    - #### Example: In \"user1@example.com,\" it will match \"example\" before \"com.\"\n",
    "<br>\n",
    "\n",
    "- #### So, according to these patterns, the final output will be \"['user1@example.com'].\""
   ]
  },
  {
   "cell_type": "markdown",
   "id": "07a4d8d5-94c0-43d1-97b3-a07539d06be0",
   "metadata": {},
   "source": [
    "### example 2"
   ]
  },
  {
   "cell_type": "code",
   "execution_count": 23,
   "id": "c89f6b37-1cfa-42f5-b0da-ae8ea895c104",
   "metadata": {},
   "outputs": [
    {
     "data": {
      "text/plain": [
       "['like']"
      ]
     },
     "execution_count": 23,
     "metadata": {},
     "output_type": "execute_result"
    }
   ],
   "source": [
    "string = \"I don't like apples, but I like pineapples.\"\n",
    "\n",
    "pattern = re.compile(r\"(?<!don't )like\")\n",
    "pattern.findall(string)"
   ]
  },
  {
   "cell_type": "markdown",
   "id": "e74d821d-5a71-480b-b767-c9c322ef5005",
   "metadata": {},
   "source": [
    "#### only skip (don't like) and output (like) pineaples."
   ]
  },
  {
   "cell_type": "markdown",
   "id": "34663c7c-0c78-4e02-8132-91f476b716c1",
   "metadata": {},
   "source": [
    "### example 3"
   ]
  },
  {
   "cell_type": "code",
   "execution_count": 24,
   "id": "daeebb5f-4a73-4fd2-96f8-10ebecc3611a",
   "metadata": {},
   "outputs": [
    {
     "data": {
      "text/plain": [
       "['I like pineapples.']"
      ]
     },
     "execution_count": 24,
     "metadata": {},
     "output_type": "execute_result"
    }
   ],
   "source": [
    "string = \"I don't like apples, but I like pineapples.\"\n",
    "\n",
    "pattern = re.compile(r\". (?<!don't )like .*\")\n",
    "pattern.findall(string)"
   ]
  },
  {
   "cell_type": "markdown",
   "id": "e92b0c2d-c896-47eb-b883-81d42a42c307",
   "metadata": {},
   "source": [
    "- #### . match the I\n",
    "- #### (?<!don't )like  skip the like apple\n",
    "- #### .* show all remain string"
   ]
  }
 ],
 "metadata": {
  "kernelspec": {
   "display_name": "Python 3 (ipykernel)",
   "language": "python",
   "name": "python3"
  },
  "language_info": {
   "codemirror_mode": {
    "name": "ipython",
    "version": 3
   },
   "file_extension": ".py",
   "mimetype": "text/x-python",
   "name": "python",
   "nbconvert_exporter": "python",
   "pygments_lexer": "ipython3",
   "version": "3.10.12"
  }
 },
 "nbformat": 4,
 "nbformat_minor": 5
}

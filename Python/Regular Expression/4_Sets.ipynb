{
 "cells": [
  {
   "cell_type": "markdown",
   "metadata": {
    "id": "IdGNHDUB4MN7",
    "vscode": {
     "languageId": "plaintext"
    }
   },
   "source": [
    "\n",
    "\n",
    "<br>\n",
    "\n",
    "- ### x{n,}\n",
    "  - ### Match n or More Occurrences\n",
    "  - ### o{3,} in \"Hellooo, hoooow are yoooooou\" -> ooo oooo oooooo\n",
    "\n",
    "<br>\n",
    "\n",
    "- ### x{n1,n2}\n",
    "  - ### Occurrences Between n1 to n2\n",
    "  - ### o{3,4} in \"Hellooo, hoooow are yoooooou\" -> ooo oooo oooo\n",
    "\n",
    "\n",
    "<br><br><br>"
   ]
  },
  {
   "cell_type": "markdown",
   "metadata": {
    "id": "D4kUQFig4MN9"
   },
   "source": [
    "- ### [abc]\n",
    "    - ### Returns a match where one of the specified characters is present"
   ]
  },
  {
   "cell_type": "code",
   "execution_count": 1,
   "metadata": {
    "id": "NLrqcfT44MN_"
   },
   "outputs": [],
   "source": [
    "import re"
   ]
  },
  {
   "cell_type": "code",
   "execution_count": 2,
   "metadata": {
    "colab": {
     "base_uri": "https://localhost:8080/"
    },
    "id": "btTaX11t4MOD",
    "outputId": "ca72f98a-e37e-43a8-e653-34b9b82d8469"
   },
   "outputs": [
    {
     "data": {
      "text/plain": [
       "['c', 'x', 'x']"
      ]
     },
     "execution_count": 2,
     "metadata": {},
     "output_type": "execute_result"
    }
   ],
   "source": [
    "text = \"abc123xyzx\"\n",
    "\n",
    "pattern = re.compile(r\"[xc]\")\n",
    "pattern.findall(text)"
   ]
  },
  {
   "cell_type": "markdown",
   "metadata": {
    "id": "lJypU1KB4MOG"
   },
   "source": [
    "- ### [a-c]\n",
    "- ### Returns a match for any lower case character, alphabetically between a and c"
   ]
  },
  {
   "cell_type": "code",
   "execution_count": 3,
   "metadata": {
    "colab": {
     "base_uri": "https://localhost:8080/"
    },
    "id": "fjkSnshO4MOI",
    "outputId": "7d261f58-9acb-4374-e436-1c58c1d48408"
   },
   "outputs": [
    {
     "data": {
      "text/plain": [
       "['a', 'b', 'c', 'c']"
      ]
     },
     "execution_count": 3,
     "metadata": {},
     "output_type": "execute_result"
    }
   ],
   "source": [
    "text = \"abcdcefg\"\n",
    "\n",
    "pattern = re.compile(r\"[a-c]\")\n",
    "pattern.findall(text)"
   ]
  },
  {
   "cell_type": "markdown",
   "metadata": {
    "id": "ENYNURW64MOJ"
   },
   "source": [
    "- ### [^ac]\n",
    "- ### Returns a match for any character EXCEPT a and c"
   ]
  },
  {
   "cell_type": "code",
   "execution_count": 4,
   "metadata": {
    "colab": {
     "base_uri": "https://localhost:8080/"
    },
    "id": "2XzT_Jjz4MOL",
    "outputId": "b52af2be-2120-4bbd-c9cb-436ce03dbacc"
   },
   "outputs": [
    {
     "data": {
      "text/plain": [
       "['b', 'd', 'e', 'f', 'g']"
      ]
     },
     "execution_count": 4,
     "metadata": {},
     "output_type": "execute_result"
    }
   ],
   "source": [
    "text = \"abcdcefg\"\n",
    "\n",
    "pattern = re.compile(r\"[^ac]\")\n",
    "pattern.findall(text)"
   ]
  },
  {
   "cell_type": "markdown",
   "metadata": {
    "id": "cZmn-Uq24MOO"
   },
   "source": [
    "- ### [0-3]\n",
    "    - ### Returns a match for any digit between 0 and 3"
   ]
  },
  {
   "cell_type": "code",
   "execution_count": 5,
   "metadata": {
    "colab": {
     "base_uri": "https://localhost:8080/"
    },
    "id": "3edZSWn64MOP",
    "outputId": "c53c3fd7-7c45-44e6-9d96-cfb3c7b97479"
   },
   "outputs": [
    {
     "data": {
      "text/plain": [
       "['0', '1', '2', '3']"
      ]
     },
     "execution_count": 5,
     "metadata": {},
     "output_type": "execute_result"
    }
   ],
   "source": [
    "text = \"0123456\"\n",
    "\n",
    "pattern = re.compile(r\"[0-3]\")\n",
    "pattern.findall(text)"
   ]
  },
  {
   "cell_type": "markdown",
   "metadata": {
    "id": "e-X8x3Ne4MOS"
   },
   "source": [
    "- ### [0-5][0-9]\n",
    "- ### Returns a match for any two-digit numbers from 00 and 59"
   ]
  },
  {
   "cell_type": "code",
   "execution_count": 22,
   "metadata": {
    "colab": {
     "base_uri": "https://localhost:8080/"
    },
    "id": "z-Vk78cE4MOT",
    "outputId": "c47f1ea0-b584-406a-9698-c5fd4e182b99"
   },
   "outputs": [
    {
     "data": {
      "text/plain": [
       "['10', '50']"
      ]
     },
     "execution_count": 22,
     "metadata": {},
     "output_type": "execute_result"
    }
   ],
   "source": [
    "text = \"105060\"\n",
    "\n",
    "pattern = re.compile(r\"[0-5][0-9]\") # extract range 00 to 59\n",
    "pattern.findall(text)"
   ]
  },
  {
   "cell_type": "markdown",
   "metadata": {
    "id": "5IKk_e--4MOU"
   },
   "source": [
    "- ### [a-zA-Z]\n",
    "- ### Returns a match for any character alphabetically between a and z, lower case OR upper case"
   ]
  },
  {
   "cell_type": "code",
   "execution_count": 24,
   "metadata": {
    "colab": {
     "base_uri": "https://localhost:8080/"
    },
    "id": "g8svV2Nq4MOV",
    "outputId": "8964da69-d71e-4f0f-cd3b-2270de3be6da"
   },
   "outputs": [
    {
     "data": {
      "text/plain": [
       "['C', 'D', 'E', 'a', 'b', 'c']"
      ]
     },
     "execution_count": 24,
     "metadata": {},
     "output_type": "execute_result"
    }
   ],
   "source": [
    "text = \"ABCDEFGabcdefg\"\n",
    "\n",
    "pattern = re.compile(r\"[a-cC-E]\")\n",
    "pattern.findall(text)"
   ]
  },
  {
   "cell_type": "markdown",
   "metadata": {
    "id": "Q1vATBZy9CGv"
   },
   "source": [
    "<br>\n",
    "\n",
    "- ### {n,}\n",
    "- ### Match n or More Occurrences"
   ]
  },
  {
   "cell_type": "code",
   "execution_count": 26,
   "metadata": {
    "colab": {
     "base_uri": "https://localhost:8080/"
    },
    "id": "u-Fk8ASR9Ml_",
    "outputId": "fc5a3d3d-7cd0-432b-9459-0bb427dae0bd"
   },
   "outputs": [
    {
     "data": {
      "text/plain": [
       "['ooo', 'oooo', 'oooooo']"
      ]
     },
     "execution_count": 26,
     "metadata": {},
     "output_type": "execute_result"
    }
   ],
   "source": [
    "text = \"Helloo Hellooo, hoooow are yoooooou\"\n",
    "\n",
    "pattern = re.compile(r\"o{3,}\")\n",
    "pattern.findall(text)\n",
    "\n"
   ]
  },
  {
   "cell_type": "markdown",
   "metadata": {
    "id": "3i-9YAuf_stx"
   },
   "source": [
    "- ### x{n1,n2}\n",
    "  - ### Occurrences Between n1 to n2"
   ]
  },
  {
   "cell_type": "code",
   "execution_count": 27,
   "metadata": {
    "colab": {
     "base_uri": "https://localhost:8080/"
    },
    "id": "eXk5j-6J_Wcn",
    "outputId": "eb7f01bf-aaae-45ff-88ff-72bab82434a1"
   },
   "outputs": [
    {
     "data": {
      "text/plain": [
       "['ooo', 'oooo', 'oooo']"
      ]
     },
     "execution_count": 27,
     "metadata": {},
     "output_type": "execute_result"
    }
   ],
   "source": [
    "text = \"Hellooo, hoooow are yoooooou\"\n",
    "pattern = re.compile(r\"o{3,4}\")\n",
    "pattern.findall(text)"
   ]
  }
 ],
 "metadata": {
  "colab": {
   "provenance": []
  },
  "kernelspec": {
   "display_name": "Python 3 (ipykernel)",
   "language": "python",
   "name": "python3"
  },
  "language_info": {
   "codemirror_mode": {
    "name": "ipython",
    "version": 3
   },
   "file_extension": ".py",
   "mimetype": "text/x-python",
   "name": "python",
   "nbconvert_exporter": "python",
   "pygments_lexer": "ipython3",
   "version": "3.10.12"
  }
 },
 "nbformat": 4,
 "nbformat_minor": 4
}

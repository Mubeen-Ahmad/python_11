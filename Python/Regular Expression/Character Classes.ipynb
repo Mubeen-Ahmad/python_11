{
 "cells": [
  {
   "cell_type": "markdown",
   "id": "3cb12c3b-7f41-49b0-92e2-505f95bb9609",
   "metadata": {},
   "source": [
    "## Character classes are defined using square brackets []. \n",
    "<br>\n",
    "\n",
    "- ### They allow you to specify a set of characters that you want to match against.\n",
    "- ### The square brackets can contain individual characters, ranges of characters, and special characters for certain character types"
   ]
  },
  {
   "cell_type": "markdown",
   "id": "38c58c8d-30cf-4f23-a440-1b4eb5db1b29",
   "metadata": {},
   "source": [
    "<br><br>\n",
    "\n",
    "<table>\n",
    "  <thead>\n",
    "    <tr>\n",
    "      <th><h3>MetaCharacter</h3></th>\n",
    "      <th><h3>Legend</h3></th>\n",
    "      <th><h3>Example</h3></th>\n",
    "      <th><h3>Sample</h3></th>\n",
    "      <th><h3>Output</h3></th>\n",
    "    </tr>\n",
    "  </thead>\n",
    "  <tbody>\n",
    "    <tr>\n",
    "      <td><h4>[ABC]</h4></td>\n",
    "      <td><h4>Only ABC characters</h4></td>\n",
    "      <td><h4><code>[ABC]</code></h4></td>\n",
    "      <td><h4>\"AaBbcC\"</h4></td>\n",
    "      <td><h4>['A', 'B', 'C']</h4></td>\n",
    "    </tr>\n",
    "    <tr>\n",
    "      <td><h4>t[io]p</h4></td>\n",
    "      <td><h4>One of the characters in the brackets</h4></td>\n",
    "      <td><h4><code>t[io]p</code></h4></td>\n",
    "      <td><h4>\"tap top tip tcp\"</h4></td>\n",
    "      <td><h4>\"tip top\"</h4></td>\n",
    "    </tr>\n",
    "    <tr>\n",
    "      <td><h4>[B-D]</h4></td>\n",
    "      <td><h4>only range B to D</h4></td>\n",
    "      <td><h4><code>[B-D]</code></h4></td>\n",
    "      <td><h4>\"ABCDefgH\"</h4></td>\n",
    "      <td><h4>\"['B', 'C', 'D']\"</h4></td>\n",
    "    </tr>\n",
    "    <tr>\n",
    "      <td><h4>[D-Fk-m]</h4></td>\n",
    "      <td><h4>only D to F and k to m</h4></td>\n",
    "      <td><h4><code>[D-Fk-m]</code></h4></td>\n",
    "      <td><h4>\"ABCDEFghijklm\"</h4></td>\n",
    "      <td><h4>['D', 'E', 'F', 'k', 'l', 'm']</h4></td>\n",
    "    </tr>\n",
    "     <tr>\n",
    "      <td><h4>[b-dF-G3-6]</h4></td>\n",
    "      <td><h4>range only b to d and F to G and 3 to 6</h4></td>\n",
    "      <td><h4><code>[b-dF-G3-6]</code></h4></td>\n",
    "      <td><h4>\"abcdEFGhi1234567\"</h4></td>\n",
    "      <td><h4>\"['b', 'c', 'd', 'F', 'G', '3', '4', '5', '6']\"</h4></td>\n",
    "    </tr>\n",
    "    <tr>\n",
    "      <td><h4>[b-dF-G3-6]+</h4></td>\n",
    "      <td><h4>class(Specfic) Range with Once or More</h4></td>\n",
    "      <td><h4><code>[b-dF-G3-6]+</code></h4></td>\n",
    "      <td><h4>\"abcdEFGhi1234567\"</h4></td>\n",
    "      <td><h4>['bcd', 'FG', '3456']</h4></td>\n",
    "    </tr>\n",
    "      <tr>\n",
    "      <td><h4>[^l]</h4></td>\n",
    "      <td><h4>All characters except l</h4></td>\n",
    "      <td><h4><code>[^l]</code></h4></td>\n",
    "      <td><h4>\"hello world\"</h4></td>\n",
    "      <td><h4>['h', 'e', 'o', ' ', 'w', 'o', 'r', 'd']</h4></td>\n",
    "    </tr>\n",
    "      <tr>\n",
    "      <td><h4>[^l]+</h4></td>\n",
    "      <td><h4>Skip l with + Once or More</h4></td>\n",
    "      <td><h4><code>[^l]+</code></h4></td>\n",
    "      <td><h4>\"hello world\"</h4></td>\n",
    "      <td><h4>['he', 'o wor', 'd']</h4></td>\n",
    "    </tr>\n",
    "      </tr>\n",
    "      <tr>\n",
    "      <td><h4>[ -~]+</h4></td>\n",
    "      <td><h4>printable section of the ASCII table</h4></td>\n",
    "      <td><h4><code>[ -~]+</code></h4></td>\n",
    "      <td><h4>\"Hello World 123 ^ _ ^\\n\\t\"</h4></td>\n",
    "      <td><h4>['Hello World 123 ^ _ ^']</h4></td>\n",
    "    </tr>\n",
    "    <tr>\n",
    "      <td><h4>[^ -~]+</h4></td>\n",
    "      <td><h4>skip all printable section of the ASCII table</h4></td>\n",
    "      <td><h4><code>[^ -~]+</code></h4></td>\n",
    "      <td><h4>\"Hello World 123 ^ _ ^\\n\\t\"</h4></td>\n",
    "      <td><h4>\\n\\t</h4></td>\n",
    "    </tr>\n",
    "    <tr>\n",
    "      <td><h4>[\\x42-\\x44]+</h4></td>\n",
    "      <td><h4>Hexadecimal 42 to 44 (B to D)</h4></td>\n",
    "      <td><h4><code>[\\x42-\\x44]+</code></h4></td>\n",
    "      <td><h4>\"ABCDE\"</h4></td>\n",
    "      <td><h4>['BCD']</h4></td>\n",
    "    </tr>\n",
    "  </tbody>\n",
    "</table>\n",
    "\n"
   ]
  },
  {
   "cell_type": "code",
   "execution_count": 1,
   "id": "8a4569fa-7a2b-4818-8655-f6ff58c15419",
   "metadata": {},
   "outputs": [],
   "source": [
    "import re"
   ]
  },
  {
   "cell_type": "markdown",
   "id": "6f601268-4cf8-489e-902b-1abcc21ce7f6",
   "metadata": {},
   "source": [
    "## [ABC] all ABC characters"
   ]
  },
  {
   "cell_type": "code",
   "execution_count": 2,
   "id": "4d8fcb70-a090-4897-9f76-caf5221a9a6e",
   "metadata": {},
   "outputs": [
    {
     "name": "stdout",
     "output_type": "stream",
     "text": [
      "['A', 'B', 'C']\n"
     ]
    }
   ],
   "source": [
    "string = \"AaBbcC\"\n",
    "pattern = re.compile(r\"[ABC]\")\n",
    "print(pattern.findall(string))"
   ]
  },
  {
   "cell_type": "markdown",
   "id": "50ac2a7d-f420-4c74-9e1b-e300e53dcead",
   "metadata": {},
   "source": [
    "## t[io]p only tip and top match"
   ]
  },
  {
   "cell_type": "code",
   "execution_count": 3,
   "id": "f401059a-7cae-4485-8183-597d98d8bac8",
   "metadata": {},
   "outputs": [
    {
     "name": "stdout",
     "output_type": "stream",
     "text": [
      "['top', 'tip']\n"
     ]
    }
   ],
   "source": [
    "string = \"tap top tip tcp\"\n",
    "pattern = re.compile(r\"t[io]p\")\n",
    "print(pattern.findall(string))"
   ]
  },
  {
   "cell_type": "markdown",
   "id": "708aa10e-6a8e-41ba-b50d-b8ebf8756242",
   "metadata": {},
   "source": [
    "## [B-D] only B to D range"
   ]
  },
  {
   "cell_type": "code",
   "execution_count": 4,
   "id": "19aa1d8f-7e4e-405a-9646-ec120232c2c2",
   "metadata": {},
   "outputs": [
    {
     "name": "stdout",
     "output_type": "stream",
     "text": [
      "['B', 'C', 'D']\n"
     ]
    }
   ],
   "source": [
    "string = \"ABCDefgH\"\n",
    "pattern = re.compile(r\"[B-D]\")\n",
    "print(pattern.findall(string))"
   ]
  },
  {
   "cell_type": "markdown",
   "id": "36832f84-911e-4dd0-b4e1-ed4de475a1f0",
   "metadata": {},
   "source": [
    "## [D-Fk-m] only D to F and k to m"
   ]
  },
  {
   "cell_type": "code",
   "execution_count": 5,
   "id": "d94b6180-4186-4199-8663-f58c9eb5246a",
   "metadata": {},
   "outputs": [
    {
     "name": "stdout",
     "output_type": "stream",
     "text": [
      "['D', 'E', 'F', 'k', 'l', 'm']\n"
     ]
    }
   ],
   "source": [
    "string = \"ABCDEFghijklm\"\n",
    "pattern = re.compile(r\"[D-Fk-m]\")\n",
    "print(pattern.findall(string))"
   ]
  },
  {
   "cell_type": "markdown",
   "id": "0b689d3f-c800-4cfc-a74f-378a3217d1ac",
   "metadata": {},
   "source": [
    "## [b-dF-G3-6] range only b to d and F to G and 3 to 6"
   ]
  },
  {
   "cell_type": "code",
   "execution_count": 6,
   "id": "0f81a5c1-6038-4e2b-985e-5e1e3833bc89",
   "metadata": {},
   "outputs": [
    {
     "name": "stdout",
     "output_type": "stream",
     "text": [
      "['5', 'b', 'c', 'd', 'F', 'G', '3', '4', '5', '6']\n"
     ]
    }
   ],
   "source": [
    "string = \"5abcdEFGhi1234567\"\n",
    "pattern = re.compile(r\"[b-dF-G3-6]\")\n",
    "print(pattern.findall(string))\n"
   ]
  },
  {
   "cell_type": "markdown",
   "id": "b0c45443-6b40-4229-9a45-ed7aeb1d3de1",
   "metadata": {},
   "source": [
    "## [b-dF-G3-6]+ class with Once or More"
   ]
  },
  {
   "cell_type": "code",
   "execution_count": 7,
   "id": "2dd36fcd-71ae-4207-bd44-e4343d4c9eb6",
   "metadata": {},
   "outputs": [
    {
     "name": "stdout",
     "output_type": "stream",
     "text": [
      "['bcd', 'FG', '3456']\n"
     ]
    }
   ],
   "source": [
    "string = \"abcdEFGhi1234567\"\n",
    "pattern = re.compile(r\"[b-dF-G3-6]+\")\n",
    "print(pattern.findall(string))"
   ]
  },
  {
   "cell_type": "markdown",
   "id": "feba92dd-f45a-4511-a7a0-9e9403495ca8",
   "metadata": {},
   "source": [
    "## [^l] all characters except l"
   ]
  },
  {
   "cell_type": "code",
   "execution_count": 8,
   "id": "a679354e-0f85-4367-b343-5d6ca50e6d88",
   "metadata": {},
   "outputs": [
    {
     "name": "stdout",
     "output_type": "stream",
     "text": [
      "['h', 'e', 'o', ' ', 'w', 'o', 'r', 'd']\n"
     ]
    }
   ],
   "source": [
    "string = \"hello world\"\n",
    "pattern = re.compile(r\"[^l]\")\n",
    "print(pattern.findall(string))"
   ]
  },
  {
   "cell_type": "markdown",
   "id": "254bf157-ecd4-4ead-809d-e455039ce882",
   "metadata": {},
   "source": [
    "## [^l]+ Skip l with + once or More "
   ]
  },
  {
   "cell_type": "code",
   "execution_count": 9,
   "id": "62190fce-734f-4129-842f-f8143c08928f",
   "metadata": {},
   "outputs": [
    {
     "name": "stdout",
     "output_type": "stream",
     "text": [
      "['he', 'o wor', 'd']\n"
     ]
    }
   ],
   "source": [
    "string = \"hello world\"\n",
    "pattern = re.compile(r\"[^l]+\")\n",
    "print(pattern.findall(string))"
   ]
  },
  {
   "cell_type": "markdown",
   "id": "b6459aa6-ae54-4427-a7b7-167ccb73067b",
   "metadata": {},
   "source": [
    "## [ -~]+ printable section of the ASCII table"
   ]
  },
  {
   "cell_type": "code",
   "execution_count": 10,
   "id": "a0e113ef-f0e5-4124-a438-fa03c3dc24d4",
   "metadata": {},
   "outputs": [
    {
     "name": "stdout",
     "output_type": "stream",
     "text": [
      "['Hello World 123 ^ _ ^']\n"
     ]
    }
   ],
   "source": [
    "string = \"Hello World 123 ^ _ ^\\n\\t\"\n",
    "pattern = re.compile(r\"[ -~]+\")\n",
    "print(pattern.findall(string))"
   ]
  },
  {
   "cell_type": "code",
   "execution_count": 11,
   "id": "045c00e7-839a-423c-9493-b1d360ba21d7",
   "metadata": {},
   "outputs": [
    {
     "name": "stdout",
     "output_type": "stream",
     "text": [
      "[\"!#$%&'()*+,-./0123456789:;<=>?@ABCDEFGHIJKLMNOPQRSTUVWXYZ[\\\\]^_`abcdefghijklmnopqrstuvwxyz{|}~\"]\n"
     ]
    }
   ],
   "source": [
    "# Example 2\n",
    "\n",
    "string = \"!#$%&'()*+,-./0123456789:;<=>?@ABCDEFGHIJKLMNOPQRSTUVWXYZ[\\]^_`abcdefghijklmnopqrstuvwxyz{|}~\\n\"\n",
    "pattern = re.compile(r\"[ -~]+\")\n",
    "print(pattern.findall(string))"
   ]
  },
  {
   "cell_type": "markdown",
   "id": "9adf1f83-2e82-4714-8791-44901790d518",
   "metadata": {},
   "source": [
    "## [^ -~]+  Skip all printable section of the ASCII table"
   ]
  },
  {
   "cell_type": "code",
   "execution_count": 12,
   "id": "f41379f1-5a75-44f0-b188-50d304c55f5b",
   "metadata": {},
   "outputs": [
    {
     "name": "stdout",
     "output_type": "stream",
     "text": [
      "['\\n\\t']\n"
     ]
    }
   ],
   "source": [
    "string = \"Hello World 123 ^ _ ^\\n\\t\"\n",
    "pattern = re.compile(r\"[^ -~]+\")\n",
    "print(pattern.findall(string))"
   ]
  },
  {
   "cell_type": "markdown",
   "id": "7bf047de-7c84-4b0f-9db9-776f847013c4",
   "metadata": {},
   "source": [
    "## [\\x42-\\x44]+ hexadecimal 42 to 44 (B to D)"
   ]
  },
  {
   "cell_type": "code",
   "execution_count": 13,
   "id": "c76f6553-1dda-451a-9853-952a52d1b344",
   "metadata": {},
   "outputs": [
    {
     "name": "stdout",
     "output_type": "stream",
     "text": [
      "['BCD']\n"
     ]
    }
   ],
   "source": [
    "string = \"ABCDE\"\n",
    "\n",
    "pattern = re.compile(r\"[\\x42-\\x44]+\")\n",
    "print(pattern.findall(string))"
   ]
  }
 ],
 "metadata": {
  "kernelspec": {
   "display_name": "Python 3 (ipykernel)",
   "language": "python",
   "name": "python3"
  },
  "language_info": {
   "codemirror_mode": {
    "name": "ipython",
    "version": 3
   },
   "file_extension": ".py",
   "mimetype": "text/x-python",
   "name": "python",
   "nbconvert_exporter": "python",
   "pygments_lexer": "ipython3",
   "version": "3.10.12"
  }
 },
 "nbformat": 4,
 "nbformat_minor": 5
}

{
 "cells": [
  {
   "cell_type": "markdown",
   "id": "3626a470",
   "metadata": {},
   "source": [
    "# sub\n",
    "\n",
    "- ### The re.sub() function in the re module of Python is used for string substitution or replacement based on a regular expression pattern."
   ]
  },
  {
   "cell_type": "markdown",
   "id": "19f34a37",
   "metadata": {},
   "source": [
    "# Syntax\n",
    "- ### re.sub(pattern, repl, string, count=0, flags=0)\n",
    "<br>\n",
    "\n",
    "- ### *pattern* : The regular expression pattern search\n",
    "<br>\n",
    "\n",
    "- ### *repl* : The replacement string to substitute in place of the matched pattern.\n",
    "<br>\n",
    "\n",
    "- ### *string* : The input string in which the substitution is to be performed.\n",
    "<br>\n",
    "\n",
    "- ### *count (optional)* : An integer specifying the maximum number of replacements to be made. By default, all occurrences are replaced.\n",
    "<br>\n",
    "\n",
    "- ### *flags (optional)* : Additional flags to modify the behavior of the pattern matching.\n"
   ]
  },
  {
   "cell_type": "code",
   "execution_count": 7,
   "id": "7296e113",
   "metadata": {},
   "outputs": [
    {
     "data": {
      "text/plain": [
       "'Hello, Python! How are you?'"
      ]
     },
     "execution_count": 7,
     "metadata": {},
     "output_type": "execute_result"
    }
   ],
   "source": [
    "import re\n",
    "\n",
    "string = \"Hello, world! How are you?\"\n",
    "\n",
    "# Replace all occurrences of \"world\" with \"Python\"\n",
    "pattern = re.compile(r\"world\")\n",
    "\n",
    "\n",
    "pattern.sub(repl=\"Python\", string=string)\n"
   ]
  },
  {
   "cell_type": "markdown",
   "id": "11b5d63b",
   "metadata": {},
   "source": [
    "## count parameter"
   ]
  },
  {
   "cell_type": "code",
   "execution_count": 27,
   "id": "eb781a68",
   "metadata": {},
   "outputs": [
    {
     "data": {
      "text/plain": [
       "'Hello, Python! Hello, Python! Hello, world!'"
      ]
     },
     "execution_count": 27,
     "metadata": {},
     "output_type": "execute_result"
    }
   ],
   "source": [
    "string = \"Hello, world! Hello, world! Hello, world!\"\n",
    "\n",
    "# Replace the first two occurrences of \"world\" with \"Python\"\n",
    "pattern = re.compile(r\"world\",)\n",
    "\n",
    "\n",
    "pattern.sub(\"Python\",string,count=2)"
   ]
  },
  {
   "cell_type": "markdown",
   "id": "4c0af534",
   "metadata": {},
   "source": [
    "# subn\n",
    "- ### The re.subn() function in the re module of Python is similar to the re.sub() function, but it returns a tuple containing both the modified string and the count of substitutions made."
   ]
  },
  {
   "cell_type": "markdown",
   "id": "1c0ac141",
   "metadata": {},
   "source": [
    "# Syntax\n",
    "\n",
    "- ### re.subn(pattern, repl, string, count=0, flags=0)\n",
    "<br>\n",
    "\n",
    "- ### pattern: The regular expression pattern search\n",
    "<br>\n",
    "\n",
    "- ### repl: The replacement string to substitute in place of the matched pattern.\n",
    "<br>\n",
    "\n",
    "- ### string: The input string in which the substitution is to be performed.\n",
    "<br>\n",
    "\n",
    "- ### count (optional): An integer specifying the maximum number of replacements to be made. By default, all occurrences are replaced.\n",
    "<br>\n",
    "\n",
    "- ### flags (optional): Additional flags to modify the behavior of the pattern matching."
   ]
  },
  {
   "cell_type": "code",
   "execution_count": 29,
   "id": "b2d3457e",
   "metadata": {},
   "outputs": [
    {
     "data": {
      "text/plain": [
       "('Hello, Python! How are you?', 1)"
      ]
     },
     "execution_count": 29,
     "metadata": {},
     "output_type": "execute_result"
    }
   ],
   "source": [
    "string = \"Hello, world! How are you?\"\n",
    "\n",
    "# Replace all occurrences of \"world\" with \"Python\"\n",
    "pattern = re.compile(r\"world\")\n",
    "\n",
    "\n",
    "pattern.subn(repl=\"Python\", string=string)\n"
   ]
  },
  {
   "cell_type": "markdown",
   "id": "166ee950",
   "metadata": {},
   "source": [
    "- ### The count value indicates the number of times the pattern was successfully replaced in the string. In this case, it is 1 because only one occurrence of \"world\" was found and replaced."
   ]
  },
  {
   "cell_type": "markdown",
   "id": "611e1b48",
   "metadata": {},
   "source": [
    "### count parameter"
   ]
  },
  {
   "cell_type": "code",
   "execution_count": 30,
   "id": "8c447dbc",
   "metadata": {},
   "outputs": [
    {
     "data": {
      "text/plain": [
       "('Hello, Python! Hello, Python! Hello, world!', 2)"
      ]
     },
     "execution_count": 30,
     "metadata": {},
     "output_type": "execute_result"
    }
   ],
   "source": [
    "string = \"Hello, world! Hello, world! Hello, world!\"\n",
    "\n",
    "# Replace the first two occurrences of \"world\" with \"Python\"\n",
    "pattern = re.compile(r\"world\",)\n",
    "\n",
    "\n",
    "pattern.subn(\"Python\",string,count=2)"
   ]
  },
  {
   "cell_type": "markdown",
   "id": "5d02924c",
   "metadata": {},
   "source": [
    "# Differences"
   ]
  },
  {
   "cell_type": "markdown",
   "id": "c5222bcc",
   "metadata": {},
   "source": [
    "<table>\n",
    "  <thead>\n",
    "    <tr>\n",
    "      <th></th>\n",
    "      <th><h1>sub()</h1></th>\n",
    "      <th><h1>subn()</h1></th>\n",
    "    </tr>\n",
    "  </thead>\n",
    "  <tbody>\n",
    "    <tr>\n",
    "      <td>Return Value</td>\n",
    "      <td>Modified string</td>\n",
    "      <td>Tuple (Modified string, Count)</td>\n",
    "    </tr>\n",
    "    <tr>\n",
    "      <td>Replacement Count</td>\n",
    "      <td>All occurrences</td>\n",
    "      <td>Specified count or all occurrences</td>\n",
    "    </tr>\n",
    "    <tr>\n",
    "      <td>Usage</td>\n",
    "      <td>When only result is needed</td>\n",
    "      <td>When result and count are needed</td>\n",
    "    </tr>\n",
    "    <tr>\n",
    "      <td>Performance</td>\n",
    "      <td>Slightly faster</td>\n",
    "      <td>Slightly slower</td>\n",
    "    </tr>\n",
    "    <tr>\n",
    "      <td>Syntax</td>\n",
    "      <td><code>re.sub(pattern, repl, string)</code></td>\n",
    "      <td><code>re.subn(pattern, repl, string)</code></td>\n",
    "    </tr>\n",
    "  </tbody>\n",
    "</table>\n"
   ]
  }
 ],
 "metadata": {
  "kernelspec": {
   "display_name": "Python 3 (ipykernel)",
   "language": "python",
   "name": "python3"
  },
  "language_info": {
   "codemirror_mode": {
    "name": "ipython",
    "version": 3
   },
   "file_extension": ".py",
   "mimetype": "text/x-python",
   "name": "python",
   "nbconvert_exporter": "python",
   "pygments_lexer": "ipython3",
   "version": "3.10.6"
  }
 },
 "nbformat": 4,
 "nbformat_minor": 5
}

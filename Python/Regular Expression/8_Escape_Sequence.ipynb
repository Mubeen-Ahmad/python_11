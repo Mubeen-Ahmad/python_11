{
 "cells": [
  {
   "cell_type": "markdown",
   "id": "f55a81f1",
   "metadata": {},
   "source": [
    "<table>\n",
    "  <thead>\n",
    "    <tr>\n",
    "      <th><h3>MetaCharacter</h3></th>\n",
    "      <th><h3>Legend</h3></th>\n",
    "      <th><h3>Example</h3></th>\n",
    "      <th><h3>Sample</h3></th>\n",
    "      <th><h3>Output</h3></th>\n",
    "    </tr>\n",
    "  </thead>\n",
    "  <tbody>\n",
    "    <tr>\n",
    "      <td><h4>\\d</h4></td>\n",
    "      <td><h4>Digits (0 to 9)</h4></td>\n",
    "      <td><h4><code>\\d</code></h4></td>\n",
    "      <td><h4>\"abc1x2y3z\"</h4></td>\n",
    "      <td><h4>\"1 2 3\"</h4></td>\n",
    "    </tr>\n",
    "    <tr>\n",
    "      <td><h4>\\D</h4></td>\n",
    "      <td><h4>Leters, Symboles (Ignore Digits)</h4></td>\n",
    "      <td><h4><code>\\D</code></h4></td>\n",
    "      <td><h4>\"a1*_ -\"</h4></td>\n",
    "      <td><h4>\"a * _ (space) -\"</h4></td>\n",
    "    </tr>\n",
    "    <tr>\n",
    "      <td><h4>\\w</h4></td>\n",
    "      <td><h4>Letters Digits and Underscore</h4></td>\n",
    "      <td><h4><code>\\w</code></h4></td>\n",
    "      <td><h4>\"a1*_ -\"</h4></td>\n",
    "      <td><h4>\"a 1 _\"</h4></td>\n",
    "    </tr>\n",
    "    <tr>\n",
    "      <td><h4>\\W</h4></td>\n",
    "      <td><h4>Spaces, symboles (Except underscore)</h4></td>\n",
    "      <td><h4><code>\\W</code></h4></td>\n",
    "      <td><h4>\"a1*_ -\"</h4></td>\n",
    "      <td><h4>\"* _ (space)\"</h4></td>\n",
    "    </tr>\n",
    "     <tr>\n",
    "      <td><h4>\\s</h4></td>\n",
    "      <td><h4>Spaces and Escape Sequences</h4></td>\n",
    "      <td><h4><code>\\s</code></h4></td>\n",
    "      <td><h4>\"a1_ \\n\\t\"</h4></td>\n",
    "      <td><h4>\"  \\n \\t\"</h4></td>\n",
    "    </tr>\n",
    "    <tr>\n",
    "      <td><h4>\\S</h4></td>\n",
    "      <td><h4>Leters Digits Symboles (Except White Spaces)</h4></td>\n",
    "      <td><h4><code>\\S</code></h4></td>\n",
    "      <td><h4>\"a1_ \\n\\t-\"</h4></td>\n",
    "      <td><h4>\"a 1 _ -\"</h4></td>\n",
    "    </tr>\n",
    "  </tbody>\n",
    "</table>\n"
   ]
  },
  {
   "cell_type": "markdown",
   "id": "88312e0e",
   "metadata": {},
   "source": [
    "# \\d contains digits (numbers from 0-9)"
   ]
  },
  {
   "cell_type": "code",
   "execution_count": 1,
   "id": "885eb914",
   "metadata": {},
   "outputs": [
    {
     "data": {
      "text/plain": [
       "['1', '2', '3']"
      ]
     },
     "execution_count": 1,
     "metadata": {},
     "output_type": "execute_result"
    }
   ],
   "source": [
    "import re\n",
    "\n",
    "string = \"abc1x2y3z\"\n",
    "\n",
    "pattern = re.compile(r\"\\d\")\n",
    "pattern.findall(string)"
   ]
  },
  {
   "cell_type": "markdown",
   "id": "5f29b7d1",
   "metadata": {},
   "source": [
    "# \\D letters, Symboles "
   ]
  },
  {
   "cell_type": "code",
   "execution_count": 2,
   "id": "088c1347",
   "metadata": {},
   "outputs": [
    {
     "data": {
      "text/plain": [
       "['a', '_', ' ', '-']"
      ]
     },
     "execution_count": 2,
     "metadata": {},
     "output_type": "execute_result"
    }
   ],
   "source": [
    "string = \"1a_ -\"\n",
    "\n",
    "pattern = re.compile(r\"\\D\")\n",
    "pattern.findall(string)"
   ]
  },
  {
   "cell_type": "markdown",
   "id": "8edea70c",
   "metadata": {},
   "source": [
    "# \\w Ascii Leters, Numbers and Digits"
   ]
  },
  {
   "cell_type": "code",
   "execution_count": 3,
   "id": "190b21e1",
   "metadata": {},
   "outputs": [
    {
     "data": {
      "text/plain": [
       "['a', '1', '_']"
      ]
     },
     "execution_count": 3,
     "metadata": {},
     "output_type": "execute_result"
    }
   ],
   "source": [
    "string = \"a1*_ -\"\n",
    "\n",
    "pattern = re.compile(r\"\\w\")\n",
    "pattern.findall(string)"
   ]
  },
  {
   "cell_type": "markdown",
   "id": "61cfa78f",
   "metadata": {},
   "source": [
    "# \\W Spaces and symboles (Except underscore)"
   ]
  },
  {
   "cell_type": "code",
   "execution_count": 4,
   "id": "53a65c51",
   "metadata": {},
   "outputs": [
    {
     "data": {
      "text/plain": [
       "['*', ' ', '-']"
      ]
     },
     "execution_count": 4,
     "metadata": {},
     "output_type": "execute_result"
    }
   ],
   "source": [
    "string = \"a1*_ -\"\n",
    "\n",
    "pattern = re.compile(r\"\\W\")\n",
    "pattern.findall(string)"
   ]
  },
  {
   "cell_type": "markdown",
   "id": "038b3d6c",
   "metadata": {},
   "source": [
    "# \\s Spaces and Escape Sequence"
   ]
  },
  {
   "cell_type": "code",
   "execution_count": 5,
   "id": "d3765044",
   "metadata": {},
   "outputs": [
    {
     "data": {
      "text/plain": [
       "[' ', '\\n', '\\t']"
      ]
     },
     "execution_count": 5,
     "metadata": {},
     "output_type": "execute_result"
    }
   ],
   "source": [
    "string = \"a1_ \\n\\t\"\n",
    "\n",
    "pattern = re.compile(r\"\\s\")\n",
    "pattern.findall(string)"
   ]
  },
  {
   "cell_type": "markdown",
   "id": "2df64cb5",
   "metadata": {},
   "source": [
    "# \\S Leters Digits Symboles Except White Spaces"
   ]
  },
  {
   "cell_type": "code",
   "execution_count": 6,
   "id": "51b39e78",
   "metadata": {},
   "outputs": [
    {
     "data": {
      "text/plain": [
       "['a', '1', '_', '-']"
      ]
     },
     "execution_count": 6,
     "metadata": {},
     "output_type": "execute_result"
    }
   ],
   "source": [
    "string = \"a1_ \\n\\t-\"\n",
    "\n",
    "pattern = re.compile(r\"\\S\")\n",
    "pattern.findall(string)"
   ]
  }
 ],
 "metadata": {
  "kernelspec": {
   "display_name": "Python 3 (ipykernel)",
   "language": "python",
   "name": "python3"
  },
  "language_info": {
   "codemirror_mode": {
    "name": "ipython",
    "version": 3
   },
   "file_extension": ".py",
   "mimetype": "text/x-python",
   "name": "python",
   "nbconvert_exporter": "python",
   "pygments_lexer": "ipython3",
   "version": "3.10.12"
  }
 },
 "nbformat": 4,
 "nbformat_minor": 5
}

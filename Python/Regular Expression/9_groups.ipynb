{
 "cells": [
  {
   "cell_type": "markdown",
   "id": "15f423e7",
   "metadata": {},
   "source": [
    "<table>\n",
    "  <thead>\n",
    "    <tr>\n",
    "      <th><h3>MetaCharacter</h3></th>\n",
    "      <th><h3>Legend</h3></th>\n",
    "      <th><h3>Example</h3></th>\n",
    "      <th><h3>Sample</h3></th>\n",
    "      <th><h3>Output</h3></th>\n",
    "    </tr>\n",
    "  </thead>\n",
    "  <tbody>\n",
    "    <tr>\n",
    "      <td><h4>{}</h4></td>\n",
    "      <td><h4>Specifies the exact number of occurrences or a range</h4></td>\n",
    "      <td><h4><code>\\d{2}-\\d{2}-\\d{4}</code></h4></td>\n",
    "      <td><h4>\"dateis06-07-202308-07-2023\"</h4></td>\n",
    "      <td><h4>\"06-07-2023 08-07-2023\"</h4></td>\n",
    "    </tr>\n",
    "     <tr>\n",
    "      <td><h4>{x,x}</h4></td>\n",
    "      <td><h4>Specifies the exact number of occurrences or a range</h4></td>\n",
    "      <td><h4><code>\\d{2}-\\d{2,4}\\b</code></h4></td>\n",
    "      <td><h4>\"20-2020 20-20 20-202020\"</h4></td>\n",
    "      <td><h4>\"20-2020 20-20\"</h4></td>\n",
    "    </tr>\n",
    "    <tr>\n",
    "      <td><h4>{x,}</h4></td>\n",
    "      <td><h4>Specifies the exact number of occurrences or a range</h4></td>\n",
    "      <td><h4><code>\\d{2}-\\d{2,4}\\b</code></h4></td>\n",
    "      <td><h4>\"20-2020 20-20 20-202020\"</h4></td>\n",
    "      <td><h4>\"20-2020 20-20 20-202020\"</h4></td>\n",
    "    </tr>\n",
    "   <tr>\n",
    "      <td><h4>[0-9]</h4></td>\n",
    "      <td><h4>Extract only Digits</h4></td>\n",
    "      <td><h4><code>[0-9]+</code></h4></td>\n",
    "      <td><h4>\"hello0123World\"</h4></td>\n",
    "      <td><h4>\"0123\"</h4></td>\n",
    "    </tr>\n",
    "    <tr>\n",
    "      <td><h4>[A-z]</h4></td>\n",
    "      <td><h4>Extract only Alphabets</h4></td>\n",
    "      <td><h4><code>[A-z]+</code></h4></td>\n",
    "      <td><h4>\"hello0123World\"</h4></td>\n",
    "      <td><h4>\"hello World\"</h4></td>\n",
    "    </tr>\n",
    "   <tr>\n",
    "      <td><h4>()</h4></td>\n",
    "      <td><h4>parentheses</h4></td>\n",
    "      <td><h4><code>(\\w+@)+(\\w+\\.)+(.\\w+)</code></h4></td>\n",
    "      <td><h4>\"Contact us at support@example.com or info@example.org\"</h4></td>\n",
    "      <td><h4>\"(support@, example. ,com), (info@, example., org)\"</h4></td>\n",
    "    </tr>\n",
    "  </tbody>\n",
    "</table>\n"
   ]
  },
  {
   "cell_type": "markdown",
   "id": "87702e1e",
   "metadata": {},
   "source": [
    "# {x} Curly Brackets"
   ]
  },
  {
   "cell_type": "code",
   "execution_count": 1,
   "id": "380a0943",
   "metadata": {},
   "outputs": [
    {
     "data": {
      "text/plain": [
       "['06-07-2023', '08-07-2023']"
      ]
     },
     "execution_count": 1,
     "metadata": {},
     "output_type": "execute_result"
    }
   ],
   "source": [
    "import re\n",
    "\n",
    "text = \"dateis06-07-202308-07-2023\"\n",
    "pattern = re.compile(r\"\\d{2}-\\d{2}-\\d{4}\") \n",
    "pattern.findall(text)\n"
   ]
  },
  {
   "cell_type": "markdown",
   "id": "8347e697",
   "metadata": {},
   "source": [
    "# {x,x} Curly Brackets"
   ]
  },
  {
   "cell_type": "code",
   "execution_count": 2,
   "id": "2686e2cf",
   "metadata": {},
   "outputs": [
    {
     "data": {
      "text/plain": [
       "['20-2020', '20-20']"
      ]
     },
     "execution_count": 2,
     "metadata": {},
     "output_type": "execute_result"
    }
   ],
   "source": [
    "text = \"20-2020 20-20 20-202020\"\n",
    "pattern = re.compile(r\"\\d{2}-\\d{2,4}\\b\") \n",
    "pattern.findall(text)\n"
   ]
  },
  {
   "cell_type": "markdown",
   "id": "00132b57",
   "metadata": {},
   "source": [
    "# {x,} Curly Brackets"
   ]
  },
  {
   "cell_type": "code",
   "execution_count": 3,
   "id": "f87c0188",
   "metadata": {},
   "outputs": [
    {
     "data": {
      "text/plain": [
       "['20-2020', '20-20', '20-202020']"
      ]
     },
     "execution_count": 3,
     "metadata": {},
     "output_type": "execute_result"
    }
   ],
   "source": [
    "text = \"20-2020 20-20 20-202020\"\n",
    "pattern = re.compile(r\"\\d{2}-\\d{2,}\\b\") \n",
    "pattern.findall(text)"
   ]
  },
  {
   "cell_type": "markdown",
   "id": "b312be5b",
   "metadata": {},
   "source": [
    "# [0-9] (square brackets)\n",
    "\n",
    "<br>\n",
    "\n",
    "### Specifies a character class, matches any single character within the brackets."
   ]
  },
  {
   "cell_type": "code",
   "execution_count": 4,
   "id": "9de52093",
   "metadata": {},
   "outputs": [
    {
     "data": {
      "text/plain": [
       "['0123']"
      ]
     },
     "execution_count": 4,
     "metadata": {},
     "output_type": "execute_result"
    }
   ],
   "source": [
    "text = \"hello0123World\"\n",
    "pattern = re.compile(r\"[0-9]+\")\n",
    "pattern.findall(text)"
   ]
  },
  {
   "cell_type": "markdown",
   "id": "63cfdfff",
   "metadata": {},
   "source": [
    "# [A-z] (square brackets)\n"
   ]
  },
  {
   "cell_type": "code",
   "execution_count": 5,
   "id": "74cfe11e",
   "metadata": {},
   "outputs": [
    {
     "data": {
      "text/plain": [
       "['hello', 'World']"
      ]
     },
     "execution_count": 5,
     "metadata": {},
     "output_type": "execute_result"
    }
   ],
   "source": [
    "text = \"hello0123World\"\n",
    "pattern = re.compile(r\"[A-z]+\")\n",
    "pattern.findall(text)"
   ]
  },
  {
   "cell_type": "markdown",
   "id": "aebd8841",
   "metadata": {},
   "source": [
    "# () (parentheses)\n",
    "<br>\n",
    "\n",
    "## Groups characters together and captures the matched substring.\n"
   ]
  },
  {
   "cell_type": "code",
   "execution_count": 39,
   "id": "36717471",
   "metadata": {},
   "outputs": [
    {
     "data": {
      "text/plain": [
       "[('support@', 'example.', 'com'), ('info@', 'example.', 'org')]"
      ]
     },
     "execution_count": 39,
     "metadata": {},
     "output_type": "execute_result"
    }
   ],
   "source": [
    "text = \"Contact us at support@example.com or info@example.org\"\n",
    "pattern = re.compile(r\"(\\w+@)+(\\w+\\.)+(.\\w+)\")\n",
    "pattern.findall(text)"
   ]
  }
 ],
 "metadata": {
  "kernelspec": {
   "display_name": "Python 3 (ipykernel)",
   "language": "python",
   "name": "python3"
  },
  "language_info": {
   "codemirror_mode": {
    "name": "ipython",
    "version": 3
   },
   "file_extension": ".py",
   "mimetype": "text/x-python",
   "name": "python",
   "nbconvert_exporter": "python",
   "pygments_lexer": "ipython3",
   "version": "3.10.12"
  }
 },
 "nbformat": 4,
 "nbformat_minor": 5
}

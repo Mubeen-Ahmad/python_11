{
 "cells": [
  {
   "cell_type": "markdown",
   "id": "d5e96e57-3b6e-4cac-b0c3-b3bca67c75a5",
   "metadata": {},
   "source": [
    "# Inline Modifiers\n",
    "\n",
    "- ### Inline modifiers like (?m) and re.M, both enable or disable specific matching modes in regular expressions.\n",
    "- ### They are same worked as Attributes like re.M, re.I etc \n"
   ]
  },
  {
   "cell_type": "markdown",
   "id": "cd363219-20aa-401f-b0b9-05c105b97f80",
   "metadata": {},
   "source": [
    "#### <br><br>\n",
    "\n",
    "<table>\n",
    "  <thead>\n",
    "    <tr>\n",
    "      <th><h3>MetaCharacter</h3></th>\n",
    "      <th><h3>Legend</h3></th>\n",
    "      <th><h3>Example</h3></th>\n",
    "      <th><h3>Sample</h3></th>\n",
    "      <th><h3>Output</h3></th>\n",
    "    </tr>\n",
    "  </thead>\n",
    "  <tbody>\n",
    "    <tr>\n",
    "      <td><h4>(?i)String</h4></td>\n",
    "      <td><h4>Extract all String (work as re.I)</h4></td>\n",
    "      <td><h4><code>(?i)Mubeen</code></h4></td>\n",
    "      <td><h4>\"mubeen MUBEEN Ahmad\"</h4></td>\n",
    "      <td><h4>['mubeen', 'MUBEEN']</h4></td>\n",
    "    </tr>\n",
    "    <tr>\n",
    "      <td><h4>(?s)String</h4></td>\n",
    "      <td><h4>Work as re.DOTALL Attribute</h4></td>\n",
    "      <td><h4><code>(?s)abc</code></h4></td>\n",
    "      <td><h4>\"\"\"a\\tbc<br>a\\tbc<br>a\\tbc<br>\"\"\"</h4></td>\n",
    "      <td><h4>['a\\tbc\\na\\tbc\\na\\tbc\\n']</h4></td>\n",
    "    </tr>\n",
    "    <tr>\n",
    "      <td><h4>(?m)String</h4></td>\n",
    "      <td><h4>Work as re.M</h4></td>\n",
    "      <td><h4><code>(?m)^abc</code></h4></td>\n",
    "      <td><h4>\"\"\"abc<br>abc<br>abc<br>\"\"\"</h4></td>\n",
    "      <td><h4>['abc', 'abc', 'abc']</h4></td>\n",
    "    </tr>\n",
    "    <tr>\n",
    "      <td><h4>(?x)String</h4></td>\n",
    "      <td><h4>Work as re.VERBOSE</h4></td>\n",
    "      <td><h4><code>'''<br><br>\\d{3} # Match the first three digits<br><br>- # Match a hyphen<br><br>\\d{2} # Match the next two digits<br><br>- # Match another hyphen<br><br>\\d{4}  # Match the last four digits<br><br>\n",
    "'''</code></h4></td>\n",
    "      <td><h4>\"13-09-2023\"</h4></td>\n",
    "      <td><h4>['13-09-2023']</h4></td>\n",
    "    </tr>\n",
    "  </tbody>\n",
    "</table>\n",
    "\n"
   ]
  },
  {
   "cell_type": "markdown",
   "id": "59e85b80-1691-449f-a9e2-578870693d79",
   "metadata": {},
   "source": [
    "## (?i) ignore case-sensitive"
   ]
  },
  {
   "cell_type": "code",
   "execution_count": 1,
   "id": "6f83a5e2-c039-4543-a619-9ae24e4a9fe8",
   "metadata": {},
   "outputs": [
    {
     "data": {
      "text/plain": [
       "['mubeen', 'MUBEEN']"
      ]
     },
     "execution_count": 1,
     "metadata": {},
     "output_type": "execute_result"
    }
   ],
   "source": [
    "import re\n",
    "\n",
    "string = \"mubeen MUBEEN Ahmad\"\n",
    "\n",
    "pattern = re.compile(r'(?i)Mubeen')\n",
    "\n",
    "pattern.findall(string)"
   ]
  },
  {
   "cell_type": "code",
   "execution_count": 2,
   "id": "4873f34e-c187-4675-b47b-d1583101970c",
   "metadata": {},
   "outputs": [
    {
     "data": {
      "text/plain": [
       "['mubeen', 'MUBEEN']"
      ]
     },
     "execution_count": 2,
     "metadata": {},
     "output_type": "execute_result"
    }
   ],
   "source": [
    "# same output with re.I\n",
    "pattern = re.compile(r'Mubeen',re.I)\n",
    "pattern.findall(string)"
   ]
  },
  {
   "cell_type": "markdown",
   "id": "7fa98e5e-4ff1-4160-a248-695d3ec688bd",
   "metadata": {},
   "source": [
    "## (?s) Same as re.DOTALL"
   ]
  },
  {
   "cell_type": "code",
   "execution_count": 3,
   "id": "f8591824-eae0-4619-b41c-4158a0d550b3",
   "metadata": {},
   "outputs": [
    {
     "data": {
      "text/plain": [
       "['a\\tbc', 'a\\tbc', 'a\\tbc']"
      ]
     },
     "execution_count": 3,
     "metadata": {},
     "output_type": "execute_result"
    }
   ],
   "source": [
    "string = \"\"\"a\\tbc\n",
    "a\\tbc\n",
    "a\\tbc\n",
    "\"\"\"\n",
    "pattern = re.compile(r'.+')\n",
    "pattern.findall(string)\n",
    "\n",
    "# find all string .+"
   ]
  },
  {
   "cell_type": "markdown",
   "id": "3442949d-7d9b-4d3d-8daf-a1937016f702",
   "metadata": {},
   "source": [
    "#### now use (?s)"
   ]
  },
  {
   "cell_type": "code",
   "execution_count": 4,
   "id": "96d57cf0-2091-4e94-bd6b-c15c9b2f8230",
   "metadata": {},
   "outputs": [
    {
     "data": {
      "text/plain": [
       "['a\\tbc\\na\\tbc\\na\\tbc\\n']"
      ]
     },
     "execution_count": 4,
     "metadata": {},
     "output_type": "execute_result"
    }
   ],
   "source": [
    "pattern = re.compile(r'(?s).+')\n",
    "pattern.findall(string)\n",
    "# ignore newline"
   ]
  },
  {
   "cell_type": "code",
   "execution_count": 5,
   "id": "78ac1985-7a1d-4d40-82bf-52018330fcbb",
   "metadata": {},
   "outputs": [
    {
     "data": {
      "text/plain": [
       "['a\\tbc\\na\\tbc\\na\\tbc\\n']"
      ]
     },
     "execution_count": 5,
     "metadata": {},
     "output_type": "execute_result"
    }
   ],
   "source": [
    "# same output with re.DOTALL\n",
    "pattern = re.compile(r'.+',re.DOTALL)\n",
    "pattern.findall(string)"
   ]
  },
  {
   "cell_type": "markdown",
   "id": "a6cf5e45-f94a-4ac3-af42-0108b170288d",
   "metadata": {},
   "source": [
    "## (?m) Ignore Multiline same as re.M"
   ]
  },
  {
   "cell_type": "code",
   "execution_count": 6,
   "id": "da1b177b-13c3-452c-9808-5965fb7d80d4",
   "metadata": {},
   "outputs": [
    {
     "data": {
      "text/plain": [
       "['abc']"
      ]
     },
     "execution_count": 6,
     "metadata": {},
     "output_type": "execute_result"
    }
   ],
   "source": [
    "string = \"\"\"abc\n",
    "abc\n",
    "abc\n",
    "\"\"\"\n",
    "pattern = re.compile(r'^abc')\n",
    "pattern.findall(string)\n",
    "# only extract starting abc"
   ]
  },
  {
   "cell_type": "code",
   "execution_count": 7,
   "id": "2cc5a5e1-fd6d-4626-b029-4c4fa5ccd0bd",
   "metadata": {},
   "outputs": [
    {
     "data": {
      "text/plain": [
       "['abc', 'abc', 'abc']"
      ]
     },
     "execution_count": 7,
     "metadata": {},
     "output_type": "execute_result"
    }
   ],
   "source": [
    "# now i use (?m) for ignore multiline\n",
    "\n",
    "pattern = re.compile(r'(?m)^abc')\n",
    "pattern.findall(string)"
   ]
  },
  {
   "cell_type": "code",
   "execution_count": 8,
   "id": "49f2d9e4-286c-4305-9e35-6b18e2bcad40",
   "metadata": {},
   "outputs": [
    {
     "data": {
      "text/plain": [
       "['abc', 'abc', 'abc']"
      ]
     },
     "execution_count": 8,
     "metadata": {},
     "output_type": "execute_result"
    }
   ],
   "source": [
    "# also use re.M\n",
    "pattern = re.compile(r'^abc',re.M)\n",
    "pattern.findall(string)"
   ]
  },
  {
   "cell_type": "markdown",
   "id": "a8827320-cbd4-4469-8fdf-91eec8bfc067",
   "metadata": {},
   "source": [
    "##  (?x) Work as re.VERBOSE"
   ]
  },
  {
   "cell_type": "code",
   "execution_count": 9,
   "id": "42ca89fd-0f60-40f5-8443-a67f78faea1e",
   "metadata": {},
   "outputs": [
    {
     "data": {
      "text/plain": [
       "[]"
      ]
     },
     "execution_count": 9,
     "metadata": {},
     "output_type": "execute_result"
    }
   ],
   "source": [
    "pt = '''\n",
    "    \\d{3}  # Match the first three digits\n",
    "    -      # Match a hyphen\n",
    "    \\d{2}  # Match the next two digits\n",
    "    -      # Match another hyphen\n",
    "    \\d{4}  # Match the last four digits\n",
    "'''\n",
    "\n",
    "string = \"My Number is 123-45-6789.\"\n",
    "\n",
    "pattern = re.compile(pt)\n",
    "pattern.findall(string)"
   ]
  },
  {
   "cell_type": "code",
   "execution_count": 10,
   "id": "7c6d69b3-e1e5-458d-a865-b83be522771a",
   "metadata": {},
   "outputs": [
    {
     "data": {
      "text/plain": [
       "['123-45-6789']"
      ]
     },
     "execution_count": 10,
     "metadata": {},
     "output_type": "execute_result"
    }
   ],
   "source": [
    "# now i use (?x)\n",
    "pt = '''(?x)\n",
    "    \\d{3}  # Match the first three digits\n",
    "    -      # Match a hyphen\n",
    "    \\d{2}  # Match the next two digits\n",
    "    -      # Match another hyphen\n",
    "    \\d{4}  # Match the last four digits\n",
    "'''\n",
    "pattern = re.compile(pt)\n",
    "pattern.findall(string)"
   ]
  },
  {
   "cell_type": "code",
   "execution_count": 11,
   "id": "830276aa-e774-4b20-b678-fb208459381b",
   "metadata": {},
   "outputs": [
    {
     "data": {
      "text/plain": [
       "['123-45-6789']"
      ]
     },
     "execution_count": 11,
     "metadata": {},
     "output_type": "execute_result"
    }
   ],
   "source": [
    "# same work with re.VERBOSE\n",
    "pt = '''\n",
    "    \\d{3}  # Match the first three digits\n",
    "    -      # Match a hyphen\n",
    "    \\d{2}  # Match the next two digits\n",
    "    -      # Match another hyphen\n",
    "    \\d{4}  # Match the last four digits\n",
    "'''\n",
    "\n",
    "pattern = re.compile(pt,re.VERBOSE)\n",
    "pattern.findall(string)"
   ]
  }
 ],
 "metadata": {
  "kernelspec": {
   "display_name": "Python 3 (ipykernel)",
   "language": "python",
   "name": "python3"
  },
  "language_info": {
   "codemirror_mode": {
    "name": "ipython",
    "version": 3
   },
   "file_extension": ".py",
   "mimetype": "text/x-python",
   "name": "python",
   "nbconvert_exporter": "python",
   "pygments_lexer": "ipython3",
   "version": "3.10.12"
  }
 },
 "nbformat": 4,
 "nbformat_minor": 5
}

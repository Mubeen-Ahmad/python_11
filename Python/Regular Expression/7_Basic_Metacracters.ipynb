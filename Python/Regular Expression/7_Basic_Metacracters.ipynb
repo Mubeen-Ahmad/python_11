{
 "cells": [
  {
   "cell_type": "markdown",
   "metadata": {
    "id": "g8Etf-mpagVU"
   },
   "source": [
    "<table>\n",
    "  <thead>\n",
    "    <tr>\n",
    "      <th><h3>MetaCharacter</h3></th>\n",
    "      <th><h3>Legend</h3></th>\n",
    "      <th><h3>Example</h3></th>\n",
    "      <th><h3>Sample</h3></th>\n",
    "      <th><h3>Output</h3></th>\n",
    "    </tr>\n",
    "  </thead>\n",
    "  <tbody>\n",
    "    <tr>\n",
    "      <td><h4>+</h4></td>\n",
    "      <td><h4>Once or More</h4></td>\n",
    "      <td><h4><code>ab+</code></h4></td>\n",
    "      <td><h4>\"aa ab abc ac bb abbbc\"</h4></td>\n",
    "      <td><h4>\"ab ab abbb\"</h4></td>\n",
    "    </tr>\n",
    "    <tr>\n",
    "     <td><h4>*</h4></td>\n",
    "      <td><h4>Zero or More</h4></td>\n",
    "      <td><h4><code>ab*</code></h4></td>\n",
    "      <td><h4>\"aa ab abc ac bb abbbc\"</h4></td>\n",
    "      <td><h4>\"a a ab ab a abbb\"</h4></td>\n",
    "    </tr>\n",
    "    <tr>\n",
    "     <td><h4>?</h4></td>\n",
    "      <td><h4>Once or None</h4></td>\n",
    "      <td><h4><code>ab?</code></h4></td>\n",
    "      <td><h4>\"aa ab abc ac bb abbbc\"</h4></td>\n",
    "      <td><h4>\"a a ab ab a ab\"</h4></td>\n",
    "    </tr>\n",
    "    <tr>\n",
    "     <td><h4>.</h4></td>\n",
    "      <td><h4>Any character except .</h4></td>\n",
    "      <td><h4><code>a.c</code></h4></td>\n",
    "      <td><h4>\"abc\"</h4></td>\n",
    "      <td><h4>\"abc\"</h4></td>\n",
    "    </tr>\n",
    "    <tr>\n",
    "     <td><h4>\\</h4></td>\n",
    "      <td><h4>Escapes a special character</h4></td>\n",
    "      <td><h4><code>\\.</code></h4></td>\n",
    "      <td><h4>\"google.com.pk\"</h4></td>\n",
    "      <td><h4>\". .\"</h4></td>\n",
    "    </tr>\n",
    "    <tr>\n",
    "     <td><h4>^</h4></td>\n",
    "      <td><h4>Start With (support Multiline)</h4></td>\n",
    "      <td><h4><code>^abc</code></h4></td>\n",
    "      <td><h4>\"abc xyz\"</h4></td>\n",
    "      <td><h4>\"abc\"</h4></td>\n",
    "    </tr>\n",
    "    <tr>\n",
    "     <td><h4>\\A</h4></td>\n",
    "      <td><h4>Start With (not supported Multiline)</h4></td>\n",
    "      <td><h4><code>\\Aabc</code></h4></td>\n",
    "      <td><h4>\"abc\\nabc\"</h4></td>\n",
    "      <td><h4>\"abc\"</h4></td>\n",
    "    </tr>\n",
    "    <tr>\n",
    "     <td><h4>$</h4></td>\n",
    "      <td><h4>End With Line (supported Multiline)</h4></td>\n",
    "      <td><h4><code>'abc&#36;'</code></h4></td>\n",
    "      <td><h4>\"xyz abc\"</h4></td>\n",
    "      <td><h4>\"abc\"</h4></td>\n",
    "    </tr>\n",
    "    <tr>\n",
    "     <td><h4>\\Z</h4></td>\n",
    "      <td><h4>End With Line(not supported Multiline)</h4></td>\n",
    "      <td><h4><code>'abc\\Z'</code></h4></td>\n",
    "      <td><h4>\"xyz abc\\nabc\"</h4></td>\n",
    "      <td><h4>\"abc\"</h4></td>\n",
    "    </tr>\n",
    "    <tr>\n",
    "     <td><h4>\\b</h4></td>\n",
    "      <td><h4>Start With (Characters/Word)</h4></td>\n",
    "      <td><h4><code>'\\bh'</code></h4></td>\n",
    "      <td><h4>\"hello hlloe hollo\"</h4></td>\n",
    "      <td><h4>\"h h h\"</h4></td>\n",
    "    </tr>\n",
    "     <tr>\n",
    "     <td><h4>\\b</h4></td>\n",
    "      <td><h4>End With (Characters/Word)</h4></td>\n",
    "      <td><h4><code>'o\\b'</code></h4></td>\n",
    "      <td><h4>\"hello hlloe hollo\"</h4></td>\n",
    "      <td><h4>\"o o\"</h4></td>\n",
    "    </tr>\n",
    "     <tr>\n",
    "     <td><h4>\\B</h4></td>\n",
    "      <td><h4>MID or End With (Characters/Word)</h4></td>\n",
    "      <td><h4><code>'\\Bis'</code></h4></td>\n",
    "      <td><h4>\"xisx xis isx\"</h4></td>\n",
    "      <td><h4>\"is is\"</h4></td>\n",
    "    </tr>\n",
    "    <tr>\n",
    "     <td><h4>\\B</h4></td>\n",
    "      <td><h4>MID or Start With (Characters/Word)</h4></td>\n",
    "      <td><h4><code>'is\\B'</code></h4></td>\n",
    "      <td><h4>\"xisx xis isx\"</h4></td>\n",
    "      <td><h4>\"is is\"</h4></td>\n",
    "    </tr>\n",
    "    <tr>\n",
    "     <td><h4>|</h4></td>\n",
    "      <td><h4>Or</h4></td>\n",
    "      <td><h4><code>'A|a'</code></h4></td>\n",
    "      <td><h4>\"xbaAi082baA-\"</h4></td>\n",
    "      <td><h4>\"a A a A\"</h4></td>\n",
    "    </tr>\n",
    "  </tbody>\n",
    "</table>\n"
   ]
  },
  {
   "cell_type": "markdown",
   "metadata": {
    "id": "AS3K2DpckDhk"
   },
   "source": [
    "# + Once or More"
   ]
  },
  {
   "cell_type": "code",
   "execution_count": 1,
   "metadata": {
    "colab": {
     "base_uri": "https://localhost:8080/"
    },
    "id": "nuYfFun-kIzE",
    "outputId": "a870667b-5086-4adf-e410-440bbdc9c24a"
   },
   "outputs": [
    {
     "data": {
      "text/plain": [
       "['ab', 'ab', 'abbb']"
      ]
     },
     "execution_count": 1,
     "metadata": {},
     "output_type": "execute_result"
    }
   ],
   "source": [
    "import re\n",
    "\n",
    "string = \"aa ab abc ac bb abbbc\"\n",
    "pattern = re.compile(r\"ab+\")\n",
    "pattern.findall(string)"
   ]
  },
  {
   "cell_type": "markdown",
   "metadata": {
    "id": "cTTjmqSdnDaI"
   },
   "source": [
    "# * Zero or More"
   ]
  },
  {
   "cell_type": "code",
   "execution_count": 2,
   "metadata": {
    "colab": {
     "base_uri": "https://localhost:8080/"
    },
    "id": "nNhNX62KnW1P",
    "outputId": "c5174a6a-3563-418f-97ec-03202b401b17"
   },
   "outputs": [
    {
     "data": {
      "text/plain": [
       "['a', 'a', 'ab', 'ab', 'a', 'abbb']"
      ]
     },
     "execution_count": 2,
     "metadata": {},
     "output_type": "execute_result"
    }
   ],
   "source": [
    "string = \"aa ab abc ac bb abbbc\"\n",
    "pattern = re.compile(r\"ab*\")\n",
    "pattern.findall(string)"
   ]
  },
  {
   "cell_type": "markdown",
   "metadata": {
    "id": "59liTJd0oP3s"
   },
   "source": [
    "# ? Once or None"
   ]
  },
  {
   "cell_type": "code",
   "execution_count": 3,
   "metadata": {
    "colab": {
     "base_uri": "https://localhost:8080/",
     "height": 35
    },
    "id": "kW5ehMcPnyhO",
    "outputId": "56fac063-5100-4b40-8da9-020691298e3e"
   },
   "outputs": [
    {
     "data": {
      "text/plain": [
       "'a a ab ab a ab'"
      ]
     },
     "execution_count": 3,
     "metadata": {},
     "output_type": "execute_result"
    }
   ],
   "source": [
    "string = \"aa ab abc ac bb abbbc\"\n",
    "pattern = re.compile(r\"ab?\")\n",
    "pattern.findall(string)\n",
    "\n",
    "'a a ab ab a ab'"
   ]
  },
  {
   "cell_type": "markdown",
   "metadata": {
    "id": "lc0LtoSEpmX8"
   },
   "source": [
    "# . Any character except line break"
   ]
  },
  {
   "cell_type": "code",
   "execution_count": 4,
   "metadata": {
    "colab": {
     "base_uri": "https://localhost:8080/"
    },
    "id": "Y7mgqsb_qXtB",
    "outputId": "ec331b34-76c1-4f11-96a2-a1cea98297b5"
   },
   "outputs": [
    {
     "data": {
      "text/plain": [
       "['abc']"
      ]
     },
     "execution_count": 4,
     "metadata": {},
     "output_type": "execute_result"
    }
   ],
   "source": [
    "string = \"abc\"\n",
    "pattern = re.compile(r\"a.c\")\n",
    "pattern.findall(string)"
   ]
  },
  {
   "cell_type": "markdown",
   "metadata": {
    "id": "L-4fspiqzQos"
   },
   "source": [
    "# \\ Escapes a special character"
   ]
  },
  {
   "cell_type": "code",
   "execution_count": 5,
   "metadata": {
    "colab": {
     "base_uri": "https://localhost:8080/"
    },
    "id": "znOuwUIvxGt3",
    "outputId": "1f796a63-c96d-4a27-ffe7-4eecfc0f5b55"
   },
   "outputs": [
    {
     "data": {
      "text/plain": [
       "['.', '.']"
      ]
     },
     "execution_count": 5,
     "metadata": {},
     "output_type": "execute_result"
    }
   ],
   "source": [
    "string = \"google.com.pk\"\n",
    "pattern = re.compile(r\"\\.\")\n",
    "pattern.findall(string)"
   ]
  },
  {
   "cell_type": "markdown",
   "metadata": {},
   "source": [
    "# ^ Start With (Supported MUltiLine)"
   ]
  },
  {
   "cell_type": "code",
   "execution_count": 6,
   "metadata": {},
   "outputs": [
    {
     "data": {
      "text/plain": [
       "['abc']"
      ]
     },
     "execution_count": 6,
     "metadata": {},
     "output_type": "execute_result"
    }
   ],
   "source": [
    "s1 = \"abc xyz\"\n",
    "pattern = re.compile(r\"^abc\")\n",
    "pattern.findall(s1)"
   ]
  },
  {
   "cell_type": "code",
   "execution_count": 7,
   "metadata": {},
   "outputs": [
    {
     "data": {
      "text/plain": [
       "['abc', 'abc']"
      ]
     },
     "execution_count": 7,
     "metadata": {},
     "output_type": "execute_result"
    }
   ],
   "source": [
    "# suported Multiline\n",
    "s1 = \"abc\\nabc\"\n",
    "pattern = re.compile(r\"^abc\",re.MULTILINE)\n",
    "pattern.findall(s1)\n"
   ]
  },
  {
   "cell_type": "code",
   "execution_count": 36,
   "metadata": {},
   "outputs": [
    {
     "data": {
      "text/plain": [
       "['abc']"
      ]
     },
     "execution_count": 36,
     "metadata": {},
     "output_type": "execute_result"
    }
   ],
   "source": [
    "s1 = \"abc.abc\"\n",
    "pattern = re.compile(r\"^abc\",re.MULTILINE)\n",
    "pattern.findall(s1)\n",
    "# only one time match bcz ^ match the linewise"
   ]
  },
  {
   "cell_type": "markdown",
   "metadata": {},
   "source": [
    "# \\A Start With (Not Supported MUltiLine)"
   ]
  },
  {
   "cell_type": "code",
   "execution_count": 8,
   "metadata": {},
   "outputs": [
    {
     "data": {
      "text/plain": [
       "['abc']"
      ]
     },
     "execution_count": 8,
     "metadata": {},
     "output_type": "execute_result"
    }
   ],
   "source": [
    "string = \"abc xyz\"\n",
    "\n",
    "pattern = re.compile(r\"\\Aabc\")\n",
    "pattern.findall(string)"
   ]
  },
  {
   "cell_type": "code",
   "execution_count": 9,
   "metadata": {},
   "outputs": [
    {
     "data": {
      "text/plain": [
       "['abc']"
      ]
     },
     "execution_count": 9,
     "metadata": {},
     "output_type": "execute_result"
    }
   ],
   "source": [
    "# not support multiline\n",
    "string = \"abc\\nabc\"\n",
    "pattern = re.compile(r\"\\Aabc\",re.MULTILINE)\n",
    "pattern.findall(string)"
   ]
  },
  {
   "cell_type": "markdown",
   "metadata": {},
   "source": [
    "# $ End of line Supported Multiline"
   ]
  },
  {
   "cell_type": "code",
   "execution_count": 10,
   "metadata": {},
   "outputs": [
    {
     "data": {
      "text/plain": [
       "['abc']"
      ]
     },
     "execution_count": 10,
     "metadata": {},
     "output_type": "execute_result"
    }
   ],
   "source": [
    "string = \"xyz abc\"\n",
    "\n",
    "pattern = re.compile(r\"abc$\")\n",
    "pattern.findall(string)"
   ]
  },
  {
   "cell_type": "code",
   "execution_count": 11,
   "metadata": {},
   "outputs": [
    {
     "data": {
      "text/plain": [
       "[]"
      ]
     },
     "execution_count": 11,
     "metadata": {},
     "output_type": "execute_result"
    }
   ],
   "source": [
    "string = \"xyz abc\\nx\"\n",
    "\n",
    "pattern = re.compile(r\"abc$\")\n",
    "pattern.findall(string)\n",
    "\n",
    "# now abc are exist in line 1 and x are in line 2 so $ match the end to line \n",
    "# so end of the line is 2 and abc are not exit in line 2"
   ]
  },
  {
   "cell_type": "code",
   "execution_count": 12,
   "metadata": {},
   "outputs": [
    {
     "data": {
      "text/plain": [
       "['abc']"
      ]
     },
     "execution_count": 12,
     "metadata": {},
     "output_type": "execute_result"
    }
   ],
   "source": [
    "# use re.MULTILINE\n",
    "string = \"xyz abc\\nx\"\n",
    "pattern = re.compile(r\"abc$\",re.MULTILINE)\n",
    "pattern.findall(string)"
   ]
  },
  {
   "cell_type": "markdown",
   "metadata": {},
   "source": [
    "# \\Z End of line  not Supported Multiline"
   ]
  },
  {
   "cell_type": "code",
   "execution_count": 13,
   "metadata": {},
   "outputs": [
    {
     "data": {
      "text/plain": [
       "['abc']"
      ]
     },
     "execution_count": 13,
     "metadata": {},
     "output_type": "execute_result"
    }
   ],
   "source": [
    "string = \"xyx abc\"\n",
    "pattern = re.compile(r\"abc\\Z\")\n",
    "pattern.findall(string)"
   ]
  },
  {
   "cell_type": "code",
   "execution_count": 14,
   "metadata": {},
   "outputs": [
    {
     "data": {
      "text/plain": [
       "['abc']"
      ]
     },
     "execution_count": 14,
     "metadata": {},
     "output_type": "execute_result"
    }
   ],
   "source": [
    "string = \"xyz abc\\nabc\"\n",
    "pattern = re.compile(r\"abc\\Z\",re.MULTILINE)\n",
    "pattern.findall(string)\n",
    "\n",
    "# not support multiline "
   ]
  },
  {
   "cell_type": "markdown",
   "metadata": {},
   "source": [
    "# \\b Start With CHARACTERS/WORD"
   ]
  },
  {
   "cell_type": "code",
   "execution_count": 15,
   "metadata": {},
   "outputs": [
    {
     "data": {
      "text/plain": [
       "['h', 'h', 'h']"
      ]
     },
     "execution_count": 15,
     "metadata": {},
     "output_type": "execute_result"
    }
   ],
   "source": [
    "string = \"hello hlloe hollo\"\n",
    "pattern = re.compile(r\"\\bh\")\n",
    "pattern.findall(string)"
   ]
  },
  {
   "cell_type": "code",
   "execution_count": 16,
   "metadata": {},
   "outputs": [
    {
     "data": {
      "text/plain": [
       "['h', 'h', 'h']"
      ]
     },
     "execution_count": 16,
     "metadata": {},
     "output_type": "execute_result"
    }
   ],
   "source": [
    "# depond on word/characters not depended on line\n",
    "string = \"hello\\nhlloe\\nhollo\"\n",
    "pattern = re.compile(r\"\\bh\")\n",
    "pattern.findall(string)"
   ]
  },
  {
   "cell_type": "code",
   "execution_count": 28,
   "metadata": {},
   "outputs": [
    {
     "data": {
      "text/plain": [
       "['hello', 'hello']"
      ]
     },
     "execution_count": 28,
     "metadata": {},
     "output_type": "execute_result"
    }
   ],
   "source": [
    "string = \"hellohello.hello\"\n",
    "pattern = re.compile(r\"\\bhello\")\n",
    "pattern.findall(string)\n",
    "# now they are match  first hello and last hello\n",
    "# 2nd hello are not include bcz they are not seprated with space or symbole"
   ]
  },
  {
   "cell_type": "markdown",
   "metadata": {},
   "source": [
    "# \\b End With CHARACTERS/WORD"
   ]
  },
  {
   "cell_type": "code",
   "execution_count": 29,
   "metadata": {},
   "outputs": [
    {
     "data": {
      "text/plain": [
       "['o', 'o']"
      ]
     },
     "execution_count": 29,
     "metadata": {},
     "output_type": "execute_result"
    }
   ],
   "source": [
    "string = \"hello hlloe hollo\"\n",
    "pattern = re.compile(r\"o\\b\")\n",
    "pattern.findall(string)"
   ]
  },
  {
   "cell_type": "code",
   "execution_count": 31,
   "metadata": {},
   "outputs": [
    {
     "data": {
      "text/plain": [
       "['o']"
      ]
     },
     "execution_count": 31,
     "metadata": {},
     "output_type": "execute_result"
    }
   ],
   "source": [
    "string = \"hellohlloe hollo\"\n",
    "pattern = re.compile(r\"o\\b\")\n",
    "pattern.findall(string)\n",
    "\n",
    "# only lasy o are match\n",
    "# bcz 2nd hllo are nor seprated by space or symbole"
   ]
  },
  {
   "cell_type": "markdown",
   "metadata": {},
   "source": [
    "# \\B MID or End With CHARACTERS/WORD"
   ]
  },
  {
   "cell_type": "code",
   "execution_count": 32,
   "metadata": {},
   "outputs": [
    {
     "data": {
      "text/plain": [
       "['is', 'is']"
      ]
     },
     "execution_count": 32,
     "metadata": {},
     "output_type": "execute_result"
    }
   ],
   "source": [
    "string = \"xisx xis\"\n",
    "pattern = re.compile(r\"\\Bis\")\n",
    "pattern.findall(string)"
   ]
  },
  {
   "cell_type": "markdown",
   "metadata": {},
   "source": [
    "# \\B MID or Start With CHARACTERS/WORD"
   ]
  },
  {
   "cell_type": "code",
   "execution_count": 19,
   "metadata": {},
   "outputs": [
    {
     "data": {
      "text/plain": [
       "['is', 'is']"
      ]
     },
     "execution_count": 19,
     "metadata": {},
     "output_type": "execute_result"
    }
   ],
   "source": [
    "string = \"xisx xis isx\"\n",
    "pattern = re.compile(r\"is\\B\")\n",
    "pattern.findall(string)"
   ]
  },
  {
   "cell_type": "markdown",
   "metadata": {},
   "source": [
    "# | Or"
   ]
  },
  {
   "cell_type": "code",
   "execution_count": 20,
   "metadata": {},
   "outputs": [
    {
     "data": {
      "text/plain": [
       "['a', 'A', 'a', 'A']"
      ]
     },
     "execution_count": 20,
     "metadata": {},
     "output_type": "execute_result"
    }
   ],
   "source": [
    "string = \"xbaAi082baA-\"\n",
    "pattern = re.compile(r\"A|a\")\n",
    "pattern.findall(string)"
   ]
  }
 ],
 "metadata": {
  "colab": {
   "provenance": []
  },
  "kernelspec": {
   "display_name": "Python 3 (ipykernel)",
   "language": "python",
   "name": "python3"
  },
  "language_info": {
   "codemirror_mode": {
    "name": "ipython",
    "version": 3
   },
   "file_extension": ".py",
   "mimetype": "text/x-python",
   "name": "python",
   "nbconvert_exporter": "python",
   "pygments_lexer": "ipython3",
   "version": "3.10.12"
  }
 },
 "nbformat": 4,
 "nbformat_minor": 4
}

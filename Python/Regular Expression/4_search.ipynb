{
 "cells": [
  {
   "cell_type": "markdown",
   "id": "85ad888c",
   "metadata": {},
   "source": [
    "# search"
   ]
  },
  {
   "cell_type": "markdown",
   "id": "1d7a9faa",
   "metadata": {},
   "source": [
    "- ### The search() function in Python's re module is used to search for a pattern within a string. It scans the string from left to right and returns the first match it finds."
   ]
  },
  {
   "cell_type": "markdown",
   "id": "97ec7602",
   "metadata": {},
   "source": [
    "# Syntax"
   ]
  },
  {
   "cell_type": "markdown",
   "id": "3c73bda4",
   "metadata": {},
   "source": [
    "- ### re.search(pattern, string, flags=0)"
   ]
  },
  {
   "cell_type": "code",
   "execution_count": 2,
   "id": "b8a13f3a",
   "metadata": {},
   "outputs": [
    {
     "data": {
      "text/plain": [
       "<re.Match object; span=(7, 12), match='world'>"
      ]
     },
     "execution_count": 2,
     "metadata": {},
     "output_type": "execute_result"
    }
   ],
   "source": [
    "import re\n",
    "\n",
    "pattern = re.compile(r\"world\")\n",
    "string = \"Hello, world! Welcome to the world of Python.\"\n",
    "\n",
    "pattern.search(string)"
   ]
  },
  {
   "cell_type": "code",
   "execution_count": 14,
   "id": "c430da69",
   "metadata": {},
   "outputs": [
    {
     "data": {
      "text/plain": [
       "<re.Match object; span=(10, 12), match='42'>"
      ]
     },
     "execution_count": 14,
     "metadata": {},
     "output_type": "execute_result"
    }
   ],
   "source": [
    "pattern = re.compile(r\"\\d+\")\n",
    "string = \"There are 42 apples and 7 oranges.\"\n",
    "\n",
    "pattern.search(string)"
   ]
  },
  {
   "cell_type": "code",
   "execution_count": 19,
   "id": "f2eca820",
   "metadata": {},
   "outputs": [
    {
     "data": {
      "text/plain": [
       "'42'"
      ]
     },
     "execution_count": 19,
     "metadata": {},
     "output_type": "execute_result"
    }
   ],
   "source": [
    "string[10:12]"
   ]
  },
  {
   "cell_type": "code",
   "execution_count": 23,
   "id": "2c3f99e7",
   "metadata": {},
   "outputs": [
    {
     "data": {
      "text/plain": [
       "'42'"
      ]
     },
     "execution_count": 23,
     "metadata": {},
     "output_type": "execute_result"
    }
   ],
   "source": [
    "pattern.search(string).group()"
   ]
  },
  {
   "cell_type": "markdown",
   "id": "4e10fb21",
   "metadata": {},
   "source": [
    "<table>\n",
    "  <tr>\n",
    "    <th></th>\n",
    "    <th><h1>search()</h1></th>\n",
    "    <th><h1>match()</h1></th>\n",
    "  </tr>\n",
    "  <tr>\n",
    "    <td>Matching Scope</td>\n",
    "    <td>Searches anywhere in the string</td>\n",
    "    <td>Matches at the beginning of the string</td>\n",
    "  </tr>\n",
    "  <tr>\n",
    "    <td>Return Value</td>\n",
    "    <td>Returns first match found</td>\n",
    "    <td>Returns match only if found at the beginning</td>\n",
    "  </tr>\n",
    "  <tr>\n",
    "    <td>Anchoring Behavior</td>\n",
    "    <td>Does not require the pattern to match the entire string</td>\n",
    "    <td>Requires the pattern to match from the beginning</td>\n",
    "  </tr>\n",
    "  <tr>\n",
    "    <td>Implicit Anchoring</td>\n",
    "    <td>Does not implicitly anchor the pattern</td>\n",
    "    <td>Implicitly anchors the pattern to the beginning of the string</td>\n",
    "  </tr>\n",
    "  <tr>\n",
    "    <td>Example</td>\n",
    "    <td>re.search(pattern, string)</td>\n",
    "    <td>re.match(pattern, string)</td>\n",
    "  </tr>\n",
    "</table>\n"
   ]
  },
  {
   "cell_type": "code",
   "execution_count": 24,
   "id": "84f433d2",
   "metadata": {},
   "outputs": [],
   "source": [
    "string = \"Hello, world! Welcome to the world of Python.\""
   ]
  },
  {
   "cell_type": "code",
   "execution_count": 29,
   "id": "04a74a8c",
   "metadata": {},
   "outputs": [
    {
     "name": "stdout",
     "output_type": "stream",
     "text": [
      "<re.Match object; span=(7, 12), match='world'>\n"
     ]
    }
   ],
   "source": [
    "pattern = re.compile(r\"world\")\n",
    "\n",
    "print(pattern.search(string)) \n",
    "# Returns first match found"
   ]
  },
  {
   "cell_type": "code",
   "execution_count": 30,
   "id": "de2bfdaa",
   "metadata": {},
   "outputs": [
    {
     "name": "stdout",
     "output_type": "stream",
     "text": [
      "None\n"
     ]
    }
   ],
   "source": [
    "print(pattern.match(string))\n",
    "# Returns match only if found at the beginning"
   ]
  },
  {
   "cell_type": "markdown",
   "id": "d0a4f187",
   "metadata": {},
   "source": [
    "# Attributes and methods <a href=\"https://github.com/Mubeen-Ahmad/python_11/blob/main/Python/Regular%20Expression/2_match_and_fullmatch.ipynb\">Click Here</a>"
   ]
  }
 ],
 "metadata": {
  "kernelspec": {
   "display_name": "Python 3 (ipykernel)",
   "language": "python",
   "name": "python3"
  },
  "language_info": {
   "codemirror_mode": {
    "name": "ipython",
    "version": 3
   },
   "file_extension": ".py",
   "mimetype": "text/x-python",
   "name": "python",
   "nbconvert_exporter": "python",
   "pygments_lexer": "ipython3",
   "version": "3.10.6"
  }
 },
 "nbformat": 4,
 "nbformat_minor": 5
}

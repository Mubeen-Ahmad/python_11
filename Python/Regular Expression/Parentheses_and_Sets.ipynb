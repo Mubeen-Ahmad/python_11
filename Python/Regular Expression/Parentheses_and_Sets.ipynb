{
 "cells": [
  {
   "cell_type": "markdown",
   "id": "348fcbd4-5d45-412a-825a-6372d7e6c03c",
   "metadata": {},
   "source": [
    "# Parentheses\n",
    "<br>\n",
    "\n",
    "- ## Parentheses () in regular expressions serve multiple purposes, including grouping, capturing, and specifying alternation"
   ]
  },
  {
   "cell_type": "markdown",
   "id": "f7bc189a-9192-4ad7-a6c9-eab5bba73cfe",
   "metadata": {},
   "source": [
    "#### <br><br>\n",
    "\n",
    "<table>\n",
    "  <thead>\n",
    "    <tr>\n",
    "      <th><h3>MetaCharacter</h3></th>\n",
    "      <th><h3>Legend</h3></th>\n",
    "      <th><h3>Example</h3></th>\n",
    "      <th><h3>Sample</h3></th>\n",
    "      <th><h3>Output</h3></th>\n",
    "    </tr>\n",
    "  </thead>\n",
    "  <tbody>\n",
    "    <tr>\n",
    "      <td><h4>(ab)</h4></td>\n",
    "      <td><h4>Extract all ab </h4></td>\n",
    "      <td><h4><code>(ab)</code></h4></td>\n",
    "      <td><h4>\"ababab\"</h4></td>\n",
    "      <td><h4>['ab', 'ab', 'ab']</h4></td>\n",
    "    </tr>\n",
    "    <tr>\n",
    "      <td><h4>(cat|dog)</h4></td>\n",
    "      <td><h4>Extract all cat or dog</h4></td>\n",
    "      <td><h4><code>(cat|dog)</code></h4></td>\n",
    "      <td><h4>\"catdoglioncat\"</h4></td>\n",
    "      <td><h4>\"['cat', 'dog', 'cat']\"</h4></td>\n",
    "    </tr>\n",
    "    <tr>\n",
    "      <td><h4>(\\d+)</h4></td>\n",
    "      <td><h4>Extract All Digits</h4></td>\n",
    "      <td><h4><code>(\\d+)</code></h4></td>\n",
    "      <td><h4>\"xyz20x40@gmail.com\"</h4></td>\n",
    "      <td><h4>['20', '40']</h4></td>\n",
    "    </tr>\n",
    "    <tr>\n",
    "      <td><h4>(\\D+)</h4></td>\n",
    "      <td><h4>Extract letters and Symbole only</h4></td>\n",
    "      <td><h4><code>(\\D+)</code></h4></td>\n",
    "      <td><h4>\"xyz20x40@gmail.com\"</h4></td>\n",
    "      <td><h4>['xyz', 'x', '@gmail.com']</h4></td>\n",
    "    </tr>\n",
    "     <tr>\n",
    "      <td><h4>(\\D+)(\\d+)</h4></td>\n",
    "      <td><h4>Two Groups (one letter , other number)</h4></td>\n",
    "      <td><h4><code>(\\D+)(\\d+)</code></h4></td>\n",
    "      <td><h4>\"xyz20x40@gmail.com\"</h4></td>\n",
    "      <td><h4>[('xyz', '20'), ('x', '40')]</h4></td>\n",
    "    </tr>\n",
    "    <tr>\n",
    "      <td><h4>(\\w+)+(@)+(\\w+)+(\\.)+(\\w+)</h4></td>\n",
    "      <td><h4>Seprate The mail</h4></td>\n",
    "      <td><h4><code>(\\w+)+(@)+(\\w+)+(\\.)+(\\w+)</code></h4></td>\n",
    "      <td><h4>\"xyz20x40@gmail.com\"</h4></td>\n",
    "      <td><h4>[('xyz20x40', '@', 'gmail', '.', 'com')]</h4></td>\n",
    "    </tr>\n",
    "      \n",
    "  </tbody>\n",
    "</table>\n",
    "\n"
   ]
  },
  {
   "cell_type": "markdown",
   "id": "baaac03a-098e-447a-9424-78fb1a49cf2b",
   "metadata": {},
   "source": [
    "## (ab) Extract all ab "
   ]
  },
  {
   "cell_type": "code",
   "execution_count": 1,
   "id": "4e4a253c-d715-452f-af1c-a8d9feede792",
   "metadata": {},
   "outputs": [
    {
     "name": "stdout",
     "output_type": "stream",
     "text": [
      "['ab', 'ab', 'ab']\n"
     ]
    }
   ],
   "source": [
    "import re\n",
    "\n",
    "string = \"ababab\"\n",
    "pattern  = re.compile('(ab)')\n",
    "print(pattern.findall(string))"
   ]
  },
  {
   "cell_type": "markdown",
   "id": "09646cf9-ec77-46c8-9264-2fae472b6ef9",
   "metadata": {},
   "source": [
    "## (cat|dog) Extract all cat or dog"
   ]
  },
  {
   "cell_type": "code",
   "execution_count": 2,
   "id": "a00859e7-172f-439a-a9ad-6914305e91ae",
   "metadata": {},
   "outputs": [
    {
     "name": "stdout",
     "output_type": "stream",
     "text": [
      "['cat', 'dog', 'cat']\n"
     ]
    }
   ],
   "source": [
    "string = \"catdoglioncat\"\n",
    "pattern  = re.compile(r'(cat|dog)')\n",
    "print(pattern.findall(string))"
   ]
  },
  {
   "cell_type": "markdown",
   "id": "0dbefa2a-e8d5-4e7b-b9fe-c986f7a07e47",
   "metadata": {},
   "source": [
    "## (\\d+) extract numbers only"
   ]
  },
  {
   "cell_type": "code",
   "execution_count": 3,
   "id": "b8561aa7-9db0-43e5-b57a-29fb4ebad8a2",
   "metadata": {},
   "outputs": [
    {
     "data": {
      "text/plain": [
       "['20', '40']"
      ]
     },
     "execution_count": 3,
     "metadata": {},
     "output_type": "execute_result"
    }
   ],
   "source": [
    "string = \"xyz20x40@gmail.com\"\n",
    "pattern  = re.compile(r'(\\d+)')\n",
    "pattern.findall(string)"
   ]
  },
  {
   "cell_type": "markdown",
   "id": "b9859c5c-fa59-4dad-b1d0-0b5f810177c3",
   "metadata": {},
   "source": [
    "## (\\D+) Extract letters and Symbole only"
   ]
  },
  {
   "cell_type": "code",
   "execution_count": 4,
   "id": "c7b43882-235c-4f7a-bf68-4b2dc8a966ee",
   "metadata": {},
   "outputs": [
    {
     "data": {
      "text/plain": [
       "['xyz', 'x', '@gmail.com']"
      ]
     },
     "execution_count": 4,
     "metadata": {},
     "output_type": "execute_result"
    }
   ],
   "source": [
    "string = \"xyz20x40@gmail.com\"\n",
    "pattern  = re.compile(r'(\\D+)')\n",
    "pattern.findall(string)"
   ]
  },
  {
   "cell_type": "markdown",
   "id": "0b498d4b-5142-4f42-a6f8-25f08a1152a2",
   "metadata": {},
   "source": [
    "## (\\D+)(\\d+) Two Groups (one letter , other number)"
   ]
  },
  {
   "cell_type": "code",
   "execution_count": 5,
   "id": "ae3b127f-56c0-457f-b84d-b3255e8d2fab",
   "metadata": {},
   "outputs": [
    {
     "data": {
      "text/plain": [
       "[('xyz', '20'), ('x', '40')]"
      ]
     },
     "execution_count": 5,
     "metadata": {},
     "output_type": "execute_result"
    }
   ],
   "source": [
    "string = \"xyz20x40@gmail.com\"\n",
    "pattern  = re.compile(r'(\\D+)(\\d+)')\n",
    "pattern.findall(string)"
   ]
  },
  {
   "cell_type": "markdown",
   "id": "f91af97a-49f6-4c57-9acc-e8a66b7b9b72",
   "metadata": {},
   "source": [
    "## (\\w+)+(@)+(\\w+)+(\\.)+(\\w+) Separate Email "
   ]
  },
  {
   "cell_type": "code",
   "execution_count": 6,
   "id": "a859a176-6c88-4792-b271-e38344c5d879",
   "metadata": {},
   "outputs": [
    {
     "data": {
      "text/plain": [
       "[('xyz20x40', '@', 'gmail', '.', 'com')]"
      ]
     },
     "execution_count": 6,
     "metadata": {},
     "output_type": "execute_result"
    }
   ],
   "source": [
    "string = \"xyz20x40@@gmail.com\"\n",
    "pattern  = re.compile(r'(\\w+)+(@)+(\\w+)+(\\.)+(\\w+)')\n",
    "pattern.findall(string)"
   ]
  },
  {
   "cell_type": "markdown",
   "id": "57f1a467-cc0f-4d18-820e-c215fccbca77",
   "metadata": {},
   "source": [
    "## Curly Braces or Sets\n",
    "<br>\n",
    "\n",
    "## curly braces {} are used to specify quantifiers that define how many times a character or group should be repeated. \n",
    "<br>\n",
    "\n",
    "## Specifically, {} is used to denote a specific range for quantification"
   ]
  },
  {
   "cell_type": "markdown",
   "id": "14bc7f51-f434-46e8-959c-caadfacb5d5d",
   "metadata": {},
   "source": [
    "#### <br><br>\n",
    "\n",
    "<table>\n",
    "  <thead>\n",
    "    <tr>\n",
    "      <th><h3>MetaCharacter</h3></th>\n",
    "      <th><h3>Legend</h3></th>\n",
    "      <th><h3>Example</h3></th>\n",
    "      <th><h3>Sample</h3></th>\n",
    "      <th><h3>Output</h3></th>\n",
    "    </tr>\n",
    "  </thead>\n",
    "  <tbody>\n",
    "    <tr>\n",
    "      <td><h4>x{n}</h4></td>\n",
    "      <td><h4>Extract x But Range n</h4></td>\n",
    "      <td><h4><code>o{3}</code></h4></td>\n",
    "      <td><h4>\"Hellooo, hoooow are yoooooou\"</h4></td>\n",
    "      <td><h4>['ooo', 'ooo', 'ooo', 'ooo']</h4></td>\n",
    "    </tr>\n",
    "    <tr>\n",
    "      <td><h4>x{n,}</h4></td>\n",
    "      <td><h4>Extract n or greater than n range</h4></td>\n",
    "      <td><h4><code>o{3,}</code></h4></td>\n",
    "      <td><h4>\"Hellooo, hoooow are yoooooou\"</h4></td>\n",
    "      <td><h4>['ooo', 'oooo', 'oooooo']</h4></td>\n",
    "    </tr>\n",
    "    <tr>\n",
    "      <td><h4>x{n,y}</h4></td>\n",
    "      <td><h4>Extract n or y range</h4></td>\n",
    "      <td><h4><code>o{1,2}</code></h4></td>\n",
    "      <td><h4>\"Hellooo, hoooow are yoooooou\"</h4></td>\n",
    "      <td><h4>['oo', 'o', 'oo', 'oo', 'oo', 'oo', 'oo']</h4></td>\n",
    "    </tr>\n",
    "    <tr>\n",
    "      <td><h4>\\d{2}-\\d{2}-\\d{4}</h4></td>\n",
    "      <td><h4>Extract Date</h4></td>\n",
    "      <td><h4><code>\\d{2}-\\d{2}-\\d{4}</code></h4></td>\n",
    "      <td><h4>\"13-09-2023\"</h4></td>\n",
    "      <td><h4>['13-09-2023']</h4></td>\n",
    "    </tr>\n",
    "    <tr>\n",
    "      <td><h4>[A-z]{2}</h4></td>\n",
    "      <td><h4>Extract Date</h4></td>\n",
    "      <td><h4><code>[A-z]{2}</code></h4></td>\n",
    "      <td><h4>\"AaBbCcDdEeFf\"</h4></td>\n",
    "      <td><h4>['13-09-2023']</h4></td>\n",
    "    </tr>\n",
    "      \n",
    "  </tbody>\n",
    "</table>\n",
    "\n"
   ]
  },
  {
   "cell_type": "markdown",
   "id": "78135958-b575-4748-9074-64d814465f00",
   "metadata": {},
   "source": [
    "## Extract only 3 o "
   ]
  },
  {
   "cell_type": "code",
   "execution_count": 7,
   "id": "cd827ea3-a9f7-425c-8a4e-9a9ab356cbd7",
   "metadata": {},
   "outputs": [
    {
     "data": {
      "text/plain": [
       "['ooo', 'ooo', 'ooo', 'ooo']"
      ]
     },
     "execution_count": 7,
     "metadata": {},
     "output_type": "execute_result"
    }
   ],
   "source": [
    "string = \"Hellooo, hoooow are yoooooou\"\n",
    "pattern  = re.compile(r'o{3}')\n",
    "pattern.findall(string)"
   ]
  },
  {
   "cell_type": "markdown",
   "id": "0b0e1434-d3c5-4389-a61d-fe978bb7b0d9",
   "metadata": {},
   "source": [
    "## Extract only 3 o or greater than 3 o "
   ]
  },
  {
   "cell_type": "code",
   "execution_count": 8,
   "id": "033b4e43-643f-41a8-9dfd-1cc175994bbc",
   "metadata": {},
   "outputs": [
    {
     "data": {
      "text/plain": [
       "['ooo', 'oooo', 'oooooo']"
      ]
     },
     "execution_count": 8,
     "metadata": {},
     "output_type": "execute_result"
    }
   ],
   "source": [
    "string = \"Hellooo, hoooow are yoooooou\"\n",
    "pattern  = re.compile(r'o{3,}')\n",
    "pattern.findall(string)"
   ]
  },
  {
   "cell_type": "markdown",
   "id": "6ee76cc3-9744-4aed-b1d3-3f8dd64af376",
   "metadata": {},
   "source": [
    "## Extract only 1 o or greater than 2 o "
   ]
  },
  {
   "cell_type": "code",
   "execution_count": 9,
   "id": "e30a05e9-8218-4aaa-a6f6-ec1815631f96",
   "metadata": {},
   "outputs": [
    {
     "data": {
      "text/plain": [
       "['oo', 'o', 'oo', 'oo', 'oo', 'oo', 'oo']"
      ]
     },
     "execution_count": 9,
     "metadata": {},
     "output_type": "execute_result"
    }
   ],
   "source": [
    "string = \"Hellooo, hoooow are yoooooou\"\n",
    "pattern  = re.compile(r'o{1,2}')\n",
    "pattern.findall(string)"
   ]
  },
  {
   "cell_type": "markdown",
   "id": "cb0d9221-e220-4ddc-9769-f524e1308bcb",
   "metadata": {},
   "source": [
    "## Extract Date"
   ]
  },
  {
   "cell_type": "code",
   "execution_count": 10,
   "id": "1e7afcbf-a6ad-4f3f-b03b-e8b1b0d395fd",
   "metadata": {},
   "outputs": [
    {
     "data": {
      "text/plain": [
       "['13-09-2023']"
      ]
     },
     "execution_count": 10,
     "metadata": {},
     "output_type": "execute_result"
    }
   ],
   "source": [
    "string = \"13-09-2023\"\n",
    "pattern  = re.compile(r'\\d{2}-\\d{2}-\\d{4}')\n",
    "pattern.findall(string)"
   ]
  },
  {
   "cell_type": "markdown",
   "id": "9313d83a-8907-4b68-9aa5-bfdc4e6ca43a",
   "metadata": {},
   "source": [
    "## set with class"
   ]
  },
  {
   "cell_type": "code",
   "execution_count": 12,
   "id": "bdb6dafc-81ee-4f5a-b363-ea59643d5349",
   "metadata": {},
   "outputs": [
    {
     "data": {
      "text/plain": [
       "['Aa', 'Bb', 'Cc', 'Dd', 'Ee', 'Ff']"
      ]
     },
     "execution_count": 12,
     "metadata": {},
     "output_type": "execute_result"
    }
   ],
   "source": [
    "string = \"AaBbCcDdEeFf\"\n",
    "pattern  = re.compile(r'[A-z]{2}')\n",
    "pattern.findall(string)"
   ]
  },
  {
   "cell_type": "markdown",
   "id": "0c9ff9cd-8d9a-4d61-a353-5642c0e33886",
   "metadata": {},
   "source": [
    "#### <br>\n",
    "\n",
    "## Note We Also used these Metacharacters in Parentheses and Sets\n",
    "<br>\n",
    "\n",
    "- ### <a href=\"https://github.com/Mubeen-Ahmad/python_11/blob/main/Python/Regular%20Expression/7_Basic_Metacracters.ipynb\">Basic Metacracters</a>\n",
    "\n",
    "- ### <a href=\"https://github.com/Mubeen-Ahmad/python_11/blob/main/Python/Regular%20Expression/8_Escape_Sequence.ipynb\">Escape Sequence</a> "
   ]
  }
 ],
 "metadata": {
  "kernelspec": {
   "display_name": "Python 3 (ipykernel)",
   "language": "python",
   "name": "python3"
  },
  "language_info": {
   "codemirror_mode": {
    "name": "ipython",
    "version": 3
   },
   "file_extension": ".py",
   "mimetype": "text/x-python",
   "name": "python",
   "nbconvert_exporter": "python",
   "pygments_lexer": "ipython3",
   "version": "3.10.12"
  }
 },
 "nbformat": 4,
 "nbformat_minor": 5
}

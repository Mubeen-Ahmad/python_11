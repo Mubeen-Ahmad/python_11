{
 "cells": [
  {
   "cell_type": "markdown",
   "metadata": {},
   "source": [
    "## Regular expression (regex) is a sequence of characters that forms a search pattern. It is a powerful tool used for pattern matching and searching within strings. \n",
    "<br>\n",
    "\n",
    "- ### Regular expressions provide a concise and flexible way to match, locate, and manipulate text based on specific patterns.\n",
    "<br>\n",
    "\n",
    "- ### In Python, the re module provides functions for working with regular expressions. \n",
    "- ### It allows you to perform various operations such as pattern matching, searching, substitution, and splitting of strings based on specific patterns.\n",
    "<br><br>"
   ]
  },
  {
   "cell_type": "markdown",
   "metadata": {
    "id": "fS4AcZoB0aP2"
   },
   "source": [
    "# re.compile()\n",
    "\n",
    "<br>\n",
    "\n",
    "- ### The re.compile() method in Python's re module allows you to precompile a regular expression pattern into a regex object.\n",
    "\n",
    "- ### It is like preparing a \"template\" for pattern matching that can be used multiple times."
   ]
  },
  {
   "cell_type": "markdown",
   "metadata": {
    "id": "or449wfm1MMs"
   },
   "source": [
    "<br>\n",
    "\n",
    "## The benefits of using re.compile() are:\n",
    "<br>\n",
    "\n",
    "## *Improved Performance* :\n",
    "- ### Compiling the pattern once with re.compile() reduces overhead when performing multiple operations.\n",
    "- ### This is because the compiled regex object is ready to use, avoiding the need to recompile the pattern every time.\n",
    "<br>\n",
    "\n",
    "## *Code Readability* :\n",
    "  - ### By separating the pattern definition from the operations, your code becomes more readable and organized.\n",
    "  - ### You can assign meaningful names to the compiled regex objects, making it clear what each object represents.\n",
    "<br>\n",
    "\n",
    "## *Reusability* :\n",
    "- ### Once you have a compiled regex object, you can reuse it for various operations like searching, matching, replacing, or splitting strings.\n",
    "- ### This saves you from having to write the same pattern multiple times."
   ]
  },
  {
   "cell_type": "markdown",
   "metadata": {
    "id": "HrjGwOkS32ph"
   },
   "source": [
    "<br><br>\n",
    "\n",
    "# Syntax :\n",
    "\n",
    "- ### re.compile()\n",
    "  <br>\n",
    "\n",
    "- ### Parameters\n",
    "  - ### *Pattern*\n",
    "    - ## This is the required parameter that specifies the regular expression pattern as a string.\n",
    "    \n",
    "    - ## It represents the pattern or rule that you want to match against strings.\n",
    "    \n",
    "    - ## The pattern can contain a combination of letters, digits, special characters, and metacharacters to define the matching rules.\n",
    "  <br>\n",
    "\n",
    "  - ### *flags*:\n",
    "    - ## This is an optional parameter that allows you to specify various flags to modify the behavior of the regular expression.\n",
    "    - ## Flags are represented using constants defined in the re module. Some commonly used flags include:\n",
    "    <br>\n",
    "\n",
    "      - ### *re.IGNORECASE or re.I* :\n",
    "        - ### Ignore case while matching.\n",
    "      <br>\n",
    "\n",
    "      - ### *re.MULTILINE or re.M* :\n",
    "        - ### Enable multiline matching.\n",
    "      <br>\n",
    "\n",
    "      - ### *re.DOTALL or re.S* :\n",
    "        - ### Make the dot (.) match all characters, including newlines.\n",
    "        <br>\n",
    "\n",
    "      - ### *re.VERBOSE or re.X*:\n",
    "        - ### Enable verbose mode, which allows writing regex patterns with comments and whitespace.\n",
    "\n"
   ]
  },
  {
   "cell_type": "markdown",
   "metadata": {
    "id": "KCpjINiC7YqS"
   },
   "source": [
    "<br><br>\n",
    "\n",
    "## Examples 1"
   ]
  },
  {
   "cell_type": "code",
   "execution_count": 1,
   "metadata": {
    "colab": {
     "base_uri": "https://localhost:8080/"
    },
    "executionInfo": {
     "elapsed": 441,
     "status": "ok",
     "timestamp": 1688223163106,
     "user": {
      "displayName": "Mʀ Aŋoŋɱƴoʋs",
      "userId": "14245472023480066322"
     },
     "user_tz": -300
    },
    "id": "EH3K93fp4Ymi",
    "outputId": "50938a86-5405-460c-ba9e-cf6c3b705c1a"
   },
   "outputs": [
    {
     "data": {
      "text/plain": [
       "['hello', 'hello']"
      ]
     },
     "execution_count": 1,
     "metadata": {},
     "output_type": "execute_result"
    }
   ],
   "source": [
    "import re\n",
    "\n",
    "string = \"hello world hello rex\"\n",
    "pattern = re.compile(r'hello')\n",
    "\n",
    "pattern.findall(string) # using findall method"
   ]
  },
  {
   "cell_type": "markdown",
   "metadata": {
    "id": "X4yUtiMJ8YY3"
   },
   "source": [
    "## Examples 2"
   ]
  },
  {
   "cell_type": "code",
   "execution_count": 2,
   "metadata": {
    "colab": {
     "base_uri": "https://localhost:8080/"
    },
    "executionInfo": {
     "elapsed": 701,
     "status": "ok",
     "timestamp": 1688223224652,
     "user": {
      "displayName": "Mʀ Aŋoŋɱƴoʋs",
      "userId": "14245472023480066322"
     },
     "user_tz": -300
    },
    "id": "omnuyNVw8bA6",
    "outputId": "39ddeabb-4a6c-4bfe-9617-23ee964dbb1f"
   },
   "outputs": [
    {
     "data": {
      "text/plain": [
       "[]"
      ]
     },
     "execution_count": 2,
     "metadata": {},
     "output_type": "execute_result"
    }
   ],
   "source": [
    "string = \"hello world hello rex\"\n",
    "pattern = re.compile(r'HELLO')\n",
    "\n",
    "pattern.findall(string)"
   ]
  },
  {
   "cell_type": "markdown",
   "metadata": {
    "id": "rBtx0aco8i9i"
   },
   "source": [
    "## Examples 3 re.IGNORECASE FLAG"
   ]
  },
  {
   "cell_type": "code",
   "execution_count": 3,
   "metadata": {
    "colab": {
     "base_uri": "https://localhost:8080/"
    },
    "executionInfo": {
     "elapsed": 454,
     "status": "ok",
     "timestamp": 1688223280153,
     "user": {
      "displayName": "Mʀ Aŋoŋɱƴoʋs",
      "userId": "14245472023480066322"
     },
     "user_tz": -300
    },
    "id": "HPCakkV18qhd",
    "outputId": "0cacd873-757a-4404-bcdb-e81040b22e46"
   },
   "outputs": [
    {
     "data": {
      "text/plain": [
       "['hello', 'hello']"
      ]
     },
     "execution_count": 3,
     "metadata": {},
     "output_type": "execute_result"
    }
   ],
   "source": [
    "string = \"hello world hello rex\"\n",
    "pattern = re.compile(r'HELLO',re.IGNORECASE)\n",
    "\n",
    "pattern.findall(string)"
   ]
  },
  {
   "cell_type": "markdown",
   "metadata": {
    "id": "ZIP6ZW4Y9xBz"
   },
   "source": [
    "## Examples 4"
   ]
  },
  {
   "cell_type": "code",
   "execution_count": 4,
   "metadata": {
    "colab": {
     "base_uri": "https://localhost:8080/"
    },
    "executionInfo": {
     "elapsed": 449,
     "status": "ok",
     "timestamp": 1688223577630,
     "user": {
      "displayName": "Mʀ Aŋoŋɱƴoʋs",
      "userId": "14245472023480066322"
     },
     "user_tz": -300
    },
    "id": "moVwlKZ387xp",
    "outputId": "2bb3aa38-3470-43c9-8a11-735c603b9db7"
   },
   "outputs": [
    {
     "data": {
      "text/plain": [
       "['Hello']"
      ]
     },
     "execution_count": 4,
     "metadata": {},
     "output_type": "execute_result"
    }
   ],
   "source": [
    "pattern = re.compile(r'^Hello')\n",
    "\n",
    "text = '''Hello, world!\n",
    "Hello, everyone!\n",
    "Hello, Rex!'''\n",
    "\n",
    "pattern.findall(text)\n"
   ]
  },
  {
   "cell_type": "markdown",
   "metadata": {
    "id": "jR1Zs6SF94tJ"
   },
   "source": [
    "## Examples 5 re.MULTILINE"
   ]
  },
  {
   "cell_type": "code",
   "execution_count": 5,
   "metadata": {
    "colab": {
     "base_uri": "https://localhost:8080/"
    },
    "executionInfo": {
     "elapsed": 462,
     "status": "ok",
     "timestamp": 1688223629355,
     "user": {
      "displayName": "Mʀ Aŋoŋɱƴoʋs",
      "userId": "14245472023480066322"
     },
     "user_tz": -300
    },
    "id": "oyWSKdQx-BRX",
    "outputId": "0c9ec368-7648-4e88-b1dd-5c78a69841de"
   },
   "outputs": [
    {
     "data": {
      "text/plain": [
       "['Hello', 'Hello', 'Hello']"
      ]
     },
     "execution_count": 5,
     "metadata": {},
     "output_type": "execute_result"
    }
   ],
   "source": [
    "pattern = re.compile(r'^Hello',re.MULTILINE)\n",
    "\n",
    "text = '''Hello, world!\n",
    "Hello, everyone!\n",
    "Hello, Rex!'''\n",
    "\n",
    "pattern.findall(text)\n"
   ]
  },
  {
   "cell_type": "markdown",
   "metadata": {
    "id": "lgq2JyAl_blZ"
   },
   "source": [
    "## Examples 6"
   ]
  },
  {
   "cell_type": "code",
   "execution_count": 25,
   "metadata": {
    "colab": {
     "base_uri": "https://localhost:8080/"
    },
    "executionInfo": {
     "elapsed": 436,
     "status": "ok",
     "timestamp": 1688224115297,
     "user": {
      "displayName": "Mʀ Aŋoŋɱƴoʋs",
      "userId": "14245472023480066322"
     },
     "user_tz": -300
    },
    "id": "S0wJfOv1-RyC",
    "outputId": "ae3b4861-962f-4617-d388-bf78a0588110"
   },
   "outputs": [
    {
     "data": {
      "text/plain": [
       "[]"
      ]
     },
     "execution_count": 25,
     "metadata": {},
     "output_type": "execute_result"
    }
   ],
   "source": [
    "pattern = re.compile(r'Hello.*world')\n",
    "text = '''Hello,\n",
    "world!'''\n",
    "\n",
    "pattern.findall(text)"
   ]
  },
  {
   "cell_type": "markdown",
   "metadata": {
    "id": "yipVl_WE_fyS"
   },
   "source": [
    "## Examples 7 re.DOTALL\n"
   ]
  },
  {
   "cell_type": "code",
   "execution_count": 20,
   "metadata": {
    "colab": {
     "base_uri": "https://localhost:8080/"
    },
    "executionInfo": {
     "elapsed": 457,
     "status": "ok",
     "timestamp": 1688224122282,
     "user": {
      "displayName": "Mʀ Aŋoŋɱƴoʋs",
      "userId": "14245472023480066322"
     },
     "user_tz": -300
    },
    "id": "201mJyNu_kME",
    "outputId": "097cfdf2-ff37-4971-bcb2-03eaf5f822a7"
   },
   "outputs": [
    {
     "data": {
      "text/plain": [
       "['Hello,']"
      ]
     },
     "execution_count": 20,
     "metadata": {},
     "output_type": "execute_result"
    }
   ],
   "source": [
    "pattern = re.compile(r'Hello.',re.DOTALL)\n",
    "text = '''Hello,world!'''\n",
    "pattern.findall(text)"
   ]
  },
  {
   "cell_type": "markdown",
   "metadata": {
    "id": "r-u_PDTQAKgv"
   },
   "source": [
    "## Examples 8\n",
    "\n"
   ]
  },
  {
   "cell_type": "code",
   "execution_count": null,
   "metadata": {
    "colab": {
     "base_uri": "https://localhost:8080/"
    },
    "executionInfo": {
     "elapsed": 661,
     "status": "ok",
     "timestamp": 1688224293360,
     "user": {
      "displayName": "Mʀ Aŋoŋɱƴoʋs",
      "userId": "14245472023480066322"
     },
     "user_tz": -300
    },
    "id": "AA_wT2PUAP9S",
    "outputId": "ef4ea483-78b8-4012-c313-bbfe39d0dadf"
   },
   "outputs": [],
   "source": [
    "pattern = re.compile(r'''\n",
    "    \\d{3}  # Match three digits\n",
    "    -      # Match a hyphen\n",
    "    \\d{4}  # Match four digits\n",
    "    -      # Match a hyphen\n",
    "    \\d{4}  # Match four digits\n",
    "    ''')\n",
    "\n",
    "text = 'Phone numbers: 123-4567-8901, 987-6543-2109'\n",
    "\n",
    "pattern.findall(text)\n",
    "# empty list bcz # comment matching in string"
   ]
  },
  {
   "cell_type": "markdown",
   "metadata": {
    "id": "8Rotr3nrAxef"
   },
   "source": [
    "## Examples 9 re.VERBOSE"
   ]
  },
  {
   "cell_type": "code",
   "execution_count": null,
   "metadata": {
    "colab": {
     "base_uri": "https://localhost:8080/"
    },
    "executionInfo": {
     "elapsed": 468,
     "status": "ok",
     "timestamp": 1688224376363,
     "user": {
      "displayName": "Mʀ Aŋoŋɱƴoʋs",
      "userId": "14245472023480066322"
     },
     "user_tz": -300
    },
    "id": "4QGQCw91A3N2",
    "outputId": "4dc9652a-11e0-4a07-97ac-ad7a00d83b64"
   },
   "outputs": [],
   "source": [
    "pattern = re.compile(r'''\n",
    "    \\d{3}  # Match three digits\n",
    "    -      # Match a hyphen\n",
    "    \\d{4}  # Match four digits\n",
    "    -      # Match a hyphen\n",
    "    \\d{4}  # Match four digits\n",
    "    ''',re.VERBOSE)\n",
    "\n",
    "text = 'Phone numbers: 123-4567-8901, 987-6543-2109'\n",
    "\n",
    "pattern.findall(text)\n",
    "# NOW verbose ignore the comments"
   ]
  }
 ],
 "metadata": {
  "colab": {
   "authorship_tag": "ABX9TyO2a+Mftey0jIYr++nIKqkv",
   "provenance": [
    {
     "file_id": "1gnUjIg9oswTzirEYx0IRhMTu-vd8TrgR",
     "timestamp": 1688219253579
    }
   ]
  },
  "kernelspec": {
   "display_name": "Python 3 (ipykernel)",
   "language": "python",
   "name": "python3"
  },
  "language_info": {
   "codemirror_mode": {
    "name": "ipython",
    "version": 3
   },
   "file_extension": ".py",
   "mimetype": "text/x-python",
   "name": "python",
   "nbconvert_exporter": "python",
   "pygments_lexer": "ipython3",
   "version": "3.10.12"
  }
 },
 "nbformat": 4,
 "nbformat_minor": 4
}

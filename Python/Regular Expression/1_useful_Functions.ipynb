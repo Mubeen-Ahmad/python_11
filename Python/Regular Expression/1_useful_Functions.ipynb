{
 "cells": [
  {
   "cell_type": "markdown",
   "metadata": {},
   "source": [
    "## Regular expression (regex) is a sequence of characters that forms a search pattern. It is a powerful tool used for pattern matching and searching within strings. \n",
    "<br>\n",
    "\n",
    "- ### Regular expressions provide a concise and flexible way to match, locate, and manipulate text based on specific patterns.\n",
    "<br>\n",
    "\n",
    "- ### In Python, the re module provides functions for working with regular expressions. \n",
    "- ### It allows you to perform various operations such as pattern matching, searching, substitution, and splitting of strings based on specific patterns."
   ]
  },
  {
   "cell_type": "code",
   "execution_count": 2,
   "metadata": {},
   "outputs": [],
   "source": [
    "import re"
   ]
  },
  {
   "cell_type": "markdown",
   "metadata": {},
   "source": [
    "## Methods\n",
    "<br>\n",
    "\n",
    "- ### re.match()\n",
    "- ### re.search()\n",
    "- ### re.findall()\n",
    "- ### re.finditer()\n",
    "- ### re.split()\n",
    "- ### re.sub()\n",
    "- ### re.subn()\n",
    "- ### re.compile()\n",
    "<br>\n",
    "\n",
    "## Attributes\n",
    "<br>\n",
    "\n",
    "- ### re.IGNORECASE or re.I\n",
    "- ### re.MULTILINE or re.M\n",
    "- ### re.DOTALL or re.S\n",
    "- ### .group()\n",
    "- ### .span()\n",
    "\n",
    "<br>"
   ]
  },
  {
   "cell_type": "markdown",
   "metadata": {},
   "source": [
    "- ### The re module in Python provides several functions for working with regular expressions. "
   ]
  },
  {
   "cell_type": "markdown",
   "metadata": {},
   "source": [
    "<br><br>\n",
    "- ### re.match(pattern, string, flags=0)\n",
    "<br>\n",
    "\n",
    "- ### Attempts to match the pattern at the beginning of the string. \n",
    "- ### Returns a match object if successful or None otherwise."
   ]
  },
  {
   "cell_type": "code",
   "execution_count": 4,
   "metadata": {},
   "outputs": [
    {
     "name": "stdout",
     "output_type": "stream",
     "text": [
      "None\n"
     ]
    }
   ],
   "source": [
    "string = \"0abc8d\"\n",
    "\n",
    "var = re.match(r\"[a-z]\", string)\n",
    "\n",
    "print(var)"
   ]
  },
  {
   "cell_type": "code",
   "execution_count": 6,
   "metadata": {},
   "outputs": [
    {
     "name": "stdout",
     "output_type": "stream",
     "text": [
      "None\n",
      "<re.Match object; span=(0, 1), match='a'>\n",
      "<re.Match object; span=(0, 1), match='b'>\n",
      "<re.Match object; span=(0, 1), match='c'>\n",
      "None\n",
      "<re.Match object; span=(0, 1), match='d'>\n"
     ]
    }
   ],
   "source": [
    "# now using iteration\n",
    "for i in string:\n",
    "    t = re.match(r\"[a-z]\",i)\n",
    "    print(t)"
   ]
  },
  {
   "cell_type": "code",
   "execution_count": 7,
   "metadata": {},
   "outputs": [
    {
     "name": "stdout",
     "output_type": "stream",
     "text": [
      "abcd"
     ]
    }
   ],
   "source": [
    "# now using iteration\n",
    "for i in string:\n",
    "    t = re.match(r\"[a-z]\",i)\n",
    "    if t:\n",
    "        print(i,end=\"\")"
   ]
  },
  {
   "cell_type": "markdown",
   "metadata": {},
   "source": [
    "### Used in Strings"
   ]
  },
  {
   "cell_type": "code",
   "execution_count": 8,
   "metadata": {},
   "outputs": [
    {
     "name": "stdout",
     "output_type": "stream",
     "text": [
      "Valid phone number\n"
     ]
    }
   ],
   "source": [
    "# Example 1\n",
    "\n",
    "pattern = r'^\\d{3}-\\d{3}-\\d{4}$'\n",
    "\n",
    "phone_number = '123-456-7890'\n",
    "\n",
    "match = re.match(pattern, phone_number)\n",
    "\n",
    "if match:\n",
    "    print('Valid phone number')\n",
    "else:\n",
    "    print('Invalid phone number')"
   ]
  },
  {
   "cell_type": "markdown",
   "metadata": {},
   "source": [
    "## Used In Iteration"
   ]
  },
  {
   "cell_type": "code",
   "execution_count": 10,
   "metadata": {},
   "outputs": [
    {
     "name": "stdout",
     "output_type": "stream",
     "text": [
      "<re.Match object; span=(0, 5), match='Hello'>\n",
      "None\n",
      "<re.Match object; span=(0, 5), match='Hello'>\n"
     ]
    }
   ],
   "source": [
    "# Example 2 \n",
    "\n",
    "pattern = r'^Hello'\n",
    "strings = [\"Hello, World!\", \"Hi there!\", \"Hello, OpenAI\"]\n",
    "\n",
    "for string in strings:\n",
    "    match = re.match(pattern, string)\n",
    "    print(match)"
   ]
  },
  {
   "cell_type": "code",
   "execution_count": 17,
   "metadata": {},
   "outputs": [
    {
     "name": "stdout",
     "output_type": "stream",
     "text": [
      "Hello, World!\n",
      "Hello, OpenAI\n"
     ]
    }
   ],
   "source": [
    "# now print if the string are match\n",
    "\n",
    "for string in strings:\n",
    "    match = re.match(pattern, string)\n",
    "    if match:\n",
    "        print(string)"
   ]
  },
  {
   "cell_type": "markdown",
   "metadata": {},
   "source": [
    "<br>\n",
    "\n",
    "### re.search(pattern, string, flags=0)\n",
    "<br>\n",
    "\n",
    "- ### Searches the string for a match to the pattern. \n",
    "- ### Returns a match object if a match is found or None otherwise."
   ]
  },
  {
   "cell_type": "code",
   "execution_count": 11,
   "metadata": {},
   "outputs": [
    {
     "data": {
      "text/plain": [
       "<re.Match object; span=(0, 12), match='123-456-7890'>"
      ]
     },
     "execution_count": 11,
     "metadata": {},
     "output_type": "execute_result"
    }
   ],
   "source": [
    "pattern = r'^\\d{3}-\\d{3}-\\d{4}$'\n",
    "phone_number = '123-456-7890'\n",
    "re.search(pattern,phone_number)"
   ]
  },
  {
   "cell_type": "code",
   "execution_count": 14,
   "metadata": {},
   "outputs": [
    {
     "data": {
      "text/plain": [
       "'123-456-7890'"
      ]
     },
     "execution_count": 14,
     "metadata": {},
     "output_type": "execute_result"
    }
   ],
   "source": [
    "re.search(pattern,phone_number).group(0)"
   ]
  },
  {
   "cell_type": "code",
   "execution_count": 48,
   "metadata": {},
   "outputs": [
    {
     "name": "stdout",
     "output_type": "stream",
     "text": [
      "Hello, World!\n",
      "Hello, OpenAI\n"
     ]
    }
   ],
   "source": [
    "# Example 2 \n",
    "\n",
    "pattern = r'^Hello'\n",
    "strings = [\"Hello, World!\", \"Hi there!\", \"Hello, OpenAI\"]\n",
    "\n",
    "for string in strings:\n",
    "    match = re.search(pattern, string)\n",
    "    if match:\n",
    "        print(string)"
   ]
  },
  {
   "cell_type": "markdown",
   "metadata": {},
   "source": [
    "<br>\n",
    "\n",
    "- ### re.findall(pattern, string, flags=0)\n",
    "- ### Returns all non-overlapping matches of the pattern in the string as a list of strings."
   ]
  },
  {
   "cell_type": "code",
   "execution_count": 15,
   "metadata": {},
   "outputs": [
    {
     "data": {
      "text/plain": [
       "['the']"
      ]
     },
     "execution_count": 15,
     "metadata": {},
     "output_type": "execute_result"
    }
   ],
   "source": [
    "sentence = \"The quick brown fox jumps over the lazy dog\"\n",
    "word = \"the\"\n",
    "\n",
    "matches = re.findall(word, sentence)\n",
    "matches"
   ]
  },
  {
   "cell_type": "code",
   "execution_count": 16,
   "metadata": {},
   "outputs": [
    {
     "data": {
      "text/plain": [
       "['The', 'the']"
      ]
     },
     "execution_count": 16,
     "metadata": {},
     "output_type": "execute_result"
    }
   ],
   "source": [
    "re.findall(word, sentence,re.IGNORECASE)\n",
    "\n",
    "# re.IGNORECASE"
   ]
  },
  {
   "cell_type": "code",
   "execution_count": 17,
   "metadata": {},
   "outputs": [
    {
     "name": "stdout",
     "output_type": "stream",
     "text": [
      "['01-05-2022', '15-06-2022', '30-07-2022']\n"
     ]
    }
   ],
   "source": [
    "# Example 2\n",
    "\n",
    "text = \"The event dates are 01-05-2022, 15-06-2022, and 30-07-2022.\"\n",
    "pattern = r\"\\d{2}-\\d{2}-\\d{4}\"\n",
    "\n",
    "dates = re.findall(pattern, text)\n",
    "print(dates)\n"
   ]
  },
  {
   "cell_type": "markdown",
   "metadata": {},
   "source": [
    "<br>\n",
    "\n",
    "- ### re.finditer(pattern, string, flags=0)\n",
    "\n",
    "- ### Returns an iterator yielding match objects for all non-overlapping matches of the pattern in the string.\n"
   ]
  },
  {
   "cell_type": "code",
   "execution_count": 60,
   "metadata": {},
   "outputs": [
    {
     "data": {
      "text/plain": [
       "<callable_iterator at 0x7f2cec6dd6f0>"
      ]
     },
     "execution_count": 60,
     "metadata": {},
     "output_type": "execute_result"
    }
   ],
   "source": [
    "text = \"Contact us at info@example.com or support@example.com for any inquiries.\"\n",
    "pattern = r\"\\b[A-Za-z0-9._%+-]+@[A-Za-z0-9.-]+\\.[A-Za-z]{2,}\\b\"\n",
    "\n",
    "matches = re.finditer(pattern, text)\n",
    "\n",
    "matches"
   ]
  },
  {
   "cell_type": "code",
   "execution_count": 61,
   "metadata": {},
   "outputs": [
    {
     "name": "stdout",
     "output_type": "stream",
     "text": [
      "<re.Match object; span=(14, 30), match='info@example.com'>\n",
      "<re.Match object; span=(34, 53), match='support@example.com'>\n"
     ]
    }
   ],
   "source": [
    "# use loop\n",
    "for match in matches:\n",
    "    print(match)"
   ]
  },
  {
   "cell_type": "code",
   "execution_count": 67,
   "metadata": {},
   "outputs": [],
   "source": [
    "# get group\n",
    "for match in matches:\n",
    "    print(match.group())\n",
    "\n",
    "# code not execute because  matches is the generator"
   ]
  },
  {
   "cell_type": "code",
   "execution_count": 68,
   "metadata": {},
   "outputs": [
    {
     "name": "stdout",
     "output_type": "stream",
     "text": [
      "info@example.com\n",
      "support@example.com\n"
     ]
    }
   ],
   "source": [
    "# run again\n",
    "matches = re.finditer(pattern, text)\n",
    "for match in matches:\n",
    "    print(match.group())\n",
    "\n"
   ]
  },
  {
   "cell_type": "markdown",
   "metadata": {},
   "source": [
    "<br>\n",
    "\n",
    "- ### re.split(pattern, string, maxsplit=0, flags=0)\n",
    "- ### Splits the string by the occurrences of the pattern and returns a list of substrings."
   ]
  },
  {
   "cell_type": "code",
   "execution_count": 72,
   "metadata": {},
   "outputs": [
    {
     "data": {
      "text/plain": [
       "['', '123', 'abc', '456', 'def', '789', '']"
      ]
     },
     "execution_count": 72,
     "metadata": {},
     "output_type": "execute_result"
    }
   ],
   "source": [
    "text = \"123abc456def789\"\n",
    "parts = re.split(r\"(\\d+)\", text)\n",
    "parts\n"
   ]
  },
  {
   "cell_type": "code",
   "execution_count": 77,
   "metadata": {},
   "outputs": [
    {
     "data": {
      "text/plain": [
       "['', '123', 'abc456def789']"
      ]
     },
     "execution_count": 77,
     "metadata": {},
     "output_type": "execute_result"
    }
   ],
   "source": [
    "# maxsplit parameter\n",
    "re.split(r\"(\\d+)\", text,maxsplit=1) "
   ]
  },
  {
   "cell_type": "markdown",
   "metadata": {},
   "source": [
    "<br>\n",
    "\n",
    "- ### re.sub(pattern, repl, string, count=0, flags=0)\n",
    "- ### Replaces all occurrences of the pattern in the string with the replacement string"
   ]
  },
  {
   "cell_type": "code",
   "execution_count": 78,
   "metadata": {},
   "outputs": [
    {
     "data": {
      "text/plain": [
       "'The quick brown cat jumps over the lazy dog.'"
      ]
     },
     "execution_count": 78,
     "metadata": {},
     "output_type": "execute_result"
    }
   ],
   "source": [
    "text = \"The quick brown fox jumps over the lazy dog.\"\n",
    "\n",
    "re.sub(r\"fox\", \"cat\", text)\n",
    "\n",
    "# replace fox to cat"
   ]
  },
  {
   "cell_type": "code",
   "execution_count": 80,
   "metadata": {},
   "outputs": [
    {
     "data": {
      "text/plain": [
       "'HelloWorld'"
      ]
     },
     "execution_count": 80,
     "metadata": {},
     "output_type": "execute_result"
    }
   ],
   "source": [
    "# Example 2\n",
    "\n",
    "text = \"Hello123World456\"\n",
    "re.sub(r\"\\d\", \"\", text)\n",
    "\n",
    "# replace \\d digits with  \"\"\n"
   ]
  },
  {
   "cell_type": "code",
   "execution_count": 82,
   "metadata": {},
   "outputs": [
    {
     "data": {
      "text/plain": [
       "'I have an orange and a grape.'"
      ]
     },
     "execution_count": 82,
     "metadata": {},
     "output_type": "execute_result"
    }
   ],
   "source": [
    "# Replace multiple patterns in a string using a dictionary:\n",
    "\n",
    "text = \"I have an apple and a banana.\"\n",
    "patterns = {\"apple\": \"orange\", \"banana\": \"grape\"}\n",
    "\n",
    "\n",
    "print(\"\\b(\" + \"|\".join(patterns.keys()) + r\")\\b\")"
   ]
  },
  {
   "cell_type": "code",
   "execution_count": 84,
   "metadata": {},
   "outputs": [
    {
     "data": {
      "text/plain": [
       "'I have an orange and a grape.'"
      ]
     },
     "execution_count": 84,
     "metadata": {},
     "output_type": "execute_result"
    }
   ],
   "source": [
    "re.sub(r\"\\b(\" + \"|\".join(patterns.keys()) + r\")\\b\", lambda match: patterns[match.group(0)], text)"
   ]
  },
  {
   "cell_type": "markdown",
   "metadata": {},
   "source": [
    "<br>\n",
    "\n",
    "- ### re.subn(pattern, repl, string, count=0, flags=0)\n",
    "- ### Similar to re.sub(), but returns a tuple containing the modified string and the number of substitutions made"
   ]
  },
  {
   "cell_type": "code",
   "execution_count": 86,
   "metadata": {},
   "outputs": [],
   "source": [
    "text = \"Hello123World456\"\n",
    "new_text, count = re.subn(r\"\\d\", \"\", text)"
   ]
  },
  {
   "cell_type": "code",
   "execution_count": 87,
   "metadata": {},
   "outputs": [
    {
     "data": {
      "text/plain": [
       "6"
      ]
     },
     "execution_count": 87,
     "metadata": {},
     "output_type": "execute_result"
    }
   ],
   "source": [
    "count"
   ]
  },
  {
   "cell_type": "code",
   "execution_count": 88,
   "metadata": {},
   "outputs": [
    {
     "data": {
      "text/plain": [
       "'HelloWorld'"
      ]
     },
     "execution_count": 88,
     "metadata": {},
     "output_type": "execute_result"
    }
   ],
   "source": [
    "new_text"
   ]
  },
  {
   "cell_type": "code",
   "execution_count": 89,
   "metadata": {},
   "outputs": [],
   "source": [
    "# Replace multiple patterns in a string using a dictionary and count the number of replacements\n",
    "\n",
    "text = \"I have an apple and a banana.\"\n",
    "patterns = {\"apple\": \"orange\", \"banana\": \"grape\"}\n",
    "\n",
    "new_text, count = re.subn(r\"\\b(\" + \"|\".join(patterns.keys()) + r\")\\b\", lambda match: patterns[match.group(0)], text)"
   ]
  },
  {
   "cell_type": "code",
   "execution_count": 90,
   "metadata": {},
   "outputs": [
    {
     "data": {
      "text/plain": [
       "2"
      ]
     },
     "execution_count": 90,
     "metadata": {},
     "output_type": "execute_result"
    }
   ],
   "source": [
    "count"
   ]
  },
  {
   "cell_type": "code",
   "execution_count": 91,
   "metadata": {},
   "outputs": [
    {
     "data": {
      "text/plain": [
       "'I have an orange and a grape.'"
      ]
     },
     "execution_count": 91,
     "metadata": {},
     "output_type": "execute_result"
    }
   ],
   "source": [
    "new_text"
   ]
  },
  {
   "cell_type": "markdown",
   "metadata": {},
   "source": [
    "<br>\n",
    "\n",
    "- ### The re.compile() function in Python is used to compile a regular expression pattern into a pattern object. \n",
    "\n",
    "- ### There are several reasons why you might want to use re.compile()\n",
    "<br>\n",
    "\n",
    "- ### Performance: Compiling a regular expression pattern with re.compile() improves performance by reusing the compiled pattern object for multiple matching operations.\n",
    "<br>\n",
    "\n",
    "- ### Code readability: Assigning the compiled pattern object to a variable with a meaningful name enhances code readability and maintainability.\n",
    "<br>\n",
    "\n",
    "- ### Dynamic pattern modification: re.compile() allows you to store the pattern object in a variable and modify it dynamically based on conditions or inputs.\n",
    "<br>\n",
    "\n",
    "- ### Error handling: re.compile() raises a re.error exception immediately if there is a syntax error in the pattern, enabling explicit error handling and easier debugging.\n",
    "<br>\n",
    "\n",
    "- ## re.compile() provides flexibility, improves performance, enhances code organization, and allows for dynamic pattern modification and explicit error handling"
   ]
  },
  {
   "cell_type": "code",
   "execution_count": 92,
   "metadata": {},
   "outputs": [
    {
     "data": {
      "text/plain": [
       "<re.Match object; span=(0, 5), match='hello'>"
      ]
     },
     "execution_count": 92,
     "metadata": {},
     "output_type": "execute_result"
    }
   ],
   "source": [
    "pattern = re.compile(r'hello')\n",
    "text = 'hello world'\n",
    "\n",
    "match = pattern.search(text)\n",
    "match"
   ]
  },
  {
   "cell_type": "code",
   "execution_count": 93,
   "metadata": {},
   "outputs": [
    {
     "name": "stdout",
     "output_type": "stream",
     "text": [
      "Pattern found\n"
     ]
    }
   ],
   "source": [
    "if match:\n",
    "    print('Pattern found')\n",
    "else:\n",
    "    print('Pattern not found')"
   ]
  },
  {
   "cell_type": "code",
   "execution_count": 96,
   "metadata": {},
   "outputs": [
    {
     "data": {
      "text/plain": [
       "<re.Match object; span=(2, 4), match='is'>"
      ]
     },
     "execution_count": 96,
     "metadata": {},
     "output_type": "execute_result"
    }
   ],
   "source": [
    "# Example 2: Case-insensitive matching\n",
    "\n",
    "# user input is\n",
    "pattern_str = input('Enter a pattern: ')\n",
    "pattern = re.compile(pattern_str)\n",
    "\n",
    "text = 'This is some text'\n",
    "\n",
    "pattern.search(text)"
   ]
  },
  {
   "cell_type": "code",
   "execution_count": 97,
   "metadata": {},
   "outputs": [
    {
     "data": {
      "text/plain": [
       "['is', 'is']"
      ]
     },
     "execution_count": 97,
     "metadata": {},
     "output_type": "execute_result"
    }
   ],
   "source": [
    "# we use all functions with re.compiler\n",
    "\n",
    "pattern.findall(text)"
   ]
  },
  {
   "cell_type": "markdown",
   "metadata": {},
   "source": [
    "<br>\n",
    "\n",
    "- ### re.IGNORECASE or re.I\n",
    "<br>\n",
    "\n",
    "- ### This attribute enables case-insensitive matching. It allows matching regardless of whether letters are uppercase or lowercase."
   ]
  },
  {
   "cell_type": "code",
   "execution_count": 117,
   "metadata": {},
   "outputs": [
    {
     "data": {
      "text/plain": [
       "[]"
      ]
     },
     "execution_count": 117,
     "metadata": {},
     "output_type": "execute_result"
    }
   ],
   "source": [
    "pattern = re.compile(r'hello')  # without  re.I\n",
    "pattern.findall('Hello, World!')"
   ]
  },
  {
   "cell_type": "code",
   "execution_count": 118,
   "metadata": {},
   "outputs": [
    {
     "data": {
      "text/plain": [
       "['Hello']"
      ]
     },
     "execution_count": 118,
     "metadata": {},
     "output_type": "execute_result"
    }
   ],
   "source": [
    "pattern = re.compile(r'hello', re.I)  # Case-insensitive matching\n",
    "pattern.findall('Hello, World!')"
   ]
  },
  {
   "cell_type": "markdown",
   "metadata": {},
   "source": [
    "<br>\n",
    "\n",
    "- ### re.MULTILINE or re.M: \n",
    "\n",
    "<br>\n",
    "\n",
    "- ### This attribute enables multiline matching. \n",
    "- ### It changes the behavior of ^ and $ anchors to match the start and end of each line instead of the whole string."
   ]
  },
  {
   "cell_type": "code",
   "execution_count": 130,
   "metadata": {},
   "outputs": [],
   "source": [
    "text = '''Hello, World!\n",
    "Welcome to Python\n",
    "Regex is powerful Python\n",
    "'''"
   ]
  },
  {
   "cell_type": "code",
   "execution_count": 131,
   "metadata": {},
   "outputs": [
    {
     "data": {
      "text/plain": [
       "['Python']"
      ]
     },
     "execution_count": 131,
     "metadata": {},
     "output_type": "execute_result"
    }
   ],
   "source": [
    "pattern = re.compile(r'Python$') # without Multiline\n",
    "pattern.findall(text)"
   ]
  },
  {
   "cell_type": "code",
   "execution_count": 132,
   "metadata": {},
   "outputs": [
    {
     "data": {
      "text/plain": [
       "['Python', 'Python']"
      ]
     },
     "execution_count": 132,
     "metadata": {},
     "output_type": "execute_result"
    }
   ],
   "source": [
    "pattern = re.compile(r'Python$',re.MULTILINE)\n",
    "pattern.findall(text)"
   ]
  },
  {
   "cell_type": "markdown",
   "metadata": {},
   "source": [
    "<br>\n",
    "\n",
    "- ### re.DOTALL or re.S\n",
    "\n",
    "<br>\n",
    "\n",
    "- ### This attribute enables dot-all matching. \n",
    "- ### It allows the dot (.) metacharacter to match any character, including newlines."
   ]
  },
  {
   "cell_type": "code",
   "execution_count": 144,
   "metadata": {},
   "outputs": [
    {
     "data": {
      "text/plain": [
       "[]"
      ]
     },
     "execution_count": 144,
     "metadata": {},
     "output_type": "execute_result"
    }
   ],
   "source": [
    "text = '''Hello,\n",
    "World!\n",
    "Welcome to\n",
    "Python\n",
    "Regex is powerful\n",
    "'''\n",
    "\n",
    "pattern = re.compile(r'Hello.*Regex')\n",
    "pattern.findall(text)\n"
   ]
  },
  {
   "cell_type": "code",
   "execution_count": 149,
   "metadata": {},
   "outputs": [
    {
     "data": {
      "text/plain": [
       "['Hello,\\nWorld!\\nWelcome to\\nPython\\nRegex']"
      ]
     },
     "execution_count": 149,
     "metadata": {},
     "output_type": "execute_result"
    }
   ],
   "source": [
    "pattern = re.compile(r'Hello.*Regex', re.DOTALL)\n",
    "pattern.findall(text)\n"
   ]
  },
  {
   "cell_type": "markdown",
   "metadata": {},
   "source": [
    "### .group\n",
    "\n",
    "<br>\n",
    "\n",
    "- ### The group() method is available in Python's regular expressions module (re) and is used to retrieve the matched substring or captured groups within the pattern. \n",
    "- ### The group() method is a method of the Match object returned by various re functions, such as  : \n",
    "    - ### search()\n",
    "    - ### findall()\n",
    "    - ### finditer()."
   ]
  },
  {
   "cell_type": "code",
   "execution_count": 151,
   "metadata": {},
   "outputs": [
    {
     "data": {
      "text/plain": [
       "<re.Match object; span=(0, 5), match='Hello'>"
      ]
     },
     "execution_count": 151,
     "metadata": {},
     "output_type": "execute_result"
    }
   ],
   "source": [
    "text = \"Hello, World! Welcome to Python\"\n",
    "pattern = re.compile(r\"\\b\\w+\\b\")  # Match individual words\n",
    "\n",
    "match = pattern.search(text)\n",
    "match"
   ]
  },
  {
   "cell_type": "code",
   "execution_count": 155,
   "metadata": {},
   "outputs": [
    {
     "data": {
      "text/plain": [
       "'Hello'"
      ]
     },
     "execution_count": 155,
     "metadata": {},
     "output_type": "execute_result"
    }
   ],
   "source": [
    "match.group(0)"
   ]
  },
  {
   "cell_type": "code",
   "execution_count": 156,
   "metadata": {},
   "outputs": [
    {
     "data": {
      "text/plain": [
       "<re.Match object; span=(0, 22), match='John Doe, 30 years old'>"
      ]
     },
     "execution_count": 156,
     "metadata": {},
     "output_type": "execute_result"
    }
   ],
   "source": [
    "# example 2\n",
    "\n",
    "text = \"John Doe, 30 years old\"\n",
    "pattern = re.compile(r\"(\\w+) (\\w+), (\\d+) years old\")  # Match name and age\n",
    "match = pattern.search(text)\n",
    "\n",
    "match"
   ]
  },
  {
   "cell_type": "code",
   "execution_count": 157,
   "metadata": {},
   "outputs": [
    {
     "data": {
      "text/plain": [
       "'John Doe, 30 years old'"
      ]
     },
     "execution_count": 157,
     "metadata": {},
     "output_type": "execute_result"
    }
   ],
   "source": [
    "match.group(0)"
   ]
  },
  {
   "cell_type": "code",
   "execution_count": 158,
   "metadata": {},
   "outputs": [
    {
     "data": {
      "text/plain": [
       "'John'"
      ]
     },
     "execution_count": 158,
     "metadata": {},
     "output_type": "execute_result"
    }
   ],
   "source": [
    "match.group(1)"
   ]
  },
  {
   "cell_type": "code",
   "execution_count": 159,
   "metadata": {},
   "outputs": [
    {
     "data": {
      "text/plain": [
       "'30'"
      ]
     },
     "execution_count": 159,
     "metadata": {},
     "output_type": "execute_result"
    }
   ],
   "source": [
    "match.group(3)"
   ]
  },
  {
   "cell_type": "markdown",
   "metadata": {},
   "source": [
    "## .span\n",
    "\n",
    "<br>\n",
    "\n",
    "- ### The span() method is available in Python's regular expressions module (re) and is used to retrieve the starting and ending indices of the matched substring within the input string. \n",
    "- ### The span() method is a method of the Match object returned by various re functions, such as :\n",
    "    - ### search()\n",
    "    - ### findall()\n",
    "    - ### finditer()"
   ]
  },
  {
   "cell_type": "code",
   "execution_count": 169,
   "metadata": {},
   "outputs": [
    {
     "data": {
      "text/plain": [
       "<re.Match object; span=(0, 5), match='Hello'>"
      ]
     },
     "execution_count": 169,
     "metadata": {},
     "output_type": "execute_result"
    }
   ],
   "source": [
    "text = \"Hello, World! Welcome to Python\"\n",
    "pattern = re.compile(r\"\\b\\w+\\b\")  # Match individual words\n",
    "match = pattern.search(text)\n",
    "match"
   ]
  },
  {
   "cell_type": "code",
   "execution_count": 165,
   "metadata": {},
   "outputs": [
    {
     "data": {
      "text/plain": [
       "(0, 5)"
      ]
     },
     "execution_count": 165,
     "metadata": {},
     "output_type": "execute_result"
    }
   ],
   "source": [
    "match.span()"
   ]
  },
  {
   "cell_type": "code",
   "execution_count": 168,
   "metadata": {},
   "outputs": [
    {
     "data": {
      "text/plain": [
       "'Hello'"
      ]
     },
     "execution_count": 168,
     "metadata": {},
     "output_type": "execute_result"
    }
   ],
   "source": [
    "text[match.span()[0]:match.span()[-1]]"
   ]
  }
 ],
 "metadata": {
  "kernelspec": {
   "display_name": "Python 3 (ipykernel)",
   "language": "python",
   "name": "python3"
  },
  "language_info": {
   "codemirror_mode": {
    "name": "ipython",
    "version": 3
   },
   "file_extension": ".py",
   "mimetype": "text/x-python",
   "name": "python",
   "nbconvert_exporter": "python",
   "pygments_lexer": "ipython3",
   "version": "3.10.12"
  }
 },
 "nbformat": 4,
 "nbformat_minor": 4
}

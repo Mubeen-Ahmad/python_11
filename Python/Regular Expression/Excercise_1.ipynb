{
 "cells": [
  {
   "cell_type": "markdown",
   "id": "22016d1f-7fda-49d1-93b4-0fda9cc12618",
   "metadata": {},
   "source": [
    "## + Once or More\n",
    "- ## ab+ (pattern )\n",
    "  - ## aa ab abc ac bb abbbc (string)\n",
    "  - ## ab ab abbb (output)"
   ]
  },
  {
   "cell_type": "code",
   "execution_count": 1,
   "id": "b062d5f8-892e-4e3c-b556-75c387180fae",
   "metadata": {},
   "outputs": [],
   "source": [
    "import regex as re"
   ]
  },
  {
   "cell_type": "code",
   "execution_count": 2,
   "id": "83f1acc6-8ddc-46b2-b3d8-57a3aa5808a7",
   "metadata": {},
   "outputs": [],
   "source": [
    "html = \"\"\"<div class=\"country-info\">\n",
    "                                        # remove s in class\n",
    "        <strong>Capital:</strong> <span clas=\"country-capital\">Mamoudzou</span><br>\n",
    "        <strong>Population:</strong> <span class=\"country-population\">159042</span><br>\n",
    "        <strong>Area (km<sup>2</sup>):</strong> <span class=\"country-area\">374.0</span><br>\n",
    "        \n",
    "</div>\"\"\""
   ]
  },
  {
   "cell_type": "code",
   "execution_count": 3,
   "id": "61971dea-cbc8-40d9-8928-4327b13e8d72",
   "metadata": {},
   "outputs": [
    {
     "name": "stdout",
     "output_type": "stream",
     "text": [
      "<div class=\"country-info\">\n",
      "                                        # remove s in class\n",
      "        <strong>Capital:</strong> <span clas=\"country-capital\">Mamoudzou</span><br>\n",
      "        <strong>Population:</strong> <span class=\"country-population\">159042</span><br>\n",
      "        <strong>Area (km<sup>2</sup>):</strong> <span class=\"country-area\">374.0</span><br>\n",
      "        \n",
      "</div>\n"
     ]
    }
   ],
   "source": [
    "print(html)"
   ]
  },
  {
   "cell_type": "markdown",
   "id": "98f4c513-4ecf-4c37-8fc6-89e16c70e293",
   "metadata": {},
   "source": [
    "#### see pattern ab+ "
   ]
  },
  {
   "cell_type": "code",
   "execution_count": 4,
   "id": "72ba20df-6142-445c-9aab-ac26fc862694",
   "metadata": {},
   "outputs": [
    {
     "data": {
      "text/plain": [
       "['clas', 'clas', 'clas', 'clas', 'clas']"
      ]
     },
     "execution_count": 4,
     "metadata": {},
     "output_type": "execute_result"
    }
   ],
   "source": [
    "#### extract clas means (extract only a)\n",
    "\n",
    "pattern = re.compile('clas')\n",
    "pattern.findall(html)\n",
    "\n",
    "# yahan sirf \"clas\" nikala ja raha hai.\n",
    "# Iska matlab hai ke sirf \"ab\" pattern ko follow kiya ja raha hai\n",
    "\n",
    "# here only \"clas\" is being extracted. This means that only the \"ab\" pattern is being followed.\""
   ]
  },
  {
   "cell_type": "code",
   "execution_count": 5,
   "id": "aad1ec81-c878-4543-969b-cd06e4f875fe",
   "metadata": {},
   "outputs": [
    {
     "data": {
      "text/plain": [
       "['class', 'class', 'clas', 'class', 'class']"
      ]
     },
     "execution_count": 5,
     "metadata": {},
     "output_type": "execute_result"
    }
   ],
   "source": [
    "# now use + and complete pattern (ab+)\n",
    "pattern = re.compile('clas+')\n",
    "pattern.findall(html)\n",
    "\n",
    "# + istemal karne ka matlab yeh hai ke \"clas\" (ab) to hona chahiye, \n",
    "# lekin \"clas\" ke saath (+) ka matlab hai ke s multiple (b+) bhi hone chahiye. \n",
    "# Isliye pattern ab+ ban gaya hai, is wajah se \"clas\" aur \"class\" dono extract ho rahe hain.\"\n",
    "\n",
    "# The use of + means that there should be \"clas\" (ab), \n",
    "# but with (+) after \"clas,\" it signifies that there should be multiple (b+) as well. \n",
    "# That's why the pattern becomes ab+, which is why both \"clas\" and \"class\" are being extracted.\""
   ]
  },
  {
   "cell_type": "markdown",
   "id": "03558862-d7a4-4d6f-a5d9-c1ee46bbb1cb",
   "metadata": {},
   "source": [
    "## * Zero or More\n",
    "- ## ab* (pattern)\n",
    "    - ## aa ab abc ac bb abbbc (string)\n",
    "\t- ## a a ab ab a abbb  (output)"
   ]
  },
  {
   "cell_type": "code",
   "execution_count": 6,
   "id": "a1ee187d-9c4a-4122-a64e-61fad7d14396",
   "metadata": {},
   "outputs": [],
   "source": [
    "html = \"\"\"<div class=\"country-info\">\n",
    "                                        # edit class \n",
    "        <strong>Capital:</strong> <span cl=\"country-capital\">Mamoudzou</span><br>\n",
    "                                        # edit aaaa\n",
    "        <strong>Population:</strong> <span claaaaa=\"country-population\">159042</span><br>\n",
    "        <strong>Area (km<sup>2</sup>):</strong> <span class=\"country-area\">374.0</span><br>\n",
    "        \n",
    "</div>\"\"\""
   ]
  },
  {
   "cell_type": "code",
   "execution_count": 7,
   "id": "49cf56f3-c04b-406c-9269-61273a618a8a",
   "metadata": {},
   "outputs": [
    {
     "data": {
      "text/plain": [
       "['cla', 'cla', 'cl', 'claaaaa', 'cla']"
      ]
     },
     "execution_count": 7,
     "metadata": {},
     "output_type": "execute_result"
    }
   ],
   "source": [
    "# ab+ mein 'a' ke sath 'b' hona lazmi hai, \n",
    "# lekin ab* mein akele 'b' hone par bhi 'a' extract hoga.\n",
    "\n",
    "# \"In 'ab+', it's necessary for 'a' to be accompanied by 'b', \n",
    "# but in 'ab*', even if there's only 'b', 'a' will still be extracted.\n",
    "\n",
    "pattern = re.compile('cla*')\n",
    "pattern.findall(html)\n",
    "\n",
    "# Pattern cla* mein 'cl' (a) aur 'a*' (b) ke sath follow ho raha hai. \n",
    "# To iska matlab hai ke cla* pattern ka yeh matlab hai ke \n",
    "# 'cl' akele bhi ho sakta hai to bhi match hoga aur 'cl' ke sath aane wale multiple 'a' (aaaaaa) ko bhi match karega.\"\n",
    "\n",
    "\n",
    "# The pattern 'cla*' in this case is following 'cl' (a) and 'a*' (b). \n",
    "# So, the 'cla*' pattern means that even if 'cl' is alone, it will still match, \n",
    "# and it will also match 'cl' with multiple 'a's (aaaaaa).\""
   ]
  },
  {
   "cell_type": "code",
   "execution_count": 8,
   "id": "0f4d1dd5-3fe2-434d-806a-bfd0d26394cc",
   "metadata": {},
   "outputs": [
    {
     "data": {
      "text/plain": [
       "['cla', 'cla', 'cl', 'claaaaa', 'cla']"
      ]
     },
     "execution_count": 8,
     "metadata": {},
     "output_type": "execute_result"
    }
   ],
   "source": [
    "# Magar agar aap yahan + ka istemal karen to 'cl' ke sath lazmi 'a' hona chahiye \n",
    "# ya phir multiple 'aaaaa' hone chahiye. \n",
    "\n",
    "# But if you use + here, then with 'cl', there should be 'a' or multiple 'aaaaa'\n",
    "\n",
    "pattern.findall(html)\n",
    "\n",
    "# However, 'cl' is not matching.\""
   ]
  },
  {
   "cell_type": "markdown",
   "id": "cd9fefdb-2be0-4647-a376-8a37c9f51714",
   "metadata": {},
   "source": [
    "# ? Once or None\n",
    "- ## ab? (pattern)\n",
    "    - ## aa ab abc ac bb abbbc (string)\n",
    "\t- ## a a ab ab a ab (output)"
   ]
  },
  {
   "cell_type": "code",
   "execution_count": 9,
   "id": "edb4af90-f3fe-4aad-994f-f2069e6baa96",
   "metadata": {},
   "outputs": [
    {
     "data": {
      "text/plain": [
       "['cla', 'cla', 'cl', 'cla', 'cla']"
      ]
     },
     "execution_count": 9,
     "metadata": {},
     "output_type": "execute_result"
    }
   ],
   "source": [
    "# ab+ mein 'a' ke sath ya to single 'b' ho ya phir multiple 'b' honi chahiye. \n",
    "# ab* mein 'a' ke sath single 'a' ko bhi support karega aur uske sath multiple 'b' ko bhi support karega. \n",
    "# lekin ab? mein 'a' ke sath sirf single 'b' ko hi extract karega.\"\n",
    "\n",
    "# \"In 'ab+', there should be 'a' with either a single 'b' or multiple 'b's. \n",
    "# In 'ab*', it will support 'a' with not only a single 'a' but also with multiple 'b's.\n",
    "# In 'ab?', it will only extract 'a' with a single 'b' alongside it.\"\n",
    "\n",
    "pattern = re.compile('cla?')\n",
    "pattern.findall(html)\n",
    "\n",
    "# \"Yahan 'cla?' ka istemal ka matlab hai ke 'cl' akele bhi ho sakta hai aur 'cl' ke sath sirf single 'a' hona chahiye.\"\n",
    "\n",
    "# \"Here, the use of 'cla?' means that 'cl' can be alone, and with 'cl,' there should only be a single 'a'.\""
   ]
  },
  {
   "cell_type": "markdown",
   "id": "b2fc816d-6017-48f0-bf36-b2781234f747",
   "metadata": {},
   "source": [
    "# . Any character except\n",
    "  - ## a.c (pattern)\n",
    "    - ## abc (string)\n",
    "    - ## abc (output)"
   ]
  },
  {
   "cell_type": "code",
   "execution_count": 10,
   "id": "5208bc76-c0e6-4f08-8933-33160d6334e3",
   "metadata": {},
   "outputs": [
    {
     "name": "stdout",
     "output_type": "stream",
     "text": [
      "<div class=\"country-info\">\n",
      "                                        # edit class \n",
      "        <strong>Capital:</strong> <span cl=\"country-capital\">Mamoudzou</span><br>\n",
      "                                        # edit aaaa\n",
      "        <strong>Population:</strong> <span claaaaa=\"country-population\">159042</span><br>\n",
      "        <strong>Area (km<sup>2</sup>):</strong> <span class=\"country-area\">374.0</span><br>\n",
      "        \n",
      "</div>\n"
     ]
    }
   ],
   "source": [
    "print(html)"
   ]
  },
  {
   "cell_type": "code",
   "execution_count": 11,
   "id": "231dde0e-1350-4694-a2b4-18e2ab8ef6a6",
   "metadata": {},
   "outputs": [
    {
     "data": {
      "text/plain": [
       "['cla', 'cla', 'cla', 'cla']"
      ]
     },
     "execution_count": 11,
     "metadata": {},
     "output_type": "execute_result"
    }
   ],
   "source": [
    "# \"a.c\" ka matlab hai ke 'a' ke baad kuch bhi ho sakta hai, \n",
    "# lekin uske baad 'c' hona chahiye, aur 'c' ke sath sirf aik dafa hi aana chahiye.\"\n",
    "\n",
    "# \"a.c\" means that after 'a,' anything can occur, \n",
    "# but after that, 'c' must be present, and 'c' should occur only once.\n",
    "\n",
    "pattern = re.compile('c.a')\n",
    "pattern.findall(html)\n",
    "\n",
    "# Yahan 'c' ke baad kuch bhi ho sakti hai, lekin uske baad 'a' hona chahiye aur sirf aik martaba hona chahiye.\n",
    "\n",
    "# Here, after 'c,' anything can occur, but after that, 'a' should be present, and it should occur only once."
   ]
  },
  {
   "cell_type": "markdown",
   "id": "abb5129b-de74-4bea-aa4b-6bd2ac752dd5",
   "metadata": {},
   "source": [
    "# multiples use of  +, *, ?, . in pattern"
   ]
  },
  {
   "cell_type": "code",
   "execution_count": 12,
   "id": "915e1429-e7a8-46ee-abc4-2001edf8ca86",
   "metadata": {},
   "outputs": [
    {
     "name": "stdout",
     "output_type": "stream",
     "text": [
      "<div class=\"country-info\">\n",
      "                                        # edit class \n",
      "        <strong>Capital:</strong> <span cl=\"country-capital\">Mamoudzou</span><br>\n",
      "                                        # edit aaaa\n",
      "        <strong>Population:</strong> <span claaaaa=\"country-population\">159042</span><br>\n",
      "        <strong>Area (km<sup>2</sup>):</strong> <span class=\"country-area\">374.0</span><br>\n",
      "        \n",
      "</div>\n"
     ]
    }
   ],
   "source": [
    "print(html)"
   ]
  },
  {
   "cell_type": "markdown",
   "id": "8b002f5d-3d0d-4d24-8db6-2d090defe3fe",
   "metadata": {},
   "source": [
    "### use with +"
   ]
  },
  {
   "cell_type": "code",
   "execution_count": 13,
   "id": "5a7a292c-2438-4058-b949-35d46a27728d",
   "metadata": {},
   "outputs": [
    {
     "data": {
      "text/plain": [
       "['class=', 'claaaaa=', 'class=']"
      ]
     },
     "execution_count": 13,
     "metadata": {},
     "output_type": "execute_result"
    }
   ],
   "source": [
    "# \"ab+ mein 'a' ke sath ya to single 'b' ho sakti hai ya phir kai 'b' ho sakte hain.\n",
    "#  ab* mein 'a' ke sath single 'a' ko bhi support karega aur uske sath kai 'b' ko bhi support karega.\n",
    "#  ab? mein 'a' ke sath sirf single 'b' ko hi extract karega.\"\n",
    "\n",
    "# \"In 'ab+', there can be either a single 'b' or multiple 'b's after 'a'.\n",
    "#  In 'ab*', it will support 'a' with not only a single 'b' but also with multiple 'b's.\n",
    "# In 'ab?', it will only extract 'a' with a single 'b' alongside it.\"\n",
    "\n",
    "pattern = re.compile('cl.+=')\n",
    "pattern.findall(html)\n",
    "\n",
    "# \"Yahan 'cl' ka matlab hai 'a', '.' ka matlab hai 'b', aur '+' ka istemal ho raha hai.\n",
    "\n",
    "# Iska matlab hai ke 'cl' ke sath ya to single ya multiple '.' hone chahiye \n",
    "# aur isi wajah se 'cl' ke baad multiple occurrences hain.\n",
    "# Aur akhiri mein '=' ka matlab hai ke occurrence ke end par '=' hona chahiye, yani ke end '=' tak ho.\"\n",
    "\n",
    "# \"Here, 'cl' means 'a', '.' means 'b', and '+' is being used.\n",
    "\n",
    "# This means that with 'cl,' there should be either a single or multiple '.',\n",
    "# and that's why there are multiple occurrences after 'cl.'\n",
    "# And finally, '=' at the end means that it should be present until the end of the occurrence, i.e., it should be 'end ='.\""
   ]
  },
  {
   "cell_type": "markdown",
   "id": "a564824c-b80f-4b73-a09c-8f76bec28c8f",
   "metadata": {},
   "source": [
    "## use with *"
   ]
  },
  {
   "cell_type": "code",
   "execution_count": 14,
   "id": "752e9163-e8da-4270-a442-e1fa4c088a8c",
   "metadata": {},
   "outputs": [
    {
     "data": {
      "text/plain": [
       "['class=', 'cl=', 'claaaaa=', 'class=']"
      ]
     },
     "execution_count": 14,
     "metadata": {},
     "output_type": "execute_result"
    }
   ],
   "source": [
    "# \"ab* mein 'a' ke sath akele 'a' ko bhi allow kiya jayega, \n",
    "# lekin uske sath multiple 'b' ko bhi allow kiya jayega.\"    \n",
    "\n",
    "# \"In 'ab*', it will allow 'a' either alone or with multiple 'b's.\"\n",
    "\n",
    "pattern = re.compile('cl.*=')\n",
    "pattern.findall(html)\n",
    "\n",
    "# \"Yahan 'cl' ka matlab hai 'a', '.' ka matlab hai 'b', aur '*' ka istemal ho raha hai.\n",
    "\n",
    "# Iska matlab hai ke 'cl' ke sath single 'b' ko bhi allow karega aur uske sath single ya multiple 'b' ko bhi allow karega.\n",
    "# Isi liye 'cl=' bhi dikh raha hai, jo (+) mein allowed nahi tha.\n",
    "# Aur akhiri mein '=' hona zaroori hai.\"\n",
    "\n",
    "# \"Here, 'cl' means 'a', '.' means 'b', and '*' is being used.\n",
    "# This means that with 'cl,' it will allow single 'b' and also allow single or multiple 'b's.\n",
    "# That's why 'cl=' is being shown, which wasn't allowed in (+).\n",
    "# And '=' at the end is necessary.\""
   ]
  },
  {
   "cell_type": "markdown",
   "id": "fbc73320-fc93-4e93-be56-3de006507d62",
   "metadata": {},
   "source": [
    "## use with ?"
   ]
  },
  {
   "cell_type": "code",
   "execution_count": 15,
   "id": "98f22ced-e78a-4bc9-8ca1-81d2df2c77f8",
   "metadata": {},
   "outputs": [
    {
     "data": {
      "text/plain": [
       "['cl=']"
      ]
     },
     "execution_count": 15,
     "metadata": {},
     "output_type": "execute_result"
    }
   ],
   "source": [
    "# \"ab? mein single 'a' ko allow karega, lekin 'a' ke sath sirf single 'b' ko hi extract karega.\"\n",
    "\n",
    "# \"In 'ab?', it will allow single 'a', but it will only extract 'a' when it's followed by a single 'b'.\"\n",
    "\n",
    "pattern = re.compile('cl.?=')\n",
    "pattern.findall(html)\n",
    "\n",
    "# \"Yahan 'cl' ka matlab hai 'a', '.' ka matlab hai 'b', aur '?' ka istemal ho raha hai.\n",
    "\n",
    "# Yahan 'a' ke sath sirf single '.' hona chahiye, aur isi ke sath '=' bhi hona chahiye.\n",
    "# Single '.' ki wajah se 'cl=' yani sirf aik martaba match ho rahi hai.\"\n",
    "\n",
    "# \"Here, 'cl' means 'a', '.' means 'b', and '?' is being used.\n",
    "\n",
    "# Here, there should be only a single '.' after 'a', and it should be followed by '=' as well.\n",
    "# Because of the single '.', 'cl=' is matching only once.\""
   ]
  },
  {
   "cell_type": "markdown",
   "id": "03fe8fb6-dba8-4391-843d-e853130343bf",
   "metadata": {},
   "source": [
    "## \\ Excape Sequence\t\n",
    " - ## \\\\. (pattern)\n",
    "  - ## \"google.com.pk\" (string)\n",
    "  - ## \". .\" (output)"
   ]
  },
  {
   "cell_type": "code",
   "execution_count": 16,
   "id": "c1c760e6-9f6e-4e32-a075-46de887d6b54",
   "metadata": {},
   "outputs": [
    {
     "name": "stdout",
     "output_type": "stream",
     "text": [
      "<div class=\"country-info\">\n",
      "                                        # edit class \n",
      "        <strong>Capital:</strong> <span cl=\"country-capital\">Mamoudzou</span><br>\n",
      "                                        # edit aaaa\n",
      "        <strong>Population:</strong> <span claaaaa=\"country-population\">159042</span><br>\n",
      "        <strong>Area (km<sup>2</sup>):</strong> <span class=\"country-area\">374.0</span><br>\n",
      "        \n",
      "</div>\n"
     ]
    }
   ],
   "source": [
    "print(html)"
   ]
  },
  {
   "cell_type": "code",
   "execution_count": 17,
   "id": "428dc52a-0a3d-4635-a053-08b0b6a9bcc6",
   "metadata": {},
   "outputs": [
    {
     "data": {
      "text/plain": [
       "['=\"country-info\"',\n",
       " '=\"country-capital\"',\n",
       " '=\"country-population\"',\n",
       " '=\"country-area\"']"
      ]
     },
     "execution_count": 17,
     "metadata": {},
     "output_type": "execute_result"
    }
   ],
   "source": [
    "# \"\\ Escape Sequence characters ko extract karne ke liye istemal hota hai. \n",
    "# For example, agar aap string mein \" extract karna chahte hain to aap uske liye \" ka istemal karenge.\"\n",
    "\n",
    "# \"\\ is used to extract Escape Sequence characters. \n",
    "# For example, if you want to extract \" in a string, you would use \" for that.\"\n",
    "\n",
    "pattern = re.compile(r'=.+\\\"')\n",
    "pattern.findall(html)\n",
    "\n",
    "# Yahan pattern = se start ho raha hai aur \" se khatam ho raha hai,\n",
    "# matlab sirf = se \" tak jo bhi match hoga woh extract ho jayega.\"\n",
    "\n",
    "# \"The pattern here starts with = and ends with \", \n",
    "# which means whatever matches from = to \" will be extracted.\""
   ]
  },
  {
   "cell_type": "markdown",
   "id": "bea6eac9-5628-449e-afa6-1bf50c032600",
   "metadata": {},
   "source": [
    "# \\b Start With (Characters/Word)\n",
    "  - ## '\\bh' (pattern)\n",
    "   - ## \"hello hlloe hollo\" (string)\n",
    "   - ## \"h h h\" (output)"
   ]
  },
  {
   "cell_type": "code",
   "execution_count": 18,
   "id": "f79957cd-155e-4ef0-8a82-2e4d3d0a56a1",
   "metadata": {},
   "outputs": [
    {
     "name": "stdout",
     "output_type": "stream",
     "text": [
      "<div class=\"country-info\">\n",
      "                                        # edit class \n",
      "        <strong>Capital:</strong> <span cl=\"country-capital\">Mamoudzou</span><br>\n",
      "                                        # edit aaaa\n",
      "        <strong>Population:</strong> <span claaaaa=\"country-population\">159042</span><br>\n",
      "        <strong>Area (km<sup>2</sup>):</strong> <span class=\"country-area\">374.0</span><br>\n",
      "        \n",
      "</div>\n"
     ]
    }
   ],
   "source": [
    "print(html)"
   ]
  },
  {
   "cell_type": "code",
   "execution_count": 19,
   "id": "dabe2934-47ec-4cbf-b0b6-1b908c5fd481",
   "metadata": {},
   "outputs": [
    {
     "data": {
      "text/plain": [
       "['-info\"', '-capital\"', '-population\"', '-area\"']"
      ]
     },
     "execution_count": 19,
     "metadata": {},
     "output_type": "execute_result"
    }
   ],
   "source": [
    "# \"\\b word ya character starting mein hua hai ya nahi check karta hai.\n",
    "# Sirf word ya character ke hisab se match karega.\"\n",
    "\n",
    "# \"\\b checks whether a word or character is at the beginning or not. \n",
    "# It will only match based on words or characters.\"\n",
    "\n",
    "pattern = re.compile(r'-.*\\\"')\n",
    "pattern.findall(html)\n",
    "\n",
    "# \"Yahan - se shuru ho raha hai aur iske sath multiple occurrences hain, aur akhiri mein \" hai.\n",
    "# Ab humein sirf woh pattern match karna hai jo - se shuru hota hai, yani 'population' extract karna hai. \n",
    "# Is ke liye \\b ka istemal kiya ja sakta hai.\"\n",
    "\n",
    "# \"It starts with - here and has multiple occurrences along with \" at the end. \n",
    "# Now, we want to match only the pattern that starts with -, which means extracting 'population.' \n",
    "# For this, \\b can be used.\""
   ]
  },
  {
   "cell_type": "code",
   "execution_count": 20,
   "id": "25c37993-1f1f-4f67-8339-3b105ce8e2b8",
   "metadata": {},
   "outputs": [
    {
     "data": {
      "text/plain": [
       "['-population\"']"
      ]
     },
     "execution_count": 20,
     "metadata": {},
     "output_type": "execute_result"
    }
   ],
   "source": [
    "pattern = re.compile(r'-.*\\bp.*\\\"')\n",
    "pattern.findall(html)\n",
    "\n",
    "# \"Yahan \\bp.* ka matlab hai ke 'p' word ya character ke shuru se shuru hota hai.\"\n",
    "# \"\\bp.* means that 'p' starts at the beginning of a word or character.\""
   ]
  },
  {
   "cell_type": "markdown",
   "id": "de3d96a2-b24e-4465-beac-177b33fedcc0",
   "metadata": {},
   "source": [
    "# \\b End With (Characters/Word)\n",
    "\t\n",
    "- ## 'o\\b' (pattern)\n",
    "\t\n",
    " - ## \"hello hlloe hollo\" (string)\n",
    " - ## \"o o\" (output)"
   ]
  },
  {
   "cell_type": "code",
   "execution_count": 21,
   "id": "a5e19ffe-3cba-490b-bda2-9f93bdc70392",
   "metadata": {},
   "outputs": [
    {
     "name": "stdout",
     "output_type": "stream",
     "text": [
      "<div class=\"country-info\">\n",
      "                                        # edit class \n",
      "        <strong>Capital:</strong> <span cl=\"country-capital\">Mamoudzou</span><br>\n",
      "                                        # edit aaaa\n",
      "        <strong>Population:</strong> <span claaaaa=\"country-population\">159042</span><br>\n",
      "        <strong>Area (km<sup>2</sup>):</strong> <span class=\"country-area\">374.0</span><br>\n",
      "        \n",
      "</div>\n"
     ]
    }
   ],
   "source": [
    "print(html)"
   ]
  },
  {
   "cell_type": "code",
   "execution_count": 22,
   "id": "10647756-7140-4af7-ab78-609823f35943",
   "metadata": {},
   "outputs": [
    {
     "data": {
      "text/plain": [
       "['-info\"', '-capital\"', '-population\"', '-area\"']"
      ]
     },
     "execution_count": 22,
     "metadata": {},
     "output_type": "execute_result"
    }
   ],
   "source": [
    "# \\b ka use end character ya word match kye bhi use kia jata hn\n",
    "pattern = re.compile(r'-.*\\\"')\n",
    "pattern.findall(html)"
   ]
  },
  {
   "cell_type": "code",
   "execution_count": 23,
   "id": "b89477af-53bc-4da8-8914-4f507e6f61a0",
   "metadata": {},
   "outputs": [
    {
     "data": {
      "text/plain": [
       "['-capital\"']"
      ]
     },
     "execution_count": 23,
     "metadata": {},
     "output_type": "execute_result"
    }
   ],
   "source": [
    "# \"\\b ka istemal character ya word ke akhiri hissay ko match karne mein bhi hota hai.\"\n",
    "\n",
    "# \"\\b is used to match the end of a character or word as well.\"\n",
    "\n",
    "pattern = re.compile(r'-.*l\\b\\\"')\n",
    "pattern.findall(html)"
   ]
  },
  {
   "cell_type": "markdown",
   "id": "d3beaa69-4a1c-468f-8249-84c8f0f2894d",
   "metadata": {},
   "source": [
    "# \\B MID or End With (Characters/Word)\n",
    "\t\n",
    "- ## '\\Bis' (pattern)\n",
    "  - ## \"xisx xis isx\" (string)\n",
    "  - ## \"is is\" (output)"
   ]
  },
  {
   "cell_type": "code",
   "execution_count": 24,
   "id": "63406e5e-b617-409c-8a4b-4693f2a493a6",
   "metadata": {},
   "outputs": [
    {
     "name": "stdout",
     "output_type": "stream",
     "text": [
      "<div class=\"country-info\">\n",
      "                                        # edit class \n",
      "        <strong>Capital:</strong> <span cl=\"country-capital\">Mamoudzou</span><br>\n",
      "                                        # edit aaaa\n",
      "        <strong>Population:</strong> <span claaaaa=\"country-population\">159042</span><br>\n",
      "        <strong>Area (km<sup>2</sup>):</strong> <span class=\"country-area\">374.0</span><br>\n",
      "        \n",
      "</div>\n"
     ]
    }
   ],
   "source": [
    "print(html)"
   ]
  },
  {
   "cell_type": "code",
   "execution_count": 25,
   "id": "e492ed29-72e4-4825-a2c8-9cba18cec225",
   "metadata": {},
   "outputs": [
    {
     "data": {
      "text/plain": [
       "['-info\"', '-capital\"', '-population\"', '-area\"']"
      ]
     },
     "execution_count": 25,
     "metadata": {},
     "output_type": "execute_result"
    }
   ],
   "source": [
    "# \"\\B ka istemal character ya word ke beech mein ya akhiri hissay ke liye kiya jata hai.\"\n",
    "\n",
    "pattern = re.compile(r'-.*\\\"')\n",
    "pattern.findall(html)\n",
    "\n",
    "# \"\\B is used for matching within or at the end of a character or word.\""
   ]
  },
  {
   "cell_type": "code",
   "execution_count": 26,
   "id": "f0cdb5ed-a5d5-4fff-b5dd-756d122bdf64",
   "metadata": {},
   "outputs": [
    {
     "data": {
      "text/plain": [
       "['-capital\"', '-population\"']"
      ]
     },
     "execution_count": 26,
     "metadata": {},
     "output_type": "execute_result"
    }
   ],
   "source": [
    "pattern = re.compile(r'-.*p\\B.*\\\"')\n",
    "pattern.findall(html)"
   ]
  },
  {
   "cell_type": "markdown",
   "id": "9f797ac0-5be2-4274-9de4-ff27cd52c36f",
   "metadata": {},
   "source": [
    "# \\B MID or Start With (Characters/Word)\n",
    "\n",
    "- ## 'is\\B' (pattern)\n",
    "  - ## \"xisx xis isx\" (string)\n",
    "  - ## \"is is\" (output)"
   ]
  },
  {
   "cell_type": "code",
   "execution_count": 27,
   "id": "efb5d812-1b7f-4208-9c6c-ab9e5af6708a",
   "metadata": {},
   "outputs": [
    {
     "name": "stdout",
     "output_type": "stream",
     "text": [
      "<div class=\"country-info\">\n",
      "                                        # edit class \n",
      "        <strong>Capital:</strong> <span cl=\"country-capital\">Mamoudzou</span><br>\n",
      "                                        # edit aaaa\n",
      "        <strong>Population:</strong> <span claaaaa=\"country-population\">159042</span><br>\n",
      "        <strong>Area (km<sup>2</sup>):</strong> <span class=\"country-area\">374.0</span><br>\n",
      "        \n",
      "</div>\n"
     ]
    }
   ],
   "source": [
    "print(html)"
   ]
  },
  {
   "cell_type": "code",
   "execution_count": 28,
   "id": "22548206-bb32-4d94-801b-9666c6efd2b4",
   "metadata": {},
   "outputs": [
    {
     "data": {
      "text/plain": [
       "['-info\"', '-capital\"', '-population\"', '-area\"']"
      ]
     },
     "execution_count": 28,
     "metadata": {},
     "output_type": "execute_result"
    }
   ],
   "source": [
    "# \"\\B ka istemal word ya character ke akhiri hissay ko match karne ke liye bhi kiya jata hai.\"\n",
    "\n",
    "# \"\\B is used to match the end of a word or character as well.\"\n",
    "\n",
    "pattern = re.compile(r'-.*\\\"')\n",
    "pattern.findall(html)\n",
    "\n",
    "# \"For example, jahan par \\Bn hai, iska matlab hai ke end par 'n' hona chahiye. \n",
    "# Iska matlab hai ke '-population\" mein 'n' end par hai.\"\n",
    "\n",
    "# \"For example, where \\Bn is used, it means 'n' should be at the end. \n",
    "# This means that in '-population\", 'n' is at the end.\""
   ]
  },
  {
   "cell_type": "code",
   "execution_count": 29,
   "id": "ea3cb56a-ea81-4262-92d2-58ce9d45315f",
   "metadata": {},
   "outputs": [
    {
     "data": {
      "text/plain": [
       "['-population\"']"
      ]
     },
     "execution_count": 29,
     "metadata": {},
     "output_type": "execute_result"
    }
   ],
   "source": [
    "pattern = re.compile(r'-.*\\Bn\\\"')\n",
    "pattern.findall(html)"
   ]
  },
  {
   "cell_type": "markdown",
   "id": "c8f280cb-08bb-4c44-8dff-61d87219fb45",
   "metadata": {},
   "source": [
    "# (ab) Parentheses\n",
    "  - ## (ab)   (pattern)\n",
    "    - ## \"ababab\" (string)\n",
    "    - ## ['ab', 'ab', 'ab'] (output)"
   ]
  },
  {
   "cell_type": "code",
   "execution_count": 30,
   "id": "c1ee4c33-5a32-404f-a23a-3d7bc8b509d3",
   "metadata": {},
   "outputs": [
    {
     "name": "stdout",
     "output_type": "stream",
     "text": [
      "<div class=\"country-info\">\n",
      "                                        # edit class \n",
      "        <strong>Capital:</strong> <span cl=\"country-capital\">Mamoudzou</span><br>\n",
      "                                        # edit aaaa\n",
      "        <strong>Population:</strong> <span claaaaa=\"country-population\">159042</span><br>\n",
      "        <strong>Area (km<sup>2</sup>):</strong> <span class=\"country-area\">374.0</span><br>\n",
      "        \n",
      "</div>\n"
     ]
    }
   ],
   "source": [
    "print(html)"
   ]
  },
  {
   "cell_type": "code",
   "execution_count": 31,
   "id": "18886c42-2a8c-44c2-8e32-d436ed0e9091",
   "metadata": {},
   "outputs": [
    {
     "data": {
      "text/plain": [
       "[' class=\"country-info\"',\n",
       " '        <strong>Capital:</strong> <span cl=\"country-capital\"',\n",
       " '        <strong>Population:</strong> <span claaaaa=\"country-population\"',\n",
       " '        <strong>Area (km<sup>2</sup>):</strong> <span class=\"country-area\"']"
      ]
     },
     "execution_count": 31,
     "metadata": {},
     "output_type": "execute_result"
    }
   ],
   "source": [
    "# \"groups () mein sirf () ke andar wale pattern hi match hoga.\"\n",
    "\n",
    "# \"In groups (), only the pattern inside () will be matched.\"\n",
    "\n",
    "pattern = re.compile(r' .*=.*\\\"')\n",
    "pattern.findall(html)\n",
    "\n",
    "# \"Yahan space se shuru ho raha hai aur space ke baad multiple occurrences hain, = tak. \n",
    "# Phir = ke baad multiple occurrences hain lekin \" tak.\n",
    "# Lekin hamen sirf 'class' extract karni hai jo = se pehle hai.\"\n",
    "\n",
    "# \"It starts with a space here, followed by multiple occurrences until =. Then, \n",
    "# after =, there are multiple occurrences until \".\n",
    "\n",
    "# But we only want to extract 'class' which is before =.\""
   ]
  },
  {
   "cell_type": "code",
   "execution_count": 32,
   "id": "bb622b4e-132e-440a-b674-73101fd1b98b",
   "metadata": {},
   "outputs": [
    {
     "data": {
      "text/plain": [
       "['=\"country-info',\n",
       " '=\"country-capital',\n",
       " '=\"country-population',\n",
       " '=\"country-area']"
      ]
     },
     "execution_count": 32,
     "metadata": {},
     "output_type": "execute_result"
    }
   ],
   "source": [
    "# \"Is ke liye () ka istemal kiya ja sakta hai jis se sirf () ke andar wala pattern match hoga.\n",
    "# \\b ka istemal starting character ke match karne ke liye kiya gaya hai.\"\n",
    "\n",
    "# \"For this, () can be used to match only the pattern inside ().\n",
    "# \\b is used to match the starting character.\"\n",
    "\n",
    "pattern = re.compile(r' .*(\\b.*=.*)\\\"')\n",
    "pattern.findall(html)\n",
    "\n",
    "# \"Is mein ek masla hai, matlab \\b.* ke baad * ka istemal kiya gaya hai.\n",
    "\n",
    "# aa abb (ab+) --> abb\n",
    "# aa abb (ab*) --> a a abb\n",
    "# aa abb (ab?) --> ab\n",
    "\n",
    "# Yahan * aur ? kaam nahi kar rahay, hamen single a ke sath chahiye. To yahan + ka istemal karna chahiye.\"\n",
    "\n",
    "# \"There is an issue here, which is that * is used after \\b.*.\n",
    "\n",
    "# aa abb (ab+) --> abb\n",
    "# aa abb (ab*) --> a a abb\n",
    "# aa abb (ab?) --> ab\n",
    "\n",
    "# Here, * and ? are not working as intended; we want it with a single 'a'. So, + should be used here.\""
   ]
  },
  {
   "cell_type": "code",
   "execution_count": 33,
   "id": "8168f027-6f46-4fe2-a1f2-9fbb29653172",
   "metadata": {},
   "outputs": [
    {
     "data": {
      "text/plain": [
       "['class=\"country-info',\n",
       " 'cl=\"country-capital',\n",
       " 'claaaaa=\"country-population',\n",
       " 'class=\"country-area']"
      ]
     },
     "execution_count": 33,
     "metadata": {},
     "output_type": "execute_result"
    }
   ],
   "source": [
    "pattern = re.compile(r' .*(\\b.+=.*)\\\"')\n",
    "pattern.findall(html)"
   ]
  },
  {
   "cell_type": "code",
   "execution_count": 34,
   "id": "f86f08db-9615-40fe-be18-8958cd950c00",
   "metadata": {},
   "outputs": [
    {
     "data": {
      "text/plain": [
       "['country-info', 'country-capital', 'country-population', 'country-area']"
      ]
     },
     "execution_count": 34,
     "metadata": {},
     "output_type": "execute_result"
    }
   ],
   "source": [
    "# aa abb (ab+) --> abb \n",
    "# aa abb (ab*) --> a a abb\n",
    "# aa abb (ab?) --> ab\n",
    "\n",
    "pattern = re.compile(r'.+=.(.+)?\\\"')\n",
    "pattern.findall(html)\n",
    "\n"
   ]
  },
  {
   "cell_type": "markdown",
   "id": "b8036f2e-61d8-4c50-98d2-139632890836",
   "metadata": {},
   "source": [
    "## use multiple groups Parentheses"
   ]
  },
  {
   "cell_type": "code",
   "execution_count": 35,
   "id": "601c73c2-5442-494b-a804-aa757f103e74",
   "metadata": {},
   "outputs": [
    {
     "name": "stdout",
     "output_type": "stream",
     "text": [
      "<div class=\"country-info\">\n",
      "                                        # edit class \n",
      "        <strong>Capital:</strong> <span cl=\"country-capital\">Mamoudzou</span><br>\n",
      "                                        # edit aaaa\n",
      "        <strong>Population:</strong> <span claaaaa=\"country-population\">159042</span><br>\n",
      "        <strong>Area (km<sup>2</sup>):</strong> <span class=\"country-area\">374.0</span><br>\n",
      "        \n",
      "</div>\n"
     ]
    }
   ],
   "source": [
    "print(html)"
   ]
  },
  {
   "cell_type": "code",
   "execution_count": 36,
   "id": "213d45f1-8e50-4307-85a9-aa76887209a9",
   "metadata": {},
   "outputs": [
    {
     "data": {
      "text/plain": [
       "[('class', 'country-info'),\n",
       " ('cl', 'country-capital'),\n",
       " ('claaaaa', 'country-population'),\n",
       " ('class', 'country-area')]"
      ]
     },
     "execution_count": 36,
     "metadata": {},
     "output_type": "execute_result"
    }
   ],
   "source": [
    "# \"Yahan = se pehle 'class' ka group aur = ke baad 'classname' ka group banana hai.\n",
    "# Space .*(\\b.+) ke baad (class)= mein 'classname' match hoga\n",
    "# Aur \" ke baad aur \" se pehle group mein (classname) match hoga.\"\n",
    "\n",
    "# \"Here, we want to create a group for 'class' before = and a group for 'classname' after =.\n",
    "# After space .*(\\b.+) in (class)=, 'classname' will be matched.\n",
    "# And after \", but before the last \", (classname) will be matched in a group.\"\n",
    "\n",
    "pattern = re.compile(r' .*(\\b.+)=\\\"(.*)\\\"')\n",
    "pattern.findall(html)"
   ]
  },
  {
   "cell_type": "markdown",
   "id": "cbdbdc61-477f-463c-a7d0-4bb7c6d80383",
   "metadata": {},
   "source": [
    "# Start and ends line by support"
   ]
  },
  {
   "cell_type": "markdown",
   "id": "3d3a5632-6036-48be-b7bf-fdc3590905cc",
   "metadata": {},
   "source": [
    "# ^ Start With (support Multiline)\n",
    "\n",
    "- ## ^abc (pattern)\n",
    "  - ## \"abc xyz\" (string)\n",
    "  - ## \"abc\" (output)"
   ]
  },
  {
   "cell_type": "code",
   "execution_count": 37,
   "id": "f547cdbe-4ba7-4595-bd10-6c8722c451d3",
   "metadata": {},
   "outputs": [],
   "source": [
    "html = \"\"\"<div class=\"test1\">\n",
    "<h1 class=\"test2\">hello</h1>\n",
    "<h1 class=\"test3\">world</h1>\n",
    "</div>\"\"\""
   ]
  },
  {
   "cell_type": "code",
   "execution_count": 38,
   "id": "ed3fc05e-86c9-4c72-bd68-6039b28a97a4",
   "metadata": {},
   "outputs": [
    {
     "name": "stdout",
     "output_type": "stream",
     "text": [
      "<div class=\"test1\">\n",
      "<h1 class=\"test2\">hello</h1>\n",
      "<h1 class=\"test3\">world</h1>\n",
      "</div>\n"
     ]
    }
   ],
   "source": [
    "print(html)"
   ]
  },
  {
   "cell_type": "code",
   "execution_count": 39,
   "id": "fb28d1e0-6158-4275-9d1c-474a2048c255",
   "metadata": {},
   "outputs": [
    {
     "data": {
      "text/plain": [
       "['<div']"
      ]
     },
     "execution_count": 39,
     "metadata": {},
     "output_type": "execute_result"
    }
   ],
   "source": [
    "# \"Yahan ^ woh pattern match kar raha hai jahan < ke baad 3 occurrences hon aur ye line ke shuruaat mein ho.\n",
    "\n",
    "# <div class=\"test1\">          line 1\n",
    "# <h1 class=\"test2\">hello</h1> line 2\n",
    "# <h1 class=\"test3\">world</h1> line 3\n",
    "# </div>                       line 4\n",
    "\n",
    "# Yahan pehli line mein <div hai jo line ke shuruaat mein hai. \n",
    "# Lekin by default, ye sirf ek line ko hi support karega, multiline ke liye re.M ka istemal karna hoga.\"\n",
    "\n",
    "\n",
    "# In this case, ^ is matching the pattern where there are 3 occurrences after <, \n",
    "# and this pattern should be at the beginning of a line.\n",
    "\n",
    "# <div class=\"test1\">          line 1\n",
    "# <h1 class=\"test2\">hello</h1> line 2\n",
    "# <h1 class=\"test3\">world</h1> line 3\n",
    "# </div>\n",
    "\n",
    "# In the first line, there's <div which is at the beginning of the line. \n",
    "# However, by default, it will only support a single line. For multiline matching, you would need to use re.M.\n",
    "\n",
    "pattern = re.compile(r'^<...')\n",
    "pattern.findall(html)"
   ]
  },
  {
   "cell_type": "markdown",
   "id": "12689971-fe39-4154-9625-2628dc7683f7",
   "metadata": {},
   "source": [
    "#### for multiline use re.M"
   ]
  },
  {
   "cell_type": "code",
   "execution_count": 40,
   "id": "249d75f1-6592-44b2-8df6-53ecfbc068fc",
   "metadata": {},
   "outputs": [
    {
     "data": {
      "text/plain": [
       "['<div', '<h1 ', '<h1 ', '</di']"
      ]
     },
     "execution_count": 40,
     "metadata": {},
     "output_type": "execute_result"
    }
   ],
   "source": [
    "\n",
    "pattern = re.compile(r'^<...',re.M)\n",
    "pattern.findall(html)\n",
    "\n",
    "# Yahan pe sab lines ko match kiya ja raha hai, jahan shuruaat mein '<' ke baad 3 martaba aik pattern match ho raha hai.\n",
    "\n",
    "# Here, all lines are being matched where there are 3 occurrences of a pattern after '<' at the beginning of the line."
   ]
  },
  {
   "cell_type": "code",
   "execution_count": 41,
   "id": "3104a298-ed7d-4121-8264-4d0fb94f04b8",
   "metadata": {},
   "outputs": [
    {
     "name": "stdout",
     "output_type": "stream",
     "text": [
      "<div class=\"test1\">\n",
      "<h1 class=\"test2\">hello</h1>\n",
      "<h1 class=\"test3\">world</h1>\n",
      "</div>\n"
     ]
    }
   ],
   "source": [
    "print(html)"
   ]
  },
  {
   "cell_type": "code",
   "execution_count": 42,
   "id": "081a97d3-3146-49f1-ba51-1b984d9ecdc9",
   "metadata": {},
   "outputs": [
    {
     "data": {
      "text/plain": [
       "['div',\n",
       " ' cl',\n",
       " '=\"t',\n",
       " 'h1 ',\n",
       " 'cla',\n",
       " '=\"t',\n",
       " '\">h',\n",
       " '</h',\n",
       " 'h1 ',\n",
       " 'cla',\n",
       " '=\"t',\n",
       " '\">w',\n",
       " '</h',\n",
       " 'div']"
      ]
     },
     "execution_count": 42,
     "metadata": {},
     "output_type": "execute_result"
    }
   ],
   "source": [
    "# \"\\b\" ka istemal wordwise ya character ko support karne mein hota hai.\n",
    "# \"\\b\" is used to support wordwise or character matching.\n",
    "\n",
    "pattern = re.compile(r'\\b...')\n",
    "pattern.findall(html)\n",
    "\n",
    "\n",
    "# Yahan par yeh pattern word ki shuruaat ke 3 occurrences ko match kar raha hai.\n",
    "# For example, pehli line mein <div hai, to < ko ignore karke div (3 occurrences) ko extract kiya jata hai. \n",
    "# div ke baad space hai, phir class= hai, is liye next (cl) 3 occurrences ko extract kia jata hai.\n",
    "# Isi tarah yeh word by word match kar raha hai.\n",
    "\n",
    "# Here, this pattern is matching the first 3 occurrences at the beginning of each word. \n",
    "# For example, in the first line, there's <div, so < is ignored, and div (3 occurrences) is extracted. \n",
    "# After div, there's a space, and then class=, so the next (cl) 3 occurrences are extracted. \n",
    "# It's matching word by word like this."
   ]
  },
  {
   "cell_type": "code",
   "execution_count": 43,
   "id": "6d3195f5-0c3a-4e43-a5c1-e4ea82eac031",
   "metadata": {},
   "outputs": [
    {
     "data": {
      "text/plain": [
       "['abc', '.de', '.fg']"
      ]
     },
     "execution_count": 43,
     "metadata": {},
     "output_type": "execute_result"
    }
   ],
   "source": [
    "# symbole example\n",
    "string = \"abc.de.fg\"\n",
    "pattern = re.compile(r'\\b...')\n",
    "pattern.findall(string)\n",
    "\n",
    "# Yahan par yeh pattern word by word match kar raha hai \n",
    "# aur newline ya symbols ko identify karke word ko extract kar raha hai. \n",
    "# Lekin \\b symbols ko bhi include karega aur \\n newline ko ignore karega.\n",
    "\n",
    "# Here, this pattern is matching word by word \n",
    "# and extracting words while identifying newlines or symbols. \n",
    "# However, \\b will also include symbols and ignore \\n (newline).\n"
   ]
  },
  {
   "cell_type": "code",
   "execution_count": 44,
   "id": "c7fada36-105b-46b7-909a-b13fb376830a",
   "metadata": {},
   "outputs": [
    {
     "data": {
      "text/plain": [
       "['abc', 'def', 'hij']"
      ]
     },
     "execution_count": 44,
     "metadata": {},
     "output_type": "execute_result"
    }
   ],
   "source": [
    "# New line example\n",
    "\n",
    "string = \"\"\"abc\\ndef\n",
    "hij\n",
    "\"\"\"\n",
    "pattern = re.compile(r'\\b...')\n",
    "pattern.findall(string)\n",
    "\n",
    "# Yahan par \\n (new line) aur manually newline ko include nahi kar raha hai.\n",
    "\n",
    "# Here, it is not including \\n (new line) and manually inserted newlines."
   ]
  },
  {
   "cell_type": "code",
   "execution_count": 45,
   "id": "63add96e-52bc-4a50-9fbc-2adb9be8b7ca",
   "metadata": {},
   "outputs": [
    {
     "data": {
      "text/plain": [
       "['abc', 'klm']"
      ]
     },
     "execution_count": 45,
     "metadata": {},
     "output_type": "execute_result"
    }
   ],
   "source": [
    "string = \"abc.def.hij\\nklm\"\n",
    "\n",
    "pattern = re.compile(r'^...',re.M)\n",
    "pattern.findall(string)\n",
    "\n",
    "# Yahan par yeh wordwise taur par match nahi kar raha hai, \n",
    "# balki new lines ko match kar raha hai. \n",
    "# Is liye is ne symbole ko match nahi kiya, jo \\b (wordwise) me support karta hai.\n",
    "\n",
    "# Here, it's not matching wordwise but rather matching newlines. \n",
    "# That's why it's not matching symbols, which are supported by \\b (wordwise)."
   ]
  },
  {
   "cell_type": "markdown",
   "id": "17bc7329-4233-446b-9978-97801e6a9232",
   "metadata": {},
   "source": [
    "# \\A Start With (not supported Multiline)\n",
    "\n",
    "- ## \\Aabc (pattern)\n",
    "  - ## \"abc\\nabc\"  (string)\n",
    "  - ## \"abc\"  (output)"
   ]
  },
  {
   "cell_type": "code",
   "execution_count": 46,
   "id": "db6243a4-958a-4d43-aa7b-bf59b3a63e48",
   "metadata": {},
   "outputs": [
    {
     "data": {
      "text/plain": [
       "['abc']"
      ]
     },
     "execution_count": 46,
     "metadata": {},
     "output_type": "execute_result"
    }
   ],
   "source": [
    "string = \"abc\\ndef\"\n",
    "\n",
    "pattern = re.compile(r'\\A...',re.M)\n",
    "pattern.findall(string)\n",
    "\n",
    "# \\A aur ^ dono line ke shuruaat ko match karne mein kaam aate hain, lekin \\A multiline ko support nahi karta.\n",
    "\n",
    "# \\A and ^ both are used to match the beginning of a line, but \\A doesn't support multiline matching."
   ]
  },
  {
   "cell_type": "markdown",
   "id": "5aa2ab24-3481-497d-80e8-ed4f6a14896c",
   "metadata": {},
   "source": [
    "# $ End With Line (supported Multiline)\n",
    "\t\n",
    "- ## 'abc$'   (pattern)\n",
    "  - ## \"xyz abc\" (string)\n",
    "  - ## \"abc\"     (output)"
   ]
  },
  {
   "cell_type": "code",
   "execution_count": 47,
   "id": "e4db07df-0130-465c-af5b-40f144da002b",
   "metadata": {},
   "outputs": [
    {
     "data": {
      "text/plain": [
       "['def']"
      ]
     },
     "execution_count": 47,
     "metadata": {},
     "output_type": "execute_result"
    }
   ],
   "source": [
    "# $ line ke end par match karta hai aur linewise matching karta hai.\n",
    "\n",
    "# $ matches at the end of a line and performs linewise matching.\n",
    "\n",
    "string = \"abc\\ndef\"\n",
    "pattern = re.compile(r'...$')\n",
    "pattern.findall(string)\n",
    "\n",
    "# Yahan par line ke end se 3 occurrences ko match kar raha hai.\n",
    "\n",
    "# Here, it's matching 3 occurrences from the end of the line."
   ]
  },
  {
   "cell_type": "markdown",
   "id": "5f836c24-c21a-438d-a919-b7031b8fac73",
   "metadata": {},
   "source": [
    "#### for multiline use re.M"
   ]
  },
  {
   "cell_type": "code",
   "execution_count": 48,
   "id": "6a011c78-4a65-497e-b471-da15d9060100",
   "metadata": {},
   "outputs": [
    {
     "data": {
      "text/plain": [
       "['abc', 'def']"
      ]
     },
     "execution_count": 48,
     "metadata": {},
     "output_type": "execute_result"
    }
   ],
   "source": [
    "string = \"abc\\ndef\"\n",
    "pattern = re.compile(r'...$',re.M)\n",
    "pattern.findall(string)"
   ]
  },
  {
   "cell_type": "code",
   "execution_count": 49,
   "id": "db47911a-c445-4d07-be1b-0dcc4f42aba4",
   "metadata": {},
   "outputs": [
    {
     "data": {
      "text/plain": [
       "['def', 'hij']"
      ]
     },
     "execution_count": 49,
     "metadata": {},
     "output_type": "execute_result"
    }
   ],
   "source": [
    "string = \"abc.def\\nhij\"\n",
    "pattern = re.compile(r'...$',re.M)\n",
    "pattern.findall(string)\n",
    "\n",
    "# Yahan par 'abc' ke baad newline nahi hai, balki symbols hain, is liye ye 'def' ko match nahi kar raha.\n",
    "# Kyunki ye linewise matching ko support karta hai.\n",
    "\n",
    "# Here, there is no newline after 'abc,' but there are symbols, so it's not matching 'def' \n",
    "# because it supports linewise matching."
   ]
  },
  {
   "cell_type": "code",
   "execution_count": 50,
   "id": "8fd4e88e-cf00-42fe-883f-24e4f0274bfd",
   "metadata": {},
   "outputs": [
    {
     "data": {
      "text/plain": [
       "['abc', 'def', 'hij']"
      ]
     },
     "execution_count": 50,
     "metadata": {},
     "output_type": "execute_result"
    }
   ],
   "source": [
    "# \\b wordwise matching ke liye use hota hai \n",
    "# jabke $ linewise matching ke liye istemal hota hai.\n",
    "\n",
    "# \\b is used for wordwise matching, while $ is used for linewise matching.\n",
    "\n",
    "string = \"abc.def\\nhij\"\n",
    "pattern = re.compile(r'...\\b')\n",
    "pattern.findall(string)\n",
    "\n",
    "# Yahan par 'def' ko bhi match kiya ja raha hai kyunki \\b wordwise matching ke liye istemal hota hai.\n",
    "\n",
    "# Here, 'def' is also being matched because \\b is used for wordwise matching."
   ]
  },
  {
   "cell_type": "markdown",
   "id": "2074773b-8c22-4b64-b1de-e7b3ed009a6e",
   "metadata": {},
   "source": [
    "# \\Z End With Line(not supported Multiline)\n",
    "\t\n",
    "- ## 'abc\\Z' (pattern)\n",
    "  - ## \"xyz abc\\nabc\"  (string)\n",
    "  - ## \"abc\"           (output)"
   ]
  },
  {
   "cell_type": "code",
   "execution_count": 51,
   "id": "bbd8a176-e3b3-4e6c-98ba-bed42c4f6de5",
   "metadata": {},
   "outputs": [
    {
     "data": {
      "text/plain": [
       "['hij']"
      ]
     },
     "execution_count": 51,
     "metadata": {},
     "output_type": "execute_result"
    }
   ],
   "source": [
    "# \\Z aur $ dono line ke end par match karte hain, lekin \\Z multiline ko support nahi karta.\n",
    "\n",
    "# \\Z and $ both match at the end of a line, but \\Z doesn't support multiline matching.\n",
    "\n",
    "string = \"abc.def\\nhij\"\n",
    "pattern = re.compile(r'...\\Z',re.M)\n",
    "pattern.findall(string)\n",
    "\n",
    "# Yahan par line ke end se match ho raha hai.\n",
    "\n",
    "# Here, it's matching from the end of the line."
   ]
  },
  {
   "cell_type": "markdown",
   "id": "28b46520-c740-4449-8917-8f3fef6eba49",
   "metadata": {},
   "source": [
    "# | Or\n",
    "\t\n",
    "- ## 'A|a'           (pattern)\n",
    "- ## \"xbaAi082baA-\"  (string)\n",
    "- ## \"a A a A\"       (output)"
   ]
  },
  {
   "cell_type": "code",
   "execution_count": 52,
   "id": "de6ed88a-52d6-457a-a5ed-45a236aeaf1e",
   "metadata": {},
   "outputs": [
    {
     "data": {
      "text/plain": [
       "['tagabc', 'tagssh']"
      ]
     },
     "execution_count": 52,
     "metadata": {},
     "output_type": "execute_result"
    }
   ],
   "source": [
    "# | (pipe) logical OR ke liye istemal hota hai.\n",
    "\n",
    "# | (pipe) is used for logical OR.\n",
    "\n",
    "string = \"tagabc tagssh tagijk\"\n",
    "pattern = re.compile(r'tagabc|tagssh')\n",
    "pattern.findall(string)\n",
    "\n",
    "# Yahan par 2 conditions ko OR logic ke taur par match kar raha hai.\n",
    "\n",
    "# Here, it's matching two conditions as an OR logic."
   ]
  },
  {
   "cell_type": "markdown",
   "id": "2a2f6021-ca26-4044-8f36-a427edf32856",
   "metadata": {},
   "source": [
    "### use in group ()"
   ]
  },
  {
   "cell_type": "code",
   "execution_count": 53,
   "id": "c932d197-d406-4c6c-8578-a30ae713ff7b",
   "metadata": {},
   "outputs": [
    {
     "data": {
      "text/plain": [
       "['abc', 'ssh']"
      ]
     },
     "execution_count": 53,
     "metadata": {},
     "output_type": "execute_result"
    }
   ],
   "source": [
    "string = \"tagabc tagssh tagijk\"\n",
    "\n",
    "pattern = re.compile(r'tag(abc|ssh)')\n",
    "pattern.findall(string)\n",
    "\n",
    "# () ke wajah se group wale ko hi match karta hai aur group mein OR condition hai. \n",
    "# Matlab, tag ke baad agar 'abc' ho ya 'ssh' ho, to koi bhi ek hua to match ho jayega.\n",
    "\n",
    "# Because of (), it matches the group, and there's an OR condition within the group. \n",
    "# This means if there's either 'abc' or 'ssh' after the tag, it will match."
   ]
  }
 ],
 "metadata": {
  "colab": {
   "provenance": [
    {
     "file_id": "1YdwLua6GGhM_3CuHSV6tGslBsZZntDQs",
     "timestamp": 1688128808815
    }
   ]
  },
  "kernelspec": {
   "display_name": "Python 3 (ipykernel)",
   "language": "python",
   "name": "python3"
  },
  "language_info": {
   "codemirror_mode": {
    "name": "ipython",
    "version": 3
   },
   "file_extension": ".py",
   "mimetype": "text/x-python",
   "name": "python",
   "nbconvert_exporter": "python",
   "pygments_lexer": "ipython3",
   "version": "3.10.12"
  }
 },
 "nbformat": 4,
 "nbformat_minor": 5
}

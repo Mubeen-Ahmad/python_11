{
 "cells": [
  {
   "cell_type": "markdown",
   "metadata": {},
   "source": [
    "### In regular expressions (regex), there are special sequences that allow you to match specific patterns or classes of characters.\n",
    "\n",
    "<br>\n",
    "\n",
    "## \\ (Backslash)\n",
    "<br>\n",
    "\n",
    "- ### Escapes special characters, allowing you to match them literally.\n",
    "\n",
    "<br>\n",
    "\n",
    "- ### These sequences are used within regex patterns to represent certain character types or behaviors. \n",
    "\n"
   ]
  },
  {
   "cell_type": "markdown",
   "metadata": {},
   "source": [
    "<br><br>\n",
    "\n",
    "- ### \\A \n",
    "    - ### Beginning String at Starting of the Lines\n",
    "<br>\n",
    "\n",
    "- ### \\b\n",
    "    - ### \\b(text)  -> xxisxx xxisxx isxx  Extract (is) START of the World\n",
    "    - ### (text)\\b  -> xxisxx xxis xxisxx  Extract (is) END of the World\n",
    "<br>\n",
    "\n",
    "- ### \\B\n",
    "    - ### \\B(text) ->  xxisxx xxisxx isxx xxis Extract (is) Between and END of the World\n",
    "    - ### (text)\\B ->  xxisxx xxisxx isxx xxis Extract (is) Between and START of the World\n",
    "<br>\n",
    "\n",
    "- ### \\d\n",
    "    - ### Returns a match where the string contains digits (numbers from 0-9)\n",
    "\n",
    "<br>\n",
    "\n",
    "- ### \\D\n",
    "    - ### Extract Alphabets and Symboles\n",
    "\n",
    "<br>\n",
    "\n",
    "- ### \\s\n",
    "    - ### Extract White Space\n",
    "\n",
    "<br>\n",
    "\n",
    "- ### \\S\n",
    "    - ### Extract All Characters numbers alphabets except White Space\n",
    "\n",
    "<br>\n",
    "\n",
    "- ### \\w\n",
    "    - ### Extract All String and Numbers Except White Space and operators Symboles\n",
    "\n",
    "<br>\n",
    "\n",
    "- ### \\W\n",
    "    - ### Extract White Space and operators Symboles\n",
    "\n",
    "<br>\n",
    "\n",
    "- ### \\Z\n",
    "- ### Returns a match if the specified characters are at the end of the string\n",
    "- ### \\Z(text) 'Mubeen Ahmad' -> Ahmad\n",
    "\n",
    "<br><br>"
   ]
  },
  {
   "cell_type": "markdown",
   "metadata": {},
   "source": [
    "- ### \\A \n",
    "    - ### Returns a match if the specified characters are at the beginning of the string"
   ]
  },
  {
   "cell_type": "code",
   "execution_count": 3,
   "metadata": {},
   "outputs": [],
   "source": [
    "import re"
   ]
  },
  {
   "cell_type": "code",
   "execution_count": 110,
   "metadata": {},
   "outputs": [
    {
     "data": {
      "text/plain": [
       "['The']"
      ]
     },
     "execution_count": 110,
     "metadata": {},
     "output_type": "execute_result"
    }
   ],
   "source": [
    "string = \"The Rain The in Spain\"\n",
    "\n",
    "pattern = re.compile(\"\\AThe\")\n",
    "pattern.findall(string)"
   ]
  },
  {
   "cell_type": "markdown",
   "metadata": {},
   "source": [
    "- ### \\b\n",
    "    - ### Returns a match where the specified characters are at the beginning or at the end of a word"
   ]
  },
  {
   "cell_type": "code",
   "execution_count": 167,
   "metadata": {},
   "outputs": [
    {
     "data": {
      "text/plain": [
       "['is']"
      ]
     },
     "execution_count": 167,
     "metadata": {},
     "output_type": "execute_result"
    }
   ],
   "source": [
    "text = \"xxisxx xxisxx isxx\"\n",
    "pattern = re.compile(r'\\bis') # first is\n",
    "\n",
    "pattern.findall(text)"
   ]
  },
  {
   "cell_type": "code",
   "execution_count": 168,
   "metadata": {},
   "outputs": [
    {
     "data": {
      "text/plain": [
       "['is']"
      ]
     },
     "execution_count": 168,
     "metadata": {},
     "output_type": "execute_result"
    }
   ],
   "source": [
    "text = \"xxisxx xxis xxisxx\"\n",
    "pattern = re.compile(r'is\\b') # first is\n",
    "pattern.findall(text)"
   ]
  },
  {
   "cell_type": "markdown",
   "metadata": {},
   "source": [
    "- ### \\B \n",
    "- ### Returns a match where the specified characters are present, but NOT at the beginning (or at the end) of a word\n"
   ]
  },
  {
   "cell_type": "code",
   "execution_count": 216,
   "metadata": {},
   "outputs": [
    {
     "data": {
      "text/plain": [
       "['is', 'is', 'is']"
      ]
     },
     "execution_count": 216,
     "metadata": {},
     "output_type": "execute_result"
    }
   ],
   "source": [
    "text = \"xxisxx xxisxx isxx xxis\"\n",
    "pattern = re.compile(r'\\Bis') # Between End\n",
    "\n",
    "pattern.findall(text)"
   ]
  },
  {
   "cell_type": "code",
   "execution_count": 215,
   "metadata": {},
   "outputs": [
    {
     "data": {
      "text/plain": [
       "['is', 'is', 'is']"
      ]
     },
     "execution_count": 215,
     "metadata": {},
     "output_type": "execute_result"
    }
   ],
   "source": [
    "text = \"xxisxx xxisxx isxx\" \n",
    "pattern = re.compile(r'is\\B') # between Start\n",
    "\n",
    "pattern.findall(text)"
   ]
  },
  {
   "cell_type": "markdown",
   "metadata": {},
   "source": [
    "- ### \\d\n",
    "- ### Returns a match where the string contains digits (numbers from 0-9)"
   ]
  },
  {
   "cell_type": "code",
   "execution_count": 219,
   "metadata": {},
   "outputs": [
    {
     "data": {
      "text/plain": [
       "['0', '1', '2', '3']"
      ]
     },
     "execution_count": 219,
     "metadata": {},
     "output_type": "execute_result"
    }
   ],
   "source": [
    "text = \"abc0d1e2f3g\" \n",
    "pattern = re.compile(r'\\d') # Extract Digits\n",
    "\n",
    "pattern.findall(text)"
   ]
  },
  {
   "cell_type": "markdown",
   "metadata": {},
   "source": [
    "- ### \\D\n",
    "    - ### Returns a Alphabets and Symboles"
   ]
  },
  {
   "cell_type": "code",
   "execution_count": 222,
   "metadata": {},
   "outputs": [
    {
     "data": {
      "text/plain": [
       "['a', 'b', 'c', 'd', 'e', 'f', 'g', '*', ' ']"
      ]
     },
     "execution_count": 222,
     "metadata": {},
     "output_type": "execute_result"
    }
   ],
   "source": [
    "text = \"abc0d1e2f3g* \" \n",
    "pattern = re.compile(r'\\D') # Extract Alphabets and Symboles\n",
    "\n",
    "pattern.findall(text)"
   ]
  },
  {
   "cell_type": "markdown",
   "metadata": {},
   "source": [
    "- ### \\s\n",
    "    - ### Returns a match where the string contains a white space character"
   ]
  },
  {
   "cell_type": "code",
   "execution_count": 226,
   "metadata": {},
   "outputs": [
    {
     "data": {
      "text/plain": [
       "[' ', ' ']"
      ]
     },
     "execution_count": 226,
     "metadata": {},
     "output_type": "execute_result"
    }
   ],
   "source": [
    "text = \"Mubeen Ahma d\" \n",
    "pattern = re.compile(r'\\s') # Extract Spaces\n",
    "\n",
    "pattern.findall(text)"
   ]
  },
  {
   "cell_type": "markdown",
   "metadata": {},
   "source": [
    "\n",
    "- ### \\S \t\n",
    "    - ### Returns a match where the string DOES NOT contain a white space character"
   ]
  },
  {
   "cell_type": "code",
   "execution_count": 232,
   "metadata": {},
   "outputs": [
    {
     "data": {
      "text/plain": [
       "['M', 'u', 'b', 'e', 'e', 'n', 'A', 'h', 'm', 'a', 'd', '1', '*']"
      ]
     },
     "execution_count": 232,
     "metadata": {},
     "output_type": "execute_result"
    }
   ],
   "source": [
    "text = \"Mubeen Ahma d 1 *\" \n",
    "pattern = re.compile(r'\\S') # Extract All String and numbers  Except White SPace\n",
    "\n",
    "pattern.findall(text)"
   ]
  },
  {
   "cell_type": "markdown",
   "metadata": {},
   "source": [
    "- ### \\w\n",
    "- ### Extract All String and Numbers Except White SPace and operators Symboles"
   ]
  },
  {
   "cell_type": "code",
   "execution_count": 237,
   "metadata": {},
   "outputs": [
    {
     "data": {
      "text/plain": [
       "['a', 'b', 'c', '1', '2', '3', '_']"
      ]
     },
     "execution_count": 237,
     "metadata": {},
     "output_type": "execute_result"
    }
   ],
   "source": [
    "text = \"abc123 *-_\" \n",
    "pattern = re.compile(r'\\w') # Extract All String Except White SPace\n",
    "\n",
    "pattern.findall(text)"
   ]
  },
  {
   "cell_type": "markdown",
   "metadata": {},
   "source": [
    "- ### \\W\n",
    "\n",
    "- ### Extract White Space and Operators Symboles"
   ]
  },
  {
   "cell_type": "code",
   "execution_count": 238,
   "metadata": {},
   "outputs": [
    {
     "data": {
      "text/plain": [
       "[' ', '*', '-']"
      ]
     },
     "execution_count": 238,
     "metadata": {},
     "output_type": "execute_result"
    }
   ],
   "source": [
    "text = \"abc123 *-_\" \n",
    "pattern = re.compile(r'\\W') # Extract White Space and Operators Symboles\n",
    "\n",
    "pattern.findall(text)"
   ]
  },
  {
   "cell_type": "markdown",
   "metadata": {},
   "source": [
    "- ### \\Z\n",
    "- ### Returns a match if the specified characters are at the end of the string"
   ]
  },
  {
   "cell_type": "code",
   "execution_count": 244,
   "metadata": {},
   "outputs": [
    {
     "data": {
      "text/plain": [
       "['Ahmad']"
      ]
     },
     "execution_count": 244,
     "metadata": {},
     "output_type": "execute_result"
    }
   ],
   "source": [
    "text = \"Mubeen Ahmad\" \n",
    "pattern = re.compile(r'Ahmad\\Z') # Extract White Space and Operators Symboles\n",
    "\n",
    "pattern.findall(text)"
   ]
  }
 ],
 "metadata": {
  "kernelspec": {
   "display_name": "Python 3 (ipykernel)",
   "language": "python",
   "name": "python3"
  },
  "language_info": {
   "codemirror_mode": {
    "name": "ipython",
    "version": 3
   },
   "file_extension": ".py",
   "mimetype": "text/x-python",
   "name": "python",
   "nbconvert_exporter": "python",
   "pygments_lexer": "ipython3",
   "version": "3.10.6"
  }
 },
 "nbformat": 4,
 "nbformat_minor": 2
}

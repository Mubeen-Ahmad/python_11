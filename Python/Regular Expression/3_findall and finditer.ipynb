{
 "cells": [
  {
   "cell_type": "markdown",
   "id": "80eba74d",
   "metadata": {},
   "source": [
    "# findall()"
   ]
  },
  {
   "cell_type": "markdown",
   "id": "f53a01ab",
   "metadata": {},
   "source": [
    "- ### The re.findall() function in Python's re module is used to find all non-overlapping occurrences of a pattern in a string and returns them as a list of matches. \n",
    "<br>\n",
    "\n",
    "- ### It searches the entire string and collects all matches, rather than just finding the first match."
   ]
  },
  {
   "cell_type": "markdown",
   "id": "d0ee907b",
   "metadata": {},
   "source": [
    "# Syantax\n",
    "<br>\n",
    "\n",
    "- ### re.findall(pattern, string, flags=0)"
   ]
  },
  {
   "cell_type": "code",
   "execution_count": 5,
   "id": "6a3832f3",
   "metadata": {},
   "outputs": [
    {
     "data": {
      "text/plain": [
       "['1', '0', '2', '0']"
      ]
     },
     "execution_count": 5,
     "metadata": {},
     "output_type": "execute_result"
    }
   ],
   "source": [
    "import re\n",
    "\n",
    "\n",
    "string = 'There are 10 apples and 20 oranges.'\n",
    "\n",
    "pattern = re.compile(r'\\d')\n",
    "pattern.findall(string)"
   ]
  },
  {
   "cell_type": "code",
   "execution_count": 9,
   "id": "86ae35fc",
   "metadata": {},
   "outputs": [
    {
     "data": {
      "text/plain": [
       "['10', '20']"
      ]
     },
     "execution_count": 9,
     "metadata": {},
     "output_type": "execute_result"
    }
   ],
   "source": [
    "pattern = re.compile(r'\\d{2}')\n",
    "pattern.findall(string)"
   ]
  },
  {
   "cell_type": "code",
   "execution_count": 10,
   "id": "d22b5da0",
   "metadata": {},
   "outputs": [
    {
     "data": {
      "text/plain": [
       "['10', '20']"
      ]
     },
     "execution_count": 10,
     "metadata": {},
     "output_type": "execute_result"
    }
   ],
   "source": [
    "pattern = re.compile(r'\\d+')\n",
    "pattern.findall(string)"
   ]
  },
  {
   "cell_type": "code",
   "execution_count": 14,
   "id": "2ab3b387",
   "metadata": {},
   "outputs": [
    {
     "data": {
      "text/plain": [
       "[('Name', 'John'), ('Age', '30'), ('Country', 'USA')]"
      ]
     },
     "execution_count": 14,
     "metadata": {},
     "output_type": "execute_result"
    }
   ],
   "source": [
    "string = 'Name:John, Age:30, Country:USA'\n",
    "\n",
    "\n",
    "pattern = re.compile(r'(\\w+):(\\w+)')\n",
    "pattern.findall(string)"
   ]
  },
  {
   "cell_type": "code",
   "execution_count": 22,
   "id": "586b4af3",
   "metadata": {},
   "outputs": [
    {
     "data": {
      "text/plain": [
       "[('Name', 'John'), ('Country', 'USA')]"
      ]
     },
     "execution_count": 22,
     "metadata": {},
     "output_type": "execute_result"
    }
   ],
   "source": [
    "pattern = re.compile(r'(\\w+):([A-z]+)')\n",
    "pattern.findall(string)"
   ]
  },
  {
   "cell_type": "code",
   "execution_count": 25,
   "id": "8a5298e1",
   "metadata": {},
   "outputs": [
    {
     "data": {
      "text/plain": [
       "[('Age', '30')]"
      ]
     },
     "execution_count": 25,
     "metadata": {},
     "output_type": "execute_result"
    }
   ],
   "source": [
    "pattern = re.compile(r'(\\w+):(\\d+)')\n",
    "pattern.findall(string)"
   ]
  },
  {
   "cell_type": "markdown",
   "id": "a54a1e8d",
   "metadata": {},
   "source": [
    "# finditer"
   ]
  },
  {
   "cell_type": "markdown",
   "id": "c32109ea",
   "metadata": {},
   "source": [
    "- ### The re.finditer() function in Python's re module is used to find all non-overlapping occurrences of a pattern in a string and returns them as an iterator of match objects. \n",
    "<br>\n",
    "\n",
    "- ### It is similar to re.findall(), but instead of returning a list of matches, it provides an iterator that can be used to iterate over each match individually."
   ]
  },
  {
   "cell_type": "markdown",
   "id": "f5783c4c",
   "metadata": {},
   "source": [
    "# Syntax\n",
    "<br>\n",
    "\n",
    "- ### re.finditer(pattern, string, flags=0)"
   ]
  },
  {
   "cell_type": "code",
   "execution_count": 27,
   "id": "4d2c86d5",
   "metadata": {},
   "outputs": [
    {
     "data": {
      "text/plain": [
       "<callable_iterator at 0x7f3d6d8fd1b0>"
      ]
     },
     "execution_count": 27,
     "metadata": {},
     "output_type": "execute_result"
    }
   ],
   "source": [
    "string = 'There are 10 apples and 20 oranges.'\n",
    "\n",
    "pattern = re.compile(r'\\d')\n",
    "\n",
    "pattern.finditer(string)"
   ]
  },
  {
   "cell_type": "code",
   "execution_count": 28,
   "id": "54dfd23e",
   "metadata": {},
   "outputs": [
    {
     "name": "stdout",
     "output_type": "stream",
     "text": [
      "<re.Match object; span=(10, 11), match='1'>\n",
      "<re.Match object; span=(11, 12), match='0'>\n",
      "<re.Match object; span=(24, 25), match='2'>\n",
      "<re.Match object; span=(25, 26), match='0'>\n"
     ]
    }
   ],
   "source": [
    "# loop on iterator\n",
    "for i in pattern.finditer(string):\n",
    "    print(i)"
   ]
  },
  {
   "cell_type": "markdown",
   "id": "9e0e03c2",
   "metadata": {},
   "source": [
    "## Attributes and methods <a href=\"https://github.com/Mubeen-Ahmad/python_11/blob/main/Python/Regular%20Expression/2_match_and_fullmatch.ipynb\">Click Here</a>"
   ]
  },
  {
   "cell_type": "markdown",
   "id": "4d865b4a",
   "metadata": {},
   "source": [
    "<br>\n",
    "\n",
    "- ### In summary, if you simply need the matched substrings as a list, findall() is a convenient choice.\n",
    "<br>\n",
    "\n",
    "- ### On the other hand, if you require more control and detailed information about the matches, such as their positions, finditer() is more suitable as it returns match objects that can be iterated over."
   ]
  }
 ],
 "metadata": {
  "kernelspec": {
   "display_name": "Python 3 (ipykernel)",
   "language": "python",
   "name": "python3"
  },
  "language_info": {
   "codemirror_mode": {
    "name": "ipython",
    "version": 3
   },
   "file_extension": ".py",
   "mimetype": "text/x-python",
   "name": "python",
   "nbconvert_exporter": "python",
   "pygments_lexer": "ipython3",
   "version": "3.10.6"
  }
 },
 "nbformat": 4,
 "nbformat_minor": 5
}

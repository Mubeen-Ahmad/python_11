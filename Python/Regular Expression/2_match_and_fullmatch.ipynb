{
 "cells": [
  {
   "cell_type": "markdown",
   "id": "03532424",
   "metadata": {},
   "source": [
    "# re.match()"
   ]
  },
  {
   "cell_type": "markdown",
   "id": "ab78154b",
   "metadata": {},
   "source": [
    "- ### The re.match() function is used to check if a pattern matches at the beginning of a string. \n",
    "<br>\n",
    "\n",
    "- ### It searches for the pattern only at the beginning of the string and returns a match object if there is a match.\n",
    "\n",
    "<br>\n",
    "\n",
    "### Returns a match object if successful or None otherwise."
   ]
  },
  {
   "cell_type": "markdown",
   "id": "283dd05b",
   "metadata": {},
   "source": [
    "# Syntax\n",
    "<br>\n",
    "\n",
    "- ### re.match(pattern, string, flags=0)"
   ]
  },
  {
   "cell_type": "code",
   "execution_count": 1,
   "id": "ec64ae02",
   "metadata": {},
   "outputs": [],
   "source": [
    "import re"
   ]
  },
  {
   "cell_type": "code",
   "execution_count": 65,
   "id": "1646796d",
   "metadata": {},
   "outputs": [
    {
     "name": "stdout",
     "output_type": "stream",
     "text": [
      "<re.Match object; span=(0, 6), match='Mubeen'>\n"
     ]
    }
   ],
   "source": [
    "string = \"Mubeen Ahmad\"\n",
    "pattern = re.compile(r\"Mubeen\")\n",
    "print(pattern.match(string))"
   ]
  },
  {
   "cell_type": "code",
   "execution_count": 28,
   "id": "212d3a50",
   "metadata": {},
   "outputs": [
    {
     "name": "stdout",
     "output_type": "stream",
     "text": [
      "None\n"
     ]
    }
   ],
   "source": [
    "pattern = re.compile(r\"Ahmad\")\n",
    "print(pattern.match(string))"
   ]
  },
  {
   "cell_type": "markdown",
   "id": "4a0cf6e2",
   "metadata": {},
   "source": [
    "# re.fullmatch()"
   ]
  },
  {
   "cell_type": "markdown",
   "id": "59d9605c",
   "metadata": {},
   "source": [
    "- ### The re.fullmatch() function in Python's re module is used to check if a pattern matches the entire string. \n",
    "<br>\n",
    "\n",
    "- ### Unlike re.match() which checks for a match at the beginning of the string, re.fullmatch() ensures that the pattern matches the entire string from start to end."
   ]
  },
  {
   "cell_type": "markdown",
   "id": "d0c24c63",
   "metadata": {},
   "source": [
    "# Syntax\n",
    "<br>\n",
    "\n",
    "- ### re.fullmatch(pattern, string, flags=0)"
   ]
  },
  {
   "cell_type": "code",
   "execution_count": 237,
   "id": "b776403e",
   "metadata": {},
   "outputs": [
    {
     "name": "stdout",
     "output_type": "stream",
     "text": [
      "<re.Match object; span=(0, 12), match='Mubeen Ahmad'>\n"
     ]
    }
   ],
   "source": [
    "string = \"Mubeen Ahmad\"\n",
    "\n",
    "pattern = re.compile(r\"Mubeen Ahmad\")\n",
    "print(pattern.fullmatch(string))"
   ]
  },
  {
   "cell_type": "markdown",
   "id": "56695089",
   "metadata": {},
   "source": [
    "<br>\n",
    "\n",
    "### Flags Parameters</h1> <a href=\"https://github.com/Mubeen-Ahmad/python_11/blob/main/Python/Regular%20Expression/1_compile.ipynb\">click here</a>\n",
    "\n",
    "<br>\n"
   ]
  },
  {
   "cell_type": "markdown",
   "id": "91e4ef55",
   "metadata": {},
   "source": [
    "# Differences"
   ]
  },
  {
   "cell_type": "markdown",
   "id": "19422a41",
   "metadata": {},
   "source": [
    "- ### match()"
   ]
  },
  {
   "cell_type": "code",
   "execution_count": 59,
   "id": "ec4b44fb",
   "metadata": {},
   "outputs": [
    {
     "name": "stdout",
     "output_type": "stream",
     "text": [
      "None\n"
     ]
    }
   ],
   "source": [
    "string = \"Hello, world!\"\n",
    "\n",
    "pattern = re.compile(r\"world\")\n",
    "print(pattern.match(string))"
   ]
  },
  {
   "cell_type": "code",
   "execution_count": 60,
   "id": "92e31708",
   "metadata": {},
   "outputs": [
    {
     "name": "stdout",
     "output_type": "stream",
     "text": [
      "None\n"
     ]
    }
   ],
   "source": [
    "string = \"Hello, world!\"\n",
    "\n",
    "pattern = re.compile(r\", world!\")\n",
    "print(pattern.match(string))"
   ]
  },
  {
   "cell_type": "code",
   "execution_count": 61,
   "id": "9283d421",
   "metadata": {},
   "outputs": [
    {
     "name": "stdout",
     "output_type": "stream",
     "text": [
      "None\n"
     ]
    }
   ],
   "source": [
    "string = \"Hello, world!\"\n",
    "\n",
    "pattern = re.compile(r\"Hello world!\")\n",
    "print(pattern.match(string))"
   ]
  },
  {
   "cell_type": "code",
   "execution_count": 63,
   "id": "cb61a376",
   "metadata": {},
   "outputs": [
    {
     "name": "stdout",
     "output_type": "stream",
     "text": [
      "<re.Match object; span=(0, 5), match='Hello'>\n"
     ]
    }
   ],
   "source": [
    "string = \"Hello, world!\"\n",
    "\n",
    "pattern = re.compile(r\"Hello\")\n",
    "print(pattern.match(string))"
   ]
  },
  {
   "cell_type": "markdown",
   "id": "08aa3cf4",
   "metadata": {},
   "source": [
    "- ### fullmatch()"
   ]
  },
  {
   "cell_type": "code",
   "execution_count": 55,
   "id": "62988bc8",
   "metadata": {},
   "outputs": [
    {
     "name": "stdout",
     "output_type": "stream",
     "text": [
      "None\n"
     ]
    }
   ],
   "source": [
    "string = \"Hello world!\"\n",
    "pattern = re.compile(r\"Hello\")\n",
    "print(pattern.fullmatch(string))"
   ]
  },
  {
   "cell_type": "code",
   "execution_count": 56,
   "id": "ab414b6d",
   "metadata": {},
   "outputs": [
    {
     "name": "stdout",
     "output_type": "stream",
     "text": [
      "None\n"
     ]
    }
   ],
   "source": [
    "string = \"Hello world!\"\n",
    "pattern = re.compile(r\"world!\")\n",
    "print(pattern.fullmatch(string))"
   ]
  },
  {
   "cell_type": "code",
   "execution_count": 57,
   "id": "35b7d50d",
   "metadata": {},
   "outputs": [
    {
     "name": "stdout",
     "output_type": "stream",
     "text": [
      "<re.Match object; span=(0, 12), match='Hello world!'>\n"
     ]
    }
   ],
   "source": [
    "string = \"Hello world!\"\n",
    "pattern = re.compile(r\"Hello world!\")\n",
    "print(pattern.fullmatch(string))"
   ]
  },
  {
   "cell_type": "markdown",
   "id": "9fad6711",
   "metadata": {},
   "source": [
    "## To summarize, the main difference between re.match() and re.fullmatch() is:\n",
    "<br>\n",
    "\n",
    "- ### re.match() checks if the pattern matches at the beginning of the string.\n",
    "<br>\n",
    "\n",
    "- ### re.fullmatch() checks if the pattern matches the entire string from start to end."
   ]
  },
  {
   "cell_type": "markdown",
   "id": "b0aef121",
   "metadata": {},
   "source": [
    "<br>\n",
    "\n",
    "# Attributes and methods"
   ]
  },
  {
   "cell_type": "code",
   "execution_count": 73,
   "id": "cb11ca22",
   "metadata": {},
   "outputs": [
    {
     "name": "stdout",
     "output_type": "stream",
     "text": [
      "<re.Match object; span=(0, 12), match='Mubeen Ahmad'>\n"
     ]
    }
   ],
   "source": [
    "string = \"Mubeen Ahmad\"\n",
    "pattern = re.compile(r\"Mubeen Ahmad\")\n",
    "\n",
    "print(pattern.match(string))"
   ]
  },
  {
   "cell_type": "markdown",
   "id": "358d8b19",
   "metadata": {},
   "source": [
    "# start()\n",
    "- ### return the no of starting"
   ]
  },
  {
   "cell_type": "code",
   "execution_count": 71,
   "id": "aa2f083e",
   "metadata": {},
   "outputs": [
    {
     "name": "stdout",
     "output_type": "stream",
     "text": [
      "0\n"
     ]
    }
   ],
   "source": [
    "print(pattern.match(string).start()) "
   ]
  },
  {
   "cell_type": "markdown",
   "id": "61d70f1a",
   "metadata": {},
   "source": [
    "# end()\n",
    "- ### return the no of ending"
   ]
  },
  {
   "cell_type": "code",
   "execution_count": 75,
   "id": "6561c256",
   "metadata": {},
   "outputs": [
    {
     "name": "stdout",
     "output_type": "stream",
     "text": [
      "12\n"
     ]
    }
   ],
   "source": [
    "print(pattern.match(string).end()) "
   ]
  },
  {
   "cell_type": "markdown",
   "id": "f9a3ef46",
   "metadata": {},
   "source": [
    "# pos()\n",
    "- ### return the no of position"
   ]
  },
  {
   "cell_type": "code",
   "execution_count": 77,
   "id": "4fb02e15",
   "metadata": {},
   "outputs": [
    {
     "name": "stdout",
     "output_type": "stream",
     "text": [
      "0\n"
     ]
    }
   ],
   "source": [
    "print(pattern.match(string).pos) "
   ]
  },
  {
   "cell_type": "markdown",
   "id": "7d6bd53e",
   "metadata": {},
   "source": [
    "# endpos()\n",
    "- ### return the no of end position"
   ]
  },
  {
   "cell_type": "code",
   "execution_count": 79,
   "id": "f5b701b5",
   "metadata": {},
   "outputs": [
    {
     "name": "stdout",
     "output_type": "stream",
     "text": [
      "12\n"
     ]
    }
   ],
   "source": [
    "print(pattern.match(string).endpos) "
   ]
  },
  {
   "cell_type": "markdown",
   "id": "cc4f6537",
   "metadata": {},
   "source": [
    "# expandpos()\n",
    "- ### used to perform substitution based on back-references. "
   ]
  },
  {
   "cell_type": "code",
   "execution_count": 148,
   "id": "9a9c62a5",
   "metadata": {},
   "outputs": [
    {
     "name": "stdout",
     "output_type": "stream",
     "text": [
      "<re.Match object; span=(0, 6), match='aaabbb'>\n"
     ]
    }
   ],
   "source": [
    "\n",
    "pattern = re.compile(r\"(a+)(b+)\")\n",
    "string = \"aaabbb\"\n",
    "\n",
    "match = pattern.match(string)\n",
    "\n",
    "print(match)"
   ]
  },
  {
   "cell_type": "code",
   "execution_count": 123,
   "id": "ca470252",
   "metadata": {},
   "outputs": [
    {
     "name": "stdout",
     "output_type": "stream",
     "text": [
      "aaa\n"
     ]
    }
   ],
   "source": [
    "print(match.expand(r\"\\1\"))"
   ]
  },
  {
   "cell_type": "code",
   "execution_count": 124,
   "id": "b684b618",
   "metadata": {},
   "outputs": [
    {
     "name": "stdout",
     "output_type": "stream",
     "text": [
      "bbb\n"
     ]
    }
   ],
   "source": [
    "print(match.expand(r\"\\2\"))"
   ]
  },
  {
   "cell_type": "code",
   "execution_count": 117,
   "id": "89495ec9",
   "metadata": {},
   "outputs": [
    {
     "name": "stdout",
     "output_type": "stream",
     "text": [
      "bbbaaa\n"
     ]
    }
   ],
   "source": [
    "print(match.expand(r\"\\2\\1\"))"
   ]
  },
  {
   "cell_type": "markdown",
   "id": "517bd24d",
   "metadata": {},
   "source": [
    "# lastindex()\n",
    "<br>\n",
    "\n",
    "- ### lastindex attribute is only applicable to match objects obtained from functions like re.match() or re.search(), and it provides the index of the last capturing group that participated in the match."
   ]
  },
  {
   "cell_type": "code",
   "execution_count": 149,
   "id": "513baaac",
   "metadata": {},
   "outputs": [
    {
     "data": {
      "text/plain": [
       "<re.Match object; span=(0, 6), match='aaabbb'>"
      ]
     },
     "execution_count": 149,
     "metadata": {},
     "output_type": "execute_result"
    }
   ],
   "source": [
    "match"
   ]
  },
  {
   "cell_type": "code",
   "execution_count": 150,
   "id": "08b731ba",
   "metadata": {},
   "outputs": [
    {
     "data": {
      "text/plain": [
       "2"
      ]
     },
     "execution_count": 150,
     "metadata": {},
     "output_type": "execute_result"
    }
   ],
   "source": [
    "match.lastindex"
   ]
  },
  {
   "cell_type": "code",
   "execution_count": 151,
   "id": "0343d2aa",
   "metadata": {},
   "outputs": [
    {
     "data": {
      "text/plain": [
       "<re.Match object; span=(0, 6), match='aaabbb'>"
      ]
     },
     "execution_count": 151,
     "metadata": {},
     "output_type": "execute_result"
    }
   ],
   "source": [
    "match"
   ]
  },
  {
   "cell_type": "markdown",
   "id": "3fcdea33",
   "metadata": {},
   "source": [
    "# groupdict()\n",
    "<br>\n",
    "\n",
    "- ### groupdict() method on the match object, it returns an empty dictionary since there are no named groups.\n"
   ]
  },
  {
   "cell_type": "code",
   "execution_count": 177,
   "id": "689dde07",
   "metadata": {},
   "outputs": [
    {
     "data": {
      "text/plain": [
       "<re.Match object; span=(0, 7), match='John 30'>"
      ]
     },
     "execution_count": 177,
     "metadata": {},
     "output_type": "execute_result"
    }
   ],
   "source": [
    "pattern = r\"(?P<name>\\w+)\\s+(?P<age>\\d+)\"\n",
    "string = \"John 30\"\n",
    "\n",
    "pattern = re.compile(r\"(?P<name>\\w+)\\s+(?P<age>\\d+)\")\n",
    "\n",
    "pattern.match(string)"
   ]
  },
  {
   "cell_type": "code",
   "execution_count": 181,
   "id": "75babf46",
   "metadata": {},
   "outputs": [
    {
     "data": {
      "text/plain": [
       "{'name': 'John', 'age': '30'}"
      ]
     },
     "execution_count": 181,
     "metadata": {},
     "output_type": "execute_result"
    }
   ],
   "source": [
    "pattern.match(string).groupdict()"
   ]
  },
  {
   "cell_type": "markdown",
   "id": "336b25dd",
   "metadata": {},
   "source": [
    "# group\n",
    "\n",
    "- ### return the group names\n"
   ]
  },
  {
   "cell_type": "code",
   "execution_count": 201,
   "id": "6f905d10",
   "metadata": {},
   "outputs": [
    {
     "data": {
      "text/plain": [
       "'John 30'"
      ]
     },
     "execution_count": 201,
     "metadata": {},
     "output_type": "execute_result"
    }
   ],
   "source": [
    "pattern.match(string).group()"
   ]
  },
  {
   "cell_type": "markdown",
   "id": "858ac134",
   "metadata": {},
   "source": [
    "# groups\n",
    "\n",
    "- ### return the groups names seperated\n"
   ]
  },
  {
   "cell_type": "code",
   "execution_count": 208,
   "id": "a68da5a1",
   "metadata": {},
   "outputs": [
    {
     "data": {
      "text/plain": [
       "('John', '30')"
      ]
     },
     "execution_count": 208,
     "metadata": {},
     "output_type": "execute_result"
    }
   ],
   "source": [
    "pattern.match(string).groups()"
   ]
  },
  {
   "cell_type": "markdown",
   "id": "1b8e81f4",
   "metadata": {},
   "source": [
    "# re\n",
    "- ### return the pattern that are used"
   ]
  },
  {
   "cell_type": "code",
   "execution_count": 211,
   "id": "2ae60d90",
   "metadata": {},
   "outputs": [
    {
     "data": {
      "text/plain": [
       "re.compile(r'(?P<name>\\w+)\\s+(?P<age>\\d+)', re.UNICODE)"
      ]
     },
     "execution_count": 211,
     "metadata": {},
     "output_type": "execute_result"
    }
   ],
   "source": [
    "pattern.match(string).re"
   ]
  },
  {
   "cell_type": "markdown",
   "id": "c6d158cf",
   "metadata": {},
   "source": [
    "# regs\n",
    "- ### return the start and end positions of the matched substrings and capturing groups within the input string."
   ]
  },
  {
   "cell_type": "code",
   "execution_count": 214,
   "id": "241527c3",
   "metadata": {},
   "outputs": [
    {
     "data": {
      "text/plain": [
       "((0, 7), (0, 4), (5, 7))"
      ]
     },
     "execution_count": 214,
     "metadata": {},
     "output_type": "execute_result"
    }
   ],
   "source": [
    "pattern.match(string).regs"
   ]
  },
  {
   "cell_type": "code",
   "execution_count": 215,
   "id": "3ff3e99a",
   "metadata": {},
   "outputs": [
    {
     "data": {
      "text/plain": [
       "'John 30'"
      ]
     },
     "execution_count": 215,
     "metadata": {},
     "output_type": "execute_result"
    }
   ],
   "source": [
    "string[0:7]  # all string"
   ]
  },
  {
   "cell_type": "code",
   "execution_count": 216,
   "id": "982ce713",
   "metadata": {},
   "outputs": [
    {
     "data": {
      "text/plain": [
       "'John'"
      ]
     },
     "execution_count": 216,
     "metadata": {},
     "output_type": "execute_result"
    }
   ],
   "source": [
    "string[0:4] # group 1"
   ]
  },
  {
   "cell_type": "code",
   "execution_count": 217,
   "id": "15fafc88",
   "metadata": {},
   "outputs": [
    {
     "data": {
      "text/plain": [
       "'30'"
      ]
     },
     "execution_count": 217,
     "metadata": {},
     "output_type": "execute_result"
    }
   ],
   "source": [
    "string[5:7] # end group"
   ]
  },
  {
   "cell_type": "markdown",
   "id": "a66ac2c4",
   "metadata": {},
   "source": [
    "# span\n",
    "- ### returns a tuple containing the start and end positions of the matched substring within the input string"
   ]
  },
  {
   "cell_type": "code",
   "execution_count": 219,
   "id": "1c4f9c81",
   "metadata": {},
   "outputs": [
    {
     "data": {
      "text/plain": [
       "<re.Match object; span=(0, 7), match='John 30'>"
      ]
     },
     "execution_count": 219,
     "metadata": {},
     "output_type": "execute_result"
    }
   ],
   "source": [
    "pattern.match(string)"
   ]
  },
  {
   "cell_type": "code",
   "execution_count": 233,
   "id": "64cb6f4f",
   "metadata": {},
   "outputs": [
    {
     "data": {
      "text/plain": [
       "(0, 7)"
      ]
     },
     "execution_count": 233,
     "metadata": {},
     "output_type": "execute_result"
    }
   ],
   "source": [
    "pattern.match(string).span()"
   ]
  },
  {
   "cell_type": "markdown",
   "id": "e35f53ff",
   "metadata": {},
   "source": [
    "# string\n",
    "- ### return the string that use in regex"
   ]
  },
  {
   "cell_type": "code",
   "execution_count": 236,
   "id": "b13c15b3",
   "metadata": {},
   "outputs": [
    {
     "data": {
      "text/plain": [
       "'John 30'"
      ]
     },
     "execution_count": 236,
     "metadata": {},
     "output_type": "execute_result"
    }
   ],
   "source": [
    "pattern.match(string).string"
   ]
  },
  {
   "cell_type": "markdown",
   "id": "aab251e3",
   "metadata": {},
   "source": [
    "# lastgroup\n",
    "- ### return the last group"
   ]
  },
  {
   "cell_type": "code",
   "execution_count": 239,
   "id": "0d07899c",
   "metadata": {},
   "outputs": [
    {
     "data": {
      "text/plain": [
       "<re.Match object; span=(0, 5), match='Hello'>"
      ]
     },
     "execution_count": 239,
     "metadata": {},
     "output_type": "execute_result"
    }
   ],
   "source": [
    "pattern = re.compile(r\"\\b(?P<word>\\w+)\\b\")\n",
    "string = \"Hello world!\"\n",
    "pattern.match(string)"
   ]
  },
  {
   "cell_type": "code",
   "execution_count": 240,
   "id": "26ddcbc7",
   "metadata": {},
   "outputs": [
    {
     "data": {
      "text/plain": [
       "'word'"
      ]
     },
     "execution_count": 240,
     "metadata": {},
     "output_type": "execute_result"
    }
   ],
   "source": [
    "pattern.match(string).lastgroup"
   ]
  }
 ],
 "metadata": {
  "kernelspec": {
   "display_name": "Python 3 (ipykernel)",
   "language": "python",
   "name": "python3"
  },
  "language_info": {
   "codemirror_mode": {
    "name": "ipython",
    "version": 3
   },
   "file_extension": ".py",
   "mimetype": "text/x-python",
   "name": "python",
   "nbconvert_exporter": "python",
   "pygments_lexer": "ipython3",
   "version": "3.10.6"
  }
 },
 "nbformat": 4,
 "nbformat_minor": 5
}

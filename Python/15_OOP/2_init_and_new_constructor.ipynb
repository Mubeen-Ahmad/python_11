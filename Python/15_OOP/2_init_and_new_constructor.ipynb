{
 "cells": [
  {
   "cell_type": "markdown",
   "id": "6e0ab304",
   "metadata": {},
   "source": [
    "# KeyPoints\n",
    "<br>\n",
    "\n",
    "<h3 style=\"color:#4e2abd;\">\n",
    "\n",
    "• What is Constructor<br>\n",
    ". Object Creaction V/S Object Creation <br>\n",
    ". init V/S new Constructor <br>\n",
    ". What happend if we used both init and new Constructor <br>\n",
    ". Types of Constructor <br>\n",
    ". Add Constructor Outside the class <br>\n",
    ". What happend if define multiples same Constructor<br>\n",
    "</h3>"
   ]
  },
  {
   "cell_type": "markdown",
   "id": "b551ffe3",
   "metadata": {},
   "source": [
    "<h1>Constructor</h1><br>\n",
    "<h2>Constructor is a special method used to create and initialize an object of a class.</h2><br><br>\n",
    "<h3 style=\"color:#4e2abd;\">\n",
    "• The constructor is executed automatically at the time of object creation.<br><br>• The primary use of a constructor is to declare and initialize data member/ instance variables of a class.<br><br>• The constructor contains a collection of statements (i.e., instructions) that executes at the time of object creation to initialize the attributes of an object.<br><br><br>In Python, Object creation is divided into two parts.<br><br>• Object Creation<br>• Object initialization</h3>"
   ]
  },
  {
   "cell_type": "markdown",
   "id": "20ae2595",
   "metadata": {},
   "source": [
    "# Example of Object Creation and Initialization"
   ]
  },
  {
   "cell_type": "code",
   "execution_count": 5,
   "id": "98405fd0",
   "metadata": {},
   "outputs": [],
   "source": [
    "class Student:\n",
    "\n",
    "    # __init__ constructor\n",
    "    # initialize instance variable\n",
    "    def __init__(self, name):\n",
    "        print('Inside Constructor')\n",
    "        self.name = name\n",
    "        print('All variables initialized')\n",
    "\n",
    "    # instance Method\n",
    "    def show(self):\n",
    "        print('Hello, my name is', self.name)\n"
   ]
  },
  {
   "cell_type": "code",
   "execution_count": 8,
   "id": "5692fb78",
   "metadata": {},
   "outputs": [
    {
     "name": "stdout",
     "output_type": "stream",
     "text": [
      "Inside Constructor\n",
      "All variables initialized\n"
     ]
    }
   ],
   "source": [
    "# create object using constructor\n",
    "s1 = Student('Mubeen')\n",
    "# __init__ method automatically call itself"
   ]
  },
  {
   "cell_type": "code",
   "execution_count": 9,
   "id": "9084d683",
   "metadata": {},
   "outputs": [
    {
     "name": "stdout",
     "output_type": "stream",
     "text": [
      "Hello, my name is Mubeen\n"
     ]
    }
   ],
   "source": [
    "# call show method\n",
    "s1.show()"
   ]
  },
  {
   "cell_type": "markdown",
   "id": "9c17f1d3",
   "metadata": {},
   "source": [
    "<img src=\"../../images/creat.jpg\" style=\"display: block;margin-left: auto;margin-right: auto; width: 50%;\"><img src=\"../../images/note.png\" style=\"display: block;margin-left: auto;margin-right: auto; width: 50%;\">"
   ]
  },
  {
   "cell_type": "markdown",
   "id": "a69dff84",
   "metadata": {},
   "source": [
    "# `__init__` V/S `__new__` Constructor\n",
    "<br><br>"
   ]
  },
  {
   "cell_type": "markdown",
   "id": "834fdf8f",
   "metadata": {},
   "source": [
    "\n",
    "<h3 style=\"color:#4e2abd;\">__new__ method returns new instance to called class.</h3>"
   ]
  },
  {
   "cell_type": "code",
   "execution_count": 19,
   "id": "141ac217",
   "metadata": {},
   "outputs": [],
   "source": [
    "class Person:\n",
    "    # use cls argument only for convention\n",
    "    def __new__(cls):\n",
    "        return \"Mubeen\"\n"
   ]
  },
  {
   "cell_type": "code",
   "execution_count": 14,
   "id": "18ee4e52",
   "metadata": {},
   "outputs": [
    {
     "name": "stdout",
     "output_type": "stream",
     "text": [
      "Mubeen\n"
     ]
    }
   ],
   "source": [
    "p1 = Person()\n",
    "print(p1)"
   ]
  },
  {
   "cell_type": "markdown",
   "id": "d1454e45",
   "metadata": {},
   "source": [
    "\n",
    "<h3 style=\"color:#4e2abd;\"> __init__ method does not return anything.</h3>"
   ]
  },
  {
   "cell_type": "code",
   "execution_count": 17,
   "id": "479efcd1",
   "metadata": {},
   "outputs": [],
   "source": [
    "class Person:\n",
    "    \n",
    "    def __init__(self):\n",
    "        return \"Mubeen\"\n"
   ]
  },
  {
   "cell_type": "code",
   "execution_count": 16,
   "id": "4bbe2bde",
   "metadata": {},
   "outputs": [
    {
     "ename": "TypeError",
     "evalue": "__init__() should return None, not 'str'",
     "output_type": "error",
     "traceback": [
      "\u001b[0;31m---------------------------------------------------------------------------\u001b[0m",
      "\u001b[0;31mTypeError\u001b[0m                                 Traceback (most recent call last)",
      "Cell \u001b[0;32mIn [16], line 1\u001b[0m\n\u001b[0;32m----> 1\u001b[0m p1 \u001b[38;5;241m=\u001b[39m \u001b[43mPerson\u001b[49m\u001b[43m(\u001b[49m\u001b[43m)\u001b[49m\n\u001b[1;32m      2\u001b[0m \u001b[38;5;28mprint\u001b[39m(p1)\n",
      "\u001b[0;31mTypeError\u001b[0m: __init__() should return None, not 'str'"
     ]
    }
   ],
   "source": [
    "p1 = Person()\n",
    "print(p1)"
   ]
  },
  {
   "cell_type": "markdown",
   "id": "483bb244",
   "metadata": {},
   "source": [
    "\n",
    "<h3 style=\"color:#4e2abd;\">__new__ method is a static class method<br><br>__new__ method accepts cls type as first parameter. ( as a Convention ) </h3>"
   ]
  },
  {
   "cell_type": "code",
   "execution_count": 21,
   "id": "48dfb9da",
   "metadata": {},
   "outputs": [
    {
     "name": "stdout",
     "output_type": "stream",
     "text": [
      "Mubeen\n"
     ]
    }
   ],
   "source": [
    "class Person:\n",
    "    \n",
    "    def __new__(cls):\n",
    "        print(\"Mubeen\")\n",
    "        \n",
    "obj1 = Person()"
   ]
  },
  {
   "cell_type": "markdown",
   "id": "1cbf943d",
   "metadata": {},
   "source": [
    "<h3 style=\"color:#4e2abd;\">__init__ method accepts self type as first parameter. ( as a Convention ) </h3>"
   ]
  },
  {
   "cell_type": "code",
   "execution_count": 22,
   "id": "b68b9a75",
   "metadata": {},
   "outputs": [
    {
     "name": "stdout",
     "output_type": "stream",
     "text": [
      "Mubeen\n"
     ]
    }
   ],
   "source": [
    "class Person:\n",
    "    \n",
    "    def __init__(self):\n",
    "        print(\"Mubeen\")\n",
    "        \n",
    "obj1 = Person()"
   ]
  },
  {
   "cell_type": "markdown",
   "id": "d23293d8",
   "metadata": {},
   "source": [
    "<h3 style=\"color:#4e2abd;\">If we are used both __init__ and __new__ constructor than first execute __new__ constructor</h3>"
   ]
  },
  {
   "cell_type": "code",
   "execution_count": 48,
   "id": "7835a369",
   "metadata": {},
   "outputs": [
    {
     "name": "stdout",
     "output_type": "stream",
     "text": [
      "im __new__\n"
     ]
    }
   ],
   "source": [
    "class Person:\n",
    "    \n",
    "    def __init__(self):\n",
    "        print(\"im __init__\")\n",
    "        \n",
    "    def __new__(cls):\n",
    "        print(\"im __new__\")\n",
    "\n",
    "obj1 = Person()"
   ]
  },
  {
   "cell_type": "markdown",
   "id": "3ba2e25c",
   "metadata": {},
   "source": [
    "# but we can call new and init with obj "
   ]
  },
  {
   "cell_type": "code",
   "execution_count": 53,
   "id": "55546b98",
   "metadata": {},
   "outputs": [
    {
     "name": "stdout",
     "output_type": "stream",
     "text": [
      "im __init__\n"
     ]
    }
   ],
   "source": [
    "# select init\n",
    "obj2 = Person.__init__(None)"
   ]
  },
  {
   "cell_type": "code",
   "execution_count": 54,
   "id": "7d00f397",
   "metadata": {},
   "outputs": [
    {
     "name": "stdout",
     "output_type": "stream",
     "text": [
      "im __new__\n"
     ]
    }
   ],
   "source": [
    "# select new\n",
    "obj2 = Person.__new__(None)"
   ]
  },
  {
   "cell_type": "markdown",
   "id": "6f733cc8",
   "metadata": {},
   "source": [
    "# Types of Constructors\n",
    "<br>\n",
    "\n",
    "## In Python, we have the following three types of constructors.\n",
    "<br>\n",
    "\n",
    "* ## Default Constructor\n",
    "* ## Non-parametrized constructor\n",
    "* ## Parameterized constructor\n",
    "\n",
    "<br>\n",
    "\n",
    "<img src=\"../../images/ts.jpg\" style=\"display: block;margin-left: auto;margin-right: auto; width: 80%;\">"
   ]
  },
  {
   "cell_type": "markdown",
   "id": "f5d02d18",
   "metadata": {},
   "source": [
    "# Default Constructor\n",
    "<br>\n",
    "\n",
    "* ### Python will provide a default constructor if no constructor is defined. \n",
    "<br>\n",
    "\n",
    "* ### Python adds a default constructor when we do not include the constructor in the class or forget to declare it. \n",
    "<br>\n",
    "\n",
    "* ### It does not perform any task but initializes the objects. It is an empty constructor without a body.\n",
    "<br><br>\n",
    "\n",
    "* ### If you do not implement any constructor in your class or forget to declare it, the Python inserts a default constructor into your code on your behalf. This constructor is known as the default constructor.\n",
    "<br>\n",
    "\n",
    "* ### It does not perform any task but initializes the objects. It is an empty constructor without a body."
   ]
  },
  {
   "cell_type": "code",
   "execution_count": 1,
   "id": "f785f7de",
   "metadata": {},
   "outputs": [
    {
     "name": "stdout",
     "output_type": "stream",
     "text": [
      "Inside Display\n"
     ]
    }
   ],
   "source": [
    "class Employee:\n",
    "    \n",
    "    # in default constructer are here\n",
    "\n",
    "    def display(self):\n",
    "        print('Inside Display')\n",
    "\n",
    "emp = Employee()\n",
    "emp.display()\n"
   ]
  },
  {
   "cell_type": "markdown",
   "id": "4d140edc",
   "metadata": {},
   "source": [
    "# Parameterized Constructor\n",
    "<br><br>\n",
    "\n",
    "* ### A constructor with defined parameters or arguments is called a parameterized constructor. \n",
    "<br><br>\n",
    "\n",
    "* ### We can pass different values to each object at the time of creation using a parameterized constructor.\n"
   ]
  },
  {
   "cell_type": "code",
   "execution_count": 2,
   "id": "b28ff3eb",
   "metadata": {},
   "outputs": [],
   "source": [
    "class Person:\n",
    "    \n",
    "    # parameterized constructor\n",
    "    \n",
    "    def __init__(self, name, age, salary):\n",
    "        \n",
    "        self.name = name\n",
    "        self.age = age\n",
    "        self.salary = salary\n",
    "\n",
    "    \n",
    "    # display object\n",
    "    def show(self):\n",
    "        print(self.name, self.age, self.salary)\n",
    "\n"
   ]
  },
  {
   "cell_type": "code",
   "execution_count": 3,
   "id": "1010175f",
   "metadata": {},
   "outputs": [
    {
     "name": "stdout",
     "output_type": "stream",
     "text": [
      "Ali 99 7500\n"
     ]
    }
   ],
   "source": [
    "# creating object of the Employee class\n",
    "ali = Person('Ali', 99, 7500)\n",
    "ali.show()"
   ]
  },
  {
   "cell_type": "code",
   "execution_count": 4,
   "id": "e42ca968",
   "metadata": {},
   "outputs": [
    {
     "name": "stdout",
     "output_type": "stream",
     "text": [
      "Rizwan 25 8500\n"
     ]
    }
   ],
   "source": [
    "Rizwan = Person('Rizwan', 25, 8500)\n",
    "Rizwan.show()"
   ]
  },
  {
   "cell_type": "markdown",
   "id": "ba3b6ad4",
   "metadata": {},
   "source": [
    "# Default Value in Constructor"
   ]
  },
  {
   "cell_type": "code",
   "execution_count": 5,
   "id": "27310b7f",
   "metadata": {},
   "outputs": [],
   "source": [
    "class Person:\n",
    "    \n",
    "    def __init__(self,name=\"Anon\"):\n",
    "        self.name = name\n",
    "    \n",
    "    def show(self):\n",
    "        print(self.name)"
   ]
  },
  {
   "cell_type": "code",
   "execution_count": 6,
   "id": "30bdfae0",
   "metadata": {},
   "outputs": [
    {
     "name": "stdout",
     "output_type": "stream",
     "text": [
      "Anon\n"
     ]
    }
   ],
   "source": [
    "p1 = Person()\n",
    "p1.show()"
   ]
  },
  {
   "cell_type": "markdown",
   "id": "c6c3a563",
   "metadata": {},
   "source": [
    "# Add Constructor Outside the Class"
   ]
  },
  {
   "cell_type": "code",
   "execution_count": 8,
   "id": "51d8010d",
   "metadata": {},
   "outputs": [],
   "source": [
    "class Person:\n",
    "    pass\n",
    "    "
   ]
  },
  {
   "cell_type": "code",
   "execution_count": 9,
   "id": "621833b9",
   "metadata": {},
   "outputs": [
    {
     "ename": "TypeError",
     "evalue": "Person() takes no arguments",
     "output_type": "error",
     "traceback": [
      "\u001b[0;31m---------------------------------------------------------------------------\u001b[0m",
      "\u001b[0;31mTypeError\u001b[0m                                 Traceback (most recent call last)",
      "Cell \u001b[0;32mIn [9], line 1\u001b[0m\n\u001b[0;32m----> 1\u001b[0m p1 \u001b[38;5;241m=\u001b[39m \u001b[43mPerson\u001b[49m\u001b[43m(\u001b[49m\u001b[38;5;124;43m\"\u001b[39;49m\u001b[38;5;124;43mMubeen\u001b[39;49m\u001b[38;5;124;43m\"\u001b[39;49m\u001b[43m)\u001b[49m\n",
      "\u001b[0;31mTypeError\u001b[0m: Person() takes no arguments"
     ]
    }
   ],
   "source": [
    "p1 = Person(\"Mubeen\")"
   ]
  },
  {
   "cell_type": "code",
   "execution_count": 32,
   "id": "8b90aa0c",
   "metadata": {},
   "outputs": [],
   "source": [
    "# now add constructor\n",
    "\n",
    "def __init__(self,name):\n",
    "    print(name)\n"
   ]
  },
  {
   "cell_type": "code",
   "execution_count": 33,
   "id": "a4f34649",
   "metadata": {},
   "outputs": [],
   "source": [
    "import types\n",
    "Person = types.MethodType(__init__,Person)"
   ]
  },
  {
   "cell_type": "code",
   "execution_count": 34,
   "id": "717d8d14",
   "metadata": {},
   "outputs": [
    {
     "name": "stdout",
     "output_type": "stream",
     "text": [
      "Mubeen\n"
     ]
    }
   ],
   "source": [
    "p1 = Person(\"Mubeen\")"
   ]
  },
  {
   "cell_type": "markdown",
   "id": "d2691725",
   "metadata": {},
   "source": [
    "# Mulitple Constructor in  one Class"
   ]
  },
  {
   "cell_type": "code",
   "execution_count": 36,
   "id": "c04a9eb6",
   "metadata": {},
   "outputs": [],
   "source": [
    "class Cls:\n",
    "    \n",
    "    def __init__(self):\n",
    "        print(\"First Constructor\")\n",
    "        \n",
    "    def __init__(self):\n",
    "        print(\"Second Constructor\")\n",
    "        \n",
    "    def __init__(self):\n",
    "        print(\"Third Constructor\")\n"
   ]
  },
  {
   "cell_type": "code",
   "execution_count": 39,
   "id": "8eab6f88",
   "metadata": {},
   "outputs": [
    {
     "name": "stdout",
     "output_type": "stream",
     "text": [
      "Third Constructor\n"
     ]
    }
   ],
   "source": [
    "obj = Cls()\n",
    "# class call last constructor"
   ]
  },
  {
   "cell_type": "markdown",
   "id": "fe3321fe",
   "metadata": {},
   "source": []
  }
 ],
 "metadata": {
  "kernelspec": {
   "display_name": "Python 3 (ipykernel)",
   "language": "python",
   "name": "python3"
  },
  "language_info": {
   "codemirror_mode": {
    "name": "ipython",
    "version": 3
   },
   "file_extension": ".py",
   "mimetype": "text/x-python",
   "name": "python",
   "nbconvert_exporter": "python",
   "pygments_lexer": "ipython3",
   "version": "3.10.6"
  }
 },
 "nbformat": 4,
 "nbformat_minor": 5
}

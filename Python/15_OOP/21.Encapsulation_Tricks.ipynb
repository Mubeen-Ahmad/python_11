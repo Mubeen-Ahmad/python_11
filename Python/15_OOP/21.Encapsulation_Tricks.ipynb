{
 "cells": [
  {
   "cell_type": "markdown",
   "id": "862612ab",
   "metadata": {},
   "source": [
    "# In Python We access private variables but there is the concept of getter and setter to check the user conditions and add additional functionality"
   ]
  },
  {
   "cell_type": "markdown",
   "id": "0ed6e51f",
   "metadata": {},
   "source": [
    "<h1><br><br><a href=\"https://github.com/Mubeen-Ahmad/python_11/blob/main/Python/15_OOP/10_property_decorator.ipynb\">Read This Topic Getter,and, Setter etc</a><br></h1>"
   ]
  },
  {
   "cell_type": "code",
   "execution_count": 1,
   "id": "9903c300",
   "metadata": {},
   "outputs": [],
   "source": [
    "class Model:\n",
    "    \n",
    "    __conf = 0.5 \n",
    "    \n",
    "    @property\n",
    "    def new(self):\n",
    "        pass\n",
    "    \n",
    "    @new.setter\n",
    "    def change_conf(self,new):\n",
    "        if type(new) == int:\n",
    "            self.__conf = new\n",
    "        else:\n",
    "            print(\"only int are allowed\")\n",
    "    \n",
    "    @new.getter    \n",
    "    def conf(self):\n",
    "        return self.__conf\n",
    "    \n"
   ]
  },
  {
   "cell_type": "code",
   "execution_count": 2,
   "id": "44e6702e",
   "metadata": {},
   "outputs": [],
   "source": [
    "obj = Model()"
   ]
  },
  {
   "cell_type": "code",
   "execution_count": 3,
   "id": "6f3e95ee",
   "metadata": {},
   "outputs": [
    {
     "data": {
      "text/plain": [
       "0.5"
      ]
     },
     "execution_count": 3,
     "metadata": {},
     "output_type": "execute_result"
    }
   ],
   "source": [
    "obj.conf"
   ]
  },
  {
   "cell_type": "code",
   "execution_count": 4,
   "id": "d3df5245",
   "metadata": {},
   "outputs": [],
   "source": [
    "obj.change_conf = 1"
   ]
  },
  {
   "cell_type": "code",
   "execution_count": 5,
   "id": "fa70b95b",
   "metadata": {},
   "outputs": [
    {
     "data": {
      "text/plain": [
       "1"
      ]
     },
     "execution_count": 5,
     "metadata": {},
     "output_type": "execute_result"
    }
   ],
   "source": [
    "obj.conf"
   ]
  },
  {
   "cell_type": "code",
   "execution_count": 6,
   "id": "51dfd893",
   "metadata": {},
   "outputs": [
    {
     "name": "stdout",
     "output_type": "stream",
     "text": [
      "only int are allowed\n"
     ]
    }
   ],
   "source": [
    "obj.change_conf = \"hello\""
   ]
  },
  {
   "cell_type": "code",
   "execution_count": 7,
   "id": "0a7c80f7",
   "metadata": {},
   "outputs": [
    {
     "data": {
      "text/plain": [
       "1"
      ]
     },
     "execution_count": 7,
     "metadata": {},
     "output_type": "execute_result"
    }
   ],
   "source": [
    "obj.conf"
   ]
  },
  {
   "cell_type": "markdown",
   "id": "a3981e53",
   "metadata": {},
   "source": [
    "## But We Are change variable with name mangling"
   ]
  },
  {
   "cell_type": "code",
   "execution_count": 8,
   "id": "b857746e",
   "metadata": {},
   "outputs": [],
   "source": [
    "obj._Model__conf = \"string\""
   ]
  },
  {
   "cell_type": "code",
   "execution_count": 9,
   "id": "8d3b9267",
   "metadata": {},
   "outputs": [
    {
     "data": {
      "text/plain": [
       "'string'"
      ]
     },
     "execution_count": 9,
     "metadata": {},
     "output_type": "execute_result"
    }
   ],
   "source": [
    "obj.conf"
   ]
  },
  {
   "cell_type": "code",
   "execution_count": 10,
   "id": "92108609",
   "metadata": {},
   "outputs": [
    {
     "data": {
      "text/plain": [
       "'string'"
      ]
     },
     "execution_count": 10,
     "metadata": {},
     "output_type": "execute_result"
    }
   ],
   "source": [
    "obj._Model__conf"
   ]
  },
  {
   "cell_type": "markdown",
   "id": "e8ea6ae2",
   "metadata": {},
   "source": [
    "# Use __getattribute__"
   ]
  },
  {
   "cell_type": "code",
   "execution_count": 17,
   "id": "0adc3bcf",
   "metadata": {},
   "outputs": [],
   "source": [
    "class Model:\n",
    "\n",
    "    # private Variable\n",
    "    __conf = 6\n",
    "\n",
    "    # public Variable\n",
    "    name = \"Mubeen\"\n",
    "\n",
    "    def __init__(self):\n",
    "        self.init_var = \"Hy\"\n",
    "\n",
    "    # instance methods\n",
    "    def get_name(self):\n",
    "        return \"I am Instance Method\"\n",
    "\n",
    "    def __getattribute__(self, item):\n",
    "        if item == f\"_{__class__.__name__}__conf\":\n",
    "             return \"Sorry Can't Access this private variable\"\n",
    "\n",
    "        # execute other code\n",
    "        else:\n",
    "            return object.__getattribute__(self,item)\n"
   ]
  },
  {
   "cell_type": "code",
   "execution_count": 18,
   "id": "6e0d0b52",
   "metadata": {},
   "outputs": [],
   "source": [
    "obj = Model()"
   ]
  },
  {
   "cell_type": "markdown",
   "id": "6f3d386a",
   "metadata": {},
   "source": [
    "# access method\n"
   ]
  },
  {
   "cell_type": "code",
   "execution_count": 19,
   "id": "bdc30590",
   "metadata": {},
   "outputs": [
    {
     "name": "stdout",
     "output_type": "stream",
     "text": [
      "I am Instance Method\n"
     ]
    }
   ],
   "source": [
    "print(obj.get_name())"
   ]
  },
  {
   "cell_type": "markdown",
   "id": "c1a77922",
   "metadata": {},
   "source": [
    "# access class variable\n"
   ]
  },
  {
   "cell_type": "code",
   "execution_count": 14,
   "id": "be68212a",
   "metadata": {},
   "outputs": [
    {
     "name": "stdout",
     "output_type": "stream",
     "text": [
      "Mubeen\n"
     ]
    }
   ],
   "source": [
    "print(obj.name)"
   ]
  },
  {
   "cell_type": "markdown",
   "id": "525ff158",
   "metadata": {},
   "source": [
    "# access instance variable\n"
   ]
  },
  {
   "cell_type": "code",
   "execution_count": 15,
   "id": "8e41438c",
   "metadata": {},
   "outputs": [
    {
     "name": "stdout",
     "output_type": "stream",
     "text": [
      "Hy\n"
     ]
    }
   ],
   "source": [
    "print(obj.init_var)"
   ]
  },
  {
   "cell_type": "markdown",
   "id": "85969ab7",
   "metadata": {},
   "source": [
    "# Now i try to access private variable\n"
   ]
  },
  {
   "cell_type": "code",
   "execution_count": 22,
   "id": "b63f40f8",
   "metadata": {},
   "outputs": [
    {
     "name": "stdout",
     "output_type": "stream",
     "text": [
      "Sorry Can't Access this private variable\n"
     ]
    }
   ],
   "source": [
    "print(obj._Model__conf)"
   ]
  }
 ],
 "metadata": {
  "kernelspec": {
   "display_name": "Python 3 (ipykernel)",
   "language": "python",
   "name": "python3"
  },
  "language_info": {
   "codemirror_mode": {
    "name": "ipython",
    "version": 3
   },
   "file_extension": ".py",
   "mimetype": "text/x-python",
   "name": "python",
   "nbconvert_exporter": "python",
   "pygments_lexer": "ipython3",
   "version": "3.10.6"
  }
 },
 "nbformat": 4,
 "nbformat_minor": 5
}

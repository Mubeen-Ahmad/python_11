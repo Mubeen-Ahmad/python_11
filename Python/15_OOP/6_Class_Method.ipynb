{
 "cells": [
  {
   "cell_type": "markdown",
   "id": "f44bb8aa",
   "metadata": {},
   "source": [
    "### In Object-oriented programming, Inside a Class, we can define the following three types of methods.\n",
    "\n",
    "<br>\n",
    "\n",
    "<img src=\"../../images/mtd.jpg\" style=\" display: block;\n",
    "  margin-left: auto;\n",
    "  margin-right: auto;\n",
    "  width: 50%; border-radius:10px 10px 10px 10px;\">"
   ]
  },
  {
   "cell_type": "markdown",
   "id": "e71375b0",
   "metadata": {},
   "source": [
    "# KeyPoints\n",
    "<br>\n",
    "\n",
    "<h3 style=\"color:#4e2abd;\">\n",
    "• What is class method <br>\n",
    ". @classmethod decoractor <br>\n",
    ". classmethod bulit-in function<br>\n",
    ". classmethod accept Class or instance object ?<br>\n",
    ". what is cls\n",
    "</h3>"
   ]
  },
  {
   "cell_type": "markdown",
   "id": "71ba19f5",
   "metadata": {},
   "source": [
    "# Class Methods\n",
    "<br>\n",
    "\n",
    "* ## A class method is bound to the class and not the object of the class. It can access only class variables.\n",
    "<br>\n",
    "\n",
    "* ## It can modify the class state by changing the value of a class variable that would apply across all the class objects.\n",
    "\n"
   ]
  },
  {
   "cell_type": "markdown",
   "id": "f2fc8089",
   "metadata": {},
   "source": [
    "## Example\n",
    "\n",
    "### trying to change class variable"
   ]
  },
  {
   "cell_type": "code",
   "execution_count": 4,
   "id": "6bdb3839",
   "metadata": {},
   "outputs": [],
   "source": [
    "class Person:\n",
    "    \n",
    "    # class variable\n",
    "    name = \"Mubeen\"\n",
    "    \n",
    "    # instance method\n",
    "    def show(cls):\n",
    "        cls.name = \"Ali\"\n",
    "        print(cls.name)"
   ]
  },
  {
   "cell_type": "code",
   "execution_count": 5,
   "id": "d91c9148",
   "metadata": {},
   "outputs": [],
   "source": [
    "obj = Person()"
   ]
  },
  {
   "cell_type": "code",
   "execution_count": 7,
   "id": "deba077a",
   "metadata": {},
   "outputs": [
    {
     "name": "stdout",
     "output_type": "stream",
     "text": [
      "Ali\n"
     ]
    }
   ],
   "source": [
    "# call show method\n",
    "obj.show()"
   ]
  },
  {
   "cell_type": "markdown",
   "id": "ba0864c5",
   "metadata": {},
   "source": [
    "### is class variable are change ?"
   ]
  },
  {
   "cell_type": "code",
   "execution_count": 9,
   "id": "952b5591",
   "metadata": {},
   "outputs": [
    {
     "data": {
      "text/plain": [
       "'Mubeen'"
      ]
     },
     "execution_count": 9,
     "metadata": {},
     "output_type": "execute_result"
    }
   ],
   "source": [
    "Person.name\n",
    "# we can change the variable with class method"
   ]
  },
  {
   "cell_type": "markdown",
   "id": "dc6ccad5",
   "metadata": {},
   "source": [
    "# use @classmethod decoractor\n",
    "<br>\n",
    "\n",
    "<h3>Note Understand First Decoractor Topic <a href=\"https://github.com/Mubeen-Ahmad/python_11/blob/main/Python/14%20Decorators/decoractors.ipynb\">click here</a></h3>"
   ]
  },
  {
   "cell_type": "code",
   "execution_count": 10,
   "id": "c80dff06",
   "metadata": {},
   "outputs": [],
   "source": [
    "class Person:\n",
    "    \n",
    "    # class variable\n",
    "    name = \"Mubeen\"\n",
    "    \n",
    "    # class method\n",
    "    @classmethod\n",
    "    def show(cls):\n",
    "        cls.name = \"Ali\"\n",
    "        print(cls.name)"
   ]
  },
  {
   "cell_type": "code",
   "execution_count": 12,
   "id": "19608684",
   "metadata": {},
   "outputs": [
    {
     "name": "stdout",
     "output_type": "stream",
     "text": [
      "Ali\n"
     ]
    }
   ],
   "source": [
    "obj = Person()\n",
    "obj.show()"
   ]
  },
  {
   "cell_type": "markdown",
   "id": "db12885e",
   "metadata": {},
   "source": [
    "### now check class varaible "
   ]
  },
  {
   "cell_type": "code",
   "execution_count": 14,
   "id": "3fe2e4c5",
   "metadata": {},
   "outputs": [
    {
     "data": {
      "text/plain": [
       "'Ali'"
      ]
     },
     "execution_count": 14,
     "metadata": {},
     "output_type": "execute_result"
    }
   ],
   "source": [
    "Person.name\n",
    "# now class variable are modify because i use @classmethod"
   ]
  },
  {
   "cell_type": "markdown",
   "id": "cb1bf0ae",
   "metadata": {},
   "source": [
    "# Change Class variable without using @classmethod decoractor"
   ]
  },
  {
   "cell_type": "code",
   "execution_count": 84,
   "id": "fdf7496f",
   "metadata": {},
   "outputs": [],
   "source": [
    "class Person:\n",
    "    \n",
    "    # class variable\n",
    "    name = \"Mubeen\"\n",
    "    \n",
    "    # instance method\n",
    "    def show(self):\n",
    "        Person.name = \"Ali\"\n",
    "        # Here i used classname.variable"
   ]
  },
  {
   "cell_type": "code",
   "execution_count": 87,
   "id": "5b3a1c67",
   "metadata": {},
   "outputs": [
    {
     "name": "stdout",
     "output_type": "stream",
     "text": [
      "Mubeen\n",
      "Mubeen\n"
     ]
    }
   ],
   "source": [
    "p1 = Person()\n",
    "\n",
    "print(p1.name)\n",
    "print(Person.name)"
   ]
  },
  {
   "cell_type": "markdown",
   "id": "b31d98d7",
   "metadata": {},
   "source": [
    "## classmethod()\n",
    "### Convert a function to be a class method.\n",
    "### Classmethod "
   ]
  },
  {
   "cell_type": "code",
   "execution_count": 174,
   "id": "6f721687",
   "metadata": {},
   "outputs": [],
   "source": [
    "class Person:\n",
    "    \n",
    "    # class variable\n",
    "    name = \"Mubeen\"\n",
    "    "
   ]
  },
  {
   "cell_type": "code",
   "execution_count": 175,
   "id": "c113f2b1",
   "metadata": {},
   "outputs": [
    {
     "data": {
      "text/plain": [
       "'Mubeen'"
      ]
     },
     "execution_count": 175,
     "metadata": {},
     "output_type": "execute_result"
    }
   ],
   "source": [
    "p1 = Person()\n",
    "p1.name"
   ]
  },
  {
   "cell_type": "code",
   "execution_count": 176,
   "id": "ae4f195f",
   "metadata": {},
   "outputs": [],
   "source": [
    "def change(cls):\n",
    "    cls.name = \"Ali\"\n",
    "    print(\"class variable are Modified\")"
   ]
  },
  {
   "cell_type": "code",
   "execution_count": 179,
   "id": "8a59997c",
   "metadata": {},
   "outputs": [],
   "source": [
    "Person.change = classmethod(change)"
   ]
  },
  {
   "cell_type": "code",
   "execution_count": 181,
   "id": "9240fdb4",
   "metadata": {},
   "outputs": [
    {
     "name": "stdout",
     "output_type": "stream",
     "text": [
      "class variable are Modified\n"
     ]
    }
   ],
   "source": [
    "p1.change()"
   ]
  },
  {
   "cell_type": "code",
   "execution_count": 182,
   "id": "033894b3",
   "metadata": {},
   "outputs": [
    {
     "data": {
      "text/plain": [
       "'Ali'"
      ]
     },
     "execution_count": 182,
     "metadata": {},
     "output_type": "execute_result"
    }
   ],
   "source": [
    "p1.name"
   ]
  },
  {
   "cell_type": "code",
   "execution_count": 183,
   "id": "febae53b",
   "metadata": {},
   "outputs": [],
   "source": [
    "# we can set any name of the function\n",
    "def func(cls):\n",
    "    cls.name = \"SweetError\"\n",
    "    print(\"Class variable are modified\")\n",
    "\n",
    "# Person.[use any name] =  function name\n",
    "\n",
    "Person.SE = classmethod(func)"
   ]
  },
  {
   "cell_type": "code",
   "execution_count": 184,
   "id": "080b6052",
   "metadata": {},
   "outputs": [
    {
     "name": "stdout",
     "output_type": "stream",
     "text": [
      "Class variable are modified\n"
     ]
    }
   ],
   "source": [
    "p1.SE()"
   ]
  },
  {
   "cell_type": "code",
   "execution_count": 185,
   "id": "219fdb8d",
   "metadata": {},
   "outputs": [
    {
     "name": "stdout",
     "output_type": "stream",
     "text": [
      "SweetError\n",
      "SweetError\n"
     ]
    }
   ],
   "source": [
    "print(Person.name)\n",
    "print(p1.name)"
   ]
  },
  {
   "cell_type": "markdown",
   "id": "c0b04018",
   "metadata": {},
   "source": [
    "# Note in classmethod we are not used instance object"
   ]
  },
  {
   "cell_type": "code",
   "execution_count": 263,
   "id": "cc487867",
   "metadata": {},
   "outputs": [],
   "source": [
    "class Std:\n",
    "    name = \"Mubeen\""
   ]
  },
  {
   "cell_type": "code",
   "execution_count": 264,
   "id": "f68349c4",
   "metadata": {},
   "outputs": [],
   "source": [
    "def change(cls):\n",
    "    cls.name = \"ALi\"\n",
    "    print(\"call change method\")"
   ]
  },
  {
   "cell_type": "code",
   "execution_count": 265,
   "id": "d7f331a9",
   "metadata": {},
   "outputs": [
    {
     "data": {
      "text/plain": [
       "'Mubeen'"
      ]
     },
     "execution_count": 265,
     "metadata": {},
     "output_type": "execute_result"
    }
   ],
   "source": [
    "obj = Std()\n",
    "obj.name"
   ]
  },
  {
   "cell_type": "code",
   "execution_count": 256,
   "id": "a25b10e9",
   "metadata": {},
   "outputs": [],
   "source": [
    "# try to use instance object instead of class\n",
    "\n",
    "obj.ch_name = classmethod(change)"
   ]
  },
  {
   "cell_type": "code",
   "execution_count": 257,
   "id": "665c269d",
   "metadata": {},
   "outputs": [
    {
     "ename": "TypeError",
     "evalue": "'classmethod' object is not callable",
     "output_type": "error",
     "traceback": [
      "\u001b[0;31m---------------------------------------------------------------------------\u001b[0m",
      "\u001b[0;31mTypeError\u001b[0m                                 Traceback (most recent call last)",
      "Cell \u001b[0;32mIn [257], line 1\u001b[0m\n\u001b[0;32m----> 1\u001b[0m \u001b[43mobj\u001b[49m\u001b[38;5;241;43m.\u001b[39;49m\u001b[43mch_name\u001b[49m\u001b[43m(\u001b[49m\u001b[43m)\u001b[49m\n",
      "\u001b[0;31mTypeError\u001b[0m: 'classmethod' object is not callable"
     ]
    }
   ],
   "source": [
    "obj.ch_name()"
   ]
  },
  {
   "cell_type": "code",
   "execution_count": 258,
   "id": "b41edd6d",
   "metadata": {},
   "outputs": [
    {
     "data": {
      "text/plain": [
       "'Mubeen'"
      ]
     },
     "execution_count": 258,
     "metadata": {},
     "output_type": "execute_result"
    }
   ],
   "source": [
    "obj.name\n",
    "# name are not change"
   ]
  },
  {
   "cell_type": "code",
   "execution_count": 266,
   "id": "f0592ad9",
   "metadata": {},
   "outputs": [],
   "source": [
    "# now use class \n",
    "Std.ch_name = classmethod(change)"
   ]
  },
  {
   "cell_type": "code",
   "execution_count": 269,
   "id": "1caf7f21",
   "metadata": {},
   "outputs": [
    {
     "name": "stdout",
     "output_type": "stream",
     "text": [
      "call change method\n"
     ]
    },
    {
     "data": {
      "text/plain": [
       "'ALi'"
      ]
     },
     "execution_count": 269,
     "metadata": {},
     "output_type": "execute_result"
    }
   ],
   "source": [
    "obj.ch_name()\n",
    "obj.name\n",
    "# now name are change"
   ]
  },
  {
   "cell_type": "markdown",
   "id": "a3def4a5",
   "metadata": {},
   "source": [
    "# What is cls?\n",
    "\n",
    "## cls are simple argument that are used in class method\n",
    "<br>\n",
    "\n",
    "## Its is just a Convention to use cls argument\n",
    "\n",
    "## We can use any name of argument instead of cls"
   ]
  },
  {
   "cell_type": "code",
   "execution_count": 141,
   "id": "96e35e2f",
   "metadata": {},
   "outputs": [],
   "source": [
    "class Person:\n",
    "    \n",
    "    #class variable\n",
    "    name = \"Mubeen\"\n",
    "    \n",
    "    @classmethod\n",
    "    # i use arg instead of cls\n",
    "    def change_name(arg):\n",
    "        arg.name = \"Ahmad\"\n",
    "\n",
    "    "
   ]
  },
  {
   "cell_type": "code",
   "execution_count": 142,
   "id": "e99610e1",
   "metadata": {},
   "outputs": [],
   "source": [
    "p1 = Person()"
   ]
  },
  {
   "cell_type": "code",
   "execution_count": 143,
   "id": "cce92889",
   "metadata": {},
   "outputs": [
    {
     "data": {
      "text/plain": [
       "'Mubeen'"
      ]
     },
     "execution_count": 143,
     "metadata": {},
     "output_type": "execute_result"
    }
   ],
   "source": [
    "p1.name"
   ]
  },
  {
   "cell_type": "code",
   "execution_count": 144,
   "id": "0652be6d",
   "metadata": {},
   "outputs": [],
   "source": [
    "p1.change_name()"
   ]
  },
  {
   "cell_type": "code",
   "execution_count": 145,
   "id": "d0f809f0",
   "metadata": {},
   "outputs": [
    {
     "data": {
      "text/plain": [
       "'Ahmad'"
      ]
     },
     "execution_count": 145,
     "metadata": {},
     "output_type": "execute_result"
    }
   ],
   "source": [
    "p1.name"
   ]
  }
 ],
 "metadata": {
  "kernelspec": {
   "display_name": "Python 3 (ipykernel)",
   "language": "python",
   "name": "python3"
  },
  "language_info": {
   "codemirror_mode": {
    "name": "ipython",
    "version": 3
   },
   "file_extension": ".py",
   "mimetype": "text/x-python",
   "name": "python",
   "nbconvert_exporter": "python",
   "pygments_lexer": "ipython3",
   "version": "3.10.6"
  }
 },
 "nbformat": 4,
 "nbformat_minor": 5
}

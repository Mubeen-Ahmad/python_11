{
 "cells": [
  {
   "cell_type": "markdown",
   "id": "9082dbe8",
   "metadata": {},
   "source": [
    "<h1>Encapsulation<br></h1>\n",
    "<h2>Encapsulation refers to the practice of hiding the implementation details of a class from the user, and exposing a public interface that can be used to interact with the class</h2>"
   ]
  },
  {
   "cell_type": "markdown",
   "id": "3803218e",
   "metadata": {},
   "source": [
    "## In Simple Words Hide the Classvariables and Methods from the object that any user can't access the variables or methods outside the class called Encapsulation"
   ]
  },
  {
   "cell_type": "markdown",
   "id": "37915c69",
   "metadata": {},
   "source": [
    "<br>\n",
    "\n",
    "# Four Concepts in Encapsulations\n",
    "<br>\n",
    "\n",
    "<img src=\"../../images/encap.jpg\" style=\"display: block;margin-left: auto;margin-right: auto;\n",
    "  width: 100%; border-radius:0px 10px 10px 10px; height:700px;\">\n"
   ]
  },
  {
   "cell_type": "markdown",
   "id": "0ad0103b",
   "metadata": {},
   "source": [
    "# Public Encapsulation"
   ]
  },
  {
   "cell_type": "markdown",
   "id": "eb56f4b3",
   "metadata": {},
   "source": [
    "## In Public Encapsulation all variables and methods can Access outside the class"
   ]
  },
  {
   "cell_type": "code",
   "execution_count": 7,
   "id": "eddc973c",
   "metadata": {},
   "outputs": [],
   "source": [
    "class Person:\n",
    "    \n",
    "    name = 'Mubeen'\n",
    "    \n",
    "    def get_name(self):\n",
    "        return f\"Hy My name is {self.name}\""
   ]
  },
  {
   "cell_type": "code",
   "execution_count": 8,
   "id": "01d43c7d",
   "metadata": {},
   "outputs": [],
   "source": [
    "obj = Person()"
   ]
  },
  {
   "cell_type": "markdown",
   "id": "1987de15",
   "metadata": {},
   "source": [
    "# Now we can Access methods and variables outside the class"
   ]
  },
  {
   "cell_type": "code",
   "execution_count": 9,
   "id": "37c0ee68",
   "metadata": {},
   "outputs": [
    {
     "data": {
      "text/plain": [
       "'Mubeen'"
      ]
     },
     "execution_count": 9,
     "metadata": {},
     "output_type": "execute_result"
    }
   ],
   "source": [
    "obj.name"
   ]
  },
  {
   "cell_type": "code",
   "execution_count": 10,
   "id": "ef976faf",
   "metadata": {},
   "outputs": [
    {
     "data": {
      "text/plain": [
       "'Hy My name is Mubeen'"
      ]
     },
     "execution_count": 10,
     "metadata": {},
     "output_type": "execute_result"
    }
   ],
   "source": [
    "obj.get_name()"
   ]
  },
  {
   "cell_type": "markdown",
   "id": "2ddd027c",
   "metadata": {},
   "source": [
    "# Private Encapsulation"
   ]
  },
  {
   "cell_type": "markdown",
   "id": "8619f6c2",
   "metadata": {},
   "source": [
    "## We can protect variables in the class by marking them private. To define a private variable add two underscores as a prefix at the start of a variable name.\n",
    "<br>\n",
    "\n",
    "## Private members are accessible only within the class, and we can’t access them directly from the class objects."
   ]
  },
  {
   "cell_type": "code",
   "execution_count": 17,
   "id": "456b2827",
   "metadata": {},
   "outputs": [],
   "source": [
    "class Person:\n",
    "    \n",
    "    # private variable\n",
    "    __name = 'Mubeen'\n",
    "    __passwd = 1234\n",
    "    \n",
    "    # public method\n",
    "    def get_name(self):\n",
    "        return f\"Hy My name is {self.__name}\"\n",
    "    \n",
    "    # private method\n",
    "    def __get_password(self):\n",
    "        return self.__passwd"
   ]
  },
  {
   "cell_type": "code",
   "execution_count": 18,
   "id": "2bbde965",
   "metadata": {},
   "outputs": [],
   "source": [
    "obj = Person()"
   ]
  },
  {
   "cell_type": "code",
   "execution_count": 19,
   "id": "f3762dd2",
   "metadata": {},
   "outputs": [
    {
     "data": {
      "text/plain": [
       "'Hy My name is Mubeen'"
      ]
     },
     "execution_count": 19,
     "metadata": {},
     "output_type": "execute_result"
    }
   ],
   "source": [
    "obj.get_name()"
   ]
  },
  {
   "cell_type": "markdown",
   "id": "b739373b",
   "metadata": {},
   "source": [
    "# Trying to access private variable or Method"
   ]
  },
  {
   "cell_type": "code",
   "execution_count": 26,
   "id": "e9e84334",
   "metadata": {},
   "outputs": [
    {
     "ename": "AttributeError",
     "evalue": "'Person' object has no attribute '__name'",
     "output_type": "error",
     "traceback": [
      "\u001b[0;31m---------------------------------------------------------------------------\u001b[0m",
      "\u001b[0;31mAttributeError\u001b[0m                            Traceback (most recent call last)",
      "Cell \u001b[0;32mIn [26], line 1\u001b[0m\n\u001b[0;32m----> 1\u001b[0m \u001b[43mobj\u001b[49m\u001b[38;5;241;43m.\u001b[39;49m\u001b[43m__name\u001b[49m\n",
      "\u001b[0;31mAttributeError\u001b[0m: 'Person' object has no attribute '__name'"
     ]
    }
   ],
   "source": [
    "obj.__name"
   ]
  },
  {
   "cell_type": "code",
   "execution_count": 29,
   "id": "e8917463",
   "metadata": {},
   "outputs": [
    {
     "ename": "AttributeError",
     "evalue": "'Person' object has no attribute '__get_password'",
     "output_type": "error",
     "traceback": [
      "\u001b[0;31m---------------------------------------------------------------------------\u001b[0m",
      "\u001b[0;31mAttributeError\u001b[0m                            Traceback (most recent call last)",
      "Cell \u001b[0;32mIn [29], line 1\u001b[0m\n\u001b[0;32m----> 1\u001b[0m \u001b[43mobj\u001b[49m\u001b[38;5;241;43m.\u001b[39;49m\u001b[43m__get_password\u001b[49m()\n",
      "\u001b[0;31mAttributeError\u001b[0m: 'Person' object has no attribute '__get_password'"
     ]
    }
   ],
   "source": [
    "obj.__get_password()"
   ]
  },
  {
   "cell_type": "markdown",
   "id": "f7d5523e",
   "metadata": {},
   "source": [
    "## Can i Access with classname ?"
   ]
  },
  {
   "cell_type": "code",
   "execution_count": 30,
   "id": "4060240e",
   "metadata": {},
   "outputs": [
    {
     "ename": "AttributeError",
     "evalue": "type object 'Person' has no attribute '__name'",
     "output_type": "error",
     "traceback": [
      "\u001b[0;31m---------------------------------------------------------------------------\u001b[0m",
      "\u001b[0;31mAttributeError\u001b[0m                            Traceback (most recent call last)",
      "Cell \u001b[0;32mIn [30], line 1\u001b[0m\n\u001b[0;32m----> 1\u001b[0m \u001b[43mPerson\u001b[49m\u001b[38;5;241;43m.\u001b[39;49m\u001b[43m__name\u001b[49m\n",
      "\u001b[0;31mAttributeError\u001b[0m: type object 'Person' has no attribute '__name'"
     ]
    }
   ],
   "source": [
    "Person.__name"
   ]
  },
  {
   "cell_type": "code",
   "execution_count": 31,
   "id": "c9450fc9",
   "metadata": {},
   "outputs": [
    {
     "ename": "AttributeError",
     "evalue": "type object 'Person' has no attribute '__get_password'",
     "output_type": "error",
     "traceback": [
      "\u001b[0;31m---------------------------------------------------------------------------\u001b[0m",
      "\u001b[0;31mAttributeError\u001b[0m                            Traceback (most recent call last)",
      "Cell \u001b[0;32mIn [31], line 1\u001b[0m\n\u001b[0;32m----> 1\u001b[0m \u001b[43mPerson\u001b[49m\u001b[38;5;241;43m.\u001b[39;49m\u001b[43m__get_password\u001b[49m()\n",
      "\u001b[0;31mAttributeError\u001b[0m: type object 'Person' has no attribute '__get_password'"
     ]
    }
   ],
   "source": [
    "Person.__get_password()"
   ]
  },
  {
   "cell_type": "markdown",
   "id": "502c329e",
   "metadata": {},
   "source": [
    "# Protected Encapsulation"
   ]
  },
  {
   "cell_type": "markdown",
   "id": "4e2a58a6",
   "metadata": {},
   "source": [
    "## Protected members are accessible within the class and also available to its sub-classes. To define a protected member, prefix the member name with a single underscore"
   ]
  },
  {
   "cell_type": "markdown",
   "id": "3e416a97",
   "metadata": {},
   "source": [
    "<br>\n",
    "\n",
    "## Protected data members are used when you implement inheritance and want to allow data members access to only child classes."
   ]
  },
  {
   "cell_type": "code",
   "execution_count": 35,
   "id": "01147305",
   "metadata": {},
   "outputs": [],
   "source": [
    "class MyClass:\n",
    "    def __init__(self):\n",
    "        self._protected_member = 42\n",
    "\n",
    "    def access_protected_member(self):\n",
    "        return self._protected_member\n"
   ]
  },
  {
   "cell_type": "code",
   "execution_count": 36,
   "id": "97ae788d",
   "metadata": {},
   "outputs": [],
   "source": [
    "obj = MyClass()"
   ]
  },
  {
   "cell_type": "code",
   "execution_count": 39,
   "id": "592104d8",
   "metadata": {},
   "outputs": [
    {
     "data": {
      "text/plain": [
       "42"
      ]
     },
     "execution_count": 39,
     "metadata": {},
     "output_type": "execute_result"
    }
   ],
   "source": [
    "obj.access_protected_member()"
   ]
  },
  {
   "cell_type": "code",
   "execution_count": 40,
   "id": "850d8e3d",
   "metadata": {},
   "outputs": [
    {
     "data": {
      "text/plain": [
       "42"
      ]
     },
     "execution_count": 40,
     "metadata": {},
     "output_type": "execute_result"
    }
   ],
   "source": [
    "obj._protected_member"
   ]
  },
  {
   "cell_type": "markdown",
   "id": "cce8a871",
   "metadata": {},
   "source": [
    "# Why object Access Protected Member ?"
   ]
  },
  {
   "cell_type": "markdown",
   "id": "136205e3",
   "metadata": {},
   "source": [
    "# Example 2"
   ]
  },
  {
   "cell_type": "code",
   "execution_count": 41,
   "id": "e3214902",
   "metadata": {},
   "outputs": [
    {
     "name": "stdout",
     "output_type": "stream",
     "text": [
      "Mubeen\n"
     ]
    }
   ],
   "source": [
    "class A:\n",
    "    _var = \"Mubeen\"\n",
    "\n",
    "class B:\n",
    "    print(A._var)\n",
    "\n",
    "obj = B()"
   ]
  },
  {
   "cell_type": "markdown",
   "id": "a7444c54",
   "metadata": {},
   "source": [
    "# NOTE"
   ]
  },
  {
   "cell_type": "markdown",
   "id": "cad060a5",
   "metadata": {},
   "source": [
    "## In Python, there is no strict concept of protected members like in other object-oriented programming languages. \n",
    "<br><br>\n",
    "\n",
    "## However, a common convention is to indicate a member as protected by prefixing its name with an underscore (e.g. \"_protected_member\").\n",
    "<br><br>\n",
    "\n",
    "## This serves as a signal to other developers that the member should not be directly accessed or modified outside of the class, but is still technically accessible if needed."
   ]
  },
  {
   "cell_type": "markdown",
   "id": "8522b29c",
   "metadata": {},
   "source": [
    "<br><br>\n",
    "# Name Mangaling"
   ]
  },
  {
   "cell_type": "markdown",
   "id": "02d380ce",
   "metadata": {},
   "source": [
    "## We can directly access private and protected variables from outside of a class through name mangling. \n",
    "<br><br>\n",
    "\n",
    "## The name mangling is created on an identifier by adding two leading underscores and one trailing underscore, like this `_classname ` `__dataMember `, \n",
    "<br><br>\n",
    "\n",
    "## where classname is the current class, and data member is the private variable name."
   ]
  },
  {
   "cell_type": "markdown",
   "id": "59c63997",
   "metadata": {},
   "source": [
    "<br><br>\n",
    "# Access Protect variables _"
   ]
  },
  {
   "cell_type": "code",
   "execution_count": 42,
   "id": "4479ee38",
   "metadata": {},
   "outputs": [],
   "source": [
    "class Test:\n",
    "    \n",
    "    _mode_conf = 0.6\n",
    "    # this is protected variable only used if higly need it"
   ]
  },
  {
   "cell_type": "code",
   "execution_count": 43,
   "id": "f7195665",
   "metadata": {},
   "outputs": [],
   "source": [
    "obj = Test()"
   ]
  },
  {
   "cell_type": "code",
   "execution_count": 44,
   "id": "6f51e143",
   "metadata": {},
   "outputs": [],
   "source": [
    "obj._mode_conf = 0.8"
   ]
  },
  {
   "cell_type": "code",
   "execution_count": 45,
   "id": "ddf91f68",
   "metadata": {},
   "outputs": [
    {
     "data": {
      "text/plain": [
       "0.8"
      ]
     },
     "execution_count": 45,
     "metadata": {},
     "output_type": "execute_result"
    }
   ],
   "source": [
    "obj._mode_conf"
   ]
  },
  {
   "cell_type": "markdown",
   "id": "a43d6df7",
   "metadata": {},
   "source": [
    "## We Also Access Private variables or method with name mangling"
   ]
  },
  {
   "cell_type": "code",
   "execution_count": 54,
   "id": "693e3347",
   "metadata": {},
   "outputs": [],
   "source": [
    "class Test:\n",
    "    \n",
    "    __model_conf = 0.6\n",
    "    # this is protected variable only used if higly need it\n",
    "    def __change_conf(self,new):\n",
    "        self.__model_conf = new"
   ]
  },
  {
   "cell_type": "code",
   "execution_count": 50,
   "id": "195acb63",
   "metadata": {},
   "outputs": [],
   "source": [
    "obj = Test()"
   ]
  },
  {
   "cell_type": "code",
   "execution_count": 51,
   "id": "c332fed9",
   "metadata": {},
   "outputs": [
    {
     "ename": "AttributeError",
     "evalue": "'Test' object has no attribute '__model_conf'",
     "output_type": "error",
     "traceback": [
      "\u001b[0;31m---------------------------------------------------------------------------\u001b[0m",
      "\u001b[0;31mAttributeError\u001b[0m                            Traceback (most recent call last)",
      "Cell \u001b[0;32mIn [51], line 1\u001b[0m\n\u001b[0;32m----> 1\u001b[0m \u001b[43mobj\u001b[49m\u001b[38;5;241;43m.\u001b[39;49m\u001b[43m__model_conf\u001b[49m\n",
      "\u001b[0;31mAttributeError\u001b[0m: 'Test' object has no attribute '__model_conf'"
     ]
    }
   ],
   "source": [
    "obj.__model_conf"
   ]
  },
  {
   "cell_type": "markdown",
   "id": "0033d96b",
   "metadata": {},
   "source": [
    "## Now Use Mangling \n",
    "<br>\n",
    "\n",
    "## object._classname__variable"
   ]
  },
  {
   "cell_type": "code",
   "execution_count": 57,
   "id": "3e93bf7c",
   "metadata": {},
   "outputs": [
    {
     "data": {
      "text/plain": [
       "0.6"
      ]
     },
     "execution_count": 57,
     "metadata": {},
     "output_type": "execute_result"
    }
   ],
   "source": [
    "obj._Test__model_conf"
   ]
  },
  {
   "cell_type": "markdown",
   "id": "05ebb399",
   "metadata": {},
   "source": [
    "## Access method"
   ]
  },
  {
   "cell_type": "code",
   "execution_count": 58,
   "id": "268b0875",
   "metadata": {},
   "outputs": [],
   "source": [
    "obj._Test__change_conf(10)"
   ]
  },
  {
   "cell_type": "code",
   "execution_count": 59,
   "id": "4919c831",
   "metadata": {},
   "outputs": [
    {
     "data": {
      "text/plain": [
       "10"
      ]
     },
     "execution_count": 59,
     "metadata": {},
     "output_type": "execute_result"
    }
   ],
   "source": [
    "obj._Test__model_conf"
   ]
  },
  {
   "cell_type": "markdown",
   "id": "d52533e9",
   "metadata": {},
   "source": [
    "## So protected Encapsulation are not Exist in python ?\n",
    "<br>\n",
    "\n",
    "## Protected Encapsulation are only for conventional"
   ]
  },
  {
   "cell_type": "markdown",
   "id": "6323578a",
   "metadata": {},
   "source": [
    "## And We Also Access Private method or Variables With the use of Name Mangling ?\n",
    "<br>\n",
    "\n",
    "## So Why Python Developers Can't Add Strict Functionality ?\n",
    "<br>\n",
    "\n",
    "## Why Name Mangling in Python ?"
   ]
  },
  {
   "cell_type": "markdown",
   "id": "46cf09a1",
   "metadata": {},
   "source": [
    "<h1>In Python, there is no strict encapsulation like some other programming languages such as Java because Python follows the philosophy of </h1><br><br><h1 style=\"text-align:center;\"><b>\"we're all consenting adults here\"</b></h1><br><br><h1>which means that developers are trusted to use the language responsibly and follow certain conventions.</h1>"
   ]
  },
  {
   "cell_type": "markdown",
   "id": "a7892522",
   "metadata": {},
   "source": [
    "<h3 style=\"text-align: center;\"><br><b style=\"text-align: justify;\"><ul><li>The purpose of name mangling is to provide a way to make certain attributes of a class hidden from other code while still allowing them to be accessed within the class itself.</li><br><li>It is intended to be a form of \"soft encapsulation\" where developers are trusted to use the language responsibly and follow certain conventions.</ul></b><br><br><br><ul><b style=\"text-align: justify;\"> <li>While it's important to note that name mangling is not foolproof and it's still possible for other developers to access these variables from outside the class,<br><br><li> it can provide an additional layer of protection to help prevent accidental or malicious access.</b></ul><br><br><br><ul><b style=\"text-align: justify;\"><li>In summary, name mangling in Python is a technique that allows developers to create private variables in a class by prefixing the variable name with two underscores. <br><br><li>It provides a way to make certain attributes of a class hidden from other code while still allowing them to be accessed within the class itself, and can provide an additional layer of protection to help prevent accidental or malicious access.</b></h3>"
   ]
  }
 ],
 "metadata": {
  "kernelspec": {
   "display_name": "Python 3 (ipykernel)",
   "language": "python",
   "name": "python3"
  },
  "language_info": {
   "codemirror_mode": {
    "name": "ipython",
    "version": 3
   },
   "file_extension": ".py",
   "mimetype": "text/x-python",
   "name": "python",
   "nbconvert_exporter": "python",
   "pygments_lexer": "ipython3",
   "version": "3.10.6"
  }
 },
 "nbformat": 4,
 "nbformat_minor": 5
}

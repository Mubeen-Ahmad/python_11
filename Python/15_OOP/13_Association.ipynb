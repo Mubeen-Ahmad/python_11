{
 "cells": [
  {
   "cell_type": "markdown",
   "id": "9c474e1a",
   "metadata": {},
   "source": [
    "# Association\n",
    "<br><br>\n",
    "<img src=\"../../images/ass.jpg\" style=\"display: block;margin-left: auto;margin-right: auto;\n",
    "  width: 60%; border-radius:15px 10px 10px 10px; height:800px;\">\n",
    "\n",
    "<br><br>\n",
    "\n",
    "<h2 style=\"text-align:justify; color:#5d2ade\"> Association is a relation between two separate classes which establishes through their Objects<br><br>Association can be one to one ,one-to-manny,manny to one, manny to manny</h2>"
   ]
  },
  {
   "cell_type": "markdown",
   "id": "20d5a3b2",
   "metadata": {},
   "source": [
    "# Example"
   ]
  },
  {
   "cell_type": "code",
   "execution_count": 1,
   "id": "16584a93",
   "metadata": {},
   "outputs": [],
   "source": [
    "class Book:\n",
    "    pass"
   ]
  },
  {
   "cell_type": "code",
   "execution_count": 2,
   "id": "1a2bce1c",
   "metadata": {},
   "outputs": [],
   "source": [
    "class Pages:\n",
    "    pass"
   ]
  },
  {
   "cell_type": "markdown",
   "id": "e995c7b4",
   "metadata": {},
   "source": [
    "## Book has a Pages \n",
    "## we cant say that Book isa pages or pages is a book\n",
    "\n",
    "## SO Associations is (Has-A) relation"
   ]
  },
  {
   "cell_type": "markdown",
   "id": "29ad76be",
   "metadata": {},
   "source": [
    "<img src=\"../../images/has.jpg\" style=\"display: block;margin-left: auto;margin-right: auto;\n",
    "  width: 70%; border-radius:15px 10px 10px 10px; height:500px;\">\n"
   ]
  },
  {
   "cell_type": "markdown",
   "id": "3eada398",
   "metadata": {},
   "source": [
    "# Association are Divided into Two Seprated Things\n",
    "<br>\n",
    "\n",
    "## Aggreations and Compositions\n",
    "<br><br>"
   ]
  },
  {
   "cell_type": "markdown",
   "id": "9427809c",
   "metadata": {},
   "source": [
    "# Aggreations\n",
    "<br><br>\n",
    "\n",
    "<h2 style=\"text-align:justify; color:#5d2ade\"> Aggreations are Include in Association \n",
    "<br><br>If Class A has a relationship(means Association) within Class B. than Class A has a refference to an instance of Class B (measns class B have the variable of Class A )\n",
    "</h2>\n"
   ]
  },
  {
   "cell_type": "markdown",
   "id": "e0b2632c",
   "metadata": {},
   "source": [
    "# Example\n",
    "\n",
    "<img src=\"../../images/aggr.jpg\" style=\"display: block;margin-left: auto;margin-right: auto;\n",
    "  width: 100%; border-radius:15px 10px 10px 10px; height:800px;\">\n",
    "\n"
   ]
  },
  {
   "cell_type": "code",
   "execution_count": 3,
   "id": "1fdac9b6",
   "metadata": {},
   "outputs": [],
   "source": [
    "class address:\n",
    "    street_no = 123\n",
    "    city = \"Lahore\"\n",
    "    state = \"Punjab\""
   ]
  },
  {
   "cell_type": "code",
   "execution_count": 17,
   "id": "be3f6927",
   "metadata": {},
   "outputs": [],
   "source": [
    "class student:\n",
    "    addr = str(address.street_no)+\" \"+address.city+\" \"+address.state\n",
    "    name = \"Mubeen\""
   ]
  },
  {
   "cell_type": "code",
   "execution_count": 18,
   "id": "4c3578ef",
   "metadata": {},
   "outputs": [],
   "source": [
    "std1 = student()"
   ]
  },
  {
   "cell_type": "code",
   "execution_count": 19,
   "id": "ad60a770",
   "metadata": {},
   "outputs": [
    {
     "data": {
      "text/plain": [
       "'Mubeen'"
      ]
     },
     "execution_count": 19,
     "metadata": {},
     "output_type": "execute_result"
    }
   ],
   "source": [
    "std1.name"
   ]
  },
  {
   "cell_type": "code",
   "execution_count": 20,
   "id": "e485b713",
   "metadata": {},
   "outputs": [
    {
     "data": {
      "text/plain": [
       "'123 Lahore Punjab'"
      ]
     },
     "execution_count": 20,
     "metadata": {},
     "output_type": "execute_result"
    }
   ],
   "source": [
    "std1.addr"
   ]
  },
  {
   "cell_type": "markdown",
   "id": "d9a545b3",
   "metadata": {},
   "source": [
    "# Example 2\n",
    "\n",
    "## if student have not a address than they are not Effect his own class"
   ]
  },
  {
   "cell_type": "code",
   "execution_count": 21,
   "id": "db6ed430",
   "metadata": {},
   "outputs": [],
   "source": [
    "class student:\n",
    "    name = \"Mubeen\""
   ]
  },
  {
   "cell_type": "code",
   "execution_count": 22,
   "id": "52c0e970",
   "metadata": {},
   "outputs": [
    {
     "data": {
      "text/plain": [
       "'Mubeen'"
      ]
     },
     "execution_count": 22,
     "metadata": {},
     "output_type": "execute_result"
    }
   ],
   "source": [
    "std2 = student()\n",
    "\n",
    "std2.name"
   ]
  },
  {
   "cell_type": "markdown",
   "id": "3fbd073b",
   "metadata": {},
   "source": [
    "# Compositions"
   ]
  },
  {
   "cell_type": "markdown",
   "id": "18260232",
   "metadata": {},
   "source": [
    "<img src=\"../../images/com.jpg\" style=\"display: block;margin-left: auto;margin-right: auto;\n",
    "  width: 100%; border-radius:15px 10px 10px 10px; height:800px;\">\n"
   ]
  },
  {
   "cell_type": "code",
   "execution_count": 271,
   "id": "b3eeafa4",
   "metadata": {},
   "outputs": [],
   "source": [
    "class address:\n",
    "    \n",
    "    def __new__(self,addr):\n",
    "        return addr"
   ]
  },
  {
   "cell_type": "code",
   "execution_count": 290,
   "id": "1d2dbfbf",
   "metadata": {},
   "outputs": [],
   "source": [
    "class student:\n",
    "    \n",
    "    def __init__(self,name,addr):\n",
    "        self.name = name\n",
    "        self.addr = address(addr)"
   ]
  },
  {
   "cell_type": "markdown",
   "id": "24627fe8",
   "metadata": {},
   "source": [
    "## Now address class are important of student"
   ]
  },
  {
   "cell_type": "markdown",
   "id": "82067246",
   "metadata": {},
   "source": [
    "## address has a part of student"
   ]
  },
  {
   "cell_type": "code",
   "execution_count": 299,
   "id": "701a4c60",
   "metadata": {},
   "outputs": [],
   "source": [
    "std = student(\"Mubeen\",\"Lahore\")"
   ]
  },
  {
   "cell_type": "code",
   "execution_count": 300,
   "id": "36a3ecbb",
   "metadata": {},
   "outputs": [
    {
     "data": {
      "text/plain": [
       "'Mubeen'"
      ]
     },
     "execution_count": 300,
     "metadata": {},
     "output_type": "execute_result"
    }
   ],
   "source": [
    "std.name"
   ]
  },
  {
   "cell_type": "code",
   "execution_count": 301,
   "id": "62810063",
   "metadata": {},
   "outputs": [
    {
     "data": {
      "text/plain": [
       "'Lahore'"
      ]
     },
     "execution_count": 301,
     "metadata": {},
     "output_type": "execute_result"
    }
   ],
   "source": [
    "std.addr"
   ]
  },
  {
   "cell_type": "markdown",
   "id": "5d15025c",
   "metadata": {},
   "source": [
    "# Note Address does not depond on student class"
   ]
  },
  {
   "cell_type": "code",
   "execution_count": 302,
   "id": "f87f0e96",
   "metadata": {},
   "outputs": [],
   "source": [
    "obj = address(\"karachi\")"
   ]
  },
  {
   "cell_type": "code",
   "execution_count": 303,
   "id": "97791621",
   "metadata": {},
   "outputs": [
    {
     "data": {
      "text/plain": [
       "'karachi'"
      ]
     },
     "execution_count": 303,
     "metadata": {},
     "output_type": "execute_result"
    }
   ],
   "source": [
    "obj"
   ]
  }
 ],
 "metadata": {
  "kernelspec": {
   "display_name": "Python 3 (ipykernel)",
   "language": "python",
   "name": "python3"
  },
  "language_info": {
   "codemirror_mode": {
    "name": "ipython",
    "version": 3
   },
   "file_extension": ".py",
   "mimetype": "text/x-python",
   "name": "python",
   "nbconvert_exporter": "python",
   "pygments_lexer": "ipython3",
   "version": "3.10.6"
  }
 },
 "nbformat": 4,
 "nbformat_minor": 5
}

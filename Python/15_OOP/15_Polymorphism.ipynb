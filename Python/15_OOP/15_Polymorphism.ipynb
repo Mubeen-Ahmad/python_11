{
 "cells": [
  {
   "cell_type": "markdown",
   "id": "06033730",
   "metadata": {},
   "source": [
    "# Poly-Morphism\n",
    "<br>\n",
    "\n",
    "## Polymorphism is a word that came from two greek words\n",
    "\n",
    "* ## Poly means many\n",
    "* ## Morphos means forms\n",
    "\n",
    "<br>\n",
    "\n",
    "## If a variable , object or method perform different behavior according to situation, it is called Polymorphism"
   ]
  },
  {
   "cell_type": "markdown",
   "id": "e47e0912",
   "metadata": {},
   "source": [
    "# Example"
   ]
  },
  {
   "cell_type": "markdown",
   "id": "c29cdd60",
   "metadata": {},
   "source": [
    "<img src=\"../../images/poli_intro.jpg\" style=\"display: block;margin-left: auto;margin-right: auto;\n",
    "  width: 80%; border-radius:0px 10px 10px 10px; height:800px;\">\n"
   ]
  },
  {
   "cell_type": "code",
   "execution_count": 12,
   "id": "0264cc02",
   "metadata": {},
   "outputs": [],
   "source": [
    "class Parrot:\n",
    "    \n",
    "    def fly(self):\n",
    "        print(\"Parrot can fly\")\n",
    "        \n",
    "    def swim(self):\n",
    "        print(\"Parrot can't fly\")\n",
    "        \n",
    "class Penguin:\n",
    "    \n",
    "    def fly(self):\n",
    "        print(\"Penguin can't fly\")\n",
    "    \n",
    "    def swim(self):\n",
    "        print(\"Penguin can swim\")\n"
   ]
  },
  {
   "cell_type": "code",
   "execution_count": 16,
   "id": "b9a63fe2",
   "metadata": {},
   "outputs": [
    {
     "name": "stdout",
     "output_type": "stream",
     "text": [
      "Parrot can fly\n",
      "Penguin can't fly\n"
     ]
    }
   ],
   "source": [
    "def flying_test(bird):\n",
    "    bird.fly()\n",
    "\n",
    "flying_test(Parrot())\n",
    "flying_test(Penguin())"
   ]
  },
  {
   "cell_type": "markdown",
   "id": "e5c176d0",
   "metadata": {},
   "source": [
    "# An Entity can works in Multiple role. This capability is called Polymorphism\n",
    "\n"
   ]
  },
  {
   "cell_type": "code",
   "execution_count": 17,
   "id": "73a10a9e",
   "metadata": {},
   "outputs": [
    {
     "name": "stdout",
     "output_type": "stream",
     "text": [
      "H Mubeen Ahmad\n",
      "5\n"
     ]
    }
   ],
   "source": [
    "# here print function used for output the string \n",
    "print(\"H Mubeen Ahmad\")\n",
    "\n",
    "# here print finction used for sum of two numbers\n",
    "print(3+2)\n",
    "\n",
    "# This is called Polymorphism"
   ]
  },
  {
   "cell_type": "markdown",
   "id": "41c215bb",
   "metadata": {},
   "source": [
    "<img src=\"../../images/poli_con.jpg\" style=\"display: block;margin-left: auto;margin-right: auto;\n",
    "  width: 100%; border-radius:0px 10px 10px 10px; height:800px;\">\n",
    "\n",
    "<br>\n",
    "\n",
    "# Duck Typing"
   ]
  },
  {
   "cell_type": "markdown",
   "id": "69ee546b",
   "metadata": {},
   "source": [
    "\n",
    "## Duck typing is a programming concept where an object's type is determined by its behavior rather than by its class.\n",
    "<br>\n",
    "\n",
    "## if it walks like a duck,\n",
    "<br> \n",
    "\n",
    "## and it quacks like a duck, \n",
    "<br> \n",
    "\n",
    "## then it is probably be a duck."
   ]
  },
  {
   "cell_type": "markdown",
   "id": "8a55a623",
   "metadata": {},
   "source": [
    "<img src=\"../../images/poli_duck.jpg\" style=\"display: block;margin-left: auto;margin-right: auto;\n",
    "  width: 200%; border-radius:0px 10px 10px 10px; height:500px;\">\n"
   ]
  },
  {
   "cell_type": "code",
   "execution_count": 40,
   "id": "0cd191cf",
   "metadata": {},
   "outputs": [],
   "source": [
    "class Duck:\n",
    "    def quack(self):\n",
    "        print(\"Quack!\")\n",
    "        \n",
    "    def swim(self):\n",
    "        print(\"I'm Swimming!\")\n"
   ]
  },
  {
   "cell_type": "code",
   "execution_count": 41,
   "id": "f122a3d0",
   "metadata": {},
   "outputs": [],
   "source": [
    "def quack_and_swim(duck):\n",
    "    duck.quack()\n",
    "    duck.swim()"
   ]
  },
  {
   "cell_type": "code",
   "execution_count": 42,
   "id": "394ffc5b",
   "metadata": {},
   "outputs": [],
   "source": [
    "duck = Duck()"
   ]
  },
  {
   "cell_type": "code",
   "execution_count": 43,
   "id": "2b6a56a4",
   "metadata": {},
   "outputs": [
    {
     "name": "stdout",
     "output_type": "stream",
     "text": [
      "Quack!\n",
      "I'm Swimming!\n"
     ]
    }
   ],
   "source": [
    "quack_and_swim(duck)"
   ]
  },
  {
   "cell_type": "markdown",
   "id": "87763f2f",
   "metadata": {},
   "source": [
    "## Python dosen't care about which class of object it is, in order to call an existing method on a object.\n",
    "<br>\n",
    "\n",
    "## if the method is defined on the object, then it will be calles."
   ]
  },
  {
   "cell_type": "markdown",
   "id": "abb20752",
   "metadata": {},
   "source": [
    "# Example"
   ]
  },
  {
   "cell_type": "code",
   "execution_count": 60,
   "id": "2c6c9155",
   "metadata": {},
   "outputs": [],
   "source": [
    "class Duck:\n",
    "    def speak(self):\n",
    "        print(\"quick quick !\")"
   ]
  },
  {
   "cell_type": "code",
   "execution_count": 61,
   "id": "dfbb7b3e",
   "metadata": {},
   "outputs": [],
   "source": [
    "class Cat:\n",
    "    def speak(self):\n",
    "        print(\"meow meow !\")"
   ]
  },
  {
   "cell_type": "code",
   "execution_count": 62,
   "id": "b25a42c9",
   "metadata": {},
   "outputs": [],
   "source": [
    "def speaking_test(obj):\n",
    "    obj.speak()"
   ]
  },
  {
   "cell_type": "code",
   "execution_count": 63,
   "id": "24d883c0",
   "metadata": {},
   "outputs": [
    {
     "name": "stdout",
     "output_type": "stream",
     "text": [
      "quick quick !\n"
     ]
    }
   ],
   "source": [
    "speaking_test(Duck())"
   ]
  },
  {
   "cell_type": "code",
   "execution_count": 65,
   "id": "66368a60",
   "metadata": {},
   "outputs": [
    {
     "name": "stdout",
     "output_type": "stream",
     "text": [
      "meow meow !\n"
     ]
    }
   ],
   "source": [
    "walking_test(Cat())"
   ]
  },
  {
   "cell_type": "markdown",
   "id": "67a67b8a",
   "metadata": {},
   "source": [
    "## Here Duck and cat are speak python Don't care that both voice are same or different.\n",
    "<br>\n",
    "\n",
    "## Python only check that if the specfic method are defined in the class than call it otherwise raise Error"
   ]
  },
  {
   "cell_type": "markdown",
   "id": "9bdc656c",
   "metadata": {},
   "source": [
    "# Example 2"
   ]
  },
  {
   "cell_type": "code",
   "execution_count": 67,
   "id": "5d9f8c54",
   "metadata": {},
   "outputs": [],
   "source": [
    "class parrot:\n",
    "    \n",
    "    def fly(self):\n",
    "        print(\"Flying\")"
   ]
  },
  {
   "cell_type": "code",
   "execution_count": 69,
   "id": "3da13c8a",
   "metadata": {},
   "outputs": [],
   "source": [
    "class Dog:\n",
    "    def walk(self):\n",
    "        print(\"Walking\")"
   ]
  },
  {
   "cell_type": "code",
   "execution_count": 70,
   "id": "75320a0d",
   "metadata": {},
   "outputs": [],
   "source": [
    "def flying_test(method):\n",
    "    method.fly()"
   ]
  },
  {
   "cell_type": "code",
   "execution_count": 71,
   "id": "6104eccc",
   "metadata": {},
   "outputs": [
    {
     "name": "stdout",
     "output_type": "stream",
     "text": [
      "Flying\n"
     ]
    }
   ],
   "source": [
    "flying_test(parrot())"
   ]
  },
  {
   "cell_type": "code",
   "execution_count": 72,
   "id": "07097b2c",
   "metadata": {},
   "outputs": [
    {
     "ename": "AttributeError",
     "evalue": "'Dog' object has no attribute 'fly'",
     "output_type": "error",
     "traceback": [
      "\u001b[0;31m---------------------------------------------------------------------------\u001b[0m",
      "\u001b[0;31mAttributeError\u001b[0m                            Traceback (most recent call last)",
      "Cell \u001b[0;32mIn [72], line 1\u001b[0m\n\u001b[0;32m----> 1\u001b[0m \u001b[43mflying_test\u001b[49m\u001b[43m(\u001b[49m\u001b[43mDog\u001b[49m\u001b[43m(\u001b[49m\u001b[43m)\u001b[49m\u001b[43m)\u001b[49m\n",
      "Cell \u001b[0;32mIn [70], line 2\u001b[0m, in \u001b[0;36mflying_test\u001b[0;34m(method)\u001b[0m\n\u001b[1;32m      1\u001b[0m \u001b[38;5;28;01mdef\u001b[39;00m \u001b[38;5;21mflying_test\u001b[39m(method):\n\u001b[0;32m----> 2\u001b[0m     \u001b[43mmethod\u001b[49m\u001b[38;5;241;43m.\u001b[39;49m\u001b[43mfly\u001b[49m()\n",
      "\u001b[0;31mAttributeError\u001b[0m: 'Dog' object has no attribute 'fly'"
     ]
    }
   ],
   "source": [
    "flying_test(Dog())"
   ]
  },
  {
   "cell_type": "code",
   "execution_count": 73,
   "id": "99d3016d",
   "metadata": {},
   "outputs": [],
   "source": [
    "def walking_test(method):\n",
    "    method.walk()"
   ]
  },
  {
   "cell_type": "code",
   "execution_count": 74,
   "id": "bc7eff33",
   "metadata": {},
   "outputs": [
    {
     "name": "stdout",
     "output_type": "stream",
     "text": [
      "Walking\n"
     ]
    }
   ],
   "source": [
    "walking_test(Dog())"
   ]
  },
  {
   "cell_type": "code",
   "execution_count": 75,
   "id": "0bbec393",
   "metadata": {},
   "outputs": [
    {
     "ename": "AttributeError",
     "evalue": "'Parrot' object has no attribute 'walk'",
     "output_type": "error",
     "traceback": [
      "\u001b[0;31m---------------------------------------------------------------------------\u001b[0m",
      "\u001b[0;31mAttributeError\u001b[0m                            Traceback (most recent call last)",
      "Cell \u001b[0;32mIn [75], line 1\u001b[0m\n\u001b[0;32m----> 1\u001b[0m \u001b[43mwalking_test\u001b[49m\u001b[43m(\u001b[49m\u001b[43mParrot\u001b[49m\u001b[43m(\u001b[49m\u001b[43m)\u001b[49m\u001b[43m)\u001b[49m\n",
      "Cell \u001b[0;32mIn [73], line 2\u001b[0m, in \u001b[0;36mwalking_test\u001b[0;34m(method)\u001b[0m\n\u001b[1;32m      1\u001b[0m \u001b[38;5;28;01mdef\u001b[39;00m \u001b[38;5;21mwalking_test\u001b[39m(method):\n\u001b[0;32m----> 2\u001b[0m     \u001b[43mmethod\u001b[49m\u001b[38;5;241;43m.\u001b[39;49m\u001b[43mwalk\u001b[49m()\n",
      "\u001b[0;31mAttributeError\u001b[0m: 'Parrot' object has no attribute 'walk'"
     ]
    }
   ],
   "source": [
    "walking_test(Parrot())"
   ]
  },
  {
   "cell_type": "markdown",
   "id": "d733644e",
   "metadata": {},
   "source": [
    "# Strong Typing (OOP)\n",
    "<br>\n",
    "\n",
    "### Strong typing in Object-Oriented Programming (OOP) in Python means that objects of a specific class have a specific type, and an operation involving objects of different types will result in an error\n",
    "<br>\n",
    "\n",
    "### Generally, a strongly typed language has stricter typing rules at compile time, which implies that errors and exceptions are more likely to happen during compilation. \n"
   ]
  },
  {
   "cell_type": "code",
   "execution_count": 76,
   "id": "fa82f32c",
   "metadata": {},
   "outputs": [],
   "source": [
    "class Person:\n",
    "    def __init__(self, name, age):\n",
    "        self.name = name\n",
    "        self.age = age\n",
    "        \n",
    "person1 = Person(\"John\", 30)\n"
   ]
  },
  {
   "cell_type": "code",
   "execution_count": 80,
   "id": "0328f686",
   "metadata": {},
   "outputs": [
    {
     "data": {
      "text/plain": [
       "__main__.Person"
      ]
     },
     "execution_count": 80,
     "metadata": {},
     "output_type": "execute_result"
    }
   ],
   "source": [
    "type(person1)"
   ]
  },
  {
   "cell_type": "markdown",
   "id": "58b2d2bd",
   "metadata": {},
   "source": [
    "## here person1 is the object\n",
    "<br>\n",
    "\n",
    "## trying to perform opertion"
   ]
  },
  {
   "cell_type": "code",
   "execution_count": 81,
   "id": "be608605",
   "metadata": {},
   "outputs": [
    {
     "ename": "TypeError",
     "evalue": "unsupported operand type(s) for +: 'Person' and 'int'",
     "output_type": "error",
     "traceback": [
      "\u001b[0;31m---------------------------------------------------------------------------\u001b[0m",
      "\u001b[0;31mTypeError\u001b[0m                                 Traceback (most recent call last)",
      "Cell \u001b[0;32mIn [81], line 1\u001b[0m\n\u001b[0;32m----> 1\u001b[0m \u001b[43mperson1\u001b[49m\u001b[43m \u001b[49m\u001b[38;5;241;43m+\u001b[39;49m\u001b[43m \u001b[49m\u001b[38;5;241;43m1\u001b[39;49m\n",
      "\u001b[0;31mTypeError\u001b[0m: unsupported operand type(s) for +: 'Person' and 'int'"
     ]
    }
   ],
   "source": [
    "person1 + 1"
   ]
  },
  {
   "cell_type": "markdown",
   "id": "6afae157",
   "metadata": {},
   "source": [
    "## can't sum with object + int both data type are different"
   ]
  },
  {
   "cell_type": "markdown",
   "id": "55c887ee",
   "metadata": {},
   "source": [
    "# Highly Recomended to Read this Concept\n",
    "<br>\n",
    "\n",
    "# <a href=\"https://github.com/Mubeen-Ahmad/python_11/\">click Here</a>"
   ]
  },
  {
   "cell_type": "markdown",
   "id": "da7556c0",
   "metadata": {},
   "source": [
    "<br><br>\n",
    "\n",
    "## In Duck typing we can check that the specfic method are exist or not with the help of hasattr bulit-In Function"
   ]
  },
  {
   "cell_type": "code",
   "execution_count": 85,
   "id": "aea9f151",
   "metadata": {},
   "outputs": [
    {
     "ename": "AttributeError",
     "evalue": "'Birds' object has no attribute 'walk'",
     "output_type": "error",
     "traceback": [
      "\u001b[0;31m---------------------------------------------------------------------------\u001b[0m",
      "\u001b[0;31mAttributeError\u001b[0m                            Traceback (most recent call last)",
      "Cell \u001b[0;32mIn [85], line 16\u001b[0m\n\u001b[1;32m     13\u001b[0m     obj\u001b[38;5;241m.\u001b[39mwalk()\n\u001b[1;32m     15\u001b[0m bird \u001b[38;5;241m=\u001b[39m Birds()\n\u001b[0;32m---> 16\u001b[0m \u001b[43mfunction\u001b[49m\u001b[43m(\u001b[49m\u001b[43mbird\u001b[49m\u001b[43m)\u001b[49m\n",
      "Cell \u001b[0;32mIn [85], line 13\u001b[0m, in \u001b[0;36mfunction\u001b[0;34m(obj)\u001b[0m\n\u001b[1;32m     12\u001b[0m \u001b[38;5;28;01mdef\u001b[39;00m \u001b[38;5;21mfunction\u001b[39m(obj):\n\u001b[0;32m---> 13\u001b[0m     \u001b[43mobj\u001b[49m\u001b[38;5;241;43m.\u001b[39;49m\u001b[43mwalk\u001b[49m()\n",
      "\u001b[0;31mAttributeError\u001b[0m: 'Birds' object has no attribute 'walk'"
     ]
    }
   ],
   "source": [
    "class Cat:\n",
    "    \n",
    "    def walk(self):\n",
    "        print(\"cats are walking\")\n",
    "        \n",
    "class Birds:\n",
    "    \n",
    "    def fly(self):\n",
    "        print(\"Birds are Flying\")\n",
    "        \n",
    "        \n",
    "def function(obj):\n",
    "    obj.walk()\n",
    "    \n",
    "bird = Birds()\n",
    "function(bird)"
   ]
  },
  {
   "cell_type": "markdown",
   "id": "291f54ea",
   "metadata": {},
   "source": [
    "## Use Strong typing Concept "
   ]
  },
  {
   "cell_type": "markdown",
   "id": "df78a82b",
   "metadata": {},
   "source": [
    "<br><br>\n",
    "\n",
    "## We can Check whether the object passed to th method has the method being invoked or not.\n",
    "<br>\n",
    "\n",
    "## hasattr() Function is used to check whether the object has a method or Not\n",
    "<br>\n",
    "\n",
    "# Syntax :- hasattr(object,attribute)\n",
    "<br>\n",
    "\n",
    "## Where attribute can be method or variable . if it is found in the object then this method return True/False"
   ]
  },
  {
   "cell_type": "code",
   "execution_count": 91,
   "id": "8776f1ce",
   "metadata": {},
   "outputs": [],
   "source": [
    "class Cat:\n",
    "    \n",
    "    def walk(self):\n",
    "        print(\"cats are walking\")\n"
   ]
  },
  {
   "cell_type": "code",
   "execution_count": 92,
   "id": "279116e9",
   "metadata": {},
   "outputs": [],
   "source": [
    "class Birds:\n",
    "    \n",
    "    def fly(self):\n",
    "        print(\"Birds are Flying\")\n",
    "        "
   ]
  },
  {
   "cell_type": "code",
   "execution_count": 93,
   "id": "f05bfbc2",
   "metadata": {},
   "outputs": [],
   "source": [
    "def function(obj):\n",
    "    \n",
    "    if hasattr(obj,'walk'):\n",
    "        obj.walk()\n",
    "    \n",
    "    else:\n",
    "        print(\"Walk Functionality are Not Found ...\")\n",
    "\n"
   ]
  },
  {
   "cell_type": "code",
   "execution_count": 95,
   "id": "cf03c1a6",
   "metadata": {},
   "outputs": [
    {
     "name": "stdout",
     "output_type": "stream",
     "text": [
      "cats are walking\n"
     ]
    }
   ],
   "source": [
    "function(Cat())"
   ]
  },
  {
   "cell_type": "code",
   "execution_count": 96,
   "id": "4724f0f6",
   "metadata": {},
   "outputs": [
    {
     "name": "stdout",
     "output_type": "stream",
     "text": [
      "Walk Functionality are Not Found ...\n"
     ]
    }
   ],
   "source": [
    "function(Birds())"
   ]
  }
 ],
 "metadata": {
  "kernelspec": {
   "display_name": "Python 3 (ipykernel)",
   "language": "python",
   "name": "python3"
  },
  "language_info": {
   "codemirror_mode": {
    "name": "ipython",
    "version": 3
   },
   "file_extension": ".py",
   "mimetype": "text/x-python",
   "name": "python",
   "nbconvert_exporter": "python",
   "pygments_lexer": "ipython3",
   "version": "3.10.6"
  }
 },
 "nbformat": 4,
 "nbformat_minor": 5
}

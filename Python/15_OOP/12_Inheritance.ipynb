{
 "cells": [
  {
   "cell_type": "markdown",
   "id": "6a5c3675",
   "metadata": {},
   "source": [
    "## Inheritance"
   ]
  },
  {
   "cell_type": "markdown",
   "id": "6d56131b",
   "metadata": {},
   "source": [
    "<br>\n",
    "\n",
    "## Inheritance allows us to define a class that inherits all the methods and properties from another class"
   ]
  },
  {
   "cell_type": "markdown",
   "id": "d1e488a6",
   "metadata": {},
   "source": [
    "<br><br><h1 style=\"color:#5d2ade;text-align:center;\">Inheritance is <b>IS A</b> Relation</h1><br><br>"
   ]
  },
  {
   "cell_type": "markdown",
   "id": "45a88b11",
   "metadata": {},
   "source": [
    "<img src=\"../../images/inher.png\" style=\"display: block;margin-left: auto;margin-right: auto;\n",
    "  width: 70%; border-radius:15px 10px 10px 10px;\">\n",
    "  "
   ]
  },
  {
   "cell_type": "markdown",
   "id": "12285103",
   "metadata": {},
   "source": [
    "<br><br>\n",
    "# Example\n",
    "<br><br>\n",
    "\n",
    "<img src=\"../../images/is_a.png\" style=\"display: block;margin-left: auto;margin-right: auto;\n",
    "  width: 70%; border-radius:15px 10px 10px 10px;\">\n",
    "  "
   ]
  },
  {
   "cell_type": "markdown",
   "id": "5e11b6a1",
   "metadata": {},
   "source": [
    "# Here Car and Truck IS A Vechile\n",
    "## Inheritance is a one-way relationship"
   ]
  },
  {
   "cell_type": "markdown",
   "id": "7c7eb1c0",
   "metadata": {},
   "source": [
    "<br><br>\n",
    "# Single Inheritance\n",
    "\n",
    "##  In single inheritance, a child class inherits from a single-parent class. Here is one child class and one parent class.\n",
    "\n",
    "<img src=\"../../images/single.jpg\" style=\"display: block;margin-left: auto;margin-right: auto;\n",
    "  width: 50%; border-radius:15px 15px 15px 15px;\">\n"
   ]
  },
  {
   "cell_type": "code",
   "execution_count": 16,
   "id": "d9b2d07f",
   "metadata": {},
   "outputs": [],
   "source": [
    "class Parent:\n",
    "    a = \"Parent\""
   ]
  },
  {
   "cell_type": "code",
   "execution_count": 17,
   "id": "ef99ec81",
   "metadata": {},
   "outputs": [],
   "source": [
    "class Child(Parent):\n",
    "    b = \"Child\""
   ]
  },
  {
   "cell_type": "code",
   "execution_count": 18,
   "id": "50de352b",
   "metadata": {},
   "outputs": [],
   "source": [
    "class Unknown:\n",
    "    c = \"Unknown\""
   ]
  },
  {
   "cell_type": "code",
   "execution_count": 19,
   "id": "cc35e349",
   "metadata": {},
   "outputs": [],
   "source": [
    "obj1 = Child()\n",
    "obj2 = Unknown()"
   ]
  },
  {
   "cell_type": "code",
   "execution_count": 21,
   "id": "c6b99928",
   "metadata": {},
   "outputs": [
    {
     "name": "stdout",
     "output_type": "stream",
     "text": [
      "Child\n",
      "Parent\n"
     ]
    }
   ],
   "source": [
    "print(obj1.b)\n",
    "print(obj1.a)"
   ]
  },
  {
   "cell_type": "code",
   "execution_count": 22,
   "id": "8ad96082",
   "metadata": {},
   "outputs": [
    {
     "name": "stdout",
     "output_type": "stream",
     "text": [
      "Unknown\n"
     ]
    }
   ],
   "source": [
    "print(obj2.c)"
   ]
  },
  {
   "cell_type": "code",
   "execution_count": 23,
   "id": "1034cd63",
   "metadata": {},
   "outputs": [
    {
     "ename": "AttributeError",
     "evalue": "'Unknown' object has no attribute 'a'",
     "output_type": "error",
     "traceback": [
      "\u001b[0;31m---------------------------------------------------------------------------\u001b[0m",
      "\u001b[0;31mAttributeError\u001b[0m                            Traceback (most recent call last)",
      "Cell \u001b[0;32mIn [23], line 1\u001b[0m\n\u001b[0;32m----> 1\u001b[0m \u001b[38;5;28mprint\u001b[39m(\u001b[43mobj2\u001b[49m\u001b[38;5;241;43m.\u001b[39;49m\u001b[43ma\u001b[49m)\n",
      "\u001b[0;31mAttributeError\u001b[0m: 'Unknown' object has no attribute 'a'"
     ]
    }
   ],
   "source": [
    "print(obj2.a)"
   ]
  },
  {
   "cell_type": "markdown",
   "id": "9e2fc6ed",
   "metadata": {},
   "source": [
    "## Only Child are Inherited with Parent Class.  Thats why only child class access the parent class\n",
    "<br><br><br>"
   ]
  },
  {
   "cell_type": "markdown",
   "id": "833c8fec",
   "metadata": {},
   "source": [
    "# Multiple Inheritance\n",
    "<br>\n",
    "\n",
    "## In multiple inheritance, one child class can inherit from multiple parent classes. So here is one child class and multiple parent classes.\n",
    "<br><br>\n",
    "\n",
    "<img src=\"../../images/multiple.png\" style=\"display: block;margin-left: auto;margin-right: auto;\n",
    "  width: 50%; border-radius:15px 15px 15px 15px;\">\n",
    "\n",
    "## Only Child can access Parent 1 and Parent 2 variables"
   ]
  },
  {
   "cell_type": "code",
   "execution_count": 1,
   "id": "f500bfa3",
   "metadata": {},
   "outputs": [],
   "source": [
    "class Parent1:\n",
    "    a = \"Parent 1\"\n",
    "\n",
    "class Parent2:\n",
    "    b = \"Parent 2\"\n",
    "    \n",
    "class Child(Parent2,Parent1):\n",
    "    c = \"Child\""
   ]
  },
  {
   "cell_type": "code",
   "execution_count": 2,
   "id": "556d15da",
   "metadata": {},
   "outputs": [
    {
     "name": "stdout",
     "output_type": "stream",
     "text": [
      "Parent 1\n",
      "Parent 2\n",
      "Child\n"
     ]
    }
   ],
   "source": [
    "print(Child().a)\n",
    "print(Child().b)\n",
    "print(Child().c)"
   ]
  },
  {
   "cell_type": "markdown",
   "id": "d57b319f",
   "metadata": {},
   "source": [
    "# Multilevel inheritance\n",
    "<br><br>\n",
    "\n",
    "## In multilevel inheritance, a class inherits from a child class or derived class.\n",
    "<br><br>\n",
    "\n",
    "## Suppose three classes A, B, C.\n",
    "<br><br>\n",
    "\n",
    "## A is the superclass, \n",
    "## B is the child class of A, \n",
    "## C is the child class of B. \n",
    "<br><br>\n",
    "\n",
    "## In other words, we can say that a chain of classes is called multilevel inheritance.\n",
    "<br><br>\n",
    "\n",
    "<img src=\"../../images/mul_level.png\" style=\"display: block;margin-left: auto;margin-right: auto;\n",
    "  width: 40%; border-radius:15px 15px 15px 15px;\">\n",
    "<br><br>\n",
    "\n",
    "## Child 2 access Child1 and Parent variables\n",
    "## Child 1 access only Parent variables"
   ]
  },
  {
   "cell_type": "code",
   "execution_count": 1,
   "id": "ea252eb1",
   "metadata": {},
   "outputs": [],
   "source": [
    "class Parent:\n",
    "    a = \"Parent\"\n",
    "\n",
    "class Child1(Parent):\n",
    "    b = \"Child 1\"\n",
    "    \n",
    "class Child2(Child1):\n",
    "    c = \"Child 2\""
   ]
  },
  {
   "cell_type": "code",
   "execution_count": 2,
   "id": "32bb9986",
   "metadata": {},
   "outputs": [
    {
     "name": "stdout",
     "output_type": "stream",
     "text": [
      "Child 2 Child 1 Parent\n"
     ]
    }
   ],
   "source": [
    "# Child 2\n",
    "print(Child2.c,Child2.b,Child2.a)\n"
   ]
  },
  {
   "cell_type": "code",
   "execution_count": 3,
   "id": "0245459b",
   "metadata": {},
   "outputs": [
    {
     "name": "stdout",
     "output_type": "stream",
     "text": [
      "Child 1 Parent\n"
     ]
    }
   ],
   "source": [
    "# Child 1\n",
    "print(Child1.b,Child1.a)"
   ]
  },
  {
   "cell_type": "markdown",
   "id": "b5b023fd",
   "metadata": {},
   "source": [
    "# Hierarchical Inheritance\n",
    "<br><br>\n",
    "\n",
    "## In Hierarchical inheritance, more than one child class is derived from a single parent class. \n",
    "<br><br>\n",
    "\n",
    "## In other words, we can say one parent class and multiple child classes.\n",
    "<br><br>\n",
    "\n",
    "<img src=\"../../images/her.png\" style=\"display: block;margin-left: auto;margin-right: auto;\n",
    "  width: 70%; border-radius:15px 15px 15px 15px;\" >\n",
    "<br><br>\n",
    "\n",
    "## All Child only access Parent Class Variables"
   ]
  },
  {
   "cell_type": "code",
   "execution_count": 6,
   "id": "4738d121",
   "metadata": {},
   "outputs": [],
   "source": [
    "class Parent:\n",
    "    cls = \"Father Class\"\n",
    "\n",
    "class Child1(Parent):\n",
    "    cls1 = \"Child 1\"\n",
    "\n",
    "class Child2(Parent):\n",
    "    cls2 = \"Child 2\"\n",
    "\n",
    "class Child3(Parent):\n",
    "    cls3 = \"Child 3\""
   ]
  },
  {
   "cell_type": "code",
   "execution_count": 7,
   "id": "612f6f44",
   "metadata": {},
   "outputs": [
    {
     "name": "stdout",
     "output_type": "stream",
     "text": [
      "Child 3 Father Class\n"
     ]
    }
   ],
   "source": [
    "# Child 3\n",
    "print(Child3.cls3,Child3.cls)"
   ]
  },
  {
   "cell_type": "code",
   "execution_count": 8,
   "id": "ff2b68fd",
   "metadata": {},
   "outputs": [
    {
     "name": "stdout",
     "output_type": "stream",
     "text": [
      "Child 2 Father Class\n"
     ]
    }
   ],
   "source": [
    "# Child 2\n",
    "print(Child2.cls2,Child2.cls)"
   ]
  },
  {
   "cell_type": "code",
   "execution_count": 9,
   "id": "5463cd88",
   "metadata": {},
   "outputs": [
    {
     "name": "stdout",
     "output_type": "stream",
     "text": [
      "Child 1 Father Class\n"
     ]
    }
   ],
   "source": [
    "# Child 1\n",
    "print(Child1.cls1,Child1.cls)"
   ]
  },
  {
   "cell_type": "markdown",
   "id": "06a63ae4",
   "metadata": {},
   "source": [
    "# Hybrid Inheritance\n",
    "<br><br>\n",
    "\n",
    "## When inheritance is consists of multiple types or a combination of different inheritance is called hybrid inheritance.\n",
    "<br><br>\n",
    "<img src=\"../../images/hr.png\" style=\"display: block;margin-left: auto;margin-right: auto;\n",
    "  width: 60%; border-radius:15px 15px 15px 15px;\">\n",
    "<br><br>\n",
    "## Child 3 access all class variables\n",
    "## Child 2 access only Parent class variable\n",
    "## Child 1 access only Parent class variable"
   ]
  },
  {
   "cell_type": "code",
   "execution_count": 117,
   "id": "ac6b12ed",
   "metadata": {},
   "outputs": [],
   "source": [
    "class Parent:\n",
    "    p = \"Parent\"\n",
    "    \n",
    "class Child1(Parent):\n",
    "    ch1 = \"Child 1\"\n",
    "\n",
    "class Child2(Parent):\n",
    "    ch2 = \"Child 2\"\n",
    "\n",
    "class Child3(Child1,Child2):\n",
    "    ch3 = \"Child 3\""
   ]
  },
  {
   "cell_type": "code",
   "execution_count": 12,
   "id": "d926595f",
   "metadata": {},
   "outputs": [
    {
     "name": "stdout",
     "output_type": "stream",
     "text": [
      "Child 3 Child 2 Child 1 Parent\n"
     ]
    }
   ],
   "source": [
    "# Child 3\n",
    "print(Child3().ch3,Child3().ch2,Child3().ch1,Child3().p)"
   ]
  },
  {
   "cell_type": "code",
   "execution_count": 13,
   "id": "acbae805",
   "metadata": {},
   "outputs": [
    {
     "name": "stdout",
     "output_type": "stream",
     "text": [
      "Child 2 Parent\n"
     ]
    }
   ],
   "source": [
    "# Child 2\n",
    "print(Child2().ch2,Child2().p)"
   ]
  },
  {
   "cell_type": "code",
   "execution_count": 14,
   "id": "f977c44c",
   "metadata": {},
   "outputs": [
    {
     "name": "stdout",
     "output_type": "stream",
     "text": [
      "Child 1 Parent\n"
     ]
    }
   ],
   "source": [
    "# Child 1\n",
    "print(Child1().ch1,Child1().p)"
   ]
  },
  {
   "cell_type": "markdown",
   "id": "76c1e5a9",
   "metadata": {},
   "source": [
    "# What Happend if __init__ method are defined in both classes\n",
    "<br><br>\n",
    "\n",
    "<img src=\"../../images/two_inher.png\" style=\"display: block;margin-left: auto;margin-right: auto;\n",
    "  width: 50%; border-radius:15px 15px 15px 15px;\">\n",
    "<br><br>\n"
   ]
  },
  {
   "cell_type": "code",
   "execution_count": 16,
   "id": "fd8a8ea8",
   "metadata": {},
   "outputs": [],
   "source": [
    "class Parent:\n",
    "    def __init__(self):\n",
    "        print(\"I am Parent class\")"
   ]
  },
  {
   "cell_type": "code",
   "execution_count": 18,
   "id": "b0fe43d1",
   "metadata": {},
   "outputs": [],
   "source": [
    "class Child(Parent):\n",
    "    def __init__(self):\n",
    "        print(\"I am Child class\")"
   ]
  },
  {
   "cell_type": "code",
   "execution_count": 19,
   "id": "76d842ef",
   "metadata": {},
   "outputs": [
    {
     "name": "stdout",
     "output_type": "stream",
     "text": [
      "I am Child class\n"
     ]
    }
   ],
   "source": [
    "obj = Child()"
   ]
  },
  {
   "cell_type": "markdown",
   "id": "5616dbc3",
   "metadata": {},
   "source": [
    "## So 2nd init method call Because its same as like :-\n",
    "<br><br>\n",
    "\n",
    "<img src=\"../../images/ex1.png\" style=\"display: block;margin-left: auto;margin-right: auto;\n",
    "  width: 50%; border-radius:15px 15px 15px 15px;\">\n",
    "<br><br>\n",
    "\n",
    "\n"
   ]
  },
  {
   "cell_type": "code",
   "execution_count": 7,
   "id": "a82f4fa4",
   "metadata": {},
   "outputs": [],
   "source": [
    "class X:\n",
    "    \n",
    "    def __init__(self):\n",
    "        print(\"Init method 1\")\n",
    "    \n",
    "    def __init__(self):\n",
    "        print(\"Init method 2\")"
   ]
  },
  {
   "cell_type": "code",
   "execution_count": 29,
   "id": "6f0a94c8",
   "metadata": {},
   "outputs": [
    {
     "name": "stdout",
     "output_type": "stream",
     "text": [
      "Init method 2\n"
     ]
    }
   ],
   "source": [
    "X.__init__(X)"
   ]
  },
  {
   "cell_type": "markdown",
   "id": "3ba615c8",
   "metadata": {},
   "source": [
    "# How to access parent class init method ?"
   ]
  },
  {
   "cell_type": "markdown",
   "id": "692505ed",
   "metadata": {},
   "source": [
    "# Use Super with Single Inheritance"
   ]
  },
  {
   "cell_type": "markdown",
   "id": "eb4e0721",
   "metadata": {},
   "source": [
    "<br><br>\n",
    "## Use super method()\n",
    "### super(self, /, *args, **kwargs)\n"
   ]
  },
  {
   "cell_type": "code",
   "execution_count": 62,
   "id": "885c23a4",
   "metadata": {},
   "outputs": [],
   "source": [
    "class Parent:\n",
    "    def __init__(self):\n",
    "        print(\"I am Parent class\")"
   ]
  },
  {
   "cell_type": "code",
   "execution_count": 63,
   "id": "f5423196",
   "metadata": {},
   "outputs": [],
   "source": [
    "class Child(Parent):\n",
    "    def __init__(self):\n",
    "        \n",
    "        # user super method here\n",
    "        super().__init__()\n",
    "        # it means if init method are exist in parent class\n",
    "        # than first call init method parent class\n",
    "        \n",
    "        print(\"I am Child class\")"
   ]
  },
  {
   "cell_type": "code",
   "execution_count": 64,
   "id": "9df1854f",
   "metadata": {},
   "outputs": [
    {
     "name": "stdout",
     "output_type": "stream",
     "text": [
      "I am Parent class\n",
      "I am Child class\n"
     ]
    }
   ],
   "source": [
    "obj = Child()"
   ]
  },
  {
   "cell_type": "markdown",
   "id": "70578d74",
   "metadata": {},
   "source": [
    "# use super(). method name\n",
    "## We can also used any method"
   ]
  },
  {
   "cell_type": "code",
   "execution_count": 68,
   "id": "cb70c7ba",
   "metadata": {},
   "outputs": [],
   "source": [
    "class A:\n",
    "    \n",
    "    def welcome(self):\n",
    "        print(\"Welcome A\")"
   ]
  },
  {
   "cell_type": "code",
   "execution_count": 69,
   "id": "4833e913",
   "metadata": {},
   "outputs": [],
   "source": [
    "class B(A):\n",
    "    \n",
    "    def welcome(self):\n",
    "        print(\"Welcome B\")"
   ]
  },
  {
   "cell_type": "code",
   "execution_count": 72,
   "id": "349bc2f0",
   "metadata": {},
   "outputs": [
    {
     "name": "stdout",
     "output_type": "stream",
     "text": [
      "Welcome B\n"
     ]
    }
   ],
   "source": [
    "obj = B()\n",
    "obj.welcome()"
   ]
  },
  {
   "cell_type": "markdown",
   "id": "83cb9c36",
   "metadata": {},
   "source": [
    "# Use Super method "
   ]
  },
  {
   "cell_type": "code",
   "execution_count": 73,
   "id": "afe4ac9c",
   "metadata": {},
   "outputs": [],
   "source": [
    "class A:\n",
    "    \n",
    "    def welcome(self):\n",
    "        print(\"Welcome A\")"
   ]
  },
  {
   "cell_type": "code",
   "execution_count": 78,
   "id": "b640c4a3",
   "metadata": {},
   "outputs": [],
   "source": [
    "class B(A):\n",
    "    \n",
    "    def welcome(self):\n",
    "        super().welcome()\n",
    "        print(\"Welcome B\")"
   ]
  },
  {
   "cell_type": "code",
   "execution_count": 77,
   "id": "7169c09d",
   "metadata": {},
   "outputs": [
    {
     "name": "stdout",
     "output_type": "stream",
     "text": [
      "Welcome A\n",
      "Welcome B\n"
     ]
    }
   ],
   "source": [
    "obj = B()\n",
    "obj.welcome()"
   ]
  },
  {
   "cell_type": "markdown",
   "id": "60aa1481",
   "metadata": {},
   "source": [
    "# Use Super with Multiple Inheritance"
   ]
  },
  {
   "cell_type": "markdown",
   "id": "ad1c4011",
   "metadata": {},
   "source": [
    "<br><br>\n",
    "<img src=\"../../images/multi_inher.png\" style=\"display: block;margin-left: auto;margin-right: auto;\n",
    "  width: 50%; border-radius:15px 15px 15px 15px;\">\n",
    "<br><br>\n"
   ]
  },
  {
   "cell_type": "code",
   "execution_count": 88,
   "id": "9959d36d",
   "metadata": {},
   "outputs": [],
   "source": [
    "class parent_1:\n",
    "    \n",
    "    def __init__(self):\n",
    "        print(\"Init method of parent 1\")\n",
    "        \n",
    "class parent_2:\n",
    "    \n",
    "    def __init__(self):\n",
    "        print(\"Init method of parent 2\")"
   ]
  },
  {
   "cell_type": "code",
   "execution_count": 85,
   "id": "5b2f94eb",
   "metadata": {},
   "outputs": [],
   "source": [
    "class child(parent_1,parent_2):\n",
    "    \n",
    "    def __init__(self):\n",
    "        super().__init__()\n",
    "        print(\"Init method of child\")"
   ]
  },
  {
   "cell_type": "code",
   "execution_count": 87,
   "id": "b7935f1a",
   "metadata": {},
   "outputs": [
    {
     "name": "stdout",
     "output_type": "stream",
     "text": [
      "Init method of parent 1\n",
      "Init method of child\n"
     ]
    },
    {
     "data": {
      "text/plain": [
       "<__main__.child at 0x7fe1c1e867d0>"
      ]
     },
     "execution_count": 87,
     "metadata": {},
     "output_type": "execute_result"
    }
   ],
   "source": [
    "obj = child()\n",
    "obj"
   ]
  },
  {
   "cell_type": "markdown",
   "id": "532d0dd8",
   "metadata": {},
   "source": [
    "# Why init method call only parent 1 class"
   ]
  },
  {
   "cell_type": "markdown",
   "id": "fed280e0",
   "metadata": {},
   "source": [
    "# Because i Inherit first parent_1 class"
   ]
  },
  {
   "cell_type": "markdown",
   "id": "ef42f80b",
   "metadata": {},
   "source": [
    "<br><br>\n",
    "# Now Change the Order"
   ]
  },
  {
   "cell_type": "code",
   "execution_count": 89,
   "id": "a4221249",
   "metadata": {},
   "outputs": [],
   "source": [
    "# change order\n",
    "class child(parent_2,parent_1):\n",
    "    \n",
    "    def __init__(self):\n",
    "        super().__init__()\n",
    "        print(\"Init method of child\")"
   ]
  },
  {
   "cell_type": "code",
   "execution_count": 90,
   "id": "8cd837b7",
   "metadata": {},
   "outputs": [
    {
     "name": "stdout",
     "output_type": "stream",
     "text": [
      "Init method of parent 2\n",
      "Init method of child\n"
     ]
    },
    {
     "data": {
      "text/plain": [
       "<__main__.child at 0x7fe1c1e86da0>"
      ]
     },
     "execution_count": 90,
     "metadata": {},
     "output_type": "execute_result"
    }
   ],
   "source": [
    "obj = child()\n",
    "obj"
   ]
  },
  {
   "cell_type": "markdown",
   "id": "7e5ff70b",
   "metadata": {},
   "source": [
    "## Super method with Multi Level Inheritance"
   ]
  },
  {
   "cell_type": "markdown",
   "id": "1e436b2c",
   "metadata": {},
   "source": [
    "<br><br>\n",
    "<img src=\"../../images/mul_level_inher.png\" style=\"display: block;margin-left: auto;margin-right: auto;\n",
    "  width: 40%; border-radius:15px 15px 15px 15px;\">\n",
    "<br><br>\n"
   ]
  },
  {
   "cell_type": "code",
   "execution_count": 14,
   "id": "8967a0b3",
   "metadata": {},
   "outputs": [],
   "source": [
    "class parent_1:\n",
    "    \n",
    "    def __init__(self):\n",
    "        print(\"Init method of parent 1\")\n",
    "        \n",
    "class parent_2(parent_1):\n",
    "    \n",
    "    def __init__(self):\n",
    "        print(\"Init method of parent 2\")"
   ]
  },
  {
   "cell_type": "code",
   "execution_count": 15,
   "id": "26a01698",
   "metadata": {},
   "outputs": [],
   "source": [
    "class child(parent_2):\n",
    "    \n",
    "    def __init__(self):\n",
    "        super().__init__()\n",
    "        print(\"Init method of child\")"
   ]
  },
  {
   "cell_type": "code",
   "execution_count": 16,
   "id": "a1c21787",
   "metadata": {},
   "outputs": [
    {
     "name": "stdout",
     "output_type": "stream",
     "text": [
      "Init method of parent 2\n",
      "Init method of child\n"
     ]
    }
   ],
   "source": [
    "obj = child()"
   ]
  },
  {
   "cell_type": "markdown",
   "id": "ab3ac866",
   "metadata": {},
   "source": [
    "## add super method in parent 2 to access parent 1"
   ]
  },
  {
   "cell_type": "code",
   "execution_count": 108,
   "id": "64b3a618",
   "metadata": {},
   "outputs": [],
   "source": [
    "class parent_1:\n",
    "    \n",
    "    def __init__(self):\n",
    "        print(\"Init method of parent 1\")\n",
    "        \n",
    "class parent_2(parent_1):\n",
    "    def __init__(self):\n",
    "        \n",
    "        super().__init__()\n",
    "        \n",
    "        print(\"Init method of parent 2\")"
   ]
  },
  {
   "cell_type": "code",
   "execution_count": 109,
   "id": "0b350f5f",
   "metadata": {},
   "outputs": [],
   "source": [
    "class child(parent_2):\n",
    "    \n",
    "    def __init__(self):\n",
    "        super().__init__()\n",
    "        print(\"Init method of child\")"
   ]
  },
  {
   "cell_type": "code",
   "execution_count": 110,
   "id": "ad1637b6",
   "metadata": {},
   "outputs": [
    {
     "name": "stdout",
     "output_type": "stream",
     "text": [
      "Init method of parent 1\n",
      "Init method of parent 2\n",
      "Init method of child\n"
     ]
    }
   ],
   "source": [
    "obj = child()"
   ]
  },
  {
   "cell_type": "markdown",
   "id": "f9c73180",
   "metadata": {},
   "source": [
    "# super method Hierarchical Inheritance \n"
   ]
  },
  {
   "cell_type": "code",
   "execution_count": 115,
   "id": "1ca1d1e4",
   "metadata": {},
   "outputs": [],
   "source": [
    "class Parent:\n",
    "    def __init__(self):\n",
    "        print(\"Init method of Parent\")\n",
    "\n",
    "class Child1(Parent):\n",
    "    def __init__(self):\n",
    "        print(\"Init method of Child 1\")\n",
    "\n",
    "\n",
    "class Child2(Parent):\n",
    "    def __init__(self):\n",
    "        print(\"Init method of Child 2\")\n",
    "\n",
    "\n",
    "class Child3(Parent):\n",
    "    def __init__(self):\n",
    "        super().__init__()\n",
    "        print(\"Init method of Child 3\")"
   ]
  },
  {
   "cell_type": "code",
   "execution_count": 116,
   "id": "af68a232",
   "metadata": {},
   "outputs": [
    {
     "name": "stdout",
     "output_type": "stream",
     "text": [
      "Init method of Parent\n",
      "Init method of Child 3\n"
     ]
    }
   ],
   "source": [
    "obj = Child3()"
   ]
  },
  {
   "cell_type": "markdown",
   "id": "a2574e77",
   "metadata": {},
   "source": [
    "# use Super in Hybrid Inheritance"
   ]
  },
  {
   "cell_type": "code",
   "execution_count": 17,
   "id": "a1b3e2ee",
   "metadata": {},
   "outputs": [],
   "source": [
    "class Parent:\n",
    "    def __init__(self):\n",
    "        print(\"init method of Parent\")\n",
    "    \n",
    "\n",
    "\n",
    "\n",
    "class Child1(Parent):\n",
    "    def __init__(self):\n",
    "        super().__init__()\n",
    "        print(\"init method of Child 1\")\n",
    "\n",
    "\n",
    "class Child2(Parent):\n",
    "    def __init__(self):\n",
    "        super().__init__()\n",
    "        print(\"init method of Child 2\")\n",
    "\n",
    "\n",
    "class Child4(Parent):\n",
    "    def __init__(self):\n",
    "        super().__init__()\n",
    "        print(\"init method of Child 4\")\n",
    "\n",
    "\n",
    "class Child3(Child1,Child2,Child4):\n",
    "    def __init__(self):\n",
    "        super().__init__()\n",
    "        print(\"init method of Child 3\")\n"
   ]
  },
  {
   "cell_type": "code",
   "execution_count": 188,
   "id": "097e50a1",
   "metadata": {},
   "outputs": [
    {
     "name": "stdout",
     "output_type": "stream",
     "text": [
      "init method of Parent\n",
      "init method of Child 4\n",
      "init method of Child 2\n",
      "init method of Child 1\n",
      "init method of Child 3\n"
     ]
    },
    {
     "data": {
      "text/plain": [
       "<__main__.Child3 at 0x7fe1d8749bd0>"
      ]
     },
     "execution_count": 188,
     "metadata": {},
     "output_type": "execute_result"
    }
   ],
   "source": [
    "Child3()"
   ]
  },
  {
   "cell_type": "markdown",
   "id": "ab3540f7",
   "metadata": {},
   "source": [
    "<br><br>\n",
    "<img src=\"../../images/wh.png\" style=\"display: block;margin-left: auto;margin-right: auto;\n",
    "  width: 50%; border-radius:15px 15px 15px 15px;\">\n",
    "<br><br>\n",
    "# Understand With Diagram\n",
    "<br><br>\n",
    "<img src=\"../../images/super_hb.png\" style=\"display: block;margin-left: auto;margin-right: auto;\n",
    "  width: 50%; border-radius:15px 15px 15px 15px;\">\n",
    "<br><br>\n"
   ]
  },
  {
   "cell_type": "code",
   "execution_count": null,
   "id": "7a69a6a9",
   "metadata": {},
   "outputs": [],
   "source": []
  }
 ],
 "metadata": {
  "kernelspec": {
   "display_name": "Python 3 (ipykernel)",
   "language": "python",
   "name": "python3"
  },
  "language_info": {
   "codemirror_mode": {
    "name": "ipython",
    "version": 3
   },
   "file_extension": ".py",
   "mimetype": "text/x-python",
   "name": "python",
   "nbconvert_exporter": "python",
   "pygments_lexer": "ipython3",
   "version": "3.10.6"
  }
 },
 "nbformat": 4,
 "nbformat_minor": 5
}

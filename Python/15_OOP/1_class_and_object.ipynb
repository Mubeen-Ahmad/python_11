{
 "cells": [
  {
   "cell_type": "markdown",
   "id": "64f2d370",
   "metadata": {},
   "source": [
    "# Introduction\n",
    "<br>\n",
    "<h3 style=\"color:#4e2abd;\">Object-Oriented Programming is built on the idea of objects and classes.<br><br>Any entity with a state and behavior is an object.<br><br>The state of an entity tells us about its type or value, but its behaviour tells us about the actions or activities it can do.\n",
    "</h3>"
   ]
  },
  {
   "cell_type": "markdown",
   "id": "eb59c416",
   "metadata": {},
   "source": [
    "# KeyPoints\n",
    "<br>\n",
    "\n",
    "<h3 style=\"color:#4e2abd;\">\n",
    "• What is Class<br>\n",
    ". What is Object<br>\n",
    ". Create Object<br>\n",
    ". Access Class<br>\n",
    ". Method in Class<br>\n",
    ". Method Argument (self) <br>\n",
    ". Differene in Class and Object <br>\n",
    "</h3>"
   ]
  },
  {
   "cell_type": "markdown",
   "id": "82a7d1a4",
   "metadata": {},
   "source": [
    "# Class\n",
    "<br><br>\n",
    "<h3 style=\"color:#4e2abd;\">• The class is a user-defined data structure that binds the data members and methods into a single unit.<br><br>• Class is a blueprint or code template for object creation.<br><br>• Using a class, you can create as many objects as you want.<br><br>• Class is a blueprint or code template for object creation.<br><br>• Using a class, you can create as many objects as you want.\n",
    "\n",
    "</h3>"
   ]
  },
  {
   "cell_type": "markdown",
   "id": "a9854305",
   "metadata": {},
   "source": [
    "<img src=\"../../images/class.png\" style=\" display: block;\n",
    "  margin-left: auto;\n",
    "  margin-right: auto;\n",
    "  width: 40%;\">"
   ]
  },
  {
   "cell_type": "markdown",
   "id": "67d67dc1",
   "metadata": {},
   "source": [
    "# Class Example"
   ]
  },
  {
   "cell_type": "code",
   "execution_count": 449,
   "id": "150f049d",
   "metadata": {},
   "outputs": [],
   "source": [
    "class Students:\n",
    "    \n",
    "    students_lists = [\"Mubeen\",\"Ali\",\"Anon\"]\n",
    "    total_classes = [\"Cyber-Security\",\"AI\",\"DSA\"]"
   ]
  },
  {
   "cell_type": "markdown",
   "id": "233d2a4f",
   "metadata": {},
   "source": [
    "# Object\n",
    "<br><br>\n",
    "<h3 style=\"color:#4e2abd;\">• An object is an instance of a class. <br><br>• It is a collection of attributes (variables) and methods.<br><br>• We use the object of a class to perform actions.<br><br>\n",
    "</h3>"
   ]
  },
  {
   "cell_type": "markdown",
   "id": "f079a19f",
   "metadata": {},
   "source": [
    "# Object Example"
   ]
  },
  {
   "cell_type": "code",
   "execution_count": 450,
   "id": "59fb8c9c",
   "metadata": {},
   "outputs": [],
   "source": [
    "# Access Students class \n",
    "\n",
    "st1 = Students() # ---> st1 is the object"
   ]
  },
  {
   "cell_type": "markdown",
   "id": "69a97204",
   "metadata": {},
   "source": [
    "## Access Students class variables , methods etc"
   ]
  },
  {
   "cell_type": "code",
   "execution_count": 451,
   "id": "2a043546",
   "metadata": {},
   "outputs": [
    {
     "data": {
      "text/plain": [
       "['Mubeen', 'Ali', 'Anon']"
      ]
     },
     "execution_count": 451,
     "metadata": {},
     "output_type": "execute_result"
    }
   ],
   "source": [
    "st1.students_lists"
   ]
  },
  {
   "cell_type": "code",
   "execution_count": 452,
   "id": "8311b540",
   "metadata": {},
   "outputs": [
    {
     "data": {
      "text/plain": [
       "['Cyber-Security', 'AI', 'DSA']"
      ]
     },
     "execution_count": 452,
     "metadata": {},
     "output_type": "execute_result"
    }
   ],
   "source": [
    "st1.total_classes"
   ]
  },
  {
   "cell_type": "markdown",
   "id": "712a8aea",
   "metadata": {},
   "source": [
    "## object Example 2"
   ]
  },
  {
   "cell_type": "code",
   "execution_count": 453,
   "id": "22cad103",
   "metadata": {},
   "outputs": [],
   "source": [
    "obj1 = Students()\n",
    "obj2 = Students()"
   ]
  },
  {
   "cell_type": "code",
   "execution_count": 454,
   "id": "7a72a5e7",
   "metadata": {},
   "outputs": [
    {
     "data": {
      "text/plain": [
       "['Mubeen', 'Ali', 'Anon']"
      ]
     },
     "execution_count": 454,
     "metadata": {},
     "output_type": "execute_result"
    }
   ],
   "source": [
    "obj1.students_lists"
   ]
  },
  {
   "cell_type": "code",
   "execution_count": 455,
   "id": "1c723367",
   "metadata": {},
   "outputs": [
    {
     "data": {
      "text/plain": [
       "['Mubeen', 'Ali', 'Anon']"
      ]
     },
     "execution_count": 455,
     "metadata": {},
     "output_type": "execute_result"
    }
   ],
   "source": [
    "obj2.students_lists"
   ]
  },
  {
   "cell_type": "markdown",
   "id": "6275d06a",
   "metadata": {},
   "source": [
    "# Methods in Class and Argument\n",
    "<br><br>\n",
    "<h3 style=\"color:#4e2abd;\">• A method is a procedure associated with a class and defines the behavior of the objects that are created from the class<br><br>• Methods are same as function. Inside the class functions are know as  Methods<br><br></h3>"
   ]
  },
  {
   "cell_type": "markdown",
   "id": "fc06107a",
   "metadata": {},
   "source": [
    "# Example 1"
   ]
  },
  {
   "cell_type": "code",
   "execution_count": 138,
   "id": "e2d99b8a",
   "metadata": {},
   "outputs": [],
   "source": [
    "class Students:\n",
    "\n",
    "    def names():\n",
    "        return \"Hy\""
   ]
  },
  {
   "cell_type": "code",
   "execution_count": 139,
   "id": "0cfd0239",
   "metadata": {},
   "outputs": [
    {
     "data": {
      "text/plain": [
       "'Hy'"
      ]
     },
     "execution_count": 139,
     "metadata": {},
     "output_type": "execute_result"
    }
   ],
   "source": [
    "Students.names()"
   ]
  },
  {
   "cell_type": "markdown",
   "id": "076525d1",
   "metadata": {},
   "source": [
    "# Example 2"
   ]
  },
  {
   "cell_type": "code",
   "execution_count": 144,
   "id": "9b8efff6",
   "metadata": {},
   "outputs": [],
   "source": [
    "class Students:\n",
    "\n",
    "    def names(x):\n",
    "        return f\"Hy {x}\""
   ]
  },
  {
   "cell_type": "code",
   "execution_count": 147,
   "id": "be5ddbb6",
   "metadata": {},
   "outputs": [
    {
     "data": {
      "text/plain": [
       "'Hy Mubeen'"
      ]
     },
     "execution_count": 147,
     "metadata": {},
     "output_type": "execute_result"
    }
   ],
   "source": [
    "Students.names(\"Mubeen\")"
   ]
  },
  {
   "cell_type": "markdown",
   "id": "4d0c89a0",
   "metadata": {},
   "source": [
    "# Create Multiples Objects"
   ]
  },
  {
   "cell_type": "code",
   "execution_count": 150,
   "id": "20a760b7",
   "metadata": {},
   "outputs": [],
   "source": [
    "student_1 = Students\n",
    "student_2 = Students\n",
    "student_3 = Students"
   ]
  },
  {
   "cell_type": "code",
   "execution_count": 151,
   "id": "1500abe5",
   "metadata": {},
   "outputs": [
    {
     "data": {
      "text/plain": [
       "'Hy Mubeen'"
      ]
     },
     "execution_count": 151,
     "metadata": {},
     "output_type": "execute_result"
    }
   ],
   "source": [
    "student_1.names(\"Mubeen\")"
   ]
  },
  {
   "cell_type": "code",
   "execution_count": 152,
   "id": "98970895",
   "metadata": {},
   "outputs": [
    {
     "data": {
      "text/plain": [
       "'Hy Ali'"
      ]
     },
     "execution_count": 152,
     "metadata": {},
     "output_type": "execute_result"
    }
   ],
   "source": [
    "student_2.names(\"Ali\")"
   ]
  },
  {
   "cell_type": "code",
   "execution_count": 153,
   "id": "b55d87e4",
   "metadata": {},
   "outputs": [
    {
     "data": {
      "text/plain": [
       "'Hy Ahmad'"
      ]
     },
     "execution_count": 153,
     "metadata": {},
     "output_type": "execute_result"
    }
   ],
   "source": [
    "student_3.names(\"Ahmad\")"
   ]
  },
  {
   "cell_type": "markdown",
   "id": "f73c00a4",
   "metadata": {},
   "source": [
    "# Call the Class with Method"
   ]
  },
  {
   "cell_type": "code",
   "execution_count": 262,
   "id": "225cfa58",
   "metadata": {},
   "outputs": [],
   "source": [
    "class Employee:\n",
    "    def names():\n",
    "        return \"Hy\""
   ]
  },
  {
   "cell_type": "markdown",
   "id": "e337f4c5",
   "metadata": {},
   "source": [
    "## Call the Class"
   ]
  },
  {
   "cell_type": "code",
   "execution_count": 456,
   "id": "244df04a",
   "metadata": {},
   "outputs": [
    {
     "data": {
      "text/plain": [
       "<__main__.Employee at 0x7f7b4d98d9c0>"
      ]
     },
     "execution_count": 456,
     "metadata": {},
     "output_type": "execute_result"
    }
   ],
   "source": [
    "Employee()"
   ]
  },
  {
   "cell_type": "markdown",
   "id": "d72a0c93",
   "metadata": {},
   "source": [
    "## EveryThing OK\n",
    "<br>\n",
    "\n",
    "## Trying to access method"
   ]
  },
  {
   "cell_type": "code",
   "execution_count": 161,
   "id": "daab5605",
   "metadata": {},
   "outputs": [
    {
     "data": {
      "text/plain": [
       "<bound method Employee.names of <__main__.Employee object at 0x7f7b4f386470>>"
      ]
     },
     "execution_count": 161,
     "metadata": {},
     "output_type": "execute_result"
    }
   ],
   "source": [
    "Employee().names"
   ]
  },
  {
   "cell_type": "markdown",
   "id": "2bc392f3",
   "metadata": {},
   "source": [
    "## its OK\n",
    "<br>\n",
    "\n",
    "## But When Trying to call method than python raise Error"
   ]
  },
  {
   "cell_type": "code",
   "execution_count": 162,
   "id": "b94b5955",
   "metadata": {},
   "outputs": [
    {
     "ename": "TypeError",
     "evalue": "Employee.names() takes 0 positional arguments but 1 was given",
     "output_type": "error",
     "traceback": [
      "\u001b[0;31m---------------------------------------------------------------------------\u001b[0m",
      "\u001b[0;31mTypeError\u001b[0m                                 Traceback (most recent call last)",
      "Cell \u001b[0;32mIn [162], line 1\u001b[0m\n\u001b[0;32m----> 1\u001b[0m \u001b[43mEmployee\u001b[49m\u001b[43m(\u001b[49m\u001b[43m)\u001b[49m\u001b[38;5;241;43m.\u001b[39;49m\u001b[43mnames\u001b[49m\u001b[43m(\u001b[49m\u001b[43m)\u001b[49m\n",
      "\u001b[0;31mTypeError\u001b[0m: Employee.names() takes 0 positional arguments but 1 was given"
     ]
    }
   ],
   "source": [
    "Employee().names()"
   ]
  },
  {
   "cell_type": "markdown",
   "id": "3056b509",
   "metadata": {},
   "source": [
    "## The Error is in class method i can't pass any argument but why python raise Error for 1 argument given ?"
   ]
  },
  {
   "cell_type": "markdown",
   "id": "aea94b90",
   "metadata": {},
   "source": [
    "<br>\n",
    "\n",
    "# Self Argument in Method\n",
    "<br><br>\n",
    "<h3 style=\"color:#4e2abd;\">• When We Call the class and also Call the Method than python automatic pass the self argument when the object are created </h3>\n",
    "<br><br> \n",
    "\n",
    "# So necessary to pass 1 argument (self)"
   ]
  },
  {
   "cell_type": "code",
   "execution_count": 308,
   "id": "f93a9960",
   "metadata": {},
   "outputs": [],
   "source": [
    "class Employee:\n",
    "    def names(self):\n",
    "        return f\"Hy {self}\""
   ]
  },
  {
   "cell_type": "code",
   "execution_count": 362,
   "id": "ad59d616",
   "metadata": {},
   "outputs": [
    {
     "data": {
      "text/plain": [
       "'Hy <__main__.Employee object at 0x7f7b4d99e6b0>'"
      ]
     },
     "execution_count": 362,
     "metadata": {},
     "output_type": "execute_result"
    }
   ],
   "source": [
    "Employee().names()"
   ]
  },
  {
   "cell_type": "markdown",
   "id": "518bb3a7",
   "metadata": {},
   "source": [
    "# self represents the instance of the class. <br><br>\n",
    "# By using the “self”  we can access the attributes and methods of the class in python.\n",
    "<br><br>\n",
    "# It binds the attributes with the given arguments.\n",
    "\n"
   ]
  },
  {
   "cell_type": "markdown",
   "id": "20a9ddfd",
   "metadata": {},
   "source": [
    "# Example 3"
   ]
  },
  {
   "cell_type": "code",
   "execution_count": 427,
   "id": "4fd201c9",
   "metadata": {},
   "outputs": [],
   "source": [
    "class check:\n",
    "    \n",
    "    def addr(self):\n",
    "        print(id(self))\n"
   ]
  },
  {
   "cell_type": "markdown",
   "id": "a7d038c6",
   "metadata": {},
   "source": [
    "## create object"
   ]
  },
  {
   "cell_type": "code",
   "execution_count": 458,
   "id": "f8c5a610",
   "metadata": {},
   "outputs": [],
   "source": [
    "obj1 = check()"
   ]
  },
  {
   "cell_type": "markdown",
   "id": "3047d2f9",
   "metadata": {},
   "source": [
    "## check object id"
   ]
  },
  {
   "cell_type": "code",
   "execution_count": 459,
   "id": "f6a175a7",
   "metadata": {},
   "outputs": [
    {
     "data": {
      "text/plain": [
       "140167559565888"
      ]
     },
     "execution_count": 459,
     "metadata": {},
     "output_type": "execute_result"
    }
   ],
   "source": [
    "id(obj1)"
   ]
  },
  {
   "cell_type": "markdown",
   "id": "d87a2a75",
   "metadata": {},
   "source": [
    "## call addr method and check id of self"
   ]
  },
  {
   "cell_type": "code",
   "execution_count": 462,
   "id": "5fc7959e",
   "metadata": {},
   "outputs": [
    {
     "name": "stdout",
     "output_type": "stream",
     "text": [
      "140167559565888\n"
     ]
    }
   ],
   "source": [
    "obj1.addr()"
   ]
  },
  {
   "cell_type": "markdown",
   "id": "01275d5a",
   "metadata": {},
   "source": [
    "## So self argument point to the Object Both Address are Same"
   ]
  },
  {
   "cell_type": "code",
   "execution_count": 384,
   "id": "b374df93",
   "metadata": {},
   "outputs": [
    {
     "data": {
      "text/plain": [
       "140167558697104"
      ]
     },
     "execution_count": 384,
     "metadata": {},
     "output_type": "execute_result"
    }
   ],
   "source": [
    "id(Employee())"
   ]
  },
  {
   "cell_type": "markdown",
   "id": "b2e8fdaa",
   "metadata": {},
   "source": [
    "# NOT we can use any name of argument instead of self\n",
    "<br>\n",
    "\n",
    "## self is just a Convention"
   ]
  },
  {
   "cell_type": "code",
   "execution_count": 464,
   "id": "73c31a08",
   "metadata": {},
   "outputs": [],
   "source": [
    "class Student:\n",
    "    def names(object_pointer,name):\n",
    "        return f\"hy {name}\""
   ]
  },
  {
   "cell_type": "code",
   "execution_count": 471,
   "id": "28851f4d",
   "metadata": {},
   "outputs": [],
   "source": [
    "student_1 = Student()\n",
    "student_2 = Student()"
   ]
  },
  {
   "cell_type": "code",
   "execution_count": 472,
   "id": "0df5721a",
   "metadata": {},
   "outputs": [
    {
     "data": {
      "text/plain": [
       "'hy Mubeen'"
      ]
     },
     "execution_count": 472,
     "metadata": {},
     "output_type": "execute_result"
    }
   ],
   "source": [
    "student_1.names(\"Mubeen\")"
   ]
  },
  {
   "cell_type": "code",
   "execution_count": 474,
   "id": "f4f83716",
   "metadata": {},
   "outputs": [
    {
     "data": {
      "text/plain": [
       "'hy Ali'"
      ]
     },
     "execution_count": 474,
     "metadata": {},
     "output_type": "execute_result"
    }
   ],
   "source": [
    "student_1.names(\"Ali\")"
   ]
  },
  {
   "cell_type": "markdown",
   "id": "e4d68824",
   "metadata": {},
   "source": [
    "# Difference between Class and Object"
   ]
  },
  {
   "cell_type": "markdown",
   "id": "8e6eeed0",
   "metadata": {},
   "source": [
    "<table>\n",
    "    \n",
    "<td style=\"color:#5d2ade; font-size:30px;   text-align: center;\">class</td>\n",
    "      \n",
    "<td style=\"color:#d96518; font-size:30px;   text-align: center;\">object</td>\n",
    "  \n",
    "</tr>\n",
    " <tr>\n",
    "\n",
    "<td style=\"color:#5d2ade; font-size:20px;\"><p>A class is a blueprint for declaring and creating objects</p></td>\n",
    "      \n",
    "<td style=\"color:#d96518; font-size:20px;\"><p>An object is a class instance that allows programmers to use variables and methods from inside the class.</p></td>\n",
    "  \n",
    "</tr>\n",
    " <tr>\n",
    "\n",
    "<td style=\"color:#5d2ade; font-size:20px;\"><p>Memory is not allocated to classes. Classes have no physical existence.<p>\n",
    "</td>\n",
    "      \n",
    "<td style=\"color:#d96518; font-size:20px;\"><p>When objects are created, memory is allocated to them in the heap memory.</p></td>\n",
    "</tr>\n",
    "\n",
    "<tr>\n",
    "\n",
    "<td style=\"color:#5d2ade; font-size:20px;\"><p>You can declare a class only once.<p>\n",
    "</td>\n",
    "      \n",
    "<td style=\"color:#d96518; font-size:20px;\"><p>A class can be used to create many objects.</p>\n",
    "    \n",
    "</td></tr>\n",
    "<tr>\n",
    "<td style=\"color:#5d2ade; font-size:20px;\"><p>Class is a logical entity.<p>\n",
    "</td>\n",
    "      \n",
    "<td style=\"color:#d96518; font-size:20px;\"><p>An object is a physical entity.</p></td>\n",
    "\n",
    "</tr>\n",
    "\n",
    "<tr>\n",
    "<td style=\"color:#5d2ade; font-size:20px;\"><p>We cannot manipulate class as it is not available in memory.<p>\n",
    "</td>\n",
    "      \n",
    "<td style=\"color:#d96518; font-size:20px;\"><p>Objects can be manipulated.</p></td>\n",
    "\n",
    "</tr>\n",
    "\n",
    " <tr>\n",
    "<td style=\"color:#5d2ade; font-size:20px;\"><p>Class is created using the class keyword like class Dog{}<p>\n",
    "</td>\n",
    "      \n",
    "<td style=\"color:#d96518; font-size:20px;\"><p>Objects are created through new keyword like Dog d = new Dog();. We can also create an object using the newInstance() method, clone() method, fatory method and using deserialization.</p></td>\n",
    "\n",
    "</tr>\n",
    "\n",
    " <tr>\n",
    "<td style=\"color:#5d2ade; font-size:20px;\"><p>Example: Mobile is a class.<p>\n",
    "</td>\n",
    "      \n",
    "<td style=\"color:#d96518; font-size:20px; \"><p>If Mobile is the class then iphone, redmi, blackberry, samsung are its objects which have different properties and behaviours.</p></td>\n",
    "</tr>\n",
    "</table>\n"
   ]
  },
  {
   "cell_type": "markdown",
   "id": "8afbe816",
   "metadata": {},
   "source": [
    "# Understand-Able Example of Class and Object\n",
    "\n",
    "## Let’s take an example of Sign Up page for better understanding:"
   ]
  },
  {
   "cell_type": "markdown",
   "id": "9b2cef61",
   "metadata": {},
   "source": [
    "<img src=\"../../images/register.png\" style=\" display: block;\n",
    "  margin-left: auto;\n",
    "  margin-right: auto;\n",
    "  width: 40%;\">"
   ]
  },
  {
   "cell_type": "code",
   "execution_count": 548,
   "id": "aef5793c",
   "metadata": {},
   "outputs": [],
   "source": [
    "#A class representing the sign-up form blueprint\n",
    "class Register:\n",
    "    \n",
    "    fname = \"\"\n",
    "    lname = \"\"\n",
    "    email = \"\"\n",
    "    password = \"\"\n",
    "    \n",
    "    def get_info(self):\n",
    "        \n",
    "        # if user enter the data than self take the user info\n",
    "        \n",
    "        \n",
    "        name = self.fname+\" \"+self.lname        \n",
    "        print(\"Name :\",name)\n",
    "        print(\"email : \",self.email)\n",
    "        print(\"password : \",self.password)\n",
    "\n"
   ]
  },
  {
   "cell_type": "markdown",
   "id": "3c125476",
   "metadata": {},
   "source": [
    "## When we create an object of this class, we can assign values to these properties as shown below:"
   ]
  },
  {
   "cell_type": "code",
   "execution_count": 549,
   "id": "688b820d",
   "metadata": {},
   "outputs": [],
   "source": [
    "Person1 = Register()"
   ]
  },
  {
   "cell_type": "code",
   "execution_count": 550,
   "id": "e56c6415",
   "metadata": {},
   "outputs": [],
   "source": [
    "Person1.fname = \"Mubeen\""
   ]
  },
  {
   "cell_type": "code",
   "execution_count": 551,
   "id": "8636c90a",
   "metadata": {},
   "outputs": [],
   "source": [
    "Person1.lname = \"Ahmad\""
   ]
  },
  {
   "cell_type": "code",
   "execution_count": 552,
   "id": "aea678c0",
   "metadata": {},
   "outputs": [],
   "source": [
    "Person1.email = \"mubeenahmad@abc.com\""
   ]
  },
  {
   "cell_type": "code",
   "execution_count": 554,
   "id": "a3733608",
   "metadata": {},
   "outputs": [],
   "source": [
    "Person1.password = \"12345\""
   ]
  },
  {
   "cell_type": "code",
   "execution_count": 555,
   "id": "f6a068b3",
   "metadata": {},
   "outputs": [
    {
     "name": "stdout",
     "output_type": "stream",
     "text": [
      "Name : Mubeen Ahmad\n",
      "email :  mubeenahmad@abc.com\n",
      "password :  12345\n"
     ]
    }
   ],
   "source": [
    "Person1.get_info()"
   ]
  },
  {
   "cell_type": "markdown",
   "id": "596f6bf3",
   "metadata": {},
   "source": [
    "# Example 2 Without using class variable"
   ]
  },
  {
   "cell_type": "code",
   "execution_count": 583,
   "id": "6a92dbfa",
   "metadata": {},
   "outputs": [],
   "source": [
    "#A class representing the sign-up form blueprint\n",
    "class Reg:\n",
    "    \n",
    "    def get_info(self,fname,lname,email,password):\n",
    "        \n",
    "        name = fname+\" \"+lname        \n",
    "        print(\"Name :\",name)\n",
    "        print(\"email : \",email)\n",
    "        print(\"password : \",password)\n",
    "\n"
   ]
  },
  {
   "cell_type": "code",
   "execution_count": 584,
   "id": "ba23c0da",
   "metadata": {},
   "outputs": [],
   "source": [
    "Person2 = Reg()"
   ]
  },
  {
   "cell_type": "code",
   "execution_count": 585,
   "id": "46650ce9",
   "metadata": {},
   "outputs": [
    {
     "name": "stdout",
     "output_type": "stream",
     "text": [
      "Name : Anon Cyber\n",
      "email :  anony@xyz\n",
      "password :  12345\n"
     ]
    }
   ],
   "source": [
    "Person2.get_info(\"Anon\",\"Cyber\",\"anony@xyz\",\"12345\")"
   ]
  }
 ],
 "metadata": {
  "kernelspec": {
   "display_name": "Python 3 (ipykernel)",
   "language": "python",
   "name": "python3"
  },
  "language_info": {
   "codemirror_mode": {
    "name": "ipython",
    "version": 3
   },
   "file_extension": ".py",
   "mimetype": "text/x-python",
   "name": "python",
   "nbconvert_exporter": "python",
   "pygments_lexer": "ipython3",
   "version": "3.10.6"
  }
 },
 "nbformat": 4,
 "nbformat_minor": 5
}

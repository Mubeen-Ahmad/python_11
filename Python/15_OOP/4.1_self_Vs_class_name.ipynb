{
 "cells": [
  {
   "cell_type": "markdown",
   "id": "cc99a791",
   "metadata": {},
   "source": [
    "<table>\n",
    "    \n",
    "<td style=\"color:#5d2ade; font-size:30px;   text-align: center;\">self</td>\n",
    "      \n",
    "<td style=\"color:#d96518; font-size:30px;   text-align: center;\">classname</td>\n",
    "  \n",
    "</tr>\n",
    " <tr>\n",
    "\n",
    "<td style=\"color:#5d2ade; font-size:20px;\"><p>Refers to the current instance of a class.</p></td>\n",
    "      \n",
    "<td style=\"color:#d96518; font-size:20px;\"><p>Refers to the class itself.</p></td>\n",
    "  \n",
    "</tr>\n",
    " <tr>\n",
    "\n",
    "<td style=\"color:#5d2ade; font-size:20px;\"><p>Is used to access instance variables and methods within a class.<p>\n",
    "</td>\n",
    "      \n",
    "<td style=\"color:#d96518; font-size:20px;\"><p>Is used to access class variables and methods.</p></td>\n",
    "</tr>\n",
    "\n",
    "<tr>\n",
    "\n",
    "<td style=\"color:#5d2ade; font-size:20px;\"><p>Is used inside an instance method to refer to the instance on which the method is called.<p>\n",
    "</td>\n",
    "      \n",
    "<td style=\"color:#d96518; font-size:20px;\"><p>Can be used in both class and instance methods, although it is more commonly used in class methods.</p>\n",
    "    \n",
    "</td></tr>\n",
    "<tr>\n",
    "<td style=\"color:#5d2ade; font-size:20px;\"><p>Is not used outside of a class definition.<p>\n",
    "</td>\n",
    "      \n",
    "<td style=\"color:#d96518; font-size:20px;\"><p>Can be used in both class and instance methods, although it is more commonly used in class methods.</p></td>\n",
    "\n",
    "</tr>\n",
    "\n",
    "\n",
    "\n",
    "</table>\n",
    "    "
   ]
  },
  {
   "cell_type": "markdown",
   "id": "c40fdd7a",
   "metadata": {},
   "source": [
    "# ClassVariables Access with self"
   ]
  },
  {
   "cell_type": "code",
   "execution_count": 2,
   "id": "6523d102",
   "metadata": {},
   "outputs": [],
   "source": [
    "class Person:\n",
    "    \n",
    "    # classvariable\n",
    "    name = \"Mubeen\"\n",
    "    \n",
    "    def __init__(self):\n",
    "        print(self.name)"
   ]
  },
  {
   "cell_type": "code",
   "execution_count": 3,
   "id": "d2c0a6b9",
   "metadata": {},
   "outputs": [
    {
     "name": "stdout",
     "output_type": "stream",
     "text": [
      "Mubeen\n"
     ]
    },
    {
     "data": {
      "text/plain": [
       "<__main__.Person at 0x7fb09cde2080>"
      ]
     },
     "execution_count": 3,
     "metadata": {},
     "output_type": "execute_result"
    }
   ],
   "source": [
    "Person()"
   ]
  },
  {
   "cell_type": "markdown",
   "id": "60027a5e",
   "metadata": {},
   "source": [
    "# ClassVariables Access with classname"
   ]
  },
  {
   "cell_type": "code",
   "execution_count": 4,
   "id": "4a883f5d",
   "metadata": {},
   "outputs": [],
   "source": [
    "class Person:\n",
    "    \n",
    "    # classvariable\n",
    "    name = \"Mubeen\"\n",
    "    \n",
    "    def __init__(self):\n",
    "        print(Person.name)"
   ]
  },
  {
   "cell_type": "code",
   "execution_count": 5,
   "id": "057e8455",
   "metadata": {},
   "outputs": [
    {
     "name": "stdout",
     "output_type": "stream",
     "text": [
      "Mubeen\n"
     ]
    },
    {
     "data": {
      "text/plain": [
       "<__main__.Person at 0x7fb09c93e920>"
      ]
     },
     "execution_count": 5,
     "metadata": {},
     "output_type": "execute_result"
    }
   ],
   "source": [
    "Person()"
   ]
  },
  {
   "cell_type": "markdown",
   "id": "ece30e16",
   "metadata": {},
   "source": [
    "# Class Variable with self Multiple Objects"
   ]
  },
  {
   "cell_type": "code",
   "execution_count": 8,
   "id": "614fe6f0",
   "metadata": {},
   "outputs": [],
   "source": [
    "class Test:\n",
    "    \n",
    "    counter = 0\n",
    "    def __init__(self):\n",
    "        self.unique_id = self.counter\n",
    "        \n",
    "        # Increment counter with self\n",
    "        self.counter+=1\n",
    "    "
   ]
  },
  {
   "cell_type": "code",
   "execution_count": 11,
   "id": "7b694049",
   "metadata": {},
   "outputs": [],
   "source": [
    "obj_1 = Test()\n",
    "obj_2 = Test()\n",
    "obj_3 = Test()"
   ]
  },
  {
   "cell_type": "code",
   "execution_count": 14,
   "id": "291d3aec",
   "metadata": {},
   "outputs": [
    {
     "name": "stdout",
     "output_type": "stream",
     "text": [
      "obj_1 0\n",
      "obj_2 0\n",
      "obj_3 0\n"
     ]
    }
   ],
   "source": [
    "print(\"obj_1\",obj_1.unique_id)\n",
    "print(\"obj_2\",obj_2.unique_id)\n",
    "print(\"obj_3\",obj_3.unique_id)"
   ]
  },
  {
   "cell_type": "markdown",
   "id": "7ff6e39b",
   "metadata": {},
   "source": [
    "# Why unique id are not Increment ?"
   ]
  },
  {
   "cell_type": "markdown",
   "id": "9a7ddc03",
   "metadata": {},
   "source": [
    "## Because EveryObjects have own id or address"
   ]
  },
  {
   "cell_type": "code",
   "execution_count": 15,
   "id": "a5dbb46f",
   "metadata": {},
   "outputs": [
    {
     "name": "stdout",
     "output_type": "stream",
     "text": [
      "140396155327808\n"
     ]
    }
   ],
   "source": [
    "print(id(obj_1))"
   ]
  },
  {
   "cell_type": "code",
   "execution_count": 16,
   "id": "ca8e17a8",
   "metadata": {},
   "outputs": [
    {
     "name": "stdout",
     "output_type": "stream",
     "text": [
      "140396155323728\n"
     ]
    }
   ],
   "source": [
    "print(id(obj_2))"
   ]
  },
  {
   "cell_type": "code",
   "execution_count": 17,
   "id": "d31736e5",
   "metadata": {},
   "outputs": [
    {
     "name": "stdout",
     "output_type": "stream",
     "text": [
      "140396155330112\n"
     ]
    }
   ],
   "source": [
    "print(id(obj_3))"
   ]
  },
  {
   "cell_type": "markdown",
   "id": "77321813",
   "metadata": {},
   "source": [
    "## But if we are used access counter with classname than counter variable are increment"
   ]
  },
  {
   "cell_type": "code",
   "execution_count": 18,
   "id": "d9346797",
   "metadata": {},
   "outputs": [],
   "source": [
    "class Test:\n",
    "    \n",
    "    counter = 0\n",
    "    def __init__(self):\n",
    "        self.unique_id = self.counter\n",
    "        \n",
    "        # Increment counter with classname\n",
    "        Test.counter+=1\n",
    "    "
   ]
  },
  {
   "cell_type": "markdown",
   "id": "16002f1d",
   "metadata": {},
   "source": [
    "# Now Check Unique id"
   ]
  },
  {
   "cell_type": "code",
   "execution_count": 19,
   "id": "498f8db6",
   "metadata": {},
   "outputs": [],
   "source": [
    "obj_1 = Test()\n",
    "obj_2 = Test()\n",
    "obj_3 = Test()"
   ]
  },
  {
   "cell_type": "code",
   "execution_count": 20,
   "id": "11d465ab",
   "metadata": {},
   "outputs": [
    {
     "name": "stdout",
     "output_type": "stream",
     "text": [
      "obj_1 0\n",
      "obj_2 1\n",
      "obj_3 2\n"
     ]
    }
   ],
   "source": [
    "print(\"obj_1\",obj_1.unique_id)\n",
    "print(\"obj_2\",obj_2.unique_id)\n",
    "print(\"obj_3\",obj_3.unique_id)"
   ]
  },
  {
   "cell_type": "markdown",
   "id": "d7a8f404",
   "metadata": {},
   "source": [
    "# Write a Program count the objects of class"
   ]
  },
  {
   "cell_type": "code",
   "execution_count": 67,
   "id": "3a051815",
   "metadata": {},
   "outputs": [],
   "source": [
    "class Persons:\n",
    "    \n",
    "    objects = 0\n",
    "    \n",
    "    def __init__(self):\n",
    "        \n",
    "        # we also use __class__ instead of Person\n",
    "        # Person.objects += 1\n",
    "        __class__.objects += 1"
   ]
  },
  {
   "cell_type": "code",
   "execution_count": 68,
   "id": "37ef40c8",
   "metadata": {},
   "outputs": [],
   "source": [
    "obj_1 = Persons()\n",
    "obj_2 = Persons()\n",
    "obj_3 = Persons()"
   ]
  },
  {
   "cell_type": "code",
   "execution_count": 69,
   "id": "dd304d8e",
   "metadata": {},
   "outputs": [
    {
     "data": {
      "text/plain": [
       "3"
      ]
     },
     "execution_count": 69,
     "metadata": {},
     "output_type": "execute_result"
    }
   ],
   "source": [
    "Persons.objects"
   ]
  }
 ],
 "metadata": {
  "kernelspec": {
   "display_name": "Python 3 (ipykernel)",
   "language": "python",
   "name": "python3"
  },
  "language_info": {
   "codemirror_mode": {
    "name": "ipython",
    "version": 3
   },
   "file_extension": ".py",
   "mimetype": "text/x-python",
   "name": "python",
   "nbconvert_exporter": "python",
   "pygments_lexer": "ipython3",
   "version": "3.10.6"
  }
 },
 "nbformat": 4,
 "nbformat_minor": 5
}

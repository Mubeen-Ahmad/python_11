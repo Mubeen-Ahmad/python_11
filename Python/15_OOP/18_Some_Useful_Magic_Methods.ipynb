{
 "cells": [
  {
   "cell_type": "markdown",
   "id": "e6ae8cb5",
   "metadata": {},
   "source": [
    "# repr\n",
    "## Return the canonical string representation of the object."
   ]
  },
  {
   "cell_type": "code",
   "execution_count": 46,
   "id": "5df1c1cb",
   "metadata": {},
   "outputs": [
    {
     "data": {
      "text/plain": [
       "'123'"
      ]
     },
     "execution_count": 46,
     "metadata": {},
     "output_type": "execute_result"
    }
   ],
   "source": [
    "repr(123)"
   ]
  },
  {
   "cell_type": "markdown",
   "id": "e42bf79c",
   "metadata": {},
   "source": [
    "# str\n",
    "## Create a new string object from the given objec"
   ]
  },
  {
   "cell_type": "code",
   "execution_count": 47,
   "id": "db551383",
   "metadata": {},
   "outputs": [
    {
     "data": {
      "text/plain": [
       "'123'"
      ]
     },
     "execution_count": 47,
     "metadata": {},
     "output_type": "execute_result"
    }
   ],
   "source": [
    "str(123)"
   ]
  },
  {
   "cell_type": "markdown",
   "id": "5d21f87f",
   "metadata": {},
   "source": [
    "## `__repr__` used in class"
   ]
  },
  {
   "cell_type": "code",
   "execution_count": 32,
   "id": "348c90fe",
   "metadata": {},
   "outputs": [],
   "source": [
    "class Person:\n",
    "    \n",
    "    def __init__(self,fname,lname):\n",
    "        self.fname = fname\n",
    "        self.lname = lname\n",
    "    \n",
    "    # repr method used in debuging purpose\n",
    "    def __repr__(self):\n",
    "        return f\"Person({self.fname},{self.lname})\""
   ]
  },
  {
   "cell_type": "code",
   "execution_count": 33,
   "id": "7f35f4c2",
   "metadata": {},
   "outputs": [],
   "source": [
    "obj1 = Person(\"Mubeen\",\"Ahmad\")"
   ]
  },
  {
   "cell_type": "markdown",
   "id": "3047efec",
   "metadata": {},
   "source": [
    "## repr are override to `__repr__`"
   ]
  },
  {
   "cell_type": "code",
   "execution_count": 50,
   "id": "f8b824a5",
   "metadata": {},
   "outputs": [
    {
     "name": "stdout",
     "output_type": "stream",
     "text": [
      "Person(Mubeen,Ahmad)\n"
     ]
    }
   ],
   "source": [
    "print(repr(obj1))"
   ]
  },
  {
   "cell_type": "code",
   "execution_count": 51,
   "id": "93fc9f99",
   "metadata": {},
   "outputs": [
    {
     "data": {
      "text/plain": [
       "__main__.Person"
      ]
     },
     "execution_count": 51,
     "metadata": {},
     "output_type": "execute_result"
    }
   ],
   "source": [
    "type(obj1)"
   ]
  },
  {
   "cell_type": "markdown",
   "id": "e8755162",
   "metadata": {},
   "source": [
    "## `__str__` used in class"
   ]
  },
  {
   "cell_type": "code",
   "execution_count": 53,
   "id": "cbb6ded4",
   "metadata": {},
   "outputs": [],
   "source": [
    "class Person:\n",
    "    \n",
    "    def __init__(self,fname,lname):\n",
    "        self.fname = fname\n",
    "        self.lname = lname\n",
    "    \n",
    "    # str are used for convert object in string\n",
    "    def __str__(self):\n",
    "        return f\"Person({self.fname},{self.lname})\""
   ]
  },
  {
   "cell_type": "code",
   "execution_count": 54,
   "id": "81d0299e",
   "metadata": {},
   "outputs": [],
   "source": [
    "obj1 = Person(\"Mubeen\",\"Ahmad\")"
   ]
  },
  {
   "cell_type": "code",
   "execution_count": 56,
   "id": "278f0261",
   "metadata": {},
   "outputs": [
    {
     "name": "stdout",
     "output_type": "stream",
     "text": [
      "Person(Mubeen,Ahmad)\n"
     ]
    }
   ],
   "source": [
    "print(str(obj1))"
   ]
  },
  {
   "cell_type": "code",
   "execution_count": 57,
   "id": "21cc8455",
   "metadata": {},
   "outputs": [
    {
     "name": "stdout",
     "output_type": "stream",
     "text": [
      "<class 'str'>\n"
     ]
    }
   ],
   "source": [
    "print(type(str(obj1)))"
   ]
  },
  {
   "cell_type": "markdown",
   "id": "7444432e",
   "metadata": {},
   "source": [
    "# Example 2"
   ]
  },
  {
   "cell_type": "code",
   "execution_count": 23,
   "id": "e38683d7",
   "metadata": {},
   "outputs": [],
   "source": [
    "class Person:\n",
    "    \n",
    "    def __init__(self,fname,lname):\n",
    "        self.fname = fname\n",
    "        self.lname = lname\n",
    "    \n",
    "    def __repr__(self):\n",
    "        return f\"Person({self.fname},{self.lname})\"\n",
    "    \n",
    "    def __str__(self):\n",
    "        return f\"First Name : {self.fname}\\nLast Name : {self.lname}\""
   ]
  },
  {
   "cell_type": "code",
   "execution_count": 91,
   "id": "190e9843",
   "metadata": {},
   "outputs": [],
   "source": [
    "obj = Person(\"Mubeen\",\"Ahmad\")"
   ]
  },
  {
   "cell_type": "code",
   "execution_count": 92,
   "id": "77eaaf5e",
   "metadata": {},
   "outputs": [
    {
     "name": "stdout",
     "output_type": "stream",
     "text": [
      "First Name : Mubeen\n",
      "Last Name : Ahmad\n"
     ]
    }
   ],
   "source": [
    "print(str(obj))"
   ]
  },
  {
   "cell_type": "code",
   "execution_count": 93,
   "id": "f35cd9d9",
   "metadata": {},
   "outputs": [
    {
     "name": "stdout",
     "output_type": "stream",
     "text": [
      "Person(Mubeen,Ahmad)\n"
     ]
    }
   ],
   "source": [
    "print(repr(obj))"
   ]
  },
  {
   "cell_type": "markdown",
   "id": "2898236a",
   "metadata": {},
   "source": [
    "# str are override --> (`__str__`)"
   ]
  },
  {
   "cell_type": "markdown",
   "id": "6773be46",
   "metadata": {},
   "source": [
    "# repr are override --> (`__repr__`)\n"
   ]
  },
  {
   "cell_type": "markdown",
   "id": "a581d6fb",
   "metadata": {},
   "source": [
    "<br>\n",
    "\n",
    "## Difference Between `__str__` V/S `__repr__`\n",
    "<br>\n",
    "\n",
    "* ### The __str__ function is supposed to return a human-readable format, which is good for logging or to display some information about the object. \n",
    "<br>\n",
    "\n",
    "* ### Whereas, the __repr__ function is supposed to return an “official” string representation of the object, which can be used to construct the object again. "
   ]
  },
  {
   "cell_type": "markdown",
   "id": "44e45191",
   "metadata": {},
   "source": [
    "<br>\n",
    "\n",
    "# int and float\n",
    "\n",
    "# `__int__` are used for convert object in integer\n",
    "<br>\n",
    "\n",
    "# `__float__` are used for convert object in integer"
   ]
  },
  {
   "cell_type": "code",
   "execution_count": 117,
   "id": "ba63000d",
   "metadata": {},
   "outputs": [],
   "source": [
    "class Numbers:\n",
    "    \n",
    "    def __init__(self,value):\n",
    "        self.value = value\n",
    "        \n",
    "    def __int__(self):\n",
    "        return int(self.value)\n",
    "    \n",
    "    def __add__(self,outer):\n",
    "        return self.value + outer.value\n",
    "    "
   ]
  },
  {
   "cell_type": "code",
   "execution_count": 118,
   "id": "6cc576c8",
   "metadata": {},
   "outputs": [],
   "source": [
    "v1 = Numbers(\"1\")\n",
    "v2 = Numbers(\"2\")"
   ]
  },
  {
   "cell_type": "code",
   "execution_count": 119,
   "id": "cad5e3bb",
   "metadata": {},
   "outputs": [
    {
     "data": {
      "text/plain": [
       "3"
      ]
     },
     "execution_count": 119,
     "metadata": {},
     "output_type": "execute_result"
    }
   ],
   "source": [
    "int(v1) + int(v2)"
   ]
  },
  {
   "cell_type": "markdown",
   "id": "228767a3",
   "metadata": {},
   "source": [
    "## float"
   ]
  },
  {
   "cell_type": "code",
   "execution_count": 120,
   "id": "ae8072a8",
   "metadata": {},
   "outputs": [],
   "source": [
    "class Numbers:\n",
    "    \n",
    "    def __init__(self,value):\n",
    "        self.value = value\n",
    "        \n",
    "    def __float__(self):\n",
    "        return float(self.value)\n",
    "    \n",
    "    def __add__(self,outer):\n",
    "        return self.value + outer.value\n",
    "    "
   ]
  },
  {
   "cell_type": "code",
   "execution_count": 121,
   "id": "fe613454",
   "metadata": {},
   "outputs": [],
   "source": [
    "v1 = Numbers(\"1\")\n",
    "v2 = Numbers(\"2\")"
   ]
  },
  {
   "cell_type": "code",
   "execution_count": 122,
   "id": "b3e0de6f",
   "metadata": {},
   "outputs": [
    {
     "data": {
      "text/plain": [
       "3.0"
      ]
     },
     "execution_count": 122,
     "metadata": {},
     "output_type": "execute_result"
    }
   ],
   "source": [
    "float(v1) + float(v2)"
   ]
  },
  {
   "cell_type": "markdown",
   "id": "d7a568f7",
   "metadata": {},
   "source": [
    "# `__len__` \n",
    "## return the length"
   ]
  },
  {
   "cell_type": "code",
   "execution_count": 123,
   "id": "2f1bd3e1",
   "metadata": {},
   "outputs": [],
   "source": [
    "class Person:\n",
    "    \n",
    "    def __init__(self,name):\n",
    "        self.name = name\n",
    "        \n",
    "    def __len__(self):\n",
    "        return len(self.name)"
   ]
  },
  {
   "cell_type": "code",
   "execution_count": 124,
   "id": "8af5a003",
   "metadata": {},
   "outputs": [],
   "source": [
    "obj = Person(\"Mubeen\")"
   ]
  },
  {
   "cell_type": "code",
   "execution_count": 125,
   "id": "1ff915aa",
   "metadata": {},
   "outputs": [
    {
     "data": {
      "text/plain": [
       "6"
      ]
     },
     "execution_count": 125,
     "metadata": {},
     "output_type": "execute_result"
    }
   ],
   "source": [
    "len(obj)"
   ]
  },
  {
   "cell_type": "markdown",
   "id": "58dcda29",
   "metadata": {},
   "source": [
    "# Dictionary Magic Methods"
   ]
  },
  {
   "cell_type": "markdown",
   "id": "7953f7e0",
   "metadata": {},
   "source": [
    "<h1> __missing__ <br> </h1>\n",
    "<h3>__missing__ method is a special method that is defined in the dict class and it's used to handle the case when a requested key is not found in the dictionary.<br><br> </h3>\n"
   ]
  },
  {
   "cell_type": "code",
   "execution_count": 139,
   "id": "2575464c",
   "metadata": {},
   "outputs": [],
   "source": [
    "class Dictionary(dict):\n",
    "     \n",
    "    def __missing__(self,dict):\n",
    "        return f\"{dict} key are not exists in {self}\"\n"
   ]
  },
  {
   "cell_type": "code",
   "execution_count": 140,
   "id": "ae443175",
   "metadata": {},
   "outputs": [],
   "source": [
    "obj = Dictionary({\"Name\":'Mubeen'})"
   ]
  },
  {
   "cell_type": "code",
   "execution_count": 141,
   "id": "b35918fd",
   "metadata": {},
   "outputs": [
    {
     "name": "stdout",
     "output_type": "stream",
     "text": [
      "Mubeen\n"
     ]
    }
   ],
   "source": [
    "print(obj[\"Name\"])"
   ]
  },
  {
   "cell_type": "code",
   "execution_count": 142,
   "id": "95a727d1",
   "metadata": {},
   "outputs": [
    {
     "name": "stdout",
     "output_type": "stream",
     "text": [
      "N key are not exists in {'Name': 'Mubeen'}\n"
     ]
    }
   ],
   "source": [
    "print(obj[\"N\"])"
   ]
  },
  {
   "cell_type": "markdown",
   "id": "7e0cd210",
   "metadata": {},
   "source": [
    "<h1> __getitem__ <br> </h1>\n",
    "<h3>The __getitem__ method in Python is a special method that allows objects to behave like a sequence or a mapping.<br><br>It is called when you try to access an element of an object using square bracket notation. </h3>\n"
   ]
  },
  {
   "cell_type": "code",
   "execution_count": 53,
   "id": "66359b09",
   "metadata": {},
   "outputs": [],
   "source": [
    "data = {\"name\":\"Mubeen\"}"
   ]
  },
  {
   "cell_type": "code",
   "execution_count": 81,
   "id": "9b7d2953",
   "metadata": {},
   "outputs": [],
   "source": [
    "class Temp:\n",
    "    def __init__(self, items):\n",
    "        self.items = items\n",
    "    \n",
    "    def __getitem__(self, index):\n",
    "        print(\"__getitem__ Executed\")\n",
    "        return self.items.get(index)\n",
    "       \n"
   ]
  },
  {
   "cell_type": "code",
   "execution_count": 82,
   "id": "fd9b3bde",
   "metadata": {},
   "outputs": [],
   "source": [
    "obj = Temp(data)"
   ]
  },
  {
   "cell_type": "code",
   "execution_count": 83,
   "id": "69c3cf2c",
   "metadata": {},
   "outputs": [
    {
     "name": "stdout",
     "output_type": "stream",
     "text": [
      "__getitem__ Executed\n",
      "Mubeen\n"
     ]
    }
   ],
   "source": [
    "print(obj[\"name\"])"
   ]
  },
  {
   "cell_type": "markdown",
   "id": "9da9cbd1",
   "metadata": {},
   "source": [
    "<h1> __setitem__ <br> </h1>\n",
    "<h3>The __setitem__ method in Python is another special method that allows objects to behave like a sequence or a mapping.</h3>\n"
   ]
  },
  {
   "cell_type": "code",
   "execution_count": 150,
   "id": "92202a11",
   "metadata": {},
   "outputs": [],
   "source": [
    "data = {\"name\":\"Mubeen\"}"
   ]
  },
  {
   "cell_type": "code",
   "execution_count": 151,
   "id": "458d9661",
   "metadata": {},
   "outputs": [],
   "source": [
    "class Temp:\n",
    "    def __init__(self, items):\n",
    "        self.items = items\n",
    "    \n",
    "    def __getitem__(self, index):\n",
    "        return self.items.get(index)\n",
    "    \n",
    "    def __setitem__(self, index,new):\n",
    "        print(\"Values are Updated\")\n",
    "        self.items.update({index:new})\n",
    "\n",
    "       \n"
   ]
  },
  {
   "cell_type": "code",
   "execution_count": 152,
   "id": "430945b9",
   "metadata": {},
   "outputs": [],
   "source": [
    "obj = Temp(data)"
   ]
  },
  {
   "cell_type": "code",
   "execution_count": 153,
   "id": "4eca3ad1",
   "metadata": {},
   "outputs": [
    {
     "name": "stdout",
     "output_type": "stream",
     "text": [
      "Mubeen\n"
     ]
    }
   ],
   "source": [
    "print(obj[\"name\"])"
   ]
  },
  {
   "cell_type": "code",
   "execution_count": 154,
   "id": "5058d574",
   "metadata": {},
   "outputs": [
    {
     "name": "stdout",
     "output_type": "stream",
     "text": [
      "Values are Updated\n"
     ]
    }
   ],
   "source": [
    "obj[\"name\"] = \"Ali\""
   ]
  },
  {
   "cell_type": "code",
   "execution_count": 155,
   "id": "0589483b",
   "metadata": {},
   "outputs": [
    {
     "name": "stdout",
     "output_type": "stream",
     "text": [
      "Ali\n"
     ]
    }
   ],
   "source": [
    "print(obj[\"name\"])"
   ]
  },
  {
   "cell_type": "markdown",
   "id": "9a5bdc7c",
   "metadata": {},
   "source": [
    "<h1> __getattr__ <br> </h1>\n",
    "<h3>if the attribute are not exist in class than __getattr__ executed and raise Error</h3>\n"
   ]
  },
  {
   "cell_type": "code",
   "execution_count": 1,
   "id": "fde49b82",
   "metadata": {},
   "outputs": [],
   "source": [
    "class Temp:\n",
    "    \n",
    "    def __init__(self,name):\n",
    "        self.name = name\n",
    "        \n",
    "    def __getattr__(self,attr):\n",
    "        print(\"I am __getattr__ method\")\n"
   ]
  },
  {
   "cell_type": "code",
   "execution_count": 2,
   "id": "d794780f",
   "metadata": {},
   "outputs": [],
   "source": [
    "obj = Temp(\"Mubeen\")"
   ]
  },
  {
   "cell_type": "markdown",
   "id": "de000b86",
   "metadata": {},
   "source": [
    "## obj.name are exist in class trying to access it"
   ]
  },
  {
   "cell_type": "code",
   "execution_count": 3,
   "id": "28d801d8",
   "metadata": {},
   "outputs": [
    {
     "name": "stdout",
     "output_type": "stream",
     "text": [
      "Mubeen\n"
     ]
    }
   ],
   "source": [
    "print(obj.name)"
   ]
  },
  {
   "cell_type": "markdown",
   "id": "36200523",
   "metadata": {},
   "source": [
    "## Now when i access other attribute that are not exist inside class than getattr call itself"
   ]
  },
  {
   "cell_type": "code",
   "execution_count": 4,
   "id": "f7fe568a",
   "metadata": {},
   "outputs": [
    {
     "name": "stdout",
     "output_type": "stream",
     "text": [
      "I am __getattr__ method\n",
      "None\n"
     ]
    }
   ],
   "source": [
    "print(obj.roll_no)"
   ]
  },
  {
   "cell_type": "markdown",
   "id": "4bfc293b",
   "metadata": {},
   "source": [
    "# Example 2"
   ]
  },
  {
   "cell_type": "code",
   "execution_count": 112,
   "id": "7c009afd",
   "metadata": {},
   "outputs": [],
   "source": [
    "class Temp:\n",
    "    \n",
    "    def __init__(self,name):\n",
    "        self.name = name\n",
    "        \n",
    "    def __getattr__(self,attr):\n",
    "        return f\"Sorry {attr} are not exist in class\""
   ]
  },
  {
   "cell_type": "code",
   "execution_count": 113,
   "id": "2df166a9",
   "metadata": {},
   "outputs": [],
   "source": [
    "obj = Temp(\"Mubeen\")"
   ]
  },
  {
   "cell_type": "code",
   "execution_count": 114,
   "id": "e8befc65",
   "metadata": {},
   "outputs": [
    {
     "name": "stdout",
     "output_type": "stream",
     "text": [
      "Mubeen\n"
     ]
    }
   ],
   "source": [
    "print(obj.name)"
   ]
  },
  {
   "cell_type": "code",
   "execution_count": 115,
   "id": "20cd0953",
   "metadata": {},
   "outputs": [
    {
     "name": "stdout",
     "output_type": "stream",
     "text": [
      "Sorry _roll_no are not exist in class\n"
     ]
    }
   ],
   "source": [
    "print(obj._roll_no)"
   ]
  },
  {
   "cell_type": "markdown",
   "id": "e0890be6",
   "metadata": {},
   "source": [
    "# Example 3"
   ]
  },
  {
   "cell_type": "code",
   "execution_count": 126,
   "id": "61981948",
   "metadata": {},
   "outputs": [],
   "source": [
    "class DynamicAttributes:\n",
    "    \n",
    "    def __getattr__(self, attr):\n",
    "        \n",
    "        if attr == \"name\":\n",
    "            return \"Mubeen\"\n",
    "        \n",
    "        elif attr == \"roll_no\":\n",
    "            return \"48\"\n",
    "        \n",
    "        else:\n",
    "            return f\"Sorry {attr} are not exists\"\n"
   ]
  },
  {
   "cell_type": "code",
   "execution_count": 127,
   "id": "356ceab7",
   "metadata": {},
   "outputs": [],
   "source": [
    "data = DynamicAttributes()"
   ]
  },
  {
   "cell_type": "code",
   "execution_count": 128,
   "id": "c75875c3",
   "metadata": {},
   "outputs": [
    {
     "name": "stdout",
     "output_type": "stream",
     "text": [
      "Mubeen\n"
     ]
    }
   ],
   "source": [
    "print(data.name)"
   ]
  },
  {
   "cell_type": "code",
   "execution_count": 129,
   "id": "38a26769",
   "metadata": {},
   "outputs": [
    {
     "name": "stdout",
     "output_type": "stream",
     "text": [
      "48\n"
     ]
    }
   ],
   "source": [
    "print(data.roll_no)"
   ]
  },
  {
   "cell_type": "code",
   "execution_count": 130,
   "id": "9ada1156",
   "metadata": {},
   "outputs": [
    {
     "name": "stdout",
     "output_type": "stream",
     "text": [
      "Sorry passwd are not exists\n"
     ]
    }
   ],
   "source": [
    "print(data.passwd)"
   ]
  },
  {
   "cell_type": "markdown",
   "id": "b523f57e",
   "metadata": {},
   "source": [
    "<h1> __setattr__ <br> </h1>\n",
    "<h3>The __setattr__ magic method in Python is a special method that is used to set the value of an object's attribute.<br><br> It is called automatically when an attribute is assigned to an instance of a class. <br><br>This method allows you to customize the way attributes are set on an object and enforce certain constraints or behavior.<br><br>__setattr__ takes the 3 argument self, key , value</h3>\n"
   ]
  },
  {
   "cell_type": "code",
   "execution_count": 132,
   "id": "bb22f0d9",
   "metadata": {},
   "outputs": [],
   "source": [
    "class Data:\n",
    "\n",
    "    name = \"Mubeen\"\n",
    "    \n",
    "    def __setattr__(self,key,value):\n",
    "        print(\"calling setattr\")\n",
    "        print(f\"{key} --> {self.name} are Modifiy with {value}\")\n",
    "        \n",
    "        # Note it is important to use self.__dict__[key] = value\n",
    "        self.__dict__[key] = value\n",
    "        # otherwise value are not replace it\n"
   ]
  },
  {
   "cell_type": "code",
   "execution_count": 133,
   "id": "ab97bb39",
   "metadata": {},
   "outputs": [],
   "source": [
    "obj = Data()"
   ]
  },
  {
   "cell_type": "code",
   "execution_count": 134,
   "id": "4dd746af",
   "metadata": {},
   "outputs": [
    {
     "name": "stdout",
     "output_type": "stream",
     "text": [
      "Mubeen\n"
     ]
    }
   ],
   "source": [
    "print(obj.name)"
   ]
  },
  {
   "cell_type": "markdown",
   "id": "87437ece",
   "metadata": {},
   "source": [
    "## Now trying change value"
   ]
  },
  {
   "cell_type": "code",
   "execution_count": 135,
   "id": "7b5e0c0e",
   "metadata": {},
   "outputs": [
    {
     "name": "stdout",
     "output_type": "stream",
     "text": [
      "calling setattr\n",
      "name --> Mubeen are Modifiy with Anon\n"
     ]
    }
   ],
   "source": [
    "obj.name = \"Anon\""
   ]
  },
  {
   "cell_type": "code",
   "execution_count": 136,
   "id": "23e1318a",
   "metadata": {},
   "outputs": [
    {
     "name": "stdout",
     "output_type": "stream",
     "text": [
      "Anon\n"
     ]
    }
   ],
   "source": [
    "print(obj.name)"
   ]
  },
  {
   "cell_type": "markdown",
   "id": "3c5c68a8",
   "metadata": {},
   "source": [
    "<h1> __delattr__ <br> </h1>\n",
    "<h3>The __delattr__ magic method in Python is a special method that is called when the del statement is used to delete an attribute of an object. <br><br>It allows you to customize the behavior of the del statement and enforce certain constraints.</h3>\n"
   ]
  },
  {
   "cell_type": "code",
   "execution_count": 196,
   "id": "36c1c9f6",
   "metadata": {},
   "outputs": [],
   "source": [
    "class Data:\n",
    "    \n",
    "    def __init__(self,name):\n",
    "        self.name = name\n",
    "    \n",
    "    def __delattr__(self,value):\n",
    "        del self.__dict__[value]\n",
    "        print(f\"{value} variable are Delected Sucessfully\")\n",
    "        "
   ]
  },
  {
   "cell_type": "code",
   "execution_count": 197,
   "id": "72984430",
   "metadata": {},
   "outputs": [],
   "source": [
    "obj = Data(\"Mubeen\")"
   ]
  },
  {
   "cell_type": "code",
   "execution_count": 198,
   "id": "11f249d7",
   "metadata": {},
   "outputs": [
    {
     "name": "stdout",
     "output_type": "stream",
     "text": [
      "Mubeen\n"
     ]
    }
   ],
   "source": [
    "print(obj.name)"
   ]
  },
  {
   "cell_type": "code",
   "execution_count": 199,
   "id": "98e178ac",
   "metadata": {},
   "outputs": [
    {
     "name": "stdout",
     "output_type": "stream",
     "text": [
      "name variable are Delected Sucessfully\n"
     ]
    }
   ],
   "source": [
    "del obj.name"
   ]
  },
  {
   "cell_type": "markdown",
   "id": "f010d840",
   "metadata": {},
   "source": [
    "## Now check name are exists or not"
   ]
  },
  {
   "cell_type": "code",
   "execution_count": 200,
   "id": "ef90f28b",
   "metadata": {},
   "outputs": [
    {
     "ename": "AttributeError",
     "evalue": "'Data' object has no attribute 'name'",
     "output_type": "error",
     "traceback": [
      "\u001b[0;31m---------------------------------------------------------------------------\u001b[0m",
      "\u001b[0;31mAttributeError\u001b[0m                            Traceback (most recent call last)",
      "Cell \u001b[0;32mIn [200], line 1\u001b[0m\n\u001b[0;32m----> 1\u001b[0m \u001b[43mobj\u001b[49m\u001b[38;5;241;43m.\u001b[39;49m\u001b[43mname\u001b[49m\n",
      "\u001b[0;31mAttributeError\u001b[0m: 'Data' object has no attribute 'name'"
     ]
    }
   ],
   "source": [
    "obj.name"
   ]
  },
  {
   "cell_type": "markdown",
   "id": "edfeb36e",
   "metadata": {},
   "source": [
    "<h1> __getattribute__ <br> </h1>\n",
    "<h2>__getattribute__ is called whenever an attempt is made to access an attribute of an object, regardless of whether the attribute exists or not. </h2>"
   ]
  },
  {
   "cell_type": "code",
   "execution_count": 1,
   "id": "239a12e9",
   "metadata": {},
   "outputs": [],
   "source": [
    "class Data:\n",
    "\n",
    "    name = \"Mubeen\"\n",
    "    \n",
    "    def __getattribute__(self, item):\n",
    "        print(\"Executed __getattribute__\")\n",
    "        print(item)\n"
   ]
  },
  {
   "cell_type": "code",
   "execution_count": 2,
   "id": "a933dbff",
   "metadata": {},
   "outputs": [],
   "source": [
    "obj = Data()"
   ]
  },
  {
   "cell_type": "code",
   "execution_count": 3,
   "id": "9b8f8eb3",
   "metadata": {},
   "outputs": [
    {
     "name": "stdout",
     "output_type": "stream",
     "text": [
      "Executed __getattribute__\n",
      "name\n",
      "None\n"
     ]
    }
   ],
   "source": [
    "print(obj.name)"
   ]
  },
  {
   "cell_type": "code",
   "execution_count": 4,
   "id": "2a8651bc",
   "metadata": {},
   "outputs": [
    {
     "name": "stdout",
     "output_type": "stream",
     "text": [
      "Executed __getattribute__\n",
      "A\n",
      "None\n"
     ]
    }
   ],
   "source": [
    "print(obj.A)"
   ]
  },
  {
   "cell_type": "code",
   "execution_count": 5,
   "id": "32ea67fc",
   "metadata": {},
   "outputs": [
    {
     "name": "stdout",
     "output_type": "stream",
     "text": [
      "Executed __getattribute__\n",
      "B\n",
      "None\n"
     ]
    }
   ],
   "source": [
    "print(obj.B)"
   ]
  },
  {
   "cell_type": "markdown",
   "id": "c0e97948",
   "metadata": {},
   "source": [
    "# Example 2"
   ]
  },
  {
   "cell_type": "markdown",
   "id": "eeb46f89",
   "metadata": {},
   "source": [
    "## Add Security Features "
   ]
  },
  {
   "cell_type": "code",
   "execution_count": 6,
   "id": "e56ac420",
   "metadata": {},
   "outputs": [],
   "source": [
    "class Test:\n",
    "    pass"
   ]
  },
  {
   "cell_type": "code",
   "execution_count": 8,
   "id": "f10421c2",
   "metadata": {},
   "outputs": [],
   "source": [
    "Test.name = \"Mubeen\"\n",
    "Test.roll_no = 12324"
   ]
  },
  {
   "cell_type": "code",
   "execution_count": 9,
   "id": "fe5aaf3d",
   "metadata": {},
   "outputs": [
    {
     "data": {
      "text/plain": [
       "'Mubeen'"
      ]
     },
     "execution_count": 9,
     "metadata": {},
     "output_type": "execute_result"
    }
   ],
   "source": [
    "Test.name"
   ]
  },
  {
   "cell_type": "code",
   "execution_count": 10,
   "id": "8f25cfdb",
   "metadata": {},
   "outputs": [
    {
     "data": {
      "text/plain": [
       "12324"
      ]
     },
     "execution_count": 10,
     "metadata": {},
     "output_type": "execute_result"
    }
   ],
   "source": [
    "Test.roll_no"
   ]
  },
  {
   "cell_type": "markdown",
   "id": "2edbf438",
   "metadata": {},
   "source": [
    "## Now Use __getattribute__ to avoid to add unknown attribute"
   ]
  },
  {
   "cell_type": "code",
   "execution_count": 10,
   "id": "786cb6fb",
   "metadata": {},
   "outputs": [],
   "source": [
    "class Data:\n",
    "    \n",
    "    name = \"Mubeen\"\n",
    "\n",
    "    def __getattribute__(self, item):\n",
    "        \n",
    "        if __class__.__dict__.get(item) == None:\n",
    "            return \"Error\"\n",
    "        else:\n",
    "            return object.__getattribute__(self,item)\n",
    "            # here object is the keyword that bypass the __getattribute__ functionality\n",
    "            # and excute the default code\n",
    "\n",
    "obj = Data()"
   ]
  },
  {
   "cell_type": "code",
   "execution_count": 6,
   "id": "f3661170",
   "metadata": {},
   "outputs": [
    {
     "name": "stdout",
     "output_type": "stream",
     "text": [
      "Mubeen\n"
     ]
    }
   ],
   "source": [
    "print(obj.name)"
   ]
  },
  {
   "cell_type": "code",
   "execution_count": 7,
   "id": "23cd7472",
   "metadata": {},
   "outputs": [
    {
     "name": "stdout",
     "output_type": "stream",
     "text": [
      "Mubeen\n"
     ]
    }
   ],
   "source": [
    "print(obj.name)"
   ]
  },
  {
   "cell_type": "markdown",
   "id": "3a14d82b",
   "metadata": {},
   "source": [
    "## Now Try to add new variable"
   ]
  },
  {
   "cell_type": "code",
   "execution_count": 8,
   "id": "17a7d915",
   "metadata": {},
   "outputs": [],
   "source": [
    "obj.roll_no = 56"
   ]
  },
  {
   "cell_type": "code",
   "execution_count": 9,
   "id": "08c68709",
   "metadata": {},
   "outputs": [
    {
     "name": "stdout",
     "output_type": "stream",
     "text": [
      "Error\n"
     ]
    }
   ],
   "source": [
    "print(obj.age)"
   ]
  },
  {
   "cell_type": "markdown",
   "id": "b8069ac0",
   "metadata": {},
   "source": [
    "<h1> __class__ <br> </h1>\n",
    "<h2>The __class__ magic method in Python is a special attribute that provides access to the class of an object.<br><br> It returns the class object of the object it is called on. <br><br>The class object is an instance of the type built-in class, and can be used to retrieve information about the object's class, such as its name, base classes, and attributes. </h2>"
   ]
  },
  {
   "cell_type": "code",
   "execution_count": 212,
   "id": "503cd491",
   "metadata": {},
   "outputs": [],
   "source": [
    "class Person:\n",
    "    \n",
    "    name = \"Mubeen\"\n",
    "    full_name = \"Mubeen Ahmad\"\n",
    "    email = \"abc@anon.io\"\n",
    "    \n",
    "    def check_all_attributes(self):\n",
    "        print(self.__class__.__dict__)"
   ]
  },
  {
   "cell_type": "code",
   "execution_count": 213,
   "id": "d46f9036",
   "metadata": {},
   "outputs": [],
   "source": [
    "obj = Person()"
   ]
  },
  {
   "cell_type": "code",
   "execution_count": 215,
   "id": "5193fb96",
   "metadata": {},
   "outputs": [
    {
     "name": "stdout",
     "output_type": "stream",
     "text": [
      "{'__module__': '__main__', 'name': 'Mubeen', 'full_name': 'Mubeen Ahmad', 'email': 'abc@anon.io', 'check_all_attributes': <function Person.check_all_attributes at 0x7f47c746f2e0>, '__dict__': <attribute '__dict__' of 'Person' objects>, '__weakref__': <attribute '__weakref__' of 'Person' objects>, '__doc__': None}\n"
     ]
    }
   ],
   "source": [
    "obj.check_all_attributes()"
   ]
  },
  {
   "cell_type": "markdown",
   "id": "077bd0a7",
   "metadata": {},
   "source": [
    "<h1> __name__ <br> </h1>\n",
    "<h2>The __name__ attribute in Python is a special attribute that is automatically assigned to all modules and functions. <br><br>It is used to determine the name of the module or function.</h2>"
   ]
  },
  {
   "cell_type": "code",
   "execution_count": 239,
   "id": "8cb77b26",
   "metadata": {},
   "outputs": [],
   "source": [
    "def mubeen():\n",
    "    print(mubeen.__name__)"
   ]
  },
  {
   "cell_type": "code",
   "execution_count": 240,
   "id": "73988b17",
   "metadata": {},
   "outputs": [
    {
     "name": "stdout",
     "output_type": "stream",
     "text": [
      "mubeen\n"
     ]
    }
   ],
   "source": [
    "mubeen()"
   ]
  },
  {
   "cell_type": "markdown",
   "id": "f2f1ee3d",
   "metadata": {},
   "source": [
    "## get class name"
   ]
  },
  {
   "cell_type": "code",
   "execution_count": 335,
   "id": "8d8740c3",
   "metadata": {},
   "outputs": [],
   "source": [
    "class Person:\n",
    "    \n",
    "    def get_name(self):\n",
    "        return __class__.__name__"
   ]
  },
  {
   "cell_type": "code",
   "execution_count": 336,
   "id": "43831932",
   "metadata": {},
   "outputs": [],
   "source": [
    "obj = Person()"
   ]
  },
  {
   "cell_type": "code",
   "execution_count": 339,
   "id": "0e093cd0",
   "metadata": {},
   "outputs": [
    {
     "data": {
      "text/plain": [
       "'Person'"
      ]
     },
     "execution_count": 339,
     "metadata": {},
     "output_type": "execute_result"
    }
   ],
   "source": [
    "obj.get_name()\n"
   ]
  },
  {
   "cell_type": "markdown",
   "id": "156149f0",
   "metadata": {},
   "source": [
    "<h1>__init__ and __new__ Magic methods <br><br><a href=\"https://github.com/Mubeen-Ahmad/python_11/blob/main/Python/15_OOP/2_init_and_new_constructor.ipynb\">Already Cover this Methods Here</a></h1>\n"
   ]
  },
  {
   "cell_type": "markdown",
   "id": "0ac89c39",
   "metadata": {},
   "source": [
    "<br><br>\n",
    "<h1> __dis__ <br> </h1>\n",
    "<h2>\n",
    "Destructor is a special method that is called when an object gets destroyed.<br><br>A destructor is called when an object is deleted or destroyed. Destructor is used to perform the clean-up activity before destroying the object, such as closing database connections or file handle. etc<br><br> Distructor called itself at the end of Code<h2>\n",
    "\n"
   ]
  },
  {
   "cell_type": "code",
   "execution_count": 359,
   "id": "03109cca",
   "metadata": {},
   "outputs": [],
   "source": [
    "class Write_File:\n",
    "\n",
    "    def __init__(self):\n",
    "        print(\"Constructor Call\")\n",
    "        self.file = open(\"temp.py\", \"w\")\n",
    "        self.file.write(\"import os\")\n",
    "        self.file.write(\"\\nprint(os.listdir())\")\n",
    "\n",
    "    def __del__(self):\n",
    "\n",
    "        print(\"Distructor Call\")\n",
    "        self.file.close()\n",
    "        print(\"File are closed\")\n",
    "        print(\"---------------------------\")\n",
    "        self.read_file()\n",
    "        print(\"---------------------------\")\n",
    "\n",
    "\n",
    "    def read_file(self):\n",
    "        with open(\"temp.py\") as r:\n",
    "            print(r.read())\n",
    "\n",
    "\n"
   ]
  },
  {
   "cell_type": "code",
   "execution_count": 360,
   "id": "c3b0e827",
   "metadata": {},
   "outputs": [
    {
     "name": "stdout",
     "output_type": "stream",
     "text": [
      "Constructor Call\n",
      "Distructor Call\n",
      "File are closed\n",
      "---------------------------\n",
      "import os\n",
      "print(os.listdir())\n",
      "---------------------------\n"
     ]
    },
    {
     "data": {
      "text/plain": [
       "<__main__.Write_File at 0x7f47c6d45570>"
      ]
     },
     "execution_count": 360,
     "metadata": {},
     "output_type": "execute_result"
    }
   ],
   "source": [
    "Write_File()"
   ]
  },
  {
   "cell_type": "markdown",
   "id": "7fe0dc42",
   "metadata": {},
   "source": [
    "## Note In Jupiter or colab Sometimes Distructor are not worked"
   ]
  },
  {
   "cell_type": "markdown",
   "id": "c24ec5f0",
   "metadata": {},
   "source": [
    "<h1><br><br>__call__<br><br>The __call__ method in Python is a special method that is called when an instance of a class is called as a function. <br><br>It allows you to define a class that can be used like a function, and the instance of the class can be invoked just like a regular function.</h1>"
   ]
  },
  {
   "cell_type": "code",
   "execution_count": 361,
   "id": "5b6383f9",
   "metadata": {},
   "outputs": [],
   "source": [
    "class Temp:\n",
    "    \n",
    "    def __init__(self):\n",
    "        print(\"Init method calling\")\n",
    "    \n",
    "    def __call__(self):\n",
    "        print(\"call method calling\")\n",
    "    "
   ]
  },
  {
   "cell_type": "code",
   "execution_count": 365,
   "id": "38c41d98",
   "metadata": {},
   "outputs": [
    {
     "name": "stdout",
     "output_type": "stream",
     "text": [
      "Init method calling\n"
     ]
    }
   ],
   "source": [
    "obj = Temp()"
   ]
  },
  {
   "cell_type": "markdown",
   "id": "3478416b",
   "metadata": {},
   "source": [
    "## Now when i call the object than call method automatic call itself"
   ]
  },
  {
   "cell_type": "code",
   "execution_count": 366,
   "id": "e085e51d",
   "metadata": {},
   "outputs": [
    {
     "name": "stdout",
     "output_type": "stream",
     "text": [
      "call method calling\n"
     ]
    }
   ],
   "source": [
    "obj()"
   ]
  },
  {
   "cell_type": "markdown",
   "id": "80ad1d8b",
   "metadata": {},
   "source": [
    "# Example 2"
   ]
  },
  {
   "cell_type": "code",
   "execution_count": 389,
   "id": "d6a3b5e4",
   "metadata": {},
   "outputs": [],
   "source": [
    "class Temp:\n",
    "         \n",
    "    def __init__(self,x,y):\n",
    "        self.x = x\n",
    "        self.y = y\n",
    "        \n",
    "    def divide(self):\n",
    "        return self.x // self.y\n",
    "    \n",
    "    def multiply(self):\n",
    "        return self.x * self.y\n",
    "    \n",
    "    def __call__(self):\n",
    "        \n",
    "        print(self.divide())\n",
    "        print(self.multiply())"
   ]
  },
  {
   "cell_type": "code",
   "execution_count": 390,
   "id": "e368955e",
   "metadata": {},
   "outputs": [],
   "source": [
    "operations = Temp(10,5)"
   ]
  },
  {
   "cell_type": "code",
   "execution_count": 391,
   "id": "e9bc630a",
   "metadata": {},
   "outputs": [
    {
     "name": "stdout",
     "output_type": "stream",
     "text": [
      "2\n",
      "50\n"
     ]
    }
   ],
   "source": [
    "operations()"
   ]
  },
  {
   "cell_type": "markdown",
   "id": "0613223e",
   "metadata": {},
   "source": [
    "<h1>__dir__<br><br>The __dir__ method in Python is a special method that returns a list of attributes and methods of an object. <br><br>This method is called when you use the built-in dir function on an object.<br><br>By default, the dir function returns a list of the attributes and methods of an object, including those inherited from its class and its ancestors. </h1>"
   ]
  },
  {
   "cell_type": "code",
   "execution_count": 395,
   "id": "7a809aca",
   "metadata": {},
   "outputs": [],
   "source": [
    "class MyClass:\n",
    "    \n",
    "    name = \"Mubeen\"\n",
    "    roll_no = 123\n",
    "    \n",
    "    def method1(self):\n",
    "        pass\n",
    "    \n",
    "    def method2(self):\n",
    "        pass\n",
    "\n",
    "    \n",
    "    def __dir__(self):\n",
    "        return ['name', 'roll_no', 'method1','method2']\n",
    "    \n"
   ]
  },
  {
   "cell_type": "code",
   "execution_count": 396,
   "id": "b0088e2f",
   "metadata": {},
   "outputs": [],
   "source": [
    "obj = MyClass()"
   ]
  },
  {
   "cell_type": "code",
   "execution_count": 397,
   "id": "a28a84ce",
   "metadata": {},
   "outputs": [
    {
     "name": "stdout",
     "output_type": "stream",
     "text": [
      "['method1', 'method2', 'name', 'roll_no']\n"
     ]
    }
   ],
   "source": [
    "print(dir(obj))"
   ]
  }
 ],
 "metadata": {
  "kernelspec": {
   "display_name": "Python 3 (ipykernel)",
   "language": "python",
   "name": "python3"
  },
  "language_info": {
   "codemirror_mode": {
    "name": "ipython",
    "version": 3
   },
   "file_extension": ".py",
   "mimetype": "text/x-python",
   "name": "python",
   "nbconvert_exporter": "python",
   "pygments_lexer": "ipython3",
   "version": "3.10.6"
  }
 },
 "nbformat": 4,
 "nbformat_minor": 5
}

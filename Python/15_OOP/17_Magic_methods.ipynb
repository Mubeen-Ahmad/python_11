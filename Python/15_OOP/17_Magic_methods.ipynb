{
 "cells": [
  {
   "cell_type": "markdown",
   "id": "dd1a81b3",
   "metadata": {},
   "source": [
    "# Magic Methods\n",
    "<br>\n",
    "\n",
    "## In Python, there are manny magic methods available to perform overloading operations. \n",
    "<br>\n",
    "\n",
    "## The below table shows the magic methods names to overload the mathematical operator, assignment operator, and relational operators etc\n"
   ]
  },
  {
   "cell_type": "markdown",
   "id": "ac042168",
   "metadata": {},
   "source": [
    "# Arthimetic"
   ]
  },
  {
   "cell_type": "markdown",
   "id": "e992d799",
   "metadata": {},
   "source": [
    "<br>\n",
    "\n",
    "* ## Addition \t+\t__add__(self, other)\n",
    "<br>\n",
    "\n",
    "* ## Subtraction\t-\t__sub__(self, other)\n",
    "<br>\n",
    "\n",
    "* ## Multiplication \t*\t__mul__(self, other)\n",
    "<br>\n",
    "\n",
    "* ## Division\t/\t__div__(self, other)\n",
    "<br>\n",
    "\n",
    "* ## Floor Division \t//\t__floordiv__(self,other)\n",
    "<br>\n",
    "\n",
    "* ## Modulus \t%\t__mod__(self, other)\n",
    "<br>\n",
    "\n",
    "* ## Power \t**\t__pow__(self, other)\n",
    "<br>\n",
    "\n",
    "\n",
    "\n"
   ]
  },
  {
   "cell_type": "code",
   "execution_count": 80,
   "id": "02a1c3d5",
   "metadata": {},
   "outputs": [],
   "source": [
    "class Arithmetic:\n",
    "    \n",
    "    def __init__(self,x):\n",
    "        self.x = x\n",
    "    \n",
    "    # addition\n",
    "    def __add__(self,outer):\n",
    "        return self.x + outer.x\n",
    "    \n",
    "    # Subtraction\n",
    "    def __sub__(self,outer):\n",
    "        return self.x - outer.x\n",
    "    \n",
    "    # multiplication\n",
    "    def __mul__(self,outer):\n",
    "        return self.x * outer.x\n",
    "\n",
    "    # Division\n",
    "    def __truediv__(self,outer):\n",
    "        return self.x / outer.x\n",
    "    \n",
    "    # Floor Division\n",
    "    def __floordiv__(self,outer):\n",
    "        return self.x // outer.x\n",
    "    \n",
    "    # Modulus\n",
    "    def __mod__(self,outer):\n",
    "        return self.x % outer.x\n",
    "\n",
    "    # power\n",
    "    def __pow__(self,outer):\n",
    "        return self.x ** outer.x\n",
    "    "
   ]
  },
  {
   "cell_type": "code",
   "execution_count": 82,
   "id": "5dc67784",
   "metadata": {},
   "outputs": [],
   "source": [
    "v1 = Arithmetic(50)\n",
    "v2 = Arithmetic(30)"
   ]
  },
  {
   "cell_type": "code",
   "execution_count": 74,
   "id": "3936a775",
   "metadata": {},
   "outputs": [
    {
     "data": {
      "text/plain": [
       "80"
      ]
     },
     "execution_count": 74,
     "metadata": {},
     "output_type": "execute_result"
    }
   ],
   "source": [
    "v1 + v2"
   ]
  },
  {
   "cell_type": "code",
   "execution_count": 75,
   "id": "f34813af",
   "metadata": {},
   "outputs": [
    {
     "data": {
      "text/plain": [
       "20"
      ]
     },
     "execution_count": 75,
     "metadata": {},
     "output_type": "execute_result"
    }
   ],
   "source": [
    "v1 - v2"
   ]
  },
  {
   "cell_type": "code",
   "execution_count": 76,
   "id": "865f9442",
   "metadata": {},
   "outputs": [
    {
     "data": {
      "text/plain": [
       "1500"
      ]
     },
     "execution_count": 76,
     "metadata": {},
     "output_type": "execute_result"
    }
   ],
   "source": [
    "v1 * v2"
   ]
  },
  {
   "cell_type": "code",
   "execution_count": 83,
   "id": "0e087ecb",
   "metadata": {},
   "outputs": [
    {
     "data": {
      "text/plain": [
       "1.6666666666666667"
      ]
     },
     "execution_count": 83,
     "metadata": {},
     "output_type": "execute_result"
    }
   ],
   "source": [
    "v1 / v2"
   ]
  },
  {
   "cell_type": "code",
   "execution_count": 84,
   "id": "e96e59a6",
   "metadata": {},
   "outputs": [
    {
     "data": {
      "text/plain": [
       "1"
      ]
     },
     "execution_count": 84,
     "metadata": {},
     "output_type": "execute_result"
    }
   ],
   "source": [
    "v1 // v2"
   ]
  },
  {
   "cell_type": "code",
   "execution_count": 85,
   "id": "dcb947d9",
   "metadata": {},
   "outputs": [
    {
     "data": {
      "text/plain": [
       "20"
      ]
     },
     "execution_count": 85,
     "metadata": {},
     "output_type": "execute_result"
    }
   ],
   "source": [
    "v1 % v2"
   ]
  },
  {
   "cell_type": "code",
   "execution_count": 89,
   "id": "1c7e6103",
   "metadata": {},
   "outputs": [
    {
     "data": {
      "text/plain": [
       "931322574615478515625000000000000000000000000000000"
      ]
     },
     "execution_count": 89,
     "metadata": {},
     "output_type": "execute_result"
    }
   ],
   "source": [
    "v1 ** v2"
   ]
  },
  {
   "cell_type": "markdown",
   "id": "0da0468d",
   "metadata": {},
   "source": [
    "# Binary Arithmetic"
   ]
  },
  {
   "cell_type": "markdown",
   "id": "c9dab60c",
   "metadata": {},
   "source": [
    "* ## R SHIFT  >>\t __rshift__(self, other)\n",
    "<br>\n",
    "\n",
    "* ## L SHIFT  <<  __lshift__(self, other)\n",
    "<br>\n",
    "\n",
    "* ## and & __and__(self, other)\n",
    "<br>\n",
    "\n",
    "* ## or | __or__(self, other)\n",
    "<br>\n",
    "\n",
    "* ## xor ^ __xor__(self, other)\n"
   ]
  },
  {
   "cell_type": "code",
   "execution_count": 109,
   "id": "e14a1e46",
   "metadata": {},
   "outputs": [],
   "source": [
    "class Binary_Art:\n",
    "    \n",
    "    def __init__(self,value):\n",
    "        self.value = value\n",
    "        \n",
    "    def __rshift__(self,other):\n",
    "        return self.value >> other.value\n",
    "    \n",
    "    def __lshift__(self,other):\n",
    "        return self.value << other.value\n",
    "    \n",
    "    def __and__(self,other):\n",
    "        return self.value & other.value\n",
    "    \n",
    "    def __or__(self,other):\n",
    "        return self.value | other.value\n",
    "    \n",
    "    def __xor__(self,other):\n",
    "        return self.value ^ other.value"
   ]
  },
  {
   "cell_type": "code",
   "execution_count": 90,
   "id": "0f370557",
   "metadata": {},
   "outputs": [
    {
     "data": {
      "text/plain": [
       "1"
      ]
     },
     "execution_count": 90,
     "metadata": {},
     "output_type": "execute_result"
    }
   ],
   "source": [
    "v1 = Binary_Art(5)\n",
    "v2 = Binary_Art(2)\n",
    "\n",
    "v1 >> v2"
   ]
  },
  {
   "cell_type": "code",
   "execution_count": 94,
   "id": "6ac45526",
   "metadata": {},
   "outputs": [
    {
     "data": {
      "text/plain": [
       "20"
      ]
     },
     "execution_count": 94,
     "metadata": {},
     "output_type": "execute_result"
    }
   ],
   "source": [
    "v1 = Binary_Art(5)\n",
    "v2 = Binary_Art(2)\n",
    "\n",
    "v1 << v2"
   ]
  },
  {
   "cell_type": "code",
   "execution_count": 106,
   "id": "8e0e24d1",
   "metadata": {},
   "outputs": [
    {
     "data": {
      "text/plain": [
       "0"
      ]
     },
     "execution_count": 106,
     "metadata": {},
     "output_type": "execute_result"
    }
   ],
   "source": [
    "v1 = Binary_Art(0)\n",
    "v2 = Binary_Art(1)\n",
    "\n",
    "v1 & v2"
   ]
  },
  {
   "cell_type": "code",
   "execution_count": 107,
   "id": "0ab33c61",
   "metadata": {},
   "outputs": [
    {
     "data": {
      "text/plain": [
       "1"
      ]
     },
     "execution_count": 107,
     "metadata": {},
     "output_type": "execute_result"
    }
   ],
   "source": [
    "v1 = Binary_Art(0)\n",
    "v2 = Binary_Art(1)\n",
    "\n",
    "v1 | v2"
   ]
  },
  {
   "cell_type": "code",
   "execution_count": 111,
   "id": "35f202b7",
   "metadata": {},
   "outputs": [
    {
     "data": {
      "text/plain": [
       "0"
      ]
     },
     "execution_count": 111,
     "metadata": {},
     "output_type": "execute_result"
    }
   ],
   "source": [
    "v1 = Binary_Art(1)\n",
    "v2 = Binary_Art(1)\n",
    "\n",
    "v1 ^ v2"
   ]
  },
  {
   "cell_type": "markdown",
   "id": "eb4bfd23",
   "metadata": {},
   "source": [
    "# Assignment"
   ]
  },
  {
   "cell_type": "markdown",
   "id": "05512fd7",
   "metadata": {},
   "source": [
    "* ## Increment \t+=\t__iadd__(self, other)\n",
    "<br>\n",
    "\n",
    "* ## Decrement \t-=\t__isub__(self, other)\n",
    "<br>\n",
    "\n",
    "* ## Product \t*=\t__imul__(self, other)\n",
    "<br>\n",
    "\n",
    "* ## Division \t/=\t__truediv__(self, other)\n",
    "<br>\n",
    "\n",
    "* ## Floor Division //=\t__ifloordiv__(self, other)\n",
    "<br>\n",
    "\n",
    "* ## Modulus \t%=\t__imod__(self, other)\n",
    "<br>\n",
    "\n",
    "* ## Power\t**=\t__ipow__(self, other)\n",
    "<br>\n"
   ]
  },
  {
   "cell_type": "code",
   "execution_count": 74,
   "id": "46a260f5",
   "metadata": {},
   "outputs": [],
   "source": [
    "class Assignment:\n",
    "    \n",
    "    def __init__(self,value):\n",
    "        self.value = value\n",
    "        \n",
    "    def __iadd__(self,outer):\n",
    "        self.value += outer.value\n",
    "        return self.value\n",
    "        \n",
    "    def __isub__(self,outer):\n",
    "        self.value -= outer.value\n",
    "        return self.value\n",
    "       \n",
    "    def __imul__(self,outer):\n",
    "        self.value *= outer.value\n",
    "        return self.value    \n",
    "    \n",
    "    def __ipow__(self,outer):\n",
    "        self.value **= outer.value\n",
    "        return self.value    \n",
    "    \n",
    "    def __truediv__(self,outer):\n",
    "        self.value /= outer.value\n",
    "        return self.value\n",
    "    \n",
    "    def __floordiv__(self,outer):\n",
    "        self.value //= outer.value\n",
    "        return self.value\n",
    "    \n",
    "    def __imod__(self, other):\n",
    "        self.value = self.value % other.value\n",
    "        return self.value\n",
    "   "
   ]
  },
  {
   "cell_type": "code",
   "execution_count": 59,
   "id": "dc6cde52",
   "metadata": {},
   "outputs": [
    {
     "name": "stdout",
     "output_type": "stream",
     "text": [
      "3\n"
     ]
    }
   ],
   "source": [
    "v1 = Assignment(1)\n",
    "v2 = Assignment(2)\n",
    "\n",
    "v1 += v2\n",
    "print(v1)"
   ]
  },
  {
   "cell_type": "code",
   "execution_count": 60,
   "id": "3231643e",
   "metadata": {},
   "outputs": [
    {
     "name": "stdout",
     "output_type": "stream",
     "text": [
      "2\n"
     ]
    }
   ],
   "source": [
    "v1 = Assignment(5)\n",
    "v2 = Assignment(3)\n",
    "\n",
    "v1 -= v2\n",
    "print(v1)"
   ]
  },
  {
   "cell_type": "code",
   "execution_count": 81,
   "id": "e5d225b1",
   "metadata": {},
   "outputs": [
    {
     "name": "stdout",
     "output_type": "stream",
     "text": [
      "6\n"
     ]
    }
   ],
   "source": [
    "v1 = Assignment(2)\n",
    "v2 = Assignment(3)\n",
    "\n",
    "v1 *= v2\n",
    "print(v1)"
   ]
  },
  {
   "cell_type": "code",
   "execution_count": 82,
   "id": "eeb962ed",
   "metadata": {},
   "outputs": [
    {
     "name": "stdout",
     "output_type": "stream",
     "text": [
      "8\n"
     ]
    }
   ],
   "source": [
    "v1 = Assignment(2)\n",
    "v2 = Assignment(3)\n",
    "\n",
    "v1 **= v2\n",
    "print(v1)"
   ]
  },
  {
   "cell_type": "code",
   "execution_count": 62,
   "id": "ebb27621",
   "metadata": {},
   "outputs": [
    {
     "name": "stdout",
     "output_type": "stream",
     "text": [
      "5.0\n"
     ]
    }
   ],
   "source": [
    "v1 = Assignment(10)\n",
    "v2 = Assignment(2)\n",
    "\n",
    "v1 /= v2\n",
    "print(v1)"
   ]
  },
  {
   "cell_type": "code",
   "execution_count": 67,
   "id": "7b6df478",
   "metadata": {},
   "outputs": [
    {
     "name": "stdout",
     "output_type": "stream",
     "text": [
      "5\n"
     ]
    }
   ],
   "source": [
    "v1 = Assignment(10)\n",
    "v2 = Assignment(2)\n",
    "\n",
    "v1 //= v2\n",
    "print(v1)"
   ]
  },
  {
   "cell_type": "code",
   "execution_count": 78,
   "id": "5ad8c7ec",
   "metadata": {},
   "outputs": [
    {
     "name": "stdout",
     "output_type": "stream",
     "text": [
      "2\n"
     ]
    }
   ],
   "source": [
    "v1 = Assignment(2)\n",
    "v2 = Assignment(3)\n",
    "\n",
    "v1 %= v2\n",
    "print(v1)"
   ]
  },
  {
   "cell_type": "markdown",
   "id": "60c1eb8d",
   "metadata": {},
   "source": [
    "# Binary Assignment"
   ]
  },
  {
   "cell_type": "markdown",
   "id": "dd210685",
   "metadata": {},
   "source": [
    "* ## R Shift increment >>= __irshift__(self, other)\n",
    "<br>\n",
    "\n",
    "* ## L Shift increment <<= __ilshift__(self, other)\n",
    "<br>\n",
    "\n",
    "* ## and increment &= __iand__(self, other)\n",
    "<br>\n",
    "\n",
    "* ## or increment |=  __ior__(self, other)\n",
    "<br>\n",
    "\n",
    "* ## xor increment ^=  __ixor__(self, other)"
   ]
  },
  {
   "cell_type": "code",
   "execution_count": 135,
   "id": "1811cae6",
   "metadata": {},
   "outputs": [],
   "source": [
    "class Binary_Assignment:\n",
    "    \n",
    "    def __init__(self,value):\n",
    "        self.value = value\n",
    "        \n",
    "    def __irshift__(self,other):\n",
    "        self.value = self.value >> other.value\n",
    "        return self.value\n",
    "   \n",
    "    def __ilshift__(self,other):\n",
    "        self.value = self.value << other.value\n",
    "        return self.value\n",
    "    \n",
    "    def __iand__(self,other):\n",
    "        self.value = self.value & other.value\n",
    "        return self.value\n",
    "    \n",
    "    def __ior__(self,other):\n",
    "        self.value = self.value | other.value\n",
    "        return self.value\n",
    "    \n",
    "    def __ixor__(self,other):\n",
    "        self.value = self.value ^ other.value\n",
    "        return self.value\n"
   ]
  },
  {
   "cell_type": "code",
   "execution_count": 124,
   "id": "f3eb808e",
   "metadata": {},
   "outputs": [
    {
     "name": "stdout",
     "output_type": "stream",
     "text": [
      "1\n"
     ]
    }
   ],
   "source": [
    "v1 = Binary_Assignment(5)\n",
    "v2 = Binary_Assignment(2)\n",
    "\n",
    "v1 >>= v2\n",
    "print(v1)"
   ]
  },
  {
   "cell_type": "code",
   "execution_count": 126,
   "id": "d5e04daa",
   "metadata": {},
   "outputs": [
    {
     "name": "stdout",
     "output_type": "stream",
     "text": [
      "20\n"
     ]
    }
   ],
   "source": [
    "v1 = Binary_Assignment(5)\n",
    "v2 = Binary_Assignment(2)\n",
    "\n",
    "v1 <<= v2\n",
    "print(v1)"
   ]
  },
  {
   "cell_type": "code",
   "execution_count": 129,
   "id": "42caa21e",
   "metadata": {},
   "outputs": [
    {
     "name": "stdout",
     "output_type": "stream",
     "text": [
      "1\n"
     ]
    }
   ],
   "source": [
    "v1 = Binary_Assignment(1)\n",
    "v2 = Binary_Assignment(1)\n",
    "\n",
    "v1 &= v2\n",
    "print(v1)"
   ]
  },
  {
   "cell_type": "code",
   "execution_count": 133,
   "id": "3756c401",
   "metadata": {},
   "outputs": [
    {
     "name": "stdout",
     "output_type": "stream",
     "text": [
      "1\n"
     ]
    }
   ],
   "source": [
    "v1 = Binary_Assignment(0)\n",
    "v2 = Binary_Assignment(1)\n",
    "\n",
    "v1 |= v2\n",
    "print(v1)"
   ]
  },
  {
   "cell_type": "code",
   "execution_count": 137,
   "id": "e4960198",
   "metadata": {},
   "outputs": [
    {
     "name": "stdout",
     "output_type": "stream",
     "text": [
      "0\n"
     ]
    }
   ],
   "source": [
    "v1 = Binary_Assignment(1)\n",
    "v2 = Binary_Assignment(1)\n",
    "\n",
    "v1 ^= v2\n",
    "print(v1)"
   ]
  },
  {
   "cell_type": "markdown",
   "id": "4e4530f7",
   "metadata": {},
   "source": [
    "# Comparison Operators"
   ]
  },
  {
   "cell_type": "markdown",
   "id": "49c40ae2",
   "metadata": {},
   "source": [
    "* ## less than < __lt__(self, other)\n",
    "<br>\n",
    "\n",
    "* ## less than equal <= __le__(self, other)\n",
    "<br>\n",
    "\n",
    "* ## greater than > __gt__(self, other)\n",
    "<br>\n",
    "\n",
    "* ## greater than equal > __ge__(self, other)\n",
    "<br>\n",
    "\n",
    "* ## equal to == __eq__(self, other)\n",
    "<br>\n",
    "\n",
    "* ## Not equal != __ne__(self, other)\n",
    "<br>"
   ]
  },
  {
   "cell_type": "code",
   "execution_count": 180,
   "id": "5393f5cc",
   "metadata": {},
   "outputs": [],
   "source": [
    "class comp:\n",
    "    \n",
    "    def __init__(self,value):\n",
    "        self.value = value\n",
    "        \n",
    "    def __lt__(self,other):\n",
    "        if self.value < other.value:\n",
    "            return f\"{self.value} less than {other.value}\"\n",
    "        else:\n",
    "            return f\"{self.value} greater than {other.value}\"\n",
    "    \n",
    "    \n",
    "    def __le__(self,other):\n",
    "        if self.value <= other.value:\n",
    "            return f\"{self.value} less than and equal to {other.value}\"\n",
    "        else:\n",
    "            return f\"{self.value} greater than {other.value}\"\n",
    "    \n",
    "    def __gt__(self,other):\n",
    "        if self.value > other.value:\n",
    "            return f\"{self.value} greater than  {other.value}\"\n",
    "        else:\n",
    "            return f\"{self.value} less than {other.value}\"\n",
    "        \n",
    "    def __ge__(self,other):\n",
    "        if self.value >= other.value:\n",
    "            return f\"{self.value} greater than equal  {other.value}\"\n",
    "        else:\n",
    "            return f\"{self.value} less than  {other.value}\"\n",
    "        \n",
    "    def __eq__(self,other):\n",
    "        if self.value == other.value:\n",
    "            return True\n",
    "        else:\n",
    "            return False\n",
    "    \n",
    "    def __ne__(self,other):\n",
    "        if self.value != other.value:\n",
    "            return True\n",
    "        else:\n",
    "            return False\n",
    "\n",
    "            "
   ]
  },
  {
   "cell_type": "code",
   "execution_count": 157,
   "id": "43bbe058",
   "metadata": {},
   "outputs": [
    {
     "data": {
      "text/plain": [
       "'10 less than 20'"
      ]
     },
     "execution_count": 157,
     "metadata": {},
     "output_type": "execute_result"
    }
   ],
   "source": [
    "v1 = comp(10)\n",
    "v2 = comp(20)\n",
    "\n",
    "v1 < v2"
   ]
  },
  {
   "cell_type": "code",
   "execution_count": 161,
   "id": "1e1f13ed",
   "metadata": {},
   "outputs": [
    {
     "data": {
      "text/plain": [
       "'10 less than and equal to 10'"
      ]
     },
     "execution_count": 161,
     "metadata": {},
     "output_type": "execute_result"
    }
   ],
   "source": [
    "v1 = comp(10)\n",
    "v2 = comp(10)\n",
    "\n",
    "v1 <= v2"
   ]
  },
  {
   "cell_type": "code",
   "execution_count": 164,
   "id": "39d22971",
   "metadata": {},
   "outputs": [
    {
     "data": {
      "text/plain": [
       "'20 greater than 10'"
      ]
     },
     "execution_count": 164,
     "metadata": {},
     "output_type": "execute_result"
    }
   ],
   "source": [
    "v1 = comp(20)\n",
    "v2 = comp(10)\n",
    "\n",
    "v1 > v2"
   ]
  },
  {
   "cell_type": "code",
   "execution_count": 171,
   "id": "f812d931",
   "metadata": {},
   "outputs": [
    {
     "data": {
      "text/plain": [
       "'20 greater than equal  20'"
      ]
     },
     "execution_count": 171,
     "metadata": {},
     "output_type": "execute_result"
    }
   ],
   "source": [
    "v1 = comp(20)\n",
    "v2 = comp(20)\n",
    "\n",
    "v1 >= v2"
   ]
  },
  {
   "cell_type": "code",
   "execution_count": 175,
   "id": "b65d8cf2",
   "metadata": {},
   "outputs": [
    {
     "data": {
      "text/plain": [
       "True"
      ]
     },
     "execution_count": 175,
     "metadata": {},
     "output_type": "execute_result"
    }
   ],
   "source": [
    "v1 = comp(20)\n",
    "v2 = comp(20)\n",
    "\n",
    "v1 == v2"
   ]
  },
  {
   "cell_type": "code",
   "execution_count": 181,
   "id": "bc5dc18c",
   "metadata": {},
   "outputs": [
    {
     "data": {
      "text/plain": [
       "False"
      ]
     },
     "execution_count": 181,
     "metadata": {},
     "output_type": "execute_result"
    }
   ],
   "source": [
    "v1 = comp(20)\n",
    "v2 = comp(20)\n",
    "\n",
    "v1 != v2"
   ]
  },
  {
   "cell_type": "code",
   "execution_count": 182,
   "id": "3d30f241",
   "metadata": {},
   "outputs": [
    {
     "data": {
      "text/plain": [
       "True"
      ]
     },
     "execution_count": 182,
     "metadata": {},
     "output_type": "execute_result"
    }
   ],
   "source": [
    "v1 = comp(21)\n",
    "v2 = comp(20)\n",
    "\n",
    "v1 != v2"
   ]
  },
  {
   "cell_type": "markdown",
   "id": "0bb86382",
   "metadata": {},
   "source": [
    "# Unary Operators"
   ]
  },
  {
   "cell_type": "markdown",
   "id": "b24286d2",
   "metadata": {},
   "source": [
    "* ##  - __neg__(self)\n",
    "* ##  + __pos__(self)\n",
    "* ## ~ __invert__(self)"
   ]
  },
  {
   "cell_type": "code",
   "execution_count": 216,
   "id": "8433b259",
   "metadata": {},
   "outputs": [],
   "source": [
    "class unary:\n",
    "    \n",
    "    def __init__(self,value):\n",
    "        self.value = value\n",
    "        \n",
    "    def __neg__(self):\n",
    "        return - self.value\n",
    "    \n",
    "    def __pos__(self):\n",
    "        return + self.value\n",
    "    \n",
    "    def __invert__(self):\n",
    "        return ~ self.value"
   ]
  },
  {
   "cell_type": "code",
   "execution_count": 217,
   "id": "9adce3b4",
   "metadata": {},
   "outputs": [
    {
     "data": {
      "text/plain": [
       "-10"
      ]
     },
     "execution_count": 217,
     "metadata": {},
     "output_type": "execute_result"
    }
   ],
   "source": [
    "v1 = unary(10)\n",
    "\n",
    "-v1"
   ]
  },
  {
   "cell_type": "code",
   "execution_count": 218,
   "id": "1b139e2a",
   "metadata": {},
   "outputs": [
    {
     "data": {
      "text/plain": [
       "10"
      ]
     },
     "execution_count": 218,
     "metadata": {},
     "output_type": "execute_result"
    }
   ],
   "source": [
    "+v1"
   ]
  },
  {
   "cell_type": "code",
   "execution_count": 219,
   "id": "67f5aa65",
   "metadata": {},
   "outputs": [
    {
     "data": {
      "text/plain": [
       "-11"
      ]
     },
     "execution_count": 219,
     "metadata": {},
     "output_type": "execute_result"
    }
   ],
   "source": [
    "~v1"
   ]
  }
 ],
 "metadata": {
  "kernelspec": {
   "display_name": "Python 3 (ipykernel)",
   "language": "python",
   "name": "python3"
  },
  "language_info": {
   "codemirror_mode": {
    "name": "ipython",
    "version": 3
   },
   "file_extension": ".py",
   "mimetype": "text/x-python",
   "name": "python",
   "nbconvert_exporter": "python",
   "pygments_lexer": "ipython3",
   "version": "3.10.6"
  }
 },
 "nbformat": 4,
 "nbformat_minor": 5
}

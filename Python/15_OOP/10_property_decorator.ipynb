{
 "cells": [
  {
   "cell_type": "markdown",
   "id": "6f942c3c",
   "metadata": {},
   "source": [
    "# @property Decorator\n",
    "<br>\n",
    "\n",
    "## @property decorator is a built-in decorator in Python which is helpful in defining the properties effortlessly without manually calling the inbuilt function property(). \n",
    "<br>\n",
    "\n",
    "## Which is used to return the property attributes of a class from the stated getter, setter and deleter as parameters"
   ]
  },
  {
   "cell_type": "markdown",
   "id": "f51e5d4b",
   "metadata": {},
   "source": [
    "# Example"
   ]
  },
  {
   "cell_type": "code",
   "execution_count": 1,
   "id": "8864d290",
   "metadata": {},
   "outputs": [],
   "source": [
    "class Student:\n",
    "    \n",
    "    def __init__(self,name,grade):\n",
    "        \n",
    "        self.name = name\n",
    "        self.grade = grade\n",
    "        self.msg = self.name + \" Got grade \" +self.grade\n"
   ]
  },
  {
   "cell_type": "code",
   "execution_count": 2,
   "id": "4beab9f4",
   "metadata": {},
   "outputs": [],
   "source": [
    "std1 = Student(\"Mubeen\",\"A\")"
   ]
  },
  {
   "cell_type": "code",
   "execution_count": 4,
   "id": "79dd6b11",
   "metadata": {},
   "outputs": [
    {
     "name": "stdout",
     "output_type": "stream",
     "text": [
      "Mubeen\n",
      "A\n",
      "Mubeen Got grade A\n"
     ]
    }
   ],
   "source": [
    "print(std1.name)\n",
    "print(std1.grade)\n",
    "print(std1.msg)"
   ]
  },
  {
   "cell_type": "markdown",
   "id": "1fe0c2ca",
   "metadata": {},
   "source": [
    "# Now try to change grade"
   ]
  },
  {
   "cell_type": "code",
   "execution_count": 5,
   "id": "c2dfa0f1",
   "metadata": {},
   "outputs": [],
   "source": [
    "std1.grade =  \"B\""
   ]
  },
  {
   "cell_type": "code",
   "execution_count": 6,
   "id": "ac607e8f",
   "metadata": {},
   "outputs": [
    {
     "name": "stdout",
     "output_type": "stream",
     "text": [
      "Mubeen\n",
      "B\n",
      "Mubeen Got grade A\n"
     ]
    }
   ],
   "source": [
    "print(std1.name)\n",
    "print(std1.grade)\n",
    "print(std1.msg)"
   ]
  },
  {
   "cell_type": "markdown",
   "id": "440aafe1",
   "metadata": {},
   "source": [
    "## Here grade are not change in msg\n",
    "<br>\n",
    "\n",
    "# Soloution\n",
    "\n",
    "<br><br>"
   ]
  },
  {
   "cell_type": "markdown",
   "id": "1ebe860d",
   "metadata": {},
   "source": [
    "## Step 1 convert attribute to method"
   ]
  },
  {
   "cell_type": "code",
   "execution_count": 16,
   "id": "640cd7b7",
   "metadata": {},
   "outputs": [],
   "source": [
    "class Student:\n",
    "    \n",
    "    def __init__(self,name,grade):\n",
    "        \n",
    "        self.name = name\n",
    "        self.grade = grade\n",
    "        \n",
    "        \n",
    "    def msg(self):\n",
    "        self.msg = self.name + \" Got grade \" +self.grade\n",
    "        return self.msg\n",
    "\n"
   ]
  },
  {
   "cell_type": "code",
   "execution_count": 17,
   "id": "f39ade76",
   "metadata": {},
   "outputs": [],
   "source": [
    "st1 = Student(\"Mubeen\",\"A\")"
   ]
  },
  {
   "cell_type": "code",
   "execution_count": 18,
   "id": "c8f1ce9e",
   "metadata": {},
   "outputs": [
    {
     "name": "stdout",
     "output_type": "stream",
     "text": [
      "Mubeen\n",
      "A\n",
      "Mubeen Got grade A\n"
     ]
    }
   ],
   "source": [
    "print(st1.name)\n",
    "print(st1.grade)\n",
    "\n",
    "# call method\n",
    "print(st1.msg())"
   ]
  },
  {
   "cell_type": "markdown",
   "id": "05525363",
   "metadata": {},
   "source": [
    "### But now if i again call msg method in same object than python raise Error"
   ]
  },
  {
   "cell_type": "code",
   "execution_count": 20,
   "id": "d637d446",
   "metadata": {},
   "outputs": [
    {
     "ename": "TypeError",
     "evalue": "'str' object is not callable",
     "output_type": "error",
     "traceback": [
      "\u001b[0;31m---------------------------------------------------------------------------\u001b[0m",
      "\u001b[0;31mTypeError\u001b[0m                                 Traceback (most recent call last)",
      "Cell \u001b[0;32mIn [20], line 2\u001b[0m\n\u001b[1;32m      1\u001b[0m \u001b[38;5;66;03m# call method again\u001b[39;00m\n\u001b[0;32m----> 2\u001b[0m \u001b[38;5;28mprint\u001b[39m(\u001b[43mst1\u001b[49m\u001b[38;5;241;43m.\u001b[39;49m\u001b[43mmsg\u001b[49m\u001b[43m(\u001b[49m\u001b[43m)\u001b[49m)\n",
      "\u001b[0;31mTypeError\u001b[0m: 'str' object is not callable"
     ]
    }
   ],
   "source": [
    "# call method again\n",
    "print(st1.msg())\n",
    "# because when msg method call first time than msg return string"
   ]
  },
  {
   "cell_type": "markdown",
   "id": "b40fbad9",
   "metadata": {},
   "source": [
    "## Step 2 just used @property before the msg method\n",
    "<br>\n",
    "\n"
   ]
  },
  {
   "cell_type": "code",
   "execution_count": 21,
   "id": "bf04e977",
   "metadata": {},
   "outputs": [],
   "source": [
    "class Student:\n",
    "    \n",
    "    def __init__(self,name,grade):\n",
    "        \n",
    "        self.name = name\n",
    "        self.grade = grade\n",
    "        \n",
    "    @property\n",
    "    def msg(self):\n",
    "        self.msg = self.name + \" Got grade \" +self.grade\n",
    "        return self.msg\n",
    "\n"
   ]
  },
  {
   "cell_type": "code",
   "execution_count": 22,
   "id": "df24eba3",
   "metadata": {},
   "outputs": [],
   "source": [
    "st1 = Student(\"Mubeen\",\"A\")"
   ]
  },
  {
   "cell_type": "code",
   "execution_count": 25,
   "id": "e8f30ca9",
   "metadata": {},
   "outputs": [
    {
     "name": "stdout",
     "output_type": "stream",
     "text": [
      "Mubeen\n",
      "A\n"
     ]
    }
   ],
   "source": [
    "print(st1.name)\n",
    "print(st1.grade)\n"
   ]
  },
  {
   "cell_type": "markdown",
   "id": "10db10bd",
   "metadata": {},
   "source": [
    "### But Problem not solve"
   ]
  },
  {
   "cell_type": "code",
   "execution_count": 27,
   "id": "631966ef",
   "metadata": {},
   "outputs": [
    {
     "ename": "AttributeError",
     "evalue": "can't set attribute 'msg'",
     "output_type": "error",
     "traceback": [
      "\u001b[0;31m---------------------------------------------------------------------------\u001b[0m",
      "\u001b[0;31mAttributeError\u001b[0m                            Traceback (most recent call last)",
      "Cell \u001b[0;32mIn [27], line 1\u001b[0m\n\u001b[0;32m----> 1\u001b[0m \u001b[43mst1\u001b[49m\u001b[38;5;241;43m.\u001b[39;49m\u001b[43mmsg\u001b[49m()\n",
      "Cell \u001b[0;32mIn [21], line 10\u001b[0m, in \u001b[0;36mStudent.msg\u001b[0;34m(self)\u001b[0m\n\u001b[1;32m      8\u001b[0m \u001b[38;5;129m@property\u001b[39m\n\u001b[1;32m      9\u001b[0m \u001b[38;5;28;01mdef\u001b[39;00m \u001b[38;5;21mmsg\u001b[39m(\u001b[38;5;28mself\u001b[39m):\n\u001b[0;32m---> 10\u001b[0m     \u001b[38;5;28;43mself\u001b[39;49m\u001b[38;5;241;43m.\u001b[39;49m\u001b[43mmsg\u001b[49m \u001b[38;5;241m=\u001b[39m \u001b[38;5;28mself\u001b[39m\u001b[38;5;241m.\u001b[39mname \u001b[38;5;241m+\u001b[39m \u001b[38;5;124m\"\u001b[39m\u001b[38;5;124m Got grade \u001b[39m\u001b[38;5;124m\"\u001b[39m \u001b[38;5;241m+\u001b[39m\u001b[38;5;28mself\u001b[39m\u001b[38;5;241m.\u001b[39mgrade\n\u001b[1;32m     11\u001b[0m     \u001b[38;5;28;01mreturn\u001b[39;00m \u001b[38;5;28mself\u001b[39m\u001b[38;5;241m.\u001b[39mmsg\n",
      "\u001b[0;31mAttributeError\u001b[0m: can't set attribute 'msg'"
     ]
    }
   ],
   "source": [
    "st1.msg()"
   ]
  },
  {
   "cell_type": "markdown",
   "id": "338f3451",
   "metadata": {},
   "source": [
    "# Step 3 Use getter and setter Concept\n",
    "<br>\n",
    "\n"
   ]
  },
  {
   "cell_type": "markdown",
   "id": "512235e4",
   "metadata": {},
   "source": [
    "# Getters and Setters in Python\n",
    "<br>\n",
    "\n",
    "## To implement proper encapsulation in Python, we need to use setters and getters. \n",
    "<br><br>\n",
    "\n",
    "## The primary purpose of using getters and setters in object-oriented programs is to ensure data encapsulation. \n",
    "<br><br>\n",
    "\n",
    "## Use the getter method to access data members and the setter methods to modify the data members."
   ]
  },
  {
   "cell_type": "markdown",
   "id": "05c6727c",
   "metadata": {},
   "source": [
    "<br><br><br>\n",
    "\n",
    "# Setter \n"
   ]
  },
  {
   "cell_type": "code",
   "execution_count": 28,
   "id": "ece0d6e6",
   "metadata": {},
   "outputs": [],
   "source": [
    "class Student:\n",
    "    \n",
    "    def __init__(self,name,grade):\n",
    "        \n",
    "        self.name = name\n",
    "        self.grade = grade\n",
    "    \n",
    "    @property\n",
    "    def msg(self):\n",
    "        return self.name + \" Got grade \" +self.grade\n",
    "    \n",
    "    \n",
    "    def setter(self,msg):\n",
    "        sent = msg.split(\" \")\n",
    "        self.name = sent[0]\n",
    "        self.grade = sent[-1]\n"
   ]
  },
  {
   "cell_type": "code",
   "execution_count": 30,
   "id": "b61333db",
   "metadata": {},
   "outputs": [],
   "source": [
    "st1 = Student(\"Mubeen\",\"F\")"
   ]
  },
  {
   "cell_type": "code",
   "execution_count": 36,
   "id": "ef7f63c3",
   "metadata": {},
   "outputs": [],
   "source": [
    "# setter means set msg\n",
    "st1.setter(\"Mubeen Got Grade B\")"
   ]
  },
  {
   "cell_type": "code",
   "execution_count": 37,
   "id": "694e9110",
   "metadata": {},
   "outputs": [
    {
     "name": "stdout",
     "output_type": "stream",
     "text": [
      "Mubeen\n",
      "B\n",
      "Mubeen Got grade B\n"
     ]
    }
   ],
   "source": [
    "print(st1.name)\n",
    "print(st1.grade)\n",
    "print(st1.msg)"
   ]
  },
  {
   "cell_type": "markdown",
   "id": "a6c57831",
   "metadata": {},
   "source": [
    "## Now try to change grade"
   ]
  },
  {
   "cell_type": "code",
   "execution_count": 38,
   "id": "a7a61d4a",
   "metadata": {},
   "outputs": [
    {
     "name": "stdout",
     "output_type": "stream",
     "text": [
      "Mubeen Got grade A\n"
     ]
    }
   ],
   "source": [
    "st1.grade = \"A\"\n",
    "print(st1.msg)"
   ]
  },
  {
   "cell_type": "code",
   "execution_count": 39,
   "id": "25385691",
   "metadata": {},
   "outputs": [
    {
     "name": "stdout",
     "output_type": "stream",
     "text": [
      "Mubeen Got grade D\n"
     ]
    }
   ],
   "source": [
    "st1.grade = \"D\"\n",
    "print(st1.msg)"
   ]
  },
  {
   "cell_type": "code",
   "execution_count": 42,
   "id": "2afd836f",
   "metadata": {},
   "outputs": [],
   "source": [
    "st1.setter(\"Mubeen Got Grade z\")"
   ]
  },
  {
   "cell_type": "markdown",
   "id": "8fa9613f",
   "metadata": {},
   "source": [
    "# Change method to attribute\n",
    "<br>\n",
    "\n",
    "## used @msg.setter for msg as the attribute and rename setter to msg"
   ]
  },
  {
   "cell_type": "code",
   "execution_count": 46,
   "id": "4554a5fb",
   "metadata": {},
   "outputs": [],
   "source": [
    "class Student:\n",
    "    \n",
    "    def __init__(self,name,grade):\n",
    "        \n",
    "        self.name = name\n",
    "        self.grade = grade\n",
    "    \n",
    "    @property\n",
    "    def msg(self):\n",
    "        return self.name + \" Got grade \" +self.grade\n",
    "    \n",
    "    \n",
    "    # set msg\n",
    "    @msg.setter\n",
    "    def msg(self,msg):\n",
    "        sent = msg.split(\" \")\n",
    "        self.name = sent[0]\n",
    "        self.grade = sent[-1]\n"
   ]
  },
  {
   "cell_type": "code",
   "execution_count": 47,
   "id": "ccb59693",
   "metadata": {},
   "outputs": [],
   "source": [
    "st1 = Student(\"Mubeen\",\"F\")"
   ]
  },
  {
   "cell_type": "code",
   "execution_count": 48,
   "id": "4e980050",
   "metadata": {},
   "outputs": [
    {
     "name": "stdout",
     "output_type": "stream",
     "text": [
      "Mubeen\n",
      "F\n",
      "Mubeen Got grade F\n"
     ]
    }
   ],
   "source": [
    "print(st1.name)\n",
    "print(st1.grade)\n",
    "print(st1.msg)"
   ]
  },
  {
   "cell_type": "markdown",
   "id": "960b6896",
   "metadata": {},
   "source": [
    "# now set message without calling"
   ]
  },
  {
   "cell_type": "code",
   "execution_count": 50,
   "id": "5467c3a8",
   "metadata": {},
   "outputs": [],
   "source": [
    "# st1.msg(\"\") ---> st1.msg = \"\"\n",
    "st1.msg = \"Mubeen Got grade A\""
   ]
  },
  {
   "cell_type": "code",
   "execution_count": 51,
   "id": "567d1a4c",
   "metadata": {},
   "outputs": [
    {
     "name": "stdout",
     "output_type": "stream",
     "text": [
      "Mubeen\n",
      "A\n",
      "Mubeen Got grade A\n"
     ]
    }
   ],
   "source": [
    "print(st1.name)\n",
    "print(st1.grade)\n",
    "print(st1.msg)"
   ]
  },
  {
   "cell_type": "markdown",
   "id": "aad778ea",
   "metadata": {},
   "source": [
    "# Getter\n",
    "<br>\n",
    "\n",
    "## Getter used for get the value\n",
    "## Setter user for set the value"
   ]
  },
  {
   "cell_type": "code",
   "execution_count": 53,
   "id": "0f5879ff",
   "metadata": {},
   "outputs": [],
   "source": [
    "class Student:\n",
    "    \n",
    "    def __init__(self,marks):\n",
    "        self.marks = marks\n",
    "    \n",
    "    @property\n",
    "    def new_marks():\n",
    "        pass\n",
    "    \n",
    "    # setter\n",
    "    @new_marks.setter\n",
    "    def new_marks(self,new):\n",
    "        self.marks = new\n",
    "    \n",
    "    # getter\n",
    "    @new_marks.getter\n",
    "    def check_marks(self):\n",
    "        return self.marks"
   ]
  },
  {
   "cell_type": "code",
   "execution_count": 54,
   "id": "7b2e6f3a",
   "metadata": {},
   "outputs": [],
   "source": [
    "st = Student(100)"
   ]
  },
  {
   "cell_type": "code",
   "execution_count": 56,
   "id": "d81f266a",
   "metadata": {},
   "outputs": [
    {
     "name": "stdout",
     "output_type": "stream",
     "text": [
      "100\n"
     ]
    }
   ],
   "source": [
    "print(st.marks)"
   ]
  },
  {
   "cell_type": "markdown",
   "id": "6ddf70e4",
   "metadata": {},
   "source": [
    "## Now here we don't Need to call the st.marks() method"
   ]
  },
  {
   "cell_type": "markdown",
   "id": "4b381e74",
   "metadata": {},
   "source": [
    "<br><br>\n",
    "\n",
    "# use setter for change the marks"
   ]
  },
  {
   "cell_type": "code",
   "execution_count": 57,
   "id": "7c7c2a88",
   "metadata": {},
   "outputs": [],
   "source": [
    "# setter\n",
    "st.new_marks = 85"
   ]
  },
  {
   "cell_type": "code",
   "execution_count": 60,
   "id": "630fb5b5",
   "metadata": {},
   "outputs": [
    {
     "data": {
      "text/plain": [
       "85"
      ]
     },
     "execution_count": 60,
     "metadata": {},
     "output_type": "execute_result"
    }
   ],
   "source": [
    "# getter\n",
    "st.marks"
   ]
  },
  {
   "cell_type": "markdown",
   "id": "618793f3",
   "metadata": {},
   "source": [
    "# Understand the Syntax"
   ]
  },
  {
   "cell_type": "code",
   "execution_count": 153,
   "id": "ca1cd24d",
   "metadata": {},
   "outputs": [],
   "source": [
    "class Laptop:\n",
    "    \n",
    "    def __init__(self,price):\n",
    "        self.price = price\n",
    "        \n",
    "    # --------------------------------------------    \n",
    "    # now here use your main function\n",
    "    @property\n",
    "    def new_price():\n",
    "        pass\n",
    "    # --------------------------------------------    \n",
    "\n",
    "    # here use setter\n",
    "    \n",
    "    # --------------------------------------------  \n",
    "    # function_name.setter\n",
    "    @new_price.setter\n",
    "    # note name are same as new_price\n",
    "    def new_price(self,new):\n",
    "        print(\"Price are Updated :- \")\n",
    "        self.price = new \n",
    "    # --------------------------------------------  \n",
    "\n",
    "    # here use getter\n",
    "    \n",
    "    # --------------------------------------------  \n",
    "    # function_name.getter\n",
    "    @new_price.getter\n",
    "    # note name are same as new_price\n",
    "    def new_price(self):\n",
    "        return self.price\n",
    "    # --------------------------------------------  "
   ]
  },
  {
   "cell_type": "code",
   "execution_count": 154,
   "id": "b81031e8",
   "metadata": {},
   "outputs": [],
   "source": [
    "corei5 = Laptop(19000)"
   ]
  },
  {
   "cell_type": "code",
   "execution_count": 155,
   "id": "4faec37a",
   "metadata": {},
   "outputs": [
    {
     "data": {
      "text/plain": [
       "19000"
      ]
     },
     "execution_count": 155,
     "metadata": {},
     "output_type": "execute_result"
    }
   ],
   "source": [
    "# get price \n",
    "corei5.price"
   ]
  },
  {
   "cell_type": "code",
   "execution_count": 156,
   "id": "f4439322",
   "metadata": {},
   "outputs": [
    {
     "data": {
      "text/plain": [
       "19000"
      ]
     },
     "execution_count": 156,
     "metadata": {},
     "output_type": "execute_result"
    }
   ],
   "source": [
    "# get price with getter\n",
    "corei5.new_price"
   ]
  },
  {
   "cell_type": "code",
   "execution_count": 157,
   "id": "a9a08004",
   "metadata": {},
   "outputs": [
    {
     "name": "stdout",
     "output_type": "stream",
     "text": [
      "Price are Updated :- \n"
     ]
    }
   ],
   "source": [
    "# now change price with setter\n",
    "corei5.new_price = 17000"
   ]
  },
  {
   "cell_type": "code",
   "execution_count": 158,
   "id": "fd464d5e",
   "metadata": {},
   "outputs": [
    {
     "data": {
      "text/plain": [
       "17000"
      ]
     },
     "execution_count": 158,
     "metadata": {},
     "output_type": "execute_result"
    }
   ],
   "source": [
    "# get price\n",
    "corei5.price"
   ]
  },
  {
   "cell_type": "code",
   "execution_count": 159,
   "id": "1d258286",
   "metadata": {},
   "outputs": [
    {
     "data": {
      "text/plain": [
       "17000"
      ]
     },
     "execution_count": 159,
     "metadata": {},
     "output_type": "execute_result"
    }
   ],
   "source": [
    "# get price with getter\n",
    "corei5.new_price"
   ]
  },
  {
   "cell_type": "markdown",
   "id": "381b08b1",
   "metadata": {},
   "source": [
    "# deleter\n",
    "\n",
    "## deleter used for remove the value"
   ]
  },
  {
   "cell_type": "code",
   "execution_count": 174,
   "id": "1ce0b5d1",
   "metadata": {},
   "outputs": [],
   "source": [
    "class Laptop:\n",
    "    \n",
    "    def __init__(self,price):\n",
    "        self.price = price\n",
    "        \n",
    "    # --------------------------------------------    \n",
    "    # now here use your main function\n",
    "    @property\n",
    "    def new_price():\n",
    "        pass\n",
    "    # --------------------------------------------    \n",
    "\n",
    "    # here use setter\n",
    "    \n",
    "    # --------------------------------------------  \n",
    "    # function_name.setter\n",
    "    @new_price.setter\n",
    "    # note name are same as new_price\n",
    "    def new_price(self,new):\n",
    "        print(\"Price are Updated :- \")\n",
    "        self.price = new \n",
    "    # --------------------------------------------  \n",
    "\n",
    "    # here use getter\n",
    "    \n",
    "    # --------------------------------------------  \n",
    "    # function_name.getter\n",
    "    @new_price.getter\n",
    "    # note name are same as new_price\n",
    "    def new_price(self):\n",
    "        return self.price\n",
    "    # --------------------------------------------  \n",
    "    \n",
    "    # here use deleter\n",
    "    \n",
    "    # --------------------------------------------  \n",
    "    # function_name.deleter\n",
    "    @new_price.deleter\n",
    "    # note name are same as new_price\n",
    "    def new_price(self):\n",
    "        print(\"Price are Removed :- \")\n",
    "        self.price = \"\"\n",
    "    # --------------------------------------------  "
   ]
  },
  {
   "cell_type": "code",
   "execution_count": 179,
   "id": "6df624d1",
   "metadata": {},
   "outputs": [],
   "source": [
    "corei5 = Laptop(30000)"
   ]
  },
  {
   "cell_type": "code",
   "execution_count": 180,
   "id": "89f299b5",
   "metadata": {},
   "outputs": [
    {
     "data": {
      "text/plain": [
       "30000"
      ]
     },
     "execution_count": 180,
     "metadata": {},
     "output_type": "execute_result"
    }
   ],
   "source": [
    "corei5.price"
   ]
  },
  {
   "cell_type": "code",
   "execution_count": 181,
   "id": "d6c65b4c",
   "metadata": {},
   "outputs": [
    {
     "name": "stdout",
     "output_type": "stream",
     "text": [
      "Price are Updated :- \n"
     ]
    }
   ],
   "source": [
    "# setter\n",
    "corei5.new_price = 20000"
   ]
  },
  {
   "cell_type": "code",
   "execution_count": 182,
   "id": "0e55b5da",
   "metadata": {},
   "outputs": [
    {
     "data": {
      "text/plain": [
       "20000"
      ]
     },
     "execution_count": 182,
     "metadata": {},
     "output_type": "execute_result"
    }
   ],
   "source": [
    "# getter\n",
    "corei5.new_price"
   ]
  },
  {
   "cell_type": "code",
   "execution_count": 183,
   "id": "6b4c145d",
   "metadata": {},
   "outputs": [
    {
     "name": "stdout",
     "output_type": "stream",
     "text": [
      "Price are Removed :- \n"
     ]
    }
   ],
   "source": [
    "# deleter\n",
    "# use del\n",
    "del corei5.new_price"
   ]
  },
  {
   "cell_type": "code",
   "execution_count": 184,
   "id": "4efd4170",
   "metadata": {},
   "outputs": [
    {
     "data": {
      "text/plain": [
       "''"
      ]
     },
     "execution_count": 184,
     "metadata": {},
     "output_type": "execute_result"
    }
   ],
   "source": [
    "# now check new price\n",
    "corei5.new_price"
   ]
  },
  {
   "cell_type": "code",
   "execution_count": 185,
   "id": "8a15df63",
   "metadata": {},
   "outputs": [
    {
     "data": {
      "text/plain": [
       "''"
      ]
     },
     "execution_count": 185,
     "metadata": {},
     "output_type": "execute_result"
    }
   ],
   "source": [
    "# also check price\n",
    "corei5.price"
   ]
  },
  {
   "cell_type": "code",
   "execution_count": 186,
   "id": "e0d0dcee",
   "metadata": {},
   "outputs": [
    {
     "name": "stdout",
     "output_type": "stream",
     "text": [
      "Price are Updated :- \n"
     ]
    }
   ],
   "source": [
    "# now set new price \n",
    "corei5.new_price = 50000"
   ]
  },
  {
   "cell_type": "code",
   "execution_count": 187,
   "id": "a51545b0",
   "metadata": {},
   "outputs": [
    {
     "data": {
      "text/plain": [
       "50000"
      ]
     },
     "execution_count": 187,
     "metadata": {},
     "output_type": "execute_result"
    }
   ],
   "source": [
    "# check now price\n",
    "corei5.price"
   ]
  },
  {
   "cell_type": "code",
   "execution_count": 188,
   "id": "903dea28",
   "metadata": {},
   "outputs": [
    {
     "data": {
      "text/plain": [
       "50000"
      ]
     },
     "execution_count": 188,
     "metadata": {},
     "output_type": "execute_result"
    }
   ],
   "source": [
    "# check with getter\n",
    "corei5.new_price"
   ]
  },
  {
   "cell_type": "markdown",
   "id": "e9ae8b3b",
   "metadata": {},
   "source": [
    "# property bulit-in Function\n",
    "<br>\n",
    "\n",
    "## property(fget=None, fset=None, fdel=None, doc=None)\n",
    "<br><br><br><br><br><br>\n",
    "\n",
    "\n",
    "# fget\n",
    "## function to be used for getting an attribute value\n",
    "<br><br>\n",
    "\n",
    "# fset\n",
    "## function to be used for setting an attribute value\n",
    " <br><br>\n",
    " \n",
    "# fdel\n",
    "## function to be used for del'ing an attribute\n",
    "<br><br>\n",
    "\n",
    "# doc\n",
    "## return docstring"
   ]
  },
  {
   "cell_type": "markdown",
   "id": "2c3cd379",
   "metadata": {},
   "source": [
    "<br>\n",
    "\n",
    "## Example"
   ]
  },
  {
   "cell_type": "code",
   "execution_count": 13,
   "id": "7419ea9e",
   "metadata": {},
   "outputs": [],
   "source": [
    "marks = 100\n",
    "new_marks = 80\n",
    "rm = marks\n",
    "\n",
    "data = property(fget=marks,fset=new_marks,fdel=rm)"
   ]
  },
  {
   "cell_type": "code",
   "execution_count": 14,
   "id": "21d0e135",
   "metadata": {},
   "outputs": [
    {
     "data": {
      "text/plain": [
       "<property at 0x7f5145955580>"
      ]
     },
     "execution_count": 14,
     "metadata": {},
     "output_type": "execute_result"
    }
   ],
   "source": [
    "data"
   ]
  },
  {
   "cell_type": "code",
   "execution_count": 15,
   "id": "03eedb99",
   "metadata": {},
   "outputs": [
    {
     "data": {
      "text/plain": [
       "100"
      ]
     },
     "execution_count": 15,
     "metadata": {},
     "output_type": "execute_result"
    }
   ],
   "source": [
    "data.fget"
   ]
  },
  {
   "cell_type": "code",
   "execution_count": 18,
   "id": "b79d10c1",
   "metadata": {},
   "outputs": [
    {
     "data": {
      "text/plain": [
       "80"
      ]
     },
     "execution_count": 18,
     "metadata": {},
     "output_type": "execute_result"
    }
   ],
   "source": [
    "data.fset"
   ]
  },
  {
   "cell_type": "code",
   "execution_count": 19,
   "id": "c0c88632",
   "metadata": {},
   "outputs": [
    {
     "data": {
      "text/plain": [
       "100"
      ]
     },
     "execution_count": 19,
     "metadata": {},
     "output_type": "execute_result"
    }
   ],
   "source": [
    "data.fdel"
   ]
  },
  {
   "cell_type": "markdown",
   "id": "b2aa3f79",
   "metadata": {},
   "source": [
    "# Use in class "
   ]
  },
  {
   "cell_type": "code",
   "execution_count": 2,
   "id": "96149bdb",
   "metadata": {},
   "outputs": [],
   "source": [
    "class Laptop:\n",
    "    \n",
    "    def __init__(self,price):\n",
    "        self.price = price\n",
    "    \n",
    "    # now we dont need to extra method and @property\n",
    "    # and we dont need to create same method name\n",
    "    \n",
    "    # setter\n",
    "    def set_price(self,new_price):\n",
    "        self.price = new_price\n",
    "    \n",
    "    # getter\n",
    "    \n",
    "    def get_price(self):\n",
    "        return self.price\n",
    "    \n",
    "    # deleter\n",
    "    def del_price(self):\n",
    "        self.price = \"\"\n",
    "    \n",
    "    #                    getter ,       setter ,       deleter\n",
    "    update = property(fget=get_price,fset=set_price,fdel=del_price)\n",
    "    "
   ]
  },
  {
   "cell_type": "markdown",
   "id": "626a171e",
   "metadata": {},
   "source": [
    "## Here update also treat as getter , setter and deleter\n",
    "<br>\n",
    "\n",
    "# We don't need to call manually get_price,get_price,get_price"
   ]
  },
  {
   "cell_type": "code",
   "execution_count": 3,
   "id": "5e651fdf",
   "metadata": {},
   "outputs": [],
   "source": [
    "obj = Laptop(25000)"
   ]
  },
  {
   "cell_type": "code",
   "execution_count": 4,
   "id": "2f891b8e",
   "metadata": {},
   "outputs": [
    {
     "data": {
      "text/plain": [
       "25000"
      ]
     },
     "execution_count": 4,
     "metadata": {},
     "output_type": "execute_result"
    }
   ],
   "source": [
    "# get price with constructor attribute\n",
    "obj.price"
   ]
  },
  {
   "cell_type": "markdown",
   "id": "2d7136bf",
   "metadata": {},
   "source": [
    "## Use update as a getter"
   ]
  },
  {
   "cell_type": "code",
   "execution_count": 5,
   "id": "a3c3580e",
   "metadata": {},
   "outputs": [
    {
     "data": {
      "text/plain": [
       "25000"
      ]
     },
     "execution_count": 5,
     "metadata": {},
     "output_type": "execute_result"
    }
   ],
   "source": [
    "# obj.update\n",
    "obj.update\n",
    "\n",
    "# we dont need to call obj.get_price()\n",
    "# obj.get_price()"
   ]
  },
  {
   "cell_type": "markdown",
   "id": "5f5e3888",
   "metadata": {},
   "source": [
    "## Use update as a setter"
   ]
  },
  {
   "cell_type": "code",
   "execution_count": 6,
   "id": "136b9f86",
   "metadata": {},
   "outputs": [],
   "source": [
    "# obj.update = 20000\n",
    "obj.update = 0\n",
    "\n",
    "# we dont need to call obj.set_price()\n",
    "# obj.set_price(0)"
   ]
  },
  {
   "cell_type": "markdown",
   "id": "841f52ec",
   "metadata": {},
   "source": [
    "## Now Check value"
   ]
  },
  {
   "cell_type": "code",
   "execution_count": 7,
   "id": "70261f83",
   "metadata": {},
   "outputs": [
    {
     "data": {
      "text/plain": [
       "0"
      ]
     },
     "execution_count": 7,
     "metadata": {},
     "output_type": "execute_result"
    }
   ],
   "source": [
    "obj.update"
   ]
  },
  {
   "cell_type": "markdown",
   "id": "321b3205",
   "metadata": {},
   "source": [
    "## Now use deleter"
   ]
  },
  {
   "cell_type": "code",
   "execution_count": 8,
   "id": "41e5da8e",
   "metadata": {},
   "outputs": [],
   "source": [
    "del obj.update\n",
    "\n",
    "# we dont need to call obj.del_price()\n",
    "# obj.del_price()"
   ]
  },
  {
   "cell_type": "markdown",
   "id": "9547023a",
   "metadata": {},
   "source": [
    "## Now Check again value"
   ]
  },
  {
   "cell_type": "code",
   "execution_count": 9,
   "id": "6be95773",
   "metadata": {},
   "outputs": [
    {
     "data": {
      "text/plain": [
       "''"
      ]
     },
     "execution_count": 9,
     "metadata": {},
     "output_type": "execute_result"
    }
   ],
   "source": [
    "obj.update"
   ]
  },
  {
   "cell_type": "code",
   "execution_count": 10,
   "id": "308a2eb8",
   "metadata": {},
   "outputs": [
    {
     "data": {
      "text/plain": [
       "''"
      ]
     },
     "execution_count": 10,
     "metadata": {},
     "output_type": "execute_result"
    }
   ],
   "source": [
    "obj.price"
   ]
  },
  {
   "cell_type": "markdown",
   "id": "c633c4ec",
   "metadata": {},
   "source": [
    "## Now Set again value"
   ]
  },
  {
   "cell_type": "code",
   "execution_count": 11,
   "id": "3b35000d",
   "metadata": {},
   "outputs": [],
   "source": [
    "obj.update = 50000"
   ]
  },
  {
   "cell_type": "code",
   "execution_count": 12,
   "id": "016d94ec",
   "metadata": {},
   "outputs": [
    {
     "name": "stdout",
     "output_type": "stream",
     "text": [
      "50000\n"
     ]
    }
   ],
   "source": [
    "# check value\n",
    "print(obj.update)"
   ]
  }
 ],
 "metadata": {
  "kernelspec": {
   "display_name": "Python 3 (ipykernel)",
   "language": "python",
   "name": "python3"
  },
  "language_info": {
   "codemirror_mode": {
    "name": "ipython",
    "version": 3
   },
   "file_extension": ".py",
   "mimetype": "text/x-python",
   "name": "python",
   "nbconvert_exporter": "python",
   "pygments_lexer": "ipython3",
   "version": "3.10.6"
  }
 },
 "nbformat": 4,
 "nbformat_minor": 5
}

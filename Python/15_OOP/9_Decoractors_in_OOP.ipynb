{
 "cells": [
  {
   "cell_type": "markdown",
   "id": "c8a3033c",
   "metadata": {},
   "source": [
    "\n",
    "## A decorator in python is a function that receives another function as input and adds some functionality(decoration) to and it and returns it.\n",
    "\n",
    "<br><br>"
   ]
  },
  {
   "cell_type": "markdown",
   "id": "06cddd33",
   "metadata": {},
   "source": [
    "<br>\n",
    "\n",
    "<h1>Note For Better Understanding First Read This Topic <a href=\"https://github.com/Mubeen-Ahmad/python_11/blob/main/Python/14%20Decorators/decoractors.ipynb\" style=\"color:skyblue;\">click here</a></h1>\n",
    "\n",
    "<br><br><br>"
   ]
  },
  {
   "cell_type": "markdown",
   "id": "99215105",
   "metadata": {},
   "source": [
    "## We also used in bulit-in Decorators in Previous Topic\n",
    "<br>\n",
    "\n",
    "<h2> * <a href=\"https://github.com/Mubeen-Ahmad/python_11/blob/main/Python/15_OOP/6_Class_Method.ipynb\" style=\"color:red;\">ClassMethod</a><br><br>* <a href=\"https://github.com/Mubeen-Ahmad/python_11/blob/main/Python/15_OOP/8_Static_Method.ipynb\" style=\"color:red;\">StaticMethod</a>\n",
    "</h2>"
   ]
  },
  {
   "cell_type": "markdown",
   "id": "75b28374",
   "metadata": {},
   "source": [
    "# KeyPoints\n",
    "<br>\n",
    "\n",
    "<h3 style=\"color:#4e2abd;\">\n",
    "• Create a User-Define Decoractor <br>\n",
    ". Pass Method in decoractor <br>\n",
    ". Pass Method in decoractor Using @ <br>\n",
    ". __call__ constructor <br>\n",
    "</h3>"
   ]
  },
  {
   "cell_type": "markdown",
   "id": "c36ec9b0",
   "metadata": {},
   "source": [
    "# Create a Simple Decoractor"
   ]
  },
  {
   "cell_type": "code",
   "execution_count": 141,
   "id": "96dc4221",
   "metadata": {},
   "outputs": [],
   "source": [
    "def decoractor(method):\n",
    "    print(\"Inside decoractor\")\n",
    "    \n",
    "    def wrapper(self_name):\n",
    "        # self_name from login method\n",
    "        \n",
    "        print(\"Inside wrapper\")\n",
    "        \n",
    "        if self_name.lower() == \"mubeen\":\n",
    "            return f\"Welcome {self_name}\"\n",
    "        return f\"Sorry {self_name} You are not registered\"\n",
    "    \n",
    "    return wrapper(method)"
   ]
  },
  {
   "cell_type": "code",
   "execution_count": 142,
   "id": "e91b04b6",
   "metadata": {},
   "outputs": [],
   "source": [
    "class Student:\n",
    "    def __init__(self,name):\n",
    "        self.name = name\n",
    "        \n",
    "    def login(self):\n",
    "        return self.name\n",
    "        "
   ]
  },
  {
   "cell_type": "code",
   "execution_count": 143,
   "id": "add33395",
   "metadata": {},
   "outputs": [],
   "source": [
    "obj1 = Student(\"Mubeen\")\n",
    "obj2 = Student(\"Ali\")"
   ]
  },
  {
   "cell_type": "code",
   "execution_count": 144,
   "id": "bb626d71",
   "metadata": {},
   "outputs": [
    {
     "name": "stdout",
     "output_type": "stream",
     "text": [
      "Inside decoractor\n",
      "Inside wrapper\n"
     ]
    },
    {
     "data": {
      "text/plain": [
       "'Welcome Mubeen'"
      ]
     },
     "execution_count": 144,
     "metadata": {},
     "output_type": "execute_result"
    }
   ],
   "source": [
    "decoractor(obj1.login())"
   ]
  },
  {
   "cell_type": "code",
   "execution_count": 145,
   "id": "8b2c6c9d",
   "metadata": {},
   "outputs": [
    {
     "name": "stdout",
     "output_type": "stream",
     "text": [
      "Inside decoractor\n",
      "Inside wrapper\n"
     ]
    },
    {
     "data": {
      "text/plain": [
       "'Sorry Ali You are not registered'"
      ]
     },
     "execution_count": 145,
     "metadata": {},
     "output_type": "execute_result"
    }
   ],
   "source": [
    "decoractor(obj2.login())"
   ]
  },
  {
   "cell_type": "markdown",
   "id": "6feaa249",
   "metadata": {},
   "source": [
    "# Create a Simple Decoractor With @"
   ]
  },
  {
   "cell_type": "code",
   "execution_count": 183,
   "id": "dcc25299",
   "metadata": {},
   "outputs": [],
   "source": [
    "def decoractor(method):\n",
    "    print(\"Inside decoractor\")\n",
    "    \n",
    "    def wrapper(login):\n",
    "        # login = self.name\n",
    "        print(\"Inside wrapper\")\n",
    "        \n",
    "        name = method(login)\n",
    "        if name.lower() == \"mubeen\":\n",
    "            return f\"Welcome {name}\"\n",
    "        return f\"Sorry {name} you are not registerd\"\n",
    "    \n",
    "    return wrapper\n"
   ]
  },
  {
   "cell_type": "code",
   "execution_count": 184,
   "id": "c770f76c",
   "metadata": {},
   "outputs": [
    {
     "name": "stdout",
     "output_type": "stream",
     "text": [
      "Inside decoractor\n"
     ]
    }
   ],
   "source": [
    "class Student:\n",
    "    def __init__(self,name):\n",
    "        self.name = name\n",
    "    \n",
    "    @decoractor\n",
    "    def login(self):\n",
    "        print(\"Inside login\")\n",
    "        return self.name\n",
    "        "
   ]
  },
  {
   "cell_type": "code",
   "execution_count": 185,
   "id": "8a1c61d9",
   "metadata": {},
   "outputs": [],
   "source": [
    "obj1 = Student(\"Mubeen\")\n",
    "obj2 = Student(\"Ali\")"
   ]
  },
  {
   "cell_type": "code",
   "execution_count": 186,
   "id": "bd11a6c1",
   "metadata": {},
   "outputs": [
    {
     "name": "stdout",
     "output_type": "stream",
     "text": [
      "Inside wrapper\n",
      "Inside login\n"
     ]
    },
    {
     "data": {
      "text/plain": [
       "'Welcome Mubeen'"
      ]
     },
     "execution_count": 186,
     "metadata": {},
     "output_type": "execute_result"
    }
   ],
   "source": [
    "obj1.login()"
   ]
  },
  {
   "cell_type": "code",
   "execution_count": 187,
   "id": "c9ffe53c",
   "metadata": {},
   "outputs": [
    {
     "name": "stdout",
     "output_type": "stream",
     "text": [
      "Inside wrapper\n",
      "Inside login\n"
     ]
    },
    {
     "data": {
      "text/plain": [
       "'Sorry Ali you are not registerd'"
      ]
     },
     "execution_count": 187,
     "metadata": {},
     "output_type": "execute_result"
    }
   ],
   "source": [
    "obj2.login()"
   ]
  },
  {
   "cell_type": "markdown",
   "id": "08b15913",
   "metadata": {},
   "source": [
    "# NOTE\n",
    "<br>\n",
    "\n",
    "## For Better Understand First read this <a href=\"https://github.com/Mubeen-Ahmad/python_11/blob/main/Python/15_OOP/9_Decoractors_in_OOP.ipynb\">Click Here</a>"
   ]
  },
  {
   "cell_type": "markdown",
   "id": "3ce89833",
   "metadata": {},
   "source": [
    "# Example 2"
   ]
  },
  {
   "cell_type": "code",
   "execution_count": 194,
   "id": "890cd54f",
   "metadata": {},
   "outputs": [],
   "source": [
    "def check_name(method): \n",
    "    \n",
    "    def inner(ref):\n",
    "        name = method(ref)\n",
    "        if name != \"Mubeen\":\n",
    "            return f\"Sorry {name} You are not a member\"\n",
    "        \n",
    "        return f\"Welcome {name}\"\n",
    "    return inner"
   ]
  },
  {
   "cell_type": "code",
   "execution_count": 195,
   "id": "bb94f190",
   "metadata": {},
   "outputs": [],
   "source": [
    "class Student:\n",
    "    \n",
    "    def __init__(self,name):\n",
    "        self.name = name\n",
    "    \n",
    "    @check_name\n",
    "    def show(self):\n",
    "        return self.name"
   ]
  },
  {
   "cell_type": "code",
   "execution_count": 196,
   "id": "31ea8b1d",
   "metadata": {},
   "outputs": [],
   "source": [
    "s1 = Student(\"Mubeen\")\n",
    "s2 = Student(\"Anon\")"
   ]
  },
  {
   "cell_type": "code",
   "execution_count": 197,
   "id": "8430a50b",
   "metadata": {},
   "outputs": [
    {
     "data": {
      "text/plain": [
       "'Welcome Mubeen'"
      ]
     },
     "execution_count": 197,
     "metadata": {},
     "output_type": "execute_result"
    }
   ],
   "source": [
    "s1.show()"
   ]
  },
  {
   "cell_type": "code",
   "execution_count": 198,
   "id": "a69e77a1",
   "metadata": {},
   "outputs": [
    {
     "data": {
      "text/plain": [
       "'Welcome Mubeen'"
      ]
     },
     "execution_count": 198,
     "metadata": {},
     "output_type": "execute_result"
    }
   ],
   "source": [
    "s1.show()"
   ]
  },
  {
   "cell_type": "markdown",
   "id": "40157c13",
   "metadata": {},
   "source": [
    "# Try to Call object ?"
   ]
  },
  {
   "cell_type": "code",
   "execution_count": 199,
   "id": "791bdb53",
   "metadata": {},
   "outputs": [
    {
     "ename": "TypeError",
     "evalue": "'Student' object is not callable",
     "output_type": "error",
     "traceback": [
      "\u001b[0;31m---------------------------------------------------------------------------\u001b[0m",
      "\u001b[0;31mTypeError\u001b[0m                                 Traceback (most recent call last)",
      "Cell \u001b[0;32mIn [199], line 1\u001b[0m\n\u001b[0;32m----> 1\u001b[0m \u001b[43ms1\u001b[49m\u001b[43m(\u001b[49m\u001b[43m)\u001b[49m\n",
      "\u001b[0;31mTypeError\u001b[0m: 'Student' object is not callable"
     ]
    }
   ],
   "source": [
    "s1()"
   ]
  },
  {
   "cell_type": "markdown",
   "id": "5acedad5",
   "metadata": {},
   "source": [
    "## Here Object is not callable\n",
    "<br>\n",
    "\n",
    "## fix this error using `__call__ `\n",
    "<br>\n",
    "\n",
    "## The `__call__ ` method enables Python programmers to write classes where the instances behave like functions and can be called like a function. When the instance is called as a function;"
   ]
  },
  {
   "cell_type": "code",
   "execution_count": 201,
   "id": "a9e2da78",
   "metadata": {},
   "outputs": [
    {
     "ename": "AttributeError",
     "evalue": "'Student' object has no attribute '__cal__'",
     "output_type": "error",
     "traceback": [
      "\u001b[0;31m---------------------------------------------------------------------------\u001b[0m",
      "\u001b[0;31mAttributeError\u001b[0m                            Traceback (most recent call last)",
      "Cell \u001b[0;32mIn [201], line 1\u001b[0m\n\u001b[0;32m----> 1\u001b[0m \u001b[43ms1\u001b[49m\u001b[38;5;241;43m.\u001b[39;49m\u001b[43m__cal__\u001b[49m()\n",
      "\u001b[0;31mAttributeError\u001b[0m: 'Student' object has no attribute '__cal__'"
     ]
    }
   ],
   "source": [
    "s1.__cal__()"
   ]
  },
  {
   "cell_type": "code",
   "execution_count": 202,
   "id": "a55c2576",
   "metadata": {},
   "outputs": [],
   "source": [
    "def check_name(method):\n",
    "    \n",
    "    def inner(ref):\n",
    "        name = method(ref)\n",
    "        if name != \"Mubeen\":\n",
    "            return f\"Sorry {name} You are not a member\"\n",
    "        \n",
    "        return f\"Welcome {name}\"\n",
    "    \n",
    "    return inner"
   ]
  },
  {
   "cell_type": "code",
   "execution_count": 203,
   "id": "998067ca",
   "metadata": {},
   "outputs": [],
   "source": [
    "class Student:\n",
    "    \n",
    "    def __init__(self,name):\n",
    "        self.name = name\n",
    "    \n",
    "    @check_name\n",
    "    def __call__(self):\n",
    "        return self.name\n",
    "        \n"
   ]
  },
  {
   "cell_type": "code",
   "execution_count": 204,
   "id": "134406ac",
   "metadata": {},
   "outputs": [],
   "source": [
    "s1 = Student(\"Mubeen\")\n",
    "s2 = Student(\"Anon\")\n"
   ]
  },
  {
   "cell_type": "code",
   "execution_count": 205,
   "id": "f28464d1",
   "metadata": {},
   "outputs": [
    {
     "data": {
      "text/plain": [
       "'Welcome Mubeen'"
      ]
     },
     "execution_count": 205,
     "metadata": {},
     "output_type": "execute_result"
    }
   ],
   "source": [
    "s1.__call__()"
   ]
  }
 ],
 "metadata": {
  "kernelspec": {
   "display_name": "Python 3 (ipykernel)",
   "language": "python",
   "name": "python3"
  },
  "language_info": {
   "codemirror_mode": {
    "name": "ipython",
    "version": 3
   },
   "file_extension": ".py",
   "mimetype": "text/x-python",
   "name": "python",
   "nbconvert_exporter": "python",
   "pygments_lexer": "ipython3",
   "version": "3.10.6"
  }
 },
 "nbformat": 4,
 "nbformat_minor": 5
}

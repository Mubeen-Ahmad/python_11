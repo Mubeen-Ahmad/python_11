{
 "cells": [
  {
   "cell_type": "markdown",
   "id": "3609cda4",
   "metadata": {},
   "source": [
    "# KeyPoints\n",
    "<br>\n",
    "\n",
    "<h3 style=\"color:#4e2abd;\">\n",
    "• What is Methods <br>\n",
    ". Functions V/S Methods <br>\n",
    ". Methods V/S Constructor<br>\n",
    "</h3>"
   ]
  },
  {
   "cell_type": "markdown",
   "id": "18a7b554",
   "metadata": {},
   "source": [
    "# What is Methods\n",
    "<br>\n",
    "\n",
    "## A functions that are define in a class called Methods\n",
    "\n",
    "<br><br>"
   ]
  },
  {
   "cell_type": "code",
   "execution_count": 15,
   "id": "a746708f",
   "metadata": {},
   "outputs": [],
   "source": [
    "class Person:\n",
    "    \n",
    "    # constructor\n",
    "    def __init__(self,fname,lname):\n",
    "        self.fname = fname\n",
    "        self.lname = lname\n",
    "    \n",
    "    # method\n",
    "    def get_full_name(self):\n",
    "        return self.fname+\" \"+self.lname\n"
   ]
  },
  {
   "cell_type": "code",
   "execution_count": 16,
   "id": "5a6395c8",
   "metadata": {},
   "outputs": [],
   "source": [
    "P1 = Person(\"Mubeen\",\"Ahmad\")"
   ]
  },
  {
   "cell_type": "code",
   "execution_count": 17,
   "id": "649e3fb6",
   "metadata": {},
   "outputs": [
    {
     "name": "stdout",
     "output_type": "stream",
     "text": [
      "Mubeen\n",
      "Ahmad\n"
     ]
    }
   ],
   "source": [
    "print(P1.fname)\n",
    "print(P1.lname)"
   ]
  },
  {
   "cell_type": "code",
   "execution_count": 18,
   "id": "0c2c07c8",
   "metadata": {},
   "outputs": [
    {
     "data": {
      "text/plain": [
       "'Mubeen Ahmad'"
      ]
     },
     "execution_count": 18,
     "metadata": {},
     "output_type": "execute_result"
    }
   ],
   "source": [
    "P1.get_full_name()"
   ]
  },
  {
   "cell_type": "markdown",
   "id": "b13f515d",
   "metadata": {},
   "source": [
    "## understand Methods"
   ]
  },
  {
   "cell_type": "code",
   "execution_count": 19,
   "id": "15a99566",
   "metadata": {},
   "outputs": [
    {
     "data": {
      "text/plain": [
       "'HELLO'"
      ]
     },
     "execution_count": 19,
     "metadata": {},
     "output_type": "execute_result"
    }
   ],
   "source": [
    "s = \"hello\"\n",
    "s.upper()\n",
    "\n",
    "# here s is the str object \n",
    "# and .upper is the function that are defined in the class called method"
   ]
  },
  {
   "cell_type": "code",
   "execution_count": 20,
   "id": "c18f2789",
   "metadata": {},
   "outputs": [],
   "source": [
    "l = [1,2,3]\n",
    "l.append(4)\n",
    "\n",
    "# here l is the list object \n",
    "# and .append is the function that are defined in the class called method"
   ]
  },
  {
   "cell_type": "markdown",
   "id": "3b86712b",
   "metadata": {},
   "source": [
    "## same as create own Methods"
   ]
  },
  {
   "cell_type": "code",
   "execution_count": 31,
   "id": "611ee221",
   "metadata": {},
   "outputs": [],
   "source": [
    "class Data_Type:\n",
    "    \n",
    "    def __init__(self,*values):\n",
    "        self.values = list(values)\n",
    "        \n",
    "    def convert_to_tuple(self):\n",
    "        return tuple(self.values)\n",
    "        "
   ]
  },
  {
   "cell_type": "code",
   "execution_count": 32,
   "id": "db904b0d",
   "metadata": {},
   "outputs": [],
   "source": [
    "mubeen_ki_list = Data_Type(1,2,3)"
   ]
  },
  {
   "cell_type": "code",
   "execution_count": 33,
   "id": "89661ded",
   "metadata": {},
   "outputs": [
    {
     "data": {
      "text/plain": [
       "[1, 2, 3]"
      ]
     },
     "execution_count": 33,
     "metadata": {},
     "output_type": "execute_result"
    }
   ],
   "source": [
    "mubeen_ki_list.values"
   ]
  },
  {
   "cell_type": "code",
   "execution_count": 37,
   "id": "238c36b8",
   "metadata": {},
   "outputs": [
    {
     "data": {
      "text/plain": [
       "[1, 2, 3]"
      ]
     },
     "execution_count": 37,
     "metadata": {},
     "output_type": "execute_result"
    }
   ],
   "source": [
    "mubeen_ki_list.values"
   ]
  },
  {
   "cell_type": "code",
   "execution_count": 39,
   "id": "3089bd55",
   "metadata": {},
   "outputs": [
    {
     "data": {
      "text/plain": [
       "(1, 2, 3)"
      ]
     },
     "execution_count": 39,
     "metadata": {},
     "output_type": "execute_result"
    }
   ],
   "source": [
    "mubeen_ki_list.convert_to_tuple()"
   ]
  },
  {
   "cell_type": "markdown",
   "id": "f50f7d67",
   "metadata": {},
   "source": [
    "# Difference in Methods and Functions"
   ]
  },
  {
   "cell_type": "markdown",
   "id": "41d39518",
   "metadata": {},
   "source": [
    "<table>\n",
    "    \n",
    "<td style=\"color:#5d2ade; font-size:30px;   text-align: center;\">Methods</td>\n",
    "      \n",
    "<td style=\"color:#d96518; font-size:30px;   text-align: center;\">Functions</td>\n",
    "  \n",
    "</tr>\n",
    " <tr>\n",
    "\n",
    "<td style=\"color:#5d2ade; font-size:20px;\"><p>A method lives in a class.</p></td>\n",
    "      \n",
    "<td style=\"color:#d96518; font-size:20px;\"><p>A function lives outside classes.</p></td>\n",
    "  \n",
    "</tr>\n",
    " <tr>\n",
    "\n",
    "<td style=\"color:#5d2ade; font-size:20px;\"><p>A method is associated with a class object.<p>\n",
    "</td>\n",
    "      \n",
    "<td style=\"color:#d96518; font-size:20px;\"><p>A function is not associated with any objects.</p></td>\n",
    "</tr>\n",
    "\n",
    "<tr>\n",
    "\n",
    "<td style=\"color:#5d2ade; font-size:20px;\"><p>You can only call a method on an object.<br>Calling a method by its name only is not possible.<p>\n",
    "</td>\n",
    "      \n",
    "<td style=\"color:#d96518; font-size:20px;\"><p>You can call a function by only using its name.</p>\n",
    "    \n",
    "</td></tr>\n",
    "<tr>\n",
    "    <td style=\"color:#5d2ade; font-size:20px;\"><p>A method operates on the data of the object it belongs to.<p>\n",
    "</td>\n",
    "      \n",
    "<td style=\"color:#d96518; font-size:20px;\"><p>A function operates on the data you give it as an argument.</p></td>\n",
    "\n",
    "</tr>\n",
    "\n",
    "<tr>\n",
    "<td style=\"color:#5d2ade; font-size:20px;\"><p>A method is dependent on the object it belongs to.<p>\n",
    "</td>\n",
    "      \n",
    "<td style=\"color:#d96518; font-size:20px;\"><p>A function is an independent block of code in the program.</p></td>\n",
    "\n",
    "</tr>\n",
    "\n",
    " <tr>\n",
    "<td style=\"color:#5d2ade; font-size:20px;\"><p>A method always requires ‘self‘ as the first argument.<p>\n",
    "</td>\n",
    "      \n",
    "<td style=\"color:#d96518; font-size:20px;\"><p>A function doesn’t take ‘self‘ as an argument.</p></td>\n",
    "\n",
    "</tr>\n",
    "\n",
    " <tr>\n",
    "<td style=\"color:#5d2ade; font-size:20px;\"><p>Set of instructions that perform a task.<p>\n",
    "</td>\n",
    "      \n",
    "<td style=\"color:#d96518; font-size:20px;\"><p> set of instructions that are associated with an object.</p></td>\n",
    "\n",
    "</tr>\n",
    "\n",
    "</table>\n"
   ]
  },
  {
   "cell_type": "markdown",
   "id": "a2f7b862",
   "metadata": {},
   "source": [
    "# Examples"
   ]
  },
  {
   "cell_type": "code",
   "execution_count": 44,
   "id": "9d8a203a",
   "metadata": {},
   "outputs": [],
   "source": [
    "# method\n",
    "\n",
    "class Person:\n",
    "    \n",
    "    def welcome(self,name):\n",
    "        \n",
    "        return f\"Welcome {name}\""
   ]
  },
  {
   "cell_type": "code",
   "execution_count": 45,
   "id": "f671a97c",
   "metadata": {},
   "outputs": [
    {
     "data": {
      "text/plain": [
       "'Welcome Mubeen'"
      ]
     },
     "execution_count": 45,
     "metadata": {},
     "output_type": "execute_result"
    }
   ],
   "source": [
    "p1 = Person()\n",
    "p1.welcome(\"Mubeen\")"
   ]
  },
  {
   "cell_type": "code",
   "execution_count": 47,
   "id": "939ac74a",
   "metadata": {},
   "outputs": [],
   "source": [
    "# function\n",
    "\n",
    "def welcome(name):\n",
    "    return f\"Welcome {name}\""
   ]
  },
  {
   "cell_type": "code",
   "execution_count": 48,
   "id": "0738ba6e",
   "metadata": {},
   "outputs": [
    {
     "data": {
      "text/plain": [
       "'Welcome Mubeen'"
      ]
     },
     "execution_count": 48,
     "metadata": {},
     "output_type": "execute_result"
    }
   ],
   "source": [
    "welcome(\"Mubeen\")"
   ]
  },
  {
   "cell_type": "markdown",
   "id": "f4e091d3",
   "metadata": {},
   "source": [
    "# Constructor VS Methods"
   ]
  },
  {
   "cell_type": "markdown",
   "id": "eafb1d1a",
   "metadata": {},
   "source": [
    "## Method\n",
    "\n",
    "## Whose Method that are call by a user(programmer) called Method"
   ]
  },
  {
   "cell_type": "code",
   "execution_count": 49,
   "id": "e45e63f3",
   "metadata": {},
   "outputs": [],
   "source": [
    "class Person:\n",
    "    \n",
    "    # simple method\n",
    "    def name(self,name):\n",
    "        return name"
   ]
  },
  {
   "cell_type": "code",
   "execution_count": 51,
   "id": "ea19d8f7",
   "metadata": {},
   "outputs": [
    {
     "data": {
      "text/plain": [
       "'Mubeen'"
      ]
     },
     "execution_count": 51,
     "metadata": {},
     "output_type": "execute_result"
    }
   ],
   "source": [
    "p1 = Person()\n",
    "p1.name(\"Mubeen\")"
   ]
  },
  {
   "cell_type": "markdown",
   "id": "61195b93",
   "metadata": {},
   "source": [
    "## Constructor is a Special Method that are call itself When the object are created"
   ]
  },
  {
   "cell_type": "code",
   "execution_count": 52,
   "id": "508ffc41",
   "metadata": {},
   "outputs": [],
   "source": [
    "class Person:\n",
    "    \n",
    "    # simple method\n",
    "    def __init__(self,name):\n",
    "        self.name = name"
   ]
  },
  {
   "cell_type": "code",
   "execution_count": 56,
   "id": "76a549a8",
   "metadata": {},
   "outputs": [
    {
     "data": {
      "text/plain": [
       "'Mubeen'"
      ]
     },
     "execution_count": 56,
     "metadata": {},
     "output_type": "execute_result"
    }
   ],
   "source": [
    "p1 = Person(\"Mubeen\")\n",
    "p1.name"
   ]
  }
 ],
 "metadata": {
  "kernelspec": {
   "display_name": "Python 3 (ipykernel)",
   "language": "python",
   "name": "python3"
  },
  "language_info": {
   "codemirror_mode": {
    "name": "ipython",
    "version": 3
   },
   "file_extension": ".py",
   "mimetype": "text/x-python",
   "name": "python",
   "nbconvert_exporter": "python",
   "pygments_lexer": "ipython3",
   "version": "3.10.6"
  }
 },
 "nbformat": 4,
 "nbformat_minor": 5
}

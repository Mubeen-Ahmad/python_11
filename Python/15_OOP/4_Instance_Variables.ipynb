{
 "cells": [
  {
   "cell_type": "markdown",
   "id": "40de6664",
   "metadata": {},
   "source": [
    "# Instance Variable\n",
    "\n",
    "<br>\n",
    "\n",
    "<img src=\"../../images/attr.jpg\" style=\"display: block;\n",
    "  margin-left: auto;\n",
    "  margin-right: auto;\n",
    "  width: 50%;\n",
    "  border-radius:20px 20px 20px 20px;\n",
    "  \">"
   ]
  },
  {
   "cell_type": "markdown",
   "id": "df64c13b",
   "metadata": {},
   "source": [
    "# KeyPoints\n",
    "<br>\n",
    "\n",
    "<h3 style=\"color:#4e2abd;\">\n",
    "• What is Instance Variable<br>\n",
    ". Single instance variable with multiple objects <br>\n",
    ". Store class variable value inside instance variable <br>\n",
    ". Modify Class Variables <br>\n",
    ". What happend if class variable and Instance variable are same<br>\n",
    ". Self.Variable VS Instance Variable inside constructor<br>\n",
    ". print all class variables, all instance variables and Methods\n",
    "</h3>"
   ]
  },
  {
   "cell_type": "markdown",
   "id": "bbf3a125",
   "metadata": {},
   "source": [
    "<h3 style=\"color:#4e2abd;\">A variable that are defined in the constructor and Method called Instance Variables</h3>"
   ]
  },
  {
   "cell_type": "code",
   "execution_count": 13,
   "id": "2d323aa6",
   "metadata": {},
   "outputs": [],
   "source": [
    "class Person:\n",
    "    \n",
    "    # class variable\n",
    "    ID = 404\n",
    "    \n",
    "    # method\n",
    "    def get_name(self,name):\n",
    "        self.name = name\n",
    "        return name\n"
   ]
  },
  {
   "cell_type": "code",
   "execution_count": 14,
   "id": "ae845aa9",
   "metadata": {},
   "outputs": [],
   "source": [
    "obj1 = Person()"
   ]
  },
  {
   "cell_type": "code",
   "execution_count": 15,
   "id": "f1879a19",
   "metadata": {},
   "outputs": [
    {
     "data": {
      "text/plain": [
       "'Mubeen'"
      ]
     },
     "execution_count": 15,
     "metadata": {},
     "output_type": "execute_result"
    }
   ],
   "source": [
    "obj1.get_name(\"Mubeen\")"
   ]
  },
  {
   "cell_type": "markdown",
   "id": "336ecf8b",
   "metadata": {},
   "source": [
    "# Example 2 with constructor"
   ]
  },
  {
   "cell_type": "code",
   "execution_count": 20,
   "id": "f6ebadc7",
   "metadata": {},
   "outputs": [],
   "source": [
    "class Person:\n",
    "    \n",
    "    # class variable\n",
    "    ID = 404\n",
    "    \n",
    "    # constructor \n",
    "    def __new__(self,name):\n",
    "        \n",
    "        # instance variable \n",
    "        self.name = name\n",
    "        return name\n"
   ]
  },
  {
   "cell_type": "code",
   "execution_count": 28,
   "id": "9778686a",
   "metadata": {},
   "outputs": [],
   "source": [
    "obj1 = Person(\"Mubeen\")"
   ]
  },
  {
   "cell_type": "code",
   "execution_count": 29,
   "id": "5b967332",
   "metadata": {},
   "outputs": [
    {
     "data": {
      "text/plain": [
       "'Mubeen'"
      ]
     },
     "execution_count": 29,
     "metadata": {},
     "output_type": "execute_result"
    }
   ],
   "source": [
    "obj1"
   ]
  },
  {
   "cell_type": "markdown",
   "id": "0b3b1d4e",
   "metadata": {},
   "source": [
    "# Example 3 with init constructor"
   ]
  },
  {
   "cell_type": "code",
   "execution_count": 30,
   "id": "7eda15bf",
   "metadata": {},
   "outputs": [],
   "source": [
    "class Person:\n",
    "    \n",
    "    # class variable\n",
    "    ID = 404\n",
    "    \n",
    "    # constructor \n",
    "    def __init__(self,name):\n",
    "        \n",
    "        # instance variable \n",
    "        self.name = name\n",
    "        "
   ]
  },
  {
   "cell_type": "code",
   "execution_count": 31,
   "id": "a0f21d02",
   "metadata": {},
   "outputs": [],
   "source": [
    "obj1 = Person(\"Mubeen\")"
   ]
  },
  {
   "cell_type": "code",
   "execution_count": 32,
   "id": "ee4cc1ce",
   "metadata": {},
   "outputs": [
    {
     "data": {
      "text/plain": [
       "<__main__.Person at 0x7f436413b880>"
      ]
     },
     "execution_count": 32,
     "metadata": {},
     "output_type": "execute_result"
    }
   ],
   "source": [
    "obj1"
   ]
  },
  {
   "cell_type": "code",
   "execution_count": 33,
   "id": "ed19e8e7",
   "metadata": {},
   "outputs": [
    {
     "data": {
      "text/plain": [
       "'Mubeen'"
      ]
     },
     "execution_count": 33,
     "metadata": {},
     "output_type": "execute_result"
    }
   ],
   "source": [
    "# now access name with init method\n",
    "obj1.name"
   ]
  },
  {
   "cell_type": "markdown",
   "id": "9b052064",
   "metadata": {},
   "source": [
    "# Note Every Object have its own copy they not share it"
   ]
  },
  {
   "cell_type": "code",
   "execution_count": 37,
   "id": "0076e22b",
   "metadata": {},
   "outputs": [],
   "source": [
    "class Person:\n",
    "    \n",
    "    def __init__(self,name):\n",
    "        self.name = name"
   ]
  },
  {
   "cell_type": "code",
   "execution_count": 39,
   "id": "d65ab4a7",
   "metadata": {},
   "outputs": [],
   "source": [
    "# both object are differnt\n",
    "p1 = Person(\"Mubeen\")\n",
    "p2 = Person(\"Anony\")"
   ]
  },
  {
   "cell_type": "code",
   "execution_count": 40,
   "id": "6cb6d25d",
   "metadata": {},
   "outputs": [
    {
     "name": "stdout",
     "output_type": "stream",
     "text": [
      "Mubeen\n",
      "Anony\n"
     ]
    }
   ],
   "source": [
    "print(p1.name)\n",
    "print(p2.name)"
   ]
  },
  {
   "cell_type": "markdown",
   "id": "5a4f213f",
   "metadata": {},
   "source": [
    "# Add class variable value inside instance variable"
   ]
  },
  {
   "cell_type": "code",
   "execution_count": 43,
   "id": "fc084aac",
   "metadata": {},
   "outputs": [],
   "source": [
    "class Person:\n",
    "    \n",
    "    # class variable\n",
    "    ID = 404\n",
    "    \n",
    "    # constructor\n",
    "    def __init__(self):\n",
    "        \n",
    "        # instance variable (store class variable values)\n",
    "        self.number = ID"
   ]
  },
  {
   "cell_type": "code",
   "execution_count": 45,
   "id": "adaf87c6",
   "metadata": {},
   "outputs": [
    {
     "ename": "NameError",
     "evalue": "name 'ID' is not defined",
     "output_type": "error",
     "traceback": [
      "\u001b[0;31m---------------------------------------------------------------------------\u001b[0m",
      "\u001b[0;31mNameError\u001b[0m                                 Traceback (most recent call last)",
      "Cell \u001b[0;32mIn [45], line 1\u001b[0m\n\u001b[0;32m----> 1\u001b[0m obj1 \u001b[38;5;241m=\u001b[39m \u001b[43mPerson\u001b[49m\u001b[43m(\u001b[49m\u001b[43m)\u001b[49m\n",
      "Cell \u001b[0;32mIn [43], line 10\u001b[0m, in \u001b[0;36mPerson.__init__\u001b[0;34m(self)\u001b[0m\n\u001b[1;32m      7\u001b[0m \u001b[38;5;28;01mdef\u001b[39;00m \u001b[38;5;21m__init__\u001b[39m(\u001b[38;5;28mself\u001b[39m):\n\u001b[1;32m      8\u001b[0m     \n\u001b[1;32m      9\u001b[0m     \u001b[38;5;66;03m# instance variable (store class variable values)\u001b[39;00m\n\u001b[0;32m---> 10\u001b[0m     \u001b[38;5;28mself\u001b[39m\u001b[38;5;241m.\u001b[39mnumber \u001b[38;5;241m=\u001b[39m \u001b[43mID\u001b[49m\n",
      "\u001b[0;31mNameError\u001b[0m: name 'ID' is not defined"
     ]
    }
   ],
   "source": [
    "obj1 = Person()"
   ]
  },
  {
   "cell_type": "markdown",
   "id": "fc5f06e7",
   "metadata": {},
   "source": [
    "## use self to access class variable"
   ]
  },
  {
   "cell_type": "code",
   "execution_count": 49,
   "id": "ea586c71",
   "metadata": {},
   "outputs": [],
   "source": [
    "class Person:\n",
    "    \n",
    "    # class variable\n",
    "    ID = 404\n",
    "    \n",
    "    # constructor\n",
    "    def __init__(self):\n",
    "        \n",
    "        # instance variable (store class variable values)\n",
    "        self.number = self.ID"
   ]
  },
  {
   "cell_type": "code",
   "execution_count": 51,
   "id": "0736e9e2",
   "metadata": {},
   "outputs": [
    {
     "data": {
      "text/plain": [
       "404"
      ]
     },
     "execution_count": 51,
     "metadata": {},
     "output_type": "execute_result"
    }
   ],
   "source": [
    "obj1 = Person()\n",
    "obj1.ID"
   ]
  },
  {
   "cell_type": "markdown",
   "id": "b6ff8d39",
   "metadata": {},
   "source": [
    "# Modify Instance Variables"
   ]
  },
  {
   "cell_type": "code",
   "execution_count": 52,
   "id": "c871ee4d",
   "metadata": {},
   "outputs": [],
   "source": [
    "class IPHONE:\n",
    "    \n",
    "    def __init__(self,price):\n",
    "        self.price = price"
   ]
  },
  {
   "cell_type": "code",
   "execution_count": 55,
   "id": "fea9cb40",
   "metadata": {},
   "outputs": [],
   "source": [
    "IP = IPHONE(120000)"
   ]
  },
  {
   "cell_type": "code",
   "execution_count": 56,
   "id": "05e71ed0",
   "metadata": {},
   "outputs": [
    {
     "data": {
      "text/plain": [
       "120000"
      ]
     },
     "execution_count": 56,
     "metadata": {},
     "output_type": "execute_result"
    }
   ],
   "source": [
    "IP.price"
   ]
  },
  {
   "cell_type": "code",
   "execution_count": 57,
   "id": "61ef68de",
   "metadata": {},
   "outputs": [],
   "source": [
    "# change price\n",
    "IP.price = 100000"
   ]
  },
  {
   "cell_type": "code",
   "execution_count": 58,
   "id": "2fd0d5f8",
   "metadata": {},
   "outputs": [
    {
     "data": {
      "text/plain": [
       "100000"
      ]
     },
     "execution_count": 58,
     "metadata": {},
     "output_type": "execute_result"
    }
   ],
   "source": [
    "IP.price"
   ]
  },
  {
   "cell_type": "markdown",
   "id": "a83aee71",
   "metadata": {},
   "source": [
    "# what happend if class and instance variable are same ?"
   ]
  },
  {
   "cell_type": "code",
   "execution_count": 117,
   "id": "423a9f0e",
   "metadata": {},
   "outputs": [],
   "source": [
    "class Test:\n",
    "    x = 10\n",
    "    \n",
    "    def inst(self):\n",
    "        self.x = 12"
   ]
  },
  {
   "cell_type": "code",
   "execution_count": 118,
   "id": "fe38db3b",
   "metadata": {},
   "outputs": [],
   "source": [
    "obj = Test()\n",
    "\n",
    "#  class variable x = 10\n",
    "# instance variable x = 12"
   ]
  },
  {
   "cell_type": "code",
   "execution_count": 121,
   "id": "c0b19eab",
   "metadata": {},
   "outputs": [
    {
     "data": {
      "text/plain": [
       "10"
      ]
     },
     "execution_count": 121,
     "metadata": {},
     "output_type": "execute_result"
    }
   ],
   "source": [
    "obj.x\n",
    "# x = 10 because i can't call the inst method"
   ]
  },
  {
   "cell_type": "code",
   "execution_count": 122,
   "id": "0f716b5d",
   "metadata": {},
   "outputs": [],
   "source": [
    "# call inst method\n",
    "obj.inst()\n",
    "# now x is 12"
   ]
  },
  {
   "cell_type": "code",
   "execution_count": 123,
   "id": "29ed8e20",
   "metadata": {},
   "outputs": [
    {
     "data": {
      "text/plain": [
       "12"
      ]
     },
     "execution_count": 123,
     "metadata": {},
     "output_type": "execute_result"
    }
   ],
   "source": [
    "obj.x"
   ]
  },
  {
   "cell_type": "code",
   "execution_count": 124,
   "id": "846c3dee",
   "metadata": {},
   "outputs": [
    {
     "data": {
      "text/plain": [
       "10"
      ]
     },
     "execution_count": 124,
     "metadata": {},
     "output_type": "execute_result"
    }
   ],
   "source": [
    "# but Class Variable are not Change\n",
    "\n",
    "Test.x"
   ]
  },
  {
   "cell_type": "markdown",
   "id": "2f8f5fd5",
   "metadata": {},
   "source": [
    "## Self variable VS instance variable "
   ]
  },
  {
   "cell_type": "code",
   "execution_count": 125,
   "id": "66510a4a",
   "metadata": {},
   "outputs": [],
   "source": [
    "class Person:\n",
    "    \n",
    "    # class variable\n",
    "    x = 3\n",
    "    \n",
    "    def __init__(self):\n",
    "        \n",
    "        # instance var\n",
    "        x = 2\n",
    "        print(self.x,x)"
   ]
  },
  {
   "cell_type": "code",
   "execution_count": 127,
   "id": "72e02d09",
   "metadata": {},
   "outputs": [
    {
     "name": "stdout",
     "output_type": "stream",
     "text": [
      "3 2\n"
     ]
    }
   ],
   "source": [
    "# inside __init__ constructor\n",
    "# self.x access class varialbe\n",
    "# and x access instance variable\n",
    "p1 = Person()"
   ]
  },
  {
   "cell_type": "markdown",
   "id": "eeda26df",
   "metadata": {},
   "source": [
    "## Print all Class Variable and Instance Variable and Methods"
   ]
  },
  {
   "cell_type": "code",
   "execution_count": 128,
   "id": "2c5e4464",
   "metadata": {},
   "outputs": [],
   "source": [
    "class Person:\n",
    "    \n",
    "    # class variable\n",
    "    x = 3\n",
    "    \n",
    "    def __init__(self):\n",
    "        # instance var\n",
    "        self.x = 99\n",
    "        \n",
    "    def value(self):\n",
    "        print(self.x)"
   ]
  },
  {
   "cell_type": "code",
   "execution_count": 129,
   "id": "f9464a07",
   "metadata": {},
   "outputs": [],
   "source": [
    "p1 = Person()"
   ]
  },
  {
   "cell_type": "code",
   "execution_count": 131,
   "id": "e6852817",
   "metadata": {},
   "outputs": [
    {
     "name": "stdout",
     "output_type": "stream",
     "text": [
      "{'__module__': '__main__', 'x': 3, '__init__': <function Person.__init__ at 0x7f434c9bc4c0>, 'value': <function Person.value at 0x7f434c9bc670>, '__dict__': <attribute '__dict__' of 'Person' objects>, '__weakref__': <attribute '__weakref__' of 'Person' objects>, '__doc__': None}\n"
     ]
    }
   ],
   "source": [
    "# Check Class dictionary\n",
    "print(Person.__dict__)"
   ]
  },
  {
   "cell_type": "code",
   "execution_count": 132,
   "id": "84509303",
   "metadata": {},
   "outputs": [
    {
     "name": "stdout",
     "output_type": "stream",
     "text": [
      "{'x': 99}\n"
     ]
    }
   ],
   "source": [
    "# Check Object Dictionary\n",
    "print(p1.__dict__)"
   ]
  },
  {
   "cell_type": "markdown",
   "id": "cd56d972",
   "metadata": {},
   "source": [
    "# Create Instance Variable Outside class"
   ]
  },
  {
   "cell_type": "code",
   "execution_count": 17,
   "id": "5d1eb51a",
   "metadata": {},
   "outputs": [],
   "source": [
    "class Person:\n",
    "    \n",
    "    def __init__(self):\n",
    "        pass"
   ]
  },
  {
   "cell_type": "markdown",
   "id": "c710d27c",
   "metadata": {},
   "source": [
    "## We can't Directly create instance variable outside class. We need the methods than we replaced the class"
   ]
  },
  {
   "cell_type": "code",
   "execution_count": 18,
   "id": "9e58da1a",
   "metadata": {},
   "outputs": [],
   "source": [
    "import types"
   ]
  },
  {
   "cell_type": "code",
   "execution_count": 19,
   "id": "c2f01915",
   "metadata": {},
   "outputs": [],
   "source": [
    "def __init__(self,name):\n",
    "    self.name = name"
   ]
  },
  {
   "cell_type": "code",
   "execution_count": 21,
   "id": "a7a7ee6d",
   "metadata": {},
   "outputs": [],
   "source": [
    "Person = types.MethodType(__init__,Person)"
   ]
  },
  {
   "cell_type": "markdown",
   "id": "cea0fb96",
   "metadata": {},
   "source": [
    "## Now Person replace to old class"
   ]
  },
  {
   "cell_type": "code",
   "execution_count": 26,
   "id": "9d848e41",
   "metadata": {},
   "outputs": [],
   "source": [
    "obj = Person(\"Mubeen\")"
   ]
  },
  {
   "cell_type": "code",
   "execution_count": 33,
   "id": "72c9c8c8",
   "metadata": {},
   "outputs": [
    {
     "ename": "AttributeError",
     "evalue": "'NoneType' object has no attribute '__dict__'",
     "output_type": "error",
     "traceback": [
      "\u001b[0;31m---------------------------------------------------------------------------\u001b[0m",
      "\u001b[0;31mAttributeError\u001b[0m                            Traceback (most recent call last)",
      "Cell \u001b[0;32mIn [33], line 1\u001b[0m\n\u001b[0;32m----> 1\u001b[0m \u001b[43mPerson\u001b[49m\u001b[43m(\u001b[49m\u001b[38;5;124;43m\"\u001b[39;49m\u001b[38;5;124;43mn\u001b[39;49m\u001b[38;5;124;43m\"\u001b[39;49m\u001b[43m)\u001b[49m\u001b[38;5;241;43m.\u001b[39;49m\u001b[38;5;18;43m__dict__\u001b[39;49m\n",
      "\u001b[0;31mAttributeError\u001b[0m: 'NoneType' object has no attribute '__dict__'"
     ]
    }
   ],
   "source": [
    "Person(\"n\").__dict__"
   ]
  }
 ],
 "metadata": {
  "kernelspec": {
   "display_name": "Python 3 (ipykernel)",
   "language": "python",
   "name": "python3"
  },
  "language_info": {
   "codemirror_mode": {
    "name": "ipython",
    "version": 3
   },
   "file_extension": ".py",
   "mimetype": "text/x-python",
   "name": "python",
   "nbconvert_exporter": "python",
   "pygments_lexer": "ipython3",
   "version": "3.10.6"
  }
 },
 "nbformat": 4,
 "nbformat_minor": 5
}

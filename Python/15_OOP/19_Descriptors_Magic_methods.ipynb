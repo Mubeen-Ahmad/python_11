{
 "cells": [
  {
   "cell_type": "markdown",
   "id": "0fbcf0af",
   "metadata": {},
   "source": [
    "# Descriptors\n",
    "<br>\n",
    "\n",
    "## Descriptors are Python objects that implement a method of the descriptor protocol, which gives you the ability to create objects that have special behavior when they’re accessed as attributes of other objects. \n"
   ]
  },
  {
   "cell_type": "markdown",
   "id": "afc4b7d9",
   "metadata": {},
   "source": [
    "<h1> __get__ <br> </h1>\n",
    "<h3> Python __get__ Magic Method. Python's __get__() magic method defines the dynamic return value when accessing a specific instance and class attribute.<br><br> __get__ method take three Argument self, instance, owner </h3>\n"
   ]
  },
  {
   "cell_type": "markdown",
   "id": "2c58b254",
   "metadata": {},
   "source": [
    "# Note get method executed when we call the Dis class inside the other class "
   ]
  },
  {
   "cell_type": "code",
   "execution_count": 1,
   "id": "5d18233d",
   "metadata": {},
   "outputs": [
    {
     "name": "stdout",
     "output_type": "stream",
     "text": [
      "Inside Dis Class\n"
     ]
    },
    {
     "data": {
      "text/plain": [
       "<__main__.Dis at 0x7f39a936bee0>"
      ]
     },
     "execution_count": 1,
     "metadata": {},
     "output_type": "execute_result"
    }
   ],
   "source": [
    "class Dis:\n",
    "    print(\"Inside Dis Class\")\n",
    "    def __get__(self,instance,owner):\n",
    "        print(\"I am __get__ method\")\n",
    "        \n",
    "# __get__ method can't executed\n",
    "Dis()"
   ]
  },
  {
   "cell_type": "markdown",
   "id": "88ff616b",
   "metadata": {},
   "source": [
    "## Now Trying call Dis class inside the other class"
   ]
  },
  {
   "cell_type": "code",
   "execution_count": 3,
   "id": "3cfdaf2b",
   "metadata": {},
   "outputs": [],
   "source": [
    "class Temp:\n",
    "    x = Dis()\n"
   ]
  },
  {
   "cell_type": "code",
   "execution_count": 4,
   "id": "24417866",
   "metadata": {},
   "outputs": [
    {
     "name": "stdout",
     "output_type": "stream",
     "text": [
      "I am __get__ method\n"
     ]
    }
   ],
   "source": [
    "Temp().x"
   ]
  },
  {
   "cell_type": "markdown",
   "id": "b9bff041",
   "metadata": {},
   "source": [
    "# Diagram\n",
    "<br>\n",
    "\n",
    "<img src=\"../../images/get_dis.jpg\" style=\"display: block;margin-left: auto;margin-right: auto;\n",
    "  width: 70%; border-radius:0px 10px 10px 10px; height:700px;\">\n"
   ]
  },
  {
   "cell_type": "markdown",
   "id": "c65a2ab2",
   "metadata": {},
   "source": [
    "# Example 2"
   ]
  },
  {
   "cell_type": "code",
   "execution_count": 5,
   "id": "6452215b",
   "metadata": {},
   "outputs": [],
   "source": [
    "class Test:\n",
    "\n",
    "    def __get__(self, instance, owner):\n",
    "\n",
    "        print(owner.msg)\n",
    "        return data[instance.key]\n"
   ]
  },
  {
   "cell_type": "code",
   "execution_count": 6,
   "id": "6e6b2846",
   "metadata": {},
   "outputs": [],
   "source": [
    "data = {\"Name\":\"Mubeen\",\"Learning\":\"AI\"}"
   ]
  },
  {
   "cell_type": "code",
   "execution_count": 7,
   "id": "7df4f77e",
   "metadata": {},
   "outputs": [],
   "source": [
    "class Temp:\n",
    "\n",
    "    msg = \"I am class variable of Temp\"\n",
    "\n",
    "    var = Test()\n",
    "\n",
    "    def __init__(self,key):\n",
    "        self.key = key\n",
    "        print(\"Inside Temp class init Method\")\n",
    "        print(self.key)\n"
   ]
  },
  {
   "cell_type": "code",
   "execution_count": 8,
   "id": "829e82a0",
   "metadata": {},
   "outputs": [
    {
     "name": "stdout",
     "output_type": "stream",
     "text": [
      "Inside Temp class init Method\n",
      "Name\n",
      "<__main__.Temp object at 0x7f39a9368820>\n"
     ]
    }
   ],
   "source": [
    "obj = Temp(\"Name\")\n",
    "print(obj)"
   ]
  },
  {
   "cell_type": "code",
   "execution_count": 9,
   "id": "89fc3536",
   "metadata": {},
   "outputs": [
    {
     "name": "stdout",
     "output_type": "stream",
     "text": [
      "I am class variable of Temp\n",
      "Mubeen\n"
     ]
    }
   ],
   "source": [
    "print(obj.var)"
   ]
  },
  {
   "cell_type": "markdown",
   "id": "0344ab13",
   "metadata": {},
   "source": [
    "# Diagram\n",
    "<br>\n",
    "\n",
    "<img src=\"../../images/set_dis.jpg\" style=\"display: block;margin-left: auto;margin-right: auto;\n",
    "  width: 100%; border-radius:0px 10px 10px 10px; height:700px;\">\n"
   ]
  },
  {
   "cell_type": "markdown",
   "id": "fb2ee635",
   "metadata": {},
   "source": [
    "# Check all Attribute"
   ]
  },
  {
   "cell_type": "code",
   "execution_count": 12,
   "id": "1756bcc7",
   "metadata": {},
   "outputs": [
    {
     "data": {
      "text/plain": [
       "{'key': 'Name'}"
      ]
     },
     "execution_count": 12,
     "metadata": {},
     "output_type": "execute_result"
    }
   ],
   "source": [
    "obj.__dict__"
   ]
  },
  {
   "cell_type": "code",
   "execution_count": 16,
   "id": "030d07dc",
   "metadata": {},
   "outputs": [
    {
     "data": {
      "text/plain": [
       "mappingproxy({'__module__': '__main__',\n",
       "              'msg': 'I am class variable of Temp',\n",
       "              'var': <__main__.Test at 0x7f39a9369660>,\n",
       "              '__init__': <function __main__.Temp.__init__(self, key)>,\n",
       "              '__dict__': <attribute '__dict__' of 'Temp' objects>,\n",
       "              '__weakref__': <attribute '__weakref__' of 'Temp' objects>,\n",
       "              '__doc__': None})"
      ]
     },
     "execution_count": 16,
     "metadata": {},
     "output_type": "execute_result"
    }
   ],
   "source": [
    "Temp.__dict__"
   ]
  },
  {
   "cell_type": "markdown",
   "id": "3a798116",
   "metadata": {},
   "source": [
    "<h1> __set__ <br> </h1>\n",
    "<h3> The __set__ method is called whenever an attribute is assigned a value. <br><br>The method takes two arguments: the instance of the object being accessed, and the value being assigned to the attribute.</h3>\n"
   ]
  },
  {
   "cell_type": "markdown",
   "id": "b23c046f",
   "metadata": {},
   "source": [
    "# Note set method executed when we call the set method class inside the other class. same concept as get "
   ]
  },
  {
   "cell_type": "code",
   "execution_count": 18,
   "id": "3e5e5c07",
   "metadata": {},
   "outputs": [],
   "source": [
    "class Name:\n",
    "    def __set__(self, instance, value):\n",
    "        print(\"Call Set Method\")\n",
    "        self.value = value\n"
   ]
  },
  {
   "cell_type": "code",
   "execution_count": 19,
   "id": "631141e3",
   "metadata": {},
   "outputs": [],
   "source": [
    "class Person:\n",
    "    name = Name()"
   ]
  },
  {
   "cell_type": "code",
   "execution_count": 23,
   "id": "45cc4993",
   "metadata": {},
   "outputs": [
    {
     "name": "stdout",
     "output_type": "stream",
     "text": [
      "<__main__.Person object at 0x7f3990a236d0>\n"
     ]
    }
   ],
   "source": [
    "obj = Person()\n",
    "print(obj)"
   ]
  },
  {
   "cell_type": "markdown",
   "id": "2c284f68",
   "metadata": {},
   "source": [
    "## Trying to access name.value"
   ]
  },
  {
   "cell_type": "code",
   "execution_count": 25,
   "id": "ad3f45bb",
   "metadata": {},
   "outputs": [
    {
     "ename": "AttributeError",
     "evalue": "'Name' object has no attribute 'value'",
     "output_type": "error",
     "traceback": [
      "\u001b[0;31m---------------------------------------------------------------------------\u001b[0m",
      "\u001b[0;31mAttributeError\u001b[0m                            Traceback (most recent call last)",
      "Cell \u001b[0;32mIn [25], line 1\u001b[0m\n\u001b[0;32m----> 1\u001b[0m \u001b[38;5;28mprint\u001b[39m(\u001b[43mobj\u001b[49m\u001b[38;5;241;43m.\u001b[39;49m\u001b[43mname\u001b[49m\u001b[38;5;241;43m.\u001b[39;49m\u001b[43mvalue\u001b[49m)\n",
      "\u001b[0;31mAttributeError\u001b[0m: 'Name' object has no attribute 'value'"
     ]
    }
   ],
   "source": [
    "print(obj.name.value)"
   ]
  },
  {
   "cell_type": "markdown",
   "id": "d5c0fd7e",
   "metadata": {},
   "source": [
    "## Now When we are trying set Name value than set method call itself"
   ]
  },
  {
   "cell_type": "code",
   "execution_count": 26,
   "id": "de055d7c",
   "metadata": {},
   "outputs": [
    {
     "name": "stdout",
     "output_type": "stream",
     "text": [
      "Call Set Method\n"
     ]
    }
   ],
   "source": [
    "obj.name = \"Mubeen\""
   ]
  },
  {
   "cell_type": "markdown",
   "id": "5e31f679",
   "metadata": {},
   "source": [
    "## Now Again Trying to access name.value"
   ]
  },
  {
   "cell_type": "code",
   "execution_count": 27,
   "id": "a0c668bb",
   "metadata": {},
   "outputs": [
    {
     "name": "stdout",
     "output_type": "stream",
     "text": [
      "Mubeen\n"
     ]
    }
   ],
   "source": [
    "print(obj.name.value)"
   ]
  },
  {
   "cell_type": "markdown",
   "id": "d36c8f4c",
   "metadata": {},
   "source": [
    "<h1> __delete__ <br> </h1>\n",
    "<h3> The __delete__ method is called whenever an attribute is deleted using the del statement. <br><br>The method takes one argument: the instance of the object being accessed.</h3>\n"
   ]
  },
  {
   "cell_type": "markdown",
   "id": "3a6dc090",
   "metadata": {},
   "source": [
    "## Note delete are only executed when we are used in other class same like as set, get"
   ]
  },
  {
   "cell_type": "code",
   "execution_count": 42,
   "id": "be419497",
   "metadata": {},
   "outputs": [],
   "source": [
    "class Descriptor:\n",
    "    def __delete__(self, instance):\n",
    "        print(\"Inside deleter\")\n",
    "        print(instance.var) # instance.var = \"Mubeen\"\n",
    "        \n",
    "        # now trying to delete varaible\n",
    "        \n",
    "        # Note var is the class variable so I use instance.__class__.var \n",
    "        # instead of instance.var\n",
    "        del instance.__class__.var\n"
   ]
  },
  {
   "cell_type": "code",
   "execution_count": 43,
   "id": "36f19273",
   "metadata": {},
   "outputs": [],
   "source": [
    "class MyClass:\n",
    "    var = \"Mubeen\"\n",
    "    x = Descriptor()\n"
   ]
  },
  {
   "cell_type": "code",
   "execution_count": 44,
   "id": "8156978c",
   "metadata": {},
   "outputs": [],
   "source": [
    "obj = MyClass()"
   ]
  },
  {
   "cell_type": "code",
   "execution_count": 45,
   "id": "9e201aee",
   "metadata": {},
   "outputs": [
    {
     "name": "stdout",
     "output_type": "stream",
     "text": [
      "Mubeen\n"
     ]
    }
   ],
   "source": [
    "print(obj.var)"
   ]
  },
  {
   "cell_type": "markdown",
   "id": "691a996b",
   "metadata": {},
   "source": [
    "## Now When we are use del obj.x then del override to __delete__ method"
   ]
  },
  {
   "cell_type": "code",
   "execution_count": 46,
   "id": "cd41a2fa",
   "metadata": {},
   "outputs": [
    {
     "name": "stdout",
     "output_type": "stream",
     "text": [
      "Inside deleter\n",
      "Mubeen\n"
     ]
    }
   ],
   "source": [
    "del obj.x"
   ]
  },
  {
   "cell_type": "markdown",
   "id": "e1520985",
   "metadata": {},
   "source": [
    "## Now Check variable are exist or Not"
   ]
  },
  {
   "cell_type": "code",
   "execution_count": 94,
   "id": "64c5c9c3",
   "metadata": {},
   "outputs": [
    {
     "ename": "AttributeError",
     "evalue": "'MyClass' object has no attribute 'var'",
     "output_type": "error",
     "traceback": [
      "\u001b[0;31m---------------------------------------------------------------------------\u001b[0m",
      "\u001b[0;31mAttributeError\u001b[0m                            Traceback (most recent call last)",
      "Cell \u001b[0;32mIn [94], line 1\u001b[0m\n\u001b[0;32m----> 1\u001b[0m \u001b[38;5;28mprint\u001b[39m(\u001b[43mobj\u001b[49m\u001b[38;5;241;43m.\u001b[39;49m\u001b[43mvar\u001b[49m)\n",
      "\u001b[0;31mAttributeError\u001b[0m: 'MyClass' object has no attribute 'var'"
     ]
    }
   ],
   "source": [
    "print(obj.var)"
   ]
  }
 ],
 "metadata": {
  "kernelspec": {
   "display_name": "Python 3 (ipykernel)",
   "language": "python",
   "name": "python3"
  },
  "language_info": {
   "codemirror_mode": {
    "name": "ipython",
    "version": 3
   },
   "file_extension": ".py",
   "mimetype": "text/x-python",
   "name": "python",
   "nbconvert_exporter": "python",
   "pygments_lexer": "ipython3",
   "version": "3.10.6"
  }
 },
 "nbformat": 4,
 "nbformat_minor": 5
}

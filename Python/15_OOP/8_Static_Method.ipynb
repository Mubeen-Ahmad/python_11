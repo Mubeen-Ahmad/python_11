{
 "cells": [
  {
   "cell_type": "markdown",
   "id": "7c0850f2",
   "metadata": {},
   "source": [
    "### In Object-oriented programming, Inside a Class, we can define the following three types of methods.\n",
    "\n",
    "<br>\n",
    "\n",
    "<img src=\"../../images/mtd.jpg\" style=\" display: block;\n",
    "  margin-left: auto;\n",
    "  margin-right: auto;\n",
    "  width: 50%; border-radius:10px 10px 10px 10px;\">"
   ]
  },
  {
   "cell_type": "markdown",
   "id": "6b91275f",
   "metadata": {},
   "source": [
    "# KeyPoints\n",
    "<br>\n",
    "\n",
    "<h3 style=\"color:#4e2abd;\">\n",
    "    \n",
    "• What is Static method <br>\n",
    ". if can't pass argumetn Static Method raise Error ? <br>\n",
    ". static decoractor<br>\n",
    ". staticmethod bulit in Function<br>\n",
    ". use of Static Method <br>\n",
    ". Static VS class Method \n",
    "</h3>"
   ]
  },
  {
   "cell_type": "markdown",
   "id": "4f135dab",
   "metadata": {},
   "source": [
    "# Static Method"
   ]
  },
  {
   "cell_type": "markdown",
   "id": "fe3f42bd",
   "metadata": {},
   "source": [
    "<br>\n",
    "\n",
    "* ## Static methods are called static because they always return None.\n",
    "<br>\n",
    "\n",
    "* ## Static methods can be bound to either a class or an instance of a class.\n",
    " <br>\n",
    "   \n",
    "* ## Static methods serve mostly as utility methods or helper methods, since they can't access or modify a class's state.\n",
    "<br>\n",
    "\n",
    "* ## Static methods can access and modify the state of a class or an instance of a class.\n"
   ]
  },
  {
   "cell_type": "code",
   "execution_count": 10,
   "id": "385de437",
   "metadata": {},
   "outputs": [],
   "source": [
    "class Person:\n",
    "    \n",
    "    def show(name):\n",
    "        print(name)\n"
   ]
  },
  {
   "cell_type": "code",
   "execution_count": 11,
   "id": "0d4d8198",
   "metadata": {},
   "outputs": [],
   "source": [
    "p1 = Person()"
   ]
  },
  {
   "cell_type": "code",
   "execution_count": 12,
   "id": "06c2902c",
   "metadata": {},
   "outputs": [
    {
     "ename": "TypeError",
     "evalue": "Person.show() takes 1 positional argument but 2 were given",
     "output_type": "error",
     "traceback": [
      "\u001b[0;31m---------------------------------------------------------------------------\u001b[0m",
      "\u001b[0;31mTypeError\u001b[0m                                 Traceback (most recent call last)",
      "Cell \u001b[0;32mIn [12], line 1\u001b[0m\n\u001b[0;32m----> 1\u001b[0m \u001b[43mp1\u001b[49m\u001b[38;5;241;43m.\u001b[39;49m\u001b[43mshow\u001b[49m\u001b[43m(\u001b[49m\u001b[38;5;124;43m\"\u001b[39;49m\u001b[38;5;124;43mMubeen\u001b[39;49m\u001b[38;5;124;43m\"\u001b[39;49m\u001b[43m)\u001b[49m\n",
      "\u001b[0;31mTypeError\u001b[0m: Person.show() takes 1 positional argument but 2 were given"
     ]
    }
   ],
   "source": [
    "p1.show(\"Mubeen\")\n",
    "# here simple instance and class method take the argument "
   ]
  },
  {
   "cell_type": "markdown",
   "id": "dfe6c732",
   "metadata": {},
   "source": [
    "# use Static Method"
   ]
  },
  {
   "cell_type": "code",
   "execution_count": 13,
   "id": "0df3a608",
   "metadata": {},
   "outputs": [],
   "source": [
    "class Person:\n",
    "    \n",
    "    # staticmethod\n",
    "    @staticmethod\n",
    "    def show(name):\n",
    "        print(name)\n"
   ]
  },
  {
   "cell_type": "code",
   "execution_count": 15,
   "id": "32250390",
   "metadata": {},
   "outputs": [
    {
     "name": "stdout",
     "output_type": "stream",
     "text": [
      "Mubeen\n"
     ]
    }
   ],
   "source": [
    "p1 = Person()\n",
    "p1.show(\"Mubeen\")"
   ]
  },
  {
   "cell_type": "markdown",
   "id": "c63cf681",
   "metadata": {},
   "source": [
    "## Add Method outside the class"
   ]
  },
  {
   "cell_type": "code",
   "execution_count": 20,
   "id": "76a34578",
   "metadata": {},
   "outputs": [],
   "source": [
    "class Student:\n",
    "    \n",
    "    name = \"Mubeen\"\n",
    "    "
   ]
  },
  {
   "cell_type": "code",
   "execution_count": 31,
   "id": "a4cb9e4f",
   "metadata": {},
   "outputs": [],
   "source": [
    "def show(self):\n",
    "    return self.name    "
   ]
  },
  {
   "cell_type": "code",
   "execution_count": 32,
   "id": "5fec9480",
   "metadata": {},
   "outputs": [],
   "source": [
    "obj = Student()"
   ]
  },
  {
   "cell_type": "code",
   "execution_count": 34,
   "id": "4a2bfe42",
   "metadata": {},
   "outputs": [],
   "source": [
    "Student.st = staticmethod(show)"
   ]
  },
  {
   "cell_type": "code",
   "execution_count": 36,
   "id": "65fdf6d6",
   "metadata": {},
   "outputs": [
    {
     "ename": "TypeError",
     "evalue": "show() missing 1 required positional argument: 'self'",
     "output_type": "error",
     "traceback": [
      "\u001b[0;31m---------------------------------------------------------------------------\u001b[0m",
      "\u001b[0;31mTypeError\u001b[0m                                 Traceback (most recent call last)",
      "Cell \u001b[0;32mIn [36], line 1\u001b[0m\n\u001b[0;32m----> 1\u001b[0m \u001b[43mobj\u001b[49m\u001b[38;5;241;43m.\u001b[39;49m\u001b[43mst\u001b[49m\u001b[43m(\u001b[49m\u001b[43m)\u001b[49m\n",
      "\u001b[0;31mTypeError\u001b[0m: show() missing 1 required positional argument: 'self'"
     ]
    }
   ],
   "source": [
    "obj.st()"
   ]
  },
  {
   "cell_type": "markdown",
   "id": "b21cec95",
   "metadata": {},
   "source": [
    "## Note self and cls argument are not pass automatically in classmethod"
   ]
  },
  {
   "cell_type": "code",
   "execution_count": 40,
   "id": "808c1abe",
   "metadata": {},
   "outputs": [],
   "source": [
    "# pass class in var\n",
    "Student.st = staticmethod(show(Student))"
   ]
  },
  {
   "cell_type": "code",
   "execution_count": 39,
   "id": "f9448685",
   "metadata": {},
   "outputs": [
    {
     "data": {
      "text/plain": [
       "'Mubeen'"
      ]
     },
     "execution_count": 39,
     "metadata": {},
     "output_type": "execute_result"
    }
   ],
   "source": [
    "obj.st"
   ]
  },
  {
   "cell_type": "markdown",
   "id": "635c79d2",
   "metadata": {},
   "source": [
    "# Example 2"
   ]
  },
  {
   "cell_type": "code",
   "execution_count": 69,
   "id": "ee3b6d93",
   "metadata": {},
   "outputs": [],
   "source": [
    "class Test:\n",
    "    \n",
    "    value = 123"
   ]
  },
  {
   "cell_type": "code",
   "execution_count": 70,
   "id": "e0886dba",
   "metadata": {},
   "outputs": [],
   "source": [
    "obj = Test()"
   ]
  },
  {
   "cell_type": "code",
   "execution_count": 71,
   "id": "7183f9cb",
   "metadata": {},
   "outputs": [],
   "source": [
    "def show_value():\n",
    "    return Test.value"
   ]
  },
  {
   "cell_type": "code",
   "execution_count": 72,
   "id": "84e511ca",
   "metadata": {},
   "outputs": [],
   "source": [
    "Test.sh_value = staticmethod(Test)"
   ]
  },
  {
   "cell_type": "code",
   "execution_count": 73,
   "id": "de00262e",
   "metadata": {},
   "outputs": [
    {
     "data": {
      "text/plain": [
       "123"
      ]
     },
     "execution_count": 73,
     "metadata": {},
     "output_type": "execute_result"
    }
   ],
   "source": [
    "obj.sh_value().value"
   ]
  },
  {
   "cell_type": "markdown",
   "id": "0e9a7f7c",
   "metadata": {},
   "source": [
    "# Where to used Staticmethod ?"
   ]
  },
  {
   "cell_type": "markdown",
   "id": "d336ae18",
   "metadata": {},
   "source": [
    "## in oop python all instance and class methods take 1 argumrnt Automatically\n",
    "\n",
    "<br>\n",
    "\n",
    "## So when we dont need the argument than used static method"
   ]
  },
  {
   "cell_type": "markdown",
   "id": "dd42fb13",
   "metadata": {},
   "source": [
    "# Example"
   ]
  },
  {
   "cell_type": "code",
   "execution_count": 105,
   "id": "f08dd80f",
   "metadata": {},
   "outputs": [],
   "source": [
    "class Person:\n",
    "    \n",
    "    fname = \"Mubeen\"\n",
    "    lname = \"Ahmad\"\n",
    "    \n",
    "    def get_name():\n",
    "        return Person.fname +\" \"+Person.lname"
   ]
  },
  {
   "cell_type": "code",
   "execution_count": 106,
   "id": "0f52bc97",
   "metadata": {},
   "outputs": [],
   "source": [
    "obj = Person()"
   ]
  },
  {
   "cell_type": "code",
   "execution_count": 107,
   "id": "e8ee2a08",
   "metadata": {},
   "outputs": [
    {
     "ename": "TypeError",
     "evalue": "Person.get_name() takes 0 positional arguments but 1 was given",
     "output_type": "error",
     "traceback": [
      "\u001b[0;31m---------------------------------------------------------------------------\u001b[0m",
      "\u001b[0;31mTypeError\u001b[0m                                 Traceback (most recent call last)",
      "Cell \u001b[0;32mIn [107], line 1\u001b[0m\n\u001b[0;32m----> 1\u001b[0m \u001b[43mobj\u001b[49m\u001b[38;5;241;43m.\u001b[39;49m\u001b[43mget_name\u001b[49m\u001b[43m(\u001b[49m\u001b[43m)\u001b[49m\n",
      "\u001b[0;31mTypeError\u001b[0m: Person.get_name() takes 0 positional arguments but 1 was given"
     ]
    }
   ],
   "source": [
    "obj.get_name()"
   ]
  },
  {
   "cell_type": "markdown",
   "id": "8a702dd4",
   "metadata": {},
   "source": [
    "## inside get_name we don't need argument but self argument are need in instance or class method"
   ]
  },
  {
   "cell_type": "markdown",
   "id": "77b7eff2",
   "metadata": {},
   "source": [
    "# So Here use staticmethod"
   ]
  },
  {
   "cell_type": "code",
   "execution_count": 108,
   "id": "803113b9",
   "metadata": {},
   "outputs": [],
   "source": [
    "class Person:\n",
    "    \n",
    "    fname = \"Mubeen\"\n",
    "    lname = \"Ahmad\"\n",
    "    \n",
    "    @staticmethod\n",
    "    def get_name():\n",
    "        return Person.fname +\" \"+Person.lname"
   ]
  },
  {
   "cell_type": "code",
   "execution_count": 109,
   "id": "a7ba2c00",
   "metadata": {},
   "outputs": [],
   "source": [
    "obj = Person()"
   ]
  },
  {
   "cell_type": "code",
   "execution_count": 110,
   "id": "08589ed9",
   "metadata": {},
   "outputs": [
    {
     "data": {
      "text/plain": [
       "'Mubeen Ahmad'"
      ]
     },
     "execution_count": 110,
     "metadata": {},
     "output_type": "execute_result"
    }
   ],
   "source": [
    "obj.get_name()"
   ]
  },
  {
   "cell_type": "markdown",
   "id": "0c3ac4e7",
   "metadata": {},
   "source": [
    "# Example 2\n",
    "\n",
    "### Passing Member to one class to other"
   ]
  },
  {
   "cell_type": "code",
   "execution_count": 126,
   "id": "6c372a39",
   "metadata": {},
   "outputs": [],
   "source": [
    "class Member:\n",
    "    \n",
    "    def __init__(self,name):\n",
    "        self.name = name\n",
    "\n",
    "\n",
    "class Show:\n",
    "    \n",
    "    def __new__(self,name):\n",
    "        return self.name"
   ]
  },
  {
   "cell_type": "code",
   "execution_count": 127,
   "id": "f6442487",
   "metadata": {},
   "outputs": [],
   "source": [
    "u1 = Member(\"Mubeen\")"
   ]
  },
  {
   "cell_type": "code",
   "execution_count": 128,
   "id": "ed450837",
   "metadata": {},
   "outputs": [
    {
     "ename": "AttributeError",
     "evalue": "type object 'Show' has no attribute 'name'",
     "output_type": "error",
     "traceback": [
      "\u001b[0;31m---------------------------------------------------------------------------\u001b[0m",
      "\u001b[0;31mAttributeError\u001b[0m                            Traceback (most recent call last)",
      "Cell \u001b[0;32mIn [128], line 1\u001b[0m\n\u001b[0;32m----> 1\u001b[0m \u001b[43mShow\u001b[49m\u001b[43m(\u001b[49m\u001b[43mu1\u001b[49m\u001b[38;5;241;43m.\u001b[39;49m\u001b[43mname\u001b[49m\u001b[43m)\u001b[49m\n",
      "Cell \u001b[0;32mIn [126], line 10\u001b[0m, in \u001b[0;36mShow.__new__\u001b[0;34m(self, name)\u001b[0m\n\u001b[1;32m      9\u001b[0m \u001b[38;5;28;01mdef\u001b[39;00m \u001b[38;5;21m__new__\u001b[39m(\u001b[38;5;28mself\u001b[39m,name):\n\u001b[0;32m---> 10\u001b[0m     \u001b[38;5;28;01mreturn\u001b[39;00m \u001b[38;5;28;43mself\u001b[39;49m\u001b[38;5;241;43m.\u001b[39;49m\u001b[43mname\u001b[49m\n",
      "\u001b[0;31mAttributeError\u001b[0m: type object 'Show' has no attribute 'name'"
     ]
    }
   ],
   "source": [
    "Show(u1.name)"
   ]
  },
  {
   "cell_type": "markdown",
   "id": "a05f9cd1",
   "metadata": {},
   "source": [
    "## Now Also use here staticmethod to solve error"
   ]
  },
  {
   "cell_type": "code",
   "execution_count": 192,
   "id": "2eb9fc8f",
   "metadata": {},
   "outputs": [],
   "source": [
    "class Member:\n",
    "    \n",
    "    def __init__(self,name):\n",
    "        self.name = name\n",
    "\n",
    "\n",
    "class Show:\n",
    "    @staticmethod\n",
    "    def __init__(object_):\n",
    "        print(object_.name)"
   ]
  },
  {
   "cell_type": "code",
   "execution_count": 193,
   "id": "8fd65104",
   "metadata": {},
   "outputs": [],
   "source": [
    "u1 = Member(\"Mubeen\")"
   ]
  },
  {
   "cell_type": "code",
   "execution_count": 197,
   "id": "bab30339",
   "metadata": {},
   "outputs": [
    {
     "name": "stdout",
     "output_type": "stream",
     "text": [
      "Mubeen\n"
     ]
    },
    {
     "data": {
      "text/plain": [
       "<__main__.Show at 0x7f75ae673f70>"
      ]
     },
     "execution_count": 197,
     "metadata": {},
     "output_type": "execute_result"
    }
   ],
   "source": [
    "Show(u1)"
   ]
  },
  {
   "cell_type": "markdown",
   "id": "a1dd678f",
   "metadata": {},
   "source": [
    "# Difference "
   ]
  },
  {
   "cell_type": "markdown",
   "id": "bebd28d4",
   "metadata": {},
   "source": [
    "<img src=\"../../images/class_vs_static.png\" style=\" display: block;\n",
    "  margin-left: auto;\n",
    "  margin-right: auto;\n",
    "  width: 100%; border-radius:10px 10px 10px 10px;\">"
   ]
  }
 ],
 "metadata": {
  "kernelspec": {
   "display_name": "Python 3 (ipykernel)",
   "language": "python",
   "name": "python3"
  },
  "language_info": {
   "codemirror_mode": {
    "name": "ipython",
    "version": 3
   },
   "file_extension": ".py",
   "mimetype": "text/x-python",
   "name": "python",
   "nbconvert_exporter": "python",
   "pygments_lexer": "ipython3",
   "version": "3.10.6"
  }
 },
 "nbformat": 4,
 "nbformat_minor": 5
}

{
 "cells": [
  {
   "cell_type": "markdown",
   "id": "f0837b3e",
   "metadata": {},
   "source": [
    "<h1>Class Attributes </h1><br><br><h2>In Class, attributes can be defined into two parts:</h2>\n",
    "<img src=\"../../images/attr.jpg\" style=\"display: block;\n",
    "  margin-left: auto;\n",
    "  margin-right: auto;\n",
    "  width: 50%;\n",
    "  border-radius:20px 20px 20px 20px;\n",
    "  \">"
   ]
  },
  {
   "cell_type": "markdown",
   "id": "5242d1f5",
   "metadata": {},
   "source": [
    "# KeyPoints\n",
    "<br>\n",
    "\n",
    "<h3 style=\"color:#4e2abd;\">\n",
    "• What is Class Attributes<br>\n",
    ". Class Variables <br>\n",
    ". Access Class Variables <br>\n",
    ". Modify Class Variables <br>\n",
    ". Object Calling VS Simple Object <br>\n",
    ". Delete Class Variable <br>\n",
    "\n",
    "</h3>"
   ]
  },
  {
   "cell_type": "markdown",
   "id": "57ef7f63",
   "metadata": {},
   "source": [
    "# Class Variables\n",
    "<br>\n",
    "<h3 style=\"color:#4e2abd;\">A variable that are define inside only in the class called Class variable</h3>"
   ]
  },
  {
   "cell_type": "code",
   "execution_count": 4,
   "id": "718e60e3",
   "metadata": {},
   "outputs": [],
   "source": [
    "class Person:\n",
    "    \n",
    "    # class variables\n",
    "    name = \"Mubeen\"\n",
    "    id_ = 404\n",
    "\n",
    "p1 = Person()"
   ]
  },
  {
   "cell_type": "code",
   "execution_count": 5,
   "id": "b044e59c",
   "metadata": {},
   "outputs": [
    {
     "data": {
      "text/plain": [
       "'Mubeen'"
      ]
     },
     "execution_count": 5,
     "metadata": {},
     "output_type": "execute_result"
    }
   ],
   "source": [
    "p1.name"
   ]
  },
  {
   "cell_type": "code",
   "execution_count": 6,
   "id": "2ab02dc1",
   "metadata": {},
   "outputs": [
    {
     "data": {
      "text/plain": [
       "404"
      ]
     },
     "execution_count": 6,
     "metadata": {},
     "output_type": "execute_result"
    }
   ],
   "source": [
    "p1.id_"
   ]
  },
  {
   "cell_type": "markdown",
   "id": "577e6008",
   "metadata": {},
   "source": [
    "# Shared by all objects of class"
   ]
  },
  {
   "cell_type": "code",
   "execution_count": 9,
   "id": "dd39926c",
   "metadata": {},
   "outputs": [],
   "source": [
    "class AI:\n",
    "    \n",
    "    # class variable\n",
    "    Class = \"AI\"\n",
    "    \n",
    "    # constructor or init method\n",
    "    def __init__(self,name):      # self argument point the object\n",
    "                                  # name argument take the value from the object\n",
    "        \n",
    "        # instance variable \n",
    "        self.name = name+ \" \" +self.Class\n"
   ]
  },
  {
   "cell_type": "code",
   "execution_count": 11,
   "id": "e7ba8d65",
   "metadata": {},
   "outputs": [],
   "source": [
    "obj1 = AI(\"Mubeen\").name\n",
    "obj2 = AI(\"Fahad\").name\n",
    "obj3 = AI(\"Zain\").name"
   ]
  },
  {
   "cell_type": "code",
   "execution_count": 12,
   "id": "159c7217",
   "metadata": {},
   "outputs": [
    {
     "name": "stdout",
     "output_type": "stream",
     "text": [
      "Mubeen AI\n",
      "Fahad AI\n",
      "Zain AI\n"
     ]
    }
   ],
   "source": [
    "print(obj1)\n",
    "print(obj2)\n",
    "print(obj3)"
   ]
  },
  {
   "cell_type": "markdown",
   "id": "b5398b46",
   "metadata": {},
   "source": [
    "# Access Class Variable at the outside "
   ]
  },
  {
   "cell_type": "code",
   "execution_count": 14,
   "id": "7cf2d090",
   "metadata": {},
   "outputs": [
    {
     "data": {
      "text/plain": [
       "'AI'"
      ]
     },
     "execution_count": 14,
     "metadata": {},
     "output_type": "execute_result"
    }
   ],
   "source": [
    "# class_name . class_variable_name\n",
    "AI.Class"
   ]
  },
  {
   "cell_type": "markdown",
   "id": "1964580e",
   "metadata": {},
   "source": [
    "# Access class variable with built-in function\n",
    "<br>\n",
    "\n",
    "### getattr(object, name[, default]) -> value\n",
    "\n",
    "\n"
   ]
  },
  {
   "cell_type": "code",
   "execution_count": 19,
   "id": "c713aadd",
   "metadata": {},
   "outputs": [
    {
     "data": {
      "text/plain": [
       "'AI'"
      ]
     },
     "execution_count": 19,
     "metadata": {},
     "output_type": "execute_result"
    }
   ],
   "source": [
    "# class_name , \"class variable name\" (in sring)\n",
    "getattr(AI,\"Class\")"
   ]
  },
  {
   "cell_type": "markdown",
   "id": "d24eaae6",
   "metadata": {},
   "source": [
    "## if variable not exist than raise error so used default value"
   ]
  },
  {
   "cell_type": "code",
   "execution_count": 22,
   "id": "265598e2",
   "metadata": {},
   "outputs": [
    {
     "ename": "AttributeError",
     "evalue": "type object 'AI' has no attribute 'Clas'",
     "output_type": "error",
     "traceback": [
      "\u001b[0;31m---------------------------------------------------------------------------\u001b[0m",
      "\u001b[0;31mAttributeError\u001b[0m                            Traceback (most recent call last)",
      "Cell \u001b[0;32mIn [22], line 1\u001b[0m\n\u001b[0;32m----> 1\u001b[0m \u001b[38;5;28;43mgetattr\u001b[39;49m\u001b[43m(\u001b[49m\u001b[43mAI\u001b[49m\u001b[43m,\u001b[49m\u001b[38;5;124;43m\"\u001b[39;49m\u001b[38;5;124;43mClas\u001b[39;49m\u001b[38;5;124;43m\"\u001b[39;49m\u001b[43m)\u001b[49m\n",
      "\u001b[0;31mAttributeError\u001b[0m: type object 'AI' has no attribute 'Clas'"
     ]
    }
   ],
   "source": [
    "getattr(AI,\"Clas\")"
   ]
  },
  {
   "cell_type": "code",
   "execution_count": 24,
   "id": "210c2645",
   "metadata": {},
   "outputs": [
    {
     "data": {
      "text/plain": [
       "'Not Found'"
      ]
     },
     "execution_count": 24,
     "metadata": {},
     "output_type": "execute_result"
    }
   ],
   "source": [
    "# use default value\n",
    "getattr(AI,\"Clas\",\"Not Found\")"
   ]
  },
  {
   "cell_type": "markdown",
   "id": "e1a3e940",
   "metadata": {},
   "source": [
    "# Modify Class Variables"
   ]
  },
  {
   "cell_type": "code",
   "execution_count": 3,
   "id": "48967d2d",
   "metadata": {},
   "outputs": [],
   "source": [
    "class Student:\n",
    "    \n",
    "    subject = \"AI\"\n"
   ]
  },
  {
   "cell_type": "markdown",
   "id": "2f9d541a",
   "metadata": {},
   "source": [
    "### Note ! Every Object has its own Copy they don't Share it"
   ]
  },
  {
   "cell_type": "code",
   "execution_count": 5,
   "id": "eb90488b",
   "metadata": {},
   "outputs": [],
   "source": [
    "s1 = Student()\n",
    "s2 = Student()\n",
    "# here s1 and s2 are two object"
   ]
  },
  {
   "cell_type": "code",
   "execution_count": 6,
   "id": "f0b9a093",
   "metadata": {},
   "outputs": [
    {
     "name": "stdout",
     "output_type": "stream",
     "text": [
      "AI\n",
      "AI\n"
     ]
    }
   ],
   "source": [
    "# s1.subject\n",
    "# s2.subject \n",
    "\n",
    "# both are different variable\n",
    "\n",
    "print(s1.subject)\n",
    "print(s2.subject)"
   ]
  },
  {
   "cell_type": "code",
   "execution_count": 11,
   "id": "1467b85d",
   "metadata": {},
   "outputs": [],
   "source": [
    "# modify s1 variable\n",
    "s1.subject = \"Cyber\""
   ]
  },
  {
   "cell_type": "code",
   "execution_count": 12,
   "id": "964244c8",
   "metadata": {},
   "outputs": [
    {
     "name": "stdout",
     "output_type": "stream",
     "text": [
      "Cyber\n"
     ]
    }
   ],
   "source": [
    "# now check it s1\n",
    "print(s1.subject)"
   ]
  },
  {
   "cell_type": "code",
   "execution_count": 13,
   "id": "36b4f7bd",
   "metadata": {},
   "outputs": [
    {
     "name": "stdout",
     "output_type": "stream",
     "text": [
      "AI\n"
     ]
    }
   ],
   "source": [
    "# s2 are not change\n",
    "print(s2.subject)"
   ]
  },
  {
   "cell_type": "code",
   "execution_count": 15,
   "id": "05f4a4c7",
   "metadata": {},
   "outputs": [],
   "source": [
    "# modify s2 variable\n",
    "s2.subject = \"Data Science\""
   ]
  },
  {
   "cell_type": "code",
   "execution_count": 16,
   "id": "ca2da316",
   "metadata": {},
   "outputs": [
    {
     "name": "stdout",
     "output_type": "stream",
     "text": [
      "Data Science\n"
     ]
    }
   ],
   "source": [
    "print(s2.subject)"
   ]
  },
  {
   "cell_type": "code",
   "execution_count": 17,
   "id": "1e9f6f70",
   "metadata": {},
   "outputs": [
    {
     "name": "stdout",
     "output_type": "stream",
     "text": [
      "Cyber\n",
      "Data Science\n"
     ]
    }
   ],
   "source": [
    "print(s1.subject)\n",
    "print(s2.subject)"
   ]
  },
  {
   "cell_type": "markdown",
   "id": "7ebbfc36",
   "metadata": {},
   "source": [
    "## but Class variable are not Changed"
   ]
  },
  {
   "cell_type": "code",
   "execution_count": 18,
   "id": "b45239bf",
   "metadata": {},
   "outputs": [
    {
     "name": "stdout",
     "output_type": "stream",
     "text": [
      "AI\n"
     ]
    }
   ],
   "source": [
    "print(Student.subject)"
   ]
  },
  {
   "cell_type": "markdown",
   "id": "cba34bb0",
   "metadata": {},
   "source": [
    "## change class variable"
   ]
  },
  {
   "cell_type": "code",
   "execution_count": 19,
   "id": "2e739515",
   "metadata": {},
   "outputs": [
    {
     "name": "stdout",
     "output_type": "stream",
     "text": [
      "class variable\n"
     ]
    }
   ],
   "source": [
    "Student.subject = \"class variable\"\n",
    "print(Student.subject)"
   ]
  },
  {
   "cell_type": "code",
   "execution_count": 20,
   "id": "7fd9c739",
   "metadata": {},
   "outputs": [
    {
     "name": "stdout",
     "output_type": "stream",
     "text": [
      "class variable\n",
      "Cyber\n",
      "Data Science\n"
     ]
    }
   ],
   "source": [
    "# now check it all variable\n",
    "print(Student.subject)\n",
    "print(s1.subject)\n",
    "print(s2.subject)"
   ]
  },
  {
   "cell_type": "markdown",
   "id": "0271b197",
   "metadata": {},
   "source": [
    "# UnderStand object and object() call"
   ]
  },
  {
   "cell_type": "markdown",
   "id": "f75256db",
   "metadata": {},
   "source": [
    "## Example without call object "
   ]
  },
  {
   "cell_type": "code",
   "execution_count": 36,
   "id": "ac3e423e",
   "metadata": {},
   "outputs": [],
   "source": [
    "class Person:\n",
    "    name = \"Mubeen\""
   ]
  },
  {
   "cell_type": "markdown",
   "id": "1dd09894",
   "metadata": {},
   "source": [
    "## create 2 object but can't call it"
   ]
  },
  {
   "cell_type": "code",
   "execution_count": 37,
   "id": "3b69c209",
   "metadata": {},
   "outputs": [],
   "source": [
    "p1 = Person\n",
    "p2 = Person"
   ]
  },
  {
   "cell_type": "markdown",
   "id": "23611d08",
   "metadata": {},
   "source": [
    "## we have three variables"
   ]
  },
  {
   "cell_type": "code",
   "execution_count": 38,
   "id": "a6fe30e0",
   "metadata": {},
   "outputs": [],
   "source": [
    "# p1.name\n",
    "# p2.name\n",
    "# Person.name\n",
    "\n",
    "# if i modify in any variable than all the variables are modifed \n",
    "# Because i can't call the object\n",
    "\n",
    "# change p2.name\n",
    "p2.name = \"p2 are updated\""
   ]
  },
  {
   "cell_type": "code",
   "execution_count": 39,
   "id": "e0037a4b",
   "metadata": {},
   "outputs": [
    {
     "name": "stdout",
     "output_type": "stream",
     "text": [
      "p2 are updated\n",
      "p2 are updated\n",
      "p2 are updated\n"
     ]
    }
   ],
   "source": [
    "# all the variables are update\n",
    "print(p1.name)\n",
    "print(p2.name)\n",
    "print(Person.name)"
   ]
  },
  {
   "cell_type": "markdown",
   "id": "2d6523ef",
   "metadata": {},
   "source": [
    "# Example call object"
   ]
  },
  {
   "cell_type": "code",
   "execution_count": 33,
   "id": "c8934f5c",
   "metadata": {},
   "outputs": [],
   "source": [
    "p1.name = \"p1\""
   ]
  },
  {
   "cell_type": "code",
   "execution_count": 34,
   "id": "c8bd84e9",
   "metadata": {},
   "outputs": [
    {
     "name": "stdout",
     "output_type": "stream",
     "text": [
      "p1\n",
      "p1\n",
      "p1\n"
     ]
    }
   ],
   "source": [
    "# all the variables are update\n",
    "print(p1.name)\n",
    "print(p2.name)\n",
    "print(Person.name)"
   ]
  },
  {
   "cell_type": "code",
   "execution_count": 67,
   "id": "559bf0ea",
   "metadata": {},
   "outputs": [],
   "source": [
    "class Person:\n",
    "    name = \"Mubeen\""
   ]
  },
  {
   "cell_type": "code",
   "execution_count": 68,
   "id": "ab869dd9",
   "metadata": {},
   "outputs": [],
   "source": [
    "p1 = Person() # ---> Mubeen\n",
    "p2 = Person() # ---> Mubeen"
   ]
  },
  {
   "cell_type": "code",
   "execution_count": 69,
   "id": "6f794a8f",
   "metadata": {},
   "outputs": [
    {
     "name": "stdout",
     "output_type": "stream",
     "text": [
      "Mubeen\n",
      "Mubeen\n",
      "Mubeen\n"
     ]
    }
   ],
   "source": [
    "print(p1.name)\n",
    "print(p2.name)\n",
    "print(Person.name)"
   ]
  },
  {
   "cell_type": "markdown",
   "id": "1ccda4e9",
   "metadata": {},
   "source": [
    "## Now if i update the first with class than all variables are updated"
   ]
  },
  {
   "cell_type": "code",
   "execution_count": 70,
   "id": "8b82c2ae",
   "metadata": {},
   "outputs": [],
   "source": [
    "Person.name = \"Person are update the value\""
   ]
  },
  {
   "cell_type": "code",
   "execution_count": 71,
   "id": "a3f1026d",
   "metadata": {},
   "outputs": [
    {
     "name": "stdout",
     "output_type": "stream",
     "text": [
      "Person are update the value\n",
      "Person are update the value\n",
      "Person are update the value\n"
     ]
    }
   ],
   "source": [
    "print(p1.name)\n",
    "print(p2.name)\n",
    "print(Person.name)"
   ]
  },
  {
   "cell_type": "code",
   "execution_count": 63,
   "id": "3f667dd6",
   "metadata": {},
   "outputs": [],
   "source": [
    "Person.name = \"Person are update the value\""
   ]
  },
  {
   "cell_type": "code",
   "execution_count": 64,
   "id": "4b923ec3",
   "metadata": {},
   "outputs": [
    {
     "name": "stdout",
     "output_type": "stream",
     "text": [
      "Person are update the value\n",
      "Person are update the value\n",
      "Person are update the value\n"
     ]
    }
   ],
   "source": [
    "# all variables are updated\n",
    "print(p1.name)\n",
    "print(p2.name)\n",
    "print(Person.name)"
   ]
  },
  {
   "cell_type": "markdown",
   "id": "0aa268c3",
   "metadata": {},
   "source": [
    "## now update p1 value"
   ]
  },
  {
   "cell_type": "code",
   "execution_count": 72,
   "id": "cf15f517",
   "metadata": {},
   "outputs": [],
   "source": [
    "p1.name = \"p1 are update the value\""
   ]
  },
  {
   "cell_type": "code",
   "execution_count": 73,
   "id": "0b96f563",
   "metadata": {},
   "outputs": [
    {
     "name": "stdout",
     "output_type": "stream",
     "text": [
      "p1 are update the value\n",
      "Person are update the value\n",
      "Person are update the value\n"
     ]
    }
   ],
   "source": [
    "# only updated p1\n",
    "print(p1.name)\n",
    "print(p2.name)\n",
    "print(Person.name)"
   ]
  },
  {
   "cell_type": "markdown",
   "id": "c59c8b96",
   "metadata": {},
   "source": [
    "## now again update with class. \n",
    "\n",
    "## is class change the all values ?"
   ]
  },
  {
   "cell_type": "code",
   "execution_count": 74,
   "id": "d2a9d2a0",
   "metadata": {},
   "outputs": [],
   "source": [
    "Person.name = \"Person are update the value Second\""
   ]
  },
  {
   "cell_type": "code",
   "execution_count": 75,
   "id": "37e3cf14",
   "metadata": {},
   "outputs": [
    {
     "name": "stdout",
     "output_type": "stream",
     "text": [
      "p1 are update the value\n",
      "Person are update the value Second\n",
      "Person are update the value Second\n"
     ]
    }
   ],
   "source": [
    "# only update p2 and Person\n",
    "print(p1.name)\n",
    "print(p2.name)\n",
    "print(Person.name)"
   ]
  },
  {
   "cell_type": "markdown",
   "id": "40dfeca0",
   "metadata": {},
   "source": [
    "## Why p2 are not update ?"
   ]
  },
  {
   "cell_type": "code",
   "execution_count": null,
   "id": "4e70d297",
   "metadata": {},
   "outputs": [],
   "source": [
    "# because if i create the object than i update class and p1\n",
    "# i can't update p2 value"
   ]
  },
  {
   "cell_type": "markdown",
   "id": "84e7ea20",
   "metadata": {},
   "source": [
    "# Now update p2 value"
   ]
  },
  {
   "cell_type": "code",
   "execution_count": 77,
   "id": "a869785e",
   "metadata": {},
   "outputs": [],
   "source": [
    "p2.name = \"p2 are update the value\""
   ]
  },
  {
   "cell_type": "code",
   "execution_count": 78,
   "id": "39a795de",
   "metadata": {},
   "outputs": [
    {
     "name": "stdout",
     "output_type": "stream",
     "text": [
      "p1 are update the value\n",
      "p2 are update the value\n",
      "Person are update the value Second\n"
     ]
    }
   ],
   "source": [
    "# update only p2\n",
    "print(p1.name)\n",
    "print(p2.name)\n",
    "print(Person.name)"
   ]
  },
  {
   "cell_type": "markdown",
   "id": "0935d6a2",
   "metadata": {},
   "source": [
    "## Now if i change the class variable than p1 and p2 variables are not updated\n",
    "\n",
    "## Because i modify all variables first time"
   ]
  },
  {
   "cell_type": "code",
   "execution_count": 79,
   "id": "d2be64ae",
   "metadata": {},
   "outputs": [],
   "source": [
    "Person.name = \"i am admin i order to change all variables\""
   ]
  },
  {
   "cell_type": "code",
   "execution_count": 80,
   "id": "858a3e4d",
   "metadata": {},
   "outputs": [
    {
     "name": "stdout",
     "output_type": "stream",
     "text": [
      "p1 are update the value\n",
      "p2 are update the value\n",
      "i am admin i order to change all variables\n"
     ]
    }
   ],
   "source": [
    "# check all variable are updated or not ?\n",
    "\n",
    "print(p1.name)\n",
    "print(p2.name)\n",
    "print(Person.name)\n",
    "\n",
    "# only updated person"
   ]
  },
  {
   "cell_type": "markdown",
   "id": "b311bf30",
   "metadata": {},
   "source": [
    "# Example 2"
   ]
  },
  {
   "cell_type": "code",
   "execution_count": 1,
   "id": "b593687d",
   "metadata": {},
   "outputs": [],
   "source": [
    "class Student:\n",
    "    \n",
    "    subject = \"English\""
   ]
  },
  {
   "cell_type": "code",
   "execution_count": 2,
   "id": "05fab117",
   "metadata": {},
   "outputs": [],
   "source": [
    "# call objects\n",
    "s1 = Student()\n",
    "s2 = Student()"
   ]
  },
  {
   "cell_type": "code",
   "execution_count": 3,
   "id": "2a8338e7",
   "metadata": {},
   "outputs": [
    {
     "name": "stdout",
     "output_type": "stream",
     "text": [
      "English\n",
      "English\n",
      "English\n"
     ]
    }
   ],
   "source": [
    "print(Student.subject)\n",
    "print(s1.subject)\n",
    "print(s2.subject)"
   ]
  },
  {
   "cell_type": "code",
   "execution_count": 4,
   "id": "d68182ec",
   "metadata": {},
   "outputs": [],
   "source": [
    "# change s2\n",
    "\n",
    "s2.subject = \"s2\""
   ]
  },
  {
   "cell_type": "code",
   "execution_count": 5,
   "id": "449e41a5",
   "metadata": {},
   "outputs": [
    {
     "name": "stdout",
     "output_type": "stream",
     "text": [
      "English\n",
      "English\n",
      "s2\n"
     ]
    }
   ],
   "source": [
    "# only updated in s2\n",
    "print(Student.subject)\n",
    "print(s1.subject)\n",
    "print(s2.subject)"
   ]
  },
  {
   "cell_type": "code",
   "execution_count": 6,
   "id": "62559939",
   "metadata": {},
   "outputs": [],
   "source": [
    "# change Student (with class)\n",
    "\n",
    "Student.subject = \"Math\"\n",
    "\n",
    "# s1 and Student are updated only\n",
    "# s2 are not update because i use s2 "
   ]
  },
  {
   "cell_type": "code",
   "execution_count": 7,
   "id": "b225b1d7",
   "metadata": {},
   "outputs": [
    {
     "name": "stdout",
     "output_type": "stream",
     "text": [
      "Math\n",
      "Math\n",
      "s2\n"
     ]
    }
   ],
   "source": [
    "print(Student.subject)\n",
    "print(s1.subject)\n",
    "print(s2.subject)"
   ]
  },
  {
   "cell_type": "code",
   "execution_count": 8,
   "id": "4366cfdb",
   "metadata": {},
   "outputs": [],
   "source": [
    "# but if i use s1 than s1 are not updated when i update with class \n",
    "s1.subject = \"s1\""
   ]
  },
  {
   "cell_type": "code",
   "execution_count": 9,
   "id": "9ee323df",
   "metadata": {},
   "outputs": [
    {
     "name": "stdout",
     "output_type": "stream",
     "text": [
      "Math\n",
      "s1\n",
      "s2\n"
     ]
    }
   ],
   "source": [
    "print(Student.subject)\n",
    "print(s1.subject)\n",
    "print(s2.subject)"
   ]
  },
  {
   "cell_type": "code",
   "execution_count": 10,
   "id": "9df215f1",
   "metadata": {},
   "outputs": [],
   "source": [
    "# now modify with Student\n",
    "Student.subject = \"Physic\"\n",
    "\n",
    "# Now s1 and s2 are not updated"
   ]
  },
  {
   "cell_type": "code",
   "execution_count": 11,
   "id": "d342c0f0",
   "metadata": {},
   "outputs": [
    {
     "name": "stdout",
     "output_type": "stream",
     "text": [
      "Physic\n",
      "s1\n",
      "s2\n"
     ]
    }
   ],
   "source": [
    "print(Student.subject)\n",
    "print(s1.subject)\n",
    "print(s2.subject)"
   ]
  },
  {
   "cell_type": "markdown",
   "id": "b46bff1f",
   "metadata": {},
   "source": [
    "# Modify class variable with built-in function\n",
    "<br>\n",
    "\n",
    "### setter(object, old,new,\\) -> value\n",
    "\n",
    "\n"
   ]
  },
  {
   "cell_type": "code",
   "execution_count": 121,
   "id": "ad469bea",
   "metadata": {},
   "outputs": [],
   "source": [
    "class Employee:\n",
    "    \n",
    "    name = \"emp\""
   ]
  },
  {
   "cell_type": "code",
   "execution_count": 122,
   "id": "a6ac514b",
   "metadata": {},
   "outputs": [],
   "source": [
    "obj = Employee()"
   ]
  },
  {
   "cell_type": "code",
   "execution_count": 124,
   "id": "abe08f52",
   "metadata": {},
   "outputs": [],
   "source": [
    "# object , \"old name\", new name\n",
    "setattr(obj,\"name\",100)"
   ]
  },
  {
   "cell_type": "code",
   "execution_count": 126,
   "id": "62679119",
   "metadata": {},
   "outputs": [
    {
     "name": "stdout",
     "output_type": "stream",
     "text": [
      "100\n",
      "emp\n"
     ]
    }
   ],
   "source": [
    "# access wit getter\n",
    "\n",
    "print(getattr(obj,\"name\"))\n",
    "print(getattr(Employee,\"name\"))"
   ]
  },
  {
   "cell_type": "markdown",
   "id": "e0949901",
   "metadata": {},
   "source": [
    "# if the object() called"
   ]
  },
  {
   "cell_type": "code",
   "execution_count": null,
   "id": "d947d626",
   "metadata": {},
   "outputs": [],
   "source": [
    "# 1st time change with class  --> updated in all variable\n",
    "# 1st time change with object --> only change object variable\n",
    "\n",
    "# 2nd time change class --> if others object are used than used object are not updated\n",
    "# 2nd time change class --> if others object are not used than all objects are updated"
   ]
  },
  {
   "cell_type": "markdown",
   "id": "5ec4018b",
   "metadata": {},
   "source": [
    "# if the object not called"
   ]
  },
  {
   "cell_type": "code",
   "execution_count": null,
   "id": "65041586",
   "metadata": {},
   "outputs": [],
   "source": [
    "# if changing in any variable than all varialbes are updated"
   ]
  },
  {
   "cell_type": "markdown",
   "id": "55f9c4b0",
   "metadata": {},
   "source": [
    "<br>\n",
    "\n",
    "# Delete Class Variable with del keyword"
   ]
  },
  {
   "cell_type": "code",
   "execution_count": 148,
   "id": "a3c0cc3e",
   "metadata": {},
   "outputs": [],
   "source": [
    "class Student:\n",
    "    name = \"Mubeen\""
   ]
  },
  {
   "cell_type": "code",
   "execution_count": 149,
   "id": "25c0233b",
   "metadata": {},
   "outputs": [],
   "source": [
    "obj = Student()"
   ]
  },
  {
   "cell_type": "code",
   "execution_count": 150,
   "id": "8fb14d6f",
   "metadata": {},
   "outputs": [
    {
     "name": "stdout",
     "output_type": "stream",
     "text": [
      "Mubeen\n",
      "Mubeen\n"
     ]
    }
   ],
   "source": [
    "print(getattr(obj,\"name\"))\n",
    "print(getattr(Student,\"name\"))"
   ]
  },
  {
   "cell_type": "code",
   "execution_count": 151,
   "id": "dace89af",
   "metadata": {},
   "outputs": [],
   "source": [
    "# del class variable with class\n",
    "\n",
    "del Student.name \n",
    "\n",
    "# delete both object and class"
   ]
  },
  {
   "cell_type": "code",
   "execution_count": 152,
   "id": "e2eb47cf",
   "metadata": {},
   "outputs": [
    {
     "ename": "AttributeError",
     "evalue": "'Student' object has no attribute 'name'",
     "output_type": "error",
     "traceback": [
      "\u001b[0;31m---------------------------------------------------------------------------\u001b[0m",
      "\u001b[0;31mAttributeError\u001b[0m                            Traceback (most recent call last)",
      "Cell \u001b[0;32mIn [152], line 1\u001b[0m\n\u001b[0;32m----> 1\u001b[0m \u001b[38;5;28mprint\u001b[39m(\u001b[38;5;28;43mgetattr\u001b[39;49m\u001b[43m(\u001b[49m\u001b[43mobj\u001b[49m\u001b[43m,\u001b[49m\u001b[38;5;124;43m\"\u001b[39;49m\u001b[38;5;124;43mname\u001b[39;49m\u001b[38;5;124;43m\"\u001b[39;49m\u001b[43m)\u001b[49m)\n",
      "\u001b[0;31mAttributeError\u001b[0m: 'Student' object has no attribute 'name'"
     ]
    }
   ],
   "source": [
    "print(getattr(obj,\"name\"))"
   ]
  },
  {
   "cell_type": "code",
   "execution_count": 153,
   "id": "62b416f7",
   "metadata": {},
   "outputs": [
    {
     "ename": "AttributeError",
     "evalue": "type object 'Student' has no attribute 'name'",
     "output_type": "error",
     "traceback": [
      "\u001b[0;31m---------------------------------------------------------------------------\u001b[0m",
      "\u001b[0;31mAttributeError\u001b[0m                            Traceback (most recent call last)",
      "Cell \u001b[0;32mIn [153], line 1\u001b[0m\n\u001b[0;32m----> 1\u001b[0m \u001b[38;5;28mprint\u001b[39m(\u001b[38;5;28;43mgetattr\u001b[39;49m\u001b[43m(\u001b[49m\u001b[43mStudent\u001b[49m\u001b[43m,\u001b[49m\u001b[38;5;124;43m\"\u001b[39;49m\u001b[38;5;124;43mname\u001b[39;49m\u001b[38;5;124;43m\"\u001b[39;49m\u001b[43m)\u001b[49m)\n",
      "\u001b[0;31mAttributeError\u001b[0m: type object 'Student' has no attribute 'name'"
     ]
    }
   ],
   "source": [
    "print(getattr(Student,\"name\"))"
   ]
  },
  {
   "cell_type": "markdown",
   "id": "7de2c096",
   "metadata": {},
   "source": [
    "## we can't delete class variable with object"
   ]
  },
  {
   "cell_type": "code",
   "execution_count": 155,
   "id": "5f1a839d",
   "metadata": {},
   "outputs": [],
   "source": [
    "class Person:\n",
    "    \n",
    "    name = \"Mubeen\"\n",
    "    \n",
    "obj = Person()"
   ]
  },
  {
   "cell_type": "code",
   "execution_count": 158,
   "id": "2f943ee6",
   "metadata": {},
   "outputs": [
    {
     "ename": "AttributeError",
     "evalue": "name",
     "output_type": "error",
     "traceback": [
      "\u001b[0;31m---------------------------------------------------------------------------\u001b[0m",
      "\u001b[0;31mAttributeError\u001b[0m                            Traceback (most recent call last)",
      "Cell \u001b[0;32mIn [158], line 1\u001b[0m\n\u001b[0;32m----> 1\u001b[0m \u001b[38;5;28;01mdel\u001b[39;00m obj\u001b[38;5;241m.\u001b[39mname\n",
      "\u001b[0;31mAttributeError\u001b[0m: name"
     ]
    }
   ],
   "source": [
    "del obj.name"
   ]
  },
  {
   "cell_type": "markdown",
   "id": "cf92af5a",
   "metadata": {},
   "source": [
    "# Delete class variable with bulit-in Method\n",
    "<br>\n",
    "\n",
    "### delattr(obj, name, /)"
   ]
  },
  {
   "cell_type": "code",
   "execution_count": 14,
   "id": "07e65a66",
   "metadata": {},
   "outputs": [],
   "source": [
    "class Mubeen:\n",
    "    \n",
    "    password = 1234\n",
    "    name = \"SweetError\"\n",
    "    "
   ]
  },
  {
   "cell_type": "code",
   "execution_count": 15,
   "id": "0b5993d7",
   "metadata": {},
   "outputs": [
    {
     "data": {
      "text/plain": [
       "1234"
      ]
     },
     "execution_count": 15,
     "metadata": {},
     "output_type": "execute_result"
    }
   ],
   "source": [
    "obj1 = Mubeen()\n",
    "obj1.password"
   ]
  },
  {
   "cell_type": "code",
   "execution_count": 3,
   "id": "f2d59bea",
   "metadata": {},
   "outputs": [],
   "source": [
    "delattr(Mubeen,\"password\")"
   ]
  },
  {
   "cell_type": "code",
   "execution_count": 4,
   "id": "3c770cfb",
   "metadata": {},
   "outputs": [
    {
     "ename": "AttributeError",
     "evalue": "'Mubeen' object has no attribute 'password'",
     "output_type": "error",
     "traceback": [
      "\u001b[0;31m---------------------------------------------------------------------------\u001b[0m",
      "\u001b[0;31mAttributeError\u001b[0m                            Traceback (most recent call last)",
      "Cell \u001b[0;32mIn [4], line 1\u001b[0m\n\u001b[0;32m----> 1\u001b[0m \u001b[43mobj1\u001b[49m\u001b[38;5;241;43m.\u001b[39;49m\u001b[43mpassword\u001b[49m\n",
      "\u001b[0;31mAttributeError\u001b[0m: 'Mubeen' object has no attribute 'password'"
     ]
    }
   ],
   "source": [
    "obj1.password\n",
    "\n",
    "# password variable are removed"
   ]
  },
  {
   "cell_type": "markdown",
   "id": "11dddd22",
   "metadata": {},
   "source": [
    "### Again Note that we can't remove class varaible wtih the object\n"
   ]
  },
  {
   "cell_type": "code",
   "execution_count": 5,
   "id": "78c8a41f",
   "metadata": {},
   "outputs": [
    {
     "data": {
      "text/plain": [
       "'SweetError'"
      ]
     },
     "execution_count": 5,
     "metadata": {},
     "output_type": "execute_result"
    }
   ],
   "source": [
    "getattr(obj1,\"name\")"
   ]
  },
  {
   "cell_type": "code",
   "execution_count": 6,
   "id": "c707934b",
   "metadata": {},
   "outputs": [
    {
     "ename": "AttributeError",
     "evalue": "name",
     "output_type": "error",
     "traceback": [
      "\u001b[0;31m---------------------------------------------------------------------------\u001b[0m",
      "\u001b[0;31mAttributeError\u001b[0m                            Traceback (most recent call last)",
      "Cell \u001b[0;32mIn [6], line 2\u001b[0m\n\u001b[1;32m      1\u001b[0m \u001b[38;5;66;03m# trying to delete with class variable with object\u001b[39;00m\n\u001b[0;32m----> 2\u001b[0m \u001b[38;5;28;43mdelattr\u001b[39;49m\u001b[43m(\u001b[49m\u001b[43mobj1\u001b[49m\u001b[43m,\u001b[49m\u001b[38;5;124;43m\"\u001b[39;49m\u001b[38;5;124;43mname\u001b[39;49m\u001b[38;5;124;43m\"\u001b[39;49m\u001b[43m)\u001b[49m\n",
      "\u001b[0;31mAttributeError\u001b[0m: name"
     ]
    }
   ],
   "source": [
    "# trying to delete with class variable with object\n",
    "delattr(obj1,\"name\")"
   ]
  },
  {
   "cell_type": "markdown",
   "id": "2a23d75b",
   "metadata": {},
   "source": [
    "# Use classname instead of object"
   ]
  },
  {
   "cell_type": "code",
   "execution_count": 16,
   "id": "80336eb6",
   "metadata": {},
   "outputs": [],
   "source": [
    "delattr(Mubeen,\"name\")"
   ]
  },
  {
   "cell_type": "code",
   "execution_count": 17,
   "id": "ffb346a5",
   "metadata": {},
   "outputs": [
    {
     "ename": "AttributeError",
     "evalue": "'Mubeen' object has no attribute 'name'",
     "output_type": "error",
     "traceback": [
      "\u001b[0;31m---------------------------------------------------------------------------\u001b[0m",
      "\u001b[0;31mAttributeError\u001b[0m                            Traceback (most recent call last)",
      "Cell \u001b[0;32mIn [17], line 2\u001b[0m\n\u001b[1;32m      1\u001b[0m \u001b[38;5;66;03m# variable are deleted\u001b[39;00m\n\u001b[0;32m----> 2\u001b[0m \u001b[43mobj1\u001b[49m\u001b[38;5;241;43m.\u001b[39;49m\u001b[43mname\u001b[49m\n",
      "\u001b[0;31mAttributeError\u001b[0m: 'Mubeen' object has no attribute 'name'"
     ]
    }
   ],
   "source": [
    "# variable are deleted\n",
    "obj1.name"
   ]
  },
  {
   "cell_type": "markdown",
   "id": "8e54fc63",
   "metadata": {},
   "source": [
    "# delete classvariable with del"
   ]
  },
  {
   "cell_type": "code",
   "execution_count": 18,
   "id": "bfe72f25",
   "metadata": {},
   "outputs": [],
   "source": [
    "del Mubeen.password"
   ]
  },
  {
   "cell_type": "code",
   "execution_count": 19,
   "id": "5fef480f",
   "metadata": {},
   "outputs": [
    {
     "ename": "AttributeError",
     "evalue": "type object 'Mubeen' has no attribute 'password'",
     "output_type": "error",
     "traceback": [
      "\u001b[0;31m---------------------------------------------------------------------------\u001b[0m",
      "\u001b[0;31mAttributeError\u001b[0m                            Traceback (most recent call last)",
      "Cell \u001b[0;32mIn [19], line 1\u001b[0m\n\u001b[0;32m----> 1\u001b[0m \u001b[43mMubeen\u001b[49m\u001b[38;5;241;43m.\u001b[39;49m\u001b[43mpassword\u001b[49m\n",
      "\u001b[0;31mAttributeError\u001b[0m: type object 'Mubeen' has no attribute 'password'"
     ]
    }
   ],
   "source": [
    "# variable are deleted\n",
    "Mubeen.password"
   ]
  },
  {
   "cell_type": "markdown",
   "id": "12b61349",
   "metadata": {},
   "source": [
    "# Create Class Variable Outside"
   ]
  },
  {
   "cell_type": "code",
   "execution_count": 21,
   "id": "e7680859",
   "metadata": {},
   "outputs": [],
   "source": [
    "class Person:\n",
    "    pass"
   ]
  },
  {
   "cell_type": "code",
   "execution_count": 22,
   "id": "c1b16187",
   "metadata": {},
   "outputs": [],
   "source": [
    "Person.name = \"Mubeen\""
   ]
  },
  {
   "cell_type": "code",
   "execution_count": 23,
   "id": "1f87bae2",
   "metadata": {},
   "outputs": [
    {
     "data": {
      "text/plain": [
       "'Mubeen'"
      ]
     },
     "execution_count": 23,
     "metadata": {},
     "output_type": "execute_result"
    }
   ],
   "source": [
    "Person.name"
   ]
  },
  {
   "cell_type": "markdown",
   "id": "a636380f",
   "metadata": {},
   "source": [
    "## Use __dict__ to check varialbes"
   ]
  },
  {
   "cell_type": "code",
   "execution_count": 24,
   "id": "36cf0af8",
   "metadata": {},
   "outputs": [
    {
     "data": {
      "text/plain": [
       "'Mubeen'"
      ]
     },
     "execution_count": 24,
     "metadata": {},
     "output_type": "execute_result"
    }
   ],
   "source": [
    "Person.__dict__[\"name\"]"
   ]
  },
  {
   "cell_type": "code",
   "execution_count": 25,
   "id": "c76f93e7",
   "metadata": {},
   "outputs": [
    {
     "data": {
      "text/plain": [
       "mappingproxy({'__module__': '__main__',\n",
       "              '__dict__': <attribute '__dict__' of 'Person' objects>,\n",
       "              '__weakref__': <attribute '__weakref__' of 'Person' objects>,\n",
       "              '__doc__': None,\n",
       "              'name': 'Mubeen'})"
      ]
     },
     "execution_count": 25,
     "metadata": {},
     "output_type": "execute_result"
    }
   ],
   "source": [
    "Person.__dict__"
   ]
  },
  {
   "cell_type": "markdown",
   "id": "1afeda6c",
   "metadata": {},
   "source": [
    "# if you delete the variable/method in dictionary than those variable or method also deleted in actual code"
   ]
  },
  {
   "cell_type": "markdown",
   "id": "001e3398",
   "metadata": {},
   "source": [
    "## Note We can't delete anything with class from outside with `__dict__`"
   ]
  },
  {
   "cell_type": "code",
   "execution_count": 32,
   "id": "0ebd04d2",
   "metadata": {},
   "outputs": [
    {
     "ename": "SyntaxError",
     "evalue": "cannot delete function call (4081810512.py, line 1)",
     "output_type": "error",
     "traceback": [
      "\u001b[0;36m  Cell \u001b[0;32mIn [32], line 1\u001b[0;36m\u001b[0m\n\u001b[0;31m    del Person.__dict__.pop(\"name\")\u001b[0m\n\u001b[0m        ^\u001b[0m\n\u001b[0;31mSyntaxError\u001b[0m\u001b[0;31m:\u001b[0m cannot delete function call\n"
     ]
    }
   ],
   "source": [
    "del Person.__dict__.pop(\"name\")"
   ]
  },
  {
   "cell_type": "code",
   "execution_count": 33,
   "id": "c1492afb",
   "metadata": {},
   "outputs": [],
   "source": [
    "obj = Person()"
   ]
  },
  {
   "cell_type": "code",
   "execution_count": 34,
   "id": "cd173162",
   "metadata": {},
   "outputs": [
    {
     "data": {
      "text/plain": [
       "{}"
      ]
     },
     "execution_count": 34,
     "metadata": {},
     "output_type": "execute_result"
    }
   ],
   "source": [
    "obj.__dict__"
   ]
  },
  {
   "cell_type": "code",
   "execution_count": 35,
   "id": "b7487a65",
   "metadata": {},
   "outputs": [],
   "source": [
    "obj.name = \"Mubeen\""
   ]
  },
  {
   "cell_type": "code",
   "execution_count": 36,
   "id": "fe4094e0",
   "metadata": {},
   "outputs": [
    {
     "data": {
      "text/plain": [
       "{'name': 'Mubeen'}"
      ]
     },
     "execution_count": 36,
     "metadata": {},
     "output_type": "execute_result"
    }
   ],
   "source": [
    "obj.__dict__"
   ]
  },
  {
   "cell_type": "markdown",
   "id": "59c29c0f",
   "metadata": {},
   "source": [
    "# Now delete variable with object `dictionary`"
   ]
  },
  {
   "cell_type": "code",
   "execution_count": 38,
   "id": "4b8f0ccc",
   "metadata": {},
   "outputs": [
    {
     "data": {
      "text/plain": [
       "'Mubeen'"
      ]
     },
     "execution_count": 38,
     "metadata": {},
     "output_type": "execute_result"
    }
   ],
   "source": [
    "obj.__dict__.pop('name')"
   ]
  },
  {
   "cell_type": "code",
   "execution_count": 39,
   "id": "7adfe612",
   "metadata": {},
   "outputs": [
    {
     "data": {
      "text/plain": [
       "{}"
      ]
     },
     "execution_count": 39,
     "metadata": {},
     "output_type": "execute_result"
    }
   ],
   "source": [
    "obj.__dict__"
   ]
  }
 ],
 "metadata": {
  "kernelspec": {
   "display_name": "Python 3 (ipykernel)",
   "language": "python",
   "name": "python3"
  },
  "language_info": {
   "codemirror_mode": {
    "name": "ipython",
    "version": 3
   },
   "file_extension": ".py",
   "mimetype": "text/x-python",
   "name": "python",
   "nbconvert_exporter": "python",
   "pygments_lexer": "ipython3",
   "version": "3.10.6"
  }
 },
 "nbformat": 4,
 "nbformat_minor": 5
}

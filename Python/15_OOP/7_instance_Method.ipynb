{
 "cells": [
  {
   "cell_type": "markdown",
   "id": "070d0ef7",
   "metadata": {},
   "source": [
    "### In Object-oriented programming, Inside a Class, we can define the following three types of methods.\n",
    "\n",
    "<br>\n",
    "\n",
    "<img src=\"../../images/mtd.jpg\" style=\" display: block;\n",
    "  margin-left: auto;\n",
    "  margin-right: auto;\n",
    "  width: 50%; border-radius:10px 10px 10px 10px;\">"
   ]
  },
  {
   "cell_type": "markdown",
   "id": "dbab283f",
   "metadata": {},
   "source": [
    "# KeyPoints\n",
    "<br>\n",
    "\n",
    "<h3 style=\"color:#4e2abd;\">\n",
    "    \n",
    "• What is instance method <br>\n",
    ". Modify instance variable<br>\n",
    ". Add a new Variable<br>\n",
    ". Add a instance function outside the class<br>\n",
    ". When adding a instance Method; accept Class or instance object ? <br>\n",
    "</h3>"
   ]
  },
  {
   "cell_type": "markdown",
   "id": "2d103e17",
   "metadata": {},
   "source": [
    "# Instance Method\n",
    "<br>\n",
    "\n",
    "* ###     A instance method is bound to the object of the class.\n",
    "<br>\n",
    "\n",
    "* ###    It can access or modify the object state by changing the value of a instance variables"
   ]
  },
  {
   "cell_type": "code",
   "execution_count": 2,
   "id": "8af1b1ea",
   "metadata": {},
   "outputs": [],
   "source": [
    "class Person:\n",
    "    \n",
    "    # Constructor\n",
    "    def __init__(self,fname,lname):\n",
    "        \n",
    "        # instance variables\n",
    "        self.fname = fname\n",
    "        self.lname = lname\n",
    "        \n",
    "    # instance method\n",
    "    def full_name(self):\n",
    "        print(self.fname,self.lname)"
   ]
  },
  {
   "cell_type": "code",
   "execution_count": 3,
   "id": "cc8c86ce",
   "metadata": {},
   "outputs": [
    {
     "name": "stdout",
     "output_type": "stream",
     "text": [
      "Mubeen Ahmad\n"
     ]
    }
   ],
   "source": [
    "s1 = Person(\"Mubeen\",\"Ahmad\")\n",
    "s1.full_name()"
   ]
  },
  {
   "cell_type": "markdown",
   "id": "8da12e4f",
   "metadata": {},
   "source": [
    "# Modify Instance Variables inside Instance Method"
   ]
  },
  {
   "cell_type": "code",
   "execution_count": 9,
   "id": "18122993",
   "metadata": {},
   "outputs": [],
   "source": [
    "class Person:\n",
    "    \n",
    "    # Constructor\n",
    "    def __init__(self,fname,lname):\n",
    "        \n",
    "        # instance variables\n",
    "        self.fname = fname\n",
    "        self.lname = lname\n",
    "        \n",
    "    # instance method\n",
    "    def full_name(self):\n",
    "        print(self.fname,self.lname)\n",
    "        \n",
    "    def update(self,fname,lname):\n",
    "        self.fname = fname\n",
    "        self.lname = lname\n"
   ]
  },
  {
   "cell_type": "code",
   "execution_count": 10,
   "id": "2d26a54f",
   "metadata": {},
   "outputs": [
    {
     "name": "stdout",
     "output_type": "stream",
     "text": [
      "Mubeen Ahmad\n"
     ]
    }
   ],
   "source": [
    "s1 = Person(\"Mubeen\",\"Ahmad\")\n",
    "s1.full_name()"
   ]
  },
  {
   "cell_type": "code",
   "execution_count": 11,
   "id": "ffe9cb83",
   "metadata": {},
   "outputs": [],
   "source": [
    "s1.update(\"Imran\",\"Nadeem\")"
   ]
  },
  {
   "cell_type": "code",
   "execution_count": 12,
   "id": "bc4bbe43",
   "metadata": {},
   "outputs": [
    {
     "name": "stdout",
     "output_type": "stream",
     "text": [
      "Imran Nadeem\n"
     ]
    }
   ],
   "source": [
    "s1.full_name()"
   ]
  },
  {
   "cell_type": "markdown",
   "id": "9e70af77",
   "metadata": {},
   "source": [
    "# Add Instance Variables in Instance Method"
   ]
  },
  {
   "cell_type": "code",
   "execution_count": 23,
   "id": "3bb8396d",
   "metadata": {},
   "outputs": [],
   "source": [
    "class Student:\n",
    "    \n",
    "    # constructor\n",
    "    def __init__(self,name):\n",
    "        self.name = name\n",
    "    \n",
    "    # add new variable\n",
    "    def add_var(self,lname):\n",
    "        self.name = self.name +\" \"+lname"
   ]
  },
  {
   "cell_type": "code",
   "execution_count": 29,
   "id": "4c4a1b3d",
   "metadata": {},
   "outputs": [],
   "source": [
    "s1 = Student(\"Mubeen\")"
   ]
  },
  {
   "cell_type": "code",
   "execution_count": 30,
   "id": "d80fe463",
   "metadata": {},
   "outputs": [
    {
     "data": {
      "text/plain": [
       "'Mubeen'"
      ]
     },
     "execution_count": 30,
     "metadata": {},
     "output_type": "execute_result"
    }
   ],
   "source": [
    "s1.name"
   ]
  },
  {
   "cell_type": "code",
   "execution_count": 31,
   "id": "75424e5e",
   "metadata": {},
   "outputs": [],
   "source": [
    "s1.add_var(\"Ahmad\")"
   ]
  },
  {
   "cell_type": "code",
   "execution_count": 32,
   "id": "a353e13c",
   "metadata": {},
   "outputs": [
    {
     "data": {
      "text/plain": [
       "'Mubeen Ahmad'"
      ]
     },
     "execution_count": 32,
     "metadata": {},
     "output_type": "execute_result"
    }
   ],
   "source": [
    "s1.name"
   ]
  },
  {
   "cell_type": "markdown",
   "id": "ff534f6b",
   "metadata": {},
   "source": [
    "# Dynamically Add Instance Method to a Object"
   ]
  },
  {
   "cell_type": "code",
   "execution_count": 201,
   "id": "092c1f1e",
   "metadata": {},
   "outputs": [],
   "source": [
    "class Person:\n",
    "        \n",
    "    def __init__(self,fname,lname):\n",
    "        self.fname = fname\n",
    "        self.lname= lname\n"
   ]
  },
  {
   "cell_type": "code",
   "execution_count": 202,
   "id": "ca244cc4",
   "metadata": {},
   "outputs": [],
   "source": [
    "obj1 = Person(\"Mubeen\",\"Ahmad\")"
   ]
  },
  {
   "cell_type": "code",
   "execution_count": 203,
   "id": "f3fd2856",
   "metadata": {},
   "outputs": [
    {
     "name": "stdout",
     "output_type": "stream",
     "text": [
      "Mubeen\n",
      "Ahmad\n"
     ]
    }
   ],
   "source": [
    "print(obj1.fname)\n",
    "print(obj1.lname)"
   ]
  },
  {
   "cell_type": "code",
   "execution_count": 205,
   "id": "7a2702c6",
   "metadata": {},
   "outputs": [],
   "source": [
    "## how to add a method ? \n",
    "## can we add with = operator same as classmethod() ?\n",
    "\n",
    "def full_name(self):\n",
    "    return self.fname+\" \"+self.lname\n"
   ]
  },
  {
   "cell_type": "code",
   "execution_count": 206,
   "id": "3e93ccbe",
   "metadata": {},
   "outputs": [],
   "source": [
    "# try to add with = operator\n",
    "\n",
    "Person.full_name = classmethod(full_name)"
   ]
  },
  {
   "cell_type": "code",
   "execution_count": 208,
   "id": "fe442027",
   "metadata": {},
   "outputs": [
    {
     "ename": "AttributeError",
     "evalue": "type object 'Person' has no attribute 'fname'",
     "output_type": "error",
     "traceback": [
      "\u001b[0;31m---------------------------------------------------------------------------\u001b[0m",
      "\u001b[0;31mAttributeError\u001b[0m                            Traceback (most recent call last)",
      "Cell \u001b[0;32mIn [208], line 1\u001b[0m\n\u001b[0;32m----> 1\u001b[0m \u001b[43mobj1\u001b[49m\u001b[38;5;241;43m.\u001b[39;49m\u001b[43mfull_name\u001b[49m\u001b[43m(\u001b[49m\u001b[43m)\u001b[49m\n",
      "Cell \u001b[0;32mIn [205], line 5\u001b[0m, in \u001b[0;36mfull_name\u001b[0;34m(self)\u001b[0m\n\u001b[1;32m      4\u001b[0m \u001b[38;5;28;01mdef\u001b[39;00m \u001b[38;5;21mfull_name\u001b[39m(\u001b[38;5;28mself\u001b[39m):\n\u001b[0;32m----> 5\u001b[0m     \u001b[38;5;28;01mreturn\u001b[39;00m \u001b[38;5;28;43mself\u001b[39;49m\u001b[38;5;241;43m.\u001b[39;49m\u001b[43mfname\u001b[49m\u001b[38;5;241m+\u001b[39m\u001b[38;5;124m\"\u001b[39m\u001b[38;5;124m \u001b[39m\u001b[38;5;124m\"\u001b[39m\u001b[38;5;241m+\u001b[39m\u001b[38;5;28mself\u001b[39m\u001b[38;5;241m.\u001b[39mlname\n",
      "\u001b[0;31mAttributeError\u001b[0m: type object 'Person' has no attribute 'fname'"
     ]
    }
   ],
   "source": [
    "obj1.full_name()"
   ]
  },
  {
   "cell_type": "markdown",
   "id": "ceccff1f",
   "metadata": {},
   "source": [
    "## Raise the error because classmethod find the variable in class\n",
    "<br>\n",
    "\n",
    "## and i use classmethod()"
   ]
  },
  {
   "cell_type": "markdown",
   "id": "cd70b06f",
   "metadata": {},
   "source": [
    "<br>\n",
    "\n",
    "# Use types module for add new instance method\n",
    "\n",
    "<br>\n",
    "\n",
    "### MethodType(function, instance)"
   ]
  },
  {
   "cell_type": "code",
   "execution_count": 209,
   "id": "f82228dd",
   "metadata": {},
   "outputs": [],
   "source": [
    "def full_name(self):\n",
    "    return self.fname+\" \"+self.lname\n"
   ]
  },
  {
   "cell_type": "code",
   "execution_count": 210,
   "id": "c4b42704",
   "metadata": {},
   "outputs": [],
   "source": [
    "import types\n",
    "obj1.full_name = types.MethodType(full_name,obj1)"
   ]
  },
  {
   "cell_type": "code",
   "execution_count": 211,
   "id": "6b205355",
   "metadata": {},
   "outputs": [
    {
     "data": {
      "text/plain": [
       "'Mubeen Ahmad'"
      ]
     },
     "execution_count": 211,
     "metadata": {},
     "output_type": "execute_result"
    }
   ],
   "source": [
    "obj1.full_name()"
   ]
  },
  {
   "cell_type": "markdown",
   "id": "0359d1bb",
   "metadata": {},
   "source": [
    "## We can set any name"
   ]
  },
  {
   "cell_type": "code",
   "execution_count": 212,
   "id": "06320b76",
   "metadata": {},
   "outputs": [],
   "source": [
    "obj1.get_name = types.MethodType(full_name,obj1)"
   ]
  },
  {
   "cell_type": "code",
   "execution_count": 213,
   "id": "47b1bc58",
   "metadata": {},
   "outputs": [
    {
     "data": {
      "text/plain": [
       "'Mubeen Ahmad'"
      ]
     },
     "execution_count": 213,
     "metadata": {},
     "output_type": "execute_result"
    }
   ],
   "source": [
    "obj1.get_name()"
   ]
  },
  {
   "cell_type": "markdown",
   "id": "e5361421",
   "metadata": {},
   "source": [
    "# Note in instance Method we cant pass the class when we add a method"
   ]
  },
  {
   "cell_type": "code",
   "execution_count": 260,
   "id": "f071ee48",
   "metadata": {},
   "outputs": [],
   "source": [
    "class Student:\n",
    "    \n",
    "    def __init__(self):\n",
    "        self.name = 'Mubeen'"
   ]
  },
  {
   "cell_type": "code",
   "execution_count": 261,
   "id": "0063498e",
   "metadata": {},
   "outputs": [],
   "source": [
    "def change_name(self):\n",
    "    self.name = \"Ali\""
   ]
  },
  {
   "cell_type": "code",
   "execution_count": 262,
   "id": "e8bb061d",
   "metadata": {},
   "outputs": [
    {
     "data": {
      "text/plain": [
       "'Mubeen'"
      ]
     },
     "execution_count": 262,
     "metadata": {},
     "output_type": "execute_result"
    }
   ],
   "source": [
    "obj = Student()\n",
    "obj.name"
   ]
  },
  {
   "cell_type": "code",
   "execution_count": 263,
   "id": "e01569df",
   "metadata": {},
   "outputs": [],
   "source": [
    "obj.ch_name = types.MethodType(change_name,Person)"
   ]
  },
  {
   "cell_type": "code",
   "execution_count": 264,
   "id": "3c6a1192",
   "metadata": {},
   "outputs": [],
   "source": [
    "obj.ch_name()"
   ]
  },
  {
   "cell_type": "code",
   "execution_count": 266,
   "id": "829a7282",
   "metadata": {},
   "outputs": [
    {
     "name": "stdout",
     "output_type": "stream",
     "text": [
      "Mubeen\n"
     ]
    }
   ],
   "source": [
    "print(obj.name)\n",
    "# name cant change"
   ]
  },
  {
   "cell_type": "code",
   "execution_count": 267,
   "id": "cc0f2efa",
   "metadata": {},
   "outputs": [],
   "source": [
    "# now use instance object instead of class\n",
    "\n",
    "obj.ch_name = types.MethodType(change_name,obj)"
   ]
  },
  {
   "cell_type": "code",
   "execution_count": 268,
   "id": "35ac20cc",
   "metadata": {},
   "outputs": [],
   "source": [
    "obj.ch_name()"
   ]
  },
  {
   "cell_type": "code",
   "execution_count": 271,
   "id": "98564455",
   "metadata": {},
   "outputs": [
    {
     "data": {
      "text/plain": [
       "'Ali'"
      ]
     },
     "execution_count": 271,
     "metadata": {},
     "output_type": "execute_result"
    }
   ],
   "source": [
    "obj.name\n",
    "# now name are change"
   ]
  }
 ],
 "metadata": {
  "kernelspec": {
   "display_name": "Python 3 (ipykernel)",
   "language": "python",
   "name": "python3"
  },
  "language_info": {
   "codemirror_mode": {
    "name": "ipython",
    "version": 3
   },
   "file_extension": ".py",
   "mimetype": "text/x-python",
   "name": "python",
   "nbconvert_exporter": "python",
   "pygments_lexer": "ipython3",
   "version": "3.10.6"
  }
 },
 "nbformat": 4,
 "nbformat_minor": 5
}

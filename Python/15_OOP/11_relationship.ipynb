{
 "cells": [
  {
   "cell_type": "markdown",
   "id": "703dd069",
   "metadata": {},
   "source": [
    "<h1 style=\"color:#5d2ade;text-align:center;\"><br><br>\n",
    "<b><i>Inheritance, association, composition, and aggregation</i></b> <br><br>are all concepts that relate to the relationships that can exist between objects in object-oriented programming (OOP). <br><br>These relationships can be defined using various OOP concepts such as inheritance, association, composition, and aggregation.</h1>\n",
    "<br><br>\n",
    "</h1>\n",
    "<img src=\"../../images/rel.png\" style=\"display: block;margin-left: auto;margin-right: auto;\n",
    "  width: 70%; border-radius:15px 10px 10px 10px;\">\n",
    "\n"
   ]
  },
  {
   "cell_type": "markdown",
   "id": "a8220f6a",
   "metadata": {},
   "source": [
    "# Inheritance\n",
    "<br><br>\n",
    "<h2 style=\"color:#5d2ade\">Inheritance is a way for a class (the subclass) to inherit characteristics and behavior from another class (the superclass). <br><br>In Python, this is done using the class SubClass(SuperClass): </h2>"
   ]
  },
  {
   "cell_type": "code",
   "execution_count": 231,
   "id": "0009eee1",
   "metadata": {},
   "outputs": [],
   "source": [
    "class Pet:\n",
    "    def __init__(self, name, species):\n",
    "        self.name = name\n",
    "        self.species = species\n",
    "\n",
    "    def make_sound(self):\n",
    "        print(\"Some generic sound\")\n"
   ]
  },
  {
   "cell_type": "code",
   "execution_count": 223,
   "id": "437653e3",
   "metadata": {},
   "outputs": [],
   "source": [
    "class Dog(Pet):\n",
    "    def __init__(self, name, breed):\n",
    "        super().__init__(name, species=\"Dog\")\n",
    "        self.breed = breed\n",
    "\n",
    "    def make_sound(self):\n",
    "        print(\"Woof!\")\n"
   ]
  },
  {
   "cell_type": "code",
   "execution_count": 230,
   "id": "f1d1dd81",
   "metadata": {},
   "outputs": [
    {
     "name": "stdout",
     "output_type": "stream",
     "text": [
      "Fido\n"
     ]
    }
   ],
   "source": [
    "dog1 = Dog(\"Fido\", \"Labrador\")\n",
    "print(dog1.name)"
   ]
  },
  {
   "cell_type": "code",
   "execution_count": 229,
   "id": "55fe0dd1",
   "metadata": {},
   "outputs": [
    {
     "name": "stdout",
     "output_type": "stream",
     "text": [
      "Dog\n"
     ]
    }
   ],
   "source": [
    "print(dog1.species)"
   ]
  },
  {
   "cell_type": "code",
   "execution_count": 227,
   "id": "c8230d36",
   "metadata": {},
   "outputs": [
    {
     "name": "stdout",
     "output_type": "stream",
     "text": [
      "Labrador\n"
     ]
    }
   ],
   "source": [
    "print(dog1.breed)"
   ]
  },
  {
   "cell_type": "code",
   "execution_count": 228,
   "id": "d044dd46",
   "metadata": {},
   "outputs": [
    {
     "name": "stdout",
     "output_type": "stream",
     "text": [
      "Woof!\n"
     ]
    }
   ],
   "source": [
    "dog1.make_sound()"
   ]
  },
  {
   "cell_type": "markdown",
   "id": "baf53ead",
   "metadata": {},
   "source": [
    "<h3 style=\"text-align:center;\">In this example, \n",
    "the Dog class is a subclass of the Pet class, and it inherits the name and species attributes as well as the make_sound() method from the Pet class. <br><br>The Dog class also has its own breed attribute and its own implementation of the make_sound() method, which overrides the one from the Pet class.</h3>"
   ]
  },
  {
   "cell_type": "markdown",
   "id": "651c12ce",
   "metadata": {},
   "source": [
    "# Association\n",
    "<br><br>\n",
    "<h2 style=\"color:#5d2ade\">\n",
    "Association is a relationship between two classes where one class has a reference to an instance of the other class. <br><br>This can be implemented in Python by creating an instance of the other class as an attribute of the first class.</h2>"
   ]
  },
  {
   "cell_type": "code",
   "execution_count": 232,
   "id": "335acb1d",
   "metadata": {},
   "outputs": [],
   "source": [
    "class Engine:\n",
    "    def __init__(self, horsepower):\n",
    "        self.horsepower = horsepower"
   ]
  },
  {
   "cell_type": "code",
   "execution_count": 235,
   "id": "3aa920f5",
   "metadata": {},
   "outputs": [
    {
     "name": "stdout",
     "output_type": "stream",
     "text": [
      "250\n"
     ]
    }
   ],
   "source": [
    "engine = Engine(250)\n",
    "print(engine.horsepower)"
   ]
  },
  {
   "cell_type": "code",
   "execution_count": 237,
   "id": "6b5ed16b",
   "metadata": {},
   "outputs": [],
   "source": [
    "class Car:\n",
    "    def __init__(self, make, model, engine):\n",
    "        self.make = make\n",
    "        self.model = model\n",
    "        self.engine = engine"
   ]
  },
  {
   "cell_type": "code",
   "execution_count": 238,
   "id": "ad93ebba",
   "metadata": {},
   "outputs": [],
   "source": [
    "car = Car(\"Ford\", \"Mustang\", engine)"
   ]
  },
  {
   "cell_type": "code",
   "execution_count": 239,
   "id": "123ad8e9",
   "metadata": {},
   "outputs": [
    {
     "name": "stdout",
     "output_type": "stream",
     "text": [
      "250\n"
     ]
    }
   ],
   "source": [
    "print(car.engine.horsepower)"
   ]
  },
  {
   "cell_type": "markdown",
   "id": "6c5a4c7c",
   "metadata": {},
   "source": [
    "<h3 style=\"text-align:center;\">In this example, the Car class has an association with the Engine class because it has a reference to an instance of the Engine class as the engine attribute.</h3>"
   ]
  },
  {
   "cell_type": "markdown",
   "id": "2b550a59",
   "metadata": {},
   "source": [
    "# Composition\n",
    "<br>\n",
    "\n",
    "<h2 style=\"color:#5d2ade\">Composition is a special type of <b>association</b> in which one class is composed of one or more instances of other classes. <br><br>This can be implemented in Python by creating instances of the other classes as attributes of the first class in its __init__() method.</h2>"
   ]
  },
  {
   "cell_type": "code",
   "execution_count": 240,
   "id": "630e5d63",
   "metadata": {},
   "outputs": [],
   "source": [
    "class Tire:\n",
    "    def __init__(self, size, tread):\n",
    "        self.size = size\n",
    "        self.tread = tread\n"
   ]
  },
  {
   "cell_type": "code",
   "execution_count": 242,
   "id": "7f57e86c",
   "metadata": {},
   "outputs": [],
   "source": [
    "class Car:\n",
    "    def __init__(self, make, model):\n",
    "        self.make = make\n",
    "        self.model = model\n",
    "        self.tires = [Tire(\"P235/65R17\", \"All-Season\"), Tire(\"P235/65R17\", \"All-Season\"), Tire(\"P235/65R17\", \"All-Season\"), Tire(\"P235/65R17\", \"All-Season\")]\n"
   ]
  },
  {
   "cell_type": "code",
   "execution_count": 243,
   "id": "c2db4ec3",
   "metadata": {},
   "outputs": [],
   "source": [
    "car = Car(\"Ford\", \"Mustang\")\n"
   ]
  },
  {
   "cell_type": "code",
   "execution_count": 244,
   "id": "812a7aa8",
   "metadata": {},
   "outputs": [
    {
     "name": "stdout",
     "output_type": "stream",
     "text": [
      "P235/65R17 All-Season tire\n",
      "P235/65R17 All-Season tire\n",
      "P235/65R17 All-Season tire\n",
      "P235/65R17 All-Season tire\n"
     ]
    }
   ],
   "source": [
    "for tire in car.tires:\n",
    "    print(f\"{tire.size} {tire.tread} tire\")\n"
   ]
  },
  {
   "cell_type": "markdown",
   "id": "ab65ac55",
   "metadata": {},
   "source": [
    "<h2 style=\"text-align:center;\"> In this example, the Car class is composed of four instances of the Tire class. When we create an instance of the Car class, <br><br>it creates four instances of the Tire class and stores them in the tires attribute. <br><br>We can then access the individual Tire instances through the car.tires attribute.</h2>"
   ]
  },
  {
   "cell_type": "markdown",
   "id": "0d13b6af",
   "metadata": {},
   "source": [
    "# Aggregation\n",
    "<br><br>\n",
    "\n",
    "<h2 style=\"color:#5d2ade\">Aggregation is a relationship between two classes where one class (the aggregate class) contains a reference to one or more instances of the other class (the component class). <br><br>Unlike composition, the component class instances can exist independently of the aggregate class.</h2>"
   ]
  },
  {
   "cell_type": "code",
   "execution_count": 245,
   "id": "d49638e3",
   "metadata": {},
   "outputs": [],
   "source": [
    "class Engine:\n",
    "    def __init__(self, horsepower):\n",
    "        self.horsepower = horsepower\n"
   ]
  },
  {
   "cell_type": "code",
   "execution_count": 246,
   "id": "fcf8f7c7",
   "metadata": {},
   "outputs": [],
   "source": [
    "class Car:\n",
    "    def __init__(self, make, model, engine):\n",
    "        self.make = make\n",
    "        self.model = model\n",
    "        self.engine = engine\n"
   ]
  },
  {
   "cell_type": "code",
   "execution_count": 247,
   "id": "f63acc1f",
   "metadata": {},
   "outputs": [],
   "source": [
    "engine = Engine(250)\n",
    "car = Car(\"Ford\", \"Mustang\", engine)"
   ]
  },
  {
   "cell_type": "code",
   "execution_count": 250,
   "id": "ac3ecd13",
   "metadata": {},
   "outputs": [
    {
     "name": "stdout",
     "output_type": "stream",
     "text": [
      "Ford\n",
      "Mustang\n",
      "250\n"
     ]
    }
   ],
   "source": [
    "print(car.make)\n",
    "print(car.model)\n",
    "print(car.engine.horsepower)"
   ]
  },
  {
   "cell_type": "markdown",
   "id": "9aa023cf",
   "metadata": {},
   "source": [
    "<h3 style=\"text-align:center;\">In this example, the Car class is the aggregate class and the Engine class is the component class.<br><br> The Car class has a reference to an instance of the Engine class as the engine attribute, but the Engine instance can exist independently of the Car instance.</h3><br><br>"
   ]
  },
  {
   "cell_type": "markdown",
   "id": "9689e136",
   "metadata": {},
   "source": [
    "## We can also create multiple Car instances that share the same Engine instance, like this:"
   ]
  },
  {
   "cell_type": "code",
   "execution_count": 251,
   "id": "052c1346",
   "metadata": {},
   "outputs": [],
   "source": [
    "engine = Engine(250)\n",
    "car1 = Car(\"Ford\", \"Mustang\", engine)\n",
    "car2 = Car(\"Chevrolet\", \"Camaro\", engine)"
   ]
  },
  {
   "cell_type": "code",
   "execution_count": 252,
   "id": "b130ac1d",
   "metadata": {},
   "outputs": [
    {
     "name": "stdout",
     "output_type": "stream",
     "text": [
      "Ford Mustang 250\n",
      "Chevrolet Camaro 250\n"
     ]
    }
   ],
   "source": [
    "print(car1.make,car1.model,car1.engine.horsepower)\n",
    "print(car2.make,car2.model,car2.engine.horsepower)"
   ]
  }
 ],
 "metadata": {
  "kernelspec": {
   "display_name": "Python 3 (ipykernel)",
   "language": "python",
   "name": "python3"
  },
  "language_info": {
   "codemirror_mode": {
    "name": "ipython",
    "version": 3
   },
   "file_extension": ".py",
   "mimetype": "text/x-python",
   "name": "python",
   "nbconvert_exporter": "python",
   "pygments_lexer": "ipython3",
   "version": "3.10.6"
  }
 },
 "nbformat": 4,
 "nbformat_minor": 5
}

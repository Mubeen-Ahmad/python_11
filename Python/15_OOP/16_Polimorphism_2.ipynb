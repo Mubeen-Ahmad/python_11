{
 "cells": [
  {
   "cell_type": "markdown",
   "id": "993bd445",
   "metadata": {},
   "source": [
    "# Methods Overloading"
   ]
  },
  {
   "cell_type": "markdown",
   "id": "507303af",
   "metadata": {},
   "source": [
    "<br>\n",
    "\n",
    "## When more than one method with the same name is defined in the same class, it is know as method overloading\n",
    "<br>\n",
    "\n",
    "## In python, if a method is writen such that it can perform more than one task , it is called method overloading"
   ]
  },
  {
   "cell_type": "markdown",
   "id": "28409f6e",
   "metadata": {},
   "source": [
    "<img src=\"../../images/poli_over.jpg\" style=\"display: block;margin-left: auto;margin-right: auto;\n",
    "  width: 70%; border-radius:0px 10px 10px 10px; height:700px;\">\n"
   ]
  },
  {
   "cell_type": "code",
   "execution_count": 1,
   "id": "4a2c8656",
   "metadata": {},
   "outputs": [],
   "source": [
    "class Cls: \n",
    "    \n",
    "    def value(self,n):\n",
    "        self.n = n\n",
    "        return n+1\n",
    "    \n",
    "    def value(self,n):\n",
    "        self.n = n\n",
    "        return n+2\n",
    "\n",
    "obj = Cls()"
   ]
  },
  {
   "cell_type": "code",
   "execution_count": 2,
   "id": "dd979016",
   "metadata": {},
   "outputs": [
    {
     "data": {
      "text/plain": [
       "3"
      ]
     },
     "execution_count": 2,
     "metadata": {},
     "output_type": "execute_result"
    }
   ],
   "source": [
    "obj.value(1)\n",
    "\n",
    "# here output is 3 because 2nd value method are overload"
   ]
  },
  {
   "cell_type": "markdown",
   "id": "9bc25b15",
   "metadata": {},
   "source": [
    "## it same like that"
   ]
  },
  {
   "cell_type": "code",
   "execution_count": 3,
   "id": "ab8af122",
   "metadata": {},
   "outputs": [
    {
     "name": "stdout",
     "output_type": "stream",
     "text": [
      "2\n"
     ]
    }
   ],
   "source": [
    "x = 1\n",
    "x = 2\n",
    "\n",
    "print(x)"
   ]
  },
  {
   "cell_type": "markdown",
   "id": "a3bcbac5",
   "metadata": {},
   "source": [
    "# Example 2"
   ]
  },
  {
   "cell_type": "code",
   "execution_count": 40,
   "id": "967aeda4",
   "metadata": {},
   "outputs": [],
   "source": [
    "class Integer:\n",
    "    \n",
    "    def add(self,x,y):\n",
    "        return x + y\n"
   ]
  },
  {
   "cell_type": "code",
   "execution_count": 42,
   "id": "8705747f",
   "metadata": {},
   "outputs": [
    {
     "data": {
      "text/plain": [
       "3"
      ]
     },
     "execution_count": 42,
     "metadata": {},
     "output_type": "execute_result"
    }
   ],
   "source": [
    "obj = Integer()\n",
    "obj.add(1,2)"
   ]
  },
  {
   "cell_type": "code",
   "execution_count": 44,
   "id": "a39f3d23",
   "metadata": {},
   "outputs": [
    {
     "ename": "TypeError",
     "evalue": "Integer.add() missing 2 required positional arguments: 'x' and 'y'",
     "output_type": "error",
     "traceback": [
      "\u001b[0;31m---------------------------------------------------------------------------\u001b[0m",
      "\u001b[0;31mTypeError\u001b[0m                                 Traceback (most recent call last)",
      "Cell \u001b[0;32mIn [44], line 1\u001b[0m\n\u001b[0;32m----> 1\u001b[0m \u001b[43mobj\u001b[49m\u001b[38;5;241;43m.\u001b[39;49m\u001b[43madd\u001b[49m\u001b[43m(\u001b[49m\u001b[43m)\u001b[49m\n",
      "\u001b[0;31mTypeError\u001b[0m: Integer.add() missing 2 required positional arguments: 'x' and 'y'"
     ]
    }
   ],
   "source": [
    "obj.add()"
   ]
  },
  {
   "cell_type": "markdown",
   "id": "8954d19f",
   "metadata": {},
   "source": [
    "## Use Default data type"
   ]
  },
  {
   "cell_type": "code",
   "execution_count": 45,
   "id": "35669567",
   "metadata": {},
   "outputs": [],
   "source": [
    "class Integer:\n",
    "    \n",
    "    def add(self,x=None,y=None):\n",
    "        \n",
    "        if x==None and y == None:\n",
    "            print(\"provide two numbers\")\n",
    "        \n",
    "        elif ( type(x) == int ) and ( type(y) == int ):\n",
    "            print(x+y)\n",
    "        \n",
    "        else :\n",
    "            print(\"Invalid Parameter\")\n",
    "        \n",
    "            \n",
    "obj = Integer()"
   ]
  },
  {
   "cell_type": "code",
   "execution_count": 46,
   "id": "d6134eb1",
   "metadata": {},
   "outputs": [
    {
     "name": "stdout",
     "output_type": "stream",
     "text": [
      "provide two numbers\n"
     ]
    }
   ],
   "source": [
    "obj.add()"
   ]
  },
  {
   "cell_type": "code",
   "execution_count": 47,
   "id": "0131c8be",
   "metadata": {},
   "outputs": [
    {
     "name": "stdout",
     "output_type": "stream",
     "text": [
      "2\n"
     ]
    }
   ],
   "source": [
    "obj.add(1,1)"
   ]
  },
  {
   "cell_type": "code",
   "execution_count": 48,
   "id": "58c0c1fa",
   "metadata": {},
   "outputs": [
    {
     "name": "stdout",
     "output_type": "stream",
     "text": [
      "Invalid Parameter\n"
     ]
    }
   ],
   "source": [
    "obj.add(1,\"s\")"
   ]
  },
  {
   "cell_type": "markdown",
   "id": "a0be7c84",
   "metadata": {},
   "source": [
    "# Method Overriding\n"
   ]
  },
  {
   "cell_type": "markdown",
   "id": "4dea114c",
   "metadata": {},
   "source": [
    "\n",
    "## if we write method in the both classed, parent class and child class then the parent class's method is not avilable to the child class\n",
    "<br>\n",
    "\n",
    "## In this case only child class's method is accessible which means child class's method is replacing parent class's method.\n",
    "<br>\n",
    "\n",
    "## Method overriding is used when programmer want to modify the existing behavior of a Method"
   ]
  },
  {
   "cell_type": "markdown",
   "id": "5206386a",
   "metadata": {},
   "source": [
    "<img src=\"../../images/overrid.jpg\" style=\"display: block;margin-left: auto;margin-right: auto;\n",
    "  width: 70%; border-radius:0px 10px 10px 10px; height:700px;\">\n"
   ]
  },
  {
   "cell_type": "code",
   "execution_count": 49,
   "id": "4aa661db",
   "metadata": {},
   "outputs": [],
   "source": [
    "class Add:\n",
    "    \n",
    "    def result(self,a,b):\n",
    "        print(\"Addition \",a+b)\n"
   ]
  },
  {
   "cell_type": "code",
   "execution_count": 50,
   "id": "b7202896",
   "metadata": {},
   "outputs": [],
   "source": [
    "class Multi(Add):\n",
    "    \n",
    "    def result(self,a,b):\n",
    "        print(\"Multiplication \",a*b)\n"
   ]
  },
  {
   "cell_type": "code",
   "execution_count": 70,
   "id": "f72d8ac7",
   "metadata": {},
   "outputs": [
    {
     "name": "stdout",
     "output_type": "stream",
     "text": [
      "Multiplication  6\n"
     ]
    }
   ],
   "source": [
    "obj = Multi()\n",
    "obj.result(3,2)"
   ]
  },
  {
   "cell_type": "markdown",
   "id": "46a4336a",
   "metadata": {},
   "source": [
    "# if the method are not exist in father class than child Method called itself"
   ]
  },
  {
   "cell_type": "code",
   "execution_count": 68,
   "id": "32176c7b",
   "metadata": {},
   "outputs": [],
   "source": [
    "class Add:\n",
    "    pass"
   ]
  },
  {
   "cell_type": "code",
   "execution_count": 69,
   "id": "2e255e69",
   "metadata": {},
   "outputs": [],
   "source": [
    "class Multi(Add):\n",
    "    def result(self,a,b):\n",
    "        print(\"Multiplication \",a*b)\n"
   ]
  },
  {
   "cell_type": "code",
   "execution_count": 71,
   "id": "ae879ecb",
   "metadata": {},
   "outputs": [
    {
     "name": "stdout",
     "output_type": "stream",
     "text": [
      "Multiplication  6\n"
     ]
    }
   ],
   "source": [
    "obj = Multi()\n",
    "obj.result(3,2)"
   ]
  },
  {
   "cell_type": "markdown",
   "id": "b0aecda6",
   "metadata": {},
   "source": [
    "### if we used Father class method than use super method"
   ]
  },
  {
   "cell_type": "code",
   "execution_count": 52,
   "id": "d1e50156",
   "metadata": {},
   "outputs": [],
   "source": [
    "class Add:\n",
    "    \n",
    "    def result(self,a,b):\n",
    "        print(\"Addition \",a+b)\n"
   ]
  },
  {
   "cell_type": "code",
   "execution_count": 66,
   "id": "17fff71c",
   "metadata": {},
   "outputs": [],
   "source": [
    "class Multi(Add):\n",
    "    \n",
    "    def result(self,a,b):\n",
    "        super().result(a,b)\n",
    "        print(\"Multiplication \",a*b)\n"
   ]
  },
  {
   "cell_type": "code",
   "execution_count": 67,
   "id": "68935457",
   "metadata": {},
   "outputs": [
    {
     "name": "stdout",
     "output_type": "stream",
     "text": [
      "Addition  5\n",
      "Multiplication  6\n"
     ]
    }
   ],
   "source": [
    "obj = Multi()\n",
    "obj.result(3,2)"
   ]
  },
  {
   "cell_type": "markdown",
   "id": "b3ff20b6",
   "metadata": {},
   "source": [
    "# Operator Overloading\n",
    "<br>\n",
    "\n",
    "## if any operator performs additional actions other than what it is meant for , it is called operator overloading\n",
    "<br>\n",
    "\n",
    "# Example"
   ]
  },
  {
   "cell_type": "code",
   "execution_count": 1,
   "id": "e17d43c7",
   "metadata": {},
   "outputs": [
    {
     "name": "stdout",
     "output_type": "stream",
     "text": [
      "12\n"
     ]
    }
   ],
   "source": [
    "print(10+2)"
   ]
  },
  {
   "cell_type": "markdown",
   "id": "847bcc61",
   "metadata": {},
   "source": [
    "## How its work at the backend ?\n"
   ]
  },
  {
   "cell_type": "markdown",
   "id": "560f49b4",
   "metadata": {},
   "source": [
    "<br>\n",
    "\n",
    "### int.`__add__`(argument_1,argument_2)\n"
   ]
  },
  {
   "cell_type": "code",
   "execution_count": 3,
   "id": "e62e1c07",
   "metadata": {},
   "outputs": [
    {
     "data": {
      "text/plain": [
       "12"
      ]
     },
     "execution_count": 3,
     "metadata": {},
     "output_type": "execute_result"
    }
   ],
   "source": [
    "int.__add__(10,2)"
   ]
  },
  {
   "cell_type": "markdown",
   "id": "8af47e18",
   "metadata": {},
   "source": [
    "## use __add__ method for concatenate string"
   ]
  },
  {
   "cell_type": "code",
   "execution_count": 4,
   "id": "81644d61",
   "metadata": {},
   "outputs": [
    {
     "data": {
      "text/plain": [
       "'Mubeen Ahmad'"
      ]
     },
     "execution_count": 4,
     "metadata": {},
     "output_type": "execute_result"
    }
   ],
   "source": [
    "str.__add__(\"Mubeen\",\" Ahmad\")"
   ]
  },
  {
   "cell_type": "markdown",
   "id": "02b35677",
   "metadata": {},
   "source": [
    "## Here __add__ with string perform the aditional action."
   ]
  },
  {
   "cell_type": "markdown",
   "id": "1678a25b",
   "metadata": {},
   "source": [
    "## So this is the Basic Example of Operator Overloading"
   ]
  },
  {
   "cell_type": "markdown",
   "id": "617a1447",
   "metadata": {},
   "source": [
    "# Example 2"
   ]
  },
  {
   "cell_type": "code",
   "execution_count": 5,
   "id": "f11d8057",
   "metadata": {},
   "outputs": [],
   "source": [
    "class Book:\n",
    "    def __init__(self, pages):\n",
    "        self.pages = pages\n"
   ]
  },
  {
   "cell_type": "code",
   "execution_count": 6,
   "id": "9d0b4544",
   "metadata": {},
   "outputs": [],
   "source": [
    "# creating two objects\n",
    "\n",
    "b1 = Book(400)\n",
    "b2 = Book(300)\n"
   ]
  },
  {
   "cell_type": "code",
   "execution_count": 7,
   "id": "a4b6dc27",
   "metadata": {},
   "outputs": [
    {
     "ename": "TypeError",
     "evalue": "unsupported operand type(s) for +: 'Book' and 'Book'",
     "output_type": "error",
     "traceback": [
      "\u001b[0;31m---------------------------------------------------------------------------\u001b[0m",
      "\u001b[0;31mTypeError\u001b[0m                                 Traceback (most recent call last)",
      "Cell \u001b[0;32mIn [7], line 2\u001b[0m\n\u001b[1;32m      1\u001b[0m \u001b[38;5;66;03m# add two objects\u001b[39;00m\n\u001b[0;32m----> 2\u001b[0m \u001b[38;5;28mprint\u001b[39m(\u001b[43mb1\u001b[49m\u001b[43m \u001b[49m\u001b[38;5;241;43m+\u001b[39;49m\u001b[43m \u001b[49m\u001b[43mb2\u001b[49m)\n",
      "\u001b[0;31mTypeError\u001b[0m: unsupported operand type(s) for +: 'Book' and 'Book'"
     ]
    }
   ],
   "source": [
    "# add two objects\n",
    "print(b1 + b2)"
   ]
  },
  {
   "cell_type": "markdown",
   "id": "413e00b9",
   "metadata": {},
   "source": [
    "# Use `__add__` method here"
   ]
  },
  {
   "cell_type": "code",
   "execution_count": 31,
   "id": "4691bc8f",
   "metadata": {},
   "outputs": [],
   "source": [
    "class Book:\n",
    "    def __init__(self, pages):\n",
    "        self.pages = pages\n",
    "\n",
    "    # Overloading + operator with magic method\n",
    "    def __add__(self, other):\n",
    "        return self.pages + other.pages\n"
   ]
  },
  {
   "cell_type": "code",
   "execution_count": 67,
   "id": "1c1067ea",
   "metadata": {},
   "outputs": [],
   "source": [
    "b1 = Book(400)\n",
    "b2 = Book(300)"
   ]
  },
  {
   "cell_type": "code",
   "execution_count": 20,
   "id": "9248d538",
   "metadata": {},
   "outputs": [
    {
     "name": "stdout",
     "output_type": "stream",
     "text": [
      "Total number of pages:  700\n"
     ]
    }
   ],
   "source": [
    "print(\"Total number of pages: \",Book.__add__(b1,b2))"
   ]
  },
  {
   "cell_type": "markdown",
   "id": "a29b1a18",
   "metadata": {},
   "source": [
    "## Now we are use + instead of `__add__`"
   ]
  },
  {
   "cell_type": "code",
   "execution_count": 21,
   "id": "76e3872d",
   "metadata": {},
   "outputs": [
    {
     "name": "stdout",
     "output_type": "stream",
     "text": [
      "Total number of pages:  700\n"
     ]
    }
   ],
   "source": [
    "print(\"Total number of pages: \",b1+b2)"
   ]
  },
  {
   "cell_type": "markdown",
   "id": "404b5e93",
   "metadata": {},
   "source": [
    "# Lets Understanding with Step by Step Examples\n",
    "\n"
   ]
  },
  {
   "cell_type": "code",
   "execution_count": 73,
   "id": "1e6e210d",
   "metadata": {},
   "outputs": [],
   "source": [
    "class test:\n",
    "    def __init__(self,x):\n",
    "        self.x = x\n",
    "        \n",
    "    def __add__(self,outer):\n",
    "        return self.x + outer\n",
    "    "
   ]
  },
  {
   "cell_type": "markdown",
   "id": "6e822236",
   "metadata": {},
   "source": [
    "<img src=\"../../images/oper_over.jpg\" style=\"display: block;margin-left: auto;margin-right: auto;\n",
    "  width: 70%; border-radius:0px 10px 10px 10px; height:700px;\">\n"
   ]
  },
  {
   "cell_type": "code",
   "execution_count": 75,
   "id": "96ca3fab",
   "metadata": {},
   "outputs": [
    {
     "data": {
      "text/plain": [
       "10"
      ]
     },
     "execution_count": 75,
     "metadata": {},
     "output_type": "execute_result"
    }
   ],
   "source": [
    "obj = test(10)\n",
    "obj.x"
   ]
  },
  {
   "cell_type": "code",
   "execution_count": 76,
   "id": "bff5148c",
   "metadata": {},
   "outputs": [
    {
     "data": {
      "text/plain": [
       "12"
      ]
     },
     "execution_count": 76,
     "metadata": {},
     "output_type": "execute_result"
    }
   ],
   "source": [
    "obj.__add__(2) # 2 is pass to outer"
   ]
  },
  {
   "cell_type": "markdown",
   "id": "1d383f8a",
   "metadata": {},
   "source": [
    "# Example 3"
   ]
  },
  {
   "cell_type": "code",
   "execution_count": 130,
   "id": "4b177f5a",
   "metadata": {},
   "outputs": [],
   "source": [
    "class test:\n",
    "    def __init__(self,x):\n",
    "        self.x = x\n",
    "        \n",
    "    def __add__(self,outer):\n",
    "        print(self.x,outer.x)\n",
    "    "
   ]
  },
  {
   "cell_type": "code",
   "execution_count": 131,
   "id": "ac188ce8",
   "metadata": {},
   "outputs": [],
   "source": [
    "obj_1 = test(10)"
   ]
  },
  {
   "cell_type": "code",
   "execution_count": 132,
   "id": "73d3dfb2",
   "metadata": {},
   "outputs": [],
   "source": [
    "obj_2 = test(20)"
   ]
  },
  {
   "cell_type": "code",
   "execution_count": 133,
   "id": "5694f835",
   "metadata": {},
   "outputs": [
    {
     "name": "stdout",
     "output_type": "stream",
     "text": [
      "10 30\n"
     ]
    }
   ],
   "source": [
    "obj_1.__add__(tmp)"
   ]
  },
  {
   "cell_type": "markdown",
   "id": "a79dd3ae",
   "metadata": {},
   "source": [
    "# and also we are used + instead of .`__add__`"
   ]
  },
  {
   "cell_type": "code",
   "execution_count": 134,
   "id": "97b111ec",
   "metadata": {},
   "outputs": [
    {
     "name": "stdout",
     "output_type": "stream",
     "text": [
      "10 20\n"
     ]
    }
   ],
   "source": [
    "obj_1 + obj_2"
   ]
  },
  {
   "cell_type": "markdown",
   "id": "7bf100f6",
   "metadata": {},
   "source": [
    "<img src=\"../../images/op_over.jpg\" style=\"display: block;margin-left: auto;margin-right: auto;\n",
    "  width: 80%; border-radius:0px 10px 10px 10px; height:700px;\">\n"
   ]
  },
  {
   "cell_type": "markdown",
   "id": "646c8cf2",
   "metadata": {},
   "source": [
    "# Example 4\n",
    "\n",
    "## used return"
   ]
  },
  {
   "cell_type": "code",
   "execution_count": 139,
   "id": "41508d44",
   "metadata": {},
   "outputs": [],
   "source": [
    "class test:\n",
    "    def __init__(self,x):\n",
    "        self.x = x\n",
    "        \n",
    "    def __add__(self,outer):\n",
    "        return self.x + outer.x\n",
    "    "
   ]
  },
  {
   "cell_type": "code",
   "execution_count": 140,
   "id": "dc8382fa",
   "metadata": {},
   "outputs": [],
   "source": [
    "obj_1 = test(10)"
   ]
  },
  {
   "cell_type": "code",
   "execution_count": 141,
   "id": "52c96f14",
   "metadata": {},
   "outputs": [],
   "source": [
    "obj_2 = test(20)"
   ]
  },
  {
   "cell_type": "code",
   "execution_count": 142,
   "id": "7d3def8a",
   "metadata": {},
   "outputs": [
    {
     "data": {
      "text/plain": [
       "30"
      ]
     },
     "execution_count": 142,
     "metadata": {},
     "output_type": "execute_result"
    }
   ],
   "source": [
    "obj_1 + obj_2"
   ]
  },
  {
   "cell_type": "code",
   "execution_count": 143,
   "id": "ee4521e2",
   "metadata": {},
   "outputs": [
    {
     "data": {
      "text/plain": [
       "30"
      ]
     },
     "execution_count": 143,
     "metadata": {},
     "output_type": "execute_result"
    }
   ],
   "source": [
    "obj_1.__add__(obj_2)"
   ]
  }
 ],
 "metadata": {
  "kernelspec": {
   "display_name": "Python 3 (ipykernel)",
   "language": "python",
   "name": "python3"
  },
  "language_info": {
   "codemirror_mode": {
    "name": "ipython",
    "version": 3
   },
   "file_extension": ".py",
   "mimetype": "text/x-python",
   "name": "python",
   "nbconvert_exporter": "python",
   "pygments_lexer": "ipython3",
   "version": "3.10.6"
  }
 },
 "nbformat": 4,
 "nbformat_minor": 5
}

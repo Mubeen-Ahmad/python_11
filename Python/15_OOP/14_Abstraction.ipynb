{
 "cells": [
  {
   "cell_type": "markdown",
   "id": "dfc31bef",
   "metadata": {},
   "source": [
    "# Abstraction"
   ]
  },
  {
   "cell_type": "markdown",
   "id": "dafb2b10",
   "metadata": {},
   "source": [
    "<h2 style=\"text-align:justify; color:#5d2ade\">\n",
    "In object-oriented programming, abstraction is a technique that allows you to focus on the essential features of an object, while hiding its complexities.<br><br>Python provides two main ways to achieve abstraction:<br><br>interfaces and abstract classes.\n",
    "</h2>"
   ]
  },
  {
   "cell_type": "markdown",
   "id": "1a92edc5",
   "metadata": {},
   "source": [
    "<br>\n",
    "\n",
    "# Abstract class\n",
    "\n",
    "<br>\n",
    "\n",
    "## A class derived from ABC class which belongs to abc module is know as abstract class\n",
    "<br>\n",
    "\n",
    "## ABC class also know as  Meta Class which means a class that defines the behavior of other classes.\n",
    "<br>\n",
    "\n",
    "## Abstract class can have abstract method and concrete Method\n",
    "<br>\n",
    "\n",
    "## Abstract class needs to be extended and its method implemented\n",
    "<br>\n",
    "\n",
    "## We can't create the object of abstract class"
   ]
  },
  {
   "cell_type": "markdown",
   "id": "c8992d84",
   "metadata": {},
   "source": [
    "<img src=\"../../images/abs_tr.jpg\" style=\"display: block;margin-left: auto;margin-right: auto;\n",
    "  width: 70%; border-radius:0px 10px 10px 10px; height:800px;\">\n"
   ]
  },
  {
   "cell_type": "code",
   "execution_count": 6,
   "id": "0ebb6d13",
   "metadata": {},
   "outputs": [],
   "source": [
    "from abc import ABC, abstractmethod\n",
    "\n",
    "class Father(ABC):\n",
    "    \n",
    "    @abstractmethod\n",
    "    def disp(self):\n",
    "        pass"
   ]
  },
  {
   "cell_type": "markdown",
   "id": "af7bf29d",
   "metadata": {},
   "source": [
    "## we cant create a object with abstract class"
   ]
  },
  {
   "cell_type": "code",
   "execution_count": 8,
   "id": "62b8f9ef",
   "metadata": {},
   "outputs": [
    {
     "ename": "TypeError",
     "evalue": "Can't instantiate abstract class Father with abstract method disp",
     "output_type": "error",
     "traceback": [
      "\u001b[0;31m---------------------------------------------------------------------------\u001b[0m",
      "\u001b[0;31mTypeError\u001b[0m                                 Traceback (most recent call last)",
      "Cell \u001b[0;32mIn [8], line 1\u001b[0m\n\u001b[0;32m----> 1\u001b[0m obj \u001b[38;5;241m=\u001b[39m \u001b[43mFather\u001b[49m\u001b[43m(\u001b[49m\u001b[43m)\u001b[49m\n",
      "\u001b[0;31mTypeError\u001b[0m: Can't instantiate abstract class Father with abstract method disp"
     ]
    }
   ],
   "source": [
    "obj = Father()"
   ]
  },
  {
   "cell_type": "markdown",
   "id": "eac4ca82",
   "metadata": {},
   "source": [
    "## But we are used abstract class with other classes"
   ]
  },
  {
   "cell_type": "code",
   "execution_count": 20,
   "id": "0c14dfd9",
   "metadata": {},
   "outputs": [],
   "source": [
    "from abc import ABC, abstractmethod\n",
    "\n",
    "class Bankapp(ABC):\n",
    "    \n",
    "    def database(self):\n",
    "        print(\"database are connected\")\n",
    "    \n",
    "    @abstractmethod\n",
    "    def security(self):\n",
    "        pass"
   ]
  },
  {
   "cell_type": "code",
   "execution_count": 21,
   "id": "469d4171",
   "metadata": {},
   "outputs": [],
   "source": [
    "class MobileApp(Bankapp):\n",
    "    \n",
    "    def security(self):\n",
    "        print(\"MobileAPP\")"
   ]
  },
  {
   "cell_type": "code",
   "execution_count": 22,
   "id": "3136dddb",
   "metadata": {},
   "outputs": [
    {
     "name": "stdout",
     "output_type": "stream",
     "text": [
      "MobileAPP\n"
     ]
    }
   ],
   "source": [
    "obj = MobileApp()\n",
    "obj.security()"
   ]
  },
  {
   "cell_type": "markdown",
   "id": "e77f35a4",
   "metadata": {},
   "source": [
    "## if we not use the security method than raise Errot"
   ]
  },
  {
   "cell_type": "code",
   "execution_count": 23,
   "id": "ec986776",
   "metadata": {},
   "outputs": [],
   "source": [
    "class MobileApp(Bankapp):\n",
    "    \n",
    "    def database(self):\n",
    "        print(\"database are connected\")"
   ]
  },
  {
   "cell_type": "code",
   "execution_count": 24,
   "id": "00005a6d",
   "metadata": {},
   "outputs": [
    {
     "ename": "TypeError",
     "evalue": "Can't instantiate abstract class MobileApp with abstract method security",
     "output_type": "error",
     "traceback": [
      "\u001b[0;31m---------------------------------------------------------------------------\u001b[0m",
      "\u001b[0;31mTypeError\u001b[0m                                 Traceback (most recent call last)",
      "Cell \u001b[0;32mIn [24], line 1\u001b[0m\n\u001b[0;32m----> 1\u001b[0m obj \u001b[38;5;241m=\u001b[39m \u001b[43mMobileApp\u001b[49m\u001b[43m(\u001b[49m\u001b[43m)\u001b[49m\n",
      "\u001b[0;31mTypeError\u001b[0m: Can't instantiate abstract class MobileApp with abstract method security"
     ]
    }
   ],
   "source": [
    "obj = MobileApp()"
   ]
  },
  {
   "cell_type": "markdown",
   "id": "8a1ba747",
   "metadata": {},
   "source": [
    "# Multiples abstract methods"
   ]
  },
  {
   "cell_type": "code",
   "execution_count": 48,
   "id": "cc5bd78b",
   "metadata": {},
   "outputs": [],
   "source": [
    "from abc import ABC, abstractmethod\n",
    "\n",
    "class New(ABC):\n",
    "    \n",
    "    def database(self):\n",
    "        print(\"database are connected\")\n",
    "    \n",
    "    @abstractmethod\n",
    "    def security(self):\n",
    "        pass\n",
    "    \n",
    "    @abstractmethod\n",
    "    def display(self):\n",
    "        pass"
   ]
  },
  {
   "cell_type": "code",
   "execution_count": 49,
   "id": "3d9f7480",
   "metadata": {},
   "outputs": [],
   "source": [
    "class MobileApp(New):\n",
    "    \n",
    "    def security(self):\n",
    "        print(\"Security\")\n",
    "        \n",
    "    def display(self):\n",
    "        print(\"Display\")"
   ]
  },
  {
   "cell_type": "code",
   "execution_count": 53,
   "id": "8eace50b",
   "metadata": {},
   "outputs": [
    {
     "name": "stdout",
     "output_type": "stream",
     "text": [
      "Security\n"
     ]
    }
   ],
   "source": [
    "obj = MobileApp()\n",
    "obj.security()"
   ]
  },
  {
   "cell_type": "markdown",
   "id": "ccd987eb",
   "metadata": {},
   "source": [
    "## Now Also add display Method"
   ]
  },
  {
   "cell_type": "code",
   "execution_count": null,
   "id": "260ff958",
   "metadata": {},
   "outputs": [],
   "source": [
    "class MobileApp(Bankapp):\n",
    "    \n",
    "    def display(self):\n",
    "        print(\"Security\")"
   ]
  },
  {
   "cell_type": "markdown",
   "id": "e042ac2f",
   "metadata": {},
   "source": [
    "# Concrete Method"
   ]
  },
  {
   "cell_type": "markdown",
   "id": "32a63811",
   "metadata": {},
   "source": [
    "## A method that are define in abstract class "
   ]
  },
  {
   "cell_type": "code",
   "execution_count": 55,
   "id": "d54f1a72",
   "metadata": {},
   "outputs": [],
   "source": [
    "from abc import ABC, abstractmethod\n",
    "\n",
    "class DS(ABC):\n",
    "    \n",
    "    @abstractmethod\n",
    "    def security(self):\n",
    "        pass\n",
    "    def func(self):\n",
    "        print(\"CONCRETE METHOD\")"
   ]
  },
  {
   "cell_type": "code",
   "execution_count": 60,
   "id": "8b8418a2",
   "metadata": {},
   "outputs": [],
   "source": [
    "class Test(DS):\n",
    "    \n",
    "    def security(self):\n",
    "        print(\"Security\")"
   ]
  },
  {
   "cell_type": "code",
   "execution_count": 61,
   "id": "39cde923",
   "metadata": {},
   "outputs": [],
   "source": [
    "obj = Test()"
   ]
  },
  {
   "cell_type": "code",
   "execution_count": 62,
   "id": "31215e63",
   "metadata": {},
   "outputs": [
    {
     "name": "stdout",
     "output_type": "stream",
     "text": [
      "Security\n"
     ]
    }
   ],
   "source": [
    "obj.security()"
   ]
  },
  {
   "cell_type": "code",
   "execution_count": 63,
   "id": "e1235cbd",
   "metadata": {},
   "outputs": [
    {
     "name": "stdout",
     "output_type": "stream",
     "text": [
      "CONCRETE METHOD\n"
     ]
    }
   ],
   "source": [
    "obj.func()"
   ]
  },
  {
   "cell_type": "markdown",
   "id": "61920705",
   "metadata": {},
   "source": [
    "# Keypoints"
   ]
  },
  {
   "cell_type": "markdown",
   "id": "b2aa7b2f",
   "metadata": {},
   "source": [
    "## 1 \n",
    "<br>\n",
    "\n",
    "### Can't Create the object of Abstract Class"
   ]
  },
  {
   "cell_type": "markdown",
   "id": "498bd6fc",
   "metadata": {},
   "source": [
    "<img src=\"../../images/r1.jpg\" style=\"display: block;margin-left: auto;margin-right: auto;\n",
    "  width: 100%; border-radius:0px 10px 10px 10px; height:800px;\">\n"
   ]
  },
  {
   "cell_type": "code",
   "execution_count": 1,
   "id": "8e4e57c4",
   "metadata": {},
   "outputs": [
    {
     "ename": "TypeError",
     "evalue": "Can't instantiate abstract class Head with abstract method security",
     "output_type": "error",
     "traceback": [
      "\u001b[0;31m---------------------------------------------------------------------------\u001b[0m",
      "\u001b[0;31mTypeError\u001b[0m                                 Traceback (most recent call last)",
      "Cell \u001b[0;32mIn [1], line 8\u001b[0m\n\u001b[1;32m      5\u001b[0m     \u001b[38;5;129m@abstractmethod\u001b[39m\n\u001b[1;32m      6\u001b[0m     \u001b[38;5;28;01mdef\u001b[39;00m \u001b[38;5;21msecurity\u001b[39m(\u001b[38;5;28mself\u001b[39m):\n\u001b[1;32m      7\u001b[0m         \u001b[38;5;28;01mpass\u001b[39;00m\n\u001b[0;32m----> 8\u001b[0m obj \u001b[38;5;241m=\u001b[39m \u001b[43mHead\u001b[49m\u001b[43m(\u001b[49m\u001b[43m)\u001b[49m\n",
      "\u001b[0;31mTypeError\u001b[0m: Can't instantiate abstract class Head with abstract method security"
     ]
    }
   ],
   "source": [
    "from abc import ABC, abstractmethod\n",
    "\n",
    "class Head(ABC):\n",
    "    \n",
    "    @abstractmethod\n",
    "    def security(self):\n",
    "        pass\n",
    "obj = Head()"
   ]
  },
  {
   "cell_type": "markdown",
   "id": "bbc83f11",
   "metadata": {},
   "source": [
    "##  2\n",
    "<br>\n",
    "\n",
    "## it is not necessary to declare all methods in abstract class\n",
    "<br>\n",
    "\n",
    "## Abstract class can have abstract methods and concrete method"
   ]
  },
  {
   "cell_type": "markdown",
   "id": "b1468d4b",
   "metadata": {},
   "source": [
    "<img src=\"../../images/con_abs.jpg\" style=\"display: block;margin-left: auto;margin-right: auto;\n",
    "  width: 80%; border-radius:0px 10px 10px 10px; height:800px;\">\n"
   ]
  },
  {
   "cell_type": "code",
   "execution_count": 2,
   "id": "8d48dac6",
   "metadata": {},
   "outputs": [],
   "source": [
    "from abc import ABC, abstractmethod\n",
    "\n",
    "class Head(ABC):\n",
    "    \n",
    "    @abstractmethod\n",
    "    def security(self):\n",
    "        pass\n",
    "    \n",
    "    def show(self):\n",
    "        pass\n"
   ]
  },
  {
   "cell_type": "markdown",
   "id": "3e3343af",
   "metadata": {},
   "source": [
    "##  3\n",
    "<br>\n",
    "\n",
    "## if there is any abstract method in a class that class must be abstract"
   ]
  },
  {
   "cell_type": "markdown",
   "id": "3654fa69",
   "metadata": {},
   "source": [
    "<img src=\"../../images/abs_vs_un.jpg\" style=\"display: block;margin-left: auto;margin-right: auto;\n",
    "  width: 500%; border-radius:0px 10px 10px 10px; height:500px;\">\n"
   ]
  },
  {
   "cell_type": "code",
   "execution_count": 4,
   "id": "ae189000",
   "metadata": {},
   "outputs": [
    {
     "name": "stdout",
     "output_type": "stream",
     "text": [
      "Abstract\n"
     ]
    }
   ],
   "source": [
    "from abc import ABC, abstractmethod\n",
    "\n",
    "class Head(ABC):\n",
    "    \n",
    "    @abstractmethod\n",
    "    def security(self):\n",
    "        pass\n",
    "\n",
    "class check(Head):\n",
    "    def security(self):\n",
    "        print(\"Abstract\")\n",
    " \n",
    "check().security()"
   ]
  },
  {
   "cell_type": "code",
   "execution_count": 5,
   "id": "85a99a85",
   "metadata": {},
   "outputs": [
    {
     "name": "stdout",
     "output_type": "stream",
     "text": [
      "Abstract\n"
     ]
    }
   ],
   "source": [
    "from abc import ABC, abstractmethod\n",
    "\n",
    "class Head:\n",
    "    \n",
    "    @abstractmethod\n",
    "    def security(self):\n",
    "        pass\n",
    "\n",
    "class check(Head):\n",
    "    def security(self):\n",
    "        print(\"Not Abstract\")\n",
    " \n",
    "check().security()"
   ]
  },
  {
   "cell_type": "markdown",
   "id": "06d5186f",
   "metadata": {},
   "source": [
    "##  4\n",
    "<br>\n",
    "\n",
    "## The abstract methods of an abstract class must be define in its child class/subclass"
   ]
  },
  {
   "cell_type": "markdown",
   "id": "69759c9a",
   "metadata": {},
   "source": [
    "<img src=\"../../images/same_fun.jpg\" style=\"display: block;margin-left: auto;margin-right: auto;\n",
    "  width: 500%; border-radius:0px 10px 10px 10px; height:500px;\">\n"
   ]
  },
  {
   "cell_type": "code",
   "execution_count": 9,
   "id": "ebca2c24",
   "metadata": {},
   "outputs": [
    {
     "ename": "TypeError",
     "evalue": "Can't instantiate abstract class check with abstract method security",
     "output_type": "error",
     "traceback": [
      "\u001b[0;31m---------------------------------------------------------------------------\u001b[0m",
      "\u001b[0;31mTypeError\u001b[0m                                 Traceback (most recent call last)",
      "Cell \u001b[0;32mIn [9], line 13\u001b[0m\n\u001b[1;32m     10\u001b[0m     \u001b[38;5;28;01mdef\u001b[39;00m \u001b[38;5;21msec\u001b[39m(\u001b[38;5;28mself\u001b[39m):\n\u001b[1;32m     11\u001b[0m         \u001b[38;5;28mprint\u001b[39m(\u001b[38;5;124m\"\u001b[39m\u001b[38;5;124mhy\u001b[39m\u001b[38;5;124m\"\u001b[39m)\n\u001b[0;32m---> 13\u001b[0m \u001b[43mcheck\u001b[49m\u001b[43m(\u001b[49m\u001b[43m)\u001b[49m\n",
      "\u001b[0;31mTypeError\u001b[0m: Can't instantiate abstract class check with abstract method security"
     ]
    }
   ],
   "source": [
    "from abc import ABC, abstractmethod\n",
    "class Head(ABC):\n",
    "    \n",
    "    @abstractmethod\n",
    "    def security(self):\n",
    "        pass\n",
    "\n",
    "class check(Head):\n",
    "    \n",
    "    def sec(self):\n",
    "        print(\"hy\")\n",
    " \n",
    "check()"
   ]
  },
  {
   "cell_type": "markdown",
   "id": "2f67f9e3",
   "metadata": {},
   "source": [
    "## 6\n",
    "<br>\n",
    "\n",
    "## if you are inheriting any abstract class that have abstract method you must either provide the implementation of the method or make this class abstract\n"
   ]
  },
  {
   "cell_type": "markdown",
   "id": "a925f9df",
   "metadata": {},
   "source": [
    "<img src=\"../../images/r7.jpg\" style=\"display: block;margin-left: auto;margin-right: auto;\n",
    "  width: 500%; border-radius:0px 10px 10px 10px; height:500px;\">\n",
    "\n"
   ]
  },
  {
   "cell_type": "code",
   "execution_count": 30,
   "id": "1d8e5285",
   "metadata": {},
   "outputs": [
    {
     "name": "stdout",
     "output_type": "stream",
     "text": [
      "f1\n"
     ]
    }
   ],
   "source": [
    "from abc import ABC, abstractmethod\n",
    "class Head(ABC):\n",
    "    \n",
    "    @abstractmethod\n",
    "    def f1(self):\n",
    "        pass\n",
    "    \n",
    "    @abstractmethod\n",
    "    def f2(self):\n",
    "        pass\n",
    "\n",
    "class child(Head):\n",
    "    def f1(self):\n",
    "        print(\"f1\")\n",
    "        \n",
    "    def f2(self):\n",
    "        print(\"f1\")\n",
    "    \n",
    "child().f2()\n",
    "    "
   ]
  },
  {
   "cell_type": "markdown",
   "id": "005d46c8",
   "metadata": {},
   "source": [
    "# 7\n",
    "## Soloution 2 inherit other class and use 2nd function"
   ]
  },
  {
   "cell_type": "markdown",
   "id": "15ab52a5",
   "metadata": {},
   "source": [
    "<img src=\"../../images/s2.jpg\" style=\"display: block;margin-left: auto;margin-right: auto;\n",
    "  width: 100%; border-radius:0px 10px 10px 10px; height:900px;\">\n"
   ]
  },
  {
   "cell_type": "code",
   "execution_count": 34,
   "id": "1ff92b70",
   "metadata": {},
   "outputs": [
    {
     "name": "stdout",
     "output_type": "stream",
     "text": [
      "f2\n"
     ]
    }
   ],
   "source": [
    "from abc import ABC, abstractmethod\n",
    "class Head(ABC):\n",
    "    \n",
    "    @abstractmethod\n",
    "    def f1(self):\n",
    "        pass\n",
    "    \n",
    "    @abstractmethod\n",
    "    def f2(self):\n",
    "        pass\n",
    "\n",
    "class child(Head):\n",
    "    def f1(self):\n",
    "        print(\"f1\")\n",
    "        \n",
    "class child1(child):\n",
    "    def f2(self):\n",
    "        print(\"f2\")\n",
    "    \n",
    "child1().f2()\n",
    "    "
   ]
  },
  {
   "cell_type": "markdown",
   "id": "336e3db3",
   "metadata": {},
   "source": [
    "<br><br>\n",
    "\n",
    "# Interfaces\n",
    "<br>\n",
    "\n",
    "## In python Interfaces concept is not explicitly like other languages , java cpp etc.\n",
    "<br>\n",
    "\n",
    "## In python An Interface is an abstract class which contains only abstract method but not a single concrete method"
   ]
  },
  {
   "cell_type": "markdown",
   "id": "98ef8cdc",
   "metadata": {},
   "source": [
    "# Example"
   ]
  },
  {
   "cell_type": "code",
   "execution_count": 2,
   "id": "6a9ccaeb",
   "metadata": {},
   "outputs": [],
   "source": [
    "from abc import ABC, abstractmethod"
   ]
  },
  {
   "cell_type": "code",
   "execution_count": 38,
   "id": "6658f23b",
   "metadata": {},
   "outputs": [
    {
     "name": "stdout",
     "output_type": "stream",
     "text": [
      "Interface\n"
     ]
    }
   ],
   "source": [
    "class Father(ABC):\n",
    "    \n",
    "    @abstractmethod\n",
    "    def disp(self):\n",
    "        pass\n",
    "\n",
    "class child(Father):\n",
    "    def disp(self):\n",
    "        print(\"Interface\")\n",
    "\n",
    "obj = child()\n",
    "obj.disp()"
   ]
  },
  {
   "cell_type": "markdown",
   "id": "0bd3cf87",
   "metadata": {},
   "source": [
    "## If we create other methods than we can't say that Interface"
   ]
  },
  {
   "cell_type": "markdown",
   "id": "4ea98833",
   "metadata": {},
   "source": [
    "<img src=\"../../images/inter.jpg\" style=\"display: block;margin-left: auto;margin-right: auto;\n",
    "  width: 100%; border-radius:0px 10px 10px 10px; height:800px;\">\n"
   ]
  }
 ],
 "metadata": {
  "kernelspec": {
   "display_name": "Python 3 (ipykernel)",
   "language": "python",
   "name": "python3"
  },
  "language_info": {
   "codemirror_mode": {
    "name": "ipython",
    "version": 3
   },
   "file_extension": ".py",
   "mimetype": "text/x-python",
   "name": "python",
   "nbconvert_exporter": "python",
   "pygments_lexer": "ipython3",
   "version": "3.10.6"
  }
 },
 "nbformat": 4,
 "nbformat_minor": 5
}

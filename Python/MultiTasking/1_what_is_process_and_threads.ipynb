{
 "cells": [
  {
   "cell_type": "markdown",
   "id": "06db6f98",
   "metadata": {},
   "source": [
    "# **Process** \n",
    "<br>\n",
    "\n",
    "## *What Are Process* ?\n",
    "<br>\n",
    "\n",
    "### *A process is the instance of a Program.*\n",
    "<br>\n",
    "\n",
    "- ### When you open a program, it creates a process, which is a series of tasks or instructions that the computer carries out to perform a specific task.\n",
    "<br>\n",
    "\n",
    "## *What is mean by process is the instance of a Program ?* \n",
    "<br>\n",
    "\n",
    "- ### Let's say you have a word processing program installed on your computer\n",
    "<br>\n",
    "\n",
    "- ### This program is like a recipe for baking a cake. Just as a recipe tells you what ingredients to use and how to mix them together to create a finished product, the program tells the computer what to do.\n",
    "<br>\n",
    "\n",
    "- ### Now, when you execute this program and use it to edit a document, the program will run on your computer as a \"process.\" This process will contain your document and all the necessary resources and instructions from the program to run this process.\n",
    "<br>\n",
    "\n",
    "- ### Similarly, every program that is executed will become a process that includes the program's instructions and resources. The operating system of your computer manages these processes, and each process has its own memory space in which it stores its resources and data.\n"
   ]
  },
  {
   "cell_type": "markdown",
   "id": "3b630044",
   "metadata": {},
   "source": [
    "<img src=\"../../images/process.jpg\" style=\"display: block;margin-left: auto;margin-right: auto;\n",
    "  width: 80%; border-radius:0px 10px 10px 10px; height:800px;\">\n"
   ]
  },
  {
   "cell_type": "markdown",
   "id": "ea9ca21e",
   "metadata": {},
   "source": [
    "# Parent Process VS Child Process"
   ]
  },
  {
   "cell_type": "markdown",
   "id": "5bbaf781",
   "metadata": {},
   "source": [
    "## When we run a program, it becomes a process.\n",
    "<br>\n",
    "\n",
    "- ## The Parent Process is the one that runs the program, \n",
    "<br>\n",
    "\n",
    "- ## While the Child Process is created from the Parent Process.\n",
    "<br><br>\n",
    "\n",
    "## For example, when we run the Notepad program, it becomes the Parent Process. \n",
    "<br>\n",
    "\n",
    "## If we open a file in Notepad, a Child Process is created to open the file. \n",
    "<br>\n",
    "\n",
    "## The Child Process inherits resources such as memory and file descriptors from the Parent Process to execute its task.\n",
    "<br>\n",
    "\n",
    "## We can use Child Processes to execute multiple tasks that cannot be done within the Parent Process. \n",
    "<br>\n",
    "\n",
    "## Child Processes are created by the Parent Process and are controlled by it. Once the Child Process completes its task, it terminates."
   ]
  },
  {
   "cell_type": "markdown",
   "id": "ce553292",
   "metadata": {},
   "source": [
    "<img src=\"../../images/child.jpg\" style=\"display: block;margin-left: auto;margin-right: auto;\n",
    "  width: 80%; border-radius:0px 10px 10px 10px; height:1100px;\">\n"
   ]
  },
  {
   "cell_type": "markdown",
   "id": "7ffe136a",
   "metadata": {},
   "source": [
    "# Example 2"
   ]
  },
  {
   "cell_type": "markdown",
   "id": "7ab47672",
   "metadata": {},
   "source": [
    "- ## Imagine you are running a web server that receives multiple requests from clients.\n",
    "<br>\n",
    "\n",
    "- ## When you run the server, a parent process is created which handles incoming requests.\n",
    "<br>\n",
    "\n",
    "- ## The parent process delegates incoming requests to a child process where the request is processed.\n",
    "<br><br>\n",
    "\n",
    "- ## If multiple requests come at once, the parent process creates multiple child processes where each child process handles one request. \n",
    "<br>\n",
    "\n",
    "- ## Once the request is processed, the child process sends the response back to the parent process so that the parent process can send the response to the client."
   ]
  },
  {
   "cell_type": "markdown",
   "id": "c2b07a94",
   "metadata": {},
   "source": [
    "# code Example"
   ]
  },
  {
   "cell_type": "code",
   "execution_count": 53,
   "id": "d975ed17",
   "metadata": {},
   "outputs": [],
   "source": [
    "import multiprocessing\n",
    "\n",
    "def child_process(process_num):\n",
    "    print(f\"\\n\\nChild process {process_num} started\\n\")\n",
    "    \n",
    "    # Do some processing here\n",
    "    \n",
    "    print(f\"\\nChild process {process_num} completed\\n\")\n"
   ]
  },
  {
   "cell_type": "code",
   "execution_count": 54,
   "id": "24555023",
   "metadata": {},
   "outputs": [
    {
     "name": "stdout",
     "output_type": "stream",
     "text": [
      "\n",
      "Parent process started\n",
      "\n",
      "\n",
      "\n",
      "Child process 0 started\n",
      "\n",
      "\n",
      "Child process 0 completed\n",
      "\n",
      "\n",
      "\n",
      "Child process 1 started\n",
      "\n",
      "\n",
      "Child process 1 completed\n",
      "\n",
      "\n",
      "\n",
      "Child process 2 started\n",
      "\n",
      "\n",
      "Child process 2 completed\n",
      "\n",
      "\n",
      "Parent process completed\n",
      "\n",
      "\n",
      "Parent process completed\n",
      "\n",
      "\n",
      "Parent process completed\n",
      "\n"
     ]
    }
   ],
   "source": [
    "print(\"\\nParent process started\\n\")\n",
    "num_processes = 3\n",
    "processes = []\n",
    "for i in range(num_processes):\n",
    "    p = multiprocessing.Process(target=child_process, args=(i,))\n",
    "    processes.append(p)\n",
    "    p.start()\n",
    "\n",
    "for p in processes:\n",
    "    p.join()\n",
    "    print(\"\\nParent process completed\\n\")\n"
   ]
  },
  {
   "cell_type": "markdown",
   "id": "42ab431b",
   "metadata": {},
   "source": [
    "# Thread"
   ]
  },
  {
   "cell_type": "markdown",
   "id": "93b8b718",
   "metadata": {},
   "source": [
    "- ## A thread is a lightweight sub-process that can be run within a process. \n",
    "<br>\n",
    "\n",
    "- ## A program can have multiple parts, called threads, that run concurrently. This is a common way to achieve multitasking and multithreading, and it helps to better utilize multiple cores and threads of the CPU. \n",
    "<br>\n",
    "\n",
    "- ## A thread can be created within a process and executes within the memory space of that process."
   ]
  },
  {
   "cell_type": "markdown",
   "id": "d3793a88",
   "metadata": {},
   "source": [
    "<img src=\"../../images/th1.jpg\" style=\"display: block;margin-left: auto;margin-right: auto;\n",
    "  width: 40%; border-radius:0px 10px 10px 10px; height:600px;\">\n"
   ]
  },
  {
   "cell_type": "markdown",
   "id": "3c19455d",
   "metadata": {},
   "source": [
    "# Understand Differences"
   ]
  },
  {
   "cell_type": "markdown",
   "id": "d16b52d7",
   "metadata": {},
   "source": [
    "# Imagine you are the owner of a restaurant and you need software to handle your orders. \n",
    "<br>\n",
    "\n",
    "# In this software, you will have to perform some tasks:\n",
    "<br><br>\n",
    "\n",
    "- # Accept orders\n",
    "<br>\n",
    "\n",
    "- # Process orders\n",
    "<br>\n",
    "\n",
    "- # Generate bills\n",
    "<br>\n",
    "\n",
    "- # Accept payments\n",
    "<br>\n",
    "\n",
    "- # Deliver food\n"
   ]
  },
  {
   "cell_type": "markdown",
   "id": "af07c1f8",
   "metadata": {},
   "source": [
    "<br>\n",
    "\n",
    "# To perform these tasks, your software will use multiple processes and threads."
   ]
  },
  {
   "cell_type": "markdown",
   "id": "cc92f6a4",
   "metadata": {},
   "source": [
    "<br>\n",
    "\n",
    "# Parent process:\n",
    "<br>\n",
    "\n",
    "- ## The parent process will be your main program that will accept all your restaurant orders and create separate child processes. \n",
    "<br>\n",
    "\n",
    "- ## In this parent process, you will handle all your resources such as files, memory space, etc."
   ]
  },
  {
   "cell_type": "markdown",
   "id": "a983067d",
   "metadata": {},
   "source": [
    "<br>\n",
    "\n",
    "# Child process:\n",
    "<br>\n",
    "\n",
    "- ## The child process will process your orders. When your parent process accepts an order, it will create a child process for that order. \n",
    "<br>\n",
    "\n",
    "- ## The child process will process the order, generate the bill, and accept the payment. \n",
    "<br>\n",
    "\n",
    "- ## In this way, the parent process can create multiple child processes, which will share their resources while being handled."
   ]
  },
  {
   "cell_type": "markdown",
   "id": "0bb53f83",
   "metadata": {},
   "source": [
    "<br>\n",
    "\n",
    "# Thread:\n",
    "<br>\n",
    "\n",
    "- ##  The thread will handle the delivery of food. When your child process has processed the order and generated the bill, your parent process will create a thread that will handle the delivery of food.\n",
    "<br>\n",
    "\n",
    "- ## The parent process will reserve separate memory space for this thread so that it can handle its resources. After creating the thread, it will use the resources of the parent process for its execution."
   ]
  },
  {
   "cell_type": "markdown",
   "id": "b6d876d4",
   "metadata": {},
   "source": [
    "<br>\n",
    "\n",
    "# Similarly, creating multiple threads and child processes will help you perform all the tasks of your restaurant in a parallel manner, which will speed up the work of your restaurant."
   ]
  },
  {
   "cell_type": "markdown",
   "id": "8745f60e",
   "metadata": {},
   "source": [
    "# Thread code"
   ]
  },
  {
   "cell_type": "code",
   "execution_count": 8,
   "id": "fefba76b",
   "metadata": {},
   "outputs": [
    {
     "name": "stdout",
     "output_type": "stream",
     "text": [
      "0 1 2 3 4 5 6 7 8 9 0 1 2 3 4 5 6 7 8 9 \n",
      "\n",
      "Thread 1 Completed\n",
      "\n",
      "Thread 2 Completed\n",
      "\n",
      "Finished executing all threads\n"
     ]
    }
   ],
   "source": [
    "import threading\n",
    "\n",
    "def print_numbers():\n",
    "    for i in range(10):\n",
    "        print(i,end=\" \")\n",
    "\n",
    "# create threads\n",
    "t1 = threading.Thread(target=print_numbers)\n",
    "t2 = threading.Thread(target=print_numbers)\n",
    "\n",
    "# start threads\n",
    "t1.start()\n",
    "t2.start()\n",
    "\n",
    "# wait for threads to finish\n",
    "t1.join()\n",
    "print(\"\\n\\nThread 1 Completed\\n\")\n",
    "t2.join()\n",
    "print(\"Thread 2 Completed\\n\")\n",
    "\n",
    "print('Finished executing all threads')"
   ]
  },
  {
   "cell_type": "markdown",
   "id": "3045f91a",
   "metadata": {},
   "source": [
    "<br>\n",
    "\n",
    "# In Summary\n",
    "\n",
    "<br>\n"
   ]
  },
  {
   "cell_type": "markdown",
   "id": "8711a820",
   "metadata": {},
   "source": [
    "# Parent Process"
   ]
  },
  {
   "cell_type": "markdown",
   "id": "fa632464",
   "metadata": {},
   "source": [
    "<br>\n",
    "\n",
    "- ## When we run an application, a parent process is created. This parent process creates child processes and controls them while providing resources for their execution. \n",
    "<br>\n",
    "\n",
    "- ## If a child process faces any problem while working, the parent process terminates it."
   ]
  },
  {
   "cell_type": "markdown",
   "id": "26b1f249",
   "metadata": {},
   "source": [
    "# Child Process"
   ]
  },
  {
   "cell_type": "markdown",
   "id": "408ca13c",
   "metadata": {},
   "source": [
    "- ## A child process is created by the parent process. When the parent process creates a child process, it is assigned a unique process ID. \n",
    "<br>\n",
    "\n",
    "- ## The child process can access the memory of its parent process. Once the child process completes its task, it terminates."
   ]
  },
  {
   "cell_type": "markdown",
   "id": "efa8f0c1",
   "metadata": {},
   "source": [
    "# Threads"
   ]
  },
  {
   "cell_type": "markdown",
   "id": "1619fa1e",
   "metadata": {},
   "source": [
    "- ## Threads are also created inside processes, but they are different from processes. Threads consist of multiple tasks that can execute simultaneously. Threads improve the performance of an application. \n",
    "<br>\n",
    "\n",
    "- ## Threads share memory, which allows them to use resources more efficiently. \n",
    "<br>\n",
    "\n",
    "- ## If a thread encounters a problem, it will not affect the other threads of the application."
   ]
  }
 ],
 "metadata": {
  "kernelspec": {
   "display_name": "Python 3 (ipykernel)",
   "language": "python",
   "name": "python3"
  },
  "language_info": {
   "codemirror_mode": {
    "name": "ipython",
    "version": 3
   },
   "file_extension": ".py",
   "mimetype": "text/x-python",
   "name": "python",
   "nbconvert_exporter": "python",
   "pygments_lexer": "ipython3",
   "version": "3.10.6"
  }
 },
 "nbformat": 4,
 "nbformat_minor": 5
}

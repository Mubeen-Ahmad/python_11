{
 "cells": [
  {
   "cell_type": "markdown",
   "id": "7a908e69",
   "metadata": {},
   "source": [
    "# General stages of involved in a process"
   ]
  },
  {
   "cell_type": "markdown",
   "id": "edd9acdb",
   "metadata": {},
   "source": [
    "# 1 Program execution"
   ]
  },
  {
   "cell_type": "markdown",
   "id": "9cbc3d4b",
   "metadata": {},
   "source": [
    "- ## The first step in creating a process is executing a program. In Python, this can be done by running a Python Code"
   ]
  },
  {
   "cell_type": "code",
   "execution_count": 4,
   "id": "9fea76f8",
   "metadata": {},
   "outputs": [],
   "source": [
    "# example\n",
    "!echo \"print('Sweeterror404')\" > code.py"
   ]
  },
  {
   "cell_type": "code",
   "execution_count": 8,
   "id": "67e73fa5",
   "metadata": {},
   "outputs": [
    {
     "name": "stdout",
     "output_type": "stream",
     "text": [
      "Sweeterror404\r\n"
     ]
    }
   ],
   "source": [
    "# Running a Python script\n",
    "!python3 code.py"
   ]
  },
  {
   "cell_type": "markdown",
   "id": "d01d2ddd",
   "metadata": {},
   "source": [
    "# 2 Process creation"
   ]
  },
  {
   "cell_type": "markdown",
   "id": "5b220a24",
   "metadata": {},
   "source": [
    "- ## When a program is executed, the operating system creates a process. \n",
    "<br>\n",
    "\n",
    "- ## This process is given a unique identifier called a process ID (PID), and it is assigned system resources such as memory, CPU time, and I/O resources."
   ]
  },
  {
   "cell_type": "code",
   "execution_count": 4,
   "id": "7736ea3f",
   "metadata": {},
   "outputs": [
    {
     "name": "stdout",
     "output_type": "stream",
     "text": [
      "357100\n",
      "Hello World\n"
     ]
    }
   ],
   "source": [
    "import os\n",
    "\n",
    "print(os.getpid()) # this process id are assigned by the operating system\n",
    "print('Hello World')"
   ]
  },
  {
   "cell_type": "code",
   "execution_count": 26,
   "id": "81c01f4e",
   "metadata": {},
   "outputs": [],
   "source": [
    "# we also use os.fork() for create a new manual process"
   ]
  },
  {
   "cell_type": "markdown",
   "id": "7541817a",
   "metadata": {},
   "source": [
    "# 3 Process State"
   ]
  },
  {
   "cell_type": "markdown",
   "id": "8409262e",
   "metadata": {},
   "source": [
    "- ## A process can be in one of several states, including running, ready, blocked, or terminated. \n",
    "<br>\n",
    "\n",
    "- ## The state of a process can change depending on the availability of system resources, I/O operations, or other events."
   ]
  },
  {
   "cell_type": "code",
   "execution_count": 17,
   "id": "e6e583ee",
   "metadata": {},
   "outputs": [
    {
     "name": "stdout",
     "output_type": "stream",
     "text": [
      "psutil.Process(pid=357100, name='python3', status='running', started='23:15:20')\n",
      "\n",
      "running\n"
     ]
    }
   ],
   "source": [
    "import psutil\n",
    "\n",
    "p = psutil.Process(357100) # psutil get the info of current state of process\n",
    "# Get process state\n",
    "print(p)\n",
    "print()\n",
    "print(p.status())"
   ]
  },
  {
   "cell_type": "markdown",
   "id": "e4278ab0",
   "metadata": {},
   "source": [
    "# 4 Process scheduling\n",
    "<br>\n",
    "\n",
    "- ## When multiple processes are running simultaneously, the operating system schedules them to share the CPU time. \n",
    "<br>\n",
    "\n",
    "- ## The scheduling algorithm considers various factors such as priority, time constraints, and other factors to decide which process should run next."
   ]
  },
  {
   "cell_type": "markdown",
   "id": "71b15efe",
   "metadata": {},
   "source": [
    "<br>\n",
    "\n",
    "- ## To change the priority of a process in Python, we can use the psutil module. \n",
    "<br>\n",
    "\n",
    "- ## This module provides APIs to get information about a process and adjust its priority level. "
   ]
  },
  {
   "cell_type": "markdown",
   "id": "3d04746e",
   "metadata": {},
   "source": [
    "<img src=\"../../images/ps_sh.png\" style=\"display: block;margin-left: auto;margin-right: auto;\n",
    "  width: 200%; border-radius:0px 10px 10px 10px; height:600px;\">\n"
   ]
  },
  {
   "cell_type": "code",
   "execution_count": 102,
   "id": "3c74097d",
   "metadata": {},
   "outputs": [
    {
     "name": "stdout",
     "output_type": "stream",
     "text": [
      "psutil.Process(pid=12115, name='snap', status='sleeping', started='21:24:47')\n"
     ]
    }
   ],
   "source": [
    "import psutil\n",
    "\n",
    "process = psutil.Process(12115) # check process\n",
    "print(process)\n"
   ]
  },
  {
   "cell_type": "code",
   "execution_count": 103,
   "id": "718d28ea",
   "metadata": {},
   "outputs": [
    {
     "name": "stdout",
     "output_type": "stream",
     "text": [
      "19\n"
     ]
    }
   ],
   "source": [
    "# check current priority\n",
    "current_priority = process.nice()\n",
    "print(current_priority) # 19 means very low "
   ]
  },
  {
   "cell_type": "code",
   "execution_count": 104,
   "id": "e9435729",
   "metadata": {},
   "outputs": [
    {
     "ename": "AccessDenied",
     "evalue": "(pid=12115, name='snap')",
     "output_type": "error",
     "traceback": [
      "\u001b[0;31m---------------------------------------------------------------------------\u001b[0m",
      "\u001b[0;31mPermissionError\u001b[0m                           Traceback (most recent call last)",
      "File \u001b[0;32m/usr/lib/python3/dist-packages/psutil/_pslinux.py:1661\u001b[0m, in \u001b[0;36mwrap_exceptions.<locals>.wrapper\u001b[0;34m(self, *args, **kwargs)\u001b[0m\n\u001b[1;32m   1660\u001b[0m \u001b[38;5;28;01mtry\u001b[39;00m:\n\u001b[0;32m-> 1661\u001b[0m     \u001b[38;5;28;01mreturn\u001b[39;00m \u001b[43mfun\u001b[49m\u001b[43m(\u001b[49m\u001b[38;5;28;43mself\u001b[39;49m\u001b[43m,\u001b[49m\u001b[43m \u001b[49m\u001b[38;5;241;43m*\u001b[39;49m\u001b[43margs\u001b[49m\u001b[43m,\u001b[49m\u001b[43m \u001b[49m\u001b[38;5;241;43m*\u001b[39;49m\u001b[38;5;241;43m*\u001b[39;49m\u001b[43mkwargs\u001b[49m\u001b[43m)\u001b[49m\n\u001b[1;32m   1662\u001b[0m \u001b[38;5;28;01mexcept\u001b[39;00m \u001b[38;5;167;01mPermissionError\u001b[39;00m:\n",
      "File \u001b[0;32m/usr/lib/python3/dist-packages/psutil/_pslinux.py:2077\u001b[0m, in \u001b[0;36mProcess.nice_set\u001b[0;34m(self, value)\u001b[0m\n\u001b[1;32m   2075\u001b[0m \u001b[38;5;129m@wrap_exceptions\u001b[39m\n\u001b[1;32m   2076\u001b[0m \u001b[38;5;28;01mdef\u001b[39;00m \u001b[38;5;21mnice_set\u001b[39m(\u001b[38;5;28mself\u001b[39m, value):\n\u001b[0;32m-> 2077\u001b[0m     \u001b[38;5;28;01mreturn\u001b[39;00m \u001b[43mcext_posix\u001b[49m\u001b[38;5;241;43m.\u001b[39;49m\u001b[43msetpriority\u001b[49m\u001b[43m(\u001b[49m\u001b[38;5;28;43mself\u001b[39;49m\u001b[38;5;241;43m.\u001b[39;49m\u001b[43mpid\u001b[49m\u001b[43m,\u001b[49m\u001b[43m \u001b[49m\u001b[43mvalue\u001b[49m\u001b[43m)\u001b[49m\n",
      "\u001b[0;31mPermissionError\u001b[0m: [Errno 13] Permission denied",
      "\nDuring handling of the above exception, another exception occurred:\n",
      "\u001b[0;31mAccessDenied\u001b[0m                              Traceback (most recent call last)",
      "Cell \u001b[0;32mIn [104], line 2\u001b[0m\n\u001b[1;32m      1\u001b[0m \u001b[38;5;66;03m# change priority\u001b[39;00m\n\u001b[0;32m----> 2\u001b[0m \u001b[43mprocess\u001b[49m\u001b[38;5;241;43m.\u001b[39;49m\u001b[43mnice\u001b[49m\u001b[43m(\u001b[49m\u001b[38;5;241;43m5\u001b[39;49m\u001b[43m)\u001b[49m\n",
      "File \u001b[0;32m/usr/lib/python3/dist-packages/psutil/__init__.py:731\u001b[0m, in \u001b[0;36mProcess.nice\u001b[0;34m(self, value)\u001b[0m\n\u001b[1;32m    729\u001b[0m \u001b[38;5;28;01mif\u001b[39;00m \u001b[38;5;129;01mnot\u001b[39;00m \u001b[38;5;28mself\u001b[39m\u001b[38;5;241m.\u001b[39mis_running():\n\u001b[1;32m    730\u001b[0m     \u001b[38;5;28;01mraise\u001b[39;00m NoSuchProcess(\u001b[38;5;28mself\u001b[39m\u001b[38;5;241m.\u001b[39mpid, \u001b[38;5;28mself\u001b[39m\u001b[38;5;241m.\u001b[39m_name)\n\u001b[0;32m--> 731\u001b[0m \u001b[38;5;28;43mself\u001b[39;49m\u001b[38;5;241;43m.\u001b[39;49m\u001b[43m_proc\u001b[49m\u001b[38;5;241;43m.\u001b[39;49m\u001b[43mnice_set\u001b[49m\u001b[43m(\u001b[49m\u001b[43mvalue\u001b[49m\u001b[43m)\u001b[49m\n",
      "File \u001b[0;32m/usr/lib/python3/dist-packages/psutil/_pslinux.py:1663\u001b[0m, in \u001b[0;36mwrap_exceptions.<locals>.wrapper\u001b[0;34m(self, *args, **kwargs)\u001b[0m\n\u001b[1;32m   1661\u001b[0m     \u001b[38;5;28;01mreturn\u001b[39;00m fun(\u001b[38;5;28mself\u001b[39m, \u001b[38;5;241m*\u001b[39margs, \u001b[38;5;241m*\u001b[39m\u001b[38;5;241m*\u001b[39mkwargs)\n\u001b[1;32m   1662\u001b[0m \u001b[38;5;28;01mexcept\u001b[39;00m \u001b[38;5;167;01mPermissionError\u001b[39;00m:\n\u001b[0;32m-> 1663\u001b[0m     \u001b[38;5;28;01mraise\u001b[39;00m AccessDenied(\u001b[38;5;28mself\u001b[39m\u001b[38;5;241m.\u001b[39mpid, \u001b[38;5;28mself\u001b[39m\u001b[38;5;241m.\u001b[39m_name)\n\u001b[1;32m   1664\u001b[0m \u001b[38;5;28;01mexcept\u001b[39;00m \u001b[38;5;167;01mProcessLookupError\u001b[39;00m:\n\u001b[1;32m   1665\u001b[0m     \u001b[38;5;28;01mraise\u001b[39;00m NoSuchProcess(\u001b[38;5;28mself\u001b[39m\u001b[38;5;241m.\u001b[39mpid, \u001b[38;5;28mself\u001b[39m\u001b[38;5;241m.\u001b[39m_name)\n",
      "\u001b[0;31mAccessDenied\u001b[0m: (pid=12115, name='snap')"
     ]
    }
   ],
   "source": [
    "# change priority\n",
    "process.nice(5)\n"
   ]
  },
  {
   "cell_type": "code",
   "execution_count": 105,
   "id": "9fc32df8",
   "metadata": {},
   "outputs": [
    {
     "name": "stdout",
     "output_type": "stream",
     "text": [
      "Enter your password: ········\n"
     ]
    }
   ],
   "source": [
    "# we need root / admin permission\n",
    "\n",
    "# execute same code with access root permission\n",
    "import subprocess\n",
    "from getpass import getpass\n",
    "\n",
    "password = getpass(\"Enter your password: \")\n",
    "command = [\"sudo\", \"-S\", \"python3\", \"-c\", \"import psutil; psutil.Process(12115).nice(0)\"]\n",
    "process = subprocess.Popen(command, stdin=subprocess.PIPE, stdout=subprocess.PIPE, stderr=subprocess.PIPE, universal_newlines=True)\n",
    "stdout, stderr = process.communicate(input=password+'\\n')\n"
   ]
  },
  {
   "cell_type": "code",
   "execution_count": 109,
   "id": "b0742032",
   "metadata": {},
   "outputs": [
    {
     "name": "stdout",
     "output_type": "stream",
     "text": [
      "0\n"
     ]
    }
   ],
   "source": [
    "# now check again priority\n",
    "print(psutil.Process(12115).nice()) # 0 means normal"
   ]
  },
  {
   "cell_type": "markdown",
   "id": "0546ecee",
   "metadata": {},
   "source": [
    "<img src=\"../../images/newps.png\" style=\"display: block;margin-left: auto;margin-right: auto;\n",
    "  width: 200%; border-radius:0px 10px 10px 10px; height:600px;\">\n"
   ]
  },
  {
   "cell_type": "markdown",
   "id": "934104ef",
   "metadata": {},
   "source": [
    "## Manually Process Create"
   ]
  },
  {
   "cell_type": "code",
   "execution_count": 154,
   "id": "4108870f",
   "metadata": {},
   "outputs": [
    {
     "name": "stdout",
     "output_type": "stream",
     "text": [
      "hello world\n",
      "psutil.Process(pid=794882, name='python3', status='running', started='01:48:26')\n",
      "0\n"
     ]
    }
   ],
   "source": [
    "from multiprocessing import Process\n",
    "import psutil\n",
    "\n",
    "def my_function():\n",
    "    print(\"hello world\")\n",
    "\n",
    "# Create a new process\n",
    "p = Process(target=my_function)\n",
    "# Start the process\n",
    "p.start()\n",
    "\n",
    "# access manualy created process info\n",
    "print(psutil.Process(int(p.pid)))\n",
    "\n",
    "    # check priority\n",
    "print(psutil.Process(int(p.pid)).nice())\n",
    "\n",
    "# Wait for the process to finish\n",
    "\n",
    "p.join()\n"
   ]
  },
  {
   "cell_type": "markdown",
   "id": "15503309",
   "metadata": {},
   "source": [
    "# 5 Process communication"
   ]
  },
  {
   "cell_type": "markdown",
   "id": "1c55000f",
   "metadata": {},
   "source": [
    "- ## When multiple processes are running at the same time, the operating system schedules them to share the CPU time. \n",
    "<br>\n",
    "\n",
    "- ## In Python, the multiprocessing module provides a way to run multiple processes concurrently."
   ]
  },
  {
   "cell_type": "code",
   "execution_count": 163,
   "id": "89ec04ce",
   "metadata": {},
   "outputs": [
    {
     "name": "stdout",
     "output_type": "stream",
     "text": [
      "I Completed my work\n",
      "ok good work\n"
     ]
    }
   ],
   "source": [
    "from multiprocessing import Process,Pipe\n",
    "\n",
    "def sender(conn):\n",
    "    conn.send(\"I Completed my work\")\n",
    "\n",
    "def receiver(conn):\n",
    "    print(conn.recv())\n",
    "\n",
    "    \n",
    "# create Pipe\n",
    "parent,child = Pipe()\n",
    "\n",
    "# create task\n",
    "p = Process(target=sender,args=(child,))\n",
    "\n",
    "# start proccess\n",
    "p.start()\n",
    "\n",
    "receiver(parent) # parent receive msg\n",
    "parent.send(\"ok good work\")\n",
    "\n",
    "receiver(child) # child receive msg\n",
    "\n",
    "\n",
    "# join wait for complete the process\n",
    "p.join()\n"
   ]
  },
  {
   "cell_type": "markdown",
   "id": "c26e89b5",
   "metadata": {},
   "source": [
    "# 6 Process synchronization"
   ]
  },
  {
   "cell_type": "markdown",
   "id": "3cb02e18",
   "metadata": {},
   "source": [
    "- ## Process synchronization, also known as the balance of operation, is an important concept used in working with multiple processes. \n",
    "<br>\n",
    "\n",
    "- ## When multiple processes work together, it is necessary to maintain a balance between them so that one process cannot interfere with the expected actions of another process. \n",
    "<br>\n",
    "\n",
    "- ## Fortunately, the operating system itself creates this balance. However, programmers also need to use certain mechanisms for this purpose, such as semaphores, mutexes, and monitors."
   ]
  },
  {
   "cell_type": "markdown",
   "id": "95544aa1",
   "metadata": {},
   "source": [
    "- ## Process synchronization is used by programmers to ensure that multiple processes or threads in a system do not interfere with each other, and that they access shared resources in a coordinated and controlled manner. \n",
    "<br>\n",
    "\n",
    "- ## This helps prevent problems like race conditions, deadlocks, and data corruption. Process synchronization mechanisms like semaphores, mutexes, and monitors are commonly used in operating systems and programming languages to implement process synchronization."
   ]
  },
  {
   "cell_type": "markdown",
   "id": "798c041d",
   "metadata": {},
   "source": [
    "# Example "
   ]
  },
  {
   "cell_type": "markdown",
   "id": "de7bc301",
   "metadata": {},
   "source": [
    "- ## As a practical example, imagine you have two processes, one generating data and the other consuming it. \n",
    "<br>\n",
    "\n",
    "- ## If the data generator process generates some data and the data consumer process consumes that data immediately, it will lead to unexpected behavior because the data generator process is still generating data while the data consumer process has already consumed it.\n",
    "<br>\n",
    "\n",
    "- ## To resolve this issue, in this example, we can use Locks in multiprocessing. By using Locks, we can ensure that only one process is generating data at a time and the data consumer process waits until the data generator process is done generating data. This way, we can synchronize both processes and prevent unexpected behavior.\n"
   ]
  },
  {
   "cell_type": "code",
   "execution_count": 1,
   "id": "715720fe",
   "metadata": {},
   "outputs": [
    {
     "name": "stdout",
     "output_type": "stream",
     "text": [
      "Data written to file successfully.\n",
      "Data read from file: An Error is a Sweet Taste\n",
      "\n"
     ]
    }
   ],
   "source": [
    "import multiprocessing\n",
    "\n",
    "# define the lock\n",
    "lock = multiprocessing.Lock()\n",
    "\n",
    "\n",
    "# this process write the data\n",
    "def write_to_file(file_name, data):\n",
    "    with lock:\n",
    "        with open(file_name, \"a\") as f:\n",
    "            f.write(data)\n",
    "        print(\"Data written to file successfully.\")\n",
    "\n",
    "\n",
    "# this process read the data\n",
    "def read_from_file(file_name):\n",
    "    with lock:\n",
    "        with open(file_name, \"r\") as f:\n",
    "            data = f.read()\n",
    "        print(f\"Data read from file: {data}\")\n",
    "\n",
    "\n",
    "file_name = \"msg.txt\"\n",
    "process1 = multiprocessing.Process(target=write_to_file, args=(file_name, \"An Error is a Sweet Taste\\n\"))\n",
    "process2 = multiprocessing.Process(target=read_from_file, args=(file_name,))\n",
    "\n",
    "# Start the Processes\n",
    "process1.start()\n",
    "process2.start()\n",
    "\n",
    "# Wait the process\n",
    "\n",
    "process1.join() # wait for the write first\n",
    "process2.join()\n"
   ]
  },
  {
   "cell_type": "code",
   "execution_count": 3,
   "id": "b36b1cbf",
   "metadata": {},
   "outputs": [
    {
     "name": "stdout",
     "output_type": "stream",
     "text": [
      "An Error is a Sweet Taste\r\n"
     ]
    }
   ],
   "source": [
    "!cat msg.txt"
   ]
  },
  {
   "cell_type": "markdown",
   "id": "57d01587",
   "metadata": {},
   "source": [
    "# 7 Process termination"
   ]
  },
  {
   "cell_type": "markdown",
   "id": "58fd98fb",
   "metadata": {},
   "source": [
    "- ## Process termination means ending or stopping a process. When a process starts working, it is created within the Operating System. It is necessary to terminate the process once it has finished its work so that it does not block the Operating System's resources.\n",
    "<br>\n",
    "\n",
    "- ## There are two ways to terminate a process - normal termination and abnormal termination. In normal termination, the process ends itself when its work is completed. In this way, the process releases resources and informs the Operating System that it has ended.\n",
    "<br>\n",
    "\n",
    "- ## In abnormal termination, the process is forcefully terminated. In this type of termination, some signals or commands are used from the Operating System to terminate the process. These signals or commands terminate the process and release its resources.\n"
   ]
  },
  {
   "cell_type": "code",
   "execution_count": 8,
   "id": "b0a30f5e",
   "metadata": {},
   "outputs": [
    {
     "name": "stdout",
     "output_type": "stream",
     "text": [
      "Starting my function\n",
      "Process terminated\n"
     ]
    }
   ],
   "source": [
    "import multiprocessing\n",
    "import time\n",
    "\n",
    "def my_function():\n",
    "    print(\"Starting my function\")\n",
    "    time.sleep(5)\n",
    "    print(\"Finishing my function\")\n",
    "\n",
    "process = multiprocessing.Process(target=my_function)\n",
    "process.start()\n",
    "time.sleep(2)\n",
    "process.terminate()\n",
    "print(\"Process terminated\")\n"
   ]
  }
 ],
 "metadata": {
  "kernelspec": {
   "display_name": "Python 3 (ipykernel)",
   "language": "python",
   "name": "python3"
  },
  "language_info": {
   "codemirror_mode": {
    "name": "ipython",
    "version": 3
   },
   "file_extension": ".py",
   "mimetype": "text/x-python",
   "name": "python",
   "nbconvert_exporter": "python",
   "pygments_lexer": "ipython3",
   "version": "3.10.6"
  }
 },
 "nbformat": 4,
 "nbformat_minor": 5
}

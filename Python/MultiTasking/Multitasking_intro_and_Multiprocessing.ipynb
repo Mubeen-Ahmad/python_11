{
 "cells": [
  {
   "cell_type": "markdown",
   "id": "2456e7f5",
   "metadata": {},
   "source": [
    "# MultiTasking"
   ]
  },
  {
   "cell_type": "markdown",
   "id": "2e17c3a0",
   "metadata": {},
   "source": [
    "# Multitasking allows multiple tasks or processes to run concurrently, which can improve the performance and efficiency of a program."
   ]
  },
  {
   "cell_type": "markdown",
   "id": "7365ee86",
   "metadata": {},
   "source": [
    "<h2>There are different ways to achieve multitasking in Python, including:<br><br> <br><b>Threads</b> : <br><br>&nbsp;&nbsp;&nbsp;&nbsp;&nbsp;&nbsp;&nbsp;&nbsp;Threads are lightweight processes that run within a single program. Python provides a built-in threading module that allows you to create and manage threads easily.<br><br><br>\n",
    "<b>Multiprocessing</b> : <br><br>&nbsp;&nbsp;&nbsp;&nbsp;&nbsp;&nbsp;&nbsp;&nbsp;Multiprocessing involves running multiple processes in parallel, each with its own memory space. The multiprocessing module in Python allows you to create and manage processes.<br><br><br><b>Asyncio</b> : <br><br><brr>&nbsp;&nbsp;&nbsp;&nbsp;&nbsp;&nbsp;&nbsp;&nbsp;Asyncio is a library in Python that provides support for asynchronous programming. It allows you to write concurrent code using coroutines and event loops.<br><br><br>\n",
    "<b>Concurrent.futures</b> : <br><br>&nbsp;&nbsp;&nbsp;&nbsp;&nbsp;&nbsp;&nbsp;&nbsp;The concurrent.futures module in Python provides a high-level interface for asynchronously executing functions using threads or processes.</h2>"
   ]
  },
  {
   "cell_type": "markdown",
   "id": "92aea5ad",
   "metadata": {},
   "source": [
    "<h1><br><br>Multiprocessing (Process Based Multasking)<h1>\n",
    "<h2> Executing the Multiple task at the same time where each task is a separate Independent program(process)</h2><br>\n",
    "<h2>It is Suitable For Operating System Level</h2"
   ]
  },
  {
   "cell_type": "markdown",
   "id": "ffdbb32c",
   "metadata": {},
   "source": [
    "<br>\n",
    "\n",
    "<img src=\"../../images/multitsk.png\" style=\"display: block;margin-left: auto;margin-right: auto;\n",
    "  width: 100%; border-radius:0px 10px 10px 10px; height:600px;\">\n"
   ]
  },
  {
   "cell_type": "markdown",
   "id": "f51f19de",
   "metadata": {},
   "source": [
    "# Example"
   ]
  },
  {
   "cell_type": "code",
   "execution_count": 1,
   "id": "957f3c9e",
   "metadata": {},
   "outputs": [],
   "source": [
    "import multiprocessing"
   ]
  },
  {
   "cell_type": "code",
   "execution_count": 20,
   "id": "cc0bdb0a",
   "metadata": {},
   "outputs": [
    {
     "name": "stdout",
     "output_type": "stream",
     "text": [
      "images\tMultitasking_intro_and_Multiprocessing.ipynb\r\n"
     ]
    }
   ],
   "source": [
    "!mkdir images\n",
    "!ls"
   ]
  },
  {
   "cell_type": "code",
   "execution_count": 5,
   "id": "ba568450",
   "metadata": {},
   "outputs": [],
   "source": [
    "urls  = \"https://picsum.photos/2000/2000\""
   ]
  },
  {
   "cell_type": "markdown",
   "id": "1add5ee4",
   "metadata": {},
   "source": [
    "# Lets Download HD Images"
   ]
  },
  {
   "cell_type": "code",
   "execution_count": 4,
   "id": "8eb3a12b",
   "metadata": {},
   "outputs": [],
   "source": [
    "def downloads(url,name):\n",
    "    import requests\n",
    "    \n",
    "    with open(f\"./images/{name}.jpg\",\"wb\") as f:\n",
    "        f.write(requests.get(url).content)"
   ]
  },
  {
   "cell_type": "code",
   "execution_count": 11,
   "id": "fe873350",
   "metadata": {},
   "outputs": [
    {
     "name": "stdout",
     "output_type": "stream",
     "text": [
      "CPU times: user 17.9 s, sys: 279 ms, total: 18.1 s\n",
      "Wall time: 2min 32s\n"
     ]
    }
   ],
   "source": [
    "%%time\n",
    "for i in range(50):\n",
    "    downloads(urls,i)"
   ]
  },
  {
   "cell_type": "code",
   "execution_count": 12,
   "id": "2d7102ef",
   "metadata": {},
   "outputs": [
    {
     "name": "stdout",
     "output_type": "stream",
     "text": [
      "0.jpg\t14.jpg\t19.jpg\t23.jpg\t28.jpg\t32.jpg\t37.jpg\t41.jpg\t46.jpg\t5.jpg\r\n",
      "10.jpg\t15.jpg\t1.jpg\t24.jpg\t29.jpg\t33.jpg\t38.jpg\t42.jpg\t47.jpg\t6.jpg\r\n",
      "11.jpg\t16.jpg\t20.jpg\t25.jpg\t2.jpg\t34.jpg\t39.jpg\t43.jpg\t48.jpg\t7.jpg\r\n",
      "12.jpg\t17.jpg\t21.jpg\t26.jpg\t30.jpg\t35.jpg\t3.jpg\t44.jpg\t49.jpg\t8.jpg\r\n",
      "13.jpg\t18.jpg\t22.jpg\t27.jpg\t31.jpg\t36.jpg\t40.jpg\t45.jpg\t4.jpg\t9.jpg\r\n"
     ]
    }
   ],
   "source": [
    "!ls images/"
   ]
  },
  {
   "cell_type": "code",
   "execution_count": 2,
   "id": "9fd2d6aa",
   "metadata": {},
   "outputs": [],
   "source": [
    "## delete images\n",
    "!rm -rf ./images/*\n",
    "!ls ./images/"
   ]
  },
  {
   "cell_type": "markdown",
   "id": "4de673fc",
   "metadata": {},
   "source": [
    "# Now Execute Same code with Multiprocessing"
   ]
  },
  {
   "cell_type": "code",
   "execution_count": 6,
   "id": "633d23eb",
   "metadata": {},
   "outputs": [],
   "source": [
    "process = []\n",
    "for i in range(50):\n",
    "    p = multiprocessing.Process(target=downloads,args=[urls,i])\n",
    "    p.start()\n",
    "    process.append(p)"
   ]
  },
  {
   "cell_type": "markdown",
   "id": "55264b18",
   "metadata": {},
   "source": [
    "## print all process"
   ]
  },
  {
   "cell_type": "code",
   "execution_count": 7,
   "id": "532b9fc9",
   "metadata": {},
   "outputs": [
    {
     "name": "stdout",
     "output_type": "stream",
     "text": [
      "Process-1 438864\n",
      "Process-2 438865\n",
      "Process-3 438866\n",
      "Process-4 438867\n",
      "Process-5 438868\n",
      "Process-6 438869\n",
      "Process-7 438870\n",
      "Process-8 438871\n",
      "Process-9 438872\n",
      "Process-10 438873\n",
      "Process-11 438876\n",
      "Process-12 438877\n",
      "Process-13 438878\n",
      "Process-14 438879\n",
      "Process-15 438880\n",
      "Process-16 438881\n",
      "Process-17 438882\n",
      "Process-18 438883\n",
      "Process-19 438884\n",
      "Process-20 438885\n",
      "Process-21 438887\n",
      "Process-22 438888\n",
      "Process-23 438889\n",
      "Process-24 438895\n",
      "Process-25 438896\n",
      "Process-26 438897\n",
      "Process-27 438898\n",
      "Process-28 438899\n",
      "Process-29 438900\n",
      "Process-30 438901\n",
      "Process-31 438902\n",
      "Process-32 438903\n",
      "Process-33 438904\n",
      "Process-34 438905\n",
      "Process-35 438906\n",
      "Process-36 438907\n",
      "Process-37 438908\n",
      "Process-38 438909\n",
      "Process-39 438910\n",
      "Process-40 438911\n",
      "Process-41 438912\n",
      "Process-42 438913\n",
      "Process-43 438914\n",
      "Process-44 438915\n",
      "Process-45 438916\n",
      "Process-46 438917\n",
      "Process-47 438918\n",
      "Process-48 438919\n",
      "Process-49 438920\n",
      "Process-50 438921\n"
     ]
    }
   ],
   "source": [
    "for i in process:\n",
    "    print(i.name,i.pid)"
   ]
  },
  {
   "cell_type": "markdown",
   "id": "1281a211",
   "metadata": {},
   "source": [
    "## Now Run this Process"
   ]
  },
  {
   "cell_type": "code",
   "execution_count": 8,
   "id": "de5917e7",
   "metadata": {},
   "outputs": [
    {
     "name": "stdout",
     "output_type": "stream",
     "text": [
      "CPU times: user 35 µs, sys: 11 µs, total: 46 µs\n",
      "Wall time: 47.9 µs\n"
     ]
    }
   ],
   "source": [
    "%%time\n",
    "p.join()"
   ]
  },
  {
   "cell_type": "markdown",
   "id": "c4f25cc5",
   "metadata": {},
   "source": [
    "## only 479 us = 0.0000479 Second"
   ]
  },
  {
   "cell_type": "code",
   "execution_count": 9,
   "id": "877c337a",
   "metadata": {},
   "outputs": [
    {
     "name": "stdout",
     "output_type": "stream",
     "text": [
      "0.jpg\t14.jpg\t19.jpg\t23.jpg\t28.jpg\t32.jpg\t37.jpg\t41.jpg\t46.jpg\t5.jpg\r\n",
      "10.jpg\t15.jpg\t1.jpg\t24.jpg\t29.jpg\t33.jpg\t38.jpg\t42.jpg\t47.jpg\t6.jpg\r\n",
      "11.jpg\t16.jpg\t20.jpg\t25.jpg\t2.jpg\t34.jpg\t39.jpg\t43.jpg\t48.jpg\t7.jpg\r\n",
      "12.jpg\t17.jpg\t21.jpg\t26.jpg\t30.jpg\t35.jpg\t3.jpg\t44.jpg\t49.jpg\t8.jpg\r\n",
      "13.jpg\t18.jpg\t22.jpg\t27.jpg\t31.jpg\t36.jpg\t40.jpg\t45.jpg\t4.jpg\t9.jpg\r\n"
     ]
    }
   ],
   "source": [
    "!ls ./images/"
   ]
  },
  {
   "cell_type": "markdown",
   "id": "92455a59",
   "metadata": {},
   "source": [
    "# Check Process"
   ]
  },
  {
   "cell_type": "code",
   "execution_count": 10,
   "id": "f1154da1",
   "metadata": {},
   "outputs": [
    {
     "name": "stdout",
     "output_type": "stream",
     "text": [
      "<Process name='Process-1' pid=438864 parent=438842 stopped exitcode=0>\n",
      "<Process name='Process-2' pid=438865 parent=438842 stopped exitcode=0>\n",
      "<Process name='Process-3' pid=438866 parent=438842 stopped exitcode=0>\n",
      "<Process name='Process-4' pid=438867 parent=438842 stopped exitcode=0>\n",
      "<Process name='Process-5' pid=438868 parent=438842 stopped exitcode=0>\n",
      "<Process name='Process-6' pid=438869 parent=438842 stopped exitcode=0>\n",
      "<Process name='Process-7' pid=438870 parent=438842 stopped exitcode=0>\n",
      "<Process name='Process-8' pid=438871 parent=438842 stopped exitcode=0>\n",
      "<Process name='Process-9' pid=438872 parent=438842 stopped exitcode=0>\n",
      "<Process name='Process-10' pid=438873 parent=438842 stopped exitcode=0>\n",
      "<Process name='Process-11' pid=438876 parent=438842 stopped exitcode=0>\n",
      "<Process name='Process-12' pid=438877 parent=438842 stopped exitcode=0>\n",
      "<Process name='Process-13' pid=438878 parent=438842 stopped exitcode=0>\n",
      "<Process name='Process-14' pid=438879 parent=438842 stopped exitcode=0>\n",
      "<Process name='Process-15' pid=438880 parent=438842 stopped exitcode=0>\n",
      "<Process name='Process-16' pid=438881 parent=438842 stopped exitcode=0>\n",
      "<Process name='Process-17' pid=438882 parent=438842 stopped exitcode=0>\n",
      "<Process name='Process-18' pid=438883 parent=438842 stopped exitcode=0>\n",
      "<Process name='Process-19' pid=438884 parent=438842 stopped exitcode=0>\n",
      "<Process name='Process-20' pid=438885 parent=438842 stopped exitcode=0>\n",
      "<Process name='Process-21' pid=438887 parent=438842 stopped exitcode=0>\n",
      "<Process name='Process-22' pid=438888 parent=438842 stopped exitcode=0>\n",
      "<Process name='Process-23' pid=438889 parent=438842 stopped exitcode=0>\n",
      "<Process name='Process-24' pid=438895 parent=438842 stopped exitcode=0>\n",
      "<Process name='Process-25' pid=438896 parent=438842 stopped exitcode=0>\n",
      "<Process name='Process-26' pid=438897 parent=438842 stopped exitcode=0>\n",
      "<Process name='Process-27' pid=438898 parent=438842 stopped exitcode=0>\n",
      "<Process name='Process-28' pid=438899 parent=438842 stopped exitcode=0>\n",
      "<Process name='Process-29' pid=438900 parent=438842 stopped exitcode=0>\n",
      "<Process name='Process-30' pid=438901 parent=438842 stopped exitcode=0>\n",
      "<Process name='Process-31' pid=438902 parent=438842 stopped exitcode=0>\n",
      "<Process name='Process-32' pid=438903 parent=438842 stopped exitcode=0>\n",
      "<Process name='Process-33' pid=438904 parent=438842 stopped exitcode=0>\n",
      "<Process name='Process-34' pid=438905 parent=438842 stopped exitcode=0>\n",
      "<Process name='Process-35' pid=438906 parent=438842 stopped exitcode=0>\n",
      "<Process name='Process-36' pid=438907 parent=438842 stopped exitcode=0>\n",
      "<Process name='Process-37' pid=438908 parent=438842 stopped exitcode=0>\n",
      "<Process name='Process-38' pid=438909 parent=438842 stopped exitcode=0>\n",
      "<Process name='Process-39' pid=438910 parent=438842 stopped exitcode=0>\n",
      "<Process name='Process-40' pid=438911 parent=438842 stopped exitcode=0>\n",
      "<Process name='Process-41' pid=438912 parent=438842 stopped exitcode=0>\n",
      "<Process name='Process-42' pid=438913 parent=438842 stopped exitcode=0>\n",
      "<Process name='Process-43' pid=438914 parent=438842 stopped exitcode=0>\n",
      "<Process name='Process-44' pid=438915 parent=438842 stopped exitcode=0>\n",
      "<Process name='Process-45' pid=438916 parent=438842 stopped exitcode=0>\n",
      "<Process name='Process-46' pid=438917 parent=438842 stopped exitcode=0>\n",
      "<Process name='Process-47' pid=438918 parent=438842 stopped exitcode=0>\n",
      "<Process name='Process-48' pid=438919 parent=438842 stopped exitcode=0>\n",
      "<Process name='Process-49' pid=438920 parent=438842 stopped exitcode=0>\n",
      "<Process name='Process-50' pid=438921 parent=438842 stopped exitcode=0>\n"
     ]
    }
   ],
   "source": [
    "for i in process:\n",
    "    print(i)"
   ]
  },
  {
   "cell_type": "markdown",
   "id": "324fa96e",
   "metadata": {},
   "source": [
    "# all process are closed"
   ]
  },
  {
   "cell_type": "markdown",
   "id": "e5511a50",
   "metadata": {},
   "source": [
    "# But it is good to kill the process"
   ]
  },
  {
   "cell_type": "code",
   "execution_count": 11,
   "id": "0478d691",
   "metadata": {},
   "outputs": [],
   "source": [
    "for i in process:\n",
    "    i.kill()"
   ]
  },
  {
   "cell_type": "markdown",
   "id": "36daf6f7",
   "metadata": {},
   "source": [
    "# Example 2"
   ]
  },
  {
   "cell_type": "code",
   "execution_count": 6,
   "id": "fe0b1c08",
   "metadata": {},
   "outputs": [],
   "source": [
    "def sum(start_n):\n",
    "    count = 0\n",
    "    for i in range(start_n):\n",
    "        count += 1\n",
    "        \n",
    "    return count\n",
    "        "
   ]
  },
  {
   "cell_type": "markdown",
   "id": "c6f7d69e",
   "metadata": {},
   "source": [
    "# Create Tasks"
   ]
  },
  {
   "cell_type": "code",
   "execution_count": null,
   "id": "6d88b191",
   "metadata": {},
   "outputs": [],
   "source": [
    "p1 = multiprocessing.process(sum,args)"
   ]
  }
 ],
 "metadata": {
  "kernelspec": {
   "display_name": "Python 3 (ipykernel)",
   "language": "python",
   "name": "python3"
  },
  "language_info": {
   "codemirror_mode": {
    "name": "ipython",
    "version": 3
   },
   "file_extension": ".py",
   "mimetype": "text/x-python",
   "name": "python",
   "nbconvert_exporter": "python",
   "pygments_lexer": "ipython3",
   "version": "3.10.6"
  }
 },
 "nbformat": 4,
 "nbformat_minor": 5
}

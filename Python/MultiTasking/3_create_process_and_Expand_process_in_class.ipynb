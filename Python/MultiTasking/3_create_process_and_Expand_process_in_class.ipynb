{
 "cells": [
  {
   "cell_type": "markdown",
   "id": "b9ba0d59",
   "metadata": {},
   "source": [
    "# Create Process"
   ]
  },
  {
   "cell_type": "code",
   "execution_count": 39,
   "id": "4c839606",
   "metadata": {},
   "outputs": [],
   "source": [
    "import multiprocessing\n",
    "\n",
    "parent_pid = multiprocessing.current_process().pid  # parent pid \n",
    "\n",
    "def func(arg):\n",
    "    print(arg,multiprocessing.current_process().pid)"
   ]
  },
  {
   "cell_type": "markdown",
   "id": "bf394582",
   "metadata": {},
   "source": [
    "## create a child process"
   ]
  },
  {
   "cell_type": "code",
   "execution_count": 41,
   "id": "1210c22f",
   "metadata": {},
   "outputs": [],
   "source": [
    "# create child process 1\n",
    "p1 = multiprocessing.Process(target=func,args=(\"Child Process ID\",))\n",
    "\n",
    "# create child process 2\n",
    "p2 = multiprocessing.Process(target=func,args=(\"Child Process ID\",))\n",
    "\n",
    "# it is important to pass the arguments in seprated"
   ]
  },
  {
   "cell_type": "markdown",
   "id": "0eeedc6c",
   "metadata": {},
   "source": [
    "## Start Process"
   ]
  },
  {
   "cell_type": "code",
   "execution_count": 42,
   "id": "9c54ae6d",
   "metadata": {},
   "outputs": [
    {
     "name": "stdout",
     "output_type": "stream",
     "text": [
      "Child Process ID 1299561\n",
      "Child Process ID 1299564\n"
     ]
    }
   ],
   "source": [
    "# start\n",
    "p1.start()\n",
    "p2.start()"
   ]
  },
  {
   "cell_type": "markdown",
   "id": "74e2cd97",
   "metadata": {},
   "source": [
    "# join task "
   ]
  },
  {
   "cell_type": "code",
   "execution_count": 44,
   "id": "628d7b1e",
   "metadata": {},
   "outputs": [
    {
     "name": "stdout",
     "output_type": "stream",
     "text": [
      "Child Process Completed\n",
      "Parent Process ID 1197325\n"
     ]
    }
   ],
   "source": [
    "# join wait or Finish\n",
    "p1.join() \n",
    "p2.join() \n",
    "\n",
    "print(\"Child Process Completed\")\n",
    "print(\"Parent Process ID\",parent_pid)\n"
   ]
  },
  {
   "cell_type": "markdown",
   "id": "06e36b70",
   "metadata": {},
   "source": [
    "# What happend if i can't join the process ?"
   ]
  },
  {
   "cell_type": "code",
   "execution_count": 46,
   "id": "5cd7138c",
   "metadata": {},
   "outputs": [
    {
     "name": "stdout",
     "output_type": "stream",
     "text": [
      "hello\n",
      "Process is Running\n"
     ]
    }
   ],
   "source": [
    "import multiprocessing\n",
    "\n",
    "def func():\n",
    "    print(\"Process is Running\")\n",
    "\n",
    "p = multiprocessing.Process(target=func)\n",
    "\n",
    "\n",
    "p.start()\n",
    "# p.join()\n",
    "print(\"hello\")"
   ]
  },
  {
   "cell_type": "markdown",
   "id": "2bede441",
   "metadata": {},
   "source": [
    "## That means process run at the last Main Process can't wait the child process"
   ]
  },
  {
   "cell_type": "code",
   "execution_count": 47,
   "id": "0c7889e2",
   "metadata": {},
   "outputs": [
    {
     "name": "stdout",
     "output_type": "stream",
     "text": [
      "Process is Running\n",
      "hello\n"
     ]
    }
   ],
   "source": [
    "import multiprocessing\n",
    "\n",
    "def func():\n",
    "    print(\"Process is Running\")\n",
    "\n",
    "p = multiprocessing.Process(target=func)\n",
    "\n",
    "p.start()\n",
    "p.join() # wait it first finsh this process \n",
    "print(\"hello\")"
   ]
  },
  {
   "cell_type": "markdown",
   "id": "5d40fe0f",
   "metadata": {},
   "source": [
    "# Create A process in class"
   ]
  },
  {
   "cell_type": "code",
   "execution_count": 61,
   "id": "49edda1e",
   "metadata": {},
   "outputs": [],
   "source": [
    "class Student:\n",
    "    \n",
    "    def working(self):\n",
    "        print(\"Start Working\")\n",
    "    \n",
    "    \n",
    "    def Process_run(self):\n",
    "        ps = multiprocessing.Process(target=self.working)\n",
    "        ps.start()\n",
    "        ps.join()\n",
    "        \n"
   ]
  },
  {
   "cell_type": "code",
   "execution_count": 62,
   "id": "6edb8195",
   "metadata": {},
   "outputs": [],
   "source": [
    "obj = Student()"
   ]
  },
  {
   "cell_type": "code",
   "execution_count": 63,
   "id": "74a2d644",
   "metadata": {},
   "outputs": [
    {
     "name": "stdout",
     "output_type": "stream",
     "text": [
      "Start Working\n"
     ]
    }
   ],
   "source": [
    "obj.Process_run()"
   ]
  },
  {
   "cell_type": "markdown",
   "id": "83bfe304",
   "metadata": {},
   "source": [
    "# Expanding the Process"
   ]
  },
  {
   "cell_type": "markdown",
   "id": "060c7dd5",
   "metadata": {},
   "source": [
    "# .run Method"
   ]
  },
  {
   "cell_type": "markdown",
   "id": "a4caef16",
   "metadata": {},
   "source": [
    "# In Python, classes are used to define objects that encapsulate data and functionality. The methods defined in a class provide the functionality that can be invoked on the objects created from the class.\n",
    "<br>\n",
    "\n",
    "# When you define a class in Python, you can include a method named run() in the class definition. \n",
    "<br>\n",
    "\n",
    "- ## This method can be used to define the behavior of the object when its run() method is called."
   ]
  },
  {
   "cell_type": "markdown",
   "id": "676595a8",
   "metadata": {},
   "source": [
    "# Example"
   ]
  },
  {
   "cell_type": "code",
   "execution_count": 3,
   "id": "993a6315",
   "metadata": {},
   "outputs": [
    {
     "name": "stdout",
     "output_type": "stream",
     "text": [
      "MyObject is running!\n"
     ]
    }
   ],
   "source": [
    "class MyObject:\n",
    "    \n",
    "    def run(self):\n",
    "        print(\"MyObject is running!\")\n",
    "\n",
    "obj = MyObject()\n",
    "obj.run() "
   ]
  },
  {
   "cell_type": "markdown",
   "id": "97bb9483",
   "metadata": {},
   "source": [
    "## The run() method is a method defined in many Python classes, including the multiprocessing.Process class.\n",
    "<br>\n",
    "\n",
    "## It contains the code that will be executed when the object's functionality is invoked.\n"
   ]
  },
  {
   "cell_type": "markdown",
   "id": "0bcdd8d9",
   "metadata": {},
   "source": [
    "- ## In the context of multiprocessing.Process, the run() method is called automatically when the process is started using the start() method. \n",
    "<br>\n",
    "\n",
    "- ## It contains the code that will be executed in the new process, which is a separate instance of the Python interpreter.\n",
    "<br>\n",
    "\n",
    "- ## This allows the code to be executed in parallel with the main program.\n",
    "<br>"
   ]
  },
  {
   "cell_type": "markdown",
   "id": "03f35eb6",
   "metadata": {},
   "source": [
    "- ## While it is possible to call the run() method directly, it is not recommended when using multiprocessing.Process, as it will execute the code in the main program instead of spawning a new process. \n",
    "<br>\n",
    "\n",
    "- ## Calling start() is the correct way to start the new process and execute the code in parallel with the main program.\n"
   ]
  },
  {
   "cell_type": "code",
   "execution_count": 4,
   "id": "1e0cacb9",
   "metadata": {},
   "outputs": [
    {
     "name": "stdout",
     "output_type": "stream",
     "text": [
      "Main Process pid 277964\n",
      "Custom Process pid 306344\n"
     ]
    }
   ],
   "source": [
    "    import multiprocessing\n",
    "\n",
    "    print(\"Main Process pid\",multiprocessing.current_process().pid)\n",
    "\n",
    "    class CustomProcess(multiprocessing.Process):\n",
    "        def run(self):\n",
    "            print(\"Custom Process pid\",multiprocessing.current_process().pid)\n",
    "\n",
    "\n",
    "    process = CustomProcess()\n",
    "    process.start()\n",
    "    process.join()\n",
    "\n",
    "# HERE .start overide to run method"
   ]
  },
  {
   "cell_type": "markdown",
   "id": "92a34545",
   "metadata": {},
   "source": [
    "# How to pass argumetns / values in run method ?"
   ]
  },
  {
   "cell_type": "code",
   "execution_count": 6,
   "id": "94fe00f3",
   "metadata": {},
   "outputs": [
    {
     "name": "stdout",
     "output_type": "stream",
     "text": [
      "Main Process pid 277964\n"
     ]
    },
    {
     "ename": "TypeError",
     "evalue": "BaseProcess.start() takes 1 positional argument but 2 were given",
     "output_type": "error",
     "traceback": [
      "\u001b[0;31m---------------------------------------------------------------------------\u001b[0m",
      "\u001b[0;31mTypeError\u001b[0m                                 Traceback (most recent call last)",
      "Cell \u001b[0;32mIn [6], line 12\u001b[0m\n\u001b[1;32m      8\u001b[0m         \u001b[38;5;28mprint\u001b[39m(\u001b[38;5;124m\"\u001b[39m\u001b[38;5;124mCustom Process pid\u001b[39m\u001b[38;5;124m\"\u001b[39m,multiprocessing\u001b[38;5;241m.\u001b[39mcurrent_process()\u001b[38;5;241m.\u001b[39mpid)\n\u001b[1;32m     11\u001b[0m process \u001b[38;5;241m=\u001b[39m CustomProcess()\n\u001b[0;32m---> 12\u001b[0m \u001b[43mprocess\u001b[49m\u001b[38;5;241;43m.\u001b[39;49m\u001b[43mstart\u001b[49m\u001b[43m(\u001b[49m\u001b[38;5;124;43m\"\u001b[39;49m\u001b[38;5;124;43mProcess are starting..\u001b[39;49m\u001b[38;5;124;43m\"\u001b[39;49m\u001b[43m)\u001b[49m\n\u001b[1;32m     13\u001b[0m process\u001b[38;5;241m.\u001b[39mjoin()\n",
      "\u001b[0;31mTypeError\u001b[0m: BaseProcess.start() takes 1 positional argument but 2 were given"
     ]
    }
   ],
   "source": [
    "import multiprocessing\n",
    "\n",
    "print(\"Main Process pid\",multiprocessing.current_process().pid)\n",
    "\n",
    "class CustomProcess(multiprocessing.Process):\n",
    "    def run(self,arg):\n",
    "        print(arg)\n",
    "        print(\"Custom Process pid\",multiprocessing.current_process().pid)\n",
    "\n",
    "\n",
    "process = CustomProcess()\n",
    "process.start(\"Process are starting..\")\n",
    "process.join()\n"
   ]
  },
  {
   "cell_type": "markdown",
   "id": "1d78fdd3",
   "metadata": {},
   "source": [
    "# Use __init__ method"
   ]
  },
  {
   "cell_type": "code",
   "execution_count": 7,
   "id": "9ceafb44",
   "metadata": {},
   "outputs": [
    {
     "name": "stdout",
     "output_type": "stream",
     "text": [
      "Main Process pid 277964\n",
      "Process are starting...\n",
      "Custom Process pid 337460\n"
     ]
    }
   ],
   "source": [
    "import multiprocessing\n",
    "\n",
    "print(\"Main Process pid\",multiprocessing.current_process().pid)\n",
    "\n",
    "class CustomProcess(multiprocessing.Process):\n",
    "\n",
    "    def __init__(self,value):\n",
    "        super().__init__()\n",
    "        self.value = value\n",
    "\n",
    "\n",
    "    def run(self):\n",
    "        print(self.value)\n",
    "        print(\"Custom Process pid\",multiprocessing.current_process().pid)\n",
    "\n",
    "\n",
    "process = CustomProcess(\"Process are starting...\")\n",
    "process.start()\n",
    "process.join()\n"
   ]
  }
 ],
 "metadata": {
  "kernelspec": {
   "display_name": "Python 3 (ipykernel)",
   "language": "python",
   "name": "python3"
  },
  "language_info": {
   "codemirror_mode": {
    "name": "ipython",
    "version": 3
   },
   "file_extension": ".py",
   "mimetype": "text/x-python",
   "name": "python",
   "nbconvert_exporter": "python",
   "pygments_lexer": "ipython3",
   "version": "3.10.6"
  }
 },
 "nbformat": 4,
 "nbformat_minor": 5
}

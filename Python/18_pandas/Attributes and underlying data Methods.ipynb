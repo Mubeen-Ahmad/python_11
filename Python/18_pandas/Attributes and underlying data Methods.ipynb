{
 "cells": [
  {
   "cell_type": "markdown",
   "id": "b2693119",
   "metadata": {},
   "source": [
    "- ## *.index*\n",
    "- ## *.columns*\n",
    "- ## *.dtypes*\n",
    "- ## *.info()*\n",
    "- ## *.values*\n",
    "- ## *.size*\n",
    "- ## *.shape*\n",
    "- ## *.empty*"
   ]
  },
  {
   "cell_type": "markdown",
   "id": "31ac01a7",
   "metadata": {},
   "source": [
    "# *.index*\n",
    "<br>\n",
    "\n",
    "- ### pd.DataFrame.index attribute returns the index object of a DataFrame. The index object is a sequence of labels that identifies the rows or observations in a DataFrame."
   ]
  },
  {
   "cell_type": "code",
   "execution_count": 9,
   "id": "6ffb4397",
   "metadata": {},
   "outputs": [],
   "source": [
    "import pandas as pd"
   ]
  },
  {
   "cell_type": "code",
   "execution_count": 12,
   "id": "7e32a382",
   "metadata": {},
   "outputs": [
    {
     "data": {
      "text/html": [
       "<div>\n",
       "<style scoped>\n",
       "    .dataframe tbody tr th:only-of-type {\n",
       "        vertical-align: middle;\n",
       "    }\n",
       "\n",
       "    .dataframe tbody tr th {\n",
       "        vertical-align: top;\n",
       "    }\n",
       "\n",
       "    .dataframe thead th {\n",
       "        text-align: right;\n",
       "    }\n",
       "</style>\n",
       "<table border=\"1\" class=\"dataframe\">\n",
       "  <thead>\n",
       "    <tr style=\"text-align: right;\">\n",
       "      <th></th>\n",
       "      <th>iq</th>\n",
       "      <th>marks</th>\n",
       "      <th>package</th>\n",
       "    </tr>\n",
       "  </thead>\n",
       "  <tbody>\n",
       "    <tr>\n",
       "      <th>0</th>\n",
       "      <td>100</td>\n",
       "      <td>90</td>\n",
       "      <td>10</td>\n",
       "    </tr>\n",
       "    <tr>\n",
       "      <th>1</th>\n",
       "      <td>90</td>\n",
       "      <td>70</td>\n",
       "      <td>7</td>\n",
       "    </tr>\n",
       "    <tr>\n",
       "      <th>2</th>\n",
       "      <td>120</td>\n",
       "      <td>100</td>\n",
       "      <td>14</td>\n",
       "    </tr>\n",
       "    <tr>\n",
       "      <th>3</th>\n",
       "      <td>80</td>\n",
       "      <td>50</td>\n",
       "      <td>2</td>\n",
       "    </tr>\n",
       "  </tbody>\n",
       "</table>\n",
       "</div>"
      ],
      "text/plain": [
       "    iq  marks  package\n",
       "0  100     90       10\n",
       "1   90     70        7\n",
       "2  120    100       14\n",
       "3   80     50        2"
      ]
     },
     "execution_count": 12,
     "metadata": {},
     "output_type": "execute_result"
    }
   ],
   "source": [
    "df = {\n",
    "    \"iq\" : [100,90,120,80],\n",
    "    \"marks\" : [90,70,100,50],\n",
    "    \"package\" : [10,7,14,2]\n",
    "}\n",
    "\n",
    "data = pd.DataFrame(df)\n",
    "data"
   ]
  },
  {
   "cell_type": "code",
   "execution_count": 13,
   "id": "0099e3ec",
   "metadata": {},
   "outputs": [
    {
     "data": {
      "text/plain": [
       "RangeIndex(start=0, stop=4, step=1)"
      ]
     },
     "execution_count": 13,
     "metadata": {},
     "output_type": "execute_result"
    }
   ],
   "source": [
    "data.index"
   ]
  },
  {
   "cell_type": "markdown",
   "id": "712800fc",
   "metadata": {},
   "source": [
    "# *.columns*\n",
    "<br>\n",
    "\n",
    "- ### DataFrame.columns attribute is used to get or set the column labels of a DataFrame. It returns a pandas Index object containing the column labels."
   ]
  },
  {
   "cell_type": "code",
   "execution_count": 16,
   "id": "5b2affe9",
   "metadata": {},
   "outputs": [
    {
     "data": {
      "text/plain": [
       "Index(['iq', 'marks', 'package'], dtype='object')"
      ]
     },
     "execution_count": 16,
     "metadata": {},
     "output_type": "execute_result"
    }
   ],
   "source": [
    "data.columns"
   ]
  },
  {
   "cell_type": "markdown",
   "id": "11ab283d",
   "metadata": {},
   "source": [
    "# *.dtypes*\n",
    "<br>\n",
    "\n",
    "- ### DataFrame.dtypes attribute is used to get the data type of each column in a DataFrame. It returns a pandas Series object containing the data types of the columns."
   ]
  },
  {
   "cell_type": "code",
   "execution_count": 17,
   "id": "e5d9720e",
   "metadata": {},
   "outputs": [
    {
     "data": {
      "text/plain": [
       "iq         int64\n",
       "marks      int64\n",
       "package    int64\n",
       "dtype: object"
      ]
     },
     "execution_count": 17,
     "metadata": {},
     "output_type": "execute_result"
    }
   ],
   "source": [
    "data.dtypes"
   ]
  },
  {
   "cell_type": "markdown",
   "id": "bf8bf1bd",
   "metadata": {},
   "source": [
    "# *.info()*\n",
    "<br>\n",
    "\n",
    "- ### DataFrame.info() method is used to get a concise summary of a DataFrame, including information about the data types of each column, the number of non-null values in each column, and the memory usage of the DataFrame."
   ]
  },
  {
   "cell_type": "code",
   "execution_count": 19,
   "id": "9748c201",
   "metadata": {},
   "outputs": [
    {
     "name": "stdout",
     "output_type": "stream",
     "text": [
      "<class 'pandas.core.frame.DataFrame'>\n",
      "RangeIndex: 4 entries, 0 to 3\n",
      "Data columns (total 3 columns):\n",
      " #   Column   Non-Null Count  Dtype\n",
      "---  ------   --------------  -----\n",
      " 0   iq       4 non-null      int64\n",
      " 1   marks    4 non-null      int64\n",
      " 2   package  4 non-null      int64\n",
      "dtypes: int64(3)\n",
      "memory usage: 224.0 bytes\n"
     ]
    }
   ],
   "source": [
    "data.info()"
   ]
  },
  {
   "cell_type": "markdown",
   "id": "dc618571",
   "metadata": {},
   "source": [
    "# *.values*\n",
    "<br>\n",
    "\n",
    "- ### DataFrame.values attribute is used to return a Numpy representation of the DataFrame. This attribute returns a two-dimensional Numpy array of the values in the DataFrame, without any index or column labels."
   ]
  },
  {
   "cell_type": "code",
   "execution_count": 34,
   "id": "a0ff7132",
   "metadata": {},
   "outputs": [
    {
     "data": {
      "text/html": [
       "<div>\n",
       "<style scoped>\n",
       "    .dataframe tbody tr th:only-of-type {\n",
       "        vertical-align: middle;\n",
       "    }\n",
       "\n",
       "    .dataframe tbody tr th {\n",
       "        vertical-align: top;\n",
       "    }\n",
       "\n",
       "    .dataframe thead th {\n",
       "        text-align: right;\n",
       "    }\n",
       "</style>\n",
       "<table border=\"1\" class=\"dataframe\">\n",
       "  <thead>\n",
       "    <tr style=\"text-align: right;\">\n",
       "      <th></th>\n",
       "      <th>iq</th>\n",
       "      <th>marks</th>\n",
       "      <th>package</th>\n",
       "    </tr>\n",
       "  </thead>\n",
       "  <tbody>\n",
       "    <tr>\n",
       "      <th>0</th>\n",
       "      <td>100</td>\n",
       "      <td>90</td>\n",
       "      <td>10</td>\n",
       "    </tr>\n",
       "    <tr>\n",
       "      <th>1</th>\n",
       "      <td>90</td>\n",
       "      <td>70</td>\n",
       "      <td>7</td>\n",
       "    </tr>\n",
       "    <tr>\n",
       "      <th>2</th>\n",
       "      <td>120</td>\n",
       "      <td>100</td>\n",
       "      <td>14</td>\n",
       "    </tr>\n",
       "    <tr>\n",
       "      <th>3</th>\n",
       "      <td>80</td>\n",
       "      <td>50</td>\n",
       "      <td>2</td>\n",
       "    </tr>\n",
       "  </tbody>\n",
       "</table>\n",
       "</div>"
      ],
      "text/plain": [
       "    iq  marks  package\n",
       "0  100     90       10\n",
       "1   90     70        7\n",
       "2  120    100       14\n",
       "3   80     50        2"
      ]
     },
     "execution_count": 34,
     "metadata": {},
     "output_type": "execute_result"
    }
   ],
   "source": [
    "data"
   ]
  },
  {
   "cell_type": "code",
   "execution_count": 35,
   "id": "d364b39f",
   "metadata": {},
   "outputs": [
    {
     "data": {
      "text/plain": [
       "array([[100,  90,  10],\n",
       "       [ 90,  70,   7],\n",
       "       [120, 100,  14],\n",
       "       [ 80,  50,   2]])"
      ]
     },
     "execution_count": 35,
     "metadata": {},
     "output_type": "execute_result"
    }
   ],
   "source": [
    "data.values"
   ]
  },
  {
   "cell_type": "code",
   "execution_count": 36,
   "id": "ac5fb67e",
   "metadata": {},
   "outputs": [
    {
     "data": {
      "text/plain": [
       "Index(['iq', 'marks', 'package'], dtype='object')"
      ]
     },
     "execution_count": 36,
     "metadata": {},
     "output_type": "execute_result"
    }
   ],
   "source": [
    "# select single specfic columns value\n",
    "data.columns"
   ]
  },
  {
   "cell_type": "code",
   "execution_count": 39,
   "id": "bb159249",
   "metadata": {},
   "outputs": [
    {
     "data": {
      "text/plain": [
       "array([ 90,  70, 100,  50])"
      ]
     },
     "execution_count": 39,
     "metadata": {},
     "output_type": "execute_result"
    }
   ],
   "source": [
    "data[\"marks\"].values"
   ]
  },
  {
   "cell_type": "markdown",
   "id": "1da36a64",
   "metadata": {},
   "source": [
    "# *.size*\n",
    "<br>\n",
    "\n",
    "- ### DataFrame.size attribute is used to return the number of elements in a DataFrame. This is equivalent to the total number of cells in the DataFrame, which is the product of the number of rows and the number of columns."
   ]
  },
  {
   "cell_type": "code",
   "execution_count": 47,
   "id": "d57ba009",
   "metadata": {},
   "outputs": [
    {
     "data": {
      "text/plain": [
       "12"
      ]
     },
     "execution_count": 47,
     "metadata": {},
     "output_type": "execute_result"
    }
   ],
   "source": [
    "data.size"
   ]
  },
  {
   "cell_type": "markdown",
   "id": "4de30167",
   "metadata": {},
   "source": [
    "# *.shape*\n",
    "<br>\n",
    "\n",
    "- ### DataFrame.shape attribute is used to return a tuple representing the dimensions of a DataFrame. The first element of the tuple is the number of rows in the DataFrame, and the second element is the number of columns."
   ]
  },
  {
   "cell_type": "code",
   "execution_count": 48,
   "id": "0c467d99",
   "metadata": {},
   "outputs": [
    {
     "data": {
      "text/plain": [
       "(4, 3)"
      ]
     },
     "execution_count": 48,
     "metadata": {},
     "output_type": "execute_result"
    }
   ],
   "source": [
    "data.shape"
   ]
  },
  {
   "cell_type": "markdown",
   "id": "ea0f508b",
   "metadata": {},
   "source": [
    "# *.empty*\n",
    "<br>\n",
    "\n",
    "- ### DataFrame.empty attribute is used to check whether a DataFrame is empty or not. It returns a boolean value indicating whether the DataFrame has zero rows and zero columns."
   ]
  },
  {
   "cell_type": "code",
   "execution_count": 50,
   "id": "90782220",
   "metadata": {},
   "outputs": [
    {
     "data": {
      "text/plain": [
       "False"
      ]
     },
     "execution_count": 50,
     "metadata": {},
     "output_type": "execute_result"
    }
   ],
   "source": [
    "data.empty"
   ]
  }
 ],
 "metadata": {
  "kernelspec": {
   "display_name": "Python 3 (ipykernel)",
   "language": "python",
   "name": "python3"
  },
  "language_info": {
   "codemirror_mode": {
    "name": "ipython",
    "version": 3
   },
   "file_extension": ".py",
   "mimetype": "text/x-python",
   "name": "python",
   "nbconvert_exporter": "python",
   "pygments_lexer": "ipython3",
   "version": "3.10.6"
  }
 },
 "nbformat": 4,
 "nbformat_minor": 5
}

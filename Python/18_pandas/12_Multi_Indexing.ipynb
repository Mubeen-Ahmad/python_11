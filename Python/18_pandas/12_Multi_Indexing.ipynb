{
  "cells": [
    {
      "attachments": {},
      "cell_type": "markdown",
      "id": "c1af5dfa",
      "metadata": {
        "id": "c1af5dfa"
      },
      "source": [
        "# Multi Index Series\n"
      ]
    },
    {
      "attachments": {},
      "cell_type": "markdown",
      "id": "03bf0684",
      "metadata": {
        "id": "03bf0684"
      },
      "source": [
        "- ### Multi-indexed Series in pandas is when you need to represent and manipulate data with multiple levels of indexing. \n",
        "<br>\n",
        "\n",
        "- ### MultiIndex Series is the 2-D Object\n",
        "<br>\n",
        "\n",
        "- ### Multi-indexing allows you to organize and access data in a hierarchical structure, which can be useful when dealing with complex datasets."
      ]
    },
    {
      "cell_type": "code",
      "execution_count": 1,
      "id": "caa89bcd",
      "metadata": {
        "id": "caa89bcd"
      },
      "outputs": [],
      "source": [
        "import pandas as pd\n",
        "import numpy as np"
      ]
    },
    {
      "attachments": {},
      "cell_type": "markdown",
      "id": "7fe5ec2f",
      "metadata": {
        "id": "7fe5ec2f"
      },
      "source": [
        "- ### pd.MultiIndex.from_tuples()\n",
        "    - ### .levels\n",
        "    - ### .levshape\n",
        "    - ### .get_level_values()\n",
        "- ### pd.MultiIndex.from_product()\n",
        "<br>\n",
        "\n",
        "- ### Multiindex Series\n",
        "- ### Access Multiindex Series\n",
        "- ### unstack() function on multi index series\n",
        "- ### stack() function on DataFrame\n",
        "- ### .reset_index() on Multi index Series\n",
        "<br>\n",
        "\n",
        "- ### Multiindex DataFrame\n",
        "- ### loc and iloc in MultiIndex DataFrame\n",
        "- ### MultiIndex on Columns\n",
        "- ### MultiIndex on Both Rows and Columns\n",
        "- ### Reduced 4-D DataFrame\n",
        "<br>\n",
        "\n",
        "- ### Unstacking and Stacking on DataFrame\n",
        "- ### change levels with levels parameter\n"
      ]
    },
    {
      "attachments": {},
      "cell_type": "markdown",
      "id": "6ed7de56",
      "metadata": {
        "id": "6ed7de56"
      },
      "source": [
        "## Series is the 1-D Object"
      ]
    },
    {
      "cell_type": "code",
      "execution_count": 2,
      "id": "bb414f59",
      "metadata": {
        "colab": {
          "base_uri": "https://localhost:8080/"
        },
        "id": "bb414f59",
        "outputId": "4bca88c0-b4e6-48f9-a23e-8d4e52953bd1"
      },
      "outputs": [
        {
          "data": {
            "text/plain": [
              "k1    A\n",
              "k2    B\n",
              "k3    C\n",
              "dtype: object"
            ]
          },
          "execution_count": 2,
          "metadata": {},
          "output_type": "execute_result"
        }
      ],
      "source": [
        "sr = pd.Series([\"A\",\"B\",\"C\"],index=[\"k1\",\"k2\",\"k3\"])\n",
        "sr"
      ]
    },
    {
      "cell_type": "code",
      "execution_count": 3,
      "id": "f5344e3a",
      "metadata": {
        "colab": {
          "base_uri": "https://localhost:8080/"
        },
        "id": "f5344e3a",
        "outputId": "68794e7a-dfd3-4ed6-cca2-fe4cbadec5dd"
      },
      "outputs": [
        {
          "data": {
            "text/plain": [
              "Index(['k1', 'k2', 'k3'], dtype='object')"
            ]
          },
          "execution_count": 3,
          "metadata": {},
          "output_type": "execute_result"
        }
      ],
      "source": [
        "sr.keys()"
      ]
    },
    {
      "cell_type": "code",
      "execution_count": 4,
      "id": "967fe3f6",
      "metadata": {
        "colab": {
          "base_uri": "https://localhost:8080/"
        },
        "id": "967fe3f6",
        "outputId": "edd22706-9a5c-4d07-e10a-9c9ebd9e1bf0"
      },
      "outputs": [
        {
          "data": {
            "text/plain": [
              "array(['A', 'B', 'C'], dtype=object)"
            ]
          },
          "execution_count": 4,
          "metadata": {},
          "output_type": "execute_result"
        }
      ],
      "source": [
        "sr.values"
      ]
    },
    {
      "attachments": {},
      "cell_type": "markdown",
      "id": "e63180c5",
      "metadata": {
        "id": "e63180c5"
      },
      "source": [
        "### Now Access A we need the pass the info only 'k1' (keys)"
      ]
    },
    {
      "cell_type": "code",
      "execution_count": 5,
      "id": "3bb5f28d",
      "metadata": {
        "colab": {
          "base_uri": "https://localhost:8080/",
          "height": 35
        },
        "id": "3bb5f28d",
        "outputId": "f4b49c7d-4ac4-41da-de41-f41eac0ef486"
      },
      "outputs": [
        {
          "data": {
            "text/plain": [
              "'A'"
            ]
          },
          "execution_count": 5,
          "metadata": {},
          "output_type": "execute_result"
        }
      ],
      "source": [
        "sr[\"k1\"]"
      ]
    },
    {
      "attachments": {},
      "cell_type": "markdown",
      "id": "8d4575a3",
      "metadata": {
        "id": "8d4575a3"
      },
      "source": [
        "## DataFrame is the 2-D Object"
      ]
    },
    {
      "cell_type": "code",
      "execution_count": 6,
      "id": "97b5acfb",
      "metadata": {
        "colab": {
          "base_uri": "https://localhost:8080/",
          "height": 143
        },
        "id": "97b5acfb",
        "outputId": "ec61006a-2a6f-43cb-db60-e07f65f9e78d"
      },
      "outputs": [
        {
          "data": {
            "text/html": [
              "<div>\n",
              "<style scoped>\n",
              "    .dataframe tbody tr th:only-of-type {\n",
              "        vertical-align: middle;\n",
              "    }\n",
              "\n",
              "    .dataframe tbody tr th {\n",
              "        vertical-align: top;\n",
              "    }\n",
              "\n",
              "    .dataframe thead th {\n",
              "        text-align: right;\n",
              "    }\n",
              "</style>\n",
              "<table border=\"1\" class=\"dataframe\">\n",
              "  <thead>\n",
              "    <tr style=\"text-align: right;\">\n",
              "      <th></th>\n",
              "      <th>col</th>\n",
              "    </tr>\n",
              "  </thead>\n",
              "  <tbody>\n",
              "    <tr>\n",
              "      <th>k1</th>\n",
              "      <td>A</td>\n",
              "    </tr>\n",
              "    <tr>\n",
              "      <th>k2</th>\n",
              "      <td>B</td>\n",
              "    </tr>\n",
              "    <tr>\n",
              "      <th>k3</th>\n",
              "      <td>C</td>\n",
              "    </tr>\n",
              "  </tbody>\n",
              "</table>\n",
              "</div>"
            ],
            "text/plain": [
              "   col\n",
              "k1   A\n",
              "k2   B\n",
              "k3   C"
            ]
          },
          "execution_count": 6,
          "metadata": {},
          "output_type": "execute_result"
        }
      ],
      "source": [
        "df = pd.DataFrame([\"A\",\"B\",\"C\"],index=[\"k1\",\"k2\",\"k3\"],columns=[\"col\"])\n",
        "df"
      ]
    },
    {
      "attachments": {},
      "cell_type": "markdown",
      "id": "54139f3f",
      "metadata": {
        "id": "54139f3f"
      },
      "source": [
        "### Now Access A we need the pass the info [\"col\"][\"k1\"] \n",
        "<br>\n",
        "\n",
        "### (keys)(index)"
      ]
    },
    {
      "cell_type": "code",
      "execution_count": 7,
      "id": "e3309e53",
      "metadata": {
        "colab": {
          "base_uri": "https://localhost:8080/"
        },
        "id": "e3309e53",
        "outputId": "1ee906f6-6111-46bb-a50f-ca933977581b"
      },
      "outputs": [
        {
          "data": {
            "text/plain": [
              "Index(['col'], dtype='object')"
            ]
          },
          "execution_count": 7,
          "metadata": {},
          "output_type": "execute_result"
        }
      ],
      "source": [
        "df.keys()"
      ]
    },
    {
      "cell_type": "code",
      "execution_count": 8,
      "id": "4886834d",
      "metadata": {
        "colab": {
          "base_uri": "https://localhost:8080/"
        },
        "id": "4886834d",
        "outputId": "5dad4df2-26fa-4182-eb60-8584e82a5c67"
      },
      "outputs": [
        {
          "data": {
            "text/plain": [
              "array([['A'],\n",
              "       ['B'],\n",
              "       ['C']], dtype=object)"
            ]
          },
          "execution_count": 8,
          "metadata": {},
          "output_type": "execute_result"
        }
      ],
      "source": [
        "df.values"
      ]
    },
    {
      "cell_type": "code",
      "execution_count": 9,
      "id": "95aa8464",
      "metadata": {
        "colab": {
          "base_uri": "https://localhost:8080/"
        },
        "id": "95aa8464",
        "outputId": "18bdd39d-871b-4587-f249-8b7228b9e7ba"
      },
      "outputs": [
        {
          "data": {
            "text/plain": [
              "Index(['k1', 'k2', 'k3'], dtype='object')"
            ]
          },
          "execution_count": 9,
          "metadata": {},
          "output_type": "execute_result"
        }
      ],
      "source": [
        "df.index"
      ]
    },
    {
      "cell_type": "code",
      "execution_count": 10,
      "id": "4376588b",
      "metadata": {
        "colab": {
          "base_uri": "https://localhost:8080/"
        },
        "id": "4376588b",
        "outputId": "b0206e77-757d-401e-f433-6119699f56c2"
      },
      "outputs": [
        {
          "data": {
            "text/plain": [
              "k1    A\n",
              "k2    B\n",
              "k3    C\n",
              "Name: col, dtype: object"
            ]
          },
          "execution_count": 10,
          "metadata": {},
          "output_type": "execute_result"
        }
      ],
      "source": [
        "df[\"col\"] # now this are series"
      ]
    },
    {
      "cell_type": "code",
      "execution_count": 11,
      "id": "498826bc",
      "metadata": {
        "colab": {
          "base_uri": "https://localhost:8080/",
          "height": 35
        },
        "id": "498826bc",
        "outputId": "b4c4dbec-6861-4fcc-d281-2a2f0d261529"
      },
      "outputs": [
        {
          "data": {
            "text/plain": [
              "'A'"
            ]
          },
          "execution_count": 11,
          "metadata": {},
          "output_type": "execute_result"
        }
      ],
      "source": [
        "df[\"col\"][\"k1\"]"
      ]
    },
    {
      "attachments": {},
      "cell_type": "markdown",
      "id": "4578f1e1",
      "metadata": {
        "id": "4578f1e1"
      },
      "source": [
        "# So in Series have only 1 Index"
      ]
    },
    {
      "cell_type": "code",
      "execution_count": 12,
      "id": "29fe10c4",
      "metadata": {
        "colab": {
          "base_uri": "https://localhost:8080/"
        },
        "id": "29fe10c4",
        "outputId": "25f302f6-4ce6-4728-8d31-2eca7b6ee609"
      },
      "outputs": [
        {
          "data": {
            "text/plain": [
              "k1    A\n",
              "k2    B\n",
              "k3    C\n",
              "dtype: object"
            ]
          },
          "execution_count": 12,
          "metadata": {},
          "output_type": "execute_result"
        }
      ],
      "source": [
        "sr"
      ]
    },
    {
      "cell_type": "code",
      "execution_count": 13,
      "id": "77865d81",
      "metadata": {
        "colab": {
          "base_uri": "https://localhost:8080/"
        },
        "id": "77865d81",
        "outputId": "6aaad8c4-e877-4da0-feb6-d7918c63b226"
      },
      "outputs": [
        {
          "data": {
            "text/plain": [
              "Index(['k1', 'k2', 'k3'], dtype='object')"
            ]
          },
          "execution_count": 13,
          "metadata": {},
          "output_type": "execute_result"
        }
      ],
      "source": [
        "sr.index # A value - k1 index"
      ]
    },
    {
      "attachments": {},
      "cell_type": "markdown",
      "id": "0ff675d4",
      "metadata": {
        "id": "0ff675d4"
      },
      "source": [
        "## Can we create a 2 index of 1 Value ?\n"
      ]
    },
    {
      "cell_type": "code",
      "execution_count": 14,
      "id": "9e8a374f",
      "metadata": {
        "id": "9e8a374f"
      },
      "outputs": [],
      "source": [
        "values = [\"A\",\"B\",\"C\"]\n",
        "indexs = [(\"k1\"),(\"k2\"),(\"k3\")]"
      ]
    },
    {
      "cell_type": "code",
      "execution_count": 15,
      "id": "5f49fbe1",
      "metadata": {
        "colab": {
          "base_uri": "https://localhost:8080/"
        },
        "id": "5f49fbe1",
        "outputId": "cc2c65fd-28d1-470d-f5d2-e02d69fadddc"
      },
      "outputs": [
        {
          "data": {
            "text/plain": [
              "k1    A\n",
              "k2    B\n",
              "k3    C\n",
              "dtype: object"
            ]
          },
          "execution_count": 15,
          "metadata": {},
          "output_type": "execute_result"
        }
      ],
      "source": [
        "pd.Series(values,indexs)"
      ]
    },
    {
      "cell_type": "code",
      "execution_count": 16,
      "id": "e329fac2",
      "metadata": {
        "colab": {
          "base_uri": "https://localhost:8080/"
        },
        "id": "e329fac2",
        "outputId": "1b14ec32-b011-4d52-96ac-e61ad5eafa1b"
      },
      "outputs": [
        {
          "data": {
            "text/plain": [
              "Index(['k1', 'k2', 'k3'], dtype='object')"
            ]
          },
          "execution_count": 16,
          "metadata": {},
          "output_type": "execute_result"
        }
      ],
      "source": [
        "sr.keys()"
      ]
    },
    {
      "cell_type": "code",
      "execution_count": 17,
      "id": "0b58d8f0",
      "metadata": {
        "colab": {
          "base_uri": "https://localhost:8080/"
        },
        "id": "0b58d8f0",
        "outputId": "600ec3e5-368c-46e6-f394-df2162e27744"
      },
      "outputs": [
        {
          "data": {
            "text/plain": [
              "array(['A', 'B', 'C'], dtype=object)"
            ]
          },
          "execution_count": 17,
          "metadata": {},
          "output_type": "execute_result"
        }
      ],
      "source": [
        "sr.values"
      ]
    },
    {
      "cell_type": "code",
      "execution_count": 18,
      "id": "2888e915",
      "metadata": {
        "colab": {
          "base_uri": "https://localhost:8080/"
        },
        "id": "2888e915",
        "outputId": "e3e8e31b-d2c2-482a-d2ab-bb1fb4892748"
      },
      "outputs": [
        {
          "data": {
            "text/plain": [
              "Index(['k1', 'k2', 'k3'], dtype='object')"
            ]
          },
          "execution_count": 18,
          "metadata": {},
          "output_type": "execute_result"
        }
      ],
      "source": [
        "sr.index"
      ]
    },
    {
      "cell_type": "code",
      "execution_count": 19,
      "id": "31229716",
      "metadata": {
        "id": "31229716"
      },
      "outputs": [],
      "source": [
        "# PASS Multi Index\n",
        "indexs = [(\"k1\",1),(\"k2\",2),(\"k3\",3)]\n",
        "sr_ = pd.Series(values,indexs)"
      ]
    },
    {
      "cell_type": "code",
      "execution_count": 20,
      "id": "153446e8",
      "metadata": {
        "colab": {
          "base_uri": "https://localhost:8080/"
        },
        "id": "153446e8",
        "outputId": "a80c9c51-6de6-4c60-ad10-2fe544181699"
      },
      "outputs": [
        {
          "data": {
            "text/plain": [
              "(k1, 1)    A\n",
              "(k2, 2)    B\n",
              "(k3, 3)    C\n",
              "dtype: object"
            ]
          },
          "execution_count": 20,
          "metadata": {},
          "output_type": "execute_result"
        }
      ],
      "source": [
        "sr_"
      ]
    },
    {
      "cell_type": "code",
      "execution_count": 21,
      "id": "b8424854",
      "metadata": {
        "colab": {
          "base_uri": "https://localhost:8080/"
        },
        "id": "b8424854",
        "outputId": "61ddf4cf-c20c-40de-c771-a16a14c6130c"
      },
      "outputs": [
        {
          "data": {
            "text/plain": [
              "Index([('k1', 1), ('k2', 2), ('k3', 3)], dtype='object')"
            ]
          },
          "execution_count": 21,
          "metadata": {},
          "output_type": "execute_result"
        }
      ],
      "source": [
        "sr_.keys()"
      ]
    },
    {
      "cell_type": "code",
      "execution_count": 22,
      "id": "b3021944",
      "metadata": {
        "colab": {
          "base_uri": "https://localhost:8080/"
        },
        "id": "b3021944",
        "outputId": "89ccc4c1-5db3-43a0-903d-f718ca84103a"
      },
      "outputs": [
        {
          "data": {
            "text/plain": [
              "array(['A', 'B', 'C'], dtype=object)"
            ]
          },
          "execution_count": 22,
          "metadata": {},
          "output_type": "execute_result"
        }
      ],
      "source": [
        "sr_.values"
      ]
    },
    {
      "cell_type": "code",
      "execution_count": 23,
      "id": "1a624275",
      "metadata": {
        "colab": {
          "base_uri": "https://localhost:8080/"
        },
        "id": "1a624275",
        "outputId": "e8f00d3c-5d3f-46a4-ebd1-44a0ad75a56f"
      },
      "outputs": [
        {
          "data": {
            "text/plain": [
              "Index([('k1', 1), ('k2', 2), ('k3', 3)], dtype='object')"
            ]
          },
          "execution_count": 23,
          "metadata": {},
          "output_type": "execute_result"
        }
      ],
      "source": [
        "sr_.index"
      ]
    },
    {
      "attachments": {},
      "cell_type": "markdown",
      "id": "7af2c8b3",
      "metadata": {
        "id": "7af2c8b3"
      },
      "source": [
        "## Now Try Access A"
      ]
    },
    {
      "cell_type": "code",
      "execution_count": 24,
      "id": "fa338b8d",
      "metadata": {
        "colab": {
          "base_uri": "https://localhost:8080/"
        },
        "id": "fa338b8d",
        "outputId": "1dc30ed2-9e42-4be4-e16b-0dcc790c0400"
      },
      "outputs": [
        {
          "data": {
            "text/plain": [
              "(k1, 1)    A\n",
              "(k2, 2)    B\n",
              "(k3, 3)    C\n",
              "dtype: object"
            ]
          },
          "execution_count": 24,
          "metadata": {},
          "output_type": "execute_result"
        }
      ],
      "source": [
        "sr_"
      ]
    },
    {
      "cell_type": "code",
      "execution_count": 25,
      "id": "9ed27c9b",
      "metadata": {
        "colab": {
          "base_uri": "https://localhost:8080/",
          "height": 35
        },
        "id": "9ed27c9b",
        "outputId": "89c3417c-98f2-4974-8136-99c7a0d5c8e3"
      },
      "outputs": [
        {
          "data": {
            "text/plain": [
              "'A'"
            ]
          },
          "execution_count": 25,
          "metadata": {},
          "output_type": "execute_result"
        }
      ],
      "source": [
        "# We need both keys\n",
        "sr_[(\"k1\",1)]"
      ]
    },
    {
      "attachments": {},
      "cell_type": "markdown",
      "id": "a643a411",
      "metadata": {
        "id": "a643a411"
      },
      "source": [
        "# So Technically It is not a Multi Indexing"
      ]
    },
    {
      "attachments": {},
      "cell_type": "markdown",
      "id": "7a2b26f9",
      "metadata": {
        "id": "7a2b26f9"
      },
      "source": [
        "## Use pd.MultiIndex.from_tuples"
      ]
    },
    {
      "cell_type": "code",
      "execution_count": 26,
      "id": "baf420bb",
      "metadata": {
        "id": "baf420bb"
      },
      "outputs": [],
      "source": [
        "indexs = [(\"k1\",\"1\"),(\"k2\",\"2\"),(\"k3\",\"3\")]"
      ]
    },
    {
      "cell_type": "code",
      "execution_count": 27,
      "id": "3360af1b",
      "metadata": {
        "colab": {
          "base_uri": "https://localhost:8080/"
        },
        "id": "3360af1b",
        "outputId": "51808c35-9550-4596-c83f-ec553f2ca178"
      },
      "outputs": [
        {
          "data": {
            "text/plain": [
              "MultiIndex([('k1', '1'),\n",
              "            ('k2', '2'),\n",
              "            ('k3', '3')],\n",
              "           )"
            ]
          },
          "execution_count": 27,
          "metadata": {},
          "output_type": "execute_result"
        }
      ],
      "source": [
        "# pass only index\n",
        "ms = pd.MultiIndex.from_tuples(indexs)\n",
        "ms"
      ]
    },
    {
      "cell_type": "code",
      "execution_count": 28,
      "id": "8a3798f0",
      "metadata": {
        "colab": {
          "base_uri": "https://localhost:8080/"
        },
        "id": "8a3798f0",
        "outputId": "03be68ec-8af0-4ba7-eaef-44afc1bf3c65"
      },
      "outputs": [
        {
          "data": {
            "text/plain": [
              "('k1', '1')"
            ]
          },
          "execution_count": 28,
          "metadata": {},
          "output_type": "execute_result"
        }
      ],
      "source": [
        "ms[0]"
      ]
    },
    {
      "cell_type": "code",
      "execution_count": 29,
      "id": "41be58fa",
      "metadata": {
        "colab": {
          "base_uri": "https://localhost:8080/"
        },
        "id": "41be58fa",
        "outputId": "c88e5463-e1a8-4b2f-88dd-437eea151159"
      },
      "outputs": [
        {
          "data": {
            "text/plain": [
              "('k2', '2')"
            ]
          },
          "execution_count": 29,
          "metadata": {},
          "output_type": "execute_result"
        }
      ],
      "source": [
        "ms[1]"
      ]
    },
    {
      "cell_type": "code",
      "execution_count": 30,
      "id": "68efade6",
      "metadata": {
        "colab": {
          "base_uri": "https://localhost:8080/"
        },
        "id": "68efade6",
        "outputId": "5778901d-27e4-4b7a-ed2e-ae1035a9e359"
      },
      "outputs": [
        {
          "data": {
            "text/plain": [
              "('k3', '3')"
            ]
          },
          "execution_count": 30,
          "metadata": {},
          "output_type": "execute_result"
        }
      ],
      "source": [
        "ms[2]"
      ]
    },
    {
      "cell_type": "code",
      "execution_count": 31,
      "id": "3ed55b05",
      "metadata": {
        "colab": {
          "base_uri": "https://localhost:8080/"
        },
        "id": "3ed55b05",
        "outputId": "b027fb06-aa04-4c9f-d08b-6fe94561f97a"
      },
      "outputs": [
        {
          "data": {
            "text/plain": [
              "FrozenList([['k1', 'k2', 'k3'], ['1', '2', '3']])"
            ]
          },
          "execution_count": 31,
          "metadata": {},
          "output_type": "execute_result"
        }
      ],
      "source": [
        "ms.levels"
      ]
    },
    {
      "cell_type": "code",
      "execution_count": 32,
      "id": "9a76f269",
      "metadata": {
        "colab": {
          "base_uri": "https://localhost:8080/"
        },
        "id": "9a76f269",
        "outputId": "4d8168ac-f5dd-47a3-d8a1-02c73638c6f6"
      },
      "outputs": [
        {
          "data": {
            "text/plain": [
              "Index(['k1', 'k2', 'k3'], dtype='object')"
            ]
          },
          "execution_count": 32,
          "metadata": {},
          "output_type": "execute_result"
        }
      ],
      "source": [
        "ms.levels[0] "
      ]
    },
    {
      "cell_type": "code",
      "execution_count": 132,
      "id": "9ad71b98",
      "metadata": {
        "colab": {
          "base_uri": "https://localhost:8080/"
        },
        "id": "9ad71b98",
        "outputId": "2567fc3c-6828-4321-b5f7-5627c7147eed"
      },
      "outputs": [
        {
          "data": {
            "text/plain": [
              "Index(['1', '2', '3'], dtype='object')"
            ]
          },
          "execution_count": 132,
          "metadata": {},
          "output_type": "execute_result"
        }
      ],
      "source": [
        "ms.levels[1] "
      ]
    },
    {
      "cell_type": "code",
      "execution_count": 131,
      "id": "19a49e37",
      "metadata": {},
      "outputs": [
        {
          "data": {
            "text/plain": [
              "Index(['k1', 'k2', 'k3'], dtype='object')"
            ]
          },
          "execution_count": 131,
          "metadata": {},
          "output_type": "execute_result"
        }
      ],
      "source": [
        "# get level values\n",
        "\n",
        "ms.get_level_values(0)"
      ]
    },
    {
      "cell_type": "code",
      "execution_count": 34,
      "id": "f29db266",
      "metadata": {
        "colab": {
          "base_uri": "https://localhost:8080/"
        },
        "id": "f29db266",
        "outputId": "76c98262-a462-4fa2-b7da-c0cc2947bf4c"
      },
      "outputs": [
        {
          "data": {
            "text/plain": [
              "(3, 3)"
            ]
          },
          "execution_count": 34,
          "metadata": {},
          "output_type": "execute_result"
        }
      ],
      "source": [
        "ms.levshape"
      ]
    },
    {
      "cell_type": "code",
      "execution_count": 35,
      "id": "9bfe1c65",
      "metadata": {
        "id": "9bfe1c65"
      },
      "outputs": [],
      "source": [
        "tags = ['v1','v2']\n",
        "k = [\"k1\",\"k2\",\"k3\"]"
      ]
    },
    {
      "cell_type": "code",
      "execution_count": 36,
      "id": "3d75dd2b",
      "metadata": {
        "colab": {
          "base_uri": "https://localhost:8080/"
        },
        "id": "3d75dd2b",
        "outputId": "451cdd67-b5fb-49f0-b0a0-648899393a40"
      },
      "outputs": [
        {
          "data": {
            "text/plain": [
              "MultiIndex([('v1', 'k1'),\n",
              "            ('v1', 'k2'),\n",
              "            ('v1', 'k3'),\n",
              "            ('v2', 'k1'),\n",
              "            ('v2', 'k2'),\n",
              "            ('v2', 'k3')],\n",
              "           )"
            ]
          },
          "execution_count": 36,
          "metadata": {},
          "output_type": "execute_result"
        }
      ],
      "source": [
        "# use .from_product \n",
        "# pass 2D list\n",
        "prod = pd.MultiIndex.from_product([tags,k])\n",
        "prod # hierarchy functionality"
      ]
    },
    {
      "attachments": {},
      "cell_type": "markdown",
      "id": "f5da7b10",
      "metadata": {
        "id": "f5da7b10"
      },
      "source": [
        "# Create a MultiIndex Series"
      ]
    },
    {
      "cell_type": "code",
      "execution_count": 37,
      "id": "ce08c0d8",
      "metadata": {
        "id": "ce08c0d8"
      },
      "outputs": [],
      "source": [
        "multi_index = pd.MultiIndex.from_product([[\"A\",\"B\"],[\"k1\",\"k2\",\"k3\"]])"
      ]
    },
    {
      "cell_type": "code",
      "execution_count": 38,
      "id": "d2f56ac6",
      "metadata": {
        "colab": {
          "base_uri": "https://localhost:8080/"
        },
        "id": "d2f56ac6",
        "outputId": "b3eedc50-86d0-4ee2-c947-e531bb513f32"
      },
      "outputs": [
        {
          "data": {
            "text/plain": [
              "MultiIndex([('A', 'k1'),\n",
              "            ('A', 'k2'),\n",
              "            ('A', 'k3'),\n",
              "            ('B', 'k1'),\n",
              "            ('B', 'k2'),\n",
              "            ('B', 'k3')],\n",
              "           )"
            ]
          },
          "execution_count": 38,
          "metadata": {},
          "output_type": "execute_result"
        }
      ],
      "source": [
        "multi_index"
      ]
    },
    {
      "cell_type": "code",
      "execution_count": 39,
      "id": "09b8d0be",
      "metadata": {
        "colab": {
          "base_uri": "https://localhost:8080/"
        },
        "id": "09b8d0be",
        "outputId": "5fcd42bb-d86f-4660-9f3d-1a3055f12638"
      },
      "outputs": [
        {
          "data": {
            "text/plain": [
              "A  k1    1\n",
              "   k2    2\n",
              "   k3    3\n",
              "B  k1    4\n",
              "   k2    5\n",
              "   k3    6\n",
              "dtype: int64"
            ]
          },
          "execution_count": 39,
          "metadata": {},
          "output_type": "execute_result"
        }
      ],
      "source": [
        "values = [1,2,3,4,5,6]\n",
        "# create a series\n",
        "multi_series = pd.Series(values,index=multi_index)\n",
        "multi_series"
      ]
    },
    {
      "cell_type": "code",
      "execution_count": 40,
      "id": "25917a9c",
      "metadata": {
        "colab": {
          "base_uri": "https://localhost:8080/"
        },
        "id": "25917a9c",
        "outputId": "1d17febc-b7cd-4777-e0ac-0f4c658ce63f"
      },
      "outputs": [
        {
          "data": {
            "text/plain": [
              "('A', 'k2')"
            ]
          },
          "execution_count": 40,
          "metadata": {},
          "output_type": "execute_result"
        }
      ],
      "source": [
        "# Acess 2\n",
        "\n",
        "multi_series.keys()[1] "
      ]
    },
    {
      "cell_type": "code",
      "execution_count": 41,
      "id": "de3c238c",
      "metadata": {
        "colab": {
          "base_uri": "https://localhost:8080/"
        },
        "id": "de3c238c",
        "outputId": "9dacef70-b163-4ba4-f1e1-219eaaa3a3b5"
      },
      "outputs": [
        {
          "data": {
            "text/plain": [
              "2"
            ]
          },
          "execution_count": 41,
          "metadata": {},
          "output_type": "execute_result"
        }
      ],
      "source": [
        "multi_series[(\"A\",\"k2\")]"
      ]
    },
    {
      "cell_type": "code",
      "execution_count": 42,
      "id": "4cba15c1",
      "metadata": {
        "colab": {
          "base_uri": "https://localhost:8080/"
        },
        "id": "4cba15c1",
        "outputId": "36ef97aa-ffdf-4932-8759-f4aee626dd3b"
      },
      "outputs": [
        {
          "data": {
            "text/plain": [
              "k1    1\n",
              "k2    2\n",
              "k3    3\n",
              "dtype: int64"
            ]
          },
          "execution_count": 42,
          "metadata": {},
          "output_type": "execute_result"
        }
      ],
      "source": [
        "# Acess A keys data\n",
        "\n",
        "multi_series[\"A\"]"
      ]
    },
    {
      "cell_type": "code",
      "execution_count": 43,
      "id": "f5d18a32",
      "metadata": {
        "colab": {
          "base_uri": "https://localhost:8080/"
        },
        "id": "f5d18a32",
        "outputId": "09c46118-b726-49ce-85a7-04dcf06d3566"
      },
      "outputs": [
        {
          "data": {
            "text/plain": [
              "2"
            ]
          },
          "execution_count": 43,
          "metadata": {},
          "output_type": "execute_result"
        }
      ],
      "source": [
        "multi_series[\"A\"][\"k2\"]"
      ]
    },
    {
      "cell_type": "code",
      "execution_count": 44,
      "id": "ba62fa29",
      "metadata": {
        "colab": {
          "base_uri": "https://localhost:8080/"
        },
        "id": "ba62fa29",
        "outputId": "4c2d76ca-d87f-4a27-a4bc-1970ffef251b"
      },
      "outputs": [
        {
          "data": {
            "text/plain": [
              "A  k1    1\n",
              "   k2    2\n",
              "   k3    3\n",
              "B  k1    4\n",
              "   k2    5\n",
              "   k3    6\n",
              "dtype: int64"
            ]
          },
          "execution_count": 44,
          "metadata": {},
          "output_type": "execute_result"
        }
      ],
      "source": [
        "multi_series"
      ]
    },
    {
      "attachments": {},
      "cell_type": "markdown",
      "id": "b9012298",
      "metadata": {
        "id": "b9012298"
      },
      "source": [
        "### Convert Multiindex Series to DataFrame with untack()"
      ]
    },
    {
      "cell_type": "code",
      "execution_count": 45,
      "id": "e056e6cd",
      "metadata": {
        "colab": {
          "base_uri": "https://localhost:8080/",
          "height": 112
        },
        "id": "e056e6cd",
        "outputId": "9b63472f-a4d0-4a2b-b2fa-a6a4dcfa61f7"
      },
      "outputs": [
        {
          "data": {
            "text/html": [
              "<div>\n",
              "<style scoped>\n",
              "    .dataframe tbody tr th:only-of-type {\n",
              "        vertical-align: middle;\n",
              "    }\n",
              "\n",
              "    .dataframe tbody tr th {\n",
              "        vertical-align: top;\n",
              "    }\n",
              "\n",
              "    .dataframe thead th {\n",
              "        text-align: right;\n",
              "    }\n",
              "</style>\n",
              "<table border=\"1\" class=\"dataframe\">\n",
              "  <thead>\n",
              "    <tr style=\"text-align: right;\">\n",
              "      <th></th>\n",
              "      <th>k1</th>\n",
              "      <th>k2</th>\n",
              "      <th>k3</th>\n",
              "    </tr>\n",
              "  </thead>\n",
              "  <tbody>\n",
              "    <tr>\n",
              "      <th>A</th>\n",
              "      <td>1</td>\n",
              "      <td>2</td>\n",
              "      <td>3</td>\n",
              "    </tr>\n",
              "    <tr>\n",
              "      <th>B</th>\n",
              "      <td>4</td>\n",
              "      <td>5</td>\n",
              "      <td>6</td>\n",
              "    </tr>\n",
              "  </tbody>\n",
              "</table>\n",
              "</div>"
            ],
            "text/plain": [
              "   k1  k2  k3\n",
              "A   1   2   3\n",
              "B   4   5   6"
            ]
          },
          "execution_count": 45,
          "metadata": {},
          "output_type": "execute_result"
        }
      ],
      "source": [
        "df = multi_series.unstack()\n",
        "df"
      ]
    },
    {
      "cell_type": "code",
      "execution_count": 46,
      "id": "b38bade3",
      "metadata": {
        "colab": {
          "base_uri": "https://localhost:8080/"
        },
        "id": "b38bade3",
        "outputId": "498165ee-ccec-4e3a-adf7-9fe31c91b6c6"
      },
      "outputs": [
        {
          "data": {
            "text/plain": [
              "Index(['k1', 'k2', 'k3'], dtype='object')"
            ]
          },
          "execution_count": 46,
          "metadata": {},
          "output_type": "execute_result"
        }
      ],
      "source": [
        "df.keys()"
      ]
    },
    {
      "cell_type": "code",
      "execution_count": 47,
      "id": "7e1cd487",
      "metadata": {
        "colab": {
          "base_uri": "https://localhost:8080/"
        },
        "id": "7e1cd487",
        "outputId": "6c58a699-0c08-4e76-b23f-a6c9cfe4300f"
      },
      "outputs": [
        {
          "data": {
            "text/plain": [
              "array([[1, 2, 3],\n",
              "       [4, 5, 6]])"
            ]
          },
          "execution_count": 47,
          "metadata": {},
          "output_type": "execute_result"
        }
      ],
      "source": [
        "df.values"
      ]
    },
    {
      "attachments": {},
      "cell_type": "markdown",
      "id": "0c5a2a9e",
      "metadata": {
        "id": "0c5a2a9e"
      },
      "source": [
        "### Use stack() for convert DataFrame to Multi index Series"
      ]
    },
    {
      "cell_type": "code",
      "execution_count": 48,
      "id": "5fb7ac54",
      "metadata": {
        "colab": {
          "base_uri": "https://localhost:8080/"
        },
        "id": "5fb7ac54",
        "outputId": "b09a3bf1-a46c-42d6-b7d0-58bd9f42a80b"
      },
      "outputs": [
        {
          "data": {
            "text/plain": [
              "A  k1    1\n",
              "   k2    2\n",
              "   k3    3\n",
              "B  k1    4\n",
              "   k2    5\n",
              "   k3    6\n",
              "dtype: int64"
            ]
          },
          "execution_count": 48,
          "metadata": {},
          "output_type": "execute_result"
        }
      ],
      "source": [
        "df.stack()"
      ]
    },
    {
      "attachments": {},
      "cell_type": "markdown",
      "id": "763bc11e",
      "metadata": {
        "id": "763bc11e"
      },
      "source": [
        "### .reset_also used convert multi index series to dataframe"
      ]
    },
    {
      "cell_type": "code",
      "execution_count": 49,
      "id": "0942567b",
      "metadata": {
        "colab": {
          "base_uri": "https://localhost:8080/"
        },
        "id": "0942567b",
        "outputId": "5cc7badf-9b84-4ebd-824f-51e9e95e7d93"
      },
      "outputs": [
        {
          "data": {
            "text/plain": [
              "A  k1    1\n",
              "   k2    2\n",
              "   k3    3\n",
              "B  k1    4\n",
              "   k2    5\n",
              "   k3    6\n",
              "dtype: int64"
            ]
          },
          "execution_count": 49,
          "metadata": {},
          "output_type": "execute_result"
        }
      ],
      "source": [
        "multi_series"
      ]
    },
    {
      "cell_type": "code",
      "execution_count": 50,
      "id": "0e5eb210",
      "metadata": {
        "colab": {
          "base_uri": "https://localhost:8080/",
          "height": 237
        },
        "id": "0e5eb210",
        "outputId": "7c6a89d2-d49e-461e-d91e-d796924fb7b4"
      },
      "outputs": [
        {
          "data": {
            "text/html": [
              "<div>\n",
              "<style scoped>\n",
              "    .dataframe tbody tr th:only-of-type {\n",
              "        vertical-align: middle;\n",
              "    }\n",
              "\n",
              "    .dataframe tbody tr th {\n",
              "        vertical-align: top;\n",
              "    }\n",
              "\n",
              "    .dataframe thead th {\n",
              "        text-align: right;\n",
              "    }\n",
              "</style>\n",
              "<table border=\"1\" class=\"dataframe\">\n",
              "  <thead>\n",
              "    <tr style=\"text-align: right;\">\n",
              "      <th></th>\n",
              "      <th>level_0</th>\n",
              "      <th>level_1</th>\n",
              "      <th>0</th>\n",
              "    </tr>\n",
              "  </thead>\n",
              "  <tbody>\n",
              "    <tr>\n",
              "      <th>0</th>\n",
              "      <td>A</td>\n",
              "      <td>k1</td>\n",
              "      <td>1</td>\n",
              "    </tr>\n",
              "    <tr>\n",
              "      <th>1</th>\n",
              "      <td>A</td>\n",
              "      <td>k2</td>\n",
              "      <td>2</td>\n",
              "    </tr>\n",
              "    <tr>\n",
              "      <th>2</th>\n",
              "      <td>A</td>\n",
              "      <td>k3</td>\n",
              "      <td>3</td>\n",
              "    </tr>\n",
              "    <tr>\n",
              "      <th>3</th>\n",
              "      <td>B</td>\n",
              "      <td>k1</td>\n",
              "      <td>4</td>\n",
              "    </tr>\n",
              "    <tr>\n",
              "      <th>4</th>\n",
              "      <td>B</td>\n",
              "      <td>k2</td>\n",
              "      <td>5</td>\n",
              "    </tr>\n",
              "    <tr>\n",
              "      <th>5</th>\n",
              "      <td>B</td>\n",
              "      <td>k3</td>\n",
              "      <td>6</td>\n",
              "    </tr>\n",
              "  </tbody>\n",
              "</table>\n",
              "</div>"
            ],
            "text/plain": [
              "  level_0 level_1  0\n",
              "0       A      k1  1\n",
              "1       A      k2  2\n",
              "2       A      k3  3\n",
              "3       B      k1  4\n",
              "4       B      k2  5\n",
              "5       B      k3  6"
            ]
          },
          "execution_count": 50,
          "metadata": {},
          "output_type": "execute_result"
        }
      ],
      "source": [
        "multi_series.reset_index() "
      ]
    },
    {
      "attachments": {},
      "cell_type": "markdown",
      "id": "e35edd8b",
      "metadata": {
        "id": "e35edd8b"
      },
      "source": [
        "# Multi Index DataFrame\n"
      ]
    },
    {
      "attachments": {},
      "cell_type": "markdown",
      "id": "9b4e4cde",
      "metadata": {
        "id": "9b4e4cde"
      },
      "source": [
        "- ### A multi-index DataFrame in pandas is similar to a multi-index Series but extends the concept to a two-dimensional data structure.\n",
        "<br> \n",
        "\n",
        "- ### It is the 3-D Object\n",
        "\n",
        "<br>\n",
        "\n",
        "- ### It allows you to represent and manipulate data with multiple levels of indexing along both rows and columns."
      ]
    },
    {
      "cell_type": "code",
      "execution_count": 51,
      "id": "cbcaaa1f",
      "metadata": {
        "colab": {
          "base_uri": "https://localhost:8080/"
        },
        "id": "cbcaaa1f",
        "outputId": "6d0bb23f-f8fd-488d-cd79-247a43b0aa39"
      },
      "outputs": [
        {
          "data": {
            "text/plain": [
              "MultiIndex([('A', 'k1'),\n",
              "            ('A', 'k2'),\n",
              "            ('A', 'k3'),\n",
              "            ('B', 'k1'),\n",
              "            ('B', 'k2'),\n",
              "            ('B', 'k3')],\n",
              "           )"
            ]
          },
          "execution_count": 51,
          "metadata": {},
          "output_type": "execute_result"
        }
      ],
      "source": [
        "multi_index = pd.MultiIndex.from_product([[\"A\",\"B\"],[\"k1\",\"k2\",\"k3\"]])\n",
        "multi_index"
      ]
    },
    {
      "cell_type": "code",
      "execution_count": 52,
      "id": "966aa357",
      "metadata": {
        "colab": {
          "base_uri": "https://localhost:8080/",
          "height": 237
        },
        "id": "966aa357",
        "outputId": "aedb7cbd-8875-4354-d256-600c71247ff5"
      },
      "outputs": [
        {
          "data": {
            "text/html": [
              "<div>\n",
              "<style scoped>\n",
              "    .dataframe tbody tr th:only-of-type {\n",
              "        vertical-align: middle;\n",
              "    }\n",
              "\n",
              "    .dataframe tbody tr th {\n",
              "        vertical-align: top;\n",
              "    }\n",
              "\n",
              "    .dataframe thead th {\n",
              "        text-align: right;\n",
              "    }\n",
              "</style>\n",
              "<table border=\"1\" class=\"dataframe\">\n",
              "  <thead>\n",
              "    <tr style=\"text-align: right;\">\n",
              "      <th></th>\n",
              "      <th></th>\n",
              "      <th>C1</th>\n",
              "      <th>C2</th>\n",
              "    </tr>\n",
              "  </thead>\n",
              "  <tbody>\n",
              "    <tr>\n",
              "      <th rowspan=\"3\" valign=\"top\">A</th>\n",
              "      <th>K1</th>\n",
              "      <td>1</td>\n",
              "      <td>7</td>\n",
              "    </tr>\n",
              "    <tr>\n",
              "      <th>K2</th>\n",
              "      <td>2</td>\n",
              "      <td>8</td>\n",
              "    </tr>\n",
              "    <tr>\n",
              "      <th>K3</th>\n",
              "      <td>3</td>\n",
              "      <td>9</td>\n",
              "    </tr>\n",
              "    <tr>\n",
              "      <th rowspan=\"3\" valign=\"top\">B</th>\n",
              "      <th>K1</th>\n",
              "      <td>4</td>\n",
              "      <td>10</td>\n",
              "    </tr>\n",
              "    <tr>\n",
              "      <th>K2</th>\n",
              "      <td>5</td>\n",
              "      <td>11</td>\n",
              "    </tr>\n",
              "    <tr>\n",
              "      <th>K3</th>\n",
              "      <td>6</td>\n",
              "      <td>12</td>\n",
              "    </tr>\n",
              "  </tbody>\n",
              "</table>\n",
              "</div>"
            ],
            "text/plain": [
              "      C1  C2\n",
              "A K1   1   7\n",
              "  K2   2   8\n",
              "  K3   3   9\n",
              "B K1   4  10\n",
              "  K2   5  11\n",
              "  K3   6  12"
            ]
          },
          "execution_count": 52,
          "metadata": {},
          "output_type": "execute_result"
        }
      ],
      "source": [
        "df = pd.DataFrame(\n",
        "    [\n",
        "        [1,7],\n",
        "        [2,8],\n",
        "        [3,9],\n",
        "        [4,10],\n",
        "        [5,11],\n",
        "        [6,12]\n",
        "    ],\n",
        "    index= pd.MultiIndex.from_product([[\"A\",\"B\"],[\"K1\",\"K2\",\"K3\"]]),\n",
        "    columns=[\"C1\",\"C2\"]\n",
        ")\n",
        "df"
      ]
    },
    {
      "attachments": {},
      "cell_type": "markdown",
      "id": "3e9c1d11",
      "metadata": {
        "id": "3e9c1d11"
      },
      "source": [
        "### Access 2"
      ]
    },
    {
      "cell_type": "code",
      "execution_count": 53,
      "id": "3b6cbf3e",
      "metadata": {
        "colab": {
          "base_uri": "https://localhost:8080/"
        },
        "id": "3b6cbf3e",
        "outputId": "62c7fda9-b008-4595-92f7-d6396021d8e1"
      },
      "outputs": [
        {
          "data": {
            "text/plain": [
              "Index(['C1', 'C2'], dtype='object')"
            ]
          },
          "execution_count": 53,
          "metadata": {},
          "output_type": "execute_result"
        }
      ],
      "source": [
        "df.keys()"
      ]
    },
    {
      "cell_type": "code",
      "execution_count": 54,
      "id": "962c03d1",
      "metadata": {
        "colab": {
          "base_uri": "https://localhost:8080/"
        },
        "id": "962c03d1",
        "outputId": "de54ef65-785b-425d-c32c-4644dee7e3ee"
      },
      "outputs": [
        {
          "data": {
            "text/plain": [
              "MultiIndex([('A', 'K1'),\n",
              "            ('A', 'K2'),\n",
              "            ('A', 'K3'),\n",
              "            ('B', 'K1'),\n",
              "            ('B', 'K2'),\n",
              "            ('B', 'K3')],\n",
              "           )"
            ]
          },
          "execution_count": 54,
          "metadata": {},
          "output_type": "execute_result"
        }
      ],
      "source": [
        "df.index"
      ]
    },
    {
      "cell_type": "code",
      "execution_count": 55,
      "id": "7e9535b4",
      "metadata": {
        "colab": {
          "base_uri": "https://localhost:8080/"
        },
        "id": "7e9535b4",
        "outputId": "968e39cf-bdca-4713-a18f-4fbb2c3b942d"
      },
      "outputs": [
        {
          "data": {
            "text/plain": [
              "array([[ 1,  7],\n",
              "       [ 2,  8],\n",
              "       [ 3,  9],\n",
              "       [ 4, 10],\n",
              "       [ 5, 11],\n",
              "       [ 6, 12]])"
            ]
          },
          "execution_count": 55,
          "metadata": {},
          "output_type": "execute_result"
        }
      ],
      "source": [
        "df.values"
      ]
    },
    {
      "attachments": {},
      "cell_type": "markdown",
      "id": "44b0a2e8",
      "metadata": {
        "id": "44b0a2e8"
      },
      "source": [
        "### loc"
      ]
    },
    {
      "cell_type": "code",
      "execution_count": 56,
      "id": "fd35ed4f",
      "metadata": {
        "colab": {
          "base_uri": "https://localhost:8080/",
          "height": 143
        },
        "id": "fd35ed4f",
        "outputId": "fe6b851f-c39a-412a-8381-ddeda8d08edc"
      },
      "outputs": [
        {
          "data": {
            "text/html": [
              "<div>\n",
              "<style scoped>\n",
              "    .dataframe tbody tr th:only-of-type {\n",
              "        vertical-align: middle;\n",
              "    }\n",
              "\n",
              "    .dataframe tbody tr th {\n",
              "        vertical-align: top;\n",
              "    }\n",
              "\n",
              "    .dataframe thead th {\n",
              "        text-align: right;\n",
              "    }\n",
              "</style>\n",
              "<table border=\"1\" class=\"dataframe\">\n",
              "  <thead>\n",
              "    <tr style=\"text-align: right;\">\n",
              "      <th></th>\n",
              "      <th>C1</th>\n",
              "      <th>C2</th>\n",
              "    </tr>\n",
              "  </thead>\n",
              "  <tbody>\n",
              "    <tr>\n",
              "      <th>K1</th>\n",
              "      <td>1</td>\n",
              "      <td>7</td>\n",
              "    </tr>\n",
              "    <tr>\n",
              "      <th>K2</th>\n",
              "      <td>2</td>\n",
              "      <td>8</td>\n",
              "    </tr>\n",
              "    <tr>\n",
              "      <th>K3</th>\n",
              "      <td>3</td>\n",
              "      <td>9</td>\n",
              "    </tr>\n",
              "  </tbody>\n",
              "</table>\n",
              "</div>"
            ],
            "text/plain": [
              "    C1  C2\n",
              "K1   1   7\n",
              "K2   2   8\n",
              "K3   3   9"
            ]
          },
          "execution_count": 56,
          "metadata": {},
          "output_type": "execute_result"
        }
      ],
      "source": [
        "df.loc[(\"A\")]"
      ]
    },
    {
      "cell_type": "code",
      "execution_count": 57,
      "id": "ad960fa2",
      "metadata": {
        "colab": {
          "base_uri": "https://localhost:8080/"
        },
        "id": "ad960fa2",
        "outputId": "b999b175-c8bf-4a3d-9068-5db29bd99c63"
      },
      "outputs": [
        {
          "data": {
            "text/plain": [
              "C1    2\n",
              "C2    8\n",
              "Name: (A, K2), dtype: int64"
            ]
          },
          "execution_count": 57,
          "metadata": {},
          "output_type": "execute_result"
        }
      ],
      "source": [
        "df.loc[(\"A\",\"K2\")]"
      ]
    },
    {
      "cell_type": "code",
      "execution_count": 58,
      "id": "84704905",
      "metadata": {
        "colab": {
          "base_uri": "https://localhost:8080/"
        },
        "id": "84704905",
        "outputId": "7082451c-12c4-401f-8247-fbd4b495553f"
      },
      "outputs": [
        {
          "data": {
            "text/plain": [
              "2"
            ]
          },
          "execution_count": 58,
          "metadata": {},
          "output_type": "execute_result"
        }
      ],
      "source": [
        "df.loc[(\"A\",\"K2\")][\"C1\"]"
      ]
    },
    {
      "cell_type": "code",
      "execution_count": 59,
      "id": "b71f4890",
      "metadata": {
        "colab": {
          "base_uri": "https://localhost:8080/"
        },
        "id": "b71f4890",
        "outputId": "710af6be-990c-4e93-f215-63685f7c3444"
      },
      "outputs": [
        {
          "data": {
            "text/plain": [
              "2"
            ]
          },
          "execution_count": 59,
          "metadata": {},
          "output_type": "execute_result"
        }
      ],
      "source": [
        "df.loc[(\"A\",\"C1\")][\"K2\"]"
      ]
    },
    {
      "cell_type": "code",
      "execution_count": 60,
      "id": "ee609f0f",
      "metadata": {
        "colab": {
          "base_uri": "https://localhost:8080/",
          "height": 237
        },
        "id": "ee609f0f",
        "outputId": "1e235602-0b27-49b3-fd41-106c75523e67"
      },
      "outputs": [
        {
          "data": {
            "text/html": [
              "<div>\n",
              "<style scoped>\n",
              "    .dataframe tbody tr th:only-of-type {\n",
              "        vertical-align: middle;\n",
              "    }\n",
              "\n",
              "    .dataframe tbody tr th {\n",
              "        vertical-align: top;\n",
              "    }\n",
              "\n",
              "    .dataframe thead th {\n",
              "        text-align: right;\n",
              "    }\n",
              "</style>\n",
              "<table border=\"1\" class=\"dataframe\">\n",
              "  <thead>\n",
              "    <tr style=\"text-align: right;\">\n",
              "      <th></th>\n",
              "      <th></th>\n",
              "      <th>C1</th>\n",
              "      <th>C2</th>\n",
              "    </tr>\n",
              "  </thead>\n",
              "  <tbody>\n",
              "    <tr>\n",
              "      <th rowspan=\"3\" valign=\"top\">A</th>\n",
              "      <th>K1</th>\n",
              "      <td>1</td>\n",
              "      <td>7</td>\n",
              "    </tr>\n",
              "    <tr>\n",
              "      <th>K2</th>\n",
              "      <td>2</td>\n",
              "      <td>8</td>\n",
              "    </tr>\n",
              "    <tr>\n",
              "      <th>K3</th>\n",
              "      <td>3</td>\n",
              "      <td>9</td>\n",
              "    </tr>\n",
              "    <tr>\n",
              "      <th rowspan=\"3\" valign=\"top\">B</th>\n",
              "      <th>K1</th>\n",
              "      <td>4</td>\n",
              "      <td>10</td>\n",
              "    </tr>\n",
              "    <tr>\n",
              "      <th>K2</th>\n",
              "      <td>5</td>\n",
              "      <td>11</td>\n",
              "    </tr>\n",
              "    <tr>\n",
              "      <th>K3</th>\n",
              "      <td>6</td>\n",
              "      <td>12</td>\n",
              "    </tr>\n",
              "  </tbody>\n",
              "</table>\n",
              "</div>"
            ],
            "text/plain": [
              "      C1  C2\n",
              "A K1   1   7\n",
              "  K2   2   8\n",
              "  K3   3   9\n",
              "B K1   4  10\n",
              "  K2   5  11\n",
              "  K3   6  12"
            ]
          },
          "execution_count": 60,
          "metadata": {},
          "output_type": "execute_result"
        }
      ],
      "source": [
        "df"
      ]
    },
    {
      "cell_type": "code",
      "execution_count": 61,
      "id": "12252c22",
      "metadata": {
        "colab": {
          "base_uri": "https://localhost:8080/",
          "height": 143
        },
        "id": "12252c22",
        "outputId": "f3d446e4-a792-4abd-a174-71e19e6cdcf0"
      },
      "outputs": [
        {
          "data": {
            "text/html": [
              "<div>\n",
              "<style scoped>\n",
              "    .dataframe tbody tr th:only-of-type {\n",
              "        vertical-align: middle;\n",
              "    }\n",
              "\n",
              "    .dataframe tbody tr th {\n",
              "        vertical-align: top;\n",
              "    }\n",
              "\n",
              "    .dataframe thead th {\n",
              "        text-align: right;\n",
              "    }\n",
              "</style>\n",
              "<table border=\"1\" class=\"dataframe\">\n",
              "  <thead>\n",
              "    <tr style=\"text-align: right;\">\n",
              "      <th></th>\n",
              "      <th>C1</th>\n",
              "      <th>C2</th>\n",
              "    </tr>\n",
              "  </thead>\n",
              "  <tbody>\n",
              "    <tr>\n",
              "      <th>K1</th>\n",
              "      <td>1</td>\n",
              "      <td>7</td>\n",
              "    </tr>\n",
              "    <tr>\n",
              "      <th>K2</th>\n",
              "      <td>2</td>\n",
              "      <td>8</td>\n",
              "    </tr>\n",
              "    <tr>\n",
              "      <th>K3</th>\n",
              "      <td>3</td>\n",
              "      <td>9</td>\n",
              "    </tr>\n",
              "  </tbody>\n",
              "</table>\n",
              "</div>"
            ],
            "text/plain": [
              "    C1  C2\n",
              "K1   1   7\n",
              "K2   2   8\n",
              "K3   3   9"
            ]
          },
          "execution_count": 61,
          "metadata": {},
          "output_type": "execute_result"
        }
      ],
      "source": [
        "## Extract A keys\n",
        "df.loc[\"A\"]"
      ]
    },
    {
      "cell_type": "code",
      "execution_count": 62,
      "id": "39af62d4",
      "metadata": {
        "colab": {
          "base_uri": "https://localhost:8080/",
          "height": 237
        },
        "id": "39af62d4",
        "outputId": "525bd98c-6974-4340-f00e-095dd9d2227f"
      },
      "outputs": [
        {
          "data": {
            "text/html": [
              "<div>\n",
              "<style scoped>\n",
              "    .dataframe tbody tr th:only-of-type {\n",
              "        vertical-align: middle;\n",
              "    }\n",
              "\n",
              "    .dataframe tbody tr th {\n",
              "        vertical-align: top;\n",
              "    }\n",
              "\n",
              "    .dataframe thead th {\n",
              "        text-align: right;\n",
              "    }\n",
              "</style>\n",
              "<table border=\"1\" class=\"dataframe\">\n",
              "  <thead>\n",
              "    <tr style=\"text-align: right;\">\n",
              "      <th></th>\n",
              "      <th></th>\n",
              "      <th>C1</th>\n",
              "      <th>C2</th>\n",
              "    </tr>\n",
              "  </thead>\n",
              "  <tbody>\n",
              "    <tr>\n",
              "      <th rowspan=\"3\" valign=\"top\">A</th>\n",
              "      <th>K1</th>\n",
              "      <td>1</td>\n",
              "      <td>7</td>\n",
              "    </tr>\n",
              "    <tr>\n",
              "      <th>K2</th>\n",
              "      <td>2</td>\n",
              "      <td>8</td>\n",
              "    </tr>\n",
              "    <tr>\n",
              "      <th>K3</th>\n",
              "      <td>3</td>\n",
              "      <td>9</td>\n",
              "    </tr>\n",
              "    <tr>\n",
              "      <th rowspan=\"3\" valign=\"top\">B</th>\n",
              "      <th>K1</th>\n",
              "      <td>4</td>\n",
              "      <td>10</td>\n",
              "    </tr>\n",
              "    <tr>\n",
              "      <th>K2</th>\n",
              "      <td>5</td>\n",
              "      <td>11</td>\n",
              "    </tr>\n",
              "    <tr>\n",
              "      <th>K3</th>\n",
              "      <td>6</td>\n",
              "      <td>12</td>\n",
              "    </tr>\n",
              "  </tbody>\n",
              "</table>\n",
              "</div>"
            ],
            "text/plain": [
              "      C1  C2\n",
              "A K1   1   7\n",
              "  K2   2   8\n",
              "  K3   3   9\n",
              "B K1   4  10\n",
              "  K2   5  11\n",
              "  K3   6  12"
            ]
          },
          "execution_count": 62,
          "metadata": {},
          "output_type": "execute_result"
        }
      ],
      "source": [
        "df"
      ]
    },
    {
      "attachments": {},
      "cell_type": "markdown",
      "id": "f7c61928",
      "metadata": {
        "id": "f7c61928"
      },
      "source": [
        "### iloc "
      ]
    },
    {
      "cell_type": "code",
      "execution_count": 63,
      "id": "4b2cfbfb",
      "metadata": {
        "colab": {
          "base_uri": "https://localhost:8080/"
        },
        "id": "4b2cfbfb",
        "outputId": "5351d6d2-fe58-4111-a7ef-33415b6d03be"
      },
      "outputs": [
        {
          "data": {
            "text/plain": [
              "C1    1\n",
              "C2    7\n",
              "Name: (A, K1), dtype: int64"
            ]
          },
          "execution_count": 63,
          "metadata": {},
          "output_type": "execute_result"
        }
      ],
      "source": [
        "df.iloc[0]"
      ]
    },
    {
      "cell_type": "code",
      "execution_count": 64,
      "id": "57582b44",
      "metadata": {
        "colab": {
          "base_uri": "https://localhost:8080/"
        },
        "id": "57582b44",
        "outputId": "f2450ea7-acf6-4ead-a2e9-dc95a6f2a24e"
      },
      "outputs": [
        {
          "data": {
            "text/plain": [
              "C1    2\n",
              "C2    8\n",
              "Name: (A, K2), dtype: int64"
            ]
          },
          "execution_count": 64,
          "metadata": {},
          "output_type": "execute_result"
        }
      ],
      "source": [
        "df.iloc[1]"
      ]
    },
    {
      "cell_type": "code",
      "execution_count": 65,
      "id": "eda41760",
      "metadata": {
        "colab": {
          "base_uri": "https://localhost:8080/"
        },
        "id": "eda41760",
        "outputId": "85418eec-f1e3-40ac-9cdd-500600cd0b1e"
      },
      "outputs": [
        {
          "data": {
            "text/plain": [
              "7"
            ]
          },
          "execution_count": 65,
          "metadata": {},
          "output_type": "execute_result"
        }
      ],
      "source": [
        "df.iloc[0,1]"
      ]
    },
    {
      "cell_type": "code",
      "execution_count": 66,
      "id": "9a45f982",
      "metadata": {
        "colab": {
          "base_uri": "https://localhost:8080/"
        },
        "id": "9a45f982",
        "outputId": "e194772a-a103-4568-8981-5b3b390b847b"
      },
      "outputs": [
        {
          "data": {
            "text/plain": [
              "2"
            ]
          },
          "execution_count": 66,
          "metadata": {},
          "output_type": "execute_result"
        }
      ],
      "source": [
        "df.iloc[1,0]"
      ]
    },
    {
      "cell_type": "code",
      "execution_count": 67,
      "id": "f6c9e59d",
      "metadata": {
        "colab": {
          "base_uri": "https://localhost:8080/",
          "height": 237
        },
        "id": "f6c9e59d",
        "outputId": "fc2bf3a7-71be-4a8e-8b46-31685cd13e68"
      },
      "outputs": [
        {
          "data": {
            "text/html": [
              "<div>\n",
              "<style scoped>\n",
              "    .dataframe tbody tr th:only-of-type {\n",
              "        vertical-align: middle;\n",
              "    }\n",
              "\n",
              "    .dataframe tbody tr th {\n",
              "        vertical-align: top;\n",
              "    }\n",
              "\n",
              "    .dataframe thead th {\n",
              "        text-align: right;\n",
              "    }\n",
              "</style>\n",
              "<table border=\"1\" class=\"dataframe\">\n",
              "  <thead>\n",
              "    <tr style=\"text-align: right;\">\n",
              "      <th></th>\n",
              "      <th></th>\n",
              "      <th>C1</th>\n",
              "      <th>C2</th>\n",
              "    </tr>\n",
              "  </thead>\n",
              "  <tbody>\n",
              "    <tr>\n",
              "      <th rowspan=\"3\" valign=\"top\">Section1</th>\n",
              "      <th>k1</th>\n",
              "      <td>1</td>\n",
              "      <td>Mubeen</td>\n",
              "    </tr>\n",
              "    <tr>\n",
              "      <th>k2</th>\n",
              "      <td>2</td>\n",
              "      <td>Ali</td>\n",
              "    </tr>\n",
              "    <tr>\n",
              "      <th>k3</th>\n",
              "      <td>3</td>\n",
              "      <td>Usman</td>\n",
              "    </tr>\n",
              "    <tr>\n",
              "      <th rowspan=\"3\" valign=\"top\">Section2</th>\n",
              "      <th>k1</th>\n",
              "      <td>4</td>\n",
              "      <td>Bilal</td>\n",
              "    </tr>\n",
              "    <tr>\n",
              "      <th>k2</th>\n",
              "      <td>5</td>\n",
              "      <td>Naveed</td>\n",
              "    </tr>\n",
              "    <tr>\n",
              "      <th>k3</th>\n",
              "      <td>6</td>\n",
              "      <td>Rizwan</td>\n",
              "    </tr>\n",
              "  </tbody>\n",
              "</table>\n",
              "</div>"
            ],
            "text/plain": [
              "            C1      C2\n",
              "Section1 k1  1  Mubeen\n",
              "         k2  2     Ali\n",
              "         k3  3   Usman\n",
              "Section2 k1  4   Bilal\n",
              "         k2  5  Naveed\n",
              "         k3  6  Rizwan"
            ]
          },
          "execution_count": 67,
          "metadata": {},
          "output_type": "execute_result"
        }
      ],
      "source": [
        "df_1 = pd.DataFrame([\n",
        "    [\"1\",\"Mubeen\"],\n",
        "    [\"2\",\"Ali\"],\n",
        "    [\"3\",\"Usman\"],\n",
        "    [\"4\",\"Bilal\"],\n",
        "    [\"5\",\"Naveed\"],\n",
        "    [\"6\",\"Rizwan\"],\n",
        "],\n",
        "    index=pd.MultiIndex.from_product([[\"Section1\",\"Section2\"],[\"k1\",\"k2\",\"k3\"]]),\n",
        "    columns=[\"C1\",\"C2\"]\n",
        "\n",
        ")\n",
        "df_1"
      ]
    },
    {
      "attachments": {},
      "cell_type": "markdown",
      "id": "56c39319",
      "metadata": {
        "id": "56c39319"
      },
      "source": [
        "### Now Revert column and index"
      ]
    },
    {
      "cell_type": "code",
      "execution_count": 68,
      "id": "f07e8332",
      "metadata": {
        "colab": {
          "base_uri": "https://localhost:8080/",
          "height": 206
        },
        "id": "f07e8332",
        "outputId": "6518491f-fb1d-4bf7-f788-4079e239c919"
      },
      "outputs": [
        {
          "data": {
            "text/html": [
              "<div>\n",
              "<style scoped>\n",
              "    .dataframe tbody tr th:only-of-type {\n",
              "        vertical-align: middle;\n",
              "    }\n",
              "\n",
              "    .dataframe tbody tr th {\n",
              "        vertical-align: top;\n",
              "    }\n",
              "\n",
              "    .dataframe thead tr th {\n",
              "        text-align: left;\n",
              "    }\n",
              "</style>\n",
              "<table border=\"1\" class=\"dataframe\">\n",
              "  <thead>\n",
              "    <tr>\n",
              "      <th></th>\n",
              "      <th colspan=\"2\" halign=\"left\">Section1</th>\n",
              "      <th colspan=\"2\" halign=\"left\">Section2</th>\n",
              "    </tr>\n",
              "    <tr>\n",
              "      <th></th>\n",
              "      <th>k1</th>\n",
              "      <th>k2</th>\n",
              "      <th>k1</th>\n",
              "      <th>k2</th>\n",
              "    </tr>\n",
              "  </thead>\n",
              "  <tbody>\n",
              "    <tr>\n",
              "      <th>C1</th>\n",
              "      <td>1</td>\n",
              "      <td>Mubeen</td>\n",
              "      <td>Temp</td>\n",
              "      <td>Temp</td>\n",
              "    </tr>\n",
              "    <tr>\n",
              "      <th>C2</th>\n",
              "      <td>2</td>\n",
              "      <td>Ali</td>\n",
              "      <td>Temp</td>\n",
              "      <td>Temp</td>\n",
              "    </tr>\n",
              "    <tr>\n",
              "      <th>C3</th>\n",
              "      <td>3</td>\n",
              "      <td>Usman</td>\n",
              "      <td>Temp</td>\n",
              "      <td>Temp</td>\n",
              "    </tr>\n",
              "    <tr>\n",
              "      <th>C4</th>\n",
              "      <td>4</td>\n",
              "      <td>Bilal</td>\n",
              "      <td>Temp</td>\n",
              "      <td>Temp</td>\n",
              "    </tr>\n",
              "  </tbody>\n",
              "</table>\n",
              "</div>"
            ],
            "text/plain": [
              "   Section1         Section2      \n",
              "         k1      k2       k1    k2\n",
              "C1        1  Mubeen     Temp  Temp\n",
              "C2        2     Ali     Temp  Temp\n",
              "C3        3   Usman     Temp  Temp\n",
              "C4        4   Bilal     Temp  Temp"
            ]
          },
          "execution_count": 68,
          "metadata": {},
          "output_type": "execute_result"
        }
      ],
      "source": [
        "df_2 = pd.DataFrame([\n",
        "    [\"1\",\"Mubeen\",\"Temp\",\"Temp\"],\n",
        "    [\"2\",\"Ali\",\"Temp\",\"Temp\"],\n",
        "    [\"3\",\"Usman\",\"Temp\",\"Temp\"],\n",
        "    [\"4\",\"Bilal\",\"Temp\",\"Temp\"]\n",
        "],\n",
        "    index=[\"C1\",\"C2\",\"C3\",\"C4\"],\n",
        "    columns=pd.MultiIndex.from_product([[\"Section1\",\"Section2\"],[\"k1\",\"k2\"]])\n",
        "\n",
        ")\n",
        "df_2"
      ]
    },
    {
      "cell_type": "code",
      "execution_count": 69,
      "id": "6461a2e8",
      "metadata": {
        "colab": {
          "base_uri": "https://localhost:8080/",
          "height": 175
        },
        "id": "6461a2e8",
        "outputId": "5d0a2a00-8d9a-45ba-977a-91d66acc49e3"
      },
      "outputs": [
        {
          "data": {
            "text/html": [
              "<div>\n",
              "<style scoped>\n",
              "    .dataframe tbody tr th:only-of-type {\n",
              "        vertical-align: middle;\n",
              "    }\n",
              "\n",
              "    .dataframe tbody tr th {\n",
              "        vertical-align: top;\n",
              "    }\n",
              "\n",
              "    .dataframe thead th {\n",
              "        text-align: right;\n",
              "    }\n",
              "</style>\n",
              "<table border=\"1\" class=\"dataframe\">\n",
              "  <thead>\n",
              "    <tr style=\"text-align: right;\">\n",
              "      <th></th>\n",
              "      <th>k1</th>\n",
              "      <th>k2</th>\n",
              "    </tr>\n",
              "  </thead>\n",
              "  <tbody>\n",
              "    <tr>\n",
              "      <th>C1</th>\n",
              "      <td>1</td>\n",
              "      <td>Mubeen</td>\n",
              "    </tr>\n",
              "    <tr>\n",
              "      <th>C2</th>\n",
              "      <td>2</td>\n",
              "      <td>Ali</td>\n",
              "    </tr>\n",
              "    <tr>\n",
              "      <th>C3</th>\n",
              "      <td>3</td>\n",
              "      <td>Usman</td>\n",
              "    </tr>\n",
              "    <tr>\n",
              "      <th>C4</th>\n",
              "      <td>4</td>\n",
              "      <td>Bilal</td>\n",
              "    </tr>\n",
              "  </tbody>\n",
              "</table>\n",
              "</div>"
            ],
            "text/plain": [
              "   k1      k2\n",
              "C1  1  Mubeen\n",
              "C2  2     Ali\n",
              "C3  3   Usman\n",
              "C4  4   Bilal"
            ]
          },
          "execution_count": 69,
          "metadata": {},
          "output_type": "execute_result"
        }
      ],
      "source": [
        "df_2[\"Section1\"]"
      ]
    },
    {
      "cell_type": "code",
      "execution_count": 70,
      "id": "cb7399e0",
      "metadata": {
        "colab": {
          "base_uri": "https://localhost:8080/",
          "height": 175
        },
        "id": "cb7399e0",
        "outputId": "7e8c018b-8cd4-489d-f4f8-0cced5ed2b44"
      },
      "outputs": [
        {
          "data": {
            "text/html": [
              "<div>\n",
              "<style scoped>\n",
              "    .dataframe tbody tr th:only-of-type {\n",
              "        vertical-align: middle;\n",
              "    }\n",
              "\n",
              "    .dataframe tbody tr th {\n",
              "        vertical-align: top;\n",
              "    }\n",
              "\n",
              "    .dataframe thead th {\n",
              "        text-align: right;\n",
              "    }\n",
              "</style>\n",
              "<table border=\"1\" class=\"dataframe\">\n",
              "  <thead>\n",
              "    <tr style=\"text-align: right;\">\n",
              "      <th></th>\n",
              "      <th>k1</th>\n",
              "      <th>k2</th>\n",
              "    </tr>\n",
              "  </thead>\n",
              "  <tbody>\n",
              "    <tr>\n",
              "      <th>C1</th>\n",
              "      <td>Temp</td>\n",
              "      <td>Temp</td>\n",
              "    </tr>\n",
              "    <tr>\n",
              "      <th>C2</th>\n",
              "      <td>Temp</td>\n",
              "      <td>Temp</td>\n",
              "    </tr>\n",
              "    <tr>\n",
              "      <th>C3</th>\n",
              "      <td>Temp</td>\n",
              "      <td>Temp</td>\n",
              "    </tr>\n",
              "    <tr>\n",
              "      <th>C4</th>\n",
              "      <td>Temp</td>\n",
              "      <td>Temp</td>\n",
              "    </tr>\n",
              "  </tbody>\n",
              "</table>\n",
              "</div>"
            ],
            "text/plain": [
              "      k1    k2\n",
              "C1  Temp  Temp\n",
              "C2  Temp  Temp\n",
              "C3  Temp  Temp\n",
              "C4  Temp  Temp"
            ]
          },
          "execution_count": 70,
          "metadata": {},
          "output_type": "execute_result"
        }
      ],
      "source": [
        "df_2[\"Section2\"]"
      ]
    },
    {
      "attachments": {},
      "cell_type": "markdown",
      "id": "yimmL5iVNB_d",
      "metadata": {
        "id": "yimmL5iVNB_d"
      },
      "source": [
        "### Example 2"
      ]
    },
    {
      "cell_type": "code",
      "execution_count": 71,
      "id": "W6dwEJU8N89o",
      "metadata": {
        "colab": {
          "base_uri": "https://localhost:8080/"
        },
        "id": "W6dwEJU8N89o",
        "outputId": "74539f05-5007-4e0e-df8f-5d57afe51ddc"
      },
      "outputs": [
        {
          "data": {
            "text/plain": [
              "MultiIndex([('cse', 2019),\n",
              "            ('cse', 2020),\n",
              "            ('cse', 2021),\n",
              "            ('cse', 2022),\n",
              "            ('ece', 2019),\n",
              "            ('ece', 2020),\n",
              "            ('ece', 2021),\n",
              "            ('ece', 2022)],\n",
              "           )"
            ]
          },
          "execution_count": 71,
          "metadata": {},
          "output_type": "execute_result"
        }
      ],
      "source": [
        "# with tuple\n",
        "pd.MultiIndex.from_tuples([\n",
        "    (\"cse\",2019),\n",
        "    (\"cse\",2020),\n",
        "    (\"cse\",2021),\n",
        "    (\"cse\",2022),\n",
        "    (\"ece\",2019),\n",
        "    (\"ece\",2020),\n",
        "    (\"ece\",2021),\n",
        "    (\"ece\",2022),\n",
        "    ])"
      ]
    },
    {
      "cell_type": "code",
      "execution_count": 72,
      "id": "aQQiy_ubNFFP",
      "metadata": {
        "colab": {
          "base_uri": "https://localhost:8080/"
        },
        "id": "aQQiy_ubNFFP",
        "outputId": "f360ee03-0f48-4553-e832-e374bb1f3fe2"
      },
      "outputs": [
        {
          "data": {
            "text/plain": [
              "MultiIndex([('cse', 2019),\n",
              "            ('cse', 2020),\n",
              "            ('cse', 2021),\n",
              "            ('cse', 2022),\n",
              "            ('ece', 2019),\n",
              "            ('ece', 2020),\n",
              "            ('ece', 2021),\n",
              "            ('ece', 2022)],\n",
              "           )"
            ]
          },
          "execution_count": 72,
          "metadata": {},
          "output_type": "execute_result"
        }
      ],
      "source": [
        "# with product\n",
        "multi_index = pd.MultiIndex.from_product(\n",
        "    [ \n",
        "        [\"cse\",\"ece\"], [2019,2020,2021,2022] \n",
        "     \n",
        "     ])\n",
        "\n",
        "\n",
        "multi_index"
      ]
    },
    {
      "cell_type": "code",
      "execution_count": 73,
      "id": "pJSJNGSZPTL1",
      "metadata": {
        "colab": {
          "base_uri": "https://localhost:8080/",
          "height": 300
        },
        "id": "pJSJNGSZPTL1",
        "outputId": "952ea9ea-9216-4317-b044-d1a8e5c3e7a2"
      },
      "outputs": [
        {
          "data": {
            "text/html": [
              "<div>\n",
              "<style scoped>\n",
              "    .dataframe tbody tr th:only-of-type {\n",
              "        vertical-align: middle;\n",
              "    }\n",
              "\n",
              "    .dataframe tbody tr th {\n",
              "        vertical-align: top;\n",
              "    }\n",
              "\n",
              "    .dataframe thead th {\n",
              "        text-align: right;\n",
              "    }\n",
              "</style>\n",
              "<table border=\"1\" class=\"dataframe\">\n",
              "  <thead>\n",
              "    <tr style=\"text-align: right;\">\n",
              "      <th></th>\n",
              "      <th>0</th>\n",
              "      <th>1</th>\n",
              "    </tr>\n",
              "  </thead>\n",
              "  <tbody>\n",
              "    <tr>\n",
              "      <th>0</th>\n",
              "      <td>1</td>\n",
              "      <td>2</td>\n",
              "    </tr>\n",
              "    <tr>\n",
              "      <th>1</th>\n",
              "      <td>3</td>\n",
              "      <td>4</td>\n",
              "    </tr>\n",
              "    <tr>\n",
              "      <th>2</th>\n",
              "      <td>5</td>\n",
              "      <td>6</td>\n",
              "    </tr>\n",
              "    <tr>\n",
              "      <th>3</th>\n",
              "      <td>7</td>\n",
              "      <td>8</td>\n",
              "    </tr>\n",
              "    <tr>\n",
              "      <th>4</th>\n",
              "      <td>9</td>\n",
              "      <td>10</td>\n",
              "    </tr>\n",
              "    <tr>\n",
              "      <th>5</th>\n",
              "      <td>11</td>\n",
              "      <td>12</td>\n",
              "    </tr>\n",
              "    <tr>\n",
              "      <th>6</th>\n",
              "      <td>13</td>\n",
              "      <td>14</td>\n",
              "    </tr>\n",
              "    <tr>\n",
              "      <th>7</th>\n",
              "      <td>15</td>\n",
              "      <td>16</td>\n",
              "    </tr>\n",
              "  </tbody>\n",
              "</table>\n",
              "</div>"
            ],
            "text/plain": [
              "    0   1\n",
              "0   1   2\n",
              "1   3   4\n",
              "2   5   6\n",
              "3   7   8\n",
              "4   9  10\n",
              "5  11  12\n",
              "6  13  14\n",
              "7  15  16"
            ]
          },
          "execution_count": 73,
          "metadata": {},
          "output_type": "execute_result"
        }
      ],
      "source": [
        "# create dataframe\n",
        "tst_1 = pd.DataFrame( [\n",
        "    \n",
        "    [1,2],\n",
        "    [3,4],\n",
        "    [5,6],\n",
        "    [7,8],\n",
        "    [9,10],\n",
        "    [11,12],\n",
        "    [13,14],\n",
        "    [15,16]\n",
        "] )\n",
        "\n",
        "tst_1"
      ]
    },
    {
      "cell_type": "code",
      "execution_count": 74,
      "id": "WppJ_X4qR00m",
      "metadata": {
        "colab": {
          "base_uri": "https://localhost:8080/",
          "height": 300
        },
        "id": "WppJ_X4qR00m",
        "outputId": "1f359016-2ffc-4d89-9952-8c806439e089"
      },
      "outputs": [
        {
          "data": {
            "text/html": [
              "<div>\n",
              "<style scoped>\n",
              "    .dataframe tbody tr th:only-of-type {\n",
              "        vertical-align: middle;\n",
              "    }\n",
              "\n",
              "    .dataframe tbody tr th {\n",
              "        vertical-align: top;\n",
              "    }\n",
              "\n",
              "    .dataframe thead th {\n",
              "        text-align: right;\n",
              "    }\n",
              "</style>\n",
              "<table border=\"1\" class=\"dataframe\">\n",
              "  <thead>\n",
              "    <tr style=\"text-align: right;\">\n",
              "      <th></th>\n",
              "      <th></th>\n",
              "      <th>avg_pkg</th>\n",
              "      <th>std</th>\n",
              "    </tr>\n",
              "  </thead>\n",
              "  <tbody>\n",
              "    <tr>\n",
              "      <th rowspan=\"4\" valign=\"top\">cse</th>\n",
              "      <th>2019</th>\n",
              "      <td>1</td>\n",
              "      <td>2</td>\n",
              "    </tr>\n",
              "    <tr>\n",
              "      <th>2020</th>\n",
              "      <td>3</td>\n",
              "      <td>4</td>\n",
              "    </tr>\n",
              "    <tr>\n",
              "      <th>2021</th>\n",
              "      <td>5</td>\n",
              "      <td>6</td>\n",
              "    </tr>\n",
              "    <tr>\n",
              "      <th>2022</th>\n",
              "      <td>7</td>\n",
              "      <td>8</td>\n",
              "    </tr>\n",
              "    <tr>\n",
              "      <th rowspan=\"4\" valign=\"top\">ece</th>\n",
              "      <th>2019</th>\n",
              "      <td>9</td>\n",
              "      <td>10</td>\n",
              "    </tr>\n",
              "    <tr>\n",
              "      <th>2020</th>\n",
              "      <td>11</td>\n",
              "      <td>12</td>\n",
              "    </tr>\n",
              "    <tr>\n",
              "      <th>2021</th>\n",
              "      <td>13</td>\n",
              "      <td>14</td>\n",
              "    </tr>\n",
              "    <tr>\n",
              "      <th>2022</th>\n",
              "      <td>15</td>\n",
              "      <td>16</td>\n",
              "    </tr>\n",
              "  </tbody>\n",
              "</table>\n",
              "</div>"
            ],
            "text/plain": [
              "          avg_pkg  std\n",
              "cse 2019        1    2\n",
              "    2020        3    4\n",
              "    2021        5    6\n",
              "    2022        7    8\n",
              "ece 2019        9   10\n",
              "    2020       11   12\n",
              "    2021       13   14\n",
              "    2022       15   16"
            ]
          },
          "execution_count": 74,
          "metadata": {},
          "output_type": "execute_result"
        }
      ],
      "source": [
        "# add index and columns\n",
        "tst_1.index = multi_index\n",
        "tst_1.columns = [\"avg_pkg\",\"std\"]\n",
        "\n",
        "tst_1"
      ]
    },
    {
      "cell_type": "code",
      "execution_count": 75,
      "id": "OK1PSXluSSex",
      "metadata": {
        "colab": {
          "base_uri": "https://localhost:8080/"
        },
        "id": "OK1PSXluSSex",
        "outputId": "ad5e7b57-1adc-429b-b7d3-16873cccdd13"
      },
      "outputs": [
        {
          "data": {
            "text/plain": [
              "(8, 2)"
            ]
          },
          "execution_count": 75,
          "metadata": {},
          "output_type": "execute_result"
        }
      ],
      "source": [
        "# check shape\n",
        "tst_1.shape"
      ]
    },
    {
      "cell_type": "code",
      "execution_count": 76,
      "id": "cYTV-GAVTAiv",
      "metadata": {
        "colab": {
          "base_uri": "https://localhost:8080/",
          "height": 175
        },
        "id": "cYTV-GAVTAiv",
        "outputId": "61e46842-4b55-482c-d12f-bc2124e4eccb"
      },
      "outputs": [
        {
          "data": {
            "text/html": [
              "<div>\n",
              "<style scoped>\n",
              "    .dataframe tbody tr th:only-of-type {\n",
              "        vertical-align: middle;\n",
              "    }\n",
              "\n",
              "    .dataframe tbody tr th {\n",
              "        vertical-align: top;\n",
              "    }\n",
              "\n",
              "    .dataframe thead th {\n",
              "        text-align: right;\n",
              "    }\n",
              "</style>\n",
              "<table border=\"1\" class=\"dataframe\">\n",
              "  <thead>\n",
              "    <tr style=\"text-align: right;\">\n",
              "      <th></th>\n",
              "      <th>avg_pkg</th>\n",
              "      <th>std</th>\n",
              "    </tr>\n",
              "  </thead>\n",
              "  <tbody>\n",
              "    <tr>\n",
              "      <th>2019</th>\n",
              "      <td>1</td>\n",
              "      <td>2</td>\n",
              "    </tr>\n",
              "    <tr>\n",
              "      <th>2020</th>\n",
              "      <td>3</td>\n",
              "      <td>4</td>\n",
              "    </tr>\n",
              "    <tr>\n",
              "      <th>2021</th>\n",
              "      <td>5</td>\n",
              "      <td>6</td>\n",
              "    </tr>\n",
              "    <tr>\n",
              "      <th>2022</th>\n",
              "      <td>7</td>\n",
              "      <td>8</td>\n",
              "    </tr>\n",
              "  </tbody>\n",
              "</table>\n",
              "</div>"
            ],
            "text/plain": [
              "      avg_pkg  std\n",
              "2019        1    2\n",
              "2020        3    4\n",
              "2021        5    6\n",
              "2022        7    8"
            ]
          },
          "execution_count": 76,
          "metadata": {},
          "output_type": "execute_result"
        }
      ],
      "source": [
        "# access multindex\n",
        "\n",
        "tst_1.loc[\"cse\"]"
      ]
    },
    {
      "cell_type": "code",
      "execution_count": 77,
      "id": "njV9E7cRTLBq",
      "metadata": {
        "colab": {
          "base_uri": "https://localhost:8080/",
          "height": 175
        },
        "id": "njV9E7cRTLBq",
        "outputId": "37de357b-4430-4ed2-c5d7-78124cd16bdd"
      },
      "outputs": [
        {
          "data": {
            "text/html": [
              "<div>\n",
              "<style scoped>\n",
              "    .dataframe tbody tr th:only-of-type {\n",
              "        vertical-align: middle;\n",
              "    }\n",
              "\n",
              "    .dataframe tbody tr th {\n",
              "        vertical-align: top;\n",
              "    }\n",
              "\n",
              "    .dataframe thead th {\n",
              "        text-align: right;\n",
              "    }\n",
              "</style>\n",
              "<table border=\"1\" class=\"dataframe\">\n",
              "  <thead>\n",
              "    <tr style=\"text-align: right;\">\n",
              "      <th></th>\n",
              "      <th>avg_pkg</th>\n",
              "      <th>std</th>\n",
              "    </tr>\n",
              "  </thead>\n",
              "  <tbody>\n",
              "    <tr>\n",
              "      <th>2019</th>\n",
              "      <td>9</td>\n",
              "      <td>10</td>\n",
              "    </tr>\n",
              "    <tr>\n",
              "      <th>2020</th>\n",
              "      <td>11</td>\n",
              "      <td>12</td>\n",
              "    </tr>\n",
              "    <tr>\n",
              "      <th>2021</th>\n",
              "      <td>13</td>\n",
              "      <td>14</td>\n",
              "    </tr>\n",
              "    <tr>\n",
              "      <th>2022</th>\n",
              "      <td>15</td>\n",
              "      <td>16</td>\n",
              "    </tr>\n",
              "  </tbody>\n",
              "</table>\n",
              "</div>"
            ],
            "text/plain": [
              "      avg_pkg  std\n",
              "2019        9   10\n",
              "2020       11   12\n",
              "2021       13   14\n",
              "2022       15   16"
            ]
          },
          "execution_count": 77,
          "metadata": {},
          "output_type": "execute_result"
        }
      ],
      "source": [
        "tst_1.loc[\"ece\"]"
      ]
    },
    {
      "cell_type": "code",
      "execution_count": 78,
      "id": "VMbPTr0pTfHu",
      "metadata": {
        "colab": {
          "base_uri": "https://localhost:8080/"
        },
        "id": "VMbPTr0pTfHu",
        "outputId": "c9205e1d-4a2b-4b10-928a-135d27ae87a8"
      },
      "outputs": [
        {
          "data": {
            "text/plain": [
              "cse  2019     1\n",
              "     2020     3\n",
              "     2021     5\n",
              "     2022     7\n",
              "ece  2019     9\n",
              "     2020    11\n",
              "     2021    13\n",
              "     2022    15\n",
              "Name: avg_pkg, dtype: int64"
            ]
          },
          "execution_count": 78,
          "metadata": {},
          "output_type": "execute_result"
        }
      ],
      "source": [
        "# direct access columns \n",
        "\n",
        "tst_1[\"avg_pkg\"]"
      ]
    },
    {
      "cell_type": "code",
      "execution_count": 79,
      "id": "np8dVW9KTqAG",
      "metadata": {
        "colab": {
          "base_uri": "https://localhost:8080/"
        },
        "id": "np8dVW9KTqAG",
        "outputId": "4c5f15f7-d6db-4ff1-dcb7-ca4c3f4de0e6"
      },
      "outputs": [
        {
          "data": {
            "text/plain": [
              "cse  2019     2\n",
              "     2020     4\n",
              "     2021     6\n",
              "     2022     8\n",
              "ece  2019    10\n",
              "     2020    12\n",
              "     2021    14\n",
              "     2022    16\n",
              "Name: std, dtype: int64"
            ]
          },
          "execution_count": 79,
          "metadata": {},
          "output_type": "execute_result"
        }
      ],
      "source": [
        "tst_1[\"std\"]"
      ]
    },
    {
      "attachments": {},
      "cell_type": "markdown",
      "id": "my1IKdiLVix7",
      "metadata": {
        "id": "my1IKdiLVix7"
      },
      "source": [
        "## Multi Index on column\n"
      ]
    },
    {
      "cell_type": "code",
      "execution_count": 80,
      "id": "wmVLswc2Tt_U",
      "metadata": {
        "colab": {
          "base_uri": "https://localhost:8080/",
          "height": 175
        },
        "id": "wmVLswc2Tt_U",
        "outputId": "5ec5f0ea-2f06-48bc-ae06-60a6267718d9"
      },
      "outputs": [
        {
          "data": {
            "text/html": [
              "<div>\n",
              "<style scoped>\n",
              "    .dataframe tbody tr th:only-of-type {\n",
              "        vertical-align: middle;\n",
              "    }\n",
              "\n",
              "    .dataframe tbody tr th {\n",
              "        vertical-align: top;\n",
              "    }\n",
              "\n",
              "    .dataframe thead th {\n",
              "        text-align: right;\n",
              "    }\n",
              "</style>\n",
              "<table border=\"1\" class=\"dataframe\">\n",
              "  <thead>\n",
              "    <tr style=\"text-align: right;\">\n",
              "      <th></th>\n",
              "      <th>0</th>\n",
              "      <th>1</th>\n",
              "      <th>2</th>\n",
              "      <th>3</th>\n",
              "    </tr>\n",
              "  </thead>\n",
              "  <tbody>\n",
              "    <tr>\n",
              "      <th>0</th>\n",
              "      <td>1</td>\n",
              "      <td>2</td>\n",
              "      <td>0</td>\n",
              "      <td>0</td>\n",
              "    </tr>\n",
              "    <tr>\n",
              "      <th>1</th>\n",
              "      <td>3</td>\n",
              "      <td>4</td>\n",
              "      <td>5</td>\n",
              "      <td>6</td>\n",
              "    </tr>\n",
              "    <tr>\n",
              "      <th>2</th>\n",
              "      <td>8</td>\n",
              "      <td>6</td>\n",
              "      <td>5</td>\n",
              "      <td>8</td>\n",
              "    </tr>\n",
              "    <tr>\n",
              "      <th>3</th>\n",
              "      <td>6</td>\n",
              "      <td>3</td>\n",
              "      <td>2</td>\n",
              "      <td>6</td>\n",
              "    </tr>\n",
              "  </tbody>\n",
              "</table>\n",
              "</div>"
            ],
            "text/plain": [
              "   0  1  2  3\n",
              "0  1  2  0  0\n",
              "1  3  4  5  6\n",
              "2  8  6  5  8\n",
              "3  6  3  2  6"
            ]
          },
          "execution_count": 80,
          "metadata": {},
          "output_type": "execute_result"
        }
      ],
      "source": [
        "\n",
        "tst_2 = pd.DataFrame([\n",
        "    \n",
        "    [1,2,0,0],\n",
        "    [3,4,5,6],\n",
        "    [8,6,5,8],\n",
        "    [6,3,2,6]\n",
        "\n",
        "])\n",
        "\n",
        "tst_2"
      ]
    },
    {
      "cell_type": "code",
      "execution_count": 81,
      "id": "0GCXXzagUy8Y",
      "metadata": {
        "colab": {
          "base_uri": "https://localhost:8080/",
          "height": 206
        },
        "id": "0GCXXzagUy8Y",
        "outputId": "47999419-66ff-4157-82bd-bc00ea62b32a"
      },
      "outputs": [
        {
          "data": {
            "text/html": [
              "<div>\n",
              "<style scoped>\n",
              "    .dataframe tbody tr th:only-of-type {\n",
              "        vertical-align: middle;\n",
              "    }\n",
              "\n",
              "    .dataframe tbody tr th {\n",
              "        vertical-align: top;\n",
              "    }\n",
              "\n",
              "    .dataframe thead tr th {\n",
              "        text-align: left;\n",
              "    }\n",
              "</style>\n",
              "<table border=\"1\" class=\"dataframe\">\n",
              "  <thead>\n",
              "    <tr>\n",
              "      <th></th>\n",
              "      <th colspan=\"2\" halign=\"left\">Lahore</th>\n",
              "      <th colspan=\"2\" halign=\"left\">Karachi</th>\n",
              "    </tr>\n",
              "    <tr>\n",
              "      <th></th>\n",
              "      <th>avg_pkg</th>\n",
              "      <th>std</th>\n",
              "      <th>avg_pkg</th>\n",
              "      <th>std</th>\n",
              "    </tr>\n",
              "  </thead>\n",
              "  <tbody>\n",
              "    <tr>\n",
              "      <th>2019</th>\n",
              "      <td>1</td>\n",
              "      <td>2</td>\n",
              "      <td>0</td>\n",
              "      <td>0</td>\n",
              "    </tr>\n",
              "    <tr>\n",
              "      <th>2020</th>\n",
              "      <td>3</td>\n",
              "      <td>4</td>\n",
              "      <td>5</td>\n",
              "      <td>6</td>\n",
              "    </tr>\n",
              "    <tr>\n",
              "      <th>2021</th>\n",
              "      <td>8</td>\n",
              "      <td>6</td>\n",
              "      <td>5</td>\n",
              "      <td>8</td>\n",
              "    </tr>\n",
              "    <tr>\n",
              "      <th>2022</th>\n",
              "      <td>6</td>\n",
              "      <td>3</td>\n",
              "      <td>2</td>\n",
              "      <td>6</td>\n",
              "    </tr>\n",
              "  </tbody>\n",
              "</table>\n",
              "</div>"
            ],
            "text/plain": [
              "      Lahore     Karachi    \n",
              "     avg_pkg std avg_pkg std\n",
              "2019       1   2       0   0\n",
              "2020       3   4       5   6\n",
              "2021       8   6       5   8\n",
              "2022       6   3       2   6"
            ]
          },
          "execution_count": 81,
          "metadata": {},
          "output_type": "execute_result"
        }
      ],
      "source": [
        "tst_2.index = [2019,2020,2021,2022]\n",
        "\n",
        "tst_2.columns = pd.MultiIndex.from_product([\n",
        "    [\"Lahore\",\"Karachi\"],\n",
        "    [\"avg_pkg\",\"std\"]\n",
        "    ])\n",
        "\n",
        "tst_2"
      ]
    },
    {
      "cell_type": "code",
      "execution_count": 82,
      "id": "hN3m51sbVUeB",
      "metadata": {
        "colab": {
          "base_uri": "https://localhost:8080/"
        },
        "id": "hN3m51sbVUeB",
        "outputId": "e2e3d157-00a1-4363-8c60-f5c873d0529d"
      },
      "outputs": [
        {
          "data": {
            "text/plain": [
              "Lahore   avg_pkg    3\n",
              "         std        4\n",
              "Karachi  avg_pkg    5\n",
              "         std        6\n",
              "Name: 2020, dtype: int64"
            ]
          },
          "execution_count": 82,
          "metadata": {},
          "output_type": "execute_result"
        }
      ],
      "source": [
        "# access 5 2020\n",
        "\n",
        "tst_2.loc[2020]"
      ]
    },
    {
      "cell_type": "code",
      "execution_count": 83,
      "id": "5sKKN4g4Wc0u",
      "metadata": {
        "colab": {
          "base_uri": "https://localhost:8080/"
        },
        "id": "5sKKN4g4Wc0u",
        "outputId": "219982e0-087b-44a2-daf9-1a6ac42bea86"
      },
      "outputs": [
        {
          "data": {
            "text/plain": [
              "5"
            ]
          },
          "execution_count": 83,
          "metadata": {},
          "output_type": "execute_result"
        }
      ],
      "source": [
        "tst_2.loc[2020][\"Karachi\"][\"avg_pkg\"]"
      ]
    },
    {
      "attachments": {},
      "cell_type": "markdown",
      "id": "1rsqop4vbOsl",
      "metadata": {
        "id": "1rsqop4vbOsl"
      },
      "source": [
        "### MultiIndex on columns and Index Both"
      ]
    },
    {
      "cell_type": "code",
      "execution_count": 84,
      "id": "6UzYrLz5bT8b",
      "metadata": {
        "id": "6UzYrLz5bT8b"
      },
      "outputs": [],
      "source": [
        "col = pd.MultiIndex.from_product([\n",
        "    [\"Lahore\",\"Karachi\"],\n",
        "    [\"avg_pkg\",\"std\"]\n",
        "    ])"
      ]
    },
    {
      "cell_type": "code",
      "execution_count": 85,
      "id": "NNMaBql1RJUX",
      "metadata": {
        "colab": {
          "base_uri": "https://localhost:8080/"
        },
        "id": "NNMaBql1RJUX",
        "outputId": "7657d3a2-adb7-4f53-dc75-7408aa90bbfb"
      },
      "outputs": [
        {
          "data": {
            "text/plain": [
              "MultiIndex([( 'Lahore', 'avg_pkg'),\n",
              "            ( 'Lahore',     'std'),\n",
              "            ('Karachi', 'avg_pkg'),\n",
              "            ('Karachi',     'std')],\n",
              "           )"
            ]
          },
          "execution_count": 85,
          "metadata": {},
          "output_type": "execute_result"
        }
      ],
      "source": [
        "col"
      ]
    },
    {
      "cell_type": "code",
      "execution_count": 86,
      "id": "AUkd2uyURV08",
      "metadata": {
        "colab": {
          "base_uri": "https://localhost:8080/"
        },
        "id": "AUkd2uyURV08",
        "outputId": "7ad0fed1-9178-4323-b6bf-c4b5907d98cd"
      },
      "outputs": [
        {
          "data": {
            "text/plain": [
              "MultiIndex([('cse', 2019),\n",
              "            ('cse', 2020),\n",
              "            ('cse', 2021),\n",
              "            ('cse', 2022),\n",
              "            ('ece', 2019),\n",
              "            ('ece', 2020),\n",
              "            ('ece', 2021),\n",
              "            ('ece', 2022)],\n",
              "           )"
            ]
          },
          "execution_count": 86,
          "metadata": {},
          "output_type": "execute_result"
        }
      ],
      "source": [
        "ind = pd.MultiIndex.from_product(\n",
        "    [ \n",
        "        [\"cse\",\"ece\"], [2019,2020,2021,2022] \n",
        "     \n",
        "     ])\n",
        "\n",
        "ind"
      ]
    },
    {
      "cell_type": "code",
      "execution_count": 87,
      "id": "afKfqXijRdO6",
      "metadata": {
        "colab": {
          "base_uri": "https://localhost:8080/",
          "height": 332
        },
        "id": "afKfqXijRdO6",
        "outputId": "362acbfc-f9f6-4ab6-d65b-71d36412be16"
      },
      "outputs": [
        {
          "data": {
            "text/html": [
              "<div>\n",
              "<style scoped>\n",
              "    .dataframe tbody tr th:only-of-type {\n",
              "        vertical-align: middle;\n",
              "    }\n",
              "\n",
              "    .dataframe tbody tr th {\n",
              "        vertical-align: top;\n",
              "    }\n",
              "\n",
              "    .dataframe thead tr th {\n",
              "        text-align: left;\n",
              "    }\n",
              "</style>\n",
              "<table border=\"1\" class=\"dataframe\">\n",
              "  <thead>\n",
              "    <tr>\n",
              "      <th></th>\n",
              "      <th></th>\n",
              "      <th colspan=\"2\" halign=\"left\">Lahore</th>\n",
              "      <th colspan=\"2\" halign=\"left\">Karachi</th>\n",
              "    </tr>\n",
              "    <tr>\n",
              "      <th></th>\n",
              "      <th></th>\n",
              "      <th>avg_pkg</th>\n",
              "      <th>std</th>\n",
              "      <th>avg_pkg</th>\n",
              "      <th>std</th>\n",
              "    </tr>\n",
              "  </thead>\n",
              "  <tbody>\n",
              "    <tr>\n",
              "      <th rowspan=\"4\" valign=\"top\">cse</th>\n",
              "      <th>2019</th>\n",
              "      <td>0</td>\n",
              "      <td>1</td>\n",
              "      <td>2</td>\n",
              "      <td>3</td>\n",
              "    </tr>\n",
              "    <tr>\n",
              "      <th>2020</th>\n",
              "      <td>4</td>\n",
              "      <td>5</td>\n",
              "      <td>6</td>\n",
              "      <td>7</td>\n",
              "    </tr>\n",
              "    <tr>\n",
              "      <th>2021</th>\n",
              "      <td>8</td>\n",
              "      <td>9</td>\n",
              "      <td>10</td>\n",
              "      <td>11</td>\n",
              "    </tr>\n",
              "    <tr>\n",
              "      <th>2022</th>\n",
              "      <td>12</td>\n",
              "      <td>13</td>\n",
              "      <td>14</td>\n",
              "      <td>15</td>\n",
              "    </tr>\n",
              "    <tr>\n",
              "      <th rowspan=\"4\" valign=\"top\">ece</th>\n",
              "      <th>2019</th>\n",
              "      <td>16</td>\n",
              "      <td>17</td>\n",
              "      <td>18</td>\n",
              "      <td>19</td>\n",
              "    </tr>\n",
              "    <tr>\n",
              "      <th>2020</th>\n",
              "      <td>20</td>\n",
              "      <td>21</td>\n",
              "      <td>22</td>\n",
              "      <td>23</td>\n",
              "    </tr>\n",
              "    <tr>\n",
              "      <th>2021</th>\n",
              "      <td>24</td>\n",
              "      <td>25</td>\n",
              "      <td>26</td>\n",
              "      <td>27</td>\n",
              "    </tr>\n",
              "    <tr>\n",
              "      <th>2022</th>\n",
              "      <td>28</td>\n",
              "      <td>29</td>\n",
              "      <td>30</td>\n",
              "      <td>31</td>\n",
              "    </tr>\n",
              "  </tbody>\n",
              "</table>\n",
              "</div>"
            ],
            "text/plain": [
              "          Lahore     Karachi    \n",
              "         avg_pkg std avg_pkg std\n",
              "cse 2019       0   1       2   3\n",
              "    2020       4   5       6   7\n",
              "    2021       8   9      10  11\n",
              "    2022      12  13      14  15\n",
              "ece 2019      16  17      18  19\n",
              "    2020      20  21      22  23\n",
              "    2021      24  25      26  27\n",
              "    2022      28  29      30  31"
            ]
          },
          "execution_count": 87,
          "metadata": {},
          "output_type": "execute_result"
        }
      ],
      "source": [
        "# Dataframe with multi index and columns\n",
        "\n",
        "num = np.arange(4*8).reshape(8,4)\n",
        "\n",
        "mul_df = pd.DataFrame(num,columns=col,index=ind)\n",
        "mul_df"
      ]
    },
    {
      "cell_type": "code",
      "execution_count": 88,
      "id": "yn39-CQySfaf",
      "metadata": {
        "colab": {
          "base_uri": "https://localhost:8080/"
        },
        "id": "yn39-CQySfaf",
        "outputId": "19bc59f8-7e27-45b4-8a5b-db9a6b7c4ad3"
      },
      "outputs": [
        {
          "data": {
            "text/plain": [
              "(8, 4)"
            ]
          },
          "execution_count": 88,
          "metadata": {},
          "output_type": "execute_result"
        }
      ],
      "source": [
        "# shape \n",
        "mul_df.shape"
      ]
    },
    {
      "attachments": {},
      "cell_type": "markdown",
      "id": "2FhY1HE1UX8L",
      "metadata": {
        "id": "2FhY1HE1UX8L"
      },
      "source": [
        "### What is the Dimmension of df ?"
      ]
    },
    {
      "cell_type": "code",
      "execution_count": 89,
      "id": "QHif7I9eSr-a",
      "metadata": {
        "colab": {
          "base_uri": "https://localhost:8080/"
        },
        "id": "QHif7I9eSr-a",
        "outputId": "8179a9ba-b3ac-484e-c6b2-8cf94f8e4925"
      },
      "outputs": [
        {
          "data": {
            "text/plain": [
              "10"
            ]
          },
          "execution_count": 89,
          "metadata": {},
          "output_type": "execute_result"
        }
      ],
      "source": [
        "# access 10\n",
        "mul_df[\"Karachi\"][\"avg_pkg\"][\"cse\"][2021]"
      ]
    },
    {
      "cell_type": "code",
      "execution_count": 90,
      "id": "39TSgYTnTTWL",
      "metadata": {
        "colab": {
          "base_uri": "https://localhost:8080/"
        },
        "id": "39TSgYTnTTWL",
        "outputId": "465547ab-e5ea-4843-b205-84a3415e6fa8"
      },
      "outputs": [
        {
          "data": {
            "text/plain": [
              "10"
            ]
          },
          "execution_count": 90,
          "metadata": {},
          "output_type": "execute_result"
        }
      ],
      "source": [
        "mul_df.loc[\"cse\"][\"Karachi\"][\"avg_pkg\"][2021]\n",
        "\n",
        "# we need the 4 no of information\n",
        "# So df is 4 Dim"
      ]
    },
    {
      "attachments": {},
      "cell_type": "markdown",
      "id": "JbugDHM2WYx1",
      "metadata": {
        "id": "JbugDHM2WYx1"
      },
      "source": [
        "## UnStacking"
      ]
    },
    {
      "cell_type": "code",
      "execution_count": 91,
      "id": "3GUxI_B5WfsU",
      "metadata": {
        "colab": {
          "base_uri": "https://localhost:8080/",
          "height": 300
        },
        "id": "3GUxI_B5WfsU",
        "outputId": "dc8c94a4-ce24-4323-c098-42f163986e5b"
      },
      "outputs": [
        {
          "data": {
            "text/html": [
              "<div>\n",
              "<style scoped>\n",
              "    .dataframe tbody tr th:only-of-type {\n",
              "        vertical-align: middle;\n",
              "    }\n",
              "\n",
              "    .dataframe tbody tr th {\n",
              "        vertical-align: top;\n",
              "    }\n",
              "\n",
              "    .dataframe thead th {\n",
              "        text-align: right;\n",
              "    }\n",
              "</style>\n",
              "<table border=\"1\" class=\"dataframe\">\n",
              "  <thead>\n",
              "    <tr style=\"text-align: right;\">\n",
              "      <th></th>\n",
              "      <th></th>\n",
              "      <th>avg_pkg</th>\n",
              "      <th>std</th>\n",
              "    </tr>\n",
              "  </thead>\n",
              "  <tbody>\n",
              "    <tr>\n",
              "      <th rowspan=\"4\" valign=\"top\">cse</th>\n",
              "      <th>2019</th>\n",
              "      <td>1</td>\n",
              "      <td>2</td>\n",
              "    </tr>\n",
              "    <tr>\n",
              "      <th>2020</th>\n",
              "      <td>3</td>\n",
              "      <td>4</td>\n",
              "    </tr>\n",
              "    <tr>\n",
              "      <th>2021</th>\n",
              "      <td>5</td>\n",
              "      <td>6</td>\n",
              "    </tr>\n",
              "    <tr>\n",
              "      <th>2022</th>\n",
              "      <td>7</td>\n",
              "      <td>8</td>\n",
              "    </tr>\n",
              "    <tr>\n",
              "      <th rowspan=\"4\" valign=\"top\">ece</th>\n",
              "      <th>2019</th>\n",
              "      <td>9</td>\n",
              "      <td>10</td>\n",
              "    </tr>\n",
              "    <tr>\n",
              "      <th>2020</th>\n",
              "      <td>11</td>\n",
              "      <td>12</td>\n",
              "    </tr>\n",
              "    <tr>\n",
              "      <th>2021</th>\n",
              "      <td>13</td>\n",
              "      <td>14</td>\n",
              "    </tr>\n",
              "    <tr>\n",
              "      <th>2022</th>\n",
              "      <td>15</td>\n",
              "      <td>16</td>\n",
              "    </tr>\n",
              "  </tbody>\n",
              "</table>\n",
              "</div>"
            ],
            "text/plain": [
              "          avg_pkg  std\n",
              "cse 2019        1    2\n",
              "    2020        3    4\n",
              "    2021        5    6\n",
              "    2022        7    8\n",
              "ece 2019        9   10\n",
              "    2020       11   12\n",
              "    2021       13   14\n",
              "    2022       15   16"
            ]
          },
          "execution_count": 91,
          "metadata": {},
          "output_type": "execute_result"
        }
      ],
      "source": [
        " tst_1"
      ]
    },
    {
      "cell_type": "code",
      "execution_count": 92,
      "id": "tiqm9BhWZ254",
      "metadata": {
        "colab": {
          "base_uri": "https://localhost:8080/",
          "height": 143
        },
        "id": "tiqm9BhWZ254",
        "outputId": "13ee615b-1320-4b0c-c8d9-2e2bb0a7f49f"
      },
      "outputs": [
        {
          "data": {
            "text/html": [
              "<div>\n",
              "<style scoped>\n",
              "    .dataframe tbody tr th:only-of-type {\n",
              "        vertical-align: middle;\n",
              "    }\n",
              "\n",
              "    .dataframe tbody tr th {\n",
              "        vertical-align: top;\n",
              "    }\n",
              "\n",
              "    .dataframe thead tr th {\n",
              "        text-align: left;\n",
              "    }\n",
              "</style>\n",
              "<table border=\"1\" class=\"dataframe\">\n",
              "  <thead>\n",
              "    <tr>\n",
              "      <th></th>\n",
              "      <th colspan=\"4\" halign=\"left\">avg_pkg</th>\n",
              "      <th colspan=\"4\" halign=\"left\">std</th>\n",
              "    </tr>\n",
              "    <tr>\n",
              "      <th></th>\n",
              "      <th>2019</th>\n",
              "      <th>2020</th>\n",
              "      <th>2021</th>\n",
              "      <th>2022</th>\n",
              "      <th>2019</th>\n",
              "      <th>2020</th>\n",
              "      <th>2021</th>\n",
              "      <th>2022</th>\n",
              "    </tr>\n",
              "  </thead>\n",
              "  <tbody>\n",
              "    <tr>\n",
              "      <th>cse</th>\n",
              "      <td>1</td>\n",
              "      <td>3</td>\n",
              "      <td>5</td>\n",
              "      <td>7</td>\n",
              "      <td>2</td>\n",
              "      <td>4</td>\n",
              "      <td>6</td>\n",
              "      <td>8</td>\n",
              "    </tr>\n",
              "    <tr>\n",
              "      <th>ece</th>\n",
              "      <td>9</td>\n",
              "      <td>11</td>\n",
              "      <td>13</td>\n",
              "      <td>15</td>\n",
              "      <td>10</td>\n",
              "      <td>12</td>\n",
              "      <td>14</td>\n",
              "      <td>16</td>\n",
              "    </tr>\n",
              "  </tbody>\n",
              "</table>\n",
              "</div>"
            ],
            "text/plain": [
              "    avg_pkg                 std               \n",
              "       2019 2020 2021 2022 2019 2020 2021 2022\n",
              "cse       1    3    5    7    2    4    6    8\n",
              "ece       9   11   13   15   10   12   14   16"
            ]
          },
          "execution_count": 92,
          "metadata": {},
          "output_type": "execute_result"
        }
      ],
      "source": [
        "# unstack get the level 1 series and add in column (multi column)\n",
        "tst_1.unstack()"
      ]
    },
    {
      "cell_type": "code",
      "execution_count": 93,
      "id": "YL0KjSNxaVjD",
      "metadata": {
        "colab": {
          "base_uri": "https://localhost:8080/"
        },
        "id": "YL0KjSNxaVjD",
        "outputId": "1d8dbb64-7734-40cf-874f-a1622235c20d"
      },
      "outputs": [
        {
          "data": {
            "text/plain": [
              "avg_pkg  2019  cse     1\n",
              "               ece     9\n",
              "         2020  cse     3\n",
              "               ece    11\n",
              "         2021  cse     5\n",
              "               ece    13\n",
              "         2022  cse     7\n",
              "               ece    15\n",
              "std      2019  cse     2\n",
              "               ece    10\n",
              "         2020  cse     4\n",
              "               ece    12\n",
              "         2021  cse     6\n",
              "               ece    14\n",
              "         2022  cse     8\n",
              "               ece    16\n",
              "dtype: int64"
            ]
          },
          "execution_count": 93,
          "metadata": {},
          "output_type": "execute_result"
        }
      ],
      "source": [
        "# now cse , ece add in column\n",
        "tst_1.unstack().unstack()"
      ]
    },
    {
      "attachments": {},
      "cell_type": "markdown",
      "id": "0e9200be",
      "metadata": {},
      "source": [
        "## Stacking"
      ]
    },
    {
      "cell_type": "code",
      "execution_count": 94,
      "id": "ceb3cbfd",
      "metadata": {},
      "outputs": [
        {
          "data": {
            "text/html": [
              "<div>\n",
              "<style scoped>\n",
              "    .dataframe tbody tr th:only-of-type {\n",
              "        vertical-align: middle;\n",
              "    }\n",
              "\n",
              "    .dataframe tbody tr th {\n",
              "        vertical-align: top;\n",
              "    }\n",
              "\n",
              "    .dataframe thead th {\n",
              "        text-align: right;\n",
              "    }\n",
              "</style>\n",
              "<table border=\"1\" class=\"dataframe\">\n",
              "  <thead>\n",
              "    <tr style=\"text-align: right;\">\n",
              "      <th></th>\n",
              "      <th></th>\n",
              "      <th>avg_pkg</th>\n",
              "      <th>std</th>\n",
              "    </tr>\n",
              "  </thead>\n",
              "  <tbody>\n",
              "    <tr>\n",
              "      <th rowspan=\"4\" valign=\"top\">cse</th>\n",
              "      <th>2019</th>\n",
              "      <td>1</td>\n",
              "      <td>2</td>\n",
              "    </tr>\n",
              "    <tr>\n",
              "      <th>2020</th>\n",
              "      <td>3</td>\n",
              "      <td>4</td>\n",
              "    </tr>\n",
              "    <tr>\n",
              "      <th>2021</th>\n",
              "      <td>5</td>\n",
              "      <td>6</td>\n",
              "    </tr>\n",
              "    <tr>\n",
              "      <th>2022</th>\n",
              "      <td>7</td>\n",
              "      <td>8</td>\n",
              "    </tr>\n",
              "    <tr>\n",
              "      <th rowspan=\"4\" valign=\"top\">ece</th>\n",
              "      <th>2019</th>\n",
              "      <td>9</td>\n",
              "      <td>10</td>\n",
              "    </tr>\n",
              "    <tr>\n",
              "      <th>2020</th>\n",
              "      <td>11</td>\n",
              "      <td>12</td>\n",
              "    </tr>\n",
              "    <tr>\n",
              "      <th>2021</th>\n",
              "      <td>13</td>\n",
              "      <td>14</td>\n",
              "    </tr>\n",
              "    <tr>\n",
              "      <th>2022</th>\n",
              "      <td>15</td>\n",
              "      <td>16</td>\n",
              "    </tr>\n",
              "  </tbody>\n",
              "</table>\n",
              "</div>"
            ],
            "text/plain": [
              "          avg_pkg  std\n",
              "cse 2019        1    2\n",
              "    2020        3    4\n",
              "    2021        5    6\n",
              "    2022        7    8\n",
              "ece 2019        9   10\n",
              "    2020       11   12\n",
              "    2021       13   14\n",
              "    2022       15   16"
            ]
          },
          "execution_count": 94,
          "metadata": {},
          "output_type": "execute_result"
        }
      ],
      "source": [
        "tst_1"
      ]
    },
    {
      "cell_type": "code",
      "execution_count": 95,
      "id": "d811556c",
      "metadata": {},
      "outputs": [
        {
          "data": {
            "text/html": [
              "<div>\n",
              "<style scoped>\n",
              "    .dataframe tbody tr th:only-of-type {\n",
              "        vertical-align: middle;\n",
              "    }\n",
              "\n",
              "    .dataframe tbody tr th {\n",
              "        vertical-align: top;\n",
              "    }\n",
              "\n",
              "    .dataframe thead tr th {\n",
              "        text-align: left;\n",
              "    }\n",
              "</style>\n",
              "<table border=\"1\" class=\"dataframe\">\n",
              "  <thead>\n",
              "    <tr>\n",
              "      <th></th>\n",
              "      <th colspan=\"4\" halign=\"left\">avg_pkg</th>\n",
              "      <th colspan=\"4\" halign=\"left\">std</th>\n",
              "    </tr>\n",
              "    <tr>\n",
              "      <th></th>\n",
              "      <th>2019</th>\n",
              "      <th>2020</th>\n",
              "      <th>2021</th>\n",
              "      <th>2022</th>\n",
              "      <th>2019</th>\n",
              "      <th>2020</th>\n",
              "      <th>2021</th>\n",
              "      <th>2022</th>\n",
              "    </tr>\n",
              "  </thead>\n",
              "  <tbody>\n",
              "    <tr>\n",
              "      <th>cse</th>\n",
              "      <td>1</td>\n",
              "      <td>3</td>\n",
              "      <td>5</td>\n",
              "      <td>7</td>\n",
              "      <td>2</td>\n",
              "      <td>4</td>\n",
              "      <td>6</td>\n",
              "      <td>8</td>\n",
              "    </tr>\n",
              "    <tr>\n",
              "      <th>ece</th>\n",
              "      <td>9</td>\n",
              "      <td>11</td>\n",
              "      <td>13</td>\n",
              "      <td>15</td>\n",
              "      <td>10</td>\n",
              "      <td>12</td>\n",
              "      <td>14</td>\n",
              "      <td>16</td>\n",
              "    </tr>\n",
              "  </tbody>\n",
              "</table>\n",
              "</div>"
            ],
            "text/plain": [
              "    avg_pkg                 std               \n",
              "       2019 2020 2021 2022 2019 2020 2021 2022\n",
              "cse       1    3    5    7    2    4    6    8\n",
              "ece       9   11   13   15   10   12   14   16"
            ]
          },
          "execution_count": 95,
          "metadata": {},
          "output_type": "execute_result"
        }
      ],
      "source": [
        "tst_1.unstack()"
      ]
    },
    {
      "cell_type": "code",
      "execution_count": 96,
      "id": "c7a9eb4c",
      "metadata": {},
      "outputs": [
        {
          "data": {
            "text/html": [
              "<div>\n",
              "<style scoped>\n",
              "    .dataframe tbody tr th:only-of-type {\n",
              "        vertical-align: middle;\n",
              "    }\n",
              "\n",
              "    .dataframe tbody tr th {\n",
              "        vertical-align: top;\n",
              "    }\n",
              "\n",
              "    .dataframe thead th {\n",
              "        text-align: right;\n",
              "    }\n",
              "</style>\n",
              "<table border=\"1\" class=\"dataframe\">\n",
              "  <thead>\n",
              "    <tr style=\"text-align: right;\">\n",
              "      <th></th>\n",
              "      <th></th>\n",
              "      <th>avg_pkg</th>\n",
              "      <th>std</th>\n",
              "    </tr>\n",
              "  </thead>\n",
              "  <tbody>\n",
              "    <tr>\n",
              "      <th rowspan=\"4\" valign=\"top\">cse</th>\n",
              "      <th>2019</th>\n",
              "      <td>1</td>\n",
              "      <td>2</td>\n",
              "    </tr>\n",
              "    <tr>\n",
              "      <th>2020</th>\n",
              "      <td>3</td>\n",
              "      <td>4</td>\n",
              "    </tr>\n",
              "    <tr>\n",
              "      <th>2021</th>\n",
              "      <td>5</td>\n",
              "      <td>6</td>\n",
              "    </tr>\n",
              "    <tr>\n",
              "      <th>2022</th>\n",
              "      <td>7</td>\n",
              "      <td>8</td>\n",
              "    </tr>\n",
              "    <tr>\n",
              "      <th rowspan=\"4\" valign=\"top\">ece</th>\n",
              "      <th>2019</th>\n",
              "      <td>9</td>\n",
              "      <td>10</td>\n",
              "    </tr>\n",
              "    <tr>\n",
              "      <th>2020</th>\n",
              "      <td>11</td>\n",
              "      <td>12</td>\n",
              "    </tr>\n",
              "    <tr>\n",
              "      <th>2021</th>\n",
              "      <td>13</td>\n",
              "      <td>14</td>\n",
              "    </tr>\n",
              "    <tr>\n",
              "      <th>2022</th>\n",
              "      <td>15</td>\n",
              "      <td>16</td>\n",
              "    </tr>\n",
              "  </tbody>\n",
              "</table>\n",
              "</div>"
            ],
            "text/plain": [
              "          avg_pkg  std\n",
              "cse 2019        1    2\n",
              "    2020        3    4\n",
              "    2021        5    6\n",
              "    2022        7    8\n",
              "ece 2019        9   10\n",
              "    2020       11   12\n",
              "    2021       13   14\n",
              "    2022       15   16"
            ]
          },
          "execution_count": 96,
          "metadata": {},
          "output_type": "execute_result"
        }
      ],
      "source": [
        "# Unstack get the insider row and add in the column\n",
        "# So stack get the insider column add in the rows\n",
        "\n",
        "tst_1.unstack().stack()\n",
        "# year add in rows"
      ]
    },
    {
      "cell_type": "code",
      "execution_count": 97,
      "id": "3a04d9a3",
      "metadata": {},
      "outputs": [
        {
          "data": {
            "text/plain": [
              "cse  2019  avg_pkg     1\n",
              "           std         2\n",
              "     2020  avg_pkg     3\n",
              "           std         4\n",
              "     2021  avg_pkg     5\n",
              "           std         6\n",
              "     2022  avg_pkg     7\n",
              "           std         8\n",
              "ece  2019  avg_pkg     9\n",
              "           std        10\n",
              "     2020  avg_pkg    11\n",
              "           std        12\n",
              "     2021  avg_pkg    13\n",
              "           std        14\n",
              "     2022  avg_pkg    15\n",
              "           std        16\n",
              "dtype: int64"
            ]
          },
          "execution_count": 97,
          "metadata": {},
          "output_type": "execute_result"
        }
      ],
      "source": [
        "# now apply onces more stack\n",
        "# Here df have 2 columns avg_pkg , std\n",
        "# So when we apply stack then columns are add in rows\n",
        "\n",
        "tst_1.unstack().stack().stack()\n",
        "# now data is series"
      ]
    },
    {
      "attachments": {},
      "cell_type": "markdown",
      "id": "5b1858af",
      "metadata": {},
      "source": [
        "### Example 2 "
      ]
    },
    {
      "cell_type": "code",
      "execution_count": 98,
      "id": "80534dd6",
      "metadata": {},
      "outputs": [
        {
          "data": {
            "text/html": [
              "<div>\n",
              "<style scoped>\n",
              "    .dataframe tbody tr th:only-of-type {\n",
              "        vertical-align: middle;\n",
              "    }\n",
              "\n",
              "    .dataframe tbody tr th {\n",
              "        vertical-align: top;\n",
              "    }\n",
              "\n",
              "    .dataframe thead tr th {\n",
              "        text-align: left;\n",
              "    }\n",
              "</style>\n",
              "<table border=\"1\" class=\"dataframe\">\n",
              "  <thead>\n",
              "    <tr>\n",
              "      <th></th>\n",
              "      <th colspan=\"2\" halign=\"left\">Lahore</th>\n",
              "      <th colspan=\"2\" halign=\"left\">Karachi</th>\n",
              "    </tr>\n",
              "    <tr>\n",
              "      <th></th>\n",
              "      <th>avg_pkg</th>\n",
              "      <th>std</th>\n",
              "      <th>avg_pkg</th>\n",
              "      <th>std</th>\n",
              "    </tr>\n",
              "  </thead>\n",
              "  <tbody>\n",
              "    <tr>\n",
              "      <th>2019</th>\n",
              "      <td>1</td>\n",
              "      <td>2</td>\n",
              "      <td>0</td>\n",
              "      <td>0</td>\n",
              "    </tr>\n",
              "    <tr>\n",
              "      <th>2020</th>\n",
              "      <td>3</td>\n",
              "      <td>4</td>\n",
              "      <td>5</td>\n",
              "      <td>6</td>\n",
              "    </tr>\n",
              "    <tr>\n",
              "      <th>2021</th>\n",
              "      <td>8</td>\n",
              "      <td>6</td>\n",
              "      <td>5</td>\n",
              "      <td>8</td>\n",
              "    </tr>\n",
              "    <tr>\n",
              "      <th>2022</th>\n",
              "      <td>6</td>\n",
              "      <td>3</td>\n",
              "      <td>2</td>\n",
              "      <td>6</td>\n",
              "    </tr>\n",
              "  </tbody>\n",
              "</table>\n",
              "</div>"
            ],
            "text/plain": [
              "      Lahore     Karachi    \n",
              "     avg_pkg std avg_pkg std\n",
              "2019       1   2       0   0\n",
              "2020       3   4       5   6\n",
              "2021       8   6       5   8\n",
              "2022       6   3       2   6"
            ]
          },
          "execution_count": 98,
          "metadata": {},
          "output_type": "execute_result"
        }
      ],
      "source": [
        "tst_2"
      ]
    },
    {
      "cell_type": "code",
      "execution_count": 99,
      "id": "1d72edce",
      "metadata": {},
      "outputs": [
        {
          "data": {
            "text/html": [
              "<div>\n",
              "<style scoped>\n",
              "    .dataframe tbody tr th:only-of-type {\n",
              "        vertical-align: middle;\n",
              "    }\n",
              "\n",
              "    .dataframe tbody tr th {\n",
              "        vertical-align: top;\n",
              "    }\n",
              "\n",
              "    .dataframe thead th {\n",
              "        text-align: right;\n",
              "    }\n",
              "</style>\n",
              "<table border=\"1\" class=\"dataframe\">\n",
              "  <thead>\n",
              "    <tr style=\"text-align: right;\">\n",
              "      <th></th>\n",
              "      <th></th>\n",
              "      <th>Karachi</th>\n",
              "      <th>Lahore</th>\n",
              "    </tr>\n",
              "  </thead>\n",
              "  <tbody>\n",
              "    <tr>\n",
              "      <th rowspan=\"2\" valign=\"top\">2019</th>\n",
              "      <th>avg_pkg</th>\n",
              "      <td>0</td>\n",
              "      <td>1</td>\n",
              "    </tr>\n",
              "    <tr>\n",
              "      <th>std</th>\n",
              "      <td>0</td>\n",
              "      <td>2</td>\n",
              "    </tr>\n",
              "    <tr>\n",
              "      <th rowspan=\"2\" valign=\"top\">2020</th>\n",
              "      <th>avg_pkg</th>\n",
              "      <td>5</td>\n",
              "      <td>3</td>\n",
              "    </tr>\n",
              "    <tr>\n",
              "      <th>std</th>\n",
              "      <td>6</td>\n",
              "      <td>4</td>\n",
              "    </tr>\n",
              "    <tr>\n",
              "      <th rowspan=\"2\" valign=\"top\">2021</th>\n",
              "      <th>avg_pkg</th>\n",
              "      <td>5</td>\n",
              "      <td>8</td>\n",
              "    </tr>\n",
              "    <tr>\n",
              "      <th>std</th>\n",
              "      <td>8</td>\n",
              "      <td>6</td>\n",
              "    </tr>\n",
              "    <tr>\n",
              "      <th rowspan=\"2\" valign=\"top\">2022</th>\n",
              "      <th>avg_pkg</th>\n",
              "      <td>2</td>\n",
              "      <td>6</td>\n",
              "    </tr>\n",
              "    <tr>\n",
              "      <th>std</th>\n",
              "      <td>6</td>\n",
              "      <td>3</td>\n",
              "    </tr>\n",
              "  </tbody>\n",
              "</table>\n",
              "</div>"
            ],
            "text/plain": [
              "              Karachi  Lahore\n",
              "2019 avg_pkg        0       1\n",
              "     std            0       2\n",
              "2020 avg_pkg        5       3\n",
              "     std            6       4\n",
              "2021 avg_pkg        5       8\n",
              "     std            8       6\n",
              "2022 avg_pkg        2       6\n",
              "     std            6       3"
            ]
          },
          "execution_count": 99,
          "metadata": {},
          "output_type": "execute_result"
        }
      ],
      "source": [
        "# avg_pkg std, avg_pkg, std add in row\n",
        "\n",
        "tst_2.stack()"
      ]
    },
    {
      "cell_type": "code",
      "execution_count": 100,
      "id": "9bdedbab",
      "metadata": {},
      "outputs": [
        {
          "data": {
            "text/plain": [
              "2019  avg_pkg  Karachi    0\n",
              "               Lahore     1\n",
              "      std      Karachi    0\n",
              "               Lahore     2\n",
              "2020  avg_pkg  Karachi    5\n",
              "               Lahore     3\n",
              "      std      Karachi    6\n",
              "               Lahore     4\n",
              "2021  avg_pkg  Karachi    5\n",
              "               Lahore     8\n",
              "      std      Karachi    8\n",
              "               Lahore     6\n",
              "2022  avg_pkg  Karachi    2\n",
              "               Lahore     6\n",
              "      std      Karachi    6\n",
              "               Lahore     3\n",
              "dtype: int64"
            ]
          },
          "execution_count": 100,
          "metadata": {},
          "output_type": "execute_result"
        }
      ],
      "source": [
        "# now Karachi , Lahore also add in row\n",
        "tst_2.stack().stack()"
      ]
    },
    {
      "cell_type": "code",
      "execution_count": 101,
      "id": "691d865c",
      "metadata": {},
      "outputs": [
        {
          "data": {
            "text/html": [
              "<div>\n",
              "<style scoped>\n",
              "    .dataframe tbody tr th:only-of-type {\n",
              "        vertical-align: middle;\n",
              "    }\n",
              "\n",
              "    .dataframe tbody tr th {\n",
              "        vertical-align: top;\n",
              "    }\n",
              "\n",
              "    .dataframe thead th {\n",
              "        text-align: right;\n",
              "    }\n",
              "</style>\n",
              "<table border=\"1\" class=\"dataframe\">\n",
              "  <thead>\n",
              "    <tr style=\"text-align: right;\">\n",
              "      <th></th>\n",
              "      <th></th>\n",
              "      <th>Karachi</th>\n",
              "      <th>Lahore</th>\n",
              "    </tr>\n",
              "  </thead>\n",
              "  <tbody>\n",
              "    <tr>\n",
              "      <th rowspan=\"2\" valign=\"top\">2019</th>\n",
              "      <th>avg_pkg</th>\n",
              "      <td>0</td>\n",
              "      <td>1</td>\n",
              "    </tr>\n",
              "    <tr>\n",
              "      <th>std</th>\n",
              "      <td>0</td>\n",
              "      <td>2</td>\n",
              "    </tr>\n",
              "    <tr>\n",
              "      <th rowspan=\"2\" valign=\"top\">2020</th>\n",
              "      <th>avg_pkg</th>\n",
              "      <td>5</td>\n",
              "      <td>3</td>\n",
              "    </tr>\n",
              "    <tr>\n",
              "      <th>std</th>\n",
              "      <td>6</td>\n",
              "      <td>4</td>\n",
              "    </tr>\n",
              "    <tr>\n",
              "      <th rowspan=\"2\" valign=\"top\">2021</th>\n",
              "      <th>avg_pkg</th>\n",
              "      <td>5</td>\n",
              "      <td>8</td>\n",
              "    </tr>\n",
              "    <tr>\n",
              "      <th>std</th>\n",
              "      <td>8</td>\n",
              "      <td>6</td>\n",
              "    </tr>\n",
              "    <tr>\n",
              "      <th rowspan=\"2\" valign=\"top\">2022</th>\n",
              "      <th>avg_pkg</th>\n",
              "      <td>2</td>\n",
              "      <td>6</td>\n",
              "    </tr>\n",
              "    <tr>\n",
              "      <th>std</th>\n",
              "      <td>6</td>\n",
              "      <td>3</td>\n",
              "    </tr>\n",
              "  </tbody>\n",
              "</table>\n",
              "</div>"
            ],
            "text/plain": [
              "              Karachi  Lahore\n",
              "2019 avg_pkg        0       1\n",
              "     std            0       2\n",
              "2020 avg_pkg        5       3\n",
              "     std            6       4\n",
              "2021 avg_pkg        5       8\n",
              "     std            8       6\n",
              "2022 avg_pkg        2       6\n",
              "     std            6       3"
            ]
          },
          "execution_count": 101,
          "metadata": {},
          "output_type": "execute_result"
        }
      ],
      "source": [
        "# So now data is series \n",
        "# what happend if we apply on unstack()\n",
        "\n",
        "# can we move on 1 step back ?\n",
        "tst_2.stack().stack().unstack()"
      ]
    },
    {
      "cell_type": "code",
      "execution_count": 102,
      "id": "8a6bc928",
      "metadata": {},
      "outputs": [
        {
          "data": {
            "text/html": [
              "<div>\n",
              "<style scoped>\n",
              "    .dataframe tbody tr th:only-of-type {\n",
              "        vertical-align: middle;\n",
              "    }\n",
              "\n",
              "    .dataframe tbody tr th {\n",
              "        vertical-align: top;\n",
              "    }\n",
              "\n",
              "    .dataframe thead tr th {\n",
              "        text-align: left;\n",
              "    }\n",
              "</style>\n",
              "<table border=\"1\" class=\"dataframe\">\n",
              "  <thead>\n",
              "    <tr>\n",
              "      <th></th>\n",
              "      <th colspan=\"2\" halign=\"left\">Karachi</th>\n",
              "      <th colspan=\"2\" halign=\"left\">Lahore</th>\n",
              "    </tr>\n",
              "    <tr>\n",
              "      <th></th>\n",
              "      <th>avg_pkg</th>\n",
              "      <th>std</th>\n",
              "      <th>avg_pkg</th>\n",
              "      <th>std</th>\n",
              "    </tr>\n",
              "  </thead>\n",
              "  <tbody>\n",
              "    <tr>\n",
              "      <th>2019</th>\n",
              "      <td>0</td>\n",
              "      <td>0</td>\n",
              "      <td>1</td>\n",
              "      <td>2</td>\n",
              "    </tr>\n",
              "    <tr>\n",
              "      <th>2020</th>\n",
              "      <td>5</td>\n",
              "      <td>6</td>\n",
              "      <td>3</td>\n",
              "      <td>4</td>\n",
              "    </tr>\n",
              "    <tr>\n",
              "      <th>2021</th>\n",
              "      <td>5</td>\n",
              "      <td>8</td>\n",
              "      <td>8</td>\n",
              "      <td>6</td>\n",
              "    </tr>\n",
              "    <tr>\n",
              "      <th>2022</th>\n",
              "      <td>2</td>\n",
              "      <td>6</td>\n",
              "      <td>6</td>\n",
              "      <td>3</td>\n",
              "    </tr>\n",
              "  </tbody>\n",
              "</table>\n",
              "</div>"
            ],
            "text/plain": [
              "     Karachi      Lahore    \n",
              "     avg_pkg std avg_pkg std\n",
              "2019       0   0       1   2\n",
              "2020       5   6       3   4\n",
              "2021       5   8       8   6\n",
              "2022       2   6       6   3"
            ]
          },
          "execution_count": 102,
          "metadata": {},
          "output_type": "execute_result"
        }
      ],
      "source": [
        "# now if we apply unstack() one more time\n",
        "# can we move on real type df ?\n",
        "tst_2.stack().stack().unstack().unstack()"
      ]
    },
    {
      "cell_type": "code",
      "execution_count": 103,
      "id": "55ea86fc",
      "metadata": {},
      "outputs": [
        {
          "data": {
            "text/plain": [
              "Karachi  avg_pkg  2019    0\n",
              "                  2020    5\n",
              "                  2021    5\n",
              "                  2022    2\n",
              "         std      2019    0\n",
              "                  2020    6\n",
              "                  2021    8\n",
              "                  2022    6\n",
              "Lahore   avg_pkg  2019    1\n",
              "                  2020    3\n",
              "                  2021    8\n",
              "                  2022    6\n",
              "         std      2019    2\n",
              "                  2020    4\n",
              "                  2021    6\n",
              "                  2022    3\n",
              "dtype: int64"
            ]
          },
          "execution_count": 103,
          "metadata": {},
          "output_type": "execute_result"
        }
      ],
      "source": [
        "# now apply unstack() once more time\n",
        "# years move on columns\n",
        "tst_2.stack().stack().unstack().unstack().unstack()\n"
      ]
    },
    {
      "attachments": {},
      "cell_type": "markdown",
      "id": "a8d458d5",
      "metadata": {},
      "source": [
        "### Example on multi index,column df\n"
      ]
    },
    {
      "cell_type": "code",
      "execution_count": 104,
      "id": "c379c724",
      "metadata": {},
      "outputs": [
        {
          "data": {
            "text/html": [
              "<div>\n",
              "<style scoped>\n",
              "    .dataframe tbody tr th:only-of-type {\n",
              "        vertical-align: middle;\n",
              "    }\n",
              "\n",
              "    .dataframe tbody tr th {\n",
              "        vertical-align: top;\n",
              "    }\n",
              "\n",
              "    .dataframe thead tr th {\n",
              "        text-align: left;\n",
              "    }\n",
              "</style>\n",
              "<table border=\"1\" class=\"dataframe\">\n",
              "  <thead>\n",
              "    <tr>\n",
              "      <th></th>\n",
              "      <th></th>\n",
              "      <th colspan=\"2\" halign=\"left\">Lahore</th>\n",
              "      <th colspan=\"2\" halign=\"left\">Karachi</th>\n",
              "    </tr>\n",
              "    <tr>\n",
              "      <th></th>\n",
              "      <th></th>\n",
              "      <th>avg_pkg</th>\n",
              "      <th>std</th>\n",
              "      <th>avg_pkg</th>\n",
              "      <th>std</th>\n",
              "    </tr>\n",
              "  </thead>\n",
              "  <tbody>\n",
              "    <tr>\n",
              "      <th rowspan=\"4\" valign=\"top\">cse</th>\n",
              "      <th>2019</th>\n",
              "      <td>0</td>\n",
              "      <td>1</td>\n",
              "      <td>2</td>\n",
              "      <td>3</td>\n",
              "    </tr>\n",
              "    <tr>\n",
              "      <th>2020</th>\n",
              "      <td>4</td>\n",
              "      <td>5</td>\n",
              "      <td>6</td>\n",
              "      <td>7</td>\n",
              "    </tr>\n",
              "    <tr>\n",
              "      <th>2021</th>\n",
              "      <td>8</td>\n",
              "      <td>9</td>\n",
              "      <td>10</td>\n",
              "      <td>11</td>\n",
              "    </tr>\n",
              "    <tr>\n",
              "      <th>2022</th>\n",
              "      <td>12</td>\n",
              "      <td>13</td>\n",
              "      <td>14</td>\n",
              "      <td>15</td>\n",
              "    </tr>\n",
              "    <tr>\n",
              "      <th rowspan=\"4\" valign=\"top\">ece</th>\n",
              "      <th>2019</th>\n",
              "      <td>16</td>\n",
              "      <td>17</td>\n",
              "      <td>18</td>\n",
              "      <td>19</td>\n",
              "    </tr>\n",
              "    <tr>\n",
              "      <th>2020</th>\n",
              "      <td>20</td>\n",
              "      <td>21</td>\n",
              "      <td>22</td>\n",
              "      <td>23</td>\n",
              "    </tr>\n",
              "    <tr>\n",
              "      <th>2021</th>\n",
              "      <td>24</td>\n",
              "      <td>25</td>\n",
              "      <td>26</td>\n",
              "      <td>27</td>\n",
              "    </tr>\n",
              "    <tr>\n",
              "      <th>2022</th>\n",
              "      <td>28</td>\n",
              "      <td>29</td>\n",
              "      <td>30</td>\n",
              "      <td>31</td>\n",
              "    </tr>\n",
              "  </tbody>\n",
              "</table>\n",
              "</div>"
            ],
            "text/plain": [
              "          Lahore     Karachi    \n",
              "         avg_pkg std avg_pkg std\n",
              "cse 2019       0   1       2   3\n",
              "    2020       4   5       6   7\n",
              "    2021       8   9      10  11\n",
              "    2022      12  13      14  15\n",
              "ece 2019      16  17      18  19\n",
              "    2020      20  21      22  23\n",
              "    2021      24  25      26  27\n",
              "    2022      28  29      30  31"
            ]
          },
          "execution_count": 104,
          "metadata": {},
          "output_type": "execute_result"
        }
      ],
      "source": [
        "mul_df"
      ]
    },
    {
      "cell_type": "code",
      "execution_count": 105,
      "id": "bf7079a7",
      "metadata": {},
      "outputs": [
        {
          "data": {
            "text/html": [
              "<div>\n",
              "<style scoped>\n",
              "    .dataframe tbody tr th:only-of-type {\n",
              "        vertical-align: middle;\n",
              "    }\n",
              "\n",
              "    .dataframe tbody tr th {\n",
              "        vertical-align: top;\n",
              "    }\n",
              "\n",
              "    .dataframe thead th {\n",
              "        text-align: right;\n",
              "    }\n",
              "</style>\n",
              "<table border=\"1\" class=\"dataframe\">\n",
              "  <thead>\n",
              "    <tr style=\"text-align: right;\">\n",
              "      <th></th>\n",
              "      <th></th>\n",
              "      <th></th>\n",
              "      <th>Karachi</th>\n",
              "      <th>Lahore</th>\n",
              "    </tr>\n",
              "  </thead>\n",
              "  <tbody>\n",
              "    <tr>\n",
              "      <th rowspan=\"8\" valign=\"top\">cse</th>\n",
              "      <th rowspan=\"2\" valign=\"top\">2019</th>\n",
              "      <th>avg_pkg</th>\n",
              "      <td>2</td>\n",
              "      <td>0</td>\n",
              "    </tr>\n",
              "    <tr>\n",
              "      <th>std</th>\n",
              "      <td>3</td>\n",
              "      <td>1</td>\n",
              "    </tr>\n",
              "    <tr>\n",
              "      <th rowspan=\"2\" valign=\"top\">2020</th>\n",
              "      <th>avg_pkg</th>\n",
              "      <td>6</td>\n",
              "      <td>4</td>\n",
              "    </tr>\n",
              "    <tr>\n",
              "      <th>std</th>\n",
              "      <td>7</td>\n",
              "      <td>5</td>\n",
              "    </tr>\n",
              "    <tr>\n",
              "      <th rowspan=\"2\" valign=\"top\">2021</th>\n",
              "      <th>avg_pkg</th>\n",
              "      <td>10</td>\n",
              "      <td>8</td>\n",
              "    </tr>\n",
              "    <tr>\n",
              "      <th>std</th>\n",
              "      <td>11</td>\n",
              "      <td>9</td>\n",
              "    </tr>\n",
              "    <tr>\n",
              "      <th rowspan=\"2\" valign=\"top\">2022</th>\n",
              "      <th>avg_pkg</th>\n",
              "      <td>14</td>\n",
              "      <td>12</td>\n",
              "    </tr>\n",
              "    <tr>\n",
              "      <th>std</th>\n",
              "      <td>15</td>\n",
              "      <td>13</td>\n",
              "    </tr>\n",
              "    <tr>\n",
              "      <th rowspan=\"8\" valign=\"top\">ece</th>\n",
              "      <th rowspan=\"2\" valign=\"top\">2019</th>\n",
              "      <th>avg_pkg</th>\n",
              "      <td>18</td>\n",
              "      <td>16</td>\n",
              "    </tr>\n",
              "    <tr>\n",
              "      <th>std</th>\n",
              "      <td>19</td>\n",
              "      <td>17</td>\n",
              "    </tr>\n",
              "    <tr>\n",
              "      <th rowspan=\"2\" valign=\"top\">2020</th>\n",
              "      <th>avg_pkg</th>\n",
              "      <td>22</td>\n",
              "      <td>20</td>\n",
              "    </tr>\n",
              "    <tr>\n",
              "      <th>std</th>\n",
              "      <td>23</td>\n",
              "      <td>21</td>\n",
              "    </tr>\n",
              "    <tr>\n",
              "      <th rowspan=\"2\" valign=\"top\">2021</th>\n",
              "      <th>avg_pkg</th>\n",
              "      <td>26</td>\n",
              "      <td>24</td>\n",
              "    </tr>\n",
              "    <tr>\n",
              "      <th>std</th>\n",
              "      <td>27</td>\n",
              "      <td>25</td>\n",
              "    </tr>\n",
              "    <tr>\n",
              "      <th rowspan=\"2\" valign=\"top\">2022</th>\n",
              "      <th>avg_pkg</th>\n",
              "      <td>30</td>\n",
              "      <td>28</td>\n",
              "    </tr>\n",
              "    <tr>\n",
              "      <th>std</th>\n",
              "      <td>31</td>\n",
              "      <td>29</td>\n",
              "    </tr>\n",
              "  </tbody>\n",
              "</table>\n",
              "</div>"
            ],
            "text/plain": [
              "                  Karachi  Lahore\n",
              "cse 2019 avg_pkg        2       0\n",
              "         std            3       1\n",
              "    2020 avg_pkg        6       4\n",
              "         std            7       5\n",
              "    2021 avg_pkg       10       8\n",
              "         std           11       9\n",
              "    2022 avg_pkg       14      12\n",
              "         std           15      13\n",
              "ece 2019 avg_pkg       18      16\n",
              "         std           19      17\n",
              "    2020 avg_pkg       22      20\n",
              "         std           23      21\n",
              "    2021 avg_pkg       26      24\n",
              "         std           27      25\n",
              "    2022 avg_pkg       30      28\n",
              "         std           31      29"
            ]
          },
          "execution_count": 105,
          "metadata": {},
          "output_type": "execute_result"
        }
      ],
      "source": [
        "# avg_pkg std both add in row\n",
        "mul_df.stack()"
      ]
    },
    {
      "cell_type": "code",
      "execution_count": 106,
      "id": "05886b85",
      "metadata": {},
      "outputs": [
        {
          "data": {
            "text/plain": [
              "cse  2019  avg_pkg  Karachi     2\n",
              "                    Lahore      0\n",
              "           std      Karachi     3\n",
              "                    Lahore      1\n",
              "     2020  avg_pkg  Karachi     6\n",
              "                    Lahore      4\n",
              "           std      Karachi     7\n",
              "                    Lahore      5\n",
              "     2021  avg_pkg  Karachi    10\n",
              "                    Lahore      8\n",
              "           std      Karachi    11\n",
              "                    Lahore      9\n",
              "     2022  avg_pkg  Karachi    14\n",
              "                    Lahore     12\n",
              "           std      Karachi    15\n",
              "                    Lahore     13\n",
              "ece  2019  avg_pkg  Karachi    18\n",
              "                    Lahore     16\n",
              "           std      Karachi    19\n",
              "                    Lahore     17\n",
              "     2020  avg_pkg  Karachi    22\n",
              "                    Lahore     20\n",
              "           std      Karachi    23\n",
              "                    Lahore     21\n",
              "     2021  avg_pkg  Karachi    26\n",
              "                    Lahore     24\n",
              "           std      Karachi    27\n",
              "                    Lahore     25\n",
              "     2022  avg_pkg  Karachi    30\n",
              "                    Lahore     28\n",
              "           std      Karachi    31\n",
              "                    Lahore     29\n",
              "dtype: int64"
            ]
          },
          "execution_count": 106,
          "metadata": {},
          "output_type": "execute_result"
        }
      ],
      "source": [
        "## add Karachi lahore in the rows\n",
        "mul_df.stack().stack()"
      ]
    },
    {
      "cell_type": "code",
      "execution_count": 107,
      "id": "8bcd2cbe",
      "metadata": {},
      "outputs": [
        {
          "data": {
            "text/html": [
              "<div>\n",
              "<style scoped>\n",
              "    .dataframe tbody tr th:only-of-type {\n",
              "        vertical-align: middle;\n",
              "    }\n",
              "\n",
              "    .dataframe tbody tr th {\n",
              "        vertical-align: top;\n",
              "    }\n",
              "\n",
              "    .dataframe thead th {\n",
              "        text-align: right;\n",
              "    }\n",
              "</style>\n",
              "<table border=\"1\" class=\"dataframe\">\n",
              "  <thead>\n",
              "    <tr style=\"text-align: right;\">\n",
              "      <th></th>\n",
              "      <th></th>\n",
              "      <th></th>\n",
              "      <th>Karachi</th>\n",
              "      <th>Lahore</th>\n",
              "    </tr>\n",
              "  </thead>\n",
              "  <tbody>\n",
              "    <tr>\n",
              "      <th rowspan=\"8\" valign=\"top\">cse</th>\n",
              "      <th rowspan=\"2\" valign=\"top\">2019</th>\n",
              "      <th>avg_pkg</th>\n",
              "      <td>2</td>\n",
              "      <td>0</td>\n",
              "    </tr>\n",
              "    <tr>\n",
              "      <th>std</th>\n",
              "      <td>3</td>\n",
              "      <td>1</td>\n",
              "    </tr>\n",
              "    <tr>\n",
              "      <th rowspan=\"2\" valign=\"top\">2020</th>\n",
              "      <th>avg_pkg</th>\n",
              "      <td>6</td>\n",
              "      <td>4</td>\n",
              "    </tr>\n",
              "    <tr>\n",
              "      <th>std</th>\n",
              "      <td>7</td>\n",
              "      <td>5</td>\n",
              "    </tr>\n",
              "    <tr>\n",
              "      <th rowspan=\"2\" valign=\"top\">2021</th>\n",
              "      <th>avg_pkg</th>\n",
              "      <td>10</td>\n",
              "      <td>8</td>\n",
              "    </tr>\n",
              "    <tr>\n",
              "      <th>std</th>\n",
              "      <td>11</td>\n",
              "      <td>9</td>\n",
              "    </tr>\n",
              "    <tr>\n",
              "      <th rowspan=\"2\" valign=\"top\">2022</th>\n",
              "      <th>avg_pkg</th>\n",
              "      <td>14</td>\n",
              "      <td>12</td>\n",
              "    </tr>\n",
              "    <tr>\n",
              "      <th>std</th>\n",
              "      <td>15</td>\n",
              "      <td>13</td>\n",
              "    </tr>\n",
              "    <tr>\n",
              "      <th rowspan=\"8\" valign=\"top\">ece</th>\n",
              "      <th rowspan=\"2\" valign=\"top\">2019</th>\n",
              "      <th>avg_pkg</th>\n",
              "      <td>18</td>\n",
              "      <td>16</td>\n",
              "    </tr>\n",
              "    <tr>\n",
              "      <th>std</th>\n",
              "      <td>19</td>\n",
              "      <td>17</td>\n",
              "    </tr>\n",
              "    <tr>\n",
              "      <th rowspan=\"2\" valign=\"top\">2020</th>\n",
              "      <th>avg_pkg</th>\n",
              "      <td>22</td>\n",
              "      <td>20</td>\n",
              "    </tr>\n",
              "    <tr>\n",
              "      <th>std</th>\n",
              "      <td>23</td>\n",
              "      <td>21</td>\n",
              "    </tr>\n",
              "    <tr>\n",
              "      <th rowspan=\"2\" valign=\"top\">2021</th>\n",
              "      <th>avg_pkg</th>\n",
              "      <td>26</td>\n",
              "      <td>24</td>\n",
              "    </tr>\n",
              "    <tr>\n",
              "      <th>std</th>\n",
              "      <td>27</td>\n",
              "      <td>25</td>\n",
              "    </tr>\n",
              "    <tr>\n",
              "      <th rowspan=\"2\" valign=\"top\">2022</th>\n",
              "      <th>avg_pkg</th>\n",
              "      <td>30</td>\n",
              "      <td>28</td>\n",
              "    </tr>\n",
              "    <tr>\n",
              "      <th>std</th>\n",
              "      <td>31</td>\n",
              "      <td>29</td>\n",
              "    </tr>\n",
              "  </tbody>\n",
              "</table>\n",
              "</div>"
            ],
            "text/plain": [
              "                  Karachi  Lahore\n",
              "cse 2019 avg_pkg        2       0\n",
              "         std            3       1\n",
              "    2020 avg_pkg        6       4\n",
              "         std            7       5\n",
              "    2021 avg_pkg       10       8\n",
              "         std           11       9\n",
              "    2022 avg_pkg       14      12\n",
              "         std           15      13\n",
              "ece 2019 avg_pkg       18      16\n",
              "         std           19      17\n",
              "    2020 avg_pkg       22      20\n",
              "         std           23      21\n",
              "    2021 avg_pkg       26      24\n",
              "         std           27      25\n",
              "    2022 avg_pkg       30      28\n",
              "         std           31      29"
            ]
          },
          "execution_count": 107,
          "metadata": {},
          "output_type": "execute_result"
        }
      ],
      "source": [
        "# now move 1 step back\n",
        "mul_df.stack().stack().unstack()"
      ]
    },
    {
      "cell_type": "code",
      "execution_count": 108,
      "id": "f8396b92",
      "metadata": {},
      "outputs": [
        {
          "data": {
            "text/html": [
              "<div>\n",
              "<style scoped>\n",
              "    .dataframe tbody tr th:only-of-type {\n",
              "        vertical-align: middle;\n",
              "    }\n",
              "\n",
              "    .dataframe tbody tr th {\n",
              "        vertical-align: top;\n",
              "    }\n",
              "\n",
              "    .dataframe thead tr th {\n",
              "        text-align: left;\n",
              "    }\n",
              "</style>\n",
              "<table border=\"1\" class=\"dataframe\">\n",
              "  <thead>\n",
              "    <tr>\n",
              "      <th></th>\n",
              "      <th></th>\n",
              "      <th colspan=\"2\" halign=\"left\">Karachi</th>\n",
              "      <th colspan=\"2\" halign=\"left\">Lahore</th>\n",
              "    </tr>\n",
              "    <tr>\n",
              "      <th></th>\n",
              "      <th></th>\n",
              "      <th>avg_pkg</th>\n",
              "      <th>std</th>\n",
              "      <th>avg_pkg</th>\n",
              "      <th>std</th>\n",
              "    </tr>\n",
              "  </thead>\n",
              "  <tbody>\n",
              "    <tr>\n",
              "      <th rowspan=\"4\" valign=\"top\">cse</th>\n",
              "      <th>2019</th>\n",
              "      <td>2</td>\n",
              "      <td>3</td>\n",
              "      <td>0</td>\n",
              "      <td>1</td>\n",
              "    </tr>\n",
              "    <tr>\n",
              "      <th>2020</th>\n",
              "      <td>6</td>\n",
              "      <td>7</td>\n",
              "      <td>4</td>\n",
              "      <td>5</td>\n",
              "    </tr>\n",
              "    <tr>\n",
              "      <th>2021</th>\n",
              "      <td>10</td>\n",
              "      <td>11</td>\n",
              "      <td>8</td>\n",
              "      <td>9</td>\n",
              "    </tr>\n",
              "    <tr>\n",
              "      <th>2022</th>\n",
              "      <td>14</td>\n",
              "      <td>15</td>\n",
              "      <td>12</td>\n",
              "      <td>13</td>\n",
              "    </tr>\n",
              "    <tr>\n",
              "      <th rowspan=\"4\" valign=\"top\">ece</th>\n",
              "      <th>2019</th>\n",
              "      <td>18</td>\n",
              "      <td>19</td>\n",
              "      <td>16</td>\n",
              "      <td>17</td>\n",
              "    </tr>\n",
              "    <tr>\n",
              "      <th>2020</th>\n",
              "      <td>22</td>\n",
              "      <td>23</td>\n",
              "      <td>20</td>\n",
              "      <td>21</td>\n",
              "    </tr>\n",
              "    <tr>\n",
              "      <th>2021</th>\n",
              "      <td>26</td>\n",
              "      <td>27</td>\n",
              "      <td>24</td>\n",
              "      <td>25</td>\n",
              "    </tr>\n",
              "    <tr>\n",
              "      <th>2022</th>\n",
              "      <td>30</td>\n",
              "      <td>31</td>\n",
              "      <td>28</td>\n",
              "      <td>29</td>\n",
              "    </tr>\n",
              "  </tbody>\n",
              "</table>\n",
              "</div>"
            ],
            "text/plain": [
              "         Karachi      Lahore    \n",
              "         avg_pkg std avg_pkg std\n",
              "cse 2019       2   3       0   1\n",
              "    2020       6   7       4   5\n",
              "    2021      10  11       8   9\n",
              "    2022      14  15      12  13\n",
              "ece 2019      18  19      16  17\n",
              "    2020      22  23      20  21\n",
              "    2021      26  27      24  25\n",
              "    2022      30  31      28  29"
            ]
          },
          "execution_count": 108,
          "metadata": {},
          "output_type": "execute_result"
        }
      ],
      "source": [
        "# once more step back\n",
        "mul_df.stack().stack().unstack().unstack()"
      ]
    },
    {
      "cell_type": "code",
      "execution_count": 109,
      "id": "6d8cfd4e",
      "metadata": {},
      "outputs": [
        {
          "data": {
            "text/html": [
              "<div>\n",
              "<style scoped>\n",
              "    .dataframe tbody tr th:only-of-type {\n",
              "        vertical-align: middle;\n",
              "    }\n",
              "\n",
              "    .dataframe tbody tr th {\n",
              "        vertical-align: top;\n",
              "    }\n",
              "\n",
              "    .dataframe thead tr th {\n",
              "        text-align: left;\n",
              "    }\n",
              "</style>\n",
              "<table border=\"1\" class=\"dataframe\">\n",
              "  <thead>\n",
              "    <tr>\n",
              "      <th></th>\n",
              "      <th colspan=\"8\" halign=\"left\">Karachi</th>\n",
              "      <th colspan=\"8\" halign=\"left\">Lahore</th>\n",
              "    </tr>\n",
              "    <tr>\n",
              "      <th></th>\n",
              "      <th colspan=\"4\" halign=\"left\">avg_pkg</th>\n",
              "      <th colspan=\"4\" halign=\"left\">std</th>\n",
              "      <th colspan=\"4\" halign=\"left\">avg_pkg</th>\n",
              "      <th colspan=\"4\" halign=\"left\">std</th>\n",
              "    </tr>\n",
              "    <tr>\n",
              "      <th></th>\n",
              "      <th>2019</th>\n",
              "      <th>2020</th>\n",
              "      <th>2021</th>\n",
              "      <th>2022</th>\n",
              "      <th>2019</th>\n",
              "      <th>2020</th>\n",
              "      <th>2021</th>\n",
              "      <th>2022</th>\n",
              "      <th>2019</th>\n",
              "      <th>2020</th>\n",
              "      <th>2021</th>\n",
              "      <th>2022</th>\n",
              "      <th>2019</th>\n",
              "      <th>2020</th>\n",
              "      <th>2021</th>\n",
              "      <th>2022</th>\n",
              "    </tr>\n",
              "  </thead>\n",
              "  <tbody>\n",
              "    <tr>\n",
              "      <th>cse</th>\n",
              "      <td>2</td>\n",
              "      <td>6</td>\n",
              "      <td>10</td>\n",
              "      <td>14</td>\n",
              "      <td>3</td>\n",
              "      <td>7</td>\n",
              "      <td>11</td>\n",
              "      <td>15</td>\n",
              "      <td>0</td>\n",
              "      <td>4</td>\n",
              "      <td>8</td>\n",
              "      <td>12</td>\n",
              "      <td>1</td>\n",
              "      <td>5</td>\n",
              "      <td>9</td>\n",
              "      <td>13</td>\n",
              "    </tr>\n",
              "    <tr>\n",
              "      <th>ece</th>\n",
              "      <td>18</td>\n",
              "      <td>22</td>\n",
              "      <td>26</td>\n",
              "      <td>30</td>\n",
              "      <td>19</td>\n",
              "      <td>23</td>\n",
              "      <td>27</td>\n",
              "      <td>31</td>\n",
              "      <td>16</td>\n",
              "      <td>20</td>\n",
              "      <td>24</td>\n",
              "      <td>28</td>\n",
              "      <td>17</td>\n",
              "      <td>21</td>\n",
              "      <td>25</td>\n",
              "      <td>29</td>\n",
              "    </tr>\n",
              "  </tbody>\n",
              "</table>\n",
              "</div>"
            ],
            "text/plain": [
              "    Karachi                                     Lahore                      \\\n",
              "    avg_pkg                 std                avg_pkg                 std   \n",
              "       2019 2020 2021 2022 2019 2020 2021 2022    2019 2020 2021 2022 2019   \n",
              "cse       2    6   10   14    3    7   11   15       0    4    8   12    1   \n",
              "ece      18   22   26   30   19   23   27   31      16   20   24   28   17   \n",
              "\n",
              "                    \n",
              "                    \n",
              "    2020 2021 2022  \n",
              "cse    5    9   13  \n",
              "ece   21   25   29  "
            ]
          },
          "execution_count": 109,
          "metadata": {},
          "output_type": "execute_result"
        }
      ],
      "source": [
        "# now add year in column\n",
        "mul_df.stack().stack().unstack().unstack().unstack()"
      ]
    },
    {
      "cell_type": "code",
      "execution_count": 110,
      "id": "a62c6da5",
      "metadata": {},
      "outputs": [
        {
          "data": {
            "text/plain": [
              "Karachi  avg_pkg  2019  cse     2\n",
              "                        ece    18\n",
              "                  2020  cse     6\n",
              "                        ece    22\n",
              "                  2021  cse    10\n",
              "                        ece    26\n",
              "                  2022  cse    14\n",
              "                        ece    30\n",
              "         std      2019  cse     3\n",
              "                        ece    19\n",
              "                  2020  cse     7\n",
              "                        ece    23\n",
              "                  2021  cse    11\n",
              "                        ece    27\n",
              "                  2022  cse    15\n",
              "                        ece    31\n",
              "Lahore   avg_pkg  2019  cse     0\n",
              "                        ece    16\n",
              "                  2020  cse     4\n",
              "                        ece    20\n",
              "                  2021  cse     8\n",
              "                        ece    24\n",
              "                  2022  cse    12\n",
              "                        ece    28\n",
              "         std      2019  cse     1\n",
              "                        ece    17\n",
              "                  2020  cse     5\n",
              "                        ece    21\n",
              "                  2021  cse     9\n",
              "                        ece    25\n",
              "                  2022  cse    13\n",
              "                        ece    29\n",
              "dtype: int64"
            ]
          },
          "execution_count": 110,
          "metadata": {},
          "output_type": "execute_result"
        }
      ],
      "source": [
        "# now add cse ece in column\n",
        "mul_df.stack().stack().unstack().unstack().unstack().unstack()"
      ]
    },
    {
      "cell_type": "code",
      "execution_count": 111,
      "id": "cfbe6486",
      "metadata": {},
      "outputs": [
        {
          "data": {
            "text/plain": [
              "Karachi  avg_pkg  2019  cse     2\n",
              "                        ece    18\n",
              "                  2020  cse     6\n",
              "                        ece    22\n",
              "                  2021  cse    10\n",
              "                        ece    26\n",
              "                  2022  cse    14\n",
              "                        ece    30\n",
              "         std      2019  cse     3\n",
              "                        ece    19\n",
              "                  2020  cse     7\n",
              "                        ece    23\n",
              "                  2021  cse    11\n",
              "                        ece    27\n",
              "                  2022  cse    15\n",
              "                        ece    31\n",
              "Lahore   avg_pkg  2019  cse     0\n",
              "                        ece    16\n",
              "                  2020  cse     4\n",
              "                        ece    20\n",
              "                  2021  cse     8\n",
              "                        ece    24\n",
              "                  2022  cse    12\n",
              "                        ece    28\n",
              "         std      2019  cse     1\n",
              "                        ece    17\n",
              "                  2020  cse     5\n",
              "                        ece    21\n",
              "                  2021  cse     9\n",
              "                        ece    25\n",
              "                  2022  cse    13\n",
              "                        ece    29\n",
              "dtype: int64"
            ]
          },
          "execution_count": 111,
          "metadata": {},
          "output_type": "execute_result"
        }
      ],
      "source": [
        "temp = mul_df.stack().stack().unstack().unstack().unstack().unstack()\n",
        "\n",
        "# store previous data in temp\n",
        "\n",
        "temp"
      ]
    },
    {
      "cell_type": "code",
      "execution_count": 112,
      "id": "a5257d68",
      "metadata": {},
      "outputs": [
        {
          "ename": "AttributeError",
          "evalue": "'Series' object has no attribute 'stack'",
          "output_type": "error",
          "traceback": [
            "\u001b[0;31m---------------------------------------------------------------------------\u001b[0m",
            "\u001b[0;31mAttributeError\u001b[0m                            Traceback (most recent call last)",
            "\u001b[0;32m/tmp/ipykernel_17413/3886047033.py\u001b[0m in \u001b[0;36m?\u001b[0;34m()\u001b[0m\n\u001b[1;32m      4\u001b[0m \u001b[0;31m# So stack get the insider column add in the rows\u001b[0m\u001b[0;34m\u001b[0m\u001b[0;34m\u001b[0m\u001b[0m\n\u001b[1;32m      5\u001b[0m \u001b[0;34m\u001b[0m\u001b[0m\n\u001b[1;32m      6\u001b[0m \u001b[0;31m# so when i apply stack() get the error ?\u001b[0m\u001b[0;34m\u001b[0m\u001b[0;34m\u001b[0m\u001b[0m\n\u001b[1;32m      7\u001b[0m \u001b[0;31m# BEcause we have not a column\u001b[0m\u001b[0;34m\u001b[0m\u001b[0;34m\u001b[0m\u001b[0m\n\u001b[0;32m----> 8\u001b[0;31m \u001b[0mtemp\u001b[0m\u001b[0;34m.\u001b[0m\u001b[0mstack\u001b[0m\u001b[0;34m(\u001b[0m\u001b[0;34m)\u001b[0m\u001b[0;34m\u001b[0m\u001b[0;34m\u001b[0m\u001b[0m\n\u001b[0m",
            "\u001b[0;32m~/python/venvs/GPU/lib/python3.10/site-packages/pandas/core/generic.py\u001b[0m in \u001b[0;36m?\u001b[0;34m(self, name)\u001b[0m\n\u001b[1;32m   5985\u001b[0m             \u001b[0;32mand\u001b[0m \u001b[0mname\u001b[0m \u001b[0;32mnot\u001b[0m \u001b[0;32min\u001b[0m \u001b[0mself\u001b[0m\u001b[0;34m.\u001b[0m\u001b[0m_accessors\u001b[0m\u001b[0;34m\u001b[0m\u001b[0;34m\u001b[0m\u001b[0m\n\u001b[1;32m   5986\u001b[0m             \u001b[0;32mand\u001b[0m \u001b[0mself\u001b[0m\u001b[0;34m.\u001b[0m\u001b[0m_info_axis\u001b[0m\u001b[0;34m.\u001b[0m\u001b[0m_can_hold_identifiers_and_holds_name\u001b[0m\u001b[0;34m(\u001b[0m\u001b[0mname\u001b[0m\u001b[0;34m)\u001b[0m\u001b[0;34m\u001b[0m\u001b[0;34m\u001b[0m\u001b[0m\n\u001b[1;32m   5987\u001b[0m         ):\n\u001b[1;32m   5988\u001b[0m             \u001b[0;32mreturn\u001b[0m \u001b[0mself\u001b[0m\u001b[0;34m[\u001b[0m\u001b[0mname\u001b[0m\u001b[0;34m]\u001b[0m\u001b[0;34m\u001b[0m\u001b[0;34m\u001b[0m\u001b[0m\n\u001b[0;32m-> 5989\u001b[0;31m         \u001b[0;32mreturn\u001b[0m \u001b[0mobject\u001b[0m\u001b[0;34m.\u001b[0m\u001b[0m__getattribute__\u001b[0m\u001b[0;34m(\u001b[0m\u001b[0mself\u001b[0m\u001b[0;34m,\u001b[0m \u001b[0mname\u001b[0m\u001b[0;34m)\u001b[0m\u001b[0;34m\u001b[0m\u001b[0;34m\u001b[0m\u001b[0m\n\u001b[0m",
            "\u001b[0;31mAttributeError\u001b[0m: 'Series' object has no attribute 'stack'"
          ]
        }
      ],
      "source": [
        "# here we have no columns in the temp\n",
        "\n",
        "# Unstack get the insider row and add in the column\n",
        "# So stack get the insider column add in the rows\n",
        "\n",
        "# so when i apply stack() get the error ?\n",
        "# BEcause we have not a column\n",
        "temp.stack()"
      ]
    },
    {
      "cell_type": "code",
      "execution_count": 113,
      "id": "33d98b6f",
      "metadata": {},
      "outputs": [
        {
          "data": {
            "text/html": [
              "<div>\n",
              "<style scoped>\n",
              "    .dataframe tbody tr th:only-of-type {\n",
              "        vertical-align: middle;\n",
              "    }\n",
              "\n",
              "    .dataframe tbody tr th {\n",
              "        vertical-align: top;\n",
              "    }\n",
              "\n",
              "    .dataframe thead th {\n",
              "        text-align: right;\n",
              "    }\n",
              "</style>\n",
              "<table border=\"1\" class=\"dataframe\">\n",
              "  <thead>\n",
              "    <tr style=\"text-align: right;\">\n",
              "      <th></th>\n",
              "      <th></th>\n",
              "      <th></th>\n",
              "      <th>cse</th>\n",
              "      <th>ece</th>\n",
              "    </tr>\n",
              "  </thead>\n",
              "  <tbody>\n",
              "    <tr>\n",
              "      <th rowspan=\"8\" valign=\"top\">Karachi</th>\n",
              "      <th rowspan=\"4\" valign=\"top\">avg_pkg</th>\n",
              "      <th>2019</th>\n",
              "      <td>2</td>\n",
              "      <td>18</td>\n",
              "    </tr>\n",
              "    <tr>\n",
              "      <th>2020</th>\n",
              "      <td>6</td>\n",
              "      <td>22</td>\n",
              "    </tr>\n",
              "    <tr>\n",
              "      <th>2021</th>\n",
              "      <td>10</td>\n",
              "      <td>26</td>\n",
              "    </tr>\n",
              "    <tr>\n",
              "      <th>2022</th>\n",
              "      <td>14</td>\n",
              "      <td>30</td>\n",
              "    </tr>\n",
              "    <tr>\n",
              "      <th rowspan=\"4\" valign=\"top\">std</th>\n",
              "      <th>2019</th>\n",
              "      <td>3</td>\n",
              "      <td>19</td>\n",
              "    </tr>\n",
              "    <tr>\n",
              "      <th>2020</th>\n",
              "      <td>7</td>\n",
              "      <td>23</td>\n",
              "    </tr>\n",
              "    <tr>\n",
              "      <th>2021</th>\n",
              "      <td>11</td>\n",
              "      <td>27</td>\n",
              "    </tr>\n",
              "    <tr>\n",
              "      <th>2022</th>\n",
              "      <td>15</td>\n",
              "      <td>31</td>\n",
              "    </tr>\n",
              "    <tr>\n",
              "      <th rowspan=\"8\" valign=\"top\">Lahore</th>\n",
              "      <th rowspan=\"4\" valign=\"top\">avg_pkg</th>\n",
              "      <th>2019</th>\n",
              "      <td>0</td>\n",
              "      <td>16</td>\n",
              "    </tr>\n",
              "    <tr>\n",
              "      <th>2020</th>\n",
              "      <td>4</td>\n",
              "      <td>20</td>\n",
              "    </tr>\n",
              "    <tr>\n",
              "      <th>2021</th>\n",
              "      <td>8</td>\n",
              "      <td>24</td>\n",
              "    </tr>\n",
              "    <tr>\n",
              "      <th>2022</th>\n",
              "      <td>12</td>\n",
              "      <td>28</td>\n",
              "    </tr>\n",
              "    <tr>\n",
              "      <th rowspan=\"4\" valign=\"top\">std</th>\n",
              "      <th>2019</th>\n",
              "      <td>1</td>\n",
              "      <td>17</td>\n",
              "    </tr>\n",
              "    <tr>\n",
              "      <th>2020</th>\n",
              "      <td>5</td>\n",
              "      <td>21</td>\n",
              "    </tr>\n",
              "    <tr>\n",
              "      <th>2021</th>\n",
              "      <td>9</td>\n",
              "      <td>25</td>\n",
              "    </tr>\n",
              "    <tr>\n",
              "      <th>2022</th>\n",
              "      <td>13</td>\n",
              "      <td>29</td>\n",
              "    </tr>\n",
              "  </tbody>\n",
              "</table>\n",
              "</div>"
            ],
            "text/plain": [
              "                      cse  ece\n",
              "Karachi avg_pkg 2019    2   18\n",
              "                2020    6   22\n",
              "                2021   10   26\n",
              "                2022   14   30\n",
              "        std     2019    3   19\n",
              "                2020    7   23\n",
              "                2021   11   27\n",
              "                2022   15   31\n",
              "Lahore  avg_pkg 2019    0   16\n",
              "                2020    4   20\n",
              "                2021    8   24\n",
              "                2022   12   28\n",
              "        std     2019    1   17\n",
              "                2020    5   21\n",
              "                2021    9   25\n",
              "                2022   13   29"
            ]
          },
          "execution_count": 113,
          "metadata": {},
          "output_type": "execute_result"
        }
      ],
      "source": [
        "# but we can apply a unstack becuase we have index\n",
        "\n",
        "temp.unstack()"
      ]
    },
    {
      "cell_type": "code",
      "execution_count": 114,
      "id": "38f4c04c",
      "metadata": {},
      "outputs": [
        {
          "data": {
            "text/html": [
              "<div>\n",
              "<style scoped>\n",
              "    .dataframe tbody tr th:only-of-type {\n",
              "        vertical-align: middle;\n",
              "    }\n",
              "\n",
              "    .dataframe tbody tr th {\n",
              "        vertical-align: top;\n",
              "    }\n",
              "\n",
              "    .dataframe thead tr th {\n",
              "        text-align: left;\n",
              "    }\n",
              "</style>\n",
              "<table border=\"1\" class=\"dataframe\">\n",
              "  <thead>\n",
              "    <tr>\n",
              "      <th></th>\n",
              "      <th></th>\n",
              "      <th colspan=\"4\" halign=\"left\">cse</th>\n",
              "      <th colspan=\"4\" halign=\"left\">ece</th>\n",
              "    </tr>\n",
              "    <tr>\n",
              "      <th></th>\n",
              "      <th></th>\n",
              "      <th>2019</th>\n",
              "      <th>2020</th>\n",
              "      <th>2021</th>\n",
              "      <th>2022</th>\n",
              "      <th>2019</th>\n",
              "      <th>2020</th>\n",
              "      <th>2021</th>\n",
              "      <th>2022</th>\n",
              "    </tr>\n",
              "  </thead>\n",
              "  <tbody>\n",
              "    <tr>\n",
              "      <th rowspan=\"2\" valign=\"top\">Karachi</th>\n",
              "      <th>avg_pkg</th>\n",
              "      <td>2</td>\n",
              "      <td>6</td>\n",
              "      <td>10</td>\n",
              "      <td>14</td>\n",
              "      <td>18</td>\n",
              "      <td>22</td>\n",
              "      <td>26</td>\n",
              "      <td>30</td>\n",
              "    </tr>\n",
              "    <tr>\n",
              "      <th>std</th>\n",
              "      <td>3</td>\n",
              "      <td>7</td>\n",
              "      <td>11</td>\n",
              "      <td>15</td>\n",
              "      <td>19</td>\n",
              "      <td>23</td>\n",
              "      <td>27</td>\n",
              "      <td>31</td>\n",
              "    </tr>\n",
              "    <tr>\n",
              "      <th rowspan=\"2\" valign=\"top\">Lahore</th>\n",
              "      <th>avg_pkg</th>\n",
              "      <td>0</td>\n",
              "      <td>4</td>\n",
              "      <td>8</td>\n",
              "      <td>12</td>\n",
              "      <td>16</td>\n",
              "      <td>20</td>\n",
              "      <td>24</td>\n",
              "      <td>28</td>\n",
              "    </tr>\n",
              "    <tr>\n",
              "      <th>std</th>\n",
              "      <td>1</td>\n",
              "      <td>5</td>\n",
              "      <td>9</td>\n",
              "      <td>13</td>\n",
              "      <td>17</td>\n",
              "      <td>21</td>\n",
              "      <td>25</td>\n",
              "      <td>29</td>\n",
              "    </tr>\n",
              "  </tbody>\n",
              "</table>\n",
              "</div>"
            ],
            "text/plain": [
              "                 cse                 ece               \n",
              "                2019 2020 2021 2022 2019 2020 2021 2022\n",
              "Karachi avg_pkg    2    6   10   14   18   22   26   30\n",
              "        std        3    7   11   15   19   23   27   31\n",
              "Lahore  avg_pkg    0    4    8   12   16   20   24   28\n",
              "        std        1    5    9   13   17   21   25   29"
            ]
          },
          "execution_count": 114,
          "metadata": {},
          "output_type": "execute_result"
        }
      ],
      "source": [
        "#add year in column\n",
        "temp.unstack().unstack()"
      ]
    },
    {
      "cell_type": "code",
      "execution_count": 115,
      "id": "9aa8dcd9",
      "metadata": {},
      "outputs": [
        {
          "data": {
            "text/html": [
              "<div>\n",
              "<style scoped>\n",
              "    .dataframe tbody tr th:only-of-type {\n",
              "        vertical-align: middle;\n",
              "    }\n",
              "\n",
              "    .dataframe tbody tr th {\n",
              "        vertical-align: top;\n",
              "    }\n",
              "\n",
              "    .dataframe thead tr th {\n",
              "        text-align: left;\n",
              "    }\n",
              "</style>\n",
              "<table border=\"1\" class=\"dataframe\">\n",
              "  <thead>\n",
              "    <tr>\n",
              "      <th></th>\n",
              "      <th></th>\n",
              "      <th colspan=\"2\" halign=\"left\">Lahore</th>\n",
              "      <th colspan=\"2\" halign=\"left\">Karachi</th>\n",
              "    </tr>\n",
              "    <tr>\n",
              "      <th></th>\n",
              "      <th></th>\n",
              "      <th>avg_pkg</th>\n",
              "      <th>std</th>\n",
              "      <th>avg_pkg</th>\n",
              "      <th>std</th>\n",
              "    </tr>\n",
              "  </thead>\n",
              "  <tbody>\n",
              "    <tr>\n",
              "      <th rowspan=\"4\" valign=\"top\">cse</th>\n",
              "      <th>2019</th>\n",
              "      <td>0</td>\n",
              "      <td>1</td>\n",
              "      <td>2</td>\n",
              "      <td>3</td>\n",
              "    </tr>\n",
              "    <tr>\n",
              "      <th>2020</th>\n",
              "      <td>4</td>\n",
              "      <td>5</td>\n",
              "      <td>6</td>\n",
              "      <td>7</td>\n",
              "    </tr>\n",
              "    <tr>\n",
              "      <th>2021</th>\n",
              "      <td>8</td>\n",
              "      <td>9</td>\n",
              "      <td>10</td>\n",
              "      <td>11</td>\n",
              "    </tr>\n",
              "    <tr>\n",
              "      <th>2022</th>\n",
              "      <td>12</td>\n",
              "      <td>13</td>\n",
              "      <td>14</td>\n",
              "      <td>15</td>\n",
              "    </tr>\n",
              "    <tr>\n",
              "      <th rowspan=\"4\" valign=\"top\">ece</th>\n",
              "      <th>2019</th>\n",
              "      <td>16</td>\n",
              "      <td>17</td>\n",
              "      <td>18</td>\n",
              "      <td>19</td>\n",
              "    </tr>\n",
              "    <tr>\n",
              "      <th>2020</th>\n",
              "      <td>20</td>\n",
              "      <td>21</td>\n",
              "      <td>22</td>\n",
              "      <td>23</td>\n",
              "    </tr>\n",
              "    <tr>\n",
              "      <th>2021</th>\n",
              "      <td>24</td>\n",
              "      <td>25</td>\n",
              "      <td>26</td>\n",
              "      <td>27</td>\n",
              "    </tr>\n",
              "    <tr>\n",
              "      <th>2022</th>\n",
              "      <td>28</td>\n",
              "      <td>29</td>\n",
              "      <td>30</td>\n",
              "      <td>31</td>\n",
              "    </tr>\n",
              "  </tbody>\n",
              "</table>\n",
              "</div>"
            ],
            "text/plain": [
              "          Lahore     Karachi    \n",
              "         avg_pkg std avg_pkg std\n",
              "cse 2019       0   1       2   3\n",
              "    2020       4   5       6   7\n",
              "    2021       8   9      10  11\n",
              "    2022      12  13      14  15\n",
              "ece 2019      16  17      18  19\n",
              "    2020      20  21      22  23\n",
              "    2021      24  25      26  27\n",
              "    2022      28  29      30  31"
            ]
          },
          "execution_count": 115,
          "metadata": {},
          "output_type": "execute_result"
        }
      ],
      "source": [
        "# now check the multi df data both are same ?\n",
        "mul_df\n"
      ]
    },
    {
      "cell_type": "code",
      "execution_count": 116,
      "id": "681e7583",
      "metadata": {},
      "outputs": [
        {
          "data": {
            "text/html": [
              "<div>\n",
              "<style scoped>\n",
              "    .dataframe tbody tr th:only-of-type {\n",
              "        vertical-align: middle;\n",
              "    }\n",
              "\n",
              "    .dataframe tbody tr th {\n",
              "        vertical-align: top;\n",
              "    }\n",
              "\n",
              "    .dataframe thead tr th {\n",
              "        text-align: left;\n",
              "    }\n",
              "</style>\n",
              "<table border=\"1\" class=\"dataframe\">\n",
              "  <thead>\n",
              "    <tr>\n",
              "      <th></th>\n",
              "      <th></th>\n",
              "      <th colspan=\"2\" halign=\"left\">Karachi</th>\n",
              "      <th colspan=\"2\" halign=\"left\">Lahore</th>\n",
              "    </tr>\n",
              "    <tr>\n",
              "      <th></th>\n",
              "      <th></th>\n",
              "      <th>avg_pkg</th>\n",
              "      <th>std</th>\n",
              "      <th>avg_pkg</th>\n",
              "      <th>std</th>\n",
              "    </tr>\n",
              "  </thead>\n",
              "  <tbody>\n",
              "    <tr>\n",
              "      <th rowspan=\"4\" valign=\"top\">cse</th>\n",
              "      <th>2019</th>\n",
              "      <td>2</td>\n",
              "      <td>3</td>\n",
              "      <td>0</td>\n",
              "      <td>1</td>\n",
              "    </tr>\n",
              "    <tr>\n",
              "      <th>2020</th>\n",
              "      <td>6</td>\n",
              "      <td>7</td>\n",
              "      <td>4</td>\n",
              "      <td>5</td>\n",
              "    </tr>\n",
              "    <tr>\n",
              "      <th>2021</th>\n",
              "      <td>10</td>\n",
              "      <td>11</td>\n",
              "      <td>8</td>\n",
              "      <td>9</td>\n",
              "    </tr>\n",
              "    <tr>\n",
              "      <th>2022</th>\n",
              "      <td>14</td>\n",
              "      <td>15</td>\n",
              "      <td>12</td>\n",
              "      <td>13</td>\n",
              "    </tr>\n",
              "    <tr>\n",
              "      <th rowspan=\"4\" valign=\"top\">ece</th>\n",
              "      <th>2019</th>\n",
              "      <td>18</td>\n",
              "      <td>19</td>\n",
              "      <td>16</td>\n",
              "      <td>17</td>\n",
              "    </tr>\n",
              "    <tr>\n",
              "      <th>2020</th>\n",
              "      <td>22</td>\n",
              "      <td>23</td>\n",
              "      <td>20</td>\n",
              "      <td>21</td>\n",
              "    </tr>\n",
              "    <tr>\n",
              "      <th>2021</th>\n",
              "      <td>26</td>\n",
              "      <td>27</td>\n",
              "      <td>24</td>\n",
              "      <td>25</td>\n",
              "    </tr>\n",
              "    <tr>\n",
              "      <th>2022</th>\n",
              "      <td>30</td>\n",
              "      <td>31</td>\n",
              "      <td>28</td>\n",
              "      <td>29</td>\n",
              "    </tr>\n",
              "  </tbody>\n",
              "</table>\n",
              "</div>"
            ],
            "text/plain": [
              "         Karachi      Lahore    \n",
              "         avg_pkg std avg_pkg std\n",
              "cse 2019       2   3       0   1\n",
              "    2020       6   7       4   5\n",
              "    2021      10  11       8   9\n",
              "    2022      14  15      12  13\n",
              "ece 2019      18  19      16  17\n",
              "    2020      22  23      20  21\n",
              "    2021      26  27      24  25\n",
              "    2022      30  31      28  29"
            ]
          },
          "execution_count": 116,
          "metadata": {},
          "output_type": "execute_result"
        }
      ],
      "source": [
        "# yes both are same if we get the transform\n",
        "\n",
        "temp.unstack().unstack().T"
      ]
    },
    {
      "attachments": {},
      "cell_type": "markdown",
      "id": "7a5ca2d7",
      "metadata": {},
      "source": [
        "### levels parameter"
      ]
    },
    {
      "cell_type": "code",
      "execution_count": 117,
      "id": "3082a258",
      "metadata": {},
      "outputs": [
        {
          "data": {
            "text/html": [
              "<div>\n",
              "<style scoped>\n",
              "    .dataframe tbody tr th:only-of-type {\n",
              "        vertical-align: middle;\n",
              "    }\n",
              "\n",
              "    .dataframe tbody tr th {\n",
              "        vertical-align: top;\n",
              "    }\n",
              "\n",
              "    .dataframe thead tr th {\n",
              "        text-align: left;\n",
              "    }\n",
              "</style>\n",
              "<table border=\"1\" class=\"dataframe\">\n",
              "  <thead>\n",
              "    <tr>\n",
              "      <th></th>\n",
              "      <th></th>\n",
              "      <th colspan=\"2\" halign=\"left\">Lahore</th>\n",
              "      <th colspan=\"2\" halign=\"left\">Karachi</th>\n",
              "    </tr>\n",
              "    <tr>\n",
              "      <th></th>\n",
              "      <th></th>\n",
              "      <th>avg_pkg</th>\n",
              "      <th>std</th>\n",
              "      <th>avg_pkg</th>\n",
              "      <th>std</th>\n",
              "    </tr>\n",
              "  </thead>\n",
              "  <tbody>\n",
              "    <tr>\n",
              "      <th rowspan=\"4\" valign=\"top\">cse</th>\n",
              "      <th>2019</th>\n",
              "      <td>0</td>\n",
              "      <td>1</td>\n",
              "      <td>2</td>\n",
              "      <td>3</td>\n",
              "    </tr>\n",
              "    <tr>\n",
              "      <th>2020</th>\n",
              "      <td>4</td>\n",
              "      <td>5</td>\n",
              "      <td>6</td>\n",
              "      <td>7</td>\n",
              "    </tr>\n",
              "    <tr>\n",
              "      <th>2021</th>\n",
              "      <td>8</td>\n",
              "      <td>9</td>\n",
              "      <td>10</td>\n",
              "      <td>11</td>\n",
              "    </tr>\n",
              "    <tr>\n",
              "      <th>2022</th>\n",
              "      <td>12</td>\n",
              "      <td>13</td>\n",
              "      <td>14</td>\n",
              "      <td>15</td>\n",
              "    </tr>\n",
              "    <tr>\n",
              "      <th rowspan=\"4\" valign=\"top\">ece</th>\n",
              "      <th>2019</th>\n",
              "      <td>16</td>\n",
              "      <td>17</td>\n",
              "      <td>18</td>\n",
              "      <td>19</td>\n",
              "    </tr>\n",
              "    <tr>\n",
              "      <th>2020</th>\n",
              "      <td>20</td>\n",
              "      <td>21</td>\n",
              "      <td>22</td>\n",
              "      <td>23</td>\n",
              "    </tr>\n",
              "    <tr>\n",
              "      <th>2021</th>\n",
              "      <td>24</td>\n",
              "      <td>25</td>\n",
              "      <td>26</td>\n",
              "      <td>27</td>\n",
              "    </tr>\n",
              "    <tr>\n",
              "      <th>2022</th>\n",
              "      <td>28</td>\n",
              "      <td>29</td>\n",
              "      <td>30</td>\n",
              "      <td>31</td>\n",
              "    </tr>\n",
              "  </tbody>\n",
              "</table>\n",
              "</div>"
            ],
            "text/plain": [
              "          Lahore     Karachi    \n",
              "         avg_pkg std avg_pkg std\n",
              "cse 2019       0   1       2   3\n",
              "    2020       4   5       6   7\n",
              "    2021       8   9      10  11\n",
              "    2022      12  13      14  15\n",
              "ece 2019      16  17      18  19\n",
              "    2020      20  21      22  23\n",
              "    2021      24  25      26  27\n",
              "    2022      28  29      30  31"
            ]
          },
          "execution_count": 117,
          "metadata": {},
          "output_type": "execute_result"
        }
      ],
      "source": [
        "mul_df"
      ]
    },
    {
      "cell_type": "code",
      "execution_count": 119,
      "id": "75b6c19c",
      "metadata": {},
      "outputs": [
        {
          "data": {
            "text/html": [
              "<div>\n",
              "<style scoped>\n",
              "    .dataframe tbody tr th:only-of-type {\n",
              "        vertical-align: middle;\n",
              "    }\n",
              "\n",
              "    .dataframe tbody tr th {\n",
              "        vertical-align: top;\n",
              "    }\n",
              "\n",
              "    .dataframe thead tr th {\n",
              "        text-align: left;\n",
              "    }\n",
              "</style>\n",
              "<table border=\"1\" class=\"dataframe\">\n",
              "  <thead>\n",
              "    <tr>\n",
              "      <th></th>\n",
              "      <th colspan=\"8\" halign=\"left\">Lahore</th>\n",
              "      <th colspan=\"8\" halign=\"left\">Karachi</th>\n",
              "    </tr>\n",
              "    <tr>\n",
              "      <th></th>\n",
              "      <th colspan=\"4\" halign=\"left\">avg_pkg</th>\n",
              "      <th colspan=\"4\" halign=\"left\">std</th>\n",
              "      <th colspan=\"4\" halign=\"left\">avg_pkg</th>\n",
              "      <th colspan=\"4\" halign=\"left\">std</th>\n",
              "    </tr>\n",
              "    <tr>\n",
              "      <th></th>\n",
              "      <th>2019</th>\n",
              "      <th>2020</th>\n",
              "      <th>2021</th>\n",
              "      <th>2022</th>\n",
              "      <th>2019</th>\n",
              "      <th>2020</th>\n",
              "      <th>2021</th>\n",
              "      <th>2022</th>\n",
              "      <th>2019</th>\n",
              "      <th>2020</th>\n",
              "      <th>2021</th>\n",
              "      <th>2022</th>\n",
              "      <th>2019</th>\n",
              "      <th>2020</th>\n",
              "      <th>2021</th>\n",
              "      <th>2022</th>\n",
              "    </tr>\n",
              "  </thead>\n",
              "  <tbody>\n",
              "    <tr>\n",
              "      <th>cse</th>\n",
              "      <td>0</td>\n",
              "      <td>4</td>\n",
              "      <td>8</td>\n",
              "      <td>12</td>\n",
              "      <td>1</td>\n",
              "      <td>5</td>\n",
              "      <td>9</td>\n",
              "      <td>13</td>\n",
              "      <td>2</td>\n",
              "      <td>6</td>\n",
              "      <td>10</td>\n",
              "      <td>14</td>\n",
              "      <td>3</td>\n",
              "      <td>7</td>\n",
              "      <td>11</td>\n",
              "      <td>15</td>\n",
              "    </tr>\n",
              "    <tr>\n",
              "      <th>ece</th>\n",
              "      <td>16</td>\n",
              "      <td>20</td>\n",
              "      <td>24</td>\n",
              "      <td>28</td>\n",
              "      <td>17</td>\n",
              "      <td>21</td>\n",
              "      <td>25</td>\n",
              "      <td>29</td>\n",
              "      <td>18</td>\n",
              "      <td>22</td>\n",
              "      <td>26</td>\n",
              "      <td>30</td>\n",
              "      <td>19</td>\n",
              "      <td>23</td>\n",
              "      <td>27</td>\n",
              "      <td>31</td>\n",
              "    </tr>\n",
              "  </tbody>\n",
              "</table>\n",
              "</div>"
            ],
            "text/plain": [
              "     Lahore                                    Karachi                      \\\n",
              "    avg_pkg                 std                avg_pkg                 std   \n",
              "       2019 2020 2021 2022 2019 2020 2021 2022    2019 2020 2021 2022 2019   \n",
              "cse       0    4    8   12    1    5    9   13       2    6   10   14    3   \n",
              "ece      16   20   24   28   17   21   25   29      18   22   26   30   19   \n",
              "\n",
              "                    \n",
              "                    \n",
              "    2020 2021 2022  \n",
              "cse    7   11   15  \n",
              "ece   23   27   31  "
            ]
          },
          "execution_count": 119,
          "metadata": {},
          "output_type": "execute_result"
        }
      ],
      "source": [
        "# if we apply unstack than years (level 1) are and in columns\n",
        "mul_df.unstack()"
      ]
    },
    {
      "cell_type": "code",
      "execution_count": 120,
      "id": "5ce27fc5",
      "metadata": {},
      "outputs": [
        {
          "data": {
            "text/html": [
              "<div>\n",
              "<style scoped>\n",
              "    .dataframe tbody tr th:only-of-type {\n",
              "        vertical-align: middle;\n",
              "    }\n",
              "\n",
              "    .dataframe tbody tr th {\n",
              "        vertical-align: top;\n",
              "    }\n",
              "\n",
              "    .dataframe thead tr th {\n",
              "        text-align: left;\n",
              "    }\n",
              "</style>\n",
              "<table border=\"1\" class=\"dataframe\">\n",
              "  <thead>\n",
              "    <tr>\n",
              "      <th></th>\n",
              "      <th colspan=\"4\" halign=\"left\">Lahore</th>\n",
              "      <th colspan=\"4\" halign=\"left\">Karachi</th>\n",
              "    </tr>\n",
              "    <tr>\n",
              "      <th></th>\n",
              "      <th colspan=\"2\" halign=\"left\">avg_pkg</th>\n",
              "      <th colspan=\"2\" halign=\"left\">std</th>\n",
              "      <th colspan=\"2\" halign=\"left\">avg_pkg</th>\n",
              "      <th colspan=\"2\" halign=\"left\">std</th>\n",
              "    </tr>\n",
              "    <tr>\n",
              "      <th></th>\n",
              "      <th>cse</th>\n",
              "      <th>ece</th>\n",
              "      <th>cse</th>\n",
              "      <th>ece</th>\n",
              "      <th>cse</th>\n",
              "      <th>ece</th>\n",
              "      <th>cse</th>\n",
              "      <th>ece</th>\n",
              "    </tr>\n",
              "  </thead>\n",
              "  <tbody>\n",
              "    <tr>\n",
              "      <th>2019</th>\n",
              "      <td>0</td>\n",
              "      <td>16</td>\n",
              "      <td>1</td>\n",
              "      <td>17</td>\n",
              "      <td>2</td>\n",
              "      <td>18</td>\n",
              "      <td>3</td>\n",
              "      <td>19</td>\n",
              "    </tr>\n",
              "    <tr>\n",
              "      <th>2020</th>\n",
              "      <td>4</td>\n",
              "      <td>20</td>\n",
              "      <td>5</td>\n",
              "      <td>21</td>\n",
              "      <td>6</td>\n",
              "      <td>22</td>\n",
              "      <td>7</td>\n",
              "      <td>23</td>\n",
              "    </tr>\n",
              "    <tr>\n",
              "      <th>2021</th>\n",
              "      <td>8</td>\n",
              "      <td>24</td>\n",
              "      <td>9</td>\n",
              "      <td>25</td>\n",
              "      <td>10</td>\n",
              "      <td>26</td>\n",
              "      <td>11</td>\n",
              "      <td>27</td>\n",
              "    </tr>\n",
              "    <tr>\n",
              "      <th>2022</th>\n",
              "      <td>12</td>\n",
              "      <td>28</td>\n",
              "      <td>13</td>\n",
              "      <td>29</td>\n",
              "      <td>14</td>\n",
              "      <td>30</td>\n",
              "      <td>15</td>\n",
              "      <td>31</td>\n",
              "    </tr>\n",
              "  </tbody>\n",
              "</table>\n",
              "</div>"
            ],
            "text/plain": [
              "      Lahore             Karachi            \n",
              "     avg_pkg     std     avg_pkg     std    \n",
              "         cse ece cse ece     cse ece cse ece\n",
              "2019       0  16   1  17       2  18   3  19\n",
              "2020       4  20   5  21       6  22   7  23\n",
              "2021       8  24   9  25      10  26  11  27\n",
              "2022      12  28  13  29      14  30  15  31"
            ]
          },
          "execution_count": 120,
          "metadata": {},
          "output_type": "execute_result"
        }
      ],
      "source": [
        "# change level\n",
        "mul_df.unstack(level=0)\n",
        "\n",
        "# now cse are add in colums"
      ]
    },
    {
      "cell_type": "code",
      "execution_count": 121,
      "id": "3bf6fa2c",
      "metadata": {},
      "outputs": [
        {
          "data": {
            "text/html": [
              "<div>\n",
              "<style scoped>\n",
              "    .dataframe tbody tr th:only-of-type {\n",
              "        vertical-align: middle;\n",
              "    }\n",
              "\n",
              "    .dataframe tbody tr th {\n",
              "        vertical-align: top;\n",
              "    }\n",
              "\n",
              "    .dataframe thead th {\n",
              "        text-align: right;\n",
              "    }\n",
              "</style>\n",
              "<table border=\"1\" class=\"dataframe\">\n",
              "  <thead>\n",
              "    <tr style=\"text-align: right;\">\n",
              "      <th></th>\n",
              "      <th></th>\n",
              "      <th></th>\n",
              "      <th>Karachi</th>\n",
              "      <th>Lahore</th>\n",
              "    </tr>\n",
              "  </thead>\n",
              "  <tbody>\n",
              "    <tr>\n",
              "      <th rowspan=\"8\" valign=\"top\">cse</th>\n",
              "      <th rowspan=\"2\" valign=\"top\">2019</th>\n",
              "      <th>avg_pkg</th>\n",
              "      <td>2</td>\n",
              "      <td>0</td>\n",
              "    </tr>\n",
              "    <tr>\n",
              "      <th>std</th>\n",
              "      <td>3</td>\n",
              "      <td>1</td>\n",
              "    </tr>\n",
              "    <tr>\n",
              "      <th rowspan=\"2\" valign=\"top\">2020</th>\n",
              "      <th>avg_pkg</th>\n",
              "      <td>6</td>\n",
              "      <td>4</td>\n",
              "    </tr>\n",
              "    <tr>\n",
              "      <th>std</th>\n",
              "      <td>7</td>\n",
              "      <td>5</td>\n",
              "    </tr>\n",
              "    <tr>\n",
              "      <th rowspan=\"2\" valign=\"top\">2021</th>\n",
              "      <th>avg_pkg</th>\n",
              "      <td>10</td>\n",
              "      <td>8</td>\n",
              "    </tr>\n",
              "    <tr>\n",
              "      <th>std</th>\n",
              "      <td>11</td>\n",
              "      <td>9</td>\n",
              "    </tr>\n",
              "    <tr>\n",
              "      <th rowspan=\"2\" valign=\"top\">2022</th>\n",
              "      <th>avg_pkg</th>\n",
              "      <td>14</td>\n",
              "      <td>12</td>\n",
              "    </tr>\n",
              "    <tr>\n",
              "      <th>std</th>\n",
              "      <td>15</td>\n",
              "      <td>13</td>\n",
              "    </tr>\n",
              "    <tr>\n",
              "      <th rowspan=\"8\" valign=\"top\">ece</th>\n",
              "      <th rowspan=\"2\" valign=\"top\">2019</th>\n",
              "      <th>avg_pkg</th>\n",
              "      <td>18</td>\n",
              "      <td>16</td>\n",
              "    </tr>\n",
              "    <tr>\n",
              "      <th>std</th>\n",
              "      <td>19</td>\n",
              "      <td>17</td>\n",
              "    </tr>\n",
              "    <tr>\n",
              "      <th rowspan=\"2\" valign=\"top\">2020</th>\n",
              "      <th>avg_pkg</th>\n",
              "      <td>22</td>\n",
              "      <td>20</td>\n",
              "    </tr>\n",
              "    <tr>\n",
              "      <th>std</th>\n",
              "      <td>23</td>\n",
              "      <td>21</td>\n",
              "    </tr>\n",
              "    <tr>\n",
              "      <th rowspan=\"2\" valign=\"top\">2021</th>\n",
              "      <th>avg_pkg</th>\n",
              "      <td>26</td>\n",
              "      <td>24</td>\n",
              "    </tr>\n",
              "    <tr>\n",
              "      <th>std</th>\n",
              "      <td>27</td>\n",
              "      <td>25</td>\n",
              "    </tr>\n",
              "    <tr>\n",
              "      <th rowspan=\"2\" valign=\"top\">2022</th>\n",
              "      <th>avg_pkg</th>\n",
              "      <td>30</td>\n",
              "      <td>28</td>\n",
              "    </tr>\n",
              "    <tr>\n",
              "      <th>std</th>\n",
              "      <td>31</td>\n",
              "      <td>29</td>\n",
              "    </tr>\n",
              "  </tbody>\n",
              "</table>\n",
              "</div>"
            ],
            "text/plain": [
              "                  Karachi  Lahore\n",
              "cse 2019 avg_pkg        2       0\n",
              "         std            3       1\n",
              "    2020 avg_pkg        6       4\n",
              "         std            7       5\n",
              "    2021 avg_pkg       10       8\n",
              "         std           11       9\n",
              "    2022 avg_pkg       14      12\n",
              "         std           15      13\n",
              "ece 2019 avg_pkg       18      16\n",
              "         std           19      17\n",
              "    2020 avg_pkg       22      20\n",
              "         std           23      21\n",
              "    2021 avg_pkg       26      24\n",
              "         std           27      25\n",
              "    2022 avg_pkg       30      28\n",
              "         std           31      29"
            ]
          },
          "execution_count": 121,
          "metadata": {},
          "output_type": "execute_result"
        }
      ],
      "source": [
        "# same as stack\n",
        "\n",
        "mul_df.stack()"
      ]
    },
    {
      "cell_type": "code",
      "execution_count": 122,
      "id": "5581aca2",
      "metadata": {},
      "outputs": [
        {
          "data": {
            "text/html": [
              "<div>\n",
              "<style scoped>\n",
              "    .dataframe tbody tr th:only-of-type {\n",
              "        vertical-align: middle;\n",
              "    }\n",
              "\n",
              "    .dataframe tbody tr th {\n",
              "        vertical-align: top;\n",
              "    }\n",
              "\n",
              "    .dataframe thead th {\n",
              "        text-align: right;\n",
              "    }\n",
              "</style>\n",
              "<table border=\"1\" class=\"dataframe\">\n",
              "  <thead>\n",
              "    <tr style=\"text-align: right;\">\n",
              "      <th></th>\n",
              "      <th></th>\n",
              "      <th></th>\n",
              "      <th>avg_pkg</th>\n",
              "      <th>std</th>\n",
              "    </tr>\n",
              "  </thead>\n",
              "  <tbody>\n",
              "    <tr>\n",
              "      <th rowspan=\"8\" valign=\"top\">cse</th>\n",
              "      <th rowspan=\"2\" valign=\"top\">2019</th>\n",
              "      <th>Karachi</th>\n",
              "      <td>2</td>\n",
              "      <td>3</td>\n",
              "    </tr>\n",
              "    <tr>\n",
              "      <th>Lahore</th>\n",
              "      <td>0</td>\n",
              "      <td>1</td>\n",
              "    </tr>\n",
              "    <tr>\n",
              "      <th rowspan=\"2\" valign=\"top\">2020</th>\n",
              "      <th>Karachi</th>\n",
              "      <td>6</td>\n",
              "      <td>7</td>\n",
              "    </tr>\n",
              "    <tr>\n",
              "      <th>Lahore</th>\n",
              "      <td>4</td>\n",
              "      <td>5</td>\n",
              "    </tr>\n",
              "    <tr>\n",
              "      <th rowspan=\"2\" valign=\"top\">2021</th>\n",
              "      <th>Karachi</th>\n",
              "      <td>10</td>\n",
              "      <td>11</td>\n",
              "    </tr>\n",
              "    <tr>\n",
              "      <th>Lahore</th>\n",
              "      <td>8</td>\n",
              "      <td>9</td>\n",
              "    </tr>\n",
              "    <tr>\n",
              "      <th rowspan=\"2\" valign=\"top\">2022</th>\n",
              "      <th>Karachi</th>\n",
              "      <td>14</td>\n",
              "      <td>15</td>\n",
              "    </tr>\n",
              "    <tr>\n",
              "      <th>Lahore</th>\n",
              "      <td>12</td>\n",
              "      <td>13</td>\n",
              "    </tr>\n",
              "    <tr>\n",
              "      <th rowspan=\"8\" valign=\"top\">ece</th>\n",
              "      <th rowspan=\"2\" valign=\"top\">2019</th>\n",
              "      <th>Karachi</th>\n",
              "      <td>18</td>\n",
              "      <td>19</td>\n",
              "    </tr>\n",
              "    <tr>\n",
              "      <th>Lahore</th>\n",
              "      <td>16</td>\n",
              "      <td>17</td>\n",
              "    </tr>\n",
              "    <tr>\n",
              "      <th rowspan=\"2\" valign=\"top\">2020</th>\n",
              "      <th>Karachi</th>\n",
              "      <td>22</td>\n",
              "      <td>23</td>\n",
              "    </tr>\n",
              "    <tr>\n",
              "      <th>Lahore</th>\n",
              "      <td>20</td>\n",
              "      <td>21</td>\n",
              "    </tr>\n",
              "    <tr>\n",
              "      <th rowspan=\"2\" valign=\"top\">2021</th>\n",
              "      <th>Karachi</th>\n",
              "      <td>26</td>\n",
              "      <td>27</td>\n",
              "    </tr>\n",
              "    <tr>\n",
              "      <th>Lahore</th>\n",
              "      <td>24</td>\n",
              "      <td>25</td>\n",
              "    </tr>\n",
              "    <tr>\n",
              "      <th rowspan=\"2\" valign=\"top\">2022</th>\n",
              "      <th>Karachi</th>\n",
              "      <td>30</td>\n",
              "      <td>31</td>\n",
              "    </tr>\n",
              "    <tr>\n",
              "      <th>Lahore</th>\n",
              "      <td>28</td>\n",
              "      <td>29</td>\n",
              "    </tr>\n",
              "  </tbody>\n",
              "</table>\n",
              "</div>"
            ],
            "text/plain": [
              "                  avg_pkg  std\n",
              "cse 2019 Karachi        2    3\n",
              "         Lahore         0    1\n",
              "    2020 Karachi        6    7\n",
              "         Lahore         4    5\n",
              "    2021 Karachi       10   11\n",
              "         Lahore         8    9\n",
              "    2022 Karachi       14   15\n",
              "         Lahore        12   13\n",
              "ece 2019 Karachi       18   19\n",
              "         Lahore        16   17\n",
              "    2020 Karachi       22   23\n",
              "         Lahore        20   21\n",
              "    2021 Karachi       26   27\n",
              "         Lahore        24   25\n",
              "    2022 Karachi       30   31\n",
              "         Lahore        28   29"
            ]
          },
          "execution_count": 122,
          "metadata": {},
          "output_type": "execute_result"
        }
      ],
      "source": [
        "mul_df.stack(level=0) \n",
        "# change level"
      ]
    }
  ],
  "metadata": {
    "colab": {
      "provenance": []
    },
    "kernelspec": {
      "display_name": "GPU",
      "language": "python",
      "name": "python3"
    },
    "language_info": {
      "codemirror_mode": {
        "name": "ipython",
        "version": 3
      },
      "file_extension": ".py",
      "mimetype": "text/x-python",
      "name": "python",
      "nbconvert_exporter": "python",
      "pygments_lexer": "ipython3",
      "version": "3.10.6"
    }
  },
  "nbformat": 4,
  "nbformat_minor": 5
}

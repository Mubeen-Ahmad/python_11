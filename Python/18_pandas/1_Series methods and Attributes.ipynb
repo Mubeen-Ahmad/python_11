{
 "cells": [
  {
   "cell_type": "markdown",
   "id": "549344a6",
   "metadata": {
    "id": "549344a6"
   },
   "source": [
    "## Topics\n",
    "<br>\n",
    "\n",
    "- ### pd.Series() Function\n",
    "- ### Series with list\n",
    "- ### keys and values and Index\n",
    "- ### Dictionary in Series\n",
    "- ### Name Parameter in Series\n",
    "- ### use data csv file in Series\n",
    "- ### pd.read_csv() Function\n",
    "- ### .squeeze(\"columns\") Method for pd.read_csv()\n",
    "- ### .head()\n",
    "- ### .tail()\n",
    "- ### .sample()\n",
    "<br>\n",
    "\n",
    "- ### .value_counts()\n",
    "- ### .sort_values()\n",
    "- ### .sort_index()\n",
    "- ### .copy()\n",
    "- ### .sum()\n",
    "- ### .product()\n",
    "- ### .prod()\n",
    "- ### .mean()\n",
    "- ### .median()\n",
    "- ### .mode()\n",
    "- ### .std()\n",
    "- ### .var()\n",
    "- ### .min()\n",
    "- ### .max()\n",
    "- ### .describe()\n",
    "- ### .info()"
   ]
  },
  {
   "cell_type": "markdown",
   "id": "9d863498",
   "metadata": {
    "id": "9d863498"
   },
   "source": [
    "## Series Attributes"
   ]
  },
  {
   "cell_type": "markdown",
   "id": "64daabec",
   "metadata": {
    "id": "64daabec"
   },
   "source": [
    "- ### .size\n",
    "- ### .dtype\n",
    "- ### .name\n",
    "- ### .index\n",
    "- ### .values\n",
    "- ### .is_unique\n",
    "- ### .ndim (same as numpy)\n",
    "- ### .shape"
   ]
  },
  {
   "cell_type": "markdown",
   "id": "da8773c1",
   "metadata": {
    "id": "da8773c1"
   },
   "source": [
    "\n",
    "# What is Series\n",
    "<br>\n",
    "\n",
    "- ### In Pandas, a series is a one-dimensional labeled array capable of holding any data type (integers, strings, floating-point numbers, Python objects, etc.).\n",
    "<br>\n",
    "\n",
    "- ### It is similar to a NumPy array, but with an associated label for each element, which is called an index."
   ]
  },
  {
   "cell_type": "code",
   "execution_count": 1,
   "id": "8394a152",
   "metadata": {
    "id": "8394a152"
   },
   "outputs": [],
   "source": [
    "import pandas as pd\n",
    "import numpy as np"
   ]
  },
  {
   "cell_type": "code",
   "execution_count": 2,
   "id": "feb1d744",
   "metadata": {
    "colab": {
     "base_uri": "https://localhost:8080/"
    },
    "executionInfo": {
     "elapsed": 35,
     "status": "ok",
     "timestamp": 1682598475379,
     "user": {
      "displayName": "Mʀ Aŋoŋɱƴoʋs",
      "userId": "14245472023480066322"
     },
     "user_tz": -300
    },
    "id": "feb1d744",
    "outputId": "b58e8930-ef3f-40b6-b81e-0651e1378ea7"
   },
   "outputs": [
    {
     "data": {
      "text/plain": [
       "['India', 'Pakistan', 'USA', 'Nepal', 'Srilanka']"
      ]
     },
     "execution_count": 2,
     "metadata": {},
     "output_type": "execute_result"
    }
   ],
   "source": [
    "country = ['India','Pakistan','USA','Nepal','Srilanka']\n",
    "country"
   ]
  },
  {
   "cell_type": "markdown",
   "id": "a2b3ee83",
   "metadata": {
    "id": "a2b3ee83"
   },
   "source": [
    "## Use pd.series()"
   ]
  },
  {
   "cell_type": "code",
   "execution_count": 3,
   "id": "871e92cd",
   "metadata": {
    "colab": {
     "base_uri": "https://localhost:8080/"
    },
    "executionInfo": {
     "elapsed": 804,
     "status": "ok",
     "timestamp": 1682598480717,
     "user": {
      "displayName": "Mʀ Aŋoŋɱƴoʋs",
      "userId": "14245472023480066322"
     },
     "user_tz": -300
    },
    "id": "871e92cd",
    "outputId": "3b14975d-1b8b-440e-b611-07bafcd45a1d"
   },
   "outputs": [
    {
     "data": {
      "text/plain": [
       "0       India\n",
       "1    Pakistan\n",
       "2         USA\n",
       "3       Nepal\n",
       "4    Srilanka\n",
       "dtype: object"
      ]
     },
     "execution_count": 3,
     "metadata": {},
     "output_type": "execute_result"
    }
   ],
   "source": [
    "pd.Series(country)"
   ]
  },
  {
   "cell_type": "markdown",
   "id": "e1237eb2",
   "metadata": {
    "id": "e1237eb2"
   },
   "source": [
    "### Here 0 , 1, 2, 3 ,4 is the index and this Series represent as keys and values pair here index is the key and country name are Value\n",
    "<br>\n",
    "\n",
    "### and dtype Represent the data type"
   ]
  },
  {
   "cell_type": "markdown",
   "id": "798805a2",
   "metadata": {
    "id": "798805a2"
   },
   "source": [
    "# Set Custom Index "
   ]
  },
  {
   "cell_type": "code",
   "execution_count": 4,
   "id": "1818b5ac",
   "metadata": {
    "colab": {
     "base_uri": "https://localhost:8080/"
    },
    "executionInfo": {
     "elapsed": 21,
     "status": "ok",
     "timestamp": 1682598483063,
     "user": {
      "displayName": "Mʀ Aŋoŋɱƴoʋs",
      "userId": "14245472023480066322"
     },
     "user_tz": -300
    },
    "id": "1818b5ac",
    "outputId": "8c410f1b-3b5b-47a0-808f-8f6a3e248c65"
   },
   "outputs": [
    {
     "data": {
      "text/plain": [
       "maths       67\n",
       "english     57\n",
       "science     89\n",
       "hindi      100\n",
       "dtype: int64"
      ]
     },
     "execution_count": 4,
     "metadata": {},
     "output_type": "execute_result"
    }
   ],
   "source": [
    "# custom index\n",
    "marks = [67,57,89,100]\n",
    "subjects = ['maths','english','science','hindi']\n",
    "\n",
    "pd.Series(marks,index=subjects) # here subject (keys) are index and numbers are the Values"
   ]
  },
  {
   "cell_type": "markdown",
   "id": "bd7a02e9",
   "metadata": {
    "id": "bd7a02e9"
   },
   "source": [
    "# Use Dictionary in Series"
   ]
  },
  {
   "cell_type": "code",
   "execution_count": 5,
   "id": "7933883a",
   "metadata": {
    "colab": {
     "base_uri": "https://localhost:8080/"
    },
    "executionInfo": {
     "elapsed": 13,
     "status": "ok",
     "timestamp": 1682598485300,
     "user": {
      "displayName": "Mʀ Aŋoŋɱƴoʋs",
      "userId": "14245472023480066322"
     },
     "user_tz": -300
    },
    "id": "7933883a",
    "outputId": "c7047e98-3838-4e16-c15d-cee242aed0f9"
   },
   "outputs": [
    {
     "data": {
      "text/plain": [
       "maths       67\n",
       "english     57\n",
       "science     89\n",
       "Urdu       100\n",
       "dtype: int64"
      ]
     },
     "execution_count": 5,
     "metadata": {},
     "output_type": "execute_result"
    }
   ],
   "source": [
    "marks = {\n",
    "    'maths':67,\n",
    "    'english':57,\n",
    "    'science':89,\n",
    "    'Urdu':100\n",
    "}\n",
    "\n",
    "marks_series = pd.Series(marks)\n",
    "marks_series"
   ]
  },
  {
   "cell_type": "markdown",
   "id": "c5322466",
   "metadata": {
    "id": "c5322466"
   },
   "source": [
    "## Here index are the keys of Dictionary "
   ]
  },
  {
   "cell_type": "markdown",
   "id": "7f39e2ad",
   "metadata": {
    "id": "7f39e2ad"
   },
   "source": [
    "<br>\n",
    "\n",
    "# Name Parameter\n",
    "<br>"
   ]
  },
  {
   "cell_type": "code",
   "execution_count": 6,
   "id": "42600903",
   "metadata": {
    "colab": {
     "base_uri": "https://localhost:8080/"
    },
    "executionInfo": {
     "elapsed": 6,
     "status": "ok",
     "timestamp": 1682598487759,
     "user": {
      "displayName": "Mʀ Aŋoŋɱƴoʋs",
      "userId": "14245472023480066322"
     },
     "user_tz": -300
    },
    "id": "42600903",
    "outputId": "1871f466-a4dc-4444-aed5-896aa75770a9"
   },
   "outputs": [
    {
     "data": {
      "text/plain": [
       "maths       67\n",
       "english     57\n",
       "science     89\n",
       "Urdu       100\n",
       "Name: Mubeen ky Marks, dtype: int64"
      ]
     },
     "execution_count": 6,
     "metadata": {},
     "output_type": "execute_result"
    }
   ],
   "source": [
    "marks =  pd.Series(marks,name=\"Mubeen ky Marks\")\n",
    "marks"
   ]
  },
  {
   "cell_type": "markdown",
   "id": "06ee25b2",
   "metadata": {
    "id": "06ee25b2"
   },
   "source": [
    "# Common Series Attributes"
   ]
  },
  {
   "cell_type": "markdown",
   "id": "b0e161d1",
   "metadata": {
    "id": "b0e161d1"
   },
   "source": [
    "- ### .size"
   ]
  },
  {
   "cell_type": "code",
   "execution_count": 7,
   "id": "038024c3",
   "metadata": {
    "colab": {
     "base_uri": "https://localhost:8080/"
    },
    "executionInfo": {
     "elapsed": 21,
     "status": "ok",
     "timestamp": 1682598491508,
     "user": {
      "displayName": "Mʀ Aŋoŋɱƴoʋs",
      "userId": "14245472023480066322"
     },
     "user_tz": -300
    },
    "id": "038024c3",
    "outputId": "eff489db-5837-43ef-d5b3-0f3a1a6f4f0d"
   },
   "outputs": [
    {
     "data": {
      "text/plain": [
       "4"
      ]
     },
     "execution_count": 7,
     "metadata": {},
     "output_type": "execute_result"
    }
   ],
   "source": [
    "marks.size # check the size"
   ]
  },
  {
   "cell_type": "markdown",
   "id": "a533e26f",
   "metadata": {
    "id": "a533e26f"
   },
   "source": [
    "- ### .dtype"
   ]
  },
  {
   "cell_type": "code",
   "execution_count": 8,
   "id": "b520da7a",
   "metadata": {
    "colab": {
     "base_uri": "https://localhost:8080/"
    },
    "executionInfo": {
     "elapsed": 53,
     "status": "ok",
     "timestamp": 1682598493923,
     "user": {
      "displayName": "Mʀ Aŋoŋɱƴoʋs",
      "userId": "14245472023480066322"
     },
     "user_tz": -300
    },
    "id": "b520da7a",
    "outputId": "95d4ca36-24d8-400d-d6a2-7ab6a78a4079"
   },
   "outputs": [
    {
     "data": {
      "text/plain": [
       "dtype('int64')"
      ]
     },
     "execution_count": 8,
     "metadata": {},
     "output_type": "execute_result"
    }
   ],
   "source": [
    "marks.dtype # check data type"
   ]
  },
  {
   "cell_type": "markdown",
   "id": "56e13b75",
   "metadata": {
    "id": "56e13b75"
   },
   "source": [
    "- ### .name"
   ]
  },
  {
   "cell_type": "code",
   "execution_count": 9,
   "id": "fb9fd052",
   "metadata": {
    "colab": {
     "base_uri": "https://localhost:8080/",
     "height": 35
    },
    "executionInfo": {
     "elapsed": 64,
     "status": "ok",
     "timestamp": 1682598493945,
     "user": {
      "displayName": "Mʀ Aŋoŋɱƴoʋs",
      "userId": "14245472023480066322"
     },
     "user_tz": -300
    },
    "id": "fb9fd052",
    "outputId": "e23bd7e8-4d53-486a-8985-7609c92b0c3a"
   },
   "outputs": [
    {
     "data": {
      "text/plain": [
       "'Mubeen ky Marks'"
      ]
     },
     "execution_count": 9,
     "metadata": {},
     "output_type": "execute_result"
    }
   ],
   "source": [
    "marks.name # check the name"
   ]
  },
  {
   "cell_type": "markdown",
   "id": "3c260ff5",
   "metadata": {
    "id": "3c260ff5"
   },
   "source": [
    "- ### .index"
   ]
  },
  {
   "cell_type": "code",
   "execution_count": 10,
   "id": "5e764389",
   "metadata": {
    "colab": {
     "base_uri": "https://localhost:8080/"
    },
    "executionInfo": {
     "elapsed": 267,
     "status": "ok",
     "timestamp": 1682598495378,
     "user": {
      "displayName": "Mʀ Aŋoŋɱƴoʋs",
      "userId": "14245472023480066322"
     },
     "user_tz": -300
    },
    "id": "5e764389",
    "outputId": "0efd86dc-c913-4c07-9265-81df3cc5d611"
   },
   "outputs": [
    {
     "data": {
      "text/plain": [
       "Index(['maths', 'english', 'science', 'Urdu'], dtype='object')"
      ]
     },
     "execution_count": 10,
     "metadata": {},
     "output_type": "execute_result"
    }
   ],
   "source": [
    "marks.index # check index (keys)"
   ]
  },
  {
   "cell_type": "markdown",
   "id": "9ddeb9e3",
   "metadata": {
    "id": "9ddeb9e3"
   },
   "source": [
    "- ### values"
   ]
  },
  {
   "cell_type": "code",
   "execution_count": 11,
   "id": "c65dff6b",
   "metadata": {
    "colab": {
     "base_uri": "https://localhost:8080/"
    },
    "executionInfo": {
     "elapsed": 12,
     "status": "ok",
     "timestamp": 1682598495381,
     "user": {
      "displayName": "Mʀ Aŋoŋɱƴoʋs",
      "userId": "14245472023480066322"
     },
     "user_tz": -300
    },
    "id": "c65dff6b",
    "outputId": "b766905d-1509-4664-da8f-b46edec0fa61"
   },
   "outputs": [
    {
     "data": {
      "text/plain": [
       "array([ 67,  57,  89, 100])"
      ]
     },
     "execution_count": 11,
     "metadata": {},
     "output_type": "execute_result"
    }
   ],
   "source": [
    "marks.values"
   ]
  },
  {
   "cell_type": "markdown",
   "id": "52901152",
   "metadata": {
    "id": "52901152"
   },
   "source": [
    "- ### is_unique"
   ]
  },
  {
   "cell_type": "code",
   "execution_count": 12,
   "id": "042ac10d",
   "metadata": {
    "colab": {
     "base_uri": "https://localhost:8080/"
    },
    "executionInfo": {
     "elapsed": 19,
     "status": "ok",
     "timestamp": 1682598496547,
     "user": {
      "displayName": "Mʀ Aŋoŋɱƴoʋs",
      "userId": "14245472023480066322"
     },
     "user_tz": -300
    },
    "id": "042ac10d",
    "outputId": "2fe18289-1ed5-4773-bae0-2790b47023e9"
   },
   "outputs": [
    {
     "data": {
      "text/plain": [
       "True"
      ]
     },
     "execution_count": 12,
     "metadata": {},
     "output_type": "execute_result"
    }
   ],
   "source": [
    "marks.is_unique"
   ]
  },
  {
   "cell_type": "markdown",
   "id": "8cf468a7",
   "metadata": {
    "id": "8cf468a7"
   },
   "source": [
    "- ### .shape"
   ]
  },
  {
   "cell_type": "code",
   "execution_count": 13,
   "id": "fb51846e",
   "metadata": {
    "colab": {
     "base_uri": "https://localhost:8080/"
    },
    "executionInfo": {
     "elapsed": 17,
     "status": "ok",
     "timestamp": 1682598498147,
     "user": {
      "displayName": "Mʀ Aŋoŋɱƴoʋs",
      "userId": "14245472023480066322"
     },
     "user_tz": -300
    },
    "id": "fb51846e",
    "outputId": "e870725e-aaea-49e4-8b56-6487e8b4d454"
   },
   "outputs": [
    {
     "data": {
      "text/plain": [
       "(4,)"
      ]
     },
     "execution_count": 13,
     "metadata": {},
     "output_type": "execute_result"
    }
   ],
   "source": [
    "marks.shape"
   ]
  },
  {
   "cell_type": "markdown",
   "id": "f911b337",
   "metadata": {
    "id": "f911b337"
   },
   "source": [
    "# Working with csv file\n",
    "<br>"
   ]
  },
  {
   "cell_type": "code",
   "execution_count": 14,
   "id": "79cd2c88",
   "metadata": {
    "colab": {
     "base_uri": "https://localhost:8080/"
    },
    "executionInfo": {
     "elapsed": 51,
     "status": "ok",
     "timestamp": 1682598498673,
     "user": {
      "displayName": "Mʀ Aŋoŋɱƴoʋs",
      "userId": "14245472023480066322"
     },
     "user_tz": -300
    },
    "id": "79cd2c88",
    "outputId": "26e3439e-944c-47c3-a4c5-9b70b33c8ff0"
   },
   "outputs": [
    {
     "name": "stdout",
     "output_type": "stream",
     "text": [
      "bollywood.csv  ipl-matches.csv\tkohli_ipl.csv  movies.csv  subs.csv\r\n"
     ]
    }
   ],
   "source": [
    "!ls datasets/"
   ]
  },
  {
   "cell_type": "markdown",
   "id": "a607c45e",
   "metadata": {
    "id": "a607c45e"
   },
   "source": [
    "## pd.read_csv()"
   ]
  },
  {
   "cell_type": "code",
   "execution_count": 15,
   "id": "1229efe4",
   "metadata": {
    "colab": {
     "base_uri": "https://localhost:8080/",
     "height": 424
    },
    "executionInfo": {
     "elapsed": 43,
     "status": "ok",
     "timestamp": 1682598499247,
     "user": {
      "displayName": "Mʀ Aŋoŋɱƴoʋs",
      "userId": "14245472023480066322"
     },
     "user_tz": -300
    },
    "id": "1229efe4",
    "outputId": "c94b8c1b-bd43-4d3d-dd06-ab9fc9241887"
   },
   "outputs": [
    {
     "data": {
      "text/html": [
       "<div>\n",
       "<style scoped>\n",
       "    .dataframe tbody tr th:only-of-type {\n",
       "        vertical-align: middle;\n",
       "    }\n",
       "\n",
       "    .dataframe tbody tr th {\n",
       "        vertical-align: top;\n",
       "    }\n",
       "\n",
       "    .dataframe thead th {\n",
       "        text-align: right;\n",
       "    }\n",
       "</style>\n",
       "<table border=\"1\" class=\"dataframe\">\n",
       "  <thead>\n",
       "    <tr style=\"text-align: right;\">\n",
       "      <th></th>\n",
       "      <th>Subscribers gained</th>\n",
       "    </tr>\n",
       "  </thead>\n",
       "  <tbody>\n",
       "    <tr>\n",
       "      <th>0</th>\n",
       "      <td>48</td>\n",
       "    </tr>\n",
       "    <tr>\n",
       "      <th>1</th>\n",
       "      <td>57</td>\n",
       "    </tr>\n",
       "    <tr>\n",
       "      <th>2</th>\n",
       "      <td>40</td>\n",
       "    </tr>\n",
       "    <tr>\n",
       "      <th>3</th>\n",
       "      <td>43</td>\n",
       "    </tr>\n",
       "    <tr>\n",
       "      <th>4</th>\n",
       "      <td>44</td>\n",
       "    </tr>\n",
       "    <tr>\n",
       "      <th>...</th>\n",
       "      <td>...</td>\n",
       "    </tr>\n",
       "    <tr>\n",
       "      <th>360</th>\n",
       "      <td>231</td>\n",
       "    </tr>\n",
       "    <tr>\n",
       "      <th>361</th>\n",
       "      <td>226</td>\n",
       "    </tr>\n",
       "    <tr>\n",
       "      <th>362</th>\n",
       "      <td>155</td>\n",
       "    </tr>\n",
       "    <tr>\n",
       "      <th>363</th>\n",
       "      <td>144</td>\n",
       "    </tr>\n",
       "    <tr>\n",
       "      <th>364</th>\n",
       "      <td>172</td>\n",
       "    </tr>\n",
       "  </tbody>\n",
       "</table>\n",
       "<p>365 rows × 1 columns</p>\n",
       "</div>"
      ],
      "text/plain": [
       "     Subscribers gained\n",
       "0                    48\n",
       "1                    57\n",
       "2                    40\n",
       "3                    43\n",
       "4                    44\n",
       "..                  ...\n",
       "360                 231\n",
       "361                 226\n",
       "362                 155\n",
       "363                 144\n",
       "364                 172\n",
       "\n",
       "[365 rows x 1 columns]"
      ]
     },
     "execution_count": 15,
     "metadata": {},
     "output_type": "execute_result"
    }
   ],
   "source": [
    "data = pd.read_csv(\"./datasets/subs.csv\")\n",
    "data"
   ]
  },
  {
   "cell_type": "markdown",
   "id": "21817ef2",
   "metadata": {
    "id": "21817ef2"
   },
   "source": [
    "## Check Type"
   ]
  },
  {
   "cell_type": "code",
   "execution_count": 16,
   "id": "5bce6de5",
   "metadata": {
    "colab": {
     "base_uri": "https://localhost:8080/"
    },
    "executionInfo": {
     "elapsed": 14,
     "status": "ok",
     "timestamp": 1682598503703,
     "user": {
      "displayName": "Mʀ Aŋoŋɱƴoʋs",
      "userId": "14245472023480066322"
     },
     "user_tz": -300
    },
    "id": "5bce6de5",
    "outputId": "e7b95261-15f7-4459-daa0-3163fb7b0a2d"
   },
   "outputs": [
    {
     "data": {
      "text/plain": [
       "pandas.core.frame.DataFrame"
      ]
     },
     "execution_count": 16,
     "metadata": {},
     "output_type": "execute_result"
    }
   ],
   "source": [
    "type(data)"
   ]
  },
  {
   "cell_type": "markdown",
   "id": "499f8cf8",
   "metadata": {
    "id": "499f8cf8"
   },
   "source": [
    "## Check Dimension"
   ]
  },
  {
   "cell_type": "code",
   "execution_count": 17,
   "id": "c3f39494",
   "metadata": {
    "colab": {
     "base_uri": "https://localhost:8080/"
    },
    "executionInfo": {
     "elapsed": 9,
     "status": "ok",
     "timestamp": 1682598505933,
     "user": {
      "displayName": "Mʀ Aŋoŋɱƴoʋs",
      "userId": "14245472023480066322"
     },
     "user_tz": -300
    },
    "id": "c3f39494",
    "outputId": "bff8cd4c-f754-4361-e58b-224bdc0c0481"
   },
   "outputs": [
    {
     "data": {
      "text/plain": [
       "2"
      ]
     },
     "execution_count": 17,
     "metadata": {},
     "output_type": "execute_result"
    }
   ],
   "source": [
    "data.ndim"
   ]
  },
  {
   "cell_type": "markdown",
   "id": "256f0aee",
   "metadata": {
    "id": "256f0aee"
   },
   "source": [
    "## Note in Default pd.read_csv() treat as a Dataframe So used .squeeze(\"columns\") method"
   ]
  },
  {
   "cell_type": "code",
   "execution_count": 18,
   "id": "043712c4",
   "metadata": {
    "colab": {
     "base_uri": "https://localhost:8080/"
    },
    "executionInfo": {
     "elapsed": 51,
     "status": "ok",
     "timestamp": 1682598508743,
     "user": {
      "displayName": "Mʀ Aŋoŋɱƴoʋs",
      "userId": "14245472023480066322"
     },
     "user_tz": -300
    },
    "id": "043712c4",
    "outputId": "5b60a3a3-370e-44e0-a236-7a476ca98605"
   },
   "outputs": [
    {
     "data": {
      "text/plain": [
       "0       48\n",
       "1       57\n",
       "2       40\n",
       "3       43\n",
       "4       44\n",
       "      ... \n",
       "360    231\n",
       "361    226\n",
       "362    155\n",
       "363    144\n",
       "364    172\n",
       "Name: Subscribers gained, Length: 365, dtype: int64"
      ]
     },
     "execution_count": 18,
     "metadata": {},
     "output_type": "execute_result"
    }
   ],
   "source": [
    "data = pd.read_csv(\"./datasets/subs.csv\").squeeze(\"columns\")\n",
    "data"
   ]
  },
  {
   "cell_type": "markdown",
   "id": "895d2fe7",
   "metadata": {
    "id": "895d2fe7"
   },
   "source": [
    "## Now check again type "
   ]
  },
  {
   "cell_type": "code",
   "execution_count": 19,
   "id": "0aa6001c",
   "metadata": {
    "colab": {
     "base_uri": "https://localhost:8080/"
    },
    "executionInfo": {
     "elapsed": 29,
     "status": "ok",
     "timestamp": 1682598516962,
     "user": {
      "displayName": "Mʀ Aŋoŋɱƴoʋs",
      "userId": "14245472023480066322"
     },
     "user_tz": -300
    },
    "id": "0aa6001c",
    "outputId": "396a37e9-8b46-4319-fb19-900805a9a4b9"
   },
   "outputs": [
    {
     "data": {
      "text/plain": [
       "pandas.core.series.Series"
      ]
     },
     "execution_count": 19,
     "metadata": {},
     "output_type": "execute_result"
    }
   ],
   "source": [
    "type(data)"
   ]
  },
  {
   "cell_type": "markdown",
   "id": "05c9d616",
   "metadata": {
    "id": "05c9d616"
   },
   "source": [
    "## Check Dimension"
   ]
  },
  {
   "cell_type": "code",
   "execution_count": 20,
   "id": "500db301",
   "metadata": {
    "colab": {
     "base_uri": "https://localhost:8080/"
    },
    "executionInfo": {
     "elapsed": 28,
     "status": "ok",
     "timestamp": 1682598516966,
     "user": {
      "displayName": "Mʀ Aŋoŋɱƴoʋs",
      "userId": "14245472023480066322"
     },
     "user_tz": -300
    },
    "id": "500db301",
    "outputId": "7bce4705-9c18-4bd1-d800-2a566145db9c"
   },
   "outputs": [
    {
     "data": {
      "text/plain": [
       "1"
      ]
     },
     "execution_count": 20,
     "metadata": {},
     "output_type": "execute_result"
    }
   ],
   "source": [
    "data.ndim"
   ]
  },
  {
   "cell_type": "markdown",
   "id": "cfac960f",
   "metadata": {
    "id": "cfac960f"
   },
   "source": [
    "# Now Change the datatype\n",
    "## 2 Dimension data type"
   ]
  },
  {
   "cell_type": "code",
   "execution_count": 21,
   "id": "5c3be039",
   "metadata": {
    "colab": {
     "base_uri": "https://localhost:8080/"
    },
    "executionInfo": {
     "elapsed": 18,
     "status": "ok",
     "timestamp": 1682598517441,
     "user": {
      "displayName": "Mʀ Aŋoŋɱƴoʋs",
      "userId": "14245472023480066322"
     },
     "user_tz": -300
    },
    "id": "5c3be039",
    "outputId": "e0151465-e759-49f0-e5a0-429d70aee6df"
   },
   "outputs": [
    {
     "name": "stdout",
     "output_type": "stream",
     "text": [
      "datasets/kohli_ipl.csv\r\n"
     ]
    }
   ],
   "source": [
    "!ls datasets/kohli_ipl.csv"
   ]
  },
  {
   "cell_type": "code",
   "execution_count": 22,
   "id": "f8c18322",
   "metadata": {
    "colab": {
     "base_uri": "https://localhost:8080/",
     "height": 424
    },
    "executionInfo": {
     "elapsed": 67,
     "status": "ok",
     "timestamp": 1682598518041,
     "user": {
      "displayName": "Mʀ Aŋoŋɱƴoʋs",
      "userId": "14245472023480066322"
     },
     "user_tz": -300
    },
    "id": "f8c18322",
    "outputId": "f9c7f140-39e3-4cfd-e167-4f2750fe2a12"
   },
   "outputs": [
    {
     "data": {
      "text/html": [
       "<div>\n",
       "<style scoped>\n",
       "    .dataframe tbody tr th:only-of-type {\n",
       "        vertical-align: middle;\n",
       "    }\n",
       "\n",
       "    .dataframe tbody tr th {\n",
       "        vertical-align: top;\n",
       "    }\n",
       "\n",
       "    .dataframe thead th {\n",
       "        text-align: right;\n",
       "    }\n",
       "</style>\n",
       "<table border=\"1\" class=\"dataframe\">\n",
       "  <thead>\n",
       "    <tr style=\"text-align: right;\">\n",
       "      <th></th>\n",
       "      <th>match_no</th>\n",
       "      <th>runs</th>\n",
       "    </tr>\n",
       "  </thead>\n",
       "  <tbody>\n",
       "    <tr>\n",
       "      <th>0</th>\n",
       "      <td>1</td>\n",
       "      <td>1</td>\n",
       "    </tr>\n",
       "    <tr>\n",
       "      <th>1</th>\n",
       "      <td>2</td>\n",
       "      <td>23</td>\n",
       "    </tr>\n",
       "    <tr>\n",
       "      <th>2</th>\n",
       "      <td>3</td>\n",
       "      <td>13</td>\n",
       "    </tr>\n",
       "    <tr>\n",
       "      <th>3</th>\n",
       "      <td>4</td>\n",
       "      <td>12</td>\n",
       "    </tr>\n",
       "    <tr>\n",
       "      <th>4</th>\n",
       "      <td>5</td>\n",
       "      <td>1</td>\n",
       "    </tr>\n",
       "    <tr>\n",
       "      <th>...</th>\n",
       "      <td>...</td>\n",
       "      <td>...</td>\n",
       "    </tr>\n",
       "    <tr>\n",
       "      <th>210</th>\n",
       "      <td>211</td>\n",
       "      <td>0</td>\n",
       "    </tr>\n",
       "    <tr>\n",
       "      <th>211</th>\n",
       "      <td>212</td>\n",
       "      <td>20</td>\n",
       "    </tr>\n",
       "    <tr>\n",
       "      <th>212</th>\n",
       "      <td>213</td>\n",
       "      <td>73</td>\n",
       "    </tr>\n",
       "    <tr>\n",
       "      <th>213</th>\n",
       "      <td>214</td>\n",
       "      <td>25</td>\n",
       "    </tr>\n",
       "    <tr>\n",
       "      <th>214</th>\n",
       "      <td>215</td>\n",
       "      <td>7</td>\n",
       "    </tr>\n",
       "  </tbody>\n",
       "</table>\n",
       "<p>215 rows × 2 columns</p>\n",
       "</div>"
      ],
      "text/plain": [
       "     match_no  runs\n",
       "0           1     1\n",
       "1           2    23\n",
       "2           3    13\n",
       "3           4    12\n",
       "4           5     1\n",
       "..        ...   ...\n",
       "210       211     0\n",
       "211       212    20\n",
       "212       213    73\n",
       "213       214    25\n",
       "214       215     7\n",
       "\n",
       "[215 rows x 2 columns]"
      ]
     },
     "execution_count": 22,
     "metadata": {},
     "output_type": "execute_result"
    }
   ],
   "source": [
    "data =  pd.read_csv(\"datasets/kohli_ipl.csv\").squeeze(\"columns\")\n",
    "data"
   ]
  },
  {
   "cell_type": "markdown",
   "id": "a28fb0d1",
   "metadata": {
    "id": "a28fb0d1"
   },
   "source": [
    "## Check Data Type"
   ]
  },
  {
   "cell_type": "code",
   "execution_count": 23,
   "id": "cae31511",
   "metadata": {
    "colab": {
     "base_uri": "https://localhost:8080/"
    },
    "executionInfo": {
     "elapsed": 21,
     "status": "ok",
     "timestamp": 1682598524472,
     "user": {
      "displayName": "Mʀ Aŋoŋɱƴoʋs",
      "userId": "14245472023480066322"
     },
     "user_tz": -300
    },
    "id": "cae31511",
    "outputId": "d1510978-ceac-4003-c521-e90ca2793dfc"
   },
   "outputs": [
    {
     "data": {
      "text/plain": [
       "pandas.core.frame.DataFrame"
      ]
     },
     "execution_count": 23,
     "metadata": {},
     "output_type": "execute_result"
    }
   ],
   "source": [
    "type(data)"
   ]
  },
  {
   "cell_type": "markdown",
   "id": "10c0f439",
   "metadata": {
    "id": "10c0f439"
   },
   "source": [
    "## Use index_col='match_no for treat as 1 Dimension "
   ]
  },
  {
   "cell_type": "code",
   "execution_count": 24,
   "id": "b0f2932a",
   "metadata": {
    "colab": {
     "base_uri": "https://localhost:8080/"
    },
    "executionInfo": {
     "elapsed": 13,
     "status": "ok",
     "timestamp": 1682598526790,
     "user": {
      "displayName": "Mʀ Aŋoŋɱƴoʋs",
      "userId": "14245472023480066322"
     },
     "user_tz": -300
    },
    "id": "b0f2932a",
    "outputId": "4e563704-b21f-4906-da9d-123b4e18b3a4"
   },
   "outputs": [
    {
     "data": {
      "text/plain": [
       "match_no\n",
       "1       1\n",
       "2      23\n",
       "3      13\n",
       "4      12\n",
       "5       1\n",
       "       ..\n",
       "211     0\n",
       "212    20\n",
       "213    73\n",
       "214    25\n",
       "215     7\n",
       "Name: runs, Length: 215, dtype: int64"
      ]
     },
     "execution_count": 24,
     "metadata": {},
     "output_type": "execute_result"
    }
   ],
   "source": [
    "data =  pd.read_csv(\"datasets/kohli_ipl.csv\",index_col=\"match_no\").squeeze(\"columns\")\n",
    "data"
   ]
  },
  {
   "cell_type": "markdown",
   "id": "31133c27",
   "metadata": {
    "id": "31133c27"
   },
   "source": [
    "## Now again check the Data Type"
   ]
  },
  {
   "cell_type": "code",
   "execution_count": 25,
   "id": "685e9327",
   "metadata": {
    "colab": {
     "base_uri": "https://localhost:8080/"
    },
    "executionInfo": {
     "elapsed": 21,
     "status": "ok",
     "timestamp": 1682598530964,
     "user": {
      "displayName": "Mʀ Aŋoŋɱƴoʋs",
      "userId": "14245472023480066322"
     },
     "user_tz": -300
    },
    "id": "685e9327",
    "outputId": "0733d2d4-783f-43b5-b059-42dafa87e00f"
   },
   "outputs": [
    {
     "data": {
      "text/plain": [
       "pandas.core.series.Series"
      ]
     },
     "execution_count": 25,
     "metadata": {},
     "output_type": "execute_result"
    }
   ],
   "source": [
    "type(data)"
   ]
  },
  {
   "cell_type": "markdown",
   "id": "bea8934e",
   "metadata": {
    "id": "bea8934e"
   },
   "source": [
    "## .head()"
   ]
  },
  {
   "cell_type": "code",
   "execution_count": 26,
   "id": "eab6b8e2",
   "metadata": {
    "colab": {
     "base_uri": "https://localhost:8080/"
    },
    "executionInfo": {
     "elapsed": 5,
     "status": "ok",
     "timestamp": 1682598534315,
     "user": {
      "displayName": "Mʀ Aŋoŋɱƴoʋs",
      "userId": "14245472023480066322"
     },
     "user_tz": -300
    },
    "id": "eab6b8e2",
    "outputId": "c704f8f2-021a-42df-e576-4ef895d70561"
   },
   "outputs": [
    {
     "data": {
      "text/plain": [
       "match_no\n",
       "1     1\n",
       "2    23\n",
       "3    13\n",
       "4    12\n",
       "5     1\n",
       "Name: runs, dtype: int64"
      ]
     },
     "execution_count": 26,
     "metadata": {},
     "output_type": "execute_result"
    }
   ],
   "source": [
    "data.head() # return 5 top rows"
   ]
  },
  {
   "cell_type": "code",
   "execution_count": 27,
   "id": "21bb55ca",
   "metadata": {
    "colab": {
     "base_uri": "https://localhost:8080/"
    },
    "executionInfo": {
     "elapsed": 7,
     "status": "ok",
     "timestamp": 1682598535575,
     "user": {
      "displayName": "Mʀ Aŋoŋɱƴoʋs",
      "userId": "14245472023480066322"
     },
     "user_tz": -300
    },
    "id": "21bb55ca",
    "outputId": "6a9c2639-a8fd-4e53-84dc-a7be28b14f61"
   },
   "outputs": [
    {
     "data": {
      "text/plain": [
       "match_no\n",
       "1     1\n",
       "2    23\n",
       "3    13\n",
       "Name: runs, dtype: int64"
      ]
     },
     "execution_count": 27,
     "metadata": {},
     "output_type": "execute_result"
    }
   ],
   "source": [
    "data.head(3) # change no of rows"
   ]
  },
  {
   "cell_type": "markdown",
   "id": "bd7ad0b6",
   "metadata": {
    "id": "bd7ad0b6"
   },
   "source": [
    "## .tail()"
   ]
  },
  {
   "cell_type": "code",
   "execution_count": 28,
   "id": "098c4915",
   "metadata": {
    "colab": {
     "base_uri": "https://localhost:8080/"
    },
    "executionInfo": {
     "elapsed": 46,
     "status": "ok",
     "timestamp": 1682598537054,
     "user": {
      "displayName": "Mʀ Aŋoŋɱƴoʋs",
      "userId": "14245472023480066322"
     },
     "user_tz": -300
    },
    "id": "098c4915",
    "outputId": "376121b7-6b8b-47c2-c4f3-0996d17fd057"
   },
   "outputs": [
    {
     "data": {
      "text/plain": [
       "match_no\n",
       "211     0\n",
       "212    20\n",
       "213    73\n",
       "214    25\n",
       "215     7\n",
       "Name: runs, dtype: int64"
      ]
     },
     "execution_count": 28,
     "metadata": {},
     "output_type": "execute_result"
    }
   ],
   "source": [
    "data.tail() # return 5 last rows"
   ]
  },
  {
   "cell_type": "code",
   "execution_count": 29,
   "id": "89178a02",
   "metadata": {
    "colab": {
     "base_uri": "https://localhost:8080/"
    },
    "executionInfo": {
     "elapsed": 5,
     "status": "ok",
     "timestamp": 1682598538320,
     "user": {
      "displayName": "Mʀ Aŋoŋɱƴoʋs",
      "userId": "14245472023480066322"
     },
     "user_tz": -300
    },
    "id": "89178a02",
    "outputId": "0b448277-1a88-4764-8b36-5d6152131738"
   },
   "outputs": [
    {
     "data": {
      "text/plain": [
       "match_no\n",
       "213    73\n",
       "214    25\n",
       "215     7\n",
       "Name: runs, dtype: int64"
      ]
     },
     "execution_count": 29,
     "metadata": {},
     "output_type": "execute_result"
    }
   ],
   "source": [
    "data.tail(3) # change no of rows"
   ]
  },
  {
   "cell_type": "markdown",
   "id": "3652e853",
   "metadata": {
    "id": "3652e853"
   },
   "source": [
    "## .sample()"
   ]
  },
  {
   "cell_type": "code",
   "execution_count": 30,
   "id": "e1be3e08",
   "metadata": {
    "colab": {
     "base_uri": "https://localhost:8080/"
    },
    "executionInfo": {
     "elapsed": 16,
     "status": "ok",
     "timestamp": 1682598540447,
     "user": {
      "displayName": "Mʀ Aŋoŋɱƴoʋs",
      "userId": "14245472023480066322"
     },
     "user_tz": -300
    },
    "id": "e1be3e08",
    "outputId": "64d2969d-e6a7-48c0-ab53-8c58389b4116"
   },
   "outputs": [
    {
     "data": {
      "text/plain": [
       "match_no\n",
       "155    4\n",
       "Name: runs, dtype: int64"
      ]
     },
     "execution_count": 30,
     "metadata": {},
     "output_type": "execute_result"
    }
   ],
   "source": [
    "data.sample() # random sample 1 rows"
   ]
  },
  {
   "cell_type": "code",
   "execution_count": 31,
   "id": "9b993eb0",
   "metadata": {
    "colab": {
     "base_uri": "https://localhost:8080/"
    },
    "executionInfo": {
     "elapsed": 36,
     "status": "ok",
     "timestamp": 1682598551106,
     "user": {
      "displayName": "Mʀ Aŋoŋɱƴoʋs",
      "userId": "14245472023480066322"
     },
     "user_tz": -300
    },
    "id": "9b993eb0",
    "outputId": "b4c4b527-80be-4b3f-b257-0e70b3a70957"
   },
   "outputs": [
    {
     "data": {
      "text/plain": [
       "match_no\n",
       "215    7\n",
       "Name: runs, dtype: int64"
      ]
     },
     "execution_count": 31,
     "metadata": {},
     "output_type": "execute_result"
    }
   ],
   "source": [
    "data.sample() # random sample 1 rows"
   ]
  },
  {
   "cell_type": "code",
   "execution_count": 32,
   "id": "c9f60e57",
   "metadata": {
    "colab": {
     "base_uri": "https://localhost:8080/"
    },
    "executionInfo": {
     "elapsed": 206,
     "status": "ok",
     "timestamp": 1682598553259,
     "user": {
      "displayName": "Mʀ Aŋoŋɱƴoʋs",
      "userId": "14245472023480066322"
     },
     "user_tz": -300
    },
    "id": "c9f60e57",
    "outputId": "af315eff-95d6-4b7f-89cb-fb8961763993"
   },
   "outputs": [
    {
     "data": {
      "text/plain": [
       "match_no\n",
       "7      34\n",
       "103    51\n",
       "17     22\n",
       "185    33\n",
       "30     38\n",
       "Name: runs, dtype: int64"
      ]
     },
     "execution_count": 32,
     "metadata": {},
     "output_type": "execute_result"
    }
   ],
   "source": [
    "data.sample(5) # change no of sample"
   ]
  },
  {
   "cell_type": "markdown",
   "id": "c9582f6d",
   "metadata": {
    "id": "c9582f6d"
   },
   "source": [
    "## .value_counts()"
   ]
  },
  {
   "cell_type": "code",
   "execution_count": 33,
   "id": "2fad630f",
   "metadata": {
    "colab": {
     "base_uri": "https://localhost:8080/"
    },
    "executionInfo": {
     "elapsed": 521,
     "status": "ok",
     "timestamp": 1682598570600,
     "user": {
      "displayName": "Mʀ Aŋoŋɱƴoʋs",
      "userId": "14245472023480066322"
     },
     "user_tz": -300
    },
    "id": "2fad630f",
    "outputId": "3836a271-8396-4586-8dfa-ce030d7fb225"
   },
   "outputs": [
    {
     "data": {
      "text/plain": [
       "0     9\n",
       "1     8\n",
       "12    8\n",
       "9     7\n",
       "35    6\n",
       "     ..\n",
       "36    1\n",
       "45    1\n",
       "71    1\n",
       "37    1\n",
       "53    1\n",
       "Name: runs, Length: 78, dtype: int64"
      ]
     },
     "execution_count": 33,
     "metadata": {},
     "output_type": "execute_result"
    }
   ],
   "source": [
    "data.value_counts()"
   ]
  },
  {
   "cell_type": "code",
   "execution_count": 34,
   "id": "9119c882",
   "metadata": {
    "colab": {
     "base_uri": "https://localhost:8080/"
    },
    "executionInfo": {
     "elapsed": 30,
     "status": "ok",
     "timestamp": 1682598574720,
     "user": {
      "displayName": "Mʀ Aŋoŋɱƴoʋs",
      "userId": "14245472023480066322"
     },
     "user_tz": -300
    },
    "id": "9119c882",
    "outputId": "bd7c5187-c9a2-48bb-a89c-1b86483c248c"
   },
   "outputs": [
    {
     "data": {
      "text/plain": [
       "movie\n",
       "Uri: The Surgical Strike                   Vicky Kaushal\n",
       "Battalion 609                                Vicky Ahuja\n",
       "The Accidental Prime Minister (film)         Anupam Kher\n",
       "Why Cheat India                            Emraan Hashmi\n",
       "Evening Shadows                         Mona Ambegaonkar\n",
       "                                              ...       \n",
       "Hum Tumhare Hain Sanam                    Shah Rukh Khan\n",
       "Aankhen (2002 film)                     Amitabh Bachchan\n",
       "Saathiya (film)                             Vivek Oberoi\n",
       "Company (film)                                Ajay Devgn\n",
       "Awara Paagal Deewana                        Akshay Kumar\n",
       "Name: lead, Length: 1500, dtype: object"
      ]
     },
     "execution_count": 34,
     "metadata": {},
     "output_type": "execute_result"
    }
   ],
   "source": [
    "movies = pd.read_csv('./datasets/bollywood.csv',index_col='movie').squeeze(\"columns\")\n",
    "movies"
   ]
  },
  {
   "cell_type": "code",
   "execution_count": 35,
   "id": "3143e7f3",
   "metadata": {
    "id": "3143e7f3",
    "outputId": "382e8747-4c52-4612-f5d5-e010fc507a8a"
   },
   "outputs": [
    {
     "data": {
      "text/plain": [
       "Akshay Kumar        48\n",
       "Amitabh Bachchan    45\n",
       "Ajay Devgn          38\n",
       "Salman Khan         31\n",
       "Sanjay Dutt         26\n",
       "                    ..\n",
       "Diganth              1\n",
       "Parveen Kaur         1\n",
       "Seema Azmi           1\n",
       "Akanksha Puri        1\n",
       "Edwin Fernandes      1\n",
       "Name: lead, Length: 566, dtype: int64"
      ]
     },
     "execution_count": 35,
     "metadata": {},
     "output_type": "execute_result"
    }
   ],
   "source": [
    "movies.value_counts() # values_count()"
   ]
  },
  {
   "cell_type": "markdown",
   "id": "0283f14e",
   "metadata": {
    "id": "0283f14e"
   },
   "source": [
    "## .sort_values()"
   ]
  },
  {
   "cell_type": "code",
   "execution_count": 36,
   "id": "8b24c070",
   "metadata": {
    "colab": {
     "base_uri": "https://localhost:8080/"
    },
    "executionInfo": {
     "elapsed": 1500,
     "status": "ok",
     "timestamp": 1682598597847,
     "user": {
      "displayName": "Mʀ Aŋoŋɱƴoʋs",
      "userId": "14245472023480066322"
     },
     "user_tz": -300
    },
    "id": "8b24c070",
    "outputId": "f12afe66-1ece-457a-beb7-2032dea395d0"
   },
   "outputs": [
    {
     "data": {
      "text/plain": [
       "movie\n",
       "Qaidi Band                            Aadar Jain\n",
       "Roar: Tigers of the Sundarbans      Aadil Chahal\n",
       "Lipstick Under My Burkha            Aahana Kumra\n",
       "Raat Gayi Baat Gayi?                Aamir Bashir\n",
       "Talaash: The Answer Lies Within       Aamir Khan\n",
       "                                        ...     \n",
       "Dil Toh Deewana Hai                  Zeenat Aman\n",
       "Sallu Ki Shaadi                      Zeenat Aman\n",
       "Strings of Passion                   Zeenat Aman\n",
       "Dunno Y... Na Jaane Kyon             Zeenat Aman\n",
       "Taj Mahal: An Eternal Love Story     Zulfi Sayed\n",
       "Name: lead, Length: 1500, dtype: object"
      ]
     },
     "execution_count": 36,
     "metadata": {},
     "output_type": "execute_result"
    }
   ],
   "source": [
    "movies.sort_values()"
   ]
  },
  {
   "cell_type": "code",
   "execution_count": 37,
   "id": "d6ca557d",
   "metadata": {
    "colab": {
     "base_uri": "https://localhost:8080/"
    },
    "executionInfo": {
     "elapsed": 30,
     "status": "ok",
     "timestamp": 1682598598589,
     "user": {
      "displayName": "Mʀ Aŋoŋɱƴoʋs",
      "userId": "14245472023480066322"
     },
     "user_tz": -300
    },
    "id": "d6ca557d",
    "outputId": "ff0e73dc-8f6e-43b3-b6ec-67ffa8d673b9"
   },
   "outputs": [
    {
     "data": {
      "text/plain": [
       "movie\n",
       "Taj Mahal: An Eternal Love Story     Zulfi Sayed\n",
       "Dil Toh Deewana Hai                  Zeenat Aman\n",
       "Strings of Passion                   Zeenat Aman\n",
       "Sallu Ki Shaadi                      Zeenat Aman\n",
       "Dunno Y... Na Jaane Kyon             Zeenat Aman\n",
       "                                        ...     \n",
       "Fanaa (2006 film)                     Aamir Khan\n",
       "Raat Gayi Baat Gayi?                Aamir Bashir\n",
       "Lipstick Under My Burkha            Aahana Kumra\n",
       "Roar: Tigers of the Sundarbans      Aadil Chahal\n",
       "Qaidi Band                            Aadar Jain\n",
       "Name: lead, Length: 1500, dtype: object"
      ]
     },
     "execution_count": 37,
     "metadata": {},
     "output_type": "execute_result"
    }
   ],
   "source": [
    "movies.sort_values(ascending=False) # descending order"
   ]
  },
  {
   "cell_type": "markdown",
   "id": "6537fc4b",
   "metadata": {
    "id": "6537fc4b"
   },
   "source": [
    "## .sort_index()"
   ]
  },
  {
   "cell_type": "code",
   "execution_count": 38,
   "id": "b4630dc6",
   "metadata": {
    "colab": {
     "base_uri": "https://localhost:8080/"
    },
    "executionInfo": {
     "elapsed": 7,
     "status": "ok",
     "timestamp": 1682598602378,
     "user": {
      "displayName": "Mʀ Aŋoŋɱƴoʋs",
      "userId": "14245472023480066322"
     },
     "user_tz": -300
    },
    "id": "b4630dc6",
    "outputId": "60d2da30-e08c-4261-aced-ccabcf24ecf2"
   },
   "outputs": [
    {
     "data": {
      "text/plain": [
       "match_no\n",
       "1       1\n",
       "2      23\n",
       "3      13\n",
       "4      12\n",
       "5       1\n",
       "       ..\n",
       "211     0\n",
       "212    20\n",
       "213    73\n",
       "214    25\n",
       "215     7\n",
       "Name: runs, Length: 215, dtype: int64"
      ]
     },
     "execution_count": 38,
     "metadata": {},
     "output_type": "execute_result"
    }
   ],
   "source": [
    "data.sort_index()"
   ]
  },
  {
   "cell_type": "code",
   "execution_count": 39,
   "id": "3e2a17aa",
   "metadata": {
    "colab": {
     "base_uri": "https://localhost:8080/"
    },
    "executionInfo": {
     "elapsed": 11,
     "status": "ok",
     "timestamp": 1682598607056,
     "user": {
      "displayName": "Mʀ Aŋoŋɱƴoʋs",
      "userId": "14245472023480066322"
     },
     "user_tz": -300
    },
    "id": "3e2a17aa",
    "outputId": "09981ec3-9d44-4f32-e3a6-ff6e29c27189"
   },
   "outputs": [
    {
     "data": {
      "text/plain": [
       "match_no\n",
       "1       1\n",
       "2      23\n",
       "3      13\n",
       "4      12\n",
       "5       1\n",
       "       ..\n",
       "211     0\n",
       "212    20\n",
       "213    73\n",
       "214    25\n",
       "215     7\n",
       "Name: runs, Length: 215, dtype: int64"
      ]
     },
     "execution_count": 39,
     "metadata": {},
     "output_type": "execute_result"
    }
   ],
   "source": [
    "data.sort_index(ascending=False) # descending order\n",
    "data"
   ]
  },
  {
   "cell_type": "code",
   "execution_count": 40,
   "id": "5854cb91",
   "metadata": {
    "colab": {
     "base_uri": "https://localhost:8080/"
    },
    "executionInfo": {
     "elapsed": 38,
     "status": "ok",
     "timestamp": 1682598608098,
     "user": {
      "displayName": "Mʀ Aŋoŋɱƴoʋs",
      "userId": "14245472023480066322"
     },
     "user_tz": -300
    },
    "id": "5854cb91",
    "outputId": "5acc02ee-d2cb-4e96-c821-05681768aba5"
   },
   "outputs": [
    {
     "data": {
      "text/plain": [
       "match_no\n",
       "215     7\n",
       "214    25\n",
       "213    73\n",
       "212    20\n",
       "211     0\n",
       "       ..\n",
       "5       1\n",
       "4      12\n",
       "3      13\n",
       "2      23\n",
       "1       1\n",
       "Name: runs, Length: 215, dtype: int64"
      ]
     },
     "execution_count": 40,
     "metadata": {},
     "output_type": "execute_result"
    }
   ],
   "source": [
    "data.sort_index(ascending=False,inplace=True) # inplace True parameter changes the data\n",
    "data"
   ]
  },
  {
   "cell_type": "markdown",
   "id": "7eca373a",
   "metadata": {
    "id": "7eca373a"
   },
   "source": [
    "## .copy()"
   ]
  },
  {
   "cell_type": "code",
   "execution_count": 41,
   "id": "53f89574",
   "metadata": {
    "colab": {
     "base_uri": "https://localhost:8080/"
    },
    "executionInfo": {
     "elapsed": 32,
     "status": "ok",
     "timestamp": 1682598609339,
     "user": {
      "displayName": "Mʀ Aŋoŋɱƴoʋs",
      "userId": "14245472023480066322"
     },
     "user_tz": -300
    },
    "id": "53f89574",
    "outputId": "ee1627ea-db49-4255-8ee6-4f92be1dd02f"
   },
   "outputs": [
    {
     "data": {
      "text/plain": [
       "match_no\n",
       "215     7\n",
       "214    25\n",
       "213    73\n",
       "212    20\n",
       "211     0\n",
       "       ..\n",
       "5       1\n",
       "4      12\n",
       "3      13\n",
       "2      23\n",
       "1       1\n",
       "Name: runs, Length: 215, dtype: int64"
      ]
     },
     "execution_count": 41,
     "metadata": {},
     "output_type": "execute_result"
    }
   ],
   "source": [
    "temp = data.copy()\n",
    "temp"
   ]
  },
  {
   "cell_type": "markdown",
   "id": "87UJXqAVqX6Q",
   "metadata": {
    "id": "87UJXqAVqX6Q"
   },
   "source": [
    "## .sum()"
   ]
  },
  {
   "cell_type": "code",
   "execution_count": 42,
   "id": "-6Mx_wrhqaIu",
   "metadata": {
    "colab": {
     "base_uri": "https://localhost:8080/"
    },
    "executionInfo": {
     "elapsed": 13,
     "status": "ok",
     "timestamp": 1682598771777,
     "user": {
      "displayName": "Mʀ Aŋoŋɱƴoʋs",
      "userId": "14245472023480066322"
     },
     "user_tz": -300
    },
    "id": "-6Mx_wrhqaIu",
    "outputId": "0ea92cd4-ac5c-4d98-b0e4-f44b33a3f4fa"
   },
   "outputs": [
    {
     "data": {
      "text/plain": [
       "match_no\n",
       "1       1\n",
       "2      23\n",
       "3      13\n",
       "4      12\n",
       "5       1\n",
       "       ..\n",
       "211     0\n",
       "212    20\n",
       "213    73\n",
       "214    25\n",
       "215     7\n",
       "Name: runs, Length: 215, dtype: int64"
      ]
     },
     "execution_count": 42,
     "metadata": {},
     "output_type": "execute_result"
    }
   ],
   "source": [
    "vk =  pd.read_csv(\"datasets/kohli_ipl.csv\",index_col='match_no').squeeze(\"columns\")\n",
    "vk"
   ]
  },
  {
   "cell_type": "code",
   "execution_count": 43,
   "id": "BEAZ89ezqzNd",
   "metadata": {
    "colab": {
     "base_uri": "https://localhost:8080/"
    },
    "executionInfo": {
     "elapsed": 501,
     "status": "ok",
     "timestamp": 1682598776270,
     "user": {
      "displayName": "Mʀ Aŋoŋɱƴoʋs",
      "userId": "14245472023480066322"
     },
     "user_tz": -300
    },
    "id": "BEAZ89ezqzNd",
    "outputId": "480f6001-407e-47c9-c8d1-72d46dd26d37"
   },
   "outputs": [
    {
     "data": {
      "text/plain": [
       "6634"
      ]
     },
     "execution_count": 43,
     "metadata": {},
     "output_type": "execute_result"
    }
   ],
   "source": [
    "vk.sum() # sum"
   ]
  },
  {
   "cell_type": "markdown",
   "id": "083d900c",
   "metadata": {},
   "source": [
    "- ###  .product()"
   ]
  },
  {
   "cell_type": "code",
   "execution_count": 55,
   "id": "8215f362",
   "metadata": {},
   "outputs": [
    {
     "data": {
      "text/plain": [
       "0"
      ]
     },
     "execution_count": 55,
     "metadata": {},
     "output_type": "execute_result"
    }
   ],
   "source": [
    "vk.product()"
   ]
  },
  {
   "cell_type": "markdown",
   "id": "9cebb85e",
   "metadata": {},
   "source": [
    "- ### .prod()"
   ]
  },
  {
   "cell_type": "code",
   "execution_count": 56,
   "id": "d0002e86",
   "metadata": {},
   "outputs": [
    {
     "data": {
      "text/plain": [
       "0"
      ]
     },
     "execution_count": 56,
     "metadata": {},
     "output_type": "execute_result"
    }
   ],
   "source": [
    "vk.prod()"
   ]
  },
  {
   "cell_type": "markdown",
   "id": "AnpHYRJDrFOQ",
   "metadata": {
    "id": "AnpHYRJDrFOQ"
   },
   "source": [
    "- ### .mean()"
   ]
  },
  {
   "cell_type": "code",
   "execution_count": 44,
   "id": "7rm0x0F_tcJY",
   "metadata": {
    "colab": {
     "base_uri": "https://localhost:8080/"
    },
    "executionInfo": {
     "elapsed": 24,
     "status": "ok",
     "timestamp": 1682598912317,
     "user": {
      "displayName": "Mʀ Aŋoŋɱƴoʋs",
      "userId": "14245472023480066322"
     },
     "user_tz": -300
    },
    "id": "7rm0x0F_tcJY",
    "outputId": "afbaeed8-52a5-452d-c2a5-99975f061120"
   },
   "outputs": [
    {
     "data": {
      "text/plain": [
       "30.855813953488372"
      ]
     },
     "execution_count": 44,
     "metadata": {},
     "output_type": "execute_result"
    }
   ],
   "source": [
    "vk.mean()"
   ]
  },
  {
   "cell_type": "markdown",
   "id": "JOO7oLRgtjDA",
   "metadata": {
    "id": "JOO7oLRgtjDA"
   },
   "source": [
    "- ### .median()"
   ]
  },
  {
   "cell_type": "code",
   "execution_count": 45,
   "id": "aXfvw0AitlqP",
   "metadata": {
    "colab": {
     "base_uri": "https://localhost:8080/"
    },
    "executionInfo": {
     "elapsed": 12,
     "status": "ok",
     "timestamp": 1682598955210,
     "user": {
      "displayName": "Mʀ Aŋoŋɱƴoʋs",
      "userId": "14245472023480066322"
     },
     "user_tz": -300
    },
    "id": "aXfvw0AitlqP",
    "outputId": "69b7b097-9790-4f9d-da59-90cdf645dfc3"
   },
   "outputs": [
    {
     "data": {
      "text/plain": [
       "24.0"
      ]
     },
     "execution_count": 45,
     "metadata": {},
     "output_type": "execute_result"
    }
   ],
   "source": [
    "vk.median()"
   ]
  },
  {
   "cell_type": "markdown",
   "id": "c7XY4YwZtrAI",
   "metadata": {
    "id": "c7XY4YwZtrAI"
   },
   "source": [
    "- ### .mode()"
   ]
  },
  {
   "cell_type": "code",
   "execution_count": 46,
   "id": "BT7kgxMwtv6W",
   "metadata": {
    "colab": {
     "base_uri": "https://localhost:8080/"
    },
    "executionInfo": {
     "elapsed": 17,
     "status": "ok",
     "timestamp": 1682599131674,
     "user": {
      "displayName": "Mʀ Aŋoŋɱƴoʋs",
      "userId": "14245472023480066322"
     },
     "user_tz": -300
    },
    "id": "BT7kgxMwtv6W",
    "outputId": "ee83580d-4a0b-4016-9578-a44d7186f735"
   },
   "outputs": [
    {
     "data": {
      "text/plain": [
       "0       48\n",
       "1       57\n",
       "2       40\n",
       "3       43\n",
       "4       44\n",
       "      ... \n",
       "360    231\n",
       "361    226\n",
       "362    155\n",
       "363    144\n",
       "364    172\n",
       "Name: Subscribers gained, Length: 365, dtype: int64"
      ]
     },
     "execution_count": 46,
     "metadata": {},
     "output_type": "execute_result"
    }
   ],
   "source": [
    "sub = pd.read_csv(\"./datasets/subs.csv\").squeeze(\"columns\")\n",
    "sub"
   ]
  },
  {
   "cell_type": "code",
   "execution_count": 47,
   "id": "9d69UZ-BuVh_",
   "metadata": {
    "colab": {
     "base_uri": "https://localhost:8080/"
    },
    "executionInfo": {
     "elapsed": 21,
     "status": "ok",
     "timestamp": 1682599147392,
     "user": {
      "displayName": "Mʀ Aŋoŋɱƴoʋs",
      "userId": "14245472023480066322"
     },
     "user_tz": -300
    },
    "id": "9d69UZ-BuVh_",
    "outputId": "2f06c425-3b5e-42b9-c59f-829873cd16c6"
   },
   "outputs": [
    {
     "data": {
      "text/plain": [
       "0    105\n",
       "Name: Subscribers gained, dtype: int64"
      ]
     },
     "execution_count": 47,
     "metadata": {},
     "output_type": "execute_result"
    }
   ],
   "source": [
    "sub.mode()"
   ]
  },
  {
   "cell_type": "markdown",
   "id": "fe3r_cuXuqcm",
   "metadata": {
    "id": "fe3r_cuXuqcm"
   },
   "source": [
    "- ### .std()"
   ]
  },
  {
   "cell_type": "code",
   "execution_count": 48,
   "id": "IM2qtsCvuvD7",
   "metadata": {
    "colab": {
     "base_uri": "https://localhost:8080/"
    },
    "executionInfo": {
     "elapsed": 276,
     "status": "ok",
     "timestamp": 1682599253247,
     "user": {
      "displayName": "Mʀ Aŋoŋɱƴoʋs",
      "userId": "14245472023480066322"
     },
     "user_tz": -300
    },
    "id": "IM2qtsCvuvD7",
    "outputId": "13bc0193-f9f2-472d-8929-61e567609465"
   },
   "outputs": [
    {
     "data": {
      "text/plain": [
       "62.6750230372527"
      ]
     },
     "execution_count": 48,
     "metadata": {},
     "output_type": "execute_result"
    }
   ],
   "source": [
    "sub.std()"
   ]
  },
  {
   "cell_type": "markdown",
   "id": "wpDJUW_rutFB",
   "metadata": {
    "id": "wpDJUW_rutFB"
   },
   "source": [
    "- ### .var()"
   ]
  },
  {
   "cell_type": "code",
   "execution_count": 49,
   "id": "q5VC-jOsuzJg",
   "metadata": {
    "colab": {
     "base_uri": "https://localhost:8080/"
    },
    "executionInfo": {
     "elapsed": 1766,
     "status": "ok",
     "timestamp": 1682599270755,
     "user": {
      "displayName": "Mʀ Aŋoŋɱƴoʋs",
      "userId": "14245472023480066322"
     },
     "user_tz": -300
    },
    "id": "q5VC-jOsuzJg",
    "outputId": "4911aaca-d46f-40f1-c39e-8d7e99d1cd1c"
   },
   "outputs": [
    {
     "data": {
      "text/plain": [
       "3928.1585127201565"
      ]
     },
     "execution_count": 49,
     "metadata": {},
     "output_type": "execute_result"
    }
   ],
   "source": [
    "sub.var()"
   ]
  },
  {
   "cell_type": "markdown",
   "id": "4hQwGqHUvEmF",
   "metadata": {
    "id": "4hQwGqHUvEmF"
   },
   "source": [
    "- ### .min()"
   ]
  },
  {
   "cell_type": "code",
   "execution_count": 50,
   "id": "uBzGz1-0vGU8",
   "metadata": {
    "colab": {
     "base_uri": "https://localhost:8080/"
    },
    "executionInfo": {
     "elapsed": 28,
     "status": "ok",
     "timestamp": 1682599348799,
     "user": {
      "displayName": "Mʀ Aŋoŋɱƴoʋs",
      "userId": "14245472023480066322"
     },
     "user_tz": -300
    },
    "id": "uBzGz1-0vGU8",
    "outputId": "13600af8-3e65-4382-ca18-dbb60b0becb7"
   },
   "outputs": [
    {
     "data": {
      "text/plain": [
       "33"
      ]
     },
     "execution_count": 50,
     "metadata": {},
     "output_type": "execute_result"
    }
   ],
   "source": [
    "sub.min()"
   ]
  },
  {
   "cell_type": "markdown",
   "id": "bYPeHMxQvIRp",
   "metadata": {
    "id": "bYPeHMxQvIRp"
   },
   "source": [
    "- ### .max()"
   ]
  },
  {
   "cell_type": "code",
   "execution_count": 51,
   "id": "m1CRa3aavKgm",
   "metadata": {
    "colab": {
     "base_uri": "https://localhost:8080/"
    },
    "executionInfo": {
     "elapsed": 14,
     "status": "ok",
     "timestamp": 1682599365129,
     "user": {
      "displayName": "Mʀ Aŋoŋɱƴoʋs",
      "userId": "14245472023480066322"
     },
     "user_tz": -300
    },
    "id": "m1CRa3aavKgm",
    "outputId": "2f40bb3e-8de5-411e-a6d8-29601970f49d"
   },
   "outputs": [
    {
     "data": {
      "text/plain": [
       "396"
      ]
     },
     "execution_count": 51,
     "metadata": {},
     "output_type": "execute_result"
    }
   ],
   "source": [
    "sub.max()"
   ]
  },
  {
   "cell_type": "markdown",
   "id": "itkzFOGQvbkh",
   "metadata": {
    "id": "itkzFOGQvbkh"
   },
   "source": [
    "- ### .describe()"
   ]
  },
  {
   "cell_type": "code",
   "execution_count": 52,
   "id": "ajLrmlaCvd60",
   "metadata": {
    "colab": {
     "base_uri": "https://localhost:8080/"
    },
    "executionInfo": {
     "elapsed": 20,
     "status": "ok",
     "timestamp": 1682599445567,
     "user": {
      "displayName": "Mʀ Aŋoŋɱƴoʋs",
      "userId": "14245472023480066322"
     },
     "user_tz": -300
    },
    "id": "ajLrmlaCvd60",
    "outputId": "dce082d8-b7f8-43bb-ead1-1fbf89440089"
   },
   "outputs": [
    {
     "data": {
      "text/plain": [
       "count    365.000000\n",
       "mean     135.643836\n",
       "std       62.675023\n",
       "min       33.000000\n",
       "25%       88.000000\n",
       "50%      123.000000\n",
       "75%      177.000000\n",
       "max      396.000000\n",
       "Name: Subscribers gained, dtype: float64"
      ]
     },
     "execution_count": 52,
     "metadata": {},
     "output_type": "execute_result"
    }
   ],
   "source": [
    "sub.describe()"
   ]
  },
  {
   "cell_type": "markdown",
   "id": "5DG0JtB5vhH6",
   "metadata": {
    "id": "5DG0JtB5vhH6"
   },
   "source": [
    ".info()"
   ]
  },
  {
   "cell_type": "code",
   "execution_count": 53,
   "id": "sg1alWZS7cif",
   "metadata": {
    "colab": {
     "base_uri": "https://localhost:8080/"
    },
    "executionInfo": {
     "elapsed": 15,
     "status": "ok",
     "timestamp": 1682602589044,
     "user": {
      "displayName": "Mʀ Aŋoŋɱƴoʋs",
      "userId": "14245472023480066322"
     },
     "user_tz": -300
    },
    "id": "sg1alWZS7cif",
    "outputId": "09f0293e-f8d4-4e5c-985a-91c18cc19493"
   },
   "outputs": [
    {
     "name": "stdout",
     "output_type": "stream",
     "text": [
      "<class 'pandas.core.series.Series'>\n",
      "RangeIndex: 365 entries, 0 to 364\n",
      "Series name: Subscribers gained\n",
      "Non-Null Count  Dtype\n",
      "--------------  -----\n",
      "365 non-null    int64\n",
      "dtypes: int64(1)\n",
      "memory usage: 3.0 KB\n"
     ]
    }
   ],
   "source": [
    "sub.info()"
   ]
  }
 ],
 "metadata": {
  "colab": {
   "provenance": []
  },
  "kernelspec": {
   "display_name": "Python 3 (ipykernel)",
   "language": "python",
   "name": "python3"
  },
  "language_info": {
   "codemirror_mode": {
    "name": "ipython",
    "version": 3
   },
   "file_extension": ".py",
   "mimetype": "text/x-python",
   "name": "python",
   "nbconvert_exporter": "python",
   "pygments_lexer": "ipython3",
   "version": "3.10.6"
  }
 },
 "nbformat": 4,
 "nbformat_minor": 5
}

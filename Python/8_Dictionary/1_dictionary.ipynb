{
 "cells": [
  {
   "cell_type": "markdown",
   "id": "0c5adaef",
   "metadata": {},
   "source": [
    "# A dictionary is a collection which is ordered*, changeable and do not allow duplicates.\n",
    "\n",
    "<h3>\n",
    "• In python 3.6 earlier Dictionary are unorderd but now Dictionary are ordered<br><br>\n",
    "• Dictionary stored the data in key : value<br><br>\n",
    "• Dictionary are Mutable <br><br>\n",
    "• if we are add the same key than old keys are replaced with the new same keys.<br><br>\n",
    "• Only Hashable data type allowd as a keys\n",
    "\n",
    "</h3>"
   ]
  },
  {
   "cell_type": "markdown",
   "id": "2658dba6",
   "metadata": {},
   "source": [
    "<h3 style=\"color:#4e2abd;\">Create a Dictionary</h3>"
   ]
  },
  {
   "cell_type": "code",
   "execution_count": 2,
   "id": "4a90f43b",
   "metadata": {},
   "outputs": [
    {
     "data": {
      "text/plain": [
       "{'Name': 'Mubeen'}"
      ]
     },
     "execution_count": 2,
     "metadata": {},
     "output_type": "execute_result"
    }
   ],
   "source": [
    "d = {'Name':\"Mubeen\"}\n",
    "d"
   ]
  },
  {
   "cell_type": "markdown",
   "id": "cd4a6dd8",
   "metadata": {},
   "source": [
    "<h3 style=\"color:#4e2abd;\">Create a Empty Dictionary</h3>"
   ]
  },
  {
   "cell_type": "code",
   "execution_count": 4,
   "id": "3a854123",
   "metadata": {},
   "outputs": [
    {
     "name": "stdout",
     "output_type": "stream",
     "text": [
      "<class 'dict'>\n"
     ]
    }
   ],
   "source": [
    "d = {}\n",
    "print(type(d))"
   ]
  },
  {
   "cell_type": "markdown",
   "id": "f7ba76f2",
   "metadata": {},
   "source": [
    "<h3 style=\"color:#4e2abd;\">Create a Dictionary with dict() Conversion</h3>"
   ]
  },
  {
   "cell_type": "code",
   "execution_count": 8,
   "id": "79828537",
   "metadata": {},
   "outputs": [
    {
     "name": "stdout",
     "output_type": "stream",
     "text": [
      "<class 'dict'>\n"
     ]
    }
   ],
   "source": [
    "d = dict()\n",
    "print(type(d))"
   ]
  },
  {
   "cell_type": "code",
   "execution_count": 14,
   "id": "062fe7cb",
   "metadata": {},
   "outputs": [
    {
     "data": {
      "text/plain": [
       "{'name': 'Mubeen', 'class': 'cyber'}"
      ]
     },
     "execution_count": 14,
     "metadata": {},
     "output_type": "execute_result"
    }
   ],
   "source": [
    "d = dict([(\"name\",\"Mubeen\"),('class',\"cyber\")])\n",
    "d"
   ]
  },
  {
   "cell_type": "markdown",
   "id": "e1ebd84e",
   "metadata": {},
   "source": [
    "<h3 style=\"color:#4e2abd;\">Multiple Ways used for dict() Conversion</h3>"
   ]
  },
  {
   "cell_type": "code",
   "execution_count": 59,
   "id": "8569dfc8",
   "metadata": {},
   "outputs": [
    {
     "data": {
      "text/plain": [
       "{'name': 'Mubeen', 'Class': 'Cyber'}"
      ]
     },
     "execution_count": 59,
     "metadata": {},
     "output_type": "execute_result"
    }
   ],
   "source": [
    "# dict(key1=value,key2,value2)\n",
    "\n",
    "d = dict(name=\"Mubeen\",Class=\"Cyber\")\n",
    "d"
   ]
  },
  {
   "cell_type": "code",
   "execution_count": 60,
   "id": "3e57cd11",
   "metadata": {},
   "outputs": [
    {
     "data": {
      "text/plain": [
       "{'name': 'Mubeen', 'Class': 'Cyber'}"
      ]
     },
     "execution_count": 60,
     "metadata": {},
     "output_type": "execute_result"
    }
   ],
   "source": [
    "# dict({\"key1\":\"value\"},key2=\"value\")\n",
    "\n",
    "d = dict({\"name\":\"Mubeen\"},Class=\"Cyber\")\n",
    "d"
   ]
  },
  {
   "cell_type": "code",
   "execution_count": 62,
   "id": "905cfa07",
   "metadata": {},
   "outputs": [
    {
     "data": {
      "text/plain": [
       "{'name': 'Mubeen'}"
      ]
     },
     "execution_count": 62,
     "metadata": {},
     "output_type": "execute_result"
    }
   ],
   "source": [
    "# dict({\"key\":Value})\n",
    "\n",
    "d = dict({\"name\":\"Mubeen\"})\n",
    "d"
   ]
  },
  {
   "cell_type": "code",
   "execution_count": 63,
   "id": "8ff70c57",
   "metadata": {},
   "outputs": [
    {
     "data": {
      "text/plain": [
       "{'name': 'Mubeen', 'Class': 'Cyber'}"
      ]
     },
     "execution_count": 63,
     "metadata": {},
     "output_type": "execute_result"
    }
   ],
   "source": [
    "# dict([ (key1,value), (key2,value) ])\n",
    "\n",
    "d = dict([ (\"name\",\"Mubeen\"), (\"Class\",\"Cyber\") ])\n",
    "d"
   ]
  },
  {
   "cell_type": "code",
   "execution_count": 64,
   "id": "48451e7b",
   "metadata": {},
   "outputs": [
    {
     "data": {
      "text/plain": [
       "{'name': 'Mubeen', 'Class': 'Cyber'}"
      ]
     },
     "execution_count": 64,
     "metadata": {},
     "output_type": "execute_result"
    }
   ],
   "source": [
    "# dict([ [key1,value], [key2,value] ])\n",
    "\n",
    "d = dict([ [\"name\",\"Mubeen\"], [\"Class\",\"Cyber\"] ])\n",
    "d"
   ]
  },
  {
   "cell_type": "code",
   "execution_count": 65,
   "id": "8c78aa5c",
   "metadata": {},
   "outputs": [
    {
     "data": {
      "text/plain": [
       "{'name': 'Mubeen', 'Class': 'Cyber'}"
      ]
     },
     "execution_count": 65,
     "metadata": {},
     "output_type": "execute_result"
    }
   ],
   "source": [
    "# dict([ [key1,value],key2=value)\n",
    "\n",
    "d = dict([ [\"name\",\"Mubeen\"]], Class=\"Cyber\")\n",
    "d"
   ]
  },
  {
   "cell_type": "markdown",
   "id": "941373b7",
   "metadata": {},
   "source": [
    "<h3 style=\"color:#4e2abd;\">Dictionary are Ordered</h3>"
   ]
  },
  {
   "cell_type": "code",
   "execution_count": 18,
   "id": "7e2e8cd3",
   "metadata": {
    "scrolled": true
   },
   "outputs": [
    {
     "data": {
      "text/plain": [
       "{'B': 'b', 'A': 'a', 'C': 'c'}"
      ]
     },
     "execution_count": 18,
     "metadata": {},
     "output_type": "execute_result"
    }
   ],
   "source": [
    "d = {\"B\":'b',\"A\":'a',\"C\":'c'}\n",
    "d"
   ]
  },
  {
   "cell_type": "markdown",
   "id": "a6738a41",
   "metadata": {},
   "source": [
    "<h3 style=\"color:#4e2abd;\">Nested a Dictionary</h3>"
   ]
  },
  {
   "cell_type": "code",
   "execution_count": 22,
   "id": "679420c0",
   "metadata": {},
   "outputs": [
    {
     "data": {
      "text/plain": [
       "{'Pakistan': {'Capital': 'Islamabad', 'Currency': 'Ruppee'},\n",
       " 'India': {'Capital': 'New Delhi', 'Currency': 'Ruppee'},\n",
       " 'Russia': {'Capital': 'Moscow', 'Currency': 'Ruble'}}"
      ]
     },
     "execution_count": 22,
     "metadata": {},
     "output_type": "execute_result"
    }
   ],
   "source": [
    "data ={\n",
    "    \"Pakistan\":{\"Capital\":\"Islamabad\",\"Currency\":\"Ruppee\"},\n",
    "    \"India\":{\"Capital\":\"New Delhi\",\"Currency\":\"Ruppee\"},\n",
    "    \"Russia\":{\"Capital\":\"Moscow\",\"Currency\":\"Ruble\"},\n",
    "}\n",
    "\n",
    "data"
   ]
  },
  {
   "cell_type": "markdown",
   "id": "f965d48d",
   "metadata": {},
   "source": [
    "<h3 style=\"color:#4e2abd;\">Add a Dictionary </h3>"
   ]
  },
  {
   "cell_type": "code",
   "execution_count": 38,
   "id": "1ae67343",
   "metadata": {},
   "outputs": [
    {
     "name": "stdout",
     "output_type": "stream",
     "text": [
      "{}\n",
      "{'Country': {'Pakistan': {'Capital': 'Islamabad'}, 'India': {'Capital': 'New Delhi'}}}\n",
      "\n",
      "{'Pakistan': {'Capital': 'Islamabad'}, 'India': {'Capital': 'New Delhi'}}\n",
      "\n",
      "{'Capital': 'Islamabad'}\n",
      "{'Capital': 'New Delhi'}\n"
     ]
    }
   ],
   "source": [
    "d = {}\n",
    "print(d)\n",
    "d[\"Country\"] = {\"Pakistan\":{\"Capital\":\"Islamabad\"},\"India\":{\"Capital\":\"New Delhi\"}}\n",
    "print(d)\n",
    "print()\n",
    "print(d[\"Country\"])\n",
    "print()\n",
    "print(d[\"Country\"][\"Pakistan\"])\n",
    "print(d[\"Country\"][\"India\"])"
   ]
  },
  {
   "cell_type": "markdown",
   "id": "a418b580",
   "metadata": {},
   "source": [
    "<h3 style=\"color:#4e2abd;\">Access keys</h3>"
   ]
  },
  {
   "cell_type": "code",
   "execution_count": 23,
   "id": "5a9f1664",
   "metadata": {},
   "outputs": [
    {
     "data": {
      "text/plain": [
       "{'Capital': 'Islamabad', 'Currency': 'Ruppee'}"
      ]
     },
     "execution_count": 23,
     "metadata": {},
     "output_type": "execute_result"
    }
   ],
   "source": [
    "data[\"Pakistan\"]"
   ]
  },
  {
   "cell_type": "code",
   "execution_count": 24,
   "id": "91cdba5e",
   "metadata": {},
   "outputs": [
    {
     "data": {
      "text/plain": [
       "'Islamabad'"
      ]
     },
     "execution_count": 24,
     "metadata": {},
     "output_type": "execute_result"
    }
   ],
   "source": [
    "data[\"Pakistan\"][\"Capital\"]"
   ]
  },
  {
   "cell_type": "code",
   "execution_count": 25,
   "id": "4d2c0b64",
   "metadata": {},
   "outputs": [
    {
     "data": {
      "text/plain": [
       "'Ruppee'"
      ]
     },
     "execution_count": 25,
     "metadata": {},
     "output_type": "execute_result"
    }
   ],
   "source": [
    "data[\"Pakistan\"][\"Currency\"]"
   ]
  },
  {
   "cell_type": "markdown",
   "id": "bab4ce45",
   "metadata": {},
   "source": [
    "<h3 style=\"color:#4e2abd;\">Add keys and Values</h3>"
   ]
  },
  {
   "cell_type": "code",
   "execution_count": 29,
   "id": "8bd325a9",
   "metadata": {},
   "outputs": [
    {
     "name": "stdout",
     "output_type": "stream",
     "text": [
      "\n",
      "{'name': 'Mubeen'}\n"
     ]
    }
   ],
   "source": [
    "d = {}\n",
    "print()\n",
    "d[\"name\"] = \"Mubeen\"\n",
    "print(d)"
   ]
  },
  {
   "cell_type": "markdown",
   "id": "9f30ca11",
   "metadata": {},
   "source": [
    "<h3 style=\"color:#4e2abd;\">Duplicate keys are replaced</h3>"
   ]
  },
  {
   "cell_type": "code",
   "execution_count": 42,
   "id": "cd0b4c8b",
   "metadata": {},
   "outputs": [
    {
     "name": "stdout",
     "output_type": "stream",
     "text": [
      "{'Name': 'Mubeen'} 139897501676864\n",
      "{'Name': 'Ahmad'} 139897501676864\n"
     ]
    }
   ],
   "source": [
    "d = {\"Name\":\"Mubeen\"}\n",
    "print(d,id(d))\n",
    "\n",
    "d[\"Name\"] = \"Ahmad\"\n",
    "print(d,id(d))"
   ]
  },
  {
   "cell_type": "markdown",
   "id": "4f2eb04d",
   "metadata": {},
   "source": [
    "<h3 style=\"color:#4e2abd;\">Keys are Hashable</h3>"
   ]
  },
  {
   "cell_type": "code",
   "execution_count": 56,
   "id": "efba598a",
   "metadata": {},
   "outputs": [
    {
     "name": "stdout",
     "output_type": "stream",
     "text": [
      "-3550055125485641917\n",
      "Tuple are hashable\n",
      "\n",
      "{(1, 2): [1, 2, 3, 4, 5]}\n",
      "\n",
      "[1, 2, 3, 4, 5]\n"
     ]
    }
   ],
   "source": [
    "print(hash((1,2)))\n",
    "print(\"Tuple are hashable\\n\")\n",
    "\n",
    "d = {(1,2):[1,2,3,4,5]}\n",
    "\n",
    "print(d)\n",
    "print()\n",
    "print(d[(1,2)])"
   ]
  },
  {
   "cell_type": "code",
   "execution_count": 57,
   "id": "5c8308dc",
   "metadata": {},
   "outputs": [
    {
     "ename": "TypeError",
     "evalue": "unhashable type: 'list'",
     "output_type": "error",
     "traceback": [
      "\u001b[0;31m---------------------------------------------------------------------------\u001b[0m",
      "\u001b[0;31mTypeError\u001b[0m                                 Traceback (most recent call last)",
      "Cell \u001b[0;32mIn [57], line 4\u001b[0m\n\u001b[1;32m      1\u001b[0m \u001b[38;5;66;03m# try to add unhasable data as a key\u001b[39;00m\n\u001b[1;32m      2\u001b[0m \u001b[38;5;66;03m# list are unhasable so try add a list as a key\u001b[39;00m\n\u001b[0;32m----> 4\u001b[0m d \u001b[38;5;241m=\u001b[39m { [\u001b[38;5;241m1\u001b[39m,\u001b[38;5;241m2\u001b[39m] : [\u001b[38;5;241m1\u001b[39m,\u001b[38;5;241m2\u001b[39m,\u001b[38;5;241m3\u001b[39m,\u001b[38;5;241m4\u001b[39m,\u001b[38;5;241m5\u001b[39m]}\n\u001b[1;32m      5\u001b[0m d\n",
      "\u001b[0;31mTypeError\u001b[0m: unhashable type: 'list'"
     ]
    }
   ],
   "source": [
    "# try to add unhasable data as a key\n",
    "# list are unhasable so try add a list as a key\n",
    "\n",
    "d = { [1,2] : [1,2,3,4,5]}\n",
    "d\n",
    "# keys must be hashable "
   ]
  },
  {
   "cell_type": "markdown",
   "id": "60528893",
   "metadata": {},
   "source": [
    "<h3 style=\"color:#4e2abd;\">Dictionary Unpacking</h3>"
   ]
  },
  {
   "cell_type": "code",
   "execution_count": 67,
   "id": "55199701",
   "metadata": {},
   "outputs": [
    {
     "name": "stdout",
     "output_type": "stream",
     "text": [
      "Single Unpacking as Keys\n",
      "\n",
      "{'name': 'Mubeen', 'Class': 'Cyber'}\n",
      "\n",
      "name\n",
      "Class\n"
     ]
    }
   ],
   "source": [
    "print(\"Single Unpacking as Keys\\n\")\n",
    "\n",
    "d = {\"name\":\"Mubeen\",\"Class\":\"Cyber\"}\n",
    "print(d)\n",
    "print()\n",
    "\n",
    "key1,key2 = d\n",
    "print(key1)\n",
    "print(key2)"
   ]
  },
  {
   "cell_type": "code",
   "execution_count": 71,
   "id": "b2837a31",
   "metadata": {},
   "outputs": [
    {
     "name": "stdout",
     "output_type": "stream",
     "text": [
      "Multi Unpacking as Keys\n",
      "\n",
      "{'name': 'Mubeen', 'Class': 'Cyber', 'Password': '12345'}\n",
      "\n",
      "name\n",
      "['Class', 'Password']\n"
     ]
    }
   ],
   "source": [
    "print(\"Multi Unpacking as Keys\\n\")\n",
    "\n",
    "d = {\"name\":\"Mubeen\",\"Class\":\"Cyber\",\"Password\":\"12345\"}\n",
    "print(d)\n",
    "print()\n",
    "\n",
    "key1,*key2 = d\n",
    "print(key1)\n",
    "print(key2)"
   ]
  },
  {
   "cell_type": "code",
   "execution_count": 73,
   "id": "9727de7b",
   "metadata": {},
   "outputs": [
    {
     "name": "stdout",
     "output_type": "stream",
     "text": [
      "Single Unpacking as Values\n",
      "\n",
      "{'name': 'Mubeen', 'Class': 'Cyber'}\n",
      "\n",
      "Mubeen\n",
      "Cyber\n"
     ]
    }
   ],
   "source": [
    "print(\"Single Unpacking as Values\\n\")\n",
    "\n",
    "d = {\"name\":\"Mubeen\",\"Class\":\"Cyber\"}\n",
    "print(d)\n",
    "print()\n",
    "\n",
    "v1,v2 = d.values()\n",
    "print(v1)\n",
    "print(v2)"
   ]
  },
  {
   "cell_type": "code",
   "execution_count": 74,
   "id": "8e935d7b",
   "metadata": {},
   "outputs": [
    {
     "name": "stdout",
     "output_type": "stream",
     "text": [
      "Multi Unpacking as Values\n",
      "\n",
      "{'name': 'Mubeen', 'Class': 'Cyber', 'Password': '12345'}\n",
      "\n",
      "Mubeen\n",
      "['Cyber', '12345']\n"
     ]
    }
   ],
   "source": [
    "print(\"Multi Unpacking as Values\\n\")\n",
    "\n",
    "d = {\"name\":\"Mubeen\",\"Class\":\"Cyber\",\"Password\":\"12345\"}\n",
    "print(d)\n",
    "print()\n",
    "\n",
    "v1,*v2 = d.values()\n",
    "print(v1)\n",
    "print(v2)"
   ]
  },
  {
   "cell_type": "code",
   "execution_count": 77,
   "id": "78bbf77e",
   "metadata": {},
   "outputs": [
    {
     "name": "stdout",
     "output_type": "stream",
     "text": [
      "Single Unpacking as keys and Values\n",
      "\n",
      "{'name': 'Mubeen', 'Class': 'Cyber'}\n",
      "\n",
      "('name', 'Mubeen')\n",
      "('Class', 'Cyber')\n"
     ]
    }
   ],
   "source": [
    "print(\"Single Unpacking as keys and Values\\n\")\n",
    "\n",
    "d = {\"name\":\"Mubeen\",\"Class\":\"Cyber\"}\n",
    "print(d)\n",
    "print()\n",
    "\n",
    "k1,k2 = d.items()\n",
    "print(k1)\n",
    "print(k2)"
   ]
  },
  {
   "cell_type": "code",
   "execution_count": 78,
   "id": "e1b417b9",
   "metadata": {},
   "outputs": [
    {
     "name": "stdout",
     "output_type": "stream",
     "text": [
      "Multi Unpacking as keys and Values\n",
      "\n",
      "{'name': 'Mubeen', 'Class': 'Cyber', 'password': '12345'}\n",
      "\n",
      "('name', 'Mubeen')\n",
      "[('Class', 'Cyber'), ('password', '12345')]\n"
     ]
    }
   ],
   "source": [
    "print(\"Multi Unpacking as keys and Values\\n\")\n",
    "\n",
    "d = {\"name\":\"Mubeen\",\"Class\":\"Cyber\",\"password\":\"12345\"}\n",
    "print(d)\n",
    "print()\n",
    "\n",
    "k1,*k2 = d.items()\n",
    "print(k1)\n",
    "print(k2)"
   ]
  }
 ],
 "metadata": {
  "kernelspec": {
   "display_name": "Python 3 (ipykernel)",
   "language": "python",
   "name": "python3"
  },
  "language_info": {
   "codemirror_mode": {
    "name": "ipython",
    "version": 3
   },
   "file_extension": ".py",
   "mimetype": "text/x-python",
   "name": "python",
   "nbconvert_exporter": "python",
   "pygments_lexer": "ipython3",
   "version": "3.10.6"
  }
 },
 "nbformat": 4,
 "nbformat_minor": 5
}

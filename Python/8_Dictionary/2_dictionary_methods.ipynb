{
 "cells": [
  {
   "cell_type": "markdown",
   "id": "4a7d0fe2",
   "metadata": {},
   "source": [
    "# Dictionary Methods"
   ]
  },
  {
   "cell_type": "markdown",
   "id": "b762533e",
   "metadata": {},
   "source": [
    "<h3 style=\"color:#4e2abd;\">1) get<br><br>Return the value for key if key is in the dictionary,<br><br> key parameter are Required.<br><br>default parameter = None</h3>"
   ]
  },
  {
   "cell_type": "code",
   "execution_count": 4,
   "id": "52d02f1f",
   "metadata": {},
   "outputs": [
    {
     "name": "stdout",
     "output_type": "stream",
     "text": [
      "Mubeen\n"
     ]
    }
   ],
   "source": [
    "d = {\"name\":\"Mubeen\"}\n",
    "\n",
    "print(d.get(\"name\"))"
   ]
  },
  {
   "cell_type": "code",
   "execution_count": 5,
   "id": "272b10b0",
   "metadata": {},
   "outputs": [
    {
     "name": "stdout",
     "output_type": "stream",
     "text": [
      "None\n"
     ]
    }
   ],
   "source": [
    "# if keys are not in dictionary then get return default parameter\n",
    "\n",
    "print(d.get(\"class\"))"
   ]
  },
  {
   "cell_type": "code",
   "execution_count": 7,
   "id": "c0692308",
   "metadata": {},
   "outputs": [
    {
     "name": "stdout",
     "output_type": "stream",
     "text": [
      "Mubeen\n",
      "Not Found\n"
     ]
    }
   ],
   "source": [
    "# change default parameter\n",
    "\n",
    "print(d.get(\"name\",\"Not Found\"))\n",
    "print(d.get(\"class\",\"Not Found\"))"
   ]
  },
  {
   "cell_type": "markdown",
   "id": "50eef62f",
   "metadata": {},
   "source": [
    "# Why we use get method even we are access with [key] ?\n",
    "\n",
    "<h3>If they key are not found than [key] return error<br><br> but if we are use get method then get method return None in default</h3>"
   ]
  },
  {
   "cell_type": "code",
   "execution_count": 8,
   "id": "108a0ec1",
   "metadata": {},
   "outputs": [
    {
     "name": "stdout",
     "output_type": "stream",
     "text": [
      "Mubeen\n"
     ]
    }
   ],
   "source": [
    "print(d[\"name\"])"
   ]
  },
  {
   "cell_type": "code",
   "execution_count": 9,
   "id": "72e17191",
   "metadata": {},
   "outputs": [
    {
     "ename": "KeyError",
     "evalue": "'class'",
     "output_type": "error",
     "traceback": [
      "\u001b[0;31m---------------------------------------------------------------------------\u001b[0m",
      "\u001b[0;31mKeyError\u001b[0m                                  Traceback (most recent call last)",
      "Cell \u001b[0;32mIn [9], line 1\u001b[0m\n\u001b[0;32m----> 1\u001b[0m \u001b[38;5;28mprint\u001b[39m(\u001b[43md\u001b[49m\u001b[43m[\u001b[49m\u001b[38;5;124;43m\"\u001b[39;49m\u001b[38;5;124;43mclass\u001b[39;49m\u001b[38;5;124;43m\"\u001b[39;49m\u001b[43m]\u001b[49m)\n",
      "\u001b[0;31mKeyError\u001b[0m: 'class'"
     ]
    }
   ],
   "source": [
    "print(d[\"class\"])"
   ]
  },
  {
   "cell_type": "code",
   "execution_count": 11,
   "id": "05759a1b",
   "metadata": {},
   "outputs": [
    {
     "name": "stdout",
     "output_type": "stream",
     "text": [
      "Mubeen\n",
      "None\n"
     ]
    }
   ],
   "source": [
    "print(d.get(\"name\"))\n",
    "print(d.get(\"class\"))"
   ]
  },
  {
   "cell_type": "markdown",
   "id": "00191f3a",
   "metadata": {},
   "source": [
    "<h3 style=\"color:#4e2abd;\">2) keys <br><br> Return the keys of dictionary</h3>"
   ]
  },
  {
   "cell_type": "code",
   "execution_count": 16,
   "id": "4d19d966",
   "metadata": {
    "scrolled": true
   },
   "outputs": [
    {
     "data": {
      "text/plain": [
       "dict_keys(['Name', 'Class'])"
      ]
     },
     "execution_count": 16,
     "metadata": {},
     "output_type": "execute_result"
    }
   ],
   "source": [
    "d = {\"Name\":\"Mubeen\",\"Class\":\"Cyber\"}\n",
    "d.keys()"
   ]
  },
  {
   "cell_type": "markdown",
   "id": "307de272",
   "metadata": {},
   "source": [
    "<h3 style=\"color:#4e2abd;\">3) values <br><br> Return the values of dictionary</h3>"
   ]
  },
  {
   "cell_type": "code",
   "execution_count": 18,
   "id": "1f77dfbf",
   "metadata": {},
   "outputs": [
    {
     "data": {
      "text/plain": [
       "dict_values(['Mubeen', 'Cyber'])"
      ]
     },
     "execution_count": 18,
     "metadata": {},
     "output_type": "execute_result"
    }
   ],
   "source": [
    "d = {\"Name\":\"Mubeen\",\"Class\":\"Cyber\"}\n",
    "d.values()"
   ]
  },
  {
   "cell_type": "markdown",
   "id": "7a2588d3",
   "metadata": {},
   "source": [
    "<h3 style=\"color:#4e2abd;\">4) items <br><br> Return the items (keys and values) of dictionary</h3>"
   ]
  },
  {
   "cell_type": "code",
   "execution_count": 19,
   "id": "78469d4c",
   "metadata": {},
   "outputs": [
    {
     "data": {
      "text/plain": [
       "dict_items([('Name', 'Mubeen'), ('Class', 'Cyber')])"
      ]
     },
     "execution_count": 19,
     "metadata": {},
     "output_type": "execute_result"
    }
   ],
   "source": [
    "d = {\"Name\":\"Mubeen\",\"Class\":\"Cyber\"}\n",
    "d.items()"
   ]
  },
  {
   "cell_type": "markdown",
   "id": "b2647c2b",
   "metadata": {},
   "source": [
    "<h3 style=\"color:#4e2abd;\">5) update <br><br> The update method inserts the specified items to the dictionary.<br><br>The specified items can be a dictionary, or an iterable object with key value pairs.</h3>"
   ]
  },
  {
   "cell_type": "code",
   "execution_count": 34,
   "id": "b7f881e8",
   "metadata": {},
   "outputs": [
    {
     "name": "stdout",
     "output_type": "stream",
     "text": [
      "{'Name': 'Mubeen'}\n",
      "\n",
      "{'Name': 'Mubeen', 'Class': 'Cyber'}\n"
     ]
    }
   ],
   "source": [
    "d = {\"Name\":\"Mubeen\"}\n",
    "print(d)\n",
    "print()\n",
    "\n",
    "d.update({\"Class\":\"Cyber\"})\n",
    "print(d)"
   ]
  },
  {
   "cell_type": "markdown",
   "id": "f1bce549",
   "metadata": {},
   "source": [
    "<h3 style=\"color:#4e2abd;\">6) pop <br><br>Remove specified key and return the corresponding value.<br><br>If the key is not found, return the default if given; otherwise,\n",
    "raise a KeyError.<br><br>key parameter are Required<br><br>default parameter are optional</h3>"
   ]
  },
  {
   "cell_type": "code",
   "execution_count": 35,
   "id": "dce4d6ba",
   "metadata": {},
   "outputs": [
    {
     "name": "stdout",
     "output_type": "stream",
     "text": [
      "{'Name': 'Mubeen', 'Class': 'Cyber'}\n",
      "Mubeen\n",
      "\n",
      "{'Class': 'Cyber'}\n"
     ]
    }
   ],
   "source": [
    "print(d)\n",
    "\n",
    "print(d.pop(\"Name\"))\n",
    "print()\n",
    "print(d)"
   ]
  },
  {
   "cell_type": "code",
   "execution_count": 31,
   "id": "ddc79610",
   "metadata": {},
   "outputs": [
    {
     "ename": "KeyError",
     "evalue": "'Name'",
     "output_type": "error",
     "traceback": [
      "\u001b[0;31m---------------------------------------------------------------------------\u001b[0m",
      "\u001b[0;31mKeyError\u001b[0m                                  Traceback (most recent call last)",
      "Cell \u001b[0;32mIn [31], line 2\u001b[0m\n\u001b[1;32m      1\u001b[0m \u001b[38;5;66;03m# \u001b[39;00m\n\u001b[0;32m----> 2\u001b[0m \u001b[43md\u001b[49m\u001b[38;5;241;43m.\u001b[39;49m\u001b[43mpop\u001b[49m\u001b[43m(\u001b[49m\u001b[38;5;124;43m\"\u001b[39;49m\u001b[38;5;124;43mName\u001b[39;49m\u001b[38;5;124;43m\"\u001b[39;49m\u001b[43m)\u001b[49m\n",
      "\u001b[0;31mKeyError\u001b[0m: 'Name'"
     ]
    }
   ],
   "source": [
    "# if key are not in dictionary then return the Error\n",
    "d.pop(\"Name\")"
   ]
  },
  {
   "cell_type": "code",
   "execution_count": 33,
   "id": "4c53e84b",
   "metadata": {},
   "outputs": [
    {
     "data": {
      "text/plain": [
       "'Not Found'"
      ]
     },
     "execution_count": 33,
     "metadata": {},
     "output_type": "execute_result"
    }
   ],
   "source": [
    "# set paramerter if the key are not exists\n",
    "\n",
    "\n",
    "d.pop(\"Name\",\"Not Found\")\n",
    "# Raise Error"
   ]
  },
  {
   "cell_type": "markdown",
   "id": "a844c913",
   "metadata": {},
   "source": [
    "<h3 style=\"color:#4e2abd;\">7) popitem <br><br> Remove and return a (key, value) pair as a 2-tuple.<br><br>\n",
    "Pairs are returned in LIFO (last-in, first-out) order.<br><br>\n",
    "Raises KeyError if the dict is empty.</h3>"
   ]
  },
  {
   "cell_type": "code",
   "execution_count": 38,
   "id": "46e1cbf5",
   "metadata": {},
   "outputs": [
    {
     "name": "stdout",
     "output_type": "stream",
     "text": [
      "{'Name': 'Mubeen', 'Class': 'Cyber'}\n",
      "\n",
      "('Class', 'Cyber')\n",
      "\n",
      "{'Name': 'Mubeen'}\n"
     ]
    }
   ],
   "source": [
    "d = {\"Name\":\"Mubeen\",\"Class\":\"Cyber\"}\n",
    "print(d)\n",
    "print()\n",
    "\n",
    "print(d.popitem())\n",
    "print()\n",
    "\n",
    "print(d)"
   ]
  },
  {
   "cell_type": "markdown",
   "id": "a0145b37",
   "metadata": {},
   "source": [
    "<h3 style=\"color:#4e2abd;\">8) fromkeys <br><br>Create a new dictionary with keys from iterable and values set to value.<br><br>fromkeys merge specfic value with all the keys<br><br>key parameter are required <br><br> default  parameter are optional</h3>"
   ]
  },
  {
   "cell_type": "code",
   "execution_count": 54,
   "id": "6dfa1d16",
   "metadata": {},
   "outputs": [
    {
     "name": "stdout",
     "output_type": "stream",
     "text": [
      "{'name': None, 'class': None}\n",
      "\n",
      "{'name': 'Temp', 'class': 'Temp'}\n"
     ]
    }
   ],
   "source": [
    "l = [\"name\",'class']\n",
    "\n",
    "d = dict.fromkeys(l)\n",
    "print(d)\n",
    "print()\n",
    "\n",
    "d = dict.fromkeys(l,\"Temp\")\n",
    "print(d)"
   ]
  },
  {
   "cell_type": "markdown",
   "id": "0ce8433f",
   "metadata": {},
   "source": [
    "<h3 style=\"color:#4e2abd;\">9) setdefault <br><br>Insert key with a value of default if key is not in the dictionary.\n",
    "<br><br>\n",
    "Return the value for key if key is in the dictionary, else default.<br><br>key are Required<br><br>value are optional</h3>"
   ]
  },
  {
   "cell_type": "code",
   "execution_count": 58,
   "id": "ab4df138",
   "metadata": {},
   "outputs": [
    {
     "name": "stdout",
     "output_type": "stream",
     "text": [
      "{'Name': 'Mubeen', 'Class': 'Cyber'}\n"
     ]
    }
   ],
   "source": [
    "d = {\"Name\":\"Mubeen\",\"Class\":\"Cyber\"}\n",
    "d.setdefault(\"Class\",\"AI\")\n",
    "print(d)"
   ]
  },
  {
   "cell_type": "code",
   "execution_count": 59,
   "id": "422d30a8",
   "metadata": {},
   "outputs": [
    {
     "name": "stdout",
     "output_type": "stream",
     "text": [
      "{'Name': 'Mubeen', 'Class': 'AI'}\n"
     ]
    }
   ],
   "source": [
    "# Now add only name \n",
    "\n",
    "d = {\"Name\":\"Mubeen\"}\n",
    "d.setdefault(\"Class\",\"AI\")\n",
    "print(d)"
   ]
  },
  {
   "cell_type": "markdown",
   "id": "5b898beb",
   "metadata": {},
   "source": [
    "<h3 style=\"color:#4e2abd;\">10) clear <br><br> clean the keys and values</h3>"
   ]
  },
  {
   "cell_type": "code",
   "execution_count": 61,
   "id": "2ade7285",
   "metadata": {},
   "outputs": [
    {
     "name": "stdout",
     "output_type": "stream",
     "text": [
      "{'Name': 'Mubeen', 'Class': 'Cyber'}\n",
      "\n",
      "{}\n"
     ]
    }
   ],
   "source": [
    "d = {\"Name\":\"Mubeen\",\"Class\":\"Cyber\"}\n",
    "print(d)\n",
    "print()\n",
    "\n",
    "d.clear()\n",
    "print(d)"
   ]
  },
  {
   "cell_type": "markdown",
   "id": "bf9fbe8a",
   "metadata": {},
   "source": [
    "<h3 style=\"color:#4e2abd;\">11) copy <br><br> Return Swallow Copy</h3>"
   ]
  },
  {
   "cell_type": "code",
   "execution_count": 66,
   "id": "c5b01f2f",
   "metadata": {},
   "outputs": [
    {
     "name": "stdout",
     "output_type": "stream",
     "text": [
      "{'Name': 'Mubeen'} 140252235091840\n",
      "\n",
      "{'Name': 'Mubeen'} 140252235091840\n",
      "\n",
      "Both id are Same\n"
     ]
    }
   ],
   "source": [
    "d = {\"Name\":\"Mubeen\"}\n",
    "d2 = d\n",
    "\n",
    "print(d,id(d))\n",
    "print()\n",
    "print(d2,id(d2))\n",
    "print()\n",
    "print(\"Both id are Same\")"
   ]
  },
  {
   "cell_type": "code",
   "execution_count": 68,
   "id": "2a96ed0f",
   "metadata": {},
   "outputs": [
    {
     "name": "stdout",
     "output_type": "stream",
     "text": [
      "{'Name': 'Ali'} 140252235091840\n",
      "\n",
      "{'Name': 'Ali'} 140252235091840\n"
     ]
    }
   ],
   "source": [
    "# now change d2\n",
    "\n",
    "d2.update({\"Name\":\"Ali\"})\n",
    "print(d,id(d))\n",
    "print()\n",
    "print(d2,id(d2))\n"
   ]
  },
  {
   "cell_type": "code",
   "execution_count": 70,
   "id": "b32ace82",
   "metadata": {},
   "outputs": [
    {
     "name": "stdout",
     "output_type": "stream",
     "text": [
      "{'Name': 'Mubeen'} 140252235776256\n",
      "\n",
      "{'Name': 'Mubeen'} 140252234686208\n",
      "\n",
      "Both id are Didfferent\n"
     ]
    }
   ],
   "source": [
    "# use copy method\n",
    "\n",
    "d = {\"Name\":\"Mubeen\"}\n",
    "d2 = d.copy()\n",
    "\n",
    "print(d,id(d))\n",
    "print()\n",
    "print(d2,id(d2))\n",
    "print()\n",
    "print(\"Both id are Didfferent\")\n"
   ]
  },
  {
   "cell_type": "code",
   "execution_count": 71,
   "id": "b7850b91",
   "metadata": {},
   "outputs": [
    {
     "name": "stdout",
     "output_type": "stream",
     "text": [
      "{'Name': 'Mubeen'} 140252235776256\n",
      "\n",
      "{'Name': 'Ali'} 140252234686208\n"
     ]
    }
   ],
   "source": [
    "# now change d2\n",
    "\n",
    "d2.update({\"Name\":\"Ali\"})\n",
    "\n",
    "print(d,id(d))\n",
    "print()\n",
    "print(d2,id(d2))\n"
   ]
  }
 ],
 "metadata": {
  "kernelspec": {
   "display_name": "Python 3 (ipykernel)",
   "language": "python",
   "name": "python3"
  },
  "language_info": {
   "codemirror_mode": {
    "name": "ipython",
    "version": 3
   },
   "file_extension": ".py",
   "mimetype": "text/x-python",
   "name": "python",
   "nbconvert_exporter": "python",
   "pygments_lexer": "ipython3",
   "version": "3.10.6"
  }
 },
 "nbformat": 4,
 "nbformat_minor": 5
}

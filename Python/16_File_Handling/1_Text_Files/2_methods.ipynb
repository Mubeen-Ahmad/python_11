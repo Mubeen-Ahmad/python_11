{
 "cells": [
  {
   "cell_type": "markdown",
   "id": "a9fbff41",
   "metadata": {},
   "source": [
    "# .name\n",
    "\n",
    "* ## return the file name"
   ]
  },
  {
   "cell_type": "code",
   "execution_count": 65,
   "id": "58f87e02",
   "metadata": {},
   "outputs": [
    {
     "name": "stdout",
     "output_type": "stream",
     "text": [
      "data.txt\n"
     ]
    }
   ],
   "source": [
    "file =  open(\"data.txt\",\"a\")\n",
    "print(file.name)"
   ]
  },
  {
   "cell_type": "markdown",
   "id": "6112a59c",
   "metadata": {},
   "source": [
    "# .mode\n",
    "\n",
    "* ## return the file mode"
   ]
  },
  {
   "cell_type": "code",
   "execution_count": 57,
   "id": "e7e5abf6",
   "metadata": {},
   "outputs": [
    {
     "name": "stdout",
     "output_type": "stream",
     "text": [
      "w+\n"
     ]
    }
   ],
   "source": [
    "print(file.mode)"
   ]
  },
  {
   "cell_type": "markdown",
   "id": "b2830c6f",
   "metadata": {},
   "source": [
    "# .write\n",
    "\n",
    "* ## write the file\n",
    "* ## and return the no of characters"
   ]
  },
  {
   "cell_type": "code",
   "execution_count": 72,
   "id": "93238d07",
   "metadata": {},
   "outputs": [
    {
     "data": {
      "text/plain": [
       "25"
      ]
     },
     "execution_count": 72,
     "metadata": {},
     "output_type": "execute_result"
    }
   ],
   "source": [
    "file.write(\"An Error is a Sweet Taste\")"
   ]
  },
  {
   "cell_type": "markdown",
   "id": "23ed4393",
   "metadata": {},
   "source": [
    "# .read\n",
    "\n",
    "* ## read the file"
   ]
  },
  {
   "cell_type": "code",
   "execution_count": 68,
   "id": "770a063f",
   "metadata": {},
   "outputs": [
    {
     "ename": "UnsupportedOperation",
     "evalue": "not readable",
     "output_type": "error",
     "traceback": [
      "\u001b[0;31m---------------------------------------------------------------------------\u001b[0m",
      "\u001b[0;31mUnsupportedOperation\u001b[0m                      Traceback (most recent call last)",
      "Cell \u001b[0;32mIn [68], line 1\u001b[0m\n\u001b[0;32m----> 1\u001b[0m \u001b[38;5;28mprint\u001b[39m(\u001b[43mfile\u001b[49m\u001b[38;5;241;43m.\u001b[39;49m\u001b[43mread\u001b[49m\u001b[43m(\u001b[49m\u001b[43m)\u001b[49m)\n",
      "\u001b[0;31mUnsupportedOperation\u001b[0m: not readable"
     ]
    }
   ],
   "source": [
    "print(file.read())"
   ]
  },
  {
   "cell_type": "markdown",
   "id": "66034f97",
   "metadata": {},
   "source": [
    "## .read not support in append mode"
   ]
  },
  {
   "cell_type": "markdown",
   "id": "dfeacbf9",
   "metadata": {},
   "source": [
    "### change mode"
   ]
  },
  {
   "cell_type": "code",
   "execution_count": 74,
   "id": "d97193a7",
   "metadata": {},
   "outputs": [],
   "source": [
    "file = open(\"data.txt\",\"r+\")"
   ]
  },
  {
   "cell_type": "code",
   "execution_count": 75,
   "id": "713d17d3",
   "metadata": {},
   "outputs": [
    {
     "name": "stdout",
     "output_type": "stream",
     "text": [
      "An Error is a Sweet Taste\n"
     ]
    }
   ],
   "source": [
    "print(file.read())"
   ]
  },
  {
   "cell_type": "markdown",
   "id": "315dbe18",
   "metadata": {},
   "source": [
    "# .readable\n",
    "* ## Returns whether the file stream can be read or not"
   ]
  },
  {
   "cell_type": "code",
   "execution_count": 76,
   "id": "604fb95a",
   "metadata": {},
   "outputs": [
    {
     "name": "stdout",
     "output_type": "stream",
     "text": [
      "True\n"
     ]
    }
   ],
   "source": [
    "print(file.readable())"
   ]
  },
  {
   "cell_type": "markdown",
   "id": "27563885",
   "metadata": {},
   "source": [
    "# now try with different mode"
   ]
  },
  {
   "cell_type": "code",
   "execution_count": 77,
   "id": "7c647fb8",
   "metadata": {},
   "outputs": [
    {
     "name": "stdout",
     "output_type": "stream",
     "text": [
      "False\n"
     ]
    }
   ],
   "source": [
    "file = open(\"data.txt\",\"a\")\n",
    "\n",
    "print(file.readable())"
   ]
  },
  {
   "cell_type": "markdown",
   "id": "bf926869",
   "metadata": {},
   "source": [
    "# .readline\n",
    "\n",
    "* ## Returns one line from the file"
   ]
  },
  {
   "cell_type": "code",
   "execution_count": 80,
   "id": "6b7ddf32",
   "metadata": {},
   "outputs": [
    {
     "data": {
      "text/plain": [
       "6"
      ]
     },
     "execution_count": 80,
     "metadata": {},
     "output_type": "execute_result"
    }
   ],
   "source": [
    "# write the some lines\n",
    "file = open(\"data.txt\",\"w\")\n",
    "file.write(\"line 1\\n\")\n",
    "file.write(\"line 2\\n\")\n",
    "file.write(\"line 3\")"
   ]
  },
  {
   "cell_type": "markdown",
   "id": "4a569cc7",
   "metadata": {},
   "source": [
    "## Now use readline"
   ]
  },
  {
   "cell_type": "code",
   "execution_count": 91,
   "id": "4daac35d",
   "metadata": {},
   "outputs": [],
   "source": [
    "file = open(\"data.txt\",\"r+\")"
   ]
  },
  {
   "cell_type": "code",
   "execution_count": 83,
   "id": "0cc9ad19",
   "metadata": {},
   "outputs": [
    {
     "name": "stdout",
     "output_type": "stream",
     "text": [
      "line 1\n",
      "\n"
     ]
    }
   ],
   "source": [
    "print(file.readline())"
   ]
  },
  {
   "cell_type": "code",
   "execution_count": 84,
   "id": "95379710",
   "metadata": {},
   "outputs": [
    {
     "name": "stdout",
     "output_type": "stream",
     "text": [
      "line 2\n",
      "\n"
     ]
    }
   ],
   "source": [
    "print(file.readline())"
   ]
  },
  {
   "cell_type": "code",
   "execution_count": 85,
   "id": "629262a6",
   "metadata": {},
   "outputs": [
    {
     "name": "stdout",
     "output_type": "stream",
     "text": [
      "line 3\n"
     ]
    }
   ],
   "source": [
    "print(file.readline())"
   ]
  },
  {
   "cell_type": "code",
   "execution_count": 88,
   "id": "535da51f",
   "metadata": {},
   "outputs": [
    {
     "name": "stdout",
     "output_type": "stream",
     "text": [
      "\n"
     ]
    }
   ],
   "source": [
    "# Now lines are completed\n",
    "print(file.readline())"
   ]
  },
  {
   "cell_type": "markdown",
   "id": "0be62478",
   "metadata": {},
   "source": [
    "# writable\n",
    "* ## Returns whether the file can be written to or not"
   ]
  },
  {
   "cell_type": "code",
   "execution_count": 98,
   "id": "bedaeeb2",
   "metadata": {},
   "outputs": [
    {
     "name": "stdout",
     "output_type": "stream",
     "text": [
      "True\n"
     ]
    }
   ],
   "source": [
    "print(file.writable())"
   ]
  },
  {
   "cell_type": "code",
   "execution_count": 99,
   "id": "1f802965",
   "metadata": {},
   "outputs": [
    {
     "name": "stdout",
     "output_type": "stream",
     "text": [
      "False\n"
     ]
    }
   ],
   "source": [
    "# try other method\n",
    "file = open(\"data.txt\",\"r\")\n",
    "\n",
    "print(file.writable())"
   ]
  },
  {
   "cell_type": "markdown",
   "id": "3dd074e1",
   "metadata": {},
   "source": [
    "# writelines\n",
    "* ## Writes a list of strings to the file"
   ]
  },
  {
   "cell_type": "code",
   "execution_count": 108,
   "id": "793feae8",
   "metadata": {},
   "outputs": [],
   "source": [
    "file = open(\"data.txt\",\"w\")\n",
    "\n",
    "# note only strings allowed\n",
    "file.writelines([\"1\",\"2\",\"3\",\"hello\"])"
   ]
  },
  {
   "cell_type": "code",
   "execution_count": 115,
   "id": "49bdf167",
   "metadata": {},
   "outputs": [
    {
     "name": "stdout",
     "output_type": "stream",
     "text": [
      "123hello\n"
     ]
    }
   ],
   "source": [
    "file = open(\"data.txt\",\"r\")\n",
    "print(file.read())"
   ]
  },
  {
   "cell_type": "markdown",
   "id": "10c2d192",
   "metadata": {},
   "source": [
    "# seekable\n",
    "* ## Returns whether the file allows us to change the file position "
   ]
  },
  {
   "cell_type": "code",
   "execution_count": 121,
   "id": "cb8b3a95",
   "metadata": {},
   "outputs": [
    {
     "name": "stdout",
     "output_type": "stream",
     "text": [
      "True\n"
     ]
    }
   ],
   "source": [
    "print(file.seekable())"
   ]
  },
  {
   "cell_type": "markdown",
   "id": "3592b600",
   "metadata": {},
   "source": [
    "# seek\n",
    "* ## Change the file position"
   ]
  },
  {
   "cell_type": "code",
   "execution_count": 134,
   "id": "26a04933",
   "metadata": {},
   "outputs": [],
   "source": [
    "file = open(\"data.txt\",\"w+\")\n",
    "for i in range(1,11):\n",
    "    file.write(str(i)+\"\\n\")"
   ]
  },
  {
   "cell_type": "code",
   "execution_count": 135,
   "id": "ff38fdf8",
   "metadata": {},
   "outputs": [
    {
     "name": "stdout",
     "output_type": "stream",
     "text": [
      "1\n",
      "2\n",
      "3\n",
      "4\n",
      "5\n",
      "6\n",
      "7\n",
      "8\n",
      "9\n",
      "10\n",
      "\n"
     ]
    }
   ],
   "source": [
    "file = open(\"data.txt\",\"r\")\n",
    "print(file.read())"
   ]
  },
  {
   "cell_type": "markdown",
   "id": "88270157",
   "metadata": {},
   "source": [
    "## Now when i read the file Current position of the cursor(seek) is 0"
   ]
  },
  {
   "cell_type": "code",
   "execution_count": 138,
   "id": "15eef0b6",
   "metadata": {},
   "outputs": [
    {
     "name": "stdout",
     "output_type": "stream",
     "text": [
      "1\n",
      "2\n",
      "3\n",
      "4\n",
      "5\n",
      "6\n",
      "7\n",
      "8\n",
      "9\n",
      "10\n",
      "\n"
     ]
    }
   ],
   "source": [
    "file = open(\"data.txt\",\"r\")\n",
    "print(file.read())"
   ]
  },
  {
   "cell_type": "markdown",
   "id": "44741f3d",
   "metadata": {},
   "source": [
    "## Now change the position"
   ]
  },
  {
   "cell_type": "code",
   "execution_count": 139,
   "id": "e371c524",
   "metadata": {},
   "outputs": [
    {
     "data": {
      "text/plain": [
       "5"
      ]
     },
     "execution_count": 139,
     "metadata": {},
     "output_type": "execute_result"
    }
   ],
   "source": [
    "file.seek(5)"
   ]
  },
  {
   "cell_type": "markdown",
   "id": "040d03ac",
   "metadata": {},
   "source": [
    "## Now cursor move to 5 postion"
   ]
  },
  {
   "cell_type": "code",
   "execution_count": 140,
   "id": "89fd59cc",
   "metadata": {},
   "outputs": [
    {
     "name": "stdout",
     "output_type": "stream",
     "text": [
      "\n",
      "4\n",
      "5\n",
      "6\n",
      "7\n",
      "8\n",
      "9\n",
      "10\n",
      "\n"
     ]
    }
   ],
   "source": [
    "print(file.read())"
   ]
  },
  {
   "cell_type": "markdown",
   "id": "ab6ab6c1",
   "metadata": {},
   "source": [
    "## Example 2"
   ]
  },
  {
   "cell_type": "code",
   "execution_count": 141,
   "id": "70fb2086",
   "metadata": {},
   "outputs": [
    {
     "data": {
      "text/plain": [
       "5"
      ]
     },
     "execution_count": 141,
     "metadata": {},
     "output_type": "execute_result"
    }
   ],
   "source": [
    "file = open(\"data.txt\",'w+')\n",
    "file.write(\"12345\")"
   ]
  },
  {
   "cell_type": "code",
   "execution_count": 142,
   "id": "27391303",
   "metadata": {},
   "outputs": [
    {
     "name": "stdout",
     "output_type": "stream",
     "text": [
      "12345\n"
     ]
    }
   ],
   "source": [
    "file = open(\"data.txt\",'r')\n",
    "print(file.read())"
   ]
  },
  {
   "cell_type": "markdown",
   "id": "2d85682e",
   "metadata": {},
   "source": [
    "## Now change the position"
   ]
  },
  {
   "cell_type": "code",
   "execution_count": 157,
   "id": "66a60d7d",
   "metadata": {},
   "outputs": [
    {
     "data": {
      "text/plain": [
       "3"
      ]
     },
     "execution_count": 157,
     "metadata": {},
     "output_type": "execute_result"
    }
   ],
   "source": [
    "# 1|2|3|4|5|\n",
    "\n",
    "file.seek(3)"
   ]
  },
  {
   "cell_type": "code",
   "execution_count": 158,
   "id": "0f437d62",
   "metadata": {},
   "outputs": [
    {
     "name": "stdout",
     "output_type": "stream",
     "text": [
      "45\n"
     ]
    }
   ],
   "source": [
    "# now seek (cursor) move to after 3 |\n",
    "# and next text is 4|5\n",
    "\n",
    "print(file.read())"
   ]
  },
  {
   "cell_type": "markdown",
   "id": "2b3c7eea",
   "metadata": {},
   "source": [
    "### here file cursor are moved at the last "
   ]
  },
  {
   "cell_type": "code",
   "execution_count": 160,
   "id": "4b4464d9",
   "metadata": {},
   "outputs": [
    {
     "name": "stdout",
     "output_type": "stream",
     "text": [
      "\n"
     ]
    }
   ],
   "source": [
    "# again read the file \n",
    "print(file.read())"
   ]
  },
  {
   "cell_type": "markdown",
   "id": "ce7cebc5",
   "metadata": {},
   "source": [
    "# tell\n",
    "* ## Returns the current file position"
   ]
  },
  {
   "cell_type": "code",
   "execution_count": 171,
   "id": "2d6fa13f",
   "metadata": {},
   "outputs": [
    {
     "data": {
      "text/plain": [
       "5"
      ]
     },
     "execution_count": 171,
     "metadata": {},
     "output_type": "execute_result"
    }
   ],
   "source": [
    "file = open(\"data.txt\",'w+')\n",
    "file.write(\"12345\")"
   ]
  },
  {
   "cell_type": "code",
   "execution_count": 172,
   "id": "4c86348a",
   "metadata": {},
   "outputs": [
    {
     "data": {
      "text/plain": [
       "2"
      ]
     },
     "execution_count": 172,
     "metadata": {},
     "output_type": "execute_result"
    }
   ],
   "source": [
    "file.seek(2)"
   ]
  },
  {
   "cell_type": "markdown",
   "id": "5a950163",
   "metadata": {},
   "source": [
    "### Now use tell for check the position"
   ]
  },
  {
   "cell_type": "code",
   "execution_count": 173,
   "id": "96d9f866",
   "metadata": {},
   "outputs": [
    {
     "name": "stdout",
     "output_type": "stream",
     "text": [
      "2\n"
     ]
    }
   ],
   "source": [
    "print(file.tell())"
   ]
  },
  {
   "cell_type": "code",
   "execution_count": 174,
   "id": "e130f24e",
   "metadata": {},
   "outputs": [
    {
     "name": "stdout",
     "output_type": "stream",
     "text": [
      "345\n"
     ]
    }
   ],
   "source": [
    "print(file.read())"
   ]
  },
  {
   "cell_type": "markdown",
   "id": "60e9b08d",
   "metadata": {},
   "source": [
    "# truncate\n",
    "* ## Resizes the file to a specified size\n",
    "* ## in read mode truncate not worked\n",
    "* ## The truncate() method resizes the file to the given number of bytes."
   ]
  },
  {
   "cell_type": "code",
   "execution_count": 190,
   "id": "a8566724",
   "metadata": {},
   "outputs": [],
   "source": [
    "file = open(\"data.txt\",'a')"
   ]
  },
  {
   "cell_type": "markdown",
   "id": "32e5f71b",
   "metadata": {},
   "source": [
    "## change the size"
   ]
  },
  {
   "cell_type": "code",
   "execution_count": 191,
   "id": "fe55ca0e",
   "metadata": {},
   "outputs": [
    {
     "data": {
      "text/plain": [
       "2"
      ]
     },
     "execution_count": 191,
     "metadata": {},
     "output_type": "execute_result"
    }
   ],
   "source": [
    "file.truncate(2)"
   ]
  },
  {
   "cell_type": "markdown",
   "id": "af27b16f",
   "metadata": {},
   "source": [
    "### Now read the file"
   ]
  },
  {
   "cell_type": "code",
   "execution_count": 193,
   "id": "82bc3cb7",
   "metadata": {},
   "outputs": [
    {
     "name": "stdout",
     "output_type": "stream",
     "text": [
      "12\n"
     ]
    }
   ],
   "source": [
    "file = open(\"data.txt\",'r')\n",
    "print(file.read())"
   ]
  },
  {
   "cell_type": "markdown",
   "id": "9122b24b",
   "metadata": {},
   "source": [
    "# flush\n",
    "* ## Flushes the internal buffer"
   ]
  },
  {
   "cell_type": "markdown",
   "id": "975d43ba",
   "metadata": {},
   "source": [
    " ## Understand Backend when we write the file"
   ]
  },
  {
   "cell_type": "markdown",
   "id": "0733aa40",
   "metadata": {},
   "source": [
    "### 1 open a file"
   ]
  },
  {
   "cell_type": "code",
   "execution_count": 219,
   "id": "c4ad9be8",
   "metadata": {},
   "outputs": [],
   "source": [
    "file = open(\"data.txt\",\"w\")"
   ]
  },
  {
   "cell_type": "markdown",
   "id": "b18939d5",
   "metadata": {},
   "source": [
    "### 2 Write data"
   ]
  },
  {
   "cell_type": "code",
   "execution_count": 220,
   "id": "ac76e926",
   "metadata": {},
   "outputs": [
    {
     "data": {
      "text/plain": [
       "5"
      ]
     },
     "execution_count": 220,
     "metadata": {},
     "output_type": "execute_result"
    }
   ],
   "source": [
    "file.write(\"hello\")"
   ]
  },
  {
   "cell_type": "markdown",
   "id": "3db4f428",
   "metadata": {},
   "source": [
    "### Here When we write the file than data are store the Memmory\n",
    "\n",
    "### Which means when i used file.write('txt') than text are save in the ram. and Data are not write in actual file"
   ]
  },
  {
   "cell_type": "code",
   "execution_count": 221,
   "id": "08a2b0cd",
   "metadata": {},
   "outputs": [],
   "source": [
    "file.close()\n"
   ]
  },
  {
   "cell_type": "markdown",
   "id": "d3a2ef17",
   "metadata": {},
   "source": [
    "## Now when i call file.close() at last in .clode method used file.flush() \n",
    "<br>\n",
    "\n",
    "## which means when python call file.flush() memory are freed and Now data are stored in actual file "
   ]
  },
  {
   "cell_type": "markdown",
   "id": "334f16d0",
   "metadata": {},
   "source": [
    "## Example 2"
   ]
  },
  {
   "cell_type": "code",
   "execution_count": 273,
   "id": "a9f1e6ba",
   "metadata": {},
   "outputs": [
    {
     "name": "stdout",
     "output_type": "stream",
     "text": [
      "\n"
     ]
    }
   ],
   "source": [
    "file = open(\"data.txt\",\"w\")\n",
    "file.write(\"line1\")\n",
    "file.write(\"line2\")\n",
    "\n",
    "\n",
    "tmp = open(\"data.txt\",\"r\")\n",
    "print(tmp.read())\n",
    "# data are not write because we can't close the file\n"
   ]
  },
  {
   "cell_type": "markdown",
   "id": "6adab651",
   "metadata": {},
   "source": [
    "# Example 3"
   ]
  },
  {
   "cell_type": "code",
   "execution_count": 274,
   "id": "237b9dbb",
   "metadata": {},
   "outputs": [
    {
     "name": "stdout",
     "output_type": "stream",
     "text": [
      "line1line2\n"
     ]
    }
   ],
   "source": [
    "file = open(\"data.txt\",\"w\")\n",
    "file.write(\"line1\")\n",
    "file.write(\"line2\")\n",
    "\n",
    "file.close() # --> use close\n",
    "\n",
    "tmp = open(\"data.txt\",\"r\")\n",
    "print(tmp.read())\n",
    "# now check the file\n",
    "\n",
    "tmp.close()"
   ]
  },
  {
   "cell_type": "markdown",
   "id": "cdeada8e",
   "metadata": {},
   "source": [
    "# Example 4"
   ]
  },
  {
   "cell_type": "code",
   "execution_count": 275,
   "id": "8a0f6c48",
   "metadata": {},
   "outputs": [
    {
     "name": "stdout",
     "output_type": "stream",
     "text": [
      "line1line2\n"
     ]
    }
   ],
   "source": [
    "file = open(\"data.txt\",\"w\")\n",
    "file.write(\"line1\")\n",
    "file.write(\"line2\")\n",
    "\n",
    "file.flush() # use file.flush() instead of file.close\n",
    "\n",
    "tmp = open(\"data.txt\",\"r\")\n",
    "print(tmp.read())\n",
    "# now cheak data"
   ]
  },
  {
   "cell_type": "markdown",
   "id": "aa16ba4e",
   "metadata": {},
   "source": [
    "# Example 5"
   ]
  },
  {
   "cell_type": "code",
   "execution_count": 276,
   "id": "abff3cfd",
   "metadata": {},
   "outputs": [
    {
     "name": "stdout",
     "output_type": "stream",
     "text": [
      "line1\n"
     ]
    }
   ],
   "source": [
    "file = open(\"data.txt\",\"w\")\n",
    "file.write(\"line1\")\n",
    "\n",
    "file.flush() # Now here i use file.flush()\n",
    "# thats means here memmory are freed and Now data are not write\n",
    "\n",
    "file.write(\"line2\")\n",
    "\n",
    "\n",
    "tmp = open(\"data.txt\",\"r\")\n",
    "print(tmp.read())\n",
    "# now cheak data"
   ]
  },
  {
   "cell_type": "markdown",
   "id": "eb3336b8",
   "metadata": {},
   "source": [
    "# encoding\n",
    "## Encoding refers to the process of converting text characters into bytes that can be stored or transmitted."
   ]
  },
  {
   "cell_type": "code",
   "execution_count": 303,
   "id": "1218b25a",
   "metadata": {},
   "outputs": [],
   "source": [
    "file = open(\"data.txt\",\"w\")\n",
    "file.write(\"pythön\")\n",
    "file.close()"
   ]
  },
  {
   "cell_type": "code",
   "execution_count": 304,
   "id": "017f840b",
   "metadata": {},
   "outputs": [
    {
     "name": "stdout",
     "output_type": "stream",
     "text": [
      "pythÃ¶n\n"
     ]
    }
   ],
   "source": [
    "file = open(\"data.txt\",\"r\",encoding=\"cp1252\")\n",
    "print(file.read())"
   ]
  },
  {
   "cell_type": "markdown",
   "id": "8fc09c2c",
   "metadata": {},
   "source": [
    "## utf-encoding"
   ]
  },
  {
   "cell_type": "code",
   "execution_count": 306,
   "id": "f3abf321",
   "metadata": {},
   "outputs": [
    {
     "name": "stdout",
     "output_type": "stream",
     "text": [
      "pythön\n"
     ]
    }
   ],
   "source": [
    "file = open(\"data.txt\",\"r\",encoding=\"utf-8\")\n",
    "print(file.read())"
   ]
  },
  {
   "cell_type": "markdown",
   "id": "154efa72",
   "metadata": {},
   "source": [
    "# closed\n",
    "* ## Return True if file close otherwise false"
   ]
  },
  {
   "cell_type": "code",
   "execution_count": 308,
   "id": "0431127e",
   "metadata": {},
   "outputs": [
    {
     "name": "stdout",
     "output_type": "stream",
     "text": [
      "False\n"
     ]
    }
   ],
   "source": [
    "print(file.closed)"
   ]
  },
  {
   "cell_type": "code",
   "execution_count": 309,
   "id": "b52b568a",
   "metadata": {},
   "outputs": [],
   "source": [
    "# now close the file\n",
    "file.close()"
   ]
  },
  {
   "cell_type": "code",
   "execution_count": 310,
   "id": "df99f49f",
   "metadata": {},
   "outputs": [
    {
     "name": "stdout",
     "output_type": "stream",
     "text": [
      "True\n"
     ]
    }
   ],
   "source": [
    "print(file.closed)"
   ]
  },
  {
   "cell_type": "markdown",
   "id": "3d0c45d2",
   "metadata": {},
   "source": [
    "# close\n",
    "## close the file"
   ]
  },
  {
   "cell_type": "code",
   "execution_count": 311,
   "id": "9b9d5db1",
   "metadata": {},
   "outputs": [],
   "source": [
    "file.close()"
   ]
  }
 ],
 "metadata": {
  "kernelspec": {
   "display_name": "Python 3 (ipykernel)",
   "language": "python",
   "name": "python3"
  },
  "language_info": {
   "codemirror_mode": {
    "name": "ipython",
    "version": 3
   },
   "file_extension": ".py",
   "mimetype": "text/x-python",
   "name": "python",
   "nbconvert_exporter": "python",
   "pygments_lexer": "ipython3",
   "version": "3.10.6"
  }
 },
 "nbformat": 4,
 "nbformat_minor": 5
}

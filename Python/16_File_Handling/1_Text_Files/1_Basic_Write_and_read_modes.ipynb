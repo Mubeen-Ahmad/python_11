{
 "cells": [
  {
   "cell_type": "markdown",
   "id": "5affdb53",
   "metadata": {},
   "source": [
    "# File Handling Common Modes"
   ]
  },
  {
   "cell_type": "markdown",
   "id": "3aef2d15",
   "metadata": {},
   "source": [
    "# Read\n",
    "<br>\n",
    "\n",
    "* ## \"r\" mode is used for read the file.\n",
    "* ## At Default 'r' read mode \n",
    "* ## return Error if file not Exits"
   ]
  },
  {
   "cell_type": "markdown",
   "id": "7d1676a2",
   "metadata": {},
   "source": [
    "<br>\n",
    "\n",
    "# Append"
   ]
  },
  {
   "cell_type": "markdown",
   "id": "df0ac645",
   "metadata": {},
   "source": [
    "* ## \"a\" mode is used for append the text and Write it\n",
    "* ## In this mode Previous text are not replace\n",
    "* ## If the file are not Exist than Python create the new file"
   ]
  },
  {
   "cell_type": "markdown",
   "id": "10defcf3",
   "metadata": {},
   "source": [
    "<br>\n",
    "\n",
    "# Write"
   ]
  },
  {
   "cell_type": "markdown",
   "id": "97d149f3",
   "metadata": {},
   "source": [
    "* ## \"w\" mode is used for Write the file\n",
    "* ## In this mode python re-write the file if the file are already exists"
   ]
  },
  {
   "cell_type": "markdown",
   "id": "d29d5f49",
   "metadata": {},
   "source": [
    "<br>\n",
    "\n",
    "# Read + Write\n",
    "* ##  \"r+\" To read and write data into the file. \n",
    "* ## The previous data in the file will be Append\n",
    "* ## return Error if the file are not exist"
   ]
  },
  {
   "cell_type": "markdown",
   "id": "78bfbe6c",
   "metadata": {},
   "source": [
    "<br>\n",
    "\n",
    "# Write + Read\n",
    "* ##  \"w+\" To write and read data into the file. \n",
    "* ## The previous data in the file will be Append\n"
   ]
  },
  {
   "cell_type": "markdown",
   "id": "da1e5482",
   "metadata": {},
   "source": [
    "<br>\n",
    "\n",
    "# Append + Read"
   ]
  },
  {
   "cell_type": "markdown",
   "id": "d6e0a464",
   "metadata": {},
   "source": [
    "* ## \"a+\" To append and read data from the file. \n",
    "* ## It won’t override existing data."
   ]
  },
  {
   "cell_type": "markdown",
   "id": "3808093a",
   "metadata": {},
   "source": [
    "<br><br>\n",
    "\n",
    "# open Syntax\n",
    "<br>\n",
    "\n",
    "## open(\"filename\",\"Mode\")\n",
    "### open  are used to access the files\n",
    "<br><br><br>\n"
   ]
  },
  {
   "cell_type": "markdown",
   "id": "e034e1f3",
   "metadata": {},
   "source": [
    "# Write the file"
   ]
  },
  {
   "cell_type": "code",
   "execution_count": 1,
   "id": "122e4d45",
   "metadata": {},
   "outputs": [],
   "source": [
    "file = open(\"data.txt\",\"w\")\n",
    "\n",
    "# .write method used to write the text\n",
    "file.write(\"Hello \")\n",
    "file.write(\"World\")\n",
    "\n",
    "# it is good practice for close the file\n",
    "file.close()\n"
   ]
  },
  {
   "cell_type": "code",
   "execution_count": 2,
   "id": "dd982a64",
   "metadata": {},
   "outputs": [
    {
     "name": "stdout",
     "output_type": "stream",
     "text": [
      "1_Basic_Write_and_read_modes.ipynb  2_methods.ipynb  data.exe  data.txt\r\n"
     ]
    }
   ],
   "source": [
    "## check file\n",
    "!ls"
   ]
  },
  {
   "cell_type": "markdown",
   "id": "d82bf18b",
   "metadata": {},
   "source": [
    "# Read the File"
   ]
  },
  {
   "cell_type": "code",
   "execution_count": 3,
   "id": "7cd0d239",
   "metadata": {},
   "outputs": [
    {
     "name": "stdout",
     "output_type": "stream",
     "text": [
      "Hello World\n"
     ]
    }
   ],
   "source": [
    "file = open(\"data.txt\",\"r\")\n",
    "\n",
    "# .read method is used for read the file\n",
    "print(file.read())\n",
    "\n",
    "# close the file\n",
    "file.close()"
   ]
  },
  {
   "cell_type": "markdown",
   "id": "02e28d13",
   "metadata": {},
   "source": [
    "## Method 2  with open\n",
    "<br>\n",
    "\n",
    "### with open(\"filenam\",\"mode\") as f:\n",
    "### .............. code"
   ]
  },
  {
   "cell_type": "markdown",
   "id": "a930a66f",
   "metadata": {},
   "source": [
    "## In this method file are automaticaly closed\n",
    "<br><br>\n",
    "## Read file"
   ]
  },
  {
   "cell_type": "code",
   "execution_count": 4,
   "id": "85e91727",
   "metadata": {},
   "outputs": [
    {
     "name": "stdout",
     "output_type": "stream",
     "text": [
      "Hello World\n"
     ]
    }
   ],
   "source": [
    "with open(\"data.txt\",\"r\") as file:\n",
    "    print(file.read())"
   ]
  },
  {
   "cell_type": "markdown",
   "id": "0c468c48",
   "metadata": {},
   "source": [
    "<br>\n",
    "\n",
    "## Append Mode"
   ]
  },
  {
   "cell_type": "code",
   "execution_count": 5,
   "id": "8becf2f9",
   "metadata": {},
   "outputs": [],
   "source": [
    "with open(\"data.txt\",\"a\") as file:\n",
    "    file.write(\"\\nThis is 2nd Line\")"
   ]
  },
  {
   "cell_type": "markdown",
   "id": "844ba0cc",
   "metadata": {},
   "source": [
    "### Now read file"
   ]
  },
  {
   "cell_type": "code",
   "execution_count": 6,
   "id": "169629bc",
   "metadata": {},
   "outputs": [
    {
     "name": "stdout",
     "output_type": "stream",
     "text": [
      "Hello World\n",
      "This is 2nd Line\n"
     ]
    }
   ],
   "source": [
    "with open(\"data.txt\",\"r\") as file:\n",
    "    print(file.read())"
   ]
  },
  {
   "cell_type": "markdown",
   "id": "70a10ddd",
   "metadata": {},
   "source": [
    "## r+ Read and Write file"
   ]
  },
  {
   "cell_type": "code",
   "execution_count": 7,
   "id": "746ed60a",
   "metadata": {},
   "outputs": [],
   "source": [
    "file = open(\"data.txt\",\"r+\")"
   ]
  },
  {
   "cell_type": "code",
   "execution_count": 8,
   "id": "3feabf9d",
   "metadata": {},
   "outputs": [
    {
     "name": "stdout",
     "output_type": "stream",
     "text": [
      "Hello World\n",
      "This is 2nd Line\n"
     ]
    }
   ],
   "source": [
    "# read file\n",
    "print(file.read())"
   ]
  },
  {
   "cell_type": "markdown",
   "id": "2ffc4f8e",
   "metadata": {},
   "source": [
    "### now add write the file\n"
   ]
  },
  {
   "cell_type": "code",
   "execution_count": 9,
   "id": "d09c8209",
   "metadata": {},
   "outputs": [
    {
     "data": {
      "text/plain": [
       "26"
      ]
     },
     "execution_count": 9,
     "metadata": {},
     "output_type": "execute_result"
    }
   ],
   "source": [
    "file.write(\"\\nAn Error is a Sweet Taste\")"
   ]
  },
  {
   "cell_type": "markdown",
   "id": "31cdc2ff",
   "metadata": {},
   "source": [
    "### now read the file"
   ]
  },
  {
   "cell_type": "code",
   "execution_count": 10,
   "id": "78b4710a",
   "metadata": {},
   "outputs": [
    {
     "name": "stdout",
     "output_type": "stream",
     "text": [
      "Hello World\n",
      "This is 2nd Line\n",
      "An Error is a Sweet Taste\n"
     ]
    }
   ],
   "source": [
    "file = open(\"data.txt\")\n",
    "print(file.read())"
   ]
  },
  {
   "cell_type": "markdown",
   "id": "0c698f29",
   "metadata": {},
   "source": [
    "# Example 2"
   ]
  },
  {
   "cell_type": "code",
   "execution_count": 11,
   "id": "6f3a8bea",
   "metadata": {},
   "outputs": [
    {
     "name": "stdout",
     "output_type": "stream",
     "text": [
      "Hello World\n",
      "This is 2nd Line\n",
      "An Error is a Sweet Taste\n"
     ]
    }
   ],
   "source": [
    "with open('data.txt', 'r+') as f:\n",
    "    data = f.read()  # Read the entire file\n",
    "    print(data)\n",
    "    f.write('\\nNew data')  # Write new data to the file\n"
   ]
  },
  {
   "cell_type": "code",
   "execution_count": 12,
   "id": "5ebf916e",
   "metadata": {},
   "outputs": [
    {
     "name": "stdout",
     "output_type": "stream",
     "text": [
      "Hello World\n",
      "This is 2nd Line\n",
      "An Error is a Sweet Taste\n",
      "New data\n"
     ]
    }
   ],
   "source": [
    "# now read data\n",
    "file = open(\"data.txt\")\n",
    "print(file.read())"
   ]
  },
  {
   "cell_type": "markdown",
   "id": "8f63082d",
   "metadata": {},
   "source": [
    "# write + Read"
   ]
  },
  {
   "cell_type": "code",
   "execution_count": 16,
   "id": "57dfd1e8",
   "metadata": {},
   "outputs": [
    {
     "name": "stdout",
     "output_type": "stream",
     "text": [
      "\n"
     ]
    }
   ],
   "source": [
    "with open('data.txt', 'w+') as f:\n",
    "    f.write('Hello')  # Write new data to the file\n",
    "    data = f.read()  # Read the entire file\n",
    "    print(data)\n"
   ]
  },
  {
   "cell_type": "markdown",
   "id": "76bb9620",
   "metadata": {},
   "source": [
    "## Change seek position"
   ]
  },
  {
   "cell_type": "code",
   "execution_count": 18,
   "id": "bd8ae959",
   "metadata": {},
   "outputs": [
    {
     "name": "stdout",
     "output_type": "stream",
     "text": [
      "Hello\n"
     ]
    }
   ],
   "source": [
    "with open('data.txt', 'w+') as f:\n",
    "    f.write('Hello')  # Write new data to the file\n",
    "    f.seek(0)  # Move the file pointer to the beginning of the file\n",
    "    data = f.read()  # Read the entire file\n",
    "    print(data)\n"
   ]
  },
  {
   "cell_type": "code",
   "execution_count": 13,
   "id": "383aadf3",
   "metadata": {},
   "outputs": [],
   "source": [
    "file.close()"
   ]
  }
 ],
 "metadata": {
  "kernelspec": {
   "display_name": "Python 3 (ipykernel)",
   "language": "python",
   "name": "python3"
  },
  "language_info": {
   "codemirror_mode": {
    "name": "ipython",
    "version": 3
   },
   "file_extension": ".py",
   "mimetype": "text/x-python",
   "name": "python",
   "nbconvert_exporter": "python",
   "pygments_lexer": "ipython3",
   "version": "3.10.6"
  }
 },
 "nbformat": 4,
 "nbformat_minor": 5
}

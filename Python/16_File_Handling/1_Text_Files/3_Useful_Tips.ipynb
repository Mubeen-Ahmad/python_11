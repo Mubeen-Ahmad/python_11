{
 "cells": [
  {
   "cell_type": "markdown",
   "id": "e0edaf2f",
   "metadata": {},
   "source": [
    "## .read( no_of_characters )"
   ]
  },
  {
   "cell_type": "code",
   "execution_count": 3,
   "id": "91267c8f",
   "metadata": {},
   "outputs": [
    {
     "name": "stdout",
     "output_type": "stream",
     "text": [
      "1_Basic_Write_and_read_modes.ipynb  2_methods.ipynb  3_Important_Tips.ipynb\r\n"
     ]
    }
   ],
   "source": [
    "!ls"
   ]
  },
  {
   "cell_type": "code",
   "execution_count": 4,
   "id": "76cdda9f",
   "metadata": {},
   "outputs": [],
   "source": [
    "# write data\n",
    "with open(\"data.txt\",\"w\") as f:\n",
    "    for i in range(1,9999):\n",
    "        f.write(str(i)+\"\\n\")"
   ]
  },
  {
   "cell_type": "code",
   "execution_count": 5,
   "id": "cefb1d8d",
   "metadata": {},
   "outputs": [
    {
     "name": "stdout",
     "output_type": "stream",
     "text": [
      "1_Basic_Write_and_read_modes.ipynb  3_Important_Tips.ipynb\r\n",
      "2_methods.ipynb\t\t\t    data.txt\r\n"
     ]
    }
   ],
   "source": [
    "!ls"
   ]
  },
  {
   "cell_type": "code",
   "execution_count": 17,
   "id": "804e4102",
   "metadata": {},
   "outputs": [
    {
     "name": "stdout",
     "output_type": "stream",
     "text": [
      "1\n",
      "2\n",
      "3\n",
      "4\n",
      "5\n",
      "\n"
     ]
    }
   ],
   "source": [
    "# now read lines with x no of characters\n",
    "\n",
    "f = open(\"data.txt\",\"r\")             #1 2 3  4 5  6 7  8 9  10\n",
    "print(f.read(10)) # only 10 character 1 \\n 2 \\n 3 \\n 4 \\n 5 \\n"
   ]
  },
  {
   "cell_type": "markdown",
   "id": "728efb7f",
   "metadata": {},
   "source": [
    "## Now i print next 10 lines"
   ]
  },
  {
   "cell_type": "code",
   "execution_count": 18,
   "id": "f24739c3",
   "metadata": {},
   "outputs": [
    {
     "name": "stdout",
     "output_type": "stream",
     "text": [
      "6\n",
      "7\n",
      "8\n",
      "9\n",
      "10\n"
     ]
    }
   ],
   "source": [
    "print(f.read(10))"
   ]
  },
  {
   "cell_type": "code",
   "execution_count": 28,
   "id": "3c7373c0",
   "metadata": {},
   "outputs": [],
   "source": [
    "f.close()"
   ]
  },
  {
   "cell_type": "markdown",
   "id": "1c21fdf7",
   "metadata": {},
   "source": [
    "# readline() line by line"
   ]
  },
  {
   "cell_type": "code",
   "execution_count": 33,
   "id": "50c4a6a9",
   "metadata": {},
   "outputs": [
    {
     "name": "stdout",
     "output_type": "stream",
     "text": [
      "1_Basic_Write_and_read_modes.ipynb  3_Important_Tips.ipynb\r\n",
      "2_methods.ipynb\t\t\t    data.txt\r\n"
     ]
    }
   ],
   "source": [
    "!ls"
   ]
  },
  {
   "cell_type": "code",
   "execution_count": 34,
   "id": "6c7324d0",
   "metadata": {},
   "outputs": [],
   "source": [
    "# re_write data\n",
    "# write data\n",
    "with open(\"data.txt\",\"w\") as f:\n",
    "    for i in range(1,21):\n",
    "        f.write(str(i)+\"\\n\")"
   ]
  },
  {
   "cell_type": "code",
   "execution_count": 83,
   "id": "f43861bf",
   "metadata": {},
   "outputs": [],
   "source": [
    "# now use readline\n",
    "\n",
    "f = open(\"data.txt\",\"r\")"
   ]
  },
  {
   "cell_type": "code",
   "execution_count": 84,
   "id": "5a9fe8c8",
   "metadata": {},
   "outputs": [
    {
     "data": {
      "text/plain": [
       "'1\\n'"
      ]
     },
     "execution_count": 84,
     "metadata": {},
     "output_type": "execute_result"
    }
   ],
   "source": [
    "f.readline(10)"
   ]
  },
  {
   "cell_type": "code",
   "execution_count": 85,
   "id": "af5432ae",
   "metadata": {},
   "outputs": [
    {
     "data": {
      "text/plain": [
       "'2\\n'"
      ]
     },
     "execution_count": 85,
     "metadata": {},
     "output_type": "execute_result"
    }
   ],
   "source": [
    "# next line\n",
    "f.readline(10)"
   ]
  },
  {
   "cell_type": "markdown",
   "id": "55bcbde6",
   "metadata": {},
   "source": [
    "# use loop when value != \"\" "
   ]
  },
  {
   "cell_type": "code",
   "execution_count": 119,
   "id": "9dbf7b6c",
   "metadata": {},
   "outputs": [],
   "source": [
    "f = open(\"data.txt\",\"r\")"
   ]
  },
  {
   "cell_type": "code",
   "execution_count": 120,
   "id": "1f9f384d",
   "metadata": {
    "scrolled": true
   },
   "outputs": [
    {
     "name": "stdout",
     "output_type": "stream",
     "text": [
      "1\n",
      "2\n",
      "3\n",
      "4\n",
      "5\n",
      "6\n",
      "7\n",
      "8\n",
      "9\n",
      "10\n",
      "11\n",
      "12\n",
      "13\n",
      "14\n",
      "15\n",
      "16\n",
      "17\n",
      "18\n",
      "19\n",
      "20\n"
     ]
    }
   ],
   "source": [
    "while True:\n",
    "    data = f.readline()\n",
    "    if data == \"\":\n",
    "        break\n",
    "    else:\n",
    "        print(data,end=\"\")\n",
    "        \n",
    "    \n",
    "        \n",
    "    "
   ]
  },
  {
   "cell_type": "code",
   "execution_count": 121,
   "id": "5d2a0c2c",
   "metadata": {},
   "outputs": [],
   "source": [
    "f.close()"
   ]
  },
  {
   "cell_type": "markdown",
   "id": "8ce6fe5f",
   "metadata": {},
   "source": [
    "# .read( no_of_character )  use as line by line "
   ]
  },
  {
   "cell_type": "code",
   "execution_count": 128,
   "id": "de5dec03",
   "metadata": {},
   "outputs": [
    {
     "name": "stdout",
     "output_type": "stream",
     "text": [
      "1\n",
      "2\n",
      "3\n"
     ]
    }
   ],
   "source": [
    "f = open(\"data.txt\")\n",
    "print(f.read(5))"
   ]
  },
  {
   "cell_type": "markdown",
   "id": "157156eb",
   "metadata": {},
   "source": [
    "## now when i use f.read() then Next time print next x characters"
   ]
  },
  {
   "cell_type": "code",
   "execution_count": 129,
   "id": "956a3ce3",
   "metadata": {},
   "outputs": [
    {
     "name": "stdout",
     "output_type": "stream",
     "text": [
      "\n",
      "4\n",
      "5\n",
      "\n"
     ]
    }
   ],
   "source": [
    "print(f.read(5))"
   ]
  },
  {
   "cell_type": "code",
   "execution_count": 130,
   "id": "b62e6792",
   "metadata": {},
   "outputs": [],
   "source": [
    "f.close()"
   ]
  },
  {
   "cell_type": "markdown",
   "id": "3e28ecb6",
   "metadata": {},
   "source": [
    "### When working with large files in Python, it can be more efficient to read them in smaller chunks rather than reading the entire file into memory at once. You can read a large file in chunks using a loop and the read() method of a file object."
   ]
  },
  {
   "cell_type": "code",
   "execution_count": 199,
   "id": "6e5cd88e",
   "metadata": {},
   "outputs": [
    {
     "name": "stdout",
     "output_type": "stream",
     "text": [
      "1\n",
      "2\n",
      "3\n",
      "4\n",
      "5\n",
      "\n",
      "6\n",
      "7\n",
      "8\n",
      "9\n",
      "10\n",
      "\n",
      "11\n",
      "12\n",
      "13\n",
      "\n",
      "14\n",
      "15\n",
      "16\n",
      "1\n",
      "7\n",
      "18\n",
      "19\n",
      "20\n",
      "\n",
      "\n"
     ]
    }
   ],
   "source": [
    "with open('data.txt', 'r') as f:\n",
    "    while True:\n",
    "        chunk_size = 10\n",
    "        \n",
    "        chunk = f.read(chunk_size) \n",
    "        if not chunk:\n",
    "            break  \n",
    "        print(chunk)\n"
   ]
  },
  {
   "cell_type": "markdown",
   "id": "6e68b09b",
   "metadata": {},
   "source": [
    "# Use Seek for replace character"
   ]
  },
  {
   "cell_type": "code",
   "execution_count": 201,
   "id": "d2ad79c7",
   "metadata": {},
   "outputs": [],
   "source": [
    "with open(\"new.txt\",\"w\") as f:\n",
    "    f.write('Hello')\n",
    "    #        01234\n",
    "    \n",
    "    # no change 0 and add text\n",
    "    f.seek(0) # --> H\n",
    "    \n",
    "    # now write\n",
    "    f.write(\"X\")\n",
    "    \n",
    "    \n",
    "    "
   ]
  },
  {
   "cell_type": "code",
   "execution_count": 202,
   "id": "b61ee648",
   "metadata": {},
   "outputs": [
    {
     "name": "stdout",
     "output_type": "stream",
     "text": [
      "Xello"
     ]
    }
   ],
   "source": [
    "!cat new.txt"
   ]
  },
  {
   "cell_type": "markdown",
   "id": "0dc81992",
   "metadata": {},
   "source": [
    "## Example 2"
   ]
  },
  {
   "cell_type": "code",
   "execution_count": 203,
   "id": "cebb20a1",
   "metadata": {},
   "outputs": [],
   "source": [
    "with open(\"new.txt\",\"w\") as f:\n",
    "    f.write('Hello')\n",
    "    #        01234\n",
    "    \n",
    "    f.seek(0) # --> H\n",
    "    \n",
    "    # now write\n",
    "    f.write(\"abc\") # Hel --> replace abclo"
   ]
  },
  {
   "cell_type": "code",
   "execution_count": 204,
   "id": "57b1980e",
   "metadata": {},
   "outputs": [
    {
     "name": "stdout",
     "output_type": "stream",
     "text": [
      "abclo"
     ]
    }
   ],
   "source": [
    "!cat new.txt"
   ]
  }
 ],
 "metadata": {
  "kernelspec": {
   "display_name": "Python 3 (ipykernel)",
   "language": "python",
   "name": "python3"
  },
  "language_info": {
   "codemirror_mode": {
    "name": "ipython",
    "version": 3
   },
   "file_extension": ".py",
   "mimetype": "text/x-python",
   "name": "python",
   "nbconvert_exporter": "python",
   "pygments_lexer": "ipython3",
   "version": "3.10.6"
  }
 },
 "nbformat": 4,
 "nbformat_minor": 5
}

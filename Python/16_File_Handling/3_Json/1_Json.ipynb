{
 "cells": [
  {
   "cell_type": "markdown",
   "id": "15adc378",
   "metadata": {},
   "source": [
    "# What Is JSON?\n"
   ]
  },
  {
   "cell_type": "markdown",
   "id": "3295f34d",
   "metadata": {},
   "source": [
    "* ## JavaScript Object Notation (JSON) is a standardized format commonly used to transfer data as text that can be sent over a network. \n",
    "<br>\n",
    "\n",
    "* ## It’s used by lots of APIs and Databases, and it’s easy for both humans and machines to read.\n",
    "<br>\n",
    "\n",
    "## JSON represents objects as name/value pairs, just like a Python dictionary.\n",
    "\n"
   ]
  },
  {
   "cell_type": "markdown",
   "id": "e4f7dfe2",
   "metadata": {},
   "source": [
    "<br>\n",
    "\n",
    "# There are 2 Terms\n",
    "<br>\n",
    "\n",
    "## Serialization \n",
    "* ## Serialization is the process of encoding data into JSON format (like converting a Python list to JSON).\n",
    "<br>\n",
    "\n",
    "# Deserialization\n",
    "* ## Deserialization is the process of decoding JSON data back into native objects you can work with (like reading JSON data into a Python list).\n",
    "\n",
    "\n"
   ]
  },
  {
   "cell_type": "markdown",
   "id": "e5c4f527",
   "metadata": {},
   "source": [
    "## You can convert Python objects of the following types, into JSON strings:\n",
    "<br>\n",
    "\n",
    " - # dict\n",
    " - # list\n",
    " - # tuple\n",
    " - # string\n",
    " - # int\n",
    " - # float\n",
    " - # True\n",
    " - # False\n",
    " - # None"
   ]
  },
  {
   "cell_type": "markdown",
   "id": "1670c652",
   "metadata": {},
   "source": [
    "<br>\n",
    "\n",
    "## Serialization (Convert data into json format)"
   ]
  },
  {
   "cell_type": "code",
   "execution_count": 2,
   "id": "bc918f93",
   "metadata": {},
   "outputs": [],
   "source": [
    "import json"
   ]
  },
  {
   "cell_type": "code",
   "execution_count": 23,
   "id": "d3783b4e",
   "metadata": {},
   "outputs": [],
   "source": [
    "l = [1,2,3,4]"
   ]
  },
  {
   "cell_type": "markdown",
   "id": "864e328b",
   "metadata": {},
   "source": [
    "## use dumps method "
   ]
  },
  {
   "cell_type": "code",
   "execution_count": 26,
   "id": "5477352f",
   "metadata": {},
   "outputs": [
    {
     "data": {
      "text/plain": [
       "'[1, 2, 3, 4]'"
      ]
     },
     "execution_count": 26,
     "metadata": {},
     "output_type": "execute_result"
    }
   ],
   "source": [
    "json.dumps(l)"
   ]
  },
  {
   "cell_type": "markdown",
   "id": "9ffcc148",
   "metadata": {},
   "source": [
    "## Note In Json format we use Dictionaries"
   ]
  },
  {
   "cell_type": "code",
   "execution_count": 28,
   "id": "953b02db",
   "metadata": {},
   "outputs": [],
   "source": [
    "data = {\"Name\":\"Mubeen\",\"Study\":\"ICS\"}"
   ]
  },
  {
   "cell_type": "code",
   "execution_count": 31,
   "id": "62a44641",
   "metadata": {},
   "outputs": [
    {
     "data": {
      "text/plain": [
       "'{\"Name\": \"Mubeen\", \"Study\": \"ICS\"}'"
      ]
     },
     "execution_count": 31,
     "metadata": {},
     "output_type": "execute_result"
    }
   ],
   "source": [
    "json.dumps(data)"
   ]
  },
  {
   "cell_type": "markdown",
   "id": "54bb5cc1",
   "metadata": {},
   "source": [
    "# NOTE\n",
    "\n",
    "## When you convert from Python to JSON, Python objects are converted into the JSON (JavaScript) equivalent:\n",
    "\n"
   ]
  },
  {
   "cell_type": "markdown",
   "id": "f5cd8f49",
   "metadata": {},
   "source": [
    "\n",
    "<table>\n",
    "\n",
    "<tr>\n",
    "<td\n",
    "style=\"color:#5d2ade;font-size:30px;text-align:center; width:500px;\">Python</td>\n",
    "\n",
    "<td\n",
    "style=\"color:#d96518;font-size:30px;text-align:center;width:500px;\">Json</td>\n",
    "\n",
    "</tr>\n",
    "<tr>\n",
    "\n",
    "<td\n",
    "style=\"color:#5d2ade;font-size:20px;text-align:center;\">dict</td>\n",
    "\n",
    "<td\n",
    "style=\"color:#d96518;font-size:20px;text-align:center;\">Object</td>\n",
    "\n",
    "</tr>\n",
    "<tr>\n",
    "\n",
    "<td\n",
    "style=\"color:#5d2ade;font-size:20px;text-align:center;\">list\n",
    "</td>\n",
    "\n",
    "<td\n",
    "style=\"color:#d96518;font-size:20px;text-align:center;\">Array</td>\n",
    "</tr>\n",
    "\n",
    "<tr>\n",
    "\n",
    "<td\n",
    "style=\"color:#5d2ade;font-size:20px;text-align:center;\">tuple\n",
    "</td>\n",
    "\n",
    "<td\n",
    "style=\"color:#d96518;font-size:20px;text-align:center;\">Array\n",
    "\n",
    "</td></tr>\n",
    "<tr>\n",
    "<td\n",
    "style=\"color:#5d2ade;font-size:20px;text-align:center;\">str\n",
    "</td>\n",
    "\n",
    "<td\n",
    "style=\"color:#d96518;font-size:20px;text-align:center;\">String</td>\n",
    "\n",
    "</tr>\n",
    "\n",
    "<tr>\n",
    "<td\n",
    "style=\"color:#5d2ade;font-size:20px;text-align:center;\">int\n",
    "</td>\n",
    "\n",
    "<td\n",
    "style=\"color:#d96518;font-size:20px;text-align:center;\">Number</td>\n",
    "\n",
    "</tr>\n",
    "\n",
    "<tr>\n",
    "<td\n",
    "style=\"color:#5d2ade;font-size:20px;text-align:center;\">float\n",
    "</td>\n",
    "\n",
    "<td\n",
    "style=\"color:#d96518;font-size:20px;text-align:center;\">Number</td>\n",
    "\n",
    "</tr>\n",
    "\n",
    "<tr>\n",
    "<td\n",
    "style=\"color:#5d2ade;font-size:20px;text-align:center;\">True\n",
    "</td>\n",
    "\n",
    "<td\n",
    "style=\"color:#d96518;font-size:20px;text-align:center;\">true</td>\n",
    "\n",
    "</tr>\n",
    "\n",
    "<tr>\n",
    "<td\n",
    "style=\"color:#5d2ade;font-size:20px;text-align:center;\">False\n",
    "</td>\n",
    "\n",
    "<td\n",
    "style=\"color:#d96518;font-size:20px;text-align:center;\">false</td>\n",
    "\n",
    "</tr>\n",
    "\n",
    "<tr>\n",
    "<td\n",
    "style=\"color:#5d2ade;font-size:20px;text-align:center;\">None\n",
    "</td>\n",
    "\n",
    "<td\n",
    "style=\"color:#d96518;font-size:20px;text-align:center;\">null</td>\n",
    "\n",
    "</tr>\n",
    "\n",
    "</table>\n"
   ]
  },
  {
   "cell_type": "markdown",
   "id": "fa714046",
   "metadata": {},
   "source": [
    "<br>\n",
    "\n",
    "# Deserialization (convert json to python)"
   ]
  },
  {
   "cell_type": "code",
   "execution_count": 32,
   "id": "9886d8ca",
   "metadata": {},
   "outputs": [],
   "source": [
    "info = {\"Name\":\"Mubeen\",\"int\":10,\"True\":True,\"False\":False,\"None\":None}"
   ]
  },
  {
   "cell_type": "code",
   "execution_count": 88,
   "id": "9a5f68b7",
   "metadata": {},
   "outputs": [
    {
     "name": "stdout",
     "output_type": "stream",
     "text": [
      "{'Name': 'Mubeen', 'int': 10, 'True': True, 'False': False, 'None': None}\n"
     ]
    }
   ],
   "source": [
    "print(info)"
   ]
  },
  {
   "cell_type": "markdown",
   "id": "22e23fd3",
   "metadata": {},
   "source": [
    "## Convert in JSON format"
   ]
  },
  {
   "cell_type": "code",
   "execution_count": 89,
   "id": "e8164a53",
   "metadata": {},
   "outputs": [
    {
     "data": {
      "text/plain": [
       "'{\"Name\": \"Mubeen\", \"int\": 10, \"True\": true, \"False\": false, \"None\": null}'"
      ]
     },
     "execution_count": 89,
     "metadata": {},
     "output_type": "execute_result"
    }
   ],
   "source": [
    "js = json.dumps(info)\n",
    "js"
   ]
  },
  {
   "cell_type": "markdown",
   "id": "f9affc30",
   "metadata": {},
   "source": [
    "# Convert in python format"
   ]
  },
  {
   "cell_type": "markdown",
   "id": "8d1d1cb2",
   "metadata": {},
   "source": [
    "### Use loads method"
   ]
  },
  {
   "cell_type": "code",
   "execution_count": 91,
   "id": "5335b11f",
   "metadata": {},
   "outputs": [
    {
     "data": {
      "text/plain": [
       "{'Name': 'Mubeen', 'int': 10, 'True': True, 'False': False, 'None': None}"
      ]
     },
     "execution_count": 91,
     "metadata": {},
     "output_type": "execute_result"
    }
   ],
   "source": [
    "py = json.loads(js)\n",
    "py"
   ]
  },
  {
   "cell_type": "markdown",
   "id": "d0595ee0",
   "metadata": {},
   "source": [
    "## Note  We can't Save tuple, and others Data type. Because Json is the Java Script Object Notation And these Data Types are not Support in JS"
   ]
  },
  {
   "cell_type": "markdown",
   "id": "8e865717",
   "metadata": {},
   "source": [
    "## Try to store typle in Js"
   ]
  },
  {
   "cell_type": "code",
   "execution_count": 5,
   "id": "46aab436",
   "metadata": {},
   "outputs": [
    {
     "data": {
      "text/plain": [
       "'[1, 2, 3]'"
      ]
     },
     "execution_count": 5,
     "metadata": {},
     "output_type": "execute_result"
    }
   ],
   "source": [
    "t = (1,2,3)\n",
    "\n",
    "js = json.dumps(t) # --> convert in JS Array\n",
    "js"
   ]
  },
  {
   "cell_type": "code",
   "execution_count": 8,
   "id": "df68f758",
   "metadata": {},
   "outputs": [
    {
     "data": {
      "text/plain": [
       "[1, 2, 3]"
      ]
     },
     "execution_count": 8,
     "metadata": {},
     "output_type": "execute_result"
    }
   ],
   "source": [
    "# load \n",
    "json.loads(js) # return List"
   ]
  },
  {
   "cell_type": "markdown",
   "id": "7c6ea30c",
   "metadata": {},
   "source": [
    "# Useful Json Methods\n",
    "<br>\n",
    "\n",
    "- # dump \n",
    "- # dumps \n",
    "- # load \n",
    "- # loads "
   ]
  },
  {
   "cell_type": "markdown",
   "id": "c5402800",
   "metadata": {},
   "source": [
    "# dump\n",
    "<br>\n",
    "\n",
    "* ## The json.dump() method is used to serialize Python objects as a JSON formatted string and write the resulting string to a file-like object. \n",
    "<br><br>\n",
    "\n",
    "* ## The method takes two main arguments\n",
    "<br><br>\n",
    "\n",
    "* ## The first argument is the Python object you want to serialize and write to the file.\n",
    "<br><br>\n",
    "\n",
    "* ## The second argument is the file-like object that you want to write the JSON formatted string to."
   ]
  },
  {
   "cell_type": "code",
   "execution_count": 93,
   "id": "35e35faa",
   "metadata": {},
   "outputs": [],
   "source": [
    "data = {\n",
    "    'name': 'Mubeen',\n",
    "    'Study': \"ICS\",\n",
    "    'city': 'New York'\n",
    "}\n",
    "\n",
    "with open('data.json', 'w') as f:\n",
    "    \n",
    "    # f is the file\n",
    "    json.dump(data, f)\n"
   ]
  },
  {
   "cell_type": "code",
   "execution_count": 94,
   "id": "c737ca4a",
   "metadata": {},
   "outputs": [
    {
     "name": "stdout",
     "output_type": "stream",
     "text": [
      "1_Json.ipynb  data.json\r\n"
     ]
    }
   ],
   "source": [
    "!ls"
   ]
  },
  {
   "cell_type": "markdown",
   "id": "246e9630",
   "metadata": {},
   "source": [
    "# load\n",
    "<br><br>\n",
    "\n",
    "* ## The json.load() method is used to deserialize a JSON formatted string into a Python object. The method takes one main argument:\n",
    "<br><br>\n",
    "\n",
    "* ## The argument is a file-like object containing a JSON formatted string to be deserialized."
   ]
  },
  {
   "cell_type": "code",
   "execution_count": 95,
   "id": "56245f1c",
   "metadata": {},
   "outputs": [
    {
     "name": "stdout",
     "output_type": "stream",
     "text": [
      "{'name': 'Mubeen', 'Study': 'ICS', 'city': 'New York'}\n"
     ]
    }
   ],
   "source": [
    "with open('data.json', 'r') as f:\n",
    "    data = json.load(f)\n",
    "    \n",
    "print(data)\n"
   ]
  },
  {
   "cell_type": "markdown",
   "id": "098157d3",
   "metadata": {},
   "source": [
    "# dumps\n",
    "\n",
    "* ## The json.dumps() method is used to serialize Python objects as a JSON formatted string."
   ]
  },
  {
   "cell_type": "code",
   "execution_count": 97,
   "id": "3799ef09",
   "metadata": {},
   "outputs": [
    {
     "data": {
      "text/plain": [
       "'{\"Name\": \"Mubeen\"}'"
      ]
     },
     "execution_count": 97,
     "metadata": {},
     "output_type": "execute_result"
    }
   ],
   "source": [
    "js = json.dumps({\"Name\":\"Mubeen\"})\n",
    "js"
   ]
  },
  {
   "cell_type": "markdown",
   "id": "27b6718e",
   "metadata": {},
   "source": [
    "# loads\n",
    "* ## The json.loads() method is used to deserialize a JSON formatted string into a Python object."
   ]
  },
  {
   "cell_type": "code",
   "execution_count": 98,
   "id": "2fa0dd64",
   "metadata": {},
   "outputs": [
    {
     "data": {
      "text/plain": [
       "{'Name': 'Mubeen'}"
      ]
     },
     "execution_count": 98,
     "metadata": {},
     "output_type": "execute_result"
    }
   ],
   "source": [
    "json.loads(js)"
   ]
  },
  {
   "cell_type": "markdown",
   "id": "87753e94",
   "metadata": {},
   "source": [
    "# default parameter\n",
    "<br>\n",
    "\n",
    "- ## Some Data types are not Stored in Json like oop Python object etc\n",
    "- ## default parameter provide the feature that how data type look like in JSON"
   ]
  },
  {
   "cell_type": "code",
   "execution_count": 17,
   "id": "c5f82001",
   "metadata": {},
   "outputs": [],
   "source": [
    "class Person:\n",
    "    \n",
    "    def __init__(self,name,study):\n",
    "        self.name = name\n",
    "        self.study = study"
   ]
  },
  {
   "cell_type": "code",
   "execution_count": 18,
   "id": "4e338a87",
   "metadata": {},
   "outputs": [],
   "source": [
    "person = Person(\"mubeen\",\"AI\")"
   ]
  },
  {
   "cell_type": "code",
   "execution_count": 19,
   "id": "70ae2913",
   "metadata": {},
   "outputs": [
    {
     "data": {
      "text/plain": [
       "'mubeen'"
      ]
     },
     "execution_count": 19,
     "metadata": {},
     "output_type": "execute_result"
    }
   ],
   "source": [
    "person.name"
   ]
  },
  {
   "cell_type": "code",
   "execution_count": 20,
   "id": "b80a8dee",
   "metadata": {},
   "outputs": [
    {
     "data": {
      "text/plain": [
       "'AI'"
      ]
     },
     "execution_count": 20,
     "metadata": {},
     "output_type": "execute_result"
    }
   ],
   "source": [
    "person.study"
   ]
  },
  {
   "cell_type": "markdown",
   "id": "038e89b0",
   "metadata": {},
   "source": [
    "## Now trying to dump the person object in json"
   ]
  },
  {
   "cell_type": "code",
   "execution_count": 21,
   "id": "9e1bf14a",
   "metadata": {},
   "outputs": [
    {
     "ename": "TypeError",
     "evalue": "Object of type Person is not JSON serializable",
     "output_type": "error",
     "traceback": [
      "\u001b[0;31m---------------------------------------------------------------------------\u001b[0m",
      "\u001b[0;31mTypeError\u001b[0m                                 Traceback (most recent call last)",
      "Cell \u001b[0;32mIn [21], line 1\u001b[0m\n\u001b[0;32m----> 1\u001b[0m \u001b[43mjson\u001b[49m\u001b[38;5;241;43m.\u001b[39;49m\u001b[43mdumps\u001b[49m\u001b[43m(\u001b[49m\u001b[43mperson\u001b[49m\u001b[43m)\u001b[49m\n",
      "File \u001b[0;32m/usr/lib/python3.10/json/__init__.py:231\u001b[0m, in \u001b[0;36mdumps\u001b[0;34m(obj, skipkeys, ensure_ascii, check_circular, allow_nan, cls, indent, separators, default, sort_keys, **kw)\u001b[0m\n\u001b[1;32m    226\u001b[0m \u001b[38;5;66;03m# cached encoder\u001b[39;00m\n\u001b[1;32m    227\u001b[0m \u001b[38;5;28;01mif\u001b[39;00m (\u001b[38;5;129;01mnot\u001b[39;00m skipkeys \u001b[38;5;129;01mand\u001b[39;00m ensure_ascii \u001b[38;5;129;01mand\u001b[39;00m\n\u001b[1;32m    228\u001b[0m     check_circular \u001b[38;5;129;01mand\u001b[39;00m allow_nan \u001b[38;5;129;01mand\u001b[39;00m\n\u001b[1;32m    229\u001b[0m     \u001b[38;5;28mcls\u001b[39m \u001b[38;5;129;01mis\u001b[39;00m \u001b[38;5;28;01mNone\u001b[39;00m \u001b[38;5;129;01mand\u001b[39;00m indent \u001b[38;5;129;01mis\u001b[39;00m \u001b[38;5;28;01mNone\u001b[39;00m \u001b[38;5;129;01mand\u001b[39;00m separators \u001b[38;5;129;01mis\u001b[39;00m \u001b[38;5;28;01mNone\u001b[39;00m \u001b[38;5;129;01mand\u001b[39;00m\n\u001b[1;32m    230\u001b[0m     default \u001b[38;5;129;01mis\u001b[39;00m \u001b[38;5;28;01mNone\u001b[39;00m \u001b[38;5;129;01mand\u001b[39;00m \u001b[38;5;129;01mnot\u001b[39;00m sort_keys \u001b[38;5;129;01mand\u001b[39;00m \u001b[38;5;129;01mnot\u001b[39;00m kw):\n\u001b[0;32m--> 231\u001b[0m     \u001b[38;5;28;01mreturn\u001b[39;00m \u001b[43m_default_encoder\u001b[49m\u001b[38;5;241;43m.\u001b[39;49m\u001b[43mencode\u001b[49m\u001b[43m(\u001b[49m\u001b[43mobj\u001b[49m\u001b[43m)\u001b[49m\n\u001b[1;32m    232\u001b[0m \u001b[38;5;28;01mif\u001b[39;00m \u001b[38;5;28mcls\u001b[39m \u001b[38;5;129;01mis\u001b[39;00m \u001b[38;5;28;01mNone\u001b[39;00m:\n\u001b[1;32m    233\u001b[0m     \u001b[38;5;28mcls\u001b[39m \u001b[38;5;241m=\u001b[39m JSONEncoder\n",
      "File \u001b[0;32m/usr/lib/python3.10/json/encoder.py:199\u001b[0m, in \u001b[0;36mJSONEncoder.encode\u001b[0;34m(self, o)\u001b[0m\n\u001b[1;32m    195\u001b[0m         \u001b[38;5;28;01mreturn\u001b[39;00m encode_basestring(o)\n\u001b[1;32m    196\u001b[0m \u001b[38;5;66;03m# This doesn't pass the iterator directly to ''.join() because the\u001b[39;00m\n\u001b[1;32m    197\u001b[0m \u001b[38;5;66;03m# exceptions aren't as detailed.  The list call should be roughly\u001b[39;00m\n\u001b[1;32m    198\u001b[0m \u001b[38;5;66;03m# equivalent to the PySequence_Fast that ''.join() would do.\u001b[39;00m\n\u001b[0;32m--> 199\u001b[0m chunks \u001b[38;5;241m=\u001b[39m \u001b[38;5;28;43mself\u001b[39;49m\u001b[38;5;241;43m.\u001b[39;49m\u001b[43miterencode\u001b[49m\u001b[43m(\u001b[49m\u001b[43mo\u001b[49m\u001b[43m,\u001b[49m\u001b[43m \u001b[49m\u001b[43m_one_shot\u001b[49m\u001b[38;5;241;43m=\u001b[39;49m\u001b[38;5;28;43;01mTrue\u001b[39;49;00m\u001b[43m)\u001b[49m\n\u001b[1;32m    200\u001b[0m \u001b[38;5;28;01mif\u001b[39;00m \u001b[38;5;129;01mnot\u001b[39;00m \u001b[38;5;28misinstance\u001b[39m(chunks, (\u001b[38;5;28mlist\u001b[39m, \u001b[38;5;28mtuple\u001b[39m)):\n\u001b[1;32m    201\u001b[0m     chunks \u001b[38;5;241m=\u001b[39m \u001b[38;5;28mlist\u001b[39m(chunks)\n",
      "File \u001b[0;32m/usr/lib/python3.10/json/encoder.py:257\u001b[0m, in \u001b[0;36mJSONEncoder.iterencode\u001b[0;34m(self, o, _one_shot)\u001b[0m\n\u001b[1;32m    252\u001b[0m \u001b[38;5;28;01melse\u001b[39;00m:\n\u001b[1;32m    253\u001b[0m     _iterencode \u001b[38;5;241m=\u001b[39m _make_iterencode(\n\u001b[1;32m    254\u001b[0m         markers, \u001b[38;5;28mself\u001b[39m\u001b[38;5;241m.\u001b[39mdefault, _encoder, \u001b[38;5;28mself\u001b[39m\u001b[38;5;241m.\u001b[39mindent, floatstr,\n\u001b[1;32m    255\u001b[0m         \u001b[38;5;28mself\u001b[39m\u001b[38;5;241m.\u001b[39mkey_separator, \u001b[38;5;28mself\u001b[39m\u001b[38;5;241m.\u001b[39mitem_separator, \u001b[38;5;28mself\u001b[39m\u001b[38;5;241m.\u001b[39msort_keys,\n\u001b[1;32m    256\u001b[0m         \u001b[38;5;28mself\u001b[39m\u001b[38;5;241m.\u001b[39mskipkeys, _one_shot)\n\u001b[0;32m--> 257\u001b[0m \u001b[38;5;28;01mreturn\u001b[39;00m \u001b[43m_iterencode\u001b[49m\u001b[43m(\u001b[49m\u001b[43mo\u001b[49m\u001b[43m,\u001b[49m\u001b[43m \u001b[49m\u001b[38;5;241;43m0\u001b[39;49m\u001b[43m)\u001b[49m\n",
      "File \u001b[0;32m/usr/lib/python3.10/json/encoder.py:179\u001b[0m, in \u001b[0;36mJSONEncoder.default\u001b[0;34m(self, o)\u001b[0m\n\u001b[1;32m    160\u001b[0m \u001b[38;5;28;01mdef\u001b[39;00m \u001b[38;5;21mdefault\u001b[39m(\u001b[38;5;28mself\u001b[39m, o):\n\u001b[1;32m    161\u001b[0m     \u001b[38;5;124;03m\"\"\"Implement this method in a subclass such that it returns\u001b[39;00m\n\u001b[1;32m    162\u001b[0m \u001b[38;5;124;03m    a serializable object for ``o``, or calls the base implementation\u001b[39;00m\n\u001b[1;32m    163\u001b[0m \u001b[38;5;124;03m    (to raise a ``TypeError``).\u001b[39;00m\n\u001b[0;32m   (...)\u001b[0m\n\u001b[1;32m    177\u001b[0m \n\u001b[1;32m    178\u001b[0m \u001b[38;5;124;03m    \"\"\"\u001b[39;00m\n\u001b[0;32m--> 179\u001b[0m     \u001b[38;5;28;01mraise\u001b[39;00m \u001b[38;5;167;01mTypeError\u001b[39;00m(\u001b[38;5;124mf\u001b[39m\u001b[38;5;124m'\u001b[39m\u001b[38;5;124mObject of type \u001b[39m\u001b[38;5;132;01m{\u001b[39;00mo\u001b[38;5;241m.\u001b[39m\u001b[38;5;18m__class__\u001b[39m\u001b[38;5;241m.\u001b[39m\u001b[38;5;18m__name__\u001b[39m\u001b[38;5;132;01m}\u001b[39;00m\u001b[38;5;124m \u001b[39m\u001b[38;5;124m'\u001b[39m\n\u001b[1;32m    180\u001b[0m                     \u001b[38;5;124mf\u001b[39m\u001b[38;5;124m'\u001b[39m\u001b[38;5;124mis not JSON serializable\u001b[39m\u001b[38;5;124m'\u001b[39m)\n",
      "\u001b[0;31mTypeError\u001b[0m: Object of type Person is not JSON serializable"
     ]
    }
   ],
   "source": [
    "json.dumps(person)"
   ]
  },
  {
   "cell_type": "markdown",
   "id": "8574833d",
   "metadata": {},
   "source": [
    "# create a function "
   ]
  },
  {
   "cell_type": "code",
   "execution_count": 38,
   "id": "fb9f899f",
   "metadata": {},
   "outputs": [],
   "source": [
    "def custom(obj):\n",
    "    \n",
    "    if isinstance(obj,Person):\n",
    "        return f\"name {obj.name} -> study {obj.study}\""
   ]
  },
  {
   "cell_type": "code",
   "execution_count": 39,
   "id": "1d3fd869",
   "metadata": {},
   "outputs": [
    {
     "data": {
      "text/plain": [
       "'name mubeen -> study AI'"
      ]
     },
     "execution_count": 39,
     "metadata": {},
     "output_type": "execute_result"
    }
   ],
   "source": [
    "custom(person)"
   ]
  },
  {
   "cell_type": "markdown",
   "id": "49fe0031",
   "metadata": {},
   "source": [
    " # Now Again dump the object with default"
   ]
  },
  {
   "cell_type": "code",
   "execution_count": 40,
   "id": "8a93fe21",
   "metadata": {},
   "outputs": [],
   "source": [
    "js = json.dumps(person,default=custom)"
   ]
  },
  {
   "cell_type": "code",
   "execution_count": 33,
   "id": "c98b8f81",
   "metadata": {},
   "outputs": [
    {
     "data": {
      "text/plain": [
       "'\"name mubeen -> study AI\"'"
      ]
     },
     "execution_count": 33,
     "metadata": {},
     "output_type": "execute_result"
    }
   ],
   "source": [
    "js"
   ]
  },
  {
   "cell_type": "markdown",
   "id": "57c20be7",
   "metadata": {},
   "source": [
    "# Now loads in python format"
   ]
  },
  {
   "cell_type": "code",
   "execution_count": 34,
   "id": "f2300c05",
   "metadata": {},
   "outputs": [
    {
     "data": {
      "text/plain": [
       "'name mubeen -> study AI'"
      ]
     },
     "execution_count": 34,
     "metadata": {},
     "output_type": "execute_result"
    }
   ],
   "source": [
    "json.loads(js)"
   ]
  },
  {
   "cell_type": "markdown",
   "id": "2c278a5e",
   "metadata": {},
   "source": [
    "# But it is Not a Perfect way to store Unsupported data type in Json"
   ]
  }
 ],
 "metadata": {
  "kernelspec": {
   "display_name": "Python 3 (ipykernel)",
   "language": "python",
   "name": "python3"
  },
  "language_info": {
   "codemirror_mode": {
    "name": "ipython",
    "version": 3
   },
   "file_extension": ".py",
   "mimetype": "text/x-python",
   "name": "python",
   "nbconvert_exporter": "python",
   "pygments_lexer": "ipython3",
   "version": "3.10.6"
  }
 },
 "nbformat": 4,
 "nbformat_minor": 5
}

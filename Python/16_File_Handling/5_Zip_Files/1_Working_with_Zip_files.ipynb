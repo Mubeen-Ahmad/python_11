{
 "cells": [
  {
   "cell_type": "code",
   "execution_count": 58,
   "id": "a02dc023",
   "metadata": {},
   "outputs": [],
   "source": [
    "import zipfile"
   ]
  },
  {
   "cell_type": "markdown",
   "id": "3b91ef67",
   "metadata": {},
   "source": [
    "## create random files"
   ]
  },
  {
   "cell_type": "code",
   "execution_count": 2,
   "id": "ff72c58d",
   "metadata": {},
   "outputs": [],
   "source": [
    "!mkdir temp"
   ]
  },
  {
   "cell_type": "code",
   "execution_count": 3,
   "id": "0aa9febd",
   "metadata": {},
   "outputs": [
    {
     "name": "stdout",
     "output_type": "stream",
     "text": [
      "1_zip_read_write.ipynb\ttemp\r\n"
     ]
    }
   ],
   "source": [
    "!ls"
   ]
  },
  {
   "cell_type": "code",
   "execution_count": 4,
   "id": "0ad61468",
   "metadata": {},
   "outputs": [],
   "source": [
    "!echo \"hello world\" > temp/data.txt"
   ]
  },
  {
   "cell_type": "code",
   "execution_count": 5,
   "id": "320a37bc",
   "metadata": {},
   "outputs": [
    {
     "name": "stdout",
     "output_type": "stream",
     "text": [
      "hello world\r\n"
     ]
    }
   ],
   "source": [
    "!cat temp/data.txt"
   ]
  },
  {
   "cell_type": "code",
   "execution_count": 6,
   "id": "ae5c451c",
   "metadata": {},
   "outputs": [],
   "source": [
    "path = \"./temp\""
   ]
  },
  {
   "cell_type": "markdown",
   "id": "3e84e60c",
   "metadata": {},
   "source": [
    "# Create Zip File (write) w mode"
   ]
  },
  {
   "cell_type": "code",
   "execution_count": 7,
   "id": "73d61bc9",
   "metadata": {},
   "outputs": [],
   "source": [
    "with zipfile.ZipFile(\"compress.zip\",\"w\") as file:\n",
    "    \n",
    "    # select file\n",
    "    file.write(\"./temp/data.txt\")"
   ]
  },
  {
   "cell_type": "code",
   "execution_count": 8,
   "id": "6af1b876",
   "metadata": {},
   "outputs": [
    {
     "name": "stdout",
     "output_type": "stream",
     "text": [
      "1_zip_read_write.ipynb\tcompress.zip  temp\r\n"
     ]
    }
   ],
   "source": [
    "!ls"
   ]
  },
  {
   "cell_type": "markdown",
   "id": "bff99d20",
   "metadata": {},
   "source": [
    "# Read Zip File r mode"
   ]
  },
  {
   "cell_type": "code",
   "execution_count": 9,
   "id": "e8e48001",
   "metadata": {},
   "outputs": [
    {
     "name": "stdout",
     "output_type": "stream",
     "text": [
      "File Name                                             Modified             Size\n",
      "temp/data.txt                                  2023-02-18 04:24:08           12\n",
      "None\n"
     ]
    }
   ],
   "source": [
    "with zipfile.ZipFile(\"compress.zip\",\"r\") as file:\n",
    "        print(file.printdir())"
   ]
  },
  {
   "cell_type": "markdown",
   "id": "d0aeec97",
   "metadata": {},
   "source": [
    "# add mode file append mode a"
   ]
  },
  {
   "cell_type": "code",
   "execution_count": 10,
   "id": "0903d0a7",
   "metadata": {},
   "outputs": [
    {
     "name": "stdout",
     "output_type": "stream",
     "text": [
      "2nd file\r\n"
     ]
    }
   ],
   "source": [
    "!echo \"2nd file\" > ./temp/new_file.txt\n",
    "!cat ./temp/new_file.txt"
   ]
  },
  {
   "cell_type": "code",
   "execution_count": 11,
   "id": "3706b2e1",
   "metadata": {},
   "outputs": [
    {
     "name": "stdout",
     "output_type": "stream",
     "text": [
      "1_zip_read_write.ipynb\tcompress.zip  temp\r\n"
     ]
    }
   ],
   "source": [
    "!ls"
   ]
  },
  {
   "cell_type": "code",
   "execution_count": 12,
   "id": "8cb83fe1",
   "metadata": {},
   "outputs": [
    {
     "name": "stdout",
     "output_type": "stream",
     "text": [
      "File Name                                             Modified             Size\n",
      "temp/data.txt                                  2023-02-18 04:24:08           12\n",
      "temp/new_file.txt                              2023-02-18 04:24:08            9\n",
      "None\n"
     ]
    }
   ],
   "source": [
    "with zipfile.ZipFile(\"compress.zip\",\"a\") as file:\n",
    "        # append file\n",
    "        file.write(\"./temp/new_file.txt\")\n",
    "        \n",
    "        #read file\n",
    "        print(file.printdir())"
   ]
  },
  {
   "cell_type": "markdown",
   "id": "1303de9e",
   "metadata": {},
   "source": [
    "# Extract files"
   ]
  },
  {
   "cell_type": "markdown",
   "id": "d610fbc8",
   "metadata": {},
   "source": [
    "### i am used other method (without with())"
   ]
  },
  {
   "cell_type": "code",
   "execution_count": 13,
   "id": "0f9918cd",
   "metadata": {},
   "outputs": [],
   "source": [
    "file = zipfile.ZipFile(\"compress.zip\",\"r\")"
   ]
  },
  {
   "cell_type": "code",
   "execution_count": 14,
   "id": "9e9c4b52",
   "metadata": {},
   "outputs": [
    {
     "name": "stdout",
     "output_type": "stream",
     "text": [
      "File Name                                             Modified             Size\n",
      "temp/data.txt                                  2023-02-18 04:24:08           12\n",
      "temp/new_file.txt                              2023-02-18 04:24:08            9\n"
     ]
    }
   ],
   "source": [
    "file.printdir()"
   ]
  },
  {
   "cell_type": "markdown",
   "id": "9c673a39",
   "metadata": {},
   "source": [
    "## delete temp folder"
   ]
  },
  {
   "cell_type": "code",
   "execution_count": 15,
   "id": "51a02507",
   "metadata": {},
   "outputs": [
    {
     "name": "stdout",
     "output_type": "stream",
     "text": [
      "1_zip_read_write.ipynb\tcompress.zip\r\n"
     ]
    }
   ],
   "source": [
    "!rm -rf ./temp\n",
    "!ls"
   ]
  },
  {
   "cell_type": "markdown",
   "id": "ee75080e",
   "metadata": {},
   "source": [
    "## extract file"
   ]
  },
  {
   "cell_type": "code",
   "execution_count": 16,
   "id": "a45383a7",
   "metadata": {},
   "outputs": [
    {
     "data": {
      "text/plain": [
       "'/home/sweeterror404/python/python_11/Python/16_File_Handling/4_Zip_Files/temp/data.txt'"
      ]
     },
     "execution_count": 16,
     "metadata": {},
     "output_type": "execute_result"
    }
   ],
   "source": [
    "# extract data.txt\n",
    "file.extract(\"temp/data.txt\")"
   ]
  },
  {
   "cell_type": "code",
   "execution_count": 17,
   "id": "9fc1acd5",
   "metadata": {},
   "outputs": [
    {
     "name": "stdout",
     "output_type": "stream",
     "text": [
      "data.txt\r\n"
     ]
    }
   ],
   "source": [
    "!ls ./temp"
   ]
  },
  {
   "cell_type": "markdown",
   "id": "7be4b76d",
   "metadata": {},
   "source": [
    "## extract with other folder"
   ]
  },
  {
   "cell_type": "code",
   "execution_count": 18,
   "id": "372ebf7b",
   "metadata": {},
   "outputs": [
    {
     "data": {
      "text/plain": [
       "'new/temp/data.txt'"
      ]
     },
     "execution_count": 18,
     "metadata": {},
     "output_type": "execute_result"
    }
   ],
   "source": [
    "file.extract(\"temp/data.txt\",\"new\")"
   ]
  },
  {
   "cell_type": "code",
   "execution_count": 19,
   "id": "4afce04a",
   "metadata": {},
   "outputs": [
    {
     "name": "stdout",
     "output_type": "stream",
     "text": [
      "1_zip_read_write.ipynb\tcompress.zip  new  temp\r\n"
     ]
    }
   ],
   "source": [
    "!ls"
   ]
  },
  {
   "cell_type": "code",
   "execution_count": 20,
   "id": "aec18da3",
   "metadata": {},
   "outputs": [
    {
     "name": "stdout",
     "output_type": "stream",
     "text": [
      "data.txt\r\n"
     ]
    }
   ],
   "source": [
    "!ls ./new/temp/"
   ]
  },
  {
   "cell_type": "markdown",
   "id": "956bb473",
   "metadata": {},
   "source": [
    "## Extract all files"
   ]
  },
  {
   "cell_type": "code",
   "execution_count": 21,
   "id": "d3e3fd2b",
   "metadata": {},
   "outputs": [],
   "source": [
    "file.extractall(\"allfiles\")"
   ]
  },
  {
   "cell_type": "code",
   "execution_count": 22,
   "id": "c3d485be",
   "metadata": {},
   "outputs": [
    {
     "name": "stdout",
     "output_type": "stream",
     "text": [
      "data.txt  new_file.txt\r\n"
     ]
    }
   ],
   "source": [
    "!ls ./allfiles/temp/"
   ]
  },
  {
   "cell_type": "markdown",
   "id": "f1a3318f",
   "metadata": {},
   "source": [
    "# close file"
   ]
  },
  {
   "cell_type": "code",
   "execution_count": 23,
   "id": "3349346d",
   "metadata": {},
   "outputs": [],
   "source": [
    "file.close()"
   ]
  },
  {
   "cell_type": "markdown",
   "id": "b4db6bd3",
   "metadata": {},
   "source": [
    "# Add password"
   ]
  },
  {
   "cell_type": "markdown",
   "id": "4a50005e",
   "metadata": {},
   "source": [
    "# zipfile are not for set the Password"
   ]
  },
  {
   "cell_type": "markdown",
   "id": "d46c9364",
   "metadata": {},
   "source": [
    "# use pyminizip library"
   ]
  },
  {
   "cell_type": "code",
   "execution_count": 6,
   "id": "6ba2334c",
   "metadata": {},
   "outputs": [
    {
     "name": "stdout",
     "output_type": "stream",
     "text": [
      "Defaulting to user installation because normal site-packages is not writeable\n",
      "Collecting pyminizip\n",
      "  Downloading pyminizip-0.2.6.tar.gz (261 kB)\n",
      "\u001b[2K     \u001b[38;2;114;156;31m━━━━━━━━━━━━━━━━━━━━━━━━━━━━━━━━━━━━━\u001b[0m \u001b[32m261.2/261.2 KB\u001b[0m \u001b[31m288.2 kB/s\u001b[0m eta \u001b[36m0:00:00\u001b[0m[36m0:00:01\u001b[0mm eta \u001b[36m0:00:01\u001b[0m\n",
      "\u001b[?25h  Preparing metadata (setup.py) ... \u001b[?25ldone\n",
      "\u001b[?25hBuilding wheels for collected packages: pyminizip\n",
      "  Building wheel for pyminizip (setup.py) ... \u001b[?25ldone\n",
      "\u001b[?25h  Created wheel for pyminizip: filename=pyminizip-0.2.6-cp310-cp310-linux_x86_64.whl size=207077 sha256=f8e26b15e8b4bf5ab4a344dbccd8bb34db7c8084e9df3ec2a3e3b0d0194b7a6f\n",
      "  Stored in directory: /home/sweeterror404/.cache/pip/wheels/ed/6c/ae/0ee601d1139f7ba48c1b572b04707f27427af5290e6fb7afb9\n",
      "Successfully built pyminizip\n",
      "Installing collected packages: pyminizip\n",
      "Successfully installed pyminizip-0.2.6\n"
     ]
    }
   ],
   "source": [
    "!pip install pyminizip"
   ]
  },
  {
   "cell_type": "code",
   "execution_count": 7,
   "id": "5c5de060",
   "metadata": {},
   "outputs": [],
   "source": [
    "import pyminizip"
   ]
  },
  {
   "cell_type": "markdown",
   "id": "c87390a8",
   "metadata": {},
   "source": [
    "## There are three useful methods"
   ]
  },
  {
   "cell_type": "markdown",
   "id": "67bcfb5c",
   "metadata": {},
   "source": [
    "# compress\n",
    "<br><br>\n",
    " - ## compress\n",
    " - ## (\n",
    "    - ### file ,\n",
    "    - ### foldername new [leave empty if we need orignal name],\n",
    "    - ### zipfilename\n",
    "    - ### password\n",
    "    - ### compresslevel (1-9)\n",
    " - ## )\n",
    "     \n"
   ]
  },
  {
   "cell_type": "code",
   "execution_count": 9,
   "id": "36e36c65",
   "metadata": {},
   "outputs": [
    {
     "name": "stdout",
     "output_type": "stream",
     "text": [
      "1_zip_read_write.ipynb\tallfiles  compress.zip\tnew  temp\n",
      "removed 'allfiles/temp/new_file.txt'\n",
      "removed 'allfiles/temp/data.txt'\n",
      "removed directory 'allfiles/temp'\n",
      "removed directory 'allfiles'\n",
      "removed 'compress.zip'\n",
      "removed 'new/temp/data.txt'\n",
      "removed directory 'new/temp'\n",
      "removed directory 'new'\n",
      "removed 'temp/data.txt'\n",
      "removed directory 'temp'\n"
     ]
    }
   ],
   "source": [
    "#remove files\n",
    "!ls\n",
    "!rm -rvf allfiles  compress.zip\tnew  temp"
   ]
  },
  {
   "cell_type": "code",
   "execution_count": 10,
   "id": "89dafd7c",
   "metadata": {},
   "outputs": [
    {
     "name": "stdout",
     "output_type": "stream",
     "text": [
      "1_zip_read_write.ipynb\r\n"
     ]
    }
   ],
   "source": [
    "!ls"
   ]
  },
  {
   "cell_type": "markdown",
   "id": "e4fc6974",
   "metadata": {},
   "source": [
    "## create file used for compress"
   ]
  },
  {
   "cell_type": "code",
   "execution_count": 49,
   "id": "22231d3d",
   "metadata": {},
   "outputs": [
    {
     "name": "stdout",
     "output_type": "stream",
     "text": [
      "1_zip_read_write.ipynb\tdata.txt\r\n"
     ]
    }
   ],
   "source": [
    "!echo \"hello\" > data.txt\n",
    "!ls"
   ]
  },
  {
   "cell_type": "code",
   "execution_count": 50,
   "id": "e39494a7",
   "metadata": {},
   "outputs": [],
   "source": [
    "pyminizip.compress(\"data.txt\",\"secure\",\"protect.zip\",\"12345\",9)"
   ]
  },
  {
   "cell_type": "code",
   "execution_count": 51,
   "id": "45ab806d",
   "metadata": {},
   "outputs": [
    {
     "name": "stdout",
     "output_type": "stream",
     "text": [
      "1_zip_read_write.ipynb\tdata.txt  protect.zip\r\n"
     ]
    }
   ],
   "source": [
    "!ls"
   ]
  },
  {
   "cell_type": "code",
   "execution_count": 52,
   "id": "b7b5b6a4",
   "metadata": {},
   "outputs": [
    {
     "name": "stdout",
     "output_type": "stream",
     "text": [
      "1_zip_read_write.ipynb\tprotect.zip\r\n"
     ]
    }
   ],
   "source": [
    "# remove file\n",
    "!rm data.txt\n",
    "!ls"
   ]
  },
  {
   "cell_type": "markdown",
   "id": "77fe2501",
   "metadata": {},
   "source": [
    "# uncompress\n",
    "<br><br>\n",
    "\n",
    "- ## uncompress\n",
    "- ## ( \n",
    "    - ### compressfilename,\n",
    "    - ### password,\n",
    "    - ### select_path,\n",
    "    - ### depresswithpath or only file (True / False) means\n",
    "        <br>\n",
    "        \n",
    "        - #### True -> only single file data.txt\n",
    "        - #### False -> with folder name my_data/data.txt\n",
    "- ## )"
   ]
  },
  {
   "cell_type": "code",
   "execution_count": 75,
   "id": "1b5e459b",
   "metadata": {},
   "outputs": [],
   "source": [
    "pyminizip.uncompress(\"protect.zip\",\"12345\",\".\",False)"
   ]
  },
  {
   "cell_type": "code",
   "execution_count": 54,
   "id": "52a42c51",
   "metadata": {},
   "outputs": [
    {
     "name": "stdout",
     "output_type": "stream",
     "text": [
      "1_zip_read_write.ipynb\tprotect.zip  secure\r\n"
     ]
    }
   ],
   "source": [
    "!ls\n",
    "\n",
    "# secure is the new folder"
   ]
  },
  {
   "cell_type": "markdown",
   "id": "80bffc24",
   "metadata": {},
   "source": [
    "## Now use True "
   ]
  },
  {
   "cell_type": "code",
   "execution_count": 76,
   "id": "5c1b39ed",
   "metadata": {},
   "outputs": [],
   "source": [
    "pyminizip.uncompress(\"protect.zip\",\"12345\",\".\",True)"
   ]
  },
  {
   "cell_type": "code",
   "execution_count": 56,
   "id": "28539d6c",
   "metadata": {},
   "outputs": [
    {
     "name": "stdout",
     "output_type": "stream",
     "text": [
      "1_zip_read_write.ipynb\tdata.txt  protect.zip  secure\r\n"
     ]
    }
   ],
   "source": [
    "!ls"
   ]
  },
  {
   "cell_type": "markdown",
   "id": "e0a273cb",
   "metadata": {},
   "source": [
    "# Note We are also decompress with zipfile"
   ]
  },
  {
   "cell_type": "code",
   "execution_count": 63,
   "id": "be0c6248",
   "metadata": {},
   "outputs": [
    {
     "name": "stdout",
     "output_type": "stream",
     "text": [
      "File Name                                             Modified             Size\n",
      "secure/data.txt                                2023-02-18 23:57:46            6\n",
      "None\n"
     ]
    }
   ],
   "source": [
    "with zipfile.ZipFile(\"protect.zip\",\"r\") as file:\n",
    "        print(file.printdir())\n"
   ]
  },
  {
   "cell_type": "markdown",
   "id": "32493d57",
   "metadata": {},
   "source": [
    "## Try to extract witout password"
   ]
  },
  {
   "cell_type": "code",
   "execution_count": 65,
   "id": "4761ff28",
   "metadata": {},
   "outputs": [
    {
     "ename": "RuntimeError",
     "evalue": "File <ZipInfo filename='secure/data.txt' compress_type=deflate file_size=6 compress_size=20> is encrypted, password required for extraction",
     "output_type": "error",
     "traceback": [
      "\u001b[0;31m---------------------------------------------------------------------------\u001b[0m",
      "\u001b[0;31mRuntimeError\u001b[0m                              Traceback (most recent call last)",
      "Cell \u001b[0;32mIn [65], line 2\u001b[0m\n\u001b[1;32m      1\u001b[0m \u001b[38;5;28;01mwith\u001b[39;00m zipfile\u001b[38;5;241m.\u001b[39mZipFile(\u001b[38;5;124m\"\u001b[39m\u001b[38;5;124mprotect.zip\u001b[39m\u001b[38;5;124m\"\u001b[39m,\u001b[38;5;124m\"\u001b[39m\u001b[38;5;124mr\u001b[39m\u001b[38;5;124m\"\u001b[39m) \u001b[38;5;28;01mas\u001b[39;00m file:\n\u001b[0;32m----> 2\u001b[0m         \u001b[43mfile\u001b[49m\u001b[38;5;241;43m.\u001b[39;49m\u001b[43mextractall\u001b[49m\u001b[43m(\u001b[49m\u001b[43m)\u001b[49m\n",
      "File \u001b[0;32m/usr/lib/python3.10/zipfile.py:1645\u001b[0m, in \u001b[0;36mZipFile.extractall\u001b[0;34m(self, path, members, pwd)\u001b[0m\n\u001b[1;32m   1642\u001b[0m     path \u001b[38;5;241m=\u001b[39m os\u001b[38;5;241m.\u001b[39mfspath(path)\n\u001b[1;32m   1644\u001b[0m \u001b[38;5;28;01mfor\u001b[39;00m zipinfo \u001b[38;5;129;01min\u001b[39;00m members:\n\u001b[0;32m-> 1645\u001b[0m     \u001b[38;5;28;43mself\u001b[39;49m\u001b[38;5;241;43m.\u001b[39;49m\u001b[43m_extract_member\u001b[49m\u001b[43m(\u001b[49m\u001b[43mzipinfo\u001b[49m\u001b[43m,\u001b[49m\u001b[43m \u001b[49m\u001b[43mpath\u001b[49m\u001b[43m,\u001b[49m\u001b[43m \u001b[49m\u001b[43mpwd\u001b[49m\u001b[43m)\u001b[49m\n",
      "File \u001b[0;32m/usr/lib/python3.10/zipfile.py:1698\u001b[0m, in \u001b[0;36mZipFile._extract_member\u001b[0;34m(self, member, targetpath, pwd)\u001b[0m\n\u001b[1;32m   1695\u001b[0m         os\u001b[38;5;241m.\u001b[39mmkdir(targetpath)\n\u001b[1;32m   1696\u001b[0m     \u001b[38;5;28;01mreturn\u001b[39;00m targetpath\n\u001b[0;32m-> 1698\u001b[0m \u001b[38;5;28;01mwith\u001b[39;00m \u001b[38;5;28;43mself\u001b[39;49m\u001b[38;5;241;43m.\u001b[39;49m\u001b[43mopen\u001b[49m\u001b[43m(\u001b[49m\u001b[43mmember\u001b[49m\u001b[43m,\u001b[49m\u001b[43m \u001b[49m\u001b[43mpwd\u001b[49m\u001b[38;5;241;43m=\u001b[39;49m\u001b[43mpwd\u001b[49m\u001b[43m)\u001b[49m \u001b[38;5;28;01mas\u001b[39;00m source, \\\n\u001b[1;32m   1699\u001b[0m      \u001b[38;5;28mopen\u001b[39m(targetpath, \u001b[38;5;124m\"\u001b[39m\u001b[38;5;124mwb\u001b[39m\u001b[38;5;124m\"\u001b[39m) \u001b[38;5;28;01mas\u001b[39;00m target:\n\u001b[1;32m   1700\u001b[0m     shutil\u001b[38;5;241m.\u001b[39mcopyfileobj(source, target)\n\u001b[1;32m   1702\u001b[0m \u001b[38;5;28;01mreturn\u001b[39;00m targetpath\n",
      "File \u001b[0;32m/usr/lib/python3.10/zipfile.py:1566\u001b[0m, in \u001b[0;36mZipFile.open\u001b[0;34m(self, name, mode, pwd, force_zip64)\u001b[0m\n\u001b[1;32m   1564\u001b[0m         pwd \u001b[38;5;241m=\u001b[39m \u001b[38;5;28mself\u001b[39m\u001b[38;5;241m.\u001b[39mpwd\n\u001b[1;32m   1565\u001b[0m     \u001b[38;5;28;01mif\u001b[39;00m \u001b[38;5;129;01mnot\u001b[39;00m pwd:\n\u001b[0;32m-> 1566\u001b[0m         \u001b[38;5;28;01mraise\u001b[39;00m \u001b[38;5;167;01mRuntimeError\u001b[39;00m(\u001b[38;5;124m\"\u001b[39m\u001b[38;5;124mFile \u001b[39m\u001b[38;5;132;01m%r\u001b[39;00m\u001b[38;5;124m is encrypted, password \u001b[39m\u001b[38;5;124m\"\u001b[39m\n\u001b[1;32m   1567\u001b[0m                            \u001b[38;5;124m\"\u001b[39m\u001b[38;5;124mrequired for extraction\u001b[39m\u001b[38;5;124m\"\u001b[39m \u001b[38;5;241m%\u001b[39m name)\n\u001b[1;32m   1568\u001b[0m \u001b[38;5;28;01melse\u001b[39;00m:\n\u001b[1;32m   1569\u001b[0m     pwd \u001b[38;5;241m=\u001b[39m \u001b[38;5;28;01mNone\u001b[39;00m\n",
      "\u001b[0;31mRuntimeError\u001b[0m: File <ZipInfo filename='secure/data.txt' compress_type=deflate file_size=6 compress_size=20> is encrypted, password required for extraction"
     ]
    }
   ],
   "source": [
    "with zipfile.ZipFile(\"protect.zip\",\"r\") as file:\n",
    "        file.extractall()\n"
   ]
  },
  {
   "cell_type": "markdown",
   "id": "eb0ec519",
   "metadata": {},
   "source": [
    "## use setpassword method"
   ]
  },
  {
   "cell_type": "code",
   "execution_count": 77,
   "id": "dda8e5f3",
   "metadata": {},
   "outputs": [
    {
     "name": "stdout",
     "output_type": "stream",
     "text": [
      "1_zip_read_write.ipynb\tdata.txt  protect.zip  secure\n",
      "1_zip_read_write.ipynb\tprotect.zip\n"
     ]
    }
   ],
   "source": [
    "!ls\n",
    "# remove old files\n",
    "!rm -rf data.txt secure\n",
    "!ls"
   ]
  },
  {
   "cell_type": "code",
   "execution_count": 78,
   "id": "883e1046",
   "metadata": {},
   "outputs": [],
   "source": [
    "with zipfile.ZipFile(\"protect.zip\",\"r\") as file:\n",
    "        # password accept only in bytes\n",
    "        file.setpassword(b\"12345\")\n",
    "        file.extractall()"
   ]
  },
  {
   "cell_type": "code",
   "execution_count": 79,
   "id": "03eea725",
   "metadata": {},
   "outputs": [
    {
     "name": "stdout",
     "output_type": "stream",
     "text": [
      "1_zip_read_write.ipynb\tprotect.zip  secure\r\n"
     ]
    }
   ],
   "source": [
    "!ls"
   ]
  },
  {
   "cell_type": "code",
   "execution_count": 80,
   "id": "3f60c7d6",
   "metadata": {},
   "outputs": [
    {
     "name": "stdout",
     "output_type": "stream",
     "text": [
      "data.txt\r\n"
     ]
    }
   ],
   "source": [
    "!ls ./secure/"
   ]
  },
  {
   "cell_type": "markdown",
   "id": "a5caf0bd",
   "metadata": {},
   "source": [
    "# compress_multiple\n",
    "<br><br>\n",
    " - ## compress_multiple\n",
    " - ## (\n",
    "    - ### [file1,file2,...] ,\n",
    "    - ### [folder1,folder2,....] [leave empty  [\"\",\"\"] if we need orignal name],\n",
    "    - ### zipfilename\n",
    "    - ### password\n",
    "    - ### compresslevel (1-9)\n",
    " - ## )\n",
    "     "
   ]
  },
  {
   "cell_type": "code",
   "execution_count": 81,
   "id": "30aa28d3",
   "metadata": {},
   "outputs": [
    {
     "name": "stdout",
     "output_type": "stream",
     "text": [
      "1_zip_read_write.ipynb\tprotect.zip  secure\r\n"
     ]
    }
   ],
   "source": [
    "!ls"
   ]
  },
  {
   "cell_type": "code",
   "execution_count": 82,
   "id": "efc7b3df",
   "metadata": {},
   "outputs": [
    {
     "name": "stdout",
     "output_type": "stream",
     "text": [
      "1_zip_read_write.ipynb\r\n"
     ]
    }
   ],
   "source": [
    "!rm -rf protect.zip secure\n",
    "!ls"
   ]
  },
  {
   "cell_type": "markdown",
   "id": "a414f023",
   "metadata": {},
   "source": [
    "## create some files"
   ]
  },
  {
   "cell_type": "code",
   "execution_count": 90,
   "id": "56df516e",
   "metadata": {},
   "outputs": [
    {
     "name": "stdout",
     "output_type": "stream",
     "text": [
      "1_zip_read_write.ipynb\tf1.txt\tf2.txt\tf3.txt\r\n"
     ]
    }
   ],
   "source": [
    "!echo \"file_1\" > f1.txt\n",
    "!echo \"file_2\" > f2.txt\n",
    "!echo \"file_3\" > f3.txt \n",
    "\n",
    "!ls"
   ]
  },
  {
   "cell_type": "code",
   "execution_count": 100,
   "id": "710a0f86",
   "metadata": {},
   "outputs": [],
   "source": [
    "pyminizip.compress_multiple(\n",
    "    [\"f1.txt\",\"f2.txt\",\"f3.txt\"],\n",
    "    [\"\",\"\",\"\"], # --> need orignal name\n",
    "    \"multi.zip\", # filename\n",
    "    \"pass\", # password\n",
    "    9 # compress level\n",
    ")"
   ]
  },
  {
   "cell_type": "code",
   "execution_count": 101,
   "id": "ec3e8028",
   "metadata": {},
   "outputs": [
    {
     "name": "stdout",
     "output_type": "stream",
     "text": [
      "1_zip_read_write.ipynb\tf1.txt\tf2.txt\tf3.txt\tmulti.zip\r\n"
     ]
    }
   ],
   "source": [
    "!ls"
   ]
  },
  {
   "cell_type": "markdown",
   "id": "89878568",
   "metadata": {},
   "source": [
    "# now Extract"
   ]
  },
  {
   "cell_type": "code",
   "execution_count": 104,
   "id": "d82a27e5",
   "metadata": {},
   "outputs": [],
   "source": [
    "# remove files\n",
    "! rm f1.txt f2.txt f3.txt"
   ]
  },
  {
   "cell_type": "code",
   "execution_count": 105,
   "id": "9e0e09ce",
   "metadata": {},
   "outputs": [
    {
     "name": "stdout",
     "output_type": "stream",
     "text": [
      "1_zip_read_write.ipynb\tmulti.zip\r\n"
     ]
    }
   ],
   "source": [
    "!ls"
   ]
  },
  {
   "cell_type": "code",
   "execution_count": 106,
   "id": "15f75ed1",
   "metadata": {},
   "outputs": [
    {
     "name": "stdout",
     "output_type": "stream",
     "text": [
      "File Name                                             Modified             Size\n",
      "f1.txt                                         2023-02-19 00:13:36            7\n",
      "f2.txt                                         2023-02-19 00:13:36            7\n",
      "f3.txt                                         2023-02-19 00:13:36            7\n",
      "None\n"
     ]
    }
   ],
   "source": [
    "with zipfile.ZipFile(\"multi.zip\",\"r\") as file:\n",
    "        # password accept only in bytes\n",
    "        print(file.printdir())\n",
    "        file.setpassword(b\"pass\")\n",
    "        file.extractall()"
   ]
  },
  {
   "cell_type": "code",
   "execution_count": 107,
   "id": "a4747a03",
   "metadata": {},
   "outputs": [
    {
     "name": "stdout",
     "output_type": "stream",
     "text": [
      "1_zip_read_write.ipynb\tf1.txt\tf2.txt\tf3.txt\tmulti.zip\r\n"
     ]
    }
   ],
   "source": [
    "!ls"
   ]
  },
  {
   "cell_type": "markdown",
   "id": "32f733f4",
   "metadata": {},
   "source": [
    "# extract in new folder"
   ]
  },
  {
   "cell_type": "code",
   "execution_count": 108,
   "id": "ab64dd49",
   "metadata": {},
   "outputs": [
    {
     "name": "stdout",
     "output_type": "stream",
     "text": [
      "1_zip_read_write.ipynb\tmulti.zip\r\n"
     ]
    }
   ],
   "source": [
    "! rm f1.txt f2.txt f3.txt\n",
    "!ls"
   ]
  },
  {
   "cell_type": "code",
   "execution_count": 109,
   "id": "f76fc360",
   "metadata": {},
   "outputs": [
    {
     "name": "stdout",
     "output_type": "stream",
     "text": [
      "File Name                                             Modified             Size\n",
      "f1.txt                                         2023-02-19 00:13:36            7\n",
      "f2.txt                                         2023-02-19 00:13:36            7\n",
      "f3.txt                                         2023-02-19 00:13:36            7\n",
      "None\n"
     ]
    }
   ],
   "source": [
    "with zipfile.ZipFile(\"multi.zip\",\"r\") as file:\n",
    "        # password accept only in bytes\n",
    "        print(file.printdir())\n",
    "        file.setpassword(b\"pass\")\n",
    "        file.extractall(\"myfiles\") # add foldername"
   ]
  },
  {
   "cell_type": "code",
   "execution_count": 111,
   "id": "5439e11b",
   "metadata": {},
   "outputs": [
    {
     "name": "stdout",
     "output_type": "stream",
     "text": [
      "1_zip_read_write.ipynb\tmulti.zip  myfiles\r\n"
     ]
    }
   ],
   "source": [
    "!ls"
   ]
  },
  {
   "cell_type": "code",
   "execution_count": 112,
   "id": "cfc26893",
   "metadata": {},
   "outputs": [
    {
     "name": "stdout",
     "output_type": "stream",
     "text": [
      "f1.txt\tf2.txt\tf3.txt\r\n"
     ]
    }
   ],
   "source": [
    "!ls ./myfiles/"
   ]
  }
 ],
 "metadata": {
  "kernelspec": {
   "display_name": "Python 3 (ipykernel)",
   "language": "python",
   "name": "python3"
  },
  "language_info": {
   "codemirror_mode": {
    "name": "ipython",
    "version": 3
   },
   "file_extension": ".py",
   "mimetype": "text/x-python",
   "name": "python",
   "nbconvert_exporter": "python",
   "pygments_lexer": "ipython3",
   "version": "3.10.6"
  }
 },
 "nbformat": 4,
 "nbformat_minor": 5
}

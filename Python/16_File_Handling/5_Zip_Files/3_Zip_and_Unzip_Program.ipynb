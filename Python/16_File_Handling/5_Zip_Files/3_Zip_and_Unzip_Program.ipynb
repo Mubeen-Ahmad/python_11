{
 "cells": [
  {
   "cell_type": "code",
   "execution_count": 1,
   "id": "e805ecfc",
   "metadata": {},
   "outputs": [],
   "source": [
    "import pyminizip\n",
    "import zipfile\n",
    "import os"
   ]
  },
  {
   "cell_type": "markdown",
   "id": "39fe3488",
   "metadata": {},
   "source": [
    "# Compress Code"
   ]
  },
  {
   "cell_type": "code",
   "execution_count": 2,
   "id": "f82ac688",
   "metadata": {},
   "outputs": [],
   "source": [
    "class Zip:\n",
    "\n",
    "    def __init__(self,types=None,file=None,filename=None,passwd=None):\n",
    "        self.types = types.lower()\n",
    "        self.file = file\n",
    "        self.filename = filename\n",
    "        self.passwd = passwd\n",
    "        \n",
    "        # validation\n",
    "        if all([self.types, self.file, self.filename]):\n",
    "            \n",
    "            # if single or multiple \n",
    "            if self.types in [\"single\",\"multiple\"]:\n",
    "                \n",
    "                # if single\n",
    "                if self.types == \"single\" and self.passwd == None:\n",
    "                    self.single_with_out_passwd()\n",
    "                \n",
    "                # if single with password\n",
    "                elif self.types == \"single\" and self.passwd != None:\n",
    "                    self.single_with_passwd()\n",
    "                \n",
    "                # if multiple\n",
    "                elif self.types == \"multiple\" and self.passwd == None:\n",
    "                    self.multiple_with_out_passwd()\n",
    "                \n",
    "                # if multiple with password\n",
    "                elif self.types == \"multiple\" and self.passwd != None:\n",
    "                    self.multiple_with_passwd()\n",
    "            \n",
    "            # other wise invalid type\n",
    "            else:\n",
    "                print(\"Invalid type !\")\n",
    "                exit()\n",
    "        \n",
    "        # if Missing Parameter\n",
    "        else:\n",
    "            print(\"Incomplete parameter\")\n",
    "            exit()\n",
    "\n",
    "\n",
    "    def single_with_out_passwd(self):\n",
    "        if os.path.isfile(self.file):\n",
    "            with zipfile.ZipFile(self.filename,\"w\") as file:\n",
    "                file.write(self.file)\n",
    "            print(\"Compress Sucessfully\")\n",
    "        else:\n",
    "            print(\"Invalid file\")\n",
    "\n",
    "    def single_with_passwd(self):\n",
    "\n",
    "        if os.path.isfile(self.file):\n",
    "            pyminizip.compress(self.file,\"\",self.filename,str(self.passwd),9)\n",
    "            print(\"Compress Sucessfully\")\n",
    "\n",
    "        else:\n",
    "            print(\"Invalid file\")\n",
    "\n",
    "    def multiple_with_out_passwd(self):\n",
    "\n",
    "        if os.path.isdir(self.file):\n",
    "\n",
    "            zp = zipfile.ZipFile(self.filename,\"w\")\n",
    "            for root, dirs, files in os.walk(self.file):\n",
    "                for file in files:\n",
    "                    zp.write(os.path.join(root, file))\n",
    "\n",
    "            zp.close()\n",
    "\n",
    "            print(\"Compress Sucessfully\")\n",
    "\n",
    "        else:\n",
    "            print(\"Invalid file\")\n",
    "\n",
    "\n",
    "    def multiple_with_passwd(self):\n",
    "        if os.path.isdir(self.file):\n",
    "\n",
    "            zip_files = []\n",
    "            tmps = []\n",
    "\n",
    "            for root, dirs, files in os.walk(self.file):\n",
    "                for file in files:\n",
    "                    zip_files.append(os.path.join(root,file))\n",
    "                    tmps.append(\"\")\n",
    "            pyminizip.compress_multiple(zip_files,zip_files,self.filename,str(self.passwd),9)\n",
    "            print(\"Compress Sucessfully\")\n",
    "\n",
    "\n",
    "        else:\n",
    "            print(\"Invalid file\")\n"
   ]
  },
  {
   "cell_type": "markdown",
   "id": "12a3c622",
   "metadata": {},
   "source": [
    "# Unzip Code"
   ]
  },
  {
   "cell_type": "code",
   "execution_count": 3,
   "id": "6b2dbf3a",
   "metadata": {},
   "outputs": [],
   "source": [
    "class UnZip:\n",
    "    def __init__(self,file,path):\n",
    "        self.file = file\n",
    "        self.path = path\n",
    "        self.extract()\n",
    "\n",
    "\n",
    "    def extract(self):\n",
    "        with zipfile.ZipFile(self.file,\"r\") as file:\n",
    "            print(file.printdir())\n",
    "\n",
    "            try:\n",
    "                file.extractall(self.path)\n",
    "            except RuntimeError as f:\n",
    "                flg = str(f.args)\n",
    "                st = flg.find(\"password required\")\n",
    "                if st == -1:\n",
    "                    print(\"Error\")\n",
    "                    exit()\n",
    "                    \n",
    "                else:\n",
    "                    print(flg[st:].split('\"')[0])\n",
    "                    zip_pass = input(\"Enter Your Password :- \")\n",
    "                    file.setpassword(bytes(zip_pass,\"utf-8\"))\n",
    "\n",
    "                    try:\n",
    "                        file.extractall(self.path)\n",
    "                    except RuntimeError as wrong:\n",
    "                        if \"Bad password for file\" in wrong.args[0]:\n",
    "                            print(\"Incorrect Password\")\n",
    "                            exit()\n",
    "\n"
   ]
  },
  {
   "cell_type": "markdown",
   "id": "b727195a",
   "metadata": {},
   "source": [
    "# Single File without Password"
   ]
  },
  {
   "cell_type": "code",
   "execution_count": 4,
   "id": "70cf874b",
   "metadata": {},
   "outputs": [
    {
     "name": "stdout",
     "output_type": "stream",
     "text": [
      "1_Working_with_Zip_files.ipynb\tdata.txt\t       mydata.zip\ttemp\r\n",
      "2_Zip_file_methods.ipynb\tmulti_data_secure.zip  new_data\r\n",
      "3_Zip_and_Unzip_Program.ipynb\tmulti_data.zip\t       secure_data.zip\r\n"
     ]
    }
   ],
   "source": [
    "!ls"
   ]
  },
  {
   "cell_type": "code",
   "execution_count": 5,
   "id": "fb5f39e8",
   "metadata": {},
   "outputs": [
    {
     "name": "stdout",
     "output_type": "stream",
     "text": [
      "1_Working_with_Zip_files.ipynb\tdata.txt\t       mydata.zip\ttemp\r\n",
      "2_Zip_file_methods.ipynb\tmulti_data_secure.zip  new_data\r\n",
      "3_Zip_and_Unzip_Program.ipynb\tmulti_data.zip\t       secure_data.zip\r\n"
     ]
    }
   ],
   "source": [
    "# create file\n",
    "! echo \"hy\" > data.txt\n",
    "! ls"
   ]
  },
  {
   "cell_type": "code",
   "execution_count": 6,
   "id": "164d5f96",
   "metadata": {},
   "outputs": [
    {
     "name": "stdout",
     "output_type": "stream",
     "text": [
      "Compress Sucessfully\n"
     ]
    },
    {
     "data": {
      "text/plain": [
       "<__main__.Zip at 0x7fcce829efe0>"
      ]
     },
     "execution_count": 6,
     "metadata": {},
     "output_type": "execute_result"
    }
   ],
   "source": [
    "Zip(types=\"single\",file=\"data.txt\",filename=\"mydata.zip\")"
   ]
  },
  {
   "cell_type": "code",
   "execution_count": 7,
   "id": "924b9584",
   "metadata": {},
   "outputs": [
    {
     "name": "stdout",
     "output_type": "stream",
     "text": [
      "1_Working_with_Zip_files.ipynb\tdata.txt\t       mydata.zip\ttemp\r\n",
      "2_Zip_file_methods.ipynb\tmulti_data_secure.zip  new_data\r\n",
      "3_Zip_and_Unzip_Program.ipynb\tmulti_data.zip\t       secure_data.zip\r\n"
     ]
    }
   ],
   "source": [
    "!ls"
   ]
  },
  {
   "cell_type": "markdown",
   "id": "ac710544",
   "metadata": {},
   "source": [
    "# Single File with Password"
   ]
  },
  {
   "cell_type": "code",
   "execution_count": 8,
   "id": "48acbab3",
   "metadata": {},
   "outputs": [
    {
     "name": "stdout",
     "output_type": "stream",
     "text": [
      "Compress Sucessfully\n"
     ]
    },
    {
     "data": {
      "text/plain": [
       "<__main__.Zip at 0x7fcce829d6c0>"
      ]
     },
     "execution_count": 8,
     "metadata": {},
     "output_type": "execute_result"
    }
   ],
   "source": [
    "Zip(types=\"single\",file=\"data.txt\",filename=\"secure_data.zip\",passwd=12345)"
   ]
  },
  {
   "cell_type": "code",
   "execution_count": 9,
   "id": "176e68db",
   "metadata": {},
   "outputs": [
    {
     "name": "stdout",
     "output_type": "stream",
     "text": [
      "1_Working_with_Zip_files.ipynb\tdata.txt\t       mydata.zip\ttemp\r\n",
      "2_Zip_file_methods.ipynb\tmulti_data_secure.zip  new_data\r\n",
      "3_Zip_and_Unzip_Program.ipynb\tmulti_data.zip\t       secure_data.zip\r\n"
     ]
    }
   ],
   "source": [
    "!ls"
   ]
  },
  {
   "cell_type": "markdown",
   "id": "b6187904",
   "metadata": {},
   "source": [
    "# Multiple Files without Password"
   ]
  },
  {
   "cell_type": "code",
   "execution_count": 10,
   "id": "5428eb30",
   "metadata": {},
   "outputs": [
    {
     "name": "stdout",
     "output_type": "stream",
     "text": [
      "mkdir: cannot create directory ‘temp’: File exists\r\n"
     ]
    }
   ],
   "source": [
    "!mkdir temp\n",
    "!echo \"hy\" > ./temp/1.txt > ./temp/2.txt > ./temp/3.txt "
   ]
  },
  {
   "cell_type": "code",
   "execution_count": 11,
   "id": "3b23decc",
   "metadata": {},
   "outputs": [
    {
     "name": "stdout",
     "output_type": "stream",
     "text": [
      "1.txt  2.txt  3.txt\r\n"
     ]
    }
   ],
   "source": [
    "!ls ./temp/"
   ]
  },
  {
   "cell_type": "code",
   "execution_count": 12,
   "id": "87fc2a90",
   "metadata": {},
   "outputs": [
    {
     "name": "stdout",
     "output_type": "stream",
     "text": [
      "1_Working_with_Zip_files.ipynb\tdata.txt\t       mydata.zip\ttemp\r\n",
      "2_Zip_file_methods.ipynb\tmulti_data_secure.zip  new_data\r\n",
      "3_Zip_and_Unzip_Program.ipynb\tmulti_data.zip\t       secure_data.zip\r\n"
     ]
    }
   ],
   "source": [
    "!ls"
   ]
  },
  {
   "cell_type": "code",
   "execution_count": 13,
   "id": "d2befd83",
   "metadata": {},
   "outputs": [
    {
     "name": "stdout",
     "output_type": "stream",
     "text": [
      "Compress Sucessfully\n"
     ]
    },
    {
     "data": {
      "text/plain": [
       "<__main__.Zip at 0x7fcce829f370>"
      ]
     },
     "execution_count": 13,
     "metadata": {},
     "output_type": "execute_result"
    }
   ],
   "source": [
    "Zip(types=\"multiple\",file=\"./temp\",filename=\"multi_data.zip\")"
   ]
  },
  {
   "cell_type": "code",
   "execution_count": 14,
   "id": "a69a3ce8",
   "metadata": {},
   "outputs": [
    {
     "name": "stdout",
     "output_type": "stream",
     "text": [
      "1_Working_with_Zip_files.ipynb\tdata.txt\t       mydata.zip\ttemp\r\n",
      "2_Zip_file_methods.ipynb\tmulti_data_secure.zip  new_data\r\n",
      "3_Zip_and_Unzip_Program.ipynb\tmulti_data.zip\t       secure_data.zip\r\n"
     ]
    }
   ],
   "source": [
    "!ls"
   ]
  },
  {
   "cell_type": "markdown",
   "id": "bdf562cf",
   "metadata": {},
   "source": [
    "# Multiple Files with Password"
   ]
  },
  {
   "cell_type": "code",
   "execution_count": 15,
   "id": "01241ca4",
   "metadata": {},
   "outputs": [
    {
     "name": "stdout",
     "output_type": "stream",
     "text": [
      "Compress Sucessfully\n"
     ]
    },
    {
     "data": {
      "text/plain": [
       "<__main__.Zip at 0x7fcce829eda0>"
      ]
     },
     "execution_count": 15,
     "metadata": {},
     "output_type": "execute_result"
    }
   ],
   "source": [
    "Zip(types=\"multiple\",file=\"./temp\",filename=\"multi_data_secure.zip\",passwd=12345)"
   ]
  },
  {
   "cell_type": "code",
   "execution_count": 16,
   "id": "593d0148",
   "metadata": {},
   "outputs": [
    {
     "name": "stdout",
     "output_type": "stream",
     "text": [
      "1_Working_with_Zip_files.ipynb\tdata.txt\t       mydata.zip\ttemp\r\n",
      "2_Zip_file_methods.ipynb\tmulti_data_secure.zip  new_data\r\n",
      "3_Zip_and_Unzip_Program.ipynb\tmulti_data.zip\t       secure_data.zip\r\n"
     ]
    }
   ],
   "source": [
    "!ls"
   ]
  },
  {
   "cell_type": "markdown",
   "id": "65116985",
   "metadata": {},
   "source": [
    "# Unzip"
   ]
  },
  {
   "cell_type": "markdown",
   "id": "443c4f9a",
   "metadata": {},
   "source": [
    "# Extract without password file"
   ]
  },
  {
   "cell_type": "code",
   "execution_count": 17,
   "id": "b97e4d4f",
   "metadata": {},
   "outputs": [
    {
     "name": "stdout",
     "output_type": "stream",
     "text": [
      "1_Working_with_Zip_files.ipynb\tdata.txt\t       mydata.zip\ttemp\r\n",
      "2_Zip_file_methods.ipynb\tmulti_data_secure.zip  new_data\r\n",
      "3_Zip_and_Unzip_Program.ipynb\tmulti_data.zip\t       secure_data.zip\r\n"
     ]
    }
   ],
   "source": [
    "!ls"
   ]
  },
  {
   "cell_type": "code",
   "execution_count": 18,
   "id": "cd730ccf",
   "metadata": {},
   "outputs": [
    {
     "name": "stdout",
     "output_type": "stream",
     "text": [
      "File Name                                             Modified             Size\n",
      "temp/2.txt                                     2023-02-20 00:17:22            0\n",
      "temp/3.txt                                     2023-02-20 00:17:22            3\n",
      "temp/1.txt                                     2023-02-20 00:17:22            0\n",
      "None\n"
     ]
    },
    {
     "data": {
      "text/plain": [
       "<__main__.UnZip at 0x7fcce829ec80>"
      ]
     },
     "execution_count": 18,
     "metadata": {},
     "output_type": "execute_result"
    }
   ],
   "source": [
    "UnZip(\"multi_data.zip\",\"./new_data\")"
   ]
  },
  {
   "cell_type": "code",
   "execution_count": 19,
   "id": "136eec71",
   "metadata": {},
   "outputs": [
    {
     "name": "stdout",
     "output_type": "stream",
     "text": [
      "1_Working_with_Zip_files.ipynb\tdata.txt\t       mydata.zip\ttemp\r\n",
      "2_Zip_file_methods.ipynb\tmulti_data_secure.zip  new_data\r\n",
      "3_Zip_and_Unzip_Program.ipynb\tmulti_data.zip\t       secure_data.zip\r\n"
     ]
    }
   ],
   "source": [
    "!ls"
   ]
  },
  {
   "cell_type": "code",
   "execution_count": 20,
   "id": "3c6d1fb1",
   "metadata": {},
   "outputs": [
    {
     "name": "stdout",
     "output_type": "stream",
     "text": [
      "1.txt  2.txt  3.txt\r\n"
     ]
    }
   ],
   "source": [
    "!ls ./new_data/temp/"
   ]
  },
  {
   "cell_type": "markdown",
   "id": "5e49ae0f",
   "metadata": {},
   "source": [
    "# Extract password file"
   ]
  },
  {
   "cell_type": "code",
   "execution_count": 21,
   "id": "c0b85db7",
   "metadata": {},
   "outputs": [
    {
     "name": "stdout",
     "output_type": "stream",
     "text": [
      "1_Working_with_Zip_files.ipynb\tdata.txt\t       mydata.zip\ttemp\r\n",
      "2_Zip_file_methods.ipynb\tmulti_data_secure.zip  new_data\r\n",
      "3_Zip_and_Unzip_Program.ipynb\tmulti_data.zip\t       secure_data.zip\r\n"
     ]
    }
   ],
   "source": [
    "!ls"
   ]
  },
  {
   "cell_type": "code",
   "execution_count": 24,
   "id": "61e474e4",
   "metadata": {},
   "outputs": [
    {
     "name": "stdout",
     "output_type": "stream",
     "text": [
      "File Name                                             Modified             Size\n",
      "./temp/2.txt/2.txt                             2023-02-20 00:17:22            0\n",
      "./temp/3.txt/3.txt                             2023-02-20 00:17:22            3\n",
      "./temp/1.txt/1.txt                             2023-02-20 00:17:22            0\n",
      "None\n",
      "password required for extraction\n",
      "Enter Your Password :- 12345\n"
     ]
    },
    {
     "data": {
      "text/plain": [
       "<__main__.UnZip at 0x7fcce829f3a0>"
      ]
     },
     "execution_count": 24,
     "metadata": {},
     "output_type": "execute_result"
    }
   ],
   "source": [
    "UnZip(\"multi_data_secure.zip\",\"./new_data\")"
   ]
  },
  {
   "cell_type": "code",
   "execution_count": 28,
   "id": "0702782e",
   "metadata": {},
   "outputs": [
    {
     "name": "stdout",
     "output_type": "stream",
     "text": [
      "1_Working_with_Zip_files.ipynb\tdata.txt\t       mydata.zip\ttemp\r\n",
      "2_Zip_file_methods.ipynb\tmulti_data_secure.zip  new_data\r\n",
      "3_Zip_and_Unzip_Program.ipynb\tmulti_data.zip\t       secure_data.zip\r\n"
     ]
    }
   ],
   "source": [
    "!ls"
   ]
  },
  {
   "cell_type": "code",
   "execution_count": 27,
   "id": "dca885ee",
   "metadata": {},
   "outputs": [
    {
     "name": "stdout",
     "output_type": "stream",
     "text": [
      "1.txt  2.txt  3.txt\r\n"
     ]
    }
   ],
   "source": [
    "!ls ./new_data/temp/"
   ]
  },
  {
   "cell_type": "markdown",
   "id": "fb960f74",
   "metadata": {},
   "source": [
    "# trying incorrect password"
   ]
  },
  {
   "cell_type": "code",
   "execution_count": 29,
   "id": "8f9dc84d",
   "metadata": {},
   "outputs": [
    {
     "name": "stdout",
     "output_type": "stream",
     "text": [
      "File Name                                             Modified             Size\n",
      "./temp/2.txt/2.txt                             2023-02-20 00:17:22            0\n",
      "./temp/3.txt/3.txt                             2023-02-20 00:17:22            3\n",
      "./temp/1.txt/1.txt                             2023-02-20 00:17:22            0\n",
      "None\n",
      "password required for extraction\n",
      "Enter Your Password :- mubeen\n",
      "Incorrect Password\n"
     ]
    },
    {
     "data": {
      "text/plain": [
       "<__main__.UnZip at 0x7fcccd18e920>"
      ]
     },
     "execution_count": 29,
     "metadata": {},
     "output_type": "execute_result"
    }
   ],
   "source": [
    "UnZip(\"multi_data_secure.zip\",\"./test\")"
   ]
  }
 ],
 "metadata": {
  "kernelspec": {
   "display_name": "Python 3 (ipykernel)",
   "language": "python",
   "name": "python3"
  },
  "language_info": {
   "codemirror_mode": {
    "name": "ipython",
    "version": 3
   },
   "file_extension": ".py",
   "mimetype": "text/x-python",
   "name": "python",
   "nbconvert_exporter": "python",
   "pygments_lexer": "ipython3",
   "version": "3.10.6"
  }
 },
 "nbformat": 4,
 "nbformat_minor": 5
}

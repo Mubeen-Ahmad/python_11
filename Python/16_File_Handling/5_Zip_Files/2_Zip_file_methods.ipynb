{
 "cells": [
  {
   "cell_type": "markdown",
   "id": "47d77404",
   "metadata": {},
   "source": [
    "## Some Useful Methods and Functions of zipfile.ZipFile and zipfile\n"
   ]
  },
  {
   "cell_type": "code",
   "execution_count": 1,
   "id": "7a10a980",
   "metadata": {},
   "outputs": [],
   "source": [
    "import zipfile"
   ]
  },
  {
   "cell_type": "code",
   "execution_count": 2,
   "id": "49256803",
   "metadata": {},
   "outputs": [
    {
     "name": "stdout",
     "output_type": "stream",
     "text": [
      "1_Working_with_Zip_files.ipynb\tf1.txt\tf3.txt\t    secure.zip\r\n",
      "2_Zip_file_methods.ipynb\tf2.txt\tnew_folder\r\n"
     ]
    }
   ],
   "source": [
    "!ls"
   ]
  },
  {
   "cell_type": "code",
   "execution_count": 3,
   "id": "3680a862",
   "metadata": {},
   "outputs": [
    {
     "name": "stdout",
     "output_type": "stream",
     "text": [
      "1_Working_with_Zip_files.ipynb\tdata.txt  f2.txt  new_folder\r\n",
      "2_Zip_file_methods.ipynb\tf1.txt\t  f3.txt  secure.zip\r\n"
     ]
    }
   ],
   "source": [
    "# create files\n",
    "!echo \"hy\" > data.txt\n",
    "!ls"
   ]
  },
  {
   "cell_type": "code",
   "execution_count": 4,
   "id": "33e42315",
   "metadata": {},
   "outputs": [],
   "source": [
    "# create zip file\n",
    "with zipfile.ZipFile(\"secure.zip\",'w') as f:\n",
    "    f.write(\"data.txt\")\n"
   ]
  },
  {
   "cell_type": "code",
   "execution_count": 5,
   "id": "bacb65fd",
   "metadata": {},
   "outputs": [
    {
     "name": "stdout",
     "output_type": "stream",
     "text": [
      "1_Working_with_Zip_files.ipynb\tdata.txt  f2.txt  new_folder\r\n",
      "2_Zip_file_methods.ipynb\tf1.txt\t  f3.txt  secure.zip\r\n"
     ]
    }
   ],
   "source": [
    "!ls"
   ]
  },
  {
   "cell_type": "markdown",
   "id": "f5eb773e",
   "metadata": {},
   "source": [
    "# zipfile.is_zip\n",
    "<br>\n",
    "\n",
    "- ##  is_zipfile(filename) method of zipfile module returns True if the file is a valid Zip otherwise it returns False."
   ]
  },
  {
   "cell_type": "code",
   "execution_count": 6,
   "id": "973e083f",
   "metadata": {},
   "outputs": [
    {
     "data": {
      "text/plain": [
       "True"
      ]
     },
     "execution_count": 6,
     "metadata": {},
     "output_type": "execute_result"
    }
   ],
   "source": [
    "zipfile.is_zipfile(\"secure.zip\")"
   ]
  },
  {
   "cell_type": "code",
   "execution_count": 7,
   "id": "4241b714",
   "metadata": {},
   "outputs": [
    {
     "data": {
      "text/plain": [
       "False"
      ]
     },
     "execution_count": 7,
     "metadata": {},
     "output_type": "execute_result"
    }
   ],
   "source": [
    "zipfile.is_zipfile(\"data.txt\")"
   ]
  },
  {
   "cell_type": "markdown",
   "id": "0e18683e",
   "metadata": {},
   "source": [
    "# ZipFile.printdir()\n",
    "<br>\n",
    "\n",
    "- ## This method prints a table of contents for the ZIP archive."
   ]
  },
  {
   "cell_type": "code",
   "execution_count": 27,
   "id": "07d934d2",
   "metadata": {},
   "outputs": [],
   "source": [
    "f = zipfile.ZipFile(\"./secure.zip\",\"a\")"
   ]
  },
  {
   "cell_type": "code",
   "execution_count": 9,
   "id": "ece47061",
   "metadata": {},
   "outputs": [
    {
     "name": "stdout",
     "output_type": "stream",
     "text": [
      "File Name                                             Modified             Size\n",
      "data.txt                                       2023-02-19 01:22:32            3\n",
      "None\n"
     ]
    }
   ],
   "source": [
    "print(f.printdir())"
   ]
  },
  {
   "cell_type": "markdown",
   "id": "35c3f6d7",
   "metadata": {},
   "source": [
    "# ZipFile.namelist()\n",
    "<br>\n",
    "\n",
    "- ## This method returns a list of all the file names in the ZIP archive."
   ]
  },
  {
   "cell_type": "code",
   "execution_count": 10,
   "id": "64e32292",
   "metadata": {},
   "outputs": [
    {
     "name": "stdout",
     "output_type": "stream",
     "text": [
      "['data.txt']\n"
     ]
    }
   ],
   "source": [
    "print(f.namelist())"
   ]
  },
  {
   "cell_type": "markdown",
   "id": "a5684565",
   "metadata": {},
   "source": [
    "# ZipFile.comment  \n",
    "<br>\n",
    "\n",
    "- ## This attribute can be used to read or write a comment for the ZIP archive."
   ]
  },
  {
   "cell_type": "code",
   "execution_count": 11,
   "id": "54a44472",
   "metadata": {},
   "outputs": [
    {
     "name": "stdout",
     "output_type": "stream",
     "text": [
      "b'this is comment'\n"
     ]
    }
   ],
   "source": [
    "f.comment = b\"this is comment\" # accept only bytes\n",
    "print(f.comment)"
   ]
  },
  {
   "cell_type": "markdown",
   "id": "1b2edcac",
   "metadata": {},
   "source": [
    "# ZipFile.extract() \n",
    "<br>\n",
    "\n",
    "- ## This method extracts a single file from the ZIP archive to a specified directory."
   ]
  },
  {
   "cell_type": "code",
   "execution_count": 12,
   "id": "c11d73f0",
   "metadata": {},
   "outputs": [
    {
     "data": {
      "text/plain": [
       "'/home/sweeterror404/python/python_11/Python/16_File_Handling/4_Zip_Files/data.txt'"
      ]
     },
     "execution_count": 12,
     "metadata": {},
     "output_type": "execute_result"
    }
   ],
   "source": [
    "f.extract(\"data.txt\")"
   ]
  },
  {
   "cell_type": "code",
   "execution_count": 13,
   "id": "059469a4",
   "metadata": {},
   "outputs": [
    {
     "name": "stdout",
     "output_type": "stream",
     "text": [
      "1_Working_with_Zip_files.ipynb\tdata.txt  f2.txt  new_folder\r\n",
      "2_Zip_file_methods.ipynb\tf1.txt\t  f3.txt  secure.zip\r\n"
     ]
    }
   ],
   "source": [
    "!ls"
   ]
  },
  {
   "cell_type": "code",
   "execution_count": 14,
   "id": "47b159ad",
   "metadata": {},
   "outputs": [
    {
     "name": "stdout",
     "output_type": "stream",
     "text": [
      "1_Working_with_Zip_files.ipynb\tf1.txt\tf3.txt\t    secure.zip\r\n",
      "2_Zip_file_methods.ipynb\tf2.txt\tnew_folder\r\n"
     ]
    }
   ],
   "source": [
    "!rm data.txt\n",
    "!ls"
   ]
  },
  {
   "cell_type": "markdown",
   "id": "080fcc11",
   "metadata": {},
   "source": [
    "# ZipFile.extractall() \n",
    "<br>\n",
    "\n",
    "- ## This method extracts all the files from the ZIP archive to a specified directory."
   ]
  },
  {
   "cell_type": "code",
   "execution_count": 98,
   "id": "f69907c0",
   "metadata": {},
   "outputs": [
    {
     "name": "stdout",
     "output_type": "stream",
     "text": [
      "1_Working_with_Zip_files.ipynb\tf1.txt\tf3.txt\r\n",
      "2_Zip_file_methods.ipynb\tf2.txt\tsecure.zip\r\n"
     ]
    }
   ],
   "source": [
    "# add files\n",
    "\n",
    "!echo \"file_1\" > f1.txt\n",
    "!echo \"file_2\" > f2.txt\n",
    "!echo \"file_3\" > f3.txt \n",
    "\n",
    "!ls"
   ]
  },
  {
   "cell_type": "code",
   "execution_count": 28,
   "id": "80cad9b3",
   "metadata": {},
   "outputs": [],
   "source": [
    "# append in zip\n",
    "f.write(\"./f1.txt\")\n",
    "f.write(\"./f2.txt\")\n",
    "f.write(\"./f3.txt\")"
   ]
  },
  {
   "cell_type": "code",
   "execution_count": 29,
   "id": "1d6459ad",
   "metadata": {},
   "outputs": [
    {
     "name": "stdout",
     "output_type": "stream",
     "text": [
      "File Name                                             Modified             Size\n",
      "data.txt                                       2023-02-19 01:22:32            3\n",
      "f1.txt                                         2023-02-19 01:22:33            7\n",
      "f2.txt                                         2023-02-19 01:22:33            7\n",
      "f3.txt                                         2023-02-19 01:22:33            7\n"
     ]
    }
   ],
   "source": [
    "# check file\n",
    "f.printdir()"
   ]
  },
  {
   "cell_type": "markdown",
   "id": "ad9471d3",
   "metadata": {},
   "source": [
    "## extract all"
   ]
  },
  {
   "cell_type": "code",
   "execution_count": 30,
   "id": "27e0bcee",
   "metadata": {},
   "outputs": [],
   "source": [
    "f.extractall(\"new_folder\")"
   ]
  },
  {
   "cell_type": "code",
   "execution_count": 31,
   "id": "633a0814",
   "metadata": {},
   "outputs": [
    {
     "name": "stdout",
     "output_type": "stream",
     "text": [
      "1_Working_with_Zip_files.ipynb\tf1.txt\tf3.txt\t    secure.zip\r\n",
      "2_Zip_file_methods.ipynb\tf2.txt\tnew_folder\r\n"
     ]
    }
   ],
   "source": [
    "!ls"
   ]
  },
  {
   "cell_type": "code",
   "execution_count": 32,
   "id": "4aecd81d",
   "metadata": {},
   "outputs": [
    {
     "name": "stdout",
     "output_type": "stream",
     "text": [
      "data.txt  f1.txt  f2.txt  f3.txt\r\n"
     ]
    }
   ],
   "source": [
    "!ls ./new_folder/"
   ]
  },
  {
   "cell_type": "markdown",
   "id": "1273da0c",
   "metadata": {},
   "source": [
    "# ZipFile.getinfo()\n",
    "<br>\n",
    "\n",
    "- ## take the file name and return info"
   ]
  },
  {
   "cell_type": "code",
   "execution_count": 38,
   "id": "4d215b91",
   "metadata": {},
   "outputs": [
    {
     "data": {
      "text/plain": [
       "<ZipInfo filename='data.txt' filemode='-rw-rw-r--' file_size=3>"
      ]
     },
     "execution_count": 38,
     "metadata": {},
     "output_type": "execute_result"
    }
   ],
   "source": [
    "f.getinfo(\"data.txt\")"
   ]
  },
  {
   "cell_type": "code",
   "execution_count": 64,
   "id": "46c5e4e7",
   "metadata": {},
   "outputs": [
    {
     "name": "stdout",
     "output_type": "stream",
     "text": [
      "data.txt\n",
      "3\n",
      "b''\n",
      "(2023, 2, 19, 1, 22, 32)\n"
     ]
    }
   ],
   "source": [
    "print(f.getinfo(\"data.txt\").filename)\n",
    "print(f.getinfo(\"data.txt\").file_size)\n",
    "print(f.getinfo(\"data.txt\").comment)\n",
    "print(f.getinfo(\"data.txt\").date_time)\n",
    "# etc"
   ]
  },
  {
   "cell_type": "code",
   "execution_count": 48,
   "id": "92eed893",
   "metadata": {},
   "outputs": [
    {
     "name": "stdout",
     "output_type": "stream",
     "text": [
      "['CRC', 'FileHeader', '__class__', '__delattr__', '__dir__', '__doc__', '__eq__', '__format__', '__ge__', '__getattribute__', '__gt__', '__hash__', '__init__', '__init_subclass__', '__le__', '__lt__', '__module__', '__ne__', '__new__', '__reduce__', '__reduce_ex__', '__repr__', '__setattr__', '__sizeof__', '__slots__', '__str__', '__subclasshook__', '_compresslevel', '_decodeExtra', '_encodeFilenameFlags', '_raw_time', 'comment', 'compress_size', 'compress_type', 'create_system', 'create_version', 'date_time', 'external_attr', 'extra', 'extract_version', 'file_size', 'filename', 'flag_bits', 'from_file', 'header_offset', 'internal_attr', 'is_dir', 'orig_filename', 'reserved', 'volume']\n"
     ]
    }
   ],
   "source": [
    "attr = f.getinfo(\"data.txt\") \n",
    "print(dir(attr))"
   ]
  },
  {
   "cell_type": "markdown",
   "id": "60b7d893",
   "metadata": {},
   "source": [
    "# ZipFile.close()\n",
    "- ## close the file"
   ]
  },
  {
   "cell_type": "code",
   "execution_count": 92,
   "id": "55bd8bd9",
   "metadata": {},
   "outputs": [],
   "source": [
    "f.close()"
   ]
  },
  {
   "cell_type": "markdown",
   "id": "914e582b",
   "metadata": {},
   "source": [
    "# getpassword(bytes)\n",
    " - ## add password if the file are protected"
   ]
  },
  {
   "cell_type": "code",
   "execution_count": 93,
   "id": "46f9e602",
   "metadata": {},
   "outputs": [
    {
     "name": "stdout",
     "output_type": "stream",
     "text": [
      "1_Working_with_Zip_files.ipynb\tf1.txt\tf3.txt\t    secure.zip\r\n",
      "2_Zip_file_methods.ipynb\tf2.txt\tnew_folder\r\n"
     ]
    }
   ],
   "source": [
    "!ls"
   ]
  },
  {
   "cell_type": "code",
   "execution_count": 100,
   "id": "b3d5bede",
   "metadata": {},
   "outputs": [],
   "source": [
    "# remove files\n",
    "!rm -rf new_folder secure.zip"
   ]
  },
  {
   "cell_type": "code",
   "execution_count": 101,
   "id": "2d06c4db",
   "metadata": {},
   "outputs": [
    {
     "name": "stdout",
     "output_type": "stream",
     "text": [
      "1_Working_with_Zip_files.ipynb\tf1.txt\tf3.txt\r\n",
      "2_Zip_file_methods.ipynb\tf2.txt\r\n"
     ]
    }
   ],
   "source": [
    "!ls"
   ]
  },
  {
   "cell_type": "markdown",
   "id": "ea6e8978",
   "metadata": {},
   "source": [
    "# setpassword with pyminizip"
   ]
  },
  {
   "cell_type": "code",
   "execution_count": 105,
   "id": "12dcdb48",
   "metadata": {},
   "outputs": [],
   "source": [
    "import pyminizip\n",
    "pyminizip.compress_multiple(\n",
    "    [\"f1.txt\",\"f2.txt\",\"f3.txt\"],\n",
    "    [\"\",\"\",\"\"],\n",
    "    \"protect.zip\",\n",
    "    \"mubeen\",\n",
    "    9)"
   ]
  },
  {
   "cell_type": "code",
   "execution_count": 107,
   "id": "aed8ec4c",
   "metadata": {},
   "outputs": [],
   "source": [
    "f = zipfile.ZipFile(\"protect.zip\",\"r\")"
   ]
  },
  {
   "cell_type": "markdown",
   "id": "1a1f076d",
   "metadata": {},
   "source": [
    "## add password"
   ]
  },
  {
   "cell_type": "code",
   "execution_count": 108,
   "id": "98effab2",
   "metadata": {},
   "outputs": [],
   "source": [
    "f.setpassword(b\"mubeen\")"
   ]
  },
  {
   "cell_type": "code",
   "execution_count": 109,
   "id": "c5d22c57",
   "metadata": {},
   "outputs": [
    {
     "name": "stdout",
     "output_type": "stream",
     "text": [
      "File Name                                             Modified             Size\n",
      "f1.txt                                         2023-02-19 01:52:30            7\n",
      "f2.txt                                         2023-02-19 01:52:30            7\n",
      "f3.txt                                         2023-02-19 01:52:30            7\n"
     ]
    }
   ],
   "source": [
    "f.printdir()"
   ]
  },
  {
   "cell_type": "markdown",
   "id": "3dbd78fd",
   "metadata": {},
   "source": [
    "# pwd\n",
    "- ## see password"
   ]
  },
  {
   "cell_type": "code",
   "execution_count": 111,
   "id": "df293829",
   "metadata": {},
   "outputs": [
    {
     "data": {
      "text/plain": [
       "b'mubeen'"
      ]
     },
     "execution_count": 111,
     "metadata": {},
     "output_type": "execute_result"
    }
   ],
   "source": [
    "f.pwd"
   ]
  },
  {
   "cell_type": "code",
   "execution_count": 114,
   "id": "d963dab6",
   "metadata": {},
   "outputs": [],
   "source": [
    "# close file\n",
    "f.close()"
   ]
  }
 ],
 "metadata": {
  "kernelspec": {
   "display_name": "Python 3 (ipykernel)",
   "language": "python",
   "name": "python3"
  },
  "language_info": {
   "codemirror_mode": {
    "name": "ipython",
    "version": 3
   },
   "file_extension": ".py",
   "mimetype": "text/x-python",
   "name": "python",
   "nbconvert_exporter": "python",
   "pygments_lexer": "ipython3",
   "version": "3.10.6"
  }
 },
 "nbformat": 4,
 "nbformat_minor": 5
}

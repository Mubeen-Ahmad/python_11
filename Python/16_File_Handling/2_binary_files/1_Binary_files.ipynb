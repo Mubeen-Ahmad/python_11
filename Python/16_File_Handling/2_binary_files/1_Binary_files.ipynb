{
 "cells": [
  {
   "cell_type": "markdown",
   "id": "412ee798",
   "metadata": {},
   "source": [
    "# Binary Modes\n",
    "<br>\n"
   ]
  },
  {
   "cell_type": "markdown",
   "id": "e210b6a6",
   "metadata": {},
   "source": [
    "# rb Mode\n",
    "\n",
    "* ## Opens a file for reading only in binary format. \n",
    "* ## The file pointer is placed at the beginning of the file. This is the default mode."
   ]
  },
  {
   "cell_type": "markdown",
   "id": "8890f56f",
   "metadata": {},
   "source": [
    "# rb+\n",
    "* ## Opens a file for both reading and writing in binary format. \n",
    "* ## The file pointer placed at the beginning of the file."
   ]
  },
  {
   "cell_type": "markdown",
   "id": "646c0800",
   "metadata": {},
   "source": [
    "# wb\n",
    "* ## Opens a file for writing only in binary format. \n",
    "* ## Overwrites the file if the file exists. If the file does not exist, creates a new file for writing."
   ]
  },
  {
   "cell_type": "markdown",
   "id": "6e9fc7bf",
   "metadata": {},
   "source": [
    "# wb+\n",
    "\n",
    "* ## Opens a file for both writing and reading in binary format. \n",
    "* ## Overwrites the existing file if the file exists. \n",
    "* ## If the file does not exist, creates a new file for reading and writing."
   ]
  },
  {
   "cell_type": "markdown",
   "id": "fabfdb19",
   "metadata": {},
   "source": [
    "# ab\n",
    "* ## Opens a file for appending in binary format. \n",
    "* ## The file pointer is at the end of the file if the file exists. \n",
    "* ## That is, the file is in the append mode. \n",
    "* ## If the file does not exist, it creates a new file for writing."
   ]
  },
  {
   "cell_type": "markdown",
   "id": "fa30491a",
   "metadata": {},
   "source": [
    "# ab+\n",
    "\n",
    "* ## Opens a file for both appending and reading in binary format. \n",
    "* ## The file pointer is at the end of the file if the file exists. \n",
    "* ## The file opens in the append mode. \n",
    "* ## If the file does not exist, it creates a new file for reading and writing."
   ]
  },
  {
   "cell_type": "markdown",
   "id": "1a714f22",
   "metadata": {},
   "source": [
    "<br>\n",
    "\n",
    "## Read Binary\n",
    "<br>\n"
   ]
  },
  {
   "cell_type": "code",
   "execution_count": 1,
   "id": "515664b1",
   "metadata": {},
   "outputs": [
    {
     "name": "stdout",
     "output_type": "stream",
     "text": [
      "1_Binary_files.ipynb  logo.jpg\ttemp  tmp\r\n"
     ]
    }
   ],
   "source": [
    "!ls"
   ]
  },
  {
   "cell_type": "markdown",
   "id": "a6cbb82e",
   "metadata": {},
   "source": [
    "## read image logo.jpg"
   ]
  },
  {
   "cell_type": "code",
   "execution_count": 2,
   "id": "fc20e1d4",
   "metadata": {
    "scrolled": true
   },
   "outputs": [
    {
     "name": "stdout",
     "output_type": "stream",
     "text": [
      "b'\\xff\\xd8\\xff\\xdb\\x00\\x84\\x00\\x08\\x06\\x06\\x07\\x06\\x05\\x08\\x07\\x07\\x07\\t\\t\\x08\\n'\n"
     ]
    }
   ],
   "source": [
    "with open(\"logo.jpg\",\"rb\") as file:\n",
    "    print(file.readline()) # read 1 line\n",
    "    "
   ]
  },
  {
   "cell_type": "markdown",
   "id": "c2b3e7b8",
   "metadata": {},
   "source": [
    "# read and Write"
   ]
  },
  {
   "cell_type": "code",
   "execution_count": 3,
   "id": "60ac2d0e",
   "metadata": {},
   "outputs": [
    {
     "name": "stdout",
     "output_type": "stream",
     "text": [
      "b'\\xff\\xd8\\xff\\xdb\\x00\\x84\\x00\\x08\\x06\\x06\\x07\\x06\\x05\\x08\\x07\\x07\\x07\\t\\t\\x08\\n'\n"
     ]
    }
   ],
   "source": [
    "with open(\"logo.jpg\",\"rb+\") as f:\n",
    "    print(f.readline()) # read 1 line\n",
    "    \n",
    "    f.write(f.read()) # re write\n",
    "    "
   ]
  },
  {
   "cell_type": "markdown",
   "id": "11de7c71",
   "metadata": {},
   "source": [
    "# Write File"
   ]
  },
  {
   "cell_type": "code",
   "execution_count": 4,
   "id": "b6d9dde6",
   "metadata": {},
   "outputs": [
    {
     "name": "stdout",
     "output_type": "stream",
     "text": [
      "b'Mubeen'\n"
     ]
    }
   ],
   "source": [
    "with open(\"temp\",\"wb\") as file:\n",
    "    str_data = \"Mubeen\"\n",
    "    \n",
    "    # it is important to first convert data in bytes\n",
    "    binary = bytes(str_data,\"utf-8\")\n",
    "    print(binary)\n",
    "    \n",
    "    # write data\n",
    "    file.write(binary)"
   ]
  },
  {
   "cell_type": "code",
   "execution_count": 5,
   "id": "048b7020",
   "metadata": {},
   "outputs": [
    {
     "name": "stdout",
     "output_type": "stream",
     "text": [
      "1_Binary_files.ipynb  logo.jpg\ttemp  tmp\r\n"
     ]
    }
   ],
   "source": [
    "!ls"
   ]
  },
  {
   "cell_type": "markdown",
   "id": "182a2cf6",
   "metadata": {},
   "source": [
    "## Now read temp file"
   ]
  },
  {
   "cell_type": "code",
   "execution_count": 6,
   "id": "01d9af2f",
   "metadata": {},
   "outputs": [
    {
     "name": "stdout",
     "output_type": "stream",
     "text": [
      "b'Mubeen'\n"
     ]
    }
   ],
   "source": [
    "with open(\"temp\",\"rb\") as f:\n",
    "    print(f.read())"
   ]
  },
  {
   "cell_type": "markdown",
   "id": "a8739145",
   "metadata": {},
   "source": [
    "## Write and read "
   ]
  },
  {
   "cell_type": "code",
   "execution_count": 7,
   "id": "a78ea509",
   "metadata": {},
   "outputs": [
    {
     "name": "stdout",
     "output_type": "stream",
     "text": [
      "bytearray(b'd\\xc8\\xff')\n"
     ]
    }
   ],
   "source": [
    "a = [100, 200, 255]\n",
    "myArr = bytearray(a)\n",
    "print(myArr)"
   ]
  },
  {
   "cell_type": "code",
   "execution_count": 8,
   "id": "e3e22b31",
   "metadata": {},
   "outputs": [
    {
     "name": "stdout",
     "output_type": "stream",
     "text": [
      "b'Mubeen'\n"
     ]
    }
   ],
   "source": [
    "with open(\"tmp\",\"wb+\") as file:\n",
    "    \n",
    "    # write data\n",
    "    file.write(bytes(\"Mubeen\",\"utf-8\"))\n",
    "    \n",
    "    # change position\n",
    "    file.seek(0)\n",
    "    \n",
    "    # read data\n",
    "    print(file.read())\n",
    "\n"
   ]
  },
  {
   "cell_type": "markdown",
   "id": "4eca9df5",
   "metadata": {},
   "source": [
    "# append file write only"
   ]
  },
  {
   "cell_type": "code",
   "execution_count": 9,
   "id": "400541c3",
   "metadata": {},
   "outputs": [],
   "source": [
    "with open(\"tmp\",\"ab\") as file:\n",
    "    \n",
    "    file.write(b\"\\new line\")\n",
    "    "
   ]
  },
  {
   "cell_type": "markdown",
   "id": "5bd42fb4",
   "metadata": {},
   "source": [
    "## Now check tmp file"
   ]
  },
  {
   "cell_type": "code",
   "execution_count": 10,
   "id": "df103955",
   "metadata": {},
   "outputs": [
    {
     "name": "stdout",
     "output_type": "stream",
     "text": [
      "b'Mubeen\\new line'\n"
     ]
    }
   ],
   "source": [
    "with open(\"tmp\",\"rb\") as file:\n",
    "    print(file.read())\n",
    "\n"
   ]
  },
  {
   "cell_type": "markdown",
   "id": "cc9239b8",
   "metadata": {},
   "source": [
    "# Append file with write and read"
   ]
  },
  {
   "cell_type": "code",
   "execution_count": 11,
   "id": "554348d1",
   "metadata": {},
   "outputs": [
    {
     "name": "stdout",
     "output_type": "stream",
     "text": [
      "b'Mubeen\\new line'\n",
      "b'Mubeen\\new line\\nnew line 2'\n"
     ]
    }
   ],
   "source": [
    "with open(\"tmp\",\"ab+\") as file:\n",
    "    \n",
    "    # read data\n",
    "    file.seek(0) # change position\n",
    "    print(file.read())\n",
    "    \n",
    "    # write data\n",
    "    file.write(b\"\\nnew line 2\")\n",
    "    \n",
    "    # again read\n",
    "    file.seek(0)\n",
    "    print(file.read())\n"
   ]
  },
  {
   "cell_type": "markdown",
   "id": "4348dc49",
   "metadata": {},
   "source": [
    "# There are same methods are worked in Binary files\n",
    "# <a href=\"https://github.com/Mubeen-Ahmad/python_11/blob/main/Python/16_File_Handling/1_Text_Files/2_methods.ipynb\">click here</a>"
   ]
  }
 ],
 "metadata": {
  "kernelspec": {
   "display_name": "Python 3 (ipykernel)",
   "language": "python",
   "name": "python3"
  },
  "language_info": {
   "codemirror_mode": {
    "name": "ipython",
    "version": 3
   },
   "file_extension": ".py",
   "mimetype": "text/x-python",
   "name": "python",
   "nbconvert_exporter": "python",
   "pygments_lexer": "ipython3",
   "version": "3.10.6"
  }
 },
 "nbformat": 4,
 "nbformat_minor": 5
}

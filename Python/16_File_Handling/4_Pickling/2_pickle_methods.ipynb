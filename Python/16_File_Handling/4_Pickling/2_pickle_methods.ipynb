{
 "cells": [
  {
   "cell_type": "markdown",
   "id": "aacbf353",
   "metadata": {},
   "source": [
    "\n",
    "## The pickle module in Python provides several methods for serializing and deserializing Python objects, as well as working with pickled data. \n",
    "<br>\n",
    "\n",
    "## Here are some of the most commonly used methods:\n",
    "<br>\n"
   ]
  },
  {
   "cell_type": "markdown",
   "id": "3b484e43",
   "metadata": {},
   "source": [
    "# whichmodule\n",
    "<br>\n",
    "\n",
    "- ## The pickle.whichmodule method is a function in the pickle module that can be used to determine the module that a class is defined in. \n",
    "<br>\n",
    "\n",
    "- ## This can be useful when pickling objects that include user-defined classes, since the pickled data includes the name of the class and the name of the module where the class is defined"
   ]
  },
  {
   "cell_type": "code",
   "execution_count": 1,
   "id": "e25471ce",
   "metadata": {},
   "outputs": [],
   "source": [
    "import pickle"
   ]
  },
  {
   "cell_type": "code",
   "execution_count": 2,
   "id": "a0ab6abb",
   "metadata": {},
   "outputs": [
    {
     "data": {
      "text/plain": [
       "'__main__'"
      ]
     },
     "execution_count": 2,
     "metadata": {},
     "output_type": "execute_result"
    }
   ],
   "source": [
    "class MyClass:\n",
    "    pass\n",
    "\n",
    "my_obj = MyClass()\n",
    "\n",
    "pickle.whichmodule(my_obj, \"MyClass\")"
   ]
  },
  {
   "cell_type": "markdown",
   "id": "0c0e5586",
   "metadata": {},
   "source": [
    "# pickle.dump\n",
    "<br>\n",
    "\n",
    "- ## convert in binary and save inside file"
   ]
  },
  {
   "cell_type": "code",
   "execution_count": 3,
   "id": "af46330f",
   "metadata": {},
   "outputs": [],
   "source": [
    "name = \"Mubeen\"\n",
    "\n",
    "with open(\"my_data.pkl\",\"wb\") as f:\n",
    "    pickle.dump(name,f)"
   ]
  },
  {
   "cell_type": "code",
   "execution_count": 4,
   "id": "9baa46b2",
   "metadata": {},
   "outputs": [
    {
     "name": "stdout",
     "output_type": "stream",
     "text": [
      "1_pickling_and_unplicking.ipynb  my_data.pkl\r\n",
      "2_pickle_methods.ipynb\t\t object.pkl\r\n"
     ]
    }
   ],
   "source": [
    "!ls"
   ]
  },
  {
   "cell_type": "markdown",
   "id": "e03add0a",
   "metadata": {},
   "source": [
    "# pickle.load\n",
    "<br>\n",
    "\n",
    "- ## convert binary pickle file to python code"
   ]
  },
  {
   "cell_type": "code",
   "execution_count": 6,
   "id": "9bd6188e",
   "metadata": {},
   "outputs": [
    {
     "name": "stdout",
     "output_type": "stream",
     "text": [
      "Mubeen\n"
     ]
    }
   ],
   "source": [
    "with open(\"my_data.pkl\",\"rb\") as f:\n",
    "    un_pkl = pickle.load(f)\n",
    "    \n",
    "    print(un_pkl)"
   ]
  },
  {
   "cell_type": "markdown",
   "id": "a102e13c",
   "metadata": {},
   "source": [
    "# pickle.dumps\n",
    "<br>\n",
    "\n",
    "- ## convert python code into binary"
   ]
  },
  {
   "cell_type": "code",
   "execution_count": 9,
   "id": "6429ef6c",
   "metadata": {},
   "outputs": [
    {
     "name": "stdout",
     "output_type": "stream",
     "text": [
      "b'\\x80\\x04\\x95\\x0e\\x00\\x00\\x00\\x00\\x00\\x00\\x00\\x8c\\nSweetError\\x94.'\n"
     ]
    }
   ],
   "source": [
    "var = \"SweetError\"\n",
    "\n",
    "pkl = pickle.dumps(var)\n",
    "print(pkl)"
   ]
  },
  {
   "cell_type": "markdown",
   "id": "55415d18",
   "metadata": {},
   "source": [
    "# pickle.loads\n",
    "<br>\n",
    "\n",
    "- ## convert binary pickle code info python"
   ]
  },
  {
   "cell_type": "code",
   "execution_count": 10,
   "id": "0567f948",
   "metadata": {},
   "outputs": [
    {
     "name": "stdout",
     "output_type": "stream",
     "text": [
      "SweetError\n"
     ]
    }
   ],
   "source": [
    "print(pickle.loads(pkl))"
   ]
  },
  {
   "cell_type": "markdown",
   "id": "7a8fc620",
   "metadata": {},
   "source": [
    "# pickle.HIGHEST_PROTOCOL \n",
    "<br>\n",
    "\n",
    "- ## is an integer constant that represents the highest protocol version available for pickling in the Python pickle module. \n",
    "<br>\n",
    "\n",
    "- ## The exact value of pickle.HIGHEST_PROTOCOL depends on the version of Python being used, but it is typically the highest protocol version that is supported by the Python interpreter."
   ]
  },
  {
   "cell_type": "code",
   "execution_count": 20,
   "id": "ef2894ad",
   "metadata": {},
   "outputs": [
    {
     "name": "stdout",
     "output_type": "stream",
     "text": [
      "b'\\x80\\x05\\x95\\x17\\x00\\x00\\x00\\x00\\x00\\x00\\x00}\\x94(\\x8c\\x01a\\x94K\\x01\\x8c\\x01b\\x94K\\x02\\x8c\\x01c\\x94K\\x03u.'\n"
     ]
    }
   ],
   "source": [
    "data = {'a': 1, 'b': 2, 'c': 3}\n",
    "\n",
    "print(pickle.dumps(data,pickle.HIGHEST_PROTOCOL))"
   ]
  },
  {
   "cell_type": "markdown",
   "id": "555e2eee",
   "metadata": {},
   "source": [
    "# pickle.DEFAULT_PROTOCOL\n",
    "<br>\n",
    "\n",
    "- ## pickle.DEFAULT_PROTOCOL is an integer constant that represents the default protocol version used by the Python pickle module when pickling objects using the pickle.dump() and pickle.dumps() methods, if no protocol version is specified.\n",
    "<br>\n",
    "\n",
    "- ## The value of pickle.DEFAULT_PROTOCOL depends on the version of Python being used, but it is typically the highest protocol version that is compatible with all versions of Python. In Python 3.x, the default protocol version is usually 3."
   ]
  },
  {
   "cell_type": "code",
   "execution_count": 21,
   "id": "323e01d3",
   "metadata": {},
   "outputs": [
    {
     "name": "stdout",
     "output_type": "stream",
     "text": [
      "b'\\x80\\x04\\x95\\x17\\x00\\x00\\x00\\x00\\x00\\x00\\x00}\\x94(\\x8c\\x01a\\x94K\\x01\\x8c\\x01b\\x94K\\x02\\x8c\\x01c\\x94K\\x03u.'\n"
     ]
    }
   ],
   "source": [
    "data = {'a': 1, 'b': 2, 'c': 3}\n",
    "\n",
    "print(pickle.dumps(data,pickle.DEFAULT_PROTOCOL))"
   ]
  },
  {
   "cell_type": "markdown",
   "id": "d5c71efb",
   "metadata": {},
   "source": [
    "<br><br>\n",
    "\n",
    "## pickletools is a module in the Python standard library that provides a set of tools for working with the pickle data format. \n",
    "<br>\n",
    "\n",
    "## It contains functions for analyzing and visualizing pickled data, as well as functions for generating more efficient pickled data."
   ]
  },
  {
   "cell_type": "code",
   "execution_count": 22,
   "id": "52daa24f",
   "metadata": {},
   "outputs": [],
   "source": [
    "import pickletools"
   ]
  },
  {
   "cell_type": "markdown",
   "id": "d9c0ea8f",
   "metadata": {},
   "source": [
    "# dis() \n",
    "<br>\n",
    "\n",
    "- ## This function takes a byte string of pickled data and disassembles it into a sequence of instructions. \n",
    "<br>\n",
    "\n",
    "- ## This can be useful for understanding how the data is structured and what objects it contains."
   ]
  },
  {
   "cell_type": "code",
   "execution_count": 25,
   "id": "48c9c2db",
   "metadata": {},
   "outputs": [
    {
     "name": "stdout",
     "output_type": "stream",
     "text": [
      "Mubeen\n"
     ]
    }
   ],
   "source": [
    "class Person:    \n",
    "    def __init__(self,name):\n",
    "        self.name = name\n",
    "        \n",
    "obj = Person(\"Mubeen\")\n",
    "print(obj.name)"
   ]
  },
  {
   "cell_type": "code",
   "execution_count": 26,
   "id": "1473129c",
   "metadata": {},
   "outputs": [
    {
     "name": "stdout",
     "output_type": "stream",
     "text": [
      "b'\\x80\\x04\\x95.\\x00\\x00\\x00\\x00\\x00\\x00\\x00\\x8c\\x08__main__\\x94\\x8c\\x06Person\\x94\\x93\\x94)\\x81\\x94}\\x94\\x8c\\x04name\\x94\\x8c\\x06Mubeen\\x94sb.'\n"
     ]
    }
   ],
   "source": [
    "pkl = pickle.dumps(obj)\n",
    "print(pkl)"
   ]
  },
  {
   "cell_type": "code",
   "execution_count": 27,
   "id": "fb8894db",
   "metadata": {},
   "outputs": [
    {
     "name": "stdout",
     "output_type": "stream",
     "text": [
      "    0: \\x80 PROTO      4\n",
      "    2: \\x95 FRAME      46\n",
      "   11: \\x8c SHORT_BINUNICODE '__main__'\n",
      "   21: \\x94 MEMOIZE    (as 0)\n",
      "   22: \\x8c SHORT_BINUNICODE 'Person'\n",
      "   30: \\x94 MEMOIZE    (as 1)\n",
      "   31: \\x93 STACK_GLOBAL\n",
      "   32: \\x94 MEMOIZE    (as 2)\n",
      "   33: )    EMPTY_TUPLE\n",
      "   34: \\x81 NEWOBJ\n",
      "   35: \\x94 MEMOIZE    (as 3)\n",
      "   36: }    EMPTY_DICT\n",
      "   37: \\x94 MEMOIZE    (as 4)\n",
      "   38: \\x8c SHORT_BINUNICODE 'name'\n",
      "   44: \\x94 MEMOIZE    (as 5)\n",
      "   45: \\x8c SHORT_BINUNICODE 'Mubeen'\n",
      "   53: \\x94 MEMOIZE    (as 6)\n",
      "   54: s    SETITEM\n",
      "   55: b    BUILD\n",
      "   56: .    STOP\n",
      "highest protocol among opcodes = 4\n"
     ]
    }
   ],
   "source": [
    "pickletools.dis(pkl)"
   ]
  },
  {
   "cell_type": "markdown",
   "id": "1813b4aa",
   "metadata": {},
   "source": [
    " # optimize()\n",
    " <br>\n",
    " \n",
    " - ## This function takes a byte string of pickled data and optimizes it by removing unnecessary instructions. This can make the pickled data smaller and more efficient.\n"
   ]
  },
  {
   "cell_type": "code",
   "execution_count": 29,
   "id": "e8d8b9dd",
   "metadata": {},
   "outputs": [
    {
     "data": {
      "text/plain": [
       "b\"\\x80\\x04\\x95'\\x00\\x00\\x00\\x00\\x00\\x00\\x00\\x8c\\x08__main__\\x8c\\x06Person\\x93)\\x81}\\x8c\\x04name\\x8c\\x06Mubeensb.\""
      ]
     },
     "execution_count": 29,
     "metadata": {},
     "output_type": "execute_result"
    }
   ],
   "source": [
    "pickletools.optimize(pkl)"
   ]
  },
  {
   "cell_type": "markdown",
   "id": "02564b8d",
   "metadata": {},
   "source": [
    "## Now check lenght normal dumps and optimize "
   ]
  },
  {
   "cell_type": "code",
   "execution_count": 30,
   "id": "31e8b4f3",
   "metadata": {},
   "outputs": [
    {
     "name": "stdout",
     "output_type": "stream",
     "text": [
      "Normal -> length 57\n",
      "Optimize -> length 50\n"
     ]
    }
   ],
   "source": [
    "print(\"Normal -> length\",len(pkl))\n",
    "print(\"Optimize -> length\",len(pickletools.optimize(pkl)))"
   ]
  }
 ],
 "metadata": {
  "kernelspec": {
   "display_name": "Python 3 (ipykernel)",
   "language": "python",
   "name": "python3"
  },
  "language_info": {
   "codemirror_mode": {
    "name": "ipython",
    "version": 3
   },
   "file_extension": ".py",
   "mimetype": "text/x-python",
   "name": "python",
   "nbconvert_exporter": "python",
   "pygments_lexer": "ipython3",
   "version": "3.10.6"
  }
 },
 "nbformat": 4,
 "nbformat_minor": 5
}

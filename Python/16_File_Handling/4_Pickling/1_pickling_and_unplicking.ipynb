{
 "cells": [
  {
   "cell_type": "markdown",
   "id": "c616665c",
   "metadata": {},
   "source": [
    "# Pickling"
   ]
  },
  {
   "cell_type": "markdown",
   "id": "dd1b0135",
   "metadata": {},
   "source": [
    "## The Process whereby a python object Hierarchy is converted into a byte Stream Called Pickling"
   ]
  },
  {
   "cell_type": "markdown",
   "id": "4fec5c8b",
   "metadata": {},
   "source": [
    "<br>\n",
    "\n",
    "# Unpickling"
   ]
  },
  {
   "cell_type": "markdown",
   "id": "25bbe7c4",
   "metadata": {},
   "source": [
    "## Unpickling is the inverse operation, whereby a byte stream (from a Binary file or Bytes like object) is converted back into the object Hierarchy"
   ]
  },
  {
   "cell_type": "code",
   "execution_count": 1,
   "id": "e7aa3b71",
   "metadata": {},
   "outputs": [],
   "source": [
    "class Person:\n",
    "    \n",
    "    def __init__(self,name,study):\n",
    "        self.name = name\n",
    "        self.study = study\n",
    "        \n",
    "    def info(self):\n",
    "        return f\"Name {self.name} Study {self.study}\""
   ]
  },
  {
   "cell_type": "code",
   "execution_count": 2,
   "id": "7af4b782",
   "metadata": {},
   "outputs": [],
   "source": [
    "person = Person(\"Mubeen\",\"Ai\")"
   ]
  },
  {
   "cell_type": "code",
   "execution_count": 3,
   "id": "d0a07093",
   "metadata": {},
   "outputs": [
    {
     "data": {
      "text/plain": [
       "'Name Mubeen Study Ai'"
      ]
     },
     "execution_count": 3,
     "metadata": {},
     "output_type": "execute_result"
    }
   ],
   "source": [
    "person.info()"
   ]
  },
  {
   "cell_type": "markdown",
   "id": "152eb961",
   "metadata": {},
   "source": [
    "# Now Dump in pickle"
   ]
  },
  {
   "cell_type": "code",
   "execution_count": 4,
   "id": "813e19d8",
   "metadata": {},
   "outputs": [],
   "source": [
    "import pickle"
   ]
  },
  {
   "cell_type": "code",
   "execution_count": 5,
   "id": "2e215ea1",
   "metadata": {},
   "outputs": [
    {
     "name": "stdout",
     "output_type": "stream",
     "text": [
      "b'\\x80\\x04\\x95<\\x00\\x00\\x00\\x00\\x00\\x00\\x00\\x8c\\x08__main__\\x94\\x8c\\x06Person\\x94\\x93\\x94)\\x81\\x94}\\x94(\\x8c\\x04name\\x94\\x8c\\x06Mubeen\\x94\\x8c\\x05study\\x94\\x8c\\x02Ai\\x94ub.'\n"
     ]
    }
   ],
   "source": [
    "pkl = pickle.dumps(person)\n",
    "print(pkl)"
   ]
  },
  {
   "cell_type": "markdown",
   "id": "3ede83d2",
   "metadata": {},
   "source": [
    "# Now Unpickling with loads"
   ]
  },
  {
   "cell_type": "code",
   "execution_count": 6,
   "id": "237372a9",
   "metadata": {},
   "outputs": [
    {
     "data": {
      "text/plain": [
       "<__main__.Person at 0x7f7e74d637f0>"
      ]
     },
     "execution_count": 6,
     "metadata": {},
     "output_type": "execute_result"
    }
   ],
   "source": [
    "un_pkl = pickle.loads(pkl)\n",
    "un_pkl"
   ]
  },
  {
   "cell_type": "markdown",
   "id": "f5de19f3",
   "metadata": {},
   "source": [
    "# Now we used Object in Code"
   ]
  },
  {
   "cell_type": "code",
   "execution_count": 7,
   "id": "926912df",
   "metadata": {},
   "outputs": [
    {
     "data": {
      "text/plain": [
       "'Mubeen'"
      ]
     },
     "execution_count": 7,
     "metadata": {},
     "output_type": "execute_result"
    }
   ],
   "source": [
    "un_pkl.name"
   ]
  },
  {
   "cell_type": "code",
   "execution_count": 8,
   "id": "c4178854",
   "metadata": {},
   "outputs": [
    {
     "data": {
      "text/plain": [
       "'Ai'"
      ]
     },
     "execution_count": 8,
     "metadata": {},
     "output_type": "execute_result"
    }
   ],
   "source": [
    "un_pkl.study"
   ]
  },
  {
   "cell_type": "code",
   "execution_count": 9,
   "id": "7efeb496",
   "metadata": {},
   "outputs": [
    {
     "data": {
      "text/plain": [
       "'Name Mubeen Study Ai'"
      ]
     },
     "execution_count": 9,
     "metadata": {},
     "output_type": "execute_result"
    }
   ],
   "source": [
    "un_pkl.info()"
   ]
  },
  {
   "cell_type": "markdown",
   "id": "72264946",
   "metadata": {},
   "source": [
    "# We also store objects in file"
   ]
  },
  {
   "cell_type": "markdown",
   "id": "ae8e8d59",
   "metadata": {},
   "source": [
    "# File Modes"
   ]
  },
  {
   "cell_type": "markdown",
   "id": "b15c33ba",
   "metadata": {},
   "source": [
    " - ## 'rb': This mode opens the file in binary read mode. You can use this mode to read data from a pickled file.\n",
    "<br><br>\n",
    "\n",
    "- ## 'wb': This mode opens the file in binary write mode. You can use this mode to write data to a pickled file. If the file already exists, it will be overwritten.\n",
    "<br><br>\n",
    "\n",
    "- ## 'ab': This mode opens the file in binary append mode. You can use this mode to add data to a pickled file.\n",
    "<br><br>\n",
    "\n",
    "- ## 'r': This mode opens the file in text read mode. You can use this mode to read data from a pickled file that was created using text mode.\n",
    "<br><br>\n",
    "\n",
    "- ##  'w': This mode opens the file in text write mode. You can use this mode to write data to a pickled file using text mode.\n",
    "<br><br>\n",
    "\n",
    "- ## 'a': This mode opens the file in text append mode. You can use this mode to add data to a pickled file using text mode.\n",
    "<br><br>\n",
    "\n"
   ]
  },
  {
   "cell_type": "markdown",
   "id": "2137eb59",
   "metadata": {},
   "source": [
    "# But\n",
    "<br>\n",
    "\n",
    "## When pickling Python objects, it's generally recommended to use binary mode ('rb', 'wb', or 'ab') to avoid potential encoding issues.\n"
   ]
  },
  {
   "cell_type": "markdown",
   "id": "13f15924",
   "metadata": {},
   "source": [
    "# wb Write Mode"
   ]
  },
  {
   "cell_type": "code",
   "execution_count": 10,
   "id": "1614d863",
   "metadata": {},
   "outputs": [],
   "source": [
    "# use dump in .pkl format\n",
    "with open(\"object.pkl\",\"wb\") as f: # --> write mode \n",
    "    pickle.dump(person,f)"
   ]
  },
  {
   "cell_type": "code",
   "execution_count": 11,
   "id": "1430fd5d",
   "metadata": {},
   "outputs": [
    {
     "name": "stdout",
     "output_type": "stream",
     "text": [
      "1_pickling_and_unplicking.ipynb  object.pkl\r\n"
     ]
    }
   ],
   "source": [
    "!ls"
   ]
  },
  {
   "cell_type": "markdown",
   "id": "fab8f619",
   "metadata": {},
   "source": [
    "# rb Read Mode"
   ]
  },
  {
   "cell_type": "markdown",
   "id": "c93f5439",
   "metadata": {},
   "source": [
    "# load file"
   ]
  },
  {
   "cell_type": "code",
   "execution_count": 12,
   "id": "3fc8efcb",
   "metadata": {},
   "outputs": [
    {
     "name": "stdout",
     "output_type": "stream",
     "text": [
      "<__main__.Person object at 0x7f7e74d275b0>\n",
      "Name Mubeen Study Ai\n"
     ]
    }
   ],
   "source": [
    "with open(\"object.pkl\",\"rb\") as f: # --> read mode \n",
    "    un_pkl = pickle.load(f)\n",
    "    print(un_pkl)\n",
    "    \n",
    "    # now we used this object in code\n",
    "    print(un_pkl.info())"
   ]
  },
  {
   "cell_type": "markdown",
   "id": "9bd21410",
   "metadata": {},
   "source": [
    "# ab Append Mode"
   ]
  },
  {
   "cell_type": "code",
   "execution_count": 13,
   "id": "541ad1f8",
   "metadata": {},
   "outputs": [
    {
     "name": "stdout",
     "output_type": "stream",
     "text": [
      "b'\\x80\\x04\\x95<\\x00\\x00\\x00\\x00\\x00\\x00\\x00\\x8c\\x08__main__\\x94\\x8c\\x06Person\\x94\\x93\\x94)\\x81\\x94}\\x94(\\x8c\\x04name\\x94\\x8c\\x06Mubeen\\x94\\x8c\\x05study\\x94\\x8c\\x02Ai\\x94ub.'\n",
      "\n",
      "\n",
      "<__main__.Person object at 0x7f7e74d63370>\n"
     ]
    }
   ],
   "source": [
    "with open(\"object.pkl\",\"ab+\") as f: # here i use ab + means also read the file\n",
    "    f.seek(0) #\n",
    "    print(f.read())\n",
    "    \n",
    "    # load object\n",
    "    f.seek(0) # again change position\n",
    "    un_pkl = pickle.load(f)\n",
    "    print(\"\\n\")\n",
    "    print(un_pkl)\n",
    "    \n",
    "    # now add more code\n",
    "    data = \"Hello World\"\n",
    "    pickle.dump(data,f)"
   ]
  },
  {
   "cell_type": "markdown",
   "id": "f61507a7",
   "metadata": {},
   "source": [
    "# Now load again"
   ]
  },
  {
   "cell_type": "code",
   "execution_count": 16,
   "id": "61deb36b",
   "metadata": {},
   "outputs": [
    {
     "name": "stdout",
     "output_type": "stream",
     "text": [
      "Name Mubeen Study Ai\n",
      "Hello World\n"
     ]
    }
   ],
   "source": [
    "with open(\"object.pkl\",\"rb\") as f: # --> read mode \n",
    "    un_pkl = pickle.load(f)\n",
    "    \n",
    "    # now we used this object in code\n",
    "    print(un_pkl.info())\n",
    "    \n",
    "    # access data variable\n",
    "    print(data)"
   ]
  }
 ],
 "metadata": {
  "kernelspec": {
   "display_name": "Python 3 (ipykernel)",
   "language": "python",
   "name": "python3"
  },
  "language_info": {
   "codemirror_mode": {
    "name": "ipython",
    "version": 3
   },
   "file_extension": ".py",
   "mimetype": "text/x-python",
   "name": "python",
   "nbconvert_exporter": "python",
   "pygments_lexer": "ipython3",
   "version": "3.10.6"
  }
 },
 "nbformat": 4,
 "nbformat_minor": 5
}
